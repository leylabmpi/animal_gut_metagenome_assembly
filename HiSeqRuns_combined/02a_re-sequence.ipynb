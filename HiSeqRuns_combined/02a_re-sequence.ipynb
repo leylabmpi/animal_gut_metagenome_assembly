{
 "cells": [
  {
   "cell_type": "markdown",
   "metadata": {
    "toc": true
   },
   "source": [
    "<h1>Table of Contents<span class=\"tocSkip\"></span></h1>\n",
    "<div class=\"toc\"><ul class=\"toc-item\"><li><span><a href=\"#Goal\" data-toc-modified-id=\"Goal-1\"><span class=\"toc-item-num\">1&nbsp;&nbsp;</span>Goal</a></span></li><li><span><a href=\"#Var\" data-toc-modified-id=\"Var-2\"><span class=\"toc-item-num\">2&nbsp;&nbsp;</span>Var</a></span></li><li><span><a href=\"#Init\" data-toc-modified-id=\"Init-3\"><span class=\"toc-item-num\">3&nbsp;&nbsp;</span>Init</a></span></li><li><span><a href=\"#Load\" data-toc-modified-id=\"Load-4\"><span class=\"toc-item-num\">4&nbsp;&nbsp;</span>Load</a></span><ul class=\"toc-item\"><li><span><a href=\"#Sample-sheets\" data-toc-modified-id=\"Sample-sheets-4.1\"><span class=\"toc-item-num\">4.1&nbsp;&nbsp;</span>Sample sheets</a></span></li><li><span><a href=\"#Merged-post-QC-sequences-from-all-existing-runs\" data-toc-modified-id=\"Merged-post-QC-sequences-from-all-existing-runs-4.2\"><span class=\"toc-item-num\">4.2&nbsp;&nbsp;</span>Merged post-QC sequences from all existing runs</a></span></li><li><span><a href=\"#Sample-metadata\" data-toc-modified-id=\"Sample-metadata-4.3\"><span class=\"toc-item-num\">4.3&nbsp;&nbsp;</span>Sample metadata</a></span></li></ul></li><li><span><a href=\"#Low-coverage-samples\" data-toc-modified-id=\"Low-coverage-samples-5\"><span class=\"toc-item-num\">5&nbsp;&nbsp;</span>Low coverage samples</a></span></li><li><span><a href=\"#Selecting-libs-from-prev-runs\" data-toc-modified-id=\"Selecting-libs-from-prev-runs-6\"><span class=\"toc-item-num\">6&nbsp;&nbsp;</span>Selecting libs from prev runs</a></span><ul class=\"toc-item\"><li><span><a href=\"#Summary-of-repool\" data-toc-modified-id=\"Summary-of-repool-6.1\"><span class=\"toc-item-num\">6.1&nbsp;&nbsp;</span>Summary of repool</a></span></li><li><span><a href=\"#Overlapping-barcodes?\" data-toc-modified-id=\"Overlapping-barcodes?-6.2\"><span class=\"toc-item-num\">6.2&nbsp;&nbsp;</span>Overlapping barcodes?</a></span></li></ul></li><li><span><a href=\"#Creating-pooling-table\" data-toc-modified-id=\"Creating-pooling-table-7\"><span class=\"toc-item-num\">7&nbsp;&nbsp;</span>Creating pooling table</a></span><ul class=\"toc-item\"><li><span><a href=\"#Repool:-round-1\" data-toc-modified-id=\"Repool:-round-1-7.1\"><span class=\"toc-item-num\">7.1&nbsp;&nbsp;</span>Repool: round 1</a></span><ul class=\"toc-item\"><li><span><a href=\"#Writing-table\" data-toc-modified-id=\"Writing-table-7.1.1\"><span class=\"toc-item-num\">7.1.1&nbsp;&nbsp;</span>Writing table</a></span></li></ul></li><li><span><a href=\"#Repool:-round2\" data-toc-modified-id=\"Repool:-round2-7.2\"><span class=\"toc-item-num\">7.2&nbsp;&nbsp;</span>Repool: round2</a></span><ul class=\"toc-item\"><li><span><a href=\"#Writing-tabel\" data-toc-modified-id=\"Writing-tabel-7.2.1\"><span class=\"toc-item-num\">7.2.1&nbsp;&nbsp;</span>Writing tabel</a></span></li></ul></li></ul></li><li><span><a href=\"#sessionInfo\" data-toc-modified-id=\"sessionInfo-8\"><span class=\"toc-item-num\">8&nbsp;&nbsp;</span>sessionInfo</a></span></li></ul></div>"
   ]
  },
  {
   "cell_type": "markdown",
   "metadata": {},
   "source": [
    "# Goal\n",
    "\n",
    "* Determine which samples to re-pool & re-sequence due to low coverage"
   ]
  },
  {
   "cell_type": "markdown",
   "metadata": {},
   "source": [
    "# Var"
   ]
  },
  {
   "cell_type": "code",
   "execution_count": 4,
   "metadata": {
    "ExecuteTime": {
     "end_time": "2020-01-22T14:59:01.909503Z",
     "start_time": "2020-01-22T14:59:01.854Z"
    }
   },
   "outputs": [],
   "source": [
    "work_dir = '/ebio/abt3_projects/Georg_animal_feces/data/metagenome/HiSeqRuns126-133-0138/wOutVertebrata/LLMGQC/'\n",
    "\n",
    "# sample sheets for each run\n",
    "run0126_file = '/ebio/abt3_projects/Georg_animal_feces/data/metagenome/HiSeqRun0126/SampleSheet_HiSeq_R0126_L2.tsv'\n",
    "run0133_redo_file = '/ebio/abt3_projects/Georg_animal_feces/data/metagenome/HiSeqRun0133/SampleSheet_HiSeq_R0133_L3_corrected.tsv'\n",
    "run0133_repool_file = '/ebio/abt3_projects/Georg_animal_feces/data/metagenome/HiSeqRun0133/SampleSheet_HiSeq_R0133_L4_corrected.tsv'\n",
    "run0138_file = '/ebio/abt3_projects/Georg_animal_feces/data/metagenome/HiSeqRun0138/SampleSheet_HiSeq_Run138_L8_Georg.tsv'\n",
    "run0163_file = '/ebio/abt3_projects/Georg_animal_feces/data/metagenome/HiSeqRun0163/SampleSheet_HiSeq_Run163_L3.tsv'\n",
    "\n",
    "# post-QC sequence summary\n",
    "qc_file = '/ebio/abt3_projects/Georg_animal_feces/data/metagenome/HiSeqRuns126-133-0138/wOutVertebrata/LLMGQC/sample_qc_summary.tsv'\n",
    "\n",
    "# sample metadata\n",
    "metadata_file = '/ebio/abt3_projects/Georg_animal_feces/data/mapping/unified_metadata_complete_190529.tsv'\n"
   ]
  },
  {
   "cell_type": "markdown",
   "metadata": {},
   "source": [
    "# Init"
   ]
  },
  {
   "cell_type": "code",
   "execution_count": 5,
   "metadata": {
    "ExecuteTime": {
     "end_time": "2020-01-22T14:59:06.322024Z",
     "start_time": "2020-01-22T14:59:06.289Z"
    }
   },
   "outputs": [],
   "source": [
    "library(dplyr)\n",
    "library(tidyr)\n",
    "library(ggplot2)\n",
    "source('/ebio/abt3_projects/Georg_animal_feces/code/misc_r_functions/init.R')"
   ]
  },
  {
   "cell_type": "code",
   "execution_count": 6,
   "metadata": {
    "ExecuteTime": {
     "end_time": "2020-01-22T14:59:07.006909Z",
     "start_time": "2020-01-22T14:59:06.989Z"
    }
   },
   "outputs": [],
   "source": [
    "dt.dims()"
   ]
  },
  {
   "cell_type": "code",
   "execution_count": 87,
   "metadata": {
    "ExecuteTime": {
     "end_time": "2020-01-23T06:58:17.578500Z",
     "start_time": "2020-01-23T06:58:17.526Z"
    }
   },
   "outputs": [],
   "source": [
    "#' Output: named vector (Well --> location); column-wise location\n",
    "well96_index = function(){\n",
    "  wells = c('A1', 'B1', 'C1', 'D1', 'E1', 'F1', 'G1', 'H1',\n",
    "            'A2', 'B2', 'C2', 'D2', 'E2', 'F2', 'G2', 'H2',\n",
    "            'A3', 'B3', 'C3', 'D3', 'E3', 'F3', 'G3', 'H3',\n",
    "            'A4', 'B4', 'C4', 'D4', 'E4', 'F4', 'G4', 'H4',\n",
    "            'A5', 'B5', 'C5', 'D5', 'E5', 'F5', 'G5', 'H5',\n",
    "            'A6', 'B6', 'C6', 'D6', 'E6', 'F6', 'G6', 'H6',\n",
    "            'A7', 'B7', 'C7', 'D7', 'E7', 'F7', 'G7', 'H7',\n",
    "            'A8', 'B8', 'C8', 'D8', 'E8', 'F8', 'G8', 'H8',\n",
    "            'A9', 'B9', 'C9', 'D9', 'E9', 'F9', 'G9', 'H9',\n",
    "            'A10', 'B10', 'C10', 'D10', 'E10', 'F10', 'G10', 'H10',\n",
    "            'A11', 'B11', 'C11', 'D11', 'E11', 'F11', 'G11', 'H11',\n",
    "            'A12', 'B12', 'C12', 'D12', 'E12', 'F12', 'G12', 'H12')\n",
    "  idx = 1:length(wells)\n",
    "  names(idx) = wells\n",
    "  return(idx)\n",
    "}"
   ]
  },
  {
   "cell_type": "code",
   "execution_count": 93,
   "metadata": {
    "ExecuteTime": {
     "end_time": "2020-01-23T06:59:43.591206Z",
     "start_time": "2020-01-23T06:59:43.539Z"
    }
   },
   "outputs": [],
   "source": [
    "#' input: character vector of wellIDs\n",
    "well2index = function(x, plate_type='96-well'){\n",
    "  x = gsub('([A-Z])0([0-9])', '\\\\1\\\\2', as.character(x))\n",
    "  if(plate_type == '96-well'){\n",
    "    idx = well96_index()\n",
    "  } else\n",
    "  if(plate_type == '384-well'){\n",
    "    idx = well384_index()\n",
    "  } else {\n",
    "    stop('Do not recoginize plate type')\n",
    "  }\n",
    "  return(as.numeric(idx[x]))\n",
    "}"
   ]
  },
  {
   "cell_type": "markdown",
   "metadata": {},
   "source": [
    "# Load"
   ]
  },
  {
   "cell_type": "markdown",
   "metadata": {},
   "source": [
    "## Sample sheets"
   ]
  },
  {
   "cell_type": "code",
   "execution_count": 19,
   "metadata": {
    "ExecuteTime": {
     "end_time": "2020-01-22T15:04:26.805325Z",
     "start_time": "2020-01-22T15:04:26.748Z"
    }
   },
   "outputs": [
    {
     "data": {
      "text/html": [
       "<table>\n",
       "<caption>A data.frame: 799 × 12</caption>\n",
       "<thead>\n",
       "\t<tr><th scope=col>Lane</th><th scope=col>Sample_ID</th><th scope=col>Sample_Name</th><th scope=col>Sample_Plate</th><th scope=col>Sample_Well</th><th scope=col>I7_Index_ID</th><th scope=col>index</th><th scope=col>I5_Index_ID</th><th scope=col>index2</th><th scope=col>Sample_Project</th><th scope=col>Description</th><th scope=col>run</th></tr>\n",
       "\t<tr><th scope=col>&lt;int&gt;</th><th scope=col>&lt;chr&gt;</th><th scope=col>&lt;chr&gt;</th><th scope=col>&lt;chr&gt;</th><th scope=col>&lt;chr&gt;</th><th scope=col>&lt;chr&gt;</th><th scope=col>&lt;fct&gt;</th><th scope=col>&lt;chr&gt;</th><th scope=col>&lt;fct&gt;</th><th scope=col>&lt;fct&gt;</th><th scope=col>&lt;fct&gt;</th><th scope=col>&lt;dbl&gt;</th></tr>\n",
       "</thead>\n",
       "<tbody>\n",
       "\t<tr><td>1</td><td>X1_Eurasian_Beaver</td><td>NA</td><td>NA</td><td>NA</td><td>1</td><td>TAAGGCGA</td><td>1</td><td>GCGATCTA</td><td>Georg_animal_feces</td><td>nyoungblut</td><td>126</td></tr>\n",
       "\t<tr><td>1</td><td>X2_Raccoon_Dog    </td><td>NA</td><td>NA</td><td>NA</td><td>2</td><td>CGTACTAG</td><td>1</td><td>GCGATCTA</td><td>Georg_animal_feces</td><td>nyoungblut</td><td>126</td></tr>\n",
       "\t<tr><td>⋮</td><td>⋮</td><td>⋮</td><td>⋮</td><td>⋮</td><td>⋮</td><td>⋮</td><td>⋮</td><td>⋮</td><td>⋮</td><td>⋮</td><td>⋮</td></tr>\n",
       "\t<tr><td>3</td><td>X434_Blue_Wildebeest</td><td>X434_Blue_Wildebeest</td><td>plate2</td><td>E01</td><td>N716</td><td>ACTCGCTA</td><td>S519</td><td>ATGTCAAT</td><td>Georg_animal_gut_metagenome</td><td>sdauser</td><td>163</td></tr>\n",
       "\t<tr><td>3</td><td>X435_Bactrian_Camel </td><td>X435_Bactrian_Camel </td><td>plate2</td><td>F01</td><td>N718</td><td>GGAGCTAC</td><td>S519</td><td>ATGTCAAT</td><td>Georg_animal_gut_metagenome</td><td>sdauser</td><td>163</td></tr>\n",
       "</tbody>\n",
       "</table>\n"
      ],
      "text/latex": [
       "A data.frame: 799 × 12\n",
       "\\begin{tabular}{llllllllllll}\n",
       " Lane & Sample\\_ID & Sample\\_Name & Sample\\_Plate & Sample\\_Well & I7\\_Index\\_ID & index & I5\\_Index\\_ID & index2 & Sample\\_Project & Description & run\\\\\n",
       " <int> & <chr> & <chr> & <chr> & <chr> & <chr> & <fct> & <chr> & <fct> & <fct> & <fct> & <dbl>\\\\\n",
       "\\hline\n",
       "\t 1 & X1\\_Eurasian\\_Beaver & NA & NA & NA & 1 & TAAGGCGA & 1 & GCGATCTA & Georg\\_animal\\_feces & nyoungblut & 126\\\\\n",
       "\t 1 & X2\\_Raccoon\\_Dog     & NA & NA & NA & 2 & CGTACTAG & 1 & GCGATCTA & Georg\\_animal\\_feces & nyoungblut & 126\\\\\n",
       "\t ⋮ & ⋮ & ⋮ & ⋮ & ⋮ & ⋮ & ⋮ & ⋮ & ⋮ & ⋮ & ⋮ & ⋮\\\\\n",
       "\t 3 & X434\\_Blue\\_Wildebeest & X434\\_Blue\\_Wildebeest & plate2 & E01 & N716 & ACTCGCTA & S519 & ATGTCAAT & Georg\\_animal\\_gut\\_metagenome & sdauser & 163\\\\\n",
       "\t 3 & X435\\_Bactrian\\_Camel  & X435\\_Bactrian\\_Camel  & plate2 & F01 & N718 & GGAGCTAC & S519 & ATGTCAAT & Georg\\_animal\\_gut\\_metagenome & sdauser & 163\\\\\n",
       "\\end{tabular}\n"
      ],
      "text/markdown": [
       "\n",
       "A data.frame: 799 × 12\n",
       "\n",
       "| Lane &lt;int&gt; | Sample_ID &lt;chr&gt; | Sample_Name &lt;chr&gt; | Sample_Plate &lt;chr&gt; | Sample_Well &lt;chr&gt; | I7_Index_ID &lt;chr&gt; | index &lt;fct&gt; | I5_Index_ID &lt;chr&gt; | index2 &lt;fct&gt; | Sample_Project &lt;fct&gt; | Description &lt;fct&gt; | run &lt;dbl&gt; |\n",
       "|---|---|---|---|---|---|---|---|---|---|---|---|\n",
       "| 1 | X1_Eurasian_Beaver | NA | NA | NA | 1 | TAAGGCGA | 1 | GCGATCTA | Georg_animal_feces | nyoungblut | 126 |\n",
       "| 1 | X2_Raccoon_Dog     | NA | NA | NA | 2 | CGTACTAG | 1 | GCGATCTA | Georg_animal_feces | nyoungblut | 126 |\n",
       "| ⋮ | ⋮ | ⋮ | ⋮ | ⋮ | ⋮ | ⋮ | ⋮ | ⋮ | ⋮ | ⋮ | ⋮ |\n",
       "| 3 | X434_Blue_Wildebeest | X434_Blue_Wildebeest | plate2 | E01 | N716 | ACTCGCTA | S519 | ATGTCAAT | Georg_animal_gut_metagenome | sdauser | 163 |\n",
       "| 3 | X435_Bactrian_Camel  | X435_Bactrian_Camel  | plate2 | F01 | N718 | GGAGCTAC | S519 | ATGTCAAT | Georg_animal_gut_metagenome | sdauser | 163 |\n",
       "\n"
      ],
      "text/plain": [
       "    Lane Sample_ID            Sample_Name          Sample_Plate Sample_Well\n",
       "1   1    X1_Eurasian_Beaver   NA                   NA           NA         \n",
       "2   1    X2_Raccoon_Dog       NA                   NA           NA         \n",
       "⋮   ⋮    ⋮                    ⋮                    ⋮            ⋮          \n",
       "798 3    X434_Blue_Wildebeest X434_Blue_Wildebeest plate2       E01        \n",
       "799 3    X435_Bactrian_Camel  X435_Bactrian_Camel  plate2       F01        \n",
       "    I7_Index_ID index    I5_Index_ID index2   Sample_Project             \n",
       "1   1           TAAGGCGA 1           GCGATCTA Georg_animal_feces         \n",
       "2   2           CGTACTAG 1           GCGATCTA Georg_animal_feces         \n",
       "⋮   ⋮           ⋮        ⋮           ⋮        ⋮                          \n",
       "798 N716        ACTCGCTA S519        ATGTCAAT Georg_animal_gut_metagenome\n",
       "799 N718        GGAGCTAC S519        ATGTCAAT Georg_animal_gut_metagenome\n",
       "    Description run\n",
       "1   nyoungblut  126\n",
       "2   nyoungblut  126\n",
       "⋮   ⋮           ⋮  \n",
       "798 sdauser     163\n",
       "799 sdauser     163"
      ]
     },
     "metadata": {},
     "output_type": "display_data"
    }
   ],
   "source": [
    "files = c(run0126_file, run0133_redo_file, run0133_repool_file, run0138_file, run0163_file)\n",
    "read_sheet = function(F){\n",
    "    df = read.delim(F, sep='\\t')\n",
    "    df$run = gsub('HiSeqRun', '', basename(dirname(F)))\n",
    "    return(df)\n",
    "}\n",
    "samp_sheets = files %>% \n",
    "    lapply(read_sheet) %>%\n",
    "    do.call(rbind, .) %>%\n",
    "    mutate(run = run %>% as.numeric,\n",
    "           Sample_ID = gsub('^(F[0-9])', 'X\\\\1', Sample_ID))\n",
    "\n",
    "samp_sheets"
   ]
  },
  {
   "cell_type": "markdown",
   "metadata": {},
   "source": [
    "## Merged post-QC sequences from all existing runs"
   ]
  },
  {
   "cell_type": "code",
   "execution_count": 20,
   "metadata": {
    "ExecuteTime": {
     "end_time": "2020-01-22T15:04:29.803570Z",
     "start_time": "2020-01-22T15:04:29.772Z"
    }
   },
   "outputs": [
    {
     "data": {
      "text/html": [
       "<table>\n",
       "<caption>A data.frame: 308 × 4</caption>\n",
       "<thead>\n",
       "\t<tr><th scope=col>Sample</th><th scope=col>Total.Sequences</th><th scope=col>nonpareil_coverage</th><th scope=col>nonpareil_diversity</th></tr>\n",
       "\t<tr><th scope=col>&lt;fct&gt;</th><th scope=col>&lt;int&gt;</th><th scope=col>&lt;dbl&gt;</th><th scope=col>&lt;dbl&gt;</th></tr>\n",
       "</thead>\n",
       "<tbody>\n",
       "\t<tr><td>X101_Horse      </td><td>7716507</td><td>0.3414071</td><td>21.56971</td></tr>\n",
       "\t<tr><td>X107_House_Mouse</td><td>2833353</td><td>0.4244829</td><td>19.91179</td></tr>\n",
       "\t<tr><td>⋮</td><td>⋮</td><td>⋮</td><td>⋮</td></tr>\n",
       "\t<tr><td>X91_Dunnock                   </td><td>3881823</td><td>0.5144225</td><td>20.01099</td></tr>\n",
       "\t<tr><td>X92_Lesser_White_toothed_Shrew</td><td>1253488</td><td>0.4813252</td><td>19.16230</td></tr>\n",
       "</tbody>\n",
       "</table>\n"
      ],
      "text/latex": [
       "A data.frame: 308 × 4\n",
       "\\begin{tabular}{llll}\n",
       " Sample & Total.Sequences & nonpareil\\_coverage & nonpareil\\_diversity\\\\\n",
       " <fct> & <int> & <dbl> & <dbl>\\\\\n",
       "\\hline\n",
       "\t X101\\_Horse       & 7716507 & 0.3414071 & 21.56971\\\\\n",
       "\t X107\\_House\\_Mouse & 2833353 & 0.4244829 & 19.91179\\\\\n",
       "\t ⋮ & ⋮ & ⋮ & ⋮\\\\\n",
       "\t X91\\_Dunnock                    & 3881823 & 0.5144225 & 20.01099\\\\\n",
       "\t X92\\_Lesser\\_White\\_toothed\\_Shrew & 1253488 & 0.4813252 & 19.16230\\\\\n",
       "\\end{tabular}\n"
      ],
      "text/markdown": [
       "\n",
       "A data.frame: 308 × 4\n",
       "\n",
       "| Sample &lt;fct&gt; | Total.Sequences &lt;int&gt; | nonpareil_coverage &lt;dbl&gt; | nonpareil_diversity &lt;dbl&gt; |\n",
       "|---|---|---|---|\n",
       "| X101_Horse       | 7716507 | 0.3414071 | 21.56971 |\n",
       "| X107_House_Mouse | 2833353 | 0.4244829 | 19.91179 |\n",
       "| ⋮ | ⋮ | ⋮ | ⋮ |\n",
       "| X91_Dunnock                    | 3881823 | 0.5144225 | 20.01099 |\n",
       "| X92_Lesser_White_toothed_Shrew | 1253488 | 0.4813252 | 19.16230 |\n",
       "\n"
      ],
      "text/plain": [
       "    Sample                         Total.Sequences nonpareil_coverage\n",
       "1   X101_Horse                     7716507         0.3414071         \n",
       "2   X107_House_Mouse               2833353         0.4244829         \n",
       "⋮   ⋮                              ⋮               ⋮                 \n",
       "307 X91_Dunnock                    3881823         0.5144225         \n",
       "308 X92_Lesser_White_toothed_Shrew 1253488         0.4813252         \n",
       "    nonpareil_diversity\n",
       "1   21.56971           \n",
       "2   19.91179           \n",
       "⋮   ⋮                  \n",
       "307 20.01099           \n",
       "308 19.16230           "
      ]
     },
     "metadata": {},
     "output_type": "display_data"
    }
   ],
   "source": [
    "qc = read.delim(qc_file, sep='\\t')\n",
    "qc"
   ]
  },
  {
   "cell_type": "markdown",
   "metadata": {},
   "source": [
    "## Sample metadata"
   ]
  },
  {
   "cell_type": "code",
   "execution_count": 21,
   "metadata": {
    "ExecuteTime": {
     "end_time": "2020-01-22T15:05:08.640741Z",
     "start_time": "2020-01-22T15:05:08.543Z"
    }
   },
   "outputs": [
    {
     "data": {
      "text/html": [
       "<table>\n",
       "<caption>A data.frame: 475 × 9</caption>\n",
       "<thead>\n",
       "\t<tr><th scope=col>SampleID</th><th scope=col>scientific_name</th><th scope=col>class</th><th scope=col>order</th><th scope=col>family</th><th scope=col>genus</th><th scope=col>habitat</th><th scope=col>diet</th><th scope=col>sample_type</th></tr>\n",
       "\t<tr><th scope=col>&lt;chr&gt;</th><th scope=col>&lt;fct&gt;</th><th scope=col>&lt;fct&gt;</th><th scope=col>&lt;fct&gt;</th><th scope=col>&lt;fct&gt;</th><th scope=col>&lt;fct&gt;</th><th scope=col>&lt;fct&gt;</th><th scope=col>&lt;fct&gt;</th><th scope=col>&lt;fct&gt;</th></tr>\n",
       "</thead>\n",
       "<tbody>\n",
       "\t<tr><td>XF14_Common_Bream</td><td>Abramis_brama </td><td>Actinopterygii</td><td>Cypriniformes</td><td>Cyprinidae</td><td>Abramis</td><td>aquatic habitat    </td><td>omnivore </td><td>feces</td></tr>\n",
       "\t<tr><td>XF35_Red_Deer    </td><td>Cervus_elaphus</td><td>Mammalia      </td><td>Artiodactyla </td><td>Cervidae  </td><td>Cervus </td><td>terrestrial habitat</td><td>herbivore</td><td>feces</td></tr>\n",
       "\t<tr><td>⋮</td><td>⋮</td><td>⋮</td><td>⋮</td><td>⋮</td><td>⋮</td><td>⋮</td><td>⋮</td><td>⋮</td></tr>\n",
       "\t<tr><td>X189_fail_Rainbow_Trout</td><td>Oncorhynchus_mykiss</td><td>Actinopterygii</td><td>Salmoniformes</td><td>Salmonidae</td><td>Oncorhynchus</td><td>aquatic habitat</td><td>carnivore</td><td>feces</td></tr>\n",
       "\t<tr><td>X232_fail_Brown_Trout  </td><td>Salmo_trutta       </td><td>Actinopterygii</td><td>Salmoniformes</td><td>Salmonidae</td><td>Salmo       </td><td>aquatic habitat</td><td>carnivore</td><td>gut  </td></tr>\n",
       "</tbody>\n",
       "</table>\n"
      ],
      "text/latex": [
       "A data.frame: 475 × 9\n",
       "\\begin{tabular}{lllllllll}\n",
       " SampleID & scientific\\_name & class & order & family & genus & habitat & diet & sample\\_type\\\\\n",
       " <chr> & <fct> & <fct> & <fct> & <fct> & <fct> & <fct> & <fct> & <fct>\\\\\n",
       "\\hline\n",
       "\t XF14\\_Common\\_Bream & Abramis\\_brama  & Actinopterygii & Cypriniformes & Cyprinidae & Abramis & aquatic habitat     & omnivore  & feces\\\\\n",
       "\t XF35\\_Red\\_Deer     & Cervus\\_elaphus & Mammalia       & Artiodactyla  & Cervidae   & Cervus  & terrestrial habitat & herbivore & feces\\\\\n",
       "\t ⋮ & ⋮ & ⋮ & ⋮ & ⋮ & ⋮ & ⋮ & ⋮ & ⋮\\\\\n",
       "\t X189\\_fail\\_Rainbow\\_Trout & Oncorhynchus\\_mykiss & Actinopterygii & Salmoniformes & Salmonidae & Oncorhynchus & aquatic habitat & carnivore & feces\\\\\n",
       "\t X232\\_fail\\_Brown\\_Trout   & Salmo\\_trutta        & Actinopterygii & Salmoniformes & Salmonidae & Salmo        & aquatic habitat & carnivore & gut  \\\\\n",
       "\\end{tabular}\n"
      ],
      "text/markdown": [
       "\n",
       "A data.frame: 475 × 9\n",
       "\n",
       "| SampleID &lt;chr&gt; | scientific_name &lt;fct&gt; | class &lt;fct&gt; | order &lt;fct&gt; | family &lt;fct&gt; | genus &lt;fct&gt; | habitat &lt;fct&gt; | diet &lt;fct&gt; | sample_type &lt;fct&gt; |\n",
       "|---|---|---|---|---|---|---|---|---|\n",
       "| XF14_Common_Bream | Abramis_brama  | Actinopterygii | Cypriniformes | Cyprinidae | Abramis | aquatic habitat     | omnivore  | feces |\n",
       "| XF35_Red_Deer     | Cervus_elaphus | Mammalia       | Artiodactyla  | Cervidae   | Cervus  | terrestrial habitat | herbivore | feces |\n",
       "| ⋮ | ⋮ | ⋮ | ⋮ | ⋮ | ⋮ | ⋮ | ⋮ | ⋮ |\n",
       "| X189_fail_Rainbow_Trout | Oncorhynchus_mykiss | Actinopterygii | Salmoniformes | Salmonidae | Oncorhynchus | aquatic habitat | carnivore | feces |\n",
       "| X232_fail_Brown_Trout   | Salmo_trutta        | Actinopterygii | Salmoniformes | Salmonidae | Salmo        | aquatic habitat | carnivore | gut   |\n",
       "\n"
      ],
      "text/plain": [
       "    SampleID                scientific_name     class          order        \n",
       "1   XF14_Common_Bream       Abramis_brama       Actinopterygii Cypriniformes\n",
       "2   XF35_Red_Deer           Cervus_elaphus      Mammalia       Artiodactyla \n",
       "⋮   ⋮                       ⋮                   ⋮              ⋮            \n",
       "474 X189_fail_Rainbow_Trout Oncorhynchus_mykiss Actinopterygii Salmoniformes\n",
       "475 X232_fail_Brown_Trout   Salmo_trutta        Actinopterygii Salmoniformes\n",
       "    family     genus        habitat             diet      sample_type\n",
       "1   Cyprinidae Abramis      aquatic habitat     omnivore  feces      \n",
       "2   Cervidae   Cervus       terrestrial habitat herbivore feces      \n",
       "⋮   ⋮          ⋮            ⋮                   ⋮         ⋮          \n",
       "474 Salmonidae Oncorhynchus aquatic habitat     carnivore feces      \n",
       "475 Salmonidae Salmo        aquatic habitat     carnivore gut        "
      ]
     },
     "metadata": {},
     "output_type": "display_data"
    }
   ],
   "source": [
    "metadata = read.delim(metadata_file, sep='\\t')  %>%\n",
    "    dplyr::select(SampleID, scientific_name, class, order, family, genus,\n",
    "                  habitat, diet, sample_type) %>%\n",
    "    mutate(SampleID = gsub('^F', 'XF', SampleID))\n",
    "metadata"
   ]
  },
  {
   "cell_type": "markdown",
   "metadata": {},
   "source": [
    "# Low coverage samples"
   ]
  },
  {
   "cell_type": "code",
   "execution_count": 23,
   "metadata": {
    "ExecuteTime": {
     "end_time": "2020-01-22T15:06:14.446697Z",
     "start_time": "2020-01-22T15:06:14.410Z"
    }
   },
   "outputs": [
    {
     "data": {
      "text/html": [
       "<table>\n",
       "<caption>A data.frame: 133 × 4</caption>\n",
       "<thead>\n",
       "\t<tr><th scope=col>Sample</th><th scope=col>Total.Sequences</th><th scope=col>nonpareil_coverage</th><th scope=col>nonpareil_diversity</th></tr>\n",
       "\t<tr><th scope=col>&lt;fct&gt;</th><th scope=col>&lt;int&gt;</th><th scope=col>&lt;dbl&gt;</th><th scope=col>&lt;dbl&gt;</th></tr>\n",
       "</thead>\n",
       "<tbody>\n",
       "\t<tr><td>X101_Horse      </td><td>7716507</td><td>0.3414071</td><td>21.56971</td></tr>\n",
       "\t<tr><td>X107_House_Mouse</td><td>2833353</td><td>0.4244829</td><td>19.91179</td></tr>\n",
       "\t<tr><td>⋮</td><td>⋮</td><td>⋮</td><td>⋮</td></tr>\n",
       "\t<tr><td>X82_Eurasian_Ruffe            </td><td>1273012</td><td>0.3943804</td><td>19.57361</td></tr>\n",
       "\t<tr><td>X92_Lesser_White_toothed_Shrew</td><td>1253488</td><td>0.4813252</td><td>19.16230</td></tr>\n",
       "</tbody>\n",
       "</table>\n"
      ],
      "text/latex": [
       "A data.frame: 133 × 4\n",
       "\\begin{tabular}{llll}\n",
       " Sample & Total.Sequences & nonpareil\\_coverage & nonpareil\\_diversity\\\\\n",
       " <fct> & <int> & <dbl> & <dbl>\\\\\n",
       "\\hline\n",
       "\t X101\\_Horse       & 7716507 & 0.3414071 & 21.56971\\\\\n",
       "\t X107\\_House\\_Mouse & 2833353 & 0.4244829 & 19.91179\\\\\n",
       "\t ⋮ & ⋮ & ⋮ & ⋮\\\\\n",
       "\t X82\\_Eurasian\\_Ruffe             & 1273012 & 0.3943804 & 19.57361\\\\\n",
       "\t X92\\_Lesser\\_White\\_toothed\\_Shrew & 1253488 & 0.4813252 & 19.16230\\\\\n",
       "\\end{tabular}\n"
      ],
      "text/markdown": [
       "\n",
       "A data.frame: 133 × 4\n",
       "\n",
       "| Sample &lt;fct&gt; | Total.Sequences &lt;int&gt; | nonpareil_coverage &lt;dbl&gt; | nonpareil_diversity &lt;dbl&gt; |\n",
       "|---|---|---|---|\n",
       "| X101_Horse       | 7716507 | 0.3414071 | 21.56971 |\n",
       "| X107_House_Mouse | 2833353 | 0.4244829 | 19.91179 |\n",
       "| ⋮ | ⋮ | ⋮ | ⋮ |\n",
       "| X82_Eurasian_Ruffe             | 1273012 | 0.3943804 | 19.57361 |\n",
       "| X92_Lesser_White_toothed_Shrew | 1253488 | 0.4813252 | 19.16230 |\n",
       "\n"
      ],
      "text/plain": [
       "    Sample                         Total.Sequences nonpareil_coverage\n",
       "1   X101_Horse                     7716507         0.3414071         \n",
       "2   X107_House_Mouse               2833353         0.4244829         \n",
       "⋮   ⋮                              ⋮               ⋮                 \n",
       "132 X82_Eurasian_Ruffe             1273012         0.3943804         \n",
       "133 X92_Lesser_White_toothed_Shrew 1253488         0.4813252         \n",
       "    nonpareil_diversity\n",
       "1   21.56971           \n",
       "2   19.91179           \n",
       "⋮   ⋮                  \n",
       "132 19.57361           \n",
       "133 19.16230           "
      ]
     },
     "metadata": {},
     "output_type": "display_data"
    }
   ],
   "source": [
    "qc_f = qc %>%\n",
    "    filter(nonpareil_coverage < 0.5)\n",
    "\n",
    "qc_f"
   ]
  },
  {
   "cell_type": "code",
   "execution_count": 28,
   "metadata": {
    "ExecuteTime": {
     "end_time": "2020-01-22T15:07:37.630787Z",
     "start_time": "2020-01-22T15:07:37.588Z"
    }
   },
   "outputs": [
    {
     "name": "stderr",
     "output_type": "stream",
     "text": [
      "Warning message:\n",
      "“Column `Sample`/`Sample_ID` joining factor and character vector, coercing into character vector”\n"
     ]
    },
    {
     "name": "stdout",
     "output_type": "stream",
     "text": [
      "[1] 132\n"
     ]
    },
    {
     "data": {
      "text/html": [
       "<table>\n",
       "<caption>A data.frame: 447 × 15</caption>\n",
       "<thead>\n",
       "\t<tr><th scope=col>Sample</th><th scope=col>Total.Sequences</th><th scope=col>nonpareil_coverage</th><th scope=col>nonpareil_diversity</th><th scope=col>Lane</th><th scope=col>Sample_Name</th><th scope=col>Sample_Plate</th><th scope=col>Sample_Well</th><th scope=col>I7_Index_ID</th><th scope=col>index</th><th scope=col>I5_Index_ID</th><th scope=col>index2</th><th scope=col>Sample_Project</th><th scope=col>Description</th><th scope=col>run</th></tr>\n",
       "\t<tr><th scope=col>&lt;chr&gt;</th><th scope=col>&lt;int&gt;</th><th scope=col>&lt;dbl&gt;</th><th scope=col>&lt;dbl&gt;</th><th scope=col>&lt;int&gt;</th><th scope=col>&lt;chr&gt;</th><th scope=col>&lt;chr&gt;</th><th scope=col>&lt;chr&gt;</th><th scope=col>&lt;chr&gt;</th><th scope=col>&lt;fct&gt;</th><th scope=col>&lt;chr&gt;</th><th scope=col>&lt;fct&gt;</th><th scope=col>&lt;fct&gt;</th><th scope=col>&lt;fct&gt;</th><th scope=col>&lt;dbl&gt;</th></tr>\n",
       "</thead>\n",
       "<tbody>\n",
       "\t<tr><td>X101_Horse</td><td>7716507</td><td>0.3414071</td><td>21.56971</td><td>1</td><td>NA</td><td>NA</td><td>NA </td><td>7   </td><td>CTCTCTAC</td><td>11  </td><td>CGTAAGGA</td><td>Georg_animal_feces</td><td>nyoungblut</td><td>126</td></tr>\n",
       "\t<tr><td>X101_Horse</td><td>7716507</td><td>0.3414071</td><td>21.56971</td><td>4</td><td>NA</td><td>1 </td><td>G11</td><td>N707</td><td>CTCTCTAC</td><td>S511</td><td>CGTAAGGA</td><td>Georg_animal_feces</td><td>sdauser   </td><td>133</td></tr>\n",
       "\t<tr><td>⋮</td><td>⋮</td><td>⋮</td><td>⋮</td><td>⋮</td><td>⋮</td><td>⋮</td><td>⋮</td><td>⋮</td><td>⋮</td><td>⋮</td><td>⋮</td><td>⋮</td><td>⋮</td><td>⋮</td></tr>\n",
       "\t<tr><td>X92_Lesser_White_toothed_Shrew</td><td>1253488</td><td>0.4813252</td><td>19.1623</td><td>3</td><td>NA                            </td><td>plate1</td><td>A11</td><td>N706</td><td>TAGGCATG</td><td>S502</td><td>ATAGAGAG</td><td>Georg_animal_feces</td><td>sdauser</td><td>133</td></tr>\n",
       "\t<tr><td>X92_Lesser_White_toothed_Shrew</td><td>1253488</td><td>0.4813252</td><td>19.1623</td><td>8</td><td>X92_Lesser_White_toothed_Shrew</td><td>plate1</td><td>A11</td><td>N706</td><td>TAGGCATG</td><td>S502</td><td>ATAGAGAG</td><td>Georg_animal_feces</td><td>sdauser</td><td>138</td></tr>\n",
       "</tbody>\n",
       "</table>\n"
      ],
      "text/latex": [
       "A data.frame: 447 × 15\n",
       "\\begin{tabular}{lllllllllllllll}\n",
       " Sample & Total.Sequences & nonpareil\\_coverage & nonpareil\\_diversity & Lane & Sample\\_Name & Sample\\_Plate & Sample\\_Well & I7\\_Index\\_ID & index & I5\\_Index\\_ID & index2 & Sample\\_Project & Description & run\\\\\n",
       " <chr> & <int> & <dbl> & <dbl> & <int> & <chr> & <chr> & <chr> & <chr> & <fct> & <chr> & <fct> & <fct> & <fct> & <dbl>\\\\\n",
       "\\hline\n",
       "\t X101\\_Horse & 7716507 & 0.3414071 & 21.56971 & 1 & NA & NA & NA  & 7    & CTCTCTAC & 11   & CGTAAGGA & Georg\\_animal\\_feces & nyoungblut & 126\\\\\n",
       "\t X101\\_Horse & 7716507 & 0.3414071 & 21.56971 & 4 & NA & 1  & G11 & N707 & CTCTCTAC & S511 & CGTAAGGA & Georg\\_animal\\_feces & sdauser    & 133\\\\\n",
       "\t ⋮ & ⋮ & ⋮ & ⋮ & ⋮ & ⋮ & ⋮ & ⋮ & ⋮ & ⋮ & ⋮ & ⋮ & ⋮ & ⋮ & ⋮\\\\\n",
       "\t X92\\_Lesser\\_White\\_toothed\\_Shrew & 1253488 & 0.4813252 & 19.1623 & 3 & NA                             & plate1 & A11 & N706 & TAGGCATG & S502 & ATAGAGAG & Georg\\_animal\\_feces & sdauser & 133\\\\\n",
       "\t X92\\_Lesser\\_White\\_toothed\\_Shrew & 1253488 & 0.4813252 & 19.1623 & 8 & X92\\_Lesser\\_White\\_toothed\\_Shrew & plate1 & A11 & N706 & TAGGCATG & S502 & ATAGAGAG & Georg\\_animal\\_feces & sdauser & 138\\\\\n",
       "\\end{tabular}\n"
      ],
      "text/markdown": [
       "\n",
       "A data.frame: 447 × 15\n",
       "\n",
       "| Sample &lt;chr&gt; | Total.Sequences &lt;int&gt; | nonpareil_coverage &lt;dbl&gt; | nonpareil_diversity &lt;dbl&gt; | Lane &lt;int&gt; | Sample_Name &lt;chr&gt; | Sample_Plate &lt;chr&gt; | Sample_Well &lt;chr&gt; | I7_Index_ID &lt;chr&gt; | index &lt;fct&gt; | I5_Index_ID &lt;chr&gt; | index2 &lt;fct&gt; | Sample_Project &lt;fct&gt; | Description &lt;fct&gt; | run &lt;dbl&gt; |\n",
       "|---|---|---|---|---|---|---|---|---|---|---|---|---|---|---|\n",
       "| X101_Horse | 7716507 | 0.3414071 | 21.56971 | 1 | NA | NA | NA  | 7    | CTCTCTAC | 11   | CGTAAGGA | Georg_animal_feces | nyoungblut | 126 |\n",
       "| X101_Horse | 7716507 | 0.3414071 | 21.56971 | 4 | NA | 1  | G11 | N707 | CTCTCTAC | S511 | CGTAAGGA | Georg_animal_feces | sdauser    | 133 |\n",
       "| ⋮ | ⋮ | ⋮ | ⋮ | ⋮ | ⋮ | ⋮ | ⋮ | ⋮ | ⋮ | ⋮ | ⋮ | ⋮ | ⋮ | ⋮ |\n",
       "| X92_Lesser_White_toothed_Shrew | 1253488 | 0.4813252 | 19.1623 | 3 | NA                             | plate1 | A11 | N706 | TAGGCATG | S502 | ATAGAGAG | Georg_animal_feces | sdauser | 133 |\n",
       "| X92_Lesser_White_toothed_Shrew | 1253488 | 0.4813252 | 19.1623 | 8 | X92_Lesser_White_toothed_Shrew | plate1 | A11 | N706 | TAGGCATG | S502 | ATAGAGAG | Georg_animal_feces | sdauser | 138 |\n",
       "\n"
      ],
      "text/plain": [
       "    Sample                         Total.Sequences nonpareil_coverage\n",
       "1   X101_Horse                     7716507         0.3414071         \n",
       "2   X101_Horse                     7716507         0.3414071         \n",
       "⋮   ⋮                              ⋮               ⋮                 \n",
       "446 X92_Lesser_White_toothed_Shrew 1253488         0.4813252         \n",
       "447 X92_Lesser_White_toothed_Shrew 1253488         0.4813252         \n",
       "    nonpareil_diversity Lane Sample_Name                    Sample_Plate\n",
       "1   21.56971            1    NA                             NA          \n",
       "2   21.56971            4    NA                             1           \n",
       "⋮   ⋮                   ⋮    ⋮                              ⋮           \n",
       "446 19.1623             3    NA                             plate1      \n",
       "447 19.1623             8    X92_Lesser_White_toothed_Shrew plate1      \n",
       "    Sample_Well I7_Index_ID index    I5_Index_ID index2   Sample_Project    \n",
       "1   NA          7           CTCTCTAC 11          CGTAAGGA Georg_animal_feces\n",
       "2   G11         N707        CTCTCTAC S511        CGTAAGGA Georg_animal_feces\n",
       "⋮   ⋮           ⋮           ⋮        ⋮           ⋮        ⋮                 \n",
       "446 A11         N706        TAGGCATG S502        ATAGAGAG Georg_animal_feces\n",
       "447 A11         N706        TAGGCATG S502        ATAGAGAG Georg_animal_feces\n",
       "    Description run\n",
       "1   nyoungblut  126\n",
       "2   sdauser     133\n",
       "⋮   ⋮           ⋮  \n",
       "446 sdauser     133\n",
       "447 sdauser     138"
      ]
     },
     "metadata": {},
     "output_type": "display_data"
    }
   ],
   "source": [
    "qc_f_j = qc_f %>%\n",
    "    inner_join(samp_sheets, c('Sample'='Sample_ID')) \n",
    "qc_f_j$Sample %>% unique %>% length %>% print\n",
    "qc_f_j"
   ]
  },
  {
   "cell_type": "markdown",
   "metadata": {},
   "source": [
    "# Selecting libs from prev runs"
   ]
  },
  {
   "cell_type": "code",
   "execution_count": 106,
   "metadata": {
    "ExecuteTime": {
     "end_time": "2020-01-23T07:01:56.621793Z",
     "start_time": "2020-01-23T07:01:56.566Z"
    }
   },
   "outputs": [
    {
     "data": {
      "text/html": [
       "<table>\n",
       "<caption>A tibble: 4 × 2</caption>\n",
       "<thead>\n",
       "\t<tr><th scope=col>run</th><th scope=col>n_samps</th></tr>\n",
       "\t<tr><th scope=col>&lt;dbl&gt;</th><th scope=col>&lt;int&gt;</th></tr>\n",
       "</thead>\n",
       "<tbody>\n",
       "\t<tr><td>126</td><td>120</td></tr>\n",
       "\t<tr><td>133</td><td>131</td></tr>\n",
       "\t<tr><td>138</td><td>116</td></tr>\n",
       "\t<tr><td>163</td><td> 80</td></tr>\n",
       "</tbody>\n",
       "</table>\n"
      ],
      "text/latex": [
       "A tibble: 4 × 2\n",
       "\\begin{tabular}{ll}\n",
       " run & n\\_samps\\\\\n",
       " <dbl> & <int>\\\\\n",
       "\\hline\n",
       "\t 126 & 120\\\\\n",
       "\t 133 & 131\\\\\n",
       "\t 138 & 116\\\\\n",
       "\t 163 &  80\\\\\n",
       "\\end{tabular}\n"
      ],
      "text/markdown": [
       "\n",
       "A tibble: 4 × 2\n",
       "\n",
       "| run &lt;dbl&gt; | n_samps &lt;int&gt; |\n",
       "|---|---|\n",
       "| 126 | 120 |\n",
       "| 133 | 131 |\n",
       "| 138 | 116 |\n",
       "| 163 |  80 |\n",
       "\n"
      ],
      "text/plain": [
       "  run n_samps\n",
       "1 126 120    \n",
       "2 133 131    \n",
       "3 138 116    \n",
       "4 163  80    "
      ]
     },
     "metadata": {},
     "output_type": "display_data"
    }
   ],
   "source": [
    "qc_f_j %>%\n",
    "    group_by(run) %>%\n",
    "    summarize(n_samps = n_distinct(Sample)) %>%\n",
    "    ungroup()"
   ]
  },
  {
   "cell_type": "code",
   "execution_count": 116,
   "metadata": {
    "ExecuteTime": {
     "end_time": "2020-01-23T07:02:51.670675Z",
     "start_time": "2020-01-23T07:02:51.593Z"
    }
   },
   "outputs": [
    {
     "data": {
      "text/plain": [
       "   Min. 1st Qu.  Median    Mean 3rd Qu.    Max. \n",
       " 0.1507  0.3506  0.4202  0.4007  0.4676  0.4997 "
      ]
     },
     "metadata": {},
     "output_type": "display_data"
    },
    {
     "data": {
      "text/html": [
       "<table>\n",
       "<caption>A data.frame: 80 × 15</caption>\n",
       "<thead>\n",
       "\t<tr><th scope=col>Sample</th><th scope=col>Total.Sequences</th><th scope=col>nonpareil_coverage</th><th scope=col>nonpareil_diversity</th><th scope=col>Lane</th><th scope=col>Sample_Name</th><th scope=col>Sample_Plate</th><th scope=col>Sample_Well</th><th scope=col>I7_Index_ID</th><th scope=col>index</th><th scope=col>I5_Index_ID</th><th scope=col>index2</th><th scope=col>Sample_Project</th><th scope=col>Description</th><th scope=col>run</th></tr>\n",
       "\t<tr><th scope=col>&lt;chr&gt;</th><th scope=col>&lt;int&gt;</th><th scope=col>&lt;dbl&gt;</th><th scope=col>&lt;dbl&gt;</th><th scope=col>&lt;int&gt;</th><th scope=col>&lt;chr&gt;</th><th scope=col>&lt;chr&gt;</th><th scope=col>&lt;chr&gt;</th><th scope=col>&lt;chr&gt;</th><th scope=col>&lt;fct&gt;</th><th scope=col>&lt;chr&gt;</th><th scope=col>&lt;fct&gt;</th><th scope=col>&lt;fct&gt;</th><th scope=col>&lt;fct&gt;</th><th scope=col>&lt;dbl&gt;</th></tr>\n",
       "</thead>\n",
       "<tbody>\n",
       "\t<tr><td>X10_House_Mouse</td><td>4643882</td><td>0.4148921</td><td>21.25512</td><td>3</td><td>X10_House_Mouse</td><td>1</td><td>C05</td><td>N701</td><td>TAAGGCGA</td><td>S502</td><td>ATAGAGAG</td><td>Georg_animal_gut_metagenome</td><td>sdauser</td><td>163</td></tr>\n",
       "\t<tr><td>X110_Noctule   </td><td>4775749</td><td>0.4049221</td><td>21.51596</td><td>3</td><td>X110_Noctule   </td><td>1</td><td>F01</td><td>N708</td><td>CAGAGAGG</td><td>S512</td><td>CCACGCGT</td><td>Georg_animal_gut_metagenome</td><td>sdauser</td><td>163</td></tr>\n",
       "\t<tr><td>⋮</td><td>⋮</td><td>⋮</td><td>⋮</td><td>⋮</td><td>⋮</td><td>⋮</td><td>⋮</td><td>⋮</td><td>⋮</td><td>⋮</td><td>⋮</td><td>⋮</td><td>⋮</td><td>⋮</td></tr>\n",
       "\t<tr><td>X365_fail_Goldmans_Ichthyomyine</td><td>1801301</td><td>0.4832537</td><td>19.55062</td><td>3</td><td>X365_fail_Goldmans_Ichthyomyine</td><td>1</td><td>G08</td><td>N705</td><td>GGACTCCT</td><td>S511</td><td>CGTAAGGA</td><td>Georg_animal_gut_metagenome</td><td>sdauser</td><td>163</td></tr>\n",
       "\t<tr><td>X393_European_Rabbit           </td><td> 436561</td><td>0.3996944</td><td>18.33490</td><td>3</td><td>X393_European_Rabbit           </td><td>1</td><td>H07</td><td>N702</td><td>CGTACTAG</td><td>S513</td><td>GGAGTTCC</td><td>Georg_animal_gut_metagenome</td><td>sdauser</td><td>163</td></tr>\n",
       "</tbody>\n",
       "</table>\n"
      ],
      "text/latex": [
       "A data.frame: 80 × 15\n",
       "\\begin{tabular}{lllllllllllllll}\n",
       " Sample & Total.Sequences & nonpareil\\_coverage & nonpareil\\_diversity & Lane & Sample\\_Name & Sample\\_Plate & Sample\\_Well & I7\\_Index\\_ID & index & I5\\_Index\\_ID & index2 & Sample\\_Project & Description & run\\\\\n",
       " <chr> & <int> & <dbl> & <dbl> & <int> & <chr> & <chr> & <chr> & <chr> & <fct> & <chr> & <fct> & <fct> & <fct> & <dbl>\\\\\n",
       "\\hline\n",
       "\t X10\\_House\\_Mouse & 4643882 & 0.4148921 & 21.25512 & 3 & X10\\_House\\_Mouse & 1 & C05 & N701 & TAAGGCGA & S502 & ATAGAGAG & Georg\\_animal\\_gut\\_metagenome & sdauser & 163\\\\\n",
       "\t X110\\_Noctule    & 4775749 & 0.4049221 & 21.51596 & 3 & X110\\_Noctule    & 1 & F01 & N708 & CAGAGAGG & S512 & CCACGCGT & Georg\\_animal\\_gut\\_metagenome & sdauser & 163\\\\\n",
       "\t ⋮ & ⋮ & ⋮ & ⋮ & ⋮ & ⋮ & ⋮ & ⋮ & ⋮ & ⋮ & ⋮ & ⋮ & ⋮ & ⋮ & ⋮\\\\\n",
       "\t X365\\_fail\\_Goldmans\\_Ichthyomyine & 1801301 & 0.4832537 & 19.55062 & 3 & X365\\_fail\\_Goldmans\\_Ichthyomyine & 1 & G08 & N705 & GGACTCCT & S511 & CGTAAGGA & Georg\\_animal\\_gut\\_metagenome & sdauser & 163\\\\\n",
       "\t X393\\_European\\_Rabbit            &  436561 & 0.3996944 & 18.33490 & 3 & X393\\_European\\_Rabbit            & 1 & H07 & N702 & CGTACTAG & S513 & GGAGTTCC & Georg\\_animal\\_gut\\_metagenome & sdauser & 163\\\\\n",
       "\\end{tabular}\n"
      ],
      "text/markdown": [
       "\n",
       "A data.frame: 80 × 15\n",
       "\n",
       "| Sample &lt;chr&gt; | Total.Sequences &lt;int&gt; | nonpareil_coverage &lt;dbl&gt; | nonpareil_diversity &lt;dbl&gt; | Lane &lt;int&gt; | Sample_Name &lt;chr&gt; | Sample_Plate &lt;chr&gt; | Sample_Well &lt;chr&gt; | I7_Index_ID &lt;chr&gt; | index &lt;fct&gt; | I5_Index_ID &lt;chr&gt; | index2 &lt;fct&gt; | Sample_Project &lt;fct&gt; | Description &lt;fct&gt; | run &lt;dbl&gt; |\n",
       "|---|---|---|---|---|---|---|---|---|---|---|---|---|---|---|\n",
       "| X10_House_Mouse | 4643882 | 0.4148921 | 21.25512 | 3 | X10_House_Mouse | 1 | C05 | N701 | TAAGGCGA | S502 | ATAGAGAG | Georg_animal_gut_metagenome | sdauser | 163 |\n",
       "| X110_Noctule    | 4775749 | 0.4049221 | 21.51596 | 3 | X110_Noctule    | 1 | F01 | N708 | CAGAGAGG | S512 | CCACGCGT | Georg_animal_gut_metagenome | sdauser | 163 |\n",
       "| ⋮ | ⋮ | ⋮ | ⋮ | ⋮ | ⋮ | ⋮ | ⋮ | ⋮ | ⋮ | ⋮ | ⋮ | ⋮ | ⋮ | ⋮ |\n",
       "| X365_fail_Goldmans_Ichthyomyine | 1801301 | 0.4832537 | 19.55062 | 3 | X365_fail_Goldmans_Ichthyomyine | 1 | G08 | N705 | GGACTCCT | S511 | CGTAAGGA | Georg_animal_gut_metagenome | sdauser | 163 |\n",
       "| X393_European_Rabbit            |  436561 | 0.3996944 | 18.33490 | 3 | X393_European_Rabbit            | 1 | H07 | N702 | CGTACTAG | S513 | GGAGTTCC | Georg_animal_gut_metagenome | sdauser | 163 |\n",
       "\n"
      ],
      "text/plain": [
       "   Sample                          Total.Sequences nonpareil_coverage\n",
       "1  X10_House_Mouse                 4643882         0.4148921         \n",
       "2  X110_Noctule                    4775749         0.4049221         \n",
       "⋮  ⋮                               ⋮               ⋮                 \n",
       "79 X365_fail_Goldmans_Ichthyomyine 1801301         0.4832537         \n",
       "80 X393_European_Rabbit             436561         0.3996944         \n",
       "   nonpareil_diversity Lane Sample_Name                     Sample_Plate\n",
       "1  21.25512            3    X10_House_Mouse                 1           \n",
       "2  21.51596            3    X110_Noctule                    1           \n",
       "⋮  ⋮                   ⋮    ⋮                               ⋮           \n",
       "79 19.55062            3    X365_fail_Goldmans_Ichthyomyine 1           \n",
       "80 18.33490            3    X393_European_Rabbit            1           \n",
       "   Sample_Well I7_Index_ID index    I5_Index_ID index2  \n",
       "1  C05         N701        TAAGGCGA S502        ATAGAGAG\n",
       "2  F01         N708        CAGAGAGG S512        CCACGCGT\n",
       "⋮  ⋮           ⋮           ⋮        ⋮           ⋮       \n",
       "79 G08         N705        GGACTCCT S511        CGTAAGGA\n",
       "80 H07         N702        CGTACTAG S513        GGAGTTCC\n",
       "   Sample_Project              Description run\n",
       "1  Georg_animal_gut_metagenome sdauser     163\n",
       "2  Georg_animal_gut_metagenome sdauser     163\n",
       "⋮  ⋮                           ⋮           ⋮  \n",
       "79 Georg_animal_gut_metagenome sdauser     163\n",
       "80 Georg_animal_gut_metagenome sdauser     163"
      ]
     },
     "metadata": {},
     "output_type": "display_data"
    }
   ],
   "source": [
    "# most recent\n",
    "qc_f_j_R163 = qc_f_j %>%\n",
    "    filter(run == 163) %>%\n",
    "    mutate(Sample_Plate = gsub('plate', '', Sample_Plate))\n",
    "\n",
    "qc_f_j_R163$nonpareil_coverage %>% summary\n",
    "qc_f_j_R163"
   ]
  },
  {
   "cell_type": "code",
   "execution_count": 117,
   "metadata": {
    "ExecuteTime": {
     "end_time": "2020-01-23T07:02:54.261730Z",
     "start_time": "2020-01-23T07:02:54.193Z"
    }
   },
   "outputs": [
    {
     "data": {
      "text/plain": [
       "   Min. 1st Qu.  Median    Mean 3rd Qu.    Max. \n",
       " 0.2874  0.3663  0.4315  0.4141  0.4729  0.4969 "
      ]
     },
     "metadata": {},
     "output_type": "display_data"
    },
    {
     "data": {
      "text/html": [
       "<table>\n",
       "<caption>A data.frame: 40 × 15</caption>\n",
       "<thead>\n",
       "\t<tr><th scope=col>Sample</th><th scope=col>Total.Sequences</th><th scope=col>nonpareil_coverage</th><th scope=col>nonpareil_diversity</th><th scope=col>Lane</th><th scope=col>Sample_Name</th><th scope=col>Sample_Plate</th><th scope=col>Sample_Well</th><th scope=col>I7_Index_ID</th><th scope=col>index</th><th scope=col>I5_Index_ID</th><th scope=col>index2</th><th scope=col>Sample_Project</th><th scope=col>Description</th><th scope=col>run</th></tr>\n",
       "\t<tr><th scope=col>&lt;chr&gt;</th><th scope=col>&lt;int&gt;</th><th scope=col>&lt;dbl&gt;</th><th scope=col>&lt;dbl&gt;</th><th scope=col>&lt;int&gt;</th><th scope=col>&lt;chr&gt;</th><th scope=col>&lt;chr&gt;</th><th scope=col>&lt;chr&gt;</th><th scope=col>&lt;chr&gt;</th><th scope=col>&lt;fct&gt;</th><th scope=col>&lt;chr&gt;</th><th scope=col>&lt;fct&gt;</th><th scope=col>&lt;fct&gt;</th><th scope=col>&lt;fct&gt;</th><th scope=col>&lt;dbl&gt;</th></tr>\n",
       "</thead>\n",
       "<tbody>\n",
       "\t<tr><td>X107_House_Mouse   </td><td>2833353</td><td>0.4244829</td><td>19.91179</td><td>8</td><td>X107_House_Mouse   </td><td>1</td><td>E12</td><td>N705</td><td>GGACTCCT</td><td>S512</td><td>CCACGCGT</td><td>Georg_animal_feces</td><td>sdauser</td><td>138</td></tr>\n",
       "\t<tr><td>X115_Common_Kestrel</td><td>5513971</td><td>0.4969480</td><td>20.47736</td><td>8</td><td>X115_Common_Kestrel</td><td>2</td><td>D1 </td><td>N704</td><td>TCCTGAGC</td><td>S513</td><td>GGAGTTCC</td><td>Georg_animal_feces</td><td>sdauser</td><td>138</td></tr>\n",
       "\t<tr><td>⋮</td><td>⋮</td><td>⋮</td><td>⋮</td><td>⋮</td><td>⋮</td><td>⋮</td><td>⋮</td><td>⋮</td><td>⋮</td><td>⋮</td><td>⋮</td><td>⋮</td><td>⋮</td><td>⋮</td></tr>\n",
       "\t<tr><td>X82_Eurasian_Ruffe            </td><td>1273012</td><td>0.3943804</td><td>19.57361</td><td>8</td><td>X82_Eurasian_Ruffe            </td><td>1</td><td>H9 </td><td>N704</td><td>TCCTGAGC</td><td>S502</td><td>ATAGAGAG</td><td>Georg_animal_feces</td><td>sdauser</td><td>138</td></tr>\n",
       "\t<tr><td>X92_Lesser_White_toothed_Shrew</td><td>1253488</td><td>0.4813252</td><td>19.16230</td><td>8</td><td>X92_Lesser_White_toothed_Shrew</td><td>1</td><td>A11</td><td>N706</td><td>TAGGCATG</td><td>S502</td><td>ATAGAGAG</td><td>Georg_animal_feces</td><td>sdauser</td><td>138</td></tr>\n",
       "</tbody>\n",
       "</table>\n"
      ],
      "text/latex": [
       "A data.frame: 40 × 15\n",
       "\\begin{tabular}{lllllllllllllll}\n",
       " Sample & Total.Sequences & nonpareil\\_coverage & nonpareil\\_diversity & Lane & Sample\\_Name & Sample\\_Plate & Sample\\_Well & I7\\_Index\\_ID & index & I5\\_Index\\_ID & index2 & Sample\\_Project & Description & run\\\\\n",
       " <chr> & <int> & <dbl> & <dbl> & <int> & <chr> & <chr> & <chr> & <chr> & <fct> & <chr> & <fct> & <fct> & <fct> & <dbl>\\\\\n",
       "\\hline\n",
       "\t X107\\_House\\_Mouse    & 2833353 & 0.4244829 & 19.91179 & 8 & X107\\_House\\_Mouse    & 1 & E12 & N705 & GGACTCCT & S512 & CCACGCGT & Georg\\_animal\\_feces & sdauser & 138\\\\\n",
       "\t X115\\_Common\\_Kestrel & 5513971 & 0.4969480 & 20.47736 & 8 & X115\\_Common\\_Kestrel & 2 & D1  & N704 & TCCTGAGC & S513 & GGAGTTCC & Georg\\_animal\\_feces & sdauser & 138\\\\\n",
       "\t ⋮ & ⋮ & ⋮ & ⋮ & ⋮ & ⋮ & ⋮ & ⋮ & ⋮ & ⋮ & ⋮ & ⋮ & ⋮ & ⋮ & ⋮\\\\\n",
       "\t X82\\_Eurasian\\_Ruffe             & 1273012 & 0.3943804 & 19.57361 & 8 & X82\\_Eurasian\\_Ruffe             & 1 & H9  & N704 & TCCTGAGC & S502 & ATAGAGAG & Georg\\_animal\\_feces & sdauser & 138\\\\\n",
       "\t X92\\_Lesser\\_White\\_toothed\\_Shrew & 1253488 & 0.4813252 & 19.16230 & 8 & X92\\_Lesser\\_White\\_toothed\\_Shrew & 1 & A11 & N706 & TAGGCATG & S502 & ATAGAGAG & Georg\\_animal\\_feces & sdauser & 138\\\\\n",
       "\\end{tabular}\n"
      ],
      "text/markdown": [
       "\n",
       "A data.frame: 40 × 15\n",
       "\n",
       "| Sample &lt;chr&gt; | Total.Sequences &lt;int&gt; | nonpareil_coverage &lt;dbl&gt; | nonpareil_diversity &lt;dbl&gt; | Lane &lt;int&gt; | Sample_Name &lt;chr&gt; | Sample_Plate &lt;chr&gt; | Sample_Well &lt;chr&gt; | I7_Index_ID &lt;chr&gt; | index &lt;fct&gt; | I5_Index_ID &lt;chr&gt; | index2 &lt;fct&gt; | Sample_Project &lt;fct&gt; | Description &lt;fct&gt; | run &lt;dbl&gt; |\n",
       "|---|---|---|---|---|---|---|---|---|---|---|---|---|---|---|\n",
       "| X107_House_Mouse    | 2833353 | 0.4244829 | 19.91179 | 8 | X107_House_Mouse    | 1 | E12 | N705 | GGACTCCT | S512 | CCACGCGT | Georg_animal_feces | sdauser | 138 |\n",
       "| X115_Common_Kestrel | 5513971 | 0.4969480 | 20.47736 | 8 | X115_Common_Kestrel | 2 | D1  | N704 | TCCTGAGC | S513 | GGAGTTCC | Georg_animal_feces | sdauser | 138 |\n",
       "| ⋮ | ⋮ | ⋮ | ⋮ | ⋮ | ⋮ | ⋮ | ⋮ | ⋮ | ⋮ | ⋮ | ⋮ | ⋮ | ⋮ | ⋮ |\n",
       "| X82_Eurasian_Ruffe             | 1273012 | 0.3943804 | 19.57361 | 8 | X82_Eurasian_Ruffe             | 1 | H9  | N704 | TCCTGAGC | S502 | ATAGAGAG | Georg_animal_feces | sdauser | 138 |\n",
       "| X92_Lesser_White_toothed_Shrew | 1253488 | 0.4813252 | 19.16230 | 8 | X92_Lesser_White_toothed_Shrew | 1 | A11 | N706 | TAGGCATG | S502 | ATAGAGAG | Georg_animal_feces | sdauser | 138 |\n",
       "\n"
      ],
      "text/plain": [
       "   Sample                         Total.Sequences nonpareil_coverage\n",
       "1  X107_House_Mouse               2833353         0.4244829         \n",
       "2  X115_Common_Kestrel            5513971         0.4969480         \n",
       "⋮  ⋮                              ⋮               ⋮                 \n",
       "39 X82_Eurasian_Ruffe             1273012         0.3943804         \n",
       "40 X92_Lesser_White_toothed_Shrew 1253488         0.4813252         \n",
       "   nonpareil_diversity Lane Sample_Name                    Sample_Plate\n",
       "1  19.91179            8    X107_House_Mouse               1           \n",
       "2  20.47736            8    X115_Common_Kestrel            2           \n",
       "⋮  ⋮                   ⋮    ⋮                              ⋮           \n",
       "39 19.57361            8    X82_Eurasian_Ruffe             1           \n",
       "40 19.16230            8    X92_Lesser_White_toothed_Shrew 1           \n",
       "   Sample_Well I7_Index_ID index    I5_Index_ID index2   Sample_Project    \n",
       "1  E12         N705        GGACTCCT S512        CCACGCGT Georg_animal_feces\n",
       "2  D1          N704        TCCTGAGC S513        GGAGTTCC Georg_animal_feces\n",
       "⋮  ⋮           ⋮           ⋮        ⋮           ⋮        ⋮                 \n",
       "39 H9          N704        TCCTGAGC S502        ATAGAGAG Georg_animal_feces\n",
       "40 A11         N706        TAGGCATG S502        ATAGAGAG Georg_animal_feces\n",
       "   Description run\n",
       "1  sdauser     138\n",
       "2  sdauser     138\n",
       "⋮  ⋮           ⋮  \n",
       "39 sdauser     138\n",
       "40 sdauser     138"
      ]
     },
     "metadata": {},
     "output_type": "display_data"
    }
   ],
   "source": [
    "# next most recent\n",
    "qc_f_j_R138 = qc_f_j %>%\n",
    "    anti_join(qc_f_j_R163, c('Sample')) %>%\n",
    "    filter(run == 138) %>%\n",
    "    mutate(Sample_Plate = gsub('plate', '', Sample_Plate))\n",
    "\n",
    "qc_f_j_R138$nonpareil_coverage %>% summary\n",
    "qc_f_j_R138"
   ]
  },
  {
   "cell_type": "code",
   "execution_count": 118,
   "metadata": {
    "ExecuteTime": {
     "end_time": "2020-01-23T07:02:57.035925Z",
     "start_time": "2020-01-23T07:02:56.968Z"
    }
   },
   "outputs": [
    {
     "data": {
      "text/plain": [
       "   Min. 1st Qu.  Median    Mean 3rd Qu.    Max. \n",
       " 0.2006  0.2601  0.3180  0.3276  0.3855  0.4739 "
      ]
     },
     "metadata": {},
     "output_type": "display_data"
    },
    {
     "data": {
      "text/html": [
       "<table>\n",
       "<caption>A data.frame: 4 × 15</caption>\n",
       "<thead>\n",
       "\t<tr><th scope=col>Sample</th><th scope=col>Total.Sequences</th><th scope=col>nonpareil_coverage</th><th scope=col>nonpareil_diversity</th><th scope=col>Lane</th><th scope=col>Sample_Name</th><th scope=col>Sample_Plate</th><th scope=col>Sample_Well</th><th scope=col>I7_Index_ID</th><th scope=col>index</th><th scope=col>I5_Index_ID</th><th scope=col>index2</th><th scope=col>Sample_Project</th><th scope=col>Description</th><th scope=col>run</th></tr>\n",
       "\t<tr><th scope=col>&lt;chr&gt;</th><th scope=col>&lt;int&gt;</th><th scope=col>&lt;dbl&gt;</th><th scope=col>&lt;dbl&gt;</th><th scope=col>&lt;int&gt;</th><th scope=col>&lt;chr&gt;</th><th scope=col>&lt;chr&gt;</th><th scope=col>&lt;chr&gt;</th><th scope=col>&lt;chr&gt;</th><th scope=col>&lt;fct&gt;</th><th scope=col>&lt;chr&gt;</th><th scope=col>&lt;fct&gt;</th><th scope=col>&lt;fct&gt;</th><th scope=col>&lt;fct&gt;</th><th scope=col>&lt;dbl&gt;</th></tr>\n",
       "</thead>\n",
       "<tbody>\n",
       "\t<tr><td>X313_Red_Deer   </td><td> 7175977</td><td>0.2798983</td><td>21.83558</td><td>3</td><td>NA</td><td>3</td><td>H6 </td><td>N708</td><td>CAGAGAGG</td><td>S509 </td><td>GAGTAGCC</td><td>Georg_animal_feces</td><td>sdauser</td><td>133</td></tr>\n",
       "\t<tr><td>X349_Smooth_Newt</td><td> 9758382</td><td>0.2005695</td><td>22.56520</td><td>3</td><td>NA</td><td>3</td><td>B10</td><td>N708</td><td>CAGAGAGG</td><td>S510 </td><td>GTCTGAGG</td><td>Georg_animal_feces</td><td>sdauser</td><td>133</td></tr>\n",
       "\t<tr><td>X424_Quagga     </td><td> 7055376</td><td>0.3560308</td><td>21.49890</td><td>3</td><td>NA</td><td>4</td><td>G6 </td><td>N708</td><td>CAGAGAGG</td><td>S517B</td><td>TGGCGGTC</td><td>Georg_animal_feces</td><td>sdauser</td><td>133</td></tr>\n",
       "\t<tr><td>X430_Giraffe    </td><td>11095316</td><td>0.4738784</td><td>21.14643</td><td>3</td><td>NA</td><td>5</td><td>F5 </td><td>N704</td><td>TCCTGAGC</td><td>S519 </td><td>ATGTCAAT</td><td>Georg_animal_feces</td><td>sdauser</td><td>133</td></tr>\n",
       "</tbody>\n",
       "</table>\n"
      ],
      "text/latex": [
       "A data.frame: 4 × 15\n",
       "\\begin{tabular}{lllllllllllllll}\n",
       " Sample & Total.Sequences & nonpareil\\_coverage & nonpareil\\_diversity & Lane & Sample\\_Name & Sample\\_Plate & Sample\\_Well & I7\\_Index\\_ID & index & I5\\_Index\\_ID & index2 & Sample\\_Project & Description & run\\\\\n",
       " <chr> & <int> & <dbl> & <dbl> & <int> & <chr> & <chr> & <chr> & <chr> & <fct> & <chr> & <fct> & <fct> & <fct> & <dbl>\\\\\n",
       "\\hline\n",
       "\t X313\\_Red\\_Deer    &  7175977 & 0.2798983 & 21.83558 & 3 & NA & 3 & H6  & N708 & CAGAGAGG & S509  & GAGTAGCC & Georg\\_animal\\_feces & sdauser & 133\\\\\n",
       "\t X349\\_Smooth\\_Newt &  9758382 & 0.2005695 & 22.56520 & 3 & NA & 3 & B10 & N708 & CAGAGAGG & S510  & GTCTGAGG & Georg\\_animal\\_feces & sdauser & 133\\\\\n",
       "\t X424\\_Quagga      &  7055376 & 0.3560308 & 21.49890 & 3 & NA & 4 & G6  & N708 & CAGAGAGG & S517B & TGGCGGTC & Georg\\_animal\\_feces & sdauser & 133\\\\\n",
       "\t X430\\_Giraffe     & 11095316 & 0.4738784 & 21.14643 & 3 & NA & 5 & F5  & N704 & TCCTGAGC & S519  & ATGTCAAT & Georg\\_animal\\_feces & sdauser & 133\\\\\n",
       "\\end{tabular}\n"
      ],
      "text/markdown": [
       "\n",
       "A data.frame: 4 × 15\n",
       "\n",
       "| Sample &lt;chr&gt; | Total.Sequences &lt;int&gt; | nonpareil_coverage &lt;dbl&gt; | nonpareil_diversity &lt;dbl&gt; | Lane &lt;int&gt; | Sample_Name &lt;chr&gt; | Sample_Plate &lt;chr&gt; | Sample_Well &lt;chr&gt; | I7_Index_ID &lt;chr&gt; | index &lt;fct&gt; | I5_Index_ID &lt;chr&gt; | index2 &lt;fct&gt; | Sample_Project &lt;fct&gt; | Description &lt;fct&gt; | run &lt;dbl&gt; |\n",
       "|---|---|---|---|---|---|---|---|---|---|---|---|---|---|---|\n",
       "| X313_Red_Deer    |  7175977 | 0.2798983 | 21.83558 | 3 | NA | 3 | H6  | N708 | CAGAGAGG | S509  | GAGTAGCC | Georg_animal_feces | sdauser | 133 |\n",
       "| X349_Smooth_Newt |  9758382 | 0.2005695 | 22.56520 | 3 | NA | 3 | B10 | N708 | CAGAGAGG | S510  | GTCTGAGG | Georg_animal_feces | sdauser | 133 |\n",
       "| X424_Quagga      |  7055376 | 0.3560308 | 21.49890 | 3 | NA | 4 | G6  | N708 | CAGAGAGG | S517B | TGGCGGTC | Georg_animal_feces | sdauser | 133 |\n",
       "| X430_Giraffe     | 11095316 | 0.4738784 | 21.14643 | 3 | NA | 5 | F5  | N704 | TCCTGAGC | S519  | ATGTCAAT | Georg_animal_feces | sdauser | 133 |\n",
       "\n"
      ],
      "text/plain": [
       "  Sample           Total.Sequences nonpareil_coverage nonpareil_diversity Lane\n",
       "1 X313_Red_Deer     7175977        0.2798983          21.83558            3   \n",
       "2 X349_Smooth_Newt  9758382        0.2005695          22.56520            3   \n",
       "3 X424_Quagga       7055376        0.3560308          21.49890            3   \n",
       "4 X430_Giraffe     11095316        0.4738784          21.14643            3   \n",
       "  Sample_Name Sample_Plate Sample_Well I7_Index_ID index    I5_Index_ID\n",
       "1 NA          3            H6          N708        CAGAGAGG S509       \n",
       "2 NA          3            B10         N708        CAGAGAGG S510       \n",
       "3 NA          4            G6          N708        CAGAGAGG S517B      \n",
       "4 NA          5            F5          N704        TCCTGAGC S519       \n",
       "  index2   Sample_Project     Description run\n",
       "1 GAGTAGCC Georg_animal_feces sdauser     133\n",
       "2 GTCTGAGG Georg_animal_feces sdauser     133\n",
       "3 TGGCGGTC Georg_animal_feces sdauser     133\n",
       "4 ATGTCAAT Georg_animal_feces sdauser     133"
      ]
     },
     "metadata": {},
     "output_type": "display_data"
    }
   ],
   "source": [
    "### next most recent\n",
    "qc_f_j_R133L3 = qc_f_j %>%\n",
    "    anti_join(qc_f_j_R163, c('Sample')) %>%\n",
    "    anti_join(qc_f_j_R138, c('Sample')) %>%\n",
    "    filter(run == 133, Lane == 3)%>%\n",
    "    mutate(Sample_Plate = gsub('plate', '', Sample_Plate))\n",
    "\n",
    "qc_f_j_R133L3$nonpareil_coverage %>% summary\n",
    "qc_f_j_R133L3"
   ]
  },
  {
   "cell_type": "code",
   "execution_count": 119,
   "metadata": {
    "ExecuteTime": {
     "end_time": "2020-01-23T07:02:59.641475Z",
     "start_time": "2020-01-23T07:02:59.536Z"
    }
   },
   "outputs": [
    {
     "data": {
      "text/plain": [
       "   Min. 1st Qu.  Median    Mean 3rd Qu.    Max. \n",
       " 0.2776  0.3244  0.4008  0.3942  0.4750  0.4825 "
      ]
     },
     "metadata": {},
     "output_type": "display_data"
    },
    {
     "data": {
      "text/html": [
       "<table>\n",
       "<caption>A data.frame: 7 × 15</caption>\n",
       "<thead>\n",
       "\t<tr><th scope=col>Sample</th><th scope=col>Total.Sequences</th><th scope=col>nonpareil_coverage</th><th scope=col>nonpareil_diversity</th><th scope=col>Lane</th><th scope=col>Sample_Name</th><th scope=col>Sample_Plate</th><th scope=col>Sample_Well</th><th scope=col>I7_Index_ID</th><th scope=col>index</th><th scope=col>I5_Index_ID</th><th scope=col>index2</th><th scope=col>Sample_Project</th><th scope=col>Description</th><th scope=col>run</th></tr>\n",
       "\t<tr><th scope=col>&lt;chr&gt;</th><th scope=col>&lt;int&gt;</th><th scope=col>&lt;dbl&gt;</th><th scope=col>&lt;dbl&gt;</th><th scope=col>&lt;int&gt;</th><th scope=col>&lt;chr&gt;</th><th scope=col>&lt;chr&gt;</th><th scope=col>&lt;chr&gt;</th><th scope=col>&lt;chr&gt;</th><th scope=col>&lt;fct&gt;</th><th scope=col>&lt;chr&gt;</th><th scope=col>&lt;fct&gt;</th><th scope=col>&lt;fct&gt;</th><th scope=col>&lt;fct&gt;</th><th scope=col>&lt;dbl&gt;</th></tr>\n",
       "</thead>\n",
       "<tbody>\n",
       "\t<tr><td>X101_Horse                 </td><td>7716507</td><td>0.3414071</td><td>21.56971</td><td>4</td><td>NA</td><td>1</td><td>G11</td><td>N707</td><td>CTCTCTAC</td><td>S511</td><td>CGTAAGGA</td><td>Georg_animal_feces</td><td>sdauser</td><td>133</td></tr>\n",
       "\t<tr><td>X108_Striped_Desert_Hamster</td><td>4501530</td><td>0.4824608</td><td>20.27906</td><td>4</td><td>NA</td><td>1</td><td>F12</td><td>N706</td><td>TAGGCATG</td><td>S512</td><td>CCACGCGT</td><td>Georg_animal_feces</td><td>sdauser</td><td>133</td></tr>\n",
       "\t<tr><td>⋮</td><td>⋮</td><td>⋮</td><td>⋮</td><td>⋮</td><td>⋮</td><td>⋮</td><td>⋮</td><td>⋮</td><td>⋮</td><td>⋮</td><td>⋮</td><td>⋮</td><td>⋮</td><td>⋮</td></tr>\n",
       "\t<tr><td>X146_Cattle              </td><td>7535123</td><td>0.2776102</td><td>21.86113</td><td>4</td><td>NA</td><td>2</td><td>H4 </td><td>N708</td><td>CAGAGAGG</td><td>S516</td><td>TAACCGCG</td><td>Georg_animal_feces</td><td>sdauser</td><td>133</td></tr>\n",
       "\t<tr><td>X98_Eurasian_Red_Squirrel</td><td>9259271</td><td>0.4763292</td><td>21.16895</td><td>4</td><td>NA</td><td>1</td><td>F11</td><td>N706</td><td>TAGGCATG</td><td>S511</td><td>CGTAAGGA</td><td>Georg_animal_feces</td><td>sdauser</td><td>133</td></tr>\n",
       "</tbody>\n",
       "</table>\n"
      ],
      "text/latex": [
       "A data.frame: 7 × 15\n",
       "\\begin{tabular}{lllllllllllllll}\n",
       " Sample & Total.Sequences & nonpareil\\_coverage & nonpareil\\_diversity & Lane & Sample\\_Name & Sample\\_Plate & Sample\\_Well & I7\\_Index\\_ID & index & I5\\_Index\\_ID & index2 & Sample\\_Project & Description & run\\\\\n",
       " <chr> & <int> & <dbl> & <dbl> & <int> & <chr> & <chr> & <chr> & <chr> & <fct> & <chr> & <fct> & <fct> & <fct> & <dbl>\\\\\n",
       "\\hline\n",
       "\t X101\\_Horse                  & 7716507 & 0.3414071 & 21.56971 & 4 & NA & 1 & G11 & N707 & CTCTCTAC & S511 & CGTAAGGA & Georg\\_animal\\_feces & sdauser & 133\\\\\n",
       "\t X108\\_Striped\\_Desert\\_Hamster & 4501530 & 0.4824608 & 20.27906 & 4 & NA & 1 & F12 & N706 & TAGGCATG & S512 & CCACGCGT & Georg\\_animal\\_feces & sdauser & 133\\\\\n",
       "\t ⋮ & ⋮ & ⋮ & ⋮ & ⋮ & ⋮ & ⋮ & ⋮ & ⋮ & ⋮ & ⋮ & ⋮ & ⋮ & ⋮ & ⋮\\\\\n",
       "\t X146\\_Cattle               & 7535123 & 0.2776102 & 21.86113 & 4 & NA & 2 & H4  & N708 & CAGAGAGG & S516 & TAACCGCG & Georg\\_animal\\_feces & sdauser & 133\\\\\n",
       "\t X98\\_Eurasian\\_Red\\_Squirrel & 9259271 & 0.4763292 & 21.16895 & 4 & NA & 1 & F11 & N706 & TAGGCATG & S511 & CGTAAGGA & Georg\\_animal\\_feces & sdauser & 133\\\\\n",
       "\\end{tabular}\n"
      ],
      "text/markdown": [
       "\n",
       "A data.frame: 7 × 15\n",
       "\n",
       "| Sample &lt;chr&gt; | Total.Sequences &lt;int&gt; | nonpareil_coverage &lt;dbl&gt; | nonpareil_diversity &lt;dbl&gt; | Lane &lt;int&gt; | Sample_Name &lt;chr&gt; | Sample_Plate &lt;chr&gt; | Sample_Well &lt;chr&gt; | I7_Index_ID &lt;chr&gt; | index &lt;fct&gt; | I5_Index_ID &lt;chr&gt; | index2 &lt;fct&gt; | Sample_Project &lt;fct&gt; | Description &lt;fct&gt; | run &lt;dbl&gt; |\n",
       "|---|---|---|---|---|---|---|---|---|---|---|---|---|---|---|\n",
       "| X101_Horse                  | 7716507 | 0.3414071 | 21.56971 | 4 | NA | 1 | G11 | N707 | CTCTCTAC | S511 | CGTAAGGA | Georg_animal_feces | sdauser | 133 |\n",
       "| X108_Striped_Desert_Hamster | 4501530 | 0.4824608 | 20.27906 | 4 | NA | 1 | F12 | N706 | TAGGCATG | S512 | CCACGCGT | Georg_animal_feces | sdauser | 133 |\n",
       "| ⋮ | ⋮ | ⋮ | ⋮ | ⋮ | ⋮ | ⋮ | ⋮ | ⋮ | ⋮ | ⋮ | ⋮ | ⋮ | ⋮ | ⋮ |\n",
       "| X146_Cattle               | 7535123 | 0.2776102 | 21.86113 | 4 | NA | 2 | H4  | N708 | CAGAGAGG | S516 | TAACCGCG | Georg_animal_feces | sdauser | 133 |\n",
       "| X98_Eurasian_Red_Squirrel | 9259271 | 0.4763292 | 21.16895 | 4 | NA | 1 | F11 | N706 | TAGGCATG | S511 | CGTAAGGA | Georg_animal_feces | sdauser | 133 |\n",
       "\n"
      ],
      "text/plain": [
       "  Sample                      Total.Sequences nonpareil_coverage\n",
       "1 X101_Horse                  7716507         0.3414071         \n",
       "2 X108_Striped_Desert_Hamster 4501530         0.4824608         \n",
       "⋮ ⋮                           ⋮               ⋮                 \n",
       "6 X146_Cattle                 7535123         0.2776102         \n",
       "7 X98_Eurasian_Red_Squirrel   9259271         0.4763292         \n",
       "  nonpareil_diversity Lane Sample_Name Sample_Plate Sample_Well I7_Index_ID\n",
       "1 21.56971            4    NA          1            G11         N707       \n",
       "2 20.27906            4    NA          1            F12         N706       \n",
       "⋮ ⋮                   ⋮    ⋮           ⋮            ⋮           ⋮          \n",
       "6 21.86113            4    NA          2            H4          N708       \n",
       "7 21.16895            4    NA          1            F11         N706       \n",
       "  index    I5_Index_ID index2   Sample_Project     Description run\n",
       "1 CTCTCTAC S511        CGTAAGGA Georg_animal_feces sdauser     133\n",
       "2 TAGGCATG S512        CCACGCGT Georg_animal_feces sdauser     133\n",
       "⋮ ⋮        ⋮           ⋮        ⋮                  ⋮           ⋮  \n",
       "6 CAGAGAGG S516        TAACCGCG Georg_animal_feces sdauser     133\n",
       "7 TAGGCATG S511        CGTAAGGA Georg_animal_feces sdauser     133"
      ]
     },
     "metadata": {},
     "output_type": "display_data"
    }
   ],
   "source": [
    "### next most recent\n",
    "qc_f_j_R133L4 = qc_f_j %>%\n",
    "    anti_join(qc_f_j_R163, c('Sample')) %>%\n",
    "    anti_join(qc_f_j_R138, c('Sample')) %>%\n",
    "    anti_join(qc_f_j_R133L3, c('Sample')) %>%\n",
    "    filter(run == 133, Lane == 4) %>%\n",
    "    mutate(Sample_Plate = gsub('plate', '', Sample_Plate))\n",
    "\n",
    "qc_f_j_R133L4$nonpareil_coverage %>% summary\n",
    "qc_f_j_R133L4"
   ]
  },
  {
   "cell_type": "code",
   "execution_count": 122,
   "metadata": {
    "ExecuteTime": {
     "end_time": "2020-01-23T07:03:42.411600Z",
     "start_time": "2020-01-23T07:03:42.328Z"
    }
   },
   "outputs": [
    {
     "data": {
      "text/html": [
       "<table>\n",
       "<caption>A data.frame: 131 × 16</caption>\n",
       "<thead>\n",
       "\t<tr><th scope=col>Sample</th><th scope=col>Total.Sequences</th><th scope=col>nonpareil_coverage</th><th scope=col>nonpareil_diversity</th><th scope=col>run_lane_plate</th><th scope=col>Lane</th><th scope=col>Sample_Name</th><th scope=col>Sample_Plate</th><th scope=col>Sample_Well</th><th scope=col>I7_Index_ID</th><th scope=col>index</th><th scope=col>I5_Index_ID</th><th scope=col>index2</th><th scope=col>Sample_Project</th><th scope=col>Description</th><th scope=col>run</th></tr>\n",
       "\t<tr><th scope=col>&lt;chr&gt;</th><th scope=col>&lt;int&gt;</th><th scope=col>&lt;dbl&gt;</th><th scope=col>&lt;dbl&gt;</th><th scope=col>&lt;chr&gt;</th><th scope=col>&lt;int&gt;</th><th scope=col>&lt;chr&gt;</th><th scope=col>&lt;chr&gt;</th><th scope=col>&lt;chr&gt;</th><th scope=col>&lt;chr&gt;</th><th scope=col>&lt;fct&gt;</th><th scope=col>&lt;chr&gt;</th><th scope=col>&lt;fct&gt;</th><th scope=col>&lt;fct&gt;</th><th scope=col>&lt;fct&gt;</th><th scope=col>&lt;dbl&gt;</th></tr>\n",
       "</thead>\n",
       "<tbody>\n",
       "\t<tr><td>X10_House_Mouse</td><td>4643882</td><td>0.4148921</td><td>21.25512</td><td>163_3_1</td><td>3</td><td>X10_House_Mouse</td><td>1</td><td>C05</td><td>N701</td><td>TAAGGCGA</td><td>S502</td><td>ATAGAGAG</td><td>Georg_animal_gut_metagenome</td><td>sdauser</td><td>163</td></tr>\n",
       "\t<tr><td>X110_Noctule   </td><td>4775749</td><td>0.4049221</td><td>21.51596</td><td>163_3_1</td><td>3</td><td>X110_Noctule   </td><td>1</td><td>F01</td><td>N708</td><td>CAGAGAGG</td><td>S512</td><td>CCACGCGT</td><td>Georg_animal_gut_metagenome</td><td>sdauser</td><td>163</td></tr>\n",
       "\t<tr><td>⋮</td><td>⋮</td><td>⋮</td><td>⋮</td><td>⋮</td><td>⋮</td><td>⋮</td><td>⋮</td><td>⋮</td><td>⋮</td><td>⋮</td><td>⋮</td><td>⋮</td><td>⋮</td><td>⋮</td><td>⋮</td></tr>\n",
       "\t<tr><td>X146_Cattle              </td><td>7535123</td><td>0.2776102</td><td>21.86113</td><td>133_4_2</td><td>4</td><td>NA</td><td>2</td><td>H4 </td><td>N708</td><td>CAGAGAGG</td><td>S516</td><td>TAACCGCG</td><td>Georg_animal_feces</td><td>sdauser</td><td>133</td></tr>\n",
       "\t<tr><td>X98_Eurasian_Red_Squirrel</td><td>9259271</td><td>0.4763292</td><td>21.16895</td><td>133_4_1</td><td>4</td><td>NA</td><td>1</td><td>F11</td><td>N706</td><td>TAGGCATG</td><td>S511</td><td>CGTAAGGA</td><td>Georg_animal_feces</td><td>sdauser</td><td>133</td></tr>\n",
       "</tbody>\n",
       "</table>\n"
      ],
      "text/latex": [
       "A data.frame: 131 × 16\n",
       "\\begin{tabular}{llllllllllllllll}\n",
       " Sample & Total.Sequences & nonpareil\\_coverage & nonpareil\\_diversity & run\\_lane\\_plate & Lane & Sample\\_Name & Sample\\_Plate & Sample\\_Well & I7\\_Index\\_ID & index & I5\\_Index\\_ID & index2 & Sample\\_Project & Description & run\\\\\n",
       " <chr> & <int> & <dbl> & <dbl> & <chr> & <int> & <chr> & <chr> & <chr> & <chr> & <fct> & <chr> & <fct> & <fct> & <fct> & <dbl>\\\\\n",
       "\\hline\n",
       "\t X10\\_House\\_Mouse & 4643882 & 0.4148921 & 21.25512 & 163\\_3\\_1 & 3 & X10\\_House\\_Mouse & 1 & C05 & N701 & TAAGGCGA & S502 & ATAGAGAG & Georg\\_animal\\_gut\\_metagenome & sdauser & 163\\\\\n",
       "\t X110\\_Noctule    & 4775749 & 0.4049221 & 21.51596 & 163\\_3\\_1 & 3 & X110\\_Noctule    & 1 & F01 & N708 & CAGAGAGG & S512 & CCACGCGT & Georg\\_animal\\_gut\\_metagenome & sdauser & 163\\\\\n",
       "\t ⋮ & ⋮ & ⋮ & ⋮ & ⋮ & ⋮ & ⋮ & ⋮ & ⋮ & ⋮ & ⋮ & ⋮ & ⋮ & ⋮ & ⋮ & ⋮\\\\\n",
       "\t X146\\_Cattle               & 7535123 & 0.2776102 & 21.86113 & 133\\_4\\_2 & 4 & NA & 2 & H4  & N708 & CAGAGAGG & S516 & TAACCGCG & Georg\\_animal\\_feces & sdauser & 133\\\\\n",
       "\t X98\\_Eurasian\\_Red\\_Squirrel & 9259271 & 0.4763292 & 21.16895 & 133\\_4\\_1 & 4 & NA & 1 & F11 & N706 & TAGGCATG & S511 & CGTAAGGA & Georg\\_animal\\_feces & sdauser & 133\\\\\n",
       "\\end{tabular}\n"
      ],
      "text/markdown": [
       "\n",
       "A data.frame: 131 × 16\n",
       "\n",
       "| Sample &lt;chr&gt; | Total.Sequences &lt;int&gt; | nonpareil_coverage &lt;dbl&gt; | nonpareil_diversity &lt;dbl&gt; | run_lane_plate &lt;chr&gt; | Lane &lt;int&gt; | Sample_Name &lt;chr&gt; | Sample_Plate &lt;chr&gt; | Sample_Well &lt;chr&gt; | I7_Index_ID &lt;chr&gt; | index &lt;fct&gt; | I5_Index_ID &lt;chr&gt; | index2 &lt;fct&gt; | Sample_Project &lt;fct&gt; | Description &lt;fct&gt; | run &lt;dbl&gt; |\n",
       "|---|---|---|---|---|---|---|---|---|---|---|---|---|---|---|---|\n",
       "| X10_House_Mouse | 4643882 | 0.4148921 | 21.25512 | 163_3_1 | 3 | X10_House_Mouse | 1 | C05 | N701 | TAAGGCGA | S502 | ATAGAGAG | Georg_animal_gut_metagenome | sdauser | 163 |\n",
       "| X110_Noctule    | 4775749 | 0.4049221 | 21.51596 | 163_3_1 | 3 | X110_Noctule    | 1 | F01 | N708 | CAGAGAGG | S512 | CCACGCGT | Georg_animal_gut_metagenome | sdauser | 163 |\n",
       "| ⋮ | ⋮ | ⋮ | ⋮ | ⋮ | ⋮ | ⋮ | ⋮ | ⋮ | ⋮ | ⋮ | ⋮ | ⋮ | ⋮ | ⋮ | ⋮ |\n",
       "| X146_Cattle               | 7535123 | 0.2776102 | 21.86113 | 133_4_2 | 4 | NA | 2 | H4  | N708 | CAGAGAGG | S516 | TAACCGCG | Georg_animal_feces | sdauser | 133 |\n",
       "| X98_Eurasian_Red_Squirrel | 9259271 | 0.4763292 | 21.16895 | 133_4_1 | 4 | NA | 1 | F11 | N706 | TAGGCATG | S511 | CGTAAGGA | Georg_animal_feces | sdauser | 133 |\n",
       "\n"
      ],
      "text/plain": [
       "    Sample                    Total.Sequences nonpareil_coverage\n",
       "1   X10_House_Mouse           4643882         0.4148921         \n",
       "2   X110_Noctule              4775749         0.4049221         \n",
       "⋮   ⋮                         ⋮               ⋮                 \n",
       "130 X146_Cattle               7535123         0.2776102         \n",
       "131 X98_Eurasian_Red_Squirrel 9259271         0.4763292         \n",
       "    nonpareil_diversity run_lane_plate Lane Sample_Name     Sample_Plate\n",
       "1   21.25512            163_3_1        3    X10_House_Mouse 1           \n",
       "2   21.51596            163_3_1        3    X110_Noctule    1           \n",
       "⋮   ⋮                   ⋮              ⋮    ⋮               ⋮           \n",
       "130 21.86113            133_4_2        4    NA              2           \n",
       "131 21.16895            133_4_1        4    NA              1           \n",
       "    Sample_Well I7_Index_ID index    I5_Index_ID index2  \n",
       "1   C05         N701        TAAGGCGA S502        ATAGAGAG\n",
       "2   F01         N708        CAGAGAGG S512        CCACGCGT\n",
       "⋮   ⋮           ⋮           ⋮        ⋮           ⋮       \n",
       "130 H4          N708        CAGAGAGG S516        TAACCGCG\n",
       "131 F11         N706        TAGGCATG S511        CGTAAGGA\n",
       "    Sample_Project              Description run\n",
       "1   Georg_animal_gut_metagenome sdauser     163\n",
       "2   Georg_animal_gut_metagenome sdauser     163\n",
       "⋮   ⋮                           ⋮           ⋮  \n",
       "130 Georg_animal_feces          sdauser     133\n",
       "131 Georg_animal_feces          sdauser     133"
      ]
     },
     "metadata": {},
     "output_type": "display_data"
    }
   ],
   "source": [
    "# all combined\n",
    "qc_repool = qc_f_j_R163 %>%\n",
    "    rbind(qc_f_j_R138) %>%\n",
    "    rbind(qc_f_j_R133L3) %>%\n",
    "    rbind(qc_f_j_R133L4) %>%\n",
    "    unite(run_lane_plate, run, Lane, Sample_Plate, remove=FALSE, sep='_')\n",
    "\n",
    "qc_repool"
   ]
  },
  {
   "cell_type": "markdown",
   "metadata": {},
   "source": [
    "## Summary of repool"
   ]
  },
  {
   "cell_type": "code",
   "execution_count": 127,
   "metadata": {
    "ExecuteTime": {
     "end_time": "2020-01-23T07:04:36.513048Z",
     "start_time": "2020-01-23T07:04:36.444Z"
    }
   },
   "outputs": [
    {
     "data": {
      "text/plain": [
       "    Min.  1st Qu.   Median     Mean  3rd Qu.     Max. \n",
       "  118337  1223102  2620123  3217894  4511574 11095316 "
      ]
     },
     "metadata": {},
     "output_type": "display_data"
    },
    {
     "data": {
      "text/plain": [
       "   Min. 1st Qu.  Median    Mean 3rd Qu.    Max. \n",
       " 0.1507  0.3499  0.4223  0.4022  0.4709  0.4997 "
      ]
     },
     "metadata": {},
     "output_type": "display_data"
    }
   ],
   "source": [
    "qc_repool$Total.Sequences %>% summary\n",
    "qc_repool$nonpareil_coverage %>% summary"
   ]
  },
  {
   "cell_type": "code",
   "execution_count": 130,
   "metadata": {
    "ExecuteTime": {
     "end_time": "2020-01-23T07:05:07.728127Z",
     "start_time": "2020-01-23T07:05:07.676Z"
    }
   },
   "outputs": [
    {
     "data": {
      "text/plain": [
       ".\n",
       "133_3_3 133_3_4 133_3_5 133_4_1 133_4_2 138_8_1 138_8_2 138_8_3 138_8_4 163_3_1 \n",
       "      2       1       1       3       4      14      10      10       6      74 \n",
       "163_3_2 \n",
       "      6 "
      ]
     },
     "metadata": {},
     "output_type": "display_data"
    },
    {
     "data": {
      "text/html": [
       "11"
      ],
      "text/latex": [
       "11"
      ],
      "text/markdown": [
       "11"
      ],
      "text/plain": [
       "[1] 11"
      ]
     },
     "metadata": {},
     "output_type": "display_data"
    }
   ],
   "source": [
    "# total number of plates\n",
    "qc_repool$run_lane_plate %>% table\n",
    "qc_repool$run_lane_plate %>% unique %>% length"
   ]
  },
  {
   "cell_type": "code",
   "execution_count": 131,
   "metadata": {
    "ExecuteTime": {
     "end_time": "2020-01-23T07:05:15.803643Z",
     "start_time": "2020-01-23T07:05:15.744Z"
    }
   },
   "outputs": [
    {
     "data": {
      "text/html": [
       "<table>\n",
       "<caption>A tibble: 5 × 2</caption>\n",
       "<thead>\n",
       "\t<tr><th scope=col>class</th><th scope=col>n_samps</th></tr>\n",
       "\t<tr><th scope=col>&lt;fct&gt;</th><th scope=col>&lt;int&gt;</th></tr>\n",
       "</thead>\n",
       "<tbody>\n",
       "\t<tr><td>Mammalia      </td><td>93</td></tr>\n",
       "\t<tr><td>Aves          </td><td>19</td></tr>\n",
       "\t<tr><td>Actinopterygii</td><td> 9</td></tr>\n",
       "\t<tr><td>Reptilia      </td><td> 6</td></tr>\n",
       "\t<tr><td>Amphibia      </td><td> 4</td></tr>\n",
       "</tbody>\n",
       "</table>\n"
      ],
      "text/latex": [
       "A tibble: 5 × 2\n",
       "\\begin{tabular}{ll}\n",
       " class & n\\_samps\\\\\n",
       " <fct> & <int>\\\\\n",
       "\\hline\n",
       "\t Mammalia       & 93\\\\\n",
       "\t Aves           & 19\\\\\n",
       "\t Actinopterygii &  9\\\\\n",
       "\t Reptilia       &  6\\\\\n",
       "\t Amphibia       &  4\\\\\n",
       "\\end{tabular}\n"
      ],
      "text/markdown": [
       "\n",
       "A tibble: 5 × 2\n",
       "\n",
       "| class &lt;fct&gt; | n_samps &lt;int&gt; |\n",
       "|---|---|\n",
       "| Mammalia       | 93 |\n",
       "| Aves           | 19 |\n",
       "| Actinopterygii |  9 |\n",
       "| Reptilia       |  6 |\n",
       "| Amphibia       |  4 |\n",
       "\n"
      ],
      "text/plain": [
       "  class          n_samps\n",
       "1 Mammalia       93     \n",
       "2 Aves           19     \n",
       "3 Actinopterygii  9     \n",
       "4 Reptilia        6     \n",
       "5 Amphibia        4     "
      ]
     },
     "metadata": {},
     "output_type": "display_data"
    }
   ],
   "source": [
    "qc_repool_j = qc_repool %>%\n",
    "    inner_join(metadata, c('Sample'='SampleID')) \n",
    "\n",
    "dt.dims(10)\n",
    "qc_repool_j %>%\n",
    "    group_by(class) %>%\n",
    "    summarize(n_samps = n_distinct(Sample)) %>%\n",
    "    ungroup() %>%\n",
    "    arrange(-n_samps)\n",
    "dt.dims()"
   ]
  },
  {
   "cell_type": "markdown",
   "metadata": {},
   "source": [
    "## Overlapping barcodes?"
   ]
  },
  {
   "cell_type": "code",
   "execution_count": 132,
   "metadata": {
    "ExecuteTime": {
     "end_time": "2020-01-23T07:05:17.245044Z",
     "start_time": "2020-01-23T07:05:17.176Z"
    }
   },
   "outputs": [
    {
     "data": {
      "text/html": [
       "<table>\n",
       "<caption>A tibble: 0 × 3</caption>\n",
       "<thead>\n",
       "\t<tr><th scope=col>I7_Index_ID</th><th scope=col>I5_Index_ID</th><th scope=col>n</th></tr>\n",
       "\t<tr><th scope=col>&lt;chr&gt;</th><th scope=col>&lt;chr&gt;</th><th scope=col>&lt;int&gt;</th></tr>\n",
       "</thead>\n",
       "<tbody>\n",
       "</tbody>\n",
       "</table>\n"
      ],
      "text/latex": [
       "A tibble: 0 × 3\n",
       "\\begin{tabular}{lll}\n",
       " I7\\_Index\\_ID & I5\\_Index\\_ID & n\\\\\n",
       " <chr> & <chr> & <int>\\\\\n",
       "\\hline\n",
       "\\end{tabular}\n"
      ],
      "text/markdown": [
       "\n",
       "A tibble: 0 × 3\n",
       "\n",
       "| I7_Index_ID &lt;chr&gt; | I5_Index_ID &lt;chr&gt; | n &lt;int&gt; |\n",
       "|---|---|---|\n",
       "\n"
      ],
      "text/plain": [
       "     I7_Index_ID I5_Index_ID n"
      ]
     },
     "metadata": {},
     "output_type": "display_data"
    }
   ],
   "source": [
    "qc_repool %>%\n",
    "    group_by(I7_Index_ID, I5_Index_ID) %>%\n",
    "    summarize(n = n()) %>%\n",
    "    ungroup() %>%\n",
    "    filter(n > 1)"
   ]
  },
  {
   "cell_type": "code",
   "execution_count": 170,
   "metadata": {
    "ExecuteTime": {
     "end_time": "2020-01-23T07:13:38.671898Z",
     "start_time": "2020-01-23T07:13:38.614Z"
    }
   },
   "outputs": [
    {
     "data": {
      "text/html": [
       "131"
      ],
      "text/latex": [
       "131"
      ],
      "text/markdown": [
       "131"
      ],
      "text/plain": [
       "[1] 131"
      ]
     },
     "metadata": {},
     "output_type": "display_data"
    },
    {
     "data": {
      "text/html": [
       "131"
      ],
      "text/latex": [
       "131"
      ],
      "text/markdown": [
       "131"
      ],
      "text/plain": [
       "[1] 131"
      ]
     },
     "metadata": {},
     "output_type": "display_data"
    }
   ],
   "source": [
    "# duplicate samples?\n",
    "qc_repool$Sample %>% length\n",
    "qc_repool$Sample %>% unique %>% length"
   ]
  },
  {
   "cell_type": "markdown",
   "metadata": {},
   "source": [
    "# Creating pooling table\n",
    "\n",
    "* for robot pooling app"
   ]
  },
  {
   "cell_type": "markdown",
   "metadata": {},
   "source": [
    "## Repool: round 1"
   ]
  },
  {
   "cell_type": "code",
   "execution_count": 163,
   "metadata": {
    "ExecuteTime": {
     "end_time": "2020-01-23T07:12:58.510115Z",
     "start_time": "2020-01-23T07:12:58.470Z"
    }
   },
   "outputs": [],
   "source": [
    "source_plates = c('133_3_3', '133_3_4', '133_3_5', '133_4_1', '133_4_2', '163_3_1', '163_3_2')"
   ]
  },
  {
   "cell_type": "code",
   "execution_count": 164,
   "metadata": {
    "ExecuteTime": {
     "end_time": "2020-01-23T07:12:58.693411Z",
     "start_time": "2020-01-23T07:12:58.603Z"
    }
   },
   "outputs": [
    {
     "data": {
      "text/html": [
       "<table>\n",
       "<caption>A data.frame: 91 × 12</caption>\n",
       "<thead>\n",
       "\t<tr><th scope=col>Source Labware Label</th><th scope=col>Source Position</th><th scope=col>Destination Labware Label</th><th scope=col>Destination Position</th><th scope=col>Volume</th><th scope=col>Sample</th><th scope=col>I7_Index_ID</th><th scope=col>index</th><th scope=col>I5_Index_ID</th><th scope=col>index2</th><th scope=col>run</th><th scope=col>Lane</th></tr>\n",
       "\t<tr><th scope=col>&lt;chr&gt;</th><th scope=col>&lt;dbl&gt;</th><th scope=col>&lt;chr&gt;</th><th scope=col>&lt;int&gt;</th><th scope=col>&lt;dbl&gt;</th><th scope=col>&lt;chr&gt;</th><th scope=col>&lt;chr&gt;</th><th scope=col>&lt;fct&gt;</th><th scope=col>&lt;chr&gt;</th><th scope=col>&lt;fct&gt;</th><th scope=col>&lt;dbl&gt;</th><th scope=col>&lt;int&gt;</th></tr>\n",
       "</thead>\n",
       "<tbody>\n",
       "\t<tr><td>96 Well Eppendorf TwinTec PCR[001]</td><td>48</td><td>96 Well Eppendorf TwinTec PCR[005]</td><td>1</td><td>5</td><td>X313_Red_Deer   </td><td>N708</td><td>CAGAGAGG</td><td>S509</td><td>GAGTAGCC</td><td>133</td><td>3</td></tr>\n",
       "\t<tr><td>96 Well Eppendorf TwinTec PCR[001]</td><td>74</td><td>96 Well Eppendorf TwinTec PCR[005]</td><td>2</td><td>5</td><td>X349_Smooth_Newt</td><td>N708</td><td>CAGAGAGG</td><td>S510</td><td>GTCTGAGG</td><td>133</td><td>3</td></tr>\n",
       "\t<tr><td>⋮</td><td>⋮</td><td>⋮</td><td>⋮</td><td>⋮</td><td>⋮</td><td>⋮</td><td>⋮</td><td>⋮</td><td>⋮</td><td>⋮</td><td>⋮</td></tr>\n",
       "\t<tr><td>96 Well Eppendorf TwinTec PCR[007]</td><td>5</td><td>96 Well Eppendorf TwinTec PCR[005]</td><td>90</td><td>5</td><td>X434_Blue_Wildebeest</td><td>N716</td><td>ACTCGCTA</td><td>S519</td><td>ATGTCAAT</td><td>163</td><td>3</td></tr>\n",
       "\t<tr><td>96 Well Eppendorf TwinTec PCR[007]</td><td>6</td><td>96 Well Eppendorf TwinTec PCR[005]</td><td>91</td><td>5</td><td>X435_Bactrian_Camel </td><td>N718</td><td>GGAGCTAC</td><td>S519</td><td>ATGTCAAT</td><td>163</td><td>3</td></tr>\n",
       "</tbody>\n",
       "</table>\n"
      ],
      "text/latex": [
       "A data.frame: 91 × 12\n",
       "\\begin{tabular}{llllllllllll}\n",
       " Source Labware Label & Source Position & Destination Labware Label & Destination Position & Volume & Sample & I7\\_Index\\_ID & index & I5\\_Index\\_ID & index2 & run & Lane\\\\\n",
       " <chr> & <dbl> & <chr> & <int> & <dbl> & <chr> & <chr> & <fct> & <chr> & <fct> & <dbl> & <int>\\\\\n",
       "\\hline\n",
       "\t 96 Well Eppendorf TwinTec PCR{[}001{]} & 48 & 96 Well Eppendorf TwinTec PCR{[}005{]} & 1 & 5 & X313\\_Red\\_Deer    & N708 & CAGAGAGG & S509 & GAGTAGCC & 133 & 3\\\\\n",
       "\t 96 Well Eppendorf TwinTec PCR{[}001{]} & 74 & 96 Well Eppendorf TwinTec PCR{[}005{]} & 2 & 5 & X349\\_Smooth\\_Newt & N708 & CAGAGAGG & S510 & GTCTGAGG & 133 & 3\\\\\n",
       "\t ⋮ & ⋮ & ⋮ & ⋮ & ⋮ & ⋮ & ⋮ & ⋮ & ⋮ & ⋮ & ⋮ & ⋮\\\\\n",
       "\t 96 Well Eppendorf TwinTec PCR{[}007{]} & 5 & 96 Well Eppendorf TwinTec PCR{[}005{]} & 90 & 5 & X434\\_Blue\\_Wildebeest & N716 & ACTCGCTA & S519 & ATGTCAAT & 163 & 3\\\\\n",
       "\t 96 Well Eppendorf TwinTec PCR{[}007{]} & 6 & 96 Well Eppendorf TwinTec PCR{[}005{]} & 91 & 5 & X435\\_Bactrian\\_Camel  & N718 & GGAGCTAC & S519 & ATGTCAAT & 163 & 3\\\\\n",
       "\\end{tabular}\n"
      ],
      "text/markdown": [
       "\n",
       "A data.frame: 91 × 12\n",
       "\n",
       "| Source Labware Label &lt;chr&gt; | Source Position &lt;dbl&gt; | Destination Labware Label &lt;chr&gt; | Destination Position &lt;int&gt; | Volume &lt;dbl&gt; | Sample &lt;chr&gt; | I7_Index_ID &lt;chr&gt; | index &lt;fct&gt; | I5_Index_ID &lt;chr&gt; | index2 &lt;fct&gt; | run &lt;dbl&gt; | Lane &lt;int&gt; |\n",
       "|---|---|---|---|---|---|---|---|---|---|---|---|\n",
       "| 96 Well Eppendorf TwinTec PCR[001] | 48 | 96 Well Eppendorf TwinTec PCR[005] | 1 | 5 | X313_Red_Deer    | N708 | CAGAGAGG | S509 | GAGTAGCC | 133 | 3 |\n",
       "| 96 Well Eppendorf TwinTec PCR[001] | 74 | 96 Well Eppendorf TwinTec PCR[005] | 2 | 5 | X349_Smooth_Newt | N708 | CAGAGAGG | S510 | GTCTGAGG | 133 | 3 |\n",
       "| ⋮ | ⋮ | ⋮ | ⋮ | ⋮ | ⋮ | ⋮ | ⋮ | ⋮ | ⋮ | ⋮ | ⋮ |\n",
       "| 96 Well Eppendorf TwinTec PCR[007] | 5 | 96 Well Eppendorf TwinTec PCR[005] | 90 | 5 | X434_Blue_Wildebeest | N716 | ACTCGCTA | S519 | ATGTCAAT | 163 | 3 |\n",
       "| 96 Well Eppendorf TwinTec PCR[007] | 6 | 96 Well Eppendorf TwinTec PCR[005] | 91 | 5 | X435_Bactrian_Camel  | N718 | GGAGCTAC | S519 | ATGTCAAT | 163 | 3 |\n",
       "\n"
      ],
      "text/plain": [
       "   Source Labware Label               Source Position\n",
       "1  96 Well Eppendorf TwinTec PCR[001] 48             \n",
       "2  96 Well Eppendorf TwinTec PCR[001] 74             \n",
       "⋮  ⋮                                  ⋮              \n",
       "90 96 Well Eppendorf TwinTec PCR[007] 5              \n",
       "91 96 Well Eppendorf TwinTec PCR[007] 6              \n",
       "   Destination Labware Label          Destination Position Volume\n",
       "1  96 Well Eppendorf TwinTec PCR[005] 1                    5     \n",
       "2  96 Well Eppendorf TwinTec PCR[005] 2                    5     \n",
       "⋮  ⋮                                  ⋮                    ⋮     \n",
       "90 96 Well Eppendorf TwinTec PCR[005] 90                   5     \n",
       "91 96 Well Eppendorf TwinTec PCR[005] 91                   5     \n",
       "   Sample               I7_Index_ID index    I5_Index_ID index2   run Lane\n",
       "1  X313_Red_Deer        N708        CAGAGAGG S509        GAGTAGCC 133 3   \n",
       "2  X349_Smooth_Newt     N708        CAGAGAGG S510        GTCTGAGG 133 3   \n",
       "⋮  ⋮                    ⋮           ⋮        ⋮           ⋮        ⋮   ⋮   \n",
       "90 X434_Blue_Wildebeest N716        ACTCGCTA S519        ATGTCAAT 163 3   \n",
       "91 X435_Bactrian_Camel  N718        GGAGCTAC S519        ATGTCAAT 163 3   "
      ]
     },
     "metadata": {},
     "output_type": "display_data"
    }
   ],
   "source": [
    "plate_base = '96 Well Eppendorf TwinTec PCR[00'\n",
    "\n",
    "qc_repool_f = qc_repool %>%\n",
    "    filter(run_lane_plate %in% source_plates) %>%\n",
    "    mutate(plate = run_lane_plate %>% as.factor %>% as.numeric) %>%\n",
    "    dplyr::select(Sample, Sample_Plate, Sample_Well, I7_Index_ID, index,\n",
    "                  I5_Index_ID, index2, run, Lane, plate) %>%\n",
    "    mutate(`Source Labware Label` = gsub('([0-9]+)', '96 Well Eppendorf TwinTec PCR[00\\\\1]', plate)) %>%\n",
    "    mutate(`Source Position` = well2index(Sample_Well)) %>%\n",
    "    mutate(`Destination Labware Label` = '96 Well Eppendorf TwinTec PCR[005]') %>%\n",
    "    arrange(`Source Labware Label`, `Source Position`) %>%\n",
    "    mutate(`Destination Position` = 1:nrow(.),\n",
    "           Volume = 5) %>%\n",
    "    dplyr::select(`Source Labware Label`, `Source Position`, `Destination Labware Label`,\n",
    "                  `Destination Position`, Volume, \n",
    "                  Sample, I7_Index_ID, index, I5_Index_ID, index2, run, Lane) \n",
    "\n",
    "\n",
    "qc_repool_f"
   ]
  },
  {
   "cell_type": "markdown",
   "metadata": {},
   "source": [
    "### Writing table"
   ]
  },
  {
   "cell_type": "code",
   "execution_count": 165,
   "metadata": {
    "ExecuteTime": {
     "end_time": "2020-01-23T07:12:58.890957Z",
     "start_time": "2020-01-23T07:12:58.845Z"
    }
   },
   "outputs": [
    {
     "name": "stdout",
     "output_type": "stream",
     "text": [
      "File written: /ebio/abt3_projects/Georg_animal_feces/data/metagenome/HiSeqRuns126-133-0138/wOutVertebrata/LLMGQC//2019-01-22_to-repool_round1.tsv"
     ]
    }
   ],
   "source": [
    "outfile = file.path(work_dir, '2019-01-22_to-repool_round1.tsv') \n",
    "write_table(qc_repool_f, outfile)"
   ]
  },
  {
   "cell_type": "markdown",
   "metadata": {},
   "source": [
    "## Repool: round2"
   ]
  },
  {
   "cell_type": "code",
   "execution_count": 166,
   "metadata": {
    "ExecuteTime": {
     "end_time": "2020-01-23T07:13:00.346687Z",
     "start_time": "2020-01-23T07:13:00.300Z"
    }
   },
   "outputs": [],
   "source": [
    "source_plates = c('138_8_1', '138_8_2', '138_8_3', '138_8_4')"
   ]
  },
  {
   "cell_type": "code",
   "execution_count": 167,
   "metadata": {
    "ExecuteTime": {
     "end_time": "2020-01-23T07:13:02.408558Z",
     "start_time": "2020-01-23T07:13:02.318Z"
    }
   },
   "outputs": [
    {
     "data": {
      "text/html": [
       "<table>\n",
       "<caption>A data.frame: 40 × 12</caption>\n",
       "<thead>\n",
       "\t<tr><th scope=col>Source Labware Label</th><th scope=col>Source Position</th><th scope=col>Destination Labware Label</th><th scope=col>Destination Position</th><th scope=col>Volume</th><th scope=col>Sample</th><th scope=col>I7_Index_ID</th><th scope=col>index</th><th scope=col>I5_Index_ID</th><th scope=col>index2</th><th scope=col>run</th><th scope=col>Lane</th></tr>\n",
       "\t<tr><th scope=col>&lt;chr&gt;</th><th scope=col>&lt;dbl&gt;</th><th scope=col>&lt;chr&gt;</th><th scope=col>&lt;int&gt;</th><th scope=col>&lt;dbl&gt;</th><th scope=col>&lt;chr&gt;</th><th scope=col>&lt;chr&gt;</th><th scope=col>&lt;fct&gt;</th><th scope=col>&lt;chr&gt;</th><th scope=col>&lt;fct&gt;</th><th scope=col>&lt;dbl&gt;</th><th scope=col>&lt;int&gt;</th></tr>\n",
       "</thead>\n",
       "<tbody>\n",
       "\t<tr><td>96 Well Eppendorf TwinTec PCR[001]</td><td>6</td><td>96 Well Eppendorf TwinTec PCR[005]</td><td>1</td><td>5</td><td>X6_Common_Hamster </td><td>N706</td><td>TAGGCATG</td><td>S501</td><td>GCGATCTA</td><td>138</td><td>8</td></tr>\n",
       "\t<tr><td>96 Well Eppendorf TwinTec PCR[001]</td><td>8</td><td>96 Well Eppendorf TwinTec PCR[005]</td><td>2</td><td>5</td><td>X8_Garden_Dormouse</td><td>N708</td><td>CAGAGAGG</td><td>S501</td><td>GCGATCTA</td><td>138</td><td>8</td></tr>\n",
       "\t<tr><td>⋮</td><td>⋮</td><td>⋮</td><td>⋮</td><td>⋮</td><td>⋮</td><td>⋮</td><td>⋮</td><td>⋮</td><td>⋮</td><td>⋮</td><td>⋮</td></tr>\n",
       "\t<tr><td>96 Well Eppendorf TwinTec PCR[004]</td><td>61</td><td>96 Well Eppendorf TwinTec PCR[005]</td><td>39</td><td>5</td><td>XF144_Wood_Sandpiper</td><td>N715</td><td>ATCTCAGG</td><td>S520</td><td>AGTTGGCT</td><td>138</td><td>8</td></tr>\n",
       "\t<tr><td>96 Well Eppendorf TwinTec PCR[004]</td><td>67</td><td>96 Well Eppendorf TwinTec PCR[005]</td><td>40</td><td>5</td><td>XF315_Northern_Pike </td><td>N711</td><td>AAGAGGCA</td><td>S521</td><td>ACCTAGTA</td><td>138</td><td>8</td></tr>\n",
       "</tbody>\n",
       "</table>\n"
      ],
      "text/latex": [
       "A data.frame: 40 × 12\n",
       "\\begin{tabular}{llllllllllll}\n",
       " Source Labware Label & Source Position & Destination Labware Label & Destination Position & Volume & Sample & I7\\_Index\\_ID & index & I5\\_Index\\_ID & index2 & run & Lane\\\\\n",
       " <chr> & <dbl> & <chr> & <int> & <dbl> & <chr> & <chr> & <fct> & <chr> & <fct> & <dbl> & <int>\\\\\n",
       "\\hline\n",
       "\t 96 Well Eppendorf TwinTec PCR{[}001{]} & 6 & 96 Well Eppendorf TwinTec PCR{[}005{]} & 1 & 5 & X6\\_Common\\_Hamster  & N706 & TAGGCATG & S501 & GCGATCTA & 138 & 8\\\\\n",
       "\t 96 Well Eppendorf TwinTec PCR{[}001{]} & 8 & 96 Well Eppendorf TwinTec PCR{[}005{]} & 2 & 5 & X8\\_Garden\\_Dormouse & N708 & CAGAGAGG & S501 & GCGATCTA & 138 & 8\\\\\n",
       "\t ⋮ & ⋮ & ⋮ & ⋮ & ⋮ & ⋮ & ⋮ & ⋮ & ⋮ & ⋮ & ⋮ & ⋮\\\\\n",
       "\t 96 Well Eppendorf TwinTec PCR{[}004{]} & 61 & 96 Well Eppendorf TwinTec PCR{[}005{]} & 39 & 5 & XF144\\_Wood\\_Sandpiper & N715 & ATCTCAGG & S520 & AGTTGGCT & 138 & 8\\\\\n",
       "\t 96 Well Eppendorf TwinTec PCR{[}004{]} & 67 & 96 Well Eppendorf TwinTec PCR{[}005{]} & 40 & 5 & XF315\\_Northern\\_Pike  & N711 & AAGAGGCA & S521 & ACCTAGTA & 138 & 8\\\\\n",
       "\\end{tabular}\n"
      ],
      "text/markdown": [
       "\n",
       "A data.frame: 40 × 12\n",
       "\n",
       "| Source Labware Label &lt;chr&gt; | Source Position &lt;dbl&gt; | Destination Labware Label &lt;chr&gt; | Destination Position &lt;int&gt; | Volume &lt;dbl&gt; | Sample &lt;chr&gt; | I7_Index_ID &lt;chr&gt; | index &lt;fct&gt; | I5_Index_ID &lt;chr&gt; | index2 &lt;fct&gt; | run &lt;dbl&gt; | Lane &lt;int&gt; |\n",
       "|---|---|---|---|---|---|---|---|---|---|---|---|\n",
       "| 96 Well Eppendorf TwinTec PCR[001] | 6 | 96 Well Eppendorf TwinTec PCR[005] | 1 | 5 | X6_Common_Hamster  | N706 | TAGGCATG | S501 | GCGATCTA | 138 | 8 |\n",
       "| 96 Well Eppendorf TwinTec PCR[001] | 8 | 96 Well Eppendorf TwinTec PCR[005] | 2 | 5 | X8_Garden_Dormouse | N708 | CAGAGAGG | S501 | GCGATCTA | 138 | 8 |\n",
       "| ⋮ | ⋮ | ⋮ | ⋮ | ⋮ | ⋮ | ⋮ | ⋮ | ⋮ | ⋮ | ⋮ | ⋮ |\n",
       "| 96 Well Eppendorf TwinTec PCR[004] | 61 | 96 Well Eppendorf TwinTec PCR[005] | 39 | 5 | XF144_Wood_Sandpiper | N715 | ATCTCAGG | S520 | AGTTGGCT | 138 | 8 |\n",
       "| 96 Well Eppendorf TwinTec PCR[004] | 67 | 96 Well Eppendorf TwinTec PCR[005] | 40 | 5 | XF315_Northern_Pike  | N711 | AAGAGGCA | S521 | ACCTAGTA | 138 | 8 |\n",
       "\n"
      ],
      "text/plain": [
       "   Source Labware Label               Source Position\n",
       "1  96 Well Eppendorf TwinTec PCR[001] 6              \n",
       "2  96 Well Eppendorf TwinTec PCR[001] 8              \n",
       "⋮  ⋮                                  ⋮              \n",
       "39 96 Well Eppendorf TwinTec PCR[004] 61             \n",
       "40 96 Well Eppendorf TwinTec PCR[004] 67             \n",
       "   Destination Labware Label          Destination Position Volume\n",
       "1  96 Well Eppendorf TwinTec PCR[005] 1                    5     \n",
       "2  96 Well Eppendorf TwinTec PCR[005] 2                    5     \n",
       "⋮  ⋮                                  ⋮                    ⋮     \n",
       "39 96 Well Eppendorf TwinTec PCR[005] 39                   5     \n",
       "40 96 Well Eppendorf TwinTec PCR[005] 40                   5     \n",
       "   Sample               I7_Index_ID index    I5_Index_ID index2   run Lane\n",
       "1  X6_Common_Hamster    N706        TAGGCATG S501        GCGATCTA 138 8   \n",
       "2  X8_Garden_Dormouse   N708        CAGAGAGG S501        GCGATCTA 138 8   \n",
       "⋮  ⋮                    ⋮           ⋮        ⋮           ⋮        ⋮   ⋮   \n",
       "39 XF144_Wood_Sandpiper N715        ATCTCAGG S520        AGTTGGCT 138 8   \n",
       "40 XF315_Northern_Pike  N711        AAGAGGCA S521        ACCTAGTA 138 8   "
      ]
     },
     "metadata": {},
     "output_type": "display_data"
    }
   ],
   "source": [
    "plate_base = '96 Well Eppendorf TwinTec PCR[00'\n",
    "\n",
    "qc_repool_f = qc_repool %>%\n",
    "    filter(run_lane_plate %in% source_plates) %>%\n",
    "    mutate(plate = run_lane_plate %>% as.factor %>% as.numeric) %>%\n",
    "    dplyr::select(Sample, Sample_Plate, Sample_Well, I7_Index_ID, index,\n",
    "                  I5_Index_ID, index2, run, Lane, plate) %>%\n",
    "    mutate(`Source Labware Label` = gsub('([0-9]+)', '96 Well Eppendorf TwinTec PCR[00\\\\1]', plate)) %>%\n",
    "    mutate(`Source Position` = well2index(Sample_Well)) %>%\n",
    "    mutate(`Destination Labware Label` = '96 Well Eppendorf TwinTec PCR[005]') %>%\n",
    "    arrange(`Source Labware Label`, `Source Position`) %>%\n",
    "    mutate(`Destination Position` = 1:nrow(.),\n",
    "           Volume = 5) %>%\n",
    "    dplyr::select(`Source Labware Label`, `Source Position`, `Destination Labware Label`,\n",
    "                  `Destination Position`, Volume, \n",
    "                  Sample, I7_Index_ID, index, I5_Index_ID, index2, run, Lane) \n",
    "\n",
    "qc_repool_f"
   ]
  },
  {
   "cell_type": "markdown",
   "metadata": {},
   "source": [
    "### Writing tabel"
   ]
  },
  {
   "cell_type": "code",
   "execution_count": 168,
   "metadata": {
    "ExecuteTime": {
     "end_time": "2020-01-23T07:13:08.457728Z",
     "start_time": "2020-01-23T07:13:08.404Z"
    }
   },
   "outputs": [
    {
     "name": "stdout",
     "output_type": "stream",
     "text": [
      "File written: /ebio/abt3_projects/Georg_animal_feces/data/metagenome/HiSeqRuns126-133-0138/wOutVertebrata/LLMGQC//2019-01-22_to-repool_round2.tsv"
     ]
    }
   ],
   "source": [
    "outfile = file.path(work_dir, '2019-01-22_to-repool_round2.tsv') \n",
    "write_table(qc_repool_f, outfile)"
   ]
  },
  {
   "cell_type": "markdown",
   "metadata": {},
   "source": [
    "# sessionInfo"
   ]
  },
  {
   "cell_type": "code",
   "execution_count": 76,
   "metadata": {
    "ExecuteTime": {
     "end_time": "2020-01-22T15:41:53.239926Z",
     "start_time": "2020-01-22T15:41:53.173Z"
    }
   },
   "outputs": [
    {
     "data": {
      "text/plain": [
       "R version 3.6.2 (2019-12-12)\n",
       "Platform: x86_64-conda_cos6-linux-gnu (64-bit)\n",
       "Running under: Ubuntu 18.04.3 LTS\n",
       "\n",
       "Matrix products: default\n",
       "BLAS/LAPACK: /ebio/abt3_projects/Georg_animal_feces/envs/tidyverse/lib/libopenblasp-r0.3.7.so\n",
       "\n",
       "Random number generation:\n",
       " RNG:     Mersenne-Twister \n",
       " Normal:  Inversion \n",
       " Sample:  Rounding \n",
       " \n",
       "locale:\n",
       " [1] LC_CTYPE=en_US.UTF-8       LC_NUMERIC=C              \n",
       " [3] LC_TIME=en_US.UTF-8        LC_COLLATE=en_US.UTF-8    \n",
       " [5] LC_MONETARY=en_US.UTF-8    LC_MESSAGES=en_US.UTF-8   \n",
       " [7] LC_PAPER=en_US.UTF-8       LC_NAME=C                 \n",
       " [9] LC_ADDRESS=C               LC_TELEPHONE=C            \n",
       "[11] LC_MEASUREMENT=en_US.UTF-8 LC_IDENTIFICATION=C       \n",
       "\n",
       "attached base packages:\n",
       "[1] stats     graphics  grDevices utils     datasets  methods   base     \n",
       "\n",
       "other attached packages:\n",
       "[1] ggplot2_3.2.1 tidyr_1.0.0   dplyr_0.8.3  \n",
       "\n",
       "loaded via a namespace (and not attached):\n",
       " [1] Rcpp_1.0.3       magrittr_1.5     munsell_0.5.0    tidyselect_0.2.5\n",
       " [5] uuid_0.1-2       colorspace_1.4-1 R6_2.4.1         rlang_0.4.2     \n",
       " [9] tools_3.6.2      grid_3.6.2       gtable_0.3.0     withr_2.1.2     \n",
       "[13] htmltools_0.4.0  lazyeval_0.2.2   digest_0.6.23    assertthat_0.2.1\n",
       "[17] lifecycle_0.1.0  tibble_2.1.3     crayon_1.3.4     IRdisplay_0.7.0 \n",
       "[21] purrr_0.3.3      repr_1.0.2       base64enc_0.1-3  vctrs_0.2.1     \n",
       "[25] IRkernel_1.1     zeallot_0.1.0    glue_1.3.1       evaluate_0.14   \n",
       "[29] pbdZMQ_0.3-3     compiler_3.6.2   pillar_1.4.3     scales_1.1.0    \n",
       "[33] backports_1.1.5  jsonlite_1.6     pkgconfig_2.0.3 "
      ]
     },
     "metadata": {},
     "output_type": "display_data"
    }
   ],
   "source": [
    " sessionInfo()"
   ]
  },
  {
   "cell_type": "code",
   "execution_count": null,
   "metadata": {},
   "outputs": [],
   "source": []
  }
 ],
 "metadata": {
  "kernelspec": {
   "display_name": "R [conda env:Georg_animal_feces-tidyverse]",
   "language": "R",
   "name": "conda-env-Georg_animal_feces-tidyverse-r"
  },
  "language_info": {
   "codemirror_mode": "r",
   "file_extension": ".r",
   "mimetype": "text/x-r-source",
   "name": "R",
   "pygments_lexer": "r",
   "version": "3.6.2"
  },
  "notify_time": "30",
  "toc": {
   "base_numbering": 1,
   "nav_menu": {},
   "number_sections": true,
   "sideBar": true,
   "skip_h1_title": false,
   "title_cell": "Table of Contents",
   "title_sidebar": "Contents",
   "toc_cell": true,
   "toc_position": {},
   "toc_section_display": true,
   "toc_window_display": true
  }
 },
 "nbformat": 4,
 "nbformat_minor": 2
}
