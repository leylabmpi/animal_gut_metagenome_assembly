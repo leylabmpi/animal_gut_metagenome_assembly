{
 "cells": [
  {
   "cell_type": "markdown",
   "metadata": {
    "toc": true
   },
   "source": [
    "<h1>Table of Contents<span class=\"tocSkip\"></span></h1>\n",
    "<div class=\"toc\"><ul class=\"toc-item\"><li><span><a href=\"#Goal\" data-toc-modified-id=\"Goal-1\"><span class=\"toc-item-num\">1&nbsp;&nbsp;</span>Goal</a></span></li><li><span><a href=\"#Var\" data-toc-modified-id=\"Var-2\"><span class=\"toc-item-num\">2&nbsp;&nbsp;</span>Var</a></span></li><li><span><a href=\"#Init\" data-toc-modified-id=\"Init-3\"><span class=\"toc-item-num\">3&nbsp;&nbsp;</span>Init</a></span></li><li><span><a href=\"#Just-Amphibia\" data-toc-modified-id=\"Just-Amphibia-4\"><span class=\"toc-item-num\">4&nbsp;&nbsp;</span>Just Amphibia</a></span></li><li><span><a href=\"#llmga\" data-toc-modified-id=\"llmga-5\"><span class=\"toc-item-num\">5&nbsp;&nbsp;</span>llmga</a></span><ul class=\"toc-item\"><li><span><a href=\"#Config\" data-toc-modified-id=\"Config-5.1\"><span class=\"toc-item-num\">5.1&nbsp;&nbsp;</span>Config</a></span></li><li><span><a href=\"#Run\" data-toc-modified-id=\"Run-5.2\"><span class=\"toc-item-num\">5.2&nbsp;&nbsp;</span>Run</a></span></li></ul></li><li><span><a href=\"#Summary\" data-toc-modified-id=\"Summary-6\"><span class=\"toc-item-num\">6&nbsp;&nbsp;</span>Summary</a></span><ul class=\"toc-item\"><li><span><a href=\"#Load\" data-toc-modified-id=\"Load-6.1\"><span class=\"toc-item-num\">6.1&nbsp;&nbsp;</span>Load</a></span></li><li><span><a href=\"#No.-of-genomes\" data-toc-modified-id=\"No.-of-genomes-6.2\"><span class=\"toc-item-num\">6.2&nbsp;&nbsp;</span>No. of genomes</a></span></li><li><span><a href=\"#CheckM\" data-toc-modified-id=\"CheckM-6.3\"><span class=\"toc-item-num\">6.3&nbsp;&nbsp;</span>CheckM</a></span><ul class=\"toc-item\"><li><span><a href=\"#Taxonomy\" data-toc-modified-id=\"Taxonomy-6.3.1\"><span class=\"toc-item-num\">6.3.1&nbsp;&nbsp;</span>Taxonomy</a></span></li><li><span><a href=\"#Taxonomic-novelty\" data-toc-modified-id=\"Taxonomic-novelty-6.3.2\"><span class=\"toc-item-num\">6.3.2&nbsp;&nbsp;</span>Taxonomic novelty</a></span></li><li><span><a href=\"#Quality-~-Taxonomy\" data-toc-modified-id=\"Quality-~-Taxonomy-6.3.3\"><span class=\"toc-item-num\">6.3.3&nbsp;&nbsp;</span>Quality ~ Taxonomy</a></span></li></ul></li></ul></li><li><span><a href=\"#sessionInfo\" data-toc-modified-id=\"sessionInfo-7\"><span class=\"toc-item-num\">7&nbsp;&nbsp;</span>sessionInfo</a></span></li></ul></div>"
   ]
  },
  {
   "cell_type": "markdown",
   "metadata": {},
   "source": [
    "# Goal\n",
    "\n",
    "* Running LLMGA pipeline on all Amphibia samples"
   ]
  },
  {
   "cell_type": "markdown",
   "metadata": {},
   "source": [
    "# Var"
   ]
  },
  {
   "cell_type": "code",
   "execution_count": 1,
   "metadata": {
    "ExecuteTime": {
     "end_time": "2019-09-17T03:41:07.470949Z",
     "start_time": "2019-09-17T03:41:07.092Z"
    }
   },
   "outputs": [],
   "source": [
    "work_dir = '/ebio/abt3_projects/databases_no-backup/animal_gut_metagenomes/wOutVertebrata/MG_assembly_amp/LLMGA/'\n",
    "\n",
    "samples_file = '/ebio/abt3_projects/Georg_animal_feces/data/metagenome/HiSeqRuns126-133-0138/wOutVertebrata/LLMGQC/samples_cov-gte0.3.tsv'\n",
    "metadata_file = '/ebio/abt3_projects/Georg_animal_feces/data/mapping/unified_metadata_complete_190529.tsv'\n",
    "\n",
    "pipeline_dir = '/ebio/abt3_projects/Georg_animal_feces/bin/llmga/'"
   ]
  },
  {
   "cell_type": "markdown",
   "metadata": {},
   "source": [
    "# Init"
   ]
  },
  {
   "cell_type": "code",
   "execution_count": 2,
   "metadata": {
    "ExecuteTime": {
     "end_time": "2019-09-17T03:41:08.074106Z",
     "start_time": "2019-09-17T03:41:07.411Z"
    }
   },
   "outputs": [
    {
     "name": "stderr",
     "output_type": "stream",
     "text": [
      "\n",
      "Attaching package: ‘dplyr’\n",
      "\n",
      "The following objects are masked from ‘package:stats’:\n",
      "\n",
      "    filter, lag\n",
      "\n",
      "The following objects are masked from ‘package:base’:\n",
      "\n",
      "    intersect, setdiff, setequal, union\n",
      "\n"
     ]
    }
   ],
   "source": [
    "library(dplyr)\n",
    "library(tidyr)\n",
    "library(ggplot2)\n",
    "source('/ebio/abt3_projects/Georg_animal_feces/code/misc_r_functions/init.R')"
   ]
  },
  {
   "cell_type": "code",
   "execution_count": 3,
   "metadata": {
    "ExecuteTime": {
     "end_time": "2019-09-17T03:41:11.979189Z",
     "start_time": "2019-09-17T03:41:11.947Z"
    }
   },
   "outputs": [
    {
     "name": "stdout",
     "output_type": "stream",
     "text": [
      "Created directory: /ebio/abt3_projects/databases_no-backup/animal_gut_metagenomes/wOutVertebrata/MG_assembly_amp/LLMGA/ \n"
     ]
    }
   ],
   "source": [
    "make_dir(work_dir)"
   ]
  },
  {
   "cell_type": "markdown",
   "metadata": {},
   "source": [
    "# Just Amphibia"
   ]
  },
  {
   "cell_type": "code",
   "execution_count": 4,
   "metadata": {
    "ExecuteTime": {
     "end_time": "2019-09-17T03:41:36.875013Z",
     "start_time": "2019-09-17T03:41:36.522Z"
    }
   },
   "outputs": [
    {
     "name": "stdout",
     "output_type": "stream",
     "text": [
      "[1] 475   8\n"
     ]
    },
    {
     "data": {
      "text/html": [
       "<table>\n",
       "<thead><tr><th scope=col>SampleID</th><th scope=col>class</th><th scope=col>order</th><th scope=col>family</th><th scope=col>genus</th><th scope=col>scientific_name</th><th scope=col>diet</th><th scope=col>habitat</th></tr></thead>\n",
       "<tbody>\n",
       "\t<tr><td>F14_Common_Bream   </td><td>Actinopterygii     </td><td>Cypriniformes      </td><td>Cyprinidae         </td><td>Abramis            </td><td>Abramis_brama      </td><td>omnivore           </td><td>aquatic habitat    </td></tr>\n",
       "\t<tr><td>F35_Red_Deer       </td><td>Mammalia           </td><td>Artiodactyla       </td><td>Cervidae           </td><td>Cervus             </td><td>Cervus_elaphus     </td><td>herbivore          </td><td>terrestrial habitat</td></tr>\n",
       "\t<tr><td>F36_Red_Deer       </td><td>Mammalia           </td><td>Artiodactyla       </td><td>Cervidae           </td><td>Cervus             </td><td>Cervus_elaphus     </td><td>herbivore          </td><td>terrestrial habitat</td></tr>\n",
       "</tbody>\n",
       "</table>\n"
      ],
      "text/latex": [
       "\\begin{tabular}{r|llllllll}\n",
       " SampleID & class & order & family & genus & scientific\\_name & diet & habitat\\\\\n",
       "\\hline\n",
       "\t F14\\_Common\\_Bream & Actinopterygii       & Cypriniformes        & Cyprinidae           & Abramis              & Abramis\\_brama      & omnivore             & aquatic habitat     \\\\\n",
       "\t F35\\_Red\\_Deer     & Mammalia             & Artiodactyla         & Cervidae             & Cervus               & Cervus\\_elaphus     & herbivore            & terrestrial habitat \\\\\n",
       "\t F36\\_Red\\_Deer     & Mammalia             & Artiodactyla         & Cervidae             & Cervus               & Cervus\\_elaphus     & herbivore            & terrestrial habitat \\\\\n",
       "\\end{tabular}\n"
      ],
      "text/markdown": [
       "\n",
       "SampleID | class | order | family | genus | scientific_name | diet | habitat | \n",
       "|---|---|---|\n",
       "| F14_Common_Bream    | Actinopterygii      | Cypriniformes       | Cyprinidae          | Abramis             | Abramis_brama       | omnivore            | aquatic habitat     | \n",
       "| F35_Red_Deer        | Mammalia            | Artiodactyla        | Cervidae            | Cervus              | Cervus_elaphus      | herbivore           | terrestrial habitat | \n",
       "| F36_Red_Deer        | Mammalia            | Artiodactyla        | Cervidae            | Cervus              | Cervus_elaphus      | herbivore           | terrestrial habitat | \n",
       "\n",
       "\n"
      ],
      "text/plain": [
       "  SampleID         class          order         family     genus  \n",
       "1 F14_Common_Bream Actinopterygii Cypriniformes Cyprinidae Abramis\n",
       "2 F35_Red_Deer     Mammalia       Artiodactyla  Cervidae   Cervus \n",
       "3 F36_Red_Deer     Mammalia       Artiodactyla  Cervidae   Cervus \n",
       "  scientific_name diet      habitat            \n",
       "1 Abramis_brama   omnivore  aquatic habitat    \n",
       "2 Cervus_elaphus  herbivore terrestrial habitat\n",
       "3 Cervus_elaphus  herbivore terrestrial habitat"
      ]
     },
     "metadata": {},
     "output_type": "display_data"
    }
   ],
   "source": [
    "meta = read.delim(metadata_file, sep='\\t') %>%\n",
    "    dplyr::select(SampleID, class, order, family, genus, scientific_name, diet, habitat)\n",
    "meta %>% dfhead"
   ]
  },
  {
   "cell_type": "code",
   "execution_count": 5,
   "metadata": {
    "ExecuteTime": {
     "end_time": "2019-09-17T03:41:37.067293Z",
     "start_time": "2019-09-17T03:41:36.917Z"
    }
   },
   "outputs": [
    {
     "name": "stdout",
     "output_type": "stream",
     "text": [
      "[1] 291   6\n"
     ]
    },
    {
     "data": {
      "text/html": [
       "<table>\n",
       "<thead><tr><th scope=col>Sample</th><th scope=col>Read1</th><th scope=col>Read2</th><th scope=col>Total.Sequences</th><th scope=col>nonpareil_coverage</th><th scope=col>nonpareil_diversity</th></tr></thead>\n",
       "<tbody>\n",
       "\t<tr><td>X144_Cattle                                                                                                                                       </td><td>/ebio/abt3_projects/Georg_animal_feces/data/metagenome/HiSeqRuns126-133-0138/wOutVertebrata/LLMGQC/final/X144_Cattle/R1_final.fq.gz               </td><td>/ebio/abt3_projects/Georg_animal_feces/data/metagenome/HiSeqRuns126-133-0138/wOutVertebrata/LLMGQC/final/X144_Cattle/R2_final.fq.gz               </td><td>10471331                                                                                                                                          </td><td>0.3073356                                                                                                                                         </td><td>22.03854                                                                                                                                          </td></tr>\n",
       "\t<tr><td>X370_African_Bush_Elephant                                                                                                                        </td><td>/ebio/abt3_projects/Georg_animal_feces/data/metagenome/HiSeqRuns126-133-0138/wOutVertebrata/LLMGQC/final/X370_African_Bush_Elephant/R1_final.fq.gz</td><td>/ebio/abt3_projects/Georg_animal_feces/data/metagenome/HiSeqRuns126-133-0138/wOutVertebrata/LLMGQC/final/X370_African_Bush_Elephant/R2_final.fq.gz</td><td>  551609                                                                                                                                          </td><td>0.3190188                                                                                                                                         </td><td>18.99648                                                                                                                                          </td></tr>\n",
       "\t<tr><td>X80_European_Otter                                                                                                                                </td><td>/ebio/abt3_projects/Georg_animal_feces/data/metagenome/HiSeqRuns126-133-0138/wOutVertebrata/LLMGQC/final/X80_European_Otter/R1_final.fq.gz        </td><td>/ebio/abt3_projects/Georg_animal_feces/data/metagenome/HiSeqRuns126-133-0138/wOutVertebrata/LLMGQC/final/X80_European_Otter/R2_final.fq.gz        </td><td> 1100413                                                                                                                                          </td><td>0.3194258                                                                                                                                         </td><td>20.45510                                                                                                                                          </td></tr>\n",
       "</tbody>\n",
       "</table>\n"
      ],
      "text/latex": [
       "\\begin{tabular}{r|llllll}\n",
       " Sample & Read1 & Read2 & Total.Sequences & nonpareil\\_coverage & nonpareil\\_diversity\\\\\n",
       "\\hline\n",
       "\t X144\\_Cattle                                                                                                                                                & /ebio/abt3\\_projects/Georg\\_animal\\_feces/data/metagenome/HiSeqRuns126-133-0138/wOutVertebrata/LLMGQC/final/X144\\_Cattle/R1\\_final.fq.gz                & /ebio/abt3\\_projects/Georg\\_animal\\_feces/data/metagenome/HiSeqRuns126-133-0138/wOutVertebrata/LLMGQC/final/X144\\_Cattle/R2\\_final.fq.gz                & 10471331                                                                                                                                                     & 0.3073356                                                                                                                                                    & 22.03854                                                                                                                                                    \\\\\n",
       "\t X370\\_African\\_Bush\\_Elephant                                                                                                                                 & /ebio/abt3\\_projects/Georg\\_animal\\_feces/data/metagenome/HiSeqRuns126-133-0138/wOutVertebrata/LLMGQC/final/X370\\_African\\_Bush\\_Elephant/R1\\_final.fq.gz & /ebio/abt3\\_projects/Georg\\_animal\\_feces/data/metagenome/HiSeqRuns126-133-0138/wOutVertebrata/LLMGQC/final/X370\\_African\\_Bush\\_Elephant/R2\\_final.fq.gz &   551609                                                                                                                                                         & 0.3190188                                                                                                                                                        & 18.99648                                                                                                                                                        \\\\\n",
       "\t X80\\_European\\_Otter                                                                                                                                         & /ebio/abt3\\_projects/Georg\\_animal\\_feces/data/metagenome/HiSeqRuns126-133-0138/wOutVertebrata/LLMGQC/final/X80\\_European\\_Otter/R1\\_final.fq.gz         & /ebio/abt3\\_projects/Georg\\_animal\\_feces/data/metagenome/HiSeqRuns126-133-0138/wOutVertebrata/LLMGQC/final/X80\\_European\\_Otter/R2\\_final.fq.gz         &  1100413                                                                                                                                                       & 0.3194258                                                                                                                                                      & 20.45510                                                                                                                                                      \\\\\n",
       "\\end{tabular}\n"
      ],
      "text/markdown": [
       "\n",
       "Sample | Read1 | Read2 | Total.Sequences | nonpareil_coverage | nonpareil_diversity | \n",
       "|---|---|---|\n",
       "| X144_Cattle                                                                                                                                        | /ebio/abt3_projects/Georg_animal_feces/data/metagenome/HiSeqRuns126-133-0138/wOutVertebrata/LLMGQC/final/X144_Cattle/R1_final.fq.gz                | /ebio/abt3_projects/Georg_animal_feces/data/metagenome/HiSeqRuns126-133-0138/wOutVertebrata/LLMGQC/final/X144_Cattle/R2_final.fq.gz                | 10471331                                                                                                                                           | 0.3073356                                                                                                                                          | 22.03854                                                                                                                                           | \n",
       "| X370_African_Bush_Elephant                                                                                                                         | /ebio/abt3_projects/Georg_animal_feces/data/metagenome/HiSeqRuns126-133-0138/wOutVertebrata/LLMGQC/final/X370_African_Bush_Elephant/R1_final.fq.gz | /ebio/abt3_projects/Georg_animal_feces/data/metagenome/HiSeqRuns126-133-0138/wOutVertebrata/LLMGQC/final/X370_African_Bush_Elephant/R2_final.fq.gz |   551609                                                                                                                                           | 0.3190188                                                                                                                                          | 18.99648                                                                                                                                           | \n",
       "| X80_European_Otter                                                                                                                                 | /ebio/abt3_projects/Georg_animal_feces/data/metagenome/HiSeqRuns126-133-0138/wOutVertebrata/LLMGQC/final/X80_European_Otter/R1_final.fq.gz         | /ebio/abt3_projects/Georg_animal_feces/data/metagenome/HiSeqRuns126-133-0138/wOutVertebrata/LLMGQC/final/X80_European_Otter/R2_final.fq.gz         |  1100413                                                                                                                                           | 0.3194258                                                                                                                                          | 20.45510                                                                                                                                           | \n",
       "\n",
       "\n"
      ],
      "text/plain": [
       "  Sample                    \n",
       "1 X144_Cattle               \n",
       "2 X370_African_Bush_Elephant\n",
       "3 X80_European_Otter        \n",
       "  Read1                                                                                                                                             \n",
       "1 /ebio/abt3_projects/Georg_animal_feces/data/metagenome/HiSeqRuns126-133-0138/wOutVertebrata/LLMGQC/final/X144_Cattle/R1_final.fq.gz               \n",
       "2 /ebio/abt3_projects/Georg_animal_feces/data/metagenome/HiSeqRuns126-133-0138/wOutVertebrata/LLMGQC/final/X370_African_Bush_Elephant/R1_final.fq.gz\n",
       "3 /ebio/abt3_projects/Georg_animal_feces/data/metagenome/HiSeqRuns126-133-0138/wOutVertebrata/LLMGQC/final/X80_European_Otter/R1_final.fq.gz        \n",
       "  Read2                                                                                                                                             \n",
       "1 /ebio/abt3_projects/Georg_animal_feces/data/metagenome/HiSeqRuns126-133-0138/wOutVertebrata/LLMGQC/final/X144_Cattle/R2_final.fq.gz               \n",
       "2 /ebio/abt3_projects/Georg_animal_feces/data/metagenome/HiSeqRuns126-133-0138/wOutVertebrata/LLMGQC/final/X370_African_Bush_Elephant/R2_final.fq.gz\n",
       "3 /ebio/abt3_projects/Georg_animal_feces/data/metagenome/HiSeqRuns126-133-0138/wOutVertebrata/LLMGQC/final/X80_European_Otter/R2_final.fq.gz        \n",
       "  Total.Sequences nonpareil_coverage nonpareil_diversity\n",
       "1 10471331        0.3073356          22.03854           \n",
       "2   551609        0.3190188          18.99648           \n",
       "3  1100413        0.3194258          20.45510           "
      ]
     },
     "metadata": {},
     "output_type": "display_data"
    }
   ],
   "source": [
    "samps = read.delim(samples_file, sep='\\t') %>%\n",
    "    mutate(Sample = gsub('^XF', 'F', Sample))\n",
    "samps %>% dfhead"
   ]
  },
  {
   "cell_type": "code",
   "execution_count": 6,
   "metadata": {
    "ExecuteTime": {
     "end_time": "2019-09-17T03:41:39.427481Z",
     "start_time": "2019-09-17T03:41:39.322Z"
    }
   },
   "outputs": [
    {
     "data": {
      "text/html": [
       "'unassigned'"
      ],
      "text/latex": [
       "'unassigned'"
      ],
      "text/markdown": [
       "'unassigned'"
      ],
      "text/plain": [
       "[1] \"unassigned\""
      ]
     },
     "metadata": {},
     "output_type": "display_data"
    }
   ],
   "source": [
    "setdiff(samps$Sample, meta$Sample)"
   ]
  },
  {
   "cell_type": "code",
   "execution_count": 7,
   "metadata": {
    "ExecuteTime": {
     "end_time": "2019-09-17T03:41:40.361540Z",
     "start_time": "2019-09-17T03:41:40.234Z"
    }
   },
   "outputs": [
    {
     "name": "stderr",
     "output_type": "stream",
     "text": [
      "Warning message:\n",
      "“Column `Sample`/`SampleID` joining character vector and factor, coercing into character vector”"
     ]
    },
    {
     "name": "stdout",
     "output_type": "stream",
     "text": [
      "[1] 290  13\n"
     ]
    },
    {
     "data": {
      "text/html": [
       "<table>\n",
       "<thead><tr><th scope=col>Sample</th><th scope=col>Read1</th><th scope=col>Read2</th><th scope=col>Total.Sequences</th><th scope=col>nonpareil_coverage</th><th scope=col>nonpareil_diversity</th><th scope=col>class</th><th scope=col>order</th><th scope=col>family</th><th scope=col>genus</th><th scope=col>scientific_name</th><th scope=col>diet</th><th scope=col>habitat</th></tr></thead>\n",
       "<tbody>\n",
       "\t<tr><td>X144_Cattle                                                                                                                                       </td><td>/ebio/abt3_projects/Georg_animal_feces/data/metagenome/HiSeqRuns126-133-0138/wOutVertebrata/LLMGQC/final/X144_Cattle/R1_final.fq.gz               </td><td>/ebio/abt3_projects/Georg_animal_feces/data/metagenome/HiSeqRuns126-133-0138/wOutVertebrata/LLMGQC/final/X144_Cattle/R2_final.fq.gz               </td><td>10471331                                                                                                                                          </td><td>0.3073356                                                                                                                                         </td><td>22.03854                                                                                                                                          </td><td>Mammalia                                                                                                                                          </td><td>Artiodactyla                                                                                                                                      </td><td>Bovidae                                                                                                                                           </td><td>Bos                                                                                                                                               </td><td>Bos_taurus                                                                                                                                        </td><td>herbivore                                                                                                                                         </td><td>terrestrial habitat                                                                                                                               </td></tr>\n",
       "\t<tr><td>X370_African_Bush_Elephant                                                                                                                        </td><td>/ebio/abt3_projects/Georg_animal_feces/data/metagenome/HiSeqRuns126-133-0138/wOutVertebrata/LLMGQC/final/X370_African_Bush_Elephant/R1_final.fq.gz</td><td>/ebio/abt3_projects/Georg_animal_feces/data/metagenome/HiSeqRuns126-133-0138/wOutVertebrata/LLMGQC/final/X370_African_Bush_Elephant/R2_final.fq.gz</td><td>  551609                                                                                                                                          </td><td>0.3190188                                                                                                                                         </td><td>18.99648                                                                                                                                          </td><td>Mammalia                                                                                                                                          </td><td>Proboscidea                                                                                                                                       </td><td>Elephantidae                                                                                                                                      </td><td>Loxodonta                                                                                                                                         </td><td>Loxodonta_africana                                                                                                                                </td><td>herbivore                                                                                                                                         </td><td>terrestrial habitat                                                                                                                               </td></tr>\n",
       "\t<tr><td>X80_European_Otter                                                                                                                                </td><td>/ebio/abt3_projects/Georg_animal_feces/data/metagenome/HiSeqRuns126-133-0138/wOutVertebrata/LLMGQC/final/X80_European_Otter/R1_final.fq.gz        </td><td>/ebio/abt3_projects/Georg_animal_feces/data/metagenome/HiSeqRuns126-133-0138/wOutVertebrata/LLMGQC/final/X80_European_Otter/R2_final.fq.gz        </td><td> 1100413                                                                                                                                          </td><td>0.3194258                                                                                                                                         </td><td>20.45510                                                                                                                                          </td><td>Mammalia                                                                                                                                          </td><td>Carnivora                                                                                                                                         </td><td>Mustelidae                                                                                                                                        </td><td>Lutra                                                                                                                                             </td><td>Lutra_lutra                                                                                                                                       </td><td>carnivore                                                                                                                                         </td><td>terrestrial habitat                                                                                                                               </td></tr>\n",
       "</tbody>\n",
       "</table>\n"
      ],
      "text/latex": [
       "\\begin{tabular}{r|lllllllllllll}\n",
       " Sample & Read1 & Read2 & Total.Sequences & nonpareil\\_coverage & nonpareil\\_diversity & class & order & family & genus & scientific\\_name & diet & habitat\\\\\n",
       "\\hline\n",
       "\t X144\\_Cattle                                                                                                                                                & /ebio/abt3\\_projects/Georg\\_animal\\_feces/data/metagenome/HiSeqRuns126-133-0138/wOutVertebrata/LLMGQC/final/X144\\_Cattle/R1\\_final.fq.gz                & /ebio/abt3\\_projects/Georg\\_animal\\_feces/data/metagenome/HiSeqRuns126-133-0138/wOutVertebrata/LLMGQC/final/X144\\_Cattle/R2\\_final.fq.gz                & 10471331                                                                                                                                                     & 0.3073356                                                                                                                                                    & 22.03854                                                                                                                                                     & Mammalia                                                                                                                                                     & Artiodactyla                                                                                                                                                 & Bovidae                                                                                                                                                      & Bos                                                                                                                                                          & Bos\\_taurus                                                                                                                                                 & herbivore                                                                                                                                                    & terrestrial habitat                                                                                                                                         \\\\\n",
       "\t X370\\_African\\_Bush\\_Elephant                                                                                                                                 & /ebio/abt3\\_projects/Georg\\_animal\\_feces/data/metagenome/HiSeqRuns126-133-0138/wOutVertebrata/LLMGQC/final/X370\\_African\\_Bush\\_Elephant/R1\\_final.fq.gz & /ebio/abt3\\_projects/Georg\\_animal\\_feces/data/metagenome/HiSeqRuns126-133-0138/wOutVertebrata/LLMGQC/final/X370\\_African\\_Bush\\_Elephant/R2\\_final.fq.gz &   551609                                                                                                                                                         & 0.3190188                                                                                                                                                        & 18.99648                                                                                                                                                         & Mammalia                                                                                                                                                         & Proboscidea                                                                                                                                                      & Elephantidae                                                                                                                                                     & Loxodonta                                                                                                                                                        & Loxodonta\\_africana                                                                                                                                             & herbivore                                                                                                                                                        & terrestrial habitat                                                                                                                                             \\\\\n",
       "\t X80\\_European\\_Otter                                                                                                                                         & /ebio/abt3\\_projects/Georg\\_animal\\_feces/data/metagenome/HiSeqRuns126-133-0138/wOutVertebrata/LLMGQC/final/X80\\_European\\_Otter/R1\\_final.fq.gz         & /ebio/abt3\\_projects/Georg\\_animal\\_feces/data/metagenome/HiSeqRuns126-133-0138/wOutVertebrata/LLMGQC/final/X80\\_European\\_Otter/R2\\_final.fq.gz         &  1100413                                                                                                                                                       & 0.3194258                                                                                                                                                      & 20.45510                                                                                                                                                       & Mammalia                                                                                                                                                       & Carnivora                                                                                                                                                      & Mustelidae                                                                                                                                                     & Lutra                                                                                                                                                          & Lutra\\_lutra                                                                                                                                                  & carnivore                                                                                                                                                      & terrestrial habitat                                                                                                                                           \\\\\n",
       "\\end{tabular}\n"
      ],
      "text/markdown": [
       "\n",
       "Sample | Read1 | Read2 | Total.Sequences | nonpareil_coverage | nonpareil_diversity | class | order | family | genus | scientific_name | diet | habitat | \n",
       "|---|---|---|\n",
       "| X144_Cattle                                                                                                                                        | /ebio/abt3_projects/Georg_animal_feces/data/metagenome/HiSeqRuns126-133-0138/wOutVertebrata/LLMGQC/final/X144_Cattle/R1_final.fq.gz                | /ebio/abt3_projects/Georg_animal_feces/data/metagenome/HiSeqRuns126-133-0138/wOutVertebrata/LLMGQC/final/X144_Cattle/R2_final.fq.gz                | 10471331                                                                                                                                           | 0.3073356                                                                                                                                          | 22.03854                                                                                                                                           | Mammalia                                                                                                                                           | Artiodactyla                                                                                                                                       | Bovidae                                                                                                                                            | Bos                                                                                                                                                | Bos_taurus                                                                                                                                         | herbivore                                                                                                                                          | terrestrial habitat                                                                                                                                | \n",
       "| X370_African_Bush_Elephant                                                                                                                         | /ebio/abt3_projects/Georg_animal_feces/data/metagenome/HiSeqRuns126-133-0138/wOutVertebrata/LLMGQC/final/X370_African_Bush_Elephant/R1_final.fq.gz | /ebio/abt3_projects/Georg_animal_feces/data/metagenome/HiSeqRuns126-133-0138/wOutVertebrata/LLMGQC/final/X370_African_Bush_Elephant/R2_final.fq.gz |   551609                                                                                                                                           | 0.3190188                                                                                                                                          | 18.99648                                                                                                                                           | Mammalia                                                                                                                                           | Proboscidea                                                                                                                                        | Elephantidae                                                                                                                                       | Loxodonta                                                                                                                                          | Loxodonta_africana                                                                                                                                 | herbivore                                                                                                                                          | terrestrial habitat                                                                                                                                | \n",
       "| X80_European_Otter                                                                                                                                 | /ebio/abt3_projects/Georg_animal_feces/data/metagenome/HiSeqRuns126-133-0138/wOutVertebrata/LLMGQC/final/X80_European_Otter/R1_final.fq.gz         | /ebio/abt3_projects/Georg_animal_feces/data/metagenome/HiSeqRuns126-133-0138/wOutVertebrata/LLMGQC/final/X80_European_Otter/R2_final.fq.gz         |  1100413                                                                                                                                           | 0.3194258                                                                                                                                          | 20.45510                                                                                                                                           | Mammalia                                                                                                                                           | Carnivora                                                                                                                                          | Mustelidae                                                                                                                                         | Lutra                                                                                                                                              | Lutra_lutra                                                                                                                                        | carnivore                                                                                                                                          | terrestrial habitat                                                                                                                                | \n",
       "\n",
       "\n"
      ],
      "text/plain": [
       "  Sample                    \n",
       "1 X144_Cattle               \n",
       "2 X370_African_Bush_Elephant\n",
       "3 X80_European_Otter        \n",
       "  Read1                                                                                                                                             \n",
       "1 /ebio/abt3_projects/Georg_animal_feces/data/metagenome/HiSeqRuns126-133-0138/wOutVertebrata/LLMGQC/final/X144_Cattle/R1_final.fq.gz               \n",
       "2 /ebio/abt3_projects/Georg_animal_feces/data/metagenome/HiSeqRuns126-133-0138/wOutVertebrata/LLMGQC/final/X370_African_Bush_Elephant/R1_final.fq.gz\n",
       "3 /ebio/abt3_projects/Georg_animal_feces/data/metagenome/HiSeqRuns126-133-0138/wOutVertebrata/LLMGQC/final/X80_European_Otter/R1_final.fq.gz        \n",
       "  Read2                                                                                                                                             \n",
       "1 /ebio/abt3_projects/Georg_animal_feces/data/metagenome/HiSeqRuns126-133-0138/wOutVertebrata/LLMGQC/final/X144_Cattle/R2_final.fq.gz               \n",
       "2 /ebio/abt3_projects/Georg_animal_feces/data/metagenome/HiSeqRuns126-133-0138/wOutVertebrata/LLMGQC/final/X370_African_Bush_Elephant/R2_final.fq.gz\n",
       "3 /ebio/abt3_projects/Georg_animal_feces/data/metagenome/HiSeqRuns126-133-0138/wOutVertebrata/LLMGQC/final/X80_European_Otter/R2_final.fq.gz        \n",
       "  Total.Sequences nonpareil_coverage nonpareil_diversity class    order       \n",
       "1 10471331        0.3073356          22.03854            Mammalia Artiodactyla\n",
       "2   551609        0.3190188          18.99648            Mammalia Proboscidea \n",
       "3  1100413        0.3194258          20.45510            Mammalia Carnivora   \n",
       "  family       genus     scientific_name    diet      habitat            \n",
       "1 Bovidae      Bos       Bos_taurus         herbivore terrestrial habitat\n",
       "2 Elephantidae Loxodonta Loxodonta_africana herbivore terrestrial habitat\n",
       "3 Mustelidae   Lutra     Lutra_lutra        carnivore terrestrial habitat"
      ]
     },
     "metadata": {},
     "output_type": "display_data"
    }
   ],
   "source": [
    "# joining\n",
    "samps = samps %>%\n",
    "    inner_join(meta, c('Sample'='SampleID')) \n",
    "\n",
    "samps %>% dfhead"
   ]
  },
  {
   "cell_type": "code",
   "execution_count": 8,
   "metadata": {
    "ExecuteTime": {
     "end_time": "2019-09-17T03:41:41.961946Z",
     "start_time": "2019-09-17T03:41:41.915Z"
    }
   },
   "outputs": [
    {
     "data": {
      "text/html": [
       "<table>\n",
       "<thead><tr><th scope=col>class</th><th scope=col>n</th></tr></thead>\n",
       "<tbody>\n",
       "\t<tr><td>Actinopterygii</td><td> 27           </td></tr>\n",
       "\t<tr><td>Amphibia      </td><td>  8           </td></tr>\n",
       "\t<tr><td>Aves          </td><td> 63           </td></tr>\n",
       "\t<tr><td>Mammalia      </td><td>179           </td></tr>\n",
       "\t<tr><td>Reptilia      </td><td> 13           </td></tr>\n",
       "</tbody>\n",
       "</table>\n"
      ],
      "text/latex": [
       "\\begin{tabular}{r|ll}\n",
       " class & n\\\\\n",
       "\\hline\n",
       "\t Actinopterygii &  27           \\\\\n",
       "\t Amphibia       &   8           \\\\\n",
       "\t Aves           &  63           \\\\\n",
       "\t Mammalia       & 179           \\\\\n",
       "\t Reptilia       &  13           \\\\\n",
       "\\end{tabular}\n"
      ],
      "text/markdown": [
       "\n",
       "class | n | \n",
       "|---|---|---|---|---|\n",
       "| Actinopterygii |  27            | \n",
       "| Amphibia       |   8            | \n",
       "| Aves           |  63            | \n",
       "| Mammalia       | 179            | \n",
       "| Reptilia       |  13            | \n",
       "\n",
       "\n"
      ],
      "text/plain": [
       "  class          n  \n",
       "1 Actinopterygii  27\n",
       "2 Amphibia         8\n",
       "3 Aves            63\n",
       "4 Mammalia       179\n",
       "5 Reptilia        13"
      ]
     },
     "metadata": {},
     "output_type": "display_data"
    }
   ],
   "source": [
    "# all metadata \n",
    "samps %>%\n",
    "    group_by(class) %>%\n",
    "    summarize(n = n()) %>%\n",
    "    ungroup()"
   ]
  },
  {
   "cell_type": "code",
   "execution_count": 9,
   "metadata": {
    "ExecuteTime": {
     "end_time": "2019-09-17T03:41:49.152356Z",
     "start_time": "2019-09-17T03:41:49.090Z"
    }
   },
   "outputs": [
    {
     "name": "stdout",
     "output_type": "stream",
     "text": [
      "[1]  8 13\n"
     ]
    },
    {
     "data": {
      "text/html": [
       "<table>\n",
       "<thead><tr><th scope=col>Sample</th><th scope=col>Read1</th><th scope=col>Read2</th><th scope=col>Total.Sequences</th><th scope=col>nonpareil_coverage</th><th scope=col>nonpareil_diversity</th><th scope=col>class</th><th scope=col>order</th><th scope=col>family</th><th scope=col>genus</th><th scope=col>scientific_name</th><th scope=col>diet</th><th scope=col>habitat</th></tr></thead>\n",
       "<tbody>\n",
       "\t<tr><td>X345_fail_Alpine_Salamander                                                                                                                        </td><td>/ebio/abt3_projects/Georg_animal_feces/data/metagenome/HiSeqRuns126-133-0138/wOutVertebrata/LLMGQC/final/X345_fail_Alpine_Salamander/R1_final.fq.gz</td><td>/ebio/abt3_projects/Georg_animal_feces/data/metagenome/HiSeqRuns126-133-0138/wOutVertebrata/LLMGQC/final/X345_fail_Alpine_Salamander/R2_final.fq.gz</td><td> 243586                                                                                                                                            </td><td>0.3731663                                                                                                                                          </td><td>18.06532                                                                                                                                           </td><td>Amphibia                                                                                                                                           </td><td>Caudata                                                                                                                                            </td><td>Salamandridae                                                                                                                                      </td><td>Salamandra                                                                                                                                         </td><td>Salamandra_atra                                                                                                                                    </td><td>carnivore                                                                                                                                          </td><td>terrestrial habitat                                                                                                                                </td></tr>\n",
       "\t<tr><td>X193_fail_Common_Frog                                                                                                                              </td><td>/ebio/abt3_projects/Georg_animal_feces/data/metagenome/HiSeqRuns126-133-0138/wOutVertebrata/LLMGQC/final/X193_fail_Common_Frog/R1_final.fq.gz      </td><td>/ebio/abt3_projects/Georg_animal_feces/data/metagenome/HiSeqRuns126-133-0138/wOutVertebrata/LLMGQC/final/X193_fail_Common_Frog/R2_final.fq.gz      </td><td>5133809                                                                                                                                            </td><td>0.5145879                                                                                                                                          </td><td>19.69866                                                                                                                                           </td><td>Amphibia                                                                                                                                           </td><td>Anura                                                                                                                                              </td><td>Ranidae                                                                                                                                            </td><td>Rana                                                                                                                                               </td><td>Rana_temporaria                                                                                                                                    </td><td>carnivore                                                                                                                                          </td><td>terrestrial habitat                                                                                                                                </td></tr>\n",
       "\t<tr><td>X36_Agile_Frog                                                                                                                                     </td><td>/ebio/abt3_projects/Georg_animal_feces/data/metagenome/HiSeqRuns126-133-0138/wOutVertebrata/LLMGQC/final/X36_Agile_Frog/R1_final.fq.gz             </td><td>/ebio/abt3_projects/Georg_animal_feces/data/metagenome/HiSeqRuns126-133-0138/wOutVertebrata/LLMGQC/final/X36_Agile_Frog/R2_final.fq.gz             </td><td> 861411                                                                                                                                            </td><td>0.5153954                                                                                                                                          </td><td>18.04280                                                                                                                                           </td><td>Amphibia                                                                                                                                           </td><td>Anura                                                                                                                                              </td><td>Ranidae                                                                                                                                            </td><td>Rana                                                                                                                                               </td><td>Rana_dalmatina                                                                                                                                     </td><td>carnivore                                                                                                                                          </td><td>terrestrial habitat                                                                                                                                </td></tr>\n",
       "</tbody>\n",
       "</table>\n"
      ],
      "text/latex": [
       "\\begin{tabular}{r|lllllllllllll}\n",
       " Sample & Read1 & Read2 & Total.Sequences & nonpareil\\_coverage & nonpareil\\_diversity & class & order & family & genus & scientific\\_name & diet & habitat\\\\\n",
       "\\hline\n",
       "\t X345\\_fail\\_Alpine\\_Salamander                                                                                                                                 & /ebio/abt3\\_projects/Georg\\_animal\\_feces/data/metagenome/HiSeqRuns126-133-0138/wOutVertebrata/LLMGQC/final/X345\\_fail\\_Alpine\\_Salamander/R1\\_final.fq.gz & /ebio/abt3\\_projects/Georg\\_animal\\_feces/data/metagenome/HiSeqRuns126-133-0138/wOutVertebrata/LLMGQC/final/X345\\_fail\\_Alpine\\_Salamander/R2\\_final.fq.gz &  243586                                                                                                                                                           & 0.3731663                                                                                                                                                         & 18.06532                                                                                                                                                          & Amphibia                                                                                                                                                          & Caudata                                                                                                                                                           & Salamandridae                                                                                                                                                     & Salamandra                                                                                                                                                        & Salamandra\\_atra                                                                                                                                                 & carnivore                                                                                                                                                         & terrestrial habitat                                                                                                                                              \\\\\n",
       "\t X193\\_fail\\_Common\\_Frog                                                                                                                                       & /ebio/abt3\\_projects/Georg\\_animal\\_feces/data/metagenome/HiSeqRuns126-133-0138/wOutVertebrata/LLMGQC/final/X193\\_fail\\_Common\\_Frog/R1\\_final.fq.gz       & /ebio/abt3\\_projects/Georg\\_animal\\_feces/data/metagenome/HiSeqRuns126-133-0138/wOutVertebrata/LLMGQC/final/X193\\_fail\\_Common\\_Frog/R2\\_final.fq.gz       & 5133809                                                                                                                                                           & 0.5145879                                                                                                                                                         & 19.69866                                                                                                                                                          & Amphibia                                                                                                                                                          & Anura                                                                                                                                                             & Ranidae                                                                                                                                                           & Rana                                                                                                                                                              & Rana\\_temporaria                                                                                                                                                 & carnivore                                                                                                                                                         & terrestrial habitat                                                                                                                                              \\\\\n",
       "\t X36\\_Agile\\_Frog                                                                                                                                              & /ebio/abt3\\_projects/Georg\\_animal\\_feces/data/metagenome/HiSeqRuns126-133-0138/wOutVertebrata/LLMGQC/final/X36\\_Agile\\_Frog/R1\\_final.fq.gz              & /ebio/abt3\\_projects/Georg\\_animal\\_feces/data/metagenome/HiSeqRuns126-133-0138/wOutVertebrata/LLMGQC/final/X36\\_Agile\\_Frog/R2\\_final.fq.gz              &  861411                                                                                                                                                         & 0.5153954                                                                                                                                                       & 18.04280                                                                                                                                                        & Amphibia                                                                                                                                                        & Anura                                                                                                                                                           & Ranidae                                                                                                                                                         & Rana                                                                                                                                                            & Rana\\_dalmatina                                                                                                                                                & carnivore                                                                                                                                                       & terrestrial habitat                                                                                                                                            \\\\\n",
       "\\end{tabular}\n"
      ],
      "text/markdown": [
       "\n",
       "Sample | Read1 | Read2 | Total.Sequences | nonpareil_coverage | nonpareil_diversity | class | order | family | genus | scientific_name | diet | habitat | \n",
       "|---|---|---|\n",
       "| X345_fail_Alpine_Salamander                                                                                                                         | /ebio/abt3_projects/Georg_animal_feces/data/metagenome/HiSeqRuns126-133-0138/wOutVertebrata/LLMGQC/final/X345_fail_Alpine_Salamander/R1_final.fq.gz | /ebio/abt3_projects/Georg_animal_feces/data/metagenome/HiSeqRuns126-133-0138/wOutVertebrata/LLMGQC/final/X345_fail_Alpine_Salamander/R2_final.fq.gz |  243586                                                                                                                                             | 0.3731663                                                                                                                                           | 18.06532                                                                                                                                            | Amphibia                                                                                                                                            | Caudata                                                                                                                                             | Salamandridae                                                                                                                                       | Salamandra                                                                                                                                          | Salamandra_atra                                                                                                                                     | carnivore                                                                                                                                           | terrestrial habitat                                                                                                                                 | \n",
       "| X193_fail_Common_Frog                                                                                                                               | /ebio/abt3_projects/Georg_animal_feces/data/metagenome/HiSeqRuns126-133-0138/wOutVertebrata/LLMGQC/final/X193_fail_Common_Frog/R1_final.fq.gz       | /ebio/abt3_projects/Georg_animal_feces/data/metagenome/HiSeqRuns126-133-0138/wOutVertebrata/LLMGQC/final/X193_fail_Common_Frog/R2_final.fq.gz       | 5133809                                                                                                                                             | 0.5145879                                                                                                                                           | 19.69866                                                                                                                                            | Amphibia                                                                                                                                            | Anura                                                                                                                                               | Ranidae                                                                                                                                             | Rana                                                                                                                                                | Rana_temporaria                                                                                                                                     | carnivore                                                                                                                                           | terrestrial habitat                                                                                                                                 | \n",
       "| X36_Agile_Frog                                                                                                                                      | /ebio/abt3_projects/Georg_animal_feces/data/metagenome/HiSeqRuns126-133-0138/wOutVertebrata/LLMGQC/final/X36_Agile_Frog/R1_final.fq.gz              | /ebio/abt3_projects/Georg_animal_feces/data/metagenome/HiSeqRuns126-133-0138/wOutVertebrata/LLMGQC/final/X36_Agile_Frog/R2_final.fq.gz              |  861411                                                                                                                                             | 0.5153954                                                                                                                                           | 18.04280                                                                                                                                            | Amphibia                                                                                                                                            | Anura                                                                                                                                               | Ranidae                                                                                                                                             | Rana                                                                                                                                                | Rana_dalmatina                                                                                                                                      | carnivore                                                                                                                                           | terrestrial habitat                                                                                                                                 | \n",
       "\n",
       "\n"
      ],
      "text/plain": [
       "  Sample                     \n",
       "1 X345_fail_Alpine_Salamander\n",
       "2 X193_fail_Common_Frog      \n",
       "3 X36_Agile_Frog             \n",
       "  Read1                                                                                                                                              \n",
       "1 /ebio/abt3_projects/Georg_animal_feces/data/metagenome/HiSeqRuns126-133-0138/wOutVertebrata/LLMGQC/final/X345_fail_Alpine_Salamander/R1_final.fq.gz\n",
       "2 /ebio/abt3_projects/Georg_animal_feces/data/metagenome/HiSeqRuns126-133-0138/wOutVertebrata/LLMGQC/final/X193_fail_Common_Frog/R1_final.fq.gz      \n",
       "3 /ebio/abt3_projects/Georg_animal_feces/data/metagenome/HiSeqRuns126-133-0138/wOutVertebrata/LLMGQC/final/X36_Agile_Frog/R1_final.fq.gz             \n",
       "  Read2                                                                                                                                              \n",
       "1 /ebio/abt3_projects/Georg_animal_feces/data/metagenome/HiSeqRuns126-133-0138/wOutVertebrata/LLMGQC/final/X345_fail_Alpine_Salamander/R2_final.fq.gz\n",
       "2 /ebio/abt3_projects/Georg_animal_feces/data/metagenome/HiSeqRuns126-133-0138/wOutVertebrata/LLMGQC/final/X193_fail_Common_Frog/R2_final.fq.gz      \n",
       "3 /ebio/abt3_projects/Georg_animal_feces/data/metagenome/HiSeqRuns126-133-0138/wOutVertebrata/LLMGQC/final/X36_Agile_Frog/R2_final.fq.gz             \n",
       "  Total.Sequences nonpareil_coverage nonpareil_diversity class    order  \n",
       "1  243586         0.3731663          18.06532            Amphibia Caudata\n",
       "2 5133809         0.5145879          19.69866            Amphibia Anura  \n",
       "3  861411         0.5153954          18.04280            Amphibia Anura  \n",
       "  family        genus      scientific_name diet      habitat            \n",
       "1 Salamandridae Salamandra Salamandra_atra carnivore terrestrial habitat\n",
       "2 Ranidae       Rana       Rana_temporaria carnivore terrestrial habitat\n",
       "3 Ranidae       Rana       Rana_dalmatina  carnivore terrestrial habitat"
      ]
     },
     "metadata": {},
     "output_type": "display_data"
    }
   ],
   "source": [
    "samps_f = samps %>%\n",
    "    filter(class == 'Amphibia') \n",
    "\n",
    "samps_f %>% dfhead"
   ]
  },
  {
   "cell_type": "code",
   "execution_count": 10,
   "metadata": {
    "ExecuteTime": {
     "end_time": "2019-09-17T03:41:50.568361Z",
     "start_time": "2019-09-17T03:41:50.514Z"
    }
   },
   "outputs": [
    {
     "name": "stdout",
     "output_type": "stream",
     "text": [
      "File written: /ebio/abt3_projects/databases_no-backup/animal_gut_metagenomes/wOutVertebrata/MG_assembly_amp/LLMGA//samples_amp.tsv \n"
     ]
    }
   ],
   "source": [
    "outF = file.path(work_dir, 'samples_amp.tsv')\n",
    "samps_f %>%\n",
    "    arrange(class, order, family, genus) %>%\n",
    "    write.table(outF, sep='\\t', quote=FALSE, row.names=FALSE)\n",
    "cat('File written:', outF, '\\n')"
   ]
  },
  {
   "cell_type": "markdown",
   "metadata": {},
   "source": [
    "# llmga"
   ]
  },
  {
   "cell_type": "markdown",
   "metadata": {},
   "source": [
    "## Config"
   ]
  },
  {
   "cell_type": "code",
   "execution_count": 11,
   "metadata": {
    "ExecuteTime": {
     "end_time": "2019-09-17T03:42:27.835539Z",
     "start_time": "2019-09-17T03:42:27.792Z"
    }
   },
   "outputs": [
    {
     "name": "stdout",
     "output_type": "stream",
     "text": [
      "#-- I/O --#\n",
      "# table with sample --> read_file information\n",
      "samples_file: /ebio/abt3_projects/databases_no-backup/animal_gut_metagenomes/wOutVertebrata/MG_assembly_amp/LLMGA/samples_amp.tsv\n",
      "\n",
      "# output location\n",
      "output_dir: /ebio/abt3_projects/databases_no-backup/animal_gut_metagenomes/wOutVertebrata/MG_assembly_amp/LLMGA/\n",
      "\n",
      "#-- reference genome(s) for metacompass --#\n",
      "metacompass_ref: /ebio/abt3_projects/Georg_animal_feces/data/metagenome/HiSeqRuns126-133-0138/wOutVertebrata/MG_assembly_amp/LLMGA-find-refs/references/ref_genomes.fna\n",
      "\n",
      "#-- database --#\n",
      "kraken2_db: /ebio/abt3_projects/databases_no-backup/kraken2/nt_db/hash.k2d\n",
      "krakenuniq_db: /ebio/abt3_projects/databases_no-backup/krakenuniq/taxonomy/nodes.dmp\n",
      "checkM_data: /ebio/abt3_projects/databases_no-backup/checkM/\n",
      "sourmash_db: /ebio/abt3_projects/databases_no-backup/sourmash/genbank-k31.sbt.json\n",
      "sourmash_lca_db: /ebio/abt3_projects/databases_no-backup/sourmash/v2/genbank-k31.lca.json.gz\n",
      "gtdbtk_db: /ebio/abt3_projects/databases_no-backup/GTDB/release89/db_info.md\n",
      "\n",
      "#-- re-running --#\n",
      "# use this to prevent re-running the assembly steps if you just need to rerun post-assembly steps\n",
      "skip_assembly: False\n",
      "\n",
      "#-- software parameters --#\n",
      "# Notes:\n",
      "## Use \"Skip\" to skip any step. If no params, just use \"\"\n",
      "## Note: You must skip either metacompass_megahit or metacompass_metaspades (or both)\n",
      "## Note: for the *_batches params, the number must be <= the number of MAGs\n",
      "## Note: using >15mil paired-end reads may not scale well!\n",
      "## Note: subsampling just applies to samples with > the number of reads\n",
      "## Note: for diff. cov. binning, you can select a certain number of samples to use (the origin sample is always used)\n",
      "params:\n",
      "  subsample_reads: 10000000\n",
      "  fastqc_on_raw: \"\"\n",
      "  \n",
      "  # metacompass\n",
      "  ## ref-based assembly; use \"Skip\" to skip the ref-based assembly\n",
      "  metacompass: \"\"\n",
      "  metacompass_buildcontig: --pickref breadth --mincov 3 -l 500 -n T -b F -u F\n",
      "  ## de-novo assembly; use \"Skip\" to skip the de-novo assembly\n",
      "  metacompass_metaspades: -k auto --only-assembler\n",
      "  metacompass_megahit: Skip       # eg., (--min-count 3 --min-contig-len 500 --presets meta-sensitive)\n",
      "  ## contig length cutoff\n",
      "  metacompass_min_contig_len: 2000            # min contig length retained\n",
      "  metacompass_derep_contigs: minidentity=100 minscaf=500 minoverlappercent=95\n",
      "  \n",
      "  # co-assembly\n",
      "  ## normalization/subsampling/dereplication\n",
      "  bbnorm_metacompass_unmapped: Skip            # eg., (target=100 k=31 minkmers=15 prefilter=t passes=1)\n",
      "  subsample_combined: Skip                     # max number of read pairs to use for co-assembly (eg., 10000000)\n",
      "  bbnorm_metacompass_unmapped_combined: Skip   # eg., (target=100 k=31 minkmers=15 prefilter=t passes=1)\n",
      "  ## co-assembly (default => Skipped)\n",
      "  coassemble_metaspades_hybrid: Skip          # eg., (-k auto --only-assembler)\n",
      "  \n",
      "  # combined, final contigs\n",
      "  combine_all_contigs: Skip                 # 'Skip' will cause all samples to be binned seperately; must not be skipped if using co-assembly\n",
      "  metaquast: --max-ref-number 0             # job run on rick to use internet if `--max-ref-number` > 0\n",
      "  contig_rename: minscaf=2000               # minscaf = scaffold length cutoff\n",
      "  cut_up_fasta: Skip                        # cutting long contigs for possibly better binning (eg., -c 20000 -o 0)\n",
      "  \n",
      "  # contig binning\n",
      "  ## mapping\n",
      "  num_map_samples: 30                 # how many samples to use for differential cov. binning ('all' = all samples)\n",
      "  ### bowtie2 (more sensitive than kraken)\n",
      "  samtools: -q 0                              # -q = MAPQ cutoff\n",
      "  bam_to_depth: --percentIdentity 97\n",
      "  ### kraken (faster than bowtie2, but less sensitive)\n",
      "  kraken2: Skip #--memory-mapping\n",
      "  krakenuniq_build: --kmer-len 31 --minimizer-len 15\n",
      "  krakenuniq: --hll-precision 12\n",
      "  krakenuniq_kmer_cutoff: 1000\n",
      "  ## binning\n",
      "  ### maxbin2 (2 different binning parameters used)\n",
      "  maxbin2_low_prob: -min_contig_length 2000 -markerset 40  -prob_threshold 0.6\n",
      "  maxbin2_high_prob: -min_contig_length 2000 -markerset 40  -prob_threshold 0.8\n",
      "  ### metabat (2 different binning parameters used)\n",
      "  metabat2_low_PE: --minContig 2000 --minCV 0.5 --minCVSum 0.5  --maxP 92 --maxEdges 150 --seed 8394\n",
      "  metabat2_high_PE: --minContig 2000 --minCV 0.5 --minCVSum 0.5 --maxP 97 --maxEdges 500 --seed 8394\n",
      "  ### vamb\n",
      "  vamb: Skip #-m 2000\n",
      "  \n",
      "  # bin refinement/assessment\n",
      "  ## selecting the 'best' bins from all binning methods\n",
      "  das_tool: --search_engine diamond\n",
      "  ## bin assessment\n",
      "  bin_batches: 10                               # process MAGs in batches \n",
      "  checkm:  --tab_table\n",
      "  sourmash_compute: --scaled 10000 -k 31\n",
      "  sourmash_gather: -k 31 --dna\n",
      "  fastani_batches: 10                           # process MAGs in batches\n",
      "  fastani: --fragLen 1000 --minFrag 50 -k 16\n",
      "  gtdbtk_classify_wf: --min_perc_aa 10\n",
      "  drep: -comp 50 -con 5 -sa 99\n",
      "  ### anivo; use \"Skip\" on anvio_gen_contigs_db to skip all of anvio\n",
      "  anvio_gen_contigs_db: Skip                 # eg., (--skip-mindful-splitting --kmer-size 4) \n",
      "  anvio_run_ncbi_cogs: --cog-data-dir /ebio/abt3_projects/databases_no-backup/anvio_v4/\n",
      "  anvio_centrifuge: -x /ebio/abt3_projects/databases_no-backup/centrifuge/p+h+v\n",
      "  anvio_profile: --min-mean-coverage 0 --min-contig-length 2000 --cluster-contigs\n",
      "  anvio_merge: -S coassembly_contigs --skip-concoct-binning\n",
      "  anvio_interactive_script: -P 8080 -C DAS_Tool\n",
      "\n",
      "#-- snakemake pipeline --#\n",
      "# your username will be added automatically to the `temp_folder` path\n",
      "pipeline:\n",
      "  bwlimit: 100m                            # rsync bwlimit\n",
      "  snakemake_folder: ./\n",
      "  script_folder: bin/scripts/\n",
      "  temp_folder: /tmp/global2/               \n",
      "  random_number_seed: 83421"
     ]
    }
   ],
   "source": [
    "F = file.path(work_dir, 'config.yaml')\n",
    "cat_file(F)"
   ]
  },
  {
   "cell_type": "markdown",
   "metadata": {},
   "source": [
    "## Run"
   ]
  },
  {
   "cell_type": "markdown",
   "metadata": {},
   "source": [
    "```\n",
    "(snakemake_dev) @ rick:/ebio/abt3_projects/vadinCA11/bin/llmga\n",
    "$ screen -L -S llmga-ga-amp ./snakemake_sge.sh /ebio/abt3_projects/databases_no-backup/animal_gut_metagenomes/wOutVertebrata/MG_assembly_amp/LLMGA/config.yaml cluster.json /ebio/abt3_projects/databases_no-backup/animal_gut_metagenomes/wOutVertebrata/MG_assembly_amp/LLMGA/SGE_log 20\n",
    "```"
   ]
  },
  {
   "cell_type": "markdown",
   "metadata": {},
   "source": [
    "# Summary"
   ]
  },
  {
   "cell_type": "code",
   "execution_count": 12,
   "metadata": {
    "ExecuteTime": {
     "end_time": "2019-09-26T11:54:24.803647Z",
     "start_time": "2019-09-26T11:54:24.749Z"
    }
   },
   "outputs": [],
   "source": [
    "asmbl_dir = '/ebio/abt3_projects/databases_no-backup/animal_gut_metagenomes/wOutVertebrata/MG_assembly_amp/LLMGA/'\n",
    "\n",
    "checkm_markers_file = file.path(asmbl_dir, 'checkm', 'markers_qa_summary.tsv')\n",
    "gtdbtk_bac_sum_file = file.path(asmbl_dir, 'gtdbtk', 'gtdbtk_bac_summary.tsv')\n",
    "gtdbtk_arc_sum_file = file.path(asmbl_dir, 'gtdbtk', 'gtdbtk_ar_summary.tsv')\n",
    "\n",
    "bin_dir = file.path(asmbl_dir, 'bin')\n",
    "das_tool_dir = file.path(asmbl_dir, 'bin_refine', 'DAS_Tool')\n",
    "drep_dir = file.path(asmbl_dir, 'drep', 'drep')"
   ]
  },
  {
   "cell_type": "markdown",
   "metadata": {},
   "source": [
    "## Load"
   ]
  },
  {
   "cell_type": "code",
   "execution_count": 13,
   "metadata": {
    "ExecuteTime": {
     "end_time": "2019-09-26T11:54:32.735711Z",
     "start_time": "2019-09-26T11:54:32.448Z"
    }
   },
   "outputs": [
    {
     "name": "stdout",
     "output_type": "stream",
     "text": [
      "[1] 35  4\n"
     ]
    },
    {
     "data": {
      "text/html": [
       "<table>\n",
       "<thead><tr><th scope=col>binID</th><th scope=col>fasta</th><th scope=col>binner</th><th scope=col>sample</th></tr></thead>\n",
       "<tbody>\n",
       "\t<tr><td>coassemble_contigs.001                                                                                                                                                     </td><td>/ebio/abt3_projects/databases_no-backup/animal_gut_metagenomes/wOutVertebrata/MG_assembly_amp/LLMGA//bin/F157a_European_Toad/maxbin2_high_prob/coassemble_contigs.001.fasta</td><td>maxbin2_high_prob                                                                                                                                                          </td><td>F157a_European_Toad                                                                                                                                                        </td></tr>\n",
       "\t<tr><td>coassemble_contigs.002                                                                                                                                                     </td><td>/ebio/abt3_projects/databases_no-backup/animal_gut_metagenomes/wOutVertebrata/MG_assembly_amp/LLMGA//bin/F157a_European_Toad/maxbin2_high_prob/coassemble_contigs.002.fasta</td><td>maxbin2_high_prob                                                                                                                                                          </td><td>F157a_European_Toad                                                                                                                                                        </td></tr>\n",
       "\t<tr><td>coassemble_contigs.003                                                                                                                                                     </td><td>/ebio/abt3_projects/databases_no-backup/animal_gut_metagenomes/wOutVertebrata/MG_assembly_amp/LLMGA//bin/F157a_European_Toad/maxbin2_high_prob/coassemble_contigs.003.fasta</td><td>maxbin2_high_prob                                                                                                                                                          </td><td>F157a_European_Toad                                                                                                                                                        </td></tr>\n",
       "</tbody>\n",
       "</table>\n"
      ],
      "text/latex": [
       "\\begin{tabular}{r|llll}\n",
       " binID & fasta & binner & sample\\\\\n",
       "\\hline\n",
       "\t coassemble\\_contigs.001                                                                                                                                                                          & /ebio/abt3\\_projects/databases\\_no-backup/animal\\_gut\\_metagenomes/wOutVertebrata/MG\\_assembly\\_amp/LLMGA//bin/F157a\\_European\\_Toad/maxbin2\\_high\\_prob/coassemble\\_contigs.001.fasta & maxbin2\\_high\\_prob                                                                                                                                                                             & F157a\\_European\\_Toad                                                                                                                                                                          \\\\\n",
       "\t coassemble\\_contigs.002                                                                                                                                                                          & /ebio/abt3\\_projects/databases\\_no-backup/animal\\_gut\\_metagenomes/wOutVertebrata/MG\\_assembly\\_amp/LLMGA//bin/F157a\\_European\\_Toad/maxbin2\\_high\\_prob/coassemble\\_contigs.002.fasta & maxbin2\\_high\\_prob                                                                                                                                                                             & F157a\\_European\\_Toad                                                                                                                                                                          \\\\\n",
       "\t coassemble\\_contigs.003                                                                                                                                                                          & /ebio/abt3\\_projects/databases\\_no-backup/animal\\_gut\\_metagenomes/wOutVertebrata/MG\\_assembly\\_amp/LLMGA//bin/F157a\\_European\\_Toad/maxbin2\\_high\\_prob/coassemble\\_contigs.003.fasta & maxbin2\\_high\\_prob                                                                                                                                                                             & F157a\\_European\\_Toad                                                                                                                                                                          \\\\\n",
       "\\end{tabular}\n"
      ],
      "text/markdown": [
       "\n",
       "binID | fasta | binner | sample | \n",
       "|---|---|---|\n",
       "| coassemble_contigs.001                                                                                                                                                      | /ebio/abt3_projects/databases_no-backup/animal_gut_metagenomes/wOutVertebrata/MG_assembly_amp/LLMGA//bin/F157a_European_Toad/maxbin2_high_prob/coassemble_contigs.001.fasta | maxbin2_high_prob                                                                                                                                                           | F157a_European_Toad                                                                                                                                                         | \n",
       "| coassemble_contigs.002                                                                                                                                                      | /ebio/abt3_projects/databases_no-backup/animal_gut_metagenomes/wOutVertebrata/MG_assembly_amp/LLMGA//bin/F157a_European_Toad/maxbin2_high_prob/coassemble_contigs.002.fasta | maxbin2_high_prob                                                                                                                                                           | F157a_European_Toad                                                                                                                                                         | \n",
       "| coassemble_contigs.003                                                                                                                                                      | /ebio/abt3_projects/databases_no-backup/animal_gut_metagenomes/wOutVertebrata/MG_assembly_amp/LLMGA//bin/F157a_European_Toad/maxbin2_high_prob/coassemble_contigs.003.fasta | maxbin2_high_prob                                                                                                                                                           | F157a_European_Toad                                                                                                                                                         | \n",
       "\n",
       "\n"
      ],
      "text/plain": [
       "  binID                 \n",
       "1 coassemble_contigs.001\n",
       "2 coassemble_contigs.002\n",
       "3 coassemble_contigs.003\n",
       "  fasta                                                                                                                                                                      \n",
       "1 /ebio/abt3_projects/databases_no-backup/animal_gut_metagenomes/wOutVertebrata/MG_assembly_amp/LLMGA//bin/F157a_European_Toad/maxbin2_high_prob/coassemble_contigs.001.fasta\n",
       "2 /ebio/abt3_projects/databases_no-backup/animal_gut_metagenomes/wOutVertebrata/MG_assembly_amp/LLMGA//bin/F157a_European_Toad/maxbin2_high_prob/coassemble_contigs.002.fasta\n",
       "3 /ebio/abt3_projects/databases_no-backup/animal_gut_metagenomes/wOutVertebrata/MG_assembly_amp/LLMGA//bin/F157a_European_Toad/maxbin2_high_prob/coassemble_contigs.003.fasta\n",
       "  binner            sample             \n",
       "1 maxbin2_high_prob F157a_European_Toad\n",
       "2 maxbin2_high_prob F157a_European_Toad\n",
       "3 maxbin2_high_prob F157a_European_Toad"
      ]
     },
     "metadata": {},
     "output_type": "display_data"
    }
   ],
   "source": [
    "# bin genomes\n",
    "## maxbin2\n",
    "bin_files = list.files(bin_dir, '*.fasta$', full.names=TRUE, recursive=TRUE)\n",
    "bin = data.frame(binID = gsub('\\\\.fasta$', '', basename(bin_files)),\n",
    "                 fasta = bin_files,\n",
    "                 binner = bin_files %>% dirname %>% basename,\n",
    "                 sample = bin_files %>% dirname %>% dirname %>% basename)\n",
    "\n",
    "## metabat2\n",
    "bin_files = list.files(bin_dir, '*.fa$', full.names=TRUE, recursive=TRUE)\n",
    "X = data.frame(binID = gsub('\\\\.fa$', '', basename(bin_files)),\n",
    "               fasta = bin_files,\n",
    "               binner = bin_files %>% dirname %>% basename,\n",
    "               sample = bin_files %>% dirname %>% dirname %>% basename)\n",
    "\n",
    "## combine\n",
    "bin = rbind(bin, X)\n",
    "X = NULL\n",
    "bin %>% dfhead"
   ]
  },
  {
   "cell_type": "code",
   "execution_count": 14,
   "metadata": {
    "ExecuteTime": {
     "end_time": "2019-09-26T11:54:33.609998Z",
     "start_time": "2019-09-26T11:54:33.550Z"
    }
   },
   "outputs": [
    {
     "name": "stdout",
     "output_type": "stream",
     "text": [
      "[1] 6 2\n"
     ]
    },
    {
     "data": {
      "text/html": [
       "<table>\n",
       "<thead><tr><th scope=col>binID</th><th scope=col>fasta</th></tr></thead>\n",
       "<tbody>\n",
       "\t<tr><td>F157a_European_Toad__metabat2_high_PE.004.contigs                                                                                                                                              </td><td>/ebio/abt3_projects/databases_no-backup/animal_gut_metagenomes/wOutVertebrata/MG_assembly_amp/LLMGA//bin_refine/DAS_Tool/bins_DASTool_bins/F157a_European_Toad__metabat2_high_PE.004.contigs.fa</td></tr>\n",
       "\t<tr><td>F157a_European_Toad__metabat2_high_PE.005.contigs                                                                                                                                              </td><td>/ebio/abt3_projects/databases_no-backup/animal_gut_metagenomes/wOutVertebrata/MG_assembly_amp/LLMGA//bin_refine/DAS_Tool/bins_DASTool_bins/F157a_European_Toad__metabat2_high_PE.005.contigs.fa</td></tr>\n",
       "\t<tr><td>F157a_European_Toad__metabat2_low_PE.002.contigs                                                                                                                                               </td><td>/ebio/abt3_projects/databases_no-backup/animal_gut_metagenomes/wOutVertebrata/MG_assembly_amp/LLMGA//bin_refine/DAS_Tool/bins_DASTool_bins/F157a_European_Toad__metabat2_low_PE.002.contigs.fa </td></tr>\n",
       "</tbody>\n",
       "</table>\n"
      ],
      "text/latex": [
       "\\begin{tabular}{r|ll}\n",
       " binID & fasta\\\\\n",
       "\\hline\n",
       "\t F157a\\_European\\_Toad\\_\\_metabat2\\_high\\_PE.004.contigs                                                                                                                                                                   & /ebio/abt3\\_projects/databases\\_no-backup/animal\\_gut\\_metagenomes/wOutVertebrata/MG\\_assembly\\_amp/LLMGA//bin\\_refine/DAS\\_Tool/bins\\_DASTool\\_bins/F157a\\_European\\_Toad\\_\\_metabat2\\_high\\_PE.004.contigs.fa\\\\\n",
       "\t F157a\\_European\\_Toad\\_\\_metabat2\\_high\\_PE.005.contigs                                                                                                                                                                   & /ebio/abt3\\_projects/databases\\_no-backup/animal\\_gut\\_metagenomes/wOutVertebrata/MG\\_assembly\\_amp/LLMGA//bin\\_refine/DAS\\_Tool/bins\\_DASTool\\_bins/F157a\\_European\\_Toad\\_\\_metabat2\\_high\\_PE.005.contigs.fa\\\\\n",
       "\t F157a\\_European\\_Toad\\_\\_metabat2\\_low\\_PE.002.contigs                                                                                                                                                                    & /ebio/abt3\\_projects/databases\\_no-backup/animal\\_gut\\_metagenomes/wOutVertebrata/MG\\_assembly\\_amp/LLMGA//bin\\_refine/DAS\\_Tool/bins\\_DASTool\\_bins/F157a\\_European\\_Toad\\_\\_metabat2\\_low\\_PE.002.contigs.fa \\\\\n",
       "\\end{tabular}\n"
      ],
      "text/markdown": [
       "\n",
       "binID | fasta | \n",
       "|---|---|---|\n",
       "| F157a_European_Toad__metabat2_high_PE.004.contigs                                                                                                                                               | /ebio/abt3_projects/databases_no-backup/animal_gut_metagenomes/wOutVertebrata/MG_assembly_amp/LLMGA//bin_refine/DAS_Tool/bins_DASTool_bins/F157a_European_Toad__metabat2_high_PE.004.contigs.fa | \n",
       "| F157a_European_Toad__metabat2_high_PE.005.contigs                                                                                                                                               | /ebio/abt3_projects/databases_no-backup/animal_gut_metagenomes/wOutVertebrata/MG_assembly_amp/LLMGA//bin_refine/DAS_Tool/bins_DASTool_bins/F157a_European_Toad__metabat2_high_PE.005.contigs.fa | \n",
       "| F157a_European_Toad__metabat2_low_PE.002.contigs                                                                                                                                                | /ebio/abt3_projects/databases_no-backup/animal_gut_metagenomes/wOutVertebrata/MG_assembly_amp/LLMGA//bin_refine/DAS_Tool/bins_DASTool_bins/F157a_European_Toad__metabat2_low_PE.002.contigs.fa  | \n",
       "\n",
       "\n"
      ],
      "text/plain": [
       "  binID                                            \n",
       "1 F157a_European_Toad__metabat2_high_PE.004.contigs\n",
       "2 F157a_European_Toad__metabat2_high_PE.005.contigs\n",
       "3 F157a_European_Toad__metabat2_low_PE.002.contigs \n",
       "  fasta                                                                                                                                                                                          \n",
       "1 /ebio/abt3_projects/databases_no-backup/animal_gut_metagenomes/wOutVertebrata/MG_assembly_amp/LLMGA//bin_refine/DAS_Tool/bins_DASTool_bins/F157a_European_Toad__metabat2_high_PE.004.contigs.fa\n",
       "2 /ebio/abt3_projects/databases_no-backup/animal_gut_metagenomes/wOutVertebrata/MG_assembly_amp/LLMGA//bin_refine/DAS_Tool/bins_DASTool_bins/F157a_European_Toad__metabat2_high_PE.005.contigs.fa\n",
       "3 /ebio/abt3_projects/databases_no-backup/animal_gut_metagenomes/wOutVertebrata/MG_assembly_amp/LLMGA//bin_refine/DAS_Tool/bins_DASTool_bins/F157a_European_Toad__metabat2_low_PE.002.contigs.fa "
      ]
     },
     "metadata": {},
     "output_type": "display_data"
    }
   ],
   "source": [
    "# DAS-tool genomes\n",
    "dastool_files = list.files(das_tool_dir, '*.fa$', full.names=TRUE, recursive=TRUE)\n",
    "\n",
    "dastool = data.frame(binID = gsub('\\\\.fa$', '', basename(dastool_files)),\n",
    "                    fasta = dastool_files)\n",
    "dastool %>% dfhead"
   ]
  },
  {
   "cell_type": "code",
   "execution_count": 15,
   "metadata": {
    "ExecuteTime": {
     "end_time": "2019-09-26T11:54:34.444517Z",
     "start_time": "2019-09-26T11:54:34.382Z"
    }
   },
   "outputs": [
    {
     "name": "stdout",
     "output_type": "stream",
     "text": [
      "[1] 5 2\n"
     ]
    },
    {
     "data": {
      "text/html": [
       "<table>\n",
       "<thead><tr><th scope=col>binID</th><th scope=col>fasta</th></tr></thead>\n",
       "<tbody>\n",
       "\t<tr><td>F157a_European_Toad__metabat2_high_PE.005.contigs                                                                                                                                       </td><td>/ebio/abt3_projects/databases_no-backup/animal_gut_metagenomes/wOutVertebrata/MG_assembly_amp/LLMGA//drep/drep/dereplicated_genomes/F157a_European_Toad__metabat2_high_PE.005.contigs.fa</td></tr>\n",
       "\t<tr><td>F157a_European_Toad__metabat2_low_PE.002.contigs                                                                                                                                        </td><td>/ebio/abt3_projects/databases_no-backup/animal_gut_metagenomes/wOutVertebrata/MG_assembly_amp/LLMGA//drep/drep/dereplicated_genomes/F157a_European_Toad__metabat2_low_PE.002.contigs.fa </td></tr>\n",
       "\t<tr><td>F157b_European_Toad__metabat2_low_PE.001.contigs                                                                                                                                        </td><td>/ebio/abt3_projects/databases_no-backup/animal_gut_metagenomes/wOutVertebrata/MG_assembly_amp/LLMGA//drep/drep/dereplicated_genomes/F157b_European_Toad__metabat2_low_PE.001.contigs.fa </td></tr>\n",
       "</tbody>\n",
       "</table>\n"
      ],
      "text/latex": [
       "\\begin{tabular}{r|ll}\n",
       " binID & fasta\\\\\n",
       "\\hline\n",
       "\t F157a\\_European\\_Toad\\_\\_metabat2\\_high\\_PE.005.contigs                                                                                                                                                      & /ebio/abt3\\_projects/databases\\_no-backup/animal\\_gut\\_metagenomes/wOutVertebrata/MG\\_assembly\\_amp/LLMGA//drep/drep/dereplicated\\_genomes/F157a\\_European\\_Toad\\_\\_metabat2\\_high\\_PE.005.contigs.fa\\\\\n",
       "\t F157a\\_European\\_Toad\\_\\_metabat2\\_low\\_PE.002.contigs                                                                                                                                                       & /ebio/abt3\\_projects/databases\\_no-backup/animal\\_gut\\_metagenomes/wOutVertebrata/MG\\_assembly\\_amp/LLMGA//drep/drep/dereplicated\\_genomes/F157a\\_European\\_Toad\\_\\_metabat2\\_low\\_PE.002.contigs.fa \\\\\n",
       "\t F157b\\_European\\_Toad\\_\\_metabat2\\_low\\_PE.001.contigs                                                                                                                                                       & /ebio/abt3\\_projects/databases\\_no-backup/animal\\_gut\\_metagenomes/wOutVertebrata/MG\\_assembly\\_amp/LLMGA//drep/drep/dereplicated\\_genomes/F157b\\_European\\_Toad\\_\\_metabat2\\_low\\_PE.001.contigs.fa \\\\\n",
       "\\end{tabular}\n"
      ],
      "text/markdown": [
       "\n",
       "binID | fasta | \n",
       "|---|---|---|\n",
       "| F157a_European_Toad__metabat2_high_PE.005.contigs                                                                                                                                        | /ebio/abt3_projects/databases_no-backup/animal_gut_metagenomes/wOutVertebrata/MG_assembly_amp/LLMGA//drep/drep/dereplicated_genomes/F157a_European_Toad__metabat2_high_PE.005.contigs.fa | \n",
       "| F157a_European_Toad__metabat2_low_PE.002.contigs                                                                                                                                         | /ebio/abt3_projects/databases_no-backup/animal_gut_metagenomes/wOutVertebrata/MG_assembly_amp/LLMGA//drep/drep/dereplicated_genomes/F157a_European_Toad__metabat2_low_PE.002.contigs.fa  | \n",
       "| F157b_European_Toad__metabat2_low_PE.001.contigs                                                                                                                                         | /ebio/abt3_projects/databases_no-backup/animal_gut_metagenomes/wOutVertebrata/MG_assembly_amp/LLMGA//drep/drep/dereplicated_genomes/F157b_European_Toad__metabat2_low_PE.001.contigs.fa  | \n",
       "\n",
       "\n"
      ],
      "text/plain": [
       "  binID                                            \n",
       "1 F157a_European_Toad__metabat2_high_PE.005.contigs\n",
       "2 F157a_European_Toad__metabat2_low_PE.002.contigs \n",
       "3 F157b_European_Toad__metabat2_low_PE.001.contigs \n",
       "  fasta                                                                                                                                                                                   \n",
       "1 /ebio/abt3_projects/databases_no-backup/animal_gut_metagenomes/wOutVertebrata/MG_assembly_amp/LLMGA//drep/drep/dereplicated_genomes/F157a_European_Toad__metabat2_high_PE.005.contigs.fa\n",
       "2 /ebio/abt3_projects/databases_no-backup/animal_gut_metagenomes/wOutVertebrata/MG_assembly_amp/LLMGA//drep/drep/dereplicated_genomes/F157a_European_Toad__metabat2_low_PE.002.contigs.fa \n",
       "3 /ebio/abt3_projects/databases_no-backup/animal_gut_metagenomes/wOutVertebrata/MG_assembly_amp/LLMGA//drep/drep/dereplicated_genomes/F157b_European_Toad__metabat2_low_PE.001.contigs.fa "
      ]
     },
     "metadata": {},
     "output_type": "display_data"
    }
   ],
   "source": [
    "# drep genome files\n",
    "P = file.path(drep_dir, 'dereplicated_genomes')\n",
    "drep_files = list.files(P, '*.fa$', full.names=TRUE)\n",
    "\n",
    "drep = data.frame(binID = gsub('\\\\.fa$', '', basename(drep_files)),\n",
    "                  fasta = drep_files)\n",
    "drep %>% dfhead"
   ]
  },
  {
   "cell_type": "code",
   "execution_count": 16,
   "metadata": {
    "ExecuteTime": {
     "end_time": "2019-09-26T11:54:34.790636Z",
     "start_time": "2019-09-26T11:54:34.623Z"
    }
   },
   "outputs": [
    {
     "name": "stdout",
     "output_type": "stream",
     "text": [
      "[1] 6\n"
     ]
    },
    {
     "name": "stderr",
     "output_type": "stream",
     "text": [
      "Warning message:\n",
      "“Column `binID`/`Bin.Id` joining factors with different levels, coercing to character vector”"
     ]
    },
    {
     "name": "stdout",
     "output_type": "stream",
     "text": [
      "[1]  5 30\n"
     ]
    },
    {
     "data": {
      "text/html": [
       "<table>\n",
       "<thead><tr><th scope=col>binID</th><th scope=col>fasta</th><th scope=col>Marker.lineage</th><th scope=col>X..genomes</th><th scope=col>X..markers</th><th scope=col>X..marker.sets</th><th scope=col>Completeness</th><th scope=col>Contamination</th><th scope=col>Strain.heterogeneity</th><th scope=col>Genome.size..bp.</th><th scope=col>⋯</th><th scope=col>GC.std..scaffolds...1kbp.</th><th scope=col>Coding.density</th><th scope=col>Translation.table</th><th scope=col>X..predicted.genes</th><th scope=col>X0</th><th scope=col>X1</th><th scope=col>X2</th><th scope=col>X3</th><th scope=col>X4</th><th scope=col>X5.</th></tr></thead>\n",
       "<tbody>\n",
       "\t<tr><td>F157a_European_Toad__metabat2_high_PE.005.contigs                                                                                                                                       </td><td>/ebio/abt3_projects/databases_no-backup/animal_gut_metagenomes/wOutVertebrata/MG_assembly_amp/LLMGA//drep/drep/dereplicated_genomes/F157a_European_Toad__metabat2_high_PE.005.contigs.fa</td><td>k__Bacteria (UID2982)                                                                                                                                                                   </td><td> 88                                                                                                                                                                                     </td><td>229                                                                                                                                                                                     </td><td>147                                                                                                                                                                                     </td><td>89.32                                                                                                                                                                                   </td><td>2.30                                                                                                                                                                                    </td><td>60                                                                                                                                                                                      </td><td>2029501                                                                                                                                                                                 </td><td>⋯                                                                                                                                                                                       </td><td>2.30                                                                                                                                                                                    </td><td>91.53                                                                                                                                                                                   </td><td>11                                                                                                                                                                                      </td><td>2036                                                                                                                                                                                    </td><td>18                                                                                                                                                                                      </td><td>206                                                                                                                                                                                     </td><td>5                                                                                                                                                                                       </td><td>0                                                                                                                                                                                       </td><td>0                                                                                                                                                                                       </td><td>0                                                                                                                                                                                       </td></tr>\n",
       "\t<tr><td>F157a_European_Toad__metabat2_low_PE.002.contigs                                                                                                                                        </td><td>/ebio/abt3_projects/databases_no-backup/animal_gut_metagenomes/wOutVertebrata/MG_assembly_amp/LLMGA//drep/drep/dereplicated_genomes/F157a_European_Toad__metabat2_low_PE.002.contigs.fa </td><td>k__Bacteria (UID2372)                                                                                                                                                                   </td><td>131                                                                                                                                                                                     </td><td>177                                                                                                                                                                                     </td><td>106                                                                                                                                                                                     </td><td>92.83                                                                                                                                                                                   </td><td>0.00                                                                                                                                                                                    </td><td> 0                                                                                                                                                                                      </td><td>2228745                                                                                                                                                                                 </td><td>⋯                                                                                                                                                                                       </td><td>1.63                                                                                                                                                                                    </td><td>90.02                                                                                                                                                                                   </td><td>11                                                                                                                                                                                      </td><td>2373                                                                                                                                                                                    </td><td>10                                                                                                                                                                                      </td><td>167                                                                                                                                                                                     </td><td>0                                                                                                                                                                                       </td><td>0                                                                                                                                                                                       </td><td>0                                                                                                                                                                                       </td><td>0                                                                                                                                                                                       </td></tr>\n",
       "\t<tr><td>F157b_European_Toad__metabat2_low_PE.001.contigs                                                                                                                                        </td><td>/ebio/abt3_projects/databases_no-backup/animal_gut_metagenomes/wOutVertebrata/MG_assembly_amp/LLMGA//drep/drep/dereplicated_genomes/F157b_European_Toad__metabat2_low_PE.001.contigs.fa </td><td>o__Clostridiales (UID1120)                                                                                                                                                              </td><td>304                                                                                                                                                                                     </td><td>250                                                                                                                                                                                     </td><td>143                                                                                                                                                                                     </td><td>84.50                                                                                                                                                                                   </td><td>1.05                                                                                                                                                                                    </td><td> 0                                                                                                                                                                                      </td><td>1649689                                                                                                                                                                                 </td><td>⋯                                                                                                                                                                                       </td><td>2.06                                                                                                                                                                                    </td><td>89.63                                                                                                                                                                                   </td><td>11                                                                                                                                                                                      </td><td>1797                                                                                                                                                                                    </td><td>29                                                                                                                                                                                      </td><td>219                                                                                                                                                                                     </td><td>2                                                                                                                                                                                       </td><td>0                                                                                                                                                                                       </td><td>0                                                                                                                                                                                       </td><td>0                                                                                                                                                                                       </td></tr>\n",
       "</tbody>\n",
       "</table>\n"
      ],
      "text/latex": [
       "\\begin{tabular}{r|llllllllllllllllllllllllllllll}\n",
       " binID & fasta & Marker.lineage & X..genomes & X..markers & X..marker.sets & Completeness & Contamination & Strain.heterogeneity & Genome.size..bp. & ⋯ & GC.std..scaffolds...1kbp. & Coding.density & Translation.table & X..predicted.genes & X0 & X1 & X2 & X3 & X4 & X5.\\\\\n",
       "\\hline\n",
       "\t F157a\\_European\\_Toad\\_\\_metabat2\\_high\\_PE.005.contigs                                                                                                                                                      & /ebio/abt3\\_projects/databases\\_no-backup/animal\\_gut\\_metagenomes/wOutVertebrata/MG\\_assembly\\_amp/LLMGA//drep/drep/dereplicated\\_genomes/F157a\\_European\\_Toad\\_\\_metabat2\\_high\\_PE.005.contigs.fa & k\\_\\_Bacteria (UID2982)                                                                                                                                                                                          &  88                                                                                                                                                                                                                & 229                                                                                                                                                                                                                & 147                                                                                                                                                                                                                & 89.32                                                                                                                                                                                                              & 2.30                                                                                                                                                                                                               & 60                                                                                                                                                                                                                 & 2029501                                                                                                                                                                                                            & ⋯                                                                                                                                                                                                                  & 2.30                                                                                                                                                                                                               & 91.53                                                                                                                                                                                                              & 11                                                                                                                                                                                                                 & 2036                                                                                                                                                                                                               & 18                                                                                                                                                                                                                 & 206                                                                                                                                                                                                                & 5                                                                                                                                                                                                                  & 0                                                                                                                                                                                                                  & 0                                                                                                                                                                                                                  & 0                                                                                                                                                                                                                 \\\\\n",
       "\t F157a\\_European\\_Toad\\_\\_metabat2\\_low\\_PE.002.contigs                                                                                                                                                       & /ebio/abt3\\_projects/databases\\_no-backup/animal\\_gut\\_metagenomes/wOutVertebrata/MG\\_assembly\\_amp/LLMGA//drep/drep/dereplicated\\_genomes/F157a\\_European\\_Toad\\_\\_metabat2\\_low\\_PE.002.contigs.fa  & k\\_\\_Bacteria (UID2372)                                                                                                                                                                                          & 131                                                                                                                                                                                                                & 177                                                                                                                                                                                                                & 106                                                                                                                                                                                                                & 92.83                                                                                                                                                                                                              & 0.00                                                                                                                                                                                                               &  0                                                                                                                                                                                                                 & 2228745                                                                                                                                                                                                            & ⋯                                                                                                                                                                                                                  & 1.63                                                                                                                                                                                                               & 90.02                                                                                                                                                                                                              & 11                                                                                                                                                                                                                 & 2373                                                                                                                                                                                                               & 10                                                                                                                                                                                                                 & 167                                                                                                                                                                                                                & 0                                                                                                                                                                                                                  & 0                                                                                                                                                                                                                  & 0                                                                                                                                                                                                                  & 0                                                                                                                                                                                                                 \\\\\n",
       "\t F157b\\_European\\_Toad\\_\\_metabat2\\_low\\_PE.001.contigs                                                                                                                                                       & /ebio/abt3\\_projects/databases\\_no-backup/animal\\_gut\\_metagenomes/wOutVertebrata/MG\\_assembly\\_amp/LLMGA//drep/drep/dereplicated\\_genomes/F157b\\_European\\_Toad\\_\\_metabat2\\_low\\_PE.001.contigs.fa  & o\\_\\_Clostridiales (UID1120)                                                                                                                                                                                     & 304                                                                                                                                                                                                                & 250                                                                                                                                                                                                                & 143                                                                                                                                                                                                                & 84.50                                                                                                                                                                                                              & 1.05                                                                                                                                                                                                               &  0                                                                                                                                                                                                                 & 1649689                                                                                                                                                                                                            & ⋯                                                                                                                                                                                                                  & 2.06                                                                                                                                                                                                               & 89.63                                                                                                                                                                                                              & 11                                                                                                                                                                                                                 & 1797                                                                                                                                                                                                               & 29                                                                                                                                                                                                                 & 219                                                                                                                                                                                                                & 2                                                                                                                                                                                                                  & 0                                                                                                                                                                                                                  & 0                                                                                                                                                                                                                  & 0                                                                                                                                                                                                                 \\\\\n",
       "\\end{tabular}\n"
      ],
      "text/markdown": [
       "\n",
       "binID | fasta | Marker.lineage | X..genomes | X..markers | X..marker.sets | Completeness | Contamination | Strain.heterogeneity | Genome.size..bp. | ⋯ | GC.std..scaffolds...1kbp. | Coding.density | Translation.table | X..predicted.genes | X0 | X1 | X2 | X3 | X4 | X5. | \n",
       "|---|---|---|\n",
       "| F157a_European_Toad__metabat2_high_PE.005.contigs                                                                                                                                        | /ebio/abt3_projects/databases_no-backup/animal_gut_metagenomes/wOutVertebrata/MG_assembly_amp/LLMGA//drep/drep/dereplicated_genomes/F157a_European_Toad__metabat2_high_PE.005.contigs.fa | k__Bacteria (UID2982)                                                                                                                                                                    |  88                                                                                                                                                                                      | 229                                                                                                                                                                                      | 147                                                                                                                                                                                      | 89.32                                                                                                                                                                                    | 2.30                                                                                                                                                                                     | 60                                                                                                                                                                                       | 2029501                                                                                                                                                                                  | ⋯                                                                                                                                                                                        | 2.30                                                                                                                                                                                     | 91.53                                                                                                                                                                                    | 11                                                                                                                                                                                       | 2036                                                                                                                                                                                     | 18                                                                                                                                                                                       | 206                                                                                                                                                                                      | 5                                                                                                                                                                                        | 0                                                                                                                                                                                        | 0                                                                                                                                                                                        | 0                                                                                                                                                                                        | \n",
       "| F157a_European_Toad__metabat2_low_PE.002.contigs                                                                                                                                         | /ebio/abt3_projects/databases_no-backup/animal_gut_metagenomes/wOutVertebrata/MG_assembly_amp/LLMGA//drep/drep/dereplicated_genomes/F157a_European_Toad__metabat2_low_PE.002.contigs.fa  | k__Bacteria (UID2372)                                                                                                                                                                    | 131                                                                                                                                                                                      | 177                                                                                                                                                                                      | 106                                                                                                                                                                                      | 92.83                                                                                                                                                                                    | 0.00                                                                                                                                                                                     |  0                                                                                                                                                                                       | 2228745                                                                                                                                                                                  | ⋯                                                                                                                                                                                        | 1.63                                                                                                                                                                                     | 90.02                                                                                                                                                                                    | 11                                                                                                                                                                                       | 2373                                                                                                                                                                                     | 10                                                                                                                                                                                       | 167                                                                                                                                                                                      | 0                                                                                                                                                                                        | 0                                                                                                                                                                                        | 0                                                                                                                                                                                        | 0                                                                                                                                                                                        | \n",
       "| F157b_European_Toad__metabat2_low_PE.001.contigs                                                                                                                                         | /ebio/abt3_projects/databases_no-backup/animal_gut_metagenomes/wOutVertebrata/MG_assembly_amp/LLMGA//drep/drep/dereplicated_genomes/F157b_European_Toad__metabat2_low_PE.001.contigs.fa  | o__Clostridiales (UID1120)                                                                                                                                                               | 304                                                                                                                                                                                      | 250                                                                                                                                                                                      | 143                                                                                                                                                                                      | 84.50                                                                                                                                                                                    | 1.05                                                                                                                                                                                     |  0                                                                                                                                                                                       | 1649689                                                                                                                                                                                  | ⋯                                                                                                                                                                                        | 2.06                                                                                                                                                                                     | 89.63                                                                                                                                                                                    | 11                                                                                                                                                                                       | 1797                                                                                                                                                                                     | 29                                                                                                                                                                                       | 219                                                                                                                                                                                      | 2                                                                                                                                                                                        | 0                                                                                                                                                                                        | 0                                                                                                                                                                                        | 0                                                                                                                                                                                        | \n",
       "\n",
       "\n"
      ],
      "text/plain": [
       "  binID                                            \n",
       "1 F157a_European_Toad__metabat2_high_PE.005.contigs\n",
       "2 F157a_European_Toad__metabat2_low_PE.002.contigs \n",
       "3 F157b_European_Toad__metabat2_low_PE.001.contigs \n",
       "  fasta                                                                                                                                                                                   \n",
       "1 /ebio/abt3_projects/databases_no-backup/animal_gut_metagenomes/wOutVertebrata/MG_assembly_amp/LLMGA//drep/drep/dereplicated_genomes/F157a_European_Toad__metabat2_high_PE.005.contigs.fa\n",
       "2 /ebio/abt3_projects/databases_no-backup/animal_gut_metagenomes/wOutVertebrata/MG_assembly_amp/LLMGA//drep/drep/dereplicated_genomes/F157a_European_Toad__metabat2_low_PE.002.contigs.fa \n",
       "3 /ebio/abt3_projects/databases_no-backup/animal_gut_metagenomes/wOutVertebrata/MG_assembly_amp/LLMGA//drep/drep/dereplicated_genomes/F157b_European_Toad__metabat2_low_PE.001.contigs.fa \n",
       "  Marker.lineage             X..genomes X..markers X..marker.sets Completeness\n",
       "1 k__Bacteria (UID2982)       88        229        147            89.32       \n",
       "2 k__Bacteria (UID2372)      131        177        106            92.83       \n",
       "3 o__Clostridiales (UID1120) 304        250        143            84.50       \n",
       "  Contamination Strain.heterogeneity Genome.size..bp. ⋯\n",
       "1 2.30          60                   2029501          ⋯\n",
       "2 0.00           0                   2228745          ⋯\n",
       "3 1.05           0                   1649689          ⋯\n",
       "  GC.std..scaffolds...1kbp. Coding.density Translation.table X..predicted.genes\n",
       "1 2.30                      91.53          11                2036              \n",
       "2 1.63                      90.02          11                2373              \n",
       "3 2.06                      89.63          11                1797              \n",
       "  X0 X1  X2 X3 X4 X5.\n",
       "1 18 206 5  0  0  0  \n",
       "2 10 167 0  0  0  0  \n",
       "3 29 219 2  0  0  0  "
      ]
     },
     "metadata": {},
     "output_type": "display_data"
    }
   ],
   "source": [
    "# checkm info\n",
    "markers_sum = read.delim(checkm_markers_file, sep='\\t')\n",
    "markers_sum %>% nrow %>% print\n",
    "\n",
    "drep_j = drep %>%\n",
    "    inner_join(markers_sum, c('binID'='Bin.Id')) \n",
    "\n",
    "drep_j %>% dfhead"
   ]
  },
  {
   "cell_type": "code",
   "execution_count": 17,
   "metadata": {
    "ExecuteTime": {
     "end_time": "2019-09-26T11:54:36.131877Z",
     "start_time": "2019-09-26T11:54:36.024Z"
    }
   },
   "outputs": [
    {
     "name": "stdout",
     "output_type": "stream",
     "text": [
      "[1] 6\n"
     ]
    },
    {
     "name": "stderr",
     "output_type": "stream",
     "text": [
      "Warning message:\n",
      "“Column `binID`/`user_genome` joining character vector and factor, coercing into character vector”"
     ]
    },
    {
     "name": "stdout",
     "output_type": "stream",
     "text": [
      "[1]  5 53\n"
     ]
    },
    {
     "data": {
      "text/html": [
       "<table>\n",
       "<thead><tr><th scope=col>binID</th><th scope=col>fasta</th><th scope=col>Marker.lineage</th><th scope=col>X..genomes</th><th scope=col>X..markers</th><th scope=col>X..marker.sets</th><th scope=col>Completeness</th><th scope=col>Contamination</th><th scope=col>Strain.heterogeneity</th><th scope=col>Genome.size..bp.</th><th scope=col>⋯</th><th scope=col>closest_placement_taxonomy</th><th scope=col>closest_placement_ani</th><th scope=col>closest_placement_af</th><th scope=col>pplacer_taxonomy</th><th scope=col>classification_method</th><th scope=col>note</th><th scope=col>aa_percent</th><th scope=col>translation_table</th><th scope=col>red_value</th><th scope=col>warnings</th></tr></thead>\n",
       "<tbody>\n",
       "\t<tr><td>F157a_European_Toad__metabat2_high_PE.005.contigs                                                                                                                                       </td><td>/ebio/abt3_projects/databases_no-backup/animal_gut_metagenomes/wOutVertebrata/MG_assembly_amp/LLMGA//drep/drep/dereplicated_genomes/F157a_European_Toad__metabat2_high_PE.005.contigs.fa</td><td>k__Bacteria (UID2982)                                                                                                                                                                   </td><td> 88                                                                                                                                                                                     </td><td>229                                                                                                                                                                                     </td><td>147                                                                                                                                                                                     </td><td>89.32                                                                                                                                                                                   </td><td>2.30                                                                                                                                                                                    </td><td>60                                                                                                                                                                                      </td><td>2029501                                                                                                                                                                                 </td><td>⋯                                                                                                                                                                                       </td><td>N/A                                                                                                                                                                                     </td><td>N/A                                                                                                                                                                                     </td><td>N/A                                                                                                                                                                                     </td><td>d__Bacteria;p__Verrucomicrobiota;c__Verrucomicrobiae;o__Verrucomicrobiales;f__Akkermansiaceae;g__Akkermansia;s__                                                                        </td><td>Placement                                                                                                                                                                               </td><td>taxonomic classification fully defined by topology                                                                                                                                      </td><td>82.70                                                                                                                                                                                   </td><td>11                                                                                                                                                                                      </td><td>0.9013818                                                                                                                                                                               </td><td>N/A                                                                                                                                                                                     </td></tr>\n",
       "\t<tr><td>F157a_European_Toad__metabat2_low_PE.002.contigs                                                                                                                                        </td><td>/ebio/abt3_projects/databases_no-backup/animal_gut_metagenomes/wOutVertebrata/MG_assembly_amp/LLMGA//drep/drep/dereplicated_genomes/F157a_European_Toad__metabat2_low_PE.002.contigs.fa </td><td>k__Bacteria (UID2372)                                                                                                                                                                   </td><td>131                                                                                                                                                                                     </td><td>177                                                                                                                                                                                     </td><td>106                                                                                                                                                                                     </td><td>92.83                                                                                                                                                                                   </td><td>0.00                                                                                                                                                                                    </td><td> 0                                                                                                                                                                                      </td><td>2228745                                                                                                                                                                                 </td><td>⋯                                                                                                                                                                                       </td><td>N/A                                                                                                                                                                                     </td><td>N/A                                                                                                                                                                                     </td><td>N/A                                                                                                                                                                                     </td><td>d__Bacteria;p__Firmicutes;c__Bacilli;o__Erysipelotrichales;f__Erysipelotrichaceae;g__;s__                                                                                               </td><td>Placement                                                                                                                                                                               </td><td>taxonomic novelty determined using RED                                                                                                                                                  </td><td>87.22                                                                                                                                                                                   </td><td>11                                                                                                                                                                                      </td><td>0.8915733                                                                                                                                                                               </td><td>N/A                                                                                                                                                                                     </td></tr>\n",
       "\t<tr><td>F157b_European_Toad__metabat2_low_PE.001.contigs                                                                                                                                        </td><td>/ebio/abt3_projects/databases_no-backup/animal_gut_metagenomes/wOutVertebrata/MG_assembly_amp/LLMGA//drep/drep/dereplicated_genomes/F157b_European_Toad__metabat2_low_PE.001.contigs.fa </td><td>o__Clostridiales (UID1120)                                                                                                                                                              </td><td>304                                                                                                                                                                                     </td><td>250                                                                                                                                                                                     </td><td>143                                                                                                                                                                                     </td><td>84.50                                                                                                                                                                                   </td><td>1.05                                                                                                                                                                                    </td><td> 0                                                                                                                                                                                      </td><td>1649689                                                                                                                                                                                 </td><td>⋯                                                                                                                                                                                       </td><td>N/A                                                                                                                                                                                     </td><td>N/A                                                                                                                                                                                     </td><td>N/A                                                                                                                                                                                     </td><td>d__Bacteria;p__Firmicutes_A;c__Clostridia;o__Peptostreptococcales;f__Peptostreptococcaceae;g__;s__                                                                                      </td><td>Placement                                                                                                                                                                               </td><td>taxonomic novelty determined using RED                                                                                                                                                  </td><td>90.50                                                                                                                                                                                   </td><td>11                                                                                                                                                                                      </td><td>0.9871723                                                                                                                                                                               </td><td>N/A                                                                                                                                                                                     </td></tr>\n",
       "</tbody>\n",
       "</table>\n"
      ],
      "text/latex": [
       "\\begin{tabular}{r|lllllllllllllllllllllllllllllllllllllllllllllllllllll}\n",
       " binID & fasta & Marker.lineage & X..genomes & X..markers & X..marker.sets & Completeness & Contamination & Strain.heterogeneity & Genome.size..bp. & ⋯ & closest\\_placement\\_taxonomy & closest\\_placement\\_ani & closest\\_placement\\_af & pplacer\\_taxonomy & classification\\_method & note & aa\\_percent & translation\\_table & red\\_value & warnings\\\\\n",
       "\\hline\n",
       "\t F157a\\_European\\_Toad\\_\\_metabat2\\_high\\_PE.005.contigs                                                                                                                                                      & /ebio/abt3\\_projects/databases\\_no-backup/animal\\_gut\\_metagenomes/wOutVertebrata/MG\\_assembly\\_amp/LLMGA//drep/drep/dereplicated\\_genomes/F157a\\_European\\_Toad\\_\\_metabat2\\_high\\_PE.005.contigs.fa & k\\_\\_Bacteria (UID2982)                                                                                                                                                                                          &  88                                                                                                                                                                                                                & 229                                                                                                                                                                                                                & 147                                                                                                                                                                                                                & 89.32                                                                                                                                                                                                              & 2.30                                                                                                                                                                                                               & 60                                                                                                                                                                                                                 & 2029501                                                                                                                                                                                                            & ⋯                                                                                                                                                                                                                  & N/A                                                                                                                                                                                                                & N/A                                                                                                                                                                                                                & N/A                                                                                                                                                                                                                & d\\_\\_Bacteria;p\\_\\_Verrucomicrobiota;c\\_\\_Verrucomicrobiae;o\\_\\_Verrucomicrobiales;f\\_\\_Akkermansiaceae;g\\_\\_Akkermansia;s\\_\\_                                                                       & Placement                                                                                                                                                                                                          & taxonomic classification fully defined by topology                                                                                                                                                                 & 82.70                                                                                                                                                                                                              & 11                                                                                                                                                                                                                 & 0.9013818                                                                                                                                                                                                          & N/A                                                                                                                                                                                                               \\\\\n",
       "\t F157a\\_European\\_Toad\\_\\_metabat2\\_low\\_PE.002.contigs                                                                                                                                                       & /ebio/abt3\\_projects/databases\\_no-backup/animal\\_gut\\_metagenomes/wOutVertebrata/MG\\_assembly\\_amp/LLMGA//drep/drep/dereplicated\\_genomes/F157a\\_European\\_Toad\\_\\_metabat2\\_low\\_PE.002.contigs.fa  & k\\_\\_Bacteria (UID2372)                                                                                                                                                                                          & 131                                                                                                                                                                                                                & 177                                                                                                                                                                                                                & 106                                                                                                                                                                                                                & 92.83                                                                                                                                                                                                              & 0.00                                                                                                                                                                                                               &  0                                                                                                                                                                                                                 & 2228745                                                                                                                                                                                                            & ⋯                                                                                                                                                                                                                  & N/A                                                                                                                                                                                                                & N/A                                                                                                                                                                                                                & N/A                                                                                                                                                                                                                & d\\_\\_Bacteria;p\\_\\_Firmicutes;c\\_\\_Bacilli;o\\_\\_Erysipelotrichales;f\\_\\_Erysipelotrichaceae;g\\_\\_;s\\_\\_                                                                                              & Placement                                                                                                                                                                                                          & taxonomic novelty determined using RED                                                                                                                                                                             & 87.22                                                                                                                                                                                                              & 11                                                                                                                                                                                                                 & 0.8915733                                                                                                                                                                                                          & N/A                                                                                                                                                                                                               \\\\\n",
       "\t F157b\\_European\\_Toad\\_\\_metabat2\\_low\\_PE.001.contigs                                                                                                                                                       & /ebio/abt3\\_projects/databases\\_no-backup/animal\\_gut\\_metagenomes/wOutVertebrata/MG\\_assembly\\_amp/LLMGA//drep/drep/dereplicated\\_genomes/F157b\\_European\\_Toad\\_\\_metabat2\\_low\\_PE.001.contigs.fa  & o\\_\\_Clostridiales (UID1120)                                                                                                                                                                                     & 304                                                                                                                                                                                                                & 250                                                                                                                                                                                                                & 143                                                                                                                                                                                                                & 84.50                                                                                                                                                                                                              & 1.05                                                                                                                                                                                                               &  0                                                                                                                                                                                                                 & 1649689                                                                                                                                                                                                            & ⋯                                                                                                                                                                                                                  & N/A                                                                                                                                                                                                                & N/A                                                                                                                                                                                                                & N/A                                                                                                                                                                                                                & d\\_\\_Bacteria;p\\_\\_Firmicutes\\_A;c\\_\\_Clostridia;o\\_\\_Peptostreptococcales;f\\_\\_Peptostreptococcaceae;g\\_\\_;s\\_\\_                                                                                   & Placement                                                                                                                                                                                                          & taxonomic novelty determined using RED                                                                                                                                                                             & 90.50                                                                                                                                                                                                              & 11                                                                                                                                                                                                                 & 0.9871723                                                                                                                                                                                                          & N/A                                                                                                                                                                                                               \\\\\n",
       "\\end{tabular}\n"
      ],
      "text/markdown": [
       "\n",
       "binID | fasta | Marker.lineage | X..genomes | X..markers | X..marker.sets | Completeness | Contamination | Strain.heterogeneity | Genome.size..bp. | ⋯ | closest_placement_taxonomy | closest_placement_ani | closest_placement_af | pplacer_taxonomy | classification_method | note | aa_percent | translation_table | red_value | warnings | \n",
       "|---|---|---|\n",
       "| F157a_European_Toad__metabat2_high_PE.005.contigs                                                                                                                                        | /ebio/abt3_projects/databases_no-backup/animal_gut_metagenomes/wOutVertebrata/MG_assembly_amp/LLMGA//drep/drep/dereplicated_genomes/F157a_European_Toad__metabat2_high_PE.005.contigs.fa | k__Bacteria (UID2982)                                                                                                                                                                    |  88                                                                                                                                                                                      | 229                                                                                                                                                                                      | 147                                                                                                                                                                                      | 89.32                                                                                                                                                                                    | 2.30                                                                                                                                                                                     | 60                                                                                                                                                                                       | 2029501                                                                                                                                                                                  | ⋯                                                                                                                                                                                        | N/A                                                                                                                                                                                      | N/A                                                                                                                                                                                      | N/A                                                                                                                                                                                      | d__Bacteria;p__Verrucomicrobiota;c__Verrucomicrobiae;o__Verrucomicrobiales;f__Akkermansiaceae;g__Akkermansia;s__                                                                         | Placement                                                                                                                                                                                | taxonomic classification fully defined by topology                                                                                                                                       | 82.70                                                                                                                                                                                    | 11                                                                                                                                                                                       | 0.9013818                                                                                                                                                                                | N/A                                                                                                                                                                                      | \n",
       "| F157a_European_Toad__metabat2_low_PE.002.contigs                                                                                                                                         | /ebio/abt3_projects/databases_no-backup/animal_gut_metagenomes/wOutVertebrata/MG_assembly_amp/LLMGA//drep/drep/dereplicated_genomes/F157a_European_Toad__metabat2_low_PE.002.contigs.fa  | k__Bacteria (UID2372)                                                                                                                                                                    | 131                                                                                                                                                                                      | 177                                                                                                                                                                                      | 106                                                                                                                                                                                      | 92.83                                                                                                                                                                                    | 0.00                                                                                                                                                                                     |  0                                                                                                                                                                                       | 2228745                                                                                                                                                                                  | ⋯                                                                                                                                                                                        | N/A                                                                                                                                                                                      | N/A                                                                                                                                                                                      | N/A                                                                                                                                                                                      | d__Bacteria;p__Firmicutes;c__Bacilli;o__Erysipelotrichales;f__Erysipelotrichaceae;g__;s__                                                                                                | Placement                                                                                                                                                                                | taxonomic novelty determined using RED                                                                                                                                                   | 87.22                                                                                                                                                                                    | 11                                                                                                                                                                                       | 0.8915733                                                                                                                                                                                | N/A                                                                                                                                                                                      | \n",
       "| F157b_European_Toad__metabat2_low_PE.001.contigs                                                                                                                                         | /ebio/abt3_projects/databases_no-backup/animal_gut_metagenomes/wOutVertebrata/MG_assembly_amp/LLMGA//drep/drep/dereplicated_genomes/F157b_European_Toad__metabat2_low_PE.001.contigs.fa  | o__Clostridiales (UID1120)                                                                                                                                                               | 304                                                                                                                                                                                      | 250                                                                                                                                                                                      | 143                                                                                                                                                                                      | 84.50                                                                                                                                                                                    | 1.05                                                                                                                                                                                     |  0                                                                                                                                                                                       | 1649689                                                                                                                                                                                  | ⋯                                                                                                                                                                                        | N/A                                                                                                                                                                                      | N/A                                                                                                                                                                                      | N/A                                                                                                                                                                                      | d__Bacteria;p__Firmicutes_A;c__Clostridia;o__Peptostreptococcales;f__Peptostreptococcaceae;g__;s__                                                                                       | Placement                                                                                                                                                                                | taxonomic novelty determined using RED                                                                                                                                                   | 90.50                                                                                                                                                                                    | 11                                                                                                                                                                                       | 0.9871723                                                                                                                                                                                | N/A                                                                                                                                                                                      | \n",
       "\n",
       "\n"
      ],
      "text/plain": [
       "  binID                                            \n",
       "1 F157a_European_Toad__metabat2_high_PE.005.contigs\n",
       "2 F157a_European_Toad__metabat2_low_PE.002.contigs \n",
       "3 F157b_European_Toad__metabat2_low_PE.001.contigs \n",
       "  fasta                                                                                                                                                                                   \n",
       "1 /ebio/abt3_projects/databases_no-backup/animal_gut_metagenomes/wOutVertebrata/MG_assembly_amp/LLMGA//drep/drep/dereplicated_genomes/F157a_European_Toad__metabat2_high_PE.005.contigs.fa\n",
       "2 /ebio/abt3_projects/databases_no-backup/animal_gut_metagenomes/wOutVertebrata/MG_assembly_amp/LLMGA//drep/drep/dereplicated_genomes/F157a_European_Toad__metabat2_low_PE.002.contigs.fa \n",
       "3 /ebio/abt3_projects/databases_no-backup/animal_gut_metagenomes/wOutVertebrata/MG_assembly_amp/LLMGA//drep/drep/dereplicated_genomes/F157b_European_Toad__metabat2_low_PE.001.contigs.fa \n",
       "  Marker.lineage             X..genomes X..markers X..marker.sets Completeness\n",
       "1 k__Bacteria (UID2982)       88        229        147            89.32       \n",
       "2 k__Bacteria (UID2372)      131        177        106            92.83       \n",
       "3 o__Clostridiales (UID1120) 304        250        143            84.50       \n",
       "  Contamination Strain.heterogeneity Genome.size..bp. ⋯\n",
       "1 2.30          60                   2029501          ⋯\n",
       "2 0.00           0                   2228745          ⋯\n",
       "3 1.05           0                   1649689          ⋯\n",
       "  closest_placement_taxonomy closest_placement_ani closest_placement_af\n",
       "1 N/A                        N/A                   N/A                 \n",
       "2 N/A                        N/A                   N/A                 \n",
       "3 N/A                        N/A                   N/A                 \n",
       "  pplacer_taxonomy                                                                                                \n",
       "1 d__Bacteria;p__Verrucomicrobiota;c__Verrucomicrobiae;o__Verrucomicrobiales;f__Akkermansiaceae;g__Akkermansia;s__\n",
       "2 d__Bacteria;p__Firmicutes;c__Bacilli;o__Erysipelotrichales;f__Erysipelotrichaceae;g__;s__                       \n",
       "3 d__Bacteria;p__Firmicutes_A;c__Clostridia;o__Peptostreptococcales;f__Peptostreptococcaceae;g__;s__              \n",
       "  classification_method note                                              \n",
       "1 Placement             taxonomic classification fully defined by topology\n",
       "2 Placement             taxonomic novelty determined using RED            \n",
       "3 Placement             taxonomic novelty determined using RED            \n",
       "  aa_percent translation_table red_value warnings\n",
       "1 82.70      11                0.9013818 N/A     \n",
       "2 87.22      11                0.8915733 N/A     \n",
       "3 90.50      11                0.9871723 N/A     "
      ]
     },
     "metadata": {},
     "output_type": "display_data"
    }
   ],
   "source": [
    "# gtdb\n",
    "## bacteria\n",
    "X = read.delim(gtdbtk_bac_sum_file, sep='\\t') %>%\n",
    "    dplyr::select(-other_related_references.genome_id.species_name.radius.ANI.AF.) %>%\n",
    "    separate(classification, c('Domain', 'Phylum', 'Class', 'Order', 'Family', 'Genus', 'Species'), sep=';')\n",
    "X %>% nrow %>% print\n",
    "if(file.size(gtdbtk_arc_sum_file) > 0){\n",
    "    ## archaea\n",
    "    Y = read.delim(gtdbtk_arc_sum_file, sep='\\t') %>%\n",
    "        dplyr::select(-other_related_references.genome_id.species_name.radius.ANI.AF.) %>%\n",
    "        separate(classification, c('Domain', 'Phylum', 'Class', 'Order', 'Family', 'Genus', 'Species'), sep=';')\n",
    "    Y %>% nrow %>% print\n",
    "    X = rbind(X, Y)\n",
    "} \n",
    "\n",
    "## combined\n",
    "drep_j = drep_j %>%\n",
    "    left_join(X, c('binID'='user_genome'))\n",
    "\n",
    "## status\n",
    "X = Y = NULL\n",
    "drep_j %>% dfhead"
   ]
  },
  {
   "cell_type": "markdown",
   "metadata": {},
   "source": [
    "## No. of genomes"
   ]
  },
  {
   "cell_type": "code",
   "execution_count": 18,
   "metadata": {
    "ExecuteTime": {
     "end_time": "2019-09-26T11:54:40.659543Z",
     "start_time": "2019-09-26T11:54:40.622Z"
    }
   },
   "outputs": [
    {
     "name": "stdout",
     "output_type": "stream",
     "text": [
      "Number of binned genomes: 35"
     ]
    }
   ],
   "source": [
    "cat('Number of binned genomes:', bin$fasta %>% unique %>% length)"
   ]
  },
  {
   "cell_type": "code",
   "execution_count": 19,
   "metadata": {
    "ExecuteTime": {
     "end_time": "2019-09-26T11:54:41.089543Z",
     "start_time": "2019-09-26T11:54:41.061Z"
    }
   },
   "outputs": [
    {
     "name": "stdout",
     "output_type": "stream",
     "text": [
      "Number of DAS-Tool passed genomes: 6"
     ]
    }
   ],
   "source": [
    "cat('Number of DAS-Tool passed genomes:', dastool$binID %>% unique %>% length)"
   ]
  },
  {
   "cell_type": "code",
   "execution_count": 20,
   "metadata": {
    "ExecuteTime": {
     "end_time": "2019-09-26T11:54:41.309042Z",
     "start_time": "2019-09-26T11:54:41.276Z"
    }
   },
   "outputs": [
    {
     "name": "stdout",
     "output_type": "stream",
     "text": [
      "Number of 99% ANI de-rep genomes: 5"
     ]
    }
   ],
   "source": [
    "cat('Number of 99% ANI de-rep genomes:', drep_j$binID %>% unique %>% length)"
   ]
  },
  {
   "cell_type": "markdown",
   "metadata": {},
   "source": [
    "## CheckM"
   ]
  },
  {
   "cell_type": "code",
   "execution_count": 21,
   "metadata": {
    "ExecuteTime": {
     "end_time": "2019-09-26T11:54:48.215129Z",
     "start_time": "2019-09-26T11:54:44.709Z"
    }
   },
   "outputs": [
    {
     "data": {
      "image/png": "[encoded data removed]",
      "text/plain": [
       "plot without title"
      ]
     },
     "metadata": {},
     "output_type": "display_data"
    }
   ],
   "source": [
    "# checkm stats\n",
    "p = drep_j %>%\n",
    "    dplyr::select(binID, Completeness, Contamination) %>%\n",
    "    gather(Metric, Value, -binID) %>%\n",
    "    ggplot(aes(Value)) +\n",
    "    geom_histogram(bins=30) +\n",
    "    labs(y='No. of MAGs\\n(>=99% ANI derep.)') +\n",
    "    facet_grid(Metric ~ ., scales='free_y') +\n",
    "    theme_bw()\n",
    "\n",
    "dims(4,3)\n",
    "plot(p)"
   ]
  },
  {
   "cell_type": "markdown",
   "metadata": {},
   "source": [
    "### Taxonomy"
   ]
  },
  {
   "cell_type": "code",
   "execution_count": 22,
   "metadata": {
    "ExecuteTime": {
     "end_time": "2019-09-26T11:54:51.229539Z",
     "start_time": "2019-09-26T11:54:49.438Z"
    }
   },
   "outputs": [
    {
     "data": {
      "image/png": "[encoded data removed]",
      "text/plain": [
       "plot without title"
      ]
     },
     "metadata": {},
     "output_type": "display_data"
    }
   ],
   "source": [
    "# summarizing by taxonomy\n",
    "p = drep_j %>%\n",
    "    unite(Taxonomy, Phylum, Class, sep=';', remove=FALSE) %>%\n",
    "    group_by(Taxonomy, Phylum) %>%\n",
    "    summarize(n = n()) %>%\n",
    "    ungroup() %>%\n",
    "    ggplot(aes(Taxonomy, n, fill=Phylum)) +\n",
    "    geom_bar(stat='identity') +\n",
    "    coord_flip() +\n",
    "    labs(y='No. of MAGs\\n(>=99% ANI derep.)') +\n",
    "    theme_bw() \n",
    "\n",
    "dims(7,4)\n",
    "plot(p)"
   ]
  },
  {
   "cell_type": "markdown",
   "metadata": {},
   "source": [
    "### Taxonomic novelty"
   ]
  },
  {
   "cell_type": "code",
   "execution_count": 23,
   "metadata": {
    "ExecuteTime": {
     "end_time": "2019-09-26T11:54:54.817629Z",
     "start_time": "2019-09-26T11:54:52.974Z"
    }
   },
   "outputs": [
    {
     "data": {
      "image/png": "[encoded data removed]",
      "text/plain": [
       "plot without title"
      ]
     },
     "metadata": {},
     "output_type": "display_data"
    }
   ],
   "source": [
    "# no close ANI matches \n",
    "p = drep_j %>%\n",
    "    unite(Taxonomy, Phylum, Class, sep=';', remove=FALSE) %>%\n",
    "    mutate(closest_placement_ani = closest_placement_ani %>% as.character,\n",
    "           closest_placement_ani = ifelse(closest_placement_ani == 'N/A', \n",
    "                                          0, closest_placement_ani),\n",
    "           closest_placement_ani = ifelse(is.na(closest_placement_ani), \n",
    "                                          0, closest_placement_ani),\n",
    "           closest_placement_ani = closest_placement_ani %>% as.Num) %>%\n",
    "    mutate(has_species_placement = ifelse(closest_placement_ani >= 95,\n",
    "                                          'ANI >= 95%', 'No match')) %>%\n",
    "    ggplot(aes(Taxonomy, fill=Phylum)) +\n",
    "    geom_bar() +\n",
    "    facet_grid(. ~ has_species_placement) +\n",
    "    coord_flip() +\n",
    "    labs(y='Closest placement ANI') +\n",
    "    theme_bw() \n",
    "\n",
    "dims(7,4)\n",
    "plot(p)"
   ]
  },
  {
   "cell_type": "code",
   "execution_count": 24,
   "metadata": {
    "ExecuteTime": {
     "end_time": "2019-09-26T11:54:56.197866Z",
     "start_time": "2019-09-26T11:54:55.799Z"
    }
   },
   "outputs": [
    {
     "data": {
      "image/png": "[encoded data removed]",
      "text/plain": [
       "plot without title"
      ]
     },
     "metadata": {},
     "output_type": "display_data"
    }
   ],
   "source": [
    "p = drep_j %>%\n",
    "    filter(Genus == 'g__') %>%\n",
    "    unite(Taxonomy, Phylum, Class, Order, Family, sep='; ', remove=FALSE) %>%\n",
    "    mutate(Taxonomy = stringr::str_wrap(Taxonomy, 45),\n",
    "           Taxonomy = gsub(' ', '', Taxonomy)) %>%\n",
    "    group_by(Taxonomy, Phylum) %>%\n",
    "    summarize(n = n()) %>%\n",
    "    ungroup() %>%\n",
    "    ggplot(aes(Taxonomy, n, fill=Phylum)) +\n",
    "    geom_bar(stat='identity') +\n",
    "    coord_flip() +\n",
    "    labs(y='No. of MAGs lacking a\\ngenus-level classification') +\n",
    "    theme_bw() \n",
    "\n",
    "dims(8,4)\n",
    "plot(p)"
   ]
  },
  {
   "cell_type": "markdown",
   "metadata": {},
   "source": [
    "### Quality ~ Taxonomy"
   ]
  },
  {
   "cell_type": "code",
   "execution_count": 25,
   "metadata": {
    "ExecuteTime": {
     "end_time": "2019-09-26T11:55:01.355359Z",
     "start_time": "2019-09-26T11:54:59.573Z"
    }
   },
   "outputs": [
    {
     "data": {
      "image/png": "[encoded data removed]",
      "text/plain": [
       "plot without title"
      ]
     },
     "metadata": {},
     "output_type": "display_data"
    }
   ],
   "source": [
    "p = drep_j %>%\n",
    "    unite(Taxonomy, Phylum, Class, sep='; ', remove=FALSE) %>%\n",
    "    dplyr::select(Taxonomy, Phylum, Completeness, Contamination) %>%\n",
    "    gather(Metric, Value, -Taxonomy, -Phylum) %>%\n",
    "    ggplot(aes(Taxonomy, Value, color=Phylum)) +\n",
    "    geom_boxplot() +\n",
    "    facet_grid(. ~ Metric, scales='free_x') +\n",
    "    coord_flip() +\n",
    "    labs(y='CheckM quality') +\n",
    "    theme_bw() \n",
    "\n",
    "dims(7,4)\n",
    "plot(p)"
   ]
  },
  {
   "cell_type": "code",
   "execution_count": 26,
   "metadata": {
    "ExecuteTime": {
     "end_time": "2019-09-26T11:55:03.102997Z",
     "start_time": "2019-09-26T11:55:01.864Z"
    }
   },
   "outputs": [
    {
     "data": {
      "image/png": "[encoded data removed]",
      "text/plain": [
       "plot without title"
      ]
     },
     "metadata": {},
     "output_type": "display_data"
    }
   ],
   "source": [
    "# just unclassified at genus/species\n",
    "p = drep_j %>%\n",
    "    filter(Genus == 'g__' | Species == 's__') %>%\n",
    "    unite(Taxonomy, Phylum, Class, sep='; ', remove=FALSE) %>%\n",
    "    dplyr::select(Taxonomy, Phylum, Completeness, Contamination) %>%\n",
    "    gather(Metric, Value, -Taxonomy, -Phylum) %>%\n",
    "    ggplot(aes(Taxonomy, Value, color=Phylum)) +\n",
    "    geom_boxplot() +\n",
    "    facet_grid(. ~ Metric, scales='free_x') +\n",
    "    coord_flip() +\n",
    "    labs(y='CheckM quality') +\n",
    "    theme_bw() \n",
    "\n",
    "dims(7,4)\n",
    "plot(p)"
   ]
  },
  {
   "cell_type": "code",
   "execution_count": 27,
   "metadata": {
    "ExecuteTime": {
     "end_time": "2019-09-26T11:55:03.240116Z",
     "start_time": "2019-09-26T11:55:02.277Z"
    }
   },
   "outputs": [
    {
     "ename": "ERROR",
     "evalue": "Error: Faceting variables must have at least one value\n",
     "output_type": "error",
     "traceback": [
      "Error: Faceting variables must have at least one value\nTraceback:\n",
      "1. plot(p)",
      "2. plot.ggplot(p)",
      "3. ggplot_build(x)",
      "4. ggplot_build.ggplot(x)",
      "5. layout$setup(layer_data, plot$data, plot$plot_env)",
      "6. f(..., self = self)",
      "7. self$facet$compute_layout(data, self$facet_params)",
      "8. f(...)",
      "9. combine_vars(data, params$plot_env, cols, drop = params$drop)",
      "10. stop(\"Faceting variables must have at least one value\", call. = FALSE)"
     ]
    },
    {
     "data": {
      "image/png": "[encoded data removed]",
      "text/plain": [
       "plot without title"
      ]
     },
     "metadata": {},
     "output_type": "display_data"
    }
   ],
   "source": [
    "# just unclassified at genus\n",
    "p = drep_j %>%\n",
    "    filter(Genus == 'g__') %>%\n",
    "    unite(Taxonomy, Phylum, Class, sep='; ', remove=FALSE) %>%\n",
    "    dplyr::select(Taxonomy, Phylum, Completeness, Contamination) %>%\n",
    "    gather(Metric, Value, -Taxonomy, -Phylum) %>%\n",
    "    ggplot(aes(Taxonomy, Value, color=Phylum)) +\n",
    "    geom_boxplot() +\n",
    "    facet_grid(. ~ Metric, scales='free_x') +\n",
    "    coord_flip() +\n",
    "    labs(y='CheckM quality') +\n",
    "    theme_bw() \n",
    "\n",
    "dims(7,4)\n",
    "plot(p)"
   ]
  },
  {
   "cell_type": "markdown",
   "metadata": {},
   "source": [
    "# sessionInfo"
   ]
  },
  {
   "cell_type": "code",
   "execution_count": 28,
   "metadata": {
    "ExecuteTime": {
     "end_time": "2019-09-26T11:55:03.719062Z",
     "start_time": "2019-09-26T11:55:03.535Z"
    }
   },
   "outputs": [
    {
     "name": "stdout",
     "output_type": "stream",
     "text": [
      "LLMGA\n",
      "=====\n",
      "\n",
      "Ley Lab Metagenome Aseembly (LLMGA)\n",
      "\n",
      "* Version: 0.7.0\n",
      "* Authors:\n",
      "  * Nick Youngblut <nyoungb2@gmail.com>\n",
      "* Maintainers:\n",
      "  * Nick Youngblut <nyoungb2@gmail.com>\n",
      "\n",
      "--- conda envs ---\n",
      "==> /ebio/abt3_projects/Georg_animal_feces/bin/llmga//bin/envs/anvio.yaml <==\n",
      "channels:\n",
      "- conda-forge\n",
      "- bioconda\n",
      "dependencies:\n",
      "- pigz\n",
      "- bioconda::centrifuge\n",
      "- bioconda::anvio>=5.1.0\n",
      "==> /ebio/abt3_projects/Georg_animal_feces/bin/llmga//bin/envs/bbmap.yaml <==\n",
      "channels:\n",
      "- conda-forge\n",
      "- bioconda\n",
      "dependencies:\n",
      "- pigz\n",
      "- bioconda::bbmap=37.90\n",
      "==> /ebio/abt3_projects/Georg_animal_feces/bin/llmga//bin/envs/bowtie2.yaml <==\n",
      "channels:\n",
      "- conda-forge\n",
      "- bioconda\n",
      "dependencies:\n",
      "- pigz\n",
      "- bioconda::samtools\n",
      "- bioconda::bowtie2\n",
      "- bioconda::bedtools\n",
      "==> /ebio/abt3_projects/Georg_animal_feces/bin/llmga//bin/envs/checkm.yaml <==\n",
      "channels:\n",
      "- conda-forge\n",
      "- bioconda\n",
      "dependencies:\n",
      "- python=2\n",
      "- pigz\n",
      "- bioconda::prodigal\n",
      "- bioconda::pplacer\n",
      "- bioconda::checkm-genome\n",
      "\n",
      "==> /ebio/abt3_projects/Georg_animal_feces/bin/llmga//bin/envs/concoct.yaml <==\n",
      "channels:\n",
      "- conda-forge\n",
      "- bioconda\n",
      "dependencies:\n",
      "- pigz\n",
      "- bioconda::pysam=0.14.1\n",
      "- bioconda::concoct=0.4.0\n",
      "==> /ebio/abt3_projects/Georg_animal_feces/bin/llmga//bin/envs/coverage.yaml <==\n",
      "channels:\n",
      "- conda-forge\n",
      "- bioconda\n",
      "dependencies:\n",
      "- pigz\n",
      "- conda-forge::biopython\n",
      "- bioconda::samtools\n",
      "- bioconda::bbmap\n",
      "==> /ebio/abt3_projects/Georg_animal_feces/bin/llmga//bin/envs/das_tool.yaml <==\n",
      "channels:\n",
      "- conda-forge\n",
      "- bioconda\n",
      "- r\n",
      "dependencies:\n",
      "- pigz\n",
      "- bioconda::das_tool\n",
      "==> /ebio/abt3_projects/Georg_animal_feces/bin/llmga//bin/envs/drep.yaml <==\n",
      "channels:\n",
      "- conda-forge\n",
      "- bioconda\n",
      "dependencies:\n",
      "- pigz\n",
      "- bioconda::mash\n",
      "- bioconda::checkm-genome\n",
      "- bioconda::drep\n",
      "==> /ebio/abt3_projects/Georg_animal_feces/bin/llmga//bin/envs/fastani.yaml <==\n",
      "channels:\n",
      "- conda-forge\n",
      "- bioconda\n",
      "dependencies:\n",
      "- pigz\n",
      "- bioconda::fastani\n",
      "==> /ebio/abt3_projects/Georg_animal_feces/bin/llmga//bin/envs/fastqc.yaml <==\n",
      "channels:\n",
      "- conda-forge\n",
      "- bioconda\n",
      "dependencies:\n",
      "- bioconda::fastqc\n",
      "\n",
      "==> /ebio/abt3_projects/Georg_animal_feces/bin/llmga//bin/envs/gtdbtk.yaml <==\n",
      "channels:\n",
      "- conda-forge\n",
      "- bioconda\n",
      "dependencies:\n",
      "- pigz\n",
      "- bioconda::gtdbtk\n",
      "\n",
      "==> /ebio/abt3_projects/Georg_animal_feces/bin/llmga//bin/envs/hadley.yaml <==\n",
      "channels:\n",
      "- conda-forge\n",
      "dependencies:\n",
      "- conda-forge::r-ape\n",
      "- conda-forge::r-dplyr\n",
      "- conda-forge::r-tidyr\n",
      "- conda-forge::r-ggplot2\n",
      "\n",
      "==> /ebio/abt3_projects/Georg_animal_feces/bin/llmga//bin/envs/maxbin2.yaml <==\n",
      "channels:\n",
      "- conda-forge\n",
      "- bioconda\n",
      "dependencies:\n",
      "- pigz\n",
      "- bioconda::perl-lwp-simple\n",
      "- bioconda::maxbin2=2.2.4\n",
      "\n",
      "==> /ebio/abt3_projects/Georg_animal_feces/bin/llmga//bin/envs/megahit.yaml <==\n",
      "channels:\n",
      "- conda-forge\n",
      "- bioconda\n",
      "dependencies:\n",
      "- pigz\n",
      "- bioconda::megahit=1.1.3\n",
      "==> /ebio/abt3_projects/Georg_animal_feces/bin/llmga//bin/envs/metabat2.yaml <==\n",
      "channels:\n",
      "- BioBuilds\n",
      "- conda-forge\n",
      "- bioconda\n",
      "dependencies:\n",
      "- pigz\n",
      "- python=2.7\n",
      "- BioBuilds::boost>=1.55.0\n",
      "- scons>=2.1.0\n",
      "- zlib>=1.2.4\n",
      "- BioBuilds::binutils>=2.2.2\n",
      "\n",
      "==> /ebio/abt3_projects/Georg_animal_feces/bin/llmga//bin/envs/metacompass.yaml <==\n",
      "channels:\n",
      "- conda-forge\n",
      "- bioconda\n",
      "dependencies:\n",
      "- pigz=2.3.4\n",
      "- bioconda::seqtk\n",
      "- bioconda::bioawk\n",
      "- bioconda::blast=2.7.1\n",
      "- bioconda::meryl=2013\n",
      "- bioconda::samtools=1.8\n",
      "- bioconda::megahit=1.1.3\n",
      "- bioconda::spades=3.12.0\n",
      "- bioconda::pilon=1.22=1\n",
      "- bioconda::bowtie2=2.3.4.1\n",
      "==> /ebio/abt3_projects/Georg_animal_feces/bin/llmga//bin/envs/multiqc.yaml <==\n",
      "channels:\n",
      "- conda-forge\n",
      "- bioconda\n",
      "dependencies:\n",
      "- bioconda::multiqc\n",
      "\n",
      "==> /ebio/abt3_projects/Georg_animal_feces/bin/llmga//bin/envs/quast.yaml <==\n",
      "channels:\n",
      "- conda-forge\n",
      "- bioconda\n",
      "dependencies:\n",
      "- python=2.7\n",
      "- bioconda::quast\n",
      "\n",
      "==> /ebio/abt3_projects/Georg_animal_feces/bin/llmga//bin/envs/seqtk.yaml <==\n",
      "channels:\n",
      "- conda-forge\n",
      "- bioconda\n",
      "dependencies:\n",
      "- pigz\n",
      "- bioconda::seqtk\n",
      "\n",
      "==> /ebio/abt3_projects/Georg_animal_feces/bin/llmga//bin/envs/sourmash.yaml <==\n",
      "channels:\n",
      "- conda-forge\n",
      "- bioconda\n",
      "dependencies:\n",
      "- bioconda::sourmash\n",
      "\n",
      "==> /ebio/abt3_projects/Georg_animal_feces/bin/llmga//bin/envs/spades.yaml <==\n",
      "channels:\n",
      "- conda-forge\n",
      "- bioconda\n",
      "dependencies:\n",
      "- pigz\n",
      "- bioconda::spades=3.12.0\n",
      "==> /ebio/abt3_projects/Georg_animal_feces/bin/llmga//bin/envs/vamb.yaml <==\n",
      "channels:\n",
      "- conda-forge\n",
      "- bioconda\n",
      "- pytorch\n",
      "dependencies:\n",
      "- pip\n",
      "- pigz\n",
      "- python=3\n",
      "- cudatoolkit=9.0\n",
      "- pytorch::torchvision\n",
      "- pytorch::pytorch\n",
      "- pip:\n",
      "  - https://github.com/jakobnissen/vamb/archive/v2.0.1.zip\n",
      "==> /ebio/abt3_projects/Georg_animal_feces/bin/llmga//bin/envs/datatable.yaml <==\n",
      "channels:\n",
      "- conda-forge\n",
      "dependencies:\n",
      "- conda-forge::r-argparse\n",
      "- conda-forge::r-data.table\n",
      "\n",
      "==> /ebio/abt3_projects/Georg_animal_feces/bin/llmga//bin/envs/kraken2.yaml <==\n",
      "channels:\n",
      "- conda-forge\n",
      "- bioconda\n",
      "dependencies:\n",
      "- pigz\n",
      "- bioconda::kraken2\n",
      "\n",
      "==> /ebio/abt3_projects/Georg_animal_feces/bin/llmga//bin/envs/krakenuniq.yaml <==\n",
      "channels:\n",
      "- conda-forge\n",
      "- bioconda\n",
      "dependencies:\n",
      "- pigz\n",
      "- bioconda::krakenuniq"
     ]
    }
   ],
   "source": [
    "pipelineInfo(pipeline_dir)"
   ]
  },
  {
   "cell_type": "code",
   "execution_count": 29,
   "metadata": {
    "ExecuteTime": {
     "end_time": "2019-09-26T11:55:04.696978Z",
     "start_time": "2019-09-26T11:55:04.270Z"
    }
   },
   "outputs": [
    {
     "data": {
      "text/plain": [
       "R version 3.4.1 (2017-06-30)\n",
       "Platform: x86_64-pc-linux-gnu (64-bit)\n",
       "Running under: Ubuntu 18.04.3 LTS\n",
       "\n",
       "Matrix products: default\n",
       "BLAS: /ebio/abt3_projects/software/miniconda3_gt4.4/envs/py3_physeq/lib/R/lib/libRblas.so\n",
       "LAPACK: /ebio/abt3_projects/software/miniconda3_gt4.4/envs/py3_physeq/lib/R/lib/libRlapack.so\n",
       "\n",
       "locale:\n",
       "[1] en_US.UTF-8\n",
       "\n",
       "attached base packages:\n",
       "[1] stats     graphics  grDevices utils     datasets  methods   base     \n",
       "\n",
       "other attached packages:\n",
       "[1] bindrcpp_0.2.2 ggplot2_3.0.0  tidyr_0.8.1    dplyr_0.7.6   \n",
       "\n",
       "loaded via a namespace (and not attached):\n",
       " [1] Rcpp_0.12.17     pillar_1.2.2     compiler_3.4.1   plyr_1.8.4      \n",
       " [5] bindr_0.1.1      base64enc_0.1-3  tools_3.4.1      digest_0.6.15   \n",
       " [9] uuid_0.1-2       jsonlite_1.5     evaluate_0.10.1  tibble_1.4.2    \n",
       "[13] gtable_0.2.0     pkgconfig_2.0.1  rlang_0.2.1      IRdisplay_0.4.4 \n",
       "[17] IRkernel_0.8.12  repr_0.15.0      withr_2.1.1      stringr_1.3.1   \n",
       "[21] grid_3.4.1       tidyselect_0.2.4 glue_1.3.0       R6_2.2.2        \n",
       "[25] pbdZMQ_0.3-2     purrr_0.2.4      reshape2_1.4.3   magrittr_1.5    \n",
       "[29] scales_0.5.0     htmltools_0.3.6  assertthat_0.2.0 colorspace_1.3-2\n",
       "[33] labeling_0.3     stringi_1.2.3    lazyeval_0.2.1   munsell_0.5.0   \n",
       "[37] crayon_1.3.4    "
      ]
     },
     "metadata": {},
     "output_type": "display_data"
    }
   ],
   "source": [
    "sessionInfo()"
   ]
  },
  {
   "cell_type": "code",
   "execution_count": null,
   "metadata": {},
   "outputs": [],
   "source": []
  }
 ],
 "metadata": {
  "kernelspec": {
   "display_name": "R [conda env:py3_physeq]",
   "language": "R",
   "name": "conda-env-py3_physeq-r"
  },
  "language_info": {
   "codemirror_mode": "r",
   "file_extension": ".r",
   "mimetype": "text/x-r-source",
   "name": "R",
   "pygments_lexer": "r",
   "version": "3.4.1"
  },
  "notify_time": "30",
  "toc": {
   "base_numbering": 1,
   "nav_menu": {},
   "number_sections": true,
   "sideBar": true,
   "skip_h1_title": false,
   "title_cell": "Table of Contents",
   "title_sidebar": "Contents",
   "toc_cell": true,
   "toc_position": {
    "height": "calc(100% - 180px)",
    "left": "10px",
    "top": "150px",
    "width": "231px"
   },
   "toc_section_display": true,
   "toc_window_display": true
  }
 },
 "nbformat": 4,
 "nbformat_minor": 2
}
