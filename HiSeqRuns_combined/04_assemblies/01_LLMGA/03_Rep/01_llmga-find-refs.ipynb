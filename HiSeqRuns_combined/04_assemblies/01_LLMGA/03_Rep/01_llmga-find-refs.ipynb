{
 "cells": [
  {
   "cell_type": "markdown",
   "metadata": {
    "toc": true
   },
   "source": [
    "<h1>Table of Contents<span class=\"tocSkip\"></span></h1>\n",
    "<div class=\"toc\"><ul class=\"toc-item\"><li><span><a href=\"#Goal\" data-toc-modified-id=\"Goal-1\"><span class=\"toc-item-num\">1&nbsp;&nbsp;</span>Goal</a></span></li><li><span><a href=\"#Var\" data-toc-modified-id=\"Var-2\"><span class=\"toc-item-num\">2&nbsp;&nbsp;</span>Var</a></span></li><li><span><a href=\"#Init\" data-toc-modified-id=\"Init-3\"><span class=\"toc-item-num\">3&nbsp;&nbsp;</span>Init</a></span></li><li><span><a href=\"#Just-Reptilia\" data-toc-modified-id=\"Just-Reptilia-4\"><span class=\"toc-item-num\">4&nbsp;&nbsp;</span>Just Reptilia</a></span></li><li><span><a href=\"#llmga-find-refs\" data-toc-modified-id=\"llmga-find-refs-5\"><span class=\"toc-item-num\">5&nbsp;&nbsp;</span>llmga-find-refs</a></span><ul class=\"toc-item\"><li><span><a href=\"#Run\" data-toc-modified-id=\"Run-5.1\"><span class=\"toc-item-num\">5.1&nbsp;&nbsp;</span>Run</a></span></li></ul></li><li><span><a href=\"#--WAITING--\" data-toc-modified-id=\"--WAITING---6\"><span class=\"toc-item-num\">6&nbsp;&nbsp;</span>--WAITING--</a></span></li><li><span><a href=\"#Summary\" data-toc-modified-id=\"Summary-7\"><span class=\"toc-item-num\">7&nbsp;&nbsp;</span>Summary</a></span></li><li><span><a href=\"#sessionInfo\" data-toc-modified-id=\"sessionInfo-8\"><span class=\"toc-item-num\">8&nbsp;&nbsp;</span>sessionInfo</a></span></li></ul></div>"
   ]
  },
  {
   "cell_type": "markdown",
   "metadata": {},
   "source": [
    "# Goal\n",
    "\n",
    "* Running `LLMGA-find-refs` pipeline on all Reptilia samples"
   ]
  },
  {
   "cell_type": "markdown",
   "metadata": {},
   "source": [
    "# Var"
   ]
  },
  {
   "cell_type": "code",
   "execution_count": 10,
   "metadata": {
    "ExecuteTime": {
     "end_time": "2019-09-06T07:27:24.874902Z",
     "start_time": "2019-09-06T07:27:24.829Z"
    }
   },
   "outputs": [],
   "source": [
    "work_dir = '/ebio/abt3_projects/Georg_animal_feces/data/metagenome/HiSeqRuns126-133-0138/wOutVertebrata/MG_assembly_rep/LLMGA-find-refs/'\n",
    "\n",
    "base_dir = '/ebio/abt3_projects/Georg_animal_feces/data/metagenome/HiSeqRuns126-133-0138/wOutVertebrata/'\n",
    "bracken_taxIDs = file.path(base_dir, 'LLMGP_bracken_files.tsv')\n",
    "metadata_file = '/ebio/abt3_projects/Georg_animal_feces/data/mapping/unified_metadata_complete_190529.tsv'\n",
    "pipeline_dir = '/ebio/abt3_projects/Georg_animal_feces/bin/llmga-find-refs/'\n"
   ]
  },
  {
   "cell_type": "markdown",
   "metadata": {},
   "source": [
    "# Init"
   ]
  },
  {
   "cell_type": "code",
   "execution_count": 11,
   "metadata": {
    "ExecuteTime": {
     "end_time": "2019-09-06T07:27:26.565558Z",
     "start_time": "2019-09-06T07:27:26.524Z"
    }
   },
   "outputs": [],
   "source": [
    "library(dplyr)\n",
    "library(tidyr)\n",
    "library(ggplot2)\n",
    "source('/ebio/abt3_projects/Georg_animal_feces/code/misc_r_functions/init.R')"
   ]
  },
  {
   "cell_type": "code",
   "execution_count": 12,
   "metadata": {
    "ExecuteTime": {
     "end_time": "2019-09-06T07:27:26.678777Z",
     "start_time": "2019-09-06T07:27:26.653Z"
    }
   },
   "outputs": [
    {
     "name": "stdout",
     "output_type": "stream",
     "text": [
      "Directory already exists: /ebio/abt3_projects/Georg_animal_feces/data/metagenome/HiSeqRuns126-133-0138/wOutVertebrata/MG_assembly_rep/LLMGA-find-refs/ \n"
     ]
    }
   ],
   "source": [
    "make_dir(work_dir)"
   ]
  },
  {
   "cell_type": "markdown",
   "metadata": {},
   "source": [
    "# Just Reptilia "
   ]
  },
  {
   "cell_type": "code",
   "execution_count": 13,
   "metadata": {
    "ExecuteTime": {
     "end_time": "2019-09-06T07:27:27.006303Z",
     "start_time": "2019-09-06T07:27:26.892Z"
    }
   },
   "outputs": [
    {
     "name": "stdout",
     "output_type": "stream",
     "text": [
      "[1] 475   8\n"
     ]
    },
    {
     "data": {
      "text/html": [
       "<table>\n",
       "<thead><tr><th scope=col>SampleID</th><th scope=col>class</th><th scope=col>order</th><th scope=col>family</th><th scope=col>genus</th><th scope=col>scientific_name</th><th scope=col>diet</th><th scope=col>habitat</th></tr></thead>\n",
       "<tbody>\n",
       "\t<tr><td>F14_Common_Bream   </td><td>Actinopterygii     </td><td>Cypriniformes      </td><td>Cyprinidae         </td><td>Abramis            </td><td>Abramis_brama      </td><td>omnivore           </td><td>aquatic habitat    </td></tr>\n",
       "\t<tr><td>F35_Red_Deer       </td><td>Mammalia           </td><td>Artiodactyla       </td><td>Cervidae           </td><td>Cervus             </td><td>Cervus_elaphus     </td><td>herbivore          </td><td>terrestrial habitat</td></tr>\n",
       "\t<tr><td>F36_Red_Deer       </td><td>Mammalia           </td><td>Artiodactyla       </td><td>Cervidae           </td><td>Cervus             </td><td>Cervus_elaphus     </td><td>herbivore          </td><td>terrestrial habitat</td></tr>\n",
       "</tbody>\n",
       "</table>\n"
      ],
      "text/latex": [
       "\\begin{tabular}{r|llllllll}\n",
       " SampleID & class & order & family & genus & scientific\\_name & diet & habitat\\\\\n",
       "\\hline\n",
       "\t F14\\_Common\\_Bream & Actinopterygii       & Cypriniformes        & Cyprinidae           & Abramis              & Abramis\\_brama      & omnivore             & aquatic habitat     \\\\\n",
       "\t F35\\_Red\\_Deer     & Mammalia             & Artiodactyla         & Cervidae             & Cervus               & Cervus\\_elaphus     & herbivore            & terrestrial habitat \\\\\n",
       "\t F36\\_Red\\_Deer     & Mammalia             & Artiodactyla         & Cervidae             & Cervus               & Cervus\\_elaphus     & herbivore            & terrestrial habitat \\\\\n",
       "\\end{tabular}\n"
      ],
      "text/markdown": [
       "\n",
       "SampleID | class | order | family | genus | scientific_name | diet | habitat | \n",
       "|---|---|---|\n",
       "| F14_Common_Bream    | Actinopterygii      | Cypriniformes       | Cyprinidae          | Abramis             | Abramis_brama       | omnivore            | aquatic habitat     | \n",
       "| F35_Red_Deer        | Mammalia            | Artiodactyla        | Cervidae            | Cervus              | Cervus_elaphus      | herbivore           | terrestrial habitat | \n",
       "| F36_Red_Deer        | Mammalia            | Artiodactyla        | Cervidae            | Cervus              | Cervus_elaphus      | herbivore           | terrestrial habitat | \n",
       "\n",
       "\n"
      ],
      "text/plain": [
       "  SampleID         class          order         family     genus  \n",
       "1 F14_Common_Bream Actinopterygii Cypriniformes Cyprinidae Abramis\n",
       "2 F35_Red_Deer     Mammalia       Artiodactyla  Cervidae   Cervus \n",
       "3 F36_Red_Deer     Mammalia       Artiodactyla  Cervidae   Cervus \n",
       "  scientific_name diet      habitat            \n",
       "1 Abramis_brama   omnivore  aquatic habitat    \n",
       "2 Cervus_elaphus  herbivore terrestrial habitat\n",
       "3 Cervus_elaphus  herbivore terrestrial habitat"
      ]
     },
     "metadata": {},
     "output_type": "display_data"
    }
   ],
   "source": [
    "meta = read.delim(metadata_file, sep='\\t') %>%\n",
    "    dplyr::select(SampleID, class, order, family, genus, scientific_name, diet, habitat)\n",
    "meta %>% dfhead"
   ]
  },
  {
   "cell_type": "code",
   "execution_count": 14,
   "metadata": {
    "ExecuteTime": {
     "end_time": "2019-09-06T07:27:27.070201Z",
     "start_time": "2019-09-06T07:27:27.013Z"
    }
   },
   "outputs": [
    {
     "name": "stdout",
     "output_type": "stream",
     "text": [
      "[1] 291   2\n"
     ]
    },
    {
     "data": {
      "text/html": [
       "<table>\n",
       "<thead><tr><th scope=col>Sample</th><th scope=col>TaxIDs</th></tr></thead>\n",
       "<tbody>\n",
       "\t<tr><td>X101_Horse                                                                                                                                       </td><td>/ebio/abt3_projects/Georg_animal_feces/data/metagenome/HiSeqRuns126-133-0138/wOutVertebrata/LLMGP_sub5k/kraken/X101_Horse_bracken.tsv            </td></tr>\n",
       "\t<tr><td>X102_Kulan                                                                                                                                       </td><td>/ebio/abt3_projects/Georg_animal_feces/data/metagenome/HiSeqRuns126-133-0138/wOutVertebrata/LLMGP_sub5k/kraken/X102_Kulan_bracken.tsv            </td></tr>\n",
       "\t<tr><td>X103_Eurasian_Blackcap                                                                                                                           </td><td>/ebio/abt3_projects/Georg_animal_feces/data/metagenome/HiSeqRuns126-133-0138/wOutVertebrata/LLMGP_sub5k/kraken/X103_Eurasian_Blackcap_bracken.tsv</td></tr>\n",
       "</tbody>\n",
       "</table>\n"
      ],
      "text/latex": [
       "\\begin{tabular}{r|ll}\n",
       " Sample & TaxIDs\\\\\n",
       "\\hline\n",
       "\t X101\\_Horse                                                                                                                                                  & /ebio/abt3\\_projects/Georg\\_animal\\_feces/data/metagenome/HiSeqRuns126-133-0138/wOutVertebrata/LLMGP\\_sub5k/kraken/X101\\_Horse\\_bracken.tsv            \\\\\n",
       "\t X102\\_Kulan                                                                                                                                                  & /ebio/abt3\\_projects/Georg\\_animal\\_feces/data/metagenome/HiSeqRuns126-133-0138/wOutVertebrata/LLMGP\\_sub5k/kraken/X102\\_Kulan\\_bracken.tsv            \\\\\n",
       "\t X103\\_Eurasian\\_Blackcap                                                                                                                                      & /ebio/abt3\\_projects/Georg\\_animal\\_feces/data/metagenome/HiSeqRuns126-133-0138/wOutVertebrata/LLMGP\\_sub5k/kraken/X103\\_Eurasian\\_Blackcap\\_bracken.tsv\\\\\n",
       "\\end{tabular}\n"
      ],
      "text/markdown": [
       "\n",
       "Sample | TaxIDs | \n",
       "|---|---|---|\n",
       "| X101_Horse                                                                                                                                        | /ebio/abt3_projects/Georg_animal_feces/data/metagenome/HiSeqRuns126-133-0138/wOutVertebrata/LLMGP_sub5k/kraken/X101_Horse_bracken.tsv             | \n",
       "| X102_Kulan                                                                                                                                        | /ebio/abt3_projects/Georg_animal_feces/data/metagenome/HiSeqRuns126-133-0138/wOutVertebrata/LLMGP_sub5k/kraken/X102_Kulan_bracken.tsv             | \n",
       "| X103_Eurasian_Blackcap                                                                                                                            | /ebio/abt3_projects/Georg_animal_feces/data/metagenome/HiSeqRuns126-133-0138/wOutVertebrata/LLMGP_sub5k/kraken/X103_Eurasian_Blackcap_bracken.tsv | \n",
       "\n",
       "\n"
      ],
      "text/plain": [
       "  Sample                \n",
       "1 X101_Horse            \n",
       "2 X102_Kulan            \n",
       "3 X103_Eurasian_Blackcap\n",
       "  TaxIDs                                                                                                                                           \n",
       "1 /ebio/abt3_projects/Georg_animal_feces/data/metagenome/HiSeqRuns126-133-0138/wOutVertebrata/LLMGP_sub5k/kraken/X101_Horse_bracken.tsv            \n",
       "2 /ebio/abt3_projects/Georg_animal_feces/data/metagenome/HiSeqRuns126-133-0138/wOutVertebrata/LLMGP_sub5k/kraken/X102_Kulan_bracken.tsv            \n",
       "3 /ebio/abt3_projects/Georg_animal_feces/data/metagenome/HiSeqRuns126-133-0138/wOutVertebrata/LLMGP_sub5k/kraken/X103_Eurasian_Blackcap_bracken.tsv"
      ]
     },
     "metadata": {},
     "output_type": "display_data"
    }
   ],
   "source": [
    "taxIDs = read.delim(bracken_taxIDs, sep='\\t') %>%\n",
    "    mutate(Sample = gsub('^XF', 'F', Sample))\n",
    "taxIDs %>% dfhead"
   ]
  },
  {
   "cell_type": "code",
   "execution_count": 15,
   "metadata": {
    "ExecuteTime": {
     "end_time": "2019-09-06T07:27:27.374940Z",
     "start_time": "2019-09-06T07:27:27.244Z"
    }
   },
   "outputs": [
    {
     "name": "stderr",
     "output_type": "stream",
     "text": [
      "Warning message:\n",
      "“Column `Sample`/`SampleID` joining character vector and factor, coercing into character vector”"
     ]
    },
    {
     "name": "stdout",
     "output_type": "stream",
     "text": [
      "[1] 290   9\n"
     ]
    },
    {
     "data": {
      "text/html": [
       "<table>\n",
       "<thead><tr><th scope=col>Sample</th><th scope=col>TaxIDs</th><th scope=col>class</th><th scope=col>order</th><th scope=col>family</th><th scope=col>genus</th><th scope=col>scientific_name</th><th scope=col>diet</th><th scope=col>habitat</th></tr></thead>\n",
       "<tbody>\n",
       "\t<tr><td>X101_Horse                                                                                                                                       </td><td>/ebio/abt3_projects/Georg_animal_feces/data/metagenome/HiSeqRuns126-133-0138/wOutVertebrata/LLMGP_sub5k/kraken/X101_Horse_bracken.tsv            </td><td>Mammalia                                                                                                                                         </td><td>Perissodactyla                                                                                                                                   </td><td>Equidae                                                                                                                                          </td><td>Equus                                                                                                                                            </td><td>Equus_caballus                                                                                                                                   </td><td>herbivore                                                                                                                                        </td><td>terrestrial habitat                                                                                                                              </td></tr>\n",
       "\t<tr><td>X102_Kulan                                                                                                                                       </td><td>/ebio/abt3_projects/Georg_animal_feces/data/metagenome/HiSeqRuns126-133-0138/wOutVertebrata/LLMGP_sub5k/kraken/X102_Kulan_bracken.tsv            </td><td>Mammalia                                                                                                                                         </td><td>Perissodactyla                                                                                                                                   </td><td>Equidae                                                                                                                                          </td><td>Equus                                                                                                                                            </td><td>Equus_hemionus                                                                                                                                   </td><td>herbivore                                                                                                                                        </td><td>terrestrial habitat                                                                                                                              </td></tr>\n",
       "\t<tr><td>X103_Eurasian_Blackcap                                                                                                                           </td><td>/ebio/abt3_projects/Georg_animal_feces/data/metagenome/HiSeqRuns126-133-0138/wOutVertebrata/LLMGP_sub5k/kraken/X103_Eurasian_Blackcap_bracken.tsv</td><td>Aves                                                                                                                                             </td><td>Passeriformes                                                                                                                                    </td><td>Sylviidae                                                                                                                                        </td><td>Sylvia                                                                                                                                           </td><td>Sylvia_atricapilla                                                                                                                               </td><td>omnivore                                                                                                                                         </td><td>terrestrial habitat                                                                                                                              </td></tr>\n",
       "</tbody>\n",
       "</table>\n"
      ],
      "text/latex": [
       "\\begin{tabular}{r|lllllllll}\n",
       " Sample & TaxIDs & class & order & family & genus & scientific\\_name & diet & habitat\\\\\n",
       "\\hline\n",
       "\t X101\\_Horse                                                                                                                                                  & /ebio/abt3\\_projects/Georg\\_animal\\_feces/data/metagenome/HiSeqRuns126-133-0138/wOutVertebrata/LLMGP\\_sub5k/kraken/X101\\_Horse\\_bracken.tsv             & Mammalia                                                                                                                                                      & Perissodactyla                                                                                                                                                & Equidae                                                                                                                                                       & Equus                                                                                                                                                         & Equus\\_caballus                                                                                                                                              & herbivore                                                                                                                                                     & terrestrial habitat                                                                                                                                          \\\\\n",
       "\t X102\\_Kulan                                                                                                                                                  & /ebio/abt3\\_projects/Georg\\_animal\\_feces/data/metagenome/HiSeqRuns126-133-0138/wOutVertebrata/LLMGP\\_sub5k/kraken/X102\\_Kulan\\_bracken.tsv             & Mammalia                                                                                                                                                      & Perissodactyla                                                                                                                                                & Equidae                                                                                                                                                       & Equus                                                                                                                                                         & Equus\\_hemionus                                                                                                                                              & herbivore                                                                                                                                                     & terrestrial habitat                                                                                                                                          \\\\\n",
       "\t X103\\_Eurasian\\_Blackcap                                                                                                                                      & /ebio/abt3\\_projects/Georg\\_animal\\_feces/data/metagenome/HiSeqRuns126-133-0138/wOutVertebrata/LLMGP\\_sub5k/kraken/X103\\_Eurasian\\_Blackcap\\_bracken.tsv & Aves                                                                                                                                                            & Passeriformes                                                                                                                                                   & Sylviidae                                                                                                                                                       & Sylvia                                                                                                                                                          & Sylvia\\_atricapilla                                                                                                                                            & omnivore                                                                                                                                                        & terrestrial habitat                                                                                                                                            \\\\\n",
       "\\end{tabular}\n"
      ],
      "text/markdown": [
       "\n",
       "Sample | TaxIDs | class | order | family | genus | scientific_name | diet | habitat | \n",
       "|---|---|---|\n",
       "| X101_Horse                                                                                                                                        | /ebio/abt3_projects/Georg_animal_feces/data/metagenome/HiSeqRuns126-133-0138/wOutVertebrata/LLMGP_sub5k/kraken/X101_Horse_bracken.tsv             | Mammalia                                                                                                                                          | Perissodactyla                                                                                                                                    | Equidae                                                                                                                                           | Equus                                                                                                                                             | Equus_caballus                                                                                                                                    | herbivore                                                                                                                                         | terrestrial habitat                                                                                                                               | \n",
       "| X102_Kulan                                                                                                                                        | /ebio/abt3_projects/Georg_animal_feces/data/metagenome/HiSeqRuns126-133-0138/wOutVertebrata/LLMGP_sub5k/kraken/X102_Kulan_bracken.tsv             | Mammalia                                                                                                                                          | Perissodactyla                                                                                                                                    | Equidae                                                                                                                                           | Equus                                                                                                                                             | Equus_hemionus                                                                                                                                    | herbivore                                                                                                                                         | terrestrial habitat                                                                                                                               | \n",
       "| X103_Eurasian_Blackcap                                                                                                                            | /ebio/abt3_projects/Georg_animal_feces/data/metagenome/HiSeqRuns126-133-0138/wOutVertebrata/LLMGP_sub5k/kraken/X103_Eurasian_Blackcap_bracken.tsv | Aves                                                                                                                                              | Passeriformes                                                                                                                                     | Sylviidae                                                                                                                                         | Sylvia                                                                                                                                            | Sylvia_atricapilla                                                                                                                                | omnivore                                                                                                                                          | terrestrial habitat                                                                                                                               | \n",
       "\n",
       "\n"
      ],
      "text/plain": [
       "  Sample                \n",
       "1 X101_Horse            \n",
       "2 X102_Kulan            \n",
       "3 X103_Eurasian_Blackcap\n",
       "  TaxIDs                                                                                                                                           \n",
       "1 /ebio/abt3_projects/Georg_animal_feces/data/metagenome/HiSeqRuns126-133-0138/wOutVertebrata/LLMGP_sub5k/kraken/X101_Horse_bracken.tsv            \n",
       "2 /ebio/abt3_projects/Georg_animal_feces/data/metagenome/HiSeqRuns126-133-0138/wOutVertebrata/LLMGP_sub5k/kraken/X102_Kulan_bracken.tsv            \n",
       "3 /ebio/abt3_projects/Georg_animal_feces/data/metagenome/HiSeqRuns126-133-0138/wOutVertebrata/LLMGP_sub5k/kraken/X103_Eurasian_Blackcap_bracken.tsv\n",
       "  class    order          family    genus  scientific_name    diet     \n",
       "1 Mammalia Perissodactyla Equidae   Equus  Equus_caballus     herbivore\n",
       "2 Mammalia Perissodactyla Equidae   Equus  Equus_hemionus     herbivore\n",
       "3 Aves     Passeriformes  Sylviidae Sylvia Sylvia_atricapilla omnivore \n",
       "  habitat            \n",
       "1 terrestrial habitat\n",
       "2 terrestrial habitat\n",
       "3 terrestrial habitat"
      ]
     },
     "metadata": {},
     "output_type": "display_data"
    }
   ],
   "source": [
    "# joining\n",
    "taxIDs = taxIDs %>%\n",
    "    inner_join(meta, c('Sample'='SampleID')) \n",
    "\n",
    "taxIDs %>% dfhead"
   ]
  },
  {
   "cell_type": "code",
   "execution_count": 16,
   "metadata": {
    "ExecuteTime": {
     "end_time": "2019-09-06T07:27:27.692094Z",
     "start_time": "2019-09-06T07:27:27.604Z"
    }
   },
   "outputs": [
    {
     "data": {
      "text/html": [
       "<table>\n",
       "<thead><tr><th scope=col>class</th><th scope=col>n</th></tr></thead>\n",
       "<tbody>\n",
       "\t<tr><td>Actinopterygii</td><td> 27           </td></tr>\n",
       "\t<tr><td>Amphibia      </td><td>  8           </td></tr>\n",
       "\t<tr><td>Aves          </td><td> 63           </td></tr>\n",
       "\t<tr><td>Mammalia      </td><td>179           </td></tr>\n",
       "\t<tr><td>Reptilia      </td><td> 13           </td></tr>\n",
       "</tbody>\n",
       "</table>\n"
      ],
      "text/latex": [
       "\\begin{tabular}{r|ll}\n",
       " class & n\\\\\n",
       "\\hline\n",
       "\t Actinopterygii &  27           \\\\\n",
       "\t Amphibia       &   8           \\\\\n",
       "\t Aves           &  63           \\\\\n",
       "\t Mammalia       & 179           \\\\\n",
       "\t Reptilia       &  13           \\\\\n",
       "\\end{tabular}\n"
      ],
      "text/markdown": [
       "\n",
       "class | n | \n",
       "|---|---|---|---|---|\n",
       "| Actinopterygii |  27            | \n",
       "| Amphibia       |   8            | \n",
       "| Aves           |  63            | \n",
       "| Mammalia       | 179            | \n",
       "| Reptilia       |  13            | \n",
       "\n",
       "\n"
      ],
      "text/plain": [
       "  class          n  \n",
       "1 Actinopterygii  27\n",
       "2 Amphibia         8\n",
       "3 Aves            63\n",
       "4 Mammalia       179\n",
       "5 Reptilia        13"
      ]
     },
     "metadata": {},
     "output_type": "display_data"
    }
   ],
   "source": [
    "# all metadata \n",
    "taxIDs %>%\n",
    "    group_by(class) %>%\n",
    "    summarize(n = n()) %>%\n",
    "    ungroup()"
   ]
  },
  {
   "cell_type": "code",
   "execution_count": 17,
   "metadata": {
    "ExecuteTime": {
     "end_time": "2019-09-06T07:27:27.834687Z",
     "start_time": "2019-09-06T07:27:27.780Z"
    }
   },
   "outputs": [
    {
     "name": "stdout",
     "output_type": "stream",
     "text": [
      "[1] 13  9\n"
     ]
    },
    {
     "data": {
      "text/html": [
       "<table>\n",
       "<thead><tr><th scope=col>Sample</th><th scope=col>TaxIDs</th><th scope=col>class</th><th scope=col>order</th><th scope=col>family</th><th scope=col>genus</th><th scope=col>scientific_name</th><th scope=col>diet</th><th scope=col>habitat</th></tr></thead>\n",
       "<tbody>\n",
       "\t<tr><td>X190_Common_House_Gecko                                                                                                                           </td><td>/ebio/abt3_projects/Georg_animal_feces/data/metagenome/HiSeqRuns126-133-0138/wOutVertebrata/LLMGP_sub5k/kraken/X190_Common_House_Gecko_bracken.tsv</td><td>Reptilia                                                                                                                                          </td><td>Squamata                                                                                                                                          </td><td>Gekkonidae                                                                                                                                        </td><td>Hemidactylus                                                                                                                                      </td><td>Hemidactylus_frenatus                                                                                                                             </td><td>carnivore                                                                                                                                         </td><td>terrestrial habitat                                                                                                                               </td></tr>\n",
       "\t<tr><td>X191_Common_House_Gecko                                                                                                                           </td><td>/ebio/abt3_projects/Georg_animal_feces/data/metagenome/HiSeqRuns126-133-0138/wOutVertebrata/LLMGP_sub5k/kraken/X191_Common_House_Gecko_bracken.tsv</td><td>Reptilia                                                                                                                                          </td><td>Squamata                                                                                                                                          </td><td>Gekkonidae                                                                                                                                        </td><td>Hemidactylus                                                                                                                                      </td><td>Hemidactylus_frenatus                                                                                                                             </td><td>carnivore                                                                                                                                         </td><td>terrestrial habitat                                                                                                                               </td></tr>\n",
       "\t<tr><td>X233_Aesculapian_Snake                                                                                                                            </td><td>/ebio/abt3_projects/Georg_animal_feces/data/metagenome/HiSeqRuns126-133-0138/wOutVertebrata/LLMGP_sub5k/kraken/X233_Aesculapian_Snake_bracken.tsv </td><td>Reptilia                                                                                                                                          </td><td>Squamata                                                                                                                                          </td><td>Colubridae                                                                                                                                        </td><td>Zamenis                                                                                                                                           </td><td>Zamenis_longissimus                                                                                                                               </td><td>carnivore                                                                                                                                         </td><td>terrestrial habitat                                                                                                                               </td></tr>\n",
       "</tbody>\n",
       "</table>\n"
      ],
      "text/latex": [
       "\\begin{tabular}{r|lllllllll}\n",
       " Sample & TaxIDs & class & order & family & genus & scientific\\_name & diet & habitat\\\\\n",
       "\\hline\n",
       "\t X190\\_Common\\_House\\_Gecko                                                                                                                                      & /ebio/abt3\\_projects/Georg\\_animal\\_feces/data/metagenome/HiSeqRuns126-133-0138/wOutVertebrata/LLMGP\\_sub5k/kraken/X190\\_Common\\_House\\_Gecko\\_bracken.tsv & Reptilia                                                                                                                                                           & Squamata                                                                                                                                                           & Gekkonidae                                                                                                                                                         & Hemidactylus                                                                                                                                                       & Hemidactylus\\_frenatus                                                                                                                                            & carnivore                                                                                                                                                          & terrestrial habitat                                                                                                                                               \\\\\n",
       "\t X191\\_Common\\_House\\_Gecko                                                                                                                                      & /ebio/abt3\\_projects/Georg\\_animal\\_feces/data/metagenome/HiSeqRuns126-133-0138/wOutVertebrata/LLMGP\\_sub5k/kraken/X191\\_Common\\_House\\_Gecko\\_bracken.tsv & Reptilia                                                                                                                                                           & Squamata                                                                                                                                                           & Gekkonidae                                                                                                                                                         & Hemidactylus                                                                                                                                                       & Hemidactylus\\_frenatus                                                                                                                                            & carnivore                                                                                                                                                          & terrestrial habitat                                                                                                                                               \\\\\n",
       "\t X233\\_Aesculapian\\_Snake                                                                                                                                       & /ebio/abt3\\_projects/Georg\\_animal\\_feces/data/metagenome/HiSeqRuns126-133-0138/wOutVertebrata/LLMGP\\_sub5k/kraken/X233\\_Aesculapian\\_Snake\\_bracken.tsv  & Reptilia                                                                                                                                                         & Squamata                                                                                                                                                         & Colubridae                                                                                                                                                       & Zamenis                                                                                                                                                          & Zamenis\\_longissimus                                                                                                                                            & carnivore                                                                                                                                                        & terrestrial habitat                                                                                                                                             \\\\\n",
       "\\end{tabular}\n"
      ],
      "text/markdown": [
       "\n",
       "Sample | TaxIDs | class | order | family | genus | scientific_name | diet | habitat | \n",
       "|---|---|---|\n",
       "| X190_Common_House_Gecko                                                                                                                            | /ebio/abt3_projects/Georg_animal_feces/data/metagenome/HiSeqRuns126-133-0138/wOutVertebrata/LLMGP_sub5k/kraken/X190_Common_House_Gecko_bracken.tsv | Reptilia                                                                                                                                           | Squamata                                                                                                                                           | Gekkonidae                                                                                                                                         | Hemidactylus                                                                                                                                       | Hemidactylus_frenatus                                                                                                                              | carnivore                                                                                                                                          | terrestrial habitat                                                                                                                                | \n",
       "| X191_Common_House_Gecko                                                                                                                            | /ebio/abt3_projects/Georg_animal_feces/data/metagenome/HiSeqRuns126-133-0138/wOutVertebrata/LLMGP_sub5k/kraken/X191_Common_House_Gecko_bracken.tsv | Reptilia                                                                                                                                           | Squamata                                                                                                                                           | Gekkonidae                                                                                                                                         | Hemidactylus                                                                                                                                       | Hemidactylus_frenatus                                                                                                                              | carnivore                                                                                                                                          | terrestrial habitat                                                                                                                                | \n",
       "| X233_Aesculapian_Snake                                                                                                                             | /ebio/abt3_projects/Georg_animal_feces/data/metagenome/HiSeqRuns126-133-0138/wOutVertebrata/LLMGP_sub5k/kraken/X233_Aesculapian_Snake_bracken.tsv  | Reptilia                                                                                                                                           | Squamata                                                                                                                                           | Colubridae                                                                                                                                         | Zamenis                                                                                                                                            | Zamenis_longissimus                                                                                                                                | carnivore                                                                                                                                          | terrestrial habitat                                                                                                                                | \n",
       "\n",
       "\n"
      ],
      "text/plain": [
       "  Sample                 \n",
       "1 X190_Common_House_Gecko\n",
       "2 X191_Common_House_Gecko\n",
       "3 X233_Aesculapian_Snake \n",
       "  TaxIDs                                                                                                                                            \n",
       "1 /ebio/abt3_projects/Georg_animal_feces/data/metagenome/HiSeqRuns126-133-0138/wOutVertebrata/LLMGP_sub5k/kraken/X190_Common_House_Gecko_bracken.tsv\n",
       "2 /ebio/abt3_projects/Georg_animal_feces/data/metagenome/HiSeqRuns126-133-0138/wOutVertebrata/LLMGP_sub5k/kraken/X191_Common_House_Gecko_bracken.tsv\n",
       "3 /ebio/abt3_projects/Georg_animal_feces/data/metagenome/HiSeqRuns126-133-0138/wOutVertebrata/LLMGP_sub5k/kraken/X233_Aesculapian_Snake_bracken.tsv \n",
       "  class    order    family     genus        scientific_name       diet     \n",
       "1 Reptilia Squamata Gekkonidae Hemidactylus Hemidactylus_frenatus carnivore\n",
       "2 Reptilia Squamata Gekkonidae Hemidactylus Hemidactylus_frenatus carnivore\n",
       "3 Reptilia Squamata Colubridae Zamenis      Zamenis_longissimus   carnivore\n",
       "  habitat            \n",
       "1 terrestrial habitat\n",
       "2 terrestrial habitat\n",
       "3 terrestrial habitat"
      ]
     },
     "metadata": {},
     "output_type": "display_data"
    }
   ],
   "source": [
    "taxIDs_f = taxIDs %>%\n",
    "    filter(class == 'Reptilia') \n",
    "\n",
    "taxIDs_f %>% dfhead"
   ]
  },
  {
   "cell_type": "code",
   "execution_count": 18,
   "metadata": {
    "ExecuteTime": {
     "end_time": "2019-09-06T07:27:27.966361Z",
     "start_time": "2019-09-06T07:27:27.925Z"
    }
   },
   "outputs": [
    {
     "name": "stdout",
     "output_type": "stream",
     "text": [
      "File written: /ebio/abt3_projects/Georg_animal_feces/data/metagenome/HiSeqRuns126-133-0138/wOutVertebrata/MG_assembly_rep/LLMGA-find-refs//LLMGP_bracken_taxIDs_rep.tsv \n"
     ]
    }
   ],
   "source": [
    "outF = file.path(work_dir, 'LLMGP_bracken_taxIDs_rep.tsv')\n",
    "taxIDs_f %>%\n",
    "    arrange(class, order, family, genus) %>%\n",
    "    write.table(outF, sep='\\t', quote=FALSE, row.names=FALSE)\n",
    "cat('File written:', outF, '\\n')"
   ]
  },
  {
   "cell_type": "markdown",
   "metadata": {},
   "source": [
    "# llmga-find-refs"
   ]
  },
  {
   "cell_type": "code",
   "execution_count": null,
   "metadata": {
    "ExecuteTime": {
     "end_time": "2019-09-02T09:23:20.964541Z",
     "start_time": "2019-09-02T09:23:20.918Z"
    }
   },
   "outputs": [],
   "source": [
    "F = file.path(work_dir, 'config.yaml')\n",
    "cat_file(F)"
   ]
  },
  {
   "cell_type": "markdown",
   "metadata": {},
   "source": [
    "## Run"
   ]
  },
  {
   "cell_type": "markdown",
   "metadata": {},
   "source": [
    "```\n",
    "(snakemake_dev) @ rick:/ebio/abt3_projects/Georg_animal_feces/bin/llmga-find-refs\n",
    "$ screen -L -S llmga-fr-ga-rep ./snakemake_sge.sh /ebio/abt3_projects/Georg_animal_feces/data/metagenome/HiSeqRuns126-133-0138/wOutVertebrata/MG_assembly_rep/LLMGA-find-refs/config.yaml cluster.json /ebio/abt3_projects/Georg_animal_feces/data/metagenome/HiSeqRuns126-133-0138/wOutVertebrata/MG_assembly_rep/LLMGA-find-refs/SGE_log 20\n",
    "```"
   ]
  },
  {
   "cell_type": "markdown",
   "metadata": {},
   "source": [
    "# Summary"
   ]
  },
  {
   "cell_type": "code",
   "execution_count": 19,
   "metadata": {
    "ExecuteTime": {
     "end_time": "2019-09-07T04:57:36.439495Z",
     "start_time": "2019-09-07T04:57:38.100Z"
    }
   },
   "outputs": [
    {
     "name": "stdout",
     "output_type": "stream",
     "text": [
      "Number of ref. genomes: 170 \n"
     ]
    }
   ],
   "source": [
    "# listing all reference genomes\n",
    "ref_dir = file.path(work_dir, 'references', 'drep', 'dereplicated_genomes')\n",
    "F = list.files(ref_dir, '*.fna', full.names=TRUE)\n",
    "cat('Number of ref. genomes:', F %>% length, '\\n')"
   ]
  },
  {
   "cell_type": "code",
   "execution_count": 20,
   "metadata": {
    "ExecuteTime": {
     "end_time": "2019-09-07T04:57:41.319427Z",
     "start_time": "2019-09-07T04:57:38.641Z"
    }
   },
   "outputs": [
    {
     "data": {
      "text/html": [
       "TRUE"
      ],
      "text/latex": [
       "TRUE"
      ],
      "text/markdown": [
       "TRUE"
      ],
      "text/plain": [
       "[1] TRUE"
      ]
     },
     "metadata": {},
     "output_type": "display_data"
    },
    {
     "data": {
      "text/html": [
       "728862594"
      ],
      "text/latex": [
       "728862594"
      ],
      "text/markdown": [
       "728862594"
      ],
      "text/plain": [
       "[1] 728862594"
      ]
     },
     "metadata": {},
     "output_type": "display_data"
    },
    {
     "name": "stdout",
     "output_type": "stream",
     "text": [
      "File written: /ebio/abt3_projects/Georg_animal_feces/data/metagenome/HiSeqRuns126-133-0138/wOutVertebrata/MG_assembly_rep/LLMGA-find-refs//references/ref_genomes.fna \n"
     ]
    }
   ],
   "source": [
    "# combining all refs\n",
    "ref_file = file.path(work_dir, 'references', 'ref_genomes.fna')\n",
    "if(file.exists(ref_file)){ file.remove(ref_file) }\n",
    "file.create(ref_file)\n",
    "for (f in F){\n",
    "    file.append(ref_file, f)\n",
    "}\n",
    "file.size(ref_file)\n",
    "cat('File written:', ref_file, '\\n')"
   ]
  },
  {
   "cell_type": "markdown",
   "metadata": {},
   "source": [
    "# sessionInfo"
   ]
  },
  {
   "cell_type": "code",
   "execution_count": 21,
   "metadata": {
    "ExecuteTime": {
     "end_time": "2019-09-07T04:57:41.398033Z",
     "start_time": "2019-09-07T04:57:40.856Z"
    }
   },
   "outputs": [
    {
     "name": "stdout",
     "output_type": "stream",
     "text": [
      "LLMGA-find-refs\n",
      "===============\n",
      "\n",
      "Ley Lab Metagenome Assembly: Find References (LLMGA-find-refs)\n",
      "\n",
      "* Version: 0.2.1\n",
      "* Authors:\n",
      "  * Nick Youngblut <nyoungb2@gmail.com>\n",
      "* Maintainers:\n",
      "  * Nick Youngblut <nyoungb2@gmail.com>\n",
      "\n",
      "--- conda envs ---\n",
      "==> /ebio/abt3_projects/Georg_animal_feces/bin/llmga-find-refs//bin/envs/genome_dl.yaml <==\n",
      "channels: !!python/tuple\n",
      "- bioconda\n",
      "dependencies:\n",
      "- pigz\n",
      "- python>=3.6\n",
      "- bioconda::ete3=3.1.1\n",
      "- bioconda::ncbi-genome-download=0.2.6\n",
      "\n",
      "==> /ebio/abt3_projects/Georg_animal_feces/bin/llmga-find-refs//bin/envs/genome_drep.yaml <==\n",
      "channels: !!python/tuple\n",
      "- bioconda\n",
      "dependencies:\n",
      "- pigz\n",
      "- bioconda::mash\n",
      "- pip:\n",
      "  - drep\n",
      "\n",
      "==> /ebio/abt3_projects/Georg_animal_feces/bin/llmga-find-refs//bin/envs/reads.yaml <==\n",
      "channels: !!python/tuple\n",
      "- bioconda\n",
      "dependencies:\n",
      "- pigz\n",
      "- bioconda::seqtk\n",
      "- bioconda::centrifuge"
     ]
    }
   ],
   "source": [
    "pipelineInfo(pipeline_dir)"
   ]
  },
  {
   "cell_type": "code",
   "execution_count": 22,
   "metadata": {
    "ExecuteTime": {
     "end_time": "2019-09-07T04:57:42.237122Z",
     "start_time": "2019-09-07T04:57:41.002Z"
    }
   },
   "outputs": [
    {
     "data": {
      "text/plain": [
       "R version 3.4.1 (2017-06-30)\n",
       "Platform: x86_64-pc-linux-gnu (64-bit)\n",
       "Running under: Ubuntu 18.04.2 LTS\n",
       "\n",
       "Matrix products: default\n",
       "BLAS: /ebio/abt3_projects/software/miniconda3_gt4.4/envs/py3_physeq/lib/R/lib/libRblas.so\n",
       "LAPACK: /ebio/abt3_projects/software/miniconda3_gt4.4/envs/py3_physeq/lib/R/lib/libRlapack.so\n",
       "\n",
       "locale:\n",
       " [1] LC_CTYPE=en_US.UTF-8       LC_NUMERIC=C              \n",
       " [3] LC_TIME=en_US.UTF-8        LC_COLLATE=en_US.UTF-8    \n",
       " [5] LC_MONETARY=en_US.UTF-8    LC_MESSAGES=en_US.UTF-8   \n",
       " [7] LC_PAPER=en_US.UTF-8       LC_NAME=C                 \n",
       " [9] LC_ADDRESS=C               LC_TELEPHONE=C            \n",
       "[11] LC_MEASUREMENT=en_US.UTF-8 LC_IDENTIFICATION=C       \n",
       "\n",
       "attached base packages:\n",
       "[1] stats     graphics  grDevices utils     datasets  methods   base     \n",
       "\n",
       "other attached packages:\n",
       "[1] bindrcpp_0.2.2 ggplot2_3.0.0  tidyr_0.8.1    dplyr_0.7.6   \n",
       "\n",
       "loaded via a namespace (and not attached):\n",
       " [1] Rcpp_0.12.17     bindr_0.1.1      magrittr_1.5     munsell_0.5.0   \n",
       " [5] tidyselect_0.2.4 uuid_0.1-2       colorspace_1.3-2 R6_2.2.2        \n",
       " [9] rlang_0.2.1      plyr_1.8.4       stringr_1.3.1    tools_3.4.1     \n",
       "[13] grid_3.4.1       gtable_0.2.0     withr_2.1.1      htmltools_0.3.6 \n",
       "[17] lazyeval_0.2.1   digest_0.6.15    assertthat_0.2.0 tibble_1.4.2    \n",
       "[21] crayon_1.3.4     IRdisplay_0.4.4  purrr_0.2.4      repr_0.15.0     \n",
       "[25] base64enc_0.1-3  IRkernel_0.8.12  glue_1.3.0       evaluate_0.10.1 \n",
       "[29] pbdZMQ_0.3-2     stringi_1.2.3    compiler_3.4.1   pillar_1.2.2    \n",
       "[33] scales_0.5.0     jsonlite_1.5     pkgconfig_2.0.1 "
      ]
     },
     "metadata": {},
     "output_type": "display_data"
    }
   ],
   "source": [
    "sessionInfo()"
   ]
  },
  {
   "cell_type": "code",
   "execution_count": null,
   "metadata": {},
   "outputs": [],
   "source": []
  }
 ],
 "metadata": {
  "kernelspec": {
   "display_name": "R [conda env:py3_physeq]",
   "language": "R",
   "name": "conda-env-py3_physeq-r"
  },
  "language_info": {
   "codemirror_mode": "r",
   "file_extension": ".r",
   "mimetype": "text/x-r-source",
   "name": "R",
   "pygments_lexer": "r",
   "version": "3.4.1"
  },
  "notify_time": "30",
  "toc": {
   "base_numbering": 1,
   "nav_menu": {},
   "number_sections": true,
   "sideBar": true,
   "skip_h1_title": false,
   "title_cell": "Table of Contents",
   "title_sidebar": "Contents",
   "toc_cell": true,
   "toc_position": {},
   "toc_section_display": true,
   "toc_window_display": true
  }
 },
 "nbformat": 4,
 "nbformat_minor": 2
}
