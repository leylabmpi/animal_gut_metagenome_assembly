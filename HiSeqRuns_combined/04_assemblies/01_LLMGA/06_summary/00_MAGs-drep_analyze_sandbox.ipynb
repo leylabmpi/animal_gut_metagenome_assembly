{
 "cells": [
  {
   "cell_type": "markdown",
   "metadata": {
    "toc": true
   },
   "source": [
    "<h1>Table of Contents<span class=\"tocSkip\"></span></h1>\n",
    "<div class=\"toc\"><ul class=\"toc-item\"><li><span><a href=\"#Goal\" data-toc-modified-id=\"Goal-1\"><span class=\"toc-item-num\">1&nbsp;&nbsp;</span>Goal</a></span></li><li><span><a href=\"#Var\" data-toc-modified-id=\"Var-2\"><span class=\"toc-item-num\">2&nbsp;&nbsp;</span>Var</a></span></li><li><span><a href=\"#Init\" data-toc-modified-id=\"Init-3\"><span class=\"toc-item-num\">3&nbsp;&nbsp;</span>Init</a></span></li><li><span><a href=\"#Conda-env\" data-toc-modified-id=\"Conda-env-4\"><span class=\"toc-item-num\">4&nbsp;&nbsp;</span>Conda env</a></span></li><li><span><a href=\"#Antismash\" data-toc-modified-id=\"Antismash-5\"><span class=\"toc-item-num\">5&nbsp;&nbsp;</span>Antismash</a></span></li><li><span><a href=\"#BGC\" data-toc-modified-id=\"BGC-6\"><span class=\"toc-item-num\">6&nbsp;&nbsp;</span>BGC</a></span></li><li><span><a href=\"#Sandbox:-traitar\" data-toc-modified-id=\"Sandbox:-traitar-7\"><span class=\"toc-item-num\">7&nbsp;&nbsp;</span>Sandbox: traitar</a></span></li><li><span><a href=\"#--OLD--\" data-toc-modified-id=\"--OLD---8\"><span class=\"toc-item-num\">8&nbsp;&nbsp;</span>--OLD--</a></span></li><li><span><a href=\"#Sandbox-(deepBGC)\" data-toc-modified-id=\"Sandbox-(deepBGC)-9\"><span class=\"toc-item-num\">9&nbsp;&nbsp;</span>Sandbox (deepBGC)</a></span></li><li><span><a href=\"#Sandbox-(antismash)\" data-toc-modified-id=\"Sandbox-(antismash)-10\"><span class=\"toc-item-num\">10&nbsp;&nbsp;</span>Sandbox (antismash)</a></span></li></ul></div>"
   ]
  },
  {
   "cell_type": "markdown",
   "metadata": {},
   "source": [
    "# Goal\n",
    "\n",
    "* Run `traitar` on drep'ed MAGs in order to infer phenotypes from genome content"
   ]
  },
  {
   "cell_type": "markdown",
   "metadata": {},
   "source": [
    "# Var"
   ]
  },
  {
   "cell_type": "code",
   "execution_count": 1,
   "metadata": {
    "ExecuteTime": {
     "end_time": "2019-09-30T17:39:40.309623Z",
     "start_time": "2019-09-30T17:39:39.712Z"
    }
   },
   "outputs": [],
   "source": [
    "work_dir = file.path('/ebio/abt3_projects/Georg_animal_feces/data/metagenome/HiSeqRuns126-133-0138/wOutVertebrata/',\n",
    "                     'MG_assembly_summary/', 'MAGs', 'drep', 'dereplicated_genomes')\n"
   ]
  },
  {
   "cell_type": "markdown",
   "metadata": {},
   "source": [
    "# Init"
   ]
  },
  {
   "cell_type": "code",
   "execution_count": 3,
   "metadata": {
    "ExecuteTime": {
     "end_time": "2019-09-30T17:40:00.278997Z",
     "start_time": "2019-09-30T17:39:59.914Z"
    }
   },
   "outputs": [],
   "source": [
    "library(dplyr)\n",
    "library(tidyr)\n",
    "library(ggplot2)\n",
    "library(data.table)\n",
    "set.seed(8304)\n",
    "\n",
    "source('/ebio/abt3_projects/Georg_animal_feces/code/misc_r_functions/init.R')"
   ]
  },
  {
   "cell_type": "code",
   "execution_count": 4,
   "metadata": {
    "ExecuteTime": {
     "end_time": "2019-09-30T17:40:06.629075Z",
     "start_time": "2019-09-30T17:40:06.562Z"
    }
   },
   "outputs": [
    {
     "name": "stdout",
     "output_type": "stream",
     "text": [
      "Directory already exists: /ebio/abt3_projects/Georg_animal_feces/data/metagenome/HiSeqRuns126-133-0138/wOutVertebrata//MG_assembly_summary//MAGs/drep/dereplicated_genomes \n"
     ]
    }
   ],
   "source": [
    "make_dir(work_dir)"
   ]
  },
  {
   "cell_type": "markdown",
   "metadata": {},
   "source": [
    "# Conda env"
   ]
  },
  {
   "cell_type": "markdown",
   "metadata": {},
   "source": [
    "@ rick:/ebio/abt3_projects/software/dev/tmp/antismash_v5/antismash_env.yaml\n",
    "\n",
    "```\n",
    "# conda env\n",
    "python>=3.5\n",
    "bcbio-gff\n",
    "biopython>=1.71\n",
    "blast==2.2.*\n",
    "diamond==0.9.*\n",
    "fasttree==2.1.*\n",
    "glimmer==3.02\n",
    "glimmerhmm==3.0.*\n",
    "helperlibs\n",
    "hmmer==3.1b2\n",
    "hmmer2\n",
    "openjdk\n",
    "matplotlib\n",
    "muscle==3.8.*\n",
    "numpy\n",
    "prodigal\n",
    "pyscss\n",
    "pysvg-py3\n",
    "scipy\n",
    "scikit-learn>=0.19\n",
    "```\n",
    "\n",
    "```\n",
    "# antismash deps\n",
    "conda create -p /ebio/abt3_projects/software/miniconda3_gt4.4/envs/BGC --file /ebio/abt3_projects/software/dev/tmp/antismash_v5/antismash_env.yaml\n",
    "conda activate BGC\n",
    "## meme 4.11.2\n",
    "/ebio/abt3_projects/software/bin/meme\n",
    "\n",
    "# antismash\n",
    "git clone https://github.com/antismash/antismash.git\n",
    "cd antismash\n",
    "pip install .\n",
    "\n",
    "# deepBGC\n",
    "conda install -n BGC deepbgc\n",
    "\n",
    "\n",
    "```"
   ]
  },
  {
   "cell_type": "markdown",
   "metadata": {},
   "source": [
    "# Antismash"
   ]
  },
  {
   "cell_type": "markdown",
   "metadata": {},
   "source": [
    "```\n",
    "(BGC) @ rick:/ebio/abt3_projects/Georg_animal_feces/tmp/\n",
    "# C-min\n",
    "antismash --cpus 24 --cb-knownclusters --cb-subclusters --asf \\\n",
    "  --executable-paths meme=/ebio/abt3_projects/software/bin/meme \\\n",
    "  --databases /ebio/abt3_projects/databases_no-backup/antismash/v5/ \\\n",
    "  --genefinding-tool prodigal --output-dir Cmin-smash \\\n",
    "  genbank/GCA_001571425.1_ASM157142v1_genomic.fna\n",
    "```"
   ]
  },
  {
   "cell_type": "markdown",
   "metadata": {},
   "source": [
    "# BGC"
   ]
  },
  {
   "cell_type": "markdown",
   "metadata": {},
   "source": [
    "```\n",
    "(BGC) @ rick:/ebio/abt3_projects/Georg_animal_feces/tmp/\n",
    "# C-min\n",
    "deepbgc pipeline --output Cmin_d-BGC genbank/GCA_001571425.1_ASM157142v1_genomic.fna\n",
    "```"
   ]
  },
  {
   "cell_type": "markdown",
   "metadata": {},
   "source": [
    "# Sandbox: traitar"
   ]
  },
  {
   "cell_type": "markdown",
   "metadata": {},
   "source": [
    "**test run**\n",
    "```\n",
    "# requires specific version of pandas (https://github.com/aweimann/traitar/issues/65)\n",
    "conda install pandas==0.20.3\n",
    "```\n",
    "\n",
    "```\n",
    "(py2_genome) @ rick:/ebio/abt3_projects/Georg_animal_feces/tmp/traitar_test\n",
    "$ traitar pfam traitar_pfam\n",
    "(py2_genome) @ rick:/ebio/abt3_projects/Georg_animal_feces/tmp/traitar_test\n",
    "$ traitar phenotype --cpus 24 MAGs/ samples.tsv from_nucleotides traitar_out\n",
    "```\n",
    "\n",
    "**Notes**\n",
    "* must create output dir for `traitar`\n",
    "* must run `traitar pfam` first \n",
    "  * not sure how the results are found by `traitar phenotype`"
   ]
  },
  {
   "cell_type": "markdown",
   "metadata": {},
   "source": [
    "# --OLD--"
   ]
  },
  {
   "cell_type": "markdown",
   "metadata": {},
   "source": [
    "# Sandbox (deepBGC)"
   ]
  },
  {
   "cell_type": "markdown",
   "metadata": {},
   "source": [
    "**test run**\n",
    "```\n",
    "(BGC) @ rick:/ebio/abt3_projects/Georg_animal_feces/tmp/deepBGC_test\n",
    "$ deepbgc pipeline --output test_out F141_Wood_Sandpiper__metabat2_low_PE.001.contigs.fa\n",
    "```\n",
    "\n",
    "```\n",
    "(antismash_v5) @ rick:/ebio/abt3_projects/software/dev/tmp/antismash_v5\n",
    "deepbgc pipeline --output test_out tests/GCF_000012825.1_ASM1282v1_genomic.fna\n",
    "```\n",
    "\n",
    "**Notes**\n",
    "* one genome at a time\n",
    "  "
   ]
  },
  {
   "cell_type": "markdown",
   "metadata": {},
   "source": [
    "# Sandbox (antismash)"
   ]
  },
  {
   "cell_type": "markdown",
   "metadata": {},
   "source": [
    "```\n",
    "# install\n",
    "## conda env\n",
    "conda create -n antismash_v5 --file antismash_env.yaml\n",
    "git clone https://github.com/antismash/antismash.git\n",
    "cd antismash\n",
    "pip install .\n",
    "conda activate antismash_v5\n",
    "\n",
    "## meme\n",
    "mkdir /ebio/abt3_projects/software/dev/tmp/antismash_v5/bin\n",
    "./configure --prefix=/ebio/abt3_projects/software/dev/tmp/antismash_v5/bin/meme --with-url=\"http://meme-suite.org\"\n",
    "make\n",
    "make test\n",
    "make install\n",
    "\n",
    "# check prereqs\n",
    "antismash --check-prereqs\n",
    "\n",
    "# database\n",
    "download-antismash-databases --database-dir /ebio/abt3_projects/databases_no-backup/antismash/v5\n",
    "\n",
    "# run\n",
    "(BGC) @ rick:/ebio/abt3_projects/software/dev/tmp/antismash_v5\n",
    "antismash --executable-paths meme=/ebio/abt3_projects/software/bin/meme --databases /ebio/abt3_projects/databases_no-backup/antismash/v5/ --cpus 24 --genefinding-tool prodigal --output-dir ASM1282v1_genomic tests/GCF_000012825.1_ASM1282v1_genomic.fna.gz\n",
    "```"
   ]
  },
  {
   "cell_type": "code",
   "execution_count": null,
   "metadata": {},
   "outputs": [],
   "source": [
    "\n",
    "* JSON file output parsing\n",
    "  * \"rule_results\"\n",
    "  "
   ]
  }
 ],
 "metadata": {
  "kernelspec": {
   "display_name": "R [conda env:py3_physeq]",
   "language": "R",
   "name": "conda-env-py3_physeq-r"
  },
  "language_info": {
   "codemirror_mode": "r",
   "file_extension": ".r",
   "mimetype": "text/x-r-source",
   "name": "R",
   "pygments_lexer": "r",
   "version": "3.4.1"
  },
  "notify_time": "30",
  "toc": {
   "base_numbering": 1,
   "nav_menu": {},
   "number_sections": true,
   "sideBar": true,
   "skip_h1_title": false,
   "title_cell": "Table of Contents",
   "title_sidebar": "Contents",
   "toc_cell": true,
   "toc_position": {},
   "toc_section_display": true,
   "toc_window_display": true
  }
 },
 "nbformat": 4,
 "nbformat_minor": 2
}
