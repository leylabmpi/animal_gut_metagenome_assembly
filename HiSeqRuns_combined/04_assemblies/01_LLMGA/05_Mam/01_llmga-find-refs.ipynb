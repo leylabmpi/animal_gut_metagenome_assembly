{
 "cells": [
  {
   "cell_type": "markdown",
   "metadata": {
    "toc": true
   },
   "source": [
    "<h1>Table of Contents<span class=\"tocSkip\"></span></h1>\n",
    "<div class=\"toc\"><ul class=\"toc-item\"><li><span><a href=\"#Goal\" data-toc-modified-id=\"Goal-1\"><span class=\"toc-item-num\">1&nbsp;&nbsp;</span>Goal</a></span></li><li><span><a href=\"#Var\" data-toc-modified-id=\"Var-2\"><span class=\"toc-item-num\">2&nbsp;&nbsp;</span>Var</a></span></li><li><span><a href=\"#Init\" data-toc-modified-id=\"Init-3\"><span class=\"toc-item-num\">3&nbsp;&nbsp;</span>Init</a></span></li><li><span><a href=\"#Just-mammals\" data-toc-modified-id=\"Just-mammals-4\"><span class=\"toc-item-num\">4&nbsp;&nbsp;</span>Just mammals</a></span></li><li><span><a href=\"#llmga-find-refs\" data-toc-modified-id=\"llmga-find-refs-5\"><span class=\"toc-item-num\">5&nbsp;&nbsp;</span>llmga-find-refs</a></span></li><li><span><a href=\"#Summary\" data-toc-modified-id=\"Summary-6\"><span class=\"toc-item-num\">6&nbsp;&nbsp;</span>Summary</a></span></li><li><span><a href=\"#sessionInfo\" data-toc-modified-id=\"sessionInfo-7\"><span class=\"toc-item-num\">7&nbsp;&nbsp;</span>sessionInfo</a></span></li></ul></div>"
   ]
  },
  {
   "cell_type": "markdown",
   "metadata": {},
   "source": [
    "# Goal\n",
    "\n",
    "* Running LLMGA-find-refs pipeline on all mammal samples"
   ]
  },
  {
   "cell_type": "markdown",
   "metadata": {},
   "source": [
    "# Var"
   ]
  },
  {
   "cell_type": "code",
   "execution_count": 9,
   "metadata": {
    "ExecuteTime": {
     "end_time": "2019-07-19T07:06:19.619976Z",
     "start_time": "2019-07-19T07:06:19.582Z"
    }
   },
   "outputs": [],
   "source": [
    "work_dir = '/ebio/abt3_projects/Georg_animal_feces/data/metagenome/HiSeqRuns126-133-0138/wOutVertebrata/MG_assembly_mam/LLMGA-find-refs/'\n",
    "\n",
    "bracken_taxIDs = file.path(work_dir, 'LLMGP_bracken_files.tsv')\n",
    "metadata_file = '/ebio/abt3_projects/Georg_animal_feces/data/mapping/unified_metadata_complete_190529.tsv'\n",
    "pipeline_dir = '/ebio/abt3_projects/Georg_animal_feces/bin/llmga-find-refs/'\n"
   ]
  },
  {
   "cell_type": "markdown",
   "metadata": {},
   "source": [
    "# Init"
   ]
  },
  {
   "cell_type": "code",
   "execution_count": 2,
   "metadata": {
    "ExecuteTime": {
     "end_time": "2019-07-19T07:00:38.931278Z",
     "start_time": "2019-07-19T07:00:36.482Z"
    }
   },
   "outputs": [
    {
     "name": "stderr",
     "output_type": "stream",
     "text": [
      "\n",
      "Attaching package: ‘dplyr’\n",
      "\n",
      "The following objects are masked from ‘package:stats’:\n",
      "\n",
      "    filter, lag\n",
      "\n",
      "The following objects are masked from ‘package:base’:\n",
      "\n",
      "    intersect, setdiff, setequal, union\n",
      "\n"
     ]
    }
   ],
   "source": [
    "library(dplyr)\n",
    "library(tidyr)\n",
    "library(ggplot2)\n",
    "source('/ebio/abt3_projects/Georg_animal_feces/code/misc_r_functions/init.R')"
   ]
  },
  {
   "cell_type": "markdown",
   "metadata": {},
   "source": [
    "# Just mammals"
   ]
  },
  {
   "cell_type": "code",
   "execution_count": 24,
   "metadata": {
    "ExecuteTime": {
     "end_time": "2019-07-19T07:08:21.805127Z",
     "start_time": "2019-07-19T07:08:21.697Z"
    }
   },
   "outputs": [
    {
     "name": "stdout",
     "output_type": "stream",
     "text": [
      "[1] 475   8\n"
     ]
    },
    {
     "data": {
      "text/html": [
       "<table>\n",
       "<thead><tr><th scope=col>SampleID</th><th scope=col>class</th><th scope=col>order</th><th scope=col>family</th><th scope=col>genus</th><th scope=col>scientific_name</th><th scope=col>diet</th><th scope=col>habitat</th></tr></thead>\n",
       "<tbody>\n",
       "\t<tr><td>F14_Common_Bream   </td><td>Actinopterygii     </td><td>Cypriniformes      </td><td>Cyprinidae         </td><td>Abramis            </td><td>Abramis_brama      </td><td>omnivore           </td><td>aquatic habitat    </td></tr>\n",
       "\t<tr><td>F35_Red_Deer       </td><td>Mammalia           </td><td>Artiodactyla       </td><td>Cervidae           </td><td>Cervus             </td><td>Cervus_elaphus     </td><td>herbivore          </td><td>terrestrial habitat</td></tr>\n",
       "\t<tr><td>F36_Red_Deer       </td><td>Mammalia           </td><td>Artiodactyla       </td><td>Cervidae           </td><td>Cervus             </td><td>Cervus_elaphus     </td><td>herbivore          </td><td>terrestrial habitat</td></tr>\n",
       "</tbody>\n",
       "</table>\n"
      ],
      "text/latex": [
       "\\begin{tabular}{r|llllllll}\n",
       " SampleID & class & order & family & genus & scientific\\_name & diet & habitat\\\\\n",
       "\\hline\n",
       "\t F14\\_Common\\_Bream & Actinopterygii       & Cypriniformes        & Cyprinidae           & Abramis              & Abramis\\_brama      & omnivore             & aquatic habitat     \\\\\n",
       "\t F35\\_Red\\_Deer     & Mammalia             & Artiodactyla         & Cervidae             & Cervus               & Cervus\\_elaphus     & herbivore            & terrestrial habitat \\\\\n",
       "\t F36\\_Red\\_Deer     & Mammalia             & Artiodactyla         & Cervidae             & Cervus               & Cervus\\_elaphus     & herbivore            & terrestrial habitat \\\\\n",
       "\\end{tabular}\n"
      ],
      "text/markdown": [
       "\n",
       "SampleID | class | order | family | genus | scientific_name | diet | habitat | \n",
       "|---|---|---|\n",
       "| F14_Common_Bream    | Actinopterygii      | Cypriniformes       | Cyprinidae          | Abramis             | Abramis_brama       | omnivore            | aquatic habitat     | \n",
       "| F35_Red_Deer        | Mammalia            | Artiodactyla        | Cervidae            | Cervus              | Cervus_elaphus      | herbivore           | terrestrial habitat | \n",
       "| F36_Red_Deer        | Mammalia            | Artiodactyla        | Cervidae            | Cervus              | Cervus_elaphus      | herbivore           | terrestrial habitat | \n",
       "\n",
       "\n"
      ],
      "text/plain": [
       "  SampleID         class          order         family     genus  \n",
       "1 F14_Common_Bream Actinopterygii Cypriniformes Cyprinidae Abramis\n",
       "2 F35_Red_Deer     Mammalia       Artiodactyla  Cervidae   Cervus \n",
       "3 F36_Red_Deer     Mammalia       Artiodactyla  Cervidae   Cervus \n",
       "  scientific_name diet      habitat            \n",
       "1 Abramis_brama   omnivore  aquatic habitat    \n",
       "2 Cervus_elaphus  herbivore terrestrial habitat\n",
       "3 Cervus_elaphus  herbivore terrestrial habitat"
      ]
     },
     "metadata": {},
     "output_type": "display_data"
    }
   ],
   "source": [
    "meta = read.delim(metadata_file, sep='\\t') %>%\n",
    "    dplyr::select(SampleID, class, order, family, genus, scientific_name, diet, habitat)\n",
    "meta %>% dfhead"
   ]
  },
  {
   "cell_type": "code",
   "execution_count": 25,
   "metadata": {
    "ExecuteTime": {
     "end_time": "2019-07-19T07:08:21.977606Z",
     "start_time": "2019-07-19T07:08:21.912Z"
    }
   },
   "outputs": [
    {
     "name": "stdout",
     "output_type": "stream",
     "text": [
      "[1] 291   2\n"
     ]
    },
    {
     "data": {
      "text/html": [
       "<table>\n",
       "<thead><tr><th scope=col>Sample</th><th scope=col>TaxIDs</th></tr></thead>\n",
       "<tbody>\n",
       "\t<tr><td>X101_Horse                                                                                                                                       </td><td>/ebio/abt3_projects/Georg_animal_feces/data/metagenome/HiSeqRuns126-133-0138/wOutVertebrata/LLMGP_sub5k/kraken/X101_Horse_bracken.tsv            </td></tr>\n",
       "\t<tr><td>X102_Kulan                                                                                                                                       </td><td>/ebio/abt3_projects/Georg_animal_feces/data/metagenome/HiSeqRuns126-133-0138/wOutVertebrata/LLMGP_sub5k/kraken/X102_Kulan_bracken.tsv            </td></tr>\n",
       "\t<tr><td>X103_Eurasian_Blackcap                                                                                                                           </td><td>/ebio/abt3_projects/Georg_animal_feces/data/metagenome/HiSeqRuns126-133-0138/wOutVertebrata/LLMGP_sub5k/kraken/X103_Eurasian_Blackcap_bracken.tsv</td></tr>\n",
       "</tbody>\n",
       "</table>\n"
      ],
      "text/latex": [
       "\\begin{tabular}{r|ll}\n",
       " Sample & TaxIDs\\\\\n",
       "\\hline\n",
       "\t X101\\_Horse                                                                                                                                                  & /ebio/abt3\\_projects/Georg\\_animal\\_feces/data/metagenome/HiSeqRuns126-133-0138/wOutVertebrata/LLMGP\\_sub5k/kraken/X101\\_Horse\\_bracken.tsv            \\\\\n",
       "\t X102\\_Kulan                                                                                                                                                  & /ebio/abt3\\_projects/Georg\\_animal\\_feces/data/metagenome/HiSeqRuns126-133-0138/wOutVertebrata/LLMGP\\_sub5k/kraken/X102\\_Kulan\\_bracken.tsv            \\\\\n",
       "\t X103\\_Eurasian\\_Blackcap                                                                                                                                      & /ebio/abt3\\_projects/Georg\\_animal\\_feces/data/metagenome/HiSeqRuns126-133-0138/wOutVertebrata/LLMGP\\_sub5k/kraken/X103\\_Eurasian\\_Blackcap\\_bracken.tsv\\\\\n",
       "\\end{tabular}\n"
      ],
      "text/markdown": [
       "\n",
       "Sample | TaxIDs | \n",
       "|---|---|---|\n",
       "| X101_Horse                                                                                                                                        | /ebio/abt3_projects/Georg_animal_feces/data/metagenome/HiSeqRuns126-133-0138/wOutVertebrata/LLMGP_sub5k/kraken/X101_Horse_bracken.tsv             | \n",
       "| X102_Kulan                                                                                                                                        | /ebio/abt3_projects/Georg_animal_feces/data/metagenome/HiSeqRuns126-133-0138/wOutVertebrata/LLMGP_sub5k/kraken/X102_Kulan_bracken.tsv             | \n",
       "| X103_Eurasian_Blackcap                                                                                                                            | /ebio/abt3_projects/Georg_animal_feces/data/metagenome/HiSeqRuns126-133-0138/wOutVertebrata/LLMGP_sub5k/kraken/X103_Eurasian_Blackcap_bracken.tsv | \n",
       "\n",
       "\n"
      ],
      "text/plain": [
       "  Sample                \n",
       "1 X101_Horse            \n",
       "2 X102_Kulan            \n",
       "3 X103_Eurasian_Blackcap\n",
       "  TaxIDs                                                                                                                                           \n",
       "1 /ebio/abt3_projects/Georg_animal_feces/data/metagenome/HiSeqRuns126-133-0138/wOutVertebrata/LLMGP_sub5k/kraken/X101_Horse_bracken.tsv            \n",
       "2 /ebio/abt3_projects/Georg_animal_feces/data/metagenome/HiSeqRuns126-133-0138/wOutVertebrata/LLMGP_sub5k/kraken/X102_Kulan_bracken.tsv            \n",
       "3 /ebio/abt3_projects/Georg_animal_feces/data/metagenome/HiSeqRuns126-133-0138/wOutVertebrata/LLMGP_sub5k/kraken/X103_Eurasian_Blackcap_bracken.tsv"
      ]
     },
     "metadata": {},
     "output_type": "display_data"
    }
   ],
   "source": [
    "taxIDs = read.delim(bracken_taxIDs, sep='\\t') %>%\n",
    "    mutate(Sample = gsub('^XF', 'F', Sample))\n",
    "taxIDs %>% dfhead"
   ]
  },
  {
   "cell_type": "code",
   "execution_count": 27,
   "metadata": {
    "ExecuteTime": {
     "end_time": "2019-07-19T07:08:23.103803Z",
     "start_time": "2019-07-19T07:08:22.970Z"
    }
   },
   "outputs": [
    {
     "name": "stderr",
     "output_type": "stream",
     "text": [
      "Warning message:\n",
      "“Column `Sample`/`SampleID` joining character vector and factor, coercing into character vector”"
     ]
    },
    {
     "name": "stdout",
     "output_type": "stream",
     "text": [
      "[1] 290   9\n"
     ]
    },
    {
     "data": {
      "text/html": [
       "<table>\n",
       "<thead><tr><th scope=col>Sample</th><th scope=col>TaxIDs</th><th scope=col>class</th><th scope=col>order</th><th scope=col>family</th><th scope=col>genus</th><th scope=col>scientific_name</th><th scope=col>diet</th><th scope=col>habitat</th></tr></thead>\n",
       "<tbody>\n",
       "\t<tr><td>X101_Horse                                                                                                                                       </td><td>/ebio/abt3_projects/Georg_animal_feces/data/metagenome/HiSeqRuns126-133-0138/wOutVertebrata/LLMGP_sub5k/kraken/X101_Horse_bracken.tsv            </td><td>Mammalia                                                                                                                                         </td><td>Perissodactyla                                                                                                                                   </td><td>Equidae                                                                                                                                          </td><td>Equus                                                                                                                                            </td><td>Equus_caballus                                                                                                                                   </td><td>herbivore                                                                                                                                        </td><td>terrestrial habitat                                                                                                                              </td></tr>\n",
       "\t<tr><td>X102_Kulan                                                                                                                                       </td><td>/ebio/abt3_projects/Georg_animal_feces/data/metagenome/HiSeqRuns126-133-0138/wOutVertebrata/LLMGP_sub5k/kraken/X102_Kulan_bracken.tsv            </td><td>Mammalia                                                                                                                                         </td><td>Perissodactyla                                                                                                                                   </td><td>Equidae                                                                                                                                          </td><td>Equus                                                                                                                                            </td><td>Equus_hemionus                                                                                                                                   </td><td>herbivore                                                                                                                                        </td><td>terrestrial habitat                                                                                                                              </td></tr>\n",
       "\t<tr><td>X103_Eurasian_Blackcap                                                                                                                           </td><td>/ebio/abt3_projects/Georg_animal_feces/data/metagenome/HiSeqRuns126-133-0138/wOutVertebrata/LLMGP_sub5k/kraken/X103_Eurasian_Blackcap_bracken.tsv</td><td>Aves                                                                                                                                             </td><td>Passeriformes                                                                                                                                    </td><td>Sylviidae                                                                                                                                        </td><td>Sylvia                                                                                                                                           </td><td>Sylvia_atricapilla                                                                                                                               </td><td>omnivore                                                                                                                                         </td><td>terrestrial habitat                                                                                                                              </td></tr>\n",
       "</tbody>\n",
       "</table>\n"
      ],
      "text/latex": [
       "\\begin{tabular}{r|lllllllll}\n",
       " Sample & TaxIDs & class & order & family & genus & scientific\\_name & diet & habitat\\\\\n",
       "\\hline\n",
       "\t X101\\_Horse                                                                                                                                                  & /ebio/abt3\\_projects/Georg\\_animal\\_feces/data/metagenome/HiSeqRuns126-133-0138/wOutVertebrata/LLMGP\\_sub5k/kraken/X101\\_Horse\\_bracken.tsv             & Mammalia                                                                                                                                                      & Perissodactyla                                                                                                                                                & Equidae                                                                                                                                                       & Equus                                                                                                                                                         & Equus\\_caballus                                                                                                                                              & herbivore                                                                                                                                                     & terrestrial habitat                                                                                                                                          \\\\\n",
       "\t X102\\_Kulan                                                                                                                                                  & /ebio/abt3\\_projects/Georg\\_animal\\_feces/data/metagenome/HiSeqRuns126-133-0138/wOutVertebrata/LLMGP\\_sub5k/kraken/X102\\_Kulan\\_bracken.tsv             & Mammalia                                                                                                                                                      & Perissodactyla                                                                                                                                                & Equidae                                                                                                                                                       & Equus                                                                                                                                                         & Equus\\_hemionus                                                                                                                                              & herbivore                                                                                                                                                     & terrestrial habitat                                                                                                                                          \\\\\n",
       "\t X103\\_Eurasian\\_Blackcap                                                                                                                                      & /ebio/abt3\\_projects/Georg\\_animal\\_feces/data/metagenome/HiSeqRuns126-133-0138/wOutVertebrata/LLMGP\\_sub5k/kraken/X103\\_Eurasian\\_Blackcap\\_bracken.tsv & Aves                                                                                                                                                            & Passeriformes                                                                                                                                                   & Sylviidae                                                                                                                                                       & Sylvia                                                                                                                                                          & Sylvia\\_atricapilla                                                                                                                                            & omnivore                                                                                                                                                        & terrestrial habitat                                                                                                                                            \\\\\n",
       "\\end{tabular}\n"
      ],
      "text/markdown": [
       "\n",
       "Sample | TaxIDs | class | order | family | genus | scientific_name | diet | habitat | \n",
       "|---|---|---|\n",
       "| X101_Horse                                                                                                                                        | /ebio/abt3_projects/Georg_animal_feces/data/metagenome/HiSeqRuns126-133-0138/wOutVertebrata/LLMGP_sub5k/kraken/X101_Horse_bracken.tsv             | Mammalia                                                                                                                                          | Perissodactyla                                                                                                                                    | Equidae                                                                                                                                           | Equus                                                                                                                                             | Equus_caballus                                                                                                                                    | herbivore                                                                                                                                         | terrestrial habitat                                                                                                                               | \n",
       "| X102_Kulan                                                                                                                                        | /ebio/abt3_projects/Georg_animal_feces/data/metagenome/HiSeqRuns126-133-0138/wOutVertebrata/LLMGP_sub5k/kraken/X102_Kulan_bracken.tsv             | Mammalia                                                                                                                                          | Perissodactyla                                                                                                                                    | Equidae                                                                                                                                           | Equus                                                                                                                                             | Equus_hemionus                                                                                                                                    | herbivore                                                                                                                                         | terrestrial habitat                                                                                                                               | \n",
       "| X103_Eurasian_Blackcap                                                                                                                            | /ebio/abt3_projects/Georg_animal_feces/data/metagenome/HiSeqRuns126-133-0138/wOutVertebrata/LLMGP_sub5k/kraken/X103_Eurasian_Blackcap_bracken.tsv | Aves                                                                                                                                              | Passeriformes                                                                                                                                     | Sylviidae                                                                                                                                         | Sylvia                                                                                                                                            | Sylvia_atricapilla                                                                                                                                | omnivore                                                                                                                                          | terrestrial habitat                                                                                                                               | \n",
       "\n",
       "\n"
      ],
      "text/plain": [
       "  Sample                \n",
       "1 X101_Horse            \n",
       "2 X102_Kulan            \n",
       "3 X103_Eurasian_Blackcap\n",
       "  TaxIDs                                                                                                                                           \n",
       "1 /ebio/abt3_projects/Georg_animal_feces/data/metagenome/HiSeqRuns126-133-0138/wOutVertebrata/LLMGP_sub5k/kraken/X101_Horse_bracken.tsv            \n",
       "2 /ebio/abt3_projects/Georg_animal_feces/data/metagenome/HiSeqRuns126-133-0138/wOutVertebrata/LLMGP_sub5k/kraken/X102_Kulan_bracken.tsv            \n",
       "3 /ebio/abt3_projects/Georg_animal_feces/data/metagenome/HiSeqRuns126-133-0138/wOutVertebrata/LLMGP_sub5k/kraken/X103_Eurasian_Blackcap_bracken.tsv\n",
       "  class    order          family    genus  scientific_name    diet     \n",
       "1 Mammalia Perissodactyla Equidae   Equus  Equus_caballus     herbivore\n",
       "2 Mammalia Perissodactyla Equidae   Equus  Equus_hemionus     herbivore\n",
       "3 Aves     Passeriformes  Sylviidae Sylvia Sylvia_atricapilla omnivore \n",
       "  habitat            \n",
       "1 terrestrial habitat\n",
       "2 terrestrial habitat\n",
       "3 terrestrial habitat"
      ]
     },
     "metadata": {},
     "output_type": "display_data"
    }
   ],
   "source": [
    "# joining\n",
    "taxIDs = taxIDs %>%\n",
    "    inner_join(meta, c('Sample'='SampleID')) \n",
    "\n",
    "taxIDs %>% dfhead"
   ]
  },
  {
   "cell_type": "code",
   "execution_count": 28,
   "metadata": {
    "ExecuteTime": {
     "end_time": "2019-07-19T07:08:30.355078Z",
     "start_time": "2019-07-19T07:08:30.289Z"
    }
   },
   "outputs": [
    {
     "data": {
      "text/html": [
       "<table>\n",
       "<thead><tr><th scope=col>class</th><th scope=col>n</th></tr></thead>\n",
       "<tbody>\n",
       "\t<tr><td>Actinopterygii</td><td> 27           </td></tr>\n",
       "\t<tr><td>Amphibia      </td><td>  8           </td></tr>\n",
       "\t<tr><td>Aves          </td><td> 63           </td></tr>\n",
       "\t<tr><td>Mammalia      </td><td>179           </td></tr>\n",
       "\t<tr><td>Reptilia      </td><td> 13           </td></tr>\n",
       "</tbody>\n",
       "</table>\n"
      ],
      "text/latex": [
       "\\begin{tabular}{r|ll}\n",
       " class & n\\\\\n",
       "\\hline\n",
       "\t Actinopterygii &  27           \\\\\n",
       "\t Amphibia       &   8           \\\\\n",
       "\t Aves           &  63           \\\\\n",
       "\t Mammalia       & 179           \\\\\n",
       "\t Reptilia       &  13           \\\\\n",
       "\\end{tabular}\n"
      ],
      "text/markdown": [
       "\n",
       "class | n | \n",
       "|---|---|---|---|---|\n",
       "| Actinopterygii |  27            | \n",
       "| Amphibia       |   8            | \n",
       "| Aves           |  63            | \n",
       "| Mammalia       | 179            | \n",
       "| Reptilia       |  13            | \n",
       "\n",
       "\n"
      ],
      "text/plain": [
       "  class          n  \n",
       "1 Actinopterygii  27\n",
       "2 Amphibia         8\n",
       "3 Aves            63\n",
       "4 Mammalia       179\n",
       "5 Reptilia        13"
      ]
     },
     "metadata": {},
     "output_type": "display_data"
    }
   ],
   "source": [
    "# all metadata \n",
    "taxIDs %>%\n",
    "    group_by(class) %>%\n",
    "    summarize(n = n()) %>%\n",
    "    ungroup()"
   ]
  },
  {
   "cell_type": "code",
   "execution_count": 31,
   "metadata": {
    "ExecuteTime": {
     "end_time": "2019-07-19T07:10:50.084360Z",
     "start_time": "2019-07-19T07:10:50.020Z"
    }
   },
   "outputs": [
    {
     "name": "stdout",
     "output_type": "stream",
     "text": [
      "[1] 179   9\n"
     ]
    },
    {
     "data": {
      "text/html": [
       "<table>\n",
       "<thead><tr><th scope=col>Sample</th><th scope=col>TaxIDs</th><th scope=col>class</th><th scope=col>order</th><th scope=col>family</th><th scope=col>genus</th><th scope=col>scientific_name</th><th scope=col>diet</th><th scope=col>habitat</th></tr></thead>\n",
       "<tbody>\n",
       "\t<tr><td>X101_Horse                                                                                                                                 </td><td>/ebio/abt3_projects/Georg_animal_feces/data/metagenome/HiSeqRuns126-133-0138/wOutVertebrata/LLMGP_sub5k/kraken/X101_Horse_bracken.tsv      </td><td>Mammalia                                                                                                                                   </td><td>Perissodactyla                                                                                                                             </td><td>Equidae                                                                                                                                    </td><td>Equus                                                                                                                                      </td><td>Equus_caballus                                                                                                                             </td><td>herbivore                                                                                                                                  </td><td>terrestrial habitat                                                                                                                        </td></tr>\n",
       "\t<tr><td>X102_Kulan                                                                                                                                 </td><td>/ebio/abt3_projects/Georg_animal_feces/data/metagenome/HiSeqRuns126-133-0138/wOutVertebrata/LLMGP_sub5k/kraken/X102_Kulan_bracken.tsv      </td><td>Mammalia                                                                                                                                   </td><td>Perissodactyla                                                                                                                             </td><td>Equidae                                                                                                                                    </td><td>Equus                                                                                                                                      </td><td>Equus_hemionus                                                                                                                             </td><td>herbivore                                                                                                                                  </td><td>terrestrial habitat                                                                                                                        </td></tr>\n",
       "\t<tr><td>X107_House_Mouse                                                                                                                           </td><td>/ebio/abt3_projects/Georg_animal_feces/data/metagenome/HiSeqRuns126-133-0138/wOutVertebrata/LLMGP_sub5k/kraken/X107_House_Mouse_bracken.tsv</td><td>Mammalia                                                                                                                                   </td><td>Rodentia                                                                                                                                   </td><td>Muridae                                                                                                                                    </td><td>Mus                                                                                                                                        </td><td>Mus_musculus                                                                                                                               </td><td>omnivore                                                                                                                                   </td><td>anthropogenic habitat                                                                                                                      </td></tr>\n",
       "</tbody>\n",
       "</table>\n"
      ],
      "text/latex": [
       "\\begin{tabular}{r|lllllllll}\n",
       " Sample & TaxIDs & class & order & family & genus & scientific\\_name & diet & habitat\\\\\n",
       "\\hline\n",
       "\t X101\\_Horse                                                                                                                                            & /ebio/abt3\\_projects/Georg\\_animal\\_feces/data/metagenome/HiSeqRuns126-133-0138/wOutVertebrata/LLMGP\\_sub5k/kraken/X101\\_Horse\\_bracken.tsv       & Mammalia                                                                                                                                                & Perissodactyla                                                                                                                                          & Equidae                                                                                                                                                 & Equus                                                                                                                                                   & Equus\\_caballus                                                                                                                                        & herbivore                                                                                                                                               & terrestrial habitat                                                                                                                                    \\\\\n",
       "\t X102\\_Kulan                                                                                                                                            & /ebio/abt3\\_projects/Georg\\_animal\\_feces/data/metagenome/HiSeqRuns126-133-0138/wOutVertebrata/LLMGP\\_sub5k/kraken/X102\\_Kulan\\_bracken.tsv       & Mammalia                                                                                                                                                & Perissodactyla                                                                                                                                          & Equidae                                                                                                                                                 & Equus                                                                                                                                                   & Equus\\_hemionus                                                                                                                                        & herbivore                                                                                                                                               & terrestrial habitat                                                                                                                                    \\\\\n",
       "\t X107\\_House\\_Mouse                                                                                                                                      & /ebio/abt3\\_projects/Georg\\_animal\\_feces/data/metagenome/HiSeqRuns126-133-0138/wOutVertebrata/LLMGP\\_sub5k/kraken/X107\\_House\\_Mouse\\_bracken.tsv & Mammalia                                                                                                                                                  & Rodentia                                                                                                                                                  & Muridae                                                                                                                                                   & Mus                                                                                                                                                       & Mus\\_musculus                                                                                                                                            & omnivore                                                                                                                                                  & anthropogenic habitat                                                                                                                                    \\\\\n",
       "\\end{tabular}\n"
      ],
      "text/markdown": [
       "\n",
       "Sample | TaxIDs | class | order | family | genus | scientific_name | diet | habitat | \n",
       "|---|---|---|\n",
       "| X101_Horse                                                                                                                                  | /ebio/abt3_projects/Georg_animal_feces/data/metagenome/HiSeqRuns126-133-0138/wOutVertebrata/LLMGP_sub5k/kraken/X101_Horse_bracken.tsv       | Mammalia                                                                                                                                    | Perissodactyla                                                                                                                              | Equidae                                                                                                                                     | Equus                                                                                                                                       | Equus_caballus                                                                                                                              | herbivore                                                                                                                                   | terrestrial habitat                                                                                                                         | \n",
       "| X102_Kulan                                                                                                                                  | /ebio/abt3_projects/Georg_animal_feces/data/metagenome/HiSeqRuns126-133-0138/wOutVertebrata/LLMGP_sub5k/kraken/X102_Kulan_bracken.tsv       | Mammalia                                                                                                                                    | Perissodactyla                                                                                                                              | Equidae                                                                                                                                     | Equus                                                                                                                                       | Equus_hemionus                                                                                                                              | herbivore                                                                                                                                   | terrestrial habitat                                                                                                                         | \n",
       "| X107_House_Mouse                                                                                                                            | /ebio/abt3_projects/Georg_animal_feces/data/metagenome/HiSeqRuns126-133-0138/wOutVertebrata/LLMGP_sub5k/kraken/X107_House_Mouse_bracken.tsv | Mammalia                                                                                                                                    | Rodentia                                                                                                                                    | Muridae                                                                                                                                     | Mus                                                                                                                                         | Mus_musculus                                                                                                                                | omnivore                                                                                                                                    | anthropogenic habitat                                                                                                                       | \n",
       "\n",
       "\n"
      ],
      "text/plain": [
       "  Sample          \n",
       "1 X101_Horse      \n",
       "2 X102_Kulan      \n",
       "3 X107_House_Mouse\n",
       "  TaxIDs                                                                                                                                     \n",
       "1 /ebio/abt3_projects/Georg_animal_feces/data/metagenome/HiSeqRuns126-133-0138/wOutVertebrata/LLMGP_sub5k/kraken/X101_Horse_bracken.tsv      \n",
       "2 /ebio/abt3_projects/Georg_animal_feces/data/metagenome/HiSeqRuns126-133-0138/wOutVertebrata/LLMGP_sub5k/kraken/X102_Kulan_bracken.tsv      \n",
       "3 /ebio/abt3_projects/Georg_animal_feces/data/metagenome/HiSeqRuns126-133-0138/wOutVertebrata/LLMGP_sub5k/kraken/X107_House_Mouse_bracken.tsv\n",
       "  class    order          family  genus scientific_name diet     \n",
       "1 Mammalia Perissodactyla Equidae Equus Equus_caballus  herbivore\n",
       "2 Mammalia Perissodactyla Equidae Equus Equus_hemionus  herbivore\n",
       "3 Mammalia Rodentia       Muridae Mus   Mus_musculus    omnivore \n",
       "  habitat              \n",
       "1 terrestrial habitat  \n",
       "2 terrestrial habitat  \n",
       "3 anthropogenic habitat"
      ]
     },
     "metadata": {},
     "output_type": "display_data"
    }
   ],
   "source": [
    "taxIDs_f = taxIDs %>%\n",
    "    filter(class == 'Mammalia') \n",
    "\n",
    "taxIDs_f %>% dfhead"
   ]
  },
  {
   "cell_type": "code",
   "execution_count": 34,
   "metadata": {
    "ExecuteTime": {
     "end_time": "2019-07-19T07:11:51.765998Z",
     "start_time": "2019-07-19T07:11:51.713Z"
    }
   },
   "outputs": [
    {
     "name": "stdout",
     "output_type": "stream",
     "text": [
      "File written: /ebio/abt3_projects/Georg_animal_feces/data/metagenome/HiSeqRuns126-133-0138/wOutVertebrata/MG_assembly_mam/LLMGA-find-refs//LLMGP_bracken_taxIDs_mam.tsv \n"
     ]
    }
   ],
   "source": [
    "outF = file.path(work_dir, 'LLMGP_bracken_taxIDs_mam.tsv')\n",
    "taxIDs_f %>%\n",
    "    arrange(class, order, family, genus) %>%\n",
    "    write.table(outF, sep='\\t', quote=FALSE, row.names=FALSE)\n",
    "cat('File written:', outF, '\\n')"
   ]
  },
  {
   "cell_type": "markdown",
   "metadata": {},
   "source": [
    "# llmga-find-refs"
   ]
  },
  {
   "cell_type": "code",
   "execution_count": 33,
   "metadata": {
    "ExecuteTime": {
     "end_time": "2019-07-19T07:11:47.137742Z",
     "start_time": "2019-07-19T07:11:47.081Z"
    }
   },
   "outputs": [
    {
     "name": "stdout",
     "output_type": "stream",
     "text": [
      "#-- I/O --#\n",
      "# table with sample --> read_file information\n",
      "samples_file: /ebio/abt3_projects/Georg_animal_feces/data/metagenome/HiSeqRuns126-133-0138/wOutVertebrata/MG_assembly_mam/LLMGA-find-ref/LLMGP_bracken_taxIDs_mam.tsv\n",
      "\n",
      "# output location\n",
      "output_dir: /ebio/abt3_projects/Georg_animal_feces/data/metagenome/HiSeqRuns126-133-0138/wOutVertebrata/MG_assembly_mam/LLMGA-find-ref/\n",
      "\n",
      "#-- database --#\n",
      "centrifuge_db: /ebio/abt3_projects/databases_no-backup/centrifuge/p+h+v\n",
      "taxonomy_db: /ebio/abt3_projects/databases_no-backup/NCBI_genome/NCBI_taxid_db/taxa.sqlite\n",
      "\n",
      "#-- software parameters --#\n",
      "params:\n",
      "  # If providing paired-end reads\n",
      "  seqtk: 1000000          # subsampled read pairs per sample; use \"Skip\" to skip\n",
      "  centrifuge: \"\"          # for taxonomic profiling unless providing \"TaxID\" column\n",
      "  # If providing tables of TaxIDs instead of reads\n",
      "  taxID_column: taxonomy_id                # column in the table(s) containing the taxIDs\n",
      "  abundance_column: fraction_total_reads   # column in the table(s) containing the abundances\n",
      "  # Genome download & derep\n",
      "  abund_cutoff: 0.01       # taxon must have >= max(abundance) among samples\n",
      "  ncbi_genome_download: archaea,bacteria,viral -s refseq -l complete --retries 3\n",
      "  drep: --ignoreGenomeQuality --length 10000 --P_ani 0.9 --S_ani 0.99   # use \"Skip\" to skip\n",
      "\n",
      "#-- snakemake pipeline --#\n",
      "pipeline:\n",
      "  snakemake_folder: ./\n",
      "  script_folder: bin/scripts/\n",
      "  temp_folder: /tmp/global2/     # <-- your username will be added to this\n"
     ]
    }
   ],
   "source": [
    "F = file.path(work_dir, 'config.yaml')\n",
    "cat_file(F)"
   ]
  },
  {
   "cell_type": "markdown",
   "metadata": {},
   "source": [
    "# Summary"
   ]
  },
  {
   "cell_type": "code",
   "execution_count": 38,
   "metadata": {
    "ExecuteTime": {
     "end_time": "2019-07-20T04:23:30.558970Z",
     "start_time": "2019-07-20T04:23:30.498Z"
    }
   },
   "outputs": [
    {
     "data": {
      "text/html": [
       "<ol class=list-inline>\n",
       "\t<li>'GCF_000007785.1_ASM778v1_genomic.fna'</li>\n",
       "\t<li>'GCF_000009685.1_ASM968v1_genomic.fna'</li>\n",
       "\t<li>'GCF_000010105.1_ASM1010v1_genomic.fna'</li>\n",
       "\t<li>'GCF_000010425.1_ASM1042v1_genomic.fna'</li>\n",
       "\t<li>'GCF_000011065.1_ASM1106v1_genomic.fna'</li>\n",
       "\t<li>'GCF_000012005.1_ASM1200v1_genomic.fna'</li>\n",
       "\t<li>'GCF_000012545.1_ASM1254v1_genomic.fna'</li>\n",
       "\t<li>'GCF_000012825.1_ASM1282v1_genomic.fna'</li>\n",
       "\t<li>'GCF_000012845.1_ASM1284v1_genomic.fna'</li>\n",
       "\t<li>'GCF_000013285.1_ASM1328v1_genomic.fna'</li>\n",
       "\t<li>'GCF_000013305.1_ASM1330v1_genomic.fna'</li>\n",
       "\t<li>'GCF_000014125.1_ASM1412v1_genomic.fna'</li>\n",
       "\t<li>'GCF_000014445.1_ASM1444v1_genomic.fna'</li>\n",
       "\t<li>'GCF_000014505.1_ASM1450v1_genomic.fna'</li>\n",
       "\t<li>'GCF_000016325.1_ASM1632v1_genomic.fna'</li>\n",
       "\t<li>'GCF_000016525.1_ASM1652v1_genomic.fna'</li>\n",
       "\t<li>'GCF_000017205.1_ASM1720v1_genomic.fna'</li>\n",
       "\t<li>'GCF_000017425.1_ASM1742v1_genomic.fna'</li>\n",
       "\t<li>'GCF_000018045.1_ASM1804v1_genomic.fna'</li>\n",
       "\t<li>'GCF_000019645.1_ASM1964v1_genomic.fna'</li>\n",
       "\t<li>'GCF_000020225.1_ASM2022v1_genomic.fna'</li>\n",
       "\t<li>'GCF_000020605.1_ASM2060v1_genomic.fna'</li>\n",
       "\t<li>'GCF_000021125.1_ASM2112v1_genomic.fna'</li>\n",
       "\t<li>'GCF_000025045.1_ASM2504v1_genomic.fna'</li>\n",
       "\t<li>'GCF_000025465.1_ASM2546v1_genomic.fna'</li>\n",
       "\t<li>'GCF_000025565.1_ASM2556v1_genomic.fna'</li>\n",
       "\t<li>'GCF_000025745.1_ASM2574v1_genomic.fna'</li>\n",
       "\t<li>'GCF_000026225.1_ASM2622v1_genomic.fna'</li>\n",
       "\t<li>'GCF_000027065.2_ASM2706v1_genomic.fna'</li>\n",
       "\t<li>'GCF_000027085.1_ASM2708v1_genomic.fna'</li>\n",
       "\t<li>'GCF_000027125.1_ASM2712v1_genomic.fna'</li>\n",
       "\t<li>'GCF_000069965.1_ASM6996v1_genomic.fna'</li>\n",
       "\t<li>'GCF_000143205.1_ASM14320v1_genomic.fna'</li>\n",
       "\t<li>'GCF_000144625.1_ASM14462v1_genomic.fna'</li>\n",
       "\t<li>'GCF_000146185.1_ASM14618v1_genomic.fna'</li>\n",
       "\t<li>'GCF_000157355.2_ASM15735v2_genomic.fna'</li>\n",
       "\t<li>'GCF_000190535.1_ASM19053v1_genomic.fna'</li>\n",
       "\t<li>'GCF_000195275.1_ASM19527v1_genomic.fna'</li>\n",
       "\t<li>'GCF_000195575.1_ASM19557v1_genomic.fna'</li>\n",
       "\t<li>'GCF_000196615.1_ASM19661v1_genomic.fna'</li>\n",
       "\t<li>'GCF_000197735.1_ASM19773v1_genomic.fna'</li>\n",
       "\t<li>'GCF_000210835.1_ASM21083v1_genomic.fna'</li>\n",
       "\t<li>'GCF_000212715.2_ASM21271v2_genomic.fna'</li>\n",
       "\t<li>'GCF_000215745.1_ASM21574v1_genomic.fna'</li>\n",
       "\t<li>'GCF_000219515.2_ASM21951v3_genomic.fna'</li>\n",
       "\t<li>'GCF_000227625.1_ASM22762v1_genomic.fna'</li>\n",
       "\t<li>'GCF_000235765.1_ASM23576v3_genomic.fna'</li>\n",
       "\t<li>'GCF_000236475.1_ASM23647v1_genomic.fna'</li>\n",
       "\t<li>'GCF_000270145.1_ASM27014v1_genomic.fna'</li>\n",
       "\t<li>'GCF_000270165.1_ASM27016v1_genomic.fna'</li>\n",
       "\t<li>'GCF_000271405.2_ASM27140v2_genomic.fna'</li>\n",
       "\t<li>'GCF_000286435.2_ASM28643v2_genomic.fna'</li>\n",
       "\t<li>'GCF_000317975.2_ASM31797v2_genomic.fna'</li>\n",
       "\t<li>'GCF_000334515.1_ASM33451v1_genomic.fna'</li>\n",
       "\t<li>'GCF_000344575.1_ASM34457v1_genomic.fna'</li>\n",
       "\t<li>'GCF_000348565.1_ASM34856v1_genomic.fna'</li>\n",
       "\t<li>'GCF_000349975.1_ASM34997v1_genomic.fna'</li>\n",
       "\t<li>'GCF_000404165.1_ASM40416v1_genomic.fna'</li>\n",
       "\t<li>'GCF_000441535.1_ASM44153v1_genomic.fna'</li>\n",
       "\t<li>'GCF_000444405.1_ASM44440v1_genomic.fna'</li>\n",
       "\t<li>'GCF_000454045.1_ASM45404v1_genomic.fna'</li>\n",
       "\t<li>'GCF_000468955.1_ASM46895v1_genomic.fna'</li>\n",
       "\t<li>'GCF_000473745.2_ASM47374v3_genomic.fna'</li>\n",
       "\t<li>'GCF_000479375.3_ASM47937v3_genomic.fna'</li>\n",
       "\t<li>'GCF_000496265.1_ASM49626v1_genomic.fna'</li>\n",
       "\t<li>'GCF_000496455.2_ASM49645v2_genomic.fna'</li>\n",
       "\t<li>'GCF_000504125.1_ASM50412v1_genomic.fna'</li>\n",
       "\t<li>'GCF_000512125.1_ASM51212v1_genomic.fna'</li>\n",
       "\t<li>'GCF_000520035.1_ASM52003v1_genomic.fna'</li>\n",
       "\t<li>'GCF_000597785.2_ASM59778v2_genomic.fna'</li>\n",
       "\t<li>'GCF_000648515.1_ASM64851v1_genomic.fna'</li>\n",
       "\t<li>'GCF_000696675.2_ASM69667v2_genomic.fna'</li>\n",
       "\t<li>'GCF_000709455.1_ASM70945v1_genomic.fna'</li>\n",
       "\t<li>'GCF_000714595.1_ASM71459v1_genomic.fna'</li>\n",
       "\t<li>'GCF_000714655.1_ASM71465v1_genomic.fna'</li>\n",
       "\t<li>'GCF_000714675.1_ASM71467v1_genomic.fna'</li>\n",
       "\t<li>'GCF_000723465.1_Rb803_genomic.fna'</li>\n",
       "\t<li>'GCF_000737555.1_ASM73755v1_genomic.fna'</li>\n",
       "\t<li>'GCF_000750225.1_ASM75022v1_genomic.fna'</li>\n",
       "\t<li>'GCF_000757795.1_ASM75779v1_genomic.fna'</li>\n",
       "\t<li>'GCF_000800475.2_ASM80047v2_genomic.fna'</li>\n",
       "\t<li>'GCF_000807405.2_ASM80740v4_genomic.fna'</li>\n",
       "\t<li>'GCF_000814125.3_ASM81412v3_genomic.fna'</li>\n",
       "\t<li>'GCF_000980815.1_ASM98081v1_genomic.fna'</li>\n",
       "\t<li>'GCF_001021635.2_ASM102163v2_genomic.fna'</li>\n",
       "\t<li>'GCF_001281005.1_ASM128100v1_genomic.fna'</li>\n",
       "\t<li>'GCF_001307195.1_ASM130719v1_genomic.fna'</li>\n",
       "\t<li>'GCF_001477655.1_ASM147765v1_genomic.fna'</li>\n",
       "\t<li>'GCF_001484935.1_ASM148493v1_genomic.fna'</li>\n",
       "\t<li>'GCF_001517405.1_EM595_genomic.fna'</li>\n",
       "\t<li>'GCF_001548675.1_ASM154867v1_genomic.fna'</li>\n",
       "\t<li>'GCF_001578125.1_ASM157812v1_genomic.fna'</li>\n",
       "\t<li>'GCF_001612555.1_ASM161255v1_genomic.fna'</li>\n",
       "\t<li>'GCF_001640865.1_ASM164086v1_genomic.fna'</li>\n",
       "\t<li>'GCF_001647675.1_ASM164767v1_genomic.fna'</li>\n",
       "\t<li>'GCF_001687565.2_ASM168756v2_genomic.fna'</li>\n",
       "\t<li>'GCF_001688845.2_ASM168884v2_genomic.fna'</li>\n",
       "\t<li>'GCF_001701045.1_ASM170104v1_genomic.fna'</li>\n",
       "\t<li>'GCF_001729705.1_ASM172970v1_genomic.fna'</li>\n",
       "\t<li>'GCF_001874485.1_ASM187448v1_genomic.fna'</li>\n",
       "\t<li>'GCF_001877035.1_ASM187703v1_genomic.fna'</li>\n",
       "\t<li>'GCF_001887265.1_ASM188726v1_genomic.fna'</li>\n",
       "\t<li>'GCF_002000985.1_ASM200098v1_genomic.fna'</li>\n",
       "\t<li>'GCF_002056725.1_ASM205672v1_genomic.fna'</li>\n",
       "\t<li>'GCF_002090195.1_ASM209019v1_genomic.fna'</li>\n",
       "\t<li>'GCF_002222595.2_ASM222259v2_genomic.fna'</li>\n",
       "\t<li>'GCF_002442935.1_ASM244293v1_genomic.fna'</li>\n",
       "\t<li>'GCF_002706665.1_ASM270666v1_genomic.fna'</li>\n",
       "\t<li>'GCF_002735225.1_ASM273522v1_genomic.fna'</li>\n",
       "\t<li>'GCF_002736105.1_ASM273610v1_genomic.fna'</li>\n",
       "\t<li>'GCF_002814115.1_ASM281411v1_genomic.fna'</li>\n",
       "\t<li>'GCF_003019315.1_ASM301931v1_genomic.fna'</li>\n",
       "\t<li>'GCF_003019655.1_ASM301965v1_genomic.fna'</li>\n",
       "\t<li>'GCF_003097575.1_ASM309757v1_genomic.fna'</li>\n",
       "\t<li>'GCF_003112145.1_ASM311214v1_genomic.fna'</li>\n",
       "\t<li>'GCF_003112225.1_ASM311222v1_genomic.fna'</li>\n",
       "\t<li>'GCF_003254805.1_ASM325480v1_genomic.fna'</li>\n",
       "\t<li>'GCF_003692675.1_ASM369267v1_genomic.fna'</li>\n",
       "\t<li>'GCF_004101825.1_ASM410182v1_genomic.fna'</li>\n",
       "\t<li>'GCF_004295125.1_ASM429512v1_genomic.fna'</li>\n",
       "\t<li>'GCF_004801555.1_ASM480155v1_genomic.fna'</li>\n",
       "\t<li>'GCF_005886215.1_ASM588621v1_genomic.fna'</li>\n",
       "\t<li>'GCF_006777045.1_ASM677704v1_genomic.fna'</li>\n",
       "\t<li>'GCF_900095495.1_B_ovatus_V975_genomic.fna'</li>\n",
       "\t<li>'GCF_900097105.1_WK001_genomic.fna'</li>\n",
       "\t<li>'GCF_900199375.1_G142160_polished_assembly_ID17483_genomic.fna'</li>\n",
       "\t<li>'GCF_900537995.1_Roseburia_intestinalis_strain_L1-82_genomic.fna'</li>\n",
       "\t<li>'GCF_900683725.1_Parabacteroides_distasonis_82G9_genomic.fna'</li>\n",
       "\t<li>'GCF_900683735.1_Fusobacterium_ulcerans_81A6_genomic.fna'</li>\n",
       "\t<li>'GCF_900683745.1_Paraprevotella_xylaniphila_82A6_genomic.fna'</li>\n",
       "\t<li>'GCF_900683755.1_ASM90068375v1_genomic.fna'</li>\n",
       "\t<li>'GCF_900683765.1_Phascolarctobacterium_succinatutens_82G5_genomic.fna'</li>\n",
       "</ol>\n"
      ],
      "text/latex": [
       "\\begin{enumerate*}\n",
       "\\item 'GCF\\_000007785.1\\_ASM778v1\\_genomic.fna'\n",
       "\\item 'GCF\\_000009685.1\\_ASM968v1\\_genomic.fna'\n",
       "\\item 'GCF\\_000010105.1\\_ASM1010v1\\_genomic.fna'\n",
       "\\item 'GCF\\_000010425.1\\_ASM1042v1\\_genomic.fna'\n",
       "\\item 'GCF\\_000011065.1\\_ASM1106v1\\_genomic.fna'\n",
       "\\item 'GCF\\_000012005.1\\_ASM1200v1\\_genomic.fna'\n",
       "\\item 'GCF\\_000012545.1\\_ASM1254v1\\_genomic.fna'\n",
       "\\item 'GCF\\_000012825.1\\_ASM1282v1\\_genomic.fna'\n",
       "\\item 'GCF\\_000012845.1\\_ASM1284v1\\_genomic.fna'\n",
       "\\item 'GCF\\_000013285.1\\_ASM1328v1\\_genomic.fna'\n",
       "\\item 'GCF\\_000013305.1\\_ASM1330v1\\_genomic.fna'\n",
       "\\item 'GCF\\_000014125.1\\_ASM1412v1\\_genomic.fna'\n",
       "\\item 'GCF\\_000014445.1\\_ASM1444v1\\_genomic.fna'\n",
       "\\item 'GCF\\_000014505.1\\_ASM1450v1\\_genomic.fna'\n",
       "\\item 'GCF\\_000016325.1\\_ASM1632v1\\_genomic.fna'\n",
       "\\item 'GCF\\_000016525.1\\_ASM1652v1\\_genomic.fna'\n",
       "\\item 'GCF\\_000017205.1\\_ASM1720v1\\_genomic.fna'\n",
       "\\item 'GCF\\_000017425.1\\_ASM1742v1\\_genomic.fna'\n",
       "\\item 'GCF\\_000018045.1\\_ASM1804v1\\_genomic.fna'\n",
       "\\item 'GCF\\_000019645.1\\_ASM1964v1\\_genomic.fna'\n",
       "\\item 'GCF\\_000020225.1\\_ASM2022v1\\_genomic.fna'\n",
       "\\item 'GCF\\_000020605.1\\_ASM2060v1\\_genomic.fna'\n",
       "\\item 'GCF\\_000021125.1\\_ASM2112v1\\_genomic.fna'\n",
       "\\item 'GCF\\_000025045.1\\_ASM2504v1\\_genomic.fna'\n",
       "\\item 'GCF\\_000025465.1\\_ASM2546v1\\_genomic.fna'\n",
       "\\item 'GCF\\_000025565.1\\_ASM2556v1\\_genomic.fna'\n",
       "\\item 'GCF\\_000025745.1\\_ASM2574v1\\_genomic.fna'\n",
       "\\item 'GCF\\_000026225.1\\_ASM2622v1\\_genomic.fna'\n",
       "\\item 'GCF\\_000027065.2\\_ASM2706v1\\_genomic.fna'\n",
       "\\item 'GCF\\_000027085.1\\_ASM2708v1\\_genomic.fna'\n",
       "\\item 'GCF\\_000027125.1\\_ASM2712v1\\_genomic.fna'\n",
       "\\item 'GCF\\_000069965.1\\_ASM6996v1\\_genomic.fna'\n",
       "\\item 'GCF\\_000143205.1\\_ASM14320v1\\_genomic.fna'\n",
       "\\item 'GCF\\_000144625.1\\_ASM14462v1\\_genomic.fna'\n",
       "\\item 'GCF\\_000146185.1\\_ASM14618v1\\_genomic.fna'\n",
       "\\item 'GCF\\_000157355.2\\_ASM15735v2\\_genomic.fna'\n",
       "\\item 'GCF\\_000190535.1\\_ASM19053v1\\_genomic.fna'\n",
       "\\item 'GCF\\_000195275.1\\_ASM19527v1\\_genomic.fna'\n",
       "\\item 'GCF\\_000195575.1\\_ASM19557v1\\_genomic.fna'\n",
       "\\item 'GCF\\_000196615.1\\_ASM19661v1\\_genomic.fna'\n",
       "\\item 'GCF\\_000197735.1\\_ASM19773v1\\_genomic.fna'\n",
       "\\item 'GCF\\_000210835.1\\_ASM21083v1\\_genomic.fna'\n",
       "\\item 'GCF\\_000212715.2\\_ASM21271v2\\_genomic.fna'\n",
       "\\item 'GCF\\_000215745.1\\_ASM21574v1\\_genomic.fna'\n",
       "\\item 'GCF\\_000219515.2\\_ASM21951v3\\_genomic.fna'\n",
       "\\item 'GCF\\_000227625.1\\_ASM22762v1\\_genomic.fna'\n",
       "\\item 'GCF\\_000235765.1\\_ASM23576v3\\_genomic.fna'\n",
       "\\item 'GCF\\_000236475.1\\_ASM23647v1\\_genomic.fna'\n",
       "\\item 'GCF\\_000270145.1\\_ASM27014v1\\_genomic.fna'\n",
       "\\item 'GCF\\_000270165.1\\_ASM27016v1\\_genomic.fna'\n",
       "\\item 'GCF\\_000271405.2\\_ASM27140v2\\_genomic.fna'\n",
       "\\item 'GCF\\_000286435.2\\_ASM28643v2\\_genomic.fna'\n",
       "\\item 'GCF\\_000317975.2\\_ASM31797v2\\_genomic.fna'\n",
       "\\item 'GCF\\_000334515.1\\_ASM33451v1\\_genomic.fna'\n",
       "\\item 'GCF\\_000344575.1\\_ASM34457v1\\_genomic.fna'\n",
       "\\item 'GCF\\_000348565.1\\_ASM34856v1\\_genomic.fna'\n",
       "\\item 'GCF\\_000349975.1\\_ASM34997v1\\_genomic.fna'\n",
       "\\item 'GCF\\_000404165.1\\_ASM40416v1\\_genomic.fna'\n",
       "\\item 'GCF\\_000441535.1\\_ASM44153v1\\_genomic.fna'\n",
       "\\item 'GCF\\_000444405.1\\_ASM44440v1\\_genomic.fna'\n",
       "\\item 'GCF\\_000454045.1\\_ASM45404v1\\_genomic.fna'\n",
       "\\item 'GCF\\_000468955.1\\_ASM46895v1\\_genomic.fna'\n",
       "\\item 'GCF\\_000473745.2\\_ASM47374v3\\_genomic.fna'\n",
       "\\item 'GCF\\_000479375.3\\_ASM47937v3\\_genomic.fna'\n",
       "\\item 'GCF\\_000496265.1\\_ASM49626v1\\_genomic.fna'\n",
       "\\item 'GCF\\_000496455.2\\_ASM49645v2\\_genomic.fna'\n",
       "\\item 'GCF\\_000504125.1\\_ASM50412v1\\_genomic.fna'\n",
       "\\item 'GCF\\_000512125.1\\_ASM51212v1\\_genomic.fna'\n",
       "\\item 'GCF\\_000520035.1\\_ASM52003v1\\_genomic.fna'\n",
       "\\item 'GCF\\_000597785.2\\_ASM59778v2\\_genomic.fna'\n",
       "\\item 'GCF\\_000648515.1\\_ASM64851v1\\_genomic.fna'\n",
       "\\item 'GCF\\_000696675.2\\_ASM69667v2\\_genomic.fna'\n",
       "\\item 'GCF\\_000709455.1\\_ASM70945v1\\_genomic.fna'\n",
       "\\item 'GCF\\_000714595.1\\_ASM71459v1\\_genomic.fna'\n",
       "\\item 'GCF\\_000714655.1\\_ASM71465v1\\_genomic.fna'\n",
       "\\item 'GCF\\_000714675.1\\_ASM71467v1\\_genomic.fna'\n",
       "\\item 'GCF\\_000723465.1\\_Rb803\\_genomic.fna'\n",
       "\\item 'GCF\\_000737555.1\\_ASM73755v1\\_genomic.fna'\n",
       "\\item 'GCF\\_000750225.1\\_ASM75022v1\\_genomic.fna'\n",
       "\\item 'GCF\\_000757795.1\\_ASM75779v1\\_genomic.fna'\n",
       "\\item 'GCF\\_000800475.2\\_ASM80047v2\\_genomic.fna'\n",
       "\\item 'GCF\\_000807405.2\\_ASM80740v4\\_genomic.fna'\n",
       "\\item 'GCF\\_000814125.3\\_ASM81412v3\\_genomic.fna'\n",
       "\\item 'GCF\\_000980815.1\\_ASM98081v1\\_genomic.fna'\n",
       "\\item 'GCF\\_001021635.2\\_ASM102163v2\\_genomic.fna'\n",
       "\\item 'GCF\\_001281005.1\\_ASM128100v1\\_genomic.fna'\n",
       "\\item 'GCF\\_001307195.1\\_ASM130719v1\\_genomic.fna'\n",
       "\\item 'GCF\\_001477655.1\\_ASM147765v1\\_genomic.fna'\n",
       "\\item 'GCF\\_001484935.1\\_ASM148493v1\\_genomic.fna'\n",
       "\\item 'GCF\\_001517405.1\\_EM595\\_genomic.fna'\n",
       "\\item 'GCF\\_001548675.1\\_ASM154867v1\\_genomic.fna'\n",
       "\\item 'GCF\\_001578125.1\\_ASM157812v1\\_genomic.fna'\n",
       "\\item 'GCF\\_001612555.1\\_ASM161255v1\\_genomic.fna'\n",
       "\\item 'GCF\\_001640865.1\\_ASM164086v1\\_genomic.fna'\n",
       "\\item 'GCF\\_001647675.1\\_ASM164767v1\\_genomic.fna'\n",
       "\\item 'GCF\\_001687565.2\\_ASM168756v2\\_genomic.fna'\n",
       "\\item 'GCF\\_001688845.2\\_ASM168884v2\\_genomic.fna'\n",
       "\\item 'GCF\\_001701045.1\\_ASM170104v1\\_genomic.fna'\n",
       "\\item 'GCF\\_001729705.1\\_ASM172970v1\\_genomic.fna'\n",
       "\\item 'GCF\\_001874485.1\\_ASM187448v1\\_genomic.fna'\n",
       "\\item 'GCF\\_001877035.1\\_ASM187703v1\\_genomic.fna'\n",
       "\\item 'GCF\\_001887265.1\\_ASM188726v1\\_genomic.fna'\n",
       "\\item 'GCF\\_002000985.1\\_ASM200098v1\\_genomic.fna'\n",
       "\\item 'GCF\\_002056725.1\\_ASM205672v1\\_genomic.fna'\n",
       "\\item 'GCF\\_002090195.1\\_ASM209019v1\\_genomic.fna'\n",
       "\\item 'GCF\\_002222595.2\\_ASM222259v2\\_genomic.fna'\n",
       "\\item 'GCF\\_002442935.1\\_ASM244293v1\\_genomic.fna'\n",
       "\\item 'GCF\\_002706665.1\\_ASM270666v1\\_genomic.fna'\n",
       "\\item 'GCF\\_002735225.1\\_ASM273522v1\\_genomic.fna'\n",
       "\\item 'GCF\\_002736105.1\\_ASM273610v1\\_genomic.fna'\n",
       "\\item 'GCF\\_002814115.1\\_ASM281411v1\\_genomic.fna'\n",
       "\\item 'GCF\\_003019315.1\\_ASM301931v1\\_genomic.fna'\n",
       "\\item 'GCF\\_003019655.1\\_ASM301965v1\\_genomic.fna'\n",
       "\\item 'GCF\\_003097575.1\\_ASM309757v1\\_genomic.fna'\n",
       "\\item 'GCF\\_003112145.1\\_ASM311214v1\\_genomic.fna'\n",
       "\\item 'GCF\\_003112225.1\\_ASM311222v1\\_genomic.fna'\n",
       "\\item 'GCF\\_003254805.1\\_ASM325480v1\\_genomic.fna'\n",
       "\\item 'GCF\\_003692675.1\\_ASM369267v1\\_genomic.fna'\n",
       "\\item 'GCF\\_004101825.1\\_ASM410182v1\\_genomic.fna'\n",
       "\\item 'GCF\\_004295125.1\\_ASM429512v1\\_genomic.fna'\n",
       "\\item 'GCF\\_004801555.1\\_ASM480155v1\\_genomic.fna'\n",
       "\\item 'GCF\\_005886215.1\\_ASM588621v1\\_genomic.fna'\n",
       "\\item 'GCF\\_006777045.1\\_ASM677704v1\\_genomic.fna'\n",
       "\\item 'GCF\\_900095495.1\\_B\\_ovatus\\_V975\\_genomic.fna'\n",
       "\\item 'GCF\\_900097105.1\\_WK001\\_genomic.fna'\n",
       "\\item 'GCF\\_900199375.1\\_G142160\\_polished\\_assembly\\_ID17483\\_genomic.fna'\n",
       "\\item 'GCF\\_900537995.1\\_Roseburia\\_intestinalis\\_strain\\_L1-82\\_genomic.fna'\n",
       "\\item 'GCF\\_900683725.1\\_Parabacteroides\\_distasonis\\_82G9\\_genomic.fna'\n",
       "\\item 'GCF\\_900683735.1\\_Fusobacterium\\_ulcerans\\_81A6\\_genomic.fna'\n",
       "\\item 'GCF\\_900683745.1\\_Paraprevotella\\_xylaniphila\\_82A6\\_genomic.fna'\n",
       "\\item 'GCF\\_900683755.1\\_ASM90068375v1\\_genomic.fna'\n",
       "\\item 'GCF\\_900683765.1\\_Phascolarctobacterium\\_succinatutens\\_82G5\\_genomic.fna'\n",
       "\\end{enumerate*}\n"
      ],
      "text/markdown": [
       "1. 'GCF_000007785.1_ASM778v1_genomic.fna'\n",
       "2. 'GCF_000009685.1_ASM968v1_genomic.fna'\n",
       "3. 'GCF_000010105.1_ASM1010v1_genomic.fna'\n",
       "4. 'GCF_000010425.1_ASM1042v1_genomic.fna'\n",
       "5. 'GCF_000011065.1_ASM1106v1_genomic.fna'\n",
       "6. 'GCF_000012005.1_ASM1200v1_genomic.fna'\n",
       "7. 'GCF_000012545.1_ASM1254v1_genomic.fna'\n",
       "8. 'GCF_000012825.1_ASM1282v1_genomic.fna'\n",
       "9. 'GCF_000012845.1_ASM1284v1_genomic.fna'\n",
       "10. 'GCF_000013285.1_ASM1328v1_genomic.fna'\n",
       "11. 'GCF_000013305.1_ASM1330v1_genomic.fna'\n",
       "12. 'GCF_000014125.1_ASM1412v1_genomic.fna'\n",
       "13. 'GCF_000014445.1_ASM1444v1_genomic.fna'\n",
       "14. 'GCF_000014505.1_ASM1450v1_genomic.fna'\n",
       "15. 'GCF_000016325.1_ASM1632v1_genomic.fna'\n",
       "16. 'GCF_000016525.1_ASM1652v1_genomic.fna'\n",
       "17. 'GCF_000017205.1_ASM1720v1_genomic.fna'\n",
       "18. 'GCF_000017425.1_ASM1742v1_genomic.fna'\n",
       "19. 'GCF_000018045.1_ASM1804v1_genomic.fna'\n",
       "20. 'GCF_000019645.1_ASM1964v1_genomic.fna'\n",
       "21. 'GCF_000020225.1_ASM2022v1_genomic.fna'\n",
       "22. 'GCF_000020605.1_ASM2060v1_genomic.fna'\n",
       "23. 'GCF_000021125.1_ASM2112v1_genomic.fna'\n",
       "24. 'GCF_000025045.1_ASM2504v1_genomic.fna'\n",
       "25. 'GCF_000025465.1_ASM2546v1_genomic.fna'\n",
       "26. 'GCF_000025565.1_ASM2556v1_genomic.fna'\n",
       "27. 'GCF_000025745.1_ASM2574v1_genomic.fna'\n",
       "28. 'GCF_000026225.1_ASM2622v1_genomic.fna'\n",
       "29. 'GCF_000027065.2_ASM2706v1_genomic.fna'\n",
       "30. 'GCF_000027085.1_ASM2708v1_genomic.fna'\n",
       "31. 'GCF_000027125.1_ASM2712v1_genomic.fna'\n",
       "32. 'GCF_000069965.1_ASM6996v1_genomic.fna'\n",
       "33. 'GCF_000143205.1_ASM14320v1_genomic.fna'\n",
       "34. 'GCF_000144625.1_ASM14462v1_genomic.fna'\n",
       "35. 'GCF_000146185.1_ASM14618v1_genomic.fna'\n",
       "36. 'GCF_000157355.2_ASM15735v2_genomic.fna'\n",
       "37. 'GCF_000190535.1_ASM19053v1_genomic.fna'\n",
       "38. 'GCF_000195275.1_ASM19527v1_genomic.fna'\n",
       "39. 'GCF_000195575.1_ASM19557v1_genomic.fna'\n",
       "40. 'GCF_000196615.1_ASM19661v1_genomic.fna'\n",
       "41. 'GCF_000197735.1_ASM19773v1_genomic.fna'\n",
       "42. 'GCF_000210835.1_ASM21083v1_genomic.fna'\n",
       "43. 'GCF_000212715.2_ASM21271v2_genomic.fna'\n",
       "44. 'GCF_000215745.1_ASM21574v1_genomic.fna'\n",
       "45. 'GCF_000219515.2_ASM21951v3_genomic.fna'\n",
       "46. 'GCF_000227625.1_ASM22762v1_genomic.fna'\n",
       "47. 'GCF_000235765.1_ASM23576v3_genomic.fna'\n",
       "48. 'GCF_000236475.1_ASM23647v1_genomic.fna'\n",
       "49. 'GCF_000270145.1_ASM27014v1_genomic.fna'\n",
       "50. 'GCF_000270165.1_ASM27016v1_genomic.fna'\n",
       "51. 'GCF_000271405.2_ASM27140v2_genomic.fna'\n",
       "52. 'GCF_000286435.2_ASM28643v2_genomic.fna'\n",
       "53. 'GCF_000317975.2_ASM31797v2_genomic.fna'\n",
       "54. 'GCF_000334515.1_ASM33451v1_genomic.fna'\n",
       "55. 'GCF_000344575.1_ASM34457v1_genomic.fna'\n",
       "56. 'GCF_000348565.1_ASM34856v1_genomic.fna'\n",
       "57. 'GCF_000349975.1_ASM34997v1_genomic.fna'\n",
       "58. 'GCF_000404165.1_ASM40416v1_genomic.fna'\n",
       "59. 'GCF_000441535.1_ASM44153v1_genomic.fna'\n",
       "60. 'GCF_000444405.1_ASM44440v1_genomic.fna'\n",
       "61. 'GCF_000454045.1_ASM45404v1_genomic.fna'\n",
       "62. 'GCF_000468955.1_ASM46895v1_genomic.fna'\n",
       "63. 'GCF_000473745.2_ASM47374v3_genomic.fna'\n",
       "64. 'GCF_000479375.3_ASM47937v3_genomic.fna'\n",
       "65. 'GCF_000496265.1_ASM49626v1_genomic.fna'\n",
       "66. 'GCF_000496455.2_ASM49645v2_genomic.fna'\n",
       "67. 'GCF_000504125.1_ASM50412v1_genomic.fna'\n",
       "68. 'GCF_000512125.1_ASM51212v1_genomic.fna'\n",
       "69. 'GCF_000520035.1_ASM52003v1_genomic.fna'\n",
       "70. 'GCF_000597785.2_ASM59778v2_genomic.fna'\n",
       "71. 'GCF_000648515.1_ASM64851v1_genomic.fna'\n",
       "72. 'GCF_000696675.2_ASM69667v2_genomic.fna'\n",
       "73. 'GCF_000709455.1_ASM70945v1_genomic.fna'\n",
       "74. 'GCF_000714595.1_ASM71459v1_genomic.fna'\n",
       "75. 'GCF_000714655.1_ASM71465v1_genomic.fna'\n",
       "76. 'GCF_000714675.1_ASM71467v1_genomic.fna'\n",
       "77. 'GCF_000723465.1_Rb803_genomic.fna'\n",
       "78. 'GCF_000737555.1_ASM73755v1_genomic.fna'\n",
       "79. 'GCF_000750225.1_ASM75022v1_genomic.fna'\n",
       "80. 'GCF_000757795.1_ASM75779v1_genomic.fna'\n",
       "81. 'GCF_000800475.2_ASM80047v2_genomic.fna'\n",
       "82. 'GCF_000807405.2_ASM80740v4_genomic.fna'\n",
       "83. 'GCF_000814125.3_ASM81412v3_genomic.fna'\n",
       "84. 'GCF_000980815.1_ASM98081v1_genomic.fna'\n",
       "85. 'GCF_001021635.2_ASM102163v2_genomic.fna'\n",
       "86. 'GCF_001281005.1_ASM128100v1_genomic.fna'\n",
       "87. 'GCF_001307195.1_ASM130719v1_genomic.fna'\n",
       "88. 'GCF_001477655.1_ASM147765v1_genomic.fna'\n",
       "89. 'GCF_001484935.1_ASM148493v1_genomic.fna'\n",
       "90. 'GCF_001517405.1_EM595_genomic.fna'\n",
       "91. 'GCF_001548675.1_ASM154867v1_genomic.fna'\n",
       "92. 'GCF_001578125.1_ASM157812v1_genomic.fna'\n",
       "93. 'GCF_001612555.1_ASM161255v1_genomic.fna'\n",
       "94. 'GCF_001640865.1_ASM164086v1_genomic.fna'\n",
       "95. 'GCF_001647675.1_ASM164767v1_genomic.fna'\n",
       "96. 'GCF_001687565.2_ASM168756v2_genomic.fna'\n",
       "97. 'GCF_001688845.2_ASM168884v2_genomic.fna'\n",
       "98. 'GCF_001701045.1_ASM170104v1_genomic.fna'\n",
       "99. 'GCF_001729705.1_ASM172970v1_genomic.fna'\n",
       "100. 'GCF_001874485.1_ASM187448v1_genomic.fna'\n",
       "101. 'GCF_001877035.1_ASM187703v1_genomic.fna'\n",
       "102. 'GCF_001887265.1_ASM188726v1_genomic.fna'\n",
       "103. 'GCF_002000985.1_ASM200098v1_genomic.fna'\n",
       "104. 'GCF_002056725.1_ASM205672v1_genomic.fna'\n",
       "105. 'GCF_002090195.1_ASM209019v1_genomic.fna'\n",
       "106. 'GCF_002222595.2_ASM222259v2_genomic.fna'\n",
       "107. 'GCF_002442935.1_ASM244293v1_genomic.fna'\n",
       "108. 'GCF_002706665.1_ASM270666v1_genomic.fna'\n",
       "109. 'GCF_002735225.1_ASM273522v1_genomic.fna'\n",
       "110. 'GCF_002736105.1_ASM273610v1_genomic.fna'\n",
       "111. 'GCF_002814115.1_ASM281411v1_genomic.fna'\n",
       "112. 'GCF_003019315.1_ASM301931v1_genomic.fna'\n",
       "113. 'GCF_003019655.1_ASM301965v1_genomic.fna'\n",
       "114. 'GCF_003097575.1_ASM309757v1_genomic.fna'\n",
       "115. 'GCF_003112145.1_ASM311214v1_genomic.fna'\n",
       "116. 'GCF_003112225.1_ASM311222v1_genomic.fna'\n",
       "117. 'GCF_003254805.1_ASM325480v1_genomic.fna'\n",
       "118. 'GCF_003692675.1_ASM369267v1_genomic.fna'\n",
       "119. 'GCF_004101825.1_ASM410182v1_genomic.fna'\n",
       "120. 'GCF_004295125.1_ASM429512v1_genomic.fna'\n",
       "121. 'GCF_004801555.1_ASM480155v1_genomic.fna'\n",
       "122. 'GCF_005886215.1_ASM588621v1_genomic.fna'\n",
       "123. 'GCF_006777045.1_ASM677704v1_genomic.fna'\n",
       "124. 'GCF_900095495.1_B_ovatus_V975_genomic.fna'\n",
       "125. 'GCF_900097105.1_WK001_genomic.fna'\n",
       "126. 'GCF_900199375.1_G142160_polished_assembly_ID17483_genomic.fna'\n",
       "127. 'GCF_900537995.1_Roseburia_intestinalis_strain_L1-82_genomic.fna'\n",
       "128. 'GCF_900683725.1_Parabacteroides_distasonis_82G9_genomic.fna'\n",
       "129. 'GCF_900683735.1_Fusobacterium_ulcerans_81A6_genomic.fna'\n",
       "130. 'GCF_900683745.1_Paraprevotella_xylaniphila_82A6_genomic.fna'\n",
       "131. 'GCF_900683755.1_ASM90068375v1_genomic.fna'\n",
       "132. 'GCF_900683765.1_Phascolarctobacterium_succinatutens_82G5_genomic.fna'\n",
       "\n",
       "\n"
      ],
      "text/plain": [
       "  [1] \"GCF_000007785.1_ASM778v1_genomic.fna\"                                \n",
       "  [2] \"GCF_000009685.1_ASM968v1_genomic.fna\"                                \n",
       "  [3] \"GCF_000010105.1_ASM1010v1_genomic.fna\"                               \n",
       "  [4] \"GCF_000010425.1_ASM1042v1_genomic.fna\"                               \n",
       "  [5] \"GCF_000011065.1_ASM1106v1_genomic.fna\"                               \n",
       "  [6] \"GCF_000012005.1_ASM1200v1_genomic.fna\"                               \n",
       "  [7] \"GCF_000012545.1_ASM1254v1_genomic.fna\"                               \n",
       "  [8] \"GCF_000012825.1_ASM1282v1_genomic.fna\"                               \n",
       "  [9] \"GCF_000012845.1_ASM1284v1_genomic.fna\"                               \n",
       " [10] \"GCF_000013285.1_ASM1328v1_genomic.fna\"                               \n",
       " [11] \"GCF_000013305.1_ASM1330v1_genomic.fna\"                               \n",
       " [12] \"GCF_000014125.1_ASM1412v1_genomic.fna\"                               \n",
       " [13] \"GCF_000014445.1_ASM1444v1_genomic.fna\"                               \n",
       " [14] \"GCF_000014505.1_ASM1450v1_genomic.fna\"                               \n",
       " [15] \"GCF_000016325.1_ASM1632v1_genomic.fna\"                               \n",
       " [16] \"GCF_000016525.1_ASM1652v1_genomic.fna\"                               \n",
       " [17] \"GCF_000017205.1_ASM1720v1_genomic.fna\"                               \n",
       " [18] \"GCF_000017425.1_ASM1742v1_genomic.fna\"                               \n",
       " [19] \"GCF_000018045.1_ASM1804v1_genomic.fna\"                               \n",
       " [20] \"GCF_000019645.1_ASM1964v1_genomic.fna\"                               \n",
       " [21] \"GCF_000020225.1_ASM2022v1_genomic.fna\"                               \n",
       " [22] \"GCF_000020605.1_ASM2060v1_genomic.fna\"                               \n",
       " [23] \"GCF_000021125.1_ASM2112v1_genomic.fna\"                               \n",
       " [24] \"GCF_000025045.1_ASM2504v1_genomic.fna\"                               \n",
       " [25] \"GCF_000025465.1_ASM2546v1_genomic.fna\"                               \n",
       " [26] \"GCF_000025565.1_ASM2556v1_genomic.fna\"                               \n",
       " [27] \"GCF_000025745.1_ASM2574v1_genomic.fna\"                               \n",
       " [28] \"GCF_000026225.1_ASM2622v1_genomic.fna\"                               \n",
       " [29] \"GCF_000027065.2_ASM2706v1_genomic.fna\"                               \n",
       " [30] \"GCF_000027085.1_ASM2708v1_genomic.fna\"                               \n",
       " [31] \"GCF_000027125.1_ASM2712v1_genomic.fna\"                               \n",
       " [32] \"GCF_000069965.1_ASM6996v1_genomic.fna\"                               \n",
       " [33] \"GCF_000143205.1_ASM14320v1_genomic.fna\"                              \n",
       " [34] \"GCF_000144625.1_ASM14462v1_genomic.fna\"                              \n",
       " [35] \"GCF_000146185.1_ASM14618v1_genomic.fna\"                              \n",
       " [36] \"GCF_000157355.2_ASM15735v2_genomic.fna\"                              \n",
       " [37] \"GCF_000190535.1_ASM19053v1_genomic.fna\"                              \n",
       " [38] \"GCF_000195275.1_ASM19527v1_genomic.fna\"                              \n",
       " [39] \"GCF_000195575.1_ASM19557v1_genomic.fna\"                              \n",
       " [40] \"GCF_000196615.1_ASM19661v1_genomic.fna\"                              \n",
       " [41] \"GCF_000197735.1_ASM19773v1_genomic.fna\"                              \n",
       " [42] \"GCF_000210835.1_ASM21083v1_genomic.fna\"                              \n",
       " [43] \"GCF_000212715.2_ASM21271v2_genomic.fna\"                              \n",
       " [44] \"GCF_000215745.1_ASM21574v1_genomic.fna\"                              \n",
       " [45] \"GCF_000219515.2_ASM21951v3_genomic.fna\"                              \n",
       " [46] \"GCF_000227625.1_ASM22762v1_genomic.fna\"                              \n",
       " [47] \"GCF_000235765.1_ASM23576v3_genomic.fna\"                              \n",
       " [48] \"GCF_000236475.1_ASM23647v1_genomic.fna\"                              \n",
       " [49] \"GCF_000270145.1_ASM27014v1_genomic.fna\"                              \n",
       " [50] \"GCF_000270165.1_ASM27016v1_genomic.fna\"                              \n",
       " [51] \"GCF_000271405.2_ASM27140v2_genomic.fna\"                              \n",
       " [52] \"GCF_000286435.2_ASM28643v2_genomic.fna\"                              \n",
       " [53] \"GCF_000317975.2_ASM31797v2_genomic.fna\"                              \n",
       " [54] \"GCF_000334515.1_ASM33451v1_genomic.fna\"                              \n",
       " [55] \"GCF_000344575.1_ASM34457v1_genomic.fna\"                              \n",
       " [56] \"GCF_000348565.1_ASM34856v1_genomic.fna\"                              \n",
       " [57] \"GCF_000349975.1_ASM34997v1_genomic.fna\"                              \n",
       " [58] \"GCF_000404165.1_ASM40416v1_genomic.fna\"                              \n",
       " [59] \"GCF_000441535.1_ASM44153v1_genomic.fna\"                              \n",
       " [60] \"GCF_000444405.1_ASM44440v1_genomic.fna\"                              \n",
       " [61] \"GCF_000454045.1_ASM45404v1_genomic.fna\"                              \n",
       " [62] \"GCF_000468955.1_ASM46895v1_genomic.fna\"                              \n",
       " [63] \"GCF_000473745.2_ASM47374v3_genomic.fna\"                              \n",
       " [64] \"GCF_000479375.3_ASM47937v3_genomic.fna\"                              \n",
       " [65] \"GCF_000496265.1_ASM49626v1_genomic.fna\"                              \n",
       " [66] \"GCF_000496455.2_ASM49645v2_genomic.fna\"                              \n",
       " [67] \"GCF_000504125.1_ASM50412v1_genomic.fna\"                              \n",
       " [68] \"GCF_000512125.1_ASM51212v1_genomic.fna\"                              \n",
       " [69] \"GCF_000520035.1_ASM52003v1_genomic.fna\"                              \n",
       " [70] \"GCF_000597785.2_ASM59778v2_genomic.fna\"                              \n",
       " [71] \"GCF_000648515.1_ASM64851v1_genomic.fna\"                              \n",
       " [72] \"GCF_000696675.2_ASM69667v2_genomic.fna\"                              \n",
       " [73] \"GCF_000709455.1_ASM70945v1_genomic.fna\"                              \n",
       " [74] \"GCF_000714595.1_ASM71459v1_genomic.fna\"                              \n",
       " [75] \"GCF_000714655.1_ASM71465v1_genomic.fna\"                              \n",
       " [76] \"GCF_000714675.1_ASM71467v1_genomic.fna\"                              \n",
       " [77] \"GCF_000723465.1_Rb803_genomic.fna\"                                   \n",
       " [78] \"GCF_000737555.1_ASM73755v1_genomic.fna\"                              \n",
       " [79] \"GCF_000750225.1_ASM75022v1_genomic.fna\"                              \n",
       " [80] \"GCF_000757795.1_ASM75779v1_genomic.fna\"                              \n",
       " [81] \"GCF_000800475.2_ASM80047v2_genomic.fna\"                              \n",
       " [82] \"GCF_000807405.2_ASM80740v4_genomic.fna\"                              \n",
       " [83] \"GCF_000814125.3_ASM81412v3_genomic.fna\"                              \n",
       " [84] \"GCF_000980815.1_ASM98081v1_genomic.fna\"                              \n",
       " [85] \"GCF_001021635.2_ASM102163v2_genomic.fna\"                             \n",
       " [86] \"GCF_001281005.1_ASM128100v1_genomic.fna\"                             \n",
       " [87] \"GCF_001307195.1_ASM130719v1_genomic.fna\"                             \n",
       " [88] \"GCF_001477655.1_ASM147765v1_genomic.fna\"                             \n",
       " [89] \"GCF_001484935.1_ASM148493v1_genomic.fna\"                             \n",
       " [90] \"GCF_001517405.1_EM595_genomic.fna\"                                   \n",
       " [91] \"GCF_001548675.1_ASM154867v1_genomic.fna\"                             \n",
       " [92] \"GCF_001578125.1_ASM157812v1_genomic.fna\"                             \n",
       " [93] \"GCF_001612555.1_ASM161255v1_genomic.fna\"                             \n",
       " [94] \"GCF_001640865.1_ASM164086v1_genomic.fna\"                             \n",
       " [95] \"GCF_001647675.1_ASM164767v1_genomic.fna\"                             \n",
       " [96] \"GCF_001687565.2_ASM168756v2_genomic.fna\"                             \n",
       " [97] \"GCF_001688845.2_ASM168884v2_genomic.fna\"                             \n",
       " [98] \"GCF_001701045.1_ASM170104v1_genomic.fna\"                             \n",
       " [99] \"GCF_001729705.1_ASM172970v1_genomic.fna\"                             \n",
       "[100] \"GCF_001874485.1_ASM187448v1_genomic.fna\"                             \n",
       "[101] \"GCF_001877035.1_ASM187703v1_genomic.fna\"                             \n",
       "[102] \"GCF_001887265.1_ASM188726v1_genomic.fna\"                             \n",
       "[103] \"GCF_002000985.1_ASM200098v1_genomic.fna\"                             \n",
       "[104] \"GCF_002056725.1_ASM205672v1_genomic.fna\"                             \n",
       "[105] \"GCF_002090195.1_ASM209019v1_genomic.fna\"                             \n",
       "[106] \"GCF_002222595.2_ASM222259v2_genomic.fna\"                             \n",
       "[107] \"GCF_002442935.1_ASM244293v1_genomic.fna\"                             \n",
       "[108] \"GCF_002706665.1_ASM270666v1_genomic.fna\"                             \n",
       "[109] \"GCF_002735225.1_ASM273522v1_genomic.fna\"                             \n",
       "[110] \"GCF_002736105.1_ASM273610v1_genomic.fna\"                             \n",
       "[111] \"GCF_002814115.1_ASM281411v1_genomic.fna\"                             \n",
       "[112] \"GCF_003019315.1_ASM301931v1_genomic.fna\"                             \n",
       "[113] \"GCF_003019655.1_ASM301965v1_genomic.fna\"                             \n",
       "[114] \"GCF_003097575.1_ASM309757v1_genomic.fna\"                             \n",
       "[115] \"GCF_003112145.1_ASM311214v1_genomic.fna\"                             \n",
       "[116] \"GCF_003112225.1_ASM311222v1_genomic.fna\"                             \n",
       "[117] \"GCF_003254805.1_ASM325480v1_genomic.fna\"                             \n",
       "[118] \"GCF_003692675.1_ASM369267v1_genomic.fna\"                             \n",
       "[119] \"GCF_004101825.1_ASM410182v1_genomic.fna\"                             \n",
       "[120] \"GCF_004295125.1_ASM429512v1_genomic.fna\"                             \n",
       "[121] \"GCF_004801555.1_ASM480155v1_genomic.fna\"                             \n",
       "[122] \"GCF_005886215.1_ASM588621v1_genomic.fna\"                             \n",
       "[123] \"GCF_006777045.1_ASM677704v1_genomic.fna\"                             \n",
       "[124] \"GCF_900095495.1_B_ovatus_V975_genomic.fna\"                           \n",
       "[125] \"GCF_900097105.1_WK001_genomic.fna\"                                   \n",
       "[126] \"GCF_900199375.1_G142160_polished_assembly_ID17483_genomic.fna\"       \n",
       "[127] \"GCF_900537995.1_Roseburia_intestinalis_strain_L1-82_genomic.fna\"     \n",
       "[128] \"GCF_900683725.1_Parabacteroides_distasonis_82G9_genomic.fna\"         \n",
       "[129] \"GCF_900683735.1_Fusobacterium_ulcerans_81A6_genomic.fna\"             \n",
       "[130] \"GCF_900683745.1_Paraprevotella_xylaniphila_82A6_genomic.fna\"         \n",
       "[131] \"GCF_900683755.1_ASM90068375v1_genomic.fna\"                           \n",
       "[132] \"GCF_900683765.1_Phascolarctobacterium_succinatutens_82G5_genomic.fna\""
      ]
     },
     "metadata": {},
     "output_type": "display_data"
    }
   ],
   "source": [
    "P = file.path(work_dir, 'references', 'drep', 'dereplicated_genomes')\n",
    "list.files(P, '*.fna', recursive=TRUE)"
   ]
  },
  {
   "cell_type": "markdown",
   "metadata": {},
   "source": [
    "# sessionInfo"
   ]
  },
  {
   "cell_type": "code",
   "execution_count": 40,
   "metadata": {
    "ExecuteTime": {
     "end_time": "2019-07-20T04:23:57.639324Z",
     "start_time": "2019-07-20T04:23:57.558Z"
    }
   },
   "outputs": [
    {
     "name": "stdout",
     "output_type": "stream",
     "text": [
      "LLMGA-find-refs\n",
      "===============\n",
      "\n",
      "Ley Lab Metagenome Assembly: Find References (LLMGA-find-refs)\n",
      "\n",
      "* Version: 0.2.1\n",
      "* Authors:\n",
      "  * Nick Youngblut <nyoungb2@gmail.com>\n",
      "* Maintainers:\n",
      "  * Nick Youngblut <nyoungb2@gmail.com>\n",
      "\n",
      "--- conda envs ---\n",
      "==> /ebio/abt3_projects/Georg_animal_feces/bin/llmga-find-refs//bin/envs/genome_dl.yaml <==\n",
      "channels: !!python/tuple\n",
      "- bioconda\n",
      "dependencies:\n",
      "- pigz\n",
      "- python>=3.6\n",
      "- bioconda::ete3=3.1.1\n",
      "- bioconda::ncbi-genome-download=0.2.6\n",
      "\n",
      "==> /ebio/abt3_projects/Georg_animal_feces/bin/llmga-find-refs//bin/envs/genome_drep.yaml <==\n",
      "channels: !!python/tuple\n",
      "- bioconda\n",
      "dependencies:\n",
      "- pigz\n",
      "- bioconda::mash\n",
      "- pip:\n",
      "  - drep\n",
      "\n",
      "==> /ebio/abt3_projects/Georg_animal_feces/bin/llmga-find-refs//bin/envs/reads.yaml <==\n",
      "channels: !!python/tuple\n",
      "- bioconda\n",
      "dependencies:\n",
      "- pigz\n",
      "- bioconda::seqtk\n",
      "- bioconda::centrifuge"
     ]
    }
   ],
   "source": [
    "pipelineInfo(pipeline_dir)"
   ]
  },
  {
   "cell_type": "code",
   "execution_count": 39,
   "metadata": {
    "ExecuteTime": {
     "end_time": "2019-07-20T04:23:43.381338Z",
     "start_time": "2019-07-20T04:23:42.838Z"
    }
   },
   "outputs": [
    {
     "data": {
      "text/plain": [
       "R version 3.4.1 (2017-06-30)\n",
       "Platform: x86_64-pc-linux-gnu (64-bit)\n",
       "Running under: Ubuntu 18.04.1 LTS\n",
       "\n",
       "Matrix products: default\n",
       "BLAS: /ebio/abt3_projects/software/miniconda3_gt4.4/envs/py3_physeq/lib/R/lib/libRblas.so\n",
       "LAPACK: /ebio/abt3_projects/software/miniconda3_gt4.4/envs/py3_physeq/lib/R/lib/libRlapack.so\n",
       "\n",
       "locale:\n",
       " [1] LC_CTYPE=en_US.UTF-8       LC_NUMERIC=C              \n",
       " [3] LC_TIME=en_US.UTF-8        LC_COLLATE=en_US.UTF-8    \n",
       " [5] LC_MONETARY=en_US.UTF-8    LC_MESSAGES=en_US.UTF-8   \n",
       " [7] LC_PAPER=en_US.UTF-8       LC_NAME=C                 \n",
       " [9] LC_ADDRESS=C               LC_TELEPHONE=C            \n",
       "[11] LC_MEASUREMENT=en_US.UTF-8 LC_IDENTIFICATION=C       \n",
       "\n",
       "attached base packages:\n",
       "[1] stats     graphics  grDevices utils     datasets  methods   base     \n",
       "\n",
       "other attached packages:\n",
       "[1] bindrcpp_0.2.2 ggplot2_3.0.0  tidyr_0.8.1    dplyr_0.7.6   \n",
       "\n",
       "loaded via a namespace (and not attached):\n",
       " [1] Rcpp_0.12.17     bindr_0.1.1      magrittr_1.5     munsell_0.5.0   \n",
       " [5] tidyselect_0.2.4 uuid_0.1-2       colorspace_1.3-2 R6_2.2.2        \n",
       " [9] rlang_0.2.1      plyr_1.8.4       stringr_1.3.1    tools_3.4.1     \n",
       "[13] grid_3.4.1       gtable_0.2.0     withr_2.1.1      htmltools_0.3.6 \n",
       "[17] lazyeval_0.2.1   digest_0.6.15    assertthat_0.2.0 tibble_1.4.2    \n",
       "[21] crayon_1.3.4     IRdisplay_0.4.4  purrr_0.2.4      repr_0.15.0     \n",
       "[25] base64enc_0.1-3  IRkernel_0.8.12  glue_1.3.0       evaluate_0.10.1 \n",
       "[29] pbdZMQ_0.3-2     stringi_1.2.3    compiler_3.4.1   pillar_1.2.2    \n",
       "[33] scales_0.5.0     jsonlite_1.5     pkgconfig_2.0.1 "
      ]
     },
     "metadata": {},
     "output_type": "display_data"
    }
   ],
   "source": [
    "sessionInfo()"
   ]
  },
  {
   "cell_type": "code",
   "execution_count": null,
   "metadata": {},
   "outputs": [],
   "source": []
  }
 ],
 "metadata": {
  "kernelspec": {
   "display_name": "R [conda env:py3_physeq]",
   "language": "R",
   "name": "conda-env-py3_physeq-r"
  },
  "language_info": {
   "codemirror_mode": "r",
   "file_extension": ".r",
   "mimetype": "text/x-r-source",
   "name": "R",
   "pygments_lexer": "r",
   "version": "3.4.1"
  },
  "toc": {
   "base_numbering": 1,
   "nav_menu": {},
   "number_sections": true,
   "sideBar": true,
   "skip_h1_title": false,
   "title_cell": "Table of Contents",
   "title_sidebar": "Contents",
   "toc_cell": true,
   "toc_position": {},
   "toc_section_display": true,
   "toc_window_display": false
  }
 },
 "nbformat": 4,
 "nbformat_minor": 2
}
