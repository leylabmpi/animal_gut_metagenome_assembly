{
 "cells": [
  {
   "cell_type": "markdown",
   "metadata": {
    "toc": true
   },
   "source": [
    "<h1>Table of Contents<span class=\"tocSkip\"></span></h1>\n",
    "<div class=\"toc\"><ul class=\"toc-item\"><li><span><a href=\"#Goal\" data-toc-modified-id=\"Goal-1\"><span class=\"toc-item-num\">1&nbsp;&nbsp;</span>Goal</a></span></li><li><span><a href=\"#Var\" data-toc-modified-id=\"Var-2\"><span class=\"toc-item-num\">2&nbsp;&nbsp;</span>Var</a></span></li><li><span><a href=\"#Init\" data-toc-modified-id=\"Init-3\"><span class=\"toc-item-num\">3&nbsp;&nbsp;</span>Init</a></span></li><li><span><a href=\"#LLMGP-kraken2\" data-toc-modified-id=\"LLMGP-kraken2-4\"><span class=\"toc-item-num\">4&nbsp;&nbsp;</span>LLMGP-kraken2</a></span><ul class=\"toc-item\"><li><span><a href=\"#Run\" data-toc-modified-id=\"Run-4.1\"><span class=\"toc-item-num\">4.1&nbsp;&nbsp;</span>Run</a></span></li></ul></li><li><span><a href=\"#LLMGP-kraken2:-summary\" data-toc-modified-id=\"LLMGP-kraken2:-summary-5\"><span class=\"toc-item-num\">5&nbsp;&nbsp;</span>LLMGP-kraken2: summary</a></span><ul class=\"toc-item\"><li><span><a href=\"#Reads-mapped\" data-toc-modified-id=\"Reads-mapped-5.1\"><span class=\"toc-item-num\">5.1&nbsp;&nbsp;</span>Reads mapped</a></span><ul class=\"toc-item\"><li><span><a href=\"#GTDBr86\" data-toc-modified-id=\"GTDBr86-5.1.1\"><span class=\"toc-item-num\">5.1.1&nbsp;&nbsp;</span>GTDBr86</a></span></li><li><span><a href=\"#GTDBr89\" data-toc-modified-id=\"GTDBr89-5.1.2\"><span class=\"toc-item-num\">5.1.2&nbsp;&nbsp;</span>GTDBr89</a></span></li><li><span><a href=\"#All-classifications\" data-toc-modified-id=\"All-classifications-5.1.3\"><span class=\"toc-item-num\">5.1.3&nbsp;&nbsp;</span>All classifications</a></span></li></ul></li></ul></li><li><span><a href=\"#LLMGP-humann2\" data-toc-modified-id=\"LLMGP-humann2-6\"><span class=\"toc-item-num\">6&nbsp;&nbsp;</span>LLMGP-humann2</a></span><ul class=\"toc-item\"><li><span><a href=\"#Run\" data-toc-modified-id=\"Run-6.1\"><span class=\"toc-item-num\">6.1&nbsp;&nbsp;</span>Run</a></span></li></ul></li><li><span><a href=\"#Summary\" data-toc-modified-id=\"Summary-7\"><span class=\"toc-item-num\">7&nbsp;&nbsp;</span>Summary</a></span><ul class=\"toc-item\"><li><span><a href=\"#Gene-families\" data-toc-modified-id=\"Gene-families-7.1\"><span class=\"toc-item-num\">7.1&nbsp;&nbsp;</span>Gene families</a></span></li><li><span><a href=\"#Pathways\" data-toc-modified-id=\"Pathways-7.2\"><span class=\"toc-item-num\">7.2&nbsp;&nbsp;</span>Pathways</a></span></li></ul></li><li><span><a href=\"#sessionInfo\" data-toc-modified-id=\"sessionInfo-8\"><span class=\"toc-item-num\">8&nbsp;&nbsp;</span>sessionInfo</a></span></li></ul></div>"
   ]
  },
  {
   "cell_type": "markdown",
   "metadata": {},
   "source": [
    "# Goal\n",
    "\n",
    "* Run `LLMGP` pipeline on custom GTDBr89 dataset (created with `Struo`)\n",
    "   * Results (% mapped) will be compared to profiling with profiling databased including animal gut MAGs"
   ]
  },
  {
   "cell_type": "markdown",
   "metadata": {},
   "source": [
    "# Var"
   ]
  },
  {
   "cell_type": "code",
   "execution_count": 1,
   "metadata": {
    "ExecuteTime": {
     "end_time": "2020-03-19T17:46:12.030134Z",
     "start_time": "2020-03-19T17:46:11.962Z"
    }
   },
   "outputs": [],
   "source": [
    "work_dir = '/ebio/abt3_projects/Georg_animal_feces/data/metagenome/HiSeqRuns126-133-0138/LLMGP_GTDBr89/'\n",
    "\n",
    "samples_file = '/ebio/abt3_projects/Georg_animal_feces/data/metagenome/HiSeqRuns126-133-0138/wOutVertebrata/LLMGQC/samples_cov-gte0.3.tsv'\n",
    "metadata_file = '/ebio/abt3_projects/Georg_animal_feces/data/mapping/unified_metadata_complete_190529.tsv'\n",
    "\n",
    "pipeline_dir = '/ebio/abt3_projects/Georg_animal_feces/bin/llmgp/'\n",
    "threads = 16"
   ]
  },
  {
   "cell_type": "markdown",
   "metadata": {},
   "source": [
    "# Init"
   ]
  },
  {
   "cell_type": "code",
   "execution_count": 3,
   "metadata": {
    "ExecuteTime": {
     "end_time": "2020-03-19T17:46:13.724275Z",
     "start_time": "2020-03-19T17:46:13.503Z"
    }
   },
   "outputs": [],
   "source": [
    "library(dplyr)\n",
    "library(tidyr)\n",
    "library(ggplot2)\n",
    "library(data.table)\n",
    "library(doParallel)\n",
    "library(LeyLabRMisc)"
   ]
  },
  {
   "cell_type": "code",
   "execution_count": 6,
   "metadata": {
    "ExecuteTime": {
     "end_time": "2020-03-19T17:46:31.326592Z",
     "start_time": "2020-03-19T17:46:31.276Z"
    }
   },
   "outputs": [
    {
     "name": "stdout",
     "output_type": "stream",
     "text": [
      "Directory already exists: /ebio/abt3_projects/Georg_animal_feces/data/metagenome/HiSeqRuns126-133-0138/LLMGP_GTDBr89/ \n"
     ]
    }
   ],
   "source": [
    "df.dims()\n",
    "setDTthreads(threads)\n",
    "make_dir(work_dir)"
   ]
  },
  {
   "cell_type": "markdown",
   "metadata": {},
   "source": [
    "# LLMGP-kraken2\n",
    "\n",
    "* just running kraken2"
   ]
  },
  {
   "cell_type": "code",
   "execution_count": 4,
   "metadata": {
    "ExecuteTime": {
     "end_time": "2019-11-14T14:50:29.264608Z",
     "start_time": "2019-11-14T14:50:29.146Z"
    }
   },
   "outputs": [
    {
     "name": "stdout",
     "output_type": "stream",
     "text": [
      "# DESCRIPTION:\n",
      "## This is an example of running the pipeline with a custom humann2 db.\n",
      "## This config is set up to just use the custom nucleotide db, but the protein db could be used also (or instead)\n",
      "\n",
      "#-- I/O --#\n",
      "# table with sample --> read_file information\n",
      "samples_file: /ebio/abt3_projects/Georg_animal_feces/data/metagenome/HiSeqRuns126-133-0138/LLMGQC/samples_cov-gte0.3.tsv\n",
      "\n",
      "# output location\n",
      "output_dir: /ebio/abt3_projects/Georg_animal_feces/data/metagenome/HiSeqRuns126-133-0138/LLMGP_GTDBr89/\n",
      "\n",
      "# read file path\n",
      "# use \"None\" if full file path is included in the samples_file\n",
      "read_file_path: None\n",
      "\n",
      "#-- DB --#\n",
      "## humann2 \n",
      "### custom humann2 databases\n",
      "humann2_nuc_db: /ebio/abt3_projects/databases_no-backup/GTDB/release89/LLMGP-DB/humann2/GTDBr89/all_genes_annot.fna.gz\n",
      "humann2_prot_db: /ebio/abt3_projects/databases_no-backup/GTDB/release89/LLMGP-DB/humann2/GTDBr89/all_genes_annot.dmnd\n",
      "### required humann2 database files (no need to change this)\n",
      "genefamily_annotation_db: /ebio/abt3_projects/databases_no-backup/humann2/utility_mapping/map_uniref50_name.txt.bz2\n",
      "metaphlan2_pkl_db: /ebio/abt3_projects/databases_no-backup/metaphlan2/mpa_v20_m200/mpa_v20_m200.pkl\n",
      "metaphlan2_bt2_db: /ebio/abt3_projects/databases_no-backup/metaphlan2/mpa_v20_m200/mpa_v20_m200     \n",
      "utility_mapping_db: /ebio/abt3_projects/databases_no-backup/humann2/utility_mapping\n",
      "## kraken/bracken (db selected automatically based on read length)\n",
      "kraken_dbs:\n",
      "  150bp: /ebio/abt3_projects/databases_no-backup/GTDB/release89/LLMGP-DB/kraken2/GTDBr89/database150mers.kraken\n",
      "  100bp: /ebio/abt3_projects/databases_no-backup/GTDB/release89/LLMGP-DB/kraken2/GTDBr89/database100mers.kraken\n",
      "### NCBI taxonomy\n",
      "tax_dump: /ebio/abt3_projects/databases_no-backup/GTDB/release89/taxdump/names.dmp\n",
      "\n",
      "#-- subsample --#\n",
      "# subsampling input reads \n",
      "## \"Skip\" skips subsampling; otherwise set the number of reads to subsample\n",
      "subsample_depth: 5000000\n",
      "subsample_seed: 18938\n",
      "\n",
      "#-- include read2 (if paired-end) --#\n",
      "# combine R1 & R2 or just use R1?\n",
      "include_read2: True\n",
      "\n",
      "#-- humann2 temporary files --#\n",
      "# remove the large temporary files generated by humann2?\n",
      "rm_humann2_tmp_files: True      \n",
      "\n",
      "#-- humann2 groupings --#\n",
      "# always have at least the \"*_default\" grouping\n",
      "humann2_regroup:\n",
      "  - uniref50_default\n",
      "  - uniref50_go\n",
      "  - uniref50_ko\n",
      "  - uniref50_eggnog\n",
      "  - uniref50_pfam\n",
      "  - uniref50_level4ec\n",
      "  - uniref50_infogo1000\n",
      "  - uniref50_rxn\n",
      "\n",
      "#-- software parameters --#\n",
      "# Use \"Skip\" to skip steps.\n",
      "# By skipping, you can run just humann2, kraken/bracken, or simka\n",
      "params:\n",
      "  # humann2\n",
      "  metaphlan2: -t rel_ab  \n",
      "  humann2: Skip # --gap-fill on --bypass-nucleotide-index --diamond-2pass\n",
      "  humann2_db_in_memory: True        # copy databases to memory; less I/O, more memory\n",
      "  humann2_diamond: --sensitive --max-target-seqs 20 --block-size 3 --index-chunks 2\n",
      "  humann2_diamond_evalue: 1\n",
      "  reduce_taxonomic_profile: --function max --sort-by level\n",
      "  humann2_renorm_table: --units relab\n",
      "  # kraken/bracken (NOTE: dependent on read length)\n",
      "  kraken: \"\"\n",
      "  bracken: -t 10 -l S        # species level (S); `-r` parameter set automatically\n",
      "  # simka \n",
      "  simka: Skip #-kmer-size 31 -abundance-min 2 -simple-dist -max-reads 1000000\n",
      "  simka_vis: -width 8 -height 8 -pca -heatmap\n",
      "  # hulk\n",
      "  hulk_histosketch: Skip # -k 21 -m 2\n",
      "  hulk_distance: \n",
      "    - jaccard\n",
      "    - braycurtis\n",
      "\n",
      "\n",
      "#-- snakemake pipeline --#\n",
      "pipeline:\n",
      "  snakemake_folder: ./\n",
      "  script_folder: ./bin/scripts/\n",
      "  temp_folder: /tmp/global2/        # your username will be added automatically to this path\n"
     ]
    }
   ],
   "source": [
    "config_file = file.path(work_dir, 'config_custom-db.yaml')\n",
    "cat_file(config_file)"
   ]
  },
  {
   "cell_type": "markdown",
   "metadata": {},
   "source": [
    "## Run"
   ]
  },
  {
   "cell_type": "markdown",
   "metadata": {},
   "source": [
    "```\n",
    "(snakemake_dev) @ rick:/ebio/abt3_projects/Georg_animal_feces/bin/llmgp\n",
    "screen -L -S llmgp-ga-GTDBr89 ./snakemake_sge.sh /ebio/abt3_projects/Georg_animal_feces/data/metagenome/HiSeqRuns126-133-0138/LLMGP_GTDBr89/config_custom-db.yaml cluster.json /ebio/abt3_projects/Georg_animal_feces/data/metagenome/HiSeqRuns126-133-0138/LLMGP_GTDBr89/SGE_log 30\n",
    "```"
   ]
  },
  {
   "cell_type": "markdown",
   "metadata": {},
   "source": [
    "# LLMGP-kraken2: summary"
   ]
  },
  {
   "cell_type": "code",
   "execution_count": 7,
   "metadata": {
    "ExecuteTime": {
     "end_time": "2020-03-19T17:46:36.189098Z",
     "start_time": "2020-03-19T17:46:36.103Z"
    }
   },
   "outputs": [
    {
     "data": {
      "text/html": [
       "<table>\n",
       "<caption>A data.frame: 291 × 6</caption>\n",
       "<thead>\n",
       "\t<tr><th scope=col>Sample</th><th scope=col>Read1</th><th scope=col>Read2</th><th scope=col>Total.Sequences</th><th scope=col>nonpareil_coverage</th><th scope=col>nonpareil_diversity</th></tr>\n",
       "\t<tr><th scope=col>&lt;fct&gt;</th><th scope=col>&lt;fct&gt;</th><th scope=col>&lt;fct&gt;</th><th scope=col>&lt;int&gt;</th><th scope=col>&lt;dbl&gt;</th><th scope=col>&lt;dbl&gt;</th></tr>\n",
       "</thead>\n",
       "<tbody>\n",
       "\t<tr><td>X144_Cattle               </td><td>/ebio/abt3_projects/Georg_animal_feces/data/metagenome/HiSeqRuns126-133-0138/wOutVertebrata/LLMGQC/final/X144_Cattle/R1_final.fq.gz               </td><td>/ebio/abt3_projects/Georg_animal_feces/data/metagenome/HiSeqRuns126-133-0138/wOutVertebrata/LLMGQC/final/X144_Cattle/R2_final.fq.gz               </td><td>10471331</td><td>0.3073356</td><td>22.03854</td></tr>\n",
       "\t<tr><td>X370_African_Bush_Elephant</td><td>/ebio/abt3_projects/Georg_animal_feces/data/metagenome/HiSeqRuns126-133-0138/wOutVertebrata/LLMGQC/final/X370_African_Bush_Elephant/R1_final.fq.gz</td><td>/ebio/abt3_projects/Georg_animal_feces/data/metagenome/HiSeqRuns126-133-0138/wOutVertebrata/LLMGQC/final/X370_African_Bush_Elephant/R2_final.fq.gz</td><td>  551609</td><td>0.3190188</td><td>18.99648</td></tr>\n",
       "\t<tr><td>⋮</td><td>⋮</td><td>⋮</td><td>⋮</td><td>⋮</td><td>⋮</td></tr>\n",
       "\t<tr><td>X256_Zander          </td><td>/ebio/abt3_projects/Georg_animal_feces/data/metagenome/HiSeqRuns126-133-0138/wOutVertebrata/LLMGQC/final/X256_Zander/R1_final.fq.gz          </td><td>/ebio/abt3_projects/Georg_animal_feces/data/metagenome/HiSeqRuns126-133-0138/wOutVertebrata/LLMGQC/final/X256_Zander/R2_final.fq.gz          </td><td> 9198058</td><td>0.9757480</td><td>14.88468</td></tr>\n",
       "\t<tr><td>X84_Common_Chiffchaff</td><td>/ebio/abt3_projects/Georg_animal_feces/data/metagenome/HiSeqRuns126-133-0138/wOutVertebrata/LLMGQC/final/X84_Common_Chiffchaff/R1_final.fq.gz</td><td>/ebio/abt3_projects/Georg_animal_feces/data/metagenome/HiSeqRuns126-133-0138/wOutVertebrata/LLMGQC/final/X84_Common_Chiffchaff/R2_final.fq.gz</td><td>24926183</td><td>0.9791558</td><td>14.22184</td></tr>\n",
       "</tbody>\n",
       "</table>\n"
      ],
      "text/latex": [
       "A data.frame: 291 × 6\n",
       "\\begin{tabular}{llllll}\n",
       " Sample & Read1 & Read2 & Total.Sequences & nonpareil\\_coverage & nonpareil\\_diversity\\\\\n",
       " <fct> & <fct> & <fct> & <int> & <dbl> & <dbl>\\\\\n",
       "\\hline\n",
       "\t X144\\_Cattle                & /ebio/abt3\\_projects/Georg\\_animal\\_feces/data/metagenome/HiSeqRuns126-133-0138/wOutVertebrata/LLMGQC/final/X144\\_Cattle/R1\\_final.fq.gz                & /ebio/abt3\\_projects/Georg\\_animal\\_feces/data/metagenome/HiSeqRuns126-133-0138/wOutVertebrata/LLMGQC/final/X144\\_Cattle/R2\\_final.fq.gz                & 10471331 & 0.3073356 & 22.03854\\\\\n",
       "\t X370\\_African\\_Bush\\_Elephant & /ebio/abt3\\_projects/Georg\\_animal\\_feces/data/metagenome/HiSeqRuns126-133-0138/wOutVertebrata/LLMGQC/final/X370\\_African\\_Bush\\_Elephant/R1\\_final.fq.gz & /ebio/abt3\\_projects/Georg\\_animal\\_feces/data/metagenome/HiSeqRuns126-133-0138/wOutVertebrata/LLMGQC/final/X370\\_African\\_Bush\\_Elephant/R2\\_final.fq.gz &   551609 & 0.3190188 & 18.99648\\\\\n",
       "\t ⋮ & ⋮ & ⋮ & ⋮ & ⋮ & ⋮\\\\\n",
       "\t X256\\_Zander           & /ebio/abt3\\_projects/Georg\\_animal\\_feces/data/metagenome/HiSeqRuns126-133-0138/wOutVertebrata/LLMGQC/final/X256\\_Zander/R1\\_final.fq.gz           & /ebio/abt3\\_projects/Georg\\_animal\\_feces/data/metagenome/HiSeqRuns126-133-0138/wOutVertebrata/LLMGQC/final/X256\\_Zander/R2\\_final.fq.gz           &  9198058 & 0.9757480 & 14.88468\\\\\n",
       "\t X84\\_Common\\_Chiffchaff & /ebio/abt3\\_projects/Georg\\_animal\\_feces/data/metagenome/HiSeqRuns126-133-0138/wOutVertebrata/LLMGQC/final/X84\\_Common\\_Chiffchaff/R1\\_final.fq.gz & /ebio/abt3\\_projects/Georg\\_animal\\_feces/data/metagenome/HiSeqRuns126-133-0138/wOutVertebrata/LLMGQC/final/X84\\_Common\\_Chiffchaff/R2\\_final.fq.gz & 24926183 & 0.9791558 & 14.22184\\\\\n",
       "\\end{tabular}\n"
      ],
      "text/markdown": [
       "\n",
       "A data.frame: 291 × 6\n",
       "\n",
       "| Sample &lt;fct&gt; | Read1 &lt;fct&gt; | Read2 &lt;fct&gt; | Total.Sequences &lt;int&gt; | nonpareil_coverage &lt;dbl&gt; | nonpareil_diversity &lt;dbl&gt; |\n",
       "|---|---|---|---|---|---|\n",
       "| X144_Cattle                | /ebio/abt3_projects/Georg_animal_feces/data/metagenome/HiSeqRuns126-133-0138/wOutVertebrata/LLMGQC/final/X144_Cattle/R1_final.fq.gz                | /ebio/abt3_projects/Georg_animal_feces/data/metagenome/HiSeqRuns126-133-0138/wOutVertebrata/LLMGQC/final/X144_Cattle/R2_final.fq.gz                | 10471331 | 0.3073356 | 22.03854 |\n",
       "| X370_African_Bush_Elephant | /ebio/abt3_projects/Georg_animal_feces/data/metagenome/HiSeqRuns126-133-0138/wOutVertebrata/LLMGQC/final/X370_African_Bush_Elephant/R1_final.fq.gz | /ebio/abt3_projects/Georg_animal_feces/data/metagenome/HiSeqRuns126-133-0138/wOutVertebrata/LLMGQC/final/X370_African_Bush_Elephant/R2_final.fq.gz |   551609 | 0.3190188 | 18.99648 |\n",
       "| ⋮ | ⋮ | ⋮ | ⋮ | ⋮ | ⋮ |\n",
       "| X256_Zander           | /ebio/abt3_projects/Georg_animal_feces/data/metagenome/HiSeqRuns126-133-0138/wOutVertebrata/LLMGQC/final/X256_Zander/R1_final.fq.gz           | /ebio/abt3_projects/Georg_animal_feces/data/metagenome/HiSeqRuns126-133-0138/wOutVertebrata/LLMGQC/final/X256_Zander/R2_final.fq.gz           |  9198058 | 0.9757480 | 14.88468 |\n",
       "| X84_Common_Chiffchaff | /ebio/abt3_projects/Georg_animal_feces/data/metagenome/HiSeqRuns126-133-0138/wOutVertebrata/LLMGQC/final/X84_Common_Chiffchaff/R1_final.fq.gz | /ebio/abt3_projects/Georg_animal_feces/data/metagenome/HiSeqRuns126-133-0138/wOutVertebrata/LLMGQC/final/X84_Common_Chiffchaff/R2_final.fq.gz | 24926183 | 0.9791558 | 14.22184 |\n",
       "\n"
      ],
      "text/plain": [
       "    Sample                    \n",
       "1   X144_Cattle               \n",
       "2   X370_African_Bush_Elephant\n",
       "⋮   ⋮                         \n",
       "290 X256_Zander               \n",
       "291 X84_Common_Chiffchaff     \n",
       "    Read1                                                                                                                                             \n",
       "1   /ebio/abt3_projects/Georg_animal_feces/data/metagenome/HiSeqRuns126-133-0138/wOutVertebrata/LLMGQC/final/X144_Cattle/R1_final.fq.gz               \n",
       "2   /ebio/abt3_projects/Georg_animal_feces/data/metagenome/HiSeqRuns126-133-0138/wOutVertebrata/LLMGQC/final/X370_African_Bush_Elephant/R1_final.fq.gz\n",
       "⋮   ⋮                                                                                                                                                 \n",
       "290 /ebio/abt3_projects/Georg_animal_feces/data/metagenome/HiSeqRuns126-133-0138/wOutVertebrata/LLMGQC/final/X256_Zander/R1_final.fq.gz               \n",
       "291 /ebio/abt3_projects/Georg_animal_feces/data/metagenome/HiSeqRuns126-133-0138/wOutVertebrata/LLMGQC/final/X84_Common_Chiffchaff/R1_final.fq.gz     \n",
       "    Read2                                                                                                                                             \n",
       "1   /ebio/abt3_projects/Georg_animal_feces/data/metagenome/HiSeqRuns126-133-0138/wOutVertebrata/LLMGQC/final/X144_Cattle/R2_final.fq.gz               \n",
       "2   /ebio/abt3_projects/Georg_animal_feces/data/metagenome/HiSeqRuns126-133-0138/wOutVertebrata/LLMGQC/final/X370_African_Bush_Elephant/R2_final.fq.gz\n",
       "⋮   ⋮                                                                                                                                                 \n",
       "290 /ebio/abt3_projects/Georg_animal_feces/data/metagenome/HiSeqRuns126-133-0138/wOutVertebrata/LLMGQC/final/X256_Zander/R2_final.fq.gz               \n",
       "291 /ebio/abt3_projects/Georg_animal_feces/data/metagenome/HiSeqRuns126-133-0138/wOutVertebrata/LLMGQC/final/X84_Common_Chiffchaff/R2_final.fq.gz     \n",
       "    Total.Sequences nonpareil_coverage nonpareil_diversity\n",
       "1   10471331        0.3073356          22.03854           \n",
       "2     551609        0.3190188          18.99648           \n",
       "⋮   ⋮               ⋮                  ⋮                  \n",
       "290  9198058        0.9757480          14.88468           \n",
       "291 24926183        0.9791558          14.22184           "
      ]
     },
     "metadata": {},
     "output_type": "display_data"
    }
   ],
   "source": [
    "# samples data\n",
    "samples = read.delim(samples_file, sep='\\t') \n",
    "samples "
   ]
  },
  {
   "cell_type": "code",
   "execution_count": 8,
   "metadata": {
    "ExecuteTime": {
     "end_time": "2020-03-19T17:46:37.708592Z",
     "start_time": "2020-03-19T17:46:37.600Z"
    }
   },
   "outputs": [
    {
     "data": {
      "text/html": [
       "<table>\n",
       "<caption>A data.frame: 475 × 71</caption>\n",
       "<thead>\n",
       "\t<tr><th scope=col>SampleID</th><th scope=col>host_subject_id</th><th scope=col>host_german_name</th><th scope=col>host_common_name</th><th scope=col>scientific_name</th><th scope=col>scientific_name_subspecies</th><th scope=col>host_taxid</th><th scope=col>class</th><th scope=col>order</th><th scope=col>family</th><th scope=col>⋯</th><th scope=col>temp_regulation</th><th scope=col>collection_date</th><th scope=col>season</th><th scope=col>samp_store_days</th><th scope=col>samp_collect_device</th><th scope=col>sampling_method</th><th scope=col>diet</th><th scope=col>feeding_style</th><th scope=col>digestive_system</th><th scope=col>digestive_system_detail</th></tr>\n",
       "\t<tr><th scope=col>&lt;chr&gt;</th><th scope=col>&lt;fct&gt;</th><th scope=col>&lt;fct&gt;</th><th scope=col>&lt;fct&gt;</th><th scope=col>&lt;fct&gt;</th><th scope=col>&lt;fct&gt;</th><th scope=col>&lt;int&gt;</th><th scope=col>&lt;fct&gt;</th><th scope=col>&lt;fct&gt;</th><th scope=col>&lt;fct&gt;</th><th scope=col>⋯</th><th scope=col>&lt;fct&gt;</th><th scope=col>&lt;fct&gt;</th><th scope=col>&lt;fct&gt;</th><th scope=col>&lt;fct&gt;</th><th scope=col>&lt;fct&gt;</th><th scope=col>&lt;fct&gt;</th><th scope=col>&lt;chr&gt;</th><th scope=col>&lt;fct&gt;</th><th scope=col>&lt;fct&gt;</th><th scope=col>&lt;fct&gt;</th></tr>\n",
       "</thead>\n",
       "<tbody>\n",
       "\t<tr><td>XF14_Common_Bream</td><td>F14</td><td>Brachse  </td><td>Common.Bream</td><td>Abramis_brama </td><td>NA</td><td>38527</td><td>Actinopterygii</td><td>Cypriniformes</td><td>Cyprinidae</td><td>⋯</td><td>ectotherm/poikilotherm</td><td>2010-08-10</td><td>summer</td><td>317</td><td>Greiner Polypropylene Tube 50ml          </td><td>feces sampling</td><td>omnivore </td><td>NA               </td><td>simple </td><td>simple </td></tr>\n",
       "\t<tr><td>XF35_Red_Deer    </td><td>F35</td><td>Rothirsch</td><td>Red.Deer    </td><td>Cervus_elaphus</td><td>NA</td><td> 9860</td><td>Mammalia      </td><td>Artiodactyla </td><td>Cervidae  </td><td>⋯</td><td>endotherm/homoiotherm </td><td>2010-09-29</td><td>autumn</td><td>229</td><td>Greiner Polystyrene 30ml Faeces Container</td><td>feces sampling</td><td>herbivore</td><td>intermediate type</td><td>foregut</td><td>foregut</td></tr>\n",
       "\t<tr><td>⋮</td><td>⋮</td><td>⋮</td><td>⋮</td><td>⋮</td><td>⋮</td><td>⋮</td><td>⋮</td><td>⋮</td><td>⋮</td><td>⋱</td><td>⋮</td><td>⋮</td><td>⋮</td><td>⋮</td><td>⋮</td><td>⋮</td><td>⋮</td><td>⋮</td><td>⋮</td><td>⋮</td></tr>\n",
       "\t<tr><td>X189_fail_Rainbow_Trout</td><td>189.fail</td><td>Regenbogenforelle</td><td>Rainbow.Trout</td><td>Oncorhynchus_mykiss</td><td>NA</td><td>8022</td><td>Actinopterygii</td><td>Salmoniformes</td><td>Salmonidae</td><td>⋯</td><td>ectotherm/poikilotherm</td><td>2012-03-01</td><td>winter</td><td>467</td><td>Eppendorf tube          </td><td>feces sampling</td><td>carnivore</td><td>NA</td><td>simple</td><td>simple</td></tr>\n",
       "\t<tr><td>X232_fail_Brown_Trout  </td><td>232.fail</td><td>Seeforelle       </td><td>Brown.Trout  </td><td>Salmo_trutta       </td><td>NA</td><td>8032</td><td>Actinopterygii</td><td>Salmoniformes</td><td>Salmonidae</td><td>⋯</td><td>ectotherm/poikilotherm</td><td>2012-03-15</td><td>winter</td><td>453</td><td>Polyethylene freezer bag</td><td>gut section   </td><td>carnivore</td><td>NA</td><td>simple</td><td>simple</td></tr>\n",
       "</tbody>\n",
       "</table>\n"
      ],
      "text/latex": [
       "A data.frame: 475 × 71\n",
       "\\begin{tabular}{lllllllllllllllllllll}\n",
       " SampleID & host\\_subject\\_id & host\\_german\\_name & host\\_common\\_name & scientific\\_name & scientific\\_name\\_subspecies & host\\_taxid & class & order & family & ⋯ & temp\\_regulation & collection\\_date & season & samp\\_store\\_days & samp\\_collect\\_device & sampling\\_method & diet & feeding\\_style & digestive\\_system & digestive\\_system\\_detail\\\\\n",
       " <chr> & <fct> & <fct> & <fct> & <fct> & <fct> & <int> & <fct> & <fct> & <fct> & ⋯ & <fct> & <fct> & <fct> & <fct> & <fct> & <fct> & <chr> & <fct> & <fct> & <fct>\\\\\n",
       "\\hline\n",
       "\t XF14\\_Common\\_Bream & F14 & Brachse   & Common.Bream & Abramis\\_brama  & NA & 38527 & Actinopterygii & Cypriniformes & Cyprinidae & ⋯ & ectotherm/poikilotherm & 2010-08-10 & summer & 317 & Greiner Polypropylene Tube 50ml           & feces sampling & omnivore  & NA                & simple  & simple \\\\\n",
       "\t XF35\\_Red\\_Deer     & F35 & Rothirsch & Red.Deer     & Cervus\\_elaphus & NA &  9860 & Mammalia       & Artiodactyla  & Cervidae   & ⋯ & endotherm/homoiotherm  & 2010-09-29 & autumn & 229 & Greiner Polystyrene 30ml Faeces Container & feces sampling & herbivore & intermediate type & foregut & foregut\\\\\n",
       "\t ⋮ & ⋮ & ⋮ & ⋮ & ⋮ & ⋮ & ⋮ & ⋮ & ⋮ & ⋮ & ⋱ & ⋮ & ⋮ & ⋮ & ⋮ & ⋮ & ⋮ & ⋮ & ⋮ & ⋮ & ⋮\\\\\n",
       "\t X189\\_fail\\_Rainbow\\_Trout & 189.fail & Regenbogenforelle & Rainbow.Trout & Oncorhynchus\\_mykiss & NA & 8022 & Actinopterygii & Salmoniformes & Salmonidae & ⋯ & ectotherm/poikilotherm & 2012-03-01 & winter & 467 & Eppendorf tube           & feces sampling & carnivore & NA & simple & simple\\\\\n",
       "\t X232\\_fail\\_Brown\\_Trout   & 232.fail & Seeforelle        & Brown.Trout   & Salmo\\_trutta        & NA & 8032 & Actinopterygii & Salmoniformes & Salmonidae & ⋯ & ectotherm/poikilotherm & 2012-03-15 & winter & 453 & Polyethylene freezer bag & gut section    & carnivore & NA & simple & simple\\\\\n",
       "\\end{tabular}\n"
      ],
      "text/markdown": [
       "\n",
       "A data.frame: 475 × 71\n",
       "\n",
       "| SampleID &lt;chr&gt; | host_subject_id &lt;fct&gt; | host_german_name &lt;fct&gt; | host_common_name &lt;fct&gt; | scientific_name &lt;fct&gt; | scientific_name_subspecies &lt;fct&gt; | host_taxid &lt;int&gt; | class &lt;fct&gt; | order &lt;fct&gt; | family &lt;fct&gt; | ⋯ ⋯ | temp_regulation &lt;fct&gt; | collection_date &lt;fct&gt; | season &lt;fct&gt; | samp_store_days &lt;fct&gt; | samp_collect_device &lt;fct&gt; | sampling_method &lt;fct&gt; | diet &lt;chr&gt; | feeding_style &lt;fct&gt; | digestive_system &lt;fct&gt; | digestive_system_detail &lt;fct&gt; |\n",
       "|---|---|---|---|---|---|---|---|---|---|---|---|---|---|---|---|---|---|---|---|---|\n",
       "| XF14_Common_Bream | F14 | Brachse   | Common.Bream | Abramis_brama  | NA | 38527 | Actinopterygii | Cypriniformes | Cyprinidae | ⋯ | ectotherm/poikilotherm | 2010-08-10 | summer | 317 | Greiner Polypropylene Tube 50ml           | feces sampling | omnivore  | NA                | simple  | simple  |\n",
       "| XF35_Red_Deer     | F35 | Rothirsch | Red.Deer     | Cervus_elaphus | NA |  9860 | Mammalia       | Artiodactyla  | Cervidae   | ⋯ | endotherm/homoiotherm  | 2010-09-29 | autumn | 229 | Greiner Polystyrene 30ml Faeces Container | feces sampling | herbivore | intermediate type | foregut | foregut |\n",
       "| ⋮ | ⋮ | ⋮ | ⋮ | ⋮ | ⋮ | ⋮ | ⋮ | ⋮ | ⋮ | ⋱ | ⋮ | ⋮ | ⋮ | ⋮ | ⋮ | ⋮ | ⋮ | ⋮ | ⋮ | ⋮ |\n",
       "| X189_fail_Rainbow_Trout | 189.fail | Regenbogenforelle | Rainbow.Trout | Oncorhynchus_mykiss | NA | 8022 | Actinopterygii | Salmoniformes | Salmonidae | ⋯ | ectotherm/poikilotherm | 2012-03-01 | winter | 467 | Eppendorf tube           | feces sampling | carnivore | NA | simple | simple |\n",
       "| X232_fail_Brown_Trout   | 232.fail | Seeforelle        | Brown.Trout   | Salmo_trutta        | NA | 8032 | Actinopterygii | Salmoniformes | Salmonidae | ⋯ | ectotherm/poikilotherm | 2012-03-15 | winter | 453 | Polyethylene freezer bag | gut section    | carnivore | NA | simple | simple |\n",
       "\n"
      ],
      "text/plain": [
       "    SampleID                host_subject_id host_german_name  host_common_name\n",
       "1   XF14_Common_Bream       F14             Brachse           Common.Bream    \n",
       "2   XF35_Red_Deer           F35             Rothirsch         Red.Deer        \n",
       "⋮   ⋮                       ⋮               ⋮                 ⋮               \n",
       "474 X189_fail_Rainbow_Trout 189.fail        Regenbogenforelle Rainbow.Trout   \n",
       "475 X232_fail_Brown_Trout   232.fail        Seeforelle        Brown.Trout     \n",
       "    scientific_name     scientific_name_subspecies host_taxid class         \n",
       "1   Abramis_brama       NA                         38527      Actinopterygii\n",
       "2   Cervus_elaphus      NA                          9860      Mammalia      \n",
       "⋮   ⋮                   ⋮                          ⋮          ⋮             \n",
       "474 Oncorhynchus_mykiss NA                         8022       Actinopterygii\n",
       "475 Salmo_trutta        NA                         8032       Actinopterygii\n",
       "    order         family     ⋯ temp_regulation        collection_date season\n",
       "1   Cypriniformes Cyprinidae ⋯ ectotherm/poikilotherm 2010-08-10      summer\n",
       "2   Artiodactyla  Cervidae   ⋯ endotherm/homoiotherm  2010-09-29      autumn\n",
       "⋮   ⋮             ⋮          ⋱ ⋮                      ⋮               ⋮     \n",
       "474 Salmoniformes Salmonidae ⋯ ectotherm/poikilotherm 2012-03-01      winter\n",
       "475 Salmoniformes Salmonidae ⋯ ectotherm/poikilotherm 2012-03-15      winter\n",
       "    samp_store_days samp_collect_device                       sampling_method\n",
       "1   317             Greiner Polypropylene Tube 50ml           feces sampling \n",
       "2   229             Greiner Polystyrene 30ml Faeces Container feces sampling \n",
       "⋮   ⋮               ⋮                                         ⋮              \n",
       "474 467             Eppendorf tube                            feces sampling \n",
       "475 453             Polyethylene freezer bag                  gut section    \n",
       "    diet      feeding_style     digestive_system digestive_system_detail\n",
       "1   omnivore  NA                simple           simple                 \n",
       "2   herbivore intermediate type foregut          foregut                \n",
       "⋮   ⋮         ⋮                 ⋮                ⋮                      \n",
       "474 carnivore NA                simple           simple                 \n",
       "475 carnivore NA                simple           simple                 "
      ]
     },
     "metadata": {},
     "output_type": "display_data"
    }
   ],
   "source": [
    "# reading in metadata\n",
    "metadata = read.delim(metadata_file, sep='\\t') %>%\n",
    "    mutate(diet = gsub(' ', '', diet),\n",
    "           SampleID = gsub('^F', 'XF', SampleID))\n",
    "metadata "
   ]
  },
  {
   "cell_type": "markdown",
   "metadata": {},
   "source": [
    "## Reads mapped"
   ]
  },
  {
   "cell_type": "markdown",
   "metadata": {},
   "source": [
    "### GTDBr86"
   ]
  },
  {
   "cell_type": "code",
   "execution_count": 9,
   "metadata": {
    "ExecuteTime": {
     "end_time": "2020-03-19T17:46:44.749503Z",
     "start_time": "2020-03-19T17:46:44.694Z"
    }
   },
   "outputs": [
    {
     "name": "stdout",
     "output_type": "stream",
     "text": [
      "[1] 291\n"
     ]
    }
   ],
   "source": [
    "# listing bracken kreport files from \n",
    "x = '/ebio/abt3_projects/Georg_animal_feces/data/metagenome/HiSeqRuns126-133-0138/wOutVertebrata/LLMGP_sub5k/'\n",
    "kreports = list.files(file.path(x, 'kraken'), pattern='*_bracken.kreport', full.names=TRUE)\n",
    "kreports %>% length %>% print"
   ]
  },
  {
   "cell_type": "code",
   "execution_count": 10,
   "metadata": {
    "ExecuteTime": {
     "end_time": "2020-03-19T17:47:11.843735Z",
     "start_time": "2020-03-19T17:46:48.853Z"
    }
   },
   "outputs": [
    {
     "data": {
      "text/html": [
       "<table>\n",
       "<caption>A data.frame: 1455 × 7</caption>\n",
       "<thead>\n",
       "\t<tr><th scope=col>V1</th><th scope=col>V2</th><th scope=col>V3</th><th scope=col>V4</th><th scope=col>V5</th><th scope=col>V6</th><th scope=col>Sample</th></tr>\n",
       "\t<tr><th scope=col>&lt;dbl&gt;</th><th scope=col>&lt;int&gt;</th><th scope=col>&lt;int&gt;</th><th scope=col>&lt;fct&gt;</th><th scope=col>&lt;int&gt;</th><th scope=col>&lt;chr&gt;</th><th scope=col>&lt;chr&gt;</th></tr>\n",
       "</thead>\n",
       "<tbody>\n",
       "\t<tr><td>70.26</td><td>48831526</td><td>48831526</td><td>U</td><td>0</td><td>unclassified</td><td>unassigned</td></tr>\n",
       "\t<tr><td>29.74</td><td>20671795</td><td>       0</td><td>R</td><td>1</td><td>root        </td><td>unassigned</td></tr>\n",
       "\t<tr><td>⋮</td><td>⋮</td><td>⋮</td><td>⋮</td><td>⋮</td><td>⋮</td><td>⋮</td></tr>\n",
       "\t<tr><td>63.20</td><td>631661</td><td>0</td><td>D</td><td>   2</td><td>Bacteria</td><td>XF90_Domestic_Dog</td></tr>\n",
       "\t<tr><td> 0.03</td><td>   315</td><td>0</td><td>D</td><td>2157</td><td>Archaea </td><td>XF90_Domestic_Dog</td></tr>\n",
       "</tbody>\n",
       "</table>\n"
      ],
      "text/latex": [
       "A data.frame: 1455 × 7\n",
       "\\begin{tabular}{lllllll}\n",
       " V1 & V2 & V3 & V4 & V5 & V6 & Sample\\\\\n",
       " <dbl> & <int> & <int> & <fct> & <int> & <chr> & <chr>\\\\\n",
       "\\hline\n",
       "\t 70.26 & 48831526 & 48831526 & U & 0 & unclassified & unassigned\\\\\n",
       "\t 29.74 & 20671795 &        0 & R & 1 & root         & unassigned\\\\\n",
       "\t ⋮ & ⋮ & ⋮ & ⋮ & ⋮ & ⋮ & ⋮\\\\\n",
       "\t 63.20 & 631661 & 0 & D &    2 & Bacteria & XF90\\_Domestic\\_Dog\\\\\n",
       "\t  0.03 &    315 & 0 & D & 2157 & Archaea  & XF90\\_Domestic\\_Dog\\\\\n",
       "\\end{tabular}\n"
      ],
      "text/markdown": [
       "\n",
       "A data.frame: 1455 × 7\n",
       "\n",
       "| V1 &lt;dbl&gt; | V2 &lt;int&gt; | V3 &lt;int&gt; | V4 &lt;fct&gt; | V5 &lt;int&gt; | V6 &lt;chr&gt; | Sample &lt;chr&gt; |\n",
       "|---|---|---|---|---|---|---|\n",
       "| 70.26 | 48831526 | 48831526 | U | 0 | unclassified | unassigned |\n",
       "| 29.74 | 20671795 |        0 | R | 1 | root         | unassigned |\n",
       "| ⋮ | ⋮ | ⋮ | ⋮ | ⋮ | ⋮ | ⋮ |\n",
       "| 63.20 | 631661 | 0 | D |    2 | Bacteria | XF90_Domestic_Dog |\n",
       "|  0.03 |    315 | 0 | D | 2157 | Archaea  | XF90_Domestic_Dog |\n",
       "\n"
      ],
      "text/plain": [
       "     V1    V2       V3       V4 V5   V6           Sample           \n",
       "1    70.26 48831526 48831526 U  0    unclassified unassigned       \n",
       "2    29.74 20671795        0 R  1    root         unassigned       \n",
       "⋮    ⋮     ⋮        ⋮        ⋮  ⋮    ⋮            ⋮                \n",
       "1454 63.20 631661   0        D     2 Bacteria     XF90_Domestic_Dog\n",
       "1455  0.03    315   0        D  2157 Archaea      XF90_Domestic_Dog"
      ]
     },
     "metadata": {},
     "output_type": "display_data"
    }
   ],
   "source": [
    "# reading in tables\n",
    "read_kreport = function(x){\n",
    "    df = read.delim(x, sep='\\t', header=FALSE)\n",
    "    df$Sample = gsub('.+/|_bracken.kreport', '', x)\n",
    "    return(df)\n",
    "}\n",
    "\n",
    "registerDoParallel(threads)\n",
    "to_keep = c('unclassified', 'root', 'cellular organisms', 'Bacteria', 'Archaea')\n",
    "GTDBr86_unmapped = plyr::llply(as.list(kreports), read_kreport, .parallel=TRUE) %>%\n",
    "    do.call(rbind, .) %>%\n",
    "    mutate(V6 = gsub('^ +', '', V6)) %>%\n",
    "    filter(V6 %in% to_keep)\n",
    "         \n",
    "GTDBr86_unmapped "
   ]
  },
  {
   "cell_type": "code",
   "execution_count": 11,
   "metadata": {
    "ExecuteTime": {
     "end_time": "2020-03-19T17:47:11.886964Z",
     "start_time": "2020-03-19T17:46:51.054Z"
    }
   },
   "outputs": [
    {
     "data": {
      "text/html": [
       "<table>\n",
       "<caption>A data.frame: 1455 × 15</caption>\n",
       "<thead>\n",
       "\t<tr><th scope=col>V1</th><th scope=col>V2</th><th scope=col>V3</th><th scope=col>V4</th><th scope=col>V5</th><th scope=col>V6</th><th scope=col>Sample</th><th scope=col>class</th><th scope=col>order</th><th scope=col>family</th><th scope=col>genus</th><th scope=col>scientific_name</th><th scope=col>habitat</th><th scope=col>diet</th><th scope=col>perc_unmapped</th></tr>\n",
       "\t<tr><th scope=col>&lt;dbl&gt;</th><th scope=col>&lt;int&gt;</th><th scope=col>&lt;int&gt;</th><th scope=col>&lt;fct&gt;</th><th scope=col>&lt;int&gt;</th><th scope=col>&lt;chr&gt;</th><th scope=col>&lt;chr&gt;</th><th scope=col>&lt;fct&gt;</th><th scope=col>&lt;fct&gt;</th><th scope=col>&lt;fct&gt;</th><th scope=col>&lt;fct&gt;</th><th scope=col>&lt;fct&gt;</th><th scope=col>&lt;fct&gt;</th><th scope=col>&lt;chr&gt;</th><th scope=col>&lt;dbl&gt;</th></tr>\n",
       "</thead>\n",
       "<tbody>\n",
       "\t<tr><td>70.26</td><td>48831526</td><td>48831526</td><td>U</td><td>0</td><td>unclassified</td><td>unassigned</td><td>NA</td><td>NA</td><td>NA</td><td>NA</td><td>NA</td><td>NA</td><td>NA</td><td>29.74</td></tr>\n",
       "\t<tr><td>29.74</td><td>20671795</td><td>       0</td><td>R</td><td>1</td><td>root        </td><td>unassigned</td><td>NA</td><td>NA</td><td>NA</td><td>NA</td><td>NA</td><td>NA</td><td>NA</td><td>70.26</td></tr>\n",
       "\t<tr><td>⋮</td><td>⋮</td><td>⋮</td><td>⋮</td><td>⋮</td><td>⋮</td><td>⋮</td><td>⋮</td><td>⋮</td><td>⋮</td><td>⋮</td><td>⋮</td><td>⋮</td><td>⋮</td><td>⋮</td></tr>\n",
       "\t<tr><td>63.20</td><td>631661</td><td>0</td><td>D</td><td>   2</td><td>Bacteria</td><td>XF90_Domestic_Dog</td><td>Mammalia</td><td>Carnivora</td><td>Canidae</td><td>Canis</td><td>Canis_lupus</td><td>terrestrial habitat</td><td>carnivore</td><td>36.80</td></tr>\n",
       "\t<tr><td> 0.03</td><td>   315</td><td>0</td><td>D</td><td>2157</td><td>Archaea </td><td>XF90_Domestic_Dog</td><td>Mammalia</td><td>Carnivora</td><td>Canidae</td><td>Canis</td><td>Canis_lupus</td><td>terrestrial habitat</td><td>carnivore</td><td>99.97</td></tr>\n",
       "</tbody>\n",
       "</table>\n"
      ],
      "text/latex": [
       "A data.frame: 1455 × 15\n",
       "\\begin{tabular}{lllllllllllllll}\n",
       " V1 & V2 & V3 & V4 & V5 & V6 & Sample & class & order & family & genus & scientific\\_name & habitat & diet & perc\\_unmapped\\\\\n",
       " <dbl> & <int> & <int> & <fct> & <int> & <chr> & <chr> & <fct> & <fct> & <fct> & <fct> & <fct> & <fct> & <chr> & <dbl>\\\\\n",
       "\\hline\n",
       "\t 70.26 & 48831526 & 48831526 & U & 0 & unclassified & unassigned & NA & NA & NA & NA & NA & NA & NA & 29.74\\\\\n",
       "\t 29.74 & 20671795 &        0 & R & 1 & root         & unassigned & NA & NA & NA & NA & NA & NA & NA & 70.26\\\\\n",
       "\t ⋮ & ⋮ & ⋮ & ⋮ & ⋮ & ⋮ & ⋮ & ⋮ & ⋮ & ⋮ & ⋮ & ⋮ & ⋮ & ⋮ & ⋮\\\\\n",
       "\t 63.20 & 631661 & 0 & D &    2 & Bacteria & XF90\\_Domestic\\_Dog & Mammalia & Carnivora & Canidae & Canis & Canis\\_lupus & terrestrial habitat & carnivore & 36.80\\\\\n",
       "\t  0.03 &    315 & 0 & D & 2157 & Archaea  & XF90\\_Domestic\\_Dog & Mammalia & Carnivora & Canidae & Canis & Canis\\_lupus & terrestrial habitat & carnivore & 99.97\\\\\n",
       "\\end{tabular}\n"
      ],
      "text/markdown": [
       "\n",
       "A data.frame: 1455 × 15\n",
       "\n",
       "| V1 &lt;dbl&gt; | V2 &lt;int&gt; | V3 &lt;int&gt; | V4 &lt;fct&gt; | V5 &lt;int&gt; | V6 &lt;chr&gt; | Sample &lt;chr&gt; | class &lt;fct&gt; | order &lt;fct&gt; | family &lt;fct&gt; | genus &lt;fct&gt; | scientific_name &lt;fct&gt; | habitat &lt;fct&gt; | diet &lt;chr&gt; | perc_unmapped &lt;dbl&gt; |\n",
       "|---|---|---|---|---|---|---|---|---|---|---|---|---|---|---|\n",
       "| 70.26 | 48831526 | 48831526 | U | 0 | unclassified | unassigned | NA | NA | NA | NA | NA | NA | NA | 29.74 |\n",
       "| 29.74 | 20671795 |        0 | R | 1 | root         | unassigned | NA | NA | NA | NA | NA | NA | NA | 70.26 |\n",
       "| ⋮ | ⋮ | ⋮ | ⋮ | ⋮ | ⋮ | ⋮ | ⋮ | ⋮ | ⋮ | ⋮ | ⋮ | ⋮ | ⋮ | ⋮ |\n",
       "| 63.20 | 631661 | 0 | D |    2 | Bacteria | XF90_Domestic_Dog | Mammalia | Carnivora | Canidae | Canis | Canis_lupus | terrestrial habitat | carnivore | 36.80 |\n",
       "|  0.03 |    315 | 0 | D | 2157 | Archaea  | XF90_Domestic_Dog | Mammalia | Carnivora | Canidae | Canis | Canis_lupus | terrestrial habitat | carnivore | 99.97 |\n",
       "\n"
      ],
      "text/plain": [
       "     V1    V2       V3       V4 V5   V6           Sample            class   \n",
       "1    70.26 48831526 48831526 U  0    unclassified unassigned        NA      \n",
       "2    29.74 20671795        0 R  1    root         unassigned        NA      \n",
       "⋮    ⋮     ⋮        ⋮        ⋮  ⋮    ⋮            ⋮                 ⋮       \n",
       "1454 63.20 631661   0        D     2 Bacteria     XF90_Domestic_Dog Mammalia\n",
       "1455  0.03    315   0        D  2157 Archaea      XF90_Domestic_Dog Mammalia\n",
       "     order     family  genus scientific_name habitat             diet     \n",
       "1    NA        NA      NA    NA              NA                  NA       \n",
       "2    NA        NA      NA    NA              NA                  NA       \n",
       "⋮    ⋮         ⋮       ⋮     ⋮               ⋮                   ⋮        \n",
       "1454 Carnivora Canidae Canis Canis_lupus     terrestrial habitat carnivore\n",
       "1455 Carnivora Canidae Canis Canis_lupus     terrestrial habitat carnivore\n",
       "     perc_unmapped\n",
       "1    29.74        \n",
       "2    70.26        \n",
       "⋮    ⋮            \n",
       "1454 36.80        \n",
       "1455 99.97        "
      ]
     },
     "metadata": {},
     "output_type": "display_data"
    }
   ],
   "source": [
    "# adding metadata\n",
    "GTDBr86_unmapped = GTDBr86_unmapped %>%\n",
    "    left_join(metadata %>% \n",
    "                dplyr::select(SampleID, class, order, family, genus, scientific_name, \n",
    "                              habitat, diet), \n",
    "                c('Sample'='SampleID')) %>%\n",
    "    mutate(perc_unmapped = 100 - V1) \n",
    "\n",
    "GTDBr86_unmapped "
   ]
  },
  {
   "cell_type": "code",
   "execution_count": 13,
   "metadata": {
    "ExecuteTime": {
     "end_time": "2020-03-19T17:47:26.697632Z",
     "start_time": "2020-03-19T17:47:26.231Z"
    }
   },
   "outputs": [
    {
     "data": {
      "text/html": [
       "<table>\n",
       "<caption>A matrix: 1 × 8 of type dbl</caption>\n",
       "<thead>\n",
       "\t<tr><th></th><th scope=col>Min.</th><th scope=col>1st Qu.</th><th scope=col>Median</th><th scope=col>Mean</th><th scope=col>3rd Qu.</th><th scope=col>Max.</th><th scope=col>sd</th><th scope=col>sd_err_of_mean</th></tr>\n",
       "</thead>\n",
       "<tbody>\n",
       "\t<tr><th scope=row>% unmapped</th><td>1.08</td><td>44.58</td><td>78.76</td><td>69.00827</td><td>97.57</td><td>99.99</td><td>37.398</td><td>15.268</td></tr>\n",
       "</tbody>\n",
       "</table>\n"
      ],
      "text/latex": [
       "A matrix: 1 × 8 of type dbl\n",
       "\\begin{tabular}{r|llllllll}\n",
       "  & Min. & 1st Qu. & Median & Mean & 3rd Qu. & Max. & sd & sd\\_err\\_of\\_mean\\\\\n",
       "\\hline\n",
       "\t\\% unmapped & 1.08 & 44.58 & 78.76 & 69.00827 & 97.57 & 99.99 & 37.398 & 15.268\\\\\n",
       "\\end{tabular}\n"
      ],
      "text/markdown": [
       "\n",
       "A matrix: 1 × 8 of type dbl\n",
       "\n",
       "| <!--/--> | Min. | 1st Qu. | Median | Mean | 3rd Qu. | Max. | sd | sd_err_of_mean |\n",
       "|---|---|---|---|---|---|---|---|---|\n",
       "| % unmapped | 1.08 | 44.58 | 78.76 | 69.00827 | 97.57 | 99.99 | 37.398 | 15.268 |\n",
       "\n"
      ],
      "text/plain": [
       "           Min. 1st Qu. Median Mean     3rd Qu. Max.  sd     sd_err_of_mean\n",
       "% unmapped 1.08 44.58   78.76  69.00827 97.57   99.99 37.398 15.268        "
      ]
     },
     "metadata": {},
     "output_type": "display_data"
    },
    {
     "name": "stdout",
     "output_type": "stream",
     "text": [
      "File written: /ebio/abt3_projects/Georg_animal_feces/notebooks/metagenome/HiSeqRuns126-133-0138/wOutVertebrata/.figures/04a86fdd3659939359f281103fae2548.RDS \n"
     ]
    },
    {
     "data": {
      "image/png": "[encoded data removed]",
      "text/plain": [
       "plot without title"
      ]
     },
     "metadata": {
      "image/png": {
       "height": 250,
       "width": 500
      },
      "text/plain": {
       "height": 250,
       "width": 500
      }
     },
     "output_type": "display_data"
    }
   ],
   "source": [
    "# summarizing\n",
    "GTDBr86_unmapped$perc_unmapped %>% summary_x('% unmapped')\n",
    "\n",
    "p = GTDBr86_unmapped %>%\n",
    "    ggplot(aes(class, perc_unmapped)) +\n",
    "    geom_boxplot() +\n",
    "    scale_color_discrete('Clade') +\n",
    "    labs(y='% reads unmapped') +\n",
    "    theme_bw()\n",
    "\n",
    "p.dims(5,2.5)\n",
    "Plot(p)"
   ]
  },
  {
   "cell_type": "markdown",
   "metadata": {},
   "source": [
    "### GTDBr89"
   ]
  },
  {
   "cell_type": "code",
   "execution_count": 14,
   "metadata": {
    "ExecuteTime": {
     "end_time": "2020-03-19T17:47:33.523497Z",
     "start_time": "2020-03-19T17:47:33.384Z"
    }
   },
   "outputs": [
    {
     "data": {
      "text/html": [
       "<table>\n",
       "<caption>A data.frame: 294 × 7</caption>\n",
       "<thead>\n",
       "\t<tr><th scope=col>sample</th><th scope=col>percent_reads</th><th scope=col>num_reads_mapped_to_clade</th><th scope=col>num_reads_mapped_to_taxon</th><th scope=col>rank_code</th><th scope=col>taxID</th><th scope=col>scientific_name</th></tr>\n",
       "\t<tr><th scope=col>&lt;fct&gt;</th><th scope=col>&lt;dbl&gt;</th><th scope=col>&lt;int&gt;</th><th scope=col>&lt;int&gt;</th><th scope=col>&lt;fct&gt;</th><th scope=col>&lt;int&gt;</th><th scope=col>&lt;fct&gt;</th></tr>\n",
       "</thead>\n",
       "<tbody>\n",
       "\t<tr><td>X258_Eurasian_Magpie</td><td>88.76</td><td>1202066</td><td>1202066</td><td>U</td><td>0</td><td>unclassified</td></tr>\n",
       "\t<tr><td>X71_Fire_Salamander </td><td>78.92</td><td>1548978</td><td>1548978</td><td>U</td><td>0</td><td>unclassified</td></tr>\n",
       "\t<tr><td>⋮</td><td>⋮</td><td>⋮</td><td>⋮</td><td>⋮</td><td>⋮</td><td>⋮</td></tr>\n",
       "\t<tr><td>X256_Zander          </td><td>54.63</td><td> 5029986</td><td> 5029986</td><td>U</td><td>0</td><td>unclassified</td></tr>\n",
       "\t<tr><td>X84_Common_Chiffchaff</td><td>71.99</td><td>17948275</td><td>17948275</td><td>U</td><td>0</td><td>unclassified</td></tr>\n",
       "</tbody>\n",
       "</table>\n"
      ],
      "text/latex": [
       "A data.frame: 294 × 7\n",
       "\\begin{tabular}{lllllll}\n",
       " sample & percent\\_reads & num\\_reads\\_mapped\\_to\\_clade & num\\_reads\\_mapped\\_to\\_taxon & rank\\_code & taxID & scientific\\_name\\\\\n",
       " <fct> & <dbl> & <int> & <int> & <fct> & <int> & <fct>\\\\\n",
       "\\hline\n",
       "\t X258\\_Eurasian\\_Magpie & 88.76 & 1202066 & 1202066 & U & 0 & unclassified\\\\\n",
       "\t X71\\_Fire\\_Salamander  & 78.92 & 1548978 & 1548978 & U & 0 & unclassified\\\\\n",
       "\t ⋮ & ⋮ & ⋮ & ⋮ & ⋮ & ⋮ & ⋮\\\\\n",
       "\t X256\\_Zander           & 54.63 &  5029986 &  5029986 & U & 0 & unclassified\\\\\n",
       "\t X84\\_Common\\_Chiffchaff & 71.99 & 17948275 & 17948275 & U & 0 & unclassified\\\\\n",
       "\\end{tabular}\n"
      ],
      "text/markdown": [
       "\n",
       "A data.frame: 294 × 7\n",
       "\n",
       "| sample &lt;fct&gt; | percent_reads &lt;dbl&gt; | num_reads_mapped_to_clade &lt;int&gt; | num_reads_mapped_to_taxon &lt;int&gt; | rank_code &lt;fct&gt; | taxID &lt;int&gt; | scientific_name &lt;fct&gt; |\n",
       "|---|---|---|---|---|---|---|\n",
       "| X258_Eurasian_Magpie | 88.76 | 1202066 | 1202066 | U | 0 | unclassified |\n",
       "| X71_Fire_Salamander  | 78.92 | 1548978 | 1548978 | U | 0 | unclassified |\n",
       "| ⋮ | ⋮ | ⋮ | ⋮ | ⋮ | ⋮ | ⋮ |\n",
       "| X256_Zander           | 54.63 |  5029986 |  5029986 | U | 0 | unclassified |\n",
       "| X84_Common_Chiffchaff | 71.99 | 17948275 | 17948275 | U | 0 | unclassified |\n",
       "\n"
      ],
      "text/plain": [
       "    sample                percent_reads num_reads_mapped_to_clade\n",
       "1   X258_Eurasian_Magpie  88.76         1202066                  \n",
       "2   X71_Fire_Salamander   78.92         1548978                  \n",
       "⋮   ⋮                     ⋮             ⋮                        \n",
       "293 X256_Zander           54.63          5029986                 \n",
       "294 X84_Common_Chiffchaff 71.99         17948275                 \n",
       "    num_reads_mapped_to_taxon rank_code taxID scientific_name\n",
       "1   1202066                   U         0     unclassified   \n",
       "2   1548978                   U         0     unclassified   \n",
       "⋮   ⋮                         ⋮         ⋮     ⋮              \n",
       "293  5029986                  U         0     unclassified   \n",
       "294 17948275                  U         0     unclassified   "
      ]
     },
     "metadata": {},
     "output_type": "display_data"
    }
   ],
   "source": [
    "# unclassified\n",
    "F = file.path(work_dir, 'kraken', 'all-combined_kraken-unclassified.tsv')\n",
    "GTDBr89_unmapped = read.delim(F, sep='\\t')\n",
    "GTDBr89_unmapped "
   ]
  },
  {
   "cell_type": "code",
   "execution_count": 15,
   "metadata": {
    "ExecuteTime": {
     "end_time": "2020-03-19T17:47:35.094607Z",
     "start_time": "2020-03-19T17:47:35.017Z"
    }
   },
   "outputs": [
    {
     "name": "stderr",
     "output_type": "stream",
     "text": [
      "Warning message:\n",
      "“Column `sample`/`SampleID` joining factor and character vector, coercing into character vector”\n"
     ]
    },
    {
     "data": {
      "text/html": [
       "<table>\n",
       "<caption>A data.frame: 294 × 14</caption>\n",
       "<thead>\n",
       "\t<tr><th scope=col>sample</th><th scope=col>percent_reads</th><th scope=col>num_reads_mapped_to_clade</th><th scope=col>num_reads_mapped_to_taxon</th><th scope=col>rank_code</th><th scope=col>taxID</th><th scope=col>scientific_name.x</th><th scope=col>class</th><th scope=col>order</th><th scope=col>family</th><th scope=col>genus</th><th scope=col>scientific_name.y</th><th scope=col>habitat</th><th scope=col>diet</th></tr>\n",
       "\t<tr><th scope=col>&lt;chr&gt;</th><th scope=col>&lt;dbl&gt;</th><th scope=col>&lt;int&gt;</th><th scope=col>&lt;int&gt;</th><th scope=col>&lt;fct&gt;</th><th scope=col>&lt;int&gt;</th><th scope=col>&lt;fct&gt;</th><th scope=col>&lt;fct&gt;</th><th scope=col>&lt;fct&gt;</th><th scope=col>&lt;fct&gt;</th><th scope=col>&lt;fct&gt;</th><th scope=col>&lt;fct&gt;</th><th scope=col>&lt;fct&gt;</th><th scope=col>&lt;chr&gt;</th></tr>\n",
       "</thead>\n",
       "<tbody>\n",
       "\t<tr><td>X258_Eurasian_Magpie</td><td>88.76</td><td>1202066</td><td>1202066</td><td>U</td><td>0</td><td>unclassified</td><td>Aves    </td><td>Passeriformes</td><td>Corvidae     </td><td>Pica      </td><td>Pica_pica            </td><td>terrestrial habitat</td><td>omnivore </td></tr>\n",
       "\t<tr><td>X71_Fire_Salamander </td><td>78.92</td><td>1548978</td><td>1548978</td><td>U</td><td>0</td><td>unclassified</td><td>Amphibia</td><td>Caudata      </td><td>Salamandridae</td><td>Salamandra</td><td>Salamandra_salamandra</td><td>terrestrial habitat</td><td>carnivore</td></tr>\n",
       "\t<tr><td>⋮</td><td>⋮</td><td>⋮</td><td>⋮</td><td>⋮</td><td>⋮</td><td>⋮</td><td>⋮</td><td>⋮</td><td>⋮</td><td>⋮</td><td>⋮</td><td>⋮</td><td>⋮</td></tr>\n",
       "\t<tr><td>X256_Zander          </td><td>54.63</td><td> 5029986</td><td> 5029986</td><td>U</td><td>0</td><td>unclassified</td><td>Actinopterygii</td><td>Perciformes  </td><td>Percidae </td><td>Sander      </td><td>Sander_lucioperca     </td><td>aquatic habitat    </td><td>carnivore</td></tr>\n",
       "\t<tr><td>X84_Common_Chiffchaff</td><td>71.99</td><td>17948275</td><td>17948275</td><td>U</td><td>0</td><td>unclassified</td><td>Aves          </td><td>Passeriformes</td><td>Sylviidae</td><td>Phylloscopus</td><td>Phylloscopus_collybita</td><td>terrestrial habitat</td><td>omnivore </td></tr>\n",
       "</tbody>\n",
       "</table>\n"
      ],
      "text/latex": [
       "A data.frame: 294 × 14\n",
       "\\begin{tabular}{llllllllllllll}\n",
       " sample & percent\\_reads & num\\_reads\\_mapped\\_to\\_clade & num\\_reads\\_mapped\\_to\\_taxon & rank\\_code & taxID & scientific\\_name.x & class & order & family & genus & scientific\\_name.y & habitat & diet\\\\\n",
       " <chr> & <dbl> & <int> & <int> & <fct> & <int> & <fct> & <fct> & <fct> & <fct> & <fct> & <fct> & <fct> & <chr>\\\\\n",
       "\\hline\n",
       "\t X258\\_Eurasian\\_Magpie & 88.76 & 1202066 & 1202066 & U & 0 & unclassified & Aves     & Passeriformes & Corvidae      & Pica       & Pica\\_pica             & terrestrial habitat & omnivore \\\\\n",
       "\t X71\\_Fire\\_Salamander  & 78.92 & 1548978 & 1548978 & U & 0 & unclassified & Amphibia & Caudata       & Salamandridae & Salamandra & Salamandra\\_salamandra & terrestrial habitat & carnivore\\\\\n",
       "\t ⋮ & ⋮ & ⋮ & ⋮ & ⋮ & ⋮ & ⋮ & ⋮ & ⋮ & ⋮ & ⋮ & ⋮ & ⋮ & ⋮\\\\\n",
       "\t X256\\_Zander           & 54.63 &  5029986 &  5029986 & U & 0 & unclassified & Actinopterygii & Perciformes   & Percidae  & Sander       & Sander\\_lucioperca      & aquatic habitat     & carnivore\\\\\n",
       "\t X84\\_Common\\_Chiffchaff & 71.99 & 17948275 & 17948275 & U & 0 & unclassified & Aves           & Passeriformes & Sylviidae & Phylloscopus & Phylloscopus\\_collybita & terrestrial habitat & omnivore \\\\\n",
       "\\end{tabular}\n"
      ],
      "text/markdown": [
       "\n",
       "A data.frame: 294 × 14\n",
       "\n",
       "| sample &lt;chr&gt; | percent_reads &lt;dbl&gt; | num_reads_mapped_to_clade &lt;int&gt; | num_reads_mapped_to_taxon &lt;int&gt; | rank_code &lt;fct&gt; | taxID &lt;int&gt; | scientific_name.x &lt;fct&gt; | class &lt;fct&gt; | order &lt;fct&gt; | family &lt;fct&gt; | genus &lt;fct&gt; | scientific_name.y &lt;fct&gt; | habitat &lt;fct&gt; | diet &lt;chr&gt; |\n",
       "|---|---|---|---|---|---|---|---|---|---|---|---|---|---|\n",
       "| X258_Eurasian_Magpie | 88.76 | 1202066 | 1202066 | U | 0 | unclassified | Aves     | Passeriformes | Corvidae      | Pica       | Pica_pica             | terrestrial habitat | omnivore  |\n",
       "| X71_Fire_Salamander  | 78.92 | 1548978 | 1548978 | U | 0 | unclassified | Amphibia | Caudata       | Salamandridae | Salamandra | Salamandra_salamandra | terrestrial habitat | carnivore |\n",
       "| ⋮ | ⋮ | ⋮ | ⋮ | ⋮ | ⋮ | ⋮ | ⋮ | ⋮ | ⋮ | ⋮ | ⋮ | ⋮ | ⋮ |\n",
       "| X256_Zander           | 54.63 |  5029986 |  5029986 | U | 0 | unclassified | Actinopterygii | Perciformes   | Percidae  | Sander       | Sander_lucioperca      | aquatic habitat     | carnivore |\n",
       "| X84_Common_Chiffchaff | 71.99 | 17948275 | 17948275 | U | 0 | unclassified | Aves           | Passeriformes | Sylviidae | Phylloscopus | Phylloscopus_collybita | terrestrial habitat | omnivore  |\n",
       "\n"
      ],
      "text/plain": [
       "    sample                percent_reads num_reads_mapped_to_clade\n",
       "1   X258_Eurasian_Magpie  88.76         1202066                  \n",
       "2   X71_Fire_Salamander   78.92         1548978                  \n",
       "⋮   ⋮                     ⋮             ⋮                        \n",
       "293 X256_Zander           54.63          5029986                 \n",
       "294 X84_Common_Chiffchaff 71.99         17948275                 \n",
       "    num_reads_mapped_to_taxon rank_code taxID scientific_name.x class         \n",
       "1   1202066                   U         0     unclassified      Aves          \n",
       "2   1548978                   U         0     unclassified      Amphibia      \n",
       "⋮   ⋮                         ⋮         ⋮     ⋮                 ⋮             \n",
       "293  5029986                  U         0     unclassified      Actinopterygii\n",
       "294 17948275                  U         0     unclassified      Aves          \n",
       "    order         family        genus        scientific_name.y     \n",
       "1   Passeriformes Corvidae      Pica         Pica_pica             \n",
       "2   Caudata       Salamandridae Salamandra   Salamandra_salamandra \n",
       "⋮   ⋮             ⋮             ⋮            ⋮                     \n",
       "293 Perciformes   Percidae      Sander       Sander_lucioperca     \n",
       "294 Passeriformes Sylviidae     Phylloscopus Phylloscopus_collybita\n",
       "    habitat             diet     \n",
       "1   terrestrial habitat omnivore \n",
       "2   terrestrial habitat carnivore\n",
       "⋮   ⋮                   ⋮        \n",
       "293 aquatic habitat     carnivore\n",
       "294 terrestrial habitat omnivore "
      ]
     },
     "metadata": {},
     "output_type": "display_data"
    }
   ],
   "source": [
    "# adding metadata\n",
    "GTDBr89_unmapped = GTDBr89_unmapped %>%\n",
    "    left_join(metadata %>% \n",
    "                dplyr::select(SampleID, class, order, family, genus, \n",
    "                              scientific_name, habitat, diet), \n",
    "                c('sample'='SampleID')) \n",
    "\n",
    "GTDBr89_unmapped"
   ]
  },
  {
   "cell_type": "markdown",
   "metadata": {},
   "source": [
    "### All classifications"
   ]
  },
  {
   "cell_type": "code",
   "execution_count": 16,
   "metadata": {
    "ExecuteTime": {
     "end_time": "2020-03-19T17:47:54.512036Z",
     "start_time": "2020-03-19T17:47:53.997Z"
    }
   },
   "outputs": [
    {
     "data": {
      "text/html": [
       "<table>\n",
       "<caption>A matrix: 1 × 8 of type dbl</caption>\n",
       "<thead>\n",
       "\t<tr><th></th><th scope=col>Min.</th><th scope=col>1st Qu.</th><th scope=col>Median</th><th scope=col>Mean</th><th scope=col>3rd Qu.</th><th scope=col>Max.</th><th scope=col>sd</th><th scope=col>sd_err_of_mean</th></tr>\n",
       "</thead>\n",
       "<tbody>\n",
       "\t<tr><th scope=row>% unmapped</th><td>5.68</td><td>47.7175</td><td>64.455</td><td>62.78133</td><td>83.57</td><td>95.5</td><td>31.448</td><td>12.839</td></tr>\n",
       "</tbody>\n",
       "</table>\n"
      ],
      "text/latex": [
       "A matrix: 1 × 8 of type dbl\n",
       "\\begin{tabular}{r|llllllll}\n",
       "  & Min. & 1st Qu. & Median & Mean & 3rd Qu. & Max. & sd & sd\\_err\\_of\\_mean\\\\\n",
       "\\hline\n",
       "\t\\% unmapped & 5.68 & 47.7175 & 64.455 & 62.78133 & 83.57 & 95.5 & 31.448 & 12.839\\\\\n",
       "\\end{tabular}\n"
      ],
      "text/markdown": [
       "\n",
       "A matrix: 1 × 8 of type dbl\n",
       "\n",
       "| <!--/--> | Min. | 1st Qu. | Median | Mean | 3rd Qu. | Max. | sd | sd_err_of_mean |\n",
       "|---|---|---|---|---|---|---|---|---|\n",
       "| % unmapped | 5.68 | 47.7175 | 64.455 | 62.78133 | 83.57 | 95.5 | 31.448 | 12.839 |\n",
       "\n"
      ],
      "text/plain": [
       "           Min. 1st Qu. Median Mean     3rd Qu. Max. sd     sd_err_of_mean\n",
       "% unmapped 5.68 47.7175 64.455 62.78133 83.57   95.5 31.448 12.839        "
      ]
     },
     "metadata": {},
     "output_type": "display_data"
    },
    {
     "name": "stdout",
     "output_type": "stream",
     "text": [
      "File written: /ebio/abt3_projects/Georg_animal_feces/notebooks/metagenome/HiSeqRuns126-133-0138/wOutVertebrata/.figures/fc41751f56b61094f45582d655dc5ef2.RDS \n"
     ]
    },
    {
     "data": {
      "image/png": "[encoded data removed]",
      "text/plain": [
       "plot without title"
      ]
     },
     "metadata": {
      "image/png": {
       "height": 250,
       "width": 500
      },
      "text/plain": {
       "height": 250,
       "width": 500
      }
     },
     "output_type": "display_data"
    }
   ],
   "source": [
    "# summarizing\n",
    "GTDBr89_unmapped$percent_reads %>% summary_x('% unmapped')\n",
    "\n",
    "p = GTDBr89_unmapped %>%\n",
    "    ggplot(aes(class, percent_reads)) +\n",
    "    geom_boxplot() +\n",
    "    labs(y='% reads unmapped') +\n",
    "    theme_bw()\n",
    "\n",
    "p.dims(5,2.5)\n",
    "Plot(p)"
   ]
  },
  {
   "cell_type": "markdown",
   "metadata": {},
   "source": [
    "# LLMGP-humann2"
   ]
  },
  {
   "cell_type": "code",
   "execution_count": 7,
   "metadata": {
    "ExecuteTime": {
     "end_time": "2019-12-05T07:43:58.046728Z",
     "start_time": "2019-12-05T07:43:58.015Z"
    }
   },
   "outputs": [
    {
     "name": "stdout",
     "output_type": "stream",
     "text": [
      "# DESCRIPTION:\n",
      "## This is an example of running the pipeline with a custom humann2 db.\n",
      "## This config is set up to just use the custom nucleotide db, but the protein db could be used also (or instead)\n",
      "\n",
      "#-- I/O --#\n",
      "# table with sample --> read_file information\n",
      "samples_file: /ebio/abt3_projects/Georg_animal_feces/data/metagenome/HiSeqRuns126-133-0138/LLMGQC/samples_cov-gte0.3.tsv\n",
      "\n",
      "# output location\n",
      "output_dir: /ebio/abt3_projects/Georg_animal_feces/data/metagenome/HiSeqRuns126-133-0138/LLMGP_GTDBr89/\n",
      "\n",
      "# read file path\n",
      "# use \"None\" if full file path is included in the samples_file\n",
      "read_file_path: None\n",
      "\n",
      "#-- DB --#\n",
      "## humann2 \n",
      "### custom humann2 databases\n",
      "humann2_nuc_db: /ebio/abt3_projects/databases_no-backup/GTDB/release89/LLMGP-DB/humann2/GTDBr89/all_genes_annot.fna.gz\n",
      "humann2_prot_db: /ebio/abt3_projects/databases_no-backup/GTDB/release89/LLMGP-DB/humann2/GTDBr89/all_genes_annot.dmnd\n",
      "### required humann2 database files (no need to change this)\n",
      "genefamily_annotation_db: /ebio/abt3_projects/databases_no-backup/humann2/utility_mapping/map_uniref50_name.txt.bz2\n",
      "metaphlan2_pkl_db: /ebio/abt3_projects/databases_no-backup/metaphlan2/mpa_v20_m200/mpa_v20_m200.pkl\n",
      "metaphlan2_bt2_db: /ebio/abt3_projects/databases_no-backup/metaphlan2/mpa_v20_m200/mpa_v20_m200     \n",
      "utility_mapping_db: /ebio/abt3_projects/databases_no-backup/humann2/utility_mapping\n",
      "## kraken/bracken (db selected automatically based on read length)\n",
      "kraken_dbs:\n",
      "  150bp: /ebio/abt3_projects/databases_no-backup/GTDB/release89/LLMGP-DB/kraken2/GTDBr89/database150mers.kraken\n",
      "  100bp: /ebio/abt3_projects/databases_no-backup/GTDB/release89/LLMGP-DB/kraken2/GTDBr89/database100mers.kraken\n",
      "### NCBI taxonomy\n",
      "tax_dump: /ebio/abt3_projects/databases_no-backup/GTDB/release89/taxdump/names.dmp\n",
      "\n",
      "#-- subsample --#\n",
      "# subsampling input reads \n",
      "## \"Skip\" skips subsampling; otherwise set the number of reads to subsample\n",
      "subsample_depth: 5000000\n",
      "subsample_seed: 18938\n",
      "\n",
      "#-- include read2 (if paired-end) --#\n",
      "# combine R1 & R2 or just use R1?\n",
      "include_read2: True\n",
      "\n",
      "#-- humann2 temporary files --#\n",
      "# remove the large temporary files generated by humann2?\n",
      "rm_humann2_tmp_files: True      \n",
      "\n",
      "#-- humann2 groupings --#\n",
      "# always have at least the \"*_default\" grouping\n",
      "humann2_regroup:\n",
      "  - uniref50_default\n",
      "  - uniref50_go\n",
      "  - uniref50_ko\n",
      "  - uniref50_eggnog\n",
      "  - uniref50_pfam\n",
      "  - uniref50_level4ec\n",
      "  - uniref50_infogo1000\n",
      "  - uniref50_rxn\n",
      "\n",
      "#-- software parameters --#\n",
      "# Use \"Skip\" to skip steps.\n",
      "# By skipping, you can run just humann2, kraken/bracken, or simka\n",
      "params:\n",
      "  # humann2\n",
      "  metaphlan2: -t rel_ab  \n",
      "  humann2: --gap-fill on --bypass-nucleotide-index --diamond-2pass\n",
      "  humann2_db_in_memory: True        # copy databases to memory; less I/O, more memory\n",
      "  humann2_diamond: --sensitive --max-target-seqs 20 --block-size 3 --index-chunks 2\n",
      "  humann2_diamond_evalue: 1\n",
      "  reduce_taxonomic_profile: --function max --sort-by level\n",
      "  humann2_renorm_table: --units relab\n",
      "  # kraken/bracken (NOTE: dependent on read length)\n",
      "  kraken: Skip #\"\"\n",
      "  bracken: -t 10 -l S        # species level (S); `-r` parameter set automatically\n",
      "  # simka \n",
      "  simka: Skip #-kmer-size 31 -abundance-min 2 -simple-dist -max-reads 1000000\n",
      "  simka_vis: -width 8 -height 8 -pca -heatmap\n",
      "  # hulk\n",
      "  hulk_histosketch: Skip # -k 21 -m 2\n",
      "  hulk_distance: \n",
      "    - jaccard\n",
      "    - braycurtis\n",
      "\n",
      "\n",
      "#-- snakemake pipeline --#\n",
      "pipeline:\n",
      "  snakemake_folder: ./\n",
      "  script_folder: ./bin/scripts/\n",
      "  temp_folder: /tmp/global2/\n"
     ]
    }
   ],
   "source": [
    "config_file = file.path(work_dir, 'config_custom-db_humann2.yaml')\n",
    "cat_file(config_file)"
   ]
  },
  {
   "cell_type": "markdown",
   "metadata": {},
   "source": [
    "## Run"
   ]
  },
  {
   "cell_type": "markdown",
   "metadata": {},
   "source": [
    "```\n",
    "(snakemake_dev) @ rick:/ebio/abt3_projects/Georg_animal_feces/bin/llmgp/\n",
    "screen -L -S llmgp-ga-GTDBr89 ./snakemake_sge.sh /ebio/abt3_projects/Georg_animal_feces/data/metagenome/HiSeqRuns126-133-0138/LLMGP_GTDBr89/config_custom-db_humann2.yaml cluster.json /ebio/abt3_projects/Georg_animal_feces/data/metagenome/HiSeqRuns126-133-0138/LLMGP_GTDBr89/SGE_log 30\n",
    "```"
   ]
  },
  {
   "cell_type": "markdown",
   "metadata": {},
   "source": [
    "# Summary"
   ]
  },
  {
   "cell_type": "markdown",
   "metadata": {},
   "source": [
    "## Gene families"
   ]
  },
  {
   "cell_type": "code",
   "execution_count": 17,
   "metadata": {
    "ExecuteTime": {
     "end_time": "2020-03-19T17:48:17.161030Z",
     "start_time": "2020-03-19T17:48:12.734Z"
    }
   },
   "outputs": [
    {
     "data": {
      "text/html": [
       "<table>\n",
       "<caption>A tibble: 2940 × 4</caption>\n",
       "<thead>\n",
       "\t<tr><th scope=col>Gene_family</th><th scope=col>annotation</th><th scope=col>Sample</th><th scope=col>Abundance</th></tr>\n",
       "\t<tr><th scope=col>&lt;chr&gt;</th><th scope=col>&lt;chr&gt;</th><th scope=col>&lt;chr&gt;</th><th scope=col>&lt;dbl&gt;</th></tr>\n",
       "</thead>\n",
       "<tbody>\n",
       "\t<tr><td>UNMAPPED           </td><td>None</td><td>X101_Horse</td><td>0.919965</td></tr>\n",
       "\t<tr><td>UniRef50_A0A008K4C1</td><td>None</td><td>X101_Horse</td><td>0.000000</td></tr>\n",
       "\t<tr><td>⋮</td><td>⋮</td><td>⋮</td><td>⋮</td></tr>\n",
       "\t<tr><td>UniRef50_A0A009BJ73: UDP-glucose 4-epimerase</td><td>UDP-glucose 4-epimerase</td><td>unassigned</td><td>0</td></tr>\n",
       "\t<tr><td>UniRef50_A0A009DVE3                         </td><td>None                   </td><td>unassigned</td><td>0</td></tr>\n",
       "</tbody>\n",
       "</table>\n"
      ],
      "text/latex": [
       "A tibble: 2940 × 4\n",
       "\\begin{tabular}{llll}\n",
       " Gene\\_family & annotation & Sample & Abundance\\\\\n",
       " <chr> & <chr> & <chr> & <dbl>\\\\\n",
       "\\hline\n",
       "\t UNMAPPED            & None & X101\\_Horse & 0.919965\\\\\n",
       "\t UniRef50\\_A0A008K4C1 & None & X101\\_Horse & 0.000000\\\\\n",
       "\t ⋮ & ⋮ & ⋮ & ⋮\\\\\n",
       "\t UniRef50\\_A0A009BJ73: UDP-glucose 4-epimerase & UDP-glucose 4-epimerase & unassigned & 0\\\\\n",
       "\t UniRef50\\_A0A009DVE3                          & None                    & unassigned & 0\\\\\n",
       "\\end{tabular}\n"
      ],
      "text/markdown": [
       "\n",
       "A tibble: 2940 × 4\n",
       "\n",
       "| Gene_family &lt;chr&gt; | annotation &lt;chr&gt; | Sample &lt;chr&gt; | Abundance &lt;dbl&gt; |\n",
       "|---|---|---|---|\n",
       "| UNMAPPED            | None | X101_Horse | 0.919965 |\n",
       "| UniRef50_A0A008K4C1 | None | X101_Horse | 0.000000 |\n",
       "| ⋮ | ⋮ | ⋮ | ⋮ |\n",
       "| UniRef50_A0A009BJ73: UDP-glucose 4-epimerase | UDP-glucose 4-epimerase | unassigned | 0 |\n",
       "| UniRef50_A0A009DVE3                          | None                    | unassigned | 0 |\n",
       "\n"
      ],
      "text/plain": [
       "     Gene_family                                  annotation             \n",
       "1    UNMAPPED                                     None                   \n",
       "2    UniRef50_A0A008K4C1                          None                   \n",
       "⋮    ⋮                                            ⋮                      \n",
       "2939 UniRef50_A0A009BJ73: UDP-glucose 4-epimerase UDP-glucose 4-epimerase\n",
       "2940 UniRef50_A0A009DVE3                          None                   \n",
       "     Sample     Abundance\n",
       "1    X101_Horse 0.919965 \n",
       "2    X101_Horse 0.000000 \n",
       "⋮    ⋮          ⋮        \n",
       "2939 unassigned 0        \n",
       "2940 unassigned 0        "
      ]
     },
     "metadata": {},
     "output_type": "display_data"
    }
   ],
   "source": [
    "# genes\n",
    "genes_file = file.path(work_dir, 'humann2', 'normalized', 'unstratified', \n",
    "                      'regroup', 'annot', 'genefamilies_uniref50_default.tsv.gz')\n",
    "cmd = glue::glue('gunzip -c {F}', F=genes_file)\n",
    "genes = fread(cmd=cmd, sep='\\t', nrows=10) %>%\n",
    "    as_tibble %>%\n",
    "    rename(\"Gene_family\" = `# Gene Family`) %>%\n",
    "    gather(Sample, Abundance, -Gene_family, -annotation) %>%\n",
    "    mutate(Sample = gsub('_Abundance-RPKs', '', Sample))\n",
    "\n",
    "genes"
   ]
  },
  {
   "cell_type": "code",
   "execution_count": 18,
   "metadata": {
    "ExecuteTime": {
     "end_time": "2020-03-19T17:48:26.067944Z",
     "start_time": "2020-03-19T17:48:25.709Z"
    }
   },
   "outputs": [
    {
     "data": {
      "text/html": [
       "<table>\n",
       "<caption>A matrix: 1 × 8 of type dbl</caption>\n",
       "<thead>\n",
       "\t<tr><th></th><th scope=col>Min.</th><th scope=col>1st Qu.</th><th scope=col>Median</th><th scope=col>Mean</th><th scope=col>3rd Qu.</th><th scope=col>Max.</th><th scope=col>sd</th><th scope=col>sd_err_of_mean</th></tr>\n",
       "</thead>\n",
       "<tbody>\n",
       "\t<tr><th scope=row>Unmapped</th><td>0.249975</td><td>0.7472543</td><td>0.899812</td><td>0.8272816</td><td>0.966634</td><td>0.999579</td><td>0.276</td><td>0.113</td></tr>\n",
       "</tbody>\n",
       "</table>\n"
      ],
      "text/latex": [
       "A matrix: 1 × 8 of type dbl\n",
       "\\begin{tabular}{r|llllllll}\n",
       "  & Min. & 1st Qu. & Median & Mean & 3rd Qu. & Max. & sd & sd\\_err\\_of\\_mean\\\\\n",
       "\\hline\n",
       "\tUnmapped & 0.249975 & 0.7472543 & 0.899812 & 0.8272816 & 0.966634 & 0.999579 & 0.276 & 0.113\\\\\n",
       "\\end{tabular}\n"
      ],
      "text/markdown": [
       "\n",
       "A matrix: 1 × 8 of type dbl\n",
       "\n",
       "| <!--/--> | Min. | 1st Qu. | Median | Mean | 3rd Qu. | Max. | sd | sd_err_of_mean |\n",
       "|---|---|---|---|---|---|---|---|---|\n",
       "| Unmapped | 0.249975 | 0.7472543 | 0.899812 | 0.8272816 | 0.966634 | 0.999579 | 0.276 | 0.113 |\n",
       "\n"
      ],
      "text/plain": [
       "         Min.     1st Qu.   Median   Mean      3rd Qu.  Max.     sd   \n",
       "Unmapped 0.249975 0.7472543 0.899812 0.8272816 0.966634 0.999579 0.276\n",
       "         sd_err_of_mean\n",
       "Unmapped 0.113         "
      ]
     },
     "metadata": {},
     "output_type": "display_data"
    },
    {
     "name": "stdout",
     "output_type": "stream",
     "text": [
      "File written: /ebio/abt3_projects/Georg_animal_feces/notebooks/metagenome/HiSeqRuns126-133-0138/wOutVertebrata/.figures/e66a8b437261fc75445c7d7b603687f7.RDS \n"
     ]
    },
    {
     "data": {
      "image/png": "[encoded data removed]",
      "text/plain": [
       "plot without title"
      ]
     },
     "metadata": {
      "image/png": {
       "height": 250,
       "width": 400
      },
      "text/plain": {
       "height": 250,
       "width": 400
      }
     },
     "output_type": "display_data"
    }
   ],
   "source": [
    "# unmapped\n",
    "x= genes %>%\n",
    "    filter(Gene_family == c('UNMAPPED')) \n",
    "\n",
    "x$Abundance %>% summary_x('Unmapped')\n",
    "\n",
    "p = genes %>%\n",
    "    filter(Gene_family == c('UNMAPPED')) %>%\n",
    "    ggplot(aes(Abundance)) +\n",
    "    geom_histogram(bins=30) +\n",
    "    labs(x='% unmapped', y='No. of samples') +\n",
    "    theme_bw()\n",
    "\n",
    "p.dims(4, 2.5)\n",
    "Plot(p)"
   ]
  },
  {
   "cell_type": "markdown",
   "metadata": {},
   "source": [
    "## Pathways"
   ]
  },
  {
   "cell_type": "code",
   "execution_count": 19,
   "metadata": {
    "ExecuteTime": {
     "end_time": "2020-03-19T17:48:40.632718Z",
     "start_time": "2020-03-19T17:48:40.270Z"
    }
   },
   "outputs": [
    {
     "data": {
      "text/html": [
       "<table>\n",
       "<caption>A tibble: 158466 × 3</caption>\n",
       "<thead>\n",
       "\t<tr><th scope=col>Pathway</th><th scope=col>Sample</th><th scope=col>Abundance</th></tr>\n",
       "\t<tr><th scope=col>&lt;chr&gt;</th><th scope=col>&lt;chr&gt;</th><th scope=col>&lt;dbl&gt;</th></tr>\n",
       "</thead>\n",
       "<tbody>\n",
       "\t<tr><td>UNMAPPED    </td><td>X101_Horse</td><td>0.9199650</td></tr>\n",
       "\t<tr><td>UNINTEGRATED</td><td>X101_Horse</td><td>0.0658207</td></tr>\n",
       "\t<tr><td>⋮</td><td>⋮</td><td>⋮</td></tr>\n",
       "\t<tr><td>VALDEG-PWY: L-valine degradation I</td><td>unassigned</td><td>2.24643e-05</td></tr>\n",
       "\t<tr><td>VALSYN-PWY: L-valine biosynthesis </td><td>unassigned</td><td>1.85255e-04</td></tr>\n",
       "</tbody>\n",
       "</table>\n"
      ],
      "text/latex": [
       "A tibble: 158466 × 3\n",
       "\\begin{tabular}{lll}\n",
       " Pathway & Sample & Abundance\\\\\n",
       " <chr> & <chr> & <dbl>\\\\\n",
       "\\hline\n",
       "\t UNMAPPED     & X101\\_Horse & 0.9199650\\\\\n",
       "\t UNINTEGRATED & X101\\_Horse & 0.0658207\\\\\n",
       "\t ⋮ & ⋮ & ⋮\\\\\n",
       "\t VALDEG-PWY: L-valine degradation I & unassigned & 2.24643e-05\\\\\n",
       "\t VALSYN-PWY: L-valine biosynthesis  & unassigned & 1.85255e-04\\\\\n",
       "\\end{tabular}\n"
      ],
      "text/markdown": [
       "\n",
       "A tibble: 158466 × 3\n",
       "\n",
       "| Pathway &lt;chr&gt; | Sample &lt;chr&gt; | Abundance &lt;dbl&gt; |\n",
       "|---|---|---|\n",
       "| UNMAPPED     | X101_Horse | 0.9199650 |\n",
       "| UNINTEGRATED | X101_Horse | 0.0658207 |\n",
       "| ⋮ | ⋮ | ⋮ |\n",
       "| VALDEG-PWY: L-valine degradation I | unassigned | 2.24643e-05 |\n",
       "| VALSYN-PWY: L-valine biosynthesis  | unassigned | 1.85255e-04 |\n",
       "\n"
      ],
      "text/plain": [
       "       Pathway                            Sample     Abundance  \n",
       "1      UNMAPPED                           X101_Horse 0.9199650  \n",
       "2      UNINTEGRATED                       X101_Horse 0.0658207  \n",
       "⋮      ⋮                                  ⋮          ⋮          \n",
       "158465 VALDEG-PWY: L-valine degradation I unassigned 2.24643e-05\n",
       "158466 VALSYN-PWY: L-valine biosynthesis  unassigned 1.85255e-04"
      ]
     },
     "metadata": {},
     "output_type": "display_data"
    }
   ],
   "source": [
    "F = file.path(work_dir, 'humann2', 'normalized', 'unstratified', 'pathabundance.tsv.gz')\n",
    "cmd = glue::glue('gunzip -c {F}', F=F)\n",
    "ptwy = fread(cmd=cmd, sep='\\t') %>%\n",
    "    as_tibble %>%\n",
    "    rename('Pathway' = `# Pathway`) %>%\n",
    "    gather(Sample, Abundance, -Pathway) %>%\n",
    "    mutate(Sample = gsub('_Abundance', '', Sample))\n",
    "\n",
    "ptwy "
   ]
  },
  {
   "cell_type": "code",
   "execution_count": 21,
   "metadata": {
    "ExecuteTime": {
     "end_time": "2020-03-19T17:48:48.188555Z",
     "start_time": "2020-03-19T17:48:47.148Z"
    }
   },
   "outputs": [
    {
     "data": {
      "image/png": "[encoded data removed]",
      "text/plain": [
       "plot without title"
      ]
     },
     "metadata": {
      "image/png": {
       "height": 250,
       "width": 600
      },
      "text/plain": {
       "height": 250,
       "width": 600
      }
     },
     "output_type": "display_data"
    }
   ],
   "source": [
    "# percent unmapped or unintegrated\n",
    "p = ptwy %>%\n",
    "    filter(Pathway %in% c('UNMAPPED', 'UNINTEGRATED')) %>%\n",
    "    ggplot(aes(Abundance)) +\n",
    "    geom_histogram(bins=30) +\n",
    "    facet_grid(. ~ Pathway) +\n",
    "    theme_bw()\n",
    "\n",
    "p.dims(6, 2.5)\n",
    "plot(p)"
   ]
  },
  {
   "cell_type": "code",
   "execution_count": 22,
   "metadata": {
    "ExecuteTime": {
     "end_time": "2020-03-19T17:49:05.483938Z",
     "start_time": "2020-03-19T17:49:05.325Z"
    }
   },
   "outputs": [
    {
     "data": {
      "text/html": [
       "<table>\n",
       "<caption>A matrix: 1 × 8 of type dbl</caption>\n",
       "<thead>\n",
       "\t<tr><th></th><th scope=col>Min.</th><th scope=col>1st Qu.</th><th scope=col>Median</th><th scope=col>Mean</th><th scope=col>3rd Qu.</th><th scope=col>Max.</th><th scope=col>sd</th><th scope=col>sd_err_of_mean</th></tr>\n",
       "</thead>\n",
       "<tbody>\n",
       "\t<tr><th scope=row>Frac. unmapped/unintegrated</th><td>0.912179</td><td>0.973316</td><td>0.9867334</td><td>0.9811384</td><td>0.9968559</td><td>0.9999994</td><td>0.032</td><td>0.013</td></tr>\n",
       "</tbody>\n",
       "</table>\n"
      ],
      "text/latex": [
       "A matrix: 1 × 8 of type dbl\n",
       "\\begin{tabular}{r|llllllll}\n",
       "  & Min. & 1st Qu. & Median & Mean & 3rd Qu. & Max. & sd & sd\\_err\\_of\\_mean\\\\\n",
       "\\hline\n",
       "\tFrac. unmapped/unintegrated & 0.912179 & 0.973316 & 0.9867334 & 0.9811384 & 0.9968559 & 0.9999994 & 0.032 & 0.013\\\\\n",
       "\\end{tabular}\n"
      ],
      "text/markdown": [
       "\n",
       "A matrix: 1 × 8 of type dbl\n",
       "\n",
       "| <!--/--> | Min. | 1st Qu. | Median | Mean | 3rd Qu. | Max. | sd | sd_err_of_mean |\n",
       "|---|---|---|---|---|---|---|---|---|\n",
       "| Frac. unmapped/unintegrated | 0.912179 | 0.973316 | 0.9867334 | 0.9811384 | 0.9968559 | 0.9999994 | 0.032 | 0.013 |\n",
       "\n"
      ],
      "text/plain": [
       "                            Min.     1st Qu.  Median    Mean      3rd Qu.  \n",
       "Frac. unmapped/unintegrated 0.912179 0.973316 0.9867334 0.9811384 0.9968559\n",
       "                            Max.      sd    sd_err_of_mean\n",
       "Frac. unmapped/unintegrated 0.9999994 0.032 0.013         "
      ]
     },
     "metadata": {},
     "output_type": "display_data"
    },
    {
     "ename": "ERROR",
     "evalue": "Error in dims(4, 2.5): could not find function \"dims\"\n",
     "output_type": "error",
     "traceback": [
      "Error in dims(4, 2.5): could not find function \"dims\"\nTraceback:\n"
     ]
    }
   ],
   "source": [
    "# percent unmapped or unintegrated\n",
    "ptwy_s = ptwy %>%\n",
    "    filter(Pathway %in% c('UNMAPPED', 'UNINTEGRATED')) %>%\n",
    "    group_by(Sample) %>%\n",
    "    summarize(Abundance = sum(Abundance)) %>%\n",
    "    ungroup() %>%\n",
    "    filter(Abundance > 0)\n",
    "\n",
    "ptwy_s$Abundance %>% summary_x('Frac. unmapped/unintegrated')\n",
    "\n",
    "p = ptwy_s %>%\n",
    "    ggplot(aes(Abundance)) +\n",
    "    geom_histogram(bins=40) +\n",
    "    theme_bw() +\n",
    "    labs(x='Frac. unmapped/unintegrated', y='No. of samples')\n",
    "\n",
    "dims(4, 2.5)\n",
    "plot(p)"
   ]
  },
  {
   "cell_type": "markdown",
   "metadata": {},
   "source": [
    "# sessionInfo"
   ]
  },
  {
   "cell_type": "code",
   "execution_count": 23,
   "metadata": {
    "ExecuteTime": {
     "end_time": "2020-03-19T17:49:08.280586Z",
     "start_time": "2020-03-19T17:49:08.141Z"
    }
   },
   "outputs": [
    {
     "data": {
      "text/plain": [
       "R version 3.6.2 (2019-12-12)\n",
       "Platform: x86_64-conda_cos6-linux-gnu (64-bit)\n",
       "Running under: Ubuntu 18.04.3 LTS\n",
       "\n",
       "Matrix products: default\n",
       "BLAS/LAPACK: /ebio/abt3_projects/Georg_animal_feces/envs/tidyverse/lib/libopenblasp-r0.3.7.so\n",
       "\n",
       "Random number generation:\n",
       " RNG:     Mersenne-Twister \n",
       " Normal:  Inversion \n",
       " Sample:  Rounding \n",
       " \n",
       "locale:\n",
       " [1] LC_CTYPE=en_US.UTF-8       LC_NUMERIC=C              \n",
       " [3] LC_TIME=en_US.UTF-8        LC_COLLATE=en_US.UTF-8    \n",
       " [5] LC_MONETARY=en_US.UTF-8    LC_MESSAGES=en_US.UTF-8   \n",
       " [7] LC_PAPER=en_US.UTF-8       LC_NAME=C                 \n",
       " [9] LC_ADDRESS=C               LC_TELEPHONE=C            \n",
       "[11] LC_MEASUREMENT=en_US.UTF-8 LC_IDENTIFICATION=C       \n",
       "\n",
       "attached base packages:\n",
       "[1] parallel  stats     graphics  grDevices utils     datasets  methods  \n",
       "[8] base     \n",
       "\n",
       "other attached packages:\n",
       "[1] LeyLabRMisc_0.1.2 doParallel_1.0.15 iterators_1.0.12  foreach_1.4.7    \n",
       "[5] data.table_1.12.8 ggplot2_3.2.1     tidyr_1.0.0       dplyr_0.8.3      \n",
       "\n",
       "loaded via a namespace (and not attached):\n",
       " [1] Rcpp_1.0.3       plyr_1.8.5       pillar_1.4.3     compiler_3.6.2  \n",
       " [5] base64enc_0.1-3  tools_3.6.2      zeallot_0.1.0    digest_0.6.23   \n",
       " [9] uuid_0.1-2       jsonlite_1.6     evaluate_0.14    tibble_2.1.3    \n",
       "[13] lifecycle_0.1.0  gtable_0.3.0     pkgconfig_2.0.3  rlang_0.4.2     \n",
       "[17] IRdisplay_0.7.0  IRkernel_1.1     stringr_1.4.0    repr_1.0.2      \n",
       "[21] withr_2.1.2      vctrs_0.2.1      grid_3.6.2       tidyselect_0.2.5\n",
       "[25] glue_1.3.1       R6_2.4.1         pbdZMQ_0.3-3     reshape2_1.4.3  \n",
       "[29] farver_2.0.2     purrr_0.3.3      magrittr_1.5     ellipsis_0.3.0  \n",
       "[33] backports_1.1.5  scales_1.1.0     codetools_0.2-16 htmltools_0.4.0 \n",
       "[37] assertthat_0.2.1 colorspace_1.4-1 labeling_0.3     stringi_1.4.5   \n",
       "[41] lazyeval_0.2.2   munsell_0.5.0    crayon_1.3.4    "
      ]
     },
     "metadata": {},
     "output_type": "display_data"
    }
   ],
   "source": [
    "sessionInfo()"
   ]
  },
  {
   "cell_type": "code",
   "execution_count": 47,
   "metadata": {
    "ExecuteTime": {
     "end_time": "2019-11-22T15:00:51.057137Z",
     "start_time": "2019-11-22T15:00:17.819Z"
    }
   },
   "outputs": [
    {
     "name": "stdout",
     "output_type": "stream",
     "text": [
      "LLMGP\n",
      "=====\n",
      "\n",
      "Ley Lab Metagenome Profiler (LLMGP)\n",
      "\n",
      "* Version: 0.8.0\n",
      "* Authors:\n",
      "  * Nick Youngblut <nyoungb2@gmail.com>\n",
      "* Maintainers:\n",
      "  * Nick Youngblut <nyoungb2@gmail.com>\n",
      "\n",
      "--- conda envs ---\n",
      "==> /ebio/abt3_projects/Georg_animal_feces/bin/llmgp//bin/envs/bowtie2.yaml <==\n",
      "channels:\n",
      "- conda-forge\n",
      "- bioconda\n",
      "dependencies:\n",
      "- pigz\n",
      "- bioconda::samtools\n",
      "- bioconda::bedtools\n",
      "- bioconda::bowtie2\n",
      "\n",
      "==> /ebio/abt3_projects/Georg_animal_feces/bin/llmgp//bin/envs/compress.yaml <==\n",
      "channels:\n",
      "- conda-forge\n",
      "- bioconda\n",
      "dependencies:\n",
      "- pigz\n",
      "- bioconda::dsrc\n",
      "\n",
      "==> /ebio/abt3_projects/Georg_animal_feces/bin/llmgp//bin/envs/fastqc.yaml <==\n",
      "channels:\n",
      "- conda-forge\n",
      "- bioconda\n",
      "dependencies:\n",
      "- bioconda::fastqc\n",
      "\n",
      "==> /ebio/abt3_projects/Georg_animal_feces/bin/llmgp//bin/envs/hadley.yaml <==\n",
      "channels:\n",
      "- conda-forge\n",
      "dependencies:\n",
      "- conda-forge::r-ape\n",
      "- conda-forge::r-dplyr\n",
      "- conda-forge::r-tidyr\n",
      "- conda-forge::r-ggplot2\n",
      "\n",
      "==> /ebio/abt3_projects/Georg_animal_feces/bin/llmgp//bin/envs/humann2.yaml <==\n",
      "channels:\n",
      "- conda-forge\n",
      "- bioconda\n",
      "dependencies:\n",
      "- pigz\n",
      "- conda-forge::glpk=4.65\n",
      "- bioconda::bowtie2=2.3.4.1\n",
      "- bioconda::humann2=0.11.1\n",
      "==> /ebio/abt3_projects/Georg_animal_feces/bin/llmgp//bin/envs/multiqc.yaml <==\n",
      "channels:\n",
      "- conda-forge\n",
      "- bioconda\n",
      "dependencies:\n",
      "- bioconda::multiqc\n",
      "\n",
      "==> /ebio/abt3_projects/Georg_animal_feces/bin/llmgp//bin/envs/read_combine.yaml <==\n",
      "channels:\n",
      "- conda-forge\n",
      "- bioconda\n",
      "dependencies:\n",
      "- pigz\n",
      "- bioconda::bioawk\n",
      "- bioconda::seqtk\n",
      "==> /ebio/abt3_projects/Georg_animal_feces/bin/llmgp//bin/envs/samtools.yaml <==\n",
      "channels:\n",
      "- conda-forge\n",
      "- bioconda\n",
      "dependencies:\n",
      "- pigz\n",
      "- bioconda::samtools\n",
      "\n",
      "==> /ebio/abt3_projects/Georg_animal_feces/bin/llmgp//bin/envs/simka.yaml <==\n",
      "channels:\n",
      "- conda-forge\n",
      "- bioconda\n",
      "dependencies:\n",
      "- pigz\n",
      "- conda-forge::r-dendextend\n",
      "- conda-forge::r-gplots\n",
      "- bioconda::simka\n",
      "\n",
      "==> /ebio/abt3_projects/Georg_animal_feces/bin/llmgp//bin/envs/skewer.yaml <==\n",
      "channels:\n",
      "- conda-forge\n",
      "- bioconda\n",
      "dependencies:\n",
      "- pigz\n",
      "- bioconda::skewer\n",
      "\n",
      "==> /ebio/abt3_projects/Georg_animal_feces/bin/llmgp//bin/envs/hulk.yaml <==\n",
      "channels:\n",
      "- conda-forge\n",
      "- bioconda\n",
      "dependencies:\n",
      "- pigz\n",
      "- bioconda::hulk=0.1.2\n",
      "\n",
      "==> /ebio/abt3_projects/Georg_animal_feces/bin/llmgp//bin/envs/kraken.yaml <==\n",
      "channels:\n",
      "- conda-forge\n",
      "- bioconda\n",
      "dependencies:\n",
      "- pigz\n",
      "- bioconda::taxonkit<0.5.0\n",
      "- bioconda::kraken2\n",
      "- bioconda::bracken=2.2\n"
     ]
    }
   ],
   "source": [
    "pipelineInfo(pipeline_dir)"
   ]
  },
  {
   "cell_type": "code",
   "execution_count": null,
   "metadata": {},
   "outputs": [],
   "source": []
  }
 ],
 "metadata": {
  "kernelspec": {
   "display_name": "R [conda env:Georg_animal_feces-tidyverse]",
   "language": "R",
   "name": "conda-env-Georg_animal_feces-tidyverse-r"
  },
  "language_info": {
   "codemirror_mode": "r",
   "file_extension": ".r",
   "mimetype": "text/x-r-source",
   "name": "R",
   "pygments_lexer": "r",
   "version": "3.6.2"
  },
  "notify_time": "30",
  "toc": {
   "base_numbering": 1,
   "nav_menu": {},
   "number_sections": true,
   "sideBar": true,
   "skip_h1_title": false,
   "title_cell": "Table of Contents",
   "title_sidebar": "Contents",
   "toc_cell": true,
   "toc_position": {
    "height": "calc(100% - 180px)",
    "left": "10px",
    "top": "150px",
    "width": "256px"
   },
   "toc_section_display": true,
   "toc_window_display": true
  }
 },
 "nbformat": 4,
 "nbformat_minor": 2
}
