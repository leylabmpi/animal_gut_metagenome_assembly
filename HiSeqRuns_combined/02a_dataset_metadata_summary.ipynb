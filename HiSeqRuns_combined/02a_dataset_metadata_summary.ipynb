{
 "cells": [
  {
   "cell_type": "markdown",
   "metadata": {
    "toc": true
   },
   "source": [
    "<h1>Table of Contents<span class=\"tocSkip\"></span></h1>\n",
    "<div class=\"toc\"><ul class=\"toc-item\"><li><span><a href=\"#Goal\" data-toc-modified-id=\"Goal-1\"><span class=\"toc-item-num\">1&nbsp;&nbsp;</span>Goal</a></span></li><li><span><a href=\"#Var\" data-toc-modified-id=\"Var-2\"><span class=\"toc-item-num\">2&nbsp;&nbsp;</span>Var</a></span></li><li><span><a href=\"#Init\" data-toc-modified-id=\"Init-3\"><span class=\"toc-item-num\">3&nbsp;&nbsp;</span>Init</a></span></li><li><span><a href=\"#Load\" data-toc-modified-id=\"Load-4\"><span class=\"toc-item-num\">4&nbsp;&nbsp;</span>Load</a></span></li><li><span><a href=\"#Format\" data-toc-modified-id=\"Format-5\"><span class=\"toc-item-num\">5&nbsp;&nbsp;</span>Format</a></span></li><li><span><a href=\"#Filtering-trees\" data-toc-modified-id=\"Filtering-trees-6\"><span class=\"toc-item-num\">6&nbsp;&nbsp;</span>Filtering trees</a></span><ul class=\"toc-item\"><li><span><a href=\"#Writing-trees\" data-toc-modified-id=\"Writing-trees-6.1\"><span class=\"toc-item-num\">6.1&nbsp;&nbsp;</span>Writing trees</a></span></li></ul></li><li><span><a href=\"#Host-metadata\" data-toc-modified-id=\"Host-metadata-7\"><span class=\"toc-item-num\">7&nbsp;&nbsp;</span>Host metadata</a></span><ul class=\"toc-item\"><li><span><a href=\"#Individuals\" data-toc-modified-id=\"Individuals-7.1\"><span class=\"toc-item-num\">7.1&nbsp;&nbsp;</span>Individuals</a></span></li><li><span><a href=\"#Diet\" data-toc-modified-id=\"Diet-7.2\"><span class=\"toc-item-num\">7.2&nbsp;&nbsp;</span>Diet</a></span></li><li><span><a href=\"#Diet-detailed\" data-toc-modified-id=\"Diet-detailed-7.3\"><span class=\"toc-item-num\">7.3&nbsp;&nbsp;</span>Diet detailed</a></span></li><li><span><a href=\"#Habitat\" data-toc-modified-id=\"Habitat-7.4\"><span class=\"toc-item-num\">7.4&nbsp;&nbsp;</span>Habitat</a></span></li><li><span><a href=\"#Sample-type\" data-toc-modified-id=\"Sample-type-7.5\"><span class=\"toc-item-num\">7.5&nbsp;&nbsp;</span>Sample type</a></span></li><li><span><a href=\"#Wild/Captive\" data-toc-modified-id=\"Wild/Captive-7.6\"><span class=\"toc-item-num\">7.6&nbsp;&nbsp;</span>Wild/Captive</a></span></li><li><span><a href=\"#Digestive-system\" data-toc-modified-id=\"Digestive-system-7.7\"><span class=\"toc-item-num\">7.7&nbsp;&nbsp;</span>Digestive system</a></span></li></ul></li><li><span><a href=\"#Sequence-data\" data-toc-modified-id=\"Sequence-data-8\"><span class=\"toc-item-num\">8&nbsp;&nbsp;</span>Sequence data</a></span><ul class=\"toc-item\"><li><span><a href=\"#Total-seqs\" data-toc-modified-id=\"Total-seqs-8.1\"><span class=\"toc-item-num\">8.1&nbsp;&nbsp;</span>Total seqs</a></span></li><li><span><a href=\"#Estimated-coverage\" data-toc-modified-id=\"Estimated-coverage-8.2\"><span class=\"toc-item-num\">8.2&nbsp;&nbsp;</span>Estimated coverage</a></span></li></ul></li><li><span><a href=\"#Supplemental-table\" data-toc-modified-id=\"Supplemental-table-9\"><span class=\"toc-item-num\">9&nbsp;&nbsp;</span>Supplemental table</a></span></li><li><span><a href=\"#sessionInfo\" data-toc-modified-id=\"sessionInfo-10\"><span class=\"toc-item-num\">10&nbsp;&nbsp;</span>sessionInfo</a></span></li></ul></div>"
   ]
  },
  {
   "cell_type": "markdown",
   "metadata": {},
   "source": [
    "# Goal\n",
    "\n",
    "* Summarize the dataset + metadata for the filterd, \"final\" metagenomes"
   ]
  },
  {
   "cell_type": "markdown",
   "metadata": {},
   "source": [
    "# Var"
   ]
  },
  {
   "cell_type": "code",
   "execution_count": 2,
   "metadata": {
    "ExecuteTime": {
     "end_time": "2020-04-29T15:02:06.380894Z",
     "start_time": "2020-04-29T15:02:06.208Z"
    }
   },
   "outputs": [],
   "source": [
    "work_dir = '/ebio/abt3_projects/Georg_animal_feces/data/metagenome/HiSeqRuns126-133-0138/wOutVertebrata/LLMGQC/metadata_summary/'\n",
    "\n",
    "# list of all postQC (& post host read filtering) reads\n",
    "samps_file = '/ebio/abt3_projects/Georg_animal_feces/data/metagenome/HiSeqRuns126-133-0138/wOutVertebrata/LLMGQC/samples_cov-gte0.3.tsv'\n",
    "# sample metadata\n",
    "metadata_file = '/ebio/abt3_projects/Georg_animal_feces/data/mapping/unified_metadata_complete_190529.tsv'\n",
    "\n",
    "# host phylogeny\n",
    "tree_SpecD_file = '/ebio/abt3_projects/Georg_animal_feces/data/animal/phylogeny/TT/unified_metadata_complete_20190416_rn.nwk'\n",
    "tree_IndD_file = '/ebio/abt3_projects/Georg_animal_feces/data/animal/phylogeny/TT/unified_metadata_complete_20190416_rn_IndD.nwk'\n"
   ]
  },
  {
   "cell_type": "markdown",
   "metadata": {},
   "source": [
    "# Init"
   ]
  },
  {
   "cell_type": "code",
   "execution_count": 5,
   "metadata": {
    "ExecuteTime": {
     "end_time": "2020-04-29T15:02:08.995860Z",
     "start_time": "2020-04-29T15:02:08.929Z"
    }
   },
   "outputs": [],
   "source": [
    "library(dplyr)\n",
    "library(tidyr)\n",
    "library(ggplot2)\n",
    "library(ape)\n",
    "library(LeyLabRMisc)"
   ]
  },
  {
   "cell_type": "code",
   "execution_count": 4,
   "metadata": {
    "ExecuteTime": {
     "end_time": "2020-04-29T15:02:07.690175Z",
     "start_time": "2020-04-29T15:02:06.636Z"
    }
   },
   "outputs": [
    {
     "name": "stdout",
     "output_type": "stream",
     "text": [
      "Directory already exists: /ebio/abt3_projects/Georg_animal_feces/data/metagenome/HiSeqRuns126-133-0138/wOutVertebrata/LLMGQC/metadata_summary/ \n"
     ]
    }
   ],
   "source": [
    "make_dir(work_dir)\n",
    "df.dims()"
   ]
  },
  {
   "cell_type": "markdown",
   "metadata": {},
   "source": [
    "# Load"
   ]
  },
  {
   "cell_type": "code",
   "execution_count": 6,
   "metadata": {
    "ExecuteTime": {
     "end_time": "2020-04-29T15:02:10.811947Z",
     "start_time": "2020-04-29T15:02:10.674Z"
    }
   },
   "outputs": [
    {
     "data": {
      "text/html": [
       "<table>\n",
       "<caption>A data.frame: 291 × 6</caption>\n",
       "<thead>\n",
       "\t<tr><th scope=col>Sample</th><th scope=col>Read1</th><th scope=col>Read2</th><th scope=col>Total.Sequences</th><th scope=col>nonpareil_coverage</th><th scope=col>nonpareil_diversity</th></tr>\n",
       "\t<tr><th scope=col>&lt;fct&gt;</th><th scope=col>&lt;fct&gt;</th><th scope=col>&lt;fct&gt;</th><th scope=col>&lt;int&gt;</th><th scope=col>&lt;dbl&gt;</th><th scope=col>&lt;dbl&gt;</th></tr>\n",
       "</thead>\n",
       "<tbody>\n",
       "\t<tr><td>X144_Cattle               </td><td>/ebio/abt3_projects/Georg_animal_feces/data/metagenome/HiSeqRuns126-133-0138/wOutVertebrata/LLMGQC/final/X144_Cattle/R1_final.fq.gz               </td><td>/ebio/abt3_projects/Georg_animal_feces/data/metagenome/HiSeqRuns126-133-0138/wOutVertebrata/LLMGQC/final/X144_Cattle/R2_final.fq.gz               </td><td>10471331</td><td>0.3073356</td><td>22.03854</td></tr>\n",
       "\t<tr><td>X370_African_Bush_Elephant</td><td>/ebio/abt3_projects/Georg_animal_feces/data/metagenome/HiSeqRuns126-133-0138/wOutVertebrata/LLMGQC/final/X370_African_Bush_Elephant/R1_final.fq.gz</td><td>/ebio/abt3_projects/Georg_animal_feces/data/metagenome/HiSeqRuns126-133-0138/wOutVertebrata/LLMGQC/final/X370_African_Bush_Elephant/R2_final.fq.gz</td><td>  551609</td><td>0.3190188</td><td>18.99648</td></tr>\n",
       "\t<tr><td>⋮</td><td>⋮</td><td>⋮</td><td>⋮</td><td>⋮</td><td>⋮</td></tr>\n",
       "\t<tr><td>X256_Zander          </td><td>/ebio/abt3_projects/Georg_animal_feces/data/metagenome/HiSeqRuns126-133-0138/wOutVertebrata/LLMGQC/final/X256_Zander/R1_final.fq.gz          </td><td>/ebio/abt3_projects/Georg_animal_feces/data/metagenome/HiSeqRuns126-133-0138/wOutVertebrata/LLMGQC/final/X256_Zander/R2_final.fq.gz          </td><td> 9198058</td><td>0.9757480</td><td>14.88468</td></tr>\n",
       "\t<tr><td>X84_Common_Chiffchaff</td><td>/ebio/abt3_projects/Georg_animal_feces/data/metagenome/HiSeqRuns126-133-0138/wOutVertebrata/LLMGQC/final/X84_Common_Chiffchaff/R1_final.fq.gz</td><td>/ebio/abt3_projects/Georg_animal_feces/data/metagenome/HiSeqRuns126-133-0138/wOutVertebrata/LLMGQC/final/X84_Common_Chiffchaff/R2_final.fq.gz</td><td>24926183</td><td>0.9791558</td><td>14.22184</td></tr>\n",
       "</tbody>\n",
       "</table>\n"
      ],
      "text/latex": [
       "A data.frame: 291 × 6\n",
       "\\begin{tabular}{llllll}\n",
       " Sample & Read1 & Read2 & Total.Sequences & nonpareil\\_coverage & nonpareil\\_diversity\\\\\n",
       " <fct> & <fct> & <fct> & <int> & <dbl> & <dbl>\\\\\n",
       "\\hline\n",
       "\t X144\\_Cattle                & /ebio/abt3\\_projects/Georg\\_animal\\_feces/data/metagenome/HiSeqRuns126-133-0138/wOutVertebrata/LLMGQC/final/X144\\_Cattle/R1\\_final.fq.gz                & /ebio/abt3\\_projects/Georg\\_animal\\_feces/data/metagenome/HiSeqRuns126-133-0138/wOutVertebrata/LLMGQC/final/X144\\_Cattle/R2\\_final.fq.gz                & 10471331 & 0.3073356 & 22.03854\\\\\n",
       "\t X370\\_African\\_Bush\\_Elephant & /ebio/abt3\\_projects/Georg\\_animal\\_feces/data/metagenome/HiSeqRuns126-133-0138/wOutVertebrata/LLMGQC/final/X370\\_African\\_Bush\\_Elephant/R1\\_final.fq.gz & /ebio/abt3\\_projects/Georg\\_animal\\_feces/data/metagenome/HiSeqRuns126-133-0138/wOutVertebrata/LLMGQC/final/X370\\_African\\_Bush\\_Elephant/R2\\_final.fq.gz &   551609 & 0.3190188 & 18.99648\\\\\n",
       "\t ⋮ & ⋮ & ⋮ & ⋮ & ⋮ & ⋮\\\\\n",
       "\t X256\\_Zander           & /ebio/abt3\\_projects/Georg\\_animal\\_feces/data/metagenome/HiSeqRuns126-133-0138/wOutVertebrata/LLMGQC/final/X256\\_Zander/R1\\_final.fq.gz           & /ebio/abt3\\_projects/Georg\\_animal\\_feces/data/metagenome/HiSeqRuns126-133-0138/wOutVertebrata/LLMGQC/final/X256\\_Zander/R2\\_final.fq.gz           &  9198058 & 0.9757480 & 14.88468\\\\\n",
       "\t X84\\_Common\\_Chiffchaff & /ebio/abt3\\_projects/Georg\\_animal\\_feces/data/metagenome/HiSeqRuns126-133-0138/wOutVertebrata/LLMGQC/final/X84\\_Common\\_Chiffchaff/R1\\_final.fq.gz & /ebio/abt3\\_projects/Georg\\_animal\\_feces/data/metagenome/HiSeqRuns126-133-0138/wOutVertebrata/LLMGQC/final/X84\\_Common\\_Chiffchaff/R2\\_final.fq.gz & 24926183 & 0.9791558 & 14.22184\\\\\n",
       "\\end{tabular}\n"
      ],
      "text/markdown": [
       "\n",
       "A data.frame: 291 × 6\n",
       "\n",
       "| Sample &lt;fct&gt; | Read1 &lt;fct&gt; | Read2 &lt;fct&gt; | Total.Sequences &lt;int&gt; | nonpareil_coverage &lt;dbl&gt; | nonpareil_diversity &lt;dbl&gt; |\n",
       "|---|---|---|---|---|---|\n",
       "| X144_Cattle                | /ebio/abt3_projects/Georg_animal_feces/data/metagenome/HiSeqRuns126-133-0138/wOutVertebrata/LLMGQC/final/X144_Cattle/R1_final.fq.gz                | /ebio/abt3_projects/Georg_animal_feces/data/metagenome/HiSeqRuns126-133-0138/wOutVertebrata/LLMGQC/final/X144_Cattle/R2_final.fq.gz                | 10471331 | 0.3073356 | 22.03854 |\n",
       "| X370_African_Bush_Elephant | /ebio/abt3_projects/Georg_animal_feces/data/metagenome/HiSeqRuns126-133-0138/wOutVertebrata/LLMGQC/final/X370_African_Bush_Elephant/R1_final.fq.gz | /ebio/abt3_projects/Georg_animal_feces/data/metagenome/HiSeqRuns126-133-0138/wOutVertebrata/LLMGQC/final/X370_African_Bush_Elephant/R2_final.fq.gz |   551609 | 0.3190188 | 18.99648 |\n",
       "| ⋮ | ⋮ | ⋮ | ⋮ | ⋮ | ⋮ |\n",
       "| X256_Zander           | /ebio/abt3_projects/Georg_animal_feces/data/metagenome/HiSeqRuns126-133-0138/wOutVertebrata/LLMGQC/final/X256_Zander/R1_final.fq.gz           | /ebio/abt3_projects/Georg_animal_feces/data/metagenome/HiSeqRuns126-133-0138/wOutVertebrata/LLMGQC/final/X256_Zander/R2_final.fq.gz           |  9198058 | 0.9757480 | 14.88468 |\n",
       "| X84_Common_Chiffchaff | /ebio/abt3_projects/Georg_animal_feces/data/metagenome/HiSeqRuns126-133-0138/wOutVertebrata/LLMGQC/final/X84_Common_Chiffchaff/R1_final.fq.gz | /ebio/abt3_projects/Georg_animal_feces/data/metagenome/HiSeqRuns126-133-0138/wOutVertebrata/LLMGQC/final/X84_Common_Chiffchaff/R2_final.fq.gz | 24926183 | 0.9791558 | 14.22184 |\n",
       "\n"
      ],
      "text/plain": [
       "    Sample                    \n",
       "1   X144_Cattle               \n",
       "2   X370_African_Bush_Elephant\n",
       "⋮   ⋮                         \n",
       "290 X256_Zander               \n",
       "291 X84_Common_Chiffchaff     \n",
       "    Read1                                                                                                                                             \n",
       "1   /ebio/abt3_projects/Georg_animal_feces/data/metagenome/HiSeqRuns126-133-0138/wOutVertebrata/LLMGQC/final/X144_Cattle/R1_final.fq.gz               \n",
       "2   /ebio/abt3_projects/Georg_animal_feces/data/metagenome/HiSeqRuns126-133-0138/wOutVertebrata/LLMGQC/final/X370_African_Bush_Elephant/R1_final.fq.gz\n",
       "⋮   ⋮                                                                                                                                                 \n",
       "290 /ebio/abt3_projects/Georg_animal_feces/data/metagenome/HiSeqRuns126-133-0138/wOutVertebrata/LLMGQC/final/X256_Zander/R1_final.fq.gz               \n",
       "291 /ebio/abt3_projects/Georg_animal_feces/data/metagenome/HiSeqRuns126-133-0138/wOutVertebrata/LLMGQC/final/X84_Common_Chiffchaff/R1_final.fq.gz     \n",
       "    Read2                                                                                                                                             \n",
       "1   /ebio/abt3_projects/Georg_animal_feces/data/metagenome/HiSeqRuns126-133-0138/wOutVertebrata/LLMGQC/final/X144_Cattle/R2_final.fq.gz               \n",
       "2   /ebio/abt3_projects/Georg_animal_feces/data/metagenome/HiSeqRuns126-133-0138/wOutVertebrata/LLMGQC/final/X370_African_Bush_Elephant/R2_final.fq.gz\n",
       "⋮   ⋮                                                                                                                                                 \n",
       "290 /ebio/abt3_projects/Georg_animal_feces/data/metagenome/HiSeqRuns126-133-0138/wOutVertebrata/LLMGQC/final/X256_Zander/R2_final.fq.gz               \n",
       "291 /ebio/abt3_projects/Georg_animal_feces/data/metagenome/HiSeqRuns126-133-0138/wOutVertebrata/LLMGQC/final/X84_Common_Chiffchaff/R2_final.fq.gz     \n",
       "    Total.Sequences nonpareil_coverage nonpareil_diversity\n",
       "1   10471331        0.3073356          22.03854           \n",
       "2     551609        0.3190188          18.99648           \n",
       "⋮   ⋮               ⋮                  ⋮                  \n",
       "290  9198058        0.9757480          14.88468           \n",
       "291 24926183        0.9791558          14.22184           "
      ]
     },
     "metadata": {},
     "output_type": "display_data"
    }
   ],
   "source": [
    "samps = read.delim(samps_file, sep='\\t')\n",
    "samps "
   ]
  },
  {
   "cell_type": "code",
   "execution_count": 7,
   "metadata": {
    "ExecuteTime": {
     "end_time": "2020-04-29T15:02:14.186027Z",
     "start_time": "2020-04-29T15:02:13.995Z"
    }
   },
   "outputs": [
    {
     "data": {
      "text/html": [
       "<table>\n",
       "<caption>A data.frame: 475 × 71</caption>\n",
       "<thead>\n",
       "\t<tr><th scope=col>SampleID</th><th scope=col>host_subject_id</th><th scope=col>host_german_name</th><th scope=col>host_common_name</th><th scope=col>scientific_name</th><th scope=col>scientific_name_subspecies</th><th scope=col>host_taxid</th><th scope=col>class</th><th scope=col>order</th><th scope=col>family</th><th scope=col>⋯</th><th scope=col>temp_regulation</th><th scope=col>collection_date</th><th scope=col>season</th><th scope=col>samp_store_days</th><th scope=col>samp_collect_device</th><th scope=col>sampling_method</th><th scope=col>diet</th><th scope=col>feeding_style</th><th scope=col>digestive_system</th><th scope=col>digestive_system_detail</th></tr>\n",
       "\t<tr><th scope=col>&lt;chr&gt;</th><th scope=col>&lt;fct&gt;</th><th scope=col>&lt;fct&gt;</th><th scope=col>&lt;fct&gt;</th><th scope=col>&lt;fct&gt;</th><th scope=col>&lt;fct&gt;</th><th scope=col>&lt;int&gt;</th><th scope=col>&lt;fct&gt;</th><th scope=col>&lt;fct&gt;</th><th scope=col>&lt;fct&gt;</th><th scope=col>⋯</th><th scope=col>&lt;fct&gt;</th><th scope=col>&lt;fct&gt;</th><th scope=col>&lt;fct&gt;</th><th scope=col>&lt;fct&gt;</th><th scope=col>&lt;fct&gt;</th><th scope=col>&lt;fct&gt;</th><th scope=col>&lt;fct&gt;</th><th scope=col>&lt;fct&gt;</th><th scope=col>&lt;fct&gt;</th><th scope=col>&lt;fct&gt;</th></tr>\n",
       "</thead>\n",
       "<tbody>\n",
       "\t<tr><td>XF14_Common_Bream</td><td>F14</td><td>Brachse  </td><td>Common.Bream</td><td>Abramis_brama </td><td>NA</td><td>38527</td><td>Actinopterygii</td><td>Cypriniformes</td><td>Cyprinidae</td><td>⋯</td><td>ectotherm/poikilotherm</td><td>2010-08-10</td><td>summer</td><td>317</td><td>Greiner Polypropylene Tube 50ml          </td><td>feces sampling</td><td>omnivore </td><td>NA               </td><td>simple </td><td>simple </td></tr>\n",
       "\t<tr><td>XF35_Red_Deer    </td><td>F35</td><td>Rothirsch</td><td>Red.Deer    </td><td>Cervus_elaphus</td><td>NA</td><td> 9860</td><td>Mammalia      </td><td>Artiodactyla </td><td>Cervidae  </td><td>⋯</td><td>endotherm/homoiotherm </td><td>2010-09-29</td><td>autumn</td><td>229</td><td>Greiner Polystyrene 30ml Faeces Container</td><td>feces sampling</td><td>herbivore</td><td>intermediate type</td><td>foregut</td><td>foregut</td></tr>\n",
       "\t<tr><td>⋮</td><td>⋮</td><td>⋮</td><td>⋮</td><td>⋮</td><td>⋮</td><td>⋮</td><td>⋮</td><td>⋮</td><td>⋮</td><td>⋱</td><td>⋮</td><td>⋮</td><td>⋮</td><td>⋮</td><td>⋮</td><td>⋮</td><td>⋮</td><td>⋮</td><td>⋮</td><td>⋮</td></tr>\n",
       "\t<tr><td>X189_fail_Rainbow_Trout</td><td>189.fail</td><td>Regenbogenforelle</td><td>Rainbow.Trout</td><td>Oncorhynchus_mykiss</td><td>NA</td><td>8022</td><td>Actinopterygii</td><td>Salmoniformes</td><td>Salmonidae</td><td>⋯</td><td>ectotherm/poikilotherm</td><td>2012-03-01</td><td>winter</td><td>467</td><td>Eppendorf tube          </td><td>feces sampling</td><td>carnivore</td><td>NA</td><td>simple</td><td>simple</td></tr>\n",
       "\t<tr><td>X232_fail_Brown_Trout  </td><td>232.fail</td><td>Seeforelle       </td><td>Brown.Trout  </td><td>Salmo_trutta       </td><td>NA</td><td>8032</td><td>Actinopterygii</td><td>Salmoniformes</td><td>Salmonidae</td><td>⋯</td><td>ectotherm/poikilotherm</td><td>2012-03-15</td><td>winter</td><td>453</td><td>Polyethylene freezer bag</td><td>gut section   </td><td>carnivore</td><td>NA</td><td>simple</td><td>simple</td></tr>\n",
       "</tbody>\n",
       "</table>\n"
      ],
      "text/latex": [
       "A data.frame: 475 × 71\n",
       "\\begin{tabular}{lllllllllllllllllllll}\n",
       " SampleID & host\\_subject\\_id & host\\_german\\_name & host\\_common\\_name & scientific\\_name & scientific\\_name\\_subspecies & host\\_taxid & class & order & family & ⋯ & temp\\_regulation & collection\\_date & season & samp\\_store\\_days & samp\\_collect\\_device & sampling\\_method & diet & feeding\\_style & digestive\\_system & digestive\\_system\\_detail\\\\\n",
       " <chr> & <fct> & <fct> & <fct> & <fct> & <fct> & <int> & <fct> & <fct> & <fct> & ⋯ & <fct> & <fct> & <fct> & <fct> & <fct> & <fct> & <fct> & <fct> & <fct> & <fct>\\\\\n",
       "\\hline\n",
       "\t XF14\\_Common\\_Bream & F14 & Brachse   & Common.Bream & Abramis\\_brama  & NA & 38527 & Actinopterygii & Cypriniformes & Cyprinidae & ⋯ & ectotherm/poikilotherm & 2010-08-10 & summer & 317 & Greiner Polypropylene Tube 50ml           & feces sampling & omnivore  & NA                & simple  & simple \\\\\n",
       "\t XF35\\_Red\\_Deer     & F35 & Rothirsch & Red.Deer     & Cervus\\_elaphus & NA &  9860 & Mammalia       & Artiodactyla  & Cervidae   & ⋯ & endotherm/homoiotherm  & 2010-09-29 & autumn & 229 & Greiner Polystyrene 30ml Faeces Container & feces sampling & herbivore & intermediate type & foregut & foregut\\\\\n",
       "\t ⋮ & ⋮ & ⋮ & ⋮ & ⋮ & ⋮ & ⋮ & ⋮ & ⋮ & ⋮ & ⋱ & ⋮ & ⋮ & ⋮ & ⋮ & ⋮ & ⋮ & ⋮ & ⋮ & ⋮ & ⋮\\\\\n",
       "\t X189\\_fail\\_Rainbow\\_Trout & 189.fail & Regenbogenforelle & Rainbow.Trout & Oncorhynchus\\_mykiss & NA & 8022 & Actinopterygii & Salmoniformes & Salmonidae & ⋯ & ectotherm/poikilotherm & 2012-03-01 & winter & 467 & Eppendorf tube           & feces sampling & carnivore & NA & simple & simple\\\\\n",
       "\t X232\\_fail\\_Brown\\_Trout   & 232.fail & Seeforelle        & Brown.Trout   & Salmo\\_trutta        & NA & 8032 & Actinopterygii & Salmoniformes & Salmonidae & ⋯ & ectotherm/poikilotherm & 2012-03-15 & winter & 453 & Polyethylene freezer bag & gut section    & carnivore & NA & simple & simple\\\\\n",
       "\\end{tabular}\n"
      ],
      "text/markdown": [
       "\n",
       "A data.frame: 475 × 71\n",
       "\n",
       "| SampleID &lt;chr&gt; | host_subject_id &lt;fct&gt; | host_german_name &lt;fct&gt; | host_common_name &lt;fct&gt; | scientific_name &lt;fct&gt; | scientific_name_subspecies &lt;fct&gt; | host_taxid &lt;int&gt; | class &lt;fct&gt; | order &lt;fct&gt; | family &lt;fct&gt; | ⋯ ⋯ | temp_regulation &lt;fct&gt; | collection_date &lt;fct&gt; | season &lt;fct&gt; | samp_store_days &lt;fct&gt; | samp_collect_device &lt;fct&gt; | sampling_method &lt;fct&gt; | diet &lt;fct&gt; | feeding_style &lt;fct&gt; | digestive_system &lt;fct&gt; | digestive_system_detail &lt;fct&gt; |\n",
       "|---|---|---|---|---|---|---|---|---|---|---|---|---|---|---|---|---|---|---|---|---|\n",
       "| XF14_Common_Bream | F14 | Brachse   | Common.Bream | Abramis_brama  | NA | 38527 | Actinopterygii | Cypriniformes | Cyprinidae | ⋯ | ectotherm/poikilotherm | 2010-08-10 | summer | 317 | Greiner Polypropylene Tube 50ml           | feces sampling | omnivore  | NA                | simple  | simple  |\n",
       "| XF35_Red_Deer     | F35 | Rothirsch | Red.Deer     | Cervus_elaphus | NA |  9860 | Mammalia       | Artiodactyla  | Cervidae   | ⋯ | endotherm/homoiotherm  | 2010-09-29 | autumn | 229 | Greiner Polystyrene 30ml Faeces Container | feces sampling | herbivore | intermediate type | foregut | foregut |\n",
       "| ⋮ | ⋮ | ⋮ | ⋮ | ⋮ | ⋮ | ⋮ | ⋮ | ⋮ | ⋮ | ⋱ | ⋮ | ⋮ | ⋮ | ⋮ | ⋮ | ⋮ | ⋮ | ⋮ | ⋮ | ⋮ |\n",
       "| X189_fail_Rainbow_Trout | 189.fail | Regenbogenforelle | Rainbow.Trout | Oncorhynchus_mykiss | NA | 8022 | Actinopterygii | Salmoniformes | Salmonidae | ⋯ | ectotherm/poikilotherm | 2012-03-01 | winter | 467 | Eppendorf tube           | feces sampling | carnivore | NA | simple | simple |\n",
       "| X232_fail_Brown_Trout   | 232.fail | Seeforelle        | Brown.Trout   | Salmo_trutta        | NA | 8032 | Actinopterygii | Salmoniformes | Salmonidae | ⋯ | ectotherm/poikilotherm | 2012-03-15 | winter | 453 | Polyethylene freezer bag | gut section    | carnivore | NA | simple | simple |\n",
       "\n"
      ],
      "text/plain": [
       "    SampleID                host_subject_id host_german_name  host_common_name\n",
       "1   XF14_Common_Bream       F14             Brachse           Common.Bream    \n",
       "2   XF35_Red_Deer           F35             Rothirsch         Red.Deer        \n",
       "⋮   ⋮                       ⋮               ⋮                 ⋮               \n",
       "474 X189_fail_Rainbow_Trout 189.fail        Regenbogenforelle Rainbow.Trout   \n",
       "475 X232_fail_Brown_Trout   232.fail        Seeforelle        Brown.Trout     \n",
       "    scientific_name     scientific_name_subspecies host_taxid class         \n",
       "1   Abramis_brama       NA                         38527      Actinopterygii\n",
       "2   Cervus_elaphus      NA                          9860      Mammalia      \n",
       "⋮   ⋮                   ⋮                          ⋮          ⋮             \n",
       "474 Oncorhynchus_mykiss NA                         8022       Actinopterygii\n",
       "475 Salmo_trutta        NA                         8032       Actinopterygii\n",
       "    order         family     ⋯ temp_regulation        collection_date season\n",
       "1   Cypriniformes Cyprinidae ⋯ ectotherm/poikilotherm 2010-08-10      summer\n",
       "2   Artiodactyla  Cervidae   ⋯ endotherm/homoiotherm  2010-09-29      autumn\n",
       "⋮   ⋮             ⋮          ⋱ ⋮                      ⋮               ⋮     \n",
       "474 Salmoniformes Salmonidae ⋯ ectotherm/poikilotherm 2012-03-01      winter\n",
       "475 Salmoniformes Salmonidae ⋯ ectotherm/poikilotherm 2012-03-15      winter\n",
       "    samp_store_days samp_collect_device                       sampling_method\n",
       "1   317             Greiner Polypropylene Tube 50ml           feces sampling \n",
       "2   229             Greiner Polystyrene 30ml Faeces Container feces sampling \n",
       "⋮   ⋮               ⋮                                         ⋮              \n",
       "474 467             Eppendorf tube                            feces sampling \n",
       "475 453             Polyethylene freezer bag                  gut section    \n",
       "    diet      feeding_style     digestive_system digestive_system_detail\n",
       "1   omnivore  NA                simple           simple                 \n",
       "2   herbivore intermediate type foregut          foregut                \n",
       "⋮   ⋮         ⋮                 ⋮                ⋮                      \n",
       "474 carnivore NA                simple           simple                 \n",
       "475 carnivore NA                simple           simple                 "
      ]
     },
     "metadata": {},
     "output_type": "display_data"
    }
   ],
   "source": [
    "metadata = read.delim(metadata_file, sep='\\t') %>%\n",
    "    mutate(SampleID = gsub('^X*', 'X', SampleID))\n",
    "metadata "
   ]
  },
  {
   "cell_type": "code",
   "execution_count": 7,
   "metadata": {
    "ExecuteTime": {
     "end_time": "2020-04-27T19:05:45.531590Z",
     "start_time": "2020-04-27T19:05:45.409Z"
    }
   },
   "outputs": [
    {
     "data": {
      "text/plain": [
       "\n",
       "Phylogenetic tree with 199 tips and 198 internal nodes.\n",
       "\n",
       "Tip labels:\n",
       "\tPerca_fluviatilis, Gymnocephalus_cernua, Sander_lucioperca, Zingel_zingel, Neogobius_melanostomus, Esox_lucius, ...\n",
       "Node labels:\n",
       "\t, @_22_@, @_8_@, @_4_@, @_3_@, @_1_@, ...\n",
       "\n",
       "Rooted; includes branch lengths."
      ]
     },
     "metadata": {},
     "output_type": "display_data"
    }
   ],
   "source": [
    "tree_SpecD = read.tree(tree_SpecD_file)\n",
    "tree_SpecD"
   ]
  },
  {
   "cell_type": "code",
   "execution_count": 8,
   "metadata": {
    "ExecuteTime": {
     "end_time": "2020-04-27T19:05:45.809972Z",
     "start_time": "2020-04-27T19:05:45.745Z"
    }
   },
   "outputs": [
    {
     "data": {
      "text/plain": [
       "\n",
       "Phylogenetic tree with 469 tips and 327 internal nodes.\n",
       "\n",
       "Tip labels:\n",
       "\tX63_fail1_European_Perch, X63_fail2_European_Perch, X64_Eurasian_Ruffe, X82_Eurasian_Ruffe, X82_fail_Eurasian_Ruffe, X255_Zander, ...\n",
       "Node labels:\n",
       "\t, @_22_@, @_8_@, @_4_@, @_3_@, @_1_@, ...\n",
       "\n",
       "Rooted; includes branch lengths."
      ]
     },
     "metadata": {},
     "output_type": "display_data"
    }
   ],
   "source": [
    "tree_IndD = read.tree(tree_IndD_file)\n",
    "tree_IndD"
   ]
  },
  {
   "cell_type": "markdown",
   "metadata": {},
   "source": [
    "# Format"
   ]
  },
  {
   "cell_type": "code",
   "execution_count": 9,
   "metadata": {
    "ExecuteTime": {
     "end_time": "2020-04-27T19:05:49.412935Z",
     "start_time": "2020-04-27T19:05:49.395Z"
    }
   },
   "outputs": [
    {
     "name": "stdout",
     "output_type": "stream",
     "text": [
      "intersect(x,y): 290 \n",
      "setdiff(x,y): 1 \n",
      "setdiff(y,x): 185 \n",
      "union(x,y): 476 \n"
     ]
    }
   ],
   "source": [
    "# checking key overlap\n",
    "overlap(samps$Sample, metadata$SampleID)"
   ]
  },
  {
   "cell_type": "code",
   "execution_count": 10,
   "metadata": {
    "ExecuteTime": {
     "end_time": "2020-04-27T19:05:51.180636Z",
     "start_time": "2020-04-27T19:05:51.094Z"
    }
   },
   "outputs": [
    {
     "name": "stderr",
     "output_type": "stream",
     "text": [
      "Warning message:\n",
      "“Column `Sample`/`SampleID` joining factor and character vector, coercing into character vector”\n"
     ]
    },
    {
     "data": {
      "text/html": [
       "<table>\n",
       "<caption>A data.frame: 289 × 76</caption>\n",
       "<thead>\n",
       "\t<tr><th scope=col>Sample</th><th scope=col>Read1</th><th scope=col>Read2</th><th scope=col>Total.Sequences</th><th scope=col>nonpareil_coverage</th><th scope=col>nonpareil_diversity</th><th scope=col>host_subject_id</th><th scope=col>host_german_name</th><th scope=col>host_common_name</th><th scope=col>scientific_name</th><th scope=col>⋯</th><th scope=col>temp_regulation</th><th scope=col>collection_date</th><th scope=col>season</th><th scope=col>samp_store_days</th><th scope=col>samp_collect_device</th><th scope=col>sampling_method</th><th scope=col>diet</th><th scope=col>feeding_style</th><th scope=col>digestive_system</th><th scope=col>digestive_system_detail</th></tr>\n",
       "\t<tr><th scope=col>&lt;chr&gt;</th><th scope=col>&lt;fct&gt;</th><th scope=col>&lt;fct&gt;</th><th scope=col>&lt;int&gt;</th><th scope=col>&lt;dbl&gt;</th><th scope=col>&lt;dbl&gt;</th><th scope=col>&lt;fct&gt;</th><th scope=col>&lt;fct&gt;</th><th scope=col>&lt;fct&gt;</th><th scope=col>&lt;fct&gt;</th><th scope=col>⋯</th><th scope=col>&lt;fct&gt;</th><th scope=col>&lt;fct&gt;</th><th scope=col>&lt;fct&gt;</th><th scope=col>&lt;fct&gt;</th><th scope=col>&lt;fct&gt;</th><th scope=col>&lt;fct&gt;</th><th scope=col>&lt;fct&gt;</th><th scope=col>&lt;fct&gt;</th><th scope=col>&lt;fct&gt;</th><th scope=col>&lt;fct&gt;</th></tr>\n",
       "</thead>\n",
       "<tbody>\n",
       "\t<tr><td>X144_Cattle               </td><td>/ebio/abt3_projects/Georg_animal_feces/data/metagenome/HiSeqRuns126-133-0138/wOutVertebrata/LLMGQC/final/X144_Cattle/R1_final.fq.gz               </td><td>/ebio/abt3_projects/Georg_animal_feces/data/metagenome/HiSeqRuns126-133-0138/wOutVertebrata/LLMGQC/final/X144_Cattle/R2_final.fq.gz               </td><td>10471331</td><td>0.3073356</td><td>22.03854</td><td>142</td><td>Hausrind             </td><td>Cattle               </td><td>Bos_taurus        </td><td>⋯</td><td>endotherm/homoiotherm</td><td>2009-06-17</td><td>spring</td><td>1102</td><td>Screw cap vial</td><td>feces sampling</td><td>herbivore</td><td>bulk and roughage eaters</td><td>foregut</td><td>foregut</td></tr>\n",
       "\t<tr><td>X370_African_Bush_Elephant</td><td>/ebio/abt3_projects/Georg_animal_feces/data/metagenome/HiSeqRuns126-133-0138/wOutVertebrata/LLMGQC/final/X370_African_Bush_Elephant/R1_final.fq.gz</td><td>/ebio/abt3_projects/Georg_animal_feces/data/metagenome/HiSeqRuns126-133-0138/wOutVertebrata/LLMGQC/final/X370_African_Bush_Elephant/R2_final.fq.gz</td><td>  551609</td><td>0.3190188</td><td>18.99648</td><td>370</td><td>Afrikanischer Elefant</td><td>African.Bush.Elephant</td><td>Loxodonta_africana</td><td>⋯</td><td>endotherm/homoiotherm</td><td>2013-06-05</td><td>spring</td><td>103 </td><td>Eppendorf tube</td><td>feces sampling</td><td>herbivore</td><td>NA                      </td><td>hindgut</td><td>colon  </td></tr>\n",
       "\t<tr><td>⋮</td><td>⋮</td><td>⋮</td><td>⋮</td><td>⋮</td><td>⋮</td><td>⋮</td><td>⋮</td><td>⋮</td><td>⋮</td><td>⋱</td><td>⋮</td><td>⋮</td><td>⋮</td><td>⋮</td><td>⋮</td><td>⋮</td><td>⋮</td><td>⋮</td><td>⋮</td><td>⋮</td></tr>\n",
       "\t<tr><td>X256_Zander          </td><td>/ebio/abt3_projects/Georg_animal_feces/data/metagenome/HiSeqRuns126-133-0138/wOutVertebrata/LLMGQC/final/X256_Zander/R1_final.fq.gz          </td><td>/ebio/abt3_projects/Georg_animal_feces/data/metagenome/HiSeqRuns126-133-0138/wOutVertebrata/LLMGQC/final/X256_Zander/R2_final.fq.gz          </td><td> 9198058</td><td>0.9757480</td><td>14.88468</td><td>256</td><td>Zander  </td><td>Zander           </td><td>Sander_lucioperca     </td><td>⋯</td><td>ectotherm/poikilotherm</td><td>2012-10-05</td><td>autumn</td><td>116</td><td>Screw cap vial</td><td>feces sampling</td><td>carnivore</td><td>NA</td><td>simple</td><td>simple</td></tr>\n",
       "\t<tr><td>X84_Common_Chiffchaff</td><td>/ebio/abt3_projects/Georg_animal_feces/data/metagenome/HiSeqRuns126-133-0138/wOutVertebrata/LLMGQC/final/X84_Common_Chiffchaff/R1_final.fq.gz</td><td>/ebio/abt3_projects/Georg_animal_feces/data/metagenome/HiSeqRuns126-133-0138/wOutVertebrata/LLMGQC/final/X84_Common_Chiffchaff/R2_final.fq.gz</td><td>24926183</td><td>0.9791558</td><td>14.22184</td><td>84 </td><td>Zilpzalp</td><td>Common.Chiffchaff</td><td>Phylloscopus_collybita</td><td>⋯</td><td>endotherm/homoiotherm </td><td>2011-10-01</td><td>autumn</td><td>100</td><td>Screw cap vial</td><td>swab          </td><td>omnivore </td><td>NA</td><td>simple</td><td>simple</td></tr>\n",
       "</tbody>\n",
       "</table>\n"
      ],
      "text/latex": [
       "A data.frame: 289 × 76\n",
       "\\begin{tabular}{lllllllllllllllllllll}\n",
       " Sample & Read1 & Read2 & Total.Sequences & nonpareil\\_coverage & nonpareil\\_diversity & host\\_subject\\_id & host\\_german\\_name & host\\_common\\_name & scientific\\_name & ⋯ & temp\\_regulation & collection\\_date & season & samp\\_store\\_days & samp\\_collect\\_device & sampling\\_method & diet & feeding\\_style & digestive\\_system & digestive\\_system\\_detail\\\\\n",
       " <chr> & <fct> & <fct> & <int> & <dbl> & <dbl> & <fct> & <fct> & <fct> & <fct> & ⋯ & <fct> & <fct> & <fct> & <fct> & <fct> & <fct> & <fct> & <fct> & <fct> & <fct>\\\\\n",
       "\\hline\n",
       "\t X144\\_Cattle                & /ebio/abt3\\_projects/Georg\\_animal\\_feces/data/metagenome/HiSeqRuns126-133-0138/wOutVertebrata/LLMGQC/final/X144\\_Cattle/R1\\_final.fq.gz                & /ebio/abt3\\_projects/Georg\\_animal\\_feces/data/metagenome/HiSeqRuns126-133-0138/wOutVertebrata/LLMGQC/final/X144\\_Cattle/R2\\_final.fq.gz                & 10471331 & 0.3073356 & 22.03854 & 142 & Hausrind              & Cattle                & Bos\\_taurus         & ⋯ & endotherm/homoiotherm & 2009-06-17 & spring & 1102 & Screw cap vial & feces sampling & herbivore & bulk and roughage eaters & foregut & foregut\\\\\n",
       "\t X370\\_African\\_Bush\\_Elephant & /ebio/abt3\\_projects/Georg\\_animal\\_feces/data/metagenome/HiSeqRuns126-133-0138/wOutVertebrata/LLMGQC/final/X370\\_African\\_Bush\\_Elephant/R1\\_final.fq.gz & /ebio/abt3\\_projects/Georg\\_animal\\_feces/data/metagenome/HiSeqRuns126-133-0138/wOutVertebrata/LLMGQC/final/X370\\_African\\_Bush\\_Elephant/R2\\_final.fq.gz &   551609 & 0.3190188 & 18.99648 & 370 & Afrikanischer Elefant & African.Bush.Elephant & Loxodonta\\_africana & ⋯ & endotherm/homoiotherm & 2013-06-05 & spring & 103  & Eppendorf tube & feces sampling & herbivore & NA                       & hindgut & colon  \\\\\n",
       "\t ⋮ & ⋮ & ⋮ & ⋮ & ⋮ & ⋮ & ⋮ & ⋮ & ⋮ & ⋮ & ⋱ & ⋮ & ⋮ & ⋮ & ⋮ & ⋮ & ⋮ & ⋮ & ⋮ & ⋮ & ⋮\\\\\n",
       "\t X256\\_Zander           & /ebio/abt3\\_projects/Georg\\_animal\\_feces/data/metagenome/HiSeqRuns126-133-0138/wOutVertebrata/LLMGQC/final/X256\\_Zander/R1\\_final.fq.gz           & /ebio/abt3\\_projects/Georg\\_animal\\_feces/data/metagenome/HiSeqRuns126-133-0138/wOutVertebrata/LLMGQC/final/X256\\_Zander/R2\\_final.fq.gz           &  9198058 & 0.9757480 & 14.88468 & 256 & Zander   & Zander            & Sander\\_lucioperca      & ⋯ & ectotherm/poikilotherm & 2012-10-05 & autumn & 116 & Screw cap vial & feces sampling & carnivore & NA & simple & simple\\\\\n",
       "\t X84\\_Common\\_Chiffchaff & /ebio/abt3\\_projects/Georg\\_animal\\_feces/data/metagenome/HiSeqRuns126-133-0138/wOutVertebrata/LLMGQC/final/X84\\_Common\\_Chiffchaff/R1\\_final.fq.gz & /ebio/abt3\\_projects/Georg\\_animal\\_feces/data/metagenome/HiSeqRuns126-133-0138/wOutVertebrata/LLMGQC/final/X84\\_Common\\_Chiffchaff/R2\\_final.fq.gz & 24926183 & 0.9791558 & 14.22184 & 84  & Zilpzalp & Common.Chiffchaff & Phylloscopus\\_collybita & ⋯ & endotherm/homoiotherm  & 2011-10-01 & autumn & 100 & Screw cap vial & swab           & omnivore  & NA & simple & simple\\\\\n",
       "\\end{tabular}\n"
      ],
      "text/markdown": [
       "\n",
       "A data.frame: 289 × 76\n",
       "\n",
       "| Sample &lt;chr&gt; | Read1 &lt;fct&gt; | Read2 &lt;fct&gt; | Total.Sequences &lt;int&gt; | nonpareil_coverage &lt;dbl&gt; | nonpareil_diversity &lt;dbl&gt; | host_subject_id &lt;fct&gt; | host_german_name &lt;fct&gt; | host_common_name &lt;fct&gt; | scientific_name &lt;fct&gt; | ⋯ ⋯ | temp_regulation &lt;fct&gt; | collection_date &lt;fct&gt; | season &lt;fct&gt; | samp_store_days &lt;fct&gt; | samp_collect_device &lt;fct&gt; | sampling_method &lt;fct&gt; | diet &lt;fct&gt; | feeding_style &lt;fct&gt; | digestive_system &lt;fct&gt; | digestive_system_detail &lt;fct&gt; |\n",
       "|---|---|---|---|---|---|---|---|---|---|---|---|---|---|---|---|---|---|---|---|---|\n",
       "| X144_Cattle                | /ebio/abt3_projects/Georg_animal_feces/data/metagenome/HiSeqRuns126-133-0138/wOutVertebrata/LLMGQC/final/X144_Cattle/R1_final.fq.gz                | /ebio/abt3_projects/Georg_animal_feces/data/metagenome/HiSeqRuns126-133-0138/wOutVertebrata/LLMGQC/final/X144_Cattle/R2_final.fq.gz                | 10471331 | 0.3073356 | 22.03854 | 142 | Hausrind              | Cattle                | Bos_taurus         | ⋯ | endotherm/homoiotherm | 2009-06-17 | spring | 1102 | Screw cap vial | feces sampling | herbivore | bulk and roughage eaters | foregut | foregut |\n",
       "| X370_African_Bush_Elephant | /ebio/abt3_projects/Georg_animal_feces/data/metagenome/HiSeqRuns126-133-0138/wOutVertebrata/LLMGQC/final/X370_African_Bush_Elephant/R1_final.fq.gz | /ebio/abt3_projects/Georg_animal_feces/data/metagenome/HiSeqRuns126-133-0138/wOutVertebrata/LLMGQC/final/X370_African_Bush_Elephant/R2_final.fq.gz |   551609 | 0.3190188 | 18.99648 | 370 | Afrikanischer Elefant | African.Bush.Elephant | Loxodonta_africana | ⋯ | endotherm/homoiotherm | 2013-06-05 | spring | 103  | Eppendorf tube | feces sampling | herbivore | NA                       | hindgut | colon   |\n",
       "| ⋮ | ⋮ | ⋮ | ⋮ | ⋮ | ⋮ | ⋮ | ⋮ | ⋮ | ⋮ | ⋱ | ⋮ | ⋮ | ⋮ | ⋮ | ⋮ | ⋮ | ⋮ | ⋮ | ⋮ | ⋮ |\n",
       "| X256_Zander           | /ebio/abt3_projects/Georg_animal_feces/data/metagenome/HiSeqRuns126-133-0138/wOutVertebrata/LLMGQC/final/X256_Zander/R1_final.fq.gz           | /ebio/abt3_projects/Georg_animal_feces/data/metagenome/HiSeqRuns126-133-0138/wOutVertebrata/LLMGQC/final/X256_Zander/R2_final.fq.gz           |  9198058 | 0.9757480 | 14.88468 | 256 | Zander   | Zander            | Sander_lucioperca      | ⋯ | ectotherm/poikilotherm | 2012-10-05 | autumn | 116 | Screw cap vial | feces sampling | carnivore | NA | simple | simple |\n",
       "| X84_Common_Chiffchaff | /ebio/abt3_projects/Georg_animal_feces/data/metagenome/HiSeqRuns126-133-0138/wOutVertebrata/LLMGQC/final/X84_Common_Chiffchaff/R1_final.fq.gz | /ebio/abt3_projects/Georg_animal_feces/data/metagenome/HiSeqRuns126-133-0138/wOutVertebrata/LLMGQC/final/X84_Common_Chiffchaff/R2_final.fq.gz | 24926183 | 0.9791558 | 14.22184 | 84  | Zilpzalp | Common.Chiffchaff | Phylloscopus_collybita | ⋯ | endotherm/homoiotherm  | 2011-10-01 | autumn | 100 | Screw cap vial | swab           | omnivore  | NA | simple | simple |\n",
       "\n"
      ],
      "text/plain": [
       "    Sample                    \n",
       "1   X144_Cattle               \n",
       "2   X370_African_Bush_Elephant\n",
       "⋮   ⋮                         \n",
       "288 X256_Zander               \n",
       "289 X84_Common_Chiffchaff     \n",
       "    Read1                                                                                                                                             \n",
       "1   /ebio/abt3_projects/Georg_animal_feces/data/metagenome/HiSeqRuns126-133-0138/wOutVertebrata/LLMGQC/final/X144_Cattle/R1_final.fq.gz               \n",
       "2   /ebio/abt3_projects/Georg_animal_feces/data/metagenome/HiSeqRuns126-133-0138/wOutVertebrata/LLMGQC/final/X370_African_Bush_Elephant/R1_final.fq.gz\n",
       "⋮   ⋮                                                                                                                                                 \n",
       "288 /ebio/abt3_projects/Georg_animal_feces/data/metagenome/HiSeqRuns126-133-0138/wOutVertebrata/LLMGQC/final/X256_Zander/R1_final.fq.gz               \n",
       "289 /ebio/abt3_projects/Georg_animal_feces/data/metagenome/HiSeqRuns126-133-0138/wOutVertebrata/LLMGQC/final/X84_Common_Chiffchaff/R1_final.fq.gz     \n",
       "    Read2                                                                                                                                             \n",
       "1   /ebio/abt3_projects/Georg_animal_feces/data/metagenome/HiSeqRuns126-133-0138/wOutVertebrata/LLMGQC/final/X144_Cattle/R2_final.fq.gz               \n",
       "2   /ebio/abt3_projects/Georg_animal_feces/data/metagenome/HiSeqRuns126-133-0138/wOutVertebrata/LLMGQC/final/X370_African_Bush_Elephant/R2_final.fq.gz\n",
       "⋮   ⋮                                                                                                                                                 \n",
       "288 /ebio/abt3_projects/Georg_animal_feces/data/metagenome/HiSeqRuns126-133-0138/wOutVertebrata/LLMGQC/final/X256_Zander/R2_final.fq.gz               \n",
       "289 /ebio/abt3_projects/Georg_animal_feces/data/metagenome/HiSeqRuns126-133-0138/wOutVertebrata/LLMGQC/final/X84_Common_Chiffchaff/R2_final.fq.gz     \n",
       "    Total.Sequences nonpareil_coverage nonpareil_diversity host_subject_id\n",
       "1   10471331        0.3073356          22.03854            142            \n",
       "2     551609        0.3190188          18.99648            370            \n",
       "⋮   ⋮               ⋮                  ⋮                   ⋮              \n",
       "288  9198058        0.9757480          14.88468            256            \n",
       "289 24926183        0.9791558          14.22184            84             \n",
       "    host_german_name      host_common_name      scientific_name        ⋯\n",
       "1   Hausrind              Cattle                Bos_taurus             ⋯\n",
       "2   Afrikanischer Elefant African.Bush.Elephant Loxodonta_africana     ⋯\n",
       "⋮   ⋮                     ⋮                     ⋮                      ⋱\n",
       "288 Zander                Zander                Sander_lucioperca      ⋯\n",
       "289 Zilpzalp              Common.Chiffchaff     Phylloscopus_collybita ⋯\n",
       "    temp_regulation        collection_date season samp_store_days\n",
       "1   endotherm/homoiotherm  2009-06-17      spring 1102           \n",
       "2   endotherm/homoiotherm  2013-06-05      spring 103            \n",
       "⋮   ⋮                      ⋮               ⋮      ⋮              \n",
       "288 ectotherm/poikilotherm 2012-10-05      autumn 116            \n",
       "289 endotherm/homoiotherm  2011-10-01      autumn 100            \n",
       "    samp_collect_device sampling_method diet      feeding_style           \n",
       "1   Screw cap vial      feces sampling  herbivore bulk and roughage eaters\n",
       "2   Eppendorf tube      feces sampling  herbivore NA                      \n",
       "⋮   ⋮                   ⋮               ⋮         ⋮                       \n",
       "288 Screw cap vial      feces sampling  carnivore NA                      \n",
       "289 Screw cap vial      swab            omnivore  NA                      \n",
       "    digestive_system digestive_system_detail\n",
       "1   foregut          foregut                \n",
       "2   hindgut          colon                  \n",
       "⋮   ⋮                ⋮                      \n",
       "288 simple           simple                 \n",
       "289 simple           simple                 "
      ]
     },
     "metadata": {},
     "output_type": "display_data"
    }
   ],
   "source": [
    "# join\n",
    "samps = samps %>%\n",
    "    inner_join(metadata, c('Sample'='SampleID')) %>%\n",
    "    filter(!is.na(scientific_name))\n",
    "samps "
   ]
  },
  {
   "cell_type": "markdown",
   "metadata": {},
   "source": [
    "# Filtering trees"
   ]
  },
  {
   "cell_type": "code",
   "execution_count": 11,
   "metadata": {
    "ExecuteTime": {
     "end_time": "2020-04-27T19:05:53.912227Z",
     "start_time": "2020-04-27T19:05:53.875Z"
    }
   },
   "outputs": [
    {
     "data": {
      "text/html": [
       "180"
      ],
      "text/latex": [
       "180"
      ],
      "text/markdown": [
       "180"
      ],
      "text/plain": [
       "[1] 180"
      ]
     },
     "metadata": {},
     "output_type": "display_data"
    },
    {
     "data": {
      "text/plain": [
       "\n",
       "Phylogenetic tree with 180 tips and 179 internal nodes.\n",
       "\n",
       "Tip labels:\n",
       "\tPerca_fluviatilis, Gymnocephalus_cernua, Sander_lucioperca, Zingel_zingel, Esox_lucius, Salmo_trutta, ...\n",
       "Node labels:\n",
       "\t, @_22_@, @_8_@, @_3_@, @_1_@, @_2_@, ...\n",
       "\n",
       "Rooted; includes branch lengths."
      ]
     },
     "metadata": {},
     "output_type": "display_data"
    }
   ],
   "source": [
    "# expected number of tips after filtering\n",
    "samps$scientific_name %>% unique %>% length\n",
    "\n",
    "# which to remove\n",
    "to_rm = setdiff(tree_SpecD$tip, samps$scientific_name)\n",
    "\n",
    "# dropping tips\n",
    "tree_SpecD_f = drop.tip(tree_SpecD, to_rm)\n",
    "tree_SpecD_f"
   ]
  },
  {
   "cell_type": "code",
   "execution_count": 12,
   "metadata": {
    "ExecuteTime": {
     "end_time": "2020-04-27T19:05:56.801192Z",
     "start_time": "2020-04-27T19:05:56.761Z"
    }
   },
   "outputs": [
    {
     "data": {
      "text/html": [
       "289"
      ],
      "text/latex": [
       "289"
      ],
      "text/markdown": [
       "289"
      ],
      "text/plain": [
       "[1] 289"
      ]
     },
     "metadata": {},
     "output_type": "display_data"
    },
    {
     "data": {
      "text/plain": [
       "\n",
       "Phylogenetic tree with 469 tips and 327 internal nodes.\n",
       "\n",
       "Tip labels:\n",
       "\tX63_fail1_European_Perch, X63_fail2_European_Perch, X64_Eurasian_Ruffe, X82_Eurasian_Ruffe, X82_fail_Eurasian_Ruffe, X255_Zander, ...\n",
       "Node labels:\n",
       "\t, @_22_@, @_8_@, @_4_@, @_3_@, @_1_@, ...\n",
       "\n",
       "Rooted; includes branch lengths."
      ]
     },
     "metadata": {},
     "output_type": "display_data"
    }
   ],
   "source": [
    "# expected number of tips after filtering\n",
    "samps$Sample %>% unique %>% length\n",
    "\n",
    "# renaming tips to match sampleIDs for sequence data\n",
    "tree_IndD$tip = gsub('^X*', 'X', samps$Sample)\n",
    "\n",
    "# which to remove\n",
    "to_rm = setdiff(tree_IndD$tip, samps$Sample)\n",
    "\n",
    "# dropping tips\n",
    "tree_IndD_f = drop.tip(tree_IndD, to_rm)\n",
    "tree_IndD_f"
   ]
  },
  {
   "cell_type": "markdown",
   "metadata": {},
   "source": [
    "## Writing trees"
   ]
  },
  {
   "cell_type": "code",
   "execution_count": 72,
   "metadata": {
    "ExecuteTime": {
     "end_time": "2019-11-29T11:43:37.383923Z",
     "start_time": "2019-11-29T11:43:37.152Z"
    }
   },
   "outputs": [
    {
     "name": "stdout",
     "output_type": "stream",
     "text": [
      "File written: /ebio/abt3_projects/Georg_animal_feces/data/metagenome/HiSeqRuns126-133-0138/wOutVertebrata/LLMGQC/metadata_summary//unified_metadata_complete_20190416_HiSeq126-133-138_specD.nwk \n"
     ]
    }
   ],
   "source": [
    "outF = file.path(work_dir, 'unified_metadata_complete_20190416_HiSeq126-133-138_specD.nwk')\n",
    "write.tree(tree_SpecD_f, outF)\n",
    "cat('File written:', outF, '\\n')"
   ]
  },
  {
   "cell_type": "code",
   "execution_count": 73,
   "metadata": {
    "ExecuteTime": {
     "end_time": "2019-11-29T11:43:44.928488Z",
     "start_time": "2019-11-29T11:43:44.857Z"
    }
   },
   "outputs": [
    {
     "name": "stdout",
     "output_type": "stream",
     "text": [
      "File written: /ebio/abt3_projects/Georg_animal_feces/data/metagenome/HiSeqRuns126-133-0138/wOutVertebrata/LLMGQC/metadata_summary//unified_metadata_complete_20190416_HiSeq126-133-138_IndD.nwk \n"
     ]
    }
   ],
   "source": [
    "outF = file.path(work_dir, 'unified_metadata_complete_20190416_HiSeq126-133-138_IndD.nwk')\n",
    "write.tree(tree_IndD_f, outF)\n",
    "cat('File written:', outF, '\\n')"
   ]
  },
  {
   "cell_type": "markdown",
   "metadata": {},
   "source": [
    "# Host metadata"
   ]
  },
  {
   "cell_type": "markdown",
   "metadata": {},
   "source": [
    "## Individuals"
   ]
  },
  {
   "cell_type": "code",
   "execution_count": 105,
   "metadata": {
    "ExecuteTime": {
     "end_time": "2019-11-29T11:56:08.366141Z",
     "start_time": "2019-11-29T11:56:08.301Z"
    }
   },
   "outputs": [
    {
     "name": "stdout",
     "output_type": "stream",
     "text": [
      "   Min. 1st Qu.  Median    Mean 3rd Qu.    Max. \n",
      "  1.000   1.000   1.000   1.606   2.000   6.000 \n",
      "File written: /ebio/abt3_projects/Georg_animal_feces/data/metagenome/HiSeqRuns126-133-0138/wOutVertebrata/LLMGQC/metadata_summary//SpecD_n-samps_itol-bar.txt \n"
     ]
    }
   ],
   "source": [
    "x = samps %>% \n",
    "    group_by(scientific_name) %>%\n",
    "    summarize(n_samples = n()) %>%\n",
    "    ungroup() %>%\n",
    "    as.data.frame\n",
    "\n",
    "rownames(x) = x$scientific_name\n",
    "x$scientific_name = NULL\n",
    "\n",
    "x$n_samples %>% summary %>% print\n",
    "\n",
    "itol_multibar(x, 'Num_samples', 'SpecD_n-samps_itol-bar.txt', work_dir)"
   ]
  },
  {
   "cell_type": "markdown",
   "metadata": {},
   "source": [
    "## Diet"
   ]
  },
  {
   "cell_type": "code",
   "execution_count": 14,
   "metadata": {
    "ExecuteTime": {
     "end_time": "2020-03-19T17:53:44.940515Z",
     "start_time": "2020-03-19T17:53:44.876Z"
    }
   },
   "outputs": [
    {
     "data": {
      "text/plain": [
       ".\n",
       "carnivore herbivore  omnivore \n",
       "      100        88       101 "
      ]
     },
     "metadata": {},
     "output_type": "display_data"
    }
   ],
   "source": [
    "samps$diet %>% table"
   ]
  },
  {
   "cell_type": "code",
   "execution_count": 15,
   "metadata": {
    "ExecuteTime": {
     "end_time": "2020-03-19T17:53:47.881585Z",
     "start_time": "2020-03-19T17:53:47.821Z"
    }
   },
   "outputs": [
    {
     "data": {
      "text/html": [
       "<table>\n",
       "<caption>A data.frame: 3 × 3</caption>\n",
       "<thead>\n",
       "\t<tr><th scope=col>labels</th><th scope=col>colors</th><th scope=col>shapes</th></tr>\n",
       "\t<tr><th scope=col>&lt;fct&gt;</th><th scope=col>&lt;fct&gt;</th><th scope=col>&lt;dbl&gt;</th></tr>\n",
       "</thead>\n",
       "<tbody>\n",
       "\t<tr><td>carnivore</td><td>#FF0000</td><td>1</td></tr>\n",
       "\t<tr><td>herbivore</td><td>#00FF00</td><td>1</td></tr>\n",
       "\t<tr><td>omnivore </td><td>#FFCC33</td><td>1</td></tr>\n",
       "</tbody>\n",
       "</table>\n"
      ],
      "text/latex": [
       "A data.frame: 3 × 3\n",
       "\\begin{tabular}{lll}\n",
       " labels & colors & shapes\\\\\n",
       " <fct> & <fct> & <dbl>\\\\\n",
       "\\hline\n",
       "\t carnivore & \\#FF0000 & 1\\\\\n",
       "\t herbivore & \\#00FF00 & 1\\\\\n",
       "\t omnivore  & \\#FFCC33 & 1\\\\\n",
       "\\end{tabular}\n"
      ],
      "text/markdown": [
       "\n",
       "A data.frame: 3 × 3\n",
       "\n",
       "| labels &lt;fct&gt; | colors &lt;fct&gt; | shapes &lt;dbl&gt; |\n",
       "|---|---|---|\n",
       "| carnivore | #FF0000 | 1 |\n",
       "| herbivore | #00FF00 | 1 |\n",
       "| omnivore  | #FFCC33 | 1 |\n",
       "\n"
      ],
      "text/plain": [
       "  labels    colors  shapes\n",
       "1 carnivore #FF0000 1     \n",
       "2 herbivore #00FF00 1     \n",
       "3 omnivore  #FFCC33 1     "
      ]
     },
     "metadata": {},
     "output_type": "display_data"
    }
   ],
   "source": [
    "# setting colors\n",
    "x = metadata$diet %>% unique %>% sort\n",
    "cols = c('#FF0000', '#00FF00', '#FFCC33')\n",
    "legend = data.frame(labels = x,\n",
    "                    colors = cols,\n",
    "                    shapes = rep(1, length(labels)))\n",
    "legend"
   ]
  },
  {
   "cell_type": "code",
   "execution_count": 81,
   "metadata": {
    "ExecuteTime": {
     "end_time": "2019-11-29T11:46:37.210592Z",
     "start_time": "2019-11-29T11:46:37.067Z"
    }
   },
   "outputs": [
    {
     "name": "stdout",
     "output_type": "stream",
     "text": [
      "File written: /ebio/abt3_projects/Georg_animal_feces/data/metagenome/HiSeqRuns126-133-0138/wOutVertebrata/LLMGQC/metadata_summary//SpecD_diet-itol-col.txt \n"
     ]
    }
   ],
   "source": [
    "# specD\n",
    "x = samps %>%\n",
    "    distinct(scientific_name, diet) %>%\n",
    "    as.data.frame\n",
    "rownames(x) = x$scientific_name\n",
    "x$scientific_name = NULL\n",
    "\n",
    "itol_colorstrip(x, 'diet', 'SpecD_diet-itol-col.txt', work_dir, legend)"
   ]
  },
  {
   "cell_type": "markdown",
   "metadata": {},
   "source": [
    "## Diet detailed"
   ]
  },
  {
   "cell_type": "code",
   "execution_count": 16,
   "metadata": {
    "ExecuteTime": {
     "end_time": "2020-03-19T17:53:57.501781Z",
     "start_time": "2020-03-19T17:53:57.444Z"
    }
   },
   "outputs": [
    {
     "data": {
      "text/plain": [
       "               scientific_name diet_vertebrate diet_invertebrate diet_fruit\n",
       " Canis_lupus           :  3    no :118         no : 61           no :115   \n",
       " Equus_caballus        :  2    yes: 68         yes:125           yes: 71   \n",
       " Giraffa_camelopardalis:  2                                                \n",
       " Ovis_aries            :  2                                                \n",
       " Sus_scrofa            :  2                                                \n",
       " Abramis_brama         :  1                                                \n",
       " (Other)               :174                                                \n",
       " diet_flowers_nectar_pollen diet_leaves_branches_bark_buds diet_seeds\n",
       " no :170                    no :119                        no :120   \n",
       " yes: 16                    yes: 67                        yes: 66   \n",
       "                                                                     \n",
       "                                                                     \n",
       "                                                                     \n",
       "                                                                     \n",
       "                                                                     \n",
       " diet_grass_waterplants diet_roots_tubers\n",
       " no :123                no :150          \n",
       " yes: 63                yes: 36          \n",
       "                                         \n",
       "                                         \n",
       "                                         \n",
       "                                         \n",
       "                                         "
      ]
     },
     "metadata": {},
     "output_type": "display_data"
    }
   ],
   "source": [
    "samps %>% \n",
    "    distinct(scientific_name, diet_vertebrate, diet_invertebrate, \n",
    "                  diet_fruit, diet_flowers_nectar_pollen, diet_leaves_branches_bark_buds, \n",
    "                  diet_seeds, diet_grass_waterplants, diet_roots_tubers) %>%\n",
    " summary"
   ]
  },
  {
   "cell_type": "code",
   "execution_count": 83,
   "metadata": {
    "ExecuteTime": {
     "end_time": "2019-11-29T11:47:21.301489Z",
     "start_time": "2019-11-29T11:47:18.530Z"
    }
   },
   "outputs": [
    {
     "name": "stderr",
     "output_type": "stream",
     "text": [
      "Warning message in if (color_scheme == \"color\") {:\n",
      "“the condition has length > 1 and only the first element will be used”"
     ]
    },
    {
     "name": "stdout",
     "output_type": "stream",
     "text": [
      "File written: /ebio/abt3_projects/Georg_animal_feces/data/metagenome/HiSeqRuns126-133-0138/wOutVertebrata/LLMGQC/metadata_summary//SpecD_diet-detailed_itol-htmp.txt \n"
     ]
    }
   ],
   "source": [
    "# selecting diet-detailed\n",
    "## for differning diets, taking the average\n",
    "x = samps %>%\n",
    "    distinct(scientific_name, diet_vertebrate, diet_invertebrate, \n",
    "             diet_fruit, diet_flowers_nectar_pollen, diet_leaves_branches_bark_buds, \n",
    "             diet_seeds, diet_grass_waterplants, diet_roots_tubers) %>%\n",
    "    gather(diet_category, diet_value, -scientific_name) %>%\n",
    "    mutate(diet_value = gsub(' .+', '', diet_value),\n",
    "           diet_value_binary = ifelse(diet_value == 'yes', 1, 0),\n",
    "           diet_category = gsub('diet_', '', diet_category)) %>%\n",
    "    group_by(scientific_name, diet_category) %>%\n",
    "    summarize(diet_value_mean = mean(diet_value_binary)) %>%\n",
    "    ungroup() %>%\n",
    "    spread(diet_category, diet_value_mean) %>%\n",
    "    as.data.frame\n",
    "\n",
    "rownames(x) = x$scientific_name\n",
    "x$scientific_name = NULL\n",
    "\n",
    "itol_heatmap(x, 'diet_detailed', 'SpecD_diet-detailed_itol-htmp.txt', \n",
    "             work_dir, dist_method='bray')"
   ]
  },
  {
   "cell_type": "markdown",
   "metadata": {},
   "source": [
    "## Habitat"
   ]
  },
  {
   "cell_type": "code",
   "execution_count": 17,
   "metadata": {
    "ExecuteTime": {
     "end_time": "2020-03-19T17:54:04.635872Z",
     "start_time": "2020-03-19T17:54:04.564Z"
    }
   },
   "outputs": [
    {
     "data": {
      "text/html": [
       "<table>\n",
       "<caption>A data.frame: 3 × 3</caption>\n",
       "<thead>\n",
       "\t<tr><th scope=col>labels</th><th scope=col>colors</th><th scope=col>shapes</th></tr>\n",
       "\t<tr><th scope=col>&lt;fct&gt;</th><th scope=col>&lt;fct&gt;</th><th scope=col>&lt;dbl&gt;</th></tr>\n",
       "</thead>\n",
       "<tbody>\n",
       "\t<tr><td>anthropogenic</td><td>#FF9900</td><td>1</td></tr>\n",
       "\t<tr><td>aquatic      </td><td>#00CCFF</td><td>1</td></tr>\n",
       "\t<tr><td>terrestrial  </td><td>#999600</td><td>1</td></tr>\n",
       "</tbody>\n",
       "</table>\n"
      ],
      "text/latex": [
       "A data.frame: 3 × 3\n",
       "\\begin{tabular}{lll}\n",
       " labels & colors & shapes\\\\\n",
       " <fct> & <fct> & <dbl>\\\\\n",
       "\\hline\n",
       "\t anthropogenic & \\#FF9900 & 1\\\\\n",
       "\t aquatic       & \\#00CCFF & 1\\\\\n",
       "\t terrestrial   & \\#999600 & 1\\\\\n",
       "\\end{tabular}\n"
      ],
      "text/markdown": [
       "\n",
       "A data.frame: 3 × 3\n",
       "\n",
       "| labels &lt;fct&gt; | colors &lt;fct&gt; | shapes &lt;dbl&gt; |\n",
       "|---|---|---|\n",
       "| anthropogenic | #FF9900 | 1 |\n",
       "| aquatic       | #00CCFF | 1 |\n",
       "| terrestrial   | #999600 | 1 |\n",
       "\n"
      ],
      "text/plain": [
       "  labels        colors  shapes\n",
       "1 anthropogenic #FF9900 1     \n",
       "2 aquatic       #00CCFF 1     \n",
       "3 terrestrial   #999600 1     "
      ]
     },
     "metadata": {},
     "output_type": "display_data"
    }
   ],
   "source": [
    "# setting colors\n",
    "x = samps$habitat %>% unique %>% gsub(' habitat', '', .) %>% sort\n",
    "cols = c('#FF9900', '#00CCFF', '#999600')\n",
    "legend = data.frame(labels = x,\n",
    "                    colors = cols,\n",
    "                    shapes = rep(1, length(labels)))\n",
    "\n",
    "legend"
   ]
  },
  {
   "cell_type": "code",
   "execution_count": 87,
   "metadata": {
    "ExecuteTime": {
     "end_time": "2019-11-29T11:47:55.741324Z",
     "start_time": "2019-11-29T11:47:55.648Z"
    }
   },
   "outputs": [
    {
     "name": "stdout",
     "output_type": "stream",
     "text": [
      "File written: /ebio/abt3_projects/Georg_animal_feces/data/metagenome/HiSeqRuns126-133-0138/wOutVertebrata/LLMGQC/metadata_summary//SpecD_habitat_itol-multibar.txt \n"
     ]
    }
   ],
   "source": [
    "# specD\n",
    "x = samps %>%\n",
    "    group_by(scientific_name) %>%\n",
    "    mutate(n_samples_per_sp = n()) %>%\n",
    "    group_by(scientific_name, habitat) %>%\n",
    "    summarize(n_samples = n(),\n",
    "              perc_samples = n_samples / first(n_samples_per_sp) * 100) %>%\n",
    "    ungroup() %>%\n",
    "    dplyr::select(scientific_name, habitat, perc_samples) %>%\n",
    "    spread(habitat, perc_samples, fill=0) %>%\n",
    "    as.data.frame\n",
    "\n",
    "rownames(x) = x$scientific_name\n",
    "x$scientific_name = NULL\n",
    "\n",
    "itol_multibar(x, 'habitat', 'SpecD_habitat_itol-multibar.txt', \n",
    "              work_dir, legend=legend, WIDTH=50)"
   ]
  },
  {
   "cell_type": "markdown",
   "metadata": {},
   "source": [
    "## Sample type"
   ]
  },
  {
   "cell_type": "code",
   "execution_count": 18,
   "metadata": {
    "ExecuteTime": {
     "end_time": "2020-03-19T17:54:08.919293Z",
     "start_time": "2020-03-19T17:54:08.845Z"
    }
   },
   "outputs": [
    {
     "data": {
      "text/plain": [
       ".\n",
       "feces   gut \n",
       "  242    47 "
      ]
     },
     "metadata": {},
     "output_type": "display_data"
    },
    {
     "data": {
      "text/html": [
       "<table>\n",
       "<caption>A data.frame: 2 × 3</caption>\n",
       "<thead>\n",
       "\t<tr><th scope=col>labels</th><th scope=col>colors</th><th scope=col>shapes</th></tr>\n",
       "\t<tr><th scope=col>&lt;fct&gt;</th><th scope=col>&lt;fct&gt;</th><th scope=col>&lt;dbl&gt;</th></tr>\n",
       "</thead>\n",
       "<tbody>\n",
       "\t<tr><td>feces</td><td>#663300</td><td>1</td></tr>\n",
       "\t<tr><td>gut  </td><td>#CC9900</td><td>1</td></tr>\n",
       "</tbody>\n",
       "</table>\n"
      ],
      "text/latex": [
       "A data.frame: 2 × 3\n",
       "\\begin{tabular}{lll}\n",
       " labels & colors & shapes\\\\\n",
       " <fct> & <fct> & <dbl>\\\\\n",
       "\\hline\n",
       "\t feces & \\#663300 & 1\\\\\n",
       "\t gut   & \\#CC9900 & 1\\\\\n",
       "\\end{tabular}\n"
      ],
      "text/markdown": [
       "\n",
       "A data.frame: 2 × 3\n",
       "\n",
       "| labels &lt;fct&gt; | colors &lt;fct&gt; | shapes &lt;dbl&gt; |\n",
       "|---|---|---|\n",
       "| feces | #663300 | 1 |\n",
       "| gut   | #CC9900 | 1 |\n",
       "\n"
      ],
      "text/plain": [
       "  labels colors  shapes\n",
       "1 feces  #663300 1     \n",
       "2 gut    #CC9900 1     "
      ]
     },
     "metadata": {},
     "output_type": "display_data"
    }
   ],
   "source": [
    "# setting colors\n",
    "samps$sample_type %>% table\n",
    "\n",
    "x = samps$sample_type %>% unique %>% sort\n",
    "cols = c('#663300', '#CC9900')\n",
    "legend = data.frame(labels = x,\n",
    "                    colors = cols,\n",
    "                    shapes = rep(1, length(labels)))\n",
    "\n",
    "legend"
   ]
  },
  {
   "cell_type": "code",
   "execution_count": 90,
   "metadata": {
    "ExecuteTime": {
     "end_time": "2019-11-29T11:48:27.376232Z",
     "start_time": "2019-11-29T11:48:27.257Z"
    }
   },
   "outputs": [
    {
     "name": "stdout",
     "output_type": "stream",
     "text": [
      "File written: /ebio/abt3_projects/Georg_animal_feces/data/metagenome/HiSeqRuns126-133-0138/wOutVertebrata/LLMGQC/metadata_summary//SpecD_sample-type_itol-multibar.txt \n"
     ]
    }
   ],
   "source": [
    "# specD\n",
    "x = samps %>%\n",
    "    group_by(scientific_name) %>%\n",
    "    mutate(n_samples_per_sp = n()) %>%\n",
    "    group_by(scientific_name, sample_type) %>%\n",
    "    summarize(n_samples = n(),\n",
    "              perc_samples = n_samples / first(n_samples_per_sp) * 100) %>%\n",
    "    ungroup() %>%\n",
    "    dplyr::select(scientific_name, sample_type, perc_samples) %>%\n",
    "    spread(sample_type, perc_samples, fill=0) %>%\n",
    "    as.data.frame\n",
    "\n",
    "rownames(x) = x$scientific_name\n",
    "x$scientific_name = NULL\n",
    "\n",
    "itol_multibar(x, 'sample_type', 'SpecD_sample-type_itol-multibar.txt', \n",
    "              work_dir, legend=legend, WIDTH=50)"
   ]
  },
  {
   "cell_type": "markdown",
   "metadata": {},
   "source": [
    "## Wild/Captive"
   ]
  },
  {
   "cell_type": "code",
   "execution_count": 19,
   "metadata": {
    "ExecuteTime": {
     "end_time": "2020-03-19T17:54:12.236374Z",
     "start_time": "2020-03-19T17:54:12.166Z"
    }
   },
   "outputs": [
    {
     "data": {
      "text/plain": [
       ".\n",
       "captive   human    wild \n",
       "     50       4     235 "
      ]
     },
     "metadata": {},
     "output_type": "display_data"
    },
    {
     "data": {
      "text/html": [
       "<table>\n",
       "<caption>A data.frame: 3 × 3</caption>\n",
       "<thead>\n",
       "\t<tr><th scope=col>labels</th><th scope=col>colors</th><th scope=col>shapes</th></tr>\n",
       "\t<tr><th scope=col>&lt;fct&gt;</th><th scope=col>&lt;fct&gt;</th><th scope=col>&lt;dbl&gt;</th></tr>\n",
       "</thead>\n",
       "<tbody>\n",
       "\t<tr><td>captive</td><td>#FF9900</td><td>1</td></tr>\n",
       "\t<tr><td>human  </td><td>#0000FF</td><td>1</td></tr>\n",
       "\t<tr><td>wild   </td><td>#009900</td><td>1</td></tr>\n",
       "</tbody>\n",
       "</table>\n"
      ],
      "text/latex": [
       "A data.frame: 3 × 3\n",
       "\\begin{tabular}{lll}\n",
       " labels & colors & shapes\\\\\n",
       " <fct> & <fct> & <dbl>\\\\\n",
       "\\hline\n",
       "\t captive & \\#FF9900 & 1\\\\\n",
       "\t human   & \\#0000FF & 1\\\\\n",
       "\t wild    & \\#009900 & 1\\\\\n",
       "\\end{tabular}\n"
      ],
      "text/markdown": [
       "\n",
       "A data.frame: 3 × 3\n",
       "\n",
       "| labels &lt;fct&gt; | colors &lt;fct&gt; | shapes &lt;dbl&gt; |\n",
       "|---|---|---|\n",
       "| captive | #FF9900 | 1 |\n",
       "| human   | #0000FF | 1 |\n",
       "| wild    | #009900 | 1 |\n",
       "\n"
      ],
      "text/plain": [
       "  labels  colors  shapes\n",
       "1 captive #FF9900 1     \n",
       "2 human   #0000FF 1     \n",
       "3 wild    #009900 1     "
      ]
     },
     "metadata": {},
     "output_type": "display_data"
    }
   ],
   "source": [
    "# setting colors\n",
    "samps$captive_wild %>% table\n",
    "\n",
    "x = samps$captive_wild %>% unique %>% sort\n",
    "cols = c('#FF9900', '#0000FF', '#009900')\n",
    "legend = data.frame(labels = x,\n",
    "                    colors = cols,\n",
    "                    shapes = rep(1, length(labels)))\n",
    "legend"
   ]
  },
  {
   "cell_type": "code",
   "execution_count": 93,
   "metadata": {
    "ExecuteTime": {
     "end_time": "2019-11-29T11:49:00.088658Z",
     "start_time": "2019-11-29T11:48:59.990Z"
    }
   },
   "outputs": [
    {
     "name": "stdout",
     "output_type": "stream",
     "text": [
      "File written: /ebio/abt3_projects/Georg_animal_feces/data/metagenome/HiSeqRuns126-133-0138/wOutVertebrata/LLMGQC/metadata_summary//SpecD_wild-captive_itol-multibar.txt \n"
     ]
    }
   ],
   "source": [
    "# specD\n",
    "x = samps %>%\n",
    "    group_by(scientific_name) %>%\n",
    "    mutate(n_samples_per_sp = n()) %>%\n",
    "    group_by(scientific_name, captive_wild) %>%\n",
    "    summarize(n_samples = n(),\n",
    "              perc_samples = n_samples / first(n_samples_per_sp) * 100) %>%\n",
    "    ungroup() %>%\n",
    "    dplyr::select(scientific_name, captive_wild, perc_samples) %>%\n",
    "    spread(captive_wild, perc_samples, fill=0) %>%\n",
    "    as.data.frame\n",
    "\n",
    "rownames(x) = x$scientific_name\n",
    "x$scientific_name = NULL\n",
    "\n",
    "itol_multibar(x, 'captive-wild', 'SpecD_wild-captive_itol-multibar.txt', \n",
    "              work_dir, legend=legend, WIDTH=50)"
   ]
  },
  {
   "cell_type": "markdown",
   "metadata": {},
   "source": [
    "## Digestive system"
   ]
  },
  {
   "cell_type": "code",
   "execution_count": 21,
   "metadata": {
    "ExecuteTime": {
     "end_time": "2020-03-19T17:54:20.706826Z",
     "start_time": "2020-03-19T17:54:20.627Z"
    }
   },
   "outputs": [
    {
     "data": {
      "text/html": [
       "<table>\n",
       "<caption>A data.frame: 289 × 76</caption>\n",
       "<thead>\n",
       "\t<tr><th scope=col>Sample</th><th scope=col>Read1</th><th scope=col>Read2</th><th scope=col>Total.Sequences</th><th scope=col>nonpareil_coverage</th><th scope=col>nonpareil_diversity</th><th scope=col>host_subject_id</th><th scope=col>host_german_name</th><th scope=col>host_common_name</th><th scope=col>scientific_name</th><th scope=col>⋯</th><th scope=col>temp_regulation</th><th scope=col>collection_date</th><th scope=col>season</th><th scope=col>samp_store_days</th><th scope=col>samp_collect_device</th><th scope=col>sampling_method</th><th scope=col>diet</th><th scope=col>feeding_style</th><th scope=col>digestive_system</th><th scope=col>digestive_system_detail</th></tr>\n",
       "\t<tr><th scope=col>&lt;chr&gt;</th><th scope=col>&lt;fct&gt;</th><th scope=col>&lt;fct&gt;</th><th scope=col>&lt;int&gt;</th><th scope=col>&lt;dbl&gt;</th><th scope=col>&lt;dbl&gt;</th><th scope=col>&lt;fct&gt;</th><th scope=col>&lt;fct&gt;</th><th scope=col>&lt;fct&gt;</th><th scope=col>&lt;fct&gt;</th><th scope=col>⋯</th><th scope=col>&lt;fct&gt;</th><th scope=col>&lt;fct&gt;</th><th scope=col>&lt;fct&gt;</th><th scope=col>&lt;fct&gt;</th><th scope=col>&lt;fct&gt;</th><th scope=col>&lt;fct&gt;</th><th scope=col>&lt;fct&gt;</th><th scope=col>&lt;fct&gt;</th><th scope=col>&lt;chr&gt;</th><th scope=col>&lt;fct&gt;</th></tr>\n",
       "</thead>\n",
       "<tbody>\n",
       "\t<tr><td>X144_Cattle               </td><td>/ebio/abt3_projects/Georg_animal_feces/data/metagenome/HiSeqRuns126-133-0138/wOutVertebrata/LLMGQC/final/X144_Cattle/R1_final.fq.gz               </td><td>/ebio/abt3_projects/Georg_animal_feces/data/metagenome/HiSeqRuns126-133-0138/wOutVertebrata/LLMGQC/final/X144_Cattle/R2_final.fq.gz               </td><td>10471331</td><td>0.3073356</td><td>22.03854</td><td>142</td><td>Hausrind             </td><td>Cattle               </td><td>Bos_taurus        </td><td>⋯</td><td>endotherm/homoiotherm</td><td>2009-06-17</td><td>spring</td><td>1102</td><td>Screw cap vial</td><td>feces sampling</td><td>herbivore</td><td>bulk and roughage eaters</td><td>foregut</td><td>foregut</td></tr>\n",
       "\t<tr><td>X370_African_Bush_Elephant</td><td>/ebio/abt3_projects/Georg_animal_feces/data/metagenome/HiSeqRuns126-133-0138/wOutVertebrata/LLMGQC/final/X370_African_Bush_Elephant/R1_final.fq.gz</td><td>/ebio/abt3_projects/Georg_animal_feces/data/metagenome/HiSeqRuns126-133-0138/wOutVertebrata/LLMGQC/final/X370_African_Bush_Elephant/R2_final.fq.gz</td><td>  551609</td><td>0.3190188</td><td>18.99648</td><td>370</td><td>Afrikanischer Elefant</td><td>African.Bush.Elephant</td><td>Loxodonta_africana</td><td>⋯</td><td>endotherm/homoiotherm</td><td>2013-06-05</td><td>spring</td><td>103 </td><td>Eppendorf tube</td><td>feces sampling</td><td>herbivore</td><td>NA                      </td><td>hindgut</td><td>colon  </td></tr>\n",
       "\t<tr><td>⋮</td><td>⋮</td><td>⋮</td><td>⋮</td><td>⋮</td><td>⋮</td><td>⋮</td><td>⋮</td><td>⋮</td><td>⋮</td><td>⋱</td><td>⋮</td><td>⋮</td><td>⋮</td><td>⋮</td><td>⋮</td><td>⋮</td><td>⋮</td><td>⋮</td><td>⋮</td><td>⋮</td></tr>\n",
       "\t<tr><td>X256_Zander          </td><td>/ebio/abt3_projects/Georg_animal_feces/data/metagenome/HiSeqRuns126-133-0138/wOutVertebrata/LLMGQC/final/X256_Zander/R1_final.fq.gz          </td><td>/ebio/abt3_projects/Georg_animal_feces/data/metagenome/HiSeqRuns126-133-0138/wOutVertebrata/LLMGQC/final/X256_Zander/R2_final.fq.gz          </td><td> 9198058</td><td>0.9757480</td><td>14.88468</td><td>256</td><td>Zander  </td><td>Zander           </td><td>Sander_lucioperca     </td><td>⋯</td><td>ectotherm/poikilotherm</td><td>2012-10-05</td><td>autumn</td><td>116</td><td>Screw cap vial</td><td>feces sampling</td><td>carnivore</td><td>NA</td><td>simple</td><td>simple</td></tr>\n",
       "\t<tr><td>X84_Common_Chiffchaff</td><td>/ebio/abt3_projects/Georg_animal_feces/data/metagenome/HiSeqRuns126-133-0138/wOutVertebrata/LLMGQC/final/X84_Common_Chiffchaff/R1_final.fq.gz</td><td>/ebio/abt3_projects/Georg_animal_feces/data/metagenome/HiSeqRuns126-133-0138/wOutVertebrata/LLMGQC/final/X84_Common_Chiffchaff/R2_final.fq.gz</td><td>24926183</td><td>0.9791558</td><td>14.22184</td><td>84 </td><td>Zilpzalp</td><td>Common.Chiffchaff</td><td>Phylloscopus_collybita</td><td>⋯</td><td>endotherm/homoiotherm </td><td>2011-10-01</td><td>autumn</td><td>100</td><td>Screw cap vial</td><td>swab          </td><td>omnivore </td><td>NA</td><td>simple</td><td>simple</td></tr>\n",
       "</tbody>\n",
       "</table>\n"
      ],
      "text/latex": [
       "A data.frame: 289 × 76\n",
       "\\begin{tabular}{lllllllllllllllllllll}\n",
       " Sample & Read1 & Read2 & Total.Sequences & nonpareil\\_coverage & nonpareil\\_diversity & host\\_subject\\_id & host\\_german\\_name & host\\_common\\_name & scientific\\_name & ⋯ & temp\\_regulation & collection\\_date & season & samp\\_store\\_days & samp\\_collect\\_device & sampling\\_method & diet & feeding\\_style & digestive\\_system & digestive\\_system\\_detail\\\\\n",
       " <chr> & <fct> & <fct> & <int> & <dbl> & <dbl> & <fct> & <fct> & <fct> & <fct> & ⋯ & <fct> & <fct> & <fct> & <fct> & <fct> & <fct> & <fct> & <fct> & <chr> & <fct>\\\\\n",
       "\\hline\n",
       "\t X144\\_Cattle                & /ebio/abt3\\_projects/Georg\\_animal\\_feces/data/metagenome/HiSeqRuns126-133-0138/wOutVertebrata/LLMGQC/final/X144\\_Cattle/R1\\_final.fq.gz                & /ebio/abt3\\_projects/Georg\\_animal\\_feces/data/metagenome/HiSeqRuns126-133-0138/wOutVertebrata/LLMGQC/final/X144\\_Cattle/R2\\_final.fq.gz                & 10471331 & 0.3073356 & 22.03854 & 142 & Hausrind              & Cattle                & Bos\\_taurus         & ⋯ & endotherm/homoiotherm & 2009-06-17 & spring & 1102 & Screw cap vial & feces sampling & herbivore & bulk and roughage eaters & foregut & foregut\\\\\n",
       "\t X370\\_African\\_Bush\\_Elephant & /ebio/abt3\\_projects/Georg\\_animal\\_feces/data/metagenome/HiSeqRuns126-133-0138/wOutVertebrata/LLMGQC/final/X370\\_African\\_Bush\\_Elephant/R1\\_final.fq.gz & /ebio/abt3\\_projects/Georg\\_animal\\_feces/data/metagenome/HiSeqRuns126-133-0138/wOutVertebrata/LLMGQC/final/X370\\_African\\_Bush\\_Elephant/R2\\_final.fq.gz &   551609 & 0.3190188 & 18.99648 & 370 & Afrikanischer Elefant & African.Bush.Elephant & Loxodonta\\_africana & ⋯ & endotherm/homoiotherm & 2013-06-05 & spring & 103  & Eppendorf tube & feces sampling & herbivore & NA                       & hindgut & colon  \\\\\n",
       "\t ⋮ & ⋮ & ⋮ & ⋮ & ⋮ & ⋮ & ⋮ & ⋮ & ⋮ & ⋮ & ⋱ & ⋮ & ⋮ & ⋮ & ⋮ & ⋮ & ⋮ & ⋮ & ⋮ & ⋮ & ⋮\\\\\n",
       "\t X256\\_Zander           & /ebio/abt3\\_projects/Georg\\_animal\\_feces/data/metagenome/HiSeqRuns126-133-0138/wOutVertebrata/LLMGQC/final/X256\\_Zander/R1\\_final.fq.gz           & /ebio/abt3\\_projects/Georg\\_animal\\_feces/data/metagenome/HiSeqRuns126-133-0138/wOutVertebrata/LLMGQC/final/X256\\_Zander/R2\\_final.fq.gz           &  9198058 & 0.9757480 & 14.88468 & 256 & Zander   & Zander            & Sander\\_lucioperca      & ⋯ & ectotherm/poikilotherm & 2012-10-05 & autumn & 116 & Screw cap vial & feces sampling & carnivore & NA & simple & simple\\\\\n",
       "\t X84\\_Common\\_Chiffchaff & /ebio/abt3\\_projects/Georg\\_animal\\_feces/data/metagenome/HiSeqRuns126-133-0138/wOutVertebrata/LLMGQC/final/X84\\_Common\\_Chiffchaff/R1\\_final.fq.gz & /ebio/abt3\\_projects/Georg\\_animal\\_feces/data/metagenome/HiSeqRuns126-133-0138/wOutVertebrata/LLMGQC/final/X84\\_Common\\_Chiffchaff/R2\\_final.fq.gz & 24926183 & 0.9791558 & 14.22184 & 84  & Zilpzalp & Common.Chiffchaff & Phylloscopus\\_collybita & ⋯ & endotherm/homoiotherm  & 2011-10-01 & autumn & 100 & Screw cap vial & swab           & omnivore  & NA & simple & simple\\\\\n",
       "\\end{tabular}\n"
      ],
      "text/markdown": [
       "\n",
       "A data.frame: 289 × 76\n",
       "\n",
       "| Sample &lt;chr&gt; | Read1 &lt;fct&gt; | Read2 &lt;fct&gt; | Total.Sequences &lt;int&gt; | nonpareil_coverage &lt;dbl&gt; | nonpareil_diversity &lt;dbl&gt; | host_subject_id &lt;fct&gt; | host_german_name &lt;fct&gt; | host_common_name &lt;fct&gt; | scientific_name &lt;fct&gt; | ⋯ ⋯ | temp_regulation &lt;fct&gt; | collection_date &lt;fct&gt; | season &lt;fct&gt; | samp_store_days &lt;fct&gt; | samp_collect_device &lt;fct&gt; | sampling_method &lt;fct&gt; | diet &lt;fct&gt; | feeding_style &lt;fct&gt; | digestive_system &lt;chr&gt; | digestive_system_detail &lt;fct&gt; |\n",
       "|---|---|---|---|---|---|---|---|---|---|---|---|---|---|---|---|---|---|---|---|---|\n",
       "| X144_Cattle                | /ebio/abt3_projects/Georg_animal_feces/data/metagenome/HiSeqRuns126-133-0138/wOutVertebrata/LLMGQC/final/X144_Cattle/R1_final.fq.gz                | /ebio/abt3_projects/Georg_animal_feces/data/metagenome/HiSeqRuns126-133-0138/wOutVertebrata/LLMGQC/final/X144_Cattle/R2_final.fq.gz                | 10471331 | 0.3073356 | 22.03854 | 142 | Hausrind              | Cattle                | Bos_taurus         | ⋯ | endotherm/homoiotherm | 2009-06-17 | spring | 1102 | Screw cap vial | feces sampling | herbivore | bulk and roughage eaters | foregut | foregut |\n",
       "| X370_African_Bush_Elephant | /ebio/abt3_projects/Georg_animal_feces/data/metagenome/HiSeqRuns126-133-0138/wOutVertebrata/LLMGQC/final/X370_African_Bush_Elephant/R1_final.fq.gz | /ebio/abt3_projects/Georg_animal_feces/data/metagenome/HiSeqRuns126-133-0138/wOutVertebrata/LLMGQC/final/X370_African_Bush_Elephant/R2_final.fq.gz |   551609 | 0.3190188 | 18.99648 | 370 | Afrikanischer Elefant | African.Bush.Elephant | Loxodonta_africana | ⋯ | endotherm/homoiotherm | 2013-06-05 | spring | 103  | Eppendorf tube | feces sampling | herbivore | NA                       | hindgut | colon   |\n",
       "| ⋮ | ⋮ | ⋮ | ⋮ | ⋮ | ⋮ | ⋮ | ⋮ | ⋮ | ⋮ | ⋱ | ⋮ | ⋮ | ⋮ | ⋮ | ⋮ | ⋮ | ⋮ | ⋮ | ⋮ | ⋮ |\n",
       "| X256_Zander           | /ebio/abt3_projects/Georg_animal_feces/data/metagenome/HiSeqRuns126-133-0138/wOutVertebrata/LLMGQC/final/X256_Zander/R1_final.fq.gz           | /ebio/abt3_projects/Georg_animal_feces/data/metagenome/HiSeqRuns126-133-0138/wOutVertebrata/LLMGQC/final/X256_Zander/R2_final.fq.gz           |  9198058 | 0.9757480 | 14.88468 | 256 | Zander   | Zander            | Sander_lucioperca      | ⋯ | ectotherm/poikilotherm | 2012-10-05 | autumn | 116 | Screw cap vial | feces sampling | carnivore | NA | simple | simple |\n",
       "| X84_Common_Chiffchaff | /ebio/abt3_projects/Georg_animal_feces/data/metagenome/HiSeqRuns126-133-0138/wOutVertebrata/LLMGQC/final/X84_Common_Chiffchaff/R1_final.fq.gz | /ebio/abt3_projects/Georg_animal_feces/data/metagenome/HiSeqRuns126-133-0138/wOutVertebrata/LLMGQC/final/X84_Common_Chiffchaff/R2_final.fq.gz | 24926183 | 0.9791558 | 14.22184 | 84  | Zilpzalp | Common.Chiffchaff | Phylloscopus_collybita | ⋯ | endotherm/homoiotherm  | 2011-10-01 | autumn | 100 | Screw cap vial | swab           | omnivore  | NA | simple | simple |\n",
       "\n"
      ],
      "text/plain": [
       "    Sample                    \n",
       "1   X144_Cattle               \n",
       "2   X370_African_Bush_Elephant\n",
       "⋮   ⋮                         \n",
       "288 X256_Zander               \n",
       "289 X84_Common_Chiffchaff     \n",
       "    Read1                                                                                                                                             \n",
       "1   /ebio/abt3_projects/Georg_animal_feces/data/metagenome/HiSeqRuns126-133-0138/wOutVertebrata/LLMGQC/final/X144_Cattle/R1_final.fq.gz               \n",
       "2   /ebio/abt3_projects/Georg_animal_feces/data/metagenome/HiSeqRuns126-133-0138/wOutVertebrata/LLMGQC/final/X370_African_Bush_Elephant/R1_final.fq.gz\n",
       "⋮   ⋮                                                                                                                                                 \n",
       "288 /ebio/abt3_projects/Georg_animal_feces/data/metagenome/HiSeqRuns126-133-0138/wOutVertebrata/LLMGQC/final/X256_Zander/R1_final.fq.gz               \n",
       "289 /ebio/abt3_projects/Georg_animal_feces/data/metagenome/HiSeqRuns126-133-0138/wOutVertebrata/LLMGQC/final/X84_Common_Chiffchaff/R1_final.fq.gz     \n",
       "    Read2                                                                                                                                             \n",
       "1   /ebio/abt3_projects/Georg_animal_feces/data/metagenome/HiSeqRuns126-133-0138/wOutVertebrata/LLMGQC/final/X144_Cattle/R2_final.fq.gz               \n",
       "2   /ebio/abt3_projects/Georg_animal_feces/data/metagenome/HiSeqRuns126-133-0138/wOutVertebrata/LLMGQC/final/X370_African_Bush_Elephant/R2_final.fq.gz\n",
       "⋮   ⋮                                                                                                                                                 \n",
       "288 /ebio/abt3_projects/Georg_animal_feces/data/metagenome/HiSeqRuns126-133-0138/wOutVertebrata/LLMGQC/final/X256_Zander/R2_final.fq.gz               \n",
       "289 /ebio/abt3_projects/Georg_animal_feces/data/metagenome/HiSeqRuns126-133-0138/wOutVertebrata/LLMGQC/final/X84_Common_Chiffchaff/R2_final.fq.gz     \n",
       "    Total.Sequences nonpareil_coverage nonpareil_diversity host_subject_id\n",
       "1   10471331        0.3073356          22.03854            142            \n",
       "2     551609        0.3190188          18.99648            370            \n",
       "⋮   ⋮               ⋮                  ⋮                   ⋮              \n",
       "288  9198058        0.9757480          14.88468            256            \n",
       "289 24926183        0.9791558          14.22184            84             \n",
       "    host_german_name      host_common_name      scientific_name        ⋯\n",
       "1   Hausrind              Cattle                Bos_taurus             ⋯\n",
       "2   Afrikanischer Elefant African.Bush.Elephant Loxodonta_africana     ⋯\n",
       "⋮   ⋮                     ⋮                     ⋮                      ⋱\n",
       "288 Zander                Zander                Sander_lucioperca      ⋯\n",
       "289 Zilpzalp              Common.Chiffchaff     Phylloscopus_collybita ⋯\n",
       "    temp_regulation        collection_date season samp_store_days\n",
       "1   endotherm/homoiotherm  2009-06-17      spring 1102           \n",
       "2   endotherm/homoiotherm  2013-06-05      spring 103            \n",
       "⋮   ⋮                      ⋮               ⋮      ⋮              \n",
       "288 ectotherm/poikilotherm 2012-10-05      autumn 116            \n",
       "289 endotherm/homoiotherm  2011-10-01      autumn 100            \n",
       "    samp_collect_device sampling_method diet      feeding_style           \n",
       "1   Screw cap vial      feces sampling  herbivore bulk and roughage eaters\n",
       "2   Eppendorf tube      feces sampling  herbivore NA                      \n",
       "⋮   ⋮                   ⋮               ⋮         ⋮                       \n",
       "288 Screw cap vial      feces sampling  carnivore NA                      \n",
       "289 Screw cap vial      swab            omnivore  NA                      \n",
       "    digestive_system digestive_system_detail\n",
       "1   foregut          foregut                \n",
       "2   hindgut          colon                  \n",
       "⋮   ⋮                ⋮                      \n",
       "288 simple           simple                 \n",
       "289 simple           simple                 "
      ]
     },
     "metadata": {},
     "output_type": "display_data"
    }
   ],
   "source": [
    "samps = samps %>%\n",
    "    mutate(digestive_system = gsub(' ', '_', digestive_system))\n",
    "samps"
   ]
  },
  {
   "cell_type": "code",
   "execution_count": 22,
   "metadata": {
    "ExecuteTime": {
     "end_time": "2020-03-19T17:54:23.710119Z",
     "start_time": "2020-03-19T17:54:23.644Z"
    }
   },
   "outputs": [
    {
     "data": {
      "text/html": [
       "<table>\n",
       "<caption>A data.frame: 6 × 3</caption>\n",
       "<thead>\n",
       "\t<tr><th scope=col>labels</th><th scope=col>colors</th><th scope=col>shapes</th></tr>\n",
       "\t<tr><th scope=col>&lt;fct&gt;</th><th scope=col>&lt;fct&gt;</th><th scope=col>&lt;dbl&gt;</th></tr>\n",
       "</thead>\n",
       "<tbody>\n",
       "\t<tr><td>fermentation_activity_foregut</td><td>#FF0000</td><td>1</td></tr>\n",
       "\t<tr><td>foregut                      </td><td>#FFFF00</td><td>1</td></tr>\n",
       "\t<tr><td>⋮</td><td>⋮</td><td>⋮</td></tr>\n",
       "\t<tr><td>simple_foregut</td><td>#0000FF</td><td>1</td></tr>\n",
       "\t<tr><td>simple_hindgut</td><td>#FF00FF</td><td>1</td></tr>\n",
       "</tbody>\n",
       "</table>\n"
      ],
      "text/latex": [
       "A data.frame: 6 × 3\n",
       "\\begin{tabular}{lll}\n",
       " labels & colors & shapes\\\\\n",
       " <fct> & <fct> & <dbl>\\\\\n",
       "\\hline\n",
       "\t fermentation\\_activity\\_foregut & \\#FF0000 & 1\\\\\n",
       "\t foregut                       & \\#FFFF00 & 1\\\\\n",
       "\t ⋮ & ⋮ & ⋮\\\\\n",
       "\t simple\\_foregut & \\#0000FF & 1\\\\\n",
       "\t simple\\_hindgut & \\#FF00FF & 1\\\\\n",
       "\\end{tabular}\n"
      ],
      "text/markdown": [
       "\n",
       "A data.frame: 6 × 3\n",
       "\n",
       "| labels &lt;fct&gt; | colors &lt;fct&gt; | shapes &lt;dbl&gt; |\n",
       "|---|---|---|\n",
       "| fermentation_activity_foregut | #FF0000 | 1 |\n",
       "| foregut                       | #FFFF00 | 1 |\n",
       "| ⋮ | ⋮ | ⋮ |\n",
       "| simple_foregut | #0000FF | 1 |\n",
       "| simple_hindgut | #FF00FF | 1 |\n",
       "\n"
      ],
      "text/plain": [
       "  labels                        colors  shapes\n",
       "1 fermentation_activity_foregut #FF0000 1     \n",
       "2 foregut                       #FFFF00 1     \n",
       "⋮ ⋮                             ⋮       ⋮     \n",
       "5 simple_foregut                #0000FF 1     \n",
       "6 simple_hindgut                #FF00FF 1     "
      ]
     },
     "metadata": {},
     "output_type": "display_data"
    }
   ],
   "source": [
    "# setting colors\n",
    "x = samps$digestive_system %>% unique %>% gsub(' habitat', '', .) %>% sort\n",
    "cols = c('#FF0000', '#FFFF00', '#00FF00', '#00FFFF', '#0000FF', '#FF00FF')\n",
    "legend = data.frame(labels = x,\n",
    "                    colors = cols,\n",
    "                    shapes = rep(1, length(labels)))\n",
    "\n",
    "legend"
   ]
  },
  {
   "cell_type": "code",
   "execution_count": 96,
   "metadata": {
    "ExecuteTime": {
     "end_time": "2019-11-29T11:49:52.530095Z",
     "start_time": "2019-11-29T11:49:52.420Z"
    }
   },
   "outputs": [
    {
     "name": "stdout",
     "output_type": "stream",
     "text": [
      "File written: /ebio/abt3_projects/Georg_animal_feces/data/metagenome/HiSeqRuns126-133-0138/wOutVertebrata/LLMGQC/metadata_summary//SpecD_dig-sys_itol-multibar.txt \n"
     ]
    }
   ],
   "source": [
    "x = samps %>%\n",
    "    group_by(scientific_name) %>%\n",
    "    mutate(n_samples_per_sp = n()) %>%\n",
    "    group_by(scientific_name, digestive_system) %>%\n",
    "    summarize(n_samples = n(),\n",
    "              perc_samples = n_samples / first(n_samples_per_sp) * 100) %>%\n",
    "    ungroup() %>%\n",
    "    dplyr::select(scientific_name, digestive_system, perc_samples) %>%\n",
    "    spread(digestive_system, perc_samples, fill=0) %>%\n",
    "    as.data.frame\n",
    "\n",
    "rownames(x) = x$scientific_name\n",
    "x$scientific_name = NULL\n",
    "\n",
    "itol_multibar(x, 'dig_sys', 'SpecD_dig-sys_itol-multibar.txt', \n",
    "              work_dir, legend=legend, WIDTH=50)"
   ]
  },
  {
   "cell_type": "markdown",
   "metadata": {},
   "source": [
    "# Sequence data"
   ]
  },
  {
   "cell_type": "markdown",
   "metadata": {},
   "source": [
    "## Total seqs"
   ]
  },
  {
   "cell_type": "code",
   "execution_count": 76,
   "metadata": {
    "ExecuteTime": {
     "end_time": "2019-11-29T11:44:36.827204Z",
     "start_time": "2019-11-29T11:44:36.537Z"
    }
   },
   "outputs": [
    {
     "name": "stdout",
     "output_type": "stream",
     "text": [
      "File written: /ebio/abt3_projects/Georg_animal_feces/data/metagenome/HiSeqRuns126-133-0138/wOutVertebrata/LLMGQC/metadata_summary//SpecD_total-seqs_itol-box.txt \n"
     ]
    }
   ],
   "source": [
    "x = samps  %>% \n",
    "    group_by(scientific_name) %>%\n",
    "    summarize(minimum = min(Total.Sequences),\n",
    "              q1 = quantile(Total.Sequences, 0.25),\n",
    "              median = median(Total.Sequences),\n",
    "              q3 = quantile(Total.Sequences, 0.75),\n",
    "              maximum = max(Total.Sequences)) %>%\n",
    "    ungroup() %>%\n",
    "    as.data.frame\n",
    "\n",
    "rownames(x) = x$scientific_name\n",
    "x$scientific_name = NULL\n",
    "\n",
    "itol_boxplot(x, 'Total MG Seqs', 'SpecD_total-seqs_itol-box.txt', work_dir)"
   ]
  },
  {
   "cell_type": "markdown",
   "metadata": {},
   "source": [
    "## Estimated coverage"
   ]
  },
  {
   "cell_type": "code",
   "execution_count": 77,
   "metadata": {
    "ExecuteTime": {
     "end_time": "2019-11-29T11:44:52.566048Z",
     "start_time": "2019-11-29T11:44:52.334Z"
    }
   },
   "outputs": [
    {
     "name": "stdout",
     "output_type": "stream",
     "text": [
      "File written: /ebio/abt3_projects/Georg_animal_feces/data/metagenome/HiSeqRuns126-133-0138/wOutVertebrata/LLMGQC/metadata_summary//SpecD_nonpareil-cov_itol-box.txt \n"
     ]
    }
   ],
   "source": [
    "x = samps %>% \n",
    "    filter(!is.na(nonpareil_coverage)) %>%\n",
    "    group_by(scientific_name) %>%\n",
    "    summarize(minimum = min(nonpareil_coverage),\n",
    "              q1 = quantile(nonpareil_coverage, 0.25),\n",
    "              median = median(nonpareil_coverage),\n",
    "              q3 = quantile(nonpareil_coverage, 0.75),\n",
    "              maximum = max(nonpareil_coverage)) %>%\n",
    "    ungroup() %>%\n",
    "    as.data.frame\n",
    "\n",
    "rownames(x) = x$scientific_name\n",
    "x$scientific_name = NULL\n",
    "\n",
    "itol_boxplot(x, 'Nonpareil_Cov', 'SpecD_nonpareil-cov_itol-box.txt', work_dir)"
   ]
  },
  {
   "cell_type": "markdown",
   "metadata": {},
   "source": [
    "# Supplemental table\n",
    "\n",
    "* supplemental table of metadata for all samples"
   ]
  },
  {
   "cell_type": "code",
   "execution_count": 22,
   "metadata": {
    "ExecuteTime": {
     "end_time": "2020-04-27T19:11:41.658340Z",
     "start_time": "2020-04-27T19:11:41.603Z"
    }
   },
   "outputs": [
    {
     "name": "stdout",
     "output_type": "stream",
     "text": [
      "File written: /ebio/abt3_projects/Georg_animal_feces/data/metagenome/HiSeqRuns126-133-0138/wOutVertebrata/LLMGQC/metadata_summary//wOutVertebrata_metadata-summary.tsv \n"
     ]
    }
   ],
   "source": [
    "outF = file.path(work_dir, 'wOutVertebrata_metadata-summary.tsv')\n",
    "samps %>%\n",
    "    dplyr::select(Sample, class, order, family, genus, \n",
    "                  scientific_name, host_common_name,\n",
    "                  diet, captive_wild, country, sample_type,\n",
    "                  collection_date) %>%\n",
    "    mutate(host_common_name = gsub('\\\\.', '_', host_common_name)) %>%\n",
    "    write_table(outF)"
   ]
  },
  {
   "cell_type": "markdown",
   "metadata": {},
   "source": [
    "# sessionInfo"
   ]
  },
  {
   "cell_type": "code",
   "execution_count": 23,
   "metadata": {
    "ExecuteTime": {
     "end_time": "2020-03-19T17:54:31.109133Z",
     "start_time": "2020-03-19T17:54:31.004Z"
    }
   },
   "outputs": [
    {
     "data": {
      "text/plain": [
       "R version 3.6.2 (2019-12-12)\n",
       "Platform: x86_64-conda_cos6-linux-gnu (64-bit)\n",
       "Running under: Ubuntu 18.04.3 LTS\n",
       "\n",
       "Matrix products: default\n",
       "BLAS/LAPACK: /ebio/abt3_projects/Georg_animal_feces/envs/phyloseq/lib/libopenblasp-r0.3.7.so\n",
       "\n",
       "Random number generation:\n",
       " RNG:     Mersenne-Twister \n",
       " Normal:  Inversion \n",
       " Sample:  Rounding \n",
       " \n",
       "locale:\n",
       " [1] LC_CTYPE=en_US.UTF-8       LC_NUMERIC=C              \n",
       " [3] LC_TIME=en_US.UTF-8        LC_COLLATE=en_US.UTF-8    \n",
       " [5] LC_MONETARY=en_US.UTF-8    LC_MESSAGES=en_US.UTF-8   \n",
       " [7] LC_PAPER=en_US.UTF-8       LC_NAME=C                 \n",
       " [9] LC_ADDRESS=C               LC_TELEPHONE=C            \n",
       "[11] LC_MEASUREMENT=en_US.UTF-8 LC_IDENTIFICATION=C       \n",
       "\n",
       "attached base packages:\n",
       "[1] stats     graphics  grDevices utils     datasets  methods   base     \n",
       "\n",
       "other attached packages:\n",
       "[1] LeyLabRMisc_0.1.2 ape_5.3           ggplot2_3.2.1     tidyr_1.0.0      \n",
       "[5] dplyr_0.8.3      \n",
       "\n",
       "loaded via a namespace (and not attached):\n",
       " [1] Rcpp_1.0.3       pillar_1.4.3     compiler_3.6.2   base64enc_0.1-3 \n",
       " [5] tools_3.6.2      zeallot_0.1.0    digest_0.6.23    uuid_0.1-2      \n",
       " [9] jsonlite_1.6     evaluate_0.14    tibble_2.1.3     lifecycle_0.1.0 \n",
       "[13] gtable_0.3.0     nlme_3.1-143     lattice_0.20-38  pkgconfig_2.0.3 \n",
       "[17] rlang_0.4.2      IRdisplay_0.7.0  IRkernel_1.1     parallel_3.6.2  \n",
       "[21] repr_1.0.2       withr_2.1.2      vctrs_0.2.1      grid_3.6.2      \n",
       "[25] tidyselect_0.2.5 glue_1.3.1       R6_2.4.1         pbdZMQ_0.3-3    \n",
       "[29] purrr_0.3.3      magrittr_1.5     backports_1.1.5  scales_1.1.0    \n",
       "[33] htmltools_0.4.0  assertthat_0.2.1 colorspace_1.4-1 lazyeval_0.2.2  \n",
       "[37] munsell_0.5.0    crayon_1.3.4    "
      ]
     },
     "metadata": {},
     "output_type": "display_data"
    }
   ],
   "source": [
    "sessionInfo()"
   ]
  },
  {
   "cell_type": "code",
   "execution_count": null,
   "metadata": {},
   "outputs": [],
   "source": []
  }
 ],
 "metadata": {
  "kernelspec": {
   "display_name": "R [conda env:Georg_animal_feces-phyloseq]",
   "language": "R",
   "name": "conda-env-Georg_animal_feces-phyloseq-r"
  },
  "language_info": {
   "codemirror_mode": "r",
   "file_extension": ".r",
   "mimetype": "text/x-r-source",
   "name": "R",
   "pygments_lexer": "r",
   "version": "3.6.2"
  },
  "notify_time": "30",
  "toc": {
   "base_numbering": 1,
   "nav_menu": {},
   "number_sections": true,
   "sideBar": true,
   "skip_h1_title": false,
   "title_cell": "Table of Contents",
   "title_sidebar": "Contents",
   "toc_cell": true,
   "toc_position": {
    "height": "calc(100% - 180px)",
    "left": "10px",
    "top": "150px",
    "width": "256px"
   },
   "toc_section_display": true,
   "toc_window_display": true
  }
 },
 "nbformat": 4,
 "nbformat_minor": 2
}
