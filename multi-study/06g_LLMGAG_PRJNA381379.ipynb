{
 "cells": [
  {
   "cell_type": "markdown",
   "metadata": {
    "toc": true
   },
   "source": [
    "<h1>Table of Contents<span class=\"tocSkip\"></span></h1>\n",
    "<div class=\"toc\"><ul class=\"toc-item\"><li><span><a href=\"#Goal\" data-toc-modified-id=\"Goal-1\"><span class=\"toc-item-num\">1&nbsp;&nbsp;</span>Goal</a></span></li><li><span><a href=\"#Var\" data-toc-modified-id=\"Var-2\"><span class=\"toc-item-num\">2&nbsp;&nbsp;</span>Var</a></span></li><li><span><a href=\"#Init\" data-toc-modified-id=\"Init-3\"><span class=\"toc-item-num\">3&nbsp;&nbsp;</span>Init</a></span></li><li><span><a href=\"#LLMGAG\" data-toc-modified-id=\"LLMGAG-4\"><span class=\"toc-item-num\">4&nbsp;&nbsp;</span>LLMGAG</a></span><ul class=\"toc-item\"><li><span><a href=\"#Setup\" data-toc-modified-id=\"Setup-4.1\"><span class=\"toc-item-num\">4.1&nbsp;&nbsp;</span>Setup</a></span><ul class=\"toc-item\"><li><span><a href=\"#Run\" data-toc-modified-id=\"Run-4.1.1\"><span class=\"toc-item-num\">4.1.1&nbsp;&nbsp;</span>Run</a></span></li></ul></li></ul></li><li><span><a href=\"#---WAITING---\" data-toc-modified-id=\"---WAITING----5\"><span class=\"toc-item-num\">5&nbsp;&nbsp;</span>-- WAITING --</a></span></li><li><span><a href=\"#Summary\" data-toc-modified-id=\"Summary-6\"><span class=\"toc-item-num\">6&nbsp;&nbsp;</span>Summary</a></span><ul class=\"toc-item\"><li><span><a href=\"#Number-of-genes-assembled-&amp;-clustered\" data-toc-modified-id=\"Number-of-genes-assembled-&amp;-clustered-6.1\"><span class=\"toc-item-num\">6.1&nbsp;&nbsp;</span>Number of genes assembled &amp; clustered</a></span></li><li><span><a href=\"#Taxonomy\" data-toc-modified-id=\"Taxonomy-6.2\"><span class=\"toc-item-num\">6.2&nbsp;&nbsp;</span>Taxonomy</a></span><ul class=\"toc-item\"><li><span><a href=\"#Summary\" data-toc-modified-id=\"Summary-6.2.1\"><span class=\"toc-item-num\">6.2.1&nbsp;&nbsp;</span>Summary</a></span></li></ul></li><li><span><a href=\"#Annotations\" data-toc-modified-id=\"Annotations-6.3\"><span class=\"toc-item-num\">6.3&nbsp;&nbsp;</span>Annotations</a></span><ul class=\"toc-item\"><li><span><a href=\"#COG-functional-categories\" data-toc-modified-id=\"COG-functional-categories-6.3.1\"><span class=\"toc-item-num\">6.3.1&nbsp;&nbsp;</span>COG functional categories</a></span></li><li><span><a href=\"#Grouped-by-taxonomy\" data-toc-modified-id=\"Grouped-by-taxonomy-6.3.2\"><span class=\"toc-item-num\">6.3.2&nbsp;&nbsp;</span>Grouped by taxonomy</a></span></li></ul></li><li><span><a href=\"#humann2-db-genes\" data-toc-modified-id=\"humann2-db-genes-6.4\"><span class=\"toc-item-num\">6.4&nbsp;&nbsp;</span>humann2 db genes</a></span><ul class=\"toc-item\"><li><span><a href=\"#Summary\" data-toc-modified-id=\"Summary-6.4.1\"><span class=\"toc-item-num\">6.4.1&nbsp;&nbsp;</span>Summary</a></span><ul class=\"toc-item\"><li><span><a href=\"#By-taxonomy\" data-toc-modified-id=\"By-taxonomy-6.4.1.1\"><span class=\"toc-item-num\">6.4.1.1&nbsp;&nbsp;</span>By taxonomy</a></span></li></ul></li></ul></li></ul></li><li><span><a href=\"#sessionInfo\" data-toc-modified-id=\"sessionInfo-7\"><span class=\"toc-item-num\">7&nbsp;&nbsp;</span>sessionInfo</a></span></li></ul></div>"
   ]
  },
  {
   "cell_type": "markdown",
   "metadata": {},
   "source": [
    "# Goal\n",
    "\n",
    "* Run `LLMGAG` (metagenome assembly of genes) pipeline on animal gut microbiome metagenome study\n",
    "* study = PRJNA381379\n",
    "  * host = Kakapo"
   ]
  },
  {
   "cell_type": "markdown",
   "metadata": {},
   "source": [
    "# Var"
   ]
  },
  {
   "cell_type": "code",
   "execution_count": 1,
   "metadata": {
    "ExecuteTime": {
     "end_time": "2019-09-26T15:13:39.845088Z",
     "start_time": "2019-09-26T15:13:39.435Z"
    }
   },
   "outputs": [],
   "source": [
    "studyID = 'PRJNA381379'\n",
    "base_dir = file.path('/ebio/abt3_projects/Georg_animal_feces/data/metagenome/multi-study/BioProjects/',\n",
    "                     studyID)\n",
    "tmp_out_dir = file.path('/ebio/abt3_projects/databases_no-backup/animal_gut_metagenomes/multi-study_MG-asmbl/',\n",
    "                        studyID)\n",
    "\n",
    "work_dir = file.path(base_dir, 'LLMGAG')\n",
    "\n",
    "pipeline_dir = '/ebio/abt3_projects/methanogen_host_evo/bin/llmgag'\n",
    "threads = 24"
   ]
  },
  {
   "cell_type": "markdown",
   "metadata": {},
   "source": [
    "# Init"
   ]
  },
  {
   "cell_type": "code",
   "execution_count": 2,
   "metadata": {
    "ExecuteTime": {
     "end_time": "2019-09-26T15:13:41.611460Z",
     "start_time": "2019-09-26T15:13:39.963Z"
    }
   },
   "outputs": [
    {
     "name": "stderr",
     "output_type": "stream",
     "text": [
      "\n",
      "Attaching package: ‘dplyr’\n",
      "\n",
      "The following objects are masked from ‘package:stats’:\n",
      "\n",
      "    filter, lag\n",
      "\n",
      "The following objects are masked from ‘package:base’:\n",
      "\n",
      "    intersect, setdiff, setequal, union\n",
      "\n",
      "\n",
      "Attaching package: ‘data.table’\n",
      "\n",
      "The following objects are masked from ‘package:dplyr’:\n",
      "\n",
      "    between, first, last\n",
      "\n"
     ]
    }
   ],
   "source": [
    "library(dplyr)\n",
    "library(tidyr)\n",
    "library(ggplot2)\n",
    "library(data.table)\n",
    "set.seed(8304)\n",
    "\n",
    "source('/ebio/abt3_projects/Georg_animal_feces/code/misc_r_functions/init.R')"
   ]
  },
  {
   "cell_type": "code",
   "execution_count": 3,
   "metadata": {
    "ExecuteTime": {
     "end_time": "2019-09-26T15:13:41.989937Z",
     "start_time": "2019-09-26T15:13:40.700Z"
    }
   },
   "outputs": [
    {
     "name": "stdout",
     "output_type": "stream",
     "text": [
      "Directory already exists: /ebio/abt3_projects/Georg_animal_feces/data/metagenome/multi-study/BioProjects//PRJNA381379 \n",
      "Directory already exists: /ebio/abt3_projects/databases_no-backup/animal_gut_metagenomes/multi-study_MG-asmbl//PRJNA381379 \n",
      "Created directory: /ebio/abt3_projects/Georg_animal_feces/data/metagenome/multi-study/BioProjects//PRJNA381379/LLMGAG \n"
     ]
    }
   ],
   "source": [
    "make_dir(base_dir)\n",
    "make_dir(tmp_out_dir)\n",
    "make_dir(work_dir)"
   ]
  },
  {
   "cell_type": "markdown",
   "metadata": {},
   "source": [
    "# LLMGAG"
   ]
  },
  {
   "cell_type": "markdown",
   "metadata": {},
   "source": [
    "## Setup"
   ]
  },
  {
   "cell_type": "code",
   "execution_count": null,
   "metadata": {
    "ExecuteTime": {
     "end_time": "2019-09-19T08:06:40.212990Z",
     "start_time": "2019-09-19T08:06:40.166Z"
    }
   },
   "outputs": [],
   "source": [
    "cat_file(file.path(work_dir, 'config.yaml'))"
   ]
  },
  {
   "cell_type": "markdown",
   "metadata": {},
   "source": [
    "### Run"
   ]
  },
  {
   "cell_type": "markdown",
   "metadata": {},
   "source": [
    "```{bash}\n",
    "(snakemake_dev) @ rick:/ebio/abt3_projects/methanogen_host_evo/bin/llmgag\n",
    "$ screen -L -S llmgag-PRJNA381379 ./snakemake_sge.sh /ebio/abt3_projects/Georg_animal_feces/data/metagenome/multi-study/BioProjects/PRJNA381379/LLMGAG/config.yaml cluster.json /ebio/abt3_projects/Georg_animal_feces/data/metagenome/multi-study/BioProjects/PRJNA381379/LLMGAG/SGE_log 24\n",
    "```"
   ]
  },
  {
   "cell_type": "code",
   "execution_count": 4,
   "metadata": {
    "ExecuteTime": {
     "end_time": "2019-09-26T15:21:21.513340Z",
     "start_time": "2019-09-26T15:21:21.265Z"
    }
   },
   "outputs": [
    {
     "name": "stdout",
     "output_type": "stream",
     "text": [
      "LLMGAG\n",
      "======\n",
      "\n",
      "Ley Lab Metagenome Assembly of Genes (LLMGAG)\n",
      "\n",
      "* Version: 0.1.3\n",
      "* Authors:\n",
      "  * Nick Youngblut <nyoungb2@gmail.com>\n",
      "* Maintainers:\n",
      "  * Nick Youngblut <nyoungb2@gmail.com>\n",
      "\n",
      "--- conda envs ---\n",
      "==> /ebio/abt3_projects/methanogen_host_evo/bin/llmgag/bin/envs/annotate.yaml <==\n",
      "channels: !!python/tuple\n",
      "- bioconda\n",
      "dependencies:\n",
      "- pigz\n",
      "- bioconda::fasta-splitter\n",
      "- bioconda::eggnog-mapper\n",
      "\n",
      "==> /ebio/abt3_projects/methanogen_host_evo/bin/llmgag/bin/envs/checkm.yaml <==\n",
      "channels: !!python/tuple\n",
      "- bioconda\n",
      "dependencies:\n",
      "- python=2\n",
      "- pigz\n",
      "- bioconda::prodigal\n",
      "- bioconda::pplacer\n",
      "- bioconda::checkm-genome\n",
      "\n",
      "==> /ebio/abt3_projects/methanogen_host_evo/bin/llmgag/bin/envs/das_tool.yaml <==\n",
      "channels: !!python/tuple\n",
      "- r\n",
      "- bioconda\n",
      "dependencies:\n",
      "- pigz\n",
      "- ruby\n",
      "- r::r-base\n",
      "- r::r-data.table\n",
      "- r::r-domc\n",
      "- r::r-ggplot2\n",
      "- bioconda::pullseq\n",
      "- bioconda::prodigal\n",
      "- bioconda::blast\n",
      "- bioconda::diamond\n",
      "==> /ebio/abt3_projects/methanogen_host_evo/bin/llmgag/bin/envs/dask.yaml <==\n",
      "channels: !!python/tuple\n",
      "- conda-forge\n",
      "dependencies:\n",
      "- conda-forge::dask=0.18.1\n",
      "\n",
      "==> /ebio/abt3_projects/methanogen_host_evo/bin/llmgag/bin/envs/empanda.yaml <==\n",
      "channels: !!python/tuple\n",
      "- bioconda\n",
      "- conda-forge\n",
      "dependencies:\n",
      "- pigz\n",
      "- conda-forge::numpy=1.15\n",
      "- conda-forge::pandas\n",
      "- conda-forge::r-argparse\n",
      "- conda-forge::r-dplyr\n",
      "- conda-forge::r-tidyr\n",
      "- conda-forge::r-stringr\n",
      "- conda-forge::r-data.table\n",
      "- pip:\n",
      "  - empanada\n",
      "\n",
      "==> /ebio/abt3_projects/methanogen_host_evo/bin/llmgag/bin/envs/hadley.yaml <==\n",
      "channels: !!python/tuple\n",
      "- conda-forge\n",
      "dependencies:\n",
      "- conda-forge::r-ape\n",
      "- conda-forge::r-dplyr\n",
      "- conda-forge::r-tidyr\n",
      "- conda-forge::r-ggplot2\n",
      "\n",
      "==> /ebio/abt3_projects/methanogen_host_evo/bin/llmgag/bin/envs/humann2.yaml <==\n",
      "channels: !!python/tuple\n",
      "- bioconda\n",
      "dependencies:\n",
      "- pigz\n",
      "- bioconda::prodigal\n",
      "- bioconda::diamond=0.8.36\n",
      "\n",
      "==> /ebio/abt3_projects/methanogen_host_evo/bin/llmgag/bin/envs/metabat2.yaml <==\n",
      "channels: !!python/tuple\n",
      "- BioBuilds\n",
      "- bioconda\n",
      "dependencies:\n",
      "- pigz\n",
      "- python=2.7\n",
      "- BioBuilds::boost>=1.55.0\n",
      "- scons>=2.1.0\n",
      "- zlib>=1.2.4\n",
      "- BioBuilds::binutils>=2.2.2\n",
      "\n",
      "==> /ebio/abt3_projects/methanogen_host_evo/bin/llmgag/bin/envs/multiqc.yaml <==\n",
      "channels: !!python/tuple\n",
      "- bioconda\n",
      "dependencies:\n",
      "- bioconda::fastqc\n",
      "- bioconda::multiqc\n",
      "\n",
      "==> /ebio/abt3_projects/methanogen_host_evo/bin/llmgag/bin/envs/plass.yaml <==\n",
      "channels: !!python/tuple\n",
      "- bioconda\n",
      "dependencies:\n",
      "- pigz\n",
      "- bioconda::seqtk\n",
      "- bioconda::samtools\n",
      "- bioconda::mmseqs2\n",
      "- bioconda::plass\n",
      "\n",
      "==> /ebio/abt3_projects/methanogen_host_evo/bin/llmgag/bin/envs/sourmash.yaml <==\n",
      "channels: !!python/tuple\n",
      "- bioconda\n",
      "dependencies:\n",
      "- bioconda::sourmash=2.0.0a9\n",
      "\n",
      "==> /ebio/abt3_projects/methanogen_host_evo/bin/llmgag/bin/envs/vamb.yaml <==\n",
      "channels: !!python/tuple\n",
      "- bioconda\n",
      "- conda-forge\n",
      "dependencies:\n",
      "- pigz\n",
      "- pytorch\n",
      "- numpy\n",
      "- pysam"
     ]
    }
   ],
   "source": [
    "pipelineInfo(pipeline_dir)"
   ]
  },
  {
   "cell_type": "markdown",
   "metadata": {},
   "source": [
    "# Summary"
   ]
  },
  {
   "cell_type": "markdown",
   "metadata": {},
   "source": [
    "## Number of genes assembled & clustered"
   ]
  },
  {
   "cell_type": "code",
   "execution_count": 5,
   "metadata": {
    "ExecuteTime": {
     "end_time": "2019-09-26T19:09:38.985985Z",
     "start_time": "2019-09-26T19:09:36.647Z"
    }
   },
   "outputs": [
    {
     "name": "stdout",
     "output_type": "stream",
     "text": [
      "Number of assembled sequences: 9005167 \n"
     ]
    }
   ],
   "source": [
    "F = file.path(work_dir, 'assembly', 'plass', 'genes.faa')\n",
    "cmd = glue::glue('grep -c \">\" {fasta}', fasta=F)\n",
    "n_raw_seqs = system(cmd, intern=TRUE)\n",
    "cat('Number of assembled sequences:', n_raw_seqs, '\\n')"
   ]
  },
  {
   "cell_type": "code",
   "execution_count": 6,
   "metadata": {
    "ExecuteTime": {
     "end_time": "2019-09-26T19:09:39.127131Z",
     "start_time": "2019-09-26T19:09:38.262Z"
    }
   },
   "outputs": [
    {
     "name": "stdout",
     "output_type": "stream",
     "text": [
      "Number of cluster rep sequences: 252663 \n"
     ]
    }
   ],
   "source": [
    "F = file.path(work_dir, 'cluster', 'linclust', 'clusters_rep-seqs.faa')\n",
    "cmd = glue::glue('grep -c \">\" {fasta}', fasta=F)\n",
    "n_rep_seqs = system(cmd, intern=TRUE)\n",
    "cat('Number of cluster rep sequences:', n_rep_seqs, '\\n')"
   ]
  },
  {
   "cell_type": "code",
   "execution_count": 7,
   "metadata": {
    "ExecuteTime": {
     "end_time": "2019-09-26T19:09:39.855006Z",
     "start_time": "2019-09-26T19:09:38.509Z"
    }
   },
   "outputs": [
    {
     "name": "stdout",
     "output_type": "stream",
     "text": [
      "Number of humann2_db-formatted seqs: 142375 \n"
     ]
    }
   ],
   "source": [
    "F = file.path(work_dir, 'humann2_db', 'clusters_rep-seqs.faa.gz')\n",
    "cmd = glue::glue('gunzip -c {fasta} | grep -c \">\"', fasta=F)\n",
    "n_h2_seqs = system(cmd, intern=TRUE)\n",
    "cat('Number of humann2_db-formatted seqs:', n_h2_seqs, '\\n')"
   ]
  },
  {
   "cell_type": "markdown",
   "metadata": {},
   "source": [
    "## Taxonomy"
   ]
  },
  {
   "cell_type": "code",
   "execution_count": 8,
   "metadata": {
    "ExecuteTime": {
     "end_time": "2019-09-26T19:09:58.041870Z",
     "start_time": "2019-09-26T19:09:53.662Z"
    }
   },
   "outputs": [
    {
     "name": "stderr",
     "output_type": "stream",
     "text": [
      "Warning message:\n",
      "“Expected 7 pieces. Additional pieces discarded in 512 rows [295, 1019, 1786, 2098, 2400, 2602, 2947, 3342, 4211, 4926, 5216, 5475, 5692, 5989, 6098, 6456, 6510, 7029, 7037, 7166, ...].”Warning message:\n",
      "“Expected 7 pieces. Missing pieces filled with `NA` in 51480 rows [8, 13, 15, 19, 27, 30, 37, 38, 42, 46, 47, 56, 57, 60, 61, 64, 71, 73, 74, 80, ...].”"
     ]
    },
    {
     "name": "stdout",
     "output_type": "stream",
     "text": [
      "[1] 252663     11\n"
     ]
    },
    {
     "data": {
      "text/html": [
       "<table>\n",
       "<thead><tr><th scope=col>seqID</th><th scope=col>taxID</th><th scope=col>rank</th><th scope=col>spp</th><th scope=col>Domain</th><th scope=col>Phylum</th><th scope=col>Class</th><th scope=col>Order</th><th scope=col>Family</th><th scope=col>Genus</th><th scope=col>Species</th></tr></thead>\n",
       "<tbody>\n",
       "\t<tr><td>8a83e0b39aec4fa598582120c3f30b06                            </td><td> 58097                                                      </td><td>no rank                                                     </td><td>Salmonella enterica subsp. enterica serovar Bovismorbificans</td><td>unknown                                                     </td><td>Proteobacteria                                              </td><td>Gammaproteobacteria                                         </td><td>Enterobacterales                                            </td><td>Enterobacteriaceae                                          </td><td>Salmonella                                                  </td><td>Salmonella enterica                                         </td></tr>\n",
       "\t<tr><td>b25af73bd1694b83a0e6057752e17d58                            </td><td>161398                                                      </td><td>species                                                     </td><td>Pseudoalteromonas phenolica                                 </td><td>unknown                                                     </td><td>Proteobacteria                                              </td><td>Gammaproteobacteria                                         </td><td>Alteromonadales                                             </td><td>Pseudoalteromonadaceae                                      </td><td>Pseudoalteromonas                                           </td><td>Pseudoalteromonas phenolica                                 </td></tr>\n",
       "\t<tr><td>b49d6458fae748d39fdec75b5d210964                            </td><td>   562                                                      </td><td>species                                                     </td><td>Escherichia coli                                            </td><td>unknown                                                     </td><td>Proteobacteria                                              </td><td>Gammaproteobacteria                                         </td><td>Enterobacterales                                            </td><td>Enterobacteriaceae                                          </td><td>Escherichia                                                 </td><td>Escherichia coli                                            </td></tr>\n",
       "</tbody>\n",
       "</table>\n"
      ],
      "text/latex": [
       "\\begin{tabular}{r|lllllllllll}\n",
       " seqID & taxID & rank & spp & Domain & Phylum & Class & Order & Family & Genus & Species\\\\\n",
       "\\hline\n",
       "\t 8a83e0b39aec4fa598582120c3f30b06                             &  58097                                                       & no rank                                                      & Salmonella enterica subsp. enterica serovar Bovismorbificans & unknown                                                      & Proteobacteria                                               & Gammaproteobacteria                                          & Enterobacterales                                             & Enterobacteriaceae                                           & Salmonella                                                   & Salmonella enterica                                         \\\\\n",
       "\t b25af73bd1694b83a0e6057752e17d58                             & 161398                                                       & species                                                      & Pseudoalteromonas phenolica                                  & unknown                                                      & Proteobacteria                                               & Gammaproteobacteria                                          & Alteromonadales                                              & Pseudoalteromonadaceae                                       & Pseudoalteromonas                                            & Pseudoalteromonas phenolica                                 \\\\\n",
       "\t b49d6458fae748d39fdec75b5d210964                             &    562                                                       & species                                                      & Escherichia coli                                             & unknown                                                      & Proteobacteria                                               & Gammaproteobacteria                                          & Enterobacterales                                             & Enterobacteriaceae                                           & Escherichia                                                  & Escherichia coli                                            \\\\\n",
       "\\end{tabular}\n"
      ],
      "text/markdown": [
       "\n",
       "seqID | taxID | rank | spp | Domain | Phylum | Class | Order | Family | Genus | Species | \n",
       "|---|---|---|\n",
       "| 8a83e0b39aec4fa598582120c3f30b06                             |  58097                                                       | no rank                                                      | Salmonella enterica subsp. enterica serovar Bovismorbificans | unknown                                                      | Proteobacteria                                               | Gammaproteobacteria                                          | Enterobacterales                                             | Enterobacteriaceae                                           | Salmonella                                                   | Salmonella enterica                                          | \n",
       "| b25af73bd1694b83a0e6057752e17d58                             | 161398                                                       | species                                                      | Pseudoalteromonas phenolica                                  | unknown                                                      | Proteobacteria                                               | Gammaproteobacteria                                          | Alteromonadales                                              | Pseudoalteromonadaceae                                       | Pseudoalteromonas                                            | Pseudoalteromonas phenolica                                  | \n",
       "| b49d6458fae748d39fdec75b5d210964                             |    562                                                       | species                                                      | Escherichia coli                                             | unknown                                                      | Proteobacteria                                               | Gammaproteobacteria                                          | Enterobacterales                                             | Enterobacteriaceae                                           | Escherichia                                                  | Escherichia coli                                             | \n",
       "\n",
       "\n"
      ],
      "text/plain": [
       "  seqID                            taxID  rank   \n",
       "1 8a83e0b39aec4fa598582120c3f30b06  58097 no rank\n",
       "2 b25af73bd1694b83a0e6057752e17d58 161398 species\n",
       "3 b49d6458fae748d39fdec75b5d210964    562 species\n",
       "  spp                                                          Domain \n",
       "1 Salmonella enterica subsp. enterica serovar Bovismorbificans unknown\n",
       "2 Pseudoalteromonas phenolica                                  unknown\n",
       "3 Escherichia coli                                             unknown\n",
       "  Phylum         Class               Order            Family                \n",
       "1 Proteobacteria Gammaproteobacteria Enterobacterales Enterobacteriaceae    \n",
       "2 Proteobacteria Gammaproteobacteria Alteromonadales  Pseudoalteromonadaceae\n",
       "3 Proteobacteria Gammaproteobacteria Enterobacterales Enterobacteriaceae    \n",
       "  Genus             Species                    \n",
       "1 Salmonella        Salmonella enterica        \n",
       "2 Pseudoalteromonas Pseudoalteromonas phenolica\n",
       "3 Escherichia       Escherichia coli           "
      ]
     },
     "metadata": {},
     "output_type": "display_data"
    }
   ],
   "source": [
    "# reading in taxonomy table\n",
    "## WARING: slow\n",
    "F = file.path(work_dir, 'taxonomy', 'clusters_rep-seqs_tax_db.tsv.gz')\n",
    "cmd = glue::glue('gunzip -c {file}', file=F) \n",
    "coln = c('seqID', 'taxID', 'rank', 'spp', 'lineage')\n",
    "levs = c('Domain', 'Phylum', 'Class', 'Order', 'Family', 'Genus', 'Species')\n",
    "tax = fread(cmd, sep='\\t', header=FALSE, col.names=coln, fill=TRUE) %>%\n",
    "    separate(lineage, levs, sep=':')\n",
    "tax %>% dfhead"
   ]
  },
  {
   "cell_type": "code",
   "execution_count": 9,
   "metadata": {
    "ExecuteTime": {
     "end_time": "2019-09-26T19:09:58.097119Z",
     "start_time": "2019-09-26T19:09:54.254Z"
    }
   },
   "outputs": [
    {
     "name": "stdout",
     "output_type": "stream",
     "text": [
      "[1] 252663\n"
     ]
    }
   ],
   "source": [
    "# number of sequences\n",
    "tax$seqID %>% unique %>% length %>% print"
   ]
  },
  {
   "cell_type": "code",
   "execution_count": 10,
   "metadata": {
    "ExecuteTime": {
     "end_time": "2019-09-26T19:09:58.208568Z",
     "start_time": "2019-09-26T19:09:55.182Z"
    }
   },
   "outputs": [
    {
     "name": "stdout",
     "output_type": "stream",
     "text": [
      ".\n",
      "       class       cohort       family        genus      no rank        order \n",
      "         340            3          615          196       126769          314 \n",
      "      phylum      species   subspecies superkingdom \n",
      "         214       121553         2353          306 \n"
     ]
    }
   ],
   "source": [
    "# which ranks found?\n",
    "tax$rank %>% table %>% print"
   ]
  },
  {
   "cell_type": "code",
   "execution_count": 11,
   "metadata": {
    "ExecuteTime": {
     "end_time": "2019-09-26T19:10:05.025808Z",
     "start_time": "2019-09-26T19:09:55.958Z"
    }
   },
   "outputs": [
    {
     "data": {
      "text/plain": [
       "   Min. 1st Qu.  Median    Mean 3rd Qu.    Max. \n",
       "      1       1       1       1       1       1 "
      ]
     },
     "metadata": {},
     "output_type": "display_data"
    }
   ],
   "source": [
    "# number of classifications per seqID\n",
    "tax %>%\n",
    "    group_by(seqID) %>%\n",
    "    summarize(n = n()) %>%\n",
    "    ungroup() %>%\n",
    "    .$n %>% summary"
   ]
  },
  {
   "cell_type": "markdown",
   "metadata": {},
   "source": [
    "### Summary"
   ]
  },
  {
   "cell_type": "code",
   "execution_count": 12,
   "metadata": {
    "ExecuteTime": {
     "end_time": "2019-09-26T19:10:05.532651Z",
     "start_time": "2019-09-26T19:09:57.372Z"
    }
   },
   "outputs": [
    {
     "name": "stdout",
     "output_type": "stream",
     "text": [
      "[1] 62  3\n"
     ]
    },
    {
     "data": {
      "text/html": [
       "<table>\n",
       "<thead><tr><th scope=col>Domain</th><th scope=col>Phylum</th><th scope=col>n</th></tr></thead>\n",
       "<tbody>\n",
       "\t<tr><td>Fungi          </td><td>Ascomycota     </td><td>12710          </td></tr>\n",
       "\t<tr><td>Fungi          </td><td>Basidiomycota  </td><td>   10          </td></tr>\n",
       "\t<tr><td>Fungi          </td><td>Chytridiomycota</td><td>   13          </td></tr>\n",
       "</tbody>\n",
       "</table>\n"
      ],
      "text/latex": [
       "\\begin{tabular}{r|lll}\n",
       " Domain & Phylum & n\\\\\n",
       "\\hline\n",
       "\t Fungi           & Ascomycota      & 12710          \\\\\n",
       "\t Fungi           & Basidiomycota   &    10          \\\\\n",
       "\t Fungi           & Chytridiomycota &    13          \\\\\n",
       "\\end{tabular}\n"
      ],
      "text/markdown": [
       "\n",
       "Domain | Phylum | n | \n",
       "|---|---|---|\n",
       "| Fungi           | Ascomycota      | 12710           | \n",
       "| Fungi           | Basidiomycota   |    10           | \n",
       "| Fungi           | Chytridiomycota |    13           | \n",
       "\n",
       "\n"
      ],
      "text/plain": [
       "  Domain Phylum          n    \n",
       "1 Fungi  Ascomycota      12710\n",
       "2 Fungi  Basidiomycota      10\n",
       "3 Fungi  Chytridiomycota    13"
      ]
     },
     "metadata": {},
     "output_type": "display_data"
    }
   ],
   "source": [
    "# summarizing taxonomy\n",
    "tax_s = tax %>%\n",
    "    filter(Domain != '',\n",
    "           Phylum != '') %>%\n",
    "    group_by(Domain, Phylum) %>%\n",
    "    summarize(n = seqID %>% unique %>% length) %>%\n",
    "    ungroup() \n",
    " \n",
    "tax_s %>% dfhead"
   ]
  },
  {
   "cell_type": "code",
   "execution_count": 18,
   "metadata": {
    "ExecuteTime": {
     "end_time": "2019-09-26T19:11:51.451804Z",
     "start_time": "2019-09-26T19:11:50.043Z"
    },
    "scrolled": false
   },
   "outputs": [
    {
     "data": {
      "image/png": "[encoded data removed]",
      "text/plain": [
       "plot without title"
      ]
     },
     "metadata": {},
     "output_type": "display_data"
    }
   ],
   "source": [
    "# plotting by phylum\n",
    "p = tax_s %>%\n",
    "    filter(n > 10) %>%\n",
    "    mutate(Phylum = Phylum %>% reorder(n)) %>%\n",
    "    ggplot(aes(Phylum, n, fill=Domain)) +\n",
    "    geom_bar(stat='identity', position='dodge') +\n",
    "    scale_y_log10() +\n",
    "    labs(y = 'No. of genes') +\n",
    "    coord_flip() +\n",
    "    theme_bw() +\n",
    "    theme(\n",
    "        axis.text.y = element_text(size=7)\n",
    "    )\n",
    "\n",
    "dims(5,6)\n",
    "plot(p)"
   ]
  },
  {
   "cell_type": "code",
   "execution_count": 15,
   "metadata": {
    "ExecuteTime": {
     "end_time": "2019-09-26T19:11:45.123440Z",
     "start_time": "2019-09-26T19:11:43.964Z"
    }
   },
   "outputs": [
    {
     "data": {
      "text/html": [
       "<table>\n",
       "<thead><tr><th scope=col>Domain</th><th scope=col>Phylum</th><th scope=col>n</th></tr></thead>\n",
       "<tbody>\n",
       "\t<tr><td>unknown            </td><td>Proteobacteria     </td><td>151242             </td></tr>\n",
       "\t<tr><td>unknown            </td><td>Firmicutes         </td><td> 19586             </td></tr>\n",
       "\t<tr><td>Fungi              </td><td>Ascomycota         </td><td> 12710             </td></tr>\n",
       "\t<tr><td>Metazoa            </td><td>Nematoda           </td><td>  6613             </td></tr>\n",
       "\t<tr><td>unknown            </td><td>unknown            </td><td>  3255             </td></tr>\n",
       "\t<tr><td>Metazoa            </td><td>Arthropoda         </td><td>  2425             </td></tr>\n",
       "\t<tr><td>unknown            </td><td>Actinobacteria     </td><td>  1617             </td></tr>\n",
       "\t<tr><td>Viridiplantae      </td><td>Streptophyta       </td><td>   648             </td></tr>\n",
       "\t<tr><td>unknown            </td><td>Bacteroidetes      </td><td>   410             </td></tr>\n",
       "\t<tr><td>uc_Bacteria        </td><td>uc_Bacteria        </td><td>   299             </td></tr>\n",
       "\t<tr><td>unknown            </td><td>Spirochaetes       </td><td>   278             </td></tr>\n",
       "\t<tr><td>unknown            </td><td>Chlamydiae         </td><td>   242             </td></tr>\n",
       "\t<tr><td>unknown            </td><td>Chloroflexi        </td><td>   222             </td></tr>\n",
       "\t<tr><td>unknown            </td><td>Fusobacteria       </td><td>   196             </td></tr>\n",
       "\t<tr><td>Metazoa            </td><td>Cnidaria           </td><td>   165             </td></tr>\n",
       "\t<tr><td>Metazoa            </td><td>Platyhelminthes    </td><td>   154             </td></tr>\n",
       "\t<tr><td>unknown            </td><td>Acidobacteria      </td><td>   140             </td></tr>\n",
       "\t<tr><td>unknown            </td><td>Euryarchaeota      </td><td>   135             </td></tr>\n",
       "\t<tr><td>unknown            </td><td>Verrucomicrobia    </td><td>    91             </td></tr>\n",
       "\t<tr><td>unknown            </td><td>Tenericutes        </td><td>    87             </td></tr>\n",
       "\t<tr><td>unknown            </td><td>Planctomycetes     </td><td>    70             </td></tr>\n",
       "\t<tr><td>unknown            </td><td>Cyanobacteria      </td><td>    65             </td></tr>\n",
       "\t<tr><td>Metazoa            </td><td>Chordata           </td><td>    42             </td></tr>\n",
       "\t<tr><td>unknown            </td><td>Ignavibacteriae    </td><td>    41             </td></tr>\n",
       "\t<tr><td>unknown            </td><td>Kiritimatiellaeota </td><td>    39             </td></tr>\n",
       "\t<tr><td>Metazoa            </td><td>Mollusca           </td><td>    38             </td></tr>\n",
       "\t<tr><td>unknown            </td><td>Aquificae          </td><td>    38             </td></tr>\n",
       "\t<tr><td>unknown            </td><td>Lentisphaerae      </td><td>    35             </td></tr>\n",
       "\t<tr><td>unknown            </td><td>Calditrichaeota    </td><td>    32             </td></tr>\n",
       "\t<tr><td>unknown            </td><td>Deinococcus-Thermus</td><td>    27             </td></tr>\n",
       "</tbody>\n",
       "</table>\n"
      ],
      "text/latex": [
       "\\begin{tabular}{r|lll}\n",
       " Domain & Phylum & n\\\\\n",
       "\\hline\n",
       "\t unknown             & Proteobacteria      & 151242             \\\\\n",
       "\t unknown             & Firmicutes          &  19586             \\\\\n",
       "\t Fungi               & Ascomycota          &  12710             \\\\\n",
       "\t Metazoa             & Nematoda            &   6613             \\\\\n",
       "\t unknown             & unknown             &   3255             \\\\\n",
       "\t Metazoa             & Arthropoda          &   2425             \\\\\n",
       "\t unknown             & Actinobacteria      &   1617             \\\\\n",
       "\t Viridiplantae       & Streptophyta        &    648             \\\\\n",
       "\t unknown             & Bacteroidetes       &    410             \\\\\n",
       "\t uc\\_Bacteria         & uc\\_Bacteria         &    299               \\\\\n",
       "\t unknown             & Spirochaetes        &    278             \\\\\n",
       "\t unknown             & Chlamydiae          &    242             \\\\\n",
       "\t unknown             & Chloroflexi         &    222             \\\\\n",
       "\t unknown             & Fusobacteria        &    196             \\\\\n",
       "\t Metazoa             & Cnidaria            &    165             \\\\\n",
       "\t Metazoa             & Platyhelminthes     &    154             \\\\\n",
       "\t unknown             & Acidobacteria       &    140             \\\\\n",
       "\t unknown             & Euryarchaeota       &    135             \\\\\n",
       "\t unknown             & Verrucomicrobia     &     91             \\\\\n",
       "\t unknown             & Tenericutes         &     87             \\\\\n",
       "\t unknown             & Planctomycetes      &     70             \\\\\n",
       "\t unknown             & Cyanobacteria       &     65             \\\\\n",
       "\t Metazoa             & Chordata            &     42             \\\\\n",
       "\t unknown             & Ignavibacteriae     &     41             \\\\\n",
       "\t unknown             & Kiritimatiellaeota  &     39             \\\\\n",
       "\t Metazoa             & Mollusca            &     38             \\\\\n",
       "\t unknown             & Aquificae           &     38             \\\\\n",
       "\t unknown             & Lentisphaerae       &     35             \\\\\n",
       "\t unknown             & Calditrichaeota     &     32             \\\\\n",
       "\t unknown             & Deinococcus-Thermus &     27             \\\\\n",
       "\\end{tabular}\n"
      ],
      "text/markdown": [
       "\n",
       "Domain | Phylum | n | \n",
       "|---|---|---|---|---|---|---|---|---|---|---|---|---|---|---|---|---|---|---|---|---|---|---|---|---|---|---|---|---|---|\n",
       "| unknown             | Proteobacteria      | 151242              | \n",
       "| unknown             | Firmicutes          |  19586              | \n",
       "| Fungi               | Ascomycota          |  12710              | \n",
       "| Metazoa             | Nematoda            |   6613              | \n",
       "| unknown             | unknown             |   3255              | \n",
       "| Metazoa             | Arthropoda          |   2425              | \n",
       "| unknown             | Actinobacteria      |   1617              | \n",
       "| Viridiplantae       | Streptophyta        |    648              | \n",
       "| unknown             | Bacteroidetes       |    410              | \n",
       "| uc_Bacteria         | uc_Bacteria         |    299              | \n",
       "| unknown             | Spirochaetes        |    278              | \n",
       "| unknown             | Chlamydiae          |    242              | \n",
       "| unknown             | Chloroflexi         |    222              | \n",
       "| unknown             | Fusobacteria        |    196              | \n",
       "| Metazoa             | Cnidaria            |    165              | \n",
       "| Metazoa             | Platyhelminthes     |    154              | \n",
       "| unknown             | Acidobacteria       |    140              | \n",
       "| unknown             | Euryarchaeota       |    135              | \n",
       "| unknown             | Verrucomicrobia     |     91              | \n",
       "| unknown             | Tenericutes         |     87              | \n",
       "| unknown             | Planctomycetes      |     70              | \n",
       "| unknown             | Cyanobacteria       |     65              | \n",
       "| Metazoa             | Chordata            |     42              | \n",
       "| unknown             | Ignavibacteriae     |     41              | \n",
       "| unknown             | Kiritimatiellaeota  |     39              | \n",
       "| Metazoa             | Mollusca            |     38              | \n",
       "| unknown             | Aquificae           |     38              | \n",
       "| unknown             | Lentisphaerae       |     35              | \n",
       "| unknown             | Calditrichaeota     |     32              | \n",
       "| unknown             | Deinococcus-Thermus |     27              | \n",
       "\n",
       "\n"
      ],
      "text/plain": [
       "   Domain        Phylum              n     \n",
       "1  unknown       Proteobacteria      151242\n",
       "2  unknown       Firmicutes           19586\n",
       "3  Fungi         Ascomycota           12710\n",
       "4  Metazoa       Nematoda              6613\n",
       "5  unknown       unknown               3255\n",
       "6  Metazoa       Arthropoda            2425\n",
       "7  unknown       Actinobacteria        1617\n",
       "8  Viridiplantae Streptophyta           648\n",
       "9  unknown       Bacteroidetes          410\n",
       "10 uc_Bacteria   uc_Bacteria            299\n",
       "11 unknown       Spirochaetes           278\n",
       "12 unknown       Chlamydiae             242\n",
       "13 unknown       Chloroflexi            222\n",
       "14 unknown       Fusobacteria           196\n",
       "15 Metazoa       Cnidaria               165\n",
       "16 Metazoa       Platyhelminthes        154\n",
       "17 unknown       Acidobacteria          140\n",
       "18 unknown       Euryarchaeota          135\n",
       "19 unknown       Verrucomicrobia         91\n",
       "20 unknown       Tenericutes             87\n",
       "21 unknown       Planctomycetes          70\n",
       "22 unknown       Cyanobacteria           65\n",
       "23 Metazoa       Chordata                42\n",
       "24 unknown       Ignavibacteriae         41\n",
       "25 unknown       Kiritimatiellaeota      39\n",
       "26 Metazoa       Mollusca                38\n",
       "27 unknown       Aquificae               38\n",
       "28 unknown       Lentisphaerae           35\n",
       "29 unknown       Calditrichaeota         32\n",
       "30 unknown       Deinococcus-Thermus     27"
      ]
     },
     "metadata": {},
     "output_type": "display_data"
    }
   ],
   "source": [
    "# top phyla\n",
    "tax_s %>% \n",
    "    arrange(-n) %>%\n",
    "    head(n=30)"
   ]
  },
  {
   "cell_type": "code",
   "execution_count": 16,
   "metadata": {
    "ExecuteTime": {
     "end_time": "2019-09-26T19:11:45.752409Z",
     "start_time": "2019-09-26T19:11:44.147Z"
    }
   },
   "outputs": [
    {
     "name": "stdout",
     "output_type": "stream",
     "text": [
      "[1] 129   4\n"
     ]
    },
    {
     "data": {
      "text/html": [
       "<table>\n",
       "<thead><tr><th scope=col>Domain</th><th scope=col>Phylum</th><th scope=col>Class</th><th scope=col>n</th></tr></thead>\n",
       "<tbody>\n",
       "\t<tr><td>Fungi          </td><td>Ascomycota     </td><td>Eurotiomycetes </td><td>94             </td></tr>\n",
       "\t<tr><td>Fungi          </td><td>Ascomycota     </td><td>Leotiomycetes  </td><td> 6             </td></tr>\n",
       "\t<tr><td>Fungi          </td><td>Ascomycota     </td><td>Saccharomycetes</td><td>44             </td></tr>\n",
       "</tbody>\n",
       "</table>\n"
      ],
      "text/latex": [
       "\\begin{tabular}{r|llll}\n",
       " Domain & Phylum & Class & n\\\\\n",
       "\\hline\n",
       "\t Fungi           & Ascomycota      & Eurotiomycetes  & 94             \\\\\n",
       "\t Fungi           & Ascomycota      & Leotiomycetes   &  6             \\\\\n",
       "\t Fungi           & Ascomycota      & Saccharomycetes & 44             \\\\\n",
       "\\end{tabular}\n"
      ],
      "text/markdown": [
       "\n",
       "Domain | Phylum | Class | n | \n",
       "|---|---|---|\n",
       "| Fungi           | Ascomycota      | Eurotiomycetes  | 94              | \n",
       "| Fungi           | Ascomycota      | Leotiomycetes   |  6              | \n",
       "| Fungi           | Ascomycota      | Saccharomycetes | 44              | \n",
       "\n",
       "\n"
      ],
      "text/plain": [
       "  Domain Phylum     Class           n \n",
       "1 Fungi  Ascomycota Eurotiomycetes  94\n",
       "2 Fungi  Ascomycota Leotiomycetes    6\n",
       "3 Fungi  Ascomycota Saccharomycetes 44"
      ]
     },
     "metadata": {},
     "output_type": "display_data"
    }
   ],
   "source": [
    "# summarizing taxonomy\n",
    "tax_s = tax %>%\n",
    "    filter(Domain != '',\n",
    "           Phylum != '',\n",
    "           Class != '') %>%\n",
    "    group_by(Domain, Phylum, Class) %>%\n",
    "    summarize(n = seqID %>% unique %>% length) %>%\n",
    "    ungroup() \n",
    " \n",
    "tax_s %>% dfhead"
   ]
  },
  {
   "cell_type": "code",
   "execution_count": 17,
   "metadata": {
    "ExecuteTime": {
     "end_time": "2019-09-26T19:11:45.824665Z",
     "start_time": "2019-09-26T19:11:44.595Z"
    }
   },
   "outputs": [
    {
     "data": {
      "text/html": [
       "<table>\n",
       "<thead><tr><th scope=col>Domain</th><th scope=col>Phylum</th><th scope=col>Class</th><th scope=col>n</th></tr></thead>\n",
       "<tbody>\n",
       "\t<tr><td>unknown              </td><td>Proteobacteria       </td><td>Gammaproteobacteria  </td><td>142071               </td></tr>\n",
       "\t<tr><td>unknown              </td><td>Firmicutes           </td><td>Bacilli              </td><td> 16186               </td></tr>\n",
       "\t<tr><td>Fungi                </td><td>Ascomycota           </td><td>Sordariomycetes      </td><td> 12566               </td></tr>\n",
       "\t<tr><td>Metazoa              </td><td>Nematoda             </td><td>Enoplea              </td><td>  6455               </td></tr>\n",
       "\t<tr><td>unknown              </td><td>Proteobacteria       </td><td>Betaproteobacteria   </td><td>  4748               </td></tr>\n",
       "\t<tr><td>unknown              </td><td>unknown              </td><td>unknown              </td><td>  3114               </td></tr>\n",
       "\t<tr><td>unknown              </td><td>Proteobacteria       </td><td>Alphaproteobacteria  </td><td>  2892               </td></tr>\n",
       "\t<tr><td>unknown              </td><td>Firmicutes           </td><td>Clostridia           </td><td>  2664               </td></tr>\n",
       "\t<tr><td>Metazoa              </td><td>Arthropoda           </td><td>Insecta              </td><td>  1599               </td></tr>\n",
       "\t<tr><td>unknown              </td><td>Actinobacteria       </td><td>Actinobacteria       </td><td>  1433               </td></tr>\n",
       "\t<tr><td>Metazoa              </td><td>Arthropoda           </td><td>Arachnida            </td><td>   781               </td></tr>\n",
       "\t<tr><td>unknown              </td><td>Proteobacteria       </td><td>Deltaproteobacteria  </td><td>   601               </td></tr>\n",
       "\t<tr><td>Viridiplantae        </td><td>Streptophyta         </td><td>Liliopsida           </td><td>   507               </td></tr>\n",
       "\t<tr><td>unknown              </td><td>Proteobacteria       </td><td>unknown              </td><td>   327               </td></tr>\n",
       "\t<tr><td>uc_Bacteria          </td><td>uc_Bacteria          </td><td>uc_Bacteria          </td><td>   299               </td></tr>\n",
       "\t<tr><td>unknown              </td><td>Proteobacteria       </td><td>Epsilonproteobacteria</td><td>   285               </td></tr>\n",
       "\t<tr><td>unknown              </td><td>Firmicutes           </td><td>Negativicutes        </td><td>   274               </td></tr>\n",
       "\t<tr><td>unknown              </td><td>Spirochaetes         </td><td>Spirochaetia         </td><td>   261               </td></tr>\n",
       "\t<tr><td>unknown              </td><td>Chlamydiae           </td><td>Chlamydiia           </td><td>   242               </td></tr>\n",
       "\t<tr><td>unknown              </td><td>Firmicutes           </td><td>Erysipelotrichia     </td><td>   196               </td></tr>\n",
       "\t<tr><td>unknown              </td><td>Fusobacteria         </td><td>Fusobacteriia        </td><td>   196               </td></tr>\n",
       "\t<tr><td>unknown              </td><td>Bacteroidetes        </td><td>Bacteroidia          </td><td>   193               </td></tr>\n",
       "\t<tr><td>unknown              </td><td>Proteobacteria       </td><td>uc_Proteobacteria    </td><td>   188               </td></tr>\n",
       "\t<tr><td>unknown              </td><td>Actinobacteria       </td><td>Coriobacteriia       </td><td>   172               </td></tr>\n",
       "\t<tr><td>Metazoa              </td><td>Cnidaria             </td><td>Myxozoa              </td><td>   161               </td></tr>\n",
       "\t<tr><td>Metazoa              </td><td>Nematoda             </td><td>Chromadorea          </td><td>   158               </td></tr>\n",
       "\t<tr><td>Metazoa              </td><td>Platyhelminthes      </td><td>Trematoda            </td><td>   154               </td></tr>\n",
       "\t<tr><td>Viridiplantae        </td><td>Streptophyta         </td><td>unknown              </td><td>   137               </td></tr>\n",
       "\t<tr><td>unknown              </td><td>unknown              </td><td>Dinophyceae          </td><td>   132               </td></tr>\n",
       "\t<tr><td>unknown              </td><td>Firmicutes           </td><td>Tissierellia         </td><td>   129               </td></tr>\n",
       "</tbody>\n",
       "</table>\n"
      ],
      "text/latex": [
       "\\begin{tabular}{r|llll}\n",
       " Domain & Phylum & Class & n\\\\\n",
       "\\hline\n",
       "\t unknown               & Proteobacteria        & Gammaproteobacteria   & 142071               \\\\\n",
       "\t unknown               & Firmicutes            & Bacilli               &  16186               \\\\\n",
       "\t Fungi                 & Ascomycota            & Sordariomycetes       &  12566               \\\\\n",
       "\t Metazoa               & Nematoda              & Enoplea               &   6455               \\\\\n",
       "\t unknown               & Proteobacteria        & Betaproteobacteria    &   4748               \\\\\n",
       "\t unknown               & unknown               & unknown               &   3114               \\\\\n",
       "\t unknown               & Proteobacteria        & Alphaproteobacteria   &   2892               \\\\\n",
       "\t unknown               & Firmicutes            & Clostridia            &   2664               \\\\\n",
       "\t Metazoa               & Arthropoda            & Insecta               &   1599               \\\\\n",
       "\t unknown               & Actinobacteria        & Actinobacteria        &   1433               \\\\\n",
       "\t Metazoa               & Arthropoda            & Arachnida             &    781               \\\\\n",
       "\t unknown               & Proteobacteria        & Deltaproteobacteria   &    601               \\\\\n",
       "\t Viridiplantae         & Streptophyta          & Liliopsida            &    507               \\\\\n",
       "\t unknown               & Proteobacteria        & unknown               &    327               \\\\\n",
       "\t uc\\_Bacteria           & uc\\_Bacteria           & uc\\_Bacteria           &    299                 \\\\\n",
       "\t unknown               & Proteobacteria        & Epsilonproteobacteria &    285               \\\\\n",
       "\t unknown               & Firmicutes            & Negativicutes         &    274               \\\\\n",
       "\t unknown               & Spirochaetes          & Spirochaetia          &    261               \\\\\n",
       "\t unknown               & Chlamydiae            & Chlamydiia            &    242               \\\\\n",
       "\t unknown               & Firmicutes            & Erysipelotrichia      &    196               \\\\\n",
       "\t unknown               & Fusobacteria          & Fusobacteriia         &    196               \\\\\n",
       "\t unknown               & Bacteroidetes         & Bacteroidia           &    193               \\\\\n",
       "\t unknown                 & Proteobacteria          & uc\\_Proteobacteria     &    188                 \\\\\n",
       "\t unknown               & Actinobacteria        & Coriobacteriia        &    172               \\\\\n",
       "\t Metazoa               & Cnidaria              & Myxozoa               &    161               \\\\\n",
       "\t Metazoa               & Nematoda              & Chromadorea           &    158               \\\\\n",
       "\t Metazoa               & Platyhelminthes       & Trematoda             &    154               \\\\\n",
       "\t Viridiplantae         & Streptophyta          & unknown               &    137               \\\\\n",
       "\t unknown               & unknown               & Dinophyceae           &    132               \\\\\n",
       "\t unknown               & Firmicutes            & Tissierellia          &    129               \\\\\n",
       "\\end{tabular}\n"
      ],
      "text/markdown": [
       "\n",
       "Domain | Phylum | Class | n | \n",
       "|---|---|---|---|---|---|---|---|---|---|---|---|---|---|---|---|---|---|---|---|---|---|---|---|---|---|---|---|---|---|\n",
       "| unknown               | Proteobacteria        | Gammaproteobacteria   | 142071                | \n",
       "| unknown               | Firmicutes            | Bacilli               |  16186                | \n",
       "| Fungi                 | Ascomycota            | Sordariomycetes       |  12566                | \n",
       "| Metazoa               | Nematoda              | Enoplea               |   6455                | \n",
       "| unknown               | Proteobacteria        | Betaproteobacteria    |   4748                | \n",
       "| unknown               | unknown               | unknown               |   3114                | \n",
       "| unknown               | Proteobacteria        | Alphaproteobacteria   |   2892                | \n",
       "| unknown               | Firmicutes            | Clostridia            |   2664                | \n",
       "| Metazoa               | Arthropoda            | Insecta               |   1599                | \n",
       "| unknown               | Actinobacteria        | Actinobacteria        |   1433                | \n",
       "| Metazoa               | Arthropoda            | Arachnida             |    781                | \n",
       "| unknown               | Proteobacteria        | Deltaproteobacteria   |    601                | \n",
       "| Viridiplantae         | Streptophyta          | Liliopsida            |    507                | \n",
       "| unknown               | Proteobacteria        | unknown               |    327                | \n",
       "| uc_Bacteria           | uc_Bacteria           | uc_Bacteria           |    299                | \n",
       "| unknown               | Proteobacteria        | Epsilonproteobacteria |    285                | \n",
       "| unknown               | Firmicutes            | Negativicutes         |    274                | \n",
       "| unknown               | Spirochaetes          | Spirochaetia          |    261                | \n",
       "| unknown               | Chlamydiae            | Chlamydiia            |    242                | \n",
       "| unknown               | Firmicutes            | Erysipelotrichia      |    196                | \n",
       "| unknown               | Fusobacteria          | Fusobacteriia         |    196                | \n",
       "| unknown               | Bacteroidetes         | Bacteroidia           |    193                | \n",
       "| unknown               | Proteobacteria        | uc_Proteobacteria     |    188                | \n",
       "| unknown               | Actinobacteria        | Coriobacteriia        |    172                | \n",
       "| Metazoa               | Cnidaria              | Myxozoa               |    161                | \n",
       "| Metazoa               | Nematoda              | Chromadorea           |    158                | \n",
       "| Metazoa               | Platyhelminthes       | Trematoda             |    154                | \n",
       "| Viridiplantae         | Streptophyta          | unknown               |    137                | \n",
       "| unknown               | unknown               | Dinophyceae           |    132                | \n",
       "| unknown               | Firmicutes            | Tissierellia          |    129                | \n",
       "\n",
       "\n"
      ],
      "text/plain": [
       "   Domain        Phylum          Class                 n     \n",
       "1  unknown       Proteobacteria  Gammaproteobacteria   142071\n",
       "2  unknown       Firmicutes      Bacilli                16186\n",
       "3  Fungi         Ascomycota      Sordariomycetes        12566\n",
       "4  Metazoa       Nematoda        Enoplea                 6455\n",
       "5  unknown       Proteobacteria  Betaproteobacteria      4748\n",
       "6  unknown       unknown         unknown                 3114\n",
       "7  unknown       Proteobacteria  Alphaproteobacteria     2892\n",
       "8  unknown       Firmicutes      Clostridia              2664\n",
       "9  Metazoa       Arthropoda      Insecta                 1599\n",
       "10 unknown       Actinobacteria  Actinobacteria          1433\n",
       "11 Metazoa       Arthropoda      Arachnida                781\n",
       "12 unknown       Proteobacteria  Deltaproteobacteria      601\n",
       "13 Viridiplantae Streptophyta    Liliopsida               507\n",
       "14 unknown       Proteobacteria  unknown                  327\n",
       "15 uc_Bacteria   uc_Bacteria     uc_Bacteria              299\n",
       "16 unknown       Proteobacteria  Epsilonproteobacteria    285\n",
       "17 unknown       Firmicutes      Negativicutes            274\n",
       "18 unknown       Spirochaetes    Spirochaetia             261\n",
       "19 unknown       Chlamydiae      Chlamydiia               242\n",
       "20 unknown       Firmicutes      Erysipelotrichia         196\n",
       "21 unknown       Fusobacteria    Fusobacteriia            196\n",
       "22 unknown       Bacteroidetes   Bacteroidia              193\n",
       "23 unknown       Proteobacteria  uc_Proteobacteria        188\n",
       "24 unknown       Actinobacteria  Coriobacteriia           172\n",
       "25 Metazoa       Cnidaria        Myxozoa                  161\n",
       "26 Metazoa       Nematoda        Chromadorea              158\n",
       "27 Metazoa       Platyhelminthes Trematoda                154\n",
       "28 Viridiplantae Streptophyta    unknown                  137\n",
       "29 unknown       unknown         Dinophyceae              132\n",
       "30 unknown       Firmicutes      Tissierellia             129"
      ]
     },
     "metadata": {},
     "output_type": "display_data"
    }
   ],
   "source": [
    "# top hits\n",
    "tax_s %>% \n",
    "    arrange(-n) %>%\n",
    "    head(n=30)"
   ]
  },
  {
   "cell_type": "markdown",
   "metadata": {},
   "source": [
    "## Annotations"
   ]
  },
  {
   "cell_type": "code",
   "execution_count": 19,
   "metadata": {
    "ExecuteTime": {
     "end_time": "2019-09-26T19:12:00.227588Z",
     "start_time": "2019-09-26T19:12:00.177Z"
    }
   },
   "outputs": [],
   "source": [
    "# eggnog-mapper v2\n",
    "cols = c(\n",
    "\"query_name\",\n",
    "\"seed_eggNOG_ortholog\",\n",
    "\"seed_ortholog_evalue\",\n",
    "\"seed_ortholog_score\",\n",
    "\"Predicted_taxonomic_group\",\n",
    "\"Predicted_protein_name\",\n",
    "\"Gene_Ontology_terms\",\n",
    "\"EC_number\",\n",
    "\"KEGG_ko\",\n",
    "\"KEGG_Pathway\",\n",
    "\"KEGG_Module\",\n",
    "\"KEGG_Reaction\",\n",
    "\"KEGG_rclass\",\n",
    "\"BRITE\",\n",
    "\"KEGG_TC\",\n",
    "\"CAZy\",\n",
    "\"BiGG_Reaction\",\n",
    "\"tax_scope__eggNOG_taxonomic_level_used_for_annotation\",\n",
    "\"eggNOG_OGs\",\n",
    "\"bestOG\",\n",
    "\"COG_Functional_Category\",\n",
    "\"eggNOG_free_text_description\"\n",
    ")"
   ]
  },
  {
   "cell_type": "code",
   "execution_count": 20,
   "metadata": {
    "ExecuteTime": {
     "end_time": "2019-09-26T19:12:06.280255Z",
     "start_time": "2019-09-26T19:12:01.082Z"
    }
   },
   "outputs": [
    {
     "name": "stdout",
     "output_type": "stream",
     "text": [
      "[1] 213483     21\n"
     ]
    },
    {
     "data": {
      "text/html": [
       "<table>\n",
       "<thead><tr><th scope=col>query_name</th><th scope=col>seed_eggNOG_ortholog</th><th scope=col>seed_ortholog_evalue</th><th scope=col>seed_ortholog_score</th><th scope=col>Predicted_taxonomic_group</th><th scope=col>Predicted_protein_name</th><th scope=col>EC_number</th><th scope=col>KEGG_ko</th><th scope=col>KEGG_Pathway</th><th scope=col>KEGG_Module</th><th scope=col>⋯</th><th scope=col>KEGG_rclass</th><th scope=col>BRITE</th><th scope=col>KEGG_TC</th><th scope=col>CAZy</th><th scope=col>BiGG_Reaction</th><th scope=col>tax_scope__eggNOG_taxonomic_level_used_for_annotation</th><th scope=col>eggNOG_OGs</th><th scope=col>bestOG</th><th scope=col>COG_Functional_Category</th><th scope=col>eggNOG_free_text_description</th></tr></thead>\n",
       "<tbody>\n",
       "\t<tr><td>4870cac3514a459dafab54a7c8d44dfd                        </td><td>469008.B21_02613                                        </td><td>4.6e-269                                                </td><td>933.3                                                   </td><td>Escherichia                                             </td><td>rbsA                                                    </td><td>3.6.3.17                                                </td><td>ko:K10441                                               </td><td>ko02010,map02010                                        </td><td>M00212                                                  </td><td>⋯                                                       </td><td>                                                        </td><td>ko00000,ko00001,ko00002,ko01000,ko02000                 </td><td>3.A.1.2.1,3.A.1.2.13,3.A.1.2.19                         </td><td>                                                        </td><td>                                                        </td><td>Bacteria                                                </td><td>1MU22@1224,1RMCH@1236,3XQCJ@561,COG1129@1,COG1129@2     </td><td>NA|NA|NA                                                </td><td>G                                                       </td><td>ATPases associated with a variety of cellular activities</td></tr>\n",
       "\t<tr><td>b4e75e80a737442f8a9bee035e37e65a                        </td><td>198214.SF4395                                           </td><td> 1.1e-98                                                </td><td>365.9                                                   </td><td>Gammaproteobacteria                                     </td><td>yjjP                                                    </td><td>                                                        </td><td>                                                        </td><td>                                                        </td><td>                                                        </td><td>⋯                                                       </td><td>                                                        </td><td>                                                        </td><td>                                                        </td><td>                                                        </td><td>                                                        </td><td>Bacteria                                                </td><td>1NH2X@1224,1RN1Q@1236,COG2966@1,COG2966@2               </td><td>NA|NA|NA                                                </td><td>S                                                       </td><td>Membrane                                                </td></tr>\n",
       "\t<tr><td>61fa5c0d71bd4b849f3a9db86a80bdc9                        </td><td>571.MC52_19235                                          </td><td> 9.1e-56                                                </td><td>222.6                                                   </td><td>Gammaproteobacteria                                     </td><td>phoH                                                    </td><td>                                                        </td><td>ko:K06217                                               </td><td>                                                        </td><td>                                                        </td><td>⋯                                                       </td><td>                                                        </td><td>ko00000                                                 </td><td>                                                        </td><td>                                                        </td><td>                                                        </td><td>Bacteria                                                </td><td>1PNF2@1224,1RNZ7@1236,COG1702@1,COG1702@2               </td><td>NA|NA|NA                                                </td><td>T                                                       </td><td>phosphate starvation-inducible protein                  </td></tr>\n",
       "</tbody>\n",
       "</table>\n"
      ],
      "text/latex": [
       "\\begin{tabular}{r|lllllllllllllllllllll}\n",
       " query\\_name & seed\\_eggNOG\\_ortholog & seed\\_ortholog\\_evalue & seed\\_ortholog\\_score & Predicted\\_taxonomic\\_group & Predicted\\_protein\\_name & EC\\_number & KEGG\\_ko & KEGG\\_Pathway & KEGG\\_Module & ⋯ & KEGG\\_rclass & BRITE & KEGG\\_TC & CAZy & BiGG\\_Reaction & tax\\_scope\\_\\_eggNOG\\_taxonomic\\_level\\_used\\_for\\_annotation & eggNOG\\_OGs & bestOG & COG\\_Functional\\_Category & eggNOG\\_free\\_text\\_description\\\\\n",
       "\\hline\n",
       "\t 4870cac3514a459dafab54a7c8d44dfd                         & 469008.B21\\_02613                                       & 4.6e-269                                                 & 933.3                                                    & Escherichia                                              & rbsA                                                     & 3.6.3.17                                                 & ko:K10441                                                & ko02010,map02010                                         & M00212                                                   & ⋯                                                        &                                                          & ko00000,ko00001,ko00002,ko01000,ko02000                  & 3.A.1.2.1,3.A.1.2.13,3.A.1.2.19                          &                                                          &                                                          & Bacteria                                                 & 1MU22@1224,1RMCH@1236,3XQCJ@561,COG1129@1,COG1129@2      & NA\\textbar{}NA\\textbar{}NA                             & G                                                        & ATPases associated with a variety of cellular activities\\\\\n",
       "\t b4e75e80a737442f8a9bee035e37e65a                         & 198214.SF4395                                            &  1.1e-98                                                 & 365.9                                                    & Gammaproteobacteria                                      & yjjP                                                     &                                                          &                                                          &                                                          &                                                          & ⋯                                                        &                                                          &                                                          &                                                          &                                                          &                                                          & Bacteria                                                 & 1NH2X@1224,1RN1Q@1236,COG2966@1,COG2966@2                & NA\\textbar{}NA\\textbar{}NA                             & S                                                        & Membrane                                                \\\\\n",
       "\t 61fa5c0d71bd4b849f3a9db86a80bdc9                         & 571.MC52\\_19235                                         &  9.1e-56                                                 & 222.6                                                    & Gammaproteobacteria                                      & phoH                                                     &                                                          & ko:K06217                                                &                                                          &                                                          & ⋯                                                        &                                                          & ko00000                                                  &                                                          &                                                          &                                                          & Bacteria                                                 & 1PNF2@1224,1RNZ7@1236,COG1702@1,COG1702@2                & NA\\textbar{}NA\\textbar{}NA                             & T                                                        & phosphate starvation-inducible protein                  \\\\\n",
       "\\end{tabular}\n"
      ],
      "text/markdown": [
       "\n",
       "query_name | seed_eggNOG_ortholog | seed_ortholog_evalue | seed_ortholog_score | Predicted_taxonomic_group | Predicted_protein_name | EC_number | KEGG_ko | KEGG_Pathway | KEGG_Module | ⋯ | KEGG_rclass | BRITE | KEGG_TC | CAZy | BiGG_Reaction | tax_scope__eggNOG_taxonomic_level_used_for_annotation | eggNOG_OGs | bestOG | COG_Functional_Category | eggNOG_free_text_description | \n",
       "|---|---|---|\n",
       "| 4870cac3514a459dafab54a7c8d44dfd                         | 469008.B21_02613                                         | 4.6e-269                                                 | 933.3                                                    | Escherichia                                              | rbsA                                                     | 3.6.3.17                                                 | ko:K10441                                                | ko02010,map02010                                         | M00212                                                   | ⋯                                                        |                                                          | ko00000,ko00001,ko00002,ko01000,ko02000                  | 3.A.1.2.1,3.A.1.2.13,3.A.1.2.19                          |                                                          |                                                          | Bacteria                                                 | 1MU22@1224,1RMCH@1236,3XQCJ@561,COG1129@1,COG1129@2      | NA|NA|NA                                                 | G                                                        | ATPases associated with a variety of cellular activities | \n",
       "| b4e75e80a737442f8a9bee035e37e65a                         | 198214.SF4395                                            |  1.1e-98                                                 | 365.9                                                    | Gammaproteobacteria                                      | yjjP                                                     |                                                          |                                                          |                                                          |                                                          | ⋯                                                        |                                                          |                                                          |                                                          |                                                          |                                                          | Bacteria                                                 | 1NH2X@1224,1RN1Q@1236,COG2966@1,COG2966@2                | NA|NA|NA                                                 | S                                                        | Membrane                                                 | \n",
       "| 61fa5c0d71bd4b849f3a9db86a80bdc9                         | 571.MC52_19235                                           |  9.1e-56                                                 | 222.6                                                    | Gammaproteobacteria                                      | phoH                                                     |                                                          | ko:K06217                                                |                                                          |                                                          | ⋯                                                        |                                                          | ko00000                                                  |                                                          |                                                          |                                                          | Bacteria                                                 | 1PNF2@1224,1RNZ7@1236,COG1702@1,COG1702@2                | NA|NA|NA                                                 | T                                                        | phosphate starvation-inducible protein                   | \n",
       "\n",
       "\n"
      ],
      "text/plain": [
       "  query_name                       seed_eggNOG_ortholog seed_ortholog_evalue\n",
       "1 4870cac3514a459dafab54a7c8d44dfd 469008.B21_02613     4.6e-269            \n",
       "2 b4e75e80a737442f8a9bee035e37e65a 198214.SF4395         1.1e-98            \n",
       "3 61fa5c0d71bd4b849f3a9db86a80bdc9 571.MC52_19235        9.1e-56            \n",
       "  seed_ortholog_score Predicted_taxonomic_group Predicted_protein_name\n",
       "1 933.3               Escherichia               rbsA                  \n",
       "2 365.9               Gammaproteobacteria       yjjP                  \n",
       "3 222.6               Gammaproteobacteria       phoH                  \n",
       "  EC_number KEGG_ko   KEGG_Pathway     KEGG_Module ⋯ KEGG_rclass\n",
       "1 3.6.3.17  ko:K10441 ko02010,map02010 M00212      ⋯            \n",
       "2                                                  ⋯            \n",
       "3           ko:K06217                              ⋯            \n",
       "  BRITE                                   KEGG_TC                         CAZy\n",
       "1 ko00000,ko00001,ko00002,ko01000,ko02000 3.A.1.2.1,3.A.1.2.13,3.A.1.2.19     \n",
       "2                                                                             \n",
       "3 ko00000                                                                     \n",
       "  BiGG_Reaction tax_scope__eggNOG_taxonomic_level_used_for_annotation\n",
       "1               Bacteria                                             \n",
       "2               Bacteria                                             \n",
       "3               Bacteria                                             \n",
       "  eggNOG_OGs                                          bestOG  \n",
       "1 1MU22@1224,1RMCH@1236,3XQCJ@561,COG1129@1,COG1129@2 NA|NA|NA\n",
       "2 1NH2X@1224,1RN1Q@1236,COG2966@1,COG2966@2           NA|NA|NA\n",
       "3 1PNF2@1224,1RNZ7@1236,COG1702@1,COG1702@2           NA|NA|NA\n",
       "  COG_Functional_Category\n",
       "1 G                      \n",
       "2 S                      \n",
       "3 T                      \n",
       "  eggNOG_free_text_description                            \n",
       "1 ATPases associated with a variety of cellular activities\n",
       "2 Membrane                                                \n",
       "3 phosphate starvation-inducible protein                  "
      ]
     },
     "metadata": {},
     "output_type": "display_data"
    }
   ],
   "source": [
    "F = file.path(work_dir, 'annotate', 'eggnog-mapper', 'clusters_rep-seqs.emapper.annotations.gz')\n",
    "cmd = glue::glue('gunzip -c {file}', file=F, header=FALSE) \n",
    "emap_annot = fread(cmd, sep='\\t') \n",
    "colnames(emap_annot) = cols\n",
    "emap_annot = emap_annot %>%\n",
    "    dplyr::select(-Gene_Ontology_terms)\n",
    "emap_annot %>% dfhead"
   ]
  },
  {
   "cell_type": "code",
   "execution_count": 21,
   "metadata": {
    "ExecuteTime": {
     "end_time": "2019-09-26T19:12:09.145612Z",
     "start_time": "2019-09-26T19:12:01.906Z"
    }
   },
   "outputs": [
    {
     "name": "stdout",
     "output_type": "stream",
     "text": [
      "[1] 213483\n",
      "[1] 213483     31\n"
     ]
    },
    {
     "data": {
      "text/html": [
       "<table>\n",
       "<thead><tr><th scope=col>query_name</th><th scope=col>seed_eggNOG_ortholog</th><th scope=col>seed_ortholog_evalue</th><th scope=col>seed_ortholog_score</th><th scope=col>Predicted_taxonomic_group</th><th scope=col>Predicted_protein_name</th><th scope=col>EC_number</th><th scope=col>KEGG_ko</th><th scope=col>KEGG_Pathway</th><th scope=col>KEGG_Module</th><th scope=col>⋯</th><th scope=col>taxID</th><th scope=col>rank</th><th scope=col>spp</th><th scope=col>Domain</th><th scope=col>Phylum</th><th scope=col>Class</th><th scope=col>Order</th><th scope=col>Family</th><th scope=col>Genus</th><th scope=col>Species</th></tr></thead>\n",
       "<tbody>\n",
       "\t<tr><td>4870cac3514a459dafab54a7c8d44dfd</td><td>469008.B21_02613                </td><td>4.6e-269                        </td><td>933.3                           </td><td>Escherichia                     </td><td>rbsA                            </td><td>3.6.3.17                        </td><td>ko:K10441                       </td><td>ko02010,map02010                </td><td>M00212                          </td><td>⋯                               </td><td> 31234                          </td><td>species                         </td><td>Caenorhabditis remanei          </td><td>Metazoa                         </td><td>Nematoda                        </td><td>Chromadorea                     </td><td>Rhabditida                      </td><td>Rhabditidae                     </td><td>Caenorhabditis                  </td><td>Caenorhabditis remanei          </td></tr>\n",
       "\t<tr><td>b4e75e80a737442f8a9bee035e37e65a</td><td>198214.SF4395                   </td><td> 1.1e-98                        </td><td>365.9                           </td><td>Gammaproteobacteria             </td><td>yjjP                            </td><td>                                </td><td>                                </td><td>                                </td><td>                                </td><td>⋯                               </td><td>500640                          </td><td>no rank                         </td><td>Citrobacter youngae ATCC 29220  </td><td>unknown                         </td><td>Proteobacteria                  </td><td>Gammaproteobacteria             </td><td>Enterobacterales                </td><td>Enterobacteriaceae              </td><td>Citrobacter                     </td><td>Citrobacter youngae             </td></tr>\n",
       "\t<tr><td>61fa5c0d71bd4b849f3a9db86a80bdc9</td><td>571.MC52_19235                  </td><td> 9.1e-56                        </td><td>222.6                           </td><td>Gammaproteobacteria             </td><td>phoH                            </td><td>                                </td><td>ko:K06217                       </td><td>                                </td><td>                                </td><td>⋯                               </td><td>357233                          </td><td>species                         </td><td>Siccibacter turicensis          </td><td>unknown                         </td><td>Proteobacteria                  </td><td>Gammaproteobacteria             </td><td>Enterobacterales                </td><td>Enterobacteriaceae              </td><td>Siccibacter                     </td><td>Siccibacter turicensis          </td></tr>\n",
       "</tbody>\n",
       "</table>\n"
      ],
      "text/latex": [
       "\\begin{tabular}{r|lllllllllllllllllllllllllllllll}\n",
       " query\\_name & seed\\_eggNOG\\_ortholog & seed\\_ortholog\\_evalue & seed\\_ortholog\\_score & Predicted\\_taxonomic\\_group & Predicted\\_protein\\_name & EC\\_number & KEGG\\_ko & KEGG\\_Pathway & KEGG\\_Module & ⋯ & taxID & rank & spp & Domain & Phylum & Class & Order & Family & Genus & Species\\\\\n",
       "\\hline\n",
       "\t 4870cac3514a459dafab54a7c8d44dfd & 469008.B21\\_02613               & 4.6e-269                         & 933.3                            & Escherichia                      & rbsA                             & 3.6.3.17                         & ko:K10441                        & ko02010,map02010                 & M00212                           & ⋯                                &  31234                           & species                          & Caenorhabditis remanei           & Metazoa                          & Nematoda                         & Chromadorea                      & Rhabditida                       & Rhabditidae                      & Caenorhabditis                   & Caenorhabditis remanei          \\\\\n",
       "\t b4e75e80a737442f8a9bee035e37e65a & 198214.SF4395                    &  1.1e-98                         & 365.9                            & Gammaproteobacteria              & yjjP                             &                                  &                                  &                                  &                                  & ⋯                                & 500640                           & no rank                          & Citrobacter youngae ATCC 29220   & unknown                          & Proteobacteria                   & Gammaproteobacteria              & Enterobacterales                 & Enterobacteriaceae               & Citrobacter                      & Citrobacter youngae             \\\\\n",
       "\t 61fa5c0d71bd4b849f3a9db86a80bdc9 & 571.MC52\\_19235                 &  9.1e-56                         & 222.6                            & Gammaproteobacteria              & phoH                             &                                  & ko:K06217                        &                                  &                                  & ⋯                                & 357233                           & species                          & Siccibacter turicensis           & unknown                          & Proteobacteria                   & Gammaproteobacteria              & Enterobacterales                 & Enterobacteriaceae               & Siccibacter                      & Siccibacter turicensis          \\\\\n",
       "\\end{tabular}\n"
      ],
      "text/markdown": [
       "\n",
       "query_name | seed_eggNOG_ortholog | seed_ortholog_evalue | seed_ortholog_score | Predicted_taxonomic_group | Predicted_protein_name | EC_number | KEGG_ko | KEGG_Pathway | KEGG_Module | ⋯ | taxID | rank | spp | Domain | Phylum | Class | Order | Family | Genus | Species | \n",
       "|---|---|---|\n",
       "| 4870cac3514a459dafab54a7c8d44dfd | 469008.B21_02613                 | 4.6e-269                         | 933.3                            | Escherichia                      | rbsA                             | 3.6.3.17                         | ko:K10441                        | ko02010,map02010                 | M00212                           | ⋯                                |  31234                           | species                          | Caenorhabditis remanei           | Metazoa                          | Nematoda                         | Chromadorea                      | Rhabditida                       | Rhabditidae                      | Caenorhabditis                   | Caenorhabditis remanei           | \n",
       "| b4e75e80a737442f8a9bee035e37e65a | 198214.SF4395                    |  1.1e-98                         | 365.9                            | Gammaproteobacteria              | yjjP                             |                                  |                                  |                                  |                                  | ⋯                                | 500640                           | no rank                          | Citrobacter youngae ATCC 29220   | unknown                          | Proteobacteria                   | Gammaproteobacteria              | Enterobacterales                 | Enterobacteriaceae               | Citrobacter                      | Citrobacter youngae              | \n",
       "| 61fa5c0d71bd4b849f3a9db86a80bdc9 | 571.MC52_19235                   |  9.1e-56                         | 222.6                            | Gammaproteobacteria              | phoH                             |                                  | ko:K06217                        |                                  |                                  | ⋯                                | 357233                           | species                          | Siccibacter turicensis           | unknown                          | Proteobacteria                   | Gammaproteobacteria              | Enterobacterales                 | Enterobacteriaceae               | Siccibacter                      | Siccibacter turicensis           | \n",
       "\n",
       "\n"
      ],
      "text/plain": [
       "  query_name                       seed_eggNOG_ortholog seed_ortholog_evalue\n",
       "1 4870cac3514a459dafab54a7c8d44dfd 469008.B21_02613     4.6e-269            \n",
       "2 b4e75e80a737442f8a9bee035e37e65a 198214.SF4395         1.1e-98            \n",
       "3 61fa5c0d71bd4b849f3a9db86a80bdc9 571.MC52_19235        9.1e-56            \n",
       "  seed_ortholog_score Predicted_taxonomic_group Predicted_protein_name\n",
       "1 933.3               Escherichia               rbsA                  \n",
       "2 365.9               Gammaproteobacteria       yjjP                  \n",
       "3 222.6               Gammaproteobacteria       phoH                  \n",
       "  EC_number KEGG_ko   KEGG_Pathway     KEGG_Module ⋯ taxID  rank   \n",
       "1 3.6.3.17  ko:K10441 ko02010,map02010 M00212      ⋯  31234 species\n",
       "2                                                  ⋯ 500640 no rank\n",
       "3           ko:K06217                              ⋯ 357233 species\n",
       "  spp                            Domain  Phylum         Class              \n",
       "1 Caenorhabditis remanei         Metazoa Nematoda       Chromadorea        \n",
       "2 Citrobacter youngae ATCC 29220 unknown Proteobacteria Gammaproteobacteria\n",
       "3 Siccibacter turicensis         unknown Proteobacteria Gammaproteobacteria\n",
       "  Order            Family             Genus          Species               \n",
       "1 Rhabditida       Rhabditidae        Caenorhabditis Caenorhabditis remanei\n",
       "2 Enterobacterales Enterobacteriaceae Citrobacter    Citrobacter youngae   \n",
       "3 Enterobacterales Enterobacteriaceae Siccibacter    Siccibacter turicensis"
      ]
     },
     "metadata": {},
     "output_type": "display_data"
    }
   ],
   "source": [
    "# adding taxonomy info\n",
    "intersect(emap_annot$query_name, tax$seqID) %>% length %>% print\n",
    "\n",
    "emap_annot = emap_annot %>%\n",
    "    left_join(tax, c('query_name'='seqID'))\n",
    "\n",
    "emap_annot %>% dfhead"
   ]
  },
  {
   "cell_type": "code",
   "execution_count": 22,
   "metadata": {
    "ExecuteTime": {
     "end_time": "2019-09-26T19:12:09.228743Z",
     "start_time": "2019-09-26T19:12:02.514Z"
    }
   },
   "outputs": [
    {
     "name": "stdout",
     "output_type": "stream",
     "text": [
      "Number of rep seqs with eggnog-mapper annotations: 213483 \n"
     ]
    }
   ],
   "source": [
    "n_annot_seqs = emap_annot$query_name %>% unique %>% length\n",
    "cat('Number of rep seqs with eggnog-mapper annotations:', n_annot_seqs, '\\n')"
   ]
  },
  {
   "cell_type": "markdown",
   "metadata": {},
   "source": [
    "### COG functional categories\n",
    "\n",
    "* [wiki on categories](https://ecoliwiki.org/colipedia/index.php/Clusters_of_Orthologous_Groups_%28COGs%29)"
   ]
  },
  {
   "cell_type": "code",
   "execution_count": 23,
   "metadata": {
    "ExecuteTime": {
     "end_time": "2019-09-26T19:12:12.574593Z",
     "start_time": "2019-09-26T19:12:10.850Z"
    }
   },
   "outputs": [
    {
     "name": "stderr",
     "output_type": "stream",
     "text": [
      "Warning message:\n",
      "“Expected 4 pieces. Additional pieces discarded in 90 rows [648, 8806, 9198, 10413, 14825, 14870, 16779, 21244, 24157, 25612, 26275, 30037, 34666, 37439, 39162, 47732, 47993, 48708, 49235, 50465, ...].”Warning message:\n",
      "“Expected 4 pieces. Missing pieces filled with `NA` in 210245 rows [1, 2, 3, 4, 5, 6, 7, 8, 9, 10, 11, 12, 13, 14, 15, 16, 17, 18, 19, 20, ...].”"
     ]
    },
    {
     "name": "stdout",
     "output_type": "stream",
     "text": [
      "[1] 226836      2\n"
     ]
    },
    {
     "data": {
      "text/html": [
       "<table>\n",
       "<thead><tr><th scope=col>query_name</th><th scope=col>COG_func_cat</th></tr></thead>\n",
       "<tbody>\n",
       "\t<tr><td>4870cac3514a459dafab54a7c8d44dfd</td><td>G                               </td></tr>\n",
       "\t<tr><td>b4e75e80a737442f8a9bee035e37e65a</td><td>S                               </td></tr>\n",
       "\t<tr><td>61fa5c0d71bd4b849f3a9db86a80bdc9</td><td>T                               </td></tr>\n",
       "</tbody>\n",
       "</table>\n"
      ],
      "text/latex": [
       "\\begin{tabular}{r|ll}\n",
       " query\\_name & COG\\_func\\_cat\\\\\n",
       "\\hline\n",
       "\t 4870cac3514a459dafab54a7c8d44dfd & G                               \\\\\n",
       "\t b4e75e80a737442f8a9bee035e37e65a & S                               \\\\\n",
       "\t 61fa5c0d71bd4b849f3a9db86a80bdc9 & T                               \\\\\n",
       "\\end{tabular}\n"
      ],
      "text/markdown": [
       "\n",
       "query_name | COG_func_cat | \n",
       "|---|---|---|\n",
       "| 4870cac3514a459dafab54a7c8d44dfd | G                                | \n",
       "| b4e75e80a737442f8a9bee035e37e65a | S                                | \n",
       "| 61fa5c0d71bd4b849f3a9db86a80bdc9 | T                                | \n",
       "\n",
       "\n"
      ],
      "text/plain": [
       "  query_name                       COG_func_cat\n",
       "1 4870cac3514a459dafab54a7c8d44dfd G           \n",
       "2 b4e75e80a737442f8a9bee035e37e65a S           \n",
       "3 61fa5c0d71bd4b849f3a9db86a80bdc9 T           "
      ]
     },
     "metadata": {},
     "output_type": "display_data"
    }
   ],
   "source": [
    "# summarizing by functional group\n",
    "max_cat = emap_annot$COG_Functional_Category %>% unique %>% sapply(nchar) %>% max\n",
    "\n",
    "emap_annot_s = emap_annot %>%\n",
    "    dplyr::select(query_name, COG_Functional_Category) %>%\n",
    "    separate(COG_Functional_Category, LETTERS[1:max_cat], sep='(?<=[A-Z])') %>%\n",
    "    gather(X, COG_func_cat, -query_name) %>%\n",
    "    filter(!is.na(COG_func_cat),\n",
    "           COG_func_cat != '') %>%\n",
    "    dplyr::select(-X) \n",
    "    \n",
    "emap_annot_s %>% dfhead"
   ]
  },
  {
   "cell_type": "code",
   "execution_count": 24,
   "metadata": {
    "ExecuteTime": {
     "end_time": "2019-09-26T19:12:13.794473Z",
     "start_time": "2019-09-26T19:12:11.386Z"
    }
   },
   "outputs": [
    {
     "data": {
      "image/png": "[encoded data removed]",
      "text/plain": [
       "plot without title"
      ]
     },
     "metadata": {},
     "output_type": "display_data"
    }
   ],
   "source": [
    "# plotting summary\n",
    "p = emap_annot_s %>%\n",
    "    ggplot(aes(COG_func_cat)) +\n",
    "    geom_bar() +\n",
    "    labs(x='COG functional category', y='No. of genes') +\n",
    "    theme_bw()\n",
    "\n",
    "dims(9,3)\n",
    "plot(p)"
   ]
  },
  {
   "cell_type": "code",
   "execution_count": 25,
   "metadata": {
    "ExecuteTime": {
     "end_time": "2019-09-26T19:12:14.658690Z",
     "start_time": "2019-09-26T19:12:12.209Z"
    }
   },
   "outputs": [
    {
     "data": {
      "image/png": "[encoded data removed]",
      "text/plain": [
       "plot without title"
      ]
     },
     "metadata": {},
     "output_type": "display_data"
    }
   ],
   "source": [
    "# plotting summary\n",
    "p = emap_annot_s %>%\n",
    "    group_by(COG_func_cat) %>%\n",
    "    summarize(perc_abund = n() / n_annot_seqs * 100) %>%\n",
    "    ungroup() %>%\n",
    "    ggplot(aes(COG_func_cat, perc_abund)) +\n",
    "    geom_bar(stat='identity') +\n",
    "    labs(x='COG functional category', y='% of all genes') +\n",
    "    theme_bw() \n",
    "\n",
    "dims(9,3)\n",
    "plot(p)"
   ]
  },
  {
   "cell_type": "markdown",
   "metadata": {},
   "source": [
    "### Grouped by taxonomy"
   ]
  },
  {
   "cell_type": "code",
   "execution_count": 26,
   "metadata": {
    "ExecuteTime": {
     "end_time": "2019-09-26T19:12:22.625325Z",
     "start_time": "2019-09-26T19:12:17.426Z"
    }
   },
   "outputs": [
    {
     "name": "stderr",
     "output_type": "stream",
     "text": [
      "Warning message:\n",
      "“Expected 4 pieces. Additional pieces discarded in 90 rows [648, 8806, 9198, 10413, 14825, 14870, 16779, 21244, 24157, 25612, 26275, 30037, 34666, 37439, 39162, 47732, 47993, 48708, 49235, 50465, ...].”Warning message:\n",
      "“Expected 4 pieces. Missing pieces filled with `NA` in 210245 rows [1, 2, 3, 4, 5, 6, 7, 8, 9, 10, 11, 12, 13, 14, 15, 16, 17, 18, 19, 20, ...].”"
     ]
    },
    {
     "name": "stdout",
     "output_type": "stream",
     "text": [
      "[1] 226836     12\n"
     ]
    },
    {
     "data": {
      "text/html": [
       "<table>\n",
       "<thead><tr><th scope=col>query_name</th><th scope=col>COG_func_cat</th><th scope=col>taxID</th><th scope=col>rank</th><th scope=col>spp</th><th scope=col>Domain</th><th scope=col>Phylum</th><th scope=col>Class</th><th scope=col>Order</th><th scope=col>Family</th><th scope=col>Genus</th><th scope=col>Species</th></tr></thead>\n",
       "<tbody>\n",
       "\t<tr><td>4870cac3514a459dafab54a7c8d44dfd</td><td>G                               </td><td> 31234                          </td><td>species                         </td><td>Caenorhabditis remanei          </td><td>Metazoa                         </td><td>Nematoda                        </td><td>Chromadorea                     </td><td>Rhabditida                      </td><td>Rhabditidae                     </td><td>Caenorhabditis                  </td><td>Caenorhabditis remanei          </td></tr>\n",
       "\t<tr><td>b4e75e80a737442f8a9bee035e37e65a</td><td>S                               </td><td>500640                          </td><td>no rank                         </td><td>Citrobacter youngae ATCC 29220  </td><td>unknown                         </td><td>Proteobacteria                  </td><td>Gammaproteobacteria             </td><td>Enterobacterales                </td><td>Enterobacteriaceae              </td><td>Citrobacter                     </td><td>Citrobacter youngae             </td></tr>\n",
       "\t<tr><td>61fa5c0d71bd4b849f3a9db86a80bdc9</td><td>T                               </td><td>357233                          </td><td>species                         </td><td>Siccibacter turicensis          </td><td>unknown                         </td><td>Proteobacteria                  </td><td>Gammaproteobacteria             </td><td>Enterobacterales                </td><td>Enterobacteriaceae              </td><td>Siccibacter                     </td><td>Siccibacter turicensis          </td></tr>\n",
       "</tbody>\n",
       "</table>\n"
      ],
      "text/latex": [
       "\\begin{tabular}{r|llllllllllll}\n",
       " query\\_name & COG\\_func\\_cat & taxID & rank & spp & Domain & Phylum & Class & Order & Family & Genus & Species\\\\\n",
       "\\hline\n",
       "\t 4870cac3514a459dafab54a7c8d44dfd & G                                &  31234                           & species                          & Caenorhabditis remanei           & Metazoa                          & Nematoda                         & Chromadorea                      & Rhabditida                       & Rhabditidae                      & Caenorhabditis                   & Caenorhabditis remanei          \\\\\n",
       "\t b4e75e80a737442f8a9bee035e37e65a & S                                & 500640                           & no rank                          & Citrobacter youngae ATCC 29220   & unknown                          & Proteobacteria                   & Gammaproteobacteria              & Enterobacterales                 & Enterobacteriaceae               & Citrobacter                      & Citrobacter youngae             \\\\\n",
       "\t 61fa5c0d71bd4b849f3a9db86a80bdc9 & T                                & 357233                           & species                          & Siccibacter turicensis           & unknown                          & Proteobacteria                   & Gammaproteobacteria              & Enterobacterales                 & Enterobacteriaceae               & Siccibacter                      & Siccibacter turicensis          \\\\\n",
       "\\end{tabular}\n"
      ],
      "text/markdown": [
       "\n",
       "query_name | COG_func_cat | taxID | rank | spp | Domain | Phylum | Class | Order | Family | Genus | Species | \n",
       "|---|---|---|\n",
       "| 4870cac3514a459dafab54a7c8d44dfd | G                                |  31234                           | species                          | Caenorhabditis remanei           | Metazoa                          | Nematoda                         | Chromadorea                      | Rhabditida                       | Rhabditidae                      | Caenorhabditis                   | Caenorhabditis remanei           | \n",
       "| b4e75e80a737442f8a9bee035e37e65a | S                                | 500640                           | no rank                          | Citrobacter youngae ATCC 29220   | unknown                          | Proteobacteria                   | Gammaproteobacteria              | Enterobacterales                 | Enterobacteriaceae               | Citrobacter                      | Citrobacter youngae              | \n",
       "| 61fa5c0d71bd4b849f3a9db86a80bdc9 | T                                | 357233                           | species                          | Siccibacter turicensis           | unknown                          | Proteobacteria                   | Gammaproteobacteria              | Enterobacterales                 | Enterobacteriaceae               | Siccibacter                      | Siccibacter turicensis           | \n",
       "\n",
       "\n"
      ],
      "text/plain": [
       "  query_name                       COG_func_cat taxID  rank   \n",
       "1 4870cac3514a459dafab54a7c8d44dfd G             31234 species\n",
       "2 b4e75e80a737442f8a9bee035e37e65a S            500640 no rank\n",
       "3 61fa5c0d71bd4b849f3a9db86a80bdc9 T            357233 species\n",
       "  spp                            Domain  Phylum         Class              \n",
       "1 Caenorhabditis remanei         Metazoa Nematoda       Chromadorea        \n",
       "2 Citrobacter youngae ATCC 29220 unknown Proteobacteria Gammaproteobacteria\n",
       "3 Siccibacter turicensis         unknown Proteobacteria Gammaproteobacteria\n",
       "  Order            Family             Genus          Species               \n",
       "1 Rhabditida       Rhabditidae        Caenorhabditis Caenorhabditis remanei\n",
       "2 Enterobacterales Enterobacteriaceae Citrobacter    Citrobacter youngae   \n",
       "3 Enterobacterales Enterobacteriaceae Siccibacter    Siccibacter turicensis"
      ]
     },
     "metadata": {},
     "output_type": "display_data"
    }
   ],
   "source": [
    "max_cat = emap_annot$COG_Functional_Category %>% unique %>% sapply(nchar) %>% max\n",
    "\n",
    "emap_annot_s = emap_annot %>%\n",
    "    dplyr::select(query_name, COG_Functional_Category) %>%\n",
    "    separate(COG_Functional_Category, LETTERS[1:max_cat], sep='(?<=[A-Z])') %>%\n",
    "    gather(X, COG_func_cat, -query_name) %>%\n",
    "    left_join(tax, c('query_name'='seqID')) %>%\n",
    "    filter(!is.na(COG_func_cat),\n",
    "           COG_func_cat != '') %>%\n",
    "    dplyr::select(-X) \n",
    "\n",
    "emap_annot_s %>% dfhead"
   ]
  },
  {
   "cell_type": "code",
   "execution_count": 27,
   "metadata": {
    "ExecuteTime": {
     "end_time": "2019-09-26T19:12:26.701129Z",
     "start_time": "2019-09-26T19:12:21.226Z"
    }
   },
   "outputs": [
    {
     "data": {
      "image/png": "[encoded data removed]",
      "text/plain": [
       "plot without title"
      ]
     },
     "metadata": {},
     "output_type": "display_data"
    }
   ],
   "source": [
    "# plotting summary by domain\n",
    "p = emap_annot_s %>%\n",
    "    ggplot(aes(COG_func_cat)) +\n",
    "    geom_bar() +\n",
    "    facet_wrap(~ Domain, scales='free_y') +\n",
    "    labs(x='COG functional category', y='No. of genes') +\n",
    "    theme_bw()\n",
    "\n",
    "dims(9,5)\n",
    "plot(p)"
   ]
  },
  {
   "cell_type": "code",
   "execution_count": 28,
   "metadata": {
    "ExecuteTime": {
     "end_time": "2019-09-26T19:12:31.820636Z",
     "start_time": "2019-09-26T19:12:21.386Z"
    }
   },
   "outputs": [
    {
     "data": {
      "image/png": "[encoded data removed]",
      "text/plain": [
       "plot without title"
      ]
     },
     "metadata": {},
     "output_type": "display_data"
    }
   ],
   "source": [
    "# plotting summary by phylum\n",
    "p = emap_annot_s %>%\n",
    "    group_by(Phylum) %>%\n",
    "    mutate(n = n()) %>%\n",
    "    ungroup() %>%\n",
    "    filter(n >= 1000) %>%\n",
    "    mutate(Phylum = Phylum %>% reorder(-n)) %>%\n",
    "    ggplot(aes(COG_func_cat, fill=Domain)) +\n",
    "    geom_bar() +\n",
    "    facet_wrap(~ Phylum, scales='free_y', ncol=3) +\n",
    "    labs(x='COG functional category', y='No. of genes') +\n",
    "    theme_bw()\n",
    "\n",
    "dims(10,5)\n",
    "plot(p)"
   ]
  },
  {
   "cell_type": "markdown",
   "metadata": {},
   "source": [
    "## humann2 db genes"
   ]
  },
  {
   "cell_type": "code",
   "execution_count": 29,
   "metadata": {
    "ExecuteTime": {
     "end_time": "2019-09-26T19:12:35.601051Z",
     "start_time": "2019-09-26T19:12:22.771Z"
    }
   },
   "outputs": [
    {
     "name": "stderr",
     "output_type": "stream",
     "text": [
      "Warning message:\n",
      "“Expected 2 pieces. Missing pieces filled with `NA` in 16015 rows [38, 40, 49, 61, 70, 74, 89, 127, 129, 133, 153, 160, 167, 178, 180, 209, 218, 237, 243, 262, ...].”"
     ]
    },
    {
     "name": "stdout",
     "output_type": "stream",
     "text": [
      "[1] 142375      6\n"
     ]
    },
    {
     "data": {
      "text/html": [
       "<table>\n",
       "<thead><tr><th scope=col>original_name</th><th scope=col>UniRefID</th><th scope=col>Gene_length</th><th scope=col>Genus</th><th scope=col>Species</th><th scope=col>TaxID</th></tr></thead>\n",
       "<tbody>\n",
       "\t<tr><td>4870cac3514a459dafab54a7c8d44dfd</td><td>UniRef50_I6GVR1                 </td><td>501                             </td><td>Caenorhabditis                  </td><td>Caenorhabditis_remanei          </td><td>31234                           </td></tr>\n",
       "\t<tr><td>585f8988051643c1906cbd984b3a77a9</td><td>UniRef50_P16683                 </td><td>278                             </td><td>Pseudomonas                     </td><td>Pseudomonas_aeruginosa          </td><td>1402545                         </td></tr>\n",
       "\t<tr><td>571890613cb5494aabdd04e695340130</td><td>UniRef50_A6T6S4                 </td><td>253                             </td><td>Plesiomonas                     </td><td>Plesiomonas_shigelloides        </td><td>703                             </td></tr>\n",
       "</tbody>\n",
       "</table>\n"
      ],
      "text/latex": [
       "\\begin{tabular}{r|llllll}\n",
       " original\\_name & UniRefID & Gene\\_length & Genus & Species & TaxID\\\\\n",
       "\\hline\n",
       "\t 4870cac3514a459dafab54a7c8d44dfd & UniRef50\\_I6GVR1                & 501                              & Caenorhabditis                   & Caenorhabditis\\_remanei         & 31234                           \\\\\n",
       "\t 585f8988051643c1906cbd984b3a77a9 & UniRef50\\_P16683                & 278                              & Pseudomonas                      & Pseudomonas\\_aeruginosa         & 1402545                         \\\\\n",
       "\t 571890613cb5494aabdd04e695340130 & UniRef50\\_A6T6S4                & 253                              & Plesiomonas                      & Plesiomonas\\_shigelloides       & 703                             \\\\\n",
       "\\end{tabular}\n"
      ],
      "text/markdown": [
       "\n",
       "original_name | UniRefID | Gene_length | Genus | Species | TaxID | \n",
       "|---|---|---|\n",
       "| 4870cac3514a459dafab54a7c8d44dfd | UniRef50_I6GVR1                  | 501                              | Caenorhabditis                   | Caenorhabditis_remanei           | 31234                            | \n",
       "| 585f8988051643c1906cbd984b3a77a9 | UniRef50_P16683                  | 278                              | Pseudomonas                      | Pseudomonas_aeruginosa           | 1402545                          | \n",
       "| 571890613cb5494aabdd04e695340130 | UniRef50_A6T6S4                  | 253                              | Plesiomonas                      | Plesiomonas_shigelloides         | 703                              | \n",
       "\n",
       "\n"
      ],
      "text/plain": [
       "  original_name                    UniRefID        Gene_length Genus         \n",
       "1 4870cac3514a459dafab54a7c8d44dfd UniRef50_I6GVR1 501         Caenorhabditis\n",
       "2 585f8988051643c1906cbd984b3a77a9 UniRef50_P16683 278         Pseudomonas   \n",
       "3 571890613cb5494aabdd04e695340130 UniRef50_A6T6S4 253         Plesiomonas   \n",
       "  Species                  TaxID  \n",
       "1 Caenorhabditis_remanei   31234  \n",
       "2 Pseudomonas_aeruginosa   1402545\n",
       "3 Plesiomonas_shigelloides 703    "
      ]
     },
     "metadata": {},
     "output_type": "display_data"
    }
   ],
   "source": [
    "# gene IDs\n",
    "F = file.path(work_dir, 'humann2_db', 'clusters_rep-seqs_annot-index.tsv')\n",
    "\n",
    "hm2 = fread(F, sep='\\t', header=TRUE) %>%\n",
    "    separate(new_name, c('UniRefID', 'Gene_length', 'Taxonomy'), sep='\\\\|') %>%\n",
    "    separate(Taxonomy, c('Genus', 'Species'), sep='\\\\.s__') %>%\n",
    "    separate(Species, c('Species', 'TaxID'), sep='__taxID') %>%\n",
    "    mutate(Genus = gsub('^g__', '', Genus))\n",
    "\n",
    "hm2 %>% dfhead"
   ]
  },
  {
   "cell_type": "code",
   "execution_count": 30,
   "metadata": {
    "ExecuteTime": {
     "end_time": "2019-09-26T19:12:37.273016Z",
     "start_time": "2019-09-26T19:12:23.145Z"
    }
   },
   "outputs": [
    {
     "name": "stdout",
     "output_type": "stream",
     "text": [
      "[1] 142375\n",
      "[1] 142375     16\n"
     ]
    },
    {
     "data": {
      "text/html": [
       "<table>\n",
       "<thead><tr><th scope=col>original_name</th><th scope=col>UniRefID</th><th scope=col>Gene_length</th><th scope=col>Genus.x</th><th scope=col>Species.x</th><th scope=col>TaxID</th><th scope=col>taxID</th><th scope=col>rank</th><th scope=col>spp</th><th scope=col>Domain</th><th scope=col>Phylum</th><th scope=col>Class</th><th scope=col>Order</th><th scope=col>Family</th><th scope=col>Genus.y</th><th scope=col>Species.y</th></tr></thead>\n",
       "<tbody>\n",
       "\t<tr><td>4870cac3514a459dafab54a7c8d44dfd</td><td>UniRef50_I6GVR1                 </td><td>501                             </td><td>Caenorhabditis                  </td><td>Caenorhabditis_remanei          </td><td>31234                           </td><td>  31234                         </td><td>species                         </td><td>Caenorhabditis remanei          </td><td>Metazoa                         </td><td>Nematoda                        </td><td>Chromadorea                     </td><td>Rhabditida                      </td><td>Rhabditidae                     </td><td>Caenorhabditis                  </td><td>Caenorhabditis remanei          </td></tr>\n",
       "\t<tr><td>585f8988051643c1906cbd984b3a77a9</td><td>UniRef50_P16683                 </td><td>278                             </td><td>Pseudomonas                     </td><td>Pseudomonas_aeruginosa          </td><td>1402545                         </td><td>1402545                         </td><td>no rank                         </td><td>Pseudomonas aeruginosa BL04     </td><td>unknown                         </td><td>Proteobacteria                  </td><td>Gammaproteobacteria             </td><td>Pseudomonadales                 </td><td>Pseudomonadaceae                </td><td>Pseudomonas                     </td><td>Pseudomonas aeruginosa          </td></tr>\n",
       "\t<tr><td>571890613cb5494aabdd04e695340130</td><td>UniRef50_A6T6S4                 </td><td>253                             </td><td>Plesiomonas                     </td><td>Plesiomonas_shigelloides        </td><td>703                             </td><td>    703                         </td><td>species                         </td><td>Plesiomonas shigelloides        </td><td>unknown                         </td><td>Proteobacteria                  </td><td>Gammaproteobacteria             </td><td>Enterobacterales                </td><td>unknown                         </td><td>Plesiomonas                     </td><td>Plesiomonas shigelloides        </td></tr>\n",
       "</tbody>\n",
       "</table>\n"
      ],
      "text/latex": [
       "\\begin{tabular}{r|llllllllllllllll}\n",
       " original\\_name & UniRefID & Gene\\_length & Genus.x & Species.x & TaxID & taxID & rank & spp & Domain & Phylum & Class & Order & Family & Genus.y & Species.y\\\\\n",
       "\\hline\n",
       "\t 4870cac3514a459dafab54a7c8d44dfd & UniRef50\\_I6GVR1                & 501                              & Caenorhabditis                   & Caenorhabditis\\_remanei         & 31234                            &   31234                          & species                          & Caenorhabditis remanei           & Metazoa                          & Nematoda                         & Chromadorea                      & Rhabditida                       & Rhabditidae                      & Caenorhabditis                   & Caenorhabditis remanei          \\\\\n",
       "\t 585f8988051643c1906cbd984b3a77a9 & UniRef50\\_P16683                & 278                              & Pseudomonas                      & Pseudomonas\\_aeruginosa         & 1402545                          & 1402545                          & no rank                          & Pseudomonas aeruginosa BL04      & unknown                          & Proteobacteria                   & Gammaproteobacteria              & Pseudomonadales                  & Pseudomonadaceae                 & Pseudomonas                      & Pseudomonas aeruginosa          \\\\\n",
       "\t 571890613cb5494aabdd04e695340130 & UniRef50\\_A6T6S4                & 253                              & Plesiomonas                      & Plesiomonas\\_shigelloides       & 703                              &     703                          & species                          & Plesiomonas shigelloides         & unknown                          & Proteobacteria                   & Gammaproteobacteria              & Enterobacterales                 & unknown                          & Plesiomonas                      & Plesiomonas shigelloides        \\\\\n",
       "\\end{tabular}\n"
      ],
      "text/markdown": [
       "\n",
       "original_name | UniRefID | Gene_length | Genus.x | Species.x | TaxID | taxID | rank | spp | Domain | Phylum | Class | Order | Family | Genus.y | Species.y | \n",
       "|---|---|---|\n",
       "| 4870cac3514a459dafab54a7c8d44dfd | UniRef50_I6GVR1                  | 501                              | Caenorhabditis                   | Caenorhabditis_remanei           | 31234                            |   31234                          | species                          | Caenorhabditis remanei           | Metazoa                          | Nematoda                         | Chromadorea                      | Rhabditida                       | Rhabditidae                      | Caenorhabditis                   | Caenorhabditis remanei           | \n",
       "| 585f8988051643c1906cbd984b3a77a9 | UniRef50_P16683                  | 278                              | Pseudomonas                      | Pseudomonas_aeruginosa           | 1402545                          | 1402545                          | no rank                          | Pseudomonas aeruginosa BL04      | unknown                          | Proteobacteria                   | Gammaproteobacteria              | Pseudomonadales                  | Pseudomonadaceae                 | Pseudomonas                      | Pseudomonas aeruginosa           | \n",
       "| 571890613cb5494aabdd04e695340130 | UniRef50_A6T6S4                  | 253                              | Plesiomonas                      | Plesiomonas_shigelloides         | 703                              |     703                          | species                          | Plesiomonas shigelloides         | unknown                          | Proteobacteria                   | Gammaproteobacteria              | Enterobacterales                 | unknown                          | Plesiomonas                      | Plesiomonas shigelloides         | \n",
       "\n",
       "\n"
      ],
      "text/plain": [
       "  original_name                    UniRefID        Gene_length Genus.x       \n",
       "1 4870cac3514a459dafab54a7c8d44dfd UniRef50_I6GVR1 501         Caenorhabditis\n",
       "2 585f8988051643c1906cbd984b3a77a9 UniRef50_P16683 278         Pseudomonas   \n",
       "3 571890613cb5494aabdd04e695340130 UniRef50_A6T6S4 253         Plesiomonas   \n",
       "  Species.x                TaxID   taxID   rank    spp                        \n",
       "1 Caenorhabditis_remanei   31234     31234 species Caenorhabditis remanei     \n",
       "2 Pseudomonas_aeruginosa   1402545 1402545 no rank Pseudomonas aeruginosa BL04\n",
       "3 Plesiomonas_shigelloides 703         703 species Plesiomonas shigelloides   \n",
       "  Domain  Phylum         Class               Order            Family          \n",
       "1 Metazoa Nematoda       Chromadorea         Rhabditida       Rhabditidae     \n",
       "2 unknown Proteobacteria Gammaproteobacteria Pseudomonadales  Pseudomonadaceae\n",
       "3 unknown Proteobacteria Gammaproteobacteria Enterobacterales unknown         \n",
       "  Genus.y        Species.y               \n",
       "1 Caenorhabditis Caenorhabditis remanei  \n",
       "2 Pseudomonas    Pseudomonas aeruginosa  \n",
       "3 Plesiomonas    Plesiomonas shigelloides"
      ]
     },
     "metadata": {},
     "output_type": "display_data"
    }
   ],
   "source": [
    "# adding taxonomy\n",
    "intersect(hm2$original_name, tax$seqID) %>% length %>% print\n",
    "\n",
    "hm2 = hm2 %>%\n",
    "    left_join(tax, c('original_name'='seqID'))\n",
    "\n",
    "hm2 %>% dfhead"
   ]
  },
  {
   "cell_type": "markdown",
   "metadata": {},
   "source": [
    "### Summary"
   ]
  },
  {
   "cell_type": "code",
   "execution_count": 31,
   "metadata": {
    "ExecuteTime": {
     "end_time": "2019-09-26T19:12:37.384955Z",
     "start_time": "2019-09-26T19:12:24.601Z"
    }
   },
   "outputs": [
    {
     "data": {
      "text/html": [
       "40968"
      ],
      "text/latex": [
       "40968"
      ],
      "text/markdown": [
       "40968"
      ],
      "text/plain": [
       "[1] 40968"
      ]
     },
     "metadata": {},
     "output_type": "display_data"
    }
   ],
   "source": [
    "# number of unique UniRef IDs\n",
    "hm2$UniRefID %>% unique %>% length"
   ]
  },
  {
   "cell_type": "code",
   "execution_count": 32,
   "metadata": {
    "ExecuteTime": {
     "end_time": "2019-09-26T19:12:38.688689Z",
     "start_time": "2019-09-26T19:12:25.578Z"
    }
   },
   "outputs": [
    {
     "data": {
      "text/html": [
       "<table>\n",
       "<thead><tr><th scope=col>UniRefID</th><th scope=col>n</th></tr></thead>\n",
       "<tbody>\n",
       "\t<tr><td>UniRef50_D8BE04</td><td>56             </td></tr>\n",
       "\t<tr><td>UniRef50_E1IZB5</td><td>43             </td></tr>\n",
       "\t<tr><td>UniRef50_C5B7L0</td><td>42             </td></tr>\n",
       "\t<tr><td>UniRef50_P28635</td><td>36             </td></tr>\n",
       "\t<tr><td>UniRef50_P23524</td><td>32             </td></tr>\n",
       "\t<tr><td>UniRef50_Q602K3</td><td>32             </td></tr>\n",
       "\t<tr><td>UniRef50_P37417</td><td>31             </td></tr>\n",
       "\t<tr><td>UniRef50_P37661</td><td>30             </td></tr>\n",
       "\t<tr><td>UniRef50_Q5PMJ4</td><td>30             </td></tr>\n",
       "\t<tr><td>UniRef50_B7UR12</td><td>29             </td></tr>\n",
       "\t<tr><td>UniRef50_P0ABK4</td><td>29             </td></tr>\n",
       "\t<tr><td>UniRef50_P30860</td><td>29             </td></tr>\n",
       "\t<tr><td>UniRef50_P77768</td><td>29             </td></tr>\n",
       "\t<tr><td>UniRef50_I0DYC2</td><td>28             </td></tr>\n",
       "\t<tr><td>UniRef50_P0AF94</td><td>28             </td></tr>\n",
       "\t<tr><td>UniRef50_P58423</td><td>28             </td></tr>\n",
       "\t<tr><td>UniRef50_W1H6A6</td><td>28             </td></tr>\n",
       "\t<tr><td>UniRef50_P06136</td><td>27             </td></tr>\n",
       "\t<tr><td>UniRef50_P24180</td><td>27             </td></tr>\n",
       "\t<tr><td>UniRef50_P36646</td><td>27             </td></tr>\n",
       "\t<tr><td>UniRef50_P76100</td><td>27             </td></tr>\n",
       "\t<tr><td>UniRef50_P76445</td><td>27             </td></tr>\n",
       "\t<tr><td>UniRef50_Q1R4J9</td><td>27             </td></tr>\n",
       "\t<tr><td>UniRef50_T0V706</td><td>27             </td></tr>\n",
       "\t<tr><td>UniRef50_X2LRE4</td><td>27             </td></tr>\n",
       "\t<tr><td>UniRef50_A7ZUJ0</td><td>26             </td></tr>\n",
       "\t<tr><td>UniRef50_P03841</td><td>26             </td></tr>\n",
       "\t<tr><td>UniRef50_P0ADT7</td><td>26             </td></tr>\n",
       "\t<tr><td>UniRef50_P20751</td><td>26             </td></tr>\n",
       "\t<tr><td>UniRef50_P36674</td><td>26             </td></tr>\n",
       "</tbody>\n",
       "</table>\n"
      ],
      "text/latex": [
       "\\begin{tabular}{r|ll}\n",
       " UniRefID & n\\\\\n",
       "\\hline\n",
       "\t UniRef50\\_D8BE04 & 56               \\\\\n",
       "\t UniRef50\\_E1IZB5 & 43               \\\\\n",
       "\t UniRef50\\_C5B7L0 & 42               \\\\\n",
       "\t UniRef50\\_P28635 & 36               \\\\\n",
       "\t UniRef50\\_P23524 & 32               \\\\\n",
       "\t UniRef50\\_Q602K3 & 32               \\\\\n",
       "\t UniRef50\\_P37417 & 31               \\\\\n",
       "\t UniRef50\\_P37661 & 30               \\\\\n",
       "\t UniRef50\\_Q5PMJ4 & 30               \\\\\n",
       "\t UniRef50\\_B7UR12 & 29               \\\\\n",
       "\t UniRef50\\_P0ABK4 & 29               \\\\\n",
       "\t UniRef50\\_P30860 & 29               \\\\\n",
       "\t UniRef50\\_P77768 & 29               \\\\\n",
       "\t UniRef50\\_I0DYC2 & 28               \\\\\n",
       "\t UniRef50\\_P0AF94 & 28               \\\\\n",
       "\t UniRef50\\_P58423 & 28               \\\\\n",
       "\t UniRef50\\_W1H6A6 & 28               \\\\\n",
       "\t UniRef50\\_P06136 & 27               \\\\\n",
       "\t UniRef50\\_P24180 & 27               \\\\\n",
       "\t UniRef50\\_P36646 & 27               \\\\\n",
       "\t UniRef50\\_P76100 & 27               \\\\\n",
       "\t UniRef50\\_P76445 & 27               \\\\\n",
       "\t UniRef50\\_Q1R4J9 & 27               \\\\\n",
       "\t UniRef50\\_T0V706 & 27               \\\\\n",
       "\t UniRef50\\_X2LRE4 & 27               \\\\\n",
       "\t UniRef50\\_A7ZUJ0 & 26               \\\\\n",
       "\t UniRef50\\_P03841 & 26               \\\\\n",
       "\t UniRef50\\_P0ADT7 & 26               \\\\\n",
       "\t UniRef50\\_P20751 & 26               \\\\\n",
       "\t UniRef50\\_P36674 & 26               \\\\\n",
       "\\end{tabular}\n"
      ],
      "text/markdown": [
       "\n",
       "UniRefID | n | \n",
       "|---|---|---|---|---|---|---|---|---|---|---|---|---|---|---|---|---|---|---|---|---|---|---|---|---|---|---|---|---|---|\n",
       "| UniRef50_D8BE04 | 56              | \n",
       "| UniRef50_E1IZB5 | 43              | \n",
       "| UniRef50_C5B7L0 | 42              | \n",
       "| UniRef50_P28635 | 36              | \n",
       "| UniRef50_P23524 | 32              | \n",
       "| UniRef50_Q602K3 | 32              | \n",
       "| UniRef50_P37417 | 31              | \n",
       "| UniRef50_P37661 | 30              | \n",
       "| UniRef50_Q5PMJ4 | 30              | \n",
       "| UniRef50_B7UR12 | 29              | \n",
       "| UniRef50_P0ABK4 | 29              | \n",
       "| UniRef50_P30860 | 29              | \n",
       "| UniRef50_P77768 | 29              | \n",
       "| UniRef50_I0DYC2 | 28              | \n",
       "| UniRef50_P0AF94 | 28              | \n",
       "| UniRef50_P58423 | 28              | \n",
       "| UniRef50_W1H6A6 | 28              | \n",
       "| UniRef50_P06136 | 27              | \n",
       "| UniRef50_P24180 | 27              | \n",
       "| UniRef50_P36646 | 27              | \n",
       "| UniRef50_P76100 | 27              | \n",
       "| UniRef50_P76445 | 27              | \n",
       "| UniRef50_Q1R4J9 | 27              | \n",
       "| UniRef50_T0V706 | 27              | \n",
       "| UniRef50_X2LRE4 | 27              | \n",
       "| UniRef50_A7ZUJ0 | 26              | \n",
       "| UniRef50_P03841 | 26              | \n",
       "| UniRef50_P0ADT7 | 26              | \n",
       "| UniRef50_P20751 | 26              | \n",
       "| UniRef50_P36674 | 26              | \n",
       "\n",
       "\n"
      ],
      "text/plain": [
       "   UniRefID        n \n",
       "1  UniRef50_D8BE04 56\n",
       "2  UniRef50_E1IZB5 43\n",
       "3  UniRef50_C5B7L0 42\n",
       "4  UniRef50_P28635 36\n",
       "5  UniRef50_P23524 32\n",
       "6  UniRef50_Q602K3 32\n",
       "7  UniRef50_P37417 31\n",
       "8  UniRef50_P37661 30\n",
       "9  UniRef50_Q5PMJ4 30\n",
       "10 UniRef50_B7UR12 29\n",
       "11 UniRef50_P0ABK4 29\n",
       "12 UniRef50_P30860 29\n",
       "13 UniRef50_P77768 29\n",
       "14 UniRef50_I0DYC2 28\n",
       "15 UniRef50_P0AF94 28\n",
       "16 UniRef50_P58423 28\n",
       "17 UniRef50_W1H6A6 28\n",
       "18 UniRef50_P06136 27\n",
       "19 UniRef50_P24180 27\n",
       "20 UniRef50_P36646 27\n",
       "21 UniRef50_P76100 27\n",
       "22 UniRef50_P76445 27\n",
       "23 UniRef50_Q1R4J9 27\n",
       "24 UniRef50_T0V706 27\n",
       "25 UniRef50_X2LRE4 27\n",
       "26 UniRef50_A7ZUJ0 26\n",
       "27 UniRef50_P03841 26\n",
       "28 UniRef50_P0ADT7 26\n",
       "29 UniRef50_P20751 26\n",
       "30 UniRef50_P36674 26"
      ]
     },
     "metadata": {},
     "output_type": "display_data"
    }
   ],
   "source": [
    "# duplicate UniRef IDs\n",
    "hm2 %>%\n",
    "    group_by(UniRefID) %>%\n",
    "    summarize(n = n()) %>%\n",
    "    ungroup() %>%\n",
    "    filter(n > 1) %>%\n",
    "    arrange(-n) %>%\n",
    "    head(n=30)"
   ]
  },
  {
   "cell_type": "code",
   "execution_count": 33,
   "metadata": {
    "ExecuteTime": {
     "end_time": "2019-09-26T19:12:38.892742Z",
     "start_time": "2019-09-26T19:12:25.960Z"
    }
   },
   "outputs": [
    {
     "data": {
      "text/html": [
       "126360"
      ],
      "text/latex": [
       "126360"
      ],
      "text/markdown": [
       "126360"
      ],
      "text/plain": [
       "[1] 126360"
      ]
     },
     "metadata": {},
     "output_type": "display_data"
    }
   ],
   "source": [
    "# number of genes with a taxID\n",
    "hm2_f = hm2 %>%\n",
    "    filter(!is.na(TaxID))\n",
    "\n",
    "hm2_f %>% nrow "
   ]
  },
  {
   "cell_type": "markdown",
   "metadata": {},
   "source": [
    "#### By taxonomy"
   ]
  },
  {
   "cell_type": "code",
   "execution_count": 36,
   "metadata": {
    "ExecuteTime": {
     "end_time": "2019-09-26T19:12:46.336056Z",
     "start_time": "2019-09-26T19:12:45.058Z"
    }
   },
   "outputs": [
    {
     "data": {
      "image/png": "[encoded data removed]",
      "text/plain": [
       "plot without title"
      ]
     },
     "metadata": {},
     "output_type": "display_data"
    }
   ],
   "source": [
    "# number of UniRefIDs\n",
    "hm2_f_s = hm2_f %>%\n",
    "    group_by(Domain, Phylum) %>%\n",
    "    summarize(n = UniRefID %>% unique %>% length) %>%\n",
    "    ungroup()\n",
    "\n",
    "p = hm2_f_s %>%\n",
    "    filter(n >= 10) %>%\n",
    "    mutate(Phylum = Phylum %>% reorder(n)) %>%\n",
    "    ggplot(aes(Phylum, n, fill=Domain)) +\n",
    "    geom_bar(stat='identity', position='dodge') +\n",
    "    scale_y_log10() +\n",
    "    coord_flip() +\n",
    "    labs(y='No. of UniRef IDs') +\n",
    "    theme_bw() +\n",
    "    theme(\n",
    "        axis.text.y = element_text(size=7)\n",
    "    )\n",
    "    \n",
    "dims(5,5)\n",
    "plot(p)"
   ]
  },
  {
   "cell_type": "markdown",
   "metadata": {},
   "source": [
    "# sessionInfo"
   ]
  },
  {
   "cell_type": "code",
   "execution_count": 35,
   "metadata": {
    "ExecuteTime": {
     "end_time": "2019-09-26T19:12:42.051415Z",
     "start_time": "2019-09-26T19:12:28.169Z"
    }
   },
   "outputs": [
    {
     "data": {
      "text/plain": [
       "R version 3.4.1 (2017-06-30)\n",
       "Platform: x86_64-pc-linux-gnu (64-bit)\n",
       "Running under: Ubuntu 18.04.3 LTS\n",
       "\n",
       "Matrix products: default\n",
       "BLAS: /ebio/abt3_projects/software/miniconda3_gt4.4/envs/py3_physeq/lib/R/lib/libRblas.so\n",
       "LAPACK: /ebio/abt3_projects/software/miniconda3_gt4.4/envs/py3_physeq/lib/R/lib/libRlapack.so\n",
       "\n",
       "locale:\n",
       "[1] en_US.UTF-8\n",
       "\n",
       "attached base packages:\n",
       "[1] stats     graphics  grDevices utils     datasets  methods   base     \n",
       "\n",
       "other attached packages:\n",
       "[1] bindrcpp_0.2.2    data.table_1.11.4 ggplot2_3.0.0     tidyr_0.8.1      \n",
       "[5] dplyr_0.7.6      \n",
       "\n",
       "loaded via a namespace (and not attached):\n",
       " [1] Rcpp_0.12.17     pillar_1.2.2     compiler_3.4.1   plyr_1.8.4      \n",
       " [5] bindr_0.1.1      base64enc_0.1-3  tools_3.4.1      digest_0.6.15   \n",
       " [9] uuid_0.1-2       jsonlite_1.5     evaluate_0.10.1  tibble_1.4.2    \n",
       "[13] gtable_0.2.0     pkgconfig_2.0.1  rlang_0.2.1      IRdisplay_0.4.4 \n",
       "[17] IRkernel_0.8.12  repr_0.15.0      withr_2.1.1      stringr_1.3.1   \n",
       "[21] grid_3.4.1       tidyselect_0.2.4 glue_1.3.0       R6_2.2.2        \n",
       "[25] pbdZMQ_0.3-2     purrr_0.2.4      magrittr_1.5     scales_0.5.0    \n",
       "[29] htmltools_0.3.6  assertthat_0.2.0 colorspace_1.3-2 labeling_0.3    \n",
       "[33] stringi_1.2.3    lazyeval_0.2.1   munsell_0.5.0    crayon_1.3.4    "
      ]
     },
     "metadata": {},
     "output_type": "display_data"
    }
   ],
   "source": [
    "sessionInfo()"
   ]
  },
  {
   "cell_type": "code",
   "execution_count": null,
   "metadata": {},
   "outputs": [],
   "source": []
  }
 ],
 "metadata": {
  "kernelspec": {
   "display_name": "R [conda env:py3_physeq]",
   "language": "R",
   "name": "conda-env-py3_physeq-r"
  },
  "language_info": {
   "codemirror_mode": "r",
   "file_extension": ".r",
   "mimetype": "text/x-r-source",
   "name": "R",
   "pygments_lexer": "r",
   "version": "3.4.1"
  },
  "toc": {
   "base_numbering": 1,
   "nav_menu": {},
   "number_sections": true,
   "sideBar": true,
   "skip_h1_title": false,
   "title_cell": "Table of Contents",
   "title_sidebar": "Contents",
   "toc_cell": true,
   "toc_position": {},
   "toc_section_display": true,
   "toc_window_display": true
  }
 },
 "nbformat": 4,
 "nbformat_minor": 2
}
