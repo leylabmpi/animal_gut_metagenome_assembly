{
 "cells": [
  {
   "cell_type": "markdown",
   "metadata": {
    "toc": true
   },
   "source": [
    "<h1>Table of Contents<span class=\"tocSkip\"></span></h1>\n",
    "<div class=\"toc\"><ul class=\"toc-item\"><li><span><a href=\"#Goal\" data-toc-modified-id=\"Goal-1\"><span class=\"toc-item-num\">1&nbsp;&nbsp;</span>Goal</a></span></li><li><span><a href=\"#Var\" data-toc-modified-id=\"Var-2\"><span class=\"toc-item-num\">2&nbsp;&nbsp;</span>Var</a></span></li><li><span><a href=\"#Init\" data-toc-modified-id=\"Init-3\"><span class=\"toc-item-num\">3&nbsp;&nbsp;</span>Init</a></span></li><li><span><a href=\"#LLMGAG\" data-toc-modified-id=\"LLMGAG-4\"><span class=\"toc-item-num\">4&nbsp;&nbsp;</span>LLMGAG</a></span><ul class=\"toc-item\"><li><span><a href=\"#Setup\" data-toc-modified-id=\"Setup-4.1\"><span class=\"toc-item-num\">4.1&nbsp;&nbsp;</span>Setup</a></span><ul class=\"toc-item\"><li><span><a href=\"#Run\" data-toc-modified-id=\"Run-4.1.1\"><span class=\"toc-item-num\">4.1.1&nbsp;&nbsp;</span>Run</a></span></li></ul></li></ul></li><li><span><a href=\"#Summary\" data-toc-modified-id=\"Summary-5\"><span class=\"toc-item-num\">5&nbsp;&nbsp;</span>Summary</a></span><ul class=\"toc-item\"><li><span><a href=\"#Number-of-genes-assembled-&amp;-clustered\" data-toc-modified-id=\"Number-of-genes-assembled-&amp;-clustered-5.1\"><span class=\"toc-item-num\">5.1&nbsp;&nbsp;</span>Number of genes assembled &amp; clustered</a></span></li><li><span><a href=\"#Taxonomy\" data-toc-modified-id=\"Taxonomy-5.2\"><span class=\"toc-item-num\">5.2&nbsp;&nbsp;</span>Taxonomy</a></span><ul class=\"toc-item\"><li><span><a href=\"#Summary\" data-toc-modified-id=\"Summary-5.2.1\"><span class=\"toc-item-num\">5.2.1&nbsp;&nbsp;</span>Summary</a></span></li></ul></li><li><span><a href=\"#Annotations\" data-toc-modified-id=\"Annotations-5.3\"><span class=\"toc-item-num\">5.3&nbsp;&nbsp;</span>Annotations</a></span><ul class=\"toc-item\"><li><span><a href=\"#COG-functional-categories\" data-toc-modified-id=\"COG-functional-categories-5.3.1\"><span class=\"toc-item-num\">5.3.1&nbsp;&nbsp;</span>COG functional categories</a></span></li><li><span><a href=\"#Grouped-by-taxonomy\" data-toc-modified-id=\"Grouped-by-taxonomy-5.3.2\"><span class=\"toc-item-num\">5.3.2&nbsp;&nbsp;</span>Grouped by taxonomy</a></span></li></ul></li><li><span><a href=\"#humann2-db-genes\" data-toc-modified-id=\"humann2-db-genes-5.4\"><span class=\"toc-item-num\">5.4&nbsp;&nbsp;</span>humann2 db genes</a></span><ul class=\"toc-item\"><li><span><a href=\"#Summary\" data-toc-modified-id=\"Summary-5.4.1\"><span class=\"toc-item-num\">5.4.1&nbsp;&nbsp;</span>Summary</a></span><ul class=\"toc-item\"><li><span><a href=\"#By-taxonomy\" data-toc-modified-id=\"By-taxonomy-5.4.1.1\"><span class=\"toc-item-num\">5.4.1.1&nbsp;&nbsp;</span>By taxonomy</a></span></li></ul></li></ul></li></ul></li><li><span><a href=\"#sessionInfo\" data-toc-modified-id=\"sessionInfo-6\"><span class=\"toc-item-num\">6&nbsp;&nbsp;</span>sessionInfo</a></span></li></ul></div>"
   ]
  },
  {
   "cell_type": "markdown",
   "metadata": {},
   "source": [
    "# Goal\n",
    "\n",
    "* Run `LLMGAG` (metagenome assembly of genes) pipeline on animal gut microbiome metagenome study\n",
    "* study = PRJEB23642\n",
    "  * host = Minke whale"
   ]
  },
  {
   "cell_type": "markdown",
   "metadata": {},
   "source": [
    "# Var"
   ]
  },
  {
   "cell_type": "code",
   "execution_count": 1,
   "metadata": {
    "ExecuteTime": {
     "end_time": "2019-10-03T08:52:02.093779Z",
     "start_time": "2019-10-03T08:52:01.212Z"
    }
   },
   "outputs": [],
   "source": [
    "studyID = 'PRJEB23642'\n",
    "base_dir = file.path('/ebio/abt3_projects/Georg_animal_feces/data/metagenome/multi-study/BioProjects/',\n",
    "                     studyID)\n",
    "tmp_out_dir = file.path('/ebio/abt3_projects/databases_no-backup/animal_gut_metagenomes/multi-study_MG-asmbl/',\n",
    "                        studyID)\n",
    "\n",
    "work_dir = file.path(base_dir, 'LLMGAG')\n",
    "\n",
    "pipeline_dir = '/ebio/abt3_projects/methanogen_host_evo/bin/llmgag'\n",
    "threads = 24"
   ]
  },
  {
   "cell_type": "markdown",
   "metadata": {},
   "source": [
    "# Init"
   ]
  },
  {
   "cell_type": "code",
   "execution_count": 6,
   "metadata": {
    "ExecuteTime": {
     "end_time": "2019-10-04T08:52:47.466001Z",
     "start_time": "2019-10-04T08:52:47.418Z"
    }
   },
   "outputs": [],
   "source": [
    "library(dplyr)\n",
    "library(tidyr)\n",
    "library(ggplot2)\n",
    "library(data.table)\n",
    "set.seed(8304)\n",
    "\n",
    "source('/ebio/abt3_projects/Georg_animal_feces/code/misc_r_functions/init.R')"
   ]
  },
  {
   "cell_type": "code",
   "execution_count": 3,
   "metadata": {
    "ExecuteTime": {
     "end_time": "2019-10-03T08:52:04.816756Z",
     "start_time": "2019-10-03T08:52:02.937Z"
    }
   },
   "outputs": [
    {
     "name": "stdout",
     "output_type": "stream",
     "text": [
      "Directory already exists: /ebio/abt3_projects/Georg_animal_feces/data/metagenome/multi-study/BioProjects//PRJEB23642 \n",
      "Directory already exists: /ebio/abt3_projects/databases_no-backup/animal_gut_metagenomes/multi-study_MG-asmbl//PRJEB23642 \n",
      "Created directory: /ebio/abt3_projects/Georg_animal_feces/data/metagenome/multi-study/BioProjects//PRJEB23642/LLMGAG \n"
     ]
    }
   ],
   "source": [
    "make_dir(base_dir)\n",
    "make_dir(tmp_out_dir)\n",
    "make_dir(work_dir)"
   ]
  },
  {
   "cell_type": "markdown",
   "metadata": {},
   "source": [
    "# LLMGAG"
   ]
  },
  {
   "cell_type": "markdown",
   "metadata": {},
   "source": [
    "## Setup"
   ]
  },
  {
   "cell_type": "code",
   "execution_count": 4,
   "metadata": {
    "ExecuteTime": {
     "end_time": "2019-10-03T08:54:30.845814Z",
     "start_time": "2019-10-03T08:54:30.792Z"
    }
   },
   "outputs": [
    {
     "name": "stdout",
     "output_type": "stream",
     "text": [
      "#-- I/O --#\n",
      "# table with sample --> read_file information\n",
      "samples_file: /ebio/abt3_projects/Georg_animal_feces/data/metagenome/multi-study/BioProjects/PRJEB23642/LLMGQC/final/samples.txt\n",
      "\n",
      "# output location\n",
      "output_dir: /ebio/abt3_projects/Georg_animal_feces/data/metagenome/multi-study/BioProjects/PRJEB23642/LLMGAG/\n",
      "\n",
      "#-- database --#\n",
      "## eggnog mapper\n",
      "eggnog_diamond_db: /ebio/abt3_projects/databases_no-backup/Eggnog/v2/eggnog_proteins.dmnd\n",
      "eggnog_db: /ebio/abt3_projects/databases_no-backup/Eggnog/v2/eggnog.db\n",
      "## mmseqs taxonomy\n",
      "mmseqs_tax_db: /ebio/abt3_projects/databases_no-backup/uniclust/uniclust50/uniclust50_2018_08_consensus\n",
      "## checkM\n",
      "checkM_data: /ebio/abt3_projects/databases_no-backup/checkM/\n",
      "## sourmash\n",
      "sourmash_db: /ebio/abt3_projects/databases_no-backup/sourmash/genbank-k31.sbt.json\n",
      "sourmash_lca_db: /ebio/abt3_projects/databases_no-backup/sourmash/genbank-k31.lca.json.gz\n",
      "# humann2 diamond\n",
      "humann2_diamond_db: /ebio/abt3_projects/databases_no-backup/humann2/uniref50/uniref50_annotated.1.1.dmnd\n",
      "# empanada\n",
      "empanada_kegg_db: /ebio/abt3_projects/databases_no-backup/empanada/KOvsPATHWAY_BACTERIAL_KEGG_2013_07_15.tab\n",
      "empanada_ptwy_db: /ebio/abt3_projects/databases_no-backup/empanada/map_kegg-pwy_name.txt.gz\n",
      "\n",
      "#-- main params --#\n",
      "## co-assemble all samples together or each sample individually?\n",
      "all_sample_coassembly: False\n",
      "\n",
      "#-- software parameters --#\n",
      "# Notes:\n",
      "## Use \"Skip\" to skip any step. If no params, just use \"\"\n",
      "## Note: You must skip either metacompass_megahit or metacompass_metaspades (or both)\n",
      "params:\n",
      "  # reads\n",
      "  subsample_reads: 20000000\n",
      "  fastqc_on_raw: \"\"\n",
      "  # assembly\n",
      "  plass: --num-iterations 12 --min-seq-id 0.9\n",
      "  # gene clustering\n",
      "  linclust: --min-seq-id 0.90 -c 0.9 --kmer-per-seq 50\n",
      "  # annotation\n",
      "  eggnog_mapper_jobs: 20    # number of parallel batched jobs \n",
      "  eggnog_mapper: \"\"\n",
      "  eggnog_mapper_annot: \"\"\n",
      "  # pathways\n",
      "  empanada: --abundance_threshold 0.0 \n",
      "  # taxonomy\n",
      "  mmseqs_tax_jobs: 20       # number of parallel batched jobs\n",
      "  mmseqs_tax: -e 1e-5 --max-seqs 200 --lca-ranks \"kingdom:phylum:class:order:family:genus:species\"\n",
      "  # mapping\n",
      "  mmseqs_map: Skip #-s 2 -c 0.9 --cov-mode 2\n",
      "  mmseqs_blast_filter: --qcov 0.95 --seq-id 0.95 --e-value 1e-20\n",
      "  mmseqs_blast_to_bam: --mapq 30\n",
      "  merge_tables: --no-dask    # dask is currently broken\n",
      "  # formatting for humann2 db\n",
      "  diamond: --evalue 1e-5 --sensitive\n",
      "  diamond_db_to_mem: True\n",
      "\n",
      "#-- snakemake pipeline --#\n",
      "pipeline:\n",
      "  snakemake_folder: ./\n",
      "  script_folder: bin/scripts/\n",
      "  temp_folder: /tmp/global/\n"
     ]
    }
   ],
   "source": [
    "cat_file(file.path(work_dir, 'config.yaml'))"
   ]
  },
  {
   "cell_type": "markdown",
   "metadata": {},
   "source": [
    "### Run"
   ]
  },
  {
   "cell_type": "markdown",
   "metadata": {},
   "source": [
    "```{bash}\n",
    "(snakemake_dev) @ rick:/ebio/abt3_projects/methanogen_host_evo/bin/llmgag\n",
    "$ screen -L -S llmgag-PRJEB23642 ./snakemake_sge.sh /ebio/abt3_projects/Georg_animal_feces/data/metagenome/multi-study/BioProjects/PRJEB23642/LLMGAG/config.yaml cluster.json /ebio/abt3_projects/Georg_animal_feces/data/metagenome/multi-study/BioProjects/PRJEB23642/LLMGAG/SGE_log 24\n",
    "```"
   ]
  },
  {
   "cell_type": "code",
   "execution_count": 5,
   "metadata": {
    "ExecuteTime": {
     "end_time": "2019-10-03T09:03:37.957594Z",
     "start_time": "2019-10-03T09:03:37.884Z"
    }
   },
   "outputs": [
    {
     "name": "stdout",
     "output_type": "stream",
     "text": [
      "LLMGAG\n",
      "======\n",
      "\n",
      "Ley Lab Metagenome Assembly of Genes (LLMGAG)\n",
      "\n",
      "* Version: 0.1.3\n",
      "* Authors:\n",
      "  * Nick Youngblut <nyoungb2@gmail.com>\n",
      "* Maintainers:\n",
      "  * Nick Youngblut <nyoungb2@gmail.com>\n",
      "\n",
      "--- conda envs ---\n",
      "==> /ebio/abt3_projects/methanogen_host_evo/bin/llmgag/bin/envs/annotate.yaml <==\n",
      "channels: !!python/tuple\n",
      "- bioconda\n",
      "dependencies:\n",
      "- pigz\n",
      "- bioconda::fasta-splitter\n",
      "- bioconda::eggnog-mapper\n",
      "\n",
      "==> /ebio/abt3_projects/methanogen_host_evo/bin/llmgag/bin/envs/checkm.yaml <==\n",
      "channels: !!python/tuple\n",
      "- bioconda\n",
      "dependencies:\n",
      "- python=2\n",
      "- pigz\n",
      "- bioconda::prodigal\n",
      "- bioconda::pplacer\n",
      "- bioconda::checkm-genome\n",
      "\n",
      "==> /ebio/abt3_projects/methanogen_host_evo/bin/llmgag/bin/envs/das_tool.yaml <==\n",
      "channels: !!python/tuple\n",
      "- r\n",
      "- bioconda\n",
      "dependencies:\n",
      "- pigz\n",
      "- ruby\n",
      "- r::r-base\n",
      "- r::r-data.table\n",
      "- r::r-domc\n",
      "- r::r-ggplot2\n",
      "- bioconda::pullseq\n",
      "- bioconda::prodigal\n",
      "- bioconda::blast\n",
      "- bioconda::diamond\n",
      "==> /ebio/abt3_projects/methanogen_host_evo/bin/llmgag/bin/envs/dask.yaml <==\n",
      "channels: !!python/tuple\n",
      "- conda-forge\n",
      "dependencies:\n",
      "- conda-forge::dask=0.18.1\n",
      "\n",
      "==> /ebio/abt3_projects/methanogen_host_evo/bin/llmgag/bin/envs/empanda.yaml <==\n",
      "channels: !!python/tuple\n",
      "- bioconda\n",
      "- conda-forge\n",
      "dependencies:\n",
      "- pigz\n",
      "- conda-forge::numpy=1.15\n",
      "- conda-forge::pandas\n",
      "- conda-forge::r-argparse\n",
      "- conda-forge::r-dplyr\n",
      "- conda-forge::r-tidyr\n",
      "- conda-forge::r-stringr\n",
      "- conda-forge::r-data.table\n",
      "- pip:\n",
      "  - empanada\n",
      "\n",
      "==> /ebio/abt3_projects/methanogen_host_evo/bin/llmgag/bin/envs/hadley.yaml <==\n",
      "channels: !!python/tuple\n",
      "- conda-forge\n",
      "dependencies:\n",
      "- conda-forge::r-ape\n",
      "- conda-forge::r-dplyr\n",
      "- conda-forge::r-tidyr\n",
      "- conda-forge::r-ggplot2\n",
      "\n",
      "==> /ebio/abt3_projects/methanogen_host_evo/bin/llmgag/bin/envs/humann2.yaml <==\n",
      "channels: !!python/tuple\n",
      "- bioconda\n",
      "dependencies:\n",
      "- pigz\n",
      "- bioconda::prodigal\n",
      "- bioconda::diamond=0.8.36\n",
      "\n",
      "==> /ebio/abt3_projects/methanogen_host_evo/bin/llmgag/bin/envs/metabat2.yaml <==\n",
      "channels: !!python/tuple\n",
      "- BioBuilds\n",
      "- bioconda\n",
      "dependencies:\n",
      "- pigz\n",
      "- python=2.7\n",
      "- BioBuilds::boost>=1.55.0\n",
      "- scons>=2.1.0\n",
      "- zlib>=1.2.4\n",
      "- BioBuilds::binutils>=2.2.2\n",
      "\n",
      "==> /ebio/abt3_projects/methanogen_host_evo/bin/llmgag/bin/envs/multiqc.yaml <==\n",
      "channels: !!python/tuple\n",
      "- bioconda\n",
      "dependencies:\n",
      "- bioconda::fastqc\n",
      "- bioconda::multiqc\n",
      "\n",
      "==> /ebio/abt3_projects/methanogen_host_evo/bin/llmgag/bin/envs/plass.yaml <==\n",
      "channels: !!python/tuple\n",
      "- bioconda\n",
      "dependencies:\n",
      "- pigz\n",
      "- bioconda::seqtk\n",
      "- bioconda::samtools\n",
      "- bioconda::mmseqs2\n",
      "- bioconda::plass\n",
      "\n",
      "==> /ebio/abt3_projects/methanogen_host_evo/bin/llmgag/bin/envs/sourmash.yaml <==\n",
      "channels: !!python/tuple\n",
      "- bioconda\n",
      "dependencies:\n",
      "- bioconda::sourmash=2.0.0a9\n",
      "\n",
      "==> /ebio/abt3_projects/methanogen_host_evo/bin/llmgag/bin/envs/vamb.yaml <==\n",
      "channels: !!python/tuple\n",
      "- bioconda\n",
      "- conda-forge\n",
      "dependencies:\n",
      "- pigz\n",
      "- pytorch\n",
      "- numpy\n",
      "- pysam"
     ]
    }
   ],
   "source": [
    "pipelineInfo(pipeline_dir)"
   ]
  },
  {
   "cell_type": "markdown",
   "metadata": {},
   "source": [
    "# Summary"
   ]
  },
  {
   "cell_type": "markdown",
   "metadata": {},
   "source": [
    "## Number of genes assembled & clustered"
   ]
  },
  {
   "cell_type": "code",
   "execution_count": 7,
   "metadata": {
    "ExecuteTime": {
     "end_time": "2019-10-04T08:53:34.002909Z",
     "start_time": "2019-10-04T08:52:52.015Z"
    }
   },
   "outputs": [
    {
     "name": "stdout",
     "output_type": "stream",
     "text": [
      "Number of assembled sequences: 119545122 \n"
     ]
    }
   ],
   "source": [
    "F = file.path(work_dir, 'assembly', 'plass', 'genes.faa')\n",
    "cmd = glue::glue('grep -c \">\" {fasta}', fasta=F)\n",
    "n_raw_seqs = system(cmd, intern=TRUE)\n",
    "cat('Number of assembled sequences:', n_raw_seqs, '\\n')"
   ]
  },
  {
   "cell_type": "code",
   "execution_count": 8,
   "metadata": {
    "ExecuteTime": {
     "end_time": "2019-10-04T08:53:34.408534Z",
     "start_time": "2019-10-04T08:52:52.511Z"
    }
   },
   "outputs": [
    {
     "name": "stdout",
     "output_type": "stream",
     "text": [
      "Number of cluster rep sequences: 150815 \n"
     ]
    }
   ],
   "source": [
    "F = file.path(work_dir, 'cluster', 'linclust', 'clusters_rep-seqs.faa')\n",
    "cmd = glue::glue('grep -c \">\" {fasta}', fasta=F)\n",
    "n_rep_seqs = system(cmd, intern=TRUE)\n",
    "cat('Number of cluster rep sequences:', n_rep_seqs, '\\n')"
   ]
  },
  {
   "cell_type": "code",
   "execution_count": 9,
   "metadata": {
    "ExecuteTime": {
     "end_time": "2019-10-04T08:53:34.521750Z",
     "start_time": "2019-10-04T08:52:52.776Z"
    }
   },
   "outputs": [
    {
     "name": "stdout",
     "output_type": "stream",
     "text": [
      "Number of humann2_db-formatted seqs: 3457 \n"
     ]
    }
   ],
   "source": [
    "F = file.path(work_dir, 'humann2_db', 'clusters_rep-seqs.faa.gz')\n",
    "cmd = glue::glue('gunzip -c {fasta} | grep -c \">\"', fasta=F)\n",
    "n_h2_seqs = system(cmd, intern=TRUE)\n",
    "cat('Number of humann2_db-formatted seqs:', n_h2_seqs, '\\n')"
   ]
  },
  {
   "cell_type": "markdown",
   "metadata": {},
   "source": [
    "## Taxonomy"
   ]
  },
  {
   "cell_type": "code",
   "execution_count": 10,
   "metadata": {
    "ExecuteTime": {
     "end_time": "2019-10-04T08:53:36.405729Z",
     "start_time": "2019-10-04T08:53:04.543Z"
    }
   },
   "outputs": [
    {
     "name": "stderr",
     "output_type": "stream",
     "text": [
      "Warning message:\n",
      "“Expected 7 pieces. Additional pieces discarded in 5 rows [24417, 46627, 48133, 105546, 144516].”Warning message:\n",
      "“Expected 7 pieces. Missing pieces filled with `NA` in 136473 rows [1, 2, 3, 4, 5, 6, 7, 8, 9, 10, 11, 13, 14, 16, 18, 19, 20, 21, 22, 23, ...].”"
     ]
    },
    {
     "name": "stdout",
     "output_type": "stream",
     "text": [
      "[1] 150815     11\n"
     ]
    },
    {
     "data": {
      "text/html": [
       "<table>\n",
       "<thead><tr><th scope=col>seqID</th><th scope=col>taxID</th><th scope=col>rank</th><th scope=col>spp</th><th scope=col>Domain</th><th scope=col>Phylum</th><th scope=col>Class</th><th scope=col>Order</th><th scope=col>Family</th><th scope=col>Genus</th><th scope=col>Species</th></tr></thead>\n",
       "<tbody>\n",
       "\t<tr><td>6d23a580ae9d42519d7d05a5924a4b3b</td><td>0                               </td><td>no rank                         </td><td>unclassified                    </td><td>                                </td><td>NA                              </td><td>NA                              </td><td>NA                              </td><td>NA                              </td><td>NA                              </td><td>NA                              </td></tr>\n",
       "\t<tr><td>953ee85db84844969abd37dba987bc52</td><td>0                               </td><td>no rank                         </td><td>unclassified                    </td><td>                                </td><td>NA                              </td><td>NA                              </td><td>NA                              </td><td>NA                              </td><td>NA                              </td><td>NA                              </td></tr>\n",
       "\t<tr><td>8dd8cac737d54673b41f35f7ee53bd37</td><td>0                               </td><td>no rank                         </td><td>unclassified                    </td><td>                                </td><td>NA                              </td><td>NA                              </td><td>NA                              </td><td>NA                              </td><td>NA                              </td><td>NA                              </td></tr>\n",
       "</tbody>\n",
       "</table>\n"
      ],
      "text/latex": [
       "\\begin{tabular}{r|lllllllllll}\n",
       " seqID & taxID & rank & spp & Domain & Phylum & Class & Order & Family & Genus & Species\\\\\n",
       "\\hline\n",
       "\t 6d23a580ae9d42519d7d05a5924a4b3b & 0                                & no rank                          & unclassified                     &                                  & NA                               & NA                               & NA                               & NA                               & NA                               & NA                              \\\\\n",
       "\t 953ee85db84844969abd37dba987bc52 & 0                                & no rank                          & unclassified                     &                                  & NA                               & NA                               & NA                               & NA                               & NA                               & NA                              \\\\\n",
       "\t 8dd8cac737d54673b41f35f7ee53bd37 & 0                                & no rank                          & unclassified                     &                                  & NA                               & NA                               & NA                               & NA                               & NA                               & NA                              \\\\\n",
       "\\end{tabular}\n"
      ],
      "text/markdown": [
       "\n",
       "seqID | taxID | rank | spp | Domain | Phylum | Class | Order | Family | Genus | Species | \n",
       "|---|---|---|\n",
       "| 6d23a580ae9d42519d7d05a5924a4b3b | 0                                | no rank                          | unclassified                     |                                  | NA                               | NA                               | NA                               | NA                               | NA                               | NA                               | \n",
       "| 953ee85db84844969abd37dba987bc52 | 0                                | no rank                          | unclassified                     |                                  | NA                               | NA                               | NA                               | NA                               | NA                               | NA                               | \n",
       "| 8dd8cac737d54673b41f35f7ee53bd37 | 0                                | no rank                          | unclassified                     |                                  | NA                               | NA                               | NA                               | NA                               | NA                               | NA                               | \n",
       "\n",
       "\n"
      ],
      "text/plain": [
       "  seqID                            taxID rank    spp          Domain Phylum\n",
       "1 6d23a580ae9d42519d7d05a5924a4b3b 0     no rank unclassified        NA    \n",
       "2 953ee85db84844969abd37dba987bc52 0     no rank unclassified        NA    \n",
       "3 8dd8cac737d54673b41f35f7ee53bd37 0     no rank unclassified        NA    \n",
       "  Class Order Family Genus Species\n",
       "1 NA    NA    NA     NA    NA     \n",
       "2 NA    NA    NA     NA    NA     \n",
       "3 NA    NA    NA     NA    NA     "
      ]
     },
     "metadata": {},
     "output_type": "display_data"
    }
   ],
   "source": [
    "# reading in taxonomy table\n",
    "## WARING: slow\n",
    "F = file.path(work_dir, 'taxonomy', 'clusters_rep-seqs_tax_db.tsv.gz')\n",
    "cmd = glue::glue('gunzip -c {file}', file=F) \n",
    "coln = c('seqID', 'taxID', 'rank', 'spp', 'lineage')\n",
    "levs = c('Domain', 'Phylum', 'Class', 'Order', 'Family', 'Genus', 'Species')\n",
    "tax = fread(cmd, sep='\\t', header=FALSE, col.names=coln, fill=TRUE) %>%\n",
    "    separate(lineage, levs, sep=':')\n",
    "tax %>% dfhead"
   ]
  },
  {
   "cell_type": "code",
   "execution_count": 11,
   "metadata": {
    "ExecuteTime": {
     "end_time": "2019-10-04T08:53:36.448284Z",
     "start_time": "2019-10-04T08:53:04.975Z"
    }
   },
   "outputs": [
    {
     "name": "stdout",
     "output_type": "stream",
     "text": [
      "[1] 150815\n"
     ]
    }
   ],
   "source": [
    "# number of sequences\n",
    "tax$seqID %>% unique %>% length %>% print"
   ]
  },
  {
   "cell_type": "code",
   "execution_count": 12,
   "metadata": {
    "ExecuteTime": {
     "end_time": "2019-10-04T08:53:36.501017Z",
     "start_time": "2019-10-04T08:53:05.095Z"
    }
   },
   "outputs": [
    {
     "name": "stdout",
     "output_type": "stream",
     "text": [
      ".\n",
      "       class       cohort       family        genus   infraclass   infraorder \n",
      "           7            2            5            6            4            6 \n",
      "     no rank        order    parvorder       phylum      species    subfamily \n",
      "      137331           65            7            1        12628            3 \n",
      "    suborder   subspecies   superclass superkingdom   superorder \n",
      "          22          655            1           13           59 \n"
     ]
    }
   ],
   "source": [
    "# which ranks found?\n",
    "tax$rank %>% table %>% print"
   ]
  },
  {
   "cell_type": "code",
   "execution_count": 13,
   "metadata": {
    "ExecuteTime": {
     "end_time": "2019-10-04T08:53:39.829479Z",
     "start_time": "2019-10-04T08:53:07.703Z"
    }
   },
   "outputs": [
    {
     "data": {
      "text/plain": [
       "   Min. 1st Qu.  Median    Mean 3rd Qu.    Max. \n",
       "      1       1       1       1       1       1 "
      ]
     },
     "metadata": {},
     "output_type": "display_data"
    }
   ],
   "source": [
    "# number of classifications per seqID\n",
    "tax %>%\n",
    "    group_by(seqID) %>%\n",
    "    summarize(n = n()) %>%\n",
    "    ungroup() %>%\n",
    "    .$n %>% summary"
   ]
  },
  {
   "cell_type": "markdown",
   "metadata": {},
   "source": [
    "### Summary"
   ]
  },
  {
   "cell_type": "code",
   "execution_count": 14,
   "metadata": {
    "ExecuteTime": {
     "end_time": "2019-10-04T08:55:34.719110Z",
     "start_time": "2019-10-04T08:55:34.522Z"
    }
   },
   "outputs": [
    {
     "name": "stdout",
     "output_type": "stream",
     "text": [
      "[1] 20  3\n"
     ]
    },
    {
     "data": {
      "text/html": [
       "<table>\n",
       "<thead><tr><th scope=col>Domain</th><th scope=col>Phylum</th><th scope=col>n</th></tr></thead>\n",
       "<tbody>\n",
       "\t<tr><td>Fungi     </td><td>Ascomycota</td><td> 29       </td></tr>\n",
       "\t<tr><td>Metazoa   </td><td>Annelida  </td><td>  1       </td></tr>\n",
       "\t<tr><td>Metazoa   </td><td>Arthropoda</td><td>138       </td></tr>\n",
       "</tbody>\n",
       "</table>\n"
      ],
      "text/latex": [
       "\\begin{tabular}{r|lll}\n",
       " Domain & Phylum & n\\\\\n",
       "\\hline\n",
       "\t Fungi      & Ascomycota &  29       \\\\\n",
       "\t Metazoa    & Annelida   &   1       \\\\\n",
       "\t Metazoa    & Arthropoda & 138       \\\\\n",
       "\\end{tabular}\n"
      ],
      "text/markdown": [
       "\n",
       "Domain | Phylum | n | \n",
       "|---|---|---|\n",
       "| Fungi      | Ascomycota |  29        | \n",
       "| Metazoa    | Annelida   |   1        | \n",
       "| Metazoa    | Arthropoda | 138        | \n",
       "\n",
       "\n"
      ],
      "text/plain": [
       "  Domain  Phylum     n  \n",
       "1 Fungi   Ascomycota  29\n",
       "2 Metazoa Annelida     1\n",
       "3 Metazoa Arthropoda 138"
      ]
     },
     "metadata": {},
     "output_type": "display_data"
    }
   ],
   "source": [
    "# summarizing taxonomy\n",
    "tax_s = tax %>%\n",
    "    filter(Domain != '',\n",
    "           Phylum != '') %>%\n",
    "    group_by(Domain, Phylum) %>%\n",
    "    summarize(n = seqID %>% unique %>% length) %>%\n",
    "    ungroup() \n",
    " \n",
    "tax_s %>% dfhead"
   ]
  },
  {
   "cell_type": "code",
   "execution_count": 19,
   "metadata": {
    "ExecuteTime": {
     "end_time": "2019-10-04T08:55:45.438769Z",
     "start_time": "2019-10-04T08:55:42.508Z"
    },
    "scrolled": false
   },
   "outputs": [
    {
     "data": {
      "image/png": "[encoded data removed]",
      "text/plain": [
       "plot without title"
      ]
     },
     "metadata": {},
     "output_type": "display_data"
    }
   ],
   "source": [
    "# plotting by phylum\n",
    "p = tax_s %>%\n",
    "    filter(n > 10) %>%\n",
    "    mutate(Phylum = Phylum %>% reorder(n)) %>%\n",
    "    ggplot(aes(Phylum, n, fill=Domain)) +\n",
    "    geom_bar(stat='identity', position='dodge') +\n",
    "    scale_y_log10() +\n",
    "    labs(y = 'No. of genes') +\n",
    "    coord_flip() +\n",
    "    theme_bw() +\n",
    "    theme(\n",
    "        axis.text.y = element_text(size=7)\n",
    "    )\n",
    "\n",
    "dims(5,4.5)\n",
    "plot(p)"
   ]
  },
  {
   "cell_type": "code",
   "execution_count": 16,
   "metadata": {
    "ExecuteTime": {
     "end_time": "2019-10-04T08:55:37.326986Z",
     "start_time": "2019-10-04T08:55:36.379Z"
    }
   },
   "outputs": [
    {
     "data": {
      "text/html": [
       "<table>\n",
       "<thead><tr><th scope=col>Domain</th><th scope=col>Phylum</th><th scope=col>n</th></tr></thead>\n",
       "<tbody>\n",
       "\t<tr><td>Metazoa        </td><td>Chordata       </td><td>13117          </td></tr>\n",
       "\t<tr><td>Viridiplantae  </td><td>Streptophyta   </td><td>  504          </td></tr>\n",
       "\t<tr><td>Metazoa        </td><td>Arthropoda     </td><td>  138          </td></tr>\n",
       "\t<tr><td>unknown        </td><td>Actinobacteria </td><td>  111          </td></tr>\n",
       "\t<tr><td>unknown        </td><td>Firmicutes     </td><td>   92          </td></tr>\n",
       "\t<tr><td>unknown        </td><td>Proteobacteria </td><td>   86          </td></tr>\n",
       "\t<tr><td>unknown        </td><td>Chlamydiae     </td><td>   63          </td></tr>\n",
       "\t<tr><td>unknown        </td><td>Apicomplexa    </td><td>   56          </td></tr>\n",
       "\t<tr><td>unknown        </td><td>unknown        </td><td>   41          </td></tr>\n",
       "\t<tr><td>Fungi          </td><td>Ascomycota     </td><td>   29          </td></tr>\n",
       "\t<tr><td>Metazoa        </td><td>Nematoda       </td><td>   26          </td></tr>\n",
       "\t<tr><td>Metazoa        </td><td>Platyhelminthes</td><td>   25          </td></tr>\n",
       "\t<tr><td>Metazoa        </td><td>unknown        </td><td>   20          </td></tr>\n",
       "\t<tr><td>uc_Eukaryota   </td><td>uc_Eukaryota   </td><td>   13          </td></tr>\n",
       "\t<tr><td>unknown        </td><td>Bacteroidetes  </td><td>    9          </td></tr>\n",
       "\t<tr><td>Metazoa        </td><td>Mollusca       </td><td>    4          </td></tr>\n",
       "\t<tr><td>unknown        </td><td>Fusobacteria   </td><td>    4          </td></tr>\n",
       "\t<tr><td>unknown        </td><td>Acidobacteria  </td><td>    2          </td></tr>\n",
       "\t<tr><td>Metazoa        </td><td>Annelida       </td><td>    1          </td></tr>\n",
       "\t<tr><td>unknown        </td><td>Verrucomicrobia</td><td>    1          </td></tr>\n",
       "</tbody>\n",
       "</table>\n"
      ],
      "text/latex": [
       "\\begin{tabular}{r|lll}\n",
       " Domain & Phylum & n\\\\\n",
       "\\hline\n",
       "\t Metazoa         & Chordata        & 13117          \\\\\n",
       "\t Viridiplantae   & Streptophyta    &   504          \\\\\n",
       "\t Metazoa         & Arthropoda      &   138          \\\\\n",
       "\t unknown         & Actinobacteria  &   111          \\\\\n",
       "\t unknown         & Firmicutes      &    92          \\\\\n",
       "\t unknown         & Proteobacteria  &    86          \\\\\n",
       "\t unknown         & Chlamydiae      &    63          \\\\\n",
       "\t unknown         & Apicomplexa     &    56          \\\\\n",
       "\t unknown         & unknown         &    41          \\\\\n",
       "\t Fungi           & Ascomycota      &    29          \\\\\n",
       "\t Metazoa         & Nematoda        &    26          \\\\\n",
       "\t Metazoa         & Platyhelminthes &    25          \\\\\n",
       "\t Metazoa         & unknown         &    20          \\\\\n",
       "\t uc\\_Eukaryota    & uc\\_Eukaryota    &    13            \\\\\n",
       "\t unknown         & Bacteroidetes   &     9          \\\\\n",
       "\t Metazoa         & Mollusca        &     4          \\\\\n",
       "\t unknown         & Fusobacteria    &     4          \\\\\n",
       "\t unknown         & Acidobacteria   &     2          \\\\\n",
       "\t Metazoa         & Annelida        &     1          \\\\\n",
       "\t unknown         & Verrucomicrobia &     1          \\\\\n",
       "\\end{tabular}\n"
      ],
      "text/markdown": [
       "\n",
       "Domain | Phylum | n | \n",
       "|---|---|---|---|---|---|---|---|---|---|---|---|---|---|---|---|---|---|---|---|\n",
       "| Metazoa         | Chordata        | 13117           | \n",
       "| Viridiplantae   | Streptophyta    |   504           | \n",
       "| Metazoa         | Arthropoda      |   138           | \n",
       "| unknown         | Actinobacteria  |   111           | \n",
       "| unknown         | Firmicutes      |    92           | \n",
       "| unknown         | Proteobacteria  |    86           | \n",
       "| unknown         | Chlamydiae      |    63           | \n",
       "| unknown         | Apicomplexa     |    56           | \n",
       "| unknown         | unknown         |    41           | \n",
       "| Fungi           | Ascomycota      |    29           | \n",
       "| Metazoa         | Nematoda        |    26           | \n",
       "| Metazoa         | Platyhelminthes |    25           | \n",
       "| Metazoa         | unknown         |    20           | \n",
       "| uc_Eukaryota    | uc_Eukaryota    |    13           | \n",
       "| unknown         | Bacteroidetes   |     9           | \n",
       "| Metazoa         | Mollusca        |     4           | \n",
       "| unknown         | Fusobacteria    |     4           | \n",
       "| unknown         | Acidobacteria   |     2           | \n",
       "| Metazoa         | Annelida        |     1           | \n",
       "| unknown         | Verrucomicrobia |     1           | \n",
       "\n",
       "\n"
      ],
      "text/plain": [
       "   Domain        Phylum          n    \n",
       "1  Metazoa       Chordata        13117\n",
       "2  Viridiplantae Streptophyta      504\n",
       "3  Metazoa       Arthropoda        138\n",
       "4  unknown       Actinobacteria    111\n",
       "5  unknown       Firmicutes         92\n",
       "6  unknown       Proteobacteria     86\n",
       "7  unknown       Chlamydiae         63\n",
       "8  unknown       Apicomplexa        56\n",
       "9  unknown       unknown            41\n",
       "10 Fungi         Ascomycota         29\n",
       "11 Metazoa       Nematoda           26\n",
       "12 Metazoa       Platyhelminthes    25\n",
       "13 Metazoa       unknown            20\n",
       "14 uc_Eukaryota  uc_Eukaryota       13\n",
       "15 unknown       Bacteroidetes       9\n",
       "16 Metazoa       Mollusca            4\n",
       "17 unknown       Fusobacteria        4\n",
       "18 unknown       Acidobacteria       2\n",
       "19 Metazoa       Annelida            1\n",
       "20 unknown       Verrucomicrobia     1"
      ]
     },
     "metadata": {},
     "output_type": "display_data"
    }
   ],
   "source": [
    "# top phyla\n",
    "tax_s %>% \n",
    "    arrange(-n) %>%\n",
    "    head(n=30)"
   ]
  },
  {
   "cell_type": "code",
   "execution_count": 17,
   "metadata": {
    "ExecuteTime": {
     "end_time": "2019-10-04T08:55:37.466198Z",
     "start_time": "2019-10-04T08:55:36.777Z"
    }
   },
   "outputs": [
    {
     "name": "stdout",
     "output_type": "stream",
     "text": [
      "[1] 49  4\n"
     ]
    },
    {
     "data": {
      "text/html": [
       "<table>\n",
       "<thead><tr><th scope=col>Domain</th><th scope=col>Phylum</th><th scope=col>Class</th><th scope=col>n</th></tr></thead>\n",
       "<tbody>\n",
       "\t<tr><td>Fungi          </td><td>Ascomycota     </td><td>Eurotiomycetes </td><td> 1             </td></tr>\n",
       "\t<tr><td>Fungi          </td><td>Ascomycota     </td><td>Saccharomycetes</td><td>12             </td></tr>\n",
       "\t<tr><td>Fungi          </td><td>Ascomycota     </td><td>Sordariomycetes</td><td> 1             </td></tr>\n",
       "</tbody>\n",
       "</table>\n"
      ],
      "text/latex": [
       "\\begin{tabular}{r|llll}\n",
       " Domain & Phylum & Class & n\\\\\n",
       "\\hline\n",
       "\t Fungi           & Ascomycota      & Eurotiomycetes  &  1             \\\\\n",
       "\t Fungi           & Ascomycota      & Saccharomycetes & 12             \\\\\n",
       "\t Fungi           & Ascomycota      & Sordariomycetes &  1             \\\\\n",
       "\\end{tabular}\n"
      ],
      "text/markdown": [
       "\n",
       "Domain | Phylum | Class | n | \n",
       "|---|---|---|\n",
       "| Fungi           | Ascomycota      | Eurotiomycetes  |  1              | \n",
       "| Fungi           | Ascomycota      | Saccharomycetes | 12              | \n",
       "| Fungi           | Ascomycota      | Sordariomycetes |  1              | \n",
       "\n",
       "\n"
      ],
      "text/plain": [
       "  Domain Phylum     Class           n \n",
       "1 Fungi  Ascomycota Eurotiomycetes   1\n",
       "2 Fungi  Ascomycota Saccharomycetes 12\n",
       "3 Fungi  Ascomycota Sordariomycetes  1"
      ]
     },
     "metadata": {},
     "output_type": "display_data"
    }
   ],
   "source": [
    "# summarizing taxonomy\n",
    "tax_s = tax %>%\n",
    "    filter(Domain != '',\n",
    "           Phylum != '',\n",
    "           Class != '') %>%\n",
    "    group_by(Domain, Phylum, Class) %>%\n",
    "    summarize(n = seqID %>% unique %>% length) %>%\n",
    "    ungroup() \n",
    " \n",
    "tax_s %>% dfhead"
   ]
  },
  {
   "cell_type": "code",
   "execution_count": 18,
   "metadata": {
    "ExecuteTime": {
     "end_time": "2019-10-04T08:55:37.542953Z",
     "start_time": "2019-10-04T08:55:37.017Z"
    }
   },
   "outputs": [
    {
     "data": {
      "text/html": [
       "<table>\n",
       "<thead><tr><th scope=col>Domain</th><th scope=col>Phylum</th><th scope=col>Class</th><th scope=col>n</th></tr></thead>\n",
       "<tbody>\n",
       "\t<tr><td>Metazoa            </td><td>Chordata           </td><td>Mammalia           </td><td>12612              </td></tr>\n",
       "\t<tr><td>Viridiplantae      </td><td>Streptophyta       </td><td>Liliopsida         </td><td>  481              </td></tr>\n",
       "\t<tr><td>Metazoa            </td><td>Chordata           </td><td>unknown            </td><td>  200              </td></tr>\n",
       "\t<tr><td>Metazoa            </td><td>Chordata           </td><td>Aves               </td><td>  135              </td></tr>\n",
       "\t<tr><td>Metazoa            </td><td>Chordata           </td><td>Actinopteri        </td><td>  134              </td></tr>\n",
       "\t<tr><td>unknown            </td><td>Actinobacteria     </td><td>Actinobacteria     </td><td>   94              </td></tr>\n",
       "\t<tr><td>Metazoa            </td><td>Arthropoda         </td><td>Insecta            </td><td>   92              </td></tr>\n",
       "\t<tr><td>unknown            </td><td>Proteobacteria     </td><td>Betaproteobacteria </td><td>   78              </td></tr>\n",
       "\t<tr><td>unknown            </td><td>Chlamydiae         </td><td>Chlamydiia         </td><td>   63              </td></tr>\n",
       "\t<tr><td>unknown            </td><td>Firmicutes         </td><td>Bacilli            </td><td>   58              </td></tr>\n",
       "\t<tr><td>unknown            </td><td>Apicomplexa        </td><td>Aconoidasida       </td><td>   56              </td></tr>\n",
       "\t<tr><td>unknown            </td><td>unknown            </td><td>unknown            </td><td>   41              </td></tr>\n",
       "\t<tr><td>Metazoa            </td><td>Arthropoda         </td><td>Arachnida          </td><td>   32              </td></tr>\n",
       "\t<tr><td>Metazoa            </td><td>Chordata           </td><td>Amphibia           </td><td>   31              </td></tr>\n",
       "\t<tr><td>unknown            </td><td>Firmicutes         </td><td>Clostridia         </td><td>   31              </td></tr>\n",
       "\t<tr><td>Viridiplantae      </td><td>Streptophyta       </td><td>unknown            </td><td>   23              </td></tr>\n",
       "\t<tr><td>Metazoa            </td><td>unknown            </td><td>unknown            </td><td>   20              </td></tr>\n",
       "\t<tr><td>Metazoa            </td><td>Nematoda           </td><td>Chromadorea        </td><td>   17              </td></tr>\n",
       "\t<tr><td>unknown            </td><td>Actinobacteria     </td><td>Coriobacteriia     </td><td>   17              </td></tr>\n",
       "\t<tr><td>Fungi              </td><td>Ascomycota         </td><td>unknown            </td><td>   15              </td></tr>\n",
       "\t<tr><td>Metazoa            </td><td>Platyhelminthes    </td><td>Trematoda          </td><td>   14              </td></tr>\n",
       "\t<tr><td>uc_Eukaryota       </td><td>uc_Eukaryota       </td><td>uc_Eukaryota       </td><td>   13              </td></tr>\n",
       "\t<tr><td>Fungi              </td><td>Ascomycota         </td><td>Saccharomycetes    </td><td>   12              </td></tr>\n",
       "\t<tr><td>Metazoa            </td><td>Arthropoda         </td><td>Branchiopoda       </td><td>   11              </td></tr>\n",
       "\t<tr><td>Metazoa            </td><td>Nematoda           </td><td>Enoplea            </td><td>    9              </td></tr>\n",
       "\t<tr><td>Metazoa            </td><td>Platyhelminthes    </td><td>Cestoda            </td><td>    8              </td></tr>\n",
       "\t<tr><td>unknown            </td><td>Bacteroidetes      </td><td>Bacteroidia        </td><td>    6              </td></tr>\n",
       "\t<tr><td>unknown            </td><td>Proteobacteria     </td><td>Alphaproteobacteria</td><td>    5              </td></tr>\n",
       "\t<tr><td>Metazoa            </td><td>Mollusca           </td><td>Gastropoda         </td><td>    4              </td></tr>\n",
       "\t<tr><td>unknown            </td><td>Fusobacteria       </td><td>Fusobacteriia      </td><td>    4              </td></tr>\n",
       "</tbody>\n",
       "</table>\n"
      ],
      "text/latex": [
       "\\begin{tabular}{r|llll}\n",
       " Domain & Phylum & Class & n\\\\\n",
       "\\hline\n",
       "\t Metazoa             & Chordata            & Mammalia            & 12612              \\\\\n",
       "\t Viridiplantae       & Streptophyta        & Liliopsida          &   481              \\\\\n",
       "\t Metazoa             & Chordata            & unknown             &   200              \\\\\n",
       "\t Metazoa             & Chordata            & Aves                &   135              \\\\\n",
       "\t Metazoa             & Chordata            & Actinopteri         &   134              \\\\\n",
       "\t unknown             & Actinobacteria      & Actinobacteria      &    94              \\\\\n",
       "\t Metazoa             & Arthropoda          & Insecta             &    92              \\\\\n",
       "\t unknown             & Proteobacteria      & Betaproteobacteria  &    78              \\\\\n",
       "\t unknown             & Chlamydiae          & Chlamydiia          &    63              \\\\\n",
       "\t unknown             & Firmicutes          & Bacilli             &    58              \\\\\n",
       "\t unknown             & Apicomplexa         & Aconoidasida        &    56              \\\\\n",
       "\t unknown             & unknown             & unknown             &    41              \\\\\n",
       "\t Metazoa             & Arthropoda          & Arachnida           &    32              \\\\\n",
       "\t Metazoa             & Chordata            & Amphibia            &    31              \\\\\n",
       "\t unknown             & Firmicutes          & Clostridia          &    31              \\\\\n",
       "\t Viridiplantae       & Streptophyta        & unknown             &    23              \\\\\n",
       "\t Metazoa             & unknown             & unknown             &    20              \\\\\n",
       "\t Metazoa             & Nematoda            & Chromadorea         &    17              \\\\\n",
       "\t unknown             & Actinobacteria      & Coriobacteriia      &    17              \\\\\n",
       "\t Fungi               & Ascomycota          & unknown             &    15              \\\\\n",
       "\t Metazoa             & Platyhelminthes     & Trematoda           &    14              \\\\\n",
       "\t uc\\_Eukaryota        & uc\\_Eukaryota        & uc\\_Eukaryota        &    13                \\\\\n",
       "\t Fungi               & Ascomycota          & Saccharomycetes     &    12              \\\\\n",
       "\t Metazoa             & Arthropoda          & Branchiopoda        &    11              \\\\\n",
       "\t Metazoa             & Nematoda            & Enoplea             &     9              \\\\\n",
       "\t Metazoa             & Platyhelminthes     & Cestoda             &     8              \\\\\n",
       "\t unknown             & Bacteroidetes       & Bacteroidia         &     6              \\\\\n",
       "\t unknown             & Proteobacteria      & Alphaproteobacteria &     5              \\\\\n",
       "\t Metazoa             & Mollusca            & Gastropoda          &     4              \\\\\n",
       "\t unknown             & Fusobacteria        & Fusobacteriia       &     4              \\\\\n",
       "\\end{tabular}\n"
      ],
      "text/markdown": [
       "\n",
       "Domain | Phylum | Class | n | \n",
       "|---|---|---|---|---|---|---|---|---|---|---|---|---|---|---|---|---|---|---|---|---|---|---|---|---|---|---|---|---|---|\n",
       "| Metazoa             | Chordata            | Mammalia            | 12612               | \n",
       "| Viridiplantae       | Streptophyta        | Liliopsida          |   481               | \n",
       "| Metazoa             | Chordata            | unknown             |   200               | \n",
       "| Metazoa             | Chordata            | Aves                |   135               | \n",
       "| Metazoa             | Chordata            | Actinopteri         |   134               | \n",
       "| unknown             | Actinobacteria      | Actinobacteria      |    94               | \n",
       "| Metazoa             | Arthropoda          | Insecta             |    92               | \n",
       "| unknown             | Proteobacteria      | Betaproteobacteria  |    78               | \n",
       "| unknown             | Chlamydiae          | Chlamydiia          |    63               | \n",
       "| unknown             | Firmicutes          | Bacilli             |    58               | \n",
       "| unknown             | Apicomplexa         | Aconoidasida        |    56               | \n",
       "| unknown             | unknown             | unknown             |    41               | \n",
       "| Metazoa             | Arthropoda          | Arachnida           |    32               | \n",
       "| Metazoa             | Chordata            | Amphibia            |    31               | \n",
       "| unknown             | Firmicutes          | Clostridia          |    31               | \n",
       "| Viridiplantae       | Streptophyta        | unknown             |    23               | \n",
       "| Metazoa             | unknown             | unknown             |    20               | \n",
       "| Metazoa             | Nematoda            | Chromadorea         |    17               | \n",
       "| unknown             | Actinobacteria      | Coriobacteriia      |    17               | \n",
       "| Fungi               | Ascomycota          | unknown             |    15               | \n",
       "| Metazoa             | Platyhelminthes     | Trematoda           |    14               | \n",
       "| uc_Eukaryota        | uc_Eukaryota        | uc_Eukaryota        |    13               | \n",
       "| Fungi               | Ascomycota          | Saccharomycetes     |    12               | \n",
       "| Metazoa             | Arthropoda          | Branchiopoda        |    11               | \n",
       "| Metazoa             | Nematoda            | Enoplea             |     9               | \n",
       "| Metazoa             | Platyhelminthes     | Cestoda             |     8               | \n",
       "| unknown             | Bacteroidetes       | Bacteroidia         |     6               | \n",
       "| unknown             | Proteobacteria      | Alphaproteobacteria |     5               | \n",
       "| Metazoa             | Mollusca            | Gastropoda          |     4               | \n",
       "| unknown             | Fusobacteria        | Fusobacteriia       |     4               | \n",
       "\n",
       "\n"
      ],
      "text/plain": [
       "   Domain        Phylum          Class               n    \n",
       "1  Metazoa       Chordata        Mammalia            12612\n",
       "2  Viridiplantae Streptophyta    Liliopsida            481\n",
       "3  Metazoa       Chordata        unknown               200\n",
       "4  Metazoa       Chordata        Aves                  135\n",
       "5  Metazoa       Chordata        Actinopteri           134\n",
       "6  unknown       Actinobacteria  Actinobacteria         94\n",
       "7  Metazoa       Arthropoda      Insecta                92\n",
       "8  unknown       Proteobacteria  Betaproteobacteria     78\n",
       "9  unknown       Chlamydiae      Chlamydiia             63\n",
       "10 unknown       Firmicutes      Bacilli                58\n",
       "11 unknown       Apicomplexa     Aconoidasida           56\n",
       "12 unknown       unknown         unknown                41\n",
       "13 Metazoa       Arthropoda      Arachnida              32\n",
       "14 Metazoa       Chordata        Amphibia               31\n",
       "15 unknown       Firmicutes      Clostridia             31\n",
       "16 Viridiplantae Streptophyta    unknown                23\n",
       "17 Metazoa       unknown         unknown                20\n",
       "18 Metazoa       Nematoda        Chromadorea            17\n",
       "19 unknown       Actinobacteria  Coriobacteriia         17\n",
       "20 Fungi         Ascomycota      unknown                15\n",
       "21 Metazoa       Platyhelminthes Trematoda              14\n",
       "22 uc_Eukaryota  uc_Eukaryota    uc_Eukaryota           13\n",
       "23 Fungi         Ascomycota      Saccharomycetes        12\n",
       "24 Metazoa       Arthropoda      Branchiopoda           11\n",
       "25 Metazoa       Nematoda        Enoplea                 9\n",
       "26 Metazoa       Platyhelminthes Cestoda                 8\n",
       "27 unknown       Bacteroidetes   Bacteroidia             6\n",
       "28 unknown       Proteobacteria  Alphaproteobacteria     5\n",
       "29 Metazoa       Mollusca        Gastropoda              4\n",
       "30 unknown       Fusobacteria    Fusobacteriia           4"
      ]
     },
     "metadata": {},
     "output_type": "display_data"
    }
   ],
   "source": [
    "# top hits\n",
    "tax_s %>% \n",
    "    arrange(-n) %>%\n",
    "    head(n=30)"
   ]
  },
  {
   "cell_type": "markdown",
   "metadata": {},
   "source": [
    "## Annotations"
   ]
  },
  {
   "cell_type": "code",
   "execution_count": 20,
   "metadata": {
    "ExecuteTime": {
     "end_time": "2019-10-04T11:14:44.956493Z",
     "start_time": "2019-10-04T11:14:44.919Z"
    }
   },
   "outputs": [],
   "source": [
    "# eggnog-mapper v2\n",
    "cols = c(\n",
    "\"query_name\",\n",
    "\"seed_eggNOG_ortholog\",\n",
    "\"seed_ortholog_evalue\",\n",
    "\"seed_ortholog_score\",\n",
    "\"Predicted_taxonomic_group\",\n",
    "\"Predicted_protein_name\",\n",
    "\"Gene_Ontology_terms\",\n",
    "\"EC_number\",\n",
    "\"KEGG_ko\",\n",
    "\"KEGG_Pathway\",\n",
    "\"KEGG_Module\",\n",
    "\"KEGG_Reaction\",\n",
    "\"KEGG_rclass\",\n",
    "\"BRITE\",\n",
    "\"KEGG_TC\",\n",
    "\"CAZy\",\n",
    "\"BiGG_Reaction\",\n",
    "\"tax_scope__eggNOG_taxonomic_level_used_for_annotation\",\n",
    "\"eggNOG_OGs\",\n",
    "\"bestOG\",\n",
    "\"COG_Functional_Category\",\n",
    "\"eggNOG_free_text_description\"\n",
    ")"
   ]
  },
  {
   "cell_type": "code",
   "execution_count": 21,
   "metadata": {
    "ExecuteTime": {
     "end_time": "2019-10-04T11:14:45.651902Z",
     "start_time": "2019-10-04T11:14:45.237Z"
    }
   },
   "outputs": [
    {
     "name": "stdout",
     "output_type": "stream",
     "text": [
      "[1] 13756    21\n"
     ]
    },
    {
     "data": {
      "text/html": [
       "<table>\n",
       "<thead><tr><th scope=col>query_name</th><th scope=col>seed_eggNOG_ortholog</th><th scope=col>seed_ortholog_evalue</th><th scope=col>seed_ortholog_score</th><th scope=col>Predicted_taxonomic_group</th><th scope=col>Predicted_protein_name</th><th scope=col>EC_number</th><th scope=col>KEGG_ko</th><th scope=col>KEGG_Pathway</th><th scope=col>KEGG_Module</th><th scope=col>⋯</th><th scope=col>KEGG_rclass</th><th scope=col>BRITE</th><th scope=col>KEGG_TC</th><th scope=col>CAZy</th><th scope=col>BiGG_Reaction</th><th scope=col>tax_scope__eggNOG_taxonomic_level_used_for_annotation</th><th scope=col>eggNOG_OGs</th><th scope=col>bestOG</th><th scope=col>COG_Functional_Category</th><th scope=col>eggNOG_free_text_description</th></tr></thead>\n",
       "<tbody>\n",
       "\t<tr><td>eee6fbcd282e4b95ac14d7faa0b955a4                                                                        </td><td>9940.ENSOARP00000007110                                                                                 </td><td>3.4e-41                                                                                                 </td><td>174.1                                                                                                   </td><td>Cetartiodactyla                                                                                         </td><td>                                                                                                        </td><td>                                                                                                        </td><td>ko:K10175                                                                                               </td><td>                                                                                                        </td><td>                                                                                                        </td><td>⋯                                                                                                       </td><td>                                                                                                        </td><td>ko00000,ko03000                                                                                         </td><td>                                                                                                        </td><td>                                                                                                        </td><td>                                                                                                        </td><td>Mammalia                                                                                                </td><td>38DJI@33154,3BP1X@33208,3DETD@33213,3JQBZ@40674,48JG6@7711,49GIB@7742,4JCBN@91561,KOG1075@1,KOG1075@2759</td><td>NA|NA|NA                                                                                                </td><td>S                                                                                                       </td><td>Reverse transcriptase (RNA-dependent DNA polymerase)                                                    </td></tr>\n",
       "\t<tr><td>9b5aced26ca6414fb74397b58d080f65                                                                        </td><td>9767.XP_007190003.1                                                                                     </td><td>2.1e-34                                                                                                 </td><td>152.1                                                                                                   </td><td>Cetartiodactyla                                                                                         </td><td>                                                                                                        </td><td>                                                                                                        </td><td>                                                                                                        </td><td>                                                                                                        </td><td>                                                                                                        </td><td>⋯                                                                                                       </td><td>                                                                                                        </td><td>                                                                                                        </td><td>                                                                                                        </td><td>                                                                                                        </td><td>                                                                                                        </td><td>Mammalia                                                                                                </td><td>29NW0@1,2RW76@2759,3A58R@33154,3BS92@33208,3D856@33213,3JHHC@40674,48FQN@7711,49CPN@7742,4JC0Q@91561    </td><td>NA|NA|NA                                                                                                </td><td>                                                                                                        </td><td>                                                                                                        </td></tr>\n",
       "\t<tr><td>b8271dad1d5e439b8ffa8b098a963fad                                                                        </td><td>9940.ENSOARP00000001217                                                                                 </td><td>2.3e-80                                                                                                 </td><td>305.1                                                                                                   </td><td>Cetartiodactyla                                                                                         </td><td>                                                                                                        </td><td>                                                                                                        </td><td>                                                                                                        </td><td>                                                                                                        </td><td>                                                                                                        </td><td>⋯                                                                                                       </td><td>                                                                                                        </td><td>                                                                                                        </td><td>                                                                                                        </td><td>                                                                                                        </td><td>                                                                                                        </td><td>Mammalia                                                                                                </td><td>39RKB@33154,3BK61@33208,3E43G@33213,3JJ5B@40674,48JXY@7711,49GK2@7742,4JCTV@91561,KOG1075@1,KOG1075@2759</td><td>NA|NA|NA                                                                                                </td><td>S                                                                                                       </td><td>Endonuclease-reverse transcriptase                                                                      </td></tr>\n",
       "</tbody>\n",
       "</table>\n"
      ],
      "text/latex": [
       "\\begin{tabular}{r|lllllllllllllllllllll}\n",
       " query\\_name & seed\\_eggNOG\\_ortholog & seed\\_ortholog\\_evalue & seed\\_ortholog\\_score & Predicted\\_taxonomic\\_group & Predicted\\_protein\\_name & EC\\_number & KEGG\\_ko & KEGG\\_Pathway & KEGG\\_Module & ⋯ & KEGG\\_rclass & BRITE & KEGG\\_TC & CAZy & BiGG\\_Reaction & tax\\_scope\\_\\_eggNOG\\_taxonomic\\_level\\_used\\_for\\_annotation & eggNOG\\_OGs & bestOG & COG\\_Functional\\_Category & eggNOG\\_free\\_text\\_description\\\\\n",
       "\\hline\n",
       "\t eee6fbcd282e4b95ac14d7faa0b955a4                                                                         & 9940.ENSOARP00000007110                                                                                  & 3.4e-41                                                                                                  & 174.1                                                                                                    & Cetartiodactyla                                                                                          &                                                                                                          &                                                                                                          & ko:K10175                                                                                                &                                                                                                          &                                                                                                          & ⋯                                                                                                        &                                                                                                          & ko00000,ko03000                                                                                          &                                                                                                          &                                                                                                          &                                                                                                          & Mammalia                                                                                                 & 38DJI@33154,3BP1X@33208,3DETD@33213,3JQBZ@40674,48JG6@7711,49GIB@7742,4JCBN@91561,KOG1075@1,KOG1075@2759 & NA\\textbar{}NA\\textbar{}NA                                                                             & S                                                                                                        & Reverse transcriptase (RNA-dependent DNA polymerase)                                                    \\\\\n",
       "\t 9b5aced26ca6414fb74397b58d080f65                                                                         & 9767.XP\\_007190003.1                                                                                    & 2.1e-34                                                                                                  & 152.1                                                                                                    & Cetartiodactyla                                                                                          &                                                                                                          &                                                                                                          &                                                                                                          &                                                                                                          &                                                                                                          & ⋯                                                                                                        &                                                                                                          &                                                                                                          &                                                                                                          &                                                                                                          &                                                                                                          & Mammalia                                                                                                 & 29NW0@1,2RW76@2759,3A58R@33154,3BS92@33208,3D856@33213,3JHHC@40674,48FQN@7711,49CPN@7742,4JC0Q@91561     & NA\\textbar{}NA\\textbar{}NA                                                                             &                                                                                                          &                                                                                                         \\\\\n",
       "\t b8271dad1d5e439b8ffa8b098a963fad                                                                         & 9940.ENSOARP00000001217                                                                                  & 2.3e-80                                                                                                  & 305.1                                                                                                    & Cetartiodactyla                                                                                          &                                                                                                          &                                                                                                          &                                                                                                          &                                                                                                          &                                                                                                          & ⋯                                                                                                        &                                                                                                          &                                                                                                          &                                                                                                          &                                                                                                          &                                                                                                          & Mammalia                                                                                                 & 39RKB@33154,3BK61@33208,3E43G@33213,3JJ5B@40674,48JXY@7711,49GK2@7742,4JCTV@91561,KOG1075@1,KOG1075@2759 & NA\\textbar{}NA\\textbar{}NA                                                                             & S                                                                                                        & Endonuclease-reverse transcriptase                                                                      \\\\\n",
       "\\end{tabular}\n"
      ],
      "text/markdown": [
       "\n",
       "query_name | seed_eggNOG_ortholog | seed_ortholog_evalue | seed_ortholog_score | Predicted_taxonomic_group | Predicted_protein_name | EC_number | KEGG_ko | KEGG_Pathway | KEGG_Module | ⋯ | KEGG_rclass | BRITE | KEGG_TC | CAZy | BiGG_Reaction | tax_scope__eggNOG_taxonomic_level_used_for_annotation | eggNOG_OGs | bestOG | COG_Functional_Category | eggNOG_free_text_description | \n",
       "|---|---|---|\n",
       "| eee6fbcd282e4b95ac14d7faa0b955a4                                                                         | 9940.ENSOARP00000007110                                                                                  | 3.4e-41                                                                                                  | 174.1                                                                                                    | Cetartiodactyla                                                                                          |                                                                                                          |                                                                                                          | ko:K10175                                                                                                |                                                                                                          |                                                                                                          | ⋯                                                                                                        |                                                                                                          | ko00000,ko03000                                                                                          |                                                                                                          |                                                                                                          |                                                                                                          | Mammalia                                                                                                 | 38DJI@33154,3BP1X@33208,3DETD@33213,3JQBZ@40674,48JG6@7711,49GIB@7742,4JCBN@91561,KOG1075@1,KOG1075@2759 | NA|NA|NA                                                                                                 | S                                                                                                        | Reverse transcriptase (RNA-dependent DNA polymerase)                                                     | \n",
       "| 9b5aced26ca6414fb74397b58d080f65                                                                         | 9767.XP_007190003.1                                                                                      | 2.1e-34                                                                                                  | 152.1                                                                                                    | Cetartiodactyla                                                                                          |                                                                                                          |                                                                                                          |                                                                                                          |                                                                                                          |                                                                                                          | ⋯                                                                                                        |                                                                                                          |                                                                                                          |                                                                                                          |                                                                                                          |                                                                                                          | Mammalia                                                                                                 | 29NW0@1,2RW76@2759,3A58R@33154,3BS92@33208,3D856@33213,3JHHC@40674,48FQN@7711,49CPN@7742,4JC0Q@91561     | NA|NA|NA                                                                                                 |                                                                                                          |                                                                                                          | \n",
       "| b8271dad1d5e439b8ffa8b098a963fad                                                                         | 9940.ENSOARP00000001217                                                                                  | 2.3e-80                                                                                                  | 305.1                                                                                                    | Cetartiodactyla                                                                                          |                                                                                                          |                                                                                                          |                                                                                                          |                                                                                                          |                                                                                                          | ⋯                                                                                                        |                                                                                                          |                                                                                                          |                                                                                                          |                                                                                                          |                                                                                                          | Mammalia                                                                                                 | 39RKB@33154,3BK61@33208,3E43G@33213,3JJ5B@40674,48JXY@7711,49GK2@7742,4JCTV@91561,KOG1075@1,KOG1075@2759 | NA|NA|NA                                                                                                 | S                                                                                                        | Endonuclease-reverse transcriptase                                                                       | \n",
       "\n",
       "\n"
      ],
      "text/plain": [
       "  query_name                       seed_eggNOG_ortholog    seed_ortholog_evalue\n",
       "1 eee6fbcd282e4b95ac14d7faa0b955a4 9940.ENSOARP00000007110 3.4e-41             \n",
       "2 9b5aced26ca6414fb74397b58d080f65 9767.XP_007190003.1     2.1e-34             \n",
       "3 b8271dad1d5e439b8ffa8b098a963fad 9940.ENSOARP00000001217 2.3e-80             \n",
       "  seed_ortholog_score Predicted_taxonomic_group Predicted_protein_name\n",
       "1 174.1               Cetartiodactyla                                 \n",
       "2 152.1               Cetartiodactyla                                 \n",
       "3 305.1               Cetartiodactyla                                 \n",
       "  EC_number KEGG_ko   KEGG_Pathway KEGG_Module ⋯ KEGG_rclass BRITE          \n",
       "1           ko:K10175                          ⋯             ko00000,ko03000\n",
       "2                                              ⋯                            \n",
       "3                                              ⋯                            \n",
       "  KEGG_TC CAZy BiGG_Reaction\n",
       "1                           \n",
       "2                           \n",
       "3                           \n",
       "  tax_scope__eggNOG_taxonomic_level_used_for_annotation\n",
       "1 Mammalia                                             \n",
       "2 Mammalia                                             \n",
       "3 Mammalia                                             \n",
       "  eggNOG_OGs                                                                                              \n",
       "1 38DJI@33154,3BP1X@33208,3DETD@33213,3JQBZ@40674,48JG6@7711,49GIB@7742,4JCBN@91561,KOG1075@1,KOG1075@2759\n",
       "2 29NW0@1,2RW76@2759,3A58R@33154,3BS92@33208,3D856@33213,3JHHC@40674,48FQN@7711,49CPN@7742,4JC0Q@91561    \n",
       "3 39RKB@33154,3BK61@33208,3E43G@33213,3JJ5B@40674,48JXY@7711,49GK2@7742,4JCTV@91561,KOG1075@1,KOG1075@2759\n",
       "  bestOG   COG_Functional_Category\n",
       "1 NA|NA|NA S                      \n",
       "2 NA|NA|NA                        \n",
       "3 NA|NA|NA S                      \n",
       "  eggNOG_free_text_description                        \n",
       "1 Reverse transcriptase (RNA-dependent DNA polymerase)\n",
       "2                                                     \n",
       "3 Endonuclease-reverse transcriptase                  "
      ]
     },
     "metadata": {},
     "output_type": "display_data"
    }
   ],
   "source": [
    "F = file.path(work_dir, 'annotate', 'eggnog-mapper', 'clusters_rep-seqs.emapper.annotations.gz')\n",
    "cmd = glue::glue('gunzip -c {file}', file=F, header=FALSE) \n",
    "emap_annot = fread(cmd, sep='\\t') \n",
    "colnames(emap_annot) = cols\n",
    "emap_annot = emap_annot %>%\n",
    "    dplyr::select(-Gene_Ontology_terms)\n",
    "emap_annot %>% dfhead"
   ]
  },
  {
   "cell_type": "code",
   "execution_count": 22,
   "metadata": {
    "ExecuteTime": {
     "end_time": "2019-10-04T11:14:46.100457Z",
     "start_time": "2019-10-04T11:14:45.645Z"
    }
   },
   "outputs": [
    {
     "name": "stdout",
     "output_type": "stream",
     "text": [
      "[1] 13756\n",
      "[1] 13756    31\n"
     ]
    },
    {
     "data": {
      "text/html": [
       "<table>\n",
       "<thead><tr><th scope=col>query_name</th><th scope=col>seed_eggNOG_ortholog</th><th scope=col>seed_ortholog_evalue</th><th scope=col>seed_ortholog_score</th><th scope=col>Predicted_taxonomic_group</th><th scope=col>Predicted_protein_name</th><th scope=col>EC_number</th><th scope=col>KEGG_ko</th><th scope=col>KEGG_Pathway</th><th scope=col>KEGG_Module</th><th scope=col>⋯</th><th scope=col>taxID</th><th scope=col>rank</th><th scope=col>spp</th><th scope=col>Domain</th><th scope=col>Phylum</th><th scope=col>Class</th><th scope=col>Order</th><th scope=col>Family</th><th scope=col>Genus</th><th scope=col>Species</th></tr></thead>\n",
       "<tbody>\n",
       "\t<tr><td>eee6fbcd282e4b95ac14d7faa0b955a4</td><td>9940.ENSOARP00000007110         </td><td>3.4e-41                         </td><td>174.1                           </td><td>Cetartiodactyla                 </td><td>                                </td><td>                                </td><td>ko:K10175                       </td><td>                                </td><td>                                </td><td>⋯                               </td><td>   0                            </td><td>no rank                         </td><td>unclassified                    </td><td>                                </td><td>NA                              </td><td>NA                              </td><td>NA                              </td><td>NA                              </td><td>NA                              </td><td>NA                              </td></tr>\n",
       "\t<tr><td>9b5aced26ca6414fb74397b58d080f65</td><td>9767.XP_007190003.1             </td><td>2.1e-34                         </td><td>152.1                           </td><td>Cetartiodactyla                 </td><td>                                </td><td>                                </td><td>                                </td><td>                                </td><td>                                </td><td>⋯                               </td><td>9739                            </td><td>species                         </td><td>Tursiops truncatus              </td><td>Metazoa                         </td><td>Chordata                        </td><td>Mammalia                        </td><td>Cetacea                         </td><td>Delphinidae                     </td><td>Tursiops                        </td><td>Tursiops truncatus              </td></tr>\n",
       "\t<tr><td>b8271dad1d5e439b8ffa8b098a963fad</td><td>9940.ENSOARP00000001217         </td><td>2.3e-80                         </td><td>305.1                           </td><td>Cetartiodactyla                 </td><td>                                </td><td>                                </td><td>                                </td><td>                                </td><td>                                </td><td>⋯                               </td><td>   0                            </td><td>no rank                         </td><td>unclassified                    </td><td>                                </td><td>NA                              </td><td>NA                              </td><td>NA                              </td><td>NA                              </td><td>NA                              </td><td>NA                              </td></tr>\n",
       "</tbody>\n",
       "</table>\n"
      ],
      "text/latex": [
       "\\begin{tabular}{r|lllllllllllllllllllllllllllllll}\n",
       " query\\_name & seed\\_eggNOG\\_ortholog & seed\\_ortholog\\_evalue & seed\\_ortholog\\_score & Predicted\\_taxonomic\\_group & Predicted\\_protein\\_name & EC\\_number & KEGG\\_ko & KEGG\\_Pathway & KEGG\\_Module & ⋯ & taxID & rank & spp & Domain & Phylum & Class & Order & Family & Genus & Species\\\\\n",
       "\\hline\n",
       "\t eee6fbcd282e4b95ac14d7faa0b955a4 & 9940.ENSOARP00000007110          & 3.4e-41                          & 174.1                            & Cetartiodactyla                  &                                  &                                  & ko:K10175                        &                                  &                                  & ⋯                                &    0                             & no rank                          & unclassified                     &                                  & NA                               & NA                               & NA                               & NA                               & NA                               & NA                              \\\\\n",
       "\t 9b5aced26ca6414fb74397b58d080f65 & 9767.XP\\_007190003.1            & 2.1e-34                          & 152.1                            & Cetartiodactyla                  &                                  &                                  &                                  &                                  &                                  & ⋯                                & 9739                             & species                          & Tursiops truncatus               & Metazoa                          & Chordata                         & Mammalia                         & Cetacea                          & Delphinidae                      & Tursiops                         & Tursiops truncatus              \\\\\n",
       "\t b8271dad1d5e439b8ffa8b098a963fad & 9940.ENSOARP00000001217          & 2.3e-80                          & 305.1                            & Cetartiodactyla                  &                                  &                                  &                                  &                                  &                                  & ⋯                                &    0                             & no rank                          & unclassified                     &                                  & NA                               & NA                               & NA                               & NA                               & NA                               & NA                              \\\\\n",
       "\\end{tabular}\n"
      ],
      "text/markdown": [
       "\n",
       "query_name | seed_eggNOG_ortholog | seed_ortholog_evalue | seed_ortholog_score | Predicted_taxonomic_group | Predicted_protein_name | EC_number | KEGG_ko | KEGG_Pathway | KEGG_Module | ⋯ | taxID | rank | spp | Domain | Phylum | Class | Order | Family | Genus | Species | \n",
       "|---|---|---|\n",
       "| eee6fbcd282e4b95ac14d7faa0b955a4 | 9940.ENSOARP00000007110          | 3.4e-41                          | 174.1                            | Cetartiodactyla                  |                                  |                                  | ko:K10175                        |                                  |                                  | ⋯                                |    0                             | no rank                          | unclassified                     |                                  | NA                               | NA                               | NA                               | NA                               | NA                               | NA                               | \n",
       "| 9b5aced26ca6414fb74397b58d080f65 | 9767.XP_007190003.1              | 2.1e-34                          | 152.1                            | Cetartiodactyla                  |                                  |                                  |                                  |                                  |                                  | ⋯                                | 9739                             | species                          | Tursiops truncatus               | Metazoa                          | Chordata                         | Mammalia                         | Cetacea                          | Delphinidae                      | Tursiops                         | Tursiops truncatus               | \n",
       "| b8271dad1d5e439b8ffa8b098a963fad | 9940.ENSOARP00000001217          | 2.3e-80                          | 305.1                            | Cetartiodactyla                  |                                  |                                  |                                  |                                  |                                  | ⋯                                |    0                             | no rank                          | unclassified                     |                                  | NA                               | NA                               | NA                               | NA                               | NA                               | NA                               | \n",
       "\n",
       "\n"
      ],
      "text/plain": [
       "  query_name                       seed_eggNOG_ortholog    seed_ortholog_evalue\n",
       "1 eee6fbcd282e4b95ac14d7faa0b955a4 9940.ENSOARP00000007110 3.4e-41             \n",
       "2 9b5aced26ca6414fb74397b58d080f65 9767.XP_007190003.1     2.1e-34             \n",
       "3 b8271dad1d5e439b8ffa8b098a963fad 9940.ENSOARP00000001217 2.3e-80             \n",
       "  seed_ortholog_score Predicted_taxonomic_group Predicted_protein_name\n",
       "1 174.1               Cetartiodactyla                                 \n",
       "2 152.1               Cetartiodactyla                                 \n",
       "3 305.1               Cetartiodactyla                                 \n",
       "  EC_number KEGG_ko   KEGG_Pathway KEGG_Module ⋯ taxID rank   \n",
       "1           ko:K10175                          ⋯    0  no rank\n",
       "2                                              ⋯ 9739  species\n",
       "3                                              ⋯    0  no rank\n",
       "  spp                Domain  Phylum   Class    Order   Family      Genus   \n",
       "1 unclassified               NA       NA       NA      NA          NA      \n",
       "2 Tursiops truncatus Metazoa Chordata Mammalia Cetacea Delphinidae Tursiops\n",
       "3 unclassified               NA       NA       NA      NA          NA      \n",
       "  Species           \n",
       "1 NA                \n",
       "2 Tursiops truncatus\n",
       "3 NA                "
      ]
     },
     "metadata": {},
     "output_type": "display_data"
    }
   ],
   "source": [
    "# adding taxonomy info\n",
    "intersect(emap_annot$query_name, tax$seqID) %>% length %>% print\n",
    "\n",
    "emap_annot = emap_annot %>%\n",
    "    left_join(tax, c('query_name'='seqID'))\n",
    "\n",
    "emap_annot %>% dfhead"
   ]
  },
  {
   "cell_type": "code",
   "execution_count": 23,
   "metadata": {
    "ExecuteTime": {
     "end_time": "2019-10-04T11:14:46.137992Z",
     "start_time": "2019-10-04T11:14:45.864Z"
    }
   },
   "outputs": [
    {
     "name": "stdout",
     "output_type": "stream",
     "text": [
      "Number of rep seqs with eggnog-mapper annotations: 13756 \n"
     ]
    }
   ],
   "source": [
    "n_annot_seqs = emap_annot$query_name %>% unique %>% length\n",
    "cat('Number of rep seqs with eggnog-mapper annotations:', n_annot_seqs, '\\n')"
   ]
  },
  {
   "cell_type": "markdown",
   "metadata": {},
   "source": [
    "### COG functional categories\n",
    "\n",
    "* [wiki on categories](https://ecoliwiki.org/colipedia/index.php/Clusters_of_Orthologous_Groups_%28COGs%29)"
   ]
  },
  {
   "cell_type": "code",
   "execution_count": 24,
   "metadata": {
    "ExecuteTime": {
     "end_time": "2019-10-04T11:14:47.725739Z",
     "start_time": "2019-10-04T11:14:47.485Z"
    }
   },
   "outputs": [
    {
     "name": "stderr",
     "output_type": "stream",
     "text": [
      "Warning message:\n",
      "“Expected 5 pieces. Additional pieces discarded in 1 rows [10056].”Warning message:\n",
      "“Expected 5 pieces. Missing pieces filled with `NA` in 13752 rows [1, 2, 3, 4, 5, 6, 7, 8, 9, 10, 11, 12, 13, 14, 15, 16, 17, 18, 19, 20, ...].”"
     ]
    },
    {
     "name": "stdout",
     "output_type": "stream",
     "text": [
      "[1] 12269     2\n"
     ]
    },
    {
     "data": {
      "text/html": [
       "<table>\n",
       "<thead><tr><th scope=col>query_name</th><th scope=col>COG_func_cat</th></tr></thead>\n",
       "<tbody>\n",
       "\t<tr><td>eee6fbcd282e4b95ac14d7faa0b955a4</td><td>S                               </td></tr>\n",
       "\t<tr><td>b8271dad1d5e439b8ffa8b098a963fad</td><td>S                               </td></tr>\n",
       "\t<tr><td>9503335b4f81421ab4bf6a5613b5978f</td><td>S                               </td></tr>\n",
       "</tbody>\n",
       "</table>\n"
      ],
      "text/latex": [
       "\\begin{tabular}{r|ll}\n",
       " query\\_name & COG\\_func\\_cat\\\\\n",
       "\\hline\n",
       "\t eee6fbcd282e4b95ac14d7faa0b955a4 & S                               \\\\\n",
       "\t b8271dad1d5e439b8ffa8b098a963fad & S                               \\\\\n",
       "\t 9503335b4f81421ab4bf6a5613b5978f & S                               \\\\\n",
       "\\end{tabular}\n"
      ],
      "text/markdown": [
       "\n",
       "query_name | COG_func_cat | \n",
       "|---|---|---|\n",
       "| eee6fbcd282e4b95ac14d7faa0b955a4 | S                                | \n",
       "| b8271dad1d5e439b8ffa8b098a963fad | S                                | \n",
       "| 9503335b4f81421ab4bf6a5613b5978f | S                                | \n",
       "\n",
       "\n"
      ],
      "text/plain": [
       "  query_name                       COG_func_cat\n",
       "1 eee6fbcd282e4b95ac14d7faa0b955a4 S           \n",
       "2 b8271dad1d5e439b8ffa8b098a963fad S           \n",
       "3 9503335b4f81421ab4bf6a5613b5978f S           "
      ]
     },
     "metadata": {},
     "output_type": "display_data"
    }
   ],
   "source": [
    "# summarizing by functional group\n",
    "max_cat = emap_annot$COG_Functional_Category %>% unique %>% sapply(nchar) %>% max\n",
    "\n",
    "emap_annot_s = emap_annot %>%\n",
    "    dplyr::select(query_name, COG_Functional_Category) %>%\n",
    "    separate(COG_Functional_Category, LETTERS[1:max_cat], sep='(?<=[A-Z])') %>%\n",
    "    gather(X, COG_func_cat, -query_name) %>%\n",
    "    filter(!is.na(COG_func_cat),\n",
    "           COG_func_cat != '') %>%\n",
    "    dplyr::select(-X) \n",
    "    \n",
    "emap_annot_s %>% dfhead"
   ]
  },
  {
   "cell_type": "code",
   "execution_count": 25,
   "metadata": {
    "ExecuteTime": {
     "end_time": "2019-10-04T11:14:48.953939Z",
     "start_time": "2019-10-04T11:14:48.016Z"
    }
   },
   "outputs": [
    {
     "data": {
      "image/png": "[encoded data removed]",
      "text/plain": [
       "plot without title"
      ]
     },
     "metadata": {},
     "output_type": "display_data"
    }
   ],
   "source": [
    "# plotting summary\n",
    "p = emap_annot_s %>%\n",
    "    ggplot(aes(COG_func_cat)) +\n",
    "    geom_bar() +\n",
    "    labs(x='COG functional category', y='No. of genes') +\n",
    "    theme_bw()\n",
    "\n",
    "dims(9,3)\n",
    "plot(p)"
   ]
  },
  {
   "cell_type": "code",
   "execution_count": 26,
   "metadata": {
    "ExecuteTime": {
     "end_time": "2019-10-04T11:14:49.626743Z",
     "start_time": "2019-10-04T11:14:48.606Z"
    }
   },
   "outputs": [
    {
     "data": {
      "image/png": "[encoded data removed]",
      "text/plain": [
       "plot without title"
      ]
     },
     "metadata": {},
     "output_type": "display_data"
    }
   ],
   "source": [
    "# plotting summary\n",
    "p = emap_annot_s %>%\n",
    "    group_by(COG_func_cat) %>%\n",
    "    summarize(perc_abund = n() / n_annot_seqs * 100) %>%\n",
    "    ungroup() %>%\n",
    "    ggplot(aes(COG_func_cat, perc_abund)) +\n",
    "    geom_bar(stat='identity') +\n",
    "    labs(x='COG functional category', y='% of all genes') +\n",
    "    theme_bw() \n",
    "\n",
    "dims(9,3)\n",
    "plot(p)"
   ]
  },
  {
   "cell_type": "markdown",
   "metadata": {},
   "source": [
    "### Grouped by taxonomy"
   ]
  },
  {
   "cell_type": "code",
   "execution_count": 27,
   "metadata": {
    "ExecuteTime": {
     "end_time": "2019-10-04T11:14:51.202163Z",
     "start_time": "2019-10-04T11:14:50.429Z"
    }
   },
   "outputs": [
    {
     "name": "stderr",
     "output_type": "stream",
     "text": [
      "Warning message:\n",
      "“Expected 5 pieces. Additional pieces discarded in 1 rows [10056].”Warning message:\n",
      "“Expected 5 pieces. Missing pieces filled with `NA` in 13752 rows [1, 2, 3, 4, 5, 6, 7, 8, 9, 10, 11, 12, 13, 14, 15, 16, 17, 18, 19, 20, ...].”"
     ]
    },
    {
     "name": "stdout",
     "output_type": "stream",
     "text": [
      "[1] 12269    12\n"
     ]
    },
    {
     "data": {
      "text/html": [
       "<table>\n",
       "<thead><tr><th scope=col>query_name</th><th scope=col>COG_func_cat</th><th scope=col>taxID</th><th scope=col>rank</th><th scope=col>spp</th><th scope=col>Domain</th><th scope=col>Phylum</th><th scope=col>Class</th><th scope=col>Order</th><th scope=col>Family</th><th scope=col>Genus</th><th scope=col>Species</th></tr></thead>\n",
       "<tbody>\n",
       "\t<tr><td>eee6fbcd282e4b95ac14d7faa0b955a4</td><td>S                               </td><td>    0                           </td><td>no rank                         </td><td>unclassified                    </td><td>                                </td><td>NA                              </td><td>NA                              </td><td>NA                              </td><td>NA                              </td><td>NA                              </td><td>NA                              </td></tr>\n",
       "\t<tr><td>b8271dad1d5e439b8ffa8b098a963fad</td><td>S                               </td><td>    0                           </td><td>no rank                         </td><td>unclassified                    </td><td>                                </td><td>NA                              </td><td>NA                              </td><td>NA                              </td><td>NA                              </td><td>NA                              </td><td>NA                              </td></tr>\n",
       "\t<tr><td>9503335b4f81421ab4bf6a5613b5978f</td><td>S                               </td><td>59479                           </td><td>species                         </td><td>Rhinolophus ferrumequinum       </td><td>Metazoa                         </td><td>Chordata                        </td><td>Mammalia                        </td><td>Chiroptera                      </td><td>Rhinolophidae                   </td><td>Rhinolophus                     </td><td>Rhinolophus ferrumequinum       </td></tr>\n",
       "</tbody>\n",
       "</table>\n"
      ],
      "text/latex": [
       "\\begin{tabular}{r|llllllllllll}\n",
       " query\\_name & COG\\_func\\_cat & taxID & rank & spp & Domain & Phylum & Class & Order & Family & Genus & Species\\\\\n",
       "\\hline\n",
       "\t eee6fbcd282e4b95ac14d7faa0b955a4 & S                                &     0                            & no rank                          & unclassified                     &                                  & NA                               & NA                               & NA                               & NA                               & NA                               & NA                              \\\\\n",
       "\t b8271dad1d5e439b8ffa8b098a963fad & S                                &     0                            & no rank                          & unclassified                     &                                  & NA                               & NA                               & NA                               & NA                               & NA                               & NA                              \\\\\n",
       "\t 9503335b4f81421ab4bf6a5613b5978f & S                                & 59479                            & species                          & Rhinolophus ferrumequinum        & Metazoa                          & Chordata                         & Mammalia                         & Chiroptera                       & Rhinolophidae                    & Rhinolophus                      & Rhinolophus ferrumequinum       \\\\\n",
       "\\end{tabular}\n"
      ],
      "text/markdown": [
       "\n",
       "query_name | COG_func_cat | taxID | rank | spp | Domain | Phylum | Class | Order | Family | Genus | Species | \n",
       "|---|---|---|\n",
       "| eee6fbcd282e4b95ac14d7faa0b955a4 | S                                |     0                            | no rank                          | unclassified                     |                                  | NA                               | NA                               | NA                               | NA                               | NA                               | NA                               | \n",
       "| b8271dad1d5e439b8ffa8b098a963fad | S                                |     0                            | no rank                          | unclassified                     |                                  | NA                               | NA                               | NA                               | NA                               | NA                               | NA                               | \n",
       "| 9503335b4f81421ab4bf6a5613b5978f | S                                | 59479                            | species                          | Rhinolophus ferrumequinum        | Metazoa                          | Chordata                         | Mammalia                         | Chiroptera                       | Rhinolophidae                    | Rhinolophus                      | Rhinolophus ferrumequinum        | \n",
       "\n",
       "\n"
      ],
      "text/plain": [
       "  query_name                       COG_func_cat taxID rank   \n",
       "1 eee6fbcd282e4b95ac14d7faa0b955a4 S                0 no rank\n",
       "2 b8271dad1d5e439b8ffa8b098a963fad S                0 no rank\n",
       "3 9503335b4f81421ab4bf6a5613b5978f S            59479 species\n",
       "  spp                       Domain  Phylum   Class    Order      Family       \n",
       "1 unclassified                      NA       NA       NA         NA           \n",
       "2 unclassified                      NA       NA       NA         NA           \n",
       "3 Rhinolophus ferrumequinum Metazoa Chordata Mammalia Chiroptera Rhinolophidae\n",
       "  Genus       Species                  \n",
       "1 NA          NA                       \n",
       "2 NA          NA                       \n",
       "3 Rhinolophus Rhinolophus ferrumequinum"
      ]
     },
     "metadata": {},
     "output_type": "display_data"
    }
   ],
   "source": [
    "max_cat = emap_annot$COG_Functional_Category %>% unique %>% sapply(nchar) %>% max\n",
    "\n",
    "emap_annot_s = emap_annot %>%\n",
    "    dplyr::select(query_name, COG_Functional_Category) %>%\n",
    "    separate(COG_Functional_Category, LETTERS[1:max_cat], sep='(?<=[A-Z])') %>%\n",
    "    gather(X, COG_func_cat, -query_name) %>%\n",
    "    left_join(tax, c('query_name'='seqID')) %>%\n",
    "    filter(!is.na(COG_func_cat),\n",
    "           COG_func_cat != '') %>%\n",
    "    dplyr::select(-X) \n",
    "\n",
    "emap_annot_s %>% dfhead"
   ]
  },
  {
   "cell_type": "code",
   "execution_count": 28,
   "metadata": {
    "ExecuteTime": {
     "end_time": "2019-10-04T11:14:53.259311Z",
     "start_time": "2019-10-04T11:14:50.774Z"
    }
   },
   "outputs": [
    {
     "data": {
      "image/png": "[encoded data removed]",
      "text/plain": [
       "plot without title"
      ]
     },
     "metadata": {},
     "output_type": "display_data"
    }
   ],
   "source": [
    "# plotting summary by domain\n",
    "p = emap_annot_s %>%\n",
    "    ggplot(aes(COG_func_cat)) +\n",
    "    geom_bar() +\n",
    "    facet_wrap(~ Domain, scales='free_y') +\n",
    "    labs(x='COG functional category', y='No. of genes') +\n",
    "    theme_bw()\n",
    "\n",
    "dims(9,5)\n",
    "plot(p)"
   ]
  },
  {
   "cell_type": "code",
   "execution_count": 29,
   "metadata": {
    "ExecuteTime": {
     "end_time": "2019-10-04T11:14:55.113878Z",
     "start_time": "2019-10-04T11:14:53.190Z"
    }
   },
   "outputs": [
    {
     "data": {
      "image/png": "[encoded data removed]",
      "text/plain": [
       "plot without title"
      ]
     },
     "metadata": {},
     "output_type": "display_data"
    }
   ],
   "source": [
    "# plotting summary by phylum\n",
    "p = emap_annot_s %>%\n",
    "    group_by(Phylum) %>%\n",
    "    mutate(n = n()) %>%\n",
    "    ungroup() %>%\n",
    "    filter(n >= 1000) %>%\n",
    "    mutate(Phylum = Phylum %>% reorder(-n)) %>%\n",
    "    ggplot(aes(COG_func_cat, fill=Domain)) +\n",
    "    geom_bar() +\n",
    "    facet_wrap(~ Phylum, scales='free_y', ncol=3) +\n",
    "    labs(x='COG functional category', y='No. of genes') +\n",
    "    theme_bw()\n",
    "\n",
    "dims(10,5)\n",
    "plot(p)"
   ]
  },
  {
   "cell_type": "markdown",
   "metadata": {},
   "source": [
    "## humann2 db genes"
   ]
  },
  {
   "cell_type": "code",
   "execution_count": 30,
   "metadata": {
    "ExecuteTime": {
     "end_time": "2019-10-04T11:15:02.405645Z",
     "start_time": "2019-10-04T11:15:02.207Z"
    }
   },
   "outputs": [
    {
     "name": "stderr",
     "output_type": "stream",
     "text": [
      "Warning message:\n",
      "“Expected 2 pieces. Missing pieces filled with `NA` in 2006 rows [2, 6, 8, 12, 13, 14, 18, 19, 20, 21, 22, 23, 24, 25, 27, 29, 30, 31, 32, 34, ...].”"
     ]
    },
    {
     "name": "stdout",
     "output_type": "stream",
     "text": [
      "[1] 3457    6\n"
     ]
    },
    {
     "data": {
      "text/html": [
       "<table>\n",
       "<thead><tr><th scope=col>original_name</th><th scope=col>UniRefID</th><th scope=col>Gene_length</th><th scope=col>Genus</th><th scope=col>Species</th><th scope=col>TaxID</th></tr></thead>\n",
       "<tbody>\n",
       "\t<tr><td>d3c38ceb568b4a6480cbcedfcdc5d229</td><td>UniRef50_E2PFB3                 </td><td>59                              </td><td>Ovis                            </td><td>Ovis_aries                      </td><td>9940                            </td></tr>\n",
       "\t<tr><td>5cb545a7985844f28cc2fd17d6a74e29</td><td>UniRef50_M3XUV9                 </td><td>72                              </td><td>unclassified                    </td><td>unclassified                    </td><td>NA                              </td></tr>\n",
       "\t<tr><td>66bf0e9306454c8b841520bcde461643</td><td>UniRef50_K7E2L3                 </td><td>241                             </td><td>Macaca                          </td><td>Macaca_mulatta                  </td><td>9544                            </td></tr>\n",
       "</tbody>\n",
       "</table>\n"
      ],
      "text/latex": [
       "\\begin{tabular}{r|llllll}\n",
       " original\\_name & UniRefID & Gene\\_length & Genus & Species & TaxID\\\\\n",
       "\\hline\n",
       "\t d3c38ceb568b4a6480cbcedfcdc5d229 & UniRef50\\_E2PFB3                & 59                               & Ovis                             & Ovis\\_aries                     & 9940                            \\\\\n",
       "\t 5cb545a7985844f28cc2fd17d6a74e29 & UniRef50\\_M3XUV9                & 72                               & unclassified                     & unclassified                     & NA                              \\\\\n",
       "\t 66bf0e9306454c8b841520bcde461643 & UniRef50\\_K7E2L3                & 241                              & Macaca                           & Macaca\\_mulatta                 & 9544                            \\\\\n",
       "\\end{tabular}\n"
      ],
      "text/markdown": [
       "\n",
       "original_name | UniRefID | Gene_length | Genus | Species | TaxID | \n",
       "|---|---|---|\n",
       "| d3c38ceb568b4a6480cbcedfcdc5d229 | UniRef50_E2PFB3                  | 59                               | Ovis                             | Ovis_aries                       | 9940                             | \n",
       "| 5cb545a7985844f28cc2fd17d6a74e29 | UniRef50_M3XUV9                  | 72                               | unclassified                     | unclassified                     | NA                               | \n",
       "| 66bf0e9306454c8b841520bcde461643 | UniRef50_K7E2L3                  | 241                              | Macaca                           | Macaca_mulatta                   | 9544                             | \n",
       "\n",
       "\n"
      ],
      "text/plain": [
       "  original_name                    UniRefID        Gene_length Genus       \n",
       "1 d3c38ceb568b4a6480cbcedfcdc5d229 UniRef50_E2PFB3 59          Ovis        \n",
       "2 5cb545a7985844f28cc2fd17d6a74e29 UniRef50_M3XUV9 72          unclassified\n",
       "3 66bf0e9306454c8b841520bcde461643 UniRef50_K7E2L3 241         Macaca      \n",
       "  Species        TaxID\n",
       "1 Ovis_aries     9940 \n",
       "2 unclassified   NA   \n",
       "3 Macaca_mulatta 9544 "
      ]
     },
     "metadata": {},
     "output_type": "display_data"
    }
   ],
   "source": [
    "# gene IDs\n",
    "F = file.path(work_dir, 'humann2_db', 'clusters_rep-seqs_annot-index.tsv')\n",
    "\n",
    "hm2 = fread(F, sep='\\t', header=TRUE) %>%\n",
    "    separate(new_name, c('UniRefID', 'Gene_length', 'Taxonomy'), sep='\\\\|') %>%\n",
    "    separate(Taxonomy, c('Genus', 'Species'), sep='\\\\.s__') %>%\n",
    "    separate(Species, c('Species', 'TaxID'), sep='__taxID') %>%\n",
    "    mutate(Genus = gsub('^g__', '', Genus))\n",
    "\n",
    "hm2 %>% dfhead"
   ]
  },
  {
   "cell_type": "code",
   "execution_count": 31,
   "metadata": {
    "ExecuteTime": {
     "end_time": "2019-10-04T11:15:03.029888Z",
     "start_time": "2019-10-04T11:15:02.653Z"
    }
   },
   "outputs": [
    {
     "name": "stdout",
     "output_type": "stream",
     "text": [
      "[1] 3457\n",
      "[1] 3457   16\n"
     ]
    },
    {
     "data": {
      "text/html": [
       "<table>\n",
       "<thead><tr><th scope=col>original_name</th><th scope=col>UniRefID</th><th scope=col>Gene_length</th><th scope=col>Genus.x</th><th scope=col>Species.x</th><th scope=col>TaxID</th><th scope=col>taxID</th><th scope=col>rank</th><th scope=col>spp</th><th scope=col>Domain</th><th scope=col>Phylum</th><th scope=col>Class</th><th scope=col>Order</th><th scope=col>Family</th><th scope=col>Genus.y</th><th scope=col>Species.y</th></tr></thead>\n",
       "<tbody>\n",
       "\t<tr><td>d3c38ceb568b4a6480cbcedfcdc5d229</td><td>UniRef50_E2PFB3                 </td><td>59                              </td><td>Ovis                            </td><td>Ovis_aries                      </td><td>9940                            </td><td>9940                            </td><td>species                         </td><td>Ovis aries                      </td><td>Metazoa                         </td><td>Chordata                        </td><td>Mammalia                        </td><td>unknown                         </td><td>Bovidae                         </td><td>Ovis                            </td><td>Ovis aries                      </td></tr>\n",
       "\t<tr><td>5cb545a7985844f28cc2fd17d6a74e29</td><td>UniRef50_M3XUV9                 </td><td>72                              </td><td>unclassified                    </td><td>unclassified                    </td><td>NA                              </td><td>   0                            </td><td>no rank                         </td><td>unclassified                    </td><td>                                </td><td>NA                              </td><td>NA                              </td><td>NA                              </td><td>NA                              </td><td>NA                              </td><td>NA                              </td></tr>\n",
       "\t<tr><td>66bf0e9306454c8b841520bcde461643</td><td>UniRef50_K7E2L3                 </td><td>241                             </td><td>Macaca                          </td><td>Macaca_mulatta                  </td><td>9544                            </td><td>9544                            </td><td>species                         </td><td>Macaca mulatta                  </td><td>Metazoa                         </td><td>Chordata                        </td><td>Mammalia                        </td><td>Primates                        </td><td>Cercopithecidae                 </td><td>Macaca                          </td><td>Macaca mulatta                  </td></tr>\n",
       "</tbody>\n",
       "</table>\n"
      ],
      "text/latex": [
       "\\begin{tabular}{r|llllllllllllllll}\n",
       " original\\_name & UniRefID & Gene\\_length & Genus.x & Species.x & TaxID & taxID & rank & spp & Domain & Phylum & Class & Order & Family & Genus.y & Species.y\\\\\n",
       "\\hline\n",
       "\t d3c38ceb568b4a6480cbcedfcdc5d229 & UniRef50\\_E2PFB3                & 59                               & Ovis                             & Ovis\\_aries                     & 9940                             & 9940                             & species                          & Ovis aries                       & Metazoa                          & Chordata                         & Mammalia                         & unknown                          & Bovidae                          & Ovis                             & Ovis aries                      \\\\\n",
       "\t 5cb545a7985844f28cc2fd17d6a74e29 & UniRef50\\_M3XUV9                & 72                               & unclassified                     & unclassified                     & NA                               &    0                             & no rank                          & unclassified                     &                                  & NA                               & NA                               & NA                               & NA                               & NA                               & NA                              \\\\\n",
       "\t 66bf0e9306454c8b841520bcde461643 & UniRef50\\_K7E2L3                & 241                              & Macaca                           & Macaca\\_mulatta                 & 9544                             & 9544                             & species                          & Macaca mulatta                   & Metazoa                          & Chordata                         & Mammalia                         & Primates                         & Cercopithecidae                  & Macaca                           & Macaca mulatta                  \\\\\n",
       "\\end{tabular}\n"
      ],
      "text/markdown": [
       "\n",
       "original_name | UniRefID | Gene_length | Genus.x | Species.x | TaxID | taxID | rank | spp | Domain | Phylum | Class | Order | Family | Genus.y | Species.y | \n",
       "|---|---|---|\n",
       "| d3c38ceb568b4a6480cbcedfcdc5d229 | UniRef50_E2PFB3                  | 59                               | Ovis                             | Ovis_aries                       | 9940                             | 9940                             | species                          | Ovis aries                       | Metazoa                          | Chordata                         | Mammalia                         | unknown                          | Bovidae                          | Ovis                             | Ovis aries                       | \n",
       "| 5cb545a7985844f28cc2fd17d6a74e29 | UniRef50_M3XUV9                  | 72                               | unclassified                     | unclassified                     | NA                               |    0                             | no rank                          | unclassified                     |                                  | NA                               | NA                               | NA                               | NA                               | NA                               | NA                               | \n",
       "| 66bf0e9306454c8b841520bcde461643 | UniRef50_K7E2L3                  | 241                              | Macaca                           | Macaca_mulatta                   | 9544                             | 9544                             | species                          | Macaca mulatta                   | Metazoa                          | Chordata                         | Mammalia                         | Primates                         | Cercopithecidae                  | Macaca                           | Macaca mulatta                   | \n",
       "\n",
       "\n"
      ],
      "text/plain": [
       "  original_name                    UniRefID        Gene_length Genus.x     \n",
       "1 d3c38ceb568b4a6480cbcedfcdc5d229 UniRef50_E2PFB3 59          Ovis        \n",
       "2 5cb545a7985844f28cc2fd17d6a74e29 UniRef50_M3XUV9 72          unclassified\n",
       "3 66bf0e9306454c8b841520bcde461643 UniRef50_K7E2L3 241         Macaca      \n",
       "  Species.x      TaxID taxID rank    spp            Domain  Phylum   Class   \n",
       "1 Ovis_aries     9940  9940  species Ovis aries     Metazoa Chordata Mammalia\n",
       "2 unclassified   NA       0  no rank unclassified           NA       NA      \n",
       "3 Macaca_mulatta 9544  9544  species Macaca mulatta Metazoa Chordata Mammalia\n",
       "  Order    Family          Genus.y Species.y     \n",
       "1 unknown  Bovidae         Ovis    Ovis aries    \n",
       "2 NA       NA              NA      NA            \n",
       "3 Primates Cercopithecidae Macaca  Macaca mulatta"
      ]
     },
     "metadata": {},
     "output_type": "display_data"
    }
   ],
   "source": [
    "# adding taxonomy\n",
    "intersect(hm2$original_name, tax$seqID) %>% length %>% print\n",
    "\n",
    "hm2 = hm2 %>%\n",
    "    left_join(tax, c('original_name'='seqID'))\n",
    "\n",
    "hm2 %>% dfhead"
   ]
  },
  {
   "cell_type": "markdown",
   "metadata": {},
   "source": [
    "### Summary"
   ]
  },
  {
   "cell_type": "code",
   "execution_count": 32,
   "metadata": {
    "ExecuteTime": {
     "end_time": "2019-10-04T11:15:03.643616Z",
     "start_time": "2019-10-04T11:15:03.542Z"
    }
   },
   "outputs": [
    {
     "data": {
      "text/html": [
       "668"
      ],
      "text/latex": [
       "668"
      ],
      "text/markdown": [
       "668"
      ],
      "text/plain": [
       "[1] 668"
      ]
     },
     "metadata": {},
     "output_type": "display_data"
    }
   ],
   "source": [
    "# number of unique UniRef IDs\n",
    "hm2$UniRefID %>% unique %>% length"
   ]
  },
  {
   "cell_type": "code",
   "execution_count": 33,
   "metadata": {
    "ExecuteTime": {
     "end_time": "2019-10-04T11:15:03.976264Z",
     "start_time": "2019-10-04T11:15:03.856Z"
    }
   },
   "outputs": [
    {
     "data": {
      "text/html": [
       "<table>\n",
       "<thead><tr><th scope=col>UniRefID</th><th scope=col>n</th></tr></thead>\n",
       "<tbody>\n",
       "\t<tr><td>UniRef50_M3XUV9</td><td>190            </td></tr>\n",
       "\t<tr><td>UniRef50_E2PFB3</td><td>144            </td></tr>\n",
       "\t<tr><td>UniRef50_E2PHX8</td><td>106            </td></tr>\n",
       "\t<tr><td>UniRef50_N6V3M2</td><td>101            </td></tr>\n",
       "\t<tr><td>UniRef50_F6QE18</td><td> 85            </td></tr>\n",
       "\t<tr><td>UniRef50_O00172</td><td> 77            </td></tr>\n",
       "\t<tr><td>UniRef50_E2PHW4</td><td> 70            </td></tr>\n",
       "\t<tr><td>UniRef50_Q6RGF7</td><td> 65            </td></tr>\n",
       "\t<tr><td>UniRef50_E2PHB4</td><td> 61            </td></tr>\n",
       "\t<tr><td>UniRef50_D2H8Q7</td><td> 56            </td></tr>\n",
       "\t<tr><td>UniRef50_F6Z7U5</td><td> 52            </td></tr>\n",
       "\t<tr><td>UniRef50_F7DRX9</td><td> 52            </td></tr>\n",
       "\t<tr><td>UniRef50_D3A8R9</td><td> 49            </td></tr>\n",
       "\t<tr><td>UniRef50_F7H122</td><td> 49            </td></tr>\n",
       "\t<tr><td>UniRef50_F7BYJ7</td><td> 48            </td></tr>\n",
       "\t<tr><td>UniRef50_D2I7R1</td><td> 45            </td></tr>\n",
       "\t<tr><td>UniRef50_Q8N929</td><td> 45            </td></tr>\n",
       "\t<tr><td>UniRef50_F6TZD0</td><td> 40            </td></tr>\n",
       "\t<tr><td>UniRef50_Q4YKA9</td><td> 40            </td></tr>\n",
       "\t<tr><td>UniRef50_E2PHV7</td><td> 39            </td></tr>\n",
       "\t<tr><td>UniRef50_F6QEK2</td><td> 39            </td></tr>\n",
       "\t<tr><td>UniRef50_Q63501</td><td> 39            </td></tr>\n",
       "\t<tr><td>UniRef50_W5PUY9</td><td> 39            </td></tr>\n",
       "\t<tr><td>UniRef50_F7D6H7</td><td> 38            </td></tr>\n",
       "\t<tr><td>UniRef50_W5P9P9</td><td> 38            </td></tr>\n",
       "\t<tr><td>UniRef50_F7D393</td><td> 37            </td></tr>\n",
       "\t<tr><td>UniRef50_Q6ZP63</td><td> 33            </td></tr>\n",
       "\t<tr><td>UniRef50_F6V2K1</td><td> 32            </td></tr>\n",
       "\t<tr><td>UniRef50_F6XQZ9</td><td> 32            </td></tr>\n",
       "\t<tr><td>UniRef50_Q14755</td><td> 31            </td></tr>\n",
       "</tbody>\n",
       "</table>\n"
      ],
      "text/latex": [
       "\\begin{tabular}{r|ll}\n",
       " UniRefID & n\\\\\n",
       "\\hline\n",
       "\t UniRef50\\_M3XUV9 & 190              \\\\\n",
       "\t UniRef50\\_E2PFB3 & 144              \\\\\n",
       "\t UniRef50\\_E2PHX8 & 106              \\\\\n",
       "\t UniRef50\\_N6V3M2 & 101              \\\\\n",
       "\t UniRef50\\_F6QE18 &  85              \\\\\n",
       "\t UniRef50\\_O00172 &  77              \\\\\n",
       "\t UniRef50\\_E2PHW4 &  70              \\\\\n",
       "\t UniRef50\\_Q6RGF7 &  65              \\\\\n",
       "\t UniRef50\\_E2PHB4 &  61              \\\\\n",
       "\t UniRef50\\_D2H8Q7 &  56              \\\\\n",
       "\t UniRef50\\_F6Z7U5 &  52              \\\\\n",
       "\t UniRef50\\_F7DRX9 &  52              \\\\\n",
       "\t UniRef50\\_D3A8R9 &  49              \\\\\n",
       "\t UniRef50\\_F7H122 &  49              \\\\\n",
       "\t UniRef50\\_F7BYJ7 &  48              \\\\\n",
       "\t UniRef50\\_D2I7R1 &  45              \\\\\n",
       "\t UniRef50\\_Q8N929 &  45              \\\\\n",
       "\t UniRef50\\_F6TZD0 &  40              \\\\\n",
       "\t UniRef50\\_Q4YKA9 &  40              \\\\\n",
       "\t UniRef50\\_E2PHV7 &  39              \\\\\n",
       "\t UniRef50\\_F6QEK2 &  39              \\\\\n",
       "\t UniRef50\\_Q63501 &  39              \\\\\n",
       "\t UniRef50\\_W5PUY9 &  39              \\\\\n",
       "\t UniRef50\\_F7D6H7 &  38              \\\\\n",
       "\t UniRef50\\_W5P9P9 &  38              \\\\\n",
       "\t UniRef50\\_F7D393 &  37              \\\\\n",
       "\t UniRef50\\_Q6ZP63 &  33              \\\\\n",
       "\t UniRef50\\_F6V2K1 &  32              \\\\\n",
       "\t UniRef50\\_F6XQZ9 &  32              \\\\\n",
       "\t UniRef50\\_Q14755 &  31              \\\\\n",
       "\\end{tabular}\n"
      ],
      "text/markdown": [
       "\n",
       "UniRefID | n | \n",
       "|---|---|---|---|---|---|---|---|---|---|---|---|---|---|---|---|---|---|---|---|---|---|---|---|---|---|---|---|---|---|\n",
       "| UniRef50_M3XUV9 | 190             | \n",
       "| UniRef50_E2PFB3 | 144             | \n",
       "| UniRef50_E2PHX8 | 106             | \n",
       "| UniRef50_N6V3M2 | 101             | \n",
       "| UniRef50_F6QE18 |  85             | \n",
       "| UniRef50_O00172 |  77             | \n",
       "| UniRef50_E2PHW4 |  70             | \n",
       "| UniRef50_Q6RGF7 |  65             | \n",
       "| UniRef50_E2PHB4 |  61             | \n",
       "| UniRef50_D2H8Q7 |  56             | \n",
       "| UniRef50_F6Z7U5 |  52             | \n",
       "| UniRef50_F7DRX9 |  52             | \n",
       "| UniRef50_D3A8R9 |  49             | \n",
       "| UniRef50_F7H122 |  49             | \n",
       "| UniRef50_F7BYJ7 |  48             | \n",
       "| UniRef50_D2I7R1 |  45             | \n",
       "| UniRef50_Q8N929 |  45             | \n",
       "| UniRef50_F6TZD0 |  40             | \n",
       "| UniRef50_Q4YKA9 |  40             | \n",
       "| UniRef50_E2PHV7 |  39             | \n",
       "| UniRef50_F6QEK2 |  39             | \n",
       "| UniRef50_Q63501 |  39             | \n",
       "| UniRef50_W5PUY9 |  39             | \n",
       "| UniRef50_F7D6H7 |  38             | \n",
       "| UniRef50_W5P9P9 |  38             | \n",
       "| UniRef50_F7D393 |  37             | \n",
       "| UniRef50_Q6ZP63 |  33             | \n",
       "| UniRef50_F6V2K1 |  32             | \n",
       "| UniRef50_F6XQZ9 |  32             | \n",
       "| UniRef50_Q14755 |  31             | \n",
       "\n",
       "\n"
      ],
      "text/plain": [
       "   UniRefID        n  \n",
       "1  UniRef50_M3XUV9 190\n",
       "2  UniRef50_E2PFB3 144\n",
       "3  UniRef50_E2PHX8 106\n",
       "4  UniRef50_N6V3M2 101\n",
       "5  UniRef50_F6QE18  85\n",
       "6  UniRef50_O00172  77\n",
       "7  UniRef50_E2PHW4  70\n",
       "8  UniRef50_Q6RGF7  65\n",
       "9  UniRef50_E2PHB4  61\n",
       "10 UniRef50_D2H8Q7  56\n",
       "11 UniRef50_F6Z7U5  52\n",
       "12 UniRef50_F7DRX9  52\n",
       "13 UniRef50_D3A8R9  49\n",
       "14 UniRef50_F7H122  49\n",
       "15 UniRef50_F7BYJ7  48\n",
       "16 UniRef50_D2I7R1  45\n",
       "17 UniRef50_Q8N929  45\n",
       "18 UniRef50_F6TZD0  40\n",
       "19 UniRef50_Q4YKA9  40\n",
       "20 UniRef50_E2PHV7  39\n",
       "21 UniRef50_F6QEK2  39\n",
       "22 UniRef50_Q63501  39\n",
       "23 UniRef50_W5PUY9  39\n",
       "24 UniRef50_F7D6H7  38\n",
       "25 UniRef50_W5P9P9  38\n",
       "26 UniRef50_F7D393  37\n",
       "27 UniRef50_Q6ZP63  33\n",
       "28 UniRef50_F6V2K1  32\n",
       "29 UniRef50_F6XQZ9  32\n",
       "30 UniRef50_Q14755  31"
      ]
     },
     "metadata": {},
     "output_type": "display_data"
    }
   ],
   "source": [
    "# duplicate UniRef IDs\n",
    "hm2 %>%\n",
    "    group_by(UniRefID) %>%\n",
    "    summarize(n = n()) %>%\n",
    "    ungroup() %>%\n",
    "    filter(n > 1) %>%\n",
    "    arrange(-n) %>%\n",
    "    head(n=30)"
   ]
  },
  {
   "cell_type": "code",
   "execution_count": 34,
   "metadata": {
    "ExecuteTime": {
     "end_time": "2019-10-04T11:15:04.120851Z",
     "start_time": "2019-10-04T11:15:04.078Z"
    }
   },
   "outputs": [
    {
     "data": {
      "text/html": [
       "1451"
      ],
      "text/latex": [
       "1451"
      ],
      "text/markdown": [
       "1451"
      ],
      "text/plain": [
       "[1] 1451"
      ]
     },
     "metadata": {},
     "output_type": "display_data"
    }
   ],
   "source": [
    "# number of genes with a taxID\n",
    "hm2_f = hm2 %>%\n",
    "    filter(!is.na(TaxID))\n",
    "\n",
    "hm2_f %>% nrow "
   ]
  },
  {
   "cell_type": "markdown",
   "metadata": {},
   "source": [
    "#### By taxonomy"
   ]
  },
  {
   "cell_type": "code",
   "execution_count": 35,
   "metadata": {
    "ExecuteTime": {
     "end_time": "2019-10-04T11:15:05.781233Z",
     "start_time": "2019-10-04T11:15:05.030Z"
    }
   },
   "outputs": [
    {
     "data": {
      "image/png": "[encoded data removed]",
      "text/plain": [
       "plot without title"
      ]
     },
     "metadata": {},
     "output_type": "display_data"
    }
   ],
   "source": [
    "# number of UniRefIDs\n",
    "hm2_f_s = hm2_f %>%\n",
    "    group_by(Domain, Phylum) %>%\n",
    "    summarize(n = UniRefID %>% unique %>% length) %>%\n",
    "    ungroup()\n",
    "\n",
    "p = hm2_f_s %>%\n",
    "    filter(n >= 10) %>%\n",
    "    mutate(Phylum = Phylum %>% reorder(n)) %>%\n",
    "    ggplot(aes(Phylum, n, fill=Domain)) +\n",
    "    geom_bar(stat='identity', position='dodge') +\n",
    "    scale_y_log10() +\n",
    "    coord_flip() +\n",
    "    labs(y='No. of UniRef IDs') +\n",
    "    theme_bw() +\n",
    "    theme(\n",
    "        axis.text.y = element_text(size=7)\n",
    "    )\n",
    "    \n",
    "dims(5,5)\n",
    "plot(p)"
   ]
  },
  {
   "cell_type": "markdown",
   "metadata": {},
   "source": [
    "# sessionInfo"
   ]
  },
  {
   "cell_type": "code",
   "execution_count": 36,
   "metadata": {
    "ExecuteTime": {
     "end_time": "2019-10-04T11:15:06.258847Z",
     "start_time": "2019-10-04T11:15:05.710Z"
    }
   },
   "outputs": [
    {
     "data": {
      "text/plain": [
       "R version 3.4.1 (2017-06-30)\n",
       "Platform: x86_64-pc-linux-gnu (64-bit)\n",
       "Running under: Ubuntu 18.04.3 LTS\n",
       "\n",
       "Matrix products: default\n",
       "BLAS: /ebio/abt3_projects/software/miniconda3_gt4.4/envs/py3_physeq/lib/R/lib/libRblas.so\n",
       "LAPACK: /ebio/abt3_projects/software/miniconda3_gt4.4/envs/py3_physeq/lib/R/lib/libRlapack.so\n",
       "\n",
       "locale:\n",
       "[1] en_US.UTF-8\n",
       "\n",
       "attached base packages:\n",
       "[1] stats     graphics  grDevices utils     datasets  methods   base     \n",
       "\n",
       "other attached packages:\n",
       "[1] bindrcpp_0.2.2    data.table_1.11.4 ggplot2_3.0.0     tidyr_0.8.1      \n",
       "[5] dplyr_0.7.6      \n",
       "\n",
       "loaded via a namespace (and not attached):\n",
       " [1] Rcpp_0.12.17     pillar_1.2.2     compiler_3.4.1   plyr_1.8.4      \n",
       " [5] bindr_0.1.1      base64enc_0.1-3  tools_3.4.1      digest_0.6.15   \n",
       " [9] uuid_0.1-2       jsonlite_1.5     evaluate_0.10.1  tibble_1.4.2    \n",
       "[13] gtable_0.2.0     pkgconfig_2.0.1  rlang_0.2.1      IRdisplay_0.4.4 \n",
       "[17] IRkernel_0.8.12  repr_0.15.0      withr_2.1.1      stringr_1.3.1   \n",
       "[21] grid_3.4.1       tidyselect_0.2.4 glue_1.3.0       R6_2.2.2        \n",
       "[25] pbdZMQ_0.3-2     purrr_0.2.4      magrittr_1.5     scales_0.5.0    \n",
       "[29] htmltools_0.3.6  assertthat_0.2.0 colorspace_1.3-2 labeling_0.3    \n",
       "[33] stringi_1.2.3    lazyeval_0.2.1   munsell_0.5.0    crayon_1.3.4    "
      ]
     },
     "metadata": {},
     "output_type": "display_data"
    }
   ],
   "source": [
    "sessionInfo()"
   ]
  },
  {
   "cell_type": "code",
   "execution_count": null,
   "metadata": {},
   "outputs": [],
   "source": []
  }
 ],
 "metadata": {
  "kernelspec": {
   "display_name": "R [conda env:py3_physeq]",
   "language": "R",
   "name": "conda-env-py3_physeq-r"
  },
  "language_info": {
   "codemirror_mode": "r",
   "file_extension": ".r",
   "mimetype": "text/x-r-source",
   "name": "R",
   "pygments_lexer": "r",
   "version": "3.4.1"
  },
  "notify_time": "30",
  "toc": {
   "base_numbering": 1,
   "nav_menu": {},
   "number_sections": true,
   "sideBar": true,
   "skip_h1_title": false,
   "title_cell": "Table of Contents",
   "title_sidebar": "Contents",
   "toc_cell": true,
   "toc_position": {},
   "toc_section_display": true,
   "toc_window_display": true
  }
 },
 "nbformat": 4,
 "nbformat_minor": 2
}
