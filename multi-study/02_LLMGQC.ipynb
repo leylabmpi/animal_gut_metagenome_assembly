{
 "cells": [
  {
   "cell_type": "markdown",
   "metadata": {
    "toc": true
   },
   "source": [
    "<h1>Table of Contents<span class=\"tocSkip\"></span></h1>\n",
    "<div class=\"toc\"><ul class=\"toc-item\"><li><span><a href=\"#Goal\" data-toc-modified-id=\"Goal-1\"><span class=\"toc-item-num\">1&nbsp;&nbsp;</span>Goal</a></span></li><li><span><a href=\"#Var\" data-toc-modified-id=\"Var-2\"><span class=\"toc-item-num\">2&nbsp;&nbsp;</span>Var</a></span></li><li><span><a href=\"#Init\" data-toc-modified-id=\"Init-3\"><span class=\"toc-item-num\">3&nbsp;&nbsp;</span>Init</a></span></li><li><span><a href=\"#BioProjects\" data-toc-modified-id=\"BioProjects-4\"><span class=\"toc-item-num\">4&nbsp;&nbsp;</span>BioProjects</a></span></li><li><span><a href=\"#LLMGQC\" data-toc-modified-id=\"LLMGQC-5\"><span class=\"toc-item-num\">5&nbsp;&nbsp;</span>LLMGQC</a></span><ul class=\"toc-item\"><li><span><a href=\"#PRJEB11755\" data-toc-modified-id=\"PRJEB11755-5.1\"><span class=\"toc-item-num\">5.1&nbsp;&nbsp;</span>PRJEB11755</a></span><ul class=\"toc-item\"><li><span><a href=\"#Run\" data-toc-modified-id=\"Run-5.1.1\"><span class=\"toc-item-num\">5.1.1&nbsp;&nbsp;</span>Run</a></span></li><li><span><a href=\"#Problem-samples\" data-toc-modified-id=\"Problem-samples-5.1.2\"><span class=\"toc-item-num\">5.1.2&nbsp;&nbsp;</span>Problem samples</a></span></li><li><span><a href=\"#Cutting-loses\" data-toc-modified-id=\"Cutting-loses-5.1.3\"><span class=\"toc-item-num\">5.1.3&nbsp;&nbsp;</span>Cutting loses</a></span></li><li><span><a href=\"#Summary\" data-toc-modified-id=\"Summary-5.1.4\"><span class=\"toc-item-num\">5.1.4&nbsp;&nbsp;</span>Summary</a></span></li></ul></li><li><span><a href=\"#PRJEB20308\" data-toc-modified-id=\"PRJEB20308-5.2\"><span class=\"toc-item-num\">5.2&nbsp;&nbsp;</span>PRJEB20308</a></span><ul class=\"toc-item\"><li><span><a href=\"#Run\" data-toc-modified-id=\"Run-5.2.1\"><span class=\"toc-item-num\">5.2.1&nbsp;&nbsp;</span>Run</a></span></li><li><span><a href=\"#Cutting-loses\" data-toc-modified-id=\"Cutting-loses-5.2.2\"><span class=\"toc-item-num\">5.2.2&nbsp;&nbsp;</span>Cutting loses</a></span></li><li><span><a href=\"#Summary\" data-toc-modified-id=\"Summary-5.2.3\"><span class=\"toc-item-num\">5.2.3&nbsp;&nbsp;</span>Summary</a></span></li></ul></li><li><span><a href=\"#PRJEB21624\" data-toc-modified-id=\"PRJEB21624-5.3\"><span class=\"toc-item-num\">5.3&nbsp;&nbsp;</span>PRJEB21624</a></span><ul class=\"toc-item\"><li><span><a href=\"#Run\" data-toc-modified-id=\"Run-5.3.1\"><span class=\"toc-item-num\">5.3.1&nbsp;&nbsp;</span>Run</a></span></li><li><span><a href=\"#Summary\" data-toc-modified-id=\"Summary-5.3.2\"><span class=\"toc-item-num\">5.3.2&nbsp;&nbsp;</span>Summary</a></span></li></ul></li><li><span><a href=\"#PRJEB29346\" data-toc-modified-id=\"PRJEB29346-5.4\"><span class=\"toc-item-num\">5.4&nbsp;&nbsp;</span>PRJEB29346</a></span><ul class=\"toc-item\"><li><span><a href=\"#Run\" data-toc-modified-id=\"Run-5.4.1\"><span class=\"toc-item-num\">5.4.1&nbsp;&nbsp;</span>Run</a></span></li><li><span><a href=\"#Problem-samples\" data-toc-modified-id=\"Problem-samples-5.4.2\"><span class=\"toc-item-num\">5.4.2&nbsp;&nbsp;</span>Problem samples</a></span></li><li><span><a href=\"#Cutting-loses\" data-toc-modified-id=\"Cutting-loses-5.4.3\"><span class=\"toc-item-num\">5.4.3&nbsp;&nbsp;</span>Cutting loses</a></span></li><li><span><a href=\"#Summary\" data-toc-modified-id=\"Summary-5.4.4\"><span class=\"toc-item-num\">5.4.4&nbsp;&nbsp;</span>Summary</a></span></li></ul></li><li><span><a href=\"#PRJNA316560\" data-toc-modified-id=\"PRJNA316560-5.5\"><span class=\"toc-item-num\">5.5&nbsp;&nbsp;</span>PRJNA316560</a></span><ul class=\"toc-item\"><li><span><a href=\"#Run\" data-toc-modified-id=\"Run-5.5.1\"><span class=\"toc-item-num\">5.5.1&nbsp;&nbsp;</span>Run</a></span></li><li><span><a href=\"#Summary\" data-toc-modified-id=\"Summary-5.5.2\"><span class=\"toc-item-num\">5.5.2&nbsp;&nbsp;</span>Summary</a></span></li></ul></li><li><span><a href=\"#PRJNA316570\" data-toc-modified-id=\"PRJNA316570-5.6\"><span class=\"toc-item-num\">5.6&nbsp;&nbsp;</span>PRJNA316570</a></span><ul class=\"toc-item\"><li><span><a href=\"#Run\" data-toc-modified-id=\"Run-5.6.1\"><span class=\"toc-item-num\">5.6.1&nbsp;&nbsp;</span>Run</a></span></li><li><span><a href=\"#Summary\" data-toc-modified-id=\"Summary-5.6.2\"><span class=\"toc-item-num\">5.6.2&nbsp;&nbsp;</span>Summary</a></span></li></ul></li><li><span><a href=\"#PRJNA336354\" data-toc-modified-id=\"PRJNA336354-5.7\"><span class=\"toc-item-num\">5.7&nbsp;&nbsp;</span>PRJNA336354</a></span><ul class=\"toc-item\"><li><span><a href=\"#Run\" data-toc-modified-id=\"Run-5.7.1\"><span class=\"toc-item-num\">5.7.1&nbsp;&nbsp;</span>Run</a></span></li><li><span><a href=\"#Summary\" data-toc-modified-id=\"Summary-5.7.2\"><span class=\"toc-item-num\">5.7.2&nbsp;&nbsp;</span>Summary</a></span></li></ul></li><li><span><a href=\"#PRJNA353155\" data-toc-modified-id=\"PRJNA353155-5.8\"><span class=\"toc-item-num\">5.8&nbsp;&nbsp;</span>PRJNA353155</a></span><ul class=\"toc-item\"><li><span><a href=\"#SKIPPING\" data-toc-modified-id=\"SKIPPING-5.8.1\"><span class=\"toc-item-num\">5.8.1&nbsp;&nbsp;</span>SKIPPING</a></span></li></ul></li><li><span><a href=\"#PRJNA381379\" data-toc-modified-id=\"PRJNA381379-5.9\"><span class=\"toc-item-num\">5.9&nbsp;&nbsp;</span>PRJNA381379</a></span><ul class=\"toc-item\"><li><span><a href=\"#Run\" data-toc-modified-id=\"Run-5.9.1\"><span class=\"toc-item-num\">5.9.1&nbsp;&nbsp;</span>Run</a></span></li><li><span><a href=\"#Summary\" data-toc-modified-id=\"Summary-5.9.2\"><span class=\"toc-item-num\">5.9.2&nbsp;&nbsp;</span>Summary</a></span></li></ul></li><li><span><a href=\"#PRJNA390686\" data-toc-modified-id=\"PRJNA390686-5.10\"><span class=\"toc-item-num\">5.10&nbsp;&nbsp;</span>PRJNA390686</a></span><ul class=\"toc-item\"><li><span><a href=\"#Run\" data-toc-modified-id=\"Run-5.10.1\"><span class=\"toc-item-num\">5.10.1&nbsp;&nbsp;</span>Run</a></span></li><li><span><a href=\"#Summary\" data-toc-modified-id=\"Summary-5.10.2\"><span class=\"toc-item-num\">5.10.2&nbsp;&nbsp;</span>Summary</a></span><ul class=\"toc-item\"><li><span><a href=\"#Notes\" data-toc-modified-id=\"Notes-5.10.2.1\"><span class=\"toc-item-num\">5.10.2.1&nbsp;&nbsp;</span>Notes</a></span></li></ul></li></ul></li><li><span><a href=\"#PRJNA417359\" data-toc-modified-id=\"PRJNA417359-5.11\"><span class=\"toc-item-num\">5.11&nbsp;&nbsp;</span>PRJNA417359</a></span><ul class=\"toc-item\"><li><span><a href=\"#Subsample\" data-toc-modified-id=\"Subsample-5.11.1\"><span class=\"toc-item-num\">5.11.1&nbsp;&nbsp;</span>Subsample</a></span></li><li><span><a href=\"#Config\" data-toc-modified-id=\"Config-5.11.2\"><span class=\"toc-item-num\">5.11.2&nbsp;&nbsp;</span>Config</a></span></li><li><span><a href=\"#Run\" data-toc-modified-id=\"Run-5.11.3\"><span class=\"toc-item-num\">5.11.3&nbsp;&nbsp;</span>Run</a></span></li><li><span><a href=\"#Summary\" data-toc-modified-id=\"Summary-5.11.4\"><span class=\"toc-item-num\">5.11.4&nbsp;&nbsp;</span>Summary</a></span></li></ul></li><li><span><a href=\"#PRJNA476660\" data-toc-modified-id=\"PRJNA476660-5.12\"><span class=\"toc-item-num\">5.12&nbsp;&nbsp;</span>PRJNA476660</a></span><ul class=\"toc-item\"><li><span><a href=\"#Run\" data-toc-modified-id=\"Run-5.12.1\"><span class=\"toc-item-num\">5.12.1&nbsp;&nbsp;</span>Run</a></span></li><li><span><a href=\"#Summary\" data-toc-modified-id=\"Summary-5.12.2\"><span class=\"toc-item-num\">5.12.2&nbsp;&nbsp;</span>Summary</a></span></li></ul></li><li><span><a href=\"#PRJNA485217\" data-toc-modified-id=\"PRJNA485217-5.13\"><span class=\"toc-item-num\">5.13&nbsp;&nbsp;</span>PRJNA485217</a></span><ul class=\"toc-item\"><li><span><a href=\"#Run\" data-toc-modified-id=\"Run-5.13.1\"><span class=\"toc-item-num\">5.13.1&nbsp;&nbsp;</span>Run</a></span></li><li><span><a href=\"#Summary\" data-toc-modified-id=\"Summary-5.13.2\"><span class=\"toc-item-num\">5.13.2&nbsp;&nbsp;</span>Summary</a></span></li></ul></li><li><span><a href=\"#PRJNA532626\" data-toc-modified-id=\"PRJNA532626-5.14\"><span class=\"toc-item-num\">5.14&nbsp;&nbsp;</span>PRJNA532626</a></span><ul class=\"toc-item\"><li><span><a href=\"#Run\" data-toc-modified-id=\"Run-5.14.1\"><span class=\"toc-item-num\">5.14.1&nbsp;&nbsp;</span>Run</a></span></li><li><span><a href=\"#Summary\" data-toc-modified-id=\"Summary-5.14.2\"><span class=\"toc-item-num\">5.14.2&nbsp;&nbsp;</span>Summary</a></span></li></ul></li><li><span><a href=\"#PRJEB22765\" data-toc-modified-id=\"PRJEB22765-5.15\"><span class=\"toc-item-num\">5.15&nbsp;&nbsp;</span>PRJEB22765</a></span><ul class=\"toc-item\"><li><span><a href=\"#Run\" data-toc-modified-id=\"Run-5.15.1\"><span class=\"toc-item-num\">5.15.1&nbsp;&nbsp;</span>Run</a></span></li><li><span><a href=\"#Summary\" data-toc-modified-id=\"Summary-5.15.2\"><span class=\"toc-item-num\">5.15.2&nbsp;&nbsp;</span>Summary</a></span></li></ul></li><li><span><a href=\"#PRJEB23642\" data-toc-modified-id=\"PRJEB23642-5.16\"><span class=\"toc-item-num\">5.16&nbsp;&nbsp;</span>PRJEB23642</a></span><ul class=\"toc-item\"><li><span><a href=\"#Run\" data-toc-modified-id=\"Run-5.16.1\"><span class=\"toc-item-num\">5.16.1&nbsp;&nbsp;</span>Run</a></span></li><li><span><a href=\"#Summary\" data-toc-modified-id=\"Summary-5.16.2\"><span class=\"toc-item-num\">5.16.2&nbsp;&nbsp;</span>Summary</a></span></li></ul></li><li><span><a href=\"#PRJEB9357\" data-toc-modified-id=\"PRJEB9357-5.17\"><span class=\"toc-item-num\">5.17&nbsp;&nbsp;</span>PRJEB9357</a></span><ul class=\"toc-item\"><li><span><a href=\"#Run\" data-toc-modified-id=\"Run-5.17.1\"><span class=\"toc-item-num\">5.17.1&nbsp;&nbsp;</span>Run</a></span></li><li><span><a href=\"#Summary\" data-toc-modified-id=\"Summary-5.17.2\"><span class=\"toc-item-num\">5.17.2&nbsp;&nbsp;</span>Summary</a></span></li></ul></li></ul></li><li><span><a href=\"#sessionInfo\" data-toc-modified-id=\"sessionInfo-6\"><span class=\"toc-item-num\">6&nbsp;&nbsp;</span>sessionInfo</a></span></li></ul></div>"
   ]
  },
  {
   "cell_type": "markdown",
   "metadata": {},
   "source": [
    "# Goal\n",
    "\n",
    "* Run LLMGQC pipeline on all BioProject samples sets"
   ]
  },
  {
   "cell_type": "markdown",
   "metadata": {},
   "source": [
    "# Var"
   ]
  },
  {
   "cell_type": "code",
   "execution_count": 2,
   "metadata": {
    "ExecuteTime": {
     "end_time": "2019-08-26T13:00:53.154034Z",
     "start_time": "2019-08-26T13:00:53.062Z"
    }
   },
   "outputs": [],
   "source": [
    "work_dir = '/ebio/abt3_projects/Georg_animal_feces/data/metagenome/multi-study/BioProjects/'\n",
    "pipeline_dir = '/ebio/abt3_projects/Georg_animal_feces/bin/llmgqc/'"
   ]
  },
  {
   "cell_type": "markdown",
   "metadata": {},
   "source": [
    "# Init"
   ]
  },
  {
   "cell_type": "code",
   "execution_count": 12,
   "metadata": {
    "ExecuteTime": {
     "end_time": "2019-08-26T18:34:47.668559Z",
     "start_time": "2019-08-26T18:34:47.606Z"
    }
   },
   "outputs": [],
   "source": [
    "library(dplyr)\n",
    "library(tidyr)\n",
    "library(ggplot2)\n",
    "set.seed(1831)\n",
    "source('/ebio/abt3_projects/Georg_animal_feces/code/misc_r_functions/init.R')"
   ]
  },
  {
   "cell_type": "markdown",
   "metadata": {},
   "source": [
    "# BioProjects"
   ]
  },
  {
   "cell_type": "code",
   "execution_count": 4,
   "metadata": {
    "ExecuteTime": {
     "end_time": "2019-08-26T13:01:49.496979Z",
     "start_time": "2019-08-26T13:00:55.862Z"
    }
   },
   "outputs": [],
   "source": [
    "samples_files = list.files(work_dir, 'samples.txt', full.names=TRUE, recursive=TRUE)\n",
    "samples_files %>% length\n",
    "samples_files"
   ]
  },
  {
   "cell_type": "markdown",
   "metadata": {},
   "source": [
    "# LLMGQC\n",
    "\n",
    "* Running on each bioproject separately"
   ]
  },
  {
   "cell_type": "markdown",
   "metadata": {},
   "source": [
    "## PRJEB11755\n",
    "\n",
    "* host = pig\n",
    "* num samples = 295\n",
    "* avg. read length = ~100\n",
    "* pipeline dir  = `/ebio/abt3_projects/methanogen_host_evo/bin/llmgqc`"
   ]
  },
  {
   "cell_type": "code",
   "execution_count": 28,
   "metadata": {
    "ExecuteTime": {
     "end_time": "2019-07-19T08:22:25.633766Z",
     "start_time": "2019-07-19T08:22:25.589Z"
    }
   },
   "outputs": [
    {
     "name": "stdout",
     "output_type": "stream",
     "text": [
      "#-- I/O --#\n",
      "# table with sample --> read_file information\n",
      "samples_file: /ebio/abt3_projects/Georg_animal_feces/data/metagenome/multi-study/BioProjects/PRJEB11755/samples.txt\n",
      "\n",
      "# output location\n",
      "output_dir: /ebio/abt3_projects/Georg_animal_feces/data/metagenome/multi-study/BioProjects/PRJEB11755/\n",
      "\n",
      "# read file path\n",
      "# use \"None\" if full file path is included in the samples_file\n",
      "read_file_path: None\n",
      "\n",
      "#-- Software parameters --#\n",
      "# Use \"Skip\" to skip any of these steps. If no params for rule, use \"\"\n",
      "# `clumpify`: change dupedist if not HiSeq3000/4000 (dupedist=40 for NextSeq, HiSeq2500, and MiSeq)\n",
      "params:\n",
      "  # read download\n",
      "  remote: just_single=False      # If True, just download read1 (if remote file)\n",
      "  # validation, conversion, subsampling\n",
      "  validate_reads: \"\"\n",
      "  convert_fastq_to_1.8: \"\"\n",
      "  seqtk_sample: Skip    # Use number to subsample reads (eg., 1000000)\n",
      "  fastqc_on_raw: \"\"\n",
      "  # de-duplication\n",
      "  clumpify: Skip #dedupe=t dupedist=2500 optical=t    # this will likely fail for remote (SRA) samples\n",
      "  fastqc_on_dedup: \"\"\n",
      "  # adapter removal & quality trimming/filtering\n",
      "  bbduk: ref=./adapters/bbmap_adapters.fa fastawrap=300 k=23\n",
      "  skewer: -x ./adapters/PE_all.fa -n -l 90 -q 25\n",
      "  fastqc_on_qual: \"\"\n",
      "  # removal of 'contaminant' reads\n",
      "  bbmap: minratio=0.9 maxindel=1 bwr=0.16 bw=12 fast minhits=2 qtrim=r trimq=10 untrim idtag printunmappedcount kfilter=25 maxsites=1 k=14 pairlen=1000 rescuedist=1000\n",
      "  ikraken2: /ebio/abt3_projects/databases_no-backup/kraken2/human_db/,/ebio/abt3_projects/databases_no-backup/kraken2/UniVec_Core_db/,/ebio/abt3_projects/databases_no-backup/kraken2/vertebrata_nt_db/,/ebio/abt3_projects/databases_no-backup/kraken2/protozoa_db/,/ebio/abt3_projects/databases_no-backup/kraken2/fungi_db/ --confidence 0.7\n",
      "  fastqc_on_filter: \"\"\n",
      "  # post-QC reads\n",
      "  fastqc_on_final: \"\"\n",
      "  # taxonomy\n",
      "  centrifuge: Skip\n",
      "  krona: Skip\n",
      "  # coverage\n",
      "  nonpareil: -T kmer\n",
      "  nonpareil_summary: 1e9   # this is target seq. depth\n",
      "  # master \"Skip\": reads combined then called \"final\" reads (skips all QC steps)\n",
      "  skip_all_QC: False\n",
      "\n",
      "#-- Databases --#\n",
      "## hg19 = human genome database for filtering out human reads\n",
      "filter_db: /ebio/abt3_projects/databases_no-backup/hg19/hg19\n",
      "# centrifuge db\n",
      "centrifuge_db: /ebio/abt3_projects/databases_no-backup/centrifuge/p+h+v\n",
      "# krona taxonomy db\n",
      "krona_tax_db: /ebio/abt3_projects/databases_no-backup/krona/taxonomy\n",
      "# kraken2 (see 'ikraken2' parameters)\n",
      "\n",
      "#-- Snakemake pipeline --#\n",
      "## To use /tmp/global2/, see http://ilm.eb.local/user-guide/#Scratch-space-on-_002ftmp_002fglobal2\n",
      "pipeline:\n",
      "  snakemake_folder: ./\n",
      "  script_folder: ./bin/scripts/\n",
      "  temp_folder: /tmp/global/    # your username will be added automatically to this path\n",
      "  run_skip_locally: True        # trivial \"skip\" steps run locally (not qsub)"
     ]
    }
   ],
   "source": [
    "cat_file(file.path(work_dir, 'PRJEB11755', 'LLMGQC', 'config.yaml'))"
   ]
  },
  {
   "cell_type": "markdown",
   "metadata": {},
   "source": [
    "### Run\n",
    "\n",
    "```\n",
    "(snakemake_dev) @ rick:/ebio/abt3_projects/Georg_animal_feces/bin/llmgqc\n",
    "$ screen -L -S llmgqc-ga ./snakemake_sge.sh /ebio/abt3_projects/Georg_animal_feces/data/metagenome/multi-study/BioProjects/PRJEB11755/config.yaml cluster.json /ebio/abt3_projects/Georg_animal_feces/data/metagenome/multi-study/BioProjects/PRJEB11755/SGE_log 20\n",
    "```"
   ]
  },
  {
   "cell_type": "markdown",
   "metadata": {},
   "source": [
    "### Problem samples\n",
    "\n",
    "* Having a problem downloading some samples"
   ]
  },
  {
   "cell_type": "code",
   "execution_count": null,
   "metadata": {},
   "outputs": [],
   "source": [
    "projectID = 'PRJEB11755'"
   ]
  },
  {
   "cell_type": "code",
   "execution_count": 12,
   "metadata": {
    "ExecuteTime": {
     "end_time": "2019-07-19T06:47:43.603770Z",
     "start_time": "2019-07-19T06:47:43.473Z"
    }
   },
   "outputs": [
    {
     "name": "stdout",
     "output_type": "stream",
     "text": [
      "[1] 146\n"
     ]
    },
    {
     "data": {
      "text/html": [
       "<ol class=list-inline>\n",
       "\t<li>'SAMEA3663006'</li>\n",
       "\t<li>'SAMEA3663007'</li>\n",
       "\t<li>'SAMEA3663010'</li>\n",
       "\t<li>'SAMEA3663013'</li>\n",
       "\t<li>'SAMEA3663015'</li>\n",
       "\t<li>'SAMEA3663017'</li>\n",
       "</ol>\n"
      ],
      "text/latex": [
       "\\begin{enumerate*}\n",
       "\\item 'SAMEA3663006'\n",
       "\\item 'SAMEA3663007'\n",
       "\\item 'SAMEA3663010'\n",
       "\\item 'SAMEA3663013'\n",
       "\\item 'SAMEA3663015'\n",
       "\\item 'SAMEA3663017'\n",
       "\\end{enumerate*}\n"
      ],
      "text/markdown": [
       "1. 'SAMEA3663006'\n",
       "2. 'SAMEA3663007'\n",
       "3. 'SAMEA3663010'\n",
       "4. 'SAMEA3663013'\n",
       "5. 'SAMEA3663015'\n",
       "6. 'SAMEA3663017'\n",
       "\n",
       "\n"
      ],
      "text/plain": [
       "[1] \"SAMEA3663006\" \"SAMEA3663007\" \"SAMEA3663010\" \"SAMEA3663013\" \"SAMEA3663015\"\n",
       "[6] \"SAMEA3663017\""
      ]
     },
     "metadata": {},
     "output_type": "display_data"
    }
   ],
   "source": [
    "P = file.path(work_dir, projectID, 'LLMGQC', 'final')\n",
    "good_samps = list.files(P, 'R1_final.fq.gz', recursive=TRUE, full.names=TRUE)\n",
    "good_samps %>% length %>% print\n",
    "good_samps = good_samps %>% dirname %>% basename\n",
    "good_samps %>% head"
   ]
  },
  {
   "cell_type": "code",
   "execution_count": 19,
   "metadata": {
    "ExecuteTime": {
     "end_time": "2019-07-19T06:50:52.910728Z",
     "start_time": "2019-07-19T06:50:52.772Z"
    }
   },
   "outputs": [
    {
     "name": "stdout",
     "output_type": "stream",
     "text": [
      "   Mode   FALSE    TRUE \n",
      "logical     149     146 \n",
      "[1] 295  42\n"
     ]
    },
    {
     "data": {
      "text/html": [
       "<table>\n",
       "<thead><tr><th scope=col>Sample</th><th scope=col>Run</th><th scope=col>Lane</th><th scope=col>Remote</th><th scope=col>spots</th><th scope=col>bases</th><th scope=col>avgLength</th><th scope=col>size_MB</th><th scope=col>BioProject</th><th scope=col>bioproject</th><th scope=col>⋯</th><th scope=col>SRA_accession</th><th scope=col>Title</th><th scope=col>Animal</th><th scope=col>First_author</th><th scope=col>Year</th><th scope=col>DOI</th><th scope=col>Sequencer</th><th scope=col>Read_length</th><th scope=col>Comments</th><th scope=col>qc_finished</th></tr></thead>\n",
       "<tbody>\n",
       "\t<tr><td>SAMEA3663295                               </td><td>ERR1135468                                 </td><td>1                                          </td><td>ERR1135468                                 </td><td>24873864                                   </td><td>4875031192                                 </td><td>195                                        </td><td>3574                                       </td><td>PRJEB11755                                 </td><td>PRJEB11755                                 </td><td>⋯                                          </td><td>ERS970444                                  </td><td>ZXZ-5B                                     </td><td>Pig                                        </td><td>Xiao                                       </td><td>2016                                       </td><td>https://doi.org/10.1038/nmicrobiol.2016.161</td><td>Hiseq2000                                  </td><td>100                                        </td><td>NA                                         </td><td>TRUE                                       </td></tr>\n",
       "\t<tr><td>SAMEA3663296                               </td><td>ERR1135469                                 </td><td>1                                          </td><td>ERR1135469                                 </td><td>29496968                                   </td><td>5791369887                                 </td><td>196                                        </td><td>4228                                       </td><td>PRJEB11755                                 </td><td>PRJEB11755                                 </td><td>⋯                                          </td><td>ERS970445                                  </td><td>ZXZ-6B                                     </td><td>Pig                                        </td><td>Xiao                                       </td><td>2016                                       </td><td>https://doi.org/10.1038/nmicrobiol.2016.161</td><td>Hiseq2000                                  </td><td>100                                        </td><td>NA                                         </td><td>TRUE                                       </td></tr>\n",
       "\t<tr><td>SAMEA3663297                               </td><td>ERR1135470                                 </td><td>1                                          </td><td>ERR1135470                                 </td><td>26828175                                   </td><td>5160184344                                 </td><td>192                                        </td><td>3957                                       </td><td>PRJEB11755                                 </td><td>PRJEB11755                                 </td><td>⋯                                          </td><td>ERS970446                                  </td><td>ZXZ-7B                                     </td><td>Pig                                        </td><td>Xiao                                       </td><td>2016                                       </td><td>https://doi.org/10.1038/nmicrobiol.2016.161</td><td>Hiseq2000                                  </td><td>100                                        </td><td>NA                                         </td><td>TRUE                                       </td></tr>\n",
       "</tbody>\n",
       "</table>\n"
      ],
      "text/latex": [
       "\\begin{tabular}{r|llllllllllllllllllllllllllllllllllllllllll}\n",
       " Sample & Run & Lane & Remote & spots & bases & avgLength & size\\_MB & BioProject & bioproject & ⋯ & SRA\\_accession & Title & Animal & First\\_author & Year & DOI & Sequencer & Read\\_length & Comments & qc\\_finished\\\\\n",
       "\\hline\n",
       "\t SAMEA3663295                                & ERR1135468                                  & 1                                           & ERR1135468                                  & 24873864                                    & 4875031192                                  & 195                                         & 3574                                        & PRJEB11755                                  & PRJEB11755                                  & ⋯                                           & ERS970444                                   & ZXZ-5B                                      & Pig                                         & Xiao                                        & 2016                                        & https://doi.org/10.1038/nmicrobiol.2016.161 & Hiseq2000                                   & 100                                         & NA                                          & TRUE                                       \\\\\n",
       "\t SAMEA3663296                                & ERR1135469                                  & 1                                           & ERR1135469                                  & 29496968                                    & 5791369887                                  & 196                                         & 4228                                        & PRJEB11755                                  & PRJEB11755                                  & ⋯                                           & ERS970445                                   & ZXZ-6B                                      & Pig                                         & Xiao                                        & 2016                                        & https://doi.org/10.1038/nmicrobiol.2016.161 & Hiseq2000                                   & 100                                         & NA                                          & TRUE                                       \\\\\n",
       "\t SAMEA3663297                                & ERR1135470                                  & 1                                           & ERR1135470                                  & 26828175                                    & 5160184344                                  & 192                                         & 3957                                        & PRJEB11755                                  & PRJEB11755                                  & ⋯                                           & ERS970446                                   & ZXZ-7B                                      & Pig                                         & Xiao                                        & 2016                                        & https://doi.org/10.1038/nmicrobiol.2016.161 & Hiseq2000                                   & 100                                         & NA                                          & TRUE                                       \\\\\n",
       "\\end{tabular}\n"
      ],
      "text/markdown": [
       "\n",
       "Sample | Run | Lane | Remote | spots | bases | avgLength | size_MB | BioProject | bioproject | ⋯ | SRA_accession | Title | Animal | First_author | Year | DOI | Sequencer | Read_length | Comments | qc_finished | \n",
       "|---|---|---|\n",
       "| SAMEA3663295                                | ERR1135468                                  | 1                                           | ERR1135468                                  | 24873864                                    | 4875031192                                  | 195                                         | 3574                                        | PRJEB11755                                  | PRJEB11755                                  | ⋯                                           | ERS970444                                   | ZXZ-5B                                      | Pig                                         | Xiao                                        | 2016                                        | https://doi.org/10.1038/nmicrobiol.2016.161 | Hiseq2000                                   | 100                                         | NA                                          | TRUE                                        | \n",
       "| SAMEA3663296                                | ERR1135469                                  | 1                                           | ERR1135469                                  | 29496968                                    | 5791369887                                  | 196                                         | 4228                                        | PRJEB11755                                  | PRJEB11755                                  | ⋯                                           | ERS970445                                   | ZXZ-6B                                      | Pig                                         | Xiao                                        | 2016                                        | https://doi.org/10.1038/nmicrobiol.2016.161 | Hiseq2000                                   | 100                                         | NA                                          | TRUE                                        | \n",
       "| SAMEA3663297                                | ERR1135470                                  | 1                                           | ERR1135470                                  | 26828175                                    | 5160184344                                  | 192                                         | 3957                                        | PRJEB11755                                  | PRJEB11755                                  | ⋯                                           | ERS970446                                   | ZXZ-7B                                      | Pig                                         | Xiao                                        | 2016                                        | https://doi.org/10.1038/nmicrobiol.2016.161 | Hiseq2000                                   | 100                                         | NA                                          | TRUE                                        | \n",
       "\n",
       "\n"
      ],
      "text/plain": [
       "  Sample       Run        Lane Remote     spots    bases      avgLength size_MB\n",
       "1 SAMEA3663295 ERR1135468 1    ERR1135468 24873864 4875031192 195       3574   \n",
       "2 SAMEA3663296 ERR1135469 1    ERR1135469 29496968 5791369887 196       4228   \n",
       "3 SAMEA3663297 ERR1135470 1    ERR1135470 26828175 5160184344 192       3957   \n",
       "  BioProject bioproject ⋯ SRA_accession Title  Animal First_author Year\n",
       "1 PRJEB11755 PRJEB11755 ⋯ ERS970444     ZXZ-5B Pig    Xiao         2016\n",
       "2 PRJEB11755 PRJEB11755 ⋯ ERS970445     ZXZ-6B Pig    Xiao         2016\n",
       "3 PRJEB11755 PRJEB11755 ⋯ ERS970446     ZXZ-7B Pig    Xiao         2016\n",
       "  DOI                                         Sequencer Read_length Comments\n",
       "1 https://doi.org/10.1038/nmicrobiol.2016.161 Hiseq2000 100         NA      \n",
       "2 https://doi.org/10.1038/nmicrobiol.2016.161 Hiseq2000 100         NA      \n",
       "3 https://doi.org/10.1038/nmicrobiol.2016.161 Hiseq2000 100         NA      \n",
       "  qc_finished\n",
       "1 TRUE       \n",
       "2 TRUE       \n",
       "3 TRUE       "
      ]
     },
     "metadata": {},
     "output_type": "display_data"
    }
   ],
   "source": [
    "F = file.path(work_dir, projectID, 'LLMGQC', 'samples.txt')\n",
    "df_samps = read.delim(F, sep='\\t') %>%\n",
    "    mutate(qc_finished = Sample %in% good_samps)\n",
    "df_samps %>% .$qc_finished %>% summary %>% print\n",
    "df_samps %>% dfhead"
   ]
  },
  {
   "cell_type": "code",
   "execution_count": 24,
   "metadata": {
    "ExecuteTime": {
     "end_time": "2019-07-19T06:54:16.276332Z",
     "start_time": "2019-07-19T06:54:16.219Z"
    }
   },
   "outputs": [
    {
     "data": {
      "text/html": [
       "<ol class=list-inline>\n",
       "\t<li>BHZ-10B</li>\n",
       "\t<li>BHZ-12B</li>\n",
       "\t<li>BHZ-1B</li>\n",
       "\t<li>BHZ-2B</li>\n",
       "\t<li>BHZ-4B</li>\n",
       "\t<li>BHZ-5B</li>\n",
       "\t<li>BHZ-8B</li>\n",
       "\t<li>BMZ-11B</li>\n",
       "\t<li>BMZ-14B</li>\n",
       "\t<li>BMZ-15B</li>\n",
       "\t<li>BMZ-16B</li>\n",
       "\t<li>BMZ-17B</li>\n",
       "\t<li>BMZ-3B</li>\n",
       "\t<li>BMZ-6B</li>\n",
       "\t<li>BMZ-9B</li>\n",
       "\t<li>DB-510B</li>\n",
       "\t<li>DB-512B</li>\n",
       "\t<li>DB-530B</li>\n",
       "\t<li>DB-531B</li>\n",
       "\t<li>DB-537B</li>\n",
       "\t<li>EYZ-120B</li>\n",
       "\t<li>EYZ-160Ba</li>\n",
       "\t<li>EYZ-192Bb</li>\n",
       "\t<li>EYZ-353B</li>\n",
       "\t<li>EYZ-362B</li>\n",
       "\t<li>EYZ-368B</li>\n",
       "\t<li>EYZ-378B</li>\n",
       "\t<li>EYZ-468Ba</li>\n",
       "\t<li>EYZ-542B</li>\n",
       "\t<li>EYZ-566Bb</li>\n",
       "\t<li>EYZ-592Ba</li>\n",
       "\t<li>EYZ-592Bb</li>\n",
       "\t<li>EYZ-652Bb</li>\n",
       "\t<li>PIG_111</li>\n",
       "\t<li>PIG_112</li>\n",
       "\t<li>PIG_114</li>\n",
       "\t<li>PIG_115</li>\n",
       "\t<li>PIG_118</li>\n",
       "\t<li>PIG_119</li>\n",
       "\t<li>PIG_121</li>\n",
       "\t<li>PIG_122</li>\n",
       "\t<li>PIG_124</li>\n",
       "\t<li>PIG_130</li>\n",
       "\t<li>PIG_131</li>\n",
       "\t<li>PIG_132</li>\n",
       "\t<li>PIG_134</li>\n",
       "\t<li>PIG_135</li>\n",
       "\t<li>PIG_136</li>\n",
       "\t<li>PIG_141</li>\n",
       "\t<li>PIG_142</li>\n",
       "\t<li>PIG_144</li>\n",
       "\t<li>PIG_146</li>\n",
       "\t<li>PIG_153</li>\n",
       "\t<li>PIG_161</li>\n",
       "\t<li>PIG_164</li>\n",
       "\t<li>PIG_168</li>\n",
       "\t<li>PIG_170</li>\n",
       "\t<li>PIG_172</li>\n",
       "\t<li>PIG_174</li>\n",
       "\t<li>PIG_179</li>\n",
       "\t<li>PIG_181</li>\n",
       "\t<li>PIG_183</li>\n",
       "\t<li>PIG_184</li>\n",
       "\t<li>PIG_185</li>\n",
       "\t<li>PIG_186</li>\n",
       "\t<li>PIG_190</li>\n",
       "\t<li>PIG_192</li>\n",
       "\t<li>PIG_193</li>\n",
       "\t<li>PIG_197</li>\n",
       "\t<li>PIG_202</li>\n",
       "\t<li>PIG_205</li>\n",
       "\t<li>PIG_206</li>\n",
       "\t<li>PIG_207</li>\n",
       "\t<li>PIG-002</li>\n",
       "\t<li>PIG-003</li>\n",
       "\t<li>PIG-006</li>\n",
       "\t<li>PIG-009</li>\n",
       "\t<li>PIG-012</li>\n",
       "\t<li>PIG-015</li>\n",
       "\t<li>PIG-020</li>\n",
       "\t<li>PIG-022</li>\n",
       "\t<li>PIG-023</li>\n",
       "\t<li>PIG-024</li>\n",
       "\t<li>PIG-025</li>\n",
       "\t<li>PIG-027</li>\n",
       "\t<li>PIG-035</li>\n",
       "\t<li>PIG-037</li>\n",
       "\t<li>PIG-038</li>\n",
       "\t<li>PIG-039</li>\n",
       "\t<li>PIG-046</li>\n",
       "\t<li>PIG-047</li>\n",
       "\t<li>PIG-048</li>\n",
       "\t<li>PIG-049</li>\n",
       "\t<li>PIG-052</li>\n",
       "\t<li>PIG-054</li>\n",
       "\t<li>PIG-055</li>\n",
       "\t<li>PIG-056</li>\n",
       "\t<li>PIG-059</li>\n",
       "\t<li>PIG-060</li>\n",
       "\t<li>PIG-062</li>\n",
       "\t<li>PIG-063</li>\n",
       "\t<li>PIG-066</li>\n",
       "\t<li>PIG-067</li>\n",
       "\t<li>PIG-071</li>\n",
       "\t<li>PIG-073</li>\n",
       "\t<li>PIG-074</li>\n",
       "\t<li>PIG-076</li>\n",
       "\t<li>PIG-078</li>\n",
       "\t<li>PIG-080</li>\n",
       "\t<li>PIG-081</li>\n",
       "\t<li>PIG-086</li>\n",
       "\t<li>PIG-087</li>\n",
       "\t<li>PIG-088</li>\n",
       "\t<li>PIG-090</li>\n",
       "\t<li>PIG-091</li>\n",
       "\t<li>PIG-095</li>\n",
       "\t<li>PIG-096</li>\n",
       "\t<li>PIG-097</li>\n",
       "\t<li>PIG-098</li>\n",
       "\t<li>PIG-099</li>\n",
       "\t<li>PIG-101</li>\n",
       "\t<li>PIG-102</li>\n",
       "\t<li>PIG-103</li>\n",
       "\t<li>PIG-105</li>\n",
       "\t<li>PIG-109</li>\n",
       "\t<li>SYZ-202B</li>\n",
       "\t<li>SYZ-304B</li>\n",
       "\t<li>SYZ-388B</li>\n",
       "\t<li>SYZ-423B</li>\n",
       "\t<li>SYZ-426B</li>\n",
       "\t<li>SYZ-430B</li>\n",
       "\t<li>SYZ-441B</li>\n",
       "\t<li>SYZ-442B</li>\n",
       "\t<li>SYZ-448B</li>\n",
       "\t<li>SYZ-477B</li>\n",
       "\t<li>SYZ-481B</li>\n",
       "\t<li>SYZ-495B</li>\n",
       "\t<li>SYZ-636B</li>\n",
       "\t<li>SYZ-639B</li>\n",
       "\t<li>SYZ-A002B</li>\n",
       "\t<li>ZXZ-10Ba</li>\n",
       "\t<li>ZXZ-3B</li>\n",
       "\t<li>ZXZ-5B</li>\n",
       "\t<li>ZXZ-6B</li>\n",
       "\t<li>ZXZ-7B</li>\n",
       "\t<li>ZXZ-9B</li>\n",
       "</ol>\n",
       "\n",
       "<details>\n",
       "\t<summary style=display:list-item;cursor:pointer>\n",
       "\t\t<strong>Levels</strong>:\n",
       "\t</summary>\n",
       "\t<ol class=list-inline>\n",
       "\t\t<li>'BHZ-10B'</li>\n",
       "\t\t<li>'BHZ-11B'</li>\n",
       "\t\t<li>'BHZ-12B'</li>\n",
       "\t\t<li>'BHZ-1B'</li>\n",
       "\t\t<li>'BHZ-2B'</li>\n",
       "\t\t<li>'BHZ-3B'</li>\n",
       "\t\t<li>'BHZ-4B'</li>\n",
       "\t\t<li>'BHZ-5B'</li>\n",
       "\t\t<li>'BHZ-6B'</li>\n",
       "\t\t<li>'BHZ-7B'</li>\n",
       "\t\t<li>'BHZ-8B'</li>\n",
       "\t\t<li>'BHZ-9B'</li>\n",
       "\t\t<li>'BMZ-10B'</li>\n",
       "\t\t<li>'BMZ-11B'</li>\n",
       "\t\t<li>'BMZ-12B'</li>\n",
       "\t\t<li>'BMZ-13B'</li>\n",
       "\t\t<li>'BMZ-14B'</li>\n",
       "\t\t<li>'BMZ-15B'</li>\n",
       "\t\t<li>'BMZ-16B'</li>\n",
       "\t\t<li>'BMZ-17B'</li>\n",
       "\t\t<li>'BMZ-1B'</li>\n",
       "\t\t<li>'BMZ-2B'</li>\n",
       "\t\t<li>'BMZ-3B'</li>\n",
       "\t\t<li>'BMZ-4B'</li>\n",
       "\t\t<li>'BMZ-5B'</li>\n",
       "\t\t<li>'BMZ-6B'</li>\n",
       "\t\t<li>'BMZ-7B'</li>\n",
       "\t\t<li>'BMZ-8B'</li>\n",
       "\t\t<li>'BMZ-9B'</li>\n",
       "\t\t<li>'DB-11B'</li>\n",
       "\t\t<li>'DB-510B'</li>\n",
       "\t\t<li>'DB-511B'</li>\n",
       "\t\t<li>'DB-512B'</li>\n",
       "\t\t<li>'DB-515B'</li>\n",
       "\t\t<li>'DB-517B'</li>\n",
       "\t\t<li>'DB-529B'</li>\n",
       "\t\t<li>'DB-530B'</li>\n",
       "\t\t<li>'DB-531B'</li>\n",
       "\t\t<li>'DB-537B'</li>\n",
       "\t\t<li>'EYZ-120B'</li>\n",
       "\t\t<li>'EYZ-160Ba'</li>\n",
       "\t\t<li>'EYZ-160Bb'</li>\n",
       "\t\t<li>'EYZ-183B'</li>\n",
       "\t\t<li>'EYZ-192Ba'</li>\n",
       "\t\t<li>'EYZ-192Bb'</li>\n",
       "\t\t<li>'EYZ-254B'</li>\n",
       "\t\t<li>'EYZ-353B'</li>\n",
       "\t\t<li>'EYZ-362B'</li>\n",
       "\t\t<li>'EYZ-368B'</li>\n",
       "\t\t<li>'EYZ-378B'</li>\n",
       "\t\t<li>'EYZ-381B'</li>\n",
       "\t\t<li>'EYZ-468Ba'</li>\n",
       "\t\t<li>'EYZ-468Bb'</li>\n",
       "\t\t<li>'EYZ-542B'</li>\n",
       "\t\t<li>'EYZ-566Ba'</li>\n",
       "\t\t<li>'EYZ-566Bb'</li>\n",
       "\t\t<li>'EYZ-568B'</li>\n",
       "\t\t<li>'EYZ-572Ba'</li>\n",
       "\t\t<li>'EYZ-572Bb'</li>\n",
       "\t\t<li>'EYZ-592Ba'</li>\n",
       "\t\t<li>'EYZ-592Bb'</li>\n",
       "\t\t<li>'EYZ-611B'</li>\n",
       "\t\t<li>'EYZ-615B'</li>\n",
       "\t\t<li>'EYZ-652Ba'</li>\n",
       "\t\t<li>'EYZ-652Bb'</li>\n",
       "\t\t<li>'PIG_111'</li>\n",
       "\t\t<li>'PIG_112'</li>\n",
       "\t\t<li>'PIG_113'</li>\n",
       "\t\t<li>'PIG_114'</li>\n",
       "\t\t<li>'PIG_115'</li>\n",
       "\t\t<li>'PIG_116'</li>\n",
       "\t\t<li>'PIG_117'</li>\n",
       "\t\t<li>'PIG_118'</li>\n",
       "\t\t<li>'PIG_119'</li>\n",
       "\t\t<li>'PIG_120'</li>\n",
       "\t\t<li>'PIG_121'</li>\n",
       "\t\t<li>'PIG_122'</li>\n",
       "\t\t<li>'PIG_123'</li>\n",
       "\t\t<li>'PIG_124'</li>\n",
       "\t\t<li>'PIG_125'</li>\n",
       "\t\t<li>'PIG_126'</li>\n",
       "\t\t<li>'PIG_127'</li>\n",
       "\t\t<li>'PIG_128'</li>\n",
       "\t\t<li>'PIG_129'</li>\n",
       "\t\t<li>'PIG_130'</li>\n",
       "\t\t<li>'PIG_131'</li>\n",
       "\t\t<li>'PIG_132'</li>\n",
       "\t\t<li>'PIG_133'</li>\n",
       "\t\t<li>'PIG_134'</li>\n",
       "\t\t<li>'PIG_135'</li>\n",
       "\t\t<li>'PIG_136'</li>\n",
       "\t\t<li>'PIG_137'</li>\n",
       "\t\t<li>'PIG_138'</li>\n",
       "\t\t<li>'PIG_139'</li>\n",
       "\t\t<li>'PIG_140'</li>\n",
       "\t\t<li>'PIG_141'</li>\n",
       "\t\t<li>'PIG_142'</li>\n",
       "\t\t<li>'PIG_143'</li>\n",
       "\t\t<li>'PIG_144'</li>\n",
       "\t\t<li>'PIG_145'</li>\n",
       "\t\t<li>'PIG_146'</li>\n",
       "\t\t<li>'PIG_147'</li>\n",
       "\t\t<li>'PIG_148'</li>\n",
       "\t\t<li>'PIG_149'</li>\n",
       "\t\t<li>'PIG_150'</li>\n",
       "\t\t<li>'PIG_151'</li>\n",
       "\t\t<li>'PIG_152'</li>\n",
       "\t\t<li>'PIG_153'</li>\n",
       "\t\t<li>'PIG_154'</li>\n",
       "\t\t<li>'PIG_155'</li>\n",
       "\t\t<li>'PIG_156'</li>\n",
       "\t\t<li>'PIG_157'</li>\n",
       "\t\t<li>'PIG_158'</li>\n",
       "\t\t<li>'PIG_159'</li>\n",
       "\t\t<li>'PIG_160'</li>\n",
       "\t\t<li>'PIG_161'</li>\n",
       "\t\t<li>'PIG_162'</li>\n",
       "\t\t<li>'PIG_163'</li>\n",
       "\t\t<li>'PIG_164'</li>\n",
       "\t\t<li>'PIG_165'</li>\n",
       "\t\t<li>'PIG_166'</li>\n",
       "\t\t<li>'PIG_167'</li>\n",
       "\t\t<li>'PIG_168'</li>\n",
       "\t\t<li>'PIG_169'</li>\n",
       "\t\t<li>'PIG_170'</li>\n",
       "\t\t<li>'PIG_171'</li>\n",
       "\t\t<li>'PIG_172'</li>\n",
       "\t\t<li>'PIG_173'</li>\n",
       "\t\t<li>'PIG_174'</li>\n",
       "\t\t<li>'PIG_175'</li>\n",
       "\t\t<li>'PIG_176'</li>\n",
       "\t\t<li>'PIG_177'</li>\n",
       "\t\t<li>'PIG_178'</li>\n",
       "\t\t<li>'PIG_179'</li>\n",
       "\t\t<li>'PIG_180'</li>\n",
       "\t\t<li>'PIG_181'</li>\n",
       "\t\t<li>'PIG_182'</li>\n",
       "\t\t<li>'PIG_183'</li>\n",
       "\t\t<li>'PIG_184'</li>\n",
       "\t\t<li>'PIG_185'</li>\n",
       "\t\t<li>'PIG_186'</li>\n",
       "\t\t<li>'PIG_187'</li>\n",
       "\t\t<li>'PIG_188'</li>\n",
       "\t\t<li>'PIG_189'</li>\n",
       "\t\t<li>'PIG_190'</li>\n",
       "\t\t<li>'PIG_191'</li>\n",
       "\t\t<li>'PIG_192'</li>\n",
       "\t\t<li>'PIG_193'</li>\n",
       "\t\t<li>'PIG_194'</li>\n",
       "\t\t<li>'PIG_195'</li>\n",
       "\t\t<li>'PIG_196'</li>\n",
       "\t\t<li>'PIG_197'</li>\n",
       "\t\t<li>'PIG_198'</li>\n",
       "\t\t<li>'PIG_199'</li>\n",
       "\t\t<li>'PIG_200'</li>\n",
       "\t\t<li>'PIG_201'</li>\n",
       "\t\t<li>'PIG_202'</li>\n",
       "\t\t<li>'PIG_203'</li>\n",
       "\t\t<li>'PIG_204'</li>\n",
       "\t\t<li>'PIG_205'</li>\n",
       "\t\t<li>'PIG_206'</li>\n",
       "\t\t<li>'PIG_207'</li>\n",
       "\t\t<li>'PIG_208'</li>\n",
       "\t\t<li>'PIG_209'</li>\n",
       "\t\t<li>'PIG_210'</li>\n",
       "\t\t<li>'PIG-001'</li>\n",
       "\t\t<li>'PIG-002'</li>\n",
       "\t\t<li>'PIG-003'</li>\n",
       "\t\t<li>'PIG-004'</li>\n",
       "\t\t<li>'PIG-005'</li>\n",
       "\t\t<li>'PIG-006'</li>\n",
       "\t\t<li>'PIG-007'</li>\n",
       "\t\t<li>'PIG-008'</li>\n",
       "\t\t<li>'PIG-009'</li>\n",
       "\t\t<li>'PIG-011'</li>\n",
       "\t\t<li>'PIG-012'</li>\n",
       "\t\t<li>'PIG-014'</li>\n",
       "\t\t<li>'PIG-015'</li>\n",
       "\t\t<li>'PIG-016'</li>\n",
       "\t\t<li>'PIG-017'</li>\n",
       "\t\t<li>'PIG-018'</li>\n",
       "\t\t<li>'PIG-019'</li>\n",
       "\t\t<li>'PIG-020'</li>\n",
       "\t\t<li>'PIG-022'</li>\n",
       "\t\t<li>'PIG-023'</li>\n",
       "\t\t<li>'PIG-024'</li>\n",
       "\t\t<li>'PIG-025'</li>\n",
       "\t\t<li>'PIG-026'</li>\n",
       "\t\t<li>'PIG-027'</li>\n",
       "\t\t<li>'PIG-028'</li>\n",
       "\t\t<li>'PIG-029'</li>\n",
       "\t\t<li>'PIG-030'</li>\n",
       "\t\t<li>'PIG-031'</li>\n",
       "\t\t<li>'PIG-032'</li>\n",
       "\t\t<li>'PIG-033'</li>\n",
       "\t\t<li>'PIG-034'</li>\n",
       "\t\t<li>'PIG-035'</li>\n",
       "\t\t<li>'PIG-036'</li>\n",
       "\t\t<li>'PIG-037'</li>\n",
       "\t\t<li>'PIG-038'</li>\n",
       "\t\t<li>'PIG-039'</li>\n",
       "\t\t<li>'PIG-041'</li>\n",
       "\t\t<li>'PIG-042'</li>\n",
       "\t\t<li>'PIG-043'</li>\n",
       "\t\t<li>'PIG-044'</li>\n",
       "\t\t<li>'PIG-045'</li>\n",
       "\t\t<li>'PIG-046'</li>\n",
       "\t\t<li>'PIG-047'</li>\n",
       "\t\t<li>'PIG-048'</li>\n",
       "\t\t<li>'PIG-049'</li>\n",
       "\t\t<li>'PIG-052'</li>\n",
       "\t\t<li>'PIG-053'</li>\n",
       "\t\t<li>'PIG-054'</li>\n",
       "\t\t<li>'PIG-055'</li>\n",
       "\t\t<li>'PIG-056'</li>\n",
       "\t\t<li>'PIG-057'</li>\n",
       "\t\t<li>'PIG-058'</li>\n",
       "\t\t<li>'PIG-059'</li>\n",
       "\t\t<li>'PIG-060'</li>\n",
       "\t\t<li>'PIG-061'</li>\n",
       "\t\t<li>'PIG-062'</li>\n",
       "\t\t<li>'PIG-063'</li>\n",
       "\t\t<li>'PIG-064'</li>\n",
       "\t\t<li>'PIG-065'</li>\n",
       "\t\t<li>'PIG-066'</li>\n",
       "\t\t<li>'PIG-067'</li>\n",
       "\t\t<li>'PIG-068'</li>\n",
       "\t\t<li>'PIG-069'</li>\n",
       "\t\t<li>'PIG-071'</li>\n",
       "\t\t<li>'PIG-073'</li>\n",
       "\t\t<li>'PIG-074'</li>\n",
       "\t\t<li>'PIG-075'</li>\n",
       "\t\t<li>'PIG-076'</li>\n",
       "\t\t<li>'PIG-077'</li>\n",
       "\t\t<li>'PIG-078'</li>\n",
       "\t\t<li>'PIG-079'</li>\n",
       "\t\t<li>'PIG-080'</li>\n",
       "\t\t<li>'PIG-081'</li>\n",
       "\t\t<li>'PIG-082'</li>\n",
       "\t\t<li>'PIG-083'</li>\n",
       "\t\t<li>'PIG-084'</li>\n",
       "\t\t<li>'PIG-085'</li>\n",
       "\t\t<li>'PIG-086'</li>\n",
       "\t\t<li>'PIG-087'</li>\n",
       "\t\t<li>'PIG-088'</li>\n",
       "\t\t<li>'PIG-090'</li>\n",
       "\t\t<li>'PIG-091'</li>\n",
       "\t\t<li>'PIG-092'</li>\n",
       "\t\t<li>'PIG-093'</li>\n",
       "\t\t<li>'PIG-094'</li>\n",
       "\t\t<li>'PIG-095'</li>\n",
       "\t\t<li>'PIG-096'</li>\n",
       "\t\t<li>'PIG-097'</li>\n",
       "\t\t<li>'PIG-098'</li>\n",
       "\t\t<li>'PIG-099'</li>\n",
       "\t\t<li>'PIG-101'</li>\n",
       "\t\t<li>'PIG-102'</li>\n",
       "\t\t<li>'PIG-103'</li>\n",
       "\t\t<li>'PIG-104'</li>\n",
       "\t\t<li>'PIG-105'</li>\n",
       "\t\t<li>'PIG-106'</li>\n",
       "\t\t<li>'PIG-107'</li>\n",
       "\t\t<li>'PIG-108'</li>\n",
       "\t\t<li>'PIG-109'</li>\n",
       "\t\t<li>'PIG-110'</li>\n",
       "\t\t<li>'SYZ-202B'</li>\n",
       "\t\t<li>'SYZ-304B'</li>\n",
       "\t\t<li>'SYZ-388B'</li>\n",
       "\t\t<li>'SYZ-423B'</li>\n",
       "\t\t<li>'SYZ-426B'</li>\n",
       "\t\t<li>'SYZ-428B'</li>\n",
       "\t\t<li>'SYZ-430B'</li>\n",
       "\t\t<li>'SYZ-441B'</li>\n",
       "\t\t<li>'SYZ-442B'</li>\n",
       "\t\t<li>'SYZ-448B'</li>\n",
       "\t\t<li>'SYZ-477B'</li>\n",
       "\t\t<li>'SYZ-481B'</li>\n",
       "\t\t<li>'SYZ-495B'</li>\n",
       "\t\t<li>'SYZ-533B'</li>\n",
       "\t\t<li>'SYZ-631B'</li>\n",
       "\t\t<li>'SYZ-635B'</li>\n",
       "\t\t<li>'SYZ-636B'</li>\n",
       "\t\t<li>'SYZ-639B'</li>\n",
       "\t\t<li>'SYZ-A002B'</li>\n",
       "\t\t<li>'ZXZ-10Ba'</li>\n",
       "\t\t<li>'ZXZ-10Bb'</li>\n",
       "\t\t<li>'ZXZ-1B'</li>\n",
       "\t\t<li>'ZXZ-2B'</li>\n",
       "\t\t<li>'ZXZ-3B'</li>\n",
       "\t\t<li>'ZXZ-4B'</li>\n",
       "\t\t<li>'ZXZ-5B'</li>\n",
       "\t\t<li>'ZXZ-6B'</li>\n",
       "\t\t<li>'ZXZ-7B'</li>\n",
       "\t\t<li>'ZXZ-8B'</li>\n",
       "\t\t<li>'ZXZ-9B'</li>\n",
       "\t</ol>\n",
       "</details>"
      ],
      "text/latex": [
       "\\begin{enumerate*}\n",
       "\\item BHZ-10B\n",
       "\\item BHZ-12B\n",
       "\\item BHZ-1B\n",
       "\\item BHZ-2B\n",
       "\\item BHZ-4B\n",
       "\\item BHZ-5B\n",
       "\\item BHZ-8B\n",
       "\\item BMZ-11B\n",
       "\\item BMZ-14B\n",
       "\\item BMZ-15B\n",
       "\\item BMZ-16B\n",
       "\\item BMZ-17B\n",
       "\\item BMZ-3B\n",
       "\\item BMZ-6B\n",
       "\\item BMZ-9B\n",
       "\\item DB-510B\n",
       "\\item DB-512B\n",
       "\\item DB-530B\n",
       "\\item DB-531B\n",
       "\\item DB-537B\n",
       "\\item EYZ-120B\n",
       "\\item EYZ-160Ba\n",
       "\\item EYZ-192Bb\n",
       "\\item EYZ-353B\n",
       "\\item EYZ-362B\n",
       "\\item EYZ-368B\n",
       "\\item EYZ-378B\n",
       "\\item EYZ-468Ba\n",
       "\\item EYZ-542B\n",
       "\\item EYZ-566Bb\n",
       "\\item EYZ-592Ba\n",
       "\\item EYZ-592Bb\n",
       "\\item EYZ-652Bb\n",
       "\\item PIG\\_111\n",
       "\\item PIG\\_112\n",
       "\\item PIG\\_114\n",
       "\\item PIG\\_115\n",
       "\\item PIG\\_118\n",
       "\\item PIG\\_119\n",
       "\\item PIG\\_121\n",
       "\\item PIG\\_122\n",
       "\\item PIG\\_124\n",
       "\\item PIG\\_130\n",
       "\\item PIG\\_131\n",
       "\\item PIG\\_132\n",
       "\\item PIG\\_134\n",
       "\\item PIG\\_135\n",
       "\\item PIG\\_136\n",
       "\\item PIG\\_141\n",
       "\\item PIG\\_142\n",
       "\\item PIG\\_144\n",
       "\\item PIG\\_146\n",
       "\\item PIG\\_153\n",
       "\\item PIG\\_161\n",
       "\\item PIG\\_164\n",
       "\\item PIG\\_168\n",
       "\\item PIG\\_170\n",
       "\\item PIG\\_172\n",
       "\\item PIG\\_174\n",
       "\\item PIG\\_179\n",
       "\\item PIG\\_181\n",
       "\\item PIG\\_183\n",
       "\\item PIG\\_184\n",
       "\\item PIG\\_185\n",
       "\\item PIG\\_186\n",
       "\\item PIG\\_190\n",
       "\\item PIG\\_192\n",
       "\\item PIG\\_193\n",
       "\\item PIG\\_197\n",
       "\\item PIG\\_202\n",
       "\\item PIG\\_205\n",
       "\\item PIG\\_206\n",
       "\\item PIG\\_207\n",
       "\\item PIG-002\n",
       "\\item PIG-003\n",
       "\\item PIG-006\n",
       "\\item PIG-009\n",
       "\\item PIG-012\n",
       "\\item PIG-015\n",
       "\\item PIG-020\n",
       "\\item PIG-022\n",
       "\\item PIG-023\n",
       "\\item PIG-024\n",
       "\\item PIG-025\n",
       "\\item PIG-027\n",
       "\\item PIG-035\n",
       "\\item PIG-037\n",
       "\\item PIG-038\n",
       "\\item PIG-039\n",
       "\\item PIG-046\n",
       "\\item PIG-047\n",
       "\\item PIG-048\n",
       "\\item PIG-049\n",
       "\\item PIG-052\n",
       "\\item PIG-054\n",
       "\\item PIG-055\n",
       "\\item PIG-056\n",
       "\\item PIG-059\n",
       "\\item PIG-060\n",
       "\\item PIG-062\n",
       "\\item PIG-063\n",
       "\\item PIG-066\n",
       "\\item PIG-067\n",
       "\\item PIG-071\n",
       "\\item PIG-073\n",
       "\\item PIG-074\n",
       "\\item PIG-076\n",
       "\\item PIG-078\n",
       "\\item PIG-080\n",
       "\\item PIG-081\n",
       "\\item PIG-086\n",
       "\\item PIG-087\n",
       "\\item PIG-088\n",
       "\\item PIG-090\n",
       "\\item PIG-091\n",
       "\\item PIG-095\n",
       "\\item PIG-096\n",
       "\\item PIG-097\n",
       "\\item PIG-098\n",
       "\\item PIG-099\n",
       "\\item PIG-101\n",
       "\\item PIG-102\n",
       "\\item PIG-103\n",
       "\\item PIG-105\n",
       "\\item PIG-109\n",
       "\\item SYZ-202B\n",
       "\\item SYZ-304B\n",
       "\\item SYZ-388B\n",
       "\\item SYZ-423B\n",
       "\\item SYZ-426B\n",
       "\\item SYZ-430B\n",
       "\\item SYZ-441B\n",
       "\\item SYZ-442B\n",
       "\\item SYZ-448B\n",
       "\\item SYZ-477B\n",
       "\\item SYZ-481B\n",
       "\\item SYZ-495B\n",
       "\\item SYZ-636B\n",
       "\\item SYZ-639B\n",
       "\\item SYZ-A002B\n",
       "\\item ZXZ-10Ba\n",
       "\\item ZXZ-3B\n",
       "\\item ZXZ-5B\n",
       "\\item ZXZ-6B\n",
       "\\item ZXZ-7B\n",
       "\\item ZXZ-9B\n",
       "\\end{enumerate*}\n",
       "\n",
       "\\emph{Levels}: \\begin{enumerate*}\n",
       "\\item 'BHZ-10B'\n",
       "\\item 'BHZ-11B'\n",
       "\\item 'BHZ-12B'\n",
       "\\item 'BHZ-1B'\n",
       "\\item 'BHZ-2B'\n",
       "\\item 'BHZ-3B'\n",
       "\\item 'BHZ-4B'\n",
       "\\item 'BHZ-5B'\n",
       "\\item 'BHZ-6B'\n",
       "\\item 'BHZ-7B'\n",
       "\\item 'BHZ-8B'\n",
       "\\item 'BHZ-9B'\n",
       "\\item 'BMZ-10B'\n",
       "\\item 'BMZ-11B'\n",
       "\\item 'BMZ-12B'\n",
       "\\item 'BMZ-13B'\n",
       "\\item 'BMZ-14B'\n",
       "\\item 'BMZ-15B'\n",
       "\\item 'BMZ-16B'\n",
       "\\item 'BMZ-17B'\n",
       "\\item 'BMZ-1B'\n",
       "\\item 'BMZ-2B'\n",
       "\\item 'BMZ-3B'\n",
       "\\item 'BMZ-4B'\n",
       "\\item 'BMZ-5B'\n",
       "\\item 'BMZ-6B'\n",
       "\\item 'BMZ-7B'\n",
       "\\item 'BMZ-8B'\n",
       "\\item 'BMZ-9B'\n",
       "\\item 'DB-11B'\n",
       "\\item 'DB-510B'\n",
       "\\item 'DB-511B'\n",
       "\\item 'DB-512B'\n",
       "\\item 'DB-515B'\n",
       "\\item 'DB-517B'\n",
       "\\item 'DB-529B'\n",
       "\\item 'DB-530B'\n",
       "\\item 'DB-531B'\n",
       "\\item 'DB-537B'\n",
       "\\item 'EYZ-120B'\n",
       "\\item 'EYZ-160Ba'\n",
       "\\item 'EYZ-160Bb'\n",
       "\\item 'EYZ-183B'\n",
       "\\item 'EYZ-192Ba'\n",
       "\\item 'EYZ-192Bb'\n",
       "\\item 'EYZ-254B'\n",
       "\\item 'EYZ-353B'\n",
       "\\item 'EYZ-362B'\n",
       "\\item 'EYZ-368B'\n",
       "\\item 'EYZ-378B'\n",
       "\\item 'EYZ-381B'\n",
       "\\item 'EYZ-468Ba'\n",
       "\\item 'EYZ-468Bb'\n",
       "\\item 'EYZ-542B'\n",
       "\\item 'EYZ-566Ba'\n",
       "\\item 'EYZ-566Bb'\n",
       "\\item 'EYZ-568B'\n",
       "\\item 'EYZ-572Ba'\n",
       "\\item 'EYZ-572Bb'\n",
       "\\item 'EYZ-592Ba'\n",
       "\\item 'EYZ-592Bb'\n",
       "\\item 'EYZ-611B'\n",
       "\\item 'EYZ-615B'\n",
       "\\item 'EYZ-652Ba'\n",
       "\\item 'EYZ-652Bb'\n",
       "\\item 'PIG\\_111'\n",
       "\\item 'PIG\\_112'\n",
       "\\item 'PIG\\_113'\n",
       "\\item 'PIG\\_114'\n",
       "\\item 'PIG\\_115'\n",
       "\\item 'PIG\\_116'\n",
       "\\item 'PIG\\_117'\n",
       "\\item 'PIG\\_118'\n",
       "\\item 'PIG\\_119'\n",
       "\\item 'PIG\\_120'\n",
       "\\item 'PIG\\_121'\n",
       "\\item 'PIG\\_122'\n",
       "\\item 'PIG\\_123'\n",
       "\\item 'PIG\\_124'\n",
       "\\item 'PIG\\_125'\n",
       "\\item 'PIG\\_126'\n",
       "\\item 'PIG\\_127'\n",
       "\\item 'PIG\\_128'\n",
       "\\item 'PIG\\_129'\n",
       "\\item 'PIG\\_130'\n",
       "\\item 'PIG\\_131'\n",
       "\\item 'PIG\\_132'\n",
       "\\item 'PIG\\_133'\n",
       "\\item 'PIG\\_134'\n",
       "\\item 'PIG\\_135'\n",
       "\\item 'PIG\\_136'\n",
       "\\item 'PIG\\_137'\n",
       "\\item 'PIG\\_138'\n",
       "\\item 'PIG\\_139'\n",
       "\\item 'PIG\\_140'\n",
       "\\item 'PIG\\_141'\n",
       "\\item 'PIG\\_142'\n",
       "\\item 'PIG\\_143'\n",
       "\\item 'PIG\\_144'\n",
       "\\item 'PIG\\_145'\n",
       "\\item 'PIG\\_146'\n",
       "\\item 'PIG\\_147'\n",
       "\\item 'PIG\\_148'\n",
       "\\item 'PIG\\_149'\n",
       "\\item 'PIG\\_150'\n",
       "\\item 'PIG\\_151'\n",
       "\\item 'PIG\\_152'\n",
       "\\item 'PIG\\_153'\n",
       "\\item 'PIG\\_154'\n",
       "\\item 'PIG\\_155'\n",
       "\\item 'PIG\\_156'\n",
       "\\item 'PIG\\_157'\n",
       "\\item 'PIG\\_158'\n",
       "\\item 'PIG\\_159'\n",
       "\\item 'PIG\\_160'\n",
       "\\item 'PIG\\_161'\n",
       "\\item 'PIG\\_162'\n",
       "\\item 'PIG\\_163'\n",
       "\\item 'PIG\\_164'\n",
       "\\item 'PIG\\_165'\n",
       "\\item 'PIG\\_166'\n",
       "\\item 'PIG\\_167'\n",
       "\\item 'PIG\\_168'\n",
       "\\item 'PIG\\_169'\n",
       "\\item 'PIG\\_170'\n",
       "\\item 'PIG\\_171'\n",
       "\\item 'PIG\\_172'\n",
       "\\item 'PIG\\_173'\n",
       "\\item 'PIG\\_174'\n",
       "\\item 'PIG\\_175'\n",
       "\\item 'PIG\\_176'\n",
       "\\item 'PIG\\_177'\n",
       "\\item 'PIG\\_178'\n",
       "\\item 'PIG\\_179'\n",
       "\\item 'PIG\\_180'\n",
       "\\item 'PIG\\_181'\n",
       "\\item 'PIG\\_182'\n",
       "\\item 'PIG\\_183'\n",
       "\\item 'PIG\\_184'\n",
       "\\item 'PIG\\_185'\n",
       "\\item 'PIG\\_186'\n",
       "\\item 'PIG\\_187'\n",
       "\\item 'PIG\\_188'\n",
       "\\item 'PIG\\_189'\n",
       "\\item 'PIG\\_190'\n",
       "\\item 'PIG\\_191'\n",
       "\\item 'PIG\\_192'\n",
       "\\item 'PIG\\_193'\n",
       "\\item 'PIG\\_194'\n",
       "\\item 'PIG\\_195'\n",
       "\\item 'PIG\\_196'\n",
       "\\item 'PIG\\_197'\n",
       "\\item 'PIG\\_198'\n",
       "\\item 'PIG\\_199'\n",
       "\\item 'PIG\\_200'\n",
       "\\item 'PIG\\_201'\n",
       "\\item 'PIG\\_202'\n",
       "\\item 'PIG\\_203'\n",
       "\\item 'PIG\\_204'\n",
       "\\item 'PIG\\_205'\n",
       "\\item 'PIG\\_206'\n",
       "\\item 'PIG\\_207'\n",
       "\\item 'PIG\\_208'\n",
       "\\item 'PIG\\_209'\n",
       "\\item 'PIG\\_210'\n",
       "\\item 'PIG-001'\n",
       "\\item 'PIG-002'\n",
       "\\item 'PIG-003'\n",
       "\\item 'PIG-004'\n",
       "\\item 'PIG-005'\n",
       "\\item 'PIG-006'\n",
       "\\item 'PIG-007'\n",
       "\\item 'PIG-008'\n",
       "\\item 'PIG-009'\n",
       "\\item 'PIG-011'\n",
       "\\item 'PIG-012'\n",
       "\\item 'PIG-014'\n",
       "\\item 'PIG-015'\n",
       "\\item 'PIG-016'\n",
       "\\item 'PIG-017'\n",
       "\\item 'PIG-018'\n",
       "\\item 'PIG-019'\n",
       "\\item 'PIG-020'\n",
       "\\item 'PIG-022'\n",
       "\\item 'PIG-023'\n",
       "\\item 'PIG-024'\n",
       "\\item 'PIG-025'\n",
       "\\item 'PIG-026'\n",
       "\\item 'PIG-027'\n",
       "\\item 'PIG-028'\n",
       "\\item 'PIG-029'\n",
       "\\item 'PIG-030'\n",
       "\\item 'PIG-031'\n",
       "\\item 'PIG-032'\n",
       "\\item 'PIG-033'\n",
       "\\item 'PIG-034'\n",
       "\\item 'PIG-035'\n",
       "\\item 'PIG-036'\n",
       "\\item 'PIG-037'\n",
       "\\item 'PIG-038'\n",
       "\\item 'PIG-039'\n",
       "\\item 'PIG-041'\n",
       "\\item 'PIG-042'\n",
       "\\item 'PIG-043'\n",
       "\\item 'PIG-044'\n",
       "\\item 'PIG-045'\n",
       "\\item 'PIG-046'\n",
       "\\item 'PIG-047'\n",
       "\\item 'PIG-048'\n",
       "\\item 'PIG-049'\n",
       "\\item 'PIG-052'\n",
       "\\item 'PIG-053'\n",
       "\\item 'PIG-054'\n",
       "\\item 'PIG-055'\n",
       "\\item 'PIG-056'\n",
       "\\item 'PIG-057'\n",
       "\\item 'PIG-058'\n",
       "\\item 'PIG-059'\n",
       "\\item 'PIG-060'\n",
       "\\item 'PIG-061'\n",
       "\\item 'PIG-062'\n",
       "\\item 'PIG-063'\n",
       "\\item 'PIG-064'\n",
       "\\item 'PIG-065'\n",
       "\\item 'PIG-066'\n",
       "\\item 'PIG-067'\n",
       "\\item 'PIG-068'\n",
       "\\item 'PIG-069'\n",
       "\\item 'PIG-071'\n",
       "\\item 'PIG-073'\n",
       "\\item 'PIG-074'\n",
       "\\item 'PIG-075'\n",
       "\\item 'PIG-076'\n",
       "\\item 'PIG-077'\n",
       "\\item 'PIG-078'\n",
       "\\item 'PIG-079'\n",
       "\\item 'PIG-080'\n",
       "\\item 'PIG-081'\n",
       "\\item 'PIG-082'\n",
       "\\item 'PIG-083'\n",
       "\\item 'PIG-084'\n",
       "\\item 'PIG-085'\n",
       "\\item 'PIG-086'\n",
       "\\item 'PIG-087'\n",
       "\\item 'PIG-088'\n",
       "\\item 'PIG-090'\n",
       "\\item 'PIG-091'\n",
       "\\item 'PIG-092'\n",
       "\\item 'PIG-093'\n",
       "\\item 'PIG-094'\n",
       "\\item 'PIG-095'\n",
       "\\item 'PIG-096'\n",
       "\\item 'PIG-097'\n",
       "\\item 'PIG-098'\n",
       "\\item 'PIG-099'\n",
       "\\item 'PIG-101'\n",
       "\\item 'PIG-102'\n",
       "\\item 'PIG-103'\n",
       "\\item 'PIG-104'\n",
       "\\item 'PIG-105'\n",
       "\\item 'PIG-106'\n",
       "\\item 'PIG-107'\n",
       "\\item 'PIG-108'\n",
       "\\item 'PIG-109'\n",
       "\\item 'PIG-110'\n",
       "\\item 'SYZ-202B'\n",
       "\\item 'SYZ-304B'\n",
       "\\item 'SYZ-388B'\n",
       "\\item 'SYZ-423B'\n",
       "\\item 'SYZ-426B'\n",
       "\\item 'SYZ-428B'\n",
       "\\item 'SYZ-430B'\n",
       "\\item 'SYZ-441B'\n",
       "\\item 'SYZ-442B'\n",
       "\\item 'SYZ-448B'\n",
       "\\item 'SYZ-477B'\n",
       "\\item 'SYZ-481B'\n",
       "\\item 'SYZ-495B'\n",
       "\\item 'SYZ-533B'\n",
       "\\item 'SYZ-631B'\n",
       "\\item 'SYZ-635B'\n",
       "\\item 'SYZ-636B'\n",
       "\\item 'SYZ-639B'\n",
       "\\item 'SYZ-A002B'\n",
       "\\item 'ZXZ-10Ba'\n",
       "\\item 'ZXZ-10Bb'\n",
       "\\item 'ZXZ-1B'\n",
       "\\item 'ZXZ-2B'\n",
       "\\item 'ZXZ-3B'\n",
       "\\item 'ZXZ-4B'\n",
       "\\item 'ZXZ-5B'\n",
       "\\item 'ZXZ-6B'\n",
       "\\item 'ZXZ-7B'\n",
       "\\item 'ZXZ-8B'\n",
       "\\item 'ZXZ-9B'\n",
       "\\end{enumerate*}\n"
      ],
      "text/markdown": [
       "1. BHZ-10B\n",
       "2. BHZ-12B\n",
       "3. BHZ-1B\n",
       "4. BHZ-2B\n",
       "5. BHZ-4B\n",
       "6. BHZ-5B\n",
       "7. BHZ-8B\n",
       "8. BMZ-11B\n",
       "9. BMZ-14B\n",
       "10. BMZ-15B\n",
       "11. BMZ-16B\n",
       "12. BMZ-17B\n",
       "13. BMZ-3B\n",
       "14. BMZ-6B\n",
       "15. BMZ-9B\n",
       "16. DB-510B\n",
       "17. DB-512B\n",
       "18. DB-530B\n",
       "19. DB-531B\n",
       "20. DB-537B\n",
       "21. EYZ-120B\n",
       "22. EYZ-160Ba\n",
       "23. EYZ-192Bb\n",
       "24. EYZ-353B\n",
       "25. EYZ-362B\n",
       "26. EYZ-368B\n",
       "27. EYZ-378B\n",
       "28. EYZ-468Ba\n",
       "29. EYZ-542B\n",
       "30. EYZ-566Bb\n",
       "31. EYZ-592Ba\n",
       "32. EYZ-592Bb\n",
       "33. EYZ-652Bb\n",
       "34. PIG_111\n",
       "35. PIG_112\n",
       "36. PIG_114\n",
       "37. PIG_115\n",
       "38. PIG_118\n",
       "39. PIG_119\n",
       "40. PIG_121\n",
       "41. PIG_122\n",
       "42. PIG_124\n",
       "43. PIG_130\n",
       "44. PIG_131\n",
       "45. PIG_132\n",
       "46. PIG_134\n",
       "47. PIG_135\n",
       "48. PIG_136\n",
       "49. PIG_141\n",
       "50. PIG_142\n",
       "51. PIG_144\n",
       "52. PIG_146\n",
       "53. PIG_153\n",
       "54. PIG_161\n",
       "55. PIG_164\n",
       "56. PIG_168\n",
       "57. PIG_170\n",
       "58. PIG_172\n",
       "59. PIG_174\n",
       "60. PIG_179\n",
       "61. PIG_181\n",
       "62. PIG_183\n",
       "63. PIG_184\n",
       "64. PIG_185\n",
       "65. PIG_186\n",
       "66. PIG_190\n",
       "67. PIG_192\n",
       "68. PIG_193\n",
       "69. PIG_197\n",
       "70. PIG_202\n",
       "71. PIG_205\n",
       "72. PIG_206\n",
       "73. PIG_207\n",
       "74. PIG-002\n",
       "75. PIG-003\n",
       "76. PIG-006\n",
       "77. PIG-009\n",
       "78. PIG-012\n",
       "79. PIG-015\n",
       "80. PIG-020\n",
       "81. PIG-022\n",
       "82. PIG-023\n",
       "83. PIG-024\n",
       "84. PIG-025\n",
       "85. PIG-027\n",
       "86. PIG-035\n",
       "87. PIG-037\n",
       "88. PIG-038\n",
       "89. PIG-039\n",
       "90. PIG-046\n",
       "91. PIG-047\n",
       "92. PIG-048\n",
       "93. PIG-049\n",
       "94. PIG-052\n",
       "95. PIG-054\n",
       "96. PIG-055\n",
       "97. PIG-056\n",
       "98. PIG-059\n",
       "99. PIG-060\n",
       "100. PIG-062\n",
       "101. PIG-063\n",
       "102. PIG-066\n",
       "103. PIG-067\n",
       "104. PIG-071\n",
       "105. PIG-073\n",
       "106. PIG-074\n",
       "107. PIG-076\n",
       "108. PIG-078\n",
       "109. PIG-080\n",
       "110. PIG-081\n",
       "111. PIG-086\n",
       "112. PIG-087\n",
       "113. PIG-088\n",
       "114. PIG-090\n",
       "115. PIG-091\n",
       "116. PIG-095\n",
       "117. PIG-096\n",
       "118. PIG-097\n",
       "119. PIG-098\n",
       "120. PIG-099\n",
       "121. PIG-101\n",
       "122. PIG-102\n",
       "123. PIG-103\n",
       "124. PIG-105\n",
       "125. PIG-109\n",
       "126. SYZ-202B\n",
       "127. SYZ-304B\n",
       "128. SYZ-388B\n",
       "129. SYZ-423B\n",
       "130. SYZ-426B\n",
       "131. SYZ-430B\n",
       "132. SYZ-441B\n",
       "133. SYZ-442B\n",
       "134. SYZ-448B\n",
       "135. SYZ-477B\n",
       "136. SYZ-481B\n",
       "137. SYZ-495B\n",
       "138. SYZ-636B\n",
       "139. SYZ-639B\n",
       "140. SYZ-A002B\n",
       "141. ZXZ-10Ba\n",
       "142. ZXZ-3B\n",
       "143. ZXZ-5B\n",
       "144. ZXZ-6B\n",
       "145. ZXZ-7B\n",
       "146. ZXZ-9B\n",
       "\n",
       "\n",
       "\n",
       "**Levels**: 1. 'BHZ-10B'\n",
       "2. 'BHZ-11B'\n",
       "3. 'BHZ-12B'\n",
       "4. 'BHZ-1B'\n",
       "5. 'BHZ-2B'\n",
       "6. 'BHZ-3B'\n",
       "7. 'BHZ-4B'\n",
       "8. 'BHZ-5B'\n",
       "9. 'BHZ-6B'\n",
       "10. 'BHZ-7B'\n",
       "11. 'BHZ-8B'\n",
       "12. 'BHZ-9B'\n",
       "13. 'BMZ-10B'\n",
       "14. 'BMZ-11B'\n",
       "15. 'BMZ-12B'\n",
       "16. 'BMZ-13B'\n",
       "17. 'BMZ-14B'\n",
       "18. 'BMZ-15B'\n",
       "19. 'BMZ-16B'\n",
       "20. 'BMZ-17B'\n",
       "21. 'BMZ-1B'\n",
       "22. 'BMZ-2B'\n",
       "23. 'BMZ-3B'\n",
       "24. 'BMZ-4B'\n",
       "25. 'BMZ-5B'\n",
       "26. 'BMZ-6B'\n",
       "27. 'BMZ-7B'\n",
       "28. 'BMZ-8B'\n",
       "29. 'BMZ-9B'\n",
       "30. 'DB-11B'\n",
       "31. 'DB-510B'\n",
       "32. 'DB-511B'\n",
       "33. 'DB-512B'\n",
       "34. 'DB-515B'\n",
       "35. 'DB-517B'\n",
       "36. 'DB-529B'\n",
       "37. 'DB-530B'\n",
       "38. 'DB-531B'\n",
       "39. 'DB-537B'\n",
       "40. 'EYZ-120B'\n",
       "41. 'EYZ-160Ba'\n",
       "42. 'EYZ-160Bb'\n",
       "43. 'EYZ-183B'\n",
       "44. 'EYZ-192Ba'\n",
       "45. 'EYZ-192Bb'\n",
       "46. 'EYZ-254B'\n",
       "47. 'EYZ-353B'\n",
       "48. 'EYZ-362B'\n",
       "49. 'EYZ-368B'\n",
       "50. 'EYZ-378B'\n",
       "51. 'EYZ-381B'\n",
       "52. 'EYZ-468Ba'\n",
       "53. 'EYZ-468Bb'\n",
       "54. 'EYZ-542B'\n",
       "55. 'EYZ-566Ba'\n",
       "56. 'EYZ-566Bb'\n",
       "57. 'EYZ-568B'\n",
       "58. 'EYZ-572Ba'\n",
       "59. 'EYZ-572Bb'\n",
       "60. 'EYZ-592Ba'\n",
       "61. 'EYZ-592Bb'\n",
       "62. 'EYZ-611B'\n",
       "63. 'EYZ-615B'\n",
       "64. 'EYZ-652Ba'\n",
       "65. 'EYZ-652Bb'\n",
       "66. 'PIG_111'\n",
       "67. 'PIG_112'\n",
       "68. 'PIG_113'\n",
       "69. 'PIG_114'\n",
       "70. 'PIG_115'\n",
       "71. 'PIG_116'\n",
       "72. 'PIG_117'\n",
       "73. 'PIG_118'\n",
       "74. 'PIG_119'\n",
       "75. 'PIG_120'\n",
       "76. 'PIG_121'\n",
       "77. 'PIG_122'\n",
       "78. 'PIG_123'\n",
       "79. 'PIG_124'\n",
       "80. 'PIG_125'\n",
       "81. 'PIG_126'\n",
       "82. 'PIG_127'\n",
       "83. 'PIG_128'\n",
       "84. 'PIG_129'\n",
       "85. 'PIG_130'\n",
       "86. 'PIG_131'\n",
       "87. 'PIG_132'\n",
       "88. 'PIG_133'\n",
       "89. 'PIG_134'\n",
       "90. 'PIG_135'\n",
       "91. 'PIG_136'\n",
       "92. 'PIG_137'\n",
       "93. 'PIG_138'\n",
       "94. 'PIG_139'\n",
       "95. 'PIG_140'\n",
       "96. 'PIG_141'\n",
       "97. 'PIG_142'\n",
       "98. 'PIG_143'\n",
       "99. 'PIG_144'\n",
       "100. 'PIG_145'\n",
       "101. 'PIG_146'\n",
       "102. 'PIG_147'\n",
       "103. 'PIG_148'\n",
       "104. 'PIG_149'\n",
       "105. 'PIG_150'\n",
       "106. 'PIG_151'\n",
       "107. 'PIG_152'\n",
       "108. 'PIG_153'\n",
       "109. 'PIG_154'\n",
       "110. 'PIG_155'\n",
       "111. 'PIG_156'\n",
       "112. 'PIG_157'\n",
       "113. 'PIG_158'\n",
       "114. 'PIG_159'\n",
       "115. 'PIG_160'\n",
       "116. 'PIG_161'\n",
       "117. 'PIG_162'\n",
       "118. 'PIG_163'\n",
       "119. 'PIG_164'\n",
       "120. 'PIG_165'\n",
       "121. 'PIG_166'\n",
       "122. 'PIG_167'\n",
       "123. 'PIG_168'\n",
       "124. 'PIG_169'\n",
       "125. 'PIG_170'\n",
       "126. 'PIG_171'\n",
       "127. 'PIG_172'\n",
       "128. 'PIG_173'\n",
       "129. 'PIG_174'\n",
       "130. 'PIG_175'\n",
       "131. 'PIG_176'\n",
       "132. 'PIG_177'\n",
       "133. 'PIG_178'\n",
       "134. 'PIG_179'\n",
       "135. 'PIG_180'\n",
       "136. 'PIG_181'\n",
       "137. 'PIG_182'\n",
       "138. 'PIG_183'\n",
       "139. 'PIG_184'\n",
       "140. 'PIG_185'\n",
       "141. 'PIG_186'\n",
       "142. 'PIG_187'\n",
       "143. 'PIG_188'\n",
       "144. 'PIG_189'\n",
       "145. 'PIG_190'\n",
       "146. 'PIG_191'\n",
       "147. 'PIG_192'\n",
       "148. 'PIG_193'\n",
       "149. 'PIG_194'\n",
       "150. 'PIG_195'\n",
       "151. 'PIG_196'\n",
       "152. 'PIG_197'\n",
       "153. 'PIG_198'\n",
       "154. 'PIG_199'\n",
       "155. 'PIG_200'\n",
       "156. 'PIG_201'\n",
       "157. 'PIG_202'\n",
       "158. 'PIG_203'\n",
       "159. 'PIG_204'\n",
       "160. 'PIG_205'\n",
       "161. 'PIG_206'\n",
       "162. 'PIG_207'\n",
       "163. 'PIG_208'\n",
       "164. 'PIG_209'\n",
       "165. 'PIG_210'\n",
       "166. 'PIG-001'\n",
       "167. 'PIG-002'\n",
       "168. 'PIG-003'\n",
       "169. 'PIG-004'\n",
       "170. 'PIG-005'\n",
       "171. 'PIG-006'\n",
       "172. 'PIG-007'\n",
       "173. 'PIG-008'\n",
       "174. 'PIG-009'\n",
       "175. 'PIG-011'\n",
       "176. 'PIG-012'\n",
       "177. 'PIG-014'\n",
       "178. 'PIG-015'\n",
       "179. 'PIG-016'\n",
       "180. 'PIG-017'\n",
       "181. 'PIG-018'\n",
       "182. 'PIG-019'\n",
       "183. 'PIG-020'\n",
       "184. 'PIG-022'\n",
       "185. 'PIG-023'\n",
       "186. 'PIG-024'\n",
       "187. 'PIG-025'\n",
       "188. 'PIG-026'\n",
       "189. 'PIG-027'\n",
       "190. 'PIG-028'\n",
       "191. 'PIG-029'\n",
       "192. 'PIG-030'\n",
       "193. 'PIG-031'\n",
       "194. 'PIG-032'\n",
       "195. 'PIG-033'\n",
       "196. 'PIG-034'\n",
       "197. 'PIG-035'\n",
       "198. 'PIG-036'\n",
       "199. 'PIG-037'\n",
       "200. 'PIG-038'\n",
       "201. 'PIG-039'\n",
       "202. 'PIG-041'\n",
       "203. 'PIG-042'\n",
       "204. 'PIG-043'\n",
       "205. 'PIG-044'\n",
       "206. 'PIG-045'\n",
       "207. 'PIG-046'\n",
       "208. 'PIG-047'\n",
       "209. 'PIG-048'\n",
       "210. 'PIG-049'\n",
       "211. 'PIG-052'\n",
       "212. 'PIG-053'\n",
       "213. 'PIG-054'\n",
       "214. 'PIG-055'\n",
       "215. 'PIG-056'\n",
       "216. 'PIG-057'\n",
       "217. 'PIG-058'\n",
       "218. 'PIG-059'\n",
       "219. 'PIG-060'\n",
       "220. 'PIG-061'\n",
       "221. 'PIG-062'\n",
       "222. 'PIG-063'\n",
       "223. 'PIG-064'\n",
       "224. 'PIG-065'\n",
       "225. 'PIG-066'\n",
       "226. 'PIG-067'\n",
       "227. 'PIG-068'\n",
       "228. 'PIG-069'\n",
       "229. 'PIG-071'\n",
       "230. 'PIG-073'\n",
       "231. 'PIG-074'\n",
       "232. 'PIG-075'\n",
       "233. 'PIG-076'\n",
       "234. 'PIG-077'\n",
       "235. 'PIG-078'\n",
       "236. 'PIG-079'\n",
       "237. 'PIG-080'\n",
       "238. 'PIG-081'\n",
       "239. 'PIG-082'\n",
       "240. 'PIG-083'\n",
       "241. 'PIG-084'\n",
       "242. 'PIG-085'\n",
       "243. 'PIG-086'\n",
       "244. 'PIG-087'\n",
       "245. 'PIG-088'\n",
       "246. 'PIG-090'\n",
       "247. 'PIG-091'\n",
       "248. 'PIG-092'\n",
       "249. 'PIG-093'\n",
       "250. 'PIG-094'\n",
       "251. 'PIG-095'\n",
       "252. 'PIG-096'\n",
       "253. 'PIG-097'\n",
       "254. 'PIG-098'\n",
       "255. 'PIG-099'\n",
       "256. 'PIG-101'\n",
       "257. 'PIG-102'\n",
       "258. 'PIG-103'\n",
       "259. 'PIG-104'\n",
       "260. 'PIG-105'\n",
       "261. 'PIG-106'\n",
       "262. 'PIG-107'\n",
       "263. 'PIG-108'\n",
       "264. 'PIG-109'\n",
       "265. 'PIG-110'\n",
       "266. 'SYZ-202B'\n",
       "267. 'SYZ-304B'\n",
       "268. 'SYZ-388B'\n",
       "269. 'SYZ-423B'\n",
       "270. 'SYZ-426B'\n",
       "271. 'SYZ-428B'\n",
       "272. 'SYZ-430B'\n",
       "273. 'SYZ-441B'\n",
       "274. 'SYZ-442B'\n",
       "275. 'SYZ-448B'\n",
       "276. 'SYZ-477B'\n",
       "277. 'SYZ-481B'\n",
       "278. 'SYZ-495B'\n",
       "279. 'SYZ-533B'\n",
       "280. 'SYZ-631B'\n",
       "281. 'SYZ-635B'\n",
       "282. 'SYZ-636B'\n",
       "283. 'SYZ-639B'\n",
       "284. 'SYZ-A002B'\n",
       "285. 'ZXZ-10Ba'\n",
       "286. 'ZXZ-10Bb'\n",
       "287. 'ZXZ-1B'\n",
       "288. 'ZXZ-2B'\n",
       "289. 'ZXZ-3B'\n",
       "290. 'ZXZ-4B'\n",
       "291. 'ZXZ-5B'\n",
       "292. 'ZXZ-6B'\n",
       "293. 'ZXZ-7B'\n",
       "294. 'ZXZ-8B'\n",
       "295. 'ZXZ-9B'\n",
       "\n",
       "\n"
      ],
      "text/plain": [
       "  [1] BHZ-10B   BHZ-12B   BHZ-1B    BHZ-2B    BHZ-4B    BHZ-5B    BHZ-8B   \n",
       "  [8] BMZ-11B   BMZ-14B   BMZ-15B   BMZ-16B   BMZ-17B   BMZ-3B    BMZ-6B   \n",
       " [15] BMZ-9B    DB-510B   DB-512B   DB-530B   DB-531B   DB-537B   EYZ-120B \n",
       " [22] EYZ-160Ba EYZ-192Bb EYZ-353B  EYZ-362B  EYZ-368B  EYZ-378B  EYZ-468Ba\n",
       " [29] EYZ-542B  EYZ-566Bb EYZ-592Ba EYZ-592Bb EYZ-652Bb PIG_111   PIG_112  \n",
       " [36] PIG_114   PIG_115   PIG_118   PIG_119   PIG_121   PIG_122   PIG_124  \n",
       " [43] PIG_130   PIG_131   PIG_132   PIG_134   PIG_135   PIG_136   PIG_141  \n",
       " [50] PIG_142   PIG_144   PIG_146   PIG_153   PIG_161   PIG_164   PIG_168  \n",
       " [57] PIG_170   PIG_172   PIG_174   PIG_179   PIG_181   PIG_183   PIG_184  \n",
       " [64] PIG_185   PIG_186   PIG_190   PIG_192   PIG_193   PIG_197   PIG_202  \n",
       " [71] PIG_205   PIG_206   PIG_207   PIG-002   PIG-003   PIG-006   PIG-009  \n",
       " [78] PIG-012   PIG-015   PIG-020   PIG-022   PIG-023   PIG-024   PIG-025  \n",
       " [85] PIG-027   PIG-035   PIG-037   PIG-038   PIG-039   PIG-046   PIG-047  \n",
       " [92] PIG-048   PIG-049   PIG-052   PIG-054   PIG-055   PIG-056   PIG-059  \n",
       " [99] PIG-060   PIG-062   PIG-063   PIG-066   PIG-067   PIG-071   PIG-073  \n",
       "[106] PIG-074   PIG-076   PIG-078   PIG-080   PIG-081   PIG-086   PIG-087  \n",
       "[113] PIG-088   PIG-090   PIG-091   PIG-095   PIG-096   PIG-097   PIG-098  \n",
       "[120] PIG-099   PIG-101   PIG-102   PIG-103   PIG-105   PIG-109   SYZ-202B \n",
       "[127] SYZ-304B  SYZ-388B  SYZ-423B  SYZ-426B  SYZ-430B  SYZ-441B  SYZ-442B \n",
       "[134] SYZ-448B  SYZ-477B  SYZ-481B  SYZ-495B  SYZ-636B  SYZ-639B  SYZ-A002B\n",
       "[141] ZXZ-10Ba  ZXZ-3B    ZXZ-5B    ZXZ-6B    ZXZ-7B    ZXZ-9B   \n",
       "295 Levels: BHZ-10B BHZ-11B BHZ-12B BHZ-1B BHZ-2B BHZ-3B BHZ-4B ... ZXZ-9B"
      ]
     },
     "metadata": {},
     "output_type": "display_data"
    }
   ],
   "source": [
    "df_samps %>%\n",
    "    filter(qc_finished == TRUE) %>%\n",
    "    .$Title %>% sort"
   ]
  },
  {
   "cell_type": "code",
   "execution_count": 25,
   "metadata": {
    "ExecuteTime": {
     "end_time": "2019-07-19T06:54:19.044474Z",
     "start_time": "2019-07-19T06:54:18.990Z"
    }
   },
   "outputs": [
    {
     "data": {
      "text/html": [
       "<ol class=list-inline>\n",
       "\t<li>BHZ-11B</li>\n",
       "\t<li>BHZ-3B</li>\n",
       "\t<li>BHZ-6B</li>\n",
       "\t<li>BHZ-7B</li>\n",
       "\t<li>BHZ-9B</li>\n",
       "\t<li>BMZ-10B</li>\n",
       "\t<li>BMZ-12B</li>\n",
       "\t<li>BMZ-13B</li>\n",
       "\t<li>BMZ-1B</li>\n",
       "\t<li>BMZ-2B</li>\n",
       "\t<li>BMZ-4B</li>\n",
       "\t<li>BMZ-5B</li>\n",
       "\t<li>BMZ-7B</li>\n",
       "\t<li>BMZ-8B</li>\n",
       "\t<li>DB-11B</li>\n",
       "\t<li>DB-511B</li>\n",
       "\t<li>DB-515B</li>\n",
       "\t<li>DB-517B</li>\n",
       "\t<li>DB-529B</li>\n",
       "\t<li>EYZ-160Bb</li>\n",
       "\t<li>EYZ-183B</li>\n",
       "\t<li>EYZ-192Ba</li>\n",
       "\t<li>EYZ-254B</li>\n",
       "\t<li>EYZ-381B</li>\n",
       "\t<li>EYZ-468Bb</li>\n",
       "\t<li>EYZ-566Ba</li>\n",
       "\t<li>EYZ-568B</li>\n",
       "\t<li>EYZ-572Ba</li>\n",
       "\t<li>EYZ-572Bb</li>\n",
       "\t<li>EYZ-611B</li>\n",
       "\t<li>EYZ-615B</li>\n",
       "\t<li>EYZ-652Ba</li>\n",
       "\t<li>PIG_113</li>\n",
       "\t<li>PIG_116</li>\n",
       "\t<li>PIG_117</li>\n",
       "\t<li>PIG_120</li>\n",
       "\t<li>PIG_123</li>\n",
       "\t<li>PIG_125</li>\n",
       "\t<li>PIG_126</li>\n",
       "\t<li>PIG_127</li>\n",
       "\t<li>PIG_128</li>\n",
       "\t<li>PIG_129</li>\n",
       "\t<li>PIG_133</li>\n",
       "\t<li>PIG_137</li>\n",
       "\t<li>PIG_138</li>\n",
       "\t<li>PIG_139</li>\n",
       "\t<li>PIG_140</li>\n",
       "\t<li>PIG_143</li>\n",
       "\t<li>PIG_145</li>\n",
       "\t<li>PIG_147</li>\n",
       "\t<li>PIG_148</li>\n",
       "\t<li>PIG_149</li>\n",
       "\t<li>PIG_150</li>\n",
       "\t<li>PIG_151</li>\n",
       "\t<li>PIG_152</li>\n",
       "\t<li>PIG_154</li>\n",
       "\t<li>PIG_155</li>\n",
       "\t<li>PIG_156</li>\n",
       "\t<li>PIG_157</li>\n",
       "\t<li>PIG_158</li>\n",
       "\t<li>PIG_159</li>\n",
       "\t<li>PIG_160</li>\n",
       "\t<li>PIG_162</li>\n",
       "\t<li>PIG_163</li>\n",
       "\t<li>PIG_165</li>\n",
       "\t<li>PIG_166</li>\n",
       "\t<li>PIG_167</li>\n",
       "\t<li>PIG_169</li>\n",
       "\t<li>PIG_171</li>\n",
       "\t<li>PIG_173</li>\n",
       "\t<li>PIG_175</li>\n",
       "\t<li>PIG_176</li>\n",
       "\t<li>PIG_177</li>\n",
       "\t<li>PIG_178</li>\n",
       "\t<li>PIG_180</li>\n",
       "\t<li>PIG_182</li>\n",
       "\t<li>PIG_187</li>\n",
       "\t<li>PIG_188</li>\n",
       "\t<li>PIG_189</li>\n",
       "\t<li>PIG_191</li>\n",
       "\t<li>PIG_194</li>\n",
       "\t<li>PIG_195</li>\n",
       "\t<li>PIG_196</li>\n",
       "\t<li>PIG_198</li>\n",
       "\t<li>PIG_199</li>\n",
       "\t<li>PIG_200</li>\n",
       "\t<li>PIG_201</li>\n",
       "\t<li>PIG_203</li>\n",
       "\t<li>PIG_204</li>\n",
       "\t<li>PIG_208</li>\n",
       "\t<li>PIG_209</li>\n",
       "\t<li>PIG_210</li>\n",
       "\t<li>PIG-001</li>\n",
       "\t<li>PIG-004</li>\n",
       "\t<li>PIG-005</li>\n",
       "\t<li>PIG-007</li>\n",
       "\t<li>PIG-008</li>\n",
       "\t<li>PIG-011</li>\n",
       "\t<li>PIG-014</li>\n",
       "\t<li>PIG-016</li>\n",
       "\t<li>PIG-017</li>\n",
       "\t<li>PIG-018</li>\n",
       "\t<li>PIG-019</li>\n",
       "\t<li>PIG-026</li>\n",
       "\t<li>PIG-028</li>\n",
       "\t<li>PIG-029</li>\n",
       "\t<li>PIG-030</li>\n",
       "\t<li>PIG-031</li>\n",
       "\t<li>PIG-032</li>\n",
       "\t<li>PIG-033</li>\n",
       "\t<li>PIG-034</li>\n",
       "\t<li>PIG-036</li>\n",
       "\t<li>PIG-041</li>\n",
       "\t<li>PIG-042</li>\n",
       "\t<li>PIG-043</li>\n",
       "\t<li>PIG-044</li>\n",
       "\t<li>PIG-045</li>\n",
       "\t<li>PIG-053</li>\n",
       "\t<li>PIG-057</li>\n",
       "\t<li>PIG-058</li>\n",
       "\t<li>PIG-061</li>\n",
       "\t<li>PIG-064</li>\n",
       "\t<li>PIG-065</li>\n",
       "\t<li>PIG-068</li>\n",
       "\t<li>PIG-069</li>\n",
       "\t<li>PIG-075</li>\n",
       "\t<li>PIG-077</li>\n",
       "\t<li>PIG-079</li>\n",
       "\t<li>PIG-082</li>\n",
       "\t<li>PIG-083</li>\n",
       "\t<li>PIG-084</li>\n",
       "\t<li>PIG-085</li>\n",
       "\t<li>PIG-092</li>\n",
       "\t<li>PIG-093</li>\n",
       "\t<li>PIG-094</li>\n",
       "\t<li>PIG-104</li>\n",
       "\t<li>PIG-106</li>\n",
       "\t<li>PIG-107</li>\n",
       "\t<li>PIG-108</li>\n",
       "\t<li>PIG-110</li>\n",
       "\t<li>SYZ-428B</li>\n",
       "\t<li>SYZ-533B</li>\n",
       "\t<li>SYZ-631B</li>\n",
       "\t<li>SYZ-635B</li>\n",
       "\t<li>ZXZ-10Bb</li>\n",
       "\t<li>ZXZ-1B</li>\n",
       "\t<li>ZXZ-2B</li>\n",
       "\t<li>ZXZ-4B</li>\n",
       "\t<li>ZXZ-8B</li>\n",
       "</ol>\n",
       "\n",
       "<details>\n",
       "\t<summary style=display:list-item;cursor:pointer>\n",
       "\t\t<strong>Levels</strong>:\n",
       "\t</summary>\n",
       "\t<ol class=list-inline>\n",
       "\t\t<li>'BHZ-10B'</li>\n",
       "\t\t<li>'BHZ-11B'</li>\n",
       "\t\t<li>'BHZ-12B'</li>\n",
       "\t\t<li>'BHZ-1B'</li>\n",
       "\t\t<li>'BHZ-2B'</li>\n",
       "\t\t<li>'BHZ-3B'</li>\n",
       "\t\t<li>'BHZ-4B'</li>\n",
       "\t\t<li>'BHZ-5B'</li>\n",
       "\t\t<li>'BHZ-6B'</li>\n",
       "\t\t<li>'BHZ-7B'</li>\n",
       "\t\t<li>'BHZ-8B'</li>\n",
       "\t\t<li>'BHZ-9B'</li>\n",
       "\t\t<li>'BMZ-10B'</li>\n",
       "\t\t<li>'BMZ-11B'</li>\n",
       "\t\t<li>'BMZ-12B'</li>\n",
       "\t\t<li>'BMZ-13B'</li>\n",
       "\t\t<li>'BMZ-14B'</li>\n",
       "\t\t<li>'BMZ-15B'</li>\n",
       "\t\t<li>'BMZ-16B'</li>\n",
       "\t\t<li>'BMZ-17B'</li>\n",
       "\t\t<li>'BMZ-1B'</li>\n",
       "\t\t<li>'BMZ-2B'</li>\n",
       "\t\t<li>'BMZ-3B'</li>\n",
       "\t\t<li>'BMZ-4B'</li>\n",
       "\t\t<li>'BMZ-5B'</li>\n",
       "\t\t<li>'BMZ-6B'</li>\n",
       "\t\t<li>'BMZ-7B'</li>\n",
       "\t\t<li>'BMZ-8B'</li>\n",
       "\t\t<li>'BMZ-9B'</li>\n",
       "\t\t<li>'DB-11B'</li>\n",
       "\t\t<li>'DB-510B'</li>\n",
       "\t\t<li>'DB-511B'</li>\n",
       "\t\t<li>'DB-512B'</li>\n",
       "\t\t<li>'DB-515B'</li>\n",
       "\t\t<li>'DB-517B'</li>\n",
       "\t\t<li>'DB-529B'</li>\n",
       "\t\t<li>'DB-530B'</li>\n",
       "\t\t<li>'DB-531B'</li>\n",
       "\t\t<li>'DB-537B'</li>\n",
       "\t\t<li>'EYZ-120B'</li>\n",
       "\t\t<li>'EYZ-160Ba'</li>\n",
       "\t\t<li>'EYZ-160Bb'</li>\n",
       "\t\t<li>'EYZ-183B'</li>\n",
       "\t\t<li>'EYZ-192Ba'</li>\n",
       "\t\t<li>'EYZ-192Bb'</li>\n",
       "\t\t<li>'EYZ-254B'</li>\n",
       "\t\t<li>'EYZ-353B'</li>\n",
       "\t\t<li>'EYZ-362B'</li>\n",
       "\t\t<li>'EYZ-368B'</li>\n",
       "\t\t<li>'EYZ-378B'</li>\n",
       "\t\t<li>'EYZ-381B'</li>\n",
       "\t\t<li>'EYZ-468Ba'</li>\n",
       "\t\t<li>'EYZ-468Bb'</li>\n",
       "\t\t<li>'EYZ-542B'</li>\n",
       "\t\t<li>'EYZ-566Ba'</li>\n",
       "\t\t<li>'EYZ-566Bb'</li>\n",
       "\t\t<li>'EYZ-568B'</li>\n",
       "\t\t<li>'EYZ-572Ba'</li>\n",
       "\t\t<li>'EYZ-572Bb'</li>\n",
       "\t\t<li>'EYZ-592Ba'</li>\n",
       "\t\t<li>'EYZ-592Bb'</li>\n",
       "\t\t<li>'EYZ-611B'</li>\n",
       "\t\t<li>'EYZ-615B'</li>\n",
       "\t\t<li>'EYZ-652Ba'</li>\n",
       "\t\t<li>'EYZ-652Bb'</li>\n",
       "\t\t<li>'PIG_111'</li>\n",
       "\t\t<li>'PIG_112'</li>\n",
       "\t\t<li>'PIG_113'</li>\n",
       "\t\t<li>'PIG_114'</li>\n",
       "\t\t<li>'PIG_115'</li>\n",
       "\t\t<li>'PIG_116'</li>\n",
       "\t\t<li>'PIG_117'</li>\n",
       "\t\t<li>'PIG_118'</li>\n",
       "\t\t<li>'PIG_119'</li>\n",
       "\t\t<li>'PIG_120'</li>\n",
       "\t\t<li>'PIG_121'</li>\n",
       "\t\t<li>'PIG_122'</li>\n",
       "\t\t<li>'PIG_123'</li>\n",
       "\t\t<li>'PIG_124'</li>\n",
       "\t\t<li>'PIG_125'</li>\n",
       "\t\t<li>'PIG_126'</li>\n",
       "\t\t<li>'PIG_127'</li>\n",
       "\t\t<li>'PIG_128'</li>\n",
       "\t\t<li>'PIG_129'</li>\n",
       "\t\t<li>'PIG_130'</li>\n",
       "\t\t<li>'PIG_131'</li>\n",
       "\t\t<li>'PIG_132'</li>\n",
       "\t\t<li>'PIG_133'</li>\n",
       "\t\t<li>'PIG_134'</li>\n",
       "\t\t<li>'PIG_135'</li>\n",
       "\t\t<li>'PIG_136'</li>\n",
       "\t\t<li>'PIG_137'</li>\n",
       "\t\t<li>'PIG_138'</li>\n",
       "\t\t<li>'PIG_139'</li>\n",
       "\t\t<li>'PIG_140'</li>\n",
       "\t\t<li>'PIG_141'</li>\n",
       "\t\t<li>'PIG_142'</li>\n",
       "\t\t<li>'PIG_143'</li>\n",
       "\t\t<li>'PIG_144'</li>\n",
       "\t\t<li>'PIG_145'</li>\n",
       "\t\t<li>'PIG_146'</li>\n",
       "\t\t<li>'PIG_147'</li>\n",
       "\t\t<li>'PIG_148'</li>\n",
       "\t\t<li>'PIG_149'</li>\n",
       "\t\t<li>'PIG_150'</li>\n",
       "\t\t<li>'PIG_151'</li>\n",
       "\t\t<li>'PIG_152'</li>\n",
       "\t\t<li>'PIG_153'</li>\n",
       "\t\t<li>'PIG_154'</li>\n",
       "\t\t<li>'PIG_155'</li>\n",
       "\t\t<li>'PIG_156'</li>\n",
       "\t\t<li>'PIG_157'</li>\n",
       "\t\t<li>'PIG_158'</li>\n",
       "\t\t<li>'PIG_159'</li>\n",
       "\t\t<li>'PIG_160'</li>\n",
       "\t\t<li>'PIG_161'</li>\n",
       "\t\t<li>'PIG_162'</li>\n",
       "\t\t<li>'PIG_163'</li>\n",
       "\t\t<li>'PIG_164'</li>\n",
       "\t\t<li>'PIG_165'</li>\n",
       "\t\t<li>'PIG_166'</li>\n",
       "\t\t<li>'PIG_167'</li>\n",
       "\t\t<li>'PIG_168'</li>\n",
       "\t\t<li>'PIG_169'</li>\n",
       "\t\t<li>'PIG_170'</li>\n",
       "\t\t<li>'PIG_171'</li>\n",
       "\t\t<li>'PIG_172'</li>\n",
       "\t\t<li>'PIG_173'</li>\n",
       "\t\t<li>'PIG_174'</li>\n",
       "\t\t<li>'PIG_175'</li>\n",
       "\t\t<li>'PIG_176'</li>\n",
       "\t\t<li>'PIG_177'</li>\n",
       "\t\t<li>'PIG_178'</li>\n",
       "\t\t<li>'PIG_179'</li>\n",
       "\t\t<li>'PIG_180'</li>\n",
       "\t\t<li>'PIG_181'</li>\n",
       "\t\t<li>'PIG_182'</li>\n",
       "\t\t<li>'PIG_183'</li>\n",
       "\t\t<li>'PIG_184'</li>\n",
       "\t\t<li>'PIG_185'</li>\n",
       "\t\t<li>'PIG_186'</li>\n",
       "\t\t<li>'PIG_187'</li>\n",
       "\t\t<li>'PIG_188'</li>\n",
       "\t\t<li>'PIG_189'</li>\n",
       "\t\t<li>'PIG_190'</li>\n",
       "\t\t<li>'PIG_191'</li>\n",
       "\t\t<li>'PIG_192'</li>\n",
       "\t\t<li>'PIG_193'</li>\n",
       "\t\t<li>'PIG_194'</li>\n",
       "\t\t<li>'PIG_195'</li>\n",
       "\t\t<li>'PIG_196'</li>\n",
       "\t\t<li>'PIG_197'</li>\n",
       "\t\t<li>'PIG_198'</li>\n",
       "\t\t<li>'PIG_199'</li>\n",
       "\t\t<li>'PIG_200'</li>\n",
       "\t\t<li>'PIG_201'</li>\n",
       "\t\t<li>'PIG_202'</li>\n",
       "\t\t<li>'PIG_203'</li>\n",
       "\t\t<li>'PIG_204'</li>\n",
       "\t\t<li>'PIG_205'</li>\n",
       "\t\t<li>'PIG_206'</li>\n",
       "\t\t<li>'PIG_207'</li>\n",
       "\t\t<li>'PIG_208'</li>\n",
       "\t\t<li>'PIG_209'</li>\n",
       "\t\t<li>'PIG_210'</li>\n",
       "\t\t<li>'PIG-001'</li>\n",
       "\t\t<li>'PIG-002'</li>\n",
       "\t\t<li>'PIG-003'</li>\n",
       "\t\t<li>'PIG-004'</li>\n",
       "\t\t<li>'PIG-005'</li>\n",
       "\t\t<li>'PIG-006'</li>\n",
       "\t\t<li>'PIG-007'</li>\n",
       "\t\t<li>'PIG-008'</li>\n",
       "\t\t<li>'PIG-009'</li>\n",
       "\t\t<li>'PIG-011'</li>\n",
       "\t\t<li>'PIG-012'</li>\n",
       "\t\t<li>'PIG-014'</li>\n",
       "\t\t<li>'PIG-015'</li>\n",
       "\t\t<li>'PIG-016'</li>\n",
       "\t\t<li>'PIG-017'</li>\n",
       "\t\t<li>'PIG-018'</li>\n",
       "\t\t<li>'PIG-019'</li>\n",
       "\t\t<li>'PIG-020'</li>\n",
       "\t\t<li>'PIG-022'</li>\n",
       "\t\t<li>'PIG-023'</li>\n",
       "\t\t<li>'PIG-024'</li>\n",
       "\t\t<li>'PIG-025'</li>\n",
       "\t\t<li>'PIG-026'</li>\n",
       "\t\t<li>'PIG-027'</li>\n",
       "\t\t<li>'PIG-028'</li>\n",
       "\t\t<li>'PIG-029'</li>\n",
       "\t\t<li>'PIG-030'</li>\n",
       "\t\t<li>'PIG-031'</li>\n",
       "\t\t<li>'PIG-032'</li>\n",
       "\t\t<li>'PIG-033'</li>\n",
       "\t\t<li>'PIG-034'</li>\n",
       "\t\t<li>'PIG-035'</li>\n",
       "\t\t<li>'PIG-036'</li>\n",
       "\t\t<li>'PIG-037'</li>\n",
       "\t\t<li>'PIG-038'</li>\n",
       "\t\t<li>'PIG-039'</li>\n",
       "\t\t<li>'PIG-041'</li>\n",
       "\t\t<li>'PIG-042'</li>\n",
       "\t\t<li>'PIG-043'</li>\n",
       "\t\t<li>'PIG-044'</li>\n",
       "\t\t<li>'PIG-045'</li>\n",
       "\t\t<li>'PIG-046'</li>\n",
       "\t\t<li>'PIG-047'</li>\n",
       "\t\t<li>'PIG-048'</li>\n",
       "\t\t<li>'PIG-049'</li>\n",
       "\t\t<li>'PIG-052'</li>\n",
       "\t\t<li>'PIG-053'</li>\n",
       "\t\t<li>'PIG-054'</li>\n",
       "\t\t<li>'PIG-055'</li>\n",
       "\t\t<li>'PIG-056'</li>\n",
       "\t\t<li>'PIG-057'</li>\n",
       "\t\t<li>'PIG-058'</li>\n",
       "\t\t<li>'PIG-059'</li>\n",
       "\t\t<li>'PIG-060'</li>\n",
       "\t\t<li>'PIG-061'</li>\n",
       "\t\t<li>'PIG-062'</li>\n",
       "\t\t<li>'PIG-063'</li>\n",
       "\t\t<li>'PIG-064'</li>\n",
       "\t\t<li>'PIG-065'</li>\n",
       "\t\t<li>'PIG-066'</li>\n",
       "\t\t<li>'PIG-067'</li>\n",
       "\t\t<li>'PIG-068'</li>\n",
       "\t\t<li>'PIG-069'</li>\n",
       "\t\t<li>'PIG-071'</li>\n",
       "\t\t<li>'PIG-073'</li>\n",
       "\t\t<li>'PIG-074'</li>\n",
       "\t\t<li>'PIG-075'</li>\n",
       "\t\t<li>'PIG-076'</li>\n",
       "\t\t<li>'PIG-077'</li>\n",
       "\t\t<li>'PIG-078'</li>\n",
       "\t\t<li>'PIG-079'</li>\n",
       "\t\t<li>'PIG-080'</li>\n",
       "\t\t<li>'PIG-081'</li>\n",
       "\t\t<li>'PIG-082'</li>\n",
       "\t\t<li>'PIG-083'</li>\n",
       "\t\t<li>'PIG-084'</li>\n",
       "\t\t<li>'PIG-085'</li>\n",
       "\t\t<li>'PIG-086'</li>\n",
       "\t\t<li>'PIG-087'</li>\n",
       "\t\t<li>'PIG-088'</li>\n",
       "\t\t<li>'PIG-090'</li>\n",
       "\t\t<li>'PIG-091'</li>\n",
       "\t\t<li>'PIG-092'</li>\n",
       "\t\t<li>'PIG-093'</li>\n",
       "\t\t<li>'PIG-094'</li>\n",
       "\t\t<li>'PIG-095'</li>\n",
       "\t\t<li>'PIG-096'</li>\n",
       "\t\t<li>'PIG-097'</li>\n",
       "\t\t<li>'PIG-098'</li>\n",
       "\t\t<li>'PIG-099'</li>\n",
       "\t\t<li>'PIG-101'</li>\n",
       "\t\t<li>'PIG-102'</li>\n",
       "\t\t<li>'PIG-103'</li>\n",
       "\t\t<li>'PIG-104'</li>\n",
       "\t\t<li>'PIG-105'</li>\n",
       "\t\t<li>'PIG-106'</li>\n",
       "\t\t<li>'PIG-107'</li>\n",
       "\t\t<li>'PIG-108'</li>\n",
       "\t\t<li>'PIG-109'</li>\n",
       "\t\t<li>'PIG-110'</li>\n",
       "\t\t<li>'SYZ-202B'</li>\n",
       "\t\t<li>'SYZ-304B'</li>\n",
       "\t\t<li>'SYZ-388B'</li>\n",
       "\t\t<li>'SYZ-423B'</li>\n",
       "\t\t<li>'SYZ-426B'</li>\n",
       "\t\t<li>'SYZ-428B'</li>\n",
       "\t\t<li>'SYZ-430B'</li>\n",
       "\t\t<li>'SYZ-441B'</li>\n",
       "\t\t<li>'SYZ-442B'</li>\n",
       "\t\t<li>'SYZ-448B'</li>\n",
       "\t\t<li>'SYZ-477B'</li>\n",
       "\t\t<li>'SYZ-481B'</li>\n",
       "\t\t<li>'SYZ-495B'</li>\n",
       "\t\t<li>'SYZ-533B'</li>\n",
       "\t\t<li>'SYZ-631B'</li>\n",
       "\t\t<li>'SYZ-635B'</li>\n",
       "\t\t<li>'SYZ-636B'</li>\n",
       "\t\t<li>'SYZ-639B'</li>\n",
       "\t\t<li>'SYZ-A002B'</li>\n",
       "\t\t<li>'ZXZ-10Ba'</li>\n",
       "\t\t<li>'ZXZ-10Bb'</li>\n",
       "\t\t<li>'ZXZ-1B'</li>\n",
       "\t\t<li>'ZXZ-2B'</li>\n",
       "\t\t<li>'ZXZ-3B'</li>\n",
       "\t\t<li>'ZXZ-4B'</li>\n",
       "\t\t<li>'ZXZ-5B'</li>\n",
       "\t\t<li>'ZXZ-6B'</li>\n",
       "\t\t<li>'ZXZ-7B'</li>\n",
       "\t\t<li>'ZXZ-8B'</li>\n",
       "\t\t<li>'ZXZ-9B'</li>\n",
       "\t</ol>\n",
       "</details>"
      ],
      "text/latex": [
       "\\begin{enumerate*}\n",
       "\\item BHZ-11B\n",
       "\\item BHZ-3B\n",
       "\\item BHZ-6B\n",
       "\\item BHZ-7B\n",
       "\\item BHZ-9B\n",
       "\\item BMZ-10B\n",
       "\\item BMZ-12B\n",
       "\\item BMZ-13B\n",
       "\\item BMZ-1B\n",
       "\\item BMZ-2B\n",
       "\\item BMZ-4B\n",
       "\\item BMZ-5B\n",
       "\\item BMZ-7B\n",
       "\\item BMZ-8B\n",
       "\\item DB-11B\n",
       "\\item DB-511B\n",
       "\\item DB-515B\n",
       "\\item DB-517B\n",
       "\\item DB-529B\n",
       "\\item EYZ-160Bb\n",
       "\\item EYZ-183B\n",
       "\\item EYZ-192Ba\n",
       "\\item EYZ-254B\n",
       "\\item EYZ-381B\n",
       "\\item EYZ-468Bb\n",
       "\\item EYZ-566Ba\n",
       "\\item EYZ-568B\n",
       "\\item EYZ-572Ba\n",
       "\\item EYZ-572Bb\n",
       "\\item EYZ-611B\n",
       "\\item EYZ-615B\n",
       "\\item EYZ-652Ba\n",
       "\\item PIG\\_113\n",
       "\\item PIG\\_116\n",
       "\\item PIG\\_117\n",
       "\\item PIG\\_120\n",
       "\\item PIG\\_123\n",
       "\\item PIG\\_125\n",
       "\\item PIG\\_126\n",
       "\\item PIG\\_127\n",
       "\\item PIG\\_128\n",
       "\\item PIG\\_129\n",
       "\\item PIG\\_133\n",
       "\\item PIG\\_137\n",
       "\\item PIG\\_138\n",
       "\\item PIG\\_139\n",
       "\\item PIG\\_140\n",
       "\\item PIG\\_143\n",
       "\\item PIG\\_145\n",
       "\\item PIG\\_147\n",
       "\\item PIG\\_148\n",
       "\\item PIG\\_149\n",
       "\\item PIG\\_150\n",
       "\\item PIG\\_151\n",
       "\\item PIG\\_152\n",
       "\\item PIG\\_154\n",
       "\\item PIG\\_155\n",
       "\\item PIG\\_156\n",
       "\\item PIG\\_157\n",
       "\\item PIG\\_158\n",
       "\\item PIG\\_159\n",
       "\\item PIG\\_160\n",
       "\\item PIG\\_162\n",
       "\\item PIG\\_163\n",
       "\\item PIG\\_165\n",
       "\\item PIG\\_166\n",
       "\\item PIG\\_167\n",
       "\\item PIG\\_169\n",
       "\\item PIG\\_171\n",
       "\\item PIG\\_173\n",
       "\\item PIG\\_175\n",
       "\\item PIG\\_176\n",
       "\\item PIG\\_177\n",
       "\\item PIG\\_178\n",
       "\\item PIG\\_180\n",
       "\\item PIG\\_182\n",
       "\\item PIG\\_187\n",
       "\\item PIG\\_188\n",
       "\\item PIG\\_189\n",
       "\\item PIG\\_191\n",
       "\\item PIG\\_194\n",
       "\\item PIG\\_195\n",
       "\\item PIG\\_196\n",
       "\\item PIG\\_198\n",
       "\\item PIG\\_199\n",
       "\\item PIG\\_200\n",
       "\\item PIG\\_201\n",
       "\\item PIG\\_203\n",
       "\\item PIG\\_204\n",
       "\\item PIG\\_208\n",
       "\\item PIG\\_209\n",
       "\\item PIG\\_210\n",
       "\\item PIG-001\n",
       "\\item PIG-004\n",
       "\\item PIG-005\n",
       "\\item PIG-007\n",
       "\\item PIG-008\n",
       "\\item PIG-011\n",
       "\\item PIG-014\n",
       "\\item PIG-016\n",
       "\\item PIG-017\n",
       "\\item PIG-018\n",
       "\\item PIG-019\n",
       "\\item PIG-026\n",
       "\\item PIG-028\n",
       "\\item PIG-029\n",
       "\\item PIG-030\n",
       "\\item PIG-031\n",
       "\\item PIG-032\n",
       "\\item PIG-033\n",
       "\\item PIG-034\n",
       "\\item PIG-036\n",
       "\\item PIG-041\n",
       "\\item PIG-042\n",
       "\\item PIG-043\n",
       "\\item PIG-044\n",
       "\\item PIG-045\n",
       "\\item PIG-053\n",
       "\\item PIG-057\n",
       "\\item PIG-058\n",
       "\\item PIG-061\n",
       "\\item PIG-064\n",
       "\\item PIG-065\n",
       "\\item PIG-068\n",
       "\\item PIG-069\n",
       "\\item PIG-075\n",
       "\\item PIG-077\n",
       "\\item PIG-079\n",
       "\\item PIG-082\n",
       "\\item PIG-083\n",
       "\\item PIG-084\n",
       "\\item PIG-085\n",
       "\\item PIG-092\n",
       "\\item PIG-093\n",
       "\\item PIG-094\n",
       "\\item PIG-104\n",
       "\\item PIG-106\n",
       "\\item PIG-107\n",
       "\\item PIG-108\n",
       "\\item PIG-110\n",
       "\\item SYZ-428B\n",
       "\\item SYZ-533B\n",
       "\\item SYZ-631B\n",
       "\\item SYZ-635B\n",
       "\\item ZXZ-10Bb\n",
       "\\item ZXZ-1B\n",
       "\\item ZXZ-2B\n",
       "\\item ZXZ-4B\n",
       "\\item ZXZ-8B\n",
       "\\end{enumerate*}\n",
       "\n",
       "\\emph{Levels}: \\begin{enumerate*}\n",
       "\\item 'BHZ-10B'\n",
       "\\item 'BHZ-11B'\n",
       "\\item 'BHZ-12B'\n",
       "\\item 'BHZ-1B'\n",
       "\\item 'BHZ-2B'\n",
       "\\item 'BHZ-3B'\n",
       "\\item 'BHZ-4B'\n",
       "\\item 'BHZ-5B'\n",
       "\\item 'BHZ-6B'\n",
       "\\item 'BHZ-7B'\n",
       "\\item 'BHZ-8B'\n",
       "\\item 'BHZ-9B'\n",
       "\\item 'BMZ-10B'\n",
       "\\item 'BMZ-11B'\n",
       "\\item 'BMZ-12B'\n",
       "\\item 'BMZ-13B'\n",
       "\\item 'BMZ-14B'\n",
       "\\item 'BMZ-15B'\n",
       "\\item 'BMZ-16B'\n",
       "\\item 'BMZ-17B'\n",
       "\\item 'BMZ-1B'\n",
       "\\item 'BMZ-2B'\n",
       "\\item 'BMZ-3B'\n",
       "\\item 'BMZ-4B'\n",
       "\\item 'BMZ-5B'\n",
       "\\item 'BMZ-6B'\n",
       "\\item 'BMZ-7B'\n",
       "\\item 'BMZ-8B'\n",
       "\\item 'BMZ-9B'\n",
       "\\item 'DB-11B'\n",
       "\\item 'DB-510B'\n",
       "\\item 'DB-511B'\n",
       "\\item 'DB-512B'\n",
       "\\item 'DB-515B'\n",
       "\\item 'DB-517B'\n",
       "\\item 'DB-529B'\n",
       "\\item 'DB-530B'\n",
       "\\item 'DB-531B'\n",
       "\\item 'DB-537B'\n",
       "\\item 'EYZ-120B'\n",
       "\\item 'EYZ-160Ba'\n",
       "\\item 'EYZ-160Bb'\n",
       "\\item 'EYZ-183B'\n",
       "\\item 'EYZ-192Ba'\n",
       "\\item 'EYZ-192Bb'\n",
       "\\item 'EYZ-254B'\n",
       "\\item 'EYZ-353B'\n",
       "\\item 'EYZ-362B'\n",
       "\\item 'EYZ-368B'\n",
       "\\item 'EYZ-378B'\n",
       "\\item 'EYZ-381B'\n",
       "\\item 'EYZ-468Ba'\n",
       "\\item 'EYZ-468Bb'\n",
       "\\item 'EYZ-542B'\n",
       "\\item 'EYZ-566Ba'\n",
       "\\item 'EYZ-566Bb'\n",
       "\\item 'EYZ-568B'\n",
       "\\item 'EYZ-572Ba'\n",
       "\\item 'EYZ-572Bb'\n",
       "\\item 'EYZ-592Ba'\n",
       "\\item 'EYZ-592Bb'\n",
       "\\item 'EYZ-611B'\n",
       "\\item 'EYZ-615B'\n",
       "\\item 'EYZ-652Ba'\n",
       "\\item 'EYZ-652Bb'\n",
       "\\item 'PIG\\_111'\n",
       "\\item 'PIG\\_112'\n",
       "\\item 'PIG\\_113'\n",
       "\\item 'PIG\\_114'\n",
       "\\item 'PIG\\_115'\n",
       "\\item 'PIG\\_116'\n",
       "\\item 'PIG\\_117'\n",
       "\\item 'PIG\\_118'\n",
       "\\item 'PIG\\_119'\n",
       "\\item 'PIG\\_120'\n",
       "\\item 'PIG\\_121'\n",
       "\\item 'PIG\\_122'\n",
       "\\item 'PIG\\_123'\n",
       "\\item 'PIG\\_124'\n",
       "\\item 'PIG\\_125'\n",
       "\\item 'PIG\\_126'\n",
       "\\item 'PIG\\_127'\n",
       "\\item 'PIG\\_128'\n",
       "\\item 'PIG\\_129'\n",
       "\\item 'PIG\\_130'\n",
       "\\item 'PIG\\_131'\n",
       "\\item 'PIG\\_132'\n",
       "\\item 'PIG\\_133'\n",
       "\\item 'PIG\\_134'\n",
       "\\item 'PIG\\_135'\n",
       "\\item 'PIG\\_136'\n",
       "\\item 'PIG\\_137'\n",
       "\\item 'PIG\\_138'\n",
       "\\item 'PIG\\_139'\n",
       "\\item 'PIG\\_140'\n",
       "\\item 'PIG\\_141'\n",
       "\\item 'PIG\\_142'\n",
       "\\item 'PIG\\_143'\n",
       "\\item 'PIG\\_144'\n",
       "\\item 'PIG\\_145'\n",
       "\\item 'PIG\\_146'\n",
       "\\item 'PIG\\_147'\n",
       "\\item 'PIG\\_148'\n",
       "\\item 'PIG\\_149'\n",
       "\\item 'PIG\\_150'\n",
       "\\item 'PIG\\_151'\n",
       "\\item 'PIG\\_152'\n",
       "\\item 'PIG\\_153'\n",
       "\\item 'PIG\\_154'\n",
       "\\item 'PIG\\_155'\n",
       "\\item 'PIG\\_156'\n",
       "\\item 'PIG\\_157'\n",
       "\\item 'PIG\\_158'\n",
       "\\item 'PIG\\_159'\n",
       "\\item 'PIG\\_160'\n",
       "\\item 'PIG\\_161'\n",
       "\\item 'PIG\\_162'\n",
       "\\item 'PIG\\_163'\n",
       "\\item 'PIG\\_164'\n",
       "\\item 'PIG\\_165'\n",
       "\\item 'PIG\\_166'\n",
       "\\item 'PIG\\_167'\n",
       "\\item 'PIG\\_168'\n",
       "\\item 'PIG\\_169'\n",
       "\\item 'PIG\\_170'\n",
       "\\item 'PIG\\_171'\n",
       "\\item 'PIG\\_172'\n",
       "\\item 'PIG\\_173'\n",
       "\\item 'PIG\\_174'\n",
       "\\item 'PIG\\_175'\n",
       "\\item 'PIG\\_176'\n",
       "\\item 'PIG\\_177'\n",
       "\\item 'PIG\\_178'\n",
       "\\item 'PIG\\_179'\n",
       "\\item 'PIG\\_180'\n",
       "\\item 'PIG\\_181'\n",
       "\\item 'PIG\\_182'\n",
       "\\item 'PIG\\_183'\n",
       "\\item 'PIG\\_184'\n",
       "\\item 'PIG\\_185'\n",
       "\\item 'PIG\\_186'\n",
       "\\item 'PIG\\_187'\n",
       "\\item 'PIG\\_188'\n",
       "\\item 'PIG\\_189'\n",
       "\\item 'PIG\\_190'\n",
       "\\item 'PIG\\_191'\n",
       "\\item 'PIG\\_192'\n",
       "\\item 'PIG\\_193'\n",
       "\\item 'PIG\\_194'\n",
       "\\item 'PIG\\_195'\n",
       "\\item 'PIG\\_196'\n",
       "\\item 'PIG\\_197'\n",
       "\\item 'PIG\\_198'\n",
       "\\item 'PIG\\_199'\n",
       "\\item 'PIG\\_200'\n",
       "\\item 'PIG\\_201'\n",
       "\\item 'PIG\\_202'\n",
       "\\item 'PIG\\_203'\n",
       "\\item 'PIG\\_204'\n",
       "\\item 'PIG\\_205'\n",
       "\\item 'PIG\\_206'\n",
       "\\item 'PIG\\_207'\n",
       "\\item 'PIG\\_208'\n",
       "\\item 'PIG\\_209'\n",
       "\\item 'PIG\\_210'\n",
       "\\item 'PIG-001'\n",
       "\\item 'PIG-002'\n",
       "\\item 'PIG-003'\n",
       "\\item 'PIG-004'\n",
       "\\item 'PIG-005'\n",
       "\\item 'PIG-006'\n",
       "\\item 'PIG-007'\n",
       "\\item 'PIG-008'\n",
       "\\item 'PIG-009'\n",
       "\\item 'PIG-011'\n",
       "\\item 'PIG-012'\n",
       "\\item 'PIG-014'\n",
       "\\item 'PIG-015'\n",
       "\\item 'PIG-016'\n",
       "\\item 'PIG-017'\n",
       "\\item 'PIG-018'\n",
       "\\item 'PIG-019'\n",
       "\\item 'PIG-020'\n",
       "\\item 'PIG-022'\n",
       "\\item 'PIG-023'\n",
       "\\item 'PIG-024'\n",
       "\\item 'PIG-025'\n",
       "\\item 'PIG-026'\n",
       "\\item 'PIG-027'\n",
       "\\item 'PIG-028'\n",
       "\\item 'PIG-029'\n",
       "\\item 'PIG-030'\n",
       "\\item 'PIG-031'\n",
       "\\item 'PIG-032'\n",
       "\\item 'PIG-033'\n",
       "\\item 'PIG-034'\n",
       "\\item 'PIG-035'\n",
       "\\item 'PIG-036'\n",
       "\\item 'PIG-037'\n",
       "\\item 'PIG-038'\n",
       "\\item 'PIG-039'\n",
       "\\item 'PIG-041'\n",
       "\\item 'PIG-042'\n",
       "\\item 'PIG-043'\n",
       "\\item 'PIG-044'\n",
       "\\item 'PIG-045'\n",
       "\\item 'PIG-046'\n",
       "\\item 'PIG-047'\n",
       "\\item 'PIG-048'\n",
       "\\item 'PIG-049'\n",
       "\\item 'PIG-052'\n",
       "\\item 'PIG-053'\n",
       "\\item 'PIG-054'\n",
       "\\item 'PIG-055'\n",
       "\\item 'PIG-056'\n",
       "\\item 'PIG-057'\n",
       "\\item 'PIG-058'\n",
       "\\item 'PIG-059'\n",
       "\\item 'PIG-060'\n",
       "\\item 'PIG-061'\n",
       "\\item 'PIG-062'\n",
       "\\item 'PIG-063'\n",
       "\\item 'PIG-064'\n",
       "\\item 'PIG-065'\n",
       "\\item 'PIG-066'\n",
       "\\item 'PIG-067'\n",
       "\\item 'PIG-068'\n",
       "\\item 'PIG-069'\n",
       "\\item 'PIG-071'\n",
       "\\item 'PIG-073'\n",
       "\\item 'PIG-074'\n",
       "\\item 'PIG-075'\n",
       "\\item 'PIG-076'\n",
       "\\item 'PIG-077'\n",
       "\\item 'PIG-078'\n",
       "\\item 'PIG-079'\n",
       "\\item 'PIG-080'\n",
       "\\item 'PIG-081'\n",
       "\\item 'PIG-082'\n",
       "\\item 'PIG-083'\n",
       "\\item 'PIG-084'\n",
       "\\item 'PIG-085'\n",
       "\\item 'PIG-086'\n",
       "\\item 'PIG-087'\n",
       "\\item 'PIG-088'\n",
       "\\item 'PIG-090'\n",
       "\\item 'PIG-091'\n",
       "\\item 'PIG-092'\n",
       "\\item 'PIG-093'\n",
       "\\item 'PIG-094'\n",
       "\\item 'PIG-095'\n",
       "\\item 'PIG-096'\n",
       "\\item 'PIG-097'\n",
       "\\item 'PIG-098'\n",
       "\\item 'PIG-099'\n",
       "\\item 'PIG-101'\n",
       "\\item 'PIG-102'\n",
       "\\item 'PIG-103'\n",
       "\\item 'PIG-104'\n",
       "\\item 'PIG-105'\n",
       "\\item 'PIG-106'\n",
       "\\item 'PIG-107'\n",
       "\\item 'PIG-108'\n",
       "\\item 'PIG-109'\n",
       "\\item 'PIG-110'\n",
       "\\item 'SYZ-202B'\n",
       "\\item 'SYZ-304B'\n",
       "\\item 'SYZ-388B'\n",
       "\\item 'SYZ-423B'\n",
       "\\item 'SYZ-426B'\n",
       "\\item 'SYZ-428B'\n",
       "\\item 'SYZ-430B'\n",
       "\\item 'SYZ-441B'\n",
       "\\item 'SYZ-442B'\n",
       "\\item 'SYZ-448B'\n",
       "\\item 'SYZ-477B'\n",
       "\\item 'SYZ-481B'\n",
       "\\item 'SYZ-495B'\n",
       "\\item 'SYZ-533B'\n",
       "\\item 'SYZ-631B'\n",
       "\\item 'SYZ-635B'\n",
       "\\item 'SYZ-636B'\n",
       "\\item 'SYZ-639B'\n",
       "\\item 'SYZ-A002B'\n",
       "\\item 'ZXZ-10Ba'\n",
       "\\item 'ZXZ-10Bb'\n",
       "\\item 'ZXZ-1B'\n",
       "\\item 'ZXZ-2B'\n",
       "\\item 'ZXZ-3B'\n",
       "\\item 'ZXZ-4B'\n",
       "\\item 'ZXZ-5B'\n",
       "\\item 'ZXZ-6B'\n",
       "\\item 'ZXZ-7B'\n",
       "\\item 'ZXZ-8B'\n",
       "\\item 'ZXZ-9B'\n",
       "\\end{enumerate*}\n"
      ],
      "text/markdown": [
       "1. BHZ-11B\n",
       "2. BHZ-3B\n",
       "3. BHZ-6B\n",
       "4. BHZ-7B\n",
       "5. BHZ-9B\n",
       "6. BMZ-10B\n",
       "7. BMZ-12B\n",
       "8. BMZ-13B\n",
       "9. BMZ-1B\n",
       "10. BMZ-2B\n",
       "11. BMZ-4B\n",
       "12. BMZ-5B\n",
       "13. BMZ-7B\n",
       "14. BMZ-8B\n",
       "15. DB-11B\n",
       "16. DB-511B\n",
       "17. DB-515B\n",
       "18. DB-517B\n",
       "19. DB-529B\n",
       "20. EYZ-160Bb\n",
       "21. EYZ-183B\n",
       "22. EYZ-192Ba\n",
       "23. EYZ-254B\n",
       "24. EYZ-381B\n",
       "25. EYZ-468Bb\n",
       "26. EYZ-566Ba\n",
       "27. EYZ-568B\n",
       "28. EYZ-572Ba\n",
       "29. EYZ-572Bb\n",
       "30. EYZ-611B\n",
       "31. EYZ-615B\n",
       "32. EYZ-652Ba\n",
       "33. PIG_113\n",
       "34. PIG_116\n",
       "35. PIG_117\n",
       "36. PIG_120\n",
       "37. PIG_123\n",
       "38. PIG_125\n",
       "39. PIG_126\n",
       "40. PIG_127\n",
       "41. PIG_128\n",
       "42. PIG_129\n",
       "43. PIG_133\n",
       "44. PIG_137\n",
       "45. PIG_138\n",
       "46. PIG_139\n",
       "47. PIG_140\n",
       "48. PIG_143\n",
       "49. PIG_145\n",
       "50. PIG_147\n",
       "51. PIG_148\n",
       "52. PIG_149\n",
       "53. PIG_150\n",
       "54. PIG_151\n",
       "55. PIG_152\n",
       "56. PIG_154\n",
       "57. PIG_155\n",
       "58. PIG_156\n",
       "59. PIG_157\n",
       "60. PIG_158\n",
       "61. PIG_159\n",
       "62. PIG_160\n",
       "63. PIG_162\n",
       "64. PIG_163\n",
       "65. PIG_165\n",
       "66. PIG_166\n",
       "67. PIG_167\n",
       "68. PIG_169\n",
       "69. PIG_171\n",
       "70. PIG_173\n",
       "71. PIG_175\n",
       "72. PIG_176\n",
       "73. PIG_177\n",
       "74. PIG_178\n",
       "75. PIG_180\n",
       "76. PIG_182\n",
       "77. PIG_187\n",
       "78. PIG_188\n",
       "79. PIG_189\n",
       "80. PIG_191\n",
       "81. PIG_194\n",
       "82. PIG_195\n",
       "83. PIG_196\n",
       "84. PIG_198\n",
       "85. PIG_199\n",
       "86. PIG_200\n",
       "87. PIG_201\n",
       "88. PIG_203\n",
       "89. PIG_204\n",
       "90. PIG_208\n",
       "91. PIG_209\n",
       "92. PIG_210\n",
       "93. PIG-001\n",
       "94. PIG-004\n",
       "95. PIG-005\n",
       "96. PIG-007\n",
       "97. PIG-008\n",
       "98. PIG-011\n",
       "99. PIG-014\n",
       "100. PIG-016\n",
       "101. PIG-017\n",
       "102. PIG-018\n",
       "103. PIG-019\n",
       "104. PIG-026\n",
       "105. PIG-028\n",
       "106. PIG-029\n",
       "107. PIG-030\n",
       "108. PIG-031\n",
       "109. PIG-032\n",
       "110. PIG-033\n",
       "111. PIG-034\n",
       "112. PIG-036\n",
       "113. PIG-041\n",
       "114. PIG-042\n",
       "115. PIG-043\n",
       "116. PIG-044\n",
       "117. PIG-045\n",
       "118. PIG-053\n",
       "119. PIG-057\n",
       "120. PIG-058\n",
       "121. PIG-061\n",
       "122. PIG-064\n",
       "123. PIG-065\n",
       "124. PIG-068\n",
       "125. PIG-069\n",
       "126. PIG-075\n",
       "127. PIG-077\n",
       "128. PIG-079\n",
       "129. PIG-082\n",
       "130. PIG-083\n",
       "131. PIG-084\n",
       "132. PIG-085\n",
       "133. PIG-092\n",
       "134. PIG-093\n",
       "135. PIG-094\n",
       "136. PIG-104\n",
       "137. PIG-106\n",
       "138. PIG-107\n",
       "139. PIG-108\n",
       "140. PIG-110\n",
       "141. SYZ-428B\n",
       "142. SYZ-533B\n",
       "143. SYZ-631B\n",
       "144. SYZ-635B\n",
       "145. ZXZ-10Bb\n",
       "146. ZXZ-1B\n",
       "147. ZXZ-2B\n",
       "148. ZXZ-4B\n",
       "149. ZXZ-8B\n",
       "\n",
       "\n",
       "\n",
       "**Levels**: 1. 'BHZ-10B'\n",
       "2. 'BHZ-11B'\n",
       "3. 'BHZ-12B'\n",
       "4. 'BHZ-1B'\n",
       "5. 'BHZ-2B'\n",
       "6. 'BHZ-3B'\n",
       "7. 'BHZ-4B'\n",
       "8. 'BHZ-5B'\n",
       "9. 'BHZ-6B'\n",
       "10. 'BHZ-7B'\n",
       "11. 'BHZ-8B'\n",
       "12. 'BHZ-9B'\n",
       "13. 'BMZ-10B'\n",
       "14. 'BMZ-11B'\n",
       "15. 'BMZ-12B'\n",
       "16. 'BMZ-13B'\n",
       "17. 'BMZ-14B'\n",
       "18. 'BMZ-15B'\n",
       "19. 'BMZ-16B'\n",
       "20. 'BMZ-17B'\n",
       "21. 'BMZ-1B'\n",
       "22. 'BMZ-2B'\n",
       "23. 'BMZ-3B'\n",
       "24. 'BMZ-4B'\n",
       "25. 'BMZ-5B'\n",
       "26. 'BMZ-6B'\n",
       "27. 'BMZ-7B'\n",
       "28. 'BMZ-8B'\n",
       "29. 'BMZ-9B'\n",
       "30. 'DB-11B'\n",
       "31. 'DB-510B'\n",
       "32. 'DB-511B'\n",
       "33. 'DB-512B'\n",
       "34. 'DB-515B'\n",
       "35. 'DB-517B'\n",
       "36. 'DB-529B'\n",
       "37. 'DB-530B'\n",
       "38. 'DB-531B'\n",
       "39. 'DB-537B'\n",
       "40. 'EYZ-120B'\n",
       "41. 'EYZ-160Ba'\n",
       "42. 'EYZ-160Bb'\n",
       "43. 'EYZ-183B'\n",
       "44. 'EYZ-192Ba'\n",
       "45. 'EYZ-192Bb'\n",
       "46. 'EYZ-254B'\n",
       "47. 'EYZ-353B'\n",
       "48. 'EYZ-362B'\n",
       "49. 'EYZ-368B'\n",
       "50. 'EYZ-378B'\n",
       "51. 'EYZ-381B'\n",
       "52. 'EYZ-468Ba'\n",
       "53. 'EYZ-468Bb'\n",
       "54. 'EYZ-542B'\n",
       "55. 'EYZ-566Ba'\n",
       "56. 'EYZ-566Bb'\n",
       "57. 'EYZ-568B'\n",
       "58. 'EYZ-572Ba'\n",
       "59. 'EYZ-572Bb'\n",
       "60. 'EYZ-592Ba'\n",
       "61. 'EYZ-592Bb'\n",
       "62. 'EYZ-611B'\n",
       "63. 'EYZ-615B'\n",
       "64. 'EYZ-652Ba'\n",
       "65. 'EYZ-652Bb'\n",
       "66. 'PIG_111'\n",
       "67. 'PIG_112'\n",
       "68. 'PIG_113'\n",
       "69. 'PIG_114'\n",
       "70. 'PIG_115'\n",
       "71. 'PIG_116'\n",
       "72. 'PIG_117'\n",
       "73. 'PIG_118'\n",
       "74. 'PIG_119'\n",
       "75. 'PIG_120'\n",
       "76. 'PIG_121'\n",
       "77. 'PIG_122'\n",
       "78. 'PIG_123'\n",
       "79. 'PIG_124'\n",
       "80. 'PIG_125'\n",
       "81. 'PIG_126'\n",
       "82. 'PIG_127'\n",
       "83. 'PIG_128'\n",
       "84. 'PIG_129'\n",
       "85. 'PIG_130'\n",
       "86. 'PIG_131'\n",
       "87. 'PIG_132'\n",
       "88. 'PIG_133'\n",
       "89. 'PIG_134'\n",
       "90. 'PIG_135'\n",
       "91. 'PIG_136'\n",
       "92. 'PIG_137'\n",
       "93. 'PIG_138'\n",
       "94. 'PIG_139'\n",
       "95. 'PIG_140'\n",
       "96. 'PIG_141'\n",
       "97. 'PIG_142'\n",
       "98. 'PIG_143'\n",
       "99. 'PIG_144'\n",
       "100. 'PIG_145'\n",
       "101. 'PIG_146'\n",
       "102. 'PIG_147'\n",
       "103. 'PIG_148'\n",
       "104. 'PIG_149'\n",
       "105. 'PIG_150'\n",
       "106. 'PIG_151'\n",
       "107. 'PIG_152'\n",
       "108. 'PIG_153'\n",
       "109. 'PIG_154'\n",
       "110. 'PIG_155'\n",
       "111. 'PIG_156'\n",
       "112. 'PIG_157'\n",
       "113. 'PIG_158'\n",
       "114. 'PIG_159'\n",
       "115. 'PIG_160'\n",
       "116. 'PIG_161'\n",
       "117. 'PIG_162'\n",
       "118. 'PIG_163'\n",
       "119. 'PIG_164'\n",
       "120. 'PIG_165'\n",
       "121. 'PIG_166'\n",
       "122. 'PIG_167'\n",
       "123. 'PIG_168'\n",
       "124. 'PIG_169'\n",
       "125. 'PIG_170'\n",
       "126. 'PIG_171'\n",
       "127. 'PIG_172'\n",
       "128. 'PIG_173'\n",
       "129. 'PIG_174'\n",
       "130. 'PIG_175'\n",
       "131. 'PIG_176'\n",
       "132. 'PIG_177'\n",
       "133. 'PIG_178'\n",
       "134. 'PIG_179'\n",
       "135. 'PIG_180'\n",
       "136. 'PIG_181'\n",
       "137. 'PIG_182'\n",
       "138. 'PIG_183'\n",
       "139. 'PIG_184'\n",
       "140. 'PIG_185'\n",
       "141. 'PIG_186'\n",
       "142. 'PIG_187'\n",
       "143. 'PIG_188'\n",
       "144. 'PIG_189'\n",
       "145. 'PIG_190'\n",
       "146. 'PIG_191'\n",
       "147. 'PIG_192'\n",
       "148. 'PIG_193'\n",
       "149. 'PIG_194'\n",
       "150. 'PIG_195'\n",
       "151. 'PIG_196'\n",
       "152. 'PIG_197'\n",
       "153. 'PIG_198'\n",
       "154. 'PIG_199'\n",
       "155. 'PIG_200'\n",
       "156. 'PIG_201'\n",
       "157. 'PIG_202'\n",
       "158. 'PIG_203'\n",
       "159. 'PIG_204'\n",
       "160. 'PIG_205'\n",
       "161. 'PIG_206'\n",
       "162. 'PIG_207'\n",
       "163. 'PIG_208'\n",
       "164. 'PIG_209'\n",
       "165. 'PIG_210'\n",
       "166. 'PIG-001'\n",
       "167. 'PIG-002'\n",
       "168. 'PIG-003'\n",
       "169. 'PIG-004'\n",
       "170. 'PIG-005'\n",
       "171. 'PIG-006'\n",
       "172. 'PIG-007'\n",
       "173. 'PIG-008'\n",
       "174. 'PIG-009'\n",
       "175. 'PIG-011'\n",
       "176. 'PIG-012'\n",
       "177. 'PIG-014'\n",
       "178. 'PIG-015'\n",
       "179. 'PIG-016'\n",
       "180. 'PIG-017'\n",
       "181. 'PIG-018'\n",
       "182. 'PIG-019'\n",
       "183. 'PIG-020'\n",
       "184. 'PIG-022'\n",
       "185. 'PIG-023'\n",
       "186. 'PIG-024'\n",
       "187. 'PIG-025'\n",
       "188. 'PIG-026'\n",
       "189. 'PIG-027'\n",
       "190. 'PIG-028'\n",
       "191. 'PIG-029'\n",
       "192. 'PIG-030'\n",
       "193. 'PIG-031'\n",
       "194. 'PIG-032'\n",
       "195. 'PIG-033'\n",
       "196. 'PIG-034'\n",
       "197. 'PIG-035'\n",
       "198. 'PIG-036'\n",
       "199. 'PIG-037'\n",
       "200. 'PIG-038'\n",
       "201. 'PIG-039'\n",
       "202. 'PIG-041'\n",
       "203. 'PIG-042'\n",
       "204. 'PIG-043'\n",
       "205. 'PIG-044'\n",
       "206. 'PIG-045'\n",
       "207. 'PIG-046'\n",
       "208. 'PIG-047'\n",
       "209. 'PIG-048'\n",
       "210. 'PIG-049'\n",
       "211. 'PIG-052'\n",
       "212. 'PIG-053'\n",
       "213. 'PIG-054'\n",
       "214. 'PIG-055'\n",
       "215. 'PIG-056'\n",
       "216. 'PIG-057'\n",
       "217. 'PIG-058'\n",
       "218. 'PIG-059'\n",
       "219. 'PIG-060'\n",
       "220. 'PIG-061'\n",
       "221. 'PIG-062'\n",
       "222. 'PIG-063'\n",
       "223. 'PIG-064'\n",
       "224. 'PIG-065'\n",
       "225. 'PIG-066'\n",
       "226. 'PIG-067'\n",
       "227. 'PIG-068'\n",
       "228. 'PIG-069'\n",
       "229. 'PIG-071'\n",
       "230. 'PIG-073'\n",
       "231. 'PIG-074'\n",
       "232. 'PIG-075'\n",
       "233. 'PIG-076'\n",
       "234. 'PIG-077'\n",
       "235. 'PIG-078'\n",
       "236. 'PIG-079'\n",
       "237. 'PIG-080'\n",
       "238. 'PIG-081'\n",
       "239. 'PIG-082'\n",
       "240. 'PIG-083'\n",
       "241. 'PIG-084'\n",
       "242. 'PIG-085'\n",
       "243. 'PIG-086'\n",
       "244. 'PIG-087'\n",
       "245. 'PIG-088'\n",
       "246. 'PIG-090'\n",
       "247. 'PIG-091'\n",
       "248. 'PIG-092'\n",
       "249. 'PIG-093'\n",
       "250. 'PIG-094'\n",
       "251. 'PIG-095'\n",
       "252. 'PIG-096'\n",
       "253. 'PIG-097'\n",
       "254. 'PIG-098'\n",
       "255. 'PIG-099'\n",
       "256. 'PIG-101'\n",
       "257. 'PIG-102'\n",
       "258. 'PIG-103'\n",
       "259. 'PIG-104'\n",
       "260. 'PIG-105'\n",
       "261. 'PIG-106'\n",
       "262. 'PIG-107'\n",
       "263. 'PIG-108'\n",
       "264. 'PIG-109'\n",
       "265. 'PIG-110'\n",
       "266. 'SYZ-202B'\n",
       "267. 'SYZ-304B'\n",
       "268. 'SYZ-388B'\n",
       "269. 'SYZ-423B'\n",
       "270. 'SYZ-426B'\n",
       "271. 'SYZ-428B'\n",
       "272. 'SYZ-430B'\n",
       "273. 'SYZ-441B'\n",
       "274. 'SYZ-442B'\n",
       "275. 'SYZ-448B'\n",
       "276. 'SYZ-477B'\n",
       "277. 'SYZ-481B'\n",
       "278. 'SYZ-495B'\n",
       "279. 'SYZ-533B'\n",
       "280. 'SYZ-631B'\n",
       "281. 'SYZ-635B'\n",
       "282. 'SYZ-636B'\n",
       "283. 'SYZ-639B'\n",
       "284. 'SYZ-A002B'\n",
       "285. 'ZXZ-10Ba'\n",
       "286. 'ZXZ-10Bb'\n",
       "287. 'ZXZ-1B'\n",
       "288. 'ZXZ-2B'\n",
       "289. 'ZXZ-3B'\n",
       "290. 'ZXZ-4B'\n",
       "291. 'ZXZ-5B'\n",
       "292. 'ZXZ-6B'\n",
       "293. 'ZXZ-7B'\n",
       "294. 'ZXZ-8B'\n",
       "295. 'ZXZ-9B'\n",
       "\n",
       "\n"
      ],
      "text/plain": [
       "  [1] BHZ-11B   BHZ-3B    BHZ-6B    BHZ-7B    BHZ-9B    BMZ-10B   BMZ-12B  \n",
       "  [8] BMZ-13B   BMZ-1B    BMZ-2B    BMZ-4B    BMZ-5B    BMZ-7B    BMZ-8B   \n",
       " [15] DB-11B    DB-511B   DB-515B   DB-517B   DB-529B   EYZ-160Bb EYZ-183B \n",
       " [22] EYZ-192Ba EYZ-254B  EYZ-381B  EYZ-468Bb EYZ-566Ba EYZ-568B  EYZ-572Ba\n",
       " [29] EYZ-572Bb EYZ-611B  EYZ-615B  EYZ-652Ba PIG_113   PIG_116   PIG_117  \n",
       " [36] PIG_120   PIG_123   PIG_125   PIG_126   PIG_127   PIG_128   PIG_129  \n",
       " [43] PIG_133   PIG_137   PIG_138   PIG_139   PIG_140   PIG_143   PIG_145  \n",
       " [50] PIG_147   PIG_148   PIG_149   PIG_150   PIG_151   PIG_152   PIG_154  \n",
       " [57] PIG_155   PIG_156   PIG_157   PIG_158   PIG_159   PIG_160   PIG_162  \n",
       " [64] PIG_163   PIG_165   PIG_166   PIG_167   PIG_169   PIG_171   PIG_173  \n",
       " [71] PIG_175   PIG_176   PIG_177   PIG_178   PIG_180   PIG_182   PIG_187  \n",
       " [78] PIG_188   PIG_189   PIG_191   PIG_194   PIG_195   PIG_196   PIG_198  \n",
       " [85] PIG_199   PIG_200   PIG_201   PIG_203   PIG_204   PIG_208   PIG_209  \n",
       " [92] PIG_210   PIG-001   PIG-004   PIG-005   PIG-007   PIG-008   PIG-011  \n",
       " [99] PIG-014   PIG-016   PIG-017   PIG-018   PIG-019   PIG-026   PIG-028  \n",
       "[106] PIG-029   PIG-030   PIG-031   PIG-032   PIG-033   PIG-034   PIG-036  \n",
       "[113] PIG-041   PIG-042   PIG-043   PIG-044   PIG-045   PIG-053   PIG-057  \n",
       "[120] PIG-058   PIG-061   PIG-064   PIG-065   PIG-068   PIG-069   PIG-075  \n",
       "[127] PIG-077   PIG-079   PIG-082   PIG-083   PIG-084   PIG-085   PIG-092  \n",
       "[134] PIG-093   PIG-094   PIG-104   PIG-106   PIG-107   PIG-108   PIG-110  \n",
       "[141] SYZ-428B  SYZ-533B  SYZ-631B  SYZ-635B  ZXZ-10Bb  ZXZ-1B    ZXZ-2B   \n",
       "[148] ZXZ-4B    ZXZ-8B   \n",
       "295 Levels: BHZ-10B BHZ-11B BHZ-12B BHZ-1B BHZ-2B BHZ-3B BHZ-4B ... ZXZ-9B"
      ]
     },
     "metadata": {},
     "output_type": "display_data"
    }
   ],
   "source": [
    "df_samps %>%\n",
    "    filter(qc_finished == FALSE) %>%\n",
    "    .$Title %>% sort"
   ]
  },
  {
   "cell_type": "markdown",
   "metadata": {},
   "source": [
    "### Cutting loses\n",
    "\n",
    "* finishing current downloaded set"
   ]
  },
  {
   "cell_type": "code",
   "execution_count": 26,
   "metadata": {
    "ExecuteTime": {
     "end_time": "2019-07-19T07:46:51.518250Z",
     "start_time": "2019-07-19T07:46:51.449Z"
    }
   },
   "outputs": [
    {
     "name": "stdout",
     "output_type": "stream",
     "text": [
      "File written: /ebio/abt3_projects/Georg_animal_feces/data/metagenome/multi-study/BioProjects//PRJEB11755/samples_success.txt \n"
     ]
    }
   ],
   "source": [
    "F = file.path(work_dir, 'PRJEB11755', 'samples_success.txt')\n",
    "df_samps %>%\n",
    "    filter(qc_finished == TRUE) %>%\n",
    "    write.table(F, sep='\\t', quote=FALSE, row.names=FALSE)\n",
    "cat('File written:', F, '\\n')"
   ]
  },
  {
   "cell_type": "markdown",
   "metadata": {},
   "source": [
    "### Summary"
   ]
  },
  {
   "cell_type": "code",
   "execution_count": 38,
   "metadata": {
    "ExecuteTime": {
     "end_time": "2019-07-31T14:38:20.302884Z",
     "start_time": "2019-07-31T14:38:20.235Z"
    }
   },
   "outputs": [
    {
     "name": "stdout",
     "output_type": "stream",
     "text": [
      "[1] 292  21\n"
     ]
    },
    {
     "data": {
      "text/html": [
       "<table>\n",
       "<thead><tr><th scope=col>Sample</th><th scope=col>Filename</th><th scope=col>File.type</th><th scope=col>Encoding</th><th scope=col>Total.Sequences</th><th scope=col>Sequences.flagged.as.poor.quality</th><th scope=col>Sequence.length</th><th scope=col>X.GC</th><th scope=col>total_deduplicated_percentage</th><th scope=col>avg_sequence_length</th><th scope=col>⋯</th><th scope=col>per_base_sequence_quality</th><th scope=col>per_tile_sequence_quality</th><th scope=col>per_sequence_quality_scores</th><th scope=col>per_base_sequence_content</th><th scope=col>per_sequence_gc_content</th><th scope=col>per_base_n_content</th><th scope=col>sequence_length_distribution</th><th scope=col>sequence_duplication_levels</th><th scope=col>overrepresented_sequences</th><th scope=col>adapter_content</th></tr></thead>\n",
       "<tbody>\n",
       "\t<tr><td>SAMEA3663006 | fastqc_per_sample | R1_final</td><td>R1_final.fq.gz                             </td><td>Conventional base calls                    </td><td>Sanger / Illumina 1.9                      </td><td>25857722                                   </td><td>0                                          </td><td>90-96                                      </td><td>40                                         </td><td>96.68032                                   </td><td>95.92704                                   </td><td>⋯                                          </td><td>pass                                       </td><td>fail                                       </td><td>pass                                       </td><td>pass                                       </td><td>pass                                       </td><td>pass                                       </td><td>warn                                       </td><td>pass                                       </td><td>pass                                       </td><td>pass                                       </td></tr>\n",
       "\t<tr><td>SAMEA3663006 | fastqc_per_sample | R2_final</td><td>R2_final.fq.gz                             </td><td>Conventional base calls                    </td><td>Sanger / Illumina 1.9                      </td><td>25857722                                   </td><td>0                                          </td><td>90-93                                      </td><td>40                                         </td><td>96.26200                                   </td><td>92.93400                                   </td><td>⋯                                          </td><td>pass                                       </td><td>pass                                       </td><td>pass                                       </td><td>pass                                       </td><td>pass                                       </td><td>pass                                       </td><td>warn                                       </td><td>pass                                       </td><td>pass                                       </td><td>pass                                       </td></tr>\n",
       "\t<tr><td>SAMEA3663007 | fastqc_per_sample | R1_final</td><td>R1_final.fq.gz                             </td><td>Conventional base calls                    </td><td>Sanger / Illumina 1.9                      </td><td>27881309                                   </td><td>0                                          </td><td>90-95                                      </td><td>44                                         </td><td>96.99528                                   </td><td>94.91033                                   </td><td>⋯                                          </td><td>pass                                       </td><td>pass                                       </td><td>pass                                       </td><td>pass                                       </td><td>pass                                       </td><td>pass                                       </td><td>warn                                       </td><td>pass                                       </td><td>pass                                       </td><td>pass                                       </td></tr>\n",
       "</tbody>\n",
       "</table>\n"
      ],
      "text/latex": [
       "\\begin{tabular}{r|lllllllllllllllllllll}\n",
       " Sample & Filename & File.type & Encoding & Total.Sequences & Sequences.flagged.as.poor.quality & Sequence.length & X.GC & total\\_deduplicated\\_percentage & avg\\_sequence\\_length & ⋯ & per\\_base\\_sequence\\_quality & per\\_tile\\_sequence\\_quality & per\\_sequence\\_quality\\_scores & per\\_base\\_sequence\\_content & per\\_sequence\\_gc\\_content & per\\_base\\_n\\_content & sequence\\_length\\_distribution & sequence\\_duplication\\_levels & overrepresented\\_sequences & adapter\\_content\\\\\n",
       "\\hline\n",
       "\t SAMEA3663006 \\textbar{} fastqc\\_per\\_sample \\textbar{} R1\\_final & R1\\_final.fq.gz                                                      & Conventional base calls                                               & Sanger / Illumina 1.9                                                 & 25857722                                                              & 0                                                                     & 90-96                                                                 & 40                                                                    & 96.68032                                                              & 95.92704                                                              & ⋯                                                                     & pass                                                                  & fail                                                                  & pass                                                                  & pass                                                                  & pass                                                                  & pass                                                                  & warn                                                                  & pass                                                                  & pass                                                                  & pass                                                                 \\\\\n",
       "\t SAMEA3663006 \\textbar{} fastqc\\_per\\_sample \\textbar{} R2\\_final & R2\\_final.fq.gz                                                      & Conventional base calls                                               & Sanger / Illumina 1.9                                                 & 25857722                                                              & 0                                                                     & 90-93                                                                 & 40                                                                    & 96.26200                                                              & 92.93400                                                              & ⋯                                                                     & pass                                                                  & pass                                                                  & pass                                                                  & pass                                                                  & pass                                                                  & pass                                                                  & warn                                                                  & pass                                                                  & pass                                                                  & pass                                                                 \\\\\n",
       "\t SAMEA3663007 \\textbar{} fastqc\\_per\\_sample \\textbar{} R1\\_final & R1\\_final.fq.gz                                                      & Conventional base calls                                               & Sanger / Illumina 1.9                                                 & 27881309                                                              & 0                                                                     & 90-95                                                                 & 44                                                                    & 96.99528                                                              & 94.91033                                                              & ⋯                                                                     & pass                                                                  & pass                                                                  & pass                                                                  & pass                                                                  & pass                                                                  & pass                                                                  & warn                                                                  & pass                                                                  & pass                                                                  & pass                                                                 \\\\\n",
       "\\end{tabular}\n"
      ],
      "text/markdown": [
       "\n",
       "Sample | Filename | File.type | Encoding | Total.Sequences | Sequences.flagged.as.poor.quality | Sequence.length | X.GC | total_deduplicated_percentage | avg_sequence_length | ⋯ | per_base_sequence_quality | per_tile_sequence_quality | per_sequence_quality_scores | per_base_sequence_content | per_sequence_gc_content | per_base_n_content | sequence_length_distribution | sequence_duplication_levels | overrepresented_sequences | adapter_content | \n",
       "|---|---|---|\n",
       "| SAMEA3663006 | fastqc_per_sample | R1_final | R1_final.fq.gz                              | Conventional base calls                     | Sanger / Illumina 1.9                       | 25857722                                    | 0                                           | 90-96                                       | 40                                          | 96.68032                                    | 95.92704                                    | ⋯                                           | pass                                        | fail                                        | pass                                        | pass                                        | pass                                        | pass                                        | warn                                        | pass                                        | pass                                        | pass                                        | \n",
       "| SAMEA3663006 | fastqc_per_sample | R2_final | R2_final.fq.gz                              | Conventional base calls                     | Sanger / Illumina 1.9                       | 25857722                                    | 0                                           | 90-93                                       | 40                                          | 96.26200                                    | 92.93400                                    | ⋯                                           | pass                                        | pass                                        | pass                                        | pass                                        | pass                                        | pass                                        | warn                                        | pass                                        | pass                                        | pass                                        | \n",
       "| SAMEA3663007 | fastqc_per_sample | R1_final | R1_final.fq.gz                              | Conventional base calls                     | Sanger / Illumina 1.9                       | 27881309                                    | 0                                           | 90-95                                       | 44                                          | 96.99528                                    | 94.91033                                    | ⋯                                           | pass                                        | pass                                        | pass                                        | pass                                        | pass                                        | pass                                        | warn                                        | pass                                        | pass                                        | pass                                        | \n",
       "\n",
       "\n"
      ],
      "text/plain": [
       "  Sample                                      Filename      \n",
       "1 SAMEA3663006 | fastqc_per_sample | R1_final R1_final.fq.gz\n",
       "2 SAMEA3663006 | fastqc_per_sample | R2_final R2_final.fq.gz\n",
       "3 SAMEA3663007 | fastqc_per_sample | R1_final R1_final.fq.gz\n",
       "  File.type               Encoding              Total.Sequences\n",
       "1 Conventional base calls Sanger / Illumina 1.9 25857722       \n",
       "2 Conventional base calls Sanger / Illumina 1.9 25857722       \n",
       "3 Conventional base calls Sanger / Illumina 1.9 27881309       \n",
       "  Sequences.flagged.as.poor.quality Sequence.length X.GC\n",
       "1 0                                 90-96           40  \n",
       "2 0                                 90-93           40  \n",
       "3 0                                 90-95           44  \n",
       "  total_deduplicated_percentage avg_sequence_length ⋯ per_base_sequence_quality\n",
       "1 96.68032                      95.92704            ⋯ pass                     \n",
       "2 96.26200                      92.93400            ⋯ pass                     \n",
       "3 96.99528                      94.91033            ⋯ pass                     \n",
       "  per_tile_sequence_quality per_sequence_quality_scores\n",
       "1 fail                      pass                       \n",
       "2 pass                      pass                       \n",
       "3 pass                      pass                       \n",
       "  per_base_sequence_content per_sequence_gc_content per_base_n_content\n",
       "1 pass                      pass                    pass              \n",
       "2 pass                      pass                    pass              \n",
       "3 pass                      pass                    pass              \n",
       "  sequence_length_distribution sequence_duplication_levels\n",
       "1 warn                         pass                       \n",
       "2 warn                         pass                       \n",
       "3 warn                         pass                       \n",
       "  overrepresented_sequences adapter_content\n",
       "1 pass                      pass           \n",
       "2 pass                      pass           \n",
       "3 pass                      pass           "
      ]
     },
     "metadata": {},
     "output_type": "display_data"
    }
   ],
   "source": [
    "F = file.path(work_dir, 'PRJEB11755', 'LLMGQC', 'reports', 'multiqc-final', 'multiqc_data', 'multiqc_fastqc.txt')\n",
    "fastqc = read.delim(F, sep='\\t')\n",
    "fastqc %>% dfhead"
   ]
  },
  {
   "cell_type": "code",
   "execution_count": 40,
   "metadata": {
    "ExecuteTime": {
     "end_time": "2019-07-31T14:39:29.741759Z",
     "start_time": "2019-07-31T14:39:29.691Z"
    }
   },
   "outputs": [
    {
     "data": {
      "text/plain": [
       " Total.Sequences    avg_sequence_length\n",
       " Min.   : 8763549   Min.   :90.97      \n",
       " 1st Qu.:22726842   1st Qu.:94.89      \n",
       " Median :27747114   Median :95.83      \n",
       " Mean   :26647479   Mean   :96.63      \n",
       " 3rd Qu.:31592658   3rd Qu.:99.67      \n",
       " Max.   :42467986   Max.   :99.87      "
      ]
     },
     "metadata": {},
     "output_type": "display_data"
    }
   ],
   "source": [
    "fastqc %>% \n",
    "    filter(Filename == 'R1_final.fq.gz') %>%\n",
    "    dplyr::select(Total.Sequences, avg_sequence_length) %>% \n",
    "    summary"
   ]
  },
  {
   "cell_type": "markdown",
   "metadata": {},
   "source": [
    "## PRJEB20308\n",
    "\n",
    "* host = dog\n",
    "* n = 3096\n",
    "* avg. read length = 250"
   ]
  },
  {
   "cell_type": "code",
   "execution_count": 62,
   "metadata": {
    "ExecuteTime": {
     "end_time": "2019-08-04T05:51:20.591987Z",
     "start_time": "2019-08-04T05:51:20.562Z"
    }
   },
   "outputs": [],
   "source": [
    "projectID = 'PRJEB20308'"
   ]
  },
  {
   "cell_type": "code",
   "execution_count": 63,
   "metadata": {
    "ExecuteTime": {
     "end_time": "2019-08-04T05:51:25.249672Z",
     "start_time": "2019-08-04T05:51:25.211Z"
    }
   },
   "outputs": [
    {
     "name": "stdout",
     "output_type": "stream",
     "text": [
      "#-- I/O --#\n",
      "# table with sample --> read_file information\n",
      "#samples_file: /ebio/abt3_projects/Georg_animal_feces/data/metagenome/multi-study/BioProjects/PRJEB20308/LLMGQC/samples.txt\n",
      "samples_file: /ebio/abt3_projects/Georg_animal_feces/data/metagenome/multi-study/BioProjects/PRJEB20308/LLMGQC/samples_success.txt\n",
      "\n",
      "# output location\n",
      "output_dir: /ebio/abt3_projects/Georg_animal_feces/data/metagenome/multi-study/BioProjects/PRJEB20308/LLMGQC/\n",
      "\n",
      "# read file path\n",
      "# use \"None\" if full file path is included in the samples_file\n",
      "read_file_path: None\n",
      "\n",
      "#-- Software parameters --#\n",
      "# Use \"Skip\" to skip any of these steps. If no params for rule, use \"\"\n",
      "# `clumpify`: change dupedist if not HiSeq3000/4000 (dupedist=40 for NextSeq, HiSeq2500, and MiSeq)\n",
      "params:\n",
      "  # read download\n",
      "  remote: just_single=False      # If True, just download read1 (if remote file)\n",
      "  # validation, conversion, subsampling\n",
      "  validate_reads: \"\"\n",
      "  convert_fastq_to_1.8: \"\"\n",
      "  seqtk_sample: Skip    # Use number to subsample reads (eg., 1000000)\n",
      "  fastqc_on_raw: \"\"\n",
      "  # de-duplication\n",
      "  clumpify: Skip #dedupe=t dupedist=2500 optical=t    # this will likely fail for remote (SRA) samples\n",
      "  fastqc_on_dedup: \"\"\n",
      "  # adapter removal & quality trimming/filtering\n",
      "  bbduk: ref=./adapters/bbmap_adapters.fa fastawrap=300 k=23\n",
      "  skewer: -x ./adapters/PE_all.fa -n -l 90 -q 25\n",
      "  fastqc_on_qual: \"\"\n",
      "  # removal of 'contaminant' reads\n",
      "  bbmap: minratio=0.9 maxindel=1 bwr=0.16 bw=12 fast minhits=2 qtrim=r trimq=10 untrim idtag printunmappedcount kfilter=25 maxsites=1 k=14 pairlen=1000 rescuedist=1000\n",
      "  ikraken2: /ebio/abt3_projects/databases_no-backup/kraken2/human_db/,/ebio/abt3_projects/databases_no-backup/kraken2/UniVec_Core_db/,/ebio/abt3_projects/databases_no-backup/kraken2/vertebrata_nt_db/,/ebio/abt3_projects/databases_no-backup/kraken2/protozoa_db/,/ebio/abt3_projects/databases_no-backup/kraken2/fungi_db/ --confidence 0.7\n",
      "  fastqc_on_filter: \"\"\n",
      "  # post-QC reads\n",
      "  fastqc_on_final: \"\"\n",
      "  # taxonomy\n",
      "  centrifuge: Skip\n",
      "  krona: Skip\n",
      "  # coverage\n",
      "  nonpareil: -T kmer\n",
      "  nonpareil_summary: 1e9   # this is target seq. depth\n",
      "  # master \"Skip\": reads combined then called \"final\" reads (skips all QC steps)\n",
      "  skip_all_QC: False\n",
      "\n",
      "#-- Databases --#\n",
      "## hg19 = human genome database for filtering out human reads\n",
      "filter_db: /ebio/abt3_projects/databases_no-backup/hg19/hg19\n",
      "# centrifuge db\n",
      "centrifuge_db: /ebio/abt3_projects/databases_no-backup/centrifuge/p+h+v\n",
      "# krona taxonomy db\n",
      "krona_tax_db: /ebio/abt3_projects/databases_no-backup/krona/taxonomy\n",
      "# kraken2 (see 'ikraken2' parameters)\n",
      "\n",
      "#-- Snakemake pipeline --#\n",
      "## To use /tmp/global2/, see http://ilm.eb.local/user-guide/#Scratch-space-on-_002ftmp_002fglobal2\n",
      "pipeline:\n",
      "  snakemake_folder: ./\n",
      "  script_folder: ./bin/scripts/\n",
      "  temp_folder: /tmp/global2/    # your username will be added automatically to this path\n",
      "  run_skip_locally: True        # trivial \"skip\" steps run locally (not qsub)"
     ]
    }
   ],
   "source": [
    "cat_file(file.path(work_dir, projectID, 'LLMGQC', 'config.yaml'))"
   ]
  },
  {
   "cell_type": "markdown",
   "metadata": {},
   "source": [
    "### Run"
   ]
  },
  {
   "cell_type": "markdown",
   "metadata": {},
   "source": [
    "```\n",
    "(snakemake_dev) @ rick:/ebio/abt3_projects/Georg_animal_feces/bin/llmgqc\n",
    "$ screen -L -S llmgqc-PRJEB20308 ./snakemake_sge.sh /ebio/abt3_projects/Georg_animal_feces/data/metagenome/multi-study/BioProjects/PRJEB20308/LLMGQC/config.yaml cluster.json /ebio/abt3_projects/Georg_animal_feces/data/metagenome/multi-study/BioProjects/PRJEB20308/LLMGQC/SGE_log/ 20\n",
    "```"
   ]
  },
  {
   "cell_type": "markdown",
   "metadata": {},
   "source": [
    "### Cutting loses"
   ]
  },
  {
   "cell_type": "code",
   "execution_count": 58,
   "metadata": {
    "ExecuteTime": {
     "end_time": "2019-08-01T17:55:13.634334Z",
     "start_time": "2019-08-01T17:55:13.597Z"
    }
   },
   "outputs": [],
   "source": [
    "projectID = 'PRJEB20308'"
   ]
  },
  {
   "cell_type": "code",
   "execution_count": 64,
   "metadata": {
    "ExecuteTime": {
     "end_time": "2019-08-04T05:51:47.183386Z",
     "start_time": "2019-08-04T05:51:46.402Z"
    }
   },
   "outputs": [
    {
     "name": "stdout",
     "output_type": "stream",
     "text": [
      "[1] 122\n"
     ]
    },
    {
     "data": {
      "text/html": [
       "<ol class=list-inline>\n",
       "\t<li>'Ash_p1'</li>\n",
       "\t<li>'Ash_p2'</li>\n",
       "\t<li>'Avalanche_p1'</li>\n",
       "\t<li>'Avalanche_p2'</li>\n",
       "\t<li>'Bandit_p1'</li>\n",
       "\t<li>'Bandit_p2'</li>\n",
       "</ol>\n"
      ],
      "text/latex": [
       "\\begin{enumerate*}\n",
       "\\item 'Ash\\_p1'\n",
       "\\item 'Ash\\_p2'\n",
       "\\item 'Avalanche\\_p1'\n",
       "\\item 'Avalanche\\_p2'\n",
       "\\item 'Bandit\\_p1'\n",
       "\\item 'Bandit\\_p2'\n",
       "\\end{enumerate*}\n"
      ],
      "text/markdown": [
       "1. 'Ash_p1'\n",
       "2. 'Ash_p2'\n",
       "3. 'Avalanche_p1'\n",
       "4. 'Avalanche_p2'\n",
       "5. 'Bandit_p1'\n",
       "6. 'Bandit_p2'\n",
       "\n",
       "\n"
      ],
      "text/plain": [
       "[1] \"Ash_p1\"       \"Ash_p2\"       \"Avalanche_p1\" \"Avalanche_p2\" \"Bandit_p1\"   \n",
       "[6] \"Bandit_p2\"   "
      ]
     },
     "metadata": {},
     "output_type": "display_data"
    }
   ],
   "source": [
    "P = file.path(work_dir, projectID, 'LLMGQC', 'final')\n",
    "good_samps = list.files(P, 'R1_final.fq.gz', recursive=TRUE, full.names=TRUE)\n",
    "good_samps %>% length %>% print\n",
    "good_samps = good_samps %>% dirname %>% basename\n",
    "good_samps %>% head"
   ]
  },
  {
   "cell_type": "code",
   "execution_count": 56,
   "metadata": {
    "ExecuteTime": {
     "end_time": "2019-08-01T12:46:49.268559Z",
     "start_time": "2019-08-01T12:46:48.945Z"
    }
   },
   "outputs": [
    {
     "name": "stdout",
     "output_type": "stream",
     "text": [
      "   Mode   FALSE    TRUE \n",
      "logical     168    2928 \n",
      "[1] 3096   42\n"
     ]
    },
    {
     "data": {
      "text/html": [
       "<table>\n",
       "<thead><tr><th scope=col>Sample</th><th scope=col>Run</th><th scope=col>Lane</th><th scope=col>Remote</th><th scope=col>spots</th><th scope=col>bases</th><th scope=col>avgLength</th><th scope=col>size_MB</th><th scope=col>BioProject</th><th scope=col>bioproject</th><th scope=col>⋯</th><th scope=col>SRA_accession</th><th scope=col>Title</th><th scope=col>Animal</th><th scope=col>First_author</th><th scope=col>Year</th><th scope=col>DOI</th><th scope=col>Sequencer</th><th scope=col>Read_length</th><th scope=col>Comments</th><th scope=col>qc_finished</th></tr></thead>\n",
       "<tbody>\n",
       "\t<tr><td>Ash_p1                                   </td><td>ERR1915336                               </td><td>1                                        </td><td>ERR1915336                               </td><td>1998894                                  </td><td>503721288                                </td><td>252                                      </td><td>206                                      </td><td>PRJEB20308                               </td><td>PRJEB20308                               </td><td>⋯                                        </td><td>NA                                       </td><td>MIMARKS Specimen sample from bacterium   </td><td>Dog                                      </td><td>Coelho                                   </td><td>2018                                     </td><td>https://doi.org/10.1186/s40168-018-0450-3</td><td>HiSeq2500                                </td><td>125                                      </td><td>NA                                       </td><td>TRUE                                     </td></tr>\n",
       "\t<tr><td>Ash_p1                                   </td><td>ERR1915337                               </td><td>1                                        </td><td>ERR1915337                               </td><td>1996246                                  </td><td>503053992                                </td><td>252                                      </td><td>207                                      </td><td>PRJEB20308                               </td><td>PRJEB20308                               </td><td>⋯                                        </td><td>NA                                       </td><td>MIMARKS Specimen sample from bacterium   </td><td>Dog                                      </td><td>Coelho                                   </td><td>2018                                     </td><td>https://doi.org/10.1186/s40168-018-0450-3</td><td>HiSeq2500                                </td><td>125                                      </td><td>NA                                       </td><td>TRUE                                     </td></tr>\n",
       "\t<tr><td>Ash_p1                                   </td><td>ERR1915338                               </td><td>1                                        </td><td>ERR1915338                               </td><td>1968665                                  </td><td>496103580                                </td><td>252                                      </td><td>206                                      </td><td>PRJEB20308                               </td><td>PRJEB20308                               </td><td>⋯                                        </td><td>NA                                       </td><td>MIMARKS Specimen sample from bacterium   </td><td>Dog                                      </td><td>Coelho                                   </td><td>2018                                     </td><td>https://doi.org/10.1186/s40168-018-0450-3</td><td>HiSeq2500                                </td><td>125                                      </td><td>NA                                       </td><td>TRUE                                     </td></tr>\n",
       "</tbody>\n",
       "</table>\n"
      ],
      "text/latex": [
       "\\begin{tabular}{r|llllllllllllllllllllllllllllllllllllllllll}\n",
       " Sample & Run & Lane & Remote & spots & bases & avgLength & size\\_MB & BioProject & bioproject & ⋯ & SRA\\_accession & Title & Animal & First\\_author & Year & DOI & Sequencer & Read\\_length & Comments & qc\\_finished\\\\\n",
       "\\hline\n",
       "\t Ash\\_p1                                  & ERR1915336                                & 1                                         & ERR1915336                                & 1998894                                   & 503721288                                 & 252                                       & 206                                       & PRJEB20308                                & PRJEB20308                                & ⋯                                         & NA                                        & MIMARKS Specimen sample from bacterium    & Dog                                       & Coelho                                    & 2018                                      & https://doi.org/10.1186/s40168-018-0450-3 & HiSeq2500                                 & 125                                       & NA                                        & TRUE                                     \\\\\n",
       "\t Ash\\_p1                                  & ERR1915337                                & 1                                         & ERR1915337                                & 1996246                                   & 503053992                                 & 252                                       & 207                                       & PRJEB20308                                & PRJEB20308                                & ⋯                                         & NA                                        & MIMARKS Specimen sample from bacterium    & Dog                                       & Coelho                                    & 2018                                      & https://doi.org/10.1186/s40168-018-0450-3 & HiSeq2500                                 & 125                                       & NA                                        & TRUE                                     \\\\\n",
       "\t Ash\\_p1                                  & ERR1915338                                & 1                                         & ERR1915338                                & 1968665                                   & 496103580                                 & 252                                       & 206                                       & PRJEB20308                                & PRJEB20308                                & ⋯                                         & NA                                        & MIMARKS Specimen sample from bacterium    & Dog                                       & Coelho                                    & 2018                                      & https://doi.org/10.1186/s40168-018-0450-3 & HiSeq2500                                 & 125                                       & NA                                        & TRUE                                     \\\\\n",
       "\\end{tabular}\n"
      ],
      "text/markdown": [
       "\n",
       "Sample | Run | Lane | Remote | spots | bases | avgLength | size_MB | BioProject | bioproject | ⋯ | SRA_accession | Title | Animal | First_author | Year | DOI | Sequencer | Read_length | Comments | qc_finished | \n",
       "|---|---|---|\n",
       "| Ash_p1                                    | ERR1915336                                | 1                                         | ERR1915336                                | 1998894                                   | 503721288                                 | 252                                       | 206                                       | PRJEB20308                                | PRJEB20308                                | ⋯                                         | NA                                        | MIMARKS Specimen sample from bacterium    | Dog                                       | Coelho                                    | 2018                                      | https://doi.org/10.1186/s40168-018-0450-3 | HiSeq2500                                 | 125                                       | NA                                        | TRUE                                      | \n",
       "| Ash_p1                                    | ERR1915337                                | 1                                         | ERR1915337                                | 1996246                                   | 503053992                                 | 252                                       | 207                                       | PRJEB20308                                | PRJEB20308                                | ⋯                                         | NA                                        | MIMARKS Specimen sample from bacterium    | Dog                                       | Coelho                                    | 2018                                      | https://doi.org/10.1186/s40168-018-0450-3 | HiSeq2500                                 | 125                                       | NA                                        | TRUE                                      | \n",
       "| Ash_p1                                    | ERR1915338                                | 1                                         | ERR1915338                                | 1968665                                   | 496103580                                 | 252                                       | 206                                       | PRJEB20308                                | PRJEB20308                                | ⋯                                         | NA                                        | MIMARKS Specimen sample from bacterium    | Dog                                       | Coelho                                    | 2018                                      | https://doi.org/10.1186/s40168-018-0450-3 | HiSeq2500                                 | 125                                       | NA                                        | TRUE                                      | \n",
       "\n",
       "\n"
      ],
      "text/plain": [
       "  Sample Run        Lane Remote     spots   bases     avgLength size_MB\n",
       "1 Ash_p1 ERR1915336 1    ERR1915336 1998894 503721288 252       206    \n",
       "2 Ash_p1 ERR1915337 1    ERR1915337 1996246 503053992 252       207    \n",
       "3 Ash_p1 ERR1915338 1    ERR1915338 1968665 496103580 252       206    \n",
       "  BioProject bioproject ⋯ SRA_accession Title                                 \n",
       "1 PRJEB20308 PRJEB20308 ⋯ NA            MIMARKS Specimen sample from bacterium\n",
       "2 PRJEB20308 PRJEB20308 ⋯ NA            MIMARKS Specimen sample from bacterium\n",
       "3 PRJEB20308 PRJEB20308 ⋯ NA            MIMARKS Specimen sample from bacterium\n",
       "  Animal First_author Year DOI                                       Sequencer\n",
       "1 Dog    Coelho       2018 https://doi.org/10.1186/s40168-018-0450-3 HiSeq2500\n",
       "2 Dog    Coelho       2018 https://doi.org/10.1186/s40168-018-0450-3 HiSeq2500\n",
       "3 Dog    Coelho       2018 https://doi.org/10.1186/s40168-018-0450-3 HiSeq2500\n",
       "  Read_length Comments qc_finished\n",
       "1 125         NA       TRUE       \n",
       "2 125         NA       TRUE       \n",
       "3 125         NA       TRUE       "
      ]
     },
     "metadata": {},
     "output_type": "display_data"
    }
   ],
   "source": [
    "F = file.path(work_dir, projectID, 'samples.txt')\n",
    "df_samps = read.delim(F, sep='\\t') %>%\n",
    "    mutate(qc_finished = Sample %in% good_samps)\n",
    "df_samps %>% .$qc_finished %>% summary %>% print\n",
    "df_samps %>% dfhead"
   ]
  },
  {
   "cell_type": "code",
   "execution_count": 57,
   "metadata": {
    "ExecuteTime": {
     "end_time": "2019-08-01T12:46:51.088717Z",
     "start_time": "2019-08-01T12:46:50.970Z"
    }
   },
   "outputs": [
    {
     "name": "stdout",
     "output_type": "stream",
     "text": [
      "File written: /ebio/abt3_projects/Georg_animal_feces/data/metagenome/multi-study/BioProjects//PRJEB20308/samples_success.txt \n"
     ]
    }
   ],
   "source": [
    "F = file.path(work_dir, projectID, 'samples_success.txt')\n",
    "df_samps %>%\n",
    "    filter(qc_finished == TRUE) %>%\n",
    "    write.table(F, sep='\\t', quote=FALSE, row.names=FALSE)\n",
    "cat('File written:', F, '\\n')"
   ]
  },
  {
   "cell_type": "markdown",
   "metadata": {},
   "source": [
    "### Summary"
   ]
  },
  {
   "cell_type": "code",
   "execution_count": 65,
   "metadata": {
    "ExecuteTime": {
     "end_time": "2019-08-04T05:52:00.717204Z",
     "start_time": "2019-08-04T05:52:00.634Z"
    }
   },
   "outputs": [
    {
     "name": "stdout",
     "output_type": "stream",
     "text": [
      "[1] 241  21\n"
     ]
    },
    {
     "data": {
      "text/html": [
       "<table>\n",
       "<thead><tr><th scope=col>Sample</th><th scope=col>Filename</th><th scope=col>File.type</th><th scope=col>Encoding</th><th scope=col>Total.Sequences</th><th scope=col>Sequences.flagged.as.poor.quality</th><th scope=col>Sequence.length</th><th scope=col>X.GC</th><th scope=col>total_deduplicated_percentage</th><th scope=col>avg_sequence_length</th><th scope=col>⋯</th><th scope=col>per_base_sequence_quality</th><th scope=col>per_tile_sequence_quality</th><th scope=col>per_sequence_quality_scores</th><th scope=col>per_base_sequence_content</th><th scope=col>per_sequence_gc_content</th><th scope=col>per_base_n_content</th><th scope=col>sequence_length_distribution</th><th scope=col>sequence_duplication_levels</th><th scope=col>overrepresented_sequences</th><th scope=col>adapter_content</th></tr></thead>\n",
       "<tbody>\n",
       "\t<tr><td>Ash_p1 | fastqc_per_sample | R1_final</td><td>R1_final.fq.gz                       </td><td>Conventional base calls              </td><td>Sanger / Illumina 1.9                </td><td>49060464                             </td><td>0                                    </td><td>90-126                               </td><td>44                                   </td><td>51.14093                             </td><td>125.4655                             </td><td>⋯                                    </td><td>pass                                 </td><td>pass                                 </td><td>pass                                 </td><td>fail                                 </td><td>pass                                 </td><td>pass                                 </td><td>warn                                 </td><td>warn                                 </td><td>pass                                 </td><td>pass                                 </td></tr>\n",
       "\t<tr><td>Ash_p1 | fastqc_per_sample | R2_final</td><td>R2_final.fq.gz                       </td><td>Conventional base calls              </td><td>Sanger / Illumina 1.9                </td><td>49060464                             </td><td>0                                    </td><td>90-126                               </td><td>44                                   </td><td>49.88428                             </td><td>125.3960                             </td><td>⋯                                    </td><td>pass                                 </td><td>pass                                 </td><td>pass                                 </td><td>fail                                 </td><td>pass                                 </td><td>pass                                 </td><td>warn                                 </td><td>fail                                 </td><td>pass                                 </td><td>pass                                 </td></tr>\n",
       "\t<tr><td>Ash_p2 | fastqc_per_sample | R1_final</td><td>R1_final.fq.gz                       </td><td>Conventional base calls              </td><td>Sanger / Illumina 1.9                </td><td>39179808                             </td><td>0                                    </td><td>90-125                               </td><td>46                                   </td><td>62.39226                             </td><td>124.2897                             </td><td>⋯                                    </td><td>pass                                 </td><td>pass                                 </td><td>pass                                 </td><td>warn                                 </td><td>warn                                 </td><td>pass                                 </td><td>warn                                 </td><td>warn                                 </td><td>pass                                 </td><td>pass                                 </td></tr>\n",
       "</tbody>\n",
       "</table>\n"
      ],
      "text/latex": [
       "\\begin{tabular}{r|lllllllllllllllllllll}\n",
       " Sample & Filename & File.type & Encoding & Total.Sequences & Sequences.flagged.as.poor.quality & Sequence.length & X.GC & total\\_deduplicated\\_percentage & avg\\_sequence\\_length & ⋯ & per\\_base\\_sequence\\_quality & per\\_tile\\_sequence\\_quality & per\\_sequence\\_quality\\_scores & per\\_base\\_sequence\\_content & per\\_sequence\\_gc\\_content & per\\_base\\_n\\_content & sequence\\_length\\_distribution & sequence\\_duplication\\_levels & overrepresented\\_sequences & adapter\\_content\\\\\n",
       "\\hline\n",
       "\t Ash\\_p1 \\textbar{} fastqc\\_per\\_sample \\textbar{} R1\\_final & R1\\_final.fq.gz                                                  & Conventional base calls                                           & Sanger / Illumina 1.9                                             & 49060464                                                          & 0                                                                 & 90-126                                                            & 44                                                                & 51.14093                                                          & 125.4655                                                          & ⋯                                                                 & pass                                                              & pass                                                              & pass                                                              & fail                                                              & pass                                                              & pass                                                              & warn                                                              & warn                                                              & pass                                                              & pass                                                             \\\\\n",
       "\t Ash\\_p1 \\textbar{} fastqc\\_per\\_sample \\textbar{} R2\\_final & R2\\_final.fq.gz                                                  & Conventional base calls                                           & Sanger / Illumina 1.9                                             & 49060464                                                          & 0                                                                 & 90-126                                                            & 44                                                                & 49.88428                                                          & 125.3960                                                          & ⋯                                                                 & pass                                                              & pass                                                              & pass                                                              & fail                                                              & pass                                                              & pass                                                              & warn                                                              & fail                                                              & pass                                                              & pass                                                             \\\\\n",
       "\t Ash\\_p2 \\textbar{} fastqc\\_per\\_sample \\textbar{} R1\\_final & R1\\_final.fq.gz                                                  & Conventional base calls                                           & Sanger / Illumina 1.9                                             & 39179808                                                          & 0                                                                 & 90-125                                                            & 46                                                                & 62.39226                                                          & 124.2897                                                          & ⋯                                                                 & pass                                                              & pass                                                              & pass                                                              & warn                                                              & warn                                                              & pass                                                              & warn                                                              & warn                                                              & pass                                                              & pass                                                             \\\\\n",
       "\\end{tabular}\n"
      ],
      "text/markdown": [
       "\n",
       "Sample | Filename | File.type | Encoding | Total.Sequences | Sequences.flagged.as.poor.quality | Sequence.length | X.GC | total_deduplicated_percentage | avg_sequence_length | ⋯ | per_base_sequence_quality | per_tile_sequence_quality | per_sequence_quality_scores | per_base_sequence_content | per_sequence_gc_content | per_base_n_content | sequence_length_distribution | sequence_duplication_levels | overrepresented_sequences | adapter_content | \n",
       "|---|---|---|\n",
       "| Ash_p1 | fastqc_per_sample | R1_final | R1_final.fq.gz                        | Conventional base calls               | Sanger / Illumina 1.9                 | 49060464                              | 0                                     | 90-126                                | 44                                    | 51.14093                              | 125.4655                              | ⋯                                     | pass                                  | pass                                  | pass                                  | fail                                  | pass                                  | pass                                  | warn                                  | warn                                  | pass                                  | pass                                  | \n",
       "| Ash_p1 | fastqc_per_sample | R2_final | R2_final.fq.gz                        | Conventional base calls               | Sanger / Illumina 1.9                 | 49060464                              | 0                                     | 90-126                                | 44                                    | 49.88428                              | 125.3960                              | ⋯                                     | pass                                  | pass                                  | pass                                  | fail                                  | pass                                  | pass                                  | warn                                  | fail                                  | pass                                  | pass                                  | \n",
       "| Ash_p2 | fastqc_per_sample | R1_final | R1_final.fq.gz                        | Conventional base calls               | Sanger / Illumina 1.9                 | 39179808                              | 0                                     | 90-125                                | 46                                    | 62.39226                              | 124.2897                              | ⋯                                     | pass                                  | pass                                  | pass                                  | warn                                  | warn                                  | pass                                  | warn                                  | warn                                  | pass                                  | pass                                  | \n",
       "\n",
       "\n"
      ],
      "text/plain": [
       "  Sample                                Filename       File.type              \n",
       "1 Ash_p1 | fastqc_per_sample | R1_final R1_final.fq.gz Conventional base calls\n",
       "2 Ash_p1 | fastqc_per_sample | R2_final R2_final.fq.gz Conventional base calls\n",
       "3 Ash_p2 | fastqc_per_sample | R1_final R1_final.fq.gz Conventional base calls\n",
       "  Encoding              Total.Sequences Sequences.flagged.as.poor.quality\n",
       "1 Sanger / Illumina 1.9 49060464        0                                \n",
       "2 Sanger / Illumina 1.9 49060464        0                                \n",
       "3 Sanger / Illumina 1.9 39179808        0                                \n",
       "  Sequence.length X.GC total_deduplicated_percentage avg_sequence_length ⋯\n",
       "1 90-126          44   51.14093                      125.4655            ⋯\n",
       "2 90-126          44   49.88428                      125.3960            ⋯\n",
       "3 90-125          46   62.39226                      124.2897            ⋯\n",
       "  per_base_sequence_quality per_tile_sequence_quality\n",
       "1 pass                      pass                     \n",
       "2 pass                      pass                     \n",
       "3 pass                      pass                     \n",
       "  per_sequence_quality_scores per_base_sequence_content per_sequence_gc_content\n",
       "1 pass                        fail                      pass                   \n",
       "2 pass                        fail                      pass                   \n",
       "3 pass                        warn                      warn                   \n",
       "  per_base_n_content sequence_length_distribution sequence_duplication_levels\n",
       "1 pass               warn                         warn                       \n",
       "2 pass               warn                         fail                       \n",
       "3 pass               warn                         warn                       \n",
       "  overrepresented_sequences adapter_content\n",
       "1 pass                      pass           \n",
       "2 pass                      pass           \n",
       "3 pass                      pass           "
      ]
     },
     "metadata": {},
     "output_type": "display_data"
    }
   ],
   "source": [
    "F = file.path(work_dir, projectID, 'LLMGQC', 'reports', 'multiqc-final', 'multiqc_data', 'multiqc_fastqc.txt')\n",
    "fastqc = read.delim(F, sep='\\t')\n",
    "fastqc %>% dfhead"
   ]
  },
  {
   "cell_type": "code",
   "execution_count": 66,
   "metadata": {
    "ExecuteTime": {
     "end_time": "2019-08-04T05:52:02.717170Z",
     "start_time": "2019-08-04T05:52:02.668Z"
    }
   },
   "outputs": [
    {
     "data": {
      "text/plain": [
       " Total.Sequences     avg_sequence_length\n",
       " Min.   : 29485375   Min.   :123.5      \n",
       " 1st Qu.: 43809476   1st Qu.:124.2      \n",
       " Median : 49567232   Median :124.6      \n",
       " Mean   : 53855723   Mean   :124.7      \n",
       " 3rd Qu.: 59929862   3rd Qu.:125.4      \n",
       " Max.   :104069583   Max.   :125.7      "
      ]
     },
     "metadata": {},
     "output_type": "display_data"
    }
   ],
   "source": [
    "fastqc %>% \n",
    "    filter(Filename == 'R1_final.fq.gz') %>%\n",
    "    dplyr::select(Total.Sequences, avg_sequence_length) %>% \n",
    "    summary"
   ]
  },
  {
   "cell_type": "markdown",
   "metadata": {},
   "source": [
    "## PRJEB21624\n",
    "\n",
    "* host = cattle\n",
    "* n = 43\n",
    "* avg. read length = 300"
   ]
  },
  {
   "cell_type": "code",
   "execution_count": 67,
   "metadata": {
    "ExecuteTime": {
     "end_time": "2019-08-04T05:59:42.439495Z",
     "start_time": "2019-08-04T05:59:42.403Z"
    }
   },
   "outputs": [],
   "source": [
    "projectID = 'PRJEB21624'"
   ]
  },
  {
   "cell_type": "code",
   "execution_count": 68,
   "metadata": {
    "ExecuteTime": {
     "end_time": "2019-08-04T05:59:44.815288Z",
     "start_time": "2019-08-04T05:59:44.760Z"
    }
   },
   "outputs": [
    {
     "name": "stdout",
     "output_type": "stream",
     "text": [
      "#-- I/O --#\n",
      "# table with sample --> read_file information\n",
      "samples_file: /ebio/abt3_projects/Georg_animal_feces/data/metagenome/multi-study/BioProjects/PRJEB21624/samples.txt\n",
      "\n",
      "# output location\n",
      "output_dir: /ebio/abt3_projects/Georg_animal_feces/data/metagenome/multi-study/BioProjects/PRJEB21624/LLMGQC/\n",
      "\n",
      "# read file path\n",
      "# use \"None\" if full file path is included in the samples_file\n",
      "read_file_path: None\n",
      "\n",
      "#-- Software parameters --#\n",
      "# Use \"Skip\" to skip any of these steps. If no params for rule, use \"\"\n",
      "# `clumpify`: change dupedist if not HiSeq3000/4000 (dupedist=40 for NextSeq, HiSeq2500, and MiSeq)\n",
      "params:\n",
      "  # read download\n",
      "  remote: just_single=False      # If True, just download read1 (if remote file)\n",
      "  # validation, conversion, subsampling\n",
      "  validate_reads: \"\"\n",
      "  convert_fastq_to_1.8: \"\"\n",
      "  seqtk_sample: Skip    # Use number to subsample reads (eg., 1000000)\n",
      "  fastqc_on_raw: \"\"\n",
      "  # de-duplication\n",
      "  clumpify: Skip #dedupe=t dupedist=2500 optical=t    # this will likely fail for remote (SRA) samples\n",
      "  fastqc_on_dedup: \"\"\n",
      "  # adapter removal & quality trimming/filtering\n",
      "  bbduk: ref=./adapters/bbmap_adapters.fa fastawrap=300 k=23\n",
      "  skewer: -x ./adapters/PE_all.fa -n -l 90 -q 25\n",
      "  fastqc_on_qual: \"\"\n",
      "  # removal of 'contaminant' reads\n",
      "  bbmap: minratio=0.9 maxindel=1 bwr=0.16 bw=12 fast minhits=2 qtrim=r trimq=10 untrim idtag printunmappedcount kfilter=25 maxsites=1 k=14 pairlen=1000 rescuedist=1000\n",
      "  ikraken2: /ebio/abt3_projects/databases_no-backup/kraken2/human_db/,/ebio/abt3_projects/databases_no-backup/kraken2/UniVec_Core_db/,/ebio/abt3_projects/databases_no-backup/kraken2/vertebrata_nt_db/,/ebio/abt3_projects/databases_no-backup/kraken2/protozoa_db/,/ebio/abt3_projects/databases_no-backup/kraken2/fungi_db/ --confidence 0.7\n",
      "  fastqc_on_filter: \"\"\n",
      "  # post-QC reads\n",
      "  fastqc_on_final: \"\"\n",
      "  # taxonomy\n",
      "  centrifuge: Skip\n",
      "  krona: Skip\n",
      "  # coverage\n",
      "  nonpareil: -T kmer\n",
      "  nonpareil_summary: 1e9   # this is target seq. depth\n",
      "  # master \"Skip\": reads combined then called \"final\" reads (skips all QC steps)\n",
      "  skip_all_QC: False\n",
      "\n",
      "#-- Databases --#\n",
      "## hg19 = human genome database for filtering out human reads\n",
      "filter_db: /ebio/abt3_projects/databases_no-backup/hg19/hg19\n",
      "# centrifuge db\n",
      "centrifuge_db: /ebio/abt3_projects/databases_no-backup/centrifuge/p+h+v\n",
      "# krona taxonomy db\n",
      "krona_tax_db: /ebio/abt3_projects/databases_no-backup/krona/taxonomy\n",
      "# kraken2 (see 'ikraken2' parameters)\n",
      "\n",
      "#-- Snakemake pipeline --#\n",
      "## To use /tmp/global2/, see http://ilm.eb.local/user-guide/#Scratch-space-on-_002ftmp_002fglobal2\n",
      "pipeline:\n",
      "  snakemake_folder: ./\n",
      "  script_folder: ./bin/scripts/\n",
      "  temp_folder: /tmp/global/    # your username will be added automatically to this path\n",
      "  run_skip_locally: True        # trivial \"skip\" steps run locally (not qsub)"
     ]
    }
   ],
   "source": [
    "cat_file(file.path(work_dir, projectID, 'LLMGQC', 'config.yaml'))"
   ]
  },
  {
   "cell_type": "markdown",
   "metadata": {},
   "source": [
    "### Run"
   ]
  },
  {
   "cell_type": "markdown",
   "metadata": {},
   "source": [
    "```\n",
    "(snakemake_dev) @ rick:/ebio/abt3_projects/methanogen_host_evo/bin/llmgqc\n",
    "$ screen -L -S llmgqc-PRJEB21624 ./snakemake_sge.sh /ebio/abt3_projects/Georg_animal_feces/data/metagenome/multi-study/BioProjects/PRJEB21624/LLMGQC/config.yaml cluster.json /ebio/abt3_projects/Georg_animal_feces/data/metagenome/multi-study/BioProjects/PRJEB21624/LLMGQC/SGE_log 20\n",
    "```"
   ]
  },
  {
   "cell_type": "markdown",
   "metadata": {},
   "source": [
    "### Summary"
   ]
  },
  {
   "cell_type": "code",
   "execution_count": 69,
   "metadata": {
    "ExecuteTime": {
     "end_time": "2019-08-04T05:59:58.698921Z",
     "start_time": "2019-08-04T05:59:58.383Z"
    }
   },
   "outputs": [
    {
     "name": "stdout",
     "output_type": "stream",
     "text": [
      "[1] 81 21\n"
     ]
    },
    {
     "data": {
      "text/html": [
       "<table>\n",
       "<thead><tr><th scope=col>Sample</th><th scope=col>Filename</th><th scope=col>File.type</th><th scope=col>Encoding</th><th scope=col>Total.Sequences</th><th scope=col>Sequences.flagged.as.poor.quality</th><th scope=col>Sequence.length</th><th scope=col>X.GC</th><th scope=col>total_deduplicated_percentage</th><th scope=col>avg_sequence_length</th><th scope=col>⋯</th><th scope=col>per_base_sequence_quality</th><th scope=col>per_tile_sequence_quality</th><th scope=col>per_sequence_quality_scores</th><th scope=col>per_base_sequence_content</th><th scope=col>per_sequence_gc_content</th><th scope=col>per_base_n_content</th><th scope=col>sequence_length_distribution</th><th scope=col>sequence_duplication_levels</th><th scope=col>overrepresented_sequences</th><th scope=col>adapter_content</th></tr></thead>\n",
       "<tbody>\n",
       "\t<tr><td>SAMEA104153961 | fastqc_per_sample | R1_final</td><td>R1_final.fq.gz                               </td><td>Conventional base calls                      </td><td>Sanger / Illumina 1.9                        </td><td>66215805                                     </td><td>0                                            </td><td>90-150                                       </td><td>43                                           </td><td>94.12778                                     </td><td>149.5320                                     </td><td>⋯                                            </td><td>pass                                         </td><td>pass                                         </td><td>pass                                         </td><td>pass                                         </td><td>fail                                         </td><td>pass                                         </td><td>warn                                         </td><td>pass                                         </td><td>pass                                         </td><td>pass                                         </td></tr>\n",
       "\t<tr><td>SAMEA104153961 | fastqc_per_sample | R2_final</td><td>R2_final.fq.gz                               </td><td>Conventional base calls                      </td><td>Sanger / Illumina 1.9                        </td><td>24751756                                     </td><td>0                                            </td><td>90-150                                       </td><td>42                                           </td><td>95.87157                                     </td><td>148.6961                                     </td><td>⋯                                            </td><td>pass                                         </td><td>pass                                         </td><td>pass                                         </td><td>pass                                         </td><td>fail                                         </td><td>pass                                         </td><td>warn                                         </td><td>pass                                         </td><td>pass                                         </td><td>pass                                         </td></tr>\n",
       "\t<tr><td>SAMEA104153962 | fastqc_per_sample | R1_final</td><td>R1_final.fq.gz                               </td><td>Conventional base calls                      </td><td>Sanger / Illumina 1.9                        </td><td>61417360                                     </td><td>0                                            </td><td>90-150                                       </td><td>44                                           </td><td>92.89022                                     </td><td>149.5553                                     </td><td>⋯                                            </td><td>pass                                         </td><td>pass                                         </td><td>pass                                         </td><td>pass                                         </td><td>fail                                         </td><td>pass                                         </td><td>warn                                         </td><td>pass                                         </td><td>pass                                         </td><td>pass                                         </td></tr>\n",
       "</tbody>\n",
       "</table>\n"
      ],
      "text/latex": [
       "\\begin{tabular}{r|lllllllllllllllllllll}\n",
       " Sample & Filename & File.type & Encoding & Total.Sequences & Sequences.flagged.as.poor.quality & Sequence.length & X.GC & total\\_deduplicated\\_percentage & avg\\_sequence\\_length & ⋯ & per\\_base\\_sequence\\_quality & per\\_tile\\_sequence\\_quality & per\\_sequence\\_quality\\_scores & per\\_base\\_sequence\\_content & per\\_sequence\\_gc\\_content & per\\_base\\_n\\_content & sequence\\_length\\_distribution & sequence\\_duplication\\_levels & overrepresented\\_sequences & adapter\\_content\\\\\n",
       "\\hline\n",
       "\t SAMEA104153961 \\textbar{} fastqc\\_per\\_sample \\textbar{} R1\\_final & R1\\_final.fq.gz                                                        & Conventional base calls                                                 & Sanger / Illumina 1.9                                                   & 66215805                                                                & 0                                                                       & 90-150                                                                  & 43                                                                      & 94.12778                                                                & 149.5320                                                                & ⋯                                                                       & pass                                                                    & pass                                                                    & pass                                                                    & pass                                                                    & fail                                                                    & pass                                                                    & warn                                                                    & pass                                                                    & pass                                                                    & pass                                                                   \\\\\n",
       "\t SAMEA104153961 \\textbar{} fastqc\\_per\\_sample \\textbar{} R2\\_final & R2\\_final.fq.gz                                                        & Conventional base calls                                                 & Sanger / Illumina 1.9                                                   & 24751756                                                                & 0                                                                       & 90-150                                                                  & 42                                                                      & 95.87157                                                                & 148.6961                                                                & ⋯                                                                       & pass                                                                    & pass                                                                    & pass                                                                    & pass                                                                    & fail                                                                    & pass                                                                    & warn                                                                    & pass                                                                    & pass                                                                    & pass                                                                   \\\\\n",
       "\t SAMEA104153962 \\textbar{} fastqc\\_per\\_sample \\textbar{} R1\\_final & R1\\_final.fq.gz                                                        & Conventional base calls                                                 & Sanger / Illumina 1.9                                                   & 61417360                                                                & 0                                                                       & 90-150                                                                  & 44                                                                      & 92.89022                                                                & 149.5553                                                                & ⋯                                                                       & pass                                                                    & pass                                                                    & pass                                                                    & pass                                                                    & fail                                                                    & pass                                                                    & warn                                                                    & pass                                                                    & pass                                                                    & pass                                                                   \\\\\n",
       "\\end{tabular}\n"
      ],
      "text/markdown": [
       "\n",
       "Sample | Filename | File.type | Encoding | Total.Sequences | Sequences.flagged.as.poor.quality | Sequence.length | X.GC | total_deduplicated_percentage | avg_sequence_length | ⋯ | per_base_sequence_quality | per_tile_sequence_quality | per_sequence_quality_scores | per_base_sequence_content | per_sequence_gc_content | per_base_n_content | sequence_length_distribution | sequence_duplication_levels | overrepresented_sequences | adapter_content | \n",
       "|---|---|---|\n",
       "| SAMEA104153961 | fastqc_per_sample | R1_final | R1_final.fq.gz                                | Conventional base calls                       | Sanger / Illumina 1.9                         | 66215805                                      | 0                                             | 90-150                                        | 43                                            | 94.12778                                      | 149.5320                                      | ⋯                                             | pass                                          | pass                                          | pass                                          | pass                                          | fail                                          | pass                                          | warn                                          | pass                                          | pass                                          | pass                                          | \n",
       "| SAMEA104153961 | fastqc_per_sample | R2_final | R2_final.fq.gz                                | Conventional base calls                       | Sanger / Illumina 1.9                         | 24751756                                      | 0                                             | 90-150                                        | 42                                            | 95.87157                                      | 148.6961                                      | ⋯                                             | pass                                          | pass                                          | pass                                          | pass                                          | fail                                          | pass                                          | warn                                          | pass                                          | pass                                          | pass                                          | \n",
       "| SAMEA104153962 | fastqc_per_sample | R1_final | R1_final.fq.gz                                | Conventional base calls                       | Sanger / Illumina 1.9                         | 61417360                                      | 0                                             | 90-150                                        | 44                                            | 92.89022                                      | 149.5553                                      | ⋯                                             | pass                                          | pass                                          | pass                                          | pass                                          | fail                                          | pass                                          | warn                                          | pass                                          | pass                                          | pass                                          | \n",
       "\n",
       "\n"
      ],
      "text/plain": [
       "  Sample                                        Filename      \n",
       "1 SAMEA104153961 | fastqc_per_sample | R1_final R1_final.fq.gz\n",
       "2 SAMEA104153961 | fastqc_per_sample | R2_final R2_final.fq.gz\n",
       "3 SAMEA104153962 | fastqc_per_sample | R1_final R1_final.fq.gz\n",
       "  File.type               Encoding              Total.Sequences\n",
       "1 Conventional base calls Sanger / Illumina 1.9 66215805       \n",
       "2 Conventional base calls Sanger / Illumina 1.9 24751756       \n",
       "3 Conventional base calls Sanger / Illumina 1.9 61417360       \n",
       "  Sequences.flagged.as.poor.quality Sequence.length X.GC\n",
       "1 0                                 90-150          43  \n",
       "2 0                                 90-150          42  \n",
       "3 0                                 90-150          44  \n",
       "  total_deduplicated_percentage avg_sequence_length ⋯ per_base_sequence_quality\n",
       "1 94.12778                      149.5320            ⋯ pass                     \n",
       "2 95.87157                      148.6961            ⋯ pass                     \n",
       "3 92.89022                      149.5553            ⋯ pass                     \n",
       "  per_tile_sequence_quality per_sequence_quality_scores\n",
       "1 pass                      pass                       \n",
       "2 pass                      pass                       \n",
       "3 pass                      pass                       \n",
       "  per_base_sequence_content per_sequence_gc_content per_base_n_content\n",
       "1 pass                      fail                    pass              \n",
       "2 pass                      fail                    pass              \n",
       "3 pass                      fail                    pass              \n",
       "  sequence_length_distribution sequence_duplication_levels\n",
       "1 warn                         pass                       \n",
       "2 warn                         pass                       \n",
       "3 warn                         pass                       \n",
       "  overrepresented_sequences adapter_content\n",
       "1 pass                      pass           \n",
       "2 pass                      pass           \n",
       "3 pass                      pass           "
      ]
     },
     "metadata": {},
     "output_type": "display_data"
    }
   ],
   "source": [
    "F = file.path(work_dir, projectID, 'LLMGQC', 'reports', 'multiqc-final', 'multiqc_data', 'multiqc_fastqc.txt')\n",
    "fastqc = read.delim(F, sep='\\t')\n",
    "fastqc %>% dfhead"
   ]
  },
  {
   "cell_type": "code",
   "execution_count": 70,
   "metadata": {
    "ExecuteTime": {
     "end_time": "2019-08-04T06:00:07.403450Z",
     "start_time": "2019-08-04T06:00:07.351Z"
    }
   },
   "outputs": [
    {
     "data": {
      "text/plain": [
       " Total.Sequences     avg_sequence_length\n",
       " Min.   : 50003078   Min.   :148.9      \n",
       " 1st Qu.: 54376472   1st Qu.:149.7      \n",
       " Median : 59507399   Median :149.7      \n",
       " Mean   : 62886361   Mean   :149.7      \n",
       " 3rd Qu.: 67105390   3rd Qu.:149.8      \n",
       " Max.   :117403834   Max.   :149.8      "
      ]
     },
     "metadata": {},
     "output_type": "display_data"
    }
   ],
   "source": [
    "fastqc %>% \n",
    "    filter(Filename == 'R1_final.fq.gz') %>%\n",
    "    dplyr::select(Total.Sequences, avg_sequence_length) %>% \n",
    "    summary"
   ]
  },
  {
   "cell_type": "markdown",
   "metadata": {},
   "source": [
    "## PRJEB29346\n",
    "\n",
    "* host = cod\n",
    "* n = 57\n",
    "* avg. read length = 250"
   ]
  },
  {
   "cell_type": "code",
   "execution_count": 79,
   "metadata": {
    "ExecuteTime": {
     "end_time": "2019-08-05T15:02:18.983602Z",
     "start_time": "2019-08-05T15:02:18.948Z"
    }
   },
   "outputs": [],
   "source": [
    "projectID = 'PRJEB29346'"
   ]
  },
  {
   "cell_type": "code",
   "execution_count": 53,
   "metadata": {
    "ExecuteTime": {
     "end_time": "2019-08-01T06:53:38.555613Z",
     "start_time": "2019-08-01T06:53:38.502Z"
    }
   },
   "outputs": [
    {
     "name": "stdout",
     "output_type": "stream",
     "text": [
      "#-- I/O --#\n",
      "# table with sample --> read_file information\n",
      "samples_file: /ebio/abt3_projects/Georg_animal_feces/data/metagenome/multi-study/BioProjects/PRJEB29346/samples.txt\n",
      "\n",
      "# output location\n",
      "output_dir: /ebio/abt3_projects/Georg_animal_feces/data/metagenome/multi-study/BioProjects/PRJEB29346/LLMGQC/\n",
      "\n",
      "# read file path\n",
      "# use \"None\" if full file path is included in the samples_file\n",
      "read_file_path: None\n",
      "\n",
      "#-- Software parameters --#\n",
      "# Use \"Skip\" to skip any of these steps. If no params for rule, use \"\"\n",
      "# `clumpify`: change dupedist if not HiSeq3000/4000 (dupedist=40 for NextSeq, HiSeq2500, and MiSeq)\n",
      "params:\n",
      "  # read download\n",
      "  remote: just_single=False      # If True, just download read1 (if remote file)\n",
      "  # validation, conversion, subsampling\n",
      "  validate_reads: \"\"\n",
      "  convert_fastq_to_1.8: \"\"\n",
      "  seqtk_sample: Skip    # Use number to subsample reads (eg., 1000000)\n",
      "  fastqc_on_raw: \"\"\n",
      "  # de-duplication\n",
      "  clumpify: Skip #dedupe=t dupedist=2500 optical=t    # this will likely fail for remote (SRA) samples\n",
      "  fastqc_on_dedup: \"\"\n",
      "  # adapter removal & quality trimming/filtering\n",
      "  bbduk: ref=./adapters/bbmap_adapters.fa fastawrap=300 k=23\n",
      "  skewer: -x ./adapters/PE_all.fa -n -l 90 -q 25\n",
      "  fastqc_on_qual: \"\"\n",
      "  # removal of 'contaminant' reads\n",
      "  bbmap: minratio=0.9 maxindel=1 bwr=0.16 bw=12 fast minhits=2 qtrim=r trimq=10 untrim idtag printunmappedcount kfilter=25 maxsites=1 k=14 pairlen=1000 rescuedist=1000\n",
      "  ikraken2: /ebio/abt3_projects/databases_no-backup/kraken2/human_db/,/ebio/abt3_projects/databases_no-backup/kraken2/UniVec_Core_db/,/ebio/abt3_projects/databases_no-backup/kraken2/vertebrata_nt_db/,/ebio/abt3_projects/databases_no-backup/kraken2/protozoa_db/,/ebio/abt3_projects/databases_no-backup/kraken2/fungi_db/ --confidence 0.7\n",
      "  fastqc_on_filter: \"\"\n",
      "  # post-QC reads\n",
      "  fastqc_on_final: \"\"\n",
      "  # taxonomy\n",
      "  centrifuge: Skip\n",
      "  krona: Skip\n",
      "  # coverage\n",
      "  nonpareil: -T kmer\n",
      "  nonpareil_summary: 1e9   # this is target seq. depth\n",
      "  # master \"Skip\": reads combined then called \"final\" reads (skips all QC steps)\n",
      "  skip_all_QC: False\n",
      "\n",
      "#-- Databases --#\n",
      "## hg19 = human genome database for filtering out human reads\n",
      "filter_db: /ebio/abt3_projects/databases_no-backup/hg19/hg19\n",
      "# centrifuge db\n",
      "centrifuge_db: /ebio/abt3_projects/databases_no-backup/centrifuge/p+h+v\n",
      "# krona taxonomy db\n",
      "krona_tax_db: /ebio/abt3_projects/databases_no-backup/krona/taxonomy\n",
      "# kraken2 (see 'ikraken2' parameters)\n",
      "\n",
      "#-- Snakemake pipeline --#\n",
      "## To use /tmp/global2/, see http://ilm.eb.local/user-guide/#Scratch-space-on-_002ftmp_002fglobal2\n",
      "pipeline:\n",
      "  snakemake_folder: ./\n",
      "  script_folder: ./bin/scripts/\n",
      "  temp_folder: /tmp/global/    # your username will be added automatically to this path\n",
      "  run_skip_locally: True        # trivial \"skip\" steps run locally (not qsub)"
     ]
    }
   ],
   "source": [
    "cat_file(file.path(work_dir, projectID, 'LLMGQC', 'config.yaml'))"
   ]
  },
  {
   "cell_type": "markdown",
   "metadata": {},
   "source": [
    "### Run"
   ]
  },
  {
   "cell_type": "markdown",
   "metadata": {},
   "source": [
    "```\n",
    "(snakemake_dev) @ rick:/ebio/abt3_projects/vadinCA11/bin/llmgqc\n",
    "$ screen -L -S llmgqc-PRJEB29346 ./snakemake_sge.sh /ebio/abt3_projects/Georg_animal_feces/data/metagenome/multi-study/BioProjects/PRJEB29346/LLMGQC/config.yaml cluster.json /ebio/abt3_projects/Georg_animal_feces/data/metagenome/multi-study/BioProjects/PRJEB29346/LLMGQC/ 20\n",
    "```"
   ]
  },
  {
   "cell_type": "markdown",
   "metadata": {},
   "source": [
    "### Problem samples"
   ]
  },
  {
   "cell_type": "code",
   "execution_count": 82,
   "metadata": {
    "ExecuteTime": {
     "end_time": "2019-08-05T15:02:59.006324Z",
     "start_time": "2019-08-05T15:02:58.433Z"
    }
   },
   "outputs": [
    {
     "name": "stdout",
     "output_type": "stream",
     "text": [
      "[1] 56\n"
     ]
    },
    {
     "data": {
      "text/html": [
       "<ol class=list-inline>\n",
       "\t<li>'SAMEA5043640'</li>\n",
       "\t<li>'SAMEA5043641'</li>\n",
       "\t<li>'SAMEA5043642'</li>\n",
       "\t<li>'SAMEA5043643'</li>\n",
       "\t<li>'SAMEA5043644'</li>\n",
       "\t<li>'SAMEA5043645'</li>\n",
       "</ol>\n"
      ],
      "text/latex": [
       "\\begin{enumerate*}\n",
       "\\item 'SAMEA5043640'\n",
       "\\item 'SAMEA5043641'\n",
       "\\item 'SAMEA5043642'\n",
       "\\item 'SAMEA5043643'\n",
       "\\item 'SAMEA5043644'\n",
       "\\item 'SAMEA5043645'\n",
       "\\end{enumerate*}\n"
      ],
      "text/markdown": [
       "1. 'SAMEA5043640'\n",
       "2. 'SAMEA5043641'\n",
       "3. 'SAMEA5043642'\n",
       "4. 'SAMEA5043643'\n",
       "5. 'SAMEA5043644'\n",
       "6. 'SAMEA5043645'\n",
       "\n",
       "\n"
      ],
      "text/plain": [
       "[1] \"SAMEA5043640\" \"SAMEA5043641\" \"SAMEA5043642\" \"SAMEA5043643\" \"SAMEA5043644\"\n",
       "[6] \"SAMEA5043645\""
      ]
     },
     "metadata": {},
     "output_type": "display_data"
    }
   ],
   "source": [
    "P = file.path(work_dir, projectID, 'LLMGQC', 'final')\n",
    "good_samps = list.files(P, 'R1_final.fq.gz', recursive=TRUE, full.names=TRUE)\n",
    "good_samps %>% length %>% print\n",
    "good_samps = good_samps %>% dirname %>% basename\n",
    "good_samps %>% head"
   ]
  },
  {
   "cell_type": "code",
   "execution_count": 84,
   "metadata": {
    "ExecuteTime": {
     "end_time": "2019-08-05T15:03:59.094291Z",
     "start_time": "2019-08-05T15:03:59.009Z"
    }
   },
   "outputs": [
    {
     "name": "stdout",
     "output_type": "stream",
     "text": [
      "   Mode   FALSE    TRUE \n",
      "logical       1      56 \n",
      "[1] 57 42\n"
     ]
    },
    {
     "data": {
      "text/html": [
       "<table>\n",
       "<thead><tr><th scope=col>Sample</th><th scope=col>Run</th><th scope=col>Lane</th><th scope=col>Remote</th><th scope=col>spots</th><th scope=col>bases</th><th scope=col>avgLength</th><th scope=col>size_MB</th><th scope=col>BioProject</th><th scope=col>bioproject</th><th scope=col>⋯</th><th scope=col>SRA_accession</th><th scope=col>Title</th><th scope=col>Animal</th><th scope=col>First_author</th><th scope=col>Year</th><th scope=col>DOI</th><th scope=col>Sequencer</th><th scope=col>Read_length</th><th scope=col>Comments</th><th scope=col>qc_finished</th></tr></thead>\n",
       "<tbody>\n",
       "\t<tr><td>SAMEA5043640                           </td><td>ERR2856134                             </td><td>1                                      </td><td>ERR2856134                             </td><td>3245792                                </td><td>817939584                              </td><td>252                                    </td><td>270                                    </td><td>PRJEB29346                             </td><td>PRJEB29346                             </td><td>⋯                                      </td><td>ERS2855374                             </td><td>L_01_r_01_l_01                         </td><td>Cod                                    </td><td>Riiser                                 </td><td>2019                                   </td><td>https://doi.org/10.1111/1462-2920.14652</td><td>HiSeq2500                              </td><td>125                                    </td><td>NA                                     </td><td>TRUE                                   </td></tr>\n",
       "\t<tr><td>SAMEA5043641                           </td><td>ERR2856135                             </td><td>1                                      </td><td>ERR2856135                             </td><td>3794750                                </td><td>956277000                              </td><td>252                                    </td><td>317                                    </td><td>PRJEB29346                             </td><td>PRJEB29346                             </td><td>⋯                                      </td><td>ERS2855375                             </td><td>L_01_r_02_l_01                         </td><td>Cod                                    </td><td>Riiser                                 </td><td>2019                                   </td><td>https://doi.org/10.1111/1462-2920.14652</td><td>HiSeq2500                              </td><td>125                                    </td><td>NA                                     </td><td>TRUE                                   </td></tr>\n",
       "\t<tr><td>SAMEA5043642                           </td><td>ERR2856136                             </td><td>1                                      </td><td>ERR2856136                             </td><td>3843198                                </td><td>968485896                              </td><td>252                                    </td><td>321                                    </td><td>PRJEB29346                             </td><td>PRJEB29346                             </td><td>⋯                                      </td><td>ERS2855376                             </td><td>L_01_r_02_l_02                         </td><td>Cod                                    </td><td>Riiser                                 </td><td>2019                                   </td><td>https://doi.org/10.1111/1462-2920.14652</td><td>HiSeq2500                              </td><td>125                                    </td><td>NA                                     </td><td>TRUE                                   </td></tr>\n",
       "</tbody>\n",
       "</table>\n"
      ],
      "text/latex": [
       "\\begin{tabular}{r|llllllllllllllllllllllllllllllllllllllllll}\n",
       " Sample & Run & Lane & Remote & spots & bases & avgLength & size\\_MB & BioProject & bioproject & ⋯ & SRA\\_accession & Title & Animal & First\\_author & Year & DOI & Sequencer & Read\\_length & Comments & qc\\_finished\\\\\n",
       "\\hline\n",
       "\t SAMEA5043640                            & ERR2856134                              & 1                                       & ERR2856134                              & 3245792                                 & 817939584                               & 252                                     & 270                                     & PRJEB29346                              & PRJEB29346                              & ⋯                                       & ERS2855374                              & L\\_01\\_r\\_01\\_l\\_01                & Cod                                     & Riiser                                  & 2019                                    & https://doi.org/10.1111/1462-2920.14652 & HiSeq2500                               & 125                                     & NA                                      & TRUE                                   \\\\\n",
       "\t SAMEA5043641                            & ERR2856135                              & 1                                       & ERR2856135                              & 3794750                                 & 956277000                               & 252                                     & 317                                     & PRJEB29346                              & PRJEB29346                              & ⋯                                       & ERS2855375                              & L\\_01\\_r\\_02\\_l\\_01                & Cod                                     & Riiser                                  & 2019                                    & https://doi.org/10.1111/1462-2920.14652 & HiSeq2500                               & 125                                     & NA                                      & TRUE                                   \\\\\n",
       "\t SAMEA5043642                            & ERR2856136                              & 1                                       & ERR2856136                              & 3843198                                 & 968485896                               & 252                                     & 321                                     & PRJEB29346                              & PRJEB29346                              & ⋯                                       & ERS2855376                              & L\\_01\\_r\\_02\\_l\\_02                & Cod                                     & Riiser                                  & 2019                                    & https://doi.org/10.1111/1462-2920.14652 & HiSeq2500                               & 125                                     & NA                                      & TRUE                                   \\\\\n",
       "\\end{tabular}\n"
      ],
      "text/markdown": [
       "\n",
       "Sample | Run | Lane | Remote | spots | bases | avgLength | size_MB | BioProject | bioproject | ⋯ | SRA_accession | Title | Animal | First_author | Year | DOI | Sequencer | Read_length | Comments | qc_finished | \n",
       "|---|---|---|\n",
       "| SAMEA5043640                            | ERR2856134                              | 1                                       | ERR2856134                              | 3245792                                 | 817939584                               | 252                                     | 270                                     | PRJEB29346                              | PRJEB29346                              | ⋯                                       | ERS2855374                              | L_01_r_01_l_01                          | Cod                                     | Riiser                                  | 2019                                    | https://doi.org/10.1111/1462-2920.14652 | HiSeq2500                               | 125                                     | NA                                      | TRUE                                    | \n",
       "| SAMEA5043641                            | ERR2856135                              | 1                                       | ERR2856135                              | 3794750                                 | 956277000                               | 252                                     | 317                                     | PRJEB29346                              | PRJEB29346                              | ⋯                                       | ERS2855375                              | L_01_r_02_l_01                          | Cod                                     | Riiser                                  | 2019                                    | https://doi.org/10.1111/1462-2920.14652 | HiSeq2500                               | 125                                     | NA                                      | TRUE                                    | \n",
       "| SAMEA5043642                            | ERR2856136                              | 1                                       | ERR2856136                              | 3843198                                 | 968485896                               | 252                                     | 321                                     | PRJEB29346                              | PRJEB29346                              | ⋯                                       | ERS2855376                              | L_01_r_02_l_02                          | Cod                                     | Riiser                                  | 2019                                    | https://doi.org/10.1111/1462-2920.14652 | HiSeq2500                               | 125                                     | NA                                      | TRUE                                    | \n",
       "\n",
       "\n"
      ],
      "text/plain": [
       "  Sample       Run        Lane Remote     spots   bases     avgLength size_MB\n",
       "1 SAMEA5043640 ERR2856134 1    ERR2856134 3245792 817939584 252       270    \n",
       "2 SAMEA5043641 ERR2856135 1    ERR2856135 3794750 956277000 252       317    \n",
       "3 SAMEA5043642 ERR2856136 1    ERR2856136 3843198 968485896 252       321    \n",
       "  BioProject bioproject ⋯ SRA_accession Title          Animal First_author Year\n",
       "1 PRJEB29346 PRJEB29346 ⋯ ERS2855374    L_01_r_01_l_01 Cod    Riiser       2019\n",
       "2 PRJEB29346 PRJEB29346 ⋯ ERS2855375    L_01_r_02_l_01 Cod    Riiser       2019\n",
       "3 PRJEB29346 PRJEB29346 ⋯ ERS2855376    L_01_r_02_l_02 Cod    Riiser       2019\n",
       "  DOI                                     Sequencer Read_length Comments\n",
       "1 https://doi.org/10.1111/1462-2920.14652 HiSeq2500 125         NA      \n",
       "2 https://doi.org/10.1111/1462-2920.14652 HiSeq2500 125         NA      \n",
       "3 https://doi.org/10.1111/1462-2920.14652 HiSeq2500 125         NA      \n",
       "  qc_finished\n",
       "1 TRUE       \n",
       "2 TRUE       \n",
       "3 TRUE       "
      ]
     },
     "metadata": {},
     "output_type": "display_data"
    }
   ],
   "source": [
    "F = file.path(work_dir, projectID, 'samples.txt')\n",
    "df_samps = read.delim(F, sep='\\t') %>%\n",
    "    mutate(qc_finished = Sample %in% good_samps)\n",
    "\n",
    "df_samps %>% .$qc_finished %>% summary %>% print\n",
    "df_samps %>% dfhead"
   ]
  },
  {
   "cell_type": "markdown",
   "metadata": {},
   "source": [
    "### Cutting loses"
   ]
  },
  {
   "cell_type": "code",
   "execution_count": 85,
   "metadata": {
    "ExecuteTime": {
     "end_time": "2019-08-05T15:05:02.906423Z",
     "start_time": "2019-08-05T15:05:02.847Z"
    }
   },
   "outputs": [
    {
     "name": "stdout",
     "output_type": "stream",
     "text": [
      "File written: /ebio/abt3_projects/Georg_animal_feces/data/metagenome/multi-study/BioProjects//PRJEB29346/LLMGQC/samples_success.txt \n"
     ]
    }
   ],
   "source": [
    "F = file.path(work_dir, projectID, 'LLMGQC', 'samples_success.txt')\n",
    "df_samps %>%\n",
    "    filter(qc_finished == TRUE) %>%\n",
    "    write.table(F, sep='\\t', quote=FALSE, row.names=FALSE)\n",
    "cat('File written:', F, '\\n')"
   ]
  },
  {
   "cell_type": "markdown",
   "metadata": {},
   "source": [
    "### Summary"
   ]
  },
  {
   "cell_type": "code",
   "execution_count": 86,
   "metadata": {
    "ExecuteTime": {
     "end_time": "2019-08-05T16:31:24.148788Z",
     "start_time": "2019-08-05T16:31:24.066Z"
    }
   },
   "outputs": [
    {
     "name": "stdout",
     "output_type": "stream",
     "text": [
      "[1] 112  21\n"
     ]
    },
    {
     "data": {
      "text/html": [
       "<table>\n",
       "<thead><tr><th scope=col>Sample</th><th scope=col>Filename</th><th scope=col>File.type</th><th scope=col>Encoding</th><th scope=col>Total.Sequences</th><th scope=col>Sequences.flagged.as.poor.quality</th><th scope=col>Sequence.length</th><th scope=col>X.GC</th><th scope=col>total_deduplicated_percentage</th><th scope=col>avg_sequence_length</th><th scope=col>⋯</th><th scope=col>per_base_sequence_quality</th><th scope=col>per_tile_sequence_quality</th><th scope=col>per_sequence_quality_scores</th><th scope=col>per_base_sequence_content</th><th scope=col>per_sequence_gc_content</th><th scope=col>per_base_n_content</th><th scope=col>sequence_length_distribution</th><th scope=col>sequence_duplication_levels</th><th scope=col>overrepresented_sequences</th><th scope=col>adapter_content</th></tr></thead>\n",
       "<tbody>\n",
       "\t<tr><td>SAMEA5043640 | fastqc_per_sample | R1_final</td><td>R1_final.fq.gz                             </td><td>Conventional base calls                    </td><td>Sanger / Illumina 1.9                      </td><td>3026546                                    </td><td>0                                          </td><td>90-126                                     </td><td>44                                         </td><td>96.35073                                   </td><td>125.0893                                   </td><td>⋯                                          </td><td>pass                                       </td><td>warn                                       </td><td>pass                                       </td><td>warn                                       </td><td>pass                                       </td><td>pass                                       </td><td>warn                                       </td><td>pass                                       </td><td>pass                                       </td><td>pass                                       </td></tr>\n",
       "\t<tr><td>SAMEA5043640 | fastqc_per_sample | R2_final</td><td>R2_final.fq.gz                             </td><td>Conventional base calls                    </td><td>Sanger / Illumina 1.9                      </td><td>3026546                                    </td><td>0                                          </td><td>90-126                                     </td><td>44                                         </td><td>96.27242                                   </td><td>124.8990                                   </td><td>⋯                                          </td><td>pass                                       </td><td>pass                                       </td><td>pass                                       </td><td>warn                                       </td><td>pass                                       </td><td>pass                                       </td><td>warn                                       </td><td>pass                                       </td><td>pass                                       </td><td>pass                                       </td></tr>\n",
       "\t<tr><td>SAMEA5043641 | fastqc_per_sample | R1_final</td><td>R1_final.fq.gz                             </td><td>Conventional base calls                    </td><td>Sanger / Illumina 1.9                      </td><td>3536098                                    </td><td>0                                          </td><td>90-126                                     </td><td>43                                         </td><td>96.10727                                   </td><td>125.1376                                   </td><td>⋯                                          </td><td>pass                                       </td><td>warn                                       </td><td>pass                                       </td><td>warn                                       </td><td>pass                                       </td><td>pass                                       </td><td>warn                                       </td><td>pass                                       </td><td>pass                                       </td><td>pass                                       </td></tr>\n",
       "</tbody>\n",
       "</table>\n"
      ],
      "text/latex": [
       "\\begin{tabular}{r|lllllllllllllllllllll}\n",
       " Sample & Filename & File.type & Encoding & Total.Sequences & Sequences.flagged.as.poor.quality & Sequence.length & X.GC & total\\_deduplicated\\_percentage & avg\\_sequence\\_length & ⋯ & per\\_base\\_sequence\\_quality & per\\_tile\\_sequence\\_quality & per\\_sequence\\_quality\\_scores & per\\_base\\_sequence\\_content & per\\_sequence\\_gc\\_content & per\\_base\\_n\\_content & sequence\\_length\\_distribution & sequence\\_duplication\\_levels & overrepresented\\_sequences & adapter\\_content\\\\\n",
       "\\hline\n",
       "\t SAMEA5043640 \\textbar{} fastqc\\_per\\_sample \\textbar{} R1\\_final & R1\\_final.fq.gz                                                      & Conventional base calls                                               & Sanger / Illumina 1.9                                                 & 3026546                                                               & 0                                                                     & 90-126                                                                & 44                                                                    & 96.35073                                                              & 125.0893                                                              & ⋯                                                                     & pass                                                                  & warn                                                                  & pass                                                                  & warn                                                                  & pass                                                                  & pass                                                                  & warn                                                                  & pass                                                                  & pass                                                                  & pass                                                                 \\\\\n",
       "\t SAMEA5043640 \\textbar{} fastqc\\_per\\_sample \\textbar{} R2\\_final & R2\\_final.fq.gz                                                      & Conventional base calls                                               & Sanger / Illumina 1.9                                                 & 3026546                                                               & 0                                                                     & 90-126                                                                & 44                                                                    & 96.27242                                                              & 124.8990                                                              & ⋯                                                                     & pass                                                                  & pass                                                                  & pass                                                                  & warn                                                                  & pass                                                                  & pass                                                                  & warn                                                                  & pass                                                                  & pass                                                                  & pass                                                                 \\\\\n",
       "\t SAMEA5043641 \\textbar{} fastqc\\_per\\_sample \\textbar{} R1\\_final & R1\\_final.fq.gz                                                      & Conventional base calls                                               & Sanger / Illumina 1.9                                                 & 3536098                                                               & 0                                                                     & 90-126                                                                & 43                                                                    & 96.10727                                                              & 125.1376                                                              & ⋯                                                                     & pass                                                                  & warn                                                                  & pass                                                                  & warn                                                                  & pass                                                                  & pass                                                                  & warn                                                                  & pass                                                                  & pass                                                                  & pass                                                                 \\\\\n",
       "\\end{tabular}\n"
      ],
      "text/markdown": [
       "\n",
       "Sample | Filename | File.type | Encoding | Total.Sequences | Sequences.flagged.as.poor.quality | Sequence.length | X.GC | total_deduplicated_percentage | avg_sequence_length | ⋯ | per_base_sequence_quality | per_tile_sequence_quality | per_sequence_quality_scores | per_base_sequence_content | per_sequence_gc_content | per_base_n_content | sequence_length_distribution | sequence_duplication_levels | overrepresented_sequences | adapter_content | \n",
       "|---|---|---|\n",
       "| SAMEA5043640 | fastqc_per_sample | R1_final | R1_final.fq.gz                              | Conventional base calls                     | Sanger / Illumina 1.9                       | 3026546                                     | 0                                           | 90-126                                      | 44                                          | 96.35073                                    | 125.0893                                    | ⋯                                           | pass                                        | warn                                        | pass                                        | warn                                        | pass                                        | pass                                        | warn                                        | pass                                        | pass                                        | pass                                        | \n",
       "| SAMEA5043640 | fastqc_per_sample | R2_final | R2_final.fq.gz                              | Conventional base calls                     | Sanger / Illumina 1.9                       | 3026546                                     | 0                                           | 90-126                                      | 44                                          | 96.27242                                    | 124.8990                                    | ⋯                                           | pass                                        | pass                                        | pass                                        | warn                                        | pass                                        | pass                                        | warn                                        | pass                                        | pass                                        | pass                                        | \n",
       "| SAMEA5043641 | fastqc_per_sample | R1_final | R1_final.fq.gz                              | Conventional base calls                     | Sanger / Illumina 1.9                       | 3536098                                     | 0                                           | 90-126                                      | 43                                          | 96.10727                                    | 125.1376                                    | ⋯                                           | pass                                        | warn                                        | pass                                        | warn                                        | pass                                        | pass                                        | warn                                        | pass                                        | pass                                        | pass                                        | \n",
       "\n",
       "\n"
      ],
      "text/plain": [
       "  Sample                                      Filename      \n",
       "1 SAMEA5043640 | fastqc_per_sample | R1_final R1_final.fq.gz\n",
       "2 SAMEA5043640 | fastqc_per_sample | R2_final R2_final.fq.gz\n",
       "3 SAMEA5043641 | fastqc_per_sample | R1_final R1_final.fq.gz\n",
       "  File.type               Encoding              Total.Sequences\n",
       "1 Conventional base calls Sanger / Illumina 1.9 3026546        \n",
       "2 Conventional base calls Sanger / Illumina 1.9 3026546        \n",
       "3 Conventional base calls Sanger / Illumina 1.9 3536098        \n",
       "  Sequences.flagged.as.poor.quality Sequence.length X.GC\n",
       "1 0                                 90-126          44  \n",
       "2 0                                 90-126          44  \n",
       "3 0                                 90-126          43  \n",
       "  total_deduplicated_percentage avg_sequence_length ⋯ per_base_sequence_quality\n",
       "1 96.35073                      125.0893            ⋯ pass                     \n",
       "2 96.27242                      124.8990            ⋯ pass                     \n",
       "3 96.10727                      125.1376            ⋯ pass                     \n",
       "  per_tile_sequence_quality per_sequence_quality_scores\n",
       "1 warn                      pass                       \n",
       "2 pass                      pass                       \n",
       "3 warn                      pass                       \n",
       "  per_base_sequence_content per_sequence_gc_content per_base_n_content\n",
       "1 warn                      pass                    pass              \n",
       "2 warn                      pass                    pass              \n",
       "3 warn                      pass                    pass              \n",
       "  sequence_length_distribution sequence_duplication_levels\n",
       "1 warn                         pass                       \n",
       "2 warn                         pass                       \n",
       "3 warn                         pass                       \n",
       "  overrepresented_sequences adapter_content\n",
       "1 pass                      pass           \n",
       "2 pass                      pass           \n",
       "3 pass                      pass           "
      ]
     },
     "metadata": {},
     "output_type": "display_data"
    }
   ],
   "source": [
    "F = file.path(work_dir, projectID, 'LLMGQC', 'reports', 'multiqc-final', 'multiqc_data', 'multiqc_fastqc.txt')\n",
    "fastqc = read.delim(F, sep='\\t')\n",
    "fastqc %>% dfhead"
   ]
  },
  {
   "cell_type": "code",
   "execution_count": 87,
   "metadata": {
    "ExecuteTime": {
     "end_time": "2019-08-05T16:31:32.849247Z",
     "start_time": "2019-08-05T16:31:32.794Z"
    }
   },
   "outputs": [
    {
     "data": {
      "text/plain": [
       " Total.Sequences   avg_sequence_length\n",
       " Min.   :2177605   Min.   :123.9      \n",
       " 1st Qu.:2832577   1st Qu.:125.0      \n",
       " Median :3113354   Median :125.0      \n",
       " Mean   :3162384   Mean   :125.0      \n",
       " 3rd Qu.:3535400   3rd Qu.:125.2      \n",
       " Max.   :4734017   Max.   :125.4      "
      ]
     },
     "metadata": {},
     "output_type": "display_data"
    }
   ],
   "source": [
    "fastqc %>% \n",
    "    filter(Filename == 'R1_final.fq.gz') %>%\n",
    "    dplyr::select(Total.Sequences, avg_sequence_length) %>% \n",
    "    summary"
   ]
  },
  {
   "cell_type": "markdown",
   "metadata": {},
   "source": [
    "## PRJNA316560\n",
    "\n",
    "* host = goose\n",
    "* n = 2\n",
    "* avg. read length = 250"
   ]
  },
  {
   "cell_type": "code",
   "execution_count": 71,
   "metadata": {
    "ExecuteTime": {
     "end_time": "2019-08-04T06:01:10.341963Z",
     "start_time": "2019-08-04T06:01:10.302Z"
    }
   },
   "outputs": [],
   "source": [
    "projectID = 'PRJNA316560'"
   ]
  },
  {
   "cell_type": "code",
   "execution_count": 74,
   "metadata": {
    "ExecuteTime": {
     "end_time": "2019-08-04T06:03:23.227103Z",
     "start_time": "2019-08-04T06:03:23.157Z"
    }
   },
   "outputs": [
    {
     "name": "stdout",
     "output_type": "stream",
     "text": [
      "Created directory: /ebio/abt3_projects/Georg_animal_feces/data/metagenome/multi-study/BioProjects//PRJNA316560/LLMGQC \n"
     ]
    }
   ],
   "source": [
    "outdir = file.path(work_dir, projectID, 'LLMGQC')\n",
    "make_dir(outdir)"
   ]
  },
  {
   "cell_type": "code",
   "execution_count": 75,
   "metadata": {
    "ExecuteTime": {
     "end_time": "2019-08-04T06:05:02.325165Z",
     "start_time": "2019-08-04T06:05:02.207Z"
    }
   },
   "outputs": [
    {
     "name": "stdout",
     "output_type": "stream",
     "text": [
      "#-- I/O --#\n",
      "# table with sample --> read_file information\n",
      "samples_file: /ebio/abt3_projects/Georg_animal_feces/data/metagenome/multi-study/BioProjects/PRJNA316560/samples.txt\n",
      "\n",
      "# output location\n",
      "output_dir: /ebio/abt3_projects/Georg_animal_feces/data/metagenome/multi-study/BioProjects/PRJNA316560/LLMGQC/\n",
      "\n",
      "# read file path\n",
      "# use \"None\" if full file path is included in the samples_file\n",
      "read_file_path: None\n",
      "\n",
      "#-- Software parameters --#\n",
      "# Use \"Skip\" to skip any of these steps. If no params for rule, use \"\"\n",
      "# `clumpify`: change dupedist if not HiSeq3000/4000 (dupedist=40 for NextSeq, HiSeq2500, and MiSeq)\n",
      "params:\n",
      "  # read download\n",
      "  remote: just_single=False      # If True, just download read1 (if remote file)\n",
      "  # validation, conversion, subsampling\n",
      "  validate_reads: \"\"\n",
      "  convert_fastq_to_1.8: \"\"\n",
      "  seqtk_sample: Skip    # Use number to subsample reads (eg., 1000000)\n",
      "  fastqc_on_raw: \"\"\n",
      "  # de-duplication\n",
      "  clumpify: Skip #dedupe=t dupedist=2500 optical=t    # this will likely fail for remote (SRA) samples\n",
      "  fastqc_on_dedup: \"\"\n",
      "  # adapter removal & quality trimming/filtering\n",
      "  bbduk: ref=./adapters/bbmap_adapters.fa fastawrap=300 k=23\n",
      "  skewer: -x ./adapters/PE_all.fa -n -l 90 -q 25\n",
      "  fastqc_on_qual: \"\"\n",
      "  # removal of 'contaminant' reads\n",
      "  bbmap: minratio=0.9 maxindel=1 bwr=0.16 bw=12 fast minhits=2 qtrim=r trimq=10 untrim idtag printunmappedcount kfilter=25 maxsites=1 k=14 pairlen=1000 rescuedist=1000\n",
      "  ikraken2: /ebio/abt3_projects/databases_no-backup/kraken2/human_db/,/ebio/abt3_projects/databases_no-backup/kraken2/UniVec_Core_db/,/ebio/abt3_projects/databases_no-backup/kraken2/vertebrata_nt_db/,/ebio/abt3_projects/databases_no-backup/kraken2/protozoa_db/,/ebio/abt3_projects/databases_no-backup/kraken2/fungi_db/ --confidence 0.7\n",
      "  fastqc_on_filter: \"\"\n",
      "  # post-QC reads\n",
      "  fastqc_on_final: \"\"\n",
      "  # taxonomy\n",
      "  centrifuge: Skip\n",
      "  krona: Skip\n",
      "  # coverage\n",
      "  nonpareil: -T kmer\n",
      "  nonpareil_summary: 1e9   # this is target seq. depth\n",
      "  # master \"Skip\": reads combined then called \"final\" reads (skips all QC steps)\n",
      "  skip_all_QC: False\n",
      "\n",
      "#-- Databases --#\n",
      "## hg19 = human genome database for filtering out human reads\n",
      "filter_db: /ebio/abt3_projects/databases_no-backup/hg19/hg19\n",
      "# centrifuge db\n",
      "centrifuge_db: /ebio/abt3_projects/databases_no-backup/centrifuge/p+h+v\n",
      "# krona taxonomy db\n",
      "krona_tax_db: /ebio/abt3_projects/databases_no-backup/krona/taxonomy\n",
      "# kraken2 (see 'ikraken2' parameters)\n",
      "\n",
      "#-- Snakemake pipeline --#\n",
      "## To use /tmp/global2/, see http://ilm.eb.local/user-guide/#Scratch-space-on-_002ftmp_002fglobal2\n",
      "pipeline:\n",
      "  snakemake_folder: ./\n",
      "  script_folder: ./bin/scripts/\n",
      "  temp_folder: /tmp/global/    # your username will be added automatically to this path\n",
      "  run_skip_locally: True        # trivial \"skip\" steps run locally (not qsub)"
     ]
    }
   ],
   "source": [
    "cat_file(file.path(outdir, 'config.yaml'))"
   ]
  },
  {
   "cell_type": "markdown",
   "metadata": {},
   "source": [
    "### Run"
   ]
  },
  {
   "cell_type": "markdown",
   "metadata": {},
   "source": [
    "```\n",
    "(snakemake_dev) @ rick:/ebio/abt3_projects/methanogen_host_evo/bin/llmgqc\n",
    "$ screen -L -S llmgqc-PRJNA316560 ./snakemake_sge.sh /ebio/abt3_projects/Georg_animal_feces/data/metagenome/multi-study/BioProjects/PRJNA316560/LLMGQC/config.yaml cluster.json /ebio/abt3_projects/Georg_animal_feces/data/metagenome/multi-study/BioProjects/PRJNA316560/LLMGQC/SGE_log 20\n",
    "```"
   ]
  },
  {
   "cell_type": "markdown",
   "metadata": {},
   "source": [
    "### Summary"
   ]
  },
  {
   "cell_type": "code",
   "execution_count": 76,
   "metadata": {
    "ExecuteTime": {
     "end_time": "2019-08-05T08:17:57.785769Z",
     "start_time": "2019-08-05T08:17:57.759Z"
    }
   },
   "outputs": [],
   "source": [
    "projectID = 'PRJNA316560'"
   ]
  },
  {
   "cell_type": "code",
   "execution_count": 77,
   "metadata": {
    "ExecuteTime": {
     "end_time": "2019-08-05T08:17:58.686414Z",
     "start_time": "2019-08-05T08:17:58.589Z"
    }
   },
   "outputs": [
    {
     "name": "stdout",
     "output_type": "stream",
     "text": [
      "[1]  4 20\n"
     ]
    },
    {
     "data": {
      "text/html": [
       "<table>\n",
       "<thead><tr><th scope=col>Sample</th><th scope=col>Filename</th><th scope=col>File.type</th><th scope=col>Encoding</th><th scope=col>Total.Sequences</th><th scope=col>Sequences.flagged.as.poor.quality</th><th scope=col>Sequence.length</th><th scope=col>X.GC</th><th scope=col>total_deduplicated_percentage</th><th scope=col>avg_sequence_length</th><th scope=col>basic_statistics</th><th scope=col>per_base_sequence_quality</th><th scope=col>per_sequence_quality_scores</th><th scope=col>per_base_sequence_content</th><th scope=col>per_sequence_gc_content</th><th scope=col>per_base_n_content</th><th scope=col>sequence_length_distribution</th><th scope=col>sequence_duplication_levels</th><th scope=col>overrepresented_sequences</th><th scope=col>adapter_content</th></tr></thead>\n",
       "<tbody>\n",
       "\t<tr><td>artificially_reared_1 | fastqc_per_sample | R1_final</td><td>R1_final.fq.gz                                      </td><td>Conventional base calls                             </td><td>Sanger / Illumina 1.9                               </td><td>14682965                                            </td><td>0                                                   </td><td>90-126                                              </td><td>43                                                  </td><td>91.10658                                            </td><td>123.5055                                            </td><td>pass                                                </td><td>pass                                                </td><td>pass                                                </td><td>pass                                                </td><td>pass                                                </td><td>pass                                                </td><td>warn                                                </td><td>pass                                                </td><td>pass                                                </td><td>pass                                                </td></tr>\n",
       "\t<tr><td>artificially_reared_1 | fastqc_per_sample | R2_final</td><td>R2_final.fq.gz                                      </td><td>Conventional base calls                             </td><td>Sanger / Illumina 1.9                               </td><td>14682965                                            </td><td>0                                                   </td><td>90-126                                              </td><td>42                                                  </td><td>91.48249                                            </td><td>124.8729                                            </td><td>pass                                                </td><td>pass                                                </td><td>pass                                                </td><td>warn                                                </td><td>pass                                                </td><td>pass                                                </td><td>warn                                                </td><td>pass                                                </td><td>pass                                                </td><td>pass                                                </td></tr>\n",
       "\t<tr><td>artificially_reared_2 | fastqc_per_sample | R1_final</td><td>R1_final.fq.gz                                      </td><td>Conventional base calls                             </td><td>Sanger / Illumina 1.9                               </td><td>20768849                                            </td><td>0                                                   </td><td>90-126                                              </td><td>44                                                  </td><td>94.94694                                            </td><td>123.2767                                            </td><td>pass                                                </td><td>pass                                                </td><td>pass                                                </td><td>warn                                                </td><td>pass                                                </td><td>pass                                                </td><td>warn                                                </td><td>pass                                                </td><td>pass                                                </td><td>pass                                                </td></tr>\n",
       "</tbody>\n",
       "</table>\n"
      ],
      "text/latex": [
       "\\begin{tabular}{r|llllllllllllllllllll}\n",
       " Sample & Filename & File.type & Encoding & Total.Sequences & Sequences.flagged.as.poor.quality & Sequence.length & X.GC & total\\_deduplicated\\_percentage & avg\\_sequence\\_length & basic\\_statistics & per\\_base\\_sequence\\_quality & per\\_sequence\\_quality\\_scores & per\\_base\\_sequence\\_content & per\\_sequence\\_gc\\_content & per\\_base\\_n\\_content & sequence\\_length\\_distribution & sequence\\_duplication\\_levels & overrepresented\\_sequences & adapter\\_content\\\\\n",
       "\\hline\n",
       "\t artificially\\_reared\\_1 \\textbar{} fastqc\\_per\\_sample \\textbar{} R1\\_final & R1\\_final.fq.gz                                                                   & Conventional base calls                                                            & Sanger / Illumina 1.9                                                              & 14682965                                                                           & 0                                                                                  & 90-126                                                                             & 43                                                                                 & 91.10658                                                                           & 123.5055                                                                           & pass                                                                               & pass                                                                               & pass                                                                               & pass                                                                               & pass                                                                               & pass                                                                               & warn                                                                               & pass                                                                               & pass                                                                               & pass                                                                              \\\\\n",
       "\t artificially\\_reared\\_1 \\textbar{} fastqc\\_per\\_sample \\textbar{} R2\\_final & R2\\_final.fq.gz                                                                   & Conventional base calls                                                            & Sanger / Illumina 1.9                                                              & 14682965                                                                           & 0                                                                                  & 90-126                                                                             & 42                                                                                 & 91.48249                                                                           & 124.8729                                                                           & pass                                                                               & pass                                                                               & pass                                                                               & warn                                                                               & pass                                                                               & pass                                                                               & warn                                                                               & pass                                                                               & pass                                                                               & pass                                                                              \\\\\n",
       "\t artificially\\_reared\\_2 \\textbar{} fastqc\\_per\\_sample \\textbar{} R1\\_final & R1\\_final.fq.gz                                                                   & Conventional base calls                                                            & Sanger / Illumina 1.9                                                              & 20768849                                                                           & 0                                                                                  & 90-126                                                                             & 44                                                                                 & 94.94694                                                                           & 123.2767                                                                           & pass                                                                               & pass                                                                               & pass                                                                               & warn                                                                               & pass                                                                               & pass                                                                               & warn                                                                               & pass                                                                               & pass                                                                               & pass                                                                              \\\\\n",
       "\\end{tabular}\n"
      ],
      "text/markdown": [
       "\n",
       "Sample | Filename | File.type | Encoding | Total.Sequences | Sequences.flagged.as.poor.quality | Sequence.length | X.GC | total_deduplicated_percentage | avg_sequence_length | basic_statistics | per_base_sequence_quality | per_sequence_quality_scores | per_base_sequence_content | per_sequence_gc_content | per_base_n_content | sequence_length_distribution | sequence_duplication_levels | overrepresented_sequences | adapter_content | \n",
       "|---|---|---|\n",
       "| artificially_reared_1 | fastqc_per_sample | R1_final | R1_final.fq.gz                                       | Conventional base calls                              | Sanger / Illumina 1.9                                | 14682965                                             | 0                                                    | 90-126                                               | 43                                                   | 91.10658                                             | 123.5055                                             | pass                                                 | pass                                                 | pass                                                 | pass                                                 | pass                                                 | pass                                                 | warn                                                 | pass                                                 | pass                                                 | pass                                                 | \n",
       "| artificially_reared_1 | fastqc_per_sample | R2_final | R2_final.fq.gz                                       | Conventional base calls                              | Sanger / Illumina 1.9                                | 14682965                                             | 0                                                    | 90-126                                               | 42                                                   | 91.48249                                             | 124.8729                                             | pass                                                 | pass                                                 | pass                                                 | warn                                                 | pass                                                 | pass                                                 | warn                                                 | pass                                                 | pass                                                 | pass                                                 | \n",
       "| artificially_reared_2 | fastqc_per_sample | R1_final | R1_final.fq.gz                                       | Conventional base calls                              | Sanger / Illumina 1.9                                | 20768849                                             | 0                                                    | 90-126                                               | 44                                                   | 94.94694                                             | 123.2767                                             | pass                                                 | pass                                                 | pass                                                 | warn                                                 | pass                                                 | pass                                                 | warn                                                 | pass                                                 | pass                                                 | pass                                                 | \n",
       "\n",
       "\n"
      ],
      "text/plain": [
       "  Sample                                               Filename      \n",
       "1 artificially_reared_1 | fastqc_per_sample | R1_final R1_final.fq.gz\n",
       "2 artificially_reared_1 | fastqc_per_sample | R2_final R2_final.fq.gz\n",
       "3 artificially_reared_2 | fastqc_per_sample | R1_final R1_final.fq.gz\n",
       "  File.type               Encoding              Total.Sequences\n",
       "1 Conventional base calls Sanger / Illumina 1.9 14682965       \n",
       "2 Conventional base calls Sanger / Illumina 1.9 14682965       \n",
       "3 Conventional base calls Sanger / Illumina 1.9 20768849       \n",
       "  Sequences.flagged.as.poor.quality Sequence.length X.GC\n",
       "1 0                                 90-126          43  \n",
       "2 0                                 90-126          42  \n",
       "3 0                                 90-126          44  \n",
       "  total_deduplicated_percentage avg_sequence_length basic_statistics\n",
       "1 91.10658                      123.5055            pass            \n",
       "2 91.48249                      124.8729            pass            \n",
       "3 94.94694                      123.2767            pass            \n",
       "  per_base_sequence_quality per_sequence_quality_scores\n",
       "1 pass                      pass                       \n",
       "2 pass                      pass                       \n",
       "3 pass                      pass                       \n",
       "  per_base_sequence_content per_sequence_gc_content per_base_n_content\n",
       "1 pass                      pass                    pass              \n",
       "2 warn                      pass                    pass              \n",
       "3 warn                      pass                    pass              \n",
       "  sequence_length_distribution sequence_duplication_levels\n",
       "1 warn                         pass                       \n",
       "2 warn                         pass                       \n",
       "3 warn                         pass                       \n",
       "  overrepresented_sequences adapter_content\n",
       "1 pass                      pass           \n",
       "2 pass                      pass           \n",
       "3 pass                      pass           "
      ]
     },
     "metadata": {},
     "output_type": "display_data"
    }
   ],
   "source": [
    "F = file.path(work_dir, projectID, 'LLMGQC', 'reports', 'multiqc-final', 'multiqc_data', 'multiqc_fastqc.txt')\n",
    "fastqc = read.delim(F, sep='\\t')\n",
    "fastqc %>% dfhead"
   ]
  },
  {
   "cell_type": "code",
   "execution_count": 78,
   "metadata": {
    "ExecuteTime": {
     "end_time": "2019-08-05T08:18:06.393677Z",
     "start_time": "2019-08-05T08:18:06.350Z"
    }
   },
   "outputs": [
    {
     "data": {
      "text/plain": [
       " Total.Sequences    avg_sequence_length\n",
       " Min.   :14682965   Min.   :123.3      \n",
       " 1st Qu.:16204436   1st Qu.:123.3      \n",
       " Median :17725907   Median :123.4      \n",
       " Mean   :17725907   Mean   :123.4      \n",
       " 3rd Qu.:19247378   3rd Qu.:123.4      \n",
       " Max.   :20768849   Max.   :123.5      "
      ]
     },
     "metadata": {},
     "output_type": "display_data"
    }
   ],
   "source": [
    "fastqc %>% \n",
    "    filter(Filename == 'R1_final.fq.gz') %>%\n",
    "    dplyr::select(Total.Sequences, avg_sequence_length) %>% \n",
    "    summary"
   ]
  },
  {
   "cell_type": "markdown",
   "metadata": {},
   "source": [
    "## PRJNA316570\n",
    "\n",
    "* host = goose\n",
    "* n = 2\n",
    "* avg. read length = 250"
   ]
  },
  {
   "cell_type": "code",
   "execution_count": 89,
   "metadata": {
    "ExecuteTime": {
     "end_time": "2019-08-05T16:37:22.981768Z",
     "start_time": "2019-08-05T16:37:22.943Z"
    }
   },
   "outputs": [],
   "source": [
    "projectID = 'PRJNA316570'"
   ]
  },
  {
   "cell_type": "code",
   "execution_count": 90,
   "metadata": {
    "ExecuteTime": {
     "end_time": "2019-08-05T16:37:40.434384Z",
     "start_time": "2019-08-05T16:37:40.388Z"
    }
   },
   "outputs": [
    {
     "name": "stdout",
     "output_type": "stream",
     "text": [
      "Created directory: /ebio/abt3_projects/Georg_animal_feces/data/metagenome/multi-study/BioProjects//PRJNA316570/LLMGQC \n"
     ]
    }
   ],
   "source": [
    "outdir = file.path(work_dir, projectID, 'LLMGQC')\n",
    "make_dir(outdir)"
   ]
  },
  {
   "cell_type": "code",
   "execution_count": 91,
   "metadata": {
    "ExecuteTime": {
     "end_time": "2019-08-05T16:38:45.375133Z",
     "start_time": "2019-08-05T16:38:45.321Z"
    }
   },
   "outputs": [
    {
     "name": "stdout",
     "output_type": "stream",
     "text": [
      "#-- I/O --#\n",
      "# table with sample --> read_file information\n",
      "samples_file: /ebio/abt3_projects/Georg_animal_feces/data/metagenome/multi-study/BioProjects/PRJNA316570/samples.txt\n",
      "\n",
      "# output location\n",
      "output_dir: /ebio/abt3_projects/Georg_animal_feces/data/metagenome/multi-study/BioProjects/PRJNA316570/LLMGQC/\n",
      "\n",
      "# read file path\n",
      "# use \"None\" if full file path is included in the samples_file\n",
      "read_file_path: None\n",
      "\n",
      "#-- Software parameters --#\n",
      "# Use \"Skip\" to skip any of these steps. If no params for rule, use \"\"\n",
      "# `clumpify`: change dupedist if not HiSeq3000/4000 (dupedist=40 for NextSeq, HiSeq2500, and MiSeq)\n",
      "params:\n",
      "  # read download\n",
      "  remote: just_single=False      # If True, just download read1 (if remote file)\n",
      "  # validation, conversion, subsampling\n",
      "  validate_reads: \"\"\n",
      "  convert_fastq_to_1.8: \"\"\n",
      "  seqtk_sample: Skip    # Use number to subsample reads (eg., 1000000)\n",
      "  fastqc_on_raw: \"\"\n",
      "  # de-duplication\n",
      "  clumpify: Skip #dedupe=t dupedist=2500 optical=t    # this will likely fail for remote (SRA) samples\n",
      "  fastqc_on_dedup: \"\"\n",
      "  # adapter removal & quality trimming/filtering\n",
      "  bbduk: ref=./adapters/bbmap_adapters.fa fastawrap=300 k=23\n",
      "  skewer: -x ./adapters/PE_all.fa -n -l 90 -q 25\n",
      "  fastqc_on_qual: \"\"\n",
      "  # removal of 'contaminant' reads\n",
      "  bbmap: minratio=0.9 maxindel=1 bwr=0.16 bw=12 fast minhits=2 qtrim=r trimq=10 untrim idtag printunmappedcount kfilter=25 maxsites=1 k=14 pairlen=1000 rescuedist=1000\n",
      "  ikraken2: /ebio/abt3_projects/databases_no-backup/kraken2/human_db/,/ebio/abt3_projects/databases_no-backup/kraken2/UniVec_Core_db/,/ebio/abt3_projects/databases_no-backup/kraken2/vertebrata_nt_db/,/ebio/abt3_projects/databases_no-backup/kraken2/protozoa_db/,/ebio/abt3_projects/databases_no-backup/kraken2/fungi_db/ --confidence 0.7\n",
      "  fastqc_on_filter: \"\"\n",
      "  # post-QC reads\n",
      "  fastqc_on_final: \"\"\n",
      "  # taxonomy\n",
      "  centrifuge: Skip\n",
      "  krona: Skip\n",
      "  # coverage\n",
      "  nonpareil: -T kmer\n",
      "  nonpareil_summary: 1e9   # this is target seq. depth\n",
      "  # master \"Skip\": reads combined then called \"final\" reads (skips all QC steps)\n",
      "  skip_all_QC: False\n",
      "\n",
      "#-- Databases --#\n",
      "## hg19 = human genome database for filtering out human reads\n",
      "filter_db: /ebio/abt3_projects/databases_no-backup/hg19/hg19\n",
      "# centrifuge db\n",
      "centrifuge_db: /ebio/abt3_projects/databases_no-backup/centrifuge/p+h+v\n",
      "# krona taxonomy db\n",
      "krona_tax_db: /ebio/abt3_projects/databases_no-backup/krona/taxonomy\n",
      "# kraken2 (see 'ikraken2' parameters)\n",
      "\n",
      "#-- Snakemake pipeline --#\n",
      "## To use /tmp/global2/, see http://ilm.eb.local/user-guide/#Scratch-space-on-_002ftmp_002fglobal2\n",
      "pipeline:\n",
      "  snakemake_folder: ./\n",
      "  script_folder: ./bin/scripts/\n",
      "  temp_folder: /tmp/global/    # your username will be added automatically to this path\n",
      "  run_skip_locally: True        # trivial \"skip\" steps run locally (not qsub)"
     ]
    }
   ],
   "source": [
    "cat_file(file.path(outdir, 'config.yaml'))"
   ]
  },
  {
   "cell_type": "markdown",
   "metadata": {},
   "source": [
    "### Run"
   ]
  },
  {
   "cell_type": "markdown",
   "metadata": {},
   "source": [
    "```\n",
    "(snakemake_dev) @ rick:/ebio/abt3_projects/methanogen_host_evo/bin/llmgqc\n",
    "$ screen -L -S llmgqc-PRJNA316570 ./snakemake_sge.sh /ebio/abt3_projects/Georg_animal_feces/data/metagenome/multi-study/BioProjects/PRJNA316570/LLMGQC/config.yaml cluster.json /ebio/abt3_projects/Georg_animal_feces/data/metagenome/multi-study/BioProjects/PRJNA316570/LLMGQC/SGE_log 20\n",
    "```"
   ]
  },
  {
   "cell_type": "markdown",
   "metadata": {},
   "source": [
    "### Summary"
   ]
  },
  {
   "cell_type": "code",
   "execution_count": 92,
   "metadata": {
    "ExecuteTime": {
     "end_time": "2019-08-06T06:52:49.919539Z",
     "start_time": "2019-08-06T06:52:49.884Z"
    }
   },
   "outputs": [],
   "source": [
    "projectID = 'PRJNA316570'"
   ]
  },
  {
   "cell_type": "code",
   "execution_count": 93,
   "metadata": {
    "ExecuteTime": {
     "end_time": "2019-08-06T06:52:58.222032Z",
     "start_time": "2019-08-06T06:52:58.131Z"
    }
   },
   "outputs": [
    {
     "name": "stdout",
     "output_type": "stream",
     "text": [
      "[1]  4 20\n"
     ]
    },
    {
     "data": {
      "text/html": [
       "<table>\n",
       "<thead><tr><th scope=col>Sample</th><th scope=col>Filename</th><th scope=col>File.type</th><th scope=col>Encoding</th><th scope=col>Total.Sequences</th><th scope=col>Sequences.flagged.as.poor.quality</th><th scope=col>Sequence.length</th><th scope=col>X.GC</th><th scope=col>total_deduplicated_percentage</th><th scope=col>avg_sequence_length</th><th scope=col>basic_statistics</th><th scope=col>per_base_sequence_quality</th><th scope=col>per_sequence_quality_scores</th><th scope=col>per_base_sequence_content</th><th scope=col>per_sequence_gc_content</th><th scope=col>per_base_n_content</th><th scope=col>sequence_length_distribution</th><th scope=col>sequence_duplication_levels</th><th scope=col>overrepresented_sequences</th><th scope=col>adapter_content</th></tr></thead>\n",
       "<tbody>\n",
       "\t<tr><td>wild_sample_1 | fastqc_per_sample | R1_final</td><td>R1_final.fq.gz                              </td><td>Conventional base calls                     </td><td>Sanger / Illumina 1.9                       </td><td>18167849                                    </td><td>0                                           </td><td>90-126                                      </td><td>41                                          </td><td>90.24708                                    </td><td>123.6654                                    </td><td>pass                                        </td><td>pass                                        </td><td>pass                                        </td><td>pass                                        </td><td>pass                                        </td><td>pass                                        </td><td>warn                                        </td><td>pass                                        </td><td>pass                                        </td><td>pass                                        </td></tr>\n",
       "\t<tr><td>wild_sample_1 | fastqc_per_sample | R2_final</td><td>R2_final.fq.gz                              </td><td>Conventional base calls                     </td><td>Sanger / Illumina 1.9                       </td><td>18167849                                    </td><td>0                                           </td><td>90-126                                      </td><td>41                                          </td><td>90.93926                                    </td><td>124.8679                                    </td><td>pass                                        </td><td>pass                                        </td><td>pass                                        </td><td>warn                                        </td><td>pass                                        </td><td>pass                                        </td><td>warn                                        </td><td>pass                                        </td><td>pass                                        </td><td>pass                                        </td></tr>\n",
       "\t<tr><td>wild_sample_2 | fastqc_per_sample | R1_final</td><td>R1_final.fq.gz                              </td><td>Conventional base calls                     </td><td>Sanger / Illumina 1.9                       </td><td>16891888                                    </td><td>0                                           </td><td>90-126                                      </td><td>42                                          </td><td>90.47841                                    </td><td>123.3605                                    </td><td>pass                                        </td><td>pass                                        </td><td>pass                                        </td><td>pass                                        </td><td>pass                                        </td><td>pass                                        </td><td>warn                                        </td><td>pass                                        </td><td>pass                                        </td><td>pass                                        </td></tr>\n",
       "</tbody>\n",
       "</table>\n"
      ],
      "text/latex": [
       "\\begin{tabular}{r|llllllllllllllllllll}\n",
       " Sample & Filename & File.type & Encoding & Total.Sequences & Sequences.flagged.as.poor.quality & Sequence.length & X.GC & total\\_deduplicated\\_percentage & avg\\_sequence\\_length & basic\\_statistics & per\\_base\\_sequence\\_quality & per\\_sequence\\_quality\\_scores & per\\_base\\_sequence\\_content & per\\_sequence\\_gc\\_content & per\\_base\\_n\\_content & sequence\\_length\\_distribution & sequence\\_duplication\\_levels & overrepresented\\_sequences & adapter\\_content\\\\\n",
       "\\hline\n",
       "\t wild\\_sample\\_1 \\textbar{} fastqc\\_per\\_sample \\textbar{} R1\\_final & R1\\_final.fq.gz                                                           & Conventional base calls                                                    & Sanger / Illumina 1.9                                                      & 18167849                                                                   & 0                                                                          & 90-126                                                                     & 41                                                                         & 90.24708                                                                   & 123.6654                                                                   & pass                                                                       & pass                                                                       & pass                                                                       & pass                                                                       & pass                                                                       & pass                                                                       & warn                                                                       & pass                                                                       & pass                                                                       & pass                                                                      \\\\\n",
       "\t wild\\_sample\\_1 \\textbar{} fastqc\\_per\\_sample \\textbar{} R2\\_final & R2\\_final.fq.gz                                                           & Conventional base calls                                                    & Sanger / Illumina 1.9                                                      & 18167849                                                                   & 0                                                                          & 90-126                                                                     & 41                                                                         & 90.93926                                                                   & 124.8679                                                                   & pass                                                                       & pass                                                                       & pass                                                                       & warn                                                                       & pass                                                                       & pass                                                                       & warn                                                                       & pass                                                                       & pass                                                                       & pass                                                                      \\\\\n",
       "\t wild\\_sample\\_2 \\textbar{} fastqc\\_per\\_sample \\textbar{} R1\\_final & R1\\_final.fq.gz                                                           & Conventional base calls                                                    & Sanger / Illumina 1.9                                                      & 16891888                                                                   & 0                                                                          & 90-126                                                                     & 42                                                                         & 90.47841                                                                   & 123.3605                                                                   & pass                                                                       & pass                                                                       & pass                                                                       & pass                                                                       & pass                                                                       & pass                                                                       & warn                                                                       & pass                                                                       & pass                                                                       & pass                                                                      \\\\\n",
       "\\end{tabular}\n"
      ],
      "text/markdown": [
       "\n",
       "Sample | Filename | File.type | Encoding | Total.Sequences | Sequences.flagged.as.poor.quality | Sequence.length | X.GC | total_deduplicated_percentage | avg_sequence_length | basic_statistics | per_base_sequence_quality | per_sequence_quality_scores | per_base_sequence_content | per_sequence_gc_content | per_base_n_content | sequence_length_distribution | sequence_duplication_levels | overrepresented_sequences | adapter_content | \n",
       "|---|---|---|\n",
       "| wild_sample_1 | fastqc_per_sample | R1_final | R1_final.fq.gz                               | Conventional base calls                      | Sanger / Illumina 1.9                        | 18167849                                     | 0                                            | 90-126                                       | 41                                           | 90.24708                                     | 123.6654                                     | pass                                         | pass                                         | pass                                         | pass                                         | pass                                         | pass                                         | warn                                         | pass                                         | pass                                         | pass                                         | \n",
       "| wild_sample_1 | fastqc_per_sample | R2_final | R2_final.fq.gz                               | Conventional base calls                      | Sanger / Illumina 1.9                        | 18167849                                     | 0                                            | 90-126                                       | 41                                           | 90.93926                                     | 124.8679                                     | pass                                         | pass                                         | pass                                         | warn                                         | pass                                         | pass                                         | warn                                         | pass                                         | pass                                         | pass                                         | \n",
       "| wild_sample_2 | fastqc_per_sample | R1_final | R1_final.fq.gz                               | Conventional base calls                      | Sanger / Illumina 1.9                        | 16891888                                     | 0                                            | 90-126                                       | 42                                           | 90.47841                                     | 123.3605                                     | pass                                         | pass                                         | pass                                         | pass                                         | pass                                         | pass                                         | warn                                         | pass                                         | pass                                         | pass                                         | \n",
       "\n",
       "\n"
      ],
      "text/plain": [
       "  Sample                                       Filename      \n",
       "1 wild_sample_1 | fastqc_per_sample | R1_final R1_final.fq.gz\n",
       "2 wild_sample_1 | fastqc_per_sample | R2_final R2_final.fq.gz\n",
       "3 wild_sample_2 | fastqc_per_sample | R1_final R1_final.fq.gz\n",
       "  File.type               Encoding              Total.Sequences\n",
       "1 Conventional base calls Sanger / Illumina 1.9 18167849       \n",
       "2 Conventional base calls Sanger / Illumina 1.9 18167849       \n",
       "3 Conventional base calls Sanger / Illumina 1.9 16891888       \n",
       "  Sequences.flagged.as.poor.quality Sequence.length X.GC\n",
       "1 0                                 90-126          41  \n",
       "2 0                                 90-126          41  \n",
       "3 0                                 90-126          42  \n",
       "  total_deduplicated_percentage avg_sequence_length basic_statistics\n",
       "1 90.24708                      123.6654            pass            \n",
       "2 90.93926                      124.8679            pass            \n",
       "3 90.47841                      123.3605            pass            \n",
       "  per_base_sequence_quality per_sequence_quality_scores\n",
       "1 pass                      pass                       \n",
       "2 pass                      pass                       \n",
       "3 pass                      pass                       \n",
       "  per_base_sequence_content per_sequence_gc_content per_base_n_content\n",
       "1 pass                      pass                    pass              \n",
       "2 warn                      pass                    pass              \n",
       "3 pass                      pass                    pass              \n",
       "  sequence_length_distribution sequence_duplication_levels\n",
       "1 warn                         pass                       \n",
       "2 warn                         pass                       \n",
       "3 warn                         pass                       \n",
       "  overrepresented_sequences adapter_content\n",
       "1 pass                      pass           \n",
       "2 pass                      pass           \n",
       "3 pass                      pass           "
      ]
     },
     "metadata": {},
     "output_type": "display_data"
    }
   ],
   "source": [
    "F = file.path(work_dir, projectID, 'LLMGQC', 'reports', 'multiqc-final', 'multiqc_data', 'multiqc_fastqc.txt')\n",
    "fastqc = read.delim(F, sep='\\t')\n",
    "fastqc %>% dfhead"
   ]
  },
  {
   "cell_type": "code",
   "execution_count": 94,
   "metadata": {
    "ExecuteTime": {
     "end_time": "2019-08-06T06:53:07.064247Z",
     "start_time": "2019-08-06T06:53:07.019Z"
    }
   },
   "outputs": [
    {
     "data": {
      "text/plain": [
       " Total.Sequences    avg_sequence_length\n",
       " Min.   :16891888   Min.   :123.4      \n",
       " 1st Qu.:17210878   1st Qu.:123.4      \n",
       " Median :17529868   Median :123.5      \n",
       " Mean   :17529868   Mean   :123.5      \n",
       " 3rd Qu.:17848859   3rd Qu.:123.6      \n",
       " Max.   :18167849   Max.   :123.7      "
      ]
     },
     "metadata": {},
     "output_type": "display_data"
    }
   ],
   "source": [
    "fastqc %>% \n",
    "    filter(Filename == 'R1_final.fq.gz') %>%\n",
    "    dplyr::select(Total.Sequences, avg_sequence_length) %>% \n",
    "    summary"
   ]
  },
  {
   "cell_type": "markdown",
   "metadata": {},
   "source": [
    "## PRJNA336354\n",
    "\n",
    "* host = woodrat\n",
    "* n = 15\n",
    "* avg. read length = 201"
   ]
  },
  {
   "cell_type": "code",
   "execution_count": 95,
   "metadata": {
    "ExecuteTime": {
     "end_time": "2019-08-06T07:01:11.156824Z",
     "start_time": "2019-08-06T07:01:11.126Z"
    }
   },
   "outputs": [],
   "source": [
    "projectID = 'PRJNA336354'"
   ]
  },
  {
   "cell_type": "code",
   "execution_count": 96,
   "metadata": {
    "ExecuteTime": {
     "end_time": "2019-08-06T07:01:18.103068Z",
     "start_time": "2019-08-06T07:01:18.060Z"
    }
   },
   "outputs": [
    {
     "name": "stdout",
     "output_type": "stream",
     "text": [
      "Directory already exists: /ebio/abt3_projects/Georg_animal_feces/data/metagenome/multi-study/BioProjects//PRJNA336354/LLMGQC \n"
     ]
    }
   ],
   "source": [
    "outdir = file.path(work_dir, projectID, 'LLMGQC')\n",
    "make_dir(outdir)"
   ]
  },
  {
   "cell_type": "code",
   "execution_count": 97,
   "metadata": {
    "ExecuteTime": {
     "end_time": "2019-08-06T11:01:40.094046Z",
     "start_time": "2019-08-06T11:01:40.054Z"
    }
   },
   "outputs": [
    {
     "name": "stdout",
     "output_type": "stream",
     "text": [
      "#-- I/O --#\n",
      "# table with sample --> read_file information\n",
      "samples_file: /ebio/abt3_projects/Georg_animal_feces/data/metagenome/multi-study/BioProjects/PRJNA336354/samples.txt\n",
      "\n",
      "# output location\n",
      "output_dir: /ebio/abt3_projects/Georg_animal_feces/data/metagenome/multi-study/BioProjects/PRJNA336354/LLMGQC/\n",
      "\n",
      "# read file path\n",
      "# use \"None\" if full file path is included in the samples_file\n",
      "read_file_path: None\n",
      "\n",
      "#-- Software parameters --#\n",
      "# Use \"Skip\" to skip any of these steps. If no params for rule, use \"\"\n",
      "# `clumpify`: change dupedist if not HiSeq3000/4000 (dupedist=40 for NextSeq, HiSeq2500, and MiSeq)\n",
      "params:\n",
      "  # read download\n",
      "  remote: just_single=False      # If True, just download read1 (if remote file)\n",
      "  # validation, conversion, subsampling\n",
      "  validate_reads: \"\"\n",
      "  convert_fastq_to_1.8: \"\"\n",
      "  seqtk_sample: Skip    # Use number to subsample reads (eg., 1000000)\n",
      "  fastqc_on_raw: \"\"\n",
      "  # de-duplication\n",
      "  clumpify: Skip #dedupe=t dupedist=2500 optical=t    # this will likely fail for remote (SRA) samples\n",
      "  fastqc_on_dedup: \"\"\n",
      "  # adapter removal & quality trimming/filtering\n",
      "  bbduk: ref=./adapters/bbmap_adapters.fa fastawrap=300 k=23\n",
      "  skewer: -x ./adapters/PE_all.fa -n -l 90 -q 25\n",
      "  fastqc_on_qual: \"\"\n",
      "  # removal of 'contaminant' reads\n",
      "  bbmap: minratio=0.9 maxindel=1 bwr=0.16 bw=12 fast minhits=2 qtrim=r trimq=10 untrim idtag printunmappedcount kfilter=25 maxsites=1 k=14 pairlen=1000 rescuedist=1000\n",
      "  ikraken2: /ebio/abt3_projects/databases_no-backup/kraken2/human_db/,/ebio/abt3_projects/databases_no-backup/kraken2/UniVec_Core_db/,/ebio/abt3_projects/databases_no-backup/kraken2/vertebrata_nt_db/,/ebio/abt3_projects/databases_no-backup/kraken2/protozoa_db/,/ebio/abt3_projects/databases_no-backup/kraken2/fungi_db/ --confidence 0.7\n",
      "  fastqc_on_filter: \"\"\n",
      "  # post-QC reads\n",
      "  fastqc_on_final: \"\"\n",
      "  # taxonomy\n",
      "  centrifuge: Skip\n",
      "  krona: Skip\n",
      "  # coverage\n",
      "  nonpareil: -T kmer\n",
      "  nonpareil_summary: 1e9   # this is target seq. depth\n",
      "  # master \"Skip\": reads combined then called \"final\" reads (skips all QC steps)\n",
      "  skip_all_QC: False\n",
      "\n",
      "#-- Databases --#\n",
      "## hg19 = human genome database for filtering out human reads\n",
      "filter_db: /ebio/abt3_projects/databases_no-backup/hg19/hg19\n",
      "# centrifuge db\n",
      "centrifuge_db: /ebio/abt3_projects/databases_no-backup/centrifuge/p+h+v\n",
      "# krona taxonomy db\n",
      "krona_tax_db: /ebio/abt3_projects/databases_no-backup/krona/taxonomy\n",
      "# kraken2 (see 'ikraken2' parameters)\n",
      "\n",
      "#-- Snakemake pipeline --#\n",
      "## To use /tmp/global2/, see http://ilm.eb.local/user-guide/#Scratch-space-on-_002ftmp_002fglobal2\n",
      "pipeline:\n",
      "  snakemake_folder: ./\n",
      "  script_folder: ./bin/scripts/\n",
      "  temp_folder: /tmp/global/    # your username will be added automatically to this path\n",
      "  run_skip_locally: True        # trivial \"skip\" steps run locally (not qsub)"
     ]
    }
   ],
   "source": [
    "cat_file(file.path(outdir, 'config.yaml'))"
   ]
  },
  {
   "cell_type": "markdown",
   "metadata": {},
   "source": [
    "### Run"
   ]
  },
  {
   "cell_type": "markdown",
   "metadata": {},
   "source": [
    "```\n",
    "(snakemake_dev) @ rick:/ebio/abt3_projects/methanogen_host_evo/bin/llmgqc\n",
    "$ screen -L -S llmgp-PRJNA336354 ./snakemake_sge.sh /ebio/abt3_projects/Georg_animal_feces/data/metagenome/multi-study/BioProjects/PRJNA336354/LLMGQC/config.yaml cluster.json /ebio/abt3_projects/Georg_animal_feces/data/metagenome/multi-study/BioProjects/PRJNA336354/LLMGQC/SGE_log/ 20\n",
    "```"
   ]
  },
  {
   "cell_type": "markdown",
   "metadata": {},
   "source": [
    "### Summary"
   ]
  },
  {
   "cell_type": "code",
   "execution_count": 98,
   "metadata": {
    "ExecuteTime": {
     "end_time": "2019-08-06T14:04:08.258458Z",
     "start_time": "2019-08-06T14:04:08.229Z"
    }
   },
   "outputs": [],
   "source": [
    "projectID = 'PRJNA336354'"
   ]
  },
  {
   "cell_type": "code",
   "execution_count": 99,
   "metadata": {
    "ExecuteTime": {
     "end_time": "2019-08-06T14:04:18.501675Z",
     "start_time": "2019-08-06T14:04:18.414Z"
    }
   },
   "outputs": [
    {
     "name": "stdout",
     "output_type": "stream",
     "text": [
      "[1] 30 21\n"
     ]
    },
    {
     "data": {
      "text/html": [
       "<table>\n",
       "<thead><tr><th scope=col>Sample</th><th scope=col>Filename</th><th scope=col>File.type</th><th scope=col>Encoding</th><th scope=col>Total.Sequences</th><th scope=col>Sequences.flagged.as.poor.quality</th><th scope=col>Sequence.length</th><th scope=col>X.GC</th><th scope=col>total_deduplicated_percentage</th><th scope=col>avg_sequence_length</th><th scope=col>⋯</th><th scope=col>per_base_sequence_quality</th><th scope=col>per_sequence_quality_scores</th><th scope=col>per_base_sequence_content</th><th scope=col>per_sequence_gc_content</th><th scope=col>per_base_n_content</th><th scope=col>sequence_length_distribution</th><th scope=col>sequence_duplication_levels</th><th scope=col>overrepresented_sequences</th><th scope=col>adapter_content</th><th scope=col>per_tile_sequence_quality</th></tr></thead>\n",
       "<tbody>\n",
       "\t<tr><td>C._urophasianus_2_cecum | fastqc_per_sample | R1_final</td><td>R1_final.fq.gz                                        </td><td>Conventional base calls                               </td><td>Sanger / Illumina 1.9                                 </td><td>3782779                                               </td><td>0                                                     </td><td>90-101                                                </td><td>46                                                    </td><td>97.51923                                              </td><td>100.5174                                              </td><td>⋯                                                     </td><td>pass                                                  </td><td>pass                                                  </td><td>warn                                                  </td><td>fail                                                  </td><td>pass                                                  </td><td>warn                                                  </td><td>pass                                                  </td><td>pass                                                  </td><td>pass                                                  </td><td>                                                      </td></tr>\n",
       "\t<tr><td>C._urophasianus_2_cecum | fastqc_per_sample | R2_final</td><td>R2_final.fq.gz                                        </td><td>Conventional base calls                               </td><td>Sanger / Illumina 1.9                                 </td><td>3782779                                               </td><td>0                                                     </td><td>90-101                                                </td><td>47                                                    </td><td>97.33972                                              </td><td>100.7532                                              </td><td>⋯                                                     </td><td>pass                                                  </td><td>pass                                                  </td><td>warn                                                  </td><td>fail                                                  </td><td>pass                                                  </td><td>warn                                                  </td><td>pass                                                  </td><td>pass                                                  </td><td>pass                                                  </td><td>                                                      </td></tr>\n",
       "\t<tr><td>C._urophasianus_3_cecum | fastqc_per_sample | R1_final</td><td>R1_final.fq.gz                                        </td><td>Conventional base calls                               </td><td>Sanger / Illumina 1.9                                 </td><td>1179255                                               </td><td>0                                                     </td><td>90-101                                                </td><td>42                                                    </td><td>98.05388                                              </td><td>100.5258                                              </td><td>⋯                                                     </td><td>pass                                                  </td><td>pass                                                  </td><td>warn                                                  </td><td>fail                                                  </td><td>pass                                                  </td><td>warn                                                  </td><td>pass                                                  </td><td>pass                                                  </td><td>pass                                                  </td><td>                                                      </td></tr>\n",
       "</tbody>\n",
       "</table>\n"
      ],
      "text/latex": [
       "\\begin{tabular}{r|lllllllllllllllllllll}\n",
       " Sample & Filename & File.type & Encoding & Total.Sequences & Sequences.flagged.as.poor.quality & Sequence.length & X.GC & total\\_deduplicated\\_percentage & avg\\_sequence\\_length & ⋯ & per\\_base\\_sequence\\_quality & per\\_sequence\\_quality\\_scores & per\\_base\\_sequence\\_content & per\\_sequence\\_gc\\_content & per\\_base\\_n\\_content & sequence\\_length\\_distribution & sequence\\_duplication\\_levels & overrepresented\\_sequences & adapter\\_content & per\\_tile\\_sequence\\_quality\\\\\n",
       "\\hline\n",
       "\t C.\\_urophasianus\\_2\\_cecum \\textbar{} fastqc\\_per\\_sample \\textbar{} R1\\_final & R1\\_final.fq.gz                                                                       & Conventional base calls                                                                & Sanger / Illumina 1.9                                                                  & 3782779                                                                                & 0                                                                                      & 90-101                                                                                 & 46                                                                                     & 97.51923                                                                               & 100.5174                                                                               & ⋯                                                                                      & pass                                                                                   & pass                                                                                   & warn                                                                                   & fail                                                                                   & pass                                                                                   & warn                                                                                   & pass                                                                                   & pass                                                                                   & pass                                                                                   &                                                                                       \\\\\n",
       "\t C.\\_urophasianus\\_2\\_cecum \\textbar{} fastqc\\_per\\_sample \\textbar{} R2\\_final & R2\\_final.fq.gz                                                                       & Conventional base calls                                                                & Sanger / Illumina 1.9                                                                  & 3782779                                                                                & 0                                                                                      & 90-101                                                                                 & 47                                                                                     & 97.33972                                                                               & 100.7532                                                                               & ⋯                                                                                      & pass                                                                                   & pass                                                                                   & warn                                                                                   & fail                                                                                   & pass                                                                                   & warn                                                                                   & pass                                                                                   & pass                                                                                   & pass                                                                                   &                                                                                       \\\\\n",
       "\t C.\\_urophasianus\\_3\\_cecum \\textbar{} fastqc\\_per\\_sample \\textbar{} R1\\_final & R1\\_final.fq.gz                                                                       & Conventional base calls                                                                & Sanger / Illumina 1.9                                                                  & 1179255                                                                                & 0                                                                                      & 90-101                                                                                 & 42                                                                                     & 98.05388                                                                               & 100.5258                                                                               & ⋯                                                                                      & pass                                                                                   & pass                                                                                   & warn                                                                                   & fail                                                                                   & pass                                                                                   & warn                                                                                   & pass                                                                                   & pass                                                                                   & pass                                                                                   &                                                                                       \\\\\n",
       "\\end{tabular}\n"
      ],
      "text/markdown": [
       "\n",
       "Sample | Filename | File.type | Encoding | Total.Sequences | Sequences.flagged.as.poor.quality | Sequence.length | X.GC | total_deduplicated_percentage | avg_sequence_length | ⋯ | per_base_sequence_quality | per_sequence_quality_scores | per_base_sequence_content | per_sequence_gc_content | per_base_n_content | sequence_length_distribution | sequence_duplication_levels | overrepresented_sequences | adapter_content | per_tile_sequence_quality | \n",
       "|---|---|---|\n",
       "| C._urophasianus_2_cecum | fastqc_per_sample | R1_final | R1_final.fq.gz                                         | Conventional base calls                                | Sanger / Illumina 1.9                                  | 3782779                                                | 0                                                      | 90-101                                                 | 46                                                     | 97.51923                                               | 100.5174                                               | ⋯                                                      | pass                                                   | pass                                                   | warn                                                   | fail                                                   | pass                                                   | warn                                                   | pass                                                   | pass                                                   | pass                                                   |                                                        | \n",
       "| C._urophasianus_2_cecum | fastqc_per_sample | R2_final | R2_final.fq.gz                                         | Conventional base calls                                | Sanger / Illumina 1.9                                  | 3782779                                                | 0                                                      | 90-101                                                 | 47                                                     | 97.33972                                               | 100.7532                                               | ⋯                                                      | pass                                                   | pass                                                   | warn                                                   | fail                                                   | pass                                                   | warn                                                   | pass                                                   | pass                                                   | pass                                                   |                                                        | \n",
       "| C._urophasianus_3_cecum | fastqc_per_sample | R1_final | R1_final.fq.gz                                         | Conventional base calls                                | Sanger / Illumina 1.9                                  | 1179255                                                | 0                                                      | 90-101                                                 | 42                                                     | 98.05388                                               | 100.5258                                               | ⋯                                                      | pass                                                   | pass                                                   | warn                                                   | fail                                                   | pass                                                   | warn                                                   | pass                                                   | pass                                                   | pass                                                   |                                                        | \n",
       "\n",
       "\n"
      ],
      "text/plain": [
       "  Sample                                                 Filename      \n",
       "1 C._urophasianus_2_cecum | fastqc_per_sample | R1_final R1_final.fq.gz\n",
       "2 C._urophasianus_2_cecum | fastqc_per_sample | R2_final R2_final.fq.gz\n",
       "3 C._urophasianus_3_cecum | fastqc_per_sample | R1_final R1_final.fq.gz\n",
       "  File.type               Encoding              Total.Sequences\n",
       "1 Conventional base calls Sanger / Illumina 1.9 3782779        \n",
       "2 Conventional base calls Sanger / Illumina 1.9 3782779        \n",
       "3 Conventional base calls Sanger / Illumina 1.9 1179255        \n",
       "  Sequences.flagged.as.poor.quality Sequence.length X.GC\n",
       "1 0                                 90-101          46  \n",
       "2 0                                 90-101          47  \n",
       "3 0                                 90-101          42  \n",
       "  total_deduplicated_percentage avg_sequence_length ⋯ per_base_sequence_quality\n",
       "1 97.51923                      100.5174            ⋯ pass                     \n",
       "2 97.33972                      100.7532            ⋯ pass                     \n",
       "3 98.05388                      100.5258            ⋯ pass                     \n",
       "  per_sequence_quality_scores per_base_sequence_content per_sequence_gc_content\n",
       "1 pass                        warn                      fail                   \n",
       "2 pass                        warn                      fail                   \n",
       "3 pass                        warn                      fail                   \n",
       "  per_base_n_content sequence_length_distribution sequence_duplication_levels\n",
       "1 pass               warn                         pass                       \n",
       "2 pass               warn                         pass                       \n",
       "3 pass               warn                         pass                       \n",
       "  overrepresented_sequences adapter_content per_tile_sequence_quality\n",
       "1 pass                      pass                                     \n",
       "2 pass                      pass                                     \n",
       "3 pass                      pass                                     "
      ]
     },
     "metadata": {},
     "output_type": "display_data"
    }
   ],
   "source": [
    "F = file.path(work_dir, projectID, 'LLMGQC', 'reports', 'multiqc-final', 'multiqc_data', 'multiqc_fastqc.txt')\n",
    "fastqc = read.delim(F, sep='\\t')\n",
    "fastqc %>% dfhead"
   ]
  },
  {
   "cell_type": "code",
   "execution_count": 100,
   "metadata": {
    "ExecuteTime": {
     "end_time": "2019-08-06T14:04:46.446918Z",
     "start_time": "2019-08-06T14:04:46.403Z"
    }
   },
   "outputs": [
    {
     "data": {
      "text/plain": [
       " Total.Sequences   avg_sequence_length\n",
       " Min.   :1129979   Min.   :100.5      \n",
       " 1st Qu.:2120016   1st Qu.:100.5      \n",
       " Median :3706963   Median :100.5      \n",
       " Mean   :3731855   Mean   :100.5      \n",
       " 3rd Qu.:5021424   3rd Qu.:100.6      \n",
       " Max.   :6942214   Max.   :100.7      "
      ]
     },
     "metadata": {},
     "output_type": "display_data"
    }
   ],
   "source": [
    "fastqc %>% \n",
    "    filter(Filename == 'R1_final.fq.gz') %>%\n",
    "    dplyr::select(Total.Sequences, avg_sequence_length) %>% \n",
    "    summary"
   ]
  },
  {
   "cell_type": "markdown",
   "metadata": {},
   "source": [
    "## PRJNA353155\n",
    "\n",
    "* host = carp\n",
    "* n = 1\n",
    "* avg. read length = 150"
   ]
  },
  {
   "cell_type": "markdown",
   "metadata": {},
   "source": [
    "### SKIPPING"
   ]
  },
  {
   "cell_type": "markdown",
   "metadata": {},
   "source": [
    "## PRJNA381379\n",
    "\n",
    "* host = Kakapo\n",
    "* n = 6 (3 adults & 3 chicks)\n",
    "* avg. read length = 300\n",
    "* seq. tech. = MiSeq"
   ]
  },
  {
   "cell_type": "code",
   "execution_count": 101,
   "metadata": {
    "ExecuteTime": {
     "end_time": "2019-08-06T18:23:47.792310Z",
     "start_time": "2019-08-06T18:23:47.746Z"
    }
   },
   "outputs": [],
   "source": [
    "projectID = 'PRJNA381379'"
   ]
  },
  {
   "cell_type": "code",
   "execution_count": 102,
   "metadata": {
    "ExecuteTime": {
     "end_time": "2019-08-06T18:24:00.809827Z",
     "start_time": "2019-08-06T18:24:00.736Z"
    }
   },
   "outputs": [
    {
     "name": "stdout",
     "output_type": "stream",
     "text": [
      "Directory already exists: /ebio/abt3_projects/Georg_animal_feces/data/metagenome/multi-study/BioProjects//PRJNA381379/LLMGQC \n"
     ]
    }
   ],
   "source": [
    "outdir = file.path(work_dir, projectID, 'LLMGQC')\n",
    "make_dir(outdir)"
   ]
  },
  {
   "cell_type": "code",
   "execution_count": 104,
   "metadata": {
    "ExecuteTime": {
     "end_time": "2019-08-06T18:26:21.062625Z",
     "start_time": "2019-08-06T18:26:21.010Z"
    }
   },
   "outputs": [
    {
     "name": "stdout",
     "output_type": "stream",
     "text": [
      "#-- I/O --#\n",
      "# table with sample --> read_file information\n",
      "samples_file: /ebio/abt3_projects/Georg_animal_feces/data/metagenome/multi-study/BioProjects/PRJNA381379/samples.txt\n",
      "\n",
      "# output location\n",
      "output_dir: /ebio/abt3_projects/Georg_animal_feces/data/metagenome/multi-study/BioProjects/PRJNA381379/LLMGQC/\n",
      "\n",
      "# read file path\n",
      "# use \"None\" if full file path is included in the samples_file\n",
      "read_file_path: None\n",
      "\n",
      "#-- Software parameters --#\n",
      "# Use \"Skip\" to skip any of these steps. If no params for rule, use \"\"\n",
      "# `clumpify`: change dupedist if not HiSeq3000/4000 (dupedist=40 for NextSeq, HiSeq2500, and MiSeq)\n",
      "params:\n",
      "  # read download\n",
      "  remote: just_single=False      # If True, just download read1 (if remote file)\n",
      "  # validation, conversion, subsampling\n",
      "  validate_reads: \"\"\n",
      "  convert_fastq_to_1.8: \"\"\n",
      "  seqtk_sample: Skip    # Use number to subsample reads (eg., 1000000)\n",
      "  fastqc_on_raw: \"\"\n",
      "  # de-duplication\n",
      "  clumpify: Skip #dedupe=t dupedist=2500 optical=t    # this will likely fail for remote (SRA) samples\n",
      "  fastqc_on_dedup: \"\"\n",
      "  # adapter removal & quality trimming/filtering\n",
      "  bbduk: ref=./adapters/bbmap_adapters.fa fastawrap=300 k=23\n",
      "  skewer: -x ./adapters/PE_all.fa -n -l 90 -q 25\n",
      "  fastqc_on_qual: \"\"\n",
      "  # removal of 'contaminant' reads\n",
      "  bbmap: minratio=0.9 maxindel=1 bwr=0.16 bw=12 fast minhits=2 qtrim=r trimq=10 untrim idtag printunmappedcount kfilter=25 maxsites=1 k=14 pairlen=1000 rescuedist=1000\n",
      "  ikraken2: /ebio/abt3_projects/databases_no-backup/kraken2/human_db/,/ebio/abt3_projects/databases_no-backup/kraken2/UniVec_Core_db/,/ebio/abt3_projects/databases_no-backup/kraken2/vertebrata_nt_db/,/ebio/abt3_projects/databases_no-backup/kraken2/protozoa_db/,/ebio/abt3_projects/databases_no-backup/kraken2/fungi_db/ --confidence 0.7\n",
      "  fastqc_on_filter: \"\"\n",
      "  # post-QC reads\n",
      "  fastqc_on_final: \"\"\n",
      "  # taxonomy\n",
      "  centrifuge: Skip\n",
      "  krona: Skip\n",
      "  # coverage\n",
      "  nonpareil: -T kmer\n",
      "  nonpareil_summary: 1e9   # this is target seq. depth\n",
      "  # master \"Skip\": reads combined then called \"final\" reads (skips all QC steps)\n",
      "  skip_all_QC: False\n",
      "\n",
      "#-- Databases --#\n",
      "## hg19 = human genome database for filtering out human reads\n",
      "filter_db: /ebio/abt3_projects/databases_no-backup/hg19/hg19\n",
      "# centrifuge db\n",
      "centrifuge_db: /ebio/abt3_projects/databases_no-backup/centrifuge/p+h+v\n",
      "# krona taxonomy db\n",
      "krona_tax_db: /ebio/abt3_projects/databases_no-backup/krona/taxonomy\n",
      "# kraken2 (see 'ikraken2' parameters)\n",
      "\n",
      "#-- Snakemake pipeline --#\n",
      "## To use /tmp/global2/, see http://ilm.eb.local/user-guide/#Scratch-space-on-_002ftmp_002fglobal2\n",
      "pipeline:\n",
      "  snakemake_folder: ./\n",
      "  script_folder: ./bin/scripts/\n",
      "  temp_folder: /tmp/global/    # your username will be added automatically to this path\n",
      "  run_skip_locally: True        # trivial \"skip\" steps run locally (not qsub)"
     ]
    }
   ],
   "source": [
    "cat_file(file.path(outdir, 'config.yaml'))"
   ]
  },
  {
   "cell_type": "markdown",
   "metadata": {},
   "source": [
    "### Run"
   ]
  },
  {
   "cell_type": "markdown",
   "metadata": {},
   "source": [
    "```\n",
    "(snakemake_dev) @ rick:/ebio/abt3_projects/methanogen_host_evo/bin/llmgqc\n",
    "$ screen -L -S llmgqc-PRJNA381379 ./snakemake_sge.sh /ebio/abt3_projects/Georg_animal_feces/data/metagenome/multi-study/BioProjects/PRJNA381379/LLMGQC/config.yaml cluster.json /ebio/abt3_projects/Georg_animal_feces/data/metagenome/multi-study/BioProjects/PRJNA381379/LLMGQC/SGE_log/ 20\n",
    "```"
   ]
  },
  {
   "cell_type": "markdown",
   "metadata": {},
   "source": [
    "### Summary"
   ]
  },
  {
   "cell_type": "code",
   "execution_count": 110,
   "metadata": {
    "ExecuteTime": {
     "end_time": "2019-08-08T06:42:06.340191Z",
     "start_time": "2019-08-08T06:42:06.308Z"
    }
   },
   "outputs": [],
   "source": [
    "projectID = 'PRJNA381379'"
   ]
  },
  {
   "cell_type": "code",
   "execution_count": 111,
   "metadata": {
    "ExecuteTime": {
     "end_time": "2019-08-08T06:42:06.705792Z",
     "start_time": "2019-08-08T06:42:06.632Z"
    }
   },
   "outputs": [
    {
     "name": "stdout",
     "output_type": "stream",
     "text": [
      "[1] 12 20\n"
     ]
    },
    {
     "data": {
      "text/html": [
       "<table>\n",
       "<thead><tr><th scope=col>Sample</th><th scope=col>Filename</th><th scope=col>File.type</th><th scope=col>Encoding</th><th scope=col>Total.Sequences</th><th scope=col>Sequences.flagged.as.poor.quality</th><th scope=col>Sequence.length</th><th scope=col>X.GC</th><th scope=col>total_deduplicated_percentage</th><th scope=col>avg_sequence_length</th><th scope=col>basic_statistics</th><th scope=col>per_base_sequence_quality</th><th scope=col>per_sequence_quality_scores</th><th scope=col>per_base_sequence_content</th><th scope=col>per_sequence_gc_content</th><th scope=col>per_base_n_content</th><th scope=col>sequence_length_distribution</th><th scope=col>sequence_duplication_levels</th><th scope=col>overrepresented_sequences</th><th scope=col>adapter_content</th></tr></thead>\n",
       "<tbody>\n",
       "\t<tr><td>Adult_1 | fastqc_per_sample | R1_final</td><td>R1_final.fq.gz                        </td><td>Conventional base calls               </td><td>Sanger / Illumina 1.9                 </td><td>2477917                               </td><td>0                                     </td><td>90-251                                </td><td>50                                    </td><td>70.90194                              </td><td>165.1839                              </td><td>pass                                  </td><td>pass                                  </td><td>pass                                  </td><td>fail                                  </td><td>warn                                  </td><td>pass                                  </td><td>warn                                  </td><td>pass                                  </td><td>pass                                  </td><td>pass                                  </td></tr>\n",
       "\t<tr><td>Adult_1 | fastqc_per_sample | R2_final</td><td>R2_final.fq.gz                        </td><td>Conventional base calls               </td><td>Sanger / Illumina 1.9                 </td><td>2477917                               </td><td>0                                     </td><td>90-251                                </td><td>51                                    </td><td>76.26464                              </td><td>164.5711                              </td><td>pass                                  </td><td>warn                                  </td><td>pass                                  </td><td>fail                                  </td><td>warn                                  </td><td>pass                                  </td><td>warn                                  </td><td>pass                                  </td><td>pass                                  </td><td>pass                                  </td></tr>\n",
       "\t<tr><td>Adult_2 | fastqc_per_sample | R1_final</td><td>R1_final.fq.gz                        </td><td>Conventional base calls               </td><td>Sanger / Illumina 1.9                 </td><td>2475317                               </td><td>0                                     </td><td>90-251                                </td><td>52                                    </td><td>71.13014                              </td><td>173.3867                              </td><td>pass                                  </td><td>pass                                  </td><td>pass                                  </td><td>fail                                  </td><td>warn                                  </td><td>pass                                  </td><td>warn                                  </td><td>pass                                  </td><td>pass                                  </td><td>pass                                  </td></tr>\n",
       "</tbody>\n",
       "</table>\n"
      ],
      "text/latex": [
       "\\begin{tabular}{r|llllllllllllllllllll}\n",
       " Sample & Filename & File.type & Encoding & Total.Sequences & Sequences.flagged.as.poor.quality & Sequence.length & X.GC & total\\_deduplicated\\_percentage & avg\\_sequence\\_length & basic\\_statistics & per\\_base\\_sequence\\_quality & per\\_sequence\\_quality\\_scores & per\\_base\\_sequence\\_content & per\\_sequence\\_gc\\_content & per\\_base\\_n\\_content & sequence\\_length\\_distribution & sequence\\_duplication\\_levels & overrepresented\\_sequences & adapter\\_content\\\\\n",
       "\\hline\n",
       "\t Adult\\_1 \\textbar{} fastqc\\_per\\_sample \\textbar{} R1\\_final & R1\\_final.fq.gz                                                   & Conventional base calls                                            & Sanger / Illumina 1.9                                              & 2477917                                                            & 0                                                                  & 90-251                                                             & 50                                                                 & 70.90194                                                           & 165.1839                                                           & pass                                                               & pass                                                               & pass                                                               & fail                                                               & warn                                                               & pass                                                               & warn                                                               & pass                                                               & pass                                                               & pass                                                              \\\\\n",
       "\t Adult\\_1 \\textbar{} fastqc\\_per\\_sample \\textbar{} R2\\_final & R2\\_final.fq.gz                                                   & Conventional base calls                                            & Sanger / Illumina 1.9                                              & 2477917                                                            & 0                                                                  & 90-251                                                             & 51                                                                 & 76.26464                                                           & 164.5711                                                           & pass                                                               & warn                                                               & pass                                                               & fail                                                               & warn                                                               & pass                                                               & warn                                                               & pass                                                               & pass                                                               & pass                                                              \\\\\n",
       "\t Adult\\_2 \\textbar{} fastqc\\_per\\_sample \\textbar{} R1\\_final & R1\\_final.fq.gz                                                   & Conventional base calls                                            & Sanger / Illumina 1.9                                              & 2475317                                                            & 0                                                                  & 90-251                                                             & 52                                                                 & 71.13014                                                           & 173.3867                                                           & pass                                                               & pass                                                               & pass                                                               & fail                                                               & warn                                                               & pass                                                               & warn                                                               & pass                                                               & pass                                                               & pass                                                              \\\\\n",
       "\\end{tabular}\n"
      ],
      "text/markdown": [
       "\n",
       "Sample | Filename | File.type | Encoding | Total.Sequences | Sequences.flagged.as.poor.quality | Sequence.length | X.GC | total_deduplicated_percentage | avg_sequence_length | basic_statistics | per_base_sequence_quality | per_sequence_quality_scores | per_base_sequence_content | per_sequence_gc_content | per_base_n_content | sequence_length_distribution | sequence_duplication_levels | overrepresented_sequences | adapter_content | \n",
       "|---|---|---|\n",
       "| Adult_1 | fastqc_per_sample | R1_final | R1_final.fq.gz                         | Conventional base calls                | Sanger / Illumina 1.9                  | 2477917                                | 0                                      | 90-251                                 | 50                                     | 70.90194                               | 165.1839                               | pass                                   | pass                                   | pass                                   | fail                                   | warn                                   | pass                                   | warn                                   | pass                                   | pass                                   | pass                                   | \n",
       "| Adult_1 | fastqc_per_sample | R2_final | R2_final.fq.gz                         | Conventional base calls                | Sanger / Illumina 1.9                  | 2477917                                | 0                                      | 90-251                                 | 51                                     | 76.26464                               | 164.5711                               | pass                                   | warn                                   | pass                                   | fail                                   | warn                                   | pass                                   | warn                                   | pass                                   | pass                                   | pass                                   | \n",
       "| Adult_2 | fastqc_per_sample | R1_final | R1_final.fq.gz                         | Conventional base calls                | Sanger / Illumina 1.9                  | 2475317                                | 0                                      | 90-251                                 | 52                                     | 71.13014                               | 173.3867                               | pass                                   | pass                                   | pass                                   | fail                                   | warn                                   | pass                                   | warn                                   | pass                                   | pass                                   | pass                                   | \n",
       "\n",
       "\n"
      ],
      "text/plain": [
       "  Sample                                 Filename       File.type              \n",
       "1 Adult_1 | fastqc_per_sample | R1_final R1_final.fq.gz Conventional base calls\n",
       "2 Adult_1 | fastqc_per_sample | R2_final R2_final.fq.gz Conventional base calls\n",
       "3 Adult_2 | fastqc_per_sample | R1_final R1_final.fq.gz Conventional base calls\n",
       "  Encoding              Total.Sequences Sequences.flagged.as.poor.quality\n",
       "1 Sanger / Illumina 1.9 2477917         0                                \n",
       "2 Sanger / Illumina 1.9 2477917         0                                \n",
       "3 Sanger / Illumina 1.9 2475317         0                                \n",
       "  Sequence.length X.GC total_deduplicated_percentage avg_sequence_length\n",
       "1 90-251          50   70.90194                      165.1839           \n",
       "2 90-251          51   76.26464                      164.5711           \n",
       "3 90-251          52   71.13014                      173.3867           \n",
       "  basic_statistics per_base_sequence_quality per_sequence_quality_scores\n",
       "1 pass             pass                      pass                       \n",
       "2 pass             warn                      pass                       \n",
       "3 pass             pass                      pass                       \n",
       "  per_base_sequence_content per_sequence_gc_content per_base_n_content\n",
       "1 fail                      warn                    pass              \n",
       "2 fail                      warn                    pass              \n",
       "3 fail                      warn                    pass              \n",
       "  sequence_length_distribution sequence_duplication_levels\n",
       "1 warn                         pass                       \n",
       "2 warn                         pass                       \n",
       "3 warn                         pass                       \n",
       "  overrepresented_sequences adapter_content\n",
       "1 pass                      pass           \n",
       "2 pass                      pass           \n",
       "3 pass                      pass           "
      ]
     },
     "metadata": {},
     "output_type": "display_data"
    }
   ],
   "source": [
    "F = file.path(work_dir, projectID, 'LLMGQC', 'reports', 'multiqc-final', 'multiqc_data', 'multiqc_fastqc.txt')\n",
    "fastqc = read.delim(F, sep='\\t')\n",
    "fastqc %>% dfhead"
   ]
  },
  {
   "cell_type": "code",
   "execution_count": 112,
   "metadata": {
    "ExecuteTime": {
     "end_time": "2019-08-08T06:42:07.424156Z",
     "start_time": "2019-08-08T06:42:07.378Z"
    }
   },
   "outputs": [
    {
     "data": {
      "text/plain": [
       " Total.Sequences   avg_sequence_length\n",
       " Min.   :1906620   Min.   :165.2      \n",
       " 1st Qu.:2357625   1st Qu.:167.7      \n",
       " Median :2476617   Median :171.4      \n",
       " Mean   :2503786   Mean   :176.6      \n",
       " 3rd Qu.:2563651   3rd Qu.:187.3      \n",
       " Max.   :3252238   Max.   :192.7      "
      ]
     },
     "metadata": {},
     "output_type": "display_data"
    }
   ],
   "source": [
    "fastqc %>% \n",
    "    filter(Filename == 'R1_final.fq.gz') %>%\n",
    "    dplyr::select(Total.Sequences, avg_sequence_length) %>% \n",
    "    summary"
   ]
  },
  {
   "cell_type": "markdown",
   "metadata": {},
   "source": [
    "## PRJNA390686\n",
    "\n",
    "* host = Mouse\n",
    "* n = 39\n",
    "* avg. read length = 150"
   ]
  },
  {
   "cell_type": "code",
   "execution_count": 5,
   "metadata": {
    "ExecuteTime": {
     "end_time": "2019-08-26T13:01:56.070618Z",
     "start_time": "2019-08-26T13:01:56.029Z"
    }
   },
   "outputs": [],
   "source": [
    "projectID = 'PRJNA390686'"
   ]
  },
  {
   "cell_type": "code",
   "execution_count": 6,
   "metadata": {
    "ExecuteTime": {
     "end_time": "2019-08-26T13:01:56.744471Z",
     "start_time": "2019-08-26T13:01:56.621Z"
    }
   },
   "outputs": [
    {
     "name": "stdout",
     "output_type": "stream",
     "text": [
      "Created directory: /ebio/abt3_projects/Georg_animal_feces/data/metagenome/multi-study/BioProjects//PRJNA390686/LLMGQC \n"
     ]
    }
   ],
   "source": [
    "outdir = file.path(work_dir, projectID, 'LLMGQC')\n",
    "make_dir(outdir)"
   ]
  },
  {
   "cell_type": "code",
   "execution_count": 8,
   "metadata": {
    "ExecuteTime": {
     "end_time": "2019-08-26T13:04:53.927075Z",
     "start_time": "2019-08-26T13:04:53.878Z"
    }
   },
   "outputs": [
    {
     "name": "stdout",
     "output_type": "stream",
     "text": [
      "#-- I/O --#\n",
      "# table with sample --> read_file information\n",
      "samples_file: /ebio/abt3_projects/Georg_animal_feces/data/metagenome/multi-study/BioProjects/PRJNA390686/samples.txt\n",
      "\n",
      "# output location\n",
      "output_dir: /ebio/abt3_projects/Georg_animal_feces/data/metagenome/multi-study/BioProjects/PRJNA390686/LLMGQC/\n",
      "\n",
      "# read file path\n",
      "# use \"None\" if full file path is included in the samples_file\n",
      "read_file_path: None\n",
      "\n",
      "#-- Software parameters --#\n",
      "# Use \"Skip\" to skip any of these steps. If no params for rule, use \"\"\n",
      "# `clumpify`: change dupedist if not HiSeq3000/4000 (dupedist=40 for NextSeq, HiSeq2500, and MiSeq)\n",
      "params:\n",
      "  # read download\n",
      "  remote: just_single=False      # If True, just download read1 (if remote file)\n",
      "  # validation, conversion, subsampling\n",
      "  validate_reads: \"\"\n",
      "  convert_fastq_to_1.8: \"\"\n",
      "  seqtk_sample: Skip    # Use number to subsample reads (eg., 1000000)\n",
      "  fastqc_on_raw: \"\"\n",
      "  # de-duplication\n",
      "  clumpify: Skip #dedupe=t dupedist=2500 optical=t    # this will likely fail for remote (SRA) samples\n",
      "  fastqc_on_dedup: \"\"\n",
      "  # adapter removal & quality trimming/filtering\n",
      "  bbduk: ref=./adapters/bbmap_adapters.fa fastawrap=300 k=23\n",
      "  skewer: -x ./adapters/PE_all.fa -n -l 90 -q 25\n",
      "  fastqc_on_qual: \"\"\n",
      "  # removal of 'contaminant' reads\n",
      "  bbmap: minratio=0.9 maxindel=1 bwr=0.16 bw=12 fast minhits=2 qtrim=r trimq=10 untrim idtag printunmappedcount kfilter=25 maxsites=1 k=14 pairlen=1000 rescuedist=1000\n",
      "  ikraken2: /ebio/abt3_projects/databases_no-backup/kraken2/human_db/,/ebio/abt3_projects/databases_no-backup/kraken2/UniVec_Core_db/,/ebio/abt3_projects/databases_no-backup/kraken2/vertebrata_nt_db/,/ebio/abt3_projects/databases_no-backup/kraken2/protozoa_db/,/ebio/abt3_projects/databases_no-backup/kraken2/fungi_db/ --confidence 0.7\n",
      "  fastqc_on_filter: \"\"\n",
      "  # post-QC reads\n",
      "  fastqc_on_final: \"\"\n",
      "  # taxonomy\n",
      "  centrifuge: Skip\n",
      "  krona: Skip\n",
      "  # coverage\n",
      "  nonpareil: -T kmer\n",
      "  nonpareil_summary: 1e9   # this is target seq. depth\n",
      "  # master \"Skip\": reads combined then called \"final\" reads (skips all QC steps)\n",
      "  skip_all_QC: False\n",
      "\n",
      "#-- Databases --#\n",
      "## hg19 = human genome database for filtering out human reads\n",
      "filter_db: /ebio/abt3_projects/databases_no-backup/hg19/hg19\n",
      "# centrifuge db\n",
      "centrifuge_db: /ebio/abt3_projects/databases_no-backup/centrifuge/p+h+v\n",
      "# krona taxonomy db\n",
      "krona_tax_db: /ebio/abt3_projects/databases_no-backup/krona/taxonomy\n",
      "# kraken2 (see 'ikraken2' parameters)\n",
      "\n",
      "#-- Snakemake pipeline --#\n",
      "## To use /tmp/global2/, see http://ilm.eb.local/user-guide/#Scratch-space-on-_002ftmp_002fglobal2\n",
      "pipeline:\n",
      "  snakemake_folder: ./\n",
      "  script_folder: ./bin/scripts/\n",
      "  temp_folder: /tmp/global2/    # your username will be added automatically to this path\n",
      "  run_skip_locally: True        # trivial \"skip\" steps run locally (not qsub)"
     ]
    }
   ],
   "source": [
    "cat_file(file.path(outdir, 'config.yaml'))"
   ]
  },
  {
   "cell_type": "markdown",
   "metadata": {},
   "source": [
    "### Run"
   ]
  },
  {
   "cell_type": "markdown",
   "metadata": {},
   "source": [
    "```\n",
    "(snakemake_dev) @ rick:/ebio/abt3_projects/methanogen_host_evo/bin/llmgqc\n",
    "$ screen -L -S llmgqc-PRJNA390686 ./snakemake_sge.sh /ebio/abt3_projects/Georg_animal_feces/data/metagenome/multi-study/BioProjects/PRJNA390686/LLMGQC/config.yaml cluster.json /ebio/abt3_projects/Georg_animal_feces/data/metagenome/multi-study/BioProjects/PRJNA390686/LLMGQC/SGE_log/ 20\n",
    "```"
   ]
  },
  {
   "cell_type": "markdown",
   "metadata": {},
   "source": [
    "### Summary"
   ]
  },
  {
   "cell_type": "code",
   "execution_count": 66,
   "metadata": {
    "ExecuteTime": {
     "end_time": "2019-09-01T14:15:27.572651Z",
     "start_time": "2019-09-01T14:15:27.527Z"
    }
   },
   "outputs": [],
   "source": [
    "projectID = 'PRJNA390686'"
   ]
  },
  {
   "cell_type": "markdown",
   "metadata": {},
   "source": [
    "#### Notes\n",
    "\n",
    "* Samples failed to download; skipping this dataset"
   ]
  },
  {
   "cell_type": "markdown",
   "metadata": {},
   "source": [
    "## PRJNA417359\n",
    "\n",
    "* host = chicken\n",
    "* n = 465\n",
    "* avg. read length = 280"
   ]
  },
  {
   "cell_type": "code",
   "execution_count": 28,
   "metadata": {
    "ExecuteTime": {
     "end_time": "2019-08-26T18:39:58.735382Z",
     "start_time": "2019-08-26T18:39:58.695Z"
    }
   },
   "outputs": [],
   "source": [
    "projectID = 'PRJNA417359'"
   ]
  },
  {
   "cell_type": "code",
   "execution_count": 29,
   "metadata": {
    "ExecuteTime": {
     "end_time": "2019-08-26T18:39:58.916347Z",
     "start_time": "2019-08-26T18:39:58.873Z"
    }
   },
   "outputs": [
    {
     "name": "stdout",
     "output_type": "stream",
     "text": [
      "Directory already exists: /ebio/abt3_projects/Georg_animal_feces/data/metagenome/multi-study/BioProjects//PRJNA417359/LLMGQC \n"
     ]
    }
   ],
   "source": [
    "outdir = file.path(work_dir, projectID, 'LLMGQC')\n",
    "make_dir(outdir)"
   ]
  },
  {
   "cell_type": "markdown",
   "metadata": {},
   "source": [
    "### Subsample "
   ]
  },
  {
   "cell_type": "code",
   "execution_count": 35,
   "metadata": {
    "ExecuteTime": {
     "end_time": "2019-08-26T18:41:14.101994Z",
     "start_time": "2019-08-26T18:41:13.970Z"
    }
   },
   "outputs": [
    {
     "name": "stdout",
     "output_type": "stream",
     "text": [
      "[1] 465  41\n"
     ]
    },
    {
     "data": {
      "text/html": [
       "<table>\n",
       "<thead><tr><th scope=col>Sample</th><th scope=col>Run</th><th scope=col>Lane</th><th scope=col>Remote</th><th scope=col>spots</th><th scope=col>bases</th><th scope=col>avgLength</th><th scope=col>size_MB</th><th scope=col>BioProject</th><th scope=col>bioproject</th><th scope=col>⋯</th><th scope=col>Name</th><th scope=col>SRA_accession</th><th scope=col>Title</th><th scope=col>Animal</th><th scope=col>First_author</th><th scope=col>Year</th><th scope=col>DOI</th><th scope=col>Sequencer</th><th scope=col>Read_length</th><th scope=col>Comments</th></tr></thead>\n",
       "<tbody>\n",
       "\t<tr><td>CBJMR04201                                                                           </td><td>SRR8840694                                                                           </td><td>1                                                                                    </td><td>SRR8840694                                                                           </td><td> 9945201                                                                             </td><td>2672474479                                                                           </td><td>268                                                                                  </td><td>1170                                                                                 </td><td>PRJNA417359                                                                          </td><td>PRJNA417359                                                                          </td><td>⋯                                                                                    </td><td>Agricultural Genomics Institute at Shenzhen, Chinese Academy of Agricultural Sciences</td><td>NA                                                                                   </td><td>Metagenome or environmental sample from chicken gut metagenome                       </td><td>Chicken                                                                              </td><td>Huang                                                                                </td><td>2018                                                                                 </td><td>https://doi.org/10.1186/s40168-018-0590-5                                            </td><td>HiSeq2500, HiSeqX10                                                                  </td><td>NA                                                                                   </td><td>NA                                                                                   </td></tr>\n",
       "\t<tr><td>DGYFJ06201                                                                           </td><td>SRR6323428                                                                           </td><td>1                                                                                    </td><td>SRR6323428                                                                           </td><td>17489115                                                                             </td><td>4334964047                                                                           </td><td>247                                                                                  </td><td>1553                                                                                 </td><td>PRJNA417359                                                                          </td><td>PRJNA417359                                                                          </td><td>⋯                                                                                    </td><td>Agricultural Genomics Institute at Shenzhen, Chinese Academy of Agricultural Sciences</td><td>NA                                                                                   </td><td>Metagenome or environmental sample from chicken gut metagenome                       </td><td>Chicken                                                                              </td><td>Huang                                                                                </td><td>2018                                                                                 </td><td>https://doi.org/10.1186/s40168-018-0590-5                                            </td><td>HiSeq2500, HiSeqX10                                                                  </td><td>NA                                                                                   </td><td>NA                                                                                   </td></tr>\n",
       "\t<tr><td>DSTMI04001                                                                           </td><td>SRR6323432                                                                           </td><td>1                                                                                    </td><td>SRR6323432                                                                           </td><td>11041309                                                                             </td><td>2722146872                                                                           </td><td>246                                                                                  </td><td> 972                                                                                 </td><td>PRJNA417359                                                                          </td><td>PRJNA417359                                                                          </td><td>⋯                                                                                    </td><td>Agricultural Genomics Institute at Shenzhen, Chinese Academy of Agricultural Sciences</td><td>NA                                                                                   </td><td>Metagenome or environmental sample from chicken gut metagenome                       </td><td>Chicken                                                                              </td><td>Huang                                                                                </td><td>2018                                                                                 </td><td>https://doi.org/10.1186/s40168-018-0590-5                                            </td><td>HiSeq2500, HiSeqX10                                                                  </td><td>NA                                                                                   </td><td>NA                                                                                   </td></tr>\n",
       "</tbody>\n",
       "</table>\n"
      ],
      "text/latex": [
       "\\begin{tabular}{r|lllllllllllllllllllllllllllllllllllllllll}\n",
       " Sample & Run & Lane & Remote & spots & bases & avgLength & size\\_MB & BioProject & bioproject & ⋯ & Name & SRA\\_accession & Title & Animal & First\\_author & Year & DOI & Sequencer & Read\\_length & Comments\\\\\n",
       "\\hline\n",
       "\t CBJMR04201                                                                            & SRR8840694                                                                            & 1                                                                                     & SRR8840694                                                                            &  9945201                                                                              & 2672474479                                                                            & 268                                                                                   & 1170                                                                                  & PRJNA417359                                                                           & PRJNA417359                                                                           & ⋯                                                                                     & Agricultural Genomics Institute at Shenzhen, Chinese Academy of Agricultural Sciences & NA                                                                                    & Metagenome or environmental sample from chicken gut metagenome                        & Chicken                                                                               & Huang                                                                                 & 2018                                                                                  & https://doi.org/10.1186/s40168-018-0590-5                                             & HiSeq2500, HiSeqX10                                                                   & NA                                                                                    & NA                                                                                   \\\\\n",
       "\t DGYFJ06201                                                                            & SRR6323428                                                                            & 1                                                                                     & SRR6323428                                                                            & 17489115                                                                              & 4334964047                                                                            & 247                                                                                   & 1553                                                                                  & PRJNA417359                                                                           & PRJNA417359                                                                           & ⋯                                                                                     & Agricultural Genomics Institute at Shenzhen, Chinese Academy of Agricultural Sciences & NA                                                                                    & Metagenome or environmental sample from chicken gut metagenome                        & Chicken                                                                               & Huang                                                                                 & 2018                                                                                  & https://doi.org/10.1186/s40168-018-0590-5                                             & HiSeq2500, HiSeqX10                                                                   & NA                                                                                    & NA                                                                                   \\\\\n",
       "\t DSTMI04001                                                                            & SRR6323432                                                                            & 1                                                                                     & SRR6323432                                                                            & 11041309                                                                              & 2722146872                                                                            & 246                                                                                   &  972                                                                                  & PRJNA417359                                                                           & PRJNA417359                                                                           & ⋯                                                                                     & Agricultural Genomics Institute at Shenzhen, Chinese Academy of Agricultural Sciences & NA                                                                                    & Metagenome or environmental sample from chicken gut metagenome                        & Chicken                                                                               & Huang                                                                                 & 2018                                                                                  & https://doi.org/10.1186/s40168-018-0590-5                                             & HiSeq2500, HiSeqX10                                                                   & NA                                                                                    & NA                                                                                   \\\\\n",
       "\\end{tabular}\n"
      ],
      "text/markdown": [
       "\n",
       "Sample | Run | Lane | Remote | spots | bases | avgLength | size_MB | BioProject | bioproject | ⋯ | Name | SRA_accession | Title | Animal | First_author | Year | DOI | Sequencer | Read_length | Comments | \n",
       "|---|---|---|\n",
       "| CBJMR04201                                                                            | SRR8840694                                                                            | 1                                                                                     | SRR8840694                                                                            |  9945201                                                                              | 2672474479                                                                            | 268                                                                                   | 1170                                                                                  | PRJNA417359                                                                           | PRJNA417359                                                                           | ⋯                                                                                     | Agricultural Genomics Institute at Shenzhen, Chinese Academy of Agricultural Sciences | NA                                                                                    | Metagenome or environmental sample from chicken gut metagenome                        | Chicken                                                                               | Huang                                                                                 | 2018                                                                                  | https://doi.org/10.1186/s40168-018-0590-5                                             | HiSeq2500, HiSeqX10                                                                   | NA                                                                                    | NA                                                                                    | \n",
       "| DGYFJ06201                                                                            | SRR6323428                                                                            | 1                                                                                     | SRR6323428                                                                            | 17489115                                                                              | 4334964047                                                                            | 247                                                                                   | 1553                                                                                  | PRJNA417359                                                                           | PRJNA417359                                                                           | ⋯                                                                                     | Agricultural Genomics Institute at Shenzhen, Chinese Academy of Agricultural Sciences | NA                                                                                    | Metagenome or environmental sample from chicken gut metagenome                        | Chicken                                                                               | Huang                                                                                 | 2018                                                                                  | https://doi.org/10.1186/s40168-018-0590-5                                             | HiSeq2500, HiSeqX10                                                                   | NA                                                                                    | NA                                                                                    | \n",
       "| DSTMI04001                                                                            | SRR6323432                                                                            | 1                                                                                     | SRR6323432                                                                            | 11041309                                                                              | 2722146872                                                                            | 246                                                                                   |  972                                                                                  | PRJNA417359                                                                           | PRJNA417359                                                                           | ⋯                                                                                     | Agricultural Genomics Institute at Shenzhen, Chinese Academy of Agricultural Sciences | NA                                                                                    | Metagenome or environmental sample from chicken gut metagenome                        | Chicken                                                                               | Huang                                                                                 | 2018                                                                                  | https://doi.org/10.1186/s40168-018-0590-5                                             | HiSeq2500, HiSeqX10                                                                   | NA                                                                                    | NA                                                                                    | \n",
       "\n",
       "\n"
      ],
      "text/plain": [
       "  Sample     Run        Lane Remote     spots    bases      avgLength size_MB\n",
       "1 CBJMR04201 SRR8840694 1    SRR8840694  9945201 2672474479 268       1170   \n",
       "2 DGYFJ06201 SRR6323428 1    SRR6323428 17489115 4334964047 247       1553   \n",
       "3 DSTMI04001 SRR6323432 1    SRR6323432 11041309 2722146872 246        972   \n",
       "  BioProject  bioproject  ⋯\n",
       "1 PRJNA417359 PRJNA417359 ⋯\n",
       "2 PRJNA417359 PRJNA417359 ⋯\n",
       "3 PRJNA417359 PRJNA417359 ⋯\n",
       "  Name                                                                                 \n",
       "1 Agricultural Genomics Institute at Shenzhen, Chinese Academy of Agricultural Sciences\n",
       "2 Agricultural Genomics Institute at Shenzhen, Chinese Academy of Agricultural Sciences\n",
       "3 Agricultural Genomics Institute at Shenzhen, Chinese Academy of Agricultural Sciences\n",
       "  SRA_accession Title                                                         \n",
       "1 NA            Metagenome or environmental sample from chicken gut metagenome\n",
       "2 NA            Metagenome or environmental sample from chicken gut metagenome\n",
       "3 NA            Metagenome or environmental sample from chicken gut metagenome\n",
       "  Animal  First_author Year DOI                                      \n",
       "1 Chicken Huang        2018 https://doi.org/10.1186/s40168-018-0590-5\n",
       "2 Chicken Huang        2018 https://doi.org/10.1186/s40168-018-0590-5\n",
       "3 Chicken Huang        2018 https://doi.org/10.1186/s40168-018-0590-5\n",
       "  Sequencer           Read_length Comments\n",
       "1 HiSeq2500, HiSeqX10 NA          NA      \n",
       "2 HiSeq2500, HiSeqX10 NA          NA      \n",
       "3 HiSeq2500, HiSeqX10 NA          NA      "
      ]
     },
     "metadata": {},
     "output_type": "display_data"
    }
   ],
   "source": [
    "F = file.path(work_dir, projectID, 'samples.txt')\n",
    "samps = read.delim(F, sep='\\t')\n",
    "samps %>% dfhead"
   ]
  },
  {
   "cell_type": "code",
   "execution_count": 36,
   "metadata": {
    "ExecuteTime": {
     "end_time": "2019-08-26T18:41:14.192149Z",
     "start_time": "2019-08-26T18:41:14.074Z"
    }
   },
   "outputs": [
    {
     "data": {
      "text/plain": [
       "     spots              bases             avgLength        size_MB    \n",
       " Min.   : 1050368   Min.   :2.726e+08   Min.   :235.0   Min.   : 118  \n",
       " 1st Qu.: 8929103   1st Qu.:2.483e+09   1st Qu.:247.0   1st Qu.:1011  \n",
       " Median :12578365   Median :3.287e+09   Median :280.0   Median :1285  \n",
       " Mean   :12798261   Mean   :3.512e+09   Mean   :273.4   Mean   :1352  \n",
       " 3rd Qu.:16846141   3rd Qu.:4.559e+09   3rd Qu.:288.0   3rd Qu.:1695  \n",
       " Max.   :40496042   Max.   :1.186e+10   Max.   :294.0   Max.   :4373  "
      ]
     },
     "metadata": {},
     "output_type": "display_data"
    }
   ],
   "source": [
    "samps %>% \n",
    "    dplyr::select(spots, bases, avgLength, size_MB) %>%\n",
    "    summary"
   ]
  },
  {
   "cell_type": "code",
   "execution_count": 37,
   "metadata": {
    "ExecuteTime": {
     "end_time": "2019-08-26T18:41:14.391522Z",
     "start_time": "2019-08-26T18:41:14.218Z"
    }
   },
   "outputs": [
    {
     "name": "stdout",
     "output_type": "stream",
     "text": [
      "[1] 130  41\n"
     ]
    },
    {
     "data": {
      "text/html": [
       "<table>\n",
       "<thead><tr><th></th><th scope=col>Sample</th><th scope=col>Run</th><th scope=col>Lane</th><th scope=col>Remote</th><th scope=col>spots</th><th scope=col>bases</th><th scope=col>avgLength</th><th scope=col>size_MB</th><th scope=col>BioProject</th><th scope=col>bioproject</th><th scope=col>⋯</th><th scope=col>Name</th><th scope=col>SRA_accession</th><th scope=col>Title</th><th scope=col>Animal</th><th scope=col>First_author</th><th scope=col>Year</th><th scope=col>DOI</th><th scope=col>Sequencer</th><th scope=col>Read_length</th><th scope=col>Comments</th></tr></thead>\n",
       "<tbody>\n",
       "\t<tr><th scope=row>247</th><td>MBJMR04201                                                                           </td><td>SRR6323266                                                                           </td><td>1                                                                                    </td><td>SRR6323266                                                                           </td><td>12442511                                                                             </td><td>3344951562                                                                           </td><td>268                                                                                  </td><td>1447                                                                                 </td><td>PRJNA417359                                                                          </td><td>PRJNA417359                                                                          </td><td>⋯                                                                                    </td><td>Agricultural Genomics Institute at Shenzhen, Chinese Academy of Agricultural Sciences</td><td>NA                                                                                   </td><td>Metagenome or environmental sample from chicken gut metagenome                       </td><td>Chicken                                                                              </td><td>Huang                                                                                </td><td>2018                                                                                 </td><td>https://doi.org/10.1186/s40168-018-0590-5                                            </td><td>HiSeq2500, HiSeqX10                                                                  </td><td>NA                                                                                   </td><td>NA                                                                                   </td></tr>\n",
       "\t<tr><th scope=row>242</th><td>LHCFC01400                                                                           </td><td>SRR6323278                                                                           </td><td>1                                                                                    </td><td>SRR6323278                                                                           </td><td>15734759                                                                             </td><td>4534806422                                                                           </td><td>288                                                                                  </td><td>1814                                                                                 </td><td>PRJNA417359                                                                          </td><td>PRJNA417359                                                                          </td><td>⋯                                                                                    </td><td>Agricultural Genomics Institute at Shenzhen, Chinese Academy of Agricultural Sciences</td><td>NA                                                                                   </td><td>Metagenome or environmental sample from chicken gut metagenome                       </td><td>Chicken                                                                              </td><td>Huang                                                                                </td><td>2018                                                                                 </td><td>https://doi.org/10.1186/s40168-018-0590-5                                            </td><td>HiSeq2500, HiSeqX10                                                                  </td><td>NA                                                                                   </td><td>NA                                                                                   </td></tr>\n",
       "\t<tr><th scope=row>73</th><td>DHKFI23503                                                                           </td><td>SRR6323520                                                                           </td><td>1                                                                                    </td><td>SRR6323520                                                                           </td><td>16033611                                                                             </td><td>4697664620                                                                           </td><td>292                                                                                  </td><td>1703                                                                                 </td><td>PRJNA417359                                                                          </td><td>PRJNA417359                                                                          </td><td>⋯                                                                                    </td><td>Agricultural Genomics Institute at Shenzhen, Chinese Academy of Agricultural Sciences</td><td>NA                                                                                   </td><td>Metagenome or environmental sample from chicken gut metagenome                       </td><td>Chicken                                                                              </td><td>Huang                                                                                </td><td>2018                                                                                 </td><td>https://doi.org/10.1186/s40168-018-0590-5                                            </td><td>HiSeq2500, HiSeqX10                                                                  </td><td>NA                                                                                   </td><td>NA                                                                                   </td></tr>\n",
       "</tbody>\n",
       "</table>\n"
      ],
      "text/latex": [
       "\\begin{tabular}{r|lllllllllllllllllllllllllllllllllllllllll}\n",
       "  & Sample & Run & Lane & Remote & spots & bases & avgLength & size\\_MB & BioProject & bioproject & ⋯ & Name & SRA\\_accession & Title & Animal & First\\_author & Year & DOI & Sequencer & Read\\_length & Comments\\\\\n",
       "\\hline\n",
       "\t247 & MBJMR04201                                                                            & SRR6323266                                                                            & 1                                                                                     & SRR6323266                                                                            & 12442511                                                                              & 3344951562                                                                            & 268                                                                                   & 1447                                                                                  & PRJNA417359                                                                           & PRJNA417359                                                                           & ⋯                                                                                     & Agricultural Genomics Institute at Shenzhen, Chinese Academy of Agricultural Sciences & NA                                                                                    & Metagenome or environmental sample from chicken gut metagenome                        & Chicken                                                                               & Huang                                                                                 & 2018                                                                                  & https://doi.org/10.1186/s40168-018-0590-5                                             & HiSeq2500, HiSeqX10                                                                   & NA                                                                                    & NA                                                                                   \\\\\n",
       "\t242 & LHCFC01400                                                                            & SRR6323278                                                                            & 1                                                                                     & SRR6323278                                                                            & 15734759                                                                              & 4534806422                                                                            & 288                                                                                   & 1814                                                                                  & PRJNA417359                                                                           & PRJNA417359                                                                           & ⋯                                                                                     & Agricultural Genomics Institute at Shenzhen, Chinese Academy of Agricultural Sciences & NA                                                                                    & Metagenome or environmental sample from chicken gut metagenome                        & Chicken                                                                               & Huang                                                                                 & 2018                                                                                  & https://doi.org/10.1186/s40168-018-0590-5                                             & HiSeq2500, HiSeqX10                                                                   & NA                                                                                    & NA                                                                                   \\\\\n",
       "\t73 & DHKFI23503                                                                            & SRR6323520                                                                            & 1                                                                                     & SRR6323520                                                                            & 16033611                                                                              & 4697664620                                                                            & 292                                                                                   & 1703                                                                                  & PRJNA417359                                                                           & PRJNA417359                                                                           & ⋯                                                                                     & Agricultural Genomics Institute at Shenzhen, Chinese Academy of Agricultural Sciences & NA                                                                                    & Metagenome or environmental sample from chicken gut metagenome                        & Chicken                                                                               & Huang                                                                                 & 2018                                                                                  & https://doi.org/10.1186/s40168-018-0590-5                                             & HiSeq2500, HiSeqX10                                                                   & NA                                                                                    & NA                                                                                   \\\\\n",
       "\\end{tabular}\n"
      ],
      "text/markdown": [
       "\n",
       "| <!--/--> | Sample | Run | Lane | Remote | spots | bases | avgLength | size_MB | BioProject | bioproject | ⋯ | Name | SRA_accession | Title | Animal | First_author | Year | DOI | Sequencer | Read_length | Comments | \n",
       "|---|---|---|\n",
       "| 247 | MBJMR04201                                                                            | SRR6323266                                                                            | 1                                                                                     | SRR6323266                                                                            | 12442511                                                                              | 3344951562                                                                            | 268                                                                                   | 1447                                                                                  | PRJNA417359                                                                           | PRJNA417359                                                                           | ⋯                                                                                     | Agricultural Genomics Institute at Shenzhen, Chinese Academy of Agricultural Sciences | NA                                                                                    | Metagenome or environmental sample from chicken gut metagenome                        | Chicken                                                                               | Huang                                                                                 | 2018                                                                                  | https://doi.org/10.1186/s40168-018-0590-5                                             | HiSeq2500, HiSeqX10                                                                   | NA                                                                                    | NA                                                                                    | \n",
       "| 242 | LHCFC01400                                                                            | SRR6323278                                                                            | 1                                                                                     | SRR6323278                                                                            | 15734759                                                                              | 4534806422                                                                            | 288                                                                                   | 1814                                                                                  | PRJNA417359                                                                           | PRJNA417359                                                                           | ⋯                                                                                     | Agricultural Genomics Institute at Shenzhen, Chinese Academy of Agricultural Sciences | NA                                                                                    | Metagenome or environmental sample from chicken gut metagenome                        | Chicken                                                                               | Huang                                                                                 | 2018                                                                                  | https://doi.org/10.1186/s40168-018-0590-5                                             | HiSeq2500, HiSeqX10                                                                   | NA                                                                                    | NA                                                                                    | \n",
       "| 73 | DHKFI23503                                                                            | SRR6323520                                                                            | 1                                                                                     | SRR6323520                                                                            | 16033611                                                                              | 4697664620                                                                            | 292                                                                                   | 1703                                                                                  | PRJNA417359                                                                           | PRJNA417359                                                                           | ⋯                                                                                     | Agricultural Genomics Institute at Shenzhen, Chinese Academy of Agricultural Sciences | NA                                                                                    | Metagenome or environmental sample from chicken gut metagenome                        | Chicken                                                                               | Huang                                                                                 | 2018                                                                                  | https://doi.org/10.1186/s40168-018-0590-5                                             | HiSeq2500, HiSeqX10                                                                   | NA                                                                                    | NA                                                                                    | \n",
       "\n",
       "\n"
      ],
      "text/plain": [
       "    Sample     Run        Lane Remote     spots    bases      avgLength size_MB\n",
       "247 MBJMR04201 SRR6323266 1    SRR6323266 12442511 3344951562 268       1447   \n",
       "242 LHCFC01400 SRR6323278 1    SRR6323278 15734759 4534806422 288       1814   \n",
       "73  DHKFI23503 SRR6323520 1    SRR6323520 16033611 4697664620 292       1703   \n",
       "    BioProject  bioproject  ⋯\n",
       "247 PRJNA417359 PRJNA417359 ⋯\n",
       "242 PRJNA417359 PRJNA417359 ⋯\n",
       "73  PRJNA417359 PRJNA417359 ⋯\n",
       "    Name                                                                                 \n",
       "247 Agricultural Genomics Institute at Shenzhen, Chinese Academy of Agricultural Sciences\n",
       "242 Agricultural Genomics Institute at Shenzhen, Chinese Academy of Agricultural Sciences\n",
       "73  Agricultural Genomics Institute at Shenzhen, Chinese Academy of Agricultural Sciences\n",
       "    SRA_accession\n",
       "247 NA           \n",
       "242 NA           \n",
       "73  NA           \n",
       "    Title                                                          Animal \n",
       "247 Metagenome or environmental sample from chicken gut metagenome Chicken\n",
       "242 Metagenome or environmental sample from chicken gut metagenome Chicken\n",
       "73  Metagenome or environmental sample from chicken gut metagenome Chicken\n",
       "    First_author Year DOI                                      \n",
       "247 Huang        2018 https://doi.org/10.1186/s40168-018-0590-5\n",
       "242 Huang        2018 https://doi.org/10.1186/s40168-018-0590-5\n",
       "73  Huang        2018 https://doi.org/10.1186/s40168-018-0590-5\n",
       "    Sequencer           Read_length Comments\n",
       "247 HiSeq2500, HiSeqX10 NA          NA      \n",
       "242 HiSeq2500, HiSeqX10 NA          NA      \n",
       "73  HiSeq2500, HiSeqX10 NA          NA      "
      ]
     },
     "metadata": {},
     "output_type": "display_data"
    }
   ],
   "source": [
    "# subsampling\n",
    "samps = samps %>%\n",
    "    filter(spots >= 10000000) %>%\n",
    "    sample_n(130)\n",
    "\n",
    "samps %>% dfhead"
   ]
  },
  {
   "cell_type": "code",
   "execution_count": 38,
   "metadata": {
    "ExecuteTime": {
     "end_time": "2019-08-26T18:41:15.019544Z",
     "start_time": "2019-08-26T18:41:14.965Z"
    }
   },
   "outputs": [
    {
     "data": {
      "text/plain": [
       "     spots              bases             avgLength        size_MB    \n",
       " Min.   :10048833   Min.   :2.588e+09   Min.   :237.0   Min.   : 972  \n",
       " 1st Qu.:12347516   1st Qu.:3.227e+09   1st Qu.:246.0   1st Qu.:1302  \n",
       " Median :15603560   Median :4.162e+09   Median :286.5   Median :1562  \n",
       " Mean   :15487376   Mean   :4.241e+09   Mean   :273.2   Mean   :1611  \n",
       " 3rd Qu.:17945110   3rd Qu.:4.851e+09   3rd Qu.:289.8   3rd Qu.:1840  \n",
       " Max.   :33497733   Max.   :9.693e+09   Max.   :294.0   Max.   :3848  "
      ]
     },
     "metadata": {},
     "output_type": "display_data"
    }
   ],
   "source": [
    "samps %>% \n",
    "    dplyr::select(spots, bases, avgLength, size_MB) %>%\n",
    "    summary"
   ]
  },
  {
   "cell_type": "code",
   "execution_count": 40,
   "metadata": {
    "ExecuteTime": {
     "end_time": "2019-08-26T18:41:20.045419Z",
     "start_time": "2019-08-26T18:41:19.992Z"
    }
   },
   "outputs": [
    {
     "name": "stdout",
     "output_type": "stream",
     "text": [
      "File written: /ebio/abt3_projects/Georg_animal_feces/data/metagenome/multi-study/BioProjects//PRJNA417359/samples_n130.txt \n"
     ]
    }
   ],
   "source": [
    "F = file.path(work_dir, projectID, 'samples_n130.txt')\n",
    "write.table(samps, file=F, sep='\\t', quote=FALSE, row.names=FALSE)\n",
    "cat('File written:', F, '\\n')"
   ]
  },
  {
   "cell_type": "markdown",
   "metadata": {},
   "source": [
    "### Config"
   ]
  },
  {
   "cell_type": "code",
   "execution_count": 41,
   "metadata": {
    "ExecuteTime": {
     "end_time": "2019-08-26T18:41:39.312296Z",
     "start_time": "2019-08-26T18:41:39.261Z"
    }
   },
   "outputs": [
    {
     "name": "stdout",
     "output_type": "stream",
     "text": [
      "#-- I/O --#\n",
      "# table with sample --> read_file information\n",
      "samples_file: /ebio/abt3_projects/Georg_animal_feces/data/metagenome/multi-study/BioProjects/PRJNA417359/samples_n130.txt\n",
      "\n",
      "# output location\n",
      "output_dir: /ebio/abt3_projects/Georg_animal_feces/data/metagenome/multi-study/BioProjects/PRJNA417359/LLMGQC/\n",
      "\n",
      "# read file path\n",
      "# use \"None\" if full file path is included in the samples_file\n",
      "read_file_path: None\n",
      "\n",
      "#-- Software parameters --#\n",
      "# Use \"Skip\" to skip any of these steps. If no params for rule, use \"\"\n",
      "# `clumpify`: change dupedist if not HiSeq3000/4000 (dupedist=40 for NextSeq, HiSeq2500, and MiSeq)\n",
      "params:\n",
      "  # read download\n",
      "  remote: just_single=False      # If True, just download read1 (if remote file)\n",
      "  # validation, conversion, subsampling\n",
      "  validate_reads: \"\"\n",
      "  convert_fastq_to_1.8: \"\"\n",
      "  seqtk_sample: Skip    # Use number to subsample reads (eg., 1000000)\n",
      "  fastqc_on_raw: \"\"\n",
      "  # de-duplication\n",
      "  clumpify: Skip #dedupe=t dupedist=2500 optical=t    # this will likely fail for remote (SRA) samples\n",
      "  fastqc_on_dedup: \"\"\n",
      "  # adapter removal & quality trimming/filtering\n",
      "  bbduk: ref=./adapters/bbmap_adapters.fa fastawrap=300 k=23\n",
      "  skewer: -x ./adapters/PE_all.fa -n -l 90 -q 25\n",
      "  fastqc_on_qual: \"\"\n",
      "  # removal of 'contaminant' reads\n",
      "  bbmap: minratio=0.9 maxindel=1 bwr=0.16 bw=12 fast minhits=2 qtrim=r trimq=10 untrim idtag printunmappedcount kfilter=25 maxsites=1 k=14 pairlen=1000 rescuedist=1000\n",
      "  ikraken2: /ebio/abt3_projects/databases_no-backup/kraken2/human_db/,/ebio/abt3_projects/databases_no-backup/kraken2/UniVec_Core_db/,/ebio/abt3_projects/databases_no-backup/kraken2/vertebrata_nt_db/,/ebio/abt3_projects/databases_no-backup/kraken2/protozoa_db/,/ebio/abt3_projects/databases_no-backup/kraken2/fungi_db/ --confidence 0.7\n",
      "  fastqc_on_filter: \"\"\n",
      "  # post-QC reads\n",
      "  fastqc_on_final: \"\"\n",
      "  # taxonomy\n",
      "  centrifuge: Skip\n",
      "  krona: Skip\n",
      "  # coverage\n",
      "  nonpareil: -T kmer\n",
      "  nonpareil_summary: 1e9   # this is target seq. depth\n",
      "  # master \"Skip\": reads combined then called \"final\" reads (skips all QC steps)\n",
      "  skip_all_QC: False\n",
      "\n",
      "#-- Databases --#\n",
      "## hg19 = human genome database for filtering out human reads\n",
      "filter_db: /ebio/abt3_projects/databases_no-backup/hg19/hg19\n",
      "# centrifuge db\n",
      "centrifuge_db: /ebio/abt3_projects/databases_no-backup/centrifuge/p+h+v\n",
      "# krona taxonomy db\n",
      "krona_tax_db: /ebio/abt3_projects/databases_no-backup/krona/taxonomy\n",
      "# kraken2 (see 'ikraken2' parameters)\n",
      "\n",
      "#-- Snakemake pipeline --#\n",
      "## To use /tmp/global2/, see http://ilm.eb.local/user-guide/#Scratch-space-on-_002ftmp_002fglobal2\n",
      "pipeline:\n",
      "  snakemake_folder: ./\n",
      "  script_folder: ./bin/scripts/\n",
      "  temp_folder: /tmp/global/    # your username will be added automatically to this path\n",
      "  run_skip_locally: True        # trivial \"skip\" steps run locally (not qsub)"
     ]
    }
   ],
   "source": [
    "cat_file(file.path(outdir, 'config.yaml'))"
   ]
  },
  {
   "cell_type": "markdown",
   "metadata": {},
   "source": [
    "### Run"
   ]
  },
  {
   "cell_type": "markdown",
   "metadata": {},
   "source": [
    "```\n",
    "(snakemake_dev) @ rick:/ebio/abt3_projects/vadinCA11/bin/llmgqc\n",
    "$ screen -L -S llmgqc-PRJNA417359 ./snakemake_sge.sh /ebio/abt3_projects/Georg_animal_feces/data/metagenome/multi-study/BioProjects/PRJNA417359/LLMGQC/config.yaml cluster.json /ebio/abt3_projects/Georg_animal_feces/data/metagenome/multi-study/BioProjects/PRJNA417359/LLMGQC/ 20\n",
    "```"
   ]
  },
  {
   "cell_type": "markdown",
   "metadata": {},
   "source": [
    "### Summary"
   ]
  },
  {
   "cell_type": "code",
   "execution_count": 42,
   "metadata": {
    "ExecuteTime": {
     "end_time": "2019-08-28T15:01:40.753612Z",
     "start_time": "2019-08-28T15:01:40.727Z"
    }
   },
   "outputs": [],
   "source": [
    "projectID = 'PRJNA417359'"
   ]
  },
  {
   "cell_type": "code",
   "execution_count": 43,
   "metadata": {
    "ExecuteTime": {
     "end_time": "2019-08-28T15:01:49.150797Z",
     "start_time": "2019-08-28T15:01:49.080Z"
    }
   },
   "outputs": [
    {
     "name": "stdout",
     "output_type": "stream",
     "text": [
      "[1] 260  21\n"
     ]
    },
    {
     "data": {
      "text/html": [
       "<table>\n",
       "<thead><tr><th scope=col>Sample</th><th scope=col>Filename</th><th scope=col>File.type</th><th scope=col>Encoding</th><th scope=col>Total.Sequences</th><th scope=col>Sequences.flagged.as.poor.quality</th><th scope=col>Sequence.length</th><th scope=col>X.GC</th><th scope=col>total_deduplicated_percentage</th><th scope=col>avg_sequence_length</th><th scope=col>⋯</th><th scope=col>per_base_sequence_quality</th><th scope=col>per_tile_sequence_quality</th><th scope=col>per_sequence_quality_scores</th><th scope=col>per_base_sequence_content</th><th scope=col>per_sequence_gc_content</th><th scope=col>per_base_n_content</th><th scope=col>sequence_length_distribution</th><th scope=col>sequence_duplication_levels</th><th scope=col>overrepresented_sequences</th><th scope=col>adapter_content</th></tr></thead>\n",
       "<tbody>\n",
       "\t<tr><td>CBJMC01400 | fastqc_per_sample | R1_final</td><td>R1_final.fq.gz                           </td><td>Conventional base calls                  </td><td>Sanger / Illumina 1.9                    </td><td> 9720627                                 </td><td>0                                        </td><td>90-150                                   </td><td>52                                       </td><td>83.80389                                 </td><td>148.1134                                 </td><td>⋯                                        </td><td>pass                                     </td><td>fail                                     </td><td>pass                                     </td><td>pass                                     </td><td>pass                                     </td><td>pass                                     </td><td>warn                                     </td><td>pass                                     </td><td>pass                                     </td><td>pass                                     </td></tr>\n",
       "\t<tr><td>CBJMC01400 | fastqc_per_sample | R2_final</td><td>R2_final.fq.gz                           </td><td>Conventional base calls                  </td><td>Sanger / Illumina 1.9                    </td><td> 9720627                                 </td><td>0                                        </td><td>90-150                                   </td><td>52                                       </td><td>84.30671                                 </td><td>132.3763                                 </td><td>⋯                                        </td><td>pass                                     </td><td>fail                                     </td><td>pass                                     </td><td>pass                                     </td><td>pass                                     </td><td>pass                                     </td><td>warn                                     </td><td>pass                                     </td><td>pass                                     </td><td>pass                                     </td></tr>\n",
       "\t<tr><td>CBJMI02800 | fastqc_per_sample | R1_final</td><td>R1_final.fq.gz                           </td><td>Conventional base calls                  </td><td>Sanger / Illumina 1.9                    </td><td>10246817                                 </td><td>0                                        </td><td>90-150                                   </td><td>46                                       </td><td>56.69880                                 </td><td>148.5616                                 </td><td>⋯                                        </td><td>pass                                     </td><td>pass                                     </td><td>pass                                     </td><td>pass                                     </td><td>warn                                     </td><td>pass                                     </td><td>warn                                     </td><td>warn                                     </td><td>pass                                     </td><td>pass                                     </td></tr>\n",
       "</tbody>\n",
       "</table>\n"
      ],
      "text/latex": [
       "\\begin{tabular}{r|lllllllllllllllllllll}\n",
       " Sample & Filename & File.type & Encoding & Total.Sequences & Sequences.flagged.as.poor.quality & Sequence.length & X.GC & total\\_deduplicated\\_percentage & avg\\_sequence\\_length & ⋯ & per\\_base\\_sequence\\_quality & per\\_tile\\_sequence\\_quality & per\\_sequence\\_quality\\_scores & per\\_base\\_sequence\\_content & per\\_sequence\\_gc\\_content & per\\_base\\_n\\_content & sequence\\_length\\_distribution & sequence\\_duplication\\_levels & overrepresented\\_sequences & adapter\\_content\\\\\n",
       "\\hline\n",
       "\t CBJMC01400 \\textbar{} fastqc\\_per\\_sample \\textbar{} R1\\_final & R1\\_final.fq.gz                                                    & Conventional base calls                                             & Sanger / Illumina 1.9                                               &  9720627                                                            & 0                                                                   & 90-150                                                              & 52                                                                  & 83.80389                                                            & 148.1134                                                            & ⋯                                                                   & pass                                                                & fail                                                                & pass                                                                & pass                                                                & pass                                                                & pass                                                                & warn                                                                & pass                                                                & pass                                                                & pass                                                               \\\\\n",
       "\t CBJMC01400 \\textbar{} fastqc\\_per\\_sample \\textbar{} R2\\_final & R2\\_final.fq.gz                                                    & Conventional base calls                                             & Sanger / Illumina 1.9                                               &  9720627                                                            & 0                                                                   & 90-150                                                              & 52                                                                  & 84.30671                                                            & 132.3763                                                            & ⋯                                                                   & pass                                                                & fail                                                                & pass                                                                & pass                                                                & pass                                                                & pass                                                                & warn                                                                & pass                                                                & pass                                                                & pass                                                               \\\\\n",
       "\t CBJMI02800 \\textbar{} fastqc\\_per\\_sample \\textbar{} R1\\_final & R1\\_final.fq.gz                                                    & Conventional base calls                                             & Sanger / Illumina 1.9                                               & 10246817                                                            & 0                                                                   & 90-150                                                              & 46                                                                  & 56.69880                                                            & 148.5616                                                            & ⋯                                                                   & pass                                                                & pass                                                                & pass                                                                & pass                                                                & warn                                                                & pass                                                                & warn                                                                & warn                                                                & pass                                                                & pass                                                               \\\\\n",
       "\\end{tabular}\n"
      ],
      "text/markdown": [
       "\n",
       "Sample | Filename | File.type | Encoding | Total.Sequences | Sequences.flagged.as.poor.quality | Sequence.length | X.GC | total_deduplicated_percentage | avg_sequence_length | ⋯ | per_base_sequence_quality | per_tile_sequence_quality | per_sequence_quality_scores | per_base_sequence_content | per_sequence_gc_content | per_base_n_content | sequence_length_distribution | sequence_duplication_levels | overrepresented_sequences | adapter_content | \n",
       "|---|---|---|\n",
       "| CBJMC01400 | fastqc_per_sample | R1_final | R1_final.fq.gz                            | Conventional base calls                   | Sanger / Illumina 1.9                     |  9720627                                  | 0                                         | 90-150                                    | 52                                        | 83.80389                                  | 148.1134                                  | ⋯                                         | pass                                      | fail                                      | pass                                      | pass                                      | pass                                      | pass                                      | warn                                      | pass                                      | pass                                      | pass                                      | \n",
       "| CBJMC01400 | fastqc_per_sample | R2_final | R2_final.fq.gz                            | Conventional base calls                   | Sanger / Illumina 1.9                     |  9720627                                  | 0                                         | 90-150                                    | 52                                        | 84.30671                                  | 132.3763                                  | ⋯                                         | pass                                      | fail                                      | pass                                      | pass                                      | pass                                      | pass                                      | warn                                      | pass                                      | pass                                      | pass                                      | \n",
       "| CBJMI02800 | fastqc_per_sample | R1_final | R1_final.fq.gz                            | Conventional base calls                   | Sanger / Illumina 1.9                     | 10246817                                  | 0                                         | 90-150                                    | 46                                        | 56.69880                                  | 148.5616                                  | ⋯                                         | pass                                      | pass                                      | pass                                      | pass                                      | warn                                      | pass                                      | warn                                      | warn                                      | pass                                      | pass                                      | \n",
       "\n",
       "\n"
      ],
      "text/plain": [
       "  Sample                                    Filename      \n",
       "1 CBJMC01400 | fastqc_per_sample | R1_final R1_final.fq.gz\n",
       "2 CBJMC01400 | fastqc_per_sample | R2_final R2_final.fq.gz\n",
       "3 CBJMI02800 | fastqc_per_sample | R1_final R1_final.fq.gz\n",
       "  File.type               Encoding              Total.Sequences\n",
       "1 Conventional base calls Sanger / Illumina 1.9  9720627       \n",
       "2 Conventional base calls Sanger / Illumina 1.9  9720627       \n",
       "3 Conventional base calls Sanger / Illumina 1.9 10246817       \n",
       "  Sequences.flagged.as.poor.quality Sequence.length X.GC\n",
       "1 0                                 90-150          52  \n",
       "2 0                                 90-150          52  \n",
       "3 0                                 90-150          46  \n",
       "  total_deduplicated_percentage avg_sequence_length ⋯ per_base_sequence_quality\n",
       "1 83.80389                      148.1134            ⋯ pass                     \n",
       "2 84.30671                      132.3763            ⋯ pass                     \n",
       "3 56.69880                      148.5616            ⋯ pass                     \n",
       "  per_tile_sequence_quality per_sequence_quality_scores\n",
       "1 fail                      pass                       \n",
       "2 fail                      pass                       \n",
       "3 pass                      pass                       \n",
       "  per_base_sequence_content per_sequence_gc_content per_base_n_content\n",
       "1 pass                      pass                    pass              \n",
       "2 pass                      pass                    pass              \n",
       "3 pass                      warn                    pass              \n",
       "  sequence_length_distribution sequence_duplication_levels\n",
       "1 warn                         pass                       \n",
       "2 warn                         pass                       \n",
       "3 warn                         warn                       \n",
       "  overrepresented_sequences adapter_content\n",
       "1 pass                      pass           \n",
       "2 pass                      pass           \n",
       "3 pass                      pass           "
      ]
     },
     "metadata": {},
     "output_type": "display_data"
    }
   ],
   "source": [
    "F = file.path(work_dir, projectID, 'LLMGQC', 'reports', 'multiqc-final', 'multiqc_data', 'multiqc_fastqc.txt')\n",
    "fastqc = read.delim(F, sep='\\t')\n",
    "fastqc %>% dfhead"
   ]
  },
  {
   "cell_type": "code",
   "execution_count": 44,
   "metadata": {
    "ExecuteTime": {
     "end_time": "2019-08-28T15:02:02.570905Z",
     "start_time": "2019-08-28T15:02:02.533Z"
    }
   },
   "outputs": [
    {
     "data": {
      "text/plain": [
       " Total.Sequences    avg_sequence_length\n",
       " Min.   : 8968487   Min.   :118.6      \n",
       " 1st Qu.:11767226   1st Qu.:124.1      \n",
       " Median :15002040   Median :148.0      \n",
       " Mean   :14763142   Mean   :140.0      \n",
       " 3rd Qu.:17069678   3rd Qu.:148.4      \n",
       " Max.   :32055696   Max.   :149.0      "
      ]
     },
     "metadata": {},
     "output_type": "display_data"
    }
   ],
   "source": [
    "fastqc %>% \n",
    "    filter(Filename == 'R1_final.fq.gz') %>%\n",
    "    dplyr::select(Total.Sequences, avg_sequence_length) %>% \n",
    "    summary"
   ]
  },
  {
   "cell_type": "markdown",
   "metadata": {},
   "source": [
    "## PRJNA476660\n",
    "\n",
    "* host = Pangolin\n",
    "* n = 3\n",
    "* avg. read length = 300"
   ]
  },
  {
   "cell_type": "code",
   "execution_count": 45,
   "metadata": {
    "ExecuteTime": {
     "end_time": "2019-08-28T15:03:07.664584Z",
     "start_time": "2019-08-28T15:03:07.638Z"
    }
   },
   "outputs": [],
   "source": [
    "projectID = 'PRJNA476660'"
   ]
  },
  {
   "cell_type": "code",
   "execution_count": 47,
   "metadata": {
    "ExecuteTime": {
     "end_time": "2019-08-28T15:03:24.896655Z",
     "start_time": "2019-08-28T15:03:24.866Z"
    }
   },
   "outputs": [
    {
     "name": "stdout",
     "output_type": "stream",
     "text": [
      "Directory already exists: /ebio/abt3_projects/Georg_animal_feces/data/metagenome/multi-study/BioProjects//PRJNA476660/LLMGQC \n"
     ]
    }
   ],
   "source": [
    "outdir = file.path(work_dir, projectID, 'LLMGQC')\n",
    "make_dir(outdir)"
   ]
  },
  {
   "cell_type": "code",
   "execution_count": null,
   "metadata": {},
   "outputs": [],
   "source": [
    "cat_file(file.path(outdir, 'config.yaml'))"
   ]
  },
  {
   "cell_type": "markdown",
   "metadata": {},
   "source": [
    "### Run"
   ]
  },
  {
   "cell_type": "markdown",
   "metadata": {},
   "source": [
    "```\n",
    "(snakemake_dev) @ rick:/ebio/abt3_projects/vadinCA11/bin/llmgqc\n",
    "$ screen -L -S llmgqc-PRJNA476660 ./snakemake_sge.sh /ebio/abt3_projects/Georg_animal_feces/data/metagenome/multi-study/BioProjects/PRJNA476660/LLMGQC/config.yaml cluster.json /ebio/abt3_projects/Georg_animal_feces/data/metagenome/multi-study/BioProjects/PRJNA476660/LLMGQC/SGE_log/ 20\n",
    "```"
   ]
  },
  {
   "cell_type": "markdown",
   "metadata": {},
   "source": [
    "### Summary"
   ]
  },
  {
   "cell_type": "code",
   "execution_count": 53,
   "metadata": {
    "ExecuteTime": {
     "end_time": "2019-08-29T05:25:20.086333Z",
     "start_time": "2019-08-29T05:25:20.046Z"
    }
   },
   "outputs": [],
   "source": [
    "projectID = 'PRJNA476660'"
   ]
  },
  {
   "cell_type": "code",
   "execution_count": 49,
   "metadata": {
    "ExecuteTime": {
     "end_time": "2019-08-29T05:15:25.354232Z",
     "start_time": "2019-08-29T05:15:25.284Z"
    }
   },
   "outputs": [
    {
     "name": "stdout",
     "output_type": "stream",
     "text": [
      "[1]  6 20\n"
     ]
    },
    {
     "data": {
      "text/html": [
       "<table>\n",
       "<thead><tr><th scope=col>Sample</th><th scope=col>Filename</th><th scope=col>File.type</th><th scope=col>Encoding</th><th scope=col>Total.Sequences</th><th scope=col>Sequences.flagged.as.poor.quality</th><th scope=col>Sequence.length</th><th scope=col>X.GC</th><th scope=col>total_deduplicated_percentage</th><th scope=col>avg_sequence_length</th><th scope=col>basic_statistics</th><th scope=col>per_base_sequence_quality</th><th scope=col>per_sequence_quality_scores</th><th scope=col>per_base_sequence_content</th><th scope=col>per_sequence_gc_content</th><th scope=col>per_base_n_content</th><th scope=col>sequence_length_distribution</th><th scope=col>sequence_duplication_levels</th><th scope=col>overrepresented_sequences</th><th scope=col>adapter_content</th></tr></thead>\n",
       "<tbody>\n",
       "\t<tr><td>MJGMD1 | fastqc_per_sample | R1_final</td><td>R1_final.fq.gz                       </td><td>Conventional base calls              </td><td>Sanger / Illumina 1.9                </td><td>24099125                             </td><td>0                                    </td><td>90-150                               </td><td>46                                   </td><td>81.90689                             </td><td>149.6247                             </td><td>pass                                 </td><td>pass                                 </td><td>pass                                 </td><td>pass                                 </td><td>pass                                 </td><td>pass                                 </td><td>warn                                 </td><td>pass                                 </td><td>pass                                 </td><td>pass                                 </td></tr>\n",
       "\t<tr><td>MJGMD1 | fastqc_per_sample | R2_final</td><td>R2_final.fq.gz                       </td><td>Conventional base calls              </td><td>Sanger / Illumina 1.9                </td><td>24099125                             </td><td>0                                    </td><td>90-150                               </td><td>46                                   </td><td>83.74366                             </td><td>149.4667                             </td><td>pass                                 </td><td>pass                                 </td><td>pass                                 </td><td>pass                                 </td><td>pass                                 </td><td>pass                                 </td><td>warn                                 </td><td>pass                                 </td><td>pass                                 </td><td>pass                                 </td></tr>\n",
       "\t<tr><td>MJGMH1 | fastqc_per_sample | R1_final</td><td>R1_final.fq.gz                       </td><td>Conventional base calls              </td><td>Sanger / Illumina 1.9                </td><td>23757188                             </td><td>0                                    </td><td>90-150                               </td><td>44                                   </td><td>76.84584                             </td><td>149.6505                             </td><td>pass                                 </td><td>pass                                 </td><td>pass                                 </td><td>pass                                 </td><td>pass                                 </td><td>pass                                 </td><td>warn                                 </td><td>pass                                 </td><td>pass                                 </td><td>pass                                 </td></tr>\n",
       "</tbody>\n",
       "</table>\n"
      ],
      "text/latex": [
       "\\begin{tabular}{r|llllllllllllllllllll}\n",
       " Sample & Filename & File.type & Encoding & Total.Sequences & Sequences.flagged.as.poor.quality & Sequence.length & X.GC & total\\_deduplicated\\_percentage & avg\\_sequence\\_length & basic\\_statistics & per\\_base\\_sequence\\_quality & per\\_sequence\\_quality\\_scores & per\\_base\\_sequence\\_content & per\\_sequence\\_gc\\_content & per\\_base\\_n\\_content & sequence\\_length\\_distribution & sequence\\_duplication\\_levels & overrepresented\\_sequences & adapter\\_content\\\\\n",
       "\\hline\n",
       "\t MJGMD1 \\textbar{} fastqc\\_per\\_sample \\textbar{} R1\\_final & R1\\_final.fq.gz                                                & Conventional base calls                                         & Sanger / Illumina 1.9                                           & 24099125                                                        & 0                                                               & 90-150                                                          & 46                                                              & 81.90689                                                        & 149.6247                                                        & pass                                                            & pass                                                            & pass                                                            & pass                                                            & pass                                                            & pass                                                            & warn                                                            & pass                                                            & pass                                                            & pass                                                           \\\\\n",
       "\t MJGMD1 \\textbar{} fastqc\\_per\\_sample \\textbar{} R2\\_final & R2\\_final.fq.gz                                                & Conventional base calls                                         & Sanger / Illumina 1.9                                           & 24099125                                                        & 0                                                               & 90-150                                                          & 46                                                              & 83.74366                                                        & 149.4667                                                        & pass                                                            & pass                                                            & pass                                                            & pass                                                            & pass                                                            & pass                                                            & warn                                                            & pass                                                            & pass                                                            & pass                                                           \\\\\n",
       "\t MJGMH1 \\textbar{} fastqc\\_per\\_sample \\textbar{} R1\\_final & R1\\_final.fq.gz                                                & Conventional base calls                                         & Sanger / Illumina 1.9                                           & 23757188                                                        & 0                                                               & 90-150                                                          & 44                                                              & 76.84584                                                        & 149.6505                                                        & pass                                                            & pass                                                            & pass                                                            & pass                                                            & pass                                                            & pass                                                            & warn                                                            & pass                                                            & pass                                                            & pass                                                           \\\\\n",
       "\\end{tabular}\n"
      ],
      "text/markdown": [
       "\n",
       "Sample | Filename | File.type | Encoding | Total.Sequences | Sequences.flagged.as.poor.quality | Sequence.length | X.GC | total_deduplicated_percentage | avg_sequence_length | basic_statistics | per_base_sequence_quality | per_sequence_quality_scores | per_base_sequence_content | per_sequence_gc_content | per_base_n_content | sequence_length_distribution | sequence_duplication_levels | overrepresented_sequences | adapter_content | \n",
       "|---|---|---|\n",
       "| MJGMD1 | fastqc_per_sample | R1_final | R1_final.fq.gz                        | Conventional base calls               | Sanger / Illumina 1.9                 | 24099125                              | 0                                     | 90-150                                | 46                                    | 81.90689                              | 149.6247                              | pass                                  | pass                                  | pass                                  | pass                                  | pass                                  | pass                                  | warn                                  | pass                                  | pass                                  | pass                                  | \n",
       "| MJGMD1 | fastqc_per_sample | R2_final | R2_final.fq.gz                        | Conventional base calls               | Sanger / Illumina 1.9                 | 24099125                              | 0                                     | 90-150                                | 46                                    | 83.74366                              | 149.4667                              | pass                                  | pass                                  | pass                                  | pass                                  | pass                                  | pass                                  | warn                                  | pass                                  | pass                                  | pass                                  | \n",
       "| MJGMH1 | fastqc_per_sample | R1_final | R1_final.fq.gz                        | Conventional base calls               | Sanger / Illumina 1.9                 | 23757188                              | 0                                     | 90-150                                | 44                                    | 76.84584                              | 149.6505                              | pass                                  | pass                                  | pass                                  | pass                                  | pass                                  | pass                                  | warn                                  | pass                                  | pass                                  | pass                                  | \n",
       "\n",
       "\n"
      ],
      "text/plain": [
       "  Sample                                Filename       File.type              \n",
       "1 MJGMD1 | fastqc_per_sample | R1_final R1_final.fq.gz Conventional base calls\n",
       "2 MJGMD1 | fastqc_per_sample | R2_final R2_final.fq.gz Conventional base calls\n",
       "3 MJGMH1 | fastqc_per_sample | R1_final R1_final.fq.gz Conventional base calls\n",
       "  Encoding              Total.Sequences Sequences.flagged.as.poor.quality\n",
       "1 Sanger / Illumina 1.9 24099125        0                                \n",
       "2 Sanger / Illumina 1.9 24099125        0                                \n",
       "3 Sanger / Illumina 1.9 23757188        0                                \n",
       "  Sequence.length X.GC total_deduplicated_percentage avg_sequence_length\n",
       "1 90-150          46   81.90689                      149.6247           \n",
       "2 90-150          46   83.74366                      149.4667           \n",
       "3 90-150          44   76.84584                      149.6505           \n",
       "  basic_statistics per_base_sequence_quality per_sequence_quality_scores\n",
       "1 pass             pass                      pass                       \n",
       "2 pass             pass                      pass                       \n",
       "3 pass             pass                      pass                       \n",
       "  per_base_sequence_content per_sequence_gc_content per_base_n_content\n",
       "1 pass                      pass                    pass              \n",
       "2 pass                      pass                    pass              \n",
       "3 pass                      pass                    pass              \n",
       "  sequence_length_distribution sequence_duplication_levels\n",
       "1 warn                         pass                       \n",
       "2 warn                         pass                       \n",
       "3 warn                         pass                       \n",
       "  overrepresented_sequences adapter_content\n",
       "1 pass                      pass           \n",
       "2 pass                      pass           \n",
       "3 pass                      pass           "
      ]
     },
     "metadata": {},
     "output_type": "display_data"
    }
   ],
   "source": [
    "F = file.path(work_dir, projectID, 'LLMGQC', 'reports', 'multiqc-final', 'multiqc_data', 'multiqc_fastqc.txt')\n",
    "fastqc = read.delim(F, sep='\\t')\n",
    "fastqc %>% dfhead"
   ]
  },
  {
   "cell_type": "code",
   "execution_count": 50,
   "metadata": {
    "ExecuteTime": {
     "end_time": "2019-08-29T05:15:32.872290Z",
     "start_time": "2019-08-29T05:15:32.826Z"
    }
   },
   "outputs": [
    {
     "data": {
      "text/plain": [
       " Total.Sequences    avg_sequence_length\n",
       " Min.   :23515478   Min.   :149.6      \n",
       " 1st Qu.:23636333   1st Qu.:149.6      \n",
       " Median :23757188   Median :149.6      \n",
       " Mean   :23790597   Mean   :149.6      \n",
       " 3rd Qu.:23928156   3rd Qu.:149.6      \n",
       " Max.   :24099125   Max.   :149.7      "
      ]
     },
     "metadata": {},
     "output_type": "display_data"
    }
   ],
   "source": [
    "fastqc %>% \n",
    "    filter(Filename == 'R1_final.fq.gz') %>%\n",
    "    dplyr::select(Total.Sequences, avg_sequence_length) %>% \n",
    "    summary"
   ]
  },
  {
   "cell_type": "markdown",
   "metadata": {},
   "source": [
    "## PRJNA485217\n",
    "\n",
    "* host = primate (capuchin)\n",
    "* n = 19\n",
    "* avg. read length = 250"
   ]
  },
  {
   "cell_type": "code",
   "execution_count": 51,
   "metadata": {
    "ExecuteTime": {
     "end_time": "2019-08-29T05:15:58.633436Z",
     "start_time": "2019-08-29T05:15:58.604Z"
    }
   },
   "outputs": [],
   "source": [
    "projectID = 'PRJNA485217'"
   ]
  },
  {
   "cell_type": "code",
   "execution_count": 52,
   "metadata": {
    "ExecuteTime": {
     "end_time": "2019-08-29T05:16:06.347045Z",
     "start_time": "2019-08-29T05:16:06.307Z"
    }
   },
   "outputs": [
    {
     "name": "stdout",
     "output_type": "stream",
     "text": [
      "Created directory: /ebio/abt3_projects/Georg_animal_feces/data/metagenome/multi-study/BioProjects//PRJNA485217/LLMGQC \n"
     ]
    }
   ],
   "source": [
    "outdir = file.path(work_dir, projectID, 'LLMGQC')\n",
    "make_dir(outdir)"
   ]
  },
  {
   "cell_type": "code",
   "execution_count": 54,
   "metadata": {
    "ExecuteTime": {
     "end_time": "2019-08-29T05:25:30.318416Z",
     "start_time": "2019-08-29T05:25:30.168Z"
    }
   },
   "outputs": [
    {
     "name": "stdout",
     "output_type": "stream",
     "text": [
      "#-- I/O --#\n",
      "# table with sample --> read_file information\n",
      "samples_file: /ebio/abt3_projects/Georg_animal_feces/data/metagenome/multi-study/BioProjects/PRJNA485217/samples.txt\n",
      "\n",
      "# output location\n",
      "output_dir: /ebio/abt3_projects/Georg_animal_feces/data/metagenome/multi-study/BioProjects/PRJNA485217/LLMGQC/\n",
      "\n",
      "# read file path\n",
      "# use \"None\" if full file path is included in the samples_file\n",
      "read_file_path: None\n",
      "\n",
      "#-- Software parameters --#\n",
      "# Use \"Skip\" to skip any of these steps. If no params for rule, use \"\"\n",
      "# `clumpify`: change dupedist if not HiSeq3000/4000 (dupedist=40 for NextSeq, HiSeq2500, and MiSeq)\n",
      "params:\n",
      "  # read download\n",
      "  remote: just_single=False      # If True, just download read1 (if remote file)\n",
      "  # validation, conversion, subsampling\n",
      "  validate_reads: \"\"\n",
      "  convert_fastq_to_1.8: \"\"\n",
      "  seqtk_sample: Skip    # Use number to subsample reads (eg., 1000000)\n",
      "  fastqc_on_raw: \"\"\n",
      "  # de-duplication\n",
      "  clumpify: Skip #dedupe=t dupedist=2500 optical=t    # this will likely fail for remote (SRA) samples\n",
      "  fastqc_on_dedup: \"\"\n",
      "  # adapter removal & quality trimming/filtering\n",
      "  bbduk: ref=./adapters/bbmap_adapters.fa fastawrap=300 k=23\n",
      "  skewer: -x ./adapters/PE_all.fa -n -l 90 -q 25\n",
      "  fastqc_on_qual: \"\"\n",
      "  # removal of 'contaminant' reads\n",
      "  bbmap: minratio=0.9 maxindel=1 bwr=0.16 bw=12 fast minhits=2 qtrim=r trimq=10 untrim idtag printunmappedcount kfilter=25 maxsites=1 k=14 pairlen=1000 rescuedist=1000\n",
      "  ikraken2: /ebio/abt3_projects/databases_no-backup/kraken2/human_db/,/ebio/abt3_projects/databases_no-backup/kraken2/UniVec_Core_db/,/ebio/abt3_projects/databases_no-backup/kraken2/vertebrata_nt_db/,/ebio/abt3_projects/databases_no-backup/kraken2/protozoa_db/,/ebio/abt3_projects/databases_no-backup/kraken2/fungi_db/ --confidence 0.7\n",
      "  fastqc_on_filter: \"\"\n",
      "  # post-QC reads\n",
      "  fastqc_on_final: \"\"\n",
      "  # taxonomy\n",
      "  centrifuge: Skip\n",
      "  krona: Skip\n",
      "  # coverage\n",
      "  nonpareil: -T kmer\n",
      "  nonpareil_summary: 1e9   # this is target seq. depth\n",
      "  # master \"Skip\": reads combined then called \"final\" reads (skips all QC steps)\n",
      "  skip_all_QC: False\n",
      "\n",
      "#-- Databases --#\n",
      "## hg19 = human genome database for filtering out human reads\n",
      "filter_db: /ebio/abt3_projects/databases_no-backup/hg19/hg19\n",
      "# centrifuge db\n",
      "centrifuge_db: /ebio/abt3_projects/databases_no-backup/centrifuge/p+h+v\n",
      "# krona taxonomy db\n",
      "krona_tax_db: /ebio/abt3_projects/databases_no-backup/krona/taxonomy\n",
      "# kraken2 (see 'ikraken2' parameters)\n",
      "\n",
      "#-- Snakemake pipeline --#\n",
      "## To use /tmp/global2/, see http://ilm.eb.local/user-guide/#Scratch-space-on-_002ftmp_002fglobal2\n",
      "pipeline:\n",
      "  snakemake_folder: ./\n",
      "  script_folder: ./bin/scripts/\n",
      "  temp_folder: /tmp/global/    # your username will be added automatically to this path\n",
      "  run_skip_locally: True        # trivial \"skip\" steps run locally (not qsub)"
     ]
    }
   ],
   "source": [
    "cat_file(file.path(outdir, 'config.yaml'))"
   ]
  },
  {
   "cell_type": "markdown",
   "metadata": {},
   "source": [
    "### Run"
   ]
  },
  {
   "cell_type": "markdown",
   "metadata": {},
   "source": [
    "```\n",
    "(snakemake_dev) @ rick:/ebio/abt3_projects/vadinCA11/bin/llmgqc\n",
    "$ screen -L -S llmgqc-PRJNA485217 ./snakemake_sge.sh /ebio/abt3_projects/Georg_animal_feces/data/metagenome/multi-study/BioProjects/PRJNA485217/LLMGQC/config.yaml cluster.json /ebio/abt3_projects/Georg_animal_feces/data/metagenome/multi-study/BioProjects/PRJNA485217/LLMGQC/SGE_log/ 20\n",
    "```"
   ]
  },
  {
   "cell_type": "markdown",
   "metadata": {},
   "source": [
    "### Summary"
   ]
  },
  {
   "cell_type": "code",
   "execution_count": 55,
   "metadata": {
    "ExecuteTime": {
     "end_time": "2019-08-29T08:46:05.281739Z",
     "start_time": "2019-08-29T08:46:05.257Z"
    }
   },
   "outputs": [],
   "source": [
    "projectID = 'PRJNA485217'"
   ]
  },
  {
   "cell_type": "code",
   "execution_count": 56,
   "metadata": {
    "ExecuteTime": {
     "end_time": "2019-08-29T08:46:12.673209Z",
     "start_time": "2019-08-29T08:46:12.606Z"
    }
   },
   "outputs": [
    {
     "name": "stdout",
     "output_type": "stream",
     "text": [
      "[1] 38 20\n"
     ]
    },
    {
     "data": {
      "text/html": [
       "<table>\n",
       "<thead><tr><th scope=col>Sample</th><th scope=col>Filename</th><th scope=col>File.type</th><th scope=col>Encoding</th><th scope=col>Total.Sequences</th><th scope=col>Sequences.flagged.as.poor.quality</th><th scope=col>Sequence.length</th><th scope=col>X.GC</th><th scope=col>total_deduplicated_percentage</th><th scope=col>avg_sequence_length</th><th scope=col>basic_statistics</th><th scope=col>per_base_sequence_quality</th><th scope=col>per_sequence_quality_scores</th><th scope=col>per_base_sequence_content</th><th scope=col>per_sequence_gc_content</th><th scope=col>per_base_n_content</th><th scope=col>sequence_length_distribution</th><th scope=col>sequence_duplication_levels</th><th scope=col>overrepresented_sequences</th><th scope=col>adapter_content</th></tr></thead>\n",
       "<tbody>\n",
       "\t<tr><td>Cebus_capucinus_imitator_PRJNA485217_SSR007 | fastqc_per_sample | R1_final</td><td>R1_final.fq.gz                                                            </td><td>Conventional base calls                                                   </td><td>Sanger / Illumina 1.9                                                     </td><td>6307466                                                                   </td><td>0                                                                         </td><td>90-126                                                                    </td><td>52                                                                        </td><td>87.46016                                                                  </td><td>125.3802                                                                  </td><td>pass                                                                      </td><td>pass                                                                      </td><td>pass                                                                      </td><td>pass                                                                      </td><td>pass                                                                      </td><td>pass                                                                      </td><td>warn                                                                      </td><td>pass                                                                      </td><td>pass                                                                      </td><td>pass                                                                      </td></tr>\n",
       "\t<tr><td>Cebus_capucinus_imitator_PRJNA485217_SSR007 | fastqc_per_sample | R2_final</td><td>R2_final.fq.gz                                                            </td><td>Conventional base calls                                                   </td><td>Sanger / Illumina 1.9                                                     </td><td>6307466                                                                   </td><td>0                                                                         </td><td>90-126                                                                    </td><td>52                                                                        </td><td>87.75630                                                                  </td><td>125.2676                                                                  </td><td>pass                                                                      </td><td>pass                                                                      </td><td>pass                                                                      </td><td>pass                                                                      </td><td>pass                                                                      </td><td>pass                                                                      </td><td>warn                                                                      </td><td>pass                                                                      </td><td>pass                                                                      </td><td>pass                                                                      </td></tr>\n",
       "\t<tr><td>Cebus_capucinus_imitator_PRJNA485217_SSR012 | fastqc_per_sample | R1_final</td><td>R1_final.fq.gz                                                            </td><td>Conventional base calls                                                   </td><td>Sanger / Illumina 1.9                                                     </td><td>5481860                                                                   </td><td>0                                                                         </td><td>90-126                                                                    </td><td>49                                                                        </td><td>88.82229                                                                  </td><td>123.3990                                                                  </td><td>pass                                                                      </td><td>pass                                                                      </td><td>pass                                                                      </td><td>warn                                                                      </td><td>fail                                                                      </td><td>pass                                                                      </td><td>warn                                                                      </td><td>pass                                                                      </td><td>pass                                                                      </td><td>pass                                                                      </td></tr>\n",
       "</tbody>\n",
       "</table>\n"
      ],
      "text/latex": [
       "\\begin{tabular}{r|llllllllllllllllllll}\n",
       " Sample & Filename & File.type & Encoding & Total.Sequences & Sequences.flagged.as.poor.quality & Sequence.length & X.GC & total\\_deduplicated\\_percentage & avg\\_sequence\\_length & basic\\_statistics & per\\_base\\_sequence\\_quality & per\\_sequence\\_quality\\_scores & per\\_base\\_sequence\\_content & per\\_sequence\\_gc\\_content & per\\_base\\_n\\_content & sequence\\_length\\_distribution & sequence\\_duplication\\_levels & overrepresented\\_sequences & adapter\\_content\\\\\n",
       "\\hline\n",
       "\t Cebus\\_capucinus\\_imitator\\_PRJNA485217\\_SSR007 \\textbar{} fastqc\\_per\\_sample \\textbar{} R1\\_final & R1\\_final.fq.gz                                                                                             & Conventional base calls                                                                                      & Sanger / Illumina 1.9                                                                                        & 6307466                                                                                                      & 0                                                                                                            & 90-126                                                                                                       & 52                                                                                                           & 87.46016                                                                                                     & 125.3802                                                                                                     & pass                                                                                                         & pass                                                                                                         & pass                                                                                                         & pass                                                                                                         & pass                                                                                                         & pass                                                                                                         & warn                                                                                                         & pass                                                                                                         & pass                                                                                                         & pass                                                                                                        \\\\\n",
       "\t Cebus\\_capucinus\\_imitator\\_PRJNA485217\\_SSR007 \\textbar{} fastqc\\_per\\_sample \\textbar{} R2\\_final & R2\\_final.fq.gz                                                                                             & Conventional base calls                                                                                      & Sanger / Illumina 1.9                                                                                        & 6307466                                                                                                      & 0                                                                                                            & 90-126                                                                                                       & 52                                                                                                           & 87.75630                                                                                                     & 125.2676                                                                                                     & pass                                                                                                         & pass                                                                                                         & pass                                                                                                         & pass                                                                                                         & pass                                                                                                         & pass                                                                                                         & warn                                                                                                         & pass                                                                                                         & pass                                                                                                         & pass                                                                                                        \\\\\n",
       "\t Cebus\\_capucinus\\_imitator\\_PRJNA485217\\_SSR012 \\textbar{} fastqc\\_per\\_sample \\textbar{} R1\\_final & R1\\_final.fq.gz                                                                                             & Conventional base calls                                                                                      & Sanger / Illumina 1.9                                                                                        & 5481860                                                                                                      & 0                                                                                                            & 90-126                                                                                                       & 49                                                                                                           & 88.82229                                                                                                     & 123.3990                                                                                                     & pass                                                                                                         & pass                                                                                                         & pass                                                                                                         & warn                                                                                                         & fail                                                                                                         & pass                                                                                                         & warn                                                                                                         & pass                                                                                                         & pass                                                                                                         & pass                                                                                                        \\\\\n",
       "\\end{tabular}\n"
      ],
      "text/markdown": [
       "\n",
       "Sample | Filename | File.type | Encoding | Total.Sequences | Sequences.flagged.as.poor.quality | Sequence.length | X.GC | total_deduplicated_percentage | avg_sequence_length | basic_statistics | per_base_sequence_quality | per_sequence_quality_scores | per_base_sequence_content | per_sequence_gc_content | per_base_n_content | sequence_length_distribution | sequence_duplication_levels | overrepresented_sequences | adapter_content | \n",
       "|---|---|---|\n",
       "| Cebus_capucinus_imitator_PRJNA485217_SSR007 | fastqc_per_sample | R1_final | R1_final.fq.gz                                                             | Conventional base calls                                                    | Sanger / Illumina 1.9                                                      | 6307466                                                                    | 0                                                                          | 90-126                                                                     | 52                                                                         | 87.46016                                                                   | 125.3802                                                                   | pass                                                                       | pass                                                                       | pass                                                                       | pass                                                                       | pass                                                                       | pass                                                                       | warn                                                                       | pass                                                                       | pass                                                                       | pass                                                                       | \n",
       "| Cebus_capucinus_imitator_PRJNA485217_SSR007 | fastqc_per_sample | R2_final | R2_final.fq.gz                                                             | Conventional base calls                                                    | Sanger / Illumina 1.9                                                      | 6307466                                                                    | 0                                                                          | 90-126                                                                     | 52                                                                         | 87.75630                                                                   | 125.2676                                                                   | pass                                                                       | pass                                                                       | pass                                                                       | pass                                                                       | pass                                                                       | pass                                                                       | warn                                                                       | pass                                                                       | pass                                                                       | pass                                                                       | \n",
       "| Cebus_capucinus_imitator_PRJNA485217_SSR012 | fastqc_per_sample | R1_final | R1_final.fq.gz                                                             | Conventional base calls                                                    | Sanger / Illumina 1.9                                                      | 5481860                                                                    | 0                                                                          | 90-126                                                                     | 49                                                                         | 88.82229                                                                   | 123.3990                                                                   | pass                                                                       | pass                                                                       | pass                                                                       | warn                                                                       | fail                                                                       | pass                                                                       | warn                                                                       | pass                                                                       | pass                                                                       | pass                                                                       | \n",
       "\n",
       "\n"
      ],
      "text/plain": [
       "  Sample                                                                    \n",
       "1 Cebus_capucinus_imitator_PRJNA485217_SSR007 | fastqc_per_sample | R1_final\n",
       "2 Cebus_capucinus_imitator_PRJNA485217_SSR007 | fastqc_per_sample | R2_final\n",
       "3 Cebus_capucinus_imitator_PRJNA485217_SSR012 | fastqc_per_sample | R1_final\n",
       "  Filename       File.type               Encoding              Total.Sequences\n",
       "1 R1_final.fq.gz Conventional base calls Sanger / Illumina 1.9 6307466        \n",
       "2 R2_final.fq.gz Conventional base calls Sanger / Illumina 1.9 6307466        \n",
       "3 R1_final.fq.gz Conventional base calls Sanger / Illumina 1.9 5481860        \n",
       "  Sequences.flagged.as.poor.quality Sequence.length X.GC\n",
       "1 0                                 90-126          52  \n",
       "2 0                                 90-126          52  \n",
       "3 0                                 90-126          49  \n",
       "  total_deduplicated_percentage avg_sequence_length basic_statistics\n",
       "1 87.46016                      125.3802            pass            \n",
       "2 87.75630                      125.2676            pass            \n",
       "3 88.82229                      123.3990            pass            \n",
       "  per_base_sequence_quality per_sequence_quality_scores\n",
       "1 pass                      pass                       \n",
       "2 pass                      pass                       \n",
       "3 pass                      pass                       \n",
       "  per_base_sequence_content per_sequence_gc_content per_base_n_content\n",
       "1 pass                      pass                    pass              \n",
       "2 pass                      pass                    pass              \n",
       "3 warn                      fail                    pass              \n",
       "  sequence_length_distribution sequence_duplication_levels\n",
       "1 warn                         pass                       \n",
       "2 warn                         pass                       \n",
       "3 warn                         pass                       \n",
       "  overrepresented_sequences adapter_content\n",
       "1 pass                      pass           \n",
       "2 pass                      pass           \n",
       "3 pass                      pass           "
      ]
     },
     "metadata": {},
     "output_type": "display_data"
    }
   ],
   "source": [
    "F = file.path(work_dir, projectID, 'LLMGQC', 'reports', 'multiqc-final', 'multiqc_data', 'multiqc_fastqc.txt')\n",
    "fastqc = read.delim(F, sep='\\t')\n",
    "fastqc %>% dfhead"
   ]
  },
  {
   "cell_type": "code",
   "execution_count": 57,
   "metadata": {
    "ExecuteTime": {
     "end_time": "2019-08-29T08:46:19.749613Z",
     "start_time": "2019-08-29T08:46:19.712Z"
    }
   },
   "outputs": [
    {
     "data": {
      "text/plain": [
       " Total.Sequences   avg_sequence_length\n",
       " Min.   :4385654   Min.   :123.4      \n",
       " 1st Qu.:5573106   1st Qu.:124.6      \n",
       " Median :6387158   Median :125.0      \n",
       " Mean   :6344394   Mean   :124.8      \n",
       " 3rd Qu.:6734097   3rd Qu.:125.0      \n",
       " Max.   :8008710   Max.   :125.4      "
      ]
     },
     "metadata": {},
     "output_type": "display_data"
    }
   ],
   "source": [
    "fastqc %>% \n",
    "    filter(Filename == 'R1_final.fq.gz') %>%\n",
    "    dplyr::select(Total.Sequences, avg_sequence_length) %>% \n",
    "    summary"
   ]
  },
  {
   "cell_type": "markdown",
   "metadata": {},
   "source": [
    "## PRJNA532626\n",
    "\n",
    "* host = Black rhinoceros\n",
    "* n = 25\n",
    "* avg. read length = 290"
   ]
  },
  {
   "cell_type": "code",
   "execution_count": 58,
   "metadata": {
    "ExecuteTime": {
     "end_time": "2019-08-29T08:46:51.497699Z",
     "start_time": "2019-08-29T08:46:51.470Z"
    }
   },
   "outputs": [],
   "source": [
    "projectID = 'PRJNA532626'"
   ]
  },
  {
   "cell_type": "code",
   "execution_count": 60,
   "metadata": {
    "ExecuteTime": {
     "end_time": "2019-08-29T08:47:01.771622Z",
     "start_time": "2019-08-29T08:47:01.741Z"
    }
   },
   "outputs": [
    {
     "name": "stdout",
     "output_type": "stream",
     "text": [
      "Directory already exists: /ebio/abt3_projects/Georg_animal_feces/data/metagenome/multi-study/BioProjects//PRJNA532626/LLMGQC \n"
     ]
    }
   ],
   "source": [
    "outdir = file.path(work_dir, projectID, 'LLMGQC')\n",
    "make_dir(outdir)"
   ]
  },
  {
   "cell_type": "code",
   "execution_count": 61,
   "metadata": {
    "ExecuteTime": {
     "end_time": "2019-08-29T09:03:42.868081Z",
     "start_time": "2019-08-29T09:03:42.832Z"
    }
   },
   "outputs": [
    {
     "name": "stdout",
     "output_type": "stream",
     "text": [
      "#-- I/O --#\n",
      "# table with sample --> read_file information\n",
      "samples_file: /ebio/abt3_projects/Georg_animal_feces/data/metagenome/multi-study/BioProjects/PRJNA532626/samples.txt\n",
      "\n",
      "# output location\n",
      "output_dir: /ebio/abt3_projects/Georg_animal_feces/data/metagenome/multi-study/BioProjects/PRJNA532626/LLMGQC/\n",
      "\n",
      "# read file path\n",
      "# use \"None\" if full file path is included in the samples_file\n",
      "read_file_path: None\n",
      "\n",
      "#-- Software parameters --#\n",
      "# Use \"Skip\" to skip any of these steps. If no params for rule, use \"\"\n",
      "# `clumpify`: change dupedist if not HiSeq3000/4000 (dupedist=40 for NextSeq, HiSeq2500, and MiSeq)\n",
      "params:\n",
      "  # read download\n",
      "  remote: just_single=False      # If True, just download read1 (if remote file)\n",
      "  # validation, conversion, subsampling\n",
      "  validate_reads: \"\"\n",
      "  convert_fastq_to_1.8: \"\"\n",
      "  seqtk_sample: Skip    # Use number to subsample reads (eg., 1000000)\n",
      "  fastqc_on_raw: \"\"\n",
      "  # de-duplication\n",
      "  clumpify: Skip #dedupe=t dupedist=2500 optical=t    # this will likely fail for remote (SRA) samples\n",
      "  fastqc_on_dedup: \"\"\n",
      "  # adapter removal & quality trimming/filtering\n",
      "  bbduk: ref=./adapters/bbmap_adapters.fa fastawrap=300 k=23\n",
      "  skewer: -x ./adapters/PE_all.fa -n -l 90 -q 25\n",
      "  fastqc_on_qual: \"\"\n",
      "  # removal of 'contaminant' reads\n",
      "  bbmap: minratio=0.9 maxindel=1 bwr=0.16 bw=12 fast minhits=2 qtrim=r trimq=10 untrim idtag printunmappedcount kfilter=25 maxsites=1 k=14 pairlen=1000 rescuedist=1000\n",
      "  ikraken2: /ebio/abt3_projects/databases_no-backup/kraken2/human_db/,/ebio/abt3_projects/databases_no-backup/kraken2/UniVec_Core_db/,/ebio/abt3_projects/databases_no-backup/kraken2/vertebrata_nt_db/,/ebio/abt3_projects/databases_no-backup/kraken2/protozoa_db/,/ebio/abt3_projects/databases_no-backup/kraken2/fungi_db/ --confidence 0.7\n",
      "  fastqc_on_filter: \"\"\n",
      "  # post-QC reads\n",
      "  fastqc_on_final: \"\"\n",
      "  # taxonomy\n",
      "  centrifuge: Skip\n",
      "  krona: Skip\n",
      "  # coverage\n",
      "  nonpareil: -T kmer\n",
      "  nonpareil_summary: 1e9   # this is target seq. depth\n",
      "  # master \"Skip\": reads combined then called \"final\" reads (skips all QC steps)\n",
      "  skip_all_QC: False\n",
      "\n",
      "#-- Databases --#\n",
      "## hg19 = human genome database for filtering out human reads\n",
      "filter_db: /ebio/abt3_projects/databases_no-backup/hg19/hg19\n",
      "# centrifuge db\n",
      "centrifuge_db: /ebio/abt3_projects/databases_no-backup/centrifuge/p+h+v\n",
      "# krona taxonomy db\n",
      "krona_tax_db: /ebio/abt3_projects/databases_no-backup/krona/taxonomy\n",
      "# kraken2 (see 'ikraken2' parameters)\n",
      "\n",
      "#-- Snakemake pipeline --#\n",
      "## To use /tmp/global2/, see http://ilm.eb.local/user-guide/#Scratch-space-on-_002ftmp_002fglobal2\n",
      "pipeline:\n",
      "  snakemake_folder: ./\n",
      "  script_folder: ./bin/scripts/\n",
      "  temp_folder: /tmp/global/    # your username will be added automatically to this path\n",
      "  run_skip_locally: True        # trivial \"skip\" steps run locally (not qsub)"
     ]
    }
   ],
   "source": [
    "cat_file(file.path(outdir, 'config.yaml'))"
   ]
  },
  {
   "cell_type": "markdown",
   "metadata": {},
   "source": [
    "### Run"
   ]
  },
  {
   "cell_type": "markdown",
   "metadata": {},
   "source": [
    "```\n",
    "(snakemake_dev) @ rick:/ebio/abt3_projects/vadinCA11/bin/llmgqc\n",
    "$ screen -L -S llmgqc-PRJNA532626 ./snakemake_sge.sh /ebio/abt3_projects/Georg_animal_feces/data/metagenome/multi-study/BioProjects/PRJNA532626/LLMGQC/config.yaml cluster.json /ebio/abt3_projects/Georg_animal_feces/data/metagenome/multi-study/BioProjects/PRJNA532626/LLMGQC/SGE_log/ 20\n",
    "```"
   ]
  },
  {
   "cell_type": "markdown",
   "metadata": {},
   "source": [
    "### Summary"
   ]
  },
  {
   "cell_type": "code",
   "execution_count": 62,
   "metadata": {
    "ExecuteTime": {
     "end_time": "2019-08-30T06:48:06.496428Z",
     "start_time": "2019-08-30T06:48:06.464Z"
    }
   },
   "outputs": [],
   "source": [
    "projectID = 'PRJNA532626'"
   ]
  },
  {
   "cell_type": "code",
   "execution_count": 64,
   "metadata": {
    "ExecuteTime": {
     "end_time": "2019-08-30T06:48:23.710662Z",
     "start_time": "2019-08-30T06:48:23.630Z"
    }
   },
   "outputs": [
    {
     "name": "stdout",
     "output_type": "stream",
     "text": [
      "[1] 50 20\n"
     ]
    },
    {
     "data": {
      "text/html": [
       "<table>\n",
       "<thead><tr><th scope=col>Sample</th><th scope=col>Filename</th><th scope=col>File.type</th><th scope=col>Encoding</th><th scope=col>Total.Sequences</th><th scope=col>Sequences.flagged.as.poor.quality</th><th scope=col>Sequence.length</th><th scope=col>X.GC</th><th scope=col>total_deduplicated_percentage</th><th scope=col>avg_sequence_length</th><th scope=col>basic_statistics</th><th scope=col>per_base_sequence_quality</th><th scope=col>per_sequence_quality_scores</th><th scope=col>per_base_sequence_content</th><th scope=col>per_sequence_gc_content</th><th scope=col>per_base_n_content</th><th scope=col>sequence_length_distribution</th><th scope=col>sequence_duplication_levels</th><th scope=col>overrepresented_sequences</th><th scope=col>adapter_content</th></tr></thead>\n",
       "<tbody>\n",
       "\t<tr><td>R01 | fastqc_per_sample | R1_final</td><td>R1_final.fq.gz                    </td><td>Conventional base calls           </td><td>Sanger / Illumina 1.9             </td><td>16152672                          </td><td>0                                 </td><td>90-150                            </td><td>48                                </td><td>92.32873                          </td><td>147.4574                          </td><td>pass                              </td><td>pass                              </td><td>pass                              </td><td>fail                              </td><td>pass                              </td><td>pass                              </td><td>warn                              </td><td>pass                              </td><td>pass                              </td><td>pass                              </td></tr>\n",
       "\t<tr><td>R01 | fastqc_per_sample | R2_final</td><td>R2_final.fq.gz                    </td><td>Conventional base calls           </td><td>Sanger / Illumina 1.9             </td><td>16152672                          </td><td>0                                 </td><td>90-150                            </td><td>48                                </td><td>92.32873                          </td><td>147.4574                          </td><td>pass                              </td><td>pass                              </td><td>pass                              </td><td>fail                              </td><td>pass                              </td><td>pass                              </td><td>warn                              </td><td>pass                              </td><td>pass                              </td><td>pass                              </td></tr>\n",
       "\t<tr><td>R02 | fastqc_per_sample | R1_final</td><td>R1_final.fq.gz                    </td><td>Conventional base calls           </td><td>Sanger / Illumina 1.9             </td><td>18542644                          </td><td>0                                 </td><td>90-150                            </td><td>46                                </td><td>89.26856                          </td><td>147.4870                          </td><td>pass                              </td><td>pass                              </td><td>pass                              </td><td>fail                              </td><td>pass                              </td><td>pass                              </td><td>warn                              </td><td>pass                              </td><td>pass                              </td><td>pass                              </td></tr>\n",
       "</tbody>\n",
       "</table>\n"
      ],
      "text/latex": [
       "\\begin{tabular}{r|llllllllllllllllllll}\n",
       " Sample & Filename & File.type & Encoding & Total.Sequences & Sequences.flagged.as.poor.quality & Sequence.length & X.GC & total\\_deduplicated\\_percentage & avg\\_sequence\\_length & basic\\_statistics & per\\_base\\_sequence\\_quality & per\\_sequence\\_quality\\_scores & per\\_base\\_sequence\\_content & per\\_sequence\\_gc\\_content & per\\_base\\_n\\_content & sequence\\_length\\_distribution & sequence\\_duplication\\_levels & overrepresented\\_sequences & adapter\\_content\\\\\n",
       "\\hline\n",
       "\t R01 \\textbar{} fastqc\\_per\\_sample \\textbar{} R1\\_final & R1\\_final.fq.gz                                             & Conventional base calls                                      & Sanger / Illumina 1.9                                        & 16152672                                                     & 0                                                            & 90-150                                                       & 48                                                           & 92.32873                                                     & 147.4574                                                     & pass                                                         & pass                                                         & pass                                                         & fail                                                         & pass                                                         & pass                                                         & warn                                                         & pass                                                         & pass                                                         & pass                                                        \\\\\n",
       "\t R01 \\textbar{} fastqc\\_per\\_sample \\textbar{} R2\\_final & R2\\_final.fq.gz                                             & Conventional base calls                                      & Sanger / Illumina 1.9                                        & 16152672                                                     & 0                                                            & 90-150                                                       & 48                                                           & 92.32873                                                     & 147.4574                                                     & pass                                                         & pass                                                         & pass                                                         & fail                                                         & pass                                                         & pass                                                         & warn                                                         & pass                                                         & pass                                                         & pass                                                        \\\\\n",
       "\t R02 \\textbar{} fastqc\\_per\\_sample \\textbar{} R1\\_final & R1\\_final.fq.gz                                             & Conventional base calls                                      & Sanger / Illumina 1.9                                        & 18542644                                                     & 0                                                            & 90-150                                                       & 46                                                           & 89.26856                                                     & 147.4870                                                     & pass                                                         & pass                                                         & pass                                                         & fail                                                         & pass                                                         & pass                                                         & warn                                                         & pass                                                         & pass                                                         & pass                                                        \\\\\n",
       "\\end{tabular}\n"
      ],
      "text/markdown": [
       "\n",
       "Sample | Filename | File.type | Encoding | Total.Sequences | Sequences.flagged.as.poor.quality | Sequence.length | X.GC | total_deduplicated_percentage | avg_sequence_length | basic_statistics | per_base_sequence_quality | per_sequence_quality_scores | per_base_sequence_content | per_sequence_gc_content | per_base_n_content | sequence_length_distribution | sequence_duplication_levels | overrepresented_sequences | adapter_content | \n",
       "|---|---|---|\n",
       "| R01 | fastqc_per_sample | R1_final | R1_final.fq.gz                     | Conventional base calls            | Sanger / Illumina 1.9              | 16152672                           | 0                                  | 90-150                             | 48                                 | 92.32873                           | 147.4574                           | pass                               | pass                               | pass                               | fail                               | pass                               | pass                               | warn                               | pass                               | pass                               | pass                               | \n",
       "| R01 | fastqc_per_sample | R2_final | R2_final.fq.gz                     | Conventional base calls            | Sanger / Illumina 1.9              | 16152672                           | 0                                  | 90-150                             | 48                                 | 92.32873                           | 147.4574                           | pass                               | pass                               | pass                               | fail                               | pass                               | pass                               | warn                               | pass                               | pass                               | pass                               | \n",
       "| R02 | fastqc_per_sample | R1_final | R1_final.fq.gz                     | Conventional base calls            | Sanger / Illumina 1.9              | 18542644                           | 0                                  | 90-150                             | 46                                 | 89.26856                           | 147.4870                           | pass                               | pass                               | pass                               | fail                               | pass                               | pass                               | warn                               | pass                               | pass                               | pass                               | \n",
       "\n",
       "\n"
      ],
      "text/plain": [
       "  Sample                             Filename       File.type              \n",
       "1 R01 | fastqc_per_sample | R1_final R1_final.fq.gz Conventional base calls\n",
       "2 R01 | fastqc_per_sample | R2_final R2_final.fq.gz Conventional base calls\n",
       "3 R02 | fastqc_per_sample | R1_final R1_final.fq.gz Conventional base calls\n",
       "  Encoding              Total.Sequences Sequences.flagged.as.poor.quality\n",
       "1 Sanger / Illumina 1.9 16152672        0                                \n",
       "2 Sanger / Illumina 1.9 16152672        0                                \n",
       "3 Sanger / Illumina 1.9 18542644        0                                \n",
       "  Sequence.length X.GC total_deduplicated_percentage avg_sequence_length\n",
       "1 90-150          48   92.32873                      147.4574           \n",
       "2 90-150          48   92.32873                      147.4574           \n",
       "3 90-150          46   89.26856                      147.4870           \n",
       "  basic_statistics per_base_sequence_quality per_sequence_quality_scores\n",
       "1 pass             pass                      pass                       \n",
       "2 pass             pass                      pass                       \n",
       "3 pass             pass                      pass                       \n",
       "  per_base_sequence_content per_sequence_gc_content per_base_n_content\n",
       "1 fail                      pass                    pass              \n",
       "2 fail                      pass                    pass              \n",
       "3 fail                      pass                    pass              \n",
       "  sequence_length_distribution sequence_duplication_levels\n",
       "1 warn                         pass                       \n",
       "2 warn                         pass                       \n",
       "3 warn                         pass                       \n",
       "  overrepresented_sequences adapter_content\n",
       "1 pass                      pass           \n",
       "2 pass                      pass           \n",
       "3 pass                      pass           "
      ]
     },
     "metadata": {},
     "output_type": "display_data"
    }
   ],
   "source": [
    "F = file.path(work_dir, projectID, 'LLMGQC', 'reports', 'multiqc-final', 'multiqc_data', 'multiqc_fastqc.txt')\n",
    "fastqc = read.delim(F, sep='\\t')\n",
    "fastqc %>% dfhead"
   ]
  },
  {
   "cell_type": "code",
   "execution_count": 65,
   "metadata": {
    "ExecuteTime": {
     "end_time": "2019-08-30T06:48:30.834559Z",
     "start_time": "2019-08-30T06:48:30.794Z"
    }
   },
   "outputs": [
    {
     "data": {
      "text/plain": [
       " Total.Sequences    avg_sequence_length\n",
       " Min.   : 6782502   Min.   :141.9      \n",
       " 1st Qu.: 9975355   1st Qu.:146.3      \n",
       " Median :11410826   Median :146.9      \n",
       " Mean   :12299509   Mean   :146.4      \n",
       " 3rd Qu.:14608744   3rd Qu.:147.3      \n",
       " Max.   :18565738   Max.   :147.5      "
      ]
     },
     "metadata": {},
     "output_type": "display_data"
    }
   ],
   "source": [
    "fastqc %>% \n",
    "    filter(Filename == 'R1_final.fq.gz') %>%\n",
    "    dplyr::select(Total.Sequences, avg_sequence_length) %>% \n",
    "    summary"
   ]
  },
  {
   "cell_type": "markdown",
   "metadata": {},
   "source": [
    "## PRJEB22765\n",
    "\n",
    "* host = Macaque (Macaca fascicularis)\n",
    "* n = 20"
   ]
  },
  {
   "cell_type": "code",
   "execution_count": 69,
   "metadata": {
    "ExecuteTime": {
     "end_time": "2019-09-02T18:20:19.911503Z",
     "start_time": "2019-09-02T18:20:19.878Z"
    }
   },
   "outputs": [],
   "source": [
    "projectID = 'PRJEB22765'"
   ]
  },
  {
   "cell_type": "code",
   "execution_count": 70,
   "metadata": {
    "ExecuteTime": {
     "end_time": "2019-09-02T18:20:27.534713Z",
     "start_time": "2019-09-02T18:20:27.491Z"
    }
   },
   "outputs": [
    {
     "name": "stdout",
     "output_type": "stream",
     "text": [
      "Created directory: /ebio/abt3_projects/Georg_animal_feces/data/metagenome/multi-study/BioProjects//PRJEB22765/LLMGQC \n"
     ]
    }
   ],
   "source": [
    "outdir = file.path(work_dir, projectID, 'LLMGQC')\n",
    "make_dir(outdir)"
   ]
  },
  {
   "cell_type": "code",
   "execution_count": 72,
   "metadata": {
    "ExecuteTime": {
     "end_time": "2019-09-02T18:21:51.425794Z",
     "start_time": "2019-09-02T18:21:51.380Z"
    }
   },
   "outputs": [
    {
     "name": "stdout",
     "output_type": "stream",
     "text": [
      "#-- I/O --#\n",
      "# table with sample --> read_file information\n",
      "samples_file: /ebio/abt3_projects/Georg_animal_feces/data/metagenome/multi-study/BioProjects/PRJEB22765/samples.txt\n",
      "\n",
      "# output location\n",
      "output_dir: /ebio/abt3_projects/Georg_animal_feces/data/metagenome/multi-study/BioProjects/PRJEB22765/LLMGQC/\n",
      "\n",
      "# read file path\n",
      "# use \"None\" if full file path is included in the samples_file\n",
      "read_file_path: None\n",
      "\n",
      "#-- Software parameters --#\n",
      "# Use \"Skip\" to skip any of these steps. If no params for rule, use \"\"\n",
      "# `clumpify`: change dupedist if not HiSeq3000/4000 (dupedist=40 for NextSeq, HiSeq2500, and MiSeq)\n",
      "params:\n",
      "  # read download\n",
      "  remote: just_single=False      # If True, just download read1 (if remote file)\n",
      "  # validation, conversion, subsampling\n",
      "  validate_reads: \"\"\n",
      "  convert_fastq_to_1.8: \"\"\n",
      "  seqtk_sample: Skip    # Use number to subsample reads (eg., 1000000)\n",
      "  fastqc_on_raw: \"\"\n",
      "  # de-duplication\n",
      "  clumpify: Skip #dedupe=t dupedist=2500 optical=t    # this will likely fail for remote (SRA) samples\n",
      "  fastqc_on_dedup: \"\"\n",
      "  # adapter removal & quality trimming/filtering\n",
      "  bbduk: ref=./adapters/bbmap_adapters.fa fastawrap=300 k=23\n",
      "  skewer: -x ./adapters/PE_all.fa -n -l 90 -q 25\n",
      "  fastqc_on_qual: \"\"\n",
      "  # removal of 'contaminant' reads\n",
      "  bbmap: minratio=0.9 maxindel=1 bwr=0.16 bw=12 fast minhits=2 qtrim=r trimq=10 untrim idtag printunmappedcount kfilter=25 maxsites=1 k=14 pairlen=1000 rescuedist=1000\n",
      "  ikraken2: /ebio/abt3_projects/databases_no-backup/kraken2/human_db/,/ebio/abt3_projects/databases_no-backup/kraken2/UniVec_Core_db/,/ebio/abt3_projects/databases_no-backup/kraken2/vertebrata_nt_db/,/ebio/abt3_projects/databases_no-backup/kraken2/protozoa_db/,/ebio/abt3_projects/databases_no-backup/kraken2/fungi_db/ --confidence 0.7\n",
      "  fastqc_on_filter: \"\"\n",
      "  # post-QC reads\n",
      "  fastqc_on_final: \"\"\n",
      "  # taxonomy\n",
      "  centrifuge: Skip\n",
      "  krona: Skip\n",
      "  # coverage\n",
      "  nonpareil: -T kmer\n",
      "  nonpareil_summary: 1e9   # this is target seq. depth\n",
      "  # master \"Skip\": reads combined then called \"final\" reads (skips all QC steps)\n",
      "  skip_all_QC: False\n",
      "\n",
      "#-- Databases --#\n",
      "## hg19 = human genome database for filtering out human reads\n",
      "filter_db: /ebio/abt3_projects/databases_no-backup/hg19/hg19\n",
      "# centrifuge db\n",
      "centrifuge_db: /ebio/abt3_projects/databases_no-backup/centrifuge/p+h+v\n",
      "# krona taxonomy db\n",
      "krona_tax_db: /ebio/abt3_projects/databases_no-backup/krona/taxonomy\n",
      "# kraken2 (see 'ikraken2' parameters)\n",
      "\n",
      "#-- Snakemake pipeline --#\n",
      "## To use /tmp/global2/, see http://ilm.eb.local/user-guide/#Scratch-space-on-_002ftmp_002fglobal2\n",
      "pipeline:\n",
      "  snakemake_folder: ./\n",
      "  script_folder: ./bin/scripts/\n",
      "  temp_folder: /tmp/global/    # your username will be added automatically to this path\n",
      "  run_skip_locally: True        # trivial \"skip\" steps run locally (not qsub)"
     ]
    }
   ],
   "source": [
    "cat_file(file.path(outdir, 'config.yaml'))"
   ]
  },
  {
   "cell_type": "markdown",
   "metadata": {},
   "source": [
    "### Run"
   ]
  },
  {
   "cell_type": "markdown",
   "metadata": {},
   "source": [
    "```\n",
    "(snakemake_dev) @ rick:/ebio/abt3_projects/methanogen_host_evo/bin/llmgqc\n",
    "$ screen -L -S llmgqc-PRJEB22765 ./snakemake_sge.sh /ebio/abt3_projects/Georg_animal_feces/data/metagenome/multi-study/BioProjects/PRJEB22765/LLMGQC/config.yaml cluster.json /ebio/abt3_projects/Georg_animal_feces/data/metagenome/multi-study/BioProjects/PRJEB22765/LLMGQC/SGE_log/ 20\n",
    "```"
   ]
  },
  {
   "cell_type": "markdown",
   "metadata": {},
   "source": [
    "### Summary"
   ]
  },
  {
   "cell_type": "code",
   "execution_count": 73,
   "metadata": {
    "ExecuteTime": {
     "end_time": "2019-09-03T12:17:37.169514Z",
     "start_time": "2019-09-03T12:17:37.145Z"
    }
   },
   "outputs": [],
   "source": [
    "projectID = 'PRJEB22765'"
   ]
  },
  {
   "cell_type": "code",
   "execution_count": 74,
   "metadata": {
    "ExecuteTime": {
     "end_time": "2019-09-03T12:17:43.418960Z",
     "start_time": "2019-09-03T12:17:43.335Z"
    }
   },
   "outputs": [
    {
     "name": "stdout",
     "output_type": "stream",
     "text": [
      "[1] 40 21\n"
     ]
    },
    {
     "data": {
      "text/html": [
       "<table>\n",
       "<thead><tr><th scope=col>Sample</th><th scope=col>Filename</th><th scope=col>File.type</th><th scope=col>Encoding</th><th scope=col>Total.Sequences</th><th scope=col>Sequences.flagged.as.poor.quality</th><th scope=col>Sequence.length</th><th scope=col>X.GC</th><th scope=col>total_deduplicated_percentage</th><th scope=col>avg_sequence_length</th><th scope=col>⋯</th><th scope=col>per_base_sequence_quality</th><th scope=col>per_tile_sequence_quality</th><th scope=col>per_sequence_quality_scores</th><th scope=col>per_base_sequence_content</th><th scope=col>per_sequence_gc_content</th><th scope=col>per_base_n_content</th><th scope=col>sequence_length_distribution</th><th scope=col>sequence_duplication_levels</th><th scope=col>overrepresented_sequences</th><th scope=col>adapter_content</th></tr></thead>\n",
       "<tbody>\n",
       "\t<tr><td>SAMEA104315420 | fastqc_per_sample | R1_final</td><td>R1_final.fq.gz                               </td><td>Conventional base calls                      </td><td>Sanger / Illumina 1.9                        </td><td>29900443                                     </td><td>0                                            </td><td>90-95                                        </td><td>47                                           </td><td>93.50983                                     </td><td>94.86005                                     </td><td>⋯                                            </td><td>pass                                         </td><td>warn                                         </td><td>pass                                         </td><td>pass                                         </td><td>pass                                         </td><td>pass                                         </td><td>warn                                         </td><td>pass                                         </td><td>pass                                         </td><td>pass                                         </td></tr>\n",
       "\t<tr><td>SAMEA104315420 | fastqc_per_sample | R2_final</td><td>R2_final.fq.gz                               </td><td>Conventional base calls                      </td><td>Sanger / Illumina 1.9                        </td><td>29900443                                     </td><td>0                                            </td><td>90-95                                        </td><td>47                                           </td><td>93.68126                                     </td><td>94.81615                                     </td><td>⋯                                            </td><td>pass                                         </td><td>warn                                         </td><td>pass                                         </td><td>pass                                         </td><td>pass                                         </td><td>pass                                         </td><td>warn                                         </td><td>pass                                         </td><td>pass                                         </td><td>pass                                         </td></tr>\n",
       "\t<tr><td>SAMEA104315421 | fastqc_per_sample | R1_final</td><td>R1_final.fq.gz                               </td><td>Conventional base calls                      </td><td>Sanger / Illumina 1.9                        </td><td>27198790                                     </td><td>0                                            </td><td>90-95                                        </td><td>46                                           </td><td>95.65863                                     </td><td>94.87778                                     </td><td>⋯                                            </td><td>pass                                         </td><td>warn                                         </td><td>pass                                         </td><td>pass                                         </td><td>pass                                         </td><td>pass                                         </td><td>warn                                         </td><td>pass                                         </td><td>pass                                         </td><td>pass                                         </td></tr>\n",
       "</tbody>\n",
       "</table>\n"
      ],
      "text/latex": [
       "\\begin{tabular}{r|lllllllllllllllllllll}\n",
       " Sample & Filename & File.type & Encoding & Total.Sequences & Sequences.flagged.as.poor.quality & Sequence.length & X.GC & total\\_deduplicated\\_percentage & avg\\_sequence\\_length & ⋯ & per\\_base\\_sequence\\_quality & per\\_tile\\_sequence\\_quality & per\\_sequence\\_quality\\_scores & per\\_base\\_sequence\\_content & per\\_sequence\\_gc\\_content & per\\_base\\_n\\_content & sequence\\_length\\_distribution & sequence\\_duplication\\_levels & overrepresented\\_sequences & adapter\\_content\\\\\n",
       "\\hline\n",
       "\t SAMEA104315420 \\textbar{} fastqc\\_per\\_sample \\textbar{} R1\\_final & R1\\_final.fq.gz                                                        & Conventional base calls                                                 & Sanger / Illumina 1.9                                                   & 29900443                                                                & 0                                                                       & 90-95                                                                   & 47                                                                      & 93.50983                                                                & 94.86005                                                                & ⋯                                                                       & pass                                                                    & warn                                                                    & pass                                                                    & pass                                                                    & pass                                                                    & pass                                                                    & warn                                                                    & pass                                                                    & pass                                                                    & pass                                                                   \\\\\n",
       "\t SAMEA104315420 \\textbar{} fastqc\\_per\\_sample \\textbar{} R2\\_final & R2\\_final.fq.gz                                                        & Conventional base calls                                                 & Sanger / Illumina 1.9                                                   & 29900443                                                                & 0                                                                       & 90-95                                                                   & 47                                                                      & 93.68126                                                                & 94.81615                                                                & ⋯                                                                       & pass                                                                    & warn                                                                    & pass                                                                    & pass                                                                    & pass                                                                    & pass                                                                    & warn                                                                    & pass                                                                    & pass                                                                    & pass                                                                   \\\\\n",
       "\t SAMEA104315421 \\textbar{} fastqc\\_per\\_sample \\textbar{} R1\\_final & R1\\_final.fq.gz                                                        & Conventional base calls                                                 & Sanger / Illumina 1.9                                                   & 27198790                                                                & 0                                                                       & 90-95                                                                   & 46                                                                      & 95.65863                                                                & 94.87778                                                                & ⋯                                                                       & pass                                                                    & warn                                                                    & pass                                                                    & pass                                                                    & pass                                                                    & pass                                                                    & warn                                                                    & pass                                                                    & pass                                                                    & pass                                                                   \\\\\n",
       "\\end{tabular}\n"
      ],
      "text/markdown": [
       "\n",
       "Sample | Filename | File.type | Encoding | Total.Sequences | Sequences.flagged.as.poor.quality | Sequence.length | X.GC | total_deduplicated_percentage | avg_sequence_length | ⋯ | per_base_sequence_quality | per_tile_sequence_quality | per_sequence_quality_scores | per_base_sequence_content | per_sequence_gc_content | per_base_n_content | sequence_length_distribution | sequence_duplication_levels | overrepresented_sequences | adapter_content | \n",
       "|---|---|---|\n",
       "| SAMEA104315420 | fastqc_per_sample | R1_final | R1_final.fq.gz                                | Conventional base calls                       | Sanger / Illumina 1.9                         | 29900443                                      | 0                                             | 90-95                                         | 47                                            | 93.50983                                      | 94.86005                                      | ⋯                                             | pass                                          | warn                                          | pass                                          | pass                                          | pass                                          | pass                                          | warn                                          | pass                                          | pass                                          | pass                                          | \n",
       "| SAMEA104315420 | fastqc_per_sample | R2_final | R2_final.fq.gz                                | Conventional base calls                       | Sanger / Illumina 1.9                         | 29900443                                      | 0                                             | 90-95                                         | 47                                            | 93.68126                                      | 94.81615                                      | ⋯                                             | pass                                          | warn                                          | pass                                          | pass                                          | pass                                          | pass                                          | warn                                          | pass                                          | pass                                          | pass                                          | \n",
       "| SAMEA104315421 | fastqc_per_sample | R1_final | R1_final.fq.gz                                | Conventional base calls                       | Sanger / Illumina 1.9                         | 27198790                                      | 0                                             | 90-95                                         | 46                                            | 95.65863                                      | 94.87778                                      | ⋯                                             | pass                                          | warn                                          | pass                                          | pass                                          | pass                                          | pass                                          | warn                                          | pass                                          | pass                                          | pass                                          | \n",
       "\n",
       "\n"
      ],
      "text/plain": [
       "  Sample                                        Filename      \n",
       "1 SAMEA104315420 | fastqc_per_sample | R1_final R1_final.fq.gz\n",
       "2 SAMEA104315420 | fastqc_per_sample | R2_final R2_final.fq.gz\n",
       "3 SAMEA104315421 | fastqc_per_sample | R1_final R1_final.fq.gz\n",
       "  File.type               Encoding              Total.Sequences\n",
       "1 Conventional base calls Sanger / Illumina 1.9 29900443       \n",
       "2 Conventional base calls Sanger / Illumina 1.9 29900443       \n",
       "3 Conventional base calls Sanger / Illumina 1.9 27198790       \n",
       "  Sequences.flagged.as.poor.quality Sequence.length X.GC\n",
       "1 0                                 90-95           47  \n",
       "2 0                                 90-95           47  \n",
       "3 0                                 90-95           46  \n",
       "  total_deduplicated_percentage avg_sequence_length ⋯ per_base_sequence_quality\n",
       "1 93.50983                      94.86005            ⋯ pass                     \n",
       "2 93.68126                      94.81615            ⋯ pass                     \n",
       "3 95.65863                      94.87778            ⋯ pass                     \n",
       "  per_tile_sequence_quality per_sequence_quality_scores\n",
       "1 warn                      pass                       \n",
       "2 warn                      pass                       \n",
       "3 warn                      pass                       \n",
       "  per_base_sequence_content per_sequence_gc_content per_base_n_content\n",
       "1 pass                      pass                    pass              \n",
       "2 pass                      pass                    pass              \n",
       "3 pass                      pass                    pass              \n",
       "  sequence_length_distribution sequence_duplication_levels\n",
       "1 warn                         pass                       \n",
       "2 warn                         pass                       \n",
       "3 warn                         pass                       \n",
       "  overrepresented_sequences adapter_content\n",
       "1 pass                      pass           \n",
       "2 pass                      pass           \n",
       "3 pass                      pass           "
      ]
     },
     "metadata": {},
     "output_type": "display_data"
    }
   ],
   "source": [
    "F = file.path(work_dir, projectID, 'LLMGQC', 'reports', 'multiqc-final', 'multiqc_data', 'multiqc_fastqc.txt')\n",
    "fastqc = read.delim(F, sep='\\t')\n",
    "fastqc %>% dfhead"
   ]
  },
  {
   "cell_type": "code",
   "execution_count": 75,
   "metadata": {
    "ExecuteTime": {
     "end_time": "2019-09-03T12:17:49.403632Z",
     "start_time": "2019-09-03T12:17:49.367Z"
    }
   },
   "outputs": [
    {
     "data": {
      "text/plain": [
       " Total.Sequences    avg_sequence_length\n",
       " Min.   :21314113   Min.   :90.97      \n",
       " 1st Qu.:24912732   1st Qu.:94.88      \n",
       " Median :27186220   Median :94.88      \n",
       " Mean   :27934239   Mean   :94.71      \n",
       " 3rd Qu.:28695570   3rd Qu.:94.95      \n",
       " Max.   :38025452   Max.   :96.91      "
      ]
     },
     "metadata": {},
     "output_type": "display_data"
    }
   ],
   "source": [
    "fastqc %>% \n",
    "    filter(Filename == 'R1_final.fq.gz') %>%\n",
    "    dplyr::select(Total.Sequences, avg_sequence_length) %>% \n",
    "    summary"
   ]
  },
  {
   "cell_type": "markdown",
   "metadata": {},
   "source": [
    "## PRJEB23642\n",
    "\n",
    "* host = Minke whale\n",
    "* n = 12"
   ]
  },
  {
   "cell_type": "code",
   "execution_count": 76,
   "metadata": {
    "ExecuteTime": {
     "end_time": "2019-09-03T12:19:55.307127Z",
     "start_time": "2019-09-03T12:19:55.265Z"
    }
   },
   "outputs": [],
   "source": [
    "projectID = 'PRJEB23642'"
   ]
  },
  {
   "cell_type": "code",
   "execution_count": 77,
   "metadata": {
    "ExecuteTime": {
     "end_time": "2019-09-03T12:20:01.066418Z",
     "start_time": "2019-09-03T12:20:01.034Z"
    }
   },
   "outputs": [
    {
     "name": "stdout",
     "output_type": "stream",
     "text": [
      "Created directory: /ebio/abt3_projects/Georg_animal_feces/data/metagenome/multi-study/BioProjects//PRJEB23642/LLMGQC \n"
     ]
    }
   ],
   "source": [
    "outdir = file.path(work_dir, projectID, 'LLMGQC')\n",
    "make_dir(outdir)"
   ]
  },
  {
   "cell_type": "code",
   "execution_count": 78,
   "metadata": {
    "ExecuteTime": {
     "end_time": "2019-09-03T12:21:59.646733Z",
     "start_time": "2019-09-03T12:21:59.614Z"
    }
   },
   "outputs": [
    {
     "name": "stdout",
     "output_type": "stream",
     "text": [
      "#-- I/O --#\n",
      "# table with sample --> read_file information\n",
      "samples_file: /ebio/abt3_projects/Georg_animal_feces/data/metagenome/multi-study/BioProjects/PRJEB23642/samples.txt\n",
      "\n",
      "# output location\n",
      "output_dir: /ebio/abt3_projects/Georg_animal_feces/data/metagenome/multi-study/BioProjects/PRJEB23642/LLMGQC/\n",
      "\n",
      "# read file path\n",
      "# use \"None\" if full file path is included in the samples_file\n",
      "read_file_path: None\n",
      "\n",
      "#-- Software parameters --#\n",
      "# Use \"Skip\" to skip any of these steps. If no params for rule, use \"\"\n",
      "# `clumpify`: change dupedist if not HiSeq3000/4000 (dupedist=40 for NextSeq, HiSeq2500, and MiSeq)\n",
      "params:\n",
      "  # read download\n",
      "  remote: just_single=False      # If True, just download read1 (if remote file)\n",
      "  # validation, conversion, subsampling\n",
      "  validate_reads: \"\"\n",
      "  convert_fastq_to_1.8: \"\"\n",
      "  seqtk_sample: Skip    # Use number to subsample reads (eg., 1000000)\n",
      "  fastqc_on_raw: \"\"\n",
      "  # de-duplication\n",
      "  clumpify: Skip #dedupe=t dupedist=2500 optical=t    # this will likely fail for remote (SRA) samples\n",
      "  fastqc_on_dedup: \"\"\n",
      "  # adapter removal & quality trimming/filtering\n",
      "  bbduk: ref=./adapters/bbmap_adapters.fa fastawrap=300 k=23\n",
      "  skewer: -x ./adapters/PE_all.fa -n -l 90 -q 25\n",
      "  fastqc_on_qual: \"\"\n",
      "  # removal of 'contaminant' reads\n",
      "  bbmap: minratio=0.9 maxindel=1 bwr=0.16 bw=12 fast minhits=2 qtrim=r trimq=10 untrim idtag printunmappedcount kfilter=25 maxsites=1 k=14 pairlen=1000 rescuedist=1000\n",
      "  ikraken2: /ebio/abt3_projects/databases_no-backup/kraken2/human_db/,/ebio/abt3_projects/databases_no-backup/kraken2/UniVec_Core_db/,/ebio/abt3_projects/databases_no-backup/kraken2/vertebrata_nt_db/,/ebio/abt3_projects/databases_no-backup/kraken2/protozoa_db/,/ebio/abt3_projects/databases_no-backup/kraken2/fungi_db/ --confidence 0.7\n",
      "  fastqc_on_filter: \"\"\n",
      "  # post-QC reads\n",
      "  fastqc_on_final: \"\"\n",
      "  # taxonomy\n",
      "  centrifuge: Skip\n",
      "  krona: Skip\n",
      "  # coverage\n",
      "  nonpareil: -T kmer\n",
      "  nonpareil_summary: 1e9   # this is target seq. depth\n",
      "  # master \"Skip\": reads combined then called \"final\" reads (skips all QC steps)\n",
      "  skip_all_QC: False\n",
      "\n",
      "#-- Databases --#\n",
      "## hg19 = human genome database for filtering out human reads\n",
      "filter_db: /ebio/abt3_projects/databases_no-backup/hg19/hg19\n",
      "# centrifuge db\n",
      "centrifuge_db: /ebio/abt3_projects/databases_no-backup/centrifuge/p+h+v\n",
      "# krona taxonomy db\n",
      "krona_tax_db: /ebio/abt3_projects/databases_no-backup/krona/taxonomy\n",
      "# kraken2 (see 'ikraken2' parameters)\n",
      "\n",
      "#-- Snakemake pipeline --#\n",
      "## To use /tmp/global2/, see http://ilm.eb.local/user-guide/#Scratch-space-on-_002ftmp_002fglobal2\n",
      "pipeline:\n",
      "  snakemake_folder: ./\n",
      "  script_folder: ./bin/scripts/\n",
      "  temp_folder: /tmp/global/    # your username will be added automatically to this path\n",
      "  run_skip_locally: True        # trivial \"skip\" steps run locally (not qsub)"
     ]
    }
   ],
   "source": [
    "cat_file(file.path(outdir, 'config.yaml'))"
   ]
  },
  {
   "cell_type": "markdown",
   "metadata": {},
   "source": [
    "### Run"
   ]
  },
  {
   "cell_type": "markdown",
   "metadata": {},
   "source": [
    "```\n",
    "(snakemake_dev) @ rick:/ebio/abt3_projects/methanogen_host_evo/bin/llmgqc\n",
    "$ screen -L -S llmgqc-PRJEB23642 ./snakemake_sge.sh /ebio/abt3_projects/Georg_animal_feces/data/metagenome/multi-study/BioProjects/PRJEB23642/LLMGQC/config.yaml cluster.json /ebio/abt3_projects/Georg_animal_feces/data/metagenome/multi-study/BioProjects/PRJEB23642/LLMGQC/SGE_log/ 20\n",
    "```"
   ]
  },
  {
   "cell_type": "markdown",
   "metadata": {},
   "source": [
    "### Summary"
   ]
  },
  {
   "cell_type": "code",
   "execution_count": 84,
   "metadata": {
    "ExecuteTime": {
     "end_time": "2019-09-04T06:03:51.931954Z",
     "start_time": "2019-09-04T06:03:51.907Z"
    }
   },
   "outputs": [],
   "source": [
    "projectID = 'PRJEB23642'"
   ]
  },
  {
   "cell_type": "code",
   "execution_count": 85,
   "metadata": {
    "ExecuteTime": {
     "end_time": "2019-09-04T06:04:02.426640Z",
     "start_time": "2019-09-04T06:04:02.362Z"
    }
   },
   "outputs": [
    {
     "name": "stdout",
     "output_type": "stream",
     "text": [
      "[1] 24 21\n"
     ]
    },
    {
     "data": {
      "text/html": [
       "<table>\n",
       "<thead><tr><th scope=col>Sample</th><th scope=col>Filename</th><th scope=col>File.type</th><th scope=col>Encoding</th><th scope=col>Total.Sequences</th><th scope=col>Sequences.flagged.as.poor.quality</th><th scope=col>Sequence.length</th><th scope=col>X.GC</th><th scope=col>total_deduplicated_percentage</th><th scope=col>avg_sequence_length</th><th scope=col>⋯</th><th scope=col>per_base_sequence_quality</th><th scope=col>per_tile_sequence_quality</th><th scope=col>per_sequence_quality_scores</th><th scope=col>per_base_sequence_content</th><th scope=col>per_sequence_gc_content</th><th scope=col>per_base_n_content</th><th scope=col>sequence_length_distribution</th><th scope=col>sequence_duplication_levels</th><th scope=col>overrepresented_sequences</th><th scope=col>adapter_content</th></tr></thead>\n",
       "<tbody>\n",
       "\t<tr><td>SAMEA104404095 | fastqc_per_sample | R1_final</td><td>R1_final.fq.gz                               </td><td>Conventional base calls                      </td><td>Sanger / Illumina 1.9                        </td><td>30215878                                     </td><td>0                                            </td><td>90-251                                       </td><td>45                                           </td><td>78.77218                                     </td><td>249.2120                                     </td><td>⋯                                            </td><td>pass                                         </td><td>pass                                         </td><td>pass                                         </td><td>pass                                         </td><td>pass                                         </td><td>pass                                         </td><td>warn                                         </td><td>pass                                         </td><td>pass                                         </td><td>pass                                         </td></tr>\n",
       "\t<tr><td>SAMEA104404095 | fastqc_per_sample | R2_final</td><td>R2_final.fq.gz                               </td><td>Conventional base calls                      </td><td>Sanger / Illumina 1.9                        </td><td>30215878                                     </td><td>0                                            </td><td>90-251                                       </td><td>45                                           </td><td>80.38767                                     </td><td>247.2523                                     </td><td>⋯                                            </td><td>pass                                         </td><td>pass                                         </td><td>pass                                         </td><td>pass                                         </td><td>pass                                         </td><td>pass                                         </td><td>warn                                         </td><td>pass                                         </td><td>pass                                         </td><td>pass                                         </td></tr>\n",
       "\t<tr><td>SAMEA104404096 | fastqc_per_sample | R1_final</td><td>R1_final.fq.gz                               </td><td>Conventional base calls                      </td><td>Sanger / Illumina 1.9                        </td><td>35937268                                     </td><td>0                                            </td><td>90-251                                       </td><td>41                                           </td><td>84.58096                                     </td><td>249.6105                                     </td><td>⋯                                            </td><td>pass                                         </td><td>pass                                         </td><td>pass                                         </td><td>pass                                         </td><td>warn                                         </td><td>pass                                         </td><td>warn                                         </td><td>pass                                         </td><td>pass                                         </td><td>pass                                         </td></tr>\n",
       "</tbody>\n",
       "</table>\n"
      ],
      "text/latex": [
       "\\begin{tabular}{r|lllllllllllllllllllll}\n",
       " Sample & Filename & File.type & Encoding & Total.Sequences & Sequences.flagged.as.poor.quality & Sequence.length & X.GC & total\\_deduplicated\\_percentage & avg\\_sequence\\_length & ⋯ & per\\_base\\_sequence\\_quality & per\\_tile\\_sequence\\_quality & per\\_sequence\\_quality\\_scores & per\\_base\\_sequence\\_content & per\\_sequence\\_gc\\_content & per\\_base\\_n\\_content & sequence\\_length\\_distribution & sequence\\_duplication\\_levels & overrepresented\\_sequences & adapter\\_content\\\\\n",
       "\\hline\n",
       "\t SAMEA104404095 \\textbar{} fastqc\\_per\\_sample \\textbar{} R1\\_final & R1\\_final.fq.gz                                                        & Conventional base calls                                                 & Sanger / Illumina 1.9                                                   & 30215878                                                                & 0                                                                       & 90-251                                                                  & 45                                                                      & 78.77218                                                                & 249.2120                                                                & ⋯                                                                       & pass                                                                    & pass                                                                    & pass                                                                    & pass                                                                    & pass                                                                    & pass                                                                    & warn                                                                    & pass                                                                    & pass                                                                    & pass                                                                   \\\\\n",
       "\t SAMEA104404095 \\textbar{} fastqc\\_per\\_sample \\textbar{} R2\\_final & R2\\_final.fq.gz                                                        & Conventional base calls                                                 & Sanger / Illumina 1.9                                                   & 30215878                                                                & 0                                                                       & 90-251                                                                  & 45                                                                      & 80.38767                                                                & 247.2523                                                                & ⋯                                                                       & pass                                                                    & pass                                                                    & pass                                                                    & pass                                                                    & pass                                                                    & pass                                                                    & warn                                                                    & pass                                                                    & pass                                                                    & pass                                                                   \\\\\n",
       "\t SAMEA104404096 \\textbar{} fastqc\\_per\\_sample \\textbar{} R1\\_final & R1\\_final.fq.gz                                                        & Conventional base calls                                                 & Sanger / Illumina 1.9                                                   & 35937268                                                                & 0                                                                       & 90-251                                                                  & 41                                                                      & 84.58096                                                                & 249.6105                                                                & ⋯                                                                       & pass                                                                    & pass                                                                    & pass                                                                    & pass                                                                    & warn                                                                    & pass                                                                    & warn                                                                    & pass                                                                    & pass                                                                    & pass                                                                   \\\\\n",
       "\\end{tabular}\n"
      ],
      "text/markdown": [
       "\n",
       "Sample | Filename | File.type | Encoding | Total.Sequences | Sequences.flagged.as.poor.quality | Sequence.length | X.GC | total_deduplicated_percentage | avg_sequence_length | ⋯ | per_base_sequence_quality | per_tile_sequence_quality | per_sequence_quality_scores | per_base_sequence_content | per_sequence_gc_content | per_base_n_content | sequence_length_distribution | sequence_duplication_levels | overrepresented_sequences | adapter_content | \n",
       "|---|---|---|\n",
       "| SAMEA104404095 | fastqc_per_sample | R1_final | R1_final.fq.gz                                | Conventional base calls                       | Sanger / Illumina 1.9                         | 30215878                                      | 0                                             | 90-251                                        | 45                                            | 78.77218                                      | 249.2120                                      | ⋯                                             | pass                                          | pass                                          | pass                                          | pass                                          | pass                                          | pass                                          | warn                                          | pass                                          | pass                                          | pass                                          | \n",
       "| SAMEA104404095 | fastqc_per_sample | R2_final | R2_final.fq.gz                                | Conventional base calls                       | Sanger / Illumina 1.9                         | 30215878                                      | 0                                             | 90-251                                        | 45                                            | 80.38767                                      | 247.2523                                      | ⋯                                             | pass                                          | pass                                          | pass                                          | pass                                          | pass                                          | pass                                          | warn                                          | pass                                          | pass                                          | pass                                          | \n",
       "| SAMEA104404096 | fastqc_per_sample | R1_final | R1_final.fq.gz                                | Conventional base calls                       | Sanger / Illumina 1.9                         | 35937268                                      | 0                                             | 90-251                                        | 41                                            | 84.58096                                      | 249.6105                                      | ⋯                                             | pass                                          | pass                                          | pass                                          | pass                                          | warn                                          | pass                                          | warn                                          | pass                                          | pass                                          | pass                                          | \n",
       "\n",
       "\n"
      ],
      "text/plain": [
       "  Sample                                        Filename      \n",
       "1 SAMEA104404095 | fastqc_per_sample | R1_final R1_final.fq.gz\n",
       "2 SAMEA104404095 | fastqc_per_sample | R2_final R2_final.fq.gz\n",
       "3 SAMEA104404096 | fastqc_per_sample | R1_final R1_final.fq.gz\n",
       "  File.type               Encoding              Total.Sequences\n",
       "1 Conventional base calls Sanger / Illumina 1.9 30215878       \n",
       "2 Conventional base calls Sanger / Illumina 1.9 30215878       \n",
       "3 Conventional base calls Sanger / Illumina 1.9 35937268       \n",
       "  Sequences.flagged.as.poor.quality Sequence.length X.GC\n",
       "1 0                                 90-251          45  \n",
       "2 0                                 90-251          45  \n",
       "3 0                                 90-251          41  \n",
       "  total_deduplicated_percentage avg_sequence_length ⋯ per_base_sequence_quality\n",
       "1 78.77218                      249.2120            ⋯ pass                     \n",
       "2 80.38767                      247.2523            ⋯ pass                     \n",
       "3 84.58096                      249.6105            ⋯ pass                     \n",
       "  per_tile_sequence_quality per_sequence_quality_scores\n",
       "1 pass                      pass                       \n",
       "2 pass                      pass                       \n",
       "3 pass                      pass                       \n",
       "  per_base_sequence_content per_sequence_gc_content per_base_n_content\n",
       "1 pass                      pass                    pass              \n",
       "2 pass                      pass                    pass              \n",
       "3 pass                      warn                    pass              \n",
       "  sequence_length_distribution sequence_duplication_levels\n",
       "1 warn                         pass                       \n",
       "2 warn                         pass                       \n",
       "3 warn                         pass                       \n",
       "  overrepresented_sequences adapter_content\n",
       "1 pass                      pass           \n",
       "2 pass                      pass           \n",
       "3 pass                      pass           "
      ]
     },
     "metadata": {},
     "output_type": "display_data"
    }
   ],
   "source": [
    "F = file.path(work_dir, projectID, 'LLMGQC', 'reports', 'multiqc-final', 'multiqc_data', 'multiqc_fastqc.txt')\n",
    "fastqc = read.delim(F, sep='\\t')\n",
    "fastqc %>% dfhead"
   ]
  },
  {
   "cell_type": "code",
   "execution_count": 86,
   "metadata": {
    "ExecuteTime": {
     "end_time": "2019-09-04T06:04:08.252707Z",
     "start_time": "2019-09-04T06:04:08.211Z"
    }
   },
   "outputs": [
    {
     "data": {
      "text/plain": [
       " Total.Sequences    avg_sequence_length\n",
       " Min.   : 7815889   Min.   :229.0      \n",
       " 1st Qu.:23235914   1st Qu.:249.2      \n",
       " Median :24528324   Median :249.4      \n",
       " Mean   :24451255   Mean   :247.8      \n",
       " 3rd Qu.:28808351   3rd Qu.:249.7      \n",
       " Max.   :35937268   Max.   :250.1      "
      ]
     },
     "metadata": {},
     "output_type": "display_data"
    }
   ],
   "source": [
    "fastqc %>% \n",
    "    filter(Filename == 'R1_final.fq.gz') %>%\n",
    "    dplyr::select(Total.Sequences, avg_sequence_length) %>% \n",
    "    summary"
   ]
  },
  {
   "cell_type": "markdown",
   "metadata": {},
   "source": [
    "## PRJEB9357\n",
    "\n",
    "* host = house cat\n",
    "* n = 87"
   ]
  },
  {
   "cell_type": "code",
   "execution_count": 87,
   "metadata": {
    "ExecuteTime": {
     "end_time": "2019-09-04T11:52:36.331961Z",
     "start_time": "2019-09-04T11:52:36.308Z"
    }
   },
   "outputs": [],
   "source": [
    "projectID = 'PRJEB9357'"
   ]
  },
  {
   "cell_type": "code",
   "execution_count": 88,
   "metadata": {
    "ExecuteTime": {
     "end_time": "2019-09-04T11:52:42.951939Z",
     "start_time": "2019-09-04T11:52:42.894Z"
    }
   },
   "outputs": [
    {
     "name": "stdout",
     "output_type": "stream",
     "text": [
      "Created directory: /ebio/abt3_projects/Georg_animal_feces/data/metagenome/multi-study/BioProjects//PRJEB9357/LLMGQC \n"
     ]
    }
   ],
   "source": [
    "outdir = file.path(work_dir, projectID, 'LLMGQC')\n",
    "make_dir(outdir)"
   ]
  },
  {
   "cell_type": "code",
   "execution_count": null,
   "metadata": {},
   "outputs": [],
   "source": [
    "cat_file(file.path(outdir, 'config.yaml'))"
   ]
  },
  {
   "cell_type": "markdown",
   "metadata": {},
   "source": [
    "### Run"
   ]
  },
  {
   "cell_type": "markdown",
   "metadata": {},
   "source": [
    "```\n",
    "(snakemake_dev) @ rick:/ebio/abt3_projects/methanogen_host_evo/bin/llmgqc\n",
    "$ screen -L -S llmgqc-PRJEB9357 ./snakemake_sge.sh /ebio/abt3_projects/Georg_animal_feces/data/metagenome/multi-study/BioProjects/PRJEB9357/LLMGQC/config.yaml cluster.json /ebio/abt3_projects/Georg_animal_feces/data/metagenome/multi-study/BioProjects/PRJEB9357/LLMGQC/SGE_log/ 20\n",
    "```"
   ]
  },
  {
   "cell_type": "markdown",
   "metadata": {},
   "source": [
    "### Summary"
   ]
  },
  {
   "cell_type": "code",
   "execution_count": 89,
   "metadata": {
    "ExecuteTime": {
     "end_time": "2019-09-09T16:21:56.607370Z",
     "start_time": "2019-09-09T16:21:56.573Z"
    }
   },
   "outputs": [],
   "source": [
    "projectID = 'PRJEB9357'"
   ]
  },
  {
   "cell_type": "code",
   "execution_count": 90,
   "metadata": {
    "ExecuteTime": {
     "end_time": "2019-09-09T16:22:02.711200Z",
     "start_time": "2019-09-09T16:22:02.627Z"
    }
   },
   "outputs": [
    {
     "name": "stdout",
     "output_type": "stream",
     "text": [
      "[1] 174  21\n"
     ]
    },
    {
     "data": {
      "text/html": [
       "<table>\n",
       "<thead><tr><th scope=col>Sample</th><th scope=col>Filename</th><th scope=col>File.type</th><th scope=col>Encoding</th><th scope=col>Total.Sequences</th><th scope=col>Sequences.flagged.as.poor.quality</th><th scope=col>Sequence.length</th><th scope=col>X.GC</th><th scope=col>total_deduplicated_percentage</th><th scope=col>avg_sequence_length</th><th scope=col>⋯</th><th scope=col>per_base_sequence_quality</th><th scope=col>per_tile_sequence_quality</th><th scope=col>per_sequence_quality_scores</th><th scope=col>per_base_sequence_content</th><th scope=col>per_sequence_gc_content</th><th scope=col>per_base_n_content</th><th scope=col>sequence_length_distribution</th><th scope=col>sequence_duplication_levels</th><th scope=col>overrepresented_sequences</th><th scope=col>adapter_content</th></tr></thead>\n",
       "<tbody>\n",
       "\t<tr><td>SAMEA3387433 | fastqc_per_sample | R1_final</td><td>R1_final.fq.gz                             </td><td>Conventional base calls                    </td><td>Sanger / Illumina 1.9                      </td><td>14032468                                   </td><td>0                                          </td><td>90-100                                     </td><td>48                                         </td><td>69.02745                                   </td><td>99.46529                                   </td><td>⋯                                          </td><td>pass                                       </td><td>pass                                       </td><td>pass                                       </td><td>fail                                       </td><td>fail                                       </td><td>pass                                       </td><td>warn                                       </td><td>warn                                       </td><td>pass                                       </td><td>pass                                       </td></tr>\n",
       "\t<tr><td>SAMEA3387433 | fastqc_per_sample | R2_final</td><td>R2_final.fq.gz                             </td><td>Conventional base calls                    </td><td>Sanger / Illumina 1.9                      </td><td>14032468                                   </td><td>0                                          </td><td>90-100                                     </td><td>48                                         </td><td>70.74038                                   </td><td>99.37996                                   </td><td>⋯                                          </td><td>pass                                       </td><td>fail                                       </td><td>pass                                       </td><td>fail                                       </td><td>fail                                       </td><td>pass                                       </td><td>warn                                       </td><td>pass                                       </td><td>pass                                       </td><td>pass                                       </td></tr>\n",
       "\t<tr><td>SAMEA3387434 | fastqc_per_sample | R1_final</td><td>R1_final.fq.gz                             </td><td>Conventional base calls                    </td><td>Sanger / Illumina 1.9                      </td><td>18497450                                   </td><td>0                                          </td><td>90-100                                     </td><td>47                                         </td><td>64.07215                                   </td><td>99.47550                                   </td><td>⋯                                          </td><td>pass                                       </td><td>pass                                       </td><td>pass                                       </td><td>fail                                       </td><td>warn                                       </td><td>pass                                       </td><td>warn                                       </td><td>warn                                       </td><td>pass                                       </td><td>pass                                       </td></tr>\n",
       "</tbody>\n",
       "</table>\n"
      ],
      "text/latex": [
       "\\begin{tabular}{r|lllllllllllllllllllll}\n",
       " Sample & Filename & File.type & Encoding & Total.Sequences & Sequences.flagged.as.poor.quality & Sequence.length & X.GC & total\\_deduplicated\\_percentage & avg\\_sequence\\_length & ⋯ & per\\_base\\_sequence\\_quality & per\\_tile\\_sequence\\_quality & per\\_sequence\\_quality\\_scores & per\\_base\\_sequence\\_content & per\\_sequence\\_gc\\_content & per\\_base\\_n\\_content & sequence\\_length\\_distribution & sequence\\_duplication\\_levels & overrepresented\\_sequences & adapter\\_content\\\\\n",
       "\\hline\n",
       "\t SAMEA3387433 \\textbar{} fastqc\\_per\\_sample \\textbar{} R1\\_final & R1\\_final.fq.gz                                                      & Conventional base calls                                               & Sanger / Illumina 1.9                                                 & 14032468                                                              & 0                                                                     & 90-100                                                                & 48                                                                    & 69.02745                                                              & 99.46529                                                              & ⋯                                                                     & pass                                                                  & pass                                                                  & pass                                                                  & fail                                                                  & fail                                                                  & pass                                                                  & warn                                                                  & warn                                                                  & pass                                                                  & pass                                                                 \\\\\n",
       "\t SAMEA3387433 \\textbar{} fastqc\\_per\\_sample \\textbar{} R2\\_final & R2\\_final.fq.gz                                                      & Conventional base calls                                               & Sanger / Illumina 1.9                                                 & 14032468                                                              & 0                                                                     & 90-100                                                                & 48                                                                    & 70.74038                                                              & 99.37996                                                              & ⋯                                                                     & pass                                                                  & fail                                                                  & pass                                                                  & fail                                                                  & fail                                                                  & pass                                                                  & warn                                                                  & pass                                                                  & pass                                                                  & pass                                                                 \\\\\n",
       "\t SAMEA3387434 \\textbar{} fastqc\\_per\\_sample \\textbar{} R1\\_final & R1\\_final.fq.gz                                                      & Conventional base calls                                               & Sanger / Illumina 1.9                                                 & 18497450                                                              & 0                                                                     & 90-100                                                                & 47                                                                    & 64.07215                                                              & 99.47550                                                              & ⋯                                                                     & pass                                                                  & pass                                                                  & pass                                                                  & fail                                                                  & warn                                                                  & pass                                                                  & warn                                                                  & warn                                                                  & pass                                                                  & pass                                                                 \\\\\n",
       "\\end{tabular}\n"
      ],
      "text/markdown": [
       "\n",
       "Sample | Filename | File.type | Encoding | Total.Sequences | Sequences.flagged.as.poor.quality | Sequence.length | X.GC | total_deduplicated_percentage | avg_sequence_length | ⋯ | per_base_sequence_quality | per_tile_sequence_quality | per_sequence_quality_scores | per_base_sequence_content | per_sequence_gc_content | per_base_n_content | sequence_length_distribution | sequence_duplication_levels | overrepresented_sequences | adapter_content | \n",
       "|---|---|---|\n",
       "| SAMEA3387433 | fastqc_per_sample | R1_final | R1_final.fq.gz                              | Conventional base calls                     | Sanger / Illumina 1.9                       | 14032468                                    | 0                                           | 90-100                                      | 48                                          | 69.02745                                    | 99.46529                                    | ⋯                                           | pass                                        | pass                                        | pass                                        | fail                                        | fail                                        | pass                                        | warn                                        | warn                                        | pass                                        | pass                                        | \n",
       "| SAMEA3387433 | fastqc_per_sample | R2_final | R2_final.fq.gz                              | Conventional base calls                     | Sanger / Illumina 1.9                       | 14032468                                    | 0                                           | 90-100                                      | 48                                          | 70.74038                                    | 99.37996                                    | ⋯                                           | pass                                        | fail                                        | pass                                        | fail                                        | fail                                        | pass                                        | warn                                        | pass                                        | pass                                        | pass                                        | \n",
       "| SAMEA3387434 | fastqc_per_sample | R1_final | R1_final.fq.gz                              | Conventional base calls                     | Sanger / Illumina 1.9                       | 18497450                                    | 0                                           | 90-100                                      | 47                                          | 64.07215                                    | 99.47550                                    | ⋯                                           | pass                                        | pass                                        | pass                                        | fail                                        | warn                                        | pass                                        | warn                                        | warn                                        | pass                                        | pass                                        | \n",
       "\n",
       "\n"
      ],
      "text/plain": [
       "  Sample                                      Filename      \n",
       "1 SAMEA3387433 | fastqc_per_sample | R1_final R1_final.fq.gz\n",
       "2 SAMEA3387433 | fastqc_per_sample | R2_final R2_final.fq.gz\n",
       "3 SAMEA3387434 | fastqc_per_sample | R1_final R1_final.fq.gz\n",
       "  File.type               Encoding              Total.Sequences\n",
       "1 Conventional base calls Sanger / Illumina 1.9 14032468       \n",
       "2 Conventional base calls Sanger / Illumina 1.9 14032468       \n",
       "3 Conventional base calls Sanger / Illumina 1.9 18497450       \n",
       "  Sequences.flagged.as.poor.quality Sequence.length X.GC\n",
       "1 0                                 90-100          48  \n",
       "2 0                                 90-100          48  \n",
       "3 0                                 90-100          47  \n",
       "  total_deduplicated_percentage avg_sequence_length ⋯ per_base_sequence_quality\n",
       "1 69.02745                      99.46529            ⋯ pass                     \n",
       "2 70.74038                      99.37996            ⋯ pass                     \n",
       "3 64.07215                      99.47550            ⋯ pass                     \n",
       "  per_tile_sequence_quality per_sequence_quality_scores\n",
       "1 pass                      pass                       \n",
       "2 fail                      pass                       \n",
       "3 pass                      pass                       \n",
       "  per_base_sequence_content per_sequence_gc_content per_base_n_content\n",
       "1 fail                      fail                    pass              \n",
       "2 fail                      fail                    pass              \n",
       "3 fail                      warn                    pass              \n",
       "  sequence_length_distribution sequence_duplication_levels\n",
       "1 warn                         warn                       \n",
       "2 warn                         pass                       \n",
       "3 warn                         warn                       \n",
       "  overrepresented_sequences adapter_content\n",
       "1 pass                      pass           \n",
       "2 pass                      pass           \n",
       "3 pass                      pass           "
      ]
     },
     "metadata": {},
     "output_type": "display_data"
    }
   ],
   "source": [
    "F = file.path(work_dir, projectID, 'LLMGQC', 'reports', 'multiqc-final', 'multiqc_data', 'multiqc_fastqc.txt')\n",
    "fastqc = read.delim(F, sep='\\t')\n",
    "fastqc %>% dfhead"
   ]
  },
  {
   "cell_type": "code",
   "execution_count": 91,
   "metadata": {
    "ExecuteTime": {
     "end_time": "2019-09-09T16:22:10.049570Z",
     "start_time": "2019-09-09T16:22:09.995Z"
    }
   },
   "outputs": [
    {
     "data": {
      "text/plain": [
       " Total.Sequences    avg_sequence_length\n",
       " Min.   : 7783348   Min.   :99.29      \n",
       " 1st Qu.:16676332   1st Qu.:99.43      \n",
       " Median :19016059   Median :99.48      \n",
       " Mean   :19235981   Mean   :99.49      \n",
       " 3rd Qu.:20928948   3rd Qu.:99.50      \n",
       " Max.   :40370269   Max.   :99.85      "
      ]
     },
     "metadata": {},
     "output_type": "display_data"
    }
   ],
   "source": [
    "fastqc %>% \n",
    "    filter(Filename == 'R1_final.fq.gz') %>%\n",
    "    dplyr::select(Total.Sequences, avg_sequence_length) %>% \n",
    "    summary"
   ]
  },
  {
   "cell_type": "markdown",
   "metadata": {},
   "source": [
    "# sessionInfo"
   ]
  },
  {
   "cell_type": "code",
   "execution_count": 36,
   "metadata": {
    "ExecuteTime": {
     "end_time": "2019-07-27T07:11:36.256222Z",
     "start_time": "2019-07-27T07:11:36.161Z"
    }
   },
   "outputs": [
    {
     "data": {
      "text/plain": [
       "R version 3.4.1 (2017-06-30)\n",
       "Platform: x86_64-pc-linux-gnu (64-bit)\n",
       "Running under: Ubuntu 18.04.2 LTS\n",
       "\n",
       "Matrix products: default\n",
       "BLAS: /ebio/abt3_projects/software/miniconda3_gt4.4/envs/py3_physeq/lib/R/lib/libRblas.so\n",
       "LAPACK: /ebio/abt3_projects/software/miniconda3_gt4.4/envs/py3_physeq/lib/R/lib/libRlapack.so\n",
       "\n",
       "locale:\n",
       " [1] LC_CTYPE=en_US.UTF-8       LC_NUMERIC=C              \n",
       " [3] LC_TIME=en_US.UTF-8        LC_COLLATE=en_US.UTF-8    \n",
       " [5] LC_MONETARY=en_US.UTF-8    LC_MESSAGES=en_US.UTF-8   \n",
       " [7] LC_PAPER=en_US.UTF-8       LC_NAME=C                 \n",
       " [9] LC_ADDRESS=C               LC_TELEPHONE=C            \n",
       "[11] LC_MEASUREMENT=en_US.UTF-8 LC_IDENTIFICATION=C       \n",
       "\n",
       "attached base packages:\n",
       "[1] stats     graphics  grDevices utils     datasets  methods   base     \n",
       "\n",
       "other attached packages:\n",
       "[1] bindrcpp_0.2.2 ggplot2_3.0.0  tidyr_0.8.1    dplyr_0.7.6   \n",
       "\n",
       "loaded via a namespace (and not attached):\n",
       " [1] Rcpp_0.12.17     bindr_0.1.1      magrittr_1.5     munsell_0.5.0   \n",
       " [5] tidyselect_0.2.4 uuid_0.1-2       colorspace_1.3-2 R6_2.2.2        \n",
       " [9] rlang_0.2.1      plyr_1.8.4       stringr_1.3.1    tools_3.4.1     \n",
       "[13] grid_3.4.1       gtable_0.2.0     withr_2.1.1      htmltools_0.3.6 \n",
       "[17] lazyeval_0.2.1   digest_0.6.15    assertthat_0.2.0 tibble_1.4.2    \n",
       "[21] crayon_1.3.4     IRdisplay_0.4.4  purrr_0.2.4      repr_0.15.0     \n",
       "[25] base64enc_0.1-3  IRkernel_0.8.12  glue_1.3.0       evaluate_0.10.1 \n",
       "[29] pbdZMQ_0.3-2     stringi_1.2.3    compiler_3.4.1   pillar_1.2.2    \n",
       "[33] scales_0.5.0     jsonlite_1.5     pkgconfig_2.0.1 "
      ]
     },
     "metadata": {},
     "output_type": "display_data"
    }
   ],
   "source": [
    "sessionInfo()"
   ]
  },
  {
   "cell_type": "code",
   "execution_count": null,
   "metadata": {},
   "outputs": [],
   "source": []
  }
 ],
 "metadata": {
  "kernelspec": {
   "display_name": "R [conda env:py3_physeq]",
   "language": "R",
   "name": "conda-env-py3_physeq-r"
  },
  "language_info": {
   "codemirror_mode": "r",
   "file_extension": ".r",
   "mimetype": "text/x-r-source",
   "name": "R",
   "pygments_lexer": "r",
   "version": "3.4.1"
  },
  "notify_time": "30",
  "toc": {
   "base_numbering": 1,
   "nav_menu": {},
   "number_sections": true,
   "sideBar": true,
   "skip_h1_title": false,
   "title_cell": "Table of Contents",
   "title_sidebar": "Contents",
   "toc_cell": true,
   "toc_position": {
    "height": "calc(100% - 180px)",
    "left": "10px",
    "top": "150px",
    "width": "276px"
   },
   "toc_section_display": true,
   "toc_window_display": true
  }
 },
 "nbformat": 4,
 "nbformat_minor": 2
}
