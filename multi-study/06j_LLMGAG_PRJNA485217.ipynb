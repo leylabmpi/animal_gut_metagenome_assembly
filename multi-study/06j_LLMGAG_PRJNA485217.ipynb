{
 "cells": [
  {
   "cell_type": "markdown",
   "metadata": {
    "toc": true
   },
   "source": [
    "<h1>Table of Contents<span class=\"tocSkip\"></span></h1>\n",
    "<div class=\"toc\"><ul class=\"toc-item\"><li><span><a href=\"#Goal\" data-toc-modified-id=\"Goal-1\"><span class=\"toc-item-num\">1&nbsp;&nbsp;</span>Goal</a></span></li><li><span><a href=\"#Var\" data-toc-modified-id=\"Var-2\"><span class=\"toc-item-num\">2&nbsp;&nbsp;</span>Var</a></span></li><li><span><a href=\"#Init\" data-toc-modified-id=\"Init-3\"><span class=\"toc-item-num\">3&nbsp;&nbsp;</span>Init</a></span></li><li><span><a href=\"#LLMGAG\" data-toc-modified-id=\"LLMGAG-4\"><span class=\"toc-item-num\">4&nbsp;&nbsp;</span>LLMGAG</a></span><ul class=\"toc-item\"><li><span><a href=\"#Setup\" data-toc-modified-id=\"Setup-4.1\"><span class=\"toc-item-num\">4.1&nbsp;&nbsp;</span>Setup</a></span><ul class=\"toc-item\"><li><span><a href=\"#Run\" data-toc-modified-id=\"Run-4.1.1\"><span class=\"toc-item-num\">4.1.1&nbsp;&nbsp;</span>Run</a></span></li></ul></li></ul></li><li><span><a href=\"#Summary\" data-toc-modified-id=\"Summary-5\"><span class=\"toc-item-num\">5&nbsp;&nbsp;</span>Summary</a></span><ul class=\"toc-item\"><li><span><a href=\"#Number-of-genes-assembled-&amp;-clustered\" data-toc-modified-id=\"Number-of-genes-assembled-&amp;-clustered-5.1\"><span class=\"toc-item-num\">5.1&nbsp;&nbsp;</span>Number of genes assembled &amp; clustered</a></span></li><li><span><a href=\"#Taxonomy\" data-toc-modified-id=\"Taxonomy-5.2\"><span class=\"toc-item-num\">5.2&nbsp;&nbsp;</span>Taxonomy</a></span><ul class=\"toc-item\"><li><span><a href=\"#Summary\" data-toc-modified-id=\"Summary-5.2.1\"><span class=\"toc-item-num\">5.2.1&nbsp;&nbsp;</span>Summary</a></span></li></ul></li><li><span><a href=\"#Annotations\" data-toc-modified-id=\"Annotations-5.3\"><span class=\"toc-item-num\">5.3&nbsp;&nbsp;</span>Annotations</a></span><ul class=\"toc-item\"><li><span><a href=\"#COG-functional-categories\" data-toc-modified-id=\"COG-functional-categories-5.3.1\"><span class=\"toc-item-num\">5.3.1&nbsp;&nbsp;</span>COG functional categories</a></span></li><li><span><a href=\"#Grouped-by-taxonomy\" data-toc-modified-id=\"Grouped-by-taxonomy-5.3.2\"><span class=\"toc-item-num\">5.3.2&nbsp;&nbsp;</span>Grouped by taxonomy</a></span></li></ul></li><li><span><a href=\"#humann2-db-genes\" data-toc-modified-id=\"humann2-db-genes-5.4\"><span class=\"toc-item-num\">5.4&nbsp;&nbsp;</span>humann2 db genes</a></span><ul class=\"toc-item\"><li><span><a href=\"#Summary\" data-toc-modified-id=\"Summary-5.4.1\"><span class=\"toc-item-num\">5.4.1&nbsp;&nbsp;</span>Summary</a></span><ul class=\"toc-item\"><li><span><a href=\"#By-taxonomy\" data-toc-modified-id=\"By-taxonomy-5.4.1.1\"><span class=\"toc-item-num\">5.4.1.1&nbsp;&nbsp;</span>By taxonomy</a></span></li></ul></li></ul></li></ul></li><li><span><a href=\"#sessionInfo\" data-toc-modified-id=\"sessionInfo-6\"><span class=\"toc-item-num\">6&nbsp;&nbsp;</span>sessionInfo</a></span></li></ul></div>"
   ]
  },
  {
   "cell_type": "markdown",
   "metadata": {},
   "source": [
    "# Goal\n",
    "\n",
    "* Run `LLMGAG` (metagenome assembly of genes) pipeline on animal gut microbiome metagenome study\n",
    "* study = PRJNA485217\n",
    "  * host = Capuchin"
   ]
  },
  {
   "cell_type": "markdown",
   "metadata": {},
   "source": [
    "# Var"
   ]
  },
  {
   "cell_type": "code",
   "execution_count": 1,
   "metadata": {
    "ExecuteTime": {
     "end_time": "2019-09-30T06:39:26.152393Z",
     "start_time": "2019-09-30T06:39:25.603Z"
    }
   },
   "outputs": [],
   "source": [
    "studyID = 'PRJNA485217'\n",
    "base_dir = file.path('/ebio/abt3_projects/Georg_animal_feces/data/metagenome/multi-study/BioProjects/',\n",
    "                     studyID)\n",
    "tmp_out_dir = file.path('/ebio/abt3_projects/databases_no-backup/animal_gut_metagenomes/multi-study_MG-asmbl/',\n",
    "                        studyID)\n",
    "\n",
    "work_dir = file.path(base_dir, 'LLMGAG')\n",
    "\n",
    "pipeline_dir = '/ebio/abt3_projects/methanogen_host_evo/bin/llmgag'\n",
    "threads = 24"
   ]
  },
  {
   "cell_type": "markdown",
   "metadata": {},
   "source": [
    "# Init"
   ]
  },
  {
   "cell_type": "code",
   "execution_count": 2,
   "metadata": {
    "ExecuteTime": {
     "end_time": "2019-09-30T06:39:28.562938Z",
     "start_time": "2019-09-30T06:39:27.398Z"
    }
   },
   "outputs": [
    {
     "name": "stderr",
     "output_type": "stream",
     "text": [
      "\n",
      "Attaching package: ‘dplyr’\n",
      "\n",
      "The following objects are masked from ‘package:stats’:\n",
      "\n",
      "    filter, lag\n",
      "\n",
      "The following objects are masked from ‘package:base’:\n",
      "\n",
      "    intersect, setdiff, setequal, union\n",
      "\n",
      "\n",
      "Attaching package: ‘data.table’\n",
      "\n",
      "The following objects are masked from ‘package:dplyr’:\n",
      "\n",
      "    between, first, last\n",
      "\n"
     ]
    }
   ],
   "source": [
    "library(dplyr)\n",
    "library(tidyr)\n",
    "library(ggplot2)\n",
    "library(data.table)\n",
    "set.seed(8304)\n",
    "\n",
    "source('/ebio/abt3_projects/Georg_animal_feces/code/misc_r_functions/init.R')"
   ]
  },
  {
   "cell_type": "code",
   "execution_count": 3,
   "metadata": {
    "ExecuteTime": {
     "end_time": "2019-09-30T06:39:28.875316Z",
     "start_time": "2019-09-30T06:39:27.535Z"
    }
   },
   "outputs": [
    {
     "name": "stdout",
     "output_type": "stream",
     "text": [
      "Directory already exists: /ebio/abt3_projects/Georg_animal_feces/data/metagenome/multi-study/BioProjects//PRJNA485217 \n",
      "Directory already exists: /ebio/abt3_projects/databases_no-backup/animal_gut_metagenomes/multi-study_MG-asmbl//PRJNA485217 \n",
      "Created directory: /ebio/abt3_projects/Georg_animal_feces/data/metagenome/multi-study/BioProjects//PRJNA485217/LLMGAG \n"
     ]
    }
   ],
   "source": [
    "make_dir(base_dir)\n",
    "make_dir(tmp_out_dir)\n",
    "make_dir(work_dir)"
   ]
  },
  {
   "cell_type": "markdown",
   "metadata": {},
   "source": [
    "# LLMGAG"
   ]
  },
  {
   "cell_type": "markdown",
   "metadata": {},
   "source": [
    "## Setup"
   ]
  },
  {
   "cell_type": "code",
   "execution_count": 4,
   "metadata": {
    "ExecuteTime": {
     "end_time": "2019-09-30T06:41:42.478948Z",
     "start_time": "2019-09-30T06:41:42.408Z"
    }
   },
   "outputs": [
    {
     "name": "stdout",
     "output_type": "stream",
     "text": [
      "#-- I/O --#\n",
      "# table with sample --> read_file information\n",
      "samples_file: /ebio/abt3_projects/Georg_animal_feces/data/metagenome/multi-study/BioProjects/PRJNA485217/LLMGQC/final/samples.txt\n",
      "\n",
      "# output location\n",
      "output_dir: /ebio/abt3_projects/Georg_animal_feces/data/metagenome/multi-study/BioProjects/PRJNA485217/LLMGAG/\n",
      "\n",
      "#-- database --#\n",
      "## eggnog mapper\n",
      "eggnog_diamond_db: /ebio/abt3_projects/databases_no-backup/Eggnog/v2/eggnog_proteins.dmnd\n",
      "eggnog_db: /ebio/abt3_projects/databases_no-backup/Eggnog/v2/eggnog.db\n",
      "## mmseqs taxonomy\n",
      "mmseqs_tax_db: /ebio/abt3_projects/databases_no-backup/uniclust/uniclust50/uniclust50_2018_08_consensus\n",
      "## checkM\n",
      "checkM_data: /ebio/abt3_projects/databases_no-backup/checkM/\n",
      "## sourmash\n",
      "sourmash_db: /ebio/abt3_projects/databases_no-backup/sourmash/genbank-k31.sbt.json\n",
      "sourmash_lca_db: /ebio/abt3_projects/databases_no-backup/sourmash/genbank-k31.lca.json.gz\n",
      "# humann2 diamond\n",
      "humann2_diamond_db: /ebio/abt3_projects/databases_no-backup/humann2/uniref50/uniref50_annotated.1.1.dmnd\n",
      "# empanada\n",
      "empanada_kegg_db: /ebio/abt3_projects/databases_no-backup/empanada/KOvsPATHWAY_BACTERIAL_KEGG_2013_07_15.tab\n",
      "empanada_ptwy_db: /ebio/abt3_projects/databases_no-backup/empanada/map_kegg-pwy_name.txt.gz\n",
      "\n",
      "#-- main params --#\n",
      "## co-assemble all samples together or each sample individually?\n",
      "all_sample_coassembly: False\n",
      "\n",
      "#-- software parameters --#\n",
      "# Notes:\n",
      "## Use \"Skip\" to skip any step. If no params, just use \"\"\n",
      "## Note: You must skip either metacompass_megahit or metacompass_metaspades (or both)\n",
      "params:\n",
      "  # reads\n",
      "  subsample_reads: 20000000\n",
      "  fastqc_on_raw: \"\"\n",
      "  # assembly\n",
      "  plass: --num-iterations 12 --min-seq-id 0.9\n",
      "  # gene clustering\n",
      "  linclust: --min-seq-id 0.90 -c 0.9 --kmer-per-seq 50\n",
      "  # annotation\n",
      "  eggnog_mapper_jobs: 20    # number of parallel batched jobs \n",
      "  eggnog_mapper: \"\"\n",
      "  eggnog_mapper_annot: \"\"\n",
      "  # pathways\n",
      "  empanada: --abundance_threshold 0.0 \n",
      "  # taxonomy\n",
      "  mmseqs_tax_jobs: 20       # number of parallel batched jobs\n",
      "  mmseqs_tax: -e 1e-5 --max-seqs 200 --lca-ranks \"kingdom:phylum:class:order:family:genus:species\"\n",
      "  # mapping\n",
      "  mmseqs_map: Skip #-s 2 -c 0.9 --cov-mode 2\n",
      "  mmseqs_blast_filter: --qcov 0.95 --seq-id 0.95 --e-value 1e-20\n",
      "  mmseqs_blast_to_bam: --mapq 30\n",
      "  merge_tables: --no-dask    # dask is currently broken\n",
      "  # formatting for humann2 db\n",
      "  diamond: --evalue 1e-5 --sensitive\n",
      "  diamond_db_to_mem: True\n",
      "\n",
      "#-- snakemake pipeline --#\n",
      "pipeline:\n",
      "  snakemake_folder: ./\n",
      "  script_folder: bin/scripts/\n",
      "  temp_folder: /tmp/global/\n"
     ]
    }
   ],
   "source": [
    "cat_file(file.path(work_dir, 'config.yaml'))"
   ]
  },
  {
   "cell_type": "markdown",
   "metadata": {},
   "source": [
    "### Run"
   ]
  },
  {
   "cell_type": "markdown",
   "metadata": {},
   "source": [
    "```{bash}\n",
    "(snakemake_dev) @ rick:/ebio/abt3_projects/methanogen_host_evo/bin/llmgag\n",
    "$ screen -L -S llmgag-PRJNA485217 ./snakemake_sge.sh /ebio/abt3_projects/Georg_animal_feces/data/metagenome/multi-study/BioProjects/PRJNA485217/LLMGAG/config.yaml cluster.json /ebio/abt3_projects/Georg_animal_feces/data/metagenome/multi-study/BioProjects/PRJNA485217/LLMGAG/SGE_log 24\n",
    "```"
   ]
  },
  {
   "cell_type": "code",
   "execution_count": 5,
   "metadata": {
    "ExecuteTime": {
     "end_time": "2019-09-30T12:58:06.531752Z",
     "start_time": "2019-09-30T12:58:06.472Z"
    }
   },
   "outputs": [
    {
     "name": "stdout",
     "output_type": "stream",
     "text": [
      "LLMGAG\n",
      "======\n",
      "\n",
      "Ley Lab Metagenome Assembly of Genes (LLMGAG)\n",
      "\n",
      "* Version: 0.1.3\n",
      "* Authors:\n",
      "  * Nick Youngblut <nyoungb2@gmail.com>\n",
      "* Maintainers:\n",
      "  * Nick Youngblut <nyoungb2@gmail.com>\n",
      "\n",
      "--- conda envs ---\n",
      "==> /ebio/abt3_projects/methanogen_host_evo/bin/llmgag/bin/envs/annotate.yaml <==\n",
      "channels: !!python/tuple\n",
      "- bioconda\n",
      "dependencies:\n",
      "- pigz\n",
      "- bioconda::fasta-splitter\n",
      "- bioconda::eggnog-mapper\n",
      "\n",
      "==> /ebio/abt3_projects/methanogen_host_evo/bin/llmgag/bin/envs/checkm.yaml <==\n",
      "channels: !!python/tuple\n",
      "- bioconda\n",
      "dependencies:\n",
      "- python=2\n",
      "- pigz\n",
      "- bioconda::prodigal\n",
      "- bioconda::pplacer\n",
      "- bioconda::checkm-genome\n",
      "\n",
      "==> /ebio/abt3_projects/methanogen_host_evo/bin/llmgag/bin/envs/das_tool.yaml <==\n",
      "channels: !!python/tuple\n",
      "- r\n",
      "- bioconda\n",
      "dependencies:\n",
      "- pigz\n",
      "- ruby\n",
      "- r::r-base\n",
      "- r::r-data.table\n",
      "- r::r-domc\n",
      "- r::r-ggplot2\n",
      "- bioconda::pullseq\n",
      "- bioconda::prodigal\n",
      "- bioconda::blast\n",
      "- bioconda::diamond\n",
      "==> /ebio/abt3_projects/methanogen_host_evo/bin/llmgag/bin/envs/dask.yaml <==\n",
      "channels: !!python/tuple\n",
      "- conda-forge\n",
      "dependencies:\n",
      "- conda-forge::dask=0.18.1\n",
      "\n",
      "==> /ebio/abt3_projects/methanogen_host_evo/bin/llmgag/bin/envs/empanda.yaml <==\n",
      "channels: !!python/tuple\n",
      "- bioconda\n",
      "- conda-forge\n",
      "dependencies:\n",
      "- pigz\n",
      "- conda-forge::numpy=1.15\n",
      "- conda-forge::pandas\n",
      "- conda-forge::r-argparse\n",
      "- conda-forge::r-dplyr\n",
      "- conda-forge::r-tidyr\n",
      "- conda-forge::r-stringr\n",
      "- conda-forge::r-data.table\n",
      "- pip:\n",
      "  - empanada\n",
      "\n",
      "==> /ebio/abt3_projects/methanogen_host_evo/bin/llmgag/bin/envs/hadley.yaml <==\n",
      "channels: !!python/tuple\n",
      "- conda-forge\n",
      "dependencies:\n",
      "- conda-forge::r-ape\n",
      "- conda-forge::r-dplyr\n",
      "- conda-forge::r-tidyr\n",
      "- conda-forge::r-ggplot2\n",
      "\n",
      "==> /ebio/abt3_projects/methanogen_host_evo/bin/llmgag/bin/envs/humann2.yaml <==\n",
      "channels: !!python/tuple\n",
      "- bioconda\n",
      "dependencies:\n",
      "- pigz\n",
      "- bioconda::prodigal\n",
      "- bioconda::diamond=0.8.36\n",
      "\n",
      "==> /ebio/abt3_projects/methanogen_host_evo/bin/llmgag/bin/envs/metabat2.yaml <==\n",
      "channels: !!python/tuple\n",
      "- BioBuilds\n",
      "- bioconda\n",
      "dependencies:\n",
      "- pigz\n",
      "- python=2.7\n",
      "- BioBuilds::boost>=1.55.0\n",
      "- scons>=2.1.0\n",
      "- zlib>=1.2.4\n",
      "- BioBuilds::binutils>=2.2.2\n",
      "\n",
      "==> /ebio/abt3_projects/methanogen_host_evo/bin/llmgag/bin/envs/multiqc.yaml <==\n",
      "channels: !!python/tuple\n",
      "- bioconda\n",
      "dependencies:\n",
      "- bioconda::fastqc\n",
      "- bioconda::multiqc\n",
      "\n",
      "==> /ebio/abt3_projects/methanogen_host_evo/bin/llmgag/bin/envs/plass.yaml <==\n",
      "channels: !!python/tuple\n",
      "- bioconda\n",
      "dependencies:\n",
      "- pigz\n",
      "- bioconda::seqtk\n",
      "- bioconda::samtools\n",
      "- bioconda::mmseqs2\n",
      "- bioconda::plass\n",
      "\n",
      "==> /ebio/abt3_projects/methanogen_host_evo/bin/llmgag/bin/envs/sourmash.yaml <==\n",
      "channels: !!python/tuple\n",
      "- bioconda\n",
      "dependencies:\n",
      "- bioconda::sourmash=2.0.0a9\n",
      "\n",
      "==> /ebio/abt3_projects/methanogen_host_evo/bin/llmgag/bin/envs/vamb.yaml <==\n",
      "channels: !!python/tuple\n",
      "- bioconda\n",
      "- conda-forge\n",
      "dependencies:\n",
      "- pigz\n",
      "- pytorch\n",
      "- numpy\n",
      "- pysam"
     ]
    }
   ],
   "source": [
    "pipelineInfo(pipeline_dir)"
   ]
  },
  {
   "cell_type": "markdown",
   "metadata": {},
   "source": [
    "# Summary"
   ]
  },
  {
   "cell_type": "markdown",
   "metadata": {},
   "source": [
    "## Number of genes assembled & clustered"
   ]
  },
  {
   "cell_type": "code",
   "execution_count": 6,
   "metadata": {
    "ExecuteTime": {
     "end_time": "2019-09-30T12:58:15.891706Z",
     "start_time": "2019-09-30T12:58:09.064Z"
    }
   },
   "outputs": [
    {
     "name": "stdout",
     "output_type": "stream",
     "text": [
      "Number of assembled sequences: 22883942 \n"
     ]
    }
   ],
   "source": [
    "F = file.path(work_dir, 'assembly', 'plass', 'genes.faa')\n",
    "cmd = glue::glue('grep -c \">\" {fasta}', fasta=F)\n",
    "n_raw_seqs = system(cmd, intern=TRUE)\n",
    "cat('Number of assembled sequences:', n_raw_seqs, '\\n')"
   ]
  },
  {
   "cell_type": "code",
   "execution_count": 7,
   "metadata": {
    "ExecuteTime": {
     "end_time": "2019-09-30T12:58:16.000995Z",
     "start_time": "2019-09-30T12:58:09.238Z"
    }
   },
   "outputs": [
    {
     "name": "stdout",
     "output_type": "stream",
     "text": [
      "Number of cluster rep sequences: 252663 \n"
     ]
    }
   ],
   "source": [
    "F = file.path(work_dir, 'cluster', 'linclust', 'clusters_rep-seqs.faa')\n",
    "cmd = glue::glue('grep -c \">\" {fasta}', fasta=F)\n",
    "n_rep_seqs = system(cmd, intern=TRUE)\n",
    "cat('Number of cluster rep sequences:', n_rep_seqs, '\\n')"
   ]
  },
  {
   "cell_type": "code",
   "execution_count": 8,
   "metadata": {
    "ExecuteTime": {
     "end_time": "2019-09-30T12:58:16.546539Z",
     "start_time": "2019-09-30T12:58:09.367Z"
    }
   },
   "outputs": [
    {
     "name": "stdout",
     "output_type": "stream",
     "text": [
      "Number of humann2_db-formatted seqs: 89536 \n"
     ]
    }
   ],
   "source": [
    "F = file.path(work_dir, 'humann2_db', 'clusters_rep-seqs.faa.gz')\n",
    "cmd = glue::glue('gunzip -c {fasta} | grep -c \">\"', fasta=F)\n",
    "n_h2_seqs = system(cmd, intern=TRUE)\n",
    "cat('Number of humann2_db-formatted seqs:', n_h2_seqs, '\\n')"
   ]
  },
  {
   "cell_type": "markdown",
   "metadata": {},
   "source": [
    "## Taxonomy"
   ]
  },
  {
   "cell_type": "code",
   "execution_count": 9,
   "metadata": {
    "ExecuteTime": {
     "end_time": "2019-09-30T12:58:22.248609Z",
     "start_time": "2019-09-30T12:58:17.758Z"
    }
   },
   "outputs": [
    {
     "name": "stderr",
     "output_type": "stream",
     "text": [
      "Warning message:\n",
      "“Expected 7 pieces. Additional pieces discarded in 9144 rows [90, 111, 124, 127, 130, 172, 197, 205, 223, 304, 423, 434, 438, 483, 600, 606, 609, 613, 643, 693, ...].”Warning message:\n",
      "“Expected 7 pieces. Missing pieces filled with `NA` in 48038 rows [4, 8, 27, 30, 42, 44, 47, 53, 56, 68, 70, 73, 74, 77, 79, 85, 91, 115, 116, 117, ...].”"
     ]
    },
    {
     "name": "stdout",
     "output_type": "stream",
     "text": [
      "[1] 252663     11\n"
     ]
    },
    {
     "data": {
      "text/html": [
       "<table>\n",
       "<thead><tr><th scope=col>seqID</th><th scope=col>taxID</th><th scope=col>rank</th><th scope=col>spp</th><th scope=col>Domain</th><th scope=col>Phylum</th><th scope=col>Class</th><th scope=col>Order</th><th scope=col>Family</th><th scope=col>Genus</th><th scope=col>Species</th></tr></thead>\n",
       "<tbody>\n",
       "\t<tr><td>85349071e19c4a839e4460ae41b09735</td><td>1736699                         </td><td>species                         </td><td>Citrobacter sp. 50677481        </td><td>unknown                         </td><td>Proteobacteria                  </td><td>Gammaproteobacteria             </td><td>Enterobacterales                </td><td>Enterobacteriaceae              </td><td>Citrobacter                     </td><td>Citrobacter sp. 50677481        </td></tr>\n",
       "\t<tr><td>2753696df59a49d690a4da4aa3db3773</td><td>1204521                         </td><td>species                         </td><td>Escherichia phage ECML-117      </td><td>unknown                         </td><td>unknown                         </td><td>unknown                         </td><td>Caudovirales                    </td><td>Myoviridae                      </td><td>unknown                         </td><td>Escherichia phage ECML-117      </td></tr>\n",
       "\t<tr><td>b41f87e3293e46378afdd65be7d11627</td><td>1878942                         </td><td>species                         </td><td>Candidatus Fukatsuia symbiotica </td><td>unknown                         </td><td>Proteobacteria                  </td><td>Gammaproteobacteria             </td><td>Enterobacterales                </td><td>Yersiniaceae                    </td><td>Candidatus Fukatsuia            </td><td>Candidatus Fukatsuia symbiotica </td></tr>\n",
       "</tbody>\n",
       "</table>\n"
      ],
      "text/latex": [
       "\\begin{tabular}{r|lllllllllll}\n",
       " seqID & taxID & rank & spp & Domain & Phylum & Class & Order & Family & Genus & Species\\\\\n",
       "\\hline\n",
       "\t 85349071e19c4a839e4460ae41b09735 & 1736699                          & species                          & Citrobacter sp. 50677481         & unknown                          & Proteobacteria                   & Gammaproteobacteria              & Enterobacterales                 & Enterobacteriaceae               & Citrobacter                      & Citrobacter sp. 50677481        \\\\\n",
       "\t 2753696df59a49d690a4da4aa3db3773 & 1204521                          & species                          & Escherichia phage ECML-117       & unknown                          & unknown                          & unknown                          & Caudovirales                     & Myoviridae                       & unknown                          & Escherichia phage ECML-117      \\\\\n",
       "\t b41f87e3293e46378afdd65be7d11627 & 1878942                          & species                          & Candidatus Fukatsuia symbiotica  & unknown                          & Proteobacteria                   & Gammaproteobacteria              & Enterobacterales                 & Yersiniaceae                     & Candidatus Fukatsuia             & Candidatus Fukatsuia symbiotica \\\\\n",
       "\\end{tabular}\n"
      ],
      "text/markdown": [
       "\n",
       "seqID | taxID | rank | spp | Domain | Phylum | Class | Order | Family | Genus | Species | \n",
       "|---|---|---|\n",
       "| 85349071e19c4a839e4460ae41b09735 | 1736699                          | species                          | Citrobacter sp. 50677481         | unknown                          | Proteobacteria                   | Gammaproteobacteria              | Enterobacterales                 | Enterobacteriaceae               | Citrobacter                      | Citrobacter sp. 50677481         | \n",
       "| 2753696df59a49d690a4da4aa3db3773 | 1204521                          | species                          | Escherichia phage ECML-117       | unknown                          | unknown                          | unknown                          | Caudovirales                     | Myoviridae                       | unknown                          | Escherichia phage ECML-117       | \n",
       "| b41f87e3293e46378afdd65be7d11627 | 1878942                          | species                          | Candidatus Fukatsuia symbiotica  | unknown                          | Proteobacteria                   | Gammaproteobacteria              | Enterobacterales                 | Yersiniaceae                     | Candidatus Fukatsuia             | Candidatus Fukatsuia symbiotica  | \n",
       "\n",
       "\n"
      ],
      "text/plain": [
       "  seqID                            taxID   rank   \n",
       "1 85349071e19c4a839e4460ae41b09735 1736699 species\n",
       "2 2753696df59a49d690a4da4aa3db3773 1204521 species\n",
       "3 b41f87e3293e46378afdd65be7d11627 1878942 species\n",
       "  spp                             Domain  Phylum         Class              \n",
       "1 Citrobacter sp. 50677481        unknown Proteobacteria Gammaproteobacteria\n",
       "2 Escherichia phage ECML-117      unknown unknown        unknown            \n",
       "3 Candidatus Fukatsuia symbiotica unknown Proteobacteria Gammaproteobacteria\n",
       "  Order            Family             Genus               \n",
       "1 Enterobacterales Enterobacteriaceae Citrobacter         \n",
       "2 Caudovirales     Myoviridae         unknown             \n",
       "3 Enterobacterales Yersiniaceae       Candidatus Fukatsuia\n",
       "  Species                        \n",
       "1 Citrobacter sp. 50677481       \n",
       "2 Escherichia phage ECML-117     \n",
       "3 Candidatus Fukatsuia symbiotica"
      ]
     },
     "metadata": {},
     "output_type": "display_data"
    }
   ],
   "source": [
    "# reading in taxonomy table\n",
    "## WARING: slow\n",
    "F = file.path(work_dir, 'taxonomy', 'clusters_rep-seqs_tax_db.tsv.gz')\n",
    "cmd = glue::glue('gunzip -c {file}', file=F) \n",
    "coln = c('seqID', 'taxID', 'rank', 'spp', 'lineage')\n",
    "levs = c('Domain', 'Phylum', 'Class', 'Order', 'Family', 'Genus', 'Species')\n",
    "tax = fread(cmd, sep='\\t', header=FALSE, col.names=coln, fill=TRUE) %>%\n",
    "    separate(lineage, levs, sep=':')\n",
    "tax %>% dfhead"
   ]
  },
  {
   "cell_type": "code",
   "execution_count": 10,
   "metadata": {
    "ExecuteTime": {
     "end_time": "2019-09-30T12:58:22.331614Z",
     "start_time": "2019-09-30T12:58:18.663Z"
    }
   },
   "outputs": [
    {
     "name": "stdout",
     "output_type": "stream",
     "text": [
      "[1] 252663\n"
     ]
    }
   ],
   "source": [
    "# number of sequences\n",
    "tax$seqID %>% unique %>% length %>% print"
   ]
  },
  {
   "cell_type": "code",
   "execution_count": 11,
   "metadata": {
    "ExecuteTime": {
     "end_time": "2019-09-30T12:58:22.409517Z",
     "start_time": "2019-09-30T12:58:18.806Z"
    }
   },
   "outputs": [
    {
     "name": "stdout",
     "output_type": "stream",
     "text": [
      ".\n",
      "        class        cohort        family         genus    infraorder \n",
      "          377             2           305           515             1 \n",
      "      kingdom       no rank         order        phylum       species \n",
      "            9        113520           436           365        132259 \n",
      "species group     subfamily      subgenus    subspecies   superfamily \n",
      "            1             4             1          4359             1 \n",
      " superkingdom         tribe      varietas \n",
      "          399             1           108 \n"
     ]
    }
   ],
   "source": [
    "# which ranks found?\n",
    "tax$rank %>% table %>% print"
   ]
  },
  {
   "cell_type": "code",
   "execution_count": 12,
   "metadata": {
    "ExecuteTime": {
     "end_time": "2019-09-30T12:58:29.318679Z",
     "start_time": "2019-09-30T12:58:18.918Z"
    }
   },
   "outputs": [
    {
     "data": {
      "text/plain": [
       "   Min. 1st Qu.  Median    Mean 3rd Qu.    Max. \n",
       "      1       1       1       1       1       1 "
      ]
     },
     "metadata": {},
     "output_type": "display_data"
    }
   ],
   "source": [
    "# number of classifications per seqID\n",
    "tax %>%\n",
    "    group_by(seqID) %>%\n",
    "    summarize(n = n()) %>%\n",
    "    ungroup() %>%\n",
    "    .$n %>% summary"
   ]
  },
  {
   "cell_type": "markdown",
   "metadata": {},
   "source": [
    "### Summary"
   ]
  },
  {
   "cell_type": "code",
   "execution_count": 13,
   "metadata": {
    "ExecuteTime": {
     "end_time": "2019-09-30T12:58:29.892535Z",
     "start_time": "2019-09-30T12:58:27.957Z"
    }
   },
   "outputs": [
    {
     "name": "stdout",
     "output_type": "stream",
     "text": [
      "[1] 122   3\n"
     ]
    },
    {
     "data": {
      "text/html": [
       "<table>\n",
       "<thead><tr><th scope=col>Domain</th><th scope=col>Phylum</th><th scope=col>n</th></tr></thead>\n",
       "<tbody>\n",
       "\t<tr><td>Fungi          </td><td>Ascomycota     </td><td>2897           </td></tr>\n",
       "\t<tr><td>Fungi          </td><td>Basidiomycota  </td><td>   2           </td></tr>\n",
       "\t<tr><td>Fungi          </td><td>Chytridiomycota</td><td>   7           </td></tr>\n",
       "</tbody>\n",
       "</table>\n"
      ],
      "text/latex": [
       "\\begin{tabular}{r|lll}\n",
       " Domain & Phylum & n\\\\\n",
       "\\hline\n",
       "\t Fungi           & Ascomycota      & 2897           \\\\\n",
       "\t Fungi           & Basidiomycota   &    2           \\\\\n",
       "\t Fungi           & Chytridiomycota &    7           \\\\\n",
       "\\end{tabular}\n"
      ],
      "text/markdown": [
       "\n",
       "Domain | Phylum | n | \n",
       "|---|---|---|\n",
       "| Fungi           | Ascomycota      | 2897            | \n",
       "| Fungi           | Basidiomycota   |    2            | \n",
       "| Fungi           | Chytridiomycota |    7            | \n",
       "\n",
       "\n"
      ],
      "text/plain": [
       "  Domain Phylum          n   \n",
       "1 Fungi  Ascomycota      2897\n",
       "2 Fungi  Basidiomycota      2\n",
       "3 Fungi  Chytridiomycota    7"
      ]
     },
     "metadata": {},
     "output_type": "display_data"
    }
   ],
   "source": [
    "# summarizing taxonomy\n",
    "tax_s = tax %>%\n",
    "    filter(Domain != '',\n",
    "           Phylum != '') %>%\n",
    "    group_by(Domain, Phylum) %>%\n",
    "    summarize(n = seqID %>% unique %>% length) %>%\n",
    "    ungroup() \n",
    " \n",
    "tax_s %>% dfhead"
   ]
  },
  {
   "cell_type": "code",
   "execution_count": 14,
   "metadata": {
    "ExecuteTime": {
     "end_time": "2019-09-30T12:58:32.603765Z",
     "start_time": "2019-09-30T12:58:28.901Z"
    },
    "scrolled": false
   },
   "outputs": [
    {
     "data": {
      "image/png": "[encoded data removed]",
      "text/plain": [
       "plot without title"
      ]
     },
     "metadata": {},
     "output_type": "display_data"
    }
   ],
   "source": [
    "# plotting by phylum\n",
    "p = tax_s %>%\n",
    "    filter(n > 10) %>%\n",
    "    mutate(Phylum = Phylum %>% reorder(n)) %>%\n",
    "    ggplot(aes(Phylum, n, fill=Domain)) +\n",
    "    geom_bar(stat='identity', position='dodge') +\n",
    "    scale_y_log10() +\n",
    "    labs(y = 'No. of genes') +\n",
    "    coord_flip() +\n",
    "    theme_bw() +\n",
    "    theme(\n",
    "        axis.text.y = element_text(size=7)\n",
    "    )\n",
    "\n",
    "dims(5,6)\n",
    "plot(p)"
   ]
  },
  {
   "cell_type": "code",
   "execution_count": 15,
   "metadata": {
    "ExecuteTime": {
     "end_time": "2019-09-30T12:58:32.736216Z",
     "start_time": "2019-09-30T12:58:29.133Z"
    }
   },
   "outputs": [
    {
     "data": {
      "text/html": [
       "<table>\n",
       "<thead><tr><th scope=col>Domain</th><th scope=col>Phylum</th><th scope=col>n</th></tr></thead>\n",
       "<tbody>\n",
       "\t<tr><td>unknown            </td><td>Firmicutes         </td><td>78033              </td></tr>\n",
       "\t<tr><td>unknown            </td><td>Actinobacteria     </td><td>43303              </td></tr>\n",
       "\t<tr><td>unknown            </td><td>Proteobacteria     </td><td>41759              </td></tr>\n",
       "\t<tr><td>unknown            </td><td>Bacteroidetes      </td><td>24264              </td></tr>\n",
       "\t<tr><td>Viridiplantae      </td><td>Streptophyta       </td><td> 3943              </td></tr>\n",
       "\t<tr><td>unknown            </td><td>unknown            </td><td> 3115              </td></tr>\n",
       "\t<tr><td>Fungi              </td><td>Ascomycota         </td><td> 2897              </td></tr>\n",
       "\t<tr><td>Metazoa            </td><td>Nematoda           </td><td> 1768              </td></tr>\n",
       "\t<tr><td>Metazoa            </td><td>Arthropoda         </td><td> 1262              </td></tr>\n",
       "\t<tr><td>unknown            </td><td>Chlamydiae         </td><td>  598              </td></tr>\n",
       "\t<tr><td>unknown            </td><td>Spirochaetes       </td><td>  439              </td></tr>\n",
       "\t<tr><td>uc_Bacteria        </td><td>uc_Bacteria        </td><td>  391              </td></tr>\n",
       "\t<tr><td>unknown            </td><td>Fusobacteria       </td><td>  370              </td></tr>\n",
       "\t<tr><td>Metazoa            </td><td>Chordata           </td><td>  235              </td></tr>\n",
       "\t<tr><td>unknown            </td><td>Tenericutes        </td><td>  227              </td></tr>\n",
       "\t<tr><td>unknown            </td><td>Chloroflexi        </td><td>  202              </td></tr>\n",
       "\t<tr><td>unknown            </td><td>Euryarchaeota      </td><td>  172              </td></tr>\n",
       "\t<tr><td>unknown            </td><td>Acidobacteria      </td><td>  156              </td></tr>\n",
       "\t<tr><td>unknown            </td><td>Verrucomicrobia    </td><td>  150              </td></tr>\n",
       "\t<tr><td>unknown            </td><td>Planctomycetes     </td><td>  115              </td></tr>\n",
       "\t<tr><td>unknown            </td><td>Cyanobacteria      </td><td>  112              </td></tr>\n",
       "\t<tr><td>unknown            </td><td>Synergistetes      </td><td>  109              </td></tr>\n",
       "\t<tr><td>unknown            </td><td>Thermotogae        </td><td>   62              </td></tr>\n",
       "\t<tr><td>unknown            </td><td>Ignavibacteriae    </td><td>   60              </td></tr>\n",
       "\t<tr><td>unknown            </td><td>Aquificae          </td><td>   57              </td></tr>\n",
       "\t<tr><td>unknown            </td><td>Fibrobacteres      </td><td>   40              </td></tr>\n",
       "\t<tr><td>unknown            </td><td>Nitrospirae        </td><td>   38              </td></tr>\n",
       "\t<tr><td>unknown            </td><td>Deinococcus-Thermus</td><td>   36              </td></tr>\n",
       "\t<tr><td>unknown            </td><td>Lentisphaerae      </td><td>   35              </td></tr>\n",
       "\t<tr><td>Metazoa            </td><td>Cnidaria           </td><td>   32              </td></tr>\n",
       "</tbody>\n",
       "</table>\n"
      ],
      "text/latex": [
       "\\begin{tabular}{r|lll}\n",
       " Domain & Phylum & n\\\\\n",
       "\\hline\n",
       "\t unknown             & Firmicutes          & 78033              \\\\\n",
       "\t unknown             & Actinobacteria      & 43303              \\\\\n",
       "\t unknown             & Proteobacteria      & 41759              \\\\\n",
       "\t unknown             & Bacteroidetes       & 24264              \\\\\n",
       "\t Viridiplantae       & Streptophyta        &  3943              \\\\\n",
       "\t unknown             & unknown             &  3115              \\\\\n",
       "\t Fungi               & Ascomycota          &  2897              \\\\\n",
       "\t Metazoa             & Nematoda            &  1768              \\\\\n",
       "\t Metazoa             & Arthropoda          &  1262              \\\\\n",
       "\t unknown             & Chlamydiae          &   598              \\\\\n",
       "\t unknown             & Spirochaetes        &   439              \\\\\n",
       "\t uc\\_Bacteria         & uc\\_Bacteria         &   391                \\\\\n",
       "\t unknown             & Fusobacteria        &   370              \\\\\n",
       "\t Metazoa             & Chordata            &   235              \\\\\n",
       "\t unknown             & Tenericutes         &   227              \\\\\n",
       "\t unknown             & Chloroflexi         &   202              \\\\\n",
       "\t unknown             & Euryarchaeota       &   172              \\\\\n",
       "\t unknown             & Acidobacteria       &   156              \\\\\n",
       "\t unknown             & Verrucomicrobia     &   150              \\\\\n",
       "\t unknown             & Planctomycetes      &   115              \\\\\n",
       "\t unknown             & Cyanobacteria       &   112              \\\\\n",
       "\t unknown             & Synergistetes       &   109              \\\\\n",
       "\t unknown             & Thermotogae         &    62              \\\\\n",
       "\t unknown             & Ignavibacteriae     &    60              \\\\\n",
       "\t unknown             & Aquificae           &    57              \\\\\n",
       "\t unknown             & Fibrobacteres       &    40              \\\\\n",
       "\t unknown             & Nitrospirae         &    38              \\\\\n",
       "\t unknown             & Deinococcus-Thermus &    36              \\\\\n",
       "\t unknown             & Lentisphaerae       &    35              \\\\\n",
       "\t Metazoa             & Cnidaria            &    32              \\\\\n",
       "\\end{tabular}\n"
      ],
      "text/markdown": [
       "\n",
       "Domain | Phylum | n | \n",
       "|---|---|---|---|---|---|---|---|---|---|---|---|---|---|---|---|---|---|---|---|---|---|---|---|---|---|---|---|---|---|\n",
       "| unknown             | Firmicutes          | 78033               | \n",
       "| unknown             | Actinobacteria      | 43303               | \n",
       "| unknown             | Proteobacteria      | 41759               | \n",
       "| unknown             | Bacteroidetes       | 24264               | \n",
       "| Viridiplantae       | Streptophyta        |  3943               | \n",
       "| unknown             | unknown             |  3115               | \n",
       "| Fungi               | Ascomycota          |  2897               | \n",
       "| Metazoa             | Nematoda            |  1768               | \n",
       "| Metazoa             | Arthropoda          |  1262               | \n",
       "| unknown             | Chlamydiae          |   598               | \n",
       "| unknown             | Spirochaetes        |   439               | \n",
       "| uc_Bacteria         | uc_Bacteria         |   391               | \n",
       "| unknown             | Fusobacteria        |   370               | \n",
       "| Metazoa             | Chordata            |   235               | \n",
       "| unknown             | Tenericutes         |   227               | \n",
       "| unknown             | Chloroflexi         |   202               | \n",
       "| unknown             | Euryarchaeota       |   172               | \n",
       "| unknown             | Acidobacteria       |   156               | \n",
       "| unknown             | Verrucomicrobia     |   150               | \n",
       "| unknown             | Planctomycetes      |   115               | \n",
       "| unknown             | Cyanobacteria       |   112               | \n",
       "| unknown             | Synergistetes       |   109               | \n",
       "| unknown             | Thermotogae         |    62               | \n",
       "| unknown             | Ignavibacteriae     |    60               | \n",
       "| unknown             | Aquificae           |    57               | \n",
       "| unknown             | Fibrobacteres       |    40               | \n",
       "| unknown             | Nitrospirae         |    38               | \n",
       "| unknown             | Deinococcus-Thermus |    36               | \n",
       "| unknown             | Lentisphaerae       |    35               | \n",
       "| Metazoa             | Cnidaria            |    32               | \n",
       "\n",
       "\n"
      ],
      "text/plain": [
       "   Domain        Phylum              n    \n",
       "1  unknown       Firmicutes          78033\n",
       "2  unknown       Actinobacteria      43303\n",
       "3  unknown       Proteobacteria      41759\n",
       "4  unknown       Bacteroidetes       24264\n",
       "5  Viridiplantae Streptophyta         3943\n",
       "6  unknown       unknown              3115\n",
       "7  Fungi         Ascomycota           2897\n",
       "8  Metazoa       Nematoda             1768\n",
       "9  Metazoa       Arthropoda           1262\n",
       "10 unknown       Chlamydiae            598\n",
       "11 unknown       Spirochaetes          439\n",
       "12 uc_Bacteria   uc_Bacteria           391\n",
       "13 unknown       Fusobacteria          370\n",
       "14 Metazoa       Chordata              235\n",
       "15 unknown       Tenericutes           227\n",
       "16 unknown       Chloroflexi           202\n",
       "17 unknown       Euryarchaeota         172\n",
       "18 unknown       Acidobacteria         156\n",
       "19 unknown       Verrucomicrobia       150\n",
       "20 unknown       Planctomycetes        115\n",
       "21 unknown       Cyanobacteria         112\n",
       "22 unknown       Synergistetes         109\n",
       "23 unknown       Thermotogae            62\n",
       "24 unknown       Ignavibacteriae        60\n",
       "25 unknown       Aquificae              57\n",
       "26 unknown       Fibrobacteres          40\n",
       "27 unknown       Nitrospirae            38\n",
       "28 unknown       Deinococcus-Thermus    36\n",
       "29 unknown       Lentisphaerae          35\n",
       "30 Metazoa       Cnidaria               32"
      ]
     },
     "metadata": {},
     "output_type": "display_data"
    }
   ],
   "source": [
    "# top phyla\n",
    "tax_s %>% \n",
    "    arrange(-n) %>%\n",
    "    head(n=30)"
   ]
  },
  {
   "cell_type": "code",
   "execution_count": 16,
   "metadata": {
    "ExecuteTime": {
     "end_time": "2019-09-30T12:58:33.251243Z",
     "start_time": "2019-09-30T12:58:30.039Z"
    }
   },
   "outputs": [
    {
     "name": "stdout",
     "output_type": "stream",
     "text": [
      "[1] 228   4\n"
     ]
    },
    {
     "data": {
      "text/html": [
       "<table>\n",
       "<thead><tr><th scope=col>Domain</th><th scope=col>Phylum</th><th scope=col>Class</th><th scope=col>n</th></tr></thead>\n",
       "<tbody>\n",
       "\t<tr><td>Fungi          </td><td>Ascomycota     </td><td>Dothideomycetes</td><td>24             </td></tr>\n",
       "\t<tr><td>Fungi          </td><td>Ascomycota     </td><td>Eurotiomycetes </td><td>21             </td></tr>\n",
       "\t<tr><td>Fungi          </td><td>Ascomycota     </td><td>Pezizomycetes  </td><td> 1             </td></tr>\n",
       "</tbody>\n",
       "</table>\n"
      ],
      "text/latex": [
       "\\begin{tabular}{r|llll}\n",
       " Domain & Phylum & Class & n\\\\\n",
       "\\hline\n",
       "\t Fungi           & Ascomycota      & Dothideomycetes & 24             \\\\\n",
       "\t Fungi           & Ascomycota      & Eurotiomycetes  & 21             \\\\\n",
       "\t Fungi           & Ascomycota      & Pezizomycetes   &  1             \\\\\n",
       "\\end{tabular}\n"
      ],
      "text/markdown": [
       "\n",
       "Domain | Phylum | Class | n | \n",
       "|---|---|---|\n",
       "| Fungi           | Ascomycota      | Dothideomycetes | 24              | \n",
       "| Fungi           | Ascomycota      | Eurotiomycetes  | 21              | \n",
       "| Fungi           | Ascomycota      | Pezizomycetes   |  1              | \n",
       "\n",
       "\n"
      ],
      "text/plain": [
       "  Domain Phylum     Class           n \n",
       "1 Fungi  Ascomycota Dothideomycetes 24\n",
       "2 Fungi  Ascomycota Eurotiomycetes  21\n",
       "3 Fungi  Ascomycota Pezizomycetes    1"
      ]
     },
     "metadata": {},
     "output_type": "display_data"
    }
   ],
   "source": [
    "# summarizing taxonomy\n",
    "tax_s = tax %>%\n",
    "    filter(Domain != '',\n",
    "           Phylum != '',\n",
    "           Class != '') %>%\n",
    "    group_by(Domain, Phylum, Class) %>%\n",
    "    summarize(n = seqID %>% unique %>% length) %>%\n",
    "    ungroup() \n",
    " \n",
    "tax_s %>% dfhead"
   ]
  },
  {
   "cell_type": "code",
   "execution_count": 17,
   "metadata": {
    "ExecuteTime": {
     "end_time": "2019-09-30T12:58:33.370115Z",
     "start_time": "2019-09-30T12:58:30.246Z"
    }
   },
   "outputs": [
    {
     "data": {
      "text/html": [
       "<table>\n",
       "<thead><tr><th scope=col>Domain</th><th scope=col>Phylum</th><th scope=col>Class</th><th scope=col>n</th></tr></thead>\n",
       "<tbody>\n",
       "\t<tr><td>unknown              </td><td>Firmicutes           </td><td>Bacilli              </td><td>49327                </td></tr>\n",
       "\t<tr><td>unknown              </td><td>Actinobacteria       </td><td>Actinobacteria       </td><td>36055                </td></tr>\n",
       "\t<tr><td>unknown              </td><td>Proteobacteria       </td><td>Gammaproteobacteria  </td><td>36011                </td></tr>\n",
       "\t<tr><td>unknown              </td><td>Firmicutes           </td><td>Clostridia           </td><td>22233                </td></tr>\n",
       "\t<tr><td>unknown              </td><td>Bacteroidetes        </td><td>Bacteroidia          </td><td>21474                </td></tr>\n",
       "\t<tr><td>unknown              </td><td>Actinobacteria       </td><td>Coriobacteriia       </td><td> 7021                </td></tr>\n",
       "\t<tr><td>Viridiplantae        </td><td>Streptophyta         </td><td>unknown              </td><td> 3357                </td></tr>\n",
       "\t<tr><td>unknown              </td><td>Firmicutes           </td><td>Negativicutes        </td><td> 3169                </td></tr>\n",
       "\t<tr><td>unknown              </td><td>unknown              </td><td>unknown              </td><td> 3084                </td></tr>\n",
       "\t<tr><td>Fungi                </td><td>Ascomycota           </td><td>Sordariomycetes      </td><td> 2682                </td></tr>\n",
       "\t<tr><td>unknown              </td><td>Proteobacteria       </td><td>Betaproteobacteria   </td><td> 2545                </td></tr>\n",
       "\t<tr><td>unknown              </td><td>Firmicutes           </td><td>Erysipelotrichia     </td><td> 1546                </td></tr>\n",
       "\t<tr><td>Metazoa              </td><td>Nematoda             </td><td>Enoplea              </td><td> 1537                </td></tr>\n",
       "\t<tr><td>unknown              </td><td>Proteobacteria       </td><td>Alphaproteobacteria  </td><td> 1490                </td></tr>\n",
       "\t<tr><td>unknown              </td><td>Firmicutes           </td><td>unknown              </td><td> 1213                </td></tr>\n",
       "\t<tr><td>unknown              </td><td>Proteobacteria       </td><td>Epsilonproteobacteria</td><td>  955                </td></tr>\n",
       "\t<tr><td>Metazoa              </td><td>Arthropoda           </td><td>Insecta              </td><td>  858                </td></tr>\n",
       "\t<tr><td>unknown              </td><td>Bacteroidetes        </td><td>unknown              </td><td>  820                </td></tr>\n",
       "\t<tr><td>unknown              </td><td>Bacteroidetes        </td><td>Flavobacteriia       </td><td>  724                </td></tr>\n",
       "\t<tr><td>unknown              </td><td>Chlamydiae           </td><td>Chlamydiia           </td><td>  589                </td></tr>\n",
       "\t<tr><td>Viridiplantae        </td><td>Streptophyta         </td><td>Liliopsida           </td><td>  566                </td></tr>\n",
       "\t<tr><td>unknown              </td><td>Bacteroidetes        </td><td>Cytophagia           </td><td>  497                </td></tr>\n",
       "\t<tr><td>unknown              </td><td>Proteobacteria       </td><td>Deltaproteobacteria  </td><td>  440                </td></tr>\n",
       "\t<tr><td>unknown              </td><td>Bacteroidetes        </td><td>Sphingobacteriia     </td><td>  438                </td></tr>\n",
       "\t<tr><td>uc_Bacteria          </td><td>uc_Bacteria          </td><td>uc_Bacteria          </td><td>  391                </td></tr>\n",
       "\t<tr><td>unknown              </td><td>Firmicutes           </td><td>Tissierellia         </td><td>  373                </td></tr>\n",
       "\t<tr><td>unknown              </td><td>Fusobacteria         </td><td>Fusobacteriia        </td><td>  370                </td></tr>\n",
       "\t<tr><td>unknown              </td><td>Spirochaetes         </td><td>Spirochaetia         </td><td>  363                </td></tr>\n",
       "\t<tr><td>Metazoa              </td><td>Arthropoda           </td><td>Arachnida            </td><td>  355                </td></tr>\n",
       "\t<tr><td>Metazoa              </td><td>Nematoda             </td><td>Chromadorea          </td><td>  231                </td></tr>\n",
       "</tbody>\n",
       "</table>\n"
      ],
      "text/latex": [
       "\\begin{tabular}{r|llll}\n",
       " Domain & Phylum & Class & n\\\\\n",
       "\\hline\n",
       "\t unknown               & Firmicutes            & Bacilli               & 49327                \\\\\n",
       "\t unknown               & Actinobacteria        & Actinobacteria        & 36055                \\\\\n",
       "\t unknown               & Proteobacteria        & Gammaproteobacteria   & 36011                \\\\\n",
       "\t unknown               & Firmicutes            & Clostridia            & 22233                \\\\\n",
       "\t unknown               & Bacteroidetes         & Bacteroidia           & 21474                \\\\\n",
       "\t unknown               & Actinobacteria        & Coriobacteriia        &  7021                \\\\\n",
       "\t Viridiplantae         & Streptophyta          & unknown               &  3357                \\\\\n",
       "\t unknown               & Firmicutes            & Negativicutes         &  3169                \\\\\n",
       "\t unknown               & unknown               & unknown               &  3084                \\\\\n",
       "\t Fungi                 & Ascomycota            & Sordariomycetes       &  2682                \\\\\n",
       "\t unknown               & Proteobacteria        & Betaproteobacteria    &  2545                \\\\\n",
       "\t unknown               & Firmicutes            & Erysipelotrichia      &  1546                \\\\\n",
       "\t Metazoa               & Nematoda              & Enoplea               &  1537                \\\\\n",
       "\t unknown               & Proteobacteria        & Alphaproteobacteria   &  1490                \\\\\n",
       "\t unknown               & Firmicutes            & unknown               &  1213                \\\\\n",
       "\t unknown               & Proteobacteria        & Epsilonproteobacteria &   955                \\\\\n",
       "\t Metazoa               & Arthropoda            & Insecta               &   858                \\\\\n",
       "\t unknown               & Bacteroidetes         & unknown               &   820                \\\\\n",
       "\t unknown               & Bacteroidetes         & Flavobacteriia        &   724                \\\\\n",
       "\t unknown               & Chlamydiae            & Chlamydiia            &   589                \\\\\n",
       "\t Viridiplantae         & Streptophyta          & Liliopsida            &   566                \\\\\n",
       "\t unknown               & Bacteroidetes         & Cytophagia            &   497                \\\\\n",
       "\t unknown               & Proteobacteria        & Deltaproteobacteria   &   440                \\\\\n",
       "\t unknown               & Bacteroidetes         & Sphingobacteriia      &   438                \\\\\n",
       "\t uc\\_Bacteria           & uc\\_Bacteria           & uc\\_Bacteria           &   391                  \\\\\n",
       "\t unknown               & Firmicutes            & Tissierellia          &   373                \\\\\n",
       "\t unknown               & Fusobacteria          & Fusobacteriia         &   370                \\\\\n",
       "\t unknown               & Spirochaetes          & Spirochaetia          &   363                \\\\\n",
       "\t Metazoa               & Arthropoda            & Arachnida             &   355                \\\\\n",
       "\t Metazoa               & Nematoda              & Chromadorea           &   231                \\\\\n",
       "\\end{tabular}\n"
      ],
      "text/markdown": [
       "\n",
       "Domain | Phylum | Class | n | \n",
       "|---|---|---|---|---|---|---|---|---|---|---|---|---|---|---|---|---|---|---|---|---|---|---|---|---|---|---|---|---|---|\n",
       "| unknown               | Firmicutes            | Bacilli               | 49327                 | \n",
       "| unknown               | Actinobacteria        | Actinobacteria        | 36055                 | \n",
       "| unknown               | Proteobacteria        | Gammaproteobacteria   | 36011                 | \n",
       "| unknown               | Firmicutes            | Clostridia            | 22233                 | \n",
       "| unknown               | Bacteroidetes         | Bacteroidia           | 21474                 | \n",
       "| unknown               | Actinobacteria        | Coriobacteriia        |  7021                 | \n",
       "| Viridiplantae         | Streptophyta          | unknown               |  3357                 | \n",
       "| unknown               | Firmicutes            | Negativicutes         |  3169                 | \n",
       "| unknown               | unknown               | unknown               |  3084                 | \n",
       "| Fungi                 | Ascomycota            | Sordariomycetes       |  2682                 | \n",
       "| unknown               | Proteobacteria        | Betaproteobacteria    |  2545                 | \n",
       "| unknown               | Firmicutes            | Erysipelotrichia      |  1546                 | \n",
       "| Metazoa               | Nematoda              | Enoplea               |  1537                 | \n",
       "| unknown               | Proteobacteria        | Alphaproteobacteria   |  1490                 | \n",
       "| unknown               | Firmicutes            | unknown               |  1213                 | \n",
       "| unknown               | Proteobacteria        | Epsilonproteobacteria |   955                 | \n",
       "| Metazoa               | Arthropoda            | Insecta               |   858                 | \n",
       "| unknown               | Bacteroidetes         | unknown               |   820                 | \n",
       "| unknown               | Bacteroidetes         | Flavobacteriia        |   724                 | \n",
       "| unknown               | Chlamydiae            | Chlamydiia            |   589                 | \n",
       "| Viridiplantae         | Streptophyta          | Liliopsida            |   566                 | \n",
       "| unknown               | Bacteroidetes         | Cytophagia            |   497                 | \n",
       "| unknown               | Proteobacteria        | Deltaproteobacteria   |   440                 | \n",
       "| unknown               | Bacteroidetes         | Sphingobacteriia      |   438                 | \n",
       "| uc_Bacteria           | uc_Bacteria           | uc_Bacteria           |   391                 | \n",
       "| unknown               | Firmicutes            | Tissierellia          |   373                 | \n",
       "| unknown               | Fusobacteria          | Fusobacteriia         |   370                 | \n",
       "| unknown               | Spirochaetes          | Spirochaetia          |   363                 | \n",
       "| Metazoa               | Arthropoda            | Arachnida             |   355                 | \n",
       "| Metazoa               | Nematoda              | Chromadorea           |   231                 | \n",
       "\n",
       "\n"
      ],
      "text/plain": [
       "   Domain        Phylum         Class                 n    \n",
       "1  unknown       Firmicutes     Bacilli               49327\n",
       "2  unknown       Actinobacteria Actinobacteria        36055\n",
       "3  unknown       Proteobacteria Gammaproteobacteria   36011\n",
       "4  unknown       Firmicutes     Clostridia            22233\n",
       "5  unknown       Bacteroidetes  Bacteroidia           21474\n",
       "6  unknown       Actinobacteria Coriobacteriia         7021\n",
       "7  Viridiplantae Streptophyta   unknown                3357\n",
       "8  unknown       Firmicutes     Negativicutes          3169\n",
       "9  unknown       unknown        unknown                3084\n",
       "10 Fungi         Ascomycota     Sordariomycetes        2682\n",
       "11 unknown       Proteobacteria Betaproteobacteria     2545\n",
       "12 unknown       Firmicutes     Erysipelotrichia       1546\n",
       "13 Metazoa       Nematoda       Enoplea                1537\n",
       "14 unknown       Proteobacteria Alphaproteobacteria    1490\n",
       "15 unknown       Firmicutes     unknown                1213\n",
       "16 unknown       Proteobacteria Epsilonproteobacteria   955\n",
       "17 Metazoa       Arthropoda     Insecta                 858\n",
       "18 unknown       Bacteroidetes  unknown                 820\n",
       "19 unknown       Bacteroidetes  Flavobacteriia          724\n",
       "20 unknown       Chlamydiae     Chlamydiia              589\n",
       "21 Viridiplantae Streptophyta   Liliopsida              566\n",
       "22 unknown       Bacteroidetes  Cytophagia              497\n",
       "23 unknown       Proteobacteria Deltaproteobacteria     440\n",
       "24 unknown       Bacteroidetes  Sphingobacteriia        438\n",
       "25 uc_Bacteria   uc_Bacteria    uc_Bacteria             391\n",
       "26 unknown       Firmicutes     Tissierellia            373\n",
       "27 unknown       Fusobacteria   Fusobacteriia           370\n",
       "28 unknown       Spirochaetes   Spirochaetia            363\n",
       "29 Metazoa       Arthropoda     Arachnida               355\n",
       "30 Metazoa       Nematoda       Chromadorea             231"
      ]
     },
     "metadata": {},
     "output_type": "display_data"
    }
   ],
   "source": [
    "# top hits\n",
    "tax_s %>% \n",
    "    arrange(-n) %>%\n",
    "    head(n=30)"
   ]
  },
  {
   "cell_type": "markdown",
   "metadata": {},
   "source": [
    "## Annotations"
   ]
  },
  {
   "cell_type": "code",
   "execution_count": 18,
   "metadata": {
    "ExecuteTime": {
     "end_time": "2019-09-30T12:58:33.392336Z",
     "start_time": "2019-09-30T12:58:31.308Z"
    }
   },
   "outputs": [],
   "source": [
    "# eggnog-mapper v2\n",
    "cols = c(\n",
    "\"query_name\",\n",
    "\"seed_eggNOG_ortholog\",\n",
    "\"seed_ortholog_evalue\",\n",
    "\"seed_ortholog_score\",\n",
    "\"Predicted_taxonomic_group\",\n",
    "\"Predicted_protein_name\",\n",
    "\"Gene_Ontology_terms\",\n",
    "\"EC_number\",\n",
    "\"KEGG_ko\",\n",
    "\"KEGG_Pathway\",\n",
    "\"KEGG_Module\",\n",
    "\"KEGG_Reaction\",\n",
    "\"KEGG_rclass\",\n",
    "\"BRITE\",\n",
    "\"KEGG_TC\",\n",
    "\"CAZy\",\n",
    "\"BiGG_Reaction\",\n",
    "\"tax_scope__eggNOG_taxonomic_level_used_for_annotation\",\n",
    "\"eggNOG_OGs\",\n",
    "\"bestOG\",\n",
    "\"COG_Functional_Category\",\n",
    "\"eggNOG_free_text_description\"\n",
    ")"
   ]
  },
  {
   "cell_type": "code",
   "execution_count": 19,
   "metadata": {
    "ExecuteTime": {
     "end_time": "2019-09-30T12:58:37.106933Z",
     "start_time": "2019-09-30T12:58:32.244Z"
    }
   },
   "outputs": [
    {
     "name": "stdout",
     "output_type": "stream",
     "text": [
      "[1] 206728     21\n"
     ]
    },
    {
     "data": {
      "text/html": [
       "<table>\n",
       "<thead><tr><th scope=col>query_name</th><th scope=col>seed_eggNOG_ortholog</th><th scope=col>seed_ortholog_evalue</th><th scope=col>seed_ortholog_score</th><th scope=col>Predicted_taxonomic_group</th><th scope=col>Predicted_protein_name</th><th scope=col>EC_number</th><th scope=col>KEGG_ko</th><th scope=col>KEGG_Pathway</th><th scope=col>KEGG_Module</th><th scope=col>⋯</th><th scope=col>KEGG_rclass</th><th scope=col>BRITE</th><th scope=col>KEGG_TC</th><th scope=col>CAZy</th><th scope=col>BiGG_Reaction</th><th scope=col>tax_scope__eggNOG_taxonomic_level_used_for_annotation</th><th scope=col>eggNOG_OGs</th><th scope=col>bestOG</th><th scope=col>COG_Functional_Category</th><th scope=col>eggNOG_free_text_description</th></tr></thead>\n",
       "<tbody>\n",
       "\t<tr><td>4e2fbbfa3926460d8a2e8bfc22970179                   </td><td>199310.c4605                                       </td><td> 2.5e-13                                           </td><td> 80.5                                              </td><td>Escherichia                                        </td><td>                                                   </td><td>                                                   </td><td>                                                   </td><td>                                                   </td><td>                                                   </td><td>⋯                                                  </td><td>                                                   </td><td>                                                   </td><td>                                                   </td><td>                                                   </td><td>                                                   </td><td>Bacteria                                           </td><td>1QIS0@1224,1TGMD@1236,2AWT9@1,31NQB@2,3XRAZ@561    </td><td>NA|NA|NA                                           </td><td>                                                   </td><td>                                                   </td></tr>\n",
       "\t<tr><td>1af1746df839458f8e358010698807ed                   </td><td>502347.ESCAB7627_4715                              </td><td>1.7e-138                                           </td><td>498.8                                              </td><td>Escherichia                                        </td><td>rfaJ                                               </td><td>2.4.1.44,2.4.1.58                                  </td><td>ko:K03275,ko:K03278,ko:K03279                      </td><td>ko00540,ko01100,map00540,map01100                  </td><td>M00080                                             </td><td>⋯                                                  </td><td>RC00005                                            </td><td>ko00000,ko00001,ko00002,ko01000,ko01003,ko01005    </td><td>                                                   </td><td>GT8                                                </td><td>                                                   </td><td>Bacteria                                           </td><td>1N9H7@1224,1RQGY@1236,3XQM1@561,COG1442@1,COG1442@2</td><td>NA|NA|NA                                           </td><td>M                                                  </td><td>lipopolysaccharide glucosyltransferase II activity </td></tr>\n",
       "\t<tr><td>950ab65386244404b567caeed31697c0                   </td><td>469595.CSAG_03379                                  </td><td> 2.3e-49                                           </td><td>201.4                                              </td><td>Citrobacter                                        </td><td>fruR                                               </td><td>3.2.1.26                                           </td><td>ko:K01193,ko:K02529,ko:K03435                      </td><td>ko00052,ko00500,ko01100,map00052,map00500,map01100 </td><td>                                                   </td><td>⋯                                                  </td><td>RC00028,RC00077                                    </td><td>ko00000,ko00001,ko01000,ko03000                    </td><td>                                                   </td><td>GH32                                               </td><td>                                                   </td><td>Bacteria                                           </td><td>1MXQ1@1224,1RNR1@1236,3WWEI@544,COG1609@1,COG1609@2</td><td>NA|NA|NA                                           </td><td>K                                                  </td><td>helix_turn _helix lactose operon repressor         </td></tr>\n",
       "</tbody>\n",
       "</table>\n"
      ],
      "text/latex": [
       "\\begin{tabular}{r|lllllllllllllllllllll}\n",
       " query\\_name & seed\\_eggNOG\\_ortholog & seed\\_ortholog\\_evalue & seed\\_ortholog\\_score & Predicted\\_taxonomic\\_group & Predicted\\_protein\\_name & EC\\_number & KEGG\\_ko & KEGG\\_Pathway & KEGG\\_Module & ⋯ & KEGG\\_rclass & BRITE & KEGG\\_TC & CAZy & BiGG\\_Reaction & tax\\_scope\\_\\_eggNOG\\_taxonomic\\_level\\_used\\_for\\_annotation & eggNOG\\_OGs & bestOG & COG\\_Functional\\_Category & eggNOG\\_free\\_text\\_description\\\\\n",
       "\\hline\n",
       "\t 4e2fbbfa3926460d8a2e8bfc22970179                    & 199310.c4605                                        &  2.5e-13                                            &  80.5                                               & Escherichia                                         &                                                     &                                                     &                                                     &                                                     &                                                     & ⋯                                                   &                                                     &                                                     &                                                     &                                                     &                                                     & Bacteria                                            & 1QIS0@1224,1TGMD@1236,2AWT9@1,31NQB@2,3XRAZ@561     & NA\\textbar{}NA\\textbar{}NA                        &                                                     &                                                    \\\\\n",
       "\t 1af1746df839458f8e358010698807ed                    & 502347.ESCAB7627\\_4715                             & 1.7e-138                                            & 498.8                                               & Escherichia                                         & rfaJ                                                & 2.4.1.44,2.4.1.58                                   & ko:K03275,ko:K03278,ko:K03279                       & ko00540,ko01100,map00540,map01100                   & M00080                                              & ⋯                                                   & RC00005                                             & ko00000,ko00001,ko00002,ko01000,ko01003,ko01005     &                                                     & GT8                                                 &                                                     & Bacteria                                            & 1N9H7@1224,1RQGY@1236,3XQM1@561,COG1442@1,COG1442@2 & NA\\textbar{}NA\\textbar{}NA                        & M                                                   & lipopolysaccharide glucosyltransferase II activity \\\\\n",
       "\t 950ab65386244404b567caeed31697c0                       & 469595.CSAG\\_03379                                    &  2.3e-49                                               & 201.4                                                  & Citrobacter                                            & fruR                                                   & 3.2.1.26                                               & ko:K01193,ko:K02529,ko:K03435                          & ko00052,ko00500,ko01100,map00052,map00500,map01100     &                                                        & ⋯                                                      & RC00028,RC00077                                        & ko00000,ko00001,ko01000,ko03000                        &                                                        & GH32                                                   &                                                        & Bacteria                                               & 1MXQ1@1224,1RNR1@1236,3WWEI@544,COG1609@1,COG1609@2    & NA\\textbar{}NA\\textbar{}NA                           & K                                                      & helix\\_turn \\_helix lactose operon repressor        \\\\\n",
       "\\end{tabular}\n"
      ],
      "text/markdown": [
       "\n",
       "query_name | seed_eggNOG_ortholog | seed_ortholog_evalue | seed_ortholog_score | Predicted_taxonomic_group | Predicted_protein_name | EC_number | KEGG_ko | KEGG_Pathway | KEGG_Module | ⋯ | KEGG_rclass | BRITE | KEGG_TC | CAZy | BiGG_Reaction | tax_scope__eggNOG_taxonomic_level_used_for_annotation | eggNOG_OGs | bestOG | COG_Functional_Category | eggNOG_free_text_description | \n",
       "|---|---|---|\n",
       "| 4e2fbbfa3926460d8a2e8bfc22970179                    | 199310.c4605                                        |  2.5e-13                                            |  80.5                                               | Escherichia                                         |                                                     |                                                     |                                                     |                                                     |                                                     | ⋯                                                   |                                                     |                                                     |                                                     |                                                     |                                                     | Bacteria                                            | 1QIS0@1224,1TGMD@1236,2AWT9@1,31NQB@2,3XRAZ@561     | NA|NA|NA                                            |                                                     |                                                     | \n",
       "| 1af1746df839458f8e358010698807ed                    | 502347.ESCAB7627_4715                               | 1.7e-138                                            | 498.8                                               | Escherichia                                         | rfaJ                                                | 2.4.1.44,2.4.1.58                                   | ko:K03275,ko:K03278,ko:K03279                       | ko00540,ko01100,map00540,map01100                   | M00080                                              | ⋯                                                   | RC00005                                             | ko00000,ko00001,ko00002,ko01000,ko01003,ko01005     |                                                     | GT8                                                 |                                                     | Bacteria                                            | 1N9H7@1224,1RQGY@1236,3XQM1@561,COG1442@1,COG1442@2 | NA|NA|NA                                            | M                                                   | lipopolysaccharide glucosyltransferase II activity  | \n",
       "| 950ab65386244404b567caeed31697c0                    | 469595.CSAG_03379                                   |  2.3e-49                                            | 201.4                                               | Citrobacter                                         | fruR                                                | 3.2.1.26                                            | ko:K01193,ko:K02529,ko:K03435                       | ko00052,ko00500,ko01100,map00052,map00500,map01100  |                                                     | ⋯                                                   | RC00028,RC00077                                     | ko00000,ko00001,ko01000,ko03000                     |                                                     | GH32                                                |                                                     | Bacteria                                            | 1MXQ1@1224,1RNR1@1236,3WWEI@544,COG1609@1,COG1609@2 | NA|NA|NA                                            | K                                                   | helix_turn _helix lactose operon repressor          | \n",
       "\n",
       "\n"
      ],
      "text/plain": [
       "  query_name                       seed_eggNOG_ortholog  seed_ortholog_evalue\n",
       "1 4e2fbbfa3926460d8a2e8bfc22970179 199310.c4605           2.5e-13            \n",
       "2 1af1746df839458f8e358010698807ed 502347.ESCAB7627_4715 1.7e-138            \n",
       "3 950ab65386244404b567caeed31697c0 469595.CSAG_03379      2.3e-49            \n",
       "  seed_ortholog_score Predicted_taxonomic_group Predicted_protein_name\n",
       "1  80.5               Escherichia                                     \n",
       "2 498.8               Escherichia               rfaJ                  \n",
       "3 201.4               Citrobacter               fruR                  \n",
       "  EC_number         KEGG_ko                      \n",
       "1                                                \n",
       "2 2.4.1.44,2.4.1.58 ko:K03275,ko:K03278,ko:K03279\n",
       "3 3.2.1.26          ko:K01193,ko:K02529,ko:K03435\n",
       "  KEGG_Pathway                                       KEGG_Module ⋯\n",
       "1                                                                ⋯\n",
       "2 ko00540,ko01100,map00540,map01100                  M00080      ⋯\n",
       "3 ko00052,ko00500,ko01100,map00052,map00500,map01100             ⋯\n",
       "  KEGG_rclass     BRITE                                           KEGG_TC CAZy\n",
       "1                                                                             \n",
       "2 RC00005         ko00000,ko00001,ko00002,ko01000,ko01003,ko01005         GT8 \n",
       "3 RC00028,RC00077 ko00000,ko00001,ko01000,ko03000                         GH32\n",
       "  BiGG_Reaction tax_scope__eggNOG_taxonomic_level_used_for_annotation\n",
       "1               Bacteria                                             \n",
       "2               Bacteria                                             \n",
       "3               Bacteria                                             \n",
       "  eggNOG_OGs                                          bestOG  \n",
       "1 1QIS0@1224,1TGMD@1236,2AWT9@1,31NQB@2,3XRAZ@561     NA|NA|NA\n",
       "2 1N9H7@1224,1RQGY@1236,3XQM1@561,COG1442@1,COG1442@2 NA|NA|NA\n",
       "3 1MXQ1@1224,1RNR1@1236,3WWEI@544,COG1609@1,COG1609@2 NA|NA|NA\n",
       "  COG_Functional_Category eggNOG_free_text_description                      \n",
       "1                                                                           \n",
       "2 M                       lipopolysaccharide glucosyltransferase II activity\n",
       "3 K                       helix_turn _helix lactose operon repressor        "
      ]
     },
     "metadata": {},
     "output_type": "display_data"
    }
   ],
   "source": [
    "F = file.path(work_dir, 'annotate', 'eggnog-mapper', 'clusters_rep-seqs.emapper.annotations.gz')\n",
    "cmd = glue::glue('gunzip -c {file}', file=F, header=FALSE) \n",
    "emap_annot = fread(cmd, sep='\\t') \n",
    "colnames(emap_annot) = cols\n",
    "emap_annot = emap_annot %>%\n",
    "    dplyr::select(-Gene_Ontology_terms)\n",
    "emap_annot %>% dfhead"
   ]
  },
  {
   "cell_type": "code",
   "execution_count": 20,
   "metadata": {
    "ExecuteTime": {
     "end_time": "2019-09-30T12:58:39.398065Z",
     "start_time": "2019-09-30T12:58:32.625Z"
    }
   },
   "outputs": [
    {
     "name": "stdout",
     "output_type": "stream",
     "text": [
      "[1] 206728\n",
      "[1] 206728     31\n"
     ]
    },
    {
     "data": {
      "text/html": [
       "<table>\n",
       "<thead><tr><th scope=col>query_name</th><th scope=col>seed_eggNOG_ortholog</th><th scope=col>seed_ortholog_evalue</th><th scope=col>seed_ortholog_score</th><th scope=col>Predicted_taxonomic_group</th><th scope=col>Predicted_protein_name</th><th scope=col>EC_number</th><th scope=col>KEGG_ko</th><th scope=col>KEGG_Pathway</th><th scope=col>KEGG_Module</th><th scope=col>⋯</th><th scope=col>taxID</th><th scope=col>rank</th><th scope=col>spp</th><th scope=col>Domain</th><th scope=col>Phylum</th><th scope=col>Class</th><th scope=col>Order</th><th scope=col>Family</th><th scope=col>Genus</th><th scope=col>Species</th></tr></thead>\n",
       "<tbody>\n",
       "\t<tr><td>4e2fbbfa3926460d8a2e8bfc22970179                  </td><td>199310.c4605                                      </td><td> 2.5e-13                                          </td><td> 80.5                                             </td><td>Escherichia                                       </td><td>                                                  </td><td>                                                  </td><td>                                                  </td><td>                                                  </td><td>                                                  </td><td>⋯                                                 </td><td>   562                                            </td><td>species                                           </td><td>Escherichia coli                                  </td><td>unknown                                           </td><td>Proteobacteria                                    </td><td>Gammaproteobacteria                               </td><td>Enterobacterales                                  </td><td>Enterobacteriaceae                                </td><td>Escherichia                                       </td><td>Escherichia coli                                  </td></tr>\n",
       "\t<tr><td>1af1746df839458f8e358010698807ed                  </td><td>502347.ESCAB7627_4715                             </td><td>1.7e-138                                          </td><td>498.8                                             </td><td>Escherichia                                       </td><td>rfaJ                                              </td><td>2.4.1.44,2.4.1.58                                 </td><td>ko:K03275,ko:K03278,ko:K03279                     </td><td>ko00540,ko01100,map00540,map01100                 </td><td>M00080                                            </td><td>⋯                                                 </td><td>656410                                            </td><td>no rank                                           </td><td>Escherichia coli H605                             </td><td>unknown                                           </td><td>Proteobacteria                                    </td><td>Gammaproteobacteria                               </td><td>Enterobacterales                                  </td><td>Enterobacteriaceae                                </td><td>Escherichia                                       </td><td>Escherichia coli                                  </td></tr>\n",
       "\t<tr><td>950ab65386244404b567caeed31697c0                  </td><td>469595.CSAG_03379                                 </td><td> 2.3e-49                                          </td><td>201.4                                             </td><td>Citrobacter                                       </td><td>fruR                                              </td><td>3.2.1.26                                          </td><td>ko:K01193,ko:K02529,ko:K03435                     </td><td>ko00052,ko00500,ko01100,map00052,map00500,map01100</td><td>                                                  </td><td>⋯                                                 </td><td> 36087                                            </td><td>species                                           </td><td>Trichuris trichiura                               </td><td>Metazoa                                           </td><td>Nematoda                                          </td><td>Enoplea                                           </td><td>Trichinellida                                     </td><td>Trichuridae                                       </td><td>Trichuris                                         </td><td>Trichuris trichiura                               </td></tr>\n",
       "</tbody>\n",
       "</table>\n"
      ],
      "text/latex": [
       "\\begin{tabular}{r|lllllllllllllllllllllllllllllll}\n",
       " query\\_name & seed\\_eggNOG\\_ortholog & seed\\_ortholog\\_evalue & seed\\_ortholog\\_score & Predicted\\_taxonomic\\_group & Predicted\\_protein\\_name & EC\\_number & KEGG\\_ko & KEGG\\_Pathway & KEGG\\_Module & ⋯ & taxID & rank & spp & Domain & Phylum & Class & Order & Family & Genus & Species\\\\\n",
       "\\hline\n",
       "\t 4e2fbbfa3926460d8a2e8bfc22970179                   & 199310.c4605                                       &  2.5e-13                                           &  80.5                                              & Escherichia                                        &                                                    &                                                    &                                                    &                                                    &                                                    & ⋯                                                  &    562                                             & species                                            & Escherichia coli                                   & unknown                                            & Proteobacteria                                     & Gammaproteobacteria                                & Enterobacterales                                   & Enterobacteriaceae                                 & Escherichia                                        & Escherichia coli                                  \\\\\n",
       "\t 1af1746df839458f8e358010698807ed                   & 502347.ESCAB7627\\_4715                            & 1.7e-138                                           & 498.8                                              & Escherichia                                        & rfaJ                                               & 2.4.1.44,2.4.1.58                                  & ko:K03275,ko:K03278,ko:K03279                      & ko00540,ko01100,map00540,map01100                  & M00080                                             & ⋯                                                  & 656410                                             & no rank                                            & Escherichia coli H605                              & unknown                                            & Proteobacteria                                     & Gammaproteobacteria                                & Enterobacterales                                   & Enterobacteriaceae                                 & Escherichia                                        & Escherichia coli                                  \\\\\n",
       "\t 950ab65386244404b567caeed31697c0                   & 469595.CSAG\\_03379                                &  2.3e-49                                           & 201.4                                              & Citrobacter                                        & fruR                                               & 3.2.1.26                                           & ko:K01193,ko:K02529,ko:K03435                      & ko00052,ko00500,ko01100,map00052,map00500,map01100 &                                                    & ⋯                                                  &  36087                                             & species                                            & Trichuris trichiura                                & Metazoa                                            & Nematoda                                           & Enoplea                                            & Trichinellida                                      & Trichuridae                                        & Trichuris                                          & Trichuris trichiura                               \\\\\n",
       "\\end{tabular}\n"
      ],
      "text/markdown": [
       "\n",
       "query_name | seed_eggNOG_ortholog | seed_ortholog_evalue | seed_ortholog_score | Predicted_taxonomic_group | Predicted_protein_name | EC_number | KEGG_ko | KEGG_Pathway | KEGG_Module | ⋯ | taxID | rank | spp | Domain | Phylum | Class | Order | Family | Genus | Species | \n",
       "|---|---|---|\n",
       "| 4e2fbbfa3926460d8a2e8bfc22970179                   | 199310.c4605                                       |  2.5e-13                                           |  80.5                                              | Escherichia                                        |                                                    |                                                    |                                                    |                                                    |                                                    | ⋯                                                  |    562                                             | species                                            | Escherichia coli                                   | unknown                                            | Proteobacteria                                     | Gammaproteobacteria                                | Enterobacterales                                   | Enterobacteriaceae                                 | Escherichia                                        | Escherichia coli                                   | \n",
       "| 1af1746df839458f8e358010698807ed                   | 502347.ESCAB7627_4715                              | 1.7e-138                                           | 498.8                                              | Escherichia                                        | rfaJ                                               | 2.4.1.44,2.4.1.58                                  | ko:K03275,ko:K03278,ko:K03279                      | ko00540,ko01100,map00540,map01100                  | M00080                                             | ⋯                                                  | 656410                                             | no rank                                            | Escherichia coli H605                              | unknown                                            | Proteobacteria                                     | Gammaproteobacteria                                | Enterobacterales                                   | Enterobacteriaceae                                 | Escherichia                                        | Escherichia coli                                   | \n",
       "| 950ab65386244404b567caeed31697c0                   | 469595.CSAG_03379                                  |  2.3e-49                                           | 201.4                                              | Citrobacter                                        | fruR                                               | 3.2.1.26                                           | ko:K01193,ko:K02529,ko:K03435                      | ko00052,ko00500,ko01100,map00052,map00500,map01100 |                                                    | ⋯                                                  |  36087                                             | species                                            | Trichuris trichiura                                | Metazoa                                            | Nematoda                                           | Enoplea                                            | Trichinellida                                      | Trichuridae                                        | Trichuris                                          | Trichuris trichiura                                | \n",
       "\n",
       "\n"
      ],
      "text/plain": [
       "  query_name                       seed_eggNOG_ortholog  seed_ortholog_evalue\n",
       "1 4e2fbbfa3926460d8a2e8bfc22970179 199310.c4605           2.5e-13            \n",
       "2 1af1746df839458f8e358010698807ed 502347.ESCAB7627_4715 1.7e-138            \n",
       "3 950ab65386244404b567caeed31697c0 469595.CSAG_03379      2.3e-49            \n",
       "  seed_ortholog_score Predicted_taxonomic_group Predicted_protein_name\n",
       "1  80.5               Escherichia                                     \n",
       "2 498.8               Escherichia               rfaJ                  \n",
       "3 201.4               Citrobacter               fruR                  \n",
       "  EC_number         KEGG_ko                      \n",
       "1                                                \n",
       "2 2.4.1.44,2.4.1.58 ko:K03275,ko:K03278,ko:K03279\n",
       "3 3.2.1.26          ko:K01193,ko:K02529,ko:K03435\n",
       "  KEGG_Pathway                                       KEGG_Module ⋯ taxID \n",
       "1                                                                ⋯    562\n",
       "2 ko00540,ko01100,map00540,map01100                  M00080      ⋯ 656410\n",
       "3 ko00052,ko00500,ko01100,map00052,map00500,map01100             ⋯  36087\n",
       "  rank    spp                   Domain  Phylum         Class              \n",
       "1 species Escherichia coli      unknown Proteobacteria Gammaproteobacteria\n",
       "2 no rank Escherichia coli H605 unknown Proteobacteria Gammaproteobacteria\n",
       "3 species Trichuris trichiura   Metazoa Nematoda       Enoplea            \n",
       "  Order            Family             Genus       Species            \n",
       "1 Enterobacterales Enterobacteriaceae Escherichia Escherichia coli   \n",
       "2 Enterobacterales Enterobacteriaceae Escherichia Escherichia coli   \n",
       "3 Trichinellida    Trichuridae        Trichuris   Trichuris trichiura"
      ]
     },
     "metadata": {},
     "output_type": "display_data"
    }
   ],
   "source": [
    "# adding taxonomy info\n",
    "intersect(emap_annot$query_name, tax$seqID) %>% length %>% print\n",
    "\n",
    "emap_annot = emap_annot %>%\n",
    "    left_join(tax, c('query_name'='seqID'))\n",
    "\n",
    "emap_annot %>% dfhead"
   ]
  },
  {
   "cell_type": "code",
   "execution_count": 21,
   "metadata": {
    "ExecuteTime": {
     "end_time": "2019-09-30T12:58:39.458055Z",
     "start_time": "2019-09-30T12:58:33.020Z"
    }
   },
   "outputs": [
    {
     "name": "stdout",
     "output_type": "stream",
     "text": [
      "Number of rep seqs with eggnog-mapper annotations: 206728 \n"
     ]
    }
   ],
   "source": [
    "n_annot_seqs = emap_annot$query_name %>% unique %>% length\n",
    "cat('Number of rep seqs with eggnog-mapper annotations:', n_annot_seqs, '\\n')"
   ]
  },
  {
   "cell_type": "markdown",
   "metadata": {},
   "source": [
    "### COG functional categories\n",
    "\n",
    "* [wiki on categories](https://ecoliwiki.org/colipedia/index.php/Clusters_of_Orthologous_Groups_%28COGs%29)"
   ]
  },
  {
   "cell_type": "code",
   "execution_count": 22,
   "metadata": {
    "ExecuteTime": {
     "end_time": "2019-09-30T12:58:52.480880Z",
     "start_time": "2019-09-30T12:58:50.902Z"
    }
   },
   "outputs": [
    {
     "name": "stderr",
     "output_type": "stream",
     "text": [
      "Warning message:\n",
      "“Expected 5 pieces. Additional pieces discarded in 2 rows [185551, 194320].”Warning message:\n",
      "“Expected 5 pieces. Missing pieces filled with `NA` in 206692 rows [1, 2, 3, 4, 5, 6, 7, 8, 9, 10, 11, 12, 13, 14, 15, 16, 17, 18, 19, 20, ...].”"
     ]
    },
    {
     "name": "stdout",
     "output_type": "stream",
     "text": [
      "[1] 213247      2\n"
     ]
    },
    {
     "data": {
      "text/html": [
       "<table>\n",
       "<thead><tr><th scope=col>query_name</th><th scope=col>COG_func_cat</th></tr></thead>\n",
       "<tbody>\n",
       "\t<tr><td>1af1746df839458f8e358010698807ed</td><td>M                               </td></tr>\n",
       "\t<tr><td>950ab65386244404b567caeed31697c0</td><td>K                               </td></tr>\n",
       "\t<tr><td>a22de4abfce94160b7d36df2d0a2c7cd</td><td>G                               </td></tr>\n",
       "</tbody>\n",
       "</table>\n"
      ],
      "text/latex": [
       "\\begin{tabular}{r|ll}\n",
       " query\\_name & COG\\_func\\_cat\\\\\n",
       "\\hline\n",
       "\t 1af1746df839458f8e358010698807ed & M                               \\\\\n",
       "\t 950ab65386244404b567caeed31697c0 & K                               \\\\\n",
       "\t a22de4abfce94160b7d36df2d0a2c7cd & G                               \\\\\n",
       "\\end{tabular}\n"
      ],
      "text/markdown": [
       "\n",
       "query_name | COG_func_cat | \n",
       "|---|---|---|\n",
       "| 1af1746df839458f8e358010698807ed | M                                | \n",
       "| 950ab65386244404b567caeed31697c0 | K                                | \n",
       "| a22de4abfce94160b7d36df2d0a2c7cd | G                                | \n",
       "\n",
       "\n"
      ],
      "text/plain": [
       "  query_name                       COG_func_cat\n",
       "1 1af1746df839458f8e358010698807ed M           \n",
       "2 950ab65386244404b567caeed31697c0 K           \n",
       "3 a22de4abfce94160b7d36df2d0a2c7cd G           "
      ]
     },
     "metadata": {},
     "output_type": "display_data"
    }
   ],
   "source": [
    "# summarizing by functional group\n",
    "max_cat = emap_annot$COG_Functional_Category %>% unique %>% sapply(nchar) %>% max\n",
    "\n",
    "emap_annot_s = emap_annot %>%\n",
    "    dplyr::select(query_name, COG_Functional_Category) %>%\n",
    "    separate(COG_Functional_Category, LETTERS[1:max_cat], sep='(?<=[A-Z])') %>%\n",
    "    gather(X, COG_func_cat, -query_name) %>%\n",
    "    filter(!is.na(COG_func_cat),\n",
    "           COG_func_cat != '') %>%\n",
    "    dplyr::select(-X) \n",
    "    \n",
    "emap_annot_s %>% dfhead"
   ]
  },
  {
   "cell_type": "code",
   "execution_count": 23,
   "metadata": {
    "ExecuteTime": {
     "end_time": "2019-09-30T12:58:54.824571Z",
     "start_time": "2019-09-30T12:58:51.012Z"
    }
   },
   "outputs": [
    {
     "data": {
      "image/png": "[encoded data removed]",
      "text/plain": [
       "plot without title"
      ]
     },
     "metadata": {},
     "output_type": "display_data"
    }
   ],
   "source": [
    "# plotting summary\n",
    "p = emap_annot_s %>%\n",
    "    ggplot(aes(COG_func_cat)) +\n",
    "    geom_bar() +\n",
    "    labs(x='COG functional category', y='No. of genes') +\n",
    "    theme_bw()\n",
    "\n",
    "dims(9,3)\n",
    "plot(p)"
   ]
  },
  {
   "cell_type": "code",
   "execution_count": 24,
   "metadata": {
    "ExecuteTime": {
     "end_time": "2019-09-30T12:58:55.599078Z",
     "start_time": "2019-09-30T12:58:51.948Z"
    }
   },
   "outputs": [
    {
     "data": {
      "image/png": "[encoded data removed]",
      "text/plain": [
       "plot without title"
      ]
     },
     "metadata": {},
     "output_type": "display_data"
    }
   ],
   "source": [
    "# plotting summary\n",
    "p = emap_annot_s %>%\n",
    "    group_by(COG_func_cat) %>%\n",
    "    summarize(perc_abund = n() / n_annot_seqs * 100) %>%\n",
    "    ungroup() %>%\n",
    "    ggplot(aes(COG_func_cat, perc_abund)) +\n",
    "    geom_bar(stat='identity') +\n",
    "    labs(x='COG functional category', y='% of all genes') +\n",
    "    theme_bw() \n",
    "\n",
    "dims(9,3)\n",
    "plot(p)"
   ]
  },
  {
   "cell_type": "markdown",
   "metadata": {},
   "source": [
    "### Grouped by taxonomy"
   ]
  },
  {
   "cell_type": "code",
   "execution_count": 25,
   "metadata": {
    "ExecuteTime": {
     "end_time": "2019-09-30T12:59:10.104393Z",
     "start_time": "2019-09-30T12:59:03.845Z"
    }
   },
   "outputs": [
    {
     "name": "stderr",
     "output_type": "stream",
     "text": [
      "Warning message:\n",
      "“Expected 5 pieces. Additional pieces discarded in 2 rows [185551, 194320].”Warning message:\n",
      "“Expected 5 pieces. Missing pieces filled with `NA` in 206692 rows [1, 2, 3, 4, 5, 6, 7, 8, 9, 10, 11, 12, 13, 14, 15, 16, 17, 18, 19, 20, ...].”"
     ]
    },
    {
     "name": "stdout",
     "output_type": "stream",
     "text": [
      "[1] 213247     12\n"
     ]
    },
    {
     "data": {
      "text/html": [
       "<table>\n",
       "<thead><tr><th scope=col>query_name</th><th scope=col>COG_func_cat</th><th scope=col>taxID</th><th scope=col>rank</th><th scope=col>spp</th><th scope=col>Domain</th><th scope=col>Phylum</th><th scope=col>Class</th><th scope=col>Order</th><th scope=col>Family</th><th scope=col>Genus</th><th scope=col>Species</th></tr></thead>\n",
       "<tbody>\n",
       "\t<tr><td>1af1746df839458f8e358010698807ed</td><td>M                               </td><td>656410                          </td><td>no rank                         </td><td>Escherichia coli H605           </td><td>unknown                         </td><td>Proteobacteria                  </td><td>Gammaproteobacteria             </td><td>Enterobacterales                </td><td>Enterobacteriaceae              </td><td>Escherichia                     </td><td>Escherichia coli                </td></tr>\n",
       "\t<tr><td>950ab65386244404b567caeed31697c0</td><td>K                               </td><td> 36087                          </td><td>species                         </td><td>Trichuris trichiura             </td><td>Metazoa                         </td><td>Nematoda                        </td><td>Enoplea                         </td><td>Trichinellida                   </td><td>Trichuridae                     </td><td>Trichuris                       </td><td>Trichuris trichiura             </td></tr>\n",
       "\t<tr><td>a22de4abfce94160b7d36df2d0a2c7cd</td><td>G                               </td><td>  2209                          </td><td>species                         </td><td>Methanosarcina mazei            </td><td>unknown                         </td><td>Euryarchaeota                   </td><td>Methanomicrobia                 </td><td>Methanosarcinales               </td><td>Methanosarcinaceae              </td><td>Methanosarcina                  </td><td>Methanosarcina mazei            </td></tr>\n",
       "</tbody>\n",
       "</table>\n"
      ],
      "text/latex": [
       "\\begin{tabular}{r|llllllllllll}\n",
       " query\\_name & COG\\_func\\_cat & taxID & rank & spp & Domain & Phylum & Class & Order & Family & Genus & Species\\\\\n",
       "\\hline\n",
       "\t 1af1746df839458f8e358010698807ed & M                                & 656410                           & no rank                          & Escherichia coli H605            & unknown                          & Proteobacteria                   & Gammaproteobacteria              & Enterobacterales                 & Enterobacteriaceae               & Escherichia                      & Escherichia coli                \\\\\n",
       "\t 950ab65386244404b567caeed31697c0 & K                                &  36087                           & species                          & Trichuris trichiura              & Metazoa                          & Nematoda                         & Enoplea                          & Trichinellida                    & Trichuridae                      & Trichuris                        & Trichuris trichiura             \\\\\n",
       "\t a22de4abfce94160b7d36df2d0a2c7cd & G                                &   2209                           & species                          & Methanosarcina mazei             & unknown                          & Euryarchaeota                    & Methanomicrobia                  & Methanosarcinales                & Methanosarcinaceae               & Methanosarcina                   & Methanosarcina mazei            \\\\\n",
       "\\end{tabular}\n"
      ],
      "text/markdown": [
       "\n",
       "query_name | COG_func_cat | taxID | rank | spp | Domain | Phylum | Class | Order | Family | Genus | Species | \n",
       "|---|---|---|\n",
       "| 1af1746df839458f8e358010698807ed | M                                | 656410                           | no rank                          | Escherichia coli H605            | unknown                          | Proteobacteria                   | Gammaproteobacteria              | Enterobacterales                 | Enterobacteriaceae               | Escherichia                      | Escherichia coli                 | \n",
       "| 950ab65386244404b567caeed31697c0 | K                                |  36087                           | species                          | Trichuris trichiura              | Metazoa                          | Nematoda                         | Enoplea                          | Trichinellida                    | Trichuridae                      | Trichuris                        | Trichuris trichiura              | \n",
       "| a22de4abfce94160b7d36df2d0a2c7cd | G                                |   2209                           | species                          | Methanosarcina mazei             | unknown                          | Euryarchaeota                    | Methanomicrobia                  | Methanosarcinales                | Methanosarcinaceae               | Methanosarcina                   | Methanosarcina mazei             | \n",
       "\n",
       "\n"
      ],
      "text/plain": [
       "  query_name                       COG_func_cat taxID  rank   \n",
       "1 1af1746df839458f8e358010698807ed M            656410 no rank\n",
       "2 950ab65386244404b567caeed31697c0 K             36087 species\n",
       "3 a22de4abfce94160b7d36df2d0a2c7cd G              2209 species\n",
       "  spp                   Domain  Phylum         Class              \n",
       "1 Escherichia coli H605 unknown Proteobacteria Gammaproteobacteria\n",
       "2 Trichuris trichiura   Metazoa Nematoda       Enoplea            \n",
       "3 Methanosarcina mazei  unknown Euryarchaeota  Methanomicrobia    \n",
       "  Order             Family             Genus          Species             \n",
       "1 Enterobacterales  Enterobacteriaceae Escherichia    Escherichia coli    \n",
       "2 Trichinellida     Trichuridae        Trichuris      Trichuris trichiura \n",
       "3 Methanosarcinales Methanosarcinaceae Methanosarcina Methanosarcina mazei"
      ]
     },
     "metadata": {},
     "output_type": "display_data"
    }
   ],
   "source": [
    "max_cat = emap_annot$COG_Functional_Category %>% unique %>% sapply(nchar) %>% max\n",
    "\n",
    "emap_annot_s = emap_annot %>%\n",
    "    dplyr::select(query_name, COG_Functional_Category) %>%\n",
    "    separate(COG_Functional_Category, LETTERS[1:max_cat], sep='(?<=[A-Z])') %>%\n",
    "    gather(X, COG_func_cat, -query_name) %>%\n",
    "    left_join(tax, c('query_name'='seqID')) %>%\n",
    "    filter(!is.na(COG_func_cat),\n",
    "           COG_func_cat != '') %>%\n",
    "    dplyr::select(-X) \n",
    "\n",
    "emap_annot_s %>% dfhead"
   ]
  },
  {
   "cell_type": "code",
   "execution_count": 26,
   "metadata": {
    "ExecuteTime": {
     "end_time": "2019-09-30T12:59:14.645977Z",
     "start_time": "2019-09-30T12:59:03.958Z"
    }
   },
   "outputs": [
    {
     "data": {
      "image/png": "[encoded data removed]",
      "text/plain": [
       "plot without title"
      ]
     },
     "metadata": {},
     "output_type": "display_data"
    }
   ],
   "source": [
    "# plotting summary by domain\n",
    "p = emap_annot_s %>%\n",
    "    ggplot(aes(COG_func_cat)) +\n",
    "    geom_bar() +\n",
    "    facet_wrap(~ Domain, scales='free_y') +\n",
    "    labs(x='COG functional category', y='No. of genes') +\n",
    "    theme_bw()\n",
    "\n",
    "dims(9,5)\n",
    "plot(p)"
   ]
  },
  {
   "cell_type": "code",
   "execution_count": 27,
   "metadata": {
    "ExecuteTime": {
     "end_time": "2019-09-30T12:59:22.400555Z",
     "start_time": "2019-09-30T12:59:04.741Z"
    }
   },
   "outputs": [
    {
     "data": {
      "image/png": "[encoded data removed]",
      "text/plain": [
       "plot without title"
      ]
     },
     "metadata": {},
     "output_type": "display_data"
    }
   ],
   "source": [
    "# plotting summary by phylum\n",
    "p = emap_annot_s %>%\n",
    "    group_by(Phylum) %>%\n",
    "    mutate(n = n()) %>%\n",
    "    ungroup() %>%\n",
    "    filter(n >= 1000) %>%\n",
    "    mutate(Phylum = Phylum %>% reorder(-n)) %>%\n",
    "    ggplot(aes(COG_func_cat, fill=Domain)) +\n",
    "    geom_bar() +\n",
    "    facet_wrap(~ Phylum, scales='free_y', ncol=3) +\n",
    "    labs(x='COG functional category', y='No. of genes') +\n",
    "    theme_bw()\n",
    "\n",
    "dims(10,5)\n",
    "plot(p)"
   ]
  },
  {
   "cell_type": "markdown",
   "metadata": {},
   "source": [
    "## humann2 db genes"
   ]
  },
  {
   "cell_type": "code",
   "execution_count": 28,
   "metadata": {
    "ExecuteTime": {
     "end_time": "2019-09-30T12:59:25.963222Z",
     "start_time": "2019-09-30T12:59:08.877Z"
    }
   },
   "outputs": [
    {
     "name": "stderr",
     "output_type": "stream",
     "text": [
      "Warning message:\n",
      "“Expected 2 pieces. Missing pieces filled with `NA` in 5839 rows [7, 31, 35, 52, 54, 60, 67, 71, 81, 85, 96, 101, 109, 111, 154, 171, 192, 201, 213, 227, ...].”"
     ]
    },
    {
     "name": "stdout",
     "output_type": "stream",
     "text": [
      "[1] 89536     6\n"
     ]
    },
    {
     "data": {
      "text/html": [
       "<table>\n",
       "<thead><tr><th scope=col>original_name</th><th scope=col>UniRefID</th><th scope=col>Gene_length</th><th scope=col>Genus</th><th scope=col>Species</th><th scope=col>TaxID</th></tr></thead>\n",
       "<tbody>\n",
       "\t<tr><td>4e2fbbfa3926460d8a2e8bfc22970179</td><td>UniRef50_A0A023L7Q0             </td><td>51                              </td><td>Escherichia                     </td><td>Escherichia_coli                </td><td>562                             </td></tr>\n",
       "\t<tr><td>ffac3a83cf894b42b70f56dd11a5f029</td><td>UniRef50_F4MC03                 </td><td>349                             </td><td>Pantoea                         </td><td>Pantoea_sp_GM01                 </td><td>1144320                         </td></tr>\n",
       "\t<tr><td>156a5671ba8d44d49c361b848df4f54c</td><td>UniRef50_E2QK65                 </td><td>298                             </td><td>unclassified                    </td><td>unclassified                    </td><td>2060067                         </td></tr>\n",
       "</tbody>\n",
       "</table>\n"
      ],
      "text/latex": [
       "\\begin{tabular}{r|llllll}\n",
       " original\\_name & UniRefID & Gene\\_length & Genus & Species & TaxID\\\\\n",
       "\\hline\n",
       "\t 4e2fbbfa3926460d8a2e8bfc22970179 & UniRef50\\_A0A023L7Q0            & 51                               & Escherichia                      & Escherichia\\_coli               & 562                             \\\\\n",
       "\t ffac3a83cf894b42b70f56dd11a5f029 & UniRef50\\_F4MC03                & 349                              & Pantoea                          & Pantoea\\_sp\\_GM01              & 1144320                         \\\\\n",
       "\t 156a5671ba8d44d49c361b848df4f54c & UniRef50\\_E2QK65                & 298                              & unclassified                     & unclassified                     & 2060067                         \\\\\n",
       "\\end{tabular}\n"
      ],
      "text/markdown": [
       "\n",
       "original_name | UniRefID | Gene_length | Genus | Species | TaxID | \n",
       "|---|---|---|\n",
       "| 4e2fbbfa3926460d8a2e8bfc22970179 | UniRef50_A0A023L7Q0              | 51                               | Escherichia                      | Escherichia_coli                 | 562                              | \n",
       "| ffac3a83cf894b42b70f56dd11a5f029 | UniRef50_F4MC03                  | 349                              | Pantoea                          | Pantoea_sp_GM01                  | 1144320                          | \n",
       "| 156a5671ba8d44d49c361b848df4f54c | UniRef50_E2QK65                  | 298                              | unclassified                     | unclassified                     | 2060067                          | \n",
       "\n",
       "\n"
      ],
      "text/plain": [
       "  original_name                    UniRefID            Gene_length Genus       \n",
       "1 4e2fbbfa3926460d8a2e8bfc22970179 UniRef50_A0A023L7Q0 51          Escherichia \n",
       "2 ffac3a83cf894b42b70f56dd11a5f029 UniRef50_F4MC03     349         Pantoea     \n",
       "3 156a5671ba8d44d49c361b848df4f54c UniRef50_E2QK65     298         unclassified\n",
       "  Species          TaxID  \n",
       "1 Escherichia_coli 562    \n",
       "2 Pantoea_sp_GM01  1144320\n",
       "3 unclassified     2060067"
      ]
     },
     "metadata": {},
     "output_type": "display_data"
    }
   ],
   "source": [
    "# gene IDs\n",
    "F = file.path(work_dir, 'humann2_db', 'clusters_rep-seqs_annot-index.tsv')\n",
    "\n",
    "hm2 = fread(F, sep='\\t', header=TRUE) %>%\n",
    "    separate(new_name, c('UniRefID', 'Gene_length', 'Taxonomy'), sep='\\\\|') %>%\n",
    "    separate(Taxonomy, c('Genus', 'Species'), sep='\\\\.s__') %>%\n",
    "    separate(Species, c('Species', 'TaxID'), sep='__taxID') %>%\n",
    "    mutate(Genus = gsub('^g__', '', Genus))\n",
    "\n",
    "hm2 %>% dfhead"
   ]
  },
  {
   "cell_type": "code",
   "execution_count": 29,
   "metadata": {
    "ExecuteTime": {
     "end_time": "2019-09-30T12:59:26.927117Z",
     "start_time": "2019-09-30T12:59:09.133Z"
    }
   },
   "outputs": [
    {
     "name": "stdout",
     "output_type": "stream",
     "text": [
      "[1] 89536\n",
      "[1] 89536    16\n"
     ]
    },
    {
     "data": {
      "text/html": [
       "<table>\n",
       "<thead><tr><th scope=col>original_name</th><th scope=col>UniRefID</th><th scope=col>Gene_length</th><th scope=col>Genus.x</th><th scope=col>Species.x</th><th scope=col>TaxID</th><th scope=col>taxID</th><th scope=col>rank</th><th scope=col>spp</th><th scope=col>Domain</th><th scope=col>Phylum</th><th scope=col>Class</th><th scope=col>Order</th><th scope=col>Family</th><th scope=col>Genus.y</th><th scope=col>Species.y</th></tr></thead>\n",
       "<tbody>\n",
       "\t<tr><td>4e2fbbfa3926460d8a2e8bfc22970179</td><td>UniRef50_A0A023L7Q0             </td><td>51                              </td><td>Escherichia                     </td><td>Escherichia_coli                </td><td>562                             </td><td>    562                         </td><td>species                         </td><td>Escherichia coli                </td><td>unknown                         </td><td>Proteobacteria                  </td><td>Gammaproteobacteria             </td><td>Enterobacterales                </td><td>Enterobacteriaceae              </td><td>Escherichia                     </td><td>Escherichia coli                </td></tr>\n",
       "\t<tr><td>ffac3a83cf894b42b70f56dd11a5f029</td><td>UniRef50_F4MC03                 </td><td>349                             </td><td>Pantoea                         </td><td>Pantoea_sp_GM01                 </td><td>1144320                         </td><td>1144320                         </td><td>species                         </td><td>Pantoea sp. GM01                </td><td>unknown                         </td><td>Proteobacteria                  </td><td>Gammaproteobacteria             </td><td>Enterobacterales                </td><td>Erwiniaceae                     </td><td>Pantoea                         </td><td>Pantoea sp. GM01                </td></tr>\n",
       "\t<tr><td>156a5671ba8d44d49c361b848df4f54c</td><td>UniRef50_E2QK65                 </td><td>298                             </td><td>unclassified                    </td><td>unclassified                    </td><td>2060067                         </td><td>2060067                         </td><td>species                         </td><td>Yersiniaceae bacterium 2015Iso6 </td><td>unknown                         </td><td>Proteobacteria                  </td><td>Gammaproteobacteria             </td><td>Enterobacterales                </td><td>Yersiniaceae                    </td><td>unknown                         </td><td>Yersiniaceae bacterium 2015Iso6 </td></tr>\n",
       "</tbody>\n",
       "</table>\n"
      ],
      "text/latex": [
       "\\begin{tabular}{r|llllllllllllllll}\n",
       " original\\_name & UniRefID & Gene\\_length & Genus.x & Species.x & TaxID & taxID & rank & spp & Domain & Phylum & Class & Order & Family & Genus.y & Species.y\\\\\n",
       "\\hline\n",
       "\t 4e2fbbfa3926460d8a2e8bfc22970179 & UniRef50\\_A0A023L7Q0            & 51                               & Escherichia                      & Escherichia\\_coli               & 562                              &     562                          & species                          & Escherichia coli                 & unknown                          & Proteobacteria                   & Gammaproteobacteria              & Enterobacterales                 & Enterobacteriaceae               & Escherichia                      & Escherichia coli                \\\\\n",
       "\t ffac3a83cf894b42b70f56dd11a5f029 & UniRef50\\_F4MC03                & 349                              & Pantoea                          & Pantoea\\_sp\\_GM01              & 1144320                          & 1144320                          & species                          & Pantoea sp. GM01                 & unknown                          & Proteobacteria                   & Gammaproteobacteria              & Enterobacterales                 & Erwiniaceae                      & Pantoea                          & Pantoea sp. GM01                \\\\\n",
       "\t 156a5671ba8d44d49c361b848df4f54c & UniRef50\\_E2QK65                & 298                              & unclassified                     & unclassified                     & 2060067                          & 2060067                          & species                          & Yersiniaceae bacterium 2015Iso6  & unknown                          & Proteobacteria                   & Gammaproteobacteria              & Enterobacterales                 & Yersiniaceae                     & unknown                          & Yersiniaceae bacterium 2015Iso6 \\\\\n",
       "\\end{tabular}\n"
      ],
      "text/markdown": [
       "\n",
       "original_name | UniRefID | Gene_length | Genus.x | Species.x | TaxID | taxID | rank | spp | Domain | Phylum | Class | Order | Family | Genus.y | Species.y | \n",
       "|---|---|---|\n",
       "| 4e2fbbfa3926460d8a2e8bfc22970179 | UniRef50_A0A023L7Q0              | 51                               | Escherichia                      | Escherichia_coli                 | 562                              |     562                          | species                          | Escherichia coli                 | unknown                          | Proteobacteria                   | Gammaproteobacteria              | Enterobacterales                 | Enterobacteriaceae               | Escherichia                      | Escherichia coli                 | \n",
       "| ffac3a83cf894b42b70f56dd11a5f029 | UniRef50_F4MC03                  | 349                              | Pantoea                          | Pantoea_sp_GM01                  | 1144320                          | 1144320                          | species                          | Pantoea sp. GM01                 | unknown                          | Proteobacteria                   | Gammaproteobacteria              | Enterobacterales                 | Erwiniaceae                      | Pantoea                          | Pantoea sp. GM01                 | \n",
       "| 156a5671ba8d44d49c361b848df4f54c | UniRef50_E2QK65                  | 298                              | unclassified                     | unclassified                     | 2060067                          | 2060067                          | species                          | Yersiniaceae bacterium 2015Iso6  | unknown                          | Proteobacteria                   | Gammaproteobacteria              | Enterobacterales                 | Yersiniaceae                     | unknown                          | Yersiniaceae bacterium 2015Iso6  | \n",
       "\n",
       "\n"
      ],
      "text/plain": [
       "  original_name                    UniRefID            Gene_length Genus.x     \n",
       "1 4e2fbbfa3926460d8a2e8bfc22970179 UniRef50_A0A023L7Q0 51          Escherichia \n",
       "2 ffac3a83cf894b42b70f56dd11a5f029 UniRef50_F4MC03     349         Pantoea     \n",
       "3 156a5671ba8d44d49c361b848df4f54c UniRef50_E2QK65     298         unclassified\n",
       "  Species.x        TaxID   taxID   rank    spp                            \n",
       "1 Escherichia_coli 562         562 species Escherichia coli               \n",
       "2 Pantoea_sp_GM01  1144320 1144320 species Pantoea sp. GM01               \n",
       "3 unclassified     2060067 2060067 species Yersiniaceae bacterium 2015Iso6\n",
       "  Domain  Phylum         Class               Order           \n",
       "1 unknown Proteobacteria Gammaproteobacteria Enterobacterales\n",
       "2 unknown Proteobacteria Gammaproteobacteria Enterobacterales\n",
       "3 unknown Proteobacteria Gammaproteobacteria Enterobacterales\n",
       "  Family             Genus.y     Species.y                      \n",
       "1 Enterobacteriaceae Escherichia Escherichia coli               \n",
       "2 Erwiniaceae        Pantoea     Pantoea sp. GM01               \n",
       "3 Yersiniaceae       unknown     Yersiniaceae bacterium 2015Iso6"
      ]
     },
     "metadata": {},
     "output_type": "display_data"
    }
   ],
   "source": [
    "# adding taxonomy\n",
    "intersect(hm2$original_name, tax$seqID) %>% length %>% print\n",
    "\n",
    "hm2 = hm2 %>%\n",
    "    left_join(tax, c('original_name'='seqID'))\n",
    "\n",
    "hm2 %>% dfhead"
   ]
  },
  {
   "cell_type": "markdown",
   "metadata": {},
   "source": [
    "### Summary"
   ]
  },
  {
   "cell_type": "code",
   "execution_count": 30,
   "metadata": {
    "ExecuteTime": {
     "end_time": "2019-09-30T12:59:27.047195Z",
     "start_time": "2019-09-30T12:59:22.731Z"
    }
   },
   "outputs": [
    {
     "data": {
      "text/html": [
       "49494"
      ],
      "text/latex": [
       "49494"
      ],
      "text/markdown": [
       "49494"
      ],
      "text/plain": [
       "[1] 49494"
      ]
     },
     "metadata": {},
     "output_type": "display_data"
    }
   ],
   "source": [
    "# number of unique UniRef IDs\n",
    "hm2$UniRefID %>% unique %>% length"
   ]
  },
  {
   "cell_type": "code",
   "execution_count": 31,
   "metadata": {
    "ExecuteTime": {
     "end_time": "2019-09-30T12:59:28.614442Z",
     "start_time": "2019-09-30T12:59:22.858Z"
    }
   },
   "outputs": [
    {
     "data": {
      "text/html": [
       "<table>\n",
       "<thead><tr><th scope=col>UniRefID</th><th scope=col>n</th></tr></thead>\n",
       "<tbody>\n",
       "\t<tr><td>UniRef50_B7HCU0</td><td>22             </td></tr>\n",
       "\t<tr><td>UniRef50_B9MKF3</td><td>22             </td></tr>\n",
       "\t<tr><td>UniRef50_P37518</td><td>22             </td></tr>\n",
       "\t<tr><td>UniRef50_Q5HRK4</td><td>20             </td></tr>\n",
       "\t<tr><td>UniRef50_A4VXK2</td><td>19             </td></tr>\n",
       "\t<tr><td>UniRef50_B9IYZ4</td><td>19             </td></tr>\n",
       "\t<tr><td>UniRef50_C4XFZ6</td><td>19             </td></tr>\n",
       "\t<tr><td>UniRef50_M5AC54</td><td>18             </td></tr>\n",
       "\t<tr><td>UniRef50_Q54431</td><td>18             </td></tr>\n",
       "\t<tr><td>UniRef50_R6YUP4</td><td>18             </td></tr>\n",
       "\t<tr><td>UniRef50_P37245</td><td>17             </td></tr>\n",
       "\t<tr><td>UniRef50_Q46829</td><td>17             </td></tr>\n",
       "\t<tr><td>UniRef50_Q839F2</td><td>17             </td></tr>\n",
       "\t<tr><td>UniRef50_Q839G1</td><td>17             </td></tr>\n",
       "\t<tr><td>UniRef50_U5P983</td><td>17             </td></tr>\n",
       "\t<tr><td>UniRef50_A4W453</td><td>16             </td></tr>\n",
       "\t<tr><td>UniRef50_A7ZRX6</td><td>16             </td></tr>\n",
       "\t<tr><td>UniRef50_B1YMR4</td><td>16             </td></tr>\n",
       "\t<tr><td>UniRef50_B3WCP6</td><td>16             </td></tr>\n",
       "\t<tr><td>UniRef50_B5E2W4</td><td>16             </td></tr>\n",
       "\t<tr><td>UniRef50_Q3K022</td><td>16             </td></tr>\n",
       "\t<tr><td>UniRef50_R5HIY2</td><td>16             </td></tr>\n",
       "\t<tr><td>UniRef50_A4W496</td><td>15             </td></tr>\n",
       "\t<tr><td>UniRef50_I6U0D0</td><td>15             </td></tr>\n",
       "\t<tr><td>UniRef50_O54408</td><td>15             </td></tr>\n",
       "\t<tr><td>UniRef50_P37464</td><td>15             </td></tr>\n",
       "\t<tr><td>UniRef50_Q07637</td><td>15             </td></tr>\n",
       "\t<tr><td>UniRef50_Q834V4</td><td>15             </td></tr>\n",
       "\t<tr><td>UniRef50_W1UEG7</td><td>15             </td></tr>\n",
       "\t<tr><td>UniRef50_B2IQP4</td><td>14             </td></tr>\n",
       "</tbody>\n",
       "</table>\n"
      ],
      "text/latex": [
       "\\begin{tabular}{r|ll}\n",
       " UniRefID & n\\\\\n",
       "\\hline\n",
       "\t UniRef50\\_B7HCU0 & 22               \\\\\n",
       "\t UniRef50\\_B9MKF3 & 22               \\\\\n",
       "\t UniRef50\\_P37518 & 22               \\\\\n",
       "\t UniRef50\\_Q5HRK4 & 20               \\\\\n",
       "\t UniRef50\\_A4VXK2 & 19               \\\\\n",
       "\t UniRef50\\_B9IYZ4 & 19               \\\\\n",
       "\t UniRef50\\_C4XFZ6 & 19               \\\\\n",
       "\t UniRef50\\_M5AC54 & 18               \\\\\n",
       "\t UniRef50\\_Q54431 & 18               \\\\\n",
       "\t UniRef50\\_R6YUP4 & 18               \\\\\n",
       "\t UniRef50\\_P37245 & 17               \\\\\n",
       "\t UniRef50\\_Q46829 & 17               \\\\\n",
       "\t UniRef50\\_Q839F2 & 17               \\\\\n",
       "\t UniRef50\\_Q839G1 & 17               \\\\\n",
       "\t UniRef50\\_U5P983 & 17               \\\\\n",
       "\t UniRef50\\_A4W453 & 16               \\\\\n",
       "\t UniRef50\\_A7ZRX6 & 16               \\\\\n",
       "\t UniRef50\\_B1YMR4 & 16               \\\\\n",
       "\t UniRef50\\_B3WCP6 & 16               \\\\\n",
       "\t UniRef50\\_B5E2W4 & 16               \\\\\n",
       "\t UniRef50\\_Q3K022 & 16               \\\\\n",
       "\t UniRef50\\_R5HIY2 & 16               \\\\\n",
       "\t UniRef50\\_A4W496 & 15               \\\\\n",
       "\t UniRef50\\_I6U0D0 & 15               \\\\\n",
       "\t UniRef50\\_O54408 & 15               \\\\\n",
       "\t UniRef50\\_P37464 & 15               \\\\\n",
       "\t UniRef50\\_Q07637 & 15               \\\\\n",
       "\t UniRef50\\_Q834V4 & 15               \\\\\n",
       "\t UniRef50\\_W1UEG7 & 15               \\\\\n",
       "\t UniRef50\\_B2IQP4 & 14               \\\\\n",
       "\\end{tabular}\n"
      ],
      "text/markdown": [
       "\n",
       "UniRefID | n | \n",
       "|---|---|---|---|---|---|---|---|---|---|---|---|---|---|---|---|---|---|---|---|---|---|---|---|---|---|---|---|---|---|\n",
       "| UniRef50_B7HCU0 | 22              | \n",
       "| UniRef50_B9MKF3 | 22              | \n",
       "| UniRef50_P37518 | 22              | \n",
       "| UniRef50_Q5HRK4 | 20              | \n",
       "| UniRef50_A4VXK2 | 19              | \n",
       "| UniRef50_B9IYZ4 | 19              | \n",
       "| UniRef50_C4XFZ6 | 19              | \n",
       "| UniRef50_M5AC54 | 18              | \n",
       "| UniRef50_Q54431 | 18              | \n",
       "| UniRef50_R6YUP4 | 18              | \n",
       "| UniRef50_P37245 | 17              | \n",
       "| UniRef50_Q46829 | 17              | \n",
       "| UniRef50_Q839F2 | 17              | \n",
       "| UniRef50_Q839G1 | 17              | \n",
       "| UniRef50_U5P983 | 17              | \n",
       "| UniRef50_A4W453 | 16              | \n",
       "| UniRef50_A7ZRX6 | 16              | \n",
       "| UniRef50_B1YMR4 | 16              | \n",
       "| UniRef50_B3WCP6 | 16              | \n",
       "| UniRef50_B5E2W4 | 16              | \n",
       "| UniRef50_Q3K022 | 16              | \n",
       "| UniRef50_R5HIY2 | 16              | \n",
       "| UniRef50_A4W496 | 15              | \n",
       "| UniRef50_I6U0D0 | 15              | \n",
       "| UniRef50_O54408 | 15              | \n",
       "| UniRef50_P37464 | 15              | \n",
       "| UniRef50_Q07637 | 15              | \n",
       "| UniRef50_Q834V4 | 15              | \n",
       "| UniRef50_W1UEG7 | 15              | \n",
       "| UniRef50_B2IQP4 | 14              | \n",
       "\n",
       "\n"
      ],
      "text/plain": [
       "   UniRefID        n \n",
       "1  UniRef50_B7HCU0 22\n",
       "2  UniRef50_B9MKF3 22\n",
       "3  UniRef50_P37518 22\n",
       "4  UniRef50_Q5HRK4 20\n",
       "5  UniRef50_A4VXK2 19\n",
       "6  UniRef50_B9IYZ4 19\n",
       "7  UniRef50_C4XFZ6 19\n",
       "8  UniRef50_M5AC54 18\n",
       "9  UniRef50_Q54431 18\n",
       "10 UniRef50_R6YUP4 18\n",
       "11 UniRef50_P37245 17\n",
       "12 UniRef50_Q46829 17\n",
       "13 UniRef50_Q839F2 17\n",
       "14 UniRef50_Q839G1 17\n",
       "15 UniRef50_U5P983 17\n",
       "16 UniRef50_A4W453 16\n",
       "17 UniRef50_A7ZRX6 16\n",
       "18 UniRef50_B1YMR4 16\n",
       "19 UniRef50_B3WCP6 16\n",
       "20 UniRef50_B5E2W4 16\n",
       "21 UniRef50_Q3K022 16\n",
       "22 UniRef50_R5HIY2 16\n",
       "23 UniRef50_A4W496 15\n",
       "24 UniRef50_I6U0D0 15\n",
       "25 UniRef50_O54408 15\n",
       "26 UniRef50_P37464 15\n",
       "27 UniRef50_Q07637 15\n",
       "28 UniRef50_Q834V4 15\n",
       "29 UniRef50_W1UEG7 15\n",
       "30 UniRef50_B2IQP4 14"
      ]
     },
     "metadata": {},
     "output_type": "display_data"
    }
   ],
   "source": [
    "# duplicate UniRef IDs\n",
    "hm2 %>%\n",
    "    group_by(UniRefID) %>%\n",
    "    summarize(n = n()) %>%\n",
    "    ungroup() %>%\n",
    "    filter(n > 1) %>%\n",
    "    arrange(-n) %>%\n",
    "    head(n=30)"
   ]
  },
  {
   "cell_type": "code",
   "execution_count": 32,
   "metadata": {
    "ExecuteTime": {
     "end_time": "2019-09-30T12:59:28.919181Z",
     "start_time": "2019-09-30T12:59:23.643Z"
    }
   },
   "outputs": [
    {
     "data": {
      "text/html": [
       "83697"
      ],
      "text/latex": [
       "83697"
      ],
      "text/markdown": [
       "83697"
      ],
      "text/plain": [
       "[1] 83697"
      ]
     },
     "metadata": {},
     "output_type": "display_data"
    }
   ],
   "source": [
    "# number of genes with a taxID\n",
    "hm2_f = hm2 %>%\n",
    "    filter(!is.na(TaxID))\n",
    "\n",
    "hm2_f %>% nrow "
   ]
  },
  {
   "cell_type": "markdown",
   "metadata": {},
   "source": [
    "#### By taxonomy"
   ]
  },
  {
   "cell_type": "code",
   "execution_count": 33,
   "metadata": {
    "ExecuteTime": {
     "end_time": "2019-09-30T12:59:30.266207Z",
     "start_time": "2019-09-30T12:59:23.922Z"
    }
   },
   "outputs": [
    {
     "data": {
      "image/png": "[encoded data removed]",
      "text/plain": [
       "plot without title"
      ]
     },
     "metadata": {},
     "output_type": "display_data"
    }
   ],
   "source": [
    "# number of UniRefIDs\n",
    "hm2_f_s = hm2_f %>%\n",
    "    group_by(Domain, Phylum) %>%\n",
    "    summarize(n = UniRefID %>% unique %>% length) %>%\n",
    "    ungroup()\n",
    "\n",
    "p = hm2_f_s %>%\n",
    "    filter(n >= 10) %>%\n",
    "    mutate(Phylum = Phylum %>% reorder(n)) %>%\n",
    "    ggplot(aes(Phylum, n, fill=Domain)) +\n",
    "    geom_bar(stat='identity', position='dodge') +\n",
    "    scale_y_log10() +\n",
    "    coord_flip() +\n",
    "    labs(y='No. of UniRef IDs') +\n",
    "    theme_bw() +\n",
    "    theme(\n",
    "        axis.text.y = element_text(size=7)\n",
    "    )\n",
    "    \n",
    "dims(5,5)\n",
    "plot(p)"
   ]
  },
  {
   "cell_type": "markdown",
   "metadata": {},
   "source": [
    "# sessionInfo"
   ]
  },
  {
   "cell_type": "code",
   "execution_count": 34,
   "metadata": {
    "ExecuteTime": {
     "end_time": "2019-09-30T12:59:30.369760Z",
     "start_time": "2019-09-30T12:59:24.723Z"
    }
   },
   "outputs": [
    {
     "data": {
      "text/plain": [
       "R version 3.4.1 (2017-06-30)\n",
       "Platform: x86_64-pc-linux-gnu (64-bit)\n",
       "Running under: Ubuntu 18.04.3 LTS\n",
       "\n",
       "Matrix products: default\n",
       "BLAS: /ebio/abt3_projects/software/miniconda3_gt4.4/envs/py3_physeq/lib/R/lib/libRblas.so\n",
       "LAPACK: /ebio/abt3_projects/software/miniconda3_gt4.4/envs/py3_physeq/lib/R/lib/libRlapack.so\n",
       "\n",
       "locale:\n",
       "[1] en_US.UTF-8\n",
       "\n",
       "attached base packages:\n",
       "[1] stats     graphics  grDevices utils     datasets  methods   base     \n",
       "\n",
       "other attached packages:\n",
       "[1] bindrcpp_0.2.2    data.table_1.11.4 ggplot2_3.0.0     tidyr_0.8.1      \n",
       "[5] dplyr_0.7.6      \n",
       "\n",
       "loaded via a namespace (and not attached):\n",
       " [1] Rcpp_0.12.17     pillar_1.2.2     compiler_3.4.1   plyr_1.8.4      \n",
       " [5] bindr_0.1.1      base64enc_0.1-3  tools_3.4.1      digest_0.6.15   \n",
       " [9] uuid_0.1-2       jsonlite_1.5     evaluate_0.10.1  tibble_1.4.2    \n",
       "[13] gtable_0.2.0     pkgconfig_2.0.1  rlang_0.2.1      IRdisplay_0.4.4 \n",
       "[17] IRkernel_0.8.12  repr_0.15.0      withr_2.1.1      stringr_1.3.1   \n",
       "[21] grid_3.4.1       tidyselect_0.2.4 glue_1.3.0       R6_2.2.2        \n",
       "[25] pbdZMQ_0.3-2     purrr_0.2.4      magrittr_1.5     scales_0.5.0    \n",
       "[29] htmltools_0.3.6  assertthat_0.2.0 colorspace_1.3-2 labeling_0.3    \n",
       "[33] stringi_1.2.3    lazyeval_0.2.1   munsell_0.5.0    crayon_1.3.4    "
      ]
     },
     "metadata": {},
     "output_type": "display_data"
    }
   ],
   "source": [
    "sessionInfo()"
   ]
  },
  {
   "cell_type": "code",
   "execution_count": null,
   "metadata": {},
   "outputs": [],
   "source": []
  }
 ],
 "metadata": {
  "kernelspec": {
   "display_name": "R [conda env:py3_physeq]",
   "language": "R",
   "name": "conda-env-py3_physeq-r"
  },
  "language_info": {
   "codemirror_mode": "r",
   "file_extension": ".r",
   "mimetype": "text/x-r-source",
   "name": "R",
   "pygments_lexer": "r",
   "version": "3.4.1"
  },
  "notify_time": "30",
  "toc": {
   "base_numbering": 1,
   "nav_menu": {},
   "number_sections": true,
   "sideBar": true,
   "skip_h1_title": false,
   "title_cell": "Table of Contents",
   "title_sidebar": "Contents",
   "toc_cell": true,
   "toc_position": {},
   "toc_section_display": true,
   "toc_window_display": true
  }
 },
 "nbformat": 4,
 "nbformat_minor": 2
}
