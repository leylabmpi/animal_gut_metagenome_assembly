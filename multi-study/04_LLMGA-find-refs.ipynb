{
 "cells": [
  {
   "cell_type": "markdown",
   "metadata": {
    "toc": true
   },
   "source": [
    "<h1>Table of Contents<span class=\"tocSkip\"></span></h1>\n",
    "<div class=\"toc\"><ul class=\"toc-item\"><li><span><a href=\"#Goal\" data-toc-modified-id=\"Goal-1\"><span class=\"toc-item-num\">1&nbsp;&nbsp;</span>Goal</a></span></li><li><span><a href=\"#Var\" data-toc-modified-id=\"Var-2\"><span class=\"toc-item-num\">2&nbsp;&nbsp;</span>Var</a></span></li><li><span><a href=\"#Init\" data-toc-modified-id=\"Init-3\"><span class=\"toc-item-num\">3&nbsp;&nbsp;</span>Init</a></span></li><li><span><a href=\"#LLMGA-find-refs\" data-toc-modified-id=\"LLMGA-find-refs-4\"><span class=\"toc-item-num\">4&nbsp;&nbsp;</span>LLMGA-find-refs</a></span><ul class=\"toc-item\"><li><span><a href=\"#PRJEB11755\" data-toc-modified-id=\"PRJEB11755-4.1\"><span class=\"toc-item-num\">4.1&nbsp;&nbsp;</span>PRJEB11755</a></span><ul class=\"toc-item\"><li><span><a href=\"#Run\" data-toc-modified-id=\"Run-4.1.1\"><span class=\"toc-item-num\">4.1.1&nbsp;&nbsp;</span>Run</a></span></li><li><span><a href=\"#Results\" data-toc-modified-id=\"Results-4.1.2\"><span class=\"toc-item-num\">4.1.2&nbsp;&nbsp;</span>Results</a></span></li></ul></li><li><span><a href=\"#PRJEB20308\" data-toc-modified-id=\"PRJEB20308-4.2\"><span class=\"toc-item-num\">4.2&nbsp;&nbsp;</span>PRJEB20308</a></span><ul class=\"toc-item\"><li><span><a href=\"#Run\" data-toc-modified-id=\"Run-4.2.1\"><span class=\"toc-item-num\">4.2.1&nbsp;&nbsp;</span>Run</a></span></li><li><span><a href=\"#Results\" data-toc-modified-id=\"Results-4.2.2\"><span class=\"toc-item-num\">4.2.2&nbsp;&nbsp;</span>Results</a></span></li></ul></li><li><span><a href=\"#PRJEB21624\" data-toc-modified-id=\"PRJEB21624-4.3\"><span class=\"toc-item-num\">4.3&nbsp;&nbsp;</span>PRJEB21624</a></span><ul class=\"toc-item\"><li><ul class=\"toc-item\"><li><span><a href=\"#--skipping--\" data-toc-modified-id=\"--skipping---4.3.0.1\"><span class=\"toc-item-num\">4.3.0.1&nbsp;&nbsp;</span>--skipping--</a></span></li></ul></li></ul></li><li><span><a href=\"#PRJEB29346\" data-toc-modified-id=\"PRJEB29346-4.4\"><span class=\"toc-item-num\">4.4&nbsp;&nbsp;</span>PRJEB29346</a></span><ul class=\"toc-item\"><li><span><a href=\"#Creating-bracken-file-list-table\" data-toc-modified-id=\"Creating-bracken-file-list-table-4.4.1\"><span class=\"toc-item-num\">4.4.1&nbsp;&nbsp;</span>Creating bracken file list table</a></span></li><li><span><a href=\"#Config\" data-toc-modified-id=\"Config-4.4.2\"><span class=\"toc-item-num\">4.4.2&nbsp;&nbsp;</span>Config</a></span></li><li><span><a href=\"#Run\" data-toc-modified-id=\"Run-4.4.3\"><span class=\"toc-item-num\">4.4.3&nbsp;&nbsp;</span>Run</a></span></li><li><span><a href=\"#Results\" data-toc-modified-id=\"Results-4.4.4\"><span class=\"toc-item-num\">4.4.4&nbsp;&nbsp;</span>Results</a></span></li></ul></li><li><span><a href=\"#PRJNA316560-PRJNA316570\" data-toc-modified-id=\"PRJNA316560-PRJNA316570-4.5\"><span class=\"toc-item-num\">4.5&nbsp;&nbsp;</span>PRJNA316560-PRJNA316570</a></span><ul class=\"toc-item\"><li><span><a href=\"#Config\" data-toc-modified-id=\"Config-4.5.1\"><span class=\"toc-item-num\">4.5.1&nbsp;&nbsp;</span>Config</a></span></li><li><span><a href=\"#Run\" data-toc-modified-id=\"Run-4.5.2\"><span class=\"toc-item-num\">4.5.2&nbsp;&nbsp;</span>Run</a></span></li><li><span><a href=\"#Results\" data-toc-modified-id=\"Results-4.5.3\"><span class=\"toc-item-num\">4.5.3&nbsp;&nbsp;</span>Results</a></span></li></ul></li><li><span><a href=\"#PRJNA336354\" data-toc-modified-id=\"PRJNA336354-4.6\"><span class=\"toc-item-num\">4.6&nbsp;&nbsp;</span>PRJNA336354</a></span><ul class=\"toc-item\"><li><span><a href=\"#Config\" data-toc-modified-id=\"Config-4.6.1\"><span class=\"toc-item-num\">4.6.1&nbsp;&nbsp;</span>Config</a></span></li><li><span><a href=\"#Run\" data-toc-modified-id=\"Run-4.6.2\"><span class=\"toc-item-num\">4.6.2&nbsp;&nbsp;</span>Run</a></span></li><li><span><a href=\"#Results\" data-toc-modified-id=\"Results-4.6.3\"><span class=\"toc-item-num\">4.6.3&nbsp;&nbsp;</span>Results</a></span></li></ul></li><li><span><a href=\"#PRJNA381379\" data-toc-modified-id=\"PRJNA381379-4.7\"><span class=\"toc-item-num\">4.7&nbsp;&nbsp;</span>PRJNA381379</a></span><ul class=\"toc-item\"><li><span><a href=\"#Config\" data-toc-modified-id=\"Config-4.7.1\"><span class=\"toc-item-num\">4.7.1&nbsp;&nbsp;</span>Config</a></span></li><li><span><a href=\"#Run\" data-toc-modified-id=\"Run-4.7.2\"><span class=\"toc-item-num\">4.7.2&nbsp;&nbsp;</span>Run</a></span></li><li><span><a href=\"#Results\" data-toc-modified-id=\"Results-4.7.3\"><span class=\"toc-item-num\">4.7.3&nbsp;&nbsp;</span>Results</a></span></li></ul></li><li><span><a href=\"#PRJNA417359\" data-toc-modified-id=\"PRJNA417359-4.8\"><span class=\"toc-item-num\">4.8&nbsp;&nbsp;</span>PRJNA417359</a></span><ul class=\"toc-item\"><li><span><a href=\"#Config\" data-toc-modified-id=\"Config-4.8.1\"><span class=\"toc-item-num\">4.8.1&nbsp;&nbsp;</span>Config</a></span></li><li><span><a href=\"#Run\" data-toc-modified-id=\"Run-4.8.2\"><span class=\"toc-item-num\">4.8.2&nbsp;&nbsp;</span>Run</a></span></li><li><span><a href=\"#Results\" data-toc-modified-id=\"Results-4.8.3\"><span class=\"toc-item-num\">4.8.3&nbsp;&nbsp;</span>Results</a></span></li></ul></li></ul></li><li><span><a href=\"#PRJNA476660\" data-toc-modified-id=\"PRJNA476660-5\"><span class=\"toc-item-num\">5&nbsp;&nbsp;</span>PRJNA476660</a></span><ul class=\"toc-item\"><li><ul class=\"toc-item\"><li><span><a href=\"#Config\" data-toc-modified-id=\"Config-5.0.1\"><span class=\"toc-item-num\">5.0.1&nbsp;&nbsp;</span>Config</a></span></li><li><span><a href=\"#Run\" data-toc-modified-id=\"Run-5.0.2\"><span class=\"toc-item-num\">5.0.2&nbsp;&nbsp;</span>Run</a></span></li><li><span><a href=\"#Results\" data-toc-modified-id=\"Results-5.0.3\"><span class=\"toc-item-num\">5.0.3&nbsp;&nbsp;</span>Results</a></span></li></ul></li><li><span><a href=\"#PRJNA485217\" data-toc-modified-id=\"PRJNA485217-5.1\"><span class=\"toc-item-num\">5.1&nbsp;&nbsp;</span>PRJNA485217</a></span><ul class=\"toc-item\"><li><span><a href=\"#Config\" data-toc-modified-id=\"Config-5.1.1\"><span class=\"toc-item-num\">5.1.1&nbsp;&nbsp;</span>Config</a></span></li><li><span><a href=\"#Run\" data-toc-modified-id=\"Run-5.1.2\"><span class=\"toc-item-num\">5.1.2&nbsp;&nbsp;</span>Run</a></span></li><li><span><a href=\"#Results\" data-toc-modified-id=\"Results-5.1.3\"><span class=\"toc-item-num\">5.1.3&nbsp;&nbsp;</span>Results</a></span></li></ul></li><li><span><a href=\"#PRJNA532626\" data-toc-modified-id=\"PRJNA532626-5.2\"><span class=\"toc-item-num\">5.2&nbsp;&nbsp;</span>PRJNA532626</a></span><ul class=\"toc-item\"><li><span><a href=\"#Config\" data-toc-modified-id=\"Config-5.2.1\"><span class=\"toc-item-num\">5.2.1&nbsp;&nbsp;</span>Config</a></span></li><li><span><a href=\"#Run\" data-toc-modified-id=\"Run-5.2.2\"><span class=\"toc-item-num\">5.2.2&nbsp;&nbsp;</span>Run</a></span></li><li><span><a href=\"#Results\" data-toc-modified-id=\"Results-5.2.3\"><span class=\"toc-item-num\">5.2.3&nbsp;&nbsp;</span>Results</a></span></li></ul></li><li><span><a href=\"#PRJEB22765\" data-toc-modified-id=\"PRJEB22765-5.3\"><span class=\"toc-item-num\">5.3&nbsp;&nbsp;</span>PRJEB22765</a></span><ul class=\"toc-item\"><li><span><a href=\"#Config\" data-toc-modified-id=\"Config-5.3.1\"><span class=\"toc-item-num\">5.3.1&nbsp;&nbsp;</span>Config</a></span></li><li><span><a href=\"#Run\" data-toc-modified-id=\"Run-5.3.2\"><span class=\"toc-item-num\">5.3.2&nbsp;&nbsp;</span>Run</a></span></li><li><span><a href=\"#Results\" data-toc-modified-id=\"Results-5.3.3\"><span class=\"toc-item-num\">5.3.3&nbsp;&nbsp;</span>Results</a></span></li></ul></li><li><span><a href=\"#PRJEB23642\" data-toc-modified-id=\"PRJEB23642-5.4\"><span class=\"toc-item-num\">5.4&nbsp;&nbsp;</span>PRJEB23642</a></span><ul class=\"toc-item\"><li><span><a href=\"#Config\" data-toc-modified-id=\"Config-5.4.1\"><span class=\"toc-item-num\">5.4.1&nbsp;&nbsp;</span>Config</a></span></li><li><span><a href=\"#Run\" data-toc-modified-id=\"Run-5.4.2\"><span class=\"toc-item-num\">5.4.2&nbsp;&nbsp;</span>Run</a></span></li><li><span><a href=\"#Results\" data-toc-modified-id=\"Results-5.4.3\"><span class=\"toc-item-num\">5.4.3&nbsp;&nbsp;</span>Results</a></span></li></ul></li><li><span><a href=\"#PRJEB9357\" data-toc-modified-id=\"PRJEB9357-5.5\"><span class=\"toc-item-num\">5.5&nbsp;&nbsp;</span>PRJEB9357</a></span><ul class=\"toc-item\"><li><span><a href=\"#Config\" data-toc-modified-id=\"Config-5.5.1\"><span class=\"toc-item-num\">5.5.1&nbsp;&nbsp;</span>Config</a></span></li><li><span><a href=\"#Run\" data-toc-modified-id=\"Run-5.5.2\"><span class=\"toc-item-num\">5.5.2&nbsp;&nbsp;</span>Run</a></span></li><li><span><a href=\"#Results\" data-toc-modified-id=\"Results-5.5.3\"><span class=\"toc-item-num\">5.5.3&nbsp;&nbsp;</span>Results</a></span></li></ul></li></ul></li><li><span><a href=\"#sessionInfo\" data-toc-modified-id=\"sessionInfo-6\"><span class=\"toc-item-num\">6&nbsp;&nbsp;</span>sessionInfo</a></span></li></ul></div>"
   ]
  },
  {
   "cell_type": "markdown",
   "metadata": {},
   "source": [
    "# Goal\n",
    "\n",
    "* running `LLMGA-find-refs` to get ref genomes for `LLMGA` pipeline"
   ]
  },
  {
   "cell_type": "markdown",
   "metadata": {},
   "source": [
    "# Var"
   ]
  },
  {
   "cell_type": "code",
   "execution_count": 1,
   "metadata": {
    "ExecuteTime": {
     "end_time": "2019-11-28T09:49:24.545049Z",
     "start_time": "2019-11-28T09:49:24.176Z"
    }
   },
   "outputs": [],
   "source": [
    "work_dir = '/ebio/abt3_projects/Georg_animal_feces/data/metagenome/multi-study/BioProjects/'\n",
    "pipeline_dir = '/ebio/abt3_projects/Georg_animal_feces/bin/llmga-find-refs/'\n",
    "\n",
    "threads = 24"
   ]
  },
  {
   "cell_type": "markdown",
   "metadata": {},
   "source": [
    "# Init"
   ]
  },
  {
   "cell_type": "code",
   "execution_count": 5,
   "metadata": {
    "ExecuteTime": {
     "end_time": "2019-08-24T05:11:19.748185Z",
     "start_time": "2019-08-24T05:11:19.381Z"
    }
   },
   "outputs": [],
   "source": [
    "library(dplyr)\n",
    "library(tidyr)\n",
    "library(ggplot2)\n",
    "library(data.table)\n",
    "\n",
    "source('/ebio/abt3_projects/Georg_animal_feces/code/misc_r_functions/init.R')"
   ]
  },
  {
   "cell_type": "markdown",
   "metadata": {},
   "source": [
    "# LLMGA-find-refs"
   ]
  },
  {
   "cell_type": "markdown",
   "metadata": {},
   "source": [
    "## PRJEB11755\n",
    "\n",
    "* host = pig"
   ]
  },
  {
   "cell_type": "code",
   "execution_count": 28,
   "metadata": {
    "ExecuteTime": {
     "end_time": "2019-08-05T11:40:17.408460Z",
     "start_time": "2019-08-05T11:40:17.381Z"
    }
   },
   "outputs": [],
   "source": [
    "projectID = 'PRJEB11755'"
   ]
  },
  {
   "cell_type": "code",
   "execution_count": 29,
   "metadata": {
    "ExecuteTime": {
     "end_time": "2019-08-05T11:40:17.536399Z",
     "start_time": "2019-08-05T11:40:17.493Z"
    }
   },
   "outputs": [
    {
     "data": {
      "text/html": [
       "'/ebio/abt3_projects/Georg_animal_feces/data/metagenome/multi-study/BioProjects//PRJEB11755/LLMGA-find-refs'"
      ],
      "text/latex": [
       "'/ebio/abt3\\_projects/Georg\\_animal\\_feces/data/metagenome/multi-study/BioProjects//PRJEB11755/LLMGA-find-refs'"
      ],
      "text/markdown": [
       "'/ebio/abt3_projects/Georg_animal_feces/data/metagenome/multi-study/BioProjects//PRJEB11755/LLMGA-find-refs'"
      ],
      "text/plain": [
       "[1] \"/ebio/abt3_projects/Georg_animal_feces/data/metagenome/multi-study/BioProjects//PRJEB11755/LLMGA-find-refs\""
      ]
     },
     "metadata": {},
     "output_type": "display_data"
    }
   ],
   "source": [
    "out_dir = file.path(work_dir, projectID, 'LLMGA-find-refs')\n",
    "out_dir"
   ]
  },
  {
   "cell_type": "code",
   "execution_count": 6,
   "metadata": {
    "ExecuteTime": {
     "end_time": "2019-07-27T06:27:33.723255Z",
     "start_time": "2019-07-27T06:27:33.668Z"
    }
   },
   "outputs": [
    {
     "name": "stdout",
     "output_type": "stream",
     "text": [
      "#-- I/O --#\n",
      "samples_file: /ebio/abt3_projects/Georg_animal_feces/data/metagenome/multi-study/BioProjects/PRJEB11755/LLMGA-find-refs/samples_bracken.tsv\n",
      "\n",
      "# output location\n",
      "output_dir: /ebio/abt3_projects/Georg_animal_feces/data/metagenome/multi-study/BioProjects/PRJEB11755/LLMGA-find-refs/\n",
      "\n",
      "#-- database --#\n",
      "centrifuge_db: /ebio/abt3_projects/databases_no-backup/centrifuge/p+h+v\n",
      "taxonomy_db: /ebio/abt3_projects/databases_no-backup/NCBI_genome/NCBI_taxid_db/taxa.sqlite\n",
      "\n",
      "#-- software parameters --#\n",
      "params:\n",
      "  # If providing paired-end reads\n",
      "  seqtk: 1000000          # subsampled read pairs per sample; use \"Skip\" to skip\n",
      "  centrifuge: \"\"          # for taxonomic profiling unless providing \"TaxID\" column\n",
      "  # If providing tables of TaxIDs instead of reads\n",
      "  taxID_column: taxonomy_id                # column in the table(s) containing the taxIDs\n",
      "  abundance_column: fraction_total_reads   # column in the table(s) containing the abundances\n",
      "  # Genome download & derep\n",
      "  abund_cutoff: 0.01       # taxon must have >= max(abundance) among samples\n",
      "  ncbi_genome_download: archaea,bacteria,viral -s refseq -l complete --retries 3\n",
      "  drep: --ignoreGenomeQuality --length 10000 --P_ani 0.9 --S_ani 0.99   # use \"Skip\" to skip\n",
      "\n",
      "#-- snakemake pipeline --#\n",
      "pipeline:\n",
      "  snakemake_folder: ./\n",
      "  script_folder: bin/scripts/\n",
      "  temp_folder: /tmp/global/     # <-- your username will be added to this\n"
     ]
    }
   ],
   "source": [
    "cat_file(file.path(out_dir, 'config.yaml'))"
   ]
  },
  {
   "cell_type": "markdown",
   "metadata": {},
   "source": [
    "### Run"
   ]
  },
  {
   "cell_type": "markdown",
   "metadata": {},
   "source": [
    "```\n",
    "(snakemake_dev) @ rick:/ebio/abt3_projects/Georg_animal_feces/bin/llmga-find-refs\n",
    "$ screen -L -S llmga-fr-PRJEB11755 ./snakemake_sge.sh /ebio/abt3_projects/Georg_animal_feces/data/metagenome/multi-study/BioProjects/PRJEB11755/LLMGA-find-refs/config.yaml cluster.json /ebio/abt3_projects/Georg_animal_feces/data/metagenome/multi-study/BioProjects/PRJEB11755/LLMGA-find-refs/SGE_log 20\n",
    "```"
   ]
  },
  {
   "cell_type": "markdown",
   "metadata": {},
   "source": [
    "### Results"
   ]
  },
  {
   "cell_type": "code",
   "execution_count": 26,
   "metadata": {
    "ExecuteTime": {
     "end_time": "2019-07-31T13:02:21.372076Z",
     "start_time": "2019-07-31T13:02:21.304Z"
    }
   },
   "outputs": [
    {
     "name": "stdout",
     "output_type": "stream",
     "text": [
      "Number of ref. genomes: 173 \n"
     ]
    }
   ],
   "source": [
    "# listing all reference genomes\n",
    "ref_dir = file.path(out_dir, 'references', 'drep', 'dereplicated_genomes')\n",
    "F = list.files(ref_dir, '*.fna', full.names=TRUE)\n",
    "cat('Number of ref. genomes:', F %>% length, '\\n')"
   ]
  },
  {
   "cell_type": "code",
   "execution_count": 24,
   "metadata": {
    "ExecuteTime": {
     "end_time": "2019-07-31T13:02:02.864684Z",
     "start_time": "2019-07-31T13:02:01.294Z"
    }
   },
   "outputs": [
    {
     "data": {
      "text/html": [
       "TRUE"
      ],
      "text/latex": [
       "TRUE"
      ],
      "text/markdown": [
       "TRUE"
      ],
      "text/plain": [
       "[1] TRUE"
      ]
     },
     "metadata": {},
     "output_type": "display_data"
    },
    {
     "data": {
      "text/html": [
       "TRUE"
      ],
      "text/latex": [
       "TRUE"
      ],
      "text/markdown": [
       "TRUE"
      ],
      "text/plain": [
       "[1] TRUE"
      ]
     },
     "metadata": {},
     "output_type": "display_data"
    },
    {
     "data": {
      "text/html": [
       "727591275"
      ],
      "text/latex": [
       "727591275"
      ],
      "text/markdown": [
       "727591275"
      ],
      "text/plain": [
       "[1] 727591275"
      ]
     },
     "metadata": {},
     "output_type": "display_data"
    },
    {
     "name": "stdout",
     "output_type": "stream",
     "text": [
      "File written: /ebio/abt3_projects/Georg_animal_feces/data/metagenome/multi-study/BioProjects/PRJEB11755/LLMGA-find-refs//references/ref_genomes.fna \n"
     ]
    }
   ],
   "source": [
    "# combining all refs\n",
    "ref_file = file.path(out_dir, 'references', 'ref_genomes.fna')\n",
    "if(file.exists(ref_file)){ file.remove(ref_file) }\n",
    "file.create(ref_file)\n",
    "for (f in F){\n",
    "    file.append(ref_file, f)\n",
    "}\n",
    "file.size(ref_file)\n",
    "cat('File written:', ref_file, '\\n')"
   ]
  },
  {
   "cell_type": "markdown",
   "metadata": {},
   "source": [
    "## PRJEB20308\n",
    "\n",
    "* host = dog"
   ]
  },
  {
   "cell_type": "code",
   "execution_count": 30,
   "metadata": {
    "ExecuteTime": {
     "end_time": "2019-08-05T11:40:31.479725Z",
     "start_time": "2019-08-05T11:40:31.453Z"
    }
   },
   "outputs": [],
   "source": [
    "projectID = 'PRJEB20308'"
   ]
  },
  {
   "cell_type": "code",
   "execution_count": 32,
   "metadata": {
    "ExecuteTime": {
     "end_time": "2019-08-05T12:49:51.908577Z",
     "start_time": "2019-08-05T12:49:51.870Z"
    }
   },
   "outputs": [
    {
     "data": {
      "text/html": [
       "'/ebio/abt3_projects/Georg_animal_feces/data/metagenome/multi-study/BioProjects//PRJEB20308/LLMGA-find-refs'"
      ],
      "text/latex": [
       "'/ebio/abt3\\_projects/Georg\\_animal\\_feces/data/metagenome/multi-study/BioProjects//PRJEB20308/LLMGA-find-refs'"
      ],
      "text/markdown": [
       "'/ebio/abt3_projects/Georg_animal_feces/data/metagenome/multi-study/BioProjects//PRJEB20308/LLMGA-find-refs'"
      ],
      "text/plain": [
       "[1] \"/ebio/abt3_projects/Georg_animal_feces/data/metagenome/multi-study/BioProjects//PRJEB20308/LLMGA-find-refs\""
      ]
     },
     "metadata": {},
     "output_type": "display_data"
    }
   ],
   "source": [
    "out_dir = file.path(work_dir, projectID, 'LLMGA-find-refs')\n",
    "out_dir"
   ]
  },
  {
   "cell_type": "code",
   "execution_count": 33,
   "metadata": {
    "ExecuteTime": {
     "end_time": "2019-08-05T12:49:58.053681Z",
     "start_time": "2019-08-05T12:49:58.003Z"
    }
   },
   "outputs": [
    {
     "name": "stdout",
     "output_type": "stream",
     "text": [
      "#-- I/O --#\n",
      "samples_file: /ebio/abt3_projects/Georg_animal_feces/data/metagenome/multi-study/BioProjects/PRJEB20308/LLMGA-find-refs/samples_bracken.tsv\n",
      "\n",
      "# output location\n",
      "output_dir: /ebio/abt3_projects/Georg_animal_feces/data/metagenome/multi-study/BioProjects/PRJEB20308/LLMGA-find-refs/\n",
      "\n",
      "#-- database --#\n",
      "centrifuge_db: /ebio/abt3_projects/databases_no-backup/centrifuge/p+h+v\n",
      "taxonomy_db: /ebio/abt3_projects/databases_no-backup/NCBI_genome/NCBI_taxid_db/taxa.sqlite\n",
      "\n",
      "#-- software parameters --#\n",
      "params:\n",
      "  # If providing paired-end reads\n",
      "  seqtk: 1000000          # subsampled read pairs per sample; use \"Skip\" to skip\n",
      "  centrifuge: \"\"          # for taxonomic profiling unless providing \"TaxID\" column\n",
      "  # If providing tables of TaxIDs instead of reads\n",
      "  taxID_column: taxonomy_id                # column in the table(s) containing the taxIDs\n",
      "  abundance_column: fraction_total_reads   # column in the table(s) containing the abundances\n",
      "  # Genome download & derep\n",
      "  abund_cutoff: 0.01       # taxon must have >= max(abundance) among samples\n",
      "  ncbi_genome_download: archaea,bacteria,viral -s refseq -l complete --retries 3\n",
      "  drep: --ignoreGenomeQuality --length 10000 --P_ani 0.9 --S_ani 0.99   # use \"Skip\" to skip\n",
      "\n",
      "#-- snakemake pipeline --#\n",
      "pipeline:\n",
      "  snakemake_folder: ./\n",
      "  script_folder: bin/scripts/\n",
      "  temp_folder: /tmp/global/     # <-- your username will be added to this\n"
     ]
    }
   ],
   "source": [
    "cat_file(file.path(out_dir, 'config.yaml'))"
   ]
  },
  {
   "cell_type": "markdown",
   "metadata": {},
   "source": [
    "### Run"
   ]
  },
  {
   "cell_type": "markdown",
   "metadata": {},
   "source": [
    "```\n",
    "(snakemake_dev) @ rick:/ebio/abt3_projects/Georg_animal_feces/bin/llmga-find-refs\n",
    "$ screen -L -S llmga-fr-PRJEB20308 ./snakemake_sge.sh /ebio/abt3_projects/Georg_animal_feces/data/metagenome/multi-study/BioProjects/PRJEB20308/LLMGA-find-refs/config.yaml cluster.json /ebio/abt3_projects/Georg_animal_feces/data/metagenome/multi-study/BioProjects/PRJEB20308/LLMGA-find-refs/SGE_log 20\n",
    "```"
   ]
  },
  {
   "cell_type": "markdown",
   "metadata": {},
   "source": [
    "### Results"
   ]
  },
  {
   "cell_type": "code",
   "execution_count": 34,
   "metadata": {
    "ExecuteTime": {
     "end_time": "2019-08-06T07:52:34.589055Z",
     "start_time": "2019-08-06T07:52:34.526Z"
    }
   },
   "outputs": [
    {
     "name": "stdout",
     "output_type": "stream",
     "text": [
      "Number of ref. genomes: 180 \n"
     ]
    }
   ],
   "source": [
    "# listing all reference genomes\n",
    "ref_dir = file.path(out_dir, 'references', 'drep', 'dereplicated_genomes')\n",
    "F = list.files(ref_dir, '*.fna', full.names=TRUE)\n",
    "cat('Number of ref. genomes:', F %>% length, '\\n')"
   ]
  },
  {
   "cell_type": "code",
   "execution_count": 35,
   "metadata": {
    "ExecuteTime": {
     "end_time": "2019-08-06T07:52:46.571393Z",
     "start_time": "2019-08-06T07:52:40.373Z"
    }
   },
   "outputs": [
    {
     "data": {
      "text/html": [
       "TRUE"
      ],
      "text/latex": [
       "TRUE"
      ],
      "text/markdown": [
       "TRUE"
      ],
      "text/plain": [
       "[1] TRUE"
      ]
     },
     "metadata": {},
     "output_type": "display_data"
    },
    {
     "data": {
      "text/html": [
       "743325924"
      ],
      "text/latex": [
       "743325924"
      ],
      "text/markdown": [
       "743325924"
      ],
      "text/plain": [
       "[1] 743325924"
      ]
     },
     "metadata": {},
     "output_type": "display_data"
    },
    {
     "name": "stdout",
     "output_type": "stream",
     "text": [
      "File written: /ebio/abt3_projects/Georg_animal_feces/data/metagenome/multi-study/BioProjects//PRJEB20308/LLMGA-find-refs/references/ref_genomes.fna \n"
     ]
    }
   ],
   "source": [
    "# combining all refs\n",
    "ref_file = file.path(out_dir, 'references', 'ref_genomes.fna')\n",
    "if(file.exists(ref_file)){ file.remove(ref_file) }\n",
    "file.create(ref_file)\n",
    "for (f in F){\n",
    "    file.append(ref_file, f)\n",
    "}\n",
    "file.size(ref_file)\n",
    "cat('File written:', ref_file, '\\n')"
   ]
  },
  {
   "cell_type": "markdown",
   "metadata": {},
   "source": [
    "## PRJEB21624\n",
    "\n",
    "* host = cattle"
   ]
  },
  {
   "cell_type": "markdown",
   "metadata": {},
   "source": [
    "#### --skipping--"
   ]
  },
  {
   "cell_type": "markdown",
   "metadata": {},
   "source": [
    "## PRJEB29346\n",
    "\n",
    "* host = cod"
   ]
  },
  {
   "cell_type": "code",
   "execution_count": 6,
   "metadata": {
    "ExecuteTime": {
     "end_time": "2019-08-24T05:11:21.931915Z",
     "start_time": "2019-08-24T05:11:21.885Z"
    }
   },
   "outputs": [],
   "source": [
    "projectID = 'PRJEB29346'"
   ]
  },
  {
   "cell_type": "code",
   "execution_count": 8,
   "metadata": {
    "ExecuteTime": {
     "end_time": "2019-08-24T05:12:47.096021Z",
     "start_time": "2019-08-24T05:12:47.044Z"
    }
   },
   "outputs": [
    {
     "name": "stdout",
     "output_type": "stream",
     "text": [
      "Created directory: /ebio/abt3_projects/Georg_animal_feces/data/metagenome/multi-study/BioProjects//PRJEB29346/LLMGA-find-refs \n"
     ]
    }
   ],
   "source": [
    "out_dir = file.path(work_dir, projectID, 'LLMGA-find-refs')\n",
    "make_dir(out_dir)"
   ]
  },
  {
   "cell_type": "markdown",
   "metadata": {},
   "source": [
    "### Creating bracken file list table"
   ]
  },
  {
   "cell_type": "markdown",
   "metadata": {},
   "source": [
    "```\n",
    "(snakemake_dev) @ rick:/ebio/abt3_projects/Georg_animal_feces/bin/llmga-find-refs\n",
    "$ ./bracken2samples.py /ebio/abt3_projects/Georg_animal_feces/data/metagenome/multi-study/BioProjects/PRJEB29346/LLMGP/kraken/ > /ebio/abt3_projects/Georg_animal_feces/data/metagenome/multi-study/BioProjects/PRJEB29346/LLMGA-find-refs/samples_bracken.tsv\n",
    "```"
   ]
  },
  {
   "cell_type": "markdown",
   "metadata": {},
   "source": [
    "### Config"
   ]
  },
  {
   "cell_type": "code",
   "execution_count": 9,
   "metadata": {
    "ExecuteTime": {
     "end_time": "2019-08-24T05:15:58.225712Z",
     "start_time": "2019-08-24T05:15:58.160Z"
    }
   },
   "outputs": [
    {
     "name": "stdout",
     "output_type": "stream",
     "text": [
      "#-- I/O --#\n",
      "samples_file: /ebio/abt3_projects/Georg_animal_feces/data/metagenome/multi-study/BioProjects/PRJEB29346/LLMGA-find-refs/samples_bracken.tsv\n",
      "\n",
      "# output location\n",
      "output_dir: /ebio/abt3_projects/Georg_animal_feces/data/metagenome/multi-study/BioProjects/PRJEB29346/LLMGA-find-refs/\n",
      "\n",
      "#-- database --#\n",
      "centrifuge_db: /ebio/abt3_projects/databases_no-backup/centrifuge/p+h+v\n",
      "taxonomy_db: /ebio/abt3_projects/databases_no-backup/NCBI_genome/NCBI_taxid_db/taxa.sqlite\n",
      "\n",
      "#-- software parameters --#\n",
      "params:\n",
      "  # If providing paired-end reads\n",
      "  seqtk: 1000000          # subsampled read pairs per sample; use \"Skip\" to skip\n",
      "  centrifuge: \"\"          # for taxonomic profiling unless providing \"TaxID\" column\n",
      "  # If providing tables of TaxIDs instead of reads\n",
      "  taxID_column: taxonomy_id                # column in the table(s) containing the taxIDs\n",
      "  abundance_column: fraction_total_reads   # column in the table(s) containing the abundances\n",
      "  # Genome download & derep\n",
      "  abund_cutoff: 0.01       # taxon must have >= max(abundance) among samples\n",
      "  ncbi_genome_download: archaea,bacteria,viral -s refseq -l complete --retries 3\n",
      "  drep: --ignoreGenomeQuality --length 10000 --P_ani 0.9 --S_ani 0.99   # use \"Skip\" to skip\n",
      "\n",
      "#-- snakemake pipeline --#\n",
      "pipeline:\n",
      "  snakemake_folder: ./\n",
      "  script_folder: bin/scripts/\n",
      "  temp_folder: /tmp/global/     # <-- your username will be added to this\n"
     ]
    }
   ],
   "source": [
    "cat_file(file.path(out_dir, 'config.yaml'))"
   ]
  },
  {
   "cell_type": "markdown",
   "metadata": {},
   "source": [
    "### Run"
   ]
  },
  {
   "cell_type": "markdown",
   "metadata": {},
   "source": [
    "```\n",
    "(snakemake_dev) @ rick:/ebio/abt3_projects/Georg_animal_feces/bin/llmga-find-refs\n",
    "$ screen -L -S llmga-fr-PRJEB29346 ./snakemake_sge.sh /ebio/abt3_projects/Georg_animal_feces/data/metagenome/multi-study/BioProjects/PRJEB29346/LLMGA-find-refs/config.yaml cluster.json /ebio/abt3_projects/Georg_animal_feces/data/metagenome/multi-study/BioProjects/PRJEB29346/LLMGA-find-refs/SGE_log 20\n",
    "```"
   ]
  },
  {
   "cell_type": "markdown",
   "metadata": {},
   "source": [
    "### Results"
   ]
  },
  {
   "cell_type": "code",
   "execution_count": 10,
   "metadata": {
    "ExecuteTime": {
     "end_time": "2019-08-25T18:39:37.456904Z",
     "start_time": "2019-08-25T18:39:37.358Z"
    }
   },
   "outputs": [
    {
     "name": "stdout",
     "output_type": "stream",
     "text": [
      "Number of ref. genomes: 186 \n"
     ]
    }
   ],
   "source": [
    "# listing all reference genomes\n",
    "ref_dir = file.path(out_dir, 'references', 'drep', 'dereplicated_genomes')\n",
    "F = list.files(ref_dir, '*.fna', full.names=TRUE)\n",
    "cat('Number of ref. genomes:', F %>% length, '\\n')"
   ]
  },
  {
   "cell_type": "code",
   "execution_count": 11,
   "metadata": {
    "ExecuteTime": {
     "end_time": "2019-08-25T18:39:53.112157Z",
     "start_time": "2019-08-25T18:39:47.708Z"
    }
   },
   "outputs": [
    {
     "data": {
      "text/html": [
       "TRUE"
      ],
      "text/latex": [
       "TRUE"
      ],
      "text/markdown": [
       "TRUE"
      ],
      "text/plain": [
       "[1] TRUE"
      ]
     },
     "metadata": {},
     "output_type": "display_data"
    },
    {
     "data": {
      "text/html": [
       "774793547"
      ],
      "text/latex": [
       "774793547"
      ],
      "text/markdown": [
       "774793547"
      ],
      "text/plain": [
       "[1] 774793547"
      ]
     },
     "metadata": {},
     "output_type": "display_data"
    },
    {
     "name": "stdout",
     "output_type": "stream",
     "text": [
      "File written: /ebio/abt3_projects/Georg_animal_feces/data/metagenome/multi-study/BioProjects//PRJEB29346/LLMGA-find-refs/references/ref_genomes.fna \n"
     ]
    }
   ],
   "source": [
    "# combining all refs\n",
    "ref_file = file.path(out_dir, 'references', 'ref_genomes.fna')\n",
    "if(file.exists(ref_file)){ file.remove(ref_file) }\n",
    "file.create(ref_file)\n",
    "for (f in F){\n",
    "    file.append(ref_file, f)\n",
    "}\n",
    "file.size(ref_file)\n",
    "cat('File written:', ref_file, '\\n')"
   ]
  },
  {
   "cell_type": "markdown",
   "metadata": {},
   "source": [
    "## PRJNA316560-PRJNA316570\n",
    "\n",
    "* host = goose"
   ]
  },
  {
   "cell_type": "code",
   "execution_count": 20,
   "metadata": {
    "ExecuteTime": {
     "end_time": "2019-08-26T18:12:04.317916Z",
     "start_time": "2019-08-26T18:12:04.272Z"
    }
   },
   "outputs": [],
   "source": [
    "projectID = 'PRJNA316560-PRJNA316570'"
   ]
  },
  {
   "cell_type": "code",
   "execution_count": 21,
   "metadata": {
    "ExecuteTime": {
     "end_time": "2019-08-26T18:12:04.457996Z",
     "start_time": "2019-08-26T18:12:04.416Z"
    }
   },
   "outputs": [
    {
     "name": "stdout",
     "output_type": "stream",
     "text": [
      "Directory already exists: /ebio/abt3_projects/Georg_animal_feces/data/metagenome/multi-study/BioProjects//PRJNA316560-PRJNA316570/LLMGA-find-refs \n"
     ]
    }
   ],
   "source": [
    "out_dir = file.path(work_dir, projectID, 'LLMGA-find-refs')\n",
    "make_dir(out_dir)"
   ]
  },
  {
   "cell_type": "markdown",
   "metadata": {},
   "source": [
    "### Config"
   ]
  },
  {
   "cell_type": "code",
   "execution_count": 22,
   "metadata": {
    "ExecuteTime": {
     "end_time": "2019-08-26T18:12:05.235193Z",
     "start_time": "2019-08-26T18:12:05.184Z"
    }
   },
   "outputs": [
    {
     "name": "stdout",
     "output_type": "stream",
     "text": [
      "#-- I/O --#\n",
      "samples_file: /ebio/abt3_projects/Georg_animal_feces/data/metagenome/multi-study/BioProjects/PRJNA316560-PRJNA316570/LLMGA-find-refs/samples_bracken.tsv\n",
      "\n",
      "# output location\n",
      "output_dir: /ebio/abt3_projects/Georg_animal_feces/data/metagenome/multi-study/BioProjects/PRJNA316560-PRJNA316570/LLMGA-find-refs/\n",
      "\n",
      "#-- database --#\n",
      "centrifuge_db: /ebio/abt3_projects/databases_no-backup/centrifuge/p+h+v\n",
      "taxonomy_db: /ebio/abt3_projects/databases_no-backup/NCBI_genome/NCBI_taxid_db/taxa.sqlite\n",
      "\n",
      "#-- software parameters --#\n",
      "params:\n",
      "  # If providing paired-end reads\n",
      "  seqtk: 1000000          # subsampled read pairs per sample; use \"Skip\" to skip\n",
      "  centrifuge: \"\"          # for taxonomic profiling unless providing \"TaxID\" column\n",
      "  # If providing tables of TaxIDs instead of reads\n",
      "  taxID_column: taxonomy_id                # column in the table(s) containing the taxIDs\n",
      "  abundance_column: fraction_total_reads   # column in the table(s) containing the abundances\n",
      "  # Genome download & derep\n",
      "  abund_cutoff: 0.01       # taxon must have >= max(abundance) among samples\n",
      "  ncbi_genome_download: archaea,bacteria,viral -s refseq -l complete --retries 3\n",
      "  drep: --ignoreGenomeQuality --length 10000 --P_ani 0.9 --S_ani 0.99   # use \"Skip\" to skip\n",
      "\n",
      "#-- snakemake pipeline --#\n",
      "pipeline:\n",
      "  snakemake_folder: ./\n",
      "  script_folder: bin/scripts/\n",
      "  temp_folder: /tmp/global/     # <-- your username will be added to this\n"
     ]
    }
   ],
   "source": [
    "cat_file(file.path(out_dir, 'config.yaml'))"
   ]
  },
  {
   "cell_type": "markdown",
   "metadata": {},
   "source": [
    "### Run"
   ]
  },
  {
   "cell_type": "markdown",
   "metadata": {},
   "source": [
    "```\n",
    "(snakemake_dev) @ rick:/ebio/abt3_projects/Georg_animal_feces/bin/llmga-find-refs\n",
    "$ screen -L -S llmga-fr-goose ./snakemake_sge.sh /ebio/abt3_projects/Georg_animal_feces/data/metagenome/multi-study/BioProjects/PRJNA316560-PRJNA316570/LLMGA-find-refs/config.yaml cluster.json /ebio/abt3_projects/Georg_animal_feces/data/metagenome/multi-study/BioProjects/PRJNA316560-PRJNA316570/LLMGA-find-refs/SGE_log 20\n",
    "```"
   ]
  },
  {
   "cell_type": "markdown",
   "metadata": {},
   "source": [
    "### Results"
   ]
  },
  {
   "cell_type": "code",
   "execution_count": 15,
   "metadata": {
    "ExecuteTime": {
     "end_time": "2019-08-26T13:07:01.710027Z",
     "start_time": "2019-08-26T13:07:01.673Z"
    }
   },
   "outputs": [
    {
     "name": "stdout",
     "output_type": "stream",
     "text": [
      "Number of ref. genomes: 7 \n"
     ]
    }
   ],
   "source": [
    "# listing all reference genomes\n",
    "ref_dir = file.path(out_dir, 'references', 'drep', 'dereplicated_genomes')\n",
    "F = list.files(ref_dir, '*.fna', full.names=TRUE)\n",
    "cat('Number of ref. genomes:', F %>% length, '\\n')"
   ]
  },
  {
   "cell_type": "code",
   "execution_count": 16,
   "metadata": {
    "ExecuteTime": {
     "end_time": "2019-08-26T13:07:02.675363Z",
     "start_time": "2019-08-26T13:07:02.566Z"
    }
   },
   "outputs": [
    {
     "data": {
      "text/html": [
       "TRUE"
      ],
      "text/latex": [
       "TRUE"
      ],
      "text/markdown": [
       "TRUE"
      ],
      "text/plain": [
       "[1] TRUE"
      ]
     },
     "metadata": {},
     "output_type": "display_data"
    },
    {
     "data": {
      "text/html": [
       "18080331"
      ],
      "text/latex": [
       "18080331"
      ],
      "text/markdown": [
       "18080331"
      ],
      "text/plain": [
       "[1] 18080331"
      ]
     },
     "metadata": {},
     "output_type": "display_data"
    },
    {
     "name": "stdout",
     "output_type": "stream",
     "text": [
      "File written: /ebio/abt3_projects/Georg_animal_feces/data/metagenome/multi-study/BioProjects//PRJNA316560-PRJNA316570/LLMGA-find-refs/references/ref_genomes.fna \n"
     ]
    }
   ],
   "source": [
    "# combining all refs\n",
    "ref_file = file.path(out_dir, 'references', 'ref_genomes.fna')\n",
    "if(file.exists(ref_file)){ file.remove(ref_file) }\n",
    "file.create(ref_file)\n",
    "for (f in F){\n",
    "    file.append(ref_file, f)\n",
    "}\n",
    "file.size(ref_file)\n",
    "cat('File written:', ref_file, '\\n')"
   ]
  },
  {
   "cell_type": "markdown",
   "metadata": {},
   "source": [
    "## PRJNA336354\n",
    "\n",
    "* host = woodrat"
   ]
  },
  {
   "cell_type": "code",
   "execution_count": 23,
   "metadata": {
    "ExecuteTime": {
     "end_time": "2019-08-26T18:12:14.637116Z",
     "start_time": "2019-08-26T18:12:14.585Z"
    }
   },
   "outputs": [],
   "source": [
    "projectID = 'PRJNA336354'"
   ]
  },
  {
   "cell_type": "code",
   "execution_count": 24,
   "metadata": {
    "ExecuteTime": {
     "end_time": "2019-08-26T18:12:14.881471Z",
     "start_time": "2019-08-26T18:12:14.835Z"
    }
   },
   "outputs": [
    {
     "name": "stdout",
     "output_type": "stream",
     "text": [
      "Directory already exists: /ebio/abt3_projects/Georg_animal_feces/data/metagenome/multi-study/BioProjects//PRJNA336354/LLMGA-find-refs \n"
     ]
    }
   ],
   "source": [
    "out_dir = file.path(work_dir, projectID, 'LLMGA-find-refs')\n",
    "make_dir(out_dir)"
   ]
  },
  {
   "cell_type": "markdown",
   "metadata": {},
   "source": [
    "### Config"
   ]
  },
  {
   "cell_type": "code",
   "execution_count": 25,
   "metadata": {
    "ExecuteTime": {
     "end_time": "2019-08-26T18:13:10.526453Z",
     "start_time": "2019-08-26T18:13:10.471Z"
    }
   },
   "outputs": [
    {
     "name": "stdout",
     "output_type": "stream",
     "text": [
      "#-- I/O --#\n",
      "samples_file: /ebio/abt3_projects/Georg_animal_feces/data/metagenome/multi-study/BioProjects/PRJNA336354/LLMGA-find-refs/samples_bracken.tsv\n",
      "\n",
      "# output location\n",
      "output_dir: /ebio/abt3_projects/Georg_animal_feces/data/metagenome/multi-study/BioProjects/PRJNA336354/LLMGA-find-refs/\n",
      "\n",
      "#-- database --#\n",
      "centrifuge_db: /ebio/abt3_projects/databases_no-backup/centrifuge/p+h+v\n",
      "taxonomy_db: /ebio/abt3_projects/databases_no-backup/NCBI_genome/NCBI_taxid_db/taxa.sqlite\n",
      "\n",
      "#-- software parameters --#\n",
      "params:\n",
      "  # If providing paired-end reads\n",
      "  seqtk: 1000000          # subsampled read pairs per sample; use \"Skip\" to skip\n",
      "  centrifuge: \"\"          # for taxonomic profiling unless providing \"TaxID\" column\n",
      "  # If providing tables of TaxIDs instead of reads\n",
      "  taxID_column: taxonomy_id                # column in the table(s) containing the taxIDs\n",
      "  abundance_column: fraction_total_reads   # column in the table(s) containing the abundances\n",
      "  # Genome download & derep\n",
      "  abund_cutoff: 0.01       # taxon must have >= max(abundance) among samples\n",
      "  ncbi_genome_download: archaea,bacteria,viral -s refseq -l complete --retries 3\n",
      "  drep: --ignoreGenomeQuality --length 10000 --P_ani 0.9 --S_ani 0.99   # use \"Skip\" to skip\n",
      "\n",
      "#-- snakemake pipeline --#\n",
      "pipeline:\n",
      "  snakemake_folder: ./\n",
      "  script_folder: bin/scripts/\n",
      "  temp_folder: /tmp/global/     # <-- your username will be added to this\n"
     ]
    }
   ],
   "source": [
    "cat_file(file.path(out_dir, 'config.yaml'))"
   ]
  },
  {
   "cell_type": "markdown",
   "metadata": {},
   "source": [
    "### Run"
   ]
  },
  {
   "cell_type": "markdown",
   "metadata": {},
   "source": [
    "```\n",
    "(snakemake_dev) @ rick:/ebio/abt3_projects/Georg_animal_feces/bin/llmga-find-refs\n",
    "$ screen -L -S llmga-fr-PRJNA336354 ./snakemake_sge.sh /ebio/abt3_projects/Georg_animal_feces/data/metagenome/multi-study/BioProjects/PRJNA336354/LLMGA-find-refs/config.yaml cluster.json /ebio/abt3_projects/Georg_animal_feces/data/metagenome/multi-study/BioProjects/PRJNA336354/LLMGA-find-refs/SGE_log 20\n",
    "```"
   ]
  },
  {
   "cell_type": "markdown",
   "metadata": {},
   "source": [
    "### Results"
   ]
  },
  {
   "cell_type": "code",
   "execution_count": 26,
   "metadata": {
    "ExecuteTime": {
     "end_time": "2019-08-26T18:23:09.981034Z",
     "start_time": "2019-08-26T18:23:09.916Z"
    }
   },
   "outputs": [
    {
     "name": "stdout",
     "output_type": "stream",
     "text": [
      "Number of ref. genomes: 9 \n"
     ]
    }
   ],
   "source": [
    "# listing all reference genomes\n",
    "ref_dir = file.path(out_dir, 'references', 'drep', 'dereplicated_genomes')\n",
    "F = list.files(ref_dir, '*.fna', full.names=TRUE)\n",
    "cat('Number of ref. genomes:', F %>% length, '\\n')"
   ]
  },
  {
   "cell_type": "code",
   "execution_count": 27,
   "metadata": {
    "ExecuteTime": {
     "end_time": "2019-08-26T18:23:18.511939Z",
     "start_time": "2019-08-26T18:23:18.354Z"
    }
   },
   "outputs": [
    {
     "data": {
      "text/html": [
       "TRUE"
      ],
      "text/latex": [
       "TRUE"
      ],
      "text/markdown": [
       "TRUE"
      ],
      "text/plain": [
       "[1] TRUE"
      ]
     },
     "metadata": {},
     "output_type": "display_data"
    },
    {
     "data": {
      "text/html": [
       "25791038"
      ],
      "text/latex": [
       "25791038"
      ],
      "text/markdown": [
       "25791038"
      ],
      "text/plain": [
       "[1] 25791038"
      ]
     },
     "metadata": {},
     "output_type": "display_data"
    },
    {
     "name": "stdout",
     "output_type": "stream",
     "text": [
      "File written: /ebio/abt3_projects/Georg_animal_feces/data/metagenome/multi-study/BioProjects//PRJNA336354/LLMGA-find-refs/references/ref_genomes.fna \n"
     ]
    }
   ],
   "source": [
    "# combining all refs\n",
    "ref_file = file.path(out_dir, 'references', 'ref_genomes.fna')\n",
    "if(file.exists(ref_file)){ file.remove(ref_file) }\n",
    "file.create(ref_file)\n",
    "for (f in F){\n",
    "    file.append(ref_file, f)\n",
    "}\n",
    "file.size(ref_file)\n",
    "cat('File written:', ref_file, '\\n')"
   ]
  },
  {
   "cell_type": "markdown",
   "metadata": {},
   "source": [
    "## PRJNA381379\n",
    "\n",
    "* host = Kakapo"
   ]
  },
  {
   "cell_type": "code",
   "execution_count": 28,
   "metadata": {
    "ExecuteTime": {
     "end_time": "2019-08-29T07:27:21.753179Z",
     "start_time": "2019-08-29T07:27:21.725Z"
    }
   },
   "outputs": [],
   "source": [
    "projectID = 'PRJNA381379'"
   ]
  },
  {
   "cell_type": "code",
   "execution_count": 29,
   "metadata": {
    "ExecuteTime": {
     "end_time": "2019-08-29T07:27:27.537700Z",
     "start_time": "2019-08-29T07:27:27.505Z"
    }
   },
   "outputs": [
    {
     "name": "stdout",
     "output_type": "stream",
     "text": [
      "Created directory: /ebio/abt3_projects/Georg_animal_feces/data/metagenome/multi-study/BioProjects//PRJNA381379/LLMGA-find-refs \n"
     ]
    }
   ],
   "source": [
    "out_dir = file.path(work_dir, projectID, 'LLMGA-find-refs')\n",
    "make_dir(out_dir)"
   ]
  },
  {
   "cell_type": "markdown",
   "metadata": {},
   "source": [
    "### Config"
   ]
  },
  {
   "cell_type": "code",
   "execution_count": 30,
   "metadata": {
    "ExecuteTime": {
     "end_time": "2019-08-29T07:29:08.297270Z",
     "start_time": "2019-08-29T07:29:08.262Z"
    }
   },
   "outputs": [
    {
     "name": "stdout",
     "output_type": "stream",
     "text": [
      "#-- I/O --#\n",
      "samples_file: /ebio/abt3_projects/Georg_animal_feces/data/metagenome/multi-study/BioProjects/PRJNA381379/LLMGA-find-refs/samples_bracken.tsv\n",
      "\n",
      "# output location\n",
      "output_dir: /ebio/abt3_projects/Georg_animal_feces/data/metagenome/multi-study/BioProjects/PRJNA381379/LLMGA-find-refs/\n",
      "\n",
      "#-- database --#\n",
      "centrifuge_db: /ebio/abt3_projects/databases_no-backup/centrifuge/p+h+v\n",
      "taxonomy_db: /ebio/abt3_projects/databases_no-backup/NCBI_genome/NCBI_taxid_db/taxa.sqlite\n",
      "\n",
      "#-- software parameters --#\n",
      "params:\n",
      "  # If providing paired-end reads\n",
      "  seqtk: 1000000          # subsampled read pairs per sample; use \"Skip\" to skip\n",
      "  centrifuge: \"\"          # for taxonomic profiling unless providing \"TaxID\" column\n",
      "  # If providing tables of TaxIDs instead of reads\n",
      "  taxID_column: taxonomy_id                # column in the table(s) containing the taxIDs\n",
      "  abundance_column: fraction_total_reads   # column in the table(s) containing the abundances\n",
      "  # Genome download & derep\n",
      "  abund_cutoff: 0.01       # taxon must have >= max(abundance) among samples\n",
      "  ncbi_genome_download: archaea,bacteria,viral -s refseq -l complete --retries 3\n",
      "  drep: --ignoreGenomeQuality --length 10000 --P_ani 0.9 --S_ani 0.99   # use \"Skip\" to skip\n",
      "\n",
      "#-- snakemake pipeline --#\n",
      "pipeline:\n",
      "  snakemake_folder: ./\n",
      "  script_folder: bin/scripts/\n",
      "  temp_folder: /tmp/global/     # <-- your username will be added to this\n"
     ]
    }
   ],
   "source": [
    "cat_file(file.path(out_dir, 'config.yaml'))"
   ]
  },
  {
   "cell_type": "markdown",
   "metadata": {},
   "source": [
    "### Run"
   ]
  },
  {
   "cell_type": "markdown",
   "metadata": {},
   "source": [
    "```\n",
    "(snakemake_dev) @ rick:/ebio/abt3_projects/Georg_animal_feces/bin/llmga-find-refs\n",
    "$ screen -L -S llmga-fr-PRJNA381379 ./snakemake_sge.sh /ebio/abt3_projects/Georg_animal_feces/data/metagenome/multi-study/BioProjects/PRJNA381379/LLMGA-find-refs/config.yaml cluster.json /ebio/abt3_projects/Georg_animal_feces/data/metagenome/multi-study/BioProjects/PRJNA381379/LLMGA-find-refs/SGE_log 20\n",
    "```"
   ]
  },
  {
   "cell_type": "markdown",
   "metadata": {},
   "source": [
    "### Results"
   ]
  },
  {
   "cell_type": "code",
   "execution_count": 31,
   "metadata": {
    "ExecuteTime": {
     "end_time": "2019-08-29T12:09:11.841208Z",
     "start_time": "2019-08-29T12:09:11.666Z"
    }
   },
   "outputs": [
    {
     "name": "stdout",
     "output_type": "stream",
     "text": [
      "Number of ref. genomes: 40 \n"
     ]
    }
   ],
   "source": [
    "# listing all reference genomes\n",
    "ref_dir = file.path(out_dir, 'references', 'drep', 'dereplicated_genomes')\n",
    "F = list.files(ref_dir, '*.fna', full.names=TRUE)\n",
    "cat('Number of ref. genomes:', F %>% length, '\\n')"
   ]
  },
  {
   "cell_type": "code",
   "execution_count": 32,
   "metadata": {
    "ExecuteTime": {
     "end_time": "2019-08-29T12:09:20.643024Z",
     "start_time": "2019-08-29T12:09:19.508Z"
    }
   },
   "outputs": [
    {
     "data": {
      "text/html": [
       "TRUE"
      ],
      "text/latex": [
       "TRUE"
      ],
      "text/markdown": [
       "TRUE"
      ],
      "text/plain": [
       "[1] TRUE"
      ]
     },
     "metadata": {},
     "output_type": "display_data"
    },
    {
     "data": {
      "text/html": [
       "171071445"
      ],
      "text/latex": [
       "171071445"
      ],
      "text/markdown": [
       "171071445"
      ],
      "text/plain": [
       "[1] 171071445"
      ]
     },
     "metadata": {},
     "output_type": "display_data"
    },
    {
     "name": "stdout",
     "output_type": "stream",
     "text": [
      "File written: /ebio/abt3_projects/Georg_animal_feces/data/metagenome/multi-study/BioProjects//PRJNA381379/LLMGA-find-refs/references/ref_genomes.fna \n"
     ]
    }
   ],
   "source": [
    "# combining all refs\n",
    "ref_file = file.path(out_dir, 'references', 'ref_genomes.fna')\n",
    "if(file.exists(ref_file)){ file.remove(ref_file) }\n",
    "file.create(ref_file)\n",
    "for (f in F){\n",
    "    file.append(ref_file, f)\n",
    "}\n",
    "file.size(ref_file)\n",
    "cat('File written:', ref_file, '\\n')"
   ]
  },
  {
   "cell_type": "markdown",
   "metadata": {},
   "source": [
    "## PRJNA417359\n",
    "\n",
    "* host = chicken"
   ]
  },
  {
   "cell_type": "code",
   "execution_count": 33,
   "metadata": {
    "ExecuteTime": {
     "end_time": "2019-08-30T06:50:24.086511Z",
     "start_time": "2019-08-30T06:50:24.063Z"
    }
   },
   "outputs": [],
   "source": [
    "projectID = 'PRJNA417359'"
   ]
  },
  {
   "cell_type": "code",
   "execution_count": 34,
   "metadata": {
    "ExecuteTime": {
     "end_time": "2019-08-30T06:50:30.081004Z",
     "start_time": "2019-08-30T06:50:30.043Z"
    }
   },
   "outputs": [
    {
     "name": "stdout",
     "output_type": "stream",
     "text": [
      "Created directory: /ebio/abt3_projects/Georg_animal_feces/data/metagenome/multi-study/BioProjects//PRJNA417359/LLMGA-find-refs \n"
     ]
    }
   ],
   "source": [
    "out_dir = file.path(work_dir, projectID, 'LLMGA-find-refs')\n",
    "make_dir(out_dir)"
   ]
  },
  {
   "cell_type": "markdown",
   "metadata": {},
   "source": [
    "### Config"
   ]
  },
  {
   "cell_type": "code",
   "execution_count": 35,
   "metadata": {
    "ExecuteTime": {
     "end_time": "2019-08-30T06:51:32.353788Z",
     "start_time": "2019-08-30T06:51:32.321Z"
    }
   },
   "outputs": [
    {
     "name": "stdout",
     "output_type": "stream",
     "text": [
      "#-- I/O --#\n",
      "samples_file: /ebio/abt3_projects/Georg_animal_feces/data/metagenome/multi-study/BioProjects/PRJNA417359/LLMGA-find-refs/samples_bracken.tsv\n",
      "\n",
      "# output location\n",
      "output_dir: /ebio/abt3_projects/Georg_animal_feces/data/metagenome/multi-study/BioProjects/PRJNA417359/LLMGA-find-refs/\n",
      "\n",
      "#-- database --#\n",
      "centrifuge_db: /ebio/abt3_projects/databases_no-backup/centrifuge/p+h+v\n",
      "taxonomy_db: /ebio/abt3_projects/databases_no-backup/NCBI_genome/NCBI_taxid_db/taxa.sqlite\n",
      "\n",
      "#-- software parameters --#\n",
      "params:\n",
      "  # If providing paired-end reads\n",
      "  seqtk: 1000000          # subsampled read pairs per sample; use \"Skip\" to skip\n",
      "  centrifuge: \"\"          # for taxonomic profiling unless providing \"TaxID\" column\n",
      "  # If providing tables of TaxIDs instead of reads\n",
      "  taxID_column: taxonomy_id                # column in the table(s) containing the taxIDs\n",
      "  abundance_column: fraction_total_reads   # column in the table(s) containing the abundances\n",
      "  # Genome download & derep\n",
      "  abund_cutoff: 0.01       # taxon must have >= max(abundance) among samples\n",
      "  ncbi_genome_download: archaea,bacteria,viral -s refseq -l complete --retries 3\n",
      "  drep: --ignoreGenomeQuality --length 10000 --P_ani 0.9 --S_ani 0.99   # use \"Skip\" to skip\n",
      "\n",
      "#-- snakemake pipeline --#\n",
      "pipeline:\n",
      "  snakemake_folder: ./\n",
      "  script_folder: bin/scripts/\n",
      "  temp_folder: /tmp/global/     # <-- your username will be added to this\n"
     ]
    }
   ],
   "source": [
    "cat_file(file.path(out_dir, 'config.yaml'))"
   ]
  },
  {
   "cell_type": "markdown",
   "metadata": {},
   "source": [
    "### Run"
   ]
  },
  {
   "cell_type": "markdown",
   "metadata": {},
   "source": [
    "```\n",
    "(snakemake_dev) @ rick:/ebio/abt3_projects/Georg_animal_feces/bin/llmga-find-refs\n",
    "$ screen -L -S llmga-fr-PRJNA417359 ./snakemake_sge.sh /ebio/abt3_projects/Georg_animal_feces/data/metagenome/multi-study/BioProjects/PRJNA417359/LLMGA-find-refs/config.yaml cluster.json /ebio/abt3_projects/Georg_animal_feces/data/metagenome/multi-study/BioProjects/PRJNA417359/LLMGA-find-refs/SGE_log 20\n",
    "```"
   ]
  },
  {
   "cell_type": "markdown",
   "metadata": {},
   "source": [
    "### Results"
   ]
  },
  {
   "cell_type": "code",
   "execution_count": 36,
   "metadata": {
    "ExecuteTime": {
     "end_time": "2019-08-30T11:33:24.105096Z",
     "start_time": "2019-08-30T11:33:24.062Z"
    }
   },
   "outputs": [
    {
     "name": "stdout",
     "output_type": "stream",
     "text": [
      "Number of ref. genomes: 81 \n"
     ]
    }
   ],
   "source": [
    "# listing all reference genomes\n",
    "ref_dir = file.path(out_dir, 'references', 'drep', 'dereplicated_genomes')\n",
    "F = list.files(ref_dir, '*.fna', full.names=TRUE)\n",
    "cat('Number of ref. genomes:', F %>% length, '\\n')"
   ]
  },
  {
   "cell_type": "code",
   "execution_count": 37,
   "metadata": {
    "ExecuteTime": {
     "end_time": "2019-08-30T11:33:29.664620Z",
     "start_time": "2019-08-30T11:33:28.939Z"
    }
   },
   "outputs": [
    {
     "data": {
      "text/html": [
       "TRUE"
      ],
      "text/latex": [
       "TRUE"
      ],
      "text/markdown": [
       "TRUE"
      ],
      "text/plain": [
       "[1] TRUE"
      ]
     },
     "metadata": {},
     "output_type": "display_data"
    },
    {
     "data": {
      "text/html": [
       "310662823"
      ],
      "text/latex": [
       "310662823"
      ],
      "text/markdown": [
       "310662823"
      ],
      "text/plain": [
       "[1] 310662823"
      ]
     },
     "metadata": {},
     "output_type": "display_data"
    },
    {
     "name": "stdout",
     "output_type": "stream",
     "text": [
      "File written: /ebio/abt3_projects/Georg_animal_feces/data/metagenome/multi-study/BioProjects//PRJNA417359/LLMGA-find-refs/references/ref_genomes.fna \n"
     ]
    }
   ],
   "source": [
    "# combining all refs\n",
    "ref_file = file.path(out_dir, 'references', 'ref_genomes.fna')\n",
    "if(file.exists(ref_file)){ file.remove(ref_file) }\n",
    "file.create(ref_file)\n",
    "for (f in F){\n",
    "    file.append(ref_file, f)\n",
    "}\n",
    "file.size(ref_file)\n",
    "cat('File written:', ref_file, '\\n')"
   ]
  },
  {
   "cell_type": "markdown",
   "metadata": {},
   "source": [
    "# PRJNA476660\n",
    "\n",
    "* host = pangolin"
   ]
  },
  {
   "cell_type": "code",
   "execution_count": 38,
   "metadata": {
    "ExecuteTime": {
     "end_time": "2019-08-30T11:40:18.995625Z",
     "start_time": "2019-08-30T11:40:18.965Z"
    }
   },
   "outputs": [],
   "source": [
    "projectID = 'PRJNA476660'"
   ]
  },
  {
   "cell_type": "code",
   "execution_count": 39,
   "metadata": {
    "ExecuteTime": {
     "end_time": "2019-08-30T11:40:22.884050Z",
     "start_time": "2019-08-30T11:40:22.850Z"
    }
   },
   "outputs": [
    {
     "name": "stdout",
     "output_type": "stream",
     "text": [
      "Created directory: /ebio/abt3_projects/Georg_animal_feces/data/metagenome/multi-study/BioProjects//PRJNA476660/LLMGA-find-refs \n"
     ]
    }
   ],
   "source": [
    "out_dir = file.path(work_dir, projectID, 'LLMGA-find-refs')\n",
    "make_dir(out_dir)"
   ]
  },
  {
   "cell_type": "markdown",
   "metadata": {},
   "source": [
    "### Config"
   ]
  },
  {
   "cell_type": "code",
   "execution_count": 40,
   "metadata": {
    "ExecuteTime": {
     "end_time": "2019-08-30T11:42:19.787311Z",
     "start_time": "2019-08-30T11:42:19.750Z"
    }
   },
   "outputs": [
    {
     "name": "stdout",
     "output_type": "stream",
     "text": [
      "#-- I/O --#\n",
      "samples_file: /ebio/abt3_projects/Georg_animal_feces/data/metagenome/multi-study/BioProjects/PRJNA476660/LLMGA-find-refs/samples_bracken.tsv\n",
      "\n",
      "# output location\n",
      "output_dir: /ebio/abt3_projects/Georg_animal_feces/data/metagenome/multi-study/BioProjects/PRJNA476660/LLMGA-find-refs/\n",
      "\n",
      "#-- database --#\n",
      "centrifuge_db: /ebio/abt3_projects/databases_no-backup/centrifuge/p+h+v\n",
      "taxonomy_db: /ebio/abt3_projects/databases_no-backup/NCBI_genome/NCBI_taxid_db/taxa.sqlite\n",
      "\n",
      "#-- software parameters --#\n",
      "params:\n",
      "  # If providing paired-end reads\n",
      "  seqtk: 1000000          # subsampled read pairs per sample; use \"Skip\" to skip\n",
      "  centrifuge: \"\"          # for taxonomic profiling unless providing \"TaxID\" column\n",
      "  # If providing tables of TaxIDs instead of reads\n",
      "  taxID_column: taxonomy_id                # column in the table(s) containing the taxIDs\n",
      "  abundance_column: fraction_total_reads   # column in the table(s) containing the abundances\n",
      "  # Genome download & derep\n",
      "  abund_cutoff: 0.01       # taxon must have >= max(abundance) among samples\n",
      "  ncbi_genome_download: archaea,bacteria,viral -s refseq -l complete --retries 3\n",
      "  drep: --ignoreGenomeQuality --length 10000 --P_ani 0.9 --S_ani 0.99   # use \"Skip\" to skip\n",
      "\n",
      "#-- snakemake pipeline --#\n",
      "pipeline:\n",
      "  snakemake_folder: ./\n",
      "  script_folder: bin/scripts/\n",
      "  temp_folder: /tmp/global/     # <-- your username will be added to this\n"
     ]
    }
   ],
   "source": [
    "cat_file(file.path(out_dir, 'config.yaml'))"
   ]
  },
  {
   "cell_type": "markdown",
   "metadata": {},
   "source": [
    "### Run"
   ]
  },
  {
   "cell_type": "markdown",
   "metadata": {},
   "source": [
    "```\n",
    "(snakemake_dev) @ rick:/ebio/abt3_projects/Georg_animal_feces/bin/llmga-find-refs\n",
    "$ screen -L -S llmga-fr-PRJNA476660 ./snakemake_sge.sh /ebio/abt3_projects/Georg_animal_feces/data/metagenome/multi-study/BioProjects/PRJNA476660/LLMGA-find-refs/config.yaml cluster.json /ebio/abt3_projects/Georg_animal_feces/data/metagenome/multi-study/BioProjects/PRJNA476660/LLMGA-find-refs/SGE_log 20\n",
    "```"
   ]
  },
  {
   "cell_type": "markdown",
   "metadata": {},
   "source": [
    "### Results"
   ]
  },
  {
   "cell_type": "code",
   "execution_count": 41,
   "metadata": {
    "ExecuteTime": {
     "end_time": "2019-08-31T05:55:59.654372Z",
     "start_time": "2019-08-31T05:55:59.582Z"
    }
   },
   "outputs": [
    {
     "name": "stdout",
     "output_type": "stream",
     "text": [
      "Number of ref. genomes: 31 \n"
     ]
    }
   ],
   "source": [
    "# listing all reference genomes\n",
    "ref_dir = file.path(out_dir, 'references', 'drep', 'dereplicated_genomes')\n",
    "F = list.files(ref_dir, '*.fna', full.names=TRUE)\n",
    "cat('Number of ref. genomes:', F %>% length, '\\n')"
   ]
  },
  {
   "cell_type": "code",
   "execution_count": 42,
   "metadata": {
    "ExecuteTime": {
     "end_time": "2019-08-31T05:56:06.879504Z",
     "start_time": "2019-08-31T05:56:05.490Z"
    }
   },
   "outputs": [
    {
     "data": {
      "text/html": [
       "TRUE"
      ],
      "text/latex": [
       "TRUE"
      ],
      "text/markdown": [
       "TRUE"
      ],
      "text/plain": [
       "[1] TRUE"
      ]
     },
     "metadata": {},
     "output_type": "display_data"
    },
    {
     "data": {
      "text/html": [
       "167112509"
      ],
      "text/latex": [
       "167112509"
      ],
      "text/markdown": [
       "167112509"
      ],
      "text/plain": [
       "[1] 167112509"
      ]
     },
     "metadata": {},
     "output_type": "display_data"
    },
    {
     "name": "stdout",
     "output_type": "stream",
     "text": [
      "File written: /ebio/abt3_projects/Georg_animal_feces/data/metagenome/multi-study/BioProjects//PRJNA476660/LLMGA-find-refs/references/ref_genomes.fna \n"
     ]
    }
   ],
   "source": [
    "# combining all refs\n",
    "ref_file = file.path(out_dir, 'references', 'ref_genomes.fna')\n",
    "if(file.exists(ref_file)){ file.remove(ref_file) }\n",
    "file.create(ref_file)\n",
    "for (f in F){\n",
    "    file.append(ref_file, f)\n",
    "}\n",
    "file.size(ref_file)\n",
    "cat('File written:', ref_file, '\\n')"
   ]
  },
  {
   "cell_type": "markdown",
   "metadata": {},
   "source": [
    "## PRJNA485217\n",
    "\n",
    "* host = primate"
   ]
  },
  {
   "cell_type": "code",
   "execution_count": 43,
   "metadata": {
    "ExecuteTime": {
     "end_time": "2019-08-31T06:05:02.391302Z",
     "start_time": "2019-08-31T06:05:02.355Z"
    }
   },
   "outputs": [],
   "source": [
    "projectID = 'PRJNA485217'"
   ]
  },
  {
   "cell_type": "code",
   "execution_count": 44,
   "metadata": {
    "ExecuteTime": {
     "end_time": "2019-08-31T06:05:07.830831Z",
     "start_time": "2019-08-31T06:05:07.777Z"
    }
   },
   "outputs": [
    {
     "name": "stdout",
     "output_type": "stream",
     "text": [
      "Created directory: /ebio/abt3_projects/Georg_animal_feces/data/metagenome/multi-study/BioProjects//PRJNA485217/LLMGA-find-refs \n"
     ]
    }
   ],
   "source": [
    "out_dir = file.path(work_dir, projectID, 'LLMGA-find-refs')\n",
    "make_dir(out_dir)"
   ]
  },
  {
   "cell_type": "markdown",
   "metadata": {},
   "source": [
    "### Config"
   ]
  },
  {
   "cell_type": "code",
   "execution_count": 45,
   "metadata": {
    "ExecuteTime": {
     "end_time": "2019-08-31T06:06:20.431992Z",
     "start_time": "2019-08-31T06:06:20.386Z"
    }
   },
   "outputs": [
    {
     "name": "stdout",
     "output_type": "stream",
     "text": [
      "#-- I/O --#\n",
      "samples_file: /ebio/abt3_projects/Georg_animal_feces/data/metagenome/multi-study/BioProjects/PRJNA485217/LLMGA-find-refs/samples_bracken.tsv\n",
      "\n",
      "# output location\n",
      "output_dir: /ebio/abt3_projects/Georg_animal_feces/data/metagenome/multi-study/BioProjects/PRJNA485217/LLMGA-find-refs/\n",
      "\n",
      "#-- database --#\n",
      "centrifuge_db: /ebio/abt3_projects/databases_no-backup/centrifuge/p+h+v\n",
      "taxonomy_db: /ebio/abt3_projects/databases_no-backup/NCBI_genome/NCBI_taxid_db/taxa.sqlite\n",
      "\n",
      "#-- software parameters --#\n",
      "params:\n",
      "  # If providing paired-end reads\n",
      "  seqtk: 1000000          # subsampled read pairs per sample; use \"Skip\" to skip\n",
      "  centrifuge: \"\"          # for taxonomic profiling unless providing \"TaxID\" column\n",
      "  # If providing tables of TaxIDs instead of reads\n",
      "  taxID_column: taxonomy_id                # column in the table(s) containing the taxIDs\n",
      "  abundance_column: fraction_total_reads   # column in the table(s) containing the abundances\n",
      "  # Genome download & derep\n",
      "  abund_cutoff: 0.01       # taxon must have >= max(abundance) among samples\n",
      "  ncbi_genome_download: archaea,bacteria,viral -s refseq -l complete --retries 3\n",
      "  drep: --ignoreGenomeQuality --length 10000 --P_ani 0.9 --S_ani 0.99   # use \"Skip\" to skip\n",
      "\n",
      "#-- snakemake pipeline --#\n",
      "pipeline:\n",
      "  snakemake_folder: ./\n",
      "  script_folder: bin/scripts/\n",
      "  temp_folder: /tmp/global/     # <-- your username will be added to this\n"
     ]
    }
   ],
   "source": [
    "cat_file(file.path(out_dir, 'config.yaml'))"
   ]
  },
  {
   "cell_type": "markdown",
   "metadata": {},
   "source": [
    "### Run"
   ]
  },
  {
   "cell_type": "markdown",
   "metadata": {},
   "source": [
    "```\n",
    "(snakemake_dev) @ rick:/ebio/abt3_projects/Georg_animal_feces/bin/llmga-find-refs\n",
    "$ screen -L -S llmga-fr-PRJNA485217 ./snakemake_sge.sh /ebio/abt3_projects/Georg_animal_feces/data/metagenome/multi-study/BioProjects/PRJNA485217/LLMGA-find-refs/config.yaml cluster.json /ebio/abt3_projects/Georg_animal_feces/data/metagenome/multi-study/BioProjects/PRJNA485217/LLMGA-find-refs/SGE_log 20\n",
    "```"
   ]
  },
  {
   "cell_type": "markdown",
   "metadata": {},
   "source": [
    "### Results"
   ]
  },
  {
   "cell_type": "code",
   "execution_count": 46,
   "metadata": {
    "ExecuteTime": {
     "end_time": "2019-08-31T10:19:34.107916Z",
     "start_time": "2019-08-31T10:19:34.054Z"
    }
   },
   "outputs": [
    {
     "name": "stdout",
     "output_type": "stream",
     "text": [
      "Number of ref. genomes: 69 \n"
     ]
    }
   ],
   "source": [
    "# listing all reference genomes\n",
    "ref_dir = file.path(out_dir, 'references', 'drep', 'dereplicated_genomes')\n",
    "F = list.files(ref_dir, '*.fna', full.names=TRUE)\n",
    "cat('Number of ref. genomes:', F %>% length, '\\n')"
   ]
  },
  {
   "cell_type": "code",
   "execution_count": 47,
   "metadata": {
    "ExecuteTime": {
     "end_time": "2019-08-31T10:19:42.579900Z",
     "start_time": "2019-08-31T10:19:39.882Z"
    }
   },
   "outputs": [
    {
     "data": {
      "text/html": [
       "TRUE"
      ],
      "text/latex": [
       "TRUE"
      ],
      "text/markdown": [
       "TRUE"
      ],
      "text/plain": [
       "[1] TRUE"
      ]
     },
     "metadata": {},
     "output_type": "display_data"
    },
    {
     "data": {
      "text/html": [
       "308281776"
      ],
      "text/latex": [
       "308281776"
      ],
      "text/markdown": [
       "308281776"
      ],
      "text/plain": [
       "[1] 308281776"
      ]
     },
     "metadata": {},
     "output_type": "display_data"
    },
    {
     "name": "stdout",
     "output_type": "stream",
     "text": [
      "File written: /ebio/abt3_projects/Georg_animal_feces/data/metagenome/multi-study/BioProjects//PRJNA485217/LLMGA-find-refs/references/ref_genomes.fna \n"
     ]
    }
   ],
   "source": [
    "# combining all refs\n",
    "ref_file = file.path(out_dir, 'references', 'ref_genomes.fna')\n",
    "if(file.exists(ref_file)){ file.remove(ref_file) }\n",
    "file.create(ref_file)\n",
    "for (f in F){\n",
    "    file.append(ref_file, f)\n",
    "}\n",
    "file.size(ref_file)\n",
    "cat('File written:', ref_file, '\\n')"
   ]
  },
  {
   "cell_type": "markdown",
   "metadata": {},
   "source": [
    "## PRJNA532626\n",
    "\n",
    "* host = Black rhinoceros"
   ]
  },
  {
   "cell_type": "code",
   "execution_count": 48,
   "metadata": {
    "ExecuteTime": {
     "end_time": "2019-08-31T13:28:59.018435Z",
     "start_time": "2019-08-31T13:28:58.979Z"
    }
   },
   "outputs": [],
   "source": [
    "projectID = 'PRJNA532626'"
   ]
  },
  {
   "cell_type": "code",
   "execution_count": 49,
   "metadata": {
    "ExecuteTime": {
     "end_time": "2019-08-31T13:29:05.462672Z",
     "start_time": "2019-08-31T13:29:05.413Z"
    }
   },
   "outputs": [
    {
     "name": "stdout",
     "output_type": "stream",
     "text": [
      "Created directory: /ebio/abt3_projects/Georg_animal_feces/data/metagenome/multi-study/BioProjects//PRJNA532626/LLMGA-find-refs \n"
     ]
    }
   ],
   "source": [
    "out_dir = file.path(work_dir, projectID, 'LLMGA-find-refs')\n",
    "make_dir(out_dir)"
   ]
  },
  {
   "cell_type": "markdown",
   "metadata": {},
   "source": [
    "### Config"
   ]
  },
  {
   "cell_type": "code",
   "execution_count": 50,
   "metadata": {
    "ExecuteTime": {
     "end_time": "2019-08-31T13:31:27.734528Z",
     "start_time": "2019-08-31T13:31:27.684Z"
    }
   },
   "outputs": [
    {
     "name": "stdout",
     "output_type": "stream",
     "text": [
      "#-- I/O --#\n",
      "samples_file: /ebio/abt3_projects/Georg_animal_feces/data/metagenome/multi-study/BioProjects/PRJNA532626/LLMGA-find-refs/samples_bracken.tsv\n",
      "\n",
      "# output location\n",
      "output_dir: /ebio/abt3_projects/Georg_animal_feces/data/metagenome/multi-study/BioProjects/PRJNA532626/LLMGA-find-refs/\n",
      "\n",
      "#-- database --#\n",
      "centrifuge_db: /ebio/abt3_projects/databases_no-backup/centrifuge/p+h+v\n",
      "taxonomy_db: /ebio/abt3_projects/databases_no-backup/NCBI_genome/NCBI_taxid_db/taxa.sqlite\n",
      "\n",
      "#-- software parameters --#\n",
      "params:\n",
      "  # If providing paired-end reads\n",
      "  seqtk: 1000000          # subsampled read pairs per sample; use \"Skip\" to skip\n",
      "  centrifuge: \"\"          # for taxonomic profiling unless providing \"TaxID\" column\n",
      "  # If providing tables of TaxIDs instead of reads\n",
      "  taxID_column: taxonomy_id                # column in the table(s) containing the taxIDs\n",
      "  abundance_column: fraction_total_reads   # column in the table(s) containing the abundances\n",
      "  # Genome download & derep\n",
      "  abund_cutoff: 0.01       # taxon must have >= max(abundance) among samples\n",
      "  ncbi_genome_download: archaea,bacteria,viral -s refseq -l complete --retries 3\n",
      "  drep: --ignoreGenomeQuality --length 10000 --P_ani 0.9 --S_ani 0.99   # use \"Skip\" to skip\n",
      "\n",
      "#-- snakemake pipeline --#\n",
      "pipeline:\n",
      "  snakemake_folder: ./\n",
      "  script_folder: bin/scripts/\n",
      "  temp_folder: /tmp/global/     # <-- your username will be added to this\n"
     ]
    }
   ],
   "source": [
    "cat_file(file.path(out_dir, 'config.yaml'))"
   ]
  },
  {
   "cell_type": "markdown",
   "metadata": {},
   "source": [
    "### Run"
   ]
  },
  {
   "cell_type": "markdown",
   "metadata": {},
   "source": [
    "```\n",
    "(snakemake_dev) @ rick:/ebio/abt3_projects/Georg_animal_feces/bin/llmga-find-refs\n",
    "$ screen -L -S llmga-fr-PRJNA532626 ./snakemake_sge.sh /ebio/abt3_projects/Georg_animal_feces/data/metagenome/multi-study/BioProjects/PRJNA532626/LLMGA-find-refs/config.yaml cluster.json /ebio/abt3_projects/Georg_animal_feces/data/metagenome/multi-study/BioProjects/PRJNA532626/LLMGA-find-refs/SGE_log 20\n",
    "```"
   ]
  },
  {
   "cell_type": "markdown",
   "metadata": {},
   "source": [
    "### Results"
   ]
  },
  {
   "cell_type": "code",
   "execution_count": 51,
   "metadata": {
    "ExecuteTime": {
     "end_time": "2019-08-31T19:52:54.767976Z",
     "start_time": "2019-08-31T19:52:54.708Z"
    }
   },
   "outputs": [
    {
     "name": "stdout",
     "output_type": "stream",
     "text": [
      "Number of ref. genomes: 78 \n"
     ]
    }
   ],
   "source": [
    "# listing all reference genomes\n",
    "ref_dir = file.path(out_dir, 'references', 'drep', 'dereplicated_genomes')\n",
    "F = list.files(ref_dir, '*.fna', full.names=TRUE)\n",
    "cat('Number of ref. genomes:', F %>% length, '\\n')"
   ]
  },
  {
   "cell_type": "code",
   "execution_count": 52,
   "metadata": {
    "ExecuteTime": {
     "end_time": "2019-08-31T19:53:01.747694Z",
     "start_time": "2019-08-31T19:52:59.744Z"
    }
   },
   "outputs": [
    {
     "data": {
      "text/html": [
       "TRUE"
      ],
      "text/latex": [
       "TRUE"
      ],
      "text/markdown": [
       "TRUE"
      ],
      "text/plain": [
       "[1] TRUE"
      ]
     },
     "metadata": {},
     "output_type": "display_data"
    },
    {
     "data": {
      "text/html": [
       "330375254"
      ],
      "text/latex": [
       "330375254"
      ],
      "text/markdown": [
       "330375254"
      ],
      "text/plain": [
       "[1] 330375254"
      ]
     },
     "metadata": {},
     "output_type": "display_data"
    },
    {
     "name": "stdout",
     "output_type": "stream",
     "text": [
      "File written: /ebio/abt3_projects/Georg_animal_feces/data/metagenome/multi-study/BioProjects//PRJNA532626/LLMGA-find-refs/references/ref_genomes.fna \n"
     ]
    }
   ],
   "source": [
    "# combining all refs\n",
    "ref_file = file.path(out_dir, 'references', 'ref_genomes.fna')\n",
    "if(file.exists(ref_file)){ file.remove(ref_file) }\n",
    "file.create(ref_file)\n",
    "for (f in F){\n",
    "    file.append(ref_file, f)\n",
    "}\n",
    "file.size(ref_file)\n",
    "cat('File written:', ref_file, '\\n')"
   ]
  },
  {
   "cell_type": "markdown",
   "metadata": {},
   "source": [
    "## PRJEB22765\n",
    "\n",
    "* host = Macaque"
   ]
  },
  {
   "cell_type": "code",
   "execution_count": 55,
   "metadata": {
    "ExecuteTime": {
     "end_time": "2019-09-03T13:08:17.311566Z",
     "start_time": "2019-09-03T13:08:17.281Z"
    }
   },
   "outputs": [],
   "source": [
    "projectID = 'PRJEB22765'"
   ]
  },
  {
   "cell_type": "code",
   "execution_count": 54,
   "metadata": {
    "ExecuteTime": {
     "end_time": "2019-09-03T13:05:50.197126Z",
     "start_time": "2019-09-03T13:05:50.164Z"
    }
   },
   "outputs": [
    {
     "name": "stdout",
     "output_type": "stream",
     "text": [
      "Created directory: /ebio/abt3_projects/Georg_animal_feces/data/metagenome/multi-study/BioProjects//PRJEB22765/LLMGA-find-refs \n"
     ]
    }
   ],
   "source": [
    "out_dir = file.path(work_dir, projectID, 'LLMGA-find-refs')\n",
    "make_dir(out_dir)"
   ]
  },
  {
   "cell_type": "markdown",
   "metadata": {},
   "source": [
    "### Config"
   ]
  },
  {
   "cell_type": "code",
   "execution_count": 56,
   "metadata": {
    "ExecuteTime": {
     "end_time": "2019-09-03T13:08:18.988282Z",
     "start_time": "2019-09-03T13:08:18.952Z"
    }
   },
   "outputs": [
    {
     "name": "stdout",
     "output_type": "stream",
     "text": [
      "#-- I/O --#\n",
      "samples_file: /ebio/abt3_projects/Georg_animal_feces/data/metagenome/multi-study/BioProjects/PRJEB22765/LLMGA-find-refs/samples_bracken.tsv\n",
      "\n",
      "# output location\n",
      "output_dir: /ebio/abt3_projects/Georg_animal_feces/data/metagenome/multi-study/BioProjects/PRJEB22765/LLMGA-find-refs/\n",
      "\n",
      "#-- database --#\n",
      "centrifuge_db: /ebio/abt3_projects/databases_no-backup/centrifuge/p+h+v\n",
      "taxonomy_db: /ebio/abt3_projects/databases_no-backup/NCBI_genome/NCBI_taxid_db/taxa.sqlite\n",
      "\n",
      "#-- software parameters --#\n",
      "params:\n",
      "  # If providing paired-end reads\n",
      "  seqtk: 1000000          # subsampled read pairs per sample; use \"Skip\" to skip\n",
      "  centrifuge: \"\"          # for taxonomic profiling unless providing \"TaxID\" column\n",
      "  # If providing tables of TaxIDs instead of reads\n",
      "  taxID_column: taxonomy_id                # column in the table(s) containing the taxIDs\n",
      "  abundance_column: fraction_total_reads   # column in the table(s) containing the abundances\n",
      "  # Genome download & derep\n",
      "  abund_cutoff: 0.01       # taxon must have >= max(abundance) among samples\n",
      "  ncbi_genome_download: archaea,bacteria,viral -s refseq -l complete --retries 3\n",
      "  drep: --ignoreGenomeQuality --length 10000 --P_ani 0.9 --S_ani 0.99   # use \"Skip\" to skip\n",
      "\n",
      "#-- snakemake pipeline --#\n",
      "pipeline:\n",
      "  snakemake_folder: ./\n",
      "  script_folder: bin/scripts/\n",
      "  temp_folder: /tmp/global/     # <-- your username will be added to this\n"
     ]
    }
   ],
   "source": [
    "cat_file(file.path(out_dir, 'config.yaml'))"
   ]
  },
  {
   "cell_type": "markdown",
   "metadata": {},
   "source": [
    "### Run"
   ]
  },
  {
   "cell_type": "markdown",
   "metadata": {},
   "source": [
    "```\n",
    "(snakemake_dev) @ rick:/ebio/abt3_projects/Georg_animal_feces/bin/llmga-find-refs\n",
    "$ screen -L -S llmga-fr-PRJEB22765 ./snakemake_sge.sh /ebio/abt3_projects/Georg_animal_feces/data/metagenome/multi-study/BioProjects/PRJEB22765/LLMGA-find-refs/config.yaml cluster.json /ebio/abt3_projects/Georg_animal_feces/data/metagenome/multi-study/BioProjects/PRJEB22765/LLMGA-find-refs/SGE_log 20\n",
    "```"
   ]
  },
  {
   "cell_type": "markdown",
   "metadata": {},
   "source": [
    "### Results"
   ]
  },
  {
   "cell_type": "code",
   "execution_count": 57,
   "metadata": {
    "ExecuteTime": {
     "end_time": "2019-09-03T17:34:45.573326Z",
     "start_time": "2019-09-03T17:34:46.274Z"
    }
   },
   "outputs": [
    {
     "name": "stdout",
     "output_type": "stream",
     "text": [
      "Number of ref. genomes: 93 \n"
     ]
    }
   ],
   "source": [
    "# listing all reference genomes\n",
    "ref_dir = file.path(out_dir, 'references', 'drep', 'dereplicated_genomes')\n",
    "F = list.files(ref_dir, '*.fna', full.names=TRUE)\n",
    "cat('Number of ref. genomes:', F %>% length, '\\n')"
   ]
  },
  {
   "cell_type": "code",
   "execution_count": 58,
   "metadata": {
    "ExecuteTime": {
     "end_time": "2019-09-03T17:34:52.712136Z",
     "start_time": "2019-09-03T17:34:51.033Z"
    }
   },
   "outputs": [
    {
     "data": {
      "text/html": [
       "TRUE"
      ],
      "text/latex": [
       "TRUE"
      ],
      "text/markdown": [
       "TRUE"
      ],
      "text/plain": [
       "[1] TRUE"
      ]
     },
     "metadata": {},
     "output_type": "display_data"
    },
    {
     "data": {
      "text/html": [
       "366908291"
      ],
      "text/latex": [
       "366908291"
      ],
      "text/markdown": [
       "366908291"
      ],
      "text/plain": [
       "[1] 366908291"
      ]
     },
     "metadata": {},
     "output_type": "display_data"
    },
    {
     "name": "stdout",
     "output_type": "stream",
     "text": [
      "File written: /ebio/abt3_projects/Georg_animal_feces/data/metagenome/multi-study/BioProjects//PRJEB22765/LLMGA-find-refs/references/ref_genomes.fna \n"
     ]
    }
   ],
   "source": [
    "# combining all refs\n",
    "ref_file = file.path(out_dir, 'references', 'ref_genomes.fna')\n",
    "if(file.exists(ref_file)){ file.remove(ref_file) }\n",
    "file.create(ref_file)\n",
    "for (f in F){\n",
    "    file.append(ref_file, f)\n",
    "}\n",
    "file.size(ref_file)\n",
    "cat('File written:', ref_file, '\\n')"
   ]
  },
  {
   "cell_type": "markdown",
   "metadata": {},
   "source": [
    "## PRJEB23642\n",
    "\n",
    "* host = Minke whale"
   ]
  },
  {
   "cell_type": "code",
   "execution_count": 59,
   "metadata": {
    "ExecuteTime": {
     "end_time": "2019-09-05T06:45:01.914996Z",
     "start_time": "2019-09-05T06:45:01.886Z"
    }
   },
   "outputs": [],
   "source": [
    "projectID = 'PRJEB23642'"
   ]
  },
  {
   "cell_type": "code",
   "execution_count": 60,
   "metadata": {
    "ExecuteTime": {
     "end_time": "2019-09-05T06:45:14.124219Z",
     "start_time": "2019-09-05T06:45:14.084Z"
    }
   },
   "outputs": [
    {
     "name": "stdout",
     "output_type": "stream",
     "text": [
      "Created directory: /ebio/abt3_projects/Georg_animal_feces/data/metagenome/multi-study/BioProjects//PRJEB23642/LLMGA-find-refs \n"
     ]
    }
   ],
   "source": [
    "out_dir = file.path(work_dir, projectID, 'LLMGA-find-refs')\n",
    "make_dir(out_dir)"
   ]
  },
  {
   "cell_type": "markdown",
   "metadata": {},
   "source": [
    "### Config"
   ]
  },
  {
   "cell_type": "code",
   "execution_count": 61,
   "metadata": {
    "ExecuteTime": {
     "end_time": "2019-09-05T06:46:57.713763Z",
     "start_time": "2019-09-05T06:46:57.673Z"
    }
   },
   "outputs": [
    {
     "name": "stdout",
     "output_type": "stream",
     "text": [
      "#-- I/O --#\n",
      "samples_file: /ebio/abt3_projects/Georg_animal_feces/data/metagenome/multi-study/BioProjects/PRJEB23642/LLMGA-find-refs/samples_bracken.tsv\n",
      "\n",
      "# output location\n",
      "output_dir: /ebio/abt3_projects/Georg_animal_feces/data/metagenome/multi-study/BioProjects/PRJEB23642/LLMGA-find-refs/\n",
      "\n",
      "#-- database --#\n",
      "centrifuge_db: /ebio/abt3_projects/databases_no-backup/centrifuge/p+h+v\n",
      "taxonomy_db: /ebio/abt3_projects/databases_no-backup/NCBI_genome/NCBI_taxid_db/taxa.sqlite\n",
      "\n",
      "#-- software parameters --#\n",
      "params:\n",
      "  # If providing paired-end reads\n",
      "  seqtk: 1000000          # subsampled read pairs per sample; use \"Skip\" to skip\n",
      "  centrifuge: \"\"          # for taxonomic profiling unless providing \"TaxID\" column\n",
      "  # If providing tables of TaxIDs instead of reads\n",
      "  taxID_column: taxonomy_id                # column in the table(s) containing the taxIDs\n",
      "  abundance_column: fraction_total_reads   # column in the table(s) containing the abundances\n",
      "  # Genome download & derep\n",
      "  abund_cutoff: 0.01       # taxon must have >= max(abundance) among samples\n",
      "  ncbi_genome_download: archaea,bacteria,viral -s refseq -l complete --retries 3\n",
      "  drep: --ignoreGenomeQuality --length 10000 --P_ani 0.9 --S_ani 0.99   # use \"Skip\" to skip\n",
      "\n",
      "#-- snakemake pipeline --#\n",
      "pipeline:\n",
      "  snakemake_folder: ./\n",
      "  script_folder: bin/scripts/\n",
      "  temp_folder: /tmp/global/     # <-- your username will be added to this\n"
     ]
    }
   ],
   "source": [
    "cat_file(file.path(out_dir, 'config.yaml'))"
   ]
  },
  {
   "cell_type": "markdown",
   "metadata": {},
   "source": [
    "### Run"
   ]
  },
  {
   "cell_type": "markdown",
   "metadata": {},
   "source": [
    "```\n",
    "(snakemake_dev) @ rick:/ebio/abt3_projects/Georg_animal_feces/bin/llmga-find-refs\n",
    "$ screen -L -S llmga-fr-PRJEB23642 ./snakemake_sge.sh /ebio/abt3_projects/Georg_animal_feces/data/metagenome/multi-study/BioProjects/PRJEB23642/LLMGA-find-refs/config.yaml cluster.json /ebio/abt3_projects/Georg_animal_feces/data/metagenome/multi-study/BioProjects/PRJEB23642/LLMGA-find-refs/SGE_log 20\n",
    "```"
   ]
  },
  {
   "cell_type": "markdown",
   "metadata": {},
   "source": [
    "### Results"
   ]
  },
  {
   "cell_type": "code",
   "execution_count": 62,
   "metadata": {
    "ExecuteTime": {
     "end_time": "2019-09-05T11:27:46.503782Z",
     "start_time": "2019-09-05T11:27:46.459Z"
    }
   },
   "outputs": [
    {
     "name": "stdout",
     "output_type": "stream",
     "text": [
      "Number of ref. genomes: 95 \n"
     ]
    }
   ],
   "source": [
    "# listing all reference genomes\n",
    "ref_dir = file.path(out_dir, 'references', 'drep', 'dereplicated_genomes')\n",
    "F = list.files(ref_dir, '*.fna', full.names=TRUE)\n",
    "cat('Number of ref. genomes:', F %>% length, '\\n')"
   ]
  },
  {
   "cell_type": "code",
   "execution_count": 63,
   "metadata": {
    "ExecuteTime": {
     "end_time": "2019-09-05T11:27:51.489587Z",
     "start_time": "2019-09-05T11:27:50.465Z"
    }
   },
   "outputs": [
    {
     "data": {
      "text/html": [
       "TRUE"
      ],
      "text/latex": [
       "TRUE"
      ],
      "text/markdown": [
       "TRUE"
      ],
      "text/plain": [
       "[1] TRUE"
      ]
     },
     "metadata": {},
     "output_type": "display_data"
    },
    {
     "data": {
      "text/html": [
       "373510944"
      ],
      "text/latex": [
       "373510944"
      ],
      "text/markdown": [
       "373510944"
      ],
      "text/plain": [
       "[1] 373510944"
      ]
     },
     "metadata": {},
     "output_type": "display_data"
    },
    {
     "name": "stdout",
     "output_type": "stream",
     "text": [
      "File written: /ebio/abt3_projects/Georg_animal_feces/data/metagenome/multi-study/BioProjects//PRJEB23642/LLMGA-find-refs/references/ref_genomes.fna \n"
     ]
    }
   ],
   "source": [
    "# combining all refs\n",
    "ref_file = file.path(out_dir, 'references', 'ref_genomes.fna')\n",
    "if(file.exists(ref_file)){ file.remove(ref_file) }\n",
    "file.create(ref_file)\n",
    "for (f in F){\n",
    "    file.append(ref_file, f)\n",
    "}\n",
    "file.size(ref_file)\n",
    "cat('File written:', ref_file, '\\n')"
   ]
  },
  {
   "cell_type": "markdown",
   "metadata": {},
   "source": [
    "## PRJEB9357\n",
    "\n",
    "* host = house cat"
   ]
  },
  {
   "cell_type": "code",
   "execution_count": 64,
   "metadata": {
    "ExecuteTime": {
     "end_time": "2019-09-10T10:20:41.298985Z",
     "start_time": "2019-09-10T10:20:41.259Z"
    }
   },
   "outputs": [],
   "source": [
    "projectID = 'PRJEB9357'"
   ]
  },
  {
   "cell_type": "code",
   "execution_count": 65,
   "metadata": {
    "ExecuteTime": {
     "end_time": "2019-09-10T10:20:45.894315Z",
     "start_time": "2019-09-10T10:20:45.857Z"
    }
   },
   "outputs": [
    {
     "name": "stdout",
     "output_type": "stream",
     "text": [
      "Created directory: /ebio/abt3_projects/Georg_animal_feces/data/metagenome/multi-study/BioProjects//PRJEB9357/LLMGA-find-refs \n"
     ]
    }
   ],
   "source": [
    "out_dir = file.path(work_dir, projectID, 'LLMGA-find-refs')\n",
    "make_dir(out_dir)"
   ]
  },
  {
   "cell_type": "markdown",
   "metadata": {},
   "source": [
    "### Config"
   ]
  },
  {
   "cell_type": "code",
   "execution_count": 66,
   "metadata": {
    "ExecuteTime": {
     "end_time": "2019-09-10T10:25:48.183506Z",
     "start_time": "2019-09-10T10:25:48.146Z"
    }
   },
   "outputs": [
    {
     "name": "stdout",
     "output_type": "stream",
     "text": [
      "#-- I/O --#\n",
      "samples_file: /ebio/abt3_projects/Georg_animal_feces/data/metagenome/multi-study/BioProjects/PRJEB9357/LLMGA-find-refs/samples_bracken.tsv\n",
      "\n",
      "# output location\n",
      "output_dir: /ebio/abt3_projects/Georg_animal_feces/data/metagenome/multi-study/BioProjects/PRJEB9357/LLMGA-find-refs/\n",
      "\n",
      "#-- database --#\n",
      "centrifuge_db: /ebio/abt3_projects/databases_no-backup/centrifuge/p+h+v\n",
      "taxonomy_db: /ebio/abt3_projects/databases_no-backup/NCBI_genome/NCBI_taxid_db/taxa.sqlite\n",
      "\n",
      "#-- software parameters --#\n",
      "params:\n",
      "  # If providing paired-end reads\n",
      "  seqtk: 1000000          # subsampled read pairs per sample; use \"Skip\" to skip\n",
      "  centrifuge: \"\"          # for taxonomic profiling unless providing \"TaxID\" column\n",
      "  # If providing tables of TaxIDs instead of reads\n",
      "  taxID_column: taxonomy_id                # column in the table(s) containing the taxIDs\n",
      "  abundance_column: fraction_total_reads   # column in the table(s) containing the abundances\n",
      "  # Genome download & derep\n",
      "  abund_cutoff: 0.01       # taxon must have >= max(abundance) among samples\n",
      "  ncbi_genome_download: archaea,bacteria,viral -s refseq -l complete --retries 3\n",
      "  drep: --ignoreGenomeQuality --length 10000 --P_ani 0.9 --S_ani 0.99   # use \"Skip\" to skip\n",
      "\n",
      "#-- snakemake pipeline --#\n",
      "pipeline:\n",
      "  snakemake_folder: ./\n",
      "  script_folder: bin/scripts/\n",
      "  temp_folder: /tmp/global/     # <-- your username will be added to this\n"
     ]
    }
   ],
   "source": [
    "cat_file(file.path(out_dir, 'config.yaml'))"
   ]
  },
  {
   "cell_type": "markdown",
   "metadata": {},
   "source": [
    "### Run"
   ]
  },
  {
   "cell_type": "markdown",
   "metadata": {},
   "source": [
    "```\n",
    "(snakemake_dev) @ rick:/ebio/abt3_projects/Georg_animal_feces/bin/llmga-find-refs\n",
    "$ screen -L -S llmga-fr-PRJEB9357 ./snakemake_sge.sh /ebio/abt3_projects/Georg_animal_feces/data/metagenome/multi-study/BioProjects/PRJEB9357/LLMGA-find-refs/config.yaml cluster.json /ebio/abt3_projects/Georg_animal_feces/data/metagenome/multi-study/BioProjects/PRJEB9357/LLMGA-find-refs/SGE_log 20\n",
    "```"
   ]
  },
  {
   "cell_type": "markdown",
   "metadata": {},
   "source": [
    "### Results"
   ]
  },
  {
   "cell_type": "code",
   "execution_count": 67,
   "metadata": {
    "ExecuteTime": {
     "end_time": "2019-09-10T17:25:48.319256Z",
     "start_time": "2019-09-10T17:25:48.253Z"
    }
   },
   "outputs": [
    {
     "name": "stdout",
     "output_type": "stream",
     "text": [
      "Number of ref. genomes: 117 \n"
     ]
    }
   ],
   "source": [
    "# listing all reference genomes\n",
    "ref_dir = file.path(out_dir, 'references', 'drep', 'dereplicated_genomes')\n",
    "F = list.files(ref_dir, '*.fna', full.names=TRUE)\n",
    "cat('Number of ref. genomes:', F %>% length, '\\n')"
   ]
  },
  {
   "cell_type": "code",
   "execution_count": 68,
   "metadata": {
    "ExecuteTime": {
     "end_time": "2019-09-10T17:25:58.812311Z",
     "start_time": "2019-09-10T17:25:54.993Z"
    }
   },
   "outputs": [
    {
     "data": {
      "text/html": [
       "TRUE"
      ],
      "text/latex": [
       "TRUE"
      ],
      "text/markdown": [
       "TRUE"
      ],
      "text/plain": [
       "[1] TRUE"
      ]
     },
     "metadata": {},
     "output_type": "display_data"
    },
    {
     "data": {
      "text/html": [
       "429045194"
      ],
      "text/latex": [
       "429045194"
      ],
      "text/markdown": [
       "429045194"
      ],
      "text/plain": [
       "[1] 429045194"
      ]
     },
     "metadata": {},
     "output_type": "display_data"
    },
    {
     "name": "stdout",
     "output_type": "stream",
     "text": [
      "File written: /ebio/abt3_projects/Georg_animal_feces/data/metagenome/multi-study/BioProjects//PRJEB9357/LLMGA-find-refs/references/ref_genomes.fna \n"
     ]
    }
   ],
   "source": [
    "# combining all refs\n",
    "ref_file = file.path(out_dir, 'references', 'ref_genomes.fna')\n",
    "if(file.exists(ref_file)){ file.remove(ref_file) }\n",
    "file.create(ref_file)\n",
    "for (f in F){\n",
    "    file.append(ref_file, f)\n",
    "}\n",
    "file.size(ref_file)\n",
    "cat('File written:', ref_file, '\\n')"
   ]
  },
  {
   "cell_type": "markdown",
   "metadata": {},
   "source": [
    "# sessionInfo"
   ]
  },
  {
   "cell_type": "code",
   "execution_count": 69,
   "metadata": {
    "ExecuteTime": {
     "end_time": "2019-09-10T17:26:05.195375Z",
     "start_time": "2019-09-10T17:26:04.336Z"
    }
   },
   "outputs": [
    {
     "data": {
      "text/plain": [
       "R version 3.4.1 (2017-06-30)\n",
       "Platform: x86_64-pc-linux-gnu (64-bit)\n",
       "Running under: Ubuntu 18.04.3 LTS\n",
       "\n",
       "Matrix products: default\n",
       "BLAS: /ebio/abt3_projects/software/miniconda3_gt4.4/envs/py3_physeq/lib/R/lib/libRblas.so\n",
       "LAPACK: /ebio/abt3_projects/software/miniconda3_gt4.4/envs/py3_physeq/lib/R/lib/libRlapack.so\n",
       "\n",
       "locale:\n",
       " [1] LC_CTYPE=en_US.UTF-8       LC_NUMERIC=C              \n",
       " [3] LC_TIME=en_US.UTF-8        LC_COLLATE=en_US.UTF-8    \n",
       " [5] LC_MONETARY=en_US.UTF-8    LC_MESSAGES=en_US.UTF-8   \n",
       " [7] LC_PAPER=en_US.UTF-8       LC_NAME=C                 \n",
       " [9] LC_ADDRESS=C               LC_TELEPHONE=C            \n",
       "[11] LC_MEASUREMENT=en_US.UTF-8 LC_IDENTIFICATION=C       \n",
       "\n",
       "attached base packages:\n",
       "[1] stats     graphics  grDevices utils     datasets  methods   base     \n",
       "\n",
       "other attached packages:\n",
       "[1] data.table_1.11.4 ggplot2_3.0.0     tidyr_0.8.1       dplyr_0.7.6      \n",
       "\n",
       "loaded via a namespace (and not attached):\n",
       " [1] Rcpp_0.12.17     pillar_1.2.2     compiler_3.4.1   plyr_1.8.4      \n",
       " [5] bindr_0.1.1      base64enc_0.1-3  tools_3.4.1      digest_0.6.15   \n",
       " [9] uuid_0.1-2       jsonlite_1.5     evaluate_0.10.1  tibble_1.4.2    \n",
       "[13] gtable_0.2.0     pkgconfig_2.0.1  rlang_0.2.1      IRdisplay_0.4.4 \n",
       "[17] IRkernel_0.8.12  bindrcpp_0.2.2   repr_0.15.0      withr_2.1.1     \n",
       "[21] stringr_1.3.1    grid_3.4.1       tidyselect_0.2.4 glue_1.3.0      \n",
       "[25] R6_2.2.2         pbdZMQ_0.3-2     purrr_0.2.4      magrittr_1.5    \n",
       "[29] scales_0.5.0     htmltools_0.3.6  assertthat_0.2.0 colorspace_1.3-2\n",
       "[33] stringi_1.2.3    lazyeval_0.2.1   munsell_0.5.0    crayon_1.3.4    "
      ]
     },
     "metadata": {},
     "output_type": "display_data"
    }
   ],
   "source": [
    "sessionInfo()"
   ]
  },
  {
   "cell_type": "code",
   "execution_count": null,
   "metadata": {},
   "outputs": [],
   "source": []
  }
 ],
 "metadata": {
  "kernelspec": {
   "display_name": "R [conda env:py3_physeq]",
   "language": "R",
   "name": "conda-env-py3_physeq-r"
  },
  "language_info": {
   "codemirror_mode": "r",
   "file_extension": ".r",
   "mimetype": "text/x-r-source",
   "name": "R",
   "pygments_lexer": "r",
   "version": "3.4.1"
  },
  "notify_time": "30",
  "toc": {
   "base_numbering": 1,
   "nav_menu": {},
   "number_sections": true,
   "sideBar": true,
   "skip_h1_title": false,
   "title_cell": "Table of Contents",
   "title_sidebar": "Contents",
   "toc_cell": true,
   "toc_position": {
    "height": "calc(100% - 180px)",
    "left": "10px",
    "top": "150px",
    "width": "277px"
   },
   "toc_section_display": true,
   "toc_window_display": true
  }
 },
 "nbformat": 4,
 "nbformat_minor": 2
}
