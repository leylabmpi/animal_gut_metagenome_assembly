{
 "cells": [
  {
   "cell_type": "markdown",
   "metadata": {
    "toc": true
   },
   "source": [
    "<h1>Table of Contents<span class=\"tocSkip\"></span></h1>\n",
    "<div class=\"toc\"><ul class=\"toc-item\"><li><span><a href=\"#Goal\" data-toc-modified-id=\"Goal-1\"><span class=\"toc-item-num\">1&nbsp;&nbsp;</span>Goal</a></span></li><li><span><a href=\"#Var\" data-toc-modified-id=\"Var-2\"><span class=\"toc-item-num\">2&nbsp;&nbsp;</span>Var</a></span></li><li><span><a href=\"#Init\" data-toc-modified-id=\"Init-3\"><span class=\"toc-item-num\">3&nbsp;&nbsp;</span>Init</a></span></li><li><span><a href=\"#Combining-all-antismash-GBKs\" data-toc-modified-id=\"Combining-all-antismash-GBKs-4\"><span class=\"toc-item-num\">4&nbsp;&nbsp;</span>Combining all antismash GBKs</a></span><ul class=\"toc-item\"><li><span><a href=\"#Writing-table-of-BGC-IDs\" data-toc-modified-id=\"Writing-table-of-BGC-IDs-4.1\"><span class=\"toc-item-num\">4.1&nbsp;&nbsp;</span>Writing table of BGC IDs</a></span></li></ul></li><li><span><a href=\"#BiGSCAPE\" data-toc-modified-id=\"BiGSCAPE-5\"><span class=\"toc-item-num\">5&nbsp;&nbsp;</span>BiGSCAPE</a></span></li><li><span><a href=\"#Summary\" data-toc-modified-id=\"Summary-6\"><span class=\"toc-item-num\">6&nbsp;&nbsp;</span>Summary</a></span></li><li><span><a href=\"#sessionInfo\" data-toc-modified-id=\"sessionInfo-7\"><span class=\"toc-item-num\">7&nbsp;&nbsp;</span>sessionInfo</a></span></li></ul></div>"
   ]
  },
  {
   "cell_type": "markdown",
   "metadata": {},
   "source": [
    "# Goal\n",
    "\n",
    "* Run `BiGSCAPE` on all BGCs identified by `antismash`"
   ]
  },
  {
   "cell_type": "markdown",
   "metadata": {},
   "source": [
    "# Var"
   ]
  },
  {
   "cell_type": "code",
   "execution_count": 1,
   "metadata": {
    "ExecuteTime": {
     "end_time": "2019-12-16T12:56:41.866669Z",
     "start_time": "2019-12-16T12:56:41.423Z"
    }
   },
   "outputs": [],
   "source": [
    "# Dereplicated MAGs\n",
    "MAG_dir = file.path('/ebio', 'abt3_projects', 'Georg_animal_feces', 'data',\n",
    "                     'metagenome', 'multi-study', 'BioProjects', 'summary',\n",
    "                     'LLMGA', 'wGeorgAnimal', 'drep-0.995')\n",
    "\n",
    "# de-rep'd MAG metadata\n",
    "MAG_meta_file = file.path(MAG_dir, 'drep-MAG_metadata.tsv')\n",
    "\n",
    "# antismash dir\n",
    "antismash_dir = file.path(MAG_dir, 'BGCs', 'antismash_v5')\n",
    "\n",
    "# working dir\n",
    "work_dir = file.path(MAG_dir, 'BGCs', 'bigscape')\n",
    "\n",
    "# pfam dir (hmms)\n",
    "pfam_dir = '/ebio/abt3_projects/databases_no-backup/pfam/v32.0/'\n",
    "\n",
    "# params\n",
    "conda_env = 'bigscape'\n",
    "threads = 32"
   ]
  },
  {
   "cell_type": "markdown",
   "metadata": {},
   "source": [
    "# Init"
   ]
  },
  {
   "cell_type": "code",
   "execution_count": 3,
   "metadata": {
    "ExecuteTime": {
     "end_time": "2019-12-16T12:56:52.498336Z",
     "start_time": "2019-12-16T12:56:52.145Z"
    }
   },
   "outputs": [],
   "source": [
    "library(dplyr)\n",
    "library(tidyr)\n",
    "library(ggplot2)\n",
    "library(data.table)\n",
    "library(doParallel)\n",
    "\n",
    "library(future)\n",
    "library(future.batchtools)\n",
    "library(future.apply)\n",
    "options(future.wait.interval = 2.0)\n",
    "\n",
    "set.seed(3784)\n",
    "\n",
    "source('/ebio/abt3_projects/Georg_animal_feces/code/misc_r_functions/init.R')"
   ]
  },
  {
   "cell_type": "code",
   "execution_count": 4,
   "metadata": {
    "ExecuteTime": {
     "end_time": "2019-12-16T12:56:54.005366Z",
     "start_time": "2019-12-16T12:56:53.961Z"
    }
   },
   "outputs": [
    {
     "name": "stdout",
     "output_type": "stream",
     "text": [
      "Created directory: /ebio/abt3_projects/Georg_animal_feces/data/metagenome/multi-study/BioProjects/summary/LLMGA/wGeorgAnimal/drep-0.995/BGCs/bigscape \n"
     ]
    }
   ],
   "source": [
    "make_dir(work_dir)"
   ]
  },
  {
   "cell_type": "markdown",
   "metadata": {},
   "source": [
    "# Combining all antismash GBKs"
   ]
  },
  {
   "cell_type": "code",
   "execution_count": 15,
   "metadata": {
    "ExecuteTime": {
     "end_time": "2019-12-16T13:01:02.021120Z",
     "start_time": "2019-12-16T13:01:01.969Z"
    }
   },
   "outputs": [
    {
     "name": "stdout",
     "output_type": "stream",
     "text": [
      "Directory already exists: /ebio/abt3_projects/Georg_animal_feces/data/metagenome/multi-study/BioProjects/summary/LLMGA/wGeorgAnimal/drep-0.995/BGCs/bigscape/antismash_gbks \n"
     ]
    }
   ],
   "source": [
    "antismash_gbk_dir = file.path(work_dir, 'antismash_gbks')\n",
    "make_dir(antismash_gbk_dir)"
   ]
  },
  {
   "cell_type": "code",
   "execution_count": 16,
   "metadata": {
    "ExecuteTime": {
     "end_time": "2019-12-16T13:01:14.543162Z",
     "start_time": "2019-12-16T13:01:02.255Z"
    }
   },
   "outputs": [
    {
     "name": "stdout",
     "output_type": "stream",
     "text": [
      "[1] 3699\n"
     ]
    }
   ],
   "source": [
    "gbk_files = list.files(antismash_dir, '*.gbk', full.names=TRUE, recursive=TRUE)\n",
    "gbk_files = gbk_files[grepl('.+\\\\.\\\\.\\\\.region[0-9]+\\\\.gbk$', gbk_files)]\n",
    "gbk_files %>% length %>% print"
   ]
  },
  {
   "cell_type": "code",
   "execution_count": 17,
   "metadata": {
    "ExecuteTime": {
     "end_time": "2019-12-16T13:01:14.736873Z",
     "start_time": "2019-12-16T13:01:03.783Z"
    }
   },
   "outputs": [
    {
     "name": "stdout",
     "output_type": "stream",
     "text": [
      "[1] 3699    2\n"
     ]
    },
    {
     "data": {
      "text/html": [
       "<table>\n",
       "<thead><tr><th scope=col>MAG</th><th scope=col>gbk_file</th></tr></thead>\n",
       "<tbody>\n",
       "\t<tr><td>artificially_reared_2__maxbin2_low_prob_006                                                                                                                                                                      </td><td>/ebio/abt3_projects/Georg_animal_feces/data/metagenome/multi-study/BioProjects/summary/LLMGA/wGeorgAnimal/drep-0.995/BGCs/antismash_v5/artificially_reared_2__maxbin2_low_prob_006/c00016_artific...region001.gbk</td></tr>\n",
       "\t<tr><td>artificially_reared_2__maxbin2_low_prob_006                                                                                                                                                                      </td><td>/ebio/abt3_projects/Georg_animal_feces/data/metagenome/multi-study/BioProjects/summary/LLMGA/wGeorgAnimal/drep-0.995/BGCs/antismash_v5/artificially_reared_2__maxbin2_low_prob_006/c00086_artific...region001.gbk</td></tr>\n",
       "\t<tr><td>artificially_reared_2__metabat2_low_PE_017                                                                                                                                                                       </td><td>/ebio/abt3_projects/Georg_animal_feces/data/metagenome/multi-study/BioProjects/summary/LLMGA/wGeorgAnimal/drep-0.995/BGCs/antismash_v5/artificially_reared_2__metabat2_low_PE_017/c00005_artific...region001.gbk </td></tr>\n",
       "</tbody>\n",
       "</table>\n"
      ],
      "text/latex": [
       "\\begin{tabular}{r|ll}\n",
       " MAG & gbk\\_file\\\\\n",
       "\\hline\n",
       "\t artificially\\_reared\\_2\\_\\_maxbin2\\_low\\_prob\\_006                                                                                                                                                                                 & /ebio/abt3\\_projects/Georg\\_animal\\_feces/data/metagenome/multi-study/BioProjects/summary/LLMGA/wGeorgAnimal/drep-0.995/BGCs/antismash\\_v5/artificially\\_reared\\_2\\_\\_maxbin2\\_low\\_prob\\_006/c00016\\_artific...region001.gbk\\\\\n",
       "\t artificially\\_reared\\_2\\_\\_maxbin2\\_low\\_prob\\_006                                                                                                                                                                                 & /ebio/abt3\\_projects/Georg\\_animal\\_feces/data/metagenome/multi-study/BioProjects/summary/LLMGA/wGeorgAnimal/drep-0.995/BGCs/antismash\\_v5/artificially\\_reared\\_2\\_\\_maxbin2\\_low\\_prob\\_006/c00086\\_artific...region001.gbk\\\\\n",
       "\t artificially\\_reared\\_2\\_\\_metabat2\\_low\\_PE\\_017                                                                                                                                                                                  & /ebio/abt3\\_projects/Georg\\_animal\\_feces/data/metagenome/multi-study/BioProjects/summary/LLMGA/wGeorgAnimal/drep-0.995/BGCs/antismash\\_v5/artificially\\_reared\\_2\\_\\_metabat2\\_low\\_PE\\_017/c00005\\_artific...region001.gbk \\\\\n",
       "\\end{tabular}\n"
      ],
      "text/markdown": [
       "\n",
       "MAG | gbk_file | \n",
       "|---|---|---|\n",
       "| artificially_reared_2__maxbin2_low_prob_006                                                                                                                                                                       | /ebio/abt3_projects/Georg_animal_feces/data/metagenome/multi-study/BioProjects/summary/LLMGA/wGeorgAnimal/drep-0.995/BGCs/antismash_v5/artificially_reared_2__maxbin2_low_prob_006/c00016_artific...region001.gbk | \n",
       "| artificially_reared_2__maxbin2_low_prob_006                                                                                                                                                                       | /ebio/abt3_projects/Georg_animal_feces/data/metagenome/multi-study/BioProjects/summary/LLMGA/wGeorgAnimal/drep-0.995/BGCs/antismash_v5/artificially_reared_2__maxbin2_low_prob_006/c00086_artific...region001.gbk | \n",
       "| artificially_reared_2__metabat2_low_PE_017                                                                                                                                                                        | /ebio/abt3_projects/Georg_animal_feces/data/metagenome/multi-study/BioProjects/summary/LLMGA/wGeorgAnimal/drep-0.995/BGCs/antismash_v5/artificially_reared_2__metabat2_low_PE_017/c00005_artific...region001.gbk  | \n",
       "\n",
       "\n"
      ],
      "text/plain": [
       "  MAG                                        \n",
       "1 artificially_reared_2__maxbin2_low_prob_006\n",
       "2 artificially_reared_2__maxbin2_low_prob_006\n",
       "3 artificially_reared_2__metabat2_low_PE_017 \n",
       "  gbk_file                                                                                                                                                                                                         \n",
       "1 /ebio/abt3_projects/Georg_animal_feces/data/metagenome/multi-study/BioProjects/summary/LLMGA/wGeorgAnimal/drep-0.995/BGCs/antismash_v5/artificially_reared_2__maxbin2_low_prob_006/c00016_artific...region001.gbk\n",
       "2 /ebio/abt3_projects/Georg_animal_feces/data/metagenome/multi-study/BioProjects/summary/LLMGA/wGeorgAnimal/drep-0.995/BGCs/antismash_v5/artificially_reared_2__maxbin2_low_prob_006/c00086_artific...region001.gbk\n",
       "3 /ebio/abt3_projects/Georg_animal_feces/data/metagenome/multi-study/BioProjects/summary/LLMGA/wGeorgAnimal/drep-0.995/BGCs/antismash_v5/artificially_reared_2__metabat2_low_PE_017/c00005_artific...region001.gbk "
      ]
     },
     "metadata": {},
     "output_type": "display_data"
    }
   ],
   "source": [
    "# creating an index of file names\n",
    "gbk_files = data.frame(MAG = basename(dirname(gbk_files)),\n",
    "                       gbk_file = gbk_files)\n",
    "\n",
    "gbk_files %>% dfhead"
   ]
  },
  {
   "cell_type": "code",
   "execution_count": 18,
   "metadata": {
    "ExecuteTime": {
     "end_time": "2019-12-16T13:01:14.834390Z",
     "start_time": "2019-12-16T13:01:04.199Z"
    }
   },
   "outputs": [
    {
     "name": "stdout",
     "output_type": "stream",
     "text": [
      "[1] 3699    3\n"
     ]
    },
    {
     "data": {
      "text/html": [
       "<table>\n",
       "<thead><tr><th scope=col>MAG</th><th scope=col>gbk_file</th><th scope=col>BGC_ID</th></tr></thead>\n",
       "<tbody>\n",
       "\t<tr><td>artificially_reared_2__maxbin2_low_prob_006                                                                                                                                                                      </td><td>/ebio/abt3_projects/Georg_animal_feces/data/metagenome/multi-study/BioProjects/summary/LLMGA/wGeorgAnimal/drep-0.995/BGCs/antismash_v5/artificially_reared_2__maxbin2_low_prob_006/c00016_artific...region001.gbk</td><td>BGC-24345b46200411eaa82bacde48b9eeb0                                                                                                                                                                             </td></tr>\n",
       "\t<tr><td>artificially_reared_2__maxbin2_low_prob_006                                                                                                                                                                      </td><td>/ebio/abt3_projects/Georg_animal_feces/data/metagenome/multi-study/BioProjects/summary/LLMGA/wGeorgAnimal/drep-0.995/BGCs/antismash_v5/artificially_reared_2__maxbin2_low_prob_006/c00086_artific...region001.gbk</td><td>BGC-e03e16d421584bb1babb99548acd406f                                                                                                                                                                             </td></tr>\n",
       "\t<tr><td>artificially_reared_2__metabat2_low_PE_017                                                                                                                                                                       </td><td>/ebio/abt3_projects/Georg_animal_feces/data/metagenome/multi-study/BioProjects/summary/LLMGA/wGeorgAnimal/drep-0.995/BGCs/antismash_v5/artificially_reared_2__metabat2_low_PE_017/c00005_artific...region001.gbk </td><td>BGC-743bd64bdd4f45f083ffc9568cc09491                                                                                                                                                                             </td></tr>\n",
       "</tbody>\n",
       "</table>\n"
      ],
      "text/latex": [
       "\\begin{tabular}{r|lll}\n",
       " MAG & gbk\\_file & BGC\\_ID\\\\\n",
       "\\hline\n",
       "\t artificially\\_reared\\_2\\_\\_maxbin2\\_low\\_prob\\_006                                                                                                                                                                                 & /ebio/abt3\\_projects/Georg\\_animal\\_feces/data/metagenome/multi-study/BioProjects/summary/LLMGA/wGeorgAnimal/drep-0.995/BGCs/antismash\\_v5/artificially\\_reared\\_2\\_\\_maxbin2\\_low\\_prob\\_006/c00016\\_artific...region001.gbk & BGC-24345b46200411eaa82bacde48b9eeb0                                                                                                                                                                                                     \\\\\n",
       "\t artificially\\_reared\\_2\\_\\_maxbin2\\_low\\_prob\\_006                                                                                                                                                                                 & /ebio/abt3\\_projects/Georg\\_animal\\_feces/data/metagenome/multi-study/BioProjects/summary/LLMGA/wGeorgAnimal/drep-0.995/BGCs/antismash\\_v5/artificially\\_reared\\_2\\_\\_maxbin2\\_low\\_prob\\_006/c00086\\_artific...region001.gbk & BGC-e03e16d421584bb1babb99548acd406f                                                                                                                                                                                                     \\\\\n",
       "\t artificially\\_reared\\_2\\_\\_metabat2\\_low\\_PE\\_017                                                                                                                                                                                  & /ebio/abt3\\_projects/Georg\\_animal\\_feces/data/metagenome/multi-study/BioProjects/summary/LLMGA/wGeorgAnimal/drep-0.995/BGCs/antismash\\_v5/artificially\\_reared\\_2\\_\\_metabat2\\_low\\_PE\\_017/c00005\\_artific...region001.gbk  & BGC-743bd64bdd4f45f083ffc9568cc09491                                                                                                                                                                                                     \\\\\n",
       "\\end{tabular}\n"
      ],
      "text/markdown": [
       "\n",
       "MAG | gbk_file | BGC_ID | \n",
       "|---|---|---|\n",
       "| artificially_reared_2__maxbin2_low_prob_006                                                                                                                                                                       | /ebio/abt3_projects/Georg_animal_feces/data/metagenome/multi-study/BioProjects/summary/LLMGA/wGeorgAnimal/drep-0.995/BGCs/antismash_v5/artificially_reared_2__maxbin2_low_prob_006/c00016_artific...region001.gbk | BGC-24345b46200411eaa82bacde48b9eeb0                                                                                                                                                                              | \n",
       "| artificially_reared_2__maxbin2_low_prob_006                                                                                                                                                                       | /ebio/abt3_projects/Georg_animal_feces/data/metagenome/multi-study/BioProjects/summary/LLMGA/wGeorgAnimal/drep-0.995/BGCs/antismash_v5/artificially_reared_2__maxbin2_low_prob_006/c00086_artific...region001.gbk | BGC-e03e16d421584bb1babb99548acd406f                                                                                                                                                                              | \n",
       "| artificially_reared_2__metabat2_low_PE_017                                                                                                                                                                        | /ebio/abt3_projects/Georg_animal_feces/data/metagenome/multi-study/BioProjects/summary/LLMGA/wGeorgAnimal/drep-0.995/BGCs/antismash_v5/artificially_reared_2__metabat2_low_PE_017/c00005_artific...region001.gbk  | BGC-743bd64bdd4f45f083ffc9568cc09491                                                                                                                                                                              | \n",
       "\n",
       "\n"
      ],
      "text/plain": [
       "  MAG                                        \n",
       "1 artificially_reared_2__maxbin2_low_prob_006\n",
       "2 artificially_reared_2__maxbin2_low_prob_006\n",
       "3 artificially_reared_2__metabat2_low_PE_017 \n",
       "  gbk_file                                                                                                                                                                                                         \n",
       "1 /ebio/abt3_projects/Georg_animal_feces/data/metagenome/multi-study/BioProjects/summary/LLMGA/wGeorgAnimal/drep-0.995/BGCs/antismash_v5/artificially_reared_2__maxbin2_low_prob_006/c00016_artific...region001.gbk\n",
       "2 /ebio/abt3_projects/Georg_animal_feces/data/metagenome/multi-study/BioProjects/summary/LLMGA/wGeorgAnimal/drep-0.995/BGCs/antismash_v5/artificially_reared_2__maxbin2_low_prob_006/c00086_artific...region001.gbk\n",
       "3 /ebio/abt3_projects/Georg_animal_feces/data/metagenome/multi-study/BioProjects/summary/LLMGA/wGeorgAnimal/drep-0.995/BGCs/antismash_v5/artificially_reared_2__metabat2_low_PE_017/c00005_artific...region001.gbk \n",
       "  BGC_ID                              \n",
       "1 BGC-24345b46200411eaa82bacde48b9eeb0\n",
       "2 BGC-e03e16d421584bb1babb99548acd406f\n",
       "3 BGC-743bd64bdd4f45f083ffc9568cc09491"
      ]
     },
     "metadata": {},
     "output_type": "display_data"
    }
   ],
   "source": [
    "# creating unique BGC IDs\n",
    "gbk_files$BGC_ID = sapply(1:nrow(gbk_files), uuid::UUIDgenerate) %>%\n",
    "    gsub('-', '', .) %>%\n",
    "    gsub('^', 'BGC-', .) \n",
    "\n",
    "gbk_files %>% dfhead"
   ]
  },
  {
   "cell_type": "code",
   "execution_count": 19,
   "metadata": {
    "ExecuteTime": {
     "end_time": "2019-12-16T13:01:14.972468Z",
     "start_time": "2019-12-16T13:01:04.991Z"
    }
   },
   "outputs": [
    {
     "name": "stdout",
     "output_type": "stream",
     "text": [
      "[1] 3699    4\n"
     ]
    },
    {
     "data": {
      "text/html": [
       "<table>\n",
       "<thead><tr><th scope=col>MAG</th><th scope=col>gbk_file</th><th scope=col>BGC_ID</th><th scope=col>out_file</th></tr></thead>\n",
       "<tbody>\n",
       "\t<tr><td>artificially_reared_2__maxbin2_low_prob_006                                                                                                                                                                      </td><td>/ebio/abt3_projects/Georg_animal_feces/data/metagenome/multi-study/BioProjects/summary/LLMGA/wGeorgAnimal/drep-0.995/BGCs/antismash_v5/artificially_reared_2__maxbin2_low_prob_006/c00016_artific...region001.gbk</td><td>BGC-24345b46200411eaa82bacde48b9eeb0                                                                                                                                                                             </td><td>/ebio/abt3_projects/Georg_animal_feces/data/metagenome/multi-study/BioProjects/summary/LLMGA/wGeorgAnimal/drep-0.995/BGCs/bigscape/antismash_gbks/BGC-24345b46200411eaa82bacde48b9eeb0.gbk                       </td></tr>\n",
       "\t<tr><td>artificially_reared_2__maxbin2_low_prob_006                                                                                                                                                                      </td><td>/ebio/abt3_projects/Georg_animal_feces/data/metagenome/multi-study/BioProjects/summary/LLMGA/wGeorgAnimal/drep-0.995/BGCs/antismash_v5/artificially_reared_2__maxbin2_low_prob_006/c00086_artific...region001.gbk</td><td>BGC-e03e16d421584bb1babb99548acd406f                                                                                                                                                                             </td><td>/ebio/abt3_projects/Georg_animal_feces/data/metagenome/multi-study/BioProjects/summary/LLMGA/wGeorgAnimal/drep-0.995/BGCs/bigscape/antismash_gbks/BGC-e03e16d421584bb1babb99548acd406f.gbk                       </td></tr>\n",
       "\t<tr><td>artificially_reared_2__metabat2_low_PE_017                                                                                                                                                                       </td><td>/ebio/abt3_projects/Georg_animal_feces/data/metagenome/multi-study/BioProjects/summary/LLMGA/wGeorgAnimal/drep-0.995/BGCs/antismash_v5/artificially_reared_2__metabat2_low_PE_017/c00005_artific...region001.gbk </td><td>BGC-743bd64bdd4f45f083ffc9568cc09491                                                                                                                                                                             </td><td>/ebio/abt3_projects/Georg_animal_feces/data/metagenome/multi-study/BioProjects/summary/LLMGA/wGeorgAnimal/drep-0.995/BGCs/bigscape/antismash_gbks/BGC-743bd64bdd4f45f083ffc9568cc09491.gbk                       </td></tr>\n",
       "</tbody>\n",
       "</table>\n"
      ],
      "text/latex": [
       "\\begin{tabular}{r|llll}\n",
       " MAG & gbk\\_file & BGC\\_ID & out\\_file\\\\\n",
       "\\hline\n",
       "\t artificially\\_reared\\_2\\_\\_maxbin2\\_low\\_prob\\_006                                                                                                                                                                                 & /ebio/abt3\\_projects/Georg\\_animal\\_feces/data/metagenome/multi-study/BioProjects/summary/LLMGA/wGeorgAnimal/drep-0.995/BGCs/antismash\\_v5/artificially\\_reared\\_2\\_\\_maxbin2\\_low\\_prob\\_006/c00016\\_artific...region001.gbk & BGC-24345b46200411eaa82bacde48b9eeb0                                                                                                                                                                                                      & /ebio/abt3\\_projects/Georg\\_animal\\_feces/data/metagenome/multi-study/BioProjects/summary/LLMGA/wGeorgAnimal/drep-0.995/BGCs/bigscape/antismash\\_gbks/BGC-24345b46200411eaa82bacde48b9eeb0.gbk                                       \\\\\n",
       "\t artificially\\_reared\\_2\\_\\_maxbin2\\_low\\_prob\\_006                                                                                                                                                                                 & /ebio/abt3\\_projects/Georg\\_animal\\_feces/data/metagenome/multi-study/BioProjects/summary/LLMGA/wGeorgAnimal/drep-0.995/BGCs/antismash\\_v5/artificially\\_reared\\_2\\_\\_maxbin2\\_low\\_prob\\_006/c00086\\_artific...region001.gbk & BGC-e03e16d421584bb1babb99548acd406f                                                                                                                                                                                                      & /ebio/abt3\\_projects/Georg\\_animal\\_feces/data/metagenome/multi-study/BioProjects/summary/LLMGA/wGeorgAnimal/drep-0.995/BGCs/bigscape/antismash\\_gbks/BGC-e03e16d421584bb1babb99548acd406f.gbk                                       \\\\\n",
       "\t artificially\\_reared\\_2\\_\\_metabat2\\_low\\_PE\\_017                                                                                                                                                                                  & /ebio/abt3\\_projects/Georg\\_animal\\_feces/data/metagenome/multi-study/BioProjects/summary/LLMGA/wGeorgAnimal/drep-0.995/BGCs/antismash\\_v5/artificially\\_reared\\_2\\_\\_metabat2\\_low\\_PE\\_017/c00005\\_artific...region001.gbk  & BGC-743bd64bdd4f45f083ffc9568cc09491                                                                                                                                                                                                      & /ebio/abt3\\_projects/Georg\\_animal\\_feces/data/metagenome/multi-study/BioProjects/summary/LLMGA/wGeorgAnimal/drep-0.995/BGCs/bigscape/antismash\\_gbks/BGC-743bd64bdd4f45f083ffc9568cc09491.gbk                                       \\\\\n",
       "\\end{tabular}\n"
      ],
      "text/markdown": [
       "\n",
       "MAG | gbk_file | BGC_ID | out_file | \n",
       "|---|---|---|\n",
       "| artificially_reared_2__maxbin2_low_prob_006                                                                                                                                                                       | /ebio/abt3_projects/Georg_animal_feces/data/metagenome/multi-study/BioProjects/summary/LLMGA/wGeorgAnimal/drep-0.995/BGCs/antismash_v5/artificially_reared_2__maxbin2_low_prob_006/c00016_artific...region001.gbk | BGC-24345b46200411eaa82bacde48b9eeb0                                                                                                                                                                              | /ebio/abt3_projects/Georg_animal_feces/data/metagenome/multi-study/BioProjects/summary/LLMGA/wGeorgAnimal/drep-0.995/BGCs/bigscape/antismash_gbks/BGC-24345b46200411eaa82bacde48b9eeb0.gbk                        | \n",
       "| artificially_reared_2__maxbin2_low_prob_006                                                                                                                                                                       | /ebio/abt3_projects/Georg_animal_feces/data/metagenome/multi-study/BioProjects/summary/LLMGA/wGeorgAnimal/drep-0.995/BGCs/antismash_v5/artificially_reared_2__maxbin2_low_prob_006/c00086_artific...region001.gbk | BGC-e03e16d421584bb1babb99548acd406f                                                                                                                                                                              | /ebio/abt3_projects/Georg_animal_feces/data/metagenome/multi-study/BioProjects/summary/LLMGA/wGeorgAnimal/drep-0.995/BGCs/bigscape/antismash_gbks/BGC-e03e16d421584bb1babb99548acd406f.gbk                        | \n",
       "| artificially_reared_2__metabat2_low_PE_017                                                                                                                                                                        | /ebio/abt3_projects/Georg_animal_feces/data/metagenome/multi-study/BioProjects/summary/LLMGA/wGeorgAnimal/drep-0.995/BGCs/antismash_v5/artificially_reared_2__metabat2_low_PE_017/c00005_artific...region001.gbk  | BGC-743bd64bdd4f45f083ffc9568cc09491                                                                                                                                                                              | /ebio/abt3_projects/Georg_animal_feces/data/metagenome/multi-study/BioProjects/summary/LLMGA/wGeorgAnimal/drep-0.995/BGCs/bigscape/antismash_gbks/BGC-743bd64bdd4f45f083ffc9568cc09491.gbk                        | \n",
       "\n",
       "\n"
      ],
      "text/plain": [
       "  MAG                                        \n",
       "1 artificially_reared_2__maxbin2_low_prob_006\n",
       "2 artificially_reared_2__maxbin2_low_prob_006\n",
       "3 artificially_reared_2__metabat2_low_PE_017 \n",
       "  gbk_file                                                                                                                                                                                                         \n",
       "1 /ebio/abt3_projects/Georg_animal_feces/data/metagenome/multi-study/BioProjects/summary/LLMGA/wGeorgAnimal/drep-0.995/BGCs/antismash_v5/artificially_reared_2__maxbin2_low_prob_006/c00016_artific...region001.gbk\n",
       "2 /ebio/abt3_projects/Georg_animal_feces/data/metagenome/multi-study/BioProjects/summary/LLMGA/wGeorgAnimal/drep-0.995/BGCs/antismash_v5/artificially_reared_2__maxbin2_low_prob_006/c00086_artific...region001.gbk\n",
       "3 /ebio/abt3_projects/Georg_animal_feces/data/metagenome/multi-study/BioProjects/summary/LLMGA/wGeorgAnimal/drep-0.995/BGCs/antismash_v5/artificially_reared_2__metabat2_low_PE_017/c00005_artific...region001.gbk \n",
       "  BGC_ID                              \n",
       "1 BGC-24345b46200411eaa82bacde48b9eeb0\n",
       "2 BGC-e03e16d421584bb1babb99548acd406f\n",
       "3 BGC-743bd64bdd4f45f083ffc9568cc09491\n",
       "  out_file                                                                                                                                                                                  \n",
       "1 /ebio/abt3_projects/Georg_animal_feces/data/metagenome/multi-study/BioProjects/summary/LLMGA/wGeorgAnimal/drep-0.995/BGCs/bigscape/antismash_gbks/BGC-24345b46200411eaa82bacde48b9eeb0.gbk\n",
       "2 /ebio/abt3_projects/Georg_animal_feces/data/metagenome/multi-study/BioProjects/summary/LLMGA/wGeorgAnimal/drep-0.995/BGCs/bigscape/antismash_gbks/BGC-e03e16d421584bb1babb99548acd406f.gbk\n",
       "3 /ebio/abt3_projects/Georg_animal_feces/data/metagenome/multi-study/BioProjects/summary/LLMGA/wGeorgAnimal/drep-0.995/BGCs/bigscape/antismash_gbks/BGC-743bd64bdd4f45f083ffc9568cc09491.gbk"
      ]
     },
     "metadata": {},
     "output_type": "display_data"
    }
   ],
   "source": [
    "# creating output file names\n",
    "gbk_files = gbk_files %>%\n",
    "    mutate(X = antismash_gbk_dir,\n",
    "           Y = gsub('$', '.gbk', BGC_ID)) %>%\n",
    "    unite(out_file, X, Y, sep='/') \n",
    "\n",
    "gbk_files %>% dfhead"
   ]
  },
  {
   "cell_type": "code",
   "execution_count": 20,
   "metadata": {
    "ExecuteTime": {
     "end_time": "2019-12-16T13:01:18.471581Z",
     "start_time": "2019-12-16T13:01:05.118Z"
    }
   },
   "outputs": [
    {
     "data": {
      "text/html": [
       "3699"
      ],
      "text/latex": [
       "3699"
      ],
      "text/markdown": [
       "3699"
      ],
      "text/plain": [
       "[1] 3699"
      ]
     },
     "metadata": {},
     "output_type": "display_data"
    }
   ],
   "source": [
    "cp_file = function(in_file, out_file){\n",
    "    if(out_file == in_file){\n",
    "        stop('output == input')\n",
    "    }\n",
    "    file.copy(in_file, out_file, overwrite = TRUE)\n",
    "}\n",
    "\n",
    "ret = mapply(cp_file, \n",
    "             in_file=gbk_files$gbk_file %>% as.character, \n",
    "             out_file=gbk_files$out_file %>% as.character)\n",
    "ret %>% length"
   ]
  },
  {
   "cell_type": "code",
   "execution_count": 21,
   "metadata": {
    "ExecuteTime": {
     "end_time": "2019-12-16T13:01:18.680320Z",
     "start_time": "2019-12-16T13:01:06.063Z"
    }
   },
   "outputs": [
    {
     "name": "stdout",
     "output_type": "stream",
     "text": [
      "[1] 7398\n"
     ]
    }
   ],
   "source": [
    "# checking number of files\n",
    "list.files(antismash_gbk_dir, '*.gbk') %>% length %>% print"
   ]
  },
  {
   "cell_type": "markdown",
   "metadata": {},
   "source": [
    "## Writing table of BGC IDs"
   ]
  },
  {
   "cell_type": "code",
   "execution_count": 22,
   "metadata": {
    "ExecuteTime": {
     "end_time": "2019-12-16T13:01:18.726985Z",
     "start_time": "2019-12-16T13:01:07.463Z"
    }
   },
   "outputs": [
    {
     "name": "stdout",
     "output_type": "stream",
     "text": [
      "File written: /ebio/abt3_projects/Georg_animal_feces/data/metagenome/multi-study/BioProjects/summary/LLMGA/wGeorgAnimal/drep-0.995/BGCs/antismash_v5/BGC_uuids.tsv \n"
     ]
    }
   ],
   "source": [
    "BGC_id_file = file.path(antismash_dir, 'BGC_uuids.tsv')\n",
    "gbk_files %>%\n",
    "    dplyr::select(BGC_ID, MAG, gbk_file) %>%\n",
    "    write.table(file=BGC_id_file, sep='\\t', quote=FALSE, row.names=FALSE)\n",
    "cat('File written:', BGC_id_file, '\\n')"
   ]
  },
  {
   "cell_type": "markdown",
   "metadata": {},
   "source": [
    "# BiGSCAPE"
   ]
  },
  {
   "cell_type": "code",
   "execution_count": 23,
   "metadata": {
    "ExecuteTime": {
     "end_time": "2019-12-16T13:01:18.777800Z",
     "start_time": "2019-12-16T13:01:08.551Z"
    }
   },
   "outputs": [
    {
     "data": {
      "text/html": [
       "'/ebio/abt3_projects/Georg_animal_feces/bin/BiG-SCAPE/bigscape.py -i /ebio/abt3_projects/Georg_animal_feces/data/metagenome/multi-study/BioProjects/summary/LLMGA/wGeorgAnimal/drep-0.995/BGCs/bigscape/antismash_gbks -o /ebio/abt3_projects/Georg_animal_feces/data/metagenome/multi-study/BioProjects/summary/LLMGA/wGeorgAnimal/drep-0.995/BGCs/bigscape --pfam_dir /ebio/abt3_projects/databases_no-backup/pfam/v32.0/ --cores 32 --mibig --include_gbk_str \"*\"'"
      ],
      "text/latex": [
       "'/ebio/abt3\\_projects/Georg\\_animal\\_feces/bin/BiG-SCAPE/bigscape.py -i /ebio/abt3\\_projects/Georg\\_animal\\_feces/data/metagenome/multi-study/BioProjects/summary/LLMGA/wGeorgAnimal/drep-0.995/BGCs/bigscape/antismash\\_gbks -o /ebio/abt3\\_projects/Georg\\_animal\\_feces/data/metagenome/multi-study/BioProjects/summary/LLMGA/wGeorgAnimal/drep-0.995/BGCs/bigscape --pfam\\_dir /ebio/abt3\\_projects/databases\\_no-backup/pfam/v32.0/ --cores 32 --mibig --include\\_gbk\\_str \"*\"'"
      ],
      "text/markdown": [
       "'/ebio/abt3_projects/Georg_animal_feces/bin/BiG-SCAPE/bigscape.py -i /ebio/abt3_projects/Georg_animal_feces/data/metagenome/multi-study/BioProjects/summary/LLMGA/wGeorgAnimal/drep-0.995/BGCs/bigscape/antismash_gbks -o /ebio/abt3_projects/Georg_animal_feces/data/metagenome/multi-study/BioProjects/summary/LLMGA/wGeorgAnimal/drep-0.995/BGCs/bigscape --pfam_dir /ebio/abt3_projects/databases_no-backup/pfam/v32.0/ --cores 32 --mibig --include_gbk_str \"*\"'"
      ],
      "text/plain": [
       "/ebio/abt3_projects/Georg_animal_feces/bin/BiG-SCAPE/bigscape.py -i /ebio/abt3_projects/Georg_animal_feces/data/metagenome/multi-study/BioProjects/summary/LLMGA/wGeorgAnimal/drep-0.995/BGCs/bigscape/antismash_gbks -o /ebio/abt3_projects/Georg_animal_feces/data/metagenome/multi-study/BioProjects/summary/LLMGA/wGeorgAnimal/drep-0.995/BGCs/bigscape --pfam_dir /ebio/abt3_projects/databases_no-backup/pfam/v32.0/ --cores 32 --mibig --include_gbk_str \"*\""
      ]
     },
     "metadata": {},
     "output_type": "display_data"
    }
   ],
   "source": [
    "exe = '/ebio/abt3_projects/Georg_animal_feces/bin/BiG-SCAPE/bigscape.py'\n",
    "cmd = '{exe} -i {in_dir} -o {out_dir} --pfam_dir {pfam_dir} --cores {threads} --mibig --include_gbk_str \\\"*\\\"'\n",
    "cmd = glue::glue(cmd, exe=exe,\n",
    "                 in_dir=antismash_gbk_dir, \n",
    "                 out_dir=work_dir, pfam_dir=pfam_dir,\n",
    "                 threads=threads)\n",
    "cmd"
   ]
  },
  {
   "cell_type": "code",
   "execution_count": 24,
   "metadata": {
    "ExecuteTime": {
     "end_time": "2019-12-16T13:30:43.337135Z",
     "start_time": "2019-12-16T13:01:13.802Z"
    }
   },
   "outputs": [
    {
     "data": {
      "text/html": [
       "<ol class=list-inline>\n",
       "\t<li>''</li>\n",
       "\t<li>''</li>\n",
       "\t<li><span style=white-space:pre-wrap>'   - - Processing input files - -'</span></li>\n",
       "\t<li>' Output folder already exists'</li>\n",
       "\t<li>' Including files with one or more of the following strings in their filename: \\'01_MAG_dRep.ipynb\\', \\'02a_BGC_BiGSCAPE.ipynb\\', \\'02_antismash-DeepBGC.ipynb\\', \\'README.md\\''</li>\n",
       "\t<li>' Skipping files with one or more of the following strings in their filename: \\'final\\''</li>\n",
       "\t<li>''</li>\n",
       "\t<li>' Trying to read bundled MIBiG BGCs as reference'</li>\n",
       "\t<li><span style=white-space:pre-wrap>'  MIBiG BGCs seem to have been extracted already'</span></li>\n",
       "\t<li>''</li>\n",
       "\t<li>'Importing MIBiG files'</li>\n",
       "\t<li><span style=white-space:pre-wrap>'  Warning: Input set has files with no Biosynthetic Genes (affects alignment mode)'</span></li>\n",
       "\t<li><span style=white-space:pre-wrap>'   See no_biosynthetic_genes_list.txt'</span></li>\n",
       "\t<li>''</li>\n",
       "\t<li>' Starting with 1808 files'</li>\n",
       "\t<li>' Files that had its sequence extracted: 1808'</li>\n",
       "\t<li>''</li>\n",
       "\t<li>'Importing GenBank files'</li>\n",
       "\t<li>''</li>\n",
       "\t<li>' Starting with 0 files'</li>\n",
       "\t<li>' Files that had its sequence extracted: 0'</li>\n",
       "\t<li>''</li>\n",
       "\t<li>'Creating output directories'</li>\n",
       "\t<li>''</li>\n",
       "\t<li>'Trying threading on 32 cores'</li>\n",
       "\t<li>''</li>\n",
       "\t<li>'Predicting domains using hmmscan'</li>\n",
       "\t<li>' Predicting domains for 1808 fasta files'</li>\n",
       "\t<li>' Finished generating domtable files.'</li>\n",
       "\t<li>''</li>\n",
       "\t<li>'Parsing hmmscan domtable files'</li>\n",
       "\t<li>' Processing 1808 domtable files'</li>\n",
       "\t<li><span style=white-space:pre-wrap>'  No domains where found in BGC0000683.1.domtable. Removing it from further analysis'</span></li>\n",
       "\t<li><span style=white-space:pre-wrap>'  No domains where found in BGC0000476.1.domtable. Removing it from further analysis'</span></li>\n",
       "\t<li><span style=white-space:pre-wrap>'  No domains where found in BGC0000493.1.domtable. Removing it from further analysis'</span></li>\n",
       "\t<li><span style=white-space:pre-wrap>'  No domains where found in BGC0001181.1.domtable. Removing it from further analysis'</span></li>\n",
       "\t<li><span style=white-space:pre-wrap>'  No domains where found in BGC0000482.1.domtable. Removing it from further analysis'</span></li>\n",
       "\t<li><span style=white-space:pre-wrap>'  No domains where found in BGC0001601.1.domtable. Removing it from further analysis'</span></li>\n",
       "\t<li><span style=white-space:pre-wrap>'  No domains where found in BGC0000492.1.domtable. Removing it from further analysis'</span></li>\n",
       "\t<li><span style=white-space:pre-wrap>'  No domains where found in BGC0001481.1.domtable. Removing it from further analysis'</span></li>\n",
       "\t<li><span style=white-space:pre-wrap>'  No domains where found in BGC0000478.1.domtable. Removing it from further analysis'</span></li>\n",
       "\t<li><span style=white-space:pre-wrap>'  No domains where found in BGC0001577.1.domtable. Removing it from further analysis'</span></li>\n",
       "\t<li><span style=white-space:pre-wrap>'  No domains where found in BGC0001680.1.domtable. Removing it from further analysis'</span></li>\n",
       "\t<li><span style=white-space:pre-wrap>'  No domains where found in BGC0000505.1.domtable. Removing it from further analysis'</span></li>\n",
       "\t<li>' New domain sequences to be added; cleaning domains folder'</li>\n",
       "\t<li>' Finished generating pfs and pfd files.'</li>\n",
       "\t<li>''</li>\n",
       "\t<li>'Processing domains sequence files'</li>\n",
       "\t<li>' Adding sequences to corresponding domains file'</li>\n",
       "\t<li>' Reading the ordered list of domains from the pfs files'</li>\n",
       "\t<li>' Creating arrower-like figures for each BGC'</li>\n",
       "\t<li><span style=white-space:pre-wrap>'  Parsing hmm file for domain information'</span></li>\n",
       "\t<li><span style=white-space:pre-wrap>'    Done'</span></li>\n",
       "\t<li><span style=white-space:pre-wrap>'  Found file with domains colors'</span></li>\n",
       "\t<li><span style=white-space:pre-wrap>'  Reading BGC information and writing SVG'</span></li>\n",
       "\t<li>' Finished creating figures'</li>\n",
       "\t<li>''</li>\n",
       "\t<li>''</li>\n",
       "\t<li><span style=white-space:pre-wrap>'   - - Calculating distance matrix - -'</span></li>\n",
       "\t<li>'Performing multiple alignment of domain sequences'</li>\n",
       "\t<li>''</li>\n",
       "\t<li>' Using hmmalign'</li>\n",
       "\t<li>'launch_hmmalign took 94.163 seconds'</li>\n",
       "\t<li>' Trying to read domain alignments (*.algn files)'</li>\n",
       "\t<li>''</li>\n",
       "\t<li>'Generating distance network files with ALL available input files'</li>\n",
       "\t<li><span style=white-space:pre-wrap>'   Writing the complete Annotations file for the complete set'</span></li>\n",
       "\t<li>''</li>\n",
       "\t<li>' Working for each BGC class'</li>\n",
       "\t<li><span style=white-space:pre-wrap>'  Sorting the input BGCs'</span></li>\n",
       "\t<li>''</li>\n",
       "\t<li>''</li>\n",
       "\t<li><span style=white-space:pre-wrap>'  PKSother (236 BGCs)'</span></li>\n",
       "\t<li>' - All clusters in this class are MIBiG clusters -'</li>\n",
       "\t<li><span style=white-space:pre-wrap>'  If you\\'d like to analyze MIBiG clusters, turn off the --mibig option'</span></li>\n",
       "\t<li><span style=white-space:pre-wrap>'  and point --inputdir to the Annotated_MIBiG_reference folder'</span></li>\n",
       "\t<li>''</li>\n",
       "\t<li><span style=white-space:pre-wrap>'  PKS-NRP_Hybrids (233 BGCs)'</span></li>\n",
       "\t<li>' - All clusters in this class are MIBiG clusters -'</li>\n",
       "\t<li><span style=white-space:pre-wrap>'  If you\\'d like to analyze MIBiG clusters, turn off the --mibig option'</span></li>\n",
       "\t<li><span style=white-space:pre-wrap>'  and point --inputdir to the Annotated_MIBiG_reference folder'</span></li>\n",
       "\t<li>''</li>\n",
       "\t<li><span style=white-space:pre-wrap>'  PKSI (501 BGCs)'</span></li>\n",
       "\t<li>' - All clusters in this class are MIBiG clusters -'</li>\n",
       "\t<li><span style=white-space:pre-wrap>'  If you\\'d like to analyze MIBiG clusters, turn off the --mibig option'</span></li>\n",
       "\t<li><span style=white-space:pre-wrap>'  and point --inputdir to the Annotated_MIBiG_reference folder'</span></li>\n",
       "\t<li>''</li>\n",
       "\t<li><span style=white-space:pre-wrap>'  Saccharides (62 BGCs)'</span></li>\n",
       "\t<li>' - All clusters in this class are MIBiG clusters -'</li>\n",
       "\t<li><span style=white-space:pre-wrap>'  If you\\'d like to analyze MIBiG clusters, turn off the --mibig option'</span></li>\n",
       "\t<li><span style=white-space:pre-wrap>'  and point --inputdir to the Annotated_MIBiG_reference folder'</span></li>\n",
       "\t<li>''</li>\n",
       "\t<li><span style=white-space:pre-wrap>'  Terpene (111 BGCs)'</span></li>\n",
       "\t<li>' - All clusters in this class are MIBiG clusters -'</li>\n",
       "\t<li><span style=white-space:pre-wrap>'  If you\\'d like to analyze MIBiG clusters, turn off the --mibig option'</span></li>\n",
       "\t<li><span style=white-space:pre-wrap>'  and point --inputdir to the Annotated_MIBiG_reference folder'</span></li>\n",
       "\t<li>''</li>\n",
       "\t<li><span style=white-space:pre-wrap>'  Others (569 BGCs)'</span></li>\n",
       "\t<li>' - All clusters in this class are MIBiG clusters -'</li>\n",
       "\t<li><span style=white-space:pre-wrap>'  If you\\'d like to analyze MIBiG clusters, turn off the --mibig option'</span></li>\n",
       "\t<li><span style=white-space:pre-wrap>'  and point --inputdir to the Annotated_MIBiG_reference folder'</span></li>\n",
       "\t<li>''</li>\n",
       "\t<li><span style=white-space:pre-wrap>'  RiPPs (184 BGCs)'</span></li>\n",
       "\t<li>' - All clusters in this class are MIBiG clusters -'</li>\n",
       "\t<li><span style=white-space:pre-wrap>'  If you\\'d like to analyze MIBiG clusters, turn off the --mibig option'</span></li>\n",
       "\t<li><span style=white-space:pre-wrap>'  and point --inputdir to the Annotated_MIBiG_reference folder'</span></li>\n",
       "\t<li>''</li>\n",
       "\t<li><span style=white-space:pre-wrap>'  NRPS (557 BGCs)'</span></li>\n",
       "\t<li>' - All clusters in this class are MIBiG clusters -'</li>\n",
       "\t<li><span style=white-space:pre-wrap>'  If you\\'d like to analyze MIBiG clusters, turn off the --mibig option'</span></li>\n",
       "\t<li><span style=white-space:pre-wrap>'  and point --inputdir to the Annotated_MIBiG_reference folder'</span></li>\n",
       "\t<li>''</li>\n",
       "\t<li>''</li>\n",
       "\t<li>'\\tMain function took 1759.927 s'</li>\n",
       "</ol>\n"
      ],
      "text/latex": [
       "\\begin{enumerate*}\n",
       "\\item ''\n",
       "\\item ''\n",
       "\\item '   - - Processing input files - -'\n",
       "\\item ' Output folder already exists'\n",
       "\\item ' Including files with one or more of the following strings in their filename: \\textbackslash{}'01\\_MAG\\_dRep.ipynb\\textbackslash{}', \\textbackslash{}'02a\\_BGC\\_BiGSCAPE.ipynb\\textbackslash{}', \\textbackslash{}'02\\_antismash-DeepBGC.ipynb\\textbackslash{}', \\textbackslash{}'README.md\\textbackslash{}''\n",
       "\\item ' Skipping files with one or more of the following strings in their filename: \\textbackslash{}'final\\textbackslash{}''\n",
       "\\item ''\n",
       "\\item ' Trying to read bundled MIBiG BGCs as reference'\n",
       "\\item '  MIBiG BGCs seem to have been extracted already'\n",
       "\\item ''\n",
       "\\item 'Importing MIBiG files'\n",
       "\\item '  Warning: Input set has files with no Biosynthetic Genes (affects alignment mode)'\n",
       "\\item '   See no\\_biosynthetic\\_genes\\_list.txt'\n",
       "\\item ''\n",
       "\\item ' Starting with 1808 files'\n",
       "\\item ' Files that had its sequence extracted: 1808'\n",
       "\\item ''\n",
       "\\item 'Importing GenBank files'\n",
       "\\item ''\n",
       "\\item ' Starting with 0 files'\n",
       "\\item ' Files that had its sequence extracted: 0'\n",
       "\\item ''\n",
       "\\item 'Creating output directories'\n",
       "\\item ''\n",
       "\\item 'Trying threading on 32 cores'\n",
       "\\item ''\n",
       "\\item 'Predicting domains using hmmscan'\n",
       "\\item ' Predicting domains for 1808 fasta files'\n",
       "\\item ' Finished generating domtable files.'\n",
       "\\item ''\n",
       "\\item 'Parsing hmmscan domtable files'\n",
       "\\item ' Processing 1808 domtable files'\n",
       "\\item '  No domains where found in BGC0000683.1.domtable. Removing it from further analysis'\n",
       "\\item '  No domains where found in BGC0000476.1.domtable. Removing it from further analysis'\n",
       "\\item '  No domains where found in BGC0000493.1.domtable. Removing it from further analysis'\n",
       "\\item '  No domains where found in BGC0001181.1.domtable. Removing it from further analysis'\n",
       "\\item '  No domains where found in BGC0000482.1.domtable. Removing it from further analysis'\n",
       "\\item '  No domains where found in BGC0001601.1.domtable. Removing it from further analysis'\n",
       "\\item '  No domains where found in BGC0000492.1.domtable. Removing it from further analysis'\n",
       "\\item '  No domains where found in BGC0001481.1.domtable. Removing it from further analysis'\n",
       "\\item '  No domains where found in BGC0000478.1.domtable. Removing it from further analysis'\n",
       "\\item '  No domains where found in BGC0001577.1.domtable. Removing it from further analysis'\n",
       "\\item '  No domains where found in BGC0001680.1.domtable. Removing it from further analysis'\n",
       "\\item '  No domains where found in BGC0000505.1.domtable. Removing it from further analysis'\n",
       "\\item ' New domain sequences to be added; cleaning domains folder'\n",
       "\\item ' Finished generating pfs and pfd files.'\n",
       "\\item ''\n",
       "\\item 'Processing domains sequence files'\n",
       "\\item ' Adding sequences to corresponding domains file'\n",
       "\\item ' Reading the ordered list of domains from the pfs files'\n",
       "\\item ' Creating arrower-like figures for each BGC'\n",
       "\\item '  Parsing hmm file for domain information'\n",
       "\\item '    Done'\n",
       "\\item '  Found file with domains colors'\n",
       "\\item '  Reading BGC information and writing SVG'\n",
       "\\item ' Finished creating figures'\n",
       "\\item ''\n",
       "\\item ''\n",
       "\\item '   - - Calculating distance matrix - -'\n",
       "\\item 'Performing multiple alignment of domain sequences'\n",
       "\\item ''\n",
       "\\item ' Using hmmalign'\n",
       "\\item 'launch\\_hmmalign took 94.163 seconds'\n",
       "\\item ' Trying to read domain alignments (*.algn files)'\n",
       "\\item ''\n",
       "\\item 'Generating distance network files with ALL available input files'\n",
       "\\item '   Writing the complete Annotations file for the complete set'\n",
       "\\item ''\n",
       "\\item ' Working for each BGC class'\n",
       "\\item '  Sorting the input BGCs'\n",
       "\\item ''\n",
       "\\item ''\n",
       "\\item '  PKSother (236 BGCs)'\n",
       "\\item ' - All clusters in this class are MIBiG clusters -'\n",
       "\\item '  If you\\textbackslash{}'d like to analyze MIBiG clusters, turn off the --mibig option'\n",
       "\\item '  and point --inputdir to the Annotated\\_MIBiG\\_reference folder'\n",
       "\\item ''\n",
       "\\item '  PKS-NRP\\_Hybrids (233 BGCs)'\n",
       "\\item ' - All clusters in this class are MIBiG clusters -'\n",
       "\\item '  If you\\textbackslash{}'d like to analyze MIBiG clusters, turn off the --mibig option'\n",
       "\\item '  and point --inputdir to the Annotated\\_MIBiG\\_reference folder'\n",
       "\\item ''\n",
       "\\item '  PKSI (501 BGCs)'\n",
       "\\item ' - All clusters in this class are MIBiG clusters -'\n",
       "\\item '  If you\\textbackslash{}'d like to analyze MIBiG clusters, turn off the --mibig option'\n",
       "\\item '  and point --inputdir to the Annotated\\_MIBiG\\_reference folder'\n",
       "\\item ''\n",
       "\\item '  Saccharides (62 BGCs)'\n",
       "\\item ' - All clusters in this class are MIBiG clusters -'\n",
       "\\item '  If you\\textbackslash{}'d like to analyze MIBiG clusters, turn off the --mibig option'\n",
       "\\item '  and point --inputdir to the Annotated\\_MIBiG\\_reference folder'\n",
       "\\item ''\n",
       "\\item '  Terpene (111 BGCs)'\n",
       "\\item ' - All clusters in this class are MIBiG clusters -'\n",
       "\\item '  If you\\textbackslash{}'d like to analyze MIBiG clusters, turn off the --mibig option'\n",
       "\\item '  and point --inputdir to the Annotated\\_MIBiG\\_reference folder'\n",
       "\\item ''\n",
       "\\item '  Others (569 BGCs)'\n",
       "\\item ' - All clusters in this class are MIBiG clusters -'\n",
       "\\item '  If you\\textbackslash{}'d like to analyze MIBiG clusters, turn off the --mibig option'\n",
       "\\item '  and point --inputdir to the Annotated\\_MIBiG\\_reference folder'\n",
       "\\item ''\n",
       "\\item '  RiPPs (184 BGCs)'\n",
       "\\item ' - All clusters in this class are MIBiG clusters -'\n",
       "\\item '  If you\\textbackslash{}'d like to analyze MIBiG clusters, turn off the --mibig option'\n",
       "\\item '  and point --inputdir to the Annotated\\_MIBiG\\_reference folder'\n",
       "\\item ''\n",
       "\\item '  NRPS (557 BGCs)'\n",
       "\\item ' - All clusters in this class are MIBiG clusters -'\n",
       "\\item '  If you\\textbackslash{}'d like to analyze MIBiG clusters, turn off the --mibig option'\n",
       "\\item '  and point --inputdir to the Annotated\\_MIBiG\\_reference folder'\n",
       "\\item ''\n",
       "\\item ''\n",
       "\\item '\\textbackslash{}tMain function took 1759.927 s'\n",
       "\\end{enumerate*}\n"
      ],
      "text/markdown": [
       "1. ''\n",
       "2. ''\n",
       "3. <span style=white-space:pre-wrap>'   - - Processing input files - -'</span>\n",
       "4. ' Output folder already exists'\n",
       "5. ' Including files with one or more of the following strings in their filename: \\'01_MAG_dRep.ipynb\\', \\'02a_BGC_BiGSCAPE.ipynb\\', \\'02_antismash-DeepBGC.ipynb\\', \\'README.md\\''\n",
       "6. ' Skipping files with one or more of the following strings in their filename: \\'final\\''\n",
       "7. ''\n",
       "8. ' Trying to read bundled MIBiG BGCs as reference'\n",
       "9. <span style=white-space:pre-wrap>'  MIBiG BGCs seem to have been extracted already'</span>\n",
       "10. ''\n",
       "11. 'Importing MIBiG files'\n",
       "12. <span style=white-space:pre-wrap>'  Warning: Input set has files with no Biosynthetic Genes (affects alignment mode)'</span>\n",
       "13. <span style=white-space:pre-wrap>'   See no_biosynthetic_genes_list.txt'</span>\n",
       "14. ''\n",
       "15. ' Starting with 1808 files'\n",
       "16. ' Files that had its sequence extracted: 1808'\n",
       "17. ''\n",
       "18. 'Importing GenBank files'\n",
       "19. ''\n",
       "20. ' Starting with 0 files'\n",
       "21. ' Files that had its sequence extracted: 0'\n",
       "22. ''\n",
       "23. 'Creating output directories'\n",
       "24. ''\n",
       "25. 'Trying threading on 32 cores'\n",
       "26. ''\n",
       "27. 'Predicting domains using hmmscan'\n",
       "28. ' Predicting domains for 1808 fasta files'\n",
       "29. ' Finished generating domtable files.'\n",
       "30. ''\n",
       "31. 'Parsing hmmscan domtable files'\n",
       "32. ' Processing 1808 domtable files'\n",
       "33. <span style=white-space:pre-wrap>'  No domains where found in BGC0000683.1.domtable. Removing it from further analysis'</span>\n",
       "34. <span style=white-space:pre-wrap>'  No domains where found in BGC0000476.1.domtable. Removing it from further analysis'</span>\n",
       "35. <span style=white-space:pre-wrap>'  No domains where found in BGC0000493.1.domtable. Removing it from further analysis'</span>\n",
       "36. <span style=white-space:pre-wrap>'  No domains where found in BGC0001181.1.domtable. Removing it from further analysis'</span>\n",
       "37. <span style=white-space:pre-wrap>'  No domains where found in BGC0000482.1.domtable. Removing it from further analysis'</span>\n",
       "38. <span style=white-space:pre-wrap>'  No domains where found in BGC0001601.1.domtable. Removing it from further analysis'</span>\n",
       "39. <span style=white-space:pre-wrap>'  No domains where found in BGC0000492.1.domtable. Removing it from further analysis'</span>\n",
       "40. <span style=white-space:pre-wrap>'  No domains where found in BGC0001481.1.domtable. Removing it from further analysis'</span>\n",
       "41. <span style=white-space:pre-wrap>'  No domains where found in BGC0000478.1.domtable. Removing it from further analysis'</span>\n",
       "42. <span style=white-space:pre-wrap>'  No domains where found in BGC0001577.1.domtable. Removing it from further analysis'</span>\n",
       "43. <span style=white-space:pre-wrap>'  No domains where found in BGC0001680.1.domtable. Removing it from further analysis'</span>\n",
       "44. <span style=white-space:pre-wrap>'  No domains where found in BGC0000505.1.domtable. Removing it from further analysis'</span>\n",
       "45. ' New domain sequences to be added; cleaning domains folder'\n",
       "46. ' Finished generating pfs and pfd files.'\n",
       "47. ''\n",
       "48. 'Processing domains sequence files'\n",
       "49. ' Adding sequences to corresponding domains file'\n",
       "50. ' Reading the ordered list of domains from the pfs files'\n",
       "51. ' Creating arrower-like figures for each BGC'\n",
       "52. <span style=white-space:pre-wrap>'  Parsing hmm file for domain information'</span>\n",
       "53. <span style=white-space:pre-wrap>'    Done'</span>\n",
       "54. <span style=white-space:pre-wrap>'  Found file with domains colors'</span>\n",
       "55. <span style=white-space:pre-wrap>'  Reading BGC information and writing SVG'</span>\n",
       "56. ' Finished creating figures'\n",
       "57. ''\n",
       "58. ''\n",
       "59. <span style=white-space:pre-wrap>'   - - Calculating distance matrix - -'</span>\n",
       "60. 'Performing multiple alignment of domain sequences'\n",
       "61. ''\n",
       "62. ' Using hmmalign'\n",
       "63. 'launch_hmmalign took 94.163 seconds'\n",
       "64. ' Trying to read domain alignments (*.algn files)'\n",
       "65. ''\n",
       "66. 'Generating distance network files with ALL available input files'\n",
       "67. <span style=white-space:pre-wrap>'   Writing the complete Annotations file for the complete set'</span>\n",
       "68. ''\n",
       "69. ' Working for each BGC class'\n",
       "70. <span style=white-space:pre-wrap>'  Sorting the input BGCs'</span>\n",
       "71. ''\n",
       "72. ''\n",
       "73. <span style=white-space:pre-wrap>'  PKSother (236 BGCs)'</span>\n",
       "74. ' - All clusters in this class are MIBiG clusters -'\n",
       "75. <span style=white-space:pre-wrap>'  If you\\'d like to analyze MIBiG clusters, turn off the --mibig option'</span>\n",
       "76. <span style=white-space:pre-wrap>'  and point --inputdir to the Annotated_MIBiG_reference folder'</span>\n",
       "77. ''\n",
       "78. <span style=white-space:pre-wrap>'  PKS-NRP_Hybrids (233 BGCs)'</span>\n",
       "79. ' - All clusters in this class are MIBiG clusters -'\n",
       "80. <span style=white-space:pre-wrap>'  If you\\'d like to analyze MIBiG clusters, turn off the --mibig option'</span>\n",
       "81. <span style=white-space:pre-wrap>'  and point --inputdir to the Annotated_MIBiG_reference folder'</span>\n",
       "82. ''\n",
       "83. <span style=white-space:pre-wrap>'  PKSI (501 BGCs)'</span>\n",
       "84. ' - All clusters in this class are MIBiG clusters -'\n",
       "85. <span style=white-space:pre-wrap>'  If you\\'d like to analyze MIBiG clusters, turn off the --mibig option'</span>\n",
       "86. <span style=white-space:pre-wrap>'  and point --inputdir to the Annotated_MIBiG_reference folder'</span>\n",
       "87. ''\n",
       "88. <span style=white-space:pre-wrap>'  Saccharides (62 BGCs)'</span>\n",
       "89. ' - All clusters in this class are MIBiG clusters -'\n",
       "90. <span style=white-space:pre-wrap>'  If you\\'d like to analyze MIBiG clusters, turn off the --mibig option'</span>\n",
       "91. <span style=white-space:pre-wrap>'  and point --inputdir to the Annotated_MIBiG_reference folder'</span>\n",
       "92. ''\n",
       "93. <span style=white-space:pre-wrap>'  Terpene (111 BGCs)'</span>\n",
       "94. ' - All clusters in this class are MIBiG clusters -'\n",
       "95. <span style=white-space:pre-wrap>'  If you\\'d like to analyze MIBiG clusters, turn off the --mibig option'</span>\n",
       "96. <span style=white-space:pre-wrap>'  and point --inputdir to the Annotated_MIBiG_reference folder'</span>\n",
       "97. ''\n",
       "98. <span style=white-space:pre-wrap>'  Others (569 BGCs)'</span>\n",
       "99. ' - All clusters in this class are MIBiG clusters -'\n",
       "100. <span style=white-space:pre-wrap>'  If you\\'d like to analyze MIBiG clusters, turn off the --mibig option'</span>\n",
       "101. <span style=white-space:pre-wrap>'  and point --inputdir to the Annotated_MIBiG_reference folder'</span>\n",
       "102. ''\n",
       "103. <span style=white-space:pre-wrap>'  RiPPs (184 BGCs)'</span>\n",
       "104. ' - All clusters in this class are MIBiG clusters -'\n",
       "105. <span style=white-space:pre-wrap>'  If you\\'d like to analyze MIBiG clusters, turn off the --mibig option'</span>\n",
       "106. <span style=white-space:pre-wrap>'  and point --inputdir to the Annotated_MIBiG_reference folder'</span>\n",
       "107. ''\n",
       "108. <span style=white-space:pre-wrap>'  NRPS (557 BGCs)'</span>\n",
       "109. ' - All clusters in this class are MIBiG clusters -'\n",
       "110. <span style=white-space:pre-wrap>'  If you\\'d like to analyze MIBiG clusters, turn off the --mibig option'</span>\n",
       "111. <span style=white-space:pre-wrap>'  and point --inputdir to the Annotated_MIBiG_reference folder'</span>\n",
       "112. ''\n",
       "113. ''\n",
       "114. '\\tMain function took 1759.927 s'\n",
       "\n",
       "\n"
      ],
      "text/plain": [
       "  [1] \"\"                                                                                                                                                                      \n",
       "  [2] \"\"                                                                                                                                                                      \n",
       "  [3] \"   - - Processing input files - -\"                                                                                                                                     \n",
       "  [4] \" Output folder already exists\"                                                                                                                                         \n",
       "  [5] \" Including files with one or more of the following strings in their filename: '01_MAG_dRep.ipynb', '02a_BGC_BiGSCAPE.ipynb', '02_antismash-DeepBGC.ipynb', 'README.md'\"\n",
       "  [6] \" Skipping files with one or more of the following strings in their filename: 'final'\"                                                                                  \n",
       "  [7] \"\"                                                                                                                                                                      \n",
       "  [8] \" Trying to read bundled MIBiG BGCs as reference\"                                                                                                                       \n",
       "  [9] \"  MIBiG BGCs seem to have been extracted already\"                                                                                                                      \n",
       " [10] \"\"                                                                                                                                                                      \n",
       " [11] \"Importing MIBiG files\"                                                                                                                                                 \n",
       " [12] \"  Warning: Input set has files with no Biosynthetic Genes (affects alignment mode)\"                                                                                    \n",
       " [13] \"   See no_biosynthetic_genes_list.txt\"                                                                                                                                 \n",
       " [14] \"\"                                                                                                                                                                      \n",
       " [15] \" Starting with 1808 files\"                                                                                                                                             \n",
       " [16] \" Files that had its sequence extracted: 1808\"                                                                                                                          \n",
       " [17] \"\"                                                                                                                                                                      \n",
       " [18] \"Importing GenBank files\"                                                                                                                                               \n",
       " [19] \"\"                                                                                                                                                                      \n",
       " [20] \" Starting with 0 files\"                                                                                                                                                \n",
       " [21] \" Files that had its sequence extracted: 0\"                                                                                                                             \n",
       " [22] \"\"                                                                                                                                                                      \n",
       " [23] \"Creating output directories\"                                                                                                                                           \n",
       " [24] \"\"                                                                                                                                                                      \n",
       " [25] \"Trying threading on 32 cores\"                                                                                                                                          \n",
       " [26] \"\"                                                                                                                                                                      \n",
       " [27] \"Predicting domains using hmmscan\"                                                                                                                                      \n",
       " [28] \" Predicting domains for 1808 fasta files\"                                                                                                                              \n",
       " [29] \" Finished generating domtable files.\"                                                                                                                                  \n",
       " [30] \"\"                                                                                                                                                                      \n",
       " [31] \"Parsing hmmscan domtable files\"                                                                                                                                        \n",
       " [32] \" Processing 1808 domtable files\"                                                                                                                                       \n",
       " [33] \"  No domains where found in BGC0000683.1.domtable. Removing it from further analysis\"                                                                                  \n",
       " [34] \"  No domains where found in BGC0000476.1.domtable. Removing it from further analysis\"                                                                                  \n",
       " [35] \"  No domains where found in BGC0000493.1.domtable. Removing it from further analysis\"                                                                                  \n",
       " [36] \"  No domains where found in BGC0001181.1.domtable. Removing it from further analysis\"                                                                                  \n",
       " [37] \"  No domains where found in BGC0000482.1.domtable. Removing it from further analysis\"                                                                                  \n",
       " [38] \"  No domains where found in BGC0001601.1.domtable. Removing it from further analysis\"                                                                                  \n",
       " [39] \"  No domains where found in BGC0000492.1.domtable. Removing it from further analysis\"                                                                                  \n",
       " [40] \"  No domains where found in BGC0001481.1.domtable. Removing it from further analysis\"                                                                                  \n",
       " [41] \"  No domains where found in BGC0000478.1.domtable. Removing it from further analysis\"                                                                                  \n",
       " [42] \"  No domains where found in BGC0001577.1.domtable. Removing it from further analysis\"                                                                                  \n",
       " [43] \"  No domains where found in BGC0001680.1.domtable. Removing it from further analysis\"                                                                                  \n",
       " [44] \"  No domains where found in BGC0000505.1.domtable. Removing it from further analysis\"                                                                                  \n",
       " [45] \" New domain sequences to be added; cleaning domains folder\"                                                                                                            \n",
       " [46] \" Finished generating pfs and pfd files.\"                                                                                                                               \n",
       " [47] \"\"                                                                                                                                                                      \n",
       " [48] \"Processing domains sequence files\"                                                                                                                                     \n",
       " [49] \" Adding sequences to corresponding domains file\"                                                                                                                       \n",
       " [50] \" Reading the ordered list of domains from the pfs files\"                                                                                                               \n",
       " [51] \" Creating arrower-like figures for each BGC\"                                                                                                                           \n",
       " [52] \"  Parsing hmm file for domain information\"                                                                                                                             \n",
       " [53] \"    Done\"                                                                                                                                                              \n",
       " [54] \"  Found file with domains colors\"                                                                                                                                      \n",
       " [55] \"  Reading BGC information and writing SVG\"                                                                                                                             \n",
       " [56] \" Finished creating figures\"                                                                                                                                            \n",
       " [57] \"\"                                                                                                                                                                      \n",
       " [58] \"\"                                                                                                                                                                      \n",
       " [59] \"   - - Calculating distance matrix - -\"                                                                                                                                \n",
       " [60] \"Performing multiple alignment of domain sequences\"                                                                                                                     \n",
       " [61] \"\"                                                                                                                                                                      \n",
       " [62] \" Using hmmalign\"                                                                                                                                                       \n",
       " [63] \"launch_hmmalign took 94.163 seconds\"                                                                                                                                   \n",
       " [64] \" Trying to read domain alignments (*.algn files)\"                                                                                                                      \n",
       " [65] \"\"                                                                                                                                                                      \n",
       " [66] \"Generating distance network files with ALL available input files\"                                                                                                      \n",
       " [67] \"   Writing the complete Annotations file for the complete set\"                                                                                                         \n",
       " [68] \"\"                                                                                                                                                                      \n",
       " [69] \" Working for each BGC class\"                                                                                                                                           \n",
       " [70] \"  Sorting the input BGCs\"                                                                                                                                              \n",
       " [71] \"\"                                                                                                                                                                      \n",
       " [72] \"\"                                                                                                                                                                      \n",
       " [73] \"  PKSother (236 BGCs)\"                                                                                                                                                 \n",
       " [74] \" - All clusters in this class are MIBiG clusters -\"                                                                                                                    \n",
       " [75] \"  If you'd like to analyze MIBiG clusters, turn off the --mibig option\"                                                                                                \n",
       " [76] \"  and point --inputdir to the Annotated_MIBiG_reference folder\"                                                                                                        \n",
       " [77] \"\"                                                                                                                                                                      \n",
       " [78] \"  PKS-NRP_Hybrids (233 BGCs)\"                                                                                                                                          \n",
       " [79] \" - All clusters in this class are MIBiG clusters -\"                                                                                                                    \n",
       " [80] \"  If you'd like to analyze MIBiG clusters, turn off the --mibig option\"                                                                                                \n",
       " [81] \"  and point --inputdir to the Annotated_MIBiG_reference folder\"                                                                                                        \n",
       " [82] \"\"                                                                                                                                                                      \n",
       " [83] \"  PKSI (501 BGCs)\"                                                                                                                                                     \n",
       " [84] \" - All clusters in this class are MIBiG clusters -\"                                                                                                                    \n",
       " [85] \"  If you'd like to analyze MIBiG clusters, turn off the --mibig option\"                                                                                                \n",
       " [86] \"  and point --inputdir to the Annotated_MIBiG_reference folder\"                                                                                                        \n",
       " [87] \"\"                                                                                                                                                                      \n",
       " [88] \"  Saccharides (62 BGCs)\"                                                                                                                                               \n",
       " [89] \" - All clusters in this class are MIBiG clusters -\"                                                                                                                    \n",
       " [90] \"  If you'd like to analyze MIBiG clusters, turn off the --mibig option\"                                                                                                \n",
       " [91] \"  and point --inputdir to the Annotated_MIBiG_reference folder\"                                                                                                        \n",
       " [92] \"\"                                                                                                                                                                      \n",
       " [93] \"  Terpene (111 BGCs)\"                                                                                                                                                  \n",
       " [94] \" - All clusters in this class are MIBiG clusters -\"                                                                                                                    \n",
       " [95] \"  If you'd like to analyze MIBiG clusters, turn off the --mibig option\"                                                                                                \n",
       " [96] \"  and point --inputdir to the Annotated_MIBiG_reference folder\"                                                                                                        \n",
       " [97] \"\"                                                                                                                                                                      \n",
       " [98] \"  Others (569 BGCs)\"                                                                                                                                                   \n",
       " [99] \" - All clusters in this class are MIBiG clusters -\"                                                                                                                    \n",
       "[100] \"  If you'd like to analyze MIBiG clusters, turn off the --mibig option\"                                                                                                \n",
       "[101] \"  and point --inputdir to the Annotated_MIBiG_reference folder\"                                                                                                        \n",
       "[102] \"\"                                                                                                                                                                      \n",
       "[103] \"  RiPPs (184 BGCs)\"                                                                                                                                                    \n",
       "[104] \" - All clusters in this class are MIBiG clusters -\"                                                                                                                    \n",
       "[105] \"  If you'd like to analyze MIBiG clusters, turn off the --mibig option\"                                                                                                \n",
       "[106] \"  and point --inputdir to the Annotated_MIBiG_reference folder\"                                                                                                        \n",
       "[107] \"\"                                                                                                                                                                      \n",
       "[108] \"  NRPS (557 BGCs)\"                                                                                                                                                     \n",
       "[109] \" - All clusters in this class are MIBiG clusters -\"                                                                                                                    \n",
       "[110] \"  If you'd like to analyze MIBiG clusters, turn off the --mibig option\"                                                                                                \n",
       "[111] \"  and point --inputdir to the Annotated_MIBiG_reference folder\"                                                                                                        \n",
       "[112] \"\"                                                                                                                                                                      \n",
       "[113] \"\"                                                                                                                                                                      \n",
       "[114] \"\\tMain function took 1759.927 s\"                                                                                                                                       "
      ]
     },
     "metadata": {},
     "output_type": "display_data"
    }
   ],
   "source": [
    "bash_job(cmd, conda_env=conda_env, stderr=TRUE)"
   ]
  },
  {
   "cell_type": "markdown",
   "metadata": {},
   "source": [
    "# Summary"
   ]
  },
  {
   "cell_type": "code",
   "execution_count": 25,
   "metadata": {
    "ExecuteTime": {
     "end_time": "2019-12-16T13:30:43.407203Z",
     "start_time": "2019-12-16T13:01:25.152Z"
    }
   },
   "outputs": [
    {
     "name": "stdout",
     "output_type": "stream",
     "text": [
      "Output: /ebio/abt3_projects/Georg_animal_feces/data/metagenome/multi-study/BioProjects/summary/LLMGA/wGeorgAnimal/drep-0.995/BGCs/bigscape \n"
     ]
    }
   ],
   "source": [
    "cat('Output:', work_dir, '\\n')"
   ]
  },
  {
   "cell_type": "code",
   "execution_count": 26,
   "metadata": {
    "ExecuteTime": {
     "end_time": "2019-12-16T13:30:43.502355Z",
     "start_time": "2019-12-16T13:01:27.890Z"
    }
   },
   "outputs": [
    {
     "data": {
      "text/html": [
       "<ol class=list-inline>\n",
       "\t<li>'css'</li>\n",
       "\t<li>'img'</li>\n",
       "\t<li>'js'</li>\n",
       "\t<li>'networks'</li>\n",
       "</ol>\n"
      ],
      "text/latex": [
       "\\begin{enumerate*}\n",
       "\\item 'css'\n",
       "\\item 'img'\n",
       "\\item 'js'\n",
       "\\item 'networks'\n",
       "\\end{enumerate*}\n"
      ],
      "text/markdown": [
       "1. 'css'\n",
       "2. 'img'\n",
       "3. 'js'\n",
       "4. 'networks'\n",
       "\n",
       "\n"
      ],
      "text/plain": [
       "[1] \"css\"      \"img\"      \"js\"       \"networks\""
      ]
     },
     "metadata": {},
     "output_type": "display_data"
    }
   ],
   "source": [
    "list.files(file.path(work_dir, 'html_content'))"
   ]
  },
  {
   "cell_type": "markdown",
   "metadata": {},
   "source": [
    "# sessionInfo"
   ]
  },
  {
   "cell_type": "code",
   "execution_count": 27,
   "metadata": {
    "ExecuteTime": {
     "end_time": "2019-12-16T13:30:43.746348Z",
     "start_time": "2019-12-16T13:01:34.880Z"
    }
   },
   "outputs": [
    {
     "data": {
      "text/plain": [
       "R version 3.4.1 (2017-06-30)\n",
       "Platform: x86_64-pc-linux-gnu (64-bit)\n",
       "Running under: Ubuntu 18.04.3 LTS\n",
       "\n",
       "Matrix products: default\n",
       "BLAS: /ebio/abt3_projects/software/miniconda3_gt4.4/envs/py3_physeq/lib/R/lib/libRblas.so\n",
       "LAPACK: /ebio/abt3_projects/software/miniconda3_gt4.4/envs/py3_physeq/lib/R/lib/libRlapack.so\n",
       "\n",
       "locale:\n",
       " [1] LC_CTYPE=en_US.UTF-8       LC_NUMERIC=C              \n",
       " [3] LC_TIME=en_US.UTF-8        LC_COLLATE=en_US.UTF-8    \n",
       " [5] LC_MONETARY=en_US.UTF-8    LC_MESSAGES=en_US.UTF-8   \n",
       " [7] LC_PAPER=en_US.UTF-8       LC_NAME=C                 \n",
       " [9] LC_ADDRESS=C               LC_TELEPHONE=C            \n",
       "[11] LC_MEASUREMENT=en_US.UTF-8 LC_IDENTIFICATION=C       \n",
       "\n",
       "attached base packages:\n",
       "[1] parallel  stats     graphics  grDevices utils     datasets  methods  \n",
       "[8] base     \n",
       "\n",
       "other attached packages:\n",
       " [1] bindrcpp_0.2.2          future.apply_1.0.0      future.batchtools_0.7.1\n",
       " [4] future_1.9.0            doParallel_1.0.11       iterators_1.0.10       \n",
       " [7] foreach_1.4.4           data.table_1.11.4       ggplot2_3.0.0          \n",
       "[10] tidyr_0.8.1             dplyr_0.7.6            \n",
       "\n",
       "loaded via a namespace (and not attached):\n",
       " [1] pbdZMQ_0.3-2      progress_1.2.0    tidyselect_0.2.4  repr_0.15.0      \n",
       " [5] purrr_0.2.4       listenv_0.7.0     colorspace_1.3-2  htmltools_0.3.6  \n",
       " [9] base64enc_0.1-3   rlang_0.2.1       pillar_1.2.2      glue_1.3.0       \n",
       "[13] withr_2.1.1       rappdirs_0.3.1    uuid_0.1-2        bindr_0.1.1      \n",
       "[17] plyr_1.8.4        stringr_1.3.1     munsell_0.5.0     gtable_0.2.0     \n",
       "[21] codetools_0.2-15  evaluate_0.10.1   batchtools_0.9.11 IRdisplay_0.4.4  \n",
       "[25] Rcpp_0.12.17      scales_0.5.0      backports_1.1.2   checkmate_1.8.5  \n",
       "[29] IRkernel_0.8.12   jsonlite_1.5      brew_1.0-6        hms_0.4.2        \n",
       "[33] digest_0.6.15     stringi_1.2.3     grid_3.4.1        tools_3.4.1      \n",
       "[37] magrittr_1.5      base64url_1.4     lazyeval_0.2.1    tibble_1.4.2     \n",
       "[41] crayon_1.3.4      pkgconfig_2.0.1   prettyunits_1.0.2 assertthat_0.2.0 \n",
       "[45] R6_2.2.2          globals_0.12.2    compiler_3.4.1   "
      ]
     },
     "metadata": {},
     "output_type": "display_data"
    }
   ],
   "source": [
    "sessionInfo()"
   ]
  },
  {
   "cell_type": "code",
   "execution_count": 28,
   "metadata": {
    "ExecuteTime": {
     "end_time": "2019-12-16T13:30:46.063684Z",
     "start_time": "2019-12-16T13:01:48.612Z"
    }
   },
   "outputs": [
    {
     "name": "stdout",
     "output_type": "stream",
     "text": [
      "# packages in environment at /ebio/abt3_projects/software/miniconda3_gt4.4/envs/bigscape:\n",
      "#\n",
      "# Name                    Version                   Build  Channel\n",
      "_libgcc_mutex             0.1                        main    conda-forge\n",
      "biopython                 1.68                     py27_0    bioconda\n",
      "blas                      1.1                    openblas    conda-forge\n",
      "ca-certificates           2019.11.28           hecc5488_0    conda-forge\n",
      "certifi                   2019.11.28               py27_0    conda-forge\n",
      "decorator                 4.4.1                      py_0    conda-forge\n",
      "fasttree                  2.1.10               h14c3975_3    bioconda\n",
      "freetype                  2.10.0               he983fc9_1    conda-forge\n",
      "hmmer                     3.2.1                he1b5a44_2    bioconda\n",
      "jpeg                      9c                h14c3975_1001    conda-forge\n",
      "libblas                   3.8.0               11_openblas    conda-forge\n",
      "libcblas                  3.8.0               11_openblas    conda-forge\n",
      "libffi                    3.2.1             he1b5a44_1006    conda-forge\n",
      "libgcc-ng                 9.2.0                hdf63c60_0    conda-forge\n",
      "libgfortran-ng            7.3.0                hdf63c60_2    conda-forge\n",
      "liblapack                 3.8.0               11_openblas    conda-forge\n",
      "libopenblas               0.3.6                h5a2b251_2  \n",
      "libpng                    1.6.37               hed695b0_0    conda-forge\n",
      "libstdcxx-ng              9.2.0                hdf63c60_0    conda-forge\n",
      "libtiff                   4.1.0                hc3755c2_1    conda-forge\n",
      "lz4-c                     1.8.3             he1b5a44_1001    conda-forge\n",
      "mmtf-python               1.1.2                      py_0    conda-forge\n",
      "msgpack-python            0.6.2            py27hc9558a2_0    conda-forge\n",
      "ncurses                   6.1               hf484d3e_1002    conda-forge\n",
      "networkx                  2.1                      py27_0    conda-forge\n",
      "numpy                     1.16.5           py27h95a1406_0    conda-forge\n",
      "olefile                   0.46                       py_0    conda-forge\n",
      "openblas                  0.3.3             h9ac9557_1001    conda-forge\n",
      "openssl                   1.1.1d               h516909a_0    conda-forge\n",
      "pillow                    6.2.1            py27hd70f55b_1    conda-forge\n",
      "pip                       19.3.1                   py27_0    conda-forge\n",
      "python                    2.7.15            h5a48372_1009    conda-forge\n",
      "readline                  8.0                  hf8c457e_0    conda-forge\n",
      "reportlab                 3.5.32           py27h7d98c4e_0    conda-forge\n",
      "scikit-learn              0.20.4          py27_blas_openblashebff5e3_0  [blas_openblas]  conda-forge\n",
      "scipy                     1.2.1           py27_blas_openblash1522bff_0  [blas_openblas]  conda-forge\n",
      "setuptools                42.0.2                   py27_0    conda-forge\n",
      "sqlite                    3.30.1               hcee41ef_0    conda-forge\n",
      "tk                        8.6.10               hed695b0_0    conda-forge\n",
      "wheel                     0.33.6                   py27_0    conda-forge\n",
      "xz                        5.2.4             h14c3975_1001    conda-forge\n",
      "zlib                      1.2.11            h516909a_1006    conda-forge\n",
      "zstd                      1.4.4                h3b9ef0a_1    conda-forge"
     ]
    }
   ],
   "source": [
    "condaInfo(conda_env)"
   ]
  },
  {
   "cell_type": "code",
   "execution_count": null,
   "metadata": {},
   "outputs": [],
   "source": []
  }
 ],
 "metadata": {
  "kernelspec": {
   "display_name": "R [conda env:py3_physeq]",
   "language": "R",
   "name": "conda-env-py3_physeq-r"
  },
  "language_info": {
   "codemirror_mode": "r",
   "file_extension": ".r",
   "mimetype": "text/x-r-source",
   "name": "R",
   "pygments_lexer": "r",
   "version": "3.4.1"
  },
  "notify_time": "30",
  "toc": {
   "base_numbering": 1,
   "nav_menu": {},
   "number_sections": true,
   "sideBar": true,
   "skip_h1_title": false,
   "title_cell": "Table of Contents",
   "title_sidebar": "Contents",
   "toc_cell": true,
   "toc_position": {},
   "toc_section_display": true,
   "toc_window_display": true
  }
 },
 "nbformat": 4,
 "nbformat_minor": 2
}
