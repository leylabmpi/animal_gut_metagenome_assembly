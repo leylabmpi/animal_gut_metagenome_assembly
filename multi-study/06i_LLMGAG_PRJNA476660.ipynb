{
 "cells": [
  {
   "cell_type": "markdown",
   "metadata": {
    "toc": true
   },
   "source": [
    "<h1>Table of Contents<span class=\"tocSkip\"></span></h1>\n",
    "<div class=\"toc\"><ul class=\"toc-item\"><li><span><a href=\"#Goal\" data-toc-modified-id=\"Goal-1\"><span class=\"toc-item-num\">1&nbsp;&nbsp;</span>Goal</a></span></li><li><span><a href=\"#Var\" data-toc-modified-id=\"Var-2\"><span class=\"toc-item-num\">2&nbsp;&nbsp;</span>Var</a></span></li><li><span><a href=\"#Init\" data-toc-modified-id=\"Init-3\"><span class=\"toc-item-num\">3&nbsp;&nbsp;</span>Init</a></span></li><li><span><a href=\"#LLMGAG\" data-toc-modified-id=\"LLMGAG-4\"><span class=\"toc-item-num\">4&nbsp;&nbsp;</span>LLMGAG</a></span><ul class=\"toc-item\"><li><span><a href=\"#Setup\" data-toc-modified-id=\"Setup-4.1\"><span class=\"toc-item-num\">4.1&nbsp;&nbsp;</span>Setup</a></span><ul class=\"toc-item\"><li><span><a href=\"#Run\" data-toc-modified-id=\"Run-4.1.1\"><span class=\"toc-item-num\">4.1.1&nbsp;&nbsp;</span>Run</a></span></li></ul></li></ul></li><li><span><a href=\"#--WAITING--\" data-toc-modified-id=\"--WAITING---5\"><span class=\"toc-item-num\">5&nbsp;&nbsp;</span>--WAITING--</a></span></li><li><span><a href=\"#Summary\" data-toc-modified-id=\"Summary-6\"><span class=\"toc-item-num\">6&nbsp;&nbsp;</span>Summary</a></span><ul class=\"toc-item\"><li><span><a href=\"#Number-of-genes-assembled-&amp;-clustered\" data-toc-modified-id=\"Number-of-genes-assembled-&amp;-clustered-6.1\"><span class=\"toc-item-num\">6.1&nbsp;&nbsp;</span>Number of genes assembled &amp; clustered</a></span></li><li><span><a href=\"#Taxonomy\" data-toc-modified-id=\"Taxonomy-6.2\"><span class=\"toc-item-num\">6.2&nbsp;&nbsp;</span>Taxonomy</a></span><ul class=\"toc-item\"><li><span><a href=\"#Summary\" data-toc-modified-id=\"Summary-6.2.1\"><span class=\"toc-item-num\">6.2.1&nbsp;&nbsp;</span>Summary</a></span></li></ul></li><li><span><a href=\"#Annotations\" data-toc-modified-id=\"Annotations-6.3\"><span class=\"toc-item-num\">6.3&nbsp;&nbsp;</span>Annotations</a></span><ul class=\"toc-item\"><li><span><a href=\"#COG-functional-categories\" data-toc-modified-id=\"COG-functional-categories-6.3.1\"><span class=\"toc-item-num\">6.3.1&nbsp;&nbsp;</span>COG functional categories</a></span></li><li><span><a href=\"#Grouped-by-taxonomy\" data-toc-modified-id=\"Grouped-by-taxonomy-6.3.2\"><span class=\"toc-item-num\">6.3.2&nbsp;&nbsp;</span>Grouped by taxonomy</a></span></li></ul></li><li><span><a href=\"#humann2-db-genes\" data-toc-modified-id=\"humann2-db-genes-6.4\"><span class=\"toc-item-num\">6.4&nbsp;&nbsp;</span>humann2 db genes</a></span><ul class=\"toc-item\"><li><span><a href=\"#Summary\" data-toc-modified-id=\"Summary-6.4.1\"><span class=\"toc-item-num\">6.4.1&nbsp;&nbsp;</span>Summary</a></span><ul class=\"toc-item\"><li><span><a href=\"#By-taxonomy\" data-toc-modified-id=\"By-taxonomy-6.4.1.1\"><span class=\"toc-item-num\">6.4.1.1&nbsp;&nbsp;</span>By taxonomy</a></span></li></ul></li></ul></li></ul></li><li><span><a href=\"#sessionInfo\" data-toc-modified-id=\"sessionInfo-7\"><span class=\"toc-item-num\">7&nbsp;&nbsp;</span>sessionInfo</a></span></li></ul></div>"
   ]
  },
  {
   "cell_type": "markdown",
   "metadata": {},
   "source": [
    "# Goal\n",
    "\n",
    "* Run `LLMGAG` (metagenome assembly of genes) pipeline on animal gut microbiome metagenome study\n",
    "* study = PRJNA476660\n",
    "  * host = Pangolin"
   ]
  },
  {
   "cell_type": "markdown",
   "metadata": {},
   "source": [
    "# Var"
   ]
  },
  {
   "cell_type": "code",
   "execution_count": 2,
   "metadata": {
    "ExecuteTime": {
     "end_time": "2019-09-29T18:31:37.913693Z",
     "start_time": "2019-09-29T18:31:33.002Z"
    }
   },
   "outputs": [],
   "source": [
    "studyID = 'PRJNA476660'\n",
    "base_dir = file.path('/ebio/abt3_projects/Georg_animal_feces/data/metagenome/multi-study/BioProjects/',\n",
    "                     studyID)\n",
    "tmp_out_dir = file.path('/ebio/abt3_projects/databases_no-backup/animal_gut_metagenomes/multi-study_MG-asmbl/',\n",
    "                        studyID)\n",
    "\n",
    "work_dir = file.path(base_dir, 'LLMGAG')\n",
    "\n",
    "pipeline_dir = '/ebio/abt3_projects/methanogen_host_evo/bin/llmgag'\n",
    "threads = 24"
   ]
  },
  {
   "cell_type": "markdown",
   "metadata": {},
   "source": [
    "# Init"
   ]
  },
  {
   "cell_type": "code",
   "execution_count": 4,
   "metadata": {
    "ExecuteTime": {
     "end_time": "2019-09-29T18:36:27.764980Z",
     "start_time": "2019-09-29T18:36:27.706Z"
    }
   },
   "outputs": [],
   "source": [
    "library(dplyr)\n",
    "library(tidyr)\n",
    "library(ggplot2)\n",
    "library(data.table)\n",
    "set.seed(8304)\n",
    "\n",
    "source('/ebio/abt3_projects/Georg_animal_feces/code/misc_r_functions/init.R')"
   ]
  },
  {
   "cell_type": "code",
   "execution_count": 3,
   "metadata": {
    "ExecuteTime": {
     "end_time": "2019-09-29T18:31:38.087777Z",
     "start_time": "2019-09-29T18:31:35.451Z"
    }
   },
   "outputs": [
    {
     "name": "stdout",
     "output_type": "stream",
     "text": [
      "Directory already exists: /ebio/abt3_projects/Georg_animal_feces/data/metagenome/multi-study/BioProjects//PRJNA476660 \n",
      "Directory already exists: /ebio/abt3_projects/databases_no-backup/animal_gut_metagenomes/multi-study_MG-asmbl//PRJNA476660 \n",
      "Created directory: /ebio/abt3_projects/Georg_animal_feces/data/metagenome/multi-study/BioProjects//PRJNA476660/LLMGAG \n"
     ]
    }
   ],
   "source": [
    "make_dir(base_dir)\n",
    "make_dir(tmp_out_dir)\n",
    "make_dir(work_dir)"
   ]
  },
  {
   "cell_type": "markdown",
   "metadata": {},
   "source": [
    "# LLMGAG"
   ]
  },
  {
   "cell_type": "markdown",
   "metadata": {},
   "source": [
    "## Setup"
   ]
  },
  {
   "cell_type": "code",
   "execution_count": 6,
   "metadata": {
    "ExecuteTime": {
     "end_time": "2019-09-29T18:37:26.802752Z",
     "start_time": "2019-09-29T18:37:26.750Z"
    }
   },
   "outputs": [
    {
     "name": "stdout",
     "output_type": "stream",
     "text": [
      "#-- I/O --#\n",
      "# table with sample --> read_file information\n",
      "samples_file: /ebio/abt3_projects/Georg_animal_feces/data/metagenome/multi-study/BioProjects/PRJNA476660/LLMGQC/final/samples.txt\n",
      "\n",
      "# output location\n",
      "output_dir: /ebio/abt3_projects/Georg_animal_feces/data/metagenome/multi-study/BioProjects/PRJNA476660/LLMGAG/\n",
      "\n",
      "#-- database --#\n",
      "## eggnog mapper\n",
      "eggnog_diamond_db: /ebio/abt3_projects/databases_no-backup/Eggnog/v2/eggnog_proteins.dmnd\n",
      "eggnog_db: /ebio/abt3_projects/databases_no-backup/Eggnog/v2/eggnog.db\n",
      "## mmseqs taxonomy\n",
      "mmseqs_tax_db: /ebio/abt3_projects/databases_no-backup/uniclust/uniclust50/uniclust50_2018_08_consensus\n",
      "## checkM\n",
      "checkM_data: /ebio/abt3_projects/databases_no-backup/checkM/\n",
      "## sourmash\n",
      "sourmash_db: /ebio/abt3_projects/databases_no-backup/sourmash/genbank-k31.sbt.json\n",
      "sourmash_lca_db: /ebio/abt3_projects/databases_no-backup/sourmash/genbank-k31.lca.json.gz\n",
      "# humann2 diamond\n",
      "humann2_diamond_db: /ebio/abt3_projects/databases_no-backup/humann2/uniref50/uniref50_annotated.1.1.dmnd\n",
      "# empanada\n",
      "empanada_kegg_db: /ebio/abt3_projects/databases_no-backup/empanada/KOvsPATHWAY_BACTERIAL_KEGG_2013_07_15.tab\n",
      "empanada_ptwy_db: /ebio/abt3_projects/databases_no-backup/empanada/map_kegg-pwy_name.txt.gz\n",
      "\n",
      "#-- main params --#\n",
      "## co-assemble all samples together or each sample individually?\n",
      "all_sample_coassembly: False\n",
      "\n",
      "#-- software parameters --#\n",
      "# Notes:\n",
      "## Use \"Skip\" to skip any step. If no params, just use \"\"\n",
      "## Note: You must skip either metacompass_megahit or metacompass_metaspades (or both)\n",
      "params:\n",
      "  # reads\n",
      "  subsample_reads: 20000000\n",
      "  fastqc_on_raw: \"\"\n",
      "  # assembly\n",
      "  plass: --num-iterations 12 --min-seq-id 0.9\n",
      "  # gene clustering\n",
      "  linclust: --min-seq-id 0.90 -c 0.9 --kmer-per-seq 50\n",
      "  # annotation\n",
      "  eggnog_mapper_jobs: 20    # number of parallel batched jobs \n",
      "  eggnog_mapper: \"\"\n",
      "  eggnog_mapper_annot: \"\"\n",
      "  # pathways\n",
      "  empanada: --abundance_threshold 0.0 \n",
      "  # taxonomy\n",
      "  mmseqs_tax_jobs: 20       # number of parallel batched jobs\n",
      "  mmseqs_tax: -e 1e-5 --max-seqs 200 --lca-ranks \"kingdom:phylum:class:order:family:genus:species\"\n",
      "  # mapping\n",
      "  mmseqs_map: Skip #-s 2 -c 0.9 --cov-mode 2\n",
      "  mmseqs_blast_filter: --qcov 0.95 --seq-id 0.95 --e-value 1e-20\n",
      "  mmseqs_blast_to_bam: --mapq 30\n",
      "  merge_tables: --no-dask    # dask is currently broken\n",
      "  # formatting for humann2 db\n",
      "  diamond: --evalue 1e-5 --sensitive\n",
      "  diamond_db_to_mem: True\n",
      "\n",
      "#-- snakemake pipeline --#\n",
      "pipeline:\n",
      "  snakemake_folder: ./\n",
      "  script_folder: bin/scripts/\n",
      "  temp_folder: /tmp/global/\n"
     ]
    }
   ],
   "source": [
    "cat_file(file.path(work_dir, 'config.yaml'))"
   ]
  },
  {
   "cell_type": "markdown",
   "metadata": {},
   "source": [
    "### Run"
   ]
  },
  {
   "cell_type": "markdown",
   "metadata": {},
   "source": [
    "```{bash}\n",
    "(snakemake_dev) @ rick:/ebio/abt3_projects/methanogen_host_evo/bin/llmgag\n",
    "$ screen -L -S llmgag-PRJNA476660 ./snakemake_sge.sh /ebio/abt3_projects/Georg_animal_feces/data/metagenome/multi-study/BioProjects/PRJNA476660/LLMGAG/config.yaml cluster.json /ebio/abt3_projects/Georg_animal_feces/data/metagenome/multi-study/BioProjects/PRJNA476660/LLMGAG/SGE_log 24\n",
    "```"
   ]
  },
  {
   "cell_type": "code",
   "execution_count": 5,
   "metadata": {
    "ExecuteTime": {
     "end_time": "2019-09-29T18:37:24.676895Z",
     "start_time": "2019-09-29T18:37:24.511Z"
    }
   },
   "outputs": [
    {
     "name": "stdout",
     "output_type": "stream",
     "text": [
      "LLMGAG\n",
      "======\n",
      "\n",
      "Ley Lab Metagenome Assembly of Genes (LLMGAG)\n",
      "\n",
      "* Version: 0.1.3\n",
      "* Authors:\n",
      "  * Nick Youngblut <nyoungb2@gmail.com>\n",
      "* Maintainers:\n",
      "  * Nick Youngblut <nyoungb2@gmail.com>\n",
      "\n",
      "--- conda envs ---\n",
      "==> /ebio/abt3_projects/methanogen_host_evo/bin/llmgag/bin/envs/annotate.yaml <==\n",
      "channels: !!python/tuple\n",
      "- bioconda\n",
      "dependencies:\n",
      "- pigz\n",
      "- bioconda::fasta-splitter\n",
      "- bioconda::eggnog-mapper\n",
      "\n",
      "==> /ebio/abt3_projects/methanogen_host_evo/bin/llmgag/bin/envs/checkm.yaml <==\n",
      "channels: !!python/tuple\n",
      "- bioconda\n",
      "dependencies:\n",
      "- python=2\n",
      "- pigz\n",
      "- bioconda::prodigal\n",
      "- bioconda::pplacer\n",
      "- bioconda::checkm-genome\n",
      "\n",
      "==> /ebio/abt3_projects/methanogen_host_evo/bin/llmgag/bin/envs/das_tool.yaml <==\n",
      "channels: !!python/tuple\n",
      "- r\n",
      "- bioconda\n",
      "dependencies:\n",
      "- pigz\n",
      "- ruby\n",
      "- r::r-base\n",
      "- r::r-data.table\n",
      "- r::r-domc\n",
      "- r::r-ggplot2\n",
      "- bioconda::pullseq\n",
      "- bioconda::prodigal\n",
      "- bioconda::blast\n",
      "- bioconda::diamond\n",
      "==> /ebio/abt3_projects/methanogen_host_evo/bin/llmgag/bin/envs/dask.yaml <==\n",
      "channels: !!python/tuple\n",
      "- conda-forge\n",
      "dependencies:\n",
      "- conda-forge::dask=0.18.1\n",
      "\n",
      "==> /ebio/abt3_projects/methanogen_host_evo/bin/llmgag/bin/envs/empanda.yaml <==\n",
      "channels: !!python/tuple\n",
      "- bioconda\n",
      "- conda-forge\n",
      "dependencies:\n",
      "- pigz\n",
      "- conda-forge::numpy=1.15\n",
      "- conda-forge::pandas\n",
      "- conda-forge::r-argparse\n",
      "- conda-forge::r-dplyr\n",
      "- conda-forge::r-tidyr\n",
      "- conda-forge::r-stringr\n",
      "- conda-forge::r-data.table\n",
      "- pip:\n",
      "  - empanada\n",
      "\n",
      "==> /ebio/abt3_projects/methanogen_host_evo/bin/llmgag/bin/envs/hadley.yaml <==\n",
      "channels: !!python/tuple\n",
      "- conda-forge\n",
      "dependencies:\n",
      "- conda-forge::r-ape\n",
      "- conda-forge::r-dplyr\n",
      "- conda-forge::r-tidyr\n",
      "- conda-forge::r-ggplot2\n",
      "\n",
      "==> /ebio/abt3_projects/methanogen_host_evo/bin/llmgag/bin/envs/humann2.yaml <==\n",
      "channels: !!python/tuple\n",
      "- bioconda\n",
      "dependencies:\n",
      "- pigz\n",
      "- bioconda::prodigal\n",
      "- bioconda::diamond=0.8.36\n",
      "\n",
      "==> /ebio/abt3_projects/methanogen_host_evo/bin/llmgag/bin/envs/metabat2.yaml <==\n",
      "channels: !!python/tuple\n",
      "- BioBuilds\n",
      "- bioconda\n",
      "dependencies:\n",
      "- pigz\n",
      "- python=2.7\n",
      "- BioBuilds::boost>=1.55.0\n",
      "- scons>=2.1.0\n",
      "- zlib>=1.2.4\n",
      "- BioBuilds::binutils>=2.2.2\n",
      "\n",
      "==> /ebio/abt3_projects/methanogen_host_evo/bin/llmgag/bin/envs/multiqc.yaml <==\n",
      "channels: !!python/tuple\n",
      "- bioconda\n",
      "dependencies:\n",
      "- bioconda::fastqc\n",
      "- bioconda::multiqc\n",
      "\n",
      "==> /ebio/abt3_projects/methanogen_host_evo/bin/llmgag/bin/envs/plass.yaml <==\n",
      "channels: !!python/tuple\n",
      "- bioconda\n",
      "dependencies:\n",
      "- pigz\n",
      "- bioconda::seqtk\n",
      "- bioconda::samtools\n",
      "- bioconda::mmseqs2\n",
      "- bioconda::plass\n",
      "\n",
      "==> /ebio/abt3_projects/methanogen_host_evo/bin/llmgag/bin/envs/sourmash.yaml <==\n",
      "channels: !!python/tuple\n",
      "- bioconda\n",
      "dependencies:\n",
      "- bioconda::sourmash=2.0.0a9\n",
      "\n",
      "==> /ebio/abt3_projects/methanogen_host_evo/bin/llmgag/bin/envs/vamb.yaml <==\n",
      "channels: !!python/tuple\n",
      "- bioconda\n",
      "- conda-forge\n",
      "dependencies:\n",
      "- pigz\n",
      "- pytorch\n",
      "- numpy\n",
      "- pysam"
     ]
    }
   ],
   "source": [
    "pipelineInfo(pipeline_dir)"
   ]
  },
  {
   "cell_type": "markdown",
   "metadata": {},
   "source": [
    "# Summary"
   ]
  },
  {
   "cell_type": "markdown",
   "metadata": {},
   "source": [
    "## Number of genes assembled & clustered"
   ]
  },
  {
   "cell_type": "code",
   "execution_count": 7,
   "metadata": {
    "ExecuteTime": {
     "end_time": "2019-09-30T06:36:20.353490Z",
     "start_time": "2019-09-30T06:36:08.821Z"
    }
   },
   "outputs": [
    {
     "name": "stdout",
     "output_type": "stream",
     "text": [
      "Number of assembled sequences: 28740865 \n"
     ]
    }
   ],
   "source": [
    "F = file.path(work_dir, 'assembly', 'plass', 'genes.faa')\n",
    "cmd = glue::glue('grep -c \">\" {fasta}', fasta=F)\n",
    "n_raw_seqs = system(cmd, intern=TRUE)\n",
    "cat('Number of assembled sequences:', n_raw_seqs, '\\n')"
   ]
  },
  {
   "cell_type": "code",
   "execution_count": 8,
   "metadata": {
    "ExecuteTime": {
     "end_time": "2019-09-30T06:36:20.461953Z",
     "start_time": "2019-09-30T06:36:09.276Z"
    }
   },
   "outputs": [
    {
     "name": "stdout",
     "output_type": "stream",
     "text": [
      "Number of cluster rep sequences: 252663 \n"
     ]
    }
   ],
   "source": [
    "F = file.path(work_dir, 'cluster', 'linclust', 'clusters_rep-seqs.faa')\n",
    "cmd = glue::glue('grep -c \">\" {fasta}', fasta=F)\n",
    "n_rep_seqs = system(cmd, intern=TRUE)\n",
    "cat('Number of cluster rep sequences:', n_rep_seqs, '\\n')"
   ]
  },
  {
   "cell_type": "code",
   "execution_count": 9,
   "metadata": {
    "ExecuteTime": {
     "end_time": "2019-09-30T06:36:21.024540Z",
     "start_time": "2019-09-30T06:36:09.540Z"
    }
   },
   "outputs": [
    {
     "name": "stdout",
     "output_type": "stream",
     "text": [
      "Number of humann2_db-formatted seqs: 84931 \n"
     ]
    }
   ],
   "source": [
    "F = file.path(work_dir, 'humann2_db', 'clusters_rep-seqs.faa.gz')\n",
    "cmd = glue::glue('gunzip -c {fasta} | grep -c \">\"', fasta=F)\n",
    "n_h2_seqs = system(cmd, intern=TRUE)\n",
    "cat('Number of humann2_db-formatted seqs:', n_h2_seqs, '\\n')"
   ]
  },
  {
   "cell_type": "markdown",
   "metadata": {},
   "source": [
    "## Taxonomy"
   ]
  },
  {
   "cell_type": "code",
   "execution_count": 10,
   "metadata": {
    "ExecuteTime": {
     "end_time": "2019-09-30T06:36:26.101080Z",
     "start_time": "2019-09-30T06:36:11.995Z"
    }
   },
   "outputs": [
    {
     "name": "stderr",
     "output_type": "stream",
     "text": [
      "Warning message:\n",
      "“Expected 7 pieces. Additional pieces discarded in 16523 rows [15, 18, 19, 20, 23, 27, 49, 61, 70, 73, 89, 93, 98, 110, 138, 147, 196, 213, 232, 248, ...].”Warning message:\n",
      "“Expected 7 pieces. Missing pieces filled with `NA` in 66377 rows [2, 7, 13, 16, 21, 30, 31, 35, 40, 41, 43, 45, 46, 52, 53, 58, 59, 60, 65, 68, ...].”"
     ]
    },
    {
     "name": "stdout",
     "output_type": "stream",
     "text": [
      "[1] 252663     11\n"
     ]
    },
    {
     "data": {
      "text/html": [
       "<table>\n",
       "<thead><tr><th scope=col>seqID</th><th scope=col>taxID</th><th scope=col>rank</th><th scope=col>spp</th><th scope=col>Domain</th><th scope=col>Phylum</th><th scope=col>Class</th><th scope=col>Order</th><th scope=col>Family</th><th scope=col>Genus</th><th scope=col>Species</th></tr></thead>\n",
       "<tbody>\n",
       "\t<tr><td>b0102721230d4376b589c3f14f6082af</td><td>469590                          </td><td>species                         </td><td>Bacteroides sp. 2_2_4           </td><td>unknown                         </td><td>Bacteroidetes                   </td><td>Bacteroidia                     </td><td>Bacteroidales                   </td><td>Bacteroidaceae                  </td><td>Bacteroides                     </td><td>Bacteroides sp. 2_2_4           </td></tr>\n",
       "\t<tr><td>7dff3919897e42868519e873fece19d7</td><td>     0                          </td><td>no rank                         </td><td>unclassified                    </td><td>                                </td><td>NA                              </td><td>NA                              </td><td>NA                              </td><td>NA                              </td><td>NA                              </td><td>NA                              </td></tr>\n",
       "\t<tr><td>e198c61a1bb140e48b87d5bab3c4227e</td><td> 28901                          </td><td>species                         </td><td>Salmonella enterica             </td><td>unknown                         </td><td>Proteobacteria                  </td><td>Gammaproteobacteria             </td><td>Enterobacterales                </td><td>Enterobacteriaceae              </td><td>Salmonella                      </td><td>Salmonella enterica             </td></tr>\n",
       "</tbody>\n",
       "</table>\n"
      ],
      "text/latex": [
       "\\begin{tabular}{r|lllllllllll}\n",
       " seqID & taxID & rank & spp & Domain & Phylum & Class & Order & Family & Genus & Species\\\\\n",
       "\\hline\n",
       "\t b0102721230d4376b589c3f14f6082af & 469590                           & species                          & Bacteroides sp. 2\\_2\\_4        & unknown                          & Bacteroidetes                    & Bacteroidia                      & Bacteroidales                    & Bacteroidaceae                   & Bacteroides                      & Bacteroides sp. 2\\_2\\_4       \\\\\n",
       "\t 7dff3919897e42868519e873fece19d7 &      0                           & no rank                          & unclassified                     &                                  & NA                               & NA                               & NA                               & NA                               & NA                               & NA                              \\\\\n",
       "\t e198c61a1bb140e48b87d5bab3c4227e &  28901                           & species                          & Salmonella enterica              & unknown                          & Proteobacteria                   & Gammaproteobacteria              & Enterobacterales                 & Enterobacteriaceae               & Salmonella                       & Salmonella enterica             \\\\\n",
       "\\end{tabular}\n"
      ],
      "text/markdown": [
       "\n",
       "seqID | taxID | rank | spp | Domain | Phylum | Class | Order | Family | Genus | Species | \n",
       "|---|---|---|\n",
       "| b0102721230d4376b589c3f14f6082af | 469590                           | species                          | Bacteroides sp. 2_2_4            | unknown                          | Bacteroidetes                    | Bacteroidia                      | Bacteroidales                    | Bacteroidaceae                   | Bacteroides                      | Bacteroides sp. 2_2_4            | \n",
       "| 7dff3919897e42868519e873fece19d7 |      0                           | no rank                          | unclassified                     |                                  | NA                               | NA                               | NA                               | NA                               | NA                               | NA                               | \n",
       "| e198c61a1bb140e48b87d5bab3c4227e |  28901                           | species                          | Salmonella enterica              | unknown                          | Proteobacteria                   | Gammaproteobacteria              | Enterobacterales                 | Enterobacteriaceae               | Salmonella                       | Salmonella enterica              | \n",
       "\n",
       "\n"
      ],
      "text/plain": [
       "  seqID                            taxID  rank    spp                   Domain \n",
       "1 b0102721230d4376b589c3f14f6082af 469590 species Bacteroides sp. 2_2_4 unknown\n",
       "2 7dff3919897e42868519e873fece19d7      0 no rank unclassified                 \n",
       "3 e198c61a1bb140e48b87d5bab3c4227e  28901 species Salmonella enterica   unknown\n",
       "  Phylum         Class               Order            Family            \n",
       "1 Bacteroidetes  Bacteroidia         Bacteroidales    Bacteroidaceae    \n",
       "2 NA             NA                  NA               NA                \n",
       "3 Proteobacteria Gammaproteobacteria Enterobacterales Enterobacteriaceae\n",
       "  Genus       Species              \n",
       "1 Bacteroides Bacteroides sp. 2_2_4\n",
       "2 NA          NA                   \n",
       "3 Salmonella  Salmonella enterica  "
      ]
     },
     "metadata": {},
     "output_type": "display_data"
    }
   ],
   "source": [
    "# reading in taxonomy table\n",
    "## WARING: slow\n",
    "F = file.path(work_dir, 'taxonomy', 'clusters_rep-seqs_tax_db.tsv.gz')\n",
    "cmd = glue::glue('gunzip -c {file}', file=F) \n",
    "coln = c('seqID', 'taxID', 'rank', 'spp', 'lineage')\n",
    "levs = c('Domain', 'Phylum', 'Class', 'Order', 'Family', 'Genus', 'Species')\n",
    "tax = fread(cmd, sep='\\t', header=FALSE, col.names=coln, fill=TRUE) %>%\n",
    "    separate(lineage, levs, sep=':')\n",
    "tax %>% dfhead"
   ]
  },
  {
   "cell_type": "code",
   "execution_count": 11,
   "metadata": {
    "ExecuteTime": {
     "end_time": "2019-09-30T06:36:26.222249Z",
     "start_time": "2019-09-30T06:36:22.731Z"
    }
   },
   "outputs": [
    {
     "name": "stdout",
     "output_type": "stream",
     "text": [
      "[1] 252663\n"
     ]
    }
   ],
   "source": [
    "# number of sequences\n",
    "tax$seqID %>% unique %>% length %>% print"
   ]
  },
  {
   "cell_type": "code",
   "execution_count": 12,
   "metadata": {
    "ExecuteTime": {
     "end_time": "2019-09-30T06:36:26.293236Z",
     "start_time": "2019-09-30T06:36:22.868Z"
    }
   },
   "outputs": [
    {
     "name": "stdout",
     "output_type": "stream",
     "text": [
      ".\n",
      "        class        family         forma         genus    infraclass \n",
      "          238           248             2           300             2 \n",
      "      kingdom       no rank         order     parvorder        phylum \n",
      "            2        125200           459             1           474 \n",
      "      species species group      subclass     subfamily      subgenus \n",
      "       123976             5             1             2             1 \n",
      "   subspecies   superfamily  superkingdom    superorder      varietas \n",
      "         1270             1           435            11            35 \n"
     ]
    }
   ],
   "source": [
    "# which ranks found?\n",
    "tax$rank %>% table %>% print"
   ]
  },
  {
   "cell_type": "code",
   "execution_count": 13,
   "metadata": {
    "ExecuteTime": {
     "end_time": "2019-09-30T06:36:33.334976Z",
     "start_time": "2019-09-30T06:36:23.020Z"
    }
   },
   "outputs": [
    {
     "data": {
      "text/plain": [
       "   Min. 1st Qu.  Median    Mean 3rd Qu.    Max. \n",
       "      1       1       1       1       1       1 "
      ]
     },
     "metadata": {},
     "output_type": "display_data"
    }
   ],
   "source": [
    "# number of classifications per seqID\n",
    "tax %>%\n",
    "    group_by(seqID) %>%\n",
    "    summarize(n = n()) %>%\n",
    "    ungroup() %>%\n",
    "    .$n %>% summary"
   ]
  },
  {
   "cell_type": "markdown",
   "metadata": {},
   "source": [
    "### Summary"
   ]
  },
  {
   "cell_type": "code",
   "execution_count": 14,
   "metadata": {
    "ExecuteTime": {
     "end_time": "2019-09-30T06:36:33.854022Z",
     "start_time": "2019-09-30T06:36:28.401Z"
    }
   },
   "outputs": [
    {
     "name": "stdout",
     "output_type": "stream",
     "text": [
      "[1] 112   3\n"
     ]
    },
    {
     "data": {
      "text/html": [
       "<table>\n",
       "<thead><tr><th scope=col>Domain</th><th scope=col>Phylum</th><th scope=col>n</th></tr></thead>\n",
       "<tbody>\n",
       "\t<tr><td>Fungi          </td><td>Ascomycota     </td><td>2060           </td></tr>\n",
       "\t<tr><td>Fungi          </td><td>Basidiomycota  </td><td>   5           </td></tr>\n",
       "\t<tr><td>Fungi          </td><td>Chytridiomycota</td><td>  21           </td></tr>\n",
       "</tbody>\n",
       "</table>\n"
      ],
      "text/latex": [
       "\\begin{tabular}{r|lll}\n",
       " Domain & Phylum & n\\\\\n",
       "\\hline\n",
       "\t Fungi           & Ascomycota      & 2060           \\\\\n",
       "\t Fungi           & Basidiomycota   &    5           \\\\\n",
       "\t Fungi           & Chytridiomycota &   21           \\\\\n",
       "\\end{tabular}\n"
      ],
      "text/markdown": [
       "\n",
       "Domain | Phylum | n | \n",
       "|---|---|---|\n",
       "| Fungi           | Ascomycota      | 2060            | \n",
       "| Fungi           | Basidiomycota   |    5            | \n",
       "| Fungi           | Chytridiomycota |   21            | \n",
       "\n",
       "\n"
      ],
      "text/plain": [
       "  Domain Phylum          n   \n",
       "1 Fungi  Ascomycota      2060\n",
       "2 Fungi  Basidiomycota      5\n",
       "3 Fungi  Chytridiomycota   21"
      ]
     },
     "metadata": {},
     "output_type": "display_data"
    }
   ],
   "source": [
    "# summarizing taxonomy\n",
    "tax_s = tax %>%\n",
    "    filter(Domain != '',\n",
    "           Phylum != '') %>%\n",
    "    group_by(Domain, Phylum) %>%\n",
    "    summarize(n = seqID %>% unique %>% length) %>%\n",
    "    ungroup() \n",
    " \n",
    "tax_s %>% dfhead"
   ]
  },
  {
   "cell_type": "code",
   "execution_count": 15,
   "metadata": {
    "ExecuteTime": {
     "end_time": "2019-09-30T06:36:36.327105Z",
     "start_time": "2019-09-30T06:36:29.083Z"
    },
    "scrolled": false
   },
   "outputs": [
    {
     "data": {
      "image/png": "[encoded data removed]",
      "text/plain": [
       "plot without title"
      ]
     },
     "metadata": {},
     "output_type": "display_data"
    }
   ],
   "source": [
    "# plotting by phylum\n",
    "p = tax_s %>%\n",
    "    filter(n > 10) %>%\n",
    "    mutate(Phylum = Phylum %>% reorder(n)) %>%\n",
    "    ggplot(aes(Phylum, n, fill=Domain)) +\n",
    "    geom_bar(stat='identity', position='dodge') +\n",
    "    scale_y_log10() +\n",
    "    labs(y = 'No. of genes') +\n",
    "    coord_flip() +\n",
    "    theme_bw() +\n",
    "    theme(\n",
    "        axis.text.y = element_text(size=7)\n",
    "    )\n",
    "\n",
    "dims(5,6)\n",
    "plot(p)"
   ]
  },
  {
   "cell_type": "code",
   "execution_count": 16,
   "metadata": {
    "ExecuteTime": {
     "end_time": "2019-09-30T06:36:45.393674Z",
     "start_time": "2019-09-30T06:36:45.256Z"
    }
   },
   "outputs": [
    {
     "data": {
      "text/html": [
       "<table>\n",
       "<thead><tr><th scope=col>Domain</th><th scope=col>Phylum</th><th scope=col>n</th></tr></thead>\n",
       "<tbody>\n",
       "\t<tr><td>unknown                   </td><td>Bacteroidetes             </td><td>61034                     </td></tr>\n",
       "\t<tr><td>unknown                   </td><td>Firmicutes                </td><td>52530                     </td></tr>\n",
       "\t<tr><td>unknown                   </td><td>Proteobacteria            </td><td>50201                     </td></tr>\n",
       "\t<tr><td>unknown                   </td><td>Actinobacteria            </td><td> 9345                     </td></tr>\n",
       "\t<tr><td>unknown                   </td><td>unknown                   </td><td> 2300                     </td></tr>\n",
       "\t<tr><td>Fungi                     </td><td>Ascomycota                </td><td> 2060                     </td></tr>\n",
       "\t<tr><td>Metazoa                   </td><td>Nematoda                  </td><td> 1652                     </td></tr>\n",
       "\t<tr><td>Metazoa                   </td><td>Chordata                  </td><td> 1178                     </td></tr>\n",
       "\t<tr><td>Viridiplantae             </td><td>Streptophyta              </td><td>  817                     </td></tr>\n",
       "\t<tr><td>unknown                   </td><td>Spirochaetes              </td><td>  536                     </td></tr>\n",
       "\t<tr><td>Metazoa                   </td><td>Arthropoda                </td><td>  495                     </td></tr>\n",
       "\t<tr><td>uc_Bacteria               </td><td>uc_Bacteria               </td><td>  426                     </td></tr>\n",
       "\t<tr><td>unknown                   </td><td>Fusobacteria              </td><td>  315                     </td></tr>\n",
       "\t<tr><td>unknown                   </td><td>Verrucomicrobia           </td><td>  302                     </td></tr>\n",
       "\t<tr><td>unknown                   </td><td>Chlamydiae                </td><td>  287                     </td></tr>\n",
       "\t<tr><td>unknown                   </td><td>Euryarchaeota             </td><td>  271                     </td></tr>\n",
       "\t<tr><td>unknown                   </td><td>Chloroflexi               </td><td>  270                     </td></tr>\n",
       "\t<tr><td>unknown                   </td><td>Synergistetes             </td><td>  244                     </td></tr>\n",
       "\t<tr><td>unknown                   </td><td>Acidobacteria             </td><td>  181                     </td></tr>\n",
       "\t<tr><td>unknown                   </td><td>Planctomycetes            </td><td>  166                     </td></tr>\n",
       "\t<tr><td>unknown                   </td><td>Cyanobacteria             </td><td>  127                     </td></tr>\n",
       "\t<tr><td>unknown                   </td><td>Tenericutes               </td><td>  101                     </td></tr>\n",
       "\t<tr><td>unknown                   </td><td>Thermotogae               </td><td>   93                     </td></tr>\n",
       "\t<tr><td>unknown                   </td><td>Nitrospirae               </td><td>   79                     </td></tr>\n",
       "\t<tr><td>unknown                   </td><td>Deferribacteres           </td><td>   78                     </td></tr>\n",
       "\t<tr><td>unknown                   </td><td>Lentisphaerae             </td><td>   78                     </td></tr>\n",
       "\t<tr><td>unknown                   </td><td>Chlorobi                  </td><td>   77                     </td></tr>\n",
       "\t<tr><td>unknown                   </td><td>Ignavibacteriae           </td><td>   72                     </td></tr>\n",
       "\t<tr><td>unknown                   </td><td>Aquificae                 </td><td>   59                     </td></tr>\n",
       "\t<tr><td>unknown                   </td><td>Candidatus Melainabacteria</td><td>   59                     </td></tr>\n",
       "</tbody>\n",
       "</table>\n"
      ],
      "text/latex": [
       "\\begin{tabular}{r|lll}\n",
       " Domain & Phylum & n\\\\\n",
       "\\hline\n",
       "\t unknown                    & Bacteroidetes              & 61034                     \\\\\n",
       "\t unknown                    & Firmicutes                 & 52530                     \\\\\n",
       "\t unknown                    & Proteobacteria             & 50201                     \\\\\n",
       "\t unknown                    & Actinobacteria             &  9345                     \\\\\n",
       "\t unknown                    & unknown                    &  2300                     \\\\\n",
       "\t Fungi                      & Ascomycota                 &  2060                     \\\\\n",
       "\t Metazoa                    & Nematoda                   &  1652                     \\\\\n",
       "\t Metazoa                    & Chordata                   &  1178                     \\\\\n",
       "\t Viridiplantae              & Streptophyta               &   817                     \\\\\n",
       "\t unknown                    & Spirochaetes               &   536                     \\\\\n",
       "\t Metazoa                    & Arthropoda                 &   495                     \\\\\n",
       "\t uc\\_Bacteria                & uc\\_Bacteria                &   426                       \\\\\n",
       "\t unknown                    & Fusobacteria               &   315                     \\\\\n",
       "\t unknown                    & Verrucomicrobia            &   302                     \\\\\n",
       "\t unknown                    & Chlamydiae                 &   287                     \\\\\n",
       "\t unknown                    & Euryarchaeota              &   271                     \\\\\n",
       "\t unknown                    & Chloroflexi                &   270                     \\\\\n",
       "\t unknown                    & Synergistetes              &   244                     \\\\\n",
       "\t unknown                    & Acidobacteria              &   181                     \\\\\n",
       "\t unknown                    & Planctomycetes             &   166                     \\\\\n",
       "\t unknown                    & Cyanobacteria              &   127                     \\\\\n",
       "\t unknown                    & Tenericutes                &   101                     \\\\\n",
       "\t unknown                    & Thermotogae                &    93                     \\\\\n",
       "\t unknown                    & Nitrospirae                &    79                     \\\\\n",
       "\t unknown                    & Deferribacteres            &    78                     \\\\\n",
       "\t unknown                    & Lentisphaerae              &    78                     \\\\\n",
       "\t unknown                    & Chlorobi                   &    77                     \\\\\n",
       "\t unknown                    & Ignavibacteriae            &    72                     \\\\\n",
       "\t unknown                    & Aquificae                  &    59                     \\\\\n",
       "\t unknown                    & Candidatus Melainabacteria &    59                     \\\\\n",
       "\\end{tabular}\n"
      ],
      "text/markdown": [
       "\n",
       "Domain | Phylum | n | \n",
       "|---|---|---|---|---|---|---|---|---|---|---|---|---|---|---|---|---|---|---|---|---|---|---|---|---|---|---|---|---|---|\n",
       "| unknown                    | Bacteroidetes              | 61034                      | \n",
       "| unknown                    | Firmicutes                 | 52530                      | \n",
       "| unknown                    | Proteobacteria             | 50201                      | \n",
       "| unknown                    | Actinobacteria             |  9345                      | \n",
       "| unknown                    | unknown                    |  2300                      | \n",
       "| Fungi                      | Ascomycota                 |  2060                      | \n",
       "| Metazoa                    | Nematoda                   |  1652                      | \n",
       "| Metazoa                    | Chordata                   |  1178                      | \n",
       "| Viridiplantae              | Streptophyta               |   817                      | \n",
       "| unknown                    | Spirochaetes               |   536                      | \n",
       "| Metazoa                    | Arthropoda                 |   495                      | \n",
       "| uc_Bacteria                | uc_Bacteria                |   426                      | \n",
       "| unknown                    | Fusobacteria               |   315                      | \n",
       "| unknown                    | Verrucomicrobia            |   302                      | \n",
       "| unknown                    | Chlamydiae                 |   287                      | \n",
       "| unknown                    | Euryarchaeota              |   271                      | \n",
       "| unknown                    | Chloroflexi                |   270                      | \n",
       "| unknown                    | Synergistetes              |   244                      | \n",
       "| unknown                    | Acidobacteria              |   181                      | \n",
       "| unknown                    | Planctomycetes             |   166                      | \n",
       "| unknown                    | Cyanobacteria              |   127                      | \n",
       "| unknown                    | Tenericutes                |   101                      | \n",
       "| unknown                    | Thermotogae                |    93                      | \n",
       "| unknown                    | Nitrospirae                |    79                      | \n",
       "| unknown                    | Deferribacteres            |    78                      | \n",
       "| unknown                    | Lentisphaerae              |    78                      | \n",
       "| unknown                    | Chlorobi                   |    77                      | \n",
       "| unknown                    | Ignavibacteriae            |    72                      | \n",
       "| unknown                    | Aquificae                  |    59                      | \n",
       "| unknown                    | Candidatus Melainabacteria |    59                      | \n",
       "\n",
       "\n"
      ],
      "text/plain": [
       "   Domain        Phylum                     n    \n",
       "1  unknown       Bacteroidetes              61034\n",
       "2  unknown       Firmicutes                 52530\n",
       "3  unknown       Proteobacteria             50201\n",
       "4  unknown       Actinobacteria              9345\n",
       "5  unknown       unknown                     2300\n",
       "6  Fungi         Ascomycota                  2060\n",
       "7  Metazoa       Nematoda                    1652\n",
       "8  Metazoa       Chordata                    1178\n",
       "9  Viridiplantae Streptophyta                 817\n",
       "10 unknown       Spirochaetes                 536\n",
       "11 Metazoa       Arthropoda                   495\n",
       "12 uc_Bacteria   uc_Bacteria                  426\n",
       "13 unknown       Fusobacteria                 315\n",
       "14 unknown       Verrucomicrobia              302\n",
       "15 unknown       Chlamydiae                   287\n",
       "16 unknown       Euryarchaeota                271\n",
       "17 unknown       Chloroflexi                  270\n",
       "18 unknown       Synergistetes                244\n",
       "19 unknown       Acidobacteria                181\n",
       "20 unknown       Planctomycetes               166\n",
       "21 unknown       Cyanobacteria                127\n",
       "22 unknown       Tenericutes                  101\n",
       "23 unknown       Thermotogae                   93\n",
       "24 unknown       Nitrospirae                   79\n",
       "25 unknown       Deferribacteres               78\n",
       "26 unknown       Lentisphaerae                 78\n",
       "27 unknown       Chlorobi                      77\n",
       "28 unknown       Ignavibacteriae               72\n",
       "29 unknown       Aquificae                     59\n",
       "30 unknown       Candidatus Melainabacteria    59"
      ]
     },
     "metadata": {},
     "output_type": "display_data"
    }
   ],
   "source": [
    "# top phyla\n",
    "tax_s %>% \n",
    "    arrange(-n) %>%\n",
    "    head(n=30)"
   ]
  },
  {
   "cell_type": "code",
   "execution_count": 17,
   "metadata": {
    "ExecuteTime": {
     "end_time": "2019-09-30T06:36:45.879998Z",
     "start_time": "2019-09-30T06:36:45.397Z"
    }
   },
   "outputs": [
    {
     "name": "stdout",
     "output_type": "stream",
     "text": [
      "[1] 220   4\n"
     ]
    },
    {
     "data": {
      "text/html": [
       "<table>\n",
       "<thead><tr><th scope=col>Domain</th><th scope=col>Phylum</th><th scope=col>Class</th><th scope=col>n</th></tr></thead>\n",
       "<tbody>\n",
       "\t<tr><td>Fungi          </td><td>Ascomycota     </td><td>Dothideomycetes</td><td> 2             </td></tr>\n",
       "\t<tr><td>Fungi          </td><td>Ascomycota     </td><td>Eurotiomycetes </td><td>23             </td></tr>\n",
       "\t<tr><td>Fungi          </td><td>Ascomycota     </td><td>Leotiomycetes  </td><td> 2             </td></tr>\n",
       "</tbody>\n",
       "</table>\n"
      ],
      "text/latex": [
       "\\begin{tabular}{r|llll}\n",
       " Domain & Phylum & Class & n\\\\\n",
       "\\hline\n",
       "\t Fungi           & Ascomycota      & Dothideomycetes &  2             \\\\\n",
       "\t Fungi           & Ascomycota      & Eurotiomycetes  & 23             \\\\\n",
       "\t Fungi           & Ascomycota      & Leotiomycetes   &  2             \\\\\n",
       "\\end{tabular}\n"
      ],
      "text/markdown": [
       "\n",
       "Domain | Phylum | Class | n | \n",
       "|---|---|---|\n",
       "| Fungi           | Ascomycota      | Dothideomycetes |  2              | \n",
       "| Fungi           | Ascomycota      | Eurotiomycetes  | 23              | \n",
       "| Fungi           | Ascomycota      | Leotiomycetes   |  2              | \n",
       "\n",
       "\n"
      ],
      "text/plain": [
       "  Domain Phylum     Class           n \n",
       "1 Fungi  Ascomycota Dothideomycetes  2\n",
       "2 Fungi  Ascomycota Eurotiomycetes  23\n",
       "3 Fungi  Ascomycota Leotiomycetes    2"
      ]
     },
     "metadata": {},
     "output_type": "display_data"
    }
   ],
   "source": [
    "# summarizing taxonomy\n",
    "tax_s = tax %>%\n",
    "    filter(Domain != '',\n",
    "           Phylum != '',\n",
    "           Class != '') %>%\n",
    "    group_by(Domain, Phylum, Class) %>%\n",
    "    summarize(n = seqID %>% unique %>% length) %>%\n",
    "    ungroup() \n",
    " \n",
    "tax_s %>% dfhead"
   ]
  },
  {
   "cell_type": "code",
   "execution_count": 18,
   "metadata": {
    "ExecuteTime": {
     "end_time": "2019-09-30T06:36:46.007606Z",
     "start_time": "2019-09-30T06:36:45.522Z"
    }
   },
   "outputs": [
    {
     "data": {
      "text/html": [
       "<table>\n",
       "<thead><tr><th scope=col>Domain</th><th scope=col>Phylum</th><th scope=col>Class</th><th scope=col>n</th></tr></thead>\n",
       "<tbody>\n",
       "\t<tr><td>unknown            </td><td>Bacteroidetes      </td><td>Bacteroidia        </td><td>53808              </td></tr>\n",
       "\t<tr><td>unknown            </td><td>Proteobacteria     </td><td>Gammaproteobacteria</td><td>37202              </td></tr>\n",
       "\t<tr><td>unknown            </td><td>Firmicutes         </td><td>Clostridia         </td><td>34878              </td></tr>\n",
       "\t<tr><td>unknown            </td><td>Firmicutes         </td><td>Bacilli            </td><td> 9678              </td></tr>\n",
       "\t<tr><td>unknown            </td><td>Proteobacteria     </td><td>Deltaproteobacteria</td><td> 9030              </td></tr>\n",
       "\t<tr><td>unknown            </td><td>Actinobacteria     </td><td>Actinobacteria     </td><td> 7041              </td></tr>\n",
       "\t<tr><td>unknown            </td><td>Firmicutes         </td><td>Negativicutes      </td><td> 4769              </td></tr>\n",
       "\t<tr><td>unknown            </td><td>unknown            </td><td>unknown            </td><td> 2266              </td></tr>\n",
       "\t<tr><td>unknown            </td><td>Bacteroidetes      </td><td>unknown            </td><td> 2156              </td></tr>\n",
       "\t<tr><td>unknown            </td><td>Actinobacteria     </td><td>Coriobacteriia     </td><td> 2136              </td></tr>\n",
       "\t<tr><td>unknown            </td><td>Proteobacteria     </td><td>Betaproteobacteria </td><td> 2057              </td></tr>\n",
       "\t<tr><td>Fungi              </td><td>Ascomycota         </td><td>Sordariomycetes    </td><td> 2020              </td></tr>\n",
       "\t<tr><td>unknown            </td><td>Firmicutes         </td><td>unknown            </td><td> 1813              </td></tr>\n",
       "\t<tr><td>unknown            </td><td>Bacteroidetes      </td><td>Flavobacteriia     </td><td> 1620              </td></tr>\n",
       "\t<tr><td>unknown            </td><td>Proteobacteria     </td><td>Alphaproteobacteria</td><td> 1405              </td></tr>\n",
       "\t<tr><td>unknown            </td><td>Bacteroidetes      </td><td>Sphingobacteriia   </td><td> 1287              </td></tr>\n",
       "\t<tr><td>unknown            </td><td>Bacteroidetes      </td><td>Cytophagia         </td><td> 1226              </td></tr>\n",
       "\t<tr><td>Metazoa            </td><td>Nematoda           </td><td>Enoplea            </td><td> 1146              </td></tr>\n",
       "\t<tr><td>Metazoa            </td><td>Chordata           </td><td>Mammalia           </td><td> 1038              </td></tr>\n",
       "\t<tr><td>unknown            </td><td>Firmicutes         </td><td>Erysipelotrichia   </td><td>  935              </td></tr>\n",
       "\t<tr><td>Viridiplantae      </td><td>Streptophyta       </td><td>unknown            </td><td>  635              </td></tr>\n",
       "\t<tr><td>unknown            </td><td>Bacteroidetes      </td><td>Chitinophagia      </td><td>  555              </td></tr>\n",
       "\t<tr><td>Metazoa            </td><td>Nematoda           </td><td>Chromadorea        </td><td>  506              </td></tr>\n",
       "\t<tr><td>uc_Bacteria        </td><td>uc_Bacteria        </td><td>uc_Bacteria        </td><td>  426              </td></tr>\n",
       "\t<tr><td>unknown            </td><td>Spirochaetes       </td><td>Spirochaetia       </td><td>  418              </td></tr>\n",
       "\t<tr><td>unknown            </td><td>Firmicutes         </td><td>Tissierellia       </td><td>  335              </td></tr>\n",
       "\t<tr><td>unknown            </td><td>Fusobacteria       </td><td>Fusobacteriia      </td><td>  315              </td></tr>\n",
       "\t<tr><td>Metazoa            </td><td>Arthropoda         </td><td>Insecta            </td><td>  306              </td></tr>\n",
       "\t<tr><td>unknown            </td><td>Chlamydiae         </td><td>Chlamydiia         </td><td>  287              </td></tr>\n",
       "\t<tr><td>unknown            </td><td>Bacteroidetes      </td><td>uc_Bacteroidetes   </td><td>  256              </td></tr>\n",
       "</tbody>\n",
       "</table>\n"
      ],
      "text/latex": [
       "\\begin{tabular}{r|llll}\n",
       " Domain & Phylum & Class & n\\\\\n",
       "\\hline\n",
       "\t unknown             & Bacteroidetes       & Bacteroidia         & 53808              \\\\\n",
       "\t unknown             & Proteobacteria      & Gammaproteobacteria & 37202              \\\\\n",
       "\t unknown             & Firmicutes          & Clostridia          & 34878              \\\\\n",
       "\t unknown             & Firmicutes          & Bacilli             &  9678              \\\\\n",
       "\t unknown             & Proteobacteria      & Deltaproteobacteria &  9030              \\\\\n",
       "\t unknown             & Actinobacteria      & Actinobacteria      &  7041              \\\\\n",
       "\t unknown             & Firmicutes          & Negativicutes       &  4769              \\\\\n",
       "\t unknown             & unknown             & unknown             &  2266              \\\\\n",
       "\t unknown             & Bacteroidetes       & unknown             &  2156              \\\\\n",
       "\t unknown             & Actinobacteria      & Coriobacteriia      &  2136              \\\\\n",
       "\t unknown             & Proteobacteria      & Betaproteobacteria  &  2057              \\\\\n",
       "\t Fungi               & Ascomycota          & Sordariomycetes     &  2020              \\\\\n",
       "\t unknown             & Firmicutes          & unknown             &  1813              \\\\\n",
       "\t unknown             & Bacteroidetes       & Flavobacteriia      &  1620              \\\\\n",
       "\t unknown             & Proteobacteria      & Alphaproteobacteria &  1405              \\\\\n",
       "\t unknown             & Bacteroidetes       & Sphingobacteriia    &  1287              \\\\\n",
       "\t unknown             & Bacteroidetes       & Cytophagia          &  1226              \\\\\n",
       "\t Metazoa             & Nematoda            & Enoplea             &  1146              \\\\\n",
       "\t Metazoa             & Chordata            & Mammalia            &  1038              \\\\\n",
       "\t unknown             & Firmicutes          & Erysipelotrichia    &   935              \\\\\n",
       "\t Viridiplantae       & Streptophyta        & unknown             &   635              \\\\\n",
       "\t unknown             & Bacteroidetes       & Chitinophagia       &   555              \\\\\n",
       "\t Metazoa             & Nematoda            & Chromadorea         &   506              \\\\\n",
       "\t uc\\_Bacteria         & uc\\_Bacteria         & uc\\_Bacteria         &   426                \\\\\n",
       "\t unknown             & Spirochaetes        & Spirochaetia        &   418              \\\\\n",
       "\t unknown             & Firmicutes          & Tissierellia        &   335              \\\\\n",
       "\t unknown             & Fusobacteria        & Fusobacteriia       &   315              \\\\\n",
       "\t Metazoa             & Arthropoda          & Insecta             &   306              \\\\\n",
       "\t unknown             & Chlamydiae          & Chlamydiia          &   287              \\\\\n",
       "\t unknown               & Bacteroidetes         & uc\\_Bacteroidetes    &   256                \\\\\n",
       "\\end{tabular}\n"
      ],
      "text/markdown": [
       "\n",
       "Domain | Phylum | Class | n | \n",
       "|---|---|---|---|---|---|---|---|---|---|---|---|---|---|---|---|---|---|---|---|---|---|---|---|---|---|---|---|---|---|\n",
       "| unknown             | Bacteroidetes       | Bacteroidia         | 53808               | \n",
       "| unknown             | Proteobacteria      | Gammaproteobacteria | 37202               | \n",
       "| unknown             | Firmicutes          | Clostridia          | 34878               | \n",
       "| unknown             | Firmicutes          | Bacilli             |  9678               | \n",
       "| unknown             | Proteobacteria      | Deltaproteobacteria |  9030               | \n",
       "| unknown             | Actinobacteria      | Actinobacteria      |  7041               | \n",
       "| unknown             | Firmicutes          | Negativicutes       |  4769               | \n",
       "| unknown             | unknown             | unknown             |  2266               | \n",
       "| unknown             | Bacteroidetes       | unknown             |  2156               | \n",
       "| unknown             | Actinobacteria      | Coriobacteriia      |  2136               | \n",
       "| unknown             | Proteobacteria      | Betaproteobacteria  |  2057               | \n",
       "| Fungi               | Ascomycota          | Sordariomycetes     |  2020               | \n",
       "| unknown             | Firmicutes          | unknown             |  1813               | \n",
       "| unknown             | Bacteroidetes       | Flavobacteriia      |  1620               | \n",
       "| unknown             | Proteobacteria      | Alphaproteobacteria |  1405               | \n",
       "| unknown             | Bacteroidetes       | Sphingobacteriia    |  1287               | \n",
       "| unknown             | Bacteroidetes       | Cytophagia          |  1226               | \n",
       "| Metazoa             | Nematoda            | Enoplea             |  1146               | \n",
       "| Metazoa             | Chordata            | Mammalia            |  1038               | \n",
       "| unknown             | Firmicutes          | Erysipelotrichia    |   935               | \n",
       "| Viridiplantae       | Streptophyta        | unknown             |   635               | \n",
       "| unknown             | Bacteroidetes       | Chitinophagia       |   555               | \n",
       "| Metazoa             | Nematoda            | Chromadorea         |   506               | \n",
       "| uc_Bacteria         | uc_Bacteria         | uc_Bacteria         |   426               | \n",
       "| unknown             | Spirochaetes        | Spirochaetia        |   418               | \n",
       "| unknown             | Firmicutes          | Tissierellia        |   335               | \n",
       "| unknown             | Fusobacteria        | Fusobacteriia       |   315               | \n",
       "| Metazoa             | Arthropoda          | Insecta             |   306               | \n",
       "| unknown             | Chlamydiae          | Chlamydiia          |   287               | \n",
       "| unknown             | Bacteroidetes       | uc_Bacteroidetes    |   256               | \n",
       "\n",
       "\n"
      ],
      "text/plain": [
       "   Domain        Phylum         Class               n    \n",
       "1  unknown       Bacteroidetes  Bacteroidia         53808\n",
       "2  unknown       Proteobacteria Gammaproteobacteria 37202\n",
       "3  unknown       Firmicutes     Clostridia          34878\n",
       "4  unknown       Firmicutes     Bacilli              9678\n",
       "5  unknown       Proteobacteria Deltaproteobacteria  9030\n",
       "6  unknown       Actinobacteria Actinobacteria       7041\n",
       "7  unknown       Firmicutes     Negativicutes        4769\n",
       "8  unknown       unknown        unknown              2266\n",
       "9  unknown       Bacteroidetes  unknown              2156\n",
       "10 unknown       Actinobacteria Coriobacteriia       2136\n",
       "11 unknown       Proteobacteria Betaproteobacteria   2057\n",
       "12 Fungi         Ascomycota     Sordariomycetes      2020\n",
       "13 unknown       Firmicutes     unknown              1813\n",
       "14 unknown       Bacteroidetes  Flavobacteriia       1620\n",
       "15 unknown       Proteobacteria Alphaproteobacteria  1405\n",
       "16 unknown       Bacteroidetes  Sphingobacteriia     1287\n",
       "17 unknown       Bacteroidetes  Cytophagia           1226\n",
       "18 Metazoa       Nematoda       Enoplea              1146\n",
       "19 Metazoa       Chordata       Mammalia             1038\n",
       "20 unknown       Firmicutes     Erysipelotrichia      935\n",
       "21 Viridiplantae Streptophyta   unknown               635\n",
       "22 unknown       Bacteroidetes  Chitinophagia         555\n",
       "23 Metazoa       Nematoda       Chromadorea           506\n",
       "24 uc_Bacteria   uc_Bacteria    uc_Bacteria           426\n",
       "25 unknown       Spirochaetes   Spirochaetia          418\n",
       "26 unknown       Firmicutes     Tissierellia          335\n",
       "27 unknown       Fusobacteria   Fusobacteriia         315\n",
       "28 Metazoa       Arthropoda     Insecta               306\n",
       "29 unknown       Chlamydiae     Chlamydiia            287\n",
       "30 unknown       Bacteroidetes  uc_Bacteroidetes      256"
      ]
     },
     "metadata": {},
     "output_type": "display_data"
    }
   ],
   "source": [
    "# top hits\n",
    "tax_s %>% \n",
    "    arrange(-n) %>%\n",
    "    head(n=30)"
   ]
  },
  {
   "cell_type": "markdown",
   "metadata": {},
   "source": [
    "## Annotations"
   ]
  },
  {
   "cell_type": "code",
   "execution_count": 19,
   "metadata": {
    "ExecuteTime": {
     "end_time": "2019-09-30T06:36:46.649182Z",
     "start_time": "2019-09-30T06:36:46.610Z"
    }
   },
   "outputs": [],
   "source": [
    "# eggnog-mapper v2\n",
    "cols = c(\n",
    "\"query_name\",\n",
    "\"seed_eggNOG_ortholog\",\n",
    "\"seed_ortholog_evalue\",\n",
    "\"seed_ortholog_score\",\n",
    "\"Predicted_taxonomic_group\",\n",
    "\"Predicted_protein_name\",\n",
    "\"Gene_Ontology_terms\",\n",
    "\"EC_number\",\n",
    "\"KEGG_ko\",\n",
    "\"KEGG_Pathway\",\n",
    "\"KEGG_Module\",\n",
    "\"KEGG_Reaction\",\n",
    "\"KEGG_rclass\",\n",
    "\"BRITE\",\n",
    "\"KEGG_TC\",\n",
    "\"CAZy\",\n",
    "\"BiGG_Reaction\",\n",
    "\"tax_scope__eggNOG_taxonomic_level_used_for_annotation\",\n",
    "\"eggNOG_OGs\",\n",
    "\"bestOG\",\n",
    "\"COG_Functional_Category\",\n",
    "\"eggNOG_free_text_description\"\n",
    ")"
   ]
  },
  {
   "cell_type": "code",
   "execution_count": 20,
   "metadata": {
    "ExecuteTime": {
     "end_time": "2019-09-30T06:36:50.562943Z",
     "start_time": "2019-09-30T06:36:47.043Z"
    }
   },
   "outputs": [
    {
     "name": "stdout",
     "output_type": "stream",
     "text": [
      "[1] 188299     21\n"
     ]
    },
    {
     "data": {
      "text/html": [
       "<table>\n",
       "<thead><tr><th scope=col>query_name</th><th scope=col>seed_eggNOG_ortholog</th><th scope=col>seed_ortholog_evalue</th><th scope=col>seed_ortholog_score</th><th scope=col>Predicted_taxonomic_group</th><th scope=col>Predicted_protein_name</th><th scope=col>EC_number</th><th scope=col>KEGG_ko</th><th scope=col>KEGG_Pathway</th><th scope=col>KEGG_Module</th><th scope=col>⋯</th><th scope=col>KEGG_rclass</th><th scope=col>BRITE</th><th scope=col>KEGG_TC</th><th scope=col>CAZy</th><th scope=col>BiGG_Reaction</th><th scope=col>tax_scope__eggNOG_taxonomic_level_used_for_annotation</th><th scope=col>eggNOG_OGs</th><th scope=col>bestOG</th><th scope=col>COG_Functional_Category</th><th scope=col>eggNOG_free_text_description</th></tr></thead>\n",
       "<tbody>\n",
       "\t<tr><td>f31cbb8a3fb24274b2a47be648d7ec9a                              </td><td>199310.c2650                                                  </td><td>2.2e-260                                                      </td><td>904.4                                                         </td><td>Escherichia                                                   </td><td>yehM                                                          </td><td>                                                              </td><td>                                                              </td><td>                                                              </td><td>                                                              </td><td>⋯                                                             </td><td>                                                              </td><td>                                                              </td><td>                                                              </td><td>                                                              </td><td>                                                              </td><td>Bacteria                                                      </td><td>1QV44@1224,1T27M@1236,3XP4U@561,COG2425@1,COG2425@2           </td><td>NA|NA|NA                                                      </td><td>S                                                             </td><td>protein containing a von Willebrand factor type A (vWA) domain</td></tr>\n",
       "\t<tr><td>fd8a496f955c4b568710a72a874c8a05                              </td><td>1122931.AUAE01000005_gene3222                                 </td><td>6.1e-126                                                      </td><td>456.8                                                         </td><td>Porphyromonadaceae                                            </td><td>                                                              </td><td>                                                              </td><td>ko:K21449                                                     </td><td>                                                              </td><td>                                                              </td><td>⋯                                                             </td><td>                                                              </td><td>ko00000,ko02000                                               </td><td>1.B.40.2                                                      </td><td>                                                              </td><td>                                                              </td><td>Bacteria                                                      </td><td>2315R@171551,2G0YK@200643,4PNU0@976,COG2911@1,COG2911@2       </td><td>NA|NA|NA                                                      </td><td>S                                                             </td><td>Protein conserved in bacteria                                 </td></tr>\n",
       "\t<tr><td>e3b48e505aab4b5c86988ee211d4a56a                              </td><td>1235799.C818_04200                                            </td><td> 2.6e-14                                                      </td><td> 84.0                                                         </td><td>unclassified Lachnospiraceae                                  </td><td>                                                              </td><td>                                                              </td><td>                                                              </td><td>                                                              </td><td>                                                              </td><td>⋯                                                             </td><td>                                                              </td><td>                                                              </td><td>                                                              </td><td>                                                              </td><td>                                                              </td><td>Bacteria                                                      </td><td>1TQNX@1239,2495S@186801,27JNW@186928,COG5545@1,COG5545@2      </td><td>NA|NA|NA                                                      </td><td>S                                                             </td><td>Virulence-associated protein E                                </td></tr>\n",
       "</tbody>\n",
       "</table>\n"
      ],
      "text/latex": [
       "\\begin{tabular}{r|lllllllllllllllllllll}\n",
       " query\\_name & seed\\_eggNOG\\_ortholog & seed\\_ortholog\\_evalue & seed\\_ortholog\\_score & Predicted\\_taxonomic\\_group & Predicted\\_protein\\_name & EC\\_number & KEGG\\_ko & KEGG\\_Pathway & KEGG\\_Module & ⋯ & KEGG\\_rclass & BRITE & KEGG\\_TC & CAZy & BiGG\\_Reaction & tax\\_scope\\_\\_eggNOG\\_taxonomic\\_level\\_used\\_for\\_annotation & eggNOG\\_OGs & bestOG & COG\\_Functional\\_Category & eggNOG\\_free\\_text\\_description\\\\\n",
       "\\hline\n",
       "\t f31cbb8a3fb24274b2a47be648d7ec9a                               & 199310.c2650                                                   & 2.2e-260                                                       & 904.4                                                          & Escherichia                                                    & yehM                                                           &                                                                &                                                                &                                                                &                                                                & ⋯                                                              &                                                                &                                                                &                                                                &                                                                &                                                                & Bacteria                                                       & 1QV44@1224,1T27M@1236,3XP4U@561,COG2425@1,COG2425@2            & NA\\textbar{}NA\\textbar{}NA                                   & S                                                              & protein containing a von Willebrand factor type A (vWA) domain\\\\\n",
       "\t fd8a496f955c4b568710a72a874c8a05                               & 1122931.AUAE01000005\\_gene3222                                & 6.1e-126                                                       & 456.8                                                          & Porphyromonadaceae                                             &                                                                &                                                                & ko:K21449                                                      &                                                                &                                                                & ⋯                                                              &                                                                & ko00000,ko02000                                                & 1.B.40.2                                                       &                                                                &                                                                & Bacteria                                                       & 2315R@171551,2G0YK@200643,4PNU0@976,COG2911@1,COG2911@2        & NA\\textbar{}NA\\textbar{}NA                                   & S                                                              & Protein conserved in bacteria                                 \\\\\n",
       "\t e3b48e505aab4b5c86988ee211d4a56a                               & 1235799.C818\\_04200                                           &  2.6e-14                                                       &  84.0                                                          & unclassified Lachnospiraceae                                   &                                                                &                                                                &                                                                &                                                                &                                                                & ⋯                                                              &                                                                &                                                                &                                                                &                                                                &                                                                & Bacteria                                                       & 1TQNX@1239,2495S@186801,27JNW@186928,COG5545@1,COG5545@2       & NA\\textbar{}NA\\textbar{}NA                                   & S                                                              & Virulence-associated protein E                                \\\\\n",
       "\\end{tabular}\n"
      ],
      "text/markdown": [
       "\n",
       "query_name | seed_eggNOG_ortholog | seed_ortholog_evalue | seed_ortholog_score | Predicted_taxonomic_group | Predicted_protein_name | EC_number | KEGG_ko | KEGG_Pathway | KEGG_Module | ⋯ | KEGG_rclass | BRITE | KEGG_TC | CAZy | BiGG_Reaction | tax_scope__eggNOG_taxonomic_level_used_for_annotation | eggNOG_OGs | bestOG | COG_Functional_Category | eggNOG_free_text_description | \n",
       "|---|---|---|\n",
       "| f31cbb8a3fb24274b2a47be648d7ec9a                               | 199310.c2650                                                   | 2.2e-260                                                       | 904.4                                                          | Escherichia                                                    | yehM                                                           |                                                                |                                                                |                                                                |                                                                | ⋯                                                              |                                                                |                                                                |                                                                |                                                                |                                                                | Bacteria                                                       | 1QV44@1224,1T27M@1236,3XP4U@561,COG2425@1,COG2425@2            | NA|NA|NA                                                       | S                                                              | protein containing a von Willebrand factor type A (vWA) domain | \n",
       "| fd8a496f955c4b568710a72a874c8a05                               | 1122931.AUAE01000005_gene3222                                  | 6.1e-126                                                       | 456.8                                                          | Porphyromonadaceae                                             |                                                                |                                                                | ko:K21449                                                      |                                                                |                                                                | ⋯                                                              |                                                                | ko00000,ko02000                                                | 1.B.40.2                                                       |                                                                |                                                                | Bacteria                                                       | 2315R@171551,2G0YK@200643,4PNU0@976,COG2911@1,COG2911@2        | NA|NA|NA                                                       | S                                                              | Protein conserved in bacteria                                  | \n",
       "| e3b48e505aab4b5c86988ee211d4a56a                               | 1235799.C818_04200                                             |  2.6e-14                                                       |  84.0                                                          | unclassified Lachnospiraceae                                   |                                                                |                                                                |                                                                |                                                                |                                                                | ⋯                                                              |                                                                |                                                                |                                                                |                                                                |                                                                | Bacteria                                                       | 1TQNX@1239,2495S@186801,27JNW@186928,COG5545@1,COG5545@2       | NA|NA|NA                                                       | S                                                              | Virulence-associated protein E                                 | \n",
       "\n",
       "\n"
      ],
      "text/plain": [
       "  query_name                       seed_eggNOG_ortholog         \n",
       "1 f31cbb8a3fb24274b2a47be648d7ec9a 199310.c2650                 \n",
       "2 fd8a496f955c4b568710a72a874c8a05 1122931.AUAE01000005_gene3222\n",
       "3 e3b48e505aab4b5c86988ee211d4a56a 1235799.C818_04200           \n",
       "  seed_ortholog_evalue seed_ortholog_score Predicted_taxonomic_group   \n",
       "1 2.2e-260             904.4               Escherichia                 \n",
       "2 6.1e-126             456.8               Porphyromonadaceae          \n",
       "3  2.6e-14              84.0               unclassified Lachnospiraceae\n",
       "  Predicted_protein_name EC_number KEGG_ko   KEGG_Pathway KEGG_Module ⋯\n",
       "1 yehM                                                                ⋯\n",
       "2                                  ko:K21449                          ⋯\n",
       "3                                                                     ⋯\n",
       "  KEGG_rclass BRITE           KEGG_TC  CAZy BiGG_Reaction\n",
       "1                                                        \n",
       "2             ko00000,ko02000 1.B.40.2                   \n",
       "3                                                        \n",
       "  tax_scope__eggNOG_taxonomic_level_used_for_annotation\n",
       "1 Bacteria                                             \n",
       "2 Bacteria                                             \n",
       "3 Bacteria                                             \n",
       "  eggNOG_OGs                                               bestOG  \n",
       "1 1QV44@1224,1T27M@1236,3XP4U@561,COG2425@1,COG2425@2      NA|NA|NA\n",
       "2 2315R@171551,2G0YK@200643,4PNU0@976,COG2911@1,COG2911@2  NA|NA|NA\n",
       "3 1TQNX@1239,2495S@186801,27JNW@186928,COG5545@1,COG5545@2 NA|NA|NA\n",
       "  COG_Functional_Category\n",
       "1 S                      \n",
       "2 S                      \n",
       "3 S                      \n",
       "  eggNOG_free_text_description                                  \n",
       "1 protein containing a von Willebrand factor type A (vWA) domain\n",
       "2 Protein conserved in bacteria                                 \n",
       "3 Virulence-associated protein E                                "
      ]
     },
     "metadata": {},
     "output_type": "display_data"
    }
   ],
   "source": [
    "F = file.path(work_dir, 'annotate', 'eggnog-mapper', 'clusters_rep-seqs.emapper.annotations.gz')\n",
    "cmd = glue::glue('gunzip -c {file}', file=F, header=FALSE) \n",
    "emap_annot = fread(cmd, sep='\\t') \n",
    "colnames(emap_annot) = cols\n",
    "emap_annot = emap_annot %>%\n",
    "    dplyr::select(-Gene_Ontology_terms)\n",
    "emap_annot %>% dfhead"
   ]
  },
  {
   "cell_type": "code",
   "execution_count": 21,
   "metadata": {
    "ExecuteTime": {
     "end_time": "2019-09-30T06:36:52.441835Z",
     "start_time": "2019-09-30T06:36:48.206Z"
    }
   },
   "outputs": [
    {
     "name": "stdout",
     "output_type": "stream",
     "text": [
      "[1] 188299\n",
      "[1] 188299     31\n"
     ]
    },
    {
     "data": {
      "text/html": [
       "<table>\n",
       "<thead><tr><th scope=col>query_name</th><th scope=col>seed_eggNOG_ortholog</th><th scope=col>seed_ortholog_evalue</th><th scope=col>seed_ortholog_score</th><th scope=col>Predicted_taxonomic_group</th><th scope=col>Predicted_protein_name</th><th scope=col>EC_number</th><th scope=col>KEGG_ko</th><th scope=col>KEGG_Pathway</th><th scope=col>KEGG_Module</th><th scope=col>⋯</th><th scope=col>taxID</th><th scope=col>rank</th><th scope=col>spp</th><th scope=col>Domain</th><th scope=col>Phylum</th><th scope=col>Class</th><th scope=col>Order</th><th scope=col>Family</th><th scope=col>Genus</th><th scope=col>Species</th></tr></thead>\n",
       "<tbody>\n",
       "\t<tr><td>f31cbb8a3fb24274b2a47be648d7ec9a</td><td>199310.c2650                    </td><td>2.2e-260                        </td><td>904.4                           </td><td>Escherichia                     </td><td>yehM                            </td><td>                                </td><td>                                </td><td>                                </td><td>                                </td><td>⋯                               </td><td>      0                         </td><td>no rank                         </td><td>unclassified                    </td><td>                                </td><td>NA                              </td><td>NA                              </td><td>NA                              </td><td>NA                              </td><td>NA                              </td><td>NA                              </td></tr>\n",
       "\t<tr><td>fd8a496f955c4b568710a72a874c8a05</td><td>1122931.AUAE01000005_gene3222   </td><td>6.1e-126                        </td><td>456.8                           </td><td>Porphyromonadaceae              </td><td>                                </td><td>                                </td><td>ko:K21449                       </td><td>                                </td><td>                                </td><td>⋯                               </td><td>1078087                         </td><td>species                         </td><td>Parabacteroides sp. HGS0025     </td><td>unknown                         </td><td>Bacteroidetes                   </td><td>Bacteroidia                     </td><td>Bacteroidales                   </td><td>Tannerellaceae                  </td><td>Parabacteroides                 </td><td>Parabacteroides sp. HGS0025     </td></tr>\n",
       "\t<tr><td>e3b48e505aab4b5c86988ee211d4a56a</td><td>1235799.C818_04200              </td><td> 2.6e-14                        </td><td> 84.0                           </td><td>unclassified Lachnospiraceae    </td><td>                                </td><td>                                </td><td>                                </td><td>                                </td><td>                                </td><td>⋯                               </td><td>      0                         </td><td>no rank                         </td><td>unclassified                    </td><td>                                </td><td>NA                              </td><td>NA                              </td><td>NA                              </td><td>NA                              </td><td>NA                              </td><td>NA                              </td></tr>\n",
       "</tbody>\n",
       "</table>\n"
      ],
      "text/latex": [
       "\\begin{tabular}{r|lllllllllllllllllllllllllllllll}\n",
       " query\\_name & seed\\_eggNOG\\_ortholog & seed\\_ortholog\\_evalue & seed\\_ortholog\\_score & Predicted\\_taxonomic\\_group & Predicted\\_protein\\_name & EC\\_number & KEGG\\_ko & KEGG\\_Pathway & KEGG\\_Module & ⋯ & taxID & rank & spp & Domain & Phylum & Class & Order & Family & Genus & Species\\\\\n",
       "\\hline\n",
       "\t f31cbb8a3fb24274b2a47be648d7ec9a & 199310.c2650                     & 2.2e-260                         & 904.4                            & Escherichia                      & yehM                             &                                  &                                  &                                  &                                  & ⋯                                &       0                          & no rank                          & unclassified                     &                                  & NA                               & NA                               & NA                               & NA                               & NA                               & NA                              \\\\\n",
       "\t fd8a496f955c4b568710a72a874c8a05 & 1122931.AUAE01000005\\_gene3222  & 6.1e-126                         & 456.8                            & Porphyromonadaceae               &                                  &                                  & ko:K21449                        &                                  &                                  & ⋯                                & 1078087                          & species                          & Parabacteroides sp. HGS0025      & unknown                          & Bacteroidetes                    & Bacteroidia                      & Bacteroidales                    & Tannerellaceae                   & Parabacteroides                  & Parabacteroides sp. HGS0025     \\\\\n",
       "\t e3b48e505aab4b5c86988ee211d4a56a & 1235799.C818\\_04200             &  2.6e-14                         &  84.0                            & unclassified Lachnospiraceae     &                                  &                                  &                                  &                                  &                                  & ⋯                                &       0                          & no rank                          & unclassified                     &                                  & NA                               & NA                               & NA                               & NA                               & NA                               & NA                              \\\\\n",
       "\\end{tabular}\n"
      ],
      "text/markdown": [
       "\n",
       "query_name | seed_eggNOG_ortholog | seed_ortholog_evalue | seed_ortholog_score | Predicted_taxonomic_group | Predicted_protein_name | EC_number | KEGG_ko | KEGG_Pathway | KEGG_Module | ⋯ | taxID | rank | spp | Domain | Phylum | Class | Order | Family | Genus | Species | \n",
       "|---|---|---|\n",
       "| f31cbb8a3fb24274b2a47be648d7ec9a | 199310.c2650                     | 2.2e-260                         | 904.4                            | Escherichia                      | yehM                             |                                  |                                  |                                  |                                  | ⋯                                |       0                          | no rank                          | unclassified                     |                                  | NA                               | NA                               | NA                               | NA                               | NA                               | NA                               | \n",
       "| fd8a496f955c4b568710a72a874c8a05 | 1122931.AUAE01000005_gene3222    | 6.1e-126                         | 456.8                            | Porphyromonadaceae               |                                  |                                  | ko:K21449                        |                                  |                                  | ⋯                                | 1078087                          | species                          | Parabacteroides sp. HGS0025      | unknown                          | Bacteroidetes                    | Bacteroidia                      | Bacteroidales                    | Tannerellaceae                   | Parabacteroides                  | Parabacteroides sp. HGS0025      | \n",
       "| e3b48e505aab4b5c86988ee211d4a56a | 1235799.C818_04200               |  2.6e-14                         |  84.0                            | unclassified Lachnospiraceae     |                                  |                                  |                                  |                                  |                                  | ⋯                                |       0                          | no rank                          | unclassified                     |                                  | NA                               | NA                               | NA                               | NA                               | NA                               | NA                               | \n",
       "\n",
       "\n"
      ],
      "text/plain": [
       "  query_name                       seed_eggNOG_ortholog         \n",
       "1 f31cbb8a3fb24274b2a47be648d7ec9a 199310.c2650                 \n",
       "2 fd8a496f955c4b568710a72a874c8a05 1122931.AUAE01000005_gene3222\n",
       "3 e3b48e505aab4b5c86988ee211d4a56a 1235799.C818_04200           \n",
       "  seed_ortholog_evalue seed_ortholog_score Predicted_taxonomic_group   \n",
       "1 2.2e-260             904.4               Escherichia                 \n",
       "2 6.1e-126             456.8               Porphyromonadaceae          \n",
       "3  2.6e-14              84.0               unclassified Lachnospiraceae\n",
       "  Predicted_protein_name EC_number KEGG_ko   KEGG_Pathway KEGG_Module ⋯ taxID  \n",
       "1 yehM                                                                ⋯       0\n",
       "2                                  ko:K21449                          ⋯ 1078087\n",
       "3                                                                     ⋯       0\n",
       "  rank    spp                         Domain  Phylum        Class      \n",
       "1 no rank unclassified                        NA            NA         \n",
       "2 species Parabacteroides sp. HGS0025 unknown Bacteroidetes Bacteroidia\n",
       "3 no rank unclassified                        NA            NA         \n",
       "  Order         Family         Genus           Species                    \n",
       "1 NA            NA             NA              NA                         \n",
       "2 Bacteroidales Tannerellaceae Parabacteroides Parabacteroides sp. HGS0025\n",
       "3 NA            NA             NA              NA                         "
      ]
     },
     "metadata": {},
     "output_type": "display_data"
    }
   ],
   "source": [
    "# adding taxonomy info\n",
    "intersect(emap_annot$query_name, tax$seqID) %>% length %>% print\n",
    "\n",
    "emap_annot = emap_annot %>%\n",
    "    left_join(tax, c('query_name'='seqID'))\n",
    "\n",
    "emap_annot %>% dfhead"
   ]
  },
  {
   "cell_type": "code",
   "execution_count": 22,
   "metadata": {
    "ExecuteTime": {
     "end_time": "2019-09-30T06:36:52.507157Z",
     "start_time": "2019-09-30T06:36:48.343Z"
    }
   },
   "outputs": [
    {
     "name": "stdout",
     "output_type": "stream",
     "text": [
      "Number of rep seqs with eggnog-mapper annotations: 188299 \n"
     ]
    }
   ],
   "source": [
    "n_annot_seqs = emap_annot$query_name %>% unique %>% length\n",
    "cat('Number of rep seqs with eggnog-mapper annotations:', n_annot_seqs, '\\n')"
   ]
  },
  {
   "cell_type": "markdown",
   "metadata": {},
   "source": [
    "### COG functional categories\n",
    "\n",
    "* [wiki on categories](https://ecoliwiki.org/colipedia/index.php/Clusters_of_Orthologous_Groups_%28COGs%29)"
   ]
  },
  {
   "cell_type": "code",
   "execution_count": 23,
   "metadata": {
    "ExecuteTime": {
     "end_time": "2019-09-30T06:36:54.093867Z",
     "start_time": "2019-09-30T06:36:49.735Z"
    }
   },
   "outputs": [
    {
     "name": "stderr",
     "output_type": "stream",
     "text": [
      "Warning message:\n",
      "“Expected 5 pieces. Additional pieces discarded in 19 rows [29522, 57205, 59588, 67078, 67794, 74041, 93125, 105479, 110063, 119060, 121127, 137083, 146602, 150562, 151420, 156227, 173631, 176766, 177583].”Warning message:\n",
      "“Expected 5 pieces. Missing pieces filled with `NA` in 188217 rows [1, 2, 3, 4, 5, 6, 7, 8, 9, 10, 11, 12, 13, 14, 15, 16, 17, 18, 19, 20, ...].”"
     ]
    },
    {
     "name": "stdout",
     "output_type": "stream",
     "text": [
      "[1] 193289      2\n"
     ]
    },
    {
     "data": {
      "text/html": [
       "<table>\n",
       "<thead><tr><th scope=col>query_name</th><th scope=col>COG_func_cat</th></tr></thead>\n",
       "<tbody>\n",
       "\t<tr><td>f31cbb8a3fb24274b2a47be648d7ec9a</td><td>S                               </td></tr>\n",
       "\t<tr><td>fd8a496f955c4b568710a72a874c8a05</td><td>S                               </td></tr>\n",
       "\t<tr><td>e3b48e505aab4b5c86988ee211d4a56a</td><td>S                               </td></tr>\n",
       "</tbody>\n",
       "</table>\n"
      ],
      "text/latex": [
       "\\begin{tabular}{r|ll}\n",
       " query\\_name & COG\\_func\\_cat\\\\\n",
       "\\hline\n",
       "\t f31cbb8a3fb24274b2a47be648d7ec9a & S                               \\\\\n",
       "\t fd8a496f955c4b568710a72a874c8a05 & S                               \\\\\n",
       "\t e3b48e505aab4b5c86988ee211d4a56a & S                               \\\\\n",
       "\\end{tabular}\n"
      ],
      "text/markdown": [
       "\n",
       "query_name | COG_func_cat | \n",
       "|---|---|---|\n",
       "| f31cbb8a3fb24274b2a47be648d7ec9a | S                                | \n",
       "| fd8a496f955c4b568710a72a874c8a05 | S                                | \n",
       "| e3b48e505aab4b5c86988ee211d4a56a | S                                | \n",
       "\n",
       "\n"
      ],
      "text/plain": [
       "  query_name                       COG_func_cat\n",
       "1 f31cbb8a3fb24274b2a47be648d7ec9a S           \n",
       "2 fd8a496f955c4b568710a72a874c8a05 S           \n",
       "3 e3b48e505aab4b5c86988ee211d4a56a S           "
      ]
     },
     "metadata": {},
     "output_type": "display_data"
    }
   ],
   "source": [
    "# summarizing by functional group\n",
    "max_cat = emap_annot$COG_Functional_Category %>% unique %>% sapply(nchar) %>% max\n",
    "\n",
    "emap_annot_s = emap_annot %>%\n",
    "    dplyr::select(query_name, COG_Functional_Category) %>%\n",
    "    separate(COG_Functional_Category, LETTERS[1:max_cat], sep='(?<=[A-Z])') %>%\n",
    "    gather(X, COG_func_cat, -query_name) %>%\n",
    "    filter(!is.na(COG_func_cat),\n",
    "           COG_func_cat != '') %>%\n",
    "    dplyr::select(-X) \n",
    "    \n",
    "emap_annot_s %>% dfhead"
   ]
  },
  {
   "cell_type": "code",
   "execution_count": 24,
   "metadata": {
    "ExecuteTime": {
     "end_time": "2019-09-30T06:36:56.576238Z",
     "start_time": "2019-09-30T06:36:49.961Z"
    }
   },
   "outputs": [
    {
     "data": {
      "image/png": "[encoded data removed]",
      "text/plain": [
       "plot without title"
      ]
     },
     "metadata": {},
     "output_type": "display_data"
    }
   ],
   "source": [
    "# plotting summary\n",
    "p = emap_annot_s %>%\n",
    "    ggplot(aes(COG_func_cat)) +\n",
    "    geom_bar() +\n",
    "    labs(x='COG functional category', y='No. of genes') +\n",
    "    theme_bw()\n",
    "\n",
    "dims(9,3)\n",
    "plot(p)"
   ]
  },
  {
   "cell_type": "code",
   "execution_count": 25,
   "metadata": {
    "ExecuteTime": {
     "end_time": "2019-09-30T06:36:57.427431Z",
     "start_time": "2019-09-30T06:36:50.769Z"
    }
   },
   "outputs": [
    {
     "data": {
      "image/png": "[encoded data removed]",
      "text/plain": [
       "plot without title"
      ]
     },
     "metadata": {},
     "output_type": "display_data"
    }
   ],
   "source": [
    "# plotting summary\n",
    "p = emap_annot_s %>%\n",
    "    group_by(COG_func_cat) %>%\n",
    "    summarize(perc_abund = n() / n_annot_seqs * 100) %>%\n",
    "    ungroup() %>%\n",
    "    ggplot(aes(COG_func_cat, perc_abund)) +\n",
    "    geom_bar(stat='identity') +\n",
    "    labs(x='COG functional category', y='% of all genes') +\n",
    "    theme_bw() \n",
    "\n",
    "dims(9,3)\n",
    "plot(p)"
   ]
  },
  {
   "cell_type": "markdown",
   "metadata": {},
   "source": [
    "### Grouped by taxonomy"
   ]
  },
  {
   "cell_type": "code",
   "execution_count": 26,
   "metadata": {
    "ExecuteTime": {
     "end_time": "2019-09-30T06:37:04.664387Z",
     "start_time": "2019-09-30T06:36:59.527Z"
    }
   },
   "outputs": [
    {
     "name": "stderr",
     "output_type": "stream",
     "text": [
      "Warning message:\n",
      "“Expected 5 pieces. Additional pieces discarded in 19 rows [29522, 57205, 59588, 67078, 67794, 74041, 93125, 105479, 110063, 119060, 121127, 137083, 146602, 150562, 151420, 156227, 173631, 176766, 177583].”Warning message:\n",
      "“Expected 5 pieces. Missing pieces filled with `NA` in 188217 rows [1, 2, 3, 4, 5, 6, 7, 8, 9, 10, 11, 12, 13, 14, 15, 16, 17, 18, 19, 20, ...].”"
     ]
    },
    {
     "name": "stdout",
     "output_type": "stream",
     "text": [
      "[1] 193289     12\n"
     ]
    },
    {
     "data": {
      "text/html": [
       "<table>\n",
       "<thead><tr><th scope=col>query_name</th><th scope=col>COG_func_cat</th><th scope=col>taxID</th><th scope=col>rank</th><th scope=col>spp</th><th scope=col>Domain</th><th scope=col>Phylum</th><th scope=col>Class</th><th scope=col>Order</th><th scope=col>Family</th><th scope=col>Genus</th><th scope=col>Species</th></tr></thead>\n",
       "<tbody>\n",
       "\t<tr><td>f31cbb8a3fb24274b2a47be648d7ec9a</td><td>S                               </td><td>      0                         </td><td>no rank                         </td><td>unclassified                    </td><td>                                </td><td>NA                              </td><td>NA                              </td><td>NA                              </td><td>NA                              </td><td>NA                              </td><td>NA                              </td></tr>\n",
       "\t<tr><td>fd8a496f955c4b568710a72a874c8a05</td><td>S                               </td><td>1078087                         </td><td>species                         </td><td>Parabacteroides sp. HGS0025     </td><td>unknown                         </td><td>Bacteroidetes                   </td><td>Bacteroidia                     </td><td>Bacteroidales                   </td><td>Tannerellaceae                  </td><td>Parabacteroides                 </td><td>Parabacteroides sp. HGS0025     </td></tr>\n",
       "\t<tr><td>e3b48e505aab4b5c86988ee211d4a56a</td><td>S                               </td><td>      0                         </td><td>no rank                         </td><td>unclassified                    </td><td>                                </td><td>NA                              </td><td>NA                              </td><td>NA                              </td><td>NA                              </td><td>NA                              </td><td>NA                              </td></tr>\n",
       "</tbody>\n",
       "</table>\n"
      ],
      "text/latex": [
       "\\begin{tabular}{r|llllllllllll}\n",
       " query\\_name & COG\\_func\\_cat & taxID & rank & spp & Domain & Phylum & Class & Order & Family & Genus & Species\\\\\n",
       "\\hline\n",
       "\t f31cbb8a3fb24274b2a47be648d7ec9a & S                                &       0                          & no rank                          & unclassified                     &                                  & NA                               & NA                               & NA                               & NA                               & NA                               & NA                              \\\\\n",
       "\t fd8a496f955c4b568710a72a874c8a05 & S                                & 1078087                          & species                          & Parabacteroides sp. HGS0025      & unknown                          & Bacteroidetes                    & Bacteroidia                      & Bacteroidales                    & Tannerellaceae                   & Parabacteroides                  & Parabacteroides sp. HGS0025     \\\\\n",
       "\t e3b48e505aab4b5c86988ee211d4a56a & S                                &       0                          & no rank                          & unclassified                     &                                  & NA                               & NA                               & NA                               & NA                               & NA                               & NA                              \\\\\n",
       "\\end{tabular}\n"
      ],
      "text/markdown": [
       "\n",
       "query_name | COG_func_cat | taxID | rank | spp | Domain | Phylum | Class | Order | Family | Genus | Species | \n",
       "|---|---|---|\n",
       "| f31cbb8a3fb24274b2a47be648d7ec9a | S                                |       0                          | no rank                          | unclassified                     |                                  | NA                               | NA                               | NA                               | NA                               | NA                               | NA                               | \n",
       "| fd8a496f955c4b568710a72a874c8a05 | S                                | 1078087                          | species                          | Parabacteroides sp. HGS0025      | unknown                          | Bacteroidetes                    | Bacteroidia                      | Bacteroidales                    | Tannerellaceae                   | Parabacteroides                  | Parabacteroides sp. HGS0025      | \n",
       "| e3b48e505aab4b5c86988ee211d4a56a | S                                |       0                          | no rank                          | unclassified                     |                                  | NA                               | NA                               | NA                               | NA                               | NA                               | NA                               | \n",
       "\n",
       "\n"
      ],
      "text/plain": [
       "  query_name                       COG_func_cat taxID   rank   \n",
       "1 f31cbb8a3fb24274b2a47be648d7ec9a S                  0 no rank\n",
       "2 fd8a496f955c4b568710a72a874c8a05 S            1078087 species\n",
       "3 e3b48e505aab4b5c86988ee211d4a56a S                  0 no rank\n",
       "  spp                         Domain  Phylum        Class       Order        \n",
       "1 unclassified                        NA            NA          NA           \n",
       "2 Parabacteroides sp. HGS0025 unknown Bacteroidetes Bacteroidia Bacteroidales\n",
       "3 unclassified                        NA            NA          NA           \n",
       "  Family         Genus           Species                    \n",
       "1 NA             NA              NA                         \n",
       "2 Tannerellaceae Parabacteroides Parabacteroides sp. HGS0025\n",
       "3 NA             NA              NA                         "
      ]
     },
     "metadata": {},
     "output_type": "display_data"
    }
   ],
   "source": [
    "max_cat = emap_annot$COG_Functional_Category %>% unique %>% sapply(nchar) %>% max\n",
    "\n",
    "emap_annot_s = emap_annot %>%\n",
    "    dplyr::select(query_name, COG_Functional_Category) %>%\n",
    "    separate(COG_Functional_Category, LETTERS[1:max_cat], sep='(?<=[A-Z])') %>%\n",
    "    gather(X, COG_func_cat, -query_name) %>%\n",
    "    left_join(tax, c('query_name'='seqID')) %>%\n",
    "    filter(!is.na(COG_func_cat),\n",
    "           COG_func_cat != '') %>%\n",
    "    dplyr::select(-X) \n",
    "\n",
    "emap_annot_s %>% dfhead"
   ]
  },
  {
   "cell_type": "code",
   "execution_count": 27,
   "metadata": {
    "ExecuteTime": {
     "end_time": "2019-09-30T06:37:08.280575Z",
     "start_time": "2019-09-30T06:36:59.664Z"
    }
   },
   "outputs": [
    {
     "data": {
      "image/png": "[encoded data removed]",
      "text/plain": [
       "plot without title"
      ]
     },
     "metadata": {},
     "output_type": "display_data"
    }
   ],
   "source": [
    "# plotting summary by domain\n",
    "p = emap_annot_s %>%\n",
    "    ggplot(aes(COG_func_cat)) +\n",
    "    geom_bar() +\n",
    "    facet_wrap(~ Domain, scales='free_y') +\n",
    "    labs(x='COG functional category', y='No. of genes') +\n",
    "    theme_bw()\n",
    "\n",
    "dims(9,5)\n",
    "plot(p)"
   ]
  },
  {
   "cell_type": "code",
   "execution_count": 28,
   "metadata": {
    "ExecuteTime": {
     "end_time": "2019-09-30T06:37:13.803424Z",
     "start_time": "2019-09-30T06:36:59.912Z"
    }
   },
   "outputs": [
    {
     "data": {
      "image/png": "[encoded data removed]",
      "text/plain": [
       "plot without title"
      ]
     },
     "metadata": {},
     "output_type": "display_data"
    }
   ],
   "source": [
    "# plotting summary by phylum\n",
    "p = emap_annot_s %>%\n",
    "    group_by(Phylum) %>%\n",
    "    mutate(n = n()) %>%\n",
    "    ungroup() %>%\n",
    "    filter(n >= 1000) %>%\n",
    "    mutate(Phylum = Phylum %>% reorder(-n)) %>%\n",
    "    ggplot(aes(COG_func_cat, fill=Domain)) +\n",
    "    geom_bar() +\n",
    "    facet_wrap(~ Phylum, scales='free_y', ncol=3) +\n",
    "    labs(x='COG functional category', y='No. of genes') +\n",
    "    theme_bw()\n",
    "\n",
    "dims(10,5)\n",
    "plot(p)"
   ]
  },
  {
   "cell_type": "markdown",
   "metadata": {},
   "source": [
    "## humann2 db genes"
   ]
  },
  {
   "cell_type": "code",
   "execution_count": 29,
   "metadata": {
    "ExecuteTime": {
     "end_time": "2019-09-30T06:37:16.498330Z",
     "start_time": "2019-09-30T06:37:08.601Z"
    }
   },
   "outputs": [
    {
     "name": "stderr",
     "output_type": "stream",
     "text": [
      "Warning message:\n",
      "“Expected 2 pieces. Missing pieces filled with `NA` in 6567 rows [1, 14, 38, 39, 47, 60, 74, 81, 85, 98, 174, 190, 192, 195, 200, 205, 220, 238, 240, 247, ...].”"
     ]
    },
    {
     "name": "stdout",
     "output_type": "stream",
     "text": [
      "[1] 84931     6\n"
     ]
    },
    {
     "data": {
      "text/html": [
       "<table>\n",
       "<thead><tr><th scope=col>original_name</th><th scope=col>UniRefID</th><th scope=col>Gene_length</th><th scope=col>Genus</th><th scope=col>Species</th><th scope=col>TaxID</th></tr></thead>\n",
       "<tbody>\n",
       "\t<tr><td>f31cbb8a3fb24274b2a47be648d7ec9a</td><td>UniRef50_W1X0M4                 </td><td>469                             </td><td>unclassified                    </td><td>unclassified                    </td><td>NA                              </td></tr>\n",
       "\t<tr><td>7e218fdc942c44708f08ba3716c10fb4</td><td>UniRef50_E6SNK0                 </td><td>155                             </td><td>Parabacteroides                 </td><td>Parabacteroides_sp_HGS0025      </td><td>1078087                         </td></tr>\n",
       "\t<tr><td>356918922c6b4353812b49dc2d87a2b4</td><td>UniRef50_E7GH39                 </td><td>367                             </td><td>Maledivibacter                  </td><td>Maledivibacter_halophilus       </td><td>36842                           </td></tr>\n",
       "</tbody>\n",
       "</table>\n"
      ],
      "text/latex": [
       "\\begin{tabular}{r|llllll}\n",
       " original\\_name & UniRefID & Gene\\_length & Genus & Species & TaxID\\\\\n",
       "\\hline\n",
       "\t f31cbb8a3fb24274b2a47be648d7ec9a & UniRef50\\_W1X0M4                & 469                              & unclassified                     & unclassified                     & NA                              \\\\\n",
       "\t 7e218fdc942c44708f08ba3716c10fb4 & UniRef50\\_E6SNK0                & 155                              & Parabacteroides                  & Parabacteroides\\_sp\\_HGS0025   & 1078087                         \\\\\n",
       "\t 356918922c6b4353812b49dc2d87a2b4 & UniRef50\\_E7GH39                & 367                              & Maledivibacter                   & Maledivibacter\\_halophilus      & 36842                           \\\\\n",
       "\\end{tabular}\n"
      ],
      "text/markdown": [
       "\n",
       "original_name | UniRefID | Gene_length | Genus | Species | TaxID | \n",
       "|---|---|---|\n",
       "| f31cbb8a3fb24274b2a47be648d7ec9a | UniRef50_W1X0M4                  | 469                              | unclassified                     | unclassified                     | NA                               | \n",
       "| 7e218fdc942c44708f08ba3716c10fb4 | UniRef50_E6SNK0                  | 155                              | Parabacteroides                  | Parabacteroides_sp_HGS0025       | 1078087                          | \n",
       "| 356918922c6b4353812b49dc2d87a2b4 | UniRef50_E7GH39                  | 367                              | Maledivibacter                   | Maledivibacter_halophilus        | 36842                            | \n",
       "\n",
       "\n"
      ],
      "text/plain": [
       "  original_name                    UniRefID        Gene_length Genus          \n",
       "1 f31cbb8a3fb24274b2a47be648d7ec9a UniRef50_W1X0M4 469         unclassified   \n",
       "2 7e218fdc942c44708f08ba3716c10fb4 UniRef50_E6SNK0 155         Parabacteroides\n",
       "3 356918922c6b4353812b49dc2d87a2b4 UniRef50_E7GH39 367         Maledivibacter \n",
       "  Species                    TaxID  \n",
       "1 unclassified               NA     \n",
       "2 Parabacteroides_sp_HGS0025 1078087\n",
       "3 Maledivibacter_halophilus  36842  "
      ]
     },
     "metadata": {},
     "output_type": "display_data"
    }
   ],
   "source": [
    "# gene IDs\n",
    "F = file.path(work_dir, 'humann2_db', 'clusters_rep-seqs_annot-index.tsv')\n",
    "\n",
    "hm2 = fread(F, sep='\\t', header=TRUE) %>%\n",
    "    separate(new_name, c('UniRefID', 'Gene_length', 'Taxonomy'), sep='\\\\|') %>%\n",
    "    separate(Taxonomy, c('Genus', 'Species'), sep='\\\\.s__') %>%\n",
    "    separate(Species, c('Species', 'TaxID'), sep='__taxID') %>%\n",
    "    mutate(Genus = gsub('^g__', '', Genus))\n",
    "\n",
    "hm2 %>% dfhead"
   ]
  },
  {
   "cell_type": "code",
   "execution_count": 30,
   "metadata": {
    "ExecuteTime": {
     "end_time": "2019-09-30T06:37:17.353230Z",
     "start_time": "2019-09-30T06:37:08.736Z"
    }
   },
   "outputs": [
    {
     "name": "stdout",
     "output_type": "stream",
     "text": [
      "[1] 84931\n",
      "[1] 84931    16\n"
     ]
    },
    {
     "data": {
      "text/html": [
       "<table>\n",
       "<thead><tr><th scope=col>original_name</th><th scope=col>UniRefID</th><th scope=col>Gene_length</th><th scope=col>Genus.x</th><th scope=col>Species.x</th><th scope=col>TaxID</th><th scope=col>taxID</th><th scope=col>rank</th><th scope=col>spp</th><th scope=col>Domain</th><th scope=col>Phylum</th><th scope=col>Class</th><th scope=col>Order</th><th scope=col>Family</th><th scope=col>Genus.y</th><th scope=col>Species.y</th></tr></thead>\n",
       "<tbody>\n",
       "\t<tr><td>f31cbb8a3fb24274b2a47be648d7ec9a</td><td>UniRef50_W1X0M4                 </td><td>469                             </td><td>unclassified                    </td><td>unclassified                    </td><td>NA                              </td><td>      0                         </td><td>no rank                         </td><td>unclassified                    </td><td>                                </td><td>NA                              </td><td>NA                              </td><td>NA                              </td><td>NA                              </td><td>NA                              </td><td>NA                              </td></tr>\n",
       "\t<tr><td>7e218fdc942c44708f08ba3716c10fb4</td><td>UniRef50_E6SNK0                 </td><td>155                             </td><td>Parabacteroides                 </td><td>Parabacteroides_sp_HGS0025      </td><td>1078087                         </td><td>1078087                         </td><td>species                         </td><td>Parabacteroides sp. HGS0025     </td><td>unknown                         </td><td>Bacteroidetes                   </td><td>Bacteroidia                     </td><td>Bacteroidales                   </td><td>Tannerellaceae                  </td><td>Parabacteroides                 </td><td>Parabacteroides sp. HGS0025     </td></tr>\n",
       "\t<tr><td>356918922c6b4353812b49dc2d87a2b4</td><td>UniRef50_E7GH39                 </td><td>367                             </td><td>Maledivibacter                  </td><td>Maledivibacter_halophilus       </td><td>36842                           </td><td>  36842                         </td><td>species                         </td><td>Maledivibacter halophilus       </td><td>unknown                         </td><td>Firmicutes                      </td><td>Clostridia                      </td><td>Clostridiales                   </td><td>Clostridiaceae                  </td><td>Maledivibacter                  </td><td>Maledivibacter halophilus       </td></tr>\n",
       "</tbody>\n",
       "</table>\n"
      ],
      "text/latex": [
       "\\begin{tabular}{r|llllllllllllllll}\n",
       " original\\_name & UniRefID & Gene\\_length & Genus.x & Species.x & TaxID & taxID & rank & spp & Domain & Phylum & Class & Order & Family & Genus.y & Species.y\\\\\n",
       "\\hline\n",
       "\t f31cbb8a3fb24274b2a47be648d7ec9a & UniRef50\\_W1X0M4                & 469                              & unclassified                     & unclassified                     & NA                               &       0                          & no rank                          & unclassified                     &                                  & NA                               & NA                               & NA                               & NA                               & NA                               & NA                              \\\\\n",
       "\t 7e218fdc942c44708f08ba3716c10fb4 & UniRef50\\_E6SNK0                & 155                              & Parabacteroides                  & Parabacteroides\\_sp\\_HGS0025   & 1078087                          & 1078087                          & species                          & Parabacteroides sp. HGS0025      & unknown                          & Bacteroidetes                    & Bacteroidia                      & Bacteroidales                    & Tannerellaceae                   & Parabacteroides                  & Parabacteroides sp. HGS0025     \\\\\n",
       "\t 356918922c6b4353812b49dc2d87a2b4 & UniRef50\\_E7GH39                & 367                              & Maledivibacter                   & Maledivibacter\\_halophilus      & 36842                            &   36842                          & species                          & Maledivibacter halophilus        & unknown                          & Firmicutes                       & Clostridia                       & Clostridiales                    & Clostridiaceae                   & Maledivibacter                   & Maledivibacter halophilus       \\\\\n",
       "\\end{tabular}\n"
      ],
      "text/markdown": [
       "\n",
       "original_name | UniRefID | Gene_length | Genus.x | Species.x | TaxID | taxID | rank | spp | Domain | Phylum | Class | Order | Family | Genus.y | Species.y | \n",
       "|---|---|---|\n",
       "| f31cbb8a3fb24274b2a47be648d7ec9a | UniRef50_W1X0M4                  | 469                              | unclassified                     | unclassified                     | NA                               |       0                          | no rank                          | unclassified                     |                                  | NA                               | NA                               | NA                               | NA                               | NA                               | NA                               | \n",
       "| 7e218fdc942c44708f08ba3716c10fb4 | UniRef50_E6SNK0                  | 155                              | Parabacteroides                  | Parabacteroides_sp_HGS0025       | 1078087                          | 1078087                          | species                          | Parabacteroides sp. HGS0025      | unknown                          | Bacteroidetes                    | Bacteroidia                      | Bacteroidales                    | Tannerellaceae                   | Parabacteroides                  | Parabacteroides sp. HGS0025      | \n",
       "| 356918922c6b4353812b49dc2d87a2b4 | UniRef50_E7GH39                  | 367                              | Maledivibacter                   | Maledivibacter_halophilus        | 36842                            |   36842                          | species                          | Maledivibacter halophilus        | unknown                          | Firmicutes                       | Clostridia                       | Clostridiales                    | Clostridiaceae                   | Maledivibacter                   | Maledivibacter halophilus        | \n",
       "\n",
       "\n"
      ],
      "text/plain": [
       "  original_name                    UniRefID        Gene_length Genus.x        \n",
       "1 f31cbb8a3fb24274b2a47be648d7ec9a UniRef50_W1X0M4 469         unclassified   \n",
       "2 7e218fdc942c44708f08ba3716c10fb4 UniRef50_E6SNK0 155         Parabacteroides\n",
       "3 356918922c6b4353812b49dc2d87a2b4 UniRef50_E7GH39 367         Maledivibacter \n",
       "  Species.x                  TaxID   taxID   rank   \n",
       "1 unclassified               NA            0 no rank\n",
       "2 Parabacteroides_sp_HGS0025 1078087 1078087 species\n",
       "3 Maledivibacter_halophilus  36842     36842 species\n",
       "  spp                         Domain  Phylum        Class       Order        \n",
       "1 unclassified                        NA            NA          NA           \n",
       "2 Parabacteroides sp. HGS0025 unknown Bacteroidetes Bacteroidia Bacteroidales\n",
       "3 Maledivibacter halophilus   unknown Firmicutes    Clostridia  Clostridiales\n",
       "  Family         Genus.y         Species.y                  \n",
       "1 NA             NA              NA                         \n",
       "2 Tannerellaceae Parabacteroides Parabacteroides sp. HGS0025\n",
       "3 Clostridiaceae Maledivibacter  Maledivibacter halophilus  "
      ]
     },
     "metadata": {},
     "output_type": "display_data"
    }
   ],
   "source": [
    "# adding taxonomy\n",
    "intersect(hm2$original_name, tax$seqID) %>% length %>% print\n",
    "\n",
    "hm2 = hm2 %>%\n",
    "    left_join(tax, c('original_name'='seqID'))\n",
    "\n",
    "hm2 %>% dfhead"
   ]
  },
  {
   "cell_type": "markdown",
   "metadata": {},
   "source": [
    "### Summary"
   ]
  },
  {
   "cell_type": "code",
   "execution_count": 31,
   "metadata": {
    "ExecuteTime": {
     "end_time": "2019-09-30T06:37:17.697626Z",
     "start_time": "2019-09-30T06:37:17.413Z"
    }
   },
   "outputs": [
    {
     "data": {
      "text/html": [
       "51402"
      ],
      "text/latex": [
       "51402"
      ],
      "text/markdown": [
       "51402"
      ],
      "text/plain": [
       "[1] 51402"
      ]
     },
     "metadata": {},
     "output_type": "display_data"
    }
   ],
   "source": [
    "# number of unique UniRef IDs\n",
    "hm2$UniRefID %>% unique %>% length"
   ]
  },
  {
   "cell_type": "code",
   "execution_count": 32,
   "metadata": {
    "ExecuteTime": {
     "end_time": "2019-09-30T06:37:19.230426Z",
     "start_time": "2019-09-30T06:37:17.694Z"
    }
   },
   "outputs": [
    {
     "data": {
      "text/html": [
       "<table>\n",
       "<thead><tr><th scope=col>UniRefID</th><th scope=col>n</th></tr></thead>\n",
       "<tbody>\n",
       "\t<tr><td>UniRef50_E2PHW4</td><td>16             </td></tr>\n",
       "\t<tr><td>UniRef50_D2H8Q7</td><td>15             </td></tr>\n",
       "\t<tr><td>UniRef50_F7DRX9</td><td>14             </td></tr>\n",
       "\t<tr><td>UniRef50_D6D2F3</td><td>13             </td></tr>\n",
       "\t<tr><td>UniRef50_N6V3M2</td><td>13             </td></tr>\n",
       "\t<tr><td>UniRef50_P23832</td><td>13             </td></tr>\n",
       "\t<tr><td>UniRef50_Q46829</td><td>13             </td></tr>\n",
       "\t<tr><td>UniRef50_E2PHX8</td><td>12             </td></tr>\n",
       "\t<tr><td>UniRef50_P24173</td><td>12             </td></tr>\n",
       "\t<tr><td>UniRef50_P39160</td><td>12             </td></tr>\n",
       "\t<tr><td>UniRef50_R5MQJ3</td><td>12             </td></tr>\n",
       "\t<tr><td>UniRef50_A4VSK0</td><td>11             </td></tr>\n",
       "\t<tr><td>UniRef50_F6QE18</td><td>11             </td></tr>\n",
       "\t<tr><td>UniRef50_M3XUV9</td><td>11             </td></tr>\n",
       "\t<tr><td>UniRef50_Q7MUW1</td><td>11             </td></tr>\n",
       "\t<tr><td>UniRef50_Q839G1</td><td>11             </td></tr>\n",
       "\t<tr><td>UniRef50_Q8AB57</td><td>11             </td></tr>\n",
       "\t<tr><td>UniRef50_Q8RQP4</td><td>11             </td></tr>\n",
       "\t<tr><td>UniRef50_R5WB27</td><td>11             </td></tr>\n",
       "\t<tr><td>UniRef50_R6JA28</td><td>11             </td></tr>\n",
       "\t<tr><td>UniRef50_A1AC10</td><td>10             </td></tr>\n",
       "\t<tr><td>UniRef50_A6LH84</td><td>10             </td></tr>\n",
       "\t<tr><td>UniRef50_B9IYZ4</td><td>10             </td></tr>\n",
       "\t<tr><td>UniRef50_D3IBZ3</td><td>10             </td></tr>\n",
       "\t<tr><td>UniRef50_F4C8Z2</td><td>10             </td></tr>\n",
       "\t<tr><td>UniRef50_P05166</td><td>10             </td></tr>\n",
       "\t<tr><td>UniRef50_P77221</td><td>10             </td></tr>\n",
       "\t<tr><td>UniRef50_Q8CCG8</td><td>10             </td></tr>\n",
       "\t<tr><td>UniRef50_Q8XV10</td><td>10             </td></tr>\n",
       "\t<tr><td>UniRef50_Q9X3Y6</td><td>10             </td></tr>\n",
       "</tbody>\n",
       "</table>\n"
      ],
      "text/latex": [
       "\\begin{tabular}{r|ll}\n",
       " UniRefID & n\\\\\n",
       "\\hline\n",
       "\t UniRef50\\_E2PHW4 & 16               \\\\\n",
       "\t UniRef50\\_D2H8Q7 & 15               \\\\\n",
       "\t UniRef50\\_F7DRX9 & 14               \\\\\n",
       "\t UniRef50\\_D6D2F3 & 13               \\\\\n",
       "\t UniRef50\\_N6V3M2 & 13               \\\\\n",
       "\t UniRef50\\_P23832 & 13               \\\\\n",
       "\t UniRef50\\_Q46829 & 13               \\\\\n",
       "\t UniRef50\\_E2PHX8 & 12               \\\\\n",
       "\t UniRef50\\_P24173 & 12               \\\\\n",
       "\t UniRef50\\_P39160 & 12               \\\\\n",
       "\t UniRef50\\_R5MQJ3 & 12               \\\\\n",
       "\t UniRef50\\_A4VSK0 & 11               \\\\\n",
       "\t UniRef50\\_F6QE18 & 11               \\\\\n",
       "\t UniRef50\\_M3XUV9 & 11               \\\\\n",
       "\t UniRef50\\_Q7MUW1 & 11               \\\\\n",
       "\t UniRef50\\_Q839G1 & 11               \\\\\n",
       "\t UniRef50\\_Q8AB57 & 11               \\\\\n",
       "\t UniRef50\\_Q8RQP4 & 11               \\\\\n",
       "\t UniRef50\\_R5WB27 & 11               \\\\\n",
       "\t UniRef50\\_R6JA28 & 11               \\\\\n",
       "\t UniRef50\\_A1AC10 & 10               \\\\\n",
       "\t UniRef50\\_A6LH84 & 10               \\\\\n",
       "\t UniRef50\\_B9IYZ4 & 10               \\\\\n",
       "\t UniRef50\\_D3IBZ3 & 10               \\\\\n",
       "\t UniRef50\\_F4C8Z2 & 10               \\\\\n",
       "\t UniRef50\\_P05166 & 10               \\\\\n",
       "\t UniRef50\\_P77221 & 10               \\\\\n",
       "\t UniRef50\\_Q8CCG8 & 10               \\\\\n",
       "\t UniRef50\\_Q8XV10 & 10               \\\\\n",
       "\t UniRef50\\_Q9X3Y6 & 10               \\\\\n",
       "\\end{tabular}\n"
      ],
      "text/markdown": [
       "\n",
       "UniRefID | n | \n",
       "|---|---|---|---|---|---|---|---|---|---|---|---|---|---|---|---|---|---|---|---|---|---|---|---|---|---|---|---|---|---|\n",
       "| UniRef50_E2PHW4 | 16              | \n",
       "| UniRef50_D2H8Q7 | 15              | \n",
       "| UniRef50_F7DRX9 | 14              | \n",
       "| UniRef50_D6D2F3 | 13              | \n",
       "| UniRef50_N6V3M2 | 13              | \n",
       "| UniRef50_P23832 | 13              | \n",
       "| UniRef50_Q46829 | 13              | \n",
       "| UniRef50_E2PHX8 | 12              | \n",
       "| UniRef50_P24173 | 12              | \n",
       "| UniRef50_P39160 | 12              | \n",
       "| UniRef50_R5MQJ3 | 12              | \n",
       "| UniRef50_A4VSK0 | 11              | \n",
       "| UniRef50_F6QE18 | 11              | \n",
       "| UniRef50_M3XUV9 | 11              | \n",
       "| UniRef50_Q7MUW1 | 11              | \n",
       "| UniRef50_Q839G1 | 11              | \n",
       "| UniRef50_Q8AB57 | 11              | \n",
       "| UniRef50_Q8RQP4 | 11              | \n",
       "| UniRef50_R5WB27 | 11              | \n",
       "| UniRef50_R6JA28 | 11              | \n",
       "| UniRef50_A1AC10 | 10              | \n",
       "| UniRef50_A6LH84 | 10              | \n",
       "| UniRef50_B9IYZ4 | 10              | \n",
       "| UniRef50_D3IBZ3 | 10              | \n",
       "| UniRef50_F4C8Z2 | 10              | \n",
       "| UniRef50_P05166 | 10              | \n",
       "| UniRef50_P77221 | 10              | \n",
       "| UniRef50_Q8CCG8 | 10              | \n",
       "| UniRef50_Q8XV10 | 10              | \n",
       "| UniRef50_Q9X3Y6 | 10              | \n",
       "\n",
       "\n"
      ],
      "text/plain": [
       "   UniRefID        n \n",
       "1  UniRef50_E2PHW4 16\n",
       "2  UniRef50_D2H8Q7 15\n",
       "3  UniRef50_F7DRX9 14\n",
       "4  UniRef50_D6D2F3 13\n",
       "5  UniRef50_N6V3M2 13\n",
       "6  UniRef50_P23832 13\n",
       "7  UniRef50_Q46829 13\n",
       "8  UniRef50_E2PHX8 12\n",
       "9  UniRef50_P24173 12\n",
       "10 UniRef50_P39160 12\n",
       "11 UniRef50_R5MQJ3 12\n",
       "12 UniRef50_A4VSK0 11\n",
       "13 UniRef50_F6QE18 11\n",
       "14 UniRef50_M3XUV9 11\n",
       "15 UniRef50_Q7MUW1 11\n",
       "16 UniRef50_Q839G1 11\n",
       "17 UniRef50_Q8AB57 11\n",
       "18 UniRef50_Q8RQP4 11\n",
       "19 UniRef50_R5WB27 11\n",
       "20 UniRef50_R6JA28 11\n",
       "21 UniRef50_A1AC10 10\n",
       "22 UniRef50_A6LH84 10\n",
       "23 UniRef50_B9IYZ4 10\n",
       "24 UniRef50_D3IBZ3 10\n",
       "25 UniRef50_F4C8Z2 10\n",
       "26 UniRef50_P05166 10\n",
       "27 UniRef50_P77221 10\n",
       "28 UniRef50_Q8CCG8 10\n",
       "29 UniRef50_Q8XV10 10\n",
       "30 UniRef50_Q9X3Y6 10"
      ]
     },
     "metadata": {},
     "output_type": "display_data"
    }
   ],
   "source": [
    "# duplicate UniRef IDs\n",
    "hm2 %>%\n",
    "    group_by(UniRefID) %>%\n",
    "    summarize(n = n()) %>%\n",
    "    ungroup() %>%\n",
    "    filter(n > 1) %>%\n",
    "    arrange(-n) %>%\n",
    "    head(n=30)"
   ]
  },
  {
   "cell_type": "code",
   "execution_count": 33,
   "metadata": {
    "ExecuteTime": {
     "end_time": "2019-09-30T06:37:19.525523Z",
     "start_time": "2019-09-30T06:37:18.103Z"
    }
   },
   "outputs": [
    {
     "data": {
      "text/html": [
       "78364"
      ],
      "text/latex": [
       "78364"
      ],
      "text/markdown": [
       "78364"
      ],
      "text/plain": [
       "[1] 78364"
      ]
     },
     "metadata": {},
     "output_type": "display_data"
    }
   ],
   "source": [
    "# number of genes with a taxID\n",
    "hm2_f = hm2 %>%\n",
    "    filter(!is.na(TaxID))\n",
    "\n",
    "hm2_f %>% nrow "
   ]
  },
  {
   "cell_type": "markdown",
   "metadata": {},
   "source": [
    "#### By taxonomy"
   ]
  },
  {
   "cell_type": "code",
   "execution_count": 34,
   "metadata": {
    "ExecuteTime": {
     "end_time": "2019-09-30T06:37:21.415328Z",
     "start_time": "2019-09-30T06:37:19.626Z"
    }
   },
   "outputs": [
    {
     "data": {
      "image/png": "[encoded data removed]",
      "text/plain": [
       "plot without title"
      ]
     },
     "metadata": {},
     "output_type": "display_data"
    }
   ],
   "source": [
    "# number of UniRefIDs\n",
    "hm2_f_s = hm2_f %>%\n",
    "    group_by(Domain, Phylum) %>%\n",
    "    summarize(n = UniRefID %>% unique %>% length) %>%\n",
    "    ungroup()\n",
    "\n",
    "p = hm2_f_s %>%\n",
    "    filter(n >= 10) %>%\n",
    "    mutate(Phylum = Phylum %>% reorder(n)) %>%\n",
    "    ggplot(aes(Phylum, n, fill=Domain)) +\n",
    "    geom_bar(stat='identity', position='dodge') +\n",
    "    scale_y_log10() +\n",
    "    coord_flip() +\n",
    "    labs(y='No. of UniRef IDs') +\n",
    "    theme_bw() +\n",
    "    theme(\n",
    "        axis.text.y = element_text(size=7)\n",
    "    )\n",
    "    \n",
    "dims(5,5)\n",
    "plot(p)"
   ]
  },
  {
   "cell_type": "markdown",
   "metadata": {},
   "source": [
    "# sessionInfo"
   ]
  },
  {
   "cell_type": "code",
   "execution_count": 35,
   "metadata": {
    "ExecuteTime": {
     "end_time": "2019-09-30T06:37:21.804121Z",
     "start_time": "2019-09-30T06:37:20.266Z"
    }
   },
   "outputs": [
    {
     "data": {
      "text/plain": [
       "R version 3.4.1 (2017-06-30)\n",
       "Platform: x86_64-pc-linux-gnu (64-bit)\n",
       "Running under: Ubuntu 18.04.3 LTS\n",
       "\n",
       "Matrix products: default\n",
       "BLAS: /ebio/abt3_projects/software/miniconda3_gt4.4/envs/py3_physeq/lib/R/lib/libRblas.so\n",
       "LAPACK: /ebio/abt3_projects/software/miniconda3_gt4.4/envs/py3_physeq/lib/R/lib/libRlapack.so\n",
       "\n",
       "locale:\n",
       "[1] en_US.UTF-8\n",
       "\n",
       "attached base packages:\n",
       "[1] stats     graphics  grDevices utils     datasets  methods   base     \n",
       "\n",
       "other attached packages:\n",
       "[1] bindrcpp_0.2.2    data.table_1.11.4 ggplot2_3.0.0     tidyr_0.8.1      \n",
       "[5] dplyr_0.7.6      \n",
       "\n",
       "loaded via a namespace (and not attached):\n",
       " [1] Rcpp_0.12.17     pillar_1.2.2     compiler_3.4.1   plyr_1.8.4      \n",
       " [5] bindr_0.1.1      base64enc_0.1-3  tools_3.4.1      digest_0.6.15   \n",
       " [9] uuid_0.1-2       jsonlite_1.5     evaluate_0.10.1  tibble_1.4.2    \n",
       "[13] gtable_0.2.0     pkgconfig_2.0.1  rlang_0.2.1      IRdisplay_0.4.4 \n",
       "[17] IRkernel_0.8.12  repr_0.15.0      withr_2.1.1      stringr_1.3.1   \n",
       "[21] grid_3.4.1       tidyselect_0.2.4 glue_1.3.0       R6_2.2.2        \n",
       "[25] pbdZMQ_0.3-2     purrr_0.2.4      magrittr_1.5     scales_0.5.0    \n",
       "[29] htmltools_0.3.6  assertthat_0.2.0 colorspace_1.3-2 labeling_0.3    \n",
       "[33] stringi_1.2.3    lazyeval_0.2.1   munsell_0.5.0    crayon_1.3.4    "
      ]
     },
     "metadata": {},
     "output_type": "display_data"
    }
   ],
   "source": [
    "sessionInfo()"
   ]
  },
  {
   "cell_type": "code",
   "execution_count": null,
   "metadata": {},
   "outputs": [],
   "source": []
  }
 ],
 "metadata": {
  "kernelspec": {
   "display_name": "R [conda env:py3_physeq]",
   "language": "R",
   "name": "conda-env-py3_physeq-r"
  },
  "language_info": {
   "codemirror_mode": "r",
   "file_extension": ".r",
   "mimetype": "text/x-r-source",
   "name": "R",
   "pygments_lexer": "r",
   "version": "3.4.1"
  },
  "notify_time": "30",
  "toc": {
   "base_numbering": 1,
   "nav_menu": {},
   "number_sections": true,
   "sideBar": true,
   "skip_h1_title": false,
   "title_cell": "Table of Contents",
   "title_sidebar": "Contents",
   "toc_cell": true,
   "toc_position": {},
   "toc_section_display": true,
   "toc_window_display": true
  }
 },
 "nbformat": 4,
 "nbformat_minor": 2
}
