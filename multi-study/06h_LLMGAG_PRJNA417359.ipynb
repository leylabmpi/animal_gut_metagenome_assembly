{
 "cells": [
  {
   "cell_type": "markdown",
   "metadata": {
    "toc": true
   },
   "source": [
    "<h1>Table of Contents<span class=\"tocSkip\"></span></h1>\n",
    "<div class=\"toc\"><ul class=\"toc-item\"><li><span><a href=\"#Goal\" data-toc-modified-id=\"Goal-1\"><span class=\"toc-item-num\">1&nbsp;&nbsp;</span>Goal</a></span></li><li><span><a href=\"#Var\" data-toc-modified-id=\"Var-2\"><span class=\"toc-item-num\">2&nbsp;&nbsp;</span>Var</a></span></li><li><span><a href=\"#Init\" data-toc-modified-id=\"Init-3\"><span class=\"toc-item-num\">3&nbsp;&nbsp;</span>Init</a></span></li><li><span><a href=\"#LLMGAG\" data-toc-modified-id=\"LLMGAG-4\"><span class=\"toc-item-num\">4&nbsp;&nbsp;</span>LLMGAG</a></span><ul class=\"toc-item\"><li><span><a href=\"#Setup\" data-toc-modified-id=\"Setup-4.1\"><span class=\"toc-item-num\">4.1&nbsp;&nbsp;</span>Setup</a></span><ul class=\"toc-item\"><li><span><a href=\"#Run\" data-toc-modified-id=\"Run-4.1.1\"><span class=\"toc-item-num\">4.1.1&nbsp;&nbsp;</span>Run</a></span></li></ul></li></ul></li><li><span><a href=\"#Summary\" data-toc-modified-id=\"Summary-5\"><span class=\"toc-item-num\">5&nbsp;&nbsp;</span>Summary</a></span><ul class=\"toc-item\"><li><span><a href=\"#Number-of-genes-assembled-&amp;-clustered\" data-toc-modified-id=\"Number-of-genes-assembled-&amp;-clustered-5.1\"><span class=\"toc-item-num\">5.1&nbsp;&nbsp;</span>Number of genes assembled &amp; clustered</a></span></li><li><span><a href=\"#Taxonomy\" data-toc-modified-id=\"Taxonomy-5.2\"><span class=\"toc-item-num\">5.2&nbsp;&nbsp;</span>Taxonomy</a></span><ul class=\"toc-item\"><li><span><a href=\"#Summary\" data-toc-modified-id=\"Summary-5.2.1\"><span class=\"toc-item-num\">5.2.1&nbsp;&nbsp;</span>Summary</a></span></li></ul></li><li><span><a href=\"#Annotations\" data-toc-modified-id=\"Annotations-5.3\"><span class=\"toc-item-num\">5.3&nbsp;&nbsp;</span>Annotations</a></span><ul class=\"toc-item\"><li><span><a href=\"#COG-functional-categories\" data-toc-modified-id=\"COG-functional-categories-5.3.1\"><span class=\"toc-item-num\">5.3.1&nbsp;&nbsp;</span>COG functional categories</a></span></li><li><span><a href=\"#Grouped-by-taxonomy\" data-toc-modified-id=\"Grouped-by-taxonomy-5.3.2\"><span class=\"toc-item-num\">5.3.2&nbsp;&nbsp;</span>Grouped by taxonomy</a></span></li></ul></li><li><span><a href=\"#humann2-db-genes\" data-toc-modified-id=\"humann2-db-genes-5.4\"><span class=\"toc-item-num\">5.4&nbsp;&nbsp;</span>humann2 db genes</a></span><ul class=\"toc-item\"><li><span><a href=\"#Summary\" data-toc-modified-id=\"Summary-5.4.1\"><span class=\"toc-item-num\">5.4.1&nbsp;&nbsp;</span>Summary</a></span><ul class=\"toc-item\"><li><span><a href=\"#By-taxonomy\" data-toc-modified-id=\"By-taxonomy-5.4.1.1\"><span class=\"toc-item-num\">5.4.1.1&nbsp;&nbsp;</span>By taxonomy</a></span></li></ul></li></ul></li></ul></li><li><span><a href=\"#sessionInfo\" data-toc-modified-id=\"sessionInfo-6\"><span class=\"toc-item-num\">6&nbsp;&nbsp;</span>sessionInfo</a></span></li></ul></div>"
   ]
  },
  {
   "cell_type": "markdown",
   "metadata": {},
   "source": [
    "# Goal\n",
    "\n",
    "* Run `LLMGAG` (metagenome assembly of genes) pipeline on animal gut microbiome metagenome study\n",
    "* study = PRJNA417359\n",
    "  * host = chicken"
   ]
  },
  {
   "cell_type": "markdown",
   "metadata": {},
   "source": [
    "# Var"
   ]
  },
  {
   "cell_type": "code",
   "execution_count": 1,
   "metadata": {
    "ExecuteTime": {
     "end_time": "2019-09-26T19:14:49.215748Z",
     "start_time": "2019-09-26T19:14:48.762Z"
    }
   },
   "outputs": [],
   "source": [
    "studyID = 'PRJNA417359'\n",
    "base_dir = file.path('/ebio/abt3_projects/Georg_animal_feces/data/metagenome/multi-study/BioProjects/',\n",
    "                     studyID)\n",
    "tmp_out_dir = file.path('/ebio/abt3_projects/databases_no-backup/animal_gut_metagenomes/multi-study_MG-asmbl/',\n",
    "                        studyID)\n",
    "\n",
    "work_dir = file.path(base_dir, 'LLMGAG')\n",
    "\n",
    "pipeline_dir = '/ebio/abt3_projects/methanogen_host_evo/bin/llmgag'\n",
    "threads = 24"
   ]
  },
  {
   "cell_type": "markdown",
   "metadata": {},
   "source": [
    "# Init"
   ]
  },
  {
   "cell_type": "code",
   "execution_count": 2,
   "metadata": {
    "ExecuteTime": {
     "end_time": "2019-09-26T19:14:52.981214Z",
     "start_time": "2019-09-26T19:14:51.047Z"
    }
   },
   "outputs": [
    {
     "name": "stderr",
     "output_type": "stream",
     "text": [
      "\n",
      "Attaching package: ‘dplyr’\n",
      "\n",
      "The following objects are masked from ‘package:stats’:\n",
      "\n",
      "    filter, lag\n",
      "\n",
      "The following objects are masked from ‘package:base’:\n",
      "\n",
      "    intersect, setdiff, setequal, union\n",
      "\n",
      "\n",
      "Attaching package: ‘data.table’\n",
      "\n",
      "The following objects are masked from ‘package:dplyr’:\n",
      "\n",
      "    between, first, last\n",
      "\n"
     ]
    }
   ],
   "source": [
    "library(dplyr)\n",
    "library(tidyr)\n",
    "library(ggplot2)\n",
    "library(data.table)\n",
    "set.seed(8304)\n",
    "\n",
    "source('/ebio/abt3_projects/Georg_animal_feces/code/misc_r_functions/init.R')"
   ]
  },
  {
   "cell_type": "code",
   "execution_count": 3,
   "metadata": {
    "ExecuteTime": {
     "end_time": "2019-09-26T19:14:53.291598Z",
     "start_time": "2019-09-26T19:14:51.447Z"
    }
   },
   "outputs": [
    {
     "name": "stdout",
     "output_type": "stream",
     "text": [
      "Directory already exists: /ebio/abt3_projects/Georg_animal_feces/data/metagenome/multi-study/BioProjects//PRJNA417359 \n",
      "Directory already exists: /ebio/abt3_projects/databases_no-backup/animal_gut_metagenomes/multi-study_MG-asmbl//PRJNA417359 \n",
      "Created directory: /ebio/abt3_projects/Georg_animal_feces/data/metagenome/multi-study/BioProjects//PRJNA417359/LLMGAG \n"
     ]
    }
   ],
   "source": [
    "make_dir(base_dir)\n",
    "make_dir(tmp_out_dir)\n",
    "make_dir(work_dir)"
   ]
  },
  {
   "cell_type": "markdown",
   "metadata": {},
   "source": [
    "# LLMGAG"
   ]
  },
  {
   "cell_type": "markdown",
   "metadata": {},
   "source": [
    "## Setup"
   ]
  },
  {
   "cell_type": "code",
   "execution_count": null,
   "metadata": {
    "ExecuteTime": {
     "end_time": "2019-09-19T08:06:40.212990Z",
     "start_time": "2019-09-19T08:06:40.166Z"
    }
   },
   "outputs": [],
   "source": [
    "cat_file(file.path(work_dir, 'config.yaml'))"
   ]
  },
  {
   "cell_type": "markdown",
   "metadata": {},
   "source": [
    "### Run"
   ]
  },
  {
   "cell_type": "markdown",
   "metadata": {},
   "source": [
    "```{bash}\n",
    "(snakemake_dev) @ rick:/ebio/abt3_projects/methanogen_host_evo/bin/llmgag\n",
    "$ screen -L -S llmgag-PRJNA417359 ./snakemake_sge.sh /ebio/abt3_projects/Georg_animal_feces/data/metagenome/multi-study/BioProjects/PRJNA417359/LLMGAG/config.yaml cluster.json /ebio/abt3_projects/Georg_animal_feces/data/metagenome/multi-study/BioProjects/PRJNA417359/LLMGAG/SGE_log 24\n",
    "```"
   ]
  },
  {
   "cell_type": "code",
   "execution_count": 4,
   "metadata": {
    "ExecuteTime": {
     "end_time": "2019-09-26T19:18:23.837596Z",
     "start_time": "2019-09-26T19:18:23.755Z"
    }
   },
   "outputs": [
    {
     "name": "stdout",
     "output_type": "stream",
     "text": [
      "LLMGAG\n",
      "======\n",
      "\n",
      "Ley Lab Metagenome Assembly of Genes (LLMGAG)\n",
      "\n",
      "* Version: 0.1.3\n",
      "* Authors:\n",
      "  * Nick Youngblut <nyoungb2@gmail.com>\n",
      "* Maintainers:\n",
      "  * Nick Youngblut <nyoungb2@gmail.com>\n",
      "\n",
      "--- conda envs ---\n",
      "==> /ebio/abt3_projects/methanogen_host_evo/bin/llmgag/bin/envs/annotate.yaml <==\n",
      "channels: !!python/tuple\n",
      "- bioconda\n",
      "dependencies:\n",
      "- pigz\n",
      "- bioconda::fasta-splitter\n",
      "- bioconda::eggnog-mapper\n",
      "\n",
      "==> /ebio/abt3_projects/methanogen_host_evo/bin/llmgag/bin/envs/checkm.yaml <==\n",
      "channels: !!python/tuple\n",
      "- bioconda\n",
      "dependencies:\n",
      "- python=2\n",
      "- pigz\n",
      "- bioconda::prodigal\n",
      "- bioconda::pplacer\n",
      "- bioconda::checkm-genome\n",
      "\n",
      "==> /ebio/abt3_projects/methanogen_host_evo/bin/llmgag/bin/envs/das_tool.yaml <==\n",
      "channels: !!python/tuple\n",
      "- r\n",
      "- bioconda\n",
      "dependencies:\n",
      "- pigz\n",
      "- ruby\n",
      "- r::r-base\n",
      "- r::r-data.table\n",
      "- r::r-domc\n",
      "- r::r-ggplot2\n",
      "- bioconda::pullseq\n",
      "- bioconda::prodigal\n",
      "- bioconda::blast\n",
      "- bioconda::diamond\n",
      "==> /ebio/abt3_projects/methanogen_host_evo/bin/llmgag/bin/envs/dask.yaml <==\n",
      "channels: !!python/tuple\n",
      "- conda-forge\n",
      "dependencies:\n",
      "- conda-forge::dask=0.18.1\n",
      "\n",
      "==> /ebio/abt3_projects/methanogen_host_evo/bin/llmgag/bin/envs/empanda.yaml <==\n",
      "channels: !!python/tuple\n",
      "- bioconda\n",
      "- conda-forge\n",
      "dependencies:\n",
      "- pigz\n",
      "- conda-forge::numpy=1.15\n",
      "- conda-forge::pandas\n",
      "- conda-forge::r-argparse\n",
      "- conda-forge::r-dplyr\n",
      "- conda-forge::r-tidyr\n",
      "- conda-forge::r-stringr\n",
      "- conda-forge::r-data.table\n",
      "- pip:\n",
      "  - empanada\n",
      "\n",
      "==> /ebio/abt3_projects/methanogen_host_evo/bin/llmgag/bin/envs/hadley.yaml <==\n",
      "channels: !!python/tuple\n",
      "- conda-forge\n",
      "dependencies:\n",
      "- conda-forge::r-ape\n",
      "- conda-forge::r-dplyr\n",
      "- conda-forge::r-tidyr\n",
      "- conda-forge::r-ggplot2\n",
      "\n",
      "==> /ebio/abt3_projects/methanogen_host_evo/bin/llmgag/bin/envs/humann2.yaml <==\n",
      "channels: !!python/tuple\n",
      "- bioconda\n",
      "dependencies:\n",
      "- pigz\n",
      "- bioconda::prodigal\n",
      "- bioconda::diamond=0.8.36\n",
      "\n",
      "==> /ebio/abt3_projects/methanogen_host_evo/bin/llmgag/bin/envs/metabat2.yaml <==\n",
      "channels: !!python/tuple\n",
      "- BioBuilds\n",
      "- bioconda\n",
      "dependencies:\n",
      "- pigz\n",
      "- python=2.7\n",
      "- BioBuilds::boost>=1.55.0\n",
      "- scons>=2.1.0\n",
      "- zlib>=1.2.4\n",
      "- BioBuilds::binutils>=2.2.2\n",
      "\n",
      "==> /ebio/abt3_projects/methanogen_host_evo/bin/llmgag/bin/envs/multiqc.yaml <==\n",
      "channels: !!python/tuple\n",
      "- bioconda\n",
      "dependencies:\n",
      "- bioconda::fastqc\n",
      "- bioconda::multiqc\n",
      "\n",
      "==> /ebio/abt3_projects/methanogen_host_evo/bin/llmgag/bin/envs/plass.yaml <==\n",
      "channels: !!python/tuple\n",
      "- bioconda\n",
      "dependencies:\n",
      "- pigz\n",
      "- bioconda::seqtk\n",
      "- bioconda::samtools\n",
      "- bioconda::mmseqs2\n",
      "- bioconda::plass\n",
      "\n",
      "==> /ebio/abt3_projects/methanogen_host_evo/bin/llmgag/bin/envs/sourmash.yaml <==\n",
      "channels: !!python/tuple\n",
      "- bioconda\n",
      "dependencies:\n",
      "- bioconda::sourmash=2.0.0a9\n",
      "\n",
      "==> /ebio/abt3_projects/methanogen_host_evo/bin/llmgag/bin/envs/vamb.yaml <==\n",
      "channels: !!python/tuple\n",
      "- bioconda\n",
      "- conda-forge\n",
      "dependencies:\n",
      "- pigz\n",
      "- pytorch\n",
      "- numpy\n",
      "- pysam"
     ]
    }
   ],
   "source": [
    "pipelineInfo(pipeline_dir)"
   ]
  },
  {
   "cell_type": "markdown",
   "metadata": {},
   "source": [
    "# Summary"
   ]
  },
  {
   "cell_type": "markdown",
   "metadata": {},
   "source": [
    "## Number of genes assembled & clustered"
   ]
  },
  {
   "cell_type": "code",
   "execution_count": 5,
   "metadata": {
    "ExecuteTime": {
     "end_time": "2019-09-29T18:31:44.923209Z",
     "start_time": "2019-09-29T18:29:09.008Z"
    }
   },
   "outputs": [
    {
     "name": "stdout",
     "output_type": "stream",
     "text": [
      "Number of assembled sequences: 464917761 \n"
     ]
    }
   ],
   "source": [
    "F = file.path(work_dir, 'assembly', 'plass', 'genes.faa')\n",
    "cmd = glue::glue('grep -c \">\" {fasta}', fasta=F)\n",
    "n_raw_seqs = system(cmd, intern=TRUE)\n",
    "cat('Number of assembled sequences:', n_raw_seqs, '\\n')"
   ]
  },
  {
   "cell_type": "code",
   "execution_count": 6,
   "metadata": {
    "ExecuteTime": {
     "end_time": "2019-09-29T18:31:45.748473Z",
     "start_time": "2019-09-29T18:29:09.989Z"
    }
   },
   "outputs": [
    {
     "name": "stdout",
     "output_type": "stream",
     "text": [
      "Number of cluster rep sequences: 252663 \n"
     ]
    }
   ],
   "source": [
    "F = file.path(work_dir, 'cluster', 'linclust', 'clusters_rep-seqs.faa')\n",
    "cmd = glue::glue('grep -c \">\" {fasta}', fasta=F)\n",
    "n_rep_seqs = system(cmd, intern=TRUE)\n",
    "cat('Number of cluster rep sequences:', n_rep_seqs, '\\n')"
   ]
  },
  {
   "cell_type": "code",
   "execution_count": 7,
   "metadata": {
    "ExecuteTime": {
     "end_time": "2019-09-29T18:31:46.469095Z",
     "start_time": "2019-09-29T18:29:10.519Z"
    }
   },
   "outputs": [
    {
     "name": "stdout",
     "output_type": "stream",
     "text": [
      "Number of humann2_db-formatted seqs: 86869 \n"
     ]
    }
   ],
   "source": [
    "F = file.path(work_dir, 'humann2_db', 'clusters_rep-seqs.faa.gz')\n",
    "cmd = glue::glue('gunzip -c {fasta} | grep -c \">\"', fasta=F)\n",
    "n_h2_seqs = system(cmd, intern=TRUE)\n",
    "cat('Number of humann2_db-formatted seqs:', n_h2_seqs, '\\n')"
   ]
  },
  {
   "cell_type": "markdown",
   "metadata": {},
   "source": [
    "## Taxonomy"
   ]
  },
  {
   "cell_type": "code",
   "execution_count": 8,
   "metadata": {
    "ExecuteTime": {
     "end_time": "2019-09-29T18:34:23.945151Z",
     "start_time": "2019-09-29T18:34:18.157Z"
    }
   },
   "outputs": [
    {
     "name": "stderr",
     "output_type": "stream",
     "text": [
      "Warning message:\n",
      "“Expected 7 pieces. Additional pieces discarded in 17028 rows [37, 42, 48, 54, 71, 75, 82, 95, 98, 113, 118, 123, 126, 141, 148, 151, 160, 168, 185, 186, ...].”Warning message:\n",
      "“Expected 7 pieces. Missing pieces filled with `NA` in 52376 rows [1, 8, 12, 15, 19, 20, 22, 23, 27, 29, 32, 41, 49, 51, 52, 57, 62, 66, 67, 68, ...].”"
     ]
    },
    {
     "name": "stdout",
     "output_type": "stream",
     "text": [
      "[1] 252663     11\n"
     ]
    },
    {
     "data": {
      "text/html": [
       "<table>\n",
       "<thead><tr><th scope=col>seqID</th><th scope=col>taxID</th><th scope=col>rank</th><th scope=col>spp</th><th scope=col>Domain</th><th scope=col>Phylum</th><th scope=col>Class</th><th scope=col>Order</th><th scope=col>Family</th><th scope=col>Genus</th><th scope=col>Species</th></tr></thead>\n",
       "<tbody>\n",
       "\t<tr><td>977402196e3f4827a620352af0bc516d </td><td>      0                          </td><td>no rank                          </td><td>unclassified                     </td><td>                                 </td><td>NA                               </td><td>NA                               </td><td>NA                               </td><td>NA                               </td><td>NA                               </td><td>NA                               </td></tr>\n",
       "\t<tr><td>937928dd0bd84707a383cb5b4662e48f </td><td>1255616                          </td><td>no rank                          </td><td>Brevibacterium iodinum ATCC 49514</td><td>unknown                          </td><td>Actinobacteria                   </td><td>Actinobacteria                   </td><td>Micrococcales                    </td><td>Brevibacteriaceae                </td><td>Brevibacterium                   </td><td>Brevibacterium iodinum           </td></tr>\n",
       "\t<tr><td>dd5adfbc35db4432b72a9f4e2c37099d </td><td>    520                          </td><td>species                          </td><td>Bordetella pertussis             </td><td>unknown                          </td><td>Proteobacteria                   </td><td>Betaproteobacteria               </td><td>Burkholderiales                  </td><td>Alcaligenaceae                   </td><td>Bordetella                       </td><td>Bordetella pertussis             </td></tr>\n",
       "</tbody>\n",
       "</table>\n"
      ],
      "text/latex": [
       "\\begin{tabular}{r|lllllllllll}\n",
       " seqID & taxID & rank & spp & Domain & Phylum & Class & Order & Family & Genus & Species\\\\\n",
       "\\hline\n",
       "\t 977402196e3f4827a620352af0bc516d  &       0                           & no rank                           & unclassified                      &                                   & NA                                & NA                                & NA                                & NA                                & NA                                & NA                               \\\\\n",
       "\t 937928dd0bd84707a383cb5b4662e48f  & 1255616                           & no rank                           & Brevibacterium iodinum ATCC 49514 & unknown                           & Actinobacteria                    & Actinobacteria                    & Micrococcales                     & Brevibacteriaceae                 & Brevibacterium                    & Brevibacterium iodinum           \\\\\n",
       "\t dd5adfbc35db4432b72a9f4e2c37099d  &     520                           & species                           & Bordetella pertussis              & unknown                           & Proteobacteria                    & Betaproteobacteria                & Burkholderiales                   & Alcaligenaceae                    & Bordetella                        & Bordetella pertussis             \\\\\n",
       "\\end{tabular}\n"
      ],
      "text/markdown": [
       "\n",
       "seqID | taxID | rank | spp | Domain | Phylum | Class | Order | Family | Genus | Species | \n",
       "|---|---|---|\n",
       "| 977402196e3f4827a620352af0bc516d  |       0                           | no rank                           | unclassified                      |                                   | NA                                | NA                                | NA                                | NA                                | NA                                | NA                                | \n",
       "| 937928dd0bd84707a383cb5b4662e48f  | 1255616                           | no rank                           | Brevibacterium iodinum ATCC 49514 | unknown                           | Actinobacteria                    | Actinobacteria                    | Micrococcales                     | Brevibacteriaceae                 | Brevibacterium                    | Brevibacterium iodinum            | \n",
       "| dd5adfbc35db4432b72a9f4e2c37099d  |     520                           | species                           | Bordetella pertussis              | unknown                           | Proteobacteria                    | Betaproteobacteria                | Burkholderiales                   | Alcaligenaceae                    | Bordetella                        | Bordetella pertussis              | \n",
       "\n",
       "\n"
      ],
      "text/plain": [
       "  seqID                            taxID   rank   \n",
       "1 977402196e3f4827a620352af0bc516d       0 no rank\n",
       "2 937928dd0bd84707a383cb5b4662e48f 1255616 no rank\n",
       "3 dd5adfbc35db4432b72a9f4e2c37099d     520 species\n",
       "  spp                               Domain  Phylum         Class             \n",
       "1 unclassified                              NA             NA                \n",
       "2 Brevibacterium iodinum ATCC 49514 unknown Actinobacteria Actinobacteria    \n",
       "3 Bordetella pertussis              unknown Proteobacteria Betaproteobacteria\n",
       "  Order           Family            Genus          Species               \n",
       "1 NA              NA                NA             NA                    \n",
       "2 Micrococcales   Brevibacteriaceae Brevibacterium Brevibacterium iodinum\n",
       "3 Burkholderiales Alcaligenaceae    Bordetella     Bordetella pertussis  "
      ]
     },
     "metadata": {},
     "output_type": "display_data"
    }
   ],
   "source": [
    "# reading in taxonomy table\n",
    "## WARING: slow\n",
    "F = file.path(work_dir, 'taxonomy', 'clusters_rep-seqs_tax_db.tsv.gz')\n",
    "cmd = glue::glue('gunzip -c {file}', file=F) \n",
    "coln = c('seqID', 'taxID', 'rank', 'spp', 'lineage')\n",
    "levs = c('Domain', 'Phylum', 'Class', 'Order', 'Family', 'Genus', 'Species')\n",
    "tax = fread(cmd, sep='\\t', header=FALSE, col.names=coln, fill=TRUE) %>%\n",
    "    separate(lineage, levs, sep=':')\n",
    "tax %>% dfhead"
   ]
  },
  {
   "cell_type": "code",
   "execution_count": 9,
   "metadata": {
    "ExecuteTime": {
     "end_time": "2019-09-29T18:34:24.066891Z",
     "start_time": "2019-09-29T18:34:19.088Z"
    }
   },
   "outputs": [
    {
     "name": "stdout",
     "output_type": "stream",
     "text": [
      "[1] 252663\n"
     ]
    }
   ],
   "source": [
    "# number of sequences\n",
    "tax$seqID %>% unique %>% length %>% print"
   ]
  },
  {
   "cell_type": "code",
   "execution_count": 10,
   "metadata": {
    "ExecuteTime": {
     "end_time": "2019-09-29T18:34:24.147408Z",
     "start_time": "2019-09-29T18:34:19.215Z"
    }
   },
   "outputs": [
    {
     "name": "stdout",
     "output_type": "stream",
     "text": [
      ".\n",
      "        class        cohort        family         forma         genus \n",
      "          243             1           256             1           314 \n",
      "      kingdom       no rank         order        phylum       species \n",
      "            1        112966           618           449        135901 \n",
      "species group      subclass     subfamily    subspecies  superkingdom \n",
      "            1             1             1          1396           512 \n",
      "     varietas \n",
      "            2 \n"
     ]
    }
   ],
   "source": [
    "# which ranks found?\n",
    "tax$rank %>% table %>% print"
   ]
  },
  {
   "cell_type": "code",
   "execution_count": 11,
   "metadata": {
    "ExecuteTime": {
     "end_time": "2019-09-29T18:34:31.097079Z",
     "start_time": "2019-09-29T18:34:19.561Z"
    }
   },
   "outputs": [
    {
     "data": {
      "text/plain": [
       "   Min. 1st Qu.  Median    Mean 3rd Qu.    Max. \n",
       "      1       1       1       1       1       1 "
      ]
     },
     "metadata": {},
     "output_type": "display_data"
    }
   ],
   "source": [
    "# number of classifications per seqID\n",
    "tax %>%\n",
    "    group_by(seqID) %>%\n",
    "    summarize(n = n()) %>%\n",
    "    ungroup() %>%\n",
    "    .$n %>% summary"
   ]
  },
  {
   "cell_type": "markdown",
   "metadata": {},
   "source": [
    "### Summary"
   ]
  },
  {
   "cell_type": "code",
   "execution_count": 12,
   "metadata": {
    "ExecuteTime": {
     "end_time": "2019-09-29T18:34:31.911609Z",
     "start_time": "2019-09-29T18:34:20.967Z"
    }
   },
   "outputs": [
    {
     "name": "stdout",
     "output_type": "stream",
     "text": [
      "[1] 129   3\n"
     ]
    },
    {
     "data": {
      "text/html": [
       "<table>\n",
       "<thead><tr><th scope=col>Domain</th><th scope=col>Phylum</th><th scope=col>n</th></tr></thead>\n",
       "<tbody>\n",
       "\t<tr><td>Fungi          </td><td>Ascomycota     </td><td>1496           </td></tr>\n",
       "\t<tr><td>Fungi          </td><td>Basidiomycota  </td><td>   5           </td></tr>\n",
       "\t<tr><td>Fungi          </td><td>Chytridiomycota</td><td>  19           </td></tr>\n",
       "</tbody>\n",
       "</table>\n"
      ],
      "text/latex": [
       "\\begin{tabular}{r|lll}\n",
       " Domain & Phylum & n\\\\\n",
       "\\hline\n",
       "\t Fungi           & Ascomycota      & 1496           \\\\\n",
       "\t Fungi           & Basidiomycota   &    5           \\\\\n",
       "\t Fungi           & Chytridiomycota &   19           \\\\\n",
       "\\end{tabular}\n"
      ],
      "text/markdown": [
       "\n",
       "Domain | Phylum | n | \n",
       "|---|---|---|\n",
       "| Fungi           | Ascomycota      | 1496            | \n",
       "| Fungi           | Basidiomycota   |    5            | \n",
       "| Fungi           | Chytridiomycota |   19            | \n",
       "\n",
       "\n"
      ],
      "text/plain": [
       "  Domain Phylum          n   \n",
       "1 Fungi  Ascomycota      1496\n",
       "2 Fungi  Basidiomycota      5\n",
       "3 Fungi  Chytridiomycota   19"
      ]
     },
     "metadata": {},
     "output_type": "display_data"
    }
   ],
   "source": [
    "# summarizing taxonomy\n",
    "tax_s = tax %>%\n",
    "    filter(Domain != '',\n",
    "           Phylum != '') %>%\n",
    "    group_by(Domain, Phylum) %>%\n",
    "    summarize(n = seqID %>% unique %>% length) %>%\n",
    "    ungroup() \n",
    " \n",
    "tax_s %>% dfhead"
   ]
  },
  {
   "cell_type": "code",
   "execution_count": 14,
   "metadata": {
    "ExecuteTime": {
     "end_time": "2019-09-29T18:34:44.566024Z",
     "start_time": "2019-09-29T18:34:41.274Z"
    },
    "scrolled": false
   },
   "outputs": [
    {
     "data": {
      "image/png": "[encoded data removed]",
      "text/plain": [
       "plot without title"
      ]
     },
     "metadata": {},
     "output_type": "display_data"
    }
   ],
   "source": [
    "# plotting by phylum\n",
    "p = tax_s %>%\n",
    "    filter(n > 10) %>%\n",
    "    mutate(Phylum = Phylum %>% reorder(n)) %>%\n",
    "    ggplot(aes(Phylum, n, fill=Domain)) +\n",
    "    geom_bar(stat='identity', position='dodge') +\n",
    "    scale_y_log10() +\n",
    "    labs(y = 'No. of genes') +\n",
    "    coord_flip() +\n",
    "    theme_bw() +\n",
    "    theme(\n",
    "        axis.text.y = element_text(size=7)\n",
    "    )\n",
    "\n",
    "dims(5,7)\n",
    "plot(p)"
   ]
  },
  {
   "cell_type": "code",
   "execution_count": 15,
   "metadata": {
    "ExecuteTime": {
     "end_time": "2019-09-29T18:34:44.728231Z",
     "start_time": "2019-09-29T18:34:43.240Z"
    }
   },
   "outputs": [
    {
     "data": {
      "text/html": [
       "<table>\n",
       "<thead><tr><th scope=col>Domain</th><th scope=col>Phylum</th><th scope=col>n</th></tr></thead>\n",
       "<tbody>\n",
       "\t<tr><td>unknown                   </td><td>Firmicutes                </td><td>133310                    </td></tr>\n",
       "\t<tr><td>unknown                   </td><td>Proteobacteria            </td><td> 20718                    </td></tr>\n",
       "\t<tr><td>unknown                   </td><td>Actinobacteria            </td><td> 17596                    </td></tr>\n",
       "\t<tr><td>unknown                   </td><td>Bacteroidetes             </td><td> 16594                    </td></tr>\n",
       "\t<tr><td>unknown                   </td><td>unknown                   </td><td>  3690                    </td></tr>\n",
       "\t<tr><td>Fungi                     </td><td>Ascomycota                </td><td>  1496                    </td></tr>\n",
       "\t<tr><td>Metazoa                   </td><td>Nematoda                  </td><td>  1252                    </td></tr>\n",
       "\t<tr><td>unknown                   </td><td>Spirochaetes              </td><td>   707                    </td></tr>\n",
       "\t<tr><td>uc_Bacteria               </td><td>uc_Bacteria               </td><td>   511                    </td></tr>\n",
       "\t<tr><td>unknown                   </td><td>Chlamydiae                </td><td>   374                    </td></tr>\n",
       "\t<tr><td>Metazoa                   </td><td>Arthropoda                </td><td>   364                    </td></tr>\n",
       "\t<tr><td>unknown                   </td><td>Synergistetes             </td><td>   341                    </td></tr>\n",
       "\t<tr><td>unknown                   </td><td>Tenericutes               </td><td>   334                    </td></tr>\n",
       "\t<tr><td>unknown                   </td><td>Euryarchaeota             </td><td>   328                    </td></tr>\n",
       "\t<tr><td>unknown                   </td><td>Chloroflexi               </td><td>   327                    </td></tr>\n",
       "\t<tr><td>unknown                   </td><td>Fusobacteria              </td><td>   288                    </td></tr>\n",
       "\t<tr><td>unknown                   </td><td>Verrucomicrobia           </td><td>   203                    </td></tr>\n",
       "\t<tr><td>unknown                   </td><td>Cyanobacteria             </td><td>   163                    </td></tr>\n",
       "\t<tr><td>Viridiplantae             </td><td>Streptophyta              </td><td>   143                    </td></tr>\n",
       "\t<tr><td>unknown                   </td><td>Acidobacteria             </td><td>   137                    </td></tr>\n",
       "\t<tr><td>unknown                   </td><td>Planctomycetes            </td><td>   137                    </td></tr>\n",
       "\t<tr><td>unknown                   </td><td>Thermotogae               </td><td>    99                    </td></tr>\n",
       "\t<tr><td>unknown                   </td><td>Ignavibacteriae           </td><td>    80                    </td></tr>\n",
       "\t<tr><td>unknown                   </td><td>Fibrobacteres             </td><td>    76                    </td></tr>\n",
       "\t<tr><td>unknown                   </td><td>Aquificae                 </td><td>    71                    </td></tr>\n",
       "\t<tr><td>unknown                   </td><td>Nitrospirae               </td><td>    60                    </td></tr>\n",
       "\t<tr><td>unknown                   </td><td>Candidatus Melainabacteria</td><td>    58                    </td></tr>\n",
       "\t<tr><td>unknown                   </td><td>Deferribacteres           </td><td>    58                    </td></tr>\n",
       "\t<tr><td>unknown                   </td><td>Lentisphaerae             </td><td>    53                    </td></tr>\n",
       "\t<tr><td>unknown                   </td><td>Deinococcus-Thermus       </td><td>    52                    </td></tr>\n",
       "</tbody>\n",
       "</table>\n"
      ],
      "text/latex": [
       "\\begin{tabular}{r|lll}\n",
       " Domain & Phylum & n\\\\\n",
       "\\hline\n",
       "\t unknown                    & Firmicutes                 & 133310                    \\\\\n",
       "\t unknown                    & Proteobacteria             &  20718                    \\\\\n",
       "\t unknown                    & Actinobacteria             &  17596                    \\\\\n",
       "\t unknown                    & Bacteroidetes              &  16594                    \\\\\n",
       "\t unknown                    & unknown                    &   3690                    \\\\\n",
       "\t Fungi                      & Ascomycota                 &   1496                    \\\\\n",
       "\t Metazoa                    & Nematoda                   &   1252                    \\\\\n",
       "\t unknown                    & Spirochaetes               &    707                    \\\\\n",
       "\t uc\\_Bacteria                & uc\\_Bacteria                &    511                      \\\\\n",
       "\t unknown                    & Chlamydiae                 &    374                    \\\\\n",
       "\t Metazoa                    & Arthropoda                 &    364                    \\\\\n",
       "\t unknown                    & Synergistetes              &    341                    \\\\\n",
       "\t unknown                    & Tenericutes                &    334                    \\\\\n",
       "\t unknown                    & Euryarchaeota              &    328                    \\\\\n",
       "\t unknown                    & Chloroflexi                &    327                    \\\\\n",
       "\t unknown                    & Fusobacteria               &    288                    \\\\\n",
       "\t unknown                    & Verrucomicrobia            &    203                    \\\\\n",
       "\t unknown                    & Cyanobacteria              &    163                    \\\\\n",
       "\t Viridiplantae              & Streptophyta               &    143                    \\\\\n",
       "\t unknown                    & Acidobacteria              &    137                    \\\\\n",
       "\t unknown                    & Planctomycetes             &    137                    \\\\\n",
       "\t unknown                    & Thermotogae                &     99                    \\\\\n",
       "\t unknown                    & Ignavibacteriae            &     80                    \\\\\n",
       "\t unknown                    & Fibrobacteres              &     76                    \\\\\n",
       "\t unknown                    & Aquificae                  &     71                    \\\\\n",
       "\t unknown                    & Nitrospirae                &     60                    \\\\\n",
       "\t unknown                    & Candidatus Melainabacteria &     58                    \\\\\n",
       "\t unknown                    & Deferribacteres            &     58                    \\\\\n",
       "\t unknown                    & Lentisphaerae              &     53                    \\\\\n",
       "\t unknown                    & Deinococcus-Thermus        &     52                    \\\\\n",
       "\\end{tabular}\n"
      ],
      "text/markdown": [
       "\n",
       "Domain | Phylum | n | \n",
       "|---|---|---|---|---|---|---|---|---|---|---|---|---|---|---|---|---|---|---|---|---|---|---|---|---|---|---|---|---|---|\n",
       "| unknown                    | Firmicutes                 | 133310                     | \n",
       "| unknown                    | Proteobacteria             |  20718                     | \n",
       "| unknown                    | Actinobacteria             |  17596                     | \n",
       "| unknown                    | Bacteroidetes              |  16594                     | \n",
       "| unknown                    | unknown                    |   3690                     | \n",
       "| Fungi                      | Ascomycota                 |   1496                     | \n",
       "| Metazoa                    | Nematoda                   |   1252                     | \n",
       "| unknown                    | Spirochaetes               |    707                     | \n",
       "| uc_Bacteria                | uc_Bacteria                |    511                     | \n",
       "| unknown                    | Chlamydiae                 |    374                     | \n",
       "| Metazoa                    | Arthropoda                 |    364                     | \n",
       "| unknown                    | Synergistetes              |    341                     | \n",
       "| unknown                    | Tenericutes                |    334                     | \n",
       "| unknown                    | Euryarchaeota              |    328                     | \n",
       "| unknown                    | Chloroflexi                |    327                     | \n",
       "| unknown                    | Fusobacteria               |    288                     | \n",
       "| unknown                    | Verrucomicrobia            |    203                     | \n",
       "| unknown                    | Cyanobacteria              |    163                     | \n",
       "| Viridiplantae              | Streptophyta               |    143                     | \n",
       "| unknown                    | Acidobacteria              |    137                     | \n",
       "| unknown                    | Planctomycetes             |    137                     | \n",
       "| unknown                    | Thermotogae                |     99                     | \n",
       "| unknown                    | Ignavibacteriae            |     80                     | \n",
       "| unknown                    | Fibrobacteres              |     76                     | \n",
       "| unknown                    | Aquificae                  |     71                     | \n",
       "| unknown                    | Nitrospirae                |     60                     | \n",
       "| unknown                    | Candidatus Melainabacteria |     58                     | \n",
       "| unknown                    | Deferribacteres            |     58                     | \n",
       "| unknown                    | Lentisphaerae              |     53                     | \n",
       "| unknown                    | Deinococcus-Thermus        |     52                     | \n",
       "\n",
       "\n"
      ],
      "text/plain": [
       "   Domain        Phylum                     n     \n",
       "1  unknown       Firmicutes                 133310\n",
       "2  unknown       Proteobacteria              20718\n",
       "3  unknown       Actinobacteria              17596\n",
       "4  unknown       Bacteroidetes               16594\n",
       "5  unknown       unknown                      3690\n",
       "6  Fungi         Ascomycota                   1496\n",
       "7  Metazoa       Nematoda                     1252\n",
       "8  unknown       Spirochaetes                  707\n",
       "9  uc_Bacteria   uc_Bacteria                   511\n",
       "10 unknown       Chlamydiae                    374\n",
       "11 Metazoa       Arthropoda                    364\n",
       "12 unknown       Synergistetes                 341\n",
       "13 unknown       Tenericutes                   334\n",
       "14 unknown       Euryarchaeota                 328\n",
       "15 unknown       Chloroflexi                   327\n",
       "16 unknown       Fusobacteria                  288\n",
       "17 unknown       Verrucomicrobia               203\n",
       "18 unknown       Cyanobacteria                 163\n",
       "19 Viridiplantae Streptophyta                  143\n",
       "20 unknown       Acidobacteria                 137\n",
       "21 unknown       Planctomycetes                137\n",
       "22 unknown       Thermotogae                    99\n",
       "23 unknown       Ignavibacteriae                80\n",
       "24 unknown       Fibrobacteres                  76\n",
       "25 unknown       Aquificae                      71\n",
       "26 unknown       Nitrospirae                    60\n",
       "27 unknown       Candidatus Melainabacteria     58\n",
       "28 unknown       Deferribacteres                58\n",
       "29 unknown       Lentisphaerae                  53\n",
       "30 unknown       Deinococcus-Thermus            52"
      ]
     },
     "metadata": {},
     "output_type": "display_data"
    }
   ],
   "source": [
    "# top phyla\n",
    "tax_s %>% \n",
    "    arrange(-n) %>%\n",
    "    head(n=30)"
   ]
  },
  {
   "cell_type": "code",
   "execution_count": 16,
   "metadata": {
    "ExecuteTime": {
     "end_time": "2019-09-29T18:34:45.266176Z",
     "start_time": "2019-09-29T18:34:43.695Z"
    }
   },
   "outputs": [
    {
     "name": "stdout",
     "output_type": "stream",
     "text": [
      "[1] 238   4\n"
     ]
    },
    {
     "data": {
      "text/html": [
       "<table>\n",
       "<thead><tr><th scope=col>Domain</th><th scope=col>Phylum</th><th scope=col>Class</th><th scope=col>n</th></tr></thead>\n",
       "<tbody>\n",
       "\t<tr><td>Fungi          </td><td>Ascomycota     </td><td>Dothideomycetes</td><td>16             </td></tr>\n",
       "\t<tr><td>Fungi          </td><td>Ascomycota     </td><td>Eurotiomycetes </td><td>18             </td></tr>\n",
       "\t<tr><td>Fungi          </td><td>Ascomycota     </td><td>Leotiomycetes  </td><td> 4             </td></tr>\n",
       "</tbody>\n",
       "</table>\n"
      ],
      "text/latex": [
       "\\begin{tabular}{r|llll}\n",
       " Domain & Phylum & Class & n\\\\\n",
       "\\hline\n",
       "\t Fungi           & Ascomycota      & Dothideomycetes & 16             \\\\\n",
       "\t Fungi           & Ascomycota      & Eurotiomycetes  & 18             \\\\\n",
       "\t Fungi           & Ascomycota      & Leotiomycetes   &  4             \\\\\n",
       "\\end{tabular}\n"
      ],
      "text/markdown": [
       "\n",
       "Domain | Phylum | Class | n | \n",
       "|---|---|---|\n",
       "| Fungi           | Ascomycota      | Dothideomycetes | 16              | \n",
       "| Fungi           | Ascomycota      | Eurotiomycetes  | 18              | \n",
       "| Fungi           | Ascomycota      | Leotiomycetes   |  4              | \n",
       "\n",
       "\n"
      ],
      "text/plain": [
       "  Domain Phylum     Class           n \n",
       "1 Fungi  Ascomycota Dothideomycetes 16\n",
       "2 Fungi  Ascomycota Eurotiomycetes  18\n",
       "3 Fungi  Ascomycota Leotiomycetes    4"
      ]
     },
     "metadata": {},
     "output_type": "display_data"
    }
   ],
   "source": [
    "# summarizing taxonomy\n",
    "tax_s = tax %>%\n",
    "    filter(Domain != '',\n",
    "           Phylum != '',\n",
    "           Class != '') %>%\n",
    "    group_by(Domain, Phylum, Class) %>%\n",
    "    summarize(n = seqID %>% unique %>% length) %>%\n",
    "    ungroup() \n",
    " \n",
    "tax_s %>% dfhead"
   ]
  },
  {
   "cell_type": "code",
   "execution_count": 17,
   "metadata": {
    "ExecuteTime": {
     "end_time": "2019-09-29T18:34:45.335456Z",
     "start_time": "2019-09-29T18:34:44.539Z"
    }
   },
   "outputs": [
    {
     "data": {
      "text/html": [
       "<table>\n",
       "<thead><tr><th scope=col>Domain</th><th scope=col>Phylum</th><th scope=col>Class</th><th scope=col>n</th></tr></thead>\n",
       "<tbody>\n",
       "\t<tr><td>unknown            </td><td>Firmicutes         </td><td>Clostridia         </td><td>66868              </td></tr>\n",
       "\t<tr><td>unknown            </td><td>Firmicutes         </td><td>Bacilli            </td><td>56534              </td></tr>\n",
       "\t<tr><td>unknown            </td><td>Proteobacteria     </td><td>Gammaproteobacteria</td><td>17437              </td></tr>\n",
       "\t<tr><td>unknown            </td><td>Actinobacteria     </td><td>Actinobacteria     </td><td>15168              </td></tr>\n",
       "\t<tr><td>unknown            </td><td>Bacteroidetes      </td><td>Bacteroidia        </td><td>13971              </td></tr>\n",
       "\t<tr><td>unknown            </td><td>Firmicutes         </td><td>unknown            </td><td> 6636              </td></tr>\n",
       "\t<tr><td>unknown            </td><td>unknown            </td><td>unknown            </td><td> 3665              </td></tr>\n",
       "\t<tr><td>unknown            </td><td>Actinobacteria     </td><td>Coriobacteriia     </td><td> 2277              </td></tr>\n",
       "\t<tr><td>Fungi              </td><td>Ascomycota         </td><td>Sordariomycetes    </td><td> 1436              </td></tr>\n",
       "\t<tr><td>unknown            </td><td>Firmicutes         </td><td>Erysipelotrichia   </td><td> 1243              </td></tr>\n",
       "\t<tr><td>unknown            </td><td>Firmicutes         </td><td>Negativicutes      </td><td> 1221              </td></tr>\n",
       "\t<tr><td>unknown            </td><td>Proteobacteria     </td><td>Alphaproteobacteria</td><td> 1158              </td></tr>\n",
       "\t<tr><td>Metazoa            </td><td>Nematoda           </td><td>Enoplea            </td><td> 1156              </td></tr>\n",
       "\t<tr><td>unknown            </td><td>Bacteroidetes      </td><td>unknown            </td><td> 1033              </td></tr>\n",
       "\t<tr><td>unknown            </td><td>Proteobacteria     </td><td>Betaproteobacteria </td><td> 1029              </td></tr>\n",
       "\t<tr><td>unknown            </td><td>Proteobacteria     </td><td>Deltaproteobacteria</td><td>  784              </td></tr>\n",
       "\t<tr><td>unknown            </td><td>Bacteroidetes      </td><td>Flavobacteriia     </td><td>  647              </td></tr>\n",
       "\t<tr><td>unknown            </td><td>Spirochaetes       </td><td>Spirochaetia       </td><td>  534              </td></tr>\n",
       "\t<tr><td>uc_Bacteria        </td><td>uc_Bacteria        </td><td>uc_Bacteria        </td><td>  511              </td></tr>\n",
       "\t<tr><td>unknown            </td><td>Firmicutes         </td><td>Tissierellia       </td><td>  449              </td></tr>\n",
       "\t<tr><td>unknown            </td><td>Bacteroidetes      </td><td>Cytophagia         </td><td>  418              </td></tr>\n",
       "\t<tr><td>unknown            </td><td>Chlamydiae         </td><td>Chlamydiia         </td><td>  372              </td></tr>\n",
       "\t<tr><td>unknown            </td><td>Firmicutes         </td><td>uc_Firmicutes      </td><td>  333              </td></tr>\n",
       "\t<tr><td>unknown            </td><td>Fusobacteria       </td><td>Fusobacteriia      </td><td>  288              </td></tr>\n",
       "\t<tr><td>unknown            </td><td>Synergistetes      </td><td>Synergistia        </td><td>  277              </td></tr>\n",
       "\t<tr><td>unknown            </td><td>Bacteroidetes      </td><td>Sphingobacteriia   </td><td>  252              </td></tr>\n",
       "\t<tr><td>Metazoa            </td><td>Arthropoda         </td><td>Insecta            </td><td>  245              </td></tr>\n",
       "\t<tr><td>unknown            </td><td>Tenericutes        </td><td>unknown            </td><td>  185              </td></tr>\n",
       "\t<tr><td>unknown            </td><td>Spirochaetes       </td><td>unknown            </td><td>  173              </td></tr>\n",
       "\t<tr><td>unknown            </td><td>Chloroflexi        </td><td>unknown            </td><td>  169              </td></tr>\n",
       "</tbody>\n",
       "</table>\n"
      ],
      "text/latex": [
       "\\begin{tabular}{r|llll}\n",
       " Domain & Phylum & Class & n\\\\\n",
       "\\hline\n",
       "\t unknown             & Firmicutes          & Clostridia          & 66868              \\\\\n",
       "\t unknown             & Firmicutes          & Bacilli             & 56534              \\\\\n",
       "\t unknown             & Proteobacteria      & Gammaproteobacteria & 17437              \\\\\n",
       "\t unknown             & Actinobacteria      & Actinobacteria      & 15168              \\\\\n",
       "\t unknown             & Bacteroidetes       & Bacteroidia         & 13971              \\\\\n",
       "\t unknown             & Firmicutes          & unknown             &  6636              \\\\\n",
       "\t unknown             & unknown             & unknown             &  3665              \\\\\n",
       "\t unknown             & Actinobacteria      & Coriobacteriia      &  2277              \\\\\n",
       "\t Fungi               & Ascomycota          & Sordariomycetes     &  1436              \\\\\n",
       "\t unknown             & Firmicutes          & Erysipelotrichia    &  1243              \\\\\n",
       "\t unknown             & Firmicutes          & Negativicutes       &  1221              \\\\\n",
       "\t unknown             & Proteobacteria      & Alphaproteobacteria &  1158              \\\\\n",
       "\t Metazoa             & Nematoda            & Enoplea             &  1156              \\\\\n",
       "\t unknown             & Bacteroidetes       & unknown             &  1033              \\\\\n",
       "\t unknown             & Proteobacteria      & Betaproteobacteria  &  1029              \\\\\n",
       "\t unknown             & Proteobacteria      & Deltaproteobacteria &   784              \\\\\n",
       "\t unknown             & Bacteroidetes       & Flavobacteriia      &   647              \\\\\n",
       "\t unknown             & Spirochaetes        & Spirochaetia        &   534              \\\\\n",
       "\t uc\\_Bacteria         & uc\\_Bacteria         & uc\\_Bacteria         &   511                \\\\\n",
       "\t unknown             & Firmicutes          & Tissierellia        &   449              \\\\\n",
       "\t unknown             & Bacteroidetes       & Cytophagia          &   418              \\\\\n",
       "\t unknown             & Chlamydiae          & Chlamydiia          &   372              \\\\\n",
       "\t unknown               & Firmicutes            & uc\\_Firmicutes       &   333                \\\\\n",
       "\t unknown             & Fusobacteria        & Fusobacteriia       &   288              \\\\\n",
       "\t unknown             & Synergistetes       & Synergistia         &   277              \\\\\n",
       "\t unknown             & Bacteroidetes       & Sphingobacteriia    &   252              \\\\\n",
       "\t Metazoa             & Arthropoda          & Insecta             &   245              \\\\\n",
       "\t unknown             & Tenericutes         & unknown             &   185              \\\\\n",
       "\t unknown             & Spirochaetes        & unknown             &   173              \\\\\n",
       "\t unknown             & Chloroflexi         & unknown             &   169              \\\\\n",
       "\\end{tabular}\n"
      ],
      "text/markdown": [
       "\n",
       "Domain | Phylum | Class | n | \n",
       "|---|---|---|---|---|---|---|---|---|---|---|---|---|---|---|---|---|---|---|---|---|---|---|---|---|---|---|---|---|---|\n",
       "| unknown             | Firmicutes          | Clostridia          | 66868               | \n",
       "| unknown             | Firmicutes          | Bacilli             | 56534               | \n",
       "| unknown             | Proteobacteria      | Gammaproteobacteria | 17437               | \n",
       "| unknown             | Actinobacteria      | Actinobacteria      | 15168               | \n",
       "| unknown             | Bacteroidetes       | Bacteroidia         | 13971               | \n",
       "| unknown             | Firmicutes          | unknown             |  6636               | \n",
       "| unknown             | unknown             | unknown             |  3665               | \n",
       "| unknown             | Actinobacteria      | Coriobacteriia      |  2277               | \n",
       "| Fungi               | Ascomycota          | Sordariomycetes     |  1436               | \n",
       "| unknown             | Firmicutes          | Erysipelotrichia    |  1243               | \n",
       "| unknown             | Firmicutes          | Negativicutes       |  1221               | \n",
       "| unknown             | Proteobacteria      | Alphaproteobacteria |  1158               | \n",
       "| Metazoa             | Nematoda            | Enoplea             |  1156               | \n",
       "| unknown             | Bacteroidetes       | unknown             |  1033               | \n",
       "| unknown             | Proteobacteria      | Betaproteobacteria  |  1029               | \n",
       "| unknown             | Proteobacteria      | Deltaproteobacteria |   784               | \n",
       "| unknown             | Bacteroidetes       | Flavobacteriia      |   647               | \n",
       "| unknown             | Spirochaetes        | Spirochaetia        |   534               | \n",
       "| uc_Bacteria         | uc_Bacteria         | uc_Bacteria         |   511               | \n",
       "| unknown             | Firmicutes          | Tissierellia        |   449               | \n",
       "| unknown             | Bacteroidetes       | Cytophagia          |   418               | \n",
       "| unknown             | Chlamydiae          | Chlamydiia          |   372               | \n",
       "| unknown             | Firmicutes          | uc_Firmicutes       |   333               | \n",
       "| unknown             | Fusobacteria        | Fusobacteriia       |   288               | \n",
       "| unknown             | Synergistetes       | Synergistia         |   277               | \n",
       "| unknown             | Bacteroidetes       | Sphingobacteriia    |   252               | \n",
       "| Metazoa             | Arthropoda          | Insecta             |   245               | \n",
       "| unknown             | Tenericutes         | unknown             |   185               | \n",
       "| unknown             | Spirochaetes        | unknown             |   173               | \n",
       "| unknown             | Chloroflexi         | unknown             |   169               | \n",
       "\n",
       "\n"
      ],
      "text/plain": [
       "   Domain      Phylum         Class               n    \n",
       "1  unknown     Firmicutes     Clostridia          66868\n",
       "2  unknown     Firmicutes     Bacilli             56534\n",
       "3  unknown     Proteobacteria Gammaproteobacteria 17437\n",
       "4  unknown     Actinobacteria Actinobacteria      15168\n",
       "5  unknown     Bacteroidetes  Bacteroidia         13971\n",
       "6  unknown     Firmicutes     unknown              6636\n",
       "7  unknown     unknown        unknown              3665\n",
       "8  unknown     Actinobacteria Coriobacteriia       2277\n",
       "9  Fungi       Ascomycota     Sordariomycetes      1436\n",
       "10 unknown     Firmicutes     Erysipelotrichia     1243\n",
       "11 unknown     Firmicutes     Negativicutes        1221\n",
       "12 unknown     Proteobacteria Alphaproteobacteria  1158\n",
       "13 Metazoa     Nematoda       Enoplea              1156\n",
       "14 unknown     Bacteroidetes  unknown              1033\n",
       "15 unknown     Proteobacteria Betaproteobacteria   1029\n",
       "16 unknown     Proteobacteria Deltaproteobacteria   784\n",
       "17 unknown     Bacteroidetes  Flavobacteriia        647\n",
       "18 unknown     Spirochaetes   Spirochaetia          534\n",
       "19 uc_Bacteria uc_Bacteria    uc_Bacteria           511\n",
       "20 unknown     Firmicutes     Tissierellia          449\n",
       "21 unknown     Bacteroidetes  Cytophagia            418\n",
       "22 unknown     Chlamydiae     Chlamydiia            372\n",
       "23 unknown     Firmicutes     uc_Firmicutes         333\n",
       "24 unknown     Fusobacteria   Fusobacteriia         288\n",
       "25 unknown     Synergistetes  Synergistia           277\n",
       "26 unknown     Bacteroidetes  Sphingobacteriia      252\n",
       "27 Metazoa     Arthropoda     Insecta               245\n",
       "28 unknown     Tenericutes    unknown               185\n",
       "29 unknown     Spirochaetes   unknown               173\n",
       "30 unknown     Chloroflexi    unknown               169"
      ]
     },
     "metadata": {},
     "output_type": "display_data"
    }
   ],
   "source": [
    "# top hits\n",
    "tax_s %>% \n",
    "    arrange(-n) %>%\n",
    "    head(n=30)"
   ]
  },
  {
   "cell_type": "markdown",
   "metadata": {},
   "source": [
    "## Annotations"
   ]
  },
  {
   "cell_type": "code",
   "execution_count": 18,
   "metadata": {
    "ExecuteTime": {
     "end_time": "2019-09-29T18:34:57.435938Z",
     "start_time": "2019-09-29T18:34:57.391Z"
    }
   },
   "outputs": [],
   "source": [
    "# eggnog-mapper v2\n",
    "cols = c(\n",
    "\"query_name\",\n",
    "\"seed_eggNOG_ortholog\",\n",
    "\"seed_ortholog_evalue\",\n",
    "\"seed_ortholog_score\",\n",
    "\"Predicted_taxonomic_group\",\n",
    "\"Predicted_protein_name\",\n",
    "\"Gene_Ontology_terms\",\n",
    "\"EC_number\",\n",
    "\"KEGG_ko\",\n",
    "\"KEGG_Pathway\",\n",
    "\"KEGG_Module\",\n",
    "\"KEGG_Reaction\",\n",
    "\"KEGG_rclass\",\n",
    "\"BRITE\",\n",
    "\"KEGG_TC\",\n",
    "\"CAZy\",\n",
    "\"BiGG_Reaction\",\n",
    "\"tax_scope__eggNOG_taxonomic_level_used_for_annotation\",\n",
    "\"eggNOG_OGs\",\n",
    "\"bestOG\",\n",
    "\"COG_Functional_Category\",\n",
    "\"eggNOG_free_text_description\"\n",
    ")"
   ]
  },
  {
   "cell_type": "code",
   "execution_count": 19,
   "metadata": {
    "ExecuteTime": {
     "end_time": "2019-09-29T18:35:02.625419Z",
     "start_time": "2019-09-29T18:34:58.775Z"
    }
   },
   "outputs": [
    {
     "name": "stdout",
     "output_type": "stream",
     "text": [
      "[1] 194904     21\n"
     ]
    },
    {
     "data": {
      "text/html": [
       "<table>\n",
       "<thead><tr><th scope=col>query_name</th><th scope=col>seed_eggNOG_ortholog</th><th scope=col>seed_ortholog_evalue</th><th scope=col>seed_ortholog_score</th><th scope=col>Predicted_taxonomic_group</th><th scope=col>Predicted_protein_name</th><th scope=col>EC_number</th><th scope=col>KEGG_ko</th><th scope=col>KEGG_Pathway</th><th scope=col>KEGG_Module</th><th scope=col>⋯</th><th scope=col>KEGG_rclass</th><th scope=col>BRITE</th><th scope=col>KEGG_TC</th><th scope=col>CAZy</th><th scope=col>BiGG_Reaction</th><th scope=col>tax_scope__eggNOG_taxonomic_level_used_for_annotation</th><th scope=col>eggNOG_OGs</th><th scope=col>bestOG</th><th scope=col>COG_Functional_Category</th><th scope=col>eggNOG_free_text_description</th></tr></thead>\n",
       "<tbody>\n",
       "\t<tr><td>cec709e4d48d42068daaabc1d1f7e8b3                                                                                                                                               </td><td>1171373.PACID_03370                                                                                                                                                            </td><td>3.9e-23                                                                                                                                                                        </td><td>114.0                                                                                                                                                                          </td><td>Propionibacteriales                                                                                                                                                            </td><td>spoVK                                                                                                                                                                          </td><td>                                                                                                                                                                               </td><td>ko:K06413                                                                                                                                                                      </td><td>                                                                                                                                                                               </td><td>                                                                                                                                                                               </td><td>⋯                                                                                                                                                                              </td><td>                                                                                                                                                                               </td><td>ko00000                                                                                                                                                                        </td><td>                                                                                                                                                                               </td><td>                                                                                                                                                                               </td><td>                                                                                                                                                                               </td><td>Bacteria                                                                                                                                                                       </td><td>2GJWA@201174,4DT1G@85009,COG0464@1,COG0464@2                                                                                                                                   </td><td>NA|NA|NA                                                                                                                                                                       </td><td>O                                                                                                                                                                              </td><td>ATPase family associated with various cellular activities (AAA)                                                                                                                </td></tr>\n",
       "\t<tr><td>3de5a89c19714624bc15a679f6133f6b                                                                                                                                               </td><td>1229781.C272_11078                                                                                                                                                             </td><td>1.6e-40                                                                                                                                                                        </td><td>172.2                                                                                                                                                                          </td><td>Brevibacteriaceae                                                                                                                                                              </td><td>metE                                                                                                                                                                           </td><td>2.1.1.14                                                                                                                                                                       </td><td>ko:K00549                                                                                                                                                                      </td><td>ko00270,ko00450,ko01100,ko01110,ko01230,map00270,map00450,map01100,map01110,map01230                                                                                           </td><td>M00017                                                                                                                                                                         </td><td>⋯                                                                                                                                                                              </td><td>RC00035,RC00113,RC01241                                                                                                                                                        </td><td>ko00000,ko00001,ko00002,ko01000                                                                                                                                                </td><td>                                                                                                                                                                               </td><td>                                                                                                                                                                               </td><td>iE2348C_1286.E2348C_4130,iECO103_1326.ECO103_4334,iECO111_1330.ECO111_4657,iECO26_1355.ECO26_4756,iECW_1372.ECW_m4131,iEKO11_1354.EKO11_4528,iPC815.YPO3788,iWFL_1372.ECW_m4131</td><td>Bacteria                                                                                                                                                                       </td><td>2GIXA@201174,4F994@85019,COG0620@1,COG0620@2                                                                                                                                   </td><td>NA|NA|NA                                                                                                                                                                       </td><td>E                                                                                                                                                                              </td><td>Catalyzes the transfer of a methyl group from 5- methyltetrahydrofolate to homocysteine resulting in methionine formation                                                      </td></tr>\n",
       "\t<tr><td>17763165f0084e6bb4351bb8d45d68cb                                                                                                                                               </td><td>557436.Lreu_0311                                                                                                                                                               </td><td>2.1e-48                                                                                                                                                                        </td><td>198.0                                                                                                                                                                          </td><td>Lactobacillaceae                                                                                                                                                               </td><td>                                                                                                                                                                               </td><td>                                                                                                                                                                               </td><td>                                                                                                                                                                               </td><td>                                                                                                                                                                               </td><td>                                                                                                                                                                               </td><td>⋯                                                                                                                                                                              </td><td>                                                                                                                                                                               </td><td>                                                                                                                                                                               </td><td>                                                                                                                                                                               </td><td>                                                                                                                                                                               </td><td>                                                                                                                                                                               </td><td>Bacteria                                                                                                                                                                       </td><td>1VX75@1239,3F5WJ@33958,4HH0B@91061,COG1215@1,COG1215@2                                                                                                                         </td><td>NA|NA|NA                                                                                                                                                                       </td><td>M                                                                                                                                                                              </td><td>Glycosyl transferase family group 2                                                                                                                                            </td></tr>\n",
       "</tbody>\n",
       "</table>\n"
      ],
      "text/latex": [
       "\\begin{tabular}{r|lllllllllllllllllllll}\n",
       " query\\_name & seed\\_eggNOG\\_ortholog & seed\\_ortholog\\_evalue & seed\\_ortholog\\_score & Predicted\\_taxonomic\\_group & Predicted\\_protein\\_name & EC\\_number & KEGG\\_ko & KEGG\\_Pathway & KEGG\\_Module & ⋯ & KEGG\\_rclass & BRITE & KEGG\\_TC & CAZy & BiGG\\_Reaction & tax\\_scope\\_\\_eggNOG\\_taxonomic\\_level\\_used\\_for\\_annotation & eggNOG\\_OGs & bestOG & COG\\_Functional\\_Category & eggNOG\\_free\\_text\\_description\\\\\n",
       "\\hline\n",
       "\t cec709e4d48d42068daaabc1d1f7e8b3                                                                                                                                                & 1171373.PACID\\_03370                                                                                                                                                           & 3.9e-23                                                                                                                                                                         & 114.0                                                                                                                                                                           & Propionibacteriales                                                                                                                                                             & spoVK                                                                                                                                                                           &                                                                                                                                                                                 & ko:K06413                                                                                                                                                                       &                                                                                                                                                                                 &                                                                                                                                                                                 & ⋯                                                                                                                                                                               &                                                                                                                                                                                 & ko00000                                                                                                                                                                         &                                                                                                                                                                                 &                                                                                                                                                                                 &                                                                                                                                                                                 & Bacteria                                                                                                                                                                        & 2GJWA@201174,4DT1G@85009,COG0464@1,COG0464@2                                                                                                                                    & NA\\textbar{}NA\\textbar{}NA                                                                                                                                                    & O                                                                                                                                                                               & ATPase family associated with various cellular activities (AAA)                                                                                                                \\\\\n",
       "\t 3de5a89c19714624bc15a679f6133f6b                                                                                                                                                                            & 1229781.C272\\_11078                                                                                                                                                                                        & 1.6e-40                                                                                                                                                                                                     & 172.2                                                                                                                                                                                                       & Brevibacteriaceae                                                                                                                                                                                           & metE                                                                                                                                                                                                        & 2.1.1.14                                                                                                                                                                                                    & ko:K00549                                                                                                                                                                                                   & ko00270,ko00450,ko01100,ko01110,ko01230,map00270,map00450,map01100,map01110,map01230                                                                                                                        & M00017                                                                                                                                                                                                      & ⋯                                                                                                                                                                                                           & RC00035,RC00113,RC01241                                                                                                                                                                                     & ko00000,ko00001,ko00002,ko01000                                                                                                                                                                             &                                                                                                                                                                                                             &                                                                                                                                                                                                             & iE2348C\\_1286.E2348C\\_4130,iECO103\\_1326.ECO103\\_4334,iECO111\\_1330.ECO111\\_4657,iECO26\\_1355.ECO26\\_4756,iECW\\_1372.ECW\\_m4131,iEKO11\\_1354.EKO11\\_4528,iPC815.YPO3788,iWFL\\_1372.ECW\\_m4131 & Bacteria                                                                                                                                                                                                    & 2GIXA@201174,4F994@85019,COG0620@1,COG0620@2                                                                                                                                                                & NA\\textbar{}NA\\textbar{}NA                                                                                                                                                                                & E                                                                                                                                                                                                           & Catalyzes the transfer of a methyl group from 5- methyltetrahydrofolate to homocysteine resulting in methionine formation                                                                                  \\\\\n",
       "\t 17763165f0084e6bb4351bb8d45d68cb                                                                                                                                                & 557436.Lreu\\_0311                                                                                                                                                              & 2.1e-48                                                                                                                                                                         & 198.0                                                                                                                                                                           & Lactobacillaceae                                                                                                                                                                &                                                                                                                                                                                 &                                                                                                                                                                                 &                                                                                                                                                                                 &                                                                                                                                                                                 &                                                                                                                                                                                 & ⋯                                                                                                                                                                               &                                                                                                                                                                                 &                                                                                                                                                                                 &                                                                                                                                                                                 &                                                                                                                                                                                 &                                                                                                                                                                                 & Bacteria                                                                                                                                                                        & 1VX75@1239,3F5WJ@33958,4HH0B@91061,COG1215@1,COG1215@2                                                                                                                          & NA\\textbar{}NA\\textbar{}NA                                                                                                                                                    & M                                                                                                                                                                               & Glycosyl transferase family group 2                                                                                                                                            \\\\\n",
       "\\end{tabular}\n"
      ],
      "text/markdown": [
       "\n",
       "query_name | seed_eggNOG_ortholog | seed_ortholog_evalue | seed_ortholog_score | Predicted_taxonomic_group | Predicted_protein_name | EC_number | KEGG_ko | KEGG_Pathway | KEGG_Module | ⋯ | KEGG_rclass | BRITE | KEGG_TC | CAZy | BiGG_Reaction | tax_scope__eggNOG_taxonomic_level_used_for_annotation | eggNOG_OGs | bestOG | COG_Functional_Category | eggNOG_free_text_description | \n",
       "|---|---|---|\n",
       "| cec709e4d48d42068daaabc1d1f7e8b3                                                                                                                                                | 1171373.PACID_03370                                                                                                                                                             | 3.9e-23                                                                                                                                                                         | 114.0                                                                                                                                                                           | Propionibacteriales                                                                                                                                                             | spoVK                                                                                                                                                                           |                                                                                                                                                                                 | ko:K06413                                                                                                                                                                       |                                                                                                                                                                                 |                                                                                                                                                                                 | ⋯                                                                                                                                                                               |                                                                                                                                                                                 | ko00000                                                                                                                                                                         |                                                                                                                                                                                 |                                                                                                                                                                                 |                                                                                                                                                                                 | Bacteria                                                                                                                                                                        | 2GJWA@201174,4DT1G@85009,COG0464@1,COG0464@2                                                                                                                                    | NA|NA|NA                                                                                                                                                                        | O                                                                                                                                                                               | ATPase family associated with various cellular activities (AAA)                                                                                                                 | \n",
       "| 3de5a89c19714624bc15a679f6133f6b                                                                                                                                                | 1229781.C272_11078                                                                                                                                                              | 1.6e-40                                                                                                                                                                         | 172.2                                                                                                                                                                           | Brevibacteriaceae                                                                                                                                                               | metE                                                                                                                                                                            | 2.1.1.14                                                                                                                                                                        | ko:K00549                                                                                                                                                                       | ko00270,ko00450,ko01100,ko01110,ko01230,map00270,map00450,map01100,map01110,map01230                                                                                            | M00017                                                                                                                                                                          | ⋯                                                                                                                                                                               | RC00035,RC00113,RC01241                                                                                                                                                         | ko00000,ko00001,ko00002,ko01000                                                                                                                                                 |                                                                                                                                                                                 |                                                                                                                                                                                 | iE2348C_1286.E2348C_4130,iECO103_1326.ECO103_4334,iECO111_1330.ECO111_4657,iECO26_1355.ECO26_4756,iECW_1372.ECW_m4131,iEKO11_1354.EKO11_4528,iPC815.YPO3788,iWFL_1372.ECW_m4131 | Bacteria                                                                                                                                                                        | 2GIXA@201174,4F994@85019,COG0620@1,COG0620@2                                                                                                                                    | NA|NA|NA                                                                                                                                                                        | E                                                                                                                                                                               | Catalyzes the transfer of a methyl group from 5- methyltetrahydrofolate to homocysteine resulting in methionine formation                                                       | \n",
       "| 17763165f0084e6bb4351bb8d45d68cb                                                                                                                                                | 557436.Lreu_0311                                                                                                                                                                | 2.1e-48                                                                                                                                                                         | 198.0                                                                                                                                                                           | Lactobacillaceae                                                                                                                                                                |                                                                                                                                                                                 |                                                                                                                                                                                 |                                                                                                                                                                                 |                                                                                                                                                                                 |                                                                                                                                                                                 | ⋯                                                                                                                                                                               |                                                                                                                                                                                 |                                                                                                                                                                                 |                                                                                                                                                                                 |                                                                                                                                                                                 |                                                                                                                                                                                 | Bacteria                                                                                                                                                                        | 1VX75@1239,3F5WJ@33958,4HH0B@91061,COG1215@1,COG1215@2                                                                                                                          | NA|NA|NA                                                                                                                                                                        | M                                                                                                                                                                               | Glycosyl transferase family group 2                                                                                                                                             | \n",
       "\n",
       "\n"
      ],
      "text/plain": [
       "  query_name                       seed_eggNOG_ortholog seed_ortholog_evalue\n",
       "1 cec709e4d48d42068daaabc1d1f7e8b3 1171373.PACID_03370  3.9e-23             \n",
       "2 3de5a89c19714624bc15a679f6133f6b 1229781.C272_11078   1.6e-40             \n",
       "3 17763165f0084e6bb4351bb8d45d68cb 557436.Lreu_0311     2.1e-48             \n",
       "  seed_ortholog_score Predicted_taxonomic_group Predicted_protein_name\n",
       "1 114.0               Propionibacteriales       spoVK                 \n",
       "2 172.2               Brevibacteriaceae         metE                  \n",
       "3 198.0               Lactobacillaceae                                \n",
       "  EC_number KEGG_ko  \n",
       "1           ko:K06413\n",
       "2 2.1.1.14  ko:K00549\n",
       "3                    \n",
       "  KEGG_Pathway                                                                        \n",
       "1                                                                                     \n",
       "2 ko00270,ko00450,ko01100,ko01110,ko01230,map00270,map00450,map01100,map01110,map01230\n",
       "3                                                                                     \n",
       "  KEGG_Module ⋯ KEGG_rclass             BRITE                           KEGG_TC\n",
       "1             ⋯                         ko00000                                \n",
       "2 M00017      ⋯ RC00035,RC00113,RC01241 ko00000,ko00001,ko00002,ko01000        \n",
       "3             ⋯                                                                \n",
       "  CAZy\n",
       "1     \n",
       "2     \n",
       "3     \n",
       "  BiGG_Reaction                                                                                                                                                                  \n",
       "1                                                                                                                                                                                \n",
       "2 iE2348C_1286.E2348C_4130,iECO103_1326.ECO103_4334,iECO111_1330.ECO111_4657,iECO26_1355.ECO26_4756,iECW_1372.ECW_m4131,iEKO11_1354.EKO11_4528,iPC815.YPO3788,iWFL_1372.ECW_m4131\n",
       "3                                                                                                                                                                                \n",
       "  tax_scope__eggNOG_taxonomic_level_used_for_annotation\n",
       "1 Bacteria                                             \n",
       "2 Bacteria                                             \n",
       "3 Bacteria                                             \n",
       "  eggNOG_OGs                                             bestOG  \n",
       "1 2GJWA@201174,4DT1G@85009,COG0464@1,COG0464@2           NA|NA|NA\n",
       "2 2GIXA@201174,4F994@85019,COG0620@1,COG0620@2           NA|NA|NA\n",
       "3 1VX75@1239,3F5WJ@33958,4HH0B@91061,COG1215@1,COG1215@2 NA|NA|NA\n",
       "  COG_Functional_Category\n",
       "1 O                      \n",
       "2 E                      \n",
       "3 M                      \n",
       "  eggNOG_free_text_description                                                                                             \n",
       "1 ATPase family associated with various cellular activities (AAA)                                                          \n",
       "2 Catalyzes the transfer of a methyl group from 5- methyltetrahydrofolate to homocysteine resulting in methionine formation\n",
       "3 Glycosyl transferase family group 2                                                                                      "
      ]
     },
     "metadata": {},
     "output_type": "display_data"
    }
   ],
   "source": [
    "F = file.path(work_dir, 'annotate', 'eggnog-mapper', 'clusters_rep-seqs.emapper.annotations.gz')\n",
    "cmd = glue::glue('gunzip -c {file}', file=F, header=FALSE) \n",
    "emap_annot = fread(cmd, sep='\\t') \n",
    "colnames(emap_annot) = cols\n",
    "emap_annot = emap_annot %>%\n",
    "    dplyr::select(-Gene_Ontology_terms)\n",
    "emap_annot %>% dfhead"
   ]
  },
  {
   "cell_type": "code",
   "execution_count": 20,
   "metadata": {
    "ExecuteTime": {
     "end_time": "2019-09-29T18:35:04.940730Z",
     "start_time": "2019-09-29T18:34:59.238Z"
    }
   },
   "outputs": [
    {
     "name": "stdout",
     "output_type": "stream",
     "text": [
      "[1] 194904\n",
      "[1] 194904     31\n"
     ]
    },
    {
     "data": {
      "text/html": [
       "<table>\n",
       "<thead><tr><th scope=col>query_name</th><th scope=col>seed_eggNOG_ortholog</th><th scope=col>seed_ortholog_evalue</th><th scope=col>seed_ortholog_score</th><th scope=col>Predicted_taxonomic_group</th><th scope=col>Predicted_protein_name</th><th scope=col>EC_number</th><th scope=col>KEGG_ko</th><th scope=col>KEGG_Pathway</th><th scope=col>KEGG_Module</th><th scope=col>⋯</th><th scope=col>taxID</th><th scope=col>rank</th><th scope=col>spp</th><th scope=col>Domain</th><th scope=col>Phylum</th><th scope=col>Class</th><th scope=col>Order</th><th scope=col>Family</th><th scope=col>Genus</th><th scope=col>Species</th></tr></thead>\n",
       "<tbody>\n",
       "\t<tr><td>cec709e4d48d42068daaabc1d1f7e8b3                                                    </td><td>1171373.PACID_03370                                                                 </td><td>3.9e-23                                                                             </td><td>114.0                                                                               </td><td>Propionibacteriales                                                                 </td><td>spoVK                                                                               </td><td>                                                                                    </td><td>ko:K06413                                                                           </td><td>                                                                                    </td><td>                                                                                    </td><td>⋯                                                                                   </td><td> 43669                                                                              </td><td>species                                                                             </td><td>Brachybacterium faecium                                                             </td><td>unknown                                                                             </td><td>Actinobacteria                                                                      </td><td>Actinobacteria                                                                      </td><td>Micrococcales                                                                       </td><td>Dermabacteraceae                                                                    </td><td>Brachybacterium                                                                     </td><td>Brachybacterium faecium                                                             </td></tr>\n",
       "\t<tr><td>3de5a89c19714624bc15a679f6133f6b                                                    </td><td>1229781.C272_11078                                                                  </td><td>1.6e-40                                                                             </td><td>172.2                                                                               </td><td>Brevibacteriaceae                                                                   </td><td>metE                                                                                </td><td>2.1.1.14                                                                            </td><td>ko:K00549                                                                           </td><td>ko00270,ko00450,ko01100,ko01110,ko01230,map00270,map00450,map01100,map01110,map01230</td><td>M00017                                                                              </td><td>⋯                                                                                   </td><td>     0                                                                              </td><td>no rank                                                                             </td><td>unclassified                                                                        </td><td>                                                                                    </td><td>NA                                                                                  </td><td>NA                                                                                  </td><td>NA                                                                                  </td><td>NA                                                                                  </td><td>NA                                                                                  </td><td>NA                                                                                  </td></tr>\n",
       "\t<tr><td>17763165f0084e6bb4351bb8d45d68cb                                                    </td><td>557436.Lreu_0311                                                                    </td><td>2.1e-48                                                                             </td><td>198.0                                                                               </td><td>Lactobacillaceae                                                                    </td><td>                                                                                    </td><td>                                                                                    </td><td>                                                                                    </td><td>                                                                                    </td><td>                                                                                    </td><td>⋯                                                                                   </td><td>557436                                                                              </td><td>no rank                                                                             </td><td>Lactobacillus reuteri DSM 20016                                                     </td><td>unknown                                                                             </td><td>Firmicutes                                                                          </td><td>Bacilli                                                                             </td><td>Lactobacillales                                                                     </td><td>Lactobacillaceae                                                                    </td><td>Lactobacillus                                                                       </td><td>Lactobacillus reuteri                                                               </td></tr>\n",
       "</tbody>\n",
       "</table>\n"
      ],
      "text/latex": [
       "\\begin{tabular}{r|lllllllllllllllllllllllllllllll}\n",
       " query\\_name & seed\\_eggNOG\\_ortholog & seed\\_ortholog\\_evalue & seed\\_ortholog\\_score & Predicted\\_taxonomic\\_group & Predicted\\_protein\\_name & EC\\_number & KEGG\\_ko & KEGG\\_Pathway & KEGG\\_Module & ⋯ & taxID & rank & spp & Domain & Phylum & Class & Order & Family & Genus & Species\\\\\n",
       "\\hline\n",
       "\t cec709e4d48d42068daaabc1d1f7e8b3                                                     & 1171373.PACID\\_03370                                                                & 3.9e-23                                                                              & 114.0                                                                                & Propionibacteriales                                                                  & spoVK                                                                                &                                                                                      & ko:K06413                                                                            &                                                                                      &                                                                                      & ⋯                                                                                    &  43669                                                                               & species                                                                              & Brachybacterium faecium                                                              & unknown                                                                              & Actinobacteria                                                                       & Actinobacteria                                                                       & Micrococcales                                                                        & Dermabacteraceae                                                                     & Brachybacterium                                                                      & Brachybacterium faecium                                                             \\\\\n",
       "\t 3de5a89c19714624bc15a679f6133f6b                                                     & 1229781.C272\\_11078                                                                 & 1.6e-40                                                                              & 172.2                                                                                & Brevibacteriaceae                                                                    & metE                                                                                 & 2.1.1.14                                                                             & ko:K00549                                                                            & ko00270,ko00450,ko01100,ko01110,ko01230,map00270,map00450,map01100,map01110,map01230 & M00017                                                                               & ⋯                                                                                    &      0                                                                               & no rank                                                                              & unclassified                                                                         &                                                                                      & NA                                                                                   & NA                                                                                   & NA                                                                                   & NA                                                                                   & NA                                                                                   & NA                                                                                  \\\\\n",
       "\t 17763165f0084e6bb4351bb8d45d68cb                                                     & 557436.Lreu\\_0311                                                                   & 2.1e-48                                                                              & 198.0                                                                                & Lactobacillaceae                                                                     &                                                                                      &                                                                                      &                                                                                      &                                                                                      &                                                                                      & ⋯                                                                                    & 557436                                                                               & no rank                                                                              & Lactobacillus reuteri DSM 20016                                                      & unknown                                                                              & Firmicutes                                                                           & Bacilli                                                                              & Lactobacillales                                                                      & Lactobacillaceae                                                                     & Lactobacillus                                                                        & Lactobacillus reuteri                                                               \\\\\n",
       "\\end{tabular}\n"
      ],
      "text/markdown": [
       "\n",
       "query_name | seed_eggNOG_ortholog | seed_ortholog_evalue | seed_ortholog_score | Predicted_taxonomic_group | Predicted_protein_name | EC_number | KEGG_ko | KEGG_Pathway | KEGG_Module | ⋯ | taxID | rank | spp | Domain | Phylum | Class | Order | Family | Genus | Species | \n",
       "|---|---|---|\n",
       "| cec709e4d48d42068daaabc1d1f7e8b3                                                     | 1171373.PACID_03370                                                                  | 3.9e-23                                                                              | 114.0                                                                                | Propionibacteriales                                                                  | spoVK                                                                                |                                                                                      | ko:K06413                                                                            |                                                                                      |                                                                                      | ⋯                                                                                    |  43669                                                                               | species                                                                              | Brachybacterium faecium                                                              | unknown                                                                              | Actinobacteria                                                                       | Actinobacteria                                                                       | Micrococcales                                                                        | Dermabacteraceae                                                                     | Brachybacterium                                                                      | Brachybacterium faecium                                                              | \n",
       "| 3de5a89c19714624bc15a679f6133f6b                                                     | 1229781.C272_11078                                                                   | 1.6e-40                                                                              | 172.2                                                                                | Brevibacteriaceae                                                                    | metE                                                                                 | 2.1.1.14                                                                             | ko:K00549                                                                            | ko00270,ko00450,ko01100,ko01110,ko01230,map00270,map00450,map01100,map01110,map01230 | M00017                                                                               | ⋯                                                                                    |      0                                                                               | no rank                                                                              | unclassified                                                                         |                                                                                      | NA                                                                                   | NA                                                                                   | NA                                                                                   | NA                                                                                   | NA                                                                                   | NA                                                                                   | \n",
       "| 17763165f0084e6bb4351bb8d45d68cb                                                     | 557436.Lreu_0311                                                                     | 2.1e-48                                                                              | 198.0                                                                                | Lactobacillaceae                                                                     |                                                                                      |                                                                                      |                                                                                      |                                                                                      |                                                                                      | ⋯                                                                                    | 557436                                                                               | no rank                                                                              | Lactobacillus reuteri DSM 20016                                                      | unknown                                                                              | Firmicutes                                                                           | Bacilli                                                                              | Lactobacillales                                                                      | Lactobacillaceae                                                                     | Lactobacillus                                                                        | Lactobacillus reuteri                                                                | \n",
       "\n",
       "\n"
      ],
      "text/plain": [
       "  query_name                       seed_eggNOG_ortholog seed_ortholog_evalue\n",
       "1 cec709e4d48d42068daaabc1d1f7e8b3 1171373.PACID_03370  3.9e-23             \n",
       "2 3de5a89c19714624bc15a679f6133f6b 1229781.C272_11078   1.6e-40             \n",
       "3 17763165f0084e6bb4351bb8d45d68cb 557436.Lreu_0311     2.1e-48             \n",
       "  seed_ortholog_score Predicted_taxonomic_group Predicted_protein_name\n",
       "1 114.0               Propionibacteriales       spoVK                 \n",
       "2 172.2               Brevibacteriaceae         metE                  \n",
       "3 198.0               Lactobacillaceae                                \n",
       "  EC_number KEGG_ko  \n",
       "1           ko:K06413\n",
       "2 2.1.1.14  ko:K00549\n",
       "3                    \n",
       "  KEGG_Pathway                                                                        \n",
       "1                                                                                     \n",
       "2 ko00270,ko00450,ko01100,ko01110,ko01230,map00270,map00450,map01100,map01110,map01230\n",
       "3                                                                                     \n",
       "  KEGG_Module ⋯ taxID  rank    spp                             Domain \n",
       "1             ⋯  43669 species Brachybacterium faecium         unknown\n",
       "2 M00017      ⋯      0 no rank unclassified                           \n",
       "3             ⋯ 557436 no rank Lactobacillus reuteri DSM 20016 unknown\n",
       "  Phylum         Class          Order           Family          \n",
       "1 Actinobacteria Actinobacteria Micrococcales   Dermabacteraceae\n",
       "2 NA             NA             NA              NA              \n",
       "3 Firmicutes     Bacilli        Lactobacillales Lactobacillaceae\n",
       "  Genus           Species                \n",
       "1 Brachybacterium Brachybacterium faecium\n",
       "2 NA              NA                     \n",
       "3 Lactobacillus   Lactobacillus reuteri  "
      ]
     },
     "metadata": {},
     "output_type": "display_data"
    }
   ],
   "source": [
    "# adding taxonomy info\n",
    "intersect(emap_annot$query_name, tax$seqID) %>% length %>% print\n",
    "\n",
    "emap_annot = emap_annot %>%\n",
    "    left_join(tax, c('query_name'='seqID'))\n",
    "\n",
    "emap_annot %>% dfhead"
   ]
  },
  {
   "cell_type": "code",
   "execution_count": 21,
   "metadata": {
    "ExecuteTime": {
     "end_time": "2019-09-29T18:35:05.268875Z",
     "start_time": "2019-09-29T18:35:00.704Z"
    }
   },
   "outputs": [
    {
     "name": "stdout",
     "output_type": "stream",
     "text": [
      "Number of rep seqs with eggnog-mapper annotations: 194904 \n"
     ]
    }
   ],
   "source": [
    "n_annot_seqs = emap_annot$query_name %>% unique %>% length\n",
    "cat('Number of rep seqs with eggnog-mapper annotations:', n_annot_seqs, '\\n')"
   ]
  },
  {
   "cell_type": "markdown",
   "metadata": {},
   "source": [
    "### COG functional categories\n",
    "\n",
    "* [wiki on categories](https://ecoliwiki.org/colipedia/index.php/Clusters_of_Orthologous_Groups_%28COGs%29)"
   ]
  },
  {
   "cell_type": "code",
   "execution_count": 22,
   "metadata": {
    "ExecuteTime": {
     "end_time": "2019-09-29T18:35:07.359028Z",
     "start_time": "2019-09-29T18:35:05.626Z"
    }
   },
   "outputs": [
    {
     "name": "stderr",
     "output_type": "stream",
     "text": [
      "Warning message:\n",
      "“Expected 5 pieces. Additional pieces discarded in 1 rows [88755].”Warning message:\n",
      "“Expected 5 pieces. Missing pieces filled with `NA` in 194885 rows [1, 2, 3, 4, 5, 6, 7, 8, 9, 10, 11, 12, 13, 14, 15, 16, 17, 18, 19, 20, ...].”"
     ]
    },
    {
     "name": "stdout",
     "output_type": "stream",
     "text": [
      "[1] 200067      2\n"
     ]
    },
    {
     "data": {
      "text/html": [
       "<table>\n",
       "<thead><tr><th scope=col>query_name</th><th scope=col>COG_func_cat</th></tr></thead>\n",
       "<tbody>\n",
       "\t<tr><td>cec709e4d48d42068daaabc1d1f7e8b3</td><td>O                               </td></tr>\n",
       "\t<tr><td>3de5a89c19714624bc15a679f6133f6b</td><td>E                               </td></tr>\n",
       "\t<tr><td>17763165f0084e6bb4351bb8d45d68cb</td><td>M                               </td></tr>\n",
       "</tbody>\n",
       "</table>\n"
      ],
      "text/latex": [
       "\\begin{tabular}{r|ll}\n",
       " query\\_name & COG\\_func\\_cat\\\\\n",
       "\\hline\n",
       "\t cec709e4d48d42068daaabc1d1f7e8b3 & O                               \\\\\n",
       "\t 3de5a89c19714624bc15a679f6133f6b & E                               \\\\\n",
       "\t 17763165f0084e6bb4351bb8d45d68cb & M                               \\\\\n",
       "\\end{tabular}\n"
      ],
      "text/markdown": [
       "\n",
       "query_name | COG_func_cat | \n",
       "|---|---|---|\n",
       "| cec709e4d48d42068daaabc1d1f7e8b3 | O                                | \n",
       "| 3de5a89c19714624bc15a679f6133f6b | E                                | \n",
       "| 17763165f0084e6bb4351bb8d45d68cb | M                                | \n",
       "\n",
       "\n"
      ],
      "text/plain": [
       "  query_name                       COG_func_cat\n",
       "1 cec709e4d48d42068daaabc1d1f7e8b3 O           \n",
       "2 3de5a89c19714624bc15a679f6133f6b E           \n",
       "3 17763165f0084e6bb4351bb8d45d68cb M           "
      ]
     },
     "metadata": {},
     "output_type": "display_data"
    }
   ],
   "source": [
    "# summarizing by functional group\n",
    "max_cat = emap_annot$COG_Functional_Category %>% unique %>% sapply(nchar) %>% max\n",
    "\n",
    "emap_annot_s = emap_annot %>%\n",
    "    dplyr::select(query_name, COG_Functional_Category) %>%\n",
    "    separate(COG_Functional_Category, LETTERS[1:max_cat], sep='(?<=[A-Z])') %>%\n",
    "    gather(X, COG_func_cat, -query_name) %>%\n",
    "    filter(!is.na(COG_func_cat),\n",
    "           COG_func_cat != '') %>%\n",
    "    dplyr::select(-X) \n",
    "    \n",
    "emap_annot_s %>% dfhead"
   ]
  },
  {
   "cell_type": "code",
   "execution_count": 23,
   "metadata": {
    "ExecuteTime": {
     "end_time": "2019-09-29T18:35:08.650080Z",
     "start_time": "2019-09-29T18:35:06.773Z"
    }
   },
   "outputs": [
    {
     "data": {
      "image/png": "[encoded data removed]",
      "text/plain": [
       "plot without title"
      ]
     },
     "metadata": {},
     "output_type": "display_data"
    }
   ],
   "source": [
    "# plotting summary\n",
    "p = emap_annot_s %>%\n",
    "    ggplot(aes(COG_func_cat)) +\n",
    "    geom_bar() +\n",
    "    labs(x='COG functional category', y='No. of genes') +\n",
    "    theme_bw()\n",
    "\n",
    "dims(9,3)\n",
    "plot(p)"
   ]
  },
  {
   "cell_type": "code",
   "execution_count": 24,
   "metadata": {
    "ExecuteTime": {
     "end_time": "2019-09-29T18:35:11.805360Z",
     "start_time": "2019-09-29T18:35:10.846Z"
    }
   },
   "outputs": [
    {
     "data": {
      "image/png": "[encoded data removed]",
      "text/plain": [
       "plot without title"
      ]
     },
     "metadata": {},
     "output_type": "display_data"
    }
   ],
   "source": [
    "# plotting summary\n",
    "p = emap_annot_s %>%\n",
    "    group_by(COG_func_cat) %>%\n",
    "    summarize(perc_abund = n() / n_annot_seqs * 100) %>%\n",
    "    ungroup() %>%\n",
    "    ggplot(aes(COG_func_cat, perc_abund)) +\n",
    "    geom_bar(stat='identity') +\n",
    "    labs(x='COG functional category', y='% of all genes') +\n",
    "    theme_bw() \n",
    "\n",
    "dims(9,3)\n",
    "plot(p)"
   ]
  },
  {
   "cell_type": "markdown",
   "metadata": {},
   "source": [
    "### Grouped by taxonomy"
   ]
  },
  {
   "cell_type": "code",
   "execution_count": 25,
   "metadata": {
    "ExecuteTime": {
     "end_time": "2019-09-29T18:35:18.455387Z",
     "start_time": "2019-09-29T18:35:13.150Z"
    }
   },
   "outputs": [
    {
     "name": "stderr",
     "output_type": "stream",
     "text": [
      "Warning message:\n",
      "“Expected 5 pieces. Additional pieces discarded in 1 rows [88755].”Warning message:\n",
      "“Expected 5 pieces. Missing pieces filled with `NA` in 194885 rows [1, 2, 3, 4, 5, 6, 7, 8, 9, 10, 11, 12, 13, 14, 15, 16, 17, 18, 19, 20, ...].”"
     ]
    },
    {
     "name": "stdout",
     "output_type": "stream",
     "text": [
      "[1] 200067     12\n"
     ]
    },
    {
     "data": {
      "text/html": [
       "<table>\n",
       "<thead><tr><th scope=col>query_name</th><th scope=col>COG_func_cat</th><th scope=col>taxID</th><th scope=col>rank</th><th scope=col>spp</th><th scope=col>Domain</th><th scope=col>Phylum</th><th scope=col>Class</th><th scope=col>Order</th><th scope=col>Family</th><th scope=col>Genus</th><th scope=col>Species</th></tr></thead>\n",
       "<tbody>\n",
       "\t<tr><td>cec709e4d48d42068daaabc1d1f7e8b3</td><td>O                               </td><td> 43669                          </td><td>species                         </td><td>Brachybacterium faecium         </td><td>unknown                         </td><td>Actinobacteria                  </td><td>Actinobacteria                  </td><td>Micrococcales                   </td><td>Dermabacteraceae                </td><td>Brachybacterium                 </td><td>Brachybacterium faecium         </td></tr>\n",
       "\t<tr><td>3de5a89c19714624bc15a679f6133f6b</td><td>E                               </td><td>     0                          </td><td>no rank                         </td><td>unclassified                    </td><td>                                </td><td>NA                              </td><td>NA                              </td><td>NA                              </td><td>NA                              </td><td>NA                              </td><td>NA                              </td></tr>\n",
       "\t<tr><td>17763165f0084e6bb4351bb8d45d68cb</td><td>M                               </td><td>557436                          </td><td>no rank                         </td><td>Lactobacillus reuteri DSM 20016 </td><td>unknown                         </td><td>Firmicutes                      </td><td>Bacilli                         </td><td>Lactobacillales                 </td><td>Lactobacillaceae                </td><td>Lactobacillus                   </td><td>Lactobacillus reuteri           </td></tr>\n",
       "</tbody>\n",
       "</table>\n"
      ],
      "text/latex": [
       "\\begin{tabular}{r|llllllllllll}\n",
       " query\\_name & COG\\_func\\_cat & taxID & rank & spp & Domain & Phylum & Class & Order & Family & Genus & Species\\\\\n",
       "\\hline\n",
       "\t cec709e4d48d42068daaabc1d1f7e8b3 & O                                &  43669                           & species                          & Brachybacterium faecium          & unknown                          & Actinobacteria                   & Actinobacteria                   & Micrococcales                    & Dermabacteraceae                 & Brachybacterium                  & Brachybacterium faecium         \\\\\n",
       "\t 3de5a89c19714624bc15a679f6133f6b & E                                &      0                           & no rank                          & unclassified                     &                                  & NA                               & NA                               & NA                               & NA                               & NA                               & NA                              \\\\\n",
       "\t 17763165f0084e6bb4351bb8d45d68cb & M                                & 557436                           & no rank                          & Lactobacillus reuteri DSM 20016  & unknown                          & Firmicutes                       & Bacilli                          & Lactobacillales                  & Lactobacillaceae                 & Lactobacillus                    & Lactobacillus reuteri           \\\\\n",
       "\\end{tabular}\n"
      ],
      "text/markdown": [
       "\n",
       "query_name | COG_func_cat | taxID | rank | spp | Domain | Phylum | Class | Order | Family | Genus | Species | \n",
       "|---|---|---|\n",
       "| cec709e4d48d42068daaabc1d1f7e8b3 | O                                |  43669                           | species                          | Brachybacterium faecium          | unknown                          | Actinobacteria                   | Actinobacteria                   | Micrococcales                    | Dermabacteraceae                 | Brachybacterium                  | Brachybacterium faecium          | \n",
       "| 3de5a89c19714624bc15a679f6133f6b | E                                |      0                           | no rank                          | unclassified                     |                                  | NA                               | NA                               | NA                               | NA                               | NA                               | NA                               | \n",
       "| 17763165f0084e6bb4351bb8d45d68cb | M                                | 557436                           | no rank                          | Lactobacillus reuteri DSM 20016  | unknown                          | Firmicutes                       | Bacilli                          | Lactobacillales                  | Lactobacillaceae                 | Lactobacillus                    | Lactobacillus reuteri            | \n",
       "\n",
       "\n"
      ],
      "text/plain": [
       "  query_name                       COG_func_cat taxID  rank   \n",
       "1 cec709e4d48d42068daaabc1d1f7e8b3 O             43669 species\n",
       "2 3de5a89c19714624bc15a679f6133f6b E                 0 no rank\n",
       "3 17763165f0084e6bb4351bb8d45d68cb M            557436 no rank\n",
       "  spp                             Domain  Phylum         Class         \n",
       "1 Brachybacterium faecium         unknown Actinobacteria Actinobacteria\n",
       "2 unclassified                            NA             NA            \n",
       "3 Lactobacillus reuteri DSM 20016 unknown Firmicutes     Bacilli       \n",
       "  Order           Family           Genus           Species                \n",
       "1 Micrococcales   Dermabacteraceae Brachybacterium Brachybacterium faecium\n",
       "2 NA              NA               NA              NA                     \n",
       "3 Lactobacillales Lactobacillaceae Lactobacillus   Lactobacillus reuteri  "
      ]
     },
     "metadata": {},
     "output_type": "display_data"
    }
   ],
   "source": [
    "max_cat = emap_annot$COG_Functional_Category %>% unique %>% sapply(nchar) %>% max\n",
    "\n",
    "emap_annot_s = emap_annot %>%\n",
    "    dplyr::select(query_name, COG_Functional_Category) %>%\n",
    "    separate(COG_Functional_Category, LETTERS[1:max_cat], sep='(?<=[A-Z])') %>%\n",
    "    gather(X, COG_func_cat, -query_name) %>%\n",
    "    left_join(tax, c('query_name'='seqID')) %>%\n",
    "    filter(!is.na(COG_func_cat),\n",
    "           COG_func_cat != '') %>%\n",
    "    dplyr::select(-X) \n",
    "\n",
    "emap_annot_s %>% dfhead"
   ]
  },
  {
   "cell_type": "code",
   "execution_count": 26,
   "metadata": {
    "ExecuteTime": {
     "end_time": "2019-09-29T18:35:22.175817Z",
     "start_time": "2019-09-29T18:35:14.838Z"
    }
   },
   "outputs": [
    {
     "data": {
      "image/png": "[encoded data removed]",
      "text/plain": [
       "plot without title"
      ]
     },
     "metadata": {},
     "output_type": "display_data"
    }
   ],
   "source": [
    "# plotting summary by domain\n",
    "p = emap_annot_s %>%\n",
    "    ggplot(aes(COG_func_cat)) +\n",
    "    geom_bar() +\n",
    "    facet_wrap(~ Domain, scales='free_y') +\n",
    "    labs(x='COG functional category', y='No. of genes') +\n",
    "    theme_bw()\n",
    "\n",
    "dims(9,5)\n",
    "plot(p)"
   ]
  },
  {
   "cell_type": "code",
   "execution_count": 28,
   "metadata": {
    "ExecuteTime": {
     "end_time": "2019-09-29T18:35:43.916261Z",
     "start_time": "2019-09-29T18:35:38.848Z"
    }
   },
   "outputs": [
    {
     "data": {
      "image/png": "[encoded data removed]",
      "text/plain": [
       "plot without title"
      ]
     },
     "metadata": {},
     "output_type": "display_data"
    }
   ],
   "source": [
    "# plotting summary by phylum\n",
    "p = emap_annot_s %>%\n",
    "    group_by(Phylum) %>%\n",
    "    mutate(n = n()) %>%\n",
    "    ungroup() %>%\n",
    "    filter(n >= 1000) %>%\n",
    "    mutate(Phylum = Phylum %>% reorder(-n)) %>%\n",
    "    ggplot(aes(COG_func_cat, fill=Domain)) +\n",
    "    geom_bar() +\n",
    "    facet_wrap(~ Phylum, scales='free_y', ncol=3) +\n",
    "    labs(x='COG functional category', y='No. of genes') +\n",
    "    theme_bw()\n",
    "\n",
    "dims(9,5)\n",
    "plot(p)"
   ]
  },
  {
   "cell_type": "markdown",
   "metadata": {},
   "source": [
    "## humann2 db genes"
   ]
  },
  {
   "cell_type": "code",
   "execution_count": 29,
   "metadata": {
    "ExecuteTime": {
     "end_time": "2019-09-29T18:35:50.719522Z",
     "start_time": "2019-09-29T18:35:47.566Z"
    }
   },
   "outputs": [
    {
     "name": "stderr",
     "output_type": "stream",
     "text": [
      "Warning message:\n",
      "“Expected 2 pieces. Missing pieces filled with `NA` in 4170 rows [17, 61, 65, 79, 121, 170, 194, 269, 339, 341, 349, 378, 391, 429, 434, 444, 480, 496, 506, 517, ...].”"
     ]
    },
    {
     "name": "stdout",
     "output_type": "stream",
     "text": [
      "[1] 86869     6\n"
     ]
    },
    {
     "data": {
      "text/html": [
       "<table>\n",
       "<thead><tr><th scope=col>original_name</th><th scope=col>UniRefID</th><th scope=col>Gene_length</th><th scope=col>Genus</th><th scope=col>Species</th><th scope=col>TaxID</th></tr></thead>\n",
       "<tbody>\n",
       "\t<tr><td>d35d32cbeaec4d26b38b326ec0015a3b</td><td>UniRef50_D2AT30                 </td><td>96                              </td><td>Brachybacterium                 </td><td>Brachybacterium_endophyticum    </td><td>2182385                         </td></tr>\n",
       "\t<tr><td>cbe4b82089304ba79392f5af0d5b05d5</td><td>UniRef50_X7YKT6                 </td><td>179                             </td><td>Rhodococcus                     </td><td>Rhodococcus_sp_AD45             </td><td>103808                          </td></tr>\n",
       "\t<tr><td>0a96a5e198854c6bb4d01131dd1aa0eb</td><td>UniRef50_U0FBL1                 </td><td>146                             </td><td>Corynebacterium                 </td><td>Corynebacterium_falsenii        </td><td>1451189                         </td></tr>\n",
       "</tbody>\n",
       "</table>\n"
      ],
      "text/latex": [
       "\\begin{tabular}{r|llllll}\n",
       " original\\_name & UniRefID & Gene\\_length & Genus & Species & TaxID\\\\\n",
       "\\hline\n",
       "\t d35d32cbeaec4d26b38b326ec0015a3b & UniRef50\\_D2AT30                & 96                               & Brachybacterium                  & Brachybacterium\\_endophyticum   & 2182385                         \\\\\n",
       "\t cbe4b82089304ba79392f5af0d5b05d5 & UniRef50\\_X7YKT6                & 179                              & Rhodococcus                      & Rhodococcus\\_sp\\_AD45          & 103808                          \\\\\n",
       "\t 0a96a5e198854c6bb4d01131dd1aa0eb & UniRef50\\_U0FBL1                & 146                              & Corynebacterium                  & Corynebacterium\\_falsenii       & 1451189                         \\\\\n",
       "\\end{tabular}\n"
      ],
      "text/markdown": [
       "\n",
       "original_name | UniRefID | Gene_length | Genus | Species | TaxID | \n",
       "|---|---|---|\n",
       "| d35d32cbeaec4d26b38b326ec0015a3b | UniRef50_D2AT30                  | 96                               | Brachybacterium                  | Brachybacterium_endophyticum     | 2182385                          | \n",
       "| cbe4b82089304ba79392f5af0d5b05d5 | UniRef50_X7YKT6                  | 179                              | Rhodococcus                      | Rhodococcus_sp_AD45              | 103808                           | \n",
       "| 0a96a5e198854c6bb4d01131dd1aa0eb | UniRef50_U0FBL1                  | 146                              | Corynebacterium                  | Corynebacterium_falsenii         | 1451189                          | \n",
       "\n",
       "\n"
      ],
      "text/plain": [
       "  original_name                    UniRefID        Gene_length Genus          \n",
       "1 d35d32cbeaec4d26b38b326ec0015a3b UniRef50_D2AT30 96          Brachybacterium\n",
       "2 cbe4b82089304ba79392f5af0d5b05d5 UniRef50_X7YKT6 179         Rhodococcus    \n",
       "3 0a96a5e198854c6bb4d01131dd1aa0eb UniRef50_U0FBL1 146         Corynebacterium\n",
       "  Species                      TaxID  \n",
       "1 Brachybacterium_endophyticum 2182385\n",
       "2 Rhodococcus_sp_AD45          103808 \n",
       "3 Corynebacterium_falsenii     1451189"
      ]
     },
     "metadata": {},
     "output_type": "display_data"
    }
   ],
   "source": [
    "# gene IDs\n",
    "F = file.path(work_dir, 'humann2_db', 'clusters_rep-seqs_annot-index.tsv')\n",
    "\n",
    "hm2 = fread(F, sep='\\t', header=TRUE) %>%\n",
    "    separate(new_name, c('UniRefID', 'Gene_length', 'Taxonomy'), sep='\\\\|') %>%\n",
    "    separate(Taxonomy, c('Genus', 'Species'), sep='\\\\.s__') %>%\n",
    "    separate(Species, c('Species', 'TaxID'), sep='__taxID') %>%\n",
    "    mutate(Genus = gsub('^g__', '', Genus))\n",
    "\n",
    "hm2 %>% dfhead"
   ]
  },
  {
   "cell_type": "code",
   "execution_count": 30,
   "metadata": {
    "ExecuteTime": {
     "end_time": "2019-09-29T18:35:51.499084Z",
     "start_time": "2019-09-29T18:35:47.918Z"
    }
   },
   "outputs": [
    {
     "name": "stdout",
     "output_type": "stream",
     "text": [
      "[1] 86869\n",
      "[1] 86869    16\n"
     ]
    },
    {
     "data": {
      "text/html": [
       "<table>\n",
       "<thead><tr><th scope=col>original_name</th><th scope=col>UniRefID</th><th scope=col>Gene_length</th><th scope=col>Genus.x</th><th scope=col>Species.x</th><th scope=col>TaxID</th><th scope=col>taxID</th><th scope=col>rank</th><th scope=col>spp</th><th scope=col>Domain</th><th scope=col>Phylum</th><th scope=col>Class</th><th scope=col>Order</th><th scope=col>Family</th><th scope=col>Genus.y</th><th scope=col>Species.y</th></tr></thead>\n",
       "<tbody>\n",
       "\t<tr><td>d35d32cbeaec4d26b38b326ec0015a3b  </td><td>UniRef50_D2AT30                   </td><td>96                                </td><td>Brachybacterium                   </td><td>Brachybacterium_endophyticum      </td><td>2182385                           </td><td>2182385                           </td><td>species                           </td><td>Brachybacterium endophyticum      </td><td>unknown                           </td><td>Actinobacteria                    </td><td>Actinobacteria                    </td><td>Micrococcales                     </td><td>Dermabacteraceae                  </td><td>Brachybacterium                   </td><td>Brachybacterium endophyticum      </td></tr>\n",
       "\t<tr><td>cbe4b82089304ba79392f5af0d5b05d5  </td><td>UniRef50_X7YKT6                   </td><td>179                               </td><td>Rhodococcus                       </td><td>Rhodococcus_sp_AD45               </td><td>103808                            </td><td> 103808                           </td><td>species                           </td><td>Rhodococcus sp. AD45              </td><td>unknown                           </td><td>Actinobacteria                    </td><td>Actinobacteria                    </td><td>Corynebacteriales                 </td><td>Nocardiaceae                      </td><td>Rhodococcus                       </td><td>Rhodococcus sp. AD45              </td></tr>\n",
       "\t<tr><td>0a96a5e198854c6bb4d01131dd1aa0eb  </td><td>UniRef50_U0FBL1                   </td><td>146                               </td><td>Corynebacterium                   </td><td>Corynebacterium_falsenii          </td><td>1451189                           </td><td>1451189                           </td><td>no rank                           </td><td>Corynebacterium falsenii DSM 44353</td><td>unknown                           </td><td>Actinobacteria                    </td><td>Actinobacteria                    </td><td>Corynebacteriales                 </td><td>Corynebacteriaceae                </td><td>Corynebacterium                   </td><td>Corynebacterium falsenii          </td></tr>\n",
       "</tbody>\n",
       "</table>\n"
      ],
      "text/latex": [
       "\\begin{tabular}{r|llllllllllllllll}\n",
       " original\\_name & UniRefID & Gene\\_length & Genus.x & Species.x & TaxID & taxID & rank & spp & Domain & Phylum & Class & Order & Family & Genus.y & Species.y\\\\\n",
       "\\hline\n",
       "\t d35d32cbeaec4d26b38b326ec0015a3b   & UniRef50\\_D2AT30                  & 96                                 & Brachybacterium                    & Brachybacterium\\_endophyticum     & 2182385                            & 2182385                            & species                            & Brachybacterium endophyticum       & unknown                            & Actinobacteria                     & Actinobacteria                     & Micrococcales                      & Dermabacteraceae                   & Brachybacterium                    & Brachybacterium endophyticum      \\\\\n",
       "\t cbe4b82089304ba79392f5af0d5b05d5   & UniRef50\\_X7YKT6                  & 179                                & Rhodococcus                        & Rhodococcus\\_sp\\_AD45            & 103808                             &  103808                            & species                            & Rhodococcus sp. AD45               & unknown                            & Actinobacteria                     & Actinobacteria                     & Corynebacteriales                  & Nocardiaceae                       & Rhodococcus                        & Rhodococcus sp. AD45              \\\\\n",
       "\t 0a96a5e198854c6bb4d01131dd1aa0eb   & UniRef50\\_U0FBL1                  & 146                                & Corynebacterium                    & Corynebacterium\\_falsenii         & 1451189                            & 1451189                            & no rank                            & Corynebacterium falsenii DSM 44353 & unknown                            & Actinobacteria                     & Actinobacteria                     & Corynebacteriales                  & Corynebacteriaceae                 & Corynebacterium                    & Corynebacterium falsenii          \\\\\n",
       "\\end{tabular}\n"
      ],
      "text/markdown": [
       "\n",
       "original_name | UniRefID | Gene_length | Genus.x | Species.x | TaxID | taxID | rank | spp | Domain | Phylum | Class | Order | Family | Genus.y | Species.y | \n",
       "|---|---|---|\n",
       "| d35d32cbeaec4d26b38b326ec0015a3b   | UniRef50_D2AT30                    | 96                                 | Brachybacterium                    | Brachybacterium_endophyticum       | 2182385                            | 2182385                            | species                            | Brachybacterium endophyticum       | unknown                            | Actinobacteria                     | Actinobacteria                     | Micrococcales                      | Dermabacteraceae                   | Brachybacterium                    | Brachybacterium endophyticum       | \n",
       "| cbe4b82089304ba79392f5af0d5b05d5   | UniRef50_X7YKT6                    | 179                                | Rhodococcus                        | Rhodococcus_sp_AD45                | 103808                             |  103808                            | species                            | Rhodococcus sp. AD45               | unknown                            | Actinobacteria                     | Actinobacteria                     | Corynebacteriales                  | Nocardiaceae                       | Rhodococcus                        | Rhodococcus sp. AD45               | \n",
       "| 0a96a5e198854c6bb4d01131dd1aa0eb   | UniRef50_U0FBL1                    | 146                                | Corynebacterium                    | Corynebacterium_falsenii           | 1451189                            | 1451189                            | no rank                            | Corynebacterium falsenii DSM 44353 | unknown                            | Actinobacteria                     | Actinobacteria                     | Corynebacteriales                  | Corynebacteriaceae                 | Corynebacterium                    | Corynebacterium falsenii           | \n",
       "\n",
       "\n"
      ],
      "text/plain": [
       "  original_name                    UniRefID        Gene_length Genus.x        \n",
       "1 d35d32cbeaec4d26b38b326ec0015a3b UniRef50_D2AT30 96          Brachybacterium\n",
       "2 cbe4b82089304ba79392f5af0d5b05d5 UniRef50_X7YKT6 179         Rhodococcus    \n",
       "3 0a96a5e198854c6bb4d01131dd1aa0eb UniRef50_U0FBL1 146         Corynebacterium\n",
       "  Species.x                    TaxID   taxID   rank   \n",
       "1 Brachybacterium_endophyticum 2182385 2182385 species\n",
       "2 Rhodococcus_sp_AD45          103808   103808 species\n",
       "3 Corynebacterium_falsenii     1451189 1451189 no rank\n",
       "  spp                                Domain  Phylum         Class         \n",
       "1 Brachybacterium endophyticum       unknown Actinobacteria Actinobacteria\n",
       "2 Rhodococcus sp. AD45               unknown Actinobacteria Actinobacteria\n",
       "3 Corynebacterium falsenii DSM 44353 unknown Actinobacteria Actinobacteria\n",
       "  Order             Family             Genus.y        \n",
       "1 Micrococcales     Dermabacteraceae   Brachybacterium\n",
       "2 Corynebacteriales Nocardiaceae       Rhodococcus    \n",
       "3 Corynebacteriales Corynebacteriaceae Corynebacterium\n",
       "  Species.y                   \n",
       "1 Brachybacterium endophyticum\n",
       "2 Rhodococcus sp. AD45        \n",
       "3 Corynebacterium falsenii    "
      ]
     },
     "metadata": {},
     "output_type": "display_data"
    }
   ],
   "source": [
    "# adding taxonomy\n",
    "intersect(hm2$original_name, tax$seqID) %>% length %>% print\n",
    "\n",
    "hm2 = hm2 %>%\n",
    "    left_join(tax, c('original_name'='seqID'))\n",
    "\n",
    "hm2 %>% dfhead"
   ]
  },
  {
   "cell_type": "markdown",
   "metadata": {},
   "source": [
    "### Summary"
   ]
  },
  {
   "cell_type": "code",
   "execution_count": 31,
   "metadata": {
    "ExecuteTime": {
     "end_time": "2019-09-29T18:35:53.467606Z",
     "start_time": "2019-09-29T18:35:53.317Z"
    }
   },
   "outputs": [
    {
     "data": {
      "text/html": [
       "47544"
      ],
      "text/latex": [
       "47544"
      ],
      "text/markdown": [
       "47544"
      ],
      "text/plain": [
       "[1] 47544"
      ]
     },
     "metadata": {},
     "output_type": "display_data"
    }
   ],
   "source": [
    "# number of unique UniRef IDs\n",
    "hm2$UniRefID %>% unique %>% length"
   ]
  },
  {
   "cell_type": "code",
   "execution_count": 32,
   "metadata": {
    "ExecuteTime": {
     "end_time": "2019-09-29T18:35:55.342453Z",
     "start_time": "2019-09-29T18:35:53.700Z"
    }
   },
   "outputs": [
    {
     "data": {
      "text/html": [
       "<table>\n",
       "<thead><tr><th scope=col>UniRefID</th><th scope=col>n</th></tr></thead>\n",
       "<tbody>\n",
       "\t<tr><td>UniRef50_G2SPG8</td><td>30             </td></tr>\n",
       "\t<tr><td>UniRef50_Q832B8</td><td>30             </td></tr>\n",
       "\t<tr><td>UniRef50_Q839G1</td><td>29             </td></tr>\n",
       "\t<tr><td>UniRef50_B8DTT6</td><td>27             </td></tr>\n",
       "\t<tr><td>UniRef50_B9IYP4</td><td>26             </td></tr>\n",
       "\t<tr><td>UniRef50_B9IYZ4</td><td>25             </td></tr>\n",
       "\t<tr><td>UniRef50_D4K8M3</td><td>21             </td></tr>\n",
       "\t<tr><td>UniRef50_Q2FFI7</td><td>21             </td></tr>\n",
       "\t<tr><td>UniRef50_Q88TV5</td><td>21             </td></tr>\n",
       "\t<tr><td>UniRef50_T3NNL9</td><td>21             </td></tr>\n",
       "\t<tr><td>UniRef50_A5VI99</td><td>19             </td></tr>\n",
       "\t<tr><td>UniRef50_P39149</td><td>19             </td></tr>\n",
       "\t<tr><td>UniRef50_Q03MZ6</td><td>19             </td></tr>\n",
       "\t<tr><td>UniRef50_Q5HRK4</td><td>19             </td></tr>\n",
       "\t<tr><td>UniRef50_Q839F2</td><td>19             </td></tr>\n",
       "\t<tr><td>UniRef50_Q88YH5</td><td>19             </td></tr>\n",
       "\t<tr><td>UniRef50_G2KUZ9</td><td>18             </td></tr>\n",
       "\t<tr><td>UniRef50_Q9X3Y6</td><td>18             </td></tr>\n",
       "\t<tr><td>UniRef50_T1Z5N5</td><td>18             </td></tr>\n",
       "\t<tr><td>UniRef50_A7WYS8</td><td>17             </td></tr>\n",
       "\t<tr><td>UniRef50_A8YTZ3</td><td>17             </td></tr>\n",
       "\t<tr><td>UniRef50_B7HCU0</td><td>17             </td></tr>\n",
       "\t<tr><td>UniRef50_D4CMQ3</td><td>17             </td></tr>\n",
       "\t<tr><td>UniRef50_D8IM85</td><td>17             </td></tr>\n",
       "\t<tr><td>UniRef50_F0NVI8</td><td>17             </td></tr>\n",
       "\t<tr><td>UniRef50_H9KDJ0</td><td>17             </td></tr>\n",
       "\t<tr><td>UniRef50_P19672</td><td>17             </td></tr>\n",
       "\t<tr><td>UniRef50_P65239</td><td>17             </td></tr>\n",
       "\t<tr><td>UniRef50_Q38XW7</td><td>17             </td></tr>\n",
       "\t<tr><td>UniRef50_Q831N0</td><td>17             </td></tr>\n",
       "</tbody>\n",
       "</table>\n"
      ],
      "text/latex": [
       "\\begin{tabular}{r|ll}\n",
       " UniRefID & n\\\\\n",
       "\\hline\n",
       "\t UniRef50\\_G2SPG8 & 30               \\\\\n",
       "\t UniRef50\\_Q832B8 & 30               \\\\\n",
       "\t UniRef50\\_Q839G1 & 29               \\\\\n",
       "\t UniRef50\\_B8DTT6 & 27               \\\\\n",
       "\t UniRef50\\_B9IYP4 & 26               \\\\\n",
       "\t UniRef50\\_B9IYZ4 & 25               \\\\\n",
       "\t UniRef50\\_D4K8M3 & 21               \\\\\n",
       "\t UniRef50\\_Q2FFI7 & 21               \\\\\n",
       "\t UniRef50\\_Q88TV5 & 21               \\\\\n",
       "\t UniRef50\\_T3NNL9 & 21               \\\\\n",
       "\t UniRef50\\_A5VI99 & 19               \\\\\n",
       "\t UniRef50\\_P39149 & 19               \\\\\n",
       "\t UniRef50\\_Q03MZ6 & 19               \\\\\n",
       "\t UniRef50\\_Q5HRK4 & 19               \\\\\n",
       "\t UniRef50\\_Q839F2 & 19               \\\\\n",
       "\t UniRef50\\_Q88YH5 & 19               \\\\\n",
       "\t UniRef50\\_G2KUZ9 & 18               \\\\\n",
       "\t UniRef50\\_Q9X3Y6 & 18               \\\\\n",
       "\t UniRef50\\_T1Z5N5 & 18               \\\\\n",
       "\t UniRef50\\_A7WYS8 & 17               \\\\\n",
       "\t UniRef50\\_A8YTZ3 & 17               \\\\\n",
       "\t UniRef50\\_B7HCU0 & 17               \\\\\n",
       "\t UniRef50\\_D4CMQ3 & 17               \\\\\n",
       "\t UniRef50\\_D8IM85 & 17               \\\\\n",
       "\t UniRef50\\_F0NVI8 & 17               \\\\\n",
       "\t UniRef50\\_H9KDJ0 & 17               \\\\\n",
       "\t UniRef50\\_P19672 & 17               \\\\\n",
       "\t UniRef50\\_P65239 & 17               \\\\\n",
       "\t UniRef50\\_Q38XW7 & 17               \\\\\n",
       "\t UniRef50\\_Q831N0 & 17               \\\\\n",
       "\\end{tabular}\n"
      ],
      "text/markdown": [
       "\n",
       "UniRefID | n | \n",
       "|---|---|---|---|---|---|---|---|---|---|---|---|---|---|---|---|---|---|---|---|---|---|---|---|---|---|---|---|---|---|\n",
       "| UniRef50_G2SPG8 | 30              | \n",
       "| UniRef50_Q832B8 | 30              | \n",
       "| UniRef50_Q839G1 | 29              | \n",
       "| UniRef50_B8DTT6 | 27              | \n",
       "| UniRef50_B9IYP4 | 26              | \n",
       "| UniRef50_B9IYZ4 | 25              | \n",
       "| UniRef50_D4K8M3 | 21              | \n",
       "| UniRef50_Q2FFI7 | 21              | \n",
       "| UniRef50_Q88TV5 | 21              | \n",
       "| UniRef50_T3NNL9 | 21              | \n",
       "| UniRef50_A5VI99 | 19              | \n",
       "| UniRef50_P39149 | 19              | \n",
       "| UniRef50_Q03MZ6 | 19              | \n",
       "| UniRef50_Q5HRK4 | 19              | \n",
       "| UniRef50_Q839F2 | 19              | \n",
       "| UniRef50_Q88YH5 | 19              | \n",
       "| UniRef50_G2KUZ9 | 18              | \n",
       "| UniRef50_Q9X3Y6 | 18              | \n",
       "| UniRef50_T1Z5N5 | 18              | \n",
       "| UniRef50_A7WYS8 | 17              | \n",
       "| UniRef50_A8YTZ3 | 17              | \n",
       "| UniRef50_B7HCU0 | 17              | \n",
       "| UniRef50_D4CMQ3 | 17              | \n",
       "| UniRef50_D8IM85 | 17              | \n",
       "| UniRef50_F0NVI8 | 17              | \n",
       "| UniRef50_H9KDJ0 | 17              | \n",
       "| UniRef50_P19672 | 17              | \n",
       "| UniRef50_P65239 | 17              | \n",
       "| UniRef50_Q38XW7 | 17              | \n",
       "| UniRef50_Q831N0 | 17              | \n",
       "\n",
       "\n"
      ],
      "text/plain": [
       "   UniRefID        n \n",
       "1  UniRef50_G2SPG8 30\n",
       "2  UniRef50_Q832B8 30\n",
       "3  UniRef50_Q839G1 29\n",
       "4  UniRef50_B8DTT6 27\n",
       "5  UniRef50_B9IYP4 26\n",
       "6  UniRef50_B9IYZ4 25\n",
       "7  UniRef50_D4K8M3 21\n",
       "8  UniRef50_Q2FFI7 21\n",
       "9  UniRef50_Q88TV5 21\n",
       "10 UniRef50_T3NNL9 21\n",
       "11 UniRef50_A5VI99 19\n",
       "12 UniRef50_P39149 19\n",
       "13 UniRef50_Q03MZ6 19\n",
       "14 UniRef50_Q5HRK4 19\n",
       "15 UniRef50_Q839F2 19\n",
       "16 UniRef50_Q88YH5 19\n",
       "17 UniRef50_G2KUZ9 18\n",
       "18 UniRef50_Q9X3Y6 18\n",
       "19 UniRef50_T1Z5N5 18\n",
       "20 UniRef50_A7WYS8 17\n",
       "21 UniRef50_A8YTZ3 17\n",
       "22 UniRef50_B7HCU0 17\n",
       "23 UniRef50_D4CMQ3 17\n",
       "24 UniRef50_D8IM85 17\n",
       "25 UniRef50_F0NVI8 17\n",
       "26 UniRef50_H9KDJ0 17\n",
       "27 UniRef50_P19672 17\n",
       "28 UniRef50_P65239 17\n",
       "29 UniRef50_Q38XW7 17\n",
       "30 UniRef50_Q831N0 17"
      ]
     },
     "metadata": {},
     "output_type": "display_data"
    }
   ],
   "source": [
    "# duplicate UniRef IDs\n",
    "hm2 %>%\n",
    "    group_by(UniRefID) %>%\n",
    "    summarize(n = n()) %>%\n",
    "    ungroup() %>%\n",
    "    filter(n > 1) %>%\n",
    "    arrange(-n) %>%\n",
    "    head(n=30)"
   ]
  },
  {
   "cell_type": "code",
   "execution_count": 33,
   "metadata": {
    "ExecuteTime": {
     "end_time": "2019-09-29T18:35:55.481428Z",
     "start_time": "2019-09-29T18:35:54.797Z"
    }
   },
   "outputs": [
    {
     "data": {
      "text/html": [
       "82699"
      ],
      "text/latex": [
       "82699"
      ],
      "text/markdown": [
       "82699"
      ],
      "text/plain": [
       "[1] 82699"
      ]
     },
     "metadata": {},
     "output_type": "display_data"
    }
   ],
   "source": [
    "# number of genes with a taxID\n",
    "hm2_f = hm2 %>%\n",
    "    filter(!is.na(TaxID))\n",
    "\n",
    "hm2_f %>% nrow "
   ]
  },
  {
   "cell_type": "markdown",
   "metadata": {},
   "source": [
    "#### By taxonomy"
   ]
  },
  {
   "cell_type": "code",
   "execution_count": 34,
   "metadata": {
    "ExecuteTime": {
     "end_time": "2019-09-29T18:35:58.843262Z",
     "start_time": "2019-09-29T18:35:57.606Z"
    }
   },
   "outputs": [
    {
     "data": {
      "image/png": "[encoded data removed]",
      "text/plain": [
       "plot without title"
      ]
     },
     "metadata": {},
     "output_type": "display_data"
    }
   ],
   "source": [
    "# number of UniRefIDs\n",
    "hm2_f_s = hm2_f %>%\n",
    "    group_by(Domain, Phylum) %>%\n",
    "    summarize(n = UniRefID %>% unique %>% length) %>%\n",
    "    ungroup()\n",
    "\n",
    "p = hm2_f_s %>%\n",
    "    filter(n >= 10) %>%\n",
    "    mutate(Phylum = Phylum %>% reorder(n)) %>%\n",
    "    ggplot(aes(Phylum, n, fill=Domain)) +\n",
    "    geom_bar(stat='identity', position='dodge') +\n",
    "    scale_y_log10() +\n",
    "    coord_flip() +\n",
    "    labs(y='No. of UniRef IDs') +\n",
    "    theme_bw() +\n",
    "    theme(\n",
    "        axis.text.y = element_text(size=7)\n",
    "    )\n",
    "    \n",
    "dims(5,5)\n",
    "plot(p)"
   ]
  },
  {
   "cell_type": "markdown",
   "metadata": {},
   "source": [
    "# sessionInfo"
   ]
  },
  {
   "cell_type": "code",
   "execution_count": 35,
   "metadata": {
    "ExecuteTime": {
     "end_time": "2019-09-29T18:36:01.191742Z",
     "start_time": "2019-09-29T18:36:01.020Z"
    }
   },
   "outputs": [
    {
     "data": {
      "text/plain": [
       "R version 3.4.1 (2017-06-30)\n",
       "Platform: x86_64-pc-linux-gnu (64-bit)\n",
       "Running under: Ubuntu 18.04.3 LTS\n",
       "\n",
       "Matrix products: default\n",
       "BLAS: /ebio/abt3_projects/software/miniconda3_gt4.4/envs/py3_physeq/lib/R/lib/libRblas.so\n",
       "LAPACK: /ebio/abt3_projects/software/miniconda3_gt4.4/envs/py3_physeq/lib/R/lib/libRlapack.so\n",
       "\n",
       "locale:\n",
       "[1] en_US.UTF-8\n",
       "\n",
       "attached base packages:\n",
       "[1] stats     graphics  grDevices utils     datasets  methods   base     \n",
       "\n",
       "other attached packages:\n",
       "[1] bindrcpp_0.2.2    data.table_1.11.4 ggplot2_3.0.0     tidyr_0.8.1      \n",
       "[5] dplyr_0.7.6      \n",
       "\n",
       "loaded via a namespace (and not attached):\n",
       " [1] Rcpp_0.12.17     pillar_1.2.2     compiler_3.4.1   plyr_1.8.4      \n",
       " [5] bindr_0.1.1      base64enc_0.1-3  tools_3.4.1      digest_0.6.15   \n",
       " [9] uuid_0.1-2       jsonlite_1.5     evaluate_0.10.1  tibble_1.4.2    \n",
       "[13] gtable_0.2.0     pkgconfig_2.0.1  rlang_0.2.1      IRdisplay_0.4.4 \n",
       "[17] IRkernel_0.8.12  repr_0.15.0      withr_2.1.1      stringr_1.3.1   \n",
       "[21] grid_3.4.1       tidyselect_0.2.4 glue_1.3.0       R6_2.2.2        \n",
       "[25] pbdZMQ_0.3-2     purrr_0.2.4      magrittr_1.5     scales_0.5.0    \n",
       "[29] htmltools_0.3.6  assertthat_0.2.0 colorspace_1.3-2 labeling_0.3    \n",
       "[33] stringi_1.2.3    lazyeval_0.2.1   munsell_0.5.0    crayon_1.3.4    "
      ]
     },
     "metadata": {},
     "output_type": "display_data"
    }
   ],
   "source": [
    "sessionInfo()"
   ]
  },
  {
   "cell_type": "code",
   "execution_count": null,
   "metadata": {},
   "outputs": [],
   "source": []
  }
 ],
 "metadata": {
  "kernelspec": {
   "display_name": "R [conda env:py3_physeq]",
   "language": "R",
   "name": "conda-env-py3_physeq-r"
  },
  "language_info": {
   "codemirror_mode": "r",
   "file_extension": ".r",
   "mimetype": "text/x-r-source",
   "name": "R",
   "pygments_lexer": "r",
   "version": "3.4.1"
  },
  "notify_time": "30",
  "toc": {
   "base_numbering": 1,
   "nav_menu": {},
   "number_sections": true,
   "sideBar": true,
   "skip_h1_title": false,
   "title_cell": "Table of Contents",
   "title_sidebar": "Contents",
   "toc_cell": true,
   "toc_position": {},
   "toc_section_display": true,
   "toc_window_display": true
  }
 },
 "nbformat": 4,
 "nbformat_minor": 2
}
