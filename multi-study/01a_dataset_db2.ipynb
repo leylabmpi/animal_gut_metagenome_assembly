{
 "cells": [
  {
   "cell_type": "markdown",
   "metadata": {
    "toc": true
   },
   "source": [
    "<h1>Table of Contents<span class=\"tocSkip\"></span></h1>\n",
    "<div class=\"toc\"><ul class=\"toc-item\"><li><span><a href=\"#Goal\" data-toc-modified-id=\"Goal-1\"><span class=\"toc-item-num\">1&nbsp;&nbsp;</span>Goal</a></span></li><li><span><a href=\"#Var\" data-toc-modified-id=\"Var-2\"><span class=\"toc-item-num\">2&nbsp;&nbsp;</span>Var</a></span></li><li><span><a href=\"#Init\" data-toc-modified-id=\"Init-3\"><span class=\"toc-item-num\">3&nbsp;&nbsp;</span>Init</a></span></li><li><span><a href=\"#Load\" data-toc-modified-id=\"Load-4\"><span class=\"toc-item-num\">4&nbsp;&nbsp;</span>Load</a></span></li><li><span><a href=\"#Get-SRA-runinfo-for-BioProjects\" data-toc-modified-id=\"Get-SRA-runinfo-for-BioProjects-5\"><span class=\"toc-item-num\">5&nbsp;&nbsp;</span>Get SRA runinfo for BioProjects</a></span></li><li><span><a href=\"#Get-sample-metadata\" data-toc-modified-id=\"Get-sample-metadata-6\"><span class=\"toc-item-num\">6&nbsp;&nbsp;</span>Get sample metadata</a></span></li><li><span><a href=\"#Dataset-summary\" data-toc-modified-id=\"Dataset-summary-7\"><span class=\"toc-item-num\">7&nbsp;&nbsp;</span>Dataset summary</a></span><ul class=\"toc-item\"><li><span><a href=\"#per-bioproject\" data-toc-modified-id=\"per-bioproject-7.1\"><span class=\"toc-item-num\">7.1&nbsp;&nbsp;</span>per-bioproject</a></span></li></ul></li><li><span><a href=\"#Creating-sample-files-for-LLMGQC\" data-toc-modified-id=\"Creating-sample-files-for-LLMGQC-8\"><span class=\"toc-item-num\">8&nbsp;&nbsp;</span>Creating sample files for LLMGQC</a></span></li><li><span><a href=\"#sessionInfo\" data-toc-modified-id=\"sessionInfo-9\"><span class=\"toc-item-num\">9&nbsp;&nbsp;</span>sessionInfo</a></span></li></ul></div>"
   ]
  },
  {
   "cell_type": "markdown",
   "metadata": {},
   "source": [
    "# Goal\n",
    "\n",
    "* Adding to existing database of animal gut/feces metagenomes\n",
    "  * metagenomes from various studies"
   ]
  },
  {
   "cell_type": "markdown",
   "metadata": {},
   "source": [
    "# Var"
   ]
  },
  {
   "cell_type": "code",
   "execution_count": 1,
   "metadata": {
    "ExecuteTime": {
     "end_time": "2019-09-02T15:25:56.591932Z",
     "start_time": "2019-09-02T15:25:56.166Z"
    }
   },
   "outputs": [],
   "source": [
    "work_dir = '/ebio/abt3_projects/Georg_animal_feces/data/metagenome/multi-study/'\n",
    "\n",
    "metadata_file = file.path(work_dir, 'metadata', 'study_metadata_v2.xlsx')"
   ]
  },
  {
   "cell_type": "markdown",
   "metadata": {},
   "source": [
    "# Init"
   ]
  },
  {
   "cell_type": "code",
   "execution_count": 2,
   "metadata": {
    "ExecuteTime": {
     "end_time": "2019-09-02T15:25:57.469554Z",
     "start_time": "2019-09-02T15:25:56.607Z"
    }
   },
   "outputs": [
    {
     "name": "stderr",
     "output_type": "stream",
     "text": [
      "\n",
      "Attaching package: ‘dplyr’\n",
      "\n",
      "The following objects are masked from ‘package:stats’:\n",
      "\n",
      "    filter, lag\n",
      "\n",
      "The following objects are masked from ‘package:base’:\n",
      "\n",
      "    intersect, setdiff, setequal, union\n",
      "\n"
     ]
    }
   ],
   "source": [
    "library(dplyr)\n",
    "library(tidyr)\n",
    "library(ggplot2)\n",
    "library(readxl)\n",
    "\n",
    "source('/ebio/abt3_projects/Georg_animal_feces/code/misc_r_functions/init.R')"
   ]
  },
  {
   "cell_type": "markdown",
   "metadata": {},
   "source": [
    "# Load"
   ]
  },
  {
   "cell_type": "code",
   "execution_count": 4,
   "metadata": {
    "ExecuteTime": {
     "end_time": "2019-09-02T15:26:30.270289Z",
     "start_time": "2019-09-02T15:26:29.946Z"
    }
   },
   "outputs": [
    {
     "name": "stdout",
     "output_type": "stream",
     "text": [
      "[1]  4 10\n"
     ]
    },
    {
     "data": {
      "text/html": [
       "<table>\n",
       "<thead><tr><th scope=col>Animal</th><th scope=col>First_author</th><th scope=col>Year</th><th scope=col>DOI</th><th scope=col>Sequencer</th><th scope=col>Read_length</th><th scope=col>BioProject</th><th scope=col>Paper_accession</th><th scope=col>Existing_MG_assembly</th><th scope=col>Comments</th></tr></thead>\n",
       "<tbody>\n",
       "\t<tr><td>Whale                                                                                                                                                           </td><td>Roiha                                                                                                                                                           </td><td>2017                                                                                                                                                            </td><td>https://www.researchgate.net/publication/318982465_Characterising_the_gut_microbiota_of_minke_whale_Balaenoptera_acutorostrata_-_members_and_potential_functions</td><td>HiSeq2500                                                                                                                                                       </td><td>NA                                                                                                                                                              </td><td>PRJEB23642                                                                                                                                                      </td><td>NA                                                                                                                                                              </td><td>NA                                                                                                                                                              </td><td>paired end                                                                                                                                                      </td></tr>\n",
       "\t<tr><td>House cat                                                                                                                                                       </td><td>Deusch                                                                                                                                                          </td><td>2015                                                                                                                                                            </td><td>10.1371/journal.pone.0144881                                                                                                                                    </td><td>HiSeq2000                                                                                                                                                       </td><td>NA                                                                                                                                                              </td><td>PRJEB9357                                                                                                                                                       </td><td>NA                                                                                                                                                              </td><td>NA                                                                                                                                                              </td><td>paired end                                                                                                                                                      </td></tr>\n",
       "\t<tr><td>Banteng &amp; Marmoset                                                                                                                                                                                  </td><td>Lugli                                                                                                                                                                                                   </td><td>2019                                                                                                                                                                                                    </td><td><span style=white-space:pre-wrap>https://doi.org/10.1186/s13059-019-1711-6                                                                                                                       </span></td><td>NextSeq550                                                                                                                                                                                              </td><td>NA                                                                                                                                                                                                      </td><td>PRJNA494387                                                                                                                                                                                             </td><td>NA                                                                                                                                                                                                      </td><td>NA                                                                                                                                                                                                      </td><td>paired end                                                                                                                                                                                              </td></tr>\n",
       "</tbody>\n",
       "</table>\n"
      ],
      "text/latex": [
       "\\begin{tabular}{r|llllllllll}\n",
       " Animal & First\\_author & Year & DOI & Sequencer & Read\\_length & BioProject & Paper\\_accession & Existing\\_MG\\_assembly & Comments\\\\\n",
       "\\hline\n",
       "\t Whale                                                                                                                                                                                        & Roiha                                                                                                                                                                                        & 2017                                                                                                                                                                                         & https://www.researchgate.net/publication/318982465\\_Characterising\\_the\\_gut\\_microbiota\\_of\\_minke\\_whale\\_Balaenoptera\\_acutorostrata\\_-\\_members\\_and\\_potential\\_functions & HiSeq2500                                                                                                                                                                                    & NA                                                                                                                                                                                           & PRJEB23642                                                                                                                                                                                   & NA                                                                                                                                                                                           & NA                                                                                                                                                                                           & paired end                                                                                                                                                                                  \\\\\n",
       "\t House cat                                                                                                                                                        & Deusch                                                                                                                                                           & 2015                                                                                                                                                             & 10.1371/journal.pone.0144881                                                                                                                                     & HiSeq2000                                                                                                                                                        & NA                                                                                                                                                               & PRJEB9357                                                                                                                                                        & NA                                                                                                                                                               & NA                                                                                                                                                               & paired end                                                                                                                                                      \\\\\n",
       "\t Banteng \\& Marmoset                                                                                                                                             & Lugli                                                                                                                                                            & 2019                                                                                                                                                             & https://doi.org/10.1186/s13059-019-1711-6                                                                                                                        & NextSeq550                                                                                                                                                       & NA                                                                                                                                                               & PRJNA494387                                                                                                                                                      & NA                                                                                                                                                               & NA                                                                                                                                                               & paired end                                                                                                                                                      \\\\\n",
       "\\end{tabular}\n"
      ],
      "text/markdown": [
       "\n",
       "Animal | First_author | Year | DOI | Sequencer | Read_length | BioProject | Paper_accession | Existing_MG_assembly | Comments | \n",
       "|---|---|---|\n",
       "| Whale                                                                                                                                                            | Roiha                                                                                                                                                            | 2017                                                                                                                                                             | https://www.researchgate.net/publication/318982465_Characterising_the_gut_microbiota_of_minke_whale_Balaenoptera_acutorostrata_-_members_and_potential_functions | HiSeq2500                                                                                                                                                        | NA                                                                                                                                                               | PRJEB23642                                                                                                                                                       | NA                                                                                                                                                               | NA                                                                                                                                                               | paired end                                                                                                                                                       | \n",
       "| House cat                                                                                                                                                        | Deusch                                                                                                                                                           | 2015                                                                                                                                                             | 10.1371/journal.pone.0144881                                                                                                                                     | HiSeq2000                                                                                                                                                        | NA                                                                                                                                                               | PRJEB9357                                                                                                                                                        | NA                                                                                                                                                               | NA                                                                                                                                                               | paired end                                                                                                                                                       | \n",
       "| Banteng & Marmoset                                                                                                                                               | Lugli                                                                                                                                                            | 2019                                                                                                                                                             | https://doi.org/10.1186/s13059-019-1711-6                                                                                                                        | NextSeq550                                                                                                                                                       | NA                                                                                                                                                               | PRJNA494387                                                                                                                                                      | NA                                                                                                                                                               | NA                                                                                                                                                               | paired end                                                                                                                                                       | \n",
       "\n",
       "\n"
      ],
      "text/plain": [
       "  Animal             First_author Year\n",
       "1 Whale              Roiha        2017\n",
       "2 House cat          Deusch       2015\n",
       "3 Banteng & Marmoset Lugli        2019\n",
       "  DOI                                                                                                                                                             \n",
       "1 https://www.researchgate.net/publication/318982465_Characterising_the_gut_microbiota_of_minke_whale_Balaenoptera_acutorostrata_-_members_and_potential_functions\n",
       "2 10.1371/journal.pone.0144881                                                                                                                                    \n",
       "3 https://doi.org/10.1186/s13059-019-1711-6                                                                                                                       \n",
       "  Sequencer  Read_length BioProject  Paper_accession Existing_MG_assembly\n",
       "1 HiSeq2500  NA          PRJEB23642  NA              NA                  \n",
       "2 HiSeq2000  NA          PRJEB9357   NA              NA                  \n",
       "3 NextSeq550 NA          PRJNA494387 NA              NA                  \n",
       "  Comments  \n",
       "1 paired end\n",
       "2 paired end\n",
       "3 paired end"
      ]
     },
     "metadata": {},
     "output_type": "display_data"
    }
   ],
   "source": [
    "metadata = readxl::read_xlsx(metadata_file, sheet='Round2') %>%\n",
    "    filter(! is.na(BioProject))\n",
    "metadata %>% dfhead"
   ]
  },
  {
   "cell_type": "markdown",
   "metadata": {},
   "source": [
    "# Get SRA runinfo for BioProjects"
   ]
  },
  {
   "cell_type": "code",
   "execution_count": 5,
   "metadata": {
    "ExecuteTime": {
     "end_time": "2019-09-02T15:26:41.646094Z",
     "start_time": "2019-09-02T15:26:41.615Z"
    }
   },
   "outputs": [],
   "source": [
    "# function for getting files via entrez-direct\n",
    "get_SRA_runinfo = function(bioproject, out_dir){\n",
    "    out_file = file.path(out_dir, paste0(bioproject, '_runinfo.csv'))\n",
    "    cmd = 'esearch -db sra -query {bioproject} | efetch --format runinfo > {out_file}'\n",
    "    cmd = glue::glue(cmd, bioproject = bioproject, out_file = out_file)\n",
    "    bash_job(cmd, conda_env='py3_genome')\n",
    "    return(bioproject)\n",
    "}"
   ]
  },
  {
   "cell_type": "code",
   "execution_count": 6,
   "metadata": {
    "ExecuteTime": {
     "end_time": "2019-09-02T15:27:09.887814Z",
     "start_time": "2019-09-02T15:26:48.880Z"
    }
   },
   "outputs": [
    {
     "name": "stdout",
     "output_type": "stream",
     "text": [
      "Directory already exists: /ebio/abt3_projects/Georg_animal_feces/data/metagenome/multi-study//SRA_runinfo \n"
     ]
    },
    {
     "data": {
      "text/html": [
       "<ol>\n",
       "\t<li>'PRJEB23642'</li>\n",
       "\t<li>'PRJEB9357'</li>\n",
       "\t<li>'PRJNA494387'</li>\n",
       "\t<li>'PRJEB22765'</li>\n",
       "</ol>\n"
      ],
      "text/latex": [
       "\\begin{enumerate}\n",
       "\\item 'PRJEB23642'\n",
       "\\item 'PRJEB9357'\n",
       "\\item 'PRJNA494387'\n",
       "\\item 'PRJEB22765'\n",
       "\\end{enumerate}\n"
      ],
      "text/markdown": [
       "1. 'PRJEB23642'\n",
       "2. 'PRJEB9357'\n",
       "3. 'PRJNA494387'\n",
       "4. 'PRJEB22765'\n",
       "\n",
       "\n"
      ],
      "text/plain": [
       "[[1]]\n",
       "[1] \"PRJEB23642\"\n",
       "\n",
       "[[2]]\n",
       "[1] \"PRJEB9357\"\n",
       "\n",
       "[[3]]\n",
       "[1] \"PRJNA494387\"\n",
       "\n",
       "[[4]]\n",
       "[1] \"PRJEB22765\"\n"
      ]
     },
     "metadata": {},
     "output_type": "display_data"
    }
   ],
   "source": [
    "# fetching data\n",
    "out_dir = file.path(work_dir, 'SRA_runinfo')\n",
    "make_dir(out_dir)\n",
    "\n",
    "X = as.list(metadata$BioProject)\n",
    "lapply(X, get_SRA_runinfo, out_dir = out_dir)"
   ]
  },
  {
   "cell_type": "code",
   "execution_count": 7,
   "metadata": {
    "ExecuteTime": {
     "end_time": "2019-09-02T15:27:09.967625Z",
     "start_time": "2019-09-02T15:26:57.998Z"
    }
   },
   "outputs": [
    {
     "name": "stdout",
     "output_type": "stream",
     "text": [
      "[1] 23  2\n"
     ]
    },
    {
     "data": {
      "text/html": [
       "<table>\n",
       "<thead><tr><th scope=col>bioproject</th><th scope=col>file_path</th></tr></thead>\n",
       "<tbody>\n",
       "\t<tr><td>PRJEB11755                                                                                            </td><td>/ebio/abt3_projects/Georg_animal_feces/data/metagenome/multi-study//SRA_runinfo/PRJEB11755_runinfo.csv</td></tr>\n",
       "\t<tr><td>PRJEB20308                                                                                            </td><td>/ebio/abt3_projects/Georg_animal_feces/data/metagenome/multi-study//SRA_runinfo/PRJEB20308_runinfo.csv</td></tr>\n",
       "\t<tr><td>PRJEB21624                                                                                            </td><td>/ebio/abt3_projects/Georg_animal_feces/data/metagenome/multi-study//SRA_runinfo/PRJEB21624_runinfo.csv</td></tr>\n",
       "</tbody>\n",
       "</table>\n"
      ],
      "text/latex": [
       "\\begin{tabular}{r|ll}\n",
       " bioproject & file\\_path\\\\\n",
       "\\hline\n",
       "\t PRJEB11755                                                                                                       & /ebio/abt3\\_projects/Georg\\_animal\\_feces/data/metagenome/multi-study//SRA\\_runinfo/PRJEB11755\\_runinfo.csv\\\\\n",
       "\t PRJEB20308                                                                                                       & /ebio/abt3\\_projects/Georg\\_animal\\_feces/data/metagenome/multi-study//SRA\\_runinfo/PRJEB20308\\_runinfo.csv\\\\\n",
       "\t PRJEB21624                                                                                                       & /ebio/abt3\\_projects/Georg\\_animal\\_feces/data/metagenome/multi-study//SRA\\_runinfo/PRJEB21624\\_runinfo.csv\\\\\n",
       "\\end{tabular}\n"
      ],
      "text/markdown": [
       "\n",
       "bioproject | file_path | \n",
       "|---|---|---|\n",
       "| PRJEB11755                                                                                             | /ebio/abt3_projects/Georg_animal_feces/data/metagenome/multi-study//SRA_runinfo/PRJEB11755_runinfo.csv | \n",
       "| PRJEB20308                                                                                             | /ebio/abt3_projects/Georg_animal_feces/data/metagenome/multi-study//SRA_runinfo/PRJEB20308_runinfo.csv | \n",
       "| PRJEB21624                                                                                             | /ebio/abt3_projects/Georg_animal_feces/data/metagenome/multi-study//SRA_runinfo/PRJEB21624_runinfo.csv | \n",
       "\n",
       "\n"
      ],
      "text/plain": [
       "  bioproject\n",
       "1 PRJEB11755\n",
       "2 PRJEB20308\n",
       "3 PRJEB21624\n",
       "  file_path                                                                                             \n",
       "1 /ebio/abt3_projects/Georg_animal_feces/data/metagenome/multi-study//SRA_runinfo/PRJEB11755_runinfo.csv\n",
       "2 /ebio/abt3_projects/Georg_animal_feces/data/metagenome/multi-study//SRA_runinfo/PRJEB20308_runinfo.csv\n",
       "3 /ebio/abt3_projects/Georg_animal_feces/data/metagenome/multi-study//SRA_runinfo/PRJEB21624_runinfo.csv"
      ]
     },
     "metadata": {},
     "output_type": "display_data"
    }
   ],
   "source": [
    "# listing output\n",
    "sra_info_files = list.files(out_dir, '*_runinfo.csv', full.names=TRUE) \n",
    "sra_info_files = data.frame(bioproject = gsub('_runinfo.csv', '', basename(as.character(sra_info_files))),\n",
    "                            file_path = sra_info_files)\n",
    "sra_info_files %>% dfhead"
   ]
  },
  {
   "cell_type": "code",
   "execution_count": 8,
   "metadata": {
    "ExecuteTime": {
     "end_time": "2019-09-02T15:27:30.212111Z",
     "start_time": "2019-09-02T15:27:30.166Z"
    }
   },
   "outputs": [
    {
     "name": "stderr",
     "output_type": "stream",
     "text": [
      "Warning message:\n",
      "“Column `BioProject`/`bioproject` joining character vector and factor, coercing into character vector”"
     ]
    },
    {
     "data": {
      "text/html": [
       "<table>\n",
       "<thead><tr><th scope=col>Animal</th><th scope=col>First_author</th><th scope=col>Year</th><th scope=col>DOI</th><th scope=col>Sequencer</th><th scope=col>Read_length</th><th scope=col>BioProject</th><th scope=col>Paper_accession</th><th scope=col>Existing_MG_assembly</th><th scope=col>Comments</th></tr></thead>\n",
       "<tbody>\n",
       "</tbody>\n",
       "</table>\n"
      ],
      "text/latex": [
       "\\begin{tabular}{r|llllllllll}\n",
       " Animal & First\\_author & Year & DOI & Sequencer & Read\\_length & BioProject & Paper\\_accession & Existing\\_MG\\_assembly & Comments\\\\\n",
       "\\hline\n",
       "\\end{tabular}\n"
      ],
      "text/markdown": [
       "\n",
       "Animal | First_author | Year | DOI | Sequencer | Read_length | BioProject | Paper_accession | Existing_MG_assembly | Comments | \n",
       "||\n",
       "\n",
       "\n"
      ],
      "text/plain": [
       "     Animal First_author Year DOI Sequencer Read_length BioProject\n",
       "     Paper_accession Existing_MG_assembly Comments"
      ]
     },
     "metadata": {},
     "output_type": "display_data"
    }
   ],
   "source": [
    "# which (if any) are missing?\n",
    "metadata %>%\n",
    "    anti_join(sra_info_files, c('BioProject'='bioproject'))"
   ]
  },
  {
   "cell_type": "code",
   "execution_count": 9,
   "metadata": {
    "ExecuteTime": {
     "end_time": "2019-09-02T15:27:41.108499Z",
     "start_time": "2019-09-02T15:27:38.630Z"
    },
    "scrolled": false
   },
   "outputs": [
    {
     "name": "stderr",
     "output_type": "stream",
     "text": [
      "Warning message in as.Num(spots):\n",
      "“NAs introduced by coercion”Warning message in as.Num(bases):\n",
      "“NAs introduced by coercion”Warning message in as.Num(avgLength):\n",
      "“NAs introduced by coercion”Warning message in as.Num(size_MB):\n",
      "“NAs introduced by coercion”Warning message in as.Num(TaxID):\n",
      "“NAs introduced by coercion”Warning message in as.Num(spots):\n",
      "“NAs introduced by coercion”Warning message in as.Num(bases):\n",
      "“NAs introduced by coercion”Warning message in as.Num(avgLength):\n",
      "“NAs introduced by coercion”Warning message in as.Num(size_MB):\n",
      "“NAs introduced by coercion”Warning message in as.Num(TaxID):\n",
      "“NAs introduced by coercion”Warning message in as.Num(spots):\n",
      "“NAs introduced by coercion”Warning message in as.Num(bases):\n",
      "“NAs introduced by coercion”Warning message in as.Num(avgLength):\n",
      "“NAs introduced by coercion”Warning message in as.Num(size_MB):\n",
      "“NAs introduced by coercion”Warning message in as.Num(TaxID):\n",
      "“NAs introduced by coercion”Warning message in as.Num(spots):\n",
      "“NAs introduced by coercion”Warning message in as.Num(bases):\n",
      "“NAs introduced by coercion”Warning message in as.Num(avgLength):\n",
      "“NAs introduced by coercion”Warning message in as.Num(size_MB):\n",
      "“NAs introduced by coercion”Warning message in as.Num(TaxID):\n",
      "“NAs introduced by coercion”Warning message in as.Num(spots):\n",
      "“NAs introduced by coercion”Warning message in as.Num(bases):\n",
      "“NAs introduced by coercion”Warning message in as.Num(avgLength):\n",
      "“NAs introduced by coercion”Warning message in as.Num(size_MB):\n",
      "“NAs introduced by coercion”Warning message in as.Num(TaxID):\n",
      "“NAs introduced by coercion”Warning message in as.Num(spots):\n",
      "“NAs introduced by coercion”Warning message in as.Num(bases):\n",
      "“NAs introduced by coercion”Warning message in as.Num(avgLength):\n",
      "“NAs introduced by coercion”Warning message in as.Num(size_MB):\n",
      "“NAs introduced by coercion”Warning message in as.Num(TaxID):\n",
      "“NAs introduced by coercion”Warning message in as.Num(spots):\n",
      "“NAs introduced by coercion”Warning message in as.Num(bases):\n",
      "“NAs introduced by coercion”Warning message in as.Num(avgLength):\n",
      "“NAs introduced by coercion”Warning message in as.Num(size_MB):\n",
      "“NAs introduced by coercion”Warning message in as.Num(TaxID):\n",
      "“NAs introduced by coercion”Warning message in `[<-.factor`(`*tmp*`, ri, value = c(67182091L, 61959109L, 50499839L, :\n",
      "“invalid factor level, NA generated”Warning message in `[<-.factor`(`*tmp*`, ri, value = c(587L, 574L, 570L, 549L, 543L, :\n",
      "“invalid factor level, NA generated”Warning message in `[<-.factor`(`*tmp*`, ri, value = c(393957L, 393957L, 393957L, :\n",
      "“invalid factor level, NA generated”Warning message in `[<-.factor`(`*tmp*`, ri, value = c(35302992L, 0L, 0L, 33265432L, :\n",
      "“invalid factor level, NA generated”Warning message in `[<-.factor`(`*tmp*`, ri, value = c(434991L, 434991L, 434991L, :\n",
      "“invalid factor level, NA generated”Warning message in `[<-.factor`(`*tmp*`, ri, value = c(35910603L, 39171128L, 29452249L, :\n",
      "“invalid factor level, NA generated”Warning message in `[<-.factor`(`*tmp*`, ri, value = c(517307L, 517307L, 517307L, :\n",
      "“invalid factor level, NA generated”Warning message in `[<-.factor`(`*tmp*`, ri, value = c(3245792L, 3794750L, 3843198L, :\n",
      "“invalid factor level, NA generated”Warning message in `[<-.factor`(`*tmp*`, ri, value = c(254L, 254L, 254L, 254L, 254L, :\n",
      "“invalid factor level, NA generated”Warning message in `[<-.factor`(`*tmp*`, ri, value = c(522151L, 522151L, 522151L, :\n",
      "“invalid factor level, NA generated”Warning message in `[<-.factor`(`*tmp*`, ri, value = c(298982L, 298982L, 298982L, :\n",
      "“invalid factor level, NA generated”Warning message in `[<-.factor`(`*tmp*`, ri, value = c(4032329L, 1248883L, 1210106L, :\n",
      "“invalid factor level, NA generated”Warning message in `[<-.factor`(`*tmp*`, ri, value = c(336354L, 336354L, 336354L, :\n",
      "“invalid factor level, NA generated”Warning message in `[<-.factor`(`*tmp*`, ri, value = c(3148699L, 1506091L, 1442568L, :\n",
      "“invalid factor level, NA generated”Warning message in `[<-.factor`(`*tmp*`, ri, value = c(250L, 250L, 250L, 250L, 250L, :\n",
      "“invalid factor level, NA generated”Warning message in `[<-.factor`(`*tmp*`, ri, value = c(58L, 64L, 90L, 50L, 49L, :\n",
      "“invalid factor level, NA generated”Warning message in `[<-.factor`(`*tmp*`, ri, value = c(381379L, 381379L, 381379L, :\n",
      "“invalid factor level, NA generated”Warning message in `[<-.factor`(`*tmp*`, ri, value = c(430956L, 430956L, 430956L, :\n",
      "“invalid factor level, NA generated”Warning message in `[<-.factor`(`*tmp*`, ri, value = c(35402986L, 7060234L, 37204338L:\n",
      "“invalid factor level, NA generated”Warning message in `[<-.factor`(`*tmp*`, ri, value = c(494387L, 494387L, 494387L:\n",
      "“invalid factor level, NA generated”Warning message in `[<-.factor`(`*tmp*`, ri, value = c(2257523L, 18876752L, 11090304L, :\n",
      "“invalid factor level, NA generated”Warning message in `[<-.factor`(`*tmp*`, ri, value = c(532626L, 532626L, 532626L, :\n",
      "“invalid factor level, NA generated”Warning message in `[<-.factor`(`*tmp*`, ri, value = c(23097738L, 21574311L)):\n",
      "“invalid factor level, NA generated”Warning message in `[<-.factor`(`*tmp*`, ri, value = c(316570L, 316570L)):\n",
      "“invalid factor level, NA generated”Warning message in `[<-.factor`(`*tmp*`, ri, value = c(18598811L, 23166221L)):\n",
      "“invalid factor level, NA generated”Warning message in `[<-.factor`(`*tmp*`, ri, value = c(316560L, 316560L)):\n",
      "“invalid factor level, NA generated”Warning message in `[<-.factor`(`*tmp*`, ri, value = c(0L, 0L, 0L, 33530461L, 0L:\n",
      "“invalid factor level, NA generated”Warning message in `[<-.factor`(`*tmp*`, ri, value = c(353155L, 353155L, 353155L, :\n",
      "“invalid factor level, NA generated”Warning message in `[<-.factor`(`*tmp*`, ri, value = c(37451335L, 33827888L, 43403855L:\n",
      "“invalid factor level, NA generated”Warning message in `[<-.factor`(`*tmp*`, ri, value = c(413828L, 413828L, 413828L:\n",
      "“invalid factor level, NA generated”Warning message in `[<-.factor`(`*tmp*`, ri, value = c(24216055L, 23833983L, 23619748L:\n",
      "“invalid factor level, NA generated”Warning message in `[<-.factor`(`*tmp*`, ri, value = c(476660L, 476660L, 476660L:\n",
      "“invalid factor level, NA generated”"
     ]
    },
    {
     "name": "stdout",
     "output_type": "stream",
     "text": [
      "[1] 5165   48\n"
     ]
    },
    {
     "data": {
      "text/html": [
       "<table>\n",
       "<thead><tr><th scope=col>Run</th><th scope=col>ReleaseDate</th><th scope=col>LoadDate</th><th scope=col>spots</th><th scope=col>bases</th><th scope=col>spots_with_mates</th><th scope=col>avgLength</th><th scope=col>size_MB</th><th scope=col>AssemblyName</th><th scope=col>download_path</th><th scope=col>⋯</th><th scope=col>Analyte_Type</th><th scope=col>Histological_Type</th><th scope=col>Body_Site</th><th scope=col>CenterName</th><th scope=col>Submission</th><th scope=col>dbgap_study_accession</th><th scope=col>Consent</th><th scope=col>RunHash</th><th scope=col>ReadHash</th><th scope=col>bioproject</th></tr></thead>\n",
       "<tbody>\n",
       "\t<tr><td>ERR1135708                                                                     </td><td>2016-01-12 18:11:38                                                            </td><td>2016-01-13 00:12:58                                                            </td><td>552682                                                                         </td><td>46362077                                                                       </td><td>0                                                                              </td><td>83                                                                             </td><td>46                                                                             </td><td>                                                                               </td><td>https://sra-download.ncbi.nlm.nih.gov/sos/sra-pub-run-1/ERR1135708/ERR1135708.1</td><td>⋯                                                                              </td><td>                                                                               </td><td>                                                                               </td><td>                                                                               </td><td>BEIJING GENOME INSTITUTE                                                       </td><td>ERA534579                                                                      </td><td>                                                                               </td><td>public                                                                         </td><td>C5BC3A93A1DC280CEB0A8BDFFF58332E                                               </td><td>A22BDE2CF5CD3D8502AE1236F686749F                                               </td><td>PRJEB11755                                                                     </td></tr>\n",
       "\t<tr><td>ERR1135709                                                                     </td><td>2016-01-12 18:11:38                                                            </td><td>2016-01-13 00:12:55                                                            </td><td>262159                                                                         </td><td>24065603                                                                       </td><td>0                                                                              </td><td>91                                                                             </td><td>21                                                                             </td><td>                                                                               </td><td>https://sra-download.ncbi.nlm.nih.gov/sos/sra-pub-run-1/ERR1135709/ERR1135709.1</td><td>⋯                                                                              </td><td>                                                                               </td><td>                                                                               </td><td>                                                                               </td><td>BEIJING GENOME INSTITUTE                                                       </td><td>ERA534579                                                                      </td><td>                                                                               </td><td>public                                                                         </td><td>6DF3AE70D375B79C8740DE713B45C18D                                               </td><td>32BDA5FD3D72A1C94A349ABD9A0B8F82                                               </td><td>PRJEB11755                                                                     </td></tr>\n",
       "\t<tr><td>ERR1135710                                                                     </td><td>2016-01-12 18:11:38                                                            </td><td>2016-01-13 00:12:56                                                            </td><td>664337                                                                         </td><td>63496249                                                                       </td><td>0                                                                              </td><td>95                                                                             </td><td>54                                                                             </td><td>                                                                               </td><td>https://sra-download.ncbi.nlm.nih.gov/sos/sra-pub-run-1/ERR1135710/ERR1135710.1</td><td>⋯                                                                              </td><td>                                                                               </td><td>                                                                               </td><td>                                                                               </td><td>BEIJING GENOME INSTITUTE                                                       </td><td>ERA534579                                                                      </td><td>                                                                               </td><td>public                                                                         </td><td>6186371F3279E2333CA54DA4AEF89C30                                               </td><td>32429791E7D054DF7567F2571CAC9762                                               </td><td>PRJEB11755                                                                     </td></tr>\n",
       "</tbody>\n",
       "</table>\n"
      ],
      "text/latex": [
       "\\begin{tabular}{r|llllllllllllllllllllllllllllllllllllllllllllllll}\n",
       " Run & ReleaseDate & LoadDate & spots & bases & spots\\_with\\_mates & avgLength & size\\_MB & AssemblyName & download\\_path & ⋯ & Analyte\\_Type & Histological\\_Type & Body\\_Site & CenterName & Submission & dbgap\\_study\\_accession & Consent & RunHash & ReadHash & bioproject\\\\\n",
       "\\hline\n",
       "\t ERR1135708                                                                      & 2016-01-12 18:11:38                                                             & 2016-01-13 00:12:58                                                             & 552682                                                                          & 46362077                                                                        & 0                                                                               & 83                                                                              & 46                                                                              &                                                                                 & https://sra-download.ncbi.nlm.nih.gov/sos/sra-pub-run-1/ERR1135708/ERR1135708.1 & ⋯                                                                               &                                                                                 &                                                                                 &                                                                                 & BEIJING GENOME INSTITUTE                                                        & ERA534579                                                                       &                                                                                 & public                                                                          & C5BC3A93A1DC280CEB0A8BDFFF58332E                                                & A22BDE2CF5CD3D8502AE1236F686749F                                                & PRJEB11755                                                                     \\\\\n",
       "\t ERR1135709                                                                      & 2016-01-12 18:11:38                                                             & 2016-01-13 00:12:55                                                             & 262159                                                                          & 24065603                                                                        & 0                                                                               & 91                                                                              & 21                                                                              &                                                                                 & https://sra-download.ncbi.nlm.nih.gov/sos/sra-pub-run-1/ERR1135709/ERR1135709.1 & ⋯                                                                               &                                                                                 &                                                                                 &                                                                                 & BEIJING GENOME INSTITUTE                                                        & ERA534579                                                                       &                                                                                 & public                                                                          & 6DF3AE70D375B79C8740DE713B45C18D                                                & 32BDA5FD3D72A1C94A349ABD9A0B8F82                                                & PRJEB11755                                                                     \\\\\n",
       "\t ERR1135710                                                                      & 2016-01-12 18:11:38                                                             & 2016-01-13 00:12:56                                                             & 664337                                                                          & 63496249                                                                        & 0                                                                               & 95                                                                              & 54                                                                              &                                                                                 & https://sra-download.ncbi.nlm.nih.gov/sos/sra-pub-run-1/ERR1135710/ERR1135710.1 & ⋯                                                                               &                                                                                 &                                                                                 &                                                                                 & BEIJING GENOME INSTITUTE                                                        & ERA534579                                                                       &                                                                                 & public                                                                          & 6186371F3279E2333CA54DA4AEF89C30                                                & 32429791E7D054DF7567F2571CAC9762                                                & PRJEB11755                                                                     \\\\\n",
       "\\end{tabular}\n"
      ],
      "text/markdown": [
       "\n",
       "Run | ReleaseDate | LoadDate | spots | bases | spots_with_mates | avgLength | size_MB | AssemblyName | download_path | ⋯ | Analyte_Type | Histological_Type | Body_Site | CenterName | Submission | dbgap_study_accession | Consent | RunHash | ReadHash | bioproject | \n",
       "|---|---|---|\n",
       "| ERR1135708                                                                      | 2016-01-12 18:11:38                                                             | 2016-01-13 00:12:58                                                             | 552682                                                                          | 46362077                                                                        | 0                                                                               | 83                                                                              | 46                                                                              |                                                                                 | https://sra-download.ncbi.nlm.nih.gov/sos/sra-pub-run-1/ERR1135708/ERR1135708.1 | ⋯                                                                               |                                                                                 |                                                                                 |                                                                                 | BEIJING GENOME INSTITUTE                                                        | ERA534579                                                                       |                                                                                 | public                                                                          | C5BC3A93A1DC280CEB0A8BDFFF58332E                                                | A22BDE2CF5CD3D8502AE1236F686749F                                                | PRJEB11755                                                                      | \n",
       "| ERR1135709                                                                      | 2016-01-12 18:11:38                                                             | 2016-01-13 00:12:55                                                             | 262159                                                                          | 24065603                                                                        | 0                                                                               | 91                                                                              | 21                                                                              |                                                                                 | https://sra-download.ncbi.nlm.nih.gov/sos/sra-pub-run-1/ERR1135709/ERR1135709.1 | ⋯                                                                               |                                                                                 |                                                                                 |                                                                                 | BEIJING GENOME INSTITUTE                                                        | ERA534579                                                                       |                                                                                 | public                                                                          | 6DF3AE70D375B79C8740DE713B45C18D                                                | 32BDA5FD3D72A1C94A349ABD9A0B8F82                                                | PRJEB11755                                                                      | \n",
       "| ERR1135710                                                                      | 2016-01-12 18:11:38                                                             | 2016-01-13 00:12:56                                                             | 664337                                                                          | 63496249                                                                        | 0                                                                               | 95                                                                              | 54                                                                              |                                                                                 | https://sra-download.ncbi.nlm.nih.gov/sos/sra-pub-run-1/ERR1135710/ERR1135710.1 | ⋯                                                                               |                                                                                 |                                                                                 |                                                                                 | BEIJING GENOME INSTITUTE                                                        | ERA534579                                                                       |                                                                                 | public                                                                          | 6186371F3279E2333CA54DA4AEF89C30                                                | 32429791E7D054DF7567F2571CAC9762                                                | PRJEB11755                                                                      | \n",
       "\n",
       "\n"
      ],
      "text/plain": [
       "  Run        ReleaseDate         LoadDate            spots  bases   \n",
       "1 ERR1135708 2016-01-12 18:11:38 2016-01-13 00:12:58 552682 46362077\n",
       "2 ERR1135709 2016-01-12 18:11:38 2016-01-13 00:12:55 262159 24065603\n",
       "3 ERR1135710 2016-01-12 18:11:38 2016-01-13 00:12:56 664337 63496249\n",
       "  spots_with_mates avgLength size_MB AssemblyName\n",
       "1 0                83        46                  \n",
       "2 0                91        21                  \n",
       "3 0                95        54                  \n",
       "  download_path                                                                  \n",
       "1 https://sra-download.ncbi.nlm.nih.gov/sos/sra-pub-run-1/ERR1135708/ERR1135708.1\n",
       "2 https://sra-download.ncbi.nlm.nih.gov/sos/sra-pub-run-1/ERR1135709/ERR1135709.1\n",
       "3 https://sra-download.ncbi.nlm.nih.gov/sos/sra-pub-run-1/ERR1135710/ERR1135710.1\n",
       "  ⋯ Analyte_Type Histological_Type Body_Site CenterName              \n",
       "1 ⋯                                          BEIJING GENOME INSTITUTE\n",
       "2 ⋯                                          BEIJING GENOME INSTITUTE\n",
       "3 ⋯                                          BEIJING GENOME INSTITUTE\n",
       "  Submission dbgap_study_accession Consent RunHash                         \n",
       "1 ERA534579                        public  C5BC3A93A1DC280CEB0A8BDFFF58332E\n",
       "2 ERA534579                        public  6DF3AE70D375B79C8740DE713B45C18D\n",
       "3 ERA534579                        public  6186371F3279E2333CA54DA4AEF89C30\n",
       "  ReadHash                         bioproject\n",
       "1 A22BDE2CF5CD3D8502AE1236F686749F PRJEB11755\n",
       "2 32BDA5FD3D72A1C94A349ABD9A0B8F82 PRJEB11755\n",
       "3 32429791E7D054DF7567F2571CAC9762 PRJEB11755"
      ]
     },
     "metadata": {},
     "output_type": "display_data"
    }
   ],
   "source": [
    "# loading the runinfo\n",
    "sra_runinfo = list()\n",
    "for(F in sra_info_files$file_path){\n",
    "    z = file.info(F)\n",
    "    if(!is.na(z$size) && z$size > 20){\n",
    "        X = read.delim(F, sep=',') %>%\n",
    "            mutate(spots = as.Num(spots),\n",
    "                   bases = as.Num(bases),\n",
    "                   avgLength = as.Num(avgLength),\n",
    "                   size_MB = as.Num(size_MB),\n",
    "                   TaxID = as.Num(TaxID))\n",
    "        X$bioproject = gsub('_runinfo.csv', '', basename(F))\n",
    "        sra_runinfo[[F]] = X\n",
    "    }\n",
    "}\n",
    "\n",
    "sra_runinfo = do.call(rbind, sra_runinfo) \n",
    "rownames(sra_runinfo) = 1:nrow(sra_runinfo)\n",
    "sra_runinfo %>% dfhead"
   ]
  },
  {
   "cell_type": "code",
   "execution_count": 10,
   "metadata": {
    "ExecuteTime": {
     "end_time": "2019-09-02T15:27:48.106076Z",
     "start_time": "2019-09-02T15:27:48.027Z"
    }
   },
   "outputs": [
    {
     "data": {
      "text/plain": [
       "         Run           spots               bases             avgLength    \n",
       " Run       :  31   Min.   :     7743   Min.   :2.562e+06   Min.   : 78.0  \n",
       " ERR1135178:   1   1st Qu.:  1844846   1st Qu.:4.618e+08   1st Qu.:250.0  \n",
       " ERR1135179:   1   Median :  2341110   Median :5.889e+08   Median :250.0  \n",
       " ERR1135180:   1   Mean   :  6461598   Mean   :1.495e+09   Mean   :249.1  \n",
       " ERR1135181:   1   3rd Qu.:  3833893   3rd Qu.:9.499e+08   3rd Qu.:252.0  \n",
       " ERR1135182:   1   Max.   :159524720   Max.   :4.818e+10   Max.   :502.0  \n",
       " (Other)   :5129   NA's   :31          NA's   :31          NA's   :31     \n",
       "    size_MB             LibraryStrategy       LibraryLayout         Platform   \n",
       " Min.   :    1   LibraryStrategy:  31   LibraryLayout:  31   ILLUMINA   :5127  \n",
       " 1st Qu.:  175   WGS            :4496   PAIRED       :4555   Platform   :  31  \n",
       " Median :  233   Hi-C           :   2   SINGLE       : 579   LS454      :   3  \n",
       " Mean   :  757   OTHER          : 309                        ION_TORRENT:   4  \n",
       " 3rd Qu.:  375   AMPLICON       : 327                                          \n",
       " Max.   :21009                                                                 \n",
       " NA's   :31                                                                    \n",
       "                 Model          TaxID                          ScientificName\n",
       " Illumina HiSeq 2500:3403   Min.   :    564   bacterium               :3000  \n",
       " Illumina HiSeq 2000: 745   1st Qu.: 749906   pig gut metagenome      : 590  \n",
       " Illumina MiSeq     : 485   Median :1869227   chicken gut metagenome  : 495  \n",
       " HiSeq X Ten        : 377   Mean   :1442062   gut metagenome          : 419  \n",
       " NextSeq 500        :  65   3rd Qu.:1869227   mouse gut metagenome    : 270  \n",
       " Illumina HiSeq 4000:  49   Max.   :1869227   Cebus capucinus imitator: 105  \n",
       " (Other)            :  41   NA's   :31        (Other)                 : 286  "
      ]
     },
     "metadata": {},
     "output_type": "display_data"
    }
   ],
   "source": [
    "# summary\n",
    "sra_runinfo %>%\n",
    "    dplyr::select(Run, spots, bases, avgLength, size_MB, LibraryStrategy,\n",
    "                  LibraryLayout, Platform, Model, TaxID, ScientificName) %>%\n",
    "    summary"
   ]
  },
  {
   "cell_type": "code",
   "execution_count": 11,
   "metadata": {
    "ExecuteTime": {
     "end_time": "2019-09-02T15:27:53.914278Z",
     "start_time": "2019-09-02T15:27:53.824Z"
    }
   },
   "outputs": [
    {
     "name": "stdout",
     "output_type": "stream",
     "text": [
      "[1] 4191\n",
      "[1] 18\n"
     ]
    },
    {
     "data": {
      "text/plain": [
       "         Run           spots               bases             avgLength    \n",
       " ERR1135178:   1   Min.   :  1050368   Min.   :2.441e+08   Min.   :149.0  \n",
       " ERR1135179:   1   1st Qu.:  2069504   1st Qu.:5.181e+08   1st Qu.:250.0  \n",
       " ERR1135180:   1   Median :  2551640   Median :6.408e+08   Median :250.0  \n",
       " ERR1135181:   1   Mean   :  7572400   Mean   :1.772e+09   Mean   :248.1  \n",
       " ERR1135182:   1   3rd Qu.:  4561800   3rd Qu.:1.159e+09   3rd Qu.:252.0  \n",
       " ERR1135183:   1   Max.   :159524720   Max.   :4.818e+10   Max.   :502.0  \n",
       " (Other)   :4185                                                          \n",
       "    size_MB               LibraryStrategy       LibraryLayout \n",
       " Min.   :  109.0   LibraryStrategy:   0   LibraryLayout:   0  \n",
       " 1st Qu.:  199.0   WGS            :4131   PAIRED       :4191  \n",
       " Median :  255.0   Hi-C           :   0   SINGLE       :   0  \n",
       " Mean   :  897.7   OTHER          :  60                       \n",
       " 3rd Qu.:  464.5   AMPLICON       :   0                       \n",
       " Max.   :21009.0                                              \n",
       "                                                              \n",
       "        Platform                    Model          TaxID        \n",
       " ILLUMINA   :4191   Illumina HiSeq 2500:3307   Min.   :   8049  \n",
       " Platform   :   0   Illumina HiSeq 2000: 418   1st Qu.:1510822  \n",
       " LS454      :   0   HiSeq X Ten        : 346   Median :1869227  \n",
       " ION_TORRENT:   0   NextSeq 500        :  65   Mean   :1543588  \n",
       "                    Illumina HiSeq 4000:  46   3rd Qu.:1869227  \n",
       "                    Illumina MiSeq     :   6   Max.   :1869227  \n",
       "                    (Other)            :   3                    \n",
       "                ScientificName\n",
       " bacterium             :3000  \n",
       " chicken gut metagenome: 465  \n",
       " pig gut metagenome    : 295  \n",
       " gut metagenome        : 141  \n",
       " Felis catus           :  88  \n",
       " Gadus morhua          :  57  \n",
       " (Other)               : 145  "
      ]
     },
     "metadata": {},
     "output_type": "display_data"
    }
   ],
   "source": [
    "# filtering\n",
    "sra_runinfo_f = sra_runinfo %>%\n",
    "    filter(spots > 1e6,\n",
    "           avgLength >= 100,\n",
    "           ! LibraryStrategy %in% c('Hi-C', 'AMPLICON'),\n",
    "           LibraryLayout == 'PAIRED',\n",
    "           ! Platform %in% c('ION_TORRENT'),\n",
    "           ! TaxID %in% c(564, 315405, 1263854))\n",
    "\n",
    "sra_runinfo_f %>% nrow %>% print\n",
    "sra_runinfo_f$bioproject %>% unique %>% length %>% print\n",
    "\n",
    "sra_runinfo_f %>%\n",
    "    dplyr::select(Run, spots, bases, avgLength, size_MB, LibraryStrategy,\n",
    "                  LibraryLayout, Platform, Model, TaxID, ScientificName) %>%\n",
    "    summary           "
   ]
  },
  {
   "cell_type": "markdown",
   "metadata": {},
   "source": [
    "# Get sample metadata\n",
    "\n",
    "* For each sample, get NCBI biosample data\n",
    "* Using entrez + xml formatting script:\n",
    "\n",
    "```\n",
    "esearch -db sra -query <Sample> | elink -target biosample | efetch -format xml | cat | ./ncbi_biosample_info.py -\n",
    "```"
   ]
  },
  {
   "cell_type": "code",
   "execution_count": 15,
   "metadata": {
    "ExecuteTime": {
     "end_time": "2019-09-02T15:28:32.808682Z",
     "start_time": "2019-09-02T15:28:32.780Z"
    }
   },
   "outputs": [],
   "source": [
    "# creating commands\n",
    "make_cmd = function(Sample, out_dir){\n",
    "    exe = '/ebio/abt3_projects/Georg_animal_feces/data/metagenome/multi-study/ncbi_biosample_info.py'\n",
    "    out_dir = file.path(out_dir, Sample)\n",
    "    make_dir(out_dir, quiet=TRUE)\n",
    "    out_file = file.path(out_dir,'biosample_info.tsv')\n",
    "    cmd = 'esearch -db sra -query {Sample} | elink -target biosample | efetch -format xml | cat | {exe} - {out_file}'\n",
    "    cmd = glue::glue(cmd, Sample = Sample, exe = exe, out_file = out_file)\n",
    "    return(cmd)\n",
    "}"
   ]
  },
  {
   "cell_type": "code",
   "execution_count": 16,
   "metadata": {
    "ExecuteTime": {
     "end_time": "2019-09-02T15:28:34.621257Z",
     "start_time": "2019-09-02T15:28:33.307Z"
    }
   },
   "outputs": [
    {
     "name": "stdout",
     "output_type": "stream",
     "text": [
      "Directory already exists: /ebio/abt3_projects/Georg_animal_feces/data/metagenome/multi-study//SRA_biosample_info \n",
      "[1] 1219\n"
     ]
    },
    {
     "data": {
      "text/html": [
       "'esearch -db sra -query ERS970444 | elink -target biosample | efetch -format xml | cat | /ebio/abt3_projects/Georg_animal_feces/data/metagenome/multi-study/ncbi_biosample_info.py - /ebio/abt3_projects/Georg_animal_feces/data/metagenome/multi-study//SRA_biosample_info/ERS970444/biosample_info.tsv'"
      ],
      "text/latex": [
       "'esearch -db sra -query ERS970444 \\textbar{} elink -target biosample \\textbar{} efetch -format xml \\textbar{} cat \\textbar{} /ebio/abt3\\_projects/Georg\\_animal\\_feces/data/metagenome/multi-study/ncbi\\_biosample\\_info.py - /ebio/abt3\\_projects/Georg\\_animal\\_feces/data/metagenome/multi-study//SRA\\_biosample\\_info/ERS970444/biosample\\_info.tsv'"
      ],
      "text/markdown": [
       "'esearch -db sra -query ERS970444 | elink -target biosample | efetch -format xml | cat | /ebio/abt3_projects/Georg_animal_feces/data/metagenome/multi-study/ncbi_biosample_info.py - /ebio/abt3_projects/Georg_animal_feces/data/metagenome/multi-study//SRA_biosample_info/ERS970444/biosample_info.tsv'"
      ],
      "text/plain": [
       "esearch -db sra -query ERS970444 | elink -target biosample | efetch -format xml | cat | /ebio/abt3_projects/Georg_animal_feces/data/metagenome/multi-study/ncbi_biosample_info.py - /ebio/abt3_projects/Georg_animal_feces/data/metagenome/multi-study//SRA_biosample_info/ERS970444/biosample_info.tsv"
      ]
     },
     "metadata": {},
     "output_type": "display_data"
    }
   ],
   "source": [
    "out_dir = file.path(work_dir, 'SRA_biosample_info')\n",
    "make_dir(out_dir)\n",
    "\n",
    "X = sra_runinfo_f$Sample %>% unique %>% as.list\n",
    "cmds = lapply(X, make_cmd, out_dir=out_dir)\n",
    "cmds %>% length %>% print\n",
    "cmds[[1]]"
   ]
  },
  {
   "cell_type": "code",
   "execution_count": null,
   "metadata": {
    "ExecuteTime": {
     "start_time": "2019-09-02T15:28:37.762Z"
    }
   },
   "outputs": [],
   "source": [
    "conda_env = 'py3_genome'\n",
    "ret = lapply(cmds, function(x) bash_job(x, conda_env=conda_env))"
   ]
  },
  {
   "cell_type": "markdown",
   "metadata": {},
   "source": [
    "**Note:** I re-ran those failed commands 'manually' on the command line"
   ]
  },
  {
   "cell_type": "code",
   "execution_count": 20,
   "metadata": {
    "ExecuteTime": {
     "end_time": "2019-09-02T18:03:25.518907Z",
     "start_time": "2019-09-02T18:03:25.027Z"
    }
   },
   "outputs": [
    {
     "name": "stdout",
     "output_type": "stream",
     "text": [
      "[1] 1218\n"
     ]
    }
   ],
   "source": [
    "# list output files\n",
    "biosample_info_files = list.files(out_dir, 'biosample_info.tsv', full.names=TRUE, recursive=TRUE)\n",
    "biosample_info_files %>% length %>% print"
   ]
  },
  {
   "cell_type": "code",
   "execution_count": 21,
   "metadata": {
    "ExecuteTime": {
     "end_time": "2019-09-02T18:03:44.062103Z",
     "start_time": "2019-09-02T18:03:30.683Z"
    }
   },
   "outputs": [
    {
     "name": "stdout",
     "output_type": "stream",
     "text": [
      "[1] 81848     4\n"
     ]
    },
    {
     "data": {
      "text/html": [
       "<table>\n",
       "<thead><tr><th scope=col>Sample</th><th scope=col>BioSample</th><th scope=col>Tag</th><th scope=col>Attribute</th></tr></thead>\n",
       "<tbody>\n",
       "\t<tr><td>ERS1646961    </td><td>SAMEA103957793</td><td>BioSample     </td><td>              </td></tr>\n",
       "\t<tr><td>ERS1646961    </td><td>SAMEA103957793</td><td>Ids           </td><td>              </td></tr>\n",
       "\t<tr><td>ERS1646961    </td><td>SAMEA103957793</td><td>Description   </td><td>              </td></tr>\n",
       "</tbody>\n",
       "</table>\n"
      ],
      "text/latex": [
       "\\begin{tabular}{r|llll}\n",
       " Sample & BioSample & Tag & Attribute\\\\\n",
       "\\hline\n",
       "\t ERS1646961     & SAMEA103957793 & BioSample      &               \\\\\n",
       "\t ERS1646961     & SAMEA103957793 & Ids            &               \\\\\n",
       "\t ERS1646961     & SAMEA103957793 & Description    &               \\\\\n",
       "\\end{tabular}\n"
      ],
      "text/markdown": [
       "\n",
       "Sample | BioSample | Tag | Attribute | \n",
       "|---|---|---|\n",
       "| ERS1646961     | SAMEA103957793 | BioSample      |                | \n",
       "| ERS1646961     | SAMEA103957793 | Ids            |                | \n",
       "| ERS1646961     | SAMEA103957793 | Description    |                | \n",
       "\n",
       "\n"
      ],
      "text/plain": [
       "  Sample     BioSample      Tag         Attribute\n",
       "1 ERS1646961 SAMEA103957793 BioSample            \n",
       "2 ERS1646961 SAMEA103957793 Ids                  \n",
       "3 ERS1646961 SAMEA103957793 Description          "
      ]
     },
     "metadata": {},
     "output_type": "display_data"
    }
   ],
   "source": [
    "# combining output\n",
    "biosample_info = list()\n",
    "for(F in biosample_info_files){\n",
    "    df = read.delim(F, sep='\\t', header=FALSE)\n",
    "    colnames(df) = c('Sample', 'BioSample', 'Tag', 'Attribute')\n",
    "    biosample_info[[F]] = df\n",
    "}\n",
    "\n",
    "biosample_info = do.call(rbind, biosample_info)\n",
    "rownames(biosample_info) = 1:nrow(biosample_info)\n",
    "biosample_info %>% dfhead"
   ]
  },
  {
   "cell_type": "code",
   "execution_count": 22,
   "metadata": {
    "ExecuteTime": {
     "end_time": "2019-09-02T18:03:44.138458Z",
     "start_time": "2019-09-02T18:03:38.171Z"
    }
   },
   "outputs": [
    {
     "name": "stdout",
     "output_type": "stream",
     "text": [
      "[1] 1\n",
      "[1] 0\n"
     ]
    }
   ],
   "source": [
    "# checking that all samples are present in bioinfo table\n",
    "setdiff(sra_runinfo_f$Sample, biosample_info$Sample) %>% length %>% print\n",
    "setdiff(biosample_info$Sample, sra_runinfo_f$Sample) %>% length %>% print"
   ]
  },
  {
   "cell_type": "markdown",
   "metadata": {},
   "source": [
    "# Dataset summary"
   ]
  },
  {
   "cell_type": "code",
   "execution_count": 23,
   "metadata": {
    "ExecuteTime": {
     "end_time": "2019-09-02T18:03:51.415893Z",
     "start_time": "2019-09-02T18:03:51.210Z"
    }
   },
   "outputs": [
    {
     "name": "stderr",
     "output_type": "stream",
     "text": [
      "Warning message:\n",
      "“Column `Sample` joining factors with different levels, coercing to character vector”Warning message:\n",
      "“Column `BioSample` joining factors with different levels, coercing to character vector”"
     ]
    },
    {
     "name": "stdout",
     "output_type": "stream",
     "text": [
      "[1] 4190   25\n"
     ]
    },
    {
     "data": {
      "text/html": [
       "<table>\n",
       "<thead><tr><th scope=col>Sample</th><th scope=col>BioSample</th><th scope=col>Alias</th><th scope=col>collection_date</th><th scope=col>env_biome</th><th scope=col>env_material</th><th scope=col>host</th><th scope=col>Id</th><th scope=col>Id__2</th><th scope=col>Name</th><th scope=col>⋯</th><th scope=col>spots</th><th scope=col>bases</th><th scope=col>avgLength</th><th scope=col>size_MB</th><th scope=col>LibraryStrategy</th><th scope=col>LibraryLayout</th><th scope=col>Platform</th><th scope=col>Model</th><th scope=col>TaxID</th><th scope=col>ScientificName</th></tr></thead>\n",
       "<tbody>\n",
       "\t<tr><td>ERS1646961            </td><td>SAMEA103957793        </td><td>Sample_58             </td><td>2014                  </td><td>gut                   </td><td>feces                 </td><td>Canis lupus familiaris</td><td>SAMEA103957793        </td><td>ERS1646961            </td><td>EBI                   </td><td>⋯                     </td><td>3638228               </td><td>909557000             </td><td>250                   </td><td>322                   </td><td>WGS                   </td><td>PAIRED                </td><td>ILLUMINA              </td><td>Illumina HiSeq 2500   </td><td>749906                </td><td>gut metagenome        </td></tr>\n",
       "\t<tr><td>ERS1646961            </td><td>SAMEA103957793        </td><td>Sample_58             </td><td>2014                  </td><td>gut                   </td><td>feces                 </td><td>Canis lupus familiaris</td><td>SAMEA103957793        </td><td>ERS1646961            </td><td>EBI                   </td><td>⋯                     </td><td>3615718               </td><td>903929500             </td><td>250                   </td><td>320                   </td><td>WGS                   </td><td>PAIRED                </td><td>ILLUMINA              </td><td>Illumina HiSeq 2500   </td><td>749906                </td><td>gut metagenome        </td></tr>\n",
       "\t<tr><td>ERS1646961            </td><td>SAMEA103957793        </td><td>Sample_58             </td><td>2014                  </td><td>gut                   </td><td>feces                 </td><td>Canis lupus familiaris</td><td>SAMEA103957793        </td><td>ERS1646961            </td><td>EBI                   </td><td>⋯                     </td><td>3579352               </td><td>894838000             </td><td>250                   </td><td>315                   </td><td>WGS                   </td><td>PAIRED                </td><td>ILLUMINA              </td><td>Illumina HiSeq 2500   </td><td>749906                </td><td>gut metagenome        </td></tr>\n",
       "</tbody>\n",
       "</table>\n"
      ],
      "text/latex": [
       "\\begin{tabular}{r|lllllllllllllllllllllllll}\n",
       " Sample & BioSample & Alias & collection\\_date & env\\_biome & env\\_material & host & Id & Id\\_\\_2 & Name & ⋯ & spots & bases & avgLength & size\\_MB & LibraryStrategy & LibraryLayout & Platform & Model & TaxID & ScientificName\\\\\n",
       "\\hline\n",
       "\t ERS1646961             & SAMEA103957793         & Sample\\_58            & 2014                   & gut                    & feces                  & Canis lupus familiaris & SAMEA103957793         & ERS1646961             & EBI                    & ⋯                      & 3638228                & 909557000              & 250                    & 322                    & WGS                    & PAIRED                 & ILLUMINA               & Illumina HiSeq 2500    & 749906                 & gut metagenome        \\\\\n",
       "\t ERS1646961             & SAMEA103957793         & Sample\\_58            & 2014                   & gut                    & feces                  & Canis lupus familiaris & SAMEA103957793         & ERS1646961             & EBI                    & ⋯                      & 3615718                & 903929500              & 250                    & 320                    & WGS                    & PAIRED                 & ILLUMINA               & Illumina HiSeq 2500    & 749906                 & gut metagenome        \\\\\n",
       "\t ERS1646961             & SAMEA103957793         & Sample\\_58            & 2014                   & gut                    & feces                  & Canis lupus familiaris & SAMEA103957793         & ERS1646961             & EBI                    & ⋯                      & 3579352                & 894838000              & 250                    & 315                    & WGS                    & PAIRED                 & ILLUMINA               & Illumina HiSeq 2500    & 749906                 & gut metagenome        \\\\\n",
       "\\end{tabular}\n"
      ],
      "text/markdown": [
       "\n",
       "Sample | BioSample | Alias | collection_date | env_biome | env_material | host | Id | Id__2 | Name | ⋯ | spots | bases | avgLength | size_MB | LibraryStrategy | LibraryLayout | Platform | Model | TaxID | ScientificName | \n",
       "|---|---|---|\n",
       "| ERS1646961             | SAMEA103957793         | Sample_58              | 2014                   | gut                    | feces                  | Canis lupus familiaris | SAMEA103957793         | ERS1646961             | EBI                    | ⋯                      | 3638228                | 909557000              | 250                    | 322                    | WGS                    | PAIRED                 | ILLUMINA               | Illumina HiSeq 2500    | 749906                 | gut metagenome         | \n",
       "| ERS1646961             | SAMEA103957793         | Sample_58              | 2014                   | gut                    | feces                  | Canis lupus familiaris | SAMEA103957793         | ERS1646961             | EBI                    | ⋯                      | 3615718                | 903929500              | 250                    | 320                    | WGS                    | PAIRED                 | ILLUMINA               | Illumina HiSeq 2500    | 749906                 | gut metagenome         | \n",
       "| ERS1646961             | SAMEA103957793         | Sample_58              | 2014                   | gut                    | feces                  | Canis lupus familiaris | SAMEA103957793         | ERS1646961             | EBI                    | ⋯                      | 3579352                | 894838000              | 250                    | 315                    | WGS                    | PAIRED                 | ILLUMINA               | Illumina HiSeq 2500    | 749906                 | gut metagenome         | \n",
       "\n",
       "\n"
      ],
      "text/plain": [
       "  Sample     BioSample      Alias     collection_date env_biome env_material\n",
       "1 ERS1646961 SAMEA103957793 Sample_58 2014            gut       feces       \n",
       "2 ERS1646961 SAMEA103957793 Sample_58 2014            gut       feces       \n",
       "3 ERS1646961 SAMEA103957793 Sample_58 2014            gut       feces       \n",
       "  host                   Id             Id__2      Name ⋯ spots   bases    \n",
       "1 Canis lupus familiaris SAMEA103957793 ERS1646961 EBI  ⋯ 3638228 909557000\n",
       "2 Canis lupus familiaris SAMEA103957793 ERS1646961 EBI  ⋯ 3615718 903929500\n",
       "3 Canis lupus familiaris SAMEA103957793 ERS1646961 EBI  ⋯ 3579352 894838000\n",
       "  avgLength size_MB LibraryStrategy LibraryLayout Platform Model              \n",
       "1 250       322     WGS             PAIRED        ILLUMINA Illumina HiSeq 2500\n",
       "2 250       320     WGS             PAIRED        ILLUMINA Illumina HiSeq 2500\n",
       "3 250       315     WGS             PAIRED        ILLUMINA Illumina HiSeq 2500\n",
       "  TaxID  ScientificName\n",
       "1 749906 gut metagenome\n",
       "2 749906 gut metagenome\n",
       "3 749906 gut metagenome"
      ]
     },
     "metadata": {},
     "output_type": "display_data"
    }
   ],
   "source": [
    "# formatting and joining\n",
    "tags = c('Id', 'Id__2', 'Title', 'Alias', 'Organism', 'Name', 'host', 'SRA_accession' ,\n",
    "         'collection_date', 'env_material', 'env_biome')\n",
    "\n",
    "biosample_info_j = biosample_info %>% \n",
    "    filter(Tag %in% tags) %>%\n",
    "    spread(Tag, Attribute) %>%\n",
    "    inner_join(sra_runinfo_f %>% \n",
    "                   dplyr::select(Sample, BioSample, Run, BioProject, spots, bases, avgLength, size_MB, \n",
    "                                 LibraryStrategy, LibraryLayout, Platform, Model, TaxID, ScientificName),\n",
    "               c('Sample', 'BioSample'))\n",
    "\n",
    "biosample_info_j %>% dfhead"
   ]
  },
  {
   "cell_type": "markdown",
   "metadata": {},
   "source": [
    "## per-bioproject"
   ]
  },
  {
   "cell_type": "code",
   "execution_count": 24,
   "metadata": {
    "ExecuteTime": {
     "end_time": "2019-09-02T18:04:00.652315Z",
     "start_time": "2019-09-02T18:03:58.059Z"
    }
   },
   "outputs": [
    {
     "data": {
      "image/png": "[encoded data removed]",
      "text/plain": [
       "plot without title"
      ]
     },
     "metadata": {},
     "output_type": "display_data"
    }
   ],
   "source": [
    "# env_material\n",
    "p = biosample_info_j %>%\n",
    "    group_by(BioProject, env_material) %>%\n",
    "    summarize(n = n()) %>%\n",
    "    ungroup() %>%\n",
    "    ggplot(aes(BioProject, n, fill=env_material)) +\n",
    "    geom_bar(stat='identity', position='dodge') +\n",
    "    scale_y_log10() +\n",
    "    labs(y='No. of runs') +\n",
    "    theme_bw() +\n",
    "    theme(\n",
    "        axis.text.x = element_text(angle=45, hjust=1)\n",
    "    )\n",
    "   \n",
    "dims(8, 3)\n",
    "plot(p)"
   ]
  },
  {
   "cell_type": "code",
   "execution_count": 25,
   "metadata": {
    "ExecuteTime": {
     "end_time": "2019-09-02T18:04:04.049060Z",
     "start_time": "2019-09-02T18:03:59.924Z"
    }
   },
   "outputs": [
    {
     "data": {
      "image/png": "[encoded data removed]",
      "text/plain": [
       "plot without title"
      ]
     },
     "metadata": {},
     "output_type": "display_data"
    }
   ],
   "source": [
    "# env_biome\n",
    "p = biosample_info_j %>%\n",
    "    group_by(BioProject, env_biome) %>%\n",
    "    summarize(n = n()) %>%\n",
    "    ungroup() %>%\n",
    "    ggplot(aes(BioProject, n, fill=env_biome)) +\n",
    "    geom_bar(stat='identity', position='dodge') +\n",
    "    scale_y_log10() +\n",
    "    labs(y='No. of runs') +\n",
    "    theme_bw() +\n",
    "    theme(\n",
    "        axis.text.x = element_text(angle=45, hjust=1)\n",
    "    )\n",
    "   \n",
    "dims(8, 3)\n",
    "plot(p)"
   ]
  },
  {
   "cell_type": "code",
   "execution_count": 26,
   "metadata": {
    "ExecuteTime": {
     "end_time": "2019-09-02T18:04:06.103735Z",
     "start_time": "2019-09-02T18:04:01.072Z"
    }
   },
   "outputs": [
    {
     "data": {
      "image/png": "[encoded data removed]",
      "text/plain": [
       "plot without title"
      ]
     },
     "metadata": {},
     "output_type": "display_data"
    }
   ],
   "source": [
    "# host\n",
    "p = biosample_info_j %>%\n",
    "    group_by(BioProject, host) %>%\n",
    "    summarize(n = n()) %>%\n",
    "    ungroup() %>%\n",
    "    ggplot(aes(BioProject, n, fill=host)) +\n",
    "    geom_bar(stat='identity', position='dodge') +\n",
    "    scale_y_log10() +\n",
    "    labs(y='No. of runs') +\n",
    "    theme_bw() +\n",
    "    theme(\n",
    "        axis.text.x = element_text(angle=45, hjust=1)\n",
    "    )\n",
    "   \n",
    "dims(8, 4)\n",
    "plot(p)"
   ]
  },
  {
   "cell_type": "markdown",
   "metadata": {},
   "source": [
    "# Creating sample files for LLMGQC\n",
    "\n",
    "* separating by bioproject"
   ]
  },
  {
   "cell_type": "code",
   "execution_count": 27,
   "metadata": {
    "ExecuteTime": {
     "end_time": "2019-09-02T18:04:26.607155Z",
     "start_time": "2019-09-02T18:04:26.522Z"
    }
   },
   "outputs": [
    {
     "name": "stdout",
     "output_type": "stream",
     "text": [
      "[1] 4191   26\n"
     ]
    },
    {
     "data": {
      "text/html": [
       "<table>\n",
       "<thead><tr><th scope=col>Sample</th><th scope=col>Run</th><th scope=col>Lane</th><th scope=col>Remote</th><th scope=col>spots</th><th scope=col>bases</th><th scope=col>avgLength</th><th scope=col>size_MB</th><th scope=col>BioProject</th><th scope=col>bioproject</th><th scope=col>⋯</th><th scope=col>LibraryName</th><th scope=col>LibraryStrategy</th><th scope=col>LibrarySelection</th><th scope=col>LibrarySource</th><th scope=col>LibraryLayout</th><th scope=col>InsertSize</th><th scope=col>InsertDev</th><th scope=col>Platform</th><th scope=col>Model</th><th scope=col>source</th></tr></thead>\n",
       "<tbody>\n",
       "\t<tr><td>SAMEA3663295       </td><td>ERR1135468         </td><td>1                  </td><td>ERR1135468         </td><td>24873864           </td><td>4875031192         </td><td>195                </td><td>3574               </td><td>PRJEB11755         </td><td>PRJEB11755         </td><td>⋯                  </td><td>130421             </td><td>WGS                </td><td>other              </td><td>METAGENOMIC        </td><td>PAIRED             </td><td>350                </td><td>0                  </td><td>ILLUMINA           </td><td>Illumina HiSeq 2000</td><td>                   </td></tr>\n",
       "\t<tr><td>SAMEA3663296       </td><td>ERR1135469         </td><td>1                  </td><td>ERR1135469         </td><td>29496968           </td><td>5791369887         </td><td>196                </td><td>4228               </td><td>PRJEB11755         </td><td>PRJEB11755         </td><td>⋯                  </td><td>130421             </td><td>WGS                </td><td>other              </td><td>METAGENOMIC        </td><td>PAIRED             </td><td>350                </td><td>0                  </td><td>ILLUMINA           </td><td>Illumina HiSeq 2000</td><td>                   </td></tr>\n",
       "\t<tr><td>SAMEA3663297       </td><td>ERR1135470         </td><td>1                  </td><td>ERR1135470         </td><td>26828175           </td><td>5160184344         </td><td>192                </td><td>3957               </td><td>PRJEB11755         </td><td>PRJEB11755         </td><td>⋯                  </td><td>130420             </td><td>WGS                </td><td>other              </td><td>METAGENOMIC        </td><td>PAIRED             </td><td>350                </td><td>0                  </td><td>ILLUMINA           </td><td>Illumina HiSeq 2000</td><td>                   </td></tr>\n",
       "</tbody>\n",
       "</table>\n"
      ],
      "text/latex": [
       "\\begin{tabular}{r|llllllllllllllllllllllllll}\n",
       " Sample & Run & Lane & Remote & spots & bases & avgLength & size\\_MB & BioProject & bioproject & ⋯ & LibraryName & LibraryStrategy & LibrarySelection & LibrarySource & LibraryLayout & InsertSize & InsertDev & Platform & Model & source\\\\\n",
       "\\hline\n",
       "\t SAMEA3663295        & ERR1135468          & 1                   & ERR1135468          & 24873864            & 4875031192          & 195                 & 3574                & PRJEB11755          & PRJEB11755          & ⋯                   & 130421              & WGS                 & other               & METAGENOMIC         & PAIRED              & 350                 & 0                   & ILLUMINA            & Illumina HiSeq 2000 &                    \\\\\n",
       "\t SAMEA3663296        & ERR1135469          & 1                   & ERR1135469          & 29496968            & 5791369887          & 196                 & 4228                & PRJEB11755          & PRJEB11755          & ⋯                   & 130421              & WGS                 & other               & METAGENOMIC         & PAIRED              & 350                 & 0                   & ILLUMINA            & Illumina HiSeq 2000 &                    \\\\\n",
       "\t SAMEA3663297        & ERR1135470          & 1                   & ERR1135470          & 26828175            & 5160184344          & 192                 & 3957                & PRJEB11755          & PRJEB11755          & ⋯                   & 130420              & WGS                 & other               & METAGENOMIC         & PAIRED              & 350                 & 0                   & ILLUMINA            & Illumina HiSeq 2000 &                    \\\\\n",
       "\\end{tabular}\n"
      ],
      "text/markdown": [
       "\n",
       "Sample | Run | Lane | Remote | spots | bases | avgLength | size_MB | BioProject | bioproject | ⋯ | LibraryName | LibraryStrategy | LibrarySelection | LibrarySource | LibraryLayout | InsertSize | InsertDev | Platform | Model | source | \n",
       "|---|---|---|\n",
       "| SAMEA3663295        | ERR1135468          | 1                   | ERR1135468          | 24873864            | 4875031192          | 195                 | 3574                | PRJEB11755          | PRJEB11755          | ⋯                   | 130421              | WGS                 | other               | METAGENOMIC         | PAIRED              | 350                 | 0                   | ILLUMINA            | Illumina HiSeq 2000 |                     | \n",
       "| SAMEA3663296        | ERR1135469          | 1                   | ERR1135469          | 29496968            | 5791369887          | 196                 | 4228                | PRJEB11755          | PRJEB11755          | ⋯                   | 130421              | WGS                 | other               | METAGENOMIC         | PAIRED              | 350                 | 0                   | ILLUMINA            | Illumina HiSeq 2000 |                     | \n",
       "| SAMEA3663297        | ERR1135470          | 1                   | ERR1135470          | 26828175            | 5160184344          | 192                 | 3957                | PRJEB11755          | PRJEB11755          | ⋯                   | 130420              | WGS                 | other               | METAGENOMIC         | PAIRED              | 350                 | 0                   | ILLUMINA            | Illumina HiSeq 2000 |                     | \n",
       "\n",
       "\n"
      ],
      "text/plain": [
       "  Sample       Run        Lane Remote     spots    bases      avgLength size_MB\n",
       "1 SAMEA3663295 ERR1135468 1    ERR1135468 24873864 4875031192 195       3574   \n",
       "2 SAMEA3663296 ERR1135469 1    ERR1135469 29496968 5791369887 196       4228   \n",
       "3 SAMEA3663297 ERR1135470 1    ERR1135470 26828175 5160184344 192       3957   \n",
       "  BioProject bioproject ⋯ LibraryName LibraryStrategy LibrarySelection\n",
       "1 PRJEB11755 PRJEB11755 ⋯ 130421      WGS             other           \n",
       "2 PRJEB11755 PRJEB11755 ⋯ 130421      WGS             other           \n",
       "3 PRJEB11755 PRJEB11755 ⋯ 130420      WGS             other           \n",
       "  LibrarySource LibraryLayout InsertSize InsertDev Platform Model              \n",
       "1 METAGENOMIC   PAIRED        350        0         ILLUMINA Illumina HiSeq 2000\n",
       "2 METAGENOMIC   PAIRED        350        0         ILLUMINA Illumina HiSeq 2000\n",
       "3 METAGENOMIC   PAIRED        350        0         ILLUMINA Illumina HiSeq 2000\n",
       "  source\n",
       "1       \n",
       "2       \n",
       "3       "
      ]
     },
     "metadata": {},
     "output_type": "display_data"
    }
   ],
   "source": [
    "# formatting table\n",
    "sra_runinfo_f_f = sra_runinfo_f %>%\n",
    "    mutate(Lane = 1,\n",
    "           Remote = Run) %>%\n",
    "    rename('SampleID' = Sample,\n",
    "           'Sample' = SampleName) %>%\n",
    "    dplyr::select(Sample, Run, Lane, Remote,\n",
    "                  spots, bases, avgLength, size_MB,\n",
    "                  BioProject, bioproject, Study_Pubmed_id, BioSample, \n",
    "                  SampleID, SampleType, TaxID, ScientificName,\n",
    "                  LibraryName, LibraryStrategy, LibrarySelection, LibrarySource, LibraryLayout, \n",
    "                  InsertSize, InsertDev, Platform, Model, source) \n",
    "\n",
    "sra_runinfo_f_f %>% dfhead"
   ]
  },
  {
   "cell_type": "code",
   "execution_count": 28,
   "metadata": {
    "ExecuteTime": {
     "end_time": "2019-09-02T18:04:34.187730Z",
     "start_time": "2019-09-02T18:04:33.913Z"
    }
   },
   "outputs": [
    {
     "name": "stderr",
     "output_type": "stream",
     "text": [
      "Warning message:\n",
      "“Column `SampleID`/`Sample` joining factors with different levels, coercing to character vector”Warning message:\n",
      "“Column `BioSample` joining factors with different levels, coercing to character vector”"
     ]
    },
    {
     "name": "stdout",
     "output_type": "stream",
     "text": [
      "[1] 4190   34\n"
     ]
    },
    {
     "data": {
      "text/html": [
       "<table>\n",
       "<thead><tr><th scope=col>Sample</th><th scope=col>Run</th><th scope=col>Lane</th><th scope=col>Remote</th><th scope=col>spots</th><th scope=col>bases</th><th scope=col>avgLength</th><th scope=col>size_MB</th><th scope=col>BioProject</th><th scope=col>bioproject</th><th scope=col>⋯</th><th scope=col>Model</th><th scope=col>source</th><th scope=col>Alias</th><th scope=col>collection_date</th><th scope=col>env_biome</th><th scope=col>env_material</th><th scope=col>host</th><th scope=col>Name</th><th scope=col>SRA_accession</th><th scope=col>Title</th></tr></thead>\n",
       "<tbody>\n",
       "\t<tr><td>SAMEA3663295       </td><td>ERR1135468         </td><td>1                  </td><td>ERR1135468         </td><td>24873864           </td><td>4875031192         </td><td>195                </td><td>3574               </td><td>PRJEB11755         </td><td>PRJEB11755         </td><td>⋯                  </td><td>Illumina HiSeq 2000</td><td>                   </td><td>ZXZ-5B             </td><td>2013               </td><td>NA                 </td><td>NA                 </td><td>NA                 </td><td>EBI                </td><td>ERS970444          </td><td>ZXZ-5B             </td></tr>\n",
       "\t<tr><td>SAMEA3663296       </td><td>ERR1135469         </td><td>1                  </td><td>ERR1135469         </td><td>29496968           </td><td>5791369887         </td><td>196                </td><td>4228               </td><td>PRJEB11755         </td><td>PRJEB11755         </td><td>⋯                  </td><td>Illumina HiSeq 2000</td><td>                   </td><td>ZXZ-6B             </td><td>2013               </td><td>NA                 </td><td>NA                 </td><td>NA                 </td><td>EBI                </td><td>ERS970445          </td><td>ZXZ-6B             </td></tr>\n",
       "\t<tr><td>SAMEA3663297       </td><td>ERR1135470         </td><td>1                  </td><td>ERR1135470         </td><td>26828175           </td><td>5160184344         </td><td>192                </td><td>3957               </td><td>PRJEB11755         </td><td>PRJEB11755         </td><td>⋯                  </td><td>Illumina HiSeq 2000</td><td>                   </td><td>ZXZ-7B             </td><td>2013               </td><td>NA                 </td><td>NA                 </td><td>NA                 </td><td>EBI                </td><td>ERS970446          </td><td>ZXZ-7B             </td></tr>\n",
       "</tbody>\n",
       "</table>\n"
      ],
      "text/latex": [
       "\\begin{tabular}{r|llllllllllllllllllllllllllllllllll}\n",
       " Sample & Run & Lane & Remote & spots & bases & avgLength & size\\_MB & BioProject & bioproject & ⋯ & Model & source & Alias & collection\\_date & env\\_biome & env\\_material & host & Name & SRA\\_accession & Title\\\\\n",
       "\\hline\n",
       "\t SAMEA3663295        & ERR1135468          & 1                   & ERR1135468          & 24873864            & 4875031192          & 195                 & 3574                & PRJEB11755          & PRJEB11755          & ⋯                   & Illumina HiSeq 2000 &                     & ZXZ-5B              & 2013                & NA                  & NA                  & NA                  & EBI                 & ERS970444           & ZXZ-5B             \\\\\n",
       "\t SAMEA3663296        & ERR1135469          & 1                   & ERR1135469          & 29496968            & 5791369887          & 196                 & 4228                & PRJEB11755          & PRJEB11755          & ⋯                   & Illumina HiSeq 2000 &                     & ZXZ-6B              & 2013                & NA                  & NA                  & NA                  & EBI                 & ERS970445           & ZXZ-6B             \\\\\n",
       "\t SAMEA3663297        & ERR1135470          & 1                   & ERR1135470          & 26828175            & 5160184344          & 192                 & 3957                & PRJEB11755          & PRJEB11755          & ⋯                   & Illumina HiSeq 2000 &                     & ZXZ-7B              & 2013                & NA                  & NA                  & NA                  & EBI                 & ERS970446           & ZXZ-7B             \\\\\n",
       "\\end{tabular}\n"
      ],
      "text/markdown": [
       "\n",
       "Sample | Run | Lane | Remote | spots | bases | avgLength | size_MB | BioProject | bioproject | ⋯ | Model | source | Alias | collection_date | env_biome | env_material | host | Name | SRA_accession | Title | \n",
       "|---|---|---|\n",
       "| SAMEA3663295        | ERR1135468          | 1                   | ERR1135468          | 24873864            | 4875031192          | 195                 | 3574                | PRJEB11755          | PRJEB11755          | ⋯                   | Illumina HiSeq 2000 |                     | ZXZ-5B              | 2013                | NA                  | NA                  | NA                  | EBI                 | ERS970444           | ZXZ-5B              | \n",
       "| SAMEA3663296        | ERR1135469          | 1                   | ERR1135469          | 29496968            | 5791369887          | 196                 | 4228                | PRJEB11755          | PRJEB11755          | ⋯                   | Illumina HiSeq 2000 |                     | ZXZ-6B              | 2013                | NA                  | NA                  | NA                  | EBI                 | ERS970445           | ZXZ-6B              | \n",
       "| SAMEA3663297        | ERR1135470          | 1                   | ERR1135470          | 26828175            | 5160184344          | 192                 | 3957                | PRJEB11755          | PRJEB11755          | ⋯                   | Illumina HiSeq 2000 |                     | ZXZ-7B              | 2013                | NA                  | NA                  | NA                  | EBI                 | ERS970446           | ZXZ-7B              | \n",
       "\n",
       "\n"
      ],
      "text/plain": [
       "  Sample       Run        Lane Remote     spots    bases      avgLength size_MB\n",
       "1 SAMEA3663295 ERR1135468 1    ERR1135468 24873864 4875031192 195       3574   \n",
       "2 SAMEA3663296 ERR1135469 1    ERR1135469 29496968 5791369887 196       4228   \n",
       "3 SAMEA3663297 ERR1135470 1    ERR1135470 26828175 5160184344 192       3957   \n",
       "  BioProject bioproject ⋯ Model               source Alias  collection_date\n",
       "1 PRJEB11755 PRJEB11755 ⋯ Illumina HiSeq 2000        ZXZ-5B 2013           \n",
       "2 PRJEB11755 PRJEB11755 ⋯ Illumina HiSeq 2000        ZXZ-6B 2013           \n",
       "3 PRJEB11755 PRJEB11755 ⋯ Illumina HiSeq 2000        ZXZ-7B 2013           \n",
       "  env_biome env_material host Name SRA_accession Title \n",
       "1 NA        NA           NA   EBI  ERS970444     ZXZ-5B\n",
       "2 NA        NA           NA   EBI  ERS970445     ZXZ-6B\n",
       "3 NA        NA           NA   EBI  ERS970446     ZXZ-7B"
      ]
     },
     "metadata": {},
     "output_type": "display_data"
    }
   ],
   "source": [
    "# adding relevant biosample info\n",
    "tags = c('Title', 'Alias', 'Name', 'host', 'SRA_accession' ,\n",
    "         'collection_date', 'env_material', 'env_biome')\n",
    "\n",
    "sra_runinfo_f_f = sra_runinfo_f_f %>%\n",
    "    inner_join(biosample_info %>% filter(Tag %in% tags) %>% spread(Tag, Attribute),\n",
    "               c('SampleID'='Sample', 'BioSample'))\n",
    "\n",
    "sra_runinfo_f_f %>% dfhead"
   ]
  },
  {
   "cell_type": "code",
   "execution_count": 29,
   "metadata": {
    "ExecuteTime": {
     "end_time": "2019-09-02T18:04:48.146659Z",
     "start_time": "2019-09-02T18:04:48.038Z"
    }
   },
   "outputs": [
    {
     "name": "stdout",
     "output_type": "stream",
     "text": [
      "[1] 4190   43\n"
     ]
    },
    {
     "data": {
      "text/html": [
       "<table>\n",
       "<thead><tr><th scope=col>Sample</th><th scope=col>Run</th><th scope=col>Lane</th><th scope=col>Remote</th><th scope=col>spots</th><th scope=col>bases</th><th scope=col>avgLength</th><th scope=col>size_MB</th><th scope=col>BioProject</th><th scope=col>bioproject</th><th scope=col>⋯</th><th scope=col>Title</th><th scope=col>Animal</th><th scope=col>First_author</th><th scope=col>Year</th><th scope=col>DOI</th><th scope=col>Sequencer</th><th scope=col>Read_length</th><th scope=col>Paper_accession</th><th scope=col>Existing_MG_assembly</th><th scope=col>Comments</th></tr></thead>\n",
       "<tbody>\n",
       "\t<tr><td>SAMEA3663295</td><td>ERR1135468  </td><td>1           </td><td>ERR1135468  </td><td>24873864    </td><td>4875031192  </td><td>195         </td><td>3574        </td><td>PRJEB11755  </td><td>PRJEB11755  </td><td>⋯           </td><td>ZXZ-5B      </td><td>NA          </td><td>NA          </td><td>NA          </td><td>NA          </td><td>NA          </td><td>NA          </td><td>NA          </td><td>NA          </td><td>NA          </td></tr>\n",
       "\t<tr><td>SAMEA3663296</td><td>ERR1135469  </td><td>1           </td><td>ERR1135469  </td><td>29496968    </td><td>5791369887  </td><td>196         </td><td>4228        </td><td>PRJEB11755  </td><td>PRJEB11755  </td><td>⋯           </td><td>ZXZ-6B      </td><td>NA          </td><td>NA          </td><td>NA          </td><td>NA          </td><td>NA          </td><td>NA          </td><td>NA          </td><td>NA          </td><td>NA          </td></tr>\n",
       "\t<tr><td>SAMEA3663297</td><td>ERR1135470  </td><td>1           </td><td>ERR1135470  </td><td>26828175    </td><td>5160184344  </td><td>192         </td><td>3957        </td><td>PRJEB11755  </td><td>PRJEB11755  </td><td>⋯           </td><td>ZXZ-7B      </td><td>NA          </td><td>NA          </td><td>NA          </td><td>NA          </td><td>NA          </td><td>NA          </td><td>NA          </td><td>NA          </td><td>NA          </td></tr>\n",
       "</tbody>\n",
       "</table>\n"
      ],
      "text/latex": [
       "\\begin{tabular}{r|lllllllllllllllllllllllllllllllllllllllllll}\n",
       " Sample & Run & Lane & Remote & spots & bases & avgLength & size\\_MB & BioProject & bioproject & ⋯ & Title & Animal & First\\_author & Year & DOI & Sequencer & Read\\_length & Paper\\_accession & Existing\\_MG\\_assembly & Comments\\\\\n",
       "\\hline\n",
       "\t SAMEA3663295 & ERR1135468   & 1            & ERR1135468   & 24873864     & 4875031192   & 195          & 3574         & PRJEB11755   & PRJEB11755   & ⋯            & ZXZ-5B       & NA           & NA           & NA           & NA           & NA           & NA           & NA           & NA           & NA          \\\\\n",
       "\t SAMEA3663296 & ERR1135469   & 1            & ERR1135469   & 29496968     & 5791369887   & 196          & 4228         & PRJEB11755   & PRJEB11755   & ⋯            & ZXZ-6B       & NA           & NA           & NA           & NA           & NA           & NA           & NA           & NA           & NA          \\\\\n",
       "\t SAMEA3663297 & ERR1135470   & 1            & ERR1135470   & 26828175     & 5160184344   & 192          & 3957         & PRJEB11755   & PRJEB11755   & ⋯            & ZXZ-7B       & NA           & NA           & NA           & NA           & NA           & NA           & NA           & NA           & NA          \\\\\n",
       "\\end{tabular}\n"
      ],
      "text/markdown": [
       "\n",
       "Sample | Run | Lane | Remote | spots | bases | avgLength | size_MB | BioProject | bioproject | ⋯ | Title | Animal | First_author | Year | DOI | Sequencer | Read_length | Paper_accession | Existing_MG_assembly | Comments | \n",
       "|---|---|---|\n",
       "| SAMEA3663295 | ERR1135468   | 1            | ERR1135468   | 24873864     | 4875031192   | 195          | 3574         | PRJEB11755   | PRJEB11755   | ⋯            | ZXZ-5B       | NA           | NA           | NA           | NA           | NA           | NA           | NA           | NA           | NA           | \n",
       "| SAMEA3663296 | ERR1135469   | 1            | ERR1135469   | 29496968     | 5791369887   | 196          | 4228         | PRJEB11755   | PRJEB11755   | ⋯            | ZXZ-6B       | NA           | NA           | NA           | NA           | NA           | NA           | NA           | NA           | NA           | \n",
       "| SAMEA3663297 | ERR1135470   | 1            | ERR1135470   | 26828175     | 5160184344   | 192          | 3957         | PRJEB11755   | PRJEB11755   | ⋯            | ZXZ-7B       | NA           | NA           | NA           | NA           | NA           | NA           | NA           | NA           | NA           | \n",
       "\n",
       "\n"
      ],
      "text/plain": [
       "  Sample       Run        Lane Remote     spots    bases      avgLength size_MB\n",
       "1 SAMEA3663295 ERR1135468 1    ERR1135468 24873864 4875031192 195       3574   \n",
       "2 SAMEA3663296 ERR1135469 1    ERR1135469 29496968 5791369887 196       4228   \n",
       "3 SAMEA3663297 ERR1135470 1    ERR1135470 26828175 5160184344 192       3957   \n",
       "  BioProject bioproject ⋯ Title  Animal First_author Year DOI Sequencer\n",
       "1 PRJEB11755 PRJEB11755 ⋯ ZXZ-5B NA     NA           NA   NA  NA       \n",
       "2 PRJEB11755 PRJEB11755 ⋯ ZXZ-6B NA     NA           NA   NA  NA       \n",
       "3 PRJEB11755 PRJEB11755 ⋯ ZXZ-7B NA     NA           NA   NA  NA       \n",
       "  Read_length Paper_accession Existing_MG_assembly Comments\n",
       "1 NA          NA              NA                   NA      \n",
       "2 NA          NA              NA                   NA      \n",
       "3 NA          NA              NA                   NA      "
      ]
     },
     "metadata": {},
     "output_type": "display_data"
    }
   ],
   "source": [
    "# adding manually curated project metadata\n",
    "sra_runinfo_f_f = sra_runinfo_f_f %>%\n",
    "    left_join(metadata, c('bioproject'='BioProject')) \n",
    "\n",
    "sra_runinfo_f_f %>% dfhead"
   ]
  },
  {
   "cell_type": "code",
   "execution_count": 30,
   "metadata": {
    "ExecuteTime": {
     "end_time": "2019-09-02T18:04:57.914854Z",
     "start_time": "2019-09-02T18:04:57.842Z"
    }
   },
   "outputs": [
    {
     "data": {
      "text/plain": [
       ".\n",
       " PRJEB11755  PRJEB20308  PRJEB21624  PRJEB22765  PRJEB23642  PRJEB29346 \n",
       "        295        3096          43          20          12          57 \n",
       "  PRJEB9357 PRJNA316560 PRJNA316570 PRJNA336354 PRJNA353155 PRJNA381379 \n",
       "         87           2           2          15           1           6 \n",
       "PRJNA390686 PRJNA417359 PRJNA476660 PRJNA485217 PRJNA494387 PRJNA532626 \n",
       "         39         465           3          19           3          25 "
      ]
     },
     "metadata": {},
     "output_type": "display_data"
    },
    {
     "name": "stdout",
     "output_type": "stream",
     "text": [
      "-----\n"
     ]
    },
    {
     "data": {
      "text/plain": [
       ".\n",
       " PRJEB11755  PRJEB20308  PRJEB21624  PRJEB22765  PRJEB23642  PRJEB29346 \n",
       "        295         129          43          20          12          57 \n",
       "  PRJEB9357 PRJNA316560 PRJNA316570 PRJNA336354 PRJNA353155 PRJNA381379 \n",
       "         87           2           2          15           1           1 \n",
       "PRJNA390686 PRJNA417359 PRJNA476660 PRJNA485217 PRJNA494387 PRJNA532626 \n",
       "         39         465           3          19           3          25 "
      ]
     },
     "metadata": {},
     "output_type": "display_data"
    }
   ],
   "source": [
    "# number of runs per bioproject\n",
    "sra_runinfo_f_f$BioProject %>% as.character %>% table\n",
    "cat('-----\\n')\n",
    "# number of samples per bioproject\n",
    "sra_runinfo_f_f %>% distinct(BioProject, Sample) %>% .$BioProject %>% as.character %>% table"
   ]
  },
  {
   "cell_type": "code",
   "execution_count": 31,
   "metadata": {
    "ExecuteTime": {
     "end_time": "2019-09-02T18:05:07.735539Z",
     "start_time": "2019-09-02T18:05:07.666Z"
    }
   },
   "outputs": [
    {
     "data": {
      "text/html": [
       "<table>\n",
       "<thead><tr><th scope=col>BioProject</th><th scope=col>bioproject</th><th scope=col>n_runs</th></tr></thead>\n",
       "<tbody>\n",
       "\t<tr><td>PRJNA353155</td><td>SRP093602  </td><td>   1       </td></tr>\n",
       "\t<tr><td>PRJNA316570</td><td>SRP072790  </td><td>   2       </td></tr>\n",
       "\t<tr><td>PRJNA316560</td><td>SRP072793  </td><td>   2       </td></tr>\n",
       "\t<tr><td>PRJNA494387</td><td>PRJNA494387</td><td>   3       </td></tr>\n",
       "\t<tr><td>PRJNA476660</td><td>SRP152412  </td><td>   3       </td></tr>\n",
       "\t<tr><td>PRJNA381379</td><td>PRJNA381379</td><td>   6       </td></tr>\n",
       "\t<tr><td>PRJEB23642 </td><td>PRJEB23642 </td><td>  12       </td></tr>\n",
       "\t<tr><td>PRJNA336354</td><td>PRJNA336354</td><td>  15       </td></tr>\n",
       "\t<tr><td>PRJNA485217</td><td>SRP156892  </td><td>  19       </td></tr>\n",
       "\t<tr><td>PRJEB22765 </td><td>PRJEB22765 </td><td>  20       </td></tr>\n",
       "\t<tr><td>PRJNA532626</td><td>PRJNA532626</td><td>  25       </td></tr>\n",
       "\t<tr><td>PRJNA390686</td><td>PRJNA390686</td><td>  39       </td></tr>\n",
       "\t<tr><td>PRJEB21624 </td><td>PRJEB21624 </td><td>  43       </td></tr>\n",
       "\t<tr><td>PRJEB29346 </td><td>PRJEB29346 </td><td>  57       </td></tr>\n",
       "\t<tr><td>PRJEB9357  </td><td>PRJEB9357  </td><td>  87       </td></tr>\n",
       "\t<tr><td>PRJEB11755 </td><td>PRJEB11755 </td><td> 295       </td></tr>\n",
       "\t<tr><td>PRJNA417359</td><td>PRJNA417359</td><td> 465       </td></tr>\n",
       "\t<tr><td>PRJEB20308 </td><td>PRJEB20308 </td><td>3096       </td></tr>\n",
       "</tbody>\n",
       "</table>\n"
      ],
      "text/latex": [
       "\\begin{tabular}{r|lll}\n",
       " BioProject & bioproject & n\\_runs\\\\\n",
       "\\hline\n",
       "\t PRJNA353155 & SRP093602   &    1       \\\\\n",
       "\t PRJNA316570 & SRP072790   &    2       \\\\\n",
       "\t PRJNA316560 & SRP072793   &    2       \\\\\n",
       "\t PRJNA494387 & PRJNA494387 &    3       \\\\\n",
       "\t PRJNA476660 & SRP152412   &    3       \\\\\n",
       "\t PRJNA381379 & PRJNA381379 &    6       \\\\\n",
       "\t PRJEB23642  & PRJEB23642  &   12       \\\\\n",
       "\t PRJNA336354 & PRJNA336354 &   15       \\\\\n",
       "\t PRJNA485217 & SRP156892   &   19       \\\\\n",
       "\t PRJEB22765  & PRJEB22765  &   20       \\\\\n",
       "\t PRJNA532626 & PRJNA532626 &   25       \\\\\n",
       "\t PRJNA390686 & PRJNA390686 &   39       \\\\\n",
       "\t PRJEB21624  & PRJEB21624  &   43       \\\\\n",
       "\t PRJEB29346  & PRJEB29346  &   57       \\\\\n",
       "\t PRJEB9357   & PRJEB9357   &   87       \\\\\n",
       "\t PRJEB11755  & PRJEB11755  &  295       \\\\\n",
       "\t PRJNA417359 & PRJNA417359 &  465       \\\\\n",
       "\t PRJEB20308  & PRJEB20308  & 3096       \\\\\n",
       "\\end{tabular}\n"
      ],
      "text/markdown": [
       "\n",
       "BioProject | bioproject | n_runs | \n",
       "|---|---|---|---|---|---|---|---|---|---|---|---|---|---|---|---|---|---|\n",
       "| PRJNA353155 | SRP093602   |    1        | \n",
       "| PRJNA316570 | SRP072790   |    2        | \n",
       "| PRJNA316560 | SRP072793   |    2        | \n",
       "| PRJNA494387 | PRJNA494387 |    3        | \n",
       "| PRJNA476660 | SRP152412   |    3        | \n",
       "| PRJNA381379 | PRJNA381379 |    6        | \n",
       "| PRJEB23642  | PRJEB23642  |   12        | \n",
       "| PRJNA336354 | PRJNA336354 |   15        | \n",
       "| PRJNA485217 | SRP156892   |   19        | \n",
       "| PRJEB22765  | PRJEB22765  |   20        | \n",
       "| PRJNA532626 | PRJNA532626 |   25        | \n",
       "| PRJNA390686 | PRJNA390686 |   39        | \n",
       "| PRJEB21624  | PRJEB21624  |   43        | \n",
       "| PRJEB29346  | PRJEB29346  |   57        | \n",
       "| PRJEB9357   | PRJEB9357   |   87        | \n",
       "| PRJEB11755  | PRJEB11755  |  295        | \n",
       "| PRJNA417359 | PRJNA417359 |  465        | \n",
       "| PRJEB20308  | PRJEB20308  | 3096        | \n",
       "\n",
       "\n"
      ],
      "text/plain": [
       "   BioProject  bioproject  n_runs\n",
       "1  PRJNA353155 SRP093602      1  \n",
       "2  PRJNA316570 SRP072790      2  \n",
       "3  PRJNA316560 SRP072793      2  \n",
       "4  PRJNA494387 PRJNA494387    3  \n",
       "5  PRJNA476660 SRP152412      3  \n",
       "6  PRJNA381379 PRJNA381379    6  \n",
       "7  PRJEB23642  PRJEB23642    12  \n",
       "8  PRJNA336354 PRJNA336354   15  \n",
       "9  PRJNA485217 SRP156892     19  \n",
       "10 PRJEB22765  PRJEB22765    20  \n",
       "11 PRJNA532626 PRJNA532626   25  \n",
       "12 PRJNA390686 PRJNA390686   39  \n",
       "13 PRJEB21624  PRJEB21624    43  \n",
       "14 PRJEB29346  PRJEB29346    57  \n",
       "15 PRJEB9357   PRJEB9357     87  \n",
       "16 PRJEB11755  PRJEB11755   295  \n",
       "17 PRJNA417359 PRJNA417359  465  \n",
       "18 PRJEB20308  PRJEB20308  3096  "
      ]
     },
     "metadata": {},
     "output_type": "display_data"
    }
   ],
   "source": [
    "# number of runs per bioproject\n",
    "sra_runinfo_f_f %>% \n",
    "    group_by(BioProject, bioproject) %>%\n",
    "    summarize(n_runs = n()) %>%\n",
    "    ungroup() %>%\n",
    "    arrange(n_runs)"
   ]
  },
  {
   "cell_type": "code",
   "execution_count": 32,
   "metadata": {
    "ExecuteTime": {
     "end_time": "2019-09-02T18:05:23.941194Z",
     "start_time": "2019-09-02T18:05:22.451Z"
    }
   },
   "outputs": [
    {
     "data": {
      "image/png": "[encoded data removed]",
      "text/plain": [
       "plot without title"
      ]
     },
     "metadata": {},
     "output_type": "display_data"
    }
   ],
   "source": [
    "# read lengths per bioproject\n",
    "p = sra_runinfo_f_f %>% \n",
    "    ggplot(aes(BioProject, avgLength)) +\n",
    "    geom_boxplot() +\n",
    "    theme_bw() +\n",
    "    theme(\n",
    "        axis.text.x = element_text(angle=45, hjust=1)\n",
    "    )\n",
    "\n",
    "dims(6, 3)\n",
    "plot(p)"
   ]
  },
  {
   "cell_type": "code",
   "execution_count": 34,
   "metadata": {
    "ExecuteTime": {
     "end_time": "2019-09-02T18:08:15.348992Z",
     "start_time": "2019-09-02T18:08:14.939Z"
    }
   },
   "outputs": [
    {
     "name": "stdout",
     "output_type": "stream",
     "text": [
      "Created directory: /ebio/abt3_projects/Georg_animal_feces/data/metagenome/multi-study//BioProjects_v2 \n",
      "Created directory: /ebio/abt3_projects/Georg_animal_feces/data/metagenome/multi-study//BioProjects_v2/PRJEB11755 \n",
      "File written: /ebio/abt3_projects/Georg_animal_feces/data/metagenome/multi-study//BioProjects_v2/PRJEB11755/samples.txt \n",
      "Created directory: /ebio/abt3_projects/Georg_animal_feces/data/metagenome/multi-study//BioProjects_v2/PRJEB20308 \n",
      "File written: /ebio/abt3_projects/Georg_animal_feces/data/metagenome/multi-study//BioProjects_v2/PRJEB20308/samples.txt \n",
      "Created directory: /ebio/abt3_projects/Georg_animal_feces/data/metagenome/multi-study//BioProjects_v2/PRJEB21624 \n",
      "File written: /ebio/abt3_projects/Georg_animal_feces/data/metagenome/multi-study//BioProjects_v2/PRJEB21624/samples.txt \n",
      "Created directory: /ebio/abt3_projects/Georg_animal_feces/data/metagenome/multi-study//BioProjects_v2/PRJEB22765 \n",
      "File written: /ebio/abt3_projects/Georg_animal_feces/data/metagenome/multi-study//BioProjects_v2/PRJEB22765/samples.txt \n",
      "Created directory: /ebio/abt3_projects/Georg_animal_feces/data/metagenome/multi-study//BioProjects_v2/PRJEB23642 \n",
      "File written: /ebio/abt3_projects/Georg_animal_feces/data/metagenome/multi-study//BioProjects_v2/PRJEB23642/samples.txt \n",
      "Created directory: /ebio/abt3_projects/Georg_animal_feces/data/metagenome/multi-study//BioProjects_v2/PRJEB29346 \n",
      "File written: /ebio/abt3_projects/Georg_animal_feces/data/metagenome/multi-study//BioProjects_v2/PRJEB29346/samples.txt \n",
      "Created directory: /ebio/abt3_projects/Georg_animal_feces/data/metagenome/multi-study//BioProjects_v2/PRJEB9357 \n",
      "File written: /ebio/abt3_projects/Georg_animal_feces/data/metagenome/multi-study//BioProjects_v2/PRJEB9357/samples.txt \n",
      "Created directory: /ebio/abt3_projects/Georg_animal_feces/data/metagenome/multi-study//BioProjects_v2/PRJNA336354 \n",
      "File written: /ebio/abt3_projects/Georg_animal_feces/data/metagenome/multi-study//BioProjects_v2/PRJNA336354/samples.txt \n",
      "Created directory: /ebio/abt3_projects/Georg_animal_feces/data/metagenome/multi-study//BioProjects_v2/PRJNA381379 \n",
      "File written: /ebio/abt3_projects/Georg_animal_feces/data/metagenome/multi-study//BioProjects_v2/PRJNA381379/samples.txt \n",
      "Created directory: /ebio/abt3_projects/Georg_animal_feces/data/metagenome/multi-study//BioProjects_v2/PRJNA390686 \n",
      "File written: /ebio/abt3_projects/Georg_animal_feces/data/metagenome/multi-study//BioProjects_v2/PRJNA390686/samples.txt \n",
      "Created directory: /ebio/abt3_projects/Georg_animal_feces/data/metagenome/multi-study//BioProjects_v2/PRJNA417359 \n",
      "File written: /ebio/abt3_projects/Georg_animal_feces/data/metagenome/multi-study//BioProjects_v2/PRJNA417359/samples.txt \n",
      "Created directory: /ebio/abt3_projects/Georg_animal_feces/data/metagenome/multi-study//BioProjects_v2/PRJNA494387 \n",
      "File written: /ebio/abt3_projects/Georg_animal_feces/data/metagenome/multi-study//BioProjects_v2/PRJNA494387/samples.txt \n",
      "Created directory: /ebio/abt3_projects/Georg_animal_feces/data/metagenome/multi-study//BioProjects_v2/PRJNA532626 \n",
      "File written: /ebio/abt3_projects/Georg_animal_feces/data/metagenome/multi-study//BioProjects_v2/PRJNA532626/samples.txt \n",
      "Created directory: /ebio/abt3_projects/Georg_animal_feces/data/metagenome/multi-study//BioProjects_v2/PRJNA316570 \n",
      "File written: /ebio/abt3_projects/Georg_animal_feces/data/metagenome/multi-study//BioProjects_v2/PRJNA316570/samples.txt \n",
      "Created directory: /ebio/abt3_projects/Georg_animal_feces/data/metagenome/multi-study//BioProjects_v2/PRJNA316560 \n",
      "File written: /ebio/abt3_projects/Georg_animal_feces/data/metagenome/multi-study//BioProjects_v2/PRJNA316560/samples.txt \n",
      "Created directory: /ebio/abt3_projects/Georg_animal_feces/data/metagenome/multi-study//BioProjects_v2/PRJNA353155 \n",
      "File written: /ebio/abt3_projects/Georg_animal_feces/data/metagenome/multi-study//BioProjects_v2/PRJNA353155/samples.txt \n",
      "Created directory: /ebio/abt3_projects/Georg_animal_feces/data/metagenome/multi-study//BioProjects_v2/PRJNA476660 \n",
      "File written: /ebio/abt3_projects/Georg_animal_feces/data/metagenome/multi-study//BioProjects_v2/PRJNA476660/samples.txt \n",
      "Created directory: /ebio/abt3_projects/Georg_animal_feces/data/metagenome/multi-study//BioProjects_v2/PRJNA485217 \n",
      "File written: /ebio/abt3_projects/Georg_animal_feces/data/metagenome/multi-study//BioProjects_v2/PRJNA485217/samples.txt \n"
     ]
    }
   ],
   "source": [
    "D = file.path(work_dir, 'BioProjects_v2')\n",
    "make_dir(D)\n",
    "bioprojects = sra_runinfo_f_f$BioProject %>% unique\n",
    "for(B in bioprojects){\n",
    "    df = sra_runinfo_f_f %>% filter(BioProject == B) \n",
    "    out_dir = file.path(work_dir, 'BioProjects_v2', B)\n",
    "    make_dir(out_dir)\n",
    "    out_file = file.path(out_dir, 'samples.txt')\n",
    "    write.table(df, out_file, sep='\\t', quote=FALSE, row.names=FALSE)\n",
    "    cat('File written:', out_file, '\\n')\n",
    "}"
   ]
  },
  {
   "cell_type": "markdown",
   "metadata": {},
   "source": [
    "# sessionInfo"
   ]
  },
  {
   "cell_type": "code",
   "execution_count": null,
   "metadata": {
    "ExecuteTime": {
     "end_time": "2019-06-12T08:48:55.390854Z",
     "start_time": "2019-06-12T08:48:52.736Z"
    }
   },
   "outputs": [],
   "source": [
    "sessionInfo()"
   ]
  },
  {
   "cell_type": "code",
   "execution_count": null,
   "metadata": {},
   "outputs": [],
   "source": []
  }
 ],
 "metadata": {
  "kernelspec": {
   "display_name": "R [conda env:py3_physeq]",
   "language": "R",
   "name": "conda-env-py3_physeq-r"
  },
  "language_info": {
   "codemirror_mode": "r",
   "file_extension": ".r",
   "mimetype": "text/x-r-source",
   "name": "R",
   "pygments_lexer": "r",
   "version": "3.4.1"
  },
  "notify_time": "30",
  "toc": {
   "base_numbering": 1,
   "nav_menu": {},
   "number_sections": true,
   "sideBar": true,
   "skip_h1_title": false,
   "title_cell": "Table of Contents",
   "title_sidebar": "Contents",
   "toc_cell": true,
   "toc_position": {
    "height": "calc(100% - 180px)",
    "left": "10px",
    "top": "150px",
    "width": "332px"
   },
   "toc_section_display": true,
   "toc_window_display": true
  }
 },
 "nbformat": 4,
 "nbformat_minor": 2
}
