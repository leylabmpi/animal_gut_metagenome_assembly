{
 "cells": [
  {
   "cell_type": "markdown",
   "metadata": {
    "toc": true
   },
   "source": [
    "<h1>Table of Contents<span class=\"tocSkip\"></span></h1>\n",
    "<div class=\"toc\"><ul class=\"toc-item\"><li><span><a href=\"#Goal\" data-toc-modified-id=\"Goal-1\"><span class=\"toc-item-num\">1&nbsp;&nbsp;</span>Goal</a></span></li><li><span><a href=\"#Var\" data-toc-modified-id=\"Var-2\"><span class=\"toc-item-num\">2&nbsp;&nbsp;</span>Var</a></span></li><li><span><a href=\"#Init\" data-toc-modified-id=\"Init-3\"><span class=\"toc-item-num\">3&nbsp;&nbsp;</span>Init</a></span></li><li><span><a href=\"#LLMGAG\" data-toc-modified-id=\"LLMGAG-4\"><span class=\"toc-item-num\">4&nbsp;&nbsp;</span>LLMGAG</a></span><ul class=\"toc-item\"><li><span><a href=\"#Setup\" data-toc-modified-id=\"Setup-4.1\"><span class=\"toc-item-num\">4.1&nbsp;&nbsp;</span>Setup</a></span><ul class=\"toc-item\"><li><span><a href=\"#Run\" data-toc-modified-id=\"Run-4.1.1\"><span class=\"toc-item-num\">4.1.1&nbsp;&nbsp;</span>Run</a></span></li></ul></li></ul></li><li><span><a href=\"#--WAITING--\" data-toc-modified-id=\"--WAITING---5\"><span class=\"toc-item-num\">5&nbsp;&nbsp;</span>--WAITING--</a></span></li><li><span><a href=\"#Summary\" data-toc-modified-id=\"Summary-6\"><span class=\"toc-item-num\">6&nbsp;&nbsp;</span>Summary</a></span><ul class=\"toc-item\"><li><span><a href=\"#Number-of-genes-assembled-&amp;-clustered\" data-toc-modified-id=\"Number-of-genes-assembled-&amp;-clustered-6.1\"><span class=\"toc-item-num\">6.1&nbsp;&nbsp;</span>Number of genes assembled &amp; clustered</a></span></li><li><span><a href=\"#Taxonomy\" data-toc-modified-id=\"Taxonomy-6.2\"><span class=\"toc-item-num\">6.2&nbsp;&nbsp;</span>Taxonomy</a></span><ul class=\"toc-item\"><li><span><a href=\"#Summary\" data-toc-modified-id=\"Summary-6.2.1\"><span class=\"toc-item-num\">6.2.1&nbsp;&nbsp;</span>Summary</a></span></li></ul></li><li><span><a href=\"#Annotations\" data-toc-modified-id=\"Annotations-6.3\"><span class=\"toc-item-num\">6.3&nbsp;&nbsp;</span>Annotations</a></span><ul class=\"toc-item\"><li><span><a href=\"#COG-functional-categories\" data-toc-modified-id=\"COG-functional-categories-6.3.1\"><span class=\"toc-item-num\">6.3.1&nbsp;&nbsp;</span>COG functional categories</a></span></li><li><span><a href=\"#Grouped-by-taxonomy\" data-toc-modified-id=\"Grouped-by-taxonomy-6.3.2\"><span class=\"toc-item-num\">6.3.2&nbsp;&nbsp;</span>Grouped by taxonomy</a></span></li></ul></li><li><span><a href=\"#humann2-db-genes\" data-toc-modified-id=\"humann2-db-genes-6.4\"><span class=\"toc-item-num\">6.4&nbsp;&nbsp;</span>humann2 db genes</a></span><ul class=\"toc-item\"><li><span><a href=\"#Summary\" data-toc-modified-id=\"Summary-6.4.1\"><span class=\"toc-item-num\">6.4.1&nbsp;&nbsp;</span>Summary</a></span><ul class=\"toc-item\"><li><span><a href=\"#By-taxonomy\" data-toc-modified-id=\"By-taxonomy-6.4.1.1\"><span class=\"toc-item-num\">6.4.1.1&nbsp;&nbsp;</span>By taxonomy</a></span></li></ul></li></ul></li></ul></li><li><span><a href=\"#sessionInfo\" data-toc-modified-id=\"sessionInfo-7\"><span class=\"toc-item-num\">7&nbsp;&nbsp;</span>sessionInfo</a></span></li></ul></div>"
   ]
  },
  {
   "cell_type": "markdown",
   "metadata": {},
   "source": [
    "# Goal\n",
    "\n",
    "* Run `LLMGAG` (metagenome assembly of genes) pipeline on animal gut microbiome metagenome study\n",
    "* study = PRJEB22765\n",
    "  * host = Macaque (Macaca fascicularis)"
   ]
  },
  {
   "cell_type": "markdown",
   "metadata": {},
   "source": [
    "# Var"
   ]
  },
  {
   "cell_type": "code",
   "execution_count": 1,
   "metadata": {
    "ExecuteTime": {
     "end_time": "2019-10-02T04:59:27.233185Z",
     "start_time": "2019-10-02T04:59:26.803Z"
    }
   },
   "outputs": [],
   "source": [
    "studyID = 'PRJEB22765'\n",
    "base_dir = file.path('/ebio/abt3_projects/Georg_animal_feces/data/metagenome/multi-study/BioProjects/',\n",
    "                     studyID)\n",
    "tmp_out_dir = file.path('/ebio/abt3_projects/databases_no-backup/animal_gut_metagenomes/multi-study_MG-asmbl/',\n",
    "                        studyID)\n",
    "\n",
    "work_dir = file.path(base_dir, 'LLMGAG')\n",
    "\n",
    "pipeline_dir = '/ebio/abt3_projects/methanogen_host_evo/bin/llmgag'\n",
    "threads = 24"
   ]
  },
  {
   "cell_type": "markdown",
   "metadata": {},
   "source": [
    "# Init"
   ]
  },
  {
   "cell_type": "code",
   "execution_count": 2,
   "metadata": {
    "ExecuteTime": {
     "end_time": "2019-10-02T04:59:30.896961Z",
     "start_time": "2019-10-02T04:59:29.678Z"
    }
   },
   "outputs": [
    {
     "name": "stderr",
     "output_type": "stream",
     "text": [
      "\n",
      "Attaching package: ‘dplyr’\n",
      "\n",
      "The following objects are masked from ‘package:stats’:\n",
      "\n",
      "    filter, lag\n",
      "\n",
      "The following objects are masked from ‘package:base’:\n",
      "\n",
      "    intersect, setdiff, setequal, union\n",
      "\n",
      "\n",
      "Attaching package: ‘data.table’\n",
      "\n",
      "The following objects are masked from ‘package:dplyr’:\n",
      "\n",
      "    between, first, last\n",
      "\n"
     ]
    }
   ],
   "source": [
    "library(dplyr)\n",
    "library(tidyr)\n",
    "library(ggplot2)\n",
    "library(data.table)\n",
    "set.seed(8304)\n",
    "\n",
    "source('/ebio/abt3_projects/Georg_animal_feces/code/misc_r_functions/init.R')"
   ]
  },
  {
   "cell_type": "code",
   "execution_count": 3,
   "metadata": {
    "ExecuteTime": {
     "end_time": "2019-10-02T04:59:31.192914Z",
     "start_time": "2019-10-02T04:59:30.606Z"
    }
   },
   "outputs": [
    {
     "name": "stdout",
     "output_type": "stream",
     "text": [
      "Directory already exists: /ebio/abt3_projects/Georg_animal_feces/data/metagenome/multi-study/BioProjects//PRJEB22765 \n",
      "Directory already exists: /ebio/abt3_projects/databases_no-backup/animal_gut_metagenomes/multi-study_MG-asmbl//PRJEB22765 \n",
      "Created directory: /ebio/abt3_projects/Georg_animal_feces/data/metagenome/multi-study/BioProjects//PRJEB22765/LLMGAG \n"
     ]
    }
   ],
   "source": [
    "make_dir(base_dir)\n",
    "make_dir(tmp_out_dir)\n",
    "make_dir(work_dir)"
   ]
  },
  {
   "cell_type": "markdown",
   "metadata": {},
   "source": [
    "# LLMGAG"
   ]
  },
  {
   "cell_type": "markdown",
   "metadata": {},
   "source": [
    "## Setup"
   ]
  },
  {
   "cell_type": "code",
   "execution_count": 4,
   "metadata": {
    "ExecuteTime": {
     "end_time": "2019-10-02T05:00:28.044324Z",
     "start_time": "2019-10-02T05:00:27.998Z"
    }
   },
   "outputs": [
    {
     "name": "stdout",
     "output_type": "stream",
     "text": [
      "#-- I/O --#\n",
      "# table with sample --> read_file information\n",
      "samples_file: /ebio/abt3_projects/Georg_animal_feces/data/metagenome/multi-study/BioProjects/PRJEB22765/LLMGQC/final/samples.txt\n",
      "\n",
      "# output location\n",
      "output_dir: /ebio/abt3_projects/Georg_animal_feces/data/metagenome/multi-study/BioProjects/PRJEB22765/LLMGAG/\n",
      "\n",
      "#-- database --#\n",
      "## eggnog mapper\n",
      "eggnog_diamond_db: /ebio/abt3_projects/databases_no-backup/Eggnog/v2/eggnog_proteins.dmnd\n",
      "eggnog_db: /ebio/abt3_projects/databases_no-backup/Eggnog/v2/eggnog.db\n",
      "## mmseqs taxonomy\n",
      "mmseqs_tax_db: /ebio/abt3_projects/databases_no-backup/uniclust/uniclust50/uniclust50_2018_08_consensus\n",
      "## checkM\n",
      "checkM_data: /ebio/abt3_projects/databases_no-backup/checkM/\n",
      "## sourmash\n",
      "sourmash_db: /ebio/abt3_projects/databases_no-backup/sourmash/genbank-k31.sbt.json\n",
      "sourmash_lca_db: /ebio/abt3_projects/databases_no-backup/sourmash/genbank-k31.lca.json.gz\n",
      "# humann2 diamond\n",
      "humann2_diamond_db: /ebio/abt3_projects/databases_no-backup/humann2/uniref50/uniref50_annotated.1.1.dmnd\n",
      "# empanada\n",
      "empanada_kegg_db: /ebio/abt3_projects/databases_no-backup/empanada/KOvsPATHWAY_BACTERIAL_KEGG_2013_07_15.tab\n",
      "empanada_ptwy_db: /ebio/abt3_projects/databases_no-backup/empanada/map_kegg-pwy_name.txt.gz\n",
      "\n",
      "#-- main params --#\n",
      "## co-assemble all samples together or each sample individually?\n",
      "all_sample_coassembly: False\n",
      "\n",
      "#-- software parameters --#\n",
      "# Notes:\n",
      "## Use \"Skip\" to skip any step. If no params, just use \"\"\n",
      "## Note: You must skip either metacompass_megahit or metacompass_metaspades (or both)\n",
      "params:\n",
      "  # reads\n",
      "  subsample_reads: 20000000\n",
      "  fastqc_on_raw: \"\"\n",
      "  # assembly\n",
      "  plass: --num-iterations 12 --min-seq-id 0.9\n",
      "  # gene clustering\n",
      "  linclust: --min-seq-id 0.90 -c 0.9 --kmer-per-seq 50\n",
      "  # annotation\n",
      "  eggnog_mapper_jobs: 20    # number of parallel batched jobs \n",
      "  eggnog_mapper: \"\"\n",
      "  eggnog_mapper_annot: \"\"\n",
      "  # pathways\n",
      "  empanada: --abundance_threshold 0.0 \n",
      "  # taxonomy\n",
      "  mmseqs_tax_jobs: 20       # number of parallel batched jobs\n",
      "  mmseqs_tax: -e 1e-5 --max-seqs 200 --lca-ranks \"kingdom:phylum:class:order:family:genus:species\"\n",
      "  # mapping\n",
      "  mmseqs_map: Skip #-s 2 -c 0.9 --cov-mode 2\n",
      "  mmseqs_blast_filter: --qcov 0.95 --seq-id 0.95 --e-value 1e-20\n",
      "  mmseqs_blast_to_bam: --mapq 30\n",
      "  merge_tables: --no-dask    # dask is currently broken\n",
      "  # formatting for humann2 db\n",
      "  diamond: --evalue 1e-5 --sensitive\n",
      "  diamond_db_to_mem: True\n",
      "\n",
      "#-- snakemake pipeline --#\n",
      "pipeline:\n",
      "  snakemake_folder: ./\n",
      "  script_folder: bin/scripts/\n",
      "  temp_folder: /tmp/global/\n"
     ]
    }
   ],
   "source": [
    "cat_file(file.path(work_dir, 'config.yaml'))"
   ]
  },
  {
   "cell_type": "markdown",
   "metadata": {},
   "source": [
    "### Run"
   ]
  },
  {
   "cell_type": "markdown",
   "metadata": {},
   "source": [
    "```{bash}\n",
    "(snakemake_dev) @ rick:/ebio/abt3_projects/methanogen_host_evo/bin/llmgag\n",
    "$ screen -L -S llmgag-PRJEB22765 ./snakemake_sge.sh /ebio/abt3_projects/Georg_animal_feces/data/metagenome/multi-study/BioProjects/PRJEB22765/LLMGAG/config.yaml cluster.json /ebio/abt3_projects/Georg_animal_feces/data/metagenome/multi-study/BioProjects/PRJEB22765/LLMGAG/SGE_log 24\n",
    "```"
   ]
  },
  {
   "cell_type": "code",
   "execution_count": 5,
   "metadata": {
    "ExecuteTime": {
     "end_time": "2019-10-02T05:00:52.833214Z",
     "start_time": "2019-10-02T05:00:52.686Z"
    }
   },
   "outputs": [
    {
     "name": "stdout",
     "output_type": "stream",
     "text": [
      "LLMGAG\n",
      "======\n",
      "\n",
      "Ley Lab Metagenome Assembly of Genes (LLMGAG)\n",
      "\n",
      "* Version: 0.1.3\n",
      "* Authors:\n",
      "  * Nick Youngblut <nyoungb2@gmail.com>\n",
      "* Maintainers:\n",
      "  * Nick Youngblut <nyoungb2@gmail.com>\n",
      "\n",
      "--- conda envs ---\n",
      "==> /ebio/abt3_projects/methanogen_host_evo/bin/llmgag/bin/envs/annotate.yaml <==\n",
      "channels: !!python/tuple\n",
      "- bioconda\n",
      "dependencies:\n",
      "- pigz\n",
      "- bioconda::fasta-splitter\n",
      "- bioconda::eggnog-mapper\n",
      "\n",
      "==> /ebio/abt3_projects/methanogen_host_evo/bin/llmgag/bin/envs/checkm.yaml <==\n",
      "channels: !!python/tuple\n",
      "- bioconda\n",
      "dependencies:\n",
      "- python=2\n",
      "- pigz\n",
      "- bioconda::prodigal\n",
      "- bioconda::pplacer\n",
      "- bioconda::checkm-genome\n",
      "\n",
      "==> /ebio/abt3_projects/methanogen_host_evo/bin/llmgag/bin/envs/das_tool.yaml <==\n",
      "channels: !!python/tuple\n",
      "- r\n",
      "- bioconda\n",
      "dependencies:\n",
      "- pigz\n",
      "- ruby\n",
      "- r::r-base\n",
      "- r::r-data.table\n",
      "- r::r-domc\n",
      "- r::r-ggplot2\n",
      "- bioconda::pullseq\n",
      "- bioconda::prodigal\n",
      "- bioconda::blast\n",
      "- bioconda::diamond\n",
      "==> /ebio/abt3_projects/methanogen_host_evo/bin/llmgag/bin/envs/dask.yaml <==\n",
      "channels: !!python/tuple\n",
      "- conda-forge\n",
      "dependencies:\n",
      "- conda-forge::dask=0.18.1\n",
      "\n",
      "==> /ebio/abt3_projects/methanogen_host_evo/bin/llmgag/bin/envs/empanda.yaml <==\n",
      "channels: !!python/tuple\n",
      "- bioconda\n",
      "- conda-forge\n",
      "dependencies:\n",
      "- pigz\n",
      "- conda-forge::numpy=1.15\n",
      "- conda-forge::pandas\n",
      "- conda-forge::r-argparse\n",
      "- conda-forge::r-dplyr\n",
      "- conda-forge::r-tidyr\n",
      "- conda-forge::r-stringr\n",
      "- conda-forge::r-data.table\n",
      "- pip:\n",
      "  - empanada\n",
      "\n",
      "==> /ebio/abt3_projects/methanogen_host_evo/bin/llmgag/bin/envs/hadley.yaml <==\n",
      "channels: !!python/tuple\n",
      "- conda-forge\n",
      "dependencies:\n",
      "- conda-forge::r-ape\n",
      "- conda-forge::r-dplyr\n",
      "- conda-forge::r-tidyr\n",
      "- conda-forge::r-ggplot2\n",
      "\n",
      "==> /ebio/abt3_projects/methanogen_host_evo/bin/llmgag/bin/envs/humann2.yaml <==\n",
      "channels: !!python/tuple\n",
      "- bioconda\n",
      "dependencies:\n",
      "- pigz\n",
      "- bioconda::prodigal\n",
      "- bioconda::diamond=0.8.36\n",
      "\n",
      "==> /ebio/abt3_projects/methanogen_host_evo/bin/llmgag/bin/envs/metabat2.yaml <==\n",
      "channels: !!python/tuple\n",
      "- BioBuilds\n",
      "- bioconda\n",
      "dependencies:\n",
      "- pigz\n",
      "- python=2.7\n",
      "- BioBuilds::boost>=1.55.0\n",
      "- scons>=2.1.0\n",
      "- zlib>=1.2.4\n",
      "- BioBuilds::binutils>=2.2.2\n",
      "\n",
      "==> /ebio/abt3_projects/methanogen_host_evo/bin/llmgag/bin/envs/multiqc.yaml <==\n",
      "channels: !!python/tuple\n",
      "- bioconda\n",
      "dependencies:\n",
      "- bioconda::fastqc\n",
      "- bioconda::multiqc\n",
      "\n",
      "==> /ebio/abt3_projects/methanogen_host_evo/bin/llmgag/bin/envs/plass.yaml <==\n",
      "channels: !!python/tuple\n",
      "- bioconda\n",
      "dependencies:\n",
      "- pigz\n",
      "- bioconda::seqtk\n",
      "- bioconda::samtools\n",
      "- bioconda::mmseqs2\n",
      "- bioconda::plass\n",
      "\n",
      "==> /ebio/abt3_projects/methanogen_host_evo/bin/llmgag/bin/envs/sourmash.yaml <==\n",
      "channels: !!python/tuple\n",
      "- bioconda\n",
      "dependencies:\n",
      "- bioconda::sourmash=2.0.0a9\n",
      "\n",
      "==> /ebio/abt3_projects/methanogen_host_evo/bin/llmgag/bin/envs/vamb.yaml <==\n",
      "channels: !!python/tuple\n",
      "- bioconda\n",
      "- conda-forge\n",
      "dependencies:\n",
      "- pigz\n",
      "- pytorch\n",
      "- numpy\n",
      "- pysam"
     ]
    }
   ],
   "source": [
    "pipelineInfo(pipeline_dir)"
   ]
  },
  {
   "cell_type": "markdown",
   "metadata": {},
   "source": [
    "# Summary"
   ]
  },
  {
   "cell_type": "markdown",
   "metadata": {},
   "source": [
    "## Number of genes assembled & clustered"
   ]
  },
  {
   "cell_type": "code",
   "execution_count": 6,
   "metadata": {
    "ExecuteTime": {
     "end_time": "2019-10-03T08:49:32.364189Z",
     "start_time": "2019-10-03T08:49:32.239Z"
    }
   },
   "outputs": [
    {
     "name": "stdout",
     "output_type": "stream",
     "text": [
      "Number of assembled sequences: 184470 \n"
     ]
    }
   ],
   "source": [
    "F = file.path(work_dir, 'assembly', 'plass', 'genes.faa')\n",
    "cmd = glue::glue('grep -c \">\" {fasta}', fasta=F)\n",
    "n_raw_seqs = system(cmd, intern=TRUE)\n",
    "cat('Number of assembled sequences:', n_raw_seqs, '\\n')"
   ]
  },
  {
   "cell_type": "code",
   "execution_count": 7,
   "metadata": {
    "ExecuteTime": {
     "end_time": "2019-10-03T08:49:33.514221Z",
     "start_time": "2019-10-03T08:49:33.430Z"
    }
   },
   "outputs": [
    {
     "name": "stdout",
     "output_type": "stream",
     "text": [
      "Number of cluster rep sequences: 150815 \n"
     ]
    }
   ],
   "source": [
    "F = file.path(work_dir, 'cluster', 'linclust', 'clusters_rep-seqs.faa')\n",
    "cmd = glue::glue('grep -c \">\" {fasta}', fasta=F)\n",
    "n_rep_seqs = system(cmd, intern=TRUE)\n",
    "cat('Number of cluster rep sequences:', n_rep_seqs, '\\n')"
   ]
  },
  {
   "cell_type": "code",
   "execution_count": 8,
   "metadata": {
    "ExecuteTime": {
     "end_time": "2019-10-03T08:49:33.861910Z",
     "start_time": "2019-10-03T08:49:33.798Z"
    }
   },
   "outputs": [
    {
     "name": "stdout",
     "output_type": "stream",
     "text": [
      "Number of humann2_db-formatted seqs: 4029 \n"
     ]
    }
   ],
   "source": [
    "F = file.path(work_dir, 'humann2_db', 'clusters_rep-seqs.faa.gz')\n",
    "cmd = glue::glue('gunzip -c {fasta} | grep -c \">\"', fasta=F)\n",
    "n_h2_seqs = system(cmd, intern=TRUE)\n",
    "cat('Number of humann2_db-formatted seqs:', n_h2_seqs, '\\n')"
   ]
  },
  {
   "cell_type": "markdown",
   "metadata": {},
   "source": [
    "## Taxonomy"
   ]
  },
  {
   "cell_type": "code",
   "execution_count": 9,
   "metadata": {
    "ExecuteTime": {
     "end_time": "2019-10-03T08:49:38.764776Z",
     "start_time": "2019-10-03T08:49:36.112Z"
    }
   },
   "outputs": [
    {
     "name": "stderr",
     "output_type": "stream",
     "text": [
      "Warning message:\n",
      "“Expected 7 pieces. Additional pieces discarded in 17653 rows [4, 8, 9, 17, 20, 23, 26, 36, 49, 51, 64, 67, 75, 85, 98, 105, 106, 108, 113, 130, ...].”Warning message:\n",
      "“Expected 7 pieces. Missing pieces filled with `NA` in 76474 rows [1, 3, 5, 6, 7, 10, 15, 19, 27, 28, 29, 30, 31, 33, 34, 35, 37, 38, 39, 43, ...].”"
     ]
    },
    {
     "name": "stdout",
     "output_type": "stream",
     "text": [
      "[1] 150815     11\n"
     ]
    },
    {
     "data": {
      "text/html": [
       "<table>\n",
       "<thead><tr><th scope=col>seqID</th><th scope=col>taxID</th><th scope=col>rank</th><th scope=col>spp</th><th scope=col>Domain</th><th scope=col>Phylum</th><th scope=col>Class</th><th scope=col>Order</th><th scope=col>Family</th><th scope=col>Genus</th><th scope=col>Species</th></tr></thead>\n",
       "<tbody>\n",
       "\t<tr><td>a35dcb8223c64dc2b8cb7e7cec5ba76b</td><td>   0                            </td><td>no rank                         </td><td>unclassified                    </td><td>                                </td><td>NA                              </td><td>NA                              </td><td>NA                              </td><td>NA                              </td><td>NA                              </td><td>NA                              </td></tr>\n",
       "\t<tr><td>66f62f9b7e58431d8c5cc41d3012cf2d</td><td>5722                            </td><td>species                         </td><td>Trichomonas vaginalis           </td><td>unknown                         </td><td>unknown                         </td><td>unknown                         </td><td>Trichomonadida                  </td><td>Trichomonadidae                 </td><td>Trichomonas                     </td><td>Trichomonas vaginalis           </td></tr>\n",
       "\t<tr><td>156386d078d240a68d5bd2e73e6aca3f</td><td>   0                            </td><td>no rank                         </td><td>unclassified                    </td><td>                                </td><td>NA                              </td><td>NA                              </td><td>NA                              </td><td>NA                              </td><td>NA                              </td><td>NA                              </td></tr>\n",
       "</tbody>\n",
       "</table>\n"
      ],
      "text/latex": [
       "\\begin{tabular}{r|lllllllllll}\n",
       " seqID & taxID & rank & spp & Domain & Phylum & Class & Order & Family & Genus & Species\\\\\n",
       "\\hline\n",
       "\t a35dcb8223c64dc2b8cb7e7cec5ba76b &    0                             & no rank                          & unclassified                     &                                  & NA                               & NA                               & NA                               & NA                               & NA                               & NA                              \\\\\n",
       "\t 66f62f9b7e58431d8c5cc41d3012cf2d & 5722                             & species                          & Trichomonas vaginalis            & unknown                          & unknown                          & unknown                          & Trichomonadida                   & Trichomonadidae                  & Trichomonas                      & Trichomonas vaginalis           \\\\\n",
       "\t 156386d078d240a68d5bd2e73e6aca3f &    0                             & no rank                          & unclassified                     &                                  & NA                               & NA                               & NA                               & NA                               & NA                               & NA                              \\\\\n",
       "\\end{tabular}\n"
      ],
      "text/markdown": [
       "\n",
       "seqID | taxID | rank | spp | Domain | Phylum | Class | Order | Family | Genus | Species | \n",
       "|---|---|---|\n",
       "| a35dcb8223c64dc2b8cb7e7cec5ba76b |    0                             | no rank                          | unclassified                     |                                  | NA                               | NA                               | NA                               | NA                               | NA                               | NA                               | \n",
       "| 66f62f9b7e58431d8c5cc41d3012cf2d | 5722                             | species                          | Trichomonas vaginalis            | unknown                          | unknown                          | unknown                          | Trichomonadida                   | Trichomonadidae                  | Trichomonas                      | Trichomonas vaginalis            | \n",
       "| 156386d078d240a68d5bd2e73e6aca3f |    0                             | no rank                          | unclassified                     |                                  | NA                               | NA                               | NA                               | NA                               | NA                               | NA                               | \n",
       "\n",
       "\n"
      ],
      "text/plain": [
       "  seqID                            taxID rank    spp                   Domain \n",
       "1 a35dcb8223c64dc2b8cb7e7cec5ba76b    0  no rank unclassified                 \n",
       "2 66f62f9b7e58431d8c5cc41d3012cf2d 5722  species Trichomonas vaginalis unknown\n",
       "3 156386d078d240a68d5bd2e73e6aca3f    0  no rank unclassified                 \n",
       "  Phylum  Class   Order          Family          Genus      \n",
       "1 NA      NA      NA             NA              NA         \n",
       "2 unknown unknown Trichomonadida Trichomonadidae Trichomonas\n",
       "3 NA      NA      NA             NA              NA         \n",
       "  Species              \n",
       "1 NA                   \n",
       "2 Trichomonas vaginalis\n",
       "3 NA                   "
      ]
     },
     "metadata": {},
     "output_type": "display_data"
    }
   ],
   "source": [
    "# reading in taxonomy table\n",
    "## WARING: slow\n",
    "F = file.path(work_dir, 'taxonomy', 'clusters_rep-seqs_tax_db.tsv.gz')\n",
    "cmd = glue::glue('gunzip -c {file}', file=F) \n",
    "coln = c('seqID', 'taxID', 'rank', 'spp', 'lineage')\n",
    "levs = c('Domain', 'Phylum', 'Class', 'Order', 'Family', 'Genus', 'Species')\n",
    "tax = fread(cmd, sep='\\t', header=FALSE, col.names=coln, fill=TRUE) %>%\n",
    "    separate(lineage, levs, sep=':')\n",
    "tax %>% dfhead"
   ]
  },
  {
   "cell_type": "code",
   "execution_count": 10,
   "metadata": {
    "ExecuteTime": {
     "end_time": "2019-10-03T08:49:44.925675Z",
     "start_time": "2019-10-03T08:49:44.861Z"
    }
   },
   "outputs": [
    {
     "name": "stdout",
     "output_type": "stream",
     "text": [
      "[1] 150815\n"
     ]
    }
   ],
   "source": [
    "# number of sequences\n",
    "tax$seqID %>% unique %>% length %>% print"
   ]
  },
  {
   "cell_type": "code",
   "execution_count": 11,
   "metadata": {
    "ExecuteTime": {
     "end_time": "2019-10-03T08:49:45.353880Z",
     "start_time": "2019-10-03T08:49:45.252Z"
    }
   },
   "outputs": [
    {
     "name": "stdout",
     "output_type": "stream",
     "text": [
      ".\n",
      "        class        family         forma         genus       kingdom \n",
      "           37            82             3           150             2 \n",
      "      no rank         order        phylum       species species group \n",
      "        92467           303           295         56941             1 \n",
      "     subgenus     subphylum    subspecies  superkingdom      varietas \n",
      "            1             3           163           355            12 \n"
     ]
    }
   ],
   "source": [
    "# which ranks found?\n",
    "tax$rank %>% table %>% print"
   ]
  },
  {
   "cell_type": "code",
   "execution_count": 12,
   "metadata": {
    "ExecuteTime": {
     "end_time": "2019-10-03T08:49:50.561765Z",
     "start_time": "2019-10-03T08:49:46.686Z"
    }
   },
   "outputs": [
    {
     "data": {
      "text/plain": [
       "   Min. 1st Qu.  Median    Mean 3rd Qu.    Max. \n",
       "      1       1       1       1       1       1 "
      ]
     },
     "metadata": {},
     "output_type": "display_data"
    }
   ],
   "source": [
    "# number of classifications per seqID\n",
    "tax %>%\n",
    "    group_by(seqID) %>%\n",
    "    summarize(n = n()) %>%\n",
    "    ungroup() %>%\n",
    "    .$n %>% summary"
   ]
  },
  {
   "cell_type": "markdown",
   "metadata": {},
   "source": [
    "### Summary"
   ]
  },
  {
   "cell_type": "code",
   "execution_count": 13,
   "metadata": {
    "ExecuteTime": {
     "end_time": "2019-10-03T08:49:50.914759Z",
     "start_time": "2019-10-03T08:49:49.373Z"
    }
   },
   "outputs": [
    {
     "name": "stdout",
     "output_type": "stream",
     "text": [
      "[1] 139   3\n"
     ]
    },
    {
     "data": {
      "text/html": [
       "<table>\n",
       "<thead><tr><th scope=col>Domain</th><th scope=col>Phylum</th><th scope=col>n</th></tr></thead>\n",
       "<tbody>\n",
       "\t<tr><td>Fungi          </td><td>Ascomycota     </td><td>31             </td></tr>\n",
       "\t<tr><td>Fungi          </td><td>Basidiomycota  </td><td> 9             </td></tr>\n",
       "\t<tr><td>Fungi          </td><td>Chytridiomycota</td><td>60             </td></tr>\n",
       "</tbody>\n",
       "</table>\n"
      ],
      "text/latex": [
       "\\begin{tabular}{r|lll}\n",
       " Domain & Phylum & n\\\\\n",
       "\\hline\n",
       "\t Fungi           & Ascomycota      & 31             \\\\\n",
       "\t Fungi           & Basidiomycota   &  9             \\\\\n",
       "\t Fungi           & Chytridiomycota & 60             \\\\\n",
       "\\end{tabular}\n"
      ],
      "text/markdown": [
       "\n",
       "Domain | Phylum | n | \n",
       "|---|---|---|\n",
       "| Fungi           | Ascomycota      | 31              | \n",
       "| Fungi           | Basidiomycota   |  9              | \n",
       "| Fungi           | Chytridiomycota | 60              | \n",
       "\n",
       "\n"
      ],
      "text/plain": [
       "  Domain Phylum          n \n",
       "1 Fungi  Ascomycota      31\n",
       "2 Fungi  Basidiomycota    9\n",
       "3 Fungi  Chytridiomycota 60"
      ]
     },
     "metadata": {},
     "output_type": "display_data"
    }
   ],
   "source": [
    "# summarizing taxonomy\n",
    "tax_s = tax %>%\n",
    "    filter(Domain != '',\n",
    "           Phylum != '') %>%\n",
    "    group_by(Domain, Phylum) %>%\n",
    "    summarize(n = seqID %>% unique %>% length) %>%\n",
    "    ungroup() \n",
    " \n",
    "tax_s %>% dfhead"
   ]
  },
  {
   "cell_type": "code",
   "execution_count": 14,
   "metadata": {
    "ExecuteTime": {
     "end_time": "2019-10-03T08:49:53.732015Z",
     "start_time": "2019-10-03T08:49:50.869Z"
    },
    "scrolled": false
   },
   "outputs": [
    {
     "data": {
      "image/png": "[encoded data removed]",
      "text/plain": [
       "plot without title"
      ]
     },
     "metadata": {},
     "output_type": "display_data"
    }
   ],
   "source": [
    "# plotting by phylum\n",
    "p = tax_s %>%\n",
    "    filter(n > 10) %>%\n",
    "    mutate(Phylum = Phylum %>% reorder(n)) %>%\n",
    "    ggplot(aes(Phylum, n, fill=Domain)) +\n",
    "    geom_bar(stat='identity', position='dodge') +\n",
    "    scale_y_log10() +\n",
    "    labs(y = 'No. of genes') +\n",
    "    coord_flip() +\n",
    "    theme_bw() +\n",
    "    theme(\n",
    "        axis.text.y = element_text(size=7)\n",
    "    )\n",
    "\n",
    "dims(5,6)\n",
    "plot(p)"
   ]
  },
  {
   "cell_type": "code",
   "execution_count": 15,
   "metadata": {
    "ExecuteTime": {
     "end_time": "2019-10-03T08:49:56.286226Z",
     "start_time": "2019-10-03T08:49:56.115Z"
    }
   },
   "outputs": [
    {
     "data": {
      "text/html": [
       "<table>\n",
       "<thead><tr><th scope=col>Domain</th><th scope=col>Phylum</th><th scope=col>n</th></tr></thead>\n",
       "<tbody>\n",
       "\t<tr><td>unknown                   </td><td>Bacteroidetes             </td><td>31765                     </td></tr>\n",
       "\t<tr><td>unknown                   </td><td>Firmicutes                </td><td>28908                     </td></tr>\n",
       "\t<tr><td>unknown                   </td><td>Spirochaetes              </td><td> 2638                     </td></tr>\n",
       "\t<tr><td>unknown                   </td><td>unknown                   </td><td> 2557                     </td></tr>\n",
       "\t<tr><td>unknown                   </td><td>Proteobacteria            </td><td> 2532                     </td></tr>\n",
       "\t<tr><td>unknown                   </td><td>Tenericutes               </td><td>  748                     </td></tr>\n",
       "\t<tr><td>unknown                   </td><td>Actinobacteria            </td><td>  605                     </td></tr>\n",
       "\t<tr><td>unknown                   </td><td>Candidatus Melainabacteria</td><td>  588                     </td></tr>\n",
       "\t<tr><td>unknown                   </td><td>Chlamydiae                </td><td>  477                     </td></tr>\n",
       "\t<tr><td>Viridiplantae             </td><td>Streptophyta              </td><td>  383                     </td></tr>\n",
       "\t<tr><td>uc_Bacteria               </td><td>uc_Bacteria               </td><td>  345                     </td></tr>\n",
       "\t<tr><td>unknown                   </td><td>Fibrobacteres             </td><td>  269                     </td></tr>\n",
       "\t<tr><td>unknown                   </td><td>Verrucomicrobia           </td><td>  236                     </td></tr>\n",
       "\t<tr><td>unknown                   </td><td>Euryarchaeota             </td><td>  223                     </td></tr>\n",
       "\t<tr><td>Metazoa                   </td><td>Arthropoda                </td><td>  195                     </td></tr>\n",
       "\t<tr><td>unknown                   </td><td>Fusobacteria              </td><td>  192                     </td></tr>\n",
       "\t<tr><td>unknown                   </td><td>Bacillariophyta           </td><td>  142                     </td></tr>\n",
       "\t<tr><td>unknown                   </td><td>Chloroflexi               </td><td>   97                     </td></tr>\n",
       "\t<tr><td>unknown                   </td><td>Planctomycetes            </td><td>   97                     </td></tr>\n",
       "\t<tr><td>unknown                   </td><td>Lentisphaerae             </td><td>   93                     </td></tr>\n",
       "\t<tr><td>unknown                   </td><td>Acidobacteria             </td><td>   80                     </td></tr>\n",
       "\t<tr><td>unknown                   </td><td>Cyanobacteria             </td><td>   79                     </td></tr>\n",
       "\t<tr><td>Fungi                     </td><td>Chytridiomycota           </td><td>   60                     </td></tr>\n",
       "\t<tr><td>unknown                   </td><td>Ignavibacteriae           </td><td>   58                     </td></tr>\n",
       "\t<tr><td>Metazoa                   </td><td>Nematoda                  </td><td>   54                     </td></tr>\n",
       "\t<tr><td>unknown                   </td><td>Gemmatimonadetes          </td><td>   43                     </td></tr>\n",
       "\t<tr><td>unknown                   </td><td>Elusimicrobia             </td><td>   42                     </td></tr>\n",
       "\t<tr><td>unknown                   </td><td>Deferribacteres           </td><td>   41                     </td></tr>\n",
       "\t<tr><td>unknown                   </td><td>Synergistetes             </td><td>   39                     </td></tr>\n",
       "\t<tr><td>unknown                   </td><td>Thermotogae               </td><td>   36                     </td></tr>\n",
       "</tbody>\n",
       "</table>\n"
      ],
      "text/latex": [
       "\\begin{tabular}{r|lll}\n",
       " Domain & Phylum & n\\\\\n",
       "\\hline\n",
       "\t unknown                    & Bacteroidetes              & 31765                     \\\\\n",
       "\t unknown                    & Firmicutes                 & 28908                     \\\\\n",
       "\t unknown                    & Spirochaetes               &  2638                     \\\\\n",
       "\t unknown                    & unknown                    &  2557                     \\\\\n",
       "\t unknown                    & Proteobacteria             &  2532                     \\\\\n",
       "\t unknown                    & Tenericutes                &   748                     \\\\\n",
       "\t unknown                    & Actinobacteria             &   605                     \\\\\n",
       "\t unknown                    & Candidatus Melainabacteria &   588                     \\\\\n",
       "\t unknown                    & Chlamydiae                 &   477                     \\\\\n",
       "\t Viridiplantae              & Streptophyta               &   383                     \\\\\n",
       "\t uc\\_Bacteria                & uc\\_Bacteria                &   345                       \\\\\n",
       "\t unknown                    & Fibrobacteres              &   269                     \\\\\n",
       "\t unknown                    & Verrucomicrobia            &   236                     \\\\\n",
       "\t unknown                    & Euryarchaeota              &   223                     \\\\\n",
       "\t Metazoa                    & Arthropoda                 &   195                     \\\\\n",
       "\t unknown                    & Fusobacteria               &   192                     \\\\\n",
       "\t unknown                    & Bacillariophyta            &   142                     \\\\\n",
       "\t unknown                    & Chloroflexi                &    97                     \\\\\n",
       "\t unknown                    & Planctomycetes             &    97                     \\\\\n",
       "\t unknown                    & Lentisphaerae              &    93                     \\\\\n",
       "\t unknown                    & Acidobacteria              &    80                     \\\\\n",
       "\t unknown                    & Cyanobacteria              &    79                     \\\\\n",
       "\t Fungi                      & Chytridiomycota            &    60                     \\\\\n",
       "\t unknown                    & Ignavibacteriae            &    58                     \\\\\n",
       "\t Metazoa                    & Nematoda                   &    54                     \\\\\n",
       "\t unknown                    & Gemmatimonadetes           &    43                     \\\\\n",
       "\t unknown                    & Elusimicrobia              &    42                     \\\\\n",
       "\t unknown                    & Deferribacteres            &    41                     \\\\\n",
       "\t unknown                    & Synergistetes              &    39                     \\\\\n",
       "\t unknown                    & Thermotogae                &    36                     \\\\\n",
       "\\end{tabular}\n"
      ],
      "text/markdown": [
       "\n",
       "Domain | Phylum | n | \n",
       "|---|---|---|---|---|---|---|---|---|---|---|---|---|---|---|---|---|---|---|---|---|---|---|---|---|---|---|---|---|---|\n",
       "| unknown                    | Bacteroidetes              | 31765                      | \n",
       "| unknown                    | Firmicutes                 | 28908                      | \n",
       "| unknown                    | Spirochaetes               |  2638                      | \n",
       "| unknown                    | unknown                    |  2557                      | \n",
       "| unknown                    | Proteobacteria             |  2532                      | \n",
       "| unknown                    | Tenericutes                |   748                      | \n",
       "| unknown                    | Actinobacteria             |   605                      | \n",
       "| unknown                    | Candidatus Melainabacteria |   588                      | \n",
       "| unknown                    | Chlamydiae                 |   477                      | \n",
       "| Viridiplantae              | Streptophyta               |   383                      | \n",
       "| uc_Bacteria                | uc_Bacteria                |   345                      | \n",
       "| unknown                    | Fibrobacteres              |   269                      | \n",
       "| unknown                    | Verrucomicrobia            |   236                      | \n",
       "| unknown                    | Euryarchaeota              |   223                      | \n",
       "| Metazoa                    | Arthropoda                 |   195                      | \n",
       "| unknown                    | Fusobacteria               |   192                      | \n",
       "| unknown                    | Bacillariophyta            |   142                      | \n",
       "| unknown                    | Chloroflexi                |    97                      | \n",
       "| unknown                    | Planctomycetes             |    97                      | \n",
       "| unknown                    | Lentisphaerae              |    93                      | \n",
       "| unknown                    | Acidobacteria              |    80                      | \n",
       "| unknown                    | Cyanobacteria              |    79                      | \n",
       "| Fungi                      | Chytridiomycota            |    60                      | \n",
       "| unknown                    | Ignavibacteriae            |    58                      | \n",
       "| Metazoa                    | Nematoda                   |    54                      | \n",
       "| unknown                    | Gemmatimonadetes           |    43                      | \n",
       "| unknown                    | Elusimicrobia              |    42                      | \n",
       "| unknown                    | Deferribacteres            |    41                      | \n",
       "| unknown                    | Synergistetes              |    39                      | \n",
       "| unknown                    | Thermotogae                |    36                      | \n",
       "\n",
       "\n"
      ],
      "text/plain": [
       "   Domain        Phylum                     n    \n",
       "1  unknown       Bacteroidetes              31765\n",
       "2  unknown       Firmicutes                 28908\n",
       "3  unknown       Spirochaetes                2638\n",
       "4  unknown       unknown                     2557\n",
       "5  unknown       Proteobacteria              2532\n",
       "6  unknown       Tenericutes                  748\n",
       "7  unknown       Actinobacteria               605\n",
       "8  unknown       Candidatus Melainabacteria   588\n",
       "9  unknown       Chlamydiae                   477\n",
       "10 Viridiplantae Streptophyta                 383\n",
       "11 uc_Bacteria   uc_Bacteria                  345\n",
       "12 unknown       Fibrobacteres                269\n",
       "13 unknown       Verrucomicrobia              236\n",
       "14 unknown       Euryarchaeota                223\n",
       "15 Metazoa       Arthropoda                   195\n",
       "16 unknown       Fusobacteria                 192\n",
       "17 unknown       Bacillariophyta              142\n",
       "18 unknown       Chloroflexi                   97\n",
       "19 unknown       Planctomycetes                97\n",
       "20 unknown       Lentisphaerae                 93\n",
       "21 unknown       Acidobacteria                 80\n",
       "22 unknown       Cyanobacteria                 79\n",
       "23 Fungi         Chytridiomycota               60\n",
       "24 unknown       Ignavibacteriae               58\n",
       "25 Metazoa       Nematoda                      54\n",
       "26 unknown       Gemmatimonadetes              43\n",
       "27 unknown       Elusimicrobia                 42\n",
       "28 unknown       Deferribacteres               41\n",
       "29 unknown       Synergistetes                 39\n",
       "30 unknown       Thermotogae                   36"
      ]
     },
     "metadata": {},
     "output_type": "display_data"
    }
   ],
   "source": [
    "# top phyla\n",
    "tax_s %>% \n",
    "    arrange(-n) %>%\n",
    "    head(n=30)"
   ]
  },
  {
   "cell_type": "code",
   "execution_count": 16,
   "metadata": {
    "ExecuteTime": {
     "end_time": "2019-10-03T08:49:57.186219Z",
     "start_time": "2019-10-03T08:49:56.851Z"
    }
   },
   "outputs": [
    {
     "name": "stdout",
     "output_type": "stream",
     "text": [
      "[1] 256   4\n"
     ]
    },
    {
     "data": {
      "text/html": [
       "<table>\n",
       "<thead><tr><th scope=col>Domain</th><th scope=col>Phylum</th><th scope=col>Class</th><th scope=col>n</th></tr></thead>\n",
       "<tbody>\n",
       "\t<tr><td>Fungi          </td><td>Ascomycota     </td><td>Dothideomycetes</td><td>4              </td></tr>\n",
       "\t<tr><td>Fungi          </td><td>Ascomycota     </td><td>Eurotiomycetes </td><td>7              </td></tr>\n",
       "\t<tr><td>Fungi          </td><td>Ascomycota     </td><td>Leotiomycetes  </td><td>4              </td></tr>\n",
       "</tbody>\n",
       "</table>\n"
      ],
      "text/latex": [
       "\\begin{tabular}{r|llll}\n",
       " Domain & Phylum & Class & n\\\\\n",
       "\\hline\n",
       "\t Fungi           & Ascomycota      & Dothideomycetes & 4              \\\\\n",
       "\t Fungi           & Ascomycota      & Eurotiomycetes  & 7              \\\\\n",
       "\t Fungi           & Ascomycota      & Leotiomycetes   & 4              \\\\\n",
       "\\end{tabular}\n"
      ],
      "text/markdown": [
       "\n",
       "Domain | Phylum | Class | n | \n",
       "|---|---|---|\n",
       "| Fungi           | Ascomycota      | Dothideomycetes | 4               | \n",
       "| Fungi           | Ascomycota      | Eurotiomycetes  | 7               | \n",
       "| Fungi           | Ascomycota      | Leotiomycetes   | 4               | \n",
       "\n",
       "\n"
      ],
      "text/plain": [
       "  Domain Phylum     Class           n\n",
       "1 Fungi  Ascomycota Dothideomycetes 4\n",
       "2 Fungi  Ascomycota Eurotiomycetes  7\n",
       "3 Fungi  Ascomycota Leotiomycetes   4"
      ]
     },
     "metadata": {},
     "output_type": "display_data"
    }
   ],
   "source": [
    "# summarizing taxonomy\n",
    "tax_s = tax %>%\n",
    "    filter(Domain != '',\n",
    "           Phylum != '',\n",
    "           Class != '') %>%\n",
    "    group_by(Domain, Phylum, Class) %>%\n",
    "    summarize(n = seqID %>% unique %>% length) %>%\n",
    "    ungroup() \n",
    " \n",
    "tax_s %>% dfhead"
   ]
  },
  {
   "cell_type": "code",
   "execution_count": 17,
   "metadata": {
    "ExecuteTime": {
     "end_time": "2019-10-03T08:49:57.610622Z",
     "start_time": "2019-10-03T08:49:57.525Z"
    }
   },
   "outputs": [
    {
     "data": {
      "text/html": [
       "<table>\n",
       "<thead><tr><th scope=col>Domain</th><th scope=col>Phylum</th><th scope=col>Class</th><th scope=col>n</th></tr></thead>\n",
       "<tbody>\n",
       "\t<tr><td>unknown                   </td><td>Bacteroidetes             </td><td>Bacteroidia               </td><td>27643                     </td></tr>\n",
       "\t<tr><td>unknown                   </td><td>Firmicutes                </td><td>Clostridia                </td><td>20953                     </td></tr>\n",
       "\t<tr><td>unknown                   </td><td>Firmicutes                </td><td>unknown                   </td><td> 2801                     </td></tr>\n",
       "\t<tr><td>unknown                   </td><td>Firmicutes                </td><td>Bacilli                   </td><td> 2783                     </td></tr>\n",
       "\t<tr><td>unknown                   </td><td>unknown                   </td><td>unknown                   </td><td> 2525                     </td></tr>\n",
       "\t<tr><td>unknown                   </td><td>Spirochaetes              </td><td>Spirochaetia              </td><td> 2475                     </td></tr>\n",
       "\t<tr><td>unknown                   </td><td>Firmicutes                </td><td>Negativicutes             </td><td> 1557                     </td></tr>\n",
       "\t<tr><td>unknown                   </td><td>Bacteroidetes             </td><td>unknown                   </td><td> 1539                     </td></tr>\n",
       "\t<tr><td>unknown                   </td><td>Bacteroidetes             </td><td>Flavobacteriia            </td><td> 1334                     </td></tr>\n",
       "\t<tr><td>unknown                   </td><td>Proteobacteria            </td><td>Alphaproteobacteria       </td><td>  892                     </td></tr>\n",
       "\t<tr><td>unknown                   </td><td>Proteobacteria            </td><td>Gammaproteobacteria       </td><td>  780                     </td></tr>\n",
       "\t<tr><td>unknown                   </td><td>Candidatus Melainabacteria</td><td>unknown                   </td><td>  587                     </td></tr>\n",
       "\t<tr><td>unknown                   </td><td>Tenericutes               </td><td>Mollicutes                </td><td>  578                     </td></tr>\n",
       "\t<tr><td>unknown                   </td><td>Firmicutes                </td><td>Erysipelotrichia          </td><td>  552                     </td></tr>\n",
       "\t<tr><td>unknown                   </td><td>Bacteroidetes             </td><td>Cytophagia                </td><td>  481                     </td></tr>\n",
       "\t<tr><td>unknown                   </td><td>Chlamydiae                </td><td>Chlamydiia                </td><td>  476                     </td></tr>\n",
       "\t<tr><td>unknown                   </td><td>Proteobacteria            </td><td>Deltaproteobacteria       </td><td>  436                     </td></tr>\n",
       "\t<tr><td>uc_Bacteria               </td><td>uc_Bacteria               </td><td>uc_Bacteria               </td><td>  345                     </td></tr>\n",
       "\t<tr><td>Viridiplantae             </td><td>Streptophyta              </td><td>unknown                   </td><td>  338                     </td></tr>\n",
       "\t<tr><td>unknown                   </td><td>Actinobacteria            </td><td>Actinobacteria            </td><td>  332                     </td></tr>\n",
       "\t<tr><td>unknown                   </td><td>Bacteroidetes             </td><td>Sphingobacteriia          </td><td>  301                     </td></tr>\n",
       "\t<tr><td>unknown                   </td><td>Fibrobacteres             </td><td>Fibrobacteria             </td><td>  264                     </td></tr>\n",
       "\t<tr><td>unknown                   </td><td>Actinobacteria            </td><td>Coriobacteriia            </td><td>  251                     </td></tr>\n",
       "\t<tr><td>unknown                   </td><td>Bacteroidetes             </td><td>Saprospiria               </td><td>  228                     </td></tr>\n",
       "\t<tr><td>unknown                   </td><td>Proteobacteria            </td><td>Epsilonproteobacteria     </td><td>  198                     </td></tr>\n",
       "\t<tr><td>unknown                   </td><td>Fusobacteria              </td><td>Fusobacteriia             </td><td>  192                     </td></tr>\n",
       "\t<tr><td>unknown                   </td><td>Tenericutes               </td><td>unknown                   </td><td>  170                     </td></tr>\n",
       "\t<tr><td>unknown                   </td><td>Verrucomicrobia           </td><td>unknown                   </td><td>  165                     </td></tr>\n",
       "\t<tr><td>unknown                   </td><td>Spirochaetes              </td><td>unknown                   </td><td>  161                     </td></tr>\n",
       "\t<tr><td>unknown                   </td><td>Firmicutes                </td><td>uc_Firmicutes             </td><td>  148                     </td></tr>\n",
       "</tbody>\n",
       "</table>\n"
      ],
      "text/latex": [
       "\\begin{tabular}{r|llll}\n",
       " Domain & Phylum & Class & n\\\\\n",
       "\\hline\n",
       "\t unknown                    & Bacteroidetes              & Bacteroidia                & 27643                     \\\\\n",
       "\t unknown                    & Firmicutes                 & Clostridia                 & 20953                     \\\\\n",
       "\t unknown                    & Firmicutes                 & unknown                    &  2801                     \\\\\n",
       "\t unknown                    & Firmicutes                 & Bacilli                    &  2783                     \\\\\n",
       "\t unknown                    & unknown                    & unknown                    &  2525                     \\\\\n",
       "\t unknown                    & Spirochaetes               & Spirochaetia               &  2475                     \\\\\n",
       "\t unknown                    & Firmicutes                 & Negativicutes              &  1557                     \\\\\n",
       "\t unknown                    & Bacteroidetes              & unknown                    &  1539                     \\\\\n",
       "\t unknown                    & Bacteroidetes              & Flavobacteriia             &  1334                     \\\\\n",
       "\t unknown                    & Proteobacteria             & Alphaproteobacteria        &   892                     \\\\\n",
       "\t unknown                    & Proteobacteria             & Gammaproteobacteria        &   780                     \\\\\n",
       "\t unknown                    & Candidatus Melainabacteria & unknown                    &   587                     \\\\\n",
       "\t unknown                    & Tenericutes                & Mollicutes                 &   578                     \\\\\n",
       "\t unknown                    & Firmicutes                 & Erysipelotrichia           &   552                     \\\\\n",
       "\t unknown                    & Bacteroidetes              & Cytophagia                 &   481                     \\\\\n",
       "\t unknown                    & Chlamydiae                 & Chlamydiia                 &   476                     \\\\\n",
       "\t unknown                    & Proteobacteria             & Deltaproteobacteria        &   436                     \\\\\n",
       "\t uc\\_Bacteria                & uc\\_Bacteria                & uc\\_Bacteria                &   345                       \\\\\n",
       "\t Viridiplantae              & Streptophyta               & unknown                    &   338                     \\\\\n",
       "\t unknown                    & Actinobacteria             & Actinobacteria             &   332                     \\\\\n",
       "\t unknown                    & Bacteroidetes              & Sphingobacteriia           &   301                     \\\\\n",
       "\t unknown                    & Fibrobacteres              & Fibrobacteria              &   264                     \\\\\n",
       "\t unknown                    & Actinobacteria             & Coriobacteriia             &   251                     \\\\\n",
       "\t unknown                    & Bacteroidetes              & Saprospiria                &   228                     \\\\\n",
       "\t unknown                    & Proteobacteria             & Epsilonproteobacteria      &   198                     \\\\\n",
       "\t unknown                    & Fusobacteria               & Fusobacteriia              &   192                     \\\\\n",
       "\t unknown                    & Tenericutes                & unknown                    &   170                     \\\\\n",
       "\t unknown                    & Verrucomicrobia            & unknown                    &   165                     \\\\\n",
       "\t unknown                    & Spirochaetes               & unknown                    &   161                     \\\\\n",
       "\t unknown                    & Firmicutes                 & uc\\_Firmicutes            &   148                     \\\\\n",
       "\\end{tabular}\n"
      ],
      "text/markdown": [
       "\n",
       "Domain | Phylum | Class | n | \n",
       "|---|---|---|---|---|---|---|---|---|---|---|---|---|---|---|---|---|---|---|---|---|---|---|---|---|---|---|---|---|---|\n",
       "| unknown                    | Bacteroidetes              | Bacteroidia                | 27643                      | \n",
       "| unknown                    | Firmicutes                 | Clostridia                 | 20953                      | \n",
       "| unknown                    | Firmicutes                 | unknown                    |  2801                      | \n",
       "| unknown                    | Firmicutes                 | Bacilli                    |  2783                      | \n",
       "| unknown                    | unknown                    | unknown                    |  2525                      | \n",
       "| unknown                    | Spirochaetes               | Spirochaetia               |  2475                      | \n",
       "| unknown                    | Firmicutes                 | Negativicutes              |  1557                      | \n",
       "| unknown                    | Bacteroidetes              | unknown                    |  1539                      | \n",
       "| unknown                    | Bacteroidetes              | Flavobacteriia             |  1334                      | \n",
       "| unknown                    | Proteobacteria             | Alphaproteobacteria        |   892                      | \n",
       "| unknown                    | Proteobacteria             | Gammaproteobacteria        |   780                      | \n",
       "| unknown                    | Candidatus Melainabacteria | unknown                    |   587                      | \n",
       "| unknown                    | Tenericutes                | Mollicutes                 |   578                      | \n",
       "| unknown                    | Firmicutes                 | Erysipelotrichia           |   552                      | \n",
       "| unknown                    | Bacteroidetes              | Cytophagia                 |   481                      | \n",
       "| unknown                    | Chlamydiae                 | Chlamydiia                 |   476                      | \n",
       "| unknown                    | Proteobacteria             | Deltaproteobacteria        |   436                      | \n",
       "| uc_Bacteria                | uc_Bacteria                | uc_Bacteria                |   345                      | \n",
       "| Viridiplantae              | Streptophyta               | unknown                    |   338                      | \n",
       "| unknown                    | Actinobacteria             | Actinobacteria             |   332                      | \n",
       "| unknown                    | Bacteroidetes              | Sphingobacteriia           |   301                      | \n",
       "| unknown                    | Fibrobacteres              | Fibrobacteria              |   264                      | \n",
       "| unknown                    | Actinobacteria             | Coriobacteriia             |   251                      | \n",
       "| unknown                    | Bacteroidetes              | Saprospiria                |   228                      | \n",
       "| unknown                    | Proteobacteria             | Epsilonproteobacteria      |   198                      | \n",
       "| unknown                    | Fusobacteria               | Fusobacteriia              |   192                      | \n",
       "| unknown                    | Tenericutes                | unknown                    |   170                      | \n",
       "| unknown                    | Verrucomicrobia            | unknown                    |   165                      | \n",
       "| unknown                    | Spirochaetes               | unknown                    |   161                      | \n",
       "| unknown                    | Firmicutes                 | uc_Firmicutes              |   148                      | \n",
       "\n",
       "\n"
      ],
      "text/plain": [
       "   Domain        Phylum                     Class                 n    \n",
       "1  unknown       Bacteroidetes              Bacteroidia           27643\n",
       "2  unknown       Firmicutes                 Clostridia            20953\n",
       "3  unknown       Firmicutes                 unknown                2801\n",
       "4  unknown       Firmicutes                 Bacilli                2783\n",
       "5  unknown       unknown                    unknown                2525\n",
       "6  unknown       Spirochaetes               Spirochaetia           2475\n",
       "7  unknown       Firmicutes                 Negativicutes          1557\n",
       "8  unknown       Bacteroidetes              unknown                1539\n",
       "9  unknown       Bacteroidetes              Flavobacteriia         1334\n",
       "10 unknown       Proteobacteria             Alphaproteobacteria     892\n",
       "11 unknown       Proteobacteria             Gammaproteobacteria     780\n",
       "12 unknown       Candidatus Melainabacteria unknown                 587\n",
       "13 unknown       Tenericutes                Mollicutes              578\n",
       "14 unknown       Firmicutes                 Erysipelotrichia        552\n",
       "15 unknown       Bacteroidetes              Cytophagia              481\n",
       "16 unknown       Chlamydiae                 Chlamydiia              476\n",
       "17 unknown       Proteobacteria             Deltaproteobacteria     436\n",
       "18 uc_Bacteria   uc_Bacteria                uc_Bacteria             345\n",
       "19 Viridiplantae Streptophyta               unknown                 338\n",
       "20 unknown       Actinobacteria             Actinobacteria          332\n",
       "21 unknown       Bacteroidetes              Sphingobacteriia        301\n",
       "22 unknown       Fibrobacteres              Fibrobacteria           264\n",
       "23 unknown       Actinobacteria             Coriobacteriia          251\n",
       "24 unknown       Bacteroidetes              Saprospiria             228\n",
       "25 unknown       Proteobacteria             Epsilonproteobacteria   198\n",
       "26 unknown       Fusobacteria               Fusobacteriia           192\n",
       "27 unknown       Tenericutes                unknown                 170\n",
       "28 unknown       Verrucomicrobia            unknown                 165\n",
       "29 unknown       Spirochaetes               unknown                 161\n",
       "30 unknown       Firmicutes                 uc_Firmicutes           148"
      ]
     },
     "metadata": {},
     "output_type": "display_data"
    }
   ],
   "source": [
    "# top hits\n",
    "tax_s %>% \n",
    "    arrange(-n) %>%\n",
    "    head(n=30)"
   ]
  },
  {
   "cell_type": "markdown",
   "metadata": {},
   "source": [
    "## Annotations"
   ]
  },
  {
   "cell_type": "code",
   "execution_count": 18,
   "metadata": {
    "ExecuteTime": {
     "end_time": "2019-10-03T08:49:59.614825Z",
     "start_time": "2019-10-03T08:49:59.573Z"
    }
   },
   "outputs": [],
   "source": [
    "# eggnog-mapper v2\n",
    "cols = c(\n",
    "\"query_name\",\n",
    "\"seed_eggNOG_ortholog\",\n",
    "\"seed_ortholog_evalue\",\n",
    "\"seed_ortholog_score\",\n",
    "\"Predicted_taxonomic_group\",\n",
    "\"Predicted_protein_name\",\n",
    "\"Gene_Ontology_terms\",\n",
    "\"EC_number\",\n",
    "\"KEGG_ko\",\n",
    "\"KEGG_Pathway\",\n",
    "\"KEGG_Module\",\n",
    "\"KEGG_Reaction\",\n",
    "\"KEGG_rclass\",\n",
    "\"BRITE\",\n",
    "\"KEGG_TC\",\n",
    "\"CAZy\",\n",
    "\"BiGG_Reaction\",\n",
    "\"tax_scope__eggNOG_taxonomic_level_used_for_annotation\",\n",
    "\"eggNOG_OGs\",\n",
    "\"bestOG\",\n",
    "\"COG_Functional_Category\",\n",
    "\"eggNOG_free_text_description\"\n",
    ")"
   ]
  },
  {
   "cell_type": "code",
   "execution_count": 19,
   "metadata": {
    "ExecuteTime": {
     "end_time": "2019-10-03T08:50:01.378643Z",
     "start_time": "2019-10-03T08:50:00.167Z"
    }
   },
   "outputs": [
    {
     "name": "stdout",
     "output_type": "stream",
     "text": [
      "[1] 55873    21\n"
     ]
    },
    {
     "data": {
      "text/html": [
       "<table>\n",
       "<thead><tr><th scope=col>query_name</th><th scope=col>seed_eggNOG_ortholog</th><th scope=col>seed_ortholog_evalue</th><th scope=col>seed_ortholog_score</th><th scope=col>Predicted_taxonomic_group</th><th scope=col>Predicted_protein_name</th><th scope=col>EC_number</th><th scope=col>KEGG_ko</th><th scope=col>KEGG_Pathway</th><th scope=col>KEGG_Module</th><th scope=col>⋯</th><th scope=col>KEGG_rclass</th><th scope=col>BRITE</th><th scope=col>KEGG_TC</th><th scope=col>CAZy</th><th scope=col>BiGG_Reaction</th><th scope=col>tax_scope__eggNOG_taxonomic_level_used_for_annotation</th><th scope=col>eggNOG_OGs</th><th scope=col>bestOG</th><th scope=col>COG_Functional_Category</th><th scope=col>eggNOG_free_text_description</th></tr></thead>\n",
       "<tbody>\n",
       "\t<tr><td>c8a39c18132e4540a8f0766857ddd736                                                                                   </td><td>1232410.KI421421_gene3869                                                                                          </td><td>2.1e-11                                                                                                            </td><td> 75.1                                                                                                              </td><td>Desulfuromonadales                                                                                                 </td><td>ftsA                                                                                                               </td><td>                                                                                                                   </td><td>ko:K03590                                                                                                          </td><td>ko04112,map04112                                                                                                   </td><td>                                                                                                                   </td><td>⋯                                                                                                                  </td><td>                                                                                                                   </td><td>ko00000,ko00001,ko03036,ko04812                                                                                    </td><td>                                                                                                                   </td><td>                                                                                                                   </td><td>                                                                                                                   </td><td>Bacteria                                                                                                           </td><td>1MUSR@1224,2WIQ0@28221,42MS2@68525,43SXW@69541,COG0849@1,COG0849@2                                                 </td><td>NA|NA|NA                                                                                                           </td><td>D                                                                                                                  </td><td>Cell division protein that is involved in the assembly of the Z ring. May serve as a membrane anchor for the Z ring</td></tr>\n",
       "\t<tr><td>2015212a4a3a4b9f904b1e666bbbf01c                                                                                   </td><td>537011.PREVCOP_05631                                                                                               </td><td>5.2e-10                                                                                                            </td><td> 69.7                                                                                                              </td><td>Bacteroidia                                                                                                        </td><td>dinF                                                                                                               </td><td>                                                                                                                   </td><td>ko:K03327                                                                                                          </td><td>                                                                                                                   </td><td>                                                                                                                   </td><td>⋯                                                                                                                  </td><td>                                                                                                                   </td><td>ko00000,ko02000                                                                                                    </td><td>2.A.66.1                                                                                                           </td><td>                                                                                                                   </td><td>                                                                                                                   </td><td>Bacteria                                                                                                           </td><td>2FN68@200643,4NG7Q@976,COG0534@1,COG0534@2                                                                         </td><td>NA|NA|NA                                                                                                           </td><td>V                                                                                                                  </td><td>Mate efflux family protein                                                                                         </td></tr>\n",
       "\t<tr><td>4cea3b3a582c4b5180747156f04e7789                                                                                   </td><td>748224.HMPREF9436_00728                                                                                            </td><td>1.9e-31                                                                                                            </td><td>141.7                                                                                                              </td><td>Ruminococcaceae                                                                                                    </td><td>                                                                                                                   </td><td>                                                                                                                   </td><td>ko:K07090                                                                                                          </td><td>                                                                                                                   </td><td>                                                                                                                   </td><td>⋯                                                                                                                  </td><td>                                                                                                                   </td><td>ko00000                                                                                                            </td><td>                                                                                                                   </td><td>                                                                                                                   </td><td>                                                                                                                   </td><td>Bacteria                                                                                                           </td><td>1TRFG@1239,24AEX@186801,3WH0U@541000,COG0730@1,COG0730@2                                                           </td><td>NA|NA|NA                                                                                                           </td><td>S                                                                                                                  </td><td>membrane transporter protein                                                                                       </td></tr>\n",
       "</tbody>\n",
       "</table>\n"
      ],
      "text/latex": [
       "\\begin{tabular}{r|lllllllllllllllllllll}\n",
       " query\\_name & seed\\_eggNOG\\_ortholog & seed\\_ortholog\\_evalue & seed\\_ortholog\\_score & Predicted\\_taxonomic\\_group & Predicted\\_protein\\_name & EC\\_number & KEGG\\_ko & KEGG\\_Pathway & KEGG\\_Module & ⋯ & KEGG\\_rclass & BRITE & KEGG\\_TC & CAZy & BiGG\\_Reaction & tax\\_scope\\_\\_eggNOG\\_taxonomic\\_level\\_used\\_for\\_annotation & eggNOG\\_OGs & bestOG & COG\\_Functional\\_Category & eggNOG\\_free\\_text\\_description\\\\\n",
       "\\hline\n",
       "\t c8a39c18132e4540a8f0766857ddd736                                                                                    & 1232410.KI421421\\_gene3869                                                                                         & 2.1e-11                                                                                                             &  75.1                                                                                                               & Desulfuromonadales                                                                                                  & ftsA                                                                                                                &                                                                                                                     & ko:K03590                                                                                                           & ko04112,map04112                                                                                                    &                                                                                                                     & ⋯                                                                                                                   &                                                                                                                     & ko00000,ko00001,ko03036,ko04812                                                                                     &                                                                                                                     &                                                                                                                     &                                                                                                                     & Bacteria                                                                                                            & 1MUSR@1224,2WIQ0@28221,42MS2@68525,43SXW@69541,COG0849@1,COG0849@2                                                  & NA\\textbar{}NA\\textbar{}NA                                                                                        & D                                                                                                                   & Cell division protein that is involved in the assembly of the Z ring. May serve as a membrane anchor for the Z ring\\\\\n",
       "\t 2015212a4a3a4b9f904b1e666bbbf01c                                                                                    & 537011.PREVCOP\\_05631                                                                                              & 5.2e-10                                                                                                             &  69.7                                                                                                               & Bacteroidia                                                                                                         & dinF                                                                                                                &                                                                                                                     & ko:K03327                                                                                                           &                                                                                                                     &                                                                                                                     & ⋯                                                                                                                   &                                                                                                                     & ko00000,ko02000                                                                                                     & 2.A.66.1                                                                                                            &                                                                                                                     &                                                                                                                     & Bacteria                                                                                                            & 2FN68@200643,4NG7Q@976,COG0534@1,COG0534@2                                                                          & NA\\textbar{}NA\\textbar{}NA                                                                                        & V                                                                                                                   & Mate efflux family protein                                                                                         \\\\\n",
       "\t 4cea3b3a582c4b5180747156f04e7789                                                                                    & 748224.HMPREF9436\\_00728                                                                                           & 1.9e-31                                                                                                             & 141.7                                                                                                               & Ruminococcaceae                                                                                                     &                                                                                                                     &                                                                                                                     & ko:K07090                                                                                                           &                                                                                                                     &                                                                                                                     & ⋯                                                                                                                   &                                                                                                                     & ko00000                                                                                                             &                                                                                                                     &                                                                                                                     &                                                                                                                     & Bacteria                                                                                                            & 1TRFG@1239,24AEX@186801,3WH0U@541000,COG0730@1,COG0730@2                                                            & NA\\textbar{}NA\\textbar{}NA                                                                                        & S                                                                                                                   & membrane transporter protein                                                                                       \\\\\n",
       "\\end{tabular}\n"
      ],
      "text/markdown": [
       "\n",
       "query_name | seed_eggNOG_ortholog | seed_ortholog_evalue | seed_ortholog_score | Predicted_taxonomic_group | Predicted_protein_name | EC_number | KEGG_ko | KEGG_Pathway | KEGG_Module | ⋯ | KEGG_rclass | BRITE | KEGG_TC | CAZy | BiGG_Reaction | tax_scope__eggNOG_taxonomic_level_used_for_annotation | eggNOG_OGs | bestOG | COG_Functional_Category | eggNOG_free_text_description | \n",
       "|---|---|---|\n",
       "| c8a39c18132e4540a8f0766857ddd736                                                                                    | 1232410.KI421421_gene3869                                                                                           | 2.1e-11                                                                                                             |  75.1                                                                                                               | Desulfuromonadales                                                                                                  | ftsA                                                                                                                |                                                                                                                     | ko:K03590                                                                                                           | ko04112,map04112                                                                                                    |                                                                                                                     | ⋯                                                                                                                   |                                                                                                                     | ko00000,ko00001,ko03036,ko04812                                                                                     |                                                                                                                     |                                                                                                                     |                                                                                                                     | Bacteria                                                                                                            | 1MUSR@1224,2WIQ0@28221,42MS2@68525,43SXW@69541,COG0849@1,COG0849@2                                                  | NA|NA|NA                                                                                                            | D                                                                                                                   | Cell division protein that is involved in the assembly of the Z ring. May serve as a membrane anchor for the Z ring | \n",
       "| 2015212a4a3a4b9f904b1e666bbbf01c                                                                                    | 537011.PREVCOP_05631                                                                                                | 5.2e-10                                                                                                             |  69.7                                                                                                               | Bacteroidia                                                                                                         | dinF                                                                                                                |                                                                                                                     | ko:K03327                                                                                                           |                                                                                                                     |                                                                                                                     | ⋯                                                                                                                   |                                                                                                                     | ko00000,ko02000                                                                                                     | 2.A.66.1                                                                                                            |                                                                                                                     |                                                                                                                     | Bacteria                                                                                                            | 2FN68@200643,4NG7Q@976,COG0534@1,COG0534@2                                                                          | NA|NA|NA                                                                                                            | V                                                                                                                   | Mate efflux family protein                                                                                          | \n",
       "| 4cea3b3a582c4b5180747156f04e7789                                                                                    | 748224.HMPREF9436_00728                                                                                             | 1.9e-31                                                                                                             | 141.7                                                                                                               | Ruminococcaceae                                                                                                     |                                                                                                                     |                                                                                                                     | ko:K07090                                                                                                           |                                                                                                                     |                                                                                                                     | ⋯                                                                                                                   |                                                                                                                     | ko00000                                                                                                             |                                                                                                                     |                                                                                                                     |                                                                                                                     | Bacteria                                                                                                            | 1TRFG@1239,24AEX@186801,3WH0U@541000,COG0730@1,COG0730@2                                                            | NA|NA|NA                                                                                                            | S                                                                                                                   | membrane transporter protein                                                                                        | \n",
       "\n",
       "\n"
      ],
      "text/plain": [
       "  query_name                       seed_eggNOG_ortholog     \n",
       "1 c8a39c18132e4540a8f0766857ddd736 1232410.KI421421_gene3869\n",
       "2 2015212a4a3a4b9f904b1e666bbbf01c 537011.PREVCOP_05631     \n",
       "3 4cea3b3a582c4b5180747156f04e7789 748224.HMPREF9436_00728  \n",
       "  seed_ortholog_evalue seed_ortholog_score Predicted_taxonomic_group\n",
       "1 2.1e-11               75.1               Desulfuromonadales       \n",
       "2 5.2e-10               69.7               Bacteroidia              \n",
       "3 1.9e-31              141.7               Ruminococcaceae          \n",
       "  Predicted_protein_name EC_number KEGG_ko   KEGG_Pathway     KEGG_Module ⋯\n",
       "1 ftsA                             ko:K03590 ko04112,map04112             ⋯\n",
       "2 dinF                             ko:K03327                              ⋯\n",
       "3                                  ko:K07090                              ⋯\n",
       "  KEGG_rclass BRITE                           KEGG_TC  CAZy BiGG_Reaction\n",
       "1             ko00000,ko00001,ko03036,ko04812                            \n",
       "2             ko00000,ko02000                 2.A.66.1                   \n",
       "3             ko00000                                                    \n",
       "  tax_scope__eggNOG_taxonomic_level_used_for_annotation\n",
       "1 Bacteria                                             \n",
       "2 Bacteria                                             \n",
       "3 Bacteria                                             \n",
       "  eggNOG_OGs                                                         bestOG  \n",
       "1 1MUSR@1224,2WIQ0@28221,42MS2@68525,43SXW@69541,COG0849@1,COG0849@2 NA|NA|NA\n",
       "2 2FN68@200643,4NG7Q@976,COG0534@1,COG0534@2                         NA|NA|NA\n",
       "3 1TRFG@1239,24AEX@186801,3WH0U@541000,COG0730@1,COG0730@2           NA|NA|NA\n",
       "  COG_Functional_Category\n",
       "1 D                      \n",
       "2 V                      \n",
       "3 S                      \n",
       "  eggNOG_free_text_description                                                                                       \n",
       "1 Cell division protein that is involved in the assembly of the Z ring. May serve as a membrane anchor for the Z ring\n",
       "2 Mate efflux family protein                                                                                         \n",
       "3 membrane transporter protein                                                                                       "
      ]
     },
     "metadata": {},
     "output_type": "display_data"
    }
   ],
   "source": [
    "F = file.path(work_dir, 'annotate', 'eggnog-mapper', 'clusters_rep-seqs.emapper.annotations.gz')\n",
    "cmd = glue::glue('gunzip -c {file}', file=F, header=FALSE) \n",
    "emap_annot = fread(cmd, sep='\\t') \n",
    "colnames(emap_annot) = cols\n",
    "emap_annot = emap_annot %>%\n",
    "    dplyr::select(-Gene_Ontology_terms)\n",
    "emap_annot %>% dfhead"
   ]
  },
  {
   "cell_type": "code",
   "execution_count": 20,
   "metadata": {
    "ExecuteTime": {
     "end_time": "2019-10-03T08:50:02.442587Z",
     "start_time": "2019-10-03T08:50:01.021Z"
    }
   },
   "outputs": [
    {
     "name": "stdout",
     "output_type": "stream",
     "text": [
      "[1] 55873\n",
      "[1] 55873    31\n"
     ]
    },
    {
     "data": {
      "text/html": [
       "<table>\n",
       "<thead><tr><th scope=col>query_name</th><th scope=col>seed_eggNOG_ortholog</th><th scope=col>seed_ortholog_evalue</th><th scope=col>seed_ortholog_score</th><th scope=col>Predicted_taxonomic_group</th><th scope=col>Predicted_protein_name</th><th scope=col>EC_number</th><th scope=col>KEGG_ko</th><th scope=col>KEGG_Pathway</th><th scope=col>KEGG_Module</th><th scope=col>⋯</th><th scope=col>taxID</th><th scope=col>rank</th><th scope=col>spp</th><th scope=col>Domain</th><th scope=col>Phylum</th><th scope=col>Class</th><th scope=col>Order</th><th scope=col>Family</th><th scope=col>Genus</th><th scope=col>Species</th></tr></thead>\n",
       "<tbody>\n",
       "\t<tr><td>c8a39c18132e4540a8f0766857ddd736                </td><td>1232410.KI421421_gene3869                       </td><td>2.1e-11                                         </td><td> 75.1                                           </td><td>Desulfuromonadales                              </td><td>ftsA                                            </td><td>                                                </td><td>ko:K03590                                       </td><td>ko04112,map04112                                </td><td>                                                </td><td>⋯                                               </td><td> 122706                                         </td><td>no rank                                         </td><td>unclassified Deltaproteobacteria (miscellaneous)</td><td>unknown                                         </td><td>Proteobacteria                                  </td><td>Deltaproteobacteria                             </td><td>unknown                                         </td><td>unknown                                         </td><td>unknown                                         </td><td>unknown                                         </td></tr>\n",
       "\t<tr><td>2015212a4a3a4b9f904b1e666bbbf01c                </td><td>537011.PREVCOP_05631                            </td><td>5.2e-10                                         </td><td> 69.7                                           </td><td>Bacteroidia                                     </td><td>dinF                                            </td><td>                                                </td><td>ko:K03327                                       </td><td>                                                </td><td>                                                </td><td>⋯                                               </td><td>1262926                                         </td><td>species                                         </td><td>Prevotella sp. CAG:474                          </td><td>unknown                                         </td><td>Bacteroidetes                                   </td><td>Bacteroidia                                     </td><td>Bacteroidales                                   </td><td>Prevotellaceae                                  </td><td>Prevotella                                      </td><td>Prevotella sp. CAG                              </td></tr>\n",
       "\t<tr><td>4cea3b3a582c4b5180747156f04e7789                </td><td>748224.HMPREF9436_00728                         </td><td>1.9e-31                                         </td><td>141.7                                           </td><td>Ruminococcaceae                                 </td><td>                                                </td><td>                                                </td><td>ko:K07090                                       </td><td>                                                </td><td>                                                </td><td>⋯                                               </td><td>1882754                                         </td><td>species                                         </td><td>Clostridium sp. DSM 4029                        </td><td>unknown                                         </td><td>Firmicutes                                      </td><td>Clostridia                                      </td><td>Clostridiales                                   </td><td>Clostridiaceae                                  </td><td>Clostridium                                     </td><td>Clostridium sp. DSM 4029                        </td></tr>\n",
       "</tbody>\n",
       "</table>\n"
      ],
      "text/latex": [
       "\\begin{tabular}{r|lllllllllllllllllllllllllllllll}\n",
       " query\\_name & seed\\_eggNOG\\_ortholog & seed\\_ortholog\\_evalue & seed\\_ortholog\\_score & Predicted\\_taxonomic\\_group & Predicted\\_protein\\_name & EC\\_number & KEGG\\_ko & KEGG\\_Pathway & KEGG\\_Module & ⋯ & taxID & rank & spp & Domain & Phylum & Class & Order & Family & Genus & Species\\\\\n",
       "\\hline\n",
       "\t c8a39c18132e4540a8f0766857ddd736                 & 1232410.KI421421\\_gene3869                      & 2.1e-11                                          &  75.1                                            & Desulfuromonadales                               & ftsA                                             &                                                  & ko:K03590                                        & ko04112,map04112                                 &                                                  & ⋯                                                &  122706                                          & no rank                                          & unclassified Deltaproteobacteria (miscellaneous) & unknown                                          & Proteobacteria                                   & Deltaproteobacteria                              & unknown                                          & unknown                                          & unknown                                          & unknown                                         \\\\\n",
       "\t 2015212a4a3a4b9f904b1e666bbbf01c                 & 537011.PREVCOP\\_05631                           & 5.2e-10                                          &  69.7                                            & Bacteroidia                                      & dinF                                             &                                                  & ko:K03327                                        &                                                  &                                                  & ⋯                                                & 1262926                                          & species                                          & Prevotella sp. CAG:474                           & unknown                                          & Bacteroidetes                                    & Bacteroidia                                      & Bacteroidales                                    & Prevotellaceae                                   & Prevotella                                       & Prevotella sp. CAG                              \\\\\n",
       "\t 4cea3b3a582c4b5180747156f04e7789                 & 748224.HMPREF9436\\_00728                        & 1.9e-31                                          & 141.7                                            & Ruminococcaceae                                  &                                                  &                                                  & ko:K07090                                        &                                                  &                                                  & ⋯                                                & 1882754                                          & species                                          & Clostridium sp. DSM 4029                         & unknown                                          & Firmicutes                                       & Clostridia                                       & Clostridiales                                    & Clostridiaceae                                   & Clostridium                                      & Clostridium sp. DSM 4029                        \\\\\n",
       "\\end{tabular}\n"
      ],
      "text/markdown": [
       "\n",
       "query_name | seed_eggNOG_ortholog | seed_ortholog_evalue | seed_ortholog_score | Predicted_taxonomic_group | Predicted_protein_name | EC_number | KEGG_ko | KEGG_Pathway | KEGG_Module | ⋯ | taxID | rank | spp | Domain | Phylum | Class | Order | Family | Genus | Species | \n",
       "|---|---|---|\n",
       "| c8a39c18132e4540a8f0766857ddd736                 | 1232410.KI421421_gene3869                        | 2.1e-11                                          |  75.1                                            | Desulfuromonadales                               | ftsA                                             |                                                  | ko:K03590                                        | ko04112,map04112                                 |                                                  | ⋯                                                |  122706                                          | no rank                                          | unclassified Deltaproteobacteria (miscellaneous) | unknown                                          | Proteobacteria                                   | Deltaproteobacteria                              | unknown                                          | unknown                                          | unknown                                          | unknown                                          | \n",
       "| 2015212a4a3a4b9f904b1e666bbbf01c                 | 537011.PREVCOP_05631                             | 5.2e-10                                          |  69.7                                            | Bacteroidia                                      | dinF                                             |                                                  | ko:K03327                                        |                                                  |                                                  | ⋯                                                | 1262926                                          | species                                          | Prevotella sp. CAG:474                           | unknown                                          | Bacteroidetes                                    | Bacteroidia                                      | Bacteroidales                                    | Prevotellaceae                                   | Prevotella                                       | Prevotella sp. CAG                               | \n",
       "| 4cea3b3a582c4b5180747156f04e7789                 | 748224.HMPREF9436_00728                          | 1.9e-31                                          | 141.7                                            | Ruminococcaceae                                  |                                                  |                                                  | ko:K07090                                        |                                                  |                                                  | ⋯                                                | 1882754                                          | species                                          | Clostridium sp. DSM 4029                         | unknown                                          | Firmicutes                                       | Clostridia                                       | Clostridiales                                    | Clostridiaceae                                   | Clostridium                                      | Clostridium sp. DSM 4029                         | \n",
       "\n",
       "\n"
      ],
      "text/plain": [
       "  query_name                       seed_eggNOG_ortholog     \n",
       "1 c8a39c18132e4540a8f0766857ddd736 1232410.KI421421_gene3869\n",
       "2 2015212a4a3a4b9f904b1e666bbbf01c 537011.PREVCOP_05631     \n",
       "3 4cea3b3a582c4b5180747156f04e7789 748224.HMPREF9436_00728  \n",
       "  seed_ortholog_evalue seed_ortholog_score Predicted_taxonomic_group\n",
       "1 2.1e-11               75.1               Desulfuromonadales       \n",
       "2 5.2e-10               69.7               Bacteroidia              \n",
       "3 1.9e-31              141.7               Ruminococcaceae          \n",
       "  Predicted_protein_name EC_number KEGG_ko   KEGG_Pathway     KEGG_Module ⋯\n",
       "1 ftsA                             ko:K03590 ko04112,map04112             ⋯\n",
       "2 dinF                             ko:K03327                              ⋯\n",
       "3                                  ko:K07090                              ⋯\n",
       "  taxID   rank    spp                                              Domain \n",
       "1  122706 no rank unclassified Deltaproteobacteria (miscellaneous) unknown\n",
       "2 1262926 species Prevotella sp. CAG:474                           unknown\n",
       "3 1882754 species Clostridium sp. DSM 4029                         unknown\n",
       "  Phylum         Class               Order         Family         Genus      \n",
       "1 Proteobacteria Deltaproteobacteria unknown       unknown        unknown    \n",
       "2 Bacteroidetes  Bacteroidia         Bacteroidales Prevotellaceae Prevotella \n",
       "3 Firmicutes     Clostridia          Clostridiales Clostridiaceae Clostridium\n",
       "  Species                 \n",
       "1 unknown                 \n",
       "2 Prevotella sp. CAG      \n",
       "3 Clostridium sp. DSM 4029"
      ]
     },
     "metadata": {},
     "output_type": "display_data"
    }
   ],
   "source": [
    "# adding taxonomy info\n",
    "intersect(emap_annot$query_name, tax$seqID) %>% length %>% print\n",
    "\n",
    "emap_annot = emap_annot %>%\n",
    "    left_join(tax, c('query_name'='seqID'))\n",
    "\n",
    "emap_annot %>% dfhead"
   ]
  },
  {
   "cell_type": "code",
   "execution_count": 21,
   "metadata": {
    "ExecuteTime": {
     "end_time": "2019-10-03T08:50:02.477141Z",
     "start_time": "2019-10-03T08:50:01.942Z"
    }
   },
   "outputs": [
    {
     "name": "stdout",
     "output_type": "stream",
     "text": [
      "Number of rep seqs with eggnog-mapper annotations: 55873 \n"
     ]
    }
   ],
   "source": [
    "n_annot_seqs = emap_annot$query_name %>% unique %>% length\n",
    "cat('Number of rep seqs with eggnog-mapper annotations:', n_annot_seqs, '\\n')"
   ]
  },
  {
   "cell_type": "markdown",
   "metadata": {},
   "source": [
    "### COG functional categories\n",
    "\n",
    "* [wiki on categories](https://ecoliwiki.org/colipedia/index.php/Clusters_of_Orthologous_Groups_%28COGs%29)"
   ]
  },
  {
   "cell_type": "code",
   "execution_count": 22,
   "metadata": {
    "ExecuteTime": {
     "end_time": "2019-10-03T08:50:06.449968Z",
     "start_time": "2019-10-03T08:50:05.714Z"
    }
   },
   "outputs": [
    {
     "name": "stderr",
     "output_type": "stream",
     "text": [
      "Warning message:\n",
      "“Expected 4 pieces. Additional pieces discarded in 2 rows [21344, 52264].”Warning message:\n",
      "“Expected 4 pieces. Missing pieces filled with `NA` in 55667 rows [1, 2, 3, 4, 5, 6, 7, 8, 9, 10, 11, 12, 13, 14, 15, 16, 17, 18, 19, 20, ...].”"
     ]
    },
    {
     "name": "stdout",
     "output_type": "stream",
     "text": [
      "[1] 56609     2\n"
     ]
    },
    {
     "data": {
      "text/html": [
       "<table>\n",
       "<thead><tr><th scope=col>query_name</th><th scope=col>COG_func_cat</th></tr></thead>\n",
       "<tbody>\n",
       "\t<tr><td>c8a39c18132e4540a8f0766857ddd736</td><td>D                               </td></tr>\n",
       "\t<tr><td>2015212a4a3a4b9f904b1e666bbbf01c</td><td>V                               </td></tr>\n",
       "\t<tr><td>4cea3b3a582c4b5180747156f04e7789</td><td>S                               </td></tr>\n",
       "</tbody>\n",
       "</table>\n"
      ],
      "text/latex": [
       "\\begin{tabular}{r|ll}\n",
       " query\\_name & COG\\_func\\_cat\\\\\n",
       "\\hline\n",
       "\t c8a39c18132e4540a8f0766857ddd736 & D                               \\\\\n",
       "\t 2015212a4a3a4b9f904b1e666bbbf01c & V                               \\\\\n",
       "\t 4cea3b3a582c4b5180747156f04e7789 & S                               \\\\\n",
       "\\end{tabular}\n"
      ],
      "text/markdown": [
       "\n",
       "query_name | COG_func_cat | \n",
       "|---|---|---|\n",
       "| c8a39c18132e4540a8f0766857ddd736 | D                                | \n",
       "| 2015212a4a3a4b9f904b1e666bbbf01c | V                                | \n",
       "| 4cea3b3a582c4b5180747156f04e7789 | S                                | \n",
       "\n",
       "\n"
      ],
      "text/plain": [
       "  query_name                       COG_func_cat\n",
       "1 c8a39c18132e4540a8f0766857ddd736 D           \n",
       "2 2015212a4a3a4b9f904b1e666bbbf01c V           \n",
       "3 4cea3b3a582c4b5180747156f04e7789 S           "
      ]
     },
     "metadata": {},
     "output_type": "display_data"
    }
   ],
   "source": [
    "# summarizing by functional group\n",
    "max_cat = emap_annot$COG_Functional_Category %>% unique %>% sapply(nchar) %>% max\n",
    "\n",
    "emap_annot_s = emap_annot %>%\n",
    "    dplyr::select(query_name, COG_Functional_Category) %>%\n",
    "    separate(COG_Functional_Category, LETTERS[1:max_cat], sep='(?<=[A-Z])') %>%\n",
    "    gather(X, COG_func_cat, -query_name) %>%\n",
    "    filter(!is.na(COG_func_cat),\n",
    "           COG_func_cat != '') %>%\n",
    "    dplyr::select(-X) \n",
    "    \n",
    "emap_annot_s %>% dfhead"
   ]
  },
  {
   "cell_type": "code",
   "execution_count": 23,
   "metadata": {
    "ExecuteTime": {
     "end_time": "2019-10-03T08:50:08.712240Z",
     "start_time": "2019-10-03T08:50:06.723Z"
    }
   },
   "outputs": [
    {
     "data": {
      "image/png": "[encoded data removed]",
      "text/plain": [
       "plot without title"
      ]
     },
     "metadata": {},
     "output_type": "display_data"
    }
   ],
   "source": [
    "# plotting summary\n",
    "p = emap_annot_s %>%\n",
    "    ggplot(aes(COG_func_cat)) +\n",
    "    geom_bar() +\n",
    "    labs(x='COG functional category', y='No. of genes') +\n",
    "    theme_bw()\n",
    "\n",
    "dims(9,3)\n",
    "plot(p)"
   ]
  },
  {
   "cell_type": "code",
   "execution_count": 24,
   "metadata": {
    "ExecuteTime": {
     "end_time": "2019-10-03T08:50:09.411228Z",
     "start_time": "2019-10-03T08:50:07.661Z"
    }
   },
   "outputs": [
    {
     "data": {
      "image/png": "[encoded data removed]",
      "text/plain": [
       "plot without title"
      ]
     },
     "metadata": {},
     "output_type": "display_data"
    }
   ],
   "source": [
    "# plotting summary\n",
    "p = emap_annot_s %>%\n",
    "    group_by(COG_func_cat) %>%\n",
    "    summarize(perc_abund = n() / n_annot_seqs * 100) %>%\n",
    "    ungroup() %>%\n",
    "    ggplot(aes(COG_func_cat, perc_abund)) +\n",
    "    geom_bar(stat='identity') +\n",
    "    labs(x='COG functional category', y='% of all genes') +\n",
    "    theme_bw() \n",
    "\n",
    "dims(9,3)\n",
    "plot(p)"
   ]
  },
  {
   "cell_type": "markdown",
   "metadata": {},
   "source": [
    "### Grouped by taxonomy"
   ]
  },
  {
   "cell_type": "code",
   "execution_count": 25,
   "metadata": {
    "ExecuteTime": {
     "end_time": "2019-10-03T08:50:13.043134Z",
     "start_time": "2019-10-03T08:50:11.436Z"
    }
   },
   "outputs": [
    {
     "name": "stderr",
     "output_type": "stream",
     "text": [
      "Warning message:\n",
      "“Expected 4 pieces. Additional pieces discarded in 2 rows [21344, 52264].”Warning message:\n",
      "“Expected 4 pieces. Missing pieces filled with `NA` in 55667 rows [1, 2, 3, 4, 5, 6, 7, 8, 9, 10, 11, 12, 13, 14, 15, 16, 17, 18, 19, 20, ...].”"
     ]
    },
    {
     "name": "stdout",
     "output_type": "stream",
     "text": [
      "[1] 56609    12\n"
     ]
    },
    {
     "data": {
      "text/html": [
       "<table>\n",
       "<thead><tr><th scope=col>query_name</th><th scope=col>COG_func_cat</th><th scope=col>taxID</th><th scope=col>rank</th><th scope=col>spp</th><th scope=col>Domain</th><th scope=col>Phylum</th><th scope=col>Class</th><th scope=col>Order</th><th scope=col>Family</th><th scope=col>Genus</th><th scope=col>Species</th></tr></thead>\n",
       "<tbody>\n",
       "\t<tr><td>c8a39c18132e4540a8f0766857ddd736                </td><td>D                                               </td><td> 122706                                         </td><td>no rank                                         </td><td>unclassified Deltaproteobacteria (miscellaneous)</td><td>unknown                                         </td><td>Proteobacteria                                  </td><td>Deltaproteobacteria                             </td><td>unknown                                         </td><td>unknown                                         </td><td>unknown                                         </td><td>unknown                                         </td></tr>\n",
       "\t<tr><td>2015212a4a3a4b9f904b1e666bbbf01c                </td><td>V                                               </td><td>1262926                                         </td><td>species                                         </td><td>Prevotella sp. CAG:474                          </td><td>unknown                                         </td><td>Bacteroidetes                                   </td><td>Bacteroidia                                     </td><td>Bacteroidales                                   </td><td>Prevotellaceae                                  </td><td>Prevotella                                      </td><td>Prevotella sp. CAG                              </td></tr>\n",
       "\t<tr><td>4cea3b3a582c4b5180747156f04e7789                </td><td>S                                               </td><td>1882754                                         </td><td>species                                         </td><td>Clostridium sp. DSM 4029                        </td><td>unknown                                         </td><td>Firmicutes                                      </td><td>Clostridia                                      </td><td>Clostridiales                                   </td><td>Clostridiaceae                                  </td><td>Clostridium                                     </td><td>Clostridium sp. DSM 4029                        </td></tr>\n",
       "</tbody>\n",
       "</table>\n"
      ],
      "text/latex": [
       "\\begin{tabular}{r|llllllllllll}\n",
       " query\\_name & COG\\_func\\_cat & taxID & rank & spp & Domain & Phylum & Class & Order & Family & Genus & Species\\\\\n",
       "\\hline\n",
       "\t c8a39c18132e4540a8f0766857ddd736                 & D                                                &  122706                                          & no rank                                          & unclassified Deltaproteobacteria (miscellaneous) & unknown                                          & Proteobacteria                                   & Deltaproteobacteria                              & unknown                                          & unknown                                          & unknown                                          & unknown                                         \\\\\n",
       "\t 2015212a4a3a4b9f904b1e666bbbf01c                 & V                                                & 1262926                                          & species                                          & Prevotella sp. CAG:474                           & unknown                                          & Bacteroidetes                                    & Bacteroidia                                      & Bacteroidales                                    & Prevotellaceae                                   & Prevotella                                       & Prevotella sp. CAG                              \\\\\n",
       "\t 4cea3b3a582c4b5180747156f04e7789                 & S                                                & 1882754                                          & species                                          & Clostridium sp. DSM 4029                         & unknown                                          & Firmicutes                                       & Clostridia                                       & Clostridiales                                    & Clostridiaceae                                   & Clostridium                                      & Clostridium sp. DSM 4029                        \\\\\n",
       "\\end{tabular}\n"
      ],
      "text/markdown": [
       "\n",
       "query_name | COG_func_cat | taxID | rank | spp | Domain | Phylum | Class | Order | Family | Genus | Species | \n",
       "|---|---|---|\n",
       "| c8a39c18132e4540a8f0766857ddd736                 | D                                                |  122706                                          | no rank                                          | unclassified Deltaproteobacteria (miscellaneous) | unknown                                          | Proteobacteria                                   | Deltaproteobacteria                              | unknown                                          | unknown                                          | unknown                                          | unknown                                          | \n",
       "| 2015212a4a3a4b9f904b1e666bbbf01c                 | V                                                | 1262926                                          | species                                          | Prevotella sp. CAG:474                           | unknown                                          | Bacteroidetes                                    | Bacteroidia                                      | Bacteroidales                                    | Prevotellaceae                                   | Prevotella                                       | Prevotella sp. CAG                               | \n",
       "| 4cea3b3a582c4b5180747156f04e7789                 | S                                                | 1882754                                          | species                                          | Clostridium sp. DSM 4029                         | unknown                                          | Firmicutes                                       | Clostridia                                       | Clostridiales                                    | Clostridiaceae                                   | Clostridium                                      | Clostridium sp. DSM 4029                         | \n",
       "\n",
       "\n"
      ],
      "text/plain": [
       "  query_name                       COG_func_cat taxID   rank   \n",
       "1 c8a39c18132e4540a8f0766857ddd736 D             122706 no rank\n",
       "2 2015212a4a3a4b9f904b1e666bbbf01c V            1262926 species\n",
       "3 4cea3b3a582c4b5180747156f04e7789 S            1882754 species\n",
       "  spp                                              Domain  Phylum        \n",
       "1 unclassified Deltaproteobacteria (miscellaneous) unknown Proteobacteria\n",
       "2 Prevotella sp. CAG:474                           unknown Bacteroidetes \n",
       "3 Clostridium sp. DSM 4029                         unknown Firmicutes    \n",
       "  Class               Order         Family         Genus      \n",
       "1 Deltaproteobacteria unknown       unknown        unknown    \n",
       "2 Bacteroidia         Bacteroidales Prevotellaceae Prevotella \n",
       "3 Clostridia          Clostridiales Clostridiaceae Clostridium\n",
       "  Species                 \n",
       "1 unknown                 \n",
       "2 Prevotella sp. CAG      \n",
       "3 Clostridium sp. DSM 4029"
      ]
     },
     "metadata": {},
     "output_type": "display_data"
    }
   ],
   "source": [
    "max_cat = emap_annot$COG_Functional_Category %>% unique %>% sapply(nchar) %>% max\n",
    "\n",
    "emap_annot_s = emap_annot %>%\n",
    "    dplyr::select(query_name, COG_Functional_Category) %>%\n",
    "    separate(COG_Functional_Category, LETTERS[1:max_cat], sep='(?<=[A-Z])') %>%\n",
    "    gather(X, COG_func_cat, -query_name) %>%\n",
    "    left_join(tax, c('query_name'='seqID')) %>%\n",
    "    filter(!is.na(COG_func_cat),\n",
    "           COG_func_cat != '') %>%\n",
    "    dplyr::select(-X) \n",
    "\n",
    "emap_annot_s %>% dfhead"
   ]
  },
  {
   "cell_type": "code",
   "execution_count": 26,
   "metadata": {
    "ExecuteTime": {
     "end_time": "2019-10-03T08:50:16.363069Z",
     "start_time": "2019-10-03T08:50:12.468Z"
    }
   },
   "outputs": [
    {
     "data": {
      "image/png": "[encoded data removed]",
      "text/plain": [
       "plot without title"
      ]
     },
     "metadata": {},
     "output_type": "display_data"
    }
   ],
   "source": [
    "# plotting summary by domain\n",
    "p = emap_annot_s %>%\n",
    "    ggplot(aes(COG_func_cat)) +\n",
    "    geom_bar() +\n",
    "    facet_wrap(~ Domain, scales='free_y') +\n",
    "    labs(x='COG functional category', y='No. of genes') +\n",
    "    theme_bw()\n",
    "\n",
    "dims(9,5)\n",
    "plot(p)"
   ]
  },
  {
   "cell_type": "code",
   "execution_count": 27,
   "metadata": {
    "ExecuteTime": {
     "end_time": "2019-10-03T08:50:20.602283Z",
     "start_time": "2019-10-03T08:50:13.332Z"
    }
   },
   "outputs": [
    {
     "data": {
      "image/png": "[encoded data removed]",
      "text/plain": [
       "plot without title"
      ]
     },
     "metadata": {},
     "output_type": "display_data"
    }
   ],
   "source": [
    "# plotting summary by phylum\n",
    "p = emap_annot_s %>%\n",
    "    group_by(Phylum) %>%\n",
    "    mutate(n = n()) %>%\n",
    "    ungroup() %>%\n",
    "    filter(n >= 1000) %>%\n",
    "    mutate(Phylum = Phylum %>% reorder(-n)) %>%\n",
    "    ggplot(aes(COG_func_cat, fill=Domain)) +\n",
    "    geom_bar() +\n",
    "    facet_wrap(~ Phylum, scales='free_y', ncol=3) +\n",
    "    labs(x='COG functional category', y='No. of genes') +\n",
    "    theme_bw()\n",
    "\n",
    "dims(10,5)\n",
    "plot(p)"
   ]
  },
  {
   "cell_type": "markdown",
   "metadata": {},
   "source": [
    "## humann2 db genes"
   ]
  },
  {
   "cell_type": "code",
   "execution_count": 28,
   "metadata": {
    "ExecuteTime": {
     "end_time": "2019-10-03T08:50:20.781030Z",
     "start_time": "2019-10-03T08:50:14.468Z"
    }
   },
   "outputs": [
    {
     "name": "stderr",
     "output_type": "stream",
     "text": [
      "Warning message:\n",
      "“Expected 2 pieces. Missing pieces filled with `NA` in 399 rows [10, 29, 39, 40, 42, 43, 50, 66, 79, 91, 95, 104, 114, 123, 138, 151, 162, 174, 183, 186, ...].”"
     ]
    },
    {
     "name": "stdout",
     "output_type": "stream",
     "text": [
      "[1] 4029    6\n"
     ]
    },
    {
     "data": {
      "text/html": [
       "<table>\n",
       "<thead><tr><th scope=col>original_name</th><th scope=col>UniRefID</th><th scope=col>Gene_length</th><th scope=col>Genus</th><th scope=col>Species</th><th scope=col>TaxID</th></tr></thead>\n",
       "<tbody>\n",
       "\t<tr><td>10237168079f40228d81e9e19c59a136</td><td>UniRef50_R5N045                 </td><td>118                             </td><td>Eubacterium                     </td><td>Eubacterium_sp_CAG_86           </td><td>1262895                         </td></tr>\n",
       "\t<tr><td>e0b87c5c4f764323aaafe911bab5767d</td><td>UniRef50_F9D2T3                 </td><td>113                             </td><td>Prevotella                      </td><td>Prevotella_marshii              </td><td>862515                          </td></tr>\n",
       "\t<tr><td>3be083d5385c4196980e41f5dd7c3ca3</td><td>UniRef50_C0B5U9                 </td><td>80                              </td><td>unclassified                    </td><td>unclassified                    </td><td>1263003                         </td></tr>\n",
       "</tbody>\n",
       "</table>\n"
      ],
      "text/latex": [
       "\\begin{tabular}{r|llllll}\n",
       " original\\_name & UniRefID & Gene\\_length & Genus & Species & TaxID\\\\\n",
       "\\hline\n",
       "\t 10237168079f40228d81e9e19c59a136 & UniRef50\\_R5N045                & 118                              & Eubacterium                      & Eubacterium\\_sp\\_CAG\\_86      & 1262895                         \\\\\n",
       "\t e0b87c5c4f764323aaafe911bab5767d & UniRef50\\_F9D2T3                & 113                              & Prevotella                       & Prevotella\\_marshii             & 862515                          \\\\\n",
       "\t 3be083d5385c4196980e41f5dd7c3ca3 & UniRef50\\_C0B5U9                & 80                               & unclassified                     & unclassified                     & 1263003                         \\\\\n",
       "\\end{tabular}\n"
      ],
      "text/markdown": [
       "\n",
       "original_name | UniRefID | Gene_length | Genus | Species | TaxID | \n",
       "|---|---|---|\n",
       "| 10237168079f40228d81e9e19c59a136 | UniRef50_R5N045                  | 118                              | Eubacterium                      | Eubacterium_sp_CAG_86            | 1262895                          | \n",
       "| e0b87c5c4f764323aaafe911bab5767d | UniRef50_F9D2T3                  | 113                              | Prevotella                       | Prevotella_marshii               | 862515                           | \n",
       "| 3be083d5385c4196980e41f5dd7c3ca3 | UniRef50_C0B5U9                  | 80                               | unclassified                     | unclassified                     | 1263003                          | \n",
       "\n",
       "\n"
      ],
      "text/plain": [
       "  original_name                    UniRefID        Gene_length Genus       \n",
       "1 10237168079f40228d81e9e19c59a136 UniRef50_R5N045 118         Eubacterium \n",
       "2 e0b87c5c4f764323aaafe911bab5767d UniRef50_F9D2T3 113         Prevotella  \n",
       "3 3be083d5385c4196980e41f5dd7c3ca3 UniRef50_C0B5U9 80          unclassified\n",
       "  Species               TaxID  \n",
       "1 Eubacterium_sp_CAG_86 1262895\n",
       "2 Prevotella_marshii    862515 \n",
       "3 unclassified          1263003"
      ]
     },
     "metadata": {},
     "output_type": "display_data"
    }
   ],
   "source": [
    "# gene IDs\n",
    "F = file.path(work_dir, 'humann2_db', 'clusters_rep-seqs_annot-index.tsv')\n",
    "\n",
    "hm2 = fread(F, sep='\\t', header=TRUE) %>%\n",
    "    separate(new_name, c('UniRefID', 'Gene_length', 'Taxonomy'), sep='\\\\|') %>%\n",
    "    separate(Taxonomy, c('Genus', 'Species'), sep='\\\\.s__') %>%\n",
    "    separate(Species, c('Species', 'TaxID'), sep='__taxID') %>%\n",
    "    mutate(Genus = gsub('^g__', '', Genus))\n",
    "\n",
    "hm2 %>% dfhead"
   ]
  },
  {
   "cell_type": "code",
   "execution_count": 29,
   "metadata": {
    "ExecuteTime": {
     "end_time": "2019-10-03T08:50:21.118838Z",
     "start_time": "2019-10-03T08:50:15.524Z"
    }
   },
   "outputs": [
    {
     "name": "stdout",
     "output_type": "stream",
     "text": [
      "[1] 4029\n",
      "[1] 4029   16\n"
     ]
    },
    {
     "data": {
      "text/html": [
       "<table>\n",
       "<thead><tr><th scope=col>original_name</th><th scope=col>UniRefID</th><th scope=col>Gene_length</th><th scope=col>Genus.x</th><th scope=col>Species.x</th><th scope=col>TaxID</th><th scope=col>taxID</th><th scope=col>rank</th><th scope=col>spp</th><th scope=col>Domain</th><th scope=col>Phylum</th><th scope=col>Class</th><th scope=col>Order</th><th scope=col>Family</th><th scope=col>Genus.y</th><th scope=col>Species.y</th></tr></thead>\n",
       "<tbody>\n",
       "\t<tr><td>10237168079f40228d81e9e19c59a136        </td><td>UniRef50_R5N045                         </td><td>118                                     </td><td>Eubacterium                             </td><td>Eubacterium_sp_CAG_86                   </td><td>1262895                                 </td><td>1262895                                 </td><td>species                                 </td><td>Eubacterium sp. CAG:86                  </td><td>unknown                                 </td><td>Firmicutes                              </td><td>Clostridia                              </td><td>Clostridiales                           </td><td>Eubacteriaceae                          </td><td>Eubacterium                             </td><td>Eubacterium sp. CAG                     </td></tr>\n",
       "\t<tr><td>e0b87c5c4f764323aaafe911bab5767d        </td><td>UniRef50_F9D2T3                         </td><td>113                                     </td><td>Prevotella                              </td><td>Prevotella_marshii                      </td><td>862515                                  </td><td> 862515                                 </td><td>no rank                                 </td><td>Prevotella marshii DSM 16973 = JCM 13450</td><td>unknown                                 </td><td>Bacteroidetes                           </td><td>Bacteroidia                             </td><td>Bacteroidales                           </td><td>Prevotellaceae                          </td><td>Prevotella                              </td><td>Prevotella marshii                      </td></tr>\n",
       "\t<tr><td>3be083d5385c4196980e41f5dd7c3ca3        </td><td>UniRef50_C0B5U9                         </td><td>80                                      </td><td>unclassified                            </td><td>unclassified                            </td><td>1263003                                 </td><td>1263003                                 </td><td>species                                 </td><td>Firmicutes bacterium CAG:129            </td><td>unknown                                 </td><td>Firmicutes                              </td><td>unknown                                 </td><td>unknown                                 </td><td>unknown                                 </td><td>unknown                                 </td><td>Firmicutes bacterium CAG                </td></tr>\n",
       "</tbody>\n",
       "</table>\n"
      ],
      "text/latex": [
       "\\begin{tabular}{r|llllllllllllllll}\n",
       " original\\_name & UniRefID & Gene\\_length & Genus.x & Species.x & TaxID & taxID & rank & spp & Domain & Phylum & Class & Order & Family & Genus.y & Species.y\\\\\n",
       "\\hline\n",
       "\t 10237168079f40228d81e9e19c59a136         & UniRef50\\_R5N045                        & 118                                      & Eubacterium                              & Eubacterium\\_sp\\_CAG\\_86              & 1262895                                  & 1262895                                  & species                                  & Eubacterium sp. CAG:86                   & unknown                                  & Firmicutes                               & Clostridia                               & Clostridiales                            & Eubacteriaceae                           & Eubacterium                              & Eubacterium sp. CAG                     \\\\\n",
       "\t e0b87c5c4f764323aaafe911bab5767d         & UniRef50\\_F9D2T3                        & 113                                      & Prevotella                               & Prevotella\\_marshii                     & 862515                                   &  862515                                  & no rank                                  & Prevotella marshii DSM 16973 = JCM 13450 & unknown                                  & Bacteroidetes                            & Bacteroidia                              & Bacteroidales                            & Prevotellaceae                           & Prevotella                               & Prevotella marshii                      \\\\\n",
       "\t 3be083d5385c4196980e41f5dd7c3ca3         & UniRef50\\_C0B5U9                        & 80                                       & unclassified                             & unclassified                             & 1263003                                  & 1263003                                  & species                                  & Firmicutes bacterium CAG:129             & unknown                                  & Firmicutes                               & unknown                                  & unknown                                  & unknown                                  & unknown                                  & Firmicutes bacterium CAG                \\\\\n",
       "\\end{tabular}\n"
      ],
      "text/markdown": [
       "\n",
       "original_name | UniRefID | Gene_length | Genus.x | Species.x | TaxID | taxID | rank | spp | Domain | Phylum | Class | Order | Family | Genus.y | Species.y | \n",
       "|---|---|---|\n",
       "| 10237168079f40228d81e9e19c59a136         | UniRef50_R5N045                          | 118                                      | Eubacterium                              | Eubacterium_sp_CAG_86                    | 1262895                                  | 1262895                                  | species                                  | Eubacterium sp. CAG:86                   | unknown                                  | Firmicutes                               | Clostridia                               | Clostridiales                            | Eubacteriaceae                           | Eubacterium                              | Eubacterium sp. CAG                      | \n",
       "| e0b87c5c4f764323aaafe911bab5767d         | UniRef50_F9D2T3                          | 113                                      | Prevotella                               | Prevotella_marshii                       | 862515                                   |  862515                                  | no rank                                  | Prevotella marshii DSM 16973 = JCM 13450 | unknown                                  | Bacteroidetes                            | Bacteroidia                              | Bacteroidales                            | Prevotellaceae                           | Prevotella                               | Prevotella marshii                       | \n",
       "| 3be083d5385c4196980e41f5dd7c3ca3         | UniRef50_C0B5U9                          | 80                                       | unclassified                             | unclassified                             | 1263003                                  | 1263003                                  | species                                  | Firmicutes bacterium CAG:129             | unknown                                  | Firmicutes                               | unknown                                  | unknown                                  | unknown                                  | unknown                                  | Firmicutes bacterium CAG                 | \n",
       "\n",
       "\n"
      ],
      "text/plain": [
       "  original_name                    UniRefID        Gene_length Genus.x     \n",
       "1 10237168079f40228d81e9e19c59a136 UniRef50_R5N045 118         Eubacterium \n",
       "2 e0b87c5c4f764323aaafe911bab5767d UniRef50_F9D2T3 113         Prevotella  \n",
       "3 3be083d5385c4196980e41f5dd7c3ca3 UniRef50_C0B5U9 80          unclassified\n",
       "  Species.x             TaxID   taxID   rank   \n",
       "1 Eubacterium_sp_CAG_86 1262895 1262895 species\n",
       "2 Prevotella_marshii    862515   862515 no rank\n",
       "3 unclassified          1263003 1263003 species\n",
       "  spp                                      Domain  Phylum        Class      \n",
       "1 Eubacterium sp. CAG:86                   unknown Firmicutes    Clostridia \n",
       "2 Prevotella marshii DSM 16973 = JCM 13450 unknown Bacteroidetes Bacteroidia\n",
       "3 Firmicutes bacterium CAG:129             unknown Firmicutes    unknown    \n",
       "  Order         Family         Genus.y     Species.y               \n",
       "1 Clostridiales Eubacteriaceae Eubacterium Eubacterium sp. CAG     \n",
       "2 Bacteroidales Prevotellaceae Prevotella  Prevotella marshii      \n",
       "3 unknown       unknown        unknown     Firmicutes bacterium CAG"
      ]
     },
     "metadata": {},
     "output_type": "display_data"
    }
   ],
   "source": [
    "# adding taxonomy\n",
    "intersect(hm2$original_name, tax$seqID) %>% length %>% print\n",
    "\n",
    "hm2 = hm2 %>%\n",
    "    left_join(tax, c('original_name'='seqID'))\n",
    "\n",
    "hm2 %>% dfhead"
   ]
  },
  {
   "cell_type": "markdown",
   "metadata": {},
   "source": [
    "### Summary"
   ]
  },
  {
   "cell_type": "code",
   "execution_count": 30,
   "metadata": {
    "ExecuteTime": {
     "end_time": "2019-10-03T08:50:23.223949Z",
     "start_time": "2019-10-03T08:50:23.043Z"
    }
   },
   "outputs": [
    {
     "data": {
      "text/html": [
       "3188"
      ],
      "text/latex": [
       "3188"
      ],
      "text/markdown": [
       "3188"
      ],
      "text/plain": [
       "[1] 3188"
      ]
     },
     "metadata": {},
     "output_type": "display_data"
    }
   ],
   "source": [
    "# number of unique UniRef IDs\n",
    "hm2$UniRefID %>% unique %>% length"
   ]
  },
  {
   "cell_type": "code",
   "execution_count": 31,
   "metadata": {
    "ExecuteTime": {
     "end_time": "2019-10-03T08:50:23.653888Z",
     "start_time": "2019-10-03T08:50:23.502Z"
    }
   },
   "outputs": [
    {
     "data": {
      "text/html": [
       "<table>\n",
       "<thead><tr><th scope=col>UniRefID</th><th scope=col>n</th></tr></thead>\n",
       "<tbody>\n",
       "\t<tr><td>UniRef50_G6ATV3       </td><td>54                    </td></tr>\n",
       "\t<tr><td>UniRef50_U2K825       </td><td>24                    </td></tr>\n",
       "\t<tr><td>UniRef50_R7FBE7       </td><td>17                    </td></tr>\n",
       "\t<tr><td>UniRef50_J6F3M8       </td><td>16                    </td></tr>\n",
       "\t<tr><td>UniRef50_B4KRG8       </td><td>15                    </td></tr>\n",
       "\t<tr><td>UniRef50_UPI0003686C41</td><td>12                    </td></tr>\n",
       "\t<tr><td>UniRef50_UPI00046EC615</td><td>12                    </td></tr>\n",
       "\t<tr><td>UniRef50_D1PGD8       </td><td>11                    </td></tr>\n",
       "\t<tr><td>UniRef50_D4V7Q3       </td><td>10                    </td></tr>\n",
       "\t<tr><td>UniRef50_UPI000469E064</td><td>10                    </td></tr>\n",
       "\t<tr><td>UniRef50_D1PGB8       </td><td> 9                    </td></tr>\n",
       "\t<tr><td>UniRef50_Q84GG6       </td><td> 9                    </td></tr>\n",
       "\t<tr><td>UniRef50_U2K7E8       </td><td> 9                    </td></tr>\n",
       "\t<tr><td>UniRef50_X1EUC8       </td><td> 9                    </td></tr>\n",
       "\t<tr><td>UniRef50_K1UNW4       </td><td> 8                    </td></tr>\n",
       "\t<tr><td>UniRef50_X1TK86       </td><td> 8                    </td></tr>\n",
       "\t<tr><td>UniRef50_H7EM69       </td><td> 7                    </td></tr>\n",
       "\t<tr><td>UniRef50_R7KG29       </td><td> 7                    </td></tr>\n",
       "\t<tr><td>UniRef50_E1KNG8       </td><td> 6                    </td></tr>\n",
       "\t<tr><td>UniRef50_K1S226       </td><td> 6                    </td></tr>\n",
       "\t<tr><td>UniRef50_K1S929       </td><td> 6                    </td></tr>\n",
       "\t<tr><td>UniRef50_P04672       </td><td> 6                    </td></tr>\n",
       "\t<tr><td>UniRef50_R6B3C2       </td><td> 6                    </td></tr>\n",
       "\t<tr><td>UniRef50_R7FFH5       </td><td> 6                    </td></tr>\n",
       "\t<tr><td>UniRef50_U2LXS8       </td><td> 6                    </td></tr>\n",
       "\t<tr><td>UniRef50_X1A295       </td><td> 6                    </td></tr>\n",
       "\t<tr><td>UniRef50_A0A016LWM3   </td><td> 5                    </td></tr>\n",
       "\t<tr><td>UniRef50_B1C5N5       </td><td> 5                    </td></tr>\n",
       "\t<tr><td>UniRef50_D1PGB9       </td><td> 5                    </td></tr>\n",
       "\t<tr><td>UniRef50_E3BG87       </td><td> 5                    </td></tr>\n",
       "</tbody>\n",
       "</table>\n"
      ],
      "text/latex": [
       "\\begin{tabular}{r|ll}\n",
       " UniRefID & n\\\\\n",
       "\\hline\n",
       "\t UniRef50\\_G6ATV3        & 54                      \\\\\n",
       "\t UniRef50\\_U2K825        & 24                      \\\\\n",
       "\t UniRef50\\_R7FBE7        & 17                      \\\\\n",
       "\t UniRef50\\_J6F3M8        & 16                      \\\\\n",
       "\t UniRef50\\_B4KRG8        & 15                      \\\\\n",
       "\t UniRef50\\_UPI0003686C41 & 12                      \\\\\n",
       "\t UniRef50\\_UPI00046EC615 & 12                      \\\\\n",
       "\t UniRef50\\_D1PGD8        & 11                      \\\\\n",
       "\t UniRef50\\_D4V7Q3        & 10                      \\\\\n",
       "\t UniRef50\\_UPI000469E064 & 10                      \\\\\n",
       "\t UniRef50\\_D1PGB8        &  9                      \\\\\n",
       "\t UniRef50\\_Q84GG6        &  9                      \\\\\n",
       "\t UniRef50\\_U2K7E8        &  9                      \\\\\n",
       "\t UniRef50\\_X1EUC8        &  9                      \\\\\n",
       "\t UniRef50\\_K1UNW4        &  8                      \\\\\n",
       "\t UniRef50\\_X1TK86        &  8                      \\\\\n",
       "\t UniRef50\\_H7EM69        &  7                      \\\\\n",
       "\t UniRef50\\_R7KG29        &  7                      \\\\\n",
       "\t UniRef50\\_E1KNG8        &  6                      \\\\\n",
       "\t UniRef50\\_K1S226        &  6                      \\\\\n",
       "\t UniRef50\\_K1S929        &  6                      \\\\\n",
       "\t UniRef50\\_P04672        &  6                      \\\\\n",
       "\t UniRef50\\_R6B3C2        &  6                      \\\\\n",
       "\t UniRef50\\_R7FFH5        &  6                      \\\\\n",
       "\t UniRef50\\_U2LXS8        &  6                      \\\\\n",
       "\t UniRef50\\_X1A295        &  6                      \\\\\n",
       "\t UniRef50\\_A0A016LWM3    &  5                      \\\\\n",
       "\t UniRef50\\_B1C5N5        &  5                      \\\\\n",
       "\t UniRef50\\_D1PGB9        &  5                      \\\\\n",
       "\t UniRef50\\_E3BG87        &  5                      \\\\\n",
       "\\end{tabular}\n"
      ],
      "text/markdown": [
       "\n",
       "UniRefID | n | \n",
       "|---|---|---|---|---|---|---|---|---|---|---|---|---|---|---|---|---|---|---|---|---|---|---|---|---|---|---|---|---|---|\n",
       "| UniRef50_G6ATV3        | 54                     | \n",
       "| UniRef50_U2K825        | 24                     | \n",
       "| UniRef50_R7FBE7        | 17                     | \n",
       "| UniRef50_J6F3M8        | 16                     | \n",
       "| UniRef50_B4KRG8        | 15                     | \n",
       "| UniRef50_UPI0003686C41 | 12                     | \n",
       "| UniRef50_UPI00046EC615 | 12                     | \n",
       "| UniRef50_D1PGD8        | 11                     | \n",
       "| UniRef50_D4V7Q3        | 10                     | \n",
       "| UniRef50_UPI000469E064 | 10                     | \n",
       "| UniRef50_D1PGB8        |  9                     | \n",
       "| UniRef50_Q84GG6        |  9                     | \n",
       "| UniRef50_U2K7E8        |  9                     | \n",
       "| UniRef50_X1EUC8        |  9                     | \n",
       "| UniRef50_K1UNW4        |  8                     | \n",
       "| UniRef50_X1TK86        |  8                     | \n",
       "| UniRef50_H7EM69        |  7                     | \n",
       "| UniRef50_R7KG29        |  7                     | \n",
       "| UniRef50_E1KNG8        |  6                     | \n",
       "| UniRef50_K1S226        |  6                     | \n",
       "| UniRef50_K1S929        |  6                     | \n",
       "| UniRef50_P04672        |  6                     | \n",
       "| UniRef50_R6B3C2        |  6                     | \n",
       "| UniRef50_R7FFH5        |  6                     | \n",
       "| UniRef50_U2LXS8        |  6                     | \n",
       "| UniRef50_X1A295        |  6                     | \n",
       "| UniRef50_A0A016LWM3    |  5                     | \n",
       "| UniRef50_B1C5N5        |  5                     | \n",
       "| UniRef50_D1PGB9        |  5                     | \n",
       "| UniRef50_E3BG87        |  5                     | \n",
       "\n",
       "\n"
      ],
      "text/plain": [
       "   UniRefID               n \n",
       "1  UniRef50_G6ATV3        54\n",
       "2  UniRef50_U2K825        24\n",
       "3  UniRef50_R7FBE7        17\n",
       "4  UniRef50_J6F3M8        16\n",
       "5  UniRef50_B4KRG8        15\n",
       "6  UniRef50_UPI0003686C41 12\n",
       "7  UniRef50_UPI00046EC615 12\n",
       "8  UniRef50_D1PGD8        11\n",
       "9  UniRef50_D4V7Q3        10\n",
       "10 UniRef50_UPI000469E064 10\n",
       "11 UniRef50_D1PGB8         9\n",
       "12 UniRef50_Q84GG6         9\n",
       "13 UniRef50_U2K7E8         9\n",
       "14 UniRef50_X1EUC8         9\n",
       "15 UniRef50_K1UNW4         8\n",
       "16 UniRef50_X1TK86         8\n",
       "17 UniRef50_H7EM69         7\n",
       "18 UniRef50_R7KG29         7\n",
       "19 UniRef50_E1KNG8         6\n",
       "20 UniRef50_K1S226         6\n",
       "21 UniRef50_K1S929         6\n",
       "22 UniRef50_P04672         6\n",
       "23 UniRef50_R6B3C2         6\n",
       "24 UniRef50_R7FFH5         6\n",
       "25 UniRef50_U2LXS8         6\n",
       "26 UniRef50_X1A295         6\n",
       "27 UniRef50_A0A016LWM3     5\n",
       "28 UniRef50_B1C5N5         5\n",
       "29 UniRef50_D1PGB9         5\n",
       "30 UniRef50_E3BG87         5"
      ]
     },
     "metadata": {},
     "output_type": "display_data"
    }
   ],
   "source": [
    "# duplicate UniRef IDs\n",
    "hm2 %>%\n",
    "    group_by(UniRefID) %>%\n",
    "    summarize(n = n()) %>%\n",
    "    ungroup() %>%\n",
    "    filter(n > 1) %>%\n",
    "    arrange(-n) %>%\n",
    "    head(n=30)"
   ]
  },
  {
   "cell_type": "code",
   "execution_count": 32,
   "metadata": {
    "ExecuteTime": {
     "end_time": "2019-10-03T08:50:24.015221Z",
     "start_time": "2019-10-03T08:50:23.955Z"
    }
   },
   "outputs": [
    {
     "data": {
      "text/html": [
       "3630"
      ],
      "text/latex": [
       "3630"
      ],
      "text/markdown": [
       "3630"
      ],
      "text/plain": [
       "[1] 3630"
      ]
     },
     "metadata": {},
     "output_type": "display_data"
    }
   ],
   "source": [
    "# number of genes with a taxID\n",
    "hm2_f = hm2 %>%\n",
    "    filter(!is.na(TaxID))\n",
    "\n",
    "hm2_f %>% nrow "
   ]
  },
  {
   "cell_type": "markdown",
   "metadata": {},
   "source": [
    "#### By taxonomy"
   ]
  },
  {
   "cell_type": "code",
   "execution_count": 35,
   "metadata": {
    "ExecuteTime": {
     "end_time": "2019-10-03T08:50:32.056035Z",
     "start_time": "2019-10-03T08:50:30.941Z"
    }
   },
   "outputs": [
    {
     "data": {
      "image/png": "[encoded data removed]",
      "text/plain": [
       "plot without title"
      ]
     },
     "metadata": {},
     "output_type": "display_data"
    }
   ],
   "source": [
    "# number of UniRefIDs\n",
    "hm2_f_s = hm2_f %>%\n",
    "    group_by(Domain, Phylum) %>%\n",
    "    summarize(n = UniRefID %>% unique %>% length) %>%\n",
    "    ungroup()\n",
    "\n",
    "p = hm2_f_s %>%\n",
    "    filter(n >= 10) %>%\n",
    "    mutate(Phylum = Phylum %>% reorder(n)) %>%\n",
    "    ggplot(aes(Phylum, n, fill=Domain)) +\n",
    "    geom_bar(stat='identity', position='dodge') +\n",
    "    scale_y_log10() +\n",
    "    coord_flip() +\n",
    "    labs(y='No. of UniRef IDs') +\n",
    "    theme_bw() +\n",
    "    theme(\n",
    "        axis.text.y = element_text(size=7)\n",
    "    )\n",
    "    \n",
    "dims(5,4)\n",
    "plot(p)"
   ]
  },
  {
   "cell_type": "markdown",
   "metadata": {},
   "source": [
    "# sessionInfo"
   ]
  },
  {
   "cell_type": "code",
   "execution_count": 34,
   "metadata": {
    "ExecuteTime": {
     "end_time": "2019-10-03T08:50:27.057012Z",
     "start_time": "2019-10-03T08:50:25.947Z"
    }
   },
   "outputs": [
    {
     "data": {
      "text/plain": [
       "R version 3.4.1 (2017-06-30)\n",
       "Platform: x86_64-pc-linux-gnu (64-bit)\n",
       "Running under: Ubuntu 18.04.3 LTS\n",
       "\n",
       "Matrix products: default\n",
       "BLAS: /ebio/abt3_projects/software/miniconda3_gt4.4/envs/py3_physeq/lib/R/lib/libRblas.so\n",
       "LAPACK: /ebio/abt3_projects/software/miniconda3_gt4.4/envs/py3_physeq/lib/R/lib/libRlapack.so\n",
       "\n",
       "locale:\n",
       "[1] en_US.UTF-8\n",
       "\n",
       "attached base packages:\n",
       "[1] stats     graphics  grDevices utils     datasets  methods   base     \n",
       "\n",
       "other attached packages:\n",
       "[1] bindrcpp_0.2.2    data.table_1.11.4 ggplot2_3.0.0     tidyr_0.8.1      \n",
       "[5] dplyr_0.7.6      \n",
       "\n",
       "loaded via a namespace (and not attached):\n",
       " [1] Rcpp_0.12.17     pillar_1.2.2     compiler_3.4.1   plyr_1.8.4      \n",
       " [5] bindr_0.1.1      base64enc_0.1-3  tools_3.4.1      digest_0.6.15   \n",
       " [9] uuid_0.1-2       jsonlite_1.5     evaluate_0.10.1  tibble_1.4.2    \n",
       "[13] gtable_0.2.0     pkgconfig_2.0.1  rlang_0.2.1      IRdisplay_0.4.4 \n",
       "[17] IRkernel_0.8.12  repr_0.15.0      withr_2.1.1      stringr_1.3.1   \n",
       "[21] grid_3.4.1       tidyselect_0.2.4 glue_1.3.0       R6_2.2.2        \n",
       "[25] pbdZMQ_0.3-2     purrr_0.2.4      magrittr_1.5     scales_0.5.0    \n",
       "[29] htmltools_0.3.6  assertthat_0.2.0 colorspace_1.3-2 labeling_0.3    \n",
       "[33] stringi_1.2.3    lazyeval_0.2.1   munsell_0.5.0    crayon_1.3.4    "
      ]
     },
     "metadata": {},
     "output_type": "display_data"
    }
   ],
   "source": [
    "sessionInfo()"
   ]
  },
  {
   "cell_type": "code",
   "execution_count": null,
   "metadata": {},
   "outputs": [],
   "source": []
  }
 ],
 "metadata": {
  "kernelspec": {
   "display_name": "R [conda env:py3_physeq]",
   "language": "R",
   "name": "conda-env-py3_physeq-r"
  },
  "language_info": {
   "codemirror_mode": "r",
   "file_extension": ".r",
   "mimetype": "text/x-r-source",
   "name": "R",
   "pygments_lexer": "r",
   "version": "3.4.1"
  },
  "notify_time": "30",
  "toc": {
   "base_numbering": 1,
   "nav_menu": {},
   "number_sections": true,
   "sideBar": true,
   "skip_h1_title": false,
   "title_cell": "Table of Contents",
   "title_sidebar": "Contents",
   "toc_cell": true,
   "toc_position": {},
   "toc_section_display": true,
   "toc_window_display": true
  }
 },
 "nbformat": 4,
 "nbformat_minor": 2
}
