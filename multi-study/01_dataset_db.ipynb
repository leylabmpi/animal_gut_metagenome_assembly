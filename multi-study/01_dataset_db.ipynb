{
 "cells": [
  {
   "cell_type": "markdown",
   "metadata": {
    "toc": true
   },
   "source": [
    "<h1>Table of Contents<span class=\"tocSkip\"></span></h1>\n",
    "<div class=\"toc\"><ul class=\"toc-item\"><li><span><a href=\"#Goal\" data-toc-modified-id=\"Goal-1\"><span class=\"toc-item-num\">1&nbsp;&nbsp;</span>Goal</a></span></li><li><span><a href=\"#Var\" data-toc-modified-id=\"Var-2\"><span class=\"toc-item-num\">2&nbsp;&nbsp;</span>Var</a></span></li><li><span><a href=\"#Init\" data-toc-modified-id=\"Init-3\"><span class=\"toc-item-num\">3&nbsp;&nbsp;</span>Init</a></span></li><li><span><a href=\"#Load\" data-toc-modified-id=\"Load-4\"><span class=\"toc-item-num\">4&nbsp;&nbsp;</span>Load</a></span></li><li><span><a href=\"#Get-SRA-runinfo-for-BioProjects\" data-toc-modified-id=\"Get-SRA-runinfo-for-BioProjects-5\"><span class=\"toc-item-num\">5&nbsp;&nbsp;</span>Get SRA runinfo for BioProjects</a></span></li><li><span><a href=\"#Get-sample-metadata\" data-toc-modified-id=\"Get-sample-metadata-6\"><span class=\"toc-item-num\">6&nbsp;&nbsp;</span>Get sample metadata</a></span></li><li><span><a href=\"#Dataset-summary\" data-toc-modified-id=\"Dataset-summary-7\"><span class=\"toc-item-num\">7&nbsp;&nbsp;</span>Dataset summary</a></span><ul class=\"toc-item\"><li><span><a href=\"#per-bioproject\" data-toc-modified-id=\"per-bioproject-7.1\"><span class=\"toc-item-num\">7.1&nbsp;&nbsp;</span>per-bioproject</a></span><ul class=\"toc-item\"><li><ul class=\"toc-item\"><li><span><a href=\"#Notes\" data-toc-modified-id=\"Notes-7.1.0.1\"><span class=\"toc-item-num\">7.1.0.1&nbsp;&nbsp;</span>Notes</a></span></li></ul></li></ul></li></ul></li><li><span><a href=\"#Creating-sample-files-for-LLMGQC\" data-toc-modified-id=\"Creating-sample-files-for-LLMGQC-8\"><span class=\"toc-item-num\">8&nbsp;&nbsp;</span>Creating sample files for LLMGQC</a></span></li><li><span><a href=\"#sessionInfo\" data-toc-modified-id=\"sessionInfo-9\"><span class=\"toc-item-num\">9&nbsp;&nbsp;</span>sessionInfo</a></span></li></ul></div>"
   ]
  },
  {
   "cell_type": "markdown",
   "metadata": {},
   "source": [
    "# Goal\n",
    "\n",
    "* Creating a database of animal gut/feces metagenomes\n",
    "  * metagenomes from various studies\n"
   ]
  },
  {
   "cell_type": "markdown",
   "metadata": {},
   "source": [
    "# Var"
   ]
  },
  {
   "cell_type": "code",
   "execution_count": 2,
   "metadata": {
    "ExecuteTime": {
     "end_time": "2019-06-11T08:18:50.045279Z",
     "start_time": "2019-06-11T08:18:49.944Z"
    }
   },
   "outputs": [],
   "source": [
    "work_dir = '/ebio/abt3_projects/Georg_animal_feces/data/metagenome/multi-study/'\n",
    "\n",
    "metadata_file = file.path(work_dir, 'metadata', 'study_metadata_v1.xlsx')"
   ]
  },
  {
   "cell_type": "markdown",
   "metadata": {},
   "source": [
    "# Init"
   ]
  },
  {
   "cell_type": "code",
   "execution_count": 179,
   "metadata": {
    "ExecuteTime": {
     "end_time": "2019-06-12T06:43:16.048912Z",
     "start_time": "2019-06-12T06:43:16.006Z"
    }
   },
   "outputs": [],
   "source": [
    "library(dplyr)\n",
    "library(tidyr)\n",
    "library(ggplot2)\n",
    "library(readxl)\n",
    "\n",
    "source('/ebio/abt3_projects/Georg_animal_feces/code/misc_r_functions/init.R')"
   ]
  },
  {
   "cell_type": "markdown",
   "metadata": {},
   "source": [
    "# Load"
   ]
  },
  {
   "cell_type": "code",
   "execution_count": 75,
   "metadata": {
    "ExecuteTime": {
     "end_time": "2019-06-11T13:00:49.871224Z",
     "start_time": "2019-06-11T13:00:49.739Z"
    }
   },
   "outputs": [
    {
     "name": "stdout",
     "output_type": "stream",
     "text": [
      "[1] 20  8\n"
     ]
    },
    {
     "data": {
      "text/html": [
       "<table>\n",
       "<thead><tr><th scope=col>Animal</th><th scope=col>First_author</th><th scope=col>Year</th><th scope=col>DOI</th><th scope=col>Sequencer</th><th scope=col>Read_length</th><th scope=col>SRA_project_accession</th><th scope=col>Comments</th></tr></thead>\n",
       "<tbody>\n",
       "\t<tr><td>Cattle                                     </td><td>Stewart                                    </td><td>2018                                       </td><td>https://doi.org/10.1038/s41467-018-03317-6 </td><td>HiSeq4000                                  </td><td> NA                                        </td><td>PRJEB21624                                 </td><td>NA                                         </td></tr>\n",
       "\t<tr><td>Dog                                        </td><td>Coelho                                     </td><td>2018                                       </td><td>https://doi.org/10.1186/s40168-018-0450-3  </td><td>HiSeq2500                                  </td><td>125                                        </td><td>PRJEB20308                                 </td><td>NA                                         </td></tr>\n",
       "\t<tr><td>Pig                                        </td><td>Xiao                                       </td><td>2016                                       </td><td>https://doi.org/10.1038/nmicrobiol.2016.161</td><td>Hiseq2000                                  </td><td>100                                        </td><td>PRJEB11755                                 </td><td>NA                                         </td></tr>\n",
       "</tbody>\n",
       "</table>\n"
      ],
      "text/latex": [
       "\\begin{tabular}{r|llllllll}\n",
       " Animal & First\\_author & Year & DOI & Sequencer & Read\\_length & SRA\\_project\\_accession & Comments\\\\\n",
       "\\hline\n",
       "\t Cattle                                      & Stewart                                     & 2018                                        & https://doi.org/10.1038/s41467-018-03317-6  & HiSeq4000                                   &  NA                                         & PRJEB21624                                  & NA                                         \\\\\n",
       "\t Dog                                         & Coelho                                      & 2018                                        & https://doi.org/10.1186/s40168-018-0450-3   & HiSeq2500                                   & 125                                         & PRJEB20308                                  & NA                                         \\\\\n",
       "\t Pig                                         & Xiao                                        & 2016                                        & https://doi.org/10.1038/nmicrobiol.2016.161 & Hiseq2000                                   & 100                                         & PRJEB11755                                  & NA                                         \\\\\n",
       "\\end{tabular}\n"
      ],
      "text/markdown": [
       "\n",
       "Animal | First_author | Year | DOI | Sequencer | Read_length | SRA_project_accession | Comments | \n",
       "|---|---|---|\n",
       "| Cattle                                      | Stewart                                     | 2018                                        | https://doi.org/10.1038/s41467-018-03317-6  | HiSeq4000                                   |  NA                                         | PRJEB21624                                  | NA                                          | \n",
       "| Dog                                         | Coelho                                      | 2018                                        | https://doi.org/10.1186/s40168-018-0450-3   | HiSeq2500                                   | 125                                         | PRJEB20308                                  | NA                                          | \n",
       "| Pig                                         | Xiao                                        | 2016                                        | https://doi.org/10.1038/nmicrobiol.2016.161 | Hiseq2000                                   | 100                                         | PRJEB11755                                  | NA                                          | \n",
       "\n",
       "\n"
      ],
      "text/plain": [
       "  Animal First_author Year DOI                                        \n",
       "1 Cattle Stewart      2018 https://doi.org/10.1038/s41467-018-03317-6 \n",
       "2 Dog    Coelho       2018 https://doi.org/10.1186/s40168-018-0450-3  \n",
       "3 Pig    Xiao         2016 https://doi.org/10.1038/nmicrobiol.2016.161\n",
       "  Sequencer Read_length SRA_project_accession Comments\n",
       "1 HiSeq4000  NA         PRJEB21624            NA      \n",
       "2 HiSeq2500 125         PRJEB20308            NA      \n",
       "3 Hiseq2000 100         PRJEB11755            NA      "
      ]
     },
     "metadata": {},
     "output_type": "display_data"
    }
   ],
   "source": [
    "metadata = readxl::read_xlsx(metadata_file) %>%\n",
    "    filter(! is.na(SRA_project_accession))\n",
    "metadata %>% dfhead"
   ]
  },
  {
   "cell_type": "markdown",
   "metadata": {},
   "source": [
    "# Get SRA runinfo for BioProjects"
   ]
  },
  {
   "cell_type": "code",
   "execution_count": 93,
   "metadata": {
    "ExecuteTime": {
     "end_time": "2019-06-11T13:06:04.819212Z",
     "start_time": "2019-06-11T13:06:04.787Z"
    }
   },
   "outputs": [],
   "source": [
    "# function for getting files via entrez-direct\n",
    "get_SRA_runinfo = function(bioproject, out_dir){\n",
    "    out_file = file.path(out_dir, paste0(bioproject, '_runinfo.csv'))\n",
    "    cmd = 'esearch -db sra -query {bioproject} | efetch --format runinfo > {out_file}'\n",
    "    cmd = glue::glue(cmd, bioproject = bioproject, out_file = out_file)\n",
    "    bash_job(cmd, conda_env='py3_genome')\n",
    "    return(bioproject)\n",
    "}"
   ]
  },
  {
   "cell_type": "code",
   "execution_count": 94,
   "metadata": {
    "ExecuteTime": {
     "end_time": "2019-06-11T13:07:24.156071Z",
     "start_time": "2019-06-11T13:06:04.906Z"
    }
   },
   "outputs": [
    {
     "name": "stdout",
     "output_type": "stream",
     "text": [
      "Directory already exists: /ebio/abt3_projects/Georg_animal_feces/data/metagenome/multi-study//SRA_runinfo \n"
     ]
    },
    {
     "data": {
      "text/html": [
       "<ol>\n",
       "\t<li>'PRJEB21624'</li>\n",
       "\t<li>'PRJEB20308'</li>\n",
       "\t<li>'PRJEB11755'</li>\n",
       "\t<li>'PRJEB22679'</li>\n",
       "\t<li>'PRJNA430956'</li>\n",
       "\t<li>'SRP156892'</li>\n",
       "\t<li>'PRJNA407583'</li>\n",
       "\t<li>'PRJNA532626'</li>\n",
       "\t<li>'SRP152412'</li>\n",
       "\t<li>'SRP119699'</li>\n",
       "\t<li>'PRJNA390686'</li>\n",
       "\t<li>'PRJNA336354'</li>\n",
       "\t<li>'PRJNA298982'</li>\n",
       "\t<li>'PRJNA417359'</li>\n",
       "\t<li>'SRP072790'</li>\n",
       "\t<li>'SRP072793'</li>\n",
       "\t<li>'PRJNA298982'</li>\n",
       "\t<li>'PRJNA381379'</li>\n",
       "\t<li>'SRP093602'</li>\n",
       "\t<li>'PRJEB29346'</li>\n",
       "</ol>\n"
      ],
      "text/latex": [
       "\\begin{enumerate}\n",
       "\\item 'PRJEB21624'\n",
       "\\item 'PRJEB20308'\n",
       "\\item 'PRJEB11755'\n",
       "\\item 'PRJEB22679'\n",
       "\\item 'PRJNA430956'\n",
       "\\item 'SRP156892'\n",
       "\\item 'PRJNA407583'\n",
       "\\item 'PRJNA532626'\n",
       "\\item 'SRP152412'\n",
       "\\item 'SRP119699'\n",
       "\\item 'PRJNA390686'\n",
       "\\item 'PRJNA336354'\n",
       "\\item 'PRJNA298982'\n",
       "\\item 'PRJNA417359'\n",
       "\\item 'SRP072790'\n",
       "\\item 'SRP072793'\n",
       "\\item 'PRJNA298982'\n",
       "\\item 'PRJNA381379'\n",
       "\\item 'SRP093602'\n",
       "\\item 'PRJEB29346'\n",
       "\\end{enumerate}\n"
      ],
      "text/markdown": [
       "1. 'PRJEB21624'\n",
       "2. 'PRJEB20308'\n",
       "3. 'PRJEB11755'\n",
       "4. 'PRJEB22679'\n",
       "5. 'PRJNA430956'\n",
       "6. 'SRP156892'\n",
       "7. 'PRJNA407583'\n",
       "8. 'PRJNA532626'\n",
       "9. 'SRP152412'\n",
       "10. 'SRP119699'\n",
       "11. 'PRJNA390686'\n",
       "12. 'PRJNA336354'\n",
       "13. 'PRJNA298982'\n",
       "14. 'PRJNA417359'\n",
       "15. 'SRP072790'\n",
       "16. 'SRP072793'\n",
       "17. 'PRJNA298982'\n",
       "18. 'PRJNA381379'\n",
       "19. 'SRP093602'\n",
       "20. 'PRJEB29346'\n",
       "\n",
       "\n"
      ],
      "text/plain": [
       "[[1]]\n",
       "[1] \"PRJEB21624\"\n",
       "\n",
       "[[2]]\n",
       "[1] \"PRJEB20308\"\n",
       "\n",
       "[[3]]\n",
       "[1] \"PRJEB11755\"\n",
       "\n",
       "[[4]]\n",
       "[1] \"PRJEB22679\"\n",
       "\n",
       "[[5]]\n",
       "[1] \"PRJNA430956\"\n",
       "\n",
       "[[6]]\n",
       "[1] \"SRP156892\"\n",
       "\n",
       "[[7]]\n",
       "[1] \"PRJNA407583\"\n",
       "\n",
       "[[8]]\n",
       "[1] \"PRJNA532626\"\n",
       "\n",
       "[[9]]\n",
       "[1] \"SRP152412\"\n",
       "\n",
       "[[10]]\n",
       "[1] \"SRP119699\"\n",
       "\n",
       "[[11]]\n",
       "[1] \"PRJNA390686\"\n",
       "\n",
       "[[12]]\n",
       "[1] \"PRJNA336354\"\n",
       "\n",
       "[[13]]\n",
       "[1] \"PRJNA298982\"\n",
       "\n",
       "[[14]]\n",
       "[1] \"PRJNA417359\"\n",
       "\n",
       "[[15]]\n",
       "[1] \"SRP072790\"\n",
       "\n",
       "[[16]]\n",
       "[1] \"SRP072793\"\n",
       "\n",
       "[[17]]\n",
       "[1] \"PRJNA298982\"\n",
       "\n",
       "[[18]]\n",
       "[1] \"PRJNA381379\"\n",
       "\n",
       "[[19]]\n",
       "[1] \"SRP093602\"\n",
       "\n",
       "[[20]]\n",
       "[1] \"PRJEB29346\"\n"
      ]
     },
     "metadata": {},
     "output_type": "display_data"
    }
   ],
   "source": [
    "# fetching data\n",
    "out_dir = file.path(work_dir, 'SRA_runinfo')\n",
    "make_dir(out_dir)\n",
    "\n",
    "X = as.list(metadata$SRA_project_accession)\n",
    "lapply(X, get_SRA_runinfo, out_dir = out_dir)"
   ]
  },
  {
   "cell_type": "code",
   "execution_count": 95,
   "metadata": {
    "ExecuteTime": {
     "end_time": "2019-06-11T13:07:24.223543Z",
     "start_time": "2019-06-11T13:06:07.267Z"
    }
   },
   "outputs": [
    {
     "name": "stdout",
     "output_type": "stream",
     "text": [
      "[1] 19  2\n"
     ]
    },
    {
     "data": {
      "text/html": [
       "<table>\n",
       "<thead><tr><th scope=col>bioproject</th><th scope=col>file_path</th></tr></thead>\n",
       "<tbody>\n",
       "\t<tr><td>PRJEB11755                                                                                            </td><td>/ebio/abt3_projects/Georg_animal_feces/data/metagenome/multi-study//SRA_runinfo/PRJEB11755_runinfo.csv</td></tr>\n",
       "\t<tr><td>PRJEB20308                                                                                            </td><td>/ebio/abt3_projects/Georg_animal_feces/data/metagenome/multi-study//SRA_runinfo/PRJEB20308_runinfo.csv</td></tr>\n",
       "\t<tr><td>PRJEB21624                                                                                            </td><td>/ebio/abt3_projects/Georg_animal_feces/data/metagenome/multi-study//SRA_runinfo/PRJEB21624_runinfo.csv</td></tr>\n",
       "</tbody>\n",
       "</table>\n"
      ],
      "text/latex": [
       "\\begin{tabular}{r|ll}\n",
       " bioproject & file\\_path\\\\\n",
       "\\hline\n",
       "\t PRJEB11755                                                                                                       & /ebio/abt3\\_projects/Georg\\_animal\\_feces/data/metagenome/multi-study//SRA\\_runinfo/PRJEB11755\\_runinfo.csv\\\\\n",
       "\t PRJEB20308                                                                                                       & /ebio/abt3\\_projects/Georg\\_animal\\_feces/data/metagenome/multi-study//SRA\\_runinfo/PRJEB20308\\_runinfo.csv\\\\\n",
       "\t PRJEB21624                                                                                                       & /ebio/abt3\\_projects/Georg\\_animal\\_feces/data/metagenome/multi-study//SRA\\_runinfo/PRJEB21624\\_runinfo.csv\\\\\n",
       "\\end{tabular}\n"
      ],
      "text/markdown": [
       "\n",
       "bioproject | file_path | \n",
       "|---|---|---|\n",
       "| PRJEB11755                                                                                             | /ebio/abt3_projects/Georg_animal_feces/data/metagenome/multi-study//SRA_runinfo/PRJEB11755_runinfo.csv | \n",
       "| PRJEB20308                                                                                             | /ebio/abt3_projects/Georg_animal_feces/data/metagenome/multi-study//SRA_runinfo/PRJEB20308_runinfo.csv | \n",
       "| PRJEB21624                                                                                             | /ebio/abt3_projects/Georg_animal_feces/data/metagenome/multi-study//SRA_runinfo/PRJEB21624_runinfo.csv | \n",
       "\n",
       "\n"
      ],
      "text/plain": [
       "  bioproject\n",
       "1 PRJEB11755\n",
       "2 PRJEB20308\n",
       "3 PRJEB21624\n",
       "  file_path                                                                                             \n",
       "1 /ebio/abt3_projects/Georg_animal_feces/data/metagenome/multi-study//SRA_runinfo/PRJEB11755_runinfo.csv\n",
       "2 /ebio/abt3_projects/Georg_animal_feces/data/metagenome/multi-study//SRA_runinfo/PRJEB20308_runinfo.csv\n",
       "3 /ebio/abt3_projects/Georg_animal_feces/data/metagenome/multi-study//SRA_runinfo/PRJEB21624_runinfo.csv"
      ]
     },
     "metadata": {},
     "output_type": "display_data"
    }
   ],
   "source": [
    "# listing output\n",
    "sra_info_files = list.files(out_dir, '*_runinfo.csv', full.names=TRUE) \n",
    "sra_info_files = data.frame(bioproject = gsub('_runinfo.csv', '', basename(as.character(sra_info_files))),\n",
    "                            file_path = sra_info_files)\n",
    "sra_info_files %>% dfhead"
   ]
  },
  {
   "cell_type": "code",
   "execution_count": 96,
   "metadata": {
    "ExecuteTime": {
     "end_time": "2019-06-11T13:07:24.267892Z",
     "start_time": "2019-06-11T13:06:08.667Z"
    }
   },
   "outputs": [
    {
     "name": "stderr",
     "output_type": "stream",
     "text": [
      "Warning message:\n",
      "“Column `SRA_project_accession`/`bioproject` joining character vector and factor, coercing into character vector”"
     ]
    },
    {
     "data": {
      "text/html": [
       "<table>\n",
       "<thead><tr><th scope=col>Animal</th><th scope=col>First_author</th><th scope=col>Year</th><th scope=col>DOI</th><th scope=col>Sequencer</th><th scope=col>Read_length</th><th scope=col>SRA_project_accession</th><th scope=col>Comments</th></tr></thead>\n",
       "<tbody>\n",
       "</tbody>\n",
       "</table>\n"
      ],
      "text/latex": [
       "\\begin{tabular}{r|llllllll}\n",
       " Animal & First\\_author & Year & DOI & Sequencer & Read\\_length & SRA\\_project\\_accession & Comments\\\\\n",
       "\\hline\n",
       "\\end{tabular}\n"
      ],
      "text/markdown": [
       "\n",
       "Animal | First_author | Year | DOI | Sequencer | Read_length | SRA_project_accession | Comments | \n",
       "||\n",
       "\n",
       "\n"
      ],
      "text/plain": [
       "     Animal First_author Year DOI Sequencer Read_length SRA_project_accession\n",
       "     Comments"
      ]
     },
     "metadata": {},
     "output_type": "display_data"
    }
   ],
   "source": [
    "# which (if any) are missing?\n",
    "metadata %>%\n",
    "    anti_join(sra_info_files, c('SRA_project_accession'='bioproject'))"
   ]
  },
  {
   "cell_type": "code",
   "execution_count": 97,
   "metadata": {
    "ExecuteTime": {
     "end_time": "2019-06-11T13:07:26.368168Z",
     "start_time": "2019-06-11T13:06:17.917Z"
    },
    "scrolled": false
   },
   "outputs": [
    {
     "name": "stderr",
     "output_type": "stream",
     "text": [
      "Warning message in as.Num(spots):\n",
      "“NAs introduced by coercion”Warning message in as.Num(bases):\n",
      "“NAs introduced by coercion”Warning message in as.Num(avgLength):\n",
      "“NAs introduced by coercion”Warning message in as.Num(size_MB):\n",
      "“NAs introduced by coercion”Warning message in as.Num(TaxID):\n",
      "“NAs introduced by coercion”Warning message in as.Num(spots):\n",
      "“NAs introduced by coercion”Warning message in as.Num(bases):\n",
      "“NAs introduced by coercion”Warning message in as.Num(avgLength):\n",
      "“NAs introduced by coercion”Warning message in as.Num(size_MB):\n",
      "“NAs introduced by coercion”Warning message in as.Num(TaxID):\n",
      "“NAs introduced by coercion”Warning message in as.Num(spots):\n",
      "“NAs introduced by coercion”Warning message in as.Num(bases):\n",
      "“NAs introduced by coercion”Warning message in as.Num(avgLength):\n",
      "“NAs introduced by coercion”Warning message in as.Num(size_MB):\n",
      "“NAs introduced by coercion”Warning message in as.Num(TaxID):\n",
      "“NAs introduced by coercion”Warning message in as.Num(spots):\n",
      "“NAs introduced by coercion”Warning message in as.Num(bases):\n",
      "“NAs introduced by coercion”Warning message in as.Num(avgLength):\n",
      "“NAs introduced by coercion”Warning message in as.Num(size_MB):\n",
      "“NAs introduced by coercion”Warning message in as.Num(TaxID):\n",
      "“NAs introduced by coercion”Warning message in as.Num(spots):\n",
      "“NAs introduced by coercion”Warning message in as.Num(bases):\n",
      "“NAs introduced by coercion”Warning message in as.Num(avgLength):\n",
      "“NAs introduced by coercion”Warning message in as.Num(size_MB):\n",
      "“NAs introduced by coercion”Warning message in as.Num(TaxID):\n",
      "“NAs introduced by coercion”Warning message in as.Num(spots):\n",
      "“NAs introduced by coercion”Warning message in as.Num(bases):\n",
      "“NAs introduced by coercion”Warning message in as.Num(avgLength):\n",
      "“NAs introduced by coercion”Warning message in as.Num(size_MB):\n",
      "“NAs introduced by coercion”Warning message in as.Num(TaxID):\n",
      "“NAs introduced by coercion”Warning message in `[<-.factor`(`*tmp*`, ri, value = c(67182091L, 61959109L, 50499839L, :\n",
      "“invalid factor level, NA generated”Warning message in `[<-.factor`(`*tmp*`, ri, value = c(587L, 574L, 570L, 549L, 543L, :\n",
      "“invalid factor level, NA generated”Warning message in `[<-.factor`(`*tmp*`, ri, value = c(393957L, 393957L, 393957L, :\n",
      "“invalid factor level, NA generated”Warning message in `[<-.factor`(`*tmp*`, ri, value = c(3245792L, 3794750L, 3843198L, :\n",
      "“invalid factor level, NA generated”Warning message in `[<-.factor`(`*tmp*`, ri, value = c(254L, 254L, 254L, 254L, 254L, :\n",
      "“invalid factor level, NA generated”Warning message in `[<-.factor`(`*tmp*`, ri, value = c(522151L, 522151L, 522151L, :\n",
      "“invalid factor level, NA generated”Warning message in `[<-.factor`(`*tmp*`, ri, value = c(298982L, 298982L, 298982L, :\n",
      "“invalid factor level, NA generated”Warning message in `[<-.factor`(`*tmp*`, ri, value = c(4032329L, 1248883L, 1210106L, :\n",
      "“invalid factor level, NA generated”Warning message in `[<-.factor`(`*tmp*`, ri, value = c(336354L, 336354L, 336354L, :\n",
      "“invalid factor level, NA generated”Warning message in `[<-.factor`(`*tmp*`, ri, value = c(3148699L, 1506091L, 1442568L, :\n",
      "“invalid factor level, NA generated”Warning message in `[<-.factor`(`*tmp*`, ri, value = c(250L, 250L, 250L, 250L, 250L, :\n",
      "“invalid factor level, NA generated”Warning message in `[<-.factor`(`*tmp*`, ri, value = c(58L, 64L, 90L, 50L, 49L, :\n",
      "“invalid factor level, NA generated”Warning message in `[<-.factor`(`*tmp*`, ri, value = c(381379L, 381379L, 381379L, :\n",
      "“invalid factor level, NA generated”Warning message in `[<-.factor`(`*tmp*`, ri, value = c(430956L, 430956L, 430956L, :\n",
      "“invalid factor level, NA generated”Warning message in `[<-.factor`(`*tmp*`, ri, value = c(2257523L, 18876752L, 11090304L, :\n",
      "“invalid factor level, NA generated”Warning message in `[<-.factor`(`*tmp*`, ri, value = c(532626L, 532626L, 532626L, :\n",
      "“invalid factor level, NA generated”Warning message in `[<-.factor`(`*tmp*`, ri, value = c(23097738L, 21574311L)):\n",
      "“invalid factor level, NA generated”Warning message in `[<-.factor`(`*tmp*`, ri, value = c(316570L, 316570L)):\n",
      "“invalid factor level, NA generated”Warning message in `[<-.factor`(`*tmp*`, ri, value = c(18598811L, 23166221L)):\n",
      "“invalid factor level, NA generated”Warning message in `[<-.factor`(`*tmp*`, ri, value = c(316560L, 316560L)):\n",
      "“invalid factor level, NA generated”Warning message in `[<-.factor`(`*tmp*`, ri, value = c(0L, 0L, 0L, 33530461L, 0L:\n",
      "“invalid factor level, NA generated”Warning message in `[<-.factor`(`*tmp*`, ri, value = c(353155L, 353155L, 353155L, :\n",
      "“invalid factor level, NA generated”Warning message in `[<-.factor`(`*tmp*`, ri, value = c(37451335L, 33827888L, 43403855L:\n",
      "“invalid factor level, NA generated”Warning message in `[<-.factor`(`*tmp*`, ri, value = c(413828L, 413828L, 413828L:\n",
      "“invalid factor level, NA generated”Warning message in `[<-.factor`(`*tmp*`, ri, value = c(24216055L, 23833983L, 23619748L:\n",
      "“invalid factor level, NA generated”Warning message in `[<-.factor`(`*tmp*`, ri, value = c(476660L, 476660L, 476660L:\n",
      "“invalid factor level, NA generated”"
     ]
    },
    {
     "name": "stdout",
     "output_type": "stream",
     "text": [
      "[1] 5021   48\n"
     ]
    },
    {
     "data": {
      "text/html": [
       "<table>\n",
       "<thead><tr><th scope=col>Run</th><th scope=col>ReleaseDate</th><th scope=col>LoadDate</th><th scope=col>spots</th><th scope=col>bases</th><th scope=col>spots_with_mates</th><th scope=col>avgLength</th><th scope=col>size_MB</th><th scope=col>AssemblyName</th><th scope=col>download_path</th><th scope=col>⋯</th><th scope=col>Analyte_Type</th><th scope=col>Histological_Type</th><th scope=col>Body_Site</th><th scope=col>CenterName</th><th scope=col>Submission</th><th scope=col>dbgap_study_accession</th><th scope=col>Consent</th><th scope=col>RunHash</th><th scope=col>ReadHash</th><th scope=col>bioproject</th></tr></thead>\n",
       "<tbody>\n",
       "\t<tr><td>ERR1135708                                                                     </td><td>2016-01-12 18:11:38                                                            </td><td>2016-01-13 00:12:58                                                            </td><td>552682                                                                         </td><td>46362077                                                                       </td><td>0                                                                              </td><td>83                                                                             </td><td>46                                                                             </td><td>                                                                               </td><td>https://sra-download.ncbi.nlm.nih.gov/sos/sra-pub-run-1/ERR1135708/ERR1135708.1</td><td>⋯                                                                              </td><td>                                                                               </td><td>                                                                               </td><td>                                                                               </td><td>BEIJING GENOME INSTITUTE                                                       </td><td>ERA534579                                                                      </td><td>                                                                               </td><td>public                                                                         </td><td>C5BC3A93A1DC280CEB0A8BDFFF58332E                                               </td><td>A22BDE2CF5CD3D8502AE1236F686749F                                               </td><td>PRJEB11755                                                                     </td></tr>\n",
       "\t<tr><td>ERR1135709                                                                     </td><td>2016-01-12 18:11:38                                                            </td><td>2016-01-13 00:12:55                                                            </td><td>262159                                                                         </td><td>24065603                                                                       </td><td>0                                                                              </td><td>91                                                                             </td><td>21                                                                             </td><td>                                                                               </td><td>https://sra-download.ncbi.nlm.nih.gov/sos/sra-pub-run-1/ERR1135709/ERR1135709.1</td><td>⋯                                                                              </td><td>                                                                               </td><td>                                                                               </td><td>                                                                               </td><td>BEIJING GENOME INSTITUTE                                                       </td><td>ERA534579                                                                      </td><td>                                                                               </td><td>public                                                                         </td><td>6DF3AE70D375B79C8740DE713B45C18D                                               </td><td>32BDA5FD3D72A1C94A349ABD9A0B8F82                                               </td><td>PRJEB11755                                                                     </td></tr>\n",
       "\t<tr><td>ERR1135710                                                                     </td><td>2016-01-12 18:11:38                                                            </td><td>2016-01-13 00:12:56                                                            </td><td>664337                                                                         </td><td>63496249                                                                       </td><td>0                                                                              </td><td>95                                                                             </td><td>54                                                                             </td><td>                                                                               </td><td>https://sra-download.ncbi.nlm.nih.gov/sos/sra-pub-run-1/ERR1135710/ERR1135710.1</td><td>⋯                                                                              </td><td>                                                                               </td><td>                                                                               </td><td>                                                                               </td><td>BEIJING GENOME INSTITUTE                                                       </td><td>ERA534579                                                                      </td><td>                                                                               </td><td>public                                                                         </td><td>6186371F3279E2333CA54DA4AEF89C30                                               </td><td>32429791E7D054DF7567F2571CAC9762                                               </td><td>PRJEB11755                                                                     </td></tr>\n",
       "</tbody>\n",
       "</table>\n"
      ],
      "text/latex": [
       "\\begin{tabular}{r|llllllllllllllllllllllllllllllllllllllllllllllll}\n",
       " Run & ReleaseDate & LoadDate & spots & bases & spots\\_with\\_mates & avgLength & size\\_MB & AssemblyName & download\\_path & ⋯ & Analyte\\_Type & Histological\\_Type & Body\\_Site & CenterName & Submission & dbgap\\_study\\_accession & Consent & RunHash & ReadHash & bioproject\\\\\n",
       "\\hline\n",
       "\t ERR1135708                                                                      & 2016-01-12 18:11:38                                                             & 2016-01-13 00:12:58                                                             & 552682                                                                          & 46362077                                                                        & 0                                                                               & 83                                                                              & 46                                                                              &                                                                                 & https://sra-download.ncbi.nlm.nih.gov/sos/sra-pub-run-1/ERR1135708/ERR1135708.1 & ⋯                                                                               &                                                                                 &                                                                                 &                                                                                 & BEIJING GENOME INSTITUTE                                                        & ERA534579                                                                       &                                                                                 & public                                                                          & C5BC3A93A1DC280CEB0A8BDFFF58332E                                                & A22BDE2CF5CD3D8502AE1236F686749F                                                & PRJEB11755                                                                     \\\\\n",
       "\t ERR1135709                                                                      & 2016-01-12 18:11:38                                                             & 2016-01-13 00:12:55                                                             & 262159                                                                          & 24065603                                                                        & 0                                                                               & 91                                                                              & 21                                                                              &                                                                                 & https://sra-download.ncbi.nlm.nih.gov/sos/sra-pub-run-1/ERR1135709/ERR1135709.1 & ⋯                                                                               &                                                                                 &                                                                                 &                                                                                 & BEIJING GENOME INSTITUTE                                                        & ERA534579                                                                       &                                                                                 & public                                                                          & 6DF3AE70D375B79C8740DE713B45C18D                                                & 32BDA5FD3D72A1C94A349ABD9A0B8F82                                                & PRJEB11755                                                                     \\\\\n",
       "\t ERR1135710                                                                      & 2016-01-12 18:11:38                                                             & 2016-01-13 00:12:56                                                             & 664337                                                                          & 63496249                                                                        & 0                                                                               & 95                                                                              & 54                                                                              &                                                                                 & https://sra-download.ncbi.nlm.nih.gov/sos/sra-pub-run-1/ERR1135710/ERR1135710.1 & ⋯                                                                               &                                                                                 &                                                                                 &                                                                                 & BEIJING GENOME INSTITUTE                                                        & ERA534579                                                                       &                                                                                 & public                                                                          & 6186371F3279E2333CA54DA4AEF89C30                                                & 32429791E7D054DF7567F2571CAC9762                                                & PRJEB11755                                                                     \\\\\n",
       "\\end{tabular}\n"
      ],
      "text/markdown": [
       "\n",
       "Run | ReleaseDate | LoadDate | spots | bases | spots_with_mates | avgLength | size_MB | AssemblyName | download_path | ⋯ | Analyte_Type | Histological_Type | Body_Site | CenterName | Submission | dbgap_study_accession | Consent | RunHash | ReadHash | bioproject | \n",
       "|---|---|---|\n",
       "| ERR1135708                                                                      | 2016-01-12 18:11:38                                                             | 2016-01-13 00:12:58                                                             | 552682                                                                          | 46362077                                                                        | 0                                                                               | 83                                                                              | 46                                                                              |                                                                                 | https://sra-download.ncbi.nlm.nih.gov/sos/sra-pub-run-1/ERR1135708/ERR1135708.1 | ⋯                                                                               |                                                                                 |                                                                                 |                                                                                 | BEIJING GENOME INSTITUTE                                                        | ERA534579                                                                       |                                                                                 | public                                                                          | C5BC3A93A1DC280CEB0A8BDFFF58332E                                                | A22BDE2CF5CD3D8502AE1236F686749F                                                | PRJEB11755                                                                      | \n",
       "| ERR1135709                                                                      | 2016-01-12 18:11:38                                                             | 2016-01-13 00:12:55                                                             | 262159                                                                          | 24065603                                                                        | 0                                                                               | 91                                                                              | 21                                                                              |                                                                                 | https://sra-download.ncbi.nlm.nih.gov/sos/sra-pub-run-1/ERR1135709/ERR1135709.1 | ⋯                                                                               |                                                                                 |                                                                                 |                                                                                 | BEIJING GENOME INSTITUTE                                                        | ERA534579                                                                       |                                                                                 | public                                                                          | 6DF3AE70D375B79C8740DE713B45C18D                                                | 32BDA5FD3D72A1C94A349ABD9A0B8F82                                                | PRJEB11755                                                                      | \n",
       "| ERR1135710                                                                      | 2016-01-12 18:11:38                                                             | 2016-01-13 00:12:56                                                             | 664337                                                                          | 63496249                                                                        | 0                                                                               | 95                                                                              | 54                                                                              |                                                                                 | https://sra-download.ncbi.nlm.nih.gov/sos/sra-pub-run-1/ERR1135710/ERR1135710.1 | ⋯                                                                               |                                                                                 |                                                                                 |                                                                                 | BEIJING GENOME INSTITUTE                                                        | ERA534579                                                                       |                                                                                 | public                                                                          | 6186371F3279E2333CA54DA4AEF89C30                                                | 32429791E7D054DF7567F2571CAC9762                                                | PRJEB11755                                                                      | \n",
       "\n",
       "\n"
      ],
      "text/plain": [
       "  Run        ReleaseDate         LoadDate            spots  bases   \n",
       "1 ERR1135708 2016-01-12 18:11:38 2016-01-13 00:12:58 552682 46362077\n",
       "2 ERR1135709 2016-01-12 18:11:38 2016-01-13 00:12:55 262159 24065603\n",
       "3 ERR1135710 2016-01-12 18:11:38 2016-01-13 00:12:56 664337 63496249\n",
       "  spots_with_mates avgLength size_MB AssemblyName\n",
       "1 0                83        46                  \n",
       "2 0                91        21                  \n",
       "3 0                95        54                  \n",
       "  download_path                                                                  \n",
       "1 https://sra-download.ncbi.nlm.nih.gov/sos/sra-pub-run-1/ERR1135708/ERR1135708.1\n",
       "2 https://sra-download.ncbi.nlm.nih.gov/sos/sra-pub-run-1/ERR1135709/ERR1135709.1\n",
       "3 https://sra-download.ncbi.nlm.nih.gov/sos/sra-pub-run-1/ERR1135710/ERR1135710.1\n",
       "  ⋯ Analyte_Type Histological_Type Body_Site CenterName              \n",
       "1 ⋯                                          BEIJING GENOME INSTITUTE\n",
       "2 ⋯                                          BEIJING GENOME INSTITUTE\n",
       "3 ⋯                                          BEIJING GENOME INSTITUTE\n",
       "  Submission dbgap_study_accession Consent RunHash                         \n",
       "1 ERA534579                        public  C5BC3A93A1DC280CEB0A8BDFFF58332E\n",
       "2 ERA534579                        public  6DF3AE70D375B79C8740DE713B45C18D\n",
       "3 ERA534579                        public  6186371F3279E2333CA54DA4AEF89C30\n",
       "  ReadHash                         bioproject\n",
       "1 A22BDE2CF5CD3D8502AE1236F686749F PRJEB11755\n",
       "2 32BDA5FD3D72A1C94A349ABD9A0B8F82 PRJEB11755\n",
       "3 32429791E7D054DF7567F2571CAC9762 PRJEB11755"
      ]
     },
     "metadata": {},
     "output_type": "display_data"
    }
   ],
   "source": [
    "# loading the runinfo\n",
    "sra_runinfo = list()\n",
    "for(F in sra_info_files$file_path){\n",
    "    z = file.info(F)\n",
    "    if(!is.na(z$size) && z$size > 20){\n",
    "        X = read.delim(F, sep=',') %>%\n",
    "            mutate(spots = as.Num(spots),\n",
    "                   bases = as.Num(bases),\n",
    "                   avgLength = as.Num(avgLength),\n",
    "                   size_MB = as.Num(size_MB),\n",
    "                   TaxID = as.Num(TaxID))\n",
    "        X$bioproject = gsub('_runinfo.csv', '', basename(F))\n",
    "        sra_runinfo[[F]] = X\n",
    "    }\n",
    "}\n",
    "\n",
    "sra_runinfo = do.call(rbind, sra_runinfo) \n",
    "rownames(sra_runinfo) = 1:nrow(sra_runinfo)\n",
    "sra_runinfo %>% dfhead"
   ]
  },
  {
   "cell_type": "code",
   "execution_count": 98,
   "metadata": {
    "ExecuteTime": {
     "end_time": "2019-06-11T13:07:26.423747Z",
     "start_time": "2019-06-11T13:06:18.418Z"
    }
   },
   "outputs": [
    {
     "data": {
      "text/plain": [
       "         Run           spots               bases             avgLength    \n",
       " Run       :  30   Min.   :     7743   Min.   :2.562e+06   Min.   : 78.0  \n",
       " ERR1135178:   1   1st Qu.:  1837648   1st Qu.:4.600e+08   1st Qu.:250.0  \n",
       " ERR1135179:   1   Median :  2323131   Median :5.823e+08   Median :250.0  \n",
       " ERR1135180:   1   Mean   :  5914846   Mean   :1.371e+09   Mean   :250.2  \n",
       " ERR1135181:   1   3rd Qu.:  3595855   3rd Qu.:8.892e+08   3rd Qu.:252.0  \n",
       " ERR1135182:   1   Max.   :159524720   Max.   :4.818e+10   Max.   :500.0  \n",
       " (Other)   :4986   NA's   :30          NA's   :30          NA's   :30     \n",
       "    size_MB               LibraryStrategy       LibraryLayout \n",
       " Min.   :    1.0   LibraryStrategy:  30   LibraryLayout:  30  \n",
       " 1st Qu.:  174.0   WGS            :4353   PAIRED       :4432  \n",
       " Median :  230.0   Hi-C           :   2   SINGLE       : 559  \n",
       " Mean   :  670.8   OTHER          : 309                       \n",
       " 3rd Qu.:  350.0   AMPLICON       : 327                       \n",
       " Max.   :21009.0                                              \n",
       " NA's   :30                                                   \n",
       "        Platform                    Model          TaxID        \n",
       " ILLUMINA   :4984   Illumina HiSeq 2500:3391   Min.   :    564  \n",
       " Platform   :  30   Illumina HiSeq 2000: 617   1st Qu.: 749906  \n",
       " LS454      :   3   Illumina MiSeq     : 485   Median :1869227  \n",
       " ION_TORRENT:   4   HiSeq X Ten        : 377   Mean   :1476056  \n",
       "                    NextSeq 500        :  65   3rd Qu.:1869227  \n",
       "                    Illumina HiSeq 4000:  49   Max.   :1869227  \n",
       "                    (Other)            :  37   NA's   :30       \n",
       "                  ScientificName\n",
       " bacterium               :3000  \n",
       " pig gut metagenome      : 590  \n",
       " chicken gut metagenome  : 495  \n",
       " gut metagenome          : 379  \n",
       " mouse gut metagenome    : 270  \n",
       " Cebus capucinus imitator: 105  \n",
       " (Other)                 : 182  "
      ]
     },
     "metadata": {},
     "output_type": "display_data"
    }
   ],
   "source": [
    "# summary\n",
    "sra_runinfo %>%\n",
    "    dplyr::select(Run, spots, bases, avgLength, size_MB, LibraryStrategy,\n",
    "                  LibraryLayout, Platform, Model, TaxID, ScientificName) %>%\n",
    "    summary"
   ]
  },
  {
   "cell_type": "code",
   "execution_count": 112,
   "metadata": {
    "ExecuteTime": {
     "end_time": "2019-06-11T13:18:33.267429Z",
     "start_time": "2019-06-11T13:18:33.179Z"
    }
   },
   "outputs": [
    {
     "name": "stdout",
     "output_type": "stream",
     "text": [
      "[1] 4068\n",
      "[1] 14\n"
     ]
    },
    {
     "data": {
      "text/plain": [
       "         Run           spots               bases             avgLength    \n",
       " ERR1135178:   1   Min.   :  1050368   Min.   :2.441e+08   Min.   :149.0  \n",
       " ERR1135179:   1   1st Qu.:  2052618   1st Qu.:5.142e+08   1st Qu.:250.0  \n",
       " ERR1135180:   1   Median :  2503500   Median :6.296e+08   Median :252.0  \n",
       " ERR1135181:   1   Mean   :  6909590   Mean   :1.621e+09   Mean   :248.7  \n",
       " ERR1135182:   1   3rd Qu.:  3958522   3rd Qu.:9.958e+08   3rd Qu.:252.0  \n",
       " ERR1135183:   1   Max.   :159524720   Max.   :4.818e+10   Max.   :365.0  \n",
       " (Other)   :4062                                                          \n",
       "    size_MB               LibraryStrategy       LibraryLayout \n",
       " Min.   :  109.0   LibraryStrategy:   0   LibraryLayout:   0  \n",
       " 1st Qu.:  197.0   WGS            :4008   PAIRED       :4068  \n",
       " Median :  250.5   Hi-C           :   0   SINGLE       :   0  \n",
       " Mean   :  792.9   OTHER          :  60                       \n",
       " 3rd Qu.:  398.0   AMPLICON       :   0                       \n",
       " Max.   :21009.0                                              \n",
       "                                                              \n",
       "        Platform                    Model          TaxID        \n",
       " ILLUMINA   :4068   Illumina HiSeq 2500:3295   Min.   :   8049  \n",
       " Platform   :   0   HiSeq X Ten        : 346   1st Qu.:1510822  \n",
       " LS454      :   0   Illumina HiSeq 2000: 310   Median :1869227  \n",
       " ION_TORRENT:   0   NextSeq 500        :  65   Mean   :1584961  \n",
       "                    Illumina HiSeq 4000:  46   3rd Qu.:1869227  \n",
       "                    Illumina MiSeq     :   6   Max.   :1869227  \n",
       "                    (Other)            :   0                    \n",
       "                ScientificName\n",
       " bacterium             :3000  \n",
       " chicken gut metagenome: 465  \n",
       " pig gut metagenome    : 295  \n",
       " gut metagenome        : 121  \n",
       " Gadus morhua          :  57  \n",
       " metagenome            :  43  \n",
       " (Other)               :  87  "
      ]
     },
     "metadata": {},
     "output_type": "display_data"
    }
   ],
   "source": [
    "# filtering\n",
    "sra_runinfo_f = sra_runinfo %>%\n",
    "    filter(spots > 1e6,\n",
    "           avgLength >= 100,\n",
    "           ! LibraryStrategy %in% c('Hi-C', 'AMPLICON'),\n",
    "           LibraryLayout == 'PAIRED',\n",
    "           ! Platform %in% c('ION_TORRENT'),\n",
    "           ! TaxID %in% c(564, 315405, 1263854))\n",
    "\n",
    "sra_runinfo_f %>% nrow %>% print\n",
    "sra_runinfo_f$bioproject %>% unique %>% length %>% print\n",
    "\n",
    "sra_runinfo_f %>%\n",
    "    dplyr::select(Run, spots, bases, avgLength, size_MB, LibraryStrategy,\n",
    "                  LibraryLayout, Platform, Model, TaxID, ScientificName) %>%\n",
    "    summary           "
   ]
  },
  {
   "cell_type": "markdown",
   "metadata": {},
   "source": [
    "# Get sample metadata\n",
    "\n",
    "* For each sample, get NCBI biosample data\n",
    "* Using entrez + xml formatting script:\n",
    "\n",
    "```\n",
    "esearch -db sra -query <Sample> | elink -target biosample | efetch -format xml | cat | ./ncbi_biosample_info.py -\n",
    "```"
   ]
  },
  {
   "cell_type": "code",
   "execution_count": 180,
   "metadata": {
    "ExecuteTime": {
     "end_time": "2019-06-12T06:43:23.479101Z",
     "start_time": "2019-06-12T06:43:23.452Z"
    }
   },
   "outputs": [],
   "source": [
    "# creating commands\n",
    "make_cmd = function(Sample, out_dir){\n",
    "    exe = '/ebio/abt3_projects/Georg_animal_feces/data/metagenome/multi-study/ncbi_biosample_info.py'\n",
    "    out_dir = file.path(out_dir, Sample)\n",
    "    make_dir(out_dir, quite=TRUE)\n",
    "    out_file = file.path(out_dir,'biosample_info.tsv')\n",
    "    cmd = 'esearch -db sra -query {Sample} | elink -target biosample | efetch -format xml | cat | {exe} - {out_file}'\n",
    "    cmd = glue::glue(cmd, Sample = Sample, exe = exe, out_file = out_file)\n",
    "    return(cmd)\n",
    "}"
   ]
  },
  {
   "cell_type": "code",
   "execution_count": 181,
   "metadata": {
    "ExecuteTime": {
     "end_time": "2019-06-12T06:43:24.783290Z",
     "start_time": "2019-06-12T06:43:23.844Z"
    }
   },
   "outputs": [
    {
     "name": "stdout",
     "output_type": "stream",
     "text": [
      "Directory already exists: /ebio/abt3_projects/Georg_animal_feces/data/metagenome/multi-study//SRA_biosample_info \n",
      "[1] 1096\n"
     ]
    },
    {
     "data": {
      "text/html": [
       "'esearch -db sra -query ERS970444 | elink -target biosample | efetch -format xml | cat | /ebio/abt3_projects/Georg_animal_feces/data/metagenome/multi-study/ncbi_biosample_info.py - /ebio/abt3_projects/Georg_animal_feces/data/metagenome/multi-study//SRA_biosample_info/ERS970444/biosample_info.tsv'"
      ],
      "text/latex": [
       "'esearch -db sra -query ERS970444 \\textbar{} elink -target biosample \\textbar{} efetch -format xml \\textbar{} cat \\textbar{} /ebio/abt3\\_projects/Georg\\_animal\\_feces/data/metagenome/multi-study/ncbi\\_biosample\\_info.py - /ebio/abt3\\_projects/Georg\\_animal\\_feces/data/metagenome/multi-study//SRA\\_biosample\\_info/ERS970444/biosample\\_info.tsv'"
      ],
      "text/markdown": [
       "'esearch -db sra -query ERS970444 | elink -target biosample | efetch -format xml | cat | /ebio/abt3_projects/Georg_animal_feces/data/metagenome/multi-study/ncbi_biosample_info.py - /ebio/abt3_projects/Georg_animal_feces/data/metagenome/multi-study//SRA_biosample_info/ERS970444/biosample_info.tsv'"
      ],
      "text/plain": [
       "esearch -db sra -query ERS970444 | elink -target biosample | efetch -format xml | cat | /ebio/abt3_projects/Georg_animal_feces/data/metagenome/multi-study/ncbi_biosample_info.py - /ebio/abt3_projects/Georg_animal_feces/data/metagenome/multi-study//SRA_biosample_info/ERS970444/biosample_info.tsv"
      ]
     },
     "metadata": {},
     "output_type": "display_data"
    }
   ],
   "source": [
    "out_dir = file.path(work_dir, 'SRA_biosample_info')\n",
    "make_dir(out_dir)\n",
    "\n",
    "X = sra_runinfo_f$Sample %>% unique %>% as.list\n",
    "cmds = lapply(X, make_cmd, out_dir=out_dir)\n",
    "cmds %>% length %>% print\n",
    "cmds[[1]]"
   ]
  },
  {
   "cell_type": "code",
   "execution_count": 182,
   "metadata": {
    "ExecuteTime": {
     "end_time": "2019-06-12T08:08:43.886303Z",
     "start_time": "2019-06-12T06:43:33.052Z"
    }
   },
   "outputs": [
    {
     "name": "stderr",
     "output_type": "stream",
     "text": [
      "Warning message:\n",
      "“running command ''bash' -c \". ~/.bashrc; conda activate py3_genome; esearch -db sra -query ERS970368 | elink -target biosample | efetch -format xml | cat | /ebio/abt3_projects/Georg_animal_feces/data/metagenome/multi-study/ncbi_biosample_info.py - /ebio/abt3_projects/Georg_animal_feces/data/metagenome/multi-study//SRA_biosample_info/ERS970368/biosample_info.tsv\" 2>/dev/null' had status 1”Warning message:\n",
      "“running command ''bash' -c \". ~/.bashrc; conda activate py3_genome; esearch -db sra -query ERS970223 | elink -target biosample | efetch -format xml | cat | /ebio/abt3_projects/Georg_animal_feces/data/metagenome/multi-study/ncbi_biosample_info.py - /ebio/abt3_projects/Georg_animal_feces/data/metagenome/multi-study//SRA_biosample_info/ERS970223/biosample_info.tsv\" 2>/dev/null' had status 1”Warning message:\n",
      "“running command ''bash' -c \". ~/.bashrc; conda activate py3_genome; esearch -db sra -query SRS1873539 | elink -target biosample | efetch -format xml | cat | /ebio/abt3_projects/Georg_animal_feces/data/metagenome/multi-study/ncbi_biosample_info.py - /ebio/abt3_projects/Georg_animal_feces/data/metagenome/multi-study//SRA_biosample_info/SRS1873539/biosample_info.tsv\" 2>/dev/null' had status 1”Warning message:\n",
      "“running command ''bash' -c \". ~/.bashrc; conda activate py3_genome; esearch -db sra -query ERS2855423 | elink -target biosample | efetch -format xml | cat | /ebio/abt3_projects/Georg_animal_feces/data/metagenome/multi-study/ncbi_biosample_info.py - /ebio/abt3_projects/Georg_animal_feces/data/metagenome/multi-study//SRA_biosample_info/ERS2855423/biosample_info.tsv\" 2>/dev/null' had status 1”Warning message:\n",
      "“running command ''bash' -c \". ~/.bashrc; conda activate py3_genome; esearch -db sra -query SRS2714891 | elink -target biosample | efetch -format xml | cat | /ebio/abt3_projects/Georg_animal_feces/data/metagenome/multi-study/ncbi_biosample_info.py - /ebio/abt3_projects/Georg_animal_feces/data/metagenome/multi-study//SRA_biosample_info/SRS2714891/biosample_info.tsv\" 2>/dev/null' had status 1”Warning message:\n",
      "“running command ''bash' -c \". ~/.bashrc; conda activate py3_genome; esearch -db sra -query SRS2714758 | elink -target biosample | efetch -format xml | cat | /ebio/abt3_projects/Georg_animal_feces/data/metagenome/multi-study/ncbi_biosample_info.py - /ebio/abt3_projects/Georg_animal_feces/data/metagenome/multi-study//SRA_biosample_info/SRS2714758/biosample_info.tsv\" 2>/dev/null' had status 1”Warning message:\n",
      "“running command ''bash' -c \". ~/.bashrc; conda activate py3_genome; esearch -db sra -query SRS2714644 | elink -target biosample | efetch -format xml | cat | /ebio/abt3_projects/Georg_animal_feces/data/metagenome/multi-study/ncbi_biosample_info.py - /ebio/abt3_projects/Georg_animal_feces/data/metagenome/multi-study//SRA_biosample_info/SRS2714644/biosample_info.tsv\" 2>/dev/null' had status 1”Warning message:\n",
      "“running command ''bash' -c \". ~/.bashrc; conda activate py3_genome; esearch -db sra -query SRS4618125 | elink -target biosample | efetch -format xml | cat | /ebio/abt3_projects/Georg_animal_feces/data/metagenome/multi-study/ncbi_biosample_info.py - /ebio/abt3_projects/Georg_animal_feces/data/metagenome/multi-study//SRA_biosample_info/SRS4618125/biosample_info.tsv\" 2>/dev/null' had status 1”Warning message:\n",
      "“running command ''bash' -c \". ~/.bashrc; conda activate py3_genome; esearch -db sra -query SRS4618119 | elink -target biosample | efetch -format xml | cat | /ebio/abt3_projects/Georg_animal_feces/data/metagenome/multi-study/ncbi_biosample_info.py - /ebio/abt3_projects/Georg_animal_feces/data/metagenome/multi-study//SRA_biosample_info/SRS4618119/biosample_info.tsv\" 2>/dev/null' had status 1”Warning message:\n",
      "“running command ''bash' -c \". ~/.bashrc; conda activate py3_genome; esearch -db sra -query SRS4618117 | elink -target biosample | efetch -format xml | cat | /ebio/abt3_projects/Georg_animal_feces/data/metagenome/multi-study/ncbi_biosample_info.py - /ebio/abt3_projects/Georg_animal_feces/data/metagenome/multi-study//SRA_biosample_info/SRS4618117/biosample_info.tsv\" 2>/dev/null' had status 1”"
     ]
    }
   ],
   "source": [
    "conda_env = 'py3_genome'\n",
    "ret = lapply(cmds, function(x) bash_job(x, conda_env=conda_env))"
   ]
  },
  {
   "cell_type": "markdown",
   "metadata": {},
   "source": [
    "**Note:** I re-ran those failed commands 'manually' on the command line"
   ]
  },
  {
   "cell_type": "code",
   "execution_count": 186,
   "metadata": {
    "ExecuteTime": {
     "end_time": "2019-06-12T08:13:43.848424Z",
     "start_time": "2019-06-12T08:13:43.489Z"
    }
   },
   "outputs": [
    {
     "name": "stdout",
     "output_type": "stream",
     "text": [
      "[1] 1096\n"
     ]
    }
   ],
   "source": [
    "# list output files\n",
    "biosample_info_files = list.files(out_dir, 'biosample_info.tsv', full.names=TRUE, recursive=TRUE)\n",
    "biosample_info_files %>% length %>% print"
   ]
  },
  {
   "cell_type": "code",
   "execution_count": 190,
   "metadata": {
    "ExecuteTime": {
     "end_time": "2019-06-12T08:16:18.771337Z",
     "start_time": "2019-06-12T08:15:56.157Z"
    }
   },
   "outputs": [
    {
     "name": "stdout",
     "output_type": "stream",
     "text": [
      "[1] 73600     4\n"
     ]
    },
    {
     "data": {
      "text/html": [
       "<table>\n",
       "<thead><tr><th scope=col>Sample</th><th scope=col>BioSample</th><th scope=col>Tag</th><th scope=col>Attribute</th></tr></thead>\n",
       "<tbody>\n",
       "\t<tr><td>ERS1646961    </td><td>SAMEA103957793</td><td>BioSample     </td><td>              </td></tr>\n",
       "\t<tr><td>ERS1646961    </td><td>SAMEA103957793</td><td>Ids           </td><td>              </td></tr>\n",
       "\t<tr><td>ERS1646961    </td><td>SAMEA103957793</td><td>Description   </td><td>              </td></tr>\n",
       "</tbody>\n",
       "</table>\n"
      ],
      "text/latex": [
       "\\begin{tabular}{r|llll}\n",
       " Sample & BioSample & Tag & Attribute\\\\\n",
       "\\hline\n",
       "\t ERS1646961     & SAMEA103957793 & BioSample      &               \\\\\n",
       "\t ERS1646961     & SAMEA103957793 & Ids            &               \\\\\n",
       "\t ERS1646961     & SAMEA103957793 & Description    &               \\\\\n",
       "\\end{tabular}\n"
      ],
      "text/markdown": [
       "\n",
       "Sample | BioSample | Tag | Attribute | \n",
       "|---|---|---|\n",
       "| ERS1646961     | SAMEA103957793 | BioSample      |                | \n",
       "| ERS1646961     | SAMEA103957793 | Ids            |                | \n",
       "| ERS1646961     | SAMEA103957793 | Description    |                | \n",
       "\n",
       "\n"
      ],
      "text/plain": [
       "  Sample     BioSample      Tag         Attribute\n",
       "1 ERS1646961 SAMEA103957793 BioSample            \n",
       "2 ERS1646961 SAMEA103957793 Ids                  \n",
       "3 ERS1646961 SAMEA103957793 Description          "
      ]
     },
     "metadata": {},
     "output_type": "display_data"
    }
   ],
   "source": [
    "# combining output\n",
    "biosample_info = list()\n",
    "for(F in biosample_info_files){\n",
    "    df = read.delim(F, sep='\\t', header=FALSE)\n",
    "    colnames(df) = c('Sample', 'BioSample', 'Tag', 'Attribute')\n",
    "    biosample_info[[F]] = df\n",
    "}\n",
    "\n",
    "biosample_info = do.call(rbind, biosample_info)\n",
    "rownames(biosample_info) = 1:nrow(biosample_info)\n",
    "biosample_info %>% dfhead"
   ]
  },
  {
   "cell_type": "code",
   "execution_count": 192,
   "metadata": {
    "ExecuteTime": {
     "end_time": "2019-06-12T08:16:45.938469Z",
     "start_time": "2019-06-12T08:16:45.858Z"
    }
   },
   "outputs": [
    {
     "name": "stdout",
     "output_type": "stream",
     "text": [
      "[1] 0\n",
      "[1] 0\n"
     ]
    }
   ],
   "source": [
    "# checking that all samples are present in bioinfo table\n",
    "setdiff(sra_runinfo_f$Sample, biosample_info$Sample) %>% length %>% print\n",
    "setdiff(biosample_info$Sample, sra_runinfo_f$Sample) %>% length %>% print"
   ]
  },
  {
   "cell_type": "markdown",
   "metadata": {},
   "source": [
    "# Dataset summary"
   ]
  },
  {
   "cell_type": "code",
   "execution_count": 217,
   "metadata": {
    "ExecuteTime": {
     "end_time": "2019-06-12T08:29:09.874620Z",
     "start_time": "2019-06-12T08:29:09.760Z"
    }
   },
   "outputs": [
    {
     "name": "stderr",
     "output_type": "stream",
     "text": [
      "Warning message:\n",
      "“Column `Sample` joining factors with different levels, coercing to character vector”Warning message:\n",
      "“Column `BioSample` joining factors with different levels, coercing to character vector”"
     ]
    },
    {
     "name": "stdout",
     "output_type": "stream",
     "text": [
      "[1] 4068   25\n"
     ]
    },
    {
     "data": {
      "text/html": [
       "<table>\n",
       "<thead><tr><th scope=col>Sample</th><th scope=col>BioSample</th><th scope=col>Alias</th><th scope=col>collection_date</th><th scope=col>env_biome</th><th scope=col>env_material</th><th scope=col>host</th><th scope=col>Id</th><th scope=col>Id__2</th><th scope=col>Name</th><th scope=col>⋯</th><th scope=col>spots</th><th scope=col>bases</th><th scope=col>avgLength</th><th scope=col>size_MB</th><th scope=col>LibraryStrategy</th><th scope=col>LibraryLayout</th><th scope=col>Platform</th><th scope=col>Model</th><th scope=col>TaxID</th><th scope=col>ScientificName</th></tr></thead>\n",
       "<tbody>\n",
       "\t<tr><td>ERS1646961            </td><td>SAMEA103957793        </td><td>Sample_58             </td><td>2014                  </td><td>gut                   </td><td>feces                 </td><td>Canis lupus familiaris</td><td>SAMEA103957793        </td><td>ERS1646961            </td><td>EBI                   </td><td>⋯                     </td><td>3638228               </td><td>909557000             </td><td>250                   </td><td>322                   </td><td>WGS                   </td><td>PAIRED                </td><td>ILLUMINA              </td><td>Illumina HiSeq 2500   </td><td>749906                </td><td>gut metagenome        </td></tr>\n",
       "\t<tr><td>ERS1646961            </td><td>SAMEA103957793        </td><td>Sample_58             </td><td>2014                  </td><td>gut                   </td><td>feces                 </td><td>Canis lupus familiaris</td><td>SAMEA103957793        </td><td>ERS1646961            </td><td>EBI                   </td><td>⋯                     </td><td>3615718               </td><td>903929500             </td><td>250                   </td><td>320                   </td><td>WGS                   </td><td>PAIRED                </td><td>ILLUMINA              </td><td>Illumina HiSeq 2500   </td><td>749906                </td><td>gut metagenome        </td></tr>\n",
       "\t<tr><td>ERS1646961            </td><td>SAMEA103957793        </td><td>Sample_58             </td><td>2014                  </td><td>gut                   </td><td>feces                 </td><td>Canis lupus familiaris</td><td>SAMEA103957793        </td><td>ERS1646961            </td><td>EBI                   </td><td>⋯                     </td><td>3579352               </td><td>894838000             </td><td>250                   </td><td>315                   </td><td>WGS                   </td><td>PAIRED                </td><td>ILLUMINA              </td><td>Illumina HiSeq 2500   </td><td>749906                </td><td>gut metagenome        </td></tr>\n",
       "</tbody>\n",
       "</table>\n"
      ],
      "text/latex": [
       "\\begin{tabular}{r|lllllllllllllllllllllllll}\n",
       " Sample & BioSample & Alias & collection\\_date & env\\_biome & env\\_material & host & Id & Id\\_\\_2 & Name & ⋯ & spots & bases & avgLength & size\\_MB & LibraryStrategy & LibraryLayout & Platform & Model & TaxID & ScientificName\\\\\n",
       "\\hline\n",
       "\t ERS1646961             & SAMEA103957793         & Sample\\_58            & 2014                   & gut                    & feces                  & Canis lupus familiaris & SAMEA103957793         & ERS1646961             & EBI                    & ⋯                      & 3638228                & 909557000              & 250                    & 322                    & WGS                    & PAIRED                 & ILLUMINA               & Illumina HiSeq 2500    & 749906                 & gut metagenome        \\\\\n",
       "\t ERS1646961             & SAMEA103957793         & Sample\\_58            & 2014                   & gut                    & feces                  & Canis lupus familiaris & SAMEA103957793         & ERS1646961             & EBI                    & ⋯                      & 3615718                & 903929500              & 250                    & 320                    & WGS                    & PAIRED                 & ILLUMINA               & Illumina HiSeq 2500    & 749906                 & gut metagenome        \\\\\n",
       "\t ERS1646961             & SAMEA103957793         & Sample\\_58            & 2014                   & gut                    & feces                  & Canis lupus familiaris & SAMEA103957793         & ERS1646961             & EBI                    & ⋯                      & 3579352                & 894838000              & 250                    & 315                    & WGS                    & PAIRED                 & ILLUMINA               & Illumina HiSeq 2500    & 749906                 & gut metagenome        \\\\\n",
       "\\end{tabular}\n"
      ],
      "text/markdown": [
       "\n",
       "Sample | BioSample | Alias | collection_date | env_biome | env_material | host | Id | Id__2 | Name | ⋯ | spots | bases | avgLength | size_MB | LibraryStrategy | LibraryLayout | Platform | Model | TaxID | ScientificName | \n",
       "|---|---|---|\n",
       "| ERS1646961             | SAMEA103957793         | Sample_58              | 2014                   | gut                    | feces                  | Canis lupus familiaris | SAMEA103957793         | ERS1646961             | EBI                    | ⋯                      | 3638228                | 909557000              | 250                    | 322                    | WGS                    | PAIRED                 | ILLUMINA               | Illumina HiSeq 2500    | 749906                 | gut metagenome         | \n",
       "| ERS1646961             | SAMEA103957793         | Sample_58              | 2014                   | gut                    | feces                  | Canis lupus familiaris | SAMEA103957793         | ERS1646961             | EBI                    | ⋯                      | 3615718                | 903929500              | 250                    | 320                    | WGS                    | PAIRED                 | ILLUMINA               | Illumina HiSeq 2500    | 749906                 | gut metagenome         | \n",
       "| ERS1646961             | SAMEA103957793         | Sample_58              | 2014                   | gut                    | feces                  | Canis lupus familiaris | SAMEA103957793         | ERS1646961             | EBI                    | ⋯                      | 3579352                | 894838000              | 250                    | 315                    | WGS                    | PAIRED                 | ILLUMINA               | Illumina HiSeq 2500    | 749906                 | gut metagenome         | \n",
       "\n",
       "\n"
      ],
      "text/plain": [
       "  Sample     BioSample      Alias     collection_date env_biome env_material\n",
       "1 ERS1646961 SAMEA103957793 Sample_58 2014            gut       feces       \n",
       "2 ERS1646961 SAMEA103957793 Sample_58 2014            gut       feces       \n",
       "3 ERS1646961 SAMEA103957793 Sample_58 2014            gut       feces       \n",
       "  host                   Id             Id__2      Name ⋯ spots   bases    \n",
       "1 Canis lupus familiaris SAMEA103957793 ERS1646961 EBI  ⋯ 3638228 909557000\n",
       "2 Canis lupus familiaris SAMEA103957793 ERS1646961 EBI  ⋯ 3615718 903929500\n",
       "3 Canis lupus familiaris SAMEA103957793 ERS1646961 EBI  ⋯ 3579352 894838000\n",
       "  avgLength size_MB LibraryStrategy LibraryLayout Platform Model              \n",
       "1 250       322     WGS             PAIRED        ILLUMINA Illumina HiSeq 2500\n",
       "2 250       320     WGS             PAIRED        ILLUMINA Illumina HiSeq 2500\n",
       "3 250       315     WGS             PAIRED        ILLUMINA Illumina HiSeq 2500\n",
       "  TaxID  ScientificName\n",
       "1 749906 gut metagenome\n",
       "2 749906 gut metagenome\n",
       "3 749906 gut metagenome"
      ]
     },
     "metadata": {},
     "output_type": "display_data"
    }
   ],
   "source": [
    "# formatting and joining\n",
    "tags = c('Id', 'Id__2', 'Title', 'Alias', 'Organism', 'Name', 'host', 'SRA_accession' ,\n",
    "         'collection_date', 'env_material', 'env_biome')\n",
    "\n",
    "biosample_info_j = biosample_info %>% \n",
    "    filter(Tag %in% tags) %>%\n",
    "    spread(Tag, Attribute) %>%\n",
    "    inner_join(sra_runinfo_f %>% \n",
    "                   dplyr::select(Sample, BioSample, Run, BioProject, spots, bases, avgLength, size_MB, \n",
    "                                 LibraryStrategy, LibraryLayout, Platform, Model, TaxID, ScientificName),\n",
    "               c('Sample', 'BioSample'))\n",
    "\n",
    "biosample_info_j %>% dfhead"
   ]
  },
  {
   "cell_type": "markdown",
   "metadata": {},
   "source": [
    "## per-bioproject"
   ]
  },
  {
   "cell_type": "code",
   "execution_count": 232,
   "metadata": {
    "ExecuteTime": {
     "end_time": "2019-06-12T08:39:43.868896Z",
     "start_time": "2019-06-12T08:39:42.876Z"
    }
   },
   "outputs": [
    {
     "data": {
      "image/png": "[encoded data removed]",
      "text/plain": [
       "plot without title"
      ]
     },
     "metadata": {},
     "output_type": "display_data"
    }
   ],
   "source": [
    "# env_material\n",
    "p = biosample_info_j %>%\n",
    "    group_by(BioProject, env_material) %>%\n",
    "    summarize(n = n()) %>%\n",
    "    ungroup() %>%\n",
    "    ggplot(aes(BioProject, n, fill=env_material)) +\n",
    "    geom_bar(stat='identity', position='dodge') +\n",
    "    scale_y_log10() +\n",
    "    labs(y='No. of runs') +\n",
    "    theme_bw() +\n",
    "    theme(\n",
    "        axis.text.x = element_text(angle=45, hjust=1)\n",
    "    )\n",
    "   \n",
    "dims(8, 3)\n",
    "plot(p)"
   ]
  },
  {
   "cell_type": "code",
   "execution_count": 227,
   "metadata": {
    "ExecuteTime": {
     "end_time": "2019-06-12T08:34:37.958024Z",
     "start_time": "2019-06-12T08:34:36.873Z"
    }
   },
   "outputs": [
    {
     "data": {
      "image/png": "[encoded data removed]",
      "text/plain": [
       "plot without title"
      ]
     },
     "metadata": {},
     "output_type": "display_data"
    }
   ],
   "source": [
    "# env_biome\n",
    "p = biosample_info_j %>%\n",
    "    group_by(BioProject, env_biome) %>%\n",
    "    summarize(n = n()) %>%\n",
    "    ungroup() %>%\n",
    "    ggplot(aes(BioProject, n, fill=env_biome)) +\n",
    "    geom_bar(stat='identity', position='dodge') +\n",
    "    scale_y_log10() +\n",
    "    labs(y='No. of runs') +\n",
    "    theme_bw() +\n",
    "    theme(\n",
    "        axis.text.x = element_text(angle=45, hjust=1)\n",
    "    )\n",
    "   \n",
    "dims(8, 3)\n",
    "plot(p)"
   ]
  },
  {
   "cell_type": "code",
   "execution_count": 229,
   "metadata": {
    "ExecuteTime": {
     "end_time": "2019-06-12T08:35:15.292836Z",
     "start_time": "2019-06-12T08:35:13.311Z"
    }
   },
   "outputs": [
    {
     "data": {
      "image/png": "[encoded data removed]",
      "text/plain": [
       "plot without title"
      ]
     },
     "metadata": {},
     "output_type": "display_data"
    }
   ],
   "source": [
    "# host\n",
    "p = biosample_info_j %>%\n",
    "    group_by(BioProject, host) %>%\n",
    "    summarize(n = n()) %>%\n",
    "    ungroup() %>%\n",
    "    ggplot(aes(BioProject, n, fill=host)) +\n",
    "    geom_bar(stat='identity', position='dodge') +\n",
    "    scale_y_log10() +\n",
    "    labs(y='No. of runs') +\n",
    "    theme_bw() +\n",
    "    theme(\n",
    "        axis.text.x = element_text(angle=45, hjust=1)\n",
    "    )\n",
    "   \n",
    "dims(8, 4)\n",
    "plot(p)"
   ]
  },
  {
   "cell_type": "markdown",
   "metadata": {},
   "source": [
    "#### Notes\n",
    "\n",
    "* `C57BL/6NTac` is the mouse strain"
   ]
  },
  {
   "cell_type": "markdown",
   "metadata": {},
   "source": [
    "# Creating sample files for LLMGQC\n",
    "\n",
    "* separating by bioproject"
   ]
  },
  {
   "cell_type": "code",
   "execution_count": 250,
   "metadata": {
    "ExecuteTime": {
     "end_time": "2019-06-12T08:51:05.634880Z",
     "start_time": "2019-06-12T08:51:05.541Z"
    }
   },
   "outputs": [
    {
     "name": "stdout",
     "output_type": "stream",
     "text": [
      "[1] 4068   26\n"
     ]
    },
    {
     "data": {
      "text/html": [
       "<table>\n",
       "<thead><tr><th scope=col>Sample</th><th scope=col>Run</th><th scope=col>Lane</th><th scope=col>Remote</th><th scope=col>spots</th><th scope=col>bases</th><th scope=col>avgLength</th><th scope=col>size_MB</th><th scope=col>BioProject</th><th scope=col>bioproject</th><th scope=col>⋯</th><th scope=col>LibraryName</th><th scope=col>LibraryStrategy</th><th scope=col>LibrarySelection</th><th scope=col>LibrarySource</th><th scope=col>LibraryLayout</th><th scope=col>InsertSize</th><th scope=col>InsertDev</th><th scope=col>Platform</th><th scope=col>Model</th><th scope=col>source</th></tr></thead>\n",
       "<tbody>\n",
       "\t<tr><td>SAMEA3663295       </td><td>ERR1135468         </td><td>1                  </td><td>ERR1135468         </td><td>24873864           </td><td>4875031192         </td><td>195                </td><td>3574               </td><td>PRJEB11755         </td><td>PRJEB11755         </td><td>⋯                  </td><td>130421             </td><td>WGS                </td><td>other              </td><td>METAGENOMIC        </td><td>PAIRED             </td><td>350                </td><td>0                  </td><td>ILLUMINA           </td><td>Illumina HiSeq 2000</td><td>                   </td></tr>\n",
       "\t<tr><td>SAMEA3663296       </td><td>ERR1135469         </td><td>1                  </td><td>ERR1135469         </td><td>29496968           </td><td>5791369887         </td><td>196                </td><td>4228               </td><td>PRJEB11755         </td><td>PRJEB11755         </td><td>⋯                  </td><td>130421             </td><td>WGS                </td><td>other              </td><td>METAGENOMIC        </td><td>PAIRED             </td><td>350                </td><td>0                  </td><td>ILLUMINA           </td><td>Illumina HiSeq 2000</td><td>                   </td></tr>\n",
       "\t<tr><td>SAMEA3663297       </td><td>ERR1135470         </td><td>1                  </td><td>ERR1135470         </td><td>26828175           </td><td>5160184344         </td><td>192                </td><td>3957               </td><td>PRJEB11755         </td><td>PRJEB11755         </td><td>⋯                  </td><td>130420             </td><td>WGS                </td><td>other              </td><td>METAGENOMIC        </td><td>PAIRED             </td><td>350                </td><td>0                  </td><td>ILLUMINA           </td><td>Illumina HiSeq 2000</td><td>                   </td></tr>\n",
       "</tbody>\n",
       "</table>\n"
      ],
      "text/latex": [
       "\\begin{tabular}{r|llllllllllllllllllllllllll}\n",
       " Sample & Run & Lane & Remote & spots & bases & avgLength & size\\_MB & BioProject & bioproject & ⋯ & LibraryName & LibraryStrategy & LibrarySelection & LibrarySource & LibraryLayout & InsertSize & InsertDev & Platform & Model & source\\\\\n",
       "\\hline\n",
       "\t SAMEA3663295        & ERR1135468          & 1                   & ERR1135468          & 24873864            & 4875031192          & 195                 & 3574                & PRJEB11755          & PRJEB11755          & ⋯                   & 130421              & WGS                 & other               & METAGENOMIC         & PAIRED              & 350                 & 0                   & ILLUMINA            & Illumina HiSeq 2000 &                    \\\\\n",
       "\t SAMEA3663296        & ERR1135469          & 1                   & ERR1135469          & 29496968            & 5791369887          & 196                 & 4228                & PRJEB11755          & PRJEB11755          & ⋯                   & 130421              & WGS                 & other               & METAGENOMIC         & PAIRED              & 350                 & 0                   & ILLUMINA            & Illumina HiSeq 2000 &                    \\\\\n",
       "\t SAMEA3663297        & ERR1135470          & 1                   & ERR1135470          & 26828175            & 5160184344          & 192                 & 3957                & PRJEB11755          & PRJEB11755          & ⋯                   & 130420              & WGS                 & other               & METAGENOMIC         & PAIRED              & 350                 & 0                   & ILLUMINA            & Illumina HiSeq 2000 &                    \\\\\n",
       "\\end{tabular}\n"
      ],
      "text/markdown": [
       "\n",
       "Sample | Run | Lane | Remote | spots | bases | avgLength | size_MB | BioProject | bioproject | ⋯ | LibraryName | LibraryStrategy | LibrarySelection | LibrarySource | LibraryLayout | InsertSize | InsertDev | Platform | Model | source | \n",
       "|---|---|---|\n",
       "| SAMEA3663295        | ERR1135468          | 1                   | ERR1135468          | 24873864            | 4875031192          | 195                 | 3574                | PRJEB11755          | PRJEB11755          | ⋯                   | 130421              | WGS                 | other               | METAGENOMIC         | PAIRED              | 350                 | 0                   | ILLUMINA            | Illumina HiSeq 2000 |                     | \n",
       "| SAMEA3663296        | ERR1135469          | 1                   | ERR1135469          | 29496968            | 5791369887          | 196                 | 4228                | PRJEB11755          | PRJEB11755          | ⋯                   | 130421              | WGS                 | other               | METAGENOMIC         | PAIRED              | 350                 | 0                   | ILLUMINA            | Illumina HiSeq 2000 |                     | \n",
       "| SAMEA3663297        | ERR1135470          | 1                   | ERR1135470          | 26828175            | 5160184344          | 192                 | 3957                | PRJEB11755          | PRJEB11755          | ⋯                   | 130420              | WGS                 | other               | METAGENOMIC         | PAIRED              | 350                 | 0                   | ILLUMINA            | Illumina HiSeq 2000 |                     | \n",
       "\n",
       "\n"
      ],
      "text/plain": [
       "  Sample       Run        Lane Remote     spots    bases      avgLength size_MB\n",
       "1 SAMEA3663295 ERR1135468 1    ERR1135468 24873864 4875031192 195       3574   \n",
       "2 SAMEA3663296 ERR1135469 1    ERR1135469 29496968 5791369887 196       4228   \n",
       "3 SAMEA3663297 ERR1135470 1    ERR1135470 26828175 5160184344 192       3957   \n",
       "  BioProject bioproject ⋯ LibraryName LibraryStrategy LibrarySelection\n",
       "1 PRJEB11755 PRJEB11755 ⋯ 130421      WGS             other           \n",
       "2 PRJEB11755 PRJEB11755 ⋯ 130421      WGS             other           \n",
       "3 PRJEB11755 PRJEB11755 ⋯ 130420      WGS             other           \n",
       "  LibrarySource LibraryLayout InsertSize InsertDev Platform Model              \n",
       "1 METAGENOMIC   PAIRED        350        0         ILLUMINA Illumina HiSeq 2000\n",
       "2 METAGENOMIC   PAIRED        350        0         ILLUMINA Illumina HiSeq 2000\n",
       "3 METAGENOMIC   PAIRED        350        0         ILLUMINA Illumina HiSeq 2000\n",
       "  source\n",
       "1       \n",
       "2       \n",
       "3       "
      ]
     },
     "metadata": {},
     "output_type": "display_data"
    }
   ],
   "source": [
    "# formatting table\n",
    "sra_runinfo_f_f = sra_runinfo_f %>%\n",
    "    mutate(Lane = 1,\n",
    "           Remote = Run) %>%\n",
    "    rename('SampleID' = Sample,\n",
    "           'Sample' = SampleName) %>%\n",
    "    dplyr::select(Sample, Run, Lane, Remote,\n",
    "                  spots, bases, avgLength, size_MB,\n",
    "                  BioProject, bioproject, Study_Pubmed_id, BioSample, \n",
    "                  SampleID, SampleType, TaxID, ScientificName,\n",
    "                  LibraryName, LibraryStrategy, LibrarySelection, LibrarySource, LibraryLayout, \n",
    "                  InsertSize, InsertDev, Platform, Model, source) \n",
    "\n",
    "sra_runinfo_f_f %>% dfhead"
   ]
  },
  {
   "cell_type": "code",
   "execution_count": 251,
   "metadata": {
    "ExecuteTime": {
     "end_time": "2019-06-12T08:51:11.633491Z",
     "start_time": "2019-06-12T08:51:11.515Z"
    }
   },
   "outputs": [
    {
     "name": "stderr",
     "output_type": "stream",
     "text": [
      "Warning message:\n",
      "“Column `SampleID`/`Sample` joining factors with different levels, coercing to character vector”Warning message:\n",
      "“Column `BioSample` joining factors with different levels, coercing to character vector”"
     ]
    },
    {
     "name": "stdout",
     "output_type": "stream",
     "text": [
      "[1] 4068   34\n"
     ]
    },
    {
     "data": {
      "text/html": [
       "<table>\n",
       "<thead><tr><th scope=col>Sample</th><th scope=col>Run</th><th scope=col>Lane</th><th scope=col>Remote</th><th scope=col>spots</th><th scope=col>bases</th><th scope=col>avgLength</th><th scope=col>size_MB</th><th scope=col>BioProject</th><th scope=col>bioproject</th><th scope=col>⋯</th><th scope=col>Model</th><th scope=col>source</th><th scope=col>Alias</th><th scope=col>collection_date</th><th scope=col>env_biome</th><th scope=col>env_material</th><th scope=col>host</th><th scope=col>Name</th><th scope=col>SRA_accession</th><th scope=col>Title</th></tr></thead>\n",
       "<tbody>\n",
       "\t<tr><td>SAMEA3663295       </td><td>ERR1135468         </td><td>1                  </td><td>ERR1135468         </td><td>24873864           </td><td>4875031192         </td><td>195                </td><td>3574               </td><td>PRJEB11755         </td><td>PRJEB11755         </td><td>⋯                  </td><td>Illumina HiSeq 2000</td><td>                   </td><td>ZXZ-5B             </td><td>2013               </td><td>NA                 </td><td>NA                 </td><td>NA                 </td><td>EBI                </td><td>ERS970444          </td><td>ZXZ-5B             </td></tr>\n",
       "\t<tr><td>SAMEA3663296       </td><td>ERR1135469         </td><td>1                  </td><td>ERR1135469         </td><td>29496968           </td><td>5791369887         </td><td>196                </td><td>4228               </td><td>PRJEB11755         </td><td>PRJEB11755         </td><td>⋯                  </td><td>Illumina HiSeq 2000</td><td>                   </td><td>ZXZ-6B             </td><td>2013               </td><td>NA                 </td><td>NA                 </td><td>NA                 </td><td>EBI                </td><td>ERS970445          </td><td>ZXZ-6B             </td></tr>\n",
       "\t<tr><td>SAMEA3663297       </td><td>ERR1135470         </td><td>1                  </td><td>ERR1135470         </td><td>26828175           </td><td>5160184344         </td><td>192                </td><td>3957               </td><td>PRJEB11755         </td><td>PRJEB11755         </td><td>⋯                  </td><td>Illumina HiSeq 2000</td><td>                   </td><td>ZXZ-7B             </td><td>2013               </td><td>NA                 </td><td>NA                 </td><td>NA                 </td><td>EBI                </td><td>ERS970446          </td><td>ZXZ-7B             </td></tr>\n",
       "</tbody>\n",
       "</table>\n"
      ],
      "text/latex": [
       "\\begin{tabular}{r|llllllllllllllllllllllllllllllllll}\n",
       " Sample & Run & Lane & Remote & spots & bases & avgLength & size\\_MB & BioProject & bioproject & ⋯ & Model & source & Alias & collection\\_date & env\\_biome & env\\_material & host & Name & SRA\\_accession & Title\\\\\n",
       "\\hline\n",
       "\t SAMEA3663295        & ERR1135468          & 1                   & ERR1135468          & 24873864            & 4875031192          & 195                 & 3574                & PRJEB11755          & PRJEB11755          & ⋯                   & Illumina HiSeq 2000 &                     & ZXZ-5B              & 2013                & NA                  & NA                  & NA                  & EBI                 & ERS970444           & ZXZ-5B             \\\\\n",
       "\t SAMEA3663296        & ERR1135469          & 1                   & ERR1135469          & 29496968            & 5791369887          & 196                 & 4228                & PRJEB11755          & PRJEB11755          & ⋯                   & Illumina HiSeq 2000 &                     & ZXZ-6B              & 2013                & NA                  & NA                  & NA                  & EBI                 & ERS970445           & ZXZ-6B             \\\\\n",
       "\t SAMEA3663297        & ERR1135470          & 1                   & ERR1135470          & 26828175            & 5160184344          & 192                 & 3957                & PRJEB11755          & PRJEB11755          & ⋯                   & Illumina HiSeq 2000 &                     & ZXZ-7B              & 2013                & NA                  & NA                  & NA                  & EBI                 & ERS970446           & ZXZ-7B             \\\\\n",
       "\\end{tabular}\n"
      ],
      "text/markdown": [
       "\n",
       "Sample | Run | Lane | Remote | spots | bases | avgLength | size_MB | BioProject | bioproject | ⋯ | Model | source | Alias | collection_date | env_biome | env_material | host | Name | SRA_accession | Title | \n",
       "|---|---|---|\n",
       "| SAMEA3663295        | ERR1135468          | 1                   | ERR1135468          | 24873864            | 4875031192          | 195                 | 3574                | PRJEB11755          | PRJEB11755          | ⋯                   | Illumina HiSeq 2000 |                     | ZXZ-5B              | 2013                | NA                  | NA                  | NA                  | EBI                 | ERS970444           | ZXZ-5B              | \n",
       "| SAMEA3663296        | ERR1135469          | 1                   | ERR1135469          | 29496968            | 5791369887          | 196                 | 4228                | PRJEB11755          | PRJEB11755          | ⋯                   | Illumina HiSeq 2000 |                     | ZXZ-6B              | 2013                | NA                  | NA                  | NA                  | EBI                 | ERS970445           | ZXZ-6B              | \n",
       "| SAMEA3663297        | ERR1135470          | 1                   | ERR1135470          | 26828175            | 5160184344          | 192                 | 3957                | PRJEB11755          | PRJEB11755          | ⋯                   | Illumina HiSeq 2000 |                     | ZXZ-7B              | 2013                | NA                  | NA                  | NA                  | EBI                 | ERS970446           | ZXZ-7B              | \n",
       "\n",
       "\n"
      ],
      "text/plain": [
       "  Sample       Run        Lane Remote     spots    bases      avgLength size_MB\n",
       "1 SAMEA3663295 ERR1135468 1    ERR1135468 24873864 4875031192 195       3574   \n",
       "2 SAMEA3663296 ERR1135469 1    ERR1135469 29496968 5791369887 196       4228   \n",
       "3 SAMEA3663297 ERR1135470 1    ERR1135470 26828175 5160184344 192       3957   \n",
       "  BioProject bioproject ⋯ Model               source Alias  collection_date\n",
       "1 PRJEB11755 PRJEB11755 ⋯ Illumina HiSeq 2000        ZXZ-5B 2013           \n",
       "2 PRJEB11755 PRJEB11755 ⋯ Illumina HiSeq 2000        ZXZ-6B 2013           \n",
       "3 PRJEB11755 PRJEB11755 ⋯ Illumina HiSeq 2000        ZXZ-7B 2013           \n",
       "  env_biome env_material host Name SRA_accession Title \n",
       "1 NA        NA           NA   EBI  ERS970444     ZXZ-5B\n",
       "2 NA        NA           NA   EBI  ERS970445     ZXZ-6B\n",
       "3 NA        NA           NA   EBI  ERS970446     ZXZ-7B"
      ]
     },
     "metadata": {},
     "output_type": "display_data"
    }
   ],
   "source": [
    "# adding relevant biosample info\n",
    "tags = c('Title', 'Alias', 'Name', 'host', 'SRA_accession' ,\n",
    "         'collection_date', 'env_material', 'env_biome')\n",
    "\n",
    "sra_runinfo_f_f = sra_runinfo_f_f %>%\n",
    "    inner_join(biosample_info %>% filter(Tag %in% tags) %>% spread(Tag, Attribute),\n",
    "               c('SampleID'='Sample', 'BioSample'))\n",
    "\n",
    "sra_runinfo_f_f %>% dfhead"
   ]
  },
  {
   "cell_type": "code",
   "execution_count": 261,
   "metadata": {
    "ExecuteTime": {
     "end_time": "2019-06-12T08:54:36.953292Z",
     "start_time": "2019-06-12T08:54:36.860Z"
    }
   },
   "outputs": [
    {
     "name": "stdout",
     "output_type": "stream",
     "text": [
      "[1] 4068   41\n"
     ]
    },
    {
     "data": {
      "text/html": [
       "<table>\n",
       "<thead><tr><th scope=col>Sample</th><th scope=col>Run</th><th scope=col>Lane</th><th scope=col>Remote</th><th scope=col>spots</th><th scope=col>bases</th><th scope=col>avgLength</th><th scope=col>size_MB</th><th scope=col>BioProject</th><th scope=col>bioproject</th><th scope=col>⋯</th><th scope=col>Name</th><th scope=col>SRA_accession</th><th scope=col>Title</th><th scope=col>Animal</th><th scope=col>First_author</th><th scope=col>Year</th><th scope=col>DOI</th><th scope=col>Sequencer</th><th scope=col>Read_length</th><th scope=col>Comments</th></tr></thead>\n",
       "<tbody>\n",
       "\t<tr><td>SAMEA3663295                               </td><td>ERR1135468                                 </td><td>1                                          </td><td>ERR1135468                                 </td><td>24873864                                   </td><td>4875031192                                 </td><td>195                                        </td><td>3574                                       </td><td>PRJEB11755                                 </td><td>PRJEB11755                                 </td><td>⋯                                          </td><td>EBI                                        </td><td>ERS970444                                  </td><td>ZXZ-5B                                     </td><td>Pig                                        </td><td>Xiao                                       </td><td>2016                                       </td><td>https://doi.org/10.1038/nmicrobiol.2016.161</td><td>Hiseq2000                                  </td><td>100                                        </td><td>NA                                         </td></tr>\n",
       "\t<tr><td>SAMEA3663296                               </td><td>ERR1135469                                 </td><td>1                                          </td><td>ERR1135469                                 </td><td>29496968                                   </td><td>5791369887                                 </td><td>196                                        </td><td>4228                                       </td><td>PRJEB11755                                 </td><td>PRJEB11755                                 </td><td>⋯                                          </td><td>EBI                                        </td><td>ERS970445                                  </td><td>ZXZ-6B                                     </td><td>Pig                                        </td><td>Xiao                                       </td><td>2016                                       </td><td>https://doi.org/10.1038/nmicrobiol.2016.161</td><td>Hiseq2000                                  </td><td>100                                        </td><td>NA                                         </td></tr>\n",
       "\t<tr><td>SAMEA3663297                               </td><td>ERR1135470                                 </td><td>1                                          </td><td>ERR1135470                                 </td><td>26828175                                   </td><td>5160184344                                 </td><td>192                                        </td><td>3957                                       </td><td>PRJEB11755                                 </td><td>PRJEB11755                                 </td><td>⋯                                          </td><td>EBI                                        </td><td>ERS970446                                  </td><td>ZXZ-7B                                     </td><td>Pig                                        </td><td>Xiao                                       </td><td>2016                                       </td><td>https://doi.org/10.1038/nmicrobiol.2016.161</td><td>Hiseq2000                                  </td><td>100                                        </td><td>NA                                         </td></tr>\n",
       "</tbody>\n",
       "</table>\n"
      ],
      "text/latex": [
       "\\begin{tabular}{r|lllllllllllllllllllllllllllllllllllllllll}\n",
       " Sample & Run & Lane & Remote & spots & bases & avgLength & size\\_MB & BioProject & bioproject & ⋯ & Name & SRA\\_accession & Title & Animal & First\\_author & Year & DOI & Sequencer & Read\\_length & Comments\\\\\n",
       "\\hline\n",
       "\t SAMEA3663295                                & ERR1135468                                  & 1                                           & ERR1135468                                  & 24873864                                    & 4875031192                                  & 195                                         & 3574                                        & PRJEB11755                                  & PRJEB11755                                  & ⋯                                           & EBI                                         & ERS970444                                   & ZXZ-5B                                      & Pig                                         & Xiao                                        & 2016                                        & https://doi.org/10.1038/nmicrobiol.2016.161 & Hiseq2000                                   & 100                                         & NA                                         \\\\\n",
       "\t SAMEA3663296                                & ERR1135469                                  & 1                                           & ERR1135469                                  & 29496968                                    & 5791369887                                  & 196                                         & 4228                                        & PRJEB11755                                  & PRJEB11755                                  & ⋯                                           & EBI                                         & ERS970445                                   & ZXZ-6B                                      & Pig                                         & Xiao                                        & 2016                                        & https://doi.org/10.1038/nmicrobiol.2016.161 & Hiseq2000                                   & 100                                         & NA                                         \\\\\n",
       "\t SAMEA3663297                                & ERR1135470                                  & 1                                           & ERR1135470                                  & 26828175                                    & 5160184344                                  & 192                                         & 3957                                        & PRJEB11755                                  & PRJEB11755                                  & ⋯                                           & EBI                                         & ERS970446                                   & ZXZ-7B                                      & Pig                                         & Xiao                                        & 2016                                        & https://doi.org/10.1038/nmicrobiol.2016.161 & Hiseq2000                                   & 100                                         & NA                                         \\\\\n",
       "\\end{tabular}\n"
      ],
      "text/markdown": [
       "\n",
       "Sample | Run | Lane | Remote | spots | bases | avgLength | size_MB | BioProject | bioproject | ⋯ | Name | SRA_accession | Title | Animal | First_author | Year | DOI | Sequencer | Read_length | Comments | \n",
       "|---|---|---|\n",
       "| SAMEA3663295                                | ERR1135468                                  | 1                                           | ERR1135468                                  | 24873864                                    | 4875031192                                  | 195                                         | 3574                                        | PRJEB11755                                  | PRJEB11755                                  | ⋯                                           | EBI                                         | ERS970444                                   | ZXZ-5B                                      | Pig                                         | Xiao                                        | 2016                                        | https://doi.org/10.1038/nmicrobiol.2016.161 | Hiseq2000                                   | 100                                         | NA                                          | \n",
       "| SAMEA3663296                                | ERR1135469                                  | 1                                           | ERR1135469                                  | 29496968                                    | 5791369887                                  | 196                                         | 4228                                        | PRJEB11755                                  | PRJEB11755                                  | ⋯                                           | EBI                                         | ERS970445                                   | ZXZ-6B                                      | Pig                                         | Xiao                                        | 2016                                        | https://doi.org/10.1038/nmicrobiol.2016.161 | Hiseq2000                                   | 100                                         | NA                                          | \n",
       "| SAMEA3663297                                | ERR1135470                                  | 1                                           | ERR1135470                                  | 26828175                                    | 5160184344                                  | 192                                         | 3957                                        | PRJEB11755                                  | PRJEB11755                                  | ⋯                                           | EBI                                         | ERS970446                                   | ZXZ-7B                                      | Pig                                         | Xiao                                        | 2016                                        | https://doi.org/10.1038/nmicrobiol.2016.161 | Hiseq2000                                   | 100                                         | NA                                          | \n",
       "\n",
       "\n"
      ],
      "text/plain": [
       "  Sample       Run        Lane Remote     spots    bases      avgLength size_MB\n",
       "1 SAMEA3663295 ERR1135468 1    ERR1135468 24873864 4875031192 195       3574   \n",
       "2 SAMEA3663296 ERR1135469 1    ERR1135469 29496968 5791369887 196       4228   \n",
       "3 SAMEA3663297 ERR1135470 1    ERR1135470 26828175 5160184344 192       3957   \n",
       "  BioProject bioproject ⋯ Name SRA_accession Title  Animal First_author Year\n",
       "1 PRJEB11755 PRJEB11755 ⋯ EBI  ERS970444     ZXZ-5B Pig    Xiao         2016\n",
       "2 PRJEB11755 PRJEB11755 ⋯ EBI  ERS970445     ZXZ-6B Pig    Xiao         2016\n",
       "3 PRJEB11755 PRJEB11755 ⋯ EBI  ERS970446     ZXZ-7B Pig    Xiao         2016\n",
       "  DOI                                         Sequencer Read_length Comments\n",
       "1 https://doi.org/10.1038/nmicrobiol.2016.161 Hiseq2000 100         NA      \n",
       "2 https://doi.org/10.1038/nmicrobiol.2016.161 Hiseq2000 100         NA      \n",
       "3 https://doi.org/10.1038/nmicrobiol.2016.161 Hiseq2000 100         NA      "
      ]
     },
     "metadata": {},
     "output_type": "display_data"
    }
   ],
   "source": [
    "# adding manually curated project metadata\n",
    "sra_runinfo_f_f = sra_runinfo_f_f %>%\n",
    "    left_join(metadata, c('bioproject'='SRA_project_accession')) \n",
    "\n",
    "sra_runinfo_f_f %>% dfhead"
   ]
  },
  {
   "cell_type": "code",
   "execution_count": 262,
   "metadata": {
    "ExecuteTime": {
     "end_time": "2019-06-12T08:54:38.893905Z",
     "start_time": "2019-06-12T08:54:38.836Z"
    }
   },
   "outputs": [
    {
     "data": {
      "text/plain": [
       ".\n",
       " PRJEB11755  PRJEB20308  PRJEB21624  PRJEB29346 PRJNA316560 PRJNA316570 \n",
       "        295        3096          43          57           2           2 \n",
       "PRJNA336354 PRJNA353155 PRJNA381379 PRJNA390686 PRJNA417359 PRJNA476660 \n",
       "         15           1           6          39         465           3 \n",
       "PRJNA485217 PRJNA532626 \n",
       "         19          25 "
      ]
     },
     "metadata": {},
     "output_type": "display_data"
    },
    {
     "name": "stdout",
     "output_type": "stream",
     "text": [
      "-----\n"
     ]
    },
    {
     "data": {
      "text/plain": [
       ".\n",
       " PRJEB11755  PRJEB20308  PRJEB21624  PRJEB29346 PRJNA316560 PRJNA316570 \n",
       "        295         129          43          57           2           2 \n",
       "PRJNA336354 PRJNA353155 PRJNA381379 PRJNA390686 PRJNA417359 PRJNA476660 \n",
       "         15           1           1          39         465           3 \n",
       "PRJNA485217 PRJNA532626 \n",
       "         19          25 "
      ]
     },
     "metadata": {},
     "output_type": "display_data"
    }
   ],
   "source": [
    "# number of runs per bioproject\n",
    "sra_runinfo_f_f$BioProject %>% as.character %>% table\n",
    "cat('-----\\n')\n",
    "# number of samples per bioproject\n",
    "sra_runinfo_f_f %>% distinct(BioProject, Sample) %>% .$BioProject %>% as.character %>% table"
   ]
  },
  {
   "cell_type": "code",
   "execution_count": 277,
   "metadata": {
    "ExecuteTime": {
     "end_time": "2019-06-12T09:12:42.504010Z",
     "start_time": "2019-06-12T09:12:42.441Z"
    }
   },
   "outputs": [
    {
     "data": {
      "text/html": [
       "<table>\n",
       "<thead><tr><th scope=col>BioProject</th><th scope=col>bioproject</th><th scope=col>n_runs</th></tr></thead>\n",
       "<tbody>\n",
       "\t<tr><td>PRJNA353155</td><td>SRP093602  </td><td>   1       </td></tr>\n",
       "\t<tr><td>PRJNA316570</td><td>SRP072790  </td><td>   2       </td></tr>\n",
       "\t<tr><td>PRJNA316560</td><td>SRP072793  </td><td>   2       </td></tr>\n",
       "\t<tr><td>PRJNA476660</td><td>SRP152412  </td><td>   3       </td></tr>\n",
       "\t<tr><td>PRJNA381379</td><td>PRJNA381379</td><td>   6       </td></tr>\n",
       "\t<tr><td>PRJNA336354</td><td>PRJNA336354</td><td>  15       </td></tr>\n",
       "\t<tr><td>PRJNA485217</td><td>SRP156892  </td><td>  19       </td></tr>\n",
       "\t<tr><td>PRJNA532626</td><td>PRJNA532626</td><td>  25       </td></tr>\n",
       "\t<tr><td>PRJNA390686</td><td>PRJNA390686</td><td>  39       </td></tr>\n",
       "\t<tr><td>PRJEB21624 </td><td>PRJEB21624 </td><td>  43       </td></tr>\n",
       "\t<tr><td>PRJEB29346 </td><td>PRJEB29346 </td><td>  57       </td></tr>\n",
       "\t<tr><td>PRJEB11755 </td><td>PRJEB11755 </td><td> 295       </td></tr>\n",
       "\t<tr><td>PRJNA417359</td><td>PRJNA417359</td><td> 465       </td></tr>\n",
       "\t<tr><td>PRJEB20308 </td><td>PRJEB20308 </td><td>3096       </td></tr>\n",
       "</tbody>\n",
       "</table>\n"
      ],
      "text/latex": [
       "\\begin{tabular}{r|lll}\n",
       " BioProject & bioproject & n\\_runs\\\\\n",
       "\\hline\n",
       "\t PRJNA353155 & SRP093602   &    1       \\\\\n",
       "\t PRJNA316570 & SRP072790   &    2       \\\\\n",
       "\t PRJNA316560 & SRP072793   &    2       \\\\\n",
       "\t PRJNA476660 & SRP152412   &    3       \\\\\n",
       "\t PRJNA381379 & PRJNA381379 &    6       \\\\\n",
       "\t PRJNA336354 & PRJNA336354 &   15       \\\\\n",
       "\t PRJNA485217 & SRP156892   &   19       \\\\\n",
       "\t PRJNA532626 & PRJNA532626 &   25       \\\\\n",
       "\t PRJNA390686 & PRJNA390686 &   39       \\\\\n",
       "\t PRJEB21624  & PRJEB21624  &   43       \\\\\n",
       "\t PRJEB29346  & PRJEB29346  &   57       \\\\\n",
       "\t PRJEB11755  & PRJEB11755  &  295       \\\\\n",
       "\t PRJNA417359 & PRJNA417359 &  465       \\\\\n",
       "\t PRJEB20308  & PRJEB20308  & 3096       \\\\\n",
       "\\end{tabular}\n"
      ],
      "text/markdown": [
       "\n",
       "BioProject | bioproject | n_runs | \n",
       "|---|---|---|---|---|---|---|---|---|---|---|---|---|---|\n",
       "| PRJNA353155 | SRP093602   |    1        | \n",
       "| PRJNA316570 | SRP072790   |    2        | \n",
       "| PRJNA316560 | SRP072793   |    2        | \n",
       "| PRJNA476660 | SRP152412   |    3        | \n",
       "| PRJNA381379 | PRJNA381379 |    6        | \n",
       "| PRJNA336354 | PRJNA336354 |   15        | \n",
       "| PRJNA485217 | SRP156892   |   19        | \n",
       "| PRJNA532626 | PRJNA532626 |   25        | \n",
       "| PRJNA390686 | PRJNA390686 |   39        | \n",
       "| PRJEB21624  | PRJEB21624  |   43        | \n",
       "| PRJEB29346  | PRJEB29346  |   57        | \n",
       "| PRJEB11755  | PRJEB11755  |  295        | \n",
       "| PRJNA417359 | PRJNA417359 |  465        | \n",
       "| PRJEB20308  | PRJEB20308  | 3096        | \n",
       "\n",
       "\n"
      ],
      "text/plain": [
       "   BioProject  bioproject  n_runs\n",
       "1  PRJNA353155 SRP093602      1  \n",
       "2  PRJNA316570 SRP072790      2  \n",
       "3  PRJNA316560 SRP072793      2  \n",
       "4  PRJNA476660 SRP152412      3  \n",
       "5  PRJNA381379 PRJNA381379    6  \n",
       "6  PRJNA336354 PRJNA336354   15  \n",
       "7  PRJNA485217 SRP156892     19  \n",
       "8  PRJNA532626 PRJNA532626   25  \n",
       "9  PRJNA390686 PRJNA390686   39  \n",
       "10 PRJEB21624  PRJEB21624    43  \n",
       "11 PRJEB29346  PRJEB29346    57  \n",
       "12 PRJEB11755  PRJEB11755   295  \n",
       "13 PRJNA417359 PRJNA417359  465  \n",
       "14 PRJEB20308  PRJEB20308  3096  "
      ]
     },
     "metadata": {},
     "output_type": "display_data"
    }
   ],
   "source": [
    "# number of runs per bioproject\n",
    "sra_runinfo_f_f %>% \n",
    "    group_by(BioProject, bioproject) %>%\n",
    "    summarize(n_runs = n()) %>%\n",
    "    ungroup() %>%\n",
    "    arrange(n_runs)"
   ]
  },
  {
   "cell_type": "code",
   "execution_count": 281,
   "metadata": {
    "ExecuteTime": {
     "end_time": "2019-06-12T10:35:28.979240Z",
     "start_time": "2019-06-12T10:35:27.983Z"
    }
   },
   "outputs": [
    {
     "data": {
      "image/png": "[encoded data removed]",
      "text/plain": [
       "plot without title"
      ]
     },
     "metadata": {},
     "output_type": "display_data"
    }
   ],
   "source": [
    "# read lengths per bioproject\n",
    "p = sra_runinfo_f_f %>% \n",
    "    ggplot(aes(BioProject, avgLength)) +\n",
    "    geom_boxplot() +\n",
    "    theme_bw() +\n",
    "    theme(\n",
    "        axis.text.x = element_text(angle=45, hjust=1)\n",
    "    )\n",
    "\n",
    "dims(6, 3)\n",
    "plot(p)"
   ]
  },
  {
   "cell_type": "code",
   "execution_count": 273,
   "metadata": {
    "ExecuteTime": {
     "end_time": "2019-06-12T09:00:42.814798Z",
     "start_time": "2019-06-12T09:00:42.454Z"
    }
   },
   "outputs": [
    {
     "name": "stdout",
     "output_type": "stream",
     "text": [
      "Directory already exists: /ebio/abt3_projects/Georg_animal_feces/data/metagenome/multi-study//BioProjects/PRJEB11755 \n",
      "File written: /ebio/abt3_projects/Georg_animal_feces/data/metagenome/multi-study//BioProjects/PRJEB11755/samples.txt \n",
      "Directory already exists: /ebio/abt3_projects/Georg_animal_feces/data/metagenome/multi-study//BioProjects/PRJEB20308 \n",
      "File written: /ebio/abt3_projects/Georg_animal_feces/data/metagenome/multi-study//BioProjects/PRJEB20308/samples.txt \n",
      "Directory already exists: /ebio/abt3_projects/Georg_animal_feces/data/metagenome/multi-study//BioProjects/PRJEB21624 \n",
      "File written: /ebio/abt3_projects/Georg_animal_feces/data/metagenome/multi-study//BioProjects/PRJEB21624/samples.txt \n",
      "Directory already exists: /ebio/abt3_projects/Georg_animal_feces/data/metagenome/multi-study//BioProjects/PRJEB29346 \n",
      "File written: /ebio/abt3_projects/Georg_animal_feces/data/metagenome/multi-study//BioProjects/PRJEB29346/samples.txt \n",
      "Directory already exists: /ebio/abt3_projects/Georg_animal_feces/data/metagenome/multi-study//BioProjects/PRJNA336354 \n",
      "File written: /ebio/abt3_projects/Georg_animal_feces/data/metagenome/multi-study//BioProjects/PRJNA336354/samples.txt \n",
      "Directory already exists: /ebio/abt3_projects/Georg_animal_feces/data/metagenome/multi-study//BioProjects/PRJNA381379 \n",
      "File written: /ebio/abt3_projects/Georg_animal_feces/data/metagenome/multi-study//BioProjects/PRJNA381379/samples.txt \n",
      "Directory already exists: /ebio/abt3_projects/Georg_animal_feces/data/metagenome/multi-study//BioProjects/PRJNA390686 \n",
      "File written: /ebio/abt3_projects/Georg_animal_feces/data/metagenome/multi-study//BioProjects/PRJNA390686/samples.txt \n",
      "Directory already exists: /ebio/abt3_projects/Georg_animal_feces/data/metagenome/multi-study//BioProjects/PRJNA417359 \n",
      "File written: /ebio/abt3_projects/Georg_animal_feces/data/metagenome/multi-study//BioProjects/PRJNA417359/samples.txt \n",
      "Directory already exists: /ebio/abt3_projects/Georg_animal_feces/data/metagenome/multi-study//BioProjects/PRJNA532626 \n",
      "File written: /ebio/abt3_projects/Georg_animal_feces/data/metagenome/multi-study//BioProjects/PRJNA532626/samples.txt \n",
      "Directory already exists: /ebio/abt3_projects/Georg_animal_feces/data/metagenome/multi-study//BioProjects/PRJNA316570 \n",
      "File written: /ebio/abt3_projects/Georg_animal_feces/data/metagenome/multi-study//BioProjects/PRJNA316570/samples.txt \n",
      "Directory already exists: /ebio/abt3_projects/Georg_animal_feces/data/metagenome/multi-study//BioProjects/PRJNA316560 \n",
      "File written: /ebio/abt3_projects/Georg_animal_feces/data/metagenome/multi-study//BioProjects/PRJNA316560/samples.txt \n",
      "Directory already exists: /ebio/abt3_projects/Georg_animal_feces/data/metagenome/multi-study//BioProjects/PRJNA353155 \n",
      "File written: /ebio/abt3_projects/Georg_animal_feces/data/metagenome/multi-study//BioProjects/PRJNA353155/samples.txt \n",
      "Directory already exists: /ebio/abt3_projects/Georg_animal_feces/data/metagenome/multi-study//BioProjects/PRJNA476660 \n",
      "File written: /ebio/abt3_projects/Georg_animal_feces/data/metagenome/multi-study//BioProjects/PRJNA476660/samples.txt \n",
      "Directory already exists: /ebio/abt3_projects/Georg_animal_feces/data/metagenome/multi-study//BioProjects/PRJNA485217 \n",
      "File written: /ebio/abt3_projects/Georg_animal_feces/data/metagenome/multi-study//BioProjects/PRJNA485217/samples.txt \n"
     ]
    }
   ],
   "source": [
    "bioprojects = sra_runinfo_f_f$BioProject %>% unique\n",
    "for(B in bioprojects){\n",
    "    df = sra_runinfo_f_f %>% filter(BioProject == B) \n",
    "    out_dir = file.path(work_dir, 'BioProjects', B)\n",
    "    make_dir(out_dir)\n",
    "    out_file = file.path(out_dir, 'samples.txt')\n",
    "    write.table(df, out_file, sep='\\t', quote=FALSE, row.names=FALSE)\n",
    "    cat('File written:', out_file, '\\n')\n",
    "}"
   ]
  },
  {
   "cell_type": "markdown",
   "metadata": {},
   "source": [
    "# sessionInfo"
   ]
  },
  {
   "cell_type": "code",
   "execution_count": 244,
   "metadata": {
    "ExecuteTime": {
     "end_time": "2019-06-12T08:48:55.390854Z",
     "start_time": "2019-06-12T08:48:52.736Z"
    }
   },
   "outputs": [
    {
     "data": {
      "text/plain": [
       "R version 3.4.1 (2017-06-30)\n",
       "Platform: x86_64-pc-linux-gnu (64-bit)\n",
       "Running under: Ubuntu 18.04.1 LTS\n",
       "\n",
       "Matrix products: default\n",
       "BLAS: /ebio/abt3_projects/software/miniconda3_gt4.4/envs/py3_physeq/lib/R/lib/libRblas.so\n",
       "LAPACK: /ebio/abt3_projects/software/miniconda3_gt4.4/envs/py3_physeq/lib/R/lib/libRlapack.so\n",
       "\n",
       "locale:\n",
       "[1] en_US.UTF-8\n",
       "\n",
       "attached base packages:\n",
       "[1] stats     graphics  grDevices utils     datasets  methods   base     \n",
       "\n",
       "other attached packages:\n",
       "[1] bindrcpp_0.2.2 readxl_1.1.0   ggplot2_3.0.0  tidyr_0.8.1    dplyr_0.7.6   \n",
       "\n",
       "loaded via a namespace (and not attached):\n",
       " [1] Rcpp_0.12.17     cellranger_1.1.0 pillar_1.2.2     compiler_3.4.1  \n",
       " [5] plyr_1.8.4       bindr_0.1.1      base64enc_0.1-3  tools_3.4.1     \n",
       " [9] digest_0.6.15    uuid_0.1-2       jsonlite_1.5     evaluate_0.10.1 \n",
       "[13] tibble_1.4.2     gtable_0.2.0     pkgconfig_2.0.1  rlang_0.2.1     \n",
       "[17] IRdisplay_0.4.4  IRkernel_0.8.12  repr_0.15.0      withr_2.1.1     \n",
       "[21] stringr_1.3.1    grid_3.4.1       tidyselect_0.2.4 glue_1.3.0      \n",
       "[25] R6_2.2.2         pbdZMQ_0.3-2     purrr_0.2.4      magrittr_1.5    \n",
       "[29] scales_0.5.0     htmltools_0.3.6  assertthat_0.2.0 colorspace_1.3-2\n",
       "[33] labeling_0.3     stringi_1.2.3    lazyeval_0.2.1   munsell_0.5.0   \n",
       "[37] crayon_1.3.4    "
      ]
     },
     "metadata": {},
     "output_type": "display_data"
    }
   ],
   "source": [
    "sessionInfo()"
   ]
  },
  {
   "cell_type": "code",
   "execution_count": null,
   "metadata": {},
   "outputs": [],
   "source": []
  }
 ],
 "metadata": {
  "kernelspec": {
   "display_name": "R [conda env:py3_physeq]",
   "language": "R",
   "name": "conda-env-py3_physeq-r"
  },
  "language_info": {
   "codemirror_mode": "r",
   "file_extension": ".r",
   "mimetype": "text/x-r-source",
   "name": "R",
   "pygments_lexer": "r",
   "version": "3.4.1"
  },
  "notify_time": "30",
  "toc": {
   "base_numbering": 1,
   "nav_menu": {},
   "number_sections": true,
   "sideBar": true,
   "skip_h1_title": false,
   "title_cell": "Table of Contents",
   "title_sidebar": "Contents",
   "toc_cell": true,
   "toc_position": {
    "height": "calc(100% - 180px)",
    "left": "10px",
    "top": "150px",
    "width": "332px"
   },
   "toc_section_display": true,
   "toc_window_display": true
  }
 },
 "nbformat": 4,
 "nbformat_minor": 2
}
