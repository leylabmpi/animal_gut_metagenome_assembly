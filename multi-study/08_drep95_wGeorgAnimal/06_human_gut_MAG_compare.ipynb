{
 "cells": [
  {
   "cell_type": "markdown",
   "metadata": {
    "toc": true
   },
   "source": [
    "<h1>Table of Contents<span class=\"tocSkip\"></span></h1>\n",
    "<div class=\"toc\"><ul class=\"toc-item\"><li><span><a href=\"#Goal\" data-toc-modified-id=\"Goal-1\"><span class=\"toc-item-num\">1&nbsp;&nbsp;</span>Goal</a></span></li><li><span><a href=\"#Var\" data-toc-modified-id=\"Var-2\"><span class=\"toc-item-num\">2&nbsp;&nbsp;</span>Var</a></span></li><li><span><a href=\"#Init\" data-toc-modified-id=\"Init-3\"><span class=\"toc-item-num\">3&nbsp;&nbsp;</span>Init</a></span></li><li><span><a href=\"#Database-download\" data-toc-modified-id=\"Database-download-4\"><span class=\"toc-item-num\">4&nbsp;&nbsp;</span>Database download</a></span></li><li><span><a href=\"#LLG\" data-toc-modified-id=\"LLG-5\"><span class=\"toc-item-num\">5&nbsp;&nbsp;</span>LLG</a></span><ul class=\"toc-item\"><li><span><a href=\"#Creating-samples-table\" data-toc-modified-id=\"Creating-samples-table-5.1\"><span class=\"toc-item-num\">5.1&nbsp;&nbsp;</span>Creating samples table</a></span></li><li><span><a href=\"#Config\" data-toc-modified-id=\"Config-5.2\"><span class=\"toc-item-num\">5.2&nbsp;&nbsp;</span>Config</a></span></li><li><span><a href=\"#Run\" data-toc-modified-id=\"Run-5.3\"><span class=\"toc-item-num\">5.3&nbsp;&nbsp;</span>Run</a></span></li></ul></li><li><span><a href=\"#Summary\" data-toc-modified-id=\"Summary-6\"><span class=\"toc-item-num\">6&nbsp;&nbsp;</span>Summary</a></span><ul class=\"toc-item\"><li><span><a href=\"#fastANI\" data-toc-modified-id=\"fastANI-6.1\"><span class=\"toc-item-num\">6.1&nbsp;&nbsp;</span>fastANI</a></span></li></ul></li><li><span><a href=\"#sessionInfo\" data-toc-modified-id=\"sessionInfo-7\"><span class=\"toc-item-num\">7&nbsp;&nbsp;</span>sessionInfo</a></span></li></ul></div>"
   ]
  },
  {
   "cell_type": "markdown",
   "metadata": {},
   "source": [
    "# Goal\n",
    "\n",
    "* Compare the MAGs of this animal gut dataset to the Unified Human Gastrointestinal Genome (UHGG) collection"
   ]
  },
  {
   "cell_type": "markdown",
   "metadata": {},
   "source": [
    "# Var"
   ]
  },
  {
   "cell_type": "code",
   "execution_count": 70,
   "metadata": {
    "ExecuteTime": {
     "end_time": "2020-03-27T08:45:34.625389Z",
     "start_time": "2020-03-27T08:45:34.090Z"
    }
   },
   "outputs": [],
   "source": [
    "# base dir for MAGs\n",
    "base_dir = file.path('/ebio', 'abt3_projects', 'Georg_animal_feces', 'data',\n",
    "                     'metagenome', 'multi-study', 'BioProjects', 'summary',\n",
    "                     'LLMGA', 'wGeorgAnimal', 'drep-0.95')\n",
    "\n",
    "# workdir \n",
    "work_dir = file.path(base_dir, 'LLG', 'UHGG_compare')\n",
    "\n",
    "# de-rep'd MAG metadata\n",
    "MAG_meta_file = file.path(base_dir, 'drep-MAG_metadata.tsv')\n",
    "\n",
    "\n",
    "# params\n",
    "threads = 16"
   ]
  },
  {
   "cell_type": "markdown",
   "metadata": {},
   "source": [
    "# Init"
   ]
  },
  {
   "cell_type": "code",
   "execution_count": 71,
   "metadata": {
    "ExecuteTime": {
     "end_time": "2020-03-27T08:45:35.387652Z",
     "start_time": "2020-03-27T08:45:35.337Z"
    }
   },
   "outputs": [],
   "source": [
    "library(dplyr)\n",
    "library(tidyr)\n",
    "library(ggplot2)\n",
    "library(data.table)\n",
    "library(dtplyr)\n",
    "library(tidytable)\n",
    "library(LeyLabRMisc)"
   ]
  },
  {
   "cell_type": "code",
   "execution_count": 72,
   "metadata": {
    "ExecuteTime": {
     "end_time": "2020-03-27T08:45:35.638556Z",
     "start_time": "2020-03-27T08:45:35.593Z"
    }
   },
   "outputs": [
    {
     "name": "stdout",
     "output_type": "stream",
     "text": [
      "Created directory: /ebio/abt3_projects/Georg_animal_feces/data/metagenome/multi-study/BioProjects/summary/LLMGA/wGeorgAnimal/drep-0.95/LLG/UHGG_compare \n"
     ]
    }
   ],
   "source": [
    "df.dims()\n",
    "setDTthreads(threads)\n",
    "make_dir(work_dir)"
   ]
  },
  {
   "cell_type": "markdown",
   "metadata": {},
   "source": [
    "# Database download"
   ]
  },
  {
   "cell_type": "code",
   "execution_count": 73,
   "metadata": {
    "ExecuteTime": {
     "end_time": "2020-03-27T08:45:38.349400Z",
     "start_time": "2020-03-27T08:45:38.305Z"
    }
   },
   "outputs": [],
   "source": [
    "download_dir = '/ebio/abt3_projects/databases_no-backup/UHGG/'"
   ]
  },
  {
   "cell_type": "markdown",
   "metadata": {
    "ExecuteTime": {
     "end_time": "2020-03-25T15:03:41.633777Z",
     "start_time": "2020-03-25T15:03:41.519Z"
    }
   },
   "source": [
    "From ftp site. All species rep genome data\n",
    "\n",
    "```\n",
    "screen -S UHGG_dl wget -r ftp://ftp.ebi.ac.uk/pub/databases/metagenomics/mgnify_genomes/human-gut/2019_09/uhgg_catalogue/*\n",
    "```"
   ]
  },
  {
   "cell_type": "markdown",
   "metadata": {},
   "source": [
    "# LLG"
   ]
  },
  {
   "cell_type": "markdown",
   "metadata": {},
   "source": [
    "## Creating samples table\n",
    "\n",
    "* animal MAGs from this study and UHGP rep genomes"
   ]
  },
  {
   "cell_type": "code",
   "execution_count": 74,
   "metadata": {
    "ExecuteTime": {
     "end_time": "2020-03-27T08:45:47.275049Z",
     "start_time": "2020-03-27T08:45:47.066Z"
    }
   },
   "outputs": [
    {
     "data": {
      "text/html": [
       "<table>\n",
       "<caption>A tibble: 1522 × 3</caption>\n",
       "<thead>\n",
       "\t<tr><th scope=col>Name</th><th scope=col>Fasta</th><th scope=col>Dataset</th></tr>\n",
       "\t<tr><th scope=col>&lt;chr&gt;</th><th scope=col>&lt;chr&gt;</th><th scope=col>&lt;chr&gt;</th></tr>\n",
       "</thead>\n",
       "<tbody>\n",
       "\t<tr><td>artificially.reared.1.metabat2.low.PE.002.contigs </td><td>/ebio/abt3_projects/Georg_animal_feces/data//metagenome/multi-study/BioProjects/summary/LLMGA/wGeorgAnimal/drep-0.95/dereplicated_genomes/artificially_reared_1__metabat2_low_PE.002.contigs.fa </td><td>animal_gut</td></tr>\n",
       "\t<tr><td>artificially.reared.2.maxbin2.low.prob.006.contigs</td><td>/ebio/abt3_projects/Georg_animal_feces/data//metagenome/multi-study/BioProjects/summary/LLMGA/wGeorgAnimal/drep-0.95/dereplicated_genomes/artificially_reared_2__maxbin2_low_prob.006.contigs.fa</td><td>animal_gut</td></tr>\n",
       "\t<tr><td>⋮</td><td>⋮</td><td>⋮</td></tr>\n",
       "\t<tr><td>X95.Meadow.Viper.metabat2.low.PE.002.contigs  </td><td>/ebio/abt3_projects/Georg_animal_feces/data//metagenome/multi-study/BioProjects/summary/LLMGA/wGeorgAnimal/drep-0.95/dereplicated_genomes/X95_Meadow_Viper__metabat2_low_PE.002.contigs.fa  </td><td>animal_gut</td></tr>\n",
       "\t<tr><td>X96.European.Hare.metabat2.high.PE.013.contigs</td><td>/ebio/abt3_projects/Georg_animal_feces/data//metagenome/multi-study/BioProjects/summary/LLMGA/wGeorgAnimal/drep-0.95/dereplicated_genomes/X96_European_Hare__metabat2_high_PE.013.contigs.fa</td><td>animal_gut</td></tr>\n",
       "</tbody>\n",
       "</table>\n"
      ],
      "text/latex": [
       "A tibble: 1522 × 3\n",
       "\\begin{tabular}{lll}\n",
       " Name & Fasta & Dataset\\\\\n",
       " <chr> & <chr> & <chr>\\\\\n",
       "\\hline\n",
       "\t artificially.reared.1.metabat2.low.PE.002.contigs  & /ebio/abt3\\_projects/Georg\\_animal\\_feces/data//metagenome/multi-study/BioProjects/summary/LLMGA/wGeorgAnimal/drep-0.95/dereplicated\\_genomes/artificially\\_reared\\_1\\_\\_metabat2\\_low\\_PE.002.contigs.fa  & animal\\_gut\\\\\n",
       "\t artificially.reared.2.maxbin2.low.prob.006.contigs & /ebio/abt3\\_projects/Georg\\_animal\\_feces/data//metagenome/multi-study/BioProjects/summary/LLMGA/wGeorgAnimal/drep-0.95/dereplicated\\_genomes/artificially\\_reared\\_2\\_\\_maxbin2\\_low\\_prob.006.contigs.fa & animal\\_gut\\\\\n",
       "\t ⋮ & ⋮ & ⋮\\\\\n",
       "\t X95.Meadow.Viper.metabat2.low.PE.002.contigs   & /ebio/abt3\\_projects/Georg\\_animal\\_feces/data//metagenome/multi-study/BioProjects/summary/LLMGA/wGeorgAnimal/drep-0.95/dereplicated\\_genomes/X95\\_Meadow\\_Viper\\_\\_metabat2\\_low\\_PE.002.contigs.fa   & animal\\_gut\\\\\n",
       "\t X96.European.Hare.metabat2.high.PE.013.contigs & /ebio/abt3\\_projects/Georg\\_animal\\_feces/data//metagenome/multi-study/BioProjects/summary/LLMGA/wGeorgAnimal/drep-0.95/dereplicated\\_genomes/X96\\_European\\_Hare\\_\\_metabat2\\_high\\_PE.013.contigs.fa & animal\\_gut\\\\\n",
       "\\end{tabular}\n"
      ],
      "text/markdown": [
       "\n",
       "A tibble: 1522 × 3\n",
       "\n",
       "| Name &lt;chr&gt; | Fasta &lt;chr&gt; | Dataset &lt;chr&gt; |\n",
       "|---|---|---|\n",
       "| artificially.reared.1.metabat2.low.PE.002.contigs  | /ebio/abt3_projects/Georg_animal_feces/data//metagenome/multi-study/BioProjects/summary/LLMGA/wGeorgAnimal/drep-0.95/dereplicated_genomes/artificially_reared_1__metabat2_low_PE.002.contigs.fa  | animal_gut |\n",
       "| artificially.reared.2.maxbin2.low.prob.006.contigs | /ebio/abt3_projects/Georg_animal_feces/data//metagenome/multi-study/BioProjects/summary/LLMGA/wGeorgAnimal/drep-0.95/dereplicated_genomes/artificially_reared_2__maxbin2_low_prob.006.contigs.fa | animal_gut |\n",
       "| ⋮ | ⋮ | ⋮ |\n",
       "| X95.Meadow.Viper.metabat2.low.PE.002.contigs   | /ebio/abt3_projects/Georg_animal_feces/data//metagenome/multi-study/BioProjects/summary/LLMGA/wGeorgAnimal/drep-0.95/dereplicated_genomes/X95_Meadow_Viper__metabat2_low_PE.002.contigs.fa   | animal_gut |\n",
       "| X96.European.Hare.metabat2.high.PE.013.contigs | /ebio/abt3_projects/Georg_animal_feces/data//metagenome/multi-study/BioProjects/summary/LLMGA/wGeorgAnimal/drep-0.95/dereplicated_genomes/X96_European_Hare__metabat2_high_PE.013.contigs.fa | animal_gut |\n",
       "\n"
      ],
      "text/plain": [
       "     Name                                              \n",
       "1    artificially.reared.1.metabat2.low.PE.002.contigs \n",
       "2    artificially.reared.2.maxbin2.low.prob.006.contigs\n",
       "⋮    ⋮                                                 \n",
       "1521 X95.Meadow.Viper.metabat2.low.PE.002.contigs      \n",
       "1522 X96.European.Hare.metabat2.high.PE.013.contigs    \n",
       "     Fasta                                                                                                                                                                                           \n",
       "1    /ebio/abt3_projects/Georg_animal_feces/data//metagenome/multi-study/BioProjects/summary/LLMGA/wGeorgAnimal/drep-0.95/dereplicated_genomes/artificially_reared_1__metabat2_low_PE.002.contigs.fa \n",
       "2    /ebio/abt3_projects/Georg_animal_feces/data//metagenome/multi-study/BioProjects/summary/LLMGA/wGeorgAnimal/drep-0.95/dereplicated_genomes/artificially_reared_2__maxbin2_low_prob.006.contigs.fa\n",
       "⋮    ⋮                                                                                                                                                                                               \n",
       "1521 /ebio/abt3_projects/Georg_animal_feces/data//metagenome/multi-study/BioProjects/summary/LLMGA/wGeorgAnimal/drep-0.95/dereplicated_genomes/X95_Meadow_Viper__metabat2_low_PE.002.contigs.fa      \n",
       "1522 /ebio/abt3_projects/Georg_animal_feces/data//metagenome/multi-study/BioProjects/summary/LLMGA/wGeorgAnimal/drep-0.95/dereplicated_genomes/X96_European_Hare__metabat2_high_PE.013.contigs.fa    \n",
       "     Dataset   \n",
       "1    animal_gut\n",
       "2    animal_gut\n",
       "⋮    ⋮         \n",
       "1521 animal_gut\n",
       "1522 animal_gut"
      ]
     },
     "metadata": {},
     "output_type": "display_data"
    }
   ],
   "source": [
    "# drep'd animal gut genomes \n",
    "MAG_meta = fread(MAG_meta_file, sep='\\t') %>%\n",
    "    dt_mutate(binID = gsub('_+', '.', binID),\n",
    "              binID = gsub('\\\\.+', '.', binID)) %>%\n",
    "    dt_select(binID, fasta.x) %>%\n",
    "    dt_rename('Name' = binID,\n",
    "              'Fasta' = fasta.x) %>%\n",
    "    dt_mutate('Dataset' = 'animal_gut') %>%\n",
    "    as_tibble \n",
    "\n",
    "MAG_meta"
   ]
  },
  {
   "cell_type": "code",
   "execution_count": 43,
   "metadata": {
    "ExecuteTime": {
     "end_time": "2020-03-26T07:54:35.552799Z",
     "start_time": "2020-03-26T07:54:33.029Z"
    }
   },
   "outputs": [
    {
     "name": "stdout",
     "output_type": "stream",
     "text": [
      "No. of unique genomes: 4644 \n"
     ]
    }
   ],
   "source": [
    "# drep'd UHGG genomes\n",
    "UHGG_genome_files = list_files(file.path(download_dir, '2019_09'), '*.fna') \n",
    "UHGG_genome_files = UHGG_genome_files[grepl('\\\\.fna$', UHGP_genome_files)]\n",
    "UHGG_genome_files %>% unique_n('genomes')"
   ]
  },
  {
   "cell_type": "code",
   "execution_count": 75,
   "metadata": {
    "ExecuteTime": {
     "end_time": "2020-03-27T08:45:57.444330Z",
     "start_time": "2020-03-27T08:45:57.330Z"
    }
   },
   "outputs": [
    {
     "data": {
      "text/html": [
       "<table>\n",
       "<caption>A data.frame: 4644 × 3</caption>\n",
       "<thead>\n",
       "\t<tr><th scope=col>Name</th><th scope=col>Fasta</th><th scope=col>Dataset</th></tr>\n",
       "\t<tr><th scope=col>&lt;fct&gt;</th><th scope=col>&lt;fct&gt;</th><th scope=col>&lt;fct&gt;</th></tr>\n",
       "</thead>\n",
       "<tbody>\n",
       "\t<tr><td>MGYG-HGUT-00001</td><td>/ebio/abt3_projects/databases_no-backup/UHGG//2019_09/uhgg_catalogue/MGYG-HGUT-000/MGYG-HGUT-00001/genome/MGYG-HGUT-00001.fna</td><td>UHGG</td></tr>\n",
       "\t<tr><td>MGYG-HGUT-00002</td><td>/ebio/abt3_projects/databases_no-backup/UHGG//2019_09/uhgg_catalogue/MGYG-HGUT-000/MGYG-HGUT-00002/genome/MGYG-HGUT-00002.fna</td><td>UHGG</td></tr>\n",
       "\t<tr><td>⋮</td><td>⋮</td><td>⋮</td></tr>\n",
       "\t<tr><td>MGYG-HGUT-04643</td><td>/ebio/abt3_projects/databases_no-backup/UHGG//2019_09/uhgg_catalogue/MGYG-HGUT-046/MGYG-HGUT-04643/genome/MGYG-HGUT-04643.fna</td><td>UHGG</td></tr>\n",
       "\t<tr><td>MGYG-HGUT-04644</td><td>/ebio/abt3_projects/databases_no-backup/UHGG//2019_09/uhgg_catalogue/MGYG-HGUT-046/MGYG-HGUT-04644/genome/MGYG-HGUT-04644.fna</td><td>UHGG</td></tr>\n",
       "</tbody>\n",
       "</table>\n"
      ],
      "text/latex": [
       "A data.frame: 4644 × 3\n",
       "\\begin{tabular}{lll}\n",
       " Name & Fasta & Dataset\\\\\n",
       " <fct> & <fct> & <fct>\\\\\n",
       "\\hline\n",
       "\t MGYG-HGUT-00001 & /ebio/abt3\\_projects/databases\\_no-backup/UHGG//2019\\_09/uhgg\\_catalogue/MGYG-HGUT-000/MGYG-HGUT-00001/genome/MGYG-HGUT-00001.fna & UHGG\\\\\n",
       "\t MGYG-HGUT-00002 & /ebio/abt3\\_projects/databases\\_no-backup/UHGG//2019\\_09/uhgg\\_catalogue/MGYG-HGUT-000/MGYG-HGUT-00002/genome/MGYG-HGUT-00002.fna & UHGG\\\\\n",
       "\t ⋮ & ⋮ & ⋮\\\\\n",
       "\t MGYG-HGUT-04643 & /ebio/abt3\\_projects/databases\\_no-backup/UHGG//2019\\_09/uhgg\\_catalogue/MGYG-HGUT-046/MGYG-HGUT-04643/genome/MGYG-HGUT-04643.fna & UHGG\\\\\n",
       "\t MGYG-HGUT-04644 & /ebio/abt3\\_projects/databases\\_no-backup/UHGG//2019\\_09/uhgg\\_catalogue/MGYG-HGUT-046/MGYG-HGUT-04644/genome/MGYG-HGUT-04644.fna & UHGG\\\\\n",
       "\\end{tabular}\n"
      ],
      "text/markdown": [
       "\n",
       "A data.frame: 4644 × 3\n",
       "\n",
       "| Name &lt;fct&gt; | Fasta &lt;fct&gt; | Dataset &lt;fct&gt; |\n",
       "|---|---|---|\n",
       "| MGYG-HGUT-00001 | /ebio/abt3_projects/databases_no-backup/UHGG//2019_09/uhgg_catalogue/MGYG-HGUT-000/MGYG-HGUT-00001/genome/MGYG-HGUT-00001.fna | UHGG |\n",
       "| MGYG-HGUT-00002 | /ebio/abt3_projects/databases_no-backup/UHGG//2019_09/uhgg_catalogue/MGYG-HGUT-000/MGYG-HGUT-00002/genome/MGYG-HGUT-00002.fna | UHGG |\n",
       "| ⋮ | ⋮ | ⋮ |\n",
       "| MGYG-HGUT-04643 | /ebio/abt3_projects/databases_no-backup/UHGG//2019_09/uhgg_catalogue/MGYG-HGUT-046/MGYG-HGUT-04643/genome/MGYG-HGUT-04643.fna | UHGG |\n",
       "| MGYG-HGUT-04644 | /ebio/abt3_projects/databases_no-backup/UHGG//2019_09/uhgg_catalogue/MGYG-HGUT-046/MGYG-HGUT-04644/genome/MGYG-HGUT-04644.fna | UHGG |\n",
       "\n"
      ],
      "text/plain": [
       "     Name           \n",
       "1    MGYG-HGUT-00001\n",
       "2    MGYG-HGUT-00002\n",
       "⋮    ⋮              \n",
       "4643 MGYG-HGUT-04643\n",
       "4644 MGYG-HGUT-04644\n",
       "     Fasta                                                                                                                        \n",
       "1    /ebio/abt3_projects/databases_no-backup/UHGG//2019_09/uhgg_catalogue/MGYG-HGUT-000/MGYG-HGUT-00001/genome/MGYG-HGUT-00001.fna\n",
       "2    /ebio/abt3_projects/databases_no-backup/UHGG//2019_09/uhgg_catalogue/MGYG-HGUT-000/MGYG-HGUT-00002/genome/MGYG-HGUT-00002.fna\n",
       "⋮    ⋮                                                                                                                            \n",
       "4643 /ebio/abt3_projects/databases_no-backup/UHGG//2019_09/uhgg_catalogue/MGYG-HGUT-046/MGYG-HGUT-04643/genome/MGYG-HGUT-04643.fna\n",
       "4644 /ebio/abt3_projects/databases_no-backup/UHGG//2019_09/uhgg_catalogue/MGYG-HGUT-046/MGYG-HGUT-04644/genome/MGYG-HGUT-04644.fna\n",
       "     Dataset\n",
       "1    UHGG   \n",
       "2    UHGG   \n",
       "⋮    ⋮      \n",
       "4643 UHGG   \n",
       "4644 UHGG   "
      ]
     },
     "metadata": {},
     "output_type": "display_data"
    }
   ],
   "source": [
    "# formatting\n",
    "UHGG_genomes = data.frame(Name = gsub('\\\\.fna$', '', basename(UHGP_genome_files)),\n",
    "                          Fasta = UHGP_genome_files,\n",
    "                          Dataset = 'UHGG')\n",
    "\n",
    "UHGG_genomes"
   ]
  },
  {
   "cell_type": "code",
   "execution_count": 76,
   "metadata": {
    "ExecuteTime": {
     "end_time": "2020-03-27T08:46:00.698376Z",
     "start_time": "2020-03-27T08:46:00.634Z"
    }
   },
   "outputs": [
    {
     "data": {
      "text/html": [
       "<table>\n",
       "<caption>A tidytable: 2 × 3</caption>\n",
       "<thead>\n",
       "\t<tr><th scope=col>Dataset</th><th scope=col>ends_w_contigs</th><th scope=col>N</th></tr>\n",
       "\t<tr><th scope=col>&lt;chr&gt;</th><th scope=col>&lt;lgl&gt;</th><th scope=col>&lt;int&gt;</th></tr>\n",
       "</thead>\n",
       "<tbody>\n",
       "\t<tr><td>animal_gut</td><td> TRUE</td><td>1522</td></tr>\n",
       "\t<tr><td>UHGG      </td><td>FALSE</td><td>4644</td></tr>\n",
       "</tbody>\n",
       "</table>\n"
      ],
      "text/latex": [
       "A tidytable: 2 × 3\n",
       "\\begin{tabular}{lll}\n",
       " Dataset & ends\\_w\\_contigs & N\\\\\n",
       " <chr> & <lgl> & <int>\\\\\n",
       "\\hline\n",
       "\t animal\\_gut &  TRUE & 1522\\\\\n",
       "\t UHGG       & FALSE & 4644\\\\\n",
       "\\end{tabular}\n"
      ],
      "text/markdown": [
       "\n",
       "A tidytable: 2 × 3\n",
       "\n",
       "| Dataset &lt;chr&gt; | ends_w_contigs &lt;lgl&gt; | N &lt;int&gt; |\n",
       "|---|---|---|\n",
       "| animal_gut |  TRUE | 1522 |\n",
       "| UHGG       | FALSE | 4644 |\n",
       "\n"
      ],
      "text/plain": [
       "  Dataset    ends_w_contigs N   \n",
       "1 animal_gut  TRUE          1522\n",
       "2 UHGG       FALSE          4644"
      ]
     },
     "metadata": {},
     "output_type": "display_data"
    }
   ],
   "source": [
    "# checking name formatting\n",
    "MAG_meta %>%\n",
    "    rbind(UHGG_genomes) %>% \n",
    "    dt_mutate(ends_w_contigs = grepl('\\\\.contigs$', Name)) %>%\n",
    "    dt_count(by=list(Dataset, ends_w_contigs))"
   ]
  },
  {
   "cell_type": "code",
   "execution_count": 46,
   "metadata": {
    "ExecuteTime": {
     "end_time": "2020-03-26T07:54:55.609569Z",
     "start_time": "2020-03-26T07:54:55.548Z"
    }
   },
   "outputs": [
    {
     "name": "stdout",
     "output_type": "stream",
     "text": [
      "File written: /ebio/abt3_projects/Georg_animal_feces/data/metagenome/multi-study/BioProjects/summary/LLMGA/wGeorgAnimal/drep-0.95/LLG/UHGP_compare/animal_UHGP_genomes.tsv \n"
     ]
    }
   ],
   "source": [
    "# writing table\n",
    "all_genome_table = file.path(work_dir, 'animal_UHGG_genomes.tsv')\n",
    "MAG_meta %>%\n",
    "    rbind(UHGG_genomes) %>%   \n",
    "    write_table(all_genome_table)"
   ]
  },
  {
   "cell_type": "markdown",
   "metadata": {},
   "source": [
    "## Config"
   ]
  },
  {
   "cell_type": "code",
   "execution_count": 57,
   "metadata": {
    "ExecuteTime": {
     "end_time": "2020-03-26T08:03:36.658740Z",
     "start_time": "2020-03-26T08:03:36.589Z"
    },
    "scrolled": true
   },
   "outputs": [
    {
     "name": "stdout",
     "output_type": "stream",
     "text": [
      "# table with genome --> fasta_file information\n",
      "samples_file: /ebio/abt3_projects/Georg_animal_feces/data/metagenome/multi-study/BioProjects/summary/LLMGA/wGeorgAnimal/drep-0.95/LLG/UHGP_compare/animal_UHGP_genomes.tsv\n",
      "\n",
      "# output location\n",
      "output_dir: /ebio/abt3_projects/Georg_animal_feces/data/metagenome/multi-study/BioProjects/summary/LLMGA/wGeorgAnimal/drep-0.95/LLG/UHGP_compare/\n",
      "\n",
      "# temporary file directory (your username will be added automatically)\n",
      "tmp_dir: /ebio/abt3_scratch/\n",
      "\n",
      "# batch processing of genomes for certain steps\n",
      "## increase to better parallelize\n",
      "batches: 300\n",
      "\n",
      "# software parameters\n",
      "# Use \"Skip\" to skip any of these steps. If no params for rule, use \"\"\n",
      "# dRep MAGs are not further analyzed, but you can de-rep & then use the de-rep genome table as input.\n",
      "params:\n",
      "  ionice: -c 3\n",
      "  # assembly assessment\n",
      "  seqkit: Skip #\"\"\n",
      "  quast: Skip #\"\"\n",
      "  multiqc_on_quast: \"\" \n",
      "  checkm: Skip #\"\"\n",
      "  # de-replication (requires checkm)\n",
      "  drep: Skip #-comp 50 -con 5 -sa 0.95\n",
      "  # taxonomy\n",
      "  sourmash:\n",
      "    compute: Skip #--scaled 10000 -k 31\n",
      "    gather: Skip #-k 31\n",
      "  gtdbtk:\n",
      "    classify_wf: Skip #--min_perc_aa 10\n",
      "  # pairwise ANI\n",
      "  fastani: --fragLen 3000 --minFraction 0.2 -k 16\n",
      "  dashing: -k 31 --full-tsv\n",
      "  # annotation\n",
      "  gene_call:\n",
      "    prokka: Skip #--kingdom Bacteria                    # change if Archaea\n",
      "    multiqc_on_prokka: \"\"\n",
      "    prodigal: Skip #\"\"\n",
      "  eggnog_mapper: Skip #\"\"\n",
      "  eggnog_mapper_annot: \"\"\n",
      "  # phylogeny\n",
      "  phylophlan_config: --map_dna diamond --db_aa diamond --map_aa diamond --msa mafft --trim trimal --tree1 fasttree --tree2 raxml\n",
      "  phylophlan: Skip #--diversity high --min_num_markers 50 --accurate\n",
      "  # phenotype\n",
      "  traitar: Skip #\"\"\n",
      "  # biosynthetic gene clusters (BGCs)\n",
      "  antismash: Skip #--cb-knownclusters --cb-subclusters --asf  \n",
      "  DeepBGC: Skip #--score 0.5 --classifier-score 0.5 --prodigal-meta-mode\n",
      "  # antimicrobial resistance (AMR)\n",
      "  abricate: Skip #--minid 75 --mincov 80\n",
      "  \n",
      "# databases\n",
      "databases:\n",
      "  checkM_data: /ebio/abt3_projects/databases_no-backup/checkM/\n",
      "  sourmash: /ebio/abt3_projects/databases_no-backup/sourmash/genbank-k31.sbt.json\n",
      "  sourmash_lca: /ebio/abt3_projects/databases_no-backup/sourmash/genbank-k31.lca.json.gz\n",
      "  gtdbtk: /ebio/abt3_projects/databases_no-backup/GTDB/release89/db_info.md\n",
      "  phylophlan: /ebio/abt3_projects/databases_no-backup/phylophlan/PhyloPhlan/phylophlan.faa.bz2\n",
      "  eggnog: /ebio/abt3_projects/databases_no-backup/Eggnog/v2/eggnog.db\n",
      "  eggnog_diamond: /ebio/abt3_projects/databases_no-backup/Eggnog/v2/eggnog_proteins.dmnd\n",
      "  antismash: /ebio/abt3_projects/databases_no-backup/antismash/v5/\n",
      "  deepbgc: /ebio/abt3_projects/databases_no-backup/DeepBGC/\n",
      "  traitar: /ebio/abt3_projects/databases_no-backup/pfam/traitar/\n",
      "  abricate:\n",
      "    ncbi: /ebio/abt3_projects/databases_no-backup/abricate/ncbi/sequences\n",
      "    card: /ebio/abt3_projects/databases_no-backup/abricate/card/sequences\n",
      "    resfinder: /ebio/abt3_projects/databases_no-backup/abricate/resfinder/sequences\n",
      "    argannot: /ebio/abt3_projects/databases_no-backup/abricate/argannot/sequences\n",
      "    bacmet2: /ebio/abt3_projects/databases_no-backup/abricate/bacmet2/sequences\n",
      "    vfdb: /ebio/abt3_projects/databases_no-backup/abricate/vfdb/sequences\n",
      "    megares: /ebio/abt3_projects/databases_no-backup/abricate/megares/sequences\n",
      "    plasmidfinder: /ebio/abt3_projects/databases_no-backup/abricate/plasmidfinder/sequences\n",
      "\n",
      "# snakemake pipeline\n",
      "pipeline:\n",
      "  snakemake_folder: ./\n",
      "  script_folder: ./bin/scripts/\n",
      "  use_shared_mem: True"
     ]
    }
   ],
   "source": [
    "cat_file(file.path(work_dir, 'config.yaml'))"
   ]
  },
  {
   "cell_type": "markdown",
   "metadata": {},
   "source": [
    "## Run"
   ]
  },
  {
   "cell_type": "markdown",
   "metadata": {},
   "source": [
    "```\n",
    "(snakemake) @ rick:/ebio/abt3_projects/Georg_animal_feces/bin/llg\n",
    "screen -L -S llg-ga ./snakemake_sge.sh /ebio/abt3_projects/Georg_animal_feces/data/metagenome/multi-study/BioProjects/summary/LLMGA/wGeorgAnimal/drep-0.95/LLG/UHGG_compare/config.yaml 50\n",
    "```"
   ]
  },
  {
   "cell_type": "markdown",
   "metadata": {},
   "source": [
    "# Summary"
   ]
  },
  {
   "cell_type": "markdown",
   "metadata": {},
   "source": [
    "## fastANI"
   ]
  },
  {
   "cell_type": "code",
   "execution_count": 80,
   "metadata": {
    "ExecuteTime": {
     "end_time": "2020-03-27T08:49:19.849891Z",
     "start_time": "2020-03-27T08:49:17.321Z"
    }
   },
   "outputs": [
    {
     "name": "stdout",
     "output_type": "stream",
     "text": [
      "No. of unique genomes: 3553 \n"
     ]
    },
    {
     "data": {
      "text/html": [
       "<table>\n",
       "<caption>A tidytable: 32012 × 7</caption>\n",
       "<thead>\n",
       "\t<tr><th scope=col>genome_x</th><th scope=col>genome_y</th><th scope=col>ANI</th><th scope=col>V4</th><th scope=col>V5</th><th scope=col>Dataset_x</th><th scope=col>Dataset_y</th></tr>\n",
       "\t<tr><th scope=col>&lt;chr&gt;</th><th scope=col>&lt;chr&gt;</th><th scope=col>&lt;dbl&gt;</th><th scope=col>&lt;int&gt;</th><th scope=col>&lt;int&gt;</th><th scope=col>&lt;chr&gt;</th><th scope=col>&lt;chr&gt;</th></tr>\n",
       "</thead>\n",
       "<tbody>\n",
       "\t<tr><td>artificially.reared.1.metabat2.low.PE.002.contigs</td><td>MGYG-HGUT-00042</td><td>85.7165</td><td>598</td><td>977</td><td>animal_gut</td><td>UHGG</td></tr>\n",
       "\t<tr><td>artificially.reared.1.metabat2.low.PE.002.contigs</td><td>MGYG-HGUT-01599</td><td>85.3741</td><td>582</td><td>977</td><td>animal_gut</td><td>UHGG</td></tr>\n",
       "\t<tr><td>⋮</td><td>⋮</td><td>⋮</td><td>⋮</td><td>⋮</td><td>⋮</td><td>⋮</td></tr>\n",
       "\t<tr><td>MGYG-HGUT-04478</td><td>SAMEA104315426.metabat2.low.PE.019.contigs</td><td>78.0126</td><td>111</td><td>693</td><td>UHGG</td><td>animal_gut</td></tr>\n",
       "\t<tr><td>MGYG-HGUT-04478</td><td>SAMEA104315424.metabat2.low.PE.038.contigs</td><td>77.7769</td><td>139</td><td>693</td><td>UHGG</td><td>animal_gut</td></tr>\n",
       "</tbody>\n",
       "</table>\n"
      ],
      "text/latex": [
       "A tidytable: 32012 × 7\n",
       "\\begin{tabular}{lllllll}\n",
       " genome\\_x & genome\\_y & ANI & V4 & V5 & Dataset\\_x & Dataset\\_y\\\\\n",
       " <chr> & <chr> & <dbl> & <int> & <int> & <chr> & <chr>\\\\\n",
       "\\hline\n",
       "\t artificially.reared.1.metabat2.low.PE.002.contigs & MGYG-HGUT-00042 & 85.7165 & 598 & 977 & animal\\_gut & UHGG\\\\\n",
       "\t artificially.reared.1.metabat2.low.PE.002.contigs & MGYG-HGUT-01599 & 85.3741 & 582 & 977 & animal\\_gut & UHGG\\\\\n",
       "\t ⋮ & ⋮ & ⋮ & ⋮ & ⋮ & ⋮ & ⋮\\\\\n",
       "\t MGYG-HGUT-04478 & SAMEA104315426.metabat2.low.PE.019.contigs & 78.0126 & 111 & 693 & UHGG & animal\\_gut\\\\\n",
       "\t MGYG-HGUT-04478 & SAMEA104315424.metabat2.low.PE.038.contigs & 77.7769 & 139 & 693 & UHGG & animal\\_gut\\\\\n",
       "\\end{tabular}\n"
      ],
      "text/markdown": [
       "\n",
       "A tidytable: 32012 × 7\n",
       "\n",
       "| genome_x &lt;chr&gt; | genome_y &lt;chr&gt; | ANI &lt;dbl&gt; | V4 &lt;int&gt; | V5 &lt;int&gt; | Dataset_x &lt;chr&gt; | Dataset_y &lt;chr&gt; |\n",
       "|---|---|---|---|---|---|---|\n",
       "| artificially.reared.1.metabat2.low.PE.002.contigs | MGYG-HGUT-00042 | 85.7165 | 598 | 977 | animal_gut | UHGG |\n",
       "| artificially.reared.1.metabat2.low.PE.002.contigs | MGYG-HGUT-01599 | 85.3741 | 582 | 977 | animal_gut | UHGG |\n",
       "| ⋮ | ⋮ | ⋮ | ⋮ | ⋮ | ⋮ | ⋮ |\n",
       "| MGYG-HGUT-04478 | SAMEA104315426.metabat2.low.PE.019.contigs | 78.0126 | 111 | 693 | UHGG | animal_gut |\n",
       "| MGYG-HGUT-04478 | SAMEA104315424.metabat2.low.PE.038.contigs | 77.7769 | 139 | 693 | UHGG | animal_gut |\n",
       "\n"
      ],
      "text/plain": [
       "      genome_x                                         \n",
       "1     artificially.reared.1.metabat2.low.PE.002.contigs\n",
       "2     artificially.reared.1.metabat2.low.PE.002.contigs\n",
       "⋮     ⋮                                                \n",
       "32011 MGYG-HGUT-04478                                  \n",
       "32012 MGYG-HGUT-04478                                  \n",
       "      genome_y                                   ANI     V4  V5  Dataset_x \n",
       "1     MGYG-HGUT-00042                            85.7165 598 977 animal_gut\n",
       "2     MGYG-HGUT-01599                            85.3741 582 977 animal_gut\n",
       "⋮     ⋮                                          ⋮       ⋮   ⋮   ⋮         \n",
       "32011 SAMEA104315426.metabat2.low.PE.019.contigs 78.0126 111 693 UHGG      \n",
       "32012 SAMEA104315424.metabat2.low.PE.038.contigs 77.7769 139 693 UHGG      \n",
       "      Dataset_y \n",
       "1     UHGG      \n",
       "2     UHGG      \n",
       "⋮     ⋮         \n",
       "32011 animal_gut\n",
       "32012 animal_gut"
      ]
     },
     "metadata": {},
     "output_type": "display_data"
    }
   ],
   "source": [
    "# loading distance matrix\n",
    "fastANI_file = file.path(work_dir, 'ani', 'fastANI', 'ANI.tsv.gz')\n",
    "#fastANI_file = file.path(work_dir, 'ani', 'fastANI', 'ANI_TEST.tsv.gz')  # debug\n",
    "cmd = glue::glue('gunzip -c {file}', file=fastANI_file)\n",
    "fastANI = Fread(cmd=cmd, header=FALSE) %>%\n",
    "    dt_mutate(V1 = V1 %>% as.character %>% basename %>% gsub('\\\\.fna$', '', .),\n",
    "              V2 = V2 %>% as.character %>% basename %>% gsub('\\\\.fna$', '', .)) %>%\n",
    "    dt_mutate(Dataset_x = ifelse(grepl('\\\\.contigs$', V1), 'animal_gut', 'UHGG'),\n",
    "              Dataset_y = ifelse(grepl('\\\\.contigs$', V2), 'animal_gut', 'UHGG')) %>%\n",
    "    dt_filter(Dataset_x != Dataset_y) %>%\n",
    "    dt_rename('genome_x' = V1,\n",
    "              'genome_y' = V2,\n",
    "              'ANI' = V3) \n",
    "\n",
    "c(fastANI %>% dt_pull(genome_x), fastANI %>% dt_pull(genome_x)) %>% unique_n('genomes')\n",
    "fastANI"
   ]
  },
  {
   "cell_type": "code",
   "execution_count": 79,
   "metadata": {
    "ExecuteTime": {
     "end_time": "2020-03-27T08:48:11.293179Z",
     "start_time": "2020-03-27T08:48:11.213Z"
    }
   },
   "outputs": [
    {
     "name": "stdout",
     "output_type": "stream",
     "text": [
      "intersect(x,y): 2659 \n",
      "setdiff(x,y): 0 \n",
      "setdiff(y,x): 1985 \n",
      "union(x,y): 4644 \n"
     ]
    }
   ],
   "source": [
    "# UHGG genomes\n",
    "overlap(c(fastANI %>% dt_filter(Dataset_x == 'UHGG') %>% dt_pull(genome_x),\n",
    "          fastANI %>% dt_filter(Dataset_y == 'UHGG') %>% dt_pull(genome_y)), \n",
    "        UHGG_genomes, NULL, Name)"
   ]
  },
  {
   "cell_type": "code",
   "execution_count": 83,
   "metadata": {
    "ExecuteTime": {
     "end_time": "2020-03-27T08:51:10.831994Z",
     "start_time": "2020-03-27T08:51:10.779Z"
    }
   },
   "outputs": [
    {
     "name": "stdout",
     "output_type": "stream",
     "text": [
      "intersect(x,y): 936 \n",
      "setdiff(x,y): 0 \n",
      "setdiff(y,x): 586 \n",
      "union(x,y): 1522 \n"
     ]
    }
   ],
   "source": [
    "# animal gut genomes\n",
    "overlap(c(fastANI %>% dt_filter(Dataset_x == 'animal_gut') %>% dt_pull(genome_x),\n",
    "          fastANI %>% dt_filter(Dataset_y == 'animal_gut') %>% dt_pull(genome_y)), \n",
    "        MAG_meta %>% dt_pull(Name))"
   ]
  },
  {
   "cell_type": "markdown",
   "metadata": {},
   "source": [
    "##### Notes\n",
    "\n",
    "* genomes that are too divergent will not be reported in the fastANI output"
   ]
  },
  {
   "cell_type": "code",
   "execution_count": 84,
   "metadata": {
    "ExecuteTime": {
     "end_time": "2020-03-27T08:56:58.085257Z",
     "start_time": "2020-03-27T08:56:58.029Z"
    }
   },
   "outputs": [
    {
     "data": {
      "text/html": [
       "<table>\n",
       "<caption>A matrix: 1 × 8 of type dbl</caption>\n",
       "<thead>\n",
       "\t<tr><th></th><th scope=col>Min.</th><th scope=col>1st Qu.</th><th scope=col>Median</th><th scope=col>Mean</th><th scope=col>3rd Qu.</th><th scope=col>Max.</th><th scope=col>sd</th><th scope=col>sd_err_of_mean</th></tr>\n",
       "</thead>\n",
       "<tbody>\n",
       "\t<tr><th scope=row>ANI</th><td>75.0683</td><td>78.42618</td><td>79.2431</td><td>80.57528</td><td>79.98592</td><td>99.782</td><td>8.838</td><td>3.608</td></tr>\n",
       "</tbody>\n",
       "</table>\n"
      ],
      "text/latex": [
       "A matrix: 1 × 8 of type dbl\n",
       "\\begin{tabular}{r|llllllll}\n",
       "  & Min. & 1st Qu. & Median & Mean & 3rd Qu. & Max. & sd & sd\\_err\\_of\\_mean\\\\\n",
       "\\hline\n",
       "\tANI & 75.0683 & 78.42618 & 79.2431 & 80.57528 & 79.98592 & 99.782 & 8.838 & 3.608\\\\\n",
       "\\end{tabular}\n"
      ],
      "text/markdown": [
       "\n",
       "A matrix: 1 × 8 of type dbl\n",
       "\n",
       "| <!--/--> | Min. | 1st Qu. | Median | Mean | 3rd Qu. | Max. | sd | sd_err_of_mean |\n",
       "|---|---|---|---|---|---|---|---|---|\n",
       "| ANI | 75.0683 | 78.42618 | 79.2431 | 80.57528 | 79.98592 | 99.782 | 8.838 | 3.608 |\n",
       "\n"
      ],
      "text/plain": [
       "    Min.    1st Qu.  Median  Mean     3rd Qu.  Max.   sd    sd_err_of_mean\n",
       "ANI 75.0683 78.42618 79.2431 80.57528 79.98592 99.782 8.838 3.608         "
      ]
     },
     "metadata": {},
     "output_type": "display_data"
    }
   ],
   "source": [
    "# ANI distribution\n",
    "fastANI %>% dt_pull(ANI) %>% summary_x('ANI')"
   ]
  },
  {
   "cell_type": "code",
   "execution_count": 87,
   "metadata": {
    "ExecuteTime": {
     "end_time": "2020-03-27T08:59:50.730416Z",
     "start_time": "2020-03-27T08:59:50.635Z"
    }
   },
   "outputs": [
    {
     "name": "stdout",
     "output_type": "stream",
     "text": [
      "No. of unique animal gut genomes: 471 \n",
      "No. of unique UHGG genomes: 479 \n"
     ]
    }
   ],
   "source": [
    "# amount of species-level overlap\n",
    "fastANI_f = fastANI %>% \n",
    "    dt_filter(ANI >= 95) \n",
    "\n",
    "c(fastANI_f %>% dt_filter(Dataset_x == 'animal_gut') %>% dt_pull(genome_x), \n",
    "  fastANI_f %>% dt_filter(Dataset_y == 'animal_gut') %>% dt_pull(genome_y)) %>% \n",
    "    unique_n('animal gut genomes')\n",
    "\n",
    "c(fastANI_f %>% dt_filter(Dataset_x == 'UHGG') %>% dt_pull(genome_x), \n",
    "  fastANI_f %>% dt_filter(Dataset_y == 'UHGG') %>% dt_pull(genome_y)) %>% \n",
    "    unique_n('UHGG genomes')"
   ]
  },
  {
   "cell_type": "code",
   "execution_count": 90,
   "metadata": {
    "ExecuteTime": {
     "end_time": "2020-03-27T09:07:32.583769Z",
     "start_time": "2020-03-27T09:07:31.649Z"
    }
   },
   "outputs": [
    {
     "name": "stdout",
     "output_type": "stream",
     "text": [
      "% of animal gut genomes in UHGG: 30.94612 \n"
     ]
    }
   ],
   "source": [
    "# amount of species-level overlap\n",
    "n_overlap = c(fastANI_f %>% dt_filter(Dataset_x == 'animal_gut') %>% dt_pull(genome_x), \n",
    "              fastANI_f %>% dt_filter(Dataset_y == 'animal_gut') %>% dt_pull(genome_y)) %>%\n",
    "    unique %>% length \n",
    "\n",
    "n_total = MAG_meta %>% dt_pull(Name) %>% unique %>% length\n",
    "\n",
    "cat('% of animal gut genomes in UHGG:',  n_overlap / n_total  * 100, '\\n')"
   ]
  },
  {
   "cell_type": "code",
   "execution_count": 91,
   "metadata": {
    "ExecuteTime": {
     "end_time": "2020-03-27T09:08:02.908362Z",
     "start_time": "2020-03-27T09:08:02.846Z"
    }
   },
   "outputs": [
    {
     "name": "stdout",
     "output_type": "stream",
     "text": [
      "No. of unique animal gut genomes: 519 \n",
      "No. of unique UHGG genomes: 1227 \n"
     ]
    }
   ],
   "source": [
    "# amount of genus?-level overlap overlap\n",
    "fastANI_f = fastANI %>% \n",
    "    dt_filter(ANI >= 90) \n",
    "\n",
    "c(fastANI_f %>% dt_filter(Dataset_x == 'animal_gut') %>% dt_pull(genome_x), \n",
    "  fastANI_f %>% dt_filter(Dataset_y == 'animal_gut') %>% dt_pull(genome_y)) %>% \n",
    "    unique_n('animal gut genomes')\n",
    "\n",
    "c(fastANI_f %>% dt_filter(Dataset_x == 'UHGG') %>% dt_pull(genome_x), \n",
    "  fastANI_f %>% dt_filter(Dataset_y == 'UHGG') %>% dt_pull(genome_y)) %>% \n",
    "    unique_n('UHGG genomes')"
   ]
  },
  {
   "cell_type": "code",
   "execution_count": 92,
   "metadata": {
    "ExecuteTime": {
     "end_time": "2020-03-27T09:08:10.396770Z",
     "start_time": "2020-03-27T09:08:10.340Z"
    }
   },
   "outputs": [
    {
     "name": "stdout",
     "output_type": "stream",
     "text": [
      "% of animal gut genomes in UHGG: 34.09987 \n"
     ]
    }
   ],
   "source": [
    "# amount of genus?-level overlap\n",
    "n_overlap = c(fastANI_f %>% dt_filter(Dataset_x == 'animal_gut') %>% dt_pull(genome_x), \n",
    "              fastANI_f %>% dt_filter(Dataset_y == 'animal_gut') %>% dt_pull(genome_y)) %>%\n",
    "    unique %>% length \n",
    "\n",
    "n_total = MAG_meta %>% dt_pull(Name) %>% unique %>% length\n",
    "\n",
    "cat('% of animal gut genomes in UHGG:',  n_overlap / n_total  * 100, '\\n')"
   ]
  },
  {
   "cell_type": "code",
   "execution_count": 93,
   "metadata": {
    "ExecuteTime": {
     "end_time": "2020-03-27T09:08:21.097067Z",
     "start_time": "2020-03-27T09:08:21.008Z"
    }
   },
   "outputs": [
    {
     "name": "stdout",
     "output_type": "stream",
     "text": [
      "No. of unique animal gut genomes: 728 \n",
      "No. of unique UHGG genomes: 1963 \n"
     ]
    }
   ],
   "source": [
    "# amount of ?-level overlap overlap\n",
    "fastANI_f = fastANI %>% \n",
    "    dt_filter(ANI >= 80) \n",
    "\n",
    "c(fastANI_f %>% dt_filter(Dataset_x == 'animal_gut') %>% dt_pull(genome_x), \n",
    "  fastANI_f %>% dt_filter(Dataset_y == 'animal_gut') %>% dt_pull(genome_y)) %>% \n",
    "    unique_n('animal gut genomes')\n",
    "\n",
    "c(fastANI_f %>% dt_filter(Dataset_x == 'UHGG') %>% dt_pull(genome_x), \n",
    "  fastANI_f %>% dt_filter(Dataset_y == 'UHGG') %>% dt_pull(genome_y)) %>% \n",
    "    unique_n('UHGG genomes')"
   ]
  },
  {
   "cell_type": "code",
   "execution_count": 94,
   "metadata": {
    "ExecuteTime": {
     "end_time": "2020-03-27T09:08:25.214560Z",
     "start_time": "2020-03-27T09:08:25.142Z"
    }
   },
   "outputs": [
    {
     "name": "stdout",
     "output_type": "stream",
     "text": [
      "% of animal gut genomes in UHGG: 47.8318 \n"
     ]
    }
   ],
   "source": [
    "# amount of genus?-level overlap\n",
    "n_overlap = c(fastANI_f %>% dt_filter(Dataset_x == 'animal_gut') %>% dt_pull(genome_x), \n",
    "              fastANI_f %>% dt_filter(Dataset_y == 'animal_gut') %>% dt_pull(genome_y)) %>%\n",
    "    unique %>% length \n",
    "\n",
    "n_total = MAG_meta %>% dt_pull(Name) %>% unique %>% length\n",
    "\n",
    "cat('% of animal gut genomes in UHGG:',  n_overlap / n_total  * 100, '\\n')"
   ]
  },
  {
   "cell_type": "markdown",
   "metadata": {},
   "source": [
    "# sessionInfo"
   ]
  },
  {
   "cell_type": "code",
   "execution_count": 95,
   "metadata": {
    "ExecuteTime": {
     "end_time": "2020-03-27T10:00:22.155280Z",
     "start_time": "2020-03-27T10:00:20.942Z"
    }
   },
   "outputs": [
    {
     "data": {
      "text/plain": [
       "R version 3.6.2 (2019-12-12)\n",
       "Platform: x86_64-conda_cos6-linux-gnu (64-bit)\n",
       "Running under: Ubuntu 18.04.3 LTS\n",
       "\n",
       "Matrix products: default\n",
       "BLAS/LAPACK: /ebio/abt3_projects/Georg_animal_feces/envs/phyloseq/lib/libopenblasp-r0.3.7.so\n",
       "\n",
       "Random number generation:\n",
       " RNG:     Mersenne-Twister \n",
       " Normal:  Inversion \n",
       " Sample:  Rounding \n",
       " \n",
       "locale:\n",
       " [1] LC_CTYPE=en_US.UTF-8       LC_NUMERIC=C              \n",
       " [3] LC_TIME=en_US.UTF-8        LC_COLLATE=en_US.UTF-8    \n",
       " [5] LC_MONETARY=en_US.UTF-8    LC_MESSAGES=en_US.UTF-8   \n",
       " [7] LC_PAPER=en_US.UTF-8       LC_NAME=C                 \n",
       " [9] LC_ADDRESS=C               LC_TELEPHONE=C            \n",
       "[11] LC_MEASUREMENT=en_US.UTF-8 LC_IDENTIFICATION=C       \n",
       "\n",
       "attached base packages:\n",
       "[1] stats     graphics  grDevices utils     datasets  methods   base     \n",
       "\n",
       "other attached packages:\n",
       "[1] LeyLabRMisc_0.1.3 tidytable_0.3.2   dtplyr_1.0.0      data.table_1.12.8\n",
       "[5] ggplot2_3.2.1     tidyr_1.0.0       dplyr_0.8.3      \n",
       "\n",
       "loaded via a namespace (and not attached):\n",
       " [1] Rcpp_1.0.3       pillar_1.4.3     compiler_3.6.2   base64enc_0.1-3 \n",
       " [5] tools_3.6.2      zeallot_0.1.0    digest_0.6.23    uuid_0.1-2      \n",
       " [9] jsonlite_1.6     evaluate_0.14    tibble_2.1.3     lifecycle_0.1.0 \n",
       "[13] gtable_0.3.0     pkgconfig_2.0.3  rlang_0.4.2      IRdisplay_0.7.0 \n",
       "[17] IRkernel_1.1     repr_1.0.2       withr_2.1.2      vctrs_0.2.1     \n",
       "[21] grid_3.6.2       tidyselect_0.2.5 glue_1.3.1       R6_2.4.1        \n",
       "[25] pbdZMQ_0.3-3     purrr_0.3.3      magrittr_1.5     backports_1.1.5 \n",
       "[29] scales_1.1.0     htmltools_0.4.0  assertthat_0.2.1 colorspace_1.4-1\n",
       "[33] lazyeval_0.2.2   munsell_0.5.0    crayon_1.3.4    "
      ]
     },
     "metadata": {},
     "output_type": "display_data"
    }
   ],
   "source": [
    "sessionInfo()"
   ]
  },
  {
   "cell_type": "code",
   "execution_count": null,
   "metadata": {},
   "outputs": [],
   "source": []
  }
 ],
 "metadata": {
  "kernelspec": {
   "display_name": "R [conda env:Georg_animal_feces-phyloseq]",
   "language": "R",
   "name": "conda-env-Georg_animal_feces-phyloseq-r"
  },
  "language_info": {
   "codemirror_mode": "r",
   "file_extension": ".r",
   "mimetype": "text/x-r-source",
   "name": "R",
   "pygments_lexer": "r",
   "version": "3.6.2"
  },
  "notify_time": "30",
  "toc": {
   "base_numbering": 1,
   "nav_menu": {},
   "number_sections": true,
   "sideBar": true,
   "skip_h1_title": false,
   "title_cell": "Table of Contents",
   "title_sidebar": "Contents",
   "toc_cell": true,
   "toc_position": {
    "height": "calc(100% - 180px)",
    "left": "10px",
    "top": "150px",
    "width": "226px"
   },
   "toc_section_display": true,
   "toc_window_display": true
  }
 },
 "nbformat": 4,
 "nbformat_minor": 2
}
