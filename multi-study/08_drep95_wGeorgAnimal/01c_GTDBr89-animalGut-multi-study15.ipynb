{
 "cells": [
  {
   "cell_type": "markdown",
   "metadata": {
    "toc": true
   },
   "source": [
    "<h1>Table of Contents<span class=\"tocSkip\"></span></h1>\n",
    "<div class=\"toc\"><ul class=\"toc-item\"><li><span><a href=\"#Goal\" data-toc-modified-id=\"Goal-1\"><span class=\"toc-item-num\">1&nbsp;&nbsp;</span>Goal</a></span></li><li><span><a href=\"#Var\" data-toc-modified-id=\"Var-2\"><span class=\"toc-item-num\">2&nbsp;&nbsp;</span>Var</a></span></li><li><span><a href=\"#Init\" data-toc-modified-id=\"Init-3\"><span class=\"toc-item-num\">3&nbsp;&nbsp;</span>Init</a></span></li><li><span><a href=\"#Load\" data-toc-modified-id=\"Load-4\"><span class=\"toc-item-num\">4&nbsp;&nbsp;</span>Load</a></span></li><li><span><a href=\"#Copying-MAG-fastas-to-GTDB-dir\" data-toc-modified-id=\"Copying-MAG-fastas-to-GTDB-dir-5\"><span class=\"toc-item-num\">5&nbsp;&nbsp;</span>Copying MAG fastas to GTDB dir</a></span><ul class=\"toc-item\"><li><span><a href=\"#Formatting-taxonomy\" data-toc-modified-id=\"Formatting-taxonomy-5.1\"><span class=\"toc-item-num\">5.1&nbsp;&nbsp;</span>Formatting taxonomy</a></span><ul class=\"toc-item\"><li><span><a href=\"#Checking-consistency\" data-toc-modified-id=\"Checking-consistency-5.1.1\"><span class=\"toc-item-num\">5.1.1&nbsp;&nbsp;</span>Checking consistency</a></span><ul class=\"toc-item\"><li><span><a href=\"#Load\" data-toc-modified-id=\"Load-5.1.1.1\"><span class=\"toc-item-num\">5.1.1.1&nbsp;&nbsp;</span>Load</a></span></li><li><span><a href=\"#taxIDs\" data-toc-modified-id=\"taxIDs-5.1.1.2\"><span class=\"toc-item-num\">5.1.1.2&nbsp;&nbsp;</span>taxIDs</a></span></li><li><span><a href=\"#Overlap\" data-toc-modified-id=\"Overlap-5.1.1.3\"><span class=\"toc-item-num\">5.1.1.3&nbsp;&nbsp;</span>Overlap</a></span></li></ul></li><li><span><a href=\"#Adding-taxIDs-to-MAG-info\" data-toc-modified-id=\"Adding-taxIDs-to-MAG-info-5.1.2\"><span class=\"toc-item-num\">5.1.2&nbsp;&nbsp;</span>Adding taxIDs to MAG info</a></span></li></ul></li><li><span><a href=\"#Merging\" data-toc-modified-id=\"Merging-5.2\"><span class=\"toc-item-num\">5.2&nbsp;&nbsp;</span>Merging</a></span></li></ul></li><li><span><a href=\"#Struo\" data-toc-modified-id=\"Struo-6\"><span class=\"toc-item-num\">6&nbsp;&nbsp;</span>Struo</a></span><ul class=\"toc-item\"><li><span><a href=\"#config\" data-toc-modified-id=\"config-6.1\"><span class=\"toc-item-num\">6.1&nbsp;&nbsp;</span>config</a></span></li><li><span><a href=\"#Run\" data-toc-modified-id=\"Run-6.2\"><span class=\"toc-item-num\">6.2&nbsp;&nbsp;</span>Run</a></span></li></ul></li><li><span><a href=\"#Summary\" data-toc-modified-id=\"Summary-7\"><span class=\"toc-item-num\">7&nbsp;&nbsp;</span>Summary</a></span></li><li><span><a href=\"#sessionInfo\" data-toc-modified-id=\"sessionInfo-8\"><span class=\"toc-item-num\">8&nbsp;&nbsp;</span>sessionInfo</a></span></li></ul></div>"
   ]
  },
  {
   "cell_type": "markdown",
   "metadata": {},
   "source": [
    "# Goal\n",
    "\n",
    "* Create `GTDBr89-animalGut-multi-study15`, a Struo-created custom GTDB r89 database with MAGs from the animal gut assemblies included\n",
    "  * number of studies = 15 (14 published + Georg Animal Gut)"
   ]
  },
  {
   "cell_type": "markdown",
   "metadata": {},
   "source": [
    "# Var"
   ]
  },
  {
   "cell_type": "code",
   "execution_count": 45,
   "metadata": {
    "ExecuteTime": {
     "end_time": "2019-11-22T15:05:46.602871Z",
     "start_time": "2019-11-22T15:05:46.551Z"
    }
   },
   "outputs": [],
   "source": [
    "work_dir = '/ebio/abt3_projects/databases_no-backup/GTDB/release89/LLMGP-DB/animalGut-multi-study15/'\n",
    "\n",
    "# MAGs to add to the database\n",
    "MAGs_to_add_file = '/ebio/abt3_projects/Georg_animal_feces/data/metagenome/multi-study/BioProjects/summary/LLMGA/wGeorgAnimal/drep-0.95/drep-MAG_metadata_no-95ANI-hit-GTDBr89.tsv'\n",
    "# genomes in the custom GTDBr89 database (created by Struo)\n",
    "custom_db_file = '/ebio/abt3_projects/databases_no-backup/GTDB/release89/LLMGP-DB/metadata_1per-GTDB-Spec_gte50comp-lt5cont_wtaxID_wPath.tsv'\n",
    "\n",
    "# params\n",
    "threads = 24\n",
    "conda_env = 'py3_genome'\n",
    "pipeline_dir = '/ebio/abt3_projects/databases_no-backup/bin/llmgp-db/'"
   ]
  },
  {
   "cell_type": "markdown",
   "metadata": {},
   "source": [
    "# Init"
   ]
  },
  {
   "cell_type": "code",
   "execution_count": 5,
   "metadata": {
    "ExecuteTime": {
     "end_time": "2019-11-15T16:32:54.970155Z",
     "start_time": "2019-11-15T16:32:54.933Z"
    }
   },
   "outputs": [],
   "source": [
    "library(dplyr)\n",
    "library(tidyr)\n",
    "library(ggplot2)\n",
    "library(doParallel)\n",
    "source('/ebio/abt3_projects/Georg_animal_feces/code/misc_r_functions/init.R')"
   ]
  },
  {
   "cell_type": "code",
   "execution_count": 3,
   "metadata": {
    "ExecuteTime": {
     "end_time": "2019-11-15T16:32:54.054446Z",
     "start_time": "2019-11-15T16:32:51.828Z"
    }
   },
   "outputs": [
    {
     "name": "stdout",
     "output_type": "stream",
     "text": [
      "Directory already exists: /ebio/abt3_projects/databases_no-backup/GTDB/release89/LLMGP-DB/animalGut-multi-study15/ \n"
     ]
    }
   ],
   "source": [
    "make_dir(work_dir)"
   ]
  },
  {
   "cell_type": "markdown",
   "metadata": {},
   "source": [
    "# Load"
   ]
  },
  {
   "cell_type": "code",
   "execution_count": 4,
   "metadata": {
    "ExecuteTime": {
     "end_time": "2019-11-15T16:32:54.696082Z",
     "start_time": "2019-11-15T16:32:53.221Z"
    }
   },
   "outputs": [
    {
     "name": "stdout",
     "output_type": "stream",
     "text": [
      "[1] 1522   57\n"
     ]
    },
    {
     "data": {
      "text/html": [
       "<table>\n",
       "<thead><tr><th scope=col>binID</th><th scope=col>fasta.x</th><th scope=col>Marker.lineage</th><th scope=col>X..genomes</th><th scope=col>X..markers</th><th scope=col>X..marker.sets</th><th scope=col>Completeness</th><th scope=col>Contamination</th><th scope=col>Strain.heterogeneity</th><th scope=col>Genome.size..bp.</th><th scope=col>⋯</th><th scope=col>closest_placement_ani</th><th scope=col>closest_placement_af</th><th scope=col>pplacer_taxonomy</th><th scope=col>classification_method</th><th scope=col>note</th><th scope=col>aa_percent</th><th scope=col>translation_table</th><th scope=col>red_value</th><th scope=col>warnings</th><th scope=col>has_species_placement</th></tr></thead>\n",
       "<tbody>\n",
       "\t<tr><td>artificially_reared_1__metabat2_low_PE.002.contigs                                                                                                                                              </td><td>/ebio/abt3_projects/Georg_animal_feces/data//metagenome/multi-study/BioProjects/summary/LLMGA/wGeorgAnimal/drep-0.95/dereplicated_genomes/artificially_reared_1__metabat2_low_PE.002.contigs.fa </td><td>o__Bacteroidales (UID2657)                                                                                                                                                                      </td><td>160                                                                                                                                                                                             </td><td>491                                                                                                                                                                                             </td><td>268                                                                                                                                                                                             </td><td>92.92                                                                                                                                                                                           </td><td>3.00                                                                                                                                                                                            </td><td>28.57                                                                                                                                                                                           </td><td>3388189                                                                                                                                                                                         </td><td>⋯                                                                                                                                                                                               </td><td>85.72                                                                                                                                                                                           </td><td>0.61                                                                                                                                                                                            </td><td>d__Bacteria;p__Bacteroidota;c__Bacteroidia;o__Bacteroidales;f__Bacteroidaceae;g__Bacteroides_A;s__                                                                                              </td><td>Placement                                                                                                                                                                                       </td><td>taxonomic classification fully defined by topology                                                                                                                                              </td><td>93.33                                                                                                                                                                                           </td><td>11                                                                                                                                                                                              </td><td>0.985595897806                                                                                                                                                                                  </td><td>N/A                                                                                                                                                                                             </td><td>No match                                                                                                                                                                                        </td></tr>\n",
       "\t<tr><td>artificially_reared_2__maxbin2_low_prob.006.contigs                                                                                                                                             </td><td>/ebio/abt3_projects/Georg_animal_feces/data//metagenome/multi-study/BioProjects/summary/LLMGA/wGeorgAnimal/drep-0.95/dereplicated_genomes/artificially_reared_2__maxbin2_low_prob.006.contigs.fa</td><td>k__Bacteria (UID2569)                                                                                                                                                                           </td><td>434                                                                                                                                                                                             </td><td>278                                                                                                                                                                                             </td><td>186                                                                                                                                                                                             </td><td>88.60                                                                                                                                                                                           </td><td>1.11                                                                                                                                                                                            </td><td>50.00                                                                                                                                                                                           </td><td>2174315                                                                                                                                                                                         </td><td>⋯                                                                                                                                                                                               </td><td> 0.00                                                                                                                                                                                           </td><td>N/A                                                                                                                                                                                             </td><td>d__Bacteria;p__Bacteroidota;c__Bacteroidia;o__Bacteroidales;f__Paludibacteraceae;g__;s__                                                                                                        </td><td>Placement                                                                                                                                                                                       </td><td>taxonomic classification fully defined by topology                                                                                                                                              </td><td>90.20                                                                                                                                                                                           </td><td>11                                                                                                                                                                                              </td><td>0.836955988283                                                                                                                                                                                  </td><td>N/A                                                                                                                                                                                             </td><td>No match                                                                                                                                                                                        </td></tr>\n",
       "\t<tr><td>artificially_reared_2__metabat2_high_PE.035.contigs                                                                                                                                             </td><td>/ebio/abt3_projects/Georg_animal_feces/data//metagenome/multi-study/BioProjects/summary/LLMGA/wGeorgAnimal/drep-0.95/dereplicated_genomes/artificially_reared_2__metabat2_high_PE.035.contigs.fa</td><td>o__Bacteroidales (UID2657)                                                                                                                                                                      </td><td>160                                                                                                                                                                                             </td><td>491                                                                                                                                                                                             </td><td>268                                                                                                                                                                                             </td><td>97.45                                                                                                                                                                                           </td><td>0.62                                                                                                                                                                                            </td><td>66.67                                                                                                                                                                                           </td><td>3857403                                                                                                                                                                                         </td><td>⋯                                                                                                                                                                                               </td><td>80.56                                                                                                                                                                                           </td><td>0.32                                                                                                                                                                                            </td><td>d__Bacteria;p__Bacteroidota;c__Bacteroidia;o__Bacteroidales;f__Bacteroidaceae;g__Bacteroides_A;s__                                                                                              </td><td>Placement                                                                                                                                                                                       </td><td>taxonomic classification fully defined by topology                                                                                                                                              </td><td>95.99                                                                                                                                                                                           </td><td>11                                                                                                                                                                                              </td><td>0.969620821863                                                                                                                                                                                  </td><td>N/A                                                                                                                                                                                             </td><td>No match                                                                                                                                                                                        </td></tr>\n",
       "</tbody>\n",
       "</table>\n"
      ],
      "text/latex": [
       "\\begin{tabular}{r|lllllllllllllllllllllllllllllllllllllllllllllllllllllllll}\n",
       " binID & fasta.x & Marker.lineage & X..genomes & X..markers & X..marker.sets & Completeness & Contamination & Strain.heterogeneity & Genome.size..bp. & ⋯ & closest\\_placement\\_ani & closest\\_placement\\_af & pplacer\\_taxonomy & classification\\_method & note & aa\\_percent & translation\\_table & red\\_value & warnings & has\\_species\\_placement\\\\\n",
       "\\hline\n",
       "\t artificially\\_reared\\_1\\_\\_metabat2\\_low\\_PE.002.contigs                                                                                                                                                       & /ebio/abt3\\_projects/Georg\\_animal\\_feces/data//metagenome/multi-study/BioProjects/summary/LLMGA/wGeorgAnimal/drep-0.95/dereplicated\\_genomes/artificially\\_reared\\_1\\_\\_metabat2\\_low\\_PE.002.contigs.fa  & o\\_\\_Bacteroidales (UID2657)                                                                                                                                                                                       & 160                                                                                                                                                                                                                  & 491                                                                                                                                                                                                                  & 268                                                                                                                                                                                                                  & 92.92                                                                                                                                                                                                                & 3.00                                                                                                                                                                                                                 & 28.57                                                                                                                                                                                                                & 3388189                                                                                                                                                                                                              & ⋯                                                                                                                                                                                                                    & 85.72                                                                                                                                                                                                                & 0.61                                                                                                                                                                                                                 & d\\_\\_Bacteria;p\\_\\_Bacteroidota;c\\_\\_Bacteroidia;o\\_\\_Bacteroidales;f\\_\\_Bacteroidaceae;g\\_\\_Bacteroides\\_A;s\\_\\_                                                                                     & Placement                                                                                                                                                                                                            & taxonomic classification fully defined by topology                                                                                                                                                                   & 93.33                                                                                                                                                                                                                & 11                                                                                                                                                                                                                   & 0.985595897806                                                                                                                                                                                                       & N/A                                                                                                                                                                                                                  & No match                                                                                                                                                                                                            \\\\\n",
       "\t artificially\\_reared\\_2\\_\\_maxbin2\\_low\\_prob.006.contigs                                                                                                                                                      & /ebio/abt3\\_projects/Georg\\_animal\\_feces/data//metagenome/multi-study/BioProjects/summary/LLMGA/wGeorgAnimal/drep-0.95/dereplicated\\_genomes/artificially\\_reared\\_2\\_\\_maxbin2\\_low\\_prob.006.contigs.fa & k\\_\\_Bacteria (UID2569)                                                                                                                                                                                            & 434                                                                                                                                                                                                                  & 278                                                                                                                                                                                                                  & 186                                                                                                                                                                                                                  & 88.60                                                                                                                                                                                                                & 1.11                                                                                                                                                                                                                 & 50.00                                                                                                                                                                                                                & 2174315                                                                                                                                                                                                              & ⋯                                                                                                                                                                                                                    &  0.00                                                                                                                                                                                                                & N/A                                                                                                                                                                                                                  & d\\_\\_Bacteria;p\\_\\_Bacteroidota;c\\_\\_Bacteroidia;o\\_\\_Bacteroidales;f\\_\\_Paludibacteraceae;g\\_\\_;s\\_\\_                                                                                                 & Placement                                                                                                                                                                                                            & taxonomic classification fully defined by topology                                                                                                                                                                   & 90.20                                                                                                                                                                                                                & 11                                                                                                                                                                                                                   & 0.836955988283                                                                                                                                                                                                       & N/A                                                                                                                                                                                                                  & No match                                                                                                                                                                                                            \\\\\n",
       "\t artificially\\_reared\\_2\\_\\_metabat2\\_high\\_PE.035.contigs                                                                                                                                                      & /ebio/abt3\\_projects/Georg\\_animal\\_feces/data//metagenome/multi-study/BioProjects/summary/LLMGA/wGeorgAnimal/drep-0.95/dereplicated\\_genomes/artificially\\_reared\\_2\\_\\_metabat2\\_high\\_PE.035.contigs.fa & o\\_\\_Bacteroidales (UID2657)                                                                                                                                                                                       & 160                                                                                                                                                                                                                  & 491                                                                                                                                                                                                                  & 268                                                                                                                                                                                                                  & 97.45                                                                                                                                                                                                                & 0.62                                                                                                                                                                                                                 & 66.67                                                                                                                                                                                                                & 3857403                                                                                                                                                                                                              & ⋯                                                                                                                                                                                                                    & 80.56                                                                                                                                                                                                                & 0.32                                                                                                                                                                                                                 & d\\_\\_Bacteria;p\\_\\_Bacteroidota;c\\_\\_Bacteroidia;o\\_\\_Bacteroidales;f\\_\\_Bacteroidaceae;g\\_\\_Bacteroides\\_A;s\\_\\_                                                                                     & Placement                                                                                                                                                                                                            & taxonomic classification fully defined by topology                                                                                                                                                                   & 95.99                                                                                                                                                                                                                & 11                                                                                                                                                                                                                   & 0.969620821863                                                                                                                                                                                                       & N/A                                                                                                                                                                                                                  & No match                                                                                                                                                                                                            \\\\\n",
       "\\end{tabular}\n"
      ],
      "text/markdown": [
       "\n",
       "binID | fasta.x | Marker.lineage | X..genomes | X..markers | X..marker.sets | Completeness | Contamination | Strain.heterogeneity | Genome.size..bp. | ⋯ | closest_placement_ani | closest_placement_af | pplacer_taxonomy | classification_method | note | aa_percent | translation_table | red_value | warnings | has_species_placement | \n",
       "|---|---|---|\n",
       "| artificially_reared_1__metabat2_low_PE.002.contigs                                                                                                                                               | /ebio/abt3_projects/Georg_animal_feces/data//metagenome/multi-study/BioProjects/summary/LLMGA/wGeorgAnimal/drep-0.95/dereplicated_genomes/artificially_reared_1__metabat2_low_PE.002.contigs.fa  | o__Bacteroidales (UID2657)                                                                                                                                                                       | 160                                                                                                                                                                                              | 491                                                                                                                                                                                              | 268                                                                                                                                                                                              | 92.92                                                                                                                                                                                            | 3.00                                                                                                                                                                                             | 28.57                                                                                                                                                                                            | 3388189                                                                                                                                                                                          | ⋯                                                                                                                                                                                                | 85.72                                                                                                                                                                                            | 0.61                                                                                                                                                                                             | d__Bacteria;p__Bacteroidota;c__Bacteroidia;o__Bacteroidales;f__Bacteroidaceae;g__Bacteroides_A;s__                                                                                               | Placement                                                                                                                                                                                        | taxonomic classification fully defined by topology                                                                                                                                               | 93.33                                                                                                                                                                                            | 11                                                                                                                                                                                               | 0.985595897806                                                                                                                                                                                   | N/A                                                                                                                                                                                              | No match                                                                                                                                                                                         | \n",
       "| artificially_reared_2__maxbin2_low_prob.006.contigs                                                                                                                                              | /ebio/abt3_projects/Georg_animal_feces/data//metagenome/multi-study/BioProjects/summary/LLMGA/wGeorgAnimal/drep-0.95/dereplicated_genomes/artificially_reared_2__maxbin2_low_prob.006.contigs.fa | k__Bacteria (UID2569)                                                                                                                                                                            | 434                                                                                                                                                                                              | 278                                                                                                                                                                                              | 186                                                                                                                                                                                              | 88.60                                                                                                                                                                                            | 1.11                                                                                                                                                                                             | 50.00                                                                                                                                                                                            | 2174315                                                                                                                                                                                          | ⋯                                                                                                                                                                                                |  0.00                                                                                                                                                                                            | N/A                                                                                                                                                                                              | d__Bacteria;p__Bacteroidota;c__Bacteroidia;o__Bacteroidales;f__Paludibacteraceae;g__;s__                                                                                                         | Placement                                                                                                                                                                                        | taxonomic classification fully defined by topology                                                                                                                                               | 90.20                                                                                                                                                                                            | 11                                                                                                                                                                                               | 0.836955988283                                                                                                                                                                                   | N/A                                                                                                                                                                                              | No match                                                                                                                                                                                         | \n",
       "| artificially_reared_2__metabat2_high_PE.035.contigs                                                                                                                                              | /ebio/abt3_projects/Georg_animal_feces/data//metagenome/multi-study/BioProjects/summary/LLMGA/wGeorgAnimal/drep-0.95/dereplicated_genomes/artificially_reared_2__metabat2_high_PE.035.contigs.fa | o__Bacteroidales (UID2657)                                                                                                                                                                       | 160                                                                                                                                                                                              | 491                                                                                                                                                                                              | 268                                                                                                                                                                                              | 97.45                                                                                                                                                                                            | 0.62                                                                                                                                                                                             | 66.67                                                                                                                                                                                            | 3857403                                                                                                                                                                                          | ⋯                                                                                                                                                                                                | 80.56                                                                                                                                                                                            | 0.32                                                                                                                                                                                             | d__Bacteria;p__Bacteroidota;c__Bacteroidia;o__Bacteroidales;f__Bacteroidaceae;g__Bacteroides_A;s__                                                                                               | Placement                                                                                                                                                                                        | taxonomic classification fully defined by topology                                                                                                                                               | 95.99                                                                                                                                                                                            | 11                                                                                                                                                                                               | 0.969620821863                                                                                                                                                                                   | N/A                                                                                                                                                                                              | No match                                                                                                                                                                                         | \n",
       "\n",
       "\n"
      ],
      "text/plain": [
       "  binID                                              \n",
       "1 artificially_reared_1__metabat2_low_PE.002.contigs \n",
       "2 artificially_reared_2__maxbin2_low_prob.006.contigs\n",
       "3 artificially_reared_2__metabat2_high_PE.035.contigs\n",
       "  fasta.x                                                                                                                                                                                         \n",
       "1 /ebio/abt3_projects/Georg_animal_feces/data//metagenome/multi-study/BioProjects/summary/LLMGA/wGeorgAnimal/drep-0.95/dereplicated_genomes/artificially_reared_1__metabat2_low_PE.002.contigs.fa \n",
       "2 /ebio/abt3_projects/Georg_animal_feces/data//metagenome/multi-study/BioProjects/summary/LLMGA/wGeorgAnimal/drep-0.95/dereplicated_genomes/artificially_reared_2__maxbin2_low_prob.006.contigs.fa\n",
       "3 /ebio/abt3_projects/Georg_animal_feces/data//metagenome/multi-study/BioProjects/summary/LLMGA/wGeorgAnimal/drep-0.95/dereplicated_genomes/artificially_reared_2__metabat2_high_PE.035.contigs.fa\n",
       "  Marker.lineage             X..genomes X..markers X..marker.sets Completeness\n",
       "1 o__Bacteroidales (UID2657) 160        491        268            92.92       \n",
       "2 k__Bacteria (UID2569)      434        278        186            88.60       \n",
       "3 o__Bacteroidales (UID2657) 160        491        268            97.45       \n",
       "  Contamination Strain.heterogeneity Genome.size..bp. ⋯ closest_placement_ani\n",
       "1 3.00          28.57                3388189          ⋯ 85.72                \n",
       "2 1.11          50.00                2174315          ⋯  0.00                \n",
       "3 0.62          66.67                3857403          ⋯ 80.56                \n",
       "  closest_placement_af\n",
       "1 0.61                \n",
       "2 N/A                 \n",
       "3 0.32                \n",
       "  pplacer_taxonomy                                                                                  \n",
       "1 d__Bacteria;p__Bacteroidota;c__Bacteroidia;o__Bacteroidales;f__Bacteroidaceae;g__Bacteroides_A;s__\n",
       "2 d__Bacteria;p__Bacteroidota;c__Bacteroidia;o__Bacteroidales;f__Paludibacteraceae;g__;s__          \n",
       "3 d__Bacteria;p__Bacteroidota;c__Bacteroidia;o__Bacteroidales;f__Bacteroidaceae;g__Bacteroides_A;s__\n",
       "  classification_method note                                              \n",
       "1 Placement             taxonomic classification fully defined by topology\n",
       "2 Placement             taxonomic classification fully defined by topology\n",
       "3 Placement             taxonomic classification fully defined by topology\n",
       "  aa_percent translation_table red_value      warnings has_species_placement\n",
       "1 93.33      11                0.985595897806 N/A      No match             \n",
       "2 90.20      11                0.836955988283 N/A      No match             \n",
       "3 95.99      11                0.969620821863 N/A      No match             "
      ]
     },
     "metadata": {},
     "output_type": "display_data"
    }
   ],
   "source": [
    "MAG = read.delim(MAGs_to_add_file, sep='\\t')\n",
    "MAG %>% dfhead"
   ]
  },
  {
   "cell_type": "code",
   "execution_count": 6,
   "metadata": {
    "ExecuteTime": {
     "end_time": "2019-11-15T16:33:14.823452Z",
     "start_time": "2019-11-15T16:32:57.028Z"
    }
   },
   "outputs": [
    {
     "name": "stdout",
     "output_type": "stream",
     "text": [
      "[1] 23360   113\n"
     ]
    },
    {
     "data": {
      "text/html": [
       "<table>\n",
       "<thead><tr><th scope=col>ncbi_organism_name</th><th scope=col>accession</th><th scope=col>ambiguous_bases</th><th scope=col>checkm_completeness</th><th scope=col>checkm_contamination</th><th scope=col>checkm_marker_count</th><th scope=col>checkm_marker_lineage</th><th scope=col>checkm_marker_set_count</th><th scope=col>checkm_strain_heterogeneity</th><th scope=col>coding_bases</th><th scope=col>⋯</th><th scope=col>ssu_silva_blast_perc_identity</th><th scope=col>ssu_silva_blast_subject_id</th><th scope=col>ssu_silva_taxonomy</th><th scope=col>total_gap_length</th><th scope=col>trna_aa_count</th><th scope=col>trna_count</th><th scope=col>trna_selenocysteine_count</th><th scope=col>SPECIES</th><th scope=col>gtdb_taxid</th><th scope=col>fasta_file_path</th></tr></thead>\n",
       "<tbody>\n",
       "\t<tr><td>GB_GCA_002789635.1_Candidatus Aenigmarchaeota archaeon CG_4_9_14_3_um_filter_37_18                                                                </td><td>GB_GCA_002789635.1                                                                                                                                </td><td>0                                                                                                                                                 </td><td>79.44                                                                                                                                             </td><td>0.00                                                                                                                                              </td><td>149                                                                                                                                               </td><td>k__Archaea (UID2)                                                                                                                                 </td><td>107                                                                                                                                               </td><td>  0                                                                                                                                               </td><td>794970                                                                                                                                            </td><td>⋯                                                                                                                                                 </td><td>92.65                                                                                                                                             </td><td>KC604554.1.911                                                                                                                                    </td><td>Archaea;Aenigmarchaeota;Deep Sea Euryarchaeotic Group(DSEG);uncultured archaeon                                                                   </td><td> 377                                                                                                                                              </td><td>19                                                                                                                                                </td><td>35                                                                                                                                                </td><td>0                                                                                                                                                 </td><td>CG10238-14 sp002789635                                                                                                                            </td><td> 599                                                                                                                                              </td><td>/ebio/abt3_projects/databases_no-backup/GTDB/release89/LLMGP-DB/genomes/genbank/archaea/GCA_002789635.1/GCA_002789635.1_ASM278963v1_genomic.fna.gz</td></tr>\n",
       "\t<tr><td>GB_GCA_001784635.1_Candidatus Micrarchaeota archaeon RBG_16_49_10                                                                                 </td><td>GB_GCA_001784635.1                                                                                                                                </td><td>0                                                                                                                                                 </td><td>74.92                                                                                                                                             </td><td>0.00                                                                                                                                              </td><td>149                                                                                                                                               </td><td>k__Archaea (UID2)                                                                                                                                 </td><td>107                                                                                                                                               </td><td>  0                                                                                                                                               </td><td>773516                                                                                                                                            </td><td>⋯                                                                                                                                                 </td><td>92.41                                                                                                                                             </td><td>FJ685741.1.1439                                                                                                                                   </td><td>Archaea;Aenigmarchaeota;Deep Sea Euryarchaeotic Group(DSEG);uncultured archaeon                                                                   </td><td>6772                                                                                                                                              </td><td>18                                                                                                                                                </td><td>36                                                                                                                                                </td><td>0                                                                                                                                                 </td><td>RBG-16-49-10 sp001784635                                                                                                                          </td><td>3320                                                                                                                                              </td><td>/ebio/abt3_projects/databases_no-backup/GTDB/release89/LLMGP-DB/genomes/genbank/archaea/GCA_001784635.1/GCA_001784635.1_ASM178463v1_genomic.fna.gz</td></tr>\n",
       "\t<tr><td>GB_GCA_002254545.1_Candidatus Aenigmarchaeota archaeon ex4484_224                                                                                 </td><td>GB_GCA_002254545.1                                                                                                                                </td><td>0                                                                                                                                                 </td><td>68.22                                                                                                                                             </td><td>0.47                                                                                                                                              </td><td>149                                                                                                                                               </td><td>k__Archaea (UID2)                                                                                                                                 </td><td>107                                                                                                                                               </td><td>100                                                                                                                                               </td><td>454209                                                                                                                                            </td><td>⋯                                                                                                                                                 </td><td>78.954                                                                                                                                            </td><td>AB301866.1.959                                                                                                                                    </td><td>Archaea;Aenigmarchaeota;Aenigmarchaeota Incertae Sedis;Unknown Order;Unknown Family;Candidatus Aenigmarchaeum;uncultured euryarchaeote            </td><td>   0                                                                                                                                              </td><td>18                                                                                                                                                </td><td>25                                                                                                                                                </td><td>0                                                                                                                                                 </td><td>EX4484-224 sp002254545                                                                                                                            </td><td>4414                                                                                                                                              </td><td>/ebio/abt3_projects/databases_no-backup/GTDB/release89/LLMGP-DB/genomes/genbank/archaea/GCA_002254545.1/GCA_002254545.1_ASM225454v1_genomic.fna.gz</td></tr>\n",
       "</tbody>\n",
       "</table>\n"
      ],
      "text/latex": [
       "\\begin{tabular}{r|lllllllllllllllllllllllllllllllllllllllllllllllllllllllllllllllllllllllllllllllllllllllllllllllllllllllllllllllll}\n",
       " ncbi\\_organism\\_name & accession & ambiguous\\_bases & checkm\\_completeness & checkm\\_contamination & checkm\\_marker\\_count & checkm\\_marker\\_lineage & checkm\\_marker\\_set\\_count & checkm\\_strain\\_heterogeneity & coding\\_bases & ⋯ & ssu\\_silva\\_blast\\_perc\\_identity & ssu\\_silva\\_blast\\_subject\\_id & ssu\\_silva\\_taxonomy & total\\_gap\\_length & trna\\_aa\\_count & trna\\_count & trna\\_selenocysteine\\_count & SPECIES & gtdb\\_taxid & fasta\\_file\\_path\\\\\n",
       "\\hline\n",
       "\t GB\\_GCA\\_002789635.1\\_Candidatus Aenigmarchaeota archaeon CG\\_4\\_9\\_14\\_3\\_um\\_filter\\_37\\_18                                                       & GB\\_GCA\\_002789635.1                                                                                                                                         & 0                                                                                                                                                              & 79.44                                                                                                                                                          & 0.00                                                                                                                                                           & 149                                                                                                                                                            & k\\_\\_Archaea (UID2)                                                                                                                                          & 107                                                                                                                                                            &   0                                                                                                                                                            & 794970                                                                                                                                                         & ⋯                                                                                                                                                              & 92.65                                                                                                                                                          & KC604554.1.911                                                                                                                                                 & Archaea;Aenigmarchaeota;Deep Sea Euryarchaeotic Group(DSEG);uncultured archaeon                                                                                &  377                                                                                                                                                           & 19                                                                                                                                                             & 35                                                                                                                                                             & 0                                                                                                                                                              & CG10238-14 sp002789635                                                                                                                                         &  599                                                                                                                                                           & /ebio/abt3\\_projects/databases\\_no-backup/GTDB/release89/LLMGP-DB/genomes/genbank/archaea/GCA\\_002789635.1/GCA\\_002789635.1\\_ASM278963v1\\_genomic.fna.gz\\\\\n",
       "\t GB\\_GCA\\_001784635.1\\_Candidatus Micrarchaeota archaeon RBG\\_16\\_49\\_10                                                                                  & GB\\_GCA\\_001784635.1                                                                                                                                         & 0                                                                                                                                                              & 74.92                                                                                                                                                          & 0.00                                                                                                                                                           & 149                                                                                                                                                            & k\\_\\_Archaea (UID2)                                                                                                                                          & 107                                                                                                                                                            &   0                                                                                                                                                            & 773516                                                                                                                                                         & ⋯                                                                                                                                                              & 92.41                                                                                                                                                          & FJ685741.1.1439                                                                                                                                                & Archaea;Aenigmarchaeota;Deep Sea Euryarchaeotic Group(DSEG);uncultured archaeon                                                                                & 6772                                                                                                                                                           & 18                                                                                                                                                             & 36                                                                                                                                                             & 0                                                                                                                                                              & RBG-16-49-10 sp001784635                                                                                                                                       & 3320                                                                                                                                                           & /ebio/abt3\\_projects/databases\\_no-backup/GTDB/release89/LLMGP-DB/genomes/genbank/archaea/GCA\\_001784635.1/GCA\\_001784635.1\\_ASM178463v1\\_genomic.fna.gz\\\\\n",
       "\t GB\\_GCA\\_002254545.1\\_Candidatus Aenigmarchaeota archaeon ex4484\\_224                                                                                      & GB\\_GCA\\_002254545.1                                                                                                                                         & 0                                                                                                                                                              & 68.22                                                                                                                                                          & 0.47                                                                                                                                                           & 149                                                                                                                                                            & k\\_\\_Archaea (UID2)                                                                                                                                          & 107                                                                                                                                                            & 100                                                                                                                                                            & 454209                                                                                                                                                         & ⋯                                                                                                                                                              & 78.954                                                                                                                                                         & AB301866.1.959                                                                                                                                                 & Archaea;Aenigmarchaeota;Aenigmarchaeota Incertae Sedis;Unknown Order;Unknown Family;Candidatus Aenigmarchaeum;uncultured euryarchaeote                         &    0                                                                                                                                                           & 18                                                                                                                                                             & 25                                                                                                                                                             & 0                                                                                                                                                              & EX4484-224 sp002254545                                                                                                                                         & 4414                                                                                                                                                           & /ebio/abt3\\_projects/databases\\_no-backup/GTDB/release89/LLMGP-DB/genomes/genbank/archaea/GCA\\_002254545.1/GCA\\_002254545.1\\_ASM225454v1\\_genomic.fna.gz\\\\\n",
       "\\end{tabular}\n"
      ],
      "text/markdown": [
       "\n",
       "ncbi_organism_name | accession | ambiguous_bases | checkm_completeness | checkm_contamination | checkm_marker_count | checkm_marker_lineage | checkm_marker_set_count | checkm_strain_heterogeneity | coding_bases | ⋯ | ssu_silva_blast_perc_identity | ssu_silva_blast_subject_id | ssu_silva_taxonomy | total_gap_length | trna_aa_count | trna_count | trna_selenocysteine_count | SPECIES | gtdb_taxid | fasta_file_path | \n",
       "|---|---|---|\n",
       "| GB_GCA_002789635.1_Candidatus Aenigmarchaeota archaeon CG_4_9_14_3_um_filter_37_18                                                                 | GB_GCA_002789635.1                                                                                                                                 | 0                                                                                                                                                  | 79.44                                                                                                                                              | 0.00                                                                                                                                               | 149                                                                                                                                                | k__Archaea (UID2)                                                                                                                                  | 107                                                                                                                                                |   0                                                                                                                                                | 794970                                                                                                                                             | ⋯                                                                                                                                                  | 92.65                                                                                                                                              | KC604554.1.911                                                                                                                                     | Archaea;Aenigmarchaeota;Deep Sea Euryarchaeotic Group(DSEG);uncultured archaeon                                                                    |  377                                                                                                                                               | 19                                                                                                                                                 | 35                                                                                                                                                 | 0                                                                                                                                                  | CG10238-14 sp002789635                                                                                                                             |  599                                                                                                                                               | /ebio/abt3_projects/databases_no-backup/GTDB/release89/LLMGP-DB/genomes/genbank/archaea/GCA_002789635.1/GCA_002789635.1_ASM278963v1_genomic.fna.gz | \n",
       "| GB_GCA_001784635.1_Candidatus Micrarchaeota archaeon RBG_16_49_10                                                                                  | GB_GCA_001784635.1                                                                                                                                 | 0                                                                                                                                                  | 74.92                                                                                                                                              | 0.00                                                                                                                                               | 149                                                                                                                                                | k__Archaea (UID2)                                                                                                                                  | 107                                                                                                                                                |   0                                                                                                                                                | 773516                                                                                                                                             | ⋯                                                                                                                                                  | 92.41                                                                                                                                              | FJ685741.1.1439                                                                                                                                    | Archaea;Aenigmarchaeota;Deep Sea Euryarchaeotic Group(DSEG);uncultured archaeon                                                                    | 6772                                                                                                                                               | 18                                                                                                                                                 | 36                                                                                                                                                 | 0                                                                                                                                                  | RBG-16-49-10 sp001784635                                                                                                                           | 3320                                                                                                                                               | /ebio/abt3_projects/databases_no-backup/GTDB/release89/LLMGP-DB/genomes/genbank/archaea/GCA_001784635.1/GCA_001784635.1_ASM178463v1_genomic.fna.gz | \n",
       "| GB_GCA_002254545.1_Candidatus Aenigmarchaeota archaeon ex4484_224                                                                                  | GB_GCA_002254545.1                                                                                                                                 | 0                                                                                                                                                  | 68.22                                                                                                                                              | 0.47                                                                                                                                               | 149                                                                                                                                                | k__Archaea (UID2)                                                                                                                                  | 107                                                                                                                                                | 100                                                                                                                                                | 454209                                                                                                                                             | ⋯                                                                                                                                                  | 78.954                                                                                                                                             | AB301866.1.959                                                                                                                                     | Archaea;Aenigmarchaeota;Aenigmarchaeota Incertae Sedis;Unknown Order;Unknown Family;Candidatus Aenigmarchaeum;uncultured euryarchaeote             |    0                                                                                                                                               | 18                                                                                                                                                 | 25                                                                                                                                                 | 0                                                                                                                                                  | EX4484-224 sp002254545                                                                                                                             | 4414                                                                                                                                               | /ebio/abt3_projects/databases_no-backup/GTDB/release89/LLMGP-DB/genomes/genbank/archaea/GCA_002254545.1/GCA_002254545.1_ASM225454v1_genomic.fna.gz | \n",
       "\n",
       "\n"
      ],
      "text/plain": [
       "  ncbi_organism_name                                                                \n",
       "1 GB_GCA_002789635.1_Candidatus Aenigmarchaeota archaeon CG_4_9_14_3_um_filter_37_18\n",
       "2 GB_GCA_001784635.1_Candidatus Micrarchaeota archaeon RBG_16_49_10                 \n",
       "3 GB_GCA_002254545.1_Candidatus Aenigmarchaeota archaeon ex4484_224                 \n",
       "  accession          ambiguous_bases checkm_completeness checkm_contamination\n",
       "1 GB_GCA_002789635.1 0               79.44               0.00                \n",
       "2 GB_GCA_001784635.1 0               74.92               0.00                \n",
       "3 GB_GCA_002254545.1 0               68.22               0.47                \n",
       "  checkm_marker_count checkm_marker_lineage checkm_marker_set_count\n",
       "1 149                 k__Archaea (UID2)     107                    \n",
       "2 149                 k__Archaea (UID2)     107                    \n",
       "3 149                 k__Archaea (UID2)     107                    \n",
       "  checkm_strain_heterogeneity coding_bases ⋯ ssu_silva_blast_perc_identity\n",
       "1   0                         794970       ⋯ 92.65                        \n",
       "2   0                         773516       ⋯ 92.41                        \n",
       "3 100                         454209       ⋯ 78.954                       \n",
       "  ssu_silva_blast_subject_id\n",
       "1 KC604554.1.911            \n",
       "2 FJ685741.1.1439           \n",
       "3 AB301866.1.959            \n",
       "  ssu_silva_taxonomy                                                                                                                    \n",
       "1 Archaea;Aenigmarchaeota;Deep Sea Euryarchaeotic Group(DSEG);uncultured archaeon                                                       \n",
       "2 Archaea;Aenigmarchaeota;Deep Sea Euryarchaeotic Group(DSEG);uncultured archaeon                                                       \n",
       "3 Archaea;Aenigmarchaeota;Aenigmarchaeota Incertae Sedis;Unknown Order;Unknown Family;Candidatus Aenigmarchaeum;uncultured euryarchaeote\n",
       "  total_gap_length trna_aa_count trna_count trna_selenocysteine_count\n",
       "1  377             19            35         0                        \n",
       "2 6772             18            36         0                        \n",
       "3    0             18            25         0                        \n",
       "  SPECIES                  gtdb_taxid\n",
       "1 CG10238-14 sp002789635    599      \n",
       "2 RBG-16-49-10 sp001784635 3320      \n",
       "3 EX4484-224 sp002254545   4414      \n",
       "  fasta_file_path                                                                                                                                   \n",
       "1 /ebio/abt3_projects/databases_no-backup/GTDB/release89/LLMGP-DB/genomes/genbank/archaea/GCA_002789635.1/GCA_002789635.1_ASM278963v1_genomic.fna.gz\n",
       "2 /ebio/abt3_projects/databases_no-backup/GTDB/release89/LLMGP-DB/genomes/genbank/archaea/GCA_001784635.1/GCA_001784635.1_ASM178463v1_genomic.fna.gz\n",
       "3 /ebio/abt3_projects/databases_no-backup/GTDB/release89/LLMGP-DB/genomes/genbank/archaea/GCA_002254545.1/GCA_002254545.1_ASM225454v1_genomic.fna.gz"
      ]
     },
     "metadata": {},
     "output_type": "display_data"
    }
   ],
   "source": [
    "custom_db = read.delim(custom_db_file, sep='\\t')\n",
    "custom_db %>% dfhead"
   ]
  },
  {
   "cell_type": "markdown",
   "metadata": {},
   "source": [
    "# Copying MAG fastas to GTDB dir"
   ]
  },
  {
   "cell_type": "code",
   "execution_count": 7,
   "metadata": {
    "ExecuteTime": {
     "end_time": "2019-11-15T16:33:14.850747Z",
     "start_time": "2019-11-15T16:33:00.677Z"
    }
   },
   "outputs": [
    {
     "name": "stdout",
     "output_type": "stream",
     "text": [
      "Directory already exists: /ebio/abt3_projects/databases_no-backup/GTDB/release89/LLMGP-DB/animalGut-multi-study15//genomes \n"
     ]
    }
   ],
   "source": [
    "out_gzip_dir = file.path(work_dir, 'genomes')\n",
    "make_dir(out_gzip_dir)"
   ]
  },
  {
   "cell_type": "code",
   "execution_count": 23,
   "metadata": {
    "ExecuteTime": {
     "end_time": "2019-11-15T16:36:23.999220Z",
     "start_time": "2019-11-15T16:35:18.278Z"
    }
   },
   "outputs": [
    {
     "data": {
      "text/html": [
       "1522"
      ],
      "text/latex": [
       "1522"
      ],
      "text/markdown": [
       "1522"
      ],
      "text/plain": [
       "[1] 1522"
      ]
     },
     "metadata": {},
     "output_type": "display_data"
    }
   ],
   "source": [
    "# function to gzip genomes\n",
    "gzip_genomes = function(genome_file, out_dir, conda_env, skip_cmd=FALSE){\n",
    "    # I/O\n",
    "    genome_file = as.character(genome_file)\n",
    "    if(!file.exists(genome_file)){\n",
    "        stop(glue::glue('Cannot find file: {F}', F=genome_file))\n",
    "    }\n",
    "    out_file = file.path(out_dir, paste0(basename(genome_file), '.gz'))\n",
    "    if(genome_file == out_file){\n",
    "        stop(glue::glue('Input & output are same file: {F}', F=genome_file))\n",
    "    }\n",
    "    # cmd\n",
    "    if(skip_cmd == TRUE){\n",
    "        return(out_file)\n",
    "    }\n",
    "    cmd = glue::glue('pigz -c {I} > {O}', I=genome_file, O=out_file)\n",
    "    bash_job(cmd, conda_env=conda_env)\n",
    "    # ret\n",
    "    return(out_file)\n",
    "}\n",
    "\n",
    "doParallel::registerDoParallel(threads)\n",
    "gzip_files = MAG$fasta.x %>% as.list %>% \n",
    "    plyr::llply(gzip_genomes, out_dir=out_gzip_dir, conda_env=conda_env,\n",
    "                .parallel=TRUE)\n",
    "\n",
    "gzip_files %>% length"
   ]
  },
  {
   "cell_type": "code",
   "execution_count": 24,
   "metadata": {
    "ExecuteTime": {
     "end_time": "2019-11-15T16:36:24.156439Z",
     "start_time": "2019-11-15T16:35:20.423Z"
    }
   },
   "outputs": [
    {
     "name": "stdout",
     "output_type": "stream",
     "text": [
      "[1] 1522    9\n"
     ]
    },
    {
     "data": {
      "text/html": [
       "<table>\n",
       "<thead><tr><th scope=col>binID</th><th scope=col>Domain</th><th scope=col>Phylum</th><th scope=col>Class</th><th scope=col>Order</th><th scope=col>Family</th><th scope=col>Genus</th><th scope=col>Species</th><th scope=col>fasta_file_path</th></tr></thead>\n",
       "<tbody>\n",
       "\t<tr><td>artificially_reared_1__metabat2_low_PE.002.contigs                                                                                                        </td><td>d__Bacteria                                                                                                                                               </td><td>p__Bacteroidota                                                                                                                                           </td><td>c__Bacteroidia                                                                                                                                            </td><td>o__Bacteroidales                                                                                                                                          </td><td>f__Bacteroidaceae                                                                                                                                         </td><td>g__Bacteroides_A                                                                                                                                          </td><td>s__                                                                                                                                                       </td><td>/ebio/abt3_projects/databases_no-backup/GTDB/release89/LLMGP-DB/animalGut-multi-study15//genomes/artificially_reared_1__metabat2_low_PE.002.contigs.fa.gz </td></tr>\n",
       "\t<tr><td>artificially_reared_2__maxbin2_low_prob.006.contigs                                                                                                       </td><td>d__Bacteria                                                                                                                                               </td><td>p__Bacteroidota                                                                                                                                           </td><td>c__Bacteroidia                                                                                                                                            </td><td>o__Bacteroidales                                                                                                                                          </td><td>f__Paludibacteraceae                                                                                                                                      </td><td>g__                                                                                                                                                       </td><td>s__                                                                                                                                                       </td><td>/ebio/abt3_projects/databases_no-backup/GTDB/release89/LLMGP-DB/animalGut-multi-study15//genomes/artificially_reared_2__maxbin2_low_prob.006.contigs.fa.gz</td></tr>\n",
       "\t<tr><td>artificially_reared_2__metabat2_high_PE.035.contigs                                                                                                       </td><td>d__Bacteria                                                                                                                                               </td><td>p__Bacteroidota                                                                                                                                           </td><td>c__Bacteroidia                                                                                                                                            </td><td>o__Bacteroidales                                                                                                                                          </td><td>f__Bacteroidaceae                                                                                                                                         </td><td>g__Bacteroides_A                                                                                                                                          </td><td>s__                                                                                                                                                       </td><td>/ebio/abt3_projects/databases_no-backup/GTDB/release89/LLMGP-DB/animalGut-multi-study15//genomes/artificially_reared_2__metabat2_high_PE.035.contigs.fa.gz</td></tr>\n",
       "</tbody>\n",
       "</table>\n"
      ],
      "text/latex": [
       "\\begin{tabular}{r|lllllllll}\n",
       " binID & Domain & Phylum & Class & Order & Family & Genus & Species & fasta\\_file\\_path\\\\\n",
       "\\hline\n",
       "\t artificially\\_reared\\_1\\_\\_metabat2\\_low\\_PE.002.contigs                                                                                                             & d\\_\\_Bacteria                                                                                                                                                            & p\\_\\_Bacteroidota                                                                                                                                                        & c\\_\\_Bacteroidia                                                                                                                                                         & o\\_\\_Bacteroidales                                                                                                                                                       & f\\_\\_Bacteroidaceae                                                                                                                                                      & g\\_\\_Bacteroides\\_A                                                                                                                                                     & s\\_\\_                                                                                                                                                                    & /ebio/abt3\\_projects/databases\\_no-backup/GTDB/release89/LLMGP-DB/animalGut-multi-study15//genomes/artificially\\_reared\\_1\\_\\_metabat2\\_low\\_PE.002.contigs.fa.gz \\\\\n",
       "\t artificially\\_reared\\_2\\_\\_maxbin2\\_low\\_prob.006.contigs                                                                                                            & d\\_\\_Bacteria                                                                                                                                                            & p\\_\\_Bacteroidota                                                                                                                                                        & c\\_\\_Bacteroidia                                                                                                                                                         & o\\_\\_Bacteroidales                                                                                                                                                       & f\\_\\_Paludibacteraceae                                                                                                                                                   & g\\_\\_                                                                                                                                                                    & s\\_\\_                                                                                                                                                                    & /ebio/abt3\\_projects/databases\\_no-backup/GTDB/release89/LLMGP-DB/animalGut-multi-study15//genomes/artificially\\_reared\\_2\\_\\_maxbin2\\_low\\_prob.006.contigs.fa.gz\\\\\n",
       "\t artificially\\_reared\\_2\\_\\_metabat2\\_high\\_PE.035.contigs                                                                                                            & d\\_\\_Bacteria                                                                                                                                                            & p\\_\\_Bacteroidota                                                                                                                                                        & c\\_\\_Bacteroidia                                                                                                                                                         & o\\_\\_Bacteroidales                                                                                                                                                       & f\\_\\_Bacteroidaceae                                                                                                                                                      & g\\_\\_Bacteroides\\_A                                                                                                                                                     & s\\_\\_                                                                                                                                                                    & /ebio/abt3\\_projects/databases\\_no-backup/GTDB/release89/LLMGP-DB/animalGut-multi-study15//genomes/artificially\\_reared\\_2\\_\\_metabat2\\_high\\_PE.035.contigs.fa.gz\\\\\n",
       "\\end{tabular}\n"
      ],
      "text/markdown": [
       "\n",
       "binID | Domain | Phylum | Class | Order | Family | Genus | Species | fasta_file_path | \n",
       "|---|---|---|\n",
       "| artificially_reared_1__metabat2_low_PE.002.contigs                                                                                                         | d__Bacteria                                                                                                                                                | p__Bacteroidota                                                                                                                                            | c__Bacteroidia                                                                                                                                             | o__Bacteroidales                                                                                                                                           | f__Bacteroidaceae                                                                                                                                          | g__Bacteroides_A                                                                                                                                           | s__                                                                                                                                                        | /ebio/abt3_projects/databases_no-backup/GTDB/release89/LLMGP-DB/animalGut-multi-study15//genomes/artificially_reared_1__metabat2_low_PE.002.contigs.fa.gz  | \n",
       "| artificially_reared_2__maxbin2_low_prob.006.contigs                                                                                                        | d__Bacteria                                                                                                                                                | p__Bacteroidota                                                                                                                                            | c__Bacteroidia                                                                                                                                             | o__Bacteroidales                                                                                                                                           | f__Paludibacteraceae                                                                                                                                       | g__                                                                                                                                                        | s__                                                                                                                                                        | /ebio/abt3_projects/databases_no-backup/GTDB/release89/LLMGP-DB/animalGut-multi-study15//genomes/artificially_reared_2__maxbin2_low_prob.006.contigs.fa.gz | \n",
       "| artificially_reared_2__metabat2_high_PE.035.contigs                                                                                                        | d__Bacteria                                                                                                                                                | p__Bacteroidota                                                                                                                                            | c__Bacteroidia                                                                                                                                             | o__Bacteroidales                                                                                                                                           | f__Bacteroidaceae                                                                                                                                          | g__Bacteroides_A                                                                                                                                           | s__                                                                                                                                                        | /ebio/abt3_projects/databases_no-backup/GTDB/release89/LLMGP-DB/animalGut-multi-study15//genomes/artificially_reared_2__metabat2_high_PE.035.contigs.fa.gz | \n",
       "\n",
       "\n"
      ],
      "text/plain": [
       "  binID                                               Domain     \n",
       "1 artificially_reared_1__metabat2_low_PE.002.contigs  d__Bacteria\n",
       "2 artificially_reared_2__maxbin2_low_prob.006.contigs d__Bacteria\n",
       "3 artificially_reared_2__metabat2_high_PE.035.contigs d__Bacteria\n",
       "  Phylum          Class          Order            Family              \n",
       "1 p__Bacteroidota c__Bacteroidia o__Bacteroidales f__Bacteroidaceae   \n",
       "2 p__Bacteroidota c__Bacteroidia o__Bacteroidales f__Paludibacteraceae\n",
       "3 p__Bacteroidota c__Bacteroidia o__Bacteroidales f__Bacteroidaceae   \n",
       "  Genus            Species\n",
       "1 g__Bacteroides_A s__    \n",
       "2 g__              s__    \n",
       "3 g__Bacteroides_A s__    \n",
       "  fasta_file_path                                                                                                                                           \n",
       "1 /ebio/abt3_projects/databases_no-backup/GTDB/release89/LLMGP-DB/animalGut-multi-study15//genomes/artificially_reared_1__metabat2_low_PE.002.contigs.fa.gz \n",
       "2 /ebio/abt3_projects/databases_no-backup/GTDB/release89/LLMGP-DB/animalGut-multi-study15//genomes/artificially_reared_2__maxbin2_low_prob.006.contigs.fa.gz\n",
       "3 /ebio/abt3_projects/databases_no-backup/GTDB/release89/LLMGP-DB/animalGut-multi-study15//genomes/artificially_reared_2__metabat2_high_PE.035.contigs.fa.gz"
      ]
     },
     "metadata": {},
     "output_type": "display_data"
    }
   ],
   "source": [
    "MAG = MAG %>%\n",
    "    mutate(fasta_file_path = sapply(fasta.x, gzip_genomes, \n",
    "                                    out_dir=out_gzip_dir, \n",
    "                                    conda_env=conda_env,\n",
    "                                    skip_cmd=TRUE)) %>%\n",
    "    dplyr::select(binID, Domain, Phylum, Class, \n",
    "                  Order, Family, Genus, Species, fasta_file_path)\n",
    "           \n",
    "MAG %>% dfhead"
   ]
  },
  {
   "cell_type": "markdown",
   "metadata": {},
   "source": [
    "## Formatting taxonomy\n",
    "\n",
    "* species must have a species name"
   ]
  },
  {
   "cell_type": "code",
   "execution_count": 25,
   "metadata": {
    "ExecuteTime": {
     "end_time": "2019-11-15T16:36:24.317247Z",
     "start_time": "2019-11-15T16:35:33.584Z"
    }
   },
   "outputs": [
    {
     "name": "stdout",
     "output_type": "stream",
     "text": [
      "[1] 1522    4\n"
     ]
    },
    {
     "data": {
      "text/html": [
       "<table>\n",
       "<thead><tr><th scope=col>binID</th><th scope=col>gtdb_taxonomy</th><th scope=col>fasta_file_path</th><th scope=col>ncbi_organism_name</th></tr></thead>\n",
       "<tbody>\n",
       "\t<tr><td>artificially_reared_1__metabat2_low_PE.002.contigs                                                                                                                            </td><td>d__Bacteria;p__Bacteroidota;c__Bacteroidia;o__Bacteroidales;f__Bacteroidaceae;g__Bacteroides_A;s__artificially_reared_1__metabat2_low_PE_002                                  </td><td>/ebio/abt3_projects/databases_no-backup/GTDB/release89/LLMGP-DB/animalGut-multi-study15//genomes/artificially_reared_1__metabat2_low_PE.002.contigs.fa.gz                     </td><td>artificially_reared_1__metabat2_low_PE_002                                                                                                                                    </td></tr>\n",
       "\t<tr><td>artificially_reared_2__maxbin2_low_prob.006.contigs                                                                                                                           </td><td>d__Bacteria;p__Bacteroidota;c__Bacteroidia;o__Bacteroidales;f__Paludibacteraceae;g__artificially_reared_2__maxbin2_low_prob_006;s__artificially_reared_2__maxbin2_low_prob_006</td><td>/ebio/abt3_projects/databases_no-backup/GTDB/release89/LLMGP-DB/animalGut-multi-study15//genomes/artificially_reared_2__maxbin2_low_prob.006.contigs.fa.gz                    </td><td>artificially_reared_2__maxbin2_low_prob_006                                                                                                                                   </td></tr>\n",
       "\t<tr><td>artificially_reared_2__metabat2_high_PE.035.contigs                                                                                                                           </td><td>d__Bacteria;p__Bacteroidota;c__Bacteroidia;o__Bacteroidales;f__Bacteroidaceae;g__Bacteroides_A;s__artificially_reared_2__metabat2_high_PE_035                                 </td><td>/ebio/abt3_projects/databases_no-backup/GTDB/release89/LLMGP-DB/animalGut-multi-study15//genomes/artificially_reared_2__metabat2_high_PE.035.contigs.fa.gz                    </td><td>artificially_reared_2__metabat2_high_PE_035                                                                                                                                   </td></tr>\n",
       "</tbody>\n",
       "</table>\n"
      ],
      "text/latex": [
       "\\begin{tabular}{r|llll}\n",
       " binID & gtdb\\_taxonomy & fasta\\_file\\_path & ncbi\\_organism\\_name\\\\\n",
       "\\hline\n",
       "\t artificially\\_reared\\_1\\_\\_metabat2\\_low\\_PE.002.contigs                                                                                                                                                             & d\\_\\_Bacteria;p\\_\\_Bacteroidota;c\\_\\_Bacteroidia;o\\_\\_Bacteroidales;f\\_\\_Bacteroidaceae;g\\_\\_Bacteroides\\_A;s\\_\\_artificially\\_reared\\_1\\_\\_metabat2\\_low\\_PE\\_002                                   & /ebio/abt3\\_projects/databases\\_no-backup/GTDB/release89/LLMGP-DB/animalGut-multi-study15//genomes/artificially\\_reared\\_1\\_\\_metabat2\\_low\\_PE.002.contigs.fa.gz                                                  & artificially\\_reared\\_1\\_\\_metabat2\\_low\\_PE\\_002                                                                                                                                                                  \\\\\n",
       "\t artificially\\_reared\\_2\\_\\_maxbin2\\_low\\_prob.006.contigs                                                                                                                                                                        & d\\_\\_Bacteria;p\\_\\_Bacteroidota;c\\_\\_Bacteroidia;o\\_\\_Bacteroidales;f\\_\\_Paludibacteraceae;g\\_\\_artificially\\_reared\\_2\\_\\_maxbin2\\_low\\_prob\\_006;s\\_\\_artificially\\_reared\\_2\\_\\_maxbin2\\_low\\_prob\\_006 & /ebio/abt3\\_projects/databases\\_no-backup/GTDB/release89/LLMGP-DB/animalGut-multi-study15//genomes/artificially\\_reared\\_2\\_\\_maxbin2\\_low\\_prob.006.contigs.fa.gz                                                             & artificially\\_reared\\_2\\_\\_maxbin2\\_low\\_prob\\_006                                                                                                                                                                             \\\\\n",
       "\t artificially\\_reared\\_2\\_\\_metabat2\\_high\\_PE.035.contigs                                                                                                                                                            & d\\_\\_Bacteria;p\\_\\_Bacteroidota;c\\_\\_Bacteroidia;o\\_\\_Bacteroidales;f\\_\\_Bacteroidaceae;g\\_\\_Bacteroides\\_A;s\\_\\_artificially\\_reared\\_2\\_\\_metabat2\\_high\\_PE\\_035                                  & /ebio/abt3\\_projects/databases\\_no-backup/GTDB/release89/LLMGP-DB/animalGut-multi-study15//genomes/artificially\\_reared\\_2\\_\\_metabat2\\_high\\_PE.035.contigs.fa.gz                                                 & artificially\\_reared\\_2\\_\\_metabat2\\_high\\_PE\\_035                                                                                                                                                                 \\\\\n",
       "\\end{tabular}\n"
      ],
      "text/markdown": [
       "\n",
       "binID | gtdb_taxonomy | fasta_file_path | ncbi_organism_name | \n",
       "|---|---|---|\n",
       "| artificially_reared_1__metabat2_low_PE.002.contigs                                                                                                                             | d__Bacteria;p__Bacteroidota;c__Bacteroidia;o__Bacteroidales;f__Bacteroidaceae;g__Bacteroides_A;s__artificially_reared_1__metabat2_low_PE_002                                   | /ebio/abt3_projects/databases_no-backup/GTDB/release89/LLMGP-DB/animalGut-multi-study15//genomes/artificially_reared_1__metabat2_low_PE.002.contigs.fa.gz                      | artificially_reared_1__metabat2_low_PE_002                                                                                                                                     | \n",
       "| artificially_reared_2__maxbin2_low_prob.006.contigs                                                                                                                            | d__Bacteria;p__Bacteroidota;c__Bacteroidia;o__Bacteroidales;f__Paludibacteraceae;g__artificially_reared_2__maxbin2_low_prob_006;s__artificially_reared_2__maxbin2_low_prob_006 | /ebio/abt3_projects/databases_no-backup/GTDB/release89/LLMGP-DB/animalGut-multi-study15//genomes/artificially_reared_2__maxbin2_low_prob.006.contigs.fa.gz                     | artificially_reared_2__maxbin2_low_prob_006                                                                                                                                    | \n",
       "| artificially_reared_2__metabat2_high_PE.035.contigs                                                                                                                            | d__Bacteria;p__Bacteroidota;c__Bacteroidia;o__Bacteroidales;f__Bacteroidaceae;g__Bacteroides_A;s__artificially_reared_2__metabat2_high_PE_035                                  | /ebio/abt3_projects/databases_no-backup/GTDB/release89/LLMGP-DB/animalGut-multi-study15//genomes/artificially_reared_2__metabat2_high_PE.035.contigs.fa.gz                     | artificially_reared_2__metabat2_high_PE_035                                                                                                                                    | \n",
       "\n",
       "\n"
      ],
      "text/plain": [
       "  binID                                              \n",
       "1 artificially_reared_1__metabat2_low_PE.002.contigs \n",
       "2 artificially_reared_2__maxbin2_low_prob.006.contigs\n",
       "3 artificially_reared_2__metabat2_high_PE.035.contigs\n",
       "  gtdb_taxonomy                                                                                                                                                                 \n",
       "1 d__Bacteria;p__Bacteroidota;c__Bacteroidia;o__Bacteroidales;f__Bacteroidaceae;g__Bacteroides_A;s__artificially_reared_1__metabat2_low_PE_002                                  \n",
       "2 d__Bacteria;p__Bacteroidota;c__Bacteroidia;o__Bacteroidales;f__Paludibacteraceae;g__artificially_reared_2__maxbin2_low_prob_006;s__artificially_reared_2__maxbin2_low_prob_006\n",
       "3 d__Bacteria;p__Bacteroidota;c__Bacteroidia;o__Bacteroidales;f__Bacteroidaceae;g__Bacteroides_A;s__artificially_reared_2__metabat2_high_PE_035                                 \n",
       "  fasta_file_path                                                                                                                                           \n",
       "1 /ebio/abt3_projects/databases_no-backup/GTDB/release89/LLMGP-DB/animalGut-multi-study15//genomes/artificially_reared_1__metabat2_low_PE.002.contigs.fa.gz \n",
       "2 /ebio/abt3_projects/databases_no-backup/GTDB/release89/LLMGP-DB/animalGut-multi-study15//genomes/artificially_reared_2__maxbin2_low_prob.006.contigs.fa.gz\n",
       "3 /ebio/abt3_projects/databases_no-backup/GTDB/release89/LLMGP-DB/animalGut-multi-study15//genomes/artificially_reared_2__metabat2_high_PE.035.contigs.fa.gz\n",
       "  ncbi_organism_name                         \n",
       "1 artificially_reared_1__metabat2_low_PE_002 \n",
       "2 artificially_reared_2__maxbin2_low_prob_006\n",
       "3 artificially_reared_2__metabat2_high_PE_035"
      ]
     },
     "metadata": {},
     "output_type": "display_data"
    }
   ],
   "source": [
    "# formatting\n",
    "MAG_f = MAG %>%\n",
    "    mutate(Family = Family %>% as.character,\n",
    "           Genus = Genus %>% as.character,\n",
    "           Species = Species %>% as.character,\n",
    "           ncbi_organism_name = gsub('\\\\.contigs$', '', binID),\n",
    "           ncbi_organism_name = gsub('[-.]+', '_', ncbi_organism_name)) %>%\n",
    "    mutate(Family = ifelse(Family == 'f__', paste0('f__', ncbi_organism_name), Family),\n",
    "           Genus = ifelse(Genus == 'g__', paste0('g__', ncbi_organism_name), Genus),\n",
    "           Species = ifelse(Species == 's__', paste0('s__', ncbi_organism_name), Species)) %>%\n",
    "    unite(gtdb_taxonomy, Domain, Phylum, Class, Order, Family, Genus, Species, sep=';')\n",
    "\n",
    "MAG_f %>% dfhead"
   ]
  },
  {
   "cell_type": "code",
   "execution_count": null,
   "metadata": {
    "ExecuteTime": {
     "end_time": "2019-11-09T14:08:55.249193Z",
     "start_time": "2019-11-09T14:08:55.191Z"
    }
   },
   "outputs": [],
   "source": [
    "# writing\n",
    "tmp_out_file = file.path(work_dir, 'MAGs_tmp.tsv')\n",
    "MAG_f %>%\n",
    "    dplyr::select(ncbi_organism_name, gtdb_taxonomy, fasta_file_path, binID) %>%\n",
    "    write.table(file=tmp_out_file, sep='\\t', quote=FALSE, row.names=FALSE, col.names=FALSE)\n",
    "cat('File written:', tmp_out_file, '\\n')"
   ]
  },
  {
   "cell_type": "markdown",
   "metadata": {},
   "source": [
    "Running `gtdb_to_taxdump.py` for GTDBr89 + MAG taxonomy\n",
    "```\n",
    "(snakemake_dev) @ rick:/ebio/abt3_projects/databases_no-backup/GTDB/release89/LLMGP-DB/animalGut-multi-study15/taxdump/\n",
    "$ /ebio/abt3_projects/Georg_animal_feces/bin/gtdb_to_taxdump/gtdb_to_taxdump.py   https://data.ace.uq.edu.au/public/gtdb/data/releases/release89/89.0/ar122_taxonomy_r89.tsv   https://data.ace.uq.edu.au/public/gtdb/data/releases/release89/89.0/bac120_taxonomy_r89.tsv   ../MAGs_tmp.tsv > taxID_info.tsv\n",
    "```"
   ]
  },
  {
   "cell_type": "markdown",
   "metadata": {},
   "source": [
    "### Checking consistency"
   ]
  },
  {
   "cell_type": "markdown",
   "metadata": {},
   "source": [
    "#### Load"
   ]
  },
  {
   "cell_type": "code",
   "execution_count": 26,
   "metadata": {
    "ExecuteTime": {
     "end_time": "2019-11-15T16:36:30.105492Z",
     "start_time": "2019-11-15T16:35:35.830Z"
    }
   },
   "outputs": [
    {
     "name": "stdout",
     "output_type": "stream",
     "text": [
      "[1] 182187      3\n"
     ]
    },
    {
     "data": {
      "text/html": [
       "<table>\n",
       "<thead><tr><th scope=col>taxID</th><th scope=col>name</th><th scope=col>rank</th></tr></thead>\n",
       "<tbody>\n",
       "\t<tr><td>1               </td><td>root            </td><td>no rank         </td></tr>\n",
       "\t<tr><td>2               </td><td>d__Archaea      </td><td>superkingdom    </td></tr>\n",
       "\t<tr><td>3               </td><td>p__Halobacterota</td><td>phylum          </td></tr>\n",
       "</tbody>\n",
       "</table>\n"
      ],
      "text/latex": [
       "\\begin{tabular}{r|lll}\n",
       " taxID & name & rank\\\\\n",
       "\\hline\n",
       "\t 1                & root             & no rank         \\\\\n",
       "\t 2                    & d\\_\\_Archaea       & superkingdom        \\\\\n",
       "\t 3                    & p\\_\\_Halobacterota & phylum              \\\\\n",
       "\\end{tabular}\n"
      ],
      "text/markdown": [
       "\n",
       "taxID | name | rank | \n",
       "|---|---|---|\n",
       "| 1                | root             | no rank          | \n",
       "| 2                | d__Archaea       | superkingdom     | \n",
       "| 3                | p__Halobacterota | phylum           | \n",
       "\n",
       "\n"
      ],
      "text/plain": [
       "  taxID name             rank        \n",
       "1 1     root             no rank     \n",
       "2 2     d__Archaea       superkingdom\n",
       "3 3     p__Halobacterota phylum      "
      ]
     },
     "metadata": {},
     "output_type": "display_data"
    }
   ],
   "source": [
    "gtdb_taxID_file = '/ebio/abt3_projects/databases_no-backup/GTDB/release89/taxdump/taxID_info.tsv'\n",
    "gtdb_taxID = read.delim(gtdb_taxID_file, sep='\\t')\n",
    "gtdb_taxID %>% dfhead"
   ]
  },
  {
   "cell_type": "code",
   "execution_count": 27,
   "metadata": {
    "ExecuteTime": {
     "end_time": "2019-11-15T16:36:35.933667Z",
     "start_time": "2019-11-15T16:35:35.974Z"
    }
   },
   "outputs": [
    {
     "name": "stdout",
     "output_type": "stream",
     "text": [
      "[1] 185162      3\n"
     ]
    },
    {
     "data": {
      "text/html": [
       "<table>\n",
       "<thead><tr><th scope=col>taxID</th><th scope=col>name</th><th scope=col>rank</th></tr></thead>\n",
       "<tbody>\n",
       "\t<tr><td>1               </td><td>root            </td><td>no rank         </td></tr>\n",
       "\t<tr><td>2               </td><td>d__Archaea      </td><td>superkingdom    </td></tr>\n",
       "\t<tr><td>3               </td><td>p__Halobacterota</td><td>phylum          </td></tr>\n",
       "</tbody>\n",
       "</table>\n"
      ],
      "text/latex": [
       "\\begin{tabular}{r|lll}\n",
       " taxID & name & rank\\\\\n",
       "\\hline\n",
       "\t 1                & root             & no rank         \\\\\n",
       "\t 2                    & d\\_\\_Archaea       & superkingdom        \\\\\n",
       "\t 3                    & p\\_\\_Halobacterota & phylum              \\\\\n",
       "\\end{tabular}\n"
      ],
      "text/markdown": [
       "\n",
       "taxID | name | rank | \n",
       "|---|---|---|\n",
       "| 1                | root             | no rank          | \n",
       "| 2                | d__Archaea       | superkingdom     | \n",
       "| 3                | p__Halobacterota | phylum           | \n",
       "\n",
       "\n"
      ],
      "text/plain": [
       "  taxID name             rank        \n",
       "1 1     root             no rank     \n",
       "2 2     d__Archaea       superkingdom\n",
       "3 3     p__Halobacterota phylum      "
      ]
     },
     "metadata": {},
     "output_type": "display_data"
    }
   ],
   "source": [
    "gtdbMS15_taxID_file = '/ebio/abt3_projects/databases_no-backup/GTDB/release89/LLMGP-DB/animalGut-multi-study15/taxdump/taxID_info.tsv'\n",
    "gtdbMS15_taxID = read.delim(gtdbMS15_taxID_file, sep='\\t')\n",
    "gtdbMS15_taxID %>% dfhead"
   ]
  },
  {
   "cell_type": "markdown",
   "metadata": {},
   "source": [
    "#### taxIDs"
   ]
  },
  {
   "cell_type": "code",
   "execution_count": 28,
   "metadata": {
    "ExecuteTime": {
     "end_time": "2019-11-15T16:36:36.006698Z",
     "start_time": "2019-11-15T16:35:36.210Z"
    }
   },
   "outputs": [
    {
     "data": {
      "text/html": [
       "185162"
      ],
      "text/latex": [
       "185162"
      ],
      "text/markdown": [
       "185162"
      ],
      "text/plain": [
       "[1] 185162"
      ]
     },
     "metadata": {},
     "output_type": "display_data"
    },
    {
     "data": {
      "text/html": [
       "185162"
      ],
      "text/latex": [
       "185162"
      ],
      "text/markdown": [
       "185162"
      ],
      "text/plain": [
       "[1] 185162"
      ]
     },
     "metadata": {},
     "output_type": "display_data"
    }
   ],
   "source": [
    "# non-redundant?\n",
    "gtdbMS15_taxID$taxID %>% length\n",
    "gtdbMS15_taxID$taxID %>% unique %>% length"
   ]
  },
  {
   "cell_type": "markdown",
   "metadata": {},
   "source": [
    "#### Overlap"
   ]
  },
  {
   "cell_type": "code",
   "execution_count": 29,
   "metadata": {
    "ExecuteTime": {
     "end_time": "2019-11-15T16:36:36.708719Z",
     "start_time": "2019-11-15T16:35:37.319Z"
    }
   },
   "outputs": [
    {
     "name": "stderr",
     "output_type": "stream",
     "text": [
      "Warning message:\n",
      "“Column `name` joining factors with different levels, coercing to character vector”"
     ]
    },
    {
     "data": {
      "text/html": [
       "182187"
      ],
      "text/latex": [
       "182187"
      ],
      "text/markdown": [
       "182187"
      ],
      "text/plain": [
       "[1] 182187"
      ]
     },
     "metadata": {},
     "output_type": "display_data"
    }
   ],
   "source": [
    "# checking overlap\n",
    "gtdbMS15_taxID %>%\n",
    "    inner_join(gtdb_taxID, c('name', 'rank')) %>%\n",
    "    nrow"
   ]
  },
  {
   "cell_type": "code",
   "execution_count": 30,
   "metadata": {
    "ExecuteTime": {
     "end_time": "2019-11-15T16:36:37.331187Z",
     "start_time": "2019-11-15T16:35:37.429Z"
    }
   },
   "outputs": [
    {
     "name": "stderr",
     "output_type": "stream",
     "text": [
      "Warning message:\n",
      "“Column `name` joining factors with different levels, coercing to character vector”"
     ]
    },
    {
     "name": "stdout",
     "output_type": "stream",
     "text": [
      "[1] 2975    3\n"
     ]
    },
    {
     "data": {
      "text/html": [
       "<table>\n",
       "<thead><tr><th scope=col>taxID</th><th scope=col>name</th><th scope=col>rank</th></tr></thead>\n",
       "<tbody>\n",
       "\t<tr><td>183035                     </td><td>s__R04__metabat2_low_PE_034</td><td>species                    </td></tr>\n",
       "\t<tr><td>183036                     </td><td>R04__metabat2_low_PE_034   </td><td>subspecies                 </td></tr>\n",
       "\t<tr><td>183337                     </td><td>s__R18__metabat2_low_PE_056</td><td>species                    </td></tr>\n",
       "</tbody>\n",
       "</table>\n"
      ],
      "text/latex": [
       "\\begin{tabular}{r|lll}\n",
       " taxID & name & rank\\\\\n",
       "\\hline\n",
       "\t 183035                                    & s\\_\\_R04\\_\\_metabat2\\_low\\_PE\\_034 & species                                  \\\\\n",
       "\t 183036                                & R04\\_\\_metabat2\\_low\\_PE\\_034    & subspecies                           \\\\\n",
       "\t 183337                                    & s\\_\\_R18\\_\\_metabat2\\_low\\_PE\\_056 & species                                  \\\\\n",
       "\\end{tabular}\n"
      ],
      "text/markdown": [
       "\n",
       "taxID | name | rank | \n",
       "|---|---|---|\n",
       "| 183035                      | s__R04__metabat2_low_PE_034 | species                     | \n",
       "| 183036                      | R04__metabat2_low_PE_034    | subspecies                  | \n",
       "| 183337                      | s__R18__metabat2_low_PE_056 | species                     | \n",
       "\n",
       "\n"
      ],
      "text/plain": [
       "  taxID  name                        rank      \n",
       "1 183035 s__R04__metabat2_low_PE_034 species   \n",
       "2 183036 R04__metabat2_low_PE_034    subspecies\n",
       "3 183337 s__R18__metabat2_low_PE_056 species   "
      ]
     },
     "metadata": {},
     "output_type": "display_data"
    }
   ],
   "source": [
    "# unique to MAGs\n",
    "gtdbMS15_taxID_f = gtdbMS15_taxID %>%\n",
    "    anti_join(gtdb_taxID, c('name', 'rank'))\n",
    "    \n",
    "gtdbMS15_taxID_f %>% dfhead"
   ]
  },
  {
   "cell_type": "code",
   "execution_count": 31,
   "metadata": {
    "ExecuteTime": {
     "end_time": "2019-11-15T16:36:37.477343Z",
     "start_time": "2019-11-15T16:35:37.558Z"
    }
   },
   "outputs": [
    {
     "data": {
      "text/html": [
       "<table>\n",
       "<thead><tr><th scope=col>rank</th><th scope=col>n</th></tr></thead>\n",
       "<tbody>\n",
       "\t<tr><td>family    </td><td>   6      </td></tr>\n",
       "\t<tr><td>genus     </td><td> 266      </td></tr>\n",
       "\t<tr><td>species   </td><td>1181      </td></tr>\n",
       "\t<tr><td>subspecies</td><td>1522      </td></tr>\n",
       "</tbody>\n",
       "</table>\n"
      ],
      "text/latex": [
       "\\begin{tabular}{r|ll}\n",
       " rank & n\\\\\n",
       "\\hline\n",
       "\t family     &    6      \\\\\n",
       "\t genus      &  266      \\\\\n",
       "\t species    & 1181      \\\\\n",
       "\t subspecies & 1522      \\\\\n",
       "\\end{tabular}\n"
      ],
      "text/markdown": [
       "\n",
       "rank | n | \n",
       "|---|---|---|---|\n",
       "| family     |    6       | \n",
       "| genus      |  266       | \n",
       "| species    | 1181       | \n",
       "| subspecies | 1522       | \n",
       "\n",
       "\n"
      ],
      "text/plain": [
       "  rank       n   \n",
       "1 family        6\n",
       "2 genus       266\n",
       "3 species    1181\n",
       "4 subspecies 1522"
      ]
     },
     "metadata": {},
     "output_type": "display_data"
    }
   ],
   "source": [
    "# number of new ranks for GTDBr89\n",
    "gtdbMS15_taxID_f %>%\n",
    "    group_by(rank) %>%\n",
    "    summarize(n = n()) %>%\n",
    "    ungroup()"
   ]
  },
  {
   "cell_type": "code",
   "execution_count": 32,
   "metadata": {
    "ExecuteTime": {
     "end_time": "2019-11-15T16:36:37.514377Z",
     "start_time": "2019-11-15T16:35:38.333Z"
    }
   },
   "outputs": [
    {
     "data": {
      "text/html": [
       "<table>\n",
       "<thead><tr><th scope=col>taxID</th><th scope=col>name</th><th scope=col>rank</th></tr></thead>\n",
       "<tbody>\n",
       "\t<tr><td>183550                                 </td><td>f__R26__metabat2_high_PE_046           </td><td>family                                 </td></tr>\n",
       "\t<tr><td>183845                                 </td><td>f__SAMEA104315432__metabat2_low_PE_051 </td><td>family                                 </td></tr>\n",
       "\t<tr><td>183944                                 </td><td>f__SAMEA104315439__maxbin2_low_prob_003</td><td>family                                 </td></tr>\n",
       "\t<tr><td>183616                                 </td><td>f__R28__metabat2_low_PE_037            </td><td>family                                 </td></tr>\n",
       "\t<tr><td>182547                                 </td><td>f__DSTMC04003__metabat2_low_PE_018     </td><td>family                                 </td></tr>\n",
       "\t<tr><td>183980                                 </td><td>f__SAMEA104404097__metabat2_high_PE_096</td><td>family                                 </td></tr>\n",
       "</tbody>\n",
       "</table>\n"
      ],
      "text/latex": [
       "\\begin{tabular}{r|lll}\n",
       " taxID & name & rank\\\\\n",
       "\\hline\n",
       "\t 183550                                                & f\\_\\_R26\\_\\_metabat2\\_high\\_PE\\_046            & family                                               \\\\\n",
       "\t 183845                                                & f\\_\\_SAMEA104315432\\_\\_metabat2\\_low\\_PE\\_051  & family                                               \\\\\n",
       "\t 183944                                                & f\\_\\_SAMEA104315439\\_\\_maxbin2\\_low\\_prob\\_003 & family                                               \\\\\n",
       "\t 183616                                                & f\\_\\_R28\\_\\_metabat2\\_low\\_PE\\_037             & family                                               \\\\\n",
       "\t 182547                                                & f\\_\\_DSTMC04003\\_\\_metabat2\\_low\\_PE\\_018      & family                                               \\\\\n",
       "\t 183980                                                & f\\_\\_SAMEA104404097\\_\\_metabat2\\_high\\_PE\\_096 & family                                               \\\\\n",
       "\\end{tabular}\n"
      ],
      "text/markdown": [
       "\n",
       "taxID | name | rank | \n",
       "|---|---|---|---|---|---|\n",
       "| 183550                                  | f__R26__metabat2_high_PE_046            | family                                  | \n",
       "| 183845                                  | f__SAMEA104315432__metabat2_low_PE_051  | family                                  | \n",
       "| 183944                                  | f__SAMEA104315439__maxbin2_low_prob_003 | family                                  | \n",
       "| 183616                                  | f__R28__metabat2_low_PE_037             | family                                  | \n",
       "| 182547                                  | f__DSTMC04003__metabat2_low_PE_018      | family                                  | \n",
       "| 183980                                  | f__SAMEA104404097__metabat2_high_PE_096 | family                                  | \n",
       "\n",
       "\n"
      ],
      "text/plain": [
       "  taxID  name                                    rank  \n",
       "1 183550 f__R26__metabat2_high_PE_046            family\n",
       "2 183845 f__SAMEA104315432__metabat2_low_PE_051  family\n",
       "3 183944 f__SAMEA104315439__maxbin2_low_prob_003 family\n",
       "4 183616 f__R28__metabat2_low_PE_037             family\n",
       "5 182547 f__DSTMC04003__metabat2_low_PE_018      family\n",
       "6 183980 f__SAMEA104404097__metabat2_high_PE_096 family"
      ]
     },
     "metadata": {},
     "output_type": "display_data"
    }
   ],
   "source": [
    "# checking ranks\n",
    "gtdbMS15_taxID_f %>%\n",
    "    filter(rank == 'family') "
   ]
  },
  {
   "cell_type": "code",
   "execution_count": 33,
   "metadata": {
    "ExecuteTime": {
     "end_time": "2019-11-15T16:36:37.571551Z",
     "start_time": "2019-11-15T16:35:38.494Z"
    }
   },
   "outputs": [
    {
     "data": {
      "text/html": [
       "<table>\n",
       "<thead><tr><th scope=col>taxID</th><th scope=col>name</th><th scope=col>rank</th></tr></thead>\n",
       "<tbody>\n",
       "\t<tr><td>183242                                            </td><td>g__R15__metabat2_low_PE_054                       </td><td>genus                                             </td></tr>\n",
       "\t<tr><td>183389                                            </td><td>g__R20__metabat2_low_PE_015                       </td><td>genus                                             </td></tr>\n",
       "\t<tr><td>183749                                            </td><td>g__SAMEA104315427__maxbin2_low_prob_013           </td><td>genus                                             </td></tr>\n",
       "\t<tr><td>184852                                            </td><td>g__X263_White_Stork__maxbin2_low_prob_001         </td><td>genus                                             </td></tr>\n",
       "\t<tr><td>185026                                            </td><td>g__X398_Eurasian_Reed_Warbler__metabat2_low_PE_002</td><td>genus                                             </td></tr>\n",
       "\t<tr><td>185154                                            </td><td>g__X90_Water_Rail__maxbin2_high_prob_001          </td><td>genus                                             </td></tr>\n",
       "</tbody>\n",
       "</table>\n"
      ],
      "text/latex": [
       "\\begin{tabular}{r|lll}\n",
       " taxID & name & rank\\\\\n",
       "\\hline\n",
       "\t 183242                                                           & g\\_\\_R15\\_\\_metabat2\\_low\\_PE\\_054                        & genus                                                           \\\\\n",
       "\t 183389                                                           & g\\_\\_R20\\_\\_metabat2\\_low\\_PE\\_015                        & genus                                                           \\\\\n",
       "\t 183749                                                           & g\\_\\_SAMEA104315427\\_\\_maxbin2\\_low\\_prob\\_013            & genus                                                           \\\\\n",
       "\t 184852                                                               & g\\_\\_X263\\_White\\_Stork\\_\\_maxbin2\\_low\\_prob\\_001          & genus                                                               \\\\\n",
       "\t 185026                                                                 & g\\_\\_X398\\_Eurasian\\_Reed\\_Warbler\\_\\_metabat2\\_low\\_PE\\_002 & genus                                                                 \\\\\n",
       "\t 185154                                                               & g\\_\\_X90\\_Water\\_Rail\\_\\_maxbin2\\_high\\_prob\\_001           & genus                                                               \\\\\n",
       "\\end{tabular}\n"
      ],
      "text/markdown": [
       "\n",
       "taxID | name | rank | \n",
       "|---|---|---|---|---|---|\n",
       "| 183242                                             | g__R15__metabat2_low_PE_054                        | genus                                              | \n",
       "| 183389                                             | g__R20__metabat2_low_PE_015                        | genus                                              | \n",
       "| 183749                                             | g__SAMEA104315427__maxbin2_low_prob_013            | genus                                              | \n",
       "| 184852                                             | g__X263_White_Stork__maxbin2_low_prob_001          | genus                                              | \n",
       "| 185026                                             | g__X398_Eurasian_Reed_Warbler__metabat2_low_PE_002 | genus                                              | \n",
       "| 185154                                             | g__X90_Water_Rail__maxbin2_high_prob_001           | genus                                              | \n",
       "\n",
       "\n"
      ],
      "text/plain": [
       "  taxID  name                                               rank \n",
       "1 183242 g__R15__metabat2_low_PE_054                        genus\n",
       "2 183389 g__R20__metabat2_low_PE_015                        genus\n",
       "3 183749 g__SAMEA104315427__maxbin2_low_prob_013            genus\n",
       "4 184852 g__X263_White_Stork__maxbin2_low_prob_001          genus\n",
       "5 185026 g__X398_Eurasian_Reed_Warbler__metabat2_low_PE_002 genus\n",
       "6 185154 g__X90_Water_Rail__maxbin2_high_prob_001           genus"
      ]
     },
     "metadata": {},
     "output_type": "display_data"
    },
    {
     "data": {
      "text/html": [
       "<table>\n",
       "<thead><tr><th></th><th scope=col>taxID</th><th scope=col>name</th><th scope=col>rank</th></tr></thead>\n",
       "<tbody>\n",
       "\t<tr><th scope=row>261</th><td>183766                                </td><td>g__SAMEA104315427__metabat2_low_PE_013</td><td>genus                                 </td></tr>\n",
       "\t<tr><th scope=row>262</th><td>183882                                </td><td>g__SAMEA104315435__metabat2_low_PE_015</td><td>genus                                 </td></tr>\n",
       "\t<tr><th scope=row>263</th><td>182987                                </td><td>g__R03__metabat2_high_PE_060          </td><td>genus                                 </td></tr>\n",
       "\t<tr><th scope=row>264</th><td>184614                                </td><td>g__SAMEA3663297__maxbin2_low_prob_019 </td><td>genus                                 </td></tr>\n",
       "\t<tr><th scope=row>265</th><td>184627                                </td><td>g__SAMEA3663299__metabat2_low_PE_003  </td><td>genus                                 </td></tr>\n",
       "\t<tr><th scope=row>266</th><td>182329                                </td><td>g__CHCFR05602__maxbin2_high_prob_029  </td><td>genus                                 </td></tr>\n",
       "</tbody>\n",
       "</table>\n"
      ],
      "text/latex": [
       "\\begin{tabular}{r|lll}\n",
       "  & taxID & name & rank\\\\\n",
       "\\hline\n",
       "\t261 & 183766                                               & g\\_\\_SAMEA104315427\\_\\_metabat2\\_low\\_PE\\_013 & genus                                               \\\\\n",
       "\t262 & 183882                                               & g\\_\\_SAMEA104315435\\_\\_metabat2\\_low\\_PE\\_015 & genus                                               \\\\\n",
       "\t263 & 182987                                               & g\\_\\_R03\\_\\_metabat2\\_high\\_PE\\_060           & genus                                               \\\\\n",
       "\t264 & 184614                                               & g\\_\\_SAMEA3663297\\_\\_maxbin2\\_low\\_prob\\_019  & genus                                               \\\\\n",
       "\t265 & 184627                                               & g\\_\\_SAMEA3663299\\_\\_metabat2\\_low\\_PE\\_003   & genus                                               \\\\\n",
       "\t266 & 182329                                               & g\\_\\_CHCFR05602\\_\\_maxbin2\\_high\\_prob\\_029   & genus                                               \\\\\n",
       "\\end{tabular}\n"
      ],
      "text/markdown": [
       "\n",
       "| <!--/--> | taxID | name | rank | \n",
       "|---|---|---|---|---|---|\n",
       "| 261 | 183766                                 | g__SAMEA104315427__metabat2_low_PE_013 | genus                                  | \n",
       "| 262 | 183882                                 | g__SAMEA104315435__metabat2_low_PE_015 | genus                                  | \n",
       "| 263 | 182987                                 | g__R03__metabat2_high_PE_060           | genus                                  | \n",
       "| 264 | 184614                                 | g__SAMEA3663297__maxbin2_low_prob_019  | genus                                  | \n",
       "| 265 | 184627                                 | g__SAMEA3663299__metabat2_low_PE_003   | genus                                  | \n",
       "| 266 | 182329                                 | g__CHCFR05602__maxbin2_high_prob_029   | genus                                  | \n",
       "\n",
       "\n"
      ],
      "text/plain": [
       "    taxID  name                                   rank \n",
       "261 183766 g__SAMEA104315427__metabat2_low_PE_013 genus\n",
       "262 183882 g__SAMEA104315435__metabat2_low_PE_015 genus\n",
       "263 182987 g__R03__metabat2_high_PE_060           genus\n",
       "264 184614 g__SAMEA3663297__maxbin2_low_prob_019  genus\n",
       "265 184627 g__SAMEA3663299__metabat2_low_PE_003   genus\n",
       "266 182329 g__CHCFR05602__maxbin2_high_prob_029   genus"
      ]
     },
     "metadata": {},
     "output_type": "display_data"
    }
   ],
   "source": [
    "# checking ranks\n",
    "gtdbMS15_taxID_f %>%\n",
    "    filter(rank == 'genus') %>%\n",
    "    head\n",
    "\n",
    "gtdbMS15_taxID_f %>%\n",
    "    filter(rank == 'genus') %>%\n",
    "    tail"
   ]
  },
  {
   "cell_type": "code",
   "execution_count": 34,
   "metadata": {
    "ExecuteTime": {
     "end_time": "2019-11-15T16:36:37.628108Z",
     "start_time": "2019-11-15T16:35:38.606Z"
    }
   },
   "outputs": [
    {
     "data": {
      "text/html": [
       "<table>\n",
       "<thead><tr><th scope=col>taxID</th><th scope=col>name</th><th scope=col>rank</th></tr></thead>\n",
       "<tbody>\n",
       "\t<tr><td>183035                                 </td><td>s__R04__metabat2_low_PE_034            </td><td>species                                </td></tr>\n",
       "\t<tr><td>183337                                 </td><td>s__R18__metabat2_low_PE_056            </td><td>species                                </td></tr>\n",
       "\t<tr><td>183339                                 </td><td>s__R19__maxbin2_low_prob_025           </td><td>species                                </td></tr>\n",
       "\t<tr><td>183243                                 </td><td>s__R15__metabat2_low_PE_054            </td><td>species                                </td></tr>\n",
       "\t<tr><td>183798                                 </td><td>s__SAMEA104315429__metabat2_high_PE_052</td><td>species                                </td></tr>\n",
       "\t<tr><td>183806                                 </td><td>s__SAMEA104315430__metabat2_high_PE_043</td><td>species                                </td></tr>\n",
       "</tbody>\n",
       "</table>\n"
      ],
      "text/latex": [
       "\\begin{tabular}{r|lll}\n",
       " taxID & name & rank\\\\\n",
       "\\hline\n",
       "\t 183035                                                & s\\_\\_R04\\_\\_metabat2\\_low\\_PE\\_034             & species                                              \\\\\n",
       "\t 183337                                                & s\\_\\_R18\\_\\_metabat2\\_low\\_PE\\_056             & species                                              \\\\\n",
       "\t 183339                                                & s\\_\\_R19\\_\\_maxbin2\\_low\\_prob\\_025            & species                                              \\\\\n",
       "\t 183243                                                & s\\_\\_R15\\_\\_metabat2\\_low\\_PE\\_054             & species                                              \\\\\n",
       "\t 183798                                                & s\\_\\_SAMEA104315429\\_\\_metabat2\\_high\\_PE\\_052 & species                                              \\\\\n",
       "\t 183806                                                & s\\_\\_SAMEA104315430\\_\\_metabat2\\_high\\_PE\\_043 & species                                              \\\\\n",
       "\\end{tabular}\n"
      ],
      "text/markdown": [
       "\n",
       "taxID | name | rank | \n",
       "|---|---|---|---|---|---|\n",
       "| 183035                                  | s__R04__metabat2_low_PE_034             | species                                 | \n",
       "| 183337                                  | s__R18__metabat2_low_PE_056             | species                                 | \n",
       "| 183339                                  | s__R19__maxbin2_low_prob_025            | species                                 | \n",
       "| 183243                                  | s__R15__metabat2_low_PE_054             | species                                 | \n",
       "| 183798                                  | s__SAMEA104315429__metabat2_high_PE_052 | species                                 | \n",
       "| 183806                                  | s__SAMEA104315430__metabat2_high_PE_043 | species                                 | \n",
       "\n",
       "\n"
      ],
      "text/plain": [
       "  taxID  name                                    rank   \n",
       "1 183035 s__R04__metabat2_low_PE_034             species\n",
       "2 183337 s__R18__metabat2_low_PE_056             species\n",
       "3 183339 s__R19__maxbin2_low_prob_025            species\n",
       "4 183243 s__R15__metabat2_low_PE_054             species\n",
       "5 183798 s__SAMEA104315429__metabat2_high_PE_052 species\n",
       "6 183806 s__SAMEA104315430__metabat2_high_PE_043 species"
      ]
     },
     "metadata": {},
     "output_type": "display_data"
    },
    {
     "data": {
      "text/html": [
       "<table>\n",
       "<thead><tr><th></th><th scope=col>taxID</th><th scope=col>name</th><th scope=col>rank</th></tr></thead>\n",
       "<tbody>\n",
       "\t<tr><th scope=row>1176</th><td>182461                                 </td><td>s__DHKFC23501__metabat2_high_PE_008    </td><td>species                                </td></tr>\n",
       "\t<tr><th scope=row>1177</th><td>182899                                 </td><td>s__NHCFC04200__metabat2_low_PE_055     </td><td>species                                </td></tr>\n",
       "\t<tr><th scope=row>1178</th><td>182686                                 </td><td>s__LBJMC04202__metabat2_low_PE_018     </td><td>species                                </td></tr>\n",
       "\t<tr><th scope=row>1179</th><td>184045                                 </td><td>s__SAMEA104404100__metabat2_high_PE_071</td><td>species                                </td></tr>\n",
       "\t<tr><th scope=row>1180</th><td>182330                                 </td><td>s__CHCFR05602__maxbin2_high_prob_029   </td><td>species                                </td></tr>\n",
       "\t<tr><th scope=row>1181</th><td>183622                                 </td><td>s__Rahab_p1__metabat2_high_PE_009      </td><td>species                                </td></tr>\n",
       "</tbody>\n",
       "</table>\n"
      ],
      "text/latex": [
       "\\begin{tabular}{r|lll}\n",
       "  & taxID & name & rank\\\\\n",
       "\\hline\n",
       "\t1176 & 182461                                                & s\\_\\_DHKFC23501\\_\\_metabat2\\_high\\_PE\\_008     & species                                              \\\\\n",
       "\t1177 & 182899                                                & s\\_\\_NHCFC04200\\_\\_metabat2\\_low\\_PE\\_055      & species                                              \\\\\n",
       "\t1178 & 182686                                                & s\\_\\_LBJMC04202\\_\\_metabat2\\_low\\_PE\\_018      & species                                              \\\\\n",
       "\t1179 & 184045                                                & s\\_\\_SAMEA104404100\\_\\_metabat2\\_high\\_PE\\_071 & species                                              \\\\\n",
       "\t1180 & 182330                                                & s\\_\\_CHCFR05602\\_\\_maxbin2\\_high\\_prob\\_029    & species                                              \\\\\n",
       "\t1181 & 183622                                                  & s\\_\\_Rahab\\_p1\\_\\_metabat2\\_high\\_PE\\_009       & species                                                \\\\\n",
       "\\end{tabular}\n"
      ],
      "text/markdown": [
       "\n",
       "| <!--/--> | taxID | name | rank | \n",
       "|---|---|---|---|---|---|\n",
       "| 1176 | 182461                                  | s__DHKFC23501__metabat2_high_PE_008     | species                                 | \n",
       "| 1177 | 182899                                  | s__NHCFC04200__metabat2_low_PE_055      | species                                 | \n",
       "| 1178 | 182686                                  | s__LBJMC04202__metabat2_low_PE_018      | species                                 | \n",
       "| 1179 | 184045                                  | s__SAMEA104404100__metabat2_high_PE_071 | species                                 | \n",
       "| 1180 | 182330                                  | s__CHCFR05602__maxbin2_high_prob_029    | species                                 | \n",
       "| 1181 | 183622                                  | s__Rahab_p1__metabat2_high_PE_009       | species                                 | \n",
       "\n",
       "\n"
      ],
      "text/plain": [
       "     taxID  name                                    rank   \n",
       "1176 182461 s__DHKFC23501__metabat2_high_PE_008     species\n",
       "1177 182899 s__NHCFC04200__metabat2_low_PE_055      species\n",
       "1178 182686 s__LBJMC04202__metabat2_low_PE_018      species\n",
       "1179 184045 s__SAMEA104404100__metabat2_high_PE_071 species\n",
       "1180 182330 s__CHCFR05602__maxbin2_high_prob_029    species\n",
       "1181 183622 s__Rahab_p1__metabat2_high_PE_009       species"
      ]
     },
     "metadata": {},
     "output_type": "display_data"
    }
   ],
   "source": [
    "# checking ranks\n",
    "gtdbMS15_taxID_f %>%\n",
    "    filter(rank == 'species') %>%\n",
    "    head\n",
    "\n",
    "gtdbMS15_taxID_f %>%\n",
    "    filter(rank == 'species') %>%\n",
    "    tail"
   ]
  },
  {
   "cell_type": "markdown",
   "metadata": {},
   "source": [
    "### Adding taxIDs to MAG info"
   ]
  },
  {
   "cell_type": "code",
   "execution_count": 35,
   "metadata": {
    "ExecuteTime": {
     "end_time": "2019-11-15T16:36:37.895659Z",
     "start_time": "2019-11-15T16:35:39.656Z"
    }
   },
   "outputs": [
    {
     "name": "stderr",
     "output_type": "stream",
     "text": [
      "Warning message:\n",
      "“Column `name`/`ncbi_organism_name` joining factor and character vector, coercing into character vector”"
     ]
    },
    {
     "name": "stdout",
     "output_type": "stream",
     "text": [
      "[1] 1522    6\n"
     ]
    },
    {
     "data": {
      "text/html": [
       "<table>\n",
       "<thead><tr><th scope=col>taxID</th><th scope=col>name</th><th scope=col>rank</th><th scope=col>binID</th><th scope=col>gtdb_taxonomy</th><th scope=col>fasta_file_path</th></tr></thead>\n",
       "<tbody>\n",
       "\t<tr><td>183036                                                                                                                                          </td><td>R04__metabat2_low_PE_034                                                                                                                        </td><td>subspecies                                                                                                                                      </td><td>R04__metabat2_low_PE.034.contigs                                                                                                                </td><td>d__Archaea;p__Halobacterota;c__Methanomicrobia;o__Methanomicrobiales;f__Methanocorpusculaceae;g__Methanocorpusculum;s__R04__metabat2_low_PE_034 </td><td>/ebio/abt3_projects/databases_no-backup/GTDB/release89/LLMGP-DB/animalGut-multi-study15//genomes/R04__metabat2_low_PE.034.contigs.fa.gz         </td></tr>\n",
       "\t<tr><td>183338                                                                                                                                          </td><td>R18__metabat2_low_PE_056                                                                                                                        </td><td>subspecies                                                                                                                                      </td><td>R18__metabat2_low_PE.056.contigs                                                                                                                </td><td>d__Archaea;p__Halobacterota;c__Methanomicrobia;o__Methanomicrobiales;f__Methanocorpusculaceae;g__Methanocorpusculum;s__R18__metabat2_low_PE_056 </td><td>/ebio/abt3_projects/databases_no-backup/GTDB/release89/LLMGP-DB/animalGut-multi-study15//genomes/R18__metabat2_low_PE.056.contigs.fa.gz         </td></tr>\n",
       "\t<tr><td>183340                                                                                                                                          </td><td>R19__maxbin2_low_prob_025                                                                                                                       </td><td>subspecies                                                                                                                                      </td><td>R19__maxbin2_low_prob.025.contigs                                                                                                               </td><td>d__Archaea;p__Halobacterota;c__Methanomicrobia;o__Methanomicrobiales;f__Methanocorpusculaceae;g__Methanocorpusculum;s__R19__maxbin2_low_prob_025</td><td>/ebio/abt3_projects/databases_no-backup/GTDB/release89/LLMGP-DB/animalGut-multi-study15//genomes/R19__maxbin2_low_prob.025.contigs.fa.gz        </td></tr>\n",
       "</tbody>\n",
       "</table>\n"
      ],
      "text/latex": [
       "\\begin{tabular}{r|llllll}\n",
       " taxID & name & rank & binID & gtdb\\_taxonomy & fasta\\_file\\_path\\\\\n",
       "\\hline\n",
       "\t 183036                                                                                                                                                                                 & R04\\_\\_metabat2\\_low\\_PE\\_034                                                                                                                                                     & subspecies                                                                                                                                                                             & R04\\_\\_metabat2\\_low\\_PE.034.contigs                                                                                                                                               & d\\_\\_Archaea;p\\_\\_Halobacterota;c\\_\\_Methanomicrobia;o\\_\\_Methanomicrobiales;f\\_\\_Methanocorpusculaceae;g\\_\\_Methanocorpusculum;s\\_\\_R04\\_\\_metabat2\\_low\\_PE\\_034  & /ebio/abt3\\_projects/databases\\_no-backup/GTDB/release89/LLMGP-DB/animalGut-multi-study15//genomes/R04\\_\\_metabat2\\_low\\_PE.034.contigs.fa.gz                                   \\\\\n",
       "\t 183338                                                                                                                                                                                 & R18\\_\\_metabat2\\_low\\_PE\\_056                                                                                                                                                     & subspecies                                                                                                                                                                             & R18\\_\\_metabat2\\_low\\_PE.056.contigs                                                                                                                                               & d\\_\\_Archaea;p\\_\\_Halobacterota;c\\_\\_Methanomicrobia;o\\_\\_Methanomicrobiales;f\\_\\_Methanocorpusculaceae;g\\_\\_Methanocorpusculum;s\\_\\_R18\\_\\_metabat2\\_low\\_PE\\_056  & /ebio/abt3\\_projects/databases\\_no-backup/GTDB/release89/LLMGP-DB/animalGut-multi-study15//genomes/R18\\_\\_metabat2\\_low\\_PE.056.contigs.fa.gz                                   \\\\\n",
       "\t 183340                                                                                                                                                                                 & R19\\_\\_maxbin2\\_low\\_prob\\_025                                                                                                                                                    & subspecies                                                                                                                                                                             & R19\\_\\_maxbin2\\_low\\_prob.025.contigs                                                                                                                                              & d\\_\\_Archaea;p\\_\\_Halobacterota;c\\_\\_Methanomicrobia;o\\_\\_Methanomicrobiales;f\\_\\_Methanocorpusculaceae;g\\_\\_Methanocorpusculum;s\\_\\_R19\\_\\_maxbin2\\_low\\_prob\\_025 & /ebio/abt3\\_projects/databases\\_no-backup/GTDB/release89/LLMGP-DB/animalGut-multi-study15//genomes/R19\\_\\_maxbin2\\_low\\_prob.025.contigs.fa.gz                                  \\\\\n",
       "\\end{tabular}\n"
      ],
      "text/markdown": [
       "\n",
       "taxID | name | rank | binID | gtdb_taxonomy | fasta_file_path | \n",
       "|---|---|---|\n",
       "| 183036                                                                                                                                           | R04__metabat2_low_PE_034                                                                                                                         | subspecies                                                                                                                                       | R04__metabat2_low_PE.034.contigs                                                                                                                 | d__Archaea;p__Halobacterota;c__Methanomicrobia;o__Methanomicrobiales;f__Methanocorpusculaceae;g__Methanocorpusculum;s__R04__metabat2_low_PE_034  | /ebio/abt3_projects/databases_no-backup/GTDB/release89/LLMGP-DB/animalGut-multi-study15//genomes/R04__metabat2_low_PE.034.contigs.fa.gz          | \n",
       "| 183338                                                                                                                                           | R18__metabat2_low_PE_056                                                                                                                         | subspecies                                                                                                                                       | R18__metabat2_low_PE.056.contigs                                                                                                                 | d__Archaea;p__Halobacterota;c__Methanomicrobia;o__Methanomicrobiales;f__Methanocorpusculaceae;g__Methanocorpusculum;s__R18__metabat2_low_PE_056  | /ebio/abt3_projects/databases_no-backup/GTDB/release89/LLMGP-DB/animalGut-multi-study15//genomes/R18__metabat2_low_PE.056.contigs.fa.gz          | \n",
       "| 183340                                                                                                                                           | R19__maxbin2_low_prob_025                                                                                                                        | subspecies                                                                                                                                       | R19__maxbin2_low_prob.025.contigs                                                                                                                | d__Archaea;p__Halobacterota;c__Methanomicrobia;o__Methanomicrobiales;f__Methanocorpusculaceae;g__Methanocorpusculum;s__R19__maxbin2_low_prob_025 | /ebio/abt3_projects/databases_no-backup/GTDB/release89/LLMGP-DB/animalGut-multi-study15//genomes/R19__maxbin2_low_prob.025.contigs.fa.gz         | \n",
       "\n",
       "\n"
      ],
      "text/plain": [
       "  taxID  name                      rank       binID                            \n",
       "1 183036 R04__metabat2_low_PE_034  subspecies R04__metabat2_low_PE.034.contigs \n",
       "2 183338 R18__metabat2_low_PE_056  subspecies R18__metabat2_low_PE.056.contigs \n",
       "3 183340 R19__maxbin2_low_prob_025 subspecies R19__maxbin2_low_prob.025.contigs\n",
       "  gtdb_taxonomy                                                                                                                                   \n",
       "1 d__Archaea;p__Halobacterota;c__Methanomicrobia;o__Methanomicrobiales;f__Methanocorpusculaceae;g__Methanocorpusculum;s__R04__metabat2_low_PE_034 \n",
       "2 d__Archaea;p__Halobacterota;c__Methanomicrobia;o__Methanomicrobiales;f__Methanocorpusculaceae;g__Methanocorpusculum;s__R18__metabat2_low_PE_056 \n",
       "3 d__Archaea;p__Halobacterota;c__Methanomicrobia;o__Methanomicrobiales;f__Methanocorpusculaceae;g__Methanocorpusculum;s__R19__maxbin2_low_prob_025\n",
       "  fasta_file_path                                                                                                                         \n",
       "1 /ebio/abt3_projects/databases_no-backup/GTDB/release89/LLMGP-DB/animalGut-multi-study15//genomes/R04__metabat2_low_PE.034.contigs.fa.gz \n",
       "2 /ebio/abt3_projects/databases_no-backup/GTDB/release89/LLMGP-DB/animalGut-multi-study15//genomes/R18__metabat2_low_PE.056.contigs.fa.gz \n",
       "3 /ebio/abt3_projects/databases_no-backup/GTDB/release89/LLMGP-DB/animalGut-multi-study15//genomes/R19__maxbin2_low_prob.025.contigs.fa.gz"
      ]
     },
     "metadata": {},
     "output_type": "display_data"
    }
   ],
   "source": [
    "# joining\n",
    "MAG_f_j = gtdbMS15_taxID %>%\n",
    "    filter(rank == 'subspecies') %>%\n",
    "    inner_join(MAG_f, c('name'='ncbi_organism_name')) \n",
    "\n",
    "MAG_f_j %>% dfhead"
   ]
  },
  {
   "cell_type": "code",
   "execution_count": 36,
   "metadata": {
    "ExecuteTime": {
     "end_time": "2019-11-15T16:36:37.959908Z",
     "start_time": "2019-11-15T16:35:41.495Z"
    }
   },
   "outputs": [
    {
     "name": "stdout",
     "output_type": "stream",
     "text": [
      "[1] 1522    4\n"
     ]
    },
    {
     "data": {
      "text/html": [
       "<table>\n",
       "<thead><tr><th scope=col>ncbi_organism_name</th><th scope=col>gtdb_taxid</th><th scope=col>gtdb_taxonomy</th><th scope=col>fasta_file_path</th></tr></thead>\n",
       "<tbody>\n",
       "\t<tr><td>R04__metabat2_low_PE_034                                                                                                                        </td><td>183036                                                                                                                                          </td><td>d__Archaea;p__Halobacterota;c__Methanomicrobia;o__Methanomicrobiales;f__Methanocorpusculaceae;g__Methanocorpusculum;s__R04__metabat2_low_PE_034 </td><td>/ebio/abt3_projects/databases_no-backup/GTDB/release89/LLMGP-DB/animalGut-multi-study15//genomes/R04__metabat2_low_PE.034.contigs.fa.gz         </td></tr>\n",
       "\t<tr><td>R18__metabat2_low_PE_056                                                                                                                        </td><td>183338                                                                                                                                          </td><td>d__Archaea;p__Halobacterota;c__Methanomicrobia;o__Methanomicrobiales;f__Methanocorpusculaceae;g__Methanocorpusculum;s__R18__metabat2_low_PE_056 </td><td>/ebio/abt3_projects/databases_no-backup/GTDB/release89/LLMGP-DB/animalGut-multi-study15//genomes/R18__metabat2_low_PE.056.contigs.fa.gz         </td></tr>\n",
       "\t<tr><td>R19__maxbin2_low_prob_025                                                                                                                       </td><td>183340                                                                                                                                          </td><td>d__Archaea;p__Halobacterota;c__Methanomicrobia;o__Methanomicrobiales;f__Methanocorpusculaceae;g__Methanocorpusculum;s__R19__maxbin2_low_prob_025</td><td>/ebio/abt3_projects/databases_no-backup/GTDB/release89/LLMGP-DB/animalGut-multi-study15//genomes/R19__maxbin2_low_prob.025.contigs.fa.gz        </td></tr>\n",
       "</tbody>\n",
       "</table>\n"
      ],
      "text/latex": [
       "\\begin{tabular}{r|llll}\n",
       " ncbi\\_organism\\_name & gtdb\\_taxid & gtdb\\_taxonomy & fasta\\_file\\_path\\\\\n",
       "\\hline\n",
       "\t R04\\_\\_metabat2\\_low\\_PE\\_034                                                                                                                                                     & 183036                                                                                                                                                                                 & d\\_\\_Archaea;p\\_\\_Halobacterota;c\\_\\_Methanomicrobia;o\\_\\_Methanomicrobiales;f\\_\\_Methanocorpusculaceae;g\\_\\_Methanocorpusculum;s\\_\\_R04\\_\\_metabat2\\_low\\_PE\\_034  & /ebio/abt3\\_projects/databases\\_no-backup/GTDB/release89/LLMGP-DB/animalGut-multi-study15//genomes/R04\\_\\_metabat2\\_low\\_PE.034.contigs.fa.gz                                   \\\\\n",
       "\t R18\\_\\_metabat2\\_low\\_PE\\_056                                                                                                                                                     & 183338                                                                                                                                                                                 & d\\_\\_Archaea;p\\_\\_Halobacterota;c\\_\\_Methanomicrobia;o\\_\\_Methanomicrobiales;f\\_\\_Methanocorpusculaceae;g\\_\\_Methanocorpusculum;s\\_\\_R18\\_\\_metabat2\\_low\\_PE\\_056  & /ebio/abt3\\_projects/databases\\_no-backup/GTDB/release89/LLMGP-DB/animalGut-multi-study15//genomes/R18\\_\\_metabat2\\_low\\_PE.056.contigs.fa.gz                                   \\\\\n",
       "\t R19\\_\\_maxbin2\\_low\\_prob\\_025                                                                                                                                                    & 183340                                                                                                                                                                                 & d\\_\\_Archaea;p\\_\\_Halobacterota;c\\_\\_Methanomicrobia;o\\_\\_Methanomicrobiales;f\\_\\_Methanocorpusculaceae;g\\_\\_Methanocorpusculum;s\\_\\_R19\\_\\_maxbin2\\_low\\_prob\\_025 & /ebio/abt3\\_projects/databases\\_no-backup/GTDB/release89/LLMGP-DB/animalGut-multi-study15//genomes/R19\\_\\_maxbin2\\_low\\_prob.025.contigs.fa.gz                                  \\\\\n",
       "\\end{tabular}\n"
      ],
      "text/markdown": [
       "\n",
       "ncbi_organism_name | gtdb_taxid | gtdb_taxonomy | fasta_file_path | \n",
       "|---|---|---|\n",
       "| R04__metabat2_low_PE_034                                                                                                                         | 183036                                                                                                                                           | d__Archaea;p__Halobacterota;c__Methanomicrobia;o__Methanomicrobiales;f__Methanocorpusculaceae;g__Methanocorpusculum;s__R04__metabat2_low_PE_034  | /ebio/abt3_projects/databases_no-backup/GTDB/release89/LLMGP-DB/animalGut-multi-study15//genomes/R04__metabat2_low_PE.034.contigs.fa.gz          | \n",
       "| R18__metabat2_low_PE_056                                                                                                                         | 183338                                                                                                                                           | d__Archaea;p__Halobacterota;c__Methanomicrobia;o__Methanomicrobiales;f__Methanocorpusculaceae;g__Methanocorpusculum;s__R18__metabat2_low_PE_056  | /ebio/abt3_projects/databases_no-backup/GTDB/release89/LLMGP-DB/animalGut-multi-study15//genomes/R18__metabat2_low_PE.056.contigs.fa.gz          | \n",
       "| R19__maxbin2_low_prob_025                                                                                                                        | 183340                                                                                                                                           | d__Archaea;p__Halobacterota;c__Methanomicrobia;o__Methanomicrobiales;f__Methanocorpusculaceae;g__Methanocorpusculum;s__R19__maxbin2_low_prob_025 | /ebio/abt3_projects/databases_no-backup/GTDB/release89/LLMGP-DB/animalGut-multi-study15//genomes/R19__maxbin2_low_prob.025.contigs.fa.gz         | \n",
       "\n",
       "\n"
      ],
      "text/plain": [
       "  ncbi_organism_name        gtdb_taxid\n",
       "1 R04__metabat2_low_PE_034  183036    \n",
       "2 R18__metabat2_low_PE_056  183338    \n",
       "3 R19__maxbin2_low_prob_025 183340    \n",
       "  gtdb_taxonomy                                                                                                                                   \n",
       "1 d__Archaea;p__Halobacterota;c__Methanomicrobia;o__Methanomicrobiales;f__Methanocorpusculaceae;g__Methanocorpusculum;s__R04__metabat2_low_PE_034 \n",
       "2 d__Archaea;p__Halobacterota;c__Methanomicrobia;o__Methanomicrobiales;f__Methanocorpusculaceae;g__Methanocorpusculum;s__R18__metabat2_low_PE_056 \n",
       "3 d__Archaea;p__Halobacterota;c__Methanomicrobia;o__Methanomicrobiales;f__Methanocorpusculaceae;g__Methanocorpusculum;s__R19__maxbin2_low_prob_025\n",
       "  fasta_file_path                                                                                                                         \n",
       "1 /ebio/abt3_projects/databases_no-backup/GTDB/release89/LLMGP-DB/animalGut-multi-study15//genomes/R04__metabat2_low_PE.034.contigs.fa.gz \n",
       "2 /ebio/abt3_projects/databases_no-backup/GTDB/release89/LLMGP-DB/animalGut-multi-study15//genomes/R18__metabat2_low_PE.056.contigs.fa.gz \n",
       "3 /ebio/abt3_projects/databases_no-backup/GTDB/release89/LLMGP-DB/animalGut-multi-study15//genomes/R19__maxbin2_low_prob.025.contigs.fa.gz"
      ]
     },
     "metadata": {},
     "output_type": "display_data"
    }
   ],
   "source": [
    "# formatting\n",
    "MAG_f_j = MAG_f_j %>%\n",
    "    rename('ncbi_organism_name' = name,\n",
    "           'gtdb_taxid' = taxID) %>%\n",
    "    dplyr::select(ncbi_organism_name, gtdb_taxid, gtdb_taxonomy, fasta_file_path) \n",
    "\n",
    "MAG_f_j %>% dfhead"
   ]
  },
  {
   "cell_type": "markdown",
   "metadata": {},
   "source": [
    "## Merging\n",
    "\n",
    "Columns required:\n",
    "* 'ncbi_organism_name'\n",
    "* 'fasta_file_path'\n",
    "* 'gtdb_taxid'\n",
    "* 'gtdb_taxonomy'"
   ]
  },
  {
   "cell_type": "code",
   "execution_count": 37,
   "metadata": {
    "ExecuteTime": {
     "end_time": "2019-11-15T16:36:38.008166Z",
     "start_time": "2019-11-15T16:35:48.486Z"
    }
   },
   "outputs": [
    {
     "name": "stdout",
     "output_type": "stream",
     "text": [
      "[1] 23360     4\n"
     ]
    },
    {
     "data": {
      "text/html": [
       "<table>\n",
       "<thead><tr><th scope=col>ncbi_organism_name</th><th scope=col>gtdb_taxid</th><th scope=col>gtdb_taxonomy</th><th scope=col>fasta_file_path</th></tr></thead>\n",
       "<tbody>\n",
       "\t<tr><td>GB_GCA_002789635.1_Candidatus Aenigmarchaeota archaeon CG_4_9_14_3_um_filter_37_18                                                                </td><td> 599                                                                                                                                              </td><td>d__Archaea;p__Aenigmarchaeota;c__Aenigmarchaeia;o__CG10238-14;f__CG10238-14;g__CG10238-14;s__CG10238-14 sp002789635                               </td><td>/ebio/abt3_projects/databases_no-backup/GTDB/release89/LLMGP-DB/genomes/genbank/archaea/GCA_002789635.1/GCA_002789635.1_ASM278963v1_genomic.fna.gz</td></tr>\n",
       "\t<tr><td>GB_GCA_001784635.1_Candidatus Micrarchaeota archaeon RBG_16_49_10                                                                                 </td><td>3320                                                                                                                                              </td><td>d__Archaea;p__Aenigmarchaeota;c__Aenigmarchaeia;o__CG10238-14;f__CG10238-14;g__RBG-16-49-10;s__RBG-16-49-10 sp001784635                           </td><td>/ebio/abt3_projects/databases_no-backup/GTDB/release89/LLMGP-DB/genomes/genbank/archaea/GCA_001784635.1/GCA_001784635.1_ASM178463v1_genomic.fna.gz</td></tr>\n",
       "\t<tr><td>GB_GCA_002254545.1_Candidatus Aenigmarchaeota archaeon ex4484_224                                                                                 </td><td>4414                                                                                                                                              </td><td>d__Archaea;p__Aenigmarchaeota;c__Aenigmarchaeia;o__CG10238-14;f__EX4484-224;g__EX4484-224;s__EX4484-224 sp002254545                               </td><td>/ebio/abt3_projects/databases_no-backup/GTDB/release89/LLMGP-DB/genomes/genbank/archaea/GCA_002254545.1/GCA_002254545.1_ASM225454v1_genomic.fna.gz</td></tr>\n",
       "</tbody>\n",
       "</table>\n"
      ],
      "text/latex": [
       "\\begin{tabular}{r|llll}\n",
       " ncbi\\_organism\\_name & gtdb\\_taxid & gtdb\\_taxonomy & fasta\\_file\\_path\\\\\n",
       "\\hline\n",
       "\t GB\\_GCA\\_002789635.1\\_Candidatus Aenigmarchaeota archaeon CG\\_4\\_9\\_14\\_3\\_um\\_filter\\_37\\_18                                                       &  599                                                                                                                                                           & d\\_\\_Archaea;p\\_\\_Aenigmarchaeota;c\\_\\_Aenigmarchaeia;o\\_\\_CG10238-14;f\\_\\_CG10238-14;g\\_\\_CG10238-14;s\\_\\_CG10238-14 sp002789635                & /ebio/abt3\\_projects/databases\\_no-backup/GTDB/release89/LLMGP-DB/genomes/genbank/archaea/GCA\\_002789635.1/GCA\\_002789635.1\\_ASM278963v1\\_genomic.fna.gz\\\\\n",
       "\t GB\\_GCA\\_001784635.1\\_Candidatus Micrarchaeota archaeon RBG\\_16\\_49\\_10                                                                                  & 3320                                                                                                                                                           & d\\_\\_Archaea;p\\_\\_Aenigmarchaeota;c\\_\\_Aenigmarchaeia;o\\_\\_CG10238-14;f\\_\\_CG10238-14;g\\_\\_RBG-16-49-10;s\\_\\_RBG-16-49-10 sp001784635            & /ebio/abt3\\_projects/databases\\_no-backup/GTDB/release89/LLMGP-DB/genomes/genbank/archaea/GCA\\_001784635.1/GCA\\_001784635.1\\_ASM178463v1\\_genomic.fna.gz\\\\\n",
       "\t GB\\_GCA\\_002254545.1\\_Candidatus Aenigmarchaeota archaeon ex4484\\_224                                                                                      & 4414                                                                                                                                                           & d\\_\\_Archaea;p\\_\\_Aenigmarchaeota;c\\_\\_Aenigmarchaeia;o\\_\\_CG10238-14;f\\_\\_EX4484-224;g\\_\\_EX4484-224;s\\_\\_EX4484-224 sp002254545                & /ebio/abt3\\_projects/databases\\_no-backup/GTDB/release89/LLMGP-DB/genomes/genbank/archaea/GCA\\_002254545.1/GCA\\_002254545.1\\_ASM225454v1\\_genomic.fna.gz\\\\\n",
       "\\end{tabular}\n"
      ],
      "text/markdown": [
       "\n",
       "ncbi_organism_name | gtdb_taxid | gtdb_taxonomy | fasta_file_path | \n",
       "|---|---|---|\n",
       "| GB_GCA_002789635.1_Candidatus Aenigmarchaeota archaeon CG_4_9_14_3_um_filter_37_18                                                                 |  599                                                                                                                                               | d__Archaea;p__Aenigmarchaeota;c__Aenigmarchaeia;o__CG10238-14;f__CG10238-14;g__CG10238-14;s__CG10238-14 sp002789635                                | /ebio/abt3_projects/databases_no-backup/GTDB/release89/LLMGP-DB/genomes/genbank/archaea/GCA_002789635.1/GCA_002789635.1_ASM278963v1_genomic.fna.gz | \n",
       "| GB_GCA_001784635.1_Candidatus Micrarchaeota archaeon RBG_16_49_10                                                                                  | 3320                                                                                                                                               | d__Archaea;p__Aenigmarchaeota;c__Aenigmarchaeia;o__CG10238-14;f__CG10238-14;g__RBG-16-49-10;s__RBG-16-49-10 sp001784635                            | /ebio/abt3_projects/databases_no-backup/GTDB/release89/LLMGP-DB/genomes/genbank/archaea/GCA_001784635.1/GCA_001784635.1_ASM178463v1_genomic.fna.gz | \n",
       "| GB_GCA_002254545.1_Candidatus Aenigmarchaeota archaeon ex4484_224                                                                                  | 4414                                                                                                                                               | d__Archaea;p__Aenigmarchaeota;c__Aenigmarchaeia;o__CG10238-14;f__EX4484-224;g__EX4484-224;s__EX4484-224 sp002254545                                | /ebio/abt3_projects/databases_no-backup/GTDB/release89/LLMGP-DB/genomes/genbank/archaea/GCA_002254545.1/GCA_002254545.1_ASM225454v1_genomic.fna.gz | \n",
       "\n",
       "\n"
      ],
      "text/plain": [
       "  ncbi_organism_name                                                                \n",
       "1 GB_GCA_002789635.1_Candidatus Aenigmarchaeota archaeon CG_4_9_14_3_um_filter_37_18\n",
       "2 GB_GCA_001784635.1_Candidatus Micrarchaeota archaeon RBG_16_49_10                 \n",
       "3 GB_GCA_002254545.1_Candidatus Aenigmarchaeota archaeon ex4484_224                 \n",
       "  gtdb_taxid\n",
       "1  599      \n",
       "2 3320      \n",
       "3 4414      \n",
       "  gtdb_taxonomy                                                                                                          \n",
       "1 d__Archaea;p__Aenigmarchaeota;c__Aenigmarchaeia;o__CG10238-14;f__CG10238-14;g__CG10238-14;s__CG10238-14 sp002789635    \n",
       "2 d__Archaea;p__Aenigmarchaeota;c__Aenigmarchaeia;o__CG10238-14;f__CG10238-14;g__RBG-16-49-10;s__RBG-16-49-10 sp001784635\n",
       "3 d__Archaea;p__Aenigmarchaeota;c__Aenigmarchaeia;o__CG10238-14;f__EX4484-224;g__EX4484-224;s__EX4484-224 sp002254545    \n",
       "  fasta_file_path                                                                                                                                   \n",
       "1 /ebio/abt3_projects/databases_no-backup/GTDB/release89/LLMGP-DB/genomes/genbank/archaea/GCA_002789635.1/GCA_002789635.1_ASM278963v1_genomic.fna.gz\n",
       "2 /ebio/abt3_projects/databases_no-backup/GTDB/release89/LLMGP-DB/genomes/genbank/archaea/GCA_001784635.1/GCA_001784635.1_ASM178463v1_genomic.fna.gz\n",
       "3 /ebio/abt3_projects/databases_no-backup/GTDB/release89/LLMGP-DB/genomes/genbank/archaea/GCA_002254545.1/GCA_002254545.1_ASM225454v1_genomic.fna.gz"
      ]
     },
     "metadata": {},
     "output_type": "display_data"
    }
   ],
   "source": [
    "# GTDBr89 (formatted)\n",
    "custom_db_f = custom_db %>%\n",
    "      dplyr::select(ncbi_organism_name, gtdb_taxid, gtdb_taxonomy, fasta_file_path)\n",
    "      \n",
    "custom_db_f %>% dfhead"
   ]
  },
  {
   "cell_type": "code",
   "execution_count": 38,
   "metadata": {
    "ExecuteTime": {
     "end_time": "2019-11-15T16:36:38.066816Z",
     "start_time": "2019-11-15T16:35:48.653Z"
    }
   },
   "outputs": [
    {
     "name": "stdout",
     "output_type": "stream",
     "text": [
      "[1] 24882     5\n"
     ]
    },
    {
     "data": {
      "text/html": [
       "<table>\n",
       "<thead><tr><th scope=col>ncbi_organism_name</th><th scope=col>gtdb_taxid</th><th scope=col>gtdb_taxonomy</th><th scope=col>fasta_file_path</th><th scope=col>dataset</th></tr></thead>\n",
       "<tbody>\n",
       "\t<tr><td>R04__metabat2_low_PE_034                                                                                                                        </td><td>183036                                                                                                                                          </td><td>d__Archaea;p__Halobacterota;c__Methanomicrobia;o__Methanomicrobiales;f__Methanocorpusculaceae;g__Methanocorpusculum;s__R04__metabat2_low_PE_034 </td><td>/ebio/abt3_projects/databases_no-backup/GTDB/release89/LLMGP-DB/animalGut-multi-study15//genomes/R04__metabat2_low_PE.034.contigs.fa.gz         </td><td>animalGut-multi-study15                                                                                                                         </td></tr>\n",
       "\t<tr><td>R18__metabat2_low_PE_056                                                                                                                        </td><td>183338                                                                                                                                          </td><td>d__Archaea;p__Halobacterota;c__Methanomicrobia;o__Methanomicrobiales;f__Methanocorpusculaceae;g__Methanocorpusculum;s__R18__metabat2_low_PE_056 </td><td>/ebio/abt3_projects/databases_no-backup/GTDB/release89/LLMGP-DB/animalGut-multi-study15//genomes/R18__metabat2_low_PE.056.contigs.fa.gz         </td><td>animalGut-multi-study15                                                                                                                         </td></tr>\n",
       "\t<tr><td>R19__maxbin2_low_prob_025                                                                                                                       </td><td>183340                                                                                                                                          </td><td>d__Archaea;p__Halobacterota;c__Methanomicrobia;o__Methanomicrobiales;f__Methanocorpusculaceae;g__Methanocorpusculum;s__R19__maxbin2_low_prob_025</td><td>/ebio/abt3_projects/databases_no-backup/GTDB/release89/LLMGP-DB/animalGut-multi-study15//genomes/R19__maxbin2_low_prob.025.contigs.fa.gz        </td><td>animalGut-multi-study15                                                                                                                         </td></tr>\n",
       "</tbody>\n",
       "</table>\n"
      ],
      "text/latex": [
       "\\begin{tabular}{r|lllll}\n",
       " ncbi\\_organism\\_name & gtdb\\_taxid & gtdb\\_taxonomy & fasta\\_file\\_path & dataset\\\\\n",
       "\\hline\n",
       "\t R04\\_\\_metabat2\\_low\\_PE\\_034                                                                                                                                                     & 183036                                                                                                                                                                                 & d\\_\\_Archaea;p\\_\\_Halobacterota;c\\_\\_Methanomicrobia;o\\_\\_Methanomicrobiales;f\\_\\_Methanocorpusculaceae;g\\_\\_Methanocorpusculum;s\\_\\_R04\\_\\_metabat2\\_low\\_PE\\_034  & /ebio/abt3\\_projects/databases\\_no-backup/GTDB/release89/LLMGP-DB/animalGut-multi-study15//genomes/R04\\_\\_metabat2\\_low\\_PE.034.contigs.fa.gz                                    & animalGut-multi-study15                                                                                                                                                               \\\\\n",
       "\t R18\\_\\_metabat2\\_low\\_PE\\_056                                                                                                                                                     & 183338                                                                                                                                                                                 & d\\_\\_Archaea;p\\_\\_Halobacterota;c\\_\\_Methanomicrobia;o\\_\\_Methanomicrobiales;f\\_\\_Methanocorpusculaceae;g\\_\\_Methanocorpusculum;s\\_\\_R18\\_\\_metabat2\\_low\\_PE\\_056  & /ebio/abt3\\_projects/databases\\_no-backup/GTDB/release89/LLMGP-DB/animalGut-multi-study15//genomes/R18\\_\\_metabat2\\_low\\_PE.056.contigs.fa.gz                                    & animalGut-multi-study15                                                                                                                                                               \\\\\n",
       "\t R19\\_\\_maxbin2\\_low\\_prob\\_025                                                                                                                                                    & 183340                                                                                                                                                                                 & d\\_\\_Archaea;p\\_\\_Halobacterota;c\\_\\_Methanomicrobia;o\\_\\_Methanomicrobiales;f\\_\\_Methanocorpusculaceae;g\\_\\_Methanocorpusculum;s\\_\\_R19\\_\\_maxbin2\\_low\\_prob\\_025 & /ebio/abt3\\_projects/databases\\_no-backup/GTDB/release89/LLMGP-DB/animalGut-multi-study15//genomes/R19\\_\\_maxbin2\\_low\\_prob.025.contigs.fa.gz                                   & animalGut-multi-study15                                                                                                                                                               \\\\\n",
       "\\end{tabular}\n"
      ],
      "text/markdown": [
       "\n",
       "ncbi_organism_name | gtdb_taxid | gtdb_taxonomy | fasta_file_path | dataset | \n",
       "|---|---|---|\n",
       "| R04__metabat2_low_PE_034                                                                                                                         | 183036                                                                                                                                           | d__Archaea;p__Halobacterota;c__Methanomicrobia;o__Methanomicrobiales;f__Methanocorpusculaceae;g__Methanocorpusculum;s__R04__metabat2_low_PE_034  | /ebio/abt3_projects/databases_no-backup/GTDB/release89/LLMGP-DB/animalGut-multi-study15//genomes/R04__metabat2_low_PE.034.contigs.fa.gz          | animalGut-multi-study15                                                                                                                          | \n",
       "| R18__metabat2_low_PE_056                                                                                                                         | 183338                                                                                                                                           | d__Archaea;p__Halobacterota;c__Methanomicrobia;o__Methanomicrobiales;f__Methanocorpusculaceae;g__Methanocorpusculum;s__R18__metabat2_low_PE_056  | /ebio/abt3_projects/databases_no-backup/GTDB/release89/LLMGP-DB/animalGut-multi-study15//genomes/R18__metabat2_low_PE.056.contigs.fa.gz          | animalGut-multi-study15                                                                                                                          | \n",
       "| R19__maxbin2_low_prob_025                                                                                                                        | 183340                                                                                                                                           | d__Archaea;p__Halobacterota;c__Methanomicrobia;o__Methanomicrobiales;f__Methanocorpusculaceae;g__Methanocorpusculum;s__R19__maxbin2_low_prob_025 | /ebio/abt3_projects/databases_no-backup/GTDB/release89/LLMGP-DB/animalGut-multi-study15//genomes/R19__maxbin2_low_prob.025.contigs.fa.gz         | animalGut-multi-study15                                                                                                                          | \n",
       "\n",
       "\n"
      ],
      "text/plain": [
       "  ncbi_organism_name        gtdb_taxid\n",
       "1 R04__metabat2_low_PE_034  183036    \n",
       "2 R18__metabat2_low_PE_056  183338    \n",
       "3 R19__maxbin2_low_prob_025 183340    \n",
       "  gtdb_taxonomy                                                                                                                                   \n",
       "1 d__Archaea;p__Halobacterota;c__Methanomicrobia;o__Methanomicrobiales;f__Methanocorpusculaceae;g__Methanocorpusculum;s__R04__metabat2_low_PE_034 \n",
       "2 d__Archaea;p__Halobacterota;c__Methanomicrobia;o__Methanomicrobiales;f__Methanocorpusculaceae;g__Methanocorpusculum;s__R18__metabat2_low_PE_056 \n",
       "3 d__Archaea;p__Halobacterota;c__Methanomicrobia;o__Methanomicrobiales;f__Methanocorpusculaceae;g__Methanocorpusculum;s__R19__maxbin2_low_prob_025\n",
       "  fasta_file_path                                                                                                                         \n",
       "1 /ebio/abt3_projects/databases_no-backup/GTDB/release89/LLMGP-DB/animalGut-multi-study15//genomes/R04__metabat2_low_PE.034.contigs.fa.gz \n",
       "2 /ebio/abt3_projects/databases_no-backup/GTDB/release89/LLMGP-DB/animalGut-multi-study15//genomes/R18__metabat2_low_PE.056.contigs.fa.gz \n",
       "3 /ebio/abt3_projects/databases_no-backup/GTDB/release89/LLMGP-DB/animalGut-multi-study15//genomes/R19__maxbin2_low_prob.025.contigs.fa.gz\n",
       "  dataset                \n",
       "1 animalGut-multi-study15\n",
       "2 animalGut-multi-study15\n",
       "3 animalGut-multi-study15"
      ]
     },
     "metadata": {},
     "output_type": "display_data"
    }
   ],
   "source": [
    "# all genomes combined\n",
    "all_genomes = rbind(MAG_f_j %>% mutate(dataset = 'animalGut-multi-study15'),\n",
    "                    custom_db_f %>% mutate(dataset = 'GTDBr89'))\n",
    "\n",
    "all_genomes %>% dfhead"
   ]
  },
  {
   "cell_type": "code",
   "execution_count": null,
   "metadata": {
    "ExecuteTime": {
     "end_time": "2019-11-09T14:21:20.298632Z",
     "start_time": "2019-11-09T14:21:20.139Z"
    }
   },
   "outputs": [],
   "source": [
    "# writing\n",
    "out_file = file.path(work_dir, 'GTDBr89-animalGut-multi-study15.tsv')\n",
    "all_genomes %>%\n",
    "    write.table(file=out_file, sep='\\t', quote=FALSE, row.names=FALSE)\n",
    "cat('File written:', out_file, '\\n')"
   ]
  },
  {
   "cell_type": "markdown",
   "metadata": {},
   "source": [
    "# Struo\n",
    "\n",
    "* creating the custom database\n",
    "* Struo = \"llmgp-db\""
   ]
  },
  {
   "cell_type": "markdown",
   "metadata": {},
   "source": [
    "## config"
   ]
  },
  {
   "cell_type": "code",
   "execution_count": 39,
   "metadata": {
    "ExecuteTime": {
     "end_time": "2019-11-15T16:36:38.183520Z",
     "start_time": "2019-11-15T16:36:01.101Z"
    }
   },
   "outputs": [
    {
     "name": "stdout",
     "output_type": "stream",
     "text": [
      "#-- I/O --#\n",
      "# file listing samples and associated data\n",
      "samples_file: /ebio/abt3_projects/databases_no-backup/GTDB/release89/LLMGP-DB/animalGut-multi-study15//GTDBr89-animalGut-multi-study15.tsv\n",
      "\n",
      "## column names in samples table\n",
      "samples_col: 'ncbi_organism_name'\n",
      "fasta_file_path_col: 'fasta_file_path'\n",
      "taxID_col: 'gtdb_taxid'\n",
      "taxonomy_col: 'gtdb_taxonomy'\n",
      "\n",
      "# output location\n",
      "output_dir: /ebio/abt3_projects/databases_no-backup/GTDB/release89/LLMGP-DB/\n",
      "\n",
      "#-- databases to create --#\n",
      "# Replace \"Create\" with \"Skip\" to skip creation of any of these\n",
      "# Note that braken relies on the kraken2 database\n",
      "databases:\n",
      "  kraken2: Create\n",
      "  bracken: Create\n",
      "  humann2_bowtie2: Create\n",
      "  humann2_diamond: Create\n",
      "\n",
      "# output database name\n",
      "db_name: 'GTDBr89-AgMs15'\n",
      "\n",
      "#-- keep intermediate files required for re-creating DBs (eg., w/ more genomes) --#\n",
      "# If \"True\", the intermediate files are saved to `output_dir`\n",
      "# Else, the intermediate files are temporarily stored in `temp_folder`\n",
      "keep_intermediate: True\n",
      "use_ancient: True\n",
      "\n",
      "#-- if custom NCBI taxdump files (or just Skip) --#\n",
      "names_dmp: /ebio/abt3_projects/databases_no-backup/GTDB/release89/LLMGP-DB/animalGut-multi-study15/taxdump/names.dmp\n",
      "nodes_dmp: /ebio/abt3_projects/databases_no-backup/GTDB/release89/LLMGP-DB/animalGut-multi-study15/taxdump/nodes.dmp\n",
      "\n",
      "#-- software parameters --#\n",
      "# `vsearch_per_genome` = per-genome gene clustering\n",
      "# `vsearch_all` = all genes clustered (including `humann2_nuc_seqs` & `humann2_prot_seqs`)\n",
      "params:\n",
      "  bracken_build_kmer: 35\n",
      "  bracken_build_read_lens:\n",
      "    - 100\n",
      "    - 150\n",
      "  prodigal: \"\"\n",
      "  diamond_db: /ebio/abt3_projects/databases_no-backup/humann2/uniref50/uniref50_annotated.1.1.dmnd\n",
      "  diamond_db_to_mem: True\n",
      "  diamond: --evalue 1e-3 --sensitive --max-target-seqs 20 --block-size 3 --index-chunks 2\n",
      "  vsearch_per_genome: --id 0.97 --strand both --qmask none --fasta_width 0\n",
      "  vsearch_all: Skip #--id 1.0 --strand both --qmask none --fasta_width 0\n",
      "\n",
      "#-- If adding genes to humann2 database --#\n",
      "# If you have nucleotid and/or protein gene sequences formatted for humann2,\n",
      "# provide the file paths to the fasta files below (gzip'ed)\n",
      "humann2_nuc_seqs: Skip\n",
      "humann2_prot_seqs: Skip\n",
      "\n",
      "#-- snakemake pipeline --#\n",
      "pipeline:\n",
      "  snakemake_folder: ./\n",
      "  script_folder: ./bin/scripts/\n",
      "  temp_folder: /tmp/global/     # your username will be added automatically to this path"
     ]
    }
   ],
   "source": [
    "config_file = '/ebio/abt3_projects/databases_no-backup/GTDB/release89/LLMGP-DB/animalGut-multi-study15/config.yaml'\n",
    "cat_file(config_file)"
   ]
  },
  {
   "cell_type": "markdown",
   "metadata": {},
   "source": [
    "## Run"
   ]
  },
  {
   "cell_type": "markdown",
   "metadata": {},
   "source": [
    "```\n",
    "(snakemake_dev) @ rick:/ebio/abt3_projects/databases_no-backup/bin/llmgp-db\n",
    "screen -L -S struo-GTDBr89-AgMs15 ./snakemake_sge.sh /ebio/abt3_projects/databases_no-backup/GTDB/release89/LLMGP-DB/animalGut-multi-study15/config.yaml cluster.json /ebio/abt3_projects/databases_no-backup/GTDB/release89/LLMGP-DB/animalGut-multi-study15/SGE_log/ 200\n",
    "```"
   ]
  },
  {
   "cell_type": "markdown",
   "metadata": {},
   "source": [
    "# Summary"
   ]
  },
  {
   "cell_type": "code",
   "execution_count": 40,
   "metadata": {
    "ExecuteTime": {
     "end_time": "2019-11-22T15:04:38.243277Z",
     "start_time": "2019-11-22T15:04:37.964Z"
    }
   },
   "outputs": [
    {
     "data": {
      "text/html": [
       "<table>\n",
       "<thead><tr><th></th><th scope=col>size</th><th scope=col>isdir</th><th scope=col>mode</th><th scope=col>mtime</th><th scope=col>ctime</th><th scope=col>atime</th><th scope=col>uid</th><th scope=col>gid</th><th scope=col>uname</th><th scope=col>grname</th></tr></thead>\n",
       "<tbody>\n",
       "\t<tr><th scope=row>/ebio/abt3_projects/databases_no-backup/GTDB/release89/LLMGP-DB/kraken2/GTDBr89-AgMs15//added</th><td>     1712128       </td><td> TRUE              </td><td>2755               </td><td>2019-11-17 03:33:52</td><td>2019-11-17 03:33:52</td><td>2019-11-15 18:44:17</td><td>6354               </td><td>353                </td><td>nyoungblut         </td><td>abt3               </td></tr>\n",
       "\t<tr><th scope=row>/ebio/abt3_projects/databases_no-backup/GTDB/release89/LLMGP-DB/kraken2/GTDBr89-AgMs15//database.kraken</th><td> 31136377805       </td><td>FALSE              </td><td>0644               </td><td>2019-11-17 06:59:03</td><td>2019-11-17 06:59:03</td><td>2019-11-17 06:28:55</td><td>6354               </td><td>353                </td><td>nyoungblut         </td><td>abt3               </td></tr>\n",
       "\t<tr><th scope=row>/ebio/abt3_projects/databases_no-backup/GTDB/release89/LLMGP-DB/kraken2/GTDBr89-AgMs15//database100mers.kmer_distrib</th><td>     1568369       </td><td>FALSE              </td><td>0644               </td><td>2019-11-17 07:08:53</td><td>2019-11-17 07:08:53</td><td>2019-11-17 07:08:53</td><td>6354               </td><td>353                </td><td>nyoungblut         </td><td>abt3               </td></tr>\n",
       "\t<tr><th scope=row>/ebio/abt3_projects/databases_no-backup/GTDB/release89/LLMGP-DB/kraken2/GTDBr89-AgMs15//database100mers.kraken</th><td>    79016647       </td><td>FALSE              </td><td>0644               </td><td>2019-11-17 07:08:53</td><td>2019-11-17 07:08:53</td><td>2019-11-17 07:08:53</td><td>6354               </td><td>353                </td><td>nyoungblut         </td><td>abt3               </td></tr>\n",
       "\t<tr><th scope=row>/ebio/abt3_projects/databases_no-backup/GTDB/release89/LLMGP-DB/kraken2/GTDBr89-AgMs15//database150mers.kmer_distrib</th><td>     3490903       </td><td>FALSE              </td><td>0644               </td><td>2019-11-17 07:59:17</td><td>2019-11-17 07:59:17</td><td>2019-11-17 07:59:17</td><td>6354               </td><td>353                </td><td>nyoungblut         </td><td>abt3               </td></tr>\n",
       "\t<tr><th scope=row>/ebio/abt3_projects/databases_no-backup/GTDB/release89/LLMGP-DB/kraken2/GTDBr89-AgMs15//database150mers.kraken</th><td>   187160480       </td><td>FALSE              </td><td>0644               </td><td>2019-11-17 07:59:17</td><td>2019-11-17 07:59:17</td><td>2019-11-17 07:59:17</td><td>6354               </td><td>353                </td><td>nyoungblut         </td><td>abt3               </td></tr>\n",
       "\t<tr><th scope=row>/ebio/abt3_projects/databases_no-backup/GTDB/release89/LLMGP-DB/kraken2/GTDBr89-AgMs15//hash.k2d</th><td>133367417448       </td><td>FALSE              </td><td>0644               </td><td>2019-11-17 06:26:34</td><td>2019-11-17 06:26:34</td><td>2019-11-17 06:26:34</td><td>6354               </td><td>353                </td><td>nyoungblut         </td><td>abt3               </td></tr>\n",
       "\t<tr><th scope=row>/ebio/abt3_projects/databases_no-backup/GTDB/release89/LLMGP-DB/kraken2/GTDBr89-AgMs15//library</th><td>          27       </td><td> TRUE              </td><td>2755               </td><td>2019-11-15 18:44:19</td><td>2019-11-15 18:44:19</td><td>2019-11-15 18:44:19</td><td>6354               </td><td>353                </td><td>nyoungblut         </td><td>abt3               </td></tr>\n",
       "\t<tr><th scope=row>/ebio/abt3_projects/databases_no-backup/GTDB/release89/LLMGP-DB/kraken2/GTDBr89-AgMs15//opts.k2d</th><td>          56       </td><td>FALSE              </td><td>0644               </td><td>2019-11-17 06:26:34</td><td>2019-11-17 06:26:34</td><td>2019-11-17 06:26:34</td><td>6354               </td><td>353                </td><td>nyoungblut         </td><td>abt3               </td></tr>\n",
       "\t<tr><th scope=row>/ebio/abt3_projects/databases_no-backup/GTDB/release89/LLMGP-DB/kraken2/GTDBr89-AgMs15//seqid2taxid.map</th><td>   106983895       </td><td>FALSE              </td><td>0644               </td><td>2019-11-17 06:26:34</td><td>2019-11-17 06:26:34</td><td>2019-11-17 06:26:34</td><td>6354               </td><td>353                </td><td>nyoungblut         </td><td>abt3               </td></tr>\n",
       "\t<tr><th scope=row>/ebio/abt3_projects/databases_no-backup/GTDB/release89/LLMGP-DB/kraken2/GTDBr89-AgMs15//taxo.k2d</th><td>     4733624       </td><td>FALSE              </td><td>0644               </td><td>2019-11-17 06:26:34</td><td>2019-11-17 06:26:34</td><td>2019-11-17 06:26:34</td><td>6354               </td><td>353                </td><td>nyoungblut         </td><td>abt3               </td></tr>\n",
       "\t<tr><th scope=row>/ebio/abt3_projects/databases_no-backup/GTDB/release89/LLMGP-DB/kraken2/GTDBr89-AgMs15//taxonomy</th><td>          78       </td><td> TRUE              </td><td>2755               </td><td>2019-11-17 03:34:58</td><td>2019-11-17 03:34:58</td><td>2019-11-15 18:42:42</td><td>6354               </td><td>353                </td><td>nyoungblut         </td><td>abt3               </td></tr>\n",
       "</tbody>\n",
       "</table>\n"
      ],
      "text/latex": [
       "\\begin{tabular}{r|llllllllll}\n",
       "  & size & isdir & mode & mtime & ctime & atime & uid & gid & uname & grname\\\\\n",
       "\\hline\n",
       "\t/ebio/abt3\\_projects/databases\\_no-backup/GTDB/release89/LLMGP-DB/kraken2/GTDBr89-AgMs15//added &      1712128        &  TRUE               & 2755                & 2019-11-17 03:33:52 & 2019-11-17 03:33:52 & 2019-11-15 18:44:17 & 6354                & 353                 & nyoungblut          & abt3               \\\\\n",
       "\t/ebio/abt3\\_projects/databases\\_no-backup/GTDB/release89/LLMGP-DB/kraken2/GTDBr89-AgMs15//database.kraken &  31136377805        & FALSE               & 0644                & 2019-11-17 06:59:03 & 2019-11-17 06:59:03 & 2019-11-17 06:28:55 & 6354                & 353                 & nyoungblut          & abt3               \\\\\n",
       "\t/ebio/abt3\\_projects/databases\\_no-backup/GTDB/release89/LLMGP-DB/kraken2/GTDBr89-AgMs15//database100mers.kmer\\_distrib &      1568369        & FALSE               & 0644                & 2019-11-17 07:08:53 & 2019-11-17 07:08:53 & 2019-11-17 07:08:53 & 6354                & 353                 & nyoungblut          & abt3               \\\\\n",
       "\t/ebio/abt3\\_projects/databases\\_no-backup/GTDB/release89/LLMGP-DB/kraken2/GTDBr89-AgMs15//database100mers.kraken &     79016647        & FALSE               & 0644                & 2019-11-17 07:08:53 & 2019-11-17 07:08:53 & 2019-11-17 07:08:53 & 6354                & 353                 & nyoungblut          & abt3               \\\\\n",
       "\t/ebio/abt3\\_projects/databases\\_no-backup/GTDB/release89/LLMGP-DB/kraken2/GTDBr89-AgMs15//database150mers.kmer\\_distrib &      3490903        & FALSE               & 0644                & 2019-11-17 07:59:17 & 2019-11-17 07:59:17 & 2019-11-17 07:59:17 & 6354                & 353                 & nyoungblut          & abt3               \\\\\n",
       "\t/ebio/abt3\\_projects/databases\\_no-backup/GTDB/release89/LLMGP-DB/kraken2/GTDBr89-AgMs15//database150mers.kraken &    187160480        & FALSE               & 0644                & 2019-11-17 07:59:17 & 2019-11-17 07:59:17 & 2019-11-17 07:59:17 & 6354                & 353                 & nyoungblut          & abt3               \\\\\n",
       "\t/ebio/abt3\\_projects/databases\\_no-backup/GTDB/release89/LLMGP-DB/kraken2/GTDBr89-AgMs15//hash.k2d & 133367417448        & FALSE               & 0644                & 2019-11-17 06:26:34 & 2019-11-17 06:26:34 & 2019-11-17 06:26:34 & 6354                & 353                 & nyoungblut          & abt3               \\\\\n",
       "\t/ebio/abt3\\_projects/databases\\_no-backup/GTDB/release89/LLMGP-DB/kraken2/GTDBr89-AgMs15//library &           27        &  TRUE               & 2755                & 2019-11-15 18:44:19 & 2019-11-15 18:44:19 & 2019-11-15 18:44:19 & 6354                & 353                 & nyoungblut          & abt3               \\\\\n",
       "\t/ebio/abt3\\_projects/databases\\_no-backup/GTDB/release89/LLMGP-DB/kraken2/GTDBr89-AgMs15//opts.k2d &           56        & FALSE               & 0644                & 2019-11-17 06:26:34 & 2019-11-17 06:26:34 & 2019-11-17 06:26:34 & 6354                & 353                 & nyoungblut          & abt3               \\\\\n",
       "\t/ebio/abt3\\_projects/databases\\_no-backup/GTDB/release89/LLMGP-DB/kraken2/GTDBr89-AgMs15//seqid2taxid.map &    106983895        & FALSE               & 0644                & 2019-11-17 06:26:34 & 2019-11-17 06:26:34 & 2019-11-17 06:26:34 & 6354                & 353                 & nyoungblut          & abt3               \\\\\n",
       "\t/ebio/abt3\\_projects/databases\\_no-backup/GTDB/release89/LLMGP-DB/kraken2/GTDBr89-AgMs15//taxo.k2d &      4733624        & FALSE               & 0644                & 2019-11-17 06:26:34 & 2019-11-17 06:26:34 & 2019-11-17 06:26:34 & 6354                & 353                 & nyoungblut          & abt3               \\\\\n",
       "\t/ebio/abt3\\_projects/databases\\_no-backup/GTDB/release89/LLMGP-DB/kraken2/GTDBr89-AgMs15//taxonomy &           78        &  TRUE               & 2755                & 2019-11-17 03:34:58 & 2019-11-17 03:34:58 & 2019-11-15 18:42:42 & 6354                & 353                 & nyoungblut          & abt3               \\\\\n",
       "\\end{tabular}\n"
      ],
      "text/markdown": [
       "\n",
       "| <!--/--> | size | isdir | mode | mtime | ctime | atime | uid | gid | uname | grname | \n",
       "|---|---|---|---|---|---|---|---|---|---|---|---|\n",
       "| /ebio/abt3_projects/databases_no-backup/GTDB/release89/LLMGP-DB/kraken2/GTDBr89-AgMs15//added |      1712128        |  TRUE               | 2755                | 2019-11-17 03:33:52 | 2019-11-17 03:33:52 | 2019-11-15 18:44:17 | 6354                | 353                 | nyoungblut          | abt3                | \n",
       "| /ebio/abt3_projects/databases_no-backup/GTDB/release89/LLMGP-DB/kraken2/GTDBr89-AgMs15//database.kraken |  31136377805        | FALSE               | 0644                | 2019-11-17 06:59:03 | 2019-11-17 06:59:03 | 2019-11-17 06:28:55 | 6354                | 353                 | nyoungblut          | abt3                | \n",
       "| /ebio/abt3_projects/databases_no-backup/GTDB/release89/LLMGP-DB/kraken2/GTDBr89-AgMs15//database100mers.kmer_distrib |      1568369        | FALSE               | 0644                | 2019-11-17 07:08:53 | 2019-11-17 07:08:53 | 2019-11-17 07:08:53 | 6354                | 353                 | nyoungblut          | abt3                | \n",
       "| /ebio/abt3_projects/databases_no-backup/GTDB/release89/LLMGP-DB/kraken2/GTDBr89-AgMs15//database100mers.kraken |     79016647        | FALSE               | 0644                | 2019-11-17 07:08:53 | 2019-11-17 07:08:53 | 2019-11-17 07:08:53 | 6354                | 353                 | nyoungblut          | abt3                | \n",
       "| /ebio/abt3_projects/databases_no-backup/GTDB/release89/LLMGP-DB/kraken2/GTDBr89-AgMs15//database150mers.kmer_distrib |      3490903        | FALSE               | 0644                | 2019-11-17 07:59:17 | 2019-11-17 07:59:17 | 2019-11-17 07:59:17 | 6354                | 353                 | nyoungblut          | abt3                | \n",
       "| /ebio/abt3_projects/databases_no-backup/GTDB/release89/LLMGP-DB/kraken2/GTDBr89-AgMs15//database150mers.kraken |    187160480        | FALSE               | 0644                | 2019-11-17 07:59:17 | 2019-11-17 07:59:17 | 2019-11-17 07:59:17 | 6354                | 353                 | nyoungblut          | abt3                | \n",
       "| /ebio/abt3_projects/databases_no-backup/GTDB/release89/LLMGP-DB/kraken2/GTDBr89-AgMs15//hash.k2d | 133367417448        | FALSE               | 0644                | 2019-11-17 06:26:34 | 2019-11-17 06:26:34 | 2019-11-17 06:26:34 | 6354                | 353                 | nyoungblut          | abt3                | \n",
       "| /ebio/abt3_projects/databases_no-backup/GTDB/release89/LLMGP-DB/kraken2/GTDBr89-AgMs15//library |           27        |  TRUE               | 2755                | 2019-11-15 18:44:19 | 2019-11-15 18:44:19 | 2019-11-15 18:44:19 | 6354                | 353                 | nyoungblut          | abt3                | \n",
       "| /ebio/abt3_projects/databases_no-backup/GTDB/release89/LLMGP-DB/kraken2/GTDBr89-AgMs15//opts.k2d |           56        | FALSE               | 0644                | 2019-11-17 06:26:34 | 2019-11-17 06:26:34 | 2019-11-17 06:26:34 | 6354                | 353                 | nyoungblut          | abt3                | \n",
       "| /ebio/abt3_projects/databases_no-backup/GTDB/release89/LLMGP-DB/kraken2/GTDBr89-AgMs15//seqid2taxid.map |    106983895        | FALSE               | 0644                | 2019-11-17 06:26:34 | 2019-11-17 06:26:34 | 2019-11-17 06:26:34 | 6354                | 353                 | nyoungblut          | abt3                | \n",
       "| /ebio/abt3_projects/databases_no-backup/GTDB/release89/LLMGP-DB/kraken2/GTDBr89-AgMs15//taxo.k2d |      4733624        | FALSE               | 0644                | 2019-11-17 06:26:34 | 2019-11-17 06:26:34 | 2019-11-17 06:26:34 | 6354                | 353                 | nyoungblut          | abt3                | \n",
       "| /ebio/abt3_projects/databases_no-backup/GTDB/release89/LLMGP-DB/kraken2/GTDBr89-AgMs15//taxonomy |           78        |  TRUE               | 2755                | 2019-11-17 03:34:58 | 2019-11-17 03:34:58 | 2019-11-15 18:42:42 | 6354                | 353                 | nyoungblut          | abt3                | \n",
       "\n",
       "\n"
      ],
      "text/plain": [
       "                                                                                                                     size        \n",
       "/ebio/abt3_projects/databases_no-backup/GTDB/release89/LLMGP-DB/kraken2/GTDBr89-AgMs15//added                             1712128\n",
       "/ebio/abt3_projects/databases_no-backup/GTDB/release89/LLMGP-DB/kraken2/GTDBr89-AgMs15//database.kraken               31136377805\n",
       "/ebio/abt3_projects/databases_no-backup/GTDB/release89/LLMGP-DB/kraken2/GTDBr89-AgMs15//database100mers.kmer_distrib      1568369\n",
       "/ebio/abt3_projects/databases_no-backup/GTDB/release89/LLMGP-DB/kraken2/GTDBr89-AgMs15//database100mers.kraken           79016647\n",
       "/ebio/abt3_projects/databases_no-backup/GTDB/release89/LLMGP-DB/kraken2/GTDBr89-AgMs15//database150mers.kmer_distrib      3490903\n",
       "/ebio/abt3_projects/databases_no-backup/GTDB/release89/LLMGP-DB/kraken2/GTDBr89-AgMs15//database150mers.kraken          187160480\n",
       "/ebio/abt3_projects/databases_no-backup/GTDB/release89/LLMGP-DB/kraken2/GTDBr89-AgMs15//hash.k2d                     133367417448\n",
       "/ebio/abt3_projects/databases_no-backup/GTDB/release89/LLMGP-DB/kraken2/GTDBr89-AgMs15//library                                27\n",
       "/ebio/abt3_projects/databases_no-backup/GTDB/release89/LLMGP-DB/kraken2/GTDBr89-AgMs15//opts.k2d                               56\n",
       "/ebio/abt3_projects/databases_no-backup/GTDB/release89/LLMGP-DB/kraken2/GTDBr89-AgMs15//seqid2taxid.map                 106983895\n",
       "/ebio/abt3_projects/databases_no-backup/GTDB/release89/LLMGP-DB/kraken2/GTDBr89-AgMs15//taxo.k2d                          4733624\n",
       "/ebio/abt3_projects/databases_no-backup/GTDB/release89/LLMGP-DB/kraken2/GTDBr89-AgMs15//taxonomy                               78\n",
       "                                                                                                                     isdir\n",
       "/ebio/abt3_projects/databases_no-backup/GTDB/release89/LLMGP-DB/kraken2/GTDBr89-AgMs15//added                         TRUE\n",
       "/ebio/abt3_projects/databases_no-backup/GTDB/release89/LLMGP-DB/kraken2/GTDBr89-AgMs15//database.kraken              FALSE\n",
       "/ebio/abt3_projects/databases_no-backup/GTDB/release89/LLMGP-DB/kraken2/GTDBr89-AgMs15//database100mers.kmer_distrib FALSE\n",
       "/ebio/abt3_projects/databases_no-backup/GTDB/release89/LLMGP-DB/kraken2/GTDBr89-AgMs15//database100mers.kraken       FALSE\n",
       "/ebio/abt3_projects/databases_no-backup/GTDB/release89/LLMGP-DB/kraken2/GTDBr89-AgMs15//database150mers.kmer_distrib FALSE\n",
       "/ebio/abt3_projects/databases_no-backup/GTDB/release89/LLMGP-DB/kraken2/GTDBr89-AgMs15//database150mers.kraken       FALSE\n",
       "/ebio/abt3_projects/databases_no-backup/GTDB/release89/LLMGP-DB/kraken2/GTDBr89-AgMs15//hash.k2d                     FALSE\n",
       "/ebio/abt3_projects/databases_no-backup/GTDB/release89/LLMGP-DB/kraken2/GTDBr89-AgMs15//library                       TRUE\n",
       "/ebio/abt3_projects/databases_no-backup/GTDB/release89/LLMGP-DB/kraken2/GTDBr89-AgMs15//opts.k2d                     FALSE\n",
       "/ebio/abt3_projects/databases_no-backup/GTDB/release89/LLMGP-DB/kraken2/GTDBr89-AgMs15//seqid2taxid.map              FALSE\n",
       "/ebio/abt3_projects/databases_no-backup/GTDB/release89/LLMGP-DB/kraken2/GTDBr89-AgMs15//taxo.k2d                     FALSE\n",
       "/ebio/abt3_projects/databases_no-backup/GTDB/release89/LLMGP-DB/kraken2/GTDBr89-AgMs15//taxonomy                      TRUE\n",
       "                                                                                                                     mode\n",
       "/ebio/abt3_projects/databases_no-backup/GTDB/release89/LLMGP-DB/kraken2/GTDBr89-AgMs15//added                        2755\n",
       "/ebio/abt3_projects/databases_no-backup/GTDB/release89/LLMGP-DB/kraken2/GTDBr89-AgMs15//database.kraken              0644\n",
       "/ebio/abt3_projects/databases_no-backup/GTDB/release89/LLMGP-DB/kraken2/GTDBr89-AgMs15//database100mers.kmer_distrib 0644\n",
       "/ebio/abt3_projects/databases_no-backup/GTDB/release89/LLMGP-DB/kraken2/GTDBr89-AgMs15//database100mers.kraken       0644\n",
       "/ebio/abt3_projects/databases_no-backup/GTDB/release89/LLMGP-DB/kraken2/GTDBr89-AgMs15//database150mers.kmer_distrib 0644\n",
       "/ebio/abt3_projects/databases_no-backup/GTDB/release89/LLMGP-DB/kraken2/GTDBr89-AgMs15//database150mers.kraken       0644\n",
       "/ebio/abt3_projects/databases_no-backup/GTDB/release89/LLMGP-DB/kraken2/GTDBr89-AgMs15//hash.k2d                     0644\n",
       "/ebio/abt3_projects/databases_no-backup/GTDB/release89/LLMGP-DB/kraken2/GTDBr89-AgMs15//library                      2755\n",
       "/ebio/abt3_projects/databases_no-backup/GTDB/release89/LLMGP-DB/kraken2/GTDBr89-AgMs15//opts.k2d                     0644\n",
       "/ebio/abt3_projects/databases_no-backup/GTDB/release89/LLMGP-DB/kraken2/GTDBr89-AgMs15//seqid2taxid.map              0644\n",
       "/ebio/abt3_projects/databases_no-backup/GTDB/release89/LLMGP-DB/kraken2/GTDBr89-AgMs15//taxo.k2d                     0644\n",
       "/ebio/abt3_projects/databases_no-backup/GTDB/release89/LLMGP-DB/kraken2/GTDBr89-AgMs15//taxonomy                     2755\n",
       "                                                                                                                     mtime              \n",
       "/ebio/abt3_projects/databases_no-backup/GTDB/release89/LLMGP-DB/kraken2/GTDBr89-AgMs15//added                        2019-11-17 03:33:52\n",
       "/ebio/abt3_projects/databases_no-backup/GTDB/release89/LLMGP-DB/kraken2/GTDBr89-AgMs15//database.kraken              2019-11-17 06:59:03\n",
       "/ebio/abt3_projects/databases_no-backup/GTDB/release89/LLMGP-DB/kraken2/GTDBr89-AgMs15//database100mers.kmer_distrib 2019-11-17 07:08:53\n",
       "/ebio/abt3_projects/databases_no-backup/GTDB/release89/LLMGP-DB/kraken2/GTDBr89-AgMs15//database100mers.kraken       2019-11-17 07:08:53\n",
       "/ebio/abt3_projects/databases_no-backup/GTDB/release89/LLMGP-DB/kraken2/GTDBr89-AgMs15//database150mers.kmer_distrib 2019-11-17 07:59:17\n",
       "/ebio/abt3_projects/databases_no-backup/GTDB/release89/LLMGP-DB/kraken2/GTDBr89-AgMs15//database150mers.kraken       2019-11-17 07:59:17\n",
       "/ebio/abt3_projects/databases_no-backup/GTDB/release89/LLMGP-DB/kraken2/GTDBr89-AgMs15//hash.k2d                     2019-11-17 06:26:34\n",
       "/ebio/abt3_projects/databases_no-backup/GTDB/release89/LLMGP-DB/kraken2/GTDBr89-AgMs15//library                      2019-11-15 18:44:19\n",
       "/ebio/abt3_projects/databases_no-backup/GTDB/release89/LLMGP-DB/kraken2/GTDBr89-AgMs15//opts.k2d                     2019-11-17 06:26:34\n",
       "/ebio/abt3_projects/databases_no-backup/GTDB/release89/LLMGP-DB/kraken2/GTDBr89-AgMs15//seqid2taxid.map              2019-11-17 06:26:34\n",
       "/ebio/abt3_projects/databases_no-backup/GTDB/release89/LLMGP-DB/kraken2/GTDBr89-AgMs15//taxo.k2d                     2019-11-17 06:26:34\n",
       "/ebio/abt3_projects/databases_no-backup/GTDB/release89/LLMGP-DB/kraken2/GTDBr89-AgMs15//taxonomy                     2019-11-17 03:34:58\n",
       "                                                                                                                     ctime              \n",
       "/ebio/abt3_projects/databases_no-backup/GTDB/release89/LLMGP-DB/kraken2/GTDBr89-AgMs15//added                        2019-11-17 03:33:52\n",
       "/ebio/abt3_projects/databases_no-backup/GTDB/release89/LLMGP-DB/kraken2/GTDBr89-AgMs15//database.kraken              2019-11-17 06:59:03\n",
       "/ebio/abt3_projects/databases_no-backup/GTDB/release89/LLMGP-DB/kraken2/GTDBr89-AgMs15//database100mers.kmer_distrib 2019-11-17 07:08:53\n",
       "/ebio/abt3_projects/databases_no-backup/GTDB/release89/LLMGP-DB/kraken2/GTDBr89-AgMs15//database100mers.kraken       2019-11-17 07:08:53\n",
       "/ebio/abt3_projects/databases_no-backup/GTDB/release89/LLMGP-DB/kraken2/GTDBr89-AgMs15//database150mers.kmer_distrib 2019-11-17 07:59:17\n",
       "/ebio/abt3_projects/databases_no-backup/GTDB/release89/LLMGP-DB/kraken2/GTDBr89-AgMs15//database150mers.kraken       2019-11-17 07:59:17\n",
       "/ebio/abt3_projects/databases_no-backup/GTDB/release89/LLMGP-DB/kraken2/GTDBr89-AgMs15//hash.k2d                     2019-11-17 06:26:34\n",
       "/ebio/abt3_projects/databases_no-backup/GTDB/release89/LLMGP-DB/kraken2/GTDBr89-AgMs15//library                      2019-11-15 18:44:19\n",
       "/ebio/abt3_projects/databases_no-backup/GTDB/release89/LLMGP-DB/kraken2/GTDBr89-AgMs15//opts.k2d                     2019-11-17 06:26:34\n",
       "/ebio/abt3_projects/databases_no-backup/GTDB/release89/LLMGP-DB/kraken2/GTDBr89-AgMs15//seqid2taxid.map              2019-11-17 06:26:34\n",
       "/ebio/abt3_projects/databases_no-backup/GTDB/release89/LLMGP-DB/kraken2/GTDBr89-AgMs15//taxo.k2d                     2019-11-17 06:26:34\n",
       "/ebio/abt3_projects/databases_no-backup/GTDB/release89/LLMGP-DB/kraken2/GTDBr89-AgMs15//taxonomy                     2019-11-17 03:34:58\n",
       "                                                                                                                     atime              \n",
       "/ebio/abt3_projects/databases_no-backup/GTDB/release89/LLMGP-DB/kraken2/GTDBr89-AgMs15//added                        2019-11-15 18:44:17\n",
       "/ebio/abt3_projects/databases_no-backup/GTDB/release89/LLMGP-DB/kraken2/GTDBr89-AgMs15//database.kraken              2019-11-17 06:28:55\n",
       "/ebio/abt3_projects/databases_no-backup/GTDB/release89/LLMGP-DB/kraken2/GTDBr89-AgMs15//database100mers.kmer_distrib 2019-11-17 07:08:53\n",
       "/ebio/abt3_projects/databases_no-backup/GTDB/release89/LLMGP-DB/kraken2/GTDBr89-AgMs15//database100mers.kraken       2019-11-17 07:08:53\n",
       "/ebio/abt3_projects/databases_no-backup/GTDB/release89/LLMGP-DB/kraken2/GTDBr89-AgMs15//database150mers.kmer_distrib 2019-11-17 07:59:17\n",
       "/ebio/abt3_projects/databases_no-backup/GTDB/release89/LLMGP-DB/kraken2/GTDBr89-AgMs15//database150mers.kraken       2019-11-17 07:59:17\n",
       "/ebio/abt3_projects/databases_no-backup/GTDB/release89/LLMGP-DB/kraken2/GTDBr89-AgMs15//hash.k2d                     2019-11-17 06:26:34\n",
       "/ebio/abt3_projects/databases_no-backup/GTDB/release89/LLMGP-DB/kraken2/GTDBr89-AgMs15//library                      2019-11-15 18:44:19\n",
       "/ebio/abt3_projects/databases_no-backup/GTDB/release89/LLMGP-DB/kraken2/GTDBr89-AgMs15//opts.k2d                     2019-11-17 06:26:34\n",
       "/ebio/abt3_projects/databases_no-backup/GTDB/release89/LLMGP-DB/kraken2/GTDBr89-AgMs15//seqid2taxid.map              2019-11-17 06:26:34\n",
       "/ebio/abt3_projects/databases_no-backup/GTDB/release89/LLMGP-DB/kraken2/GTDBr89-AgMs15//taxo.k2d                     2019-11-17 06:26:34\n",
       "/ebio/abt3_projects/databases_no-backup/GTDB/release89/LLMGP-DB/kraken2/GTDBr89-AgMs15//taxonomy                     2019-11-15 18:42:42\n",
       "                                                                                                                     uid \n",
       "/ebio/abt3_projects/databases_no-backup/GTDB/release89/LLMGP-DB/kraken2/GTDBr89-AgMs15//added                        6354\n",
       "/ebio/abt3_projects/databases_no-backup/GTDB/release89/LLMGP-DB/kraken2/GTDBr89-AgMs15//database.kraken              6354\n",
       "/ebio/abt3_projects/databases_no-backup/GTDB/release89/LLMGP-DB/kraken2/GTDBr89-AgMs15//database100mers.kmer_distrib 6354\n",
       "/ebio/abt3_projects/databases_no-backup/GTDB/release89/LLMGP-DB/kraken2/GTDBr89-AgMs15//database100mers.kraken       6354\n",
       "/ebio/abt3_projects/databases_no-backup/GTDB/release89/LLMGP-DB/kraken2/GTDBr89-AgMs15//database150mers.kmer_distrib 6354\n",
       "/ebio/abt3_projects/databases_no-backup/GTDB/release89/LLMGP-DB/kraken2/GTDBr89-AgMs15//database150mers.kraken       6354\n",
       "/ebio/abt3_projects/databases_no-backup/GTDB/release89/LLMGP-DB/kraken2/GTDBr89-AgMs15//hash.k2d                     6354\n",
       "/ebio/abt3_projects/databases_no-backup/GTDB/release89/LLMGP-DB/kraken2/GTDBr89-AgMs15//library                      6354\n",
       "/ebio/abt3_projects/databases_no-backup/GTDB/release89/LLMGP-DB/kraken2/GTDBr89-AgMs15//opts.k2d                     6354\n",
       "/ebio/abt3_projects/databases_no-backup/GTDB/release89/LLMGP-DB/kraken2/GTDBr89-AgMs15//seqid2taxid.map              6354\n",
       "/ebio/abt3_projects/databases_no-backup/GTDB/release89/LLMGP-DB/kraken2/GTDBr89-AgMs15//taxo.k2d                     6354\n",
       "/ebio/abt3_projects/databases_no-backup/GTDB/release89/LLMGP-DB/kraken2/GTDBr89-AgMs15//taxonomy                     6354\n",
       "                                                                                                                     gid\n",
       "/ebio/abt3_projects/databases_no-backup/GTDB/release89/LLMGP-DB/kraken2/GTDBr89-AgMs15//added                        353\n",
       "/ebio/abt3_projects/databases_no-backup/GTDB/release89/LLMGP-DB/kraken2/GTDBr89-AgMs15//database.kraken              353\n",
       "/ebio/abt3_projects/databases_no-backup/GTDB/release89/LLMGP-DB/kraken2/GTDBr89-AgMs15//database100mers.kmer_distrib 353\n",
       "/ebio/abt3_projects/databases_no-backup/GTDB/release89/LLMGP-DB/kraken2/GTDBr89-AgMs15//database100mers.kraken       353\n",
       "/ebio/abt3_projects/databases_no-backup/GTDB/release89/LLMGP-DB/kraken2/GTDBr89-AgMs15//database150mers.kmer_distrib 353\n",
       "/ebio/abt3_projects/databases_no-backup/GTDB/release89/LLMGP-DB/kraken2/GTDBr89-AgMs15//database150mers.kraken       353\n",
       "/ebio/abt3_projects/databases_no-backup/GTDB/release89/LLMGP-DB/kraken2/GTDBr89-AgMs15//hash.k2d                     353\n",
       "/ebio/abt3_projects/databases_no-backup/GTDB/release89/LLMGP-DB/kraken2/GTDBr89-AgMs15//library                      353\n",
       "/ebio/abt3_projects/databases_no-backup/GTDB/release89/LLMGP-DB/kraken2/GTDBr89-AgMs15//opts.k2d                     353\n",
       "/ebio/abt3_projects/databases_no-backup/GTDB/release89/LLMGP-DB/kraken2/GTDBr89-AgMs15//seqid2taxid.map              353\n",
       "/ebio/abt3_projects/databases_no-backup/GTDB/release89/LLMGP-DB/kraken2/GTDBr89-AgMs15//taxo.k2d                     353\n",
       "/ebio/abt3_projects/databases_no-backup/GTDB/release89/LLMGP-DB/kraken2/GTDBr89-AgMs15//taxonomy                     353\n",
       "                                                                                                                     uname     \n",
       "/ebio/abt3_projects/databases_no-backup/GTDB/release89/LLMGP-DB/kraken2/GTDBr89-AgMs15//added                        nyoungblut\n",
       "/ebio/abt3_projects/databases_no-backup/GTDB/release89/LLMGP-DB/kraken2/GTDBr89-AgMs15//database.kraken              nyoungblut\n",
       "/ebio/abt3_projects/databases_no-backup/GTDB/release89/LLMGP-DB/kraken2/GTDBr89-AgMs15//database100mers.kmer_distrib nyoungblut\n",
       "/ebio/abt3_projects/databases_no-backup/GTDB/release89/LLMGP-DB/kraken2/GTDBr89-AgMs15//database100mers.kraken       nyoungblut\n",
       "/ebio/abt3_projects/databases_no-backup/GTDB/release89/LLMGP-DB/kraken2/GTDBr89-AgMs15//database150mers.kmer_distrib nyoungblut\n",
       "/ebio/abt3_projects/databases_no-backup/GTDB/release89/LLMGP-DB/kraken2/GTDBr89-AgMs15//database150mers.kraken       nyoungblut\n",
       "/ebio/abt3_projects/databases_no-backup/GTDB/release89/LLMGP-DB/kraken2/GTDBr89-AgMs15//hash.k2d                     nyoungblut\n",
       "/ebio/abt3_projects/databases_no-backup/GTDB/release89/LLMGP-DB/kraken2/GTDBr89-AgMs15//library                      nyoungblut\n",
       "/ebio/abt3_projects/databases_no-backup/GTDB/release89/LLMGP-DB/kraken2/GTDBr89-AgMs15//opts.k2d                     nyoungblut\n",
       "/ebio/abt3_projects/databases_no-backup/GTDB/release89/LLMGP-DB/kraken2/GTDBr89-AgMs15//seqid2taxid.map              nyoungblut\n",
       "/ebio/abt3_projects/databases_no-backup/GTDB/release89/LLMGP-DB/kraken2/GTDBr89-AgMs15//taxo.k2d                     nyoungblut\n",
       "/ebio/abt3_projects/databases_no-backup/GTDB/release89/LLMGP-DB/kraken2/GTDBr89-AgMs15//taxonomy                     nyoungblut\n",
       "                                                                                                                     grname\n",
       "/ebio/abt3_projects/databases_no-backup/GTDB/release89/LLMGP-DB/kraken2/GTDBr89-AgMs15//added                        abt3  \n",
       "/ebio/abt3_projects/databases_no-backup/GTDB/release89/LLMGP-DB/kraken2/GTDBr89-AgMs15//database.kraken              abt3  \n",
       "/ebio/abt3_projects/databases_no-backup/GTDB/release89/LLMGP-DB/kraken2/GTDBr89-AgMs15//database100mers.kmer_distrib abt3  \n",
       "/ebio/abt3_projects/databases_no-backup/GTDB/release89/LLMGP-DB/kraken2/GTDBr89-AgMs15//database100mers.kraken       abt3  \n",
       "/ebio/abt3_projects/databases_no-backup/GTDB/release89/LLMGP-DB/kraken2/GTDBr89-AgMs15//database150mers.kmer_distrib abt3  \n",
       "/ebio/abt3_projects/databases_no-backup/GTDB/release89/LLMGP-DB/kraken2/GTDBr89-AgMs15//database150mers.kraken       abt3  \n",
       "/ebio/abt3_projects/databases_no-backup/GTDB/release89/LLMGP-DB/kraken2/GTDBr89-AgMs15//hash.k2d                     abt3  \n",
       "/ebio/abt3_projects/databases_no-backup/GTDB/release89/LLMGP-DB/kraken2/GTDBr89-AgMs15//library                      abt3  \n",
       "/ebio/abt3_projects/databases_no-backup/GTDB/release89/LLMGP-DB/kraken2/GTDBr89-AgMs15//opts.k2d                     abt3  \n",
       "/ebio/abt3_projects/databases_no-backup/GTDB/release89/LLMGP-DB/kraken2/GTDBr89-AgMs15//seqid2taxid.map              abt3  \n",
       "/ebio/abt3_projects/databases_no-backup/GTDB/release89/LLMGP-DB/kraken2/GTDBr89-AgMs15//taxo.k2d                     abt3  \n",
       "/ebio/abt3_projects/databases_no-backup/GTDB/release89/LLMGP-DB/kraken2/GTDBr89-AgMs15//taxonomy                     abt3  "
      ]
     },
     "metadata": {},
     "output_type": "display_data"
    }
   ],
   "source": [
    "# kraken2\n",
    "D = '/ebio/abt3_projects/databases_no-backup/GTDB/release89/LLMGP-DB/kraken2/GTDBr89-AgMs15/'\n",
    "\n",
    "list.files(D, full.names=TRUE) %>%\n",
    "    as.list %>% lapply(file.info) %>%\n",
    "    do.call(rbind, .)"
   ]
  },
  {
   "cell_type": "code",
   "execution_count": 42,
   "metadata": {
    "ExecuteTime": {
     "end_time": "2019-11-22T15:05:15.650686Z",
     "start_time": "2019-11-22T15:05:12.897Z"
    }
   },
   "outputs": [
    {
     "data": {
      "text/html": [
       "<table>\n",
       "<thead><tr><th></th><th scope=col>size</th><th scope=col>isdir</th><th scope=col>mode</th><th scope=col>mtime</th><th scope=col>ctime</th><th scope=col>atime</th><th scope=col>uid</th><th scope=col>gid</th><th scope=col>uname</th><th scope=col>grname</th></tr></thead>\n",
       "<tbody>\n",
       "\t<tr><th scope=row>/ebio/abt3_projects/databases_no-backup/GTDB/release89/LLMGP-DB/humann2/GTDBr89-AgMs15//all_genes_annot.1.bt2l</th><td>26112796756        </td><td>FALSE              </td><td>644                </td><td>2019-11-17 14:07:01</td><td>2019-11-17 14:07:01</td><td>2019-11-17 05:25:25</td><td>6354               </td><td>353                </td><td>nyoungblut         </td><td>abt3               </td></tr>\n",
       "\t<tr><th scope=row>/ebio/abt3_projects/databases_no-backup/GTDB/release89/LLMGP-DB/humann2/GTDBr89-AgMs15//all_genes_annot.2.bt2l</th><td>29350750108        </td><td>FALSE              </td><td>644                </td><td>2019-11-17 14:06:05</td><td>2019-11-17 14:06:05</td><td>2019-11-17 05:25:25</td><td>6354               </td><td>353                </td><td>nyoungblut         </td><td>abt3               </td></tr>\n",
       "\t<tr><th scope=row>/ebio/abt3_projects/databases_no-backup/GTDB/release89/LLMGP-DB/humann2/GTDBr89-AgMs15//all_genes_annot.3.bt2l</th><td> 1045789777        </td><td>FALSE              </td><td>644                </td><td>2019-11-17 05:25:25</td><td>2019-11-17 05:25:25</td><td>2019-11-17 05:14:55</td><td>6354               </td><td>353                </td><td>nyoungblut         </td><td>abt3               </td></tr>\n",
       "\t<tr><th scope=row>/ebio/abt3_projects/databases_no-backup/GTDB/release89/LLMGP-DB/humann2/GTDBr89-AgMs15//all_genes_annot.4.bt2l</th><td>14675375052        </td><td>FALSE              </td><td>644                </td><td>2019-11-17 05:25:24</td><td>2019-11-17 05:25:24</td><td>2019-11-17 05:14:55</td><td>6354               </td><td>353                </td><td>nyoungblut         </td><td>abt3               </td></tr>\n",
       "\t<tr><th scope=row>/ebio/abt3_projects/databases_no-backup/GTDB/release89/LLMGP-DB/humann2/GTDBr89-AgMs15//all_genes_annot.dmnd</th><td>25160710140        </td><td>FALSE              </td><td>644                </td><td>2019-11-17 05:20:13</td><td>2019-11-17 05:20:13</td><td>2019-11-17 05:20:13</td><td>6354               </td><td>353                </td><td>nyoungblut         </td><td>abt3               </td></tr>\n",
       "\t<tr><th scope=row>/ebio/abt3_projects/databases_no-backup/GTDB/release89/LLMGP-DB/humann2/GTDBr89-AgMs15//all_genes_annot.faa.gz</th><td>12136866678        </td><td>FALSE              </td><td>644                </td><td>2019-11-17 05:14:16</td><td>2019-11-17 05:14:16</td><td>2019-11-17 05:14:16</td><td>6354               </td><td>353                </td><td>nyoungblut         </td><td>abt3               </td></tr>\n",
       "\t<tr><th scope=row>/ebio/abt3_projects/databases_no-backup/GTDB/release89/LLMGP-DB/humann2/GTDBr89-AgMs15//all_genes_annot.fna.gz</th><td>17613263410        </td><td>FALSE              </td><td>644                </td><td>2019-11-17 05:14:16</td><td>2019-11-17 05:14:16</td><td>2019-11-17 05:14:16</td><td>6354               </td><td>353                </td><td>nyoungblut         </td><td>abt3               </td></tr>\n",
       "\t<tr><th scope=row>/ebio/abt3_projects/databases_no-backup/GTDB/release89/LLMGP-DB/humann2/GTDBr89-AgMs15//all_genes_annot.rev.1.bt2l</th><td>26112796756        </td><td>FALSE              </td><td>644                </td><td>2019-11-17 22:36:32</td><td>2019-11-17 22:36:32</td><td>2019-11-17 14:16:44</td><td>6354               </td><td>353                </td><td>nyoungblut         </td><td>abt3               </td></tr>\n",
       "\t<tr><th scope=row>/ebio/abt3_projects/databases_no-backup/GTDB/release89/LLMGP-DB/humann2/GTDBr89-AgMs15//all_genes_annot.rev.2.bt2l</th><td>29350750108        </td><td>FALSE              </td><td>644                </td><td>2019-11-17 22:35:44</td><td>2019-11-17 22:35:44</td><td>2019-11-17 14:16:44</td><td>6354               </td><td>353                </td><td>nyoungblut         </td><td>abt3               </td></tr>\n",
       "\t<tr><th scope=row>/ebio/abt3_projects/databases_no-backup/GTDB/release89/LLMGP-DB/humann2/GTDBr89-AgMs15//bowtie2_build.done</th><td>          0        </td><td>FALSE              </td><td>644                </td><td>2019-11-17 22:36:45</td><td>2019-11-17 22:36:45</td><td>2019-11-17 22:36:45</td><td>6354               </td><td>353                </td><td>nyoungblut         </td><td>abt3               </td></tr>\n",
       "</tbody>\n",
       "</table>\n"
      ],
      "text/latex": [
       "\\begin{tabular}{r|llllllllll}\n",
       "  & size & isdir & mode & mtime & ctime & atime & uid & gid & uname & grname\\\\\n",
       "\\hline\n",
       "\t/ebio/abt3\\_projects/databases\\_no-backup/GTDB/release89/LLMGP-DB/humann2/GTDBr89-AgMs15//all\\_genes\\_annot.1.bt2l & 26112796756         & FALSE               & 644                 & 2019-11-17 14:07:01 & 2019-11-17 14:07:01 & 2019-11-17 05:25:25 & 6354                & 353                 & nyoungblut          & abt3               \\\\\n",
       "\t/ebio/abt3\\_projects/databases\\_no-backup/GTDB/release89/LLMGP-DB/humann2/GTDBr89-AgMs15//all\\_genes\\_annot.2.bt2l & 29350750108         & FALSE               & 644                 & 2019-11-17 14:06:05 & 2019-11-17 14:06:05 & 2019-11-17 05:25:25 & 6354                & 353                 & nyoungblut          & abt3               \\\\\n",
       "\t/ebio/abt3\\_projects/databases\\_no-backup/GTDB/release89/LLMGP-DB/humann2/GTDBr89-AgMs15//all\\_genes\\_annot.3.bt2l &  1045789777         & FALSE               & 644                 & 2019-11-17 05:25:25 & 2019-11-17 05:25:25 & 2019-11-17 05:14:55 & 6354                & 353                 & nyoungblut          & abt3               \\\\\n",
       "\t/ebio/abt3\\_projects/databases\\_no-backup/GTDB/release89/LLMGP-DB/humann2/GTDBr89-AgMs15//all\\_genes\\_annot.4.bt2l & 14675375052         & FALSE               & 644                 & 2019-11-17 05:25:24 & 2019-11-17 05:25:24 & 2019-11-17 05:14:55 & 6354                & 353                 & nyoungblut          & abt3               \\\\\n",
       "\t/ebio/abt3\\_projects/databases\\_no-backup/GTDB/release89/LLMGP-DB/humann2/GTDBr89-AgMs15//all\\_genes\\_annot.dmnd & 25160710140         & FALSE               & 644                 & 2019-11-17 05:20:13 & 2019-11-17 05:20:13 & 2019-11-17 05:20:13 & 6354                & 353                 & nyoungblut          & abt3               \\\\\n",
       "\t/ebio/abt3\\_projects/databases\\_no-backup/GTDB/release89/LLMGP-DB/humann2/GTDBr89-AgMs15//all\\_genes\\_annot.faa.gz & 12136866678         & FALSE               & 644                 & 2019-11-17 05:14:16 & 2019-11-17 05:14:16 & 2019-11-17 05:14:16 & 6354                & 353                 & nyoungblut          & abt3               \\\\\n",
       "\t/ebio/abt3\\_projects/databases\\_no-backup/GTDB/release89/LLMGP-DB/humann2/GTDBr89-AgMs15//all\\_genes\\_annot.fna.gz & 17613263410         & FALSE               & 644                 & 2019-11-17 05:14:16 & 2019-11-17 05:14:16 & 2019-11-17 05:14:16 & 6354                & 353                 & nyoungblut          & abt3               \\\\\n",
       "\t/ebio/abt3\\_projects/databases\\_no-backup/GTDB/release89/LLMGP-DB/humann2/GTDBr89-AgMs15//all\\_genes\\_annot.rev.1.bt2l & 26112796756         & FALSE               & 644                 & 2019-11-17 22:36:32 & 2019-11-17 22:36:32 & 2019-11-17 14:16:44 & 6354                & 353                 & nyoungblut          & abt3               \\\\\n",
       "\t/ebio/abt3\\_projects/databases\\_no-backup/GTDB/release89/LLMGP-DB/humann2/GTDBr89-AgMs15//all\\_genes\\_annot.rev.2.bt2l & 29350750108         & FALSE               & 644                 & 2019-11-17 22:35:44 & 2019-11-17 22:35:44 & 2019-11-17 14:16:44 & 6354                & 353                 & nyoungblut          & abt3               \\\\\n",
       "\t/ebio/abt3\\_projects/databases\\_no-backup/GTDB/release89/LLMGP-DB/humann2/GTDBr89-AgMs15//bowtie2\\_build.done &           0         & FALSE               & 644                 & 2019-11-17 22:36:45 & 2019-11-17 22:36:45 & 2019-11-17 22:36:45 & 6354                & 353                 & nyoungblut          & abt3               \\\\\n",
       "\\end{tabular}\n"
      ],
      "text/markdown": [
       "\n",
       "| <!--/--> | size | isdir | mode | mtime | ctime | atime | uid | gid | uname | grname | \n",
       "|---|---|---|---|---|---|---|---|---|---|\n",
       "| /ebio/abt3_projects/databases_no-backup/GTDB/release89/LLMGP-DB/humann2/GTDBr89-AgMs15//all_genes_annot.1.bt2l | 26112796756         | FALSE               | 644                 | 2019-11-17 14:07:01 | 2019-11-17 14:07:01 | 2019-11-17 05:25:25 | 6354                | 353                 | nyoungblut          | abt3                | \n",
       "| /ebio/abt3_projects/databases_no-backup/GTDB/release89/LLMGP-DB/humann2/GTDBr89-AgMs15//all_genes_annot.2.bt2l | 29350750108         | FALSE               | 644                 | 2019-11-17 14:06:05 | 2019-11-17 14:06:05 | 2019-11-17 05:25:25 | 6354                | 353                 | nyoungblut          | abt3                | \n",
       "| /ebio/abt3_projects/databases_no-backup/GTDB/release89/LLMGP-DB/humann2/GTDBr89-AgMs15//all_genes_annot.3.bt2l |  1045789777         | FALSE               | 644                 | 2019-11-17 05:25:25 | 2019-11-17 05:25:25 | 2019-11-17 05:14:55 | 6354                | 353                 | nyoungblut          | abt3                | \n",
       "| /ebio/abt3_projects/databases_no-backup/GTDB/release89/LLMGP-DB/humann2/GTDBr89-AgMs15//all_genes_annot.4.bt2l | 14675375052         | FALSE               | 644                 | 2019-11-17 05:25:24 | 2019-11-17 05:25:24 | 2019-11-17 05:14:55 | 6354                | 353                 | nyoungblut          | abt3                | \n",
       "| /ebio/abt3_projects/databases_no-backup/GTDB/release89/LLMGP-DB/humann2/GTDBr89-AgMs15//all_genes_annot.dmnd | 25160710140         | FALSE               | 644                 | 2019-11-17 05:20:13 | 2019-11-17 05:20:13 | 2019-11-17 05:20:13 | 6354                | 353                 | nyoungblut          | abt3                | \n",
       "| /ebio/abt3_projects/databases_no-backup/GTDB/release89/LLMGP-DB/humann2/GTDBr89-AgMs15//all_genes_annot.faa.gz | 12136866678         | FALSE               | 644                 | 2019-11-17 05:14:16 | 2019-11-17 05:14:16 | 2019-11-17 05:14:16 | 6354                | 353                 | nyoungblut          | abt3                | \n",
       "| /ebio/abt3_projects/databases_no-backup/GTDB/release89/LLMGP-DB/humann2/GTDBr89-AgMs15//all_genes_annot.fna.gz | 17613263410         | FALSE               | 644                 | 2019-11-17 05:14:16 | 2019-11-17 05:14:16 | 2019-11-17 05:14:16 | 6354                | 353                 | nyoungblut          | abt3                | \n",
       "| /ebio/abt3_projects/databases_no-backup/GTDB/release89/LLMGP-DB/humann2/GTDBr89-AgMs15//all_genes_annot.rev.1.bt2l | 26112796756         | FALSE               | 644                 | 2019-11-17 22:36:32 | 2019-11-17 22:36:32 | 2019-11-17 14:16:44 | 6354                | 353                 | nyoungblut          | abt3                | \n",
       "| /ebio/abt3_projects/databases_no-backup/GTDB/release89/LLMGP-DB/humann2/GTDBr89-AgMs15//all_genes_annot.rev.2.bt2l | 29350750108         | FALSE               | 644                 | 2019-11-17 22:35:44 | 2019-11-17 22:35:44 | 2019-11-17 14:16:44 | 6354                | 353                 | nyoungblut          | abt3                | \n",
       "| /ebio/abt3_projects/databases_no-backup/GTDB/release89/LLMGP-DB/humann2/GTDBr89-AgMs15//bowtie2_build.done |           0         | FALSE               | 644                 | 2019-11-17 22:36:45 | 2019-11-17 22:36:45 | 2019-11-17 22:36:45 | 6354                | 353                 | nyoungblut          | abt3                | \n",
       "\n",
       "\n"
      ],
      "text/plain": [
       "                                                                                                                   size       \n",
       "/ebio/abt3_projects/databases_no-backup/GTDB/release89/LLMGP-DB/humann2/GTDBr89-AgMs15//all_genes_annot.1.bt2l     26112796756\n",
       "/ebio/abt3_projects/databases_no-backup/GTDB/release89/LLMGP-DB/humann2/GTDBr89-AgMs15//all_genes_annot.2.bt2l     29350750108\n",
       "/ebio/abt3_projects/databases_no-backup/GTDB/release89/LLMGP-DB/humann2/GTDBr89-AgMs15//all_genes_annot.3.bt2l      1045789777\n",
       "/ebio/abt3_projects/databases_no-backup/GTDB/release89/LLMGP-DB/humann2/GTDBr89-AgMs15//all_genes_annot.4.bt2l     14675375052\n",
       "/ebio/abt3_projects/databases_no-backup/GTDB/release89/LLMGP-DB/humann2/GTDBr89-AgMs15//all_genes_annot.dmnd       25160710140\n",
       "/ebio/abt3_projects/databases_no-backup/GTDB/release89/LLMGP-DB/humann2/GTDBr89-AgMs15//all_genes_annot.faa.gz     12136866678\n",
       "/ebio/abt3_projects/databases_no-backup/GTDB/release89/LLMGP-DB/humann2/GTDBr89-AgMs15//all_genes_annot.fna.gz     17613263410\n",
       "/ebio/abt3_projects/databases_no-backup/GTDB/release89/LLMGP-DB/humann2/GTDBr89-AgMs15//all_genes_annot.rev.1.bt2l 26112796756\n",
       "/ebio/abt3_projects/databases_no-backup/GTDB/release89/LLMGP-DB/humann2/GTDBr89-AgMs15//all_genes_annot.rev.2.bt2l 29350750108\n",
       "/ebio/abt3_projects/databases_no-backup/GTDB/release89/LLMGP-DB/humann2/GTDBr89-AgMs15//bowtie2_build.done                   0\n",
       "                                                                                                                   isdir\n",
       "/ebio/abt3_projects/databases_no-backup/GTDB/release89/LLMGP-DB/humann2/GTDBr89-AgMs15//all_genes_annot.1.bt2l     FALSE\n",
       "/ebio/abt3_projects/databases_no-backup/GTDB/release89/LLMGP-DB/humann2/GTDBr89-AgMs15//all_genes_annot.2.bt2l     FALSE\n",
       "/ebio/abt3_projects/databases_no-backup/GTDB/release89/LLMGP-DB/humann2/GTDBr89-AgMs15//all_genes_annot.3.bt2l     FALSE\n",
       "/ebio/abt3_projects/databases_no-backup/GTDB/release89/LLMGP-DB/humann2/GTDBr89-AgMs15//all_genes_annot.4.bt2l     FALSE\n",
       "/ebio/abt3_projects/databases_no-backup/GTDB/release89/LLMGP-DB/humann2/GTDBr89-AgMs15//all_genes_annot.dmnd       FALSE\n",
       "/ebio/abt3_projects/databases_no-backup/GTDB/release89/LLMGP-DB/humann2/GTDBr89-AgMs15//all_genes_annot.faa.gz     FALSE\n",
       "/ebio/abt3_projects/databases_no-backup/GTDB/release89/LLMGP-DB/humann2/GTDBr89-AgMs15//all_genes_annot.fna.gz     FALSE\n",
       "/ebio/abt3_projects/databases_no-backup/GTDB/release89/LLMGP-DB/humann2/GTDBr89-AgMs15//all_genes_annot.rev.1.bt2l FALSE\n",
       "/ebio/abt3_projects/databases_no-backup/GTDB/release89/LLMGP-DB/humann2/GTDBr89-AgMs15//all_genes_annot.rev.2.bt2l FALSE\n",
       "/ebio/abt3_projects/databases_no-backup/GTDB/release89/LLMGP-DB/humann2/GTDBr89-AgMs15//bowtie2_build.done         FALSE\n",
       "                                                                                                                   mode\n",
       "/ebio/abt3_projects/databases_no-backup/GTDB/release89/LLMGP-DB/humann2/GTDBr89-AgMs15//all_genes_annot.1.bt2l     644 \n",
       "/ebio/abt3_projects/databases_no-backup/GTDB/release89/LLMGP-DB/humann2/GTDBr89-AgMs15//all_genes_annot.2.bt2l     644 \n",
       "/ebio/abt3_projects/databases_no-backup/GTDB/release89/LLMGP-DB/humann2/GTDBr89-AgMs15//all_genes_annot.3.bt2l     644 \n",
       "/ebio/abt3_projects/databases_no-backup/GTDB/release89/LLMGP-DB/humann2/GTDBr89-AgMs15//all_genes_annot.4.bt2l     644 \n",
       "/ebio/abt3_projects/databases_no-backup/GTDB/release89/LLMGP-DB/humann2/GTDBr89-AgMs15//all_genes_annot.dmnd       644 \n",
       "/ebio/abt3_projects/databases_no-backup/GTDB/release89/LLMGP-DB/humann2/GTDBr89-AgMs15//all_genes_annot.faa.gz     644 \n",
       "/ebio/abt3_projects/databases_no-backup/GTDB/release89/LLMGP-DB/humann2/GTDBr89-AgMs15//all_genes_annot.fna.gz     644 \n",
       "/ebio/abt3_projects/databases_no-backup/GTDB/release89/LLMGP-DB/humann2/GTDBr89-AgMs15//all_genes_annot.rev.1.bt2l 644 \n",
       "/ebio/abt3_projects/databases_no-backup/GTDB/release89/LLMGP-DB/humann2/GTDBr89-AgMs15//all_genes_annot.rev.2.bt2l 644 \n",
       "/ebio/abt3_projects/databases_no-backup/GTDB/release89/LLMGP-DB/humann2/GTDBr89-AgMs15//bowtie2_build.done         644 \n",
       "                                                                                                                   mtime              \n",
       "/ebio/abt3_projects/databases_no-backup/GTDB/release89/LLMGP-DB/humann2/GTDBr89-AgMs15//all_genes_annot.1.bt2l     2019-11-17 14:07:01\n",
       "/ebio/abt3_projects/databases_no-backup/GTDB/release89/LLMGP-DB/humann2/GTDBr89-AgMs15//all_genes_annot.2.bt2l     2019-11-17 14:06:05\n",
       "/ebio/abt3_projects/databases_no-backup/GTDB/release89/LLMGP-DB/humann2/GTDBr89-AgMs15//all_genes_annot.3.bt2l     2019-11-17 05:25:25\n",
       "/ebio/abt3_projects/databases_no-backup/GTDB/release89/LLMGP-DB/humann2/GTDBr89-AgMs15//all_genes_annot.4.bt2l     2019-11-17 05:25:24\n",
       "/ebio/abt3_projects/databases_no-backup/GTDB/release89/LLMGP-DB/humann2/GTDBr89-AgMs15//all_genes_annot.dmnd       2019-11-17 05:20:13\n",
       "/ebio/abt3_projects/databases_no-backup/GTDB/release89/LLMGP-DB/humann2/GTDBr89-AgMs15//all_genes_annot.faa.gz     2019-11-17 05:14:16\n",
       "/ebio/abt3_projects/databases_no-backup/GTDB/release89/LLMGP-DB/humann2/GTDBr89-AgMs15//all_genes_annot.fna.gz     2019-11-17 05:14:16\n",
       "/ebio/abt3_projects/databases_no-backup/GTDB/release89/LLMGP-DB/humann2/GTDBr89-AgMs15//all_genes_annot.rev.1.bt2l 2019-11-17 22:36:32\n",
       "/ebio/abt3_projects/databases_no-backup/GTDB/release89/LLMGP-DB/humann2/GTDBr89-AgMs15//all_genes_annot.rev.2.bt2l 2019-11-17 22:35:44\n",
       "/ebio/abt3_projects/databases_no-backup/GTDB/release89/LLMGP-DB/humann2/GTDBr89-AgMs15//bowtie2_build.done         2019-11-17 22:36:45\n",
       "                                                                                                                   ctime              \n",
       "/ebio/abt3_projects/databases_no-backup/GTDB/release89/LLMGP-DB/humann2/GTDBr89-AgMs15//all_genes_annot.1.bt2l     2019-11-17 14:07:01\n",
       "/ebio/abt3_projects/databases_no-backup/GTDB/release89/LLMGP-DB/humann2/GTDBr89-AgMs15//all_genes_annot.2.bt2l     2019-11-17 14:06:05\n",
       "/ebio/abt3_projects/databases_no-backup/GTDB/release89/LLMGP-DB/humann2/GTDBr89-AgMs15//all_genes_annot.3.bt2l     2019-11-17 05:25:25\n",
       "/ebio/abt3_projects/databases_no-backup/GTDB/release89/LLMGP-DB/humann2/GTDBr89-AgMs15//all_genes_annot.4.bt2l     2019-11-17 05:25:24\n",
       "/ebio/abt3_projects/databases_no-backup/GTDB/release89/LLMGP-DB/humann2/GTDBr89-AgMs15//all_genes_annot.dmnd       2019-11-17 05:20:13\n",
       "/ebio/abt3_projects/databases_no-backup/GTDB/release89/LLMGP-DB/humann2/GTDBr89-AgMs15//all_genes_annot.faa.gz     2019-11-17 05:14:16\n",
       "/ebio/abt3_projects/databases_no-backup/GTDB/release89/LLMGP-DB/humann2/GTDBr89-AgMs15//all_genes_annot.fna.gz     2019-11-17 05:14:16\n",
       "/ebio/abt3_projects/databases_no-backup/GTDB/release89/LLMGP-DB/humann2/GTDBr89-AgMs15//all_genes_annot.rev.1.bt2l 2019-11-17 22:36:32\n",
       "/ebio/abt3_projects/databases_no-backup/GTDB/release89/LLMGP-DB/humann2/GTDBr89-AgMs15//all_genes_annot.rev.2.bt2l 2019-11-17 22:35:44\n",
       "/ebio/abt3_projects/databases_no-backup/GTDB/release89/LLMGP-DB/humann2/GTDBr89-AgMs15//bowtie2_build.done         2019-11-17 22:36:45\n",
       "                                                                                                                   atime              \n",
       "/ebio/abt3_projects/databases_no-backup/GTDB/release89/LLMGP-DB/humann2/GTDBr89-AgMs15//all_genes_annot.1.bt2l     2019-11-17 05:25:25\n",
       "/ebio/abt3_projects/databases_no-backup/GTDB/release89/LLMGP-DB/humann2/GTDBr89-AgMs15//all_genes_annot.2.bt2l     2019-11-17 05:25:25\n",
       "/ebio/abt3_projects/databases_no-backup/GTDB/release89/LLMGP-DB/humann2/GTDBr89-AgMs15//all_genes_annot.3.bt2l     2019-11-17 05:14:55\n",
       "/ebio/abt3_projects/databases_no-backup/GTDB/release89/LLMGP-DB/humann2/GTDBr89-AgMs15//all_genes_annot.4.bt2l     2019-11-17 05:14:55\n",
       "/ebio/abt3_projects/databases_no-backup/GTDB/release89/LLMGP-DB/humann2/GTDBr89-AgMs15//all_genes_annot.dmnd       2019-11-17 05:20:13\n",
       "/ebio/abt3_projects/databases_no-backup/GTDB/release89/LLMGP-DB/humann2/GTDBr89-AgMs15//all_genes_annot.faa.gz     2019-11-17 05:14:16\n",
       "/ebio/abt3_projects/databases_no-backup/GTDB/release89/LLMGP-DB/humann2/GTDBr89-AgMs15//all_genes_annot.fna.gz     2019-11-17 05:14:16\n",
       "/ebio/abt3_projects/databases_no-backup/GTDB/release89/LLMGP-DB/humann2/GTDBr89-AgMs15//all_genes_annot.rev.1.bt2l 2019-11-17 14:16:44\n",
       "/ebio/abt3_projects/databases_no-backup/GTDB/release89/LLMGP-DB/humann2/GTDBr89-AgMs15//all_genes_annot.rev.2.bt2l 2019-11-17 14:16:44\n",
       "/ebio/abt3_projects/databases_no-backup/GTDB/release89/LLMGP-DB/humann2/GTDBr89-AgMs15//bowtie2_build.done         2019-11-17 22:36:45\n",
       "                                                                                                                   uid \n",
       "/ebio/abt3_projects/databases_no-backup/GTDB/release89/LLMGP-DB/humann2/GTDBr89-AgMs15//all_genes_annot.1.bt2l     6354\n",
       "/ebio/abt3_projects/databases_no-backup/GTDB/release89/LLMGP-DB/humann2/GTDBr89-AgMs15//all_genes_annot.2.bt2l     6354\n",
       "/ebio/abt3_projects/databases_no-backup/GTDB/release89/LLMGP-DB/humann2/GTDBr89-AgMs15//all_genes_annot.3.bt2l     6354\n",
       "/ebio/abt3_projects/databases_no-backup/GTDB/release89/LLMGP-DB/humann2/GTDBr89-AgMs15//all_genes_annot.4.bt2l     6354\n",
       "/ebio/abt3_projects/databases_no-backup/GTDB/release89/LLMGP-DB/humann2/GTDBr89-AgMs15//all_genes_annot.dmnd       6354\n",
       "/ebio/abt3_projects/databases_no-backup/GTDB/release89/LLMGP-DB/humann2/GTDBr89-AgMs15//all_genes_annot.faa.gz     6354\n",
       "/ebio/abt3_projects/databases_no-backup/GTDB/release89/LLMGP-DB/humann2/GTDBr89-AgMs15//all_genes_annot.fna.gz     6354\n",
       "/ebio/abt3_projects/databases_no-backup/GTDB/release89/LLMGP-DB/humann2/GTDBr89-AgMs15//all_genes_annot.rev.1.bt2l 6354\n",
       "/ebio/abt3_projects/databases_no-backup/GTDB/release89/LLMGP-DB/humann2/GTDBr89-AgMs15//all_genes_annot.rev.2.bt2l 6354\n",
       "/ebio/abt3_projects/databases_no-backup/GTDB/release89/LLMGP-DB/humann2/GTDBr89-AgMs15//bowtie2_build.done         6354\n",
       "                                                                                                                   gid\n",
       "/ebio/abt3_projects/databases_no-backup/GTDB/release89/LLMGP-DB/humann2/GTDBr89-AgMs15//all_genes_annot.1.bt2l     353\n",
       "/ebio/abt3_projects/databases_no-backup/GTDB/release89/LLMGP-DB/humann2/GTDBr89-AgMs15//all_genes_annot.2.bt2l     353\n",
       "/ebio/abt3_projects/databases_no-backup/GTDB/release89/LLMGP-DB/humann2/GTDBr89-AgMs15//all_genes_annot.3.bt2l     353\n",
       "/ebio/abt3_projects/databases_no-backup/GTDB/release89/LLMGP-DB/humann2/GTDBr89-AgMs15//all_genes_annot.4.bt2l     353\n",
       "/ebio/abt3_projects/databases_no-backup/GTDB/release89/LLMGP-DB/humann2/GTDBr89-AgMs15//all_genes_annot.dmnd       353\n",
       "/ebio/abt3_projects/databases_no-backup/GTDB/release89/LLMGP-DB/humann2/GTDBr89-AgMs15//all_genes_annot.faa.gz     353\n",
       "/ebio/abt3_projects/databases_no-backup/GTDB/release89/LLMGP-DB/humann2/GTDBr89-AgMs15//all_genes_annot.fna.gz     353\n",
       "/ebio/abt3_projects/databases_no-backup/GTDB/release89/LLMGP-DB/humann2/GTDBr89-AgMs15//all_genes_annot.rev.1.bt2l 353\n",
       "/ebio/abt3_projects/databases_no-backup/GTDB/release89/LLMGP-DB/humann2/GTDBr89-AgMs15//all_genes_annot.rev.2.bt2l 353\n",
       "/ebio/abt3_projects/databases_no-backup/GTDB/release89/LLMGP-DB/humann2/GTDBr89-AgMs15//bowtie2_build.done         353\n",
       "                                                                                                                   uname     \n",
       "/ebio/abt3_projects/databases_no-backup/GTDB/release89/LLMGP-DB/humann2/GTDBr89-AgMs15//all_genes_annot.1.bt2l     nyoungblut\n",
       "/ebio/abt3_projects/databases_no-backup/GTDB/release89/LLMGP-DB/humann2/GTDBr89-AgMs15//all_genes_annot.2.bt2l     nyoungblut\n",
       "/ebio/abt3_projects/databases_no-backup/GTDB/release89/LLMGP-DB/humann2/GTDBr89-AgMs15//all_genes_annot.3.bt2l     nyoungblut\n",
       "/ebio/abt3_projects/databases_no-backup/GTDB/release89/LLMGP-DB/humann2/GTDBr89-AgMs15//all_genes_annot.4.bt2l     nyoungblut\n",
       "/ebio/abt3_projects/databases_no-backup/GTDB/release89/LLMGP-DB/humann2/GTDBr89-AgMs15//all_genes_annot.dmnd       nyoungblut\n",
       "/ebio/abt3_projects/databases_no-backup/GTDB/release89/LLMGP-DB/humann2/GTDBr89-AgMs15//all_genes_annot.faa.gz     nyoungblut\n",
       "/ebio/abt3_projects/databases_no-backup/GTDB/release89/LLMGP-DB/humann2/GTDBr89-AgMs15//all_genes_annot.fna.gz     nyoungblut\n",
       "/ebio/abt3_projects/databases_no-backup/GTDB/release89/LLMGP-DB/humann2/GTDBr89-AgMs15//all_genes_annot.rev.1.bt2l nyoungblut\n",
       "/ebio/abt3_projects/databases_no-backup/GTDB/release89/LLMGP-DB/humann2/GTDBr89-AgMs15//all_genes_annot.rev.2.bt2l nyoungblut\n",
       "/ebio/abt3_projects/databases_no-backup/GTDB/release89/LLMGP-DB/humann2/GTDBr89-AgMs15//bowtie2_build.done         nyoungblut\n",
       "                                                                                                                   grname\n",
       "/ebio/abt3_projects/databases_no-backup/GTDB/release89/LLMGP-DB/humann2/GTDBr89-AgMs15//all_genes_annot.1.bt2l     abt3  \n",
       "/ebio/abt3_projects/databases_no-backup/GTDB/release89/LLMGP-DB/humann2/GTDBr89-AgMs15//all_genes_annot.2.bt2l     abt3  \n",
       "/ebio/abt3_projects/databases_no-backup/GTDB/release89/LLMGP-DB/humann2/GTDBr89-AgMs15//all_genes_annot.3.bt2l     abt3  \n",
       "/ebio/abt3_projects/databases_no-backup/GTDB/release89/LLMGP-DB/humann2/GTDBr89-AgMs15//all_genes_annot.4.bt2l     abt3  \n",
       "/ebio/abt3_projects/databases_no-backup/GTDB/release89/LLMGP-DB/humann2/GTDBr89-AgMs15//all_genes_annot.dmnd       abt3  \n",
       "/ebio/abt3_projects/databases_no-backup/GTDB/release89/LLMGP-DB/humann2/GTDBr89-AgMs15//all_genes_annot.faa.gz     abt3  \n",
       "/ebio/abt3_projects/databases_no-backup/GTDB/release89/LLMGP-DB/humann2/GTDBr89-AgMs15//all_genes_annot.fna.gz     abt3  \n",
       "/ebio/abt3_projects/databases_no-backup/GTDB/release89/LLMGP-DB/humann2/GTDBr89-AgMs15//all_genes_annot.rev.1.bt2l abt3  \n",
       "/ebio/abt3_projects/databases_no-backup/GTDB/release89/LLMGP-DB/humann2/GTDBr89-AgMs15//all_genes_annot.rev.2.bt2l abt3  \n",
       "/ebio/abt3_projects/databases_no-backup/GTDB/release89/LLMGP-DB/humann2/GTDBr89-AgMs15//bowtie2_build.done         abt3  "
      ]
     },
     "metadata": {},
     "output_type": "display_data"
    }
   ],
   "source": [
    "# humann2\n",
    "D = '/ebio/abt3_projects/databases_no-backup/GTDB/release89/LLMGP-DB/humann2/GTDBr89-AgMs15/'\n",
    "\n",
    "list.files(D, full.names=TRUE) %>%\n",
    "    as.list %>% lapply(file.info) %>%\n",
    "    do.call(rbind, .)"
   ]
  },
  {
   "cell_type": "markdown",
   "metadata": {},
   "source": [
    "# sessionInfo"
   ]
  },
  {
   "cell_type": "code",
   "execution_count": 43,
   "metadata": {
    "ExecuteTime": {
     "end_time": "2019-11-22T15:05:18.530213Z",
     "start_time": "2019-11-22T15:05:14.647Z"
    }
   },
   "outputs": [
    {
     "data": {
      "text/plain": [
       "R version 3.4.1 (2017-06-30)\n",
       "Platform: x86_64-pc-linux-gnu (64-bit)\n",
       "Running under: Ubuntu 18.04.3 LTS\n",
       "\n",
       "Matrix products: default\n",
       "BLAS: /ebio/abt3_projects/software/miniconda3_gt4.4/envs/py3_physeq/lib/R/lib/libRblas.so\n",
       "LAPACK: /ebio/abt3_projects/software/miniconda3_gt4.4/envs/py3_physeq/lib/R/lib/libRlapack.so\n",
       "\n",
       "locale:\n",
       " [1] LC_CTYPE=en_US.UTF-8       LC_NUMERIC=C              \n",
       " [3] LC_TIME=en_US.UTF-8        LC_COLLATE=en_US.UTF-8    \n",
       " [5] LC_MONETARY=en_US.UTF-8    LC_MESSAGES=en_US.UTF-8   \n",
       " [7] LC_PAPER=en_US.UTF-8       LC_NAME=C                 \n",
       " [9] LC_ADDRESS=C               LC_TELEPHONE=C            \n",
       "[11] LC_MEASUREMENT=en_US.UTF-8 LC_IDENTIFICATION=C       \n",
       "\n",
       "attached base packages:\n",
       "[1] parallel  stats     graphics  grDevices utils     datasets  methods  \n",
       "[8] base     \n",
       "\n",
       "other attached packages:\n",
       "[1] bindrcpp_0.2.2    doParallel_1.0.11 iterators_1.0.10  foreach_1.4.4    \n",
       "[5] ggplot2_3.0.0     tidyr_0.8.1       dplyr_0.7.6      \n",
       "\n",
       "loaded via a namespace (and not attached):\n",
       " [1] Rcpp_0.12.17     pillar_1.2.2     compiler_3.4.1   plyr_1.8.4      \n",
       " [5] bindr_0.1.1      base64enc_0.1-3  tools_3.4.1      digest_0.6.15   \n",
       " [9] uuid_0.1-2       jsonlite_1.5     evaluate_0.10.1  tibble_1.4.2    \n",
       "[13] gtable_0.2.0     pkgconfig_2.0.1  rlang_0.2.1      IRdisplay_0.4.4 \n",
       "[17] IRkernel_0.8.12  repr_0.15.0      withr_2.1.1      stringr_1.3.1   \n",
       "[21] grid_3.4.1       tidyselect_0.2.4 glue_1.3.0       R6_2.2.2        \n",
       "[25] pbdZMQ_0.3-2     purrr_0.2.4      magrittr_1.5     codetools_0.2-15\n",
       "[29] scales_0.5.0     htmltools_0.3.6  assertthat_0.2.0 colorspace_1.3-2\n",
       "[33] stringi_1.2.3    lazyeval_0.2.1   munsell_0.5.0    crayon_1.3.4    "
      ]
     },
     "metadata": {},
     "output_type": "display_data"
    }
   ],
   "source": [
    "sessionInfo()"
   ]
  },
  {
   "cell_type": "code",
   "execution_count": 46,
   "metadata": {
    "ExecuteTime": {
     "end_time": "2019-11-22T15:05:50.158488Z",
     "start_time": "2019-11-22T15:05:49.929Z"
    }
   },
   "outputs": [
    {
     "name": "stdout",
     "output_type": "stream",
     "text": [
      "[![Travis-CI Build Status](https://travis-ci.org/leylabmpi/Struo.svg?branch=master)](https://travis-ci.org/leylabmpi/Struo)\n",
      "\n",
      "Struo\n",
      "=====\n",
      "\n",
      "**Struo:** a pipeline for building custom databases for common metagenome profilers\n",
      "\n",
      "> \"Struo\" --> from the Latin: “I build” or “I gather”\n",
      "\n",
      "\n",
      "\n",
      "--- conda envs ---\n",
      "==> /ebio/abt3_projects/databases_no-backup/bin/llmgp-db//bin/envs/kraken2.yaml <==\n",
      "channels: !!python/tuple\n",
      "- bioconda\n",
      "dependencies:\n",
      "- libiconv\n",
      "- bioconda::kraken2\n",
      "- bioconda::bracken\n",
      "\n",
      "\n",
      "==> /ebio/abt3_projects/databases_no-backup/bin/llmgp-db//bin/envs/humann2.yaml <==\n",
      "channels: !!python/tuple\n",
      "- bioconda\n",
      "dependencies:\n",
      "- pigz\n",
      "- bioconda::bowtie2\n",
      "- bioconda::vsearch\n",
      "- bioconda::prodigal\n",
      "- bioconda::diamond=0.8.36"
     ]
    }
   ],
   "source": [
    "pipelineInfo(pipeline_dir)"
   ]
  },
  {
   "cell_type": "code",
   "execution_count": null,
   "metadata": {},
   "outputs": [],
   "source": []
  }
 ],
 "metadata": {
  "kernelspec": {
   "display_name": "R [conda env:py3_physeq]",
   "language": "R",
   "name": "conda-env-py3_physeq-r"
  },
  "language_info": {
   "codemirror_mode": "r",
   "file_extension": ".r",
   "mimetype": "text/x-r-source",
   "name": "R",
   "pygments_lexer": "r",
   "version": "3.4.1"
  },
  "notify_time": "30",
  "toc": {
   "base_numbering": 1,
   "nav_menu": {},
   "number_sections": true,
   "sideBar": true,
   "skip_h1_title": false,
   "title_cell": "Table of Contents",
   "title_sidebar": "Contents",
   "toc_cell": true,
   "toc_position": {},
   "toc_section_display": true,
   "toc_window_display": true
  }
 },
 "nbformat": 4,
 "nbformat_minor": 2
}
