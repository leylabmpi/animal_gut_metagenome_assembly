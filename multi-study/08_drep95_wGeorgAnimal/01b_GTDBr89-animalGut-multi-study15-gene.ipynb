{
 "cells": [
  {
   "cell_type": "markdown",
   "metadata": {
    "toc": true
   },
   "source": [
    "<h1>Table of Contents<span class=\"tocSkip\"></span></h1>\n",
    "<div class=\"toc\"><ul class=\"toc-item\"><li><span><a href=\"#Goal\" data-toc-modified-id=\"Goal-1\"><span class=\"toc-item-num\">1&nbsp;&nbsp;</span>Goal</a></span></li><li><span><a href=\"#Var\" data-toc-modified-id=\"Var-2\"><span class=\"toc-item-num\">2&nbsp;&nbsp;</span>Var</a></span></li><li><span><a href=\"#Init\" data-toc-modified-id=\"Init-3\"><span class=\"toc-item-num\">3&nbsp;&nbsp;</span>Init</a></span></li><li><span><a href=\"#Load\" data-toc-modified-id=\"Load-4\"><span class=\"toc-item-num\">4&nbsp;&nbsp;</span>Load</a></span></li><li><span><a href=\"#Formatting-seq-data\" data-toc-modified-id=\"Formatting-seq-data-5\"><span class=\"toc-item-num\">5&nbsp;&nbsp;</span>Formatting seq data</a></span></li><li><span><a href=\"#Struo\" data-toc-modified-id=\"Struo-6\"><span class=\"toc-item-num\">6&nbsp;&nbsp;</span>Struo</a></span><ul class=\"toc-item\"><li><span><a href=\"#Run\" data-toc-modified-id=\"Run-6.1\"><span class=\"toc-item-num\">6.1&nbsp;&nbsp;</span>Run</a></span></li></ul></li><li><span><a href=\"#--WAITING--\" data-toc-modified-id=\"--WAITING---7\"><span class=\"toc-item-num\">7&nbsp;&nbsp;</span>--WAITING--</a></span></li><li><span><a href=\"#Summary\" data-toc-modified-id=\"Summary-8\"><span class=\"toc-item-num\">8&nbsp;&nbsp;</span>Summary</a></span></li><li><span><a href=\"#sessionInfo\" data-toc-modified-id=\"sessionInfo-9\"><span class=\"toc-item-num\">9&nbsp;&nbsp;</span>sessionInfo</a></span></li></ul></div>"
   ]
  },
  {
   "cell_type": "markdown",
   "metadata": {},
   "source": [
    "# Goal\n",
    "\n",
    "* Create `GTDBr89-animalGut-multi-study15-gene`, a Struo-created custom GTDB r89 database with MAGs + genes with the animal gut metagenome assemblies included\n",
    "  * number of studies = 15 (14 published + Georg Animal Gut)\n",
    "  * genomes:\n",
    "    * Genomes from GTDB Release 89 (30.08.2019) \n",
    "    * 95% ANI MAGs from all animal metagenome assemblies\n",
    "    * 50% seqID genes from all animal metagenome assemblies (PLASS assemblies)"
   ]
  },
  {
   "cell_type": "markdown",
   "metadata": {},
   "source": [
    "# Var"
   ]
  },
  {
   "cell_type": "code",
   "execution_count": 1,
   "metadata": {
    "ExecuteTime": {
     "end_time": "2019-11-18T18:28:42.717215Z",
     "start_time": "2019-11-18T18:28:42.262Z"
    }
   },
   "outputs": [],
   "source": [
    "work_dir = '/ebio/abt3_projects/databases_no-backup/GTDB/release89/LLMGP-DB/animalGut-multi-study15-gene/'\n",
    "\n",
    "# MAGs to add to the database\n",
    "MAGs_to_add_file = '/ebio/abt3_projects/Georg_animal_feces/data/metagenome/multi-study/BioProjects/summary/LLMGA/wGeorgAnimal/drep-0.95/drep-MAG_metadata_no-95ANI-hit-GTDBr89.tsv'\n",
    "# Genes to add to the database\n",
    "genes_nuc_file = '/ebio/abt3_projects/Georg_animal_feces/data/metagenome/multi-study/BioProjects/merged/linclust50/humann2_db/clusters_rep-seqs.fna.gz'\n",
    "genes_prot_file = '/ebio/abt3_projects/Georg_animal_feces/data/metagenome/multi-study/BioProjects/merged/linclust50/humann2_db/clusters_rep-seqs.faa.gz'\n",
    "# genomes in the custom GTDBr89 database (created by Struo)\n",
    "custom_db_file = '/ebio/abt3_projects/databases_no-backup/GTDB/release89/LLMGP-DB/metadata_1per-GTDB-Spec_gte50comp-lt5cont_wtaxID_wPath.tsv'\n",
    "\n",
    "# params\n",
    "threads = 24\n",
    "conda_env = 'py3_genome'\n",
    "pipeline_dir = '/ebio/abt3_projects/databases_no-backup/bin/llmgp-db/'"
   ]
  },
  {
   "cell_type": "markdown",
   "metadata": {},
   "source": [
    "# Init"
   ]
  },
  {
   "cell_type": "code",
   "execution_count": 2,
   "metadata": {
    "ExecuteTime": {
     "end_time": "2019-11-18T18:28:44.189468Z",
     "start_time": "2019-11-18T18:28:42.533Z"
    }
   },
   "outputs": [
    {
     "name": "stderr",
     "output_type": "stream",
     "text": [
      "\n",
      "Attaching package: ‘dplyr’\n",
      "\n",
      "The following objects are masked from ‘package:stats’:\n",
      "\n",
      "    filter, lag\n",
      "\n",
      "The following objects are masked from ‘package:base’:\n",
      "\n",
      "    intersect, setdiff, setequal, union\n",
      "\n",
      "Loading required package: foreach\n",
      "Loading required package: iterators\n",
      "Loading required package: parallel\n"
     ]
    }
   ],
   "source": [
    "library(dplyr)\n",
    "library(tidyr)\n",
    "library(ggplot2)\n",
    "library(doParallel)\n",
    "source('/ebio/abt3_projects/Georg_animal_feces/code/misc_r_functions/init.R')"
   ]
  },
  {
   "cell_type": "code",
   "execution_count": 3,
   "metadata": {
    "ExecuteTime": {
     "end_time": "2019-11-18T18:28:44.214188Z",
     "start_time": "2019-11-18T18:28:43.669Z"
    }
   },
   "outputs": [
    {
     "name": "stdout",
     "output_type": "stream",
     "text": [
      "Directory already exists: /ebio/abt3_projects/databases_no-backup/GTDB/release89/LLMGP-DB/animalGut-multi-study15-gene/ \n"
     ]
    }
   ],
   "source": [
    "make_dir(work_dir)"
   ]
  },
  {
   "cell_type": "markdown",
   "metadata": {},
   "source": [
    "# Load"
   ]
  },
  {
   "cell_type": "code",
   "execution_count": 4,
   "metadata": {
    "ExecuteTime": {
     "end_time": "2019-11-18T18:28:47.329609Z",
     "start_time": "2019-11-18T18:28:46.773Z"
    }
   },
   "outputs": [
    {
     "name": "stdout",
     "output_type": "stream",
     "text": [
      "[1] 1522   57\n"
     ]
    },
    {
     "data": {
      "text/html": [
       "<table>\n",
       "<thead><tr><th scope=col>binID</th><th scope=col>fasta.x</th><th scope=col>Marker.lineage</th><th scope=col>X..genomes</th><th scope=col>X..markers</th><th scope=col>X..marker.sets</th><th scope=col>Completeness</th><th scope=col>Contamination</th><th scope=col>Strain.heterogeneity</th><th scope=col>Genome.size..bp.</th><th scope=col>⋯</th><th scope=col>closest_placement_ani</th><th scope=col>closest_placement_af</th><th scope=col>pplacer_taxonomy</th><th scope=col>classification_method</th><th scope=col>note</th><th scope=col>aa_percent</th><th scope=col>translation_table</th><th scope=col>red_value</th><th scope=col>warnings</th><th scope=col>has_species_placement</th></tr></thead>\n",
       "<tbody>\n",
       "\t<tr><td>artificially_reared_1__metabat2_low_PE.002.contigs                                                                                                                                              </td><td>/ebio/abt3_projects/Georg_animal_feces/data//metagenome/multi-study/BioProjects/summary/LLMGA/wGeorgAnimal/drep-0.95/dereplicated_genomes/artificially_reared_1__metabat2_low_PE.002.contigs.fa </td><td>o__Bacteroidales (UID2657)                                                                                                                                                                      </td><td>160                                                                                                                                                                                             </td><td>491                                                                                                                                                                                             </td><td>268                                                                                                                                                                                             </td><td>92.92                                                                                                                                                                                           </td><td>3.00                                                                                                                                                                                            </td><td>28.57                                                                                                                                                                                           </td><td>3388189                                                                                                                                                                                         </td><td>⋯                                                                                                                                                                                               </td><td>85.72                                                                                                                                                                                           </td><td>0.61                                                                                                                                                                                            </td><td>d__Bacteria;p__Bacteroidota;c__Bacteroidia;o__Bacteroidales;f__Bacteroidaceae;g__Bacteroides_A;s__                                                                                              </td><td>Placement                                                                                                                                                                                       </td><td>taxonomic classification fully defined by topology                                                                                                                                              </td><td>93.33                                                                                                                                                                                           </td><td>11                                                                                                                                                                                              </td><td>0.985595897806                                                                                                                                                                                  </td><td>N/A                                                                                                                                                                                             </td><td>No match                                                                                                                                                                                        </td></tr>\n",
       "\t<tr><td>artificially_reared_2__maxbin2_low_prob.006.contigs                                                                                                                                             </td><td>/ebio/abt3_projects/Georg_animal_feces/data//metagenome/multi-study/BioProjects/summary/LLMGA/wGeorgAnimal/drep-0.95/dereplicated_genomes/artificially_reared_2__maxbin2_low_prob.006.contigs.fa</td><td>k__Bacteria (UID2569)                                                                                                                                                                           </td><td>434                                                                                                                                                                                             </td><td>278                                                                                                                                                                                             </td><td>186                                                                                                                                                                                             </td><td>88.60                                                                                                                                                                                           </td><td>1.11                                                                                                                                                                                            </td><td>50.00                                                                                                                                                                                           </td><td>2174315                                                                                                                                                                                         </td><td>⋯                                                                                                                                                                                               </td><td> 0.00                                                                                                                                                                                           </td><td>N/A                                                                                                                                                                                             </td><td>d__Bacteria;p__Bacteroidota;c__Bacteroidia;o__Bacteroidales;f__Paludibacteraceae;g__;s__                                                                                                        </td><td>Placement                                                                                                                                                                                       </td><td>taxonomic classification fully defined by topology                                                                                                                                              </td><td>90.20                                                                                                                                                                                           </td><td>11                                                                                                                                                                                              </td><td>0.836955988283                                                                                                                                                                                  </td><td>N/A                                                                                                                                                                                             </td><td>No match                                                                                                                                                                                        </td></tr>\n",
       "\t<tr><td>artificially_reared_2__metabat2_high_PE.035.contigs                                                                                                                                             </td><td>/ebio/abt3_projects/Georg_animal_feces/data//metagenome/multi-study/BioProjects/summary/LLMGA/wGeorgAnimal/drep-0.95/dereplicated_genomes/artificially_reared_2__metabat2_high_PE.035.contigs.fa</td><td>o__Bacteroidales (UID2657)                                                                                                                                                                      </td><td>160                                                                                                                                                                                             </td><td>491                                                                                                                                                                                             </td><td>268                                                                                                                                                                                             </td><td>97.45                                                                                                                                                                                           </td><td>0.62                                                                                                                                                                                            </td><td>66.67                                                                                                                                                                                           </td><td>3857403                                                                                                                                                                                         </td><td>⋯                                                                                                                                                                                               </td><td>80.56                                                                                                                                                                                           </td><td>0.32                                                                                                                                                                                            </td><td>d__Bacteria;p__Bacteroidota;c__Bacteroidia;o__Bacteroidales;f__Bacteroidaceae;g__Bacteroides_A;s__                                                                                              </td><td>Placement                                                                                                                                                                                       </td><td>taxonomic classification fully defined by topology                                                                                                                                              </td><td>95.99                                                                                                                                                                                           </td><td>11                                                                                                                                                                                              </td><td>0.969620821863                                                                                                                                                                                  </td><td>N/A                                                                                                                                                                                             </td><td>No match                                                                                                                                                                                        </td></tr>\n",
       "</tbody>\n",
       "</table>\n"
      ],
      "text/latex": [
       "\\begin{tabular}{r|lllllllllllllllllllllllllllllllllllllllllllllllllllllllll}\n",
       " binID & fasta.x & Marker.lineage & X..genomes & X..markers & X..marker.sets & Completeness & Contamination & Strain.heterogeneity & Genome.size..bp. & ⋯ & closest\\_placement\\_ani & closest\\_placement\\_af & pplacer\\_taxonomy & classification\\_method & note & aa\\_percent & translation\\_table & red\\_value & warnings & has\\_species\\_placement\\\\\n",
       "\\hline\n",
       "\t artificially\\_reared\\_1\\_\\_metabat2\\_low\\_PE.002.contigs                                                                                                                                                       & /ebio/abt3\\_projects/Georg\\_animal\\_feces/data//metagenome/multi-study/BioProjects/summary/LLMGA/wGeorgAnimal/drep-0.95/dereplicated\\_genomes/artificially\\_reared\\_1\\_\\_metabat2\\_low\\_PE.002.contigs.fa  & o\\_\\_Bacteroidales (UID2657)                                                                                                                                                                                       & 160                                                                                                                                                                                                                  & 491                                                                                                                                                                                                                  & 268                                                                                                                                                                                                                  & 92.92                                                                                                                                                                                                                & 3.00                                                                                                                                                                                                                 & 28.57                                                                                                                                                                                                                & 3388189                                                                                                                                                                                                              & ⋯                                                                                                                                                                                                                    & 85.72                                                                                                                                                                                                                & 0.61                                                                                                                                                                                                                 & d\\_\\_Bacteria;p\\_\\_Bacteroidota;c\\_\\_Bacteroidia;o\\_\\_Bacteroidales;f\\_\\_Bacteroidaceae;g\\_\\_Bacteroides\\_A;s\\_\\_                                                                                     & Placement                                                                                                                                                                                                            & taxonomic classification fully defined by topology                                                                                                                                                                   & 93.33                                                                                                                                                                                                                & 11                                                                                                                                                                                                                   & 0.985595897806                                                                                                                                                                                                       & N/A                                                                                                                                                                                                                  & No match                                                                                                                                                                                                            \\\\\n",
       "\t artificially\\_reared\\_2\\_\\_maxbin2\\_low\\_prob.006.contigs                                                                                                                                                      & /ebio/abt3\\_projects/Georg\\_animal\\_feces/data//metagenome/multi-study/BioProjects/summary/LLMGA/wGeorgAnimal/drep-0.95/dereplicated\\_genomes/artificially\\_reared\\_2\\_\\_maxbin2\\_low\\_prob.006.contigs.fa & k\\_\\_Bacteria (UID2569)                                                                                                                                                                                            & 434                                                                                                                                                                                                                  & 278                                                                                                                                                                                                                  & 186                                                                                                                                                                                                                  & 88.60                                                                                                                                                                                                                & 1.11                                                                                                                                                                                                                 & 50.00                                                                                                                                                                                                                & 2174315                                                                                                                                                                                                              & ⋯                                                                                                                                                                                                                    &  0.00                                                                                                                                                                                                                & N/A                                                                                                                                                                                                                  & d\\_\\_Bacteria;p\\_\\_Bacteroidota;c\\_\\_Bacteroidia;o\\_\\_Bacteroidales;f\\_\\_Paludibacteraceae;g\\_\\_;s\\_\\_                                                                                                 & Placement                                                                                                                                                                                                            & taxonomic classification fully defined by topology                                                                                                                                                                   & 90.20                                                                                                                                                                                                                & 11                                                                                                                                                                                                                   & 0.836955988283                                                                                                                                                                                                       & N/A                                                                                                                                                                                                                  & No match                                                                                                                                                                                                            \\\\\n",
       "\t artificially\\_reared\\_2\\_\\_metabat2\\_high\\_PE.035.contigs                                                                                                                                                      & /ebio/abt3\\_projects/Georg\\_animal\\_feces/data//metagenome/multi-study/BioProjects/summary/LLMGA/wGeorgAnimal/drep-0.95/dereplicated\\_genomes/artificially\\_reared\\_2\\_\\_metabat2\\_high\\_PE.035.contigs.fa & o\\_\\_Bacteroidales (UID2657)                                                                                                                                                                                       & 160                                                                                                                                                                                                                  & 491                                                                                                                                                                                                                  & 268                                                                                                                                                                                                                  & 97.45                                                                                                                                                                                                                & 0.62                                                                                                                                                                                                                 & 66.67                                                                                                                                                                                                                & 3857403                                                                                                                                                                                                              & ⋯                                                                                                                                                                                                                    & 80.56                                                                                                                                                                                                                & 0.32                                                                                                                                                                                                                 & d\\_\\_Bacteria;p\\_\\_Bacteroidota;c\\_\\_Bacteroidia;o\\_\\_Bacteroidales;f\\_\\_Bacteroidaceae;g\\_\\_Bacteroides\\_A;s\\_\\_                                                                                     & Placement                                                                                                                                                                                                            & taxonomic classification fully defined by topology                                                                                                                                                                   & 95.99                                                                                                                                                                                                                & 11                                                                                                                                                                                                                   & 0.969620821863                                                                                                                                                                                                       & N/A                                                                                                                                                                                                                  & No match                                                                                                                                                                                                            \\\\\n",
       "\\end{tabular}\n"
      ],
      "text/markdown": [
       "\n",
       "binID | fasta.x | Marker.lineage | X..genomes | X..markers | X..marker.sets | Completeness | Contamination | Strain.heterogeneity | Genome.size..bp. | ⋯ | closest_placement_ani | closest_placement_af | pplacer_taxonomy | classification_method | note | aa_percent | translation_table | red_value | warnings | has_species_placement | \n",
       "|---|---|---|\n",
       "| artificially_reared_1__metabat2_low_PE.002.contigs                                                                                                                                               | /ebio/abt3_projects/Georg_animal_feces/data//metagenome/multi-study/BioProjects/summary/LLMGA/wGeorgAnimal/drep-0.95/dereplicated_genomes/artificially_reared_1__metabat2_low_PE.002.contigs.fa  | o__Bacteroidales (UID2657)                                                                                                                                                                       | 160                                                                                                                                                                                              | 491                                                                                                                                                                                              | 268                                                                                                                                                                                              | 92.92                                                                                                                                                                                            | 3.00                                                                                                                                                                                             | 28.57                                                                                                                                                                                            | 3388189                                                                                                                                                                                          | ⋯                                                                                                                                                                                                | 85.72                                                                                                                                                                                            | 0.61                                                                                                                                                                                             | d__Bacteria;p__Bacteroidota;c__Bacteroidia;o__Bacteroidales;f__Bacteroidaceae;g__Bacteroides_A;s__                                                                                               | Placement                                                                                                                                                                                        | taxonomic classification fully defined by topology                                                                                                                                               | 93.33                                                                                                                                                                                            | 11                                                                                                                                                                                               | 0.985595897806                                                                                                                                                                                   | N/A                                                                                                                                                                                              | No match                                                                                                                                                                                         | \n",
       "| artificially_reared_2__maxbin2_low_prob.006.contigs                                                                                                                                              | /ebio/abt3_projects/Georg_animal_feces/data//metagenome/multi-study/BioProjects/summary/LLMGA/wGeorgAnimal/drep-0.95/dereplicated_genomes/artificially_reared_2__maxbin2_low_prob.006.contigs.fa | k__Bacteria (UID2569)                                                                                                                                                                            | 434                                                                                                                                                                                              | 278                                                                                                                                                                                              | 186                                                                                                                                                                                              | 88.60                                                                                                                                                                                            | 1.11                                                                                                                                                                                             | 50.00                                                                                                                                                                                            | 2174315                                                                                                                                                                                          | ⋯                                                                                                                                                                                                |  0.00                                                                                                                                                                                            | N/A                                                                                                                                                                                              | d__Bacteria;p__Bacteroidota;c__Bacteroidia;o__Bacteroidales;f__Paludibacteraceae;g__;s__                                                                                                         | Placement                                                                                                                                                                                        | taxonomic classification fully defined by topology                                                                                                                                               | 90.20                                                                                                                                                                                            | 11                                                                                                                                                                                               | 0.836955988283                                                                                                                                                                                   | N/A                                                                                                                                                                                              | No match                                                                                                                                                                                         | \n",
       "| artificially_reared_2__metabat2_high_PE.035.contigs                                                                                                                                              | /ebio/abt3_projects/Georg_animal_feces/data//metagenome/multi-study/BioProjects/summary/LLMGA/wGeorgAnimal/drep-0.95/dereplicated_genomes/artificially_reared_2__metabat2_high_PE.035.contigs.fa | o__Bacteroidales (UID2657)                                                                                                                                                                       | 160                                                                                                                                                                                              | 491                                                                                                                                                                                              | 268                                                                                                                                                                                              | 97.45                                                                                                                                                                                            | 0.62                                                                                                                                                                                             | 66.67                                                                                                                                                                                            | 3857403                                                                                                                                                                                          | ⋯                                                                                                                                                                                                | 80.56                                                                                                                                                                                            | 0.32                                                                                                                                                                                             | d__Bacteria;p__Bacteroidota;c__Bacteroidia;o__Bacteroidales;f__Bacteroidaceae;g__Bacteroides_A;s__                                                                                               | Placement                                                                                                                                                                                        | taxonomic classification fully defined by topology                                                                                                                                               | 95.99                                                                                                                                                                                            | 11                                                                                                                                                                                               | 0.969620821863                                                                                                                                                                                   | N/A                                                                                                                                                                                              | No match                                                                                                                                                                                         | \n",
       "\n",
       "\n"
      ],
      "text/plain": [
       "  binID                                              \n",
       "1 artificially_reared_1__metabat2_low_PE.002.contigs \n",
       "2 artificially_reared_2__maxbin2_low_prob.006.contigs\n",
       "3 artificially_reared_2__metabat2_high_PE.035.contigs\n",
       "  fasta.x                                                                                                                                                                                         \n",
       "1 /ebio/abt3_projects/Georg_animal_feces/data//metagenome/multi-study/BioProjects/summary/LLMGA/wGeorgAnimal/drep-0.95/dereplicated_genomes/artificially_reared_1__metabat2_low_PE.002.contigs.fa \n",
       "2 /ebio/abt3_projects/Georg_animal_feces/data//metagenome/multi-study/BioProjects/summary/LLMGA/wGeorgAnimal/drep-0.95/dereplicated_genomes/artificially_reared_2__maxbin2_low_prob.006.contigs.fa\n",
       "3 /ebio/abt3_projects/Georg_animal_feces/data//metagenome/multi-study/BioProjects/summary/LLMGA/wGeorgAnimal/drep-0.95/dereplicated_genomes/artificially_reared_2__metabat2_high_PE.035.contigs.fa\n",
       "  Marker.lineage             X..genomes X..markers X..marker.sets Completeness\n",
       "1 o__Bacteroidales (UID2657) 160        491        268            92.92       \n",
       "2 k__Bacteria (UID2569)      434        278        186            88.60       \n",
       "3 o__Bacteroidales (UID2657) 160        491        268            97.45       \n",
       "  Contamination Strain.heterogeneity Genome.size..bp. ⋯ closest_placement_ani\n",
       "1 3.00          28.57                3388189          ⋯ 85.72                \n",
       "2 1.11          50.00                2174315          ⋯  0.00                \n",
       "3 0.62          66.67                3857403          ⋯ 80.56                \n",
       "  closest_placement_af\n",
       "1 0.61                \n",
       "2 N/A                 \n",
       "3 0.32                \n",
       "  pplacer_taxonomy                                                                                  \n",
       "1 d__Bacteria;p__Bacteroidota;c__Bacteroidia;o__Bacteroidales;f__Bacteroidaceae;g__Bacteroides_A;s__\n",
       "2 d__Bacteria;p__Bacteroidota;c__Bacteroidia;o__Bacteroidales;f__Paludibacteraceae;g__;s__          \n",
       "3 d__Bacteria;p__Bacteroidota;c__Bacteroidia;o__Bacteroidales;f__Bacteroidaceae;g__Bacteroides_A;s__\n",
       "  classification_method note                                              \n",
       "1 Placement             taxonomic classification fully defined by topology\n",
       "2 Placement             taxonomic classification fully defined by topology\n",
       "3 Placement             taxonomic classification fully defined by topology\n",
       "  aa_percent translation_table red_value      warnings has_species_placement\n",
       "1 93.33      11                0.985595897806 N/A      No match             \n",
       "2 90.20      11                0.836955988283 N/A      No match             \n",
       "3 95.99      11                0.969620821863 N/A      No match             "
      ]
     },
     "metadata": {},
     "output_type": "display_data"
    }
   ],
   "source": [
    "MAG = read.delim(MAGs_to_add_file, sep='\\t')\n",
    "MAG %>% dfhead"
   ]
  },
  {
   "cell_type": "code",
   "execution_count": 5,
   "metadata": {
    "ExecuteTime": {
     "end_time": "2019-11-18T18:29:03.843263Z",
     "start_time": "2019-11-18T18:28:46.933Z"
    }
   },
   "outputs": [
    {
     "name": "stdout",
     "output_type": "stream",
     "text": [
      "[1] 23360   113\n"
     ]
    },
    {
     "data": {
      "text/html": [
       "<table>\n",
       "<thead><tr><th scope=col>ncbi_organism_name</th><th scope=col>accession</th><th scope=col>ambiguous_bases</th><th scope=col>checkm_completeness</th><th scope=col>checkm_contamination</th><th scope=col>checkm_marker_count</th><th scope=col>checkm_marker_lineage</th><th scope=col>checkm_marker_set_count</th><th scope=col>checkm_strain_heterogeneity</th><th scope=col>coding_bases</th><th scope=col>⋯</th><th scope=col>ssu_silva_blast_perc_identity</th><th scope=col>ssu_silva_blast_subject_id</th><th scope=col>ssu_silva_taxonomy</th><th scope=col>total_gap_length</th><th scope=col>trna_aa_count</th><th scope=col>trna_count</th><th scope=col>trna_selenocysteine_count</th><th scope=col>SPECIES</th><th scope=col>gtdb_taxid</th><th scope=col>fasta_file_path</th></tr></thead>\n",
       "<tbody>\n",
       "\t<tr><td>GB_GCA_002789635.1_Candidatus Aenigmarchaeota archaeon CG_4_9_14_3_um_filter_37_18                                                                </td><td>GB_GCA_002789635.1                                                                                                                                </td><td>0                                                                                                                                                 </td><td>79.44                                                                                                                                             </td><td>0.00                                                                                                                                              </td><td>149                                                                                                                                               </td><td>k__Archaea (UID2)                                                                                                                                 </td><td>107                                                                                                                                               </td><td>  0                                                                                                                                               </td><td>794970                                                                                                                                            </td><td>⋯                                                                                                                                                 </td><td>92.65                                                                                                                                             </td><td>KC604554.1.911                                                                                                                                    </td><td>Archaea;Aenigmarchaeota;Deep Sea Euryarchaeotic Group(DSEG);uncultured archaeon                                                                   </td><td> 377                                                                                                                                              </td><td>19                                                                                                                                                </td><td>35                                                                                                                                                </td><td>0                                                                                                                                                 </td><td>CG10238-14 sp002789635                                                                                                                            </td><td> 599                                                                                                                                              </td><td>/ebio/abt3_projects/databases_no-backup/GTDB/release89/LLMGP-DB/genomes/genbank/archaea/GCA_002789635.1/GCA_002789635.1_ASM278963v1_genomic.fna.gz</td></tr>\n",
       "\t<tr><td>GB_GCA_001784635.1_Candidatus Micrarchaeota archaeon RBG_16_49_10                                                                                 </td><td>GB_GCA_001784635.1                                                                                                                                </td><td>0                                                                                                                                                 </td><td>74.92                                                                                                                                             </td><td>0.00                                                                                                                                              </td><td>149                                                                                                                                               </td><td>k__Archaea (UID2)                                                                                                                                 </td><td>107                                                                                                                                               </td><td>  0                                                                                                                                               </td><td>773516                                                                                                                                            </td><td>⋯                                                                                                                                                 </td><td>92.41                                                                                                                                             </td><td>FJ685741.1.1439                                                                                                                                   </td><td>Archaea;Aenigmarchaeota;Deep Sea Euryarchaeotic Group(DSEG);uncultured archaeon                                                                   </td><td>6772                                                                                                                                              </td><td>18                                                                                                                                                </td><td>36                                                                                                                                                </td><td>0                                                                                                                                                 </td><td>RBG-16-49-10 sp001784635                                                                                                                          </td><td>3320                                                                                                                                              </td><td>/ebio/abt3_projects/databases_no-backup/GTDB/release89/LLMGP-DB/genomes/genbank/archaea/GCA_001784635.1/GCA_001784635.1_ASM178463v1_genomic.fna.gz</td></tr>\n",
       "\t<tr><td>GB_GCA_002254545.1_Candidatus Aenigmarchaeota archaeon ex4484_224                                                                                 </td><td>GB_GCA_002254545.1                                                                                                                                </td><td>0                                                                                                                                                 </td><td>68.22                                                                                                                                             </td><td>0.47                                                                                                                                              </td><td>149                                                                                                                                               </td><td>k__Archaea (UID2)                                                                                                                                 </td><td>107                                                                                                                                               </td><td>100                                                                                                                                               </td><td>454209                                                                                                                                            </td><td>⋯                                                                                                                                                 </td><td>78.954                                                                                                                                            </td><td>AB301866.1.959                                                                                                                                    </td><td>Archaea;Aenigmarchaeota;Aenigmarchaeota Incertae Sedis;Unknown Order;Unknown Family;Candidatus Aenigmarchaeum;uncultured euryarchaeote            </td><td>   0                                                                                                                                              </td><td>18                                                                                                                                                </td><td>25                                                                                                                                                </td><td>0                                                                                                                                                 </td><td>EX4484-224 sp002254545                                                                                                                            </td><td>4414                                                                                                                                              </td><td>/ebio/abt3_projects/databases_no-backup/GTDB/release89/LLMGP-DB/genomes/genbank/archaea/GCA_002254545.1/GCA_002254545.1_ASM225454v1_genomic.fna.gz</td></tr>\n",
       "</tbody>\n",
       "</table>\n"
      ],
      "text/latex": [
       "\\begin{tabular}{r|lllllllllllllllllllllllllllllllllllllllllllllllllllllllllllllllllllllllllllllllllllllllllllllllllllllllllllllllll}\n",
       " ncbi\\_organism\\_name & accession & ambiguous\\_bases & checkm\\_completeness & checkm\\_contamination & checkm\\_marker\\_count & checkm\\_marker\\_lineage & checkm\\_marker\\_set\\_count & checkm\\_strain\\_heterogeneity & coding\\_bases & ⋯ & ssu\\_silva\\_blast\\_perc\\_identity & ssu\\_silva\\_blast\\_subject\\_id & ssu\\_silva\\_taxonomy & total\\_gap\\_length & trna\\_aa\\_count & trna\\_count & trna\\_selenocysteine\\_count & SPECIES & gtdb\\_taxid & fasta\\_file\\_path\\\\\n",
       "\\hline\n",
       "\t GB\\_GCA\\_002789635.1\\_Candidatus Aenigmarchaeota archaeon CG\\_4\\_9\\_14\\_3\\_um\\_filter\\_37\\_18                                                       & GB\\_GCA\\_002789635.1                                                                                                                                         & 0                                                                                                                                                              & 79.44                                                                                                                                                          & 0.00                                                                                                                                                           & 149                                                                                                                                                            & k\\_\\_Archaea (UID2)                                                                                                                                          & 107                                                                                                                                                            &   0                                                                                                                                                            & 794970                                                                                                                                                         & ⋯                                                                                                                                                              & 92.65                                                                                                                                                          & KC604554.1.911                                                                                                                                                 & Archaea;Aenigmarchaeota;Deep Sea Euryarchaeotic Group(DSEG);uncultured archaeon                                                                                &  377                                                                                                                                                           & 19                                                                                                                                                             & 35                                                                                                                                                             & 0                                                                                                                                                              & CG10238-14 sp002789635                                                                                                                                         &  599                                                                                                                                                           & /ebio/abt3\\_projects/databases\\_no-backup/GTDB/release89/LLMGP-DB/genomes/genbank/archaea/GCA\\_002789635.1/GCA\\_002789635.1\\_ASM278963v1\\_genomic.fna.gz\\\\\n",
       "\t GB\\_GCA\\_001784635.1\\_Candidatus Micrarchaeota archaeon RBG\\_16\\_49\\_10                                                                                  & GB\\_GCA\\_001784635.1                                                                                                                                         & 0                                                                                                                                                              & 74.92                                                                                                                                                          & 0.00                                                                                                                                                           & 149                                                                                                                                                            & k\\_\\_Archaea (UID2)                                                                                                                                          & 107                                                                                                                                                            &   0                                                                                                                                                            & 773516                                                                                                                                                         & ⋯                                                                                                                                                              & 92.41                                                                                                                                                          & FJ685741.1.1439                                                                                                                                                & Archaea;Aenigmarchaeota;Deep Sea Euryarchaeotic Group(DSEG);uncultured archaeon                                                                                & 6772                                                                                                                                                           & 18                                                                                                                                                             & 36                                                                                                                                                             & 0                                                                                                                                                              & RBG-16-49-10 sp001784635                                                                                                                                       & 3320                                                                                                                                                           & /ebio/abt3\\_projects/databases\\_no-backup/GTDB/release89/LLMGP-DB/genomes/genbank/archaea/GCA\\_001784635.1/GCA\\_001784635.1\\_ASM178463v1\\_genomic.fna.gz\\\\\n",
       "\t GB\\_GCA\\_002254545.1\\_Candidatus Aenigmarchaeota archaeon ex4484\\_224                                                                                      & GB\\_GCA\\_002254545.1                                                                                                                                         & 0                                                                                                                                                              & 68.22                                                                                                                                                          & 0.47                                                                                                                                                           & 149                                                                                                                                                            & k\\_\\_Archaea (UID2)                                                                                                                                          & 107                                                                                                                                                            & 100                                                                                                                                                            & 454209                                                                                                                                                         & ⋯                                                                                                                                                              & 78.954                                                                                                                                                         & AB301866.1.959                                                                                                                                                 & Archaea;Aenigmarchaeota;Aenigmarchaeota Incertae Sedis;Unknown Order;Unknown Family;Candidatus Aenigmarchaeum;uncultured euryarchaeote                         &    0                                                                                                                                                           & 18                                                                                                                                                             & 25                                                                                                                                                             & 0                                                                                                                                                              & EX4484-224 sp002254545                                                                                                                                         & 4414                                                                                                                                                           & /ebio/abt3\\_projects/databases\\_no-backup/GTDB/release89/LLMGP-DB/genomes/genbank/archaea/GCA\\_002254545.1/GCA\\_002254545.1\\_ASM225454v1\\_genomic.fna.gz\\\\\n",
       "\\end{tabular}\n"
      ],
      "text/markdown": [
       "\n",
       "ncbi_organism_name | accession | ambiguous_bases | checkm_completeness | checkm_contamination | checkm_marker_count | checkm_marker_lineage | checkm_marker_set_count | checkm_strain_heterogeneity | coding_bases | ⋯ | ssu_silva_blast_perc_identity | ssu_silva_blast_subject_id | ssu_silva_taxonomy | total_gap_length | trna_aa_count | trna_count | trna_selenocysteine_count | SPECIES | gtdb_taxid | fasta_file_path | \n",
       "|---|---|---|\n",
       "| GB_GCA_002789635.1_Candidatus Aenigmarchaeota archaeon CG_4_9_14_3_um_filter_37_18                                                                 | GB_GCA_002789635.1                                                                                                                                 | 0                                                                                                                                                  | 79.44                                                                                                                                              | 0.00                                                                                                                                               | 149                                                                                                                                                | k__Archaea (UID2)                                                                                                                                  | 107                                                                                                                                                |   0                                                                                                                                                | 794970                                                                                                                                             | ⋯                                                                                                                                                  | 92.65                                                                                                                                              | KC604554.1.911                                                                                                                                     | Archaea;Aenigmarchaeota;Deep Sea Euryarchaeotic Group(DSEG);uncultured archaeon                                                                    |  377                                                                                                                                               | 19                                                                                                                                                 | 35                                                                                                                                                 | 0                                                                                                                                                  | CG10238-14 sp002789635                                                                                                                             |  599                                                                                                                                               | /ebio/abt3_projects/databases_no-backup/GTDB/release89/LLMGP-DB/genomes/genbank/archaea/GCA_002789635.1/GCA_002789635.1_ASM278963v1_genomic.fna.gz | \n",
       "| GB_GCA_001784635.1_Candidatus Micrarchaeota archaeon RBG_16_49_10                                                                                  | GB_GCA_001784635.1                                                                                                                                 | 0                                                                                                                                                  | 74.92                                                                                                                                              | 0.00                                                                                                                                               | 149                                                                                                                                                | k__Archaea (UID2)                                                                                                                                  | 107                                                                                                                                                |   0                                                                                                                                                | 773516                                                                                                                                             | ⋯                                                                                                                                                  | 92.41                                                                                                                                              | FJ685741.1.1439                                                                                                                                    | Archaea;Aenigmarchaeota;Deep Sea Euryarchaeotic Group(DSEG);uncultured archaeon                                                                    | 6772                                                                                                                                               | 18                                                                                                                                                 | 36                                                                                                                                                 | 0                                                                                                                                                  | RBG-16-49-10 sp001784635                                                                                                                           | 3320                                                                                                                                               | /ebio/abt3_projects/databases_no-backup/GTDB/release89/LLMGP-DB/genomes/genbank/archaea/GCA_001784635.1/GCA_001784635.1_ASM178463v1_genomic.fna.gz | \n",
       "| GB_GCA_002254545.1_Candidatus Aenigmarchaeota archaeon ex4484_224                                                                                  | GB_GCA_002254545.1                                                                                                                                 | 0                                                                                                                                                  | 68.22                                                                                                                                              | 0.47                                                                                                                                               | 149                                                                                                                                                | k__Archaea (UID2)                                                                                                                                  | 107                                                                                                                                                | 100                                                                                                                                                | 454209                                                                                                                                             | ⋯                                                                                                                                                  | 78.954                                                                                                                                             | AB301866.1.959                                                                                                                                     | Archaea;Aenigmarchaeota;Aenigmarchaeota Incertae Sedis;Unknown Order;Unknown Family;Candidatus Aenigmarchaeum;uncultured euryarchaeote             |    0                                                                                                                                               | 18                                                                                                                                                 | 25                                                                                                                                                 | 0                                                                                                                                                  | EX4484-224 sp002254545                                                                                                                             | 4414                                                                                                                                               | /ebio/abt3_projects/databases_no-backup/GTDB/release89/LLMGP-DB/genomes/genbank/archaea/GCA_002254545.1/GCA_002254545.1_ASM225454v1_genomic.fna.gz | \n",
       "\n",
       "\n"
      ],
      "text/plain": [
       "  ncbi_organism_name                                                                \n",
       "1 GB_GCA_002789635.1_Candidatus Aenigmarchaeota archaeon CG_4_9_14_3_um_filter_37_18\n",
       "2 GB_GCA_001784635.1_Candidatus Micrarchaeota archaeon RBG_16_49_10                 \n",
       "3 GB_GCA_002254545.1_Candidatus Aenigmarchaeota archaeon ex4484_224                 \n",
       "  accession          ambiguous_bases checkm_completeness checkm_contamination\n",
       "1 GB_GCA_002789635.1 0               79.44               0.00                \n",
       "2 GB_GCA_001784635.1 0               74.92               0.00                \n",
       "3 GB_GCA_002254545.1 0               68.22               0.47                \n",
       "  checkm_marker_count checkm_marker_lineage checkm_marker_set_count\n",
       "1 149                 k__Archaea (UID2)     107                    \n",
       "2 149                 k__Archaea (UID2)     107                    \n",
       "3 149                 k__Archaea (UID2)     107                    \n",
       "  checkm_strain_heterogeneity coding_bases ⋯ ssu_silva_blast_perc_identity\n",
       "1   0                         794970       ⋯ 92.65                        \n",
       "2   0                         773516       ⋯ 92.41                        \n",
       "3 100                         454209       ⋯ 78.954                       \n",
       "  ssu_silva_blast_subject_id\n",
       "1 KC604554.1.911            \n",
       "2 FJ685741.1.1439           \n",
       "3 AB301866.1.959            \n",
       "  ssu_silva_taxonomy                                                                                                                    \n",
       "1 Archaea;Aenigmarchaeota;Deep Sea Euryarchaeotic Group(DSEG);uncultured archaeon                                                       \n",
       "2 Archaea;Aenigmarchaeota;Deep Sea Euryarchaeotic Group(DSEG);uncultured archaeon                                                       \n",
       "3 Archaea;Aenigmarchaeota;Aenigmarchaeota Incertae Sedis;Unknown Order;Unknown Family;Candidatus Aenigmarchaeum;uncultured euryarchaeote\n",
       "  total_gap_length trna_aa_count trna_count trna_selenocysteine_count\n",
       "1  377             19            35         0                        \n",
       "2 6772             18            36         0                        \n",
       "3    0             18            25         0                        \n",
       "  SPECIES                  gtdb_taxid\n",
       "1 CG10238-14 sp002789635    599      \n",
       "2 RBG-16-49-10 sp001784635 3320      \n",
       "3 EX4484-224 sp002254545   4414      \n",
       "  fasta_file_path                                                                                                                                   \n",
       "1 /ebio/abt3_projects/databases_no-backup/GTDB/release89/LLMGP-DB/genomes/genbank/archaea/GCA_002789635.1/GCA_002789635.1_ASM278963v1_genomic.fna.gz\n",
       "2 /ebio/abt3_projects/databases_no-backup/GTDB/release89/LLMGP-DB/genomes/genbank/archaea/GCA_001784635.1/GCA_001784635.1_ASM178463v1_genomic.fna.gz\n",
       "3 /ebio/abt3_projects/databases_no-backup/GTDB/release89/LLMGP-DB/genomes/genbank/archaea/GCA_002254545.1/GCA_002254545.1_ASM225454v1_genomic.fna.gz"
      ]
     },
     "metadata": {},
     "output_type": "display_data"
    }
   ],
   "source": [
    "custom_db = read.delim(custom_db_file, sep='\\t')\n",
    "custom_db %>% dfhead"
   ]
  },
  {
   "cell_type": "markdown",
   "metadata": {},
   "source": [
    "# Formatting seq data\n",
    "\n",
    "* the LLMGP GTDBr89 database uses GTDB taxIDs, but the LLMGAG-generated genes have NCBI taxIDs\n",
    "* renaming sequencs so that the NCBI & GTDB taxIDs can be separated"
   ]
  },
  {
   "cell_type": "markdown",
   "metadata": {
    "ExecuteTime": {
     "end_time": "2019-11-18T18:33:05.872111Z",
     "start_time": "2019-11-18T18:33:05.828Z"
    }
   },
   "source": [
    "```\n",
    "@ rick:/ebio/abt3_projects/Georg_animal_feces/data/metagenome/multi-study/BioProjects/merged/linclust50/humann2_db\n",
    "\n",
    "gunzip -c clusters_rep-seqs.fna.gz | perl -pe 's/taxID/NCBItaxID/' | gzip -c > clusters_rep-seqs_rn.fna.gz\n",
    "gunzip -c clusters_rep-seqs.faa.gz | perl -pe 's/taxID/NCBItaxID/' | gzip -c > clusters_rep-seqs_rn.faa.gz\n",
    "```"
   ]
  },
  {
   "cell_type": "markdown",
   "metadata": {},
   "source": [
    "# Struo\n",
    "\n",
    "* creating the custom database\n",
    "* Struo = \"llmgp-db\""
   ]
  },
  {
   "cell_type": "code",
   "execution_count": 7,
   "metadata": {
    "ExecuteTime": {
     "end_time": "2019-11-18T18:33:12.426079Z",
     "start_time": "2019-11-18T18:33:12.368Z"
    }
   },
   "outputs": [
    {
     "name": "stdout",
     "output_type": "stream",
     "text": [
      "#-- I/O --#\n",
      "# file listing samples and associated data\n",
      "samples_file: /ebio/abt3_projects/databases_no-backup/GTDB/release89/LLMGP-DB/animalGut-multi-study15/GTDBr89-animalGut-multi-study15.tsv\n",
      "\n",
      "## column names in samples table\n",
      "samples_col: 'ncbi_organism_name'\n",
      "fasta_file_path_col: 'fasta_file_path'\n",
      "taxID_col: 'gtdb_taxid'\n",
      "taxonomy_col: 'gtdb_taxonomy'\n",
      "\n",
      "# output location\n",
      "output_dir: /ebio/abt3_projects/databases_no-backup/GTDB/release89/LLMGP-DB/\n",
      "\n",
      "#-- databases to create --#\n",
      "# Replace \"Create\" with \"Skip\" to skip creation of any of these\n",
      "# Note that braken relies on the kraken2 database\n",
      "databases:\n",
      "  kraken2: Create\n",
      "  bracken: Create\n",
      "  humann2_bowtie2: Create\n",
      "  humann2_diamond: Create\n",
      "\n",
      "# output database name\n",
      "db_name: 'GTDBr89-AgMs15g'\n",
      "\n",
      "#-- keep intermediate files required for re-creating DBs (eg., w/ more genomes) --#\n",
      "# If \"True\", the intermediate files are saved to `output_dir`\n",
      "# Else, the intermediate files are temporarily stored in `temp_folder`\n",
      "keep_intermediate: True\n",
      "use_ancient: True\n",
      "\n",
      "#-- if custom NCBI taxdump files (or just Skip) --#\n",
      "names_dmp: /ebio/abt3_projects/databases_no-backup/GTDB/release89/LLMGP-DB/animalGut-multi-study15/taxdump/names.dmp\n",
      "nodes_dmp: /ebio/abt3_projects/databases_no-backup/GTDB/release89/LLMGP-DB/animalGut-multi-study15/taxdump/nodes.dmp\n",
      "\n",
      "#-- software parameters --#\n",
      "# `vsearch_per_genome` = per-genome gene clustering\n",
      "# `vsearch_all` = all genes clustered (including `humann2_nuc_seqs` & `humann2_prot_seqs`)\n",
      "params:\n",
      "  bracken_build_kmer: 35\n",
      "  bracken_build_read_lens:\n",
      "    - 100\n",
      "    - 150\n",
      "  prodigal: \"\"\n",
      "  diamond_db: /ebio/abt3_projects/databases_no-backup/humann2/uniref50/uniref50_annotated.1.1.dmnd\n",
      "  diamond_db_to_mem: True\n",
      "  diamond: --evalue 1e-3 --sensitive --max-target-seqs 20 --block-size 3 --index-chunks 2\n",
      "  vsearch_per_genome: --id 0.97 --strand both --qmask none --fasta_width 0\n",
      "  vsearch_all: Skip #--id 1.0 --strand both --qmask none --fasta_width 0\n",
      "\n",
      "#-- If adding genes to humann2 database --#\n",
      "# If you have nucleotid and/or protein gene sequences formatted for humann2,\n",
      "# provide the file paths to the fasta files below (gzip'ed)\n",
      "humann2_nuc_seqs: /ebio/abt3_projects/Georg_animal_feces/data/metagenome/multi-study/BioProjects/merged/linclust50/humann2_db/clusters_rep-seqs_rn.fna.gz\n",
      "humann2_prot_seqs: /ebio/abt3_projects/Georg_animal_feces/data/metagenome/multi-study/BioProjects/merged/linclust50/humann2_db/clusters_rep-seqs_rn.faa.gz\n",
      "\n",
      "#-- snakemake pipeline --#\n",
      "pipeline:\n",
      "  snakemake_folder: ./\n",
      "  script_folder: ./bin/scripts/\n",
      "  temp_folder: /tmp/global/     # your username will be added automatically to this path"
     ]
    }
   ],
   "source": [
    "config_file = '/ebio/abt3_projects/databases_no-backup/GTDB/release89/LLMGP-DB/animalGut-multi-study15-gene/config.yaml'\n",
    "cat_file(config_file)"
   ]
  },
  {
   "cell_type": "markdown",
   "metadata": {},
   "source": [
    "## Run"
   ]
  },
  {
   "cell_type": "markdown",
   "metadata": {},
   "source": [
    "```\n",
    "(snakemake_dev) @ rick:/ebio/abt3_projects/databases_no-backup/bin/llmgp-db\n",
    "$ screen -L -S llmgp-db-AgMs15g ./snakemake_sge.sh /ebio/abt3_projects/databases_no-backup/GTDB/release89/LLMGP-DB/animalGut-multi-study15-gene/config.yaml cluster.json /ebio/abt3_projects/databases_no-backup/GTDB/release89/LLMGP-DB/animalGut-multi-study15-gene/SGE_log/ 200\n",
    "```"
   ]
  },
  {
   "cell_type": "markdown",
   "metadata": {},
   "source": [
    "# Summary"
   ]
  },
  {
   "cell_type": "code",
   "execution_count": 8,
   "metadata": {
    "ExecuteTime": {
     "end_time": "2019-11-22T15:05:27.075633Z",
     "start_time": "2019-11-22T15:05:26.888Z"
    }
   },
   "outputs": [
    {
     "data": {
      "text/html": [
       "<table>\n",
       "<thead><tr><th></th><th scope=col>size</th><th scope=col>isdir</th><th scope=col>mode</th><th scope=col>mtime</th><th scope=col>ctime</th><th scope=col>atime</th><th scope=col>uid</th><th scope=col>gid</th><th scope=col>uname</th><th scope=col>grname</th></tr></thead>\n",
       "<tbody>\n",
       "\t<tr><th scope=row>/ebio/abt3_projects/databases_no-backup/GTDB/release89/LLMGP-DB/kraken2/GTDBr89-AgMs15g//added</th><td>     1712128       </td><td> TRUE              </td><td>2755               </td><td>2019-11-20 01:10:21</td><td>2019-11-20 01:10:21</td><td>2019-11-18 21:23:10</td><td>6354               </td><td>353                </td><td>nyoungblut         </td><td>abt3               </td></tr>\n",
       "\t<tr><th scope=row>/ebio/abt3_projects/databases_no-backup/GTDB/release89/LLMGP-DB/kraken2/GTDBr89-AgMs15g//database.kraken</th><td> 31136378445       </td><td>FALSE              </td><td>0644               </td><td>2019-11-20 05:58:12</td><td>2019-11-20 05:58:12</td><td>2019-11-20 05:42:31</td><td>6354               </td><td>353                </td><td>nyoungblut         </td><td>abt3               </td></tr>\n",
       "\t<tr><th scope=row>/ebio/abt3_projects/databases_no-backup/GTDB/release89/LLMGP-DB/kraken2/GTDBr89-AgMs15g//database100mers.kmer_distrib</th><td>     3897241       </td><td>FALSE              </td><td>0644               </td><td>2019-11-20 06:43:48</td><td>2019-11-20 06:43:48</td><td>2019-11-20 06:43:48</td><td>6354               </td><td>353                </td><td>nyoungblut         </td><td>abt3               </td></tr>\n",
       "\t<tr><th scope=row>/ebio/abt3_projects/databases_no-backup/GTDB/release89/LLMGP-DB/kraken2/GTDBr89-AgMs15g//database100mers.kraken</th><td>   199775729       </td><td>FALSE              </td><td>0644               </td><td>2019-11-20 06:43:48</td><td>2019-11-20 06:43:48</td><td>2019-11-20 06:43:48</td><td>6354               </td><td>353                </td><td>nyoungblut         </td><td>abt3               </td></tr>\n",
       "\t<tr><th scope=row>/ebio/abt3_projects/databases_no-backup/GTDB/release89/LLMGP-DB/kraken2/GTDBr89-AgMs15g//database150mers.kmer_distrib</th><td>          59       </td><td>FALSE              </td><td>0644               </td><td>2019-11-20 05:42:06</td><td>2019-11-20 05:42:06</td><td>2019-11-20 05:42:06</td><td>6354               </td><td>353                </td><td>nyoungblut         </td><td>abt3               </td></tr>\n",
       "\t<tr><th scope=row>/ebio/abt3_projects/databases_no-backup/GTDB/release89/LLMGP-DB/kraken2/GTDBr89-AgMs15g//database150mers.kraken</th><td>           0       </td><td>FALSE              </td><td>0644               </td><td>2019-11-20 05:42:06</td><td>2019-11-20 05:42:06</td><td>2019-11-20 05:42:06</td><td>6354               </td><td>353                </td><td>nyoungblut         </td><td>abt3               </td></tr>\n",
       "\t<tr><th scope=row>/ebio/abt3_projects/databases_no-backup/GTDB/release89/LLMGP-DB/kraken2/GTDBr89-AgMs15g//hash.k2d</th><td>133367417448       </td><td>FALSE              </td><td>0644               </td><td>2019-11-20 05:39:56</td><td>2019-11-20 05:39:56</td><td>2019-11-20 05:39:56</td><td>6354               </td><td>353                </td><td>nyoungblut         </td><td>abt3               </td></tr>\n",
       "\t<tr><th scope=row>/ebio/abt3_projects/databases_no-backup/GTDB/release89/LLMGP-DB/kraken2/GTDBr89-AgMs15g//library</th><td>          27       </td><td> TRUE              </td><td>2755               </td><td>2019-11-18 21:23:13</td><td>2019-11-18 21:23:13</td><td>2019-11-18 21:23:13</td><td>6354               </td><td>353                </td><td>nyoungblut         </td><td>abt3               </td></tr>\n",
       "\t<tr><th scope=row>/ebio/abt3_projects/databases_no-backup/GTDB/release89/LLMGP-DB/kraken2/GTDBr89-AgMs15g//opts.k2d</th><td>          56       </td><td>FALSE              </td><td>0644               </td><td>2019-11-20 05:39:56</td><td>2019-11-20 05:39:56</td><td>2019-11-20 05:39:56</td><td>6354               </td><td>353                </td><td>nyoungblut         </td><td>abt3               </td></tr>\n",
       "\t<tr><th scope=row>/ebio/abt3_projects/databases_no-backup/GTDB/release89/LLMGP-DB/kraken2/GTDBr89-AgMs15g//seqid2taxid.map</th><td>   106983895       </td><td>FALSE              </td><td>0644               </td><td>2019-11-20 05:39:56</td><td>2019-11-20 05:39:56</td><td>2019-11-20 05:39:56</td><td>6354               </td><td>353                </td><td>nyoungblut         </td><td>abt3               </td></tr>\n",
       "\t<tr><th scope=row>/ebio/abt3_projects/databases_no-backup/GTDB/release89/LLMGP-DB/kraken2/GTDBr89-AgMs15g//taxo.k2d</th><td>     4733624       </td><td>FALSE              </td><td>0644               </td><td>2019-11-20 05:39:56</td><td>2019-11-20 05:39:56</td><td>2019-11-20 05:39:56</td><td>6354               </td><td>353                </td><td>nyoungblut         </td><td>abt3               </td></tr>\n",
       "\t<tr><th scope=row>/ebio/abt3_projects/databases_no-backup/GTDB/release89/LLMGP-DB/kraken2/GTDBr89-AgMs15g//taxonomy</th><td>          78       </td><td> TRUE              </td><td>2755               </td><td>2019-11-20 01:12:11</td><td>2019-11-20 01:12:11</td><td>2019-11-18 21:22:13</td><td>6354               </td><td>353                </td><td>nyoungblut         </td><td>abt3               </td></tr>\n",
       "</tbody>\n",
       "</table>\n"
      ],
      "text/latex": [
       "\\begin{tabular}{r|llllllllll}\n",
       "  & size & isdir & mode & mtime & ctime & atime & uid & gid & uname & grname\\\\\n",
       "\\hline\n",
       "\t/ebio/abt3\\_projects/databases\\_no-backup/GTDB/release89/LLMGP-DB/kraken2/GTDBr89-AgMs15g//added &      1712128        &  TRUE               & 2755                & 2019-11-20 01:10:21 & 2019-11-20 01:10:21 & 2019-11-18 21:23:10 & 6354                & 353                 & nyoungblut          & abt3               \\\\\n",
       "\t/ebio/abt3\\_projects/databases\\_no-backup/GTDB/release89/LLMGP-DB/kraken2/GTDBr89-AgMs15g//database.kraken &  31136378445        & FALSE               & 0644                & 2019-11-20 05:58:12 & 2019-11-20 05:58:12 & 2019-11-20 05:42:31 & 6354                & 353                 & nyoungblut          & abt3               \\\\\n",
       "\t/ebio/abt3\\_projects/databases\\_no-backup/GTDB/release89/LLMGP-DB/kraken2/GTDBr89-AgMs15g//database100mers.kmer\\_distrib &      3897241        & FALSE               & 0644                & 2019-11-20 06:43:48 & 2019-11-20 06:43:48 & 2019-11-20 06:43:48 & 6354                & 353                 & nyoungblut          & abt3               \\\\\n",
       "\t/ebio/abt3\\_projects/databases\\_no-backup/GTDB/release89/LLMGP-DB/kraken2/GTDBr89-AgMs15g//database100mers.kraken &    199775729        & FALSE               & 0644                & 2019-11-20 06:43:48 & 2019-11-20 06:43:48 & 2019-11-20 06:43:48 & 6354                & 353                 & nyoungblut          & abt3               \\\\\n",
       "\t/ebio/abt3\\_projects/databases\\_no-backup/GTDB/release89/LLMGP-DB/kraken2/GTDBr89-AgMs15g//database150mers.kmer\\_distrib &           59        & FALSE               & 0644                & 2019-11-20 05:42:06 & 2019-11-20 05:42:06 & 2019-11-20 05:42:06 & 6354                & 353                 & nyoungblut          & abt3               \\\\\n",
       "\t/ebio/abt3\\_projects/databases\\_no-backup/GTDB/release89/LLMGP-DB/kraken2/GTDBr89-AgMs15g//database150mers.kraken &            0        & FALSE               & 0644                & 2019-11-20 05:42:06 & 2019-11-20 05:42:06 & 2019-11-20 05:42:06 & 6354                & 353                 & nyoungblut          & abt3               \\\\\n",
       "\t/ebio/abt3\\_projects/databases\\_no-backup/GTDB/release89/LLMGP-DB/kraken2/GTDBr89-AgMs15g//hash.k2d & 133367417448        & FALSE               & 0644                & 2019-11-20 05:39:56 & 2019-11-20 05:39:56 & 2019-11-20 05:39:56 & 6354                & 353                 & nyoungblut          & abt3               \\\\\n",
       "\t/ebio/abt3\\_projects/databases\\_no-backup/GTDB/release89/LLMGP-DB/kraken2/GTDBr89-AgMs15g//library &           27        &  TRUE               & 2755                & 2019-11-18 21:23:13 & 2019-11-18 21:23:13 & 2019-11-18 21:23:13 & 6354                & 353                 & nyoungblut          & abt3               \\\\\n",
       "\t/ebio/abt3\\_projects/databases\\_no-backup/GTDB/release89/LLMGP-DB/kraken2/GTDBr89-AgMs15g//opts.k2d &           56        & FALSE               & 0644                & 2019-11-20 05:39:56 & 2019-11-20 05:39:56 & 2019-11-20 05:39:56 & 6354                & 353                 & nyoungblut          & abt3               \\\\\n",
       "\t/ebio/abt3\\_projects/databases\\_no-backup/GTDB/release89/LLMGP-DB/kraken2/GTDBr89-AgMs15g//seqid2taxid.map &    106983895        & FALSE               & 0644                & 2019-11-20 05:39:56 & 2019-11-20 05:39:56 & 2019-11-20 05:39:56 & 6354                & 353                 & nyoungblut          & abt3               \\\\\n",
       "\t/ebio/abt3\\_projects/databases\\_no-backup/GTDB/release89/LLMGP-DB/kraken2/GTDBr89-AgMs15g//taxo.k2d &      4733624        & FALSE               & 0644                & 2019-11-20 05:39:56 & 2019-11-20 05:39:56 & 2019-11-20 05:39:56 & 6354                & 353                 & nyoungblut          & abt3               \\\\\n",
       "\t/ebio/abt3\\_projects/databases\\_no-backup/GTDB/release89/LLMGP-DB/kraken2/GTDBr89-AgMs15g//taxonomy &           78        &  TRUE               & 2755                & 2019-11-20 01:12:11 & 2019-11-20 01:12:11 & 2019-11-18 21:22:13 & 6354                & 353                 & nyoungblut          & abt3               \\\\\n",
       "\\end{tabular}\n"
      ],
      "text/markdown": [
       "\n",
       "| <!--/--> | size | isdir | mode | mtime | ctime | atime | uid | gid | uname | grname | \n",
       "|---|---|---|---|---|---|---|---|---|---|---|---|\n",
       "| /ebio/abt3_projects/databases_no-backup/GTDB/release89/LLMGP-DB/kraken2/GTDBr89-AgMs15g//added |      1712128        |  TRUE               | 2755                | 2019-11-20 01:10:21 | 2019-11-20 01:10:21 | 2019-11-18 21:23:10 | 6354                | 353                 | nyoungblut          | abt3                | \n",
       "| /ebio/abt3_projects/databases_no-backup/GTDB/release89/LLMGP-DB/kraken2/GTDBr89-AgMs15g//database.kraken |  31136378445        | FALSE               | 0644                | 2019-11-20 05:58:12 | 2019-11-20 05:58:12 | 2019-11-20 05:42:31 | 6354                | 353                 | nyoungblut          | abt3                | \n",
       "| /ebio/abt3_projects/databases_no-backup/GTDB/release89/LLMGP-DB/kraken2/GTDBr89-AgMs15g//database100mers.kmer_distrib |      3897241        | FALSE               | 0644                | 2019-11-20 06:43:48 | 2019-11-20 06:43:48 | 2019-11-20 06:43:48 | 6354                | 353                 | nyoungblut          | abt3                | \n",
       "| /ebio/abt3_projects/databases_no-backup/GTDB/release89/LLMGP-DB/kraken2/GTDBr89-AgMs15g//database100mers.kraken |    199775729        | FALSE               | 0644                | 2019-11-20 06:43:48 | 2019-11-20 06:43:48 | 2019-11-20 06:43:48 | 6354                | 353                 | nyoungblut          | abt3                | \n",
       "| /ebio/abt3_projects/databases_no-backup/GTDB/release89/LLMGP-DB/kraken2/GTDBr89-AgMs15g//database150mers.kmer_distrib |           59        | FALSE               | 0644                | 2019-11-20 05:42:06 | 2019-11-20 05:42:06 | 2019-11-20 05:42:06 | 6354                | 353                 | nyoungblut          | abt3                | \n",
       "| /ebio/abt3_projects/databases_no-backup/GTDB/release89/LLMGP-DB/kraken2/GTDBr89-AgMs15g//database150mers.kraken |            0        | FALSE               | 0644                | 2019-11-20 05:42:06 | 2019-11-20 05:42:06 | 2019-11-20 05:42:06 | 6354                | 353                 | nyoungblut          | abt3                | \n",
       "| /ebio/abt3_projects/databases_no-backup/GTDB/release89/LLMGP-DB/kraken2/GTDBr89-AgMs15g//hash.k2d | 133367417448        | FALSE               | 0644                | 2019-11-20 05:39:56 | 2019-11-20 05:39:56 | 2019-11-20 05:39:56 | 6354                | 353                 | nyoungblut          | abt3                | \n",
       "| /ebio/abt3_projects/databases_no-backup/GTDB/release89/LLMGP-DB/kraken2/GTDBr89-AgMs15g//library |           27        |  TRUE               | 2755                | 2019-11-18 21:23:13 | 2019-11-18 21:23:13 | 2019-11-18 21:23:13 | 6354                | 353                 | nyoungblut          | abt3                | \n",
       "| /ebio/abt3_projects/databases_no-backup/GTDB/release89/LLMGP-DB/kraken2/GTDBr89-AgMs15g//opts.k2d |           56        | FALSE               | 0644                | 2019-11-20 05:39:56 | 2019-11-20 05:39:56 | 2019-11-20 05:39:56 | 6354                | 353                 | nyoungblut          | abt3                | \n",
       "| /ebio/abt3_projects/databases_no-backup/GTDB/release89/LLMGP-DB/kraken2/GTDBr89-AgMs15g//seqid2taxid.map |    106983895        | FALSE               | 0644                | 2019-11-20 05:39:56 | 2019-11-20 05:39:56 | 2019-11-20 05:39:56 | 6354                | 353                 | nyoungblut          | abt3                | \n",
       "| /ebio/abt3_projects/databases_no-backup/GTDB/release89/LLMGP-DB/kraken2/GTDBr89-AgMs15g//taxo.k2d |      4733624        | FALSE               | 0644                | 2019-11-20 05:39:56 | 2019-11-20 05:39:56 | 2019-11-20 05:39:56 | 6354                | 353                 | nyoungblut          | abt3                | \n",
       "| /ebio/abt3_projects/databases_no-backup/GTDB/release89/LLMGP-DB/kraken2/GTDBr89-AgMs15g//taxonomy |           78        |  TRUE               | 2755                | 2019-11-20 01:12:11 | 2019-11-20 01:12:11 | 2019-11-18 21:22:13 | 6354                | 353                 | nyoungblut          | abt3                | \n",
       "\n",
       "\n"
      ],
      "text/plain": [
       "                                                                                                                      size        \n",
       "/ebio/abt3_projects/databases_no-backup/GTDB/release89/LLMGP-DB/kraken2/GTDBr89-AgMs15g//added                             1712128\n",
       "/ebio/abt3_projects/databases_no-backup/GTDB/release89/LLMGP-DB/kraken2/GTDBr89-AgMs15g//database.kraken               31136378445\n",
       "/ebio/abt3_projects/databases_no-backup/GTDB/release89/LLMGP-DB/kraken2/GTDBr89-AgMs15g//database100mers.kmer_distrib      3897241\n",
       "/ebio/abt3_projects/databases_no-backup/GTDB/release89/LLMGP-DB/kraken2/GTDBr89-AgMs15g//database100mers.kraken          199775729\n",
       "/ebio/abt3_projects/databases_no-backup/GTDB/release89/LLMGP-DB/kraken2/GTDBr89-AgMs15g//database150mers.kmer_distrib           59\n",
       "/ebio/abt3_projects/databases_no-backup/GTDB/release89/LLMGP-DB/kraken2/GTDBr89-AgMs15g//database150mers.kraken                  0\n",
       "/ebio/abt3_projects/databases_no-backup/GTDB/release89/LLMGP-DB/kraken2/GTDBr89-AgMs15g//hash.k2d                     133367417448\n",
       "/ebio/abt3_projects/databases_no-backup/GTDB/release89/LLMGP-DB/kraken2/GTDBr89-AgMs15g//library                                27\n",
       "/ebio/abt3_projects/databases_no-backup/GTDB/release89/LLMGP-DB/kraken2/GTDBr89-AgMs15g//opts.k2d                               56\n",
       "/ebio/abt3_projects/databases_no-backup/GTDB/release89/LLMGP-DB/kraken2/GTDBr89-AgMs15g//seqid2taxid.map                 106983895\n",
       "/ebio/abt3_projects/databases_no-backup/GTDB/release89/LLMGP-DB/kraken2/GTDBr89-AgMs15g//taxo.k2d                          4733624\n",
       "/ebio/abt3_projects/databases_no-backup/GTDB/release89/LLMGP-DB/kraken2/GTDBr89-AgMs15g//taxonomy                               78\n",
       "                                                                                                                      isdir\n",
       "/ebio/abt3_projects/databases_no-backup/GTDB/release89/LLMGP-DB/kraken2/GTDBr89-AgMs15g//added                         TRUE\n",
       "/ebio/abt3_projects/databases_no-backup/GTDB/release89/LLMGP-DB/kraken2/GTDBr89-AgMs15g//database.kraken              FALSE\n",
       "/ebio/abt3_projects/databases_no-backup/GTDB/release89/LLMGP-DB/kraken2/GTDBr89-AgMs15g//database100mers.kmer_distrib FALSE\n",
       "/ebio/abt3_projects/databases_no-backup/GTDB/release89/LLMGP-DB/kraken2/GTDBr89-AgMs15g//database100mers.kraken       FALSE\n",
       "/ebio/abt3_projects/databases_no-backup/GTDB/release89/LLMGP-DB/kraken2/GTDBr89-AgMs15g//database150mers.kmer_distrib FALSE\n",
       "/ebio/abt3_projects/databases_no-backup/GTDB/release89/LLMGP-DB/kraken2/GTDBr89-AgMs15g//database150mers.kraken       FALSE\n",
       "/ebio/abt3_projects/databases_no-backup/GTDB/release89/LLMGP-DB/kraken2/GTDBr89-AgMs15g//hash.k2d                     FALSE\n",
       "/ebio/abt3_projects/databases_no-backup/GTDB/release89/LLMGP-DB/kraken2/GTDBr89-AgMs15g//library                       TRUE\n",
       "/ebio/abt3_projects/databases_no-backup/GTDB/release89/LLMGP-DB/kraken2/GTDBr89-AgMs15g//opts.k2d                     FALSE\n",
       "/ebio/abt3_projects/databases_no-backup/GTDB/release89/LLMGP-DB/kraken2/GTDBr89-AgMs15g//seqid2taxid.map              FALSE\n",
       "/ebio/abt3_projects/databases_no-backup/GTDB/release89/LLMGP-DB/kraken2/GTDBr89-AgMs15g//taxo.k2d                     FALSE\n",
       "/ebio/abt3_projects/databases_no-backup/GTDB/release89/LLMGP-DB/kraken2/GTDBr89-AgMs15g//taxonomy                      TRUE\n",
       "                                                                                                                      mode\n",
       "/ebio/abt3_projects/databases_no-backup/GTDB/release89/LLMGP-DB/kraken2/GTDBr89-AgMs15g//added                        2755\n",
       "/ebio/abt3_projects/databases_no-backup/GTDB/release89/LLMGP-DB/kraken2/GTDBr89-AgMs15g//database.kraken              0644\n",
       "/ebio/abt3_projects/databases_no-backup/GTDB/release89/LLMGP-DB/kraken2/GTDBr89-AgMs15g//database100mers.kmer_distrib 0644\n",
       "/ebio/abt3_projects/databases_no-backup/GTDB/release89/LLMGP-DB/kraken2/GTDBr89-AgMs15g//database100mers.kraken       0644\n",
       "/ebio/abt3_projects/databases_no-backup/GTDB/release89/LLMGP-DB/kraken2/GTDBr89-AgMs15g//database150mers.kmer_distrib 0644\n",
       "/ebio/abt3_projects/databases_no-backup/GTDB/release89/LLMGP-DB/kraken2/GTDBr89-AgMs15g//database150mers.kraken       0644\n",
       "/ebio/abt3_projects/databases_no-backup/GTDB/release89/LLMGP-DB/kraken2/GTDBr89-AgMs15g//hash.k2d                     0644\n",
       "/ebio/abt3_projects/databases_no-backup/GTDB/release89/LLMGP-DB/kraken2/GTDBr89-AgMs15g//library                      2755\n",
       "/ebio/abt3_projects/databases_no-backup/GTDB/release89/LLMGP-DB/kraken2/GTDBr89-AgMs15g//opts.k2d                     0644\n",
       "/ebio/abt3_projects/databases_no-backup/GTDB/release89/LLMGP-DB/kraken2/GTDBr89-AgMs15g//seqid2taxid.map              0644\n",
       "/ebio/abt3_projects/databases_no-backup/GTDB/release89/LLMGP-DB/kraken2/GTDBr89-AgMs15g//taxo.k2d                     0644\n",
       "/ebio/abt3_projects/databases_no-backup/GTDB/release89/LLMGP-DB/kraken2/GTDBr89-AgMs15g//taxonomy                     2755\n",
       "                                                                                                                      mtime              \n",
       "/ebio/abt3_projects/databases_no-backup/GTDB/release89/LLMGP-DB/kraken2/GTDBr89-AgMs15g//added                        2019-11-20 01:10:21\n",
       "/ebio/abt3_projects/databases_no-backup/GTDB/release89/LLMGP-DB/kraken2/GTDBr89-AgMs15g//database.kraken              2019-11-20 05:58:12\n",
       "/ebio/abt3_projects/databases_no-backup/GTDB/release89/LLMGP-DB/kraken2/GTDBr89-AgMs15g//database100mers.kmer_distrib 2019-11-20 06:43:48\n",
       "/ebio/abt3_projects/databases_no-backup/GTDB/release89/LLMGP-DB/kraken2/GTDBr89-AgMs15g//database100mers.kraken       2019-11-20 06:43:48\n",
       "/ebio/abt3_projects/databases_no-backup/GTDB/release89/LLMGP-DB/kraken2/GTDBr89-AgMs15g//database150mers.kmer_distrib 2019-11-20 05:42:06\n",
       "/ebio/abt3_projects/databases_no-backup/GTDB/release89/LLMGP-DB/kraken2/GTDBr89-AgMs15g//database150mers.kraken       2019-11-20 05:42:06\n",
       "/ebio/abt3_projects/databases_no-backup/GTDB/release89/LLMGP-DB/kraken2/GTDBr89-AgMs15g//hash.k2d                     2019-11-20 05:39:56\n",
       "/ebio/abt3_projects/databases_no-backup/GTDB/release89/LLMGP-DB/kraken2/GTDBr89-AgMs15g//library                      2019-11-18 21:23:13\n",
       "/ebio/abt3_projects/databases_no-backup/GTDB/release89/LLMGP-DB/kraken2/GTDBr89-AgMs15g//opts.k2d                     2019-11-20 05:39:56\n",
       "/ebio/abt3_projects/databases_no-backup/GTDB/release89/LLMGP-DB/kraken2/GTDBr89-AgMs15g//seqid2taxid.map              2019-11-20 05:39:56\n",
       "/ebio/abt3_projects/databases_no-backup/GTDB/release89/LLMGP-DB/kraken2/GTDBr89-AgMs15g//taxo.k2d                     2019-11-20 05:39:56\n",
       "/ebio/abt3_projects/databases_no-backup/GTDB/release89/LLMGP-DB/kraken2/GTDBr89-AgMs15g//taxonomy                     2019-11-20 01:12:11\n",
       "                                                                                                                      ctime              \n",
       "/ebio/abt3_projects/databases_no-backup/GTDB/release89/LLMGP-DB/kraken2/GTDBr89-AgMs15g//added                        2019-11-20 01:10:21\n",
       "/ebio/abt3_projects/databases_no-backup/GTDB/release89/LLMGP-DB/kraken2/GTDBr89-AgMs15g//database.kraken              2019-11-20 05:58:12\n",
       "/ebio/abt3_projects/databases_no-backup/GTDB/release89/LLMGP-DB/kraken2/GTDBr89-AgMs15g//database100mers.kmer_distrib 2019-11-20 06:43:48\n",
       "/ebio/abt3_projects/databases_no-backup/GTDB/release89/LLMGP-DB/kraken2/GTDBr89-AgMs15g//database100mers.kraken       2019-11-20 06:43:48\n",
       "/ebio/abt3_projects/databases_no-backup/GTDB/release89/LLMGP-DB/kraken2/GTDBr89-AgMs15g//database150mers.kmer_distrib 2019-11-20 05:42:06\n",
       "/ebio/abt3_projects/databases_no-backup/GTDB/release89/LLMGP-DB/kraken2/GTDBr89-AgMs15g//database150mers.kraken       2019-11-20 05:42:06\n",
       "/ebio/abt3_projects/databases_no-backup/GTDB/release89/LLMGP-DB/kraken2/GTDBr89-AgMs15g//hash.k2d                     2019-11-20 05:39:56\n",
       "/ebio/abt3_projects/databases_no-backup/GTDB/release89/LLMGP-DB/kraken2/GTDBr89-AgMs15g//library                      2019-11-18 21:23:13\n",
       "/ebio/abt3_projects/databases_no-backup/GTDB/release89/LLMGP-DB/kraken2/GTDBr89-AgMs15g//opts.k2d                     2019-11-20 05:39:56\n",
       "/ebio/abt3_projects/databases_no-backup/GTDB/release89/LLMGP-DB/kraken2/GTDBr89-AgMs15g//seqid2taxid.map              2019-11-20 05:39:56\n",
       "/ebio/abt3_projects/databases_no-backup/GTDB/release89/LLMGP-DB/kraken2/GTDBr89-AgMs15g//taxo.k2d                     2019-11-20 05:39:56\n",
       "/ebio/abt3_projects/databases_no-backup/GTDB/release89/LLMGP-DB/kraken2/GTDBr89-AgMs15g//taxonomy                     2019-11-20 01:12:11\n",
       "                                                                                                                      atime              \n",
       "/ebio/abt3_projects/databases_no-backup/GTDB/release89/LLMGP-DB/kraken2/GTDBr89-AgMs15g//added                        2019-11-18 21:23:10\n",
       "/ebio/abt3_projects/databases_no-backup/GTDB/release89/LLMGP-DB/kraken2/GTDBr89-AgMs15g//database.kraken              2019-11-20 05:42:31\n",
       "/ebio/abt3_projects/databases_no-backup/GTDB/release89/LLMGP-DB/kraken2/GTDBr89-AgMs15g//database100mers.kmer_distrib 2019-11-20 06:43:48\n",
       "/ebio/abt3_projects/databases_no-backup/GTDB/release89/LLMGP-DB/kraken2/GTDBr89-AgMs15g//database100mers.kraken       2019-11-20 06:43:48\n",
       "/ebio/abt3_projects/databases_no-backup/GTDB/release89/LLMGP-DB/kraken2/GTDBr89-AgMs15g//database150mers.kmer_distrib 2019-11-20 05:42:06\n",
       "/ebio/abt3_projects/databases_no-backup/GTDB/release89/LLMGP-DB/kraken2/GTDBr89-AgMs15g//database150mers.kraken       2019-11-20 05:42:06\n",
       "/ebio/abt3_projects/databases_no-backup/GTDB/release89/LLMGP-DB/kraken2/GTDBr89-AgMs15g//hash.k2d                     2019-11-20 05:39:56\n",
       "/ebio/abt3_projects/databases_no-backup/GTDB/release89/LLMGP-DB/kraken2/GTDBr89-AgMs15g//library                      2019-11-18 21:23:13\n",
       "/ebio/abt3_projects/databases_no-backup/GTDB/release89/LLMGP-DB/kraken2/GTDBr89-AgMs15g//opts.k2d                     2019-11-20 05:39:56\n",
       "/ebio/abt3_projects/databases_no-backup/GTDB/release89/LLMGP-DB/kraken2/GTDBr89-AgMs15g//seqid2taxid.map              2019-11-20 05:39:56\n",
       "/ebio/abt3_projects/databases_no-backup/GTDB/release89/LLMGP-DB/kraken2/GTDBr89-AgMs15g//taxo.k2d                     2019-11-20 05:39:56\n",
       "/ebio/abt3_projects/databases_no-backup/GTDB/release89/LLMGP-DB/kraken2/GTDBr89-AgMs15g//taxonomy                     2019-11-18 21:22:13\n",
       "                                                                                                                      uid \n",
       "/ebio/abt3_projects/databases_no-backup/GTDB/release89/LLMGP-DB/kraken2/GTDBr89-AgMs15g//added                        6354\n",
       "/ebio/abt3_projects/databases_no-backup/GTDB/release89/LLMGP-DB/kraken2/GTDBr89-AgMs15g//database.kraken              6354\n",
       "/ebio/abt3_projects/databases_no-backup/GTDB/release89/LLMGP-DB/kraken2/GTDBr89-AgMs15g//database100mers.kmer_distrib 6354\n",
       "/ebio/abt3_projects/databases_no-backup/GTDB/release89/LLMGP-DB/kraken2/GTDBr89-AgMs15g//database100mers.kraken       6354\n",
       "/ebio/abt3_projects/databases_no-backup/GTDB/release89/LLMGP-DB/kraken2/GTDBr89-AgMs15g//database150mers.kmer_distrib 6354\n",
       "/ebio/abt3_projects/databases_no-backup/GTDB/release89/LLMGP-DB/kraken2/GTDBr89-AgMs15g//database150mers.kraken       6354\n",
       "/ebio/abt3_projects/databases_no-backup/GTDB/release89/LLMGP-DB/kraken2/GTDBr89-AgMs15g//hash.k2d                     6354\n",
       "/ebio/abt3_projects/databases_no-backup/GTDB/release89/LLMGP-DB/kraken2/GTDBr89-AgMs15g//library                      6354\n",
       "/ebio/abt3_projects/databases_no-backup/GTDB/release89/LLMGP-DB/kraken2/GTDBr89-AgMs15g//opts.k2d                     6354\n",
       "/ebio/abt3_projects/databases_no-backup/GTDB/release89/LLMGP-DB/kraken2/GTDBr89-AgMs15g//seqid2taxid.map              6354\n",
       "/ebio/abt3_projects/databases_no-backup/GTDB/release89/LLMGP-DB/kraken2/GTDBr89-AgMs15g//taxo.k2d                     6354\n",
       "/ebio/abt3_projects/databases_no-backup/GTDB/release89/LLMGP-DB/kraken2/GTDBr89-AgMs15g//taxonomy                     6354\n",
       "                                                                                                                      gid\n",
       "/ebio/abt3_projects/databases_no-backup/GTDB/release89/LLMGP-DB/kraken2/GTDBr89-AgMs15g//added                        353\n",
       "/ebio/abt3_projects/databases_no-backup/GTDB/release89/LLMGP-DB/kraken2/GTDBr89-AgMs15g//database.kraken              353\n",
       "/ebio/abt3_projects/databases_no-backup/GTDB/release89/LLMGP-DB/kraken2/GTDBr89-AgMs15g//database100mers.kmer_distrib 353\n",
       "/ebio/abt3_projects/databases_no-backup/GTDB/release89/LLMGP-DB/kraken2/GTDBr89-AgMs15g//database100mers.kraken       353\n",
       "/ebio/abt3_projects/databases_no-backup/GTDB/release89/LLMGP-DB/kraken2/GTDBr89-AgMs15g//database150mers.kmer_distrib 353\n",
       "/ebio/abt3_projects/databases_no-backup/GTDB/release89/LLMGP-DB/kraken2/GTDBr89-AgMs15g//database150mers.kraken       353\n",
       "/ebio/abt3_projects/databases_no-backup/GTDB/release89/LLMGP-DB/kraken2/GTDBr89-AgMs15g//hash.k2d                     353\n",
       "/ebio/abt3_projects/databases_no-backup/GTDB/release89/LLMGP-DB/kraken2/GTDBr89-AgMs15g//library                      353\n",
       "/ebio/abt3_projects/databases_no-backup/GTDB/release89/LLMGP-DB/kraken2/GTDBr89-AgMs15g//opts.k2d                     353\n",
       "/ebio/abt3_projects/databases_no-backup/GTDB/release89/LLMGP-DB/kraken2/GTDBr89-AgMs15g//seqid2taxid.map              353\n",
       "/ebio/abt3_projects/databases_no-backup/GTDB/release89/LLMGP-DB/kraken2/GTDBr89-AgMs15g//taxo.k2d                     353\n",
       "/ebio/abt3_projects/databases_no-backup/GTDB/release89/LLMGP-DB/kraken2/GTDBr89-AgMs15g//taxonomy                     353\n",
       "                                                                                                                      uname     \n",
       "/ebio/abt3_projects/databases_no-backup/GTDB/release89/LLMGP-DB/kraken2/GTDBr89-AgMs15g//added                        nyoungblut\n",
       "/ebio/abt3_projects/databases_no-backup/GTDB/release89/LLMGP-DB/kraken2/GTDBr89-AgMs15g//database.kraken              nyoungblut\n",
       "/ebio/abt3_projects/databases_no-backup/GTDB/release89/LLMGP-DB/kraken2/GTDBr89-AgMs15g//database100mers.kmer_distrib nyoungblut\n",
       "/ebio/abt3_projects/databases_no-backup/GTDB/release89/LLMGP-DB/kraken2/GTDBr89-AgMs15g//database100mers.kraken       nyoungblut\n",
       "/ebio/abt3_projects/databases_no-backup/GTDB/release89/LLMGP-DB/kraken2/GTDBr89-AgMs15g//database150mers.kmer_distrib nyoungblut\n",
       "/ebio/abt3_projects/databases_no-backup/GTDB/release89/LLMGP-DB/kraken2/GTDBr89-AgMs15g//database150mers.kraken       nyoungblut\n",
       "/ebio/abt3_projects/databases_no-backup/GTDB/release89/LLMGP-DB/kraken2/GTDBr89-AgMs15g//hash.k2d                     nyoungblut\n",
       "/ebio/abt3_projects/databases_no-backup/GTDB/release89/LLMGP-DB/kraken2/GTDBr89-AgMs15g//library                      nyoungblut\n",
       "/ebio/abt3_projects/databases_no-backup/GTDB/release89/LLMGP-DB/kraken2/GTDBr89-AgMs15g//opts.k2d                     nyoungblut\n",
       "/ebio/abt3_projects/databases_no-backup/GTDB/release89/LLMGP-DB/kraken2/GTDBr89-AgMs15g//seqid2taxid.map              nyoungblut\n",
       "/ebio/abt3_projects/databases_no-backup/GTDB/release89/LLMGP-DB/kraken2/GTDBr89-AgMs15g//taxo.k2d                     nyoungblut\n",
       "/ebio/abt3_projects/databases_no-backup/GTDB/release89/LLMGP-DB/kraken2/GTDBr89-AgMs15g//taxonomy                     nyoungblut\n",
       "                                                                                                                      grname\n",
       "/ebio/abt3_projects/databases_no-backup/GTDB/release89/LLMGP-DB/kraken2/GTDBr89-AgMs15g//added                        abt3  \n",
       "/ebio/abt3_projects/databases_no-backup/GTDB/release89/LLMGP-DB/kraken2/GTDBr89-AgMs15g//database.kraken              abt3  \n",
       "/ebio/abt3_projects/databases_no-backup/GTDB/release89/LLMGP-DB/kraken2/GTDBr89-AgMs15g//database100mers.kmer_distrib abt3  \n",
       "/ebio/abt3_projects/databases_no-backup/GTDB/release89/LLMGP-DB/kraken2/GTDBr89-AgMs15g//database100mers.kraken       abt3  \n",
       "/ebio/abt3_projects/databases_no-backup/GTDB/release89/LLMGP-DB/kraken2/GTDBr89-AgMs15g//database150mers.kmer_distrib abt3  \n",
       "/ebio/abt3_projects/databases_no-backup/GTDB/release89/LLMGP-DB/kraken2/GTDBr89-AgMs15g//database150mers.kraken       abt3  \n",
       "/ebio/abt3_projects/databases_no-backup/GTDB/release89/LLMGP-DB/kraken2/GTDBr89-AgMs15g//hash.k2d                     abt3  \n",
       "/ebio/abt3_projects/databases_no-backup/GTDB/release89/LLMGP-DB/kraken2/GTDBr89-AgMs15g//library                      abt3  \n",
       "/ebio/abt3_projects/databases_no-backup/GTDB/release89/LLMGP-DB/kraken2/GTDBr89-AgMs15g//opts.k2d                     abt3  \n",
       "/ebio/abt3_projects/databases_no-backup/GTDB/release89/LLMGP-DB/kraken2/GTDBr89-AgMs15g//seqid2taxid.map              abt3  \n",
       "/ebio/abt3_projects/databases_no-backup/GTDB/release89/LLMGP-DB/kraken2/GTDBr89-AgMs15g//taxo.k2d                     abt3  \n",
       "/ebio/abt3_projects/databases_no-backup/GTDB/release89/LLMGP-DB/kraken2/GTDBr89-AgMs15g//taxonomy                     abt3  "
      ]
     },
     "metadata": {},
     "output_type": "display_data"
    }
   ],
   "source": [
    "# kraken2\n",
    "D = '/ebio/abt3_projects/databases_no-backup/GTDB/release89/LLMGP-DB/kraken2/GTDBr89-AgMs15g/'\n",
    "\n",
    "list.files(D, full.names=TRUE) %>%\n",
    "    as.list %>% lapply(file.info) %>%\n",
    "    do.call(rbind, .)"
   ]
  },
  {
   "cell_type": "code",
   "execution_count": 9,
   "metadata": {
    "ExecuteTime": {
     "end_time": "2019-11-22T15:05:28.914231Z",
     "start_time": "2019-11-22T15:05:28.655Z"
    }
   },
   "outputs": [
    {
     "data": {
      "text/html": [
       "<table>\n",
       "<thead><tr><th></th><th scope=col>size</th><th scope=col>isdir</th><th scope=col>mode</th><th scope=col>mtime</th><th scope=col>ctime</th><th scope=col>atime</th><th scope=col>uid</th><th scope=col>gid</th><th scope=col>uname</th><th scope=col>grname</th></tr></thead>\n",
       "<tbody>\n",
       "\t<tr><th scope=row>/ebio/abt3_projects/databases_no-backup/GTDB/release89/LLMGP-DB/humann2/GTDBr89-AgMs15//all_genes_annot.1.bt2l</th><td>26112796756        </td><td>FALSE              </td><td>644                </td><td>2019-11-17 14:07:01</td><td>2019-11-17 14:07:01</td><td>2019-11-17 05:25:25</td><td>6354               </td><td>353                </td><td>nyoungblut         </td><td>abt3               </td></tr>\n",
       "\t<tr><th scope=row>/ebio/abt3_projects/databases_no-backup/GTDB/release89/LLMGP-DB/humann2/GTDBr89-AgMs15//all_genes_annot.2.bt2l</th><td>29350750108        </td><td>FALSE              </td><td>644                </td><td>2019-11-17 14:06:05</td><td>2019-11-17 14:06:05</td><td>2019-11-17 05:25:25</td><td>6354               </td><td>353                </td><td>nyoungblut         </td><td>abt3               </td></tr>\n",
       "\t<tr><th scope=row>/ebio/abt3_projects/databases_no-backup/GTDB/release89/LLMGP-DB/humann2/GTDBr89-AgMs15//all_genes_annot.3.bt2l</th><td> 1045789777        </td><td>FALSE              </td><td>644                </td><td>2019-11-17 05:25:25</td><td>2019-11-17 05:25:25</td><td>2019-11-17 05:14:55</td><td>6354               </td><td>353                </td><td>nyoungblut         </td><td>abt3               </td></tr>\n",
       "\t<tr><th scope=row>/ebio/abt3_projects/databases_no-backup/GTDB/release89/LLMGP-DB/humann2/GTDBr89-AgMs15//all_genes_annot.4.bt2l</th><td>14675375052        </td><td>FALSE              </td><td>644                </td><td>2019-11-17 05:25:24</td><td>2019-11-17 05:25:24</td><td>2019-11-17 05:14:55</td><td>6354               </td><td>353                </td><td>nyoungblut         </td><td>abt3               </td></tr>\n",
       "\t<tr><th scope=row>/ebio/abt3_projects/databases_no-backup/GTDB/release89/LLMGP-DB/humann2/GTDBr89-AgMs15//all_genes_annot.dmnd</th><td>25160710140        </td><td>FALSE              </td><td>644                </td><td>2019-11-17 05:20:13</td><td>2019-11-17 05:20:13</td><td>2019-11-17 05:20:13</td><td>6354               </td><td>353                </td><td>nyoungblut         </td><td>abt3               </td></tr>\n",
       "\t<tr><th scope=row>/ebio/abt3_projects/databases_no-backup/GTDB/release89/LLMGP-DB/humann2/GTDBr89-AgMs15//all_genes_annot.faa.gz</th><td>12136866678        </td><td>FALSE              </td><td>644                </td><td>2019-11-17 05:14:16</td><td>2019-11-17 05:14:16</td><td>2019-11-17 05:14:16</td><td>6354               </td><td>353                </td><td>nyoungblut         </td><td>abt3               </td></tr>\n",
       "\t<tr><th scope=row>/ebio/abt3_projects/databases_no-backup/GTDB/release89/LLMGP-DB/humann2/GTDBr89-AgMs15//all_genes_annot.fna.gz</th><td>17613263410        </td><td>FALSE              </td><td>644                </td><td>2019-11-17 05:14:16</td><td>2019-11-17 05:14:16</td><td>2019-11-17 05:14:16</td><td>6354               </td><td>353                </td><td>nyoungblut         </td><td>abt3               </td></tr>\n",
       "\t<tr><th scope=row>/ebio/abt3_projects/databases_no-backup/GTDB/release89/LLMGP-DB/humann2/GTDBr89-AgMs15//all_genes_annot.rev.1.bt2l</th><td>26112796756        </td><td>FALSE              </td><td>644                </td><td>2019-11-17 22:36:32</td><td>2019-11-17 22:36:32</td><td>2019-11-17 14:16:44</td><td>6354               </td><td>353                </td><td>nyoungblut         </td><td>abt3               </td></tr>\n",
       "\t<tr><th scope=row>/ebio/abt3_projects/databases_no-backup/GTDB/release89/LLMGP-DB/humann2/GTDBr89-AgMs15//all_genes_annot.rev.2.bt2l</th><td>29350750108        </td><td>FALSE              </td><td>644                </td><td>2019-11-17 22:35:44</td><td>2019-11-17 22:35:44</td><td>2019-11-17 14:16:44</td><td>6354               </td><td>353                </td><td>nyoungblut         </td><td>abt3               </td></tr>\n",
       "\t<tr><th scope=row>/ebio/abt3_projects/databases_no-backup/GTDB/release89/LLMGP-DB/humann2/GTDBr89-AgMs15//bowtie2_build.done</th><td>          0        </td><td>FALSE              </td><td>644                </td><td>2019-11-17 22:36:45</td><td>2019-11-17 22:36:45</td><td>2019-11-17 22:36:45</td><td>6354               </td><td>353                </td><td>nyoungblut         </td><td>abt3               </td></tr>\n",
       "</tbody>\n",
       "</table>\n"
      ],
      "text/latex": [
       "\\begin{tabular}{r|llllllllll}\n",
       "  & size & isdir & mode & mtime & ctime & atime & uid & gid & uname & grname\\\\\n",
       "\\hline\n",
       "\t/ebio/abt3\\_projects/databases\\_no-backup/GTDB/release89/LLMGP-DB/humann2/GTDBr89-AgMs15//all\\_genes\\_annot.1.bt2l & 26112796756         & FALSE               & 644                 & 2019-11-17 14:07:01 & 2019-11-17 14:07:01 & 2019-11-17 05:25:25 & 6354                & 353                 & nyoungblut          & abt3               \\\\\n",
       "\t/ebio/abt3\\_projects/databases\\_no-backup/GTDB/release89/LLMGP-DB/humann2/GTDBr89-AgMs15//all\\_genes\\_annot.2.bt2l & 29350750108         & FALSE               & 644                 & 2019-11-17 14:06:05 & 2019-11-17 14:06:05 & 2019-11-17 05:25:25 & 6354                & 353                 & nyoungblut          & abt3               \\\\\n",
       "\t/ebio/abt3\\_projects/databases\\_no-backup/GTDB/release89/LLMGP-DB/humann2/GTDBr89-AgMs15//all\\_genes\\_annot.3.bt2l &  1045789777         & FALSE               & 644                 & 2019-11-17 05:25:25 & 2019-11-17 05:25:25 & 2019-11-17 05:14:55 & 6354                & 353                 & nyoungblut          & abt3               \\\\\n",
       "\t/ebio/abt3\\_projects/databases\\_no-backup/GTDB/release89/LLMGP-DB/humann2/GTDBr89-AgMs15//all\\_genes\\_annot.4.bt2l & 14675375052         & FALSE               & 644                 & 2019-11-17 05:25:24 & 2019-11-17 05:25:24 & 2019-11-17 05:14:55 & 6354                & 353                 & nyoungblut          & abt3               \\\\\n",
       "\t/ebio/abt3\\_projects/databases\\_no-backup/GTDB/release89/LLMGP-DB/humann2/GTDBr89-AgMs15//all\\_genes\\_annot.dmnd & 25160710140         & FALSE               & 644                 & 2019-11-17 05:20:13 & 2019-11-17 05:20:13 & 2019-11-17 05:20:13 & 6354                & 353                 & nyoungblut          & abt3               \\\\\n",
       "\t/ebio/abt3\\_projects/databases\\_no-backup/GTDB/release89/LLMGP-DB/humann2/GTDBr89-AgMs15//all\\_genes\\_annot.faa.gz & 12136866678         & FALSE               & 644                 & 2019-11-17 05:14:16 & 2019-11-17 05:14:16 & 2019-11-17 05:14:16 & 6354                & 353                 & nyoungblut          & abt3               \\\\\n",
       "\t/ebio/abt3\\_projects/databases\\_no-backup/GTDB/release89/LLMGP-DB/humann2/GTDBr89-AgMs15//all\\_genes\\_annot.fna.gz & 17613263410         & FALSE               & 644                 & 2019-11-17 05:14:16 & 2019-11-17 05:14:16 & 2019-11-17 05:14:16 & 6354                & 353                 & nyoungblut          & abt3               \\\\\n",
       "\t/ebio/abt3\\_projects/databases\\_no-backup/GTDB/release89/LLMGP-DB/humann2/GTDBr89-AgMs15//all\\_genes\\_annot.rev.1.bt2l & 26112796756         & FALSE               & 644                 & 2019-11-17 22:36:32 & 2019-11-17 22:36:32 & 2019-11-17 14:16:44 & 6354                & 353                 & nyoungblut          & abt3               \\\\\n",
       "\t/ebio/abt3\\_projects/databases\\_no-backup/GTDB/release89/LLMGP-DB/humann2/GTDBr89-AgMs15//all\\_genes\\_annot.rev.2.bt2l & 29350750108         & FALSE               & 644                 & 2019-11-17 22:35:44 & 2019-11-17 22:35:44 & 2019-11-17 14:16:44 & 6354                & 353                 & nyoungblut          & abt3               \\\\\n",
       "\t/ebio/abt3\\_projects/databases\\_no-backup/GTDB/release89/LLMGP-DB/humann2/GTDBr89-AgMs15//bowtie2\\_build.done &           0         & FALSE               & 644                 & 2019-11-17 22:36:45 & 2019-11-17 22:36:45 & 2019-11-17 22:36:45 & 6354                & 353                 & nyoungblut          & abt3               \\\\\n",
       "\\end{tabular}\n"
      ],
      "text/markdown": [
       "\n",
       "| <!--/--> | size | isdir | mode | mtime | ctime | atime | uid | gid | uname | grname | \n",
       "|---|---|---|---|---|---|---|---|---|---|\n",
       "| /ebio/abt3_projects/databases_no-backup/GTDB/release89/LLMGP-DB/humann2/GTDBr89-AgMs15//all_genes_annot.1.bt2l | 26112796756         | FALSE               | 644                 | 2019-11-17 14:07:01 | 2019-11-17 14:07:01 | 2019-11-17 05:25:25 | 6354                | 353                 | nyoungblut          | abt3                | \n",
       "| /ebio/abt3_projects/databases_no-backup/GTDB/release89/LLMGP-DB/humann2/GTDBr89-AgMs15//all_genes_annot.2.bt2l | 29350750108         | FALSE               | 644                 | 2019-11-17 14:06:05 | 2019-11-17 14:06:05 | 2019-11-17 05:25:25 | 6354                | 353                 | nyoungblut          | abt3                | \n",
       "| /ebio/abt3_projects/databases_no-backup/GTDB/release89/LLMGP-DB/humann2/GTDBr89-AgMs15//all_genes_annot.3.bt2l |  1045789777         | FALSE               | 644                 | 2019-11-17 05:25:25 | 2019-11-17 05:25:25 | 2019-11-17 05:14:55 | 6354                | 353                 | nyoungblut          | abt3                | \n",
       "| /ebio/abt3_projects/databases_no-backup/GTDB/release89/LLMGP-DB/humann2/GTDBr89-AgMs15//all_genes_annot.4.bt2l | 14675375052         | FALSE               | 644                 | 2019-11-17 05:25:24 | 2019-11-17 05:25:24 | 2019-11-17 05:14:55 | 6354                | 353                 | nyoungblut          | abt3                | \n",
       "| /ebio/abt3_projects/databases_no-backup/GTDB/release89/LLMGP-DB/humann2/GTDBr89-AgMs15//all_genes_annot.dmnd | 25160710140         | FALSE               | 644                 | 2019-11-17 05:20:13 | 2019-11-17 05:20:13 | 2019-11-17 05:20:13 | 6354                | 353                 | nyoungblut          | abt3                | \n",
       "| /ebio/abt3_projects/databases_no-backup/GTDB/release89/LLMGP-DB/humann2/GTDBr89-AgMs15//all_genes_annot.faa.gz | 12136866678         | FALSE               | 644                 | 2019-11-17 05:14:16 | 2019-11-17 05:14:16 | 2019-11-17 05:14:16 | 6354                | 353                 | nyoungblut          | abt3                | \n",
       "| /ebio/abt3_projects/databases_no-backup/GTDB/release89/LLMGP-DB/humann2/GTDBr89-AgMs15//all_genes_annot.fna.gz | 17613263410         | FALSE               | 644                 | 2019-11-17 05:14:16 | 2019-11-17 05:14:16 | 2019-11-17 05:14:16 | 6354                | 353                 | nyoungblut          | abt3                | \n",
       "| /ebio/abt3_projects/databases_no-backup/GTDB/release89/LLMGP-DB/humann2/GTDBr89-AgMs15//all_genes_annot.rev.1.bt2l | 26112796756         | FALSE               | 644                 | 2019-11-17 22:36:32 | 2019-11-17 22:36:32 | 2019-11-17 14:16:44 | 6354                | 353                 | nyoungblut          | abt3                | \n",
       "| /ebio/abt3_projects/databases_no-backup/GTDB/release89/LLMGP-DB/humann2/GTDBr89-AgMs15//all_genes_annot.rev.2.bt2l | 29350750108         | FALSE               | 644                 | 2019-11-17 22:35:44 | 2019-11-17 22:35:44 | 2019-11-17 14:16:44 | 6354                | 353                 | nyoungblut          | abt3                | \n",
       "| /ebio/abt3_projects/databases_no-backup/GTDB/release89/LLMGP-DB/humann2/GTDBr89-AgMs15//bowtie2_build.done |           0         | FALSE               | 644                 | 2019-11-17 22:36:45 | 2019-11-17 22:36:45 | 2019-11-17 22:36:45 | 6354                | 353                 | nyoungblut          | abt3                | \n",
       "\n",
       "\n"
      ],
      "text/plain": [
       "                                                                                                                   size       \n",
       "/ebio/abt3_projects/databases_no-backup/GTDB/release89/LLMGP-DB/humann2/GTDBr89-AgMs15//all_genes_annot.1.bt2l     26112796756\n",
       "/ebio/abt3_projects/databases_no-backup/GTDB/release89/LLMGP-DB/humann2/GTDBr89-AgMs15//all_genes_annot.2.bt2l     29350750108\n",
       "/ebio/abt3_projects/databases_no-backup/GTDB/release89/LLMGP-DB/humann2/GTDBr89-AgMs15//all_genes_annot.3.bt2l      1045789777\n",
       "/ebio/abt3_projects/databases_no-backup/GTDB/release89/LLMGP-DB/humann2/GTDBr89-AgMs15//all_genes_annot.4.bt2l     14675375052\n",
       "/ebio/abt3_projects/databases_no-backup/GTDB/release89/LLMGP-DB/humann2/GTDBr89-AgMs15//all_genes_annot.dmnd       25160710140\n",
       "/ebio/abt3_projects/databases_no-backup/GTDB/release89/LLMGP-DB/humann2/GTDBr89-AgMs15//all_genes_annot.faa.gz     12136866678\n",
       "/ebio/abt3_projects/databases_no-backup/GTDB/release89/LLMGP-DB/humann2/GTDBr89-AgMs15//all_genes_annot.fna.gz     17613263410\n",
       "/ebio/abt3_projects/databases_no-backup/GTDB/release89/LLMGP-DB/humann2/GTDBr89-AgMs15//all_genes_annot.rev.1.bt2l 26112796756\n",
       "/ebio/abt3_projects/databases_no-backup/GTDB/release89/LLMGP-DB/humann2/GTDBr89-AgMs15//all_genes_annot.rev.2.bt2l 29350750108\n",
       "/ebio/abt3_projects/databases_no-backup/GTDB/release89/LLMGP-DB/humann2/GTDBr89-AgMs15//bowtie2_build.done                   0\n",
       "                                                                                                                   isdir\n",
       "/ebio/abt3_projects/databases_no-backup/GTDB/release89/LLMGP-DB/humann2/GTDBr89-AgMs15//all_genes_annot.1.bt2l     FALSE\n",
       "/ebio/abt3_projects/databases_no-backup/GTDB/release89/LLMGP-DB/humann2/GTDBr89-AgMs15//all_genes_annot.2.bt2l     FALSE\n",
       "/ebio/abt3_projects/databases_no-backup/GTDB/release89/LLMGP-DB/humann2/GTDBr89-AgMs15//all_genes_annot.3.bt2l     FALSE\n",
       "/ebio/abt3_projects/databases_no-backup/GTDB/release89/LLMGP-DB/humann2/GTDBr89-AgMs15//all_genes_annot.4.bt2l     FALSE\n",
       "/ebio/abt3_projects/databases_no-backup/GTDB/release89/LLMGP-DB/humann2/GTDBr89-AgMs15//all_genes_annot.dmnd       FALSE\n",
       "/ebio/abt3_projects/databases_no-backup/GTDB/release89/LLMGP-DB/humann2/GTDBr89-AgMs15//all_genes_annot.faa.gz     FALSE\n",
       "/ebio/abt3_projects/databases_no-backup/GTDB/release89/LLMGP-DB/humann2/GTDBr89-AgMs15//all_genes_annot.fna.gz     FALSE\n",
       "/ebio/abt3_projects/databases_no-backup/GTDB/release89/LLMGP-DB/humann2/GTDBr89-AgMs15//all_genes_annot.rev.1.bt2l FALSE\n",
       "/ebio/abt3_projects/databases_no-backup/GTDB/release89/LLMGP-DB/humann2/GTDBr89-AgMs15//all_genes_annot.rev.2.bt2l FALSE\n",
       "/ebio/abt3_projects/databases_no-backup/GTDB/release89/LLMGP-DB/humann2/GTDBr89-AgMs15//bowtie2_build.done         FALSE\n",
       "                                                                                                                   mode\n",
       "/ebio/abt3_projects/databases_no-backup/GTDB/release89/LLMGP-DB/humann2/GTDBr89-AgMs15//all_genes_annot.1.bt2l     644 \n",
       "/ebio/abt3_projects/databases_no-backup/GTDB/release89/LLMGP-DB/humann2/GTDBr89-AgMs15//all_genes_annot.2.bt2l     644 \n",
       "/ebio/abt3_projects/databases_no-backup/GTDB/release89/LLMGP-DB/humann2/GTDBr89-AgMs15//all_genes_annot.3.bt2l     644 \n",
       "/ebio/abt3_projects/databases_no-backup/GTDB/release89/LLMGP-DB/humann2/GTDBr89-AgMs15//all_genes_annot.4.bt2l     644 \n",
       "/ebio/abt3_projects/databases_no-backup/GTDB/release89/LLMGP-DB/humann2/GTDBr89-AgMs15//all_genes_annot.dmnd       644 \n",
       "/ebio/abt3_projects/databases_no-backup/GTDB/release89/LLMGP-DB/humann2/GTDBr89-AgMs15//all_genes_annot.faa.gz     644 \n",
       "/ebio/abt3_projects/databases_no-backup/GTDB/release89/LLMGP-DB/humann2/GTDBr89-AgMs15//all_genes_annot.fna.gz     644 \n",
       "/ebio/abt3_projects/databases_no-backup/GTDB/release89/LLMGP-DB/humann2/GTDBr89-AgMs15//all_genes_annot.rev.1.bt2l 644 \n",
       "/ebio/abt3_projects/databases_no-backup/GTDB/release89/LLMGP-DB/humann2/GTDBr89-AgMs15//all_genes_annot.rev.2.bt2l 644 \n",
       "/ebio/abt3_projects/databases_no-backup/GTDB/release89/LLMGP-DB/humann2/GTDBr89-AgMs15//bowtie2_build.done         644 \n",
       "                                                                                                                   mtime              \n",
       "/ebio/abt3_projects/databases_no-backup/GTDB/release89/LLMGP-DB/humann2/GTDBr89-AgMs15//all_genes_annot.1.bt2l     2019-11-17 14:07:01\n",
       "/ebio/abt3_projects/databases_no-backup/GTDB/release89/LLMGP-DB/humann2/GTDBr89-AgMs15//all_genes_annot.2.bt2l     2019-11-17 14:06:05\n",
       "/ebio/abt3_projects/databases_no-backup/GTDB/release89/LLMGP-DB/humann2/GTDBr89-AgMs15//all_genes_annot.3.bt2l     2019-11-17 05:25:25\n",
       "/ebio/abt3_projects/databases_no-backup/GTDB/release89/LLMGP-DB/humann2/GTDBr89-AgMs15//all_genes_annot.4.bt2l     2019-11-17 05:25:24\n",
       "/ebio/abt3_projects/databases_no-backup/GTDB/release89/LLMGP-DB/humann2/GTDBr89-AgMs15//all_genes_annot.dmnd       2019-11-17 05:20:13\n",
       "/ebio/abt3_projects/databases_no-backup/GTDB/release89/LLMGP-DB/humann2/GTDBr89-AgMs15//all_genes_annot.faa.gz     2019-11-17 05:14:16\n",
       "/ebio/abt3_projects/databases_no-backup/GTDB/release89/LLMGP-DB/humann2/GTDBr89-AgMs15//all_genes_annot.fna.gz     2019-11-17 05:14:16\n",
       "/ebio/abt3_projects/databases_no-backup/GTDB/release89/LLMGP-DB/humann2/GTDBr89-AgMs15//all_genes_annot.rev.1.bt2l 2019-11-17 22:36:32\n",
       "/ebio/abt3_projects/databases_no-backup/GTDB/release89/LLMGP-DB/humann2/GTDBr89-AgMs15//all_genes_annot.rev.2.bt2l 2019-11-17 22:35:44\n",
       "/ebio/abt3_projects/databases_no-backup/GTDB/release89/LLMGP-DB/humann2/GTDBr89-AgMs15//bowtie2_build.done         2019-11-17 22:36:45\n",
       "                                                                                                                   ctime              \n",
       "/ebio/abt3_projects/databases_no-backup/GTDB/release89/LLMGP-DB/humann2/GTDBr89-AgMs15//all_genes_annot.1.bt2l     2019-11-17 14:07:01\n",
       "/ebio/abt3_projects/databases_no-backup/GTDB/release89/LLMGP-DB/humann2/GTDBr89-AgMs15//all_genes_annot.2.bt2l     2019-11-17 14:06:05\n",
       "/ebio/abt3_projects/databases_no-backup/GTDB/release89/LLMGP-DB/humann2/GTDBr89-AgMs15//all_genes_annot.3.bt2l     2019-11-17 05:25:25\n",
       "/ebio/abt3_projects/databases_no-backup/GTDB/release89/LLMGP-DB/humann2/GTDBr89-AgMs15//all_genes_annot.4.bt2l     2019-11-17 05:25:24\n",
       "/ebio/abt3_projects/databases_no-backup/GTDB/release89/LLMGP-DB/humann2/GTDBr89-AgMs15//all_genes_annot.dmnd       2019-11-17 05:20:13\n",
       "/ebio/abt3_projects/databases_no-backup/GTDB/release89/LLMGP-DB/humann2/GTDBr89-AgMs15//all_genes_annot.faa.gz     2019-11-17 05:14:16\n",
       "/ebio/abt3_projects/databases_no-backup/GTDB/release89/LLMGP-DB/humann2/GTDBr89-AgMs15//all_genes_annot.fna.gz     2019-11-17 05:14:16\n",
       "/ebio/abt3_projects/databases_no-backup/GTDB/release89/LLMGP-DB/humann2/GTDBr89-AgMs15//all_genes_annot.rev.1.bt2l 2019-11-17 22:36:32\n",
       "/ebio/abt3_projects/databases_no-backup/GTDB/release89/LLMGP-DB/humann2/GTDBr89-AgMs15//all_genes_annot.rev.2.bt2l 2019-11-17 22:35:44\n",
       "/ebio/abt3_projects/databases_no-backup/GTDB/release89/LLMGP-DB/humann2/GTDBr89-AgMs15//bowtie2_build.done         2019-11-17 22:36:45\n",
       "                                                                                                                   atime              \n",
       "/ebio/abt3_projects/databases_no-backup/GTDB/release89/LLMGP-DB/humann2/GTDBr89-AgMs15//all_genes_annot.1.bt2l     2019-11-17 05:25:25\n",
       "/ebio/abt3_projects/databases_no-backup/GTDB/release89/LLMGP-DB/humann2/GTDBr89-AgMs15//all_genes_annot.2.bt2l     2019-11-17 05:25:25\n",
       "/ebio/abt3_projects/databases_no-backup/GTDB/release89/LLMGP-DB/humann2/GTDBr89-AgMs15//all_genes_annot.3.bt2l     2019-11-17 05:14:55\n",
       "/ebio/abt3_projects/databases_no-backup/GTDB/release89/LLMGP-DB/humann2/GTDBr89-AgMs15//all_genes_annot.4.bt2l     2019-11-17 05:14:55\n",
       "/ebio/abt3_projects/databases_no-backup/GTDB/release89/LLMGP-DB/humann2/GTDBr89-AgMs15//all_genes_annot.dmnd       2019-11-17 05:20:13\n",
       "/ebio/abt3_projects/databases_no-backup/GTDB/release89/LLMGP-DB/humann2/GTDBr89-AgMs15//all_genes_annot.faa.gz     2019-11-17 05:14:16\n",
       "/ebio/abt3_projects/databases_no-backup/GTDB/release89/LLMGP-DB/humann2/GTDBr89-AgMs15//all_genes_annot.fna.gz     2019-11-17 05:14:16\n",
       "/ebio/abt3_projects/databases_no-backup/GTDB/release89/LLMGP-DB/humann2/GTDBr89-AgMs15//all_genes_annot.rev.1.bt2l 2019-11-17 14:16:44\n",
       "/ebio/abt3_projects/databases_no-backup/GTDB/release89/LLMGP-DB/humann2/GTDBr89-AgMs15//all_genes_annot.rev.2.bt2l 2019-11-17 14:16:44\n",
       "/ebio/abt3_projects/databases_no-backup/GTDB/release89/LLMGP-DB/humann2/GTDBr89-AgMs15//bowtie2_build.done         2019-11-17 22:36:45\n",
       "                                                                                                                   uid \n",
       "/ebio/abt3_projects/databases_no-backup/GTDB/release89/LLMGP-DB/humann2/GTDBr89-AgMs15//all_genes_annot.1.bt2l     6354\n",
       "/ebio/abt3_projects/databases_no-backup/GTDB/release89/LLMGP-DB/humann2/GTDBr89-AgMs15//all_genes_annot.2.bt2l     6354\n",
       "/ebio/abt3_projects/databases_no-backup/GTDB/release89/LLMGP-DB/humann2/GTDBr89-AgMs15//all_genes_annot.3.bt2l     6354\n",
       "/ebio/abt3_projects/databases_no-backup/GTDB/release89/LLMGP-DB/humann2/GTDBr89-AgMs15//all_genes_annot.4.bt2l     6354\n",
       "/ebio/abt3_projects/databases_no-backup/GTDB/release89/LLMGP-DB/humann2/GTDBr89-AgMs15//all_genes_annot.dmnd       6354\n",
       "/ebio/abt3_projects/databases_no-backup/GTDB/release89/LLMGP-DB/humann2/GTDBr89-AgMs15//all_genes_annot.faa.gz     6354\n",
       "/ebio/abt3_projects/databases_no-backup/GTDB/release89/LLMGP-DB/humann2/GTDBr89-AgMs15//all_genes_annot.fna.gz     6354\n",
       "/ebio/abt3_projects/databases_no-backup/GTDB/release89/LLMGP-DB/humann2/GTDBr89-AgMs15//all_genes_annot.rev.1.bt2l 6354\n",
       "/ebio/abt3_projects/databases_no-backup/GTDB/release89/LLMGP-DB/humann2/GTDBr89-AgMs15//all_genes_annot.rev.2.bt2l 6354\n",
       "/ebio/abt3_projects/databases_no-backup/GTDB/release89/LLMGP-DB/humann2/GTDBr89-AgMs15//bowtie2_build.done         6354\n",
       "                                                                                                                   gid\n",
       "/ebio/abt3_projects/databases_no-backup/GTDB/release89/LLMGP-DB/humann2/GTDBr89-AgMs15//all_genes_annot.1.bt2l     353\n",
       "/ebio/abt3_projects/databases_no-backup/GTDB/release89/LLMGP-DB/humann2/GTDBr89-AgMs15//all_genes_annot.2.bt2l     353\n",
       "/ebio/abt3_projects/databases_no-backup/GTDB/release89/LLMGP-DB/humann2/GTDBr89-AgMs15//all_genes_annot.3.bt2l     353\n",
       "/ebio/abt3_projects/databases_no-backup/GTDB/release89/LLMGP-DB/humann2/GTDBr89-AgMs15//all_genes_annot.4.bt2l     353\n",
       "/ebio/abt3_projects/databases_no-backup/GTDB/release89/LLMGP-DB/humann2/GTDBr89-AgMs15//all_genes_annot.dmnd       353\n",
       "/ebio/abt3_projects/databases_no-backup/GTDB/release89/LLMGP-DB/humann2/GTDBr89-AgMs15//all_genes_annot.faa.gz     353\n",
       "/ebio/abt3_projects/databases_no-backup/GTDB/release89/LLMGP-DB/humann2/GTDBr89-AgMs15//all_genes_annot.fna.gz     353\n",
       "/ebio/abt3_projects/databases_no-backup/GTDB/release89/LLMGP-DB/humann2/GTDBr89-AgMs15//all_genes_annot.rev.1.bt2l 353\n",
       "/ebio/abt3_projects/databases_no-backup/GTDB/release89/LLMGP-DB/humann2/GTDBr89-AgMs15//all_genes_annot.rev.2.bt2l 353\n",
       "/ebio/abt3_projects/databases_no-backup/GTDB/release89/LLMGP-DB/humann2/GTDBr89-AgMs15//bowtie2_build.done         353\n",
       "                                                                                                                   uname     \n",
       "/ebio/abt3_projects/databases_no-backup/GTDB/release89/LLMGP-DB/humann2/GTDBr89-AgMs15//all_genes_annot.1.bt2l     nyoungblut\n",
       "/ebio/abt3_projects/databases_no-backup/GTDB/release89/LLMGP-DB/humann2/GTDBr89-AgMs15//all_genes_annot.2.bt2l     nyoungblut\n",
       "/ebio/abt3_projects/databases_no-backup/GTDB/release89/LLMGP-DB/humann2/GTDBr89-AgMs15//all_genes_annot.3.bt2l     nyoungblut\n",
       "/ebio/abt3_projects/databases_no-backup/GTDB/release89/LLMGP-DB/humann2/GTDBr89-AgMs15//all_genes_annot.4.bt2l     nyoungblut\n",
       "/ebio/abt3_projects/databases_no-backup/GTDB/release89/LLMGP-DB/humann2/GTDBr89-AgMs15//all_genes_annot.dmnd       nyoungblut\n",
       "/ebio/abt3_projects/databases_no-backup/GTDB/release89/LLMGP-DB/humann2/GTDBr89-AgMs15//all_genes_annot.faa.gz     nyoungblut\n",
       "/ebio/abt3_projects/databases_no-backup/GTDB/release89/LLMGP-DB/humann2/GTDBr89-AgMs15//all_genes_annot.fna.gz     nyoungblut\n",
       "/ebio/abt3_projects/databases_no-backup/GTDB/release89/LLMGP-DB/humann2/GTDBr89-AgMs15//all_genes_annot.rev.1.bt2l nyoungblut\n",
       "/ebio/abt3_projects/databases_no-backup/GTDB/release89/LLMGP-DB/humann2/GTDBr89-AgMs15//all_genes_annot.rev.2.bt2l nyoungblut\n",
       "/ebio/abt3_projects/databases_no-backup/GTDB/release89/LLMGP-DB/humann2/GTDBr89-AgMs15//bowtie2_build.done         nyoungblut\n",
       "                                                                                                                   grname\n",
       "/ebio/abt3_projects/databases_no-backup/GTDB/release89/LLMGP-DB/humann2/GTDBr89-AgMs15//all_genes_annot.1.bt2l     abt3  \n",
       "/ebio/abt3_projects/databases_no-backup/GTDB/release89/LLMGP-DB/humann2/GTDBr89-AgMs15//all_genes_annot.2.bt2l     abt3  \n",
       "/ebio/abt3_projects/databases_no-backup/GTDB/release89/LLMGP-DB/humann2/GTDBr89-AgMs15//all_genes_annot.3.bt2l     abt3  \n",
       "/ebio/abt3_projects/databases_no-backup/GTDB/release89/LLMGP-DB/humann2/GTDBr89-AgMs15//all_genes_annot.4.bt2l     abt3  \n",
       "/ebio/abt3_projects/databases_no-backup/GTDB/release89/LLMGP-DB/humann2/GTDBr89-AgMs15//all_genes_annot.dmnd       abt3  \n",
       "/ebio/abt3_projects/databases_no-backup/GTDB/release89/LLMGP-DB/humann2/GTDBr89-AgMs15//all_genes_annot.faa.gz     abt3  \n",
       "/ebio/abt3_projects/databases_no-backup/GTDB/release89/LLMGP-DB/humann2/GTDBr89-AgMs15//all_genes_annot.fna.gz     abt3  \n",
       "/ebio/abt3_projects/databases_no-backup/GTDB/release89/LLMGP-DB/humann2/GTDBr89-AgMs15//all_genes_annot.rev.1.bt2l abt3  \n",
       "/ebio/abt3_projects/databases_no-backup/GTDB/release89/LLMGP-DB/humann2/GTDBr89-AgMs15//all_genes_annot.rev.2.bt2l abt3  \n",
       "/ebio/abt3_projects/databases_no-backup/GTDB/release89/LLMGP-DB/humann2/GTDBr89-AgMs15//bowtie2_build.done         abt3  "
      ]
     },
     "metadata": {},
     "output_type": "display_data"
    }
   ],
   "source": [
    "# humann2\n",
    "D = '/ebio/abt3_projects/databases_no-backup/GTDB/release89/LLMGP-DB/humann2/GTDBr89-AgMs15/'\n",
    "\n",
    "list.files(D, full.names=TRUE) %>%\n",
    "    as.list %>% lapply(file.info) %>%\n",
    "    do.call(rbind, .)"
   ]
  },
  {
   "cell_type": "markdown",
   "metadata": {},
   "source": [
    "# sessionInfo"
   ]
  },
  {
   "cell_type": "code",
   "execution_count": 10,
   "metadata": {
    "ExecuteTime": {
     "end_time": "2019-11-22T15:05:29.586487Z",
     "start_time": "2019-11-22T15:05:29.494Z"
    }
   },
   "outputs": [
    {
     "data": {
      "text/plain": [
       "R version 3.4.1 (2017-06-30)\n",
       "Platform: x86_64-pc-linux-gnu (64-bit)\n",
       "Running under: Ubuntu 18.04.3 LTS\n",
       "\n",
       "Matrix products: default\n",
       "BLAS: /ebio/abt3_projects/software/miniconda3_gt4.4/envs/py3_physeq/lib/R/lib/libRblas.so\n",
       "LAPACK: /ebio/abt3_projects/software/miniconda3_gt4.4/envs/py3_physeq/lib/R/lib/libRlapack.so\n",
       "\n",
       "locale:\n",
       " [1] LC_CTYPE=en_US.UTF-8       LC_NUMERIC=C              \n",
       " [3] LC_TIME=en_US.UTF-8        LC_COLLATE=en_US.UTF-8    \n",
       " [5] LC_MONETARY=en_US.UTF-8    LC_MESSAGES=en_US.UTF-8   \n",
       " [7] LC_PAPER=en_US.UTF-8       LC_NAME=C                 \n",
       " [9] LC_ADDRESS=C               LC_TELEPHONE=C            \n",
       "[11] LC_MEASUREMENT=en_US.UTF-8 LC_IDENTIFICATION=C       \n",
       "\n",
       "attached base packages:\n",
       "[1] parallel  stats     graphics  grDevices utils     datasets  methods  \n",
       "[8] base     \n",
       "\n",
       "other attached packages:\n",
       "[1] doParallel_1.0.11 iterators_1.0.10  foreach_1.4.4     ggplot2_3.0.0    \n",
       "[5] tidyr_0.8.1       dplyr_0.7.6      \n",
       "\n",
       "loaded via a namespace (and not attached):\n",
       " [1] Rcpp_0.12.17     pillar_1.2.2     compiler_3.4.1   plyr_1.8.4      \n",
       " [5] bindr_0.1.1      base64enc_0.1-3  tools_3.4.1      digest_0.6.15   \n",
       " [9] uuid_0.1-2       jsonlite_1.5     evaluate_0.10.1  tibble_1.4.2    \n",
       "[13] gtable_0.2.0     pkgconfig_2.0.1  rlang_0.2.1      IRdisplay_0.4.4 \n",
       "[17] IRkernel_0.8.12  bindrcpp_0.2.2   repr_0.15.0      withr_2.1.1     \n",
       "[21] stringr_1.3.1    grid_3.4.1       tidyselect_0.2.4 glue_1.3.0      \n",
       "[25] R6_2.2.2         pbdZMQ_0.3-2     purrr_0.2.4      magrittr_1.5    \n",
       "[29] codetools_0.2-15 scales_0.5.0     htmltools_0.3.6  assertthat_0.2.0\n",
       "[33] colorspace_1.3-2 stringi_1.2.3    lazyeval_0.2.1   munsell_0.5.0   \n",
       "[37] crayon_1.3.4    "
      ]
     },
     "metadata": {},
     "output_type": "display_data"
    }
   ],
   "source": [
    "sessionInfo()"
   ]
  },
  {
   "cell_type": "code",
   "execution_count": 11,
   "metadata": {
    "ExecuteTime": {
     "end_time": "2019-11-22T15:05:37.516854Z",
     "start_time": "2019-11-22T15:05:31.958Z"
    }
   },
   "outputs": [
    {
     "name": "stdout",
     "output_type": "stream",
     "text": [
      "[![Travis-CI Build Status](https://travis-ci.org/leylabmpi/Struo.svg?branch=master)](https://travis-ci.org/leylabmpi/Struo)\n",
      "\n",
      "Struo\n",
      "=====\n",
      "\n",
      "**Struo:** a pipeline for building custom databases for common metagenome profilers\n",
      "\n",
      "> \"Struo\" --> from the Latin: “I build” or “I gather”\n",
      "\n",
      "\n",
      "\n",
      "--- conda envs ---\n",
      "==> /ebio/abt3_projects/databases_no-backup/bin/llmgp-db//bin/envs/kraken2.yaml <==\n",
      "channels: !!python/tuple\n",
      "- bioconda\n",
      "dependencies:\n",
      "- libiconv\n",
      "- bioconda::kraken2\n",
      "- bioconda::bracken\n",
      "\n",
      "\n",
      "==> /ebio/abt3_projects/databases_no-backup/bin/llmgp-db//bin/envs/humann2.yaml <==\n",
      "channels: !!python/tuple\n",
      "- bioconda\n",
      "dependencies:\n",
      "- pigz\n",
      "- bioconda::bowtie2\n",
      "- bioconda::vsearch\n",
      "- bioconda::prodigal\n",
      "- bioconda::diamond=0.8.36"
     ]
    }
   ],
   "source": [
    "pipelineInfo(pipeline_dir)"
   ]
  },
  {
   "cell_type": "code",
   "execution_count": null,
   "metadata": {},
   "outputs": [],
   "source": []
  }
 ],
 "metadata": {
  "kernelspec": {
   "display_name": "R [conda env:py3_physeq]",
   "language": "R",
   "name": "conda-env-py3_physeq-r"
  },
  "language_info": {
   "codemirror_mode": "r",
   "file_extension": ".r",
   "mimetype": "text/x-r-source",
   "name": "R",
   "pygments_lexer": "r",
   "version": "3.4.1"
  },
  "notify_time": "30",
  "toc": {
   "base_numbering": 1,
   "nav_menu": {},
   "number_sections": true,
   "sideBar": true,
   "skip_h1_title": false,
   "title_cell": "Table of Contents",
   "title_sidebar": "Contents",
   "toc_cell": true,
   "toc_position": {},
   "toc_section_display": true,
   "toc_window_display": true
  }
 },
 "nbformat": 4,
 "nbformat_minor": 2
}
