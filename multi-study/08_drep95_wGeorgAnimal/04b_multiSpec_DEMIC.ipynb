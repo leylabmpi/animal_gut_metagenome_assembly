{
 "cells": [
  {
   "cell_type": "markdown",
   "metadata": {
    "toc": true
   },
   "source": [
    "<h1>Table of Contents<span class=\"tocSkip\"></span></h1>\n",
    "<div class=\"toc\"><ul class=\"toc-item\"><li><span><a href=\"#Goal\" data-toc-modified-id=\"Goal-1\"><span class=\"toc-item-num\">1&nbsp;&nbsp;</span>Goal</a></span></li><li><span><a href=\"#Var\" data-toc-modified-id=\"Var-2\"><span class=\"toc-item-num\">2&nbsp;&nbsp;</span>Var</a></span></li><li><span><a href=\"#Init\" data-toc-modified-id=\"Init-3\"><span class=\"toc-item-num\">3&nbsp;&nbsp;</span>Init</a></span></li><li><span><a href=\"#Load\" data-toc-modified-id=\"Load-4\"><span class=\"toc-item-num\">4&nbsp;&nbsp;</span>Load</a></span></li><li><span><a href=\"#LLMGPS-(3-mil-reads)\" data-toc-modified-id=\"LLMGPS-(3-mil-reads)-5\"><span class=\"toc-item-num\">5&nbsp;&nbsp;</span>LLMGPS (3 mil reads)</a></span><ul class=\"toc-item\"><li><span><a href=\"#Number-of-samples\" data-toc-modified-id=\"Number-of-samples-5.1\"><span class=\"toc-item-num\">5.1&nbsp;&nbsp;</span>Number of samples</a></span><ul class=\"toc-item\"><li><span><a href=\"#Writing-samples-file\" data-toc-modified-id=\"Writing-samples-file-5.1.1\"><span class=\"toc-item-num\">5.1.1&nbsp;&nbsp;</span>Writing samples file</a></span></li></ul></li><li><span><a href=\"#Config\" data-toc-modified-id=\"Config-5.2\"><span class=\"toc-item-num\">5.2&nbsp;&nbsp;</span>Config</a></span></li><li><span><a href=\"#Run\" data-toc-modified-id=\"Run-5.3\"><span class=\"toc-item-num\">5.3&nbsp;&nbsp;</span>Run</a></span></li><li><span><a href=\"#Summary\" data-toc-modified-id=\"Summary-5.4\"><span class=\"toc-item-num\">5.4&nbsp;&nbsp;</span>Summary</a></span><ul class=\"toc-item\"><li><span><a href=\"#Distribution-among-samples\" data-toc-modified-id=\"Distribution-among-samples-5.4.1\"><span class=\"toc-item-num\">5.4.1&nbsp;&nbsp;</span>Distribution among samples</a></span></li></ul></li></ul></li><li><span><a href=\"#LLMGPS-(5-mil-reads)\" data-toc-modified-id=\"LLMGPS-(5-mil-reads)-6\"><span class=\"toc-item-num\">6&nbsp;&nbsp;</span>LLMGPS (5 mil reads)</a></span><ul class=\"toc-item\"><li><span><a href=\"#Number-of-samples\" data-toc-modified-id=\"Number-of-samples-6.1\"><span class=\"toc-item-num\">6.1&nbsp;&nbsp;</span>Number of samples</a></span><ul class=\"toc-item\"><li><span><a href=\"#Writing-samples-file\" data-toc-modified-id=\"Writing-samples-file-6.1.1\"><span class=\"toc-item-num\">6.1.1&nbsp;&nbsp;</span>Writing samples file</a></span></li></ul></li><li><span><a href=\"#Config\" data-toc-modified-id=\"Config-6.2\"><span class=\"toc-item-num\">6.2&nbsp;&nbsp;</span>Config</a></span></li><li><span><a href=\"#Run\" data-toc-modified-id=\"Run-6.3\"><span class=\"toc-item-num\">6.3&nbsp;&nbsp;</span>Run</a></span></li><li><span><a href=\"#Summary\" data-toc-modified-id=\"Summary-6.4\"><span class=\"toc-item-num\">6.4&nbsp;&nbsp;</span>Summary</a></span><ul class=\"toc-item\"><li><span><a href=\"#Distribution-among-samples\" data-toc-modified-id=\"Distribution-among-samples-6.4.1\"><span class=\"toc-item-num\">6.4.1&nbsp;&nbsp;</span>Distribution among samples</a></span></li></ul></li></ul></li><li><span><a href=\"#--OLD--\" data-toc-modified-id=\"--OLD---7\"><span class=\"toc-item-num\">7&nbsp;&nbsp;</span>--OLD--</a></span></li><li><span><a href=\"#LLMGPS-(10-mil-reads)\" data-toc-modified-id=\"LLMGPS-(10-mil-reads)-8\"><span class=\"toc-item-num\">8&nbsp;&nbsp;</span>LLMGPS (10 mil reads)</a></span><ul class=\"toc-item\"><li><span><a href=\"#Writing-samples-file\" data-toc-modified-id=\"Writing-samples-file-8.1\"><span class=\"toc-item-num\">8.1&nbsp;&nbsp;</span>Writing samples file</a></span></li><li><span><a href=\"#Config\" data-toc-modified-id=\"Config-8.2\"><span class=\"toc-item-num\">8.2&nbsp;&nbsp;</span>Config</a></span></li><li><span><a href=\"#Run\" data-toc-modified-id=\"Run-8.3\"><span class=\"toc-item-num\">8.3&nbsp;&nbsp;</span>Run</a></span></li><li><span><a href=\"#Summary\" data-toc-modified-id=\"Summary-8.4\"><span class=\"toc-item-num\">8.4&nbsp;&nbsp;</span>Summary</a></span><ul class=\"toc-item\"><li><span><a href=\"#Distribution-among-samples\" data-toc-modified-id=\"Distribution-among-samples-8.4.1\"><span class=\"toc-item-num\">8.4.1&nbsp;&nbsp;</span>Distribution among samples</a></span></li></ul></li></ul></li><li><span><a href=\"#LLMGPS-(20-mil-reads)\" data-toc-modified-id=\"LLMGPS-(20-mil-reads)-9\"><span class=\"toc-item-num\">9&nbsp;&nbsp;</span>LLMGPS (20 mil reads)</a></span><ul class=\"toc-item\"><li><span><a href=\"#Writing-samples-table\" data-toc-modified-id=\"Writing-samples-table-9.1\"><span class=\"toc-item-num\">9.1&nbsp;&nbsp;</span>Writing samples table</a></span></li><li><span><a href=\"#Config\" data-toc-modified-id=\"Config-9.2\"><span class=\"toc-item-num\">9.2&nbsp;&nbsp;</span>Config</a></span><ul class=\"toc-item\"><li><span><a href=\"#Run\" data-toc-modified-id=\"Run-9.2.1\"><span class=\"toc-item-num\">9.2.1&nbsp;&nbsp;</span>Run</a></span></li></ul></li><li><span><a href=\"#Summary\" data-toc-modified-id=\"Summary-9.3\"><span class=\"toc-item-num\">9.3&nbsp;&nbsp;</span>Summary</a></span><ul class=\"toc-item\"><li><span><a href=\"#Distribution-among-samples\" data-toc-modified-id=\"Distribution-among-samples-9.3.1\"><span class=\"toc-item-num\">9.3.1&nbsp;&nbsp;</span>Distribution among samples</a></span></li></ul></li></ul></li><li><span><a href=\"#sessionInfo\" data-toc-modified-id=\"sessionInfo-10\"><span class=\"toc-item-num\">10&nbsp;&nbsp;</span>sessionInfo</a></span></li></ul></div>"
   ]
  },
  {
   "cell_type": "markdown",
   "metadata": {},
   "source": [
    "# Goal\n",
    "\n",
    "* DEMIC analysis on all MAGs\n",
    "  * inferring growth rates in the animal gut dataset"
   ]
  },
  {
   "cell_type": "markdown",
   "metadata": {},
   "source": [
    "# Var"
   ]
  },
  {
   "cell_type": "code",
   "execution_count": 15,
   "metadata": {
    "ExecuteTime": {
     "end_time": "2020-01-21T15:47:01.352209Z",
     "start_time": "2020-01-21T15:47:01.314Z"
    }
   },
   "outputs": [],
   "source": [
    "# Dereplicated MAGs\n",
    "MAG_dir = file.path('/ebio', 'abt3_projects', 'Georg_animal_feces', 'data',\n",
    "                     'metagenome', 'multi-study', 'BioProjects', 'summary',\n",
    "                     'LLMGA', 'wGeorgAnimal', 'drep-0.95')\n",
    "\n",
    "# de-rep'd MAG metadata\n",
    "MAG_meta_file = file.path(MAG_dir, 'drep-MAG_metadata.tsv')\n",
    "\n",
    "# Georg animal gut dataset metadata\n",
    "GA_meta_file = '/ebio/abt3_projects/Georg_animal_feces/data/mapping/unified_metadata_complete_190529.tsv'\n",
    "# post-qc table of samples\n",
    "GA_samp_file = '/ebio/abt3_projects/Georg_animal_feces/data/metagenome/HiSeqRuns126-133-0138/wOutVertebrata/LLMGQC/samples_cov-gte0.3.tsv'\n",
    "\n",
    "# working dir\n",
    "work_dir = file.path(MAG_dir, 'Georg-animal')"
   ]
  },
  {
   "cell_type": "markdown",
   "metadata": {},
   "source": [
    "# Init"
   ]
  },
  {
   "cell_type": "code",
   "execution_count": 4,
   "metadata": {
    "ExecuteTime": {
     "end_time": "2020-01-21T15:44:22.477215Z",
     "start_time": "2020-01-21T15:44:22.434Z"
    }
   },
   "outputs": [],
   "source": [
    "library(dplyr)\n",
    "library(tidyr)\n",
    "library(ggplot2)\n",
    "library(data.table)\n",
    "library(doParallel)\n",
    "\n",
    "source('/ebio/abt3_projects/Georg_animal_feces/code/misc_r_functions/init.R')"
   ]
  },
  {
   "cell_type": "code",
   "execution_count": 3,
   "metadata": {
    "ExecuteTime": {
     "end_time": "2020-01-21T15:44:14.791947Z",
     "start_time": "2020-01-21T15:44:14.544Z"
    }
   },
   "outputs": [
    {
     "name": "stdout",
     "output_type": "stream",
     "text": [
      "Directory already exists: /ebio/abt3_projects/Georg_animal_feces/data/metagenome/multi-study/BioProjects/summary/LLMGA/wGeorgAnimal/drep-0.95/Georg-animal \n"
     ]
    }
   ],
   "source": [
    "dt.dims()\n",
    "make_dir(work_dir)"
   ]
  },
  {
   "cell_type": "markdown",
   "metadata": {},
   "source": [
    "# Load"
   ]
  },
  {
   "cell_type": "code",
   "execution_count": 44,
   "metadata": {
    "ExecuteTime": {
     "end_time": "2020-01-22T07:28:42.014441Z",
     "start_time": "2020-01-22T07:28:41.922Z"
    }
   },
   "outputs": [
    {
     "data": {
      "text/html": [
       "<table>\n",
       "<caption>A data.frame: 475 × 71</caption>\n",
       "<thead>\n",
       "\t<tr><th scope=col>SampleID</th><th scope=col>host_subject_id</th><th scope=col>host_german_name</th><th scope=col>host_common_name</th><th scope=col>scientific_name</th><th scope=col>scientific_name_subspecies</th><th scope=col>host_taxid</th><th scope=col>class</th><th scope=col>order</th><th scope=col>family</th><th scope=col>⋯</th><th scope=col>temp_regulation</th><th scope=col>collection_date</th><th scope=col>season</th><th scope=col>samp_store_days</th><th scope=col>samp_collect_device</th><th scope=col>sampling_method</th><th scope=col>diet</th><th scope=col>feeding_style</th><th scope=col>digestive_system</th><th scope=col>digestive_system_detail</th></tr>\n",
       "\t<tr><th scope=col>&lt;chr&gt;</th><th scope=col>&lt;fct&gt;</th><th scope=col>&lt;fct&gt;</th><th scope=col>&lt;fct&gt;</th><th scope=col>&lt;fct&gt;</th><th scope=col>&lt;fct&gt;</th><th scope=col>&lt;int&gt;</th><th scope=col>&lt;fct&gt;</th><th scope=col>&lt;fct&gt;</th><th scope=col>&lt;fct&gt;</th><th scope=col>⋯</th><th scope=col>&lt;fct&gt;</th><th scope=col>&lt;fct&gt;</th><th scope=col>&lt;fct&gt;</th><th scope=col>&lt;fct&gt;</th><th scope=col>&lt;fct&gt;</th><th scope=col>&lt;fct&gt;</th><th scope=col>&lt;fct&gt;</th><th scope=col>&lt;fct&gt;</th><th scope=col>&lt;fct&gt;</th><th scope=col>&lt;fct&gt;</th></tr>\n",
       "</thead>\n",
       "<tbody>\n",
       "\t<tr><td>XF14_Common_Bream</td><td>F14</td><td>Brachse  </td><td>Common.Bream</td><td>Abramis_brama </td><td>NA</td><td>38527</td><td>Actinopterygii</td><td>Cypriniformes</td><td>Cyprinidae</td><td>⋯</td><td>ectotherm/poikilotherm</td><td>2010-08-10</td><td>summer</td><td>317</td><td>Greiner Polypropylene Tube 50ml          </td><td>feces sampling</td><td>omnivore </td><td>NA               </td><td>simple </td><td>simple </td></tr>\n",
       "\t<tr><td>XF35_Red_Deer    </td><td>F35</td><td>Rothirsch</td><td>Red.Deer    </td><td>Cervus_elaphus</td><td>NA</td><td> 9860</td><td>Mammalia      </td><td>Artiodactyla </td><td>Cervidae  </td><td>⋯</td><td>endotherm/homoiotherm </td><td>2010-09-29</td><td>autumn</td><td>229</td><td>Greiner Polystyrene 30ml Faeces Container</td><td>feces sampling</td><td>herbivore</td><td>intermediate type</td><td>foregut</td><td>foregut</td></tr>\n",
       "\t<tr><td>⋮</td><td>⋮</td><td>⋮</td><td>⋮</td><td>⋮</td><td>⋮</td><td>⋮</td><td>⋮</td><td>⋮</td><td>⋮</td><td>⋱</td><td>⋮</td><td>⋮</td><td>⋮</td><td>⋮</td><td>⋮</td><td>⋮</td><td>⋮</td><td>⋮</td><td>⋮</td><td>⋮</td></tr>\n",
       "\t<tr><td>X189_fail_Rainbow_Trout</td><td>189.fail</td><td>Regenbogenforelle</td><td>Rainbow.Trout</td><td>Oncorhynchus_mykiss</td><td>NA</td><td>8022</td><td>Actinopterygii</td><td>Salmoniformes</td><td>Salmonidae</td><td>⋯</td><td>ectotherm/poikilotherm</td><td>2012-03-01</td><td>winter</td><td>467</td><td>Eppendorf tube          </td><td>feces sampling</td><td>carnivore</td><td>NA</td><td>simple</td><td>simple</td></tr>\n",
       "\t<tr><td>X232_fail_Brown_Trout  </td><td>232.fail</td><td>Seeforelle       </td><td>Brown.Trout  </td><td>Salmo_trutta       </td><td>NA</td><td>8032</td><td>Actinopterygii</td><td>Salmoniformes</td><td>Salmonidae</td><td>⋯</td><td>ectotherm/poikilotherm</td><td>2012-03-15</td><td>winter</td><td>453</td><td>Polyethylene freezer bag</td><td>gut section   </td><td>carnivore</td><td>NA</td><td>simple</td><td>simple</td></tr>\n",
       "</tbody>\n",
       "</table>\n"
      ],
      "text/latex": [
       "A data.frame: 475 × 71\n",
       "\\begin{tabular}{lllllllllllllllllllll}\n",
       " SampleID & host\\_subject\\_id & host\\_german\\_name & host\\_common\\_name & scientific\\_name & scientific\\_name\\_subspecies & host\\_taxid & class & order & family & ⋯ & temp\\_regulation & collection\\_date & season & samp\\_store\\_days & samp\\_collect\\_device & sampling\\_method & diet & feeding\\_style & digestive\\_system & digestive\\_system\\_detail\\\\\n",
       " <chr> & <fct> & <fct> & <fct> & <fct> & <fct> & <int> & <fct> & <fct> & <fct> & ⋯ & <fct> & <fct> & <fct> & <fct> & <fct> & <fct> & <fct> & <fct> & <fct> & <fct>\\\\\n",
       "\\hline\n",
       "\t XF14\\_Common\\_Bream & F14 & Brachse   & Common.Bream & Abramis\\_brama  & NA & 38527 & Actinopterygii & Cypriniformes & Cyprinidae & ⋯ & ectotherm/poikilotherm & 2010-08-10 & summer & 317 & Greiner Polypropylene Tube 50ml           & feces sampling & omnivore  & NA                & simple  & simple \\\\\n",
       "\t XF35\\_Red\\_Deer     & F35 & Rothirsch & Red.Deer     & Cervus\\_elaphus & NA &  9860 & Mammalia       & Artiodactyla  & Cervidae   & ⋯ & endotherm/homoiotherm  & 2010-09-29 & autumn & 229 & Greiner Polystyrene 30ml Faeces Container & feces sampling & herbivore & intermediate type & foregut & foregut\\\\\n",
       "\t ⋮ & ⋮ & ⋮ & ⋮ & ⋮ & ⋮ & ⋮ & ⋮ & ⋮ & ⋮ & ⋱ & ⋮ & ⋮ & ⋮ & ⋮ & ⋮ & ⋮ & ⋮ & ⋮ & ⋮ & ⋮\\\\\n",
       "\t X189\\_fail\\_Rainbow\\_Trout & 189.fail & Regenbogenforelle & Rainbow.Trout & Oncorhynchus\\_mykiss & NA & 8022 & Actinopterygii & Salmoniformes & Salmonidae & ⋯ & ectotherm/poikilotherm & 2012-03-01 & winter & 467 & Eppendorf tube           & feces sampling & carnivore & NA & simple & simple\\\\\n",
       "\t X232\\_fail\\_Brown\\_Trout   & 232.fail & Seeforelle        & Brown.Trout   & Salmo\\_trutta        & NA & 8032 & Actinopterygii & Salmoniformes & Salmonidae & ⋯ & ectotherm/poikilotherm & 2012-03-15 & winter & 453 & Polyethylene freezer bag & gut section    & carnivore & NA & simple & simple\\\\\n",
       "\\end{tabular}\n"
      ],
      "text/markdown": [
       "\n",
       "A data.frame: 475 × 71\n",
       "\n",
       "| SampleID &lt;chr&gt; | host_subject_id &lt;fct&gt; | host_german_name &lt;fct&gt; | host_common_name &lt;fct&gt; | scientific_name &lt;fct&gt; | scientific_name_subspecies &lt;fct&gt; | host_taxid &lt;int&gt; | class &lt;fct&gt; | order &lt;fct&gt; | family &lt;fct&gt; | ⋯ ⋯ | temp_regulation &lt;fct&gt; | collection_date &lt;fct&gt; | season &lt;fct&gt; | samp_store_days &lt;fct&gt; | samp_collect_device &lt;fct&gt; | sampling_method &lt;fct&gt; | diet &lt;fct&gt; | feeding_style &lt;fct&gt; | digestive_system &lt;fct&gt; | digestive_system_detail &lt;fct&gt; |\n",
       "|---|---|---|---|---|---|---|---|---|---|---|---|---|---|---|---|---|---|---|---|---|\n",
       "| XF14_Common_Bream | F14 | Brachse   | Common.Bream | Abramis_brama  | NA | 38527 | Actinopterygii | Cypriniformes | Cyprinidae | ⋯ | ectotherm/poikilotherm | 2010-08-10 | summer | 317 | Greiner Polypropylene Tube 50ml           | feces sampling | omnivore  | NA                | simple  | simple  |\n",
       "| XF35_Red_Deer     | F35 | Rothirsch | Red.Deer     | Cervus_elaphus | NA |  9860 | Mammalia       | Artiodactyla  | Cervidae   | ⋯ | endotherm/homoiotherm  | 2010-09-29 | autumn | 229 | Greiner Polystyrene 30ml Faeces Container | feces sampling | herbivore | intermediate type | foregut | foregut |\n",
       "| ⋮ | ⋮ | ⋮ | ⋮ | ⋮ | ⋮ | ⋮ | ⋮ | ⋮ | ⋮ | ⋱ | ⋮ | ⋮ | ⋮ | ⋮ | ⋮ | ⋮ | ⋮ | ⋮ | ⋮ | ⋮ |\n",
       "| X189_fail_Rainbow_Trout | 189.fail | Regenbogenforelle | Rainbow.Trout | Oncorhynchus_mykiss | NA | 8022 | Actinopterygii | Salmoniformes | Salmonidae | ⋯ | ectotherm/poikilotherm | 2012-03-01 | winter | 467 | Eppendorf tube           | feces sampling | carnivore | NA | simple | simple |\n",
       "| X232_fail_Brown_Trout   | 232.fail | Seeforelle        | Brown.Trout   | Salmo_trutta        | NA | 8032 | Actinopterygii | Salmoniformes | Salmonidae | ⋯ | ectotherm/poikilotherm | 2012-03-15 | winter | 453 | Polyethylene freezer bag | gut section    | carnivore | NA | simple | simple |\n",
       "\n"
      ],
      "text/plain": [
       "    SampleID                host_subject_id host_german_name  host_common_name\n",
       "1   XF14_Common_Bream       F14             Brachse           Common.Bream    \n",
       "2   XF35_Red_Deer           F35             Rothirsch         Red.Deer        \n",
       "⋮   ⋮                       ⋮               ⋮                 ⋮               \n",
       "474 X189_fail_Rainbow_Trout 189.fail        Regenbogenforelle Rainbow.Trout   \n",
       "475 X232_fail_Brown_Trout   232.fail        Seeforelle        Brown.Trout     \n",
       "    scientific_name     scientific_name_subspecies host_taxid class         \n",
       "1   Abramis_brama       NA                         38527      Actinopterygii\n",
       "2   Cervus_elaphus      NA                          9860      Mammalia      \n",
       "⋮   ⋮                   ⋮                          ⋮          ⋮             \n",
       "474 Oncorhynchus_mykiss NA                         8022       Actinopterygii\n",
       "475 Salmo_trutta        NA                         8032       Actinopterygii\n",
       "    order         family     ⋯ temp_regulation        collection_date season\n",
       "1   Cypriniformes Cyprinidae ⋯ ectotherm/poikilotherm 2010-08-10      summer\n",
       "2   Artiodactyla  Cervidae   ⋯ endotherm/homoiotherm  2010-09-29      autumn\n",
       "⋮   ⋮             ⋮          ⋱ ⋮                      ⋮               ⋮     \n",
       "474 Salmoniformes Salmonidae ⋯ ectotherm/poikilotherm 2012-03-01      winter\n",
       "475 Salmoniformes Salmonidae ⋯ ectotherm/poikilotherm 2012-03-15      winter\n",
       "    samp_store_days samp_collect_device                       sampling_method\n",
       "1   317             Greiner Polypropylene Tube 50ml           feces sampling \n",
       "2   229             Greiner Polystyrene 30ml Faeces Container feces sampling \n",
       "⋮   ⋮               ⋮                                         ⋮              \n",
       "474 467             Eppendorf tube                            feces sampling \n",
       "475 453             Polyethylene freezer bag                  gut section    \n",
       "    diet      feeding_style     digestive_system digestive_system_detail\n",
       "1   omnivore  NA                simple           simple                 \n",
       "2   herbivore intermediate type foregut          foregut                \n",
       "⋮   ⋮         ⋮                 ⋮                ⋮                      \n",
       "474 carnivore NA                simple           simple                 \n",
       "475 carnivore NA                simple           simple                 "
      ]
     },
     "metadata": {},
     "output_type": "display_data"
    }
   ],
   "source": [
    "# GA dataset metadata\n",
    "GA_meta = read.delim(GA_meta_file, sep='\\t') %>%\n",
    "    mutate(SampleID = gsub('^F', 'XF', SampleID))\n",
    "GA_meta "
   ]
  },
  {
   "cell_type": "code",
   "execution_count": 45,
   "metadata": {
    "ExecuteTime": {
     "end_time": "2020-01-22T07:28:43.386597Z",
     "start_time": "2020-01-22T07:28:43.292Z"
    }
   },
   "outputs": [
    {
     "name": "stderr",
     "output_type": "stream",
     "text": [
      "Warning message:\n",
      "“Column `Sample`/`SampleID` joining factor and character vector, coercing into character vector”\n"
     ]
    },
    {
     "data": {
      "text/html": [
       "<table>\n",
       "<caption>A data.frame: 290 × 76</caption>\n",
       "<thead>\n",
       "\t<tr><th scope=col>Sample</th><th scope=col>Read1</th><th scope=col>Read2</th><th scope=col>Total.Sequences</th><th scope=col>nonpareil_coverage</th><th scope=col>nonpareil_diversity</th><th scope=col>host_subject_id</th><th scope=col>host_german_name</th><th scope=col>host_common_name</th><th scope=col>scientific_name</th><th scope=col>⋯</th><th scope=col>temp_regulation</th><th scope=col>collection_date</th><th scope=col>season</th><th scope=col>samp_store_days</th><th scope=col>samp_collect_device</th><th scope=col>sampling_method</th><th scope=col>diet</th><th scope=col>feeding_style</th><th scope=col>digestive_system</th><th scope=col>digestive_system_detail</th></tr>\n",
       "\t<tr><th scope=col>&lt;chr&gt;</th><th scope=col>&lt;fct&gt;</th><th scope=col>&lt;fct&gt;</th><th scope=col>&lt;int&gt;</th><th scope=col>&lt;dbl&gt;</th><th scope=col>&lt;dbl&gt;</th><th scope=col>&lt;fct&gt;</th><th scope=col>&lt;fct&gt;</th><th scope=col>&lt;fct&gt;</th><th scope=col>&lt;fct&gt;</th><th scope=col>⋯</th><th scope=col>&lt;fct&gt;</th><th scope=col>&lt;fct&gt;</th><th scope=col>&lt;fct&gt;</th><th scope=col>&lt;fct&gt;</th><th scope=col>&lt;fct&gt;</th><th scope=col>&lt;fct&gt;</th><th scope=col>&lt;fct&gt;</th><th scope=col>&lt;fct&gt;</th><th scope=col>&lt;fct&gt;</th><th scope=col>&lt;fct&gt;</th></tr>\n",
       "</thead>\n",
       "<tbody>\n",
       "\t<tr><td>X144_Cattle               </td><td>/ebio/abt3_projects/Georg_animal_feces/data/metagenome/HiSeqRuns126-133-0138/wOutVertebrata/LLMGQC/final/X144_Cattle/R1_final.fq.gz               </td><td>/ebio/abt3_projects/Georg_animal_feces/data/metagenome/HiSeqRuns126-133-0138/wOutVertebrata/LLMGQC/final/X144_Cattle/R2_final.fq.gz               </td><td>10471331</td><td>0.3073356</td><td>22.03854</td><td>142</td><td>Hausrind             </td><td>Cattle               </td><td>Bos_taurus        </td><td>⋯</td><td>endotherm/homoiotherm</td><td>2009-06-17</td><td>spring</td><td>1102</td><td>Screw cap vial</td><td>feces sampling</td><td>herbivore</td><td>bulk and roughage eaters</td><td>foregut</td><td>foregut</td></tr>\n",
       "\t<tr><td>X370_African_Bush_Elephant</td><td>/ebio/abt3_projects/Georg_animal_feces/data/metagenome/HiSeqRuns126-133-0138/wOutVertebrata/LLMGQC/final/X370_African_Bush_Elephant/R1_final.fq.gz</td><td>/ebio/abt3_projects/Georg_animal_feces/data/metagenome/HiSeqRuns126-133-0138/wOutVertebrata/LLMGQC/final/X370_African_Bush_Elephant/R2_final.fq.gz</td><td>  551609</td><td>0.3190188</td><td>18.99648</td><td>370</td><td>Afrikanischer Elefant</td><td>African.Bush.Elephant</td><td>Loxodonta_africana</td><td>⋯</td><td>endotherm/homoiotherm</td><td>2013-06-05</td><td>spring</td><td>103 </td><td>Eppendorf tube</td><td>feces sampling</td><td>herbivore</td><td>NA                      </td><td>hindgut</td><td>colon  </td></tr>\n",
       "\t<tr><td>⋮</td><td>⋮</td><td>⋮</td><td>⋮</td><td>⋮</td><td>⋮</td><td>⋮</td><td>⋮</td><td>⋮</td><td>⋮</td><td>⋱</td><td>⋮</td><td>⋮</td><td>⋮</td><td>⋮</td><td>⋮</td><td>⋮</td><td>⋮</td><td>⋮</td><td>⋮</td><td>⋮</td></tr>\n",
       "\t<tr><td>X256_Zander          </td><td>/ebio/abt3_projects/Georg_animal_feces/data/metagenome/HiSeqRuns126-133-0138/wOutVertebrata/LLMGQC/final/X256_Zander/R1_final.fq.gz          </td><td>/ebio/abt3_projects/Georg_animal_feces/data/metagenome/HiSeqRuns126-133-0138/wOutVertebrata/LLMGQC/final/X256_Zander/R2_final.fq.gz          </td><td> 9198058</td><td>0.9757480</td><td>14.88468</td><td>256</td><td>Zander  </td><td>Zander           </td><td>Sander_lucioperca     </td><td>⋯</td><td>ectotherm/poikilotherm</td><td>2012-10-05</td><td>autumn</td><td>116</td><td>Screw cap vial</td><td>feces sampling</td><td>carnivore</td><td>NA</td><td>simple</td><td>simple</td></tr>\n",
       "\t<tr><td>X84_Common_Chiffchaff</td><td>/ebio/abt3_projects/Georg_animal_feces/data/metagenome/HiSeqRuns126-133-0138/wOutVertebrata/LLMGQC/final/X84_Common_Chiffchaff/R1_final.fq.gz</td><td>/ebio/abt3_projects/Georg_animal_feces/data/metagenome/HiSeqRuns126-133-0138/wOutVertebrata/LLMGQC/final/X84_Common_Chiffchaff/R2_final.fq.gz</td><td>24926183</td><td>0.9791558</td><td>14.22184</td><td>84 </td><td>Zilpzalp</td><td>Common.Chiffchaff</td><td>Phylloscopus_collybita</td><td>⋯</td><td>endotherm/homoiotherm </td><td>2011-10-01</td><td>autumn</td><td>100</td><td>Screw cap vial</td><td>swab          </td><td>omnivore </td><td>NA</td><td>simple</td><td>simple</td></tr>\n",
       "</tbody>\n",
       "</table>\n"
      ],
      "text/latex": [
       "A data.frame: 290 × 76\n",
       "\\begin{tabular}{lllllllllllllllllllll}\n",
       " Sample & Read1 & Read2 & Total.Sequences & nonpareil\\_coverage & nonpareil\\_diversity & host\\_subject\\_id & host\\_german\\_name & host\\_common\\_name & scientific\\_name & ⋯ & temp\\_regulation & collection\\_date & season & samp\\_store\\_days & samp\\_collect\\_device & sampling\\_method & diet & feeding\\_style & digestive\\_system & digestive\\_system\\_detail\\\\\n",
       " <chr> & <fct> & <fct> & <int> & <dbl> & <dbl> & <fct> & <fct> & <fct> & <fct> & ⋯ & <fct> & <fct> & <fct> & <fct> & <fct> & <fct> & <fct> & <fct> & <fct> & <fct>\\\\\n",
       "\\hline\n",
       "\t X144\\_Cattle                & /ebio/abt3\\_projects/Georg\\_animal\\_feces/data/metagenome/HiSeqRuns126-133-0138/wOutVertebrata/LLMGQC/final/X144\\_Cattle/R1\\_final.fq.gz                & /ebio/abt3\\_projects/Georg\\_animal\\_feces/data/metagenome/HiSeqRuns126-133-0138/wOutVertebrata/LLMGQC/final/X144\\_Cattle/R2\\_final.fq.gz                & 10471331 & 0.3073356 & 22.03854 & 142 & Hausrind              & Cattle                & Bos\\_taurus         & ⋯ & endotherm/homoiotherm & 2009-06-17 & spring & 1102 & Screw cap vial & feces sampling & herbivore & bulk and roughage eaters & foregut & foregut\\\\\n",
       "\t X370\\_African\\_Bush\\_Elephant & /ebio/abt3\\_projects/Georg\\_animal\\_feces/data/metagenome/HiSeqRuns126-133-0138/wOutVertebrata/LLMGQC/final/X370\\_African\\_Bush\\_Elephant/R1\\_final.fq.gz & /ebio/abt3\\_projects/Georg\\_animal\\_feces/data/metagenome/HiSeqRuns126-133-0138/wOutVertebrata/LLMGQC/final/X370\\_African\\_Bush\\_Elephant/R2\\_final.fq.gz &   551609 & 0.3190188 & 18.99648 & 370 & Afrikanischer Elefant & African.Bush.Elephant & Loxodonta\\_africana & ⋯ & endotherm/homoiotherm & 2013-06-05 & spring & 103  & Eppendorf tube & feces sampling & herbivore & NA                       & hindgut & colon  \\\\\n",
       "\t ⋮ & ⋮ & ⋮ & ⋮ & ⋮ & ⋮ & ⋮ & ⋮ & ⋮ & ⋮ & ⋱ & ⋮ & ⋮ & ⋮ & ⋮ & ⋮ & ⋮ & ⋮ & ⋮ & ⋮ & ⋮\\\\\n",
       "\t X256\\_Zander           & /ebio/abt3\\_projects/Georg\\_animal\\_feces/data/metagenome/HiSeqRuns126-133-0138/wOutVertebrata/LLMGQC/final/X256\\_Zander/R1\\_final.fq.gz           & /ebio/abt3\\_projects/Georg\\_animal\\_feces/data/metagenome/HiSeqRuns126-133-0138/wOutVertebrata/LLMGQC/final/X256\\_Zander/R2\\_final.fq.gz           &  9198058 & 0.9757480 & 14.88468 & 256 & Zander   & Zander            & Sander\\_lucioperca      & ⋯ & ectotherm/poikilotherm & 2012-10-05 & autumn & 116 & Screw cap vial & feces sampling & carnivore & NA & simple & simple\\\\\n",
       "\t X84\\_Common\\_Chiffchaff & /ebio/abt3\\_projects/Georg\\_animal\\_feces/data/metagenome/HiSeqRuns126-133-0138/wOutVertebrata/LLMGQC/final/X84\\_Common\\_Chiffchaff/R1\\_final.fq.gz & /ebio/abt3\\_projects/Georg\\_animal\\_feces/data/metagenome/HiSeqRuns126-133-0138/wOutVertebrata/LLMGQC/final/X84\\_Common\\_Chiffchaff/R2\\_final.fq.gz & 24926183 & 0.9791558 & 14.22184 & 84  & Zilpzalp & Common.Chiffchaff & Phylloscopus\\_collybita & ⋯ & endotherm/homoiotherm  & 2011-10-01 & autumn & 100 & Screw cap vial & swab           & omnivore  & NA & simple & simple\\\\\n",
       "\\end{tabular}\n"
      ],
      "text/markdown": [
       "\n",
       "A data.frame: 290 × 76\n",
       "\n",
       "| Sample &lt;chr&gt; | Read1 &lt;fct&gt; | Read2 &lt;fct&gt; | Total.Sequences &lt;int&gt; | nonpareil_coverage &lt;dbl&gt; | nonpareil_diversity &lt;dbl&gt; | host_subject_id &lt;fct&gt; | host_german_name &lt;fct&gt; | host_common_name &lt;fct&gt; | scientific_name &lt;fct&gt; | ⋯ ⋯ | temp_regulation &lt;fct&gt; | collection_date &lt;fct&gt; | season &lt;fct&gt; | samp_store_days &lt;fct&gt; | samp_collect_device &lt;fct&gt; | sampling_method &lt;fct&gt; | diet &lt;fct&gt; | feeding_style &lt;fct&gt; | digestive_system &lt;fct&gt; | digestive_system_detail &lt;fct&gt; |\n",
       "|---|---|---|---|---|---|---|---|---|---|---|---|---|---|---|---|---|---|---|---|---|\n",
       "| X144_Cattle                | /ebio/abt3_projects/Georg_animal_feces/data/metagenome/HiSeqRuns126-133-0138/wOutVertebrata/LLMGQC/final/X144_Cattle/R1_final.fq.gz                | /ebio/abt3_projects/Georg_animal_feces/data/metagenome/HiSeqRuns126-133-0138/wOutVertebrata/LLMGQC/final/X144_Cattle/R2_final.fq.gz                | 10471331 | 0.3073356 | 22.03854 | 142 | Hausrind              | Cattle                | Bos_taurus         | ⋯ | endotherm/homoiotherm | 2009-06-17 | spring | 1102 | Screw cap vial | feces sampling | herbivore | bulk and roughage eaters | foregut | foregut |\n",
       "| X370_African_Bush_Elephant | /ebio/abt3_projects/Georg_animal_feces/data/metagenome/HiSeqRuns126-133-0138/wOutVertebrata/LLMGQC/final/X370_African_Bush_Elephant/R1_final.fq.gz | /ebio/abt3_projects/Georg_animal_feces/data/metagenome/HiSeqRuns126-133-0138/wOutVertebrata/LLMGQC/final/X370_African_Bush_Elephant/R2_final.fq.gz |   551609 | 0.3190188 | 18.99648 | 370 | Afrikanischer Elefant | African.Bush.Elephant | Loxodonta_africana | ⋯ | endotherm/homoiotherm | 2013-06-05 | spring | 103  | Eppendorf tube | feces sampling | herbivore | NA                       | hindgut | colon   |\n",
       "| ⋮ | ⋮ | ⋮ | ⋮ | ⋮ | ⋮ | ⋮ | ⋮ | ⋮ | ⋮ | ⋱ | ⋮ | ⋮ | ⋮ | ⋮ | ⋮ | ⋮ | ⋮ | ⋮ | ⋮ | ⋮ |\n",
       "| X256_Zander           | /ebio/abt3_projects/Georg_animal_feces/data/metagenome/HiSeqRuns126-133-0138/wOutVertebrata/LLMGQC/final/X256_Zander/R1_final.fq.gz           | /ebio/abt3_projects/Georg_animal_feces/data/metagenome/HiSeqRuns126-133-0138/wOutVertebrata/LLMGQC/final/X256_Zander/R2_final.fq.gz           |  9198058 | 0.9757480 | 14.88468 | 256 | Zander   | Zander            | Sander_lucioperca      | ⋯ | ectotherm/poikilotherm | 2012-10-05 | autumn | 116 | Screw cap vial | feces sampling | carnivore | NA | simple | simple |\n",
       "| X84_Common_Chiffchaff | /ebio/abt3_projects/Georg_animal_feces/data/metagenome/HiSeqRuns126-133-0138/wOutVertebrata/LLMGQC/final/X84_Common_Chiffchaff/R1_final.fq.gz | /ebio/abt3_projects/Georg_animal_feces/data/metagenome/HiSeqRuns126-133-0138/wOutVertebrata/LLMGQC/final/X84_Common_Chiffchaff/R2_final.fq.gz | 24926183 | 0.9791558 | 14.22184 | 84  | Zilpzalp | Common.Chiffchaff | Phylloscopus_collybita | ⋯ | endotherm/homoiotherm  | 2011-10-01 | autumn | 100 | Screw cap vial | swab           | omnivore  | NA | simple | simple |\n",
       "\n"
      ],
      "text/plain": [
       "    Sample                    \n",
       "1   X144_Cattle               \n",
       "2   X370_African_Bush_Elephant\n",
       "⋮   ⋮                         \n",
       "289 X256_Zander               \n",
       "290 X84_Common_Chiffchaff     \n",
       "    Read1                                                                                                                                             \n",
       "1   /ebio/abt3_projects/Georg_animal_feces/data/metagenome/HiSeqRuns126-133-0138/wOutVertebrata/LLMGQC/final/X144_Cattle/R1_final.fq.gz               \n",
       "2   /ebio/abt3_projects/Georg_animal_feces/data/metagenome/HiSeqRuns126-133-0138/wOutVertebrata/LLMGQC/final/X370_African_Bush_Elephant/R1_final.fq.gz\n",
       "⋮   ⋮                                                                                                                                                 \n",
       "289 /ebio/abt3_projects/Georg_animal_feces/data/metagenome/HiSeqRuns126-133-0138/wOutVertebrata/LLMGQC/final/X256_Zander/R1_final.fq.gz               \n",
       "290 /ebio/abt3_projects/Georg_animal_feces/data/metagenome/HiSeqRuns126-133-0138/wOutVertebrata/LLMGQC/final/X84_Common_Chiffchaff/R1_final.fq.gz     \n",
       "    Read2                                                                                                                                             \n",
       "1   /ebio/abt3_projects/Georg_animal_feces/data/metagenome/HiSeqRuns126-133-0138/wOutVertebrata/LLMGQC/final/X144_Cattle/R2_final.fq.gz               \n",
       "2   /ebio/abt3_projects/Georg_animal_feces/data/metagenome/HiSeqRuns126-133-0138/wOutVertebrata/LLMGQC/final/X370_African_Bush_Elephant/R2_final.fq.gz\n",
       "⋮   ⋮                                                                                                                                                 \n",
       "289 /ebio/abt3_projects/Georg_animal_feces/data/metagenome/HiSeqRuns126-133-0138/wOutVertebrata/LLMGQC/final/X256_Zander/R2_final.fq.gz               \n",
       "290 /ebio/abt3_projects/Georg_animal_feces/data/metagenome/HiSeqRuns126-133-0138/wOutVertebrata/LLMGQC/final/X84_Common_Chiffchaff/R2_final.fq.gz     \n",
       "    Total.Sequences nonpareil_coverage nonpareil_diversity host_subject_id\n",
       "1   10471331        0.3073356          22.03854            142            \n",
       "2     551609        0.3190188          18.99648            370            \n",
       "⋮   ⋮               ⋮                  ⋮                   ⋮              \n",
       "289  9198058        0.9757480          14.88468            256            \n",
       "290 24926183        0.9791558          14.22184            84             \n",
       "    host_german_name      host_common_name      scientific_name        ⋯\n",
       "1   Hausrind              Cattle                Bos_taurus             ⋯\n",
       "2   Afrikanischer Elefant African.Bush.Elephant Loxodonta_africana     ⋯\n",
       "⋮   ⋮                     ⋮                     ⋮                      ⋱\n",
       "289 Zander                Zander                Sander_lucioperca      ⋯\n",
       "290 Zilpzalp              Common.Chiffchaff     Phylloscopus_collybita ⋯\n",
       "    temp_regulation        collection_date season samp_store_days\n",
       "1   endotherm/homoiotherm  2009-06-17      spring 1102           \n",
       "2   endotherm/homoiotherm  2013-06-05      spring 103            \n",
       "⋮   ⋮                      ⋮               ⋮      ⋮              \n",
       "289 ectotherm/poikilotherm 2012-10-05      autumn 116            \n",
       "290 endotherm/homoiotherm  2011-10-01      autumn 100            \n",
       "    samp_collect_device sampling_method diet      feeding_style           \n",
       "1   Screw cap vial      feces sampling  herbivore bulk and roughage eaters\n",
       "2   Eppendorf tube      feces sampling  herbivore NA                      \n",
       "⋮   ⋮                   ⋮               ⋮         ⋮                       \n",
       "289 Screw cap vial      feces sampling  carnivore NA                      \n",
       "290 Screw cap vial      swab            omnivore  NA                      \n",
       "    digestive_system digestive_system_detail\n",
       "1   foregut          foregut                \n",
       "2   hindgut          colon                  \n",
       "⋮   ⋮                ⋮                      \n",
       "289 simple           simple                 \n",
       "290 simple           simple                 "
      ]
     },
     "metadata": {},
     "output_type": "display_data"
    }
   ],
   "source": [
    "# GA dataset post-QC samples\n",
    "GA_samp = read.delim(GA_samp_file, sep='\\t') %>%\n",
    "    inner_join(GA_meta, c('Sample'='SampleID'))\n",
    "GA_samp"
   ]
  },
  {
   "cell_type": "code",
   "execution_count": 46,
   "metadata": {
    "ExecuteTime": {
     "end_time": "2020-01-22T07:28:48.301904Z",
     "start_time": "2020-01-22T07:28:48.094Z"
    }
   },
   "outputs": [
    {
     "data": {
      "text/html": [
       "<table>\n",
       "<caption>A data.frame: 1522 × 56</caption>\n",
       "<thead>\n",
       "\t<tr><th scope=col>binID</th><th scope=col>fasta.x</th><th scope=col>Marker.lineage</th><th scope=col>X..genomes</th><th scope=col>X..markers</th><th scope=col>X..marker.sets</th><th scope=col>Completeness</th><th scope=col>Contamination</th><th scope=col>Strain.heterogeneity</th><th scope=col>Genome.size..bp.</th><th scope=col>⋯</th><th scope=col>closest_placement_taxonomy</th><th scope=col>closest_placement_ani</th><th scope=col>closest_placement_af</th><th scope=col>pplacer_taxonomy</th><th scope=col>classification_method</th><th scope=col>note</th><th scope=col>aa_percent</th><th scope=col>translation_table</th><th scope=col>red_value</th><th scope=col>warnings</th></tr>\n",
       "\t<tr><th scope=col>&lt;fct&gt;</th><th scope=col>&lt;fct&gt;</th><th scope=col>&lt;fct&gt;</th><th scope=col>&lt;int&gt;</th><th scope=col>&lt;int&gt;</th><th scope=col>&lt;int&gt;</th><th scope=col>&lt;dbl&gt;</th><th scope=col>&lt;dbl&gt;</th><th scope=col>&lt;dbl&gt;</th><th scope=col>&lt;int&gt;</th><th scope=col>⋯</th><th scope=col>&lt;fct&gt;</th><th scope=col>&lt;fct&gt;</th><th scope=col>&lt;fct&gt;</th><th scope=col>&lt;fct&gt;</th><th scope=col>&lt;fct&gt;</th><th scope=col>&lt;fct&gt;</th><th scope=col>&lt;dbl&gt;</th><th scope=col>&lt;int&gt;</th><th scope=col>&lt;fct&gt;</th><th scope=col>&lt;fct&gt;</th></tr>\n",
       "</thead>\n",
       "<tbody>\n",
       "\t<tr><td>artificially_reared_1__metabat2_low_PE.002.contigs </td><td>/ebio/abt3_projects/Georg_animal_feces/data//metagenome/multi-study/BioProjects/summary/LLMGA/wGeorgAnimal/drep-0.95/dereplicated_genomes/artificially_reared_1__metabat2_low_PE.002.contigs.fa </td><td>o__Bacteroidales (UID2657)</td><td>160</td><td>491</td><td>268</td><td>92.92</td><td>3.00</td><td>28.57</td><td>3388189</td><td>⋯</td><td>d__Bacteria;p__Bacteroidota;c__Bacteroidia;o__Bacteroidales;f__Bacteroidaceae;g__Bacteroides_A;s__Bacteroides_A sp900066445</td><td>85.72</td><td>0.61</td><td>d__Bacteria;p__Bacteroidota;c__Bacteroidia;o__Bacteroidales;f__Bacteroidaceae;g__Bacteroides_A;s__</td><td>Placement</td><td>taxonomic classification fully defined by topology</td><td>93.33</td><td>11</td><td>0.985595897806</td><td>N/A</td></tr>\n",
       "\t<tr><td>artificially_reared_2__maxbin2_low_prob.006.contigs</td><td>/ebio/abt3_projects/Georg_animal_feces/data//metagenome/multi-study/BioProjects/summary/LLMGA/wGeorgAnimal/drep-0.95/dereplicated_genomes/artificially_reared_2__maxbin2_low_prob.006.contigs.fa</td><td>k__Bacteria (UID2569)     </td><td>434</td><td>278</td><td>186</td><td>88.60</td><td>1.11</td><td>50.00</td><td>2174315</td><td>⋯</td><td>N/A                                                                                                                        </td><td>N/A  </td><td>N/A </td><td>d__Bacteria;p__Bacteroidota;c__Bacteroidia;o__Bacteroidales;f__Paludibacteraceae;g__;s__          </td><td>Placement</td><td>taxonomic classification fully defined by topology</td><td>90.20</td><td>11</td><td>0.836955988283</td><td>N/A</td></tr>\n",
       "\t<tr><td>⋮</td><td>⋮</td><td>⋮</td><td>⋮</td><td>⋮</td><td>⋮</td><td>⋮</td><td>⋮</td><td>⋮</td><td>⋮</td><td>⋱</td><td>⋮</td><td>⋮</td><td>⋮</td><td>⋮</td><td>⋮</td><td>⋮</td><td>⋮</td><td>⋮</td><td>⋮</td><td>⋮</td></tr>\n",
       "\t<tr><td>X95_Meadow_Viper__metabat2_low_PE.002.contigs  </td><td>/ebio/abt3_projects/Georg_animal_feces/data//metagenome/multi-study/BioProjects/summary/LLMGA/wGeorgAnimal/drep-0.95/dereplicated_genomes/X95_Meadow_Viper__metabat2_low_PE.002.contigs.fa  </td><td>f__Enterobacteriaceae (UID5124)</td><td>134</td><td>1172</td><td>336</td><td>89.06</td><td>0.94</td><td>58.33</td><td>3738913</td><td>⋯</td><td>d__Bacteria;p__Proteobacteria;c__Gammaproteobacteria;o__Enterobacterales;f__Enterobacteriaceae;g__Citrobacter;s__Citrobacter freundii</td><td>98.83</td><td>0.94</td><td>d__Bacteria;p__Proteobacteria;c__Gammaproteobacteria;o__Enterobacterales;f__Enterobacteriaceae;g__Citrobacter;s__</td><td>ANI/Placement</td><td>topological placement and ANI have congruent species assignments</td><td>94.35</td><td>11</td><td>N/A           </td><td>N/A</td></tr>\n",
       "\t<tr><td>X96_European_Hare__metabat2_high_PE.013.contigs</td><td>/ebio/abt3_projects/Georg_animal_feces/data//metagenome/multi-study/BioProjects/summary/LLMGA/wGeorgAnimal/drep-0.95/dereplicated_genomes/X96_European_Hare__metabat2_high_PE.013.contigs.fa</td><td>o__Clostridiales (UID1212)     </td><td>172</td><td> 263</td><td>149</td><td>93.83</td><td>1.45</td><td> 0.00</td><td>2554075</td><td>⋯</td><td>d__Bacteria;p__Firmicutes_A;c__Clostridia;o__Oscillospirales;f__Oscillospiraceae;g__UBA5446;s__UBA5446 sp002427465                   </td><td>76.48</td><td>0.13</td><td>d__Bacteria;p__Firmicutes_A;c__Clostridia;o__Oscillospirales;f__Oscillospiraceae;g__;s__                         </td><td>Placement    </td><td>taxonomic novelty determined using RED                          </td><td>94.40</td><td>11</td><td>0.918766142869</td><td>N/A</td></tr>\n",
       "</tbody>\n",
       "</table>\n"
      ],
      "text/latex": [
       "A data.frame: 1522 × 56\n",
       "\\begin{tabular}{lllllllllllllllllllll}\n",
       " binID & fasta.x & Marker.lineage & X..genomes & X..markers & X..marker.sets & Completeness & Contamination & Strain.heterogeneity & Genome.size..bp. & ⋯ & closest\\_placement\\_taxonomy & closest\\_placement\\_ani & closest\\_placement\\_af & pplacer\\_taxonomy & classification\\_method & note & aa\\_percent & translation\\_table & red\\_value & warnings\\\\\n",
       " <fct> & <fct> & <fct> & <int> & <int> & <int> & <dbl> & <dbl> & <dbl> & <int> & ⋯ & <fct> & <fct> & <fct> & <fct> & <fct> & <fct> & <dbl> & <int> & <fct> & <fct>\\\\\n",
       "\\hline\n",
       "\t artificially\\_reared\\_1\\_\\_metabat2\\_low\\_PE.002.contigs  & /ebio/abt3\\_projects/Georg\\_animal\\_feces/data//metagenome/multi-study/BioProjects/summary/LLMGA/wGeorgAnimal/drep-0.95/dereplicated\\_genomes/artificially\\_reared\\_1\\_\\_metabat2\\_low\\_PE.002.contigs.fa  & o\\_\\_Bacteroidales (UID2657) & 160 & 491 & 268 & 92.92 & 3.00 & 28.57 & 3388189 & ⋯ & d\\_\\_Bacteria;p\\_\\_Bacteroidota;c\\_\\_Bacteroidia;o\\_\\_Bacteroidales;f\\_\\_Bacteroidaceae;g\\_\\_Bacteroides\\_A;s\\_\\_Bacteroides\\_A sp900066445 & 85.72 & 0.61 & d\\_\\_Bacteria;p\\_\\_Bacteroidota;c\\_\\_Bacteroidia;o\\_\\_Bacteroidales;f\\_\\_Bacteroidaceae;g\\_\\_Bacteroides\\_A;s\\_\\_ & Placement & taxonomic classification fully defined by topology & 93.33 & 11 & 0.985595897806 & N/A\\\\\n",
       "\t artificially\\_reared\\_2\\_\\_maxbin2\\_low\\_prob.006.contigs & /ebio/abt3\\_projects/Georg\\_animal\\_feces/data//metagenome/multi-study/BioProjects/summary/LLMGA/wGeorgAnimal/drep-0.95/dereplicated\\_genomes/artificially\\_reared\\_2\\_\\_maxbin2\\_low\\_prob.006.contigs.fa & k\\_\\_Bacteria (UID2569)      & 434 & 278 & 186 & 88.60 & 1.11 & 50.00 & 2174315 & ⋯ & N/A                                                                                                                         & N/A   & N/A  & d\\_\\_Bacteria;p\\_\\_Bacteroidota;c\\_\\_Bacteroidia;o\\_\\_Bacteroidales;f\\_\\_Paludibacteraceae;g\\_\\_;s\\_\\_           & Placement & taxonomic classification fully defined by topology & 90.20 & 11 & 0.836955988283 & N/A\\\\\n",
       "\t ⋮ & ⋮ & ⋮ & ⋮ & ⋮ & ⋮ & ⋮ & ⋮ & ⋮ & ⋮ & ⋱ & ⋮ & ⋮ & ⋮ & ⋮ & ⋮ & ⋮ & ⋮ & ⋮ & ⋮ & ⋮\\\\\n",
       "\t X95\\_Meadow\\_Viper\\_\\_metabat2\\_low\\_PE.002.contigs   & /ebio/abt3\\_projects/Georg\\_animal\\_feces/data//metagenome/multi-study/BioProjects/summary/LLMGA/wGeorgAnimal/drep-0.95/dereplicated\\_genomes/X95\\_Meadow\\_Viper\\_\\_metabat2\\_low\\_PE.002.contigs.fa   & f\\_\\_Enterobacteriaceae (UID5124) & 134 & 1172 & 336 & 89.06 & 0.94 & 58.33 & 3738913 & ⋯ & d\\_\\_Bacteria;p\\_\\_Proteobacteria;c\\_\\_Gammaproteobacteria;o\\_\\_Enterobacterales;f\\_\\_Enterobacteriaceae;g\\_\\_Citrobacter;s\\_\\_Citrobacter freundii & 98.83 & 0.94 & d\\_\\_Bacteria;p\\_\\_Proteobacteria;c\\_\\_Gammaproteobacteria;o\\_\\_Enterobacterales;f\\_\\_Enterobacteriaceae;g\\_\\_Citrobacter;s\\_\\_ & ANI/Placement & topological placement and ANI have congruent species assignments & 94.35 & 11 & N/A            & N/A\\\\\n",
       "\t X96\\_European\\_Hare\\_\\_metabat2\\_high\\_PE.013.contigs & /ebio/abt3\\_projects/Georg\\_animal\\_feces/data//metagenome/multi-study/BioProjects/summary/LLMGA/wGeorgAnimal/drep-0.95/dereplicated\\_genomes/X96\\_European\\_Hare\\_\\_metabat2\\_high\\_PE.013.contigs.fa & o\\_\\_Clostridiales (UID1212)      & 172 &  263 & 149 & 93.83 & 1.45 &  0.00 & 2554075 & ⋯ & d\\_\\_Bacteria;p\\_\\_Firmicutes\\_A;c\\_\\_Clostridia;o\\_\\_Oscillospirales;f\\_\\_Oscillospiraceae;g\\_\\_UBA5446;s\\_\\_UBA5446 sp002427465                    & 76.48 & 0.13 & d\\_\\_Bacteria;p\\_\\_Firmicutes\\_A;c\\_\\_Clostridia;o\\_\\_Oscillospirales;f\\_\\_Oscillospiraceae;g\\_\\_;s\\_\\_                          & Placement     & taxonomic novelty determined using RED                           & 94.40 & 11 & 0.918766142869 & N/A\\\\\n",
       "\\end{tabular}\n"
      ],
      "text/markdown": [
       "\n",
       "A data.frame: 1522 × 56\n",
       "\n",
       "| binID &lt;fct&gt; | fasta.x &lt;fct&gt; | Marker.lineage &lt;fct&gt; | X..genomes &lt;int&gt; | X..markers &lt;int&gt; | X..marker.sets &lt;int&gt; | Completeness &lt;dbl&gt; | Contamination &lt;dbl&gt; | Strain.heterogeneity &lt;dbl&gt; | Genome.size..bp. &lt;int&gt; | ⋯ ⋯ | closest_placement_taxonomy &lt;fct&gt; | closest_placement_ani &lt;fct&gt; | closest_placement_af &lt;fct&gt; | pplacer_taxonomy &lt;fct&gt; | classification_method &lt;fct&gt; | note &lt;fct&gt; | aa_percent &lt;dbl&gt; | translation_table &lt;int&gt; | red_value &lt;fct&gt; | warnings &lt;fct&gt; |\n",
       "|---|---|---|---|---|---|---|---|---|---|---|---|---|---|---|---|---|---|---|---|---|\n",
       "| artificially_reared_1__metabat2_low_PE.002.contigs  | /ebio/abt3_projects/Georg_animal_feces/data//metagenome/multi-study/BioProjects/summary/LLMGA/wGeorgAnimal/drep-0.95/dereplicated_genomes/artificially_reared_1__metabat2_low_PE.002.contigs.fa  | o__Bacteroidales (UID2657) | 160 | 491 | 268 | 92.92 | 3.00 | 28.57 | 3388189 | ⋯ | d__Bacteria;p__Bacteroidota;c__Bacteroidia;o__Bacteroidales;f__Bacteroidaceae;g__Bacteroides_A;s__Bacteroides_A sp900066445 | 85.72 | 0.61 | d__Bacteria;p__Bacteroidota;c__Bacteroidia;o__Bacteroidales;f__Bacteroidaceae;g__Bacteroides_A;s__ | Placement | taxonomic classification fully defined by topology | 93.33 | 11 | 0.985595897806 | N/A |\n",
       "| artificially_reared_2__maxbin2_low_prob.006.contigs | /ebio/abt3_projects/Georg_animal_feces/data//metagenome/multi-study/BioProjects/summary/LLMGA/wGeorgAnimal/drep-0.95/dereplicated_genomes/artificially_reared_2__maxbin2_low_prob.006.contigs.fa | k__Bacteria (UID2569)      | 434 | 278 | 186 | 88.60 | 1.11 | 50.00 | 2174315 | ⋯ | N/A                                                                                                                         | N/A   | N/A  | d__Bacteria;p__Bacteroidota;c__Bacteroidia;o__Bacteroidales;f__Paludibacteraceae;g__;s__           | Placement | taxonomic classification fully defined by topology | 90.20 | 11 | 0.836955988283 | N/A |\n",
       "| ⋮ | ⋮ | ⋮ | ⋮ | ⋮ | ⋮ | ⋮ | ⋮ | ⋮ | ⋮ | ⋱ | ⋮ | ⋮ | ⋮ | ⋮ | ⋮ | ⋮ | ⋮ | ⋮ | ⋮ | ⋮ |\n",
       "| X95_Meadow_Viper__metabat2_low_PE.002.contigs   | /ebio/abt3_projects/Georg_animal_feces/data//metagenome/multi-study/BioProjects/summary/LLMGA/wGeorgAnimal/drep-0.95/dereplicated_genomes/X95_Meadow_Viper__metabat2_low_PE.002.contigs.fa   | f__Enterobacteriaceae (UID5124) | 134 | 1172 | 336 | 89.06 | 0.94 | 58.33 | 3738913 | ⋯ | d__Bacteria;p__Proteobacteria;c__Gammaproteobacteria;o__Enterobacterales;f__Enterobacteriaceae;g__Citrobacter;s__Citrobacter freundii | 98.83 | 0.94 | d__Bacteria;p__Proteobacteria;c__Gammaproteobacteria;o__Enterobacterales;f__Enterobacteriaceae;g__Citrobacter;s__ | ANI/Placement | topological placement and ANI have congruent species assignments | 94.35 | 11 | N/A            | N/A |\n",
       "| X96_European_Hare__metabat2_high_PE.013.contigs | /ebio/abt3_projects/Georg_animal_feces/data//metagenome/multi-study/BioProjects/summary/LLMGA/wGeorgAnimal/drep-0.95/dereplicated_genomes/X96_European_Hare__metabat2_high_PE.013.contigs.fa | o__Clostridiales (UID1212)      | 172 |  263 | 149 | 93.83 | 1.45 |  0.00 | 2554075 | ⋯ | d__Bacteria;p__Firmicutes_A;c__Clostridia;o__Oscillospirales;f__Oscillospiraceae;g__UBA5446;s__UBA5446 sp002427465                    | 76.48 | 0.13 | d__Bacteria;p__Firmicutes_A;c__Clostridia;o__Oscillospirales;f__Oscillospiraceae;g__;s__                          | Placement     | taxonomic novelty determined using RED                           | 94.40 | 11 | 0.918766142869 | N/A |\n",
       "\n"
      ],
      "text/plain": [
       "     binID                                              \n",
       "1    artificially_reared_1__metabat2_low_PE.002.contigs \n",
       "2    artificially_reared_2__maxbin2_low_prob.006.contigs\n",
       "⋮    ⋮                                                  \n",
       "1521 X95_Meadow_Viper__metabat2_low_PE.002.contigs      \n",
       "1522 X96_European_Hare__metabat2_high_PE.013.contigs    \n",
       "     fasta.x                                                                                                                                                                                         \n",
       "1    /ebio/abt3_projects/Georg_animal_feces/data//metagenome/multi-study/BioProjects/summary/LLMGA/wGeorgAnimal/drep-0.95/dereplicated_genomes/artificially_reared_1__metabat2_low_PE.002.contigs.fa \n",
       "2    /ebio/abt3_projects/Georg_animal_feces/data//metagenome/multi-study/BioProjects/summary/LLMGA/wGeorgAnimal/drep-0.95/dereplicated_genomes/artificially_reared_2__maxbin2_low_prob.006.contigs.fa\n",
       "⋮    ⋮                                                                                                                                                                                               \n",
       "1521 /ebio/abt3_projects/Georg_animal_feces/data//metagenome/multi-study/BioProjects/summary/LLMGA/wGeorgAnimal/drep-0.95/dereplicated_genomes/X95_Meadow_Viper__metabat2_low_PE.002.contigs.fa      \n",
       "1522 /ebio/abt3_projects/Georg_animal_feces/data//metagenome/multi-study/BioProjects/summary/LLMGA/wGeorgAnimal/drep-0.95/dereplicated_genomes/X96_European_Hare__metabat2_high_PE.013.contigs.fa    \n",
       "     Marker.lineage                  X..genomes X..markers X..marker.sets\n",
       "1    o__Bacteroidales (UID2657)      160        491        268           \n",
       "2    k__Bacteria (UID2569)           434        278        186           \n",
       "⋮    ⋮                               ⋮          ⋮          ⋮             \n",
       "1521 f__Enterobacteriaceae (UID5124) 134        1172       336           \n",
       "1522 o__Clostridiales (UID1212)      172         263       149           \n",
       "     Completeness Contamination Strain.heterogeneity Genome.size..bp. ⋯\n",
       "1    92.92        3.00          28.57                3388189          ⋯\n",
       "2    88.60        1.11          50.00                2174315          ⋯\n",
       "⋮    ⋮            ⋮             ⋮                    ⋮                ⋱\n",
       "1521 89.06        0.94          58.33                3738913          ⋯\n",
       "1522 93.83        1.45           0.00                2554075          ⋯\n",
       "     closest_placement_taxonomy                                                                                                           \n",
       "1    d__Bacteria;p__Bacteroidota;c__Bacteroidia;o__Bacteroidales;f__Bacteroidaceae;g__Bacteroides_A;s__Bacteroides_A sp900066445          \n",
       "2    N/A                                                                                                                                  \n",
       "⋮    ⋮                                                                                                                                    \n",
       "1521 d__Bacteria;p__Proteobacteria;c__Gammaproteobacteria;o__Enterobacterales;f__Enterobacteriaceae;g__Citrobacter;s__Citrobacter freundii\n",
       "1522 d__Bacteria;p__Firmicutes_A;c__Clostridia;o__Oscillospirales;f__Oscillospiraceae;g__UBA5446;s__UBA5446 sp002427465                   \n",
       "     closest_placement_ani closest_placement_af\n",
       "1    85.72                 0.61                \n",
       "2    N/A                   N/A                 \n",
       "⋮    ⋮                     ⋮                   \n",
       "1521 98.83                 0.94                \n",
       "1522 76.48                 0.13                \n",
       "     pplacer_taxonomy                                                                                                 \n",
       "1    d__Bacteria;p__Bacteroidota;c__Bacteroidia;o__Bacteroidales;f__Bacteroidaceae;g__Bacteroides_A;s__               \n",
       "2    d__Bacteria;p__Bacteroidota;c__Bacteroidia;o__Bacteroidales;f__Paludibacteraceae;g__;s__                         \n",
       "⋮    ⋮                                                                                                                \n",
       "1521 d__Bacteria;p__Proteobacteria;c__Gammaproteobacteria;o__Enterobacterales;f__Enterobacteriaceae;g__Citrobacter;s__\n",
       "1522 d__Bacteria;p__Firmicutes_A;c__Clostridia;o__Oscillospirales;f__Oscillospiraceae;g__;s__                         \n",
       "     classification_method\n",
       "1    Placement            \n",
       "2    Placement            \n",
       "⋮    ⋮                    \n",
       "1521 ANI/Placement        \n",
       "1522 Placement            \n",
       "     note                                                            \n",
       "1    taxonomic classification fully defined by topology              \n",
       "2    taxonomic classification fully defined by topology              \n",
       "⋮    ⋮                                                               \n",
       "1521 topological placement and ANI have congruent species assignments\n",
       "1522 taxonomic novelty determined using RED                          \n",
       "     aa_percent translation_table red_value      warnings\n",
       "1    93.33      11                0.985595897806 N/A     \n",
       "2    90.20      11                0.836955988283 N/A     \n",
       "⋮    ⋮          ⋮                 ⋮              ⋮       \n",
       "1521 94.35      11                N/A            N/A     \n",
       "1522 94.40      11                0.918766142869 N/A     "
      ]
     },
     "metadata": {},
     "output_type": "display_data"
    }
   ],
   "source": [
    "# MAG metadata\n",
    "MAG_meta = read.delim(MAG_meta_file, sep='\\t')\n",
    "MAG_meta "
   ]
  },
  {
   "cell_type": "markdown",
   "metadata": {},
   "source": [
    "# LLMGPS (3 mil reads)"
   ]
  },
  {
   "cell_type": "markdown",
   "metadata": {},
   "source": [
    "## Number of samples"
   ]
  },
  {
   "cell_type": "code",
   "execution_count": 47,
   "metadata": {
    "ExecuteTime": {
     "end_time": "2020-01-22T07:28:54.686244Z",
     "start_time": "2020-01-22T07:28:54.605Z"
    }
   },
   "outputs": [
    {
     "name": "stdout",
     "output_type": "stream",
     "text": [
      ".\n",
      "Actinopterygii       Amphibia           Aves Chondrichthyes       Mammalia \n",
      "             3              3             25              0             78 \n",
      "      Reptilia \n",
      "             5 \n"
     ]
    },
    {
     "data": {
      "text/html": [
       "<table>\n",
       "<caption>A data.frame: 114 × 76</caption>\n",
       "<thead>\n",
       "\t<tr><th scope=col>Sample</th><th scope=col>Read1</th><th scope=col>Read2</th><th scope=col>Total.Sequences</th><th scope=col>nonpareil_coverage</th><th scope=col>nonpareil_diversity</th><th scope=col>host_subject_id</th><th scope=col>host_german_name</th><th scope=col>host_common_name</th><th scope=col>scientific_name</th><th scope=col>⋯</th><th scope=col>temp_regulation</th><th scope=col>collection_date</th><th scope=col>season</th><th scope=col>samp_store_days</th><th scope=col>samp_collect_device</th><th scope=col>sampling_method</th><th scope=col>diet</th><th scope=col>feeding_style</th><th scope=col>digestive_system</th><th scope=col>digestive_system_detail</th></tr>\n",
       "\t<tr><th scope=col>&lt;chr&gt;</th><th scope=col>&lt;fct&gt;</th><th scope=col>&lt;fct&gt;</th><th scope=col>&lt;int&gt;</th><th scope=col>&lt;dbl&gt;</th><th scope=col>&lt;dbl&gt;</th><th scope=col>&lt;fct&gt;</th><th scope=col>&lt;fct&gt;</th><th scope=col>&lt;fct&gt;</th><th scope=col>&lt;fct&gt;</th><th scope=col>⋯</th><th scope=col>&lt;fct&gt;</th><th scope=col>&lt;fct&gt;</th><th scope=col>&lt;fct&gt;</th><th scope=col>&lt;fct&gt;</th><th scope=col>&lt;fct&gt;</th><th scope=col>&lt;fct&gt;</th><th scope=col>&lt;fct&gt;</th><th scope=col>&lt;fct&gt;</th><th scope=col>&lt;fct&gt;</th><th scope=col>&lt;fct&gt;</th></tr>\n",
       "</thead>\n",
       "<tbody>\n",
       "\t<tr><td>X144_Cattle</td><td>/ebio/abt3_projects/Georg_animal_feces/data/metagenome/HiSeqRuns126-133-0138/wOutVertebrata/LLMGQC/final/X144_Cattle/R1_final.fq.gz</td><td>/ebio/abt3_projects/Georg_animal_feces/data/metagenome/HiSeqRuns126-133-0138/wOutVertebrata/LLMGQC/final/X144_Cattle/R2_final.fq.gz</td><td>10471331</td><td>0.3073356</td><td>22.03854</td><td>142</td><td>Hausrind             </td><td>Cattle </td><td>Bos_taurus</td><td>⋯</td><td>endotherm/homoiotherm</td><td>2009-06-17</td><td>spring</td><td>1102   </td><td>Screw cap vial</td><td>feces sampling</td><td>herbivore</td><td>bulk and roughage eaters</td><td>foregut</td><td>foregut</td></tr>\n",
       "\t<tr><td>X66_Mouflon</td><td>/ebio/abt3_projects/Georg_animal_feces/data/metagenome/HiSeqRuns126-133-0138/wOutVertebrata/LLMGQC/final/X66_Mouflon/R1_final.fq.gz</td><td>/ebio/abt3_projects/Georg_animal_feces/data/metagenome/HiSeqRuns126-133-0138/wOutVertebrata/LLMGQC/final/X66_Mouflon/R2_final.fq.gz</td><td> 3169942</td><td>0.3202296</td><td>21.23338</td><td>66 </td><td>Europaeischer Mufflon</td><td>Mouflon</td><td>Ovis_aries</td><td>⋯</td><td>endotherm/homoiotherm</td><td>2011-10-31</td><td>autumn</td><td>#VALUE!</td><td>Screw cap vial</td><td>feces sampling</td><td>herbivore</td><td>intermediate type       </td><td>foregut</td><td>foregut</td></tr>\n",
       "\t<tr><td>⋮</td><td>⋮</td><td>⋮</td><td>⋮</td><td>⋮</td><td>⋮</td><td>⋮</td><td>⋮</td><td>⋮</td><td>⋮</td><td>⋱</td><td>⋮</td><td>⋮</td><td>⋮</td><td>⋮</td><td>⋮</td><td>⋮</td><td>⋮</td><td>⋮</td><td>⋮</td><td>⋮</td></tr>\n",
       "\t<tr><td>X256_Zander          </td><td>/ebio/abt3_projects/Georg_animal_feces/data/metagenome/HiSeqRuns126-133-0138/wOutVertebrata/LLMGQC/final/X256_Zander/R1_final.fq.gz          </td><td>/ebio/abt3_projects/Georg_animal_feces/data/metagenome/HiSeqRuns126-133-0138/wOutVertebrata/LLMGQC/final/X256_Zander/R2_final.fq.gz          </td><td> 9198058</td><td>0.9757480</td><td>14.88468</td><td>256</td><td>Zander  </td><td>Zander           </td><td>Sander_lucioperca     </td><td>⋯</td><td>ectotherm/poikilotherm</td><td>2012-10-05</td><td>autumn</td><td>116</td><td>Screw cap vial</td><td>feces sampling</td><td>carnivore</td><td>NA</td><td>simple</td><td>simple</td></tr>\n",
       "\t<tr><td>X84_Common_Chiffchaff</td><td>/ebio/abt3_projects/Georg_animal_feces/data/metagenome/HiSeqRuns126-133-0138/wOutVertebrata/LLMGQC/final/X84_Common_Chiffchaff/R1_final.fq.gz</td><td>/ebio/abt3_projects/Georg_animal_feces/data/metagenome/HiSeqRuns126-133-0138/wOutVertebrata/LLMGQC/final/X84_Common_Chiffchaff/R2_final.fq.gz</td><td>24926183</td><td>0.9791558</td><td>14.22184</td><td>84 </td><td>Zilpzalp</td><td>Common.Chiffchaff</td><td>Phylloscopus_collybita</td><td>⋯</td><td>endotherm/homoiotherm </td><td>2011-10-01</td><td>autumn</td><td>100</td><td>Screw cap vial</td><td>swab          </td><td>omnivore </td><td>NA</td><td>simple</td><td>simple</td></tr>\n",
       "</tbody>\n",
       "</table>\n"
      ],
      "text/latex": [
       "A data.frame: 114 × 76\n",
       "\\begin{tabular}{lllllllllllllllllllll}\n",
       " Sample & Read1 & Read2 & Total.Sequences & nonpareil\\_coverage & nonpareil\\_diversity & host\\_subject\\_id & host\\_german\\_name & host\\_common\\_name & scientific\\_name & ⋯ & temp\\_regulation & collection\\_date & season & samp\\_store\\_days & samp\\_collect\\_device & sampling\\_method & diet & feeding\\_style & digestive\\_system & digestive\\_system\\_detail\\\\\n",
       " <chr> & <fct> & <fct> & <int> & <dbl> & <dbl> & <fct> & <fct> & <fct> & <fct> & ⋯ & <fct> & <fct> & <fct> & <fct> & <fct> & <fct> & <fct> & <fct> & <fct> & <fct>\\\\\n",
       "\\hline\n",
       "\t X144\\_Cattle & /ebio/abt3\\_projects/Georg\\_animal\\_feces/data/metagenome/HiSeqRuns126-133-0138/wOutVertebrata/LLMGQC/final/X144\\_Cattle/R1\\_final.fq.gz & /ebio/abt3\\_projects/Georg\\_animal\\_feces/data/metagenome/HiSeqRuns126-133-0138/wOutVertebrata/LLMGQC/final/X144\\_Cattle/R2\\_final.fq.gz & 10471331 & 0.3073356 & 22.03854 & 142 & Hausrind              & Cattle  & Bos\\_taurus & ⋯ & endotherm/homoiotherm & 2009-06-17 & spring & 1102    & Screw cap vial & feces sampling & herbivore & bulk and roughage eaters & foregut & foregut\\\\\n",
       "\t X66\\_Mouflon & /ebio/abt3\\_projects/Georg\\_animal\\_feces/data/metagenome/HiSeqRuns126-133-0138/wOutVertebrata/LLMGQC/final/X66\\_Mouflon/R1\\_final.fq.gz & /ebio/abt3\\_projects/Georg\\_animal\\_feces/data/metagenome/HiSeqRuns126-133-0138/wOutVertebrata/LLMGQC/final/X66\\_Mouflon/R2\\_final.fq.gz &  3169942 & 0.3202296 & 21.23338 & 66  & Europaeischer Mufflon & Mouflon & Ovis\\_aries & ⋯ & endotherm/homoiotherm & 2011-10-31 & autumn & \\#VALUE! & Screw cap vial & feces sampling & herbivore & intermediate type        & foregut & foregut\\\\\n",
       "\t ⋮ & ⋮ & ⋮ & ⋮ & ⋮ & ⋮ & ⋮ & ⋮ & ⋮ & ⋮ & ⋱ & ⋮ & ⋮ & ⋮ & ⋮ & ⋮ & ⋮ & ⋮ & ⋮ & ⋮ & ⋮\\\\\n",
       "\t X256\\_Zander           & /ebio/abt3\\_projects/Georg\\_animal\\_feces/data/metagenome/HiSeqRuns126-133-0138/wOutVertebrata/LLMGQC/final/X256\\_Zander/R1\\_final.fq.gz           & /ebio/abt3\\_projects/Georg\\_animal\\_feces/data/metagenome/HiSeqRuns126-133-0138/wOutVertebrata/LLMGQC/final/X256\\_Zander/R2\\_final.fq.gz           &  9198058 & 0.9757480 & 14.88468 & 256 & Zander   & Zander            & Sander\\_lucioperca      & ⋯ & ectotherm/poikilotherm & 2012-10-05 & autumn & 116 & Screw cap vial & feces sampling & carnivore & NA & simple & simple\\\\\n",
       "\t X84\\_Common\\_Chiffchaff & /ebio/abt3\\_projects/Georg\\_animal\\_feces/data/metagenome/HiSeqRuns126-133-0138/wOutVertebrata/LLMGQC/final/X84\\_Common\\_Chiffchaff/R1\\_final.fq.gz & /ebio/abt3\\_projects/Georg\\_animal\\_feces/data/metagenome/HiSeqRuns126-133-0138/wOutVertebrata/LLMGQC/final/X84\\_Common\\_Chiffchaff/R2\\_final.fq.gz & 24926183 & 0.9791558 & 14.22184 & 84  & Zilpzalp & Common.Chiffchaff & Phylloscopus\\_collybita & ⋯ & endotherm/homoiotherm  & 2011-10-01 & autumn & 100 & Screw cap vial & swab           & omnivore  & NA & simple & simple\\\\\n",
       "\\end{tabular}\n"
      ],
      "text/markdown": [
       "\n",
       "A data.frame: 114 × 76\n",
       "\n",
       "| Sample &lt;chr&gt; | Read1 &lt;fct&gt; | Read2 &lt;fct&gt; | Total.Sequences &lt;int&gt; | nonpareil_coverage &lt;dbl&gt; | nonpareil_diversity &lt;dbl&gt; | host_subject_id &lt;fct&gt; | host_german_name &lt;fct&gt; | host_common_name &lt;fct&gt; | scientific_name &lt;fct&gt; | ⋯ ⋯ | temp_regulation &lt;fct&gt; | collection_date &lt;fct&gt; | season &lt;fct&gt; | samp_store_days &lt;fct&gt; | samp_collect_device &lt;fct&gt; | sampling_method &lt;fct&gt; | diet &lt;fct&gt; | feeding_style &lt;fct&gt; | digestive_system &lt;fct&gt; | digestive_system_detail &lt;fct&gt; |\n",
       "|---|---|---|---|---|---|---|---|---|---|---|---|---|---|---|---|---|---|---|---|---|\n",
       "| X144_Cattle | /ebio/abt3_projects/Georg_animal_feces/data/metagenome/HiSeqRuns126-133-0138/wOutVertebrata/LLMGQC/final/X144_Cattle/R1_final.fq.gz | /ebio/abt3_projects/Georg_animal_feces/data/metagenome/HiSeqRuns126-133-0138/wOutVertebrata/LLMGQC/final/X144_Cattle/R2_final.fq.gz | 10471331 | 0.3073356 | 22.03854 | 142 | Hausrind              | Cattle  | Bos_taurus | ⋯ | endotherm/homoiotherm | 2009-06-17 | spring | 1102    | Screw cap vial | feces sampling | herbivore | bulk and roughage eaters | foregut | foregut |\n",
       "| X66_Mouflon | /ebio/abt3_projects/Georg_animal_feces/data/metagenome/HiSeqRuns126-133-0138/wOutVertebrata/LLMGQC/final/X66_Mouflon/R1_final.fq.gz | /ebio/abt3_projects/Georg_animal_feces/data/metagenome/HiSeqRuns126-133-0138/wOutVertebrata/LLMGQC/final/X66_Mouflon/R2_final.fq.gz |  3169942 | 0.3202296 | 21.23338 | 66  | Europaeischer Mufflon | Mouflon | Ovis_aries | ⋯ | endotherm/homoiotherm | 2011-10-31 | autumn | #VALUE! | Screw cap vial | feces sampling | herbivore | intermediate type        | foregut | foregut |\n",
       "| ⋮ | ⋮ | ⋮ | ⋮ | ⋮ | ⋮ | ⋮ | ⋮ | ⋮ | ⋮ | ⋱ | ⋮ | ⋮ | ⋮ | ⋮ | ⋮ | ⋮ | ⋮ | ⋮ | ⋮ | ⋮ |\n",
       "| X256_Zander           | /ebio/abt3_projects/Georg_animal_feces/data/metagenome/HiSeqRuns126-133-0138/wOutVertebrata/LLMGQC/final/X256_Zander/R1_final.fq.gz           | /ebio/abt3_projects/Georg_animal_feces/data/metagenome/HiSeqRuns126-133-0138/wOutVertebrata/LLMGQC/final/X256_Zander/R2_final.fq.gz           |  9198058 | 0.9757480 | 14.88468 | 256 | Zander   | Zander            | Sander_lucioperca      | ⋯ | ectotherm/poikilotherm | 2012-10-05 | autumn | 116 | Screw cap vial | feces sampling | carnivore | NA | simple | simple |\n",
       "| X84_Common_Chiffchaff | /ebio/abt3_projects/Georg_animal_feces/data/metagenome/HiSeqRuns126-133-0138/wOutVertebrata/LLMGQC/final/X84_Common_Chiffchaff/R1_final.fq.gz | /ebio/abt3_projects/Georg_animal_feces/data/metagenome/HiSeqRuns126-133-0138/wOutVertebrata/LLMGQC/final/X84_Common_Chiffchaff/R2_final.fq.gz | 24926183 | 0.9791558 | 14.22184 | 84  | Zilpzalp | Common.Chiffchaff | Phylloscopus_collybita | ⋯ | endotherm/homoiotherm  | 2011-10-01 | autumn | 100 | Screw cap vial | swab           | omnivore  | NA | simple | simple |\n",
       "\n"
      ],
      "text/plain": [
       "    Sample               \n",
       "1   X144_Cattle          \n",
       "2   X66_Mouflon          \n",
       "⋮   ⋮                    \n",
       "113 X256_Zander          \n",
       "114 X84_Common_Chiffchaff\n",
       "    Read1                                                                                                                                        \n",
       "1   /ebio/abt3_projects/Georg_animal_feces/data/metagenome/HiSeqRuns126-133-0138/wOutVertebrata/LLMGQC/final/X144_Cattle/R1_final.fq.gz          \n",
       "2   /ebio/abt3_projects/Georg_animal_feces/data/metagenome/HiSeqRuns126-133-0138/wOutVertebrata/LLMGQC/final/X66_Mouflon/R1_final.fq.gz          \n",
       "⋮   ⋮                                                                                                                                            \n",
       "113 /ebio/abt3_projects/Georg_animal_feces/data/metagenome/HiSeqRuns126-133-0138/wOutVertebrata/LLMGQC/final/X256_Zander/R1_final.fq.gz          \n",
       "114 /ebio/abt3_projects/Georg_animal_feces/data/metagenome/HiSeqRuns126-133-0138/wOutVertebrata/LLMGQC/final/X84_Common_Chiffchaff/R1_final.fq.gz\n",
       "    Read2                                                                                                                                        \n",
       "1   /ebio/abt3_projects/Georg_animal_feces/data/metagenome/HiSeqRuns126-133-0138/wOutVertebrata/LLMGQC/final/X144_Cattle/R2_final.fq.gz          \n",
       "2   /ebio/abt3_projects/Georg_animal_feces/data/metagenome/HiSeqRuns126-133-0138/wOutVertebrata/LLMGQC/final/X66_Mouflon/R2_final.fq.gz          \n",
       "⋮   ⋮                                                                                                                                            \n",
       "113 /ebio/abt3_projects/Georg_animal_feces/data/metagenome/HiSeqRuns126-133-0138/wOutVertebrata/LLMGQC/final/X256_Zander/R2_final.fq.gz          \n",
       "114 /ebio/abt3_projects/Georg_animal_feces/data/metagenome/HiSeqRuns126-133-0138/wOutVertebrata/LLMGQC/final/X84_Common_Chiffchaff/R2_final.fq.gz\n",
       "    Total.Sequences nonpareil_coverage nonpareil_diversity host_subject_id\n",
       "1   10471331        0.3073356          22.03854            142            \n",
       "2    3169942        0.3202296          21.23338            66             \n",
       "⋮   ⋮               ⋮                  ⋮                   ⋮              \n",
       "113  9198058        0.9757480          14.88468            256            \n",
       "114 24926183        0.9791558          14.22184            84             \n",
       "    host_german_name      host_common_name  scientific_name        ⋯\n",
       "1   Hausrind              Cattle            Bos_taurus             ⋯\n",
       "2   Europaeischer Mufflon Mouflon           Ovis_aries             ⋯\n",
       "⋮   ⋮                     ⋮                 ⋮                      ⋱\n",
       "113 Zander                Zander            Sander_lucioperca      ⋯\n",
       "114 Zilpzalp              Common.Chiffchaff Phylloscopus_collybita ⋯\n",
       "    temp_regulation        collection_date season samp_store_days\n",
       "1   endotherm/homoiotherm  2009-06-17      spring 1102           \n",
       "2   endotherm/homoiotherm  2011-10-31      autumn #VALUE!        \n",
       "⋮   ⋮                      ⋮               ⋮      ⋮              \n",
       "113 ectotherm/poikilotherm 2012-10-05      autumn 116            \n",
       "114 endotherm/homoiotherm  2011-10-01      autumn 100            \n",
       "    samp_collect_device sampling_method diet      feeding_style           \n",
       "1   Screw cap vial      feces sampling  herbivore bulk and roughage eaters\n",
       "2   Screw cap vial      feces sampling  herbivore intermediate type       \n",
       "⋮   ⋮                   ⋮               ⋮         ⋮                       \n",
       "113 Screw cap vial      feces sampling  carnivore NA                      \n",
       "114 Screw cap vial      swab            omnivore  NA                      \n",
       "    digestive_system digestive_system_detail\n",
       "1   foregut          foregut                \n",
       "2   foregut          foregut                \n",
       "⋮   ⋮                ⋮                      \n",
       "113 simple           simple                 \n",
       "114 simple           simple                 "
      ]
     },
     "metadata": {},
     "output_type": "display_data"
    }
   ],
   "source": [
    "# number of samples with 3mil reads\n",
    "n_paired_reads_cutoff = 3e6\n",
    "\n",
    "GA_samp_f = GA_samp  %>%\n",
    "    filter(Total.Sequences >= n_paired_reads_cutoff) \n",
    "\n",
    "GA_samp_f$class %>% table %>% print\n",
    "GA_samp_f"
   ]
  },
  {
   "cell_type": "code",
   "execution_count": 48,
   "metadata": {
    "ExecuteTime": {
     "end_time": "2020-01-22T07:29:08.501208Z",
     "start_time": "2020-01-22T07:29:08.179Z"
    }
   },
   "outputs": [
    {
     "name": "stdout",
     "output_type": "stream",
     "text": [
      "File written: /ebio/abt3_projects/Georg_animal_feces/notebooks/metagenome/multi-study/08_drep95_wGeorgAnimal/.figures/b871aa834ddc8b5dd64a4cb8dfb7d7f1.RDS \n"
     ]
    },
    {
     "data": {
      "image/png": "[encoded data removed]",
      "text/plain": [
       "plot without title"
      ]
     },
     "metadata": {
      "image/png": {
       "height": 300,
       "width": 400
      },
      "text/plain": {
       "height": 300,
       "width": 400
      }
     },
     "output_type": "display_data"
    }
   ],
   "source": [
    "# plotting number of remaining samples\n",
    "p = GA_samp_f %>%\n",
    "    dplyr::select(Sample, Total.Sequences, diet,\n",
    "                  class, order, family, genus, scientific_name) %>%\n",
    "    group_by(class) %>%\n",
    "    summarize(n = n()) %>%\n",
    "    ungroup() %>%\n",
    "    ggplot(aes(class, n, label=n)) +\n",
    "    geom_bar(stat='identity', position='dodge') +\n",
    "    geom_text(position=position_dodge(width=0.9), vjust=-0.1, size=3) +\n",
    "    labs(y='No. of samples') +\n",
    "    theme_bw() \n",
    "\n",
    "dims(4,3)\n",
    "Plot(p)"
   ]
  },
  {
   "cell_type": "markdown",
   "metadata": {},
   "source": [
    "### Writing samples file"
   ]
  },
  {
   "cell_type": "code",
   "execution_count": 50,
   "metadata": {
    "ExecuteTime": {
     "end_time": "2020-01-22T07:30:29.152501Z",
     "start_time": "2020-01-22T07:30:29.096Z"
    }
   },
   "outputs": [
    {
     "name": "stdout",
     "output_type": "stream",
     "text": [
      "File written: /ebio/abt3_projects/Georg_animal_feces/data/metagenome/multi-study/BioProjects/summary/LLMGA/wGeorgAnimal/drep-0.95/Georg-animal/samples_demic-3mil.txt \n"
     ]
    }
   ],
   "source": [
    "samp_file = file.path(work_dir, 'samples_demic-3mil.txt')\n",
    "GA_samp_f %>%\n",
    "    write.table(file=samp_file, sep='\\t', quote=FALSE, row.names=FALSE)\n",
    "cat('File written:', samp_file, '\\n')"
   ]
  },
  {
   "cell_type": "markdown",
   "metadata": {},
   "source": [
    "## Config"
   ]
  },
  {
   "cell_type": "code",
   "execution_count": 28,
   "metadata": {
    "ExecuteTime": {
     "end_time": "2020-01-21T15:53:22.194682Z",
     "start_time": "2020-01-21T15:53:22.131Z"
    }
   },
   "outputs": [
    {
     "name": "stdout",
     "output_type": "stream",
     "text": [
      "#-- I/O --#\n",
      "# table with sample --> read_file information\n",
      "samples_file: /ebio/abt3_projects/Georg_animal_feces/data/metagenome/multi-study/BioProjects/summary/LLMGA/wGeorgAnimal/drep-0.95/Georg-animal/samples.tsv\n",
      "\n",
      "# table of reference genomes; not needed for all analyses (see README.md)\n",
      "genomes_db: /ebio/abt3_projects/Georg_animal_feces/data/metagenome/multi-study/BioProjects/summary/LLMGA/wGeorgAnimal/drep-0.95/Georg-animal/ref_genomes.txt\n",
      "\n",
      "# output location\n",
      "output_dir: /ebio/abt3_projects/Georg_animal_feces/data/metagenome/multi-study/BioProjects/summary/LLMGA/wGeorgAnimal/drep-0.95/Georg-animal/\n",
      "\n",
      "\n",
      "# read file path\n",
      "# use \"None\" if full file path is included in the samples_file\n",
      "read_file_path: None\n",
      "\n",
      "#-- clades to analyze with strainphlan (ALL = all clades) --#\n",
      "clades:\n",
      " - ALL\n",
      "# - s__Methanobrevibacter_smithii\n",
      "# - s__Faecalibacterium_prausnitzii\n",
      "# - g__Blautia\n",
      "\n",
      "#-- DB --#\n",
      "# metaphlan marker databse\n",
      "metaphlan2_db: /ebio/abt3_projects/databases_no-backup/metaphlan2/mpa_v20_m200/\n",
      "# panphlan pan-genome database(s)\n",
      "panphlan_db:\n",
      "  - badolescentis16: /ebio/abt3_projects/databases_no-backup/panphlan/badolescentis/panphlan_badolescentis16_centroids.ffn\n",
      "  - efaecium16: /ebio/abt3_projects/databases_no-backup/panphlan/efaecium/panphlan_efaecium16_centroids.ffn\n",
      "  - msmithii16: /ebio/abt3_projects/databases_no-backup/panphlan/msmithii16/panphlan_msmithii16_centroids.ffn\n",
      "\n",
      "\n",
      "#-- subsample --#\n",
      "# subsampling input reads \n",
      "## Use \"Skip\" to skips subsampling; otherwise set the number of reads to subsample\n",
      "subsample_depth: 3000000\n",
      "subsample_seed: 21068\n",
      "\n",
      "#-- Software Parameters --#\n",
      "# Use \"Skip\" to skip parts of the pipeline (eg., `demic: Skip`)\n",
      "#- parameter descriptions -#\n",
      "# remote:  If True, just download read1 (if remote file)\n",
      "# keep_metaphlan2_output: keep sam & bz2 files?\n",
      "# strainphlan: Using `--relaxed_parameters` assumes \"many\" samples\n",
      "# kallisto_mask_cutoff: mask high/low coverage regions (mask regions > median + stdev_cov * mask_cutoff)\n",
      "# panphlan_profile: For sensivite settings, use: `--min_coverage 1 --left_max 1.70 --right_min 0.30`\n",
      "params:\n",
      "  # remote read file download\n",
      "  use_prefetch: False\n",
      "  remote: just_single=False\n",
      "  # strainphlan\n",
      "  keep_metaphlan2_output: False\n",
      "  metaphlan2: Skip #--tax_lev a --min_cu_len 2000\n",
      "  samples2markers: --min_read_len 90 --min_base_quality 20 --min_read_depth 0\n",
      "  strainphlan: Skip #--relaxed_parameters\n",
      "  # strain abundances\n",
      "  ## meta-kallisto\n",
      "  kallisto_index: Skip #--kmer-size 31\n",
      "  kallisto_quant: --seed 42 --fragment-length 225 --sd 25\n",
      "  kallisto_mask_cutoff: 1.5\n",
      "  ## krakenuniq\n",
      "  krakenuniq_build: Skip #--kmer-len 31 --minimizer-len 15\n",
      "  krakenuniq: --hll-precision 12\n",
      "  # DEMIC\n",
      "  demic_bowtie2: \"\"\n",
      "  demic_samtools: \"\"\n",
      "  demic: --mapq_cutoff 5\n",
      "  # panphlan\n",
      "  panphlan_map: Skip #--readLength 70\n",
      "  panphlan_profile: \"\"\n",
      "\n",
      "#-- snakemake pipeline --#\n",
      "pipeline:\n",
      "  snakemake_folder: ./\n",
      "  script_folder: ./bin/scripts/\n",
      "  temp_folder: /ebio/abt3_scratch/\n"
     ]
    }
   ],
   "source": [
    "# config\n",
    "config_file = file.path(work_dir, 'config_DEMIC-3mil.yaml')\n",
    "cat_file(config_file)"
   ]
  },
  {
   "cell_type": "markdown",
   "metadata": {},
   "source": [
    "## Run"
   ]
  },
  {
   "cell_type": "markdown",
   "metadata": {},
   "source": [
    "```\n",
    "(snakemake_dev) @ rick:/ebio/abt3_projects/Georg_animal_feces/bin/llmgps\n",
    "screen -L -S llmgps-GA-DEMIC ./snakemake_sge.sh /ebio/abt3_projects/Georg_animal_feces/data/metagenome/multi-study/BioProjects/summary/LLMGA/wGeorgAnimal/drep-0.95/Georg-animal/config_DEMIC-3mil.yaml cluster.json /ebio/abt3_projects/Georg_animal_feces/data/metagenome/multi-study/BioProjects/summary/LLMGA/wGeorgAnimal/drep-0.95/Georg-animal/SGE_log 40\n",
    "```"
   ]
  },
  {
   "cell_type": "markdown",
   "metadata": {},
   "source": [
    "## Summary"
   ]
  },
  {
   "cell_type": "code",
   "execution_count": 79,
   "metadata": {
    "ExecuteTime": {
     "end_time": "2020-01-22T12:46:38.208587Z",
     "start_time": "2020-01-22T12:46:38.103Z"
    }
   },
   "outputs": [
    {
     "data": {
      "text/plain": [
       "   Min. 1st Qu.  Median    Mean 3rd Qu.    Max.    NA's \n",
       "   1.18    1.48    1.77    2.00    2.18    4.75  101745 "
      ]
     },
     "metadata": {},
     "output_type": "display_data"
    },
    {
     "data": {
      "text/html": [
       "<table>\n",
       "<caption>A data.frame: 101802 × 3</caption>\n",
       "<thead>\n",
       "\t<tr><th scope=col>taxon</th><th scope=col>sample</th><th scope=col>growth_rate</th></tr>\n",
       "\t<tr><th scope=col>&lt;fct&gt;</th><th scope=col>&lt;chr&gt;</th><th scope=col>&lt;dbl&gt;</th></tr>\n",
       "</thead>\n",
       "<tbody>\n",
       "\t<tr><td>SAMEA3663095__metabat2_high_PE_014_contigs       </td><td>X101_Horse</td><td>NA</td></tr>\n",
       "\t<tr><td>X405_Nile_Crocodile__maxbin2_low_prob_001_contigs</td><td>X101_Horse</td><td>NA</td></tr>\n",
       "\t<tr><td>⋮</td><td>⋮</td><td>⋮</td></tr>\n",
       "\t<tr><td>R14__metabat2_high_PE_034_contigs        </td><td>XF42_Fallow_Deer</td><td>NA</td></tr>\n",
       "\t<tr><td>SAMEA3663025__metabat2_low_PE_027_contigs</td><td>XF42_Fallow_Deer</td><td>NA</td></tr>\n",
       "</tbody>\n",
       "</table>\n"
      ],
      "text/latex": [
       "A data.frame: 101802 × 3\n",
       "\\begin{tabular}{lll}\n",
       " taxon & sample & growth\\_rate\\\\\n",
       " <fct> & <chr> & <dbl>\\\\\n",
       "\\hline\n",
       "\t SAMEA3663095\\_\\_metabat2\\_high\\_PE\\_014\\_contigs        & X101\\_Horse & NA\\\\\n",
       "\t X405\\_Nile\\_Crocodile\\_\\_maxbin2\\_low\\_prob\\_001\\_contigs & X101\\_Horse & NA\\\\\n",
       "\t ⋮ & ⋮ & ⋮\\\\\n",
       "\t R14\\_\\_metabat2\\_high\\_PE\\_034\\_contigs         & XF42\\_Fallow\\_Deer & NA\\\\\n",
       "\t SAMEA3663025\\_\\_metabat2\\_low\\_PE\\_027\\_contigs & XF42\\_Fallow\\_Deer & NA\\\\\n",
       "\\end{tabular}\n"
      ],
      "text/markdown": [
       "\n",
       "A data.frame: 101802 × 3\n",
       "\n",
       "| taxon &lt;fct&gt; | sample &lt;chr&gt; | growth_rate &lt;dbl&gt; |\n",
       "|---|---|---|\n",
       "| SAMEA3663095__metabat2_high_PE_014_contigs        | X101_Horse | NA |\n",
       "| X405_Nile_Crocodile__maxbin2_low_prob_001_contigs | X101_Horse | NA |\n",
       "| ⋮ | ⋮ | ⋮ |\n",
       "| R14__metabat2_high_PE_034_contigs         | XF42_Fallow_Deer | NA |\n",
       "| SAMEA3663025__metabat2_low_PE_027_contigs | XF42_Fallow_Deer | NA |\n",
       "\n"
      ],
      "text/plain": [
       "       taxon                                             sample          \n",
       "1      SAMEA3663095__metabat2_high_PE_014_contigs        X101_Horse      \n",
       "2      X405_Nile_Crocodile__maxbin2_low_prob_001_contigs X101_Horse      \n",
       "⋮      ⋮                                                 ⋮               \n",
       "101801 R14__metabat2_high_PE_034_contigs                 XF42_Fallow_Deer\n",
       "101802 SAMEA3663025__metabat2_low_PE_027_contigs         XF42_Fallow_Deer\n",
       "       growth_rate\n",
       "1      NA         \n",
       "2      NA         \n",
       "⋮      ⋮          \n",
       "101801 NA         \n",
       "101802 NA         "
      ]
     },
     "metadata": {},
     "output_type": "display_data"
    }
   ],
   "source": [
    "demic_ptr_file = file.path(work_dir, 'demic_3mil', 'all_PTR.txt')\n",
    "demic_ptr = read.delim(demic_ptr_file, sep='\\t') %>%\n",
    "    gather(sample, growth_rate, -X) %>%\n",
    "    rename('taxon' = X)\n",
    "\n",
    "demic_ptr$growth_rate %>% summary\n",
    "demic_ptr"
   ]
  },
  {
   "cell_type": "code",
   "execution_count": 80,
   "metadata": {
    "ExecuteTime": {
     "end_time": "2020-01-22T12:46:41.285311Z",
     "start_time": "2020-01-22T12:46:41.262Z"
    }
   },
   "outputs": [
    {
     "name": "stdout",
     "output_type": "stream",
     "text": [
      "[1] 893\n",
      "[1] 13\n"
     ]
    }
   ],
   "source": [
    "# number of taxa with any growth rates\n",
    "demic_ptr_f = demic_ptr %>%\n",
    "    filter(!is.na(growth_rate))\n",
    "\n",
    "demic_ptr %>% .$taxon %>% unique %>% length %>% print\n",
    "demic_ptr_f %>% .$taxon %>% unique %>% length %>% print"
   ]
  },
  {
   "cell_type": "code",
   "execution_count": 81,
   "metadata": {
    "ExecuteTime": {
     "end_time": "2020-01-22T12:46:42.420375Z",
     "start_time": "2020-01-22T12:46:42.359Z"
    }
   },
   "outputs": [
    {
     "data": {
      "text/html": [
       "<table>\n",
       "<caption>A data.frame: 57 × 73</caption>\n",
       "<thead>\n",
       "\t<tr><th scope=col>taxon</th><th scope=col>sample</th><th scope=col>growth_rate</th><th scope=col>host_subject_id</th><th scope=col>host_german_name</th><th scope=col>host_common_name</th><th scope=col>scientific_name</th><th scope=col>scientific_name_subspecies</th><th scope=col>host_taxid</th><th scope=col>class</th><th scope=col>⋯</th><th scope=col>temp_regulation</th><th scope=col>collection_date</th><th scope=col>season</th><th scope=col>samp_store_days</th><th scope=col>samp_collect_device</th><th scope=col>sampling_method</th><th scope=col>diet</th><th scope=col>feeding_style</th><th scope=col>digestive_system</th><th scope=col>digestive_system_detail</th></tr>\n",
       "\t<tr><th scope=col>&lt;fct&gt;</th><th scope=col>&lt;chr&gt;</th><th scope=col>&lt;dbl&gt;</th><th scope=col>&lt;fct&gt;</th><th scope=col>&lt;fct&gt;</th><th scope=col>&lt;fct&gt;</th><th scope=col>&lt;fct&gt;</th><th scope=col>&lt;fct&gt;</th><th scope=col>&lt;int&gt;</th><th scope=col>&lt;fct&gt;</th><th scope=col>⋯</th><th scope=col>&lt;fct&gt;</th><th scope=col>&lt;fct&gt;</th><th scope=col>&lt;fct&gt;</th><th scope=col>&lt;fct&gt;</th><th scope=col>&lt;fct&gt;</th><th scope=col>&lt;fct&gt;</th><th scope=col>&lt;fct&gt;</th><th scope=col>&lt;fct&gt;</th><th scope=col>&lt;fct&gt;</th><th scope=col>&lt;fct&gt;</th></tr>\n",
       "</thead>\n",
       "<tbody>\n",
       "\t<tr><td>MJGMD1__maxbin2_high_prob_001_contigs             </td><td>X115_Common_Kestrel</td><td>1.6061</td><td>115</td><td>Turmfalke     </td><td>Common.Kestrel</td><td>Falco_tinnunculus</td><td>NA</td><td>100819</td><td>Aves    </td><td>⋯</td><td>endotherm/homoiotherm</td><td>2012-01-18</td><td>winter</td><td>7  </td><td>Screw cap vial</td><td>gut section</td><td>carnivore</td><td>NA</td><td>simple</td><td>simple</td></tr>\n",
       "\t<tr><td>X46_European_Nightjar__metabat2_low_PE_001_contigs</td><td>X120_Alpine_Shrew  </td><td>1.8998</td><td>120</td><td>Alpenspitzmaus</td><td>Alpine.Shrew  </td><td>Sorex_alpinus    </td><td>NA</td><td> 62902</td><td>Mammalia</td><td>⋯</td><td>endotherm/homoiotherm</td><td>2011-08-26</td><td>summer</td><td>149</td><td>Plastic vessel</td><td>gut section</td><td>carnivore</td><td>NA</td><td>simple</td><td>simple</td></tr>\n",
       "\t<tr><td>⋮</td><td>⋮</td><td>⋮</td><td>⋮</td><td>⋮</td><td>⋮</td><td>⋮</td><td>⋮</td><td>⋮</td><td>⋮</td><td>⋱</td><td>⋮</td><td>⋮</td><td>⋮</td><td>⋮</td><td>⋮</td><td>⋮</td><td>⋮</td><td>⋮</td><td>⋮</td><td>⋮</td></tr>\n",
       "\t<tr><td>NBJMC04201__metabat2_low_PE_012_contigs                                  </td><td>XF42_Fallow_Deer</td><td>3.9465</td><td>F42</td><td>Damhirsch</td><td>Fallow.Deer</td><td>Dama_dama</td><td>NA</td><td>30532</td><td>Mammalia</td><td>⋯</td><td>endotherm/homoiotherm</td><td>2010-10-05</td><td>autumn</td><td>229</td><td>Greiner Polystyrene 30ml Faeces Container</td><td>feces sampling</td><td>herbivore</td><td>intermediate type</td><td>foregut</td><td>foregut</td></tr>\n",
       "\t<tr><td>Cebus_capucinus_imitator_PRJNA485217_SSR024__metabat2_high_PE_013_contigs</td><td>XF42_Fallow_Deer</td><td>4.7508</td><td>F42</td><td>Damhirsch</td><td>Fallow.Deer</td><td>Dama_dama</td><td>NA</td><td>30532</td><td>Mammalia</td><td>⋯</td><td>endotherm/homoiotherm</td><td>2010-10-05</td><td>autumn</td><td>229</td><td>Greiner Polystyrene 30ml Faeces Container</td><td>feces sampling</td><td>herbivore</td><td>intermediate type</td><td>foregut</td><td>foregut</td></tr>\n",
       "</tbody>\n",
       "</table>\n"
      ],
      "text/latex": [
       "A data.frame: 57 × 73\n",
       "\\begin{tabular}{lllllllllllllllllllll}\n",
       " taxon & sample & growth\\_rate & host\\_subject\\_id & host\\_german\\_name & host\\_common\\_name & scientific\\_name & scientific\\_name\\_subspecies & host\\_taxid & class & ⋯ & temp\\_regulation & collection\\_date & season & samp\\_store\\_days & samp\\_collect\\_device & sampling\\_method & diet & feeding\\_style & digestive\\_system & digestive\\_system\\_detail\\\\\n",
       " <fct> & <chr> & <dbl> & <fct> & <fct> & <fct> & <fct> & <fct> & <int> & <fct> & ⋯ & <fct> & <fct> & <fct> & <fct> & <fct> & <fct> & <fct> & <fct> & <fct> & <fct>\\\\\n",
       "\\hline\n",
       "\t MJGMD1\\_\\_maxbin2\\_high\\_prob\\_001\\_contigs              & X115\\_Common\\_Kestrel & 1.6061 & 115 & Turmfalke      & Common.Kestrel & Falco\\_tinnunculus & NA & 100819 & Aves     & ⋯ & endotherm/homoiotherm & 2012-01-18 & winter & 7   & Screw cap vial & gut section & carnivore & NA & simple & simple\\\\\n",
       "\t X46\\_European\\_Nightjar\\_\\_metabat2\\_low\\_PE\\_001\\_contigs & X120\\_Alpine\\_Shrew   & 1.8998 & 120 & Alpenspitzmaus & Alpine.Shrew   & Sorex\\_alpinus     & NA &  62902 & Mammalia & ⋯ & endotherm/homoiotherm & 2011-08-26 & summer & 149 & Plastic vessel & gut section & carnivore & NA & simple & simple\\\\\n",
       "\t ⋮ & ⋮ & ⋮ & ⋮ & ⋮ & ⋮ & ⋮ & ⋮ & ⋮ & ⋮ & ⋱ & ⋮ & ⋮ & ⋮ & ⋮ & ⋮ & ⋮ & ⋮ & ⋮ & ⋮ & ⋮\\\\\n",
       "\t NBJMC04201\\_\\_metabat2\\_low\\_PE\\_012\\_contigs                                   & XF42\\_Fallow\\_Deer & 3.9465 & F42 & Damhirsch & Fallow.Deer & Dama\\_dama & NA & 30532 & Mammalia & ⋯ & endotherm/homoiotherm & 2010-10-05 & autumn & 229 & Greiner Polystyrene 30ml Faeces Container & feces sampling & herbivore & intermediate type & foregut & foregut\\\\\n",
       "\t Cebus\\_capucinus\\_imitator\\_PRJNA485217\\_SSR024\\_\\_metabat2\\_high\\_PE\\_013\\_contigs & XF42\\_Fallow\\_Deer & 4.7508 & F42 & Damhirsch & Fallow.Deer & Dama\\_dama & NA & 30532 & Mammalia & ⋯ & endotherm/homoiotherm & 2010-10-05 & autumn & 229 & Greiner Polystyrene 30ml Faeces Container & feces sampling & herbivore & intermediate type & foregut & foregut\\\\\n",
       "\\end{tabular}\n"
      ],
      "text/markdown": [
       "\n",
       "A data.frame: 57 × 73\n",
       "\n",
       "| taxon &lt;fct&gt; | sample &lt;chr&gt; | growth_rate &lt;dbl&gt; | host_subject_id &lt;fct&gt; | host_german_name &lt;fct&gt; | host_common_name &lt;fct&gt; | scientific_name &lt;fct&gt; | scientific_name_subspecies &lt;fct&gt; | host_taxid &lt;int&gt; | class &lt;fct&gt; | ⋯ ⋯ | temp_regulation &lt;fct&gt; | collection_date &lt;fct&gt; | season &lt;fct&gt; | samp_store_days &lt;fct&gt; | samp_collect_device &lt;fct&gt; | sampling_method &lt;fct&gt; | diet &lt;fct&gt; | feeding_style &lt;fct&gt; | digestive_system &lt;fct&gt; | digestive_system_detail &lt;fct&gt; |\n",
       "|---|---|---|---|---|---|---|---|---|---|---|---|---|---|---|---|---|---|---|---|---|\n",
       "| MJGMD1__maxbin2_high_prob_001_contigs              | X115_Common_Kestrel | 1.6061 | 115 | Turmfalke      | Common.Kestrel | Falco_tinnunculus | NA | 100819 | Aves     | ⋯ | endotherm/homoiotherm | 2012-01-18 | winter | 7   | Screw cap vial | gut section | carnivore | NA | simple | simple |\n",
       "| X46_European_Nightjar__metabat2_low_PE_001_contigs | X120_Alpine_Shrew   | 1.8998 | 120 | Alpenspitzmaus | Alpine.Shrew   | Sorex_alpinus     | NA |  62902 | Mammalia | ⋯ | endotherm/homoiotherm | 2011-08-26 | summer | 149 | Plastic vessel | gut section | carnivore | NA | simple | simple |\n",
       "| ⋮ | ⋮ | ⋮ | ⋮ | ⋮ | ⋮ | ⋮ | ⋮ | ⋮ | ⋮ | ⋱ | ⋮ | ⋮ | ⋮ | ⋮ | ⋮ | ⋮ | ⋮ | ⋮ | ⋮ | ⋮ |\n",
       "| NBJMC04201__metabat2_low_PE_012_contigs                                   | XF42_Fallow_Deer | 3.9465 | F42 | Damhirsch | Fallow.Deer | Dama_dama | NA | 30532 | Mammalia | ⋯ | endotherm/homoiotherm | 2010-10-05 | autumn | 229 | Greiner Polystyrene 30ml Faeces Container | feces sampling | herbivore | intermediate type | foregut | foregut |\n",
       "| Cebus_capucinus_imitator_PRJNA485217_SSR024__metabat2_high_PE_013_contigs | XF42_Fallow_Deer | 4.7508 | F42 | Damhirsch | Fallow.Deer | Dama_dama | NA | 30532 | Mammalia | ⋯ | endotherm/homoiotherm | 2010-10-05 | autumn | 229 | Greiner Polystyrene 30ml Faeces Container | feces sampling | herbivore | intermediate type | foregut | foregut |\n",
       "\n"
      ],
      "text/plain": [
       "   taxon                                                                    \n",
       "1  MJGMD1__maxbin2_high_prob_001_contigs                                    \n",
       "2  X46_European_Nightjar__metabat2_low_PE_001_contigs                       \n",
       "⋮  ⋮                                                                        \n",
       "56 NBJMC04201__metabat2_low_PE_012_contigs                                  \n",
       "57 Cebus_capucinus_imitator_PRJNA485217_SSR024__metabat2_high_PE_013_contigs\n",
       "   sample              growth_rate host_subject_id host_german_name\n",
       "1  X115_Common_Kestrel 1.6061      115             Turmfalke       \n",
       "2  X120_Alpine_Shrew   1.8998      120             Alpenspitzmaus  \n",
       "⋮  ⋮                   ⋮           ⋮               ⋮               \n",
       "56 XF42_Fallow_Deer    3.9465      F42             Damhirsch       \n",
       "57 XF42_Fallow_Deer    4.7508      F42             Damhirsch       \n",
       "   host_common_name scientific_name   scientific_name_subspecies host_taxid\n",
       "1  Common.Kestrel   Falco_tinnunculus NA                         100819    \n",
       "2  Alpine.Shrew     Sorex_alpinus     NA                          62902    \n",
       "⋮  ⋮                ⋮                 ⋮                          ⋮         \n",
       "56 Fallow.Deer      Dama_dama         NA                         30532     \n",
       "57 Fallow.Deer      Dama_dama         NA                         30532     \n",
       "   class    ⋯ temp_regulation       collection_date season samp_store_days\n",
       "1  Aves     ⋯ endotherm/homoiotherm 2012-01-18      winter 7              \n",
       "2  Mammalia ⋯ endotherm/homoiotherm 2011-08-26      summer 149            \n",
       "⋮  ⋮        ⋱ ⋮                     ⋮               ⋮      ⋮              \n",
       "56 Mammalia ⋯ endotherm/homoiotherm 2010-10-05      autumn 229            \n",
       "57 Mammalia ⋯ endotherm/homoiotherm 2010-10-05      autumn 229            \n",
       "   samp_collect_device                       sampling_method diet     \n",
       "1  Screw cap vial                            gut section     carnivore\n",
       "2  Plastic vessel                            gut section     carnivore\n",
       "⋮  ⋮                                         ⋮               ⋮        \n",
       "56 Greiner Polystyrene 30ml Faeces Container feces sampling  herbivore\n",
       "57 Greiner Polystyrene 30ml Faeces Container feces sampling  herbivore\n",
       "   feeding_style     digestive_system digestive_system_detail\n",
       "1  NA                simple           simple                 \n",
       "2  NA                simple           simple                 \n",
       "⋮  ⋮                 ⋮                ⋮                      \n",
       "56 intermediate type foregut          foregut                \n",
       "57 intermediate type foregut          foregut                "
      ]
     },
     "metadata": {},
     "output_type": "display_data"
    }
   ],
   "source": [
    "# adding sample metadata\n",
    "demic_ptr_f = demic_ptr_f %>%\n",
    "    inner_join(GA_meta, c('sample'='SampleID')) \n",
    "\n",
    "demic_ptr_f"
   ]
  },
  {
   "cell_type": "code",
   "execution_count": 82,
   "metadata": {
    "ExecuteTime": {
     "end_time": "2020-01-22T12:46:43.463682Z",
     "start_time": "2020-01-22T12:46:43.401Z"
    }
   },
   "outputs": [
    {
     "name": "stderr",
     "output_type": "stream",
     "text": [
      "Warning message:\n",
      "“Column `taxon`/`binID` joining factor and character vector, coercing into character vector”\n"
     ]
    },
    {
     "data": {
      "text/html": [
       "<table>\n",
       "<caption>A data.frame: 57 × 127</caption>\n",
       "<thead>\n",
       "\t<tr><th scope=col>taxon</th><th scope=col>sample</th><th scope=col>growth_rate</th><th scope=col>host_subject_id</th><th scope=col>host_german_name</th><th scope=col>host_common_name</th><th scope=col>scientific_name</th><th scope=col>scientific_name_subspecies</th><th scope=col>host_taxid</th><th scope=col>class</th><th scope=col>⋯</th><th scope=col>closest_placement_reference</th><th scope=col>closest_placement_taxonomy</th><th scope=col>closest_placement_ani</th><th scope=col>closest_placement_af</th><th scope=col>pplacer_taxonomy</th><th scope=col>classification_method</th><th scope=col>aa_percent</th><th scope=col>translation_table</th><th scope=col>red_value</th><th scope=col>warnings</th></tr>\n",
       "\t<tr><th scope=col>&lt;chr&gt;</th><th scope=col>&lt;chr&gt;</th><th scope=col>&lt;dbl&gt;</th><th scope=col>&lt;fct&gt;</th><th scope=col>&lt;fct&gt;</th><th scope=col>&lt;fct&gt;</th><th scope=col>&lt;fct&gt;</th><th scope=col>&lt;fct&gt;</th><th scope=col>&lt;int&gt;</th><th scope=col>&lt;fct&gt;</th><th scope=col>⋯</th><th scope=col>&lt;fct&gt;</th><th scope=col>&lt;fct&gt;</th><th scope=col>&lt;fct&gt;</th><th scope=col>&lt;fct&gt;</th><th scope=col>&lt;fct&gt;</th><th scope=col>&lt;fct&gt;</th><th scope=col>&lt;dbl&gt;</th><th scope=col>&lt;int&gt;</th><th scope=col>&lt;fct&gt;</th><th scope=col>&lt;fct&gt;</th></tr>\n",
       "</thead>\n",
       "<tbody>\n",
       "\t<tr><td>MJGMD1__maxbin2_high_prob_001_contigs             </td><td>X115_Common_Kestrel</td><td>1.6061</td><td>115</td><td>Turmfalke     </td><td>Common.Kestrel</td><td>Falco_tinnunculus</td><td>NA</td><td>100819</td><td>Aves    </td><td>⋯</td><td>N/A            </td><td>N/A                                                                                                                </td><td>N/A  </td><td>N/A </td><td>d__Bacteria;p__Proteobacteria;c__Gammaproteobacteria;o__Enterobacterales;f__Enterobacteriaceae;g__Escherichia;s__</td><td>ANI/Placement</td><td>99.27</td><td>11</td><td>N/A</td><td>N/A</td></tr>\n",
       "\t<tr><td>X46_European_Nightjar__metabat2_low_PE_001_contigs</td><td>X120_Alpine_Shrew  </td><td>1.8998</td><td>120</td><td>Alpenspitzmaus</td><td>Alpine.Shrew  </td><td>Sorex_alpinus    </td><td>NA</td><td> 62902</td><td>Mammalia</td><td>⋯</td><td>GCF_000392875.1</td><td>d__Bacteria;p__Firmicutes;c__Bacilli;o__Lactobacillales;f__Enterococcaceae;g__Enterococcus;s__Enterococcus faecalis</td><td>98.88</td><td>0.97</td><td>d__Bacteria;p__Firmicutes;c__Bacilli;o__Lactobacillales;f__Enterococcaceae;g__Enterococcus;s__                   </td><td>ANI/Placement</td><td>95.79</td><td>11</td><td>N/A</td><td>N/A</td></tr>\n",
       "\t<tr><td>⋮</td><td>⋮</td><td>⋮</td><td>⋮</td><td>⋮</td><td>⋮</td><td>⋮</td><td>⋮</td><td>⋮</td><td>⋮</td><td>⋱</td><td>⋮</td><td>⋮</td><td>⋮</td><td>⋮</td><td>⋮</td><td>⋮</td><td>⋮</td><td>⋮</td><td>⋮</td><td>⋮</td></tr>\n",
       "\t<tr><td>NBJMC04201__metabat2_low_PE_012_contigs                                  </td><td>XF42_Fallow_Deer</td><td>3.9465</td><td>F42</td><td>Damhirsch</td><td>Fallow.Deer</td><td>Dama_dama</td><td>NA</td><td>30532</td><td>Mammalia</td><td>⋯</td><td>GCF_000154205.1</td><td>d__Bacteria;p__Bacteroidota;c__Bacteroidia;o__Bacteroidales;f__Bacteroidaceae;g__Bacteroides;s__Bacteroides uniformis</td><td>97.79</td><td>0.86</td><td>d__Bacteria;p__Bacteroidota;c__Bacteroidia;o__Bacteroidales;f__Bacteroidaceae;g__Bacteroides;s__  </td><td>ANI/Placement</td><td>88.15</td><td>11</td><td>N/A</td><td>N/A</td></tr>\n",
       "\t<tr><td>Cebus_capucinus_imitator_PRJNA485217_SSR024__metabat2_high_PE_013_contigs</td><td>XF42_Fallow_Deer</td><td>4.7508</td><td>F42</td><td>Damhirsch</td><td>Fallow.Deer</td><td>Dama_dama</td><td>NA</td><td>30532</td><td>Mammalia</td><td>⋯</td><td>GCF_000156075.1</td><td>d__Bacteria;p__Bacteroidota;c__Bacteroidia;o__Bacteroidales;f__Bacteroidaceae;g__Bacteroides_B;s__Bacteroides_B dorei</td><td>99.41</td><td>0.96</td><td>d__Bacteria;p__Bacteroidota;c__Bacteroidia;o__Bacteroidales;f__Bacteroidaceae;g__Bacteroides_B;s__</td><td>ANI/Placement</td><td>96.98</td><td>11</td><td>N/A</td><td>N/A</td></tr>\n",
       "</tbody>\n",
       "</table>\n"
      ],
      "text/latex": [
       "A data.frame: 57 × 127\n",
       "\\begin{tabular}{lllllllllllllllllllll}\n",
       " taxon & sample & growth\\_rate & host\\_subject\\_id & host\\_german\\_name & host\\_common\\_name & scientific\\_name & scientific\\_name\\_subspecies & host\\_taxid & class & ⋯ & closest\\_placement\\_reference & closest\\_placement\\_taxonomy & closest\\_placement\\_ani & closest\\_placement\\_af & pplacer\\_taxonomy & classification\\_method & aa\\_percent & translation\\_table & red\\_value & warnings\\\\\n",
       " <chr> & <chr> & <dbl> & <fct> & <fct> & <fct> & <fct> & <fct> & <int> & <fct> & ⋯ & <fct> & <fct> & <fct> & <fct> & <fct> & <fct> & <dbl> & <int> & <fct> & <fct>\\\\\n",
       "\\hline\n",
       "\t MJGMD1\\_\\_maxbin2\\_high\\_prob\\_001\\_contigs              & X115\\_Common\\_Kestrel & 1.6061 & 115 & Turmfalke      & Common.Kestrel & Falco\\_tinnunculus & NA & 100819 & Aves     & ⋯ & N/A             & N/A                                                                                                                 & N/A   & N/A  & d\\_\\_Bacteria;p\\_\\_Proteobacteria;c\\_\\_Gammaproteobacteria;o\\_\\_Enterobacterales;f\\_\\_Enterobacteriaceae;g\\_\\_Escherichia;s\\_\\_ & ANI/Placement & 99.27 & 11 & N/A & N/A\\\\\n",
       "\t X46\\_European\\_Nightjar\\_\\_metabat2\\_low\\_PE\\_001\\_contigs & X120\\_Alpine\\_Shrew   & 1.8998 & 120 & Alpenspitzmaus & Alpine.Shrew   & Sorex\\_alpinus     & NA &  62902 & Mammalia & ⋯ & GCF\\_000392875.1 & d\\_\\_Bacteria;p\\_\\_Firmicutes;c\\_\\_Bacilli;o\\_\\_Lactobacillales;f\\_\\_Enterococcaceae;g\\_\\_Enterococcus;s\\_\\_Enterococcus faecalis & 98.88 & 0.97 & d\\_\\_Bacteria;p\\_\\_Firmicutes;c\\_\\_Bacilli;o\\_\\_Lactobacillales;f\\_\\_Enterococcaceae;g\\_\\_Enterococcus;s\\_\\_                    & ANI/Placement & 95.79 & 11 & N/A & N/A\\\\\n",
       "\t ⋮ & ⋮ & ⋮ & ⋮ & ⋮ & ⋮ & ⋮ & ⋮ & ⋮ & ⋮ & ⋱ & ⋮ & ⋮ & ⋮ & ⋮ & ⋮ & ⋮ & ⋮ & ⋮ & ⋮ & ⋮\\\\\n",
       "\t NBJMC04201\\_\\_metabat2\\_low\\_PE\\_012\\_contigs                                   & XF42\\_Fallow\\_Deer & 3.9465 & F42 & Damhirsch & Fallow.Deer & Dama\\_dama & NA & 30532 & Mammalia & ⋯ & GCF\\_000154205.1 & d\\_\\_Bacteria;p\\_\\_Bacteroidota;c\\_\\_Bacteroidia;o\\_\\_Bacteroidales;f\\_\\_Bacteroidaceae;g\\_\\_Bacteroides;s\\_\\_Bacteroides uniformis & 97.79 & 0.86 & d\\_\\_Bacteria;p\\_\\_Bacteroidota;c\\_\\_Bacteroidia;o\\_\\_Bacteroidales;f\\_\\_Bacteroidaceae;g\\_\\_Bacteroides;s\\_\\_   & ANI/Placement & 88.15 & 11 & N/A & N/A\\\\\n",
       "\t Cebus\\_capucinus\\_imitator\\_PRJNA485217\\_SSR024\\_\\_metabat2\\_high\\_PE\\_013\\_contigs & XF42\\_Fallow\\_Deer & 4.7508 & F42 & Damhirsch & Fallow.Deer & Dama\\_dama & NA & 30532 & Mammalia & ⋯ & GCF\\_000156075.1 & d\\_\\_Bacteria;p\\_\\_Bacteroidota;c\\_\\_Bacteroidia;o\\_\\_Bacteroidales;f\\_\\_Bacteroidaceae;g\\_\\_Bacteroides\\_B;s\\_\\_Bacteroides\\_B dorei & 99.41 & 0.96 & d\\_\\_Bacteria;p\\_\\_Bacteroidota;c\\_\\_Bacteroidia;o\\_\\_Bacteroidales;f\\_\\_Bacteroidaceae;g\\_\\_Bacteroides\\_B;s\\_\\_ & ANI/Placement & 96.98 & 11 & N/A & N/A\\\\\n",
       "\\end{tabular}\n"
      ],
      "text/markdown": [
       "\n",
       "A data.frame: 57 × 127\n",
       "\n",
       "| taxon &lt;chr&gt; | sample &lt;chr&gt; | growth_rate &lt;dbl&gt; | host_subject_id &lt;fct&gt; | host_german_name &lt;fct&gt; | host_common_name &lt;fct&gt; | scientific_name &lt;fct&gt; | scientific_name_subspecies &lt;fct&gt; | host_taxid &lt;int&gt; | class &lt;fct&gt; | ⋯ ⋯ | closest_placement_reference &lt;fct&gt; | closest_placement_taxonomy &lt;fct&gt; | closest_placement_ani &lt;fct&gt; | closest_placement_af &lt;fct&gt; | pplacer_taxonomy &lt;fct&gt; | classification_method &lt;fct&gt; | aa_percent &lt;dbl&gt; | translation_table &lt;int&gt; | red_value &lt;fct&gt; | warnings &lt;fct&gt; |\n",
       "|---|---|---|---|---|---|---|---|---|---|---|---|---|---|---|---|---|---|---|---|---|\n",
       "| MJGMD1__maxbin2_high_prob_001_contigs              | X115_Common_Kestrel | 1.6061 | 115 | Turmfalke      | Common.Kestrel | Falco_tinnunculus | NA | 100819 | Aves     | ⋯ | N/A             | N/A                                                                                                                 | N/A   | N/A  | d__Bacteria;p__Proteobacteria;c__Gammaproteobacteria;o__Enterobacterales;f__Enterobacteriaceae;g__Escherichia;s__ | ANI/Placement | 99.27 | 11 | N/A | N/A |\n",
       "| X46_European_Nightjar__metabat2_low_PE_001_contigs | X120_Alpine_Shrew   | 1.8998 | 120 | Alpenspitzmaus | Alpine.Shrew   | Sorex_alpinus     | NA |  62902 | Mammalia | ⋯ | GCF_000392875.1 | d__Bacteria;p__Firmicutes;c__Bacilli;o__Lactobacillales;f__Enterococcaceae;g__Enterococcus;s__Enterococcus faecalis | 98.88 | 0.97 | d__Bacteria;p__Firmicutes;c__Bacilli;o__Lactobacillales;f__Enterococcaceae;g__Enterococcus;s__                    | ANI/Placement | 95.79 | 11 | N/A | N/A |\n",
       "| ⋮ | ⋮ | ⋮ | ⋮ | ⋮ | ⋮ | ⋮ | ⋮ | ⋮ | ⋮ | ⋱ | ⋮ | ⋮ | ⋮ | ⋮ | ⋮ | ⋮ | ⋮ | ⋮ | ⋮ | ⋮ |\n",
       "| NBJMC04201__metabat2_low_PE_012_contigs                                   | XF42_Fallow_Deer | 3.9465 | F42 | Damhirsch | Fallow.Deer | Dama_dama | NA | 30532 | Mammalia | ⋯ | GCF_000154205.1 | d__Bacteria;p__Bacteroidota;c__Bacteroidia;o__Bacteroidales;f__Bacteroidaceae;g__Bacteroides;s__Bacteroides uniformis | 97.79 | 0.86 | d__Bacteria;p__Bacteroidota;c__Bacteroidia;o__Bacteroidales;f__Bacteroidaceae;g__Bacteroides;s__   | ANI/Placement | 88.15 | 11 | N/A | N/A |\n",
       "| Cebus_capucinus_imitator_PRJNA485217_SSR024__metabat2_high_PE_013_contigs | XF42_Fallow_Deer | 4.7508 | F42 | Damhirsch | Fallow.Deer | Dama_dama | NA | 30532 | Mammalia | ⋯ | GCF_000156075.1 | d__Bacteria;p__Bacteroidota;c__Bacteroidia;o__Bacteroidales;f__Bacteroidaceae;g__Bacteroides_B;s__Bacteroides_B dorei | 99.41 | 0.96 | d__Bacteria;p__Bacteroidota;c__Bacteroidia;o__Bacteroidales;f__Bacteroidaceae;g__Bacteroides_B;s__ | ANI/Placement | 96.98 | 11 | N/A | N/A |\n",
       "\n"
      ],
      "text/plain": [
       "   taxon                                                                    \n",
       "1  MJGMD1__maxbin2_high_prob_001_contigs                                    \n",
       "2  X46_European_Nightjar__metabat2_low_PE_001_contigs                       \n",
       "⋮  ⋮                                                                        \n",
       "56 NBJMC04201__metabat2_low_PE_012_contigs                                  \n",
       "57 Cebus_capucinus_imitator_PRJNA485217_SSR024__metabat2_high_PE_013_contigs\n",
       "   sample              growth_rate host_subject_id host_german_name\n",
       "1  X115_Common_Kestrel 1.6061      115             Turmfalke       \n",
       "2  X120_Alpine_Shrew   1.8998      120             Alpenspitzmaus  \n",
       "⋮  ⋮                   ⋮           ⋮               ⋮               \n",
       "56 XF42_Fallow_Deer    3.9465      F42             Damhirsch       \n",
       "57 XF42_Fallow_Deer    4.7508      F42             Damhirsch       \n",
       "   host_common_name scientific_name   scientific_name_subspecies host_taxid\n",
       "1  Common.Kestrel   Falco_tinnunculus NA                         100819    \n",
       "2  Alpine.Shrew     Sorex_alpinus     NA                          62902    \n",
       "⋮  ⋮                ⋮                 ⋮                          ⋮         \n",
       "56 Fallow.Deer      Dama_dama         NA                         30532     \n",
       "57 Fallow.Deer      Dama_dama         NA                         30532     \n",
       "   class    ⋯ closest_placement_reference\n",
       "1  Aves     ⋯ N/A                        \n",
       "2  Mammalia ⋯ GCF_000392875.1            \n",
       "⋮  ⋮        ⋱ ⋮                          \n",
       "56 Mammalia ⋯ GCF_000154205.1            \n",
       "57 Mammalia ⋯ GCF_000156075.1            \n",
       "   closest_placement_taxonomy                                                                                           \n",
       "1  N/A                                                                                                                  \n",
       "2  d__Bacteria;p__Firmicutes;c__Bacilli;o__Lactobacillales;f__Enterococcaceae;g__Enterococcus;s__Enterococcus faecalis  \n",
       "⋮  ⋮                                                                                                                    \n",
       "56 d__Bacteria;p__Bacteroidota;c__Bacteroidia;o__Bacteroidales;f__Bacteroidaceae;g__Bacteroides;s__Bacteroides uniformis\n",
       "57 d__Bacteria;p__Bacteroidota;c__Bacteroidia;o__Bacteroidales;f__Bacteroidaceae;g__Bacteroides_B;s__Bacteroides_B dorei\n",
       "   closest_placement_ani closest_placement_af\n",
       "1  N/A                   N/A                 \n",
       "2  98.88                 0.97                \n",
       "⋮  ⋮                     ⋮                   \n",
       "56 97.79                 0.86                \n",
       "57 99.41                 0.96                \n",
       "   pplacer_taxonomy                                                                                                 \n",
       "1  d__Bacteria;p__Proteobacteria;c__Gammaproteobacteria;o__Enterobacterales;f__Enterobacteriaceae;g__Escherichia;s__\n",
       "2  d__Bacteria;p__Firmicutes;c__Bacilli;o__Lactobacillales;f__Enterococcaceae;g__Enterococcus;s__                   \n",
       "⋮  ⋮                                                                                                                \n",
       "56 d__Bacteria;p__Bacteroidota;c__Bacteroidia;o__Bacteroidales;f__Bacteroidaceae;g__Bacteroides;s__                 \n",
       "57 d__Bacteria;p__Bacteroidota;c__Bacteroidia;o__Bacteroidales;f__Bacteroidaceae;g__Bacteroides_B;s__               \n",
       "   classification_method aa_percent translation_table red_value warnings\n",
       "1  ANI/Placement         99.27      11                N/A       N/A     \n",
       "2  ANI/Placement         95.79      11                N/A       N/A     \n",
       "⋮  ⋮                     ⋮          ⋮                 ⋮         ⋮       \n",
       "56 ANI/Placement         88.15      11                N/A       N/A     \n",
       "57 ANI/Placement         96.98      11                N/A       N/A     "
      ]
     },
     "metadata": {},
     "output_type": "display_data"
    }
   ],
   "source": [
    "# adding MAG metadata\n",
    "demic_ptr_f = demic_ptr_f %>%\n",
    "    inner_join(MAG_meta %>% mutate(binID = gsub('\\\\.', '_', binID)), \n",
    "               c('taxon'='binID')) %>%\n",
    "    dplyr::select(-note)\n",
    "\n",
    "demic_ptr_f"
   ]
  },
  {
   "cell_type": "markdown",
   "metadata": {},
   "source": [
    "### Distribution among samples"
   ]
  },
  {
   "cell_type": "code",
   "execution_count": 83,
   "metadata": {
    "ExecuteTime": {
     "end_time": "2020-01-22T12:46:46.293242Z",
     "start_time": "2020-01-22T12:46:46.277Z"
    }
   },
   "outputs": [
    {
     "data": {
      "text/html": [
       "<dl class=dl-horizontal>\n",
       "\t<dt>Actinopterygii</dt>\n",
       "\t\t<dd>0</dd>\n",
       "\t<dt>Amphibia</dt>\n",
       "\t\t<dd>0</dd>\n",
       "\t<dt>Aves</dt>\n",
       "\t\t<dd>11</dd>\n",
       "\t<dt>Chondrichthyes</dt>\n",
       "\t\t<dd>0</dd>\n",
       "\t<dt>Mammalia</dt>\n",
       "\t\t<dd>45</dd>\n",
       "\t<dt>Reptilia</dt>\n",
       "\t\t<dd>1</dd>\n",
       "</dl>\n"
      ],
      "text/latex": [
       "\\begin{description*}\n",
       "\\item[Actinopterygii] 0\n",
       "\\item[Amphibia] 0\n",
       "\\item[Aves] 11\n",
       "\\item[Chondrichthyes] 0\n",
       "\\item[Mammalia] 45\n",
       "\\item[Reptilia] 1\n",
       "\\end{description*}\n"
      ],
      "text/markdown": [
       "Actinopterygii\n",
       ":   0Amphibia\n",
       ":   0Aves\n",
       ":   11Chondrichthyes\n",
       ":   0Mammalia\n",
       ":   45Reptilia\n",
       ":   1\n",
       "\n"
      ],
      "text/plain": [
       "Actinopterygii       Amphibia           Aves Chondrichthyes       Mammalia \n",
       "             0              0             11              0             45 \n",
       "      Reptilia \n",
       "             1 "
      ]
     },
     "metadata": {},
     "output_type": "display_data"
    }
   ],
   "source": [
    "demic_ptr_f$class %>% summary"
   ]
  },
  {
   "cell_type": "code",
   "execution_count": 84,
   "metadata": {
    "ExecuteTime": {
     "end_time": "2020-01-22T12:46:51.464900Z",
     "start_time": "2020-01-22T12:46:51.123Z"
    }
   },
   "outputs": [
    {
     "name": "stdout",
     "output_type": "stream",
     "text": [
      "Number of samples per MAG with non-NA values:\n",
      "   Min. 1st Qu.  Median    Mean 3rd Qu.    Max. \n",
      "  2.000   2.000   2.000   4.385   5.000  19.000 \n",
      "[1] 4.71767\n",
      "\n",
      "Number of MAGs: 13 \n",
      "File written: /ebio/abt3_projects/Georg_animal_feces/notebooks/metagenome/multi-study/08_drep95_wGeorgAnimal/.figures/7c9dc117ffabfacf3ced604358fd1ada.RDS \n"
     ]
    },
    {
     "data": {
      "image/png": "[encoded data removed]",
      "text/plain": [
       "plot without title"
      ]
     },
     "metadata": {
      "image/png": {
       "height": 300,
       "width": 400
      },
      "text/plain": {
       "height": 300,
       "width": 400
      }
     },
     "output_type": "display_data"
    }
   ],
   "source": [
    "demic_ptr_f_s = demic_ptr_f %>%\n",
    "    group_by(taxon) %>%\n",
    "    summarize(n_samples = n()) %>%\n",
    "    ungroup() \n",
    "\n",
    "cat('Number of samples per MAG with non-NA values:\\n')\n",
    "demic_ptr_f_s %>% .$n_samples %>% summary %>% print\n",
    "demic_ptr_f_s %>% .$n_samples %>% sd %>% print\n",
    "cat('\\n')\n",
    "\n",
    "cat('Number of MAGs:', demic_ptr_f_s %>% .$taxon %>% unique %>% length, '\\n')\n",
    "\n",
    "p = demic_ptr_f_s %>%\n",
    "    ggplot(aes(n_samples)) +\n",
    "    geom_histogram(bins=40) +\n",
    "    labs(x='No. of samples with PTR value', y='No. of MAGs') +\n",
    "    theme_bw()\n",
    "\n",
    "dims(4,3)\n",
    "Plot(p)"
   ]
  },
  {
   "cell_type": "code",
   "execution_count": 85,
   "metadata": {
    "ExecuteTime": {
     "end_time": "2020-01-22T12:46:56.273748Z",
     "start_time": "2020-01-22T12:46:55.789Z"
    }
   },
   "outputs": [
    {
     "name": "stdout",
     "output_type": "stream",
     "text": [
      "File written: /ebio/abt3_projects/Georg_animal_feces/notebooks/metagenome/multi-study/08_drep95_wGeorgAnimal/.figures/cc96ccc27bedadbd34f42b7ca2f74918.RDS \n"
     ]
    },
    {
     "data": {
      "image/png": "[encoded data removed]",
      "text/plain": [
       "plot without title"
      ]
     },
     "metadata": {
      "image/png": {
       "height": 300,
       "width": 500
      },
      "text/plain": {
       "height": 300,
       "width": 500
      }
     },
     "output_type": "display_data"
    }
   ],
   "source": [
    "# PTR values for each MAG (grouped by phylum); only MAGs with >=3 PTR values shown\n",
    "p = demic_ptr_f %>%\n",
    "    group_by(taxon) %>%\n",
    "    mutate(n_samples = n()) %>%\n",
    "    ungroup() %>%\n",
    "    filter(n_samples >= 3) %>%\n",
    "    group_by(Phylum) %>%\n",
    "    mutate(mean_n_samples = mean(n_samples)) %>%\n",
    "    ungroup() %>%\n",
    "    mutate(Phylum = gsub('^p__', '', Phylum)) %>%\n",
    "    group_by(taxon) %>%\n",
    "    summarize(growth_rate = mean(growth_rate),\n",
    "              mean_n_samples = first(mean_n_samples),\n",
    "              Phylum = first(Phylum)) %>%\n",
    "    ungroup() %>%\n",
    "    ggplot(aes(Phylum, growth_rate, color=mean_n_samples)) +\n",
    "    geom_boxplot() +\n",
    "    scale_color_continuous('No. of\\nsamples', low='black', high='red') +\n",
    "    #scale_y_log10(breaks=c(1,10,70), labels=c(1,10,70), limits=c(1,70)) +\n",
    "    labs(y='Peak-to-trough ratio') +\n",
    "    theme_bw() +\n",
    "    theme(\n",
    "        axis.text.x = element_text(angle=45, hjust=1)\n",
    "    )\n",
    "\n",
    "dims(5, 3)\n",
    "plot(p)"
   ]
  },
  {
   "cell_type": "code",
   "execution_count": 86,
   "metadata": {
    "ExecuteTime": {
     "end_time": "2020-01-22T12:47:12.671892Z",
     "start_time": "2020-01-22T12:47:12.013Z"
    }
   },
   "outputs": [
    {
     "name": "stderr",
     "output_type": "stream",
     "text": [
      "Warning message:\n",
      "“Removed 3 rows containing missing values (geom_linerange).”\n"
     ]
    },
    {
     "data": {
      "image/png": "[encoded data removed]",
      "text/plain": [
       "plot without title"
      ]
     },
     "metadata": {
      "image/png": {
       "height": 400,
       "width": 400
      },
      "text/plain": {
       "height": 400,
       "width": 400
      }
     },
     "output_type": "display_data"
    }
   ],
   "source": [
    "# PTR values for each MAG (grouped by phylum); only MAGs with >=3 PTR values shown\n",
    "p = demic_ptr_f %>%\n",
    "    group_by(taxon) %>%\n",
    "    mutate(n_samples = n()) %>%\n",
    "    ungroup() %>%\n",
    "    filter(n_samples >= 3) %>%\n",
    "    group_by(taxon, class) %>%\n",
    "    summarize(mean_growth_rate = mean(growth_rate),\n",
    "              sderr_growth_rate = sd(growth_rate) / sqrt(n()),\n",
    "              Phylum = first(Phylum)) %>%\n",
    "    ungroup() %>%\n",
    "    mutate(Phylum = gsub('^p__', '', Phylum),\n",
    "           taxon = taxon %>% reorder(-mean_growth_rate)) %>%\n",
    "    group_by(taxon) %>%\n",
    "    mutate(max_PTR = max(mean_growth_rate)) %>%\n",
    "    ungroup() %>%\n",
    "    mutate(taxon = taxon %>% reorder(-max_PTR)) %>%\n",
    "    ggplot(aes(taxon, mean_growth_rate, color=Phylum)) +\n",
    "    geom_linerange(aes(ymin=mean_growth_rate-sderr_growth_rate,\n",
    "                       ymax=mean_growth_rate+sderr_growth_rate),\n",
    "                  alpha=0.5, size=0.8) +\n",
    "    geom_point(alpha=0.7, size=1.3) +\n",
    "    scale_y_log10() +\n",
    "    labs(x='MAG', y='Mean peak-to-trough ratio') +\n",
    "    facet_grid(class ~ .) +\n",
    "    theme_bw() +\n",
    "    theme(\n",
    "        axis.text.x = element_blank() \n",
    "    )\n",
    "\n",
    "dims(4, 4)\n",
    "plot(p)"
   ]
  },
  {
   "cell_type": "code",
   "execution_count": 87,
   "metadata": {
    "ExecuteTime": {
     "end_time": "2020-01-22T12:47:27.819229Z",
     "start_time": "2020-01-22T12:47:27.357Z"
    }
   },
   "outputs": [
    {
     "data": {
      "image/png": "[encoded data removed]",
      "text/plain": [
       "plot without title"
      ]
     },
     "metadata": {
      "image/png": {
       "height": 350,
       "width": 650
      },
      "text/plain": {
       "height": 350,
       "width": 650
      }
     },
     "output_type": "display_data"
    }
   ],
   "source": [
    "# outlier PTR values caused by low completeness?\n",
    "p = demic_ptr_f %>%\n",
    "    group_by(Phylum, taxon) %>%\n",
    "    summarize(Completeness = first(Completeness),\n",
    "              mean_PTR = mean(growth_rate),\n",
    "              sd_PTR = sd(growth_rate),\n",
    "              sderr_PTR = sd(growth_rate) / sqrt(n())) %>%\n",
    "    ungroup() %>%\n",
    "    mutate(Phylum = gsub('^p__', '', Phylum)) %>%\n",
    "    ggplot(aes(Completeness, mean_PTR, color=Phylum)) +\n",
    "    geom_linerange(aes(ymin=mean_PTR-sderr_PTR, \n",
    "                       ymax=mean_PTR+sderr_PTR),\n",
    "                  alpha=0.2) +\n",
    "    geom_point(alpha=0.3) +\n",
    "    scale_y_log10() +\n",
    "    labs(y='Peak-to-trough ratio') +\n",
    "    theme_bw() \n",
    "\n",
    "dims(6.5, 3.5)\n",
    "plot(p)"
   ]
  },
  {
   "cell_type": "markdown",
   "metadata": {},
   "source": [
    "# LLMGPS (5 mil reads)"
   ]
  },
  {
   "cell_type": "markdown",
   "metadata": {},
   "source": [
    "## Number of samples"
   ]
  },
  {
   "cell_type": "code",
   "execution_count": 89,
   "metadata": {
    "ExecuteTime": {
     "end_time": "2020-01-22T12:48:28.042075Z",
     "start_time": "2020-01-22T12:48:27.988Z"
    }
   },
   "outputs": [
    {
     "name": "stdout",
     "output_type": "stream",
     "text": [
      ".\n",
      "Actinopterygii       Amphibia           Aves Chondrichthyes       Mammalia \n",
      "             2              2             10              0             37 \n",
      "      Reptilia \n",
      "             2 \n"
     ]
    },
    {
     "data": {
      "text/html": [
       "<table>\n",
       "<caption>A data.frame: 53 × 76</caption>\n",
       "<thead>\n",
       "\t<tr><th scope=col>Sample</th><th scope=col>Read1</th><th scope=col>Read2</th><th scope=col>Total.Sequences</th><th scope=col>nonpareil_coverage</th><th scope=col>nonpareil_diversity</th><th scope=col>host_subject_id</th><th scope=col>host_german_name</th><th scope=col>host_common_name</th><th scope=col>scientific_name</th><th scope=col>⋯</th><th scope=col>temp_regulation</th><th scope=col>collection_date</th><th scope=col>season</th><th scope=col>samp_store_days</th><th scope=col>samp_collect_device</th><th scope=col>sampling_method</th><th scope=col>diet</th><th scope=col>feeding_style</th><th scope=col>digestive_system</th><th scope=col>digestive_system_detail</th></tr>\n",
       "\t<tr><th scope=col>&lt;chr&gt;</th><th scope=col>&lt;fct&gt;</th><th scope=col>&lt;fct&gt;</th><th scope=col>&lt;int&gt;</th><th scope=col>&lt;dbl&gt;</th><th scope=col>&lt;dbl&gt;</th><th scope=col>&lt;fct&gt;</th><th scope=col>&lt;fct&gt;</th><th scope=col>&lt;fct&gt;</th><th scope=col>&lt;fct&gt;</th><th scope=col>⋯</th><th scope=col>&lt;fct&gt;</th><th scope=col>&lt;fct&gt;</th><th scope=col>&lt;fct&gt;</th><th scope=col>&lt;fct&gt;</th><th scope=col>&lt;fct&gt;</th><th scope=col>&lt;fct&gt;</th><th scope=col>&lt;fct&gt;</th><th scope=col>&lt;fct&gt;</th><th scope=col>&lt;fct&gt;</th><th scope=col>&lt;fct&gt;</th></tr>\n",
       "</thead>\n",
       "<tbody>\n",
       "\t<tr><td>X144_Cattle</td><td>/ebio/abt3_projects/Georg_animal_feces/data/metagenome/HiSeqRuns126-133-0138/wOutVertebrata/LLMGQC/final/X144_Cattle/R1_final.fq.gz</td><td>/ebio/abt3_projects/Georg_animal_feces/data/metagenome/HiSeqRuns126-133-0138/wOutVertebrata/LLMGQC/final/X144_Cattle/R2_final.fq.gz</td><td>10471331</td><td>0.3073356</td><td>22.03854</td><td>142</td><td>Hausrind </td><td>Cattle</td><td>Bos_taurus    </td><td>⋯</td><td>endotherm/homoiotherm</td><td>2009-06-17</td><td>spring</td><td>1102</td><td>Screw cap vial</td><td>feces sampling</td><td>herbivore</td><td>bulk and roughage eaters</td><td>foregut</td><td>foregut</td></tr>\n",
       "\t<tr><td>X101_Horse </td><td>/ebio/abt3_projects/Georg_animal_feces/data/metagenome/HiSeqRuns126-133-0138/wOutVertebrata/LLMGQC/final/X101_Horse/R1_final.fq.gz </td><td>/ebio/abt3_projects/Georg_animal_feces/data/metagenome/HiSeqRuns126-133-0138/wOutVertebrata/LLMGQC/final/X101_Horse/R2_final.fq.gz </td><td> 7716507</td><td>0.3414071</td><td>21.56971</td><td>101</td><td>Hauspferd</td><td>Horse </td><td>Equus_caballus</td><td>⋯</td><td>endotherm/homoiotherm</td><td>2011-09-17</td><td>summer</td><td>119 </td><td>Screw cap vial</td><td>feces sampling</td><td>herbivore</td><td>NA                      </td><td>hindgut</td><td>colon  </td></tr>\n",
       "\t<tr><td>⋮</td><td>⋮</td><td>⋮</td><td>⋮</td><td>⋮</td><td>⋮</td><td>⋮</td><td>⋮</td><td>⋮</td><td>⋮</td><td>⋱</td><td>⋮</td><td>⋮</td><td>⋮</td><td>⋮</td><td>⋮</td><td>⋮</td><td>⋮</td><td>⋮</td><td>⋮</td><td>⋮</td></tr>\n",
       "\t<tr><td>X256_Zander          </td><td>/ebio/abt3_projects/Georg_animal_feces/data/metagenome/HiSeqRuns126-133-0138/wOutVertebrata/LLMGQC/final/X256_Zander/R1_final.fq.gz          </td><td>/ebio/abt3_projects/Georg_animal_feces/data/metagenome/HiSeqRuns126-133-0138/wOutVertebrata/LLMGQC/final/X256_Zander/R2_final.fq.gz          </td><td> 9198058</td><td>0.9757480</td><td>14.88468</td><td>256</td><td>Zander  </td><td>Zander           </td><td>Sander_lucioperca     </td><td>⋯</td><td>ectotherm/poikilotherm</td><td>2012-10-05</td><td>autumn</td><td>116</td><td>Screw cap vial</td><td>feces sampling</td><td>carnivore</td><td>NA</td><td>simple</td><td>simple</td></tr>\n",
       "\t<tr><td>X84_Common_Chiffchaff</td><td>/ebio/abt3_projects/Georg_animal_feces/data/metagenome/HiSeqRuns126-133-0138/wOutVertebrata/LLMGQC/final/X84_Common_Chiffchaff/R1_final.fq.gz</td><td>/ebio/abt3_projects/Georg_animal_feces/data/metagenome/HiSeqRuns126-133-0138/wOutVertebrata/LLMGQC/final/X84_Common_Chiffchaff/R2_final.fq.gz</td><td>24926183</td><td>0.9791558</td><td>14.22184</td><td>84 </td><td>Zilpzalp</td><td>Common.Chiffchaff</td><td>Phylloscopus_collybita</td><td>⋯</td><td>endotherm/homoiotherm </td><td>2011-10-01</td><td>autumn</td><td>100</td><td>Screw cap vial</td><td>swab          </td><td>omnivore </td><td>NA</td><td>simple</td><td>simple</td></tr>\n",
       "</tbody>\n",
       "</table>\n"
      ],
      "text/latex": [
       "A data.frame: 53 × 76\n",
       "\\begin{tabular}{lllllllllllllllllllll}\n",
       " Sample & Read1 & Read2 & Total.Sequences & nonpareil\\_coverage & nonpareil\\_diversity & host\\_subject\\_id & host\\_german\\_name & host\\_common\\_name & scientific\\_name & ⋯ & temp\\_regulation & collection\\_date & season & samp\\_store\\_days & samp\\_collect\\_device & sampling\\_method & diet & feeding\\_style & digestive\\_system & digestive\\_system\\_detail\\\\\n",
       " <chr> & <fct> & <fct> & <int> & <dbl> & <dbl> & <fct> & <fct> & <fct> & <fct> & ⋯ & <fct> & <fct> & <fct> & <fct> & <fct> & <fct> & <fct> & <fct> & <fct> & <fct>\\\\\n",
       "\\hline\n",
       "\t X144\\_Cattle & /ebio/abt3\\_projects/Georg\\_animal\\_feces/data/metagenome/HiSeqRuns126-133-0138/wOutVertebrata/LLMGQC/final/X144\\_Cattle/R1\\_final.fq.gz & /ebio/abt3\\_projects/Georg\\_animal\\_feces/data/metagenome/HiSeqRuns126-133-0138/wOutVertebrata/LLMGQC/final/X144\\_Cattle/R2\\_final.fq.gz & 10471331 & 0.3073356 & 22.03854 & 142 & Hausrind  & Cattle & Bos\\_taurus     & ⋯ & endotherm/homoiotherm & 2009-06-17 & spring & 1102 & Screw cap vial & feces sampling & herbivore & bulk and roughage eaters & foregut & foregut\\\\\n",
       "\t X101\\_Horse  & /ebio/abt3\\_projects/Georg\\_animal\\_feces/data/metagenome/HiSeqRuns126-133-0138/wOutVertebrata/LLMGQC/final/X101\\_Horse/R1\\_final.fq.gz  & /ebio/abt3\\_projects/Georg\\_animal\\_feces/data/metagenome/HiSeqRuns126-133-0138/wOutVertebrata/LLMGQC/final/X101\\_Horse/R2\\_final.fq.gz  &  7716507 & 0.3414071 & 21.56971 & 101 & Hauspferd & Horse  & Equus\\_caballus & ⋯ & endotherm/homoiotherm & 2011-09-17 & summer & 119  & Screw cap vial & feces sampling & herbivore & NA                       & hindgut & colon  \\\\\n",
       "\t ⋮ & ⋮ & ⋮ & ⋮ & ⋮ & ⋮ & ⋮ & ⋮ & ⋮ & ⋮ & ⋱ & ⋮ & ⋮ & ⋮ & ⋮ & ⋮ & ⋮ & ⋮ & ⋮ & ⋮ & ⋮\\\\\n",
       "\t X256\\_Zander           & /ebio/abt3\\_projects/Georg\\_animal\\_feces/data/metagenome/HiSeqRuns126-133-0138/wOutVertebrata/LLMGQC/final/X256\\_Zander/R1\\_final.fq.gz           & /ebio/abt3\\_projects/Georg\\_animal\\_feces/data/metagenome/HiSeqRuns126-133-0138/wOutVertebrata/LLMGQC/final/X256\\_Zander/R2\\_final.fq.gz           &  9198058 & 0.9757480 & 14.88468 & 256 & Zander   & Zander            & Sander\\_lucioperca      & ⋯ & ectotherm/poikilotherm & 2012-10-05 & autumn & 116 & Screw cap vial & feces sampling & carnivore & NA & simple & simple\\\\\n",
       "\t X84\\_Common\\_Chiffchaff & /ebio/abt3\\_projects/Georg\\_animal\\_feces/data/metagenome/HiSeqRuns126-133-0138/wOutVertebrata/LLMGQC/final/X84\\_Common\\_Chiffchaff/R1\\_final.fq.gz & /ebio/abt3\\_projects/Georg\\_animal\\_feces/data/metagenome/HiSeqRuns126-133-0138/wOutVertebrata/LLMGQC/final/X84\\_Common\\_Chiffchaff/R2\\_final.fq.gz & 24926183 & 0.9791558 & 14.22184 & 84  & Zilpzalp & Common.Chiffchaff & Phylloscopus\\_collybita & ⋯ & endotherm/homoiotherm  & 2011-10-01 & autumn & 100 & Screw cap vial & swab           & omnivore  & NA & simple & simple\\\\\n",
       "\\end{tabular}\n"
      ],
      "text/markdown": [
       "\n",
       "A data.frame: 53 × 76\n",
       "\n",
       "| Sample &lt;chr&gt; | Read1 &lt;fct&gt; | Read2 &lt;fct&gt; | Total.Sequences &lt;int&gt; | nonpareil_coverage &lt;dbl&gt; | nonpareil_diversity &lt;dbl&gt; | host_subject_id &lt;fct&gt; | host_german_name &lt;fct&gt; | host_common_name &lt;fct&gt; | scientific_name &lt;fct&gt; | ⋯ ⋯ | temp_regulation &lt;fct&gt; | collection_date &lt;fct&gt; | season &lt;fct&gt; | samp_store_days &lt;fct&gt; | samp_collect_device &lt;fct&gt; | sampling_method &lt;fct&gt; | diet &lt;fct&gt; | feeding_style &lt;fct&gt; | digestive_system &lt;fct&gt; | digestive_system_detail &lt;fct&gt; |\n",
       "|---|---|---|---|---|---|---|---|---|---|---|---|---|---|---|---|---|---|---|---|---|\n",
       "| X144_Cattle | /ebio/abt3_projects/Georg_animal_feces/data/metagenome/HiSeqRuns126-133-0138/wOutVertebrata/LLMGQC/final/X144_Cattle/R1_final.fq.gz | /ebio/abt3_projects/Georg_animal_feces/data/metagenome/HiSeqRuns126-133-0138/wOutVertebrata/LLMGQC/final/X144_Cattle/R2_final.fq.gz | 10471331 | 0.3073356 | 22.03854 | 142 | Hausrind  | Cattle | Bos_taurus     | ⋯ | endotherm/homoiotherm | 2009-06-17 | spring | 1102 | Screw cap vial | feces sampling | herbivore | bulk and roughage eaters | foregut | foregut |\n",
       "| X101_Horse  | /ebio/abt3_projects/Georg_animal_feces/data/metagenome/HiSeqRuns126-133-0138/wOutVertebrata/LLMGQC/final/X101_Horse/R1_final.fq.gz  | /ebio/abt3_projects/Georg_animal_feces/data/metagenome/HiSeqRuns126-133-0138/wOutVertebrata/LLMGQC/final/X101_Horse/R2_final.fq.gz  |  7716507 | 0.3414071 | 21.56971 | 101 | Hauspferd | Horse  | Equus_caballus | ⋯ | endotherm/homoiotherm | 2011-09-17 | summer | 119  | Screw cap vial | feces sampling | herbivore | NA                       | hindgut | colon   |\n",
       "| ⋮ | ⋮ | ⋮ | ⋮ | ⋮ | ⋮ | ⋮ | ⋮ | ⋮ | ⋮ | ⋱ | ⋮ | ⋮ | ⋮ | ⋮ | ⋮ | ⋮ | ⋮ | ⋮ | ⋮ | ⋮ |\n",
       "| X256_Zander           | /ebio/abt3_projects/Georg_animal_feces/data/metagenome/HiSeqRuns126-133-0138/wOutVertebrata/LLMGQC/final/X256_Zander/R1_final.fq.gz           | /ebio/abt3_projects/Georg_animal_feces/data/metagenome/HiSeqRuns126-133-0138/wOutVertebrata/LLMGQC/final/X256_Zander/R2_final.fq.gz           |  9198058 | 0.9757480 | 14.88468 | 256 | Zander   | Zander            | Sander_lucioperca      | ⋯ | ectotherm/poikilotherm | 2012-10-05 | autumn | 116 | Screw cap vial | feces sampling | carnivore | NA | simple | simple |\n",
       "| X84_Common_Chiffchaff | /ebio/abt3_projects/Georg_animal_feces/data/metagenome/HiSeqRuns126-133-0138/wOutVertebrata/LLMGQC/final/X84_Common_Chiffchaff/R1_final.fq.gz | /ebio/abt3_projects/Georg_animal_feces/data/metagenome/HiSeqRuns126-133-0138/wOutVertebrata/LLMGQC/final/X84_Common_Chiffchaff/R2_final.fq.gz | 24926183 | 0.9791558 | 14.22184 | 84  | Zilpzalp | Common.Chiffchaff | Phylloscopus_collybita | ⋯ | endotherm/homoiotherm  | 2011-10-01 | autumn | 100 | Screw cap vial | swab           | omnivore  | NA | simple | simple |\n",
       "\n"
      ],
      "text/plain": [
       "   Sample               \n",
       "1  X144_Cattle          \n",
       "2  X101_Horse           \n",
       "⋮  ⋮                    \n",
       "52 X256_Zander          \n",
       "53 X84_Common_Chiffchaff\n",
       "   Read1                                                                                                                                        \n",
       "1  /ebio/abt3_projects/Georg_animal_feces/data/metagenome/HiSeqRuns126-133-0138/wOutVertebrata/LLMGQC/final/X144_Cattle/R1_final.fq.gz          \n",
       "2  /ebio/abt3_projects/Georg_animal_feces/data/metagenome/HiSeqRuns126-133-0138/wOutVertebrata/LLMGQC/final/X101_Horse/R1_final.fq.gz           \n",
       "⋮  ⋮                                                                                                                                            \n",
       "52 /ebio/abt3_projects/Georg_animal_feces/data/metagenome/HiSeqRuns126-133-0138/wOutVertebrata/LLMGQC/final/X256_Zander/R1_final.fq.gz          \n",
       "53 /ebio/abt3_projects/Georg_animal_feces/data/metagenome/HiSeqRuns126-133-0138/wOutVertebrata/LLMGQC/final/X84_Common_Chiffchaff/R1_final.fq.gz\n",
       "   Read2                                                                                                                                        \n",
       "1  /ebio/abt3_projects/Georg_animal_feces/data/metagenome/HiSeqRuns126-133-0138/wOutVertebrata/LLMGQC/final/X144_Cattle/R2_final.fq.gz          \n",
       "2  /ebio/abt3_projects/Georg_animal_feces/data/metagenome/HiSeqRuns126-133-0138/wOutVertebrata/LLMGQC/final/X101_Horse/R2_final.fq.gz           \n",
       "⋮  ⋮                                                                                                                                            \n",
       "52 /ebio/abt3_projects/Georg_animal_feces/data/metagenome/HiSeqRuns126-133-0138/wOutVertebrata/LLMGQC/final/X256_Zander/R2_final.fq.gz          \n",
       "53 /ebio/abt3_projects/Georg_animal_feces/data/metagenome/HiSeqRuns126-133-0138/wOutVertebrata/LLMGQC/final/X84_Common_Chiffchaff/R2_final.fq.gz\n",
       "   Total.Sequences nonpareil_coverage nonpareil_diversity host_subject_id\n",
       "1  10471331        0.3073356          22.03854            142            \n",
       "2   7716507        0.3414071          21.56971            101            \n",
       "⋮  ⋮               ⋮                  ⋮                   ⋮              \n",
       "52  9198058        0.9757480          14.88468            256            \n",
       "53 24926183        0.9791558          14.22184            84             \n",
       "   host_german_name host_common_name  scientific_name        ⋯\n",
       "1  Hausrind         Cattle            Bos_taurus             ⋯\n",
       "2  Hauspferd        Horse             Equus_caballus         ⋯\n",
       "⋮  ⋮                ⋮                 ⋮                      ⋱\n",
       "52 Zander           Zander            Sander_lucioperca      ⋯\n",
       "53 Zilpzalp         Common.Chiffchaff Phylloscopus_collybita ⋯\n",
       "   temp_regulation        collection_date season samp_store_days\n",
       "1  endotherm/homoiotherm  2009-06-17      spring 1102           \n",
       "2  endotherm/homoiotherm  2011-09-17      summer 119            \n",
       "⋮  ⋮                      ⋮               ⋮      ⋮              \n",
       "52 ectotherm/poikilotherm 2012-10-05      autumn 116            \n",
       "53 endotherm/homoiotherm  2011-10-01      autumn 100            \n",
       "   samp_collect_device sampling_method diet      feeding_style           \n",
       "1  Screw cap vial      feces sampling  herbivore bulk and roughage eaters\n",
       "2  Screw cap vial      feces sampling  herbivore NA                      \n",
       "⋮  ⋮                   ⋮               ⋮         ⋮                       \n",
       "52 Screw cap vial      feces sampling  carnivore NA                      \n",
       "53 Screw cap vial      swab            omnivore  NA                      \n",
       "   digestive_system digestive_system_detail\n",
       "1  foregut          foregut                \n",
       "2  hindgut          colon                  \n",
       "⋮  ⋮                ⋮                      \n",
       "52 simple           simple                 \n",
       "53 simple           simple                 "
      ]
     },
     "metadata": {},
     "output_type": "display_data"
    }
   ],
   "source": [
    "# number of samples with 5mil reads\n",
    "n_paired_reads_cutoff = 5e6\n",
    "\n",
    "GA_samp_f = GA_samp  %>%\n",
    "    filter(Total.Sequences >= n_paired_reads_cutoff) \n",
    "\n",
    "GA_samp_f$class %>% table %>% print\n",
    "GA_samp_f"
   ]
  },
  {
   "cell_type": "code",
   "execution_count": 90,
   "metadata": {
    "ExecuteTime": {
     "end_time": "2020-01-22T12:48:32.646363Z",
     "start_time": "2020-01-22T12:48:32.347Z"
    }
   },
   "outputs": [
    {
     "name": "stdout",
     "output_type": "stream",
     "text": [
      "File written: /ebio/abt3_projects/Georg_animal_feces/notebooks/metagenome/multi-study/08_drep95_wGeorgAnimal/.figures/8d7224697c3f64bb07b7750f68c6e07d.RDS \n"
     ]
    },
    {
     "data": {
      "image/png": "[encoded data removed]",
      "text/plain": [
       "plot without title"
      ]
     },
     "metadata": {
      "image/png": {
       "height": 300,
       "width": 400
      },
      "text/plain": {
       "height": 300,
       "width": 400
      }
     },
     "output_type": "display_data"
    }
   ],
   "source": [
    "# plotting number of remaining samples\n",
    "p = GA_samp_f %>%\n",
    "    dplyr::select(Sample, Total.Sequences, diet,\n",
    "                  class, order, family, genus, scientific_name) %>%\n",
    "    group_by(class) %>%\n",
    "    summarize(n = n()) %>%\n",
    "    ungroup() %>%\n",
    "    ggplot(aes(class, n, label=n)) +\n",
    "    geom_bar(stat='identity', position='dodge') +\n",
    "    geom_text(position=position_dodge(width=0.9), vjust=-0.1, size=3) +\n",
    "    labs(y='No. of samples') +\n",
    "    theme_bw() \n",
    "\n",
    "dims(4,3)\n",
    "Plot(p)"
   ]
  },
  {
   "cell_type": "markdown",
   "metadata": {},
   "source": [
    "### Writing samples file"
   ]
  },
  {
   "cell_type": "code",
   "execution_count": 91,
   "metadata": {
    "ExecuteTime": {
     "end_time": "2020-01-22T12:49:02.835165Z",
     "start_time": "2020-01-22T12:49:02.814Z"
    }
   },
   "outputs": [
    {
     "name": "stdout",
     "output_type": "stream",
     "text": [
      "File written: /ebio/abt3_projects/Georg_animal_feces/data/metagenome/multi-study/BioProjects/summary/LLMGA/wGeorgAnimal/drep-0.95/Georg-animal/samples_demic-5mil.txt \n"
     ]
    }
   ],
   "source": [
    "samp_file = file.path(work_dir, 'samples_demic-5mil.txt')\n",
    "GA_samp_f %>%\n",
    "    write.table(file=samp_file, sep='\\t', quote=FALSE, row.names=FALSE)\n",
    "cat('File written:', samp_file, '\\n')"
   ]
  },
  {
   "cell_type": "markdown",
   "metadata": {},
   "source": [
    "## Config"
   ]
  },
  {
   "cell_type": "code",
   "execution_count": 92,
   "metadata": {
    "ExecuteTime": {
     "end_time": "2020-01-22T12:50:03.626605Z",
     "start_time": "2020-01-22T12:50:03.575Z"
    }
   },
   "outputs": [
    {
     "name": "stdout",
     "output_type": "stream",
     "text": [
      "#-- I/O --#\n",
      "# table with sample --> read_file information\n",
      "samples_file: /ebio/abt3_projects/Georg_animal_feces/data/metagenome/multi-study/BioProjects/summary/LLMGA/wGeorgAnimal/drep-0.95/Georg-animal/samples_demic-5mil.txt\n",
      "\n",
      "# table of reference genomes; not needed for all analyses (see README.md)\n",
      "genomes_db: /ebio/abt3_projects/Georg_animal_feces/data/metagenome/multi-study/BioProjects/summary/LLMGA/wGeorgAnimal/drep-0.95/Georg-animal/ref_genomes.txt\n",
      "\n",
      "# output location\n",
      "output_dir: /ebio/abt3_projects/Georg_animal_feces/data/metagenome/multi-study/BioProjects/summary/LLMGA/wGeorgAnimal/drep-0.95/Georg-animal/\n",
      "\n",
      "\n",
      "# read file path\n",
      "# use \"None\" if full file path is included in the samples_file\n",
      "read_file_path: None\n",
      "\n",
      "#-- clades to analyze with strainphlan (ALL = all clades) --#\n",
      "clades:\n",
      " - ALL\n",
      "# - s__Methanobrevibacter_smithii\n",
      "# - s__Faecalibacterium_prausnitzii\n",
      "# - g__Blautia\n",
      "\n",
      "#-- DB --#\n",
      "# metaphlan marker databse\n",
      "metaphlan2_db: /ebio/abt3_projects/databases_no-backup/metaphlan2/mpa_v20_m200/\n",
      "# panphlan pan-genome database(s)\n",
      "panphlan_db:\n",
      "  - badolescentis16: /ebio/abt3_projects/databases_no-backup/panphlan/badolescentis/panphlan_badolescentis16_centroids.ffn\n",
      "  - efaecium16: /ebio/abt3_projects/databases_no-backup/panphlan/efaecium/panphlan_efaecium16_centroids.ffn\n",
      "  - msmithii16: /ebio/abt3_projects/databases_no-backup/panphlan/msmithii16/panphlan_msmithii16_centroids.ffn\n",
      "\n",
      "\n",
      "#-- subsample --#\n",
      "# subsampling input reads \n",
      "## Use \"Skip\" to skips subsampling; otherwise set the number of reads to subsample\n",
      "subsample_depth: 5000000\n",
      "subsample_seed: 21068\n",
      "\n",
      "#-- Software Parameters --#\n",
      "# Use \"Skip\" to skip parts of the pipeline (eg., `demic: Skip`)\n",
      "#- parameter descriptions -#\n",
      "# remote:  If True, just download read1 (if remote file)\n",
      "# keep_metaphlan2_output: keep sam & bz2 files?\n",
      "# strainphlan: Using `--relaxed_parameters` assumes \"many\" samples\n",
      "# kallisto_mask_cutoff: mask high/low coverage regions (mask regions > median + stdev_cov * mask_cutoff)\n",
      "# panphlan_profile: For sensivite settings, use: `--min_coverage 1 --left_max 1.70 --right_min 0.30`\n",
      "params:\n",
      "  # remote read file download\n",
      "  use_prefetch: False\n",
      "  remote: just_single=False\n",
      "  # strainphlan\n",
      "  keep_metaphlan2_output: False\n",
      "  metaphlan2: Skip #--tax_lev a --min_cu_len 2000\n",
      "  samples2markers: --min_read_len 90 --min_base_quality 20 --min_read_depth 0\n",
      "  strainphlan: Skip #--relaxed_parameters\n",
      "  # strain abundances\n",
      "  ## meta-kallisto\n",
      "  kallisto_index: Skip #--kmer-size 31\n",
      "  kallisto_quant: --seed 42 --fragment-length 225 --sd 25\n",
      "  kallisto_mask_cutoff: 1.5\n",
      "  ## krakenuniq\n",
      "  krakenuniq_build: Skip #--kmer-len 31 --minimizer-len 15\n",
      "  krakenuniq: --hll-precision 12\n",
      "  # DEMIC\n",
      "  demic_bowtie2: \"\"\n",
      "  demic_samtools: \"\"\n",
      "  demic: --mapq_cutoff 5\n",
      "  # panphlan\n",
      "  panphlan_map: Skip #--readLength 70\n",
      "  panphlan_profile: \"\"\n",
      "\n",
      "#-- snakemake pipeline --#\n",
      "pipeline:\n",
      "  snakemake_folder: ./\n",
      "  script_folder: ./bin/scripts/\n",
      "  temp_folder: /ebio/abt3_scratch/\n"
     ]
    }
   ],
   "source": [
    "# config\n",
    "config_file = file.path(work_dir, 'config_DEMIC-5mil.yaml')\n",
    "cat_file(config_file)"
   ]
  },
  {
   "cell_type": "markdown",
   "metadata": {},
   "source": [
    "## Run"
   ]
  },
  {
   "cell_type": "markdown",
   "metadata": {},
   "source": [
    "```\n",
    "(snakemake_dev) @ rick:/ebio/abt3_projects/Georg_animal_feces/bin/llmgps\n",
    "screen -L -S llmgps-GA-DEMIC ./snakemake_sge.sh /ebio/abt3_projects/Georg_animal_feces/data/metagenome/multi-study/BioProjects/summary/LLMGA/wGeorgAnimal/drep-0.95/Georg-animal/config_DEMIC-5mil.yaml cluster.json /ebio/abt3_projects/Georg_animal_feces/data/metagenome/multi-study/BioProjects/summary/LLMGA/wGeorgAnimal/drep-0.95/Georg-animal/SGE_log 40\n",
    "```"
   ]
  },
  {
   "cell_type": "markdown",
   "metadata": {},
   "source": [
    "## Summary"
   ]
  },
  {
   "cell_type": "code",
   "execution_count": 97,
   "metadata": {
    "ExecuteTime": {
     "end_time": "2020-02-20T13:38:41.112376Z",
     "start_time": "2020-02-20T13:38:41.014Z"
    }
   },
   "outputs": [
    {
     "data": {
      "text/plain": [
       "   Min. 1st Qu.  Median    Mean 3rd Qu.    Max.    NA's \n",
       "   1.25    1.43    1.63    2.16    2.06   15.37   42682 "
      ]
     },
     "metadata": {},
     "output_type": "display_data"
    },
    {
     "data": {
      "text/html": [
       "<table>\n",
       "<caption>A data.frame: 42718 × 3</caption>\n",
       "<thead>\n",
       "\t<tr><th scope=col>taxon</th><th scope=col>sample</th><th scope=col>growth_rate</th></tr>\n",
       "\t<tr><th scope=col>&lt;fct&gt;</th><th scope=col>&lt;chr&gt;</th><th scope=col>&lt;dbl&gt;</th></tr>\n",
       "</thead>\n",
       "<tbody>\n",
       "\t<tr><td>SAMEA3663057__metabat2_high_PE_009_contigs         </td><td>X101_Horse</td><td>NA</td></tr>\n",
       "\t<tr><td>X84_Common_Chiffchaff__metabat2_high_PE_001_contigs</td><td>X101_Horse</td><td>NA</td></tr>\n",
       "\t<tr><td>⋮</td><td>⋮</td><td>⋮</td></tr>\n",
       "\t<tr><td>R08__metabat2_low_PE_008_contigs          </td><td>XF241_Great_Cormorant</td><td>NA</td></tr>\n",
       "\t<tr><td>SAMEA3663296__metabat2_high_PE_018_contigs</td><td>XF241_Great_Cormorant</td><td>NA</td></tr>\n",
       "</tbody>\n",
       "</table>\n"
      ],
      "text/latex": [
       "A data.frame: 42718 × 3\n",
       "\\begin{tabular}{lll}\n",
       " taxon & sample & growth\\_rate\\\\\n",
       " <fct> & <chr> & <dbl>\\\\\n",
       "\\hline\n",
       "\t SAMEA3663057\\_\\_metabat2\\_high\\_PE\\_009\\_contigs          & X101\\_Horse & NA\\\\\n",
       "\t X84\\_Common\\_Chiffchaff\\_\\_metabat2\\_high\\_PE\\_001\\_contigs & X101\\_Horse & NA\\\\\n",
       "\t ⋮ & ⋮ & ⋮\\\\\n",
       "\t R08\\_\\_metabat2\\_low\\_PE\\_008\\_contigs           & XF241\\_Great\\_Cormorant & NA\\\\\n",
       "\t SAMEA3663296\\_\\_metabat2\\_high\\_PE\\_018\\_contigs & XF241\\_Great\\_Cormorant & NA\\\\\n",
       "\\end{tabular}\n"
      ],
      "text/markdown": [
       "\n",
       "A data.frame: 42718 × 3\n",
       "\n",
       "| taxon &lt;fct&gt; | sample &lt;chr&gt; | growth_rate &lt;dbl&gt; |\n",
       "|---|---|---|\n",
       "| SAMEA3663057__metabat2_high_PE_009_contigs          | X101_Horse | NA |\n",
       "| X84_Common_Chiffchaff__metabat2_high_PE_001_contigs | X101_Horse | NA |\n",
       "| ⋮ | ⋮ | ⋮ |\n",
       "| R08__metabat2_low_PE_008_contigs           | XF241_Great_Cormorant | NA |\n",
       "| SAMEA3663296__metabat2_high_PE_018_contigs | XF241_Great_Cormorant | NA |\n",
       "\n"
      ],
      "text/plain": [
       "      taxon                                               sample               \n",
       "1     SAMEA3663057__metabat2_high_PE_009_contigs          X101_Horse           \n",
       "2     X84_Common_Chiffchaff__metabat2_high_PE_001_contigs X101_Horse           \n",
       "⋮     ⋮                                                   ⋮                    \n",
       "42717 R08__metabat2_low_PE_008_contigs                    XF241_Great_Cormorant\n",
       "42718 SAMEA3663296__metabat2_high_PE_018_contigs          XF241_Great_Cormorant\n",
       "      growth_rate\n",
       "1     NA         \n",
       "2     NA         \n",
       "⋮     ⋮          \n",
       "42717 NA         \n",
       "42718 NA         "
      ]
     },
     "metadata": {},
     "output_type": "display_data"
    }
   ],
   "source": [
    "demic_ptr_file = file.path(work_dir, 'demic_5mil', 'all_PTR.txt')\n",
    "demic_ptr = read.delim(demic_ptr_file, sep='\\t') %>%\n",
    "    gather(sample, growth_rate, -X) %>%\n",
    "    rename('taxon' = X)\n",
    "\n",
    "demic_ptr$growth_rate %>% summary\n",
    "demic_ptr"
   ]
  },
  {
   "cell_type": "code",
   "execution_count": 98,
   "metadata": {
    "ExecuteTime": {
     "end_time": "2020-02-20T13:38:52.968899Z",
     "start_time": "2020-02-20T13:38:52.925Z"
    }
   },
   "outputs": [
    {
     "name": "stdout",
     "output_type": "stream",
     "text": [
      "[1] 806\n",
      "[1] 8\n"
     ]
    }
   ],
   "source": [
    "# number of taxa with any growth rates\n",
    "demic_ptr_f = demic_ptr %>%\n",
    "    filter(!is.na(growth_rate))\n",
    "\n",
    "demic_ptr %>% .$taxon %>% unique %>% length %>% print\n",
    "demic_ptr_f %>% .$taxon %>% unique %>% length %>% print"
   ]
  },
  {
   "cell_type": "code",
   "execution_count": 99,
   "metadata": {
    "ExecuteTime": {
     "end_time": "2020-02-20T13:39:02.097368Z",
     "start_time": "2020-02-20T13:39:02.020Z"
    }
   },
   "outputs": [
    {
     "data": {
      "text/html": [
       "<table>\n",
       "<caption>A data.frame: 36 × 73</caption>\n",
       "<thead>\n",
       "\t<tr><th scope=col>taxon</th><th scope=col>sample</th><th scope=col>growth_rate</th><th scope=col>host_subject_id</th><th scope=col>host_german_name</th><th scope=col>host_common_name</th><th scope=col>scientific_name</th><th scope=col>scientific_name_subspecies</th><th scope=col>host_taxid</th><th scope=col>class</th><th scope=col>⋯</th><th scope=col>temp_regulation</th><th scope=col>collection_date</th><th scope=col>season</th><th scope=col>samp_store_days</th><th scope=col>samp_collect_device</th><th scope=col>sampling_method</th><th scope=col>diet</th><th scope=col>feeding_style</th><th scope=col>digestive_system</th><th scope=col>digestive_system_detail</th></tr>\n",
       "\t<tr><th scope=col>&lt;fct&gt;</th><th scope=col>&lt;chr&gt;</th><th scope=col>&lt;dbl&gt;</th><th scope=col>&lt;fct&gt;</th><th scope=col>&lt;fct&gt;</th><th scope=col>&lt;fct&gt;</th><th scope=col>&lt;fct&gt;</th><th scope=col>&lt;fct&gt;</th><th scope=col>&lt;int&gt;</th><th scope=col>&lt;fct&gt;</th><th scope=col>⋯</th><th scope=col>&lt;fct&gt;</th><th scope=col>&lt;fct&gt;</th><th scope=col>&lt;fct&gt;</th><th scope=col>&lt;fct&gt;</th><th scope=col>&lt;fct&gt;</th><th scope=col>&lt;fct&gt;</th><th scope=col>&lt;fct&gt;</th><th scope=col>&lt;fct&gt;</th><th scope=col>&lt;fct&gt;</th><th scope=col>&lt;fct&gt;</th></tr>\n",
       "</thead>\n",
       "<tbody>\n",
       "\t<tr><td>MJGMD1__maxbin2_high_prob_001_contigs</td><td>X115_Common_Kestrel</td><td>1.6896</td><td>115</td><td>Turmfalke</td><td>Common.Kestrel</td><td>Falco_tinnunculus</td><td>NA                  </td><td>100819</td><td>Aves    </td><td>⋯</td><td>endotherm/homoiotherm</td><td>2012-01-18</td><td>winter            </td><td>7  </td><td>Screw cap vial</td><td>gut section   </td><td>carnivore</td><td>NA                      </td><td>simple </td><td>simple </td></tr>\n",
       "\t<tr><td>MJGMD1__maxbin2_high_prob_001_contigs</td><td>X137_Gaur          </td><td>1.7299</td><td>137</td><td>Gaur     </td><td>Gaur          </td><td>Bos_frontalis    </td><td>Bos frontalis gaurus</td><td> 30520</td><td>Mammalia</td><td>⋯</td><td>endotherm/homoiotherm</td><td>2012-03-04</td><td>hot and dry season</td><td>105</td><td>Screw cap vial</td><td>feces sampling</td><td>herbivore</td><td>bulk and roughage eaters</td><td>foregut</td><td>foregut</td></tr>\n",
       "\t<tr><td>⋮</td><td>⋮</td><td>⋮</td><td>⋮</td><td>⋮</td><td>⋮</td><td>⋮</td><td>⋮</td><td>⋮</td><td>⋮</td><td>⋱</td><td>⋮</td><td>⋮</td><td>⋮</td><td>⋮</td><td>⋮</td><td>⋮</td><td>⋮</td><td>⋮</td><td>⋮</td><td>⋮</td></tr>\n",
       "\t<tr><td>F241_Great_Cormorant__maxbin2_low_prob_005_contigs</td><td>XF241_Great_Cormorant</td><td>1.2456</td><td>F241</td><td>Kormoran</td><td>Great.Cormorant</td><td>Phalacrocorax_carbo</td><td>NA</td><td>9209</td><td>Aves</td><td>⋯</td><td>endotherm/homoiotherm</td><td>2012-03-20</td><td>winter</td><td>133</td><td>Greiner Polystyrene 30ml Faeces Container</td><td>feces sampling</td><td>carnivore</td><td>NA</td><td>simple</td><td>simple</td></tr>\n",
       "\t<tr><td>X81_Wolf__metabat2_low_PE_002_contigs             </td><td>XF241_Great_Cormorant</td><td>3.0982</td><td>F241</td><td>Kormoran</td><td>Great.Cormorant</td><td>Phalacrocorax_carbo</td><td>NA</td><td>9209</td><td>Aves</td><td>⋯</td><td>endotherm/homoiotherm</td><td>2012-03-20</td><td>winter</td><td>133</td><td>Greiner Polystyrene 30ml Faeces Container</td><td>feces sampling</td><td>carnivore</td><td>NA</td><td>simple</td><td>simple</td></tr>\n",
       "</tbody>\n",
       "</table>\n"
      ],
      "text/latex": [
       "A data.frame: 36 × 73\n",
       "\\begin{tabular}{lllllllllllllllllllll}\n",
       " taxon & sample & growth\\_rate & host\\_subject\\_id & host\\_german\\_name & host\\_common\\_name & scientific\\_name & scientific\\_name\\_subspecies & host\\_taxid & class & ⋯ & temp\\_regulation & collection\\_date & season & samp\\_store\\_days & samp\\_collect\\_device & sampling\\_method & diet & feeding\\_style & digestive\\_system & digestive\\_system\\_detail\\\\\n",
       " <fct> & <chr> & <dbl> & <fct> & <fct> & <fct> & <fct> & <fct> & <int> & <fct> & ⋯ & <fct> & <fct> & <fct> & <fct> & <fct> & <fct> & <fct> & <fct> & <fct> & <fct>\\\\\n",
       "\\hline\n",
       "\t MJGMD1\\_\\_maxbin2\\_high\\_prob\\_001\\_contigs & X115\\_Common\\_Kestrel & 1.6896 & 115 & Turmfalke & Common.Kestrel & Falco\\_tinnunculus & NA                   & 100819 & Aves     & ⋯ & endotherm/homoiotherm & 2012-01-18 & winter             & 7   & Screw cap vial & gut section    & carnivore & NA                       & simple  & simple \\\\\n",
       "\t MJGMD1\\_\\_maxbin2\\_high\\_prob\\_001\\_contigs & X137\\_Gaur           & 1.7299 & 137 & Gaur      & Gaur           & Bos\\_frontalis     & Bos frontalis gaurus &  30520 & Mammalia & ⋯ & endotherm/homoiotherm & 2012-03-04 & hot and dry season & 105 & Screw cap vial & feces sampling & herbivore & bulk and roughage eaters & foregut & foregut\\\\\n",
       "\t ⋮ & ⋮ & ⋮ & ⋮ & ⋮ & ⋮ & ⋮ & ⋮ & ⋮ & ⋮ & ⋱ & ⋮ & ⋮ & ⋮ & ⋮ & ⋮ & ⋮ & ⋮ & ⋮ & ⋮ & ⋮\\\\\n",
       "\t F241\\_Great\\_Cormorant\\_\\_maxbin2\\_low\\_prob\\_005\\_contigs & XF241\\_Great\\_Cormorant & 1.2456 & F241 & Kormoran & Great.Cormorant & Phalacrocorax\\_carbo & NA & 9209 & Aves & ⋯ & endotherm/homoiotherm & 2012-03-20 & winter & 133 & Greiner Polystyrene 30ml Faeces Container & feces sampling & carnivore & NA & simple & simple\\\\\n",
       "\t X81\\_Wolf\\_\\_metabat2\\_low\\_PE\\_002\\_contigs              & XF241\\_Great\\_Cormorant & 3.0982 & F241 & Kormoran & Great.Cormorant & Phalacrocorax\\_carbo & NA & 9209 & Aves & ⋯ & endotherm/homoiotherm & 2012-03-20 & winter & 133 & Greiner Polystyrene 30ml Faeces Container & feces sampling & carnivore & NA & simple & simple\\\\\n",
       "\\end{tabular}\n"
      ],
      "text/markdown": [
       "\n",
       "A data.frame: 36 × 73\n",
       "\n",
       "| taxon &lt;fct&gt; | sample &lt;chr&gt; | growth_rate &lt;dbl&gt; | host_subject_id &lt;fct&gt; | host_german_name &lt;fct&gt; | host_common_name &lt;fct&gt; | scientific_name &lt;fct&gt; | scientific_name_subspecies &lt;fct&gt; | host_taxid &lt;int&gt; | class &lt;fct&gt; | ⋯ ⋯ | temp_regulation &lt;fct&gt; | collection_date &lt;fct&gt; | season &lt;fct&gt; | samp_store_days &lt;fct&gt; | samp_collect_device &lt;fct&gt; | sampling_method &lt;fct&gt; | diet &lt;fct&gt; | feeding_style &lt;fct&gt; | digestive_system &lt;fct&gt; | digestive_system_detail &lt;fct&gt; |\n",
       "|---|---|---|---|---|---|---|---|---|---|---|---|---|---|---|---|---|---|---|---|---|\n",
       "| MJGMD1__maxbin2_high_prob_001_contigs | X115_Common_Kestrel | 1.6896 | 115 | Turmfalke | Common.Kestrel | Falco_tinnunculus | NA                   | 100819 | Aves     | ⋯ | endotherm/homoiotherm | 2012-01-18 | winter             | 7   | Screw cap vial | gut section    | carnivore | NA                       | simple  | simple  |\n",
       "| MJGMD1__maxbin2_high_prob_001_contigs | X137_Gaur           | 1.7299 | 137 | Gaur      | Gaur           | Bos_frontalis     | Bos frontalis gaurus |  30520 | Mammalia | ⋯ | endotherm/homoiotherm | 2012-03-04 | hot and dry season | 105 | Screw cap vial | feces sampling | herbivore | bulk and roughage eaters | foregut | foregut |\n",
       "| ⋮ | ⋮ | ⋮ | ⋮ | ⋮ | ⋮ | ⋮ | ⋮ | ⋮ | ⋮ | ⋱ | ⋮ | ⋮ | ⋮ | ⋮ | ⋮ | ⋮ | ⋮ | ⋮ | ⋮ | ⋮ |\n",
       "| F241_Great_Cormorant__maxbin2_low_prob_005_contigs | XF241_Great_Cormorant | 1.2456 | F241 | Kormoran | Great.Cormorant | Phalacrocorax_carbo | NA | 9209 | Aves | ⋯ | endotherm/homoiotherm | 2012-03-20 | winter | 133 | Greiner Polystyrene 30ml Faeces Container | feces sampling | carnivore | NA | simple | simple |\n",
       "| X81_Wolf__metabat2_low_PE_002_contigs              | XF241_Great_Cormorant | 3.0982 | F241 | Kormoran | Great.Cormorant | Phalacrocorax_carbo | NA | 9209 | Aves | ⋯ | endotherm/homoiotherm | 2012-03-20 | winter | 133 | Greiner Polystyrene 30ml Faeces Container | feces sampling | carnivore | NA | simple | simple |\n",
       "\n"
      ],
      "text/plain": [
       "   taxon                                              sample               \n",
       "1  MJGMD1__maxbin2_high_prob_001_contigs              X115_Common_Kestrel  \n",
       "2  MJGMD1__maxbin2_high_prob_001_contigs              X137_Gaur            \n",
       "⋮  ⋮                                                  ⋮                    \n",
       "35 F241_Great_Cormorant__maxbin2_low_prob_005_contigs XF241_Great_Cormorant\n",
       "36 X81_Wolf__metabat2_low_PE_002_contigs              XF241_Great_Cormorant\n",
       "   growth_rate host_subject_id host_german_name host_common_name\n",
       "1  1.6896      115             Turmfalke        Common.Kestrel  \n",
       "2  1.7299      137             Gaur             Gaur            \n",
       "⋮  ⋮           ⋮               ⋮                ⋮               \n",
       "35 1.2456      F241            Kormoran         Great.Cormorant \n",
       "36 3.0982      F241            Kormoran         Great.Cormorant \n",
       "   scientific_name     scientific_name_subspecies host_taxid class    ⋯\n",
       "1  Falco_tinnunculus   NA                         100819     Aves     ⋯\n",
       "2  Bos_frontalis       Bos frontalis gaurus        30520     Mammalia ⋯\n",
       "⋮  ⋮                   ⋮                          ⋮          ⋮        ⋱\n",
       "35 Phalacrocorax_carbo NA                         9209       Aves     ⋯\n",
       "36 Phalacrocorax_carbo NA                         9209       Aves     ⋯\n",
       "   temp_regulation       collection_date season             samp_store_days\n",
       "1  endotherm/homoiotherm 2012-01-18      winter             7              \n",
       "2  endotherm/homoiotherm 2012-03-04      hot and dry season 105            \n",
       "⋮  ⋮                     ⋮               ⋮                  ⋮              \n",
       "35 endotherm/homoiotherm 2012-03-20      winter             133            \n",
       "36 endotherm/homoiotherm 2012-03-20      winter             133            \n",
       "   samp_collect_device                       sampling_method diet     \n",
       "1  Screw cap vial                            gut section     carnivore\n",
       "2  Screw cap vial                            feces sampling  herbivore\n",
       "⋮  ⋮                                         ⋮               ⋮        \n",
       "35 Greiner Polystyrene 30ml Faeces Container feces sampling  carnivore\n",
       "36 Greiner Polystyrene 30ml Faeces Container feces sampling  carnivore\n",
       "   feeding_style            digestive_system digestive_system_detail\n",
       "1  NA                       simple           simple                 \n",
       "2  bulk and roughage eaters foregut          foregut                \n",
       "⋮  ⋮                        ⋮                ⋮                      \n",
       "35 NA                       simple           simple                 \n",
       "36 NA                       simple           simple                 "
      ]
     },
     "metadata": {},
     "output_type": "display_data"
    }
   ],
   "source": [
    "# adding sample metadata\n",
    "demic_ptr_f = demic_ptr_f %>%\n",
    "    inner_join(GA_meta, c('sample'='SampleID')) \n",
    "\n",
    "demic_ptr_f"
   ]
  },
  {
   "cell_type": "code",
   "execution_count": 100,
   "metadata": {
    "ExecuteTime": {
     "end_time": "2020-02-20T13:39:11.678134Z",
     "start_time": "2020-02-20T13:39:11.596Z"
    }
   },
   "outputs": [
    {
     "name": "stderr",
     "output_type": "stream",
     "text": [
      "Warning message:\n",
      "“Column `taxon`/`binID` joining factor and character vector, coercing into character vector”\n"
     ]
    },
    {
     "data": {
      "text/html": [
       "<table>\n",
       "<caption>A data.frame: 36 × 127</caption>\n",
       "<thead>\n",
       "\t<tr><th scope=col>taxon</th><th scope=col>sample</th><th scope=col>growth_rate</th><th scope=col>host_subject_id</th><th scope=col>host_german_name</th><th scope=col>host_common_name</th><th scope=col>scientific_name</th><th scope=col>scientific_name_subspecies</th><th scope=col>host_taxid</th><th scope=col>class</th><th scope=col>⋯</th><th scope=col>closest_placement_reference</th><th scope=col>closest_placement_taxonomy</th><th scope=col>closest_placement_ani</th><th scope=col>closest_placement_af</th><th scope=col>pplacer_taxonomy</th><th scope=col>classification_method</th><th scope=col>aa_percent</th><th scope=col>translation_table</th><th scope=col>red_value</th><th scope=col>warnings</th></tr>\n",
       "\t<tr><th scope=col>&lt;chr&gt;</th><th scope=col>&lt;chr&gt;</th><th scope=col>&lt;dbl&gt;</th><th scope=col>&lt;fct&gt;</th><th scope=col>&lt;fct&gt;</th><th scope=col>&lt;fct&gt;</th><th scope=col>&lt;fct&gt;</th><th scope=col>&lt;fct&gt;</th><th scope=col>&lt;int&gt;</th><th scope=col>&lt;fct&gt;</th><th scope=col>⋯</th><th scope=col>&lt;fct&gt;</th><th scope=col>&lt;fct&gt;</th><th scope=col>&lt;fct&gt;</th><th scope=col>&lt;fct&gt;</th><th scope=col>&lt;fct&gt;</th><th scope=col>&lt;fct&gt;</th><th scope=col>&lt;dbl&gt;</th><th scope=col>&lt;int&gt;</th><th scope=col>&lt;fct&gt;</th><th scope=col>&lt;fct&gt;</th></tr>\n",
       "</thead>\n",
       "<tbody>\n",
       "\t<tr><td>MJGMD1__maxbin2_high_prob_001_contigs</td><td>X115_Common_Kestrel</td><td>1.6896</td><td>115</td><td>Turmfalke</td><td>Common.Kestrel</td><td>Falco_tinnunculus</td><td>NA                  </td><td>100819</td><td>Aves    </td><td>⋯</td><td>N/A</td><td>N/A</td><td>N/A</td><td>N/A</td><td>d__Bacteria;p__Proteobacteria;c__Gammaproteobacteria;o__Enterobacterales;f__Enterobacteriaceae;g__Escherichia;s__</td><td>ANI/Placement</td><td>99.27</td><td>11</td><td>N/A</td><td>N/A</td></tr>\n",
       "\t<tr><td>MJGMD1__maxbin2_high_prob_001_contigs</td><td>X137_Gaur          </td><td>1.7299</td><td>137</td><td>Gaur     </td><td>Gaur          </td><td>Bos_frontalis    </td><td>Bos frontalis gaurus</td><td> 30520</td><td>Mammalia</td><td>⋯</td><td>N/A</td><td>N/A</td><td>N/A</td><td>N/A</td><td>d__Bacteria;p__Proteobacteria;c__Gammaproteobacteria;o__Enterobacterales;f__Enterobacteriaceae;g__Escherichia;s__</td><td>ANI/Placement</td><td>99.27</td><td>11</td><td>N/A</td><td>N/A</td></tr>\n",
       "\t<tr><td>⋮</td><td>⋮</td><td>⋮</td><td>⋮</td><td>⋮</td><td>⋮</td><td>⋮</td><td>⋮</td><td>⋮</td><td>⋮</td><td>⋱</td><td>⋮</td><td>⋮</td><td>⋮</td><td>⋮</td><td>⋮</td><td>⋮</td><td>⋮</td><td>⋮</td><td>⋮</td><td>⋮</td></tr>\n",
       "\t<tr><td>F241_Great_Cormorant__maxbin2_low_prob_005_contigs</td><td>XF241_Great_Cormorant</td><td>1.2456</td><td>F241</td><td>Kormoran</td><td>Great.Cormorant</td><td>Phalacrocorax_carbo</td><td>NA</td><td>9209</td><td>Aves</td><td>⋯</td><td>GCF_001436315.1</td><td>d__Bacteria;p__Firmicutes;c__Bacilli;o__Lactobacillales;f__Lactobacillaceae;g__Lactobacillus_B;s__Lactobacillus_B aviarius</td><td>94.26</td><td>0.87</td><td>d__Bacteria;p__Firmicutes;c__Bacilli;o__Lactobacillales;f__Lactobacillaceae;g__Lactobacillus_B;s__</td><td>Placement    </td><td>97.48</td><td>11</td><td>0.997371678504</td><td>N/A</td></tr>\n",
       "\t<tr><td>X81_Wolf__metabat2_low_PE_002_contigs             </td><td>XF241_Great_Cormorant</td><td>3.0982</td><td>F241</td><td>Kormoran</td><td>Great.Cormorant</td><td>Phalacrocorax_carbo</td><td>NA</td><td>9209</td><td>Aves</td><td>⋯</td><td>GCF_000013285.1</td><td>d__Bacteria;p__Firmicutes_A;c__Clostridia;o__Clostridiales;f__Clostridiaceae;g__Clostridium_P;s__Clostridium_P perfringens</td><td>98.66</td><td>0.98</td><td>d__Bacteria;p__Firmicutes_A;c__Clostridia;o__Clostridiales;f__Clostridiaceae;g__Clostridium_P;s__ </td><td>ANI/Placement</td><td>93.10</td><td>11</td><td>N/A           </td><td>N/A</td></tr>\n",
       "</tbody>\n",
       "</table>\n"
      ],
      "text/latex": [
       "A data.frame: 36 × 127\n",
       "\\begin{tabular}{lllllllllllllllllllll}\n",
       " taxon & sample & growth\\_rate & host\\_subject\\_id & host\\_german\\_name & host\\_common\\_name & scientific\\_name & scientific\\_name\\_subspecies & host\\_taxid & class & ⋯ & closest\\_placement\\_reference & closest\\_placement\\_taxonomy & closest\\_placement\\_ani & closest\\_placement\\_af & pplacer\\_taxonomy & classification\\_method & aa\\_percent & translation\\_table & red\\_value & warnings\\\\\n",
       " <chr> & <chr> & <dbl> & <fct> & <fct> & <fct> & <fct> & <fct> & <int> & <fct> & ⋯ & <fct> & <fct> & <fct> & <fct> & <fct> & <fct> & <dbl> & <int> & <fct> & <fct>\\\\\n",
       "\\hline\n",
       "\t MJGMD1\\_\\_maxbin2\\_high\\_prob\\_001\\_contigs & X115\\_Common\\_Kestrel & 1.6896 & 115 & Turmfalke & Common.Kestrel & Falco\\_tinnunculus & NA                   & 100819 & Aves     & ⋯ & N/A & N/A & N/A & N/A & d\\_\\_Bacteria;p\\_\\_Proteobacteria;c\\_\\_Gammaproteobacteria;o\\_\\_Enterobacterales;f\\_\\_Enterobacteriaceae;g\\_\\_Escherichia;s\\_\\_ & ANI/Placement & 99.27 & 11 & N/A & N/A\\\\\n",
       "\t MJGMD1\\_\\_maxbin2\\_high\\_prob\\_001\\_contigs & X137\\_Gaur           & 1.7299 & 137 & Gaur      & Gaur           & Bos\\_frontalis     & Bos frontalis gaurus &  30520 & Mammalia & ⋯ & N/A & N/A & N/A & N/A & d\\_\\_Bacteria;p\\_\\_Proteobacteria;c\\_\\_Gammaproteobacteria;o\\_\\_Enterobacterales;f\\_\\_Enterobacteriaceae;g\\_\\_Escherichia;s\\_\\_ & ANI/Placement & 99.27 & 11 & N/A & N/A\\\\\n",
       "\t ⋮ & ⋮ & ⋮ & ⋮ & ⋮ & ⋮ & ⋮ & ⋮ & ⋮ & ⋮ & ⋱ & ⋮ & ⋮ & ⋮ & ⋮ & ⋮ & ⋮ & ⋮ & ⋮ & ⋮ & ⋮\\\\\n",
       "\t F241\\_Great\\_Cormorant\\_\\_maxbin2\\_low\\_prob\\_005\\_contigs & XF241\\_Great\\_Cormorant & 1.2456 & F241 & Kormoran & Great.Cormorant & Phalacrocorax\\_carbo & NA & 9209 & Aves & ⋯ & GCF\\_001436315.1 & d\\_\\_Bacteria;p\\_\\_Firmicutes;c\\_\\_Bacilli;o\\_\\_Lactobacillales;f\\_\\_Lactobacillaceae;g\\_\\_Lactobacillus\\_B;s\\_\\_Lactobacillus\\_B aviarius & 94.26 & 0.87 & d\\_\\_Bacteria;p\\_\\_Firmicutes;c\\_\\_Bacilli;o\\_\\_Lactobacillales;f\\_\\_Lactobacillaceae;g\\_\\_Lactobacillus\\_B;s\\_\\_ & Placement     & 97.48 & 11 & 0.997371678504 & N/A\\\\\n",
       "\t X81\\_Wolf\\_\\_metabat2\\_low\\_PE\\_002\\_contigs              & XF241\\_Great\\_Cormorant & 3.0982 & F241 & Kormoran & Great.Cormorant & Phalacrocorax\\_carbo & NA & 9209 & Aves & ⋯ & GCF\\_000013285.1 & d\\_\\_Bacteria;p\\_\\_Firmicutes\\_A;c\\_\\_Clostridia;o\\_\\_Clostridiales;f\\_\\_Clostridiaceae;g\\_\\_Clostridium\\_P;s\\_\\_Clostridium\\_P perfringens & 98.66 & 0.98 & d\\_\\_Bacteria;p\\_\\_Firmicutes\\_A;c\\_\\_Clostridia;o\\_\\_Clostridiales;f\\_\\_Clostridiaceae;g\\_\\_Clostridium\\_P;s\\_\\_  & ANI/Placement & 93.10 & 11 & N/A            & N/A\\\\\n",
       "\\end{tabular}\n"
      ],
      "text/markdown": [
       "\n",
       "A data.frame: 36 × 127\n",
       "\n",
       "| taxon &lt;chr&gt; | sample &lt;chr&gt; | growth_rate &lt;dbl&gt; | host_subject_id &lt;fct&gt; | host_german_name &lt;fct&gt; | host_common_name &lt;fct&gt; | scientific_name &lt;fct&gt; | scientific_name_subspecies &lt;fct&gt; | host_taxid &lt;int&gt; | class &lt;fct&gt; | ⋯ ⋯ | closest_placement_reference &lt;fct&gt; | closest_placement_taxonomy &lt;fct&gt; | closest_placement_ani &lt;fct&gt; | closest_placement_af &lt;fct&gt; | pplacer_taxonomy &lt;fct&gt; | classification_method &lt;fct&gt; | aa_percent &lt;dbl&gt; | translation_table &lt;int&gt; | red_value &lt;fct&gt; | warnings &lt;fct&gt; |\n",
       "|---|---|---|---|---|---|---|---|---|---|---|---|---|---|---|---|---|---|---|---|---|\n",
       "| MJGMD1__maxbin2_high_prob_001_contigs | X115_Common_Kestrel | 1.6896 | 115 | Turmfalke | Common.Kestrel | Falco_tinnunculus | NA                   | 100819 | Aves     | ⋯ | N/A | N/A | N/A | N/A | d__Bacteria;p__Proteobacteria;c__Gammaproteobacteria;o__Enterobacterales;f__Enterobacteriaceae;g__Escherichia;s__ | ANI/Placement | 99.27 | 11 | N/A | N/A |\n",
       "| MJGMD1__maxbin2_high_prob_001_contigs | X137_Gaur           | 1.7299 | 137 | Gaur      | Gaur           | Bos_frontalis     | Bos frontalis gaurus |  30520 | Mammalia | ⋯ | N/A | N/A | N/A | N/A | d__Bacteria;p__Proteobacteria;c__Gammaproteobacteria;o__Enterobacterales;f__Enterobacteriaceae;g__Escherichia;s__ | ANI/Placement | 99.27 | 11 | N/A | N/A |\n",
       "| ⋮ | ⋮ | ⋮ | ⋮ | ⋮ | ⋮ | ⋮ | ⋮ | ⋮ | ⋮ | ⋱ | ⋮ | ⋮ | ⋮ | ⋮ | ⋮ | ⋮ | ⋮ | ⋮ | ⋮ | ⋮ |\n",
       "| F241_Great_Cormorant__maxbin2_low_prob_005_contigs | XF241_Great_Cormorant | 1.2456 | F241 | Kormoran | Great.Cormorant | Phalacrocorax_carbo | NA | 9209 | Aves | ⋯ | GCF_001436315.1 | d__Bacteria;p__Firmicutes;c__Bacilli;o__Lactobacillales;f__Lactobacillaceae;g__Lactobacillus_B;s__Lactobacillus_B aviarius | 94.26 | 0.87 | d__Bacteria;p__Firmicutes;c__Bacilli;o__Lactobacillales;f__Lactobacillaceae;g__Lactobacillus_B;s__ | Placement     | 97.48 | 11 | 0.997371678504 | N/A |\n",
       "| X81_Wolf__metabat2_low_PE_002_contigs              | XF241_Great_Cormorant | 3.0982 | F241 | Kormoran | Great.Cormorant | Phalacrocorax_carbo | NA | 9209 | Aves | ⋯ | GCF_000013285.1 | d__Bacteria;p__Firmicutes_A;c__Clostridia;o__Clostridiales;f__Clostridiaceae;g__Clostridium_P;s__Clostridium_P perfringens | 98.66 | 0.98 | d__Bacteria;p__Firmicutes_A;c__Clostridia;o__Clostridiales;f__Clostridiaceae;g__Clostridium_P;s__  | ANI/Placement | 93.10 | 11 | N/A            | N/A |\n",
       "\n"
      ],
      "text/plain": [
       "   taxon                                              sample               \n",
       "1  MJGMD1__maxbin2_high_prob_001_contigs              X115_Common_Kestrel  \n",
       "2  MJGMD1__maxbin2_high_prob_001_contigs              X137_Gaur            \n",
       "⋮  ⋮                                                  ⋮                    \n",
       "35 F241_Great_Cormorant__maxbin2_low_prob_005_contigs XF241_Great_Cormorant\n",
       "36 X81_Wolf__metabat2_low_PE_002_contigs              XF241_Great_Cormorant\n",
       "   growth_rate host_subject_id host_german_name host_common_name\n",
       "1  1.6896      115             Turmfalke        Common.Kestrel  \n",
       "2  1.7299      137             Gaur             Gaur            \n",
       "⋮  ⋮           ⋮               ⋮                ⋮               \n",
       "35 1.2456      F241            Kormoran         Great.Cormorant \n",
       "36 3.0982      F241            Kormoran         Great.Cormorant \n",
       "   scientific_name     scientific_name_subspecies host_taxid class    ⋯\n",
       "1  Falco_tinnunculus   NA                         100819     Aves     ⋯\n",
       "2  Bos_frontalis       Bos frontalis gaurus        30520     Mammalia ⋯\n",
       "⋮  ⋮                   ⋮                          ⋮          ⋮        ⋱\n",
       "35 Phalacrocorax_carbo NA                         9209       Aves     ⋯\n",
       "36 Phalacrocorax_carbo NA                         9209       Aves     ⋯\n",
       "   closest_placement_reference\n",
       "1  N/A                        \n",
       "2  N/A                        \n",
       "⋮  ⋮                          \n",
       "35 GCF_001436315.1            \n",
       "36 GCF_000013285.1            \n",
       "   closest_placement_taxonomy                                                                                                \n",
       "1  N/A                                                                                                                       \n",
       "2  N/A                                                                                                                       \n",
       "⋮  ⋮                                                                                                                         \n",
       "35 d__Bacteria;p__Firmicutes;c__Bacilli;o__Lactobacillales;f__Lactobacillaceae;g__Lactobacillus_B;s__Lactobacillus_B aviarius\n",
       "36 d__Bacteria;p__Firmicutes_A;c__Clostridia;o__Clostridiales;f__Clostridiaceae;g__Clostridium_P;s__Clostridium_P perfringens\n",
       "   closest_placement_ani closest_placement_af\n",
       "1  N/A                   N/A                 \n",
       "2  N/A                   N/A                 \n",
       "⋮  ⋮                     ⋮                   \n",
       "35 94.26                 0.87                \n",
       "36 98.66                 0.98                \n",
       "   pplacer_taxonomy                                                                                                 \n",
       "1  d__Bacteria;p__Proteobacteria;c__Gammaproteobacteria;o__Enterobacterales;f__Enterobacteriaceae;g__Escherichia;s__\n",
       "2  d__Bacteria;p__Proteobacteria;c__Gammaproteobacteria;o__Enterobacterales;f__Enterobacteriaceae;g__Escherichia;s__\n",
       "⋮  ⋮                                                                                                                \n",
       "35 d__Bacteria;p__Firmicutes;c__Bacilli;o__Lactobacillales;f__Lactobacillaceae;g__Lactobacillus_B;s__               \n",
       "36 d__Bacteria;p__Firmicutes_A;c__Clostridia;o__Clostridiales;f__Clostridiaceae;g__Clostridium_P;s__                \n",
       "   classification_method aa_percent translation_table red_value      warnings\n",
       "1  ANI/Placement         99.27      11                N/A            N/A     \n",
       "2  ANI/Placement         99.27      11                N/A            N/A     \n",
       "⋮  ⋮                     ⋮          ⋮                 ⋮              ⋮       \n",
       "35 Placement             97.48      11                0.997371678504 N/A     \n",
       "36 ANI/Placement         93.10      11                N/A            N/A     "
      ]
     },
     "metadata": {},
     "output_type": "display_data"
    }
   ],
   "source": [
    "# adding MAG metadata\n",
    "demic_ptr_f = demic_ptr_f %>%\n",
    "    inner_join(MAG_meta %>% mutate(binID = gsub('\\\\.', '_', binID)), \n",
    "               c('taxon'='binID')) %>%\n",
    "    dplyr::select(-note)\n",
    "\n",
    "demic_ptr_f"
   ]
  },
  {
   "cell_type": "markdown",
   "metadata": {},
   "source": [
    "### Distribution among samples"
   ]
  },
  {
   "cell_type": "code",
   "execution_count": 101,
   "metadata": {
    "ExecuteTime": {
     "end_time": "2020-02-20T13:39:35.624991Z",
     "start_time": "2020-02-20T13:39:35.579Z"
    }
   },
   "outputs": [
    {
     "data": {
      "text/html": [
       "<dl class=dl-horizontal>\n",
       "\t<dt>Actinopterygii</dt>\n",
       "\t\t<dd>0</dd>\n",
       "\t<dt>Amphibia</dt>\n",
       "\t\t<dd>0</dd>\n",
       "\t<dt>Aves</dt>\n",
       "\t\t<dd>8</dd>\n",
       "\t<dt>Chondrichthyes</dt>\n",
       "\t\t<dd>0</dd>\n",
       "\t<dt>Mammalia</dt>\n",
       "\t\t<dd>28</dd>\n",
       "\t<dt>Reptilia</dt>\n",
       "\t\t<dd>0</dd>\n",
       "</dl>\n"
      ],
      "text/latex": [
       "\\begin{description*}\n",
       "\\item[Actinopterygii] 0\n",
       "\\item[Amphibia] 0\n",
       "\\item[Aves] 8\n",
       "\\item[Chondrichthyes] 0\n",
       "\\item[Mammalia] 28\n",
       "\\item[Reptilia] 0\n",
       "\\end{description*}\n"
      ],
      "text/markdown": [
       "Actinopterygii\n",
       ":   0Amphibia\n",
       ":   0Aves\n",
       ":   8Chondrichthyes\n",
       ":   0Mammalia\n",
       ":   28Reptilia\n",
       ":   0\n",
       "\n"
      ],
      "text/plain": [
       "Actinopterygii       Amphibia           Aves Chondrichthyes       Mammalia \n",
       "             0              0              8              0             28 \n",
       "      Reptilia \n",
       "             0 "
      ]
     },
     "metadata": {},
     "output_type": "display_data"
    }
   ],
   "source": [
    "demic_ptr_f$class %>% summary"
   ]
  },
  {
   "cell_type": "code",
   "execution_count": 102,
   "metadata": {
    "ExecuteTime": {
     "end_time": "2020-02-20T13:39:44.519374Z",
     "start_time": "2020-02-20T13:39:43.874Z"
    }
   },
   "outputs": [
    {
     "name": "stdout",
     "output_type": "stream",
     "text": [
      "Number of samples per MAG with non-NA values:\n",
      "   Min. 1st Qu.  Median    Mean 3rd Qu.    Max. \n",
      "    2.0     2.0     3.0     4.5     5.0    14.0 \n",
      "[1] 4.070802\n",
      "\n",
      "Number of MAGs: 8 \n",
      "File written: /ebio/abt3_projects/Georg_animal_feces/notebooks/metagenome/multi-study/08_drep95_wGeorgAnimal/.figures/ac64b6237f9c3aa44aa5488f4851bcfe.RDS \n"
     ]
    },
    {
     "data": {
      "image/png": "[encoded data removed]",
      "text/plain": [
       "plot without title"
      ]
     },
     "metadata": {
      "image/png": {
       "height": 300,
       "width": 400
      },
      "text/plain": {
       "height": 300,
       "width": 400
      }
     },
     "output_type": "display_data"
    }
   ],
   "source": [
    "demic_ptr_f_s = demic_ptr_f %>%\n",
    "    group_by(taxon) %>%\n",
    "    summarize(n_samples = n()) %>%\n",
    "    ungroup() \n",
    "\n",
    "cat('Number of samples per MAG with non-NA values:\\n')\n",
    "demic_ptr_f_s %>% .$n_samples %>% summary %>% print\n",
    "demic_ptr_f_s %>% .$n_samples %>% sd %>% print\n",
    "cat('\\n')\n",
    "\n",
    "cat('Number of MAGs:', demic_ptr_f_s %>% .$taxon %>% unique %>% length, '\\n')\n",
    "\n",
    "p = demic_ptr_f_s %>%\n",
    "    ggplot(aes(n_samples)) +\n",
    "    geom_histogram(bins=40) +\n",
    "    labs(x='No. of samples with PTR value', y='No. of MAGs') +\n",
    "    theme_bw()\n",
    "\n",
    "dims(4,3)\n",
    "Plot(p)"
   ]
  },
  {
   "cell_type": "code",
   "execution_count": 104,
   "metadata": {
    "ExecuteTime": {
     "end_time": "2020-02-20T13:40:13.221853Z",
     "start_time": "2020-02-20T13:40:12.819Z"
    }
   },
   "outputs": [
    {
     "data": {
      "image/png": "[encoded data removed]",
      "text/plain": [
       "plot without title"
      ]
     },
     "metadata": {
      "image/png": {
       "height": 300,
       "width": 500
      },
      "text/plain": {
       "height": 300,
       "width": 500
      }
     },
     "output_type": "display_data"
    }
   ],
   "source": [
    "# PTR values for each MAG (grouped by phylum); only MAGs with >=3 PTR values shown\n",
    "p = demic_ptr_f %>%\n",
    "    group_by(taxon) %>%\n",
    "    mutate(n_samples = n()) %>%\n",
    "    ungroup() %>%\n",
    "    filter(n_samples >= 3) %>%\n",
    "    group_by(Phylum) %>%\n",
    "    mutate(mean_n_samples = mean(n_samples)) %>%\n",
    "    ungroup() %>%\n",
    "    mutate(Phylum = gsub('^p__', '', Phylum)) %>%\n",
    "    group_by(taxon) %>%\n",
    "    summarize(growth_rate = mean(growth_rate),\n",
    "              mean_n_samples = first(mean_n_samples),\n",
    "              Phylum = first(Phylum)) %>%\n",
    "    ungroup() %>%\n",
    "    ggplot(aes(Phylum, growth_rate, color=mean_n_samples)) +\n",
    "    geom_boxplot() +\n",
    "    scale_color_continuous('No. of\\nsamples', low='black', high='red') +\n",
    "    #scale_y_log10(breaks=c(1,10,70), labels=c(1,10,70), limits=c(1,70)) +\n",
    "    labs(y='Peak-to-trough ratio') +\n",
    "    theme_bw() +\n",
    "    theme(\n",
    "        axis.text.x = element_text(angle=45, hjust=1)\n",
    "    )\n",
    "\n",
    "dims(5, 3)\n",
    "plot(p)"
   ]
  },
  {
   "cell_type": "code",
   "execution_count": 107,
   "metadata": {
    "ExecuteTime": {
     "end_time": "2020-02-20T13:40:57.928203Z",
     "start_time": "2020-02-20T13:40:57.358Z"
    }
   },
   "outputs": [
    {
     "data": {
      "image/png": "[encoded data removed]",
      "text/plain": [
       "plot without title"
      ]
     },
     "metadata": {
      "image/png": {
       "height": 400,
       "width": 400
      },
      "text/plain": {
       "height": 400,
       "width": 400
      }
     },
     "output_type": "display_data"
    }
   ],
   "source": [
    "# PTR values for each MAG (grouped by phylum); only MAGs with >=3 PTR values shown\n",
    "p = demic_ptr_f %>%\n",
    "    group_by(taxon) %>%\n",
    "    mutate(n_samples = n()) %>%\n",
    "    ungroup() %>%\n",
    "    filter(n_samples >= 3) %>%\n",
    "    group_by(taxon, class) %>%\n",
    "    summarize(mean_growth_rate = mean(growth_rate),\n",
    "              sderr_growth_rate = sd(growth_rate) / sqrt(n()),\n",
    "              Phylum = first(Phylum)) %>%\n",
    "    ungroup() %>%\n",
    "    mutate(Phylum = gsub('^p__', '', Phylum),\n",
    "           taxon = taxon %>% reorder(-mean_growth_rate)) %>%\n",
    "    group_by(taxon) %>%\n",
    "    mutate(max_PTR = max(mean_growth_rate)) %>%\n",
    "    ungroup() %>%\n",
    "    mutate(taxon = taxon %>% reorder(-max_PTR)) %>%\n",
    "    ggplot(aes(taxon, mean_growth_rate, color=Phylum)) +\n",
    "    geom_linerange(aes(ymin=mean_growth_rate-sderr_growth_rate,\n",
    "                       ymax=mean_growth_rate+sderr_growth_rate),\n",
    "                  alpha=0.5, size=0.8) +\n",
    "    geom_point(alpha=0.7, size=1.3) +\n",
    "    scale_y_log10() +\n",
    "    labs(x='MAG', y='Mean peak-to-trough ratio') +\n",
    "    facet_grid(class ~ .) +\n",
    "    theme_bw() +\n",
    "    theme(\n",
    "        axis.text.x = element_blank() \n",
    "    )\n",
    "\n",
    "dims(4, 4)\n",
    "plot(p)"
   ]
  },
  {
   "cell_type": "code",
   "execution_count": 110,
   "metadata": {
    "ExecuteTime": {
     "end_time": "2020-02-20T13:41:26.937723Z",
     "start_time": "2020-02-20T13:41:26.445Z"
    }
   },
   "outputs": [
    {
     "data": {
      "image/png": "[encoded data removed]",
      "text/plain": [
       "plot without title"
      ]
     },
     "metadata": {
      "image/png": {
       "height": 350,
       "width": 650
      },
      "text/plain": {
       "height": 350,
       "width": 650
      }
     },
     "output_type": "display_data"
    }
   ],
   "source": [
    "# outlier PTR values caused by low completeness?\n",
    "p = demic_ptr_f %>%\n",
    "    group_by(Phylum, taxon) %>%\n",
    "    summarize(Completeness = first(Completeness),\n",
    "              mean_PTR = mean(growth_rate),\n",
    "              sd_PTR = sd(growth_rate),\n",
    "              sderr_PTR = sd(growth_rate) / sqrt(n())) %>%\n",
    "    ungroup() %>%\n",
    "    mutate(Phylum = gsub('^p__', '', Phylum)) %>%\n",
    "    ggplot(aes(Completeness, mean_PTR, color=Phylum)) +\n",
    "    geom_linerange(aes(ymin=mean_PTR-sderr_PTR, \n",
    "                       ymax=mean_PTR+sderr_PTR),\n",
    "                  alpha=0.5) +\n",
    "    geom_point(alpha=0.7) +\n",
    "    scale_y_log10() +\n",
    "    labs(y='Peak-to-trough ratio') +\n",
    "    theme_bw() \n",
    "\n",
    "dims(6.5, 3.5)\n",
    "plot(p)"
   ]
  },
  {
   "cell_type": "code",
   "execution_count": null,
   "metadata": {},
   "outputs": [],
   "source": []
  },
  {
   "cell_type": "markdown",
   "metadata": {},
   "source": [
    "# --OLD--"
   ]
  },
  {
   "cell_type": "markdown",
   "metadata": {},
   "source": [
    "# LLMGPS (10 mil reads) "
   ]
  },
  {
   "cell_type": "code",
   "execution_count": null,
   "metadata": {
    "ExecuteTime": {
     "end_time": "2020-01-21T15:36:04.334656Z",
     "start_time": "2020-01-21T15:36:04.268Z"
    }
   },
   "outputs": [],
   "source": [
    "# number of samples with 10mil reads\n",
    "n_paired_reads_cutoff = 1e7\n",
    "\n",
    "MGnify_samp_f = MGnify_samp  %>%\n",
    "    filter(Total.Sequences >= n_paired_reads_cutoff,\n",
    "           biome_1 != 'Engineered')\n",
    "\n",
    "MGnify_samp_f"
   ]
  },
  {
   "cell_type": "code",
   "execution_count": null,
   "metadata": {
    "ExecuteTime": {
     "end_time": "2020-01-21T15:36:06.601726Z",
     "start_time": "2020-01-21T15:36:06.300Z"
    }
   },
   "outputs": [],
   "source": [
    "# plotting number of remaining samples\n",
    "p = MGnify_samp_f %>%\n",
    "    filter(Filename == 'R1_final.fq.gz') %>%\n",
    "    dplyr::select(Sample, Total.Sequences, avg_sequence_length, bioproject_primary,\n",
    "              environment_biome, environment_feature, environment_material,\n",
    "              biome_0, biome_1, biome_2, biome_3, biome_4, biome_5) %>%\n",
    "    group_by(biome_1) %>%\n",
    "    summarize(n = n()) %>%\n",
    "    ungroup() %>%\n",
    "    ggplot(aes(biome_1, n, label=n)) +\n",
    "    geom_bar(stat='identity', position='dodge') +\n",
    "    geom_text(position=position_dodge(width=0.9), vjust=-0.1, size=3) +\n",
    "    labs(y='No. of samples') +\n",
    "    theme_bw() \n",
    "\n",
    "dims(4,3)\n",
    "Plot(p)"
   ]
  },
  {
   "cell_type": "code",
   "execution_count": null,
   "metadata": {
    "ExecuteTime": {
     "end_time": "2020-01-21T15:36:12.409091Z",
     "start_time": "2020-01-21T15:36:11.731Z"
    }
   },
   "outputs": [],
   "source": [
    "# plotting number of remaining samples\n",
    "p = MGnify_samp_f %>%\n",
    "    filter(Filename == 'R1_final.fq.gz') %>%\n",
    "    dplyr::select(Sample, Total.Sequences, avg_sequence_length, bioproject_primary,\n",
    "              environment_biome, environment_feature, environment_material,\n",
    "              biome_0, biome_1, biome_2, biome_3, biome_4, biome_5) %>%\n",
    "    group_by(biome_1, biome_2) %>%\n",
    "    summarize(n = n()) %>%\n",
    "    ungroup() %>%\n",
    "    ggplot(aes(biome_1, n, fill=biome_2, label=n)) +\n",
    "    geom_bar(stat='identity', position='dodge') +\n",
    "    geom_text(position=position_dodge(width=0.9), vjust=-0.1, size=3) +\n",
    "    labs(y='No. of samples') +\n",
    "    theme_bw() \n",
    "\n",
    "dims(5.5,3)\n",
    "Plot(p)"
   ]
  },
  {
   "cell_type": "code",
   "execution_count": null,
   "metadata": {
    "ExecuteTime": {
     "end_time": "2020-01-21T15:36:23.782570Z",
     "start_time": "2020-01-21T15:36:23.139Z"
    }
   },
   "outputs": [],
   "source": [
    "# plotting number of remaining samples\n",
    "p = MGnify_samp_f %>%\n",
    "    filter(Filename == 'R1_final.fq.gz') %>%\n",
    "    dplyr::select(Sample, Total.Sequences, avg_sequence_length, bioproject_primary,\n",
    "              environment_biome, environment_feature, environment_material,\n",
    "              biome_0, biome_1, biome_2, biome_3, biome_4, biome_5) %>%\n",
    "    group_by(biome_1, biome_2, biome_3) %>%\n",
    "    summarize(n = n()) %>%\n",
    "    ungroup() %>%\n",
    "    ggplot(aes(biome_2, n, fill=biome_3, label=n)) +\n",
    "    geom_bar(stat='identity', position='dodge') +\n",
    "    geom_text(position=position_dodge(width=0.9), vjust=-0.25, size=3) +\n",
    "    labs(y='No. of samples') +\n",
    "    facet_wrap(~ biome_1, scales='free_x') +\n",
    "    ylim(0, 90) +\n",
    "    theme_bw() +\n",
    "    theme(\n",
    "        axis.text.x = element_text(angle=45, hjust=1)\n",
    "    )\n",
    "\n",
    "dims(7,3)\n",
    "Plot(p)"
   ]
  },
  {
   "cell_type": "markdown",
   "metadata": {},
   "source": [
    "## Writing samples file"
   ]
  },
  {
   "cell_type": "code",
   "execution_count": null,
   "metadata": {
    "ExecuteTime": {
     "end_time": "2019-10-21T08:10:13.491594Z",
     "start_time": "2019-10-21T08:10:13.412Z"
    }
   },
   "outputs": [],
   "source": [
    "samp_file = file.path(work_dir, 'samples_demic-10mil.txt')\n",
    "MGnify_samp_f %>%\n",
    "    write.table(file=samp_file, sep='\\t', quote=FALSE, row.names=FALSE)\n",
    "cat('File written:', samp_file)"
   ]
  },
  {
   "cell_type": "markdown",
   "metadata": {},
   "source": [
    "## Config"
   ]
  },
  {
   "cell_type": "code",
   "execution_count": null,
   "metadata": {
    "ExecuteTime": {
     "end_time": "2019-10-21T08:11:16.593482Z",
     "start_time": "2019-10-21T08:11:16.530Z"
    }
   },
   "outputs": [],
   "source": [
    "# config\n",
    "config_file =  file.path(work_dir, 'config_DEMIC-10mil.yaml')\n",
    "cat_file(config_file)"
   ]
  },
  {
   "cell_type": "markdown",
   "metadata": {},
   "source": [
    "## Run"
   ]
  },
  {
   "cell_type": "markdown",
   "metadata": {},
   "source": [
    "```\n",
    "(snakemake_dev) @ rick:/ebio/abt3_projects/Georg_animal_feces/bin/llmgps\n",
    "screen -L -S llmgps-MGnify-DEMIC ./snakemake_sge.sh /ebio/abt3_projects/Georg_animal_feces/data/metagenome/multi-study/BioProjects/summary/LLMGA/wGeorgAnimal/drep-0.95/MGnify-host-env/config_DEMIC-10mil.yaml cluster.json /ebio/abt3_projects/Georg_animal_feces/data/metagenome/multi-study/BioProjects/summary/LLMGA/wGeorgAnimal/drep-0.95/MGnify-host-env/SGE_log 50\n",
    "```"
   ]
  },
  {
   "cell_type": "markdown",
   "metadata": {},
   "source": [
    "## Summary"
   ]
  },
  {
   "cell_type": "code",
   "execution_count": null,
   "metadata": {
    "ExecuteTime": {
     "end_time": "2020-01-21T15:36:51.796547Z",
     "start_time": "2020-01-21T15:36:51.682Z"
    }
   },
   "outputs": [],
   "source": [
    "demic_ptr_file = file.path(work_dir, 'demic_10mil', 'all_PTR.txt')\n",
    "demic_ptr = read.delim(demic_ptr_file, sep='\\t') %>%\n",
    "    gather(sample, growth_rate, -X) %>%\n",
    "    rename('taxon' = X)\n",
    "\n",
    "demic_ptr$growth_rate %>% summary\n",
    "demic_ptr "
   ]
  },
  {
   "cell_type": "code",
   "execution_count": null,
   "metadata": {
    "ExecuteTime": {
     "end_time": "2020-01-21T15:36:54.408864Z",
     "start_time": "2020-01-21T15:36:54.362Z"
    }
   },
   "outputs": [],
   "source": [
    "# number of taxa with any growth rates\n",
    "demic_ptr_f = demic_ptr %>%\n",
    "    filter(!is.na(growth_rate))\n",
    "\n",
    "demic_ptr %>% .$taxon %>% unique %>% length %>% print\n",
    "demic_ptr_f %>% .$taxon %>% unique %>% length %>% print"
   ]
  },
  {
   "cell_type": "code",
   "execution_count": null,
   "metadata": {
    "ExecuteTime": {
     "end_time": "2020-01-21T15:36:58.101662Z",
     "start_time": "2020-01-21T15:36:58.035Z"
    }
   },
   "outputs": [],
   "source": [
    "# adding sample metadata\n",
    "demic_ptr_f = demic_ptr_f %>%\n",
    "    inner_join(MGnify_meta, c('sample'='Sample')) \n",
    "\n",
    "demic_ptr_f"
   ]
  },
  {
   "cell_type": "code",
   "execution_count": null,
   "metadata": {
    "ExecuteTime": {
     "end_time": "2020-01-21T15:37:01.042099Z",
     "start_time": "2020-01-21T15:37:00.955Z"
    }
   },
   "outputs": [],
   "source": [
    "# adding MAG metadata\n",
    "demic_ptr_f = demic_ptr_f %>%\n",
    "    inner_join(MAG_meta %>% mutate(binID = gsub('\\\\.', '_', binID)), \n",
    "               c('taxon'='binID')) \n",
    "demic_ptr_f"
   ]
  },
  {
   "cell_type": "markdown",
   "metadata": {},
   "source": [
    "### Distribution among samples"
   ]
  },
  {
   "cell_type": "code",
   "execution_count": null,
   "metadata": {
    "ExecuteTime": {
     "end_time": "2020-01-21T15:37:03.763941Z",
     "start_time": "2020-01-21T15:37:03.720Z"
    }
   },
   "outputs": [],
   "source": [
    "demic_ptr_f$biome_1 %>% summary\n",
    "\n",
    "demic_ptr_f$biome_2 %>% summary\n",
    "\n",
    "demic_ptr_f$biome_3 %>% summary"
   ]
  },
  {
   "cell_type": "code",
   "execution_count": null,
   "metadata": {
    "ExecuteTime": {
     "end_time": "2020-01-21T15:37:10.228824Z",
     "start_time": "2020-01-21T15:37:09.889Z"
    }
   },
   "outputs": [],
   "source": [
    "demic_ptr_f_s = demic_ptr_f %>%\n",
    "    group_by(taxon) %>%\n",
    "    summarize(n_samples = n()) %>%\n",
    "    ungroup() \n",
    "\n",
    "cat('Number of samples per MAG with non-NA values:\\n')\n",
    "demic_ptr_f_s %>% .$n_samples %>% summary %>% print\n",
    "cat('\\n')\n",
    "\n",
    "cat('Number of MAGs:', demic_ptr_f_s %>% .$taxon %>% unique %>% length, '\\n')\n",
    "\n",
    "p = demic_ptr_f_s %>%\n",
    "    ggplot(aes(n_samples)) +\n",
    "    geom_histogram(bins=40) +\n",
    "    labs(x='No. of samples with PTR value', y='No. of MAGs') +\n",
    "    theme_bw()\n",
    "\n",
    "dims(4,3)\n",
    "Plot(p)"
   ]
  },
  {
   "cell_type": "code",
   "execution_count": null,
   "metadata": {
    "ExecuteTime": {
     "end_time": "2020-01-21T15:37:13.782310Z",
     "start_time": "2020-01-21T15:37:13.345Z"
    }
   },
   "outputs": [],
   "source": [
    "# MAGs found in env.\n",
    "MAGs_in_env = demic_ptr_f %>%\n",
    "    filter(biome_1 == 'Environmental') %>%\n",
    "    .$taxon %>% unique\n",
    "\n",
    "cat('Number of MAGs w/ env PTR values:', MAGs_in_env  %>% length, '\\n')\n",
    "\n",
    "demic_ptr_f %>%\n",
    "    filter(taxon %in% MAGs_in_env) %>%\n",
    "    distinct(Domain, Phylum, Class, Order, Family, Genus)\n",
    "\n",
    "p = demic_ptr_f %>%\n",
    "    filter(taxon %in% MAGs_in_env) %>%\n",
    "    mutate(taxon = gsub('_+', '\\n', taxon),\n",
    "           taxon = stringr::str_wrap(taxon, 16)) %>%\n",
    "    ggplot(aes(taxon, growth_rate, color=biome_1)) +\n",
    "    geom_boxplot() +\n",
    "    labs(x='MAG', y='Peak-to-trough ratio') +\n",
    "    theme_bw() +\n",
    "    theme(\n",
    "        axis.text.x = element_text(angle=45, hjust=1)\n",
    "    )\n",
    "\n",
    "dims(5, 3)\n",
    "plot(p)"
   ]
  },
  {
   "cell_type": "code",
   "execution_count": null,
   "metadata": {
    "ExecuteTime": {
     "end_time": "2020-01-21T15:37:17.235505Z",
     "start_time": "2020-01-21T15:37:16.705Z"
    }
   },
   "outputs": [],
   "source": [
    "# PTR values for each MAG (grouped by phylum); only MAGs with >=3 PTR values shown\n",
    "p = demic_ptr_f %>%\n",
    "    group_by(taxon) %>%\n",
    "    mutate(n_samples = n()) %>%\n",
    "    ungroup() %>%\n",
    "    filter(n_samples >= 3) %>%\n",
    "    group_by(Phylum) %>%\n",
    "    mutate(mean_n_samples = mean(n_samples)) %>%\n",
    "    ungroup() %>%\n",
    "    mutate(Phylum = gsub('^p__', '', Phylum)) %>%\n",
    "    group_by(taxon) %>%\n",
    "    summarize(growth_rate = mean(growth_rate),\n",
    "              mean_n_samples = first(mean_n_samples),\n",
    "              Phylum = first(Phylum)) %>%\n",
    "    ungroup() %>%\n",
    "    ggplot(aes(Phylum, growth_rate, color=mean_n_samples)) +\n",
    "    geom_boxplot() +\n",
    "    scale_color_continuous('No. of\\nsamples', low='black', high='red') +\n",
    "    scale_y_log10(breaks=c(1,10,50), labels=c(1,10,50), limits=c(1,50)) +\n",
    "    labs(y='Peak-to-trough ratio') +\n",
    "    theme_bw() +\n",
    "    theme(\n",
    "        axis.text.x = element_text(angle=45, hjust=1)\n",
    "    )\n",
    "\n",
    "dims(5, 3)\n",
    "Plot(p)"
   ]
  },
  {
   "cell_type": "code",
   "execution_count": null,
   "metadata": {
    "ExecuteTime": {
     "end_time": "2020-01-21T15:38:23.381147Z",
     "start_time": "2020-01-21T15:38:22.543Z"
    }
   },
   "outputs": [],
   "source": [
    "# PTR values for each MAG (grouped by phylum); only MAGs with >=3 PTR values shown\n",
    "p = demic_ptr_f %>%\n",
    "    group_by(taxon) %>%\n",
    "    mutate(n_samples = n()) %>%\n",
    "    ungroup() %>%\n",
    "    filter(n_samples >= 3) %>%\n",
    "    group_by(taxon) %>%\n",
    "    summarize(mean_growth_rate = mean(growth_rate),\n",
    "              sderr_growth_rate = sd(growth_rate) / sqrt(n()),\n",
    "              Phylum = first(Phylum)) %>%\n",
    "    ungroup() %>%\n",
    "    mutate(Phylum = gsub('^p__', '', Phylum),\n",
    "           taxon = taxon %>% reorder(-mean_growth_rate)) %>%\n",
    "    ggplot(aes(taxon, mean_growth_rate, color=Phylum)) +\n",
    "    geom_linerange(aes(ymin=mean_growth_rate-sderr_growth_rate,\n",
    "                       ymax=mean_growth_rate+sderr_growth_rate),\n",
    "                  alpha=0.5, size=0.8) +\n",
    "    geom_point(alpha=0.7, size=1) +\n",
    "    scale_y_log10(breaks=c(1,10,50), labels=c(1,10,50), limits=c(1,50)) +\n",
    "    labs(x='MAG', y='Mean peak-to-trough ratio') +\n",
    "    theme_bw() +\n",
    "    theme(\n",
    "        axis.text.x = element_blank() \n",
    "    )\n",
    "\n",
    "dims(10, 3.5)\n",
    "Plot(p)"
   ]
  },
  {
   "cell_type": "code",
   "execution_count": null,
   "metadata": {
    "ExecuteTime": {
     "end_time": "2020-01-21T15:38:24.937429Z",
     "start_time": "2020-01-21T15:38:24.157Z"
    }
   },
   "outputs": [],
   "source": [
    "# outlier PTR values caused by low completeness?\n",
    "p = demic_ptr_f %>%\n",
    "    group_by(Phylum, taxon) %>%\n",
    "    summarize(Completeness = first(Completeness),\n",
    "              mean_PTR = mean(growth_rate),\n",
    "              sd_PTR = sd(growth_rate),\n",
    "              sderr_PTR = sd(growth_rate) / sqrt(n())) %>%\n",
    "    ungroup() %>%\n",
    "    mutate(Phylum = gsub('^p__', '', Phylum)) %>%\n",
    "    ggplot(aes(Completeness, mean_PTR, color=Phylum)) +\n",
    "    geom_linerange(aes(ymin=mean_PTR-sderr_PTR, \n",
    "                       ymax=mean_PTR+sderr_PTR),\n",
    "                  alpha=0.2) +\n",
    "    geom_point(alpha=0.3) +\n",
    "    scale_y_log10() +\n",
    "    labs(y='Peak-to-trough ratio') +\n",
    "    theme_bw() \n",
    "\n",
    "dims(6.5, 3.5)\n",
    "Plot(p)"
   ]
  },
  {
   "cell_type": "markdown",
   "metadata": {},
   "source": [
    "# LLMGPS (20 mil reads)"
   ]
  },
  {
   "cell_type": "code",
   "execution_count": null,
   "metadata": {
    "ExecuteTime": {
     "end_time": "2020-01-21T15:40:04.122432Z",
     "start_time": "2020-01-21T15:40:04.045Z"
    }
   },
   "outputs": [],
   "source": [
    "# number of samples with 20mil reads\n",
    "n_paired_reads_cutoff = 2e7\n",
    "\n",
    "MGnify_samp_f = MGnify_samp  %>%\n",
    "    filter(Total.Sequences >= n_paired_reads_cutoff,\n",
    "           biome_1 != 'Engineered')\n",
    "\n",
    "MGnify_samp_f"
   ]
  },
  {
   "cell_type": "code",
   "execution_count": null,
   "metadata": {
    "ExecuteTime": {
     "end_time": "2020-01-21T15:40:05.053912Z",
     "start_time": "2020-01-21T15:40:04.751Z"
    }
   },
   "outputs": [],
   "source": [
    "# plotting number of remaining samples\n",
    "p = MGnify_samp_f %>%\n",
    "    filter(Filename == 'R1_final.fq.gz') %>%\n",
    "    dplyr::select(Sample, Total.Sequences, avg_sequence_length, bioproject_primary,\n",
    "              environment_biome, environment_feature, environment_material,\n",
    "              biome_0, biome_1, biome_2, biome_3, biome_4, biome_5) %>%\n",
    "    group_by(biome_1) %>%\n",
    "    summarize(n = n()) %>%\n",
    "    ungroup() %>%\n",
    "    ggplot(aes(biome_1, n, label=n)) +\n",
    "    geom_bar(stat='identity', position='dodge') +\n",
    "    geom_text(position=position_dodge(width=0.9), vjust=-0.1, size=3) +\n",
    "    labs(y='No. of samples') +\n",
    "    theme_bw() \n",
    "\n",
    "dims(4,3)\n",
    "Plot(p)"
   ]
  },
  {
   "cell_type": "code",
   "execution_count": null,
   "metadata": {
    "ExecuteTime": {
     "end_time": "2020-01-21T15:40:06.219123Z",
     "start_time": "2020-01-21T15:40:05.679Z"
    }
   },
   "outputs": [],
   "source": [
    "# plotting number of remaining samples\n",
    "p = MGnify_samp_f %>%\n",
    "    filter(Filename == 'R1_final.fq.gz') %>%\n",
    "    dplyr::select(Sample, Total.Sequences, avg_sequence_length, bioproject_primary,\n",
    "              environment_biome, environment_feature, environment_material,\n",
    "              biome_0, biome_1, biome_2, biome_3, biome_4, biome_5) %>%\n",
    "    group_by(biome_1, biome_2) %>%\n",
    "    summarize(n = n()) %>%\n",
    "    ungroup() %>%\n",
    "    ggplot(aes(biome_1, n, fill=biome_2, label=n)) +\n",
    "    geom_bar(stat='identity', position='dodge') +\n",
    "    geom_text(position=position_dodge(width=0.9), vjust=-0.1, size=3) +\n",
    "    labs(y='No. of samples') +\n",
    "    theme_bw() \n",
    "\n",
    "dims(5,3)\n",
    "Plot(p)"
   ]
  },
  {
   "cell_type": "code",
   "execution_count": null,
   "metadata": {
    "ExecuteTime": {
     "end_time": "2020-01-21T15:40:06.981318Z",
     "start_time": "2020-01-21T15:40:06.247Z"
    }
   },
   "outputs": [],
   "source": [
    "# plotting number of remaining samples\n",
    "p = MGnify_samp_f %>%\n",
    "    filter(Filename == 'R1_final.fq.gz') %>%\n",
    "    dplyr::select(Sample, Total.Sequences, avg_sequence_length, bioproject_primary,\n",
    "              environment_biome, environment_feature, environment_material,\n",
    "              biome_0, biome_1, biome_2, biome_3, biome_4, biome_5) %>%\n",
    "    group_by(biome_1, biome_2, biome_3) %>%\n",
    "    summarize(n = n()) %>%\n",
    "    ungroup() %>%\n",
    "    ggplot(aes(biome_2, n, fill=biome_3, label=n)) +\n",
    "    geom_bar(stat='identity', position='dodge') +\n",
    "    geom_text(position=position_dodge(width=0.9), vjust=-0.25, size=3) +\n",
    "    labs(y='No. of samples') +\n",
    "    facet_wrap(~ biome_1, scales='free_x') +\n",
    "    ylim(0, 60) +\n",
    "    theme_bw() +\n",
    "    theme(\n",
    "        axis.text.x = element_text(angle=45, hjust=1)\n",
    "    )\n",
    "\n",
    "dims(7,3)\n",
    "Plot(p)"
   ]
  },
  {
   "cell_type": "markdown",
   "metadata": {},
   "source": [
    "## Writing samples table"
   ]
  },
  {
   "cell_type": "code",
   "execution_count": null,
   "metadata": {
    "ExecuteTime": {
     "end_time": "2019-10-22T07:45:39.723963Z",
     "start_time": "2019-10-22T07:45:38.321Z"
    }
   },
   "outputs": [],
   "source": [
    "samp_file = file.path(work_dir, 'samples_demic-20mil.txt')\n",
    "MGnify_samp_f %>%\n",
    "    write.table(file=samp_file, sep='\\t', quote=FALSE, row.names=FALSE)\n",
    "cat('File written:', samp_file)"
   ]
  },
  {
   "cell_type": "markdown",
   "metadata": {},
   "source": [
    "## Config"
   ]
  },
  {
   "cell_type": "code",
   "execution_count": null,
   "metadata": {
    "ExecuteTime": {
     "end_time": "2019-10-22T07:51:17.492036Z",
     "start_time": "2019-10-22T07:51:17.421Z"
    }
   },
   "outputs": [],
   "source": [
    "# config\n",
    "config_file =  file.path(work_dir, 'config_DEMIC-20mil.yaml')\n",
    "cat_file(config_file)"
   ]
  },
  {
   "cell_type": "markdown",
   "metadata": {},
   "source": [
    "### Run"
   ]
  },
  {
   "cell_type": "markdown",
   "metadata": {},
   "source": [
    "```\n",
    "(snakemake_dev) @ rick:/ebio/abt3_projects/Georg_animal_feces/bin/llmgps\n",
    "screen -L -S llmgps-MGnify-DEMIC ./snakemake_sge.sh /ebio/abt3_projects/Georg_animal_feces/data/metagenome/multi-study/BioProjects/summary/LLMGA/wGeorgAnimal/drep-0.95/MGnify-host-env/config_DEMIC-20mil.yaml cluster.json /ebio/abt3_projects/Georg_animal_feces/data/metagenome/multi-study/BioProjects/summary/LLMGA/wGeorgAnimal/drep-0.95/MGnify-host-env/SGE_log 50\n",
    "```"
   ]
  },
  {
   "cell_type": "markdown",
   "metadata": {},
   "source": [
    "## Summary"
   ]
  },
  {
   "cell_type": "code",
   "execution_count": null,
   "metadata": {
    "ExecuteTime": {
     "end_time": "2020-01-21T15:40:57.573219Z",
     "start_time": "2020-01-21T15:40:57.457Z"
    }
   },
   "outputs": [],
   "source": [
    "demic_ptr_file = file.path(work_dir, 'demic_20mil', 'all_PTR.txt')\n",
    "demic_ptr = read.delim(demic_ptr_file, sep='\\t') %>%\n",
    "    gather(sample, growth_rate, -X) %>%\n",
    "    rename('taxon' = X)\n",
    "\n",
    "demic_ptr$growth_rate %>% summary\n",
    "demic_ptr "
   ]
  },
  {
   "cell_type": "code",
   "execution_count": null,
   "metadata": {
    "ExecuteTime": {
     "end_time": "2020-01-21T15:40:58.115946Z",
     "start_time": "2020-01-21T15:40:58.055Z"
    }
   },
   "outputs": [],
   "source": [
    "# number of taxa with any growth rates\n",
    "demic_ptr_f = demic_ptr %>%\n",
    "    filter(!is.na(growth_rate))\n",
    "\n",
    "demic_ptr %>% .$taxon %>% unique %>% length %>% print\n",
    "demic_ptr_f %>% .$taxon %>% unique %>% length %>% print"
   ]
  },
  {
   "cell_type": "code",
   "execution_count": null,
   "metadata": {
    "ExecuteTime": {
     "end_time": "2020-01-21T15:40:58.839487Z",
     "start_time": "2020-01-21T15:40:58.767Z"
    }
   },
   "outputs": [],
   "source": [
    "# adding sample metadata\n",
    "demic_ptr_f = demic_ptr_f %>%\n",
    "    inner_join(MGnify_meta, c('sample'='Sample')) \n",
    "\n",
    "demic_ptr_f"
   ]
  },
  {
   "cell_type": "code",
   "execution_count": null,
   "metadata": {
    "ExecuteTime": {
     "end_time": "2020-01-21T15:41:07.318557Z",
     "start_time": "2020-01-21T15:41:07.063Z"
    }
   },
   "outputs": [],
   "source": [
    "# adding MAG metadata\n",
    "demic_ptr_f = demic_ptr_f %>%\n",
    "    inner_join(MAG_meta %>% mutate(binID = gsub('\\\\.', '_', binID)), \n",
    "               c('taxon'='binID')) \n",
    "demic_ptr_f"
   ]
  },
  {
   "cell_type": "markdown",
   "metadata": {},
   "source": [
    "### Distribution among samples"
   ]
  },
  {
   "cell_type": "code",
   "execution_count": null,
   "metadata": {
    "ExecuteTime": {
     "end_time": "2020-01-21T15:41:09.972461Z",
     "start_time": "2020-01-21T15:41:09.927Z"
    }
   },
   "outputs": [],
   "source": [
    "demic_ptr_f$biome_1 %>% summary\n",
    "\n",
    "demic_ptr_f$biome_2 %>% summary\n",
    "\n",
    "demic_ptr_f$biome_3 %>% summary"
   ]
  },
  {
   "cell_type": "code",
   "execution_count": null,
   "metadata": {
    "ExecuteTime": {
     "end_time": "2020-01-21T15:41:11.337282Z",
     "start_time": "2020-01-21T15:41:10.976Z"
    }
   },
   "outputs": [],
   "source": [
    "demic_ptr_f_s = demic_ptr_f %>%\n",
    "    group_by(taxon) %>%\n",
    "    summarize(n_samples = n()) %>%\n",
    "    ungroup() \n",
    "\n",
    "cat('Number of samples per MAG with non-NA values:\\n')\n",
    "demic_ptr_f_s %>% .$n_samples %>% summary %>% print\n",
    "cat('\\n')\n",
    "\n",
    "cat('Number of MAGs:', demic_ptr_f_s %>% .$taxon %>% unique %>% length, '\\n')\n",
    "\n",
    "p = demic_ptr_f_s %>%\n",
    "    ggplot(aes(n_samples)) +\n",
    "    geom_histogram(bins=40) +\n",
    "    labs(x='No. of samples with PTR value', y='No. of MAGs') +\n",
    "    theme_bw()\n",
    "\n",
    "dims(4,3)\n",
    "Plot(p)"
   ]
  },
  {
   "cell_type": "code",
   "execution_count": null,
   "metadata": {
    "ExecuteTime": {
     "end_time": "2020-01-21T15:41:12.873190Z",
     "start_time": "2020-01-21T15:41:12.455Z"
    }
   },
   "outputs": [],
   "source": [
    "# MAGs found in env.\n",
    "MAGs_in_env = demic_ptr_f %>%\n",
    "    filter(biome_1 == 'Environmental') %>%\n",
    "    .$taxon %>% unique\n",
    "\n",
    "cat('Number of MAGs w/ env PTR values:', MAGs_in_env  %>% length, '\\n')\n",
    "\n",
    "demic_ptr_f %>%\n",
    "    filter(taxon %in% MAGs_in_env) %>%\n",
    "    distinct(Domain, Phylum, Class, Order, Family, Genus)\n",
    "\n",
    "p = demic_ptr_f %>%\n",
    "    filter(taxon %in% MAGs_in_env) %>%\n",
    "    mutate(taxon = gsub('_+', '\\n', taxon),\n",
    "           taxon = stringr::str_wrap(taxon, 16)) %>%\n",
    "    ggplot(aes(taxon, growth_rate, color=biome_1)) +\n",
    "    geom_boxplot() +\n",
    "    labs(x='MAG', y='Peak-to-trough ratio') +\n",
    "    theme_bw() +\n",
    "    theme(\n",
    "        axis.text.x = element_text(angle=45, hjust=1)\n",
    "    )\n",
    "\n",
    "dims(5, 3)\n",
    "plot(p)"
   ]
  },
  {
   "cell_type": "code",
   "execution_count": null,
   "metadata": {
    "ExecuteTime": {
     "end_time": "2020-01-21T15:41:14.829239Z",
     "start_time": "2020-01-21T15:41:14.206Z"
    }
   },
   "outputs": [],
   "source": [
    "# PTR values for each MAG (grouped by phylum); only MAGs with >=3 PTR values shown\n",
    "p = demic_ptr_f %>%\n",
    "    group_by(taxon) %>%\n",
    "    mutate(n_samples = n()) %>%\n",
    "    ungroup() %>%\n",
    "    filter(n_samples >= 3) %>%\n",
    "    group_by(Phylum) %>%\n",
    "    mutate(mean_n_samples = mean(n_samples)) %>%\n",
    "    ungroup() %>%\n",
    "    mutate(Phylum = gsub('^p__', '', Phylum)) %>%\n",
    "    group_by(taxon) %>%\n",
    "    summarize(growth_rate = mean(growth_rate),\n",
    "              mean_n_samples = first(mean_n_samples),\n",
    "              Phylum = first(Phylum)) %>%\n",
    "    ungroup() %>%\n",
    "    ggplot(aes(Phylum, growth_rate, color=mean_n_samples)) +\n",
    "    geom_boxplot() +\n",
    "    scale_color_continuous('No. of\\nsamples', low='black', high='red') +\n",
    "    scale_y_log10(breaks=c(1,10,50), labels=c(1,10,50), limits=c(1,50)) +\n",
    "    labs(y='Peak-to-trough ratio') +\n",
    "    theme_bw() +\n",
    "    theme(\n",
    "        axis.text.x = element_text(angle=45, hjust=1)\n",
    "    )\n",
    "\n",
    "dims(5, 3)\n",
    "Plot(p)"
   ]
  },
  {
   "cell_type": "code",
   "execution_count": null,
   "metadata": {
    "ExecuteTime": {
     "end_time": "2020-01-21T15:41:17.291079Z",
     "start_time": "2020-01-21T15:41:16.190Z"
    }
   },
   "outputs": [],
   "source": [
    "# PTR values for each MAG (grouped by phylum); only MAGs with >=3 PTR values shown\n",
    "p = demic_ptr_f %>%\n",
    "    group_by(taxon) %>%\n",
    "    mutate(n_samples = n()) %>%\n",
    "    ungroup() %>%\n",
    "    filter(n_samples >= 3) %>%\n",
    "    group_by(taxon) %>%\n",
    "    summarize(mean_growth_rate = mean(growth_rate),\n",
    "              sderr_growth_rate = sd(growth_rate) / sqrt(n()),\n",
    "              Phylum = first(Phylum)) %>%\n",
    "    ungroup() %>%\n",
    "    mutate(Phylum = gsub('^p__', '', Phylum),\n",
    "           taxon = taxon %>% reorder(-mean_growth_rate)) %>%\n",
    "    ggplot(aes(taxon, mean_growth_rate, color=Phylum)) +\n",
    "    geom_linerange(aes(ymin=mean_growth_rate-sderr_growth_rate,\n",
    "                       ymax=mean_growth_rate+sderr_growth_rate),\n",
    "                  alpha=0.5, size=0.6) +\n",
    "    geom_point(alpha=0.7, size=0.8) +\n",
    "    scale_y_log10(breaks=c(1,10,50), labels=c(1,10,50), limits=c(1,50)) +\n",
    "    labs(x='MAG', y='Mean peak-to-trough ratio') +\n",
    "    theme_bw() +\n",
    "    theme(\n",
    "        axis.text.x = element_blank() \n",
    "    )\n",
    "\n",
    "dims(10, 3.5)\n",
    "Plot(p)"
   ]
  },
  {
   "cell_type": "code",
   "execution_count": null,
   "metadata": {
    "ExecuteTime": {
     "end_time": "2020-01-21T15:41:18.534343Z",
     "start_time": "2020-01-21T15:41:16.967Z"
    }
   },
   "outputs": [],
   "source": [
    "# outlier PTR values caused by low completeness?\n",
    "p = demic_ptr_f %>%\n",
    "    group_by(Phylum, taxon) %>%\n",
    "    summarize(Completeness = first(Completeness),\n",
    "              mean_PTR = mean(growth_rate),\n",
    "              sd_PTR = sd(growth_rate),\n",
    "              sderr_PTR = sd(growth_rate) / sqrt(n())) %>%\n",
    "    ungroup() %>%\n",
    "    mutate(Phylum = gsub('^p__', '', Phylum)) %>%\n",
    "    ggplot(aes(Completeness, mean_PTR, color=Phylum)) +\n",
    "    geom_linerange(aes(ymin=mean_PTR-sderr_PTR, \n",
    "                       ymax=mean_PTR+sderr_PTR),\n",
    "                  alpha=0.2) +\n",
    "    geom_point(alpha=0.3) +\n",
    "    scale_y_log10() +\n",
    "    labs(y='Peak-to-trough ratio') +\n",
    "    theme_bw() \n",
    "\n",
    "dims(7.5, 5)\n",
    "Plot(p)"
   ]
  },
  {
   "cell_type": "markdown",
   "metadata": {},
   "source": [
    "# sessionInfo"
   ]
  },
  {
   "cell_type": "code",
   "execution_count": null,
   "metadata": {
    "ExecuteTime": {
     "end_time": "2020-01-21T15:41:18.587331Z",
     "start_time": "2020-01-21T15:41:18.390Z"
    }
   },
   "outputs": [],
   "source": [
    "sessionInfo()"
   ]
  },
  {
   "cell_type": "code",
   "execution_count": null,
   "metadata": {},
   "outputs": [],
   "source": []
  }
 ],
 "metadata": {
  "kernelspec": {
   "display_name": "R [conda env:Georg_animal_feces-phyloseq]",
   "language": "R",
   "name": "conda-env-Georg_animal_feces-phyloseq-r"
  },
  "language_info": {
   "codemirror_mode": "r",
   "file_extension": ".r",
   "mimetype": "text/x-r-source",
   "name": "R",
   "pygments_lexer": "r",
   "version": "3.6.2"
  },
  "notify_time": "30",
  "toc": {
   "base_numbering": 1,
   "nav_menu": {},
   "number_sections": true,
   "sideBar": true,
   "skip_h1_title": false,
   "title_cell": "Table of Contents",
   "title_sidebar": "Contents",
   "toc_cell": true,
   "toc_position": {
    "height": "calc(100% - 180px)",
    "left": "10px",
    "top": "150px",
    "width": "256px"
   },
   "toc_section_display": true,
   "toc_window_display": true
  }
 },
 "nbformat": 4,
 "nbformat_minor": 2
}
