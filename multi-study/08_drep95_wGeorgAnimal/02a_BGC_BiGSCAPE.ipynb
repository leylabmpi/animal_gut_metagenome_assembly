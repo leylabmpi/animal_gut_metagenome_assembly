{
 "cells": [
  {
   "cell_type": "markdown",
   "metadata": {
    "toc": true
   },
   "source": [
    "<h1>Table of Contents<span class=\"tocSkip\"></span></h1>\n",
    "<div class=\"toc\"><ul class=\"toc-item\"><li><span><a href=\"#Goal\" data-toc-modified-id=\"Goal-1\"><span class=\"toc-item-num\">1&nbsp;&nbsp;</span>Goal</a></span></li><li><span><a href=\"#Var\" data-toc-modified-id=\"Var-2\"><span class=\"toc-item-num\">2&nbsp;&nbsp;</span>Var</a></span></li><li><span><a href=\"#Init\" data-toc-modified-id=\"Init-3\"><span class=\"toc-item-num\">3&nbsp;&nbsp;</span>Init</a></span></li><li><span><a href=\"#Combining-all-antismash-GBKs\" data-toc-modified-id=\"Combining-all-antismash-GBKs-4\"><span class=\"toc-item-num\">4&nbsp;&nbsp;</span>Combining all antismash GBKs</a></span><ul class=\"toc-item\"><li><span><a href=\"#Writing-table-of-BGC-IDs\" data-toc-modified-id=\"Writing-table-of-BGC-IDs-4.1\"><span class=\"toc-item-num\">4.1&nbsp;&nbsp;</span>Writing table of BGC IDs</a></span></li></ul></li><li><span><a href=\"#BiGSCAPE\" data-toc-modified-id=\"BiGSCAPE-5\"><span class=\"toc-item-num\">5&nbsp;&nbsp;</span>BiGSCAPE</a></span></li><li><span><a href=\"#Summary\" data-toc-modified-id=\"Summary-6\"><span class=\"toc-item-num\">6&nbsp;&nbsp;</span>Summary</a></span><ul class=\"toc-item\"><li><span><a href=\"#Load\" data-toc-modified-id=\"Load-6.1\"><span class=\"toc-item-num\">6.1&nbsp;&nbsp;</span>Load</a></span></li><li><span><a href=\"#Summarize\" data-toc-modified-id=\"Summarize-6.2\"><span class=\"toc-item-num\">6.2&nbsp;&nbsp;</span>Summarize</a></span></li><li><span><a href=\"#Writing-fam-clan-table\" data-toc-modified-id=\"Writing-fam-clan-table-6.3\"><span class=\"toc-item-num\">6.3&nbsp;&nbsp;</span>Writing fam-clan table</a></span></li></ul></li><li><span><a href=\"#sessionInfo\" data-toc-modified-id=\"sessionInfo-7\"><span class=\"toc-item-num\">7&nbsp;&nbsp;</span>sessionInfo</a></span></li></ul></div>"
   ]
  },
  {
   "cell_type": "markdown",
   "metadata": {},
   "source": [
    "# Goal\n",
    "\n",
    "* Run `BiGSCAPE` on all BGCs identified by `antismash`"
   ]
  },
  {
   "cell_type": "markdown",
   "metadata": {},
   "source": [
    "# Var"
   ]
  },
  {
   "cell_type": "code",
   "execution_count": 13,
   "metadata": {
    "ExecuteTime": {
     "end_time": "2020-04-29T13:14:34.755941Z",
     "start_time": "2020-04-29T13:14:34.622Z"
    }
   },
   "outputs": [],
   "source": [
    "# Dereplicated MAGs\n",
    "MAG_dir = file.path('/ebio', 'abt3_projects', 'Georg_animal_feces', 'data',\n",
    "                     'metagenome', 'multi-study', 'BioProjects', 'summary',\n",
    "                     'LLMGA', 'wGeorgAnimal', 'drep-0.95')\n",
    "\n",
    "# de-rep'd MAG metadata\n",
    "MAG_meta_file = file.path(MAG_dir, 'drep-MAG_metadata.tsv')\n",
    "\n",
    "# antismash dir\n",
    "antismash_dir = file.path(MAG_dir, 'BGCs', 'antismash_v5')\n",
    "\n",
    "# working dir\n",
    "work_dir = file.path(MAG_dir, 'BGCs', 'bigscape')\n",
    "\n",
    "# pfam dir (hmms)\n",
    "pfam_dir = '/ebio/abt3_projects/databases_no-backup/pfam/v32.0/'\n",
    "\n",
    "# table of BGC UUIDs\n",
    "BGC_uuid_file = file.path(antismash_dir, 'BGC_uuids.tsv')\n",
    "\n",
    "# BGC metadata\n",
    "BGC_meta_file = '/ebio/abt3_projects/Georg_animal_feces/data/metagenome/multi-study/BioProjects/summary/LLMGA/wGeorgAnimal/drep-0.95/BGCs/antismash_v5/BGC_product_summary.tsv'\n",
    "\n",
    "# params\n",
    "conda_env = 'bigscape'\n",
    "threads = 24"
   ]
  },
  {
   "cell_type": "markdown",
   "metadata": {},
   "source": [
    "# Init"
   ]
  },
  {
   "cell_type": "code",
   "execution_count": 4,
   "metadata": {
    "ExecuteTime": {
     "end_time": "2020-04-29T13:12:11.455562Z",
     "start_time": "2020-04-29T13:12:11.383Z"
    }
   },
   "outputs": [],
   "source": [
    "library(dplyr)\n",
    "library(tidyr)\n",
    "library(ggplot2)\n",
    "library(data.table)\n",
    "library(doParallel)\n",
    "library(LeyLabRMisc)\n",
    "\n",
    "library(future)\n",
    "library(future.batchtools)\n",
    "library(future.apply)\n",
    "options(future.wait.interval = 2.0)"
   ]
  },
  {
   "cell_type": "code",
   "execution_count": 5,
   "metadata": {
    "ExecuteTime": {
     "end_time": "2020-04-29T13:12:14.873137Z",
     "start_time": "2020-04-29T13:12:14.777Z"
    }
   },
   "outputs": [
    {
     "name": "stdout",
     "output_type": "stream",
     "text": [
      "Directory already exists: /ebio/abt3_projects/Georg_animal_feces/data/metagenome/multi-study/BioProjects/summary/LLMGA/wGeorgAnimal/drep-0.95/BGCs/bigscape \n"
     ]
    }
   ],
   "source": [
    "df.dims()\n",
    "set.seed(7834)\n",
    "make_dir(work_dir)"
   ]
  },
  {
   "cell_type": "markdown",
   "metadata": {},
   "source": [
    "# Combining all antismash GBKs"
   ]
  },
  {
   "cell_type": "code",
   "execution_count": 24,
   "metadata": {
    "ExecuteTime": {
     "end_time": "2020-04-29T13:17:07.010324Z",
     "start_time": "2020-04-29T13:17:06.915Z"
    }
   },
   "outputs": [
    {
     "name": "stdout",
     "output_type": "stream",
     "text": [
      "Directory already exists: /ebio/abt3_projects/Georg_animal_feces/data/metagenome/multi-study/BioProjects/summary/LLMGA/wGeorgAnimal/drep-0.95/BGCs/bigscape/antismash_gbks \n"
     ]
    }
   ],
   "source": [
    "antismash_gbk_dir = file.path(work_dir, 'antismash_gbks')\n",
    "make_dir(antismash_gbk_dir)"
   ]
  },
  {
   "cell_type": "code",
   "execution_count": 25,
   "metadata": {
    "ExecuteTime": {
     "end_time": "2020-04-29T13:17:13.330050Z",
     "start_time": "2020-04-29T13:17:07.658Z"
    }
   },
   "outputs": [
    {
     "name": "stdout",
     "output_type": "stream",
     "text": [
      "[1] 1953\n"
     ]
    }
   ],
   "source": [
    "# listing all antismash gbk files\n",
    "## WARNING: a bit slow\n",
    "gbk_files = list.files(antismash_dir, '*.gbk', full.names=TRUE, recursive=TRUE)\n",
    "gbk_files = gbk_files[grepl('.+\\\\.\\\\.\\\\.region[0-9]+\\\\.gbk$', gbk_files)]\n",
    "gbk_files %>% length %>% print"
   ]
  },
  {
   "cell_type": "code",
   "execution_count": 26,
   "metadata": {
    "ExecuteTime": {
     "end_time": "2020-04-29T13:17:13.387699Z",
     "start_time": "2020-04-29T13:17:08.098Z"
    }
   },
   "outputs": [
    {
     "data": {
      "text/html": [
       "<table>\n",
       "<caption>A data.frame: 1953 × 2</caption>\n",
       "<thead>\n",
       "\t<tr><th scope=col>MAG</th><th scope=col>gbk_file</th></tr>\n",
       "\t<tr><th scope=col>&lt;fct&gt;</th><th scope=col>&lt;fct&gt;</th></tr>\n",
       "</thead>\n",
       "<tbody>\n",
       "\t<tr><td>artificially_reared_2__maxbin2_low_prob_006</td><td>/ebio/abt3_projects/Georg_animal_feces/data/metagenome/multi-study/BioProjects/summary/LLMGA/wGeorgAnimal/drep-0.95/BGCs/antismash_v5/artificially_reared_2__maxbin2_low_prob_006/c00016_artific...region001.gbk</td></tr>\n",
       "\t<tr><td>artificially_reared_2__maxbin2_low_prob_006</td><td>/ebio/abt3_projects/Georg_animal_feces/data/metagenome/multi-study/BioProjects/summary/LLMGA/wGeorgAnimal/drep-0.95/BGCs/antismash_v5/artificially_reared_2__maxbin2_low_prob_006/c00086_artific...region001.gbk</td></tr>\n",
       "\t<tr><td>⋮</td><td>⋮</td></tr>\n",
       "\t<tr><td>X95_Meadow_Viper__metabat2_low_PE_002  </td><td>/ebio/abt3_projects/Georg_animal_feces/data/metagenome/multi-study/BioProjects/summary/LLMGA/wGeorgAnimal/drep-0.95/BGCs/antismash_v5/X95_Meadow_Viper__metabat2_low_PE_002/c00181_X95_Mea...region001.gbk  </td></tr>\n",
       "\t<tr><td>X96_European_Hare__metabat2_high_PE_013</td><td>/ebio/abt3_projects/Georg_animal_feces/data/metagenome/multi-study/BioProjects/summary/LLMGA/wGeorgAnimal/drep-0.95/BGCs/antismash_v5/X96_European_Hare__metabat2_high_PE_013/c00008_X96_Eur...region001.gbk</td></tr>\n",
       "</tbody>\n",
       "</table>\n"
      ],
      "text/latex": [
       "A data.frame: 1953 × 2\n",
       "\\begin{tabular}{ll}\n",
       " MAG & gbk\\_file\\\\\n",
       " <fct> & <fct>\\\\\n",
       "\\hline\n",
       "\t artificially\\_reared\\_2\\_\\_maxbin2\\_low\\_prob\\_006 & /ebio/abt3\\_projects/Georg\\_animal\\_feces/data/metagenome/multi-study/BioProjects/summary/LLMGA/wGeorgAnimal/drep-0.95/BGCs/antismash\\_v5/artificially\\_reared\\_2\\_\\_maxbin2\\_low\\_prob\\_006/c00016\\_artific...region001.gbk\\\\\n",
       "\t artificially\\_reared\\_2\\_\\_maxbin2\\_low\\_prob\\_006 & /ebio/abt3\\_projects/Georg\\_animal\\_feces/data/metagenome/multi-study/BioProjects/summary/LLMGA/wGeorgAnimal/drep-0.95/BGCs/antismash\\_v5/artificially\\_reared\\_2\\_\\_maxbin2\\_low\\_prob\\_006/c00086\\_artific...region001.gbk\\\\\n",
       "\t ⋮ & ⋮\\\\\n",
       "\t X95\\_Meadow\\_Viper\\_\\_metabat2\\_low\\_PE\\_002   & /ebio/abt3\\_projects/Georg\\_animal\\_feces/data/metagenome/multi-study/BioProjects/summary/LLMGA/wGeorgAnimal/drep-0.95/BGCs/antismash\\_v5/X95\\_Meadow\\_Viper\\_\\_metabat2\\_low\\_PE\\_002/c00181\\_X95\\_Mea...region001.gbk  \\\\\n",
       "\t X96\\_European\\_Hare\\_\\_metabat2\\_high\\_PE\\_013 & /ebio/abt3\\_projects/Georg\\_animal\\_feces/data/metagenome/multi-study/BioProjects/summary/LLMGA/wGeorgAnimal/drep-0.95/BGCs/antismash\\_v5/X96\\_European\\_Hare\\_\\_metabat2\\_high\\_PE\\_013/c00008\\_X96\\_Eur...region001.gbk\\\\\n",
       "\\end{tabular}\n"
      ],
      "text/markdown": [
       "\n",
       "A data.frame: 1953 × 2\n",
       "\n",
       "| MAG &lt;fct&gt; | gbk_file &lt;fct&gt; |\n",
       "|---|---|\n",
       "| artificially_reared_2__maxbin2_low_prob_006 | /ebio/abt3_projects/Georg_animal_feces/data/metagenome/multi-study/BioProjects/summary/LLMGA/wGeorgAnimal/drep-0.95/BGCs/antismash_v5/artificially_reared_2__maxbin2_low_prob_006/c00016_artific...region001.gbk |\n",
       "| artificially_reared_2__maxbin2_low_prob_006 | /ebio/abt3_projects/Georg_animal_feces/data/metagenome/multi-study/BioProjects/summary/LLMGA/wGeorgAnimal/drep-0.95/BGCs/antismash_v5/artificially_reared_2__maxbin2_low_prob_006/c00086_artific...region001.gbk |\n",
       "| ⋮ | ⋮ |\n",
       "| X95_Meadow_Viper__metabat2_low_PE_002   | /ebio/abt3_projects/Georg_animal_feces/data/metagenome/multi-study/BioProjects/summary/LLMGA/wGeorgAnimal/drep-0.95/BGCs/antismash_v5/X95_Meadow_Viper__metabat2_low_PE_002/c00181_X95_Mea...region001.gbk   |\n",
       "| X96_European_Hare__metabat2_high_PE_013 | /ebio/abt3_projects/Georg_animal_feces/data/metagenome/multi-study/BioProjects/summary/LLMGA/wGeorgAnimal/drep-0.95/BGCs/antismash_v5/X96_European_Hare__metabat2_high_PE_013/c00008_X96_Eur...region001.gbk |\n",
       "\n"
      ],
      "text/plain": [
       "     MAG                                        \n",
       "1    artificially_reared_2__maxbin2_low_prob_006\n",
       "2    artificially_reared_2__maxbin2_low_prob_006\n",
       "⋮    ⋮                                          \n",
       "1952 X95_Meadow_Viper__metabat2_low_PE_002      \n",
       "1953 X96_European_Hare__metabat2_high_PE_013    \n",
       "     gbk_file                                                                                                                                                                                                        \n",
       "1    /ebio/abt3_projects/Georg_animal_feces/data/metagenome/multi-study/BioProjects/summary/LLMGA/wGeorgAnimal/drep-0.95/BGCs/antismash_v5/artificially_reared_2__maxbin2_low_prob_006/c00016_artific...region001.gbk\n",
       "2    /ebio/abt3_projects/Georg_animal_feces/data/metagenome/multi-study/BioProjects/summary/LLMGA/wGeorgAnimal/drep-0.95/BGCs/antismash_v5/artificially_reared_2__maxbin2_low_prob_006/c00086_artific...region001.gbk\n",
       "⋮    ⋮                                                                                                                                                                                                               \n",
       "1952 /ebio/abt3_projects/Georg_animal_feces/data/metagenome/multi-study/BioProjects/summary/LLMGA/wGeorgAnimal/drep-0.95/BGCs/antismash_v5/X95_Meadow_Viper__metabat2_low_PE_002/c00181_X95_Mea...region001.gbk      \n",
       "1953 /ebio/abt3_projects/Georg_animal_feces/data/metagenome/multi-study/BioProjects/summary/LLMGA/wGeorgAnimal/drep-0.95/BGCs/antismash_v5/X96_European_Hare__metabat2_high_PE_013/c00008_X96_Eur...region001.gbk    "
      ]
     },
     "metadata": {},
     "output_type": "display_data"
    }
   ],
   "source": [
    "# creating an index of file names\n",
    "gbk_files = data.frame(MAG = basename(dirname(gbk_files)),\n",
    "                       gbk_file = gbk_files)\n",
    "gbk_files "
   ]
  },
  {
   "cell_type": "code",
   "execution_count": 27,
   "metadata": {
    "ExecuteTime": {
     "end_time": "2020-04-29T13:17:13.447967Z",
     "start_time": "2020-04-29T13:17:09.043Z"
    }
   },
   "outputs": [
    {
     "data": {
      "text/html": [
       "<table>\n",
       "<caption>A data.frame: 1953 × 3</caption>\n",
       "<thead>\n",
       "\t<tr><th scope=col>MAG</th><th scope=col>gbk_file</th><th scope=col>BGC_ID</th></tr>\n",
       "\t<tr><th scope=col>&lt;fct&gt;</th><th scope=col>&lt;fct&gt;</th><th scope=col>&lt;fct&gt;</th></tr>\n",
       "</thead>\n",
       "<tbody>\n",
       "\t<tr><td>artificially_reared_2__maxbin2_low_prob_006</td><td>/ebio/abt3_projects/Georg_animal_feces/data/metagenome/multi-study/BioProjects/summary/LLMGA/wGeorgAnimal/drep-0.95/BGCs/antismash_v5/artificially_reared_2__maxbin2_low_prob_006/c00016_artific...region001.gbk</td><td>BGC-616e4b101d0811ea80fbacde48b9eeb0</td></tr>\n",
       "\t<tr><td>artificially_reared_2__maxbin2_low_prob_006</td><td>/ebio/abt3_projects/Georg_animal_feces/data/metagenome/multi-study/BioProjects/summary/LLMGA/wGeorgAnimal/drep-0.95/BGCs/antismash_v5/artificially_reared_2__maxbin2_low_prob_006/c00086_artific...region001.gbk</td><td>BGC-762e4883c90a474a88ad3e43eac6529e</td></tr>\n",
       "\t<tr><td>⋮</td><td>⋮</td><td>⋮</td></tr>\n",
       "\t<tr><td>X95_Meadow_Viper__metabat2_low_PE_002  </td><td>/ebio/abt3_projects/Georg_animal_feces/data/metagenome/multi-study/BioProjects/summary/LLMGA/wGeorgAnimal/drep-0.95/BGCs/antismash_v5/X95_Meadow_Viper__metabat2_low_PE_002/c00181_X95_Mea...region001.gbk  </td><td>BGC-8ad0a79939384249b230479191948b48</td></tr>\n",
       "\t<tr><td>X96_European_Hare__metabat2_high_PE_013</td><td>/ebio/abt3_projects/Georg_animal_feces/data/metagenome/multi-study/BioProjects/summary/LLMGA/wGeorgAnimal/drep-0.95/BGCs/antismash_v5/X96_European_Hare__metabat2_high_PE_013/c00008_X96_Eur...region001.gbk</td><td>BGC-d05a324fb73543649b9ab73d32b16b31</td></tr>\n",
       "</tbody>\n",
       "</table>\n"
      ],
      "text/latex": [
       "A data.frame: 1953 × 3\n",
       "\\begin{tabular}{lll}\n",
       " MAG & gbk\\_file & BGC\\_ID\\\\\n",
       " <fct> & <fct> & <fct>\\\\\n",
       "\\hline\n",
       "\t artificially\\_reared\\_2\\_\\_maxbin2\\_low\\_prob\\_006 & /ebio/abt3\\_projects/Georg\\_animal\\_feces/data/metagenome/multi-study/BioProjects/summary/LLMGA/wGeorgAnimal/drep-0.95/BGCs/antismash\\_v5/artificially\\_reared\\_2\\_\\_maxbin2\\_low\\_prob\\_006/c00016\\_artific...region001.gbk & BGC-616e4b101d0811ea80fbacde48b9eeb0\\\\\n",
       "\t artificially\\_reared\\_2\\_\\_maxbin2\\_low\\_prob\\_006 & /ebio/abt3\\_projects/Georg\\_animal\\_feces/data/metagenome/multi-study/BioProjects/summary/LLMGA/wGeorgAnimal/drep-0.95/BGCs/antismash\\_v5/artificially\\_reared\\_2\\_\\_maxbin2\\_low\\_prob\\_006/c00086\\_artific...region001.gbk & BGC-762e4883c90a474a88ad3e43eac6529e\\\\\n",
       "\t ⋮ & ⋮ & ⋮\\\\\n",
       "\t X95\\_Meadow\\_Viper\\_\\_metabat2\\_low\\_PE\\_002   & /ebio/abt3\\_projects/Georg\\_animal\\_feces/data/metagenome/multi-study/BioProjects/summary/LLMGA/wGeorgAnimal/drep-0.95/BGCs/antismash\\_v5/X95\\_Meadow\\_Viper\\_\\_metabat2\\_low\\_PE\\_002/c00181\\_X95\\_Mea...region001.gbk   & BGC-8ad0a79939384249b230479191948b48\\\\\n",
       "\t X96\\_European\\_Hare\\_\\_metabat2\\_high\\_PE\\_013 & /ebio/abt3\\_projects/Georg\\_animal\\_feces/data/metagenome/multi-study/BioProjects/summary/LLMGA/wGeorgAnimal/drep-0.95/BGCs/antismash\\_v5/X96\\_European\\_Hare\\_\\_metabat2\\_high\\_PE\\_013/c00008\\_X96\\_Eur...region001.gbk & BGC-d05a324fb73543649b9ab73d32b16b31\\\\\n",
       "\\end{tabular}\n"
      ],
      "text/markdown": [
       "\n",
       "A data.frame: 1953 × 3\n",
       "\n",
       "| MAG &lt;fct&gt; | gbk_file &lt;fct&gt; | BGC_ID &lt;fct&gt; |\n",
       "|---|---|---|\n",
       "| artificially_reared_2__maxbin2_low_prob_006 | /ebio/abt3_projects/Georg_animal_feces/data/metagenome/multi-study/BioProjects/summary/LLMGA/wGeorgAnimal/drep-0.95/BGCs/antismash_v5/artificially_reared_2__maxbin2_low_prob_006/c00016_artific...region001.gbk | BGC-616e4b101d0811ea80fbacde48b9eeb0 |\n",
       "| artificially_reared_2__maxbin2_low_prob_006 | /ebio/abt3_projects/Georg_animal_feces/data/metagenome/multi-study/BioProjects/summary/LLMGA/wGeorgAnimal/drep-0.95/BGCs/antismash_v5/artificially_reared_2__maxbin2_low_prob_006/c00086_artific...region001.gbk | BGC-762e4883c90a474a88ad3e43eac6529e |\n",
       "| ⋮ | ⋮ | ⋮ |\n",
       "| X95_Meadow_Viper__metabat2_low_PE_002   | /ebio/abt3_projects/Georg_animal_feces/data/metagenome/multi-study/BioProjects/summary/LLMGA/wGeorgAnimal/drep-0.95/BGCs/antismash_v5/X95_Meadow_Viper__metabat2_low_PE_002/c00181_X95_Mea...region001.gbk   | BGC-8ad0a79939384249b230479191948b48 |\n",
       "| X96_European_Hare__metabat2_high_PE_013 | /ebio/abt3_projects/Georg_animal_feces/data/metagenome/multi-study/BioProjects/summary/LLMGA/wGeorgAnimal/drep-0.95/BGCs/antismash_v5/X96_European_Hare__metabat2_high_PE_013/c00008_X96_Eur...region001.gbk | BGC-d05a324fb73543649b9ab73d32b16b31 |\n",
       "\n"
      ],
      "text/plain": [
       "     MAG                                        \n",
       "1    artificially_reared_2__maxbin2_low_prob_006\n",
       "2    artificially_reared_2__maxbin2_low_prob_006\n",
       "⋮    ⋮                                          \n",
       "1952 X95_Meadow_Viper__metabat2_low_PE_002      \n",
       "1953 X96_European_Hare__metabat2_high_PE_013    \n",
       "     gbk_file                                                                                                                                                                                                        \n",
       "1    /ebio/abt3_projects/Georg_animal_feces/data/metagenome/multi-study/BioProjects/summary/LLMGA/wGeorgAnimal/drep-0.95/BGCs/antismash_v5/artificially_reared_2__maxbin2_low_prob_006/c00016_artific...region001.gbk\n",
       "2    /ebio/abt3_projects/Georg_animal_feces/data/metagenome/multi-study/BioProjects/summary/LLMGA/wGeorgAnimal/drep-0.95/BGCs/antismash_v5/artificially_reared_2__maxbin2_low_prob_006/c00086_artific...region001.gbk\n",
       "⋮    ⋮                                                                                                                                                                                                               \n",
       "1952 /ebio/abt3_projects/Georg_animal_feces/data/metagenome/multi-study/BioProjects/summary/LLMGA/wGeorgAnimal/drep-0.95/BGCs/antismash_v5/X95_Meadow_Viper__metabat2_low_PE_002/c00181_X95_Mea...region001.gbk      \n",
       "1953 /ebio/abt3_projects/Georg_animal_feces/data/metagenome/multi-study/BioProjects/summary/LLMGA/wGeorgAnimal/drep-0.95/BGCs/antismash_v5/X96_European_Hare__metabat2_high_PE_013/c00008_X96_Eur...region001.gbk    \n",
       "     BGC_ID                              \n",
       "1    BGC-616e4b101d0811ea80fbacde48b9eeb0\n",
       "2    BGC-762e4883c90a474a88ad3e43eac6529e\n",
       "⋮    ⋮                                   \n",
       "1952 BGC-8ad0a79939384249b230479191948b48\n",
       "1953 BGC-d05a324fb73543649b9ab73d32b16b31"
      ]
     },
     "metadata": {},
     "output_type": "display_data"
    }
   ],
   "source": [
    "# joining with existing UUIDs\n",
    "gbk_files = gbk_files %>%\n",
    "    inner_join(read.delim(BGC_uuid_file, sep='\\t'),\n",
    "               by=c('MAG', 'gbk_file'))\n",
    "gbk_files"
   ]
  },
  {
   "cell_type": "code",
   "execution_count": 28,
   "metadata": {
    "ExecuteTime": {
     "end_time": "2020-04-29T13:17:13.460426Z",
     "start_time": "2020-04-29T13:17:09.889Z"
    }
   },
   "outputs": [],
   "source": [
    "# # creating unique BGC IDs\n",
    "# ## WARNING: this is dependent on set.seed\n",
    "# gbk_files$BGC_ID = sapply(1:nrow(gbk_files), uuid) %>%\n",
    "#    gsub('-', '', .) %>%\n",
    "#    gsub('^', 'BGC-', .) \n",
    "\n",
    "# gbk_files "
   ]
  },
  {
   "cell_type": "code",
   "execution_count": 29,
   "metadata": {
    "ExecuteTime": {
     "end_time": "2020-04-29T13:17:13.510278Z",
     "start_time": "2020-04-29T13:17:10.074Z"
    }
   },
   "outputs": [
    {
     "data": {
      "text/html": [
       "<table>\n",
       "<caption>A data.frame: 1953 × 4</caption>\n",
       "<thead>\n",
       "\t<tr><th scope=col>MAG</th><th scope=col>gbk_file</th><th scope=col>BGC_ID</th><th scope=col>out_file</th></tr>\n",
       "\t<tr><th scope=col>&lt;fct&gt;</th><th scope=col>&lt;fct&gt;</th><th scope=col>&lt;fct&gt;</th><th scope=col>&lt;chr&gt;</th></tr>\n",
       "</thead>\n",
       "<tbody>\n",
       "\t<tr><td>artificially_reared_2__maxbin2_low_prob_006</td><td>/ebio/abt3_projects/Georg_animal_feces/data/metagenome/multi-study/BioProjects/summary/LLMGA/wGeorgAnimal/drep-0.95/BGCs/antismash_v5/artificially_reared_2__maxbin2_low_prob_006/c00016_artific...region001.gbk</td><td>BGC-616e4b101d0811ea80fbacde48b9eeb0</td><td>/ebio/abt3_projects/Georg_animal_feces/data/metagenome/multi-study/BioProjects/summary/LLMGA/wGeorgAnimal/drep-0.95/BGCs/bigscape/antismash_gbks/BGC-616e4b101d0811ea80fbacde48b9eeb0.gbk</td></tr>\n",
       "\t<tr><td>artificially_reared_2__maxbin2_low_prob_006</td><td>/ebio/abt3_projects/Georg_animal_feces/data/metagenome/multi-study/BioProjects/summary/LLMGA/wGeorgAnimal/drep-0.95/BGCs/antismash_v5/artificially_reared_2__maxbin2_low_prob_006/c00086_artific...region001.gbk</td><td>BGC-762e4883c90a474a88ad3e43eac6529e</td><td>/ebio/abt3_projects/Georg_animal_feces/data/metagenome/multi-study/BioProjects/summary/LLMGA/wGeorgAnimal/drep-0.95/BGCs/bigscape/antismash_gbks/BGC-762e4883c90a474a88ad3e43eac6529e.gbk</td></tr>\n",
       "\t<tr><td>⋮</td><td>⋮</td><td>⋮</td><td>⋮</td></tr>\n",
       "\t<tr><td>X95_Meadow_Viper__metabat2_low_PE_002  </td><td>/ebio/abt3_projects/Georg_animal_feces/data/metagenome/multi-study/BioProjects/summary/LLMGA/wGeorgAnimal/drep-0.95/BGCs/antismash_v5/X95_Meadow_Viper__metabat2_low_PE_002/c00181_X95_Mea...region001.gbk  </td><td>BGC-8ad0a79939384249b230479191948b48</td><td>/ebio/abt3_projects/Georg_animal_feces/data/metagenome/multi-study/BioProjects/summary/LLMGA/wGeorgAnimal/drep-0.95/BGCs/bigscape/antismash_gbks/BGC-8ad0a79939384249b230479191948b48.gbk</td></tr>\n",
       "\t<tr><td>X96_European_Hare__metabat2_high_PE_013</td><td>/ebio/abt3_projects/Georg_animal_feces/data/metagenome/multi-study/BioProjects/summary/LLMGA/wGeorgAnimal/drep-0.95/BGCs/antismash_v5/X96_European_Hare__metabat2_high_PE_013/c00008_X96_Eur...region001.gbk</td><td>BGC-d05a324fb73543649b9ab73d32b16b31</td><td>/ebio/abt3_projects/Georg_animal_feces/data/metagenome/multi-study/BioProjects/summary/LLMGA/wGeorgAnimal/drep-0.95/BGCs/bigscape/antismash_gbks/BGC-d05a324fb73543649b9ab73d32b16b31.gbk</td></tr>\n",
       "</tbody>\n",
       "</table>\n"
      ],
      "text/latex": [
       "A data.frame: 1953 × 4\n",
       "\\begin{tabular}{llll}\n",
       " MAG & gbk\\_file & BGC\\_ID & out\\_file\\\\\n",
       " <fct> & <fct> & <fct> & <chr>\\\\\n",
       "\\hline\n",
       "\t artificially\\_reared\\_2\\_\\_maxbin2\\_low\\_prob\\_006 & /ebio/abt3\\_projects/Georg\\_animal\\_feces/data/metagenome/multi-study/BioProjects/summary/LLMGA/wGeorgAnimal/drep-0.95/BGCs/antismash\\_v5/artificially\\_reared\\_2\\_\\_maxbin2\\_low\\_prob\\_006/c00016\\_artific...region001.gbk & BGC-616e4b101d0811ea80fbacde48b9eeb0 & /ebio/abt3\\_projects/Georg\\_animal\\_feces/data/metagenome/multi-study/BioProjects/summary/LLMGA/wGeorgAnimal/drep-0.95/BGCs/bigscape/antismash\\_gbks/BGC-616e4b101d0811ea80fbacde48b9eeb0.gbk\\\\\n",
       "\t artificially\\_reared\\_2\\_\\_maxbin2\\_low\\_prob\\_006 & /ebio/abt3\\_projects/Georg\\_animal\\_feces/data/metagenome/multi-study/BioProjects/summary/LLMGA/wGeorgAnimal/drep-0.95/BGCs/antismash\\_v5/artificially\\_reared\\_2\\_\\_maxbin2\\_low\\_prob\\_006/c00086\\_artific...region001.gbk & BGC-762e4883c90a474a88ad3e43eac6529e & /ebio/abt3\\_projects/Georg\\_animal\\_feces/data/metagenome/multi-study/BioProjects/summary/LLMGA/wGeorgAnimal/drep-0.95/BGCs/bigscape/antismash\\_gbks/BGC-762e4883c90a474a88ad3e43eac6529e.gbk\\\\\n",
       "\t ⋮ & ⋮ & ⋮ & ⋮\\\\\n",
       "\t X95\\_Meadow\\_Viper\\_\\_metabat2\\_low\\_PE\\_002   & /ebio/abt3\\_projects/Georg\\_animal\\_feces/data/metagenome/multi-study/BioProjects/summary/LLMGA/wGeorgAnimal/drep-0.95/BGCs/antismash\\_v5/X95\\_Meadow\\_Viper\\_\\_metabat2\\_low\\_PE\\_002/c00181\\_X95\\_Mea...region001.gbk   & BGC-8ad0a79939384249b230479191948b48 & /ebio/abt3\\_projects/Georg\\_animal\\_feces/data/metagenome/multi-study/BioProjects/summary/LLMGA/wGeorgAnimal/drep-0.95/BGCs/bigscape/antismash\\_gbks/BGC-8ad0a79939384249b230479191948b48.gbk\\\\\n",
       "\t X96\\_European\\_Hare\\_\\_metabat2\\_high\\_PE\\_013 & /ebio/abt3\\_projects/Georg\\_animal\\_feces/data/metagenome/multi-study/BioProjects/summary/LLMGA/wGeorgAnimal/drep-0.95/BGCs/antismash\\_v5/X96\\_European\\_Hare\\_\\_metabat2\\_high\\_PE\\_013/c00008\\_X96\\_Eur...region001.gbk & BGC-d05a324fb73543649b9ab73d32b16b31 & /ebio/abt3\\_projects/Georg\\_animal\\_feces/data/metagenome/multi-study/BioProjects/summary/LLMGA/wGeorgAnimal/drep-0.95/BGCs/bigscape/antismash\\_gbks/BGC-d05a324fb73543649b9ab73d32b16b31.gbk\\\\\n",
       "\\end{tabular}\n"
      ],
      "text/markdown": [
       "\n",
       "A data.frame: 1953 × 4\n",
       "\n",
       "| MAG &lt;fct&gt; | gbk_file &lt;fct&gt; | BGC_ID &lt;fct&gt; | out_file &lt;chr&gt; |\n",
       "|---|---|---|---|\n",
       "| artificially_reared_2__maxbin2_low_prob_006 | /ebio/abt3_projects/Georg_animal_feces/data/metagenome/multi-study/BioProjects/summary/LLMGA/wGeorgAnimal/drep-0.95/BGCs/antismash_v5/artificially_reared_2__maxbin2_low_prob_006/c00016_artific...region001.gbk | BGC-616e4b101d0811ea80fbacde48b9eeb0 | /ebio/abt3_projects/Georg_animal_feces/data/metagenome/multi-study/BioProjects/summary/LLMGA/wGeorgAnimal/drep-0.95/BGCs/bigscape/antismash_gbks/BGC-616e4b101d0811ea80fbacde48b9eeb0.gbk |\n",
       "| artificially_reared_2__maxbin2_low_prob_006 | /ebio/abt3_projects/Georg_animal_feces/data/metagenome/multi-study/BioProjects/summary/LLMGA/wGeorgAnimal/drep-0.95/BGCs/antismash_v5/artificially_reared_2__maxbin2_low_prob_006/c00086_artific...region001.gbk | BGC-762e4883c90a474a88ad3e43eac6529e | /ebio/abt3_projects/Georg_animal_feces/data/metagenome/multi-study/BioProjects/summary/LLMGA/wGeorgAnimal/drep-0.95/BGCs/bigscape/antismash_gbks/BGC-762e4883c90a474a88ad3e43eac6529e.gbk |\n",
       "| ⋮ | ⋮ | ⋮ | ⋮ |\n",
       "| X95_Meadow_Viper__metabat2_low_PE_002   | /ebio/abt3_projects/Georg_animal_feces/data/metagenome/multi-study/BioProjects/summary/LLMGA/wGeorgAnimal/drep-0.95/BGCs/antismash_v5/X95_Meadow_Viper__metabat2_low_PE_002/c00181_X95_Mea...region001.gbk   | BGC-8ad0a79939384249b230479191948b48 | /ebio/abt3_projects/Georg_animal_feces/data/metagenome/multi-study/BioProjects/summary/LLMGA/wGeorgAnimal/drep-0.95/BGCs/bigscape/antismash_gbks/BGC-8ad0a79939384249b230479191948b48.gbk |\n",
       "| X96_European_Hare__metabat2_high_PE_013 | /ebio/abt3_projects/Georg_animal_feces/data/metagenome/multi-study/BioProjects/summary/LLMGA/wGeorgAnimal/drep-0.95/BGCs/antismash_v5/X96_European_Hare__metabat2_high_PE_013/c00008_X96_Eur...region001.gbk | BGC-d05a324fb73543649b9ab73d32b16b31 | /ebio/abt3_projects/Georg_animal_feces/data/metagenome/multi-study/BioProjects/summary/LLMGA/wGeorgAnimal/drep-0.95/BGCs/bigscape/antismash_gbks/BGC-d05a324fb73543649b9ab73d32b16b31.gbk |\n",
       "\n"
      ],
      "text/plain": [
       "     MAG                                        \n",
       "1    artificially_reared_2__maxbin2_low_prob_006\n",
       "2    artificially_reared_2__maxbin2_low_prob_006\n",
       "⋮    ⋮                                          \n",
       "1952 X95_Meadow_Viper__metabat2_low_PE_002      \n",
       "1953 X96_European_Hare__metabat2_high_PE_013    \n",
       "     gbk_file                                                                                                                                                                                                        \n",
       "1    /ebio/abt3_projects/Georg_animal_feces/data/metagenome/multi-study/BioProjects/summary/LLMGA/wGeorgAnimal/drep-0.95/BGCs/antismash_v5/artificially_reared_2__maxbin2_low_prob_006/c00016_artific...region001.gbk\n",
       "2    /ebio/abt3_projects/Georg_animal_feces/data/metagenome/multi-study/BioProjects/summary/LLMGA/wGeorgAnimal/drep-0.95/BGCs/antismash_v5/artificially_reared_2__maxbin2_low_prob_006/c00086_artific...region001.gbk\n",
       "⋮    ⋮                                                                                                                                                                                                               \n",
       "1952 /ebio/abt3_projects/Georg_animal_feces/data/metagenome/multi-study/BioProjects/summary/LLMGA/wGeorgAnimal/drep-0.95/BGCs/antismash_v5/X95_Meadow_Viper__metabat2_low_PE_002/c00181_X95_Mea...region001.gbk      \n",
       "1953 /ebio/abt3_projects/Georg_animal_feces/data/metagenome/multi-study/BioProjects/summary/LLMGA/wGeorgAnimal/drep-0.95/BGCs/antismash_v5/X96_European_Hare__metabat2_high_PE_013/c00008_X96_Eur...region001.gbk    \n",
       "     BGC_ID                              \n",
       "1    BGC-616e4b101d0811ea80fbacde48b9eeb0\n",
       "2    BGC-762e4883c90a474a88ad3e43eac6529e\n",
       "⋮    ⋮                                   \n",
       "1952 BGC-8ad0a79939384249b230479191948b48\n",
       "1953 BGC-d05a324fb73543649b9ab73d32b16b31\n",
       "     out_file                                                                                                                                                                                 \n",
       "1    /ebio/abt3_projects/Georg_animal_feces/data/metagenome/multi-study/BioProjects/summary/LLMGA/wGeorgAnimal/drep-0.95/BGCs/bigscape/antismash_gbks/BGC-616e4b101d0811ea80fbacde48b9eeb0.gbk\n",
       "2    /ebio/abt3_projects/Georg_animal_feces/data/metagenome/multi-study/BioProjects/summary/LLMGA/wGeorgAnimal/drep-0.95/BGCs/bigscape/antismash_gbks/BGC-762e4883c90a474a88ad3e43eac6529e.gbk\n",
       "⋮    ⋮                                                                                                                                                                                        \n",
       "1952 /ebio/abt3_projects/Georg_animal_feces/data/metagenome/multi-study/BioProjects/summary/LLMGA/wGeorgAnimal/drep-0.95/BGCs/bigscape/antismash_gbks/BGC-8ad0a79939384249b230479191948b48.gbk\n",
       "1953 /ebio/abt3_projects/Georg_animal_feces/data/metagenome/multi-study/BioProjects/summary/LLMGA/wGeorgAnimal/drep-0.95/BGCs/bigscape/antismash_gbks/BGC-d05a324fb73543649b9ab73d32b16b31.gbk"
      ]
     },
     "metadata": {},
     "output_type": "display_data"
    }
   ],
   "source": [
    "# creating output file names\n",
    "gbk_files = gbk_files %>%\n",
    "    mutate(X = antismash_gbk_dir,\n",
    "           Y = gsub('$', '.gbk', BGC_ID)) %>%\n",
    "    unite(out_file, X, Y, sep='/') \n",
    "\n",
    "gbk_files"
   ]
  },
  {
   "cell_type": "code",
   "execution_count": 26,
   "metadata": {
    "ExecuteTime": {
     "end_time": "2020-01-22T09:23:55.450547Z",
     "start_time": "2020-01-22T09:23:53.877Z"
    }
   },
   "outputs": [
    {
     "data": {
      "text/html": [
       "1953"
      ],
      "text/latex": [
       "1953"
      ],
      "text/markdown": [
       "1953"
      ],
      "text/plain": [
       "[1] 1953"
      ]
     },
     "metadata": {},
     "output_type": "display_data"
    }
   ],
   "source": [
    "# copying files\n",
    "cp_file = function(in_file, out_file){\n",
    "    if(out_file == in_file){\n",
    "        stop('output == input')\n",
    "    }\n",
    "    file.copy(in_file, out_file, overwrite = TRUE)\n",
    "}\n",
    "\n",
    "ret = mapply(cp_file, \n",
    "             in_file=gbk_files$gbk_file %>% as.character, \n",
    "             out_file=gbk_files$out_file %>% as.character)\n",
    "ret %>% length"
   ]
  },
  {
   "cell_type": "code",
   "execution_count": 27,
   "metadata": {
    "ExecuteTime": {
     "end_time": "2020-01-22T09:23:56.103626Z",
     "start_time": "2020-01-22T09:23:56.052Z"
    }
   },
   "outputs": [
    {
     "name": "stdout",
     "output_type": "stream",
     "text": [
      "[1] 1953\n"
     ]
    }
   ],
   "source": [
    "# checking number of files\n",
    "list.files(antismash_gbk_dir, '*.gbk') %>% length %>% print"
   ]
  },
  {
   "cell_type": "markdown",
   "metadata": {},
   "source": [
    "## Writing table of BGC IDs"
   ]
  },
  {
   "cell_type": "code",
   "execution_count": null,
   "metadata": {
    "ExecuteTime": {
     "end_time": "2019-12-12T17:55:48.628025Z",
     "start_time": "2019-12-12T17:55:48.491Z"
    }
   },
   "outputs": [],
   "source": [
    "# WARNING: not needed unless changing \n",
    "BGC_id_file = file.path(antismash_dir, 'BGC_uuids.tsv')\n",
    "gbk_files %>%\n",
    "    dplyr::select(BGC_ID, MAG, gbk_file) %>%\n",
    "    write.table(file=BGC_id_file, sep='\\t', quote=FALSE, row.names=FALSE)\n",
    "cat('File written:', BGC_id_file, '\\n')"
   ]
  },
  {
   "cell_type": "markdown",
   "metadata": {},
   "source": [
    "# BiGSCAPE"
   ]
  },
  {
   "cell_type": "code",
   "execution_count": null,
   "metadata": {
    "ExecuteTime": {
     "end_time": "2019-12-13T11:04:00.177995Z",
     "start_time": "2019-12-13T11:04:00.116Z"
    }
   },
   "outputs": [],
   "source": [
    "exe = '/ebio/abt3_projects/Georg_animal_feces/bin/BiG-SCAPE/bigscape.py'\n",
    "cmd = '{exe} -i {in_dir} -o {out_dir} --pfam_dir {pfam_dir} --cores {threads} --mibig --include_gbk_str \\\"*\\\"'\n",
    "cmd = glue::glue(cmd, exe=exe,\n",
    "                 in_dir=antismash_gbk_dir, \n",
    "                 out_dir=work_dir, pfam_dir=pfam_dir,\n",
    "                 threads=threads)\n",
    "cmd"
   ]
  },
  {
   "cell_type": "code",
   "execution_count": null,
   "metadata": {
    "ExecuteTime": {
     "end_time": "2019-12-13T11:17:48.067036Z",
     "start_time": "2019-12-13T11:17:48.012Z"
    }
   },
   "outputs": [],
   "source": [
    "bash_job(cmd, conda_env=conda_env, stderr=TRUE)"
   ]
  },
  {
   "cell_type": "markdown",
   "metadata": {},
   "source": [
    "# Summary"
   ]
  },
  {
   "cell_type": "code",
   "execution_count": 77,
   "metadata": {
    "ExecuteTime": {
     "end_time": "2020-02-27T15:17:46.480262Z",
     "start_time": "2020-02-27T15:17:46.447Z"
    }
   },
   "outputs": [
    {
     "name": "stdout",
     "output_type": "stream",
     "text": [
      "Output: /ebio/abt3_projects/Georg_animal_feces/data/metagenome/multi-study/BioProjects/summary/LLMGA/wGeorgAnimal/drep-0.95/BGCs/bigscape \n"
     ]
    }
   ],
   "source": [
    "cat('Output:', work_dir, '\\n')"
   ]
  },
  {
   "cell_type": "code",
   "execution_count": null,
   "metadata": {
    "ExecuteTime": {
     "end_time": "2020-01-21T16:08:00.224162Z",
     "start_time": "2020-01-21T16:08:00.190Z"
    }
   },
   "outputs": [],
   "source": [
    "list.files(file.path(work_dir, 'html_content'))"
   ]
  },
  {
   "cell_type": "markdown",
   "metadata": {},
   "source": [
    "## Load"
   ]
  },
  {
   "cell_type": "code",
   "execution_count": 19,
   "metadata": {
    "ExecuteTime": {
     "end_time": "2020-04-29T13:16:46.417646Z",
     "start_time": "2020-04-29T13:16:46.323Z"
    }
   },
   "outputs": [
    {
     "data": {
      "text/html": [
       "8"
      ],
      "text/latex": [
       "8"
      ],
      "text/markdown": [
       "8"
      ],
      "text/plain": [
       "[1] 8"
      ]
     },
     "metadata": {},
     "output_type": "display_data"
    }
   ],
   "source": [
    "# Loading all clan files\n",
    "clan_files = list.files(file.path(work_dir, 'network_files'), \n",
    "           pattern='*_clans_0.30_0.70.tsv',\n",
    "           recursive=TRUE, full.names=TRUE)\n",
    "\n",
    "clan_files %>% length"
   ]
  },
  {
   "cell_type": "code",
   "execution_count": 20,
   "metadata": {
    "ExecuteTime": {
     "end_time": "2020-04-29T13:16:46.888757Z",
     "start_time": "2020-04-29T13:16:46.685Z"
    }
   },
   "outputs": [
    {
     "data": {
      "text/html": [
       "1995"
      ],
      "text/latex": [
       "1995"
      ],
      "text/markdown": [
       "1995"
      ],
      "text/plain": [
       "[1] 1995"
      ]
     },
     "metadata": {},
     "output_type": "display_data"
    },
    {
     "data": {
      "text/html": [
       "1964"
      ],
      "text/latex": [
       "1964"
      ],
      "text/markdown": [
       "1964"
      ],
      "text/plain": [
       "[1] 1964"
      ]
     },
     "metadata": {},
     "output_type": "display_data"
    },
    {
     "data": {
      "text/plain": [
       ".\n",
       "           NRPS          Others PKS-NRP_Hybrids            PKSI        PKSother \n",
       "            661             513               9              31              93 \n",
       "          RiPPs     Saccharides         Terpene \n",
       "            565               2             121 "
      ]
     },
     "metadata": {},
     "output_type": "display_data"
    },
    {
     "data": {
      "text/plain": [
       ".\n",
       "FALSE  TRUE \n",
       "   14  1981 "
      ]
     },
     "metadata": {},
     "output_type": "display_data"
    },
    {
     "data": {
      "text/html": [
       "<table>\n",
       "<caption>A data.frame: 1995 × 5</caption>\n",
       "<thead>\n",
       "\t<tr><th scope=col>X.BGC.Name</th><th scope=col>Clan.Number</th><th scope=col>Family.Number</th><th scope=col>BGC_type</th><th scope=col>MAG_BGC</th></tr>\n",
       "\t<tr><th scope=col>&lt;fct&gt;</th><th scope=col>&lt;int&gt;</th><th scope=col>&lt;int&gt;</th><th scope=col>&lt;chr&gt;</th><th scope=col>&lt;lgl&gt;</th></tr>\n",
       "</thead>\n",
       "<tbody>\n",
       "\t<tr><td>BGC-0005d06b1fd5420cbb1ba1f265ea1f71</td><td>0</td><td>0</td><td>NRPS</td><td>TRUE</td></tr>\n",
       "\t<tr><td>BGC-006c4606d91f4793907ca48884886cf7</td><td>5</td><td>5</td><td>NRPS</td><td>TRUE</td></tr>\n",
       "\t<tr><td>⋮</td><td>⋮</td><td>⋮</td><td>⋮</td><td>⋮</td></tr>\n",
       "\t<tr><td>BGC-c8ed898714b84aa4ab4e38788299d8ce</td><td>1527</td><td>1527</td><td>Terpene</td><td>TRUE</td></tr>\n",
       "\t<tr><td>BGC-41d3a752a38445b39f4a0cc94e9c8335</td><td> 508</td><td> 508</td><td>Terpene</td><td>TRUE</td></tr>\n",
       "</tbody>\n",
       "</table>\n"
      ],
      "text/latex": [
       "A data.frame: 1995 × 5\n",
       "\\begin{tabular}{lllll}\n",
       " X.BGC.Name & Clan.Number & Family.Number & BGC\\_type & MAG\\_BGC\\\\\n",
       " <fct> & <int> & <int> & <chr> & <lgl>\\\\\n",
       "\\hline\n",
       "\t BGC-0005d06b1fd5420cbb1ba1f265ea1f71 & 0 & 0 & NRPS & TRUE\\\\\n",
       "\t BGC-006c4606d91f4793907ca48884886cf7 & 5 & 5 & NRPS & TRUE\\\\\n",
       "\t ⋮ & ⋮ & ⋮ & ⋮ & ⋮\\\\\n",
       "\t BGC-c8ed898714b84aa4ab4e38788299d8ce & 1527 & 1527 & Terpene & TRUE\\\\\n",
       "\t BGC-41d3a752a38445b39f4a0cc94e9c8335 &  508 &  508 & Terpene & TRUE\\\\\n",
       "\\end{tabular}\n"
      ],
      "text/markdown": [
       "\n",
       "A data.frame: 1995 × 5\n",
       "\n",
       "| X.BGC.Name &lt;fct&gt; | Clan.Number &lt;int&gt; | Family.Number &lt;int&gt; | BGC_type &lt;chr&gt; | MAG_BGC &lt;lgl&gt; |\n",
       "|---|---|---|---|---|\n",
       "| BGC-0005d06b1fd5420cbb1ba1f265ea1f71 | 0 | 0 | NRPS | TRUE |\n",
       "| BGC-006c4606d91f4793907ca48884886cf7 | 5 | 5 | NRPS | TRUE |\n",
       "| ⋮ | ⋮ | ⋮ | ⋮ | ⋮ |\n",
       "| BGC-c8ed898714b84aa4ab4e38788299d8ce | 1527 | 1527 | Terpene | TRUE |\n",
       "| BGC-41d3a752a38445b39f4a0cc94e9c8335 |  508 |  508 | Terpene | TRUE |\n",
       "\n"
      ],
      "text/plain": [
       "     X.BGC.Name                           Clan.Number Family.Number BGC_type\n",
       "1    BGC-0005d06b1fd5420cbb1ba1f265ea1f71 0           0             NRPS    \n",
       "2    BGC-006c4606d91f4793907ca48884886cf7 5           5             NRPS    \n",
       "⋮    ⋮                                    ⋮           ⋮             ⋮       \n",
       "1994 BGC-c8ed898714b84aa4ab4e38788299d8ce 1527        1527          Terpene \n",
       "1995 BGC-41d3a752a38445b39f4a0cc94e9c8335  508         508          Terpene \n",
       "     MAG_BGC\n",
       "1    TRUE   \n",
       "2    TRUE   \n",
       "⋮    ⋮      \n",
       "1994 TRUE   \n",
       "1995 TRUE   "
      ]
     },
     "metadata": {},
     "output_type": "display_data"
    }
   ],
   "source": [
    "#' function to merge clans\n",
    "merge_clans = function(F){\n",
    "    df = read.delim(F, sep='\\t')\n",
    "    df$BGC_type = F %>% dirname %>% basename\n",
    "    return(df)\n",
    "}\n",
    "\n",
    "clans = clan_files %>% \n",
    "    as.list %>%\n",
    "    lapply(merge_clans) %>%\n",
    "    do.call(rbind, .) %>%\n",
    "    mutate(MAG_BGC = grepl('^BGC-', X.BGC.Name))\n",
    "\n",
    "# status\n",
    "clans$X.BGC.Name %>% length\n",
    "clans$X.BGC.Name %>% unique %>% length\n",
    "clans$BGC_type %>% table\n",
    "clans$MAG_BGC %>% table\n",
    "clans"
   ]
  },
  {
   "cell_type": "code",
   "execution_count": 21,
   "metadata": {
    "ExecuteTime": {
     "end_time": "2020-04-29T13:16:49.017718Z",
     "start_time": "2020-04-29T13:16:48.947Z"
    }
   },
   "outputs": [
    {
     "name": "stdout",
     "output_type": "stream",
     "text": [
      "No. of clans: 1305 \n",
      "No. of families: 1764 \n"
     ]
    }
   ],
   "source": [
    "# numbers of clans & families\n",
    "cat('No. of clans:', clans %>%\n",
    "    filter(MAG_BGC == TRUE) %>%\n",
    "    .$Clan.Number %>% unique %>% length, '\\n')\n",
    "cat('No. of families:', clans %>%\n",
    "    filter(MAG_BGC == TRUE) %>%\n",
    "    .$Family.Number %>% unique %>% length, '\\n')"
   ]
  },
  {
   "cell_type": "code",
   "execution_count": 31,
   "metadata": {
    "ExecuteTime": {
     "end_time": "2020-04-29T13:18:20.545908Z",
     "start_time": "2020-04-29T13:18:20.466Z"
    }
   },
   "outputs": [
    {
     "name": "stderr",
     "output_type": "stream",
     "text": [
      "Warning message:\n",
      "“Column `X.BGC.Name`/`BGC_ID` joining character vector and factor, coercing into character vector”\n"
     ]
    },
    {
     "data": {
      "text/html": [
       "<table>\n",
       "<caption>A data.frame: 1995 × 8</caption>\n",
       "<thead>\n",
       "\t<tr><th scope=col>X.BGC.Name</th><th scope=col>Clan.Number</th><th scope=col>Family.Number</th><th scope=col>BGC_type</th><th scope=col>MAG_BGC</th><th scope=col>MAG.x</th><th scope=col>MAG.y</th><th scope=col>gbk_file</th></tr>\n",
       "\t<tr><th scope=col>&lt;chr&gt;</th><th scope=col>&lt;int&gt;</th><th scope=col>&lt;int&gt;</th><th scope=col>&lt;chr&gt;</th><th scope=col>&lt;lgl&gt;</th><th scope=col>&lt;fct&gt;</th><th scope=col>&lt;fct&gt;</th><th scope=col>&lt;fct&gt;</th></tr>\n",
       "</thead>\n",
       "<tbody>\n",
       "\t<tr><td>BGC-0005d06b1fd5420cbb1ba1f265ea1f71</td><td>0</td><td>0</td><td>NRPS</td><td>TRUE</td><td>SAMEA104315434__metabat2_high_PE_014</td><td>SAMEA104315434__metabat2_high_PE_014</td><td>/ebio/abt3_projects/Georg_animal_feces/data/metagenome/multi-study/BioProjects/summary/LLMGA/wGeorgAnimal/drep-0.95/BGCs/antismash_v5/SAMEA104315434__metabat2_high_PE_014/c00038_SAMEA10...region001.gbk</td></tr>\n",
       "\t<tr><td>BGC-006c4606d91f4793907ca48884886cf7</td><td>5</td><td>5</td><td>NRPS</td><td>TRUE</td><td>R04__metabat2_low_PE_045            </td><td>R04__metabat2_low_PE_045            </td><td>/ebio/abt3_projects/Georg_animal_feces/data/metagenome/multi-study/BioProjects/summary/LLMGA/wGeorgAnimal/drep-0.95/BGCs/antismash_v5/R04__metabat2_low_PE_045/c00311_R04__co...region001.gbk            </td></tr>\n",
       "\t<tr><td>⋮</td><td>⋮</td><td>⋮</td><td>⋮</td><td>⋮</td><td>⋮</td><td>⋮</td><td>⋮</td></tr>\n",
       "\t<tr><td>BGC-c8ed898714b84aa4ab4e38788299d8ce</td><td>1527</td><td>1527</td><td>Terpene</td><td>TRUE</td><td>X190_Common_House_Gecko__metabat2_low_PE_001</td><td>X190_Common_House_Gecko__metabat2_low_PE_001</td><td>/ebio/abt3_projects/Georg_animal_feces/data/metagenome/multi-study/BioProjects/summary/LLMGA/wGeorgAnimal/drep-0.95/BGCs/antismash_v5/X190_Common_House_Gecko__metabat2_low_PE_001/c00208_X190_Co...region001.gbk</td></tr>\n",
       "\t<tr><td>BGC-41d3a752a38445b39f4a0cc94e9c8335</td><td> 508</td><td> 508</td><td>Terpene</td><td>TRUE</td><td>Garnier_p2__metabat2_high_PE_037            </td><td>Garnier_p2__metabat2_high_PE_037            </td><td>/ebio/abt3_projects/Georg_animal_feces/data/metagenome/multi-study/BioProjects/summary/LLMGA/wGeorgAnimal/drep-0.95/BGCs/antismash_v5/Garnier_p2__metabat2_high_PE_037/c00010_Garnier...region001.gbk            </td></tr>\n",
       "</tbody>\n",
       "</table>\n"
      ],
      "text/latex": [
       "A data.frame: 1995 × 8\n",
       "\\begin{tabular}{llllllll}\n",
       " X.BGC.Name & Clan.Number & Family.Number & BGC\\_type & MAG\\_BGC & MAG.x & MAG.y & gbk\\_file\\\\\n",
       " <chr> & <int> & <int> & <chr> & <lgl> & <fct> & <fct> & <fct>\\\\\n",
       "\\hline\n",
       "\t BGC-0005d06b1fd5420cbb1ba1f265ea1f71 & 0 & 0 & NRPS & TRUE & SAMEA104315434\\_\\_metabat2\\_high\\_PE\\_014 & SAMEA104315434\\_\\_metabat2\\_high\\_PE\\_014 & /ebio/abt3\\_projects/Georg\\_animal\\_feces/data/metagenome/multi-study/BioProjects/summary/LLMGA/wGeorgAnimal/drep-0.95/BGCs/antismash\\_v5/SAMEA104315434\\_\\_metabat2\\_high\\_PE\\_014/c00038\\_SAMEA10...region001.gbk\\\\\n",
       "\t BGC-006c4606d91f4793907ca48884886cf7 & 5 & 5 & NRPS & TRUE & R04\\_\\_metabat2\\_low\\_PE\\_045             & R04\\_\\_metabat2\\_low\\_PE\\_045             & /ebio/abt3\\_projects/Georg\\_animal\\_feces/data/metagenome/multi-study/BioProjects/summary/LLMGA/wGeorgAnimal/drep-0.95/BGCs/antismash\\_v5/R04\\_\\_metabat2\\_low\\_PE\\_045/c00311\\_R04\\_\\_co...region001.gbk            \\\\\n",
       "\t ⋮ & ⋮ & ⋮ & ⋮ & ⋮ & ⋮ & ⋮ & ⋮\\\\\n",
       "\t BGC-c8ed898714b84aa4ab4e38788299d8ce & 1527 & 1527 & Terpene & TRUE & X190\\_Common\\_House\\_Gecko\\_\\_metabat2\\_low\\_PE\\_001 & X190\\_Common\\_House\\_Gecko\\_\\_metabat2\\_low\\_PE\\_001 & /ebio/abt3\\_projects/Georg\\_animal\\_feces/data/metagenome/multi-study/BioProjects/summary/LLMGA/wGeorgAnimal/drep-0.95/BGCs/antismash\\_v5/X190\\_Common\\_House\\_Gecko\\_\\_metabat2\\_low\\_PE\\_001/c00208\\_X190\\_Co...region001.gbk\\\\\n",
       "\t BGC-41d3a752a38445b39f4a0cc94e9c8335 &  508 &  508 & Terpene & TRUE & Garnier\\_p2\\_\\_metabat2\\_high\\_PE\\_037             & Garnier\\_p2\\_\\_metabat2\\_high\\_PE\\_037             & /ebio/abt3\\_projects/Georg\\_animal\\_feces/data/metagenome/multi-study/BioProjects/summary/LLMGA/wGeorgAnimal/drep-0.95/BGCs/antismash\\_v5/Garnier\\_p2\\_\\_metabat2\\_high\\_PE\\_037/c00010\\_Garnier...region001.gbk            \\\\\n",
       "\\end{tabular}\n"
      ],
      "text/markdown": [
       "\n",
       "A data.frame: 1995 × 8\n",
       "\n",
       "| X.BGC.Name &lt;chr&gt; | Clan.Number &lt;int&gt; | Family.Number &lt;int&gt; | BGC_type &lt;chr&gt; | MAG_BGC &lt;lgl&gt; | MAG.x &lt;fct&gt; | MAG.y &lt;fct&gt; | gbk_file &lt;fct&gt; |\n",
       "|---|---|---|---|---|---|---|---|\n",
       "| BGC-0005d06b1fd5420cbb1ba1f265ea1f71 | 0 | 0 | NRPS | TRUE | SAMEA104315434__metabat2_high_PE_014 | SAMEA104315434__metabat2_high_PE_014 | /ebio/abt3_projects/Georg_animal_feces/data/metagenome/multi-study/BioProjects/summary/LLMGA/wGeorgAnimal/drep-0.95/BGCs/antismash_v5/SAMEA104315434__metabat2_high_PE_014/c00038_SAMEA10...region001.gbk |\n",
       "| BGC-006c4606d91f4793907ca48884886cf7 | 5 | 5 | NRPS | TRUE | R04__metabat2_low_PE_045             | R04__metabat2_low_PE_045             | /ebio/abt3_projects/Georg_animal_feces/data/metagenome/multi-study/BioProjects/summary/LLMGA/wGeorgAnimal/drep-0.95/BGCs/antismash_v5/R04__metabat2_low_PE_045/c00311_R04__co...region001.gbk             |\n",
       "| ⋮ | ⋮ | ⋮ | ⋮ | ⋮ | ⋮ | ⋮ | ⋮ |\n",
       "| BGC-c8ed898714b84aa4ab4e38788299d8ce | 1527 | 1527 | Terpene | TRUE | X190_Common_House_Gecko__metabat2_low_PE_001 | X190_Common_House_Gecko__metabat2_low_PE_001 | /ebio/abt3_projects/Georg_animal_feces/data/metagenome/multi-study/BioProjects/summary/LLMGA/wGeorgAnimal/drep-0.95/BGCs/antismash_v5/X190_Common_House_Gecko__metabat2_low_PE_001/c00208_X190_Co...region001.gbk |\n",
       "| BGC-41d3a752a38445b39f4a0cc94e9c8335 |  508 |  508 | Terpene | TRUE | Garnier_p2__metabat2_high_PE_037             | Garnier_p2__metabat2_high_PE_037             | /ebio/abt3_projects/Georg_animal_feces/data/metagenome/multi-study/BioProjects/summary/LLMGA/wGeorgAnimal/drep-0.95/BGCs/antismash_v5/Garnier_p2__metabat2_high_PE_037/c00010_Garnier...region001.gbk             |\n",
       "\n"
      ],
      "text/plain": [
       "     X.BGC.Name                           Clan.Number Family.Number BGC_type\n",
       "1    BGC-0005d06b1fd5420cbb1ba1f265ea1f71 0           0             NRPS    \n",
       "2    BGC-006c4606d91f4793907ca48884886cf7 5           5             NRPS    \n",
       "⋮    ⋮                                    ⋮           ⋮             ⋮       \n",
       "1994 BGC-c8ed898714b84aa4ab4e38788299d8ce 1527        1527          Terpene \n",
       "1995 BGC-41d3a752a38445b39f4a0cc94e9c8335  508         508          Terpene \n",
       "     MAG_BGC MAG.x                                       \n",
       "1    TRUE    SAMEA104315434__metabat2_high_PE_014        \n",
       "2    TRUE    R04__metabat2_low_PE_045                    \n",
       "⋮    ⋮       ⋮                                           \n",
       "1994 TRUE    X190_Common_House_Gecko__metabat2_low_PE_001\n",
       "1995 TRUE    Garnier_p2__metabat2_high_PE_037            \n",
       "     MAG.y                                       \n",
       "1    SAMEA104315434__metabat2_high_PE_014        \n",
       "2    R04__metabat2_low_PE_045                    \n",
       "⋮    ⋮                                           \n",
       "1994 X190_Common_House_Gecko__metabat2_low_PE_001\n",
       "1995 Garnier_p2__metabat2_high_PE_037            \n",
       "     gbk_file                                                                                                                                                                                                         \n",
       "1    /ebio/abt3_projects/Georg_animal_feces/data/metagenome/multi-study/BioProjects/summary/LLMGA/wGeorgAnimal/drep-0.95/BGCs/antismash_v5/SAMEA104315434__metabat2_high_PE_014/c00038_SAMEA10...region001.gbk        \n",
       "2    /ebio/abt3_projects/Georg_animal_feces/data/metagenome/multi-study/BioProjects/summary/LLMGA/wGeorgAnimal/drep-0.95/BGCs/antismash_v5/R04__metabat2_low_PE_045/c00311_R04__co...region001.gbk                    \n",
       "⋮    ⋮                                                                                                                                                                                                                \n",
       "1994 /ebio/abt3_projects/Georg_animal_feces/data/metagenome/multi-study/BioProjects/summary/LLMGA/wGeorgAnimal/drep-0.95/BGCs/antismash_v5/X190_Common_House_Gecko__metabat2_low_PE_001/c00208_X190_Co...region001.gbk\n",
       "1995 /ebio/abt3_projects/Georg_animal_feces/data/metagenome/multi-study/BioProjects/summary/LLMGA/wGeorgAnimal/drep-0.95/BGCs/antismash_v5/Garnier_p2__metabat2_high_PE_037/c00010_Garnier...region001.gbk            "
      ]
     },
     "metadata": {},
     "output_type": "display_data"
    }
   ],
   "source": [
    "clans = clans %>%\n",
    "    left_join(gbk_files %>% dplyr::select(-out_file), \n",
    "               by=c('X.BGC.Name'='BGC_ID'))\n",
    "clans"
   ]
  },
  {
   "cell_type": "code",
   "execution_count": 44,
   "metadata": {
    "ExecuteTime": {
     "end_time": "2020-04-29T13:24:32.372837Z",
     "start_time": "2020-04-29T13:24:32.264Z"
    }
   },
   "outputs": [
    {
     "name": "stdout",
     "output_type": "stream",
     "text": [
      "File written: /ebio/abt3_projects/Georg_animal_feces/data/metagenome/multi-study/BioProjects/summary/LLMGA/wGeorgAnimal/drep-0.95/BGCs/bigscape/BGC-BiGSCAPE_summary.tsv \n"
     ]
    }
   ],
   "source": [
    "# adding BGC metadata & writing table\n",
    "BGC_summary_file = file.path(work_dir, 'BGC-BiGSCAPE_summary.tsv')\n",
    "BGC_meta = read.delim(BGC_meta_file, sep='\\t')\n",
    "BGC_meta %>%\n",
    "    left_join(clans, c('gbk_file')) %>%\n",
    "    distinct(product, gbk_file, X.BGC.Name, .keep_all=TRUE) %>%\n",
    "    dplyr::select(genome_ID, product, Clan.Number, Family.Number, BGC_type) %>%\n",
    "    write_table(BGC_summary_file)"
   ]
  },
  {
   "cell_type": "markdown",
   "metadata": {},
   "source": [
    "## Summarize"
   ]
  },
  {
   "cell_type": "code",
   "execution_count": 38,
   "metadata": {
    "ExecuteTime": {
     "end_time": "2020-01-22T09:26:08.465592Z",
     "start_time": "2020-01-22T09:26:08.406Z"
    }
   },
   "outputs": [
    {
     "data": {
      "text/html": [
       "<table>\n",
       "<caption>A tibble: 14 × 3</caption>\n",
       "<thead>\n",
       "\t<tr><th scope=col>BGC_type</th><th scope=col>MAG_BGC</th><th scope=col>n</th></tr>\n",
       "\t<tr><th scope=col>&lt;chr&gt;</th><th scope=col>&lt;lgl&gt;</th><th scope=col>&lt;int&gt;</th></tr>\n",
       "</thead>\n",
       "<tbody>\n",
       "\t<tr><td>NRPS           </td><td>FALSE</td><td>  2</td></tr>\n",
       "\t<tr><td>Others         </td><td>FALSE</td><td>  1</td></tr>\n",
       "\t<tr><td>PKS-NRP_Hybrids</td><td>FALSE</td><td>  1</td></tr>\n",
       "\t<tr><td>PKSother       </td><td>FALSE</td><td>  6</td></tr>\n",
       "\t<tr><td>RiPPs          </td><td>FALSE</td><td>  3</td></tr>\n",
       "\t<tr><td>Terpene        </td><td>FALSE</td><td>  1</td></tr>\n",
       "\t<tr><td>NRPS           </td><td> TRUE</td><td>659</td></tr>\n",
       "\t<tr><td>Others         </td><td> TRUE</td><td>512</td></tr>\n",
       "\t<tr><td>PKS-NRP_Hybrids</td><td> TRUE</td><td>  8</td></tr>\n",
       "\t<tr><td>PKSI           </td><td> TRUE</td><td> 31</td></tr>\n",
       "\t<tr><td>PKSother       </td><td> TRUE</td><td> 87</td></tr>\n",
       "\t<tr><td>RiPPs          </td><td> TRUE</td><td>562</td></tr>\n",
       "\t<tr><td>Saccharides    </td><td> TRUE</td><td>  2</td></tr>\n",
       "\t<tr><td>Terpene        </td><td> TRUE</td><td>120</td></tr>\n",
       "</tbody>\n",
       "</table>\n"
      ],
      "text/latex": [
       "A tibble: 14 × 3\n",
       "\\begin{tabular}{lll}\n",
       " BGC\\_type & MAG\\_BGC & n\\\\\n",
       " <chr> & <lgl> & <int>\\\\\n",
       "\\hline\n",
       "\t NRPS            & FALSE &   2\\\\\n",
       "\t Others          & FALSE &   1\\\\\n",
       "\t PKS-NRP\\_Hybrids & FALSE &   1\\\\\n",
       "\t PKSother        & FALSE &   6\\\\\n",
       "\t RiPPs           & FALSE &   3\\\\\n",
       "\t Terpene         & FALSE &   1\\\\\n",
       "\t NRPS            &  TRUE & 659\\\\\n",
       "\t Others          &  TRUE & 512\\\\\n",
       "\t PKS-NRP\\_Hybrids &  TRUE &   8\\\\\n",
       "\t PKSI            &  TRUE &  31\\\\\n",
       "\t PKSother        &  TRUE &  87\\\\\n",
       "\t RiPPs           &  TRUE & 562\\\\\n",
       "\t Saccharides     &  TRUE &   2\\\\\n",
       "\t Terpene         &  TRUE & 120\\\\\n",
       "\\end{tabular}\n"
      ],
      "text/markdown": [
       "\n",
       "A tibble: 14 × 3\n",
       "\n",
       "| BGC_type &lt;chr&gt; | MAG_BGC &lt;lgl&gt; | n &lt;int&gt; |\n",
       "|---|---|---|\n",
       "| NRPS            | FALSE |   2 |\n",
       "| Others          | FALSE |   1 |\n",
       "| PKS-NRP_Hybrids | FALSE |   1 |\n",
       "| PKSother        | FALSE |   6 |\n",
       "| RiPPs           | FALSE |   3 |\n",
       "| Terpene         | FALSE |   1 |\n",
       "| NRPS            |  TRUE | 659 |\n",
       "| Others          |  TRUE | 512 |\n",
       "| PKS-NRP_Hybrids |  TRUE |   8 |\n",
       "| PKSI            |  TRUE |  31 |\n",
       "| PKSother        |  TRUE |  87 |\n",
       "| RiPPs           |  TRUE | 562 |\n",
       "| Saccharides     |  TRUE |   2 |\n",
       "| Terpene         |  TRUE | 120 |\n",
       "\n"
      ],
      "text/plain": [
       "   BGC_type        MAG_BGC n  \n",
       "1  NRPS            FALSE     2\n",
       "2  Others          FALSE     1\n",
       "3  PKS-NRP_Hybrids FALSE     1\n",
       "4  PKSother        FALSE     6\n",
       "5  RiPPs           FALSE     3\n",
       "6  Terpene         FALSE     1\n",
       "7  NRPS             TRUE   659\n",
       "8  Others           TRUE   512\n",
       "9  PKS-NRP_Hybrids  TRUE     8\n",
       "10 PKSI             TRUE    31\n",
       "11 PKSother         TRUE    87\n",
       "12 RiPPs            TRUE   562\n",
       "13 Saccharides      TRUE     2\n",
       "14 Terpene          TRUE   120"
      ]
     },
     "metadata": {},
     "output_type": "display_data"
    }
   ],
   "source": [
    "# BGC distribution\n",
    "dt.dims(40)\n",
    "clans %>%\n",
    "    group_by(BGC_type, MAG_BGC) %>%\n",
    "    summarize(n = n()) %>%\n",
    "    ungroup() %>%\n",
    "    arrange(MAG_BGC)"
   ]
  },
  {
   "cell_type": "code",
   "execution_count": 39,
   "metadata": {
    "ExecuteTime": {
     "end_time": "2020-01-22T09:26:19.924708Z",
     "start_time": "2020-01-22T09:26:19.878Z"
    }
   },
   "outputs": [
    {
     "name": "stdout",
     "output_type": "stream",
     "text": [
      "Families with a ref BGC: 8 \n"
     ]
    },
    {
     "data": {
      "text/html": [
       "<table>\n",
       "<caption>A tibble: 6 × 2</caption>\n",
       "<thead>\n",
       "\t<tr><th scope=col>BGC_type</th><th scope=col>n</th></tr>\n",
       "\t<tr><th scope=col>&lt;chr&gt;</th><th scope=col>&lt;int&gt;</th></tr>\n",
       "</thead>\n",
       "<tbody>\n",
       "\t<tr><td>NRPS           </td><td>2</td></tr>\n",
       "\t<tr><td>Others         </td><td>1</td></tr>\n",
       "\t<tr><td>PKS-NRP_Hybrids</td><td>1</td></tr>\n",
       "\t<tr><td>PKSother       </td><td>3</td></tr>\n",
       "\t<tr><td>RiPPs          </td><td>1</td></tr>\n",
       "\t<tr><td>Terpene        </td><td>1</td></tr>\n",
       "</tbody>\n",
       "</table>\n"
      ],
      "text/latex": [
       "A tibble: 6 × 2\n",
       "\\begin{tabular}{ll}\n",
       " BGC\\_type & n\\\\\n",
       " <chr> & <int>\\\\\n",
       "\\hline\n",
       "\t NRPS            & 2\\\\\n",
       "\t Others          & 1\\\\\n",
       "\t PKS-NRP\\_Hybrids & 1\\\\\n",
       "\t PKSother        & 3\\\\\n",
       "\t RiPPs           & 1\\\\\n",
       "\t Terpene         & 1\\\\\n",
       "\\end{tabular}\n"
      ],
      "text/markdown": [
       "\n",
       "A tibble: 6 × 2\n",
       "\n",
       "| BGC_type &lt;chr&gt; | n &lt;int&gt; |\n",
       "|---|---|\n",
       "| NRPS            | 2 |\n",
       "| Others          | 1 |\n",
       "| PKS-NRP_Hybrids | 1 |\n",
       "| PKSother        | 3 |\n",
       "| RiPPs           | 1 |\n",
       "| Terpene         | 1 |\n",
       "\n"
      ],
      "text/plain": [
       "  BGC_type        n\n",
       "1 NRPS            2\n",
       "2 Others          1\n",
       "3 PKS-NRP_Hybrids 1\n",
       "4 PKSother        3\n",
       "5 RiPPs           1\n",
       "6 Terpene         1"
      ]
     },
     "metadata": {},
     "output_type": "display_data"
    }
   ],
   "source": [
    "# MAG-BGCs assocated with a known BGC\n",
    "fam_wRef = clans %>%\n",
    "    filter(MAG_BGC == FALSE) %>%\n",
    "    .$Family.Number\n",
    "\n",
    "cat('Families with a ref BGC:', fam_wRef %>% unique %>% length, '\\n')\n",
    "\n",
    "# which MAGs BGCs?\n",
    "clans %>%\n",
    "    filter(Family.Number %in% fam_wRef,\n",
    "           MAG_BGC == TRUE) %>%\n",
    "    group_by(BGC_type) %>%\n",
    "    summarize(n = n()) %>%\n",
    "    ungroup()"
   ]
  },
  {
   "cell_type": "code",
   "execution_count": 84,
   "metadata": {
    "ExecuteTime": {
     "end_time": "2020-02-27T15:22:40.064662Z",
     "start_time": "2020-02-27T15:22:40.028Z"
    }
   },
   "outputs": [
    {
     "name": "stdout",
     "output_type": "stream",
     "text": [
      "Clans with a ref BGC: 8 \n"
     ]
    }
   ],
   "source": [
    "# MAG-BGCs assocated with a known BGC\n",
    "clan_wRef = clans %>%\n",
    "    filter(MAG_BGC == FALSE) %>%\n",
    "    .$Clan.Number\n",
    "\n",
    "cat('Clans with a ref BGC:', clan_wRef %>% unique %>% length, '\\n')"
   ]
  },
  {
   "cell_type": "code",
   "execution_count": 50,
   "metadata": {
    "ExecuteTime": {
     "end_time": "2020-01-22T09:49:34.430622Z",
     "start_time": "2020-01-22T09:49:34.394Z"
    }
   },
   "outputs": [
    {
     "data": {
      "text/html": [
       "<table>\n",
       "<caption>A data.frame: 1995 × 7</caption>\n",
       "<thead>\n",
       "\t<tr><th scope=col>X.BGC.Name</th><th scope=col>Clan.Number</th><th scope=col>Family.Number</th><th scope=col>BGC_type</th><th scope=col>MAG_BGC</th><th scope=col>MAG</th><th scope=col>BGC_fam_has_ref</th></tr>\n",
       "\t<tr><th scope=col>&lt;chr&gt;</th><th scope=col>&lt;int&gt;</th><th scope=col>&lt;int&gt;</th><th scope=col>&lt;chr&gt;</th><th scope=col>&lt;lgl&gt;</th><th scope=col>&lt;fct&gt;</th><th scope=col>&lt;lgl&gt;</th></tr>\n",
       "</thead>\n",
       "<tbody>\n",
       "\t<tr><td>BGC-0005d06b1fd5420cbb1ba1f265ea1f71</td><td>0</td><td>0</td><td>NRPS</td><td>TRUE</td><td>SAMEA104315434__metabat2_high_PE_014</td><td>FALSE</td></tr>\n",
       "\t<tr><td>BGC-006c4606d91f4793907ca48884886cf7</td><td>5</td><td>5</td><td>NRPS</td><td>TRUE</td><td>R04__metabat2_low_PE_045            </td><td>FALSE</td></tr>\n",
       "\t<tr><td>⋮</td><td>⋮</td><td>⋮</td><td>⋮</td><td>⋮</td><td>⋮</td><td>⋮</td></tr>\n",
       "\t<tr><td>BGC-c8ed898714b84aa4ab4e38788299d8ce</td><td>1527</td><td>1527</td><td>Terpene</td><td>TRUE</td><td>X190_Common_House_Gecko__metabat2_low_PE_001</td><td>FALSE</td></tr>\n",
       "\t<tr><td>BGC-41d3a752a38445b39f4a0cc94e9c8335</td><td> 508</td><td> 508</td><td>Terpene</td><td>TRUE</td><td>Garnier_p2__metabat2_high_PE_037            </td><td>FALSE</td></tr>\n",
       "</tbody>\n",
       "</table>\n"
      ],
      "text/latex": [
       "A data.frame: 1995 × 7\n",
       "\\begin{tabular}{lllllll}\n",
       " X.BGC.Name & Clan.Number & Family.Number & BGC\\_type & MAG\\_BGC & MAG & BGC\\_fam\\_has\\_ref\\\\\n",
       " <chr> & <int> & <int> & <chr> & <lgl> & <fct> & <lgl>\\\\\n",
       "\\hline\n",
       "\t BGC-0005d06b1fd5420cbb1ba1f265ea1f71 & 0 & 0 & NRPS & TRUE & SAMEA104315434\\_\\_metabat2\\_high\\_PE\\_014 & FALSE\\\\\n",
       "\t BGC-006c4606d91f4793907ca48884886cf7 & 5 & 5 & NRPS & TRUE & R04\\_\\_metabat2\\_low\\_PE\\_045             & FALSE\\\\\n",
       "\t ⋮ & ⋮ & ⋮ & ⋮ & ⋮ & ⋮ & ⋮\\\\\n",
       "\t BGC-c8ed898714b84aa4ab4e38788299d8ce & 1527 & 1527 & Terpene & TRUE & X190\\_Common\\_House\\_Gecko\\_\\_metabat2\\_low\\_PE\\_001 & FALSE\\\\\n",
       "\t BGC-41d3a752a38445b39f4a0cc94e9c8335 &  508 &  508 & Terpene & TRUE & Garnier\\_p2\\_\\_metabat2\\_high\\_PE\\_037             & FALSE\\\\\n",
       "\\end{tabular}\n"
      ],
      "text/markdown": [
       "\n",
       "A data.frame: 1995 × 7\n",
       "\n",
       "| X.BGC.Name &lt;chr&gt; | Clan.Number &lt;int&gt; | Family.Number &lt;int&gt; | BGC_type &lt;chr&gt; | MAG_BGC &lt;lgl&gt; | MAG &lt;fct&gt; | BGC_fam_has_ref &lt;lgl&gt; |\n",
       "|---|---|---|---|---|---|---|\n",
       "| BGC-0005d06b1fd5420cbb1ba1f265ea1f71 | 0 | 0 | NRPS | TRUE | SAMEA104315434__metabat2_high_PE_014 | FALSE |\n",
       "| BGC-006c4606d91f4793907ca48884886cf7 | 5 | 5 | NRPS | TRUE | R04__metabat2_low_PE_045             | FALSE |\n",
       "| ⋮ | ⋮ | ⋮ | ⋮ | ⋮ | ⋮ | ⋮ |\n",
       "| BGC-c8ed898714b84aa4ab4e38788299d8ce | 1527 | 1527 | Terpene | TRUE | X190_Common_House_Gecko__metabat2_low_PE_001 | FALSE |\n",
       "| BGC-41d3a752a38445b39f4a0cc94e9c8335 |  508 |  508 | Terpene | TRUE | Garnier_p2__metabat2_high_PE_037             | FALSE |\n",
       "\n"
      ],
      "text/plain": [
       "     X.BGC.Name                           Clan.Number Family.Number BGC_type\n",
       "1    BGC-0005d06b1fd5420cbb1ba1f265ea1f71 0           0             NRPS    \n",
       "2    BGC-006c4606d91f4793907ca48884886cf7 5           5             NRPS    \n",
       "⋮    ⋮                                    ⋮           ⋮             ⋮       \n",
       "1994 BGC-c8ed898714b84aa4ab4e38788299d8ce 1527        1527          Terpene \n",
       "1995 BGC-41d3a752a38445b39f4a0cc94e9c8335  508         508          Terpene \n",
       "     MAG_BGC MAG                                          BGC_fam_has_ref\n",
       "1    TRUE    SAMEA104315434__metabat2_high_PE_014         FALSE          \n",
       "2    TRUE    R04__metabat2_low_PE_045                     FALSE          \n",
       "⋮    ⋮       ⋮                                            ⋮              \n",
       "1994 TRUE    X190_Common_House_Gecko__metabat2_low_PE_001 FALSE          \n",
       "1995 TRUE    Garnier_p2__metabat2_high_PE_037             FALSE          "
      ]
     },
     "metadata": {},
     "output_type": "display_data"
    }
   ],
   "source": [
    "# adding ref info\n",
    "clans = clans %>%\n",
    "    mutate(BGC_fam_has_ref = Family.Number %in% fam_wRef) \n",
    "clans"
   ]
  },
  {
   "cell_type": "code",
   "execution_count": 76,
   "metadata": {
    "ExecuteTime": {
     "end_time": "2020-02-26T14:45:05.982969Z",
     "start_time": "2020-02-26T14:45:05.419Z"
    }
   },
   "outputs": [
    {
     "name": "stdout",
     "output_type": "stream",
     "text": [
      "File written: /ebio/abt3_projects/Georg_animal_feces/notebooks/metagenome/multi-study/08_drep95_wGeorgAnimal/.figures/22cb94045580c60f151b253111eef6b8.RDS \n"
     ]
    },
    {
     "data": {
      "image/png": "[encoded data removed]",
      "text/plain": [
       "plot without title"
      ]
     },
     "metadata": {
      "image/png": {
       "height": 375,
       "width": 625
      },
      "text/plain": {
       "height": 375,
       "width": 625
      }
     },
     "output_type": "display_data"
    }
   ],
   "source": [
    "# fraction in gene fam with ref\n",
    "clans_s = clans %>%\n",
    "    group_by(BGC_type, BGC_fam_has_ref) %>%\n",
    "    summarize(n = n_distinct(Family.Number)) %>%\n",
    "    ungroup() \n",
    "\n",
    "p = clans_s %>%\n",
    "    ggplot(aes(BGC_type, n, fill=BGC_fam_has_ref)) +\n",
    "    geom_bar(stat='identity', position='dodge') +\n",
    "    geom_text(aes(label=n),\n",
    "              position = position_dodge(width = 1),\n",
    "              vjust=-0.1, size=2.7) +\n",
    "    scale_y_log10(limits=c(1,700)) +\n",
    "    scale_fill_discrete('BGC family\\nhas BiGSCAPE\\nRef.') +\n",
    "    labs(x='BGC', y='BGC families') +\n",
    "    theme_bw() +\n",
    "    theme(\n",
    "        axis.text.x = element_text(angle=45, hjust=1)\n",
    "    )\n",
    "\n",
    "dims(5,3,res=250)\n",
    "Plot(p)"
   ]
  },
  {
   "cell_type": "code",
   "execution_count": 55,
   "metadata": {
    "ExecuteTime": {
     "end_time": "2020-01-22T09:50:07.668712Z",
     "start_time": "2020-01-22T09:50:07.608Z"
    }
   },
   "outputs": [
    {
     "data": {
      "text/html": [
       "<table>\n",
       "<caption>A tibble: 8 × 4</caption>\n",
       "<thead>\n",
       "\t<tr><th scope=col>BGC</th><th scope=col>No BiGSCAPE ref.</th><th scope=col>BiGSCAPE ref.</th><th scope=col>Perc. with ref.</th></tr>\n",
       "\t<tr><th scope=col>&lt;chr&gt;</th><th scope=col>&lt;int&gt;</th><th scope=col>&lt;int&gt;</th><th scope=col>&lt;dbl&gt;</th></tr>\n",
       "</thead>\n",
       "<tbody>\n",
       "\t<tr><td>PKS-NRP_Hybrids</td><td>  7</td><td> 1</td><td>12.5</td></tr>\n",
       "\t<tr><td>PKSother       </td><td> 77</td><td> 3</td><td> 3.8</td></tr>\n",
       "\t<tr><td>Terpene        </td><td>113</td><td> 1</td><td> 0.9</td></tr>\n",
       "\t<tr><td>NRPS           </td><td>636</td><td> 2</td><td> 0.3</td></tr>\n",
       "\t<tr><td>Others         </td><td>455</td><td> 1</td><td> 0.2</td></tr>\n",
       "\t<tr><td>RiPPs          </td><td>465</td><td> 1</td><td> 0.2</td></tr>\n",
       "\t<tr><td>PKSI           </td><td> 29</td><td>NA</td><td>  NA</td></tr>\n",
       "\t<tr><td>Saccharides    </td><td>  2</td><td>NA</td><td>  NA</td></tr>\n",
       "</tbody>\n",
       "</table>\n"
      ],
      "text/latex": [
       "A tibble: 8 × 4\n",
       "\\begin{tabular}{llll}\n",
       " BGC & No BiGSCAPE ref. & BiGSCAPE ref. & Perc. with ref.\\\\\n",
       " <chr> & <int> & <int> & <dbl>\\\\\n",
       "\\hline\n",
       "\t PKS-NRP\\_Hybrids &   7 &  1 & 12.5\\\\\n",
       "\t PKSother        &  77 &  3 &  3.8\\\\\n",
       "\t Terpene         & 113 &  1 &  0.9\\\\\n",
       "\t NRPS            & 636 &  2 &  0.3\\\\\n",
       "\t Others          & 455 &  1 &  0.2\\\\\n",
       "\t RiPPs           & 465 &  1 &  0.2\\\\\n",
       "\t PKSI            &  29 & NA &   NA\\\\\n",
       "\t Saccharides     &   2 & NA &   NA\\\\\n",
       "\\end{tabular}\n"
      ],
      "text/markdown": [
       "\n",
       "A tibble: 8 × 4\n",
       "\n",
       "| BGC &lt;chr&gt; | No BiGSCAPE ref. &lt;int&gt; | BiGSCAPE ref. &lt;int&gt; | Perc. with ref. &lt;dbl&gt; |\n",
       "|---|---|---|---|\n",
       "| PKS-NRP_Hybrids |   7 |  1 | 12.5 |\n",
       "| PKSother        |  77 |  3 |  3.8 |\n",
       "| Terpene         | 113 |  1 |  0.9 |\n",
       "| NRPS            | 636 |  2 |  0.3 |\n",
       "| Others          | 455 |  1 |  0.2 |\n",
       "| RiPPs           | 465 |  1 |  0.2 |\n",
       "| PKSI            |  29 | NA |   NA |\n",
       "| Saccharides     |   2 | NA |   NA |\n",
       "\n"
      ],
      "text/plain": [
       "  BGC             No BiGSCAPE ref. BiGSCAPE ref. Perc. with ref.\n",
       "1 PKS-NRP_Hybrids   7               1            12.5           \n",
       "2 PKSother         77               3             3.8           \n",
       "3 Terpene         113               1             0.9           \n",
       "4 NRPS            636               2             0.3           \n",
       "5 Others          455               1             0.2           \n",
       "6 RiPPs           465               1             0.2           \n",
       "7 PKSI             29              NA              NA           \n",
       "8 Saccharides       2              NA              NA           "
      ]
     },
     "metadata": {},
     "output_type": "display_data"
    }
   ],
   "source": [
    "dt.dims(40)\n",
    "clans_s %>%\n",
    "    mutate(BGC_fam_has_ref = ifelse(BGC_fam_has_ref == TRUE, 'Ref', 'NoRef')) %>%\n",
    "    spread(BGC_fam_has_ref, n) %>%\n",
    "    mutate(perc_fams_w_ref = round(Ref / (Ref + NoRef) * 100,1)) %>%\n",
    "    rename('BGC' = BGC_type,\n",
    "           'No BiGSCAPE ref.' =  NoRef,\n",
    "           'BiGSCAPE ref.' =  Ref,\n",
    "           'Perc. with ref.' = perc_fams_w_ref) %>%\n",
    "    arrange(-`Perc. with ref.`) "
   ]
  },
  {
   "cell_type": "markdown",
   "metadata": {},
   "source": [
    "## Writing fam-clan table"
   ]
  },
  {
   "cell_type": "code",
   "execution_count": 56,
   "metadata": {
    "ExecuteTime": {
     "end_time": "2020-01-22T09:50:10.168628Z",
     "start_time": "2020-01-22T09:50:10.127Z"
    }
   },
   "outputs": [
    {
     "name": "stdout",
     "output_type": "stream",
     "text": [
      "File written: /ebio/abt3_projects/Georg_animal_feces/data/metagenome/multi-study/BioProjects/summary/LLMGA/wGeorgAnimal/drep-0.95/BGCs/bigscape/bigscape_fam-clan.tsv"
     ]
    }
   ],
   "source": [
    "outfile = file.path(work_dir, 'bigscape_fam-clan.tsv')\n",
    "write_table(clans, outfile)"
   ]
  },
  {
   "cell_type": "markdown",
   "metadata": {},
   "source": [
    "# sessionInfo"
   ]
  },
  {
   "cell_type": "code",
   "execution_count": 43,
   "metadata": {
    "ExecuteTime": {
     "end_time": "2020-01-22T09:26:34.636700Z",
     "start_time": "2020-01-22T09:26:34.541Z"
    }
   },
   "outputs": [
    {
     "data": {
      "text/plain": [
       "R version 3.6.2 (2019-12-12)\n",
       "Platform: x86_64-conda_cos6-linux-gnu (64-bit)\n",
       "Running under: Ubuntu 18.04.3 LTS\n",
       "\n",
       "Matrix products: default\n",
       "BLAS/LAPACK: /ebio/abt3_projects/Georg_animal_feces/envs/tidyverse/lib/libopenblasp-r0.3.7.so\n",
       "\n",
       "Random number generation:\n",
       " RNG:     Mersenne-Twister \n",
       " Normal:  Inversion \n",
       " Sample:  Rounding \n",
       " \n",
       "locale:\n",
       " [1] LC_CTYPE=en_US.UTF-8       LC_NUMERIC=C              \n",
       " [3] LC_TIME=en_US.UTF-8        LC_COLLATE=en_US.UTF-8    \n",
       " [5] LC_MONETARY=en_US.UTF-8    LC_MESSAGES=en_US.UTF-8   \n",
       " [7] LC_PAPER=en_US.UTF-8       LC_NAME=C                 \n",
       " [9] LC_ADDRESS=C               LC_TELEPHONE=C            \n",
       "[11] LC_MEASUREMENT=en_US.UTF-8 LC_IDENTIFICATION=C       \n",
       "\n",
       "attached base packages:\n",
       "[1] parallel  stats     graphics  grDevices utils     datasets  methods  \n",
       "[8] base     \n",
       "\n",
       "other attached packages:\n",
       " [1] future.apply_1.4.0      future.batchtools_0.8.1 future_1.15.1          \n",
       " [4] doParallel_1.0.15       iterators_1.0.12        foreach_1.4.7          \n",
       " [7] data.table_1.12.8       ggplot2_3.2.1           tidyr_1.0.0            \n",
       "[10] dplyr_0.8.3            \n",
       "\n",
       "loaded via a namespace (and not attached):\n",
       " [1] Rcpp_1.0.3        pillar_1.4.3      compiler_3.6.2    prettyunits_1.1.0\n",
       " [5] progress_1.2.2    base64enc_0.1-3   tools_3.6.2       zeallot_0.1.0    \n",
       " [9] digest_0.6.23     uuid_0.1-2        checkmate_1.9.4   jsonlite_1.6     \n",
       "[13] evaluate_0.14     tibble_2.1.3      lifecycle_0.1.0   gtable_0.3.0     \n",
       "[17] pkgconfig_2.0.3   rlang_0.4.2       IRdisplay_0.7.0   IRkernel_1.1     \n",
       "[21] repr_1.0.2        withr_2.1.2       rappdirs_0.3.1    hms_0.5.3        \n",
       "[25] globals_0.12.5    vctrs_0.2.1       grid_3.6.2        tidyselect_0.2.5 \n",
       "[29] glue_1.3.1        listenv_0.8.0     R6_2.4.1          base64url_1.4    \n",
       "[33] pbdZMQ_0.3-3      farver_2.0.2      purrr_0.3.3       magrittr_1.5     \n",
       "[37] ellipsis_0.3.0    batchtools_0.9.12 backports_1.1.5   scales_1.1.0     \n",
       "[41] codetools_0.2-16  htmltools_0.4.0   assertthat_0.2.1  colorspace_1.4-1 \n",
       "[45] labeling_0.3      brew_1.0-6        stringi_1.4.5     lazyeval_0.2.2   \n",
       "[49] munsell_0.5.0     crayon_1.3.4     "
      ]
     },
     "metadata": {},
     "output_type": "display_data"
    }
   ],
   "source": [
    "sessionInfo()"
   ]
  },
  {
   "cell_type": "code",
   "execution_count": 44,
   "metadata": {
    "ExecuteTime": {
     "end_time": "2020-01-22T09:26:40.107800Z",
     "start_time": "2020-01-22T09:26:34.851Z"
    }
   },
   "outputs": [
    {
     "name": "stdout",
     "output_type": "stream",
     "text": [
      "Could not find conda environment: bigscape\n",
      "You can list all discoverable environments with `conda info --envs`.\n",
      "\n",
      "# packages in environment at /ebio/abt3_projects/software/miniconda3_gt4.4:\n",
      "#\n",
      "# Name                    Version                   Build  Channel\n",
      "_r-mutex                  1.0.1               anacondar_1    conda-forge\n",
      "appdirs                   1.4.3                      py_1    conda-forge\n",
      "asn1crypto                0.24.0                     py_1    conda-forge\n",
      "attrs                     19.3.0                     py_0    conda-forge\n",
      "automat                   0.7.0                    py36_0    conda-forge\n",
      "backcall                  0.1.0                      py_0    conda-forge\n",
      "binutils_impl_linux-64    2.33.1               he1b5a44_7    conda-forge\n",
      "binutils_linux-64         2.33.1              h9595d00_15    conda-forge\n",
      "biopython                 1.73                     pypi_0    pypi\n",
      "blas                      1.0                         mkl  \n",
      "bleach                    3.1.0                      py_0    conda-forge\n",
      "bwidget                   1.9.13                        0    conda-forge\n",
      "bzip2                     1.0.8                h516909a_1    conda-forge\n",
      "ca-certificates           2019.9.11            hecc5488_0    conda-forge\n",
      "cairo                     1.16.0            h18b612c_1001    conda-forge\n",
      "certifi                   2019.9.11                py36_0    conda-forge\n",
      "cffi                      1.13.2           py36h8022711_0    conda-forge\n",
      "chardet                   3.0.4                 py36_1003    conda-forge\n",
      "click                     7.0                      pypi_0    pypi\n",
      "coloredlogs               10.0                     pypi_0    pypi\n",
      "colormath                 3.0.0                    pypi_0    pypi\n",
      "conda                     4.7.12                   py36_0    conda-forge\n",
      "conda-env                 2.6.0                         1    conda-forge\n",
      "conda-package-handling    1.6.0            py36h516909a_1    conda-forge\n",
      "constantly                15.1.0                     py_0    conda-forge\n",
      "cryptography              2.8              py36h72c5cf5_0    conda-forge\n",
      "cryptography-vectors      2.3                      py36_1    conda-forge\n",
      "curl                      7.65.3               hf8cf82a_0    conda-forge\n",
      "cycler                    0.10.0                   pypi_0    pypi\n",
      "dbus                      1.13.0               h3a4f0e9_0    conda-forge\n",
      "decorator                 4.4.1                      py_0    conda-forge\n",
      "defusedxml                0.6.0                      py_0    conda-forge\n",
      "entrypoints               0.3                   py36_1000    conda-forge\n",
      "expat                     2.2.5                hfc679d8_1    conda-forge\n",
      "fontconfig                2.13.1            he4413a7_1000    conda-forge\n",
      "freetype                  2.10.0               he983fc9_1    conda-forge\n",
      "future                    0.18.2                   pypi_0    pypi\n",
      "gcc_impl_linux-64         7.3.0                habb00fd_2    conda-forge\n",
      "gcc_linux-64              7.3.0               h553295d_15    conda-forge\n",
      "gettext                   0.19.8.1          hc5be6a0_1002    conda-forge\n",
      "gfortran_impl_linux-64    7.3.0                hdf63c60_2    conda-forge\n",
      "gfortran_linux-64         7.3.0               h553295d_15    conda-forge\n",
      "glib                      2.58.3          py36h6f030ca_1002    conda-forge\n",
      "gmp                       6.1.2                hfc679d8_0    conda-forge\n",
      "graphite2                 1.3.13            hf484d3e_1000    conda-forge\n",
      "gsl                       2.4               h294904e_1006    conda-forge\n",
      "gst-plugins-base          1.12.5               hde13a9d_0    conda-forge\n",
      "gstreamer                 1.12.5               h61a6719_0    conda-forge\n",
      "gxx_impl_linux-64         7.3.0                hdf63c60_2    conda-forge\n",
      "gxx_linux-64              7.3.0               h553295d_15    conda-forge\n",
      "harfbuzz                  2.4.0                h37c48d4_1    conda-forge\n",
      "html5lib                  1.0.1                      py_0    conda-forge\n",
      "humanfriendly             4.18                     pypi_0    pypi\n",
      "humann2                   0.11.2                   pypi_0    pypi\n",
      "hyperlink                 17.3.1                     py_0    conda-forge\n",
      "icu                       58.2              hf484d3e_1000    conda-forge\n",
      "idna                      2.8                   py36_1000    conda-forge\n",
      "importlib_metadata        0.23                     py36_0    conda-forge\n",
      "incremental               17.5.0                     py_0    conda-forge\n",
      "ipykernel                 5.1.3            py36h5ca1d4c_0    conda-forge\n",
      "ipython                   7.9.0            py36h5ca1d4c_0    conda-forge\n",
      "ipython_genutils          0.2.0                      py_1    conda-forge\n",
      "ipywidgets                7.5.1                      py_0    conda-forge\n",
      "jedi                      0.15.1                   py36_0    conda-forge\n",
      "jinja2                    2.10.3                     py_0    conda-forge\n",
      "jpeg                      9c                h14c3975_1001    conda-forge\n",
      "jsonschema                3.2.0                    py36_0    conda-forge\n",
      "jupyter                   1.0.0                      py_1    conda-forge\n",
      "jupyter_client            5.3.3                    py36_1    conda-forge\n",
      "jupyter_console           6.0.0                      py_0    conda-forge\n",
      "jupyter_contrib_core      0.3.3                      py_2    conda-forge\n",
      "jupyter_contrib_nbextensions 0.5.0                    py36_0    conda-forge\n",
      "jupyter_core              4.6.1                    py36_0    conda-forge\n",
      "jupyter_highlight_selected_word 0.2.0                 py36_1000    conda-forge\n",
      "jupyter_latex_envs        1.4.4                 py36_1000    conda-forge\n",
      "jupyter_nbextensions_configurator 0.4.1                    py36_0    conda-forge\n",
      "jupyterlab                0.35.4                   py36_0    conda-forge\n",
      "jupyterlab_server         0.2.0                      py_0    conda-forge\n",
      "kiwisolver                1.1.0                    pypi_0    pypi\n",
      "krb5                      1.16.3            h05b26f9_1001    conda-forge\n",
      "ld_impl_linux-64          2.33.1               h53a641e_7    conda-forge\n",
      "libarchive                3.3.3             hc3f970e_1004    conda-forge\n",
      "libblas                   3.8.0               14_openblas    conda-forge\n",
      "libcblas                  3.8.0               14_openblas    conda-forge\n",
      "libcurl                   7.65.3               hda55be3_0    conda-forge\n",
      "libedit                   3.1.20170329      hf8c457e_1001    conda-forge\n",
      "libffi                    3.2.1             he1b5a44_1006    conda-forge\n",
      "libgcc                    7.2.0                h69d50b8_2  \n",
      "libgcc-ng                 7.3.0                hdf63c60_0    conda-forge\n",
      "libgfortran               3.0.0                         1    https://repo.anaconda.com/pkgs/free\n",
      "libgfortran-ng            7.3.0                hdf63c60_2    conda-forge\n",
      "libiconv                  1.15              h516909a_1005    conda-forge\n",
      "libopenblas               0.3.7                h6e990d7_3    conda-forge\n",
      "libpng                    1.6.37               hed695b0_0    conda-forge\n",
      "libsodium                 1.0.17               h516909a_0    conda-forge\n",
      "libssh2                   1.8.2                h22169c7_2    conda-forge\n",
      "libstdcxx-ng              7.3.0                hdf63c60_0    conda-forge\n",
      "libtiff                   4.1.0                hc3755c2_1    conda-forge\n",
      "libuuid                   2.32.1            h14c3975_1000    conda-forge\n",
      "libxcb                    1.13              h14c3975_1002    conda-forge\n",
      "libxml2                   2.9.8                h422b904_2    conda-forge\n",
      "libxslt                   1.1.32               h88dbc4e_1    conda-forge\n",
      "lxml                      4.2.4            py36hc9114bc_0    conda-forge\n",
      "lz4-c                     1.8.3             he1b5a44_1001    conda-forge\n",
      "lzo                       2.10              h14c3975_1000    conda-forge\n",
      "lzstring                  1.0.4                    pypi_0    pypi\n",
      "make                      4.2.1             h14c3975_2004    conda-forge\n",
      "markdown                  3.1.1                    pypi_0    pypi\n",
      "markupsafe                1.1.1            py36h516909a_0    conda-forge\n",
      "matplotlib                3.1.1                    pypi_0    pypi\n",
      "mistune                   0.8.4           py36h516909a_1000    conda-forge\n",
      "more-itertools            7.2.0                      py_0    conda-forge\n",
      "multiqc                   1.8                      pypi_0    pypi\n",
      "nb_conda                  2.2.1                    py36_0    conda-forge\n",
      "nb_conda_kernels          2.2.2                    py36_0    conda-forge\n",
      "nbconvert                 5.6.1                    py36_0    conda-forge\n",
      "nbformat                  4.4.0                      py_1    conda-forge\n",
      "ncbi-genome-download      0.2.9                    pypi_0    pypi\n",
      "ncurses                   6.1               hf484d3e_1002    conda-forge\n",
      "networkx                  2.4                      pypi_0    pypi\n",
      "notebook                  6.0.1                    py36_0    conda-forge\n",
      "numpy                     1.16.2                   pypi_0    pypi\n",
      "openblas                  0.2.20                        8    conda-forge\n",
      "openssl                   1.1.1d               h516909a_0    conda-forge\n",
      "pandas                    0.24.2                   pypi_0    pypi\n",
      "pandoc                    2.7.3                         0    conda-forge\n",
      "pandocfilters             1.4.2                      py_1    conda-forge\n",
      "pango                     1.40.14           he7ab937_1005    conda-forge\n",
      "parso                     0.5.1                      py_0    conda-forge\n",
      "pcre                      8.43                 he1b5a44_0    conda-forge\n",
      "pexpect                   4.7.0                    py36_0    conda-forge\n",
      "pickleshare               0.7.5                 py36_1000    conda-forge\n",
      "pip                       19.3.1                   py36_0    conda-forge\n",
      "pixman                    0.38.0            h516909a_1003    conda-forge\n",
      "prometheus_client         0.7.1                      py_0    conda-forge\n",
      "prompt_toolkit            2.0.10                     py_0    conda-forge\n",
      "pthread-stubs             0.4               h14c3975_1001    conda-forge\n",
      "ptyprocess                0.6.0                   py_1001    conda-forge\n",
      "pyasn1                    0.4.4                      py_0    conda-forge\n",
      "pyasn1-modules            0.2.1                      py_0    conda-forge\n",
      "pycosat                   0.6.3           py36h516909a_1002    conda-forge\n",
      "pycparser                 2.19                     py36_1    conda-forge\n",
      "pygments                  2.4.2                      py_0    conda-forge\n",
      "pyhamcrest                1.9.0                      py_2    conda-forge\n",
      "pyopenssl                 19.0.0                   py36_0    conda-forge\n",
      "pyparsing                 2.4.5                    pypi_0    pypi\n",
      "pyqt                      4.11.4                   py36_3    conda-forge\n",
      "pyrsistent                0.15.6           py36h516909a_0    conda-forge\n",
      "pysam                     0.15.2                   pypi_0    pypi\n",
      "pysocks                   1.7.1                    py36_0    conda-forge\n",
      "python                    3.6.8                h0371630_0  \n",
      "python-dateutil           2.8.0                    pypi_0    pypi\n",
      "python-libarchive-c       2.8                   py36_1004    conda-forge\n",
      "pytz                      2018.9                   pypi_0    pypi\n",
      "pyyaml                    5.1.2            py36h516909a_0    conda-forge\n",
      "pyzmq                     18.1.1           py36h1768529_0    conda-forge\n",
      "qt                        4.8.7                         2    https://repo.anaconda.com/pkgs/free\n",
      "qtconsole                 4.6.0                      py_0    conda-forge\n",
      "r-assertthat              0.2.0                  r3.4.1_0    conda-forge\n",
      "r-backports               1.1.5             r35hcdcec82_0    conda-forge\n",
      "r-base                    3.5.1             h271c98b_1006    conda-forge\n",
      "r-base64enc               0.1_3            r341h470a237_1    conda-forge\n",
      "r-bh                      1.66.0_1               r3.4.1_0    conda-forge\n",
      "r-bindr                   0.1.1                  r3.4.1_0    conda-forge\n",
      "r-bindrcpp                0.2.2            r341h9d2a408_0    conda-forge\n",
      "r-bit                     1.1_12           r341h470a237_1    conda-forge\n",
      "r-bit64                   0.9_5            r341h470a237_1    conda-forge\n",
      "r-blob                    1.1.1                  r3.4.1_0    conda-forge\n",
      "r-cli                     1.0.0                  r3.4.1_0    conda-forge\n",
      "r-crayon                  1.3.4                  r3.4.1_0    conda-forge\n",
      "r-dbi                     1.0.0                    r341_0    conda-forge\n",
      "r-dbplyr                  1.2.2                    r341_0    conda-forge\n",
      "r-digest                  0.6.15           r341h470a237_1    conda-forge\n",
      "r-dplyr                   0.7.6            r341h9d2a408_0    conda-forge\n",
      "r-ellipsis                0.3.0             r35hcdcec82_0    conda-forge\n",
      "r-evaluate                0.10.1                 r3.4.1_0    conda-forge\n",
      "r-fansi                   0.4.0           r35hcdcec82_1001    conda-forge\n",
      "r-glue                    1.3.0            r341h470a237_1    conda-forge\n",
      "r-htmltools               0.3.6            r341hfc679d8_1    conda-forge\n",
      "r-irdisplay               0.4.4                  r3.4.1_0    conda-forge\n",
      "r-irkernel                1.0.2             r35h6115d3f_2    conda-forge\n",
      "r-jsonlite                1.5              r341h470a237_1    conda-forge\n",
      "r-magrittr                1.5                    r3.4.1_0    conda-forge\n",
      "r-memoise                 1.1.0                  r3.4.1_0    conda-forge\n",
      "r-pbdzmq                  0.3_2                  r3.4.1_0    conda-forge\n",
      "r-pillar                  1.2.2            r341h6115d3f_1    conda-forge\n",
      "r-pkgconfig               2.0.1                  r3.4.1_0    conda-forge\n",
      "r-plogr                   0.2.0            r341h6115d3f_0    conda-forge\n",
      "r-prettyunits             1.0.2                  r3.4.1_0    conda-forge\n",
      "r-purrr                   0.2.4            r341h470a237_1    conda-forge\n",
      "r-r6                      2.2.2                  r3.4.1_0    conda-forge\n",
      "r-rcpp                    0.12.17          r341h9d2a408_1    conda-forge\n",
      "r-repr                    0.15                     r341_0    conda-forge\n",
      "r-rlang                   0.2.1            r341h470a237_1    conda-forge\n",
      "r-rsqlite                 2.0              r341hfc679d8_1    conda-forge\n",
      "r-stringi                 1.2.3            r341hfc679d8_1    conda-forge\n",
      "r-stringr                 1.3.1                    r341_0    conda-forge\n",
      "r-tibble                  1.4.2            r341h470a237_1    conda-forge\n",
      "r-tidyselect              0.2.4            r341hfc679d8_1    conda-forge\n",
      "r-utf8                    1.1.3            r341h470a237_1    conda-forge\n",
      "r-uuid                    0.1_2                    r341_0    conda-forge\n",
      "r-vctrs                   0.2.0             r35hcdcec82_1    conda-forge\n",
      "r-zeallot                 0.1.0           r35h6115d3f_1001    conda-forge\n",
      "readline                  7.0               hf8c457e_1001    conda-forge\n",
      "requests                  2.22.0                   py36_1    conda-forge\n",
      "rpy2                      3.1.0           py36r35hc1659b7_2    conda-forge\n",
      "ruamel_yaml               0.15.71         py36h14c3975_1000    conda-forge\n",
      "send2trash                1.5.0                      py_0    conda-forge\n",
      "service_identity          17.0.0                     py_0    conda-forge\n",
      "setuptools                41.6.0                   py36_1    conda-forge\n",
      "simplegeneric             0.8.1                      py_1    conda-forge\n",
      "simplejson                3.17.0                   pypi_0    pypi\n",
      "sip                       4.18                     py36_1    conda-forge\n",
      "six                       1.13.0                   py36_0    conda-forge\n",
      "spectra                   0.0.11                   pypi_0    pypi\n",
      "sqlite                    3.26.0            h67949de_1001    conda-forge\n",
      "terminado                 0.8.3                    py36_0    conda-forge\n",
      "testpath                  0.4.4                      py_0    conda-forge\n",
      "tk                        8.6.10               hed695b0_0    conda-forge\n",
      "tktable                   2.10                 h555a92e_3    conda-forge\n",
      "tornado                   6.0.3            py36h516909a_0    conda-forge\n",
      "tqdm                      4.39.0                     py_0    conda-forge\n",
      "traitlets                 4.3.3                    py36_0    conda-forge\n",
      "twisted                   18.7.0           py36h14c3975_1  \n",
      "tzlocal                   2.0.0                      py_0    conda-forge\n",
      "urllib3                   1.25.7                   py36_0    conda-forge\n",
      "wcwidth                   0.1.7                      py_1    conda-forge\n",
      "webencodings              0.5.1                      py_1    conda-forge\n",
      "wheel                     0.33.6                   py36_0    conda-forge\n",
      "widgetsnbextension        3.5.1                    py36_0    conda-forge\n",
      "xorg-kbproto              1.0.7             h14c3975_1002    conda-forge\n",
      "xorg-libice               1.0.10               h516909a_0    conda-forge\n",
      "xorg-libsm                1.2.3             h84519dc_1000    conda-forge\n",
      "xorg-libx11               1.6.9                h516909a_0    conda-forge\n",
      "xorg-libxau               1.0.9                h14c3975_0    conda-forge\n",
      "xorg-libxdmcp             1.1.3                h516909a_0    conda-forge\n",
      "xorg-libxext              1.3.4                h516909a_0    conda-forge\n",
      "xorg-libxrender           0.9.10            h516909a_1002    conda-forge\n",
      "xorg-libxt                1.1.5                h470a237_2    conda-forge\n",
      "xorg-renderproto          0.11.1            h14c3975_1002    conda-forge\n",
      "xorg-xextproto            7.3.0             h14c3975_1002    conda-forge\n",
      "xorg-xproto               7.0.31            h14c3975_1007    conda-forge\n",
      "xz                        5.2.4             h14c3975_1001    conda-forge\n",
      "yaml                      0.1.7             h14c3975_1001    conda-forge\n",
      "zeromq                    4.3.2                he1b5a44_2    conda-forge\n",
      "zipp                      0.6.0                      py_0    conda-forge\n",
      "zlib                      1.2.11            h516909a_1006    conda-forge\n",
      "zope.interface            4.5.0            py36h470a237_0    conda-forge\n",
      "zstd                      1.4.4                h3b9ef0a_1    conda-forge"
     ]
    }
   ],
   "source": [
    "condaInfo(conda_env)"
   ]
  },
  {
   "cell_type": "code",
   "execution_count": null,
   "metadata": {},
   "outputs": [],
   "source": []
  }
 ],
 "metadata": {
  "kernelspec": {
   "display_name": "R [conda env:Georg_animal_feces-tidyverse]",
   "language": "R",
   "name": "conda-env-Georg_animal_feces-tidyverse-r"
  },
  "language_info": {
   "codemirror_mode": "r",
   "file_extension": ".r",
   "mimetype": "text/x-r-source",
   "name": "R",
   "pygments_lexer": "r",
   "version": "3.6.2"
  },
  "notify_time": "30",
  "toc": {
   "base_numbering": 1,
   "nav_menu": {},
   "number_sections": true,
   "sideBar": true,
   "skip_h1_title": false,
   "title_cell": "Table of Contents",
   "title_sidebar": "Contents",
   "toc_cell": true,
   "toc_position": {
    "height": "calc(100% - 180px)",
    "left": "10px",
    "top": "150px",
    "width": "256px"
   },
   "toc_section_display": true,
   "toc_window_display": true
  }
 },
 "nbformat": 4,
 "nbformat_minor": 2
}
