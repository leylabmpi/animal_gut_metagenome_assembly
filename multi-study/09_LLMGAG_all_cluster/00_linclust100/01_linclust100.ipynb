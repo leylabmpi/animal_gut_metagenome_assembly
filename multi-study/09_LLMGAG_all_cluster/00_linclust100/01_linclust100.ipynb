{
 "cells": [
  {
   "cell_type": "markdown",
   "metadata": {
    "toc": true
   },
   "source": [
    "<h1>Table of Contents<span class=\"tocSkip\"></span></h1>\n",
    "<div class=\"toc\"><ul class=\"toc-item\"><li><span><a href=\"#Goal\" data-toc-modified-id=\"Goal-1\"><span class=\"toc-item-num\">1&nbsp;&nbsp;</span>Goal</a></span></li><li><span><a href=\"#Var\" data-toc-modified-id=\"Var-2\"><span class=\"toc-item-num\">2&nbsp;&nbsp;</span>Var</a></span></li><li><span><a href=\"#Init\" data-toc-modified-id=\"Init-3\"><span class=\"toc-item-num\">3&nbsp;&nbsp;</span>Init</a></span></li><li><span><a href=\"#Metadata\" data-toc-modified-id=\"Metadata-4\"><span class=\"toc-item-num\">4&nbsp;&nbsp;</span>Metadata</a></span></li><li><span><a href=\"#Merging-cluster-reps\" data-toc-modified-id=\"Merging-cluster-reps-5\"><span class=\"toc-item-num\">5&nbsp;&nbsp;</span>Merging cluster reps</a></span><ul class=\"toc-item\"><li><span><a href=\"#Georg-animal-gut\" data-toc-modified-id=\"Georg-animal-gut-5.1\"><span class=\"toc-item-num\">5.1&nbsp;&nbsp;</span>Georg animal gut</a></span></li><li><span><a href=\"#Multi-study\" data-toc-modified-id=\"Multi-study-5.2\"><span class=\"toc-item-num\">5.2&nbsp;&nbsp;</span>Multi-study</a></span></li></ul></li><li><span><a href=\"#Clustering-reps\" data-toc-modified-id=\"Clustering-reps-6\"><span class=\"toc-item-num\">6&nbsp;&nbsp;</span>Clustering reps</a></span><ul class=\"toc-item\"><li><span><a href=\"#LLMGAG\" data-toc-modified-id=\"LLMGAG-6.1\"><span class=\"toc-item-num\">6.1&nbsp;&nbsp;</span>LLMGAG</a></span></li><li><span><a href=\"#Run\" data-toc-modified-id=\"Run-6.2\"><span class=\"toc-item-num\">6.2&nbsp;&nbsp;</span>Run</a></span></li></ul></li><li><span><a href=\"#Summary\" data-toc-modified-id=\"Summary-7\"><span class=\"toc-item-num\">7&nbsp;&nbsp;</span>Summary</a></span><ul class=\"toc-item\"><li><span><a href=\"#Number-of-gene-clusters\" data-toc-modified-id=\"Number-of-gene-clusters-7.1\"><span class=\"toc-item-num\">7.1&nbsp;&nbsp;</span>Number of gene clusters</a></span></li></ul></li><li><span><a href=\"#sessionInfo\" data-toc-modified-id=\"sessionInfo-8\"><span class=\"toc-item-num\">8&nbsp;&nbsp;</span>sessionInfo</a></span></li></ul></div>"
   ]
  },
  {
   "cell_type": "markdown",
   "metadata": {},
   "source": [
    "# Goal\n",
    "\n",
    "* Merge all per-study 100% seqID cluster reps from all LLMGAG runs\n",
    "  * creating a non-redundant dataset\n",
    "  * multi-study + georg animal gut\n",
    "* Cluster reps at 100% seqID\n",
    "* Summarize the merged dataset"
   ]
  },
  {
   "cell_type": "markdown",
   "metadata": {},
   "source": [
    "# Var"
   ]
  },
  {
   "cell_type": "code",
   "execution_count": 7,
   "metadata": {
    "ExecuteTime": {
     "end_time": "2020-04-16T18:56:07.665644Z",
     "start_time": "2020-04-16T18:56:07.586Z"
    }
   },
   "outputs": [],
   "source": [
    "work_dir = file.path('/ebio/abt3_projects/Georg_animal_feces/data/metagenome',\n",
    "                     'multi-study', 'BioProjects', 'merged', 'linclust100')\n",
    "\n",
    "# georg animal gut metagenomes\n",
    "GA_base_out_dir = '/ebio/abt3_projects/databases_no-backup/animal_gut_metagenomes/wOutVertebrata/'\n",
    "GA_out_dirs = c('MG_assembly_act', 'MG_assembly_amp', 'MG_assembly_rep', 'MG_assembly_ave', 'MG_assembly_mam')\n",
    "\n",
    "# multi-study metagenomes\n",
    "MS_base_out_dir = '/ebio/abt3_projects/Georg_animal_feces/data/metagenome/multi-study/BioProjects/'\n",
    "MS_out_dirs = c('PRJEB11755', 'PRJEB20308', 'PRJEB29346',\n",
    "                'PRJNA336354', 'PRJNA381379', 'PRJNA417359',\n",
    "                'PRJNA532626', 'PRJNA476660', 'PRJNA485217',\n",
    "                'PRJNA316560-PRJNA316570', 'PRJEB22765',\n",
    "                'PRJEB23642', 'PRJEB9357')\n",
    "MS_meta_file = '/ebio/abt3_projects/Georg_animal_feces/data/metagenome/multi-study/metadata/study_metadata_v2.xlsx'\n",
    "\n",
    "\n",
    "# params\n",
    "pipeline_dir = '/ebio/abt3_projects/methanogen_host_evo/bin/llmgag/'\n",
    "conda_env = 'mmseqs'\n",
    "threads = 16\n"
   ]
  },
  {
   "cell_type": "markdown",
   "metadata": {},
   "source": [
    "# Init"
   ]
  },
  {
   "cell_type": "code",
   "execution_count": 15,
   "metadata": {
    "ExecuteTime": {
     "end_time": "2020-04-16T18:57:29.042537Z",
     "start_time": "2020-04-16T18:57:28.991Z"
    }
   },
   "outputs": [],
   "source": [
    "library(dplyr)\n",
    "library(tidyr)\n",
    "library(ggplot2)\n",
    "library(data.table)\n",
    "library(tidytable)\n",
    "library(doParallel)\n",
    "library(LeyLabRMisc)"
   ]
  },
  {
   "cell_type": "code",
   "execution_count": 9,
   "metadata": {
    "ExecuteTime": {
     "end_time": "2020-04-16T18:56:09.025967Z",
     "start_time": "2020-04-16T18:56:08.936Z"
    }
   },
   "outputs": [
    {
     "name": "stdout",
     "output_type": "stream",
     "text": [
      "Created directory: /ebio/abt3_projects/Georg_animal_feces/data/metagenome/multi-study/BioProjects/merged/linclust100 \n"
     ]
    }
   ],
   "source": [
    "make_dir(work_dir)\n",
    "setDTthreads(threads)\n",
    "df.dims()"
   ]
  },
  {
   "cell_type": "markdown",
   "metadata": {},
   "source": [
    "# Metadata"
   ]
  },
  {
   "cell_type": "code",
   "execution_count": 10,
   "metadata": {
    "ExecuteTime": {
     "end_time": "2020-04-16T18:56:19.352094Z",
     "start_time": "2020-04-16T18:56:19.103Z"
    }
   },
   "outputs": [
    {
     "data": {
      "text/html": [
       "<table>\n",
       "<caption>A data.table: 14 × 3</caption>\n",
       "<thead>\n",
       "\t<tr><th scope=col>ProjectID</th><th scope=col>Host</th><th scope=col>No_samples</th></tr>\n",
       "\t<tr><th scope=col>&lt;chr&gt;</th><th scope=col>&lt;chr&gt;</th><th scope=col>&lt;dbl&gt;</th></tr>\n",
       "</thead>\n",
       "<tbody>\n",
       "\t<tr><td>PRJEB11755</td><td>Pig</td><td>100</td></tr>\n",
       "\t<tr><td>PRJEB20308</td><td>Dog</td><td>100</td></tr>\n",
       "\t<tr><td>⋮</td><td>⋮</td><td>⋮</td></tr>\n",
       "\t<tr><td>PRJNA532626 </td><td>Black rhinoceros</td><td> 25</td></tr>\n",
       "\t<tr><td>Georg_animal</td><td>Five classes    </td><td>290</td></tr>\n",
       "</tbody>\n",
       "</table>\n"
      ],
      "text/latex": [
       "A data.table: 14 × 3\n",
       "\\begin{tabular}{lll}\n",
       " ProjectID & Host & No\\_samples\\\\\n",
       " <chr> & <chr> & <dbl>\\\\\n",
       "\\hline\n",
       "\t PRJEB11755 & Pig & 100\\\\\n",
       "\t PRJEB20308 & Dog & 100\\\\\n",
       "\t ⋮ & ⋮ & ⋮\\\\\n",
       "\t PRJNA532626  & Black rhinoceros &  25\\\\\n",
       "\t Georg\\_animal & Five classes     & 290\\\\\n",
       "\\end{tabular}\n"
      ],
      "text/markdown": [
       "\n",
       "A data.table: 14 × 3\n",
       "\n",
       "| ProjectID &lt;chr&gt; | Host &lt;chr&gt; | No_samples &lt;dbl&gt; |\n",
       "|---|---|---|\n",
       "| PRJEB11755 | Pig | 100 |\n",
       "| PRJEB20308 | Dog | 100 |\n",
       "| ⋮ | ⋮ | ⋮ |\n",
       "| PRJNA532626  | Black rhinoceros |  25 |\n",
       "| Georg_animal | Five classes     | 290 |\n",
       "\n"
      ],
      "text/plain": [
       "   ProjectID    Host             No_samples\n",
       "1  PRJEB11755   Pig              100       \n",
       "2  PRJEB20308   Dog              100       \n",
       "⋮  ⋮            ⋮                ⋮         \n",
       "13 PRJNA532626  Black rhinoceros  25       \n",
       "14 Georg_animal Five classes     290       "
      ]
     },
     "metadata": {},
     "output_type": "display_data"
    }
   ],
   "source": [
    "MS_meta = readxl::read_excel(MS_meta_file) %>%\n",
    "    dplyr::select(-Publication_DOI) %>%\n",
    "    rename('No_samples' = Num_samples_used)\n",
    "df = data.frame('ProjectID' = c('Georg_animal'),\n",
    "                'Host' = c('Five classes'),\n",
    "                'No_samples' = c(290))\n",
    "MS_meta = rbind(MS_meta, df) %>%\n",
    "    as.data.table\n",
    "MS_meta"
   ]
  },
  {
   "cell_type": "markdown",
   "metadata": {},
   "source": [
    "# Merging cluster reps"
   ]
  },
  {
   "cell_type": "code",
   "execution_count": 28,
   "metadata": {
    "ExecuteTime": {
     "end_time": "2020-04-16T19:14:55.829248Z",
     "start_time": "2020-04-16T19:14:55.759Z"
    }
   },
   "outputs": [
    {
     "data": {
      "text/html": [
       "FALSE"
      ],
      "text/latex": [
       "FALSE"
      ],
      "text/markdown": [
       "FALSE"
      ],
      "text/plain": [
       "[1] FALSE"
      ]
     },
     "metadata": {},
     "output_type": "display_data"
    }
   ],
   "source": [
    "# checking for already existing merged seqs\n",
    "out_file = file.path(work_dir, 'clusters_rep-seqs.faa')\n",
    "file.exists(out_file)\n",
    "\n",
    "if(file.exists(out_file)){\n",
    "    #file.remove(out_file)\n",
    "}"
   ]
  },
  {
   "cell_type": "markdown",
   "metadata": {},
   "source": [
    "## Georg animal gut"
   ]
  },
  {
   "cell_type": "code",
   "execution_count": 29,
   "metadata": {
    "ExecuteTime": {
     "end_time": "2020-04-16T19:15:05.671771Z",
     "start_time": "2020-04-16T19:15:05.622Z"
    }
   },
   "outputs": [],
   "source": [
    "#'' function for merging fasta of sequences\n",
    "merge_seqs = function(D, base_dir, out_file){\n",
    "    F = file.path(base_dir, D, 'LLMGAG', 'cluster', 'linclust', 'clusters_rep-seqs.faa')\n",
    "    if(!file.exists(F)){\n",
    "        stop(paste0('Cannot find file: ', F))\n",
    "    }\n",
    "    cmd = glue::glue('cat {file} >> {out_file}', file=F, out_file=out_file) \n",
    "    bash_job(cmd, conda_env='py3')\n",
    "}"
   ]
  },
  {
   "cell_type": "code",
   "execution_count": 30,
   "metadata": {
    "ExecuteTime": {
     "end_time": "2020-04-16T19:15:30.775864Z",
     "start_time": "2020-04-16T19:15:06.169Z"
    }
   },
   "outputs": [
    {
     "data": {
      "text/html": [
       "<ol>\n",
       "\t<li>NULL</li>\n",
       "\t<li>NULL</li>\n",
       "\t<li>NULL</li>\n",
       "\t<li>NULL</li>\n",
       "\t<li>NULL</li>\n",
       "</ol>\n"
      ],
      "text/latex": [
       "\\begin{enumerate}\n",
       "\\item NULL\n",
       "\\item NULL\n",
       "\\item NULL\n",
       "\\item NULL\n",
       "\\item NULL\n",
       "\\end{enumerate}\n"
      ],
      "text/markdown": [
       "1. NULL\n",
       "2. NULL\n",
       "3. NULL\n",
       "4. NULL\n",
       "5. NULL\n",
       "\n",
       "\n"
      ],
      "text/plain": [
       "[[1]]\n",
       "NULL\n",
       "\n",
       "[[2]]\n",
       "NULL\n",
       "\n",
       "[[3]]\n",
       "NULL\n",
       "\n",
       "[[4]]\n",
       "NULL\n",
       "\n",
       "[[5]]\n",
       "NULL\n"
      ]
     },
     "metadata": {},
     "output_type": "display_data"
    }
   ],
   "source": [
    "## WARNING: uncomment to re-merge\n",
    "plyr::llply(as.list(GA_out_dirs), merge_seqs, base_dir=GA_base_out_dir, out_file=out_file) "
   ]
  },
  {
   "cell_type": "code",
   "execution_count": 31,
   "metadata": {
    "ExecuteTime": {
     "end_time": "2020-04-16T19:15:39.089452Z",
     "start_time": "2020-04-16T19:15:15.464Z"
    }
   },
   "outputs": [
    {
     "name": "stdout",
     "output_type": "stream",
     "text": [
      "Number of rep sequences: 29035083 \n",
      "\n"
     ]
    }
   ],
   "source": [
    "# number of merged rep sequences\n",
    "cmd = glue::glue('grep -c \">\" {fasta}', fasta=out_file)\n",
    "n_seqs = as.numeric(system(cmd, intern=TRUE))\n",
    "cat('Number of rep sequences:', n_seqs , '\\n\\n')"
   ]
  },
  {
   "cell_type": "markdown",
   "metadata": {},
   "source": [
    "## Multi-study"
   ]
  },
  {
   "cell_type": "code",
   "execution_count": 32,
   "metadata": {
    "ExecuteTime": {
     "end_time": "2020-04-16T19:17:41.704674Z",
     "start_time": "2020-04-16T19:15:17.400Z"
    }
   },
   "outputs": [
    {
     "data": {
      "text/html": [
       "<ol>\n",
       "\t<li>NULL</li>\n",
       "\t<li>NULL</li>\n",
       "\t<li>NULL</li>\n",
       "\t<li>NULL</li>\n",
       "\t<li>NULL</li>\n",
       "\t<li>NULL</li>\n",
       "\t<li>NULL</li>\n",
       "\t<li>NULL</li>\n",
       "\t<li>NULL</li>\n",
       "\t<li>NULL</li>\n",
       "\t<li>NULL</li>\n",
       "\t<li>NULL</li>\n",
       "\t<li>NULL</li>\n",
       "</ol>\n"
      ],
      "text/latex": [
       "\\begin{enumerate}\n",
       "\\item NULL\n",
       "\\item NULL\n",
       "\\item NULL\n",
       "\\item NULL\n",
       "\\item NULL\n",
       "\\item NULL\n",
       "\\item NULL\n",
       "\\item NULL\n",
       "\\item NULL\n",
       "\\item NULL\n",
       "\\item NULL\n",
       "\\item NULL\n",
       "\\item NULL\n",
       "\\end{enumerate}\n"
      ],
      "text/markdown": [
       "1. NULL\n",
       "2. NULL\n",
       "3. NULL\n",
       "4. NULL\n",
       "5. NULL\n",
       "6. NULL\n",
       "7. NULL\n",
       "8. NULL\n",
       "9. NULL\n",
       "10. NULL\n",
       "11. NULL\n",
       "12. NULL\n",
       "13. NULL\n",
       "\n",
       "\n"
      ],
      "text/plain": [
       "[[1]]\n",
       "NULL\n",
       "\n",
       "[[2]]\n",
       "NULL\n",
       "\n",
       "[[3]]\n",
       "NULL\n",
       "\n",
       "[[4]]\n",
       "NULL\n",
       "\n",
       "[[5]]\n",
       "NULL\n",
       "\n",
       "[[6]]\n",
       "NULL\n",
       "\n",
       "[[7]]\n",
       "NULL\n",
       "\n",
       "[[8]]\n",
       "NULL\n",
       "\n",
       "[[9]]\n",
       "NULL\n",
       "\n",
       "[[10]]\n",
       "NULL\n",
       "\n",
       "[[11]]\n",
       "NULL\n",
       "\n",
       "[[12]]\n",
       "NULL\n",
       "\n",
       "[[13]]\n",
       "NULL\n"
      ]
     },
     "metadata": {},
     "output_type": "display_data"
    }
   ],
   "source": [
    "## WARNING: uncomment to re-merge\n",
    "plyr::llply(as.list(MS_out_dirs), merge_seqs, base_dir=MS_base_out_dir, out_file=out_file) "
   ]
  },
  {
   "cell_type": "code",
   "execution_count": 33,
   "metadata": {
    "ExecuteTime": {
     "end_time": "2020-04-16T19:20:51.715682Z",
     "start_time": "2020-04-16T19:15:20.184Z"
    }
   },
   "outputs": [
    {
     "name": "stdout",
     "output_type": "stream",
     "text": [
      "Number of rep sequences: 166557140 \n",
      "\n"
     ]
    }
   ],
   "source": [
    "# number of merged rep sequences\n",
    "cmd = glue::glue('grep -c \">\" {fasta}', fasta=out_file)\n",
    "n_seqs = as.numeric(system(cmd, intern=TRUE))\n",
    "cat('Number of rep sequences:', n_seqs , '\\n\\n')"
   ]
  },
  {
   "cell_type": "markdown",
   "metadata": {},
   "source": [
    "# Clustering reps"
   ]
  },
  {
   "cell_type": "markdown",
   "metadata": {},
   "source": [
    "## LLMGAG\n",
    "\n",
    "* starting with merged reps at linclust step in the pipeline\n",
    "  * moved merged rep seqs to `$WORKDIR/assembly/plass/genes.faa`\n",
    "  * skipped raw & assembly steps of the pipeline"
   ]
  },
  {
   "cell_type": "code",
   "execution_count": 34,
   "metadata": {
    "ExecuteTime": {
     "end_time": "2020-04-16T19:20:51.756386Z",
     "start_time": "2020-04-16T19:15:33.504Z"
    }
   },
   "outputs": [
    {
     "name": "stdout",
     "output_type": "stream",
     "text": [
      "#-- I/O --#\n",
      "# table with sample --> read_file information\n",
      "#samples_file: /ebio/abt3_projects/Georg_animal_feces/data/metagenome/multi-study/BioProjects/merged/linclust90/samples_filler.txt\n",
      "samples_file: /ebio/abt3_projects/methanogen_host_evo/bin/llmgag/tests/samples/samples_amy_n6.txt\n",
      "\n",
      "# output location\n",
      "output_dir: /ebio/abt3_projects/Georg_animal_feces/data/metagenome/multi-study/BioProjects/merged/linclust100/\n",
      "\n",
      "# cluster reps\n",
      "## If a fasta file (AA seqs) provided, the pipeline will start at the linclust step\n",
      "aa_fasta: /ebio/abt3_projects/Georg_animal_feces/data/metagenome/multi-study/BioProjects/merged/linclust100/clusters_rep-seqs.faa\n",
      "\n",
      "#-- database --#\n",
      "## eggnog mapper\n",
      "eggnog_diamond_db: /ebio/abt3_projects/databases_no-backup/Eggnog/v2/eggnog_proteins.dmnd\n",
      "eggnog_db: /ebio/abt3_projects/databases_no-backup/Eggnog/v2/eggnog.db\n",
      "## mmseqs taxonomy\n",
      "mmseqs_tax_db: /ebio/abt3_projects/databases_no-backup/uniclust/uniclust50/uniclust50_2018_08_consensus\n",
      "## checkM\n",
      "checkM_data: /ebio/abt3_projects/databases_no-backup/checkM/\n",
      "## sourmash\n",
      "sourmash_db: /ebio/abt3_projects/databases_no-backup/sourmash/genbank-k31.sbt.json\n",
      "sourmash_lca_db: /ebio/abt3_projects/databases_no-backup/sourmash/genbank-k31.lca.json.gz\n",
      "# humann2 diamond\n",
      "humann2_diamond_db: /ebio/abt3_projects/databases_no-backup/humann2/uniref50/uniref50_annotated.1.1.dmnd\n",
      "# empanada\n",
      "empanada_kegg_db: /ebio/abt3_projects/databases_no-backup/empanada/KOvsPATHWAY_BACTERIAL_KEGG_2013_07_15.tab\n",
      "empanada_ptwy_db: /ebio/abt3_projects/databases_no-backup/empanada/map_kegg-pwy_name.txt.gz\n",
      "\n",
      "#-- main params --#\n",
      "## co-assemble all samples together or each sample individually?\n",
      "all_sample_coassembly: False\n",
      "\n",
      "#-- software parameters --#\n",
      "# Notes:\n",
      "## Use \"Skip\" to skip any step. If no params, just use \"\"\n",
      "## Note: You must skip either metacompass_megahit or metacompass_metaspades (or both)\n",
      "params:\n",
      "  # reads\n",
      "  subsample_reads: Skip     # (eg., 1000000)\n",
      "  fastqc_on_raw: Skip #\"\"\n",
      "  # assembly\n",
      "  plass: Skip #--num-iterations 12 --min-seq-id 0.9\n",
      "  # gene clustering\n",
      "  linclust: --min-seq-id 1 -c 0.9 --kmer-per-seq 50\n",
      "  # annotation\n",
      "  eggnog_mapper_jobs: 300 \n",
      "  eggnog_mapper: Skip #\"\"\n",
      "  eggnog_mapper_annot: \"\"\n",
      "  # pathways\n",
      "  empanada: Skip #--abundance_threshold 0.0 \n",
      "  # taxonomy\n",
      "  mmseqs_tax_jobs: 300       # number of parallel batched jobs\n",
      "  mmseqs_tax: Skip #-e 1e-5 --max-seqs 200 --lca-ranks \"superkingdom:kingdom:phylum:class:order:family:genus:species\"\n",
      "  # mapping\n",
      "  mmseqs_map: Skip #-s 2 -c 0.9 --cov-mode 2\n",
      "  mmseqs_blast_filter: --qcov 0.95 --seq-id 0.95 --e-value 1e-20\n",
      "  mmseqs_blast_to_bam: --mapq 30\n",
      "  merge_tables: --no-dask    # dask is currently broken\n",
      "  # formatting for humann2 db\n",
      "  diamond: Skip #--evalue 1e-5 --sensitive\n",
      "  diamond_db_to_mem: True\n",
      "\n",
      "#-- snakemake pipeline --#\n",
      "pipeline:\n",
      "  snakemake_folder: ./\n",
      "  script_folder: bin/scripts/\n",
      "  temp_folder: /ebio/abt3_scratch/\n"
     ]
    }
   ],
   "source": [
    "# config file\n",
    "cat_file(file.path(work_dir, 'config.yaml'))"
   ]
  },
  {
   "cell_type": "markdown",
   "metadata": {},
   "source": [
    "## Run"
   ]
  },
  {
   "cell_type": "markdown",
   "metadata": {},
   "source": [
    "```\n",
    "(base) @ rick:/ebio/abt3_projects/methanogen_host_evo/bin/llmgag\n",
    "screen -L -S llmgag-all ./snakemake_sge.sh /ebio/abt3_projects/Georg_animal_feces/data/metagenome/multi-study/BioProjects/merged/linclust100/config.yaml cluster.json /ebio/abt3_projects/Georg_animal_feces/data/metagenome/multi-study/BioProjects/merged/linclust100/SGE_log 50\n",
    "```"
   ]
  },
  {
   "cell_type": "code",
   "execution_count": 35,
   "metadata": {
    "ExecuteTime": {
     "end_time": "2020-04-16T19:36:29.921729Z",
     "start_time": "2020-04-16T19:36:29.749Z"
    }
   },
   "outputs": [
    {
     "name": "stdout",
     "output_type": "stream",
     "text": [
      "LLMGAG\n",
      "======\n",
      "\n",
      "Ley Lab Metagenome Assembly of Genes (LLMGAG)\n",
      "\n",
      "* Version: 0.1.4\n",
      "* Authors:\n",
      "  * Nick Youngblut <nyoungb2@gmail.com>\n",
      "* Maintainers:\n",
      "  * Nick Youngblut <nyoungb2@gmail.com>\n",
      "\n",
      "--- conda envs ---\n",
      "==> /ebio/abt3_projects/methanogen_host_evo/bin/llmgag//bin/envs/annotate.yaml <==\n",
      "channels: !!python/tuple\n",
      "- bioconda\n",
      "dependencies:\n",
      "- pigz\n",
      "- bioconda::fasta-splitter\n",
      "- bioconda::eggnog-mapper\n",
      "\n",
      "==> /ebio/abt3_projects/methanogen_host_evo/bin/llmgag//bin/envs/checkm.yaml <==\n",
      "channels: !!python/tuple\n",
      "- bioconda\n",
      "dependencies:\n",
      "- python=2\n",
      "- pigz\n",
      "- bioconda::prodigal\n",
      "- bioconda::pplacer\n",
      "- bioconda::checkm-genome\n",
      "\n",
      "==> /ebio/abt3_projects/methanogen_host_evo/bin/llmgag//bin/envs/das_tool.yaml <==\n",
      "channels: !!python/tuple\n",
      "- r\n",
      "- bioconda\n",
      "dependencies:\n",
      "- pigz\n",
      "- ruby\n",
      "- r::r-base\n",
      "- r::r-data.table\n",
      "- r::r-domc\n",
      "- r::r-ggplot2\n",
      "- bioconda::pullseq\n",
      "- bioconda::prodigal\n",
      "- bioconda::blast\n",
      "- bioconda::diamond\n",
      "==> /ebio/abt3_projects/methanogen_host_evo/bin/llmgag//bin/envs/dask.yaml <==\n",
      "channels: !!python/tuple\n",
      "- conda-forge\n",
      "dependencies:\n",
      "- conda-forge::dask=0.18.1\n",
      "\n",
      "==> /ebio/abt3_projects/methanogen_host_evo/bin/llmgag//bin/envs/empanda.yaml <==\n",
      "channels: !!python/tuple\n",
      "- bioconda\n",
      "- conda-forge\n",
      "dependencies:\n",
      "- pigz\n",
      "- conda-forge::numpy=1.15\n",
      "- conda-forge::pandas\n",
      "- conda-forge::r-argparse\n",
      "- conda-forge::r-dplyr\n",
      "- conda-forge::r-tidyr\n",
      "- conda-forge::r-stringr\n",
      "- conda-forge::r-data.table\n",
      "- pip:\n",
      "  - empanada\n",
      "\n",
      "==> /ebio/abt3_projects/methanogen_host_evo/bin/llmgag//bin/envs/hadley.yaml <==\n",
      "channels: !!python/tuple\n",
      "- conda-forge\n",
      "dependencies:\n",
      "- conda-forge::r-ape\n",
      "- conda-forge::r-dplyr\n",
      "- conda-forge::r-tidyr\n",
      "- conda-forge::r-ggplot2\n",
      "\n",
      "==> /ebio/abt3_projects/methanogen_host_evo/bin/llmgag//bin/envs/humann2.yaml <==\n",
      "channels: !!python/tuple\n",
      "- bioconda\n",
      "dependencies:\n",
      "- pigz\n",
      "- bioconda::prodigal\n",
      "- bioconda::diamond=0.8.36\n",
      "\n",
      "==> /ebio/abt3_projects/methanogen_host_evo/bin/llmgag//bin/envs/metabat2.yaml <==\n",
      "channels: !!python/tuple\n",
      "- BioBuilds\n",
      "- bioconda\n",
      "dependencies:\n",
      "- pigz\n",
      "- python=2.7\n",
      "- BioBuilds::boost>=1.55.0\n",
      "- scons>=2.1.0\n",
      "- zlib>=1.2.4\n",
      "- BioBuilds::binutils>=2.2.2\n",
      "\n",
      "==> /ebio/abt3_projects/methanogen_host_evo/bin/llmgag//bin/envs/multiqc.yaml <==\n",
      "channels: !!python/tuple\n",
      "- bioconda\n",
      "dependencies:\n",
      "- bioconda::fastqc\n",
      "- bioconda::multiqc\n",
      "\n",
      "==> /ebio/abt3_projects/methanogen_host_evo/bin/llmgag//bin/envs/plass.yaml <==\n",
      "channels: !!python/tuple\n",
      "- bioconda\n",
      "dependencies:\n",
      "- pigz\n",
      "- bioconda::seqtk\n",
      "- bioconda::samtools\n",
      "- bioconda::mmseqs2\n",
      "- bioconda::plass\n",
      "\n",
      "==> /ebio/abt3_projects/methanogen_host_evo/bin/llmgag//bin/envs/sourmash.yaml <==\n",
      "channels: !!python/tuple\n",
      "- bioconda\n",
      "dependencies:\n",
      "- bioconda::sourmash=2.0.0a9\n",
      "\n",
      "==> /ebio/abt3_projects/methanogen_host_evo/bin/llmgag//bin/envs/vamb.yaml <==\n",
      "channels: !!python/tuple\n",
      "- bioconda\n",
      "- conda-forge\n",
      "dependencies:\n",
      "- pigz\n",
      "- pytorch\n",
      "- numpy\n",
      "- pysam"
     ]
    }
   ],
   "source": [
    "pipelineInfo(pipeline_dir)"
   ]
  },
  {
   "cell_type": "markdown",
   "metadata": {},
   "source": [
    "# Summary"
   ]
  },
  {
   "cell_type": "markdown",
   "metadata": {},
   "source": [
    "## Number of gene clusters"
   ]
  },
  {
   "cell_type": "code",
   "execution_count": 36,
   "metadata": {
    "ExecuteTime": {
     "end_time": "2020-04-17T06:48:33.355456Z",
     "start_time": "2020-04-17T06:47:40.655Z"
    }
   },
   "outputs": [
    {
     "name": "stdout",
     "output_type": "stream",
     "text": [
      "Number of cluster rep sequences: 150718125 \n"
     ]
    }
   ],
   "source": [
    "F = file.path(work_dir, 'cluster', 'linclust', 'clusters_rep-seqs.faa')\n",
    "cmd = glue::glue('grep -c \">\" {fasta}', fasta=F)\n",
    "n_rep_seqs = system(cmd, intern=TRUE)\n",
    "cat('Number of cluster rep sequences:', n_rep_seqs, '\\n')"
   ]
  },
  {
   "cell_type": "markdown",
   "metadata": {},
   "source": [
    "# sessionInfo"
   ]
  },
  {
   "cell_type": "code",
   "execution_count": 37,
   "metadata": {
    "ExecuteTime": {
     "end_time": "2020-04-17T06:48:33.979837Z",
     "start_time": "2020-04-17T06:47:52.672Z"
    }
   },
   "outputs": [
    {
     "data": {
      "text/plain": [
       "R version 3.6.2 (2019-12-12)\n",
       "Platform: x86_64-conda_cos6-linux-gnu (64-bit)\n",
       "Running under: Ubuntu 18.04.4 LTS\n",
       "\n",
       "Matrix products: default\n",
       "BLAS/LAPACK: /ebio/abt3_projects/Georg_animal_feces/envs/tidyverse/lib/libopenblasp-r0.3.7.so\n",
       "\n",
       "locale:\n",
       " [1] LC_CTYPE=en_US.UTF-8       LC_NUMERIC=C              \n",
       " [3] LC_TIME=en_US.UTF-8        LC_COLLATE=en_US.UTF-8    \n",
       " [5] LC_MONETARY=en_US.UTF-8    LC_MESSAGES=en_US.UTF-8   \n",
       " [7] LC_PAPER=en_US.UTF-8       LC_NAME=C                 \n",
       " [9] LC_ADDRESS=C               LC_TELEPHONE=C            \n",
       "[11] LC_MEASUREMENT=en_US.UTF-8 LC_IDENTIFICATION=C       \n",
       "\n",
       "attached base packages:\n",
       "[1] parallel  stats     graphics  grDevices utils     datasets  methods  \n",
       "[8] base     \n",
       "\n",
       "other attached packages:\n",
       "[1] doParallel_1.0.15 iterators_1.0.12  foreach_1.4.7     LeyLabRMisc_0.1.3\n",
       "[5] tidytable_0.3.2   data.table_1.12.8 ggplot2_3.2.1     tidyr_1.0.0      \n",
       "[9] dplyr_0.8.3      \n",
       "\n",
       "loaded via a namespace (and not attached):\n",
       " [1] Rcpp_1.0.3       plyr_1.8.5       cellranger_1.1.0 pillar_1.4.3    \n",
       " [5] compiler_3.6.2   base64enc_0.1-3  tools_3.6.2      zeallot_0.1.0   \n",
       " [9] digest_0.6.23    uuid_0.1-2       jsonlite_1.6     evaluate_0.14   \n",
       "[13] tibble_2.1.3     lifecycle_0.1.0  gtable_0.3.0     pkgconfig_2.0.3 \n",
       "[17] rlang_0.4.2      IRdisplay_0.7.0  IRkernel_1.1     repr_1.0.2      \n",
       "[21] withr_2.1.2      vctrs_0.2.1      grid_3.6.2       tidyselect_0.2.5\n",
       "[25] glue_1.3.1       R6_2.4.1         readxl_1.3.1     pbdZMQ_0.3-3    \n",
       "[29] purrr_0.3.3      magrittr_1.5     codetools_0.2-16 backports_1.1.5 \n",
       "[33] scales_1.1.0     htmltools_0.4.0  assertthat_0.2.1 colorspace_1.4-1\n",
       "[37] lazyeval_0.2.2   munsell_0.5.0    crayon_1.3.4    "
      ]
     },
     "metadata": {},
     "output_type": "display_data"
    }
   ],
   "source": [
    "sessionInfo()"
   ]
  },
  {
   "cell_type": "code",
   "execution_count": null,
   "metadata": {},
   "outputs": [],
   "source": []
  }
 ],
 "metadata": {
  "kernelspec": {
   "display_name": "R [conda env:Georg_animal_feces-tidyverse]",
   "language": "R",
   "name": "conda-env-Georg_animal_feces-tidyverse-r"
  },
  "language_info": {
   "codemirror_mode": "r",
   "file_extension": ".r",
   "mimetype": "text/x-r-source",
   "name": "R",
   "pygments_lexer": "r",
   "version": "3.6.2"
  },
  "toc": {
   "base_numbering": 1,
   "nav_menu": {},
   "number_sections": true,
   "sideBar": true,
   "skip_h1_title": false,
   "title_cell": "Table of Contents",
   "title_sidebar": "Contents",
   "toc_cell": true,
   "toc_position": {},
   "toc_section_display": true,
   "toc_window_display": true
  }
 },
 "nbformat": 4,
 "nbformat_minor": 4
}
