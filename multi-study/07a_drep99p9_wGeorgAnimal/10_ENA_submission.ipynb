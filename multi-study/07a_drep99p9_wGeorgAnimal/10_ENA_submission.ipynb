{
 "cells": [
  {
   "cell_type": "markdown",
   "metadata": {
    "toc": true
   },
   "source": [
    "<h1>Table of Contents<span class=\"tocSkip\"></span></h1>\n",
    "<div class=\"toc\"><ul class=\"toc-item\"><li><span><a href=\"#Goal\" data-toc-modified-id=\"Goal-1\"><span class=\"toc-item-num\">1&nbsp;&nbsp;</span>Goal</a></span></li><li><span><a href=\"#Init\" data-toc-modified-id=\"Init-2\"><span class=\"toc-item-num\">2&nbsp;&nbsp;</span>Init</a></span></li><li><span><a href=\"#Load\" data-toc-modified-id=\"Load-3\"><span class=\"toc-item-num\">3&nbsp;&nbsp;</span>Load</a></span><ul class=\"toc-item\"><li><span><a href=\"#MAGs\" data-toc-modified-id=\"MAGs-3.1\"><span class=\"toc-item-num\">3.1&nbsp;&nbsp;</span>MAGs</a></span></li><li><span><a href=\"#multi-species\" data-toc-modified-id=\"multi-species-3.2\"><span class=\"toc-item-num\">3.2&nbsp;&nbsp;</span>multi-species</a></span></li><li><span><a href=\"#multi-study\" data-toc-modified-id=\"multi-study-3.3\"><span class=\"toc-item-num\">3.3&nbsp;&nbsp;</span>multi-study</a></span><ul class=\"toc-item\"><li><ul class=\"toc-item\"><li><span><a href=\"#Notes\" data-toc-modified-id=\"Notes-3.3.0.1\"><span class=\"toc-item-num\">3.3.0.1&nbsp;&nbsp;</span>Notes</a></span></li></ul></li></ul></li></ul></li><li><span><a href=\"#Format/join\" data-toc-modified-id=\"Format/join-4\"><span class=\"toc-item-num\">4&nbsp;&nbsp;</span>Format/join</a></span><ul class=\"toc-item\"><li><span><a href=\"#Combining-all-metadata\" data-toc-modified-id=\"Combining-all-metadata-4.1\"><span class=\"toc-item-num\">4.1&nbsp;&nbsp;</span>Combining all metadata</a></span></li><li><span><a href=\"#Final-table\" data-toc-modified-id=\"Final-table-4.2\"><span class=\"toc-item-num\">4.2&nbsp;&nbsp;</span>Final table</a></span><ul class=\"toc-item\"><li><span><a href=\"#Checks\" data-toc-modified-id=\"Checks-4.2.1\"><span class=\"toc-item-num\">4.2.1&nbsp;&nbsp;</span>Checks</a></span></li></ul></li></ul></li><li><span><a href=\"#Writing-table\" data-toc-modified-id=\"Writing-table-5\"><span class=\"toc-item-num\">5&nbsp;&nbsp;</span>Writing table</a></span></li><li><span><a href=\"#Creating-manifest-files\" data-toc-modified-id=\"Creating-manifest-files-6\"><span class=\"toc-item-num\">6&nbsp;&nbsp;</span>Creating manifest files</a></span><ul class=\"toc-item\"><li><span><a href=\"#multi-species-dataset-MAGs\" data-toc-modified-id=\"multi-species-dataset-MAGs-6.1\"><span class=\"toc-item-num\">6.1&nbsp;&nbsp;</span>multi-species dataset MAGs</a></span></li><li><span><a href=\"#Copying-MAGs\" data-toc-modified-id=\"Copying-MAGs-6.2\"><span class=\"toc-item-num\">6.2&nbsp;&nbsp;</span>Copying MAGs</a></span><ul class=\"toc-item\"><li><span><a href=\"#ENA-CLI-submission\" data-toc-modified-id=\"ENA-CLI-submission-6.2.1\"><span class=\"toc-item-num\">6.2.1&nbsp;&nbsp;</span>ENA CLI submission</a></span></li><li><span><a href=\"#Re-naming-and-re-submitting-errors\" data-toc-modified-id=\"Re-naming-and-re-submitting-errors-6.2.2\"><span class=\"toc-item-num\">6.2.2&nbsp;&nbsp;</span>Re-naming and re-submitting errors</a></span></li></ul></li></ul></li><li><span><a href=\"#---TO-HERE---\" data-toc-modified-id=\"---TO-HERE----7\"><span class=\"toc-item-num\">7&nbsp;&nbsp;</span>-- TO HERE --</a></span><ul class=\"toc-item\"><li><span><a href=\"#published-studies-MAGs\" data-toc-modified-id=\"published-studies-MAGs-7.1\"><span class=\"toc-item-num\">7.1&nbsp;&nbsp;</span>published studies MAGs</a></span><ul class=\"toc-item\"><li><span><a href=\"#ENA-CLI-submission\" data-toc-modified-id=\"ENA-CLI-submission-7.1.1\"><span class=\"toc-item-num\">7.1.1&nbsp;&nbsp;</span>ENA CLI submission</a></span></li></ul></li></ul></li><li><span><a href=\"#Notes\" data-toc-modified-id=\"Notes-8\"><span class=\"toc-item-num\">8&nbsp;&nbsp;</span>Notes</a></span><ul class=\"toc-item\"><li><span><a href=\"#MIMAG-data\" data-toc-modified-id=\"MIMAG-data-8.1\"><span class=\"toc-item-num\">8.1&nbsp;&nbsp;</span>MIMAG data</a></span></li><li><span><a href=\"#BioProject-metadata\" data-toc-modified-id=\"BioProject-metadata-8.2\"><span class=\"toc-item-num\">8.2&nbsp;&nbsp;</span>BioProject metadata</a></span></li></ul></li><li><span><a href=\"#sessionInfo\" data-toc-modified-id=\"sessionInfo-9\"><span class=\"toc-item-num\">9&nbsp;&nbsp;</span>sessionInfo</a></span></li></ul></div>"
   ]
  },
  {
   "cell_type": "markdown",
   "metadata": {},
   "source": [
    "# Goal\n",
    "\n",
    "* Submit all non-redundant, quality MAGs to the ENA"
   ]
  },
  {
   "cell_type": "code",
   "execution_count": 2,
   "metadata": {
    "ExecuteTime": {
     "end_time": "2020-05-27T11:15:49.821870Z",
     "start_time": "2020-05-27T11:15:49.712Z"
    }
   },
   "outputs": [],
   "source": [
    "work_dir = file.path('/ebio/abt3_projects/Georg_animal_feces/data/',\n",
    "                     'metagenome/multi-study/BioProjects/summary/LLMGA/wGeorgAnimal',\n",
    "                     'ENA_upload')\n",
    "\n",
    "mag_meta_file = '/ebio/abt3_projects/Georg_animal_feces/data/metagenome/multi-study/BioProjects/summary/LLMGA/wGeorgAnimal/drep-0.999/drep-MAG_metadata.tsv'\n",
    "\n",
    "# multi-species dataset metadata\n",
    "MS_meta_file = '/ebio/abt3_projects/Georg_animal_feces/data/metagenome/HiSeqRuns126-133-0138/ENA_upload/ENA_sample_metadata.tsv'\n",
    "## ENA accessions for all samples\n",
    "MS_ENA_acc_file = '/ebio/abt3_projects/Georg_animal_feces/data/metagenome/HiSeqRuns126-133-0138/ENA_upload/ENA_accessions.tsv'\n",
    "\n",
    "# multi-study dataset metadata\n",
    "Mst_meta_file = '/ebio/abt3_projects/Georg_animal_feces/data/metagenome/multi-study/BioProjects/summary/biosample_metadata.tsv'\n",
    "## bioprojects used \n",
    "Mst_bioprojects = c('PRJEB11755', 'PRJEB20308', 'PRJEB29346',\n",
    "                'PRJNA336354', 'PRJNA381379', 'PRJNA417359',\n",
    "                'PRJNA532626', 'PRJNA476660', 'PRJNA485217',\n",
    "                'PRJNA316560', 'PRJNA316570', 'PRJEB22765',\n",
    "                'PRJEB23642', 'PRJEB9357')\n",
    "bioproject_base_dir = '/ebio/abt3_projects/Georg_animal_feces/data/metagenome/multi-study/BioProjects/'\n",
    "\n",
    "# params\n",
    "threads = 16"
   ]
  },
  {
   "cell_type": "markdown",
   "metadata": {},
   "source": [
    "# Init"
   ]
  },
  {
   "cell_type": "code",
   "execution_count": 5,
   "metadata": {
    "ExecuteTime": {
     "end_time": "2020-05-27T11:15:54.224639Z",
     "start_time": "2020-05-27T11:15:53.608Z"
    }
   },
   "outputs": [],
   "source": [
    "library(dplyr)\n",
    "library(tidyr)\n",
    "library(ggplot2)\n",
    "library(data.table)\n",
    "library(tidytable)\n",
    "library(LeyLabRMisc)"
   ]
  },
  {
   "cell_type": "code",
   "execution_count": 4,
   "metadata": {
    "ExecuteTime": {
     "end_time": "2020-05-27T11:15:54.198719Z",
     "start_time": "2020-05-27T11:15:50.201Z"
    }
   },
   "outputs": [
    {
     "name": "stdout",
     "output_type": "stream",
     "text": [
      "Directory already exists: /ebio/abt3_projects/Georg_animal_feces/data//metagenome/multi-study/BioProjects/summary/LLMGA/wGeorgAnimal/ENA_upload \n"
     ]
    }
   ],
   "source": [
    "make_dir(work_dir)\n",
    "df.dims()\n",
    "setDTthreads(threads)"
   ]
  },
  {
   "cell_type": "markdown",
   "metadata": {},
   "source": [
    "# Load"
   ]
  },
  {
   "cell_type": "markdown",
   "metadata": {},
   "source": [
    "## MAGs"
   ]
  },
  {
   "cell_type": "code",
   "execution_count": 6,
   "metadata": {
    "ExecuteTime": {
     "end_time": "2020-05-27T11:15:56.971356Z",
     "start_time": "2020-05-27T11:15:56.656Z"
    }
   },
   "outputs": [
    {
     "data": {
      "text/html": [
       "<table>\n",
       "<caption>A tidytable: 5596 × 57</caption>\n",
       "<thead>\n",
       "\t<tr><th scope=col>binID</th><th scope=col>fasta.x</th><th scope=col>Marker.lineage</th><th scope=col>X..genomes</th><th scope=col>X..markers</th><th scope=col>X..marker.sets</th><th scope=col>Completeness</th><th scope=col>Contamination</th><th scope=col>Strain.heterogeneity</th><th scope=col>Genome.size..bp.</th><th scope=col>⋯</th><th scope=col>closest_placement_ani</th><th scope=col>closest_placement_af</th><th scope=col>pplacer_taxonomy</th><th scope=col>classification_method</th><th scope=col>note</th><th scope=col>aa_percent</th><th scope=col>translation_table</th><th scope=col>red_value</th><th scope=col>warnings</th><th scope=col>Sample</th></tr>\n",
       "\t<tr><th scope=col>&lt;chr&gt;</th><th scope=col>&lt;chr&gt;</th><th scope=col>&lt;chr&gt;</th><th scope=col>&lt;int&gt;</th><th scope=col>&lt;int&gt;</th><th scope=col>&lt;int&gt;</th><th scope=col>&lt;dbl&gt;</th><th scope=col>&lt;dbl&gt;</th><th scope=col>&lt;dbl&gt;</th><th scope=col>&lt;int&gt;</th><th scope=col>⋯</th><th scope=col>&lt;chr&gt;</th><th scope=col>&lt;chr&gt;</th><th scope=col>&lt;chr&gt;</th><th scope=col>&lt;chr&gt;</th><th scope=col>&lt;chr&gt;</th><th scope=col>&lt;dbl&gt;</th><th scope=col>&lt;int&gt;</th><th scope=col>&lt;chr&gt;</th><th scope=col>&lt;chr&gt;</th><th scope=col>&lt;chr&gt;</th></tr>\n",
       "</thead>\n",
       "<tbody>\n",
       "\t<tr><td>artificially_reared_1__metabat2_low_PE.001.contigs</td><td>/ebio/abt3_projects/Georg_animal_feces/data//metagenome/multi-study/BioProjects/summary/LLMGA/wGeorgAnimal/drep-0.999/dereplicated_genomes/artificially_reared_1__metabat2_low_PE.001.contigs.fa</td><td>o__Bacteroidales (UID2657)</td><td>160</td><td>491</td><td>268</td><td>87.24</td><td>4.15</td><td>45.00</td><td>2455242</td><td>⋯</td><td>94.69</td><td>0.95</td><td>d__Bacteria;p__Bacteroidota;c__Bacteroidia;o__Bacteroidales;f__Bacteroidaceae;g__Bacteroides_A;s__</td><td>ANI      </td><td>topological placement and ANI have incongruent species assignments</td><td>80.20</td><td>11</td><td>N/A           </td><td>N/A</td><td>artificially_reared_1</td></tr>\n",
       "\t<tr><td>artificially_reared_1__metabat2_low_PE.002.contigs</td><td>/ebio/abt3_projects/Georg_animal_feces/data//metagenome/multi-study/BioProjects/summary/LLMGA/wGeorgAnimal/drep-0.999/dereplicated_genomes/artificially_reared_1__metabat2_low_PE.002.contigs.fa</td><td>o__Bacteroidales (UID2657)</td><td>160</td><td>491</td><td>268</td><td>92.92</td><td>3.00</td><td>28.57</td><td>3388189</td><td>⋯</td><td>85.72</td><td>0.61</td><td>d__Bacteria;p__Bacteroidota;c__Bacteroidia;o__Bacteroidales;f__Bacteroidaceae;g__Bacteroides_A;s__</td><td>Placement</td><td>taxonomic classification fully defined by topology                </td><td>93.33</td><td>11</td><td>0.985595897806</td><td>N/A</td><td>artificially_reared_1</td></tr>\n",
       "\t<tr><td>⋮</td><td>⋮</td><td>⋮</td><td>⋮</td><td>⋮</td><td>⋮</td><td>⋮</td><td>⋮</td><td>⋮</td><td>⋮</td><td>⋱</td><td>⋮</td><td>⋮</td><td>⋮</td><td>⋮</td><td>⋮</td><td>⋮</td><td>⋮</td><td>⋮</td><td>⋮</td><td>⋮</td></tr>\n",
       "\t<tr><td>X96_European_Hare__metabat2_high_PE.013.contigs</td><td>/ebio/abt3_projects/Georg_animal_feces/data//metagenome/multi-study/BioProjects/summary/LLMGA/wGeorgAnimal/drep-0.999/dereplicated_genomes/X96_European_Hare__metabat2_high_PE.013.contigs.fa</td><td>o__Clostridiales (UID1212)</td><td>172</td><td>263</td><td>149</td><td>93.83</td><td>1.45</td><td>0</td><td>2554075</td><td>⋯</td><td>76.48</td><td>0.13</td><td>d__Bacteria;p__Firmicutes_A;c__Clostridia;o__Oscillospirales;f__Oscillospiraceae;g__;s__          </td><td>Placement</td><td>taxonomic novelty determined using RED                            </td><td>94.40</td><td>11</td><td>0.918766142869</td><td>N/A</td><td>X96_European_Hare</td></tr>\n",
       "\t<tr><td>X96_European_Hare__metabat2_low_PE.005.contigs </td><td>/ebio/abt3_projects/Georg_animal_feces/data//metagenome/multi-study/BioProjects/summary/LLMGA/wGeorgAnimal/drep-0.999/dereplicated_genomes/X96_European_Hare__metabat2_low_PE.005.contigs.fa </td><td>o__Bacteroidales (UID2654)</td><td>163</td><td>486</td><td>266</td><td>64.45</td><td>0.38</td><td>0</td><td>2150813</td><td>⋯</td><td>98.02</td><td>0.99</td><td>d__Bacteria;p__Bacteroidota;c__Bacteroidia;o__Bacteroidales;f__Bacteroidaceae;g__Bacteroides_B;s__</td><td>ANI      </td><td>topological placement and ANI have incongruent species assignments</td><td>68.35</td><td>11</td><td>N/A           </td><td>N/A</td><td>X96_European_Hare</td></tr>\n",
       "</tbody>\n",
       "</table>\n"
      ],
      "text/latex": [
       "A tidytable: 5596 × 57\n",
       "\\begin{tabular}{lllllllllllllllllllll}\n",
       " binID & fasta.x & Marker.lineage & X..genomes & X..markers & X..marker.sets & Completeness & Contamination & Strain.heterogeneity & Genome.size..bp. & ⋯ & closest\\_placement\\_ani & closest\\_placement\\_af & pplacer\\_taxonomy & classification\\_method & note & aa\\_percent & translation\\_table & red\\_value & warnings & Sample\\\\\n",
       " <chr> & <chr> & <chr> & <int> & <int> & <int> & <dbl> & <dbl> & <dbl> & <int> & ⋯ & <chr> & <chr> & <chr> & <chr> & <chr> & <dbl> & <int> & <chr> & <chr> & <chr>\\\\\n",
       "\\hline\n",
       "\t artificially\\_reared\\_1\\_\\_metabat2\\_low\\_PE.001.contigs & /ebio/abt3\\_projects/Georg\\_animal\\_feces/data//metagenome/multi-study/BioProjects/summary/LLMGA/wGeorgAnimal/drep-0.999/dereplicated\\_genomes/artificially\\_reared\\_1\\_\\_metabat2\\_low\\_PE.001.contigs.fa & o\\_\\_Bacteroidales (UID2657) & 160 & 491 & 268 & 87.24 & 4.15 & 45.00 & 2455242 & ⋯ & 94.69 & 0.95 & d\\_\\_Bacteria;p\\_\\_Bacteroidota;c\\_\\_Bacteroidia;o\\_\\_Bacteroidales;f\\_\\_Bacteroidaceae;g\\_\\_Bacteroides\\_A;s\\_\\_ & ANI       & topological placement and ANI have incongruent species assignments & 80.20 & 11 & N/A            & N/A & artificially\\_reared\\_1\\\\\n",
       "\t artificially\\_reared\\_1\\_\\_metabat2\\_low\\_PE.002.contigs & /ebio/abt3\\_projects/Georg\\_animal\\_feces/data//metagenome/multi-study/BioProjects/summary/LLMGA/wGeorgAnimal/drep-0.999/dereplicated\\_genomes/artificially\\_reared\\_1\\_\\_metabat2\\_low\\_PE.002.contigs.fa & o\\_\\_Bacteroidales (UID2657) & 160 & 491 & 268 & 92.92 & 3.00 & 28.57 & 3388189 & ⋯ & 85.72 & 0.61 & d\\_\\_Bacteria;p\\_\\_Bacteroidota;c\\_\\_Bacteroidia;o\\_\\_Bacteroidales;f\\_\\_Bacteroidaceae;g\\_\\_Bacteroides\\_A;s\\_\\_ & Placement & taxonomic classification fully defined by topology                 & 93.33 & 11 & 0.985595897806 & N/A & artificially\\_reared\\_1\\\\\n",
       "\t ⋮ & ⋮ & ⋮ & ⋮ & ⋮ & ⋮ & ⋮ & ⋮ & ⋮ & ⋮ & ⋱ & ⋮ & ⋮ & ⋮ & ⋮ & ⋮ & ⋮ & ⋮ & ⋮ & ⋮ & ⋮\\\\\n",
       "\t X96\\_European\\_Hare\\_\\_metabat2\\_high\\_PE.013.contigs & /ebio/abt3\\_projects/Georg\\_animal\\_feces/data//metagenome/multi-study/BioProjects/summary/LLMGA/wGeorgAnimal/drep-0.999/dereplicated\\_genomes/X96\\_European\\_Hare\\_\\_metabat2\\_high\\_PE.013.contigs.fa & o\\_\\_Clostridiales (UID1212) & 172 & 263 & 149 & 93.83 & 1.45 & 0 & 2554075 & ⋯ & 76.48 & 0.13 & d\\_\\_Bacteria;p\\_\\_Firmicutes\\_A;c\\_\\_Clostridia;o\\_\\_Oscillospirales;f\\_\\_Oscillospiraceae;g\\_\\_;s\\_\\_           & Placement & taxonomic novelty determined using RED                             & 94.40 & 11 & 0.918766142869 & N/A & X96\\_European\\_Hare\\\\\n",
       "\t X96\\_European\\_Hare\\_\\_metabat2\\_low\\_PE.005.contigs  & /ebio/abt3\\_projects/Georg\\_animal\\_feces/data//metagenome/multi-study/BioProjects/summary/LLMGA/wGeorgAnimal/drep-0.999/dereplicated\\_genomes/X96\\_European\\_Hare\\_\\_metabat2\\_low\\_PE.005.contigs.fa  & o\\_\\_Bacteroidales (UID2654) & 163 & 486 & 266 & 64.45 & 0.38 & 0 & 2150813 & ⋯ & 98.02 & 0.99 & d\\_\\_Bacteria;p\\_\\_Bacteroidota;c\\_\\_Bacteroidia;o\\_\\_Bacteroidales;f\\_\\_Bacteroidaceae;g\\_\\_Bacteroides\\_B;s\\_\\_ & ANI       & topological placement and ANI have incongruent species assignments & 68.35 & 11 & N/A            & N/A & X96\\_European\\_Hare\\\\\n",
       "\\end{tabular}\n"
      ],
      "text/markdown": [
       "\n",
       "A tidytable: 5596 × 57\n",
       "\n",
       "| binID &lt;chr&gt; | fasta.x &lt;chr&gt; | Marker.lineage &lt;chr&gt; | X..genomes &lt;int&gt; | X..markers &lt;int&gt; | X..marker.sets &lt;int&gt; | Completeness &lt;dbl&gt; | Contamination &lt;dbl&gt; | Strain.heterogeneity &lt;dbl&gt; | Genome.size..bp. &lt;int&gt; | ⋯ ⋯ | closest_placement_ani &lt;chr&gt; | closest_placement_af &lt;chr&gt; | pplacer_taxonomy &lt;chr&gt; | classification_method &lt;chr&gt; | note &lt;chr&gt; | aa_percent &lt;dbl&gt; | translation_table &lt;int&gt; | red_value &lt;chr&gt; | warnings &lt;chr&gt; | Sample &lt;chr&gt; |\n",
       "|---|---|---|---|---|---|---|---|---|---|---|---|---|---|---|---|---|---|---|---|---|\n",
       "| artificially_reared_1__metabat2_low_PE.001.contigs | /ebio/abt3_projects/Georg_animal_feces/data//metagenome/multi-study/BioProjects/summary/LLMGA/wGeorgAnimal/drep-0.999/dereplicated_genomes/artificially_reared_1__metabat2_low_PE.001.contigs.fa | o__Bacteroidales (UID2657) | 160 | 491 | 268 | 87.24 | 4.15 | 45.00 | 2455242 | ⋯ | 94.69 | 0.95 | d__Bacteria;p__Bacteroidota;c__Bacteroidia;o__Bacteroidales;f__Bacteroidaceae;g__Bacteroides_A;s__ | ANI       | topological placement and ANI have incongruent species assignments | 80.20 | 11 | N/A            | N/A | artificially_reared_1 |\n",
       "| artificially_reared_1__metabat2_low_PE.002.contigs | /ebio/abt3_projects/Georg_animal_feces/data//metagenome/multi-study/BioProjects/summary/LLMGA/wGeorgAnimal/drep-0.999/dereplicated_genomes/artificially_reared_1__metabat2_low_PE.002.contigs.fa | o__Bacteroidales (UID2657) | 160 | 491 | 268 | 92.92 | 3.00 | 28.57 | 3388189 | ⋯ | 85.72 | 0.61 | d__Bacteria;p__Bacteroidota;c__Bacteroidia;o__Bacteroidales;f__Bacteroidaceae;g__Bacteroides_A;s__ | Placement | taxonomic classification fully defined by topology                 | 93.33 | 11 | 0.985595897806 | N/A | artificially_reared_1 |\n",
       "| ⋮ | ⋮ | ⋮ | ⋮ | ⋮ | ⋮ | ⋮ | ⋮ | ⋮ | ⋮ | ⋱ | ⋮ | ⋮ | ⋮ | ⋮ | ⋮ | ⋮ | ⋮ | ⋮ | ⋮ | ⋮ |\n",
       "| X96_European_Hare__metabat2_high_PE.013.contigs | /ebio/abt3_projects/Georg_animal_feces/data//metagenome/multi-study/BioProjects/summary/LLMGA/wGeorgAnimal/drep-0.999/dereplicated_genomes/X96_European_Hare__metabat2_high_PE.013.contigs.fa | o__Clostridiales (UID1212) | 172 | 263 | 149 | 93.83 | 1.45 | 0 | 2554075 | ⋯ | 76.48 | 0.13 | d__Bacteria;p__Firmicutes_A;c__Clostridia;o__Oscillospirales;f__Oscillospiraceae;g__;s__           | Placement | taxonomic novelty determined using RED                             | 94.40 | 11 | 0.918766142869 | N/A | X96_European_Hare |\n",
       "| X96_European_Hare__metabat2_low_PE.005.contigs  | /ebio/abt3_projects/Georg_animal_feces/data//metagenome/multi-study/BioProjects/summary/LLMGA/wGeorgAnimal/drep-0.999/dereplicated_genomes/X96_European_Hare__metabat2_low_PE.005.contigs.fa  | o__Bacteroidales (UID2654) | 163 | 486 | 266 | 64.45 | 0.38 | 0 | 2150813 | ⋯ | 98.02 | 0.99 | d__Bacteria;p__Bacteroidota;c__Bacteroidia;o__Bacteroidales;f__Bacteroidaceae;g__Bacteroides_B;s__ | ANI       | topological placement and ANI have incongruent species assignments | 68.35 | 11 | N/A            | N/A | X96_European_Hare |\n",
       "\n"
      ],
      "text/plain": [
       "     binID                                             \n",
       "1    artificially_reared_1__metabat2_low_PE.001.contigs\n",
       "2    artificially_reared_1__metabat2_low_PE.002.contigs\n",
       "⋮    ⋮                                                 \n",
       "5595 X96_European_Hare__metabat2_high_PE.013.contigs   \n",
       "5596 X96_European_Hare__metabat2_low_PE.005.contigs    \n",
       "     fasta.x                                                                                                                                                                                         \n",
       "1    /ebio/abt3_projects/Georg_animal_feces/data//metagenome/multi-study/BioProjects/summary/LLMGA/wGeorgAnimal/drep-0.999/dereplicated_genomes/artificially_reared_1__metabat2_low_PE.001.contigs.fa\n",
       "2    /ebio/abt3_projects/Georg_animal_feces/data//metagenome/multi-study/BioProjects/summary/LLMGA/wGeorgAnimal/drep-0.999/dereplicated_genomes/artificially_reared_1__metabat2_low_PE.002.contigs.fa\n",
       "⋮    ⋮                                                                                                                                                                                               \n",
       "5595 /ebio/abt3_projects/Georg_animal_feces/data//metagenome/multi-study/BioProjects/summary/LLMGA/wGeorgAnimal/drep-0.999/dereplicated_genomes/X96_European_Hare__metabat2_high_PE.013.contigs.fa   \n",
       "5596 /ebio/abt3_projects/Georg_animal_feces/data//metagenome/multi-study/BioProjects/summary/LLMGA/wGeorgAnimal/drep-0.999/dereplicated_genomes/X96_European_Hare__metabat2_low_PE.005.contigs.fa    \n",
       "     Marker.lineage             X..genomes X..markers X..marker.sets\n",
       "1    o__Bacteroidales (UID2657) 160        491        268           \n",
       "2    o__Bacteroidales (UID2657) 160        491        268           \n",
       "⋮    ⋮                          ⋮          ⋮          ⋮             \n",
       "5595 o__Clostridiales (UID1212) 172        263        149           \n",
       "5596 o__Bacteroidales (UID2654) 163        486        266           \n",
       "     Completeness Contamination Strain.heterogeneity Genome.size..bp. ⋯\n",
       "1    87.24        4.15          45.00                2455242          ⋯\n",
       "2    92.92        3.00          28.57                3388189          ⋯\n",
       "⋮    ⋮            ⋮             ⋮                    ⋮                ⋱\n",
       "5595 93.83        1.45          0                    2554075          ⋯\n",
       "5596 64.45        0.38          0                    2150813          ⋯\n",
       "     closest_placement_ani closest_placement_af\n",
       "1    94.69                 0.95                \n",
       "2    85.72                 0.61                \n",
       "⋮    ⋮                     ⋮                   \n",
       "5595 76.48                 0.13                \n",
       "5596 98.02                 0.99                \n",
       "     pplacer_taxonomy                                                                                  \n",
       "1    d__Bacteria;p__Bacteroidota;c__Bacteroidia;o__Bacteroidales;f__Bacteroidaceae;g__Bacteroides_A;s__\n",
       "2    d__Bacteria;p__Bacteroidota;c__Bacteroidia;o__Bacteroidales;f__Bacteroidaceae;g__Bacteroides_A;s__\n",
       "⋮    ⋮                                                                                                 \n",
       "5595 d__Bacteria;p__Firmicutes_A;c__Clostridia;o__Oscillospirales;f__Oscillospiraceae;g__;s__          \n",
       "5596 d__Bacteria;p__Bacteroidota;c__Bacteroidia;o__Bacteroidales;f__Bacteroidaceae;g__Bacteroides_B;s__\n",
       "     classification_method\n",
       "1    ANI                  \n",
       "2    Placement            \n",
       "⋮    ⋮                    \n",
       "5595 Placement            \n",
       "5596 ANI                  \n",
       "     note                                                              \n",
       "1    topological placement and ANI have incongruent species assignments\n",
       "2    taxonomic classification fully defined by topology                \n",
       "⋮    ⋮                                                                 \n",
       "5595 taxonomic novelty determined using RED                            \n",
       "5596 topological placement and ANI have incongruent species assignments\n",
       "     aa_percent translation_table red_value      warnings Sample               \n",
       "1    80.20      11                N/A            N/A      artificially_reared_1\n",
       "2    93.33      11                0.985595897806 N/A      artificially_reared_1\n",
       "⋮    ⋮          ⋮                 ⋮              ⋮        ⋮                    \n",
       "5595 94.40      11                0.918766142869 N/A      X96_European_Hare    \n",
       "5596 68.35      11                N/A            N/A      X96_European_Hare    "
      ]
     },
     "metadata": {},
     "output_type": "display_data"
    }
   ],
   "source": [
    "# MAG metadata\n",
    "mag_meta = Fread(mag_meta_file) %>%\n",
    "    dt_mutate(Sample = gsub('__(metabat|maxbin).+', '', binID))\n",
    "mag_meta"
   ]
  },
  {
   "cell_type": "markdown",
   "metadata": {},
   "source": [
    "## multi-species"
   ]
  },
  {
   "cell_type": "code",
   "execution_count": 7,
   "metadata": {
    "ExecuteTime": {
     "end_time": "2020-05-27T11:15:59.656545Z",
     "start_time": "2020-05-27T11:15:59.513Z"
    }
   },
   "outputs": [
    {
     "name": "stdout",
     "output_type": "stream",
     "text": [
      "No. of unique Samples: 289 \n"
     ]
    },
    {
     "data": {
      "text/html": [
       "<table>\n",
       "<caption>A tidytable: 289 × 11</caption>\n",
       "<thead>\n",
       "\t<tr><th scope=col>Sample</th><th scope=col>tax_id</th><th scope=col>isolation source</th><th scope=col>collection date</th><th scope=col>geographic location (country and/or sea)</th><th scope=col>geographic location (latitude)</th><th scope=col>geographic location (longitude)</th><th scope=col>environment (biome)</th><th scope=col>environment (feature)</th><th scope=col>environment (material)</th><th scope=col>BioProject</th></tr>\n",
       "\t<tr><th scope=col>&lt;chr&gt;</th><th scope=col>&lt;int&gt;</th><th scope=col>&lt;chr&gt;</th><th scope=col>&lt;chr&gt;</th><th scope=col>&lt;chr&gt;</th><th scope=col>&lt;dbl&gt;</th><th scope=col>&lt;dbl&gt;</th><th scope=col>&lt;chr&gt;</th><th scope=col>&lt;chr&gt;</th><th scope=col>&lt;chr&gt;</th><th scope=col>&lt;chr&gt;</th></tr>\n",
       "</thead>\n",
       "<tbody>\n",
       "\t<tr><td>X101_Horse</td><td> 9796</td><td>Equus caballus</td><td>2011-09-17</td><td>Austria </td><td>48.78333</td><td>15.06667</td><td>Equus_caballus</td><td>gut</td><td>feces</td><td>PRJEB38078</td></tr>\n",
       "\t<tr><td>X102_Kulan</td><td>73334</td><td>Equus hemionus</td><td>2011-09-18</td><td>Mongolia</td><td>43.70759</td><td>98.34961</td><td>Equus_hemionus</td><td>gut</td><td>feces</td><td>PRJEB38078</td></tr>\n",
       "\t<tr><td>⋮</td><td>⋮</td><td>⋮</td><td>⋮</td><td>⋮</td><td>⋮</td><td>⋮</td><td>⋮</td><td>⋮</td><td>⋮</td><td>⋮</td></tr>\n",
       "\t<tr><td>F44_Fallow_Deer </td><td>30532</td><td>Dama dama  </td><td>2010-10-04</td><td>Austria</td><td>48.20833</td><td>16.37306</td><td>Dama_dama  </td><td>gut</td><td>feces</td><td>PRJEB38078</td></tr>\n",
       "\t<tr><td>F90_Domestic_Dog</td><td> 9615</td><td>Canis lupus</td><td>2010-11-07</td><td>Austria</td><td>48.20833</td><td>16.37306</td><td>Canis_lupus</td><td>gut</td><td>feces</td><td>PRJEB38078</td></tr>\n",
       "</tbody>\n",
       "</table>\n"
      ],
      "text/latex": [
       "A tidytable: 289 × 11\n",
       "\\begin{tabular}{lllllllllll}\n",
       " Sample & tax\\_id & isolation source & collection date & geographic location (country and/or sea) & geographic location (latitude) & geographic location (longitude) & environment (biome) & environment (feature) & environment (material) & BioProject\\\\\n",
       " <chr> & <int> & <chr> & <chr> & <chr> & <dbl> & <dbl> & <chr> & <chr> & <chr> & <chr>\\\\\n",
       "\\hline\n",
       "\t X101\\_Horse &  9796 & Equus caballus & 2011-09-17 & Austria  & 48.78333 & 15.06667 & Equus\\_caballus & gut & feces & PRJEB38078\\\\\n",
       "\t X102\\_Kulan & 73334 & Equus hemionus & 2011-09-18 & Mongolia & 43.70759 & 98.34961 & Equus\\_hemionus & gut & feces & PRJEB38078\\\\\n",
       "\t ⋮ & ⋮ & ⋮ & ⋮ & ⋮ & ⋮ & ⋮ & ⋮ & ⋮ & ⋮ & ⋮\\\\\n",
       "\t F44\\_Fallow\\_Deer  & 30532 & Dama dama   & 2010-10-04 & Austria & 48.20833 & 16.37306 & Dama\\_dama   & gut & feces & PRJEB38078\\\\\n",
       "\t F90\\_Domestic\\_Dog &  9615 & Canis lupus & 2010-11-07 & Austria & 48.20833 & 16.37306 & Canis\\_lupus & gut & feces & PRJEB38078\\\\\n",
       "\\end{tabular}\n"
      ],
      "text/markdown": [
       "\n",
       "A tidytable: 289 × 11\n",
       "\n",
       "| Sample &lt;chr&gt; | tax_id &lt;int&gt; | isolation source &lt;chr&gt; | collection date &lt;chr&gt; | geographic location (country and/or sea) &lt;chr&gt; | geographic location (latitude) &lt;dbl&gt; | geographic location (longitude) &lt;dbl&gt; | environment (biome) &lt;chr&gt; | environment (feature) &lt;chr&gt; | environment (material) &lt;chr&gt; | BioProject &lt;chr&gt; |\n",
       "|---|---|---|---|---|---|---|---|---|---|---|\n",
       "| X101_Horse |  9796 | Equus caballus | 2011-09-17 | Austria  | 48.78333 | 15.06667 | Equus_caballus | gut | feces | PRJEB38078 |\n",
       "| X102_Kulan | 73334 | Equus hemionus | 2011-09-18 | Mongolia | 43.70759 | 98.34961 | Equus_hemionus | gut | feces | PRJEB38078 |\n",
       "| ⋮ | ⋮ | ⋮ | ⋮ | ⋮ | ⋮ | ⋮ | ⋮ | ⋮ | ⋮ | ⋮ |\n",
       "| F44_Fallow_Deer  | 30532 | Dama dama   | 2010-10-04 | Austria | 48.20833 | 16.37306 | Dama_dama   | gut | feces | PRJEB38078 |\n",
       "| F90_Domestic_Dog |  9615 | Canis lupus | 2010-11-07 | Austria | 48.20833 | 16.37306 | Canis_lupus | gut | feces | PRJEB38078 |\n",
       "\n"
      ],
      "text/plain": [
       "    Sample           tax_id isolation source collection date\n",
       "1   X101_Horse        9796  Equus caballus   2011-09-17     \n",
       "2   X102_Kulan       73334  Equus hemionus   2011-09-18     \n",
       "⋮   ⋮                ⋮      ⋮                ⋮              \n",
       "288 F44_Fallow_Deer  30532  Dama dama        2010-10-04     \n",
       "289 F90_Domestic_Dog  9615  Canis lupus      2010-11-07     \n",
       "    geographic location (country and/or sea) geographic location (latitude)\n",
       "1   Austria                                  48.78333                      \n",
       "2   Mongolia                                 43.70759                      \n",
       "⋮   ⋮                                        ⋮                             \n",
       "288 Austria                                  48.20833                      \n",
       "289 Austria                                  48.20833                      \n",
       "    geographic location (longitude) environment (biome) environment (feature)\n",
       "1   15.06667                        Equus_caballus      gut                  \n",
       "2   98.34961                        Equus_hemionus      gut                  \n",
       "⋮   ⋮                               ⋮                   ⋮                    \n",
       "288 16.37306                        Dama_dama           gut                  \n",
       "289 16.37306                        Canis_lupus         gut                  \n",
       "    environment (material) BioProject\n",
       "1   feces                  PRJEB38078\n",
       "2   feces                  PRJEB38078\n",
       "⋮   ⋮                      ⋮         \n",
       "288 feces                  PRJEB38078\n",
       "289 feces                  PRJEB38078"
      ]
     },
     "metadata": {},
     "output_type": "display_data"
    }
   ],
   "source": [
    "# multi-species metadata\n",
    "MS_meta = Fread(MS_meta_file) %>%\n",
    "    dt_mutate(sample_alias = gsub('^XF', 'F', sample_alias)) %>%\n",
    "    dt_select(sample_alias, tax_id, scientific_name, collection.date, \n",
    "              geographic.location..country.and.or.sea.,\n",
    "              geographic.location..latitude., geographic.location..longitude.,\n",
    "              environment..biome., environment..feature., environment..material.) %>%\n",
    "    dt_rename('Sample' = sample_alias,\n",
    "              'isolation source' = scientific_name,\n",
    "              'collection date' = collection.date,\n",
    "              'geographic location (country and/or sea)' = geographic.location..country.and.or.sea.,\n",
    "              'geographic location (latitude)' = geographic.location..latitude.,\n",
    "              'geographic location (longitude)' = geographic.location..longitude.,\n",
    "              'environment (biome)' = environment..biome.,\n",
    "              'environment (feature)' = environment..feature.,\n",
    "              'environment (material)' = environment..material.) %>%\n",
    "    dt_mutate(BioProject = 'PRJEB38078')\n",
    "\n",
    "MS_meta %>% unique_n('Samples', Sample)\n",
    "MS_meta"
   ]
  },
  {
   "cell_type": "code",
   "execution_count": 8,
   "metadata": {
    "ExecuteTime": {
     "end_time": "2020-05-27T11:16:04.403327Z",
     "start_time": "2020-05-27T11:16:04.335Z"
    }
   },
   "outputs": [
    {
     "data": {
      "text/html": [
       "<table>\n",
       "<caption>A tidytable: 289 × 5</caption>\n",
       "<thead>\n",
       "\t<tr><th scope=col>Type</th><th scope=col>EnvSample</th><th scope=col>BioSample</th><th scope=col>Unique.Name</th><th scope=col>Sample</th></tr>\n",
       "\t<tr><th scope=col>&lt;chr&gt;</th><th scope=col>&lt;chr&gt;</th><th scope=col>&lt;chr&gt;</th><th scope=col>&lt;chr&gt;</th><th scope=col>&lt;chr&gt;</th></tr>\n",
       "</thead>\n",
       "<tbody>\n",
       "\t<tr><td>Sample</td><td>ERS4537005</td><td>SAMEA6809356</td><td>X101_Horse</td><td>X101_Horse</td></tr>\n",
       "\t<tr><td>Sample</td><td>ERS4537006</td><td>SAMEA6809357</td><td>X102_Kulan</td><td>X102_Kulan</td></tr>\n",
       "\t<tr><td>⋮</td><td>⋮</td><td>⋮</td><td>⋮</td><td>⋮</td></tr>\n",
       "\t<tr><td>Sample</td><td>ERS4537292</td><td>SAMEA6809643</td><td>XF44_Fallow_Deer </td><td>F44_Fallow_Deer </td></tr>\n",
       "\t<tr><td>Sample</td><td>ERS4537293</td><td>SAMEA6809644</td><td>XF90_Domestic_Dog</td><td>F90_Domestic_Dog</td></tr>\n",
       "</tbody>\n",
       "</table>\n"
      ],
      "text/latex": [
       "A tidytable: 289 × 5\n",
       "\\begin{tabular}{lllll}\n",
       " Type & EnvSample & BioSample & Unique.Name & Sample\\\\\n",
       " <chr> & <chr> & <chr> & <chr> & <chr>\\\\\n",
       "\\hline\n",
       "\t Sample & ERS4537005 & SAMEA6809356 & X101\\_Horse & X101\\_Horse\\\\\n",
       "\t Sample & ERS4537006 & SAMEA6809357 & X102\\_Kulan & X102\\_Kulan\\\\\n",
       "\t ⋮ & ⋮ & ⋮ & ⋮ & ⋮\\\\\n",
       "\t Sample & ERS4537292 & SAMEA6809643 & XF44\\_Fallow\\_Deer  & F44\\_Fallow\\_Deer \\\\\n",
       "\t Sample & ERS4537293 & SAMEA6809644 & XF90\\_Domestic\\_Dog & F90\\_Domestic\\_Dog\\\\\n",
       "\\end{tabular}\n"
      ],
      "text/markdown": [
       "\n",
       "A tidytable: 289 × 5\n",
       "\n",
       "| Type &lt;chr&gt; | EnvSample &lt;chr&gt; | BioSample &lt;chr&gt; | Unique.Name &lt;chr&gt; | Sample &lt;chr&gt; |\n",
       "|---|---|---|---|---|\n",
       "| Sample | ERS4537005 | SAMEA6809356 | X101_Horse | X101_Horse |\n",
       "| Sample | ERS4537006 | SAMEA6809357 | X102_Kulan | X102_Kulan |\n",
       "| ⋮ | ⋮ | ⋮ | ⋮ | ⋮ |\n",
       "| Sample | ERS4537292 | SAMEA6809643 | XF44_Fallow_Deer  | F44_Fallow_Deer  |\n",
       "| Sample | ERS4537293 | SAMEA6809644 | XF90_Domestic_Dog | F90_Domestic_Dog |\n",
       "\n"
      ],
      "text/plain": [
       "    Type   EnvSample  BioSample    Unique.Name       Sample          \n",
       "1   Sample ERS4537005 SAMEA6809356 X101_Horse        X101_Horse      \n",
       "2   Sample ERS4537006 SAMEA6809357 X102_Kulan        X102_Kulan      \n",
       "⋮   ⋮      ⋮          ⋮            ⋮                 ⋮               \n",
       "288 Sample ERS4537292 SAMEA6809643 XF44_Fallow_Deer  F44_Fallow_Deer \n",
       "289 Sample ERS4537293 SAMEA6809644 XF90_Domestic_Dog F90_Domestic_Dog"
      ]
     },
     "metadata": {},
     "output_type": "display_data"
    }
   ],
   "source": [
    "# ENA sample accessions\n",
    "MS_ENA_acc = Fread(MS_ENA_acc_file) %>%\n",
    "    dt_mutate(Sample = gsub('^XF', 'F', Unique.Name)) %>%\n",
    "    dt_rename('EnvSample' = Accession,\n",
    "              'BioSample' = Accession2)\n",
    "MS_ENA_acc"
   ]
  },
  {
   "cell_type": "code",
   "execution_count": 9,
   "metadata": {
    "ExecuteTime": {
     "end_time": "2020-05-27T11:16:05.094121Z",
     "start_time": "2020-05-27T11:16:04.968Z"
    }
   },
   "outputs": [
    {
     "name": "stdout",
     "output_type": "stream",
     "text": [
      "intersect(x,y): 289 \n",
      "setdiff(x,y): 0 \n",
      "setdiff(y,x): 0 \n",
      "union(x,y): 289 \n"
     ]
    },
    {
     "data": {
      "text/html": [
       "<table>\n",
       "<caption>A tidytable: 289 × 13</caption>\n",
       "<thead>\n",
       "\t<tr><th scope=col>Sample</th><th scope=col>tax_id</th><th scope=col>isolation source</th><th scope=col>collection date</th><th scope=col>geographic location (country and/or sea)</th><th scope=col>geographic location (latitude)</th><th scope=col>geographic location (longitude)</th><th scope=col>environment (biome)</th><th scope=col>environment (feature)</th><th scope=col>environment (material)</th><th scope=col>BioProject</th><th scope=col>BioSample</th><th scope=col>EnvSample</th></tr>\n",
       "\t<tr><th scope=col>&lt;chr&gt;</th><th scope=col>&lt;int&gt;</th><th scope=col>&lt;chr&gt;</th><th scope=col>&lt;chr&gt;</th><th scope=col>&lt;chr&gt;</th><th scope=col>&lt;dbl&gt;</th><th scope=col>&lt;dbl&gt;</th><th scope=col>&lt;chr&gt;</th><th scope=col>&lt;chr&gt;</th><th scope=col>&lt;chr&gt;</th><th scope=col>&lt;chr&gt;</th><th scope=col>&lt;chr&gt;</th><th scope=col>&lt;chr&gt;</th></tr>\n",
       "</thead>\n",
       "<tbody>\n",
       "\t<tr><td>X101_Horse</td><td> 9796</td><td>Equus caballus</td><td>2011-09-17</td><td>Austria </td><td>48.78333</td><td>15.06667</td><td>Equus_caballus</td><td>gut</td><td>feces</td><td>PRJEB38078</td><td>SAMEA6809356</td><td>ERS4537005</td></tr>\n",
       "\t<tr><td>X102_Kulan</td><td>73334</td><td>Equus hemionus</td><td>2011-09-18</td><td>Mongolia</td><td>43.70759</td><td>98.34961</td><td>Equus_hemionus</td><td>gut</td><td>feces</td><td>PRJEB38078</td><td>SAMEA6809357</td><td>ERS4537006</td></tr>\n",
       "\t<tr><td>⋮</td><td>⋮</td><td>⋮</td><td>⋮</td><td>⋮</td><td>⋮</td><td>⋮</td><td>⋮</td><td>⋮</td><td>⋮</td><td>⋮</td><td>⋮</td><td>⋮</td></tr>\n",
       "\t<tr><td>F44_Fallow_Deer </td><td>30532</td><td>Dama dama  </td><td>2010-10-04</td><td>Austria</td><td>48.20833</td><td>16.37306</td><td>Dama_dama  </td><td>gut</td><td>feces</td><td>PRJEB38078</td><td>SAMEA6809643</td><td>ERS4537292</td></tr>\n",
       "\t<tr><td>F90_Domestic_Dog</td><td> 9615</td><td>Canis lupus</td><td>2010-11-07</td><td>Austria</td><td>48.20833</td><td>16.37306</td><td>Canis_lupus</td><td>gut</td><td>feces</td><td>PRJEB38078</td><td>SAMEA6809644</td><td>ERS4537293</td></tr>\n",
       "</tbody>\n",
       "</table>\n"
      ],
      "text/latex": [
       "A tidytable: 289 × 13\n",
       "\\begin{tabular}{lllllllllllll}\n",
       " Sample & tax\\_id & isolation source & collection date & geographic location (country and/or sea) & geographic location (latitude) & geographic location (longitude) & environment (biome) & environment (feature) & environment (material) & BioProject & BioSample & EnvSample\\\\\n",
       " <chr> & <int> & <chr> & <chr> & <chr> & <dbl> & <dbl> & <chr> & <chr> & <chr> & <chr> & <chr> & <chr>\\\\\n",
       "\\hline\n",
       "\t X101\\_Horse &  9796 & Equus caballus & 2011-09-17 & Austria  & 48.78333 & 15.06667 & Equus\\_caballus & gut & feces & PRJEB38078 & SAMEA6809356 & ERS4537005\\\\\n",
       "\t X102\\_Kulan & 73334 & Equus hemionus & 2011-09-18 & Mongolia & 43.70759 & 98.34961 & Equus\\_hemionus & gut & feces & PRJEB38078 & SAMEA6809357 & ERS4537006\\\\\n",
       "\t ⋮ & ⋮ & ⋮ & ⋮ & ⋮ & ⋮ & ⋮ & ⋮ & ⋮ & ⋮ & ⋮ & ⋮ & ⋮\\\\\n",
       "\t F44\\_Fallow\\_Deer  & 30532 & Dama dama   & 2010-10-04 & Austria & 48.20833 & 16.37306 & Dama\\_dama   & gut & feces & PRJEB38078 & SAMEA6809643 & ERS4537292\\\\\n",
       "\t F90\\_Domestic\\_Dog &  9615 & Canis lupus & 2010-11-07 & Austria & 48.20833 & 16.37306 & Canis\\_lupus & gut & feces & PRJEB38078 & SAMEA6809644 & ERS4537293\\\\\n",
       "\\end{tabular}\n"
      ],
      "text/markdown": [
       "\n",
       "A tidytable: 289 × 13\n",
       "\n",
       "| Sample &lt;chr&gt; | tax_id &lt;int&gt; | isolation source &lt;chr&gt; | collection date &lt;chr&gt; | geographic location (country and/or sea) &lt;chr&gt; | geographic location (latitude) &lt;dbl&gt; | geographic location (longitude) &lt;dbl&gt; | environment (biome) &lt;chr&gt; | environment (feature) &lt;chr&gt; | environment (material) &lt;chr&gt; | BioProject &lt;chr&gt; | BioSample &lt;chr&gt; | EnvSample &lt;chr&gt; |\n",
       "|---|---|---|---|---|---|---|---|---|---|---|---|---|\n",
       "| X101_Horse |  9796 | Equus caballus | 2011-09-17 | Austria  | 48.78333 | 15.06667 | Equus_caballus | gut | feces | PRJEB38078 | SAMEA6809356 | ERS4537005 |\n",
       "| X102_Kulan | 73334 | Equus hemionus | 2011-09-18 | Mongolia | 43.70759 | 98.34961 | Equus_hemionus | gut | feces | PRJEB38078 | SAMEA6809357 | ERS4537006 |\n",
       "| ⋮ | ⋮ | ⋮ | ⋮ | ⋮ | ⋮ | ⋮ | ⋮ | ⋮ | ⋮ | ⋮ | ⋮ | ⋮ |\n",
       "| F44_Fallow_Deer  | 30532 | Dama dama   | 2010-10-04 | Austria | 48.20833 | 16.37306 | Dama_dama   | gut | feces | PRJEB38078 | SAMEA6809643 | ERS4537292 |\n",
       "| F90_Domestic_Dog |  9615 | Canis lupus | 2010-11-07 | Austria | 48.20833 | 16.37306 | Canis_lupus | gut | feces | PRJEB38078 | SAMEA6809644 | ERS4537293 |\n",
       "\n"
      ],
      "text/plain": [
       "    Sample           tax_id isolation source collection date\n",
       "1   X101_Horse        9796  Equus caballus   2011-09-17     \n",
       "2   X102_Kulan       73334  Equus hemionus   2011-09-18     \n",
       "⋮   ⋮                ⋮      ⋮                ⋮              \n",
       "288 F44_Fallow_Deer  30532  Dama dama        2010-10-04     \n",
       "289 F90_Domestic_Dog  9615  Canis lupus      2010-11-07     \n",
       "    geographic location (country and/or sea) geographic location (latitude)\n",
       "1   Austria                                  48.78333                      \n",
       "2   Mongolia                                 43.70759                      \n",
       "⋮   ⋮                                        ⋮                             \n",
       "288 Austria                                  48.20833                      \n",
       "289 Austria                                  48.20833                      \n",
       "    geographic location (longitude) environment (biome) environment (feature)\n",
       "1   15.06667                        Equus_caballus      gut                  \n",
       "2   98.34961                        Equus_hemionus      gut                  \n",
       "⋮   ⋮                               ⋮                   ⋮                    \n",
       "288 16.37306                        Dama_dama           gut                  \n",
       "289 16.37306                        Canis_lupus         gut                  \n",
       "    environment (material) BioProject BioSample    EnvSample \n",
       "1   feces                  PRJEB38078 SAMEA6809356 ERS4537005\n",
       "2   feces                  PRJEB38078 SAMEA6809357 ERS4537006\n",
       "⋮   ⋮                      ⋮          ⋮            ⋮         \n",
       "288 feces                  PRJEB38078 SAMEA6809643 ERS4537292\n",
       "289 feces                  PRJEB38078 SAMEA6809644 ERS4537293"
      ]
     },
     "metadata": {},
     "output_type": "display_data"
    }
   ],
   "source": [
    "# joining\n",
    "overlap(MS_meta, MS_ENA_acc, Sample, Sample)\n",
    "MS_meta = MS_meta %>%\n",
    "    dt_inner_join(MS_ENA_acc %>% dt_select(Sample, BioSample, EnvSample))\n",
    "MS_meta"
   ]
  },
  {
   "cell_type": "markdown",
   "metadata": {},
   "source": [
    "## multi-study"
   ]
  },
  {
   "cell_type": "code",
   "execution_count": 10,
   "metadata": {
    "ExecuteTime": {
     "end_time": "2020-05-27T11:16:06.718792Z",
     "start_time": "2020-05-27T11:16:06.640Z"
    }
   },
   "outputs": [
    {
     "name": "stdout",
     "output_type": "stream",
     "text": [
      "No. of unique Samples: 2192 \n"
     ]
    },
    {
     "data": {
      "text/html": [
       "<table>\n",
       "<caption>A data.table: 2195 × 9</caption>\n",
       "<thead>\n",
       "\t<tr><th scope=col>BioProject</th><th scope=col>BioSample</th><th scope=col>SRA</th><th scope=col>Accession</th><th scope=col>Organism</th><th scope=col>collection.date</th><th scope=col>geographic.location</th><th scope=col>geographic.location..latitude.</th><th scope=col>geographic.location..longitude.</th></tr>\n",
       "\t<tr><th scope=col>&lt;chr&gt;</th><th scope=col>&lt;chr&gt;</th><th scope=col>&lt;chr&gt;</th><th scope=col>&lt;chr&gt;</th><th scope=col>&lt;chr&gt;</th><th scope=col>&lt;chr&gt;</th><th scope=col>&lt;chr&gt;</th><th scope=col>&lt;dbl&gt;</th><th scope=col>&lt;dbl&gt;</th></tr>\n",
       "</thead>\n",
       "<tbody>\n",
       "\t<tr><td>PRJNA532626</td><td>SAMN11407874</td><td>SRS4618115</td><td>SAMN11407874</td><td>Diceros bicornis</td><td>0000-00-00</td><td>USA</td><td>31</td><td>-100</td></tr>\n",
       "\t<tr><td>PRJNA532626</td><td>SAMN11407873</td><td>SRS4618112</td><td>SAMN11407873</td><td>Diceros bicornis</td><td>0000-00-00</td><td>USA</td><td>31</td><td>-100</td></tr>\n",
       "\t<tr><td>⋮</td><td>⋮</td><td>⋮</td><td>⋮</td><td>⋮</td><td>⋮</td><td>⋮</td><td>⋮</td><td>⋮</td></tr>\n",
       "\t<tr><td>PRJNA485217</td><td>SAMN09786392</td><td>SRS3642527</td><td>SAMN09786392</td><td>Cebus capucinus imitator</td><td>2014-04-29</td><td>Costa Rica</td><td>10.51</td><td>85.42</td></tr>\n",
       "\t<tr><td>PRJNA485217</td><td>SAMN09786391</td><td>SRS3642526</td><td>SAMN09786391</td><td>Cebus capucinus imitator</td><td>2014-04-29</td><td>Costa Rica</td><td>10.51</td><td>85.42</td></tr>\n",
       "</tbody>\n",
       "</table>\n"
      ],
      "text/latex": [
       "A data.table: 2195 × 9\n",
       "\\begin{tabular}{lllllllll}\n",
       " BioProject & BioSample & SRA & Accession & Organism & collection.date & geographic.location & geographic.location..latitude. & geographic.location..longitude.\\\\\n",
       " <chr> & <chr> & <chr> & <chr> & <chr> & <chr> & <chr> & <dbl> & <dbl>\\\\\n",
       "\\hline\n",
       "\t PRJNA532626 & SAMN11407874 & SRS4618115 & SAMN11407874 & Diceros bicornis & 0000-00-00 & USA & 31 & -100\\\\\n",
       "\t PRJNA532626 & SAMN11407873 & SRS4618112 & SAMN11407873 & Diceros bicornis & 0000-00-00 & USA & 31 & -100\\\\\n",
       "\t ⋮ & ⋮ & ⋮ & ⋮ & ⋮ & ⋮ & ⋮ & ⋮ & ⋮\\\\\n",
       "\t PRJNA485217 & SAMN09786392 & SRS3642527 & SAMN09786392 & Cebus capucinus imitator & 2014-04-29 & Costa Rica & 10.51 & 85.42\\\\\n",
       "\t PRJNA485217 & SAMN09786391 & SRS3642526 & SAMN09786391 & Cebus capucinus imitator & 2014-04-29 & Costa Rica & 10.51 & 85.42\\\\\n",
       "\\end{tabular}\n"
      ],
      "text/markdown": [
       "\n",
       "A data.table: 2195 × 9\n",
       "\n",
       "| BioProject &lt;chr&gt; | BioSample &lt;chr&gt; | SRA &lt;chr&gt; | Accession &lt;chr&gt; | Organism &lt;chr&gt; | collection.date &lt;chr&gt; | geographic.location &lt;chr&gt; | geographic.location..latitude. &lt;dbl&gt; | geographic.location..longitude. &lt;dbl&gt; |\n",
       "|---|---|---|---|---|---|---|---|---|\n",
       "| PRJNA532626 | SAMN11407874 | SRS4618115 | SAMN11407874 | Diceros bicornis | 0000-00-00 | USA | 31 | -100 |\n",
       "| PRJNA532626 | SAMN11407873 | SRS4618112 | SAMN11407873 | Diceros bicornis | 0000-00-00 | USA | 31 | -100 |\n",
       "| ⋮ | ⋮ | ⋮ | ⋮ | ⋮ | ⋮ | ⋮ | ⋮ | ⋮ |\n",
       "| PRJNA485217 | SAMN09786392 | SRS3642527 | SAMN09786392 | Cebus capucinus imitator | 2014-04-29 | Costa Rica | 10.51 | 85.42 |\n",
       "| PRJNA485217 | SAMN09786391 | SRS3642526 | SAMN09786391 | Cebus capucinus imitator | 2014-04-29 | Costa Rica | 10.51 | 85.42 |\n",
       "\n"
      ],
      "text/plain": [
       "     BioProject  BioSample    SRA        Accession    Organism                \n",
       "1    PRJNA532626 SAMN11407874 SRS4618115 SAMN11407874 Diceros bicornis        \n",
       "2    PRJNA532626 SAMN11407873 SRS4618112 SAMN11407873 Diceros bicornis        \n",
       "⋮    ⋮           ⋮            ⋮          ⋮            ⋮                       \n",
       "2194 PRJNA485217 SAMN09786392 SRS3642527 SAMN09786392 Cebus capucinus imitator\n",
       "2195 PRJNA485217 SAMN09786391 SRS3642526 SAMN09786391 Cebus capucinus imitator\n",
       "     collection.date geographic.location geographic.location..latitude.\n",
       "1    0000-00-00      USA                 31                            \n",
       "2    0000-00-00      USA                 31                            \n",
       "⋮    ⋮               ⋮                   ⋮                             \n",
       "2194 2014-04-29      Costa Rica          10.51                         \n",
       "2195 2014-04-29      Costa Rica          10.51                         \n",
       "     geographic.location..longitude.\n",
       "1    -100                           \n",
       "2    -100                           \n",
       "⋮    ⋮                              \n",
       "2194 85.42                          \n",
       "2195 85.42                          "
      ]
     },
     "metadata": {},
     "output_type": "display_data"
    }
   ],
   "source": [
    "# multi-study bioproject metadata\n",
    "## currated bioproject info\n",
    "Mst_meta = Fread(Mst_meta_file) \n",
    "Mst_meta %>% unique_n('Samples', BioSample)\n",
    "Mst_meta"
   ]
  },
  {
   "cell_type": "code",
   "execution_count": 11,
   "metadata": {
    "ExecuteTime": {
     "end_time": "2020-05-27T11:16:08.165058Z",
     "start_time": "2020-05-27T11:16:07.473Z"
    }
   },
   "outputs": [
    {
     "data": {
      "text/html": [
       "<table>\n",
       "<caption>A data.table: 4104 × 27</caption>\n",
       "<thead>\n",
       "\t<tr><th scope=col>Sample</th><th scope=col>Run</th><th scope=col>Lane</th><th scope=col>Remote</th><th scope=col>spots</th><th scope=col>bases</th><th scope=col>avgLength</th><th scope=col>BioProject</th><th scope=col>bioproject</th><th scope=col>Study_Pubmed_id</th><th scope=col>⋯</th><th scope=col>LibrarySource</th><th scope=col>InsertSize</th><th scope=col>Platform</th><th scope=col>source</th><th scope=col>collection_date</th><th scope=col>env_biome</th><th scope=col>env_material</th><th scope=col>host</th><th scope=col>SRA_accession</th><th scope=col>Animal</th></tr>\n",
       "\t<tr><th scope=col>&lt;chr&gt;</th><th scope=col>&lt;chr&gt;</th><th scope=col>&lt;int&gt;</th><th scope=col>&lt;chr&gt;</th><th scope=col>&lt;int&gt;</th><th scope=col>&lt;int64&gt;</th><th scope=col>&lt;int&gt;</th><th scope=col>&lt;chr&gt;</th><th scope=col>&lt;chr&gt;</th><th scope=col>&lt;int&gt;</th><th scope=col>⋯</th><th scope=col>&lt;chr&gt;</th><th scope=col>&lt;int&gt;</th><th scope=col>&lt;chr&gt;</th><th scope=col>&lt;lgl&gt;</th><th scope=col>&lt;chr&gt;</th><th scope=col>&lt;chr&gt;</th><th scope=col>&lt;chr&gt;</th><th scope=col>&lt;chr&gt;</th><th scope=col>&lt;chr&gt;</th><th scope=col>&lt;chr&gt;</th></tr>\n",
       "</thead>\n",
       "<tbody>\n",
       "\t<tr><td>SAMEA3663295</td><td>ERR1135468</td><td>1</td><td>ERR1135468</td><td>24873864</td><td>4875031192</td><td>195</td><td>PRJEB11755</td><td>PRJEB11755</td><td>NA</td><td>⋯</td><td>METAGENOMIC</td><td>350</td><td>ILLUMINA</td><td>NA</td><td>2013</td><td>NA</td><td>NA</td><td>NA</td><td>ERS970444</td><td>Pig</td></tr>\n",
       "\t<tr><td>SAMEA3663296</td><td>ERR1135469</td><td>1</td><td>ERR1135469</td><td>29496968</td><td>5791369887</td><td>196</td><td>PRJEB11755</td><td>PRJEB11755</td><td>NA</td><td>⋯</td><td>METAGENOMIC</td><td>350</td><td>ILLUMINA</td><td>NA</td><td>2013</td><td>NA</td><td>NA</td><td>NA</td><td>ERS970445</td><td>Pig</td></tr>\n",
       "\t<tr><td>⋮</td><td>⋮</td><td>⋮</td><td>⋮</td><td>⋮</td><td>⋮</td><td>⋮</td><td>⋮</td><td>⋮</td><td>⋮</td><td>⋱</td><td>⋮</td><td>⋮</td><td>⋮</td><td>⋮</td><td>⋮</td><td>⋮</td><td>⋮</td><td>⋮</td><td>⋮</td><td>⋮</td></tr>\n",
       "\t<tr><td>SAMEA3387463</td><td>ERR878243</td><td>1</td><td>ERR878243</td><td>32125924</td><td>6425184800</td><td>200</td><td>PRJEB9357</td><td>PRJEB9357</td><td>NA</td><td>⋯</td><td>METAGENOMIC</td><td>440</td><td>ILLUMINA</td><td>NA</td><td>2012</td><td>NA</td><td>NA</td><td>NA</td><td>ERS723620</td><td>House cat</td></tr>\n",
       "\t<tr><td>SAMEA3443758</td><td>ERR878241</td><td>1</td><td>ERR878241</td><td>31924799</td><td>6384959800</td><td>200</td><td>PRJEB9357</td><td>PRJEB9357</td><td>NA</td><td>⋯</td><td>METAGENOMIC</td><td>440</td><td>ILLUMINA</td><td>NA</td><td>2012</td><td>NA</td><td>NA</td><td>NA</td><td>ERS723589</td><td>House cat</td></tr>\n",
       "</tbody>\n",
       "</table>\n"
      ],
      "text/latex": [
       "A data.table: 4104 × 27\n",
       "\\begin{tabular}{lllllllllllllllllllll}\n",
       " Sample & Run & Lane & Remote & spots & bases & avgLength & BioProject & bioproject & Study\\_Pubmed\\_id & ⋯ & LibrarySource & InsertSize & Platform & source & collection\\_date & env\\_biome & env\\_material & host & SRA\\_accession & Animal\\\\\n",
       " <chr> & <chr> & <int> & <chr> & <int> & <int64> & <int> & <chr> & <chr> & <int> & ⋯ & <chr> & <int> & <chr> & <lgl> & <chr> & <chr> & <chr> & <chr> & <chr> & <chr>\\\\\n",
       "\\hline\n",
       "\t SAMEA3663295 & ERR1135468 & 1 & ERR1135468 & 24873864 & 4875031192 & 195 & PRJEB11755 & PRJEB11755 & NA & ⋯ & METAGENOMIC & 350 & ILLUMINA & NA & 2013 & NA & NA & NA & ERS970444 & Pig\\\\\n",
       "\t SAMEA3663296 & ERR1135469 & 1 & ERR1135469 & 29496968 & 5791369887 & 196 & PRJEB11755 & PRJEB11755 & NA & ⋯ & METAGENOMIC & 350 & ILLUMINA & NA & 2013 & NA & NA & NA & ERS970445 & Pig\\\\\n",
       "\t ⋮ & ⋮ & ⋮ & ⋮ & ⋮ & ⋮ & ⋮ & ⋮ & ⋮ & ⋮ & ⋱ & ⋮ & ⋮ & ⋮ & ⋮ & ⋮ & ⋮ & ⋮ & ⋮ & ⋮ & ⋮\\\\\n",
       "\t SAMEA3387463 & ERR878243 & 1 & ERR878243 & 32125924 & 6425184800 & 200 & PRJEB9357 & PRJEB9357 & NA & ⋯ & METAGENOMIC & 440 & ILLUMINA & NA & 2012 & NA & NA & NA & ERS723620 & House cat\\\\\n",
       "\t SAMEA3443758 & ERR878241 & 1 & ERR878241 & 31924799 & 6384959800 & 200 & PRJEB9357 & PRJEB9357 & NA & ⋯ & METAGENOMIC & 440 & ILLUMINA & NA & 2012 & NA & NA & NA & ERS723589 & House cat\\\\\n",
       "\\end{tabular}\n"
      ],
      "text/markdown": [
       "\n",
       "A data.table: 4104 × 27\n",
       "\n",
       "| Sample &lt;chr&gt; | Run &lt;chr&gt; | Lane &lt;int&gt; | Remote &lt;chr&gt; | spots &lt;int&gt; | bases &lt;int64&gt; | avgLength &lt;int&gt; | BioProject &lt;chr&gt; | bioproject &lt;chr&gt; | Study_Pubmed_id &lt;int&gt; | ⋯ ⋯ | LibrarySource &lt;chr&gt; | InsertSize &lt;int&gt; | Platform &lt;chr&gt; | source &lt;lgl&gt; | collection_date &lt;chr&gt; | env_biome &lt;chr&gt; | env_material &lt;chr&gt; | host &lt;chr&gt; | SRA_accession &lt;chr&gt; | Animal &lt;chr&gt; |\n",
       "|---|---|---|---|---|---|---|---|---|---|---|---|---|---|---|---|---|---|---|---|---|\n",
       "| SAMEA3663295 | ERR1135468 | 1 | ERR1135468 | 24873864 | 4875031192 | 195 | PRJEB11755 | PRJEB11755 | NA | ⋯ | METAGENOMIC | 350 | ILLUMINA | NA | 2013 | NA | NA | NA | ERS970444 | Pig |\n",
       "| SAMEA3663296 | ERR1135469 | 1 | ERR1135469 | 29496968 | 5791369887 | 196 | PRJEB11755 | PRJEB11755 | NA | ⋯ | METAGENOMIC | 350 | ILLUMINA | NA | 2013 | NA | NA | NA | ERS970445 | Pig |\n",
       "| ⋮ | ⋮ | ⋮ | ⋮ | ⋮ | ⋮ | ⋮ | ⋮ | ⋮ | ⋮ | ⋱ | ⋮ | ⋮ | ⋮ | ⋮ | ⋮ | ⋮ | ⋮ | ⋮ | ⋮ | ⋮ |\n",
       "| SAMEA3387463 | ERR878243 | 1 | ERR878243 | 32125924 | 6425184800 | 200 | PRJEB9357 | PRJEB9357 | NA | ⋯ | METAGENOMIC | 440 | ILLUMINA | NA | 2012 | NA | NA | NA | ERS723620 | House cat |\n",
       "| SAMEA3443758 | ERR878241 | 1 | ERR878241 | 31924799 | 6384959800 | 200 | PRJEB9357 | PRJEB9357 | NA | ⋯ | METAGENOMIC | 440 | ILLUMINA | NA | 2012 | NA | NA | NA | ERS723589 | House cat |\n",
       "\n"
      ],
      "text/plain": [
       "     Sample       Run        Lane Remote     spots    bases      avgLength\n",
       "1    SAMEA3663295 ERR1135468 1    ERR1135468 24873864 4875031192 195      \n",
       "2    SAMEA3663296 ERR1135469 1    ERR1135469 29496968 5791369887 196      \n",
       "⋮    ⋮            ⋮          ⋮    ⋮          ⋮        ⋮          ⋮        \n",
       "4103 SAMEA3387463 ERR878243  1    ERR878243  32125924 6425184800 200      \n",
       "4104 SAMEA3443758 ERR878241  1    ERR878241  31924799 6384959800 200      \n",
       "     BioProject bioproject Study_Pubmed_id ⋯ LibrarySource InsertSize Platform\n",
       "1    PRJEB11755 PRJEB11755 NA              ⋯ METAGENOMIC   350        ILLUMINA\n",
       "2    PRJEB11755 PRJEB11755 NA              ⋯ METAGENOMIC   350        ILLUMINA\n",
       "⋮    ⋮          ⋮          ⋮               ⋱ ⋮             ⋮          ⋮       \n",
       "4103 PRJEB9357  PRJEB9357  NA              ⋯ METAGENOMIC   440        ILLUMINA\n",
       "4104 PRJEB9357  PRJEB9357  NA              ⋯ METAGENOMIC   440        ILLUMINA\n",
       "     source collection_date env_biome env_material host SRA_accession Animal   \n",
       "1    NA     2013            NA        NA           NA   ERS970444     Pig      \n",
       "2    NA     2013            NA        NA           NA   ERS970445     Pig      \n",
       "⋮    ⋮      ⋮               ⋮         ⋮            ⋮    ⋮             ⋮        \n",
       "4103 NA     2012            NA        NA           NA   ERS723620     House cat\n",
       "4104 NA     2012            NA        NA           NA   ERS723589     House cat"
      ]
     },
     "metadata": {},
     "output_type": "display_data"
    }
   ],
   "source": [
    "# multi-study\n",
    "# bioproject & sample IDs for all samples used\n",
    "read_samples_table = function(x, base_dir){\n",
    "    Fread(file.path(base_dir, x, 'samples.txt')) %>%\n",
    "        dt_select(Sample, Run, Lane, Remote, spots, bases,\n",
    "                  avgLength, BioProject, bioproject,\n",
    "                  Study_Pubmed_id, BioSample, SampleID, \n",
    "                  SampleType, TaxID, ScientificName,\n",
    "                  LibraryStrategy, LibrarySelection, \n",
    "                  LibrarySource, InsertSize, Platform,\n",
    "                  source, collection_date, env_biome,\n",
    "                  env_material, host, SRA_accession, Animal) \n",
    "}\n",
    "\n",
    "Mst_meta_used = Mst_bioprojects %>%\n",
    "    lapply(read_samples_table, base_dir=bioproject_base_dir) %>%\n",
    "    data.table::rbindlist(use.names=TRUE) \n",
    "Mst_meta_used"
   ]
  },
  {
   "cell_type": "code",
   "execution_count": 12,
   "metadata": {
    "ExecuteTime": {
     "end_time": "2020-05-27T11:16:08.935313Z",
     "start_time": "2020-05-27T11:16:08.642Z"
    }
   },
   "outputs": [
    {
     "name": "stdout",
     "output_type": "stream",
     "text": [
      "No. of unique Samples: 1132 \n"
     ]
    },
    {
     "data": {
      "text/html": [
       "<table>\n",
       "<caption>A tidytable: 1137 × 18</caption>\n",
       "<thead>\n",
       "\t<tr><th scope=col>Sample</th><th scope=col>EnvSample</th><th scope=col>BioProject</th><th scope=col>bioproject</th><th scope=col>Study_Pubmed_id</th><th scope=col>BioSample</th><th scope=col>SampleID</th><th scope=col>SampleType</th><th scope=col>TaxID</th><th scope=col>ScientificName</th><th scope=col>Platform</th><th scope=col>source</th><th scope=col>collection_date</th><th scope=col>env_biome</th><th scope=col>env_material</th><th scope=col>host</th><th scope=col>SRA_accession</th><th scope=col>Animal</th></tr>\n",
       "\t<tr><th scope=col>&lt;chr&gt;</th><th scope=col>&lt;chr&gt;</th><th scope=col>&lt;chr&gt;</th><th scope=col>&lt;chr&gt;</th><th scope=col>&lt;int&gt;</th><th scope=col>&lt;chr&gt;</th><th scope=col>&lt;chr&gt;</th><th scope=col>&lt;chr&gt;</th><th scope=col>&lt;int&gt;</th><th scope=col>&lt;chr&gt;</th><th scope=col>&lt;chr&gt;</th><th scope=col>&lt;lgl&gt;</th><th scope=col>&lt;chr&gt;</th><th scope=col>&lt;chr&gt;</th><th scope=col>&lt;chr&gt;</th><th scope=col>&lt;chr&gt;</th><th scope=col>&lt;chr&gt;</th><th scope=col>&lt;chr&gt;</th></tr>\n",
       "</thead>\n",
       "<tbody>\n",
       "\t<tr><td>SAMEA3663295</td><td>ERR1135468</td><td>PRJEB11755</td><td>PRJEB11755</td><td>NA</td><td>SAMEA3663295</td><td>ERS970444</td><td>simple</td><td>1510822</td><td>pig gut metagenome</td><td>ILLUMINA</td><td>NA</td><td>2013</td><td>NA</td><td>NA</td><td>NA</td><td>ERS970444</td><td>Pig</td></tr>\n",
       "\t<tr><td>SAMEA3663296</td><td>ERR1135469</td><td>PRJEB11755</td><td>PRJEB11755</td><td>NA</td><td>SAMEA3663296</td><td>ERS970445</td><td>simple</td><td>1510822</td><td>pig gut metagenome</td><td>ILLUMINA</td><td>NA</td><td>2013</td><td>NA</td><td>NA</td><td>NA</td><td>ERS970445</td><td>Pig</td></tr>\n",
       "\t<tr><td>⋮</td><td>⋮</td><td>⋮</td><td>⋮</td><td>⋮</td><td>⋮</td><td>⋮</td><td>⋮</td><td>⋮</td><td>⋮</td><td>⋮</td><td>⋮</td><td>⋮</td><td>⋮</td><td>⋮</td><td>⋮</td><td>⋮</td><td>⋮</td></tr>\n",
       "\t<tr><td>SAMEA3387463</td><td>ERR878243</td><td>PRJEB9357</td><td>PRJEB9357</td><td>NA</td><td>SAMEA3387463</td><td>ERS723620</td><td>simple</td><td>9685</td><td>Felis catus</td><td>ILLUMINA</td><td>NA</td><td>2012</td><td>NA</td><td>NA</td><td>NA</td><td>ERS723620</td><td>House cat</td></tr>\n",
       "\t<tr><td>SAMEA3443758</td><td>ERR878241</td><td>PRJEB9357</td><td>PRJEB9357</td><td>NA</td><td>SAMEA3443758</td><td>ERS723589</td><td>simple</td><td>9685</td><td>Felis catus</td><td>ILLUMINA</td><td>NA</td><td>2012</td><td>NA</td><td>NA</td><td>NA</td><td>ERS723589</td><td>House cat</td></tr>\n",
       "</tbody>\n",
       "</table>\n"
      ],
      "text/latex": [
       "A tidytable: 1137 × 18\n",
       "\\begin{tabular}{llllllllllllllllll}\n",
       " Sample & EnvSample & BioProject & bioproject & Study\\_Pubmed\\_id & BioSample & SampleID & SampleType & TaxID & ScientificName & Platform & source & collection\\_date & env\\_biome & env\\_material & host & SRA\\_accession & Animal\\\\\n",
       " <chr> & <chr> & <chr> & <chr> & <int> & <chr> & <chr> & <chr> & <int> & <chr> & <chr> & <lgl> & <chr> & <chr> & <chr> & <chr> & <chr> & <chr>\\\\\n",
       "\\hline\n",
       "\t SAMEA3663295 & ERR1135468 & PRJEB11755 & PRJEB11755 & NA & SAMEA3663295 & ERS970444 & simple & 1510822 & pig gut metagenome & ILLUMINA & NA & 2013 & NA & NA & NA & ERS970444 & Pig\\\\\n",
       "\t SAMEA3663296 & ERR1135469 & PRJEB11755 & PRJEB11755 & NA & SAMEA3663296 & ERS970445 & simple & 1510822 & pig gut metagenome & ILLUMINA & NA & 2013 & NA & NA & NA & ERS970445 & Pig\\\\\n",
       "\t ⋮ & ⋮ & ⋮ & ⋮ & ⋮ & ⋮ & ⋮ & ⋮ & ⋮ & ⋮ & ⋮ & ⋮ & ⋮ & ⋮ & ⋮ & ⋮ & ⋮ & ⋮\\\\\n",
       "\t SAMEA3387463 & ERR878243 & PRJEB9357 & PRJEB9357 & NA & SAMEA3387463 & ERS723620 & simple & 9685 & Felis catus & ILLUMINA & NA & 2012 & NA & NA & NA & ERS723620 & House cat\\\\\n",
       "\t SAMEA3443758 & ERR878241 & PRJEB9357 & PRJEB9357 & NA & SAMEA3443758 & ERS723589 & simple & 9685 & Felis catus & ILLUMINA & NA & 2012 & NA & NA & NA & ERS723589 & House cat\\\\\n",
       "\\end{tabular}\n"
      ],
      "text/markdown": [
       "\n",
       "A tidytable: 1137 × 18\n",
       "\n",
       "| Sample &lt;chr&gt; | EnvSample &lt;chr&gt; | BioProject &lt;chr&gt; | bioproject &lt;chr&gt; | Study_Pubmed_id &lt;int&gt; | BioSample &lt;chr&gt; | SampleID &lt;chr&gt; | SampleType &lt;chr&gt; | TaxID &lt;int&gt; | ScientificName &lt;chr&gt; | Platform &lt;chr&gt; | source &lt;lgl&gt; | collection_date &lt;chr&gt; | env_biome &lt;chr&gt; | env_material &lt;chr&gt; | host &lt;chr&gt; | SRA_accession &lt;chr&gt; | Animal &lt;chr&gt; |\n",
       "|---|---|---|---|---|---|---|---|---|---|---|---|---|---|---|---|---|---|\n",
       "| SAMEA3663295 | ERR1135468 | PRJEB11755 | PRJEB11755 | NA | SAMEA3663295 | ERS970444 | simple | 1510822 | pig gut metagenome | ILLUMINA | NA | 2013 | NA | NA | NA | ERS970444 | Pig |\n",
       "| SAMEA3663296 | ERR1135469 | PRJEB11755 | PRJEB11755 | NA | SAMEA3663296 | ERS970445 | simple | 1510822 | pig gut metagenome | ILLUMINA | NA | 2013 | NA | NA | NA | ERS970445 | Pig |\n",
       "| ⋮ | ⋮ | ⋮ | ⋮ | ⋮ | ⋮ | ⋮ | ⋮ | ⋮ | ⋮ | ⋮ | ⋮ | ⋮ | ⋮ | ⋮ | ⋮ | ⋮ | ⋮ |\n",
       "| SAMEA3387463 | ERR878243 | PRJEB9357 | PRJEB9357 | NA | SAMEA3387463 | ERS723620 | simple | 9685 | Felis catus | ILLUMINA | NA | 2012 | NA | NA | NA | ERS723620 | House cat |\n",
       "| SAMEA3443758 | ERR878241 | PRJEB9357 | PRJEB9357 | NA | SAMEA3443758 | ERS723589 | simple | 9685 | Felis catus | ILLUMINA | NA | 2012 | NA | NA | NA | ERS723589 | House cat |\n",
       "\n"
      ],
      "text/plain": [
       "     Sample       EnvSample  BioProject bioproject Study_Pubmed_id BioSample   \n",
       "1    SAMEA3663295 ERR1135468 PRJEB11755 PRJEB11755 NA              SAMEA3663295\n",
       "2    SAMEA3663296 ERR1135469 PRJEB11755 PRJEB11755 NA              SAMEA3663296\n",
       "⋮    ⋮            ⋮          ⋮          ⋮          ⋮               ⋮           \n",
       "1136 SAMEA3387463 ERR878243  PRJEB9357  PRJEB9357  NA              SAMEA3387463\n",
       "1137 SAMEA3443758 ERR878241  PRJEB9357  PRJEB9357  NA              SAMEA3443758\n",
       "     SampleID  SampleType TaxID   ScientificName     Platform source\n",
       "1    ERS970444 simple     1510822 pig gut metagenome ILLUMINA NA    \n",
       "2    ERS970445 simple     1510822 pig gut metagenome ILLUMINA NA    \n",
       "⋮    ⋮         ⋮          ⋮       ⋮                  ⋮        ⋮     \n",
       "1136 ERS723620 simple     9685    Felis catus        ILLUMINA NA    \n",
       "1137 ERS723589 simple     9685    Felis catus        ILLUMINA NA    \n",
       "     collection_date env_biome env_material host SRA_accession Animal   \n",
       "1    2013            NA        NA           NA   ERS970444     Pig      \n",
       "2    2013            NA        NA           NA   ERS970445     Pig      \n",
       "⋮    ⋮               ⋮         ⋮            ⋮    ⋮             ⋮        \n",
       "1136 2012            NA        NA           NA   ERS723620     House cat\n",
       "1137 2012            NA        NA           NA   ERS723589     House cat"
      ]
     },
     "metadata": {},
     "output_type": "display_data"
    }
   ],
   "source": [
    "# multi-study\n",
    "# bioproject & sample IDs for all samples used\n",
    "read_samples_table = function(x, base_dir){\n",
    "    Fread(file.path(base_dir, x, 'samples.txt')) %>%\n",
    "        dt_select(Sample, Run, Lane, Remote, spots, bases,\n",
    "                  avgLength, BioProject, bioproject,\n",
    "                  Study_Pubmed_id, BioSample, SampleID, \n",
    "                  SampleType, TaxID, ScientificName,\n",
    "                  LibraryStrategy, LibrarySelection, \n",
    "                  LibrarySource, InsertSize, Platform,\n",
    "                  source, collection_date, env_biome,\n",
    "                  env_material, host, SRA_accession, Animal) \n",
    "}\n",
    "\n",
    "Mst_meta_used = Mst_bioprojects %>%\n",
    "    lapply(read_samples_table, base_dir=bioproject_base_dir) %>%\n",
    "    data.table::rbindlist(use.names=TRUE) %>%\n",
    "    dt_mutate(Sample = gsub(' ', '_', Sample)) %>%\n",
    "    as_tibble %>%\n",
    "    distinct(Sample, BioProject, bioproject,\n",
    "             Study_Pubmed_id, BioSample, SampleID, \n",
    "             SampleType, TaxID, ScientificName,\n",
    "             Platform, source, collection_date, env_biome,\n",
    "             env_material, host, SRA_accession, Animal, .keep_all=TRUE) %>%\n",
    "    as.data.table %>%\n",
    "    dt_select(Sample, Run, BioProject, bioproject,\n",
    "              Study_Pubmed_id, BioSample, SampleID, \n",
    "              SampleType, TaxID, ScientificName,\n",
    "              Platform, source, collection_date, env_biome,\n",
    "              env_material, host, SRA_accession, Animal) %>%\n",
    "    dt_rename('EnvSample' = Run)\n",
    "\n",
    "Mst_meta_used %>% unique_n('Samples', BioSample)\n",
    "Mst_meta_used"
   ]
  },
  {
   "cell_type": "markdown",
   "metadata": {},
   "source": [
    "#### Notes\n",
    "\n",
    "* 6 samples are represented by 1 biosample: 'SAMN06675391'"
   ]
  },
  {
   "cell_type": "markdown",
   "metadata": {},
   "source": [
    "# Format/join"
   ]
  },
  {
   "cell_type": "code",
   "execution_count": 13,
   "metadata": {
    "ExecuteTime": {
     "end_time": "2020-05-27T11:16:11.352056Z",
     "start_time": "2020-05-27T11:16:11.205Z"
    }
   },
   "outputs": [
    {
     "name": "stdout",
     "output_type": "stream",
     "text": [
      "intersect(x,y): 641 \n",
      "setdiff(x,y): 0 \n",
      "setdiff(y,x): 785 \n",
      "union(x,y): 1426 \n",
      "---\n",
      "intersect(x,y): 504 \n",
      "setdiff(x,y): 137 \n",
      "setdiff(y,x): 633 \n",
      "union(x,y): 1274 \n",
      "---\n",
      "intersect(x,y): 137 \n",
      "setdiff(x,y): 504 \n",
      "setdiff(y,x): 152 \n",
      "union(x,y): 793 \n"
     ]
    }
   ],
   "source": [
    "# all samples overlapping?\n",
    "x = c(Mst_meta_used %>% dt_pull(Sample),\n",
    "      MS_meta %>% dt_pull(Sample))\n",
    "overlap(mag_meta, x, Sample)\n",
    "cat('---\\n')\n",
    "overlap(mag_meta, Mst_meta_used, Sample, Sample)\n",
    "cat('---\\n')\n",
    "overlap(mag_meta, MS_meta, Sample, Sample)"
   ]
  },
  {
   "cell_type": "code",
   "execution_count": 14,
   "metadata": {
    "ExecuteTime": {
     "end_time": "2020-05-27T11:16:12.509375Z",
     "start_time": "2020-05-27T11:16:12.438Z"
    }
   },
   "outputs": [
    {
     "name": "stdout",
     "output_type": "stream",
     "text": [
      "intersect(x,y): 1132 \n",
      "setdiff(x,y): 0 \n",
      "setdiff(y,x): 1060 \n",
      "union(x,y): 2192 \n"
     ]
    }
   ],
   "source": [
    "# checking overlap of samples\n",
    "overlap(Mst_meta_used, Mst_meta, BioSample, BioSample)"
   ]
  },
  {
   "cell_type": "code",
   "execution_count": 15,
   "metadata": {
    "ExecuteTime": {
     "end_time": "2020-05-27T11:16:13.177067Z",
     "start_time": "2020-05-27T11:16:12.952Z"
    }
   },
   "outputs": [
    {
     "name": "stderr",
     "output_type": "stream",
     "text": [
      "Warning message in if (by_x %notin% colnames(x)) stop(\"by.x columns not in x\"):\n",
      "“the condition has length > 1 and only the first element will be used”\n",
      "Warning message in if (by_y %notin% colnames(y)) stop(\"by.y columns not in y\"):\n",
      "“the condition has length > 1 and only the first element will be used”\n"
     ]
    },
    {
     "name": "stdout",
     "output_type": "stream",
     "text": [
      "No. of unique Samples: 1137 \n"
     ]
    },
    {
     "data": {
      "text/html": [
       "<table>\n",
       "<caption>A tidytable: 1137 × 13</caption>\n",
       "<thead>\n",
       "\t<tr><th scope=col>Sample</th><th scope=col>isolation source</th><th scope=col>collection date</th><th scope=col>geographic location (country and/or sea)</th><th scope=col>geographic location (latitude)</th><th scope=col>geographic location (longitude)</th><th scope=col>environment (biome)</th><th scope=col>environment (material)</th><th scope=col>tax_id</th><th scope=col>BioProject</th><th scope=col>BioSample</th><th scope=col>EnvSample</th><th scope=col>environment (feature)</th></tr>\n",
       "\t<tr><th scope=col>&lt;chr&gt;</th><th scope=col>&lt;chr&gt;</th><th scope=col>&lt;chr&gt;</th><th scope=col>&lt;chr&gt;</th><th scope=col>&lt;dbl&gt;</th><th scope=col>&lt;dbl&gt;</th><th scope=col>&lt;chr&gt;</th><th scope=col>&lt;chr&gt;</th><th scope=col>&lt;int&gt;</th><th scope=col>&lt;chr&gt;</th><th scope=col>&lt;chr&gt;</th><th scope=col>&lt;chr&gt;</th><th scope=col>&lt;chr&gt;</th></tr>\n",
       "</thead>\n",
       "<tbody>\n",
       "\t<tr><td>R28</td><td>Diceros bicornis</td><td>0000-00-00</td><td>USA</td><td>31</td><td>-100</td><td>Diceros bicornis</td><td>feces</td><td>9805</td><td>PRJNA532626</td><td>SAMN11407874</td><td>SRR8890839</td><td>gut</td></tr>\n",
       "\t<tr><td>R27</td><td>Diceros bicornis</td><td>0000-00-00</td><td>USA</td><td>31</td><td>-100</td><td>Diceros bicornis</td><td>feces</td><td>9805</td><td>PRJNA532626</td><td>SAMN11407873</td><td>SRR8890843</td><td>gut</td></tr>\n",
       "\t<tr><td>⋮</td><td>⋮</td><td>⋮</td><td>⋮</td><td>⋮</td><td>⋮</td><td>⋮</td><td>⋮</td><td>⋮</td><td>⋮</td><td>⋮</td><td>⋮</td><td>⋮</td></tr>\n",
       "\t<tr><td>Cebus_capucinus_imitator_PRJNA485217_SSR012</td><td>Cebus capucinus imitator</td><td>2014-05-01</td><td>Costa Rica</td><td>10.51</td><td>85.42</td><td>Cebus capucinus imitator</td><td>feces</td><td>1737458</td><td>PRJNA485217</td><td>SAMN09786400</td><td>SRR8101060</td><td>gut</td></tr>\n",
       "\t<tr><td>Cebus_capucinus_imitator_PRJNA485217_SSR007</td><td>Cebus capucinus imitator</td><td>2014-04-30</td><td>Costa Rica</td><td>10.51</td><td>85.42</td><td>Cebus capucinus imitator</td><td>feces</td><td>1737458</td><td>PRJNA485217</td><td>SAMN09786396</td><td>SRR8101059</td><td>gut</td></tr>\n",
       "</tbody>\n",
       "</table>\n"
      ],
      "text/latex": [
       "A tidytable: 1137 × 13\n",
       "\\begin{tabular}{lllllllllllll}\n",
       " Sample & isolation source & collection date & geographic location (country and/or sea) & geographic location (latitude) & geographic location (longitude) & environment (biome) & environment (material) & tax\\_id & BioProject & BioSample & EnvSample & environment (feature)\\\\\n",
       " <chr> & <chr> & <chr> & <chr> & <dbl> & <dbl> & <chr> & <chr> & <int> & <chr> & <chr> & <chr> & <chr>\\\\\n",
       "\\hline\n",
       "\t R28 & Diceros bicornis & 0000-00-00 & USA & 31 & -100 & Diceros bicornis & feces & 9805 & PRJNA532626 & SAMN11407874 & SRR8890839 & gut\\\\\n",
       "\t R27 & Diceros bicornis & 0000-00-00 & USA & 31 & -100 & Diceros bicornis & feces & 9805 & PRJNA532626 & SAMN11407873 & SRR8890843 & gut\\\\\n",
       "\t ⋮ & ⋮ & ⋮ & ⋮ & ⋮ & ⋮ & ⋮ & ⋮ & ⋮ & ⋮ & ⋮ & ⋮ & ⋮\\\\\n",
       "\t Cebus\\_capucinus\\_imitator\\_PRJNA485217\\_SSR012 & Cebus capucinus imitator & 2014-05-01 & Costa Rica & 10.51 & 85.42 & Cebus capucinus imitator & feces & 1737458 & PRJNA485217 & SAMN09786400 & SRR8101060 & gut\\\\\n",
       "\t Cebus\\_capucinus\\_imitator\\_PRJNA485217\\_SSR007 & Cebus capucinus imitator & 2014-04-30 & Costa Rica & 10.51 & 85.42 & Cebus capucinus imitator & feces & 1737458 & PRJNA485217 & SAMN09786396 & SRR8101059 & gut\\\\\n",
       "\\end{tabular}\n"
      ],
      "text/markdown": [
       "\n",
       "A tidytable: 1137 × 13\n",
       "\n",
       "| Sample &lt;chr&gt; | isolation source &lt;chr&gt; | collection date &lt;chr&gt; | geographic location (country and/or sea) &lt;chr&gt; | geographic location (latitude) &lt;dbl&gt; | geographic location (longitude) &lt;dbl&gt; | environment (biome) &lt;chr&gt; | environment (material) &lt;chr&gt; | tax_id &lt;int&gt; | BioProject &lt;chr&gt; | BioSample &lt;chr&gt; | EnvSample &lt;chr&gt; | environment (feature) &lt;chr&gt; |\n",
       "|---|---|---|---|---|---|---|---|---|---|---|---|---|\n",
       "| R28 | Diceros bicornis | 0000-00-00 | USA | 31 | -100 | Diceros bicornis | feces | 9805 | PRJNA532626 | SAMN11407874 | SRR8890839 | gut |\n",
       "| R27 | Diceros bicornis | 0000-00-00 | USA | 31 | -100 | Diceros bicornis | feces | 9805 | PRJNA532626 | SAMN11407873 | SRR8890843 | gut |\n",
       "| ⋮ | ⋮ | ⋮ | ⋮ | ⋮ | ⋮ | ⋮ | ⋮ | ⋮ | ⋮ | ⋮ | ⋮ | ⋮ |\n",
       "| Cebus_capucinus_imitator_PRJNA485217_SSR012 | Cebus capucinus imitator | 2014-05-01 | Costa Rica | 10.51 | 85.42 | Cebus capucinus imitator | feces | 1737458 | PRJNA485217 | SAMN09786400 | SRR8101060 | gut |\n",
       "| Cebus_capucinus_imitator_PRJNA485217_SSR007 | Cebus capucinus imitator | 2014-04-30 | Costa Rica | 10.51 | 85.42 | Cebus capucinus imitator | feces | 1737458 | PRJNA485217 | SAMN09786396 | SRR8101059 | gut |\n",
       "\n"
      ],
      "text/plain": [
       "     Sample                                      isolation source        \n",
       "1    R28                                         Diceros bicornis        \n",
       "2    R27                                         Diceros bicornis        \n",
       "⋮    ⋮                                           ⋮                       \n",
       "1136 Cebus_capucinus_imitator_PRJNA485217_SSR012 Cebus capucinus imitator\n",
       "1137 Cebus_capucinus_imitator_PRJNA485217_SSR007 Cebus capucinus imitator\n",
       "     collection date geographic location (country and/or sea)\n",
       "1    0000-00-00      USA                                     \n",
       "2    0000-00-00      USA                                     \n",
       "⋮    ⋮               ⋮                                       \n",
       "1136 2014-05-01      Costa Rica                              \n",
       "1137 2014-04-30      Costa Rica                              \n",
       "     geographic location (latitude) geographic location (longitude)\n",
       "1    31                             -100                           \n",
       "2    31                             -100                           \n",
       "⋮    ⋮                              ⋮                              \n",
       "1136 10.51                          85.42                          \n",
       "1137 10.51                          85.42                          \n",
       "     environment (biome)      environment (material) tax_id  BioProject \n",
       "1    Diceros bicornis         feces                  9805    PRJNA532626\n",
       "2    Diceros bicornis         feces                  9805    PRJNA532626\n",
       "⋮    ⋮                        ⋮                      ⋮       ⋮          \n",
       "1136 Cebus capucinus imitator feces                  1737458 PRJNA485217\n",
       "1137 Cebus capucinus imitator feces                  1737458 PRJNA485217\n",
       "     BioSample    EnvSample  environment (feature)\n",
       "1    SAMN11407874 SRR8890839 gut                  \n",
       "2    SAMN11407873 SRR8890843 gut                  \n",
       "⋮    ⋮            ⋮          ⋮                    \n",
       "1136 SAMN09786400 SRR8101060 gut                  \n",
       "1137 SAMN09786396 SRR8101059 gut                  "
      ]
     },
     "metadata": {},
     "output_type": "display_data"
    }
   ],
   "source": [
    "# merging of multi-study metadata\n",
    "Mst = Mst_meta_used %>%\n",
    "    dt_rename('SRA' = SRA_accession) %>%\n",
    "    dt_inner_join(Mst_meta, by=c('BioProject', 'BioSample')) %>%\n",
    "    dt_select(Sample, Organism, collection.date, geographic.location,\n",
    "              geographic.location, geographic.location..latitude.,\n",
    "              geographic.location..longitude., env_biome, env_material, \n",
    "              TaxID, BioProject, BioSample, EnvSample) %>%\n",
    "    dt_mutate(env_feature = 'gut',\n",
    "              env_biome = env_biome %>% as.character,\n",
    "              env_biome = ifelse(is.na(env_biome), Organism, env_biome),\n",
    "              env_material = env_material %>% as.character,\n",
    "              env_material = ifelse(is.na(env_material), 'feces', env_material),\n",
    "              env_feature = env_feature %>% as.character,\n",
    "              env_feature = ifelse(is.na(env_feature), 'gut', env_feature),\n",
    "              geographic.location = gsub(':.+', '', geographic.location),\n",
    "              geographic.location..latitude. = geographic.location..latitude. %>% as.Num,\n",
    "              geographic.location..longitude. = geographic.location..longitude. %>% as.Num) %>%\n",
    "    dt_rename('isolation source' = Organism,\n",
    "              'tax_id' = TaxID,\n",
    "              'collection date' = collection.date,\n",
    "              'geographic location (country and/or sea)' = geographic.location,\n",
    "              'geographic location (latitude)' = geographic.location..latitude.,\n",
    "              'geographic location (longitude)' = geographic.location..longitude.,\n",
    "              'environment (biome)' = env_biome,\n",
    "              'environment (feature)' = env_feature,\n",
    "              'environment (material)' = env_material)\n",
    "\n",
    "Mst %>% unique_n('Samples', Sample)\n",
    "Mst"
   ]
  },
  {
   "cell_type": "markdown",
   "metadata": {},
   "source": [
    "## Combining all metadata"
   ]
  },
  {
   "cell_type": "code",
   "execution_count": 16,
   "metadata": {
    "ExecuteTime": {
     "end_time": "2020-05-27T11:16:15.120945Z",
     "start_time": "2020-05-27T11:16:15.039Z"
    }
   },
   "outputs": [
    {
     "data": {
      "text/html": [
       "<table>\n",
       "<caption>A data.table: 1426 × 13</caption>\n",
       "<thead>\n",
       "\t<tr><th scope=col>Sample</th><th scope=col>isolation source</th><th scope=col>collection date</th><th scope=col>geographic location (country and/or sea)</th><th scope=col>geographic location (latitude)</th><th scope=col>geographic location (longitude)</th><th scope=col>environment (biome)</th><th scope=col>environment (material)</th><th scope=col>tax_id</th><th scope=col>BioProject</th><th scope=col>BioSample</th><th scope=col>EnvSample</th><th scope=col>environment (feature)</th></tr>\n",
       "\t<tr><th scope=col>&lt;chr&gt;</th><th scope=col>&lt;chr&gt;</th><th scope=col>&lt;chr&gt;</th><th scope=col>&lt;chr&gt;</th><th scope=col>&lt;dbl&gt;</th><th scope=col>&lt;dbl&gt;</th><th scope=col>&lt;chr&gt;</th><th scope=col>&lt;chr&gt;</th><th scope=col>&lt;int&gt;</th><th scope=col>&lt;chr&gt;</th><th scope=col>&lt;chr&gt;</th><th scope=col>&lt;chr&gt;</th><th scope=col>&lt;chr&gt;</th></tr>\n",
       "</thead>\n",
       "<tbody>\n",
       "\t<tr><td>R28</td><td>Diceros bicornis</td><td>0000-00-00</td><td>USA</td><td>31</td><td>-100</td><td>Diceros bicornis</td><td>feces</td><td>9805</td><td>PRJNA532626</td><td>SAMN11407874</td><td>SRR8890839</td><td>gut</td></tr>\n",
       "\t<tr><td>R27</td><td>Diceros bicornis</td><td>0000-00-00</td><td>USA</td><td>31</td><td>-100</td><td>Diceros bicornis</td><td>feces</td><td>9805</td><td>PRJNA532626</td><td>SAMN11407873</td><td>SRR8890843</td><td>gut</td></tr>\n",
       "\t<tr><td>⋮</td><td>⋮</td><td>⋮</td><td>⋮</td><td>⋮</td><td>⋮</td><td>⋮</td><td>⋮</td><td>⋮</td><td>⋮</td><td>⋮</td><td>⋮</td><td>⋮</td></tr>\n",
       "\t<tr><td>F44_Fallow_Deer </td><td>Dama dama  </td><td>2010-10-04</td><td>Austria</td><td>48.20833</td><td>16.37306</td><td>Dama_dama  </td><td>feces</td><td>30532</td><td>PRJEB38078</td><td>SAMEA6809643</td><td>ERS4537292</td><td>gut</td></tr>\n",
       "\t<tr><td>F90_Domestic_Dog</td><td>Canis lupus</td><td>2010-11-07</td><td>Austria</td><td>48.20833</td><td>16.37306</td><td>Canis_lupus</td><td>feces</td><td> 9615</td><td>PRJEB38078</td><td>SAMEA6809644</td><td>ERS4537293</td><td>gut</td></tr>\n",
       "</tbody>\n",
       "</table>\n"
      ],
      "text/latex": [
       "A data.table: 1426 × 13\n",
       "\\begin{tabular}{lllllllllllll}\n",
       " Sample & isolation source & collection date & geographic location (country and/or sea) & geographic location (latitude) & geographic location (longitude) & environment (biome) & environment (material) & tax\\_id & BioProject & BioSample & EnvSample & environment (feature)\\\\\n",
       " <chr> & <chr> & <chr> & <chr> & <dbl> & <dbl> & <chr> & <chr> & <int> & <chr> & <chr> & <chr> & <chr>\\\\\n",
       "\\hline\n",
       "\t R28 & Diceros bicornis & 0000-00-00 & USA & 31 & -100 & Diceros bicornis & feces & 9805 & PRJNA532626 & SAMN11407874 & SRR8890839 & gut\\\\\n",
       "\t R27 & Diceros bicornis & 0000-00-00 & USA & 31 & -100 & Diceros bicornis & feces & 9805 & PRJNA532626 & SAMN11407873 & SRR8890843 & gut\\\\\n",
       "\t ⋮ & ⋮ & ⋮ & ⋮ & ⋮ & ⋮ & ⋮ & ⋮ & ⋮ & ⋮ & ⋮ & ⋮ & ⋮\\\\\n",
       "\t F44\\_Fallow\\_Deer  & Dama dama   & 2010-10-04 & Austria & 48.20833 & 16.37306 & Dama\\_dama   & feces & 30532 & PRJEB38078 & SAMEA6809643 & ERS4537292 & gut\\\\\n",
       "\t F90\\_Domestic\\_Dog & Canis lupus & 2010-11-07 & Austria & 48.20833 & 16.37306 & Canis\\_lupus & feces &  9615 & PRJEB38078 & SAMEA6809644 & ERS4537293 & gut\\\\\n",
       "\\end{tabular}\n"
      ],
      "text/markdown": [
       "\n",
       "A data.table: 1426 × 13\n",
       "\n",
       "| Sample &lt;chr&gt; | isolation source &lt;chr&gt; | collection date &lt;chr&gt; | geographic location (country and/or sea) &lt;chr&gt; | geographic location (latitude) &lt;dbl&gt; | geographic location (longitude) &lt;dbl&gt; | environment (biome) &lt;chr&gt; | environment (material) &lt;chr&gt; | tax_id &lt;int&gt; | BioProject &lt;chr&gt; | BioSample &lt;chr&gt; | EnvSample &lt;chr&gt; | environment (feature) &lt;chr&gt; |\n",
       "|---|---|---|---|---|---|---|---|---|---|---|---|---|\n",
       "| R28 | Diceros bicornis | 0000-00-00 | USA | 31 | -100 | Diceros bicornis | feces | 9805 | PRJNA532626 | SAMN11407874 | SRR8890839 | gut |\n",
       "| R27 | Diceros bicornis | 0000-00-00 | USA | 31 | -100 | Diceros bicornis | feces | 9805 | PRJNA532626 | SAMN11407873 | SRR8890843 | gut |\n",
       "| ⋮ | ⋮ | ⋮ | ⋮ | ⋮ | ⋮ | ⋮ | ⋮ | ⋮ | ⋮ | ⋮ | ⋮ | ⋮ |\n",
       "| F44_Fallow_Deer  | Dama dama   | 2010-10-04 | Austria | 48.20833 | 16.37306 | Dama_dama   | feces | 30532 | PRJEB38078 | SAMEA6809643 | ERS4537292 | gut |\n",
       "| F90_Domestic_Dog | Canis lupus | 2010-11-07 | Austria | 48.20833 | 16.37306 | Canis_lupus | feces |  9615 | PRJEB38078 | SAMEA6809644 | ERS4537293 | gut |\n",
       "\n"
      ],
      "text/plain": [
       "     Sample           isolation source collection date\n",
       "1    R28              Diceros bicornis 0000-00-00     \n",
       "2    R27              Diceros bicornis 0000-00-00     \n",
       "⋮    ⋮                ⋮                ⋮              \n",
       "1425 F44_Fallow_Deer  Dama dama        2010-10-04     \n",
       "1426 F90_Domestic_Dog Canis lupus      2010-11-07     \n",
       "     geographic location (country and/or sea) geographic location (latitude)\n",
       "1    USA                                      31                            \n",
       "2    USA                                      31                            \n",
       "⋮    ⋮                                        ⋮                             \n",
       "1425 Austria                                  48.20833                      \n",
       "1426 Austria                                  48.20833                      \n",
       "     geographic location (longitude) environment (biome) environment (material)\n",
       "1    -100                            Diceros bicornis    feces                 \n",
       "2    -100                            Diceros bicornis    feces                 \n",
       "⋮    ⋮                               ⋮                   ⋮                     \n",
       "1425 16.37306                        Dama_dama           feces                 \n",
       "1426 16.37306                        Canis_lupus         feces                 \n",
       "     tax_id BioProject  BioSample    EnvSample  environment (feature)\n",
       "1    9805   PRJNA532626 SAMN11407874 SRR8890839 gut                  \n",
       "2    9805   PRJNA532626 SAMN11407873 SRR8890843 gut                  \n",
       "⋮    ⋮      ⋮           ⋮            ⋮          ⋮                    \n",
       "1425 30532  PRJEB38078  SAMEA6809643 ERS4537292 gut                  \n",
       "1426  9615  PRJEB38078  SAMEA6809644 ERS4537293 gut                  "
      ]
     },
     "metadata": {},
     "output_type": "display_data"
    }
   ],
   "source": [
    "# combining all biosample metadata\n",
    "biosamples = rbind(Mst %>% as_tibble, MS_meta %>% as_tibble) %>%\n",
    "    distinct(Sample, .keep_all=TRUE) %>%\n",
    "    as.data.table \n",
    "biosamples"
   ]
  },
  {
   "cell_type": "code",
   "execution_count": 17,
   "metadata": {
    "ExecuteTime": {
     "end_time": "2020-05-27T11:16:15.704520Z",
     "start_time": "2020-05-27T11:16:15.662Z"
    }
   },
   "outputs": [
    {
     "name": "stdout",
     "output_type": "stream",
     "text": [
      "intersect(x,y): 641 \n",
      "setdiff(x,y): 0 \n",
      "setdiff(y,x): 785 \n",
      "union(x,y): 1426 \n"
     ]
    }
   ],
   "source": [
    "# checking overlap with MAGs\n",
    "overlap(mag_meta, biosamples, Sample, Sample)"
   ]
  },
  {
   "cell_type": "code",
   "execution_count": 18,
   "metadata": {
    "ExecuteTime": {
     "end_time": "2020-05-27T11:16:16.392215Z",
     "start_time": "2020-05-27T11:16:16.258Z"
    }
   },
   "outputs": [
    {
     "data": {
      "text/html": [
       "<table>\n",
       "<caption>A tidytable: 5596 × 69</caption>\n",
       "<thead>\n",
       "\t<tr><th scope=col>binID</th><th scope=col>fasta.x</th><th scope=col>Marker.lineage</th><th scope=col>X..genomes</th><th scope=col>X..markers</th><th scope=col>X..marker.sets</th><th scope=col>Completeness</th><th scope=col>Contamination</th><th scope=col>Strain.heterogeneity</th><th scope=col>Genome.size..bp.</th><th scope=col>⋯</th><th scope=col>geographic location (country and/or sea)</th><th scope=col>geographic location (latitude)</th><th scope=col>geographic location (longitude)</th><th scope=col>environment (biome)</th><th scope=col>environment (material)</th><th scope=col>tax_id</th><th scope=col>BioProject</th><th scope=col>BioSample</th><th scope=col>EnvSample</th><th scope=col>environment (feature)</th></tr>\n",
       "\t<tr><th scope=col>&lt;chr&gt;</th><th scope=col>&lt;chr&gt;</th><th scope=col>&lt;chr&gt;</th><th scope=col>&lt;int&gt;</th><th scope=col>&lt;int&gt;</th><th scope=col>&lt;int&gt;</th><th scope=col>&lt;dbl&gt;</th><th scope=col>&lt;dbl&gt;</th><th scope=col>&lt;dbl&gt;</th><th scope=col>&lt;int&gt;</th><th scope=col>⋯</th><th scope=col>&lt;chr&gt;</th><th scope=col>&lt;dbl&gt;</th><th scope=col>&lt;dbl&gt;</th><th scope=col>&lt;chr&gt;</th><th scope=col>&lt;chr&gt;</th><th scope=col>&lt;int&gt;</th><th scope=col>&lt;chr&gt;</th><th scope=col>&lt;chr&gt;</th><th scope=col>&lt;chr&gt;</th><th scope=col>&lt;chr&gt;</th></tr>\n",
       "</thead>\n",
       "<tbody>\n",
       "\t<tr><td>R28__maxbin2_high_prob.043.contigs</td><td>/ebio/abt3_projects/Georg_animal_feces/data//metagenome/multi-study/BioProjects/summary/LLMGA/wGeorgAnimal/drep-0.999/dereplicated_genomes/R28__maxbin2_high_prob.043.contigs.fa</td><td>g__Prevotella (UID2724)</td><td>55</td><td>567</td><td>296</td><td>63.86</td><td>3.06</td><td>5.56</td><td>2597595</td><td>⋯</td><td>USA</td><td>31</td><td>-100</td><td>Diceros bicornis</td><td>feces</td><td>9805</td><td>PRJNA532626</td><td>SAMN11407874</td><td>SRR8890839</td><td>gut</td></tr>\n",
       "\t<tr><td>R28__maxbin2_high_prob.046.contigs</td><td>/ebio/abt3_projects/Georg_animal_feces/data//metagenome/multi-study/BioProjects/summary/LLMGA/wGeorgAnimal/drep-0.999/dereplicated_genomes/R28__maxbin2_high_prob.046.contigs.fa</td><td>k__Bacteria (UID2982)  </td><td>88</td><td>230</td><td>148</td><td>55.24</td><td>2.36</td><td>0.00</td><td>1316207</td><td>⋯</td><td>USA</td><td>31</td><td>-100</td><td>Diceros bicornis</td><td>feces</td><td>9805</td><td>PRJNA532626</td><td>SAMN11407874</td><td>SRR8890839</td><td>gut</td></tr>\n",
       "\t<tr><td>⋮</td><td>⋮</td><td>⋮</td><td>⋮</td><td>⋮</td><td>⋮</td><td>⋮</td><td>⋮</td><td>⋮</td><td>⋮</td><td>⋱</td><td>⋮</td><td>⋮</td><td>⋮</td><td>⋮</td><td>⋮</td><td>⋮</td><td>⋮</td><td>⋮</td><td>⋮</td><td>⋮</td></tr>\n",
       "\t<tr><td>F90_Domestic_Dog__metabat2_high_PE.009.contigs</td><td>/ebio/abt3_projects/Georg_animal_feces/data//metagenome/multi-study/BioProjects/summary/LLMGA/wGeorgAnimal/drep-0.999/dereplicated_genomes/F90_Domestic_Dog__metabat2_high_PE.009.contigs.fa</td><td>g__Prevotella (UID2724)</td><td> 55</td><td>567</td><td>296</td><td>97.97</td><td>1.35</td><td>20</td><td>2669064</td><td>⋯</td><td>Austria</td><td>48.20833</td><td>16.37306</td><td>Canis_lupus</td><td>feces</td><td>9615</td><td>PRJEB38078</td><td>SAMEA6809644</td><td>ERS4537293</td><td>gut</td></tr>\n",
       "\t<tr><td>F90_Domestic_Dog__metabat2_low_PE.003.contigs </td><td>/ebio/abt3_projects/Georg_animal_feces/data//metagenome/multi-study/BioProjects/summary/LLMGA/wGeorgAnimal/drep-0.999/dereplicated_genomes/F90_Domestic_Dog__metabat2_low_PE.003.contigs.fa </td><td>p__Firmicutes (UID1022)</td><td>100</td><td>295</td><td>158</td><td>94.78</td><td>0.63</td><td> 0</td><td>1779646</td><td>⋯</td><td>Austria</td><td>48.20833</td><td>16.37306</td><td>Canis_lupus</td><td>feces</td><td>9615</td><td>PRJEB38078</td><td>SAMEA6809644</td><td>ERS4537293</td><td>gut</td></tr>\n",
       "</tbody>\n",
       "</table>\n"
      ],
      "text/latex": [
       "A tidytable: 5596 × 69\n",
       "\\begin{tabular}{lllllllllllllllllllll}\n",
       " binID & fasta.x & Marker.lineage & X..genomes & X..markers & X..marker.sets & Completeness & Contamination & Strain.heterogeneity & Genome.size..bp. & ⋯ & geographic location (country and/or sea) & geographic location (latitude) & geographic location (longitude) & environment (biome) & environment (material) & tax\\_id & BioProject & BioSample & EnvSample & environment (feature)\\\\\n",
       " <chr> & <chr> & <chr> & <int> & <int> & <int> & <dbl> & <dbl> & <dbl> & <int> & ⋯ & <chr> & <dbl> & <dbl> & <chr> & <chr> & <int> & <chr> & <chr> & <chr> & <chr>\\\\\n",
       "\\hline\n",
       "\t R28\\_\\_maxbin2\\_high\\_prob.043.contigs & /ebio/abt3\\_projects/Georg\\_animal\\_feces/data//metagenome/multi-study/BioProjects/summary/LLMGA/wGeorgAnimal/drep-0.999/dereplicated\\_genomes/R28\\_\\_maxbin2\\_high\\_prob.043.contigs.fa & g\\_\\_Prevotella (UID2724) & 55 & 567 & 296 & 63.86 & 3.06 & 5.56 & 2597595 & ⋯ & USA & 31 & -100 & Diceros bicornis & feces & 9805 & PRJNA532626 & SAMN11407874 & SRR8890839 & gut\\\\\n",
       "\t R28\\_\\_maxbin2\\_high\\_prob.046.contigs & /ebio/abt3\\_projects/Georg\\_animal\\_feces/data//metagenome/multi-study/BioProjects/summary/LLMGA/wGeorgAnimal/drep-0.999/dereplicated\\_genomes/R28\\_\\_maxbin2\\_high\\_prob.046.contigs.fa & k\\_\\_Bacteria (UID2982)   & 88 & 230 & 148 & 55.24 & 2.36 & 0.00 & 1316207 & ⋯ & USA & 31 & -100 & Diceros bicornis & feces & 9805 & PRJNA532626 & SAMN11407874 & SRR8890839 & gut\\\\\n",
       "\t ⋮ & ⋮ & ⋮ & ⋮ & ⋮ & ⋮ & ⋮ & ⋮ & ⋮ & ⋮ & ⋱ & ⋮ & ⋮ & ⋮ & ⋮ & ⋮ & ⋮ & ⋮ & ⋮ & ⋮ & ⋮\\\\\n",
       "\t F90\\_Domestic\\_Dog\\_\\_metabat2\\_high\\_PE.009.contigs & /ebio/abt3\\_projects/Georg\\_animal\\_feces/data//metagenome/multi-study/BioProjects/summary/LLMGA/wGeorgAnimal/drep-0.999/dereplicated\\_genomes/F90\\_Domestic\\_Dog\\_\\_metabat2\\_high\\_PE.009.contigs.fa & g\\_\\_Prevotella (UID2724) &  55 & 567 & 296 & 97.97 & 1.35 & 20 & 2669064 & ⋯ & Austria & 48.20833 & 16.37306 & Canis\\_lupus & feces & 9615 & PRJEB38078 & SAMEA6809644 & ERS4537293 & gut\\\\\n",
       "\t F90\\_Domestic\\_Dog\\_\\_metabat2\\_low\\_PE.003.contigs  & /ebio/abt3\\_projects/Georg\\_animal\\_feces/data//metagenome/multi-study/BioProjects/summary/LLMGA/wGeorgAnimal/drep-0.999/dereplicated\\_genomes/F90\\_Domestic\\_Dog\\_\\_metabat2\\_low\\_PE.003.contigs.fa  & p\\_\\_Firmicutes (UID1022) & 100 & 295 & 158 & 94.78 & 0.63 &  0 & 1779646 & ⋯ & Austria & 48.20833 & 16.37306 & Canis\\_lupus & feces & 9615 & PRJEB38078 & SAMEA6809644 & ERS4537293 & gut\\\\\n",
       "\\end{tabular}\n"
      ],
      "text/markdown": [
       "\n",
       "A tidytable: 5596 × 69\n",
       "\n",
       "| binID &lt;chr&gt; | fasta.x &lt;chr&gt; | Marker.lineage &lt;chr&gt; | X..genomes &lt;int&gt; | X..markers &lt;int&gt; | X..marker.sets &lt;int&gt; | Completeness &lt;dbl&gt; | Contamination &lt;dbl&gt; | Strain.heterogeneity &lt;dbl&gt; | Genome.size..bp. &lt;int&gt; | ⋯ ⋯ | geographic location (country and/or sea) &lt;chr&gt; | geographic location (latitude) &lt;dbl&gt; | geographic location (longitude) &lt;dbl&gt; | environment (biome) &lt;chr&gt; | environment (material) &lt;chr&gt; | tax_id &lt;int&gt; | BioProject &lt;chr&gt; | BioSample &lt;chr&gt; | EnvSample &lt;chr&gt; | environment (feature) &lt;chr&gt; |\n",
       "|---|---|---|---|---|---|---|---|---|---|---|---|---|---|---|---|---|---|---|---|---|\n",
       "| R28__maxbin2_high_prob.043.contigs | /ebio/abt3_projects/Georg_animal_feces/data//metagenome/multi-study/BioProjects/summary/LLMGA/wGeorgAnimal/drep-0.999/dereplicated_genomes/R28__maxbin2_high_prob.043.contigs.fa | g__Prevotella (UID2724) | 55 | 567 | 296 | 63.86 | 3.06 | 5.56 | 2597595 | ⋯ | USA | 31 | -100 | Diceros bicornis | feces | 9805 | PRJNA532626 | SAMN11407874 | SRR8890839 | gut |\n",
       "| R28__maxbin2_high_prob.046.contigs | /ebio/abt3_projects/Georg_animal_feces/data//metagenome/multi-study/BioProjects/summary/LLMGA/wGeorgAnimal/drep-0.999/dereplicated_genomes/R28__maxbin2_high_prob.046.contigs.fa | k__Bacteria (UID2982)   | 88 | 230 | 148 | 55.24 | 2.36 | 0.00 | 1316207 | ⋯ | USA | 31 | -100 | Diceros bicornis | feces | 9805 | PRJNA532626 | SAMN11407874 | SRR8890839 | gut |\n",
       "| ⋮ | ⋮ | ⋮ | ⋮ | ⋮ | ⋮ | ⋮ | ⋮ | ⋮ | ⋮ | ⋱ | ⋮ | ⋮ | ⋮ | ⋮ | ⋮ | ⋮ | ⋮ | ⋮ | ⋮ | ⋮ |\n",
       "| F90_Domestic_Dog__metabat2_high_PE.009.contigs | /ebio/abt3_projects/Georg_animal_feces/data//metagenome/multi-study/BioProjects/summary/LLMGA/wGeorgAnimal/drep-0.999/dereplicated_genomes/F90_Domestic_Dog__metabat2_high_PE.009.contigs.fa | g__Prevotella (UID2724) |  55 | 567 | 296 | 97.97 | 1.35 | 20 | 2669064 | ⋯ | Austria | 48.20833 | 16.37306 | Canis_lupus | feces | 9615 | PRJEB38078 | SAMEA6809644 | ERS4537293 | gut |\n",
       "| F90_Domestic_Dog__metabat2_low_PE.003.contigs  | /ebio/abt3_projects/Georg_animal_feces/data//metagenome/multi-study/BioProjects/summary/LLMGA/wGeorgAnimal/drep-0.999/dereplicated_genomes/F90_Domestic_Dog__metabat2_low_PE.003.contigs.fa  | p__Firmicutes (UID1022) | 100 | 295 | 158 | 94.78 | 0.63 |  0 | 1779646 | ⋯ | Austria | 48.20833 | 16.37306 | Canis_lupus | feces | 9615 | PRJEB38078 | SAMEA6809644 | ERS4537293 | gut |\n",
       "\n"
      ],
      "text/plain": [
       "     binID                                         \n",
       "1    R28__maxbin2_high_prob.043.contigs            \n",
       "2    R28__maxbin2_high_prob.046.contigs            \n",
       "⋮    ⋮                                             \n",
       "5595 F90_Domestic_Dog__metabat2_high_PE.009.contigs\n",
       "5596 F90_Domestic_Dog__metabat2_low_PE.003.contigs \n",
       "     fasta.x                                                                                                                                                                                     \n",
       "1    /ebio/abt3_projects/Georg_animal_feces/data//metagenome/multi-study/BioProjects/summary/LLMGA/wGeorgAnimal/drep-0.999/dereplicated_genomes/R28__maxbin2_high_prob.043.contigs.fa            \n",
       "2    /ebio/abt3_projects/Georg_animal_feces/data//metagenome/multi-study/BioProjects/summary/LLMGA/wGeorgAnimal/drep-0.999/dereplicated_genomes/R28__maxbin2_high_prob.046.contigs.fa            \n",
       "⋮    ⋮                                                                                                                                                                                           \n",
       "5595 /ebio/abt3_projects/Georg_animal_feces/data//metagenome/multi-study/BioProjects/summary/LLMGA/wGeorgAnimal/drep-0.999/dereplicated_genomes/F90_Domestic_Dog__metabat2_high_PE.009.contigs.fa\n",
       "5596 /ebio/abt3_projects/Georg_animal_feces/data//metagenome/multi-study/BioProjects/summary/LLMGA/wGeorgAnimal/drep-0.999/dereplicated_genomes/F90_Domestic_Dog__metabat2_low_PE.003.contigs.fa \n",
       "     Marker.lineage          X..genomes X..markers X..marker.sets Completeness\n",
       "1    g__Prevotella (UID2724) 55         567        296            63.86       \n",
       "2    k__Bacteria (UID2982)   88         230        148            55.24       \n",
       "⋮    ⋮                       ⋮          ⋮          ⋮              ⋮           \n",
       "5595 g__Prevotella (UID2724)  55        567        296            97.97       \n",
       "5596 p__Firmicutes (UID1022) 100        295        158            94.78       \n",
       "     Contamination Strain.heterogeneity Genome.size..bp. ⋯\n",
       "1    3.06          5.56                 2597595          ⋯\n",
       "2    2.36          0.00                 1316207          ⋯\n",
       "⋮    ⋮             ⋮                    ⋮                ⋱\n",
       "5595 1.35          20                   2669064          ⋯\n",
       "5596 0.63           0                   1779646          ⋯\n",
       "     geographic location (country and/or sea) geographic location (latitude)\n",
       "1    USA                                      31                            \n",
       "2    USA                                      31                            \n",
       "⋮    ⋮                                        ⋮                             \n",
       "5595 Austria                                  48.20833                      \n",
       "5596 Austria                                  48.20833                      \n",
       "     geographic location (longitude) environment (biome) environment (material)\n",
       "1    -100                            Diceros bicornis    feces                 \n",
       "2    -100                            Diceros bicornis    feces                 \n",
       "⋮    ⋮                               ⋮                   ⋮                     \n",
       "5595 16.37306                        Canis_lupus         feces                 \n",
       "5596 16.37306                        Canis_lupus         feces                 \n",
       "     tax_id BioProject  BioSample    EnvSample  environment (feature)\n",
       "1    9805   PRJNA532626 SAMN11407874 SRR8890839 gut                  \n",
       "2    9805   PRJNA532626 SAMN11407874 SRR8890839 gut                  \n",
       "⋮    ⋮      ⋮           ⋮            ⋮          ⋮                    \n",
       "5595 9615   PRJEB38078  SAMEA6809644 ERS4537293 gut                  \n",
       "5596 9615   PRJEB38078  SAMEA6809644 ERS4537293 gut                  "
      ]
     },
     "metadata": {},
     "output_type": "display_data"
    }
   ],
   "source": [
    "# joining MAG info with biosample metadata\n",
    "mag_meta_bios = mag_meta %>%\n",
    "    dt_inner_join(biosamples, by=c('Sample'))\n",
    "mag_meta_bios"
   ]
  },
  {
   "cell_type": "markdown",
   "metadata": {},
   "source": [
    "## Final table"
   ]
  },
  {
   "cell_type": "code",
   "execution_count": 19,
   "metadata": {
    "ExecuteTime": {
     "end_time": "2020-05-27T11:16:19.969710Z",
     "start_time": "2020-05-27T11:16:19.856Z"
    }
   },
   "outputs": [
    {
     "data": {
      "text/html": [
       "<table>\n",
       "<caption>A tidytable: 5596 × 27</caption>\n",
       "<thead>\n",
       "\t<tr><th scope=col>sample_alias</th><th scope=col>tax_id</th><th scope=col>scientific_name</th><th scope=col>common_name</th><th scope=col>sample_title</th><th scope=col>sample_description</th><th scope=col>isolation_source</th><th scope=col>project name</th><th scope=col>sequencing method</th><th scope=col>assembly software</th><th scope=col>⋯</th><th scope=col>taxonomic identity marker</th><th scope=col>collection date</th><th scope=col>geographic location (country and/or sea)</th><th scope=col>geographic location (latitude)</th><th scope=col>geographic location (longitude)</th><th scope=col>environment (biome)</th><th scope=col>environment (feature)</th><th scope=col>environment (material)</th><th scope=col>sample derived from</th><th scope=col>metagenomic source</th></tr>\n",
       "\t<tr><th scope=col>&lt;chr&gt;</th><th scope=col>&lt;int&gt;</th><th scope=col>&lt;chr&gt;</th><th scope=col>&lt;chr&gt;</th><th scope=col>&lt;chr&gt;</th><th scope=col>&lt;chr&gt;</th><th scope=col>&lt;chr&gt;</th><th scope=col>&lt;chr&gt;</th><th scope=col>&lt;chr&gt;</th><th scope=col>&lt;chr&gt;</th><th scope=col>⋯</th><th scope=col>&lt;chr&gt;</th><th scope=col>&lt;chr&gt;</th><th scope=col>&lt;chr&gt;</th><th scope=col>&lt;dbl&gt;</th><th scope=col>&lt;dbl&gt;</th><th scope=col>&lt;chr&gt;</th><th scope=col>&lt;chr&gt;</th><th scope=col>&lt;chr&gt;</th><th scope=col>&lt;chr&gt;</th><th scope=col>&lt;chr&gt;</th></tr>\n",
       "</thead>\n",
       "<tbody>\n",
       "\t<tr><td>R28__maxbin2_high_prob.043</td><td>9805</td><td>Diceros bicornis</td><td>Diceros bicornis</td><td>R28</td><td>animal gut metagenome</td><td>Diceros bicornis</td><td>PRJNA532626</td><td>HiSeq</td><td>metaSPAdes</td><td>⋯</td><td>gtdb-tk</td><td>0000-00-00</td><td>USA</td><td>31</td><td>-100</td><td>Diceros bicornis</td><td>gut</td><td>feces</td><td>SRR8890839</td><td>256318</td></tr>\n",
       "\t<tr><td>R28__maxbin2_high_prob.046</td><td>9805</td><td>Diceros bicornis</td><td>Diceros bicornis</td><td>R28</td><td>animal gut metagenome</td><td>Diceros bicornis</td><td>PRJNA532626</td><td>HiSeq</td><td>metaSPAdes</td><td>⋯</td><td>gtdb-tk</td><td>0000-00-00</td><td>USA</td><td>31</td><td>-100</td><td>Diceros bicornis</td><td>gut</td><td>feces</td><td>SRR8890839</td><td>256318</td></tr>\n",
       "\t<tr><td>⋮</td><td>⋮</td><td>⋮</td><td>⋮</td><td>⋮</td><td>⋮</td><td>⋮</td><td>⋮</td><td>⋮</td><td>⋮</td><td>⋱</td><td>⋮</td><td>⋮</td><td>⋮</td><td>⋮</td><td>⋮</td><td>⋮</td><td>⋮</td><td>⋮</td><td>⋮</td><td>⋮</td></tr>\n",
       "\t<tr><td>F90_Domestic_Dog__metabat2_high_PE.009</td><td>9615</td><td>Canis lupus</td><td>Canis lupus</td><td>F90_Domestic_Dog</td><td>animal gut metagenome</td><td>Canis lupus</td><td>PRJEB38078</td><td>HiSeq</td><td>metaSPAdes</td><td>⋯</td><td>gtdb-tk</td><td>2010-11-07</td><td>Austria</td><td>48.20833</td><td>16.37306</td><td>Canis_lupus</td><td>gut</td><td>feces</td><td>ERS4537293</td><td>256318</td></tr>\n",
       "\t<tr><td>F90_Domestic_Dog__metabat2_low_PE.003 </td><td>9615</td><td>Canis lupus</td><td>Canis lupus</td><td>F90_Domestic_Dog</td><td>animal gut metagenome</td><td>Canis lupus</td><td>PRJEB38078</td><td>HiSeq</td><td>metaSPAdes</td><td>⋯</td><td>gtdb-tk</td><td>2010-11-07</td><td>Austria</td><td>48.20833</td><td>16.37306</td><td>Canis_lupus</td><td>gut</td><td>feces</td><td>ERS4537293</td><td>256318</td></tr>\n",
       "</tbody>\n",
       "</table>\n"
      ],
      "text/latex": [
       "A tidytable: 5596 × 27\n",
       "\\begin{tabular}{lllllllllllllllllllll}\n",
       " sample\\_alias & tax\\_id & scientific\\_name & common\\_name & sample\\_title & sample\\_description & isolation\\_source & project name & sequencing method & assembly software & ⋯ & taxonomic identity marker & collection date & geographic location (country and/or sea) & geographic location (latitude) & geographic location (longitude) & environment (biome) & environment (feature) & environment (material) & sample derived from & metagenomic source\\\\\n",
       " <chr> & <int> & <chr> & <chr> & <chr> & <chr> & <chr> & <chr> & <chr> & <chr> & ⋯ & <chr> & <chr> & <chr> & <dbl> & <dbl> & <chr> & <chr> & <chr> & <chr> & <chr>\\\\\n",
       "\\hline\n",
       "\t R28\\_\\_maxbin2\\_high\\_prob.043 & 9805 & Diceros bicornis & Diceros bicornis & R28 & animal gut metagenome & Diceros bicornis & PRJNA532626 & HiSeq & metaSPAdes & ⋯ & gtdb-tk & 0000-00-00 & USA & 31 & -100 & Diceros bicornis & gut & feces & SRR8890839 & 256318\\\\\n",
       "\t R28\\_\\_maxbin2\\_high\\_prob.046 & 9805 & Diceros bicornis & Diceros bicornis & R28 & animal gut metagenome & Diceros bicornis & PRJNA532626 & HiSeq & metaSPAdes & ⋯ & gtdb-tk & 0000-00-00 & USA & 31 & -100 & Diceros bicornis & gut & feces & SRR8890839 & 256318\\\\\n",
       "\t ⋮ & ⋮ & ⋮ & ⋮ & ⋮ & ⋮ & ⋮ & ⋮ & ⋮ & ⋮ & ⋱ & ⋮ & ⋮ & ⋮ & ⋮ & ⋮ & ⋮ & ⋮ & ⋮ & ⋮ & ⋮\\\\\n",
       "\t F90\\_Domestic\\_Dog\\_\\_metabat2\\_high\\_PE.009 & 9615 & Canis lupus & Canis lupus & F90\\_Domestic\\_Dog & animal gut metagenome & Canis lupus & PRJEB38078 & HiSeq & metaSPAdes & ⋯ & gtdb-tk & 2010-11-07 & Austria & 48.20833 & 16.37306 & Canis\\_lupus & gut & feces & ERS4537293 & 256318\\\\\n",
       "\t F90\\_Domestic\\_Dog\\_\\_metabat2\\_low\\_PE.003  & 9615 & Canis lupus & Canis lupus & F90\\_Domestic\\_Dog & animal gut metagenome & Canis lupus & PRJEB38078 & HiSeq & metaSPAdes & ⋯ & gtdb-tk & 2010-11-07 & Austria & 48.20833 & 16.37306 & Canis\\_lupus & gut & feces & ERS4537293 & 256318\\\\\n",
       "\\end{tabular}\n"
      ],
      "text/markdown": [
       "\n",
       "A tidytable: 5596 × 27\n",
       "\n",
       "| sample_alias &lt;chr&gt; | tax_id &lt;int&gt; | scientific_name &lt;chr&gt; | common_name &lt;chr&gt; | sample_title &lt;chr&gt; | sample_description &lt;chr&gt; | isolation_source &lt;chr&gt; | project name &lt;chr&gt; | sequencing method &lt;chr&gt; | assembly software &lt;chr&gt; | ⋯ ⋯ | taxonomic identity marker &lt;chr&gt; | collection date &lt;chr&gt; | geographic location (country and/or sea) &lt;chr&gt; | geographic location (latitude) &lt;dbl&gt; | geographic location (longitude) &lt;dbl&gt; | environment (biome) &lt;chr&gt; | environment (feature) &lt;chr&gt; | environment (material) &lt;chr&gt; | sample derived from &lt;chr&gt; | metagenomic source &lt;chr&gt; |\n",
       "|---|---|---|---|---|---|---|---|---|---|---|---|---|---|---|---|---|---|---|---|---|\n",
       "| R28__maxbin2_high_prob.043 | 9805 | Diceros bicornis | Diceros bicornis | R28 | animal gut metagenome | Diceros bicornis | PRJNA532626 | HiSeq | metaSPAdes | ⋯ | gtdb-tk | 0000-00-00 | USA | 31 | -100 | Diceros bicornis | gut | feces | SRR8890839 | 256318 |\n",
       "| R28__maxbin2_high_prob.046 | 9805 | Diceros bicornis | Diceros bicornis | R28 | animal gut metagenome | Diceros bicornis | PRJNA532626 | HiSeq | metaSPAdes | ⋯ | gtdb-tk | 0000-00-00 | USA | 31 | -100 | Diceros bicornis | gut | feces | SRR8890839 | 256318 |\n",
       "| ⋮ | ⋮ | ⋮ | ⋮ | ⋮ | ⋮ | ⋮ | ⋮ | ⋮ | ⋮ | ⋱ | ⋮ | ⋮ | ⋮ | ⋮ | ⋮ | ⋮ | ⋮ | ⋮ | ⋮ | ⋮ |\n",
       "| F90_Domestic_Dog__metabat2_high_PE.009 | 9615 | Canis lupus | Canis lupus | F90_Domestic_Dog | animal gut metagenome | Canis lupus | PRJEB38078 | HiSeq | metaSPAdes | ⋯ | gtdb-tk | 2010-11-07 | Austria | 48.20833 | 16.37306 | Canis_lupus | gut | feces | ERS4537293 | 256318 |\n",
       "| F90_Domestic_Dog__metabat2_low_PE.003  | 9615 | Canis lupus | Canis lupus | F90_Domestic_Dog | animal gut metagenome | Canis lupus | PRJEB38078 | HiSeq | metaSPAdes | ⋯ | gtdb-tk | 2010-11-07 | Austria | 48.20833 | 16.37306 | Canis_lupus | gut | feces | ERS4537293 | 256318 |\n",
       "\n"
      ],
      "text/plain": [
       "     sample_alias                           tax_id scientific_name \n",
       "1    R28__maxbin2_high_prob.043             9805   Diceros bicornis\n",
       "2    R28__maxbin2_high_prob.046             9805   Diceros bicornis\n",
       "⋮    ⋮                                      ⋮      ⋮               \n",
       "5595 F90_Domestic_Dog__metabat2_high_PE.009 9615   Canis lupus     \n",
       "5596 F90_Domestic_Dog__metabat2_low_PE.003  9615   Canis lupus     \n",
       "     common_name      sample_title     sample_description    isolation_source\n",
       "1    Diceros bicornis R28              animal gut metagenome Diceros bicornis\n",
       "2    Diceros bicornis R28              animal gut metagenome Diceros bicornis\n",
       "⋮    ⋮                ⋮                ⋮                     ⋮               \n",
       "5595 Canis lupus      F90_Domestic_Dog animal gut metagenome Canis lupus     \n",
       "5596 Canis lupus      F90_Domestic_Dog animal gut metagenome Canis lupus     \n",
       "     project name sequencing method assembly software ⋯\n",
       "1    PRJNA532626  HiSeq             metaSPAdes        ⋯\n",
       "2    PRJNA532626  HiSeq             metaSPAdes        ⋯\n",
       "⋮    ⋮            ⋮                 ⋮                 ⋱\n",
       "5595 PRJEB38078   HiSeq             metaSPAdes        ⋯\n",
       "5596 PRJEB38078   HiSeq             metaSPAdes        ⋯\n",
       "     taxonomic identity marker collection date\n",
       "1    gtdb-tk                   0000-00-00     \n",
       "2    gtdb-tk                   0000-00-00     \n",
       "⋮    ⋮                         ⋮              \n",
       "5595 gtdb-tk                   2010-11-07     \n",
       "5596 gtdb-tk                   2010-11-07     \n",
       "     geographic location (country and/or sea) geographic location (latitude)\n",
       "1    USA                                      31                            \n",
       "2    USA                                      31                            \n",
       "⋮    ⋮                                        ⋮                             \n",
       "5595 Austria                                  48.20833                      \n",
       "5596 Austria                                  48.20833                      \n",
       "     geographic location (longitude) environment (biome) environment (feature)\n",
       "1    -100                            Diceros bicornis    gut                  \n",
       "2    -100                            Diceros bicornis    gut                  \n",
       "⋮    ⋮                               ⋮                   ⋮                    \n",
       "5595 16.37306                        Canis_lupus         gut                  \n",
       "5596 16.37306                        Canis_lupus         gut                  \n",
       "     environment (material) sample derived from metagenomic source\n",
       "1    feces                  SRR8890839          256318            \n",
       "2    feces                  SRR8890839          256318            \n",
       "⋮    ⋮                      ⋮                   ⋮                 \n",
       "5595 feces                  ERS4537293          256318            \n",
       "5596 feces                  ERS4537293          256318            "
      ]
     },
     "metadata": {},
     "output_type": "display_data"
    }
   ],
   "source": [
    "# final table\n",
    "asmbl_qual = 'Many fragments with little to no review of assembly other than reporting of standard assembly statistics'\n",
    "bin_params = c('maxbin2 -min_contig_length 2000 -markerset 40  -prob_threshold 0.6',\n",
    "               'maxbin2 -min_contig_length 2000 -markerset 40  -prob_threshold 0.8',\n",
    "               'metabat2  --minContig 2000 --minCV 0.5 --minCVSum 0.5  --maxP 92 --maxEdges 150',\n",
    "               'metabat2 --minContig 2000 --minCV 0.5 --minCVSum 0.5 --maxP 97 --maxEdges 500')\n",
    "\n",
    "mag_meta_bios_f = mag_meta_bios %>%\n",
    "    dt_rename(`completeness score` = Completeness,\n",
    "              `contamination score` = Contamination,\n",
    "              `project name` = BioProject,\n",
    "              sample_title = Sample) %>%\n",
    "    dt_mutate(sample_alias = gsub('\\\\.contigs$', '', binID),\n",
    "              scientific_name = `isolation source`,\n",
    "              isolation_source = `isolation source`,\n",
    "              common_name = scientific_name,\n",
    "              sample_description = 'animal gut metagenome',\n",
    "              `sequencing method` = 'HiSeq',\n",
    "              `assembly software` = 'metaSPAdes',\n",
    "              `completeness software` = 'CheckM',\n",
    "              `binning software` = 'DAS-tool',\n",
    "              `assembly quality` = asmbl_qual,\n",
    "              `investigation type` = 'metagenome',\n",
    "              `binning parameters` = paste(bin_params, collapse=', '),\n",
    "              `taxonomic identity marker` = 'gtdb-tk',\n",
    "              `sample derived from` = EnvSample, #'ERS000000',\n",
    "              `metagenomic source` = '256318') %>%\n",
    "    dt_distinct(sample_alias,\n",
    "              tax_id,\n",
    "              scientific_name,\n",
    "              common_name,\n",
    "              sample_title,\n",
    "              sample_description,\n",
    "              isolation_source,\n",
    "              `project name`,\n",
    "              `sequencing method`,\n",
    "              `assembly software`,\n",
    "              `completeness score`,\n",
    "              `completeness software`,\n",
    "              `contamination score`,\n",
    "              `binning software`,\n",
    "              `assembly quality`,\n",
    "              `investigation type`,\n",
    "              `binning parameters`,\n",
    "              `taxonomic identity marker`, \n",
    "              `collection date`, \n",
    "              `geographic location (country and/or sea)`, \n",
    "              `geographic location (latitude)`, \n",
    "              `geographic location (longitude)`, \n",
    "              `environment (biome)`,\n",
    "              `environment (feature)`, \n",
    "              `environment (material)`,\n",
    "              `sample derived from`,\n",
    "              `metagenomic source`)\n",
    "mag_meta_bios_f       "
   ]
  },
  {
   "cell_type": "markdown",
   "metadata": {},
   "source": [
    "### Checks"
   ]
  },
  {
   "cell_type": "code",
   "execution_count": 20,
   "metadata": {
    "ExecuteTime": {
     "end_time": "2020-05-27T11:16:21.549191Z",
     "start_time": "2020-05-27T11:16:21.510Z"
    }
   },
   "outputs": [
    {
     "data": {
      "text/plain": [
       " sample_alias           tax_id        scientific_name    common_name       \n",
       " Length:5596        Min.   :   7962   Length:5596        Length:5596       \n",
       " Class :character   1st Qu.:  27675   Class :character   Class :character  \n",
       " Mode  :character   Median : 749906   Mode  :character   Mode  :character  \n",
       "                    Mean   : 980659                                        \n",
       "                    3rd Qu.:1869227                                        \n",
       "                    Max.   :1869227                                        \n",
       " sample_title       sample_description isolation_source   project name      \n",
       " Length:5596        Length:5596        Length:5596        Length:5596       \n",
       " Class :character   Class :character   Class :character   Class :character  \n",
       " Mode  :character   Mode  :character   Mode  :character   Mode  :character  \n",
       "                                                                            \n",
       "                                                                            \n",
       "                                                                            \n",
       " sequencing method  assembly software  completeness score completeness software\n",
       " Length:5596        Length:5596        Min.   : 50.08     Length:5596          \n",
       " Class :character   Class :character   1st Qu.: 76.84     Class :character     \n",
       " Mode  :character   Mode  :character   Median : 89.88     Mode  :character     \n",
       "                                       Mean   : 84.94                          \n",
       "                                       3rd Qu.: 95.89                          \n",
       "                                       Max.   :100.00                          \n",
       " contamination score binning software   assembly quality   investigation type\n",
       " Min.   :0.000       Length:5596        Length:5596        Length:5596       \n",
       " 1st Qu.:0.570       Class :character   Class :character   Class :character  \n",
       " Median :1.130       Mode  :character   Mode  :character   Mode  :character  \n",
       " Mean   :1.362                                                               \n",
       " 3rd Qu.:2.000                                                               \n",
       " Max.   :5.000                                                               \n",
       " binning parameters taxonomic identity marker collection date   \n",
       " Length:5596        Length:5596               Length:5596       \n",
       " Class :character   Class :character          Class :character  \n",
       " Mode  :character   Mode  :character          Mode  :character  \n",
       "                                                                \n",
       "                                                                \n",
       "                                                                \n",
       " geographic location (country and/or sea) geographic location (latitude)\n",
       " Length:5596                              Min.   :-46.78                \n",
       " Class :character                         1st Qu.: 25.69                \n",
       " Mode  :character                         Median : 48.11                \n",
       "                                          Mean   : 36.37                \n",
       "                                          3rd Qu.: 49.38                \n",
       "                                          Max.   : 60.39                \n",
       " geographic location (longitude) environment (biome) environment (feature)\n",
       " Min.   :-100.000                Length:5596         Length:5596          \n",
       " 1st Qu.:   8.706                Class :character    Class :character     \n",
       " Median :   8.706                Mode  :character    Mode  :character     \n",
       " Mean   :  39.627                                                         \n",
       " 3rd Qu.: 112.551                                                         \n",
       " Max.   : 167.633                                                         \n",
       " environment (material) sample derived from metagenomic source\n",
       " Length:5596            Length:5596         Length:5596       \n",
       " Class :character       Class :character    Class :character  \n",
       " Mode  :character       Mode  :character    Mode  :character  \n",
       "                                                              \n",
       "                                                              \n",
       "                                                              "
      ]
     },
     "metadata": {},
     "output_type": "display_data"
    }
   ],
   "source": [
    "mag_meta_bios_f %>%\n",
    "    summary"
   ]
  },
  {
   "cell_type": "code",
   "execution_count": 22,
   "metadata": {
    "ExecuteTime": {
     "end_time": "2020-05-27T11:16:36.639381Z",
     "start_time": "2020-05-27T11:16:36.545Z"
    }
   },
   "outputs": [
    {
     "name": "stderr",
     "output_type": "stream",
     "text": [
      "Warning message in cbind(parts$left, ellip_h, parts$right, deparse.level = 0L):\n",
      "“number of rows of result is not a multiple of vector length (arg 2)”\n",
      "Warning message in cbind(parts$left, ellip_h, parts$right, deparse.level = 0L):\n",
      "“number of rows of result is not a multiple of vector length (arg 2)”\n",
      "Warning message in cbind(parts$left, ellip_h, parts$right, deparse.level = 0L):\n",
      "“number of rows of result is not a multiple of vector length (arg 2)”\n",
      "Warning message in cbind(parts$left, ellip_h, parts$right, deparse.level = 0L):\n",
      "“number of rows of result is not a multiple of vector length (arg 2)”\n"
     ]
    },
    {
     "data": {
      "text/html": [
       "<table>\n",
       "<caption>A tidytable: 0 × 27</caption>\n",
       "<thead>\n",
       "\t<tr><th scope=col>sample_alias</th><th scope=col>tax_id</th><th scope=col>scientific_name</th><th scope=col>common_name</th><th scope=col>sample_title</th><th scope=col>sample_description</th><th scope=col>isolation_source</th><th scope=col>project name</th><th scope=col>sequencing method</th><th scope=col>assembly software</th><th scope=col>⋯</th><th scope=col>taxonomic identity marker</th><th scope=col>collection date</th><th scope=col>geographic location (country and/or sea)</th><th scope=col>geographic location (latitude)</th><th scope=col>geographic location (longitude)</th><th scope=col>environment (biome)</th><th scope=col>environment (feature)</th><th scope=col>environment (material)</th><th scope=col>sample derived from</th><th scope=col>metagenomic source</th></tr>\n",
       "\t<tr><th scope=col>&lt;chr&gt;</th><th scope=col>&lt;int&gt;</th><th scope=col>&lt;chr&gt;</th><th scope=col>&lt;chr&gt;</th><th scope=col>&lt;chr&gt;</th><th scope=col>&lt;chr&gt;</th><th scope=col>&lt;chr&gt;</th><th scope=col>&lt;chr&gt;</th><th scope=col>&lt;chr&gt;</th><th scope=col>&lt;chr&gt;</th><th scope=col>⋯</th><th scope=col>&lt;chr&gt;</th><th scope=col>&lt;chr&gt;</th><th scope=col>&lt;chr&gt;</th><th scope=col>&lt;dbl&gt;</th><th scope=col>&lt;dbl&gt;</th><th scope=col>&lt;chr&gt;</th><th scope=col>&lt;chr&gt;</th><th scope=col>&lt;chr&gt;</th><th scope=col>&lt;chr&gt;</th><th scope=col>&lt;chr&gt;</th></tr>\n",
       "</thead>\n",
       "<tbody>\n",
       "</tbody>\n",
       "</table>\n"
      ],
      "text/latex": [
       "A tidytable: 0 × 27\n",
       "\\begin{tabular}{lllllllllllllllllllll}\n",
       " sample\\_alias & tax\\_id & scientific\\_name & common\\_name & sample\\_title & sample\\_description & isolation\\_source & project name & sequencing method & assembly software & ⋯ & taxonomic identity marker & collection date & geographic location (country and/or sea) & geographic location (latitude) & geographic location (longitude) & environment (biome) & environment (feature) & environment (material) & sample derived from & metagenomic source\\\\\n",
       " <chr> & <int> & <chr> & <chr> & <chr> & <chr> & <chr> & <chr> & <chr> & <chr> & ⋯ & <chr> & <chr> & <chr> & <dbl> & <dbl> & <chr> & <chr> & <chr> & <chr> & <chr>\\\\\n",
       "\\hline\n",
       "\\end{tabular}\n"
      ],
      "text/markdown": [
       "\n",
       "A tidytable: 0 × 27\n",
       "\n",
       "| sample_alias &lt;chr&gt; | tax_id &lt;int&gt; | scientific_name &lt;chr&gt; | common_name &lt;chr&gt; | sample_title &lt;chr&gt; | sample_description &lt;chr&gt; | isolation_source &lt;chr&gt; | project name &lt;chr&gt; | sequencing method &lt;chr&gt; | assembly software &lt;chr&gt; | ⋯ ⋯ | taxonomic identity marker &lt;chr&gt; | collection date &lt;chr&gt; | geographic location (country and/or sea) &lt;chr&gt; | geographic location (latitude) &lt;dbl&gt; | geographic location (longitude) &lt;dbl&gt; | environment (biome) &lt;chr&gt; | environment (feature) &lt;chr&gt; | environment (material) &lt;chr&gt; | sample derived from &lt;chr&gt; | metagenomic source &lt;chr&gt; |\n",
       "|---|---|---|---|---|---|---|---|---|---|---|---|---|---|---|---|---|---|---|---|---|\n",
       "\n"
      ],
      "text/plain": [
       "     sample_alias tax_id scientific_name common_name sample_title\n",
       "     sample_description isolation_source project name sequencing method\n",
       "     assembly software ⋯ taxonomic identity marker collection date\n",
       "     geographic location (country and/or sea) geographic location (latitude)\n",
       "     geographic location (longitude) environment (biome) environment (feature)\n",
       "     environment (material) sample derived from metagenomic source"
      ]
     },
     "metadata": {},
     "output_type": "display_data"
    }
   ],
   "source": [
    "# checking for any lacking isolation_source\n",
    "mag_meta_bios_f %>%\n",
    "    dt_filter(is.na(isolation_source))"
   ]
  },
  {
   "cell_type": "code",
   "execution_count": 23,
   "metadata": {
    "ExecuteTime": {
     "end_time": "2020-05-27T11:16:37.068018Z",
     "start_time": "2020-05-27T11:16:37.020Z"
    }
   },
   "outputs": [
    {
     "data": {
      "text/html": [
       "<table>\n",
       "<caption>A tidytable: 0 × 2</caption>\n",
       "<thead>\n",
       "\t<tr><th scope=col>project name</th><th scope=col>N</th></tr>\n",
       "\t<tr><th scope=col>&lt;chr&gt;</th><th scope=col>&lt;int&gt;</th></tr>\n",
       "</thead>\n",
       "<tbody>\n",
       "</tbody>\n",
       "</table>\n"
      ],
      "text/latex": [
       "A tidytable: 0 × 2\n",
       "\\begin{tabular}{ll}\n",
       " project name & N\\\\\n",
       " <chr> & <int>\\\\\n",
       "\\hline\n",
       "\\end{tabular}\n"
      ],
      "text/markdown": [
       "\n",
       "A tidytable: 0 × 2\n",
       "\n",
       "| project name &lt;chr&gt; | N &lt;int&gt; |\n",
       "|---|---|\n",
       "\n"
      ],
      "text/plain": [
       "     project name N"
      ]
     },
     "metadata": {},
     "output_type": "display_data"
    }
   ],
   "source": [
    "# checking for other missing info\n",
    "mag_meta_bios_f %>%\n",
    "    dt_filter(is.na(`geographic location (latitude)`)) %>%\n",
    "    dt_count(by=list(`project name`))"
   ]
  },
  {
   "cell_type": "markdown",
   "metadata": {},
   "source": [
    "# Writing table"
   ]
  },
  {
   "cell_type": "code",
   "execution_count": 24,
   "metadata": {
    "ExecuteTime": {
     "end_time": "2020-05-27T11:25:29.352242Z",
     "start_time": "2020-05-27T11:25:29.284Z"
    }
   },
   "outputs": [
    {
     "name": "stdout",
     "output_type": "stream",
     "text": [
      "File written: /ebio/abt3_projects/Georg_animal_feces/data//metagenome/multi-study/BioProjects/summary/LLMGA/wGeorgAnimal/ENA_upload/MIMAG_data.tsv \n"
     ]
    }
   ],
   "source": [
    "MAG_samples_file = file.path(work_dir, 'MIMAG_data.tsv')\n",
    "\n",
    "# header\n",
    "cat(paste(c('#checklist_accession', 'ERC000047\\n'), collapse='\\t'), file=MAG_samples_file)\n",
    "cat('#unique_name_prefix\\n', file=MAG_samples_file, append=TRUE)\n",
    "# body\n",
    "mag_meta_bios_f %>%\n",
    "    write_table(MAG_samples_file, append=TRUE)"
   ]
  },
  {
   "cell_type": "markdown",
   "metadata": {},
   "source": [
    "# Creating manifest files\n",
    "\n",
    "* one per MAG, as shown in the [ENA docs on submitting MAGs via the CLI](https://ena-docs.readthedocs.io/en/latest/submit/assembly/metagenome/binned.html?highlight=MAGs)"
   ]
  },
  {
   "cell_type": "markdown",
   "metadata": {},
   "source": [
    "## multi-species dataset MAGs\n",
    "\n",
    "* these MAGs are associated with the metagenomes from this study which have already been submitted to the ENA"
   ]
  },
  {
   "cell_type": "code",
   "execution_count": 33,
   "metadata": {
    "ExecuteTime": {
     "end_time": "2020-05-27T11:31:44.497157Z",
     "start_time": "2020-05-27T11:31:44.404Z"
    }
   },
   "outputs": [
    {
     "data": {
      "text/html": [
       "<table>\n",
       "<caption>A tidytable: 295 × 9</caption>\n",
       "<thead>\n",
       "\t<tr><th scope=col>STUDY</th><th scope=col>SAMPLE</th><th scope=col>ASSEMBLYNAME</th><th scope=col>ASSEMBLY_TYPE</th><th scope=col>COVERAGE</th><th scope=col>PROGRAM</th><th scope=col>PLATFORM</th><th scope=col>DESCRIPTION</th><th scope=col>FASTA</th></tr>\n",
       "\t<tr><th scope=col>&lt;chr&gt;</th><th scope=col>&lt;chr&gt;</th><th scope=col>&lt;chr&gt;</th><th scope=col>&lt;chr&gt;</th><th scope=col>&lt;dbl&gt;</th><th scope=col>&lt;chr&gt;</th><th scope=col>&lt;chr&gt;</th><th scope=col>&lt;chr&gt;</th><th scope=col>&lt;chr&gt;</th></tr>\n",
       "</thead>\n",
       "<tbody>\n",
       "\t<tr><td>PRJEB38078</td><td>ERS4537005</td><td>X101_Horse__maxbin2_high_prob.001            </td><td>binned metagenome</td><td>30</td><td>metaSPAdes</td><td>HiSeq</td><td>PRJEB38078: host=Equus caballus    </td><td>X101_Horse__maxbin2_high_prob.001.contigs.fa.gz            </td></tr>\n",
       "\t<tr><td>PRJEB38078</td><td>ERS4537007</td><td>X103_Eurasian_Blackcap__maxbin2_high_prob.002</td><td>binned metagenome</td><td>30</td><td>metaSPAdes</td><td>HiSeq</td><td>PRJEB38078: host=Sylvia atricapilla</td><td>X103_Eurasian_Blackcap__maxbin2_high_prob.002.contigs.fa.gz</td></tr>\n",
       "\t<tr><td>⋮</td><td>⋮</td><td>⋮</td><td>⋮</td><td>⋮</td><td>⋮</td><td>⋮</td><td>⋮</td><td>⋮</td></tr>\n",
       "\t<tr><td>PRJEB38078</td><td>ERS4537293</td><td>F90_Domestic_Dog__metabat2_high_PE.009</td><td>binned metagenome</td><td>30</td><td>metaSPAdes</td><td>HiSeq</td><td>PRJEB38078: host=Canis lupus</td><td>F90_Domestic_Dog__metabat2_high_PE.009.contigs.fa.gz</td></tr>\n",
       "\t<tr><td>PRJEB38078</td><td>ERS4537293</td><td>F90_Domestic_Dog__metabat2_low_PE.003 </td><td>binned metagenome</td><td>30</td><td>metaSPAdes</td><td>HiSeq</td><td>PRJEB38078: host=Canis lupus</td><td>F90_Domestic_Dog__metabat2_low_PE.003.contigs.fa.gz </td></tr>\n",
       "</tbody>\n",
       "</table>\n"
      ],
      "text/latex": [
       "A tidytable: 295 × 9\n",
       "\\begin{tabular}{lllllllll}\n",
       " STUDY & SAMPLE & ASSEMBLYNAME & ASSEMBLY\\_TYPE & COVERAGE & PROGRAM & PLATFORM & DESCRIPTION & FASTA\\\\\n",
       " <chr> & <chr> & <chr> & <chr> & <dbl> & <chr> & <chr> & <chr> & <chr>\\\\\n",
       "\\hline\n",
       "\t PRJEB38078 & ERS4537005 & X101\\_Horse\\_\\_maxbin2\\_high\\_prob.001             & binned metagenome & 30 & metaSPAdes & HiSeq & PRJEB38078: host=Equus caballus     & X101\\_Horse\\_\\_maxbin2\\_high\\_prob.001.contigs.fa.gz            \\\\\n",
       "\t PRJEB38078 & ERS4537007 & X103\\_Eurasian\\_Blackcap\\_\\_maxbin2\\_high\\_prob.002 & binned metagenome & 30 & metaSPAdes & HiSeq & PRJEB38078: host=Sylvia atricapilla & X103\\_Eurasian\\_Blackcap\\_\\_maxbin2\\_high\\_prob.002.contigs.fa.gz\\\\\n",
       "\t ⋮ & ⋮ & ⋮ & ⋮ & ⋮ & ⋮ & ⋮ & ⋮ & ⋮\\\\\n",
       "\t PRJEB38078 & ERS4537293 & F90\\_Domestic\\_Dog\\_\\_metabat2\\_high\\_PE.009 & binned metagenome & 30 & metaSPAdes & HiSeq & PRJEB38078: host=Canis lupus & F90\\_Domestic\\_Dog\\_\\_metabat2\\_high\\_PE.009.contigs.fa.gz\\\\\n",
       "\t PRJEB38078 & ERS4537293 & F90\\_Domestic\\_Dog\\_\\_metabat2\\_low\\_PE.003  & binned metagenome & 30 & metaSPAdes & HiSeq & PRJEB38078: host=Canis lupus & F90\\_Domestic\\_Dog\\_\\_metabat2\\_low\\_PE.003.contigs.fa.gz \\\\\n",
       "\\end{tabular}\n"
      ],
      "text/markdown": [
       "\n",
       "A tidytable: 295 × 9\n",
       "\n",
       "| STUDY &lt;chr&gt; | SAMPLE &lt;chr&gt; | ASSEMBLYNAME &lt;chr&gt; | ASSEMBLY_TYPE &lt;chr&gt; | COVERAGE &lt;dbl&gt; | PROGRAM &lt;chr&gt; | PLATFORM &lt;chr&gt; | DESCRIPTION &lt;chr&gt; | FASTA &lt;chr&gt; |\n",
       "|---|---|---|---|---|---|---|---|---|\n",
       "| PRJEB38078 | ERS4537005 | X101_Horse__maxbin2_high_prob.001             | binned metagenome | 30 | metaSPAdes | HiSeq | PRJEB38078: host=Equus caballus     | X101_Horse__maxbin2_high_prob.001.contigs.fa.gz             |\n",
       "| PRJEB38078 | ERS4537007 | X103_Eurasian_Blackcap__maxbin2_high_prob.002 | binned metagenome | 30 | metaSPAdes | HiSeq | PRJEB38078: host=Sylvia atricapilla | X103_Eurasian_Blackcap__maxbin2_high_prob.002.contigs.fa.gz |\n",
       "| ⋮ | ⋮ | ⋮ | ⋮ | ⋮ | ⋮ | ⋮ | ⋮ | ⋮ |\n",
       "| PRJEB38078 | ERS4537293 | F90_Domestic_Dog__metabat2_high_PE.009 | binned metagenome | 30 | metaSPAdes | HiSeq | PRJEB38078: host=Canis lupus | F90_Domestic_Dog__metabat2_high_PE.009.contigs.fa.gz |\n",
       "| PRJEB38078 | ERS4537293 | F90_Domestic_Dog__metabat2_low_PE.003  | binned metagenome | 30 | metaSPAdes | HiSeq | PRJEB38078: host=Canis lupus | F90_Domestic_Dog__metabat2_low_PE.003.contigs.fa.gz  |\n",
       "\n"
      ],
      "text/plain": [
       "    STUDY      SAMPLE     ASSEMBLYNAME                                 \n",
       "1   PRJEB38078 ERS4537005 X101_Horse__maxbin2_high_prob.001            \n",
       "2   PRJEB38078 ERS4537007 X103_Eurasian_Blackcap__maxbin2_high_prob.002\n",
       "⋮   ⋮          ⋮          ⋮                                            \n",
       "294 PRJEB38078 ERS4537293 F90_Domestic_Dog__metabat2_high_PE.009       \n",
       "295 PRJEB38078 ERS4537293 F90_Domestic_Dog__metabat2_low_PE.003        \n",
       "    ASSEMBLY_TYPE     COVERAGE PROGRAM    PLATFORM\n",
       "1   binned metagenome 30       metaSPAdes HiSeq   \n",
       "2   binned metagenome 30       metaSPAdes HiSeq   \n",
       "⋮   ⋮                 ⋮        ⋮          ⋮       \n",
       "294 binned metagenome 30       metaSPAdes HiSeq   \n",
       "295 binned metagenome 30       metaSPAdes HiSeq   \n",
       "    DESCRIPTION                        \n",
       "1   PRJEB38078: host=Equus caballus    \n",
       "2   PRJEB38078: host=Sylvia atricapilla\n",
       "⋮   ⋮                                  \n",
       "294 PRJEB38078: host=Canis lupus       \n",
       "295 PRJEB38078: host=Canis lupus       \n",
       "    FASTA                                                      \n",
       "1   X101_Horse__maxbin2_high_prob.001.contigs.fa.gz            \n",
       "2   X103_Eurasian_Blackcap__maxbin2_high_prob.002.contigs.fa.gz\n",
       "⋮   ⋮                                                          \n",
       "294 F90_Domestic_Dog__metabat2_high_PE.009.contigs.fa.gz       \n",
       "295 F90_Domestic_Dog__metabat2_low_PE.003.contigs.fa.gz        "
      ]
     },
     "metadata": {},
     "output_type": "display_data"
    }
   ],
   "source": [
    "mag_meta_bios_f = mag_meta_bios %>%\n",
    "    dt_filter(BioProject == 'PRJEB38078') %>%\n",
    "    dt_rename('SAMPLE' = EnvSample) %>%\n",
    "    dt_mutate(STUDY = 'PRJEB38078',\n",
    "              ASSEMBLYNAME = gsub('\\\\.contigs$', '', binID),\n",
    "              ASSEMBLY_TYPE = 'binned metagenome',\n",
    "              COVERAGE = 30,\n",
    "              PROGRAM = 'metaSPAdes',\n",
    "              PLATFORM = 'HiSeq',\n",
    "              DESCRIPTION = paste(BioProject, `isolation source`, sep=': host='),\n",
    "              FASTA = gsub('$', '.gz', fasta.x %>% as.character %>% basename)) %>%\n",
    "    dt_select(STUDY, SAMPLE, ASSEMBLYNAME, ASSEMBLY_TYPE, \n",
    "              COVERAGE, PROGRAM, PLATFORM, DESCRIPTION, FASTA)\n",
    "              \n",
    "mag_meta_bios_f     "
   ]
  },
  {
   "cell_type": "code",
   "execution_count": 37,
   "metadata": {
    "ExecuteTime": {
     "end_time": "2020-05-27T11:38:02.624382Z",
     "start_time": "2020-05-27T11:38:02.593Z"
    }
   },
   "outputs": [
    {
     "name": "stdout",
     "output_type": "stream",
     "text": [
      "Created directory: /ebio/abt3_projects/Georg_animal_feces/data//metagenome/multi-study/BioProjects/summary/LLMGA/wGeorgAnimal/ENA_upload/multi-species_cli_submission \n"
     ]
    }
   ],
   "source": [
    "# creating location of manifests & fasta files\n",
    "cli_submission_dir = file.path(work_dir, 'multi-species_cli_submission')\n",
    "make_dir(cli_submission_dir)"
   ]
  },
  {
   "cell_type": "code",
   "execution_count": 39,
   "metadata": {
    "ExecuteTime": {
     "end_time": "2020-05-27T11:38:29.096822Z",
     "start_time": "2020-05-27T11:38:28.131Z"
    }
   },
   "outputs": [
    {
     "data": {
      "text/plain": [
       ".\n",
       "TRUE \n",
       " 295 "
      ]
     },
     "metadata": {},
     "output_type": "display_data"
    }
   ],
   "source": [
    "# writing manifests\n",
    "write_manifests = function(x, out_dir){\n",
    "    out_file = file.path(out_dir, paste(x['ASSEMBLYNAME'], 'txt', sep='.'))\n",
    "    file.remove(out_file)\n",
    "    file.create(out_file)\n",
    "    vals = c('STUDY', 'SAMPLE', 'ASSEMBLYNAME', 'ASSEMBLY_TYPE', \n",
    "              'COVERAGE', 'PROGRAM', 'PLATFORM', 'DESCRIPTION', 'FASTA')\n",
    "    sapply(vals, function(y) cat(paste(y, ': ', x[y], '\\n', sep=''), file=out_file, append=TRUE))\n",
    "    return(TRUE)\n",
    "}\n",
    "           \n",
    "res = mag_meta_bios_f %>%\n",
    "    as.data.frame %>%\n",
    "    apply(1, write_manifests, out_dir = cli_submission_dir)\n",
    "res %>% table"
   ]
  },
  {
   "cell_type": "markdown",
   "metadata": {},
   "source": [
    "## Copying MAGs"
   ]
  },
  {
   "cell_type": "code",
   "execution_count": 45,
   "metadata": {
    "ExecuteTime": {
     "end_time": "2020-05-27T11:53:44.338633Z",
     "start_time": "2020-05-27T11:53:44.273Z"
    }
   },
   "outputs": [
    {
     "data": {
      "text/html": [
       "<table>\n",
       "<caption>A tidytable: 295 × 3</caption>\n",
       "<thead>\n",
       "\t<tr><th scope=col>binID</th><th scope=col>fasta.x</th><th scope=col>fasta</th></tr>\n",
       "\t<tr><th scope=col>&lt;chr&gt;</th><th scope=col>&lt;chr&gt;</th><th scope=col>&lt;chr&gt;</th></tr>\n",
       "</thead>\n",
       "<tbody>\n",
       "\t<tr><td>X101_Horse__maxbin2_high_prob.001.contigs            </td><td>/ebio/abt3_projects/Georg_animal_feces/data//metagenome/multi-study/BioProjects/summary/LLMGA/wGeorgAnimal/drep-0.999/dereplicated_genomes/X101_Horse__maxbin2_high_prob.001.contigs.fa            </td><td>/ebio/abt3_projects/Georg_animal_feces/data//metagenome/multi-study/BioProjects/summary/LLMGA/wGeorgAnimal/ENA_upload/multi-species_cli_submission/X101_Horse__maxbin2_high_prob.001.contigs.fa.gz            </td></tr>\n",
       "\t<tr><td>X103_Eurasian_Blackcap__maxbin2_high_prob.002.contigs</td><td>/ebio/abt3_projects/Georg_animal_feces/data//metagenome/multi-study/BioProjects/summary/LLMGA/wGeorgAnimal/drep-0.999/dereplicated_genomes/X103_Eurasian_Blackcap__maxbin2_high_prob.002.contigs.fa</td><td>/ebio/abt3_projects/Georg_animal_feces/data//metagenome/multi-study/BioProjects/summary/LLMGA/wGeorgAnimal/ENA_upload/multi-species_cli_submission/X103_Eurasian_Blackcap__maxbin2_high_prob.002.contigs.fa.gz</td></tr>\n",
       "\t<tr><td>⋮</td><td>⋮</td><td>⋮</td></tr>\n",
       "\t<tr><td>F90_Domestic_Dog__metabat2_high_PE.009.contigs</td><td>/ebio/abt3_projects/Georg_animal_feces/data//metagenome/multi-study/BioProjects/summary/LLMGA/wGeorgAnimal/drep-0.999/dereplicated_genomes/F90_Domestic_Dog__metabat2_high_PE.009.contigs.fa</td><td>/ebio/abt3_projects/Georg_animal_feces/data//metagenome/multi-study/BioProjects/summary/LLMGA/wGeorgAnimal/ENA_upload/multi-species_cli_submission/F90_Domestic_Dog__metabat2_high_PE.009.contigs.fa.gz</td></tr>\n",
       "\t<tr><td>F90_Domestic_Dog__metabat2_low_PE.003.contigs </td><td>/ebio/abt3_projects/Georg_animal_feces/data//metagenome/multi-study/BioProjects/summary/LLMGA/wGeorgAnimal/drep-0.999/dereplicated_genomes/F90_Domestic_Dog__metabat2_low_PE.003.contigs.fa </td><td>/ebio/abt3_projects/Georg_animal_feces/data//metagenome/multi-study/BioProjects/summary/LLMGA/wGeorgAnimal/ENA_upload/multi-species_cli_submission/F90_Domestic_Dog__metabat2_low_PE.003.contigs.fa.gz </td></tr>\n",
       "</tbody>\n",
       "</table>\n"
      ],
      "text/latex": [
       "A tidytable: 295 × 3\n",
       "\\begin{tabular}{lll}\n",
       " binID & fasta.x & fasta\\\\\n",
       " <chr> & <chr> & <chr>\\\\\n",
       "\\hline\n",
       "\t X101\\_Horse\\_\\_maxbin2\\_high\\_prob.001.contigs             & /ebio/abt3\\_projects/Georg\\_animal\\_feces/data//metagenome/multi-study/BioProjects/summary/LLMGA/wGeorgAnimal/drep-0.999/dereplicated\\_genomes/X101\\_Horse\\_\\_maxbin2\\_high\\_prob.001.contigs.fa             & /ebio/abt3\\_projects/Georg\\_animal\\_feces/data//metagenome/multi-study/BioProjects/summary/LLMGA/wGeorgAnimal/ENA\\_upload/multi-species\\_cli\\_submission/X101\\_Horse\\_\\_maxbin2\\_high\\_prob.001.contigs.fa.gz            \\\\\n",
       "\t X103\\_Eurasian\\_Blackcap\\_\\_maxbin2\\_high\\_prob.002.contigs & /ebio/abt3\\_projects/Georg\\_animal\\_feces/data//metagenome/multi-study/BioProjects/summary/LLMGA/wGeorgAnimal/drep-0.999/dereplicated\\_genomes/X103\\_Eurasian\\_Blackcap\\_\\_maxbin2\\_high\\_prob.002.contigs.fa & /ebio/abt3\\_projects/Georg\\_animal\\_feces/data//metagenome/multi-study/BioProjects/summary/LLMGA/wGeorgAnimal/ENA\\_upload/multi-species\\_cli\\_submission/X103\\_Eurasian\\_Blackcap\\_\\_maxbin2\\_high\\_prob.002.contigs.fa.gz\\\\\n",
       "\t ⋮ & ⋮ & ⋮\\\\\n",
       "\t F90\\_Domestic\\_Dog\\_\\_metabat2\\_high\\_PE.009.contigs & /ebio/abt3\\_projects/Georg\\_animal\\_feces/data//metagenome/multi-study/BioProjects/summary/LLMGA/wGeorgAnimal/drep-0.999/dereplicated\\_genomes/F90\\_Domestic\\_Dog\\_\\_metabat2\\_high\\_PE.009.contigs.fa & /ebio/abt3\\_projects/Georg\\_animal\\_feces/data//metagenome/multi-study/BioProjects/summary/LLMGA/wGeorgAnimal/ENA\\_upload/multi-species\\_cli\\_submission/F90\\_Domestic\\_Dog\\_\\_metabat2\\_high\\_PE.009.contigs.fa.gz\\\\\n",
       "\t F90\\_Domestic\\_Dog\\_\\_metabat2\\_low\\_PE.003.contigs  & /ebio/abt3\\_projects/Georg\\_animal\\_feces/data//metagenome/multi-study/BioProjects/summary/LLMGA/wGeorgAnimal/drep-0.999/dereplicated\\_genomes/F90\\_Domestic\\_Dog\\_\\_metabat2\\_low\\_PE.003.contigs.fa  & /ebio/abt3\\_projects/Georg\\_animal\\_feces/data//metagenome/multi-study/BioProjects/summary/LLMGA/wGeorgAnimal/ENA\\_upload/multi-species\\_cli\\_submission/F90\\_Domestic\\_Dog\\_\\_metabat2\\_low\\_PE.003.contigs.fa.gz \\\\\n",
       "\\end{tabular}\n"
      ],
      "text/markdown": [
       "\n",
       "A tidytable: 295 × 3\n",
       "\n",
       "| binID &lt;chr&gt; | fasta.x &lt;chr&gt; | fasta &lt;chr&gt; |\n",
       "|---|---|---|\n",
       "| X101_Horse__maxbin2_high_prob.001.contigs             | /ebio/abt3_projects/Georg_animal_feces/data//metagenome/multi-study/BioProjects/summary/LLMGA/wGeorgAnimal/drep-0.999/dereplicated_genomes/X101_Horse__maxbin2_high_prob.001.contigs.fa             | /ebio/abt3_projects/Georg_animal_feces/data//metagenome/multi-study/BioProjects/summary/LLMGA/wGeorgAnimal/ENA_upload/multi-species_cli_submission/X101_Horse__maxbin2_high_prob.001.contigs.fa.gz             |\n",
       "| X103_Eurasian_Blackcap__maxbin2_high_prob.002.contigs | /ebio/abt3_projects/Georg_animal_feces/data//metagenome/multi-study/BioProjects/summary/LLMGA/wGeorgAnimal/drep-0.999/dereplicated_genomes/X103_Eurasian_Blackcap__maxbin2_high_prob.002.contigs.fa | /ebio/abt3_projects/Georg_animal_feces/data//metagenome/multi-study/BioProjects/summary/LLMGA/wGeorgAnimal/ENA_upload/multi-species_cli_submission/X103_Eurasian_Blackcap__maxbin2_high_prob.002.contigs.fa.gz |\n",
       "| ⋮ | ⋮ | ⋮ |\n",
       "| F90_Domestic_Dog__metabat2_high_PE.009.contigs | /ebio/abt3_projects/Georg_animal_feces/data//metagenome/multi-study/BioProjects/summary/LLMGA/wGeorgAnimal/drep-0.999/dereplicated_genomes/F90_Domestic_Dog__metabat2_high_PE.009.contigs.fa | /ebio/abt3_projects/Georg_animal_feces/data//metagenome/multi-study/BioProjects/summary/LLMGA/wGeorgAnimal/ENA_upload/multi-species_cli_submission/F90_Domestic_Dog__metabat2_high_PE.009.contigs.fa.gz |\n",
       "| F90_Domestic_Dog__metabat2_low_PE.003.contigs  | /ebio/abt3_projects/Georg_animal_feces/data//metagenome/multi-study/BioProjects/summary/LLMGA/wGeorgAnimal/drep-0.999/dereplicated_genomes/F90_Domestic_Dog__metabat2_low_PE.003.contigs.fa  | /ebio/abt3_projects/Georg_animal_feces/data//metagenome/multi-study/BioProjects/summary/LLMGA/wGeorgAnimal/ENA_upload/multi-species_cli_submission/F90_Domestic_Dog__metabat2_low_PE.003.contigs.fa.gz  |\n",
       "\n"
      ],
      "text/plain": [
       "    binID                                                \n",
       "1   X101_Horse__maxbin2_high_prob.001.contigs            \n",
       "2   X103_Eurasian_Blackcap__maxbin2_high_prob.002.contigs\n",
       "⋮   ⋮                                                    \n",
       "294 F90_Domestic_Dog__metabat2_high_PE.009.contigs       \n",
       "295 F90_Domestic_Dog__metabat2_low_PE.003.contigs        \n",
       "    fasta.x                                                                                                                                                                                            \n",
       "1   /ebio/abt3_projects/Georg_animal_feces/data//metagenome/multi-study/BioProjects/summary/LLMGA/wGeorgAnimal/drep-0.999/dereplicated_genomes/X101_Horse__maxbin2_high_prob.001.contigs.fa            \n",
       "2   /ebio/abt3_projects/Georg_animal_feces/data//metagenome/multi-study/BioProjects/summary/LLMGA/wGeorgAnimal/drep-0.999/dereplicated_genomes/X103_Eurasian_Blackcap__maxbin2_high_prob.002.contigs.fa\n",
       "⋮   ⋮                                                                                                                                                                                                  \n",
       "294 /ebio/abt3_projects/Georg_animal_feces/data//metagenome/multi-study/BioProjects/summary/LLMGA/wGeorgAnimal/drep-0.999/dereplicated_genomes/F90_Domestic_Dog__metabat2_high_PE.009.contigs.fa       \n",
       "295 /ebio/abt3_projects/Georg_animal_feces/data//metagenome/multi-study/BioProjects/summary/LLMGA/wGeorgAnimal/drep-0.999/dereplicated_genomes/F90_Domestic_Dog__metabat2_low_PE.003.contigs.fa        \n",
       "    fasta                                                                                                                                                                                                         \n",
       "1   /ebio/abt3_projects/Georg_animal_feces/data//metagenome/multi-study/BioProjects/summary/LLMGA/wGeorgAnimal/ENA_upload/multi-species_cli_submission/X101_Horse__maxbin2_high_prob.001.contigs.fa.gz            \n",
       "2   /ebio/abt3_projects/Georg_animal_feces/data//metagenome/multi-study/BioProjects/summary/LLMGA/wGeorgAnimal/ENA_upload/multi-species_cli_submission/X103_Eurasian_Blackcap__maxbin2_high_prob.002.contigs.fa.gz\n",
       "⋮   ⋮                                                                                                                                                                                                             \n",
       "294 /ebio/abt3_projects/Georg_animal_feces/data//metagenome/multi-study/BioProjects/summary/LLMGA/wGeorgAnimal/ENA_upload/multi-species_cli_submission/F90_Domestic_Dog__metabat2_high_PE.009.contigs.fa.gz       \n",
       "295 /ebio/abt3_projects/Georg_animal_feces/data//metagenome/multi-study/BioProjects/summary/LLMGA/wGeorgAnimal/ENA_upload/multi-species_cli_submission/F90_Domestic_Dog__metabat2_low_PE.003.contigs.fa.gz        "
      ]
     },
     "metadata": {},
     "output_type": "display_data"
    }
   ],
   "source": [
    "mag_meta_bios_f = mag_meta_bios %>%\n",
    "    dt_filter(BioProject == 'PRJEB38078') %>%\n",
    "    dt_select(binID, fasta.x) %>%\n",
    "    dt_mutate(fasta = gsub('$', '.gz', fasta.x %>% as.character %>% basename)) %>%\n",
    "    dt_mutate(fasta = file.path(cli_submission_dir, fasta))\n",
    "\n",
    "mag_meta_bios_f"
   ]
  },
  {
   "cell_type": "code",
   "execution_count": 55,
   "metadata": {
    "ExecuteTime": {
     "end_time": "2020-05-27T12:01:31.082015Z",
     "start_time": "2020-05-27T11:59:44.994Z"
    }
   },
   "outputs": [
    {
     "data": {
      "text/html": [
       "295"
      ],
      "text/latex": [
       "295"
      ],
      "text/markdown": [
       "295"
      ],
      "text/plain": [
       "[1] 295"
      ]
     },
     "metadata": {},
     "output_type": "display_data"
    }
   ],
   "source": [
    "# gzip'ing files to submission directory\n",
    "gzip_file = function(x){\n",
    "    src_file = x[1,'fasta.x']\n",
    "    dst_file = x[1,'fasta']\n",
    "    cmd = glue::glue('gzip -c {S} > {D}', S=src_file, D=dst_file)\n",
    "    bash_job(cmd, conda_env = 'py3_genome')\n",
    "}\n",
    "\n",
    "doParallel::registerDoParallel(threads)\n",
    "res = mag_meta_bios_f %>%\n",
    "    dt_group_split(binID) %>%\n",
    "    plyr::llply(gzip_file, .parallel=TRUE) \n",
    "res %>% length"
   ]
  },
  {
   "cell_type": "markdown",
   "metadata": {},
   "source": [
    "### ENA CLI submission"
   ]
  },
  {
   "cell_type": "markdown",
   "metadata": {},
   "source": [
    "```\n",
    "@ rick:/ebio/abt3_projects/Georg_animal_feces/data/metagenome/multi-study/BioProjects/summary/LLMGA/wGeorgAnimal/ENA_upload/\n",
    "\n",
    "# validation\n",
    "screen -L -Logfile validate_multi-spec.log ./validate_multi-spec_MAGs.sh \n",
    "grep -c \"validated successfully\" validate_multi-spec.log \n",
    "\n",
    "# submission\n",
    "screen -L -Logfile submit_multi-spec.log ./submit_multi-spec_MAGs.sh \n",
    "grep -c \"submission has been completed successfully\" submit_multi-spec.log\n",
    "```"
   ]
  },
  {
   "cell_type": "markdown",
   "metadata": {},
   "source": [
    "### Re-naming and re-submitting errors\n",
    "\n",
    "* Some binIDs were too long"
   ]
  },
  {
   "cell_type": "code",
   "execution_count": 56,
   "metadata": {
    "ExecuteTime": {
     "end_time": "2020-05-28T12:30:16.144627Z",
     "start_time": "2020-05-28T12:30:16.041Z"
    }
   },
   "outputs": [
    {
     "data": {
      "text/html": [
       "<table>\n",
       "<caption>A data.frame: 260 × 7</caption>\n",
       "<thead>\n",
       "\t<tr><th scope=col>ASSEMBLY_NAME</th><th scope=col>ASSEMBLY_ACC</th><th scope=col>STUDY_ID</th><th scope=col>SAMPLE_ID</th><th scope=col>CONTIG_ACC</th><th scope=col>SCAFFOLD_ACC</th><th scope=col>CHROMOSOME_ACC</th></tr>\n",
       "\t<tr><th scope=col>&lt;fct&gt;</th><th scope=col>&lt;fct&gt;</th><th scope=col>&lt;fct&gt;</th><th scope=col>&lt;fct&gt;</th><th scope=col>&lt;fct&gt;</th><th scope=col>&lt;lgl&gt;</th><th scope=col>&lt;lgl&gt;</th></tr>\n",
       "</thead>\n",
       "<tbody>\n",
       "\t<tr><td>X101_Horse__maxbin2_high_prob.001            </td><td>ERZ1391692</td><td>PRJEB38078</td><td>ERS4537005</td><td>ERZ1391692.1-ERZ1391692.528</td><td>NA</td><td>NA</td></tr>\n",
       "\t<tr><td>X103_Eurasian_Blackcap__maxbin2_high_prob.002</td><td>ERZ1391693</td><td>PRJEB38078</td><td>ERS4537007</td><td>ERZ1391693.1-ERZ1391693.198</td><td>NA</td><td>NA</td></tr>\n",
       "\t<tr><td>⋮</td><td>⋮</td><td>⋮</td><td>⋮</td><td>⋮</td><td>⋮</td><td>⋮</td></tr>\n",
       "\t<tr><td>X96_European_Hare__metabat2_low_PE.005  </td><td>ERZ1391990</td><td>PRJEB38078</td><td>ERS4537280</td><td>ERZ1391990.1-ERZ1391990.529</td><td>NA</td><td>NA</td></tr>\n",
       "\t<tr><td>F141_Wood_Sandpiper__metabat2_low_PE.001</td><td>ERZ1391991</td><td>PRJEB38078</td><td>ERS4537282</td><td>ERZ1391991.1-ERZ1391991.163</td><td>NA</td><td>NA</td></tr>\n",
       "</tbody>\n",
       "</table>\n"
      ],
      "text/latex": [
       "A data.frame: 260 × 7\n",
       "\\begin{tabular}{lllllll}\n",
       " ASSEMBLY\\_NAME & ASSEMBLY\\_ACC & STUDY\\_ID & SAMPLE\\_ID & CONTIG\\_ACC & SCAFFOLD\\_ACC & CHROMOSOME\\_ACC\\\\\n",
       " <fct> & <fct> & <fct> & <fct> & <fct> & <lgl> & <lgl>\\\\\n",
       "\\hline\n",
       "\t X101\\_Horse\\_\\_maxbin2\\_high\\_prob.001             & ERZ1391692 & PRJEB38078 & ERS4537005 & ERZ1391692.1-ERZ1391692.528 & NA & NA\\\\\n",
       "\t X103\\_Eurasian\\_Blackcap\\_\\_maxbin2\\_high\\_prob.002 & ERZ1391693 & PRJEB38078 & ERS4537007 & ERZ1391693.1-ERZ1391693.198 & NA & NA\\\\\n",
       "\t ⋮ & ⋮ & ⋮ & ⋮ & ⋮ & ⋮ & ⋮\\\\\n",
       "\t X96\\_European\\_Hare\\_\\_metabat2\\_low\\_PE.005   & ERZ1391990 & PRJEB38078 & ERS4537280 & ERZ1391990.1-ERZ1391990.529 & NA & NA\\\\\n",
       "\t F141\\_Wood\\_Sandpiper\\_\\_metabat2\\_low\\_PE.001 & ERZ1391991 & PRJEB38078 & ERS4537282 & ERZ1391991.1-ERZ1391991.163 & NA & NA\\\\\n",
       "\\end{tabular}\n"
      ],
      "text/markdown": [
       "\n",
       "A data.frame: 260 × 7\n",
       "\n",
       "| ASSEMBLY_NAME &lt;fct&gt; | ASSEMBLY_ACC &lt;fct&gt; | STUDY_ID &lt;fct&gt; | SAMPLE_ID &lt;fct&gt; | CONTIG_ACC &lt;fct&gt; | SCAFFOLD_ACC &lt;lgl&gt; | CHROMOSOME_ACC &lt;lgl&gt; |\n",
       "|---|---|---|---|---|---|---|\n",
       "| X101_Horse__maxbin2_high_prob.001             | ERZ1391692 | PRJEB38078 | ERS4537005 | ERZ1391692.1-ERZ1391692.528 | NA | NA |\n",
       "| X103_Eurasian_Blackcap__maxbin2_high_prob.002 | ERZ1391693 | PRJEB38078 | ERS4537007 | ERZ1391693.1-ERZ1391693.198 | NA | NA |\n",
       "| ⋮ | ⋮ | ⋮ | ⋮ | ⋮ | ⋮ | ⋮ |\n",
       "| X96_European_Hare__metabat2_low_PE.005   | ERZ1391990 | PRJEB38078 | ERS4537280 | ERZ1391990.1-ERZ1391990.529 | NA | NA |\n",
       "| F141_Wood_Sandpiper__metabat2_low_PE.001 | ERZ1391991 | PRJEB38078 | ERS4537282 | ERZ1391991.1-ERZ1391991.163 | NA | NA |\n",
       "\n"
      ],
      "text/plain": [
       "    ASSEMBLY_NAME                                 ASSEMBLY_ACC STUDY_ID  \n",
       "1   X101_Horse__maxbin2_high_prob.001             ERZ1391692   PRJEB38078\n",
       "2   X103_Eurasian_Blackcap__maxbin2_high_prob.002 ERZ1391693   PRJEB38078\n",
       "⋮   ⋮                                             ⋮            ⋮         \n",
       "259 X96_European_Hare__metabat2_low_PE.005        ERZ1391990   PRJEB38078\n",
       "260 F141_Wood_Sandpiper__metabat2_low_PE.001      ERZ1391991   PRJEB38078\n",
       "    SAMPLE_ID  CONTIG_ACC                  SCAFFOLD_ACC CHROMOSOME_ACC\n",
       "1   ERS4537005 ERZ1391692.1-ERZ1391692.528 NA           NA            \n",
       "2   ERS4537007 ERZ1391693.1-ERZ1391693.198 NA           NA            \n",
       "⋮   ⋮          ⋮                           ⋮            ⋮             \n",
       "259 ERS4537280 ERZ1391990.1-ERZ1391990.529 NA           NA            \n",
       "260 ERS4537282 ERZ1391991.1-ERZ1391991.163 NA           NA            "
      ]
     },
     "metadata": {},
     "output_type": "display_data"
    }
   ],
   "source": [
    "# the MAGs in which I recieved an accession via email\n",
    "submitted = read.delim(file.path(work_dir, 'multi-species_cli_submission_accession.tsv'))\n",
    "submitted"
   ]
  },
  {
   "cell_type": "code",
   "execution_count": 60,
   "metadata": {
    "ExecuteTime": {
     "end_time": "2020-05-28T12:36:16.287556Z",
     "start_time": "2020-05-28T12:36:16.190Z"
    }
   },
   "outputs": [
    {
     "data": {
      "text/html": [
       "<table>\n",
       "<caption>A tidytable: 295 × 9</caption>\n",
       "<thead>\n",
       "\t<tr><th scope=col>STUDY</th><th scope=col>SAMPLE</th><th scope=col>ASSEMBLYNAME</th><th scope=col>ASSEMBLY_TYPE</th><th scope=col>COVERAGE</th><th scope=col>PROGRAM</th><th scope=col>PLATFORM</th><th scope=col>DESCRIPTION</th><th scope=col>FASTA</th></tr>\n",
       "\t<tr><th scope=col>&lt;chr&gt;</th><th scope=col>&lt;chr&gt;</th><th scope=col>&lt;chr&gt;</th><th scope=col>&lt;chr&gt;</th><th scope=col>&lt;dbl&gt;</th><th scope=col>&lt;chr&gt;</th><th scope=col>&lt;chr&gt;</th><th scope=col>&lt;chr&gt;</th><th scope=col>&lt;chr&gt;</th></tr>\n",
       "</thead>\n",
       "<tbody>\n",
       "\t<tr><td>PRJEB38078</td><td>ERS4537005</td><td>X101_Horse__maxbin2_high_prob.001            </td><td>binned metagenome</td><td>30</td><td>metaSPAdes</td><td>HiSeq</td><td>PRJEB38078: host=Equus caballus    </td><td>X101_Horse__maxbin2_high_prob.001.contigs.fa.gz            </td></tr>\n",
       "\t<tr><td>PRJEB38078</td><td>ERS4537007</td><td>X103_Eurasian_Blackcap__maxbin2_high_prob.002</td><td>binned metagenome</td><td>30</td><td>metaSPAdes</td><td>HiSeq</td><td>PRJEB38078: host=Sylvia atricapilla</td><td>X103_Eurasian_Blackcap__maxbin2_high_prob.002.contigs.fa.gz</td></tr>\n",
       "\t<tr><td>⋮</td><td>⋮</td><td>⋮</td><td>⋮</td><td>⋮</td><td>⋮</td><td>⋮</td><td>⋮</td><td>⋮</td></tr>\n",
       "\t<tr><td>PRJEB38078</td><td>ERS4537293</td><td>F90_Domestic_Dog__metabat2_high_PE.009</td><td>binned metagenome</td><td>30</td><td>metaSPAdes</td><td>HiSeq</td><td>PRJEB38078: host=Canis lupus</td><td>F90_Domestic_Dog__metabat2_high_PE.009.contigs.fa.gz</td></tr>\n",
       "\t<tr><td>PRJEB38078</td><td>ERS4537293</td><td>F90_Domestic_Dog__metabat2_low_PE.003 </td><td>binned metagenome</td><td>30</td><td>metaSPAdes</td><td>HiSeq</td><td>PRJEB38078: host=Canis lupus</td><td>F90_Domestic_Dog__metabat2_low_PE.003.contigs.fa.gz </td></tr>\n",
       "</tbody>\n",
       "</table>\n"
      ],
      "text/latex": [
       "A tidytable: 295 × 9\n",
       "\\begin{tabular}{lllllllll}\n",
       " STUDY & SAMPLE & ASSEMBLYNAME & ASSEMBLY\\_TYPE & COVERAGE & PROGRAM & PLATFORM & DESCRIPTION & FASTA\\\\\n",
       " <chr> & <chr> & <chr> & <chr> & <dbl> & <chr> & <chr> & <chr> & <chr>\\\\\n",
       "\\hline\n",
       "\t PRJEB38078 & ERS4537005 & X101\\_Horse\\_\\_maxbin2\\_high\\_prob.001             & binned metagenome & 30 & metaSPAdes & HiSeq & PRJEB38078: host=Equus caballus     & X101\\_Horse\\_\\_maxbin2\\_high\\_prob.001.contigs.fa.gz            \\\\\n",
       "\t PRJEB38078 & ERS4537007 & X103\\_Eurasian\\_Blackcap\\_\\_maxbin2\\_high\\_prob.002 & binned metagenome & 30 & metaSPAdes & HiSeq & PRJEB38078: host=Sylvia atricapilla & X103\\_Eurasian\\_Blackcap\\_\\_maxbin2\\_high\\_prob.002.contigs.fa.gz\\\\\n",
       "\t ⋮ & ⋮ & ⋮ & ⋮ & ⋮ & ⋮ & ⋮ & ⋮ & ⋮\\\\\n",
       "\t PRJEB38078 & ERS4537293 & F90\\_Domestic\\_Dog\\_\\_metabat2\\_high\\_PE.009 & binned metagenome & 30 & metaSPAdes & HiSeq & PRJEB38078: host=Canis lupus & F90\\_Domestic\\_Dog\\_\\_metabat2\\_high\\_PE.009.contigs.fa.gz\\\\\n",
       "\t PRJEB38078 & ERS4537293 & F90\\_Domestic\\_Dog\\_\\_metabat2\\_low\\_PE.003  & binned metagenome & 30 & metaSPAdes & HiSeq & PRJEB38078: host=Canis lupus & F90\\_Domestic\\_Dog\\_\\_metabat2\\_low\\_PE.003.contigs.fa.gz \\\\\n",
       "\\end{tabular}\n"
      ],
      "text/markdown": [
       "\n",
       "A tidytable: 295 × 9\n",
       "\n",
       "| STUDY &lt;chr&gt; | SAMPLE &lt;chr&gt; | ASSEMBLYNAME &lt;chr&gt; | ASSEMBLY_TYPE &lt;chr&gt; | COVERAGE &lt;dbl&gt; | PROGRAM &lt;chr&gt; | PLATFORM &lt;chr&gt; | DESCRIPTION &lt;chr&gt; | FASTA &lt;chr&gt; |\n",
       "|---|---|---|---|---|---|---|---|---|\n",
       "| PRJEB38078 | ERS4537005 | X101_Horse__maxbin2_high_prob.001             | binned metagenome | 30 | metaSPAdes | HiSeq | PRJEB38078: host=Equus caballus     | X101_Horse__maxbin2_high_prob.001.contigs.fa.gz             |\n",
       "| PRJEB38078 | ERS4537007 | X103_Eurasian_Blackcap__maxbin2_high_prob.002 | binned metagenome | 30 | metaSPAdes | HiSeq | PRJEB38078: host=Sylvia atricapilla | X103_Eurasian_Blackcap__maxbin2_high_prob.002.contigs.fa.gz |\n",
       "| ⋮ | ⋮ | ⋮ | ⋮ | ⋮ | ⋮ | ⋮ | ⋮ | ⋮ |\n",
       "| PRJEB38078 | ERS4537293 | F90_Domestic_Dog__metabat2_high_PE.009 | binned metagenome | 30 | metaSPAdes | HiSeq | PRJEB38078: host=Canis lupus | F90_Domestic_Dog__metabat2_high_PE.009.contigs.fa.gz |\n",
       "| PRJEB38078 | ERS4537293 | F90_Domestic_Dog__metabat2_low_PE.003  | binned metagenome | 30 | metaSPAdes | HiSeq | PRJEB38078: host=Canis lupus | F90_Domestic_Dog__metabat2_low_PE.003.contigs.fa.gz  |\n",
       "\n"
      ],
      "text/plain": [
       "    STUDY      SAMPLE     ASSEMBLYNAME                                 \n",
       "1   PRJEB38078 ERS4537005 X101_Horse__maxbin2_high_prob.001            \n",
       "2   PRJEB38078 ERS4537007 X103_Eurasian_Blackcap__maxbin2_high_prob.002\n",
       "⋮   ⋮          ⋮          ⋮                                            \n",
       "294 PRJEB38078 ERS4537293 F90_Domestic_Dog__metabat2_high_PE.009       \n",
       "295 PRJEB38078 ERS4537293 F90_Domestic_Dog__metabat2_low_PE.003        \n",
       "    ASSEMBLY_TYPE     COVERAGE PROGRAM    PLATFORM\n",
       "1   binned metagenome 30       metaSPAdes HiSeq   \n",
       "2   binned metagenome 30       metaSPAdes HiSeq   \n",
       "⋮   ⋮                 ⋮        ⋮          ⋮       \n",
       "294 binned metagenome 30       metaSPAdes HiSeq   \n",
       "295 binned metagenome 30       metaSPAdes HiSeq   \n",
       "    DESCRIPTION                        \n",
       "1   PRJEB38078: host=Equus caballus    \n",
       "2   PRJEB38078: host=Sylvia atricapilla\n",
       "⋮   ⋮                                  \n",
       "294 PRJEB38078: host=Canis lupus       \n",
       "295 PRJEB38078: host=Canis lupus       \n",
       "    FASTA                                                      \n",
       "1   X101_Horse__maxbin2_high_prob.001.contigs.fa.gz            \n",
       "2   X103_Eurasian_Blackcap__maxbin2_high_prob.002.contigs.fa.gz\n",
       "⋮   ⋮                                                          \n",
       "294 F90_Domestic_Dog__metabat2_high_PE.009.contigs.fa.gz       \n",
       "295 F90_Domestic_Dog__metabat2_low_PE.003.contigs.fa.gz        "
      ]
     },
     "metadata": {},
     "output_type": "display_data"
    }
   ],
   "source": [
    "# re-creating the final table\n",
    "mag_meta_bios_f = mag_meta_bios %>%\n",
    "    dt_filter(BioProject == 'PRJEB38078') %>%\n",
    "    dt_rename('SAMPLE' = EnvSample) %>%\n",
    "    dt_mutate(STUDY = 'PRJEB38078',\n",
    "              ASSEMBLYNAME = gsub('\\\\.contigs$', '', binID),\n",
    "              ASSEMBLY_TYPE = 'binned metagenome',\n",
    "              COVERAGE = 30,\n",
    "              PROGRAM = 'metaSPAdes',\n",
    "              PLATFORM = 'HiSeq',\n",
    "              DESCRIPTION = paste(BioProject, `isolation source`, sep=': host='),\n",
    "              FASTA = gsub('$', '.gz', fasta.x %>% as.character %>% basename)) %>%\n",
    "    dt_select(STUDY, SAMPLE, ASSEMBLYNAME, ASSEMBLY_TYPE, \n",
    "              COVERAGE, PROGRAM, PLATFORM, DESCRIPTION, FASTA)\n",
    "              \n",
    "mag_meta_bios_f "
   ]
  },
  {
   "cell_type": "code",
   "execution_count": 62,
   "metadata": {
    "ExecuteTime": {
     "end_time": "2020-05-28T12:36:26.810433Z",
     "start_time": "2020-05-28T12:36:26.750Z"
    }
   },
   "outputs": [
    {
     "name": "stderr",
     "output_type": "stream",
     "text": [
      "Warning message:\n",
      "“Column `ASSEMBLYNAME`/`ASSEMBLY_NAME` joining character vector and factor, coercing into character vector”\n"
     ]
    },
    {
     "data": {
      "text/html": [
       "<table>\n",
       "<caption>A data.frame: 35 × 9</caption>\n",
       "<thead>\n",
       "\t<tr><th scope=col>STUDY</th><th scope=col>SAMPLE</th><th scope=col>ASSEMBLYNAME</th><th scope=col>ASSEMBLY_TYPE</th><th scope=col>COVERAGE</th><th scope=col>PROGRAM</th><th scope=col>PLATFORM</th><th scope=col>DESCRIPTION</th><th scope=col>FASTA</th></tr>\n",
       "\t<tr><th scope=col>&lt;chr&gt;</th><th scope=col>&lt;chr&gt;</th><th scope=col>&lt;chr&gt;</th><th scope=col>&lt;chr&gt;</th><th scope=col>&lt;dbl&gt;</th><th scope=col>&lt;chr&gt;</th><th scope=col>&lt;chr&gt;</th><th scope=col>&lt;chr&gt;</th><th scope=col>&lt;chr&gt;</th></tr>\n",
       "</thead>\n",
       "<tbody>\n",
       "\t<tr><td>PRJEB38078</td><td>ERS4537075</td><td>X19_European_Ground_Squirrel__maxbin2_high_prob.009 </td><td>binned metagenome</td><td>30</td><td>metaSPAdes</td><td>HiSeq</td><td>PRJEB38078: host=Spermophilus citellus</td><td>X19_European_Ground_Squirrel__maxbin2_high_prob.009.contigs.fa.gz </td></tr>\n",
       "\t<tr><td>PRJEB38078</td><td>ERS4537084</td><td>X21_Yellow_necked_Field_Mouse__maxbin2_high_prob.002</td><td>binned metagenome</td><td>30</td><td>metaSPAdes</td><td>HiSeq</td><td>PRJEB38078: host=Apodemus flavicollis </td><td>X21_Yellow_necked_Field_Mouse__maxbin2_high_prob.002.contigs.fa.gz</td></tr>\n",
       "\t<tr><td>⋮</td><td>⋮</td><td>⋮</td><td>⋮</td><td>⋮</td><td>⋮</td><td>⋮</td><td>⋮</td><td>⋮</td></tr>\n",
       "\t<tr><td>PRJEB38078</td><td>ERS4537193</td><td>X371_Linnaeus_Two_toed_Sloth__maxbin2_high_prob.017</td><td>binned metagenome</td><td>30</td><td>metaSPAdes</td><td>HiSeq</td><td>PRJEB38078: host=Choloepus didactylus</td><td>X371_Linnaeus_Two_toed_Sloth__maxbin2_high_prob.017.contigs.fa.gz</td></tr>\n",
       "\t<tr><td>PRJEB38078</td><td>ERS4537238</td><td>X427_Great_Spotted_Woodpecker__maxbin2_low_prob.001</td><td>binned metagenome</td><td>30</td><td>metaSPAdes</td><td>HiSeq</td><td>PRJEB38078: host=Dendrocopos major   </td><td>X427_Great_Spotted_Woodpecker__maxbin2_low_prob.001.contigs.fa.gz</td></tr>\n",
       "</tbody>\n",
       "</table>\n"
      ],
      "text/latex": [
       "A data.frame: 35 × 9\n",
       "\\begin{tabular}{lllllllll}\n",
       " STUDY & SAMPLE & ASSEMBLYNAME & ASSEMBLY\\_TYPE & COVERAGE & PROGRAM & PLATFORM & DESCRIPTION & FASTA\\\\\n",
       " <chr> & <chr> & <chr> & <chr> & <dbl> & <chr> & <chr> & <chr> & <chr>\\\\\n",
       "\\hline\n",
       "\t PRJEB38078 & ERS4537075 & X19\\_European\\_Ground\\_Squirrel\\_\\_maxbin2\\_high\\_prob.009  & binned metagenome & 30 & metaSPAdes & HiSeq & PRJEB38078: host=Spermophilus citellus & X19\\_European\\_Ground\\_Squirrel\\_\\_maxbin2\\_high\\_prob.009.contigs.fa.gz \\\\\n",
       "\t PRJEB38078 & ERS4537084 & X21\\_Yellow\\_necked\\_Field\\_Mouse\\_\\_maxbin2\\_high\\_prob.002 & binned metagenome & 30 & metaSPAdes & HiSeq & PRJEB38078: host=Apodemus flavicollis  & X21\\_Yellow\\_necked\\_Field\\_Mouse\\_\\_maxbin2\\_high\\_prob.002.contigs.fa.gz\\\\\n",
       "\t ⋮ & ⋮ & ⋮ & ⋮ & ⋮ & ⋮ & ⋮ & ⋮ & ⋮\\\\\n",
       "\t PRJEB38078 & ERS4537193 & X371\\_Linnaeus\\_Two\\_toed\\_Sloth\\_\\_maxbin2\\_high\\_prob.017 & binned metagenome & 30 & metaSPAdes & HiSeq & PRJEB38078: host=Choloepus didactylus & X371\\_Linnaeus\\_Two\\_toed\\_Sloth\\_\\_maxbin2\\_high\\_prob.017.contigs.fa.gz\\\\\n",
       "\t PRJEB38078 & ERS4537238 & X427\\_Great\\_Spotted\\_Woodpecker\\_\\_maxbin2\\_low\\_prob.001 & binned metagenome & 30 & metaSPAdes & HiSeq & PRJEB38078: host=Dendrocopos major    & X427\\_Great\\_Spotted\\_Woodpecker\\_\\_maxbin2\\_low\\_prob.001.contigs.fa.gz\\\\\n",
       "\\end{tabular}\n"
      ],
      "text/markdown": [
       "\n",
       "A data.frame: 35 × 9\n",
       "\n",
       "| STUDY &lt;chr&gt; | SAMPLE &lt;chr&gt; | ASSEMBLYNAME &lt;chr&gt; | ASSEMBLY_TYPE &lt;chr&gt; | COVERAGE &lt;dbl&gt; | PROGRAM &lt;chr&gt; | PLATFORM &lt;chr&gt; | DESCRIPTION &lt;chr&gt; | FASTA &lt;chr&gt; |\n",
       "|---|---|---|---|---|---|---|---|---|\n",
       "| PRJEB38078 | ERS4537075 | X19_European_Ground_Squirrel__maxbin2_high_prob.009  | binned metagenome | 30 | metaSPAdes | HiSeq | PRJEB38078: host=Spermophilus citellus | X19_European_Ground_Squirrel__maxbin2_high_prob.009.contigs.fa.gz  |\n",
       "| PRJEB38078 | ERS4537084 | X21_Yellow_necked_Field_Mouse__maxbin2_high_prob.002 | binned metagenome | 30 | metaSPAdes | HiSeq | PRJEB38078: host=Apodemus flavicollis  | X21_Yellow_necked_Field_Mouse__maxbin2_high_prob.002.contigs.fa.gz |\n",
       "| ⋮ | ⋮ | ⋮ | ⋮ | ⋮ | ⋮ | ⋮ | ⋮ | ⋮ |\n",
       "| PRJEB38078 | ERS4537193 | X371_Linnaeus_Two_toed_Sloth__maxbin2_high_prob.017 | binned metagenome | 30 | metaSPAdes | HiSeq | PRJEB38078: host=Choloepus didactylus | X371_Linnaeus_Two_toed_Sloth__maxbin2_high_prob.017.contigs.fa.gz |\n",
       "| PRJEB38078 | ERS4537238 | X427_Great_Spotted_Woodpecker__maxbin2_low_prob.001 | binned metagenome | 30 | metaSPAdes | HiSeq | PRJEB38078: host=Dendrocopos major    | X427_Great_Spotted_Woodpecker__maxbin2_low_prob.001.contigs.fa.gz |\n",
       "\n"
      ],
      "text/plain": [
       "   STUDY      SAMPLE     ASSEMBLYNAME                                        \n",
       "1  PRJEB38078 ERS4537075 X19_European_Ground_Squirrel__maxbin2_high_prob.009 \n",
       "2  PRJEB38078 ERS4537084 X21_Yellow_necked_Field_Mouse__maxbin2_high_prob.002\n",
       "⋮  ⋮          ⋮          ⋮                                                   \n",
       "34 PRJEB38078 ERS4537193 X371_Linnaeus_Two_toed_Sloth__maxbin2_high_prob.017 \n",
       "35 PRJEB38078 ERS4537238 X427_Great_Spotted_Woodpecker__maxbin2_low_prob.001 \n",
       "   ASSEMBLY_TYPE     COVERAGE PROGRAM    PLATFORM\n",
       "1  binned metagenome 30       metaSPAdes HiSeq   \n",
       "2  binned metagenome 30       metaSPAdes HiSeq   \n",
       "⋮  ⋮                 ⋮        ⋮          ⋮       \n",
       "34 binned metagenome 30       metaSPAdes HiSeq   \n",
       "35 binned metagenome 30       metaSPAdes HiSeq   \n",
       "   DESCRIPTION                           \n",
       "1  PRJEB38078: host=Spermophilus citellus\n",
       "2  PRJEB38078: host=Apodemus flavicollis \n",
       "⋮  ⋮                                     \n",
       "34 PRJEB38078: host=Choloepus didactylus \n",
       "35 PRJEB38078: host=Dendrocopos major    \n",
       "   FASTA                                                             \n",
       "1  X19_European_Ground_Squirrel__maxbin2_high_prob.009.contigs.fa.gz \n",
       "2  X21_Yellow_necked_Field_Mouse__maxbin2_high_prob.002.contigs.fa.gz\n",
       "⋮  ⋮                                                                 \n",
       "34 X371_Linnaeus_Two_toed_Sloth__maxbin2_high_prob.017.contigs.fa.gz \n",
       "35 X427_Great_Spotted_Woodpecker__maxbin2_low_prob.001.contigs.fa.gz "
      ]
     },
     "metadata": {},
     "output_type": "display_data"
    }
   ],
   "source": [
    "to_resubmit = mag_meta_bios_f %>%\n",
    "    anti_join(submitted, c('ASSEMBLYNAME' = 'ASSEMBLY_NAME'))\n",
    "to_resubmit "
   ]
  },
  {
   "cell_type": "code",
   "execution_count": 66,
   "metadata": {
    "ExecuteTime": {
     "end_time": "2020-05-28T12:39:16.278998Z",
     "start_time": "2020-05-28T12:39:16.233Z"
    }
   },
   "outputs": [
    {
     "data": {
      "text/html": [
       "<ol class=list-inline>\n",
       "\t<li>'X236_Pygmy_Slow_Loris__metabat2_high_PE.009'</li>\n",
       "\t<li>'X279_Western_Grey_Kangaroo__metabat2_high_PE.001'</li>\n",
       "\t<li>'X369_Koala__maxbin2_low_prob.001'</li>\n",
       "</ol>\n"
      ],
      "text/latex": [
       "\\begin{enumerate*}\n",
       "\\item 'X236\\_Pygmy\\_Slow\\_Loris\\_\\_metabat2\\_high\\_PE.009'\n",
       "\\item 'X279\\_Western\\_Grey\\_Kangaroo\\_\\_metabat2\\_high\\_PE.001'\n",
       "\\item 'X369\\_Koala\\_\\_maxbin2\\_low\\_prob.001'\n",
       "\\end{enumerate*}\n"
      ],
      "text/markdown": [
       "1. 'X236_Pygmy_Slow_Loris__metabat2_high_PE.009'\n",
       "2. 'X279_Western_Grey_Kangaroo__metabat2_high_PE.001'\n",
       "3. 'X369_Koala__maxbin2_low_prob.001'\n",
       "\n",
       "\n"
      ],
      "text/plain": [
       "[1] \"X236_Pygmy_Slow_Loris__metabat2_high_PE.009\"     \n",
       "[2] \"X279_Western_Grey_Kangaroo__metabat2_high_PE.001\"\n",
       "[3] \"X369_Koala__maxbin2_low_prob.001\"                "
      ]
     },
     "metadata": {},
     "output_type": "display_data"
    }
   ],
   "source": [
    "# which don't seem to match???\n",
    "x = mag_meta_bios_f %>%\n",
    "    mutate(str_len = stringr::str_length(ASSEMBLYNAME)) %>%\n",
    "    filter(str_len > 50) %>%\n",
    "    .$ASSEMBLYNAME\n",
    "\n",
    "setdiff(to_resubmit$ASSEMBLYNAME, x)"
   ]
  },
  {
   "cell_type": "markdown",
   "metadata": {},
   "source": [
    "# -- TO HERE --"
   ]
  },
  {
   "cell_type": "markdown",
   "metadata": {},
   "source": [
    "## published studies MAGs"
   ]
  },
  {
   "cell_type": "code",
   "execution_count": null,
   "metadata": {
    "ExecuteTime": {
     "end_time": "2020-05-01T10:30:50.684286Z",
     "start_time": "2020-05-01T10:30:50.592Z"
    }
   },
   "outputs": [],
   "source": [
    "# final table\n",
    "mag_meta_bios_f = mag_meta_bios %>%\n",
    "    dt_rename('SAMPLE' = EnvSample) %>%\n",
    "    dt_mutate(STUDY = 'PRJEB38078',\n",
    "              ASSEMBLYNAME = gsub('\\\\.contigs$', '', binID),\n",
    "              ASSEMBLY_TYPE = 'binned metagenome',\n",
    "              COVERAGE = 30,\n",
    "              PROGRAM = 'metaSPAdes',\n",
    "              PLATFORM = 'HiSeq',\n",
    "              DESCRIPTION = paste(BioProject, `isolation source`, sep=': host='),\n",
    "              FASTA = gsub('$', '.gz', fasta.x %>% as.character %>% basename)) %>%\n",
    "    dt_select(STUDY, SAMPLE, ASSEMBLYNAME, ASSEMBLY_TYPE, \n",
    "              COVERAGE, PROGRAM, PLATFORM, DESCRIPTION, FASTA)\n",
    "              \n",
    "mag_meta_bios_f           "
   ]
  },
  {
   "cell_type": "code",
   "execution_count": 559,
   "metadata": {
    "ExecuteTime": {
     "end_time": "2020-05-01T10:28:19.753988Z",
     "start_time": "2020-05-01T10:28:19.713Z"
    }
   },
   "outputs": [
    {
     "name": "stdout",
     "output_type": "stream",
     "text": [
      "Directory already exists: /ebio/abt3_projects/Georg_animal_feces/data//metagenome/multi-study/BioProjects/summary/LLMGA/wGeorgAnimal/ENA_upload/cli_submission \n"
     ]
    }
   ],
   "source": [
    "# creating location of manifests & fasta files\n",
    "cli_submission_dir = file.path(work_dir, 'cli_submission')\n",
    "make_dir(cli_submission_dir)"
   ]
  },
  {
   "cell_type": "code",
   "execution_count": 565,
   "metadata": {
    "ExecuteTime": {
     "end_time": "2020-05-01T10:41:20.284393Z",
     "start_time": "2020-05-01T10:41:05.804Z"
    }
   },
   "outputs": [
    {
     "data": {
      "text/plain": [
       ".\n",
       "TRUE \n",
       "5596 "
      ]
     },
     "metadata": {},
     "output_type": "display_data"
    }
   ],
   "source": [
    "# writing manifests\n",
    "write_manifests = function(x, out_dir){\n",
    "    out_file = file.path(out_dir, paste(x['ASSEMBLYNAME'], 'txt', sep='.'))\n",
    "    file.remove(out_file)\n",
    "    file.create(out_file)\n",
    "    vals = c('STUDY', 'SAMPLE', 'ASSEMBLYNAME', 'ASSEMBLY_TYPE', \n",
    "              'COVERAGE', 'PROGRAM', 'PLATFORM', 'DESCRIPTION', 'FASTA')\n",
    "    sapply(vals, function(y) cat(paste(y, ': ', x[y], '\\n', sep=''), file=out_file, append=TRUE))\n",
    "    return(TRUE)\n",
    "}\n",
    "           \n",
    "res = mag_meta_bios_f %>%\n",
    "    as.data.frame %>%\n",
    "    apply(1, write_manifests, out_dir = cli_submission_dir)\n",
    "res %>% table"
   ]
  },
  {
   "cell_type": "markdown",
   "metadata": {},
   "source": [
    "### ENA CLI submission"
   ]
  },
  {
   "cell_type": "markdown",
   "metadata": {},
   "source": [
    "Example:\n",
    "\n",
    "```\n",
    "@ rick:/ebio/abt3_projects/Georg_animal_feces/data/metagenome/multi-study/BioProjects/summary/LLMGA/wGeorgAnimal/ENA_upload/cli_submission\n",
    "$ java -jar ../webin-cli-2.2.4.jar -validate -manifest=X96_European_Hare__metabat2_low_PE.005.txt -context=genome -userName=Webin-46512 -password=XXXXXXXX\n",
    "```"
   ]
  },
  {
   "cell_type": "markdown",
   "metadata": {},
   "source": [
    "# Notes"
   ]
  },
  {
   "cell_type": "markdown",
   "metadata": {
    "ExecuteTime": {
     "end_time": "2020-05-01T10:04:08.577651Z",
     "start_time": "2020-05-01T10:04:08.544Z"
    }
   },
   "source": [
    "* [ENA docs on submitting MAGs via the CLI](https://ena-docs.readthedocs.io/en/latest/submit/assembly/metagenome/binned.html?highlight=MAGs)"
   ]
  },
  {
   "cell_type": "markdown",
   "metadata": {},
   "source": [
    "## MIMAG data"
   ]
  },
  {
   "cell_type": "markdown",
   "metadata": {},
   "source": [
    "* sample_alias\n",
    "* tax_id\n",
    "* scientific_name\n",
    "* common_name\n",
    "* sample_title\n",
    "* sample_description\n",
    "* project name\n",
    "* sequencing method\n",
    "* assembly software\n",
    "* completeness score\n",
    "* completeness software\n",
    "* contamination score\n",
    "* binning software\n",
    "* assembly quality\n",
    "* investigation type\n",
    "* binning parameters\n",
    "* taxonomic identity marker\n",
    "* isolation_source\n",
    "* collection date\n",
    "* geographic location (country and/or sea)\n",
    "* geographic location (latitude)\n",
    "* geographic location (longitude)\n",
    "* environment (biome)\n",
    "* environment (feature)\n",
    "* environment (material)\n",
    "* sample derived from\n",
    "* metagenomic source"
   ]
  },
  {
   "cell_type": "markdown",
   "metadata": {},
   "source": [
    "## BioProject metadata\n",
    "\n",
    "* isolation source\n",
    "  * host species\n",
    "* collection date\n",
    "  * '0000-00-00' if unknown\n",
    "* geographic location (country and/or sea)\n",
    "  * CANNOT be missing\n",
    "* geographic location (latitude)\n",
    "  * '0' if unknown\n",
    "* geographic location (longitude)\n",
    "  * '0' if unknown\n",
    "* environment (biome)\n",
    "  * digestive tract environment\n",
    "* environment (feature)\n",
    "  * gut\n",
    "* environment (material)\n",
    "  * feces\n",
    "* sample derived from\n",
    "  * metagenome sample IDs (ERS*)\n",
    "  * \"ERS000000\" if unknown\n",
    "* metagenomic source\n",
    "  * \"metagenome\""
   ]
  },
  {
   "cell_type": "markdown",
   "metadata": {},
   "source": [
    "# sessionInfo"
   ]
  },
  {
   "cell_type": "code",
   "execution_count": 430,
   "metadata": {
    "ExecuteTime": {
     "end_time": "2020-05-01T09:14:02.612868Z",
     "start_time": "2020-05-01T09:14:02.538Z"
    }
   },
   "outputs": [
    {
     "data": {
      "text/plain": [
       "R version 3.6.2 (2019-12-12)\n",
       "Platform: x86_64-conda_cos6-linux-gnu (64-bit)\n",
       "Running under: Ubuntu 18.04.4 LTS\n",
       "\n",
       "Matrix products: default\n",
       "BLAS/LAPACK: /ebio/abt3_projects/Georg_animal_feces/envs/tidyverse/lib/libopenblasp-r0.3.7.so\n",
       "\n",
       "locale:\n",
       " [1] LC_CTYPE=en_US.UTF-8       LC_NUMERIC=C              \n",
       " [3] LC_TIME=en_US.UTF-8        LC_COLLATE=en_US.UTF-8    \n",
       " [5] LC_MONETARY=en_US.UTF-8    LC_MESSAGES=en_US.UTF-8   \n",
       " [7] LC_PAPER=en_US.UTF-8       LC_NAME=C                 \n",
       " [9] LC_ADDRESS=C               LC_TELEPHONE=C            \n",
       "[11] LC_MEASUREMENT=en_US.UTF-8 LC_IDENTIFICATION=C       \n",
       "\n",
       "attached base packages:\n",
       "[1] stats     graphics  grDevices utils     datasets  methods   base     \n",
       "\n",
       "other attached packages:\n",
       "[1] data.table_1.12.8 LeyLabRMisc_0.1.3 tidytable_0.3.2   ggplot2_3.2.1    \n",
       "[5] tidyr_1.0.0       dplyr_0.8.3      \n",
       "\n",
       "loaded via a namespace (and not attached):\n",
       " [1] Rcpp_1.0.3       pillar_1.4.3     compiler_3.6.2   base64enc_0.1-3 \n",
       " [5] tools_3.6.2      bit_1.1-15.2     zeallot_0.1.0    digest_0.6.23   \n",
       " [9] uuid_0.1-2       jsonlite_1.6     evaluate_0.14    tibble_2.1.3    \n",
       "[13] lifecycle_0.1.0  gtable_0.3.0     pkgconfig_2.0.3  rlang_0.4.2     \n",
       "[17] IRdisplay_0.7.0  IRkernel_1.1     repr_1.0.2       withr_2.1.2     \n",
       "[21] vctrs_0.2.1      bit64_0.9-7      grid_3.6.2       tidyselect_0.2.5\n",
       "[25] glue_1.3.1       R6_2.4.1         pbdZMQ_0.3-3     purrr_0.3.3     \n",
       "[29] magrittr_1.5     backports_1.1.5  scales_1.1.0     htmltools_0.4.0 \n",
       "[33] assertthat_0.2.1 colorspace_1.4-1 lazyeval_0.2.2   munsell_0.5.0   \n",
       "[37] crayon_1.3.4    "
      ]
     },
     "metadata": {},
     "output_type": "display_data"
    }
   ],
   "source": [
    "sessionInfo()"
   ]
  },
  {
   "cell_type": "code",
   "execution_count": null,
   "metadata": {},
   "outputs": [],
   "source": []
  }
 ],
 "metadata": {
  "kernelspec": {
   "display_name": "R [conda env:Georg_animal_feces-tidyverse]",
   "language": "R",
   "name": "conda-env-Georg_animal_feces-tidyverse-r"
  },
  "language_info": {
   "codemirror_mode": "r",
   "file_extension": ".r",
   "mimetype": "text/x-r-source",
   "name": "R",
   "pygments_lexer": "r",
   "version": "3.6.2"
  },
  "notify_time": "30",
  "toc": {
   "base_numbering": 1,
   "nav_menu": {},
   "number_sections": true,
   "sideBar": true,
   "skip_h1_title": false,
   "title_cell": "Table of Contents",
   "title_sidebar": "Contents",
   "toc_cell": true,
   "toc_position": {},
   "toc_section_display": true,
   "toc_window_display": true
  }
 },
 "nbformat": 4,
 "nbformat_minor": 4
}
