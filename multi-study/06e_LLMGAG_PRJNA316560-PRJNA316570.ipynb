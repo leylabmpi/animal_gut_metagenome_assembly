{
 "cells": [
  {
   "cell_type": "markdown",
   "metadata": {
    "toc": true
   },
   "source": [
    "<h1>Table of Contents<span class=\"tocSkip\"></span></h1>\n",
    "<div class=\"toc\"><ul class=\"toc-item\"><li><span><a href=\"#Goal\" data-toc-modified-id=\"Goal-1\"><span class=\"toc-item-num\">1&nbsp;&nbsp;</span>Goal</a></span></li><li><span><a href=\"#Var\" data-toc-modified-id=\"Var-2\"><span class=\"toc-item-num\">2&nbsp;&nbsp;</span>Var</a></span></li><li><span><a href=\"#Init\" data-toc-modified-id=\"Init-3\"><span class=\"toc-item-num\">3&nbsp;&nbsp;</span>Init</a></span></li><li><span><a href=\"#LLMGAG\" data-toc-modified-id=\"LLMGAG-4\"><span class=\"toc-item-num\">4&nbsp;&nbsp;</span>LLMGAG</a></span><ul class=\"toc-item\"><li><span><a href=\"#Setup\" data-toc-modified-id=\"Setup-4.1\"><span class=\"toc-item-num\">4.1&nbsp;&nbsp;</span>Setup</a></span><ul class=\"toc-item\"><li><span><a href=\"#Run\" data-toc-modified-id=\"Run-4.1.1\"><span class=\"toc-item-num\">4.1.1&nbsp;&nbsp;</span>Run</a></span></li></ul></li></ul></li><li><span><a href=\"#Summary\" data-toc-modified-id=\"Summary-5\"><span class=\"toc-item-num\">5&nbsp;&nbsp;</span>Summary</a></span><ul class=\"toc-item\"><li><span><a href=\"#Number-of-genes-assembled-&amp;-clustered\" data-toc-modified-id=\"Number-of-genes-assembled-&amp;-clustered-5.1\"><span class=\"toc-item-num\">5.1&nbsp;&nbsp;</span>Number of genes assembled &amp; clustered</a></span></li><li><span><a href=\"#Taxonomy\" data-toc-modified-id=\"Taxonomy-5.2\"><span class=\"toc-item-num\">5.2&nbsp;&nbsp;</span>Taxonomy</a></span><ul class=\"toc-item\"><li><span><a href=\"#Summary\" data-toc-modified-id=\"Summary-5.2.1\"><span class=\"toc-item-num\">5.2.1&nbsp;&nbsp;</span>Summary</a></span></li></ul></li><li><span><a href=\"#Annotations\" data-toc-modified-id=\"Annotations-5.3\"><span class=\"toc-item-num\">5.3&nbsp;&nbsp;</span>Annotations</a></span><ul class=\"toc-item\"><li><span><a href=\"#COG-functional-categories\" data-toc-modified-id=\"COG-functional-categories-5.3.1\"><span class=\"toc-item-num\">5.3.1&nbsp;&nbsp;</span>COG functional categories</a></span></li><li><span><a href=\"#Grouped-by-taxonomy\" data-toc-modified-id=\"Grouped-by-taxonomy-5.3.2\"><span class=\"toc-item-num\">5.3.2&nbsp;&nbsp;</span>Grouped by taxonomy</a></span></li></ul></li><li><span><a href=\"#humann2-db-genes\" data-toc-modified-id=\"humann2-db-genes-5.4\"><span class=\"toc-item-num\">5.4&nbsp;&nbsp;</span>humann2 db genes</a></span><ul class=\"toc-item\"><li><span><a href=\"#Summary\" data-toc-modified-id=\"Summary-5.4.1\"><span class=\"toc-item-num\">5.4.1&nbsp;&nbsp;</span>Summary</a></span><ul class=\"toc-item\"><li><span><a href=\"#By-taxonomy\" data-toc-modified-id=\"By-taxonomy-5.4.1.1\"><span class=\"toc-item-num\">5.4.1.1&nbsp;&nbsp;</span>By taxonomy</a></span></li></ul></li></ul></li></ul></li><li><span><a href=\"#sessionInfo\" data-toc-modified-id=\"sessionInfo-6\"><span class=\"toc-item-num\">6&nbsp;&nbsp;</span>sessionInfo</a></span></li></ul></div>"
   ]
  },
  {
   "cell_type": "markdown",
   "metadata": {},
   "source": [
    "# Goal\n",
    "\n",
    "* Run `LLMGAG` (metagenome assembly of genes) pipeline on animal gut microbiome metagenome study\n",
    "* study = PRJNA316560-PRJNA316570\n",
    "  * host = goose"
   ]
  },
  {
   "cell_type": "markdown",
   "metadata": {},
   "source": [
    "# Var"
   ]
  },
  {
   "cell_type": "code",
   "execution_count": 4,
   "metadata": {
    "ExecuteTime": {
     "end_time": "2019-09-20T13:13:18.327242Z",
     "start_time": "2019-09-20T13:13:18.285Z"
    }
   },
   "outputs": [],
   "source": [
    "studyID = 'PRJNA316560-PRJNA316570'\n",
    "base_dir = file.path('/ebio/abt3_projects/Georg_animal_feces/data/metagenome/multi-study/BioProjects/',\n",
    "                     studyID)\n",
    "tmp_out_dir = file.path('/ebio/abt3_projects/databases_no-backup/animal_gut_metagenomes/multi-study_MG-asmbl/',\n",
    "                        studyID)\n",
    "\n",
    "work_dir = file.path(base_dir, 'LLMGAG')\n",
    "\n",
    "pipeline_dir = '/ebio/abt3_projects/Georg_animal_feces/bin/llmgag/'\n",
    "threads = 24"
   ]
  },
  {
   "cell_type": "markdown",
   "metadata": {},
   "source": [
    "# Init"
   ]
  },
  {
   "cell_type": "code",
   "execution_count": 5,
   "metadata": {
    "ExecuteTime": {
     "end_time": "2019-09-20T13:13:19.872544Z",
     "start_time": "2019-09-20T13:13:19.820Z"
    }
   },
   "outputs": [],
   "source": [
    "library(dplyr)\n",
    "library(tidyr)\n",
    "library(ggplot2)\n",
    "library(data.table)\n",
    "set.seed(8304)\n",
    "\n",
    "source('/ebio/abt3_projects/Georg_animal_feces/code/misc_r_functions/init.R')"
   ]
  },
  {
   "cell_type": "code",
   "execution_count": 6,
   "metadata": {
    "ExecuteTime": {
     "end_time": "2019-09-20T13:13:21.014512Z",
     "start_time": "2019-09-20T13:13:20.964Z"
    }
   },
   "outputs": [
    {
     "name": "stdout",
     "output_type": "stream",
     "text": [
      "Directory already exists: /ebio/abt3_projects/Georg_animal_feces/data/metagenome/multi-study/BioProjects//PRJNA316560-PRJNA316570 \n",
      "Directory already exists: /ebio/abt3_projects/databases_no-backup/animal_gut_metagenomes/multi-study_MG-asmbl//PRJNA316560-PRJNA316570 \n",
      "Created directory: /ebio/abt3_projects/Georg_animal_feces/data/metagenome/multi-study/BioProjects//PRJNA316560-PRJNA316570/LLMGAG \n"
     ]
    }
   ],
   "source": [
    "make_dir(base_dir)\n",
    "make_dir(tmp_out_dir)\n",
    "make_dir(work_dir)"
   ]
  },
  {
   "cell_type": "markdown",
   "metadata": {},
   "source": [
    "# LLMGAG"
   ]
  },
  {
   "cell_type": "markdown",
   "metadata": {},
   "source": [
    "## Setup"
   ]
  },
  {
   "cell_type": "code",
   "execution_count": null,
   "metadata": {
    "ExecuteTime": {
     "end_time": "2019-08-26T18:43:26.509232Z",
     "start_time": "2019-08-26T18:43:26.452Z"
    }
   },
   "outputs": [],
   "source": [
    "cat_file(file.path(work_dir, 'config.yaml'))"
   ]
  },
  {
   "cell_type": "markdown",
   "metadata": {},
   "source": [
    "### Run"
   ]
  },
  {
   "cell_type": "markdown",
   "metadata": {},
   "source": [
    "```{bash}\n",
    "(snakemake_dev) @ rick:/ebio/abt3_projects/methanogen_host_evo/bin/llmgag\n",
    "$ screen -L -S llmgag-PRJNA316560-PRJNA316570 ./snakemake_sge.sh /ebio/abt3_projects/Georg_animal_feces/data/metagenome/multi-study/BioProjects/PRJNA316560-PRJNA316570/LLMGAG/config.yaml cluster.json /ebio/abt3_projects/Georg_animal_feces/data/metagenome/multi-study/BioProjects/PRJNA316560-PRJNA316570/LLMGAG/SGE_log 24\n",
    "```"
   ]
  },
  {
   "cell_type": "code",
   "execution_count": 7,
   "metadata": {
    "ExecuteTime": {
     "end_time": "2019-09-20T13:17:23.615337Z",
     "start_time": "2019-09-20T13:17:23.553Z"
    }
   },
   "outputs": [
    {
     "name": "stdout",
     "output_type": "stream",
     "text": [
      "LLMGAG\n",
      "======\n",
      "\n",
      "Ley Lab Metagenome Assembly of Genes (LLMGAG)\n",
      "\n",
      "* Version: 0.1.3\n",
      "* Authors:\n",
      "  * Nick Youngblut <nyoungb2@gmail.com>\n",
      "* Maintainers:\n",
      "  * Nick Youngblut <nyoungb2@gmail.com>\n",
      "\n",
      "--- conda envs ---\n",
      "==> /ebio/abt3_projects/Georg_animal_feces/bin/llmgag//bin/envs/annotate.yaml <==\n",
      "channels: !!python/tuple\n",
      "- bioconda\n",
      "dependencies:\n",
      "- pigz\n",
      "- bioconda::fasta-splitter\n",
      "- bioconda::eggnog-mapper\n",
      "\n",
      "==> /ebio/abt3_projects/Georg_animal_feces/bin/llmgag//bin/envs/checkm.yaml <==\n",
      "channels: !!python/tuple\n",
      "- bioconda\n",
      "dependencies:\n",
      "- python=2\n",
      "- pigz\n",
      "- bioconda::prodigal\n",
      "- bioconda::pplacer\n",
      "- bioconda::checkm-genome\n",
      "\n",
      "==> /ebio/abt3_projects/Georg_animal_feces/bin/llmgag//bin/envs/das_tool.yaml <==\n",
      "channels: !!python/tuple\n",
      "- r\n",
      "- bioconda\n",
      "dependencies:\n",
      "- pigz\n",
      "- ruby\n",
      "- r::r-base\n",
      "- r::r-data.table\n",
      "- r::r-domc\n",
      "- r::r-ggplot2\n",
      "- bioconda::pullseq\n",
      "- bioconda::prodigal\n",
      "- bioconda::blast\n",
      "- bioconda::diamond\n",
      "==> /ebio/abt3_projects/Georg_animal_feces/bin/llmgag//bin/envs/dask.yaml <==\n",
      "channels: !!python/tuple\n",
      "- conda-forge\n",
      "dependencies:\n",
      "- conda-forge::dask=0.18.1\n",
      "\n",
      "==> /ebio/abt3_projects/Georg_animal_feces/bin/llmgag//bin/envs/empanda.yaml <==\n",
      "channels: !!python/tuple\n",
      "- bioconda\n",
      "- conda-forge\n",
      "dependencies:\n",
      "- pigz\n",
      "- conda-forge::numpy=1.15\n",
      "- conda-forge::pandas\n",
      "- conda-forge::r-argparse\n",
      "- conda-forge::r-dplyr\n",
      "- conda-forge::r-tidyr\n",
      "- conda-forge::r-stringr\n",
      "- conda-forge::r-data.table\n",
      "- pip:\n",
      "  - empanada\n",
      "\n",
      "==> /ebio/abt3_projects/Georg_animal_feces/bin/llmgag//bin/envs/hadley.yaml <==\n",
      "channels: !!python/tuple\n",
      "- conda-forge\n",
      "dependencies:\n",
      "- conda-forge::r-ape\n",
      "- conda-forge::r-dplyr\n",
      "- conda-forge::r-tidyr\n",
      "- conda-forge::r-ggplot2\n",
      "\n",
      "==> /ebio/abt3_projects/Georg_animal_feces/bin/llmgag//bin/envs/humann2.yaml <==\n",
      "channels: !!python/tuple\n",
      "- bioconda\n",
      "dependencies:\n",
      "- pigz\n",
      "- bioconda::prodigal\n",
      "- bioconda::diamond=0.8.36\n",
      "\n",
      "==> /ebio/abt3_projects/Georg_animal_feces/bin/llmgag//bin/envs/metabat2.yaml <==\n",
      "channels: !!python/tuple\n",
      "- BioBuilds\n",
      "- bioconda\n",
      "dependencies:\n",
      "- pigz\n",
      "- python=2.7\n",
      "- BioBuilds::boost>=1.55.0\n",
      "- scons>=2.1.0\n",
      "- zlib>=1.2.4\n",
      "- BioBuilds::binutils>=2.2.2\n",
      "\n",
      "==> /ebio/abt3_projects/Georg_animal_feces/bin/llmgag//bin/envs/multiqc.yaml <==\n",
      "channels: !!python/tuple\n",
      "- bioconda\n",
      "dependencies:\n",
      "- bioconda::fastqc\n",
      "- bioconda::multiqc\n",
      "\n",
      "==> /ebio/abt3_projects/Georg_animal_feces/bin/llmgag//bin/envs/plass.yaml <==\n",
      "channels: !!python/tuple\n",
      "- bioconda\n",
      "dependencies:\n",
      "- pigz\n",
      "- bioconda::seqtk\n",
      "- bioconda::samtools\n",
      "- bioconda::mmseqs2\n",
      "- bioconda::plass\n",
      "\n",
      "==> /ebio/abt3_projects/Georg_animal_feces/bin/llmgag//bin/envs/sourmash.yaml <==\n",
      "channels: !!python/tuple\n",
      "- bioconda\n",
      "dependencies:\n",
      "- bioconda::sourmash=2.0.0a9\n",
      "\n",
      "==> /ebio/abt3_projects/Georg_animal_feces/bin/llmgag//bin/envs/vamb.yaml <==\n",
      "channels: !!python/tuple\n",
      "- bioconda\n",
      "- conda-forge\n",
      "dependencies:\n",
      "- pigz\n",
      "- pytorch\n",
      "- numpy\n",
      "- pysam"
     ]
    }
   ],
   "source": [
    "pipelineInfo(pipeline_dir)"
   ]
  },
  {
   "cell_type": "markdown",
   "metadata": {},
   "source": [
    "# Summary"
   ]
  },
  {
   "cell_type": "markdown",
   "metadata": {},
   "source": [
    "## Number of genes assembled & clustered"
   ]
  },
  {
   "cell_type": "code",
   "execution_count": 8,
   "metadata": {
    "ExecuteTime": {
     "end_time": "2019-09-22T05:17:02.434319Z",
     "start_time": "2019-09-22T05:17:02.247Z"
    }
   },
   "outputs": [
    {
     "name": "stdout",
     "output_type": "stream",
     "text": [
      "Number of assembled sequences: 298937 \n"
     ]
    }
   ],
   "source": [
    "F = file.path(work_dir, 'assembly', 'plass', 'genes.faa')\n",
    "cmd = glue::glue('grep -c \">\" {fasta}', fasta=F)\n",
    "n_raw_seqs = system(cmd, intern=TRUE)\n",
    "cat('Number of assembled sequences:', n_raw_seqs, '\\n')"
   ]
  },
  {
   "cell_type": "code",
   "execution_count": 9,
   "metadata": {
    "ExecuteTime": {
     "end_time": "2019-09-22T05:17:03.551422Z",
     "start_time": "2019-09-22T05:17:03.375Z"
    }
   },
   "outputs": [
    {
     "name": "stdout",
     "output_type": "stream",
     "text": [
      "Number of cluster rep sequences: 252663 \n"
     ]
    }
   ],
   "source": [
    "F = file.path(work_dir, 'cluster', 'linclust', 'clusters_rep-seqs.faa')\n",
    "cmd = glue::glue('grep -c \">\" {fasta}', fasta=F)\n",
    "n_rep_seqs = system(cmd, intern=TRUE)\n",
    "cat('Number of cluster rep sequences:', n_rep_seqs, '\\n')"
   ]
  },
  {
   "cell_type": "code",
   "execution_count": 10,
   "metadata": {
    "ExecuteTime": {
     "end_time": "2019-09-22T05:17:03.950022Z",
     "start_time": "2019-09-22T05:17:03.830Z"
    }
   },
   "outputs": [
    {
     "name": "stdout",
     "output_type": "stream",
     "text": [
      "Number of humann2_db-formatted seqs: 14396 \n"
     ]
    }
   ],
   "source": [
    "F = file.path(work_dir, 'humann2_db', 'clusters_rep-seqs.faa.gz')\n",
    "cmd = glue::glue('gunzip -c {fasta} | grep -c \">\"', fasta=F)\n",
    "n_h2_seqs = system(cmd, intern=TRUE)\n",
    "cat('Number of humann2_db-formatted seqs:', n_h2_seqs, '\\n')"
   ]
  },
  {
   "cell_type": "markdown",
   "metadata": {},
   "source": [
    "## Taxonomy"
   ]
  },
  {
   "cell_type": "code",
   "execution_count": 11,
   "metadata": {
    "ExecuteTime": {
     "end_time": "2019-09-22T05:17:10.146640Z",
     "start_time": "2019-09-22T05:17:06.126Z"
    }
   },
   "outputs": [
    {
     "name": "stderr",
     "output_type": "stream",
     "text": [
      "Warning message:\n",
      "“Expected 7 pieces. Additional pieces discarded in 5514 rows [3, 175, 200, 222, 266, 293, 339, 341, 350, 355, 396, 465, 684, 712, 713, 763, 765, 835, 866, 988, ...].”Warning message:\n",
      "“Expected 7 pieces. Missing pieces filled with `NA` in 134631 rows [2, 4, 6, 8, 9, 11, 12, 13, 14, 15, 16, 17, 18, 20, 22, 23, 24, 29, 32, 34, ...].”"
     ]
    },
    {
     "name": "stdout",
     "output_type": "stream",
     "text": [
      "[1] 252663     11\n"
     ]
    },
    {
     "data": {
      "text/html": [
       "<table>\n",
       "<thead><tr><th scope=col>seqID</th><th scope=col>taxID</th><th scope=col>rank</th><th scope=col>spp</th><th scope=col>Domain</th><th scope=col>Phylum</th><th scope=col>Class</th><th scope=col>Order</th><th scope=col>Family</th><th scope=col>Genus</th><th scope=col>Species</th></tr></thead>\n",
       "<tbody>\n",
       "\t<tr><td>20e1cd5389bf40eeb1c882b1d8102979</td><td>1917019                         </td><td>species                         </td><td>Bacillus sp. VT-16-64           </td><td>unknown                         </td><td>Firmicutes                      </td><td>Bacilli                         </td><td>Bacillales                      </td><td>Bacillaceae                     </td><td>Bacillus                        </td><td>Bacillus sp. VT-16-64           </td></tr>\n",
       "\t<tr><td>4afbe24f8e1f4ca3b85d676d023d4151</td><td>      0                         </td><td>no rank                         </td><td>unclassified                    </td><td>                                </td><td>NA                              </td><td>NA                              </td><td>NA                              </td><td>NA                              </td><td>NA                              </td><td>NA                              </td></tr>\n",
       "\t<tr><td>5c8b384bfdec4d799b3149b3e681d775</td><td>1262825                         </td><td>species                         </td><td>Clostridium sp. CAG:590         </td><td>unknown                         </td><td>Firmicutes                      </td><td>Clostridia                      </td><td>Clostridiales                   </td><td>Clostridiaceae                  </td><td>Clostridium                     </td><td>Clostridium sp. CAG             </td></tr>\n",
       "</tbody>\n",
       "</table>\n"
      ],
      "text/latex": [
       "\\begin{tabular}{r|lllllllllll}\n",
       " seqID & taxID & rank & spp & Domain & Phylum & Class & Order & Family & Genus & Species\\\\\n",
       "\\hline\n",
       "\t 20e1cd5389bf40eeb1c882b1d8102979 & 1917019                          & species                          & Bacillus sp. VT-16-64            & unknown                          & Firmicutes                       & Bacilli                          & Bacillales                       & Bacillaceae                      & Bacillus                         & Bacillus sp. VT-16-64           \\\\\n",
       "\t 4afbe24f8e1f4ca3b85d676d023d4151 &       0                          & no rank                          & unclassified                     &                                  & NA                               & NA                               & NA                               & NA                               & NA                               & NA                              \\\\\n",
       "\t 5c8b384bfdec4d799b3149b3e681d775 & 1262825                          & species                          & Clostridium sp. CAG:590          & unknown                          & Firmicutes                       & Clostridia                       & Clostridiales                    & Clostridiaceae                   & Clostridium                      & Clostridium sp. CAG             \\\\\n",
       "\\end{tabular}\n"
      ],
      "text/markdown": [
       "\n",
       "seqID | taxID | rank | spp | Domain | Phylum | Class | Order | Family | Genus | Species | \n",
       "|---|---|---|\n",
       "| 20e1cd5389bf40eeb1c882b1d8102979 | 1917019                          | species                          | Bacillus sp. VT-16-64            | unknown                          | Firmicutes                       | Bacilli                          | Bacillales                       | Bacillaceae                      | Bacillus                         | Bacillus sp. VT-16-64            | \n",
       "| 4afbe24f8e1f4ca3b85d676d023d4151 |       0                          | no rank                          | unclassified                     |                                  | NA                               | NA                               | NA                               | NA                               | NA                               | NA                               | \n",
       "| 5c8b384bfdec4d799b3149b3e681d775 | 1262825                          | species                          | Clostridium sp. CAG:590          | unknown                          | Firmicutes                       | Clostridia                       | Clostridiales                    | Clostridiaceae                   | Clostridium                      | Clostridium sp. CAG              | \n",
       "\n",
       "\n"
      ],
      "text/plain": [
       "  seqID                            taxID   rank    spp                    \n",
       "1 20e1cd5389bf40eeb1c882b1d8102979 1917019 species Bacillus sp. VT-16-64  \n",
       "2 4afbe24f8e1f4ca3b85d676d023d4151       0 no rank unclassified           \n",
       "3 5c8b384bfdec4d799b3149b3e681d775 1262825 species Clostridium sp. CAG:590\n",
       "  Domain  Phylum     Class      Order         Family         Genus      \n",
       "1 unknown Firmicutes Bacilli    Bacillales    Bacillaceae    Bacillus   \n",
       "2         NA         NA         NA            NA             NA         \n",
       "3 unknown Firmicutes Clostridia Clostridiales Clostridiaceae Clostridium\n",
       "  Species              \n",
       "1 Bacillus sp. VT-16-64\n",
       "2 NA                   \n",
       "3 Clostridium sp. CAG  "
      ]
     },
     "metadata": {},
     "output_type": "display_data"
    }
   ],
   "source": [
    "# reading in taxonomy table\n",
    "## WARING: slow\n",
    "F = file.path(work_dir, 'taxonomy', 'clusters_rep-seqs_tax_db.tsv.gz')\n",
    "cmd = glue::glue('gunzip -c {file}', file=F) \n",
    "coln = c('seqID', 'taxID', 'rank', 'spp', 'lineage')\n",
    "levs = c('Domain', 'Phylum', 'Class', 'Order', 'Family', 'Genus', 'Species')\n",
    "tax = fread(cmd, sep='\\t', header=FALSE, col.names=coln, fill=TRUE) %>%\n",
    "    separate(lineage, levs, sep=':')\n",
    "tax %>% dfhead"
   ]
  },
  {
   "cell_type": "code",
   "execution_count": 12,
   "metadata": {
    "ExecuteTime": {
     "end_time": "2019-09-22T05:17:10.204025Z",
     "start_time": "2019-09-22T05:17:06.423Z"
    }
   },
   "outputs": [
    {
     "name": "stdout",
     "output_type": "stream",
     "text": [
      "[1] 252663\n"
     ]
    }
   ],
   "source": [
    "# number of sequences\n",
    "tax$seqID %>% unique %>% length %>% print"
   ]
  },
  {
   "cell_type": "code",
   "execution_count": 13,
   "metadata": {
    "ExecuteTime": {
     "end_time": "2019-09-22T05:17:10.304464Z",
     "start_time": "2019-09-22T05:17:08.007Z"
    }
   },
   "outputs": [
    {
     "name": "stdout",
     "output_type": "stream",
     "text": [
      ".\n",
      "        class        family         genus       no rank         order \n",
      "           96            97           316        159267           187 \n",
      "    parvorder        phylum       species species group     subfamily \n",
      "            5           118         89362             7             6 \n",
      "     subgenus    subspecies      subtribe  superkingdom    superorder \n",
      "            1          1997             3          1164            10 \n",
      "        tribe      varietas \n",
      "            3            24 \n"
     ]
    }
   ],
   "source": [
    "# which ranks found?\n",
    "tax$rank %>% table %>% print"
   ]
  },
  {
   "cell_type": "code",
   "execution_count": 14,
   "metadata": {
    "ExecuteTime": {
     "end_time": "2019-09-22T05:17:16.961593Z",
     "start_time": "2019-09-22T05:17:08.149Z"
    }
   },
   "outputs": [
    {
     "data": {
      "text/plain": [
       "   Min. 1st Qu.  Median    Mean 3rd Qu.    Max. \n",
       "      1       1       1       1       1       1 "
      ]
     },
     "metadata": {},
     "output_type": "display_data"
    }
   ],
   "source": [
    "# number of classifications per seqID\n",
    "tax %>%\n",
    "    group_by(seqID) %>%\n",
    "    summarize(n = n()) %>%\n",
    "    ungroup() %>%\n",
    "    .$n %>% summary"
   ]
  },
  {
   "cell_type": "markdown",
   "metadata": {},
   "source": [
    "### Summary"
   ]
  },
  {
   "cell_type": "code",
   "execution_count": 15,
   "metadata": {
    "ExecuteTime": {
     "end_time": "2019-09-22T05:17:17.303635Z",
     "start_time": "2019-09-22T05:17:10.139Z"
    }
   },
   "outputs": [
    {
     "name": "stdout",
     "output_type": "stream",
     "text": [
      "[1] 108   3\n"
     ]
    },
    {
     "data": {
      "text/html": [
       "<table>\n",
       "<thead><tr><th scope=col>Domain</th><th scope=col>Phylum</th><th scope=col>n</th></tr></thead>\n",
       "<tbody>\n",
       "\t<tr><td>Fungi          </td><td>Ascomycota     </td><td>27             </td></tr>\n",
       "\t<tr><td>Fungi          </td><td>Basidiomycota  </td><td>68             </td></tr>\n",
       "\t<tr><td>Fungi          </td><td>Chytridiomycota</td><td>13             </td></tr>\n",
       "</tbody>\n",
       "</table>\n"
      ],
      "text/latex": [
       "\\begin{tabular}{r|lll}\n",
       " Domain & Phylum & n\\\\\n",
       "\\hline\n",
       "\t Fungi           & Ascomycota      & 27             \\\\\n",
       "\t Fungi           & Basidiomycota   & 68             \\\\\n",
       "\t Fungi           & Chytridiomycota & 13             \\\\\n",
       "\\end{tabular}\n"
      ],
      "text/markdown": [
       "\n",
       "Domain | Phylum | n | \n",
       "|---|---|---|\n",
       "| Fungi           | Ascomycota      | 27              | \n",
       "| Fungi           | Basidiomycota   | 68              | \n",
       "| Fungi           | Chytridiomycota | 13              | \n",
       "\n",
       "\n"
      ],
      "text/plain": [
       "  Domain Phylum          n \n",
       "1 Fungi  Ascomycota      27\n",
       "2 Fungi  Basidiomycota   68\n",
       "3 Fungi  Chytridiomycota 13"
      ]
     },
     "metadata": {},
     "output_type": "display_data"
    }
   ],
   "source": [
    "# summarizing taxonomy\n",
    "tax_s = tax %>%\n",
    "    filter(Domain != '',\n",
    "           Phylum != '') %>%\n",
    "    group_by(Domain, Phylum) %>%\n",
    "    summarize(n = seqID %>% unique %>% length) %>%\n",
    "    ungroup() \n",
    " \n",
    "tax_s %>% dfhead"
   ]
  },
  {
   "cell_type": "code",
   "execution_count": 21,
   "metadata": {
    "ExecuteTime": {
     "end_time": "2019-09-22T05:17:33.482394Z",
     "start_time": "2019-09-22T05:17:32.358Z"
    },
    "scrolled": false
   },
   "outputs": [
    {
     "data": {
      "image/png": "[encoded data removed]",
      "text/plain": [
       "plot without title"
      ]
     },
     "metadata": {},
     "output_type": "display_data"
    }
   ],
   "source": [
    "# plotting by phylum\n",
    "p = tax_s %>%\n",
    "    filter(n > 10) %>%\n",
    "    mutate(Phylum = Phylum %>% reorder(n)) %>%\n",
    "    ggplot(aes(Phylum, n, fill=Domain)) +\n",
    "    geom_bar(stat='identity', position='dodge') +\n",
    "    scale_y_log10() +\n",
    "    labs(y = 'No. of genes') +\n",
    "    coord_flip() +\n",
    "    theme_bw() +\n",
    "    theme(\n",
    "        axis.text.y = element_text(size=7)\n",
    "    )\n",
    "\n",
    "dims(5,7)\n",
    "plot(p)"
   ]
  },
  {
   "cell_type": "code",
   "execution_count": 17,
   "metadata": {
    "ExecuteTime": {
     "end_time": "2019-09-22T05:17:19.946713Z",
     "start_time": "2019-09-22T05:17:11.878Z"
    }
   },
   "outputs": [
    {
     "data": {
      "text/html": [
       "<table>\n",
       "<thead><tr><th scope=col>Domain</th><th scope=col>Phylum</th><th scope=col>n</th></tr></thead>\n",
       "<tbody>\n",
       "\t<tr><td>unknown                   </td><td>Firmicutes                </td><td>49525                     </td></tr>\n",
       "\t<tr><td>Metazoa                   </td><td>Chordata                  </td><td>18851                     </td></tr>\n",
       "\t<tr><td>unknown                   </td><td>Bacteroidetes             </td><td>18579                     </td></tr>\n",
       "\t<tr><td>unknown                   </td><td>Apicomplexa               </td><td> 9581                     </td></tr>\n",
       "\t<tr><td>unknown                   </td><td>Proteobacteria            </td><td> 7774                     </td></tr>\n",
       "\t<tr><td>unknown                   </td><td>unknown                   </td><td> 4046                     </td></tr>\n",
       "\t<tr><td>Viridiplantae             </td><td>Streptophyta              </td><td> 2358                     </td></tr>\n",
       "\t<tr><td>unknown                   </td><td>Actinobacteria            </td><td> 1603                     </td></tr>\n",
       "\t<tr><td>unknown                   </td><td>Spirochaetes              </td><td> 1402                     </td></tr>\n",
       "\t<tr><td>Metazoa                   </td><td>Arthropoda                </td><td> 1073                     </td></tr>\n",
       "\t<tr><td>uc_Eukaryota              </td><td>uc_Eukaryota              </td><td> 1005                     </td></tr>\n",
       "\t<tr><td>Metazoa                   </td><td>Nematoda                  </td><td>  446                     </td></tr>\n",
       "\t<tr><td>unknown                   </td><td>Chlamydiae                </td><td>  215                     </td></tr>\n",
       "\t<tr><td>unknown                   </td><td>Tenericutes               </td><td>  173                     </td></tr>\n",
       "\t<tr><td>uc_Bacteria               </td><td>uc_Bacteria               </td><td>  158                     </td></tr>\n",
       "\t<tr><td>unknown                   </td><td>Fusobacteria              </td><td>  119                     </td></tr>\n",
       "\t<tr><td>unknown                   </td><td>Planctomycetes            </td><td>   79                     </td></tr>\n",
       "\t<tr><td>unknown                   </td><td>Cyanobacteria             </td><td>   74                     </td></tr>\n",
       "\t<tr><td>unknown                   </td><td>Chloroflexi               </td><td>   70                     </td></tr>\n",
       "\t<tr><td>Fungi                     </td><td>Basidiomycota             </td><td>   68                     </td></tr>\n",
       "\t<tr><td>unknown                   </td><td>Verrucomicrobia           </td><td>   68                     </td></tr>\n",
       "\t<tr><td>unknown                   </td><td>Euryarchaeota             </td><td>   59                     </td></tr>\n",
       "\t<tr><td>unknown                   </td><td>Fibrobacteres             </td><td>   46                     </td></tr>\n",
       "\t<tr><td>unknown                   </td><td>Candidatus Melainabacteria</td><td>   34                     </td></tr>\n",
       "\t<tr><td>unknown                   </td><td>Acidobacteria             </td><td>   33                     </td></tr>\n",
       "\t<tr><td>unknown                   </td><td>Thermotogae               </td><td>   33                     </td></tr>\n",
       "\t<tr><td>Metazoa                   </td><td>unknown                   </td><td>   30                     </td></tr>\n",
       "\t<tr><td>unknown                   </td><td>Ignavibacteriae           </td><td>   30                     </td></tr>\n",
       "\t<tr><td>Metazoa                   </td><td>Cnidaria                  </td><td>   28                     </td></tr>\n",
       "\t<tr><td>Fungi                     </td><td>Ascomycota                </td><td>   27                     </td></tr>\n",
       "</tbody>\n",
       "</table>\n"
      ],
      "text/latex": [
       "\\begin{tabular}{r|lll}\n",
       " Domain & Phylum & n\\\\\n",
       "\\hline\n",
       "\t unknown                    & Firmicutes                 & 49525                     \\\\\n",
       "\t Metazoa                    & Chordata                   & 18851                     \\\\\n",
       "\t unknown                    & Bacteroidetes              & 18579                     \\\\\n",
       "\t unknown                    & Apicomplexa                &  9581                     \\\\\n",
       "\t unknown                    & Proteobacteria             &  7774                     \\\\\n",
       "\t unknown                    & unknown                    &  4046                     \\\\\n",
       "\t Viridiplantae              & Streptophyta               &  2358                     \\\\\n",
       "\t unknown                    & Actinobacteria             &  1603                     \\\\\n",
       "\t unknown                    & Spirochaetes               &  1402                     \\\\\n",
       "\t Metazoa                    & Arthropoda                 &  1073                     \\\\\n",
       "\t uc\\_Eukaryota               & uc\\_Eukaryota               &  1005                       \\\\\n",
       "\t Metazoa                    & Nematoda                   &   446                     \\\\\n",
       "\t unknown                    & Chlamydiae                 &   215                     \\\\\n",
       "\t unknown                    & Tenericutes                &   173                     \\\\\n",
       "\t uc\\_Bacteria                & uc\\_Bacteria                &   158                       \\\\\n",
       "\t unknown                    & Fusobacteria               &   119                     \\\\\n",
       "\t unknown                    & Planctomycetes             &    79                     \\\\\n",
       "\t unknown                    & Cyanobacteria              &    74                     \\\\\n",
       "\t unknown                    & Chloroflexi                &    70                     \\\\\n",
       "\t Fungi                      & Basidiomycota              &    68                     \\\\\n",
       "\t unknown                    & Verrucomicrobia            &    68                     \\\\\n",
       "\t unknown                    & Euryarchaeota              &    59                     \\\\\n",
       "\t unknown                    & Fibrobacteres              &    46                     \\\\\n",
       "\t unknown                    & Candidatus Melainabacteria &    34                     \\\\\n",
       "\t unknown                    & Acidobacteria              &    33                     \\\\\n",
       "\t unknown                    & Thermotogae                &    33                     \\\\\n",
       "\t Metazoa                    & unknown                    &    30                     \\\\\n",
       "\t unknown                    & Ignavibacteriae            &    30                     \\\\\n",
       "\t Metazoa                    & Cnidaria                   &    28                     \\\\\n",
       "\t Fungi                      & Ascomycota                 &    27                     \\\\\n",
       "\\end{tabular}\n"
      ],
      "text/markdown": [
       "\n",
       "Domain | Phylum | n | \n",
       "|---|---|---|---|---|---|---|---|---|---|---|---|---|---|---|---|---|---|---|---|---|---|---|---|---|---|---|---|---|---|\n",
       "| unknown                    | Firmicutes                 | 49525                      | \n",
       "| Metazoa                    | Chordata                   | 18851                      | \n",
       "| unknown                    | Bacteroidetes              | 18579                      | \n",
       "| unknown                    | Apicomplexa                |  9581                      | \n",
       "| unknown                    | Proteobacteria             |  7774                      | \n",
       "| unknown                    | unknown                    |  4046                      | \n",
       "| Viridiplantae              | Streptophyta               |  2358                      | \n",
       "| unknown                    | Actinobacteria             |  1603                      | \n",
       "| unknown                    | Spirochaetes               |  1402                      | \n",
       "| Metazoa                    | Arthropoda                 |  1073                      | \n",
       "| uc_Eukaryota               | uc_Eukaryota               |  1005                      | \n",
       "| Metazoa                    | Nematoda                   |   446                      | \n",
       "| unknown                    | Chlamydiae                 |   215                      | \n",
       "| unknown                    | Tenericutes                |   173                      | \n",
       "| uc_Bacteria                | uc_Bacteria                |   158                      | \n",
       "| unknown                    | Fusobacteria               |   119                      | \n",
       "| unknown                    | Planctomycetes             |    79                      | \n",
       "| unknown                    | Cyanobacteria              |    74                      | \n",
       "| unknown                    | Chloroflexi                |    70                      | \n",
       "| Fungi                      | Basidiomycota              |    68                      | \n",
       "| unknown                    | Verrucomicrobia            |    68                      | \n",
       "| unknown                    | Euryarchaeota              |    59                      | \n",
       "| unknown                    | Fibrobacteres              |    46                      | \n",
       "| unknown                    | Candidatus Melainabacteria |    34                      | \n",
       "| unknown                    | Acidobacteria              |    33                      | \n",
       "| unknown                    | Thermotogae                |    33                      | \n",
       "| Metazoa                    | unknown                    |    30                      | \n",
       "| unknown                    | Ignavibacteriae            |    30                      | \n",
       "| Metazoa                    | Cnidaria                   |    28                      | \n",
       "| Fungi                      | Ascomycota                 |    27                      | \n",
       "\n",
       "\n"
      ],
      "text/plain": [
       "   Domain        Phylum                     n    \n",
       "1  unknown       Firmicutes                 49525\n",
       "2  Metazoa       Chordata                   18851\n",
       "3  unknown       Bacteroidetes              18579\n",
       "4  unknown       Apicomplexa                 9581\n",
       "5  unknown       Proteobacteria              7774\n",
       "6  unknown       unknown                     4046\n",
       "7  Viridiplantae Streptophyta                2358\n",
       "8  unknown       Actinobacteria              1603\n",
       "9  unknown       Spirochaetes                1402\n",
       "10 Metazoa       Arthropoda                  1073\n",
       "11 uc_Eukaryota  uc_Eukaryota                1005\n",
       "12 Metazoa       Nematoda                     446\n",
       "13 unknown       Chlamydiae                   215\n",
       "14 unknown       Tenericutes                  173\n",
       "15 uc_Bacteria   uc_Bacteria                  158\n",
       "16 unknown       Fusobacteria                 119\n",
       "17 unknown       Planctomycetes                79\n",
       "18 unknown       Cyanobacteria                 74\n",
       "19 unknown       Chloroflexi                   70\n",
       "20 Fungi         Basidiomycota                 68\n",
       "21 unknown       Verrucomicrobia               68\n",
       "22 unknown       Euryarchaeota                 59\n",
       "23 unknown       Fibrobacteres                 46\n",
       "24 unknown       Candidatus Melainabacteria    34\n",
       "25 unknown       Acidobacteria                 33\n",
       "26 unknown       Thermotogae                   33\n",
       "27 Metazoa       unknown                       30\n",
       "28 unknown       Ignavibacteriae               30\n",
       "29 Metazoa       Cnidaria                      28\n",
       "30 Fungi         Ascomycota                    27"
      ]
     },
     "metadata": {},
     "output_type": "display_data"
    }
   ],
   "source": [
    "# top phyla\n",
    "tax_s %>% \n",
    "    arrange(-n) %>%\n",
    "    head(n=30)"
   ]
  },
  {
   "cell_type": "code",
   "execution_count": 18,
   "metadata": {
    "ExecuteTime": {
     "end_time": "2019-09-22T05:17:20.295499Z",
     "start_time": "2019-09-22T05:17:12.179Z"
    }
   },
   "outputs": [
    {
     "name": "stdout",
     "output_type": "stream",
     "text": [
      "[1] 200   4\n"
     ]
    },
    {
     "data": {
      "text/html": [
       "<table>\n",
       "<thead><tr><th scope=col>Domain</th><th scope=col>Phylum</th><th scope=col>Class</th><th scope=col>n</th></tr></thead>\n",
       "<tbody>\n",
       "\t<tr><td>Fungi          </td><td>Ascomycota     </td><td>Dothideomycetes</td><td>1              </td></tr>\n",
       "\t<tr><td>Fungi          </td><td>Ascomycota     </td><td>Eurotiomycetes </td><td>3              </td></tr>\n",
       "\t<tr><td>Fungi          </td><td>Ascomycota     </td><td>Orbiliomycetes </td><td>3              </td></tr>\n",
       "</tbody>\n",
       "</table>\n"
      ],
      "text/latex": [
       "\\begin{tabular}{r|llll}\n",
       " Domain & Phylum & Class & n\\\\\n",
       "\\hline\n",
       "\t Fungi           & Ascomycota      & Dothideomycetes & 1              \\\\\n",
       "\t Fungi           & Ascomycota      & Eurotiomycetes  & 3              \\\\\n",
       "\t Fungi           & Ascomycota      & Orbiliomycetes  & 3              \\\\\n",
       "\\end{tabular}\n"
      ],
      "text/markdown": [
       "\n",
       "Domain | Phylum | Class | n | \n",
       "|---|---|---|\n",
       "| Fungi           | Ascomycota      | Dothideomycetes | 1               | \n",
       "| Fungi           | Ascomycota      | Eurotiomycetes  | 3               | \n",
       "| Fungi           | Ascomycota      | Orbiliomycetes  | 3               | \n",
       "\n",
       "\n"
      ],
      "text/plain": [
       "  Domain Phylum     Class           n\n",
       "1 Fungi  Ascomycota Dothideomycetes 1\n",
       "2 Fungi  Ascomycota Eurotiomycetes  3\n",
       "3 Fungi  Ascomycota Orbiliomycetes  3"
      ]
     },
     "metadata": {},
     "output_type": "display_data"
    }
   ],
   "source": [
    "# summarizing taxonomy\n",
    "tax_s = tax %>%\n",
    "    filter(Domain != '',\n",
    "           Phylum != '',\n",
    "           Class != '') %>%\n",
    "    group_by(Domain, Phylum, Class) %>%\n",
    "    summarize(n = seqID %>% unique %>% length) %>%\n",
    "    ungroup() \n",
    " \n",
    "tax_s %>% dfhead"
   ]
  },
  {
   "cell_type": "code",
   "execution_count": 19,
   "metadata": {
    "ExecuteTime": {
     "end_time": "2019-09-22T05:17:20.356103Z",
     "start_time": "2019-09-22T05:17:13.558Z"
    }
   },
   "outputs": [
    {
     "data": {
      "text/html": [
       "<table>\n",
       "<thead><tr><th scope=col>Domain</th><th scope=col>Phylum</th><th scope=col>Class</th><th scope=col>n</th></tr></thead>\n",
       "<tbody>\n",
       "\t<tr><td>unknown              </td><td>Firmicutes           </td><td>Bacilli              </td><td>38655                </td></tr>\n",
       "\t<tr><td>Metazoa              </td><td>Chordata             </td><td>Mammalia             </td><td>17425                </td></tr>\n",
       "\t<tr><td>unknown              </td><td>Bacteroidetes        </td><td>Bacteroidia          </td><td>16288                </td></tr>\n",
       "\t<tr><td>unknown              </td><td>Apicomplexa          </td><td>Aconoidasida         </td><td> 9581                </td></tr>\n",
       "\t<tr><td>unknown              </td><td>Firmicutes           </td><td>Clostridia           </td><td> 8494                </td></tr>\n",
       "\t<tr><td>unknown              </td><td>Proteobacteria       </td><td>Alphaproteobacteria  </td><td> 4137                </td></tr>\n",
       "\t<tr><td>unknown              </td><td>unknown              </td><td>unknown              </td><td> 4034                </td></tr>\n",
       "\t<tr><td>unknown              </td><td>Proteobacteria       </td><td>Gammaproteobacteria  </td><td> 2937                </td></tr>\n",
       "\t<tr><td>Viridiplantae        </td><td>Streptophyta         </td><td>Liliopsida           </td><td> 1922                </td></tr>\n",
       "\t<tr><td>unknown              </td><td>Actinobacteria       </td><td>Actinobacteria       </td><td> 1467                </td></tr>\n",
       "\t<tr><td>unknown              </td><td>Spirochaetes         </td><td>Spirochaetia         </td><td> 1381                </td></tr>\n",
       "\t<tr><td>Metazoa              </td><td>Chordata             </td><td>unknown              </td><td> 1347                </td></tr>\n",
       "\t<tr><td>unknown              </td><td>Firmicutes           </td><td>Erysipelotrichia     </td><td> 1127                </td></tr>\n",
       "\t<tr><td>uc_Eukaryota         </td><td>uc_Eukaryota         </td><td>uc_Eukaryota         </td><td> 1005                </td></tr>\n",
       "\t<tr><td>unknown              </td><td>Bacteroidetes        </td><td>unknown              </td><td>  874                </td></tr>\n",
       "\t<tr><td>unknown              </td><td>Firmicutes           </td><td>unknown              </td><td>  684                </td></tr>\n",
       "\t<tr><td>unknown              </td><td>Bacteroidetes        </td><td>Flavobacteriia       </td><td>  650                </td></tr>\n",
       "\t<tr><td>Metazoa              </td><td>Arthropoda           </td><td>Insecta              </td><td>  585                </td></tr>\n",
       "\t<tr><td>Metazoa              </td><td>Arthropoda           </td><td>Arachnida            </td><td>  440                </td></tr>\n",
       "\t<tr><td>Viridiplantae        </td><td>Streptophyta         </td><td>unknown              </td><td>  427                </td></tr>\n",
       "\t<tr><td>unknown              </td><td>Firmicutes           </td><td>Negativicutes        </td><td>  405                </td></tr>\n",
       "\t<tr><td>unknown              </td><td>Bacteroidetes        </td><td>Cytophagia           </td><td>  361                </td></tr>\n",
       "\t<tr><td>unknown              </td><td>Proteobacteria       </td><td>Betaproteobacteria   </td><td>  346                </td></tr>\n",
       "\t<tr><td>Metazoa              </td><td>Nematoda             </td><td>Enoplea              </td><td>  265                </td></tr>\n",
       "\t<tr><td>unknown              </td><td>Bacteroidetes        </td><td>Sphingobacteriia     </td><td>  227                </td></tr>\n",
       "\t<tr><td>unknown              </td><td>Chlamydiae           </td><td>Chlamydiia           </td><td>  215                </td></tr>\n",
       "\t<tr><td>Metazoa              </td><td>Nematoda             </td><td>Chromadorea          </td><td>  181                </td></tr>\n",
       "\t<tr><td>uc_Bacteria          </td><td>uc_Bacteria          </td><td>uc_Bacteria          </td><td>  158                </td></tr>\n",
       "\t<tr><td>unknown              </td><td>Proteobacteria       </td><td>Deltaproteobacteria  </td><td>  156                </td></tr>\n",
       "\t<tr><td>unknown              </td><td>Proteobacteria       </td><td>Epsilonproteobacteria</td><td>  131                </td></tr>\n",
       "</tbody>\n",
       "</table>\n"
      ],
      "text/latex": [
       "\\begin{tabular}{r|llll}\n",
       " Domain & Phylum & Class & n\\\\\n",
       "\\hline\n",
       "\t unknown               & Firmicutes            & Bacilli               & 38655                \\\\\n",
       "\t Metazoa               & Chordata              & Mammalia              & 17425                \\\\\n",
       "\t unknown               & Bacteroidetes         & Bacteroidia           & 16288                \\\\\n",
       "\t unknown               & Apicomplexa           & Aconoidasida          &  9581                \\\\\n",
       "\t unknown               & Firmicutes            & Clostridia            &  8494                \\\\\n",
       "\t unknown               & Proteobacteria        & Alphaproteobacteria   &  4137                \\\\\n",
       "\t unknown               & unknown               & unknown               &  4034                \\\\\n",
       "\t unknown               & Proteobacteria        & Gammaproteobacteria   &  2937                \\\\\n",
       "\t Viridiplantae         & Streptophyta          & Liliopsida            &  1922                \\\\\n",
       "\t unknown               & Actinobacteria        & Actinobacteria        &  1467                \\\\\n",
       "\t unknown               & Spirochaetes          & Spirochaetia          &  1381                \\\\\n",
       "\t Metazoa               & Chordata              & unknown               &  1347                \\\\\n",
       "\t unknown               & Firmicutes            & Erysipelotrichia      &  1127                \\\\\n",
       "\t uc\\_Eukaryota          & uc\\_Eukaryota          & uc\\_Eukaryota          &  1005                  \\\\\n",
       "\t unknown               & Bacteroidetes         & unknown               &   874                \\\\\n",
       "\t unknown               & Firmicutes            & unknown               &   684                \\\\\n",
       "\t unknown               & Bacteroidetes         & Flavobacteriia        &   650                \\\\\n",
       "\t Metazoa               & Arthropoda            & Insecta               &   585                \\\\\n",
       "\t Metazoa               & Arthropoda            & Arachnida             &   440                \\\\\n",
       "\t Viridiplantae         & Streptophyta          & unknown               &   427                \\\\\n",
       "\t unknown               & Firmicutes            & Negativicutes         &   405                \\\\\n",
       "\t unknown               & Bacteroidetes         & Cytophagia            &   361                \\\\\n",
       "\t unknown               & Proteobacteria        & Betaproteobacteria    &   346                \\\\\n",
       "\t Metazoa               & Nematoda              & Enoplea               &   265                \\\\\n",
       "\t unknown               & Bacteroidetes         & Sphingobacteriia      &   227                \\\\\n",
       "\t unknown               & Chlamydiae            & Chlamydiia            &   215                \\\\\n",
       "\t Metazoa               & Nematoda              & Chromadorea           &   181                \\\\\n",
       "\t uc\\_Bacteria           & uc\\_Bacteria           & uc\\_Bacteria           &   158                  \\\\\n",
       "\t unknown               & Proteobacteria        & Deltaproteobacteria   &   156                \\\\\n",
       "\t unknown               & Proteobacteria        & Epsilonproteobacteria &   131                \\\\\n",
       "\\end{tabular}\n"
      ],
      "text/markdown": [
       "\n",
       "Domain | Phylum | Class | n | \n",
       "|---|---|---|---|---|---|---|---|---|---|---|---|---|---|---|---|---|---|---|---|---|---|---|---|---|---|---|---|---|---|\n",
       "| unknown               | Firmicutes            | Bacilli               | 38655                 | \n",
       "| Metazoa               | Chordata              | Mammalia              | 17425                 | \n",
       "| unknown               | Bacteroidetes         | Bacteroidia           | 16288                 | \n",
       "| unknown               | Apicomplexa           | Aconoidasida          |  9581                 | \n",
       "| unknown               | Firmicutes            | Clostridia            |  8494                 | \n",
       "| unknown               | Proteobacteria        | Alphaproteobacteria   |  4137                 | \n",
       "| unknown               | unknown               | unknown               |  4034                 | \n",
       "| unknown               | Proteobacteria        | Gammaproteobacteria   |  2937                 | \n",
       "| Viridiplantae         | Streptophyta          | Liliopsida            |  1922                 | \n",
       "| unknown               | Actinobacteria        | Actinobacteria        |  1467                 | \n",
       "| unknown               | Spirochaetes          | Spirochaetia          |  1381                 | \n",
       "| Metazoa               | Chordata              | unknown               |  1347                 | \n",
       "| unknown               | Firmicutes            | Erysipelotrichia      |  1127                 | \n",
       "| uc_Eukaryota          | uc_Eukaryota          | uc_Eukaryota          |  1005                 | \n",
       "| unknown               | Bacteroidetes         | unknown               |   874                 | \n",
       "| unknown               | Firmicutes            | unknown               |   684                 | \n",
       "| unknown               | Bacteroidetes         | Flavobacteriia        |   650                 | \n",
       "| Metazoa               | Arthropoda            | Insecta               |   585                 | \n",
       "| Metazoa               | Arthropoda            | Arachnida             |   440                 | \n",
       "| Viridiplantae         | Streptophyta          | unknown               |   427                 | \n",
       "| unknown               | Firmicutes            | Negativicutes         |   405                 | \n",
       "| unknown               | Bacteroidetes         | Cytophagia            |   361                 | \n",
       "| unknown               | Proteobacteria        | Betaproteobacteria    |   346                 | \n",
       "| Metazoa               | Nematoda              | Enoplea               |   265                 | \n",
       "| unknown               | Bacteroidetes         | Sphingobacteriia      |   227                 | \n",
       "| unknown               | Chlamydiae            | Chlamydiia            |   215                 | \n",
       "| Metazoa               | Nematoda              | Chromadorea           |   181                 | \n",
       "| uc_Bacteria           | uc_Bacteria           | uc_Bacteria           |   158                 | \n",
       "| unknown               | Proteobacteria        | Deltaproteobacteria   |   156                 | \n",
       "| unknown               | Proteobacteria        | Epsilonproteobacteria |   131                 | \n",
       "\n",
       "\n"
      ],
      "text/plain": [
       "   Domain        Phylum         Class                 n    \n",
       "1  unknown       Firmicutes     Bacilli               38655\n",
       "2  Metazoa       Chordata       Mammalia              17425\n",
       "3  unknown       Bacteroidetes  Bacteroidia           16288\n",
       "4  unknown       Apicomplexa    Aconoidasida           9581\n",
       "5  unknown       Firmicutes     Clostridia             8494\n",
       "6  unknown       Proteobacteria Alphaproteobacteria    4137\n",
       "7  unknown       unknown        unknown                4034\n",
       "8  unknown       Proteobacteria Gammaproteobacteria    2937\n",
       "9  Viridiplantae Streptophyta   Liliopsida             1922\n",
       "10 unknown       Actinobacteria Actinobacteria         1467\n",
       "11 unknown       Spirochaetes   Spirochaetia           1381\n",
       "12 Metazoa       Chordata       unknown                1347\n",
       "13 unknown       Firmicutes     Erysipelotrichia       1127\n",
       "14 uc_Eukaryota  uc_Eukaryota   uc_Eukaryota           1005\n",
       "15 unknown       Bacteroidetes  unknown                 874\n",
       "16 unknown       Firmicutes     unknown                 684\n",
       "17 unknown       Bacteroidetes  Flavobacteriia          650\n",
       "18 Metazoa       Arthropoda     Insecta                 585\n",
       "19 Metazoa       Arthropoda     Arachnida               440\n",
       "20 Viridiplantae Streptophyta   unknown                 427\n",
       "21 unknown       Firmicutes     Negativicutes           405\n",
       "22 unknown       Bacteroidetes  Cytophagia              361\n",
       "23 unknown       Proteobacteria Betaproteobacteria      346\n",
       "24 Metazoa       Nematoda       Enoplea                 265\n",
       "25 unknown       Bacteroidetes  Sphingobacteriia        227\n",
       "26 unknown       Chlamydiae     Chlamydiia              215\n",
       "27 Metazoa       Nematoda       Chromadorea             181\n",
       "28 uc_Bacteria   uc_Bacteria    uc_Bacteria             158\n",
       "29 unknown       Proteobacteria Deltaproteobacteria     156\n",
       "30 unknown       Proteobacteria Epsilonproteobacteria   131"
      ]
     },
     "metadata": {},
     "output_type": "display_data"
    }
   ],
   "source": [
    "# top hits\n",
    "tax_s %>% \n",
    "    arrange(-n) %>%\n",
    "    head(n=30)"
   ]
  },
  {
   "cell_type": "markdown",
   "metadata": {},
   "source": [
    "## Annotations"
   ]
  },
  {
   "cell_type": "code",
   "execution_count": 38,
   "metadata": {
    "ExecuteTime": {
     "end_time": "2019-09-22T05:19:18.148297Z",
     "start_time": "2019-09-22T05:19:18.094Z"
    }
   },
   "outputs": [],
   "source": [
    "# eggnog-mapper v2\n",
    "cols = c(\n",
    "\"query_name\",\n",
    "\"seed_eggNOG_ortholog\",\n",
    "\"seed_ortholog_evalue\",\n",
    "\"seed_ortholog_score\",\n",
    "\"Predicted_taxonomic_group\",\n",
    "\"Predicted_protein_name\",\n",
    "\"Gene_Ontology_terms\",\n",
    "\"EC_number\",\n",
    "\"KEGG_ko\",\n",
    "\"KEGG_Pathway\",\n",
    "\"KEGG_Module\",\n",
    "\"KEGG_Reaction\",\n",
    "\"KEGG_rclass\",\n",
    "\"BRITE\",\n",
    "\"KEGG_TC\",\n",
    "\"CAZy\",\n",
    "\"BiGG_Reaction\",\n",
    "\"tax_scope__eggNOG_taxonomic_level_used_for_annotation\",\n",
    "\"eggNOG_OGs\",\n",
    "\"bestOG\",\n",
    "\"COG_Functional_Category\",\n",
    "\"eggNOG_free_text_description\"\n",
    ")"
   ]
  },
  {
   "cell_type": "code",
   "execution_count": 39,
   "metadata": {
    "ExecuteTime": {
     "end_time": "2019-09-22T05:19:31.130057Z",
     "start_time": "2019-09-22T05:19:29.845Z"
    }
   },
   "outputs": [
    {
     "name": "stdout",
     "output_type": "stream",
     "text": [
      "[1] 90853    21\n"
     ]
    },
    {
     "data": {
      "text/html": [
       "<table>\n",
       "<thead><tr><th scope=col>query_name</th><th scope=col>seed_eggNOG_ortholog</th><th scope=col>seed_ortholog_evalue</th><th scope=col>seed_ortholog_score</th><th scope=col>Predicted_taxonomic_group</th><th scope=col>Predicted_protein_name</th><th scope=col>EC_number</th><th scope=col>KEGG_ko</th><th scope=col>KEGG_Pathway</th><th scope=col>KEGG_Module</th><th scope=col>⋯</th><th scope=col>KEGG_rclass</th><th scope=col>BRITE</th><th scope=col>KEGG_TC</th><th scope=col>CAZy</th><th scope=col>BiGG_Reaction</th><th scope=col>tax_scope__eggNOG_taxonomic_level_used_for_annotation</th><th scope=col>eggNOG_OGs</th><th scope=col>bestOG</th><th scope=col>COG_Functional_Category</th><th scope=col>eggNOG_free_text_description</th></tr></thead>\n",
       "<tbody>\n",
       "\t<tr><td>75c7f7cb6bd24fff88ab1a4241d41ce1                                                        </td><td>9940.ENSOARP00000008471                                                                 </td><td>3.4e-10                                                                                 </td><td> 71.2                                                                                   </td><td>Mammalia                                                                                </td><td>                                                                                        </td><td>                                                                                        </td><td>                                                                                        </td><td>                                                                                        </td><td>                                                                                        </td><td>⋯                                                                                       </td><td>                                                                                        </td><td>                                                                                        </td><td>                                                                                        </td><td>                                                                                        </td><td>                                                                                        </td><td>Mammalia                                                                                </td><td>2CYH8@1,2S4DW@2759,3A40G@33154,3BRJM@33208,3D8J1@33213,3JIB6@40674,48FMS@7711,49CYJ@7742</td><td>NA|NA|NA                                                                                </td><td>S                                                                                       </td><td>Sphaeroforma arctica JP610                                                              </td></tr>\n",
       "\t<tr><td>f19b34e5907341d49b73b1338f4d88ec                                                        </td><td>1215915.BN193_07515                                                                     </td><td>1.8e-69                                                                                 </td><td>268.9                                                                                   </td><td>Lactococcus                                                                             </td><td>ypmS                                                                                    </td><td>                                                                                        </td><td>                                                                                        </td><td>                                                                                        </td><td>                                                                                        </td><td>⋯                                                                                       </td><td>                                                                                        </td><td>                                                                                        </td><td>                                                                                        </td><td>                                                                                        </td><td>                                                                                        </td><td>Bacteria                                                                                </td><td>1VF0K@1239,1YBQ3@1357,4HIYN@91061,COG4698@1,COG4698@2                                   </td><td>NA|NA|NA                                                                                </td><td>S                                                                                       </td><td>Uncharacterized protein conserved in bacteria (DUF2140)                                 </td></tr>\n",
       "\t<tr><td>fe79779a321a4826aec86fc6dd1f05c5                                                        </td><td>1226322.HMPREF1545_03615                                                                </td><td>4.8e-19                                                                                 </td><td>100.1                                                                                   </td><td>Oscillospiraceae                                                                        </td><td>tmk                                                                                     </td><td>2.1.1.45,2.7.4.9,4.1.1.19                                                               </td><td>ko:K00560,ko:K00943,ko:K01585                                                           </td><td>ko00240,ko00330,ko00670,ko01100,ko01523,map00240,map00330,map00670,map01100,map01523    </td><td>M00053,M00133                                                                           </td><td>⋯                                                                                       </td><td>RC00002,RC00219,RC00299,RC00332                                                         </td><td>ko00000,ko00001,ko00002,ko01000                                                         </td><td>                                                                                        </td><td>                                                                                        </td><td>iHN637.CLJU_RS00680,iNJ661.Rv3247c                                                      </td><td>Bacteria                                                                                </td><td>1V2D5@1239,25MZ4@186801,2N6QQ@216572,COG0125@1,COG0125@2                                </td><td>NA|NA|NA                                                                                </td><td>F                                                                                       </td><td>Thymidylate kinase                                                                      </td></tr>\n",
       "</tbody>\n",
       "</table>\n"
      ],
      "text/latex": [
       "\\begin{tabular}{r|lllllllllllllllllllll}\n",
       " query\\_name & seed\\_eggNOG\\_ortholog & seed\\_ortholog\\_evalue & seed\\_ortholog\\_score & Predicted\\_taxonomic\\_group & Predicted\\_protein\\_name & EC\\_number & KEGG\\_ko & KEGG\\_Pathway & KEGG\\_Module & ⋯ & KEGG\\_rclass & BRITE & KEGG\\_TC & CAZy & BiGG\\_Reaction & tax\\_scope\\_\\_eggNOG\\_taxonomic\\_level\\_used\\_for\\_annotation & eggNOG\\_OGs & bestOG & COG\\_Functional\\_Category & eggNOG\\_free\\_text\\_description\\\\\n",
       "\\hline\n",
       "\t 75c7f7cb6bd24fff88ab1a4241d41ce1                                                         & 9940.ENSOARP00000008471                                                                  & 3.4e-10                                                                                  &  71.2                                                                                    & Mammalia                                                                                 &                                                                                          &                                                                                          &                                                                                          &                                                                                          &                                                                                          & ⋯                                                                                        &                                                                                          &                                                                                          &                                                                                          &                                                                                          &                                                                                          & Mammalia                                                                                 & 2CYH8@1,2S4DW@2759,3A40G@33154,3BRJM@33208,3D8J1@33213,3JIB6@40674,48FMS@7711,49CYJ@7742 & NA\\textbar{}NA\\textbar{}NA                                                             & S                                                                                        & Sphaeroforma arctica JP610                                                              \\\\\n",
       "\t f19b34e5907341d49b73b1338f4d88ec                                                         & 1215915.BN193\\_07515                                                                    & 1.8e-69                                                                                  & 268.9                                                                                    & Lactococcus                                                                              & ypmS                                                                                     &                                                                                          &                                                                                          &                                                                                          &                                                                                          & ⋯                                                                                        &                                                                                          &                                                                                          &                                                                                          &                                                                                          &                                                                                          & Bacteria                                                                                 & 1VF0K@1239,1YBQ3@1357,4HIYN@91061,COG4698@1,COG4698@2                                    & NA\\textbar{}NA\\textbar{}NA                                                             & S                                                                                        & Uncharacterized protein conserved in bacteria (DUF2140)                                 \\\\\n",
       "\t fe79779a321a4826aec86fc6dd1f05c5                                                         & 1226322.HMPREF1545\\_03615                                                               & 4.8e-19                                                                                  & 100.1                                                                                    & Oscillospiraceae                                                                         & tmk                                                                                      & 2.1.1.45,2.7.4.9,4.1.1.19                                                                & ko:K00560,ko:K00943,ko:K01585                                                            & ko00240,ko00330,ko00670,ko01100,ko01523,map00240,map00330,map00670,map01100,map01523     & M00053,M00133                                                                            & ⋯                                                                                        & RC00002,RC00219,RC00299,RC00332                                                          & ko00000,ko00001,ko00002,ko01000                                                          &                                                                                          &                                                                                          & iHN637.CLJU\\_RS00680,iNJ661.Rv3247c                                                     & Bacteria                                                                                 & 1V2D5@1239,25MZ4@186801,2N6QQ@216572,COG0125@1,COG0125@2                                 & NA\\textbar{}NA\\textbar{}NA                                                             & F                                                                                        & Thymidylate kinase                                                                      \\\\\n",
       "\\end{tabular}\n"
      ],
      "text/markdown": [
       "\n",
       "query_name | seed_eggNOG_ortholog | seed_ortholog_evalue | seed_ortholog_score | Predicted_taxonomic_group | Predicted_protein_name | EC_number | KEGG_ko | KEGG_Pathway | KEGG_Module | ⋯ | KEGG_rclass | BRITE | KEGG_TC | CAZy | BiGG_Reaction | tax_scope__eggNOG_taxonomic_level_used_for_annotation | eggNOG_OGs | bestOG | COG_Functional_Category | eggNOG_free_text_description | \n",
       "|---|---|---|\n",
       "| 75c7f7cb6bd24fff88ab1a4241d41ce1                                                         | 9940.ENSOARP00000008471                                                                  | 3.4e-10                                                                                  |  71.2                                                                                    | Mammalia                                                                                 |                                                                                          |                                                                                          |                                                                                          |                                                                                          |                                                                                          | ⋯                                                                                        |                                                                                          |                                                                                          |                                                                                          |                                                                                          |                                                                                          | Mammalia                                                                                 | 2CYH8@1,2S4DW@2759,3A40G@33154,3BRJM@33208,3D8J1@33213,3JIB6@40674,48FMS@7711,49CYJ@7742 | NA|NA|NA                                                                                 | S                                                                                        | Sphaeroforma arctica JP610                                                               | \n",
       "| f19b34e5907341d49b73b1338f4d88ec                                                         | 1215915.BN193_07515                                                                      | 1.8e-69                                                                                  | 268.9                                                                                    | Lactococcus                                                                              | ypmS                                                                                     |                                                                                          |                                                                                          |                                                                                          |                                                                                          | ⋯                                                                                        |                                                                                          |                                                                                          |                                                                                          |                                                                                          |                                                                                          | Bacteria                                                                                 | 1VF0K@1239,1YBQ3@1357,4HIYN@91061,COG4698@1,COG4698@2                                    | NA|NA|NA                                                                                 | S                                                                                        | Uncharacterized protein conserved in bacteria (DUF2140)                                  | \n",
       "| fe79779a321a4826aec86fc6dd1f05c5                                                         | 1226322.HMPREF1545_03615                                                                 | 4.8e-19                                                                                  | 100.1                                                                                    | Oscillospiraceae                                                                         | tmk                                                                                      | 2.1.1.45,2.7.4.9,4.1.1.19                                                                | ko:K00560,ko:K00943,ko:K01585                                                            | ko00240,ko00330,ko00670,ko01100,ko01523,map00240,map00330,map00670,map01100,map01523     | M00053,M00133                                                                            | ⋯                                                                                        | RC00002,RC00219,RC00299,RC00332                                                          | ko00000,ko00001,ko00002,ko01000                                                          |                                                                                          |                                                                                          | iHN637.CLJU_RS00680,iNJ661.Rv3247c                                                       | Bacteria                                                                                 | 1V2D5@1239,25MZ4@186801,2N6QQ@216572,COG0125@1,COG0125@2                                 | NA|NA|NA                                                                                 | F                                                                                        | Thymidylate kinase                                                                       | \n",
       "\n",
       "\n"
      ],
      "text/plain": [
       "  query_name                       seed_eggNOG_ortholog    \n",
       "1 75c7f7cb6bd24fff88ab1a4241d41ce1 9940.ENSOARP00000008471 \n",
       "2 f19b34e5907341d49b73b1338f4d88ec 1215915.BN193_07515     \n",
       "3 fe79779a321a4826aec86fc6dd1f05c5 1226322.HMPREF1545_03615\n",
       "  seed_ortholog_evalue seed_ortholog_score Predicted_taxonomic_group\n",
       "1 3.4e-10               71.2               Mammalia                 \n",
       "2 1.8e-69              268.9               Lactococcus              \n",
       "3 4.8e-19              100.1               Oscillospiraceae         \n",
       "  Predicted_protein_name EC_number                \n",
       "1                                                 \n",
       "2 ypmS                                            \n",
       "3 tmk                    2.1.1.45,2.7.4.9,4.1.1.19\n",
       "  KEGG_ko                      \n",
       "1                              \n",
       "2                              \n",
       "3 ko:K00560,ko:K00943,ko:K01585\n",
       "  KEGG_Pathway                                                                        \n",
       "1                                                                                     \n",
       "2                                                                                     \n",
       "3 ko00240,ko00330,ko00670,ko01100,ko01523,map00240,map00330,map00670,map01100,map01523\n",
       "  KEGG_Module   ⋯ KEGG_rclass                    \n",
       "1               ⋯                                \n",
       "2               ⋯                                \n",
       "3 M00053,M00133 ⋯ RC00002,RC00219,RC00299,RC00332\n",
       "  BRITE                           KEGG_TC CAZy\n",
       "1                                             \n",
       "2                                             \n",
       "3 ko00000,ko00001,ko00002,ko01000             \n",
       "  BiGG_Reaction                     \n",
       "1                                   \n",
       "2                                   \n",
       "3 iHN637.CLJU_RS00680,iNJ661.Rv3247c\n",
       "  tax_scope__eggNOG_taxonomic_level_used_for_annotation\n",
       "1 Mammalia                                             \n",
       "2 Bacteria                                             \n",
       "3 Bacteria                                             \n",
       "  eggNOG_OGs                                                                              \n",
       "1 2CYH8@1,2S4DW@2759,3A40G@33154,3BRJM@33208,3D8J1@33213,3JIB6@40674,48FMS@7711,49CYJ@7742\n",
       "2 1VF0K@1239,1YBQ3@1357,4HIYN@91061,COG4698@1,COG4698@2                                   \n",
       "3 1V2D5@1239,25MZ4@186801,2N6QQ@216572,COG0125@1,COG0125@2                                \n",
       "  bestOG   COG_Functional_Category\n",
       "1 NA|NA|NA S                      \n",
       "2 NA|NA|NA S                      \n",
       "3 NA|NA|NA F                      \n",
       "  eggNOG_free_text_description                           \n",
       "1 Sphaeroforma arctica JP610                             \n",
       "2 Uncharacterized protein conserved in bacteria (DUF2140)\n",
       "3 Thymidylate kinase                                     "
      ]
     },
     "metadata": {},
     "output_type": "display_data"
    }
   ],
   "source": [
    "F = file.path(work_dir, 'annotate', 'eggnog-mapper', 'clusters_rep-seqs.emapper.annotations.gz')\n",
    "cmd = glue::glue('gunzip -c {file}', file=F, header=FALSE) \n",
    "emap_annot = fread(cmd, sep='\\t') \n",
    "colnames(emap_annot) = cols\n",
    "emap_annot = emap_annot %>%\n",
    "    dplyr::select(-Gene_Ontology_terms)\n",
    "emap_annot %>% dfhead"
   ]
  },
  {
   "cell_type": "code",
   "execution_count": 40,
   "metadata": {
    "ExecuteTime": {
     "end_time": "2019-09-22T05:19:42.081741Z",
     "start_time": "2019-09-22T05:19:41.178Z"
    }
   },
   "outputs": [
    {
     "name": "stdout",
     "output_type": "stream",
     "text": [
      "[1] 90853\n",
      "[1] 90853    31\n"
     ]
    },
    {
     "data": {
      "text/html": [
       "<table>\n",
       "<thead><tr><th scope=col>query_name</th><th scope=col>seed_eggNOG_ortholog</th><th scope=col>seed_ortholog_evalue</th><th scope=col>seed_ortholog_score</th><th scope=col>Predicted_taxonomic_group</th><th scope=col>Predicted_protein_name</th><th scope=col>EC_number</th><th scope=col>KEGG_ko</th><th scope=col>KEGG_Pathway</th><th scope=col>KEGG_Module</th><th scope=col>⋯</th><th scope=col>taxID</th><th scope=col>rank</th><th scope=col>spp</th><th scope=col>Domain</th><th scope=col>Phylum</th><th scope=col>Class</th><th scope=col>Order</th><th scope=col>Family</th><th scope=col>Genus</th><th scope=col>Species</th></tr></thead>\n",
       "<tbody>\n",
       "\t<tr><td>75c7f7cb6bd24fff88ab1a4241d41ce1                                                    </td><td>9940.ENSOARP00000008471                                                             </td><td>3.4e-10                                                                             </td><td> 71.2                                                                               </td><td>Mammalia                                                                            </td><td>                                                                                    </td><td>                                                                                    </td><td>                                                                                    </td><td>                                                                                    </td><td>                                                                                    </td><td>⋯                                                                                   </td><td>   9940                                                                             </td><td>species                                                                             </td><td>Ovis aries                                                                          </td><td>Metazoa                                                                             </td><td>Chordata                                                                            </td><td>Mammalia                                                                            </td><td>unknown                                                                             </td><td>Bovidae                                                                             </td><td>Ovis                                                                                </td><td>Ovis aries                                                                          </td></tr>\n",
       "\t<tr><td>f19b34e5907341d49b73b1338f4d88ec                                                    </td><td>1215915.BN193_07515                                                                 </td><td>1.8e-69                                                                             </td><td>268.9                                                                               </td><td>Lactococcus                                                                         </td><td>ypmS                                                                                </td><td>                                                                                    </td><td>                                                                                    </td><td>                                                                                    </td><td>                                                                                    </td><td>⋯                                                                                   </td><td>   1366                                                                             </td><td>species                                                                             </td><td>Lactococcus raffinolactis                                                           </td><td>unknown                                                                             </td><td>Firmicutes                                                                          </td><td>Bacilli                                                                             </td><td>Lactobacillales                                                                     </td><td>Streptococcaceae                                                                    </td><td>Lactococcus                                                                         </td><td>Lactococcus raffinolactis                                                           </td></tr>\n",
       "\t<tr><td>fe79779a321a4826aec86fc6dd1f05c5                                                    </td><td>1226322.HMPREF1545_03615                                                            </td><td>4.8e-19                                                                             </td><td>100.1                                                                               </td><td>Oscillospiraceae                                                                    </td><td>tmk                                                                                 </td><td>2.1.1.45,2.7.4.9,4.1.1.19                                                           </td><td>ko:K00560,ko:K00943,ko:K01585                                                       </td><td>ko00240,ko00330,ko00670,ko01100,ko01523,map00240,map00330,map00670,map01100,map01523</td><td>M00053,M00133                                                                       </td><td>⋯                                                                                   </td><td>2044939                                                                             </td><td>species                                                                             </td><td>Clostridia bacterium                                                                </td><td>unknown                                                                             </td><td>Firmicutes                                                                          </td><td>Clostridia                                                                          </td><td>unknown                                                                             </td><td>unknown                                                                             </td><td>unknown                                                                             </td><td>Clostridia bacterium                                                                </td></tr>\n",
       "</tbody>\n",
       "</table>\n"
      ],
      "text/latex": [
       "\\begin{tabular}{r|lllllllllllllllllllllllllllllll}\n",
       " query\\_name & seed\\_eggNOG\\_ortholog & seed\\_ortholog\\_evalue & seed\\_ortholog\\_score & Predicted\\_taxonomic\\_group & Predicted\\_protein\\_name & EC\\_number & KEGG\\_ko & KEGG\\_Pathway & KEGG\\_Module & ⋯ & taxID & rank & spp & Domain & Phylum & Class & Order & Family & Genus & Species\\\\\n",
       "\\hline\n",
       "\t 75c7f7cb6bd24fff88ab1a4241d41ce1                                                     & 9940.ENSOARP00000008471                                                              & 3.4e-10                                                                              &  71.2                                                                                & Mammalia                                                                             &                                                                                      &                                                                                      &                                                                                      &                                                                                      &                                                                                      & ⋯                                                                                    &    9940                                                                              & species                                                                              & Ovis aries                                                                           & Metazoa                                                                              & Chordata                                                                             & Mammalia                                                                             & unknown                                                                              & Bovidae                                                                              & Ovis                                                                                 & Ovis aries                                                                          \\\\\n",
       "\t f19b34e5907341d49b73b1338f4d88ec                                                     & 1215915.BN193\\_07515                                                                & 1.8e-69                                                                              & 268.9                                                                                & Lactococcus                                                                          & ypmS                                                                                 &                                                                                      &                                                                                      &                                                                                      &                                                                                      & ⋯                                                                                    &    1366                                                                              & species                                                                              & Lactococcus raffinolactis                                                            & unknown                                                                              & Firmicutes                                                                           & Bacilli                                                                              & Lactobacillales                                                                      & Streptococcaceae                                                                     & Lactococcus                                                                          & Lactococcus raffinolactis                                                           \\\\\n",
       "\t fe79779a321a4826aec86fc6dd1f05c5                                                     & 1226322.HMPREF1545\\_03615                                                           & 4.8e-19                                                                              & 100.1                                                                                & Oscillospiraceae                                                                     & tmk                                                                                  & 2.1.1.45,2.7.4.9,4.1.1.19                                                            & ko:K00560,ko:K00943,ko:K01585                                                        & ko00240,ko00330,ko00670,ko01100,ko01523,map00240,map00330,map00670,map01100,map01523 & M00053,M00133                                                                        & ⋯                                                                                    & 2044939                                                                              & species                                                                              & Clostridia bacterium                                                                 & unknown                                                                              & Firmicutes                                                                           & Clostridia                                                                           & unknown                                                                              & unknown                                                                              & unknown                                                                              & Clostridia bacterium                                                                \\\\\n",
       "\\end{tabular}\n"
      ],
      "text/markdown": [
       "\n",
       "query_name | seed_eggNOG_ortholog | seed_ortholog_evalue | seed_ortholog_score | Predicted_taxonomic_group | Predicted_protein_name | EC_number | KEGG_ko | KEGG_Pathway | KEGG_Module | ⋯ | taxID | rank | spp | Domain | Phylum | Class | Order | Family | Genus | Species | \n",
       "|---|---|---|\n",
       "| 75c7f7cb6bd24fff88ab1a4241d41ce1                                                     | 9940.ENSOARP00000008471                                                              | 3.4e-10                                                                              |  71.2                                                                                | Mammalia                                                                             |                                                                                      |                                                                                      |                                                                                      |                                                                                      |                                                                                      | ⋯                                                                                    |    9940                                                                              | species                                                                              | Ovis aries                                                                           | Metazoa                                                                              | Chordata                                                                             | Mammalia                                                                             | unknown                                                                              | Bovidae                                                                              | Ovis                                                                                 | Ovis aries                                                                           | \n",
       "| f19b34e5907341d49b73b1338f4d88ec                                                     | 1215915.BN193_07515                                                                  | 1.8e-69                                                                              | 268.9                                                                                | Lactococcus                                                                          | ypmS                                                                                 |                                                                                      |                                                                                      |                                                                                      |                                                                                      | ⋯                                                                                    |    1366                                                                              | species                                                                              | Lactococcus raffinolactis                                                            | unknown                                                                              | Firmicutes                                                                           | Bacilli                                                                              | Lactobacillales                                                                      | Streptococcaceae                                                                     | Lactococcus                                                                          | Lactococcus raffinolactis                                                            | \n",
       "| fe79779a321a4826aec86fc6dd1f05c5                                                     | 1226322.HMPREF1545_03615                                                             | 4.8e-19                                                                              | 100.1                                                                                | Oscillospiraceae                                                                     | tmk                                                                                  | 2.1.1.45,2.7.4.9,4.1.1.19                                                            | ko:K00560,ko:K00943,ko:K01585                                                        | ko00240,ko00330,ko00670,ko01100,ko01523,map00240,map00330,map00670,map01100,map01523 | M00053,M00133                                                                        | ⋯                                                                                    | 2044939                                                                              | species                                                                              | Clostridia bacterium                                                                 | unknown                                                                              | Firmicutes                                                                           | Clostridia                                                                           | unknown                                                                              | unknown                                                                              | unknown                                                                              | Clostridia bacterium                                                                 | \n",
       "\n",
       "\n"
      ],
      "text/plain": [
       "  query_name                       seed_eggNOG_ortholog    \n",
       "1 75c7f7cb6bd24fff88ab1a4241d41ce1 9940.ENSOARP00000008471 \n",
       "2 f19b34e5907341d49b73b1338f4d88ec 1215915.BN193_07515     \n",
       "3 fe79779a321a4826aec86fc6dd1f05c5 1226322.HMPREF1545_03615\n",
       "  seed_ortholog_evalue seed_ortholog_score Predicted_taxonomic_group\n",
       "1 3.4e-10               71.2               Mammalia                 \n",
       "2 1.8e-69              268.9               Lactococcus              \n",
       "3 4.8e-19              100.1               Oscillospiraceae         \n",
       "  Predicted_protein_name EC_number                \n",
       "1                                                 \n",
       "2 ypmS                                            \n",
       "3 tmk                    2.1.1.45,2.7.4.9,4.1.1.19\n",
       "  KEGG_ko                      \n",
       "1                              \n",
       "2                              \n",
       "3 ko:K00560,ko:K00943,ko:K01585\n",
       "  KEGG_Pathway                                                                        \n",
       "1                                                                                     \n",
       "2                                                                                     \n",
       "3 ko00240,ko00330,ko00670,ko01100,ko01523,map00240,map00330,map00670,map01100,map01523\n",
       "  KEGG_Module   ⋯ taxID   rank    spp                       Domain  Phylum    \n",
       "1               ⋯    9940 species Ovis aries                Metazoa Chordata  \n",
       "2               ⋯    1366 species Lactococcus raffinolactis unknown Firmicutes\n",
       "3 M00053,M00133 ⋯ 2044939 species Clostridia bacterium      unknown Firmicutes\n",
       "  Class      Order           Family           Genus      \n",
       "1 Mammalia   unknown         Bovidae          Ovis       \n",
       "2 Bacilli    Lactobacillales Streptococcaceae Lactococcus\n",
       "3 Clostridia unknown         unknown          unknown    \n",
       "  Species                  \n",
       "1 Ovis aries               \n",
       "2 Lactococcus raffinolactis\n",
       "3 Clostridia bacterium     "
      ]
     },
     "metadata": {},
     "output_type": "display_data"
    }
   ],
   "source": [
    "# adding taxonomy info\n",
    "intersect(emap_annot$query_name, tax$seqID) %>% length %>% print\n",
    "\n",
    "emap_annot = emap_annot %>%\n",
    "    left_join(tax, c('query_name'='seqID'))\n",
    "\n",
    "emap_annot %>% dfhead"
   ]
  },
  {
   "cell_type": "code",
   "execution_count": 45,
   "metadata": {
    "ExecuteTime": {
     "end_time": "2019-09-22T05:20:51.456970Z",
     "start_time": "2019-09-22T05:20:51.384Z"
    }
   },
   "outputs": [
    {
     "name": "stdout",
     "output_type": "stream",
     "text": [
      "Number of rep seqs with eggnog-mapper annotations: 90853 \n"
     ]
    }
   ],
   "source": [
    "n_annot_seqs = emap_annot$query_name %>% unique %>% length\n",
    "cat('Number of rep seqs with eggnog-mapper annotations:', n_annot_seqs, '\\n')"
   ]
  },
  {
   "cell_type": "markdown",
   "metadata": {},
   "source": [
    "### COG functional categories\n",
    "\n",
    "* [wiki on categories](https://ecoliwiki.org/colipedia/index.php/Clusters_of_Orthologous_Groups_%28COGs%29)"
   ]
  },
  {
   "cell_type": "code",
   "execution_count": 42,
   "metadata": {
    "ExecuteTime": {
     "end_time": "2019-09-22T05:19:58.604164Z",
     "start_time": "2019-09-22T05:19:58.081Z"
    }
   },
   "outputs": [
    {
     "name": "stderr",
     "output_type": "stream",
     "text": [
      "Warning message:\n",
      "“Expected 3 pieces. Additional pieces discarded in 468 rows [9, 79, 94, 204, 286, 474, 490, 987, 1393, 1580, 1644, 1821, 1913, 2058, 2224, 2750, 2760, 2832, 2971, 3640, ...].”Warning message:\n",
      "“Expected 3 pieces. Missing pieces filled with `NA` in 87050 rows [1, 2, 3, 4, 5, 6, 7, 8, 10, 11, 12, 13, 14, 15, 16, 17, 18, 19, 20, 21, ...].”"
     ]
    },
    {
     "name": "stdout",
     "output_type": "stream",
     "text": [
      "[1] 90383     2\n"
     ]
    },
    {
     "data": {
      "text/html": [
       "<table>\n",
       "<thead><tr><th scope=col>query_name</th><th scope=col>COG_func_cat</th></tr></thead>\n",
       "<tbody>\n",
       "\t<tr><td>75c7f7cb6bd24fff88ab1a4241d41ce1</td><td>S                               </td></tr>\n",
       "\t<tr><td>f19b34e5907341d49b73b1338f4d88ec</td><td>S                               </td></tr>\n",
       "\t<tr><td>fe79779a321a4826aec86fc6dd1f05c5</td><td>F                               </td></tr>\n",
       "</tbody>\n",
       "</table>\n"
      ],
      "text/latex": [
       "\\begin{tabular}{r|ll}\n",
       " query\\_name & COG\\_func\\_cat\\\\\n",
       "\\hline\n",
       "\t 75c7f7cb6bd24fff88ab1a4241d41ce1 & S                               \\\\\n",
       "\t f19b34e5907341d49b73b1338f4d88ec & S                               \\\\\n",
       "\t fe79779a321a4826aec86fc6dd1f05c5 & F                               \\\\\n",
       "\\end{tabular}\n"
      ],
      "text/markdown": [
       "\n",
       "query_name | COG_func_cat | \n",
       "|---|---|---|\n",
       "| 75c7f7cb6bd24fff88ab1a4241d41ce1 | S                                | \n",
       "| f19b34e5907341d49b73b1338f4d88ec | S                                | \n",
       "| fe79779a321a4826aec86fc6dd1f05c5 | F                                | \n",
       "\n",
       "\n"
      ],
      "text/plain": [
       "  query_name                       COG_func_cat\n",
       "1 75c7f7cb6bd24fff88ab1a4241d41ce1 S           \n",
       "2 f19b34e5907341d49b73b1338f4d88ec S           \n",
       "3 fe79779a321a4826aec86fc6dd1f05c5 F           "
      ]
     },
     "metadata": {},
     "output_type": "display_data"
    }
   ],
   "source": [
    "# summarizing by functional group\n",
    "max_cat = emap_annot$COG_Functional_Category %>% unique %>% sapply(nchar) %>% max\n",
    "\n",
    "emap_annot_s = emap_annot %>%\n",
    "    dplyr::select(query_name, COG_Functional_Category) %>%\n",
    "    separate(COG_Functional_Category, LETTERS[1:max_cat], sep='(?<=[A-Z])') %>%\n",
    "    gather(X, COG_func_cat, -query_name) %>%\n",
    "    filter(!is.na(COG_func_cat),\n",
    "           COG_func_cat != '') %>%\n",
    "    dplyr::select(-X) \n",
    "    \n",
    "emap_annot_s %>% dfhead"
   ]
  },
  {
   "cell_type": "code",
   "execution_count": 43,
   "metadata": {
    "ExecuteTime": {
     "end_time": "2019-09-22T05:20:11.821799Z",
     "start_time": "2019-09-22T05:20:10.945Z"
    }
   },
   "outputs": [
    {
     "data": {
      "image/png": "[encoded data removed]",
      "text/plain": [
       "plot without title"
      ]
     },
     "metadata": {},
     "output_type": "display_data"
    }
   ],
   "source": [
    "# plotting summary\n",
    "p = emap_annot_s %>%\n",
    "    ggplot(aes(COG_func_cat)) +\n",
    "    geom_bar() +\n",
    "    labs(x='COG functional category', y='No. of genes') +\n",
    "    theme_bw()\n",
    "\n",
    "dims(9,3)\n",
    "plot(p)"
   ]
  },
  {
   "cell_type": "code",
   "execution_count": 46,
   "metadata": {
    "ExecuteTime": {
     "end_time": "2019-09-22T05:20:54.967899Z",
     "start_time": "2019-09-22T05:20:54.334Z"
    }
   },
   "outputs": [
    {
     "data": {
      "image/png": "[encoded data removed]",
      "text/plain": [
       "plot without title"
      ]
     },
     "metadata": {},
     "output_type": "display_data"
    }
   ],
   "source": [
    "# plotting summary\n",
    "p = emap_annot_s %>%\n",
    "    group_by(COG_func_cat) %>%\n",
    "    summarize(perc_abund = n() / n_annot_seqs * 100) %>%\n",
    "    ungroup() %>%\n",
    "    ggplot(aes(COG_func_cat, perc_abund)) +\n",
    "    geom_bar(stat='identity') +\n",
    "    labs(x='COG functional category', y='% of all genes') +\n",
    "    theme_bw() \n",
    "\n",
    "dims(9,3)\n",
    "plot(p)"
   ]
  },
  {
   "cell_type": "markdown",
   "metadata": {},
   "source": [
    "### Grouped by taxonomy"
   ]
  },
  {
   "cell_type": "code",
   "execution_count": 48,
   "metadata": {
    "ExecuteTime": {
     "end_time": "2019-09-22T05:21:13.752715Z",
     "start_time": "2019-09-22T05:21:11.363Z"
    }
   },
   "outputs": [
    {
     "name": "stderr",
     "output_type": "stream",
     "text": [
      "Warning message:\n",
      "“Expected 3 pieces. Additional pieces discarded in 468 rows [9, 79, 94, 204, 286, 474, 490, 987, 1393, 1580, 1644, 1821, 1913, 2058, 2224, 2750, 2760, 2832, 2971, 3640, ...].”Warning message:\n",
      "“Expected 3 pieces. Missing pieces filled with `NA` in 87050 rows [1, 2, 3, 4, 5, 6, 7, 8, 10, 11, 12, 13, 14, 15, 16, 17, 18, 19, 20, 21, ...].”"
     ]
    },
    {
     "name": "stdout",
     "output_type": "stream",
     "text": [
      "[1] 90383    12\n"
     ]
    },
    {
     "data": {
      "text/html": [
       "<table>\n",
       "<thead><tr><th scope=col>query_name</th><th scope=col>COG_func_cat</th><th scope=col>taxID</th><th scope=col>rank</th><th scope=col>spp</th><th scope=col>Domain</th><th scope=col>Phylum</th><th scope=col>Class</th><th scope=col>Order</th><th scope=col>Family</th><th scope=col>Genus</th><th scope=col>Species</th></tr></thead>\n",
       "<tbody>\n",
       "\t<tr><td>75c7f7cb6bd24fff88ab1a4241d41ce1</td><td>S                               </td><td>   9940                         </td><td>species                         </td><td>Ovis aries                      </td><td>Metazoa                         </td><td>Chordata                        </td><td>Mammalia                        </td><td>unknown                         </td><td>Bovidae                         </td><td>Ovis                            </td><td>Ovis aries                      </td></tr>\n",
       "\t<tr><td>f19b34e5907341d49b73b1338f4d88ec</td><td>S                               </td><td>   1366                         </td><td>species                         </td><td>Lactococcus raffinolactis       </td><td>unknown                         </td><td>Firmicutes                      </td><td>Bacilli                         </td><td>Lactobacillales                 </td><td>Streptococcaceae                </td><td>Lactococcus                     </td><td>Lactococcus raffinolactis       </td></tr>\n",
       "\t<tr><td>fe79779a321a4826aec86fc6dd1f05c5</td><td>F                               </td><td>2044939                         </td><td>species                         </td><td>Clostridia bacterium            </td><td>unknown                         </td><td>Firmicutes                      </td><td>Clostridia                      </td><td>unknown                         </td><td>unknown                         </td><td>unknown                         </td><td>Clostridia bacterium            </td></tr>\n",
       "</tbody>\n",
       "</table>\n"
      ],
      "text/latex": [
       "\\begin{tabular}{r|llllllllllll}\n",
       " query\\_name & COG\\_func\\_cat & taxID & rank & spp & Domain & Phylum & Class & Order & Family & Genus & Species\\\\\n",
       "\\hline\n",
       "\t 75c7f7cb6bd24fff88ab1a4241d41ce1 & S                                &    9940                          & species                          & Ovis aries                       & Metazoa                          & Chordata                         & Mammalia                         & unknown                          & Bovidae                          & Ovis                             & Ovis aries                      \\\\\n",
       "\t f19b34e5907341d49b73b1338f4d88ec & S                                &    1366                          & species                          & Lactococcus raffinolactis        & unknown                          & Firmicutes                       & Bacilli                          & Lactobacillales                  & Streptococcaceae                 & Lactococcus                      & Lactococcus raffinolactis       \\\\\n",
       "\t fe79779a321a4826aec86fc6dd1f05c5 & F                                & 2044939                          & species                          & Clostridia bacterium             & unknown                          & Firmicutes                       & Clostridia                       & unknown                          & unknown                          & unknown                          & Clostridia bacterium            \\\\\n",
       "\\end{tabular}\n"
      ],
      "text/markdown": [
       "\n",
       "query_name | COG_func_cat | taxID | rank | spp | Domain | Phylum | Class | Order | Family | Genus | Species | \n",
       "|---|---|---|\n",
       "| 75c7f7cb6bd24fff88ab1a4241d41ce1 | S                                |    9940                          | species                          | Ovis aries                       | Metazoa                          | Chordata                         | Mammalia                         | unknown                          | Bovidae                          | Ovis                             | Ovis aries                       | \n",
       "| f19b34e5907341d49b73b1338f4d88ec | S                                |    1366                          | species                          | Lactococcus raffinolactis        | unknown                          | Firmicutes                       | Bacilli                          | Lactobacillales                  | Streptococcaceae                 | Lactococcus                      | Lactococcus raffinolactis        | \n",
       "| fe79779a321a4826aec86fc6dd1f05c5 | F                                | 2044939                          | species                          | Clostridia bacterium             | unknown                          | Firmicutes                       | Clostridia                       | unknown                          | unknown                          | unknown                          | Clostridia bacterium             | \n",
       "\n",
       "\n"
      ],
      "text/plain": [
       "  query_name                       COG_func_cat taxID   rank   \n",
       "1 75c7f7cb6bd24fff88ab1a4241d41ce1 S               9940 species\n",
       "2 f19b34e5907341d49b73b1338f4d88ec S               1366 species\n",
       "3 fe79779a321a4826aec86fc6dd1f05c5 F            2044939 species\n",
       "  spp                       Domain  Phylum     Class      Order          \n",
       "1 Ovis aries                Metazoa Chordata   Mammalia   unknown        \n",
       "2 Lactococcus raffinolactis unknown Firmicutes Bacilli    Lactobacillales\n",
       "3 Clostridia bacterium      unknown Firmicutes Clostridia unknown        \n",
       "  Family           Genus       Species                  \n",
       "1 Bovidae          Ovis        Ovis aries               \n",
       "2 Streptococcaceae Lactococcus Lactococcus raffinolactis\n",
       "3 unknown          unknown     Clostridia bacterium     "
      ]
     },
     "metadata": {},
     "output_type": "display_data"
    }
   ],
   "source": [
    "max_cat = emap_annot$COG_Functional_Category %>% unique %>% sapply(nchar) %>% max\n",
    "\n",
    "emap_annot_s = emap_annot %>%\n",
    "    dplyr::select(query_name, COG_Functional_Category) %>%\n",
    "    separate(COG_Functional_Category, LETTERS[1:max_cat], sep='(?<=[A-Z])') %>%\n",
    "    gather(X, COG_func_cat, -query_name) %>%\n",
    "    left_join(tax, c('query_name'='seqID')) %>%\n",
    "    filter(!is.na(COG_func_cat),\n",
    "           COG_func_cat != '') %>%\n",
    "    dplyr::select(-X) \n",
    "\n",
    "emap_annot_s %>% dfhead"
   ]
  },
  {
   "cell_type": "code",
   "execution_count": 49,
   "metadata": {
    "ExecuteTime": {
     "end_time": "2019-09-22T05:21:20.255713Z",
     "start_time": "2019-09-22T05:21:17.733Z"
    }
   },
   "outputs": [
    {
     "data": {
      "image/png": "[encoded data removed]",
      "text/plain": [
       "plot without title"
      ]
     },
     "metadata": {},
     "output_type": "display_data"
    }
   ],
   "source": [
    "# plotting summary by domain\n",
    "p = emap_annot_s %>%\n",
    "    ggplot(aes(COG_func_cat)) +\n",
    "    geom_bar() +\n",
    "    facet_wrap(~ Domain, scales='free_y') +\n",
    "    labs(x='COG functional category', y='No. of genes') +\n",
    "    theme_bw()\n",
    "\n",
    "dims(9,5)\n",
    "plot(p)"
   ]
  },
  {
   "cell_type": "code",
   "execution_count": 52,
   "metadata": {
    "ExecuteTime": {
     "end_time": "2019-09-22T05:21:47.329096Z",
     "start_time": "2019-09-22T05:21:43.595Z"
    }
   },
   "outputs": [
    {
     "data": {
      "image/png": "[encoded data removed]",
      "text/plain": [
       "plot without title"
      ]
     },
     "metadata": {},
     "output_type": "display_data"
    }
   ],
   "source": [
    "# plotting summary by phylum\n",
    "p = emap_annot_s %>%\n",
    "    group_by(Phylum) %>%\n",
    "    mutate(n = n()) %>%\n",
    "    ungroup() %>%\n",
    "    filter(n >= 1000) %>%\n",
    "    mutate(Phylum = Phylum %>% reorder(-n)) %>%\n",
    "    ggplot(aes(COG_func_cat, fill=Domain)) +\n",
    "    geom_bar() +\n",
    "    facet_wrap(~ Phylum, scales='free_y', ncol=3) +\n",
    "    labs(x='COG functional category', y='No. of genes') +\n",
    "    theme_bw()\n",
    "\n",
    "dims(10,5)\n",
    "plot(p)"
   ]
  },
  {
   "cell_type": "markdown",
   "metadata": {},
   "source": [
    "## humann2 db genes"
   ]
  },
  {
   "cell_type": "code",
   "execution_count": 53,
   "metadata": {
    "ExecuteTime": {
     "end_time": "2019-09-22T05:22:03.570626Z",
     "start_time": "2019-09-22T05:22:03.203Z"
    }
   },
   "outputs": [
    {
     "name": "stderr",
     "output_type": "stream",
     "text": [
      "Warning message:\n",
      "“Expected 2 pieces. Missing pieces filled with `NA` in 1440 rows [11, 15, 23, 29, 40, 44, 46, 68, 72, 81, 88, 93, 104, 109, 125, 126, 128, 146, 147, 153, ...].”"
     ]
    },
    {
     "name": "stdout",
     "output_type": "stream",
     "text": [
      "[1] 14396     6\n"
     ]
    },
    {
     "data": {
      "text/html": [
       "<table>\n",
       "<thead><tr><th scope=col>original_name</th><th scope=col>UniRefID</th><th scope=col>Gene_length</th><th scope=col>Genus</th><th scope=col>Species</th><th scope=col>TaxID</th></tr></thead>\n",
       "<tbody>\n",
       "\t<tr><td>5c8b384bfdec4d799b3149b3e681d775</td><td>UniRef50_J9G931                 </td><td>85                              </td><td>Clostridium                     </td><td>Clostridium_sp_CAG_590          </td><td>1262825                         </td></tr>\n",
       "\t<tr><td>499166e4dd1c4662bbf3cc9b130519c9</td><td>UniRef50_C0WLT1                 </td><td>77                              </td><td>Lactobacillus                   </td><td>Lactobacillus_dextrinicus       </td><td>1423738                         </td></tr>\n",
       "\t<tr><td>4a18c5f4827c41b992cba371ece6b48c</td><td>UniRef50_U3TI70                 </td><td>485                             </td><td>Staphylococcus                  </td><td>Staphylococcus_aureus           </td><td>1280                            </td></tr>\n",
       "</tbody>\n",
       "</table>\n"
      ],
      "text/latex": [
       "\\begin{tabular}{r|llllll}\n",
       " original\\_name & UniRefID & Gene\\_length & Genus & Species & TaxID\\\\\n",
       "\\hline\n",
       "\t 5c8b384bfdec4d799b3149b3e681d775 & UniRef50\\_J9G931                & 85                               & Clostridium                      & Clostridium\\_sp\\_CAG\\_590     & 1262825                         \\\\\n",
       "\t 499166e4dd1c4662bbf3cc9b130519c9 & UniRef50\\_C0WLT1                & 77                               & Lactobacillus                    & Lactobacillus\\_dextrinicus      & 1423738                         \\\\\n",
       "\t 4a18c5f4827c41b992cba371ece6b48c & UniRef50\\_U3TI70                & 485                              & Staphylococcus                   & Staphylococcus\\_aureus          & 1280                            \\\\\n",
       "\\end{tabular}\n"
      ],
      "text/markdown": [
       "\n",
       "original_name | UniRefID | Gene_length | Genus | Species | TaxID | \n",
       "|---|---|---|\n",
       "| 5c8b384bfdec4d799b3149b3e681d775 | UniRef50_J9G931                  | 85                               | Clostridium                      | Clostridium_sp_CAG_590           | 1262825                          | \n",
       "| 499166e4dd1c4662bbf3cc9b130519c9 | UniRef50_C0WLT1                  | 77                               | Lactobacillus                    | Lactobacillus_dextrinicus        | 1423738                          | \n",
       "| 4a18c5f4827c41b992cba371ece6b48c | UniRef50_U3TI70                  | 485                              | Staphylococcus                   | Staphylococcus_aureus            | 1280                             | \n",
       "\n",
       "\n"
      ],
      "text/plain": [
       "  original_name                    UniRefID        Gene_length Genus         \n",
       "1 5c8b384bfdec4d799b3149b3e681d775 UniRef50_J9G931 85          Clostridium   \n",
       "2 499166e4dd1c4662bbf3cc9b130519c9 UniRef50_C0WLT1 77          Lactobacillus \n",
       "3 4a18c5f4827c41b992cba371ece6b48c UniRef50_U3TI70 485         Staphylococcus\n",
       "  Species                   TaxID  \n",
       "1 Clostridium_sp_CAG_590    1262825\n",
       "2 Lactobacillus_dextrinicus 1423738\n",
       "3 Staphylococcus_aureus     1280   "
      ]
     },
     "metadata": {},
     "output_type": "display_data"
    }
   ],
   "source": [
    "# gene IDs\n",
    "F = file.path(work_dir, 'humann2_db', 'clusters_rep-seqs_annot-index.tsv')\n",
    "\n",
    "hm2 = fread(F, sep='\\t', header=TRUE) %>%\n",
    "    separate(new_name, c('UniRefID', 'Gene_length', 'Taxonomy'), sep='\\\\|') %>%\n",
    "    separate(Taxonomy, c('Genus', 'Species'), sep='\\\\.s__') %>%\n",
    "    separate(Species, c('Species', 'TaxID'), sep='__taxID') %>%\n",
    "    mutate(Genus = gsub('^g__', '', Genus))\n",
    "\n",
    "hm2 %>% dfhead"
   ]
  },
  {
   "cell_type": "code",
   "execution_count": 54,
   "metadata": {
    "ExecuteTime": {
     "end_time": "2019-09-22T05:22:11.911483Z",
     "start_time": "2019-09-22T05:22:11.365Z"
    }
   },
   "outputs": [
    {
     "name": "stdout",
     "output_type": "stream",
     "text": [
      "[1] 14396\n",
      "[1] 14396    16\n"
     ]
    },
    {
     "data": {
      "text/html": [
       "<table>\n",
       "<thead><tr><th scope=col>original_name</th><th scope=col>UniRefID</th><th scope=col>Gene_length</th><th scope=col>Genus.x</th><th scope=col>Species.x</th><th scope=col>TaxID</th><th scope=col>taxID</th><th scope=col>rank</th><th scope=col>spp</th><th scope=col>Domain</th><th scope=col>Phylum</th><th scope=col>Class</th><th scope=col>Order</th><th scope=col>Family</th><th scope=col>Genus.y</th><th scope=col>Species.y</th></tr></thead>\n",
       "<tbody>\n",
       "\t<tr><td>5c8b384bfdec4d799b3149b3e681d775   </td><td>UniRef50_J9G931                    </td><td>85                                 </td><td>Clostridium                        </td><td>Clostridium_sp_CAG_590             </td><td>1262825                            </td><td>1262825                            </td><td>species                            </td><td>Clostridium sp. CAG:590            </td><td>unknown                            </td><td>Firmicutes                         </td><td>Clostridia                         </td><td>Clostridiales                      </td><td>Clostridiaceae                     </td><td>Clostridium                        </td><td>Clostridium sp. CAG                </td></tr>\n",
       "\t<tr><td>499166e4dd1c4662bbf3cc9b130519c9   </td><td>UniRef50_C0WLT1                    </td><td>77                                 </td><td>Lactobacillus                      </td><td>Lactobacillus_dextrinicus          </td><td>1423738                            </td><td>1423738                            </td><td>no rank                            </td><td>Lactobacillus dextrinicus DSM 20335</td><td>unknown                            </td><td>Firmicutes                         </td><td>Bacilli                            </td><td>Lactobacillales                    </td><td>Lactobacillaceae                   </td><td>Lactobacillus                      </td><td>Lactobacillus dextrinicus          </td></tr>\n",
       "\t<tr><td>4a18c5f4827c41b992cba371ece6b48c   </td><td>UniRef50_U3TI70                    </td><td>485                                </td><td>Staphylococcus                     </td><td>Staphylococcus_aureus              </td><td>1280                               </td><td>   1280                            </td><td>species                            </td><td>Staphylococcus aureus              </td><td>unknown                            </td><td>Firmicutes                         </td><td>Bacilli                            </td><td>Bacillales                         </td><td>Staphylococcaceae                  </td><td>Staphylococcus                     </td><td>Staphylococcus aureus              </td></tr>\n",
       "</tbody>\n",
       "</table>\n"
      ],
      "text/latex": [
       "\\begin{tabular}{r|llllllllllllllll}\n",
       " original\\_name & UniRefID & Gene\\_length & Genus.x & Species.x & TaxID & taxID & rank & spp & Domain & Phylum & Class & Order & Family & Genus.y & Species.y\\\\\n",
       "\\hline\n",
       "\t 5c8b384bfdec4d799b3149b3e681d775    & UniRef50\\_J9G931                   & 85                                  & Clostridium                         & Clostridium\\_sp\\_CAG\\_590        & 1262825                             & 1262825                             & species                             & Clostridium sp. CAG:590             & unknown                             & Firmicutes                          & Clostridia                          & Clostridiales                       & Clostridiaceae                      & Clostridium                         & Clostridium sp. CAG                \\\\\n",
       "\t 499166e4dd1c4662bbf3cc9b130519c9    & UniRef50\\_C0WLT1                   & 77                                  & Lactobacillus                       & Lactobacillus\\_dextrinicus         & 1423738                             & 1423738                             & no rank                             & Lactobacillus dextrinicus DSM 20335 & unknown                             & Firmicutes                          & Bacilli                             & Lactobacillales                     & Lactobacillaceae                    & Lactobacillus                       & Lactobacillus dextrinicus          \\\\\n",
       "\t 4a18c5f4827c41b992cba371ece6b48c    & UniRef50\\_U3TI70                   & 485                                 & Staphylococcus                      & Staphylococcus\\_aureus             & 1280                                &    1280                             & species                             & Staphylococcus aureus               & unknown                             & Firmicutes                          & Bacilli                             & Bacillales                          & Staphylococcaceae                   & Staphylococcus                      & Staphylococcus aureus              \\\\\n",
       "\\end{tabular}\n"
      ],
      "text/markdown": [
       "\n",
       "original_name | UniRefID | Gene_length | Genus.x | Species.x | TaxID | taxID | rank | spp | Domain | Phylum | Class | Order | Family | Genus.y | Species.y | \n",
       "|---|---|---|\n",
       "| 5c8b384bfdec4d799b3149b3e681d775    | UniRef50_J9G931                     | 85                                  | Clostridium                         | Clostridium_sp_CAG_590              | 1262825                             | 1262825                             | species                             | Clostridium sp. CAG:590             | unknown                             | Firmicutes                          | Clostridia                          | Clostridiales                       | Clostridiaceae                      | Clostridium                         | Clostridium sp. CAG                 | \n",
       "| 499166e4dd1c4662bbf3cc9b130519c9    | UniRef50_C0WLT1                     | 77                                  | Lactobacillus                       | Lactobacillus_dextrinicus           | 1423738                             | 1423738                             | no rank                             | Lactobacillus dextrinicus DSM 20335 | unknown                             | Firmicutes                          | Bacilli                             | Lactobacillales                     | Lactobacillaceae                    | Lactobacillus                       | Lactobacillus dextrinicus           | \n",
       "| 4a18c5f4827c41b992cba371ece6b48c    | UniRef50_U3TI70                     | 485                                 | Staphylococcus                      | Staphylococcus_aureus               | 1280                                |    1280                             | species                             | Staphylococcus aureus               | unknown                             | Firmicutes                          | Bacilli                             | Bacillales                          | Staphylococcaceae                   | Staphylococcus                      | Staphylococcus aureus               | \n",
       "\n",
       "\n"
      ],
      "text/plain": [
       "  original_name                    UniRefID        Gene_length Genus.x       \n",
       "1 5c8b384bfdec4d799b3149b3e681d775 UniRef50_J9G931 85          Clostridium   \n",
       "2 499166e4dd1c4662bbf3cc9b130519c9 UniRef50_C0WLT1 77          Lactobacillus \n",
       "3 4a18c5f4827c41b992cba371ece6b48c UniRef50_U3TI70 485         Staphylococcus\n",
       "  Species.x                 TaxID   taxID   rank   \n",
       "1 Clostridium_sp_CAG_590    1262825 1262825 species\n",
       "2 Lactobacillus_dextrinicus 1423738 1423738 no rank\n",
       "3 Staphylococcus_aureus     1280       1280 species\n",
       "  spp                                 Domain  Phylum     Class     \n",
       "1 Clostridium sp. CAG:590             unknown Firmicutes Clostridia\n",
       "2 Lactobacillus dextrinicus DSM 20335 unknown Firmicutes Bacilli   \n",
       "3 Staphylococcus aureus               unknown Firmicutes Bacilli   \n",
       "  Order           Family            Genus.y        Species.y                \n",
       "1 Clostridiales   Clostridiaceae    Clostridium    Clostridium sp. CAG      \n",
       "2 Lactobacillales Lactobacillaceae  Lactobacillus  Lactobacillus dextrinicus\n",
       "3 Bacillales      Staphylococcaceae Staphylococcus Staphylococcus aureus    "
      ]
     },
     "metadata": {},
     "output_type": "display_data"
    }
   ],
   "source": [
    "# adding taxonomy\n",
    "intersect(hm2$original_name, tax$seqID) %>% length %>% print\n",
    "\n",
    "hm2 = hm2 %>%\n",
    "    left_join(tax, c('original_name'='seqID'))\n",
    "\n",
    "hm2 %>% dfhead"
   ]
  },
  {
   "cell_type": "markdown",
   "metadata": {},
   "source": [
    "### Summary"
   ]
  },
  {
   "cell_type": "code",
   "execution_count": 55,
   "metadata": {
    "ExecuteTime": {
     "end_time": "2019-09-22T05:22:13.750820Z",
     "start_time": "2019-09-22T05:22:13.689Z"
    }
   },
   "outputs": [
    {
     "data": {
      "text/html": [
       "8098"
      ],
      "text/latex": [
       "8098"
      ],
      "text/markdown": [
       "8098"
      ],
      "text/plain": [
       "[1] 8098"
      ]
     },
     "metadata": {},
     "output_type": "display_data"
    }
   ],
   "source": [
    "# number of unique UniRef IDs\n",
    "hm2$UniRefID %>% unique %>% length"
   ]
  },
  {
   "cell_type": "code",
   "execution_count": 56,
   "metadata": {
    "ExecuteTime": {
     "end_time": "2019-09-22T05:22:16.170108Z",
     "start_time": "2019-09-22T05:22:15.836Z"
    }
   },
   "outputs": [
    {
     "data": {
      "text/html": [
       "<table>\n",
       "<thead><tr><th scope=col>UniRefID</th><th scope=col>n</th></tr></thead>\n",
       "<tbody>\n",
       "\t<tr><td>UniRef50_W4MGS4       </td><td>630                   </td></tr>\n",
       "\t<tr><td>UniRef50_E9SV48       </td><td>386                   </td></tr>\n",
       "\t<tr><td>UniRef50_M2J5P1       </td><td>295                   </td></tr>\n",
       "\t<tr><td>UniRef50_S7YHP1       </td><td>293                   </td></tr>\n",
       "\t<tr><td>UniRef50_L8IEF3       </td><td>256                   </td></tr>\n",
       "\t<tr><td>UniRef50_C2LTN0       </td><td>206                   </td></tr>\n",
       "\t<tr><td>UniRef50_C2QL99       </td><td>156                   </td></tr>\n",
       "\t<tr><td>UniRef50_C2QLG8       </td><td>155                   </td></tr>\n",
       "\t<tr><td>UniRef50_B5TM87       </td><td>143                   </td></tr>\n",
       "\t<tr><td>UniRef50_M2HXJ3       </td><td>141                   </td></tr>\n",
       "\t<tr><td>UniRef50_U6NSK8       </td><td>130                   </td></tr>\n",
       "\t<tr><td>UniRef50_M2FMQ0       </td><td>121                   </td></tr>\n",
       "\t<tr><td>UniRef50_W5Q057       </td><td>103                   </td></tr>\n",
       "\t<tr><td>UniRef50_F1AXJ9       </td><td> 86                   </td></tr>\n",
       "\t<tr><td>UniRef50_S7YRI2       </td><td> 84                   </td></tr>\n",
       "\t<tr><td>UniRef50_W5PYW9       </td><td> 73                   </td></tr>\n",
       "\t<tr><td>UniRef50_L8IML6       </td><td> 58                   </td></tr>\n",
       "\t<tr><td>UniRef50_A0A023G702   </td><td> 52                   </td></tr>\n",
       "\t<tr><td>UniRef50_W5NLK6       </td><td> 46                   </td></tr>\n",
       "\t<tr><td>UniRef50_W7VPZ2       </td><td> 36                   </td></tr>\n",
       "\t<tr><td>UniRef50_E2NSJ2       </td><td> 30                   </td></tr>\n",
       "\t<tr><td>UniRef50_S5XP44       </td><td> 27                   </td></tr>\n",
       "\t<tr><td>UniRef50_G7PZX1       </td><td> 26                   </td></tr>\n",
       "\t<tr><td>UniRef50_UPI00020D9E09</td><td> 26                   </td></tr>\n",
       "\t<tr><td>UniRef50_L8IKR7       </td><td> 25                   </td></tr>\n",
       "\t<tr><td>UniRef50_F7BYJ7       </td><td> 24                   </td></tr>\n",
       "\t<tr><td>UniRef50_W5PVE2       </td><td> 23                   </td></tr>\n",
       "\t<tr><td>UniRef50_C0EXR1       </td><td> 22                   </td></tr>\n",
       "\t<tr><td>UniRef50_S4NVU9       </td><td> 20                   </td></tr>\n",
       "\t<tr><td>UniRef50_UPI000383DB1D</td><td> 19                   </td></tr>\n",
       "</tbody>\n",
       "</table>\n"
      ],
      "text/latex": [
       "\\begin{tabular}{r|ll}\n",
       " UniRefID & n\\\\\n",
       "\\hline\n",
       "\t UniRef50\\_W4MGS4        & 630                     \\\\\n",
       "\t UniRef50\\_E9SV48        & 386                     \\\\\n",
       "\t UniRef50\\_M2J5P1        & 295                     \\\\\n",
       "\t UniRef50\\_S7YHP1        & 293                     \\\\\n",
       "\t UniRef50\\_L8IEF3        & 256                     \\\\\n",
       "\t UniRef50\\_C2LTN0        & 206                     \\\\\n",
       "\t UniRef50\\_C2QL99        & 156                     \\\\\n",
       "\t UniRef50\\_C2QLG8        & 155                     \\\\\n",
       "\t UniRef50\\_B5TM87        & 143                     \\\\\n",
       "\t UniRef50\\_M2HXJ3        & 141                     \\\\\n",
       "\t UniRef50\\_U6NSK8        & 130                     \\\\\n",
       "\t UniRef50\\_M2FMQ0        & 121                     \\\\\n",
       "\t UniRef50\\_W5Q057        & 103                     \\\\\n",
       "\t UniRef50\\_F1AXJ9        &  86                     \\\\\n",
       "\t UniRef50\\_S7YRI2        &  84                     \\\\\n",
       "\t UniRef50\\_W5PYW9        &  73                     \\\\\n",
       "\t UniRef50\\_L8IML6        &  58                     \\\\\n",
       "\t UniRef50\\_A0A023G702    &  52                     \\\\\n",
       "\t UniRef50\\_W5NLK6        &  46                     \\\\\n",
       "\t UniRef50\\_W7VPZ2        &  36                     \\\\\n",
       "\t UniRef50\\_E2NSJ2        &  30                     \\\\\n",
       "\t UniRef50\\_S5XP44        &  27                     \\\\\n",
       "\t UniRef50\\_G7PZX1        &  26                     \\\\\n",
       "\t UniRef50\\_UPI00020D9E09 &  26                     \\\\\n",
       "\t UniRef50\\_L8IKR7        &  25                     \\\\\n",
       "\t UniRef50\\_F7BYJ7        &  24                     \\\\\n",
       "\t UniRef50\\_W5PVE2        &  23                     \\\\\n",
       "\t UniRef50\\_C0EXR1        &  22                     \\\\\n",
       "\t UniRef50\\_S4NVU9        &  20                     \\\\\n",
       "\t UniRef50\\_UPI000383DB1D &  19                     \\\\\n",
       "\\end{tabular}\n"
      ],
      "text/markdown": [
       "\n",
       "UniRefID | n | \n",
       "|---|---|---|---|---|---|---|---|---|---|---|---|---|---|---|---|---|---|---|---|---|---|---|---|---|---|---|---|---|---|\n",
       "| UniRef50_W4MGS4        | 630                    | \n",
       "| UniRef50_E9SV48        | 386                    | \n",
       "| UniRef50_M2J5P1        | 295                    | \n",
       "| UniRef50_S7YHP1        | 293                    | \n",
       "| UniRef50_L8IEF3        | 256                    | \n",
       "| UniRef50_C2LTN0        | 206                    | \n",
       "| UniRef50_C2QL99        | 156                    | \n",
       "| UniRef50_C2QLG8        | 155                    | \n",
       "| UniRef50_B5TM87        | 143                    | \n",
       "| UniRef50_M2HXJ3        | 141                    | \n",
       "| UniRef50_U6NSK8        | 130                    | \n",
       "| UniRef50_M2FMQ0        | 121                    | \n",
       "| UniRef50_W5Q057        | 103                    | \n",
       "| UniRef50_F1AXJ9        |  86                    | \n",
       "| UniRef50_S7YRI2        |  84                    | \n",
       "| UniRef50_W5PYW9        |  73                    | \n",
       "| UniRef50_L8IML6        |  58                    | \n",
       "| UniRef50_A0A023G702    |  52                    | \n",
       "| UniRef50_W5NLK6        |  46                    | \n",
       "| UniRef50_W7VPZ2        |  36                    | \n",
       "| UniRef50_E2NSJ2        |  30                    | \n",
       "| UniRef50_S5XP44        |  27                    | \n",
       "| UniRef50_G7PZX1        |  26                    | \n",
       "| UniRef50_UPI00020D9E09 |  26                    | \n",
       "| UniRef50_L8IKR7        |  25                    | \n",
       "| UniRef50_F7BYJ7        |  24                    | \n",
       "| UniRef50_W5PVE2        |  23                    | \n",
       "| UniRef50_C0EXR1        |  22                    | \n",
       "| UniRef50_S4NVU9        |  20                    | \n",
       "| UniRef50_UPI000383DB1D |  19                    | \n",
       "\n",
       "\n"
      ],
      "text/plain": [
       "   UniRefID               n  \n",
       "1  UniRef50_W4MGS4        630\n",
       "2  UniRef50_E9SV48        386\n",
       "3  UniRef50_M2J5P1        295\n",
       "4  UniRef50_S7YHP1        293\n",
       "5  UniRef50_L8IEF3        256\n",
       "6  UniRef50_C2LTN0        206\n",
       "7  UniRef50_C2QL99        156\n",
       "8  UniRef50_C2QLG8        155\n",
       "9  UniRef50_B5TM87        143\n",
       "10 UniRef50_M2HXJ3        141\n",
       "11 UniRef50_U6NSK8        130\n",
       "12 UniRef50_M2FMQ0        121\n",
       "13 UniRef50_W5Q057        103\n",
       "14 UniRef50_F1AXJ9         86\n",
       "15 UniRef50_S7YRI2         84\n",
       "16 UniRef50_W5PYW9         73\n",
       "17 UniRef50_L8IML6         58\n",
       "18 UniRef50_A0A023G702     52\n",
       "19 UniRef50_W5NLK6         46\n",
       "20 UniRef50_W7VPZ2         36\n",
       "21 UniRef50_E2NSJ2         30\n",
       "22 UniRef50_S5XP44         27\n",
       "23 UniRef50_G7PZX1         26\n",
       "24 UniRef50_UPI00020D9E09  26\n",
       "25 UniRef50_L8IKR7         25\n",
       "26 UniRef50_F7BYJ7         24\n",
       "27 UniRef50_W5PVE2         23\n",
       "28 UniRef50_C0EXR1         22\n",
       "29 UniRef50_S4NVU9         20\n",
       "30 UniRef50_UPI000383DB1D  19"
      ]
     },
     "metadata": {},
     "output_type": "display_data"
    }
   ],
   "source": [
    "# duplicate UniRef IDs\n",
    "hm2 %>%\n",
    "    group_by(UniRefID) %>%\n",
    "    summarize(n = n()) %>%\n",
    "    ungroup() %>%\n",
    "    filter(n > 1) %>%\n",
    "    arrange(-n) %>%\n",
    "    head(n=30)"
   ]
  },
  {
   "cell_type": "code",
   "execution_count": 57,
   "metadata": {
    "ExecuteTime": {
     "end_time": "2019-09-22T05:22:17.091957Z",
     "start_time": "2019-09-22T05:22:17.009Z"
    }
   },
   "outputs": [
    {
     "data": {
      "text/html": [
       "12956"
      ],
      "text/latex": [
       "12956"
      ],
      "text/markdown": [
       "12956"
      ],
      "text/plain": [
       "[1] 12956"
      ]
     },
     "metadata": {},
     "output_type": "display_data"
    }
   ],
   "source": [
    "# number of genes with a taxID\n",
    "hm2_f = hm2 %>%\n",
    "    filter(!is.na(TaxID))\n",
    "\n",
    "hm2_f %>% nrow "
   ]
  },
  {
   "cell_type": "markdown",
   "metadata": {},
   "source": [
    "#### By taxonomy"
   ]
  },
  {
   "cell_type": "code",
   "execution_count": 59,
   "metadata": {
    "ExecuteTime": {
     "end_time": "2019-09-22T05:22:24.552445Z",
     "start_time": "2019-09-22T05:22:23.418Z"
    }
   },
   "outputs": [
    {
     "data": {
      "image/png": "[encoded data removed]",
      "text/plain": [
       "plot without title"
      ]
     },
     "metadata": {},
     "output_type": "display_data"
    }
   ],
   "source": [
    "# number of UniRefIDs\n",
    "hm2_f_s = hm2_f %>%\n",
    "    group_by(Domain, Phylum) %>%\n",
    "    summarize(n = UniRefID %>% unique %>% length) %>%\n",
    "    ungroup()\n",
    "\n",
    "p = hm2_f_s %>%\n",
    "    filter(n >= 10) %>%\n",
    "    mutate(Phylum = Phylum %>% reorder(n)) %>%\n",
    "    ggplot(aes(Phylum, n, fill=Domain)) +\n",
    "    geom_bar(stat='identity', position='dodge') +\n",
    "    scale_y_log10() +\n",
    "    coord_flip() +\n",
    "    labs(y='No. of UniRef IDs') +\n",
    "    theme_bw() +\n",
    "    theme(\n",
    "        axis.text.y = element_text(size=7)\n",
    "    )\n",
    "    \n",
    "dims(5,5)\n",
    "plot(p)"
   ]
  },
  {
   "cell_type": "markdown",
   "metadata": {},
   "source": [
    "# sessionInfo"
   ]
  },
  {
   "cell_type": "code",
   "execution_count": 60,
   "metadata": {
    "ExecuteTime": {
     "end_time": "2019-09-22T05:22:27.205521Z",
     "start_time": "2019-09-22T05:22:27.065Z"
    }
   },
   "outputs": [
    {
     "data": {
      "text/plain": [
       "R version 3.4.1 (2017-06-30)\n",
       "Platform: x86_64-pc-linux-gnu (64-bit)\n",
       "Running under: Ubuntu 18.04.3 LTS\n",
       "\n",
       "Matrix products: default\n",
       "BLAS: /ebio/abt3_projects/software/miniconda3_gt4.4/envs/py3_physeq/lib/R/lib/libRblas.so\n",
       "LAPACK: /ebio/abt3_projects/software/miniconda3_gt4.4/envs/py3_physeq/lib/R/lib/libRlapack.so\n",
       "\n",
       "locale:\n",
       "[1] en_US.UTF-8\n",
       "\n",
       "attached base packages:\n",
       "[1] stats     graphics  grDevices utils     datasets  methods   base     \n",
       "\n",
       "other attached packages:\n",
       "[1] bindrcpp_0.2.2    data.table_1.11.4 ggplot2_3.0.0     tidyr_0.8.1      \n",
       "[5] dplyr_0.7.6      \n",
       "\n",
       "loaded via a namespace (and not attached):\n",
       " [1] Rcpp_0.12.17     pillar_1.2.2     compiler_3.4.1   plyr_1.8.4      \n",
       " [5] bindr_0.1.1      base64enc_0.1-3  tools_3.4.1      digest_0.6.15   \n",
       " [9] uuid_0.1-2       jsonlite_1.5     evaluate_0.10.1  tibble_1.4.2    \n",
       "[13] gtable_0.2.0     pkgconfig_2.0.1  rlang_0.2.1      IRdisplay_0.4.4 \n",
       "[17] IRkernel_0.8.12  repr_0.15.0      withr_2.1.1      stringr_1.3.1   \n",
       "[21] grid_3.4.1       tidyselect_0.2.4 glue_1.3.0       R6_2.2.2        \n",
       "[25] pbdZMQ_0.3-2     purrr_0.2.4      magrittr_1.5     scales_0.5.0    \n",
       "[29] htmltools_0.3.6  assertthat_0.2.0 colorspace_1.3-2 labeling_0.3    \n",
       "[33] stringi_1.2.3    lazyeval_0.2.1   munsell_0.5.0    crayon_1.3.4    "
      ]
     },
     "metadata": {},
     "output_type": "display_data"
    }
   ],
   "source": [
    "sessionInfo()"
   ]
  },
  {
   "cell_type": "code",
   "execution_count": null,
   "metadata": {},
   "outputs": [],
   "source": []
  }
 ],
 "metadata": {
  "kernelspec": {
   "display_name": "R [conda env:py3_physeq]",
   "language": "R",
   "name": "conda-env-py3_physeq-r"
  },
  "language_info": {
   "codemirror_mode": "r",
   "file_extension": ".r",
   "mimetype": "text/x-r-source",
   "name": "R",
   "pygments_lexer": "r",
   "version": "3.4.1"
  },
  "toc": {
   "base_numbering": 1,
   "nav_menu": {},
   "number_sections": true,
   "sideBar": true,
   "skip_h1_title": false,
   "title_cell": "Table of Contents",
   "title_sidebar": "Contents",
   "toc_cell": true,
   "toc_position": {},
   "toc_section_display": true,
   "toc_window_display": true
  }
 },
 "nbformat": 4,
 "nbformat_minor": 2
}
