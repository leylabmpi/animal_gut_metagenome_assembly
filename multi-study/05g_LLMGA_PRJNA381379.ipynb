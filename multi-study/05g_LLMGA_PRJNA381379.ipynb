{
 "cells": [
  {
   "cell_type": "markdown",
   "metadata": {
    "toc": true
   },
   "source": [
    "<h1>Table of Contents<span class=\"tocSkip\"></span></h1>\n",
    "<div class=\"toc\"><ul class=\"toc-item\"><li><span><a href=\"#Goal\" data-toc-modified-id=\"Goal-1\"><span class=\"toc-item-num\">1&nbsp;&nbsp;</span>Goal</a></span></li><li><span><a href=\"#Var\" data-toc-modified-id=\"Var-2\"><span class=\"toc-item-num\">2&nbsp;&nbsp;</span>Var</a></span></li><li><span><a href=\"#Init\" data-toc-modified-id=\"Init-3\"><span class=\"toc-item-num\">3&nbsp;&nbsp;</span>Init</a></span></li><li><span><a href=\"#LLMGA\" data-toc-modified-id=\"LLMGA-4\"><span class=\"toc-item-num\">4&nbsp;&nbsp;</span>LLMGA</a></span><ul class=\"toc-item\"><li><span><a href=\"#Setup\" data-toc-modified-id=\"Setup-4.1\"><span class=\"toc-item-num\">4.1&nbsp;&nbsp;</span>Setup</a></span></li><li><span><a href=\"#config\" data-toc-modified-id=\"config-4.2\"><span class=\"toc-item-num\">4.2&nbsp;&nbsp;</span>config</a></span></li><li><span><a href=\"#Run\" data-toc-modified-id=\"Run-4.3\"><span class=\"toc-item-num\">4.3&nbsp;&nbsp;</span>Run</a></span></li></ul></li><li><span><a href=\"#Summary\" data-toc-modified-id=\"Summary-5\"><span class=\"toc-item-num\">5&nbsp;&nbsp;</span>Summary</a></span><ul class=\"toc-item\"><li><span><a href=\"#No.-of-genomes\" data-toc-modified-id=\"No.-of-genomes-5.1\"><span class=\"toc-item-num\">5.1&nbsp;&nbsp;</span>No. of genomes</a></span></li><li><span><a href=\"#CheckM\" data-toc-modified-id=\"CheckM-5.2\"><span class=\"toc-item-num\">5.2&nbsp;&nbsp;</span>CheckM</a></span></li><li><span><a href=\"#Taxonomy\" data-toc-modified-id=\"Taxonomy-5.3\"><span class=\"toc-item-num\">5.3&nbsp;&nbsp;</span>Taxonomy</a></span><ul class=\"toc-item\"><li><span><a href=\"#Taxonomic-novelty\" data-toc-modified-id=\"Taxonomic-novelty-5.3.1\"><span class=\"toc-item-num\">5.3.1&nbsp;&nbsp;</span>Taxonomic novelty</a></span></li><li><span><a href=\"#Quality-~-taxonomy\" data-toc-modified-id=\"Quality-~-taxonomy-5.3.2\"><span class=\"toc-item-num\">5.3.2&nbsp;&nbsp;</span>Quality ~ taxonomy</a></span></li></ul></li></ul></li><li><span><a href=\"#sessionInfo\" data-toc-modified-id=\"sessionInfo-6\"><span class=\"toc-item-num\">6&nbsp;&nbsp;</span>sessionInfo</a></span></li></ul></div>"
   ]
  },
  {
   "cell_type": "markdown",
   "metadata": {},
   "source": [
    "# Goal\n",
    "\n",
    "* running `LLMGA` on metagenome datasets\n",
    "* studyID = PRJNA381379\n",
    "  * host = Kakapo"
   ]
  },
  {
   "cell_type": "markdown",
   "metadata": {},
   "source": [
    "# Var"
   ]
  },
  {
   "cell_type": "code",
   "execution_count": 1,
   "metadata": {
    "ExecuteTime": {
     "end_time": "2019-08-29T12:11:06.581282Z",
     "start_time": "2019-08-29T12:11:06.011Z"
    }
   },
   "outputs": [],
   "source": [
    "work_dir = '/ebio/abt3_projects/Georg_animal_feces/data/metagenome/multi-study/BioProjects/'\n",
    "tmp_out_dir = '/ebio/abt3_projects/databases_no-backup/animal_gut_metagenomes/multi-study_MG-asmbl/'\n",
    "pipeline_dir = '/ebio/abt3_projects/methanogen_host_evo/bin/llmga-find-refs/'\n",
    "\n",
    "studyID = 'PRJNA381379'\n",
    "threads = 24"
   ]
  },
  {
   "cell_type": "markdown",
   "metadata": {},
   "source": [
    "# Init"
   ]
  },
  {
   "cell_type": "code",
   "execution_count": 2,
   "metadata": {
    "ExecuteTime": {
     "end_time": "2019-08-29T12:11:07.829509Z",
     "start_time": "2019-08-29T12:11:06.267Z"
    }
   },
   "outputs": [
    {
     "name": "stderr",
     "output_type": "stream",
     "text": [
      "\n",
      "Attaching package: ‘dplyr’\n",
      "\n",
      "The following objects are masked from ‘package:stats’:\n",
      "\n",
      "    filter, lag\n",
      "\n",
      "The following objects are masked from ‘package:base’:\n",
      "\n",
      "    intersect, setdiff, setequal, union\n",
      "\n",
      "\n",
      "Attaching package: ‘data.table’\n",
      "\n",
      "The following objects are masked from ‘package:dplyr’:\n",
      "\n",
      "    between, first, last\n",
      "\n"
     ]
    }
   ],
   "source": [
    "library(dplyr)\n",
    "library(tidyr)\n",
    "library(ggplot2)\n",
    "library(data.table)\n",
    "set.seed(8304)\n",
    "\n",
    "source('/ebio/abt3_projects/Georg_animal_feces/code/misc_r_functions/init.R')"
   ]
  },
  {
   "cell_type": "markdown",
   "metadata": {},
   "source": [
    "# LLMGA"
   ]
  },
  {
   "cell_type": "markdown",
   "metadata": {},
   "source": [
    "## Setup"
   ]
  },
  {
   "cell_type": "code",
   "execution_count": 3,
   "metadata": {
    "ExecuteTime": {
     "end_time": "2019-08-29T12:11:09.504867Z",
     "start_time": "2019-08-29T12:11:09.163Z"
    }
   },
   "outputs": [
    {
     "name": "stdout",
     "output_type": "stream",
     "text": [
      "Created directory: /ebio/abt3_projects/databases_no-backup/animal_gut_metagenomes/multi-study_MG-asmbl//PRJNA381379 \n",
      "Created directory: /ebio/abt3_projects/databases_no-backup/animal_gut_metagenomes/multi-study_MG-asmbl//PRJNA381379/LLMGA \n"
     ]
    }
   ],
   "source": [
    "out_dir = file.path(tmp_out_dir, studyID) \n",
    "make_dir(out_dir)\n",
    "out_dir = file.path(out_dir, 'LLMGA')\n",
    "make_dir(out_dir)"
   ]
  },
  {
   "cell_type": "code",
   "execution_count": 4,
   "metadata": {
    "ExecuteTime": {
     "end_time": "2019-08-29T12:11:09.539251Z",
     "start_time": "2019-08-29T12:11:09.379Z"
    }
   },
   "outputs": [
    {
     "name": "stdout",
     "output_type": "stream",
     "text": [
      "/ebio/abt3_projects/Georg_animal_feces/data/metagenome/multi-study/BioProjects//PRJNA381379/LLMGA-find-refs/references/ref_genomes.fna"
     ]
    }
   ],
   "source": [
    "ref_genomes = file.path(work_dir, studyID, 'LLMGA-find-refs/references/ref_genomes.fna')\n",
    "cat(ref_genomes)"
   ]
  },
  {
   "cell_type": "markdown",
   "metadata": {},
   "source": [
    "## config"
   ]
  },
  {
   "cell_type": "code",
   "execution_count": 5,
   "metadata": {
    "ExecuteTime": {
     "end_time": "2019-08-29T12:12:52.867009Z",
     "start_time": "2019-08-29T12:12:52.825Z"
    }
   },
   "outputs": [
    {
     "name": "stdout",
     "output_type": "stream",
     "text": [
      "#-- I/O --#\n",
      "# table with sample --> read_file information\n",
      "samples_file: /ebio/abt3_projects/Georg_animal_feces/data/metagenome/multi-study/BioProjects/PRJNA381379/LLMGQC/final/samples.txt\n",
      "\n",
      "# output location\n",
      "output_dir: /ebio/abt3_projects/databases_no-backup/animal_gut_metagenomes/multi-study_MG-asmbl/PRJNA381379/LLMGA/\n",
      "\n",
      "#-- reference genome(s) for metacompass --#\n",
      "metacompass_ref: /ebio/abt3_projects/Georg_animal_feces/data/metagenome/multi-study/BioProjects/PRJNA381379/LLMGA-find-refs/references/ref_genomes.fna\n",
      "\n",
      "#-- database --#\n",
      "kraken2_db: /ebio/abt3_projects/databases_no-backup/kraken2/nt_db/hash.k2d\n",
      "krakenuniq_db: /ebio/abt3_projects/databases_no-backup/krakenuniq/taxonomy/nodes.dmp\n",
      "checkM_data: /ebio/abt3_projects/databases_no-backup/checkM/\n",
      "sourmash_db: /ebio/abt3_projects/databases_no-backup/sourmash/genbank-k31.sbt.json\n",
      "sourmash_lca_db: /ebio/abt3_projects/databases_no-backup/sourmash/v2/genbank-k31.lca.json.gz\n",
      "gtdbtk_db: /ebio/abt3_projects/databases_no-backup/GTDB/release89/db_info.md\n",
      "\n",
      "#-- re-running --#\n",
      "# use this to prevent re-running the assembly steps if you just need to rerun post-assembly steps\n",
      "skip_assembly: False\n",
      "\n",
      "#-- software parameters --#\n",
      "# Notes:\n",
      "## Use \"Skip\" to skip any step. If no params, just use \"\"\n",
      "## Note: You must skip either metacompass_megahit or metacompass_metaspades (or both)\n",
      "## Note: for the *_batches params, the number must be <= the number of MAGs\n",
      "## Note: using >15mil paired-end reads may not scale well!\n",
      "## Note: subsampling just applies to samples with > the number of reads\n",
      "## Note: for diff. cov. binning, you can select a certain number of samples to use (the origin sample is always used)\n",
      "params:\n",
      "  subsample_reads: 10000000\n",
      "  fastqc_on_raw: \"\"\n",
      "  \n",
      "  # metacompass\n",
      "  ## ref-based assembly; use \"Skip\" to skip the ref-based assembly\n",
      "  metacompass: \"\"\n",
      "  metacompass_buildcontig: --pickref breadth --mincov 3 -l 500 -n T -b F -u F\n",
      "  ## de-novo assembly; use \"Skip\" to skip the de-novo assembly\n",
      "  metacompass_metaspades: -k auto --only-assembler\n",
      "  metacompass_megahit: Skip       # eg., (--min-count 3 --min-contig-len 500 --presets meta-sensitive)\n",
      "  ## contig length cutoff\n",
      "  metacompass_min_contig_len: 1500            # min contig length retained\n",
      "  metacompass_derep_contigs: minidentity=100 minscaf=500 minoverlappercent=95\n",
      "  \n",
      "  # co-assembly\n",
      "  ## normalization/subsampling/dereplication\n",
      "  bbnorm_metacompass_unmapped: Skip            # eg., (target=100 k=31 minkmers=15 prefilter=t passes=1)\n",
      "  subsample_combined: Skip                     # max number of read pairs to use for co-assembly (eg., 10000000)\n",
      "  bbnorm_metacompass_unmapped_combined: Skip   # eg., (target=100 k=31 minkmers=15 prefilter=t passes=1)\n",
      "  ## co-assembly (default => Skipped)\n",
      "  coassemble_metaspades_hybrid: Skip          # eg., (-k auto --only-assembler)\n",
      "  \n",
      "  # combined, final contigs\n",
      "  combine_all_contigs: Skip                 # 'Skip' will cause all samples to be binned seperately; must not be skipped if using co-assembly\n",
      "  metaquast: --max-ref-number 0             # job run on rick to use internet if `--max-ref-number` > 0\n",
      "  contig_rename: minscaf=1500               # minscaf = scaffold length cutoff\n",
      "  cut_up_fasta: Skip                        # cutting long contigs for possibly better binning (eg., -c 20000 -o 0)\n",
      "  \n",
      "  # contig binning\n",
      "  ## mapping\n",
      "  num_map_samples: all                 # how many samples to use for differential cov. binning ('all' = all samples)\n",
      "  ### bowtie2 (more sensitive than kraken)\n",
      "  samtools: -q 0                              # -q = MAPQ cutoff\n",
      "  bam_to_depth: --percentIdentity 97\n",
      "  ### kraken (faster than bowtie2, but less sensitive)\n",
      "  kraken2: Skip #--memory-mapping\n",
      "  krakenuniq_build: --kmer-len 31 --minimizer-len 15\n",
      "  krakenuniq: --hll-precision 12\n",
      "  krakenuniq_kmer_cutoff: 1000\n",
      "  ## binning\n",
      "  ### maxbin2 (2 different binning parameters used)\n",
      "  maxbin2_low_prob: -min_contig_length 1500 -markerset 40  -prob_threshold 0.6\n",
      "  maxbin2_high_prob: -min_contig_length 1500 -markerset 40  -prob_threshold 0.8\n",
      "  ### metabat (2 different binning parameters used)\n",
      "  metabat2_low_PE: --minContig 1500 --minCV 0.5 --minCVSum 0.5  --maxP 92 --maxEdges 150 --seed 8394\n",
      "  metabat2_high_PE: --minContig 1500 --minCV 0.5 --minCVSum 0.5 --maxP 97 --maxEdges 500 --seed 8394\n",
      "  ### vamb\n",
      "  vamb: Skip #-m 1500\n",
      "  \n",
      "  # bin refinement/assessment\n",
      "  ## selecting the 'best' bins from all binning methods\n",
      "  das_tool: --search_engine diamond\n",
      "  ## bin assessment\n",
      "  bin_batches: 30                               # process MAGs in batches \n",
      "  checkm:  --tab_table\n",
      "  sourmash_compute: --scaled 10000 -k 31\n",
      "  sourmash_gather: -k 31 --dna\n",
      "  fastani_batches: 30                           # process MAGs in batches\n",
      "  fastani: --fragLen 1000 --minFrag 50 -k 16\n",
      "  gtdbtk_classify_wf: --min_perc_aa 10\n",
      "  drep: -comp 50 -con 5 -sa 99\n",
      "  ### anivo; use \"Skip\" on anvio_gen_contigs_db to skip all of anvio\n",
      "  anvio_gen_contigs_db: Skip                 # eg., (--skip-mindful-splitting --kmer-size 4) \n",
      "  anvio_run_ncbi_cogs: --cog-data-dir /ebio/abt3_projects/databases_no-backup/anvio_v4/\n",
      "  anvio_centrifuge: -x /ebio/abt3_projects/databases_no-backup/centrifuge/p+h+v\n",
      "  anvio_profile: --min-mean-coverage 0 --min-contig-length 2000 --cluster-contigs\n",
      "  anvio_merge: -S coassembly_contigs --skip-concoct-binning\n",
      "  anvio_interactive_script: -P 8080 -C DAS_Tool\n",
      "\n",
      "#-- snakemake pipeline --#\n",
      "# your username will be added automatically to the `temp_folder` path\n",
      "pipeline:\n",
      "  bwlimit: 100m                            # rsync bwlimit\n",
      "  snakemake_folder: ./\n",
      "  script_folder: bin/scripts/\n",
      "  temp_folder: /tmp/global/               \n",
      "  random_number_seed: 83421"
     ]
    }
   ],
   "source": [
    "cat_file(file.path(out_dir, 'config.yaml'))"
   ]
  },
  {
   "cell_type": "markdown",
   "metadata": {},
   "source": [
    "## Run"
   ]
  },
  {
   "cell_type": "markdown",
   "metadata": {},
   "source": [
    "```\n",
    "(snakemake_dev) @ rick:/ebio/abt3_projects/Georg_animal_feces/bin/llmga\n",
    "$ screen -L -S llmga-PRJNA381379 ./snakemake_sge.sh /ebio/abt3_projects/databases_no-backup/animal_gut_metagenomes/multi-study_MG-asmbl/PRJNA381379/LLMGA/config.yaml cluster.json /ebio/abt3_projects/databases_no-backup/animal_gut_metagenomes/multi-study_MG-asmbl/PRJNA381379/LLMGA/SGE_log 24\n",
    "```"
   ]
  },
  {
   "cell_type": "code",
   "execution_count": 6,
   "metadata": {
    "ExecuteTime": {
     "end_time": "2019-08-29T12:21:14.708471Z",
     "start_time": "2019-08-29T12:21:14.636Z"
    }
   },
   "outputs": [
    {
     "name": "stdout",
     "output_type": "stream",
     "text": [
      "LLMGA\n",
      "=====\n",
      "\n",
      "Ley Lab Metagenome Aseembly (LLMGA)\n",
      "\n",
      "* Version: 0.7.0\n",
      "* Authors:\n",
      "  * Nick Youngblut <nyoungb2@gmail.com>\n",
      "* Maintainers:\n",
      "  * Nick Youngblut <nyoungb2@gmail.com>\n",
      "\n",
      "--- conda envs ---\n",
      "==> /ebio/abt3_projects/Georg_animal_feces/bin/llmga/bin/envs/anvio.yaml <==\n",
      "channels:\n",
      "- conda-forge\n",
      "- bioconda\n",
      "dependencies:\n",
      "- pigz\n",
      "- bioconda::centrifuge\n",
      "- bioconda::anvio>=5.1.0\n",
      "==> /ebio/abt3_projects/Georg_animal_feces/bin/llmga/bin/envs/bbmap.yaml <==\n",
      "channels:\n",
      "- conda-forge\n",
      "- bioconda\n",
      "dependencies:\n",
      "- pigz\n",
      "- bioconda::bbmap=37.90\n",
      "==> /ebio/abt3_projects/Georg_animal_feces/bin/llmga/bin/envs/bowtie2.yaml <==\n",
      "channels:\n",
      "- conda-forge\n",
      "- bioconda\n",
      "dependencies:\n",
      "- pigz\n",
      "- bioconda::samtools\n",
      "- bioconda::bowtie2\n",
      "- bioconda::bedtools\n",
      "==> /ebio/abt3_projects/Georg_animal_feces/bin/llmga/bin/envs/checkm.yaml <==\n",
      "channels:\n",
      "- conda-forge\n",
      "- bioconda\n",
      "dependencies:\n",
      "- python=2\n",
      "- pigz\n",
      "- bioconda::prodigal\n",
      "- bioconda::pplacer\n",
      "- bioconda::checkm-genome\n",
      "\n",
      "==> /ebio/abt3_projects/Georg_animal_feces/bin/llmga/bin/envs/concoct.yaml <==\n",
      "channels:\n",
      "- conda-forge\n",
      "- bioconda\n",
      "dependencies:\n",
      "- pigz\n",
      "- bioconda::pysam=0.14.1\n",
      "- bioconda::concoct=0.4.0\n",
      "==> /ebio/abt3_projects/Georg_animal_feces/bin/llmga/bin/envs/coverage.yaml <==\n",
      "channels:\n",
      "- conda-forge\n",
      "- bioconda\n",
      "dependencies:\n",
      "- pigz\n",
      "- conda-forge::biopython\n",
      "- bioconda::samtools\n",
      "- bioconda::bbmap\n",
      "==> /ebio/abt3_projects/Georg_animal_feces/bin/llmga/bin/envs/das_tool.yaml <==\n",
      "channels:\n",
      "- conda-forge\n",
      "- bioconda\n",
      "- r\n",
      "dependencies:\n",
      "- pigz\n",
      "- bioconda::das_tool\n",
      "==> /ebio/abt3_projects/Georg_animal_feces/bin/llmga/bin/envs/drep.yaml <==\n",
      "channels:\n",
      "- conda-forge\n",
      "- bioconda\n",
      "dependencies:\n",
      "- pigz\n",
      "- bioconda::mash\n",
      "- bioconda::checkm-genome\n",
      "- bioconda::drep\n",
      "==> /ebio/abt3_projects/Georg_animal_feces/bin/llmga/bin/envs/fastani.yaml <==\n",
      "channels:\n",
      "- conda-forge\n",
      "- bioconda\n",
      "dependencies:\n",
      "- pigz\n",
      "- bioconda::fastani\n",
      "==> /ebio/abt3_projects/Georg_animal_feces/bin/llmga/bin/envs/fastqc.yaml <==\n",
      "channels:\n",
      "- conda-forge\n",
      "- bioconda\n",
      "dependencies:\n",
      "- bioconda::fastqc\n",
      "\n",
      "==> /ebio/abt3_projects/Georg_animal_feces/bin/llmga/bin/envs/gtdbtk.yaml <==\n",
      "channels:\n",
      "- conda-forge\n",
      "- bioconda\n",
      "dependencies:\n",
      "- pigz\n",
      "- bioconda::gtdbtk\n",
      "\n",
      "==> /ebio/abt3_projects/Georg_animal_feces/bin/llmga/bin/envs/hadley.yaml <==\n",
      "channels:\n",
      "- conda-forge\n",
      "dependencies:\n",
      "- conda-forge::r-ape\n",
      "- conda-forge::r-dplyr\n",
      "- conda-forge::r-tidyr\n",
      "- conda-forge::r-ggplot2\n",
      "\n",
      "==> /ebio/abt3_projects/Georg_animal_feces/bin/llmga/bin/envs/maxbin2.yaml <==\n",
      "channels:\n",
      "- conda-forge\n",
      "- bioconda\n",
      "dependencies:\n",
      "- pigz\n",
      "- bioconda::perl-lwp-simple\n",
      "- bioconda::maxbin2=2.2.4\n",
      "\n",
      "==> /ebio/abt3_projects/Georg_animal_feces/bin/llmga/bin/envs/megahit.yaml <==\n",
      "channels:\n",
      "- conda-forge\n",
      "- bioconda\n",
      "dependencies:\n",
      "- pigz\n",
      "- bioconda::megahit=1.1.3\n",
      "==> /ebio/abt3_projects/Georg_animal_feces/bin/llmga/bin/envs/metabat2.yaml <==\n",
      "channels:\n",
      "- BioBuilds\n",
      "- conda-forge\n",
      "- bioconda\n",
      "dependencies:\n",
      "- pigz\n",
      "- python=2.7\n",
      "- BioBuilds::boost>=1.55.0\n",
      "- scons>=2.1.0\n",
      "- zlib>=1.2.4\n",
      "- BioBuilds::binutils>=2.2.2\n",
      "\n",
      "==> /ebio/abt3_projects/Georg_animal_feces/bin/llmga/bin/envs/metacompass.yaml <==\n",
      "channels:\n",
      "- conda-forge\n",
      "- bioconda\n",
      "dependencies:\n",
      "- pigz=2.3.4\n",
      "- bioconda::seqtk\n",
      "- bioconda::bioawk\n",
      "- bioconda::blast=2.7.1\n",
      "- bioconda::meryl=2013\n",
      "- bioconda::samtools=1.8\n",
      "- bioconda::megahit=1.1.3\n",
      "- bioconda::spades=3.12.0\n",
      "- bioconda::pilon=1.22=1\n",
      "- bioconda::bowtie2=2.3.4.1\n",
      "==> /ebio/abt3_projects/Georg_animal_feces/bin/llmga/bin/envs/multiqc.yaml <==\n",
      "channels:\n",
      "- conda-forge\n",
      "- bioconda\n",
      "dependencies:\n",
      "- bioconda::multiqc\n",
      "\n",
      "==> /ebio/abt3_projects/Georg_animal_feces/bin/llmga/bin/envs/quast.yaml <==\n",
      "channels:\n",
      "- conda-forge\n",
      "- bioconda\n",
      "dependencies:\n",
      "- python=2.7\n",
      "- bioconda::quast\n",
      "\n",
      "==> /ebio/abt3_projects/Georg_animal_feces/bin/llmga/bin/envs/seqtk.yaml <==\n",
      "channels:\n",
      "- conda-forge\n",
      "- bioconda\n",
      "dependencies:\n",
      "- pigz\n",
      "- bioconda::seqtk\n",
      "\n",
      "==> /ebio/abt3_projects/Georg_animal_feces/bin/llmga/bin/envs/sourmash.yaml <==\n",
      "channels:\n",
      "- conda-forge\n",
      "- bioconda\n",
      "dependencies:\n",
      "- bioconda::sourmash\n",
      "\n",
      "==> /ebio/abt3_projects/Georg_animal_feces/bin/llmga/bin/envs/spades.yaml <==\n",
      "channels:\n",
      "- conda-forge\n",
      "- bioconda\n",
      "dependencies:\n",
      "- pigz\n",
      "- bioconda::spades=3.12.0\n",
      "==> /ebio/abt3_projects/Georg_animal_feces/bin/llmga/bin/envs/datatable.yaml <==\n",
      "channels:\n",
      "- conda-forge\n",
      "dependencies:\n",
      "- conda-forge::r-argparse\n",
      "- conda-forge::r-data.table\n",
      "\n",
      "==> /ebio/abt3_projects/Georg_animal_feces/bin/llmga/bin/envs/kraken2.yaml <==\n",
      "channels:\n",
      "- conda-forge\n",
      "- bioconda\n",
      "dependencies:\n",
      "- pigz\n",
      "- bioconda::kraken2\n",
      "\n",
      "==> /ebio/abt3_projects/Georg_animal_feces/bin/llmga/bin/envs/krakenuniq.yaml <==\n",
      "channels:\n",
      "- conda-forge\n",
      "- bioconda\n",
      "dependencies:\n",
      "- pigz\n",
      "- bioconda::krakenuniq\n",
      "\n",
      "==> /ebio/abt3_projects/Georg_animal_feces/bin/llmga/bin/envs/vamb.yaml <==\n",
      "channels:\n",
      "- conda-forge\n",
      "- bioconda\n",
      "- pytorch\n",
      "dependencies:\n",
      "- pip\n",
      "- pigz\n",
      "- python=3\n",
      "- cudatoolkit=9.0\n",
      "- pytorch::torchvision\n",
      "- pytorch::pytorch\n",
      "- pip:\n",
      "  - https://github.com/jakobnissen/vamb/archive/v2.0.1.zip"
     ]
    }
   ],
   "source": [
    "pipelineInfo('/ebio/abt3_projects/Georg_animal_feces/bin/llmga')"
   ]
  },
  {
   "cell_type": "markdown",
   "metadata": {},
   "source": [
    "# Summary"
   ]
  },
  {
   "cell_type": "code",
   "execution_count": 7,
   "metadata": {
    "ExecuteTime": {
     "end_time": "2019-08-29T19:01:03.411710Z",
     "start_time": "2019-08-29T19:01:03.350Z"
    }
   },
   "outputs": [],
   "source": [
    "asmbl_dir = out_dir = file.path(tmp_out_dir, studyID, 'LLMGA')\n",
    "\n",
    "checkm_markers_file = file.path(asmbl_dir, 'checkm', 'markers_qa_summary.tsv')\n",
    "gtdbtk_bac_sum_file = file.path(asmbl_dir, 'gtdbtk', 'gtdbtk_bac_summary.tsv')\n",
    "gtdbtk_arc_sum_file = file.path(asmbl_dir, 'gtdbtk', 'gtdbtk_ar_summary.tsv')\n",
    "\n",
    "bin_dir = file.path(asmbl_dir, 'bin')\n",
    "das_tool_dir = file.path(asmbl_dir, 'bin_refine', 'DAS_Tool')\n",
    "drep_dir = file.path(asmbl_dir, 'drep', 'drep')"
   ]
  },
  {
   "cell_type": "code",
   "execution_count": 8,
   "metadata": {
    "ExecuteTime": {
     "end_time": "2019-08-29T19:01:05.122382Z",
     "start_time": "2019-08-29T19:01:04.617Z"
    }
   },
   "outputs": [
    {
     "name": "stdout",
     "output_type": "stream",
     "text": [
      "[1] 113   4\n"
     ]
    },
    {
     "data": {
      "text/html": [
       "<table>\n",
       "<thead><tr><th scope=col>binID</th><th scope=col>fasta</th><th scope=col>binner</th><th scope=col>sample</th></tr></thead>\n",
       "<tbody>\n",
       "\t<tr><td>coassemble_contigs.001                                                                                                                                           </td><td>/ebio/abt3_projects/databases_no-backup/animal_gut_metagenomes/multi-study_MG-asmbl//PRJNA381379/LLMGA/bin/Adult_1/maxbin2_high_prob/coassemble_contigs.001.fasta</td><td>maxbin2_high_prob                                                                                                                                                </td><td>Adult_1                                                                                                                                                          </td></tr>\n",
       "\t<tr><td>coassemble_contigs.001                                                                                                                                           </td><td>/ebio/abt3_projects/databases_no-backup/animal_gut_metagenomes/multi-study_MG-asmbl//PRJNA381379/LLMGA/bin/Adult_1/maxbin2_low_prob/coassemble_contigs.001.fasta </td><td>maxbin2_low_prob                                                                                                                                                 </td><td>Adult_1                                                                                                                                                          </td></tr>\n",
       "\t<tr><td>coassemble_contigs.001                                                                                                                                           </td><td>/ebio/abt3_projects/databases_no-backup/animal_gut_metagenomes/multi-study_MG-asmbl//PRJNA381379/LLMGA/bin/Adult_2/maxbin2_high_prob/coassemble_contigs.001.fasta</td><td>maxbin2_high_prob                                                                                                                                                </td><td>Adult_2                                                                                                                                                          </td></tr>\n",
       "</tbody>\n",
       "</table>\n"
      ],
      "text/latex": [
       "\\begin{tabular}{r|llll}\n",
       " binID & fasta & binner & sample\\\\\n",
       "\\hline\n",
       "\t coassemble\\_contigs.001                                                                                                                                                            & /ebio/abt3\\_projects/databases\\_no-backup/animal\\_gut\\_metagenomes/multi-study\\_MG-asmbl//PRJNA381379/LLMGA/bin/Adult\\_1/maxbin2\\_high\\_prob/coassemble\\_contigs.001.fasta & maxbin2\\_high\\_prob                                                                                                                                                               & Adult\\_1                                                                                                                                                                          \\\\\n",
       "\t coassemble\\_contigs.001                                                                                                                                                            & /ebio/abt3\\_projects/databases\\_no-backup/animal\\_gut\\_metagenomes/multi-study\\_MG-asmbl//PRJNA381379/LLMGA/bin/Adult\\_1/maxbin2\\_low\\_prob/coassemble\\_contigs.001.fasta  & maxbin2\\_low\\_prob                                                                                                                                                                & Adult\\_1                                                                                                                                                                          \\\\\n",
       "\t coassemble\\_contigs.001                                                                                                                                                            & /ebio/abt3\\_projects/databases\\_no-backup/animal\\_gut\\_metagenomes/multi-study\\_MG-asmbl//PRJNA381379/LLMGA/bin/Adult\\_2/maxbin2\\_high\\_prob/coassemble\\_contigs.001.fasta & maxbin2\\_high\\_prob                                                                                                                                                               & Adult\\_2                                                                                                                                                                          \\\\\n",
       "\\end{tabular}\n"
      ],
      "text/markdown": [
       "\n",
       "binID | fasta | binner | sample | \n",
       "|---|---|---|\n",
       "| coassemble_contigs.001                                                                                                                                            | /ebio/abt3_projects/databases_no-backup/animal_gut_metagenomes/multi-study_MG-asmbl//PRJNA381379/LLMGA/bin/Adult_1/maxbin2_high_prob/coassemble_contigs.001.fasta | maxbin2_high_prob                                                                                                                                                 | Adult_1                                                                                                                                                           | \n",
       "| coassemble_contigs.001                                                                                                                                            | /ebio/abt3_projects/databases_no-backup/animal_gut_metagenomes/multi-study_MG-asmbl//PRJNA381379/LLMGA/bin/Adult_1/maxbin2_low_prob/coassemble_contigs.001.fasta  | maxbin2_low_prob                                                                                                                                                  | Adult_1                                                                                                                                                           | \n",
       "| coassemble_contigs.001                                                                                                                                            | /ebio/abt3_projects/databases_no-backup/animal_gut_metagenomes/multi-study_MG-asmbl//PRJNA381379/LLMGA/bin/Adult_2/maxbin2_high_prob/coassemble_contigs.001.fasta | maxbin2_high_prob                                                                                                                                                 | Adult_2                                                                                                                                                           | \n",
       "\n",
       "\n"
      ],
      "text/plain": [
       "  binID                 \n",
       "1 coassemble_contigs.001\n",
       "2 coassemble_contigs.001\n",
       "3 coassemble_contigs.001\n",
       "  fasta                                                                                                                                                            \n",
       "1 /ebio/abt3_projects/databases_no-backup/animal_gut_metagenomes/multi-study_MG-asmbl//PRJNA381379/LLMGA/bin/Adult_1/maxbin2_high_prob/coassemble_contigs.001.fasta\n",
       "2 /ebio/abt3_projects/databases_no-backup/animal_gut_metagenomes/multi-study_MG-asmbl//PRJNA381379/LLMGA/bin/Adult_1/maxbin2_low_prob/coassemble_contigs.001.fasta \n",
       "3 /ebio/abt3_projects/databases_no-backup/animal_gut_metagenomes/multi-study_MG-asmbl//PRJNA381379/LLMGA/bin/Adult_2/maxbin2_high_prob/coassemble_contigs.001.fasta\n",
       "  binner            sample \n",
       "1 maxbin2_high_prob Adult_1\n",
       "2 maxbin2_low_prob  Adult_1\n",
       "3 maxbin2_high_prob Adult_2"
      ]
     },
     "metadata": {},
     "output_type": "display_data"
    }
   ],
   "source": [
    "# bin genomes\n",
    "## maxbin2\n",
    "bin_files = list.files(bin_dir, '*.fasta$', full.names=TRUE, recursive=TRUE)\n",
    "bin = data.frame(binID = gsub('\\\\.fasta$', '', basename(bin_files)),\n",
    "                 fasta = bin_files,\n",
    "                 binner = bin_files %>% dirname %>% basename,\n",
    "                 sample = bin_files %>% dirname %>% dirname %>% basename)\n",
    "\n",
    "## metabat2\n",
    "bin_files = list.files(bin_dir, '*.fa$', full.names=TRUE, recursive=TRUE)\n",
    "X = data.frame(binID = gsub('\\\\.fa$', '', basename(bin_files)),\n",
    "               fasta = bin_files,\n",
    "               binner = bin_files %>% dirname %>% basename,\n",
    "               sample = bin_files %>% dirname %>% dirname %>% basename)\n",
    "\n",
    "## combine\n",
    "bin = rbind(bin, X)\n",
    "X = NULL\n",
    "bin %>% dfhead"
   ]
  },
  {
   "cell_type": "code",
   "execution_count": 9,
   "metadata": {
    "ExecuteTime": {
     "end_time": "2019-08-29T19:01:08.288658Z",
     "start_time": "2019-08-29T19:01:08.193Z"
    }
   },
   "outputs": [
    {
     "name": "stdout",
     "output_type": "stream",
     "text": [
      "[1] 10  2\n"
     ]
    },
    {
     "data": {
      "text/html": [
       "<table>\n",
       "<thead><tr><th scope=col>binID</th><th scope=col>fasta</th></tr></thead>\n",
       "<tbody>\n",
       "\t<tr><td>Adult_2__maxbin2_high_prob.001.contigs                                                                                                                                                </td><td>/ebio/abt3_projects/databases_no-backup/animal_gut_metagenomes/multi-study_MG-asmbl//PRJNA381379/LLMGA/bin_refine/DAS_Tool/bins_DASTool_bins/Adult_2__maxbin2_high_prob.001.contigs.fa</td></tr>\n",
       "\t<tr><td>Adult_4__maxbin2_high_prob.004.contigs                                                                                                                                                </td><td>/ebio/abt3_projects/databases_no-backup/animal_gut_metagenomes/multi-study_MG-asmbl//PRJNA381379/LLMGA/bin_refine/DAS_Tool/bins_DASTool_bins/Adult_4__maxbin2_high_prob.004.contigs.fa</td></tr>\n",
       "\t<tr><td>Adult_4__maxbin2_low_prob.001.contigs                                                                                                                                                 </td><td>/ebio/abt3_projects/databases_no-backup/animal_gut_metagenomes/multi-study_MG-asmbl//PRJNA381379/LLMGA/bin_refine/DAS_Tool/bins_DASTool_bins/Adult_4__maxbin2_low_prob.001.contigs.fa </td></tr>\n",
       "</tbody>\n",
       "</table>\n"
      ],
      "text/latex": [
       "\\begin{tabular}{r|ll}\n",
       " binID & fasta\\\\\n",
       "\\hline\n",
       "\t Adult\\_2\\_\\_maxbin2\\_high\\_prob.001.contigs                                                                                                                                                                   & /ebio/abt3\\_projects/databases\\_no-backup/animal\\_gut\\_metagenomes/multi-study\\_MG-asmbl//PRJNA381379/LLMGA/bin\\_refine/DAS\\_Tool/bins\\_DASTool\\_bins/Adult\\_2\\_\\_maxbin2\\_high\\_prob.001.contigs.fa\\\\\n",
       "\t Adult\\_4\\_\\_maxbin2\\_high\\_prob.004.contigs                                                                                                                                                                   & /ebio/abt3\\_projects/databases\\_no-backup/animal\\_gut\\_metagenomes/multi-study\\_MG-asmbl//PRJNA381379/LLMGA/bin\\_refine/DAS\\_Tool/bins\\_DASTool\\_bins/Adult\\_4\\_\\_maxbin2\\_high\\_prob.004.contigs.fa\\\\\n",
       "\t Adult\\_4\\_\\_maxbin2\\_low\\_prob.001.contigs                                                                                                                                                                    & /ebio/abt3\\_projects/databases\\_no-backup/animal\\_gut\\_metagenomes/multi-study\\_MG-asmbl//PRJNA381379/LLMGA/bin\\_refine/DAS\\_Tool/bins\\_DASTool\\_bins/Adult\\_4\\_\\_maxbin2\\_low\\_prob.001.contigs.fa \\\\\n",
       "\\end{tabular}\n"
      ],
      "text/markdown": [
       "\n",
       "binID | fasta | \n",
       "|---|---|---|\n",
       "| Adult_2__maxbin2_high_prob.001.contigs                                                                                                                                                 | /ebio/abt3_projects/databases_no-backup/animal_gut_metagenomes/multi-study_MG-asmbl//PRJNA381379/LLMGA/bin_refine/DAS_Tool/bins_DASTool_bins/Adult_2__maxbin2_high_prob.001.contigs.fa | \n",
       "| Adult_4__maxbin2_high_prob.004.contigs                                                                                                                                                 | /ebio/abt3_projects/databases_no-backup/animal_gut_metagenomes/multi-study_MG-asmbl//PRJNA381379/LLMGA/bin_refine/DAS_Tool/bins_DASTool_bins/Adult_4__maxbin2_high_prob.004.contigs.fa | \n",
       "| Adult_4__maxbin2_low_prob.001.contigs                                                                                                                                                  | /ebio/abt3_projects/databases_no-backup/animal_gut_metagenomes/multi-study_MG-asmbl//PRJNA381379/LLMGA/bin_refine/DAS_Tool/bins_DASTool_bins/Adult_4__maxbin2_low_prob.001.contigs.fa  | \n",
       "\n",
       "\n"
      ],
      "text/plain": [
       "  binID                                 \n",
       "1 Adult_2__maxbin2_high_prob.001.contigs\n",
       "2 Adult_4__maxbin2_high_prob.004.contigs\n",
       "3 Adult_4__maxbin2_low_prob.001.contigs \n",
       "  fasta                                                                                                                                                                                 \n",
       "1 /ebio/abt3_projects/databases_no-backup/animal_gut_metagenomes/multi-study_MG-asmbl//PRJNA381379/LLMGA/bin_refine/DAS_Tool/bins_DASTool_bins/Adult_2__maxbin2_high_prob.001.contigs.fa\n",
       "2 /ebio/abt3_projects/databases_no-backup/animal_gut_metagenomes/multi-study_MG-asmbl//PRJNA381379/LLMGA/bin_refine/DAS_Tool/bins_DASTool_bins/Adult_4__maxbin2_high_prob.004.contigs.fa\n",
       "3 /ebio/abt3_projects/databases_no-backup/animal_gut_metagenomes/multi-study_MG-asmbl//PRJNA381379/LLMGA/bin_refine/DAS_Tool/bins_DASTool_bins/Adult_4__maxbin2_low_prob.001.contigs.fa "
      ]
     },
     "metadata": {},
     "output_type": "display_data"
    }
   ],
   "source": [
    "# DAS-tool genomes\n",
    "dastool_files = list.files(das_tool_dir, '*.fa$', full.names=TRUE, recursive=TRUE)\n",
    "\n",
    "dastool = data.frame(binID = gsub('\\\\.fa$', '', basename(dastool_files)),\n",
    "                    fasta = dastool_files)\n",
    "dastool %>% dfhead"
   ]
  },
  {
   "cell_type": "code",
   "execution_count": 10,
   "metadata": {
    "ExecuteTime": {
     "end_time": "2019-08-29T19:01:09.542834Z",
     "start_time": "2019-08-29T19:01:09.474Z"
    }
   },
   "outputs": [
    {
     "name": "stdout",
     "output_type": "stream",
     "text": [
      "[1] 2 2\n"
     ]
    },
    {
     "data": {
      "text/html": [
       "<table>\n",
       "<thead><tr><th scope=col>binID</th><th scope=col>fasta</th></tr></thead>\n",
       "<tbody>\n",
       "\t<tr><td>Juvenile_1__metabat2_low_PE.001.contigs                                                                                                                                           </td><td>/ebio/abt3_projects/databases_no-backup/animal_gut_metagenomes/multi-study_MG-asmbl//PRJNA381379/LLMGA/drep/drep/dereplicated_genomes/Juvenile_1__metabat2_low_PE.001.contigs.fa  </td></tr>\n",
       "\t<tr><td>Juvenile_2__maxbin2_high_prob.005.contigs                                                                                                                                         </td><td>/ebio/abt3_projects/databases_no-backup/animal_gut_metagenomes/multi-study_MG-asmbl//PRJNA381379/LLMGA/drep/drep/dereplicated_genomes/Juvenile_2__maxbin2_high_prob.005.contigs.fa</td></tr>\n",
       "</tbody>\n",
       "</table>\n"
      ],
      "text/latex": [
       "\\begin{tabular}{r|ll}\n",
       " binID & fasta\\\\\n",
       "\\hline\n",
       "\t Juvenile\\_1\\_\\_metabat2\\_low\\_PE.001.contigs                                                                                                                                                        & /ebio/abt3\\_projects/databases\\_no-backup/animal\\_gut\\_metagenomes/multi-study\\_MG-asmbl//PRJNA381379/LLMGA/drep/drep/dereplicated\\_genomes/Juvenile\\_1\\_\\_metabat2\\_low\\_PE.001.contigs.fa  \\\\\n",
       "\t Juvenile\\_2\\_\\_maxbin2\\_high\\_prob.005.contigs                                                                                                                                                      & /ebio/abt3\\_projects/databases\\_no-backup/animal\\_gut\\_metagenomes/multi-study\\_MG-asmbl//PRJNA381379/LLMGA/drep/drep/dereplicated\\_genomes/Juvenile\\_2\\_\\_maxbin2\\_high\\_prob.005.contigs.fa\\\\\n",
       "\\end{tabular}\n"
      ],
      "text/markdown": [
       "\n",
       "binID | fasta | \n",
       "|---|---|\n",
       "| Juvenile_1__metabat2_low_PE.001.contigs                                                                                                                                            | /ebio/abt3_projects/databases_no-backup/animal_gut_metagenomes/multi-study_MG-asmbl//PRJNA381379/LLMGA/drep/drep/dereplicated_genomes/Juvenile_1__metabat2_low_PE.001.contigs.fa   | \n",
       "| Juvenile_2__maxbin2_high_prob.005.contigs                                                                                                                                          | /ebio/abt3_projects/databases_no-backup/animal_gut_metagenomes/multi-study_MG-asmbl//PRJNA381379/LLMGA/drep/drep/dereplicated_genomes/Juvenile_2__maxbin2_high_prob.005.contigs.fa | \n",
       "\n",
       "\n"
      ],
      "text/plain": [
       "  binID                                    \n",
       "1 Juvenile_1__metabat2_low_PE.001.contigs  \n",
       "2 Juvenile_2__maxbin2_high_prob.005.contigs\n",
       "  fasta                                                                                                                                                                             \n",
       "1 /ebio/abt3_projects/databases_no-backup/animal_gut_metagenomes/multi-study_MG-asmbl//PRJNA381379/LLMGA/drep/drep/dereplicated_genomes/Juvenile_1__metabat2_low_PE.001.contigs.fa  \n",
       "2 /ebio/abt3_projects/databases_no-backup/animal_gut_metagenomes/multi-study_MG-asmbl//PRJNA381379/LLMGA/drep/drep/dereplicated_genomes/Juvenile_2__maxbin2_high_prob.005.contigs.fa"
      ]
     },
     "metadata": {},
     "output_type": "display_data"
    }
   ],
   "source": [
    "# drep genome files\n",
    "P = file.path(drep_dir, 'dereplicated_genomes')\n",
    "drep_files = list.files(P, '*.fa$', full.names=TRUE)\n",
    "\n",
    "drep = data.frame(binID = gsub('\\\\.fa$', '', basename(drep_files)),\n",
    "                  fasta = drep_files)\n",
    "drep %>% dfhead"
   ]
  },
  {
   "cell_type": "code",
   "execution_count": 11,
   "metadata": {
    "ExecuteTime": {
     "end_time": "2019-08-29T19:01:11.504356Z",
     "start_time": "2019-08-29T19:01:11.338Z"
    }
   },
   "outputs": [
    {
     "name": "stdout",
     "output_type": "stream",
     "text": [
      "[1] 10\n"
     ]
    },
    {
     "name": "stderr",
     "output_type": "stream",
     "text": [
      "Warning message:\n",
      "“Column `binID`/`Bin.Id` joining factors with different levels, coercing to character vector”"
     ]
    },
    {
     "name": "stdout",
     "output_type": "stream",
     "text": [
      "[1]  2 30\n"
     ]
    },
    {
     "data": {
      "text/html": [
       "<table>\n",
       "<thead><tr><th scope=col>binID</th><th scope=col>fasta</th><th scope=col>Marker.lineage</th><th scope=col>X..genomes</th><th scope=col>X..markers</th><th scope=col>X..marker.sets</th><th scope=col>Completeness</th><th scope=col>Contamination</th><th scope=col>Strain.heterogeneity</th><th scope=col>Genome.size..bp.</th><th scope=col>⋯</th><th scope=col>GC.std..scaffolds...1kbp.</th><th scope=col>Coding.density</th><th scope=col>Translation.table</th><th scope=col>X..predicted.genes</th><th scope=col>X0</th><th scope=col>X1</th><th scope=col>X2</th><th scope=col>X3</th><th scope=col>X4</th><th scope=col>X5.</th></tr></thead>\n",
       "<tbody>\n",
       "\t<tr><td>Juvenile_1__metabat2_low_PE.001.contigs                                                                                                                                           </td><td>/ebio/abt3_projects/databases_no-backup/animal_gut_metagenomes/multi-study_MG-asmbl//PRJNA381379/LLMGA/drep/drep/dereplicated_genomes/Juvenile_1__metabat2_low_PE.001.contigs.fa  </td><td>o__Lactobacillales (UID544)                                                                                                                                                       </td><td>293                                                                                                                                                                               </td><td>475                                                                                                                                                                               </td><td>267                                                                                                                                                                               </td><td>63.49                                                                                                                                                                             </td><td>1.43                                                                                                                                                                              </td><td>85.71                                                                                                                                                                             </td><td>1178797                                                                                                                                                                           </td><td>⋯                                                                                                                                                                                 </td><td>2.10                                                                                                                                                                              </td><td>88.15                                                                                                                                                                             </td><td>11                                                                                                                                                                                </td><td>1341                                                                                                                                                                              </td><td>149                                                                                                                                                                               </td><td>319                                                                                                                                                                               </td><td> 7                                                                                                                                                                                </td><td>0                                                                                                                                                                                 </td><td>0                                                                                                                                                                                 </td><td>0                                                                                                                                                                                 </td></tr>\n",
       "\t<tr><td>Juvenile_2__maxbin2_high_prob.005.contigs                                                                                                                                         </td><td>/ebio/abt3_projects/databases_no-backup/animal_gut_metagenomes/multi-study_MG-asmbl//PRJNA381379/LLMGA/drep/drep/dereplicated_genomes/Juvenile_2__maxbin2_high_prob.005.contigs.fa</td><td>o__Lactobacillales (UID544)                                                                                                                                                       </td><td>293                                                                                                                                                                               </td><td>475                                                                                                                                                                               </td><td>267                                                                                                                                                                               </td><td>60.59                                                                                                                                                                             </td><td>3.40                                                                                                                                                                              </td><td>87.50                                                                                                                                                                             </td><td>1141277                                                                                                                                                                           </td><td>⋯                                                                                                                                                                                 </td><td>2.35                                                                                                                                                                              </td><td>87.37                                                                                                                                                                             </td><td>11                                                                                                                                                                                </td><td>1260                                                                                                                                                                              </td><td>166                                                                                                                                                                               </td><td>293                                                                                                                                                                               </td><td>16                                                                                                                                                                                </td><td>0                                                                                                                                                                                 </td><td>0                                                                                                                                                                                 </td><td>0                                                                                                                                                                                 </td></tr>\n",
       "</tbody>\n",
       "</table>\n"
      ],
      "text/latex": [
       "\\begin{tabular}{r|llllllllllllllllllllllllllllll}\n",
       " binID & fasta & Marker.lineage & X..genomes & X..markers & X..marker.sets & Completeness & Contamination & Strain.heterogeneity & Genome.size..bp. & ⋯ & GC.std..scaffolds...1kbp. & Coding.density & Translation.table & X..predicted.genes & X0 & X1 & X2 & X3 & X4 & X5.\\\\\n",
       "\\hline\n",
       "\t Juvenile\\_1\\_\\_metabat2\\_low\\_PE.001.contigs                                                                                                                                                        & /ebio/abt3\\_projects/databases\\_no-backup/animal\\_gut\\_metagenomes/multi-study\\_MG-asmbl//PRJNA381379/LLMGA/drep/drep/dereplicated\\_genomes/Juvenile\\_1\\_\\_metabat2\\_low\\_PE.001.contigs.fa   & o\\_\\_Lactobacillales (UID544)                                                                                                                                                                          & 293                                                                                                                                                                                                      & 475                                                                                                                                                                                                      & 267                                                                                                                                                                                                      & 63.49                                                                                                                                                                                                    & 1.43                                                                                                                                                                                                     & 85.71                                                                                                                                                                                                    & 1178797                                                                                                                                                                                                  & ⋯                                                                                                                                                                                                        & 2.10                                                                                                                                                                                                     & 88.15                                                                                                                                                                                                    & 11                                                                                                                                                                                                       & 1341                                                                                                                                                                                                     & 149                                                                                                                                                                                                      & 319                                                                                                                                                                                                      &  7                                                                                                                                                                                                       & 0                                                                                                                                                                                                        & 0                                                                                                                                                                                                        & 0                                                                                                                                                                                                       \\\\\n",
       "\t Juvenile\\_2\\_\\_maxbin2\\_high\\_prob.005.contigs                                                                                                                                                      & /ebio/abt3\\_projects/databases\\_no-backup/animal\\_gut\\_metagenomes/multi-study\\_MG-asmbl//PRJNA381379/LLMGA/drep/drep/dereplicated\\_genomes/Juvenile\\_2\\_\\_maxbin2\\_high\\_prob.005.contigs.fa & o\\_\\_Lactobacillales (UID544)                                                                                                                                                                          & 293                                                                                                                                                                                                      & 475                                                                                                                                                                                                      & 267                                                                                                                                                                                                      & 60.59                                                                                                                                                                                                    & 3.40                                                                                                                                                                                                     & 87.50                                                                                                                                                                                                    & 1141277                                                                                                                                                                                                  & ⋯                                                                                                                                                                                                        & 2.35                                                                                                                                                                                                     & 87.37                                                                                                                                                                                                    & 11                                                                                                                                                                                                       & 1260                                                                                                                                                                                                     & 166                                                                                                                                                                                                      & 293                                                                                                                                                                                                      & 16                                                                                                                                                                                                       & 0                                                                                                                                                                                                        & 0                                                                                                                                                                                                        & 0                                                                                                                                                                                                       \\\\\n",
       "\\end{tabular}\n"
      ],
      "text/markdown": [
       "\n",
       "binID | fasta | Marker.lineage | X..genomes | X..markers | X..marker.sets | Completeness | Contamination | Strain.heterogeneity | Genome.size..bp. | ⋯ | GC.std..scaffolds...1kbp. | Coding.density | Translation.table | X..predicted.genes | X0 | X1 | X2 | X3 | X4 | X5. | \n",
       "|---|---|\n",
       "| Juvenile_1__metabat2_low_PE.001.contigs                                                                                                                                            | /ebio/abt3_projects/databases_no-backup/animal_gut_metagenomes/multi-study_MG-asmbl//PRJNA381379/LLMGA/drep/drep/dereplicated_genomes/Juvenile_1__metabat2_low_PE.001.contigs.fa   | o__Lactobacillales (UID544)                                                                                                                                                        | 293                                                                                                                                                                                | 475                                                                                                                                                                                | 267                                                                                                                                                                                | 63.49                                                                                                                                                                              | 1.43                                                                                                                                                                               | 85.71                                                                                                                                                                              | 1178797                                                                                                                                                                            | ⋯                                                                                                                                                                                  | 2.10                                                                                                                                                                               | 88.15                                                                                                                                                                              | 11                                                                                                                                                                                 | 1341                                                                                                                                                                               | 149                                                                                                                                                                                | 319                                                                                                                                                                                |  7                                                                                                                                                                                 | 0                                                                                                                                                                                  | 0                                                                                                                                                                                  | 0                                                                                                                                                                                  | \n",
       "| Juvenile_2__maxbin2_high_prob.005.contigs                                                                                                                                          | /ebio/abt3_projects/databases_no-backup/animal_gut_metagenomes/multi-study_MG-asmbl//PRJNA381379/LLMGA/drep/drep/dereplicated_genomes/Juvenile_2__maxbin2_high_prob.005.contigs.fa | o__Lactobacillales (UID544)                                                                                                                                                        | 293                                                                                                                                                                                | 475                                                                                                                                                                                | 267                                                                                                                                                                                | 60.59                                                                                                                                                                              | 3.40                                                                                                                                                                               | 87.50                                                                                                                                                                              | 1141277                                                                                                                                                                            | ⋯                                                                                                                                                                                  | 2.35                                                                                                                                                                               | 87.37                                                                                                                                                                              | 11                                                                                                                                                                                 | 1260                                                                                                                                                                               | 166                                                                                                                                                                                | 293                                                                                                                                                                                | 16                                                                                                                                                                                 | 0                                                                                                                                                                                  | 0                                                                                                                                                                                  | 0                                                                                                                                                                                  | \n",
       "\n",
       "\n"
      ],
      "text/plain": [
       "  binID                                    \n",
       "1 Juvenile_1__metabat2_low_PE.001.contigs  \n",
       "2 Juvenile_2__maxbin2_high_prob.005.contigs\n",
       "  fasta                                                                                                                                                                             \n",
       "1 /ebio/abt3_projects/databases_no-backup/animal_gut_metagenomes/multi-study_MG-asmbl//PRJNA381379/LLMGA/drep/drep/dereplicated_genomes/Juvenile_1__metabat2_low_PE.001.contigs.fa  \n",
       "2 /ebio/abt3_projects/databases_no-backup/animal_gut_metagenomes/multi-study_MG-asmbl//PRJNA381379/LLMGA/drep/drep/dereplicated_genomes/Juvenile_2__maxbin2_high_prob.005.contigs.fa\n",
       "  Marker.lineage              X..genomes X..markers X..marker.sets Completeness\n",
       "1 o__Lactobacillales (UID544) 293        475        267            63.49       \n",
       "2 o__Lactobacillales (UID544) 293        475        267            60.59       \n",
       "  Contamination Strain.heterogeneity Genome.size..bp. ⋯\n",
       "1 1.43          85.71                1178797          ⋯\n",
       "2 3.40          87.50                1141277          ⋯\n",
       "  GC.std..scaffolds...1kbp. Coding.density Translation.table X..predicted.genes\n",
       "1 2.10                      88.15          11                1341              \n",
       "2 2.35                      87.37          11                1260              \n",
       "  X0  X1  X2 X3 X4 X5.\n",
       "1 149 319  7 0  0  0  \n",
       "2 166 293 16 0  0  0  "
      ]
     },
     "metadata": {},
     "output_type": "display_data"
    }
   ],
   "source": [
    "# checkm info\n",
    "markers_sum = read.delim(checkm_markers_file, sep='\\t')\n",
    "markers_sum %>% nrow %>% print\n",
    "\n",
    "drep_j = drep %>%\n",
    "    inner_join(markers_sum, c('binID'='Bin.Id')) \n",
    "\n",
    "drep_j %>% dfhead"
   ]
  },
  {
   "cell_type": "code",
   "execution_count": 12,
   "metadata": {
    "ExecuteTime": {
     "end_time": "2019-08-29T19:01:20.952356Z",
     "start_time": "2019-08-29T19:01:20.714Z"
    }
   },
   "outputs": [
    {
     "name": "stdout",
     "output_type": "stream",
     "text": [
      "[1] 10\n"
     ]
    },
    {
     "name": "stderr",
     "output_type": "stream",
     "text": [
      "Warning message:\n",
      "“Column `binID`/`user_genome` joining character vector and factor, coercing into character vector”"
     ]
    },
    {
     "name": "stdout",
     "output_type": "stream",
     "text": [
      "[1]  2 53\n"
     ]
    },
    {
     "data": {
      "text/html": [
       "<table>\n",
       "<thead><tr><th scope=col>binID</th><th scope=col>fasta</th><th scope=col>Marker.lineage</th><th scope=col>X..genomes</th><th scope=col>X..markers</th><th scope=col>X..marker.sets</th><th scope=col>Completeness</th><th scope=col>Contamination</th><th scope=col>Strain.heterogeneity</th><th scope=col>Genome.size..bp.</th><th scope=col>⋯</th><th scope=col>closest_placement_taxonomy</th><th scope=col>closest_placement_ani</th><th scope=col>closest_placement_af</th><th scope=col>pplacer_taxonomy</th><th scope=col>classification_method</th><th scope=col>note</th><th scope=col>aa_percent</th><th scope=col>translation_table</th><th scope=col>red_value</th><th scope=col>warnings</th></tr></thead>\n",
       "<tbody>\n",
       "\t<tr><td>Juvenile_1__metabat2_low_PE.001.contigs                                                                                                                                           </td><td>/ebio/abt3_projects/databases_no-backup/animal_gut_metagenomes/multi-study_MG-asmbl//PRJNA381379/LLMGA/drep/drep/dereplicated_genomes/Juvenile_1__metabat2_low_PE.001.contigs.fa  </td><td>o__Lactobacillales (UID544)                                                                                                                                                       </td><td>293                                                                                                                                                                               </td><td>475                                                                                                                                                                               </td><td>267                                                                                                                                                                               </td><td>63.49                                                                                                                                                                             </td><td>1.43                                                                                                                                                                              </td><td>85.71                                                                                                                                                                             </td><td>1178797                                                                                                                                                                           </td><td>⋯                                                                                                                                                                                 </td><td>N/A                                                                                                                                                                               </td><td>N/A                                                                                                                                                                               </td><td>N/A                                                                                                                                                                               </td><td>d__Bacteria;p__Firmicutes;c__Bacilli;o__Lactobacillales;f__Streptococcaceae;g__Streptococcus;s__                                                                                  </td><td>Placement                                                                                                                                                                         </td><td>taxonomic classification fully defined by topology                                                                                                                                </td><td>70.32                                                                                                                                                                             </td><td>11                                                                                                                                                                                </td><td>0.993014786                                                                                                                                                                       </td><td>N/A                                                                                                                                                                               </td></tr>\n",
       "\t<tr><td>Juvenile_2__maxbin2_high_prob.005.contigs                                                                                                                                         </td><td>/ebio/abt3_projects/databases_no-backup/animal_gut_metagenomes/multi-study_MG-asmbl//PRJNA381379/LLMGA/drep/drep/dereplicated_genomes/Juvenile_2__maxbin2_high_prob.005.contigs.fa</td><td>o__Lactobacillales (UID544)                                                                                                                                                       </td><td>293                                                                                                                                                                               </td><td>475                                                                                                                                                                               </td><td>267                                                                                                                                                                               </td><td>60.59                                                                                                                                                                             </td><td>3.40                                                                                                                                                                              </td><td>87.50                                                                                                                                                                             </td><td>1141277                                                                                                                                                                           </td><td>⋯                                                                                                                                                                                 </td><td>N/A                                                                                                                                                                               </td><td>N/A                                                                                                                                                                               </td><td>N/A                                                                                                                                                                               </td><td>d__Bacteria;p__Firmicutes;c__Bacilli;o__Lactobacillales;f__Streptococcaceae;g__Streptococcus;s__                                                                                  </td><td>ANI/Placement                                                                                                                                                                     </td><td>topological placement and ANI have incongruent species assignments                                                                                                                </td><td>64.68                                                                                                                                                                             </td><td>11                                                                                                                                                                                </td><td>N/A                                                                                                                                                                               </td><td>N/A                                                                                                                                                                               </td></tr>\n",
       "</tbody>\n",
       "</table>\n"
      ],
      "text/latex": [
       "\\begin{tabular}{r|lllllllllllllllllllllllllllllllllllllllllllllllllllll}\n",
       " binID & fasta & Marker.lineage & X..genomes & X..markers & X..marker.sets & Completeness & Contamination & Strain.heterogeneity & Genome.size..bp. & ⋯ & closest\\_placement\\_taxonomy & closest\\_placement\\_ani & closest\\_placement\\_af & pplacer\\_taxonomy & classification\\_method & note & aa\\_percent & translation\\_table & red\\_value & warnings\\\\\n",
       "\\hline\n",
       "\t Juvenile\\_1\\_\\_metabat2\\_low\\_PE.001.contigs                                                                                                                                                        & /ebio/abt3\\_projects/databases\\_no-backup/animal\\_gut\\_metagenomes/multi-study\\_MG-asmbl//PRJNA381379/LLMGA/drep/drep/dereplicated\\_genomes/Juvenile\\_1\\_\\_metabat2\\_low\\_PE.001.contigs.fa   & o\\_\\_Lactobacillales (UID544)                                                                                                                                                                          & 293                                                                                                                                                                                                      & 475                                                                                                                                                                                                      & 267                                                                                                                                                                                                      & 63.49                                                                                                                                                                                                    & 1.43                                                                                                                                                                                                     & 85.71                                                                                                                                                                                                    & 1178797                                                                                                                                                                                                  & ⋯                                                                                                                                                                                                        & N/A                                                                                                                                                                                                      & N/A                                                                                                                                                                                                      & N/A                                                                                                                                                                                                      & d\\_\\_Bacteria;p\\_\\_Firmicutes;c\\_\\_Bacilli;o\\_\\_Lactobacillales;f\\_\\_Streptococcaceae;g\\_\\_Streptococcus;s\\_\\_                                                                             & Placement                                                                                                                                                                                                & taxonomic classification fully defined by topology                                                                                                                                                       & 70.32                                                                                                                                                                                                    & 11                                                                                                                                                                                                       & 0.993014786                                                                                                                                                                                              & N/A                                                                                                                                                                                                     \\\\\n",
       "\t Juvenile\\_2\\_\\_maxbin2\\_high\\_prob.005.contigs                                                                                                                                                      & /ebio/abt3\\_projects/databases\\_no-backup/animal\\_gut\\_metagenomes/multi-study\\_MG-asmbl//PRJNA381379/LLMGA/drep/drep/dereplicated\\_genomes/Juvenile\\_2\\_\\_maxbin2\\_high\\_prob.005.contigs.fa & o\\_\\_Lactobacillales (UID544)                                                                                                                                                                          & 293                                                                                                                                                                                                      & 475                                                                                                                                                                                                      & 267                                                                                                                                                                                                      & 60.59                                                                                                                                                                                                    & 3.40                                                                                                                                                                                                     & 87.50                                                                                                                                                                                                    & 1141277                                                                                                                                                                                                  & ⋯                                                                                                                                                                                                        & N/A                                                                                                                                                                                                      & N/A                                                                                                                                                                                                      & N/A                                                                                                                                                                                                      & d\\_\\_Bacteria;p\\_\\_Firmicutes;c\\_\\_Bacilli;o\\_\\_Lactobacillales;f\\_\\_Streptococcaceae;g\\_\\_Streptococcus;s\\_\\_                                                                             & ANI/Placement                                                                                                                                                                                            & topological placement and ANI have incongruent species assignments                                                                                                                                       & 64.68                                                                                                                                                                                                    & 11                                                                                                                                                                                                       & N/A                                                                                                                                                                                                      & N/A                                                                                                                                                                                                     \\\\\n",
       "\\end{tabular}\n"
      ],
      "text/markdown": [
       "\n",
       "binID | fasta | Marker.lineage | X..genomes | X..markers | X..marker.sets | Completeness | Contamination | Strain.heterogeneity | Genome.size..bp. | ⋯ | closest_placement_taxonomy | closest_placement_ani | closest_placement_af | pplacer_taxonomy | classification_method | note | aa_percent | translation_table | red_value | warnings | \n",
       "|---|---|\n",
       "| Juvenile_1__metabat2_low_PE.001.contigs                                                                                                                                            | /ebio/abt3_projects/databases_no-backup/animal_gut_metagenomes/multi-study_MG-asmbl//PRJNA381379/LLMGA/drep/drep/dereplicated_genomes/Juvenile_1__metabat2_low_PE.001.contigs.fa   | o__Lactobacillales (UID544)                                                                                                                                                        | 293                                                                                                                                                                                | 475                                                                                                                                                                                | 267                                                                                                                                                                                | 63.49                                                                                                                                                                              | 1.43                                                                                                                                                                               | 85.71                                                                                                                                                                              | 1178797                                                                                                                                                                            | ⋯                                                                                                                                                                                  | N/A                                                                                                                                                                                | N/A                                                                                                                                                                                | N/A                                                                                                                                                                                | d__Bacteria;p__Firmicutes;c__Bacilli;o__Lactobacillales;f__Streptococcaceae;g__Streptococcus;s__                                                                                   | Placement                                                                                                                                                                          | taxonomic classification fully defined by topology                                                                                                                                 | 70.32                                                                                                                                                                              | 11                                                                                                                                                                                 | 0.993014786                                                                                                                                                                        | N/A                                                                                                                                                                                | \n",
       "| Juvenile_2__maxbin2_high_prob.005.contigs                                                                                                                                          | /ebio/abt3_projects/databases_no-backup/animal_gut_metagenomes/multi-study_MG-asmbl//PRJNA381379/LLMGA/drep/drep/dereplicated_genomes/Juvenile_2__maxbin2_high_prob.005.contigs.fa | o__Lactobacillales (UID544)                                                                                                                                                        | 293                                                                                                                                                                                | 475                                                                                                                                                                                | 267                                                                                                                                                                                | 60.59                                                                                                                                                                              | 3.40                                                                                                                                                                               | 87.50                                                                                                                                                                              | 1141277                                                                                                                                                                            | ⋯                                                                                                                                                                                  | N/A                                                                                                                                                                                | N/A                                                                                                                                                                                | N/A                                                                                                                                                                                | d__Bacteria;p__Firmicutes;c__Bacilli;o__Lactobacillales;f__Streptococcaceae;g__Streptococcus;s__                                                                                   | ANI/Placement                                                                                                                                                                      | topological placement and ANI have incongruent species assignments                                                                                                                 | 64.68                                                                                                                                                                              | 11                                                                                                                                                                                 | N/A                                                                                                                                                                                | N/A                                                                                                                                                                                | \n",
       "\n",
       "\n"
      ],
      "text/plain": [
       "  binID                                    \n",
       "1 Juvenile_1__metabat2_low_PE.001.contigs  \n",
       "2 Juvenile_2__maxbin2_high_prob.005.contigs\n",
       "  fasta                                                                                                                                                                             \n",
       "1 /ebio/abt3_projects/databases_no-backup/animal_gut_metagenomes/multi-study_MG-asmbl//PRJNA381379/LLMGA/drep/drep/dereplicated_genomes/Juvenile_1__metabat2_low_PE.001.contigs.fa  \n",
       "2 /ebio/abt3_projects/databases_no-backup/animal_gut_metagenomes/multi-study_MG-asmbl//PRJNA381379/LLMGA/drep/drep/dereplicated_genomes/Juvenile_2__maxbin2_high_prob.005.contigs.fa\n",
       "  Marker.lineage              X..genomes X..markers X..marker.sets Completeness\n",
       "1 o__Lactobacillales (UID544) 293        475        267            63.49       \n",
       "2 o__Lactobacillales (UID544) 293        475        267            60.59       \n",
       "  Contamination Strain.heterogeneity Genome.size..bp. ⋯\n",
       "1 1.43          85.71                1178797          ⋯\n",
       "2 3.40          87.50                1141277          ⋯\n",
       "  closest_placement_taxonomy closest_placement_ani closest_placement_af\n",
       "1 N/A                        N/A                   N/A                 \n",
       "2 N/A                        N/A                   N/A                 \n",
       "  pplacer_taxonomy                                                                                \n",
       "1 d__Bacteria;p__Firmicutes;c__Bacilli;o__Lactobacillales;f__Streptococcaceae;g__Streptococcus;s__\n",
       "2 d__Bacteria;p__Firmicutes;c__Bacilli;o__Lactobacillales;f__Streptococcaceae;g__Streptococcus;s__\n",
       "  classification_method\n",
       "1 Placement            \n",
       "2 ANI/Placement        \n",
       "  note                                                               aa_percent\n",
       "1 taxonomic classification fully defined by topology                 70.32     \n",
       "2 topological placement and ANI have incongruent species assignments 64.68     \n",
       "  translation_table red_value   warnings\n",
       "1 11                0.993014786 N/A     \n",
       "2 11                N/A         N/A     "
      ]
     },
     "metadata": {},
     "output_type": "display_data"
    }
   ],
   "source": [
    "# gtdb\n",
    "## bacteria\n",
    "X = read.delim(gtdbtk_bac_sum_file, sep='\\t') %>%\n",
    "    dplyr::select(-other_related_references.genome_id.species_name.radius.ANI.AF.) %>%\n",
    "    separate(classification, c('Domain', 'Phylum', 'Class', 'Order', 'Family', 'Genus', 'Species'), sep=';')\n",
    "X %>% nrow %>% print\n",
    "## archaea\n",
    "# Y = read.delim(gtdbtk_arc_sum_file, sep='\\t') %>%\n",
    "#     dplyr::select(-other_related_references.genome_id.species_name.radius.ANI.AF.) %>%\n",
    "#     separate(classification, c('Domain', 'Phylum', 'Class', 'Order', 'Family', 'Genus', 'Species'), sep=';')\n",
    "# Y %>% nrow %>% print\n",
    "\n",
    "## combined\n",
    "drep_j = drep_j %>%\n",
    "    left_join(X, c('binID'='user_genome'))\n",
    "\n",
    "## status\n",
    "X = Y = NULL\n",
    "drep_j %>% dfhead"
   ]
  },
  {
   "cell_type": "markdown",
   "metadata": {},
   "source": [
    "## No. of genomes"
   ]
  },
  {
   "cell_type": "code",
   "execution_count": 13,
   "metadata": {
    "ExecuteTime": {
     "end_time": "2019-08-29T19:01:24.722127Z",
     "start_time": "2019-08-29T19:01:24.673Z"
    }
   },
   "outputs": [
    {
     "name": "stdout",
     "output_type": "stream",
     "text": [
      "Number of binned genomes: 113"
     ]
    }
   ],
   "source": [
    "cat('Number of binned genomes:', bin$fasta %>% unique %>% length)"
   ]
  },
  {
   "cell_type": "code",
   "execution_count": 14,
   "metadata": {
    "ExecuteTime": {
     "end_time": "2019-08-29T19:01:25.196093Z",
     "start_time": "2019-08-29T19:01:25.152Z"
    }
   },
   "outputs": [
    {
     "name": "stdout",
     "output_type": "stream",
     "text": [
      "Number of DAS-Tool passed genomes: 10"
     ]
    }
   ],
   "source": [
    "cat('Number of DAS-Tool passed genomes:', dastool$binID %>% unique %>% length)"
   ]
  },
  {
   "cell_type": "code",
   "execution_count": 15,
   "metadata": {
    "ExecuteTime": {
     "end_time": "2019-08-29T19:01:25.629198Z",
     "start_time": "2019-08-29T19:01:25.579Z"
    }
   },
   "outputs": [
    {
     "name": "stdout",
     "output_type": "stream",
     "text": [
      "Number of 99% ANI de-rep genomes: 2"
     ]
    }
   ],
   "source": [
    "cat('Number of 99% ANI de-rep genomes:', drep_j$binID %>% unique %>% length)"
   ]
  },
  {
   "cell_type": "markdown",
   "metadata": {},
   "source": [
    "## CheckM"
   ]
  },
  {
   "cell_type": "code",
   "execution_count": 16,
   "metadata": {
    "ExecuteTime": {
     "end_time": "2019-08-29T19:01:32.940881Z",
     "start_time": "2019-08-29T19:01:29.097Z"
    }
   },
   "outputs": [
    {
     "data": {
      "image/png": "[encoded data removed]",
      "text/plain": [
       "plot without title"
      ]
     },
     "metadata": {},
     "output_type": "display_data"
    }
   ],
   "source": [
    "# checkm stats\n",
    "p = drep_j %>%\n",
    "    dplyr::select(binID, Completeness, Contamination) %>%\n",
    "    gather(Metric, Value, -binID) %>%\n",
    "    ggplot(aes(Value)) +\n",
    "    geom_histogram(bins=30) +\n",
    "    labs(y='No. of MAGs\\n(>=99% ANI derep.)') +\n",
    "    facet_grid(Metric ~ ., scales='free_y') +\n",
    "    theme_bw()\n",
    "\n",
    "dims(4,3)\n",
    "plot(p)"
   ]
  },
  {
   "cell_type": "markdown",
   "metadata": {},
   "source": [
    "## Taxonomy"
   ]
  },
  {
   "cell_type": "code",
   "execution_count": 17,
   "metadata": {
    "ExecuteTime": {
     "end_time": "2019-08-29T19:01:35.673476Z",
     "start_time": "2019-08-29T19:01:33.946Z"
    }
   },
   "outputs": [
    {
     "data": {
      "image/png": "[encoded data removed]",
      "text/plain": [
       "plot without title"
      ]
     },
     "metadata": {},
     "output_type": "display_data"
    }
   ],
   "source": [
    "# summarizing by taxonomy\n",
    "p = drep_j %>%\n",
    "    unite(Taxonomy, Phylum, Class, sep=';', remove=FALSE) %>%\n",
    "    group_by(Taxonomy, Phylum) %>%\n",
    "    summarize(n = n()) %>%\n",
    "    ungroup() %>%\n",
    "    ggplot(aes(Taxonomy, n, fill=Phylum)) +\n",
    "    geom_bar(stat='identity') +\n",
    "    coord_flip() +\n",
    "    labs(y='No. of MAGs\\n(>=99% ANI derep.)') +\n",
    "    theme_bw() \n",
    "\n",
    "dims(7,4)\n",
    "plot(p)"
   ]
  },
  {
   "cell_type": "code",
   "execution_count": 18,
   "metadata": {
    "ExecuteTime": {
     "end_time": "2019-08-29T19:01:37.026745Z",
     "start_time": "2019-08-29T19:01:35.033Z"
    }
   },
   "outputs": [
    {
     "data": {
      "image/png": "[encoded data removed]",
      "text/plain": [
       "plot without title"
      ]
     },
     "metadata": {},
     "output_type": "display_data"
    }
   ],
   "source": [
    "# summarizing by taxonomy\n",
    "p = drep_j %>%\n",
    "    unite(Taxonomy, Phylum, Class, Family, sep=';', remove=FALSE) %>%\n",
    "    group_by(Taxonomy, Phylum) %>%\n",
    "    summarize(n = n()) %>%\n",
    "    ungroup() %>%\n",
    "    ggplot(aes(Taxonomy, n, fill=Phylum)) +\n",
    "    geom_bar(stat='identity') +\n",
    "    coord_flip() +\n",
    "    labs(y='No. of MAGs\\n(>=99% ANI derep.)') +\n",
    "    theme_bw() \n",
    "\n",
    "dims(7,4)\n",
    "plot(p)"
   ]
  },
  {
   "cell_type": "markdown",
   "metadata": {},
   "source": [
    "### Taxonomic novelty"
   ]
  },
  {
   "cell_type": "code",
   "execution_count": 19,
   "metadata": {
    "ExecuteTime": {
     "end_time": "2019-08-29T19:01:41.994640Z",
     "start_time": "2019-08-29T19:01:40.695Z"
    }
   },
   "outputs": [
    {
     "data": {
      "image/png": "[encoded data removed]",
      "text/plain": [
       "plot without title"
      ]
     },
     "metadata": {},
     "output_type": "display_data"
    }
   ],
   "source": [
    "# no close ANI matches \n",
    "p = drep_j %>%\n",
    "    unite(Taxonomy, Phylum, Class, sep=';', remove=FALSE) %>%\n",
    "    mutate(closest_placement_ani = closest_placement_ani %>% as.character,\n",
    "           closest_placement_ani = ifelse(closest_placement_ani == 'N/A', \n",
    "                                          0, closest_placement_ani),\n",
    "           closest_placement_ani = ifelse(is.na(closest_placement_ani), \n",
    "                                          0, closest_placement_ani),\n",
    "           closest_placement_ani = closest_placement_ani %>% as.Num) %>%\n",
    "    mutate(has_species_placement = ifelse(closest_placement_ani >= 95,\n",
    "                                          'ANI >= 95%', 'No match')) %>%\n",
    "    ggplot(aes(Taxonomy, fill=Phylum)) +\n",
    "    geom_bar() +\n",
    "    facet_grid(. ~ has_species_placement) +\n",
    "    coord_flip() +\n",
    "    labs(y='Closest placement ANI') +\n",
    "    theme_bw() \n",
    "\n",
    "dims(7,4)\n",
    "plot(p)"
   ]
  },
  {
   "cell_type": "code",
   "execution_count": 20,
   "metadata": {
    "ExecuteTime": {
     "end_time": "2019-08-29T19:01:42.330017Z",
     "start_time": "2019-08-29T19:01:41.769Z"
    }
   },
   "outputs": [
    {
     "data": {
      "image/png": "[encoded data removed]",
      "text/plain": [
       "plot without title"
      ]
     },
     "metadata": {},
     "output_type": "display_data"
    }
   ],
   "source": [
    "p = drep_j %>%\n",
    "    filter(Genus == 'g__') %>%\n",
    "    unite(Taxonomy, Phylum, Class, Order, Family, sep='; ', remove=FALSE) %>%\n",
    "    mutate(Taxonomy = stringr::str_wrap(Taxonomy, 45),\n",
    "           Taxonomy = gsub(' ', '', Taxonomy)) %>%\n",
    "    group_by(Taxonomy, Phylum) %>%\n",
    "    summarize(n = n()) %>%\n",
    "    ungroup() %>%\n",
    "    ggplot(aes(Taxonomy, n, fill=Phylum)) +\n",
    "    geom_bar(stat='identity') +\n",
    "    coord_flip() +\n",
    "    labs(y='No. of MAGs lacking a\\ngenus-level classification') +\n",
    "    theme_bw() \n",
    "\n",
    "dims(6.5,3)\n",
    "plot(p)"
   ]
  },
  {
   "cell_type": "markdown",
   "metadata": {},
   "source": [
    "### Quality ~ taxonomy"
   ]
  },
  {
   "cell_type": "code",
   "execution_count": 21,
   "metadata": {
    "ExecuteTime": {
     "end_time": "2019-08-29T19:02:15.784496Z",
     "start_time": "2019-08-29T19:02:14.191Z"
    }
   },
   "outputs": [
    {
     "data": {
      "image/png": "[encoded data removed]",
      "text/plain": [
       "plot without title"
      ]
     },
     "metadata": {},
     "output_type": "display_data"
    }
   ],
   "source": [
    "p = drep_j %>%\n",
    "    unite(Taxonomy, Phylum, Class, sep='; ', remove=FALSE) %>%\n",
    "    dplyr::select(Taxonomy, Phylum, Completeness, Contamination) %>%\n",
    "    gather(Metric, Value, -Taxonomy, -Phylum) %>%\n",
    "    ggplot(aes(Taxonomy, Value, color=Phylum)) +\n",
    "    geom_boxplot() +\n",
    "    facet_grid(. ~ Metric, scales='free_x') +\n",
    "    coord_flip() +\n",
    "    labs(y='CheckM quality') +\n",
    "    theme_bw() \n",
    "\n",
    "dims(7,3.5)\n",
    "plot(p)"
   ]
  },
  {
   "cell_type": "code",
   "execution_count": 22,
   "metadata": {
    "ExecuteTime": {
     "end_time": "2019-08-29T19:02:16.741353Z",
     "start_time": "2019-08-29T19:02:15.088Z"
    }
   },
   "outputs": [
    {
     "data": {
      "image/png": "[encoded data removed]",
      "text/plain": [
       "plot without title"
      ]
     },
     "metadata": {},
     "output_type": "display_data"
    }
   ],
   "source": [
    "# just unclassified at genus/species\n",
    "p = drep_j %>%\n",
    "    filter(Genus == 'g__' | Species == 's__') %>%\n",
    "    unite(Taxonomy, Phylum, Class, sep='; ', remove=FALSE) %>%\n",
    "    dplyr::select(Taxonomy, Phylum, Completeness, Contamination) %>%\n",
    "    gather(Metric, Value, -Taxonomy, -Phylum) %>%\n",
    "    ggplot(aes(Taxonomy, Value, color=Phylum)) +\n",
    "    geom_boxplot() +\n",
    "    facet_grid(. ~ Metric, scales='free_x') +\n",
    "    coord_flip() +\n",
    "    labs(y='CheckM quality') +\n",
    "    theme_bw() \n",
    "\n",
    "dims(7,3.5)\n",
    "plot(p)"
   ]
  },
  {
   "cell_type": "markdown",
   "metadata": {},
   "source": [
    "# sessionInfo"
   ]
  },
  {
   "cell_type": "code",
   "execution_count": 23,
   "metadata": {
    "ExecuteTime": {
     "end_time": "2019-08-29T19:02:20.123584Z",
     "start_time": "2019-08-29T19:02:18.800Z"
    }
   },
   "outputs": [
    {
     "data": {
      "text/plain": [
       "R version 3.4.1 (2017-06-30)\n",
       "Platform: x86_64-pc-linux-gnu (64-bit)\n",
       "Running under: Ubuntu 18.04.2 LTS\n",
       "\n",
       "Matrix products: default\n",
       "BLAS: /ebio/abt3_projects/software/miniconda3_gt4.4/envs/py3_physeq/lib/R/lib/libRblas.so\n",
       "LAPACK: /ebio/abt3_projects/software/miniconda3_gt4.4/envs/py3_physeq/lib/R/lib/libRlapack.so\n",
       "\n",
       "locale:\n",
       "[1] en_US.UTF-8\n",
       "\n",
       "attached base packages:\n",
       "[1] stats     graphics  grDevices utils     datasets  methods   base     \n",
       "\n",
       "other attached packages:\n",
       "[1] bindrcpp_0.2.2    data.table_1.11.4 ggplot2_3.0.0     tidyr_0.8.1      \n",
       "[5] dplyr_0.7.6      \n",
       "\n",
       "loaded via a namespace (and not attached):\n",
       " [1] Rcpp_0.12.17     pillar_1.2.2     compiler_3.4.1   plyr_1.8.4      \n",
       " [5] bindr_0.1.1      base64enc_0.1-3  tools_3.4.1      digest_0.6.15   \n",
       " [9] uuid_0.1-2       jsonlite_1.5     evaluate_0.10.1  tibble_1.4.2    \n",
       "[13] gtable_0.2.0     pkgconfig_2.0.1  rlang_0.2.1      IRdisplay_0.4.4 \n",
       "[17] IRkernel_0.8.12  repr_0.15.0      withr_2.1.1      stringr_1.3.1   \n",
       "[21] grid_3.4.1       tidyselect_0.2.4 glue_1.3.0       R6_2.2.2        \n",
       "[25] pbdZMQ_0.3-2     reshape2_1.4.3   purrr_0.2.4      magrittr_1.5    \n",
       "[29] scales_0.5.0     htmltools_0.3.6  assertthat_0.2.0 colorspace_1.3-2\n",
       "[33] labeling_0.3     stringi_1.2.3    lazyeval_0.2.1   munsell_0.5.0   \n",
       "[37] crayon_1.3.4    "
      ]
     },
     "metadata": {},
     "output_type": "display_data"
    }
   ],
   "source": [
    "sessionInfo()"
   ]
  },
  {
   "cell_type": "code",
   "execution_count": null,
   "metadata": {},
   "outputs": [],
   "source": []
  }
 ],
 "metadata": {
  "kernelspec": {
   "display_name": "R [conda env:py3_physeq]",
   "language": "R",
   "name": "conda-env-py3_physeq-r"
  },
  "language_info": {
   "codemirror_mode": "r",
   "file_extension": ".r",
   "mimetype": "text/x-r-source",
   "name": "R",
   "pygments_lexer": "r",
   "version": "3.4.1"
  },
  "notify_time": "30",
  "toc": {
   "base_numbering": 1,
   "nav_menu": {},
   "number_sections": true,
   "sideBar": true,
   "skip_h1_title": false,
   "title_cell": "Table of Contents",
   "title_sidebar": "Contents",
   "toc_cell": true,
   "toc_position": {},
   "toc_section_display": true,
   "toc_window_display": true
  }
 },
 "nbformat": 4,
 "nbformat_minor": 2
}
